{
 "cells": [
  {
   "cell_type": "markdown",
   "metadata": {
    "id": "xoY8sy40TCb5"
   },
   "source": [
    "### IS - Brand position\n",
    "Finding Product position on Social Network (PPSN)"
   ]
  },
  {
   "cell_type": "raw",
   "metadata": {
    "colab": {
     "base_uri": "https://localhost:8080/"
    },
    "executionInfo": {
     "elapsed": 28353,
     "status": "ok",
     "timestamp": 1604024868503,
     "user": {
      "displayName": "Pacharapol O.",
      "photoUrl": "https://lh3.googleusercontent.com/a-/AOh14GiBNaVjsCxoMVUqEvSDC7eauF0V2ZD7B-TzevR1TQ=s64",
      "userId": "00378494490135533545"
     },
     "user_tz": -420
    },
    "id": "GkBEUBUqTGuf",
    "outputId": "cb22db45-820a-48fd-c11a-a0568439778f"
   },
   "source": [
    "from google.colab import drive\n",
    "drive.mount('/content/drive')"
   ]
  },
  {
   "cell_type": "raw",
   "metadata": {
    "colab": {
     "base_uri": "https://localhost:8080/"
    },
    "executionInfo": {
     "elapsed": 1693,
     "status": "ok",
     "timestamp": 1604024868819,
     "user": {
      "displayName": "Pacharapol O.",
      "photoUrl": "https://lh3.googleusercontent.com/a-/AOh14GiBNaVjsCxoMVUqEvSDC7eauF0V2ZD7B-TzevR1TQ=s64",
      "userId": "00378494490135533545"
     },
     "user_tz": -420
    },
    "id": "_5mrzpx3TH9K",
    "outputId": "129bb192-4ac2-4b03-bc89-7ee7a65d5032"
   },
   "source": [
    "cd /content/drive/My\\ Drive/Colab\\ Notebooks/Master_PJ_DRMABS/Datasource"
   ]
  },
  {
   "cell_type": "code",
   "execution_count": 1,
   "metadata": {
    "executionInfo": {
     "elapsed": 2631,
     "status": "ok",
     "timestamp": 1604024879769,
     "user": {
      "displayName": "Pacharapol O.",
      "photoUrl": "https://lh3.googleusercontent.com/a-/AOh14GiBNaVjsCxoMVUqEvSDC7eauF0V2ZD7B-TzevR1TQ=s64",
      "userId": "00378494490135533545"
     },
     "user_tz": -420
    },
    "id": "cC0cBdCdTCb6"
   },
   "outputs": [],
   "source": [
    "import networkx as nx\n",
    "import numpy as np\n",
    "import pandas as pd\n",
    "import itertools\n",
    "import math\n",
    "import string\n",
    "import json\n",
    "import pymongo\n",
    "from itertools import groupby"
   ]
  },
  {
   "cell_type": "code",
   "execution_count": 2,
   "metadata": {},
   "outputs": [
    {
     "name": "stderr",
     "output_type": "stream",
     "text": [
      "C:\\ProgramData\\Anaconda3\\lib\\site-packages\\past\\types\\oldstr.py:5: DeprecationWarning: Using or importing the ABCs from 'collections' instead of from 'collections.abc' is deprecated, and in 3.8 it will stop working\n",
      "  from collections import Iterable\n",
      "C:\\ProgramData\\Anaconda3\\lib\\site-packages\\past\\builtins\\misc.py:4: DeprecationWarning: Using or importing the ABCs from 'collections' instead of from 'collections.abc' is deprecated, and in 3.8 it will stop working\n",
      "  from collections import Mapping\n"
     ]
    }
   ],
   "source": [
    "import gensim\n",
    "import pyLDAvis.gensim\n",
    "pyLDAvis.enable_notebook()\n",
    "\n",
    "import warnings\n",
    "warnings.filterwarnings(\"ignore\", category=DeprecationWarning)\n",
    "warnings.filterwarnings(\"ignore\", category=pd.core.common.SettingWithCopyWarning)"
   ]
  },
  {
   "cell_type": "code",
   "execution_count": 3,
   "metadata": {
    "executionInfo": {
     "elapsed": 2031,
     "status": "ok",
     "timestamp": 1604024879770,
     "user": {
      "displayName": "Pacharapol O.",
      "photoUrl": "https://lh3.googleusercontent.com/a-/AOh14GiBNaVjsCxoMVUqEvSDC7eauF0V2ZD7B-TzevR1TQ=s64",
      "userId": "00378494490135533545"
     },
     "user_tz": -420
    },
    "id": "1kqXURiiTCb-"
   },
   "outputs": [],
   "source": [
    "import time\n",
    "from datetime import datetime\n",
    "today = datetime.now()"
   ]
  },
  {
   "cell_type": "code",
   "execution_count": 4,
   "metadata": {},
   "outputs": [
    {
     "name": "stderr",
     "output_type": "stream",
     "text": [
      "C:\\ProgramData\\Anaconda3\\lib\\site-packages\\statsmodels\\tools\\_testing.py:19: FutureWarning: pandas.util.testing is deprecated. Use the functions in the public API at pandas.testing instead.\n",
      "  import pandas.util.testing as tm\n"
     ]
    }
   ],
   "source": [
    "import statistics as stat\n",
    "import matplotlib.pyplot as plt\n",
    "import seaborn as sns\n",
    "from sklearn.metrics import jaccard_score\n",
    "import scipy.stats\n",
    "from scipy.spatial.distance import cosine\n",
    "#from mlxtend.evaluate import lift_score\n",
    "from gensim.models import TfidfModel"
   ]
  },
  {
   "cell_type": "code",
   "execution_count": 5,
   "metadata": {},
   "outputs": [],
   "source": [
    "# Connect MongoDB\n",
    "myclient = pymongo.MongoClient(\"mongodb://localhost:27017/\")\n",
    "mydb = myclient[\"NIDA_PPSN_PRD\"]\n",
    "col_thread = mydb[\"NIDA_PPSN_THREAD\"]\n",
    "col_comment = mydb[\"NIDA_PPSN_COMMENT\"]\n",
    "col_scrape = mydb[\"NIDA_PPSN_SCRAPE\"]"
   ]
  },
  {
   "cell_type": "markdown",
   "metadata": {},
   "source": [
    "### EDA อย่างละเอียดเพิ่มเติม"
   ]
  },
  {
   "cell_type": "code",
   "execution_count": 6,
   "metadata": {},
   "outputs": [],
   "source": [
    "def reduced_keyword(wtkn,redCol):\n",
    "    del_list = []\n",
    "    ret_wtkn = wtkn\n",
    "    for each in ret_wtkn:\n",
    "        if each not in redCol:\n",
    "            del_list.append(each)\n",
    "    ret_wtkn = [x for x in ret_wtkn if x not in del_list]\n",
    "    return ret_wtkn"
   ]
  },
  {
   "cell_type": "markdown",
   "metadata": {
    "id": "NKW--A73mzli"
   },
   "source": [
    "### 1. EDA สภาพกระทู้"
   ]
  },
  {
   "cell_type": "code",
   "execution_count": 7,
   "metadata": {},
   "outputs": [],
   "source": [
    "cursor_scrape = col_scrape.find()\n",
    "df_scr_process = pd.DataFrame(cursor_scrape)"
   ]
  },
  {
   "cell_type": "code",
   "execution_count": 8,
   "metadata": {},
   "outputs": [
    {
     "name": "stdout",
     "output_type": "stream",
     "text": [
      "กระทู้เก่าที่สุด : 2013-01-03 09:20:18\n",
      "กระทู้ใหม่ที่สุด : 2021-03-20 16:56:47\n"
     ]
    }
   ],
   "source": [
    "print('กระทู้เก่าที่สุด :',min(df_scr_process.article_date))\n",
    "print('กระทู้ใหม่ที่สุด :',max(df_scr_process.article_date))"
   ]
  },
  {
   "cell_type": "code",
   "execution_count": 9,
   "metadata": {},
   "outputs": [],
   "source": [
    "df_scr_process['article_date_date'] = df_scr_process['article_date'].dt.date\n",
    "df_scr_process['article_date_year'] = df_scr_process['article_date'].dt.year"
   ]
  },
  {
   "cell_type": "code",
   "execution_count": 10,
   "metadata": {},
   "outputs": [],
   "source": [
    "df_plotViz = df_scr_process.drop_duplicates(subset='URLs',keep='first',ignore_index=True)\n",
    "#df_plotViz = df_plotViz[df_plotViz['article_date_year']==2016]"
   ]
  },
  {
   "cell_type": "code",
   "execution_count": 11,
   "metadata": {},
   "outputs": [],
   "source": [
    "def plotLine_URLs(gb,df):\n",
    "    df_plotLine = df.groupby([gb]).count()[['URLs']]\n",
    "    df_plotLine.reset_index(inplace=True)\n",
    "    fig, ax = plt.subplots(figsize=(15, 6))\n",
    "    ax.grid(color='k', linestyle='-', linewidth=0.2)\n",
    "    sns.lineplot(data=df_plotLine, x=gb, y=\"URLs\")\n",
    "    ax.set_title('Daily URLs published')\n",
    "    plt.show()"
   ]
  },
  {
   "cell_type": "code",
   "execution_count": 12,
   "metadata": {},
   "outputs": [
    {
     "data": {
      "image/png": "[encoded data removed]",
      "text/plain": [
       "<Figure size 1080x432 with 1 Axes>"
      ]
     },
     "metadata": {
      "needs_background": "light"
     },
     "output_type": "display_data"
    }
   ],
   "source": [
    "plotLine_URLs('article_date_date',df_plotViz)"
   ]
  },
  {
   "cell_type": "markdown",
   "metadata": {},
   "source": [
    "### 2. EDA Comment"
   ]
  },
  {
   "cell_type": "code",
   "execution_count": 13,
   "metadata": {},
   "outputs": [],
   "source": [
    "cursor_thread = col_thread.find()\n",
    "df_thr_process = pd.DataFrame(cursor_thread)"
   ]
  },
  {
   "cell_type": "code",
   "execution_count": 14,
   "metadata": {},
   "outputs": [],
   "source": [
    "df_thr_process = pd.merge(df_thr_process, df_plotViz,how='inner',on='URLs')\n",
    "df_thr_process.drop(columns=['_id_x','_id_y','headline_x','Retrived_date'],inplace=True)\n",
    "df_thr_process.rename(columns={\"headline_y\":\"headline\"},inplace=True)"
   ]
  },
  {
   "cell_type": "code",
   "execution_count": 15,
   "metadata": {
    "scrolled": true
   },
   "outputs": [
    {
     "data": {
      "text/plain": [
       "Index(['URLs', 'token_headline', 't_mention_dairy', 't_mention_product',\n",
       "       't_mention_brand', 'headline', 'text', 'article_date',\n",
       "       'article_date_date', 'article_date_year'],\n",
       "      dtype='object')"
      ]
     },
     "execution_count": 15,
     "metadata": {},
     "output_type": "execute_result"
    }
   ],
   "source": [
    "df_thr_process.columns"
   ]
  },
  {
   "cell_type": "code",
   "execution_count": 16,
   "metadata": {},
   "outputs": [],
   "source": [
    "cursor_comment = col_comment.find()\n",
    "df_cmt_process = pd.DataFrame(cursor_comment)"
   ]
  },
  {
   "cell_type": "code",
   "execution_count": 17,
   "metadata": {},
   "outputs": [],
   "source": [
    "# คัด headline ที่พูดถึง domain นมทั้งหมด\n",
    "df_urls_milk = df_thr_process[(df_thr_process.t_mention_dairy.str.len() != 0)]"
   ]
  },
  {
   "cell_type": "code",
   "execution_count": 18,
   "metadata": {},
   "outputs": [],
   "source": [
    "# เมื่อ join กันแล้ว คอมเม้นทุกคอมเม้นจะอยู่ใน domain นมทั้งหมด\n",
    "df_join_url = pd.merge(df_urls_milk,df_cmt_process,how='inner',on='URLs')\n",
    "df_join_url.drop(columns=['_id','text_x','headline_y'],inplace=True)\n",
    "df_join_url.rename(columns={\"t_mention_dairy\":\"h_mention_dairy\",\"t_mention_product\":\"h_mention_product\",\"t_mention_brand\":\"h_mention_brand\"\n",
    "                            ,\"headline_x\":\"headline\",\"text_y\":\"text\"},inplace=True)\n",
    "df_join_url.set_index('commentId',inplace=True)"
   ]
  },
  {
   "cell_type": "code",
   "execution_count": 19,
   "metadata": {
    "scrolled": true
   },
   "outputs": [
    {
     "data": {
      "text/html": [
       "<div>\n",
       "<style scoped>\n",
       "    .dataframe tbody tr th:only-of-type {\n",
       "        vertical-align: middle;\n",
       "    }\n",
       "\n",
       "    .dataframe tbody tr th {\n",
       "        vertical-align: top;\n",
       "    }\n",
       "\n",
       "    .dataframe thead th {\n",
       "        text-align: right;\n",
       "    }\n",
       "</style>\n",
       "<table border=\"1\" class=\"dataframe\">\n",
       "  <thead>\n",
       "    <tr style=\"text-align: right;\">\n",
       "      <th></th>\n",
       "      <th>URLs</th>\n",
       "      <th>token_headline</th>\n",
       "      <th>h_mention_dairy</th>\n",
       "      <th>h_mention_product</th>\n",
       "      <th>h_mention_brand</th>\n",
       "      <th>headline</th>\n",
       "      <th>article_date</th>\n",
       "      <th>article_date_date</th>\n",
       "      <th>article_date_year</th>\n",
       "      <th>text</th>\n",
       "      <th>Retrived_date</th>\n",
       "      <th>token_text</th>\n",
       "      <th>cmt_mention_dairy</th>\n",
       "      <th>cmt_mention_product</th>\n",
       "      <th>cmt_mention_brand</th>\n",
       "    </tr>\n",
       "    <tr>\n",
       "      <th>commentId</th>\n",
       "      <th></th>\n",
       "      <th></th>\n",
       "      <th></th>\n",
       "      <th></th>\n",
       "      <th></th>\n",
       "      <th></th>\n",
       "      <th></th>\n",
       "      <th></th>\n",
       "      <th></th>\n",
       "      <th></th>\n",
       "      <th></th>\n",
       "      <th></th>\n",
       "      <th></th>\n",
       "      <th></th>\n",
       "      <th></th>\n",
       "    </tr>\n",
       "  </thead>\n",
       "  <tbody>\n",
       "    <tr>\n",
       "      <th>1</th>\n",
       "      <td>https://pantip.com/topic/39868603</td>\n",
       "      <td>[นม, ซีพีเมจิ, รสหวาน, หายาก]</td>\n",
       "      <td>[นม]</td>\n",
       "      <td>None</td>\n",
       "      <td>[ซีพีเมจิ]</td>\n",
       "      <td>นมเมจิรสหวานทำไมหายากจังคะ</td>\n",
       "      <td>2020-05-05 13:22:59</td>\n",
       "      <td>2020-05-05</td>\n",
       "      <td>2020</td>\n",
       "      <td>เมื่อก่อนหลายปีมาแล้ว ในเซเว่นยังมีนมเมจิรสหวา...</td>\n",
       "      <td>2021-03-22 21:00:24.737</td>\n",
       "      <td>[ปี, 7-Eleven, ยังมี, นม, ซีพีเมจิ, รสหวาน, ขา...</td>\n",
       "      <td>[นม, นม]</td>\n",
       "      <td>None</td>\n",
       "      <td>[ซีพีเมจิ]</td>\n",
       "    </tr>\n",
       "    <tr>\n",
       "      <th>2</th>\n",
       "      <td>https://pantip.com/topic/39868603</td>\n",
       "      <td>[นม, ซีพีเมจิ, รสหวาน, หายาก]</td>\n",
       "      <td>[นม]</td>\n",
       "      <td>None</td>\n",
       "      <td>[ซีพีเมจิ]</td>\n",
       "      <td>นมเมจิรสหวานทำไมหายากจังคะ</td>\n",
       "      <td>2020-05-05 13:22:59</td>\n",
       "      <td>2020-05-05</td>\n",
       "      <td>2020</td>\n",
       "      <td>เบาหวานครับ แฮ่ๆ</td>\n",
       "      <td>2021-03-22 21:00:24.737</td>\n",
       "      <td>[เบาหวาน, แฮ่]</td>\n",
       "      <td>[]</td>\n",
       "      <td>None</td>\n",
       "      <td>[]</td>\n",
       "    </tr>\n",
       "  </tbody>\n",
       "</table>\n",
       "</div>"
      ],
      "text/plain": [
       "                                        URLs                 token_headline  \\\n",
       "commentId                                                                     \n",
       "1          https://pantip.com/topic/39868603  [นม, ซีพีเมจิ, รสหวาน, หายาก]   \n",
       "2          https://pantip.com/topic/39868603  [นม, ซีพีเมจิ, รสหวาน, หายาก]   \n",
       "\n",
       "          h_mention_dairy h_mention_product h_mention_brand  \\\n",
       "commentId                                                     \n",
       "1                    [นม]              None      [ซีพีเมจิ]   \n",
       "2                    [นม]              None      [ซีพีเมจิ]   \n",
       "\n",
       "                             headline        article_date article_date_date  \\\n",
       "commentId                                                                     \n",
       "1          นมเมจิรสหวานทำไมหายากจังคะ 2020-05-05 13:22:59        2020-05-05   \n",
       "2          นมเมจิรสหวานทำไมหายากจังคะ 2020-05-05 13:22:59        2020-05-05   \n",
       "\n",
       "           article_date_year  \\\n",
       "commentId                      \n",
       "1                       2020   \n",
       "2                       2020   \n",
       "\n",
       "                                                        text  \\\n",
       "commentId                                                      \n",
       "1          เมื่อก่อนหลายปีมาแล้ว ในเซเว่นยังมีนมเมจิรสหวา...   \n",
       "2                                           เบาหวานครับ แฮ่ๆ   \n",
       "\n",
       "                    Retrived_date  \\\n",
       "commentId                           \n",
       "1         2021-03-22 21:00:24.737   \n",
       "2         2021-03-22 21:00:24.737   \n",
       "\n",
       "                                                  token_text  \\\n",
       "commentId                                                      \n",
       "1          [ปี, 7-Eleven, ยังมี, นม, ซีพีเมจิ, รสหวาน, ขา...   \n",
       "2                                             [เบาหวาน, แฮ่]   \n",
       "\n",
       "          cmt_mention_dairy cmt_mention_product cmt_mention_brand  \n",
       "commentId                                                          \n",
       "1                  [นม, นม]                None        [ซีพีเมจิ]  \n",
       "2                        []                None                []  "
      ]
     },
     "execution_count": 19,
     "metadata": {},
     "output_type": "execute_result"
    }
   ],
   "source": [
    "df_join_url.head(2)"
   ]
  },
  {
   "cell_type": "code",
   "execution_count": 20,
   "metadata": {},
   "outputs": [
    {
     "data": {
      "text/plain": [
       "(18084, 15)"
      ]
     },
     "execution_count": 20,
     "metadata": {},
     "output_type": "execute_result"
    }
   ],
   "source": [
    "df_join_url.shape"
   ]
  },
  {
   "cell_type": "code",
   "execution_count": 21,
   "metadata": {},
   "outputs": [],
   "source": [
    "dictionary = gensim.corpora.Dictionary(df_join_url['token_text'])"
   ]
  },
  {
   "cell_type": "code",
   "execution_count": 22,
   "metadata": {},
   "outputs": [],
   "source": [
    "df_join_url['token_bow'] = df_join_url[\"token_text\"].map(dictionary.doc2bow)\n",
    "df_join_url['token_text_cnt'] = df_join_url[\"token_bow\"].apply(lambda x:[(dictionary[id_], frequence) for id_, frequence in x])"
   ]
  },
  {
   "cell_type": "code",
   "execution_count": 23,
   "metadata": {},
   "outputs": [],
   "source": [
    "df_join_url.drop(columns=['Retrived_date','token_bow'],inplace=True)"
   ]
  },
  {
   "cell_type": "code",
   "execution_count": 24,
   "metadata": {
    "scrolled": true
   },
   "outputs": [],
   "source": [
    "df_join_url.insert(3,'docs_mention_domain',value=None)\n",
    "#df_join_url.insert(4,'docs_mention_product',value=None)\n",
    "df_join_url.insert(4,'docs_mention_brand',value=None)"
   ]
  },
  {
   "cell_type": "code",
   "execution_count": 25,
   "metadata": {},
   "outputs": [
    {
     "name": "stdout",
     "output_type": "stream",
     "text": [
      "จำนวน headline ที่มีการพูดถึง dairy : 1133\n",
      "จำนวน comment จากกระทู้ที่มีการพูดถึง dairy : 18084\n",
      "* comment ภายกระทู้ที่มีการพูดถึง dairy\n"
     ]
    }
   ],
   "source": [
    "#Line 29\n",
    "print('จำนวน headline ที่มีการพูดถึง dairy :',df_urls_milk.shape[0])\n",
    "print('จำนวน comment จากกระทู้ที่มีการพูดถึง dairy :',df_join_url.shape[0])\n",
    "print('* comment ภายกระทู้ที่มีการพูดถึง dairy')"
   ]
  },
  {
   "cell_type": "code",
   "execution_count": 26,
   "metadata": {
    "scrolled": true
   },
   "outputs": [
    {
     "name": "stdout",
     "output_type": "stream",
     "text": [
      "จำนวน headline ที่มีการพูดถึง product : 0\n",
      "จำนวน headline ที่ไม่มีการพูดถึง product : 0\n",
      "จำนวน comment ที่มีการพูดถึง product : 0\n",
      "จำนวน comment ที่ไม่พูดถึง product เลย : 0\n",
      "* ยังไม่ impute product จากขั้วกระทู้\n"
     ]
    }
   ],
   "source": [
    "#Line 30\n",
    "print('จำนวน headline ที่มีการพูดถึง product :',df_urls_milk[df_urls_milk['t_mention_product'].str.len()>2].shape[0])\n",
    "print('จำนวน headline ที่ไม่มีการพูดถึง product :',df_urls_milk[df_urls_milk['t_mention_product'].str.len()<=2].shape[0])\n",
    "print('จำนวน comment ที่มีการพูดถึง product :',df_join_url[df_join_url['cmt_mention_product'].str.len()>2].shape[0])\n",
    "print('จำนวน comment ที่ไม่พูดถึง product เลย :',df_join_url[df_join_url['cmt_mention_product'].str.len()<=2].shape[0])\n",
    "print('* ยังไม่ impute product จากขั้วกระทู้')"
   ]
  },
  {
   "cell_type": "code",
   "execution_count": 27,
   "metadata": {
    "scrolled": true
   },
   "outputs": [
    {
     "name": "stdout",
     "output_type": "stream",
     "text": [
      "จำนวน headline ที่มีการพูดถึง brand : 4\n",
      "จำนวน headline ที่ไม่มีการพูดถึง brand : 1129\n",
      "จำนวน comment ที่มีการพูดถึง brand : 424\n",
      "จำนวน comment ที่ไม่พูดถึง brand เลย : 17660\n",
      "* ยังไม่ impute brand จากขั้วกระทู้\n"
     ]
    }
   ],
   "source": [
    "#Line 31\n",
    "print('จำนวน headline ที่มีการพูดถึง brand :',df_urls_milk[df_urls_milk['t_mention_brand'].str.len()>2].shape[0])\n",
    "print('จำนวน headline ที่ไม่มีการพูดถึง brand :',df_urls_milk[df_urls_milk['t_mention_brand'].str.len()<=2].shape[0])\n",
    "print('จำนวน comment ที่มีการพูดถึง brand :',df_join_url[df_join_url['cmt_mention_brand'].str.len()>2].shape[0])\n",
    "print('จำนวน comment ที่ไม่พูดถึง brand เลย :',df_join_url[df_join_url['cmt_mention_brand'].str.len()<=2].shape[0])\n",
    "print('* ยังไม่ impute brand จากขั้วกระทู้')"
   ]
  },
  {
   "cell_type": "markdown",
   "metadata": {},
   "source": [
    "### Impute brand & product เข้า comment และสรุปก่อนเข้า BoW"
   ]
  },
  {
   "cell_type": "markdown",
   "metadata": {},
   "source": [
    "Impute จากหัวกระทู้\n",
    "\n",
    "1. headline มี comment มี เอา comment\n",
    "2. headline มี comment ไม่มี เอา headline\n",
    "3. headline ไม่มี comment มี เอา comment\n",
    "4. ไม่มีทั้งคู่ ปล่อยไป"
   ]
  },
  {
   "cell_type": "code",
   "execution_count": 28,
   "metadata": {},
   "outputs": [],
   "source": [
    "for i,e in enumerate(df_join_url.index,0):\n",
    "    if ((len(df_join_url.h_mention_dairy.iloc[i]) > 0) & (len(df_join_url.cmt_mention_dairy.iloc[i]) > 0)):         # 1.\n",
    "        df_join_url['docs_mention_domain'].iloc[i] = df_join_url.cmt_mention_dairy.iloc[i]\n",
    "    elif  ((len(df_join_url.h_mention_dairy.iloc[i]) > 0) & (len(df_join_url.cmt_mention_dairy.iloc[i]) == 0)):  # 2.\n",
    "        df_join_url['docs_mention_domain'].iloc[i] = df_join_url.h_mention_dairy.iloc[i]\n",
    "    elif  ((len(df_join_url.h_mention_dairy.iloc[i]) == 0) & (len(df_join_url.cmt_mention_dairy.iloc[i]) > 0)):  # 3.\n",
    "        df_join_url['docs_mention_domain'].iloc[i] = df_join_url.cmt_mention_dairy.iloc[i]\n",
    "    else:\n",
    "        df_join_url['docs_mention_domain'].iloc[i] = None"
   ]
  },
  {
   "cell_type": "code",
   "execution_count": 29,
   "metadata": {},
   "outputs": [],
   "source": [
    "for i,e in enumerate(df_join_url.index,0):\n",
    "    if (len(df_join_url.h_mention_brand.iloc[i]) > 0) & (len(df_join_url.cmt_mention_brand.iloc[i]) > 0):         # 1.\n",
    "        df_join_url['docs_mention_brand'].iloc[i] = df_join_url.cmt_mention_brand.iloc[i]\n",
    "    elif  (len(df_join_url.h_mention_brand.iloc[i]) > 0) & (len(df_join_url.cmt_mention_brand.iloc[i]) == 0):  # 2.\n",
    "        df_join_url['docs_mention_brand'].iloc[i] = df_join_url.h_mention_brand.iloc[i]\n",
    "    elif  (len(df_join_url.h_mention_brand.iloc[i]) == 0) & (len(df_join_url.cmt_mention_brand.iloc[i]) > 0):  # 3.\n",
    "        df_join_url['docs_mention_brand'].iloc[i] = df_join_url.cmt_mention_brand.iloc[i]\n",
    "    else:\n",
    "        df_join_url['docs_mention_brand'].iloc[i] = None"
   ]
  },
  {
   "cell_type": "code",
   "execution_count": 30,
   "metadata": {},
   "outputs": [],
   "source": [
    "df_join_url.drop(columns=['h_mention_dairy','h_mention_product','h_mention_brand'\n",
    "                          ,'cmt_mention_dairy','cmt_mention_product','cmt_mention_brand'],inplace=True)"
   ]
  },
  {
   "cell_type": "code",
   "execution_count": 31,
   "metadata": {
    "scrolled": false
   },
   "outputs": [
    {
     "data": {
      "image/png": "[encoded data removed]",
      "text/plain": [
       "<Figure size 1080x432 with 1 Axes>"
      ]
     },
     "metadata": {
      "needs_background": "light"
     },
     "output_type": "display_data"
    }
   ],
   "source": [
    "# Domain Reduce\n",
    "df_plotViz = df_join_url.copy()\n",
    "plotLine_URLs('article_date_date',df_plotViz.drop_duplicates(subset='URLs',keep='first',ignore_index=True))"
   ]
  },
  {
   "cell_type": "markdown",
   "metadata": {},
   "source": [
    "### สรุปผลหลัง Impute"
   ]
  },
  {
   "cell_type": "code",
   "execution_count": 32,
   "metadata": {},
   "outputs": [],
   "source": [
    "df_url_eda = df_join_url.copy()\n",
    "df_url_eda['mention_domain_count'] = df_url_eda['docs_mention_domain'].apply(lambda x: 0 if x is None else len(x))\n",
    "#df_url_eda['mention_product_count'] = df_url_eda['mention_product'].apply(lambda x: 0 if x is None else len(x))\n",
    "df_url_eda['mention_brand_count'] = df_url_eda['docs_mention_brand'].apply(lambda x: 0 if x is None else len(x))"
   ]
  },
  {
   "cell_type": "code",
   "execution_count": 33,
   "metadata": {},
   "outputs": [
    {
     "data": {
      "text/html": [
       "<div>\n",
       "<style scoped>\n",
       "    .dataframe tbody tr th:only-of-type {\n",
       "        vertical-align: middle;\n",
       "    }\n",
       "\n",
       "    .dataframe tbody tr th {\n",
       "        vertical-align: top;\n",
       "    }\n",
       "\n",
       "    .dataframe thead th {\n",
       "        text-align: right;\n",
       "    }\n",
       "</style>\n",
       "<table border=\"1\" class=\"dataframe\">\n",
       "  <thead>\n",
       "    <tr style=\"text-align: right;\">\n",
       "      <th></th>\n",
       "      <th>URLs</th>\n",
       "      <th>token_headline</th>\n",
       "      <th>docs_mention_domain</th>\n",
       "      <th>docs_mention_brand</th>\n",
       "      <th>headline</th>\n",
       "      <th>article_date</th>\n",
       "      <th>article_date_date</th>\n",
       "      <th>article_date_year</th>\n",
       "      <th>text</th>\n",
       "      <th>token_text</th>\n",
       "      <th>token_text_cnt</th>\n",
       "      <th>mention_domain_count</th>\n",
       "      <th>mention_brand_count</th>\n",
       "    </tr>\n",
       "    <tr>\n",
       "      <th>commentId</th>\n",
       "      <th></th>\n",
       "      <th></th>\n",
       "      <th></th>\n",
       "      <th></th>\n",
       "      <th></th>\n",
       "      <th></th>\n",
       "      <th></th>\n",
       "      <th></th>\n",
       "      <th></th>\n",
       "      <th></th>\n",
       "      <th></th>\n",
       "      <th></th>\n",
       "      <th></th>\n",
       "    </tr>\n",
       "  </thead>\n",
       "  <tbody>\n",
       "    <tr>\n",
       "      <th>1</th>\n",
       "      <td>https://pantip.com/topic/39868603</td>\n",
       "      <td>[นม, ซีพีเมจิ, รสหวาน, หายาก]</td>\n",
       "      <td>[นม, นม]</td>\n",
       "      <td>[ซีพีเมจิ]</td>\n",
       "      <td>นมเมจิรสหวานทำไมหายากจังคะ</td>\n",
       "      <td>2020-05-05 13:22:59</td>\n",
       "      <td>2020-05-05</td>\n",
       "      <td>2020</td>\n",
       "      <td>เมื่อก่อนหลายปีมาแล้ว ในเซเว่นยังมีนมเมจิรสหวา...</td>\n",
       "      <td>[ปี, 7-Eleven, ยังมี, นม, ซีพีเมจิ, รสหวาน, ขา...</td>\n",
       "      <td>[(7-Eleven, 1), (Tops, 1), (กลาง, 1), (ขวด, 2)...</td>\n",
       "      <td>2</td>\n",
       "      <td>1</td>\n",
       "    </tr>\n",
       "    <tr>\n",
       "      <th>2</th>\n",
       "      <td>https://pantip.com/topic/39868603</td>\n",
       "      <td>[นม, ซีพีเมจิ, รสหวาน, หายาก]</td>\n",
       "      <td>[นม]</td>\n",
       "      <td>[ซีพีเมจิ]</td>\n",
       "      <td>นมเมจิรสหวานทำไมหายากจังคะ</td>\n",
       "      <td>2020-05-05 13:22:59</td>\n",
       "      <td>2020-05-05</td>\n",
       "      <td>2020</td>\n",
       "      <td>เบาหวานครับ แฮ่ๆ</td>\n",
       "      <td>[เบาหวาน, แฮ่]</td>\n",
       "      <td>[(เบาหวาน, 1), (แฮ่, 1)]</td>\n",
       "      <td>1</td>\n",
       "      <td>1</td>\n",
       "    </tr>\n",
       "  </tbody>\n",
       "</table>\n",
       "</div>"
      ],
      "text/plain": [
       "                                        URLs                 token_headline  \\\n",
       "commentId                                                                     \n",
       "1          https://pantip.com/topic/39868603  [นม, ซีพีเมจิ, รสหวาน, หายาก]   \n",
       "2          https://pantip.com/topic/39868603  [นม, ซีพีเมจิ, รสหวาน, หายาก]   \n",
       "\n",
       "          docs_mention_domain docs_mention_brand                    headline  \\\n",
       "commentId                                                                      \n",
       "1                    [นม, นม]         [ซีพีเมจิ]  นมเมจิรสหวานทำไมหายากจังคะ   \n",
       "2                        [นม]         [ซีพีเมจิ]  นมเมจิรสหวานทำไมหายากจังคะ   \n",
       "\n",
       "                 article_date article_date_date  article_date_year  \\\n",
       "commentId                                                            \n",
       "1         2020-05-05 13:22:59        2020-05-05               2020   \n",
       "2         2020-05-05 13:22:59        2020-05-05               2020   \n",
       "\n",
       "                                                        text  \\\n",
       "commentId                                                      \n",
       "1          เมื่อก่อนหลายปีมาแล้ว ในเซเว่นยังมีนมเมจิรสหวา...   \n",
       "2                                           เบาหวานครับ แฮ่ๆ   \n",
       "\n",
       "                                                  token_text  \\\n",
       "commentId                                                      \n",
       "1          [ปี, 7-Eleven, ยังมี, นม, ซีพีเมจิ, รสหวาน, ขา...   \n",
       "2                                             [เบาหวาน, แฮ่]   \n",
       "\n",
       "                                              token_text_cnt  \\\n",
       "commentId                                                      \n",
       "1          [(7-Eleven, 1), (Tops, 1), (กลาง, 1), (ขวด, 2)...   \n",
       "2                                   [(เบาหวาน, 1), (แฮ่, 1)]   \n",
       "\n",
       "           mention_domain_count  mention_brand_count  \n",
       "commentId                                             \n",
       "1                             2                    1  \n",
       "2                             1                    1  "
      ]
     },
     "execution_count": 33,
     "metadata": {},
     "output_type": "execute_result"
    }
   ],
   "source": [
    "df_url_eda.head(2)"
   ]
  },
  {
   "cell_type": "code",
   "execution_count": 34,
   "metadata": {
    "scrolled": true
   },
   "outputs": [
    {
     "data": {
      "text/plain": [
       "(18084, 13)"
      ]
     },
     "execution_count": 34,
     "metadata": {},
     "output_type": "execute_result"
    }
   ],
   "source": [
    "df_url_eda.shape"
   ]
  },
  {
   "cell_type": "raw",
   "metadata": {
    "scrolled": true
   },
   "source": [
    "print('จำนวนความเห็นที่มีการพูดถึง product :',df_url_eda[df_url_eda['mention_product_count']>0].shape[0])\n",
    "print('จำนวนความเห็นที่ไม่พูดถึง product เลย :',df_url_eda[df_url_eda['mention_product_count']<=0].shape[0])\n",
    "print('* impute product จากขั้วกระทู้แล้ว')"
   ]
  },
  {
   "cell_type": "code",
   "execution_count": 35,
   "metadata": {},
   "outputs": [
    {
     "name": "stdout",
     "output_type": "stream",
     "text": [
      "จำนวนความเห็นที่มีการพูดถึง brand : 5632\n",
      "จำนวนความเห็นที่ไม่พูดถึง brand เลย : 12452\n",
      "* impute product จากขั้วกระทู้แล้ว\n"
     ]
    }
   ],
   "source": [
    "print('จำนวนความเห็นที่มีการพูดถึง brand :',df_url_eda[df_url_eda['mention_brand_count']>0].shape[0])\n",
    "print('จำนวนความเห็นที่ไม่พูดถึง brand เลย :',df_url_eda[df_url_eda['mention_brand_count']<=0].shape[0])\n",
    "print('* impute product จากขั้วกระทู้แล้ว')"
   ]
  },
  {
   "cell_type": "raw",
   "metadata": {},
   "source": [
    "df_join_url.to_excel('df_join_url.xlsx',index=False)"
   ]
  },
  {
   "cell_type": "raw",
   "metadata": {
    "scrolled": true
   },
   "source": [
    "df_withFlavor = df_url_eda[(df_url_eda['mention_brand_count']>0)&(df_url_eda['mention_product_count']>0)]\n",
    "df_withOutFlavor = df_url_eda[(df_url_eda['mention_brand_count']<=0)|(df_url_eda['mention_product_count']<=0)]\n",
    "df_withFlavor['concat_domain'] = df_withFlavor['docs_mention_domain'].apply(lambda x: x if x is None else list(set(x)))\n",
    "df_withFlavor['concat_brand'] = df_withFlavor['docs_mention_brand'].apply(lambda x: x if x is None else list(set(x)))\n",
    "df_withFlavor['concat_product'] = df_withFlavor['mention_product'].apply(lambda x: x if x is None else list(set(x)))"
   ]
  },
  {
   "cell_type": "raw",
   "metadata": {},
   "source": [
    "print('จำนวนความเห็นที่ระบุยี่ห้อและ flavor ได้ :',df_withFlavor.shape[0])"
   ]
  },
  {
   "cell_type": "raw",
   "metadata": {},
   "source": [
    "print('จำนวนความเห็นที่ระบุยี่ห้อและ flavor ไม่ได้ (แต่พูดเกี่ยวกับนม) :',df_withOutFlavor.shape[0])"
   ]
  },
  {
   "cell_type": "markdown",
   "metadata": {},
   "source": [
    "### ค้นหา Flavor ที่มีอยู่จริงในตลาดจาก Social"
   ]
  },
  {
   "cell_type": "raw",
   "metadata": {},
   "source": [
    "def concat_flavor(x,y):\n",
    "    listflav = []\n",
    "    for i in x:\n",
    "        for j in y:\n",
    "            listflav.append(i+j)\n",
    "    return listflav"
   ]
  },
  {
   "cell_type": "code",
   "execution_count": 36,
   "metadata": {},
   "outputs": [],
   "source": [
    "def freq_brand(x):\n",
    "    #e = eval(x)\n",
    "    e = x\n",
    "    e.sort()\n",
    "    f = [(k,len(list(g))) for k, g in groupby(e)]\n",
    "    return list(set(f))"
   ]
  },
  {
   "cell_type": "raw",
   "metadata": {},
   "source": [
    "df_withFlavor['mention_product'] = df_withFlavor.apply(lambda x: concat_flavor(x.concat_brand,x.concat_product), axis=1)\n",
    "df_withFlavor['mention_product'] = df_withFlavor['mention_product'].apply(lambda x: freq_brand(x))"
   ]
  },
  {
   "cell_type": "raw",
   "metadata": {},
   "source": [
    "df_withFlavor.drop(columns=['mention_domain_count','mention_product_count','mention_brand_count'\n",
    "                          ,'concat_domain','concat_brand','concat_product'],inplace=True)\n",
    "df_withOutFlavor.drop(columns=['mention_domain_count','mention_product_count','mention_brand_count'],inplace=True)"
   ]
  },
  {
   "cell_type": "raw",
   "metadata": {},
   "source": [
    "df_flavor_cooc = pd.concat([pd.DataFrame(s,columns=['w','c']).set_index('w') for s in df_withFlavor[\"mention_product\"]], axis=1, sort=False).fillna(0).T.set_index(df_withFlavor.index)"
   ]
  },
  {
   "cell_type": "markdown",
   "metadata": {},
   "source": [
    "สรุปผล ลง Excel ไปทำ EDA ต่อได้"
   ]
  },
  {
   "cell_type": "code",
   "execution_count": 37,
   "metadata": {},
   "outputs": [],
   "source": [
    "df_url_eda = df_join_url.copy()\n",
    "df_url_eda['docs_mention_domain'] = df_url_eda['docs_mention_domain'].apply(lambda x: x if x is None else freq_brand(x))\n",
    "df_url_eda['docs_mention_brand'] = df_url_eda['docs_mention_brand'].apply(lambda x: x if x is None else freq_brand(x))"
   ]
  },
  {
   "cell_type": "code",
   "execution_count": 38,
   "metadata": {
    "scrolled": true
   },
   "outputs": [
    {
     "data": {
      "text/plain": [
       "Index(['URLs', 'token_headline', 'docs_mention_domain', 'docs_mention_brand',\n",
       "       'headline', 'article_date', 'article_date_date', 'article_date_year',\n",
       "       'text', 'token_text', 'token_text_cnt'],\n",
       "      dtype='object')"
      ]
     },
     "execution_count": 38,
     "metadata": {},
     "output_type": "execute_result"
    }
   ],
   "source": [
    "df_url_eda.columns"
   ]
  },
  {
   "cell_type": "code",
   "execution_count": 39,
   "metadata": {},
   "outputs": [],
   "source": [
    "df_a = pd.concat([pd.DataFrame(s,columns=['w','c']).set_index('w') for s in df_url_eda[\"docs_mention_domain\"]], axis=1, sort=False).fillna(0).T.set_index(df_url_eda.index)\n",
    "df_b = pd.concat([pd.DataFrame(s,columns=['w','c']).set_index('w') for s in df_url_eda[\"docs_mention_brand\"]], axis=1, sort=False).fillna(0).T.set_index(df_url_eda.index)\n",
    "#df_c = pd.concat([pd.DataFrame(s,columns=['w','c']).set_index('w') for s in df_final[\"mention_product\"]], axis=1, sort=False).fillna(0).T.set_index(df_final.index)"
   ]
  },
  {
   "cell_type": "code",
   "execution_count": 40,
   "metadata": {},
   "outputs": [
    {
     "data": {
      "text/plain": [
       "นม              15812.0\n",
       "นมโค             2755.0\n",
       "นมแม่            2384.0\n",
       "โยเกิร์ต         2354.0\n",
       "นมผง             2349.0\n",
       "กินนม            2182.0\n",
       "นมสด             2057.0\n",
       "นมกล่อง          1709.0\n",
       "ดื่มนม           1632.0\n",
       "uht              1068.0\n",
       "นมเปรี้ยว        1059.0\n",
       "พาสเจอร์ไรส์      939.0\n",
       "นมถั่วเหลือง      689.0\n",
       "นมข้น             492.0\n",
       "นมแพะ             439.0\n",
       "นมโรงเรียน        391.0\n",
       "นมขวด             260.0\n",
       "ขวดนม             219.0\n",
       "หย่านม             91.0\n",
       "dtype: float64"
      ]
     },
     "execution_count": 40,
     "metadata": {},
     "output_type": "execute_result"
    }
   ],
   "source": [
    "df_a.sum().sort_values(ascending=False)"
   ]
  },
  {
   "cell_type": "code",
   "execution_count": 41,
   "metadata": {},
   "outputs": [
    {
     "data": {
      "text/plain": [
       "(18084, 19)"
      ]
     },
     "execution_count": 41,
     "metadata": {},
     "output_type": "execute_result"
    }
   ],
   "source": [
    "df_a.shape"
   ]
  },
  {
   "cell_type": "code",
   "execution_count": 42,
   "metadata": {},
   "outputs": [
    {
     "data": {
      "text/plain": [
       "ซีพีเมจิ       2071.0\n",
       "ไทยเดนมาร์ค    1463.0\n",
       "โฟร์โมสต์      1435.0\n",
       "ดัชมิลล์        904.0\n",
       "จิตรลดา         788.0\n",
       "หนองโพ          609.0\n",
       "โชคชัย          221.0\n",
       "เอ็มมิลค์        99.0\n",
       "บีทาเก้น         72.0\n",
       "แดรี่โฮม         69.0\n",
       "คาเนชั่น         36.0\n",
       "แมคโนเลีย         4.0\n",
       "dtype: float64"
      ]
     },
     "execution_count": 42,
     "metadata": {},
     "output_type": "execute_result"
    }
   ],
   "source": [
    "df_b.sum().sort_values(ascending=False)"
   ]
  },
  {
   "cell_type": "code",
   "execution_count": 43,
   "metadata": {},
   "outputs": [
    {
     "data": {
      "text/plain": [
       "(18084, 12)"
      ]
     },
     "execution_count": 43,
     "metadata": {},
     "output_type": "execute_result"
    }
   ],
   "source": [
    "df_b.shape"
   ]
  },
  {
   "cell_type": "markdown",
   "metadata": {},
   "source": [
    "### เก็บข้อมูลที่ Filter Domain นมเปรี้ยว นมถั่วเหลือง UHT ออก ลง MongoDB"
   ]
  },
  {
   "cell_type": "raw",
   "metadata": {},
   "source": [
    "# EDA ลบประเภทนมที่ไม่เกี่ยวข้องแบบเดี่ยวๆ ออกไป ยกเว้นส่วนที่มีการกล่าวเปรียบเทียบ\n",
    "df_cpy = df_a.copy()\n",
    "df_cpy[~((df_cpy['นมเปรี้ยว']>0)&~((df_cpy['นมสด']>0)|(df_cpy['นมโค']>0)|(df_cpy['พาสเจอร์ไรส์']>0)))]"
   ]
  },
  {
   "cell_type": "code",
   "execution_count": 44,
   "metadata": {},
   "outputs": [],
   "source": [
    "# ลบการพูดถึงประเภทนมที่ไม่เกี่ยวข้องแบบเดี่ยวๆ ออกไป ยกเว้นส่วนที่มีการกล่าวเปรียบเทียบกับนมพาสเจอร์ไรส์\n",
    "# เป็นข้อจำกัดเพื่อควบคุม Industrial Bias ให้มากที่สุด\n",
    "df_cpy = df_a.copy()\n",
    "\n",
    "df_cpy = df_cpy[~((df_cpy['uht']>0)&~((df_cpy['นมสด']>0)|(df_cpy['นมโค']>0)|(df_cpy['พาสเจอร์ไรส์']>0)))]            # UHT\n",
    "df_cpy = df_cpy[~((df_cpy['นมกล่อง']>0)&~((df_cpy['นมสด']>0)|(df_cpy['นมโค']>0)|(df_cpy['พาสเจอร์ไรส์']>0)))]     # UHT\n",
    "df_cpy = df_cpy[~((df_cpy['นมโรงเรียน']>0)&~((df_cpy['นมสด']>0)|(df_cpy['นมโค']>0)|(df_cpy['พาสเจอร์ไรส์']>0)))]  # UHT\n",
    "df_cpy = df_cpy[~((df_cpy['นมเปรี้ยว']>0)&~((df_cpy['นมสด']>0)|(df_cpy['นมโค']>0)|(df_cpy['พาสเจอร์ไรส์']>0)))]     # DY\n",
    "df_cpy = df_cpy[~((df_cpy['โยเกิร์ต']>0)&~((df_cpy['นมสด']>0)|(df_cpy['นมโค']>0)|(df_cpy['พาสเจอร์ไรส์']>0)))]       # SY,SET\n",
    "df_cpy = df_cpy[~((df_cpy['นมถั่วเหลือง']>0)&~((df_cpy['นมสด']>0)|(df_cpy['นมโค']>0)|(df_cpy['พาสเจอร์ไรส์']>0)))] # Soybean\n",
    "df_cpy = df_cpy[~((df_cpy['นมข้น']>0)&~((df_cpy['นมสด']>0)|(df_cpy['นมโค']>0)|(df_cpy['พาสเจอร์ไรส์']>0)))]         # Condense\n",
    "df_cpy = df_cpy[~((df_cpy['นมแพะ']>0)&~((df_cpy['นมสด']>0)|(df_cpy['นมโค']>0)|(df_cpy['พาสเจอร์ไรส์']>0)))]       # Goat\n",
    "df_cpy = df_cpy[~((df_cpy['นมแม่']>0)&~((df_cpy['นมสด']>0)|(df_cpy['นมโค']>0)|(df_cpy['พาสเจอร์ไรส์']>0)))]        # Breast milk"
   ]
  },
  {
   "cell_type": "code",
   "execution_count": 45,
   "metadata": {},
   "outputs": [
    {
     "data": {
      "text/plain": [
       "(12546, 19)"
      ]
     },
     "execution_count": 45,
     "metadata": {},
     "output_type": "execute_result"
    }
   ],
   "source": [
    "df_cpy.shape"
   ]
  },
  {
   "cell_type": "code",
   "execution_count": 46,
   "metadata": {},
   "outputs": [
    {
     "data": {
      "text/plain": [
       "นม              12878.0\n",
       "นมโค             2755.0\n",
       "นมสด             2057.0\n",
       "กินนม            1688.0\n",
       "ดื่มนม           1485.0\n",
       "นมผง             1446.0\n",
       "พาสเจอร์ไรส์      939.0\n",
       "uht               503.0\n",
       "นมแม่             425.0\n",
       "นมกล่อง           387.0\n",
       "โยเกิร์ต          338.0\n",
       "นมถั่วเหลือง      317.0\n",
       "นมแพะ             215.0\n",
       "นมข้น             189.0\n",
       "นมเปรี้ยว         158.0\n",
       "นมขวด             149.0\n",
       "ขวดนม             129.0\n",
       "นมโรงเรียน         69.0\n",
       "หย่านม             54.0\n",
       "dtype: float64"
      ]
     },
     "execution_count": 46,
     "metadata": {},
     "output_type": "execute_result"
    }
   ],
   "source": [
    "df_cpy.sum().sort_values(ascending=False)"
   ]
  },
  {
   "cell_type": "code",
   "execution_count": 47,
   "metadata": {
    "scrolled": true
   },
   "outputs": [],
   "source": [
    "df_process_comment = pd.merge(df_url_eda, df_cpy.reset_index().iloc[:,0],how='inner',on='commentId')"
   ]
  },
  {
   "cell_type": "code",
   "execution_count": 48,
   "metadata": {},
   "outputs": [
    {
     "data": {
      "text/plain": [
       "(12546, 12)"
      ]
     },
     "execution_count": 48,
     "metadata": {},
     "output_type": "execute_result"
    }
   ],
   "source": [
    "df_process_comment.shape"
   ]
  },
  {
   "cell_type": "code",
   "execution_count": 49,
   "metadata": {},
   "outputs": [],
   "source": [
    "df_b = pd.concat([pd.DataFrame(s,columns=['w','c']).set_index('w') for s in df_process_comment[\"docs_mention_brand\"]]\n",
    "                 , axis=1, sort=False).fillna(0).T.set_index(df_process_comment.index)"
   ]
  },
  {
   "cell_type": "code",
   "execution_count": 53,
   "metadata": {},
   "outputs": [
    {
     "data": {
      "text/html": [
       "<div>\n",
       "<style scoped>\n",
       "    .dataframe tbody tr th:only-of-type {\n",
       "        vertical-align: middle;\n",
       "    }\n",
       "\n",
       "    .dataframe tbody tr th {\n",
       "        vertical-align: top;\n",
       "    }\n",
       "\n",
       "    .dataframe thead th {\n",
       "        text-align: right;\n",
       "    }\n",
       "</style>\n",
       "<table border=\"1\" class=\"dataframe\">\n",
       "  <thead>\n",
       "    <tr style=\"text-align: right;\">\n",
       "      <th></th>\n",
       "      <th>ซีพีเมจิ</th>\n",
       "      <th>ไทยเดนมาร์ค</th>\n",
       "      <th>ดัชมิลล์</th>\n",
       "      <th>แมคโนเลีย</th>\n",
       "      <th>จิตรลดา</th>\n",
       "      <th>โฟร์โมสต์</th>\n",
       "      <th>คาเนชั่น</th>\n",
       "      <th>หนองโพ</th>\n",
       "      <th>โชคชัย</th>\n",
       "      <th>แดรี่โฮม</th>\n",
       "      <th>บีทาเก้น</th>\n",
       "      <th>เอ็มมิลค์</th>\n",
       "    </tr>\n",
       "  </thead>\n",
       "  <tbody>\n",
       "    <tr>\n",
       "      <th>0</th>\n",
       "      <td>1.0</td>\n",
       "      <td>0.0</td>\n",
       "      <td>0.0</td>\n",
       "      <td>0.0</td>\n",
       "      <td>0.0</td>\n",
       "      <td>0.0</td>\n",
       "      <td>0.0</td>\n",
       "      <td>0.0</td>\n",
       "      <td>0.0</td>\n",
       "      <td>0.0</td>\n",
       "      <td>0.0</td>\n",
       "      <td>0.0</td>\n",
       "    </tr>\n",
       "    <tr>\n",
       "      <th>1</th>\n",
       "      <td>1.0</td>\n",
       "      <td>0.0</td>\n",
       "      <td>0.0</td>\n",
       "      <td>0.0</td>\n",
       "      <td>0.0</td>\n",
       "      <td>0.0</td>\n",
       "      <td>0.0</td>\n",
       "      <td>0.0</td>\n",
       "      <td>0.0</td>\n",
       "      <td>0.0</td>\n",
       "      <td>0.0</td>\n",
       "      <td>0.0</td>\n",
       "    </tr>\n",
       "    <tr>\n",
       "      <th>2</th>\n",
       "      <td>1.0</td>\n",
       "      <td>0.0</td>\n",
       "      <td>0.0</td>\n",
       "      <td>0.0</td>\n",
       "      <td>0.0</td>\n",
       "      <td>0.0</td>\n",
       "      <td>0.0</td>\n",
       "      <td>0.0</td>\n",
       "      <td>0.0</td>\n",
       "      <td>0.0</td>\n",
       "      <td>0.0</td>\n",
       "      <td>0.0</td>\n",
       "    </tr>\n",
       "    <tr>\n",
       "      <th>3</th>\n",
       "      <td>1.0</td>\n",
       "      <td>0.0</td>\n",
       "      <td>0.0</td>\n",
       "      <td>0.0</td>\n",
       "      <td>0.0</td>\n",
       "      <td>0.0</td>\n",
       "      <td>0.0</td>\n",
       "      <td>0.0</td>\n",
       "      <td>0.0</td>\n",
       "      <td>0.0</td>\n",
       "      <td>0.0</td>\n",
       "      <td>0.0</td>\n",
       "    </tr>\n",
       "    <tr>\n",
       "      <th>4</th>\n",
       "      <td>1.0</td>\n",
       "      <td>0.0</td>\n",
       "      <td>0.0</td>\n",
       "      <td>0.0</td>\n",
       "      <td>0.0</td>\n",
       "      <td>0.0</td>\n",
       "      <td>0.0</td>\n",
       "      <td>0.0</td>\n",
       "      <td>0.0</td>\n",
       "      <td>0.0</td>\n",
       "      <td>0.0</td>\n",
       "      <td>0.0</td>\n",
       "    </tr>\n",
       "    <tr>\n",
       "      <th>...</th>\n",
       "      <td>...</td>\n",
       "      <td>...</td>\n",
       "      <td>...</td>\n",
       "      <td>...</td>\n",
       "      <td>...</td>\n",
       "      <td>...</td>\n",
       "      <td>...</td>\n",
       "      <td>...</td>\n",
       "      <td>...</td>\n",
       "      <td>...</td>\n",
       "      <td>...</td>\n",
       "      <td>...</td>\n",
       "    </tr>\n",
       "    <tr>\n",
       "      <th>12541</th>\n",
       "      <td>0.0</td>\n",
       "      <td>2.0</td>\n",
       "      <td>0.0</td>\n",
       "      <td>0.0</td>\n",
       "      <td>0.0</td>\n",
       "      <td>0.0</td>\n",
       "      <td>0.0</td>\n",
       "      <td>0.0</td>\n",
       "      <td>0.0</td>\n",
       "      <td>0.0</td>\n",
       "      <td>0.0</td>\n",
       "      <td>0.0</td>\n",
       "    </tr>\n",
       "    <tr>\n",
       "      <th>12542</th>\n",
       "      <td>0.0</td>\n",
       "      <td>0.0</td>\n",
       "      <td>0.0</td>\n",
       "      <td>0.0</td>\n",
       "      <td>0.0</td>\n",
       "      <td>0.0</td>\n",
       "      <td>0.0</td>\n",
       "      <td>0.0</td>\n",
       "      <td>0.0</td>\n",
       "      <td>0.0</td>\n",
       "      <td>0.0</td>\n",
       "      <td>0.0</td>\n",
       "    </tr>\n",
       "    <tr>\n",
       "      <th>12543</th>\n",
       "      <td>0.0</td>\n",
       "      <td>0.0</td>\n",
       "      <td>0.0</td>\n",
       "      <td>0.0</td>\n",
       "      <td>0.0</td>\n",
       "      <td>0.0</td>\n",
       "      <td>0.0</td>\n",
       "      <td>0.0</td>\n",
       "      <td>0.0</td>\n",
       "      <td>0.0</td>\n",
       "      <td>0.0</td>\n",
       "      <td>0.0</td>\n",
       "    </tr>\n",
       "    <tr>\n",
       "      <th>12544</th>\n",
       "      <td>0.0</td>\n",
       "      <td>0.0</td>\n",
       "      <td>0.0</td>\n",
       "      <td>0.0</td>\n",
       "      <td>0.0</td>\n",
       "      <td>0.0</td>\n",
       "      <td>0.0</td>\n",
       "      <td>0.0</td>\n",
       "      <td>0.0</td>\n",
       "      <td>0.0</td>\n",
       "      <td>0.0</td>\n",
       "      <td>0.0</td>\n",
       "    </tr>\n",
       "    <tr>\n",
       "      <th>12545</th>\n",
       "      <td>0.0</td>\n",
       "      <td>0.0</td>\n",
       "      <td>0.0</td>\n",
       "      <td>0.0</td>\n",
       "      <td>0.0</td>\n",
       "      <td>0.0</td>\n",
       "      <td>0.0</td>\n",
       "      <td>0.0</td>\n",
       "      <td>0.0</td>\n",
       "      <td>0.0</td>\n",
       "      <td>0.0</td>\n",
       "      <td>0.0</td>\n",
       "    </tr>\n",
       "  </tbody>\n",
       "</table>\n",
       "<p>12546 rows × 12 columns</p>\n",
       "</div>"
      ],
      "text/plain": [
       "       ซีพีเมจิ  ไทยเดนมาร์ค  ดัชมิลล์  แมคโนเลีย  จิตรลดา  โฟร์โมสต์  \\\n",
       "0           1.0          0.0       0.0        0.0      0.0        0.0   \n",
       "1           1.0          0.0       0.0        0.0      0.0        0.0   \n",
       "2           1.0          0.0       0.0        0.0      0.0        0.0   \n",
       "3           1.0          0.0       0.0        0.0      0.0        0.0   \n",
       "4           1.0          0.0       0.0        0.0      0.0        0.0   \n",
       "...         ...          ...       ...        ...      ...        ...   \n",
       "12541       0.0          2.0       0.0        0.0      0.0        0.0   \n",
       "12542       0.0          0.0       0.0        0.0      0.0        0.0   \n",
       "12543       0.0          0.0       0.0        0.0      0.0        0.0   \n",
       "12544       0.0          0.0       0.0        0.0      0.0        0.0   \n",
       "12545       0.0          0.0       0.0        0.0      0.0        0.0   \n",
       "\n",
       "       คาเนชั่น  หนองโพ  โชคชัย  แดรี่โฮม  บีทาเก้น  เอ็มมิลค์  \n",
       "0           0.0     0.0     0.0       0.0       0.0        0.0  \n",
       "1           0.0     0.0     0.0       0.0       0.0        0.0  \n",
       "2           0.0     0.0     0.0       0.0       0.0        0.0  \n",
       "3           0.0     0.0     0.0       0.0       0.0        0.0  \n",
       "4           0.0     0.0     0.0       0.0       0.0        0.0  \n",
       "...         ...     ...     ...       ...       ...        ...  \n",
       "12541       0.0     0.0     0.0       0.0       0.0        0.0  \n",
       "12542       0.0     0.0     0.0       0.0       0.0        0.0  \n",
       "12543       0.0     0.0     0.0       0.0       0.0        0.0  \n",
       "12544       0.0     0.0     0.0       0.0       0.0        0.0  \n",
       "12545       0.0     0.0     0.0       0.0       0.0        0.0  \n",
       "\n",
       "[12546 rows x 12 columns]"
      ]
     },
     "execution_count": 53,
     "metadata": {},
     "output_type": "execute_result"
    }
   ],
   "source": [
    "df_b"
   ]
  },
  {
   "cell_type": "code",
   "execution_count": 50,
   "metadata": {},
   "outputs": [
    {
     "data": {
      "text/plain": [
       "ซีพีเมจิ       1670.0\n",
       "ไทยเดนมาร์ค    1228.0\n",
       "โฟร์โมสต์      1099.0\n",
       "จิตรลดา         665.0\n",
       "หนองโพ          497.0\n",
       "ดัชมิลล์        496.0\n",
       "โชคชัย          204.0\n",
       "เอ็มมิลค์        94.0\n",
       "แดรี่โฮม         44.0\n",
       "คาเนชั่น         35.0\n",
       "บีทาเก้น         15.0\n",
       "แมคโนเลีย         4.0\n",
       "dtype: float64"
      ]
     },
     "execution_count": 50,
     "metadata": {},
     "output_type": "execute_result"
    }
   ],
   "source": [
    "df_b.sum().sort_values(ascending=False)"
   ]
  },
  {
   "cell_type": "code",
   "execution_count": 51,
   "metadata": {
    "scrolled": false
   },
   "outputs": [
    {
     "data": {
      "image/png": "[encoded data removed]",
      "text/plain": [
       "<Figure size 1080x432 with 1 Axes>"
      ]
     },
     "metadata": {
      "needs_background": "light"
     },
     "output_type": "display_data"
    }
   ],
   "source": [
    "# Domain Reduce\n",
    "df_plotViz = df_process_comment.copy()\n",
    "plotLine_URLs('article_date_date',df_plotViz.drop_duplicates(subset='URLs',keep='first',ignore_index=True))"
   ]
  },
  {
   "cell_type": "code",
   "execution_count": 52,
   "metadata": {},
   "outputs": [
    {
     "data": {
      "text/plain": [
       "1077"
      ]
     },
     "execution_count": 52,
     "metadata": {},
     "output_type": "execute_result"
    }
   ],
   "source": [
    "len(df_plotViz.URLs.unique())"
   ]
  },
  {
   "cell_type": "markdown",
   "metadata": {},
   "source": [
    "จากกราฟจะพบว่ารูปแบบยังคงลักษณะเดิมเหมือนก่อนตัด"
   ]
  },
  {
   "cell_type": "raw",
   "metadata": {},
   "source": [
    "def create_InsertMany_comments(df):\n",
    "    listofdict = []\n",
    "    for c,lx in enumerate(df.index,0):\n",
    "        info = {\n",
    "            \"commentId\":int(lx),\n",
    "            \"URLs\": df.URLs[c],\n",
    "            \"token_headline\":df.token_headline[c],\n",
    "            \"docs_mention_domain\": df.docs_mention_domain[c],\n",
    "            \"docs_mention_brand\": df.docs_mention_brand[c],\n",
    "            \"headline\":df.headline[c],\n",
    "            \"article_date\": df.article_date[c],\n",
    "            \"text\": df.text[c],\n",
    "            \"token_text\": df.token_text[c],\n",
    "            \"token_text_cnt\": df.token_text_cnt[c]\n",
    "        }\n",
    "        listofdict.append(info)\n",
    "    return listofdict"
   ]
  },
  {
   "cell_type": "raw",
   "metadata": {},
   "source": [
    "col_claen = mydb[\"NIDA_PPSN_CLEANED_DATA\"]"
   ]
  },
  {
   "cell_type": "raw",
   "metadata": {},
   "source": [
    "col_claen.delete_many({})\n",
    "process_data = create_InsertMany_comments(df_process_comment)\n",
    "col_claen.insert_many(process_data)"
   ]
  }
 ],
 "metadata": {
  "colab": {
   "collapsed_sections": [
    "EpwX95XlTCdl",
    "_Q9pU1J6TCe5",
    "NKW--A73mzli",
    "uBBA36fDTCfZ",
    "O8nlNNE4TCfj"
   ],
   "name": "EDA_Token_CoocMat.ipynb",
   "provenance": []
  },
  "kernelspec": {
   "display_name": "Python 3",
   "language": "python",
   "name": "python3"
  },
  "language_info": {
   "codemirror_mode": {
    "name": "ipython",
    "version": 3
   },
   "file_extension": ".py",
   "mimetype": "text/x-python",
   "name": "python",
   "nbconvert_exporter": "python",
   "pygments_lexer": "ipython3",
   "version": "3.7.3"
  }
 },
 "nbformat": 4,
 "nbformat_minor": 1
}
