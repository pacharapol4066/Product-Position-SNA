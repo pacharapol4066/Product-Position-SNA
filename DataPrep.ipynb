{
 "cells": [
  {
   "cell_type": "markdown",
   "metadata": {},
   "source": [
    "### IS Proof of concept - DRMABS"
   ]
  },
  {
   "cell_type": "code",
   "execution_count": 1,
   "metadata": {},
   "outputs": [],
   "source": [
    "import numpy as np\n",
    "import pandas as pd\n",
    "import itertools\n",
    "import math\n",
    "import string\n",
    "import re\n",
    "import pymongo"
   ]
  },
  {
   "cell_type": "code",
   "execution_count": 2,
   "metadata": {},
   "outputs": [],
   "source": [
    "import time\n",
    "from datetime import datetime\n",
    "today = datetime.now()"
   ]
  },
  {
   "cell_type": "code",
   "execution_count": 3,
   "metadata": {},
   "outputs": [],
   "source": [
    "from bs4 import BeautifulSoup\n",
    "from urllib.request import urlopen\n",
    "# pip install selenium\n",
    "from selenium import webdriver"
   ]
  },
  {
   "cell_type": "code",
   "execution_count": 4,
   "metadata": {},
   "outputs": [],
   "source": [
    "from IPython.display import clear_output"
   ]
  },
  {
   "cell_type": "code",
   "execution_count": 5,
   "metadata": {},
   "outputs": [],
   "source": [
    "# Files definition\n",
    "root_path = 'Datasource'\n",
    "urls_past_file,comment_past_file = [],[]\n",
    "urls_past_file.append(root_path+\"/urls_meiji.csv\")\n",
    "urls_past_file.append(root_path+\"/urls_dutchmilk.csv\")\n",
    "urls_past_file.append(root_path+\"/urls_dairyhome.csv\")\n",
    "urls_past_file.append(root_path+\"/urls_chokchai.csv\")\n",
    "urls_past_file.append(root_path+\"/urls_foremost.csv\")\n",
    "\n",
    "comment_past_file.append(root_path+\"/comment_DDCF.csv\")\n",
    "\n",
    "# จำนวนกระทู้ที่ต้องการให้ดึงใน 1 นาที\n",
    "postNum = 7\n",
    "postNumSleep = math.ceil(60/postNum)"
   ]
  },
  {
   "cell_type": "code",
   "execution_count": 6,
   "metadata": {},
   "outputs": [],
   "source": [
    "# Connect MongoDB\n",
    "myclient = pymongo.MongoClient(\"mongodb://localhost:27017/\")\n",
    "mydb = myclient[\"NIDA_PPSN_PRD\"]\n",
    "col_comment = mydb[\"NIDA_PPSN_SCRAPE\"]"
   ]
  },
  {
   "cell_type": "markdown",
   "metadata": {},
   "source": [
    "### กรณียังไม่เคยดึง URL ที่มีการพูดถึง Keyword ใน Pantip"
   ]
  },
  {
   "cell_type": "markdown",
   "metadata": {},
   "source": [
    "Get list of URL from search page"
   ]
  },
  {
   "cell_type": "raw",
   "metadata": {},
   "source": [
    "urls = 'https://pantip.com/search?q=นมเมจิ'\n",
    "urls = 'https://pantip.com/search?q=นมดัชมิลล์'\n",
    "urls = 'https://pantip.com/search?q=นมแดรี่โฮม'\n",
    "urls = 'https://pantip.com/search?q=นมโชคชัย'\n",
    "urls = 'https://pantip.com/search?q=นมโฟร์โมสต์'\n",
    "\n",
    "driver = webdriver.Chrome(executable_path='selenium/chromedriver.exe')\n",
    "driver.get(urls)"
   ]
  },
  {
   "cell_type": "markdown",
   "metadata": {},
   "source": [
    "Scroll down to get all data (Crawler)"
   ]
  },
  {
   "cell_type": "raw",
   "metadata": {},
   "source": [
    "last_height = driver.execute_script(\"return document.body.scrollHeight\")\n",
    "while True:\n",
    "    driver.execute_script(\"window.scrollTo(0, document.body.scrollHeight);\")\n",
    "    time.sleep(2)\n",
    "    new_height = driver.execute_script(\"return document.body.scrollHeight\")\n",
    "    if new_height == last_height:\n",
    "        break\n",
    "    last_height = new_height"
   ]
  },
  {
   "cell_type": "markdown",
   "metadata": {},
   "source": [
    "Extract all URLs (web scraping)"
   ]
  },
  {
   "cell_type": "raw",
   "metadata": {},
   "source": [
    "content=driver.page_source\n",
    "soup=BeautifulSoup(content,'lxml')\n",
    "urlList = []\n",
    "# ใช้ class_ เพื่อดึง div class จำเพาะ เพื่อไม่ให้ข้อความอื่นที่ไม่ต้องการปนมา\n",
    "for div in soup.find_all(\"div\", class_=lambda value: value and value==\"title col-md-12\"):\n",
    "    for a in div.find_all(\"a\", class_=lambda value: value and value==\"datasearch-in\", href=True):\n",
    "        urlList.append(str(a['href']).strip())"
   ]
  },
  {
   "cell_type": "markdown",
   "metadata": {},
   "source": [
    "Save URLs into csv file"
   ]
  },
  {
   "cell_type": "raw",
   "metadata": {},
   "source": [
    "df_urls = pd.DataFrame(urlList)\n",
    "df_urls.insert(1,'Retrived date',today)\n",
    "df_urls.columns = ['URLs','Retrived date']\n",
    "df_urls.to_csv(urls_past_file, index=False)"
   ]
  },
  {
   "cell_type": "raw",
   "metadata": {},
   "source": [
    "driver.quit()"
   ]
  },
  {
   "cell_type": "markdown",
   "metadata": {},
   "source": [
    "### กรณีเคยเก็บ URL แล้ว ให้เริ่มตรงนี้ได้เลย เพื่อไม่ให้ต้องทำ Request บ่อยๆ"
   ]
  },
  {
   "cell_type": "markdown",
   "metadata": {},
   "source": [
    "Loop for scaping by URLs from file"
   ]
  },
  {
   "cell_type": "code",
   "execution_count": 7,
   "metadata": {},
   "outputs": [],
   "source": [
    "df_URLRead = pd.read_csv(urls_past_file[0])\n",
    "df_URLRead1 = pd.read_csv(urls_past_file[1])\n",
    "df_URLRead2 = pd.read_csv(urls_past_file[2])\n",
    "df_URLRead3 = pd.read_csv(urls_past_file[3])\n",
    "df_URLRead4 = pd.read_csv(urls_past_file[4])\n",
    "dfURL = pd.concat([df_URLRead,df_URLRead1,df_URLRead2,df_URLRead3,df_URLRead4])\n",
    "dfURL.drop_duplicates(keep='last',inplace=True,ignore_index=True)\n",
    "dfURL.columns = ['URLs','Retrived_date']"
   ]
  },
  {
   "cell_type": "code",
   "execution_count": 8,
   "metadata": {},
   "outputs": [
    {
     "data": {
      "text/plain": [
       "(1522, 2)"
      ]
     },
     "execution_count": 8,
     "metadata": {},
     "output_type": "execute_result"
    }
   ],
   "source": [
    "dfURL.shape"
   ]
  },
  {
   "cell_type": "code",
   "execution_count": 12,
   "metadata": {},
   "outputs": [],
   "source": [
    "def create_ListofDict_InsertMany(df):\n",
    "    listofdict = []\n",
    "    for c,lx in enumerate(df.URLs,0):\n",
    "        info = {\n",
    "                \"URLs\": lx,\n",
    "                \"headline\" : df.headline[c],\n",
    "                \"text\": df.text[c],\n",
    "                \"article_date\" : datetime.strptime(df.article_date[c], '%m/%d/%Y %H:%M:%S'),\n",
    "                \"Retrived_date\": df.Retrived_date[c]\n",
    "        }\n",
    "        listofdict.append(info)\n",
    "    return listofdict"
   ]
  },
  {
   "cell_type": "code",
   "execution_count": 38,
   "metadata": {},
   "outputs": [],
   "source": [
    "startResult = 0\n",
    "endResult = dfURL.shape[0]\n",
    "#endResult = 6"
   ]
  },
  {
   "cell_type": "code",
   "execution_count": 39,
   "metadata": {
    "scrolled": true
   },
   "outputs": [
    {
     "name": "stdout",
     "output_type": "stream",
     "text": [
      "Processing URL no.  1522  on  2020-11-29 07:33:59.076804\n",
      "[{'URLs': 'https://pantip.com/topic/30011023', 'headline': 'Fit and Firm to Slim ครั้งที่ 21\"New Year New YOU!!! ปีใหม่ ไฉไลกว่าเดิม 4/15 เดือน สุดท้าย', 'text': 'แตกกระทู้มาจาก www.pantip.com/topic/30007146/\\n\\nเปิดบ้านจ้า \\n\\n\\n\\nส่งรูปวันปิดเฟสนะจ๊ะ วันที่ 15/1/56 เหลือเวลาแค่อีก 11วันเอง เอาฟิตๆๆๆกันน๊าาา\\n\\n\\n\\n    แก้ไขข้อความเมื่อ 4 มกราคม 2556 เวลา 07:03 น.', 'article_date': datetime.datetime(2013, 1, 4, 7, 3, 18), 'Retrived_date': Timestamp('2020-11-29 07:33:59.076804')}, {'URLs': 'https://pantip.com/topic/30011023', 'headline': 'Fit and Firm to Slim ครั้งที่ 21\"New Year New YOU!!! ปีใหม่ ไฉไลกว่าเดิม 4/15 เดือน สุดท้าย', 'text': 'รายงานตัวให้ตอบกลับความเห็นนี้ (ใต้ข้อความมีคำว่า ตอบกลับ กดตรงนั้นแล้วจะมีกล่องขึ้นมาให้พิมพ์ค่ะ)\\nส่วนเม้าท์มอยให้ตอบที่กล่องข้อความด้านล่างของกระทู้ตามปกติค่ะ', 'article_date': datetime.datetime(2013, 1, 4, 7, 3, 18), 'Retrived_date': Timestamp('2020-11-29 07:33:59.076804')}, {'URLs': 'https://pantip.com/topic/30011023', 'headline': 'Fit and Firm to Slim ครั้งที่ 21\"New Year New YOU!!! ปีใหม่ ไฉไลกว่าเดิม 4/15 เดือน สุดท้าย', 'text': 'ลู่วิ่ง\\xa0\\xa0\\xa0: 13\\nล็อคอิน : daandart\\nชื่อเล่น : ดา 36\\n\\nสูง : 152cm.\\n\\nน้ำหนักก่อนเข้าร่วม FF สูงสุด 63kg\\nน้ำหนักเริ่มเฟส 1 (ครั้งที่ 18)\\xa0\\xa0\\xa0: 61.5kg BMI 26.62 Body fat เริ่มเฟส 1\\xa0\\xa0\\xa0 : 26.91%\\nน้ำหนักเริ่มเฟส 2 (ครั้งที่ 19)\\xa0\\xa0\\xa0: 59.3kg BMI 25.67 Body fat เริ่มเฟส 2\\xa0\\xa0\\xa0 : 26.17%\\nน้ำหนักเริ่มเฟส 3 (ครั้งที่ 20)\\xa0\\xa0\\xa0: 57.2kg BMI 24.76 Body fat เริ่มเฟส 3\\xa0\\xa0\\xa0 : 25.99%\\nน้ำหนักเริ่มเฟส 4 (ครั้งที่ 21)\\xa0\\xa0\\xa0: 59.2kg BMI 25.62 Body fat เริ่มเฟส 4\\xa0\\xa0\\xa0 : 25.98%\\nน้ำหนักสิ้นเดือน 10\\xa0\\xa0\\xa0\\xa0\\xa0\\xa0\\xa0\\xa0\\xa0\\xa0\\xa0\\xa0: 58.5kg BMI 25.32 Body fat สิ้นเดือน 10\\xa0\\xa0\\xa0: 25.97%\\nน้ำหนักสิ้นเดือน 11\\xa0\\xa0\\xa0\\xa0\\xa0\\xa0\\xa0\\xa0\\xa0\\xa0\\xa0\\xa0: 57.9kg BMI 25.06 Body fat สิ้นเดือน 11\\xa0\\xa0\\xa0: 25.98%\\n\\nสัดส่วนเริ่มต้น :\\n\\nเป้าหมายหลังสิ้นสุดกิจกรรม : พุงหาย สัดส่วนกระชับ\\n\\nแผนกิจกรรม ตลอด 3 เดือน(กว่าๆ) : ฝึกตามโปรแกรม power90 (สงสัยจะได้เปลี่ยนแผนไม่ได้ฝึกเลย) / วิ่งพิชิตมินิมาราธอน\\n\\nอาหารเมื่อ3/1/56 :\\n\\nเช้า : ข้าว น้ำพริกกุ้งสมุนไพร\\n\\nกลางวัน : ก๋วยเตี๋ยวเส้นเล็ก ลูกชิ้น เนื้อเปื่อย ตับ\\n\\nบ่าย : ชาเออเกรย์เย็น วาฟเฟิล (แบ่งกันกินกับอาร์ท)\\n\\nเย็น : ผัดมักโรนีไก่\\n\\nดึก : นม 1กล่อง\\n\\nออกกำลังกาย 3/1/56 : พัก\\n\\nความในใจ : \\n\\nแง่วๆ ปรับเรื่องกินๆ ท่องไว้ๆ งดของทอด ท่องไว้ๆ\\n\\nคุงครู ปรับ 50บาท+50บาท = 100บาท แล้ว T T', 'article_date': datetime.datetime(2013, 1, 4, 7, 3, 18), 'Retrived_date': Timestamp('2020-11-29 07:33:59.076804')}, {'URLs': 'https://pantip.com/topic/30011023', 'headline': 'Fit and Firm to Slim ครั้งที่ 21\"New Year New YOU!!! ปีใหม่ ไฉไลกว่าเดิม 4/15 เดือน สุดท้าย', 'text': 'วันี้มาคนแรก อิอิ\\nลู่วิ่ง\\xa0\\xa0\\xa0: 39\\nล็อคอิน : อูสะจัง\\nชื่อเล่น : ตาล \\nBody fat เริ่มเฟส : 25.93%\\n\\nสัดส่วนเริ่มต้น : เอว(สะดือ) 74 cm/ สะโพก 94 cm /ต้นแขน 31 cm/ ต้นขา 54 cm\\n1 พย. 12 : เอว(สะดือ) 71 cm/ สะโพก 92 cm /ต้นแขน 29 cm/ ต้นขา 54 cm\\n1 ธ.ค. 12 : เอว(สะดือ) 71 cm/ สะโพก 91 cm /ต้นแขน 29 cm/ ต้นขา 54 cm\\nเป้าหมายหลังสิ้นสุดกิจกรรม : พุงราบเรียบ แขนเฟิร์ม ขาเรียว\\n\\nอาหารวันที่ 2/1/13\\n\\nเช้า : ข้าวเหนียว หมูปิ้ง\\nอาหารว่าง :กาแฟดำ \\nกลางวัน : ข้าวมันไก่+เครื่องใน\\nอาหารว่าง : คุกกี้ 2 ชิ้น กาแฟดำ \\nเย็น : ไก่ย่าง\\n\\nออกกำลังกาย : \\nwall squat 3 mins /3 set\\npush up wide grip 15/3 set\\npush up close grip grip 15/3 set\\ndonkey kick ข้างละ 30/3 set\\nalternate crunch ข้างละ 30/3 set\\ndumbell 1.5 kg butterfly (lie down) 30/3 set\\nhop+kick(core work out) ข้าง10/2 set\\ntriceps dip 30\\n\\n\\nความในใจ : ยังคงไม่ได้วิ่งและทำโอทีต่อไป หึๆ', 'article_date': datetime.datetime(2013, 1, 4, 7, 3, 18), 'Retrived_date': Timestamp('2020-11-29 07:33:59.076804')}, {'URLs': 'https://pantip.com/topic/30011023', 'headline': 'Fit and Firm to Slim ครั้งที่ 21\"New Year New YOU!!! ปีใหม่ ไฉไลกว่าเดิม 4/15 เดือน สุดท้าย', 'text': 'ลู่วิ่ง 6\\nLogin : schnitzer\\nชื่อเล่น : แจง\\nอาหารเมื่อวาน\\n06.20 : กาแฟดำ\\n08.30 : ข้าวต้มขาว + ไข่เค็ม 1 ฟอง + ผัดมะเขือยาว\\n10.00 : นมดีไลท์ 1 ขวด + เมล็ดทานตะวัน 1 กำ\\n12.00 : กินเลี้ยงโต๊ะจีน \\n14.00 : คุ้กกี้ 2 ชิ้น\\n17.00 : อกไก่ 1 ชิ้น \\n19.00 : เค้ก 1/3 ชิ้น\\n\\nออกกำลังกาย : เวท 30 min\\nความในใจ : ปีนี้คงจะโชคดีทั้งปี ได้เที่ยว ได้กิน ได้เงิน', 'article_date': datetime.datetime(2013, 1, 4, 7, 3, 18), 'Retrived_date': Timestamp('2020-11-29 07:33:59.076804')}, {'URLs': 'https://pantip.com/topic/30011023', 'headline': 'Fit and Firm to Slim ครั้งที่ 21\"New Year New YOU!!! ปีใหม่ ไฉไลกว่าเดิม 4/15 เดือน สุดท้าย', 'text': 'NEW YEAR NEW YOU\\nลู่วิ่ง\\xa0\\xa0\\xa0: 28\\nล็อคอิน : Khawjaow\\nชื่อเล่น : เก๋\\nอายุ : 29\\nสูง : 160 cm.\\nน้ำหนักเริ่มเฟส 61.6\\nน้ำหนักเช้านี้ : ไม่ได้ชั่ง\\nBMI : 24.0\\n%Body Fat : 26.11%.\\nสัดส่วนเริ่มเฟส : อก : 34 /ต้นแขน : 12 /เอว : 29 /สะโพก : 40 /ต้นขา : 25 /น่อง : 16\\nสัดส่วนปัจจุบัน : อก : 33.5 /ต้นแขน : 12 /เอว : 28.5 /สะโพก : 39.5 /ต้นขา : 24.5 /น่อง : 15\\nเป้าหมาย : อยากลดพุงสามชั้น ต้นแขน ต้นขา\\n\\nวันพฤหัสบดีที่ 3 มกราคม 2556\\n8.30 สปาเก็ตตี้พอคบอล เบคอนย่าง บิ๊กเปาหมูแดง ไม่กินแป้ง ชาเขียวปั่น หวานน้อย\\n12.00 ข้าวหมกไก่ น้ำซุป\\n20.00 ข้าวขาว 1 ถ้วย ขาหมูไม่กินหนัง แกงจืดเต้าหู้หมูสับ\\n\\nออกกำลังกาย : พัก ขาเดี้ยง เอ็นอักเสบ\\nความในใจ : น้ำในหูยังไม่ยอมออกมาซะที เป็นจะ 2 อาทิตย์แล้วนะ', 'article_date': datetime.datetime(2013, 1, 4, 7, 3, 18), 'Retrived_date': Timestamp('2020-11-29 07:33:59.076804')}, {'URLs': 'https://pantip.com/topic/30011023', 'headline': 'Fit and Firm to Slim ครั้งที่ 21\"New Year New YOU!!! ปีใหม่ ไฉไลกว่าเดิม 4/15 เดือน สุดท้าย', 'text': 'สวัสดีค่ะ \\nรายงาน 01/03/12\\nลู่ที่\\xa0\\xa0\\xa0\\xa0\\xa0\\xa0\\xa0\\xa0\\xa01\\nlogin\\xa0\\xa0\\xa0\\xa0\\xa0\\xa0\\xa0la-la\\nชื่อ\\xa0\\xa0\\xa0\\xa0\\xa0\\xa0\\xa0\\xa0\\xa0 ปู\\n\\n0800\\xa0\\xa0\\xa0\\xa0\\xa0\\xa0\\xa0นมถั่วเหลือง+กาแฟ\\n0900\\xa0\\xa0\\xa0\\xa0\\xa0\\xa0\\xa0ข้าวต้มหมูตุ๋น\\n1100\\xa0\\xa0\\xa0\\xa0\\xa0\\xa0\\xa0ส้ม\\n1200\\xa0\\xa0\\xa0\\xa0\\xa0\\xa0\\xa0granola\\n1400\\xa0\\xa0\\xa0\\xa0\\xa0\\xa0\\xa0ฟักทองนึ่ง+ไข่ต้ม\\n1630\\xa0\\xa0\\xa0\\xa0\\xa0\\xa0\\xa0ข้าว+ผักนึ่ง+ไก่ย่าง\\n1800\\xa0\\xa0\\xa0\\xa0\\xa0\\xa0\\xa0คาดว่าจะเป็น ฟักทองนึ่ง\\n\\nกิจกรรม\\xa0\\xa0\\xa0\\xa0\\xa0พัก\\nความในใจ\\xa0\\xa0แดงเดือดมาเยือน\\xa0\\xa0เหนื่อยยย', 'article_date': datetime.datetime(2013, 1, 4, 7, 3, 18), 'Retrived_date': Timestamp('2020-11-29 07:33:59.076804')}, {'URLs': 'https://pantip.com/topic/30011023', 'headline': 'Fit and Firm to Slim ครั้งที่ 21\"New Year New YOU!!! ปีใหม่ ไฉไลกว่าเดิม 4/15 เดือน สุดท้าย', 'text': 'อันนี้เป็นทางเข้าคลับ เผื่อคนขี้เกียจตามหา ก้อพิมพ์ตาม link นี้เลยนะจ๊ะ\\n\\nhttp://www.pantip.com/club/118', 'article_date': datetime.datetime(2013, 1, 4, 7, 3, 18), 'Retrived_date': Timestamp('2020-11-29 07:33:59.076804')}, {'URLs': 'https://pantip.com/topic/30011023', 'headline': 'Fit and Firm to Slim ครั้งที่ 21\"New Year New YOU!!! ปีใหม่ ไฉไลกว่าเดิม 4/15 เดือน สุดท้าย', 'text': 'สวัสดีตอนเช้าค่ะพี่ดา\\n\\nมาแบบง่วงๆ มึนๆ งง ๆ', 'article_date': datetime.datetime(2013, 1, 4, 7, 3, 18), 'Retrived_date': Timestamp('2020-11-29 07:33:59.076804')}, {'URLs': 'https://pantip.com/topic/30011023', 'headline': 'Fit and Firm to Slim ครั้งที่ 21\"New Year New YOU!!! ปีใหม่ ไฉไลกว่าเดิม 4/15 เดือน สุดท้าย', 'text': '', 'article_date': datetime.datetime(2013, 1, 4, 7, 3, 18), 'Retrived_date': Timestamp('2020-11-29 07:33:59.076804')}, {'URLs': 'https://pantip.com/topic/30011023', 'headline': 'Fit and Firm to Slim ครั้งที่ 21\"New Year New YOU!!! ปีใหม่ ไฉไลกว่าเดิม 4/15 เดือน สุดท้าย', 'text': 'สวัสดีค่ะพี่ดา เก๋ คุณตาล พี่แจง และเซียนปิ๊ก \\n\\nเก๋ รูปโพรไฟล์น่ารักอ่า', 'article_date': datetime.datetime(2013, 1, 4, 7, 3, 18), 'Retrived_date': Timestamp('2020-11-29 07:33:59.076804')}, {'URLs': 'https://pantip.com/topic/30011023', 'headline': 'Fit and Firm to Slim ครั้งที่ 21\"New Year New YOU!!! ปีใหม่ ไฉไลกว่าเดิม 4/15 เดือน สุดท้าย', 'text': '', 'article_date': datetime.datetime(2013, 1, 4, 7, 3, 18), 'Retrived_date': Timestamp('2020-11-29 07:33:59.076804')}, {'URLs': 'https://pantip.com/topic/30011023', 'headline': 'Fit and Firm to Slim ครั้งที่ 21\"New Year New YOU!!! ปีใหม่ ไฉไลกว่าเดิม 4/15 เดือน สุดท้าย', 'text': 'พี่เจ แหะแหะ ถ่ายตอนปีใหม่ เพื่อนถ่ายให้ กล้องมือถือ samsung มันช่วยได้จริงๆ', 'article_date': datetime.datetime(2013, 1, 4, 7, 3, 18), 'Retrived_date': Timestamp('2020-11-29 07:33:59.076804')}, {'URLs': 'https://pantip.com/topic/30011023', 'headline': 'Fit and Firm to Slim ครั้งที่ 21\"New Year New YOU!!! ปีใหม่ ไฉไลกว่าเดิม 4/15 เดือน สุดท้าย', 'text': 'อรุณสวัสดิ์จ้า', 'article_date': datetime.datetime(2013, 1, 4, 7, 3, 18), 'Retrived_date': Timestamp('2020-11-29 07:33:59.076804')}, {'URLs': 'https://pantip.com/topic/30011023', 'headline': 'Fit and Firm to Slim ครั้งที่ 21\"New Year New YOU!!! ปีใหม่ ไฉไลกว่าเดิม 4/15 เดือน สุดท้าย', 'text': 'สวัสดีตอนเช้าคร้าาา\\xa0\\xa0กำลังงงว่าทำไมตุ้ยตั้งกระทู้ไม่ได้ ค้างตลอดๆๆ\\nสงสัยบุญไม่ถึง 555+', 'article_date': datetime.datetime(2013, 1, 4, 7, 3, 18), 'Retrived_date': Timestamp('2020-11-29 07:33:59.076804')}, {'URLs': 'https://pantip.com/topic/30011023', 'headline': 'Fit and Firm to Slim ครั้งที่ 21\"New Year New YOU!!! ปีใหม่ ไฉไลกว่าเดิม 4/15 เดือน สุดท้าย', 'text': 'สวัสดีตอนเช้า ๆ ค่ะทุกคน\\xa0\\xa0เมื่อเช้ากะว่าจะไปวิ่ง ดันตื่นสาย\\n ยังไม่ได้รูปวิ่งที่สะพานพระรามแปดเลย', 'article_date': datetime.datetime(2013, 1, 4, 7, 3, 18), 'Retrived_date': Timestamp('2020-11-29 07:33:59.076804')}, {'URLs': 'https://pantip.com/topic/30011023', 'headline': 'Fit and Firm to Slim ครั้งที่ 21\"New Year New YOU!!! ปีใหม่ ไฉไลกว่าเดิม 4/15 เดือน สุดท้าย', 'text': 'สวัสดีค่ะทุกคน\\n\\nเมื่อเช้าวิ่งไป 3 รอบสวนลุม\\xa0\\xa0พรุ่งนี้จะไหวป่าวเนี่ย', 'article_date': datetime.datetime(2013, 1, 4, 7, 3, 18), 'Retrived_date': Timestamp('2020-11-29 07:33:59.076804')}, {'URLs': 'https://pantip.com/topic/30011023', 'headline': 'Fit and Firm to Slim ครั้งที่ 21\"New Year New YOU!!! ปีใหม่ ไฉไลกว่าเดิม 4/15 เดือน สุดท้าย', 'text': 'ส่งข่าวๆๆๆ\\n\\n+++ Running Room@Dietclub ชวนวิ่ง อาทิตย์ 6 มค. 2556 +++\\nสถานที่ - สวนลุม ลานตะวันยิ้ม (ลานที่มีเครื่องเล่นต่างๆ เหมือนสนามเด็กเล่นของเด็กๆ)\\nเวลา 6:30 น.\\nมาวิ่งเล่นแบบชิวๆด้วยกัน 4 รอบสวนลุม (ประมาณ 10 กิโล) วิ่งกันช้าๆ ไม่เร็ว ราวๆ Pace 8 min/Km หรือราวๆ 1 ชั่วโมง 20 นาทีเสร็จ\\nวิ่งแบบสังสรรค์เฮฮาสำหรับชาวคลับเรา ไม่ได้วิ่งเอาเร็ว แต่เพื่อความสนุกสนานและมิตรภาพ\\nสำหรับห้อง Running Room@Dietclub ของเราส่วนหนึ่งอาจจะได้เจอกันบ้างตามงานวิ่ง แต่บางคนอาจจะยังไม่มีโอกาสได้เจอกัน มาเถอะครับ มาวิ่งด้วยกัน เราจะได้รู้จักกัน\\n\\n\\n\\n\\n\\n\\nปล. เซฟปูคนเก่งจะทำเค้กส้มไปให้พวกเราชิมกันด้วย ใครไม่ไปวิ่ง จะพลาดชิมของอร่อยน๊าาาาา', 'article_date': datetime.datetime(2013, 1, 4, 7, 3, 18), 'Retrived_date': Timestamp('2020-11-29 07:33:59.076804')}, {'URLs': 'https://pantip.com/topic/30011023', 'headline': 'Fit and Firm to Slim ครั้งที่ 21\"New Year New YOU!!! ปีใหม่ ไฉไลกว่าเดิม 4/15 เดือน สุดท้าย', 'text': 'อยากไป๊ อยากไปอ่ะ ถ้าอยู่กรุงเทพไม่พลาดแน่นอน\\n\\nป.ล. pace 8 สำหรับนู๋นี่ไม่ชิลล์นะเคอะ ถึงขั้นหอบลมบ้าหมูจับได้นะถ้าวิ่งสปีดนี้ตลอด 10 กิโล', 'article_date': datetime.datetime(2013, 1, 4, 7, 3, 18), 'Retrived_date': Timestamp('2020-11-29 07:33:59.076804')}, {'URLs': 'https://pantip.com/topic/30011023', 'headline': 'Fit and Firm to Slim ครั้งที่ 21\"New Year New YOU!!! ปีใหม่ ไฉไลกว่าเดิม 4/15 เดือน สุดท้าย', 'text': 'พลาดเจอกันพวกเราอีกแร้ววว แง แง\\n\\nเหตุปัจจัยไม่พร้อม\\xa0\\xa0หวังว่ามีคราวหน้าอีกนะ\\n\\nโอมเพี้ยงงงงงง', 'article_date': datetime.datetime(2013, 1, 4, 7, 3, 18), 'Retrived_date': Timestamp('2020-11-29 07:33:59.076804')}, {'URLs': 'https://pantip.com/topic/30011023', 'headline': 'Fit and Firm to Slim ครั้งที่ 21\"New Year New YOU!!! ปีใหม่ ไฉไลกว่าเดิม 4/15 เดือน สุดท้าย', 'text': 'เงียบจังเลย', 'article_date': datetime.datetime(2013, 1, 4, 7, 3, 18), 'Retrived_date': Timestamp('2020-11-29 07:33:59.076804')}, {'URLs': 'https://pantip.com/topic/30011023', 'headline': 'Fit and Firm to Slim ครั้งที่ 21\"New Year New YOU!!! ปีใหม่ ไฉไลกว่าเดิม 4/15 เดือน สุดท้าย', 'text': 'หวัดดีเจ๊าา หายไปตั้งแต่บ่าย 4 วานนี้ เพราะมีระเบิดลูกใหญ่ยักษ์มากกกกกกกกกกก นายมาบอมบ์ถึงโต๊ะ นายบิ๊กกกกกกกก บั้มเบ้อ\\n\\nเฮ๊ออ ทำๆ ไป \\n\\nคิดว่า เพื่อเงินเลี้ยงลูก\\n\\nตำแหน่ง ซี8 ก็อยากได้อีก จะสอบเร็วๆ นี้\\n\\nก็อีกอ่ะ เงินเพิ่มลูกเราสบายขึ้น 55555+\\n\\nกลัวจุงเยย จะหมู่หรือจ่า ยังไม่รู้', 'article_date': datetime.datetime(2013, 1, 4, 7, 3, 18), 'Retrived_date': Timestamp('2020-11-29 07:33:59.076804')}, {'URLs': 'https://pantip.com/topic/30011023', 'headline': 'Fit and Firm to Slim ครั้งที่ 21\"New Year New YOU!!! ปีใหม่ ไฉไลกว่าเดิม 4/15 เดือน สุดท้าย', 'text': 'สวัสดีค่ะทุกคน..\\n\\nเอ..ทำไมวันนี้ไม่เห็นความเห็นคนอื่นหนอ..เกิดอะไรขึ้นกับเราเนี่ย', 'article_date': datetime.datetime(2013, 1, 4, 7, 3, 18), 'Retrived_date': Timestamp('2020-11-29 07:33:59.076804')}, {'URLs': 'https://pantip.com/topic/30011023', 'headline': 'Fit and Firm to Slim ครั้งที่ 21\"New Year New YOU!!! ปีใหม่ ไฉไลกว่าเดิม 4/15 เดือน สุดท้าย', 'text': 'เห็นเราเปล่านิ้ง อยู่เมืองไทยหรือยังจ๊ะ', 'article_date': datetime.datetime(2013, 1, 4, 7, 3, 18), 'Retrived_date': Timestamp('2020-11-29 07:33:59.076804')}, {'URLs': 'https://pantip.com/topic/30011023', 'headline': 'Fit and Firm to Slim ครั้งที่ 21\"New Year New YOU!!! ปีใหม่ ไฉไลกว่าเดิม 4/15 เดือน สุดท้าย', 'text': 'กุ้งคะ..ใช้ IE เราไม่เห็นคห. ใครเลย..แม้กระทั่งคห.ของเราที่เขียนไปอ่ะ..\\nต้องเปลี่ยนมาใช้ Chrome แทน..ถึงจะเห็นเป็นปกติ \\n\\nตอนนี้เรายังอยู่ที่นี่อยู่จ๊ะ..จะกลับถึงเมืองไทยวันที่ 15 นี้แล้วจ้า..อีกไม่นานแระ..', 'article_date': datetime.datetime(2013, 1, 4, 7, 3, 18), 'Retrived_date': Timestamp('2020-11-29 07:33:59.076804')}, {'URLs': 'https://pantip.com/topic/30011023', 'headline': 'Fit and Firm to Slim ครั้งที่ 21\"New Year New YOU!!! ปีใหม่ ไฉไลกว่าเดิม 4/15 เดือน สุดท้าย', 'text': 'อาทิตย์นี้พี่คงไม่ได้ไปนะดา\\n\\nเพราะวันนี้ลูกชายคนเล็กสอบ 1 วันก่อน\\n\\nเท่ากับว่า วันอาทิตย์ต้องไม่พลาดการติว เพื่อสอบวันจันทร์ ที่สาหัสกว่าวันนี้เพราะมีเลขด้วย\\n\\nเมื่อคืนน้ำตาจะไหล\\n\\nติววิชาการกันน่าดู\\n\\nมาถึงคำบอกเล่าของเด็ก \"แม่ครับ วันนี้ครูถามว่า พ่อขุนศรีอินทราทิตย์ และพ่อขุนบางกลางหาว เป็นอะไรกัน\"\\n\"ผมยกมือตอบคนเดียวเลยครับในห้อง(มี50คน) \"\\nแม่ \"ว่าไร\"\\nผม \"เป็นคนคนเดียวกันครับ\"\\n\\n\\n\\nโหหหหหหหหหหหหหหหหหหหหหหหหห เก่งมากกกกกกกกกกกกกกกกกกกกกกก\\n\\nเหอๆ วิชาแบบนี้ ลูกอิฉันจะทำมาหากินอะไรได้บ้างเนี่ยยยยยยยยยย มันเก่งอยู่แค่นี้เองอ่ะ', 'article_date': datetime.datetime(2013, 1, 4, 7, 3, 18), 'Retrived_date': Timestamp('2020-11-29 07:33:59.076804')}, {'URLs': 'https://pantip.com/topic/30011023', 'headline': 'Fit and Firm to Slim ครั้งที่ 21\"New Year New YOU!!! ปีใหม่ ไฉไลกว่าเดิม 4/15 เดือน สุดท้าย', 'text': 'เอามาวางใหม่ค่ะ เมื่อกี้ผิดกระทู้ 5555\\n\\nมีข่าวดีสำหรับตัวเองอีกแล้วค่ะ\\xa0\\xa0ครั้งที่แล้วสะโพกลดไปสองนิ้ว ครั้งนี้เอวกลับมาเหลือ 27 เหมือนเดิม สะโพกลดอีกสองนิ้วแต่ต้นขาไม่ลดเลย 5555\\n\\nกินจุมากเลยค่ะทั้งวัน แถมตื่นมากินกลางคืนอีกคาดว่ามาจากความเครียดส่วนหนึ่งอีกส่วนหนึ่งคือ กลัวทำข้อสอบไม่ได้ - -\\xa0\\xa0แต่หนูพยายามยั้งๆตัวเองแล้วนะคะ กินแต่ผลไม้เวลาดึกๆ คือยังไงปากมันต้องขยับหน่อยเวลาอ่านอ่ะค่ะแบบว่าติดนิสัยมาก (แย่)\\n\\nอาหารเช้าวันนี้\\n\\nซีเรียลข้าวโอ๊ตต้มกับไก่ฉีก (ไม่อร่อยเลย) น้ำส้มคั้นสด 4 แก้วใหญ่ \\n\\nอาหารมื้ออื่นเด๋วมาอัพเดทให้นะคะ \\n\\nปล. ปีใหม่รูปร่างใหม่ ดีใจมาก เย้!!', 'article_date': datetime.datetime(2013, 1, 4, 7, 3, 18), 'Retrived_date': Timestamp('2020-11-29 07:33:59.076804')}, {'URLs': 'https://pantip.com/topic/30011023', 'headline': 'Fit and Firm to Slim ครั้งที่ 21\"New Year New YOU!!! ปีใหม่ ไฉไลกว่าเดิม 4/15 เดือน สุดท้าย', 'text': 'วิ่งเสร็จ เลยเก็บกวาดบ้าน\\nไหนๆก็ลาแล้ว เหนื่อยเลย\\n\\nนอนตีพุง\\nบ่ายโมงค่อยออกไปกินข้าว', 'article_date': datetime.datetime(2013, 1, 4, 7, 3, 18), 'Retrived_date': Timestamp('2020-11-29 07:33:59.076804')}, {'URLs': 'https://pantip.com/topic/30011023', 'headline': 'Fit and Firm to Slim ครั้งที่ 21\"New Year New YOU!!! ปีใหม่ ไฉไลกว่าเดิม 4/15 เดือน สุดท้าย', 'text': 'อาทิตย์....ไม่แน่ว่าจะไปได้รึเปล่า \\n\\nแต่แพลนไปวันเสาร์ตอนเช้า ก็คงวิ่งเอง สี่รอบ ถ้าไม่เหนื่อยซะก่อนอ่ะนะ', 'article_date': datetime.datetime(2013, 1, 4, 7, 3, 18), 'Retrived_date': Timestamp('2020-11-29 07:33:59.076804')}, {'URLs': 'https://pantip.com/topic/30011023', 'headline': 'Fit and Firm to Slim ครั้งที่ 21\"New Year New YOU!!! ปีใหม่ ไฉไลกว่าเดิม 4/15 เดือน สุดท้าย', 'text': 'พี่ปูลาอีกแล้วหรอ....ลาบ่อยนะเนี่ย ฮ่าๆๆๆ', 'article_date': datetime.datetime(2013, 1, 4, 7, 3, 18), 'Retrived_date': Timestamp('2020-11-29 07:33:59.076804')}, {'URLs': 'https://pantip.com/topic/30011023', 'headline': 'Fit and Firm to Slim ครั้งที่ 21\"New Year New YOU!!! ปีใหม่ ไฉไลกว่าเดิม 4/15 เดือน สุดท้าย', 'text': 'เดี๋ยวนี้พี่ปูเตรียมตัวเป็นแม่บ้านแล้วอ่ะ\\nทำขนม เก็บบ้าน เตรียมตัวออกเรือนแล้วใช่ม้าาาา 555+', 'article_date': datetime.datetime(2013, 1, 4, 7, 3, 18), 'Retrived_date': Timestamp('2020-11-29 07:33:59.076804')}, {'URLs': 'https://pantip.com/topic/30011023', 'headline': 'Fit and Firm to Slim ครั้งที่ 21\"New Year New YOU!!! ปีใหม่ ไฉไลกว่าเดิม 4/15 เดือน สุดท้าย', 'text': 'อดไปวิ่งด้วยเลย เสาร์นี้ต้องไปรับชุดครุยที่ท่าพระจันทร์\\n\\nเข่าก็ยังไม่ค่อยหายดีเท่าไหร่ อดวิ่งยาววว', 'article_date': datetime.datetime(2013, 1, 4, 7, 3, 18), 'Retrived_date': Timestamp('2020-11-29 07:33:59.076804')}, {'URLs': 'https://pantip.com/topic/30011023', 'headline': 'Fit and Firm to Slim ครั้งที่ 21\"New Year New YOU!!! ปีใหม่ ไฉไลกว่าเดิม 4/15 เดือน สุดท้าย', 'text': 'หายไวๆนะเก๋', 'article_date': datetime.datetime(2013, 1, 4, 7, 3, 18), 'Retrived_date': Timestamp('2020-11-29 07:33:59.076804')}, {'URLs': 'https://pantip.com/topic/30011023', 'headline': 'Fit and Firm to Slim ครั้งที่ 21\"New Year New YOU!!! ปีใหม่ ไฉไลกว่าเดิม 4/15 เดือน สุดท้าย', 'text': 'เชฟ ปู ที่ ดา พูดนี่ คือๆๆๆๆๆ----------------------\\n\\nอ้าวๆๆๆ พี่ไม่ได้กินซิเนี่ย ห๊าาา\\n\\nเก๋ ยังเจ็บอยู่เหรอ เดินเขยกมาทำงานไงเนี่ย', 'article_date': datetime.datetime(2013, 1, 4, 7, 3, 18), 'Retrived_date': Timestamp('2020-11-29 07:33:59.076804')}, {'URLs': 'https://pantip.com/topic/30011023', 'headline': 'Fit and Firm to Slim ครั้งที่ 21\"New Year New YOU!!! ปีใหม่ ไฉไลกว่าเดิม 4/15 เดือน สุดท้าย', 'text': 'พี่กุ้ง\\xa0\\xa0ก็เอาลูกมาด้วยดิ\\xa0\\xa0วิ่งเสร็จกินเสร็จก็ไปส่งลูก\\xa0\\xa0เค้ามีที่อาบน้ำน่ะในสวนลุมอ่ะ\\n\\nเก๋\\xa0\\xa0\\xa0\\xa0 หายเร็ว ๆ น่ะ', 'article_date': datetime.datetime(2013, 1, 4, 7, 3, 18), 'Retrived_date': Timestamp('2020-11-29 07:33:59.076804')}, {'URLs': 'https://pantip.com/topic/30011023', 'headline': 'Fit and Firm to Slim ครั้งที่ 21\"New Year New YOU!!! ปีใหม่ ไฉไลกว่าเดิม 4/15 เดือน สุดท้าย', 'text': 'ไปอ่านอันนี้มา\\xa0\\xa0จะไปช่วยตอบเค้าดีป่ะเนี่ยะ\\nhttp://pantip.com/topic/30006780', 'article_date': datetime.datetime(2013, 1, 4, 7, 3, 18), 'Retrived_date': Timestamp('2020-11-29 07:33:59.076804')}, {'URLs': 'https://pantip.com/topic/30011023', 'headline': 'Fit and Firm to Slim ครั้งที่ 21\"New Year New YOU!!! ปีใหม่ ไฉไลกว่าเดิม 4/15 เดือน สุดท้าย', 'text': 'แพลน เสาร์นี้ตอนเช้า ซ้งก็จะไปวิ่งสวนลุมเหมือนกัน', 'article_date': datetime.datetime(2013, 1, 4, 7, 3, 18), 'Retrived_date': Timestamp('2020-11-29 07:33:59.076804')}, {'URLs': 'https://pantip.com/topic/30011023', 'headline': 'Fit and Firm to Slim ครั้งที่ 21\"New Year New YOU!!! ปีใหม่ ไฉไลกว่าเดิม 4/15 เดือน สุดท้าย', 'text': 'ซ้งไปกี่โมง', 'article_date': datetime.datetime(2013, 1, 4, 7, 3, 18), 'Retrived_date': Timestamp('2020-11-29 07:33:59.076804')}, {'URLs': 'https://pantip.com/topic/30011023', 'headline': 'Fit and Firm to Slim ครั้งที่ 21\"New Year New YOU!!! ปีใหม่ ไฉไลกว่าเดิม 4/15 เดือน สุดท้าย', 'text': 'มันไม่ทันน่ะแจง กว่าจะลงรถไฟฟ้ากว่าจะถึงบ้าน จะเกิน 9.00 ที่มันต้องเรียนอีกห่างบ้านไปอีก ดูไงแล้วก็ไม่ทัน \\nครูเค้าตามบ่อยด้วย\\nหลังๆ เค้าว่าลูกพี่หยุดบ่อยกว่าชาวบ้านเค้าตาลอด', 'article_date': datetime.datetime(2013, 1, 4, 7, 3, 18), 'Retrived_date': Timestamp('2020-11-29 07:33:59.076804')}, {'URLs': 'https://pantip.com/topic/30011023', 'headline': 'Fit and Firm to Slim ครั้งที่ 21\"New Year New YOU!!! ปีใหม่ ไฉไลกว่าเดิม 4/15 เดือน สุดท้าย', 'text': 'แพลนดูหลังไมค์เด๊อ ตรงข้างบนของหน้าจอแพลนด้านขวาจะมีซองจดหมาย จะมีเลขแดงๆ โชว์ว่ามีหลังไมค์มา', 'article_date': datetime.datetime(2013, 1, 4, 7, 3, 18), 'Retrived_date': Timestamp('2020-11-29 07:33:59.076804')}, {'URLs': 'https://pantip.com/topic/30011023', 'headline': 'Fit and Firm to Slim ครั้งที่ 21\"New Year New YOU!!! ปีใหม่ ไฉไลกว่าเดิม 4/15 เดือน สุดท้าย', 'text': 'ตุ้ย พี่แจง พี่กุ้ง ขอบคุณคร๊าา มันก็เจ็บไม่เยอะหรอก อธิบายไงดี แบบเป็นๆ หายๆ ให้พอน่ารำคาญอ่ะค่ะ\\nชอบเป็นตอนกลางคืน เวลานอน มันจะปวดเข่า ไม่ก็ปวดข้อเท้า ทำให้หลับไม่สนิท\\n\\nยาก็ยังทาอยู่ แต่ไม่เดินเขยกแล้ว แต่ยังไม่กล้าลงน้ำหนักไปวิ่ง กลัวมันจะกลับมาเป็นหนัก', 'article_date': datetime.datetime(2013, 1, 4, 7, 3, 18), 'Retrived_date': Timestamp('2020-11-29 07:33:59.076804')}, {'URLs': 'https://pantip.com/topic/30011023', 'headline': 'Fit and Firm to Slim ครั้งที่ 21\"New Year New YOU!!! ปีใหม่ ไฉไลกว่าเดิม 4/15 เดือน สุดท้าย', 'text': 'เค้าเองพี่กุ้งงงง\\n\\nแพลน แบบว่าวันพักร้อนเหลือเยอะ\\n\\nเก๋ หายไวๆนะ เหมือนเก๋จะป่วยบ่อยแฮะ แต่ก่อนพี่ก็ป่วยบ่อย\\nตอนนี้ดีขึ้นเยอะ', 'article_date': datetime.datetime(2013, 1, 4, 7, 3, 18), 'Retrived_date': Timestamp('2020-11-29 07:33:59.076804')}, {'URLs': 'https://pantip.com/topic/30011023', 'headline': 'Fit and Firm to Slim ครั้งที่ 21\"New Year New YOU!!! ปีใหม่ ไฉไลกว่าเดิม 4/15 เดือน สุดท้าย', 'text': 'กะว่าจะไปถึงสักหกโมงเช้า เดี๋ยวหลังไมค์เบอร์โทรไปให้นะครับ\\n\\t\\t\\t\\t\\t\\t\\n\\n\\n\\n\\t\\t\\t\\t\\t\\t\\t\\t\\tแก้ไขข้อความเมื่อ\\n\\t\\t\\t\\t\\t\\t\\t\\t\\t4 มกราคม 2556 เวลา 16:13 น.', 'article_date': datetime.datetime(2013, 1, 4, 7, 3, 18), 'Retrived_date': Timestamp('2020-11-29 07:33:59.076804')}, {'URLs': 'https://pantip.com/topic/30011023', 'headline': 'Fit and Firm to Slim ครั้งที่ 21\"New Year New YOU!!! ปีใหม่ ไฉไลกว่าเดิม 4/15 เดือน สุดท้าย', 'text': 'แพลนคงไปหกโมง หกโมงครึ่งนะ \\n\\nแต่ไปกับพ่อ คงต้องแล้วแต่พ่ออ่ะ แต่ไปสายไม่ได้ เพราะแพลนมีนัดตอนสิบโมงด้วย', 'article_date': datetime.datetime(2013, 1, 4, 7, 3, 18), 'Retrived_date': Timestamp('2020-11-29 07:33:59.076804')}, {'URLs': 'https://pantip.com/topic/30011023', 'headline': 'Fit and Firm to Slim ครั้งที่ 21\"New Year New YOU!!! ปีใหม่ ไฉไลกว่าเดิม 4/15 เดือน สุดท้าย', 'text': 'พี่ปู ขอบคุณคร๊า ป่วยบ่อยจริงๆนะแหละค่ะ เป็นโน้นเป็นนี่ มาตลอด ท้องเสีย ไมเกรน เป็นหวัด โรคนอนไม่หลับ นอนไม่เคยพอ\\nอันนี้เป็นของคู่กันมาแต่ไหนแต่ไรแล้วอ่ะ\\n\\nอยากแข็งแรงแบบคนอื่นเค้าบ้าง', 'article_date': datetime.datetime(2013, 1, 4, 7, 3, 18), 'Retrived_date': Timestamp('2020-11-29 07:33:59.076804')}, {'URLs': 'https://pantip.com/topic/30011023', 'headline': 'Fit and Firm to Slim ครั้งที่ 21\"New Year New YOU!!! ปีใหม่ ไฉไลกว่าเดิม 4/15 เดือน สุดท้าย', 'text': 'หาที่รายงานตัวไม่เจอ...', 'article_date': datetime.datetime(2013, 1, 4, 7, 3, 18), 'Retrived_date': Timestamp('2020-11-29 07:33:59.076804')}, {'URLs': 'https://pantip.com/topic/30011023', 'headline': 'Fit and Firm to Slim ครั้งที่ 21\"New Year New YOU!!! ปีใหม่ ไฉไลกว่าเดิม 4/15 เดือน สุดท้าย', 'text': 'เปิดมาเห็นแต่คห.เปิดบ้านของพี่ดา อันอื่นไม่เห็นเลย ทำไงดี', 'article_date': datetime.datetime(2013, 1, 4, 7, 3, 18), 'Retrived_date': Timestamp('2020-11-29 07:33:59.076804')}, {'URLs': 'https://pantip.com/topic/30011023', 'headline': 'Fit and Firm to Slim ครั้งที่ 21\"New Year New YOU!!! ปีใหม่ ไฉไลกว่าเดิม 4/15 เดือน สุดท้าย', 'text': 'ออ...เห็นแล้ว เป็นที่ Chrome ของเเครื่องที่บ้านเองค่ะ ขอโทษค่ะตื่นตูมไปหน่อย แหะๆ', 'article_date': datetime.datetime(2013, 1, 4, 7, 3, 18), 'Retrived_date': Timestamp('2020-11-29 07:33:59.076804')}, {'URLs': 'https://pantip.com/topic/30011023', 'headline': 'Fit and Firm to Slim ครั้งที่ 21\"New Year New YOU!!! ปีใหม่ ไฉไลกว่าเดิม 4/15 เดือน สุดท้าย', 'text': 'รายงานตัว4 มค 56\\n ลู่ 52 login\\xa0\\xa0littlephai\\xa0\\xa0\\n 06.00 น้ำเปล่า 1 แก้ว\\n 07.00 น้ำเต้าหู้ใส่เครื่อง 1 ถุง\\n 08.00 ข้าว +เต้าเจี้ยวหล่น + กุนเชียง 1 อัน\\n10.00 วิ่งลู่ 30 นาที + เล่นหน้าท้อง 3 เซต x 50\\xa0\\xa0ครั้ง\\n12.30 เตี๋ยวแซวใหญ่ต้มยำลูกชิ้นปลา\\n16.00 แตงโมง 1 ชิ้น\\n17.00 โยเกิตวุ้นมะพร้าว เมจิ 1 ถ้วย\\n19.00 ข้าว + แกงส้ม + ผัดมะเขือยาว + ต้มซุปซี่โครงหมู\\n20.00 มะม่วง 3 ชิ้น + น้ำปลาหวาน\\nน้ำเปล่า 3 ลิตร', 'article_date': datetime.datetime(2013, 1, 4, 7, 3, 18), 'Retrived_date': Timestamp('2020-11-29 07:33:59.076804')}, {'URLs': 'https://pantip.com/topic/30011023', 'headline': 'Fit and Firm to Slim ครั้งที่ 21\"New Year New YOU!!! ปีใหม่ ไฉไลกว่าเดิม 4/15 เดือน สุดท้าย', 'text': 'พันทิพใหม่เมาท์ไม่ถนัดเลย เซ็ง', 'article_date': datetime.datetime(2013, 1, 4, 7, 3, 18), 'Retrived_date': Timestamp('2020-11-29 07:33:59.076804')}, {'URLs': 'https://pantip.com/topic/30011023', 'headline': 'Fit and Firm to Slim ครั้งที่ 21\"New Year New YOU!!! ปีใหม่ ไฉไลกว่าเดิม 4/15 เดือน สุดท้าย', 'text': 'เอ่อ........ โพสต์ผิดกระทู้ จะเอาลูกชายไปโชว์ตัวห้องแมวซะหน่อย\\nมึนๆๆๆ \\n\\nปีหน้าต้องพามานะเข้าคลับลดความอ้วนด้วยกันแล้วค่ะ\\n\\n\\n\\nขออวดพี่มานะด้วยค่ะ ตอนนี้พองจนลืมไปเลยว่ามานะเคยตัวเล็ก\\nรูปซ้ายมืออายุ 3 เดือน รูปขวามือ 7 เดือน \\n\\n\\n\\n\\n\\n\\t\\t\\t\\t\\t\\t\\t\\t\\tแก้ไขข้อความเมื่อ\\n\\t\\t\\t\\t\\t\\t\\t\\t\\t4 มกราคม 2556 เวลา 22:02 น.', 'article_date': datetime.datetime(2013, 1, 4, 7, 3, 18), 'Retrived_date': Timestamp('2020-11-29 07:33:59.076804')}, {'URLs': 'https://pantip.com/topic/30011023', 'headline': 'Fit and Firm to Slim ครั้งที่ 21\"New Year New YOU!!! ปีใหม่ ไฉไลกว่าเดิม 4/15 เดือน สุดท้าย', 'text': 'พี่มานะน่าร๊ากมากเลย เห็นแล้วอยากจกพุง', 'article_date': datetime.datetime(2013, 1, 4, 7, 3, 18), 'Retrived_date': Timestamp('2020-11-29 07:33:59.076804')}, {'URLs': 'https://pantip.com/topic/30011023', 'headline': 'Fit and Firm to Slim ครั้งที่ 21\"New Year New YOU!!! ปีใหม่ ไฉไลกว่าเดิม 4/15 เดือน สุดท้าย', 'text': 'ลู่ 44 isoulmate เปเป้\\n\\nเช้า ... แซนวิส\\n\\nกลางวัน ... ก๋วยเตี๋ยวไก่ + ข้าวเปล่า\\n\\nเย็น ... น้ำตกหมู +ส้มตำ + ไก่ \\n\\nออกกำลังกาย เดิน 4 กิโล \\n\\nช่วงนี้กินดเยอะมาก ... สังสรรค์เยอะอีกตั้งห่า', 'article_date': datetime.datetime(2013, 1, 4, 7, 3, 18), 'Retrived_date': Timestamp('2020-11-29 07:33:59.076804')}, {'URLs': 'https://pantip.com/topic/30011023', 'headline': 'Fit and Firm to Slim ครั้งที่ 21\"New Year New YOU!!! ปีใหม่ ไฉไลกว่าเดิม 4/15 เดือน สุดท้าย', 'text': 'ลำดับที่ 41\\nชื่อlogin โดนัทแสนหวาน\\xa0\\nชื่อเล่น นัท\\n\\nอาหารวันนี้\\nเช้า โอวัลติน+ขนมเค้ก\\nสาย \\xa0ป๊อกกี้ 1 กล่อง\\nเที่ยง ก๋วยเตี๋ยวต้มยำ ไอติม 1 ลูก\\nเย็น สเต๊กไก่\\n\\nออกกำลังกาย ไม่ได้ออกค่ะ', 'article_date': datetime.datetime(2013, 1, 4, 7, 3, 18), 'Retrived_date': Timestamp('2020-11-29 07:33:59.076804')}, {'URLs': 'https://pantip.com/topic/30011023', 'headline': 'Fit and Firm to Slim ครั้งที่ 21\"New Year New YOU!!! ปีใหม่ ไฉไลกว่าเดิม 4/15 เดือน สุดท้าย', 'text': 'มีใครตั้งทู้ยังเอ่ย\\nงั้นเดี๋ยวเค้าตั้งให้ แป้ปนึงนะคะ', 'article_date': datetime.datetime(2013, 1, 4, 7, 3, 18), 'Retrived_date': Timestamp('2020-11-29 07:33:59.076804')}, {'URLs': 'https://pantip.com/topic/30011023', 'headline': 'Fit and Firm to Slim ครั้งที่ 21\"New Year New YOU!!! ปีใหม่ ไฉไลกว่าเดิม 4/15 เดือน สุดท้าย', 'text': 'กระทู้วันเสาร์ พร้อมแล้วค่ะ \\nhttp://pantip.com/topic/30015176', 'article_date': datetime.datetime(2013, 1, 4, 7, 3, 18), 'Retrived_date': Timestamp('2020-11-29 07:33:59.076804')}]\n"
     ]
    }
   ],
   "source": [
    "comments_list,time_list,error_list = [],[],[]\n",
    "#col_comment.delete_many({})\n",
    "\n",
    "for cnt,au in enumerate(dfURL.URLs[startResult:endResult],0):\n",
    "    today = datetime.now()\n",
    "    print('Processing URL no. ',cnt+1,' on ',today)\n",
    "    driver = webdriver.Chrome(executable_path='selenium/chromedriver.exe')\n",
    "    driver.get(au)\n",
    "    content=driver.page_source\n",
    "    soup=BeautifulSoup(content,'lxml')\n",
    "    try:\n",
    "        div1 = soup.find(\"div\", class_=lambda value: value and value==\"display-post-status-leftside\")\n",
    "        headline_t = div1.find(\"h2\", class_=lambda value: value and value==\"display-post-title\")\n",
    "        for abbr in soup.find_all(\"abbr\", class_=lambda value: value and value==\"timeago\"):\n",
    "            time_list.append(abbr['data-utime'])\n",
    "        for div3 in soup.find_all(\"div\", class_=lambda value: value and value==\"display-post-story\"):\n",
    "            if len(div3['class'])<2:\n",
    "                comments_list.append([au,headline_t.text.strip(),str(div3.text).strip(),today])\n",
    "        df_comments = pd.DataFrame(comments_list, columns=['URLs','headline', 'text', 'Retrived_date'])\n",
    "        df_comments.insert(2,'article_date',value=time_list[0])\n",
    "        process_data = create_ListofDict_InsertMany(df_comments)\n",
    "        print(process_data)\n",
    "        col_comment.insert_many(process_data)\n",
    "        del df_comments\n",
    "        comments_list.clear()\n",
    "        time_list.clear()\n",
    "    except Exception as err:\n",
    "        print('กระทู้ไม่ถูกดึงเข้าระบบ', err)\n",
    "        error_list.append([cnt,au,err])\n",
    "    time.sleep(postNumSleep)\n",
    "    driver.quit()\n",
    "    clear_output(wait=True)"
   ]
  },
  {
   "cell_type": "code",
   "execution_count": 40,
   "metadata": {},
   "outputs": [
    {
     "name": "stdout",
     "output_type": "stream",
     "text": [
      "[[122, 'https://pantip.com/topic/37933589', AttributeError(\"'NoneType' object has no attribute 'find'\")], [1237, 'https://pantip.com/topic/30879221', AttributeError(\"'NoneType' object has no attribute 'find'\")], [1296, 'https://pantip.com/topic/37105528', AttributeError(\"'NoneType' object has no attribute 'find'\")], [1297, 'https://pantip.com/topic/37610087', AttributeError(\"'NoneType' object has no attribute 'find'\")], [1299, 'https://pantip.com/topic/37364633', AttributeError(\"'NoneType' object has no attribute 'find'\")], [1325, 'https://pantip.com/topic/36092354', AttributeError(\"'NoneType' object has no attribute 'find'\")]]\n"
     ]
    }
   ],
   "source": [
    "print(error_list)"
   ]
  }
 ],
 "metadata": {
  "kernelspec": {
   "display_name": "Python 3",
   "language": "python",
   "name": "python3"
  },
  "language_info": {
   "codemirror_mode": {
    "name": "ipython",
    "version": 3
   },
   "file_extension": ".py",
   "mimetype": "text/x-python",
   "name": "python",
   "nbconvert_exporter": "python",
   "pygments_lexer": "ipython3",
   "version": "3.7.3"
  }
 },
 "nbformat": 4,
 "nbformat_minor": 2
}
