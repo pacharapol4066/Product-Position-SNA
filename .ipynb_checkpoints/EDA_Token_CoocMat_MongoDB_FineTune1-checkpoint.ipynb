{
 "cells": [
  {
   "cell_type": "markdown",
   "metadata": {
    "id": "xoY8sy40TCb5"
   },
   "source": [
    "### IS Proof of concept\n",
    "Finding Product position on Social Network (PPSN)"
   ]
  },
  {
   "cell_type": "raw",
   "metadata": {
    "colab": {
     "base_uri": "https://localhost:8080/"
    },
    "executionInfo": {
     "elapsed": 28353,
     "status": "ok",
     "timestamp": 1604024868503,
     "user": {
      "displayName": "Pacharapol O.",
      "photoUrl": "https://lh3.googleusercontent.com/a-/AOh14GiBNaVjsCxoMVUqEvSDC7eauF0V2ZD7B-TzevR1TQ=s64",
      "userId": "00378494490135533545"
     },
     "user_tz": -420
    },
    "id": "GkBEUBUqTGuf",
    "outputId": "cb22db45-820a-48fd-c11a-a0568439778f"
   },
   "source": [
    "from google.colab import drive\n",
    "drive.mount('/content/drive')"
   ]
  },
  {
   "cell_type": "raw",
   "metadata": {
    "colab": {
     "base_uri": "https://localhost:8080/"
    },
    "executionInfo": {
     "elapsed": 1693,
     "status": "ok",
     "timestamp": 1604024868819,
     "user": {
      "displayName": "Pacharapol O.",
      "photoUrl": "https://lh3.googleusercontent.com/a-/AOh14GiBNaVjsCxoMVUqEvSDC7eauF0V2ZD7B-TzevR1TQ=s64",
      "userId": "00378494490135533545"
     },
     "user_tz": -420
    },
    "id": "_5mrzpx3TH9K",
    "outputId": "129bb192-4ac2-4b03-bc89-7ee7a65d5032"
   },
   "source": [
    "cd /content/drive/My\\ Drive/Colab\\ Notebooks/Master_PJ_DRMABS/Datasource"
   ]
  },
  {
   "cell_type": "code",
   "execution_count": 1,
   "metadata": {
    "executionInfo": {
     "elapsed": 2631,
     "status": "ok",
     "timestamp": 1604024879769,
     "user": {
      "displayName": "Pacharapol O.",
      "photoUrl": "https://lh3.googleusercontent.com/a-/AOh14GiBNaVjsCxoMVUqEvSDC7eauF0V2ZD7B-TzevR1TQ=s64",
      "userId": "00378494490135533545"
     },
     "user_tz": -420
    },
    "id": "cC0cBdCdTCb6"
   },
   "outputs": [],
   "source": [
    "import networkx as nx\n",
    "import numpy as np\n",
    "import pandas as pd\n",
    "import itertools\n",
    "import math\n",
    "import string\n",
    "import json\n",
    "import pymongo"
   ]
  },
  {
   "cell_type": "code",
   "execution_count": 2,
   "metadata": {},
   "outputs": [
    {
     "name": "stderr",
     "output_type": "stream",
     "text": [
      "C:\\ProgramData\\Anaconda3\\lib\\site-packages\\past\\types\\oldstr.py:5: DeprecationWarning: Using or importing the ABCs from 'collections' instead of from 'collections.abc' is deprecated, and in 3.8 it will stop working\n",
      "  from collections import Iterable\n",
      "C:\\ProgramData\\Anaconda3\\lib\\site-packages\\_pytest\\mark\\structures.py:378: DeprecationWarning: The usage of `cmp` is deprecated and will be removed on or after 2021-06-01.  Please use `eq` and `order` instead.\n",
      "  @attr.s(cmp=False, hash=False)\n"
     ]
    }
   ],
   "source": [
    "import gensim\n",
    "import pyLDAvis.gensim\n",
    "pyLDAvis.enable_notebook()\n",
    "import warnings\n",
    "warnings.filterwarnings(\"ignore\", category=DeprecationWarning) "
   ]
  },
  {
   "cell_type": "code",
   "execution_count": 3,
   "metadata": {
    "executionInfo": {
     "elapsed": 2031,
     "status": "ok",
     "timestamp": 1604024879770,
     "user": {
      "displayName": "Pacharapol O.",
      "photoUrl": "https://lh3.googleusercontent.com/a-/AOh14GiBNaVjsCxoMVUqEvSDC7eauF0V2ZD7B-TzevR1TQ=s64",
      "userId": "00378494490135533545"
     },
     "user_tz": -420
    },
    "id": "1kqXURiiTCb-"
   },
   "outputs": [],
   "source": [
    "import time\n",
    "from datetime import datetime\n",
    "today = datetime.now()"
   ]
  },
  {
   "cell_type": "code",
   "execution_count": 4,
   "metadata": {
    "colab": {
     "base_uri": "https://localhost:8080/"
    },
    "executionInfo": {
     "elapsed": 3451,
     "status": "ok",
     "timestamp": 1604028167896,
     "user": {
      "displayName": "Pacharapol O.",
      "photoUrl": "https://lh3.googleusercontent.com/a-/AOh14GiBNaVjsCxoMVUqEvSDC7eauF0V2ZD7B-TzevR1TQ=s64",
      "userId": "00378494490135533545"
     },
     "user_tz": -420
    },
    "id": "weEcXSD8TCcI",
    "outputId": "1219680e-0d54-4649-a26e-535e112f0650"
   },
   "outputs": [],
   "source": [
    "#!pip install pythainlp\n",
    "import pythainlp\n",
    "from pythainlp import Tokenizer\n",
    "from pythainlp.util import normalize\n",
    "from pythainlp.tokenize import word_tokenize\n",
    "from pythainlp.corpus.common import thai_words\n",
    "from pythainlp import sent_tokenize\n",
    "from pythainlp.corpus import thai_stopwords\n",
    "from pythainlp.util import dict_trie\n",
    "from pythainlp.tag import pos_tag"
   ]
  },
  {
   "cell_type": "code",
   "execution_count": 5,
   "metadata": {
    "id": "Jpa16DrfTCeL"
   },
   "outputs": [],
   "source": [
    "# https://thainlp.org/pythainlp/docs/2.0/api/tag.html\n",
    "from pythainlp.spell import correct\n",
    "from pythainlp.tag import pos_tag\n",
    "\n",
    "#https://thainlp.org/pythainlp/docs/2.0/api/transliterate.html\n",
    "from pythainlp.transliterate import romanize"
   ]
  },
  {
   "cell_type": "code",
   "execution_count": 6,
   "metadata": {},
   "outputs": [],
   "source": [
    "import statistics as stat\n",
    "import matplotlib.pyplot as plt\n",
    "import seaborn as sns"
   ]
  },
  {
   "cell_type": "code",
   "execution_count": 7,
   "metadata": {
    "executionInfo": {
     "elapsed": 6121,
     "status": "ok",
     "timestamp": 1604024888335,
     "user": {
      "displayName": "Pacharapol O.",
      "photoUrl": "https://lh3.googleusercontent.com/a-/AOh14GiBNaVjsCxoMVUqEvSDC7eauF0V2ZD7B-TzevR1TQ=s64",
      "userId": "00378494490135533545"
     },
     "user_tz": -420
    },
    "id": "acWWFhczTCcO"
   },
   "outputs": [],
   "source": [
    "from bs4 import BeautifulSoup\n",
    "from urllib.request import urlopen"
   ]
  },
  {
   "cell_type": "code",
   "execution_count": 8,
   "metadata": {
    "executionInfo": {
     "elapsed": 5596,
     "status": "ok",
     "timestamp": 1604024888336,
     "user": {
      "displayName": "Pacharapol O.",
      "photoUrl": "https://lh3.googleusercontent.com/a-/AOh14GiBNaVjsCxoMVUqEvSDC7eauF0V2ZD7B-TzevR1TQ=s64",
      "userId": "00378494490135533545"
     },
     "user_tz": -420
    },
    "id": "l0SZe4-LTCcd"
   },
   "outputs": [],
   "source": [
    "from IPython.display import clear_output"
   ]
  },
  {
   "cell_type": "code",
   "execution_count": 9,
   "metadata": {
    "executionInfo": {
     "elapsed": 831,
     "status": "ok",
     "timestamp": 1604027698593,
     "user": {
      "displayName": "Pacharapol O.",
      "photoUrl": "https://lh3.googleusercontent.com/a-/AOh14GiBNaVjsCxoMVUqEvSDC7eauF0V2ZD7B-TzevR1TQ=s64",
      "userId": "00378494490135533545"
     },
     "user_tz": -420
    },
    "id": "sna_e7nATCch"
   },
   "outputs": [],
   "source": [
    "# Files definition\n",
    "root_path = 'Datasource'\n",
    "\n",
    "comment_file = []\n",
    "comment_file.append(root_path+\"/comment_meiji.csv\")\n",
    "comment_file.append(root_path+\"/comment_DDCF.csv\")\n",
    "\n",
    "#comment_file = []\n",
    "#comment_file.append(\"comment_meiji.csv\")\n",
    "#comment_file.append(\"comment_DDCF.csv\")\n",
    "\n",
    "comment_nlp_file = root_path+\"/comment_nlpToken.csv\"\n",
    "comment_cooc_nlp_file = root_path+\"/comment_cooc.xlsx\"\n",
    "\n",
    "#comment_nlp_file = \"comment_nlpToken.csv\"\n",
    "#comment_cooc_nlp_file = \"comment_cooc.xlsx\""
   ]
  },
  {
   "cell_type": "code",
   "execution_count": 10,
   "metadata": {},
   "outputs": [],
   "source": [
    "# Connect MongoDB\n",
    "myclient = pymongo.MongoClient(\"mongodb://localhost:27017/\")\n",
    "mydb = myclient[\"NIDA_PPSN_PRD\"]\n",
    "col_thread = mydb[\"NIDA_PPSN_THREAD\"]\n",
    "col_comment = mydb[\"NIDA_PPSN_COMMENT\"]"
   ]
  },
  {
   "cell_type": "code",
   "execution_count": 11,
   "metadata": {
    "executionInfo": {
     "elapsed": 866,
     "status": "ok",
     "timestamp": 1604028004964,
     "user": {
      "displayName": "Pacharapol O.",
      "photoUrl": "https://lh3.googleusercontent.com/a-/AOh14GiBNaVjsCxoMVUqEvSDC7eauF0V2ZD7B-TzevR1TQ=s64",
      "userId": "00378494490135533545"
     },
     "user_tz": -420
    },
    "id": "oaqpUVffTCdm"
   },
   "outputs": [],
   "source": [
    "def checkStopwords(w):\n",
    "    returnList = []\n",
    "    stopwords = set(thai_stopwords())\n",
    "    stopwords.remove('ไม่')\n",
    "    stopwords.remove('ได้')\n",
    "    for i in w:  # comment\n",
    "        if i not in stopwords:\n",
    "            returnList.append(i)\n",
    "    return returnList"
   ]
  },
  {
   "cell_type": "code",
   "execution_count": 12,
   "metadata": {
    "executionInfo": {
     "elapsed": 880,
     "status": "ok",
     "timestamp": 1604028299778,
     "user": {
      "displayName": "Pacharapol O.",
      "photoUrl": "https://lh3.googleusercontent.com/a-/AOh14GiBNaVjsCxoMVUqEvSDC7eauF0V2ZD7B-TzevR1TQ=s64",
      "userId": "00378494490135533545"
     },
     "user_tz": -420
    },
    "id": "cr_O7hE5htx2"
   },
   "outputs": [],
   "source": [
    "def normThai(w):\n",
    "    returnList = []\n",
    "    for i in w:\n",
    "        returnList.append(normalize(i).lower())\n",
    "    return returnList"
   ]
  },
  {
   "cell_type": "code",
   "execution_count": 13,
   "metadata": {},
   "outputs": [],
   "source": [
    "list_punc = []\n",
    "for c in string.punctuation:\n",
    "    list_punc.append(c)"
   ]
  },
  {
   "cell_type": "markdown",
   "metadata": {
    "id": "wlnotsqqTCcl"
   },
   "source": [
    "### 1.Clean data & NLP Tokenized"
   ]
  },
  {
   "cell_type": "code",
   "execution_count": 14,
   "metadata": {
    "executionInfo": {
     "elapsed": 2677,
     "status": "ok",
     "timestamp": 1604027704431,
     "user": {
      "displayName": "Pacharapol O.",
      "photoUrl": "https://lh3.googleusercontent.com/a-/AOh14GiBNaVjsCxoMVUqEvSDC7eauF0V2ZD7B-TzevR1TQ=s64",
      "userId": "00378494490135533545"
     },
     "user_tz": -420
    },
    "id": "VXYRZDubTCcm"
   },
   "outputs": [],
   "source": [
    "df_textList1 = pd.read_csv(comment_file[0],header=None)\n",
    "df_textList2 = pd.read_csv(comment_file[1],header=None)"
   ]
  },
  {
   "cell_type": "code",
   "execution_count": 15,
   "metadata": {
    "executionInfo": {
     "elapsed": 1168,
     "status": "ok",
     "timestamp": 1604027707570,
     "user": {
      "displayName": "Pacharapol O.",
      "photoUrl": "https://lh3.googleusercontent.com/a-/AOh14GiBNaVjsCxoMVUqEvSDC7eauF0V2ZD7B-TzevR1TQ=s64",
      "userId": "00378494490135533545"
     },
     "user_tz": -420
    },
    "id": "2Lc6T0oATCcp"
   },
   "outputs": [],
   "source": [
    "df_textList1.insert(0,'Table','Meiji')\n",
    "df_textList1.columns = ['Table','URLs', 'text', 'Retrived_date']\n",
    "df_textList2.insert(0,'Table','DDFC')\n",
    "df_textList2.columns = ['Table','URLs', 'text', 'Retrived_date']"
   ]
  },
  {
   "cell_type": "code",
   "execution_count": 16,
   "metadata": {
    "colab": {
     "base_uri": "https://localhost:8080/",
     "height": 79
    },
    "executionInfo": {
     "elapsed": 1043,
     "status": "ok",
     "timestamp": 1604027708520,
     "user": {
      "displayName": "Pacharapol O.",
      "photoUrl": "https://lh3.googleusercontent.com/a-/AOh14GiBNaVjsCxoMVUqEvSDC7eauF0V2ZD7B-TzevR1TQ=s64",
      "userId": "00378494490135533545"
     },
     "user_tz": -420
    },
    "id": "594kVpigTCcv",
    "outputId": "44e651f1-4657-4a83-f483-a33998995e6b"
   },
   "outputs": [
    {
     "data": {
      "text/html": [
       "<div>\n",
       "<style scoped>\n",
       "    .dataframe tbody tr th:only-of-type {\n",
       "        vertical-align: middle;\n",
       "    }\n",
       "\n",
       "    .dataframe tbody tr th {\n",
       "        vertical-align: top;\n",
       "    }\n",
       "\n",
       "    .dataframe thead th {\n",
       "        text-align: right;\n",
       "    }\n",
       "</style>\n",
       "<table border=\"1\" class=\"dataframe\">\n",
       "  <thead>\n",
       "    <tr style=\"text-align: right;\">\n",
       "      <th></th>\n",
       "      <th>count</th>\n",
       "      <th>mean</th>\n",
       "      <th>std</th>\n",
       "      <th>min</th>\n",
       "      <th>25%</th>\n",
       "      <th>50%</th>\n",
       "      <th>75%</th>\n",
       "      <th>max</th>\n",
       "    </tr>\n",
       "  </thead>\n",
       "  <tbody>\n",
       "    <tr>\n",
       "      <th>URLs</th>\n",
       "      <td>1000.0</td>\n",
       "      <td>43.049</td>\n",
       "      <td>53.682105</td>\n",
       "      <td>3.0</td>\n",
       "      <td>11.0</td>\n",
       "      <td>21.0</td>\n",
       "      <td>49.0</td>\n",
       "      <td>351.0</td>\n",
       "    </tr>\n",
       "  </tbody>\n",
       "</table>\n",
       "</div>"
      ],
      "text/plain": [
       "       count    mean        std  min   25%   50%   75%    max\n",
       "URLs  1000.0  43.049  53.682105  3.0  11.0  21.0  49.0  351.0"
      ]
     },
     "execution_count": 16,
     "metadata": {},
     "output_type": "execute_result"
    }
   ],
   "source": [
    "pd.DataFrame(df_textList1.URLs.value_counts()).describe().T"
   ]
  },
  {
   "cell_type": "code",
   "execution_count": 17,
   "metadata": {
    "colab": {
     "base_uri": "https://localhost:8080/"
    },
    "executionInfo": {
     "elapsed": 853,
     "status": "ok",
     "timestamp": 1604027711587,
     "user": {
      "displayName": "Pacharapol O.",
      "photoUrl": "https://lh3.googleusercontent.com/a-/AOh14GiBNaVjsCxoMVUqEvSDC7eauF0V2ZD7B-TzevR1TQ=s64",
      "userId": "00378494490135533545"
     },
     "user_tz": -420
    },
    "id": "DKbN38AzTCc0",
    "outputId": "f1bafe8c-19c9-4b52-dbb7-faafb7726901"
   },
   "outputs": [
    {
     "name": "stdout",
     "output_type": "stream",
     "text": [
      "meiji comment: 43049\n",
      "meiji URLs ก่อนตัด: 1000\n"
     ]
    }
   ],
   "source": [
    "print('meiji comment:',df_textList1.shape[0])\n",
    "print('meiji URLs ก่อนตัด:',len(df_textList1.URLs.unique()))"
   ]
  },
  {
   "cell_type": "code",
   "execution_count": 18,
   "metadata": {
    "colab": {
     "base_uri": "https://localhost:8080/",
     "height": 79
    },
    "executionInfo": {
     "elapsed": 906,
     "status": "ok",
     "timestamp": 1604027713588,
     "user": {
      "displayName": "Pacharapol O.",
      "photoUrl": "https://lh3.googleusercontent.com/a-/AOh14GiBNaVjsCxoMVUqEvSDC7eauF0V2ZD7B-TzevR1TQ=s64",
      "userId": "00378494490135533545"
     },
     "user_tz": -420
    },
    "id": "oJKpaP0xTCc4",
    "outputId": "7705fefd-637c-4533-b001-5016a317c45b"
   },
   "outputs": [
    {
     "data": {
      "text/html": [
       "<div>\n",
       "<style scoped>\n",
       "    .dataframe tbody tr th:only-of-type {\n",
       "        vertical-align: middle;\n",
       "    }\n",
       "\n",
       "    .dataframe tbody tr th {\n",
       "        vertical-align: top;\n",
       "    }\n",
       "\n",
       "    .dataframe thead th {\n",
       "        text-align: right;\n",
       "    }\n",
       "</style>\n",
       "<table border=\"1\" class=\"dataframe\">\n",
       "  <thead>\n",
       "    <tr style=\"text-align: right;\">\n",
       "      <th></th>\n",
       "      <th>count</th>\n",
       "      <th>mean</th>\n",
       "      <th>std</th>\n",
       "      <th>min</th>\n",
       "      <th>25%</th>\n",
       "      <th>50%</th>\n",
       "      <th>75%</th>\n",
       "      <th>max</th>\n",
       "    </tr>\n",
       "  </thead>\n",
       "  <tbody>\n",
       "    <tr>\n",
       "      <th>URLs</th>\n",
       "      <td>517.0</td>\n",
       "      <td>44.756286</td>\n",
       "      <td>57.056773</td>\n",
       "      <td>1.0</td>\n",
       "      <td>10.0</td>\n",
       "      <td>19.0</td>\n",
       "      <td>53.0</td>\n",
       "      <td>328.0</td>\n",
       "    </tr>\n",
       "  </tbody>\n",
       "</table>\n",
       "</div>"
      ],
      "text/plain": [
       "      count       mean        std  min   25%   50%   75%    max\n",
       "URLs  517.0  44.756286  57.056773  1.0  10.0  19.0  53.0  328.0"
      ]
     },
     "execution_count": 18,
     "metadata": {},
     "output_type": "execute_result"
    }
   ],
   "source": [
    "pd.DataFrame(df_textList2.URLs.value_counts()).describe().T"
   ]
  },
  {
   "cell_type": "code",
   "execution_count": 19,
   "metadata": {
    "colab": {
     "base_uri": "https://localhost:8080/"
    },
    "executionInfo": {
     "elapsed": 887,
     "status": "ok",
     "timestamp": 1604027715137,
     "user": {
      "displayName": "Pacharapol O.",
      "photoUrl": "https://lh3.googleusercontent.com/a-/AOh14GiBNaVjsCxoMVUqEvSDC7eauF0V2ZD7B-TzevR1TQ=s64",
      "userId": "00378494490135533545"
     },
     "user_tz": -420
    },
    "id": "wGrNn6b4TCc7",
    "outputId": "df1d8a4a-b8ea-45d8-99e8-65aa6e8178bb"
   },
   "outputs": [
    {
     "name": "stdout",
     "output_type": "stream",
     "text": [
      "DDCF comment: 23139\n",
      "DDCF URLs ก่อนตัด: 517\n"
     ]
    }
   ],
   "source": [
    "print('DDCF comment:',df_textList2.shape[0])\n",
    "print('DDCF URLs ก่อนตัด:',len(df_textList2.URLs.unique()))"
   ]
  },
  {
   "cell_type": "code",
   "execution_count": 20,
   "metadata": {
    "executionInfo": {
     "elapsed": 1076,
     "status": "ok",
     "timestamp": 1604027716129,
     "user": {
      "displayName": "Pacharapol O.",
      "photoUrl": "https://lh3.googleusercontent.com/a-/AOh14GiBNaVjsCxoMVUqEvSDC7eauF0V2ZD7B-TzevR1TQ=s64",
      "userId": "00378494490135533545"
     },
     "user_tz": -420
    },
    "id": "7IxgQQhCTCc_"
   },
   "outputs": [],
   "source": [
    "df_Corpus = pd.concat([df_textList1,df_textList2],ignore_index=True)"
   ]
  },
  {
   "cell_type": "code",
   "execution_count": 21,
   "metadata": {
    "colab": {
     "base_uri": "https://localhost:8080/"
    },
    "executionInfo": {
     "elapsed": 885,
     "status": "ok",
     "timestamp": 1604027718134,
     "user": {
      "displayName": "Pacharapol O.",
      "photoUrl": "https://lh3.googleusercontent.com/a-/AOh14GiBNaVjsCxoMVUqEvSDC7eauF0V2ZD7B-TzevR1TQ=s64",
      "userId": "00378494490135533545"
     },
     "user_tz": -420
    },
    "id": "Xf0_nwz8TCdB",
    "outputId": "d39ed4de-8549-4488-d8c5-04e62e8a4dfd"
   },
   "outputs": [
    {
     "name": "stdout",
     "output_type": "stream",
     "text": [
      "All comment: 66188\n",
      "All URLs ก่อนตัด: 1517\n"
     ]
    }
   ],
   "source": [
    "print('All comment:',df_Corpus.shape[0])\n",
    "print('All URLs ก่อนตัด:',len(df_Corpus.URLs.unique()))"
   ]
  },
  {
   "cell_type": "code",
   "execution_count": 22,
   "metadata": {
    "colab": {
     "base_uri": "https://localhost:8080/"
    },
    "executionInfo": {
     "elapsed": 1032,
     "status": "ok",
     "timestamp": 1604027719151,
     "user": {
      "displayName": "Pacharapol O.",
      "photoUrl": "https://lh3.googleusercontent.com/a-/AOh14GiBNaVjsCxoMVUqEvSDC7eauF0V2ZD7B-TzevR1TQ=s64",
      "userId": "00378494490135533545"
     },
     "user_tz": -420
    },
    "id": "vRH0T2gLTCdE",
    "outputId": "0722d375-5945-44d8-bc71-f39dcc58a0e9"
   },
   "outputs": [
    {
     "name": "stdout",
     "output_type": "stream",
     "text": [
      "Table               0\n",
      "URLs                0\n",
      "text             4703\n",
      "Retrived_date       0\n",
      "dtype: int64\n"
     ]
    }
   ],
   "source": [
    "missing = df_Corpus.isnull().sum()\n",
    "print(missing)"
   ]
  },
  {
   "cell_type": "code",
   "execution_count": 23,
   "metadata": {
    "colab": {
     "base_uri": "https://localhost:8080/",
     "height": 202
    },
    "executionInfo": {
     "elapsed": 828,
     "status": "ok",
     "timestamp": 1604027721340,
     "user": {
      "displayName": "Pacharapol O.",
      "photoUrl": "https://lh3.googleusercontent.com/a-/AOh14GiBNaVjsCxoMVUqEvSDC7eauF0V2ZD7B-TzevR1TQ=s64",
      "userId": "00378494490135533545"
     },
     "user_tz": -420
    },
    "id": "LXg1m0eoTCdK",
    "outputId": "567e2a04-8322-4104-9f68-6d509815fd24"
   },
   "outputs": [
    {
     "data": {
      "text/html": [
       "<div>\n",
       "<style scoped>\n",
       "    .dataframe tbody tr th:only-of-type {\n",
       "        vertical-align: middle;\n",
       "    }\n",
       "\n",
       "    .dataframe tbody tr th {\n",
       "        vertical-align: top;\n",
       "    }\n",
       "\n",
       "    .dataframe thead th {\n",
       "        text-align: right;\n",
       "    }\n",
       "</style>\n",
       "<table border=\"1\" class=\"dataframe\">\n",
       "  <thead>\n",
       "    <tr style=\"text-align: right;\">\n",
       "      <th></th>\n",
       "      <th>Table</th>\n",
       "      <th>URLs</th>\n",
       "      <th>text</th>\n",
       "      <th>Retrived_date</th>\n",
       "    </tr>\n",
       "  </thead>\n",
       "  <tbody>\n",
       "    <tr>\n",
       "      <th>66183</th>\n",
       "      <td>DDFC</td>\n",
       "      <td>https://pantip.com/topic/30651064</td>\n",
       "      <td>มีหลายยี่ห้อนะค่ะ พวกจิตรดา ไทยเดนมาร์ค โฟร์โม...</td>\n",
       "      <td>2020-10-27 13:54:33.920930</td>\n",
       "    </tr>\n",
       "    <tr>\n",
       "      <th>66184</th>\n",
       "      <td>DDFC</td>\n",
       "      <td>https://pantip.com/topic/30651064</td>\n",
       "      <td>เดี๋ยวนมรสจืด ส่วนใหญ่ก็นมโคแท้ 100%ทั้งนั้นแห...</td>\n",
       "      <td>2020-10-27 13:54:33.920930</td>\n",
       "    </tr>\n",
       "    <tr>\n",
       "      <th>66185</th>\n",
       "      <td>DDFC</td>\n",
       "      <td>https://pantip.com/topic/30651064</td>\n",
       "      <td>ตามกฏหมายเอง นมโคสดแท้ 100% กับนมโคแท้ 100% ไม...</td>\n",
       "      <td>2020-10-27 13:54:33.920930</td>\n",
       "    </tr>\n",
       "    <tr>\n",
       "      <th>66186</th>\n",
       "      <td>DDFC</td>\n",
       "      <td>https://pantip.com/topic/30651064</td>\n",
       "      <td>NaN</td>\n",
       "      <td>2020-10-27 13:54:33.920930</td>\n",
       "    </tr>\n",
       "    <tr>\n",
       "      <th>66187</th>\n",
       "      <td>DDFC</td>\n",
       "      <td>https://pantip.com/topic/30651064</td>\n",
       "      <td>NaN</td>\n",
       "      <td>2020-10-27 13:54:33.920930</td>\n",
       "    </tr>\n",
       "  </tbody>\n",
       "</table>\n",
       "</div>"
      ],
      "text/plain": [
       "      Table                               URLs  \\\n",
       "66183  DDFC  https://pantip.com/topic/30651064   \n",
       "66184  DDFC  https://pantip.com/topic/30651064   \n",
       "66185  DDFC  https://pantip.com/topic/30651064   \n",
       "66186  DDFC  https://pantip.com/topic/30651064   \n",
       "66187  DDFC  https://pantip.com/topic/30651064   \n",
       "\n",
       "                                                    text  \\\n",
       "66183  มีหลายยี่ห้อนะค่ะ พวกจิตรดา ไทยเดนมาร์ค โฟร์โม...   \n",
       "66184  เดี๋ยวนมรสจืด ส่วนใหญ่ก็นมโคแท้ 100%ทั้งนั้นแห...   \n",
       "66185  ตามกฏหมายเอง นมโคสดแท้ 100% กับนมโคแท้ 100% ไม...   \n",
       "66186                                                NaN   \n",
       "66187                                                NaN   \n",
       "\n",
       "                    Retrived_date  \n",
       "66183  2020-10-27 13:54:33.920930  \n",
       "66184  2020-10-27 13:54:33.920930  \n",
       "66185  2020-10-27 13:54:33.920930  \n",
       "66186  2020-10-27 13:54:33.920930  \n",
       "66187  2020-10-27 13:54:33.920930  "
      ]
     },
     "execution_count": 23,
     "metadata": {},
     "output_type": "execute_result"
    }
   ],
   "source": [
    "df_Corpus.tail()"
   ]
  },
  {
   "cell_type": "code",
   "execution_count": 24,
   "metadata": {
    "executionInfo": {
     "elapsed": 1006,
     "status": "ok",
     "timestamp": 1604027723160,
     "user": {
      "displayName": "Pacharapol O.",
      "photoUrl": "https://lh3.googleusercontent.com/a-/AOh14GiBNaVjsCxoMVUqEvSDC7eauF0V2ZD7B-TzevR1TQ=s64",
      "userId": "00378494490135533545"
     },
     "user_tz": -420
    },
    "id": "_O0BSe9ETCdO"
   },
   "outputs": [],
   "source": [
    "seqNum = list(range(1,df_Corpus.shape[0]+1))\n",
    "df_Corpus.insert(0,'commentId',seqNum)\n",
    "df_Corpus.columns = ['commentId','Table','URLs', 'text', 'Retrived_date']"
   ]
  },
  {
   "cell_type": "code",
   "execution_count": 25,
   "metadata": {
    "colab": {
     "base_uri": "https://localhost:8080/",
     "height": 202
    },
    "executionInfo": {
     "elapsed": 811,
     "status": "ok",
     "timestamp": 1604027724691,
     "user": {
      "displayName": "Pacharapol O.",
      "photoUrl": "https://lh3.googleusercontent.com/a-/AOh14GiBNaVjsCxoMVUqEvSDC7eauF0V2ZD7B-TzevR1TQ=s64",
      "userId": "00378494490135533545"
     },
     "user_tz": -420
    },
    "id": "w-muagoxTCdR",
    "outputId": "a8afe33d-943b-422e-838d-ba8514e9497d"
   },
   "outputs": [
    {
     "data": {
      "text/html": [
       "<div>\n",
       "<style scoped>\n",
       "    .dataframe tbody tr th:only-of-type {\n",
       "        vertical-align: middle;\n",
       "    }\n",
       "\n",
       "    .dataframe tbody tr th {\n",
       "        vertical-align: top;\n",
       "    }\n",
       "\n",
       "    .dataframe thead th {\n",
       "        text-align: right;\n",
       "    }\n",
       "</style>\n",
       "<table border=\"1\" class=\"dataframe\">\n",
       "  <thead>\n",
       "    <tr style=\"text-align: right;\">\n",
       "      <th></th>\n",
       "      <th>commentId</th>\n",
       "      <th>Table</th>\n",
       "      <th>URLs</th>\n",
       "      <th>text</th>\n",
       "      <th>Retrived_date</th>\n",
       "    </tr>\n",
       "  </thead>\n",
       "  <tbody>\n",
       "    <tr>\n",
       "      <th>66183</th>\n",
       "      <td>66184</td>\n",
       "      <td>DDFC</td>\n",
       "      <td>https://pantip.com/topic/30651064</td>\n",
       "      <td>มีหลายยี่ห้อนะค่ะ พวกจิตรดา ไทยเดนมาร์ค โฟร์โม...</td>\n",
       "      <td>2020-10-27 13:54:33.920930</td>\n",
       "    </tr>\n",
       "    <tr>\n",
       "      <th>66184</th>\n",
       "      <td>66185</td>\n",
       "      <td>DDFC</td>\n",
       "      <td>https://pantip.com/topic/30651064</td>\n",
       "      <td>เดี๋ยวนมรสจืด ส่วนใหญ่ก็นมโคแท้ 100%ทั้งนั้นแห...</td>\n",
       "      <td>2020-10-27 13:54:33.920930</td>\n",
       "    </tr>\n",
       "    <tr>\n",
       "      <th>66185</th>\n",
       "      <td>66186</td>\n",
       "      <td>DDFC</td>\n",
       "      <td>https://pantip.com/topic/30651064</td>\n",
       "      <td>ตามกฏหมายเอง นมโคสดแท้ 100% กับนมโคแท้ 100% ไม...</td>\n",
       "      <td>2020-10-27 13:54:33.920930</td>\n",
       "    </tr>\n",
       "    <tr>\n",
       "      <th>66186</th>\n",
       "      <td>66187</td>\n",
       "      <td>DDFC</td>\n",
       "      <td>https://pantip.com/topic/30651064</td>\n",
       "      <td>NaN</td>\n",
       "      <td>2020-10-27 13:54:33.920930</td>\n",
       "    </tr>\n",
       "    <tr>\n",
       "      <th>66187</th>\n",
       "      <td>66188</td>\n",
       "      <td>DDFC</td>\n",
       "      <td>https://pantip.com/topic/30651064</td>\n",
       "      <td>NaN</td>\n",
       "      <td>2020-10-27 13:54:33.920930</td>\n",
       "    </tr>\n",
       "  </tbody>\n",
       "</table>\n",
       "</div>"
      ],
      "text/plain": [
       "       commentId Table                               URLs  \\\n",
       "66183      66184  DDFC  https://pantip.com/topic/30651064   \n",
       "66184      66185  DDFC  https://pantip.com/topic/30651064   \n",
       "66185      66186  DDFC  https://pantip.com/topic/30651064   \n",
       "66186      66187  DDFC  https://pantip.com/topic/30651064   \n",
       "66187      66188  DDFC  https://pantip.com/topic/30651064   \n",
       "\n",
       "                                                    text  \\\n",
       "66183  มีหลายยี่ห้อนะค่ะ พวกจิตรดา ไทยเดนมาร์ค โฟร์โม...   \n",
       "66184  เดี๋ยวนมรสจืด ส่วนใหญ่ก็นมโคแท้ 100%ทั้งนั้นแห...   \n",
       "66185  ตามกฏหมายเอง นมโคสดแท้ 100% กับนมโคแท้ 100% ไม...   \n",
       "66186                                                NaN   \n",
       "66187                                                NaN   \n",
       "\n",
       "                    Retrived_date  \n",
       "66183  2020-10-27 13:54:33.920930  \n",
       "66184  2020-10-27 13:54:33.920930  \n",
       "66185  2020-10-27 13:54:33.920930  \n",
       "66186  2020-10-27 13:54:33.920930  \n",
       "66187  2020-10-27 13:54:33.920930  "
      ]
     },
     "execution_count": 25,
     "metadata": {},
     "output_type": "execute_result"
    }
   ],
   "source": [
    "df_Corpus.tail()"
   ]
  },
  {
   "cell_type": "code",
   "execution_count": 26,
   "metadata": {
    "executionInfo": {
     "elapsed": 1166,
     "status": "ok",
     "timestamp": 1604027727940,
     "user": {
      "displayName": "Pacharapol O.",
      "photoUrl": "https://lh3.googleusercontent.com/a-/AOh14GiBNaVjsCxoMVUqEvSDC7eauF0V2ZD7B-TzevR1TQ=s64",
      "userId": "00378494490135533545"
     },
     "user_tz": -420
    },
    "id": "jZFN_aTsTCdU"
   },
   "outputs": [],
   "source": [
    "# Drop NA & banned comments\n",
    "df_Corpus = df_Corpus.dropna()\n",
    "df_Corpus = df_Corpus[df_Corpus[\"text\"].str.find('ความคิดเห็นนี้ถูกลบ')!= 0]\n",
    "df_Corpus = df_Corpus[df_Corpus[\"text\"].str.find('แก้ไขข้อความเมื่อ')!= 0]\n",
    "df_Corpus = df_Corpus.set_index('commentId')"
   ]
  },
  {
   "cell_type": "code",
   "execution_count": 27,
   "metadata": {
    "colab": {
     "base_uri": "https://localhost:8080/"
    },
    "executionInfo": {
     "elapsed": 619,
     "status": "ok",
     "timestamp": 1604027727941,
     "user": {
      "displayName": "Pacharapol O.",
      "photoUrl": "https://lh3.googleusercontent.com/a-/AOh14GiBNaVjsCxoMVUqEvSDC7eauF0V2ZD7B-TzevR1TQ=s64",
      "userId": "00378494490135533545"
     },
     "user_tz": -420
    },
    "id": "ki-qD4YMTCdX",
    "outputId": "3102d8b3-3251-463e-f3e2-50a119fe787b"
   },
   "outputs": [
    {
     "name": "stdout",
     "output_type": "stream",
     "text": [
      "Table            0\n",
      "URLs             0\n",
      "text             0\n",
      "Retrived_date    0\n",
      "dtype: int64\n"
     ]
    }
   ],
   "source": [
    "missing = df_Corpus.isnull().sum()\n",
    "print(missing)"
   ]
  },
  {
   "cell_type": "code",
   "execution_count": 28,
   "metadata": {
    "colab": {
     "base_uri": "https://localhost:8080/"
    },
    "executionInfo": {
     "elapsed": 1135,
     "status": "ok",
     "timestamp": 1604027730567,
     "user": {
      "displayName": "Pacharapol O.",
      "photoUrl": "https://lh3.googleusercontent.com/a-/AOh14GiBNaVjsCxoMVUqEvSDC7eauF0V2ZD7B-TzevR1TQ=s64",
      "userId": "00378494490135533545"
     },
     "user_tz": -420
    },
    "id": "c0J7GD3ATCda",
    "outputId": "f8748ddd-9aab-40d2-ee9e-38ba742906b7"
   },
   "outputs": [
    {
     "name": "stdout",
     "output_type": "stream",
     "text": [
      "จำนวน comment หลังตัด: 60545\n",
      "จำนวนกระทู้หลังตัด: 1514\n"
     ]
    }
   ],
   "source": [
    "print('จำนวน comment หลังตัด:',df_Corpus.shape[0])\n",
    "print('จำนวนกระทู้หลังตัด:',len(df_Corpus.URLs.unique()))"
   ]
  },
  {
   "cell_type": "code",
   "execution_count": 29,
   "metadata": {
    "colab": {
     "base_uri": "https://localhost:8080/",
     "height": 233
    },
    "executionInfo": {
     "elapsed": 890,
     "status": "ok",
     "timestamp": 1604027730892,
     "user": {
      "displayName": "Pacharapol O.",
      "photoUrl": "https://lh3.googleusercontent.com/a-/AOh14GiBNaVjsCxoMVUqEvSDC7eauF0V2ZD7B-TzevR1TQ=s64",
      "userId": "00378494490135533545"
     },
     "user_tz": -420
    },
    "id": "PKvz8tQpTCdd",
    "outputId": "62e2d990-0240-4a01-cef5-515147c6750c"
   },
   "outputs": [
    {
     "data": {
      "text/html": [
       "<div>\n",
       "<style scoped>\n",
       "    .dataframe tbody tr th:only-of-type {\n",
       "        vertical-align: middle;\n",
       "    }\n",
       "\n",
       "    .dataframe tbody tr th {\n",
       "        vertical-align: top;\n",
       "    }\n",
       "\n",
       "    .dataframe thead th {\n",
       "        text-align: right;\n",
       "    }\n",
       "</style>\n",
       "<table border=\"1\" class=\"dataframe\">\n",
       "  <thead>\n",
       "    <tr style=\"text-align: right;\">\n",
       "      <th></th>\n",
       "      <th>Table</th>\n",
       "      <th>URLs</th>\n",
       "      <th>text</th>\n",
       "      <th>Retrived_date</th>\n",
       "      <th>token_text</th>\n",
       "    </tr>\n",
       "    <tr>\n",
       "      <th>commentId</th>\n",
       "      <th></th>\n",
       "      <th></th>\n",
       "      <th></th>\n",
       "      <th></th>\n",
       "      <th></th>\n",
       "    </tr>\n",
       "  </thead>\n",
       "  <tbody>\n",
       "    <tr>\n",
       "      <th>66181</th>\n",
       "      <td>DDFC</td>\n",
       "      <td>https://pantip.com/topic/30651064</td>\n",
       "      <td>นมผง คือเอานมดิบดีๆ มาคัดไขมันนมและอื่นๆออกไปใ...</td>\n",
       "      <td>2020-10-27 13:54:33.920930</td>\n",
       "      <td>None</td>\n",
       "    </tr>\n",
       "    <tr>\n",
       "      <th>66182</th>\n",
       "      <td>DDFC</td>\n",
       "      <td>https://pantip.com/topic/30651064</td>\n",
       "      <td>นมสด รสชาติมันดีนะ\\r\\nเพราะมีปริมาณไขมันสูง ดั...</td>\n",
       "      <td>2020-10-27 13:54:33.920930</td>\n",
       "      <td>None</td>\n",
       "    </tr>\n",
       "    <tr>\n",
       "      <th>66184</th>\n",
       "      <td>DDFC</td>\n",
       "      <td>https://pantip.com/topic/30651064</td>\n",
       "      <td>มีหลายยี่ห้อนะค่ะ พวกจิตรดา ไทยเดนมาร์ค โฟร์โม...</td>\n",
       "      <td>2020-10-27 13:54:33.920930</td>\n",
       "      <td>None</td>\n",
       "    </tr>\n",
       "    <tr>\n",
       "      <th>66185</th>\n",
       "      <td>DDFC</td>\n",
       "      <td>https://pantip.com/topic/30651064</td>\n",
       "      <td>เดี๋ยวนมรสจืด ส่วนใหญ่ก็นมโคแท้ 100%ทั้งนั้นแห...</td>\n",
       "      <td>2020-10-27 13:54:33.920930</td>\n",
       "      <td>None</td>\n",
       "    </tr>\n",
       "    <tr>\n",
       "      <th>66186</th>\n",
       "      <td>DDFC</td>\n",
       "      <td>https://pantip.com/topic/30651064</td>\n",
       "      <td>ตามกฏหมายเอง นมโคสดแท้ 100% กับนมโคแท้ 100% ไม...</td>\n",
       "      <td>2020-10-27 13:54:33.920930</td>\n",
       "      <td>None</td>\n",
       "    </tr>\n",
       "  </tbody>\n",
       "</table>\n",
       "</div>"
      ],
      "text/plain": [
       "          Table                               URLs  \\\n",
       "commentId                                            \n",
       "66181      DDFC  https://pantip.com/topic/30651064   \n",
       "66182      DDFC  https://pantip.com/topic/30651064   \n",
       "66184      DDFC  https://pantip.com/topic/30651064   \n",
       "66185      DDFC  https://pantip.com/topic/30651064   \n",
       "66186      DDFC  https://pantip.com/topic/30651064   \n",
       "\n",
       "                                                        text  \\\n",
       "commentId                                                      \n",
       "66181      นมผง คือเอานมดิบดีๆ มาคัดไขมันนมและอื่นๆออกไปใ...   \n",
       "66182      นมสด รสชาติมันดีนะ\\r\\nเพราะมีปริมาณไขมันสูง ดั...   \n",
       "66184      มีหลายยี่ห้อนะค่ะ พวกจิตรดา ไทยเดนมาร์ค โฟร์โม...   \n",
       "66185      เดี๋ยวนมรสจืด ส่วนใหญ่ก็นมโคแท้ 100%ทั้งนั้นแห...   \n",
       "66186      ตามกฏหมายเอง นมโคสดแท้ 100% กับนมโคแท้ 100% ไม...   \n",
       "\n",
       "                        Retrived_date token_text  \n",
       "commentId                                         \n",
       "66181      2020-10-27 13:54:33.920930       None  \n",
       "66182      2020-10-27 13:54:33.920930       None  \n",
       "66184      2020-10-27 13:54:33.920930       None  \n",
       "66185      2020-10-27 13:54:33.920930       None  \n",
       "66186      2020-10-27 13:54:33.920930       None  "
      ]
     },
     "execution_count": 29,
     "metadata": {},
     "output_type": "execute_result"
    }
   ],
   "source": [
    "df_Corpus.insert(4,'token_text',None)\n",
    "#df_Corpus.insert(5,'token_sound',None)\n",
    "#df_Corpus.insert(6,'token_tag',None)\n",
    "df_Corpus.tail()"
   ]
  },
  {
   "cell_type": "markdown",
   "metadata": {},
   "source": [
    "เก็บเฉพาะหัวกระทู้"
   ]
  },
  {
   "cell_type": "code",
   "execution_count": 30,
   "metadata": {},
   "outputs": [
    {
     "data": {
      "text/html": [
       "<div>\n",
       "<style scoped>\n",
       "    .dataframe tbody tr th:only-of-type {\n",
       "        vertical-align: middle;\n",
       "    }\n",
       "\n",
       "    .dataframe tbody tr th {\n",
       "        vertical-align: top;\n",
       "    }\n",
       "\n",
       "    .dataframe thead th {\n",
       "        text-align: right;\n",
       "    }\n",
       "</style>\n",
       "<table border=\"1\" class=\"dataframe\">\n",
       "  <thead>\n",
       "    <tr style=\"text-align: right;\">\n",
       "      <th></th>\n",
       "      <th>URLs</th>\n",
       "      <th>text</th>\n",
       "      <th>token_text</th>\n",
       "      <th>mention_product</th>\n",
       "      <th>mention_brand</th>\n",
       "    </tr>\n",
       "    <tr>\n",
       "      <th>commentId</th>\n",
       "      <th></th>\n",
       "      <th></th>\n",
       "      <th></th>\n",
       "      <th></th>\n",
       "      <th></th>\n",
       "    </tr>\n",
       "  </thead>\n",
       "  <tbody>\n",
       "    <tr>\n",
       "      <th>65991</th>\n",
       "      <td>https://pantip.com/topic/30007179</td>\n",
       "      <td>กำลังจะเป็นคุณแม่มือใหม่ค่ะ ทำตัวไม่ถูกเลยค่ะ\\...</td>\n",
       "      <td>None</td>\n",
       "      <td>None</td>\n",
       "      <td>None</td>\n",
       "    </tr>\n",
       "    <tr>\n",
       "      <th>66015</th>\n",
       "      <td>https://pantip.com/topic/30020409</td>\n",
       "      <td>พรุ่งนี้ลูกชายอายุครบ 1 ขวบ 3 เดือน หม่ำนมแม่จ...</td>\n",
       "      <td>None</td>\n",
       "      <td>None</td>\n",
       "      <td>None</td>\n",
       "    </tr>\n",
       "    <tr>\n",
       "      <th>66044</th>\n",
       "      <td>https://pantip.com/topic/30049123</td>\n",
       "      <td>เพื่อนๆทุกคนคงคุ้นเคยกับคำถามนี้แล้วทุกคน... \"...</td>\n",
       "      <td>None</td>\n",
       "      <td>None</td>\n",
       "      <td>None</td>\n",
       "    </tr>\n",
       "    <tr>\n",
       "      <th>66074</th>\n",
       "      <td>https://pantip.com/topic/30011023</td>\n",
       "      <td>แตกกระทู้มาจาก www.pantip.com/topic/30007146/\\...</td>\n",
       "      <td>None</td>\n",
       "      <td>None</td>\n",
       "      <td>None</td>\n",
       "    </tr>\n",
       "    <tr>\n",
       "      <th>66132</th>\n",
       "      <td>https://pantip.com/topic/30651064</td>\n",
       "      <td>อยากรู้ว่าปัจจุบันพวกนมกล่องทึ่ขายใน 7-11 หรือ...</td>\n",
       "      <td>None</td>\n",
       "      <td>None</td>\n",
       "      <td>None</td>\n",
       "    </tr>\n",
       "  </tbody>\n",
       "</table>\n",
       "</div>"
      ],
      "text/plain": [
       "                                        URLs  \\\n",
       "commentId                                      \n",
       "65991      https://pantip.com/topic/30007179   \n",
       "66015      https://pantip.com/topic/30020409   \n",
       "66044      https://pantip.com/topic/30049123   \n",
       "66074      https://pantip.com/topic/30011023   \n",
       "66132      https://pantip.com/topic/30651064   \n",
       "\n",
       "                                                        text token_text  \\\n",
       "commentId                                                                 \n",
       "65991      กำลังจะเป็นคุณแม่มือใหม่ค่ะ ทำตัวไม่ถูกเลยค่ะ\\...       None   \n",
       "66015      พรุ่งนี้ลูกชายอายุครบ 1 ขวบ 3 เดือน หม่ำนมแม่จ...       None   \n",
       "66044      เพื่อนๆทุกคนคงคุ้นเคยกับคำถามนี้แล้วทุกคน... \"...       None   \n",
       "66074      แตกกระทู้มาจาก www.pantip.com/topic/30007146/\\...       None   \n",
       "66132      อยากรู้ว่าปัจจุบันพวกนมกล่องทึ่ขายใน 7-11 หรือ...       None   \n",
       "\n",
       "          mention_product mention_brand  \n",
       "commentId                                \n",
       "65991                None          None  \n",
       "66015                None          None  \n",
       "66044                None          None  \n",
       "66074                None          None  \n",
       "66132                None          None  "
      ]
     },
     "execution_count": 30,
     "metadata": {},
     "output_type": "execute_result"
    }
   ],
   "source": [
    "df_thread = df_Corpus.copy()\n",
    "df_thread = df_thread[['URLs','text']]\n",
    "df_thread.drop_duplicates(subset =\"URLs\", keep = 'first', inplace = True)\n",
    "df_thread.insert(2,'token_text',None)\n",
    "df_thread.insert(3,'mention_product',None)\n",
    "df_thread.insert(4,'mention_brand',None)\n",
    "df_thread.tail()"
   ]
  },
  {
   "cell_type": "markdown",
   "metadata": {
    "id": "EpwX95XlTCdl"
   },
   "source": [
    "## 2.ตัดคำและเก็บลง MongoDB (ใช้ insight จาก jupyter งานก่อน)"
   ]
  },
  {
   "cell_type": "markdown",
   "metadata": {
    "id": "6U__d4agTCdl"
   },
   "source": [
    "https://www.thainlp.org/pythainlp/tutorials/notebooks/pythainlp-get-started.html#Thai-Characters"
   ]
  },
  {
   "cell_type": "code",
   "execution_count": 31,
   "metadata": {
    "executionInfo": {
     "elapsed": 962,
     "status": "ok",
     "timestamp": 1604030224171,
     "user": {
      "displayName": "Pacharapol O.",
      "photoUrl": "https://lh3.googleusercontent.com/a-/AOh14GiBNaVjsCxoMVUqEvSDC7eauF0V2ZD7B-TzevR1TQ=s64",
      "userId": "00378494490135533545"
     },
     "user_tz": -420
    },
    "id": "rAcuuoYiTCdu"
   },
   "outputs": [],
   "source": [
    "garbage_char = ['',' ','🥺','\\r','\\n','\\r\\n','\\xa0','www','application','ทางกฎหมาย','html'\n",
    "                ,'http','https','url','com','pantip','topic','_','–','พันทิป','^^'\n",
    "                ,'นะค่ะ','นะคะ','น่ะค่ะ','ฯ','ๆ','แฮ่','เย่ๆๆ','ว๊าว','ฮิ้วววววววววว','Number','กก'\n",
    "                ,'เมนู','Menu','Net','net','สาขา','บาท','ราคา','(',')','ฯ','ๆ','กก','อันนี้','%s','😆', '🤣','😢'\n",
    "                ,'😏','😂','😿','ววว','xx','อิอิ','แย้ววว','นะคะ','นะค่ะ','://','มกราคม', 'กุมภาพันธ์'\n",
    "                ,'มีนาคม', 'เมษายน','พฤษภาคม', 'มิถุนายน', 'กรกฎาคม', 'สิงหาคม','กันยายน', 'ตุลาคม'\n",
    "                ,'พฤศจิกายน', 'ธันวาคม']\n",
    "garbage_char  = garbage_char + list_punc"
   ]
  },
  {
   "cell_type": "code",
   "execution_count": 32,
   "metadata": {
    "colab": {
     "base_uri": "https://localhost:8080/"
    },
    "executionInfo": {
     "elapsed": 813,
     "status": "ok",
     "timestamp": 1604027849933,
     "user": {
      "displayName": "Pacharapol O.",
      "photoUrl": "https://lh3.googleusercontent.com/a-/AOh14GiBNaVjsCxoMVUqEvSDC7eauF0V2ZD7B-TzevR1TQ=s64",
      "userId": "00378494490135533545"
     },
     "user_tz": -420
    },
    "id": "mAwAGA5ITCdx",
    "outputId": "d95e59bb-b35e-4592-f16e-0915a7975f84"
   },
   "outputs": [
    {
     "name": "stdout",
     "output_type": "stream",
     "text": [
      "จำนวน comment หลังตัด: 60545\n",
      "จำนวนกระทู้หลังตัด: 1514\n"
     ]
    }
   ],
   "source": [
    "print('จำนวน comment หลังตัด:',df_Corpus.shape[0])\n",
    "print('จำนวนกระทู้หลังตัด:',len(df_Corpus.URLs.unique()))"
   ]
  },
  {
   "cell_type": "code",
   "execution_count": 33,
   "metadata": {
    "executionInfo": {
     "elapsed": 2296,
     "status": "ok",
     "timestamp": 1604030226424,
     "user": {
      "displayName": "Pacharapol O.",
      "photoUrl": "https://lh3.googleusercontent.com/a-/AOh14GiBNaVjsCxoMVUqEvSDC7eauF0V2ZD7B-TzevR1TQ=s64",
      "userId": "00378494490135533545"
     },
     "user_tz": -420
    },
    "id": "8D5MebxcTCd0"
   },
   "outputs": [],
   "source": [
    "custom_list = ['ดัชมิลล์','ดัชมิล','dutch mill','dutchmilk','ดัชชี่','เมจิ','ซีพีเมจิ','ซีพี-เมจิ','cp-meiji','betagen','บีทาเก้น','บีทาเกน'\n",
    "               ,'โฟร์โมสต์','โฟร์โมส','โฟโมสต์','โฟโมต','โฟรโมสต์','โชคชัย','แดรี่โฮม','dairy home','เดรี่โฮม','อืมม มิลค์'\n",
    "               ,'Umm! Milk','เอ็มมิลค์','mmilk','เอ็มมิ้ลค์','แมคโนเลีย','นมฟาร์มโชคชัย','นมไทย-เดนมาร์ค','ไทยเดนมาร์ค','วัวแดง','หนองโพ','คาเนชั่น'\n",
    "               ,'สตอเบอร์รี่','สตรอว์เบอร์รี','รสสตรอเบอรี่','สตรอเบอรี่','สตรอวเบอรี่','สตอเบอรี่','สตรอเบอรี่','รสกาแฟ'\n",
    "               ,'ชอคโกแล็ต','ช็อกโกแลต','ช็อคโกแลต','ช๊อกโกแลต','ช็อคโกแล็ต','ช็อกโกเลต','มิ้นท์ชอค','มิ้นต์ช้อก','รสกล้วย'\n",
    "               ,'รสหวาน','รสจืด','ไขมันต่ำ','ไขมัน 0%','low fat','0% fat','ขาดมันเนย','พร่องมันเนย','ไฮแคลเซียม'\n",
    "               ,'high protein','Hi Protein','HIgh Protein','Whey Formula','วานิลลา'\n",
    "               ,'ไฮโปรตีน','เวย์โปรตีน','whey','เวย์','อัลมอนด์','ซีเล็ค','ซีเล็คท์','กล้วยหอม','ไวท์คอฟฟี่','คาปูชิโน่','อเมริกาโน่'\n",
    "               ,'grass fed','free lactose','lactose free','พาสเจอไรซ์','พาสเจอร์ไรซ์','พาสเจอร์ไรส์','พาซเจอไรซ์','พาสเจอร์ไลท์'\n",
    "               ,'เมจิโกลด์ แม็กซ์','เมจิโกลด์','เมจิโกล์ดแม็กซ์','เมจิ บัลแกเรีย','เมจิบัลแกเรีย','นมเปรี้ยว','รสธรรมชาติ','รสกลมกล่อม'\n",
    "               ,'โยเกิต','โยเกิรต','โยเกิร์ตพร้อมดื่ม','น้ำตาลมะพร้าว','นมฮอกไกโด','เบดไทม์','ฟรีแลคโตส','แลคโตสฟรี','ริชเอสเพสโซ่'\n",
    "               ,'bedtime','bed time','เบดไทม์','ดาร์คช็อกโกแลต','ดาร์กช็อก','ดาร์กช็อกโกแลต'\n",
    "               ,'คาราเมล','ช็อกโกมอลต์','เมล่อน','ชาเขียวมัจฉะ','ฝาน้ำเงิน'\n",
    "               ,'7-Eleven','เซเว่น อีเลฟเว่น','เซเว่นอีเลฟเว่น','เซเว่น','เซเวน','7/11','7-11'\n",
    "               ,'ท็อปส์','ทอปส์','ท้อปส์','ท๊อปส์','แมคโคร','แม็คโคร','โลตัส','บิ๊กซี','bigc','Golden place','Big C'\n",
    "               ,'ขายไม่ดี','แพคคู่','ค่าจัดส่ง','shelf life','พนักงานขายนม'               \n",
    "               ,'ซื้อประจำ','ซื้อไม่ได้','ของแถม','ราคาสูง','น้ำนมโค'\n",
    "               ,'แพ้นม','แพ้นมวัว','เล่นเวท','นำ้หนัก','คุณแม่มือใหม่','นมอุ่น','ชานม','กินนม','ดื่มนม','ท้องเสีย','ขี้แตก'\n",
    "               ,'คีเฟอร์นม','พันทิป','ร้านนม','ซื้อไม่ได้','ลูกสุนัข','ลูกหมา','คายทิ้ง','เจมส์ จิ','เจมส์จิ','สตอรี่'\n",
    "              ]\n",
    "words = set(thai_words()).union(set(custom_list))\n",
    "#custom_tokenizer = Tokenizer(engine='ulmfit', custom_dict=words, keep_whitespace=False)\n",
    "trie = dict_trie(dict_source=words)"
   ]
  },
  {
   "cell_type": "code",
   "execution_count": 34,
   "metadata": {},
   "outputs": [],
   "source": [
    "#https://github.com/PyThaiNLP/pythainlp-corpus/releases/tag/wiki_lm_lstm-v0.32\n",
    "\n",
    "#from pythainlp.ulmfit import (replace_rep_after,fix_html,ungroup_emoji,replace_wrep_post,remove_space)"
   ]
  },
  {
   "cell_type": "code",
   "execution_count": 35,
   "metadata": {},
   "outputs": [],
   "source": [
    "def tokenize_custom(x, cusDict):\n",
    "    wtkn = word_tokenize(x, engine=\"newmm\", custom_dict=cusDict, keep_whitespace=False)\n",
    "    wtkn = checkStopwords(wtkn)\n",
    "    wtkn = [x for x in wtkn if len(x) >= 2]\n",
    "    wtkn = [y for y in wtkn if y not in garbage_char]\n",
    "    wtkn = [s for s in wtkn if not s.isdigit()]\n",
    "    wtkn = normThai(wtkn)\n",
    "    return wtkn"
   ]
  },
  {
   "cell_type": "code",
   "execution_count": 36,
   "metadata": {},
   "outputs": [],
   "source": [
    "def create_InsertMany_Thread(df):\n",
    "    listofdict = []\n",
    "    for c,lx in enumerate(df.URLs,0):\n",
    "        info = {\n",
    "            \"URLs\": lx,\n",
    "            \"text\": df.text[c],\n",
    "            \"token_text\":df.token_text[c],\n",
    "            \"mention_product\": df.mention_product[c],\n",
    "            \"mention_brand\": df.mention_brand[c]\n",
    "        }\n",
    "        listofdict.append(info)\n",
    "    return listofdict"
   ]
  },
  {
   "cell_type": "code",
   "execution_count": 37,
   "metadata": {},
   "outputs": [],
   "source": [
    "def create_InsertMany_comments(df):\n",
    "    listofdict = []\n",
    "    for c,lx in enumerate(df.URLs,0):\n",
    "        info = {\n",
    "            \"commentId\":int(df.commentId[c]),\n",
    "            \"Table\": df.Table[c],\n",
    "            \"URLs\": lx,\n",
    "            \"text\": df.text[c],\n",
    "            \"Retrived_date\": df.Retrived_date[c],\n",
    "            \"token_text\":df.token_text[c]\n",
    "        }\n",
    "        listofdict.append(info)\n",
    "    return listofdict"
   ]
  },
  {
   "cell_type": "code",
   "execution_count": 38,
   "metadata": {},
   "outputs": [],
   "source": [
    "def generalize_keyword(wtkn):  \n",
    "    ret_wtkn = wtkn\n",
    "    for i,each in enumerate(ret_wtkn,0):\n",
    "        if each in ['ดัชมิลล์','ดัชมิล','dutch mill','dutchmilk','ดัชชี่']:\n",
    "            ret_wtkn[i] = 'ดัชมิลล์'\n",
    "        elif each  in ['เมจิ','ซีพีเมจิ','ซีพี-เมจิ','cp-meiji','meiji','meji','miji']:\n",
    "            ret_wtkn[i] = 'เมจิ'\n",
    "        elif each  in ['โฟร์โมสต์','โฟร์โมส','โฟโมสต์','โฟรโมสต์','โฟโมต','foremost']:\n",
    "            ret_wtkn[i] = 'โฟร์โมสต์'\n",
    "        elif each  in ['แดรี่โฮม','dairy home','เดรี่โฮม']:\n",
    "            ret_wtkn[i] = 'แดรี่โฮม'\n",
    "        elif each  in ['โชคชัย','อืมม มิลค์','umm milk','นมฟาร์มโชคชัย']:\n",
    "            ret_wtkn[i] = 'โชคชัย'\n",
    "        elif each  in ['เอ็มมิลค์','mmilk','เอ็มมิ้ลค์']:\n",
    "            ret_wtkn[i] = 'เอ็มมิลค์'\n",
    "        elif each  in ['นมไทย-เดนมาร์ค','ไทยเดนมาร์ค','วัวแดง']:\n",
    "            ret_wtkn[i] = 'ไทยเดนมาร์ค'\n",
    "        elif each  in ['สตอเบอร์รี่','สตรอว์เบอร์รี','รสสตรอเบอรี่','สตอเบอรี่','สตรอเบอรี่','สตรอวเบอรี่']:\n",
    "            ret_wtkn[i] = 'สตรอว์เบอร์รี'\n",
    "        elif each  in ['ชอคโกแล็ต','ช็อกโกแลต','ช็อคโกแลต','ช๊อกโกแลต','ช็อคโกแล็ต','ช็อกโกเลต','ช็อค']:\n",
    "            ret_wtkn[i] = 'ช็อกโกแลต'\n",
    "        elif each  in ['มิ้นท์ชอค','มิ้นต์ช้อก','ช็อคโกแลตมินต์','มินต์ช็อคโกแลต']:\n",
    "            ret_wtkn[i] = 'ช็อกโกแลตมินต์'\n",
    "        elif each  in ['ไขมันต่ำ','low fat','พร่องมันเนย']:\n",
    "            ret_wtkn[i] = 'ไขมันต่ำ'\n",
    "        elif each  in ['ไขมัน 0%','0% fat','ขาดมันเนย']:\n",
    "            ret_wtkn[i] = 'ไขมัน 0%'\n",
    "        elif each  in ['high protein','hi protein','ไฮโปรตีน','เวย์โปรตีน']:\n",
    "            ret_wtkn[i] = 'ไฮโปรตีน'\n",
    "        elif each  in ['free lactose','lactose free','ฟรีแลคโตส','แลคโตสฟรี']:\n",
    "            ret_wtkn[i] = 'นมฟรีแลคโตส'\n",
    "        elif each  in ['พาสเจอไรซ์','พาสเจอร์ไรซ์','พาสเจอร์ไรส์','พาซเจอไรซ์','พาสเจอร์ไลท์']:\n",
    "            ret_wtkn[i] = 'พาสเจอร์ไรส์'\n",
    "        elif each  in ['เมจิโกลด์ แม็กซ์','เมจิโกลด์','เมจิโกล์ดแม็กซ์','gold','gold max']:\n",
    "            ret_wtkn[i] = 'เมจิโกลด์'\n",
    "        elif each  in ['ฝาน้ำเงิน','รสจืด']:\n",
    "            ret_wtkn[i] = 'รสจืด'\n",
    "        elif each  in ['ท็อปส์','ทอปส์','ท้อปส์','ท๊อปส์','tops']:\n",
    "            ret_wtkn[i] = 'tops'\n",
    "        elif each  in ['แมคโคร','แม็คโคร','makro']:\n",
    "            ret_wtkn[i] = 'makro'\n",
    "        elif each  in ['โลตัส','lotus']:\n",
    "            ret_wtkn[i] = 'lotus'\n",
    "        elif each  in ['บิ๊กซี','bigc','Big C']:\n",
    "            ret_wtkn[i] = 'bigc'\n",
    "        elif each  in ['ท้องเสีย','ขี้แตก']:\n",
    "            ret_wtkn[i] = 'ท้องเสีย'\n",
    "        elif each  in ['ลูกสุนัข','ลูกหมา']:\n",
    "            ret_wtkn[i] = 'ลูกสุนัข'\n",
    "        elif each in ['ดาร์คช็อกโกแลต','ดาร์กช็อก','ดาร์กช็อกโกแลต']:\n",
    "            ret_wtkn[i] = 'ดาร์คช็อกโกแลต'\n",
    "        elif each in ['bedtime','bed time','เบดไทม์']:\n",
    "            ret_wtkn[i] = 'เบดไทม์'\n",
    "        elif each in ['เมจิ บัลแกเรีย','เมจิบัลแกเรีย']:\n",
    "            ret_wtkn[i] = 'เมจิบัลแกเรีย'\n",
    "        elif each in ['โยเกิร์ต','โยเกิต','โยเกิรต','โยเกิร์ตพร้อมดื่ม']:\n",
    "            ret_wtkn[i] = 'โยเกิร์ต'\n",
    "        elif each in ['7-Eleven','เซเว่น อีเลฟเว่น','เซเว่นอีเลฟเว่น','เซเว่น','เซเวน','7/11','7-11']:\n",
    "            ret_wtkn[i] = '7-Eleven'\n",
    "        elif each in ['บีทาเก้น','บีทาเกน']:\n",
    "            ret_wtkn[i] = 'บีทาเก้น'\n",
    "    return ret_wtkn"
   ]
  },
  {
   "cell_type": "code",
   "execution_count": 39,
   "metadata": {},
   "outputs": [],
   "source": [
    "def find_brands_product(x,catType):\n",
    "    ret_wtkn = []\n",
    "    brands = ['ดัชมิลล์','เมจิ','โฟร์โมสต์','โชคชัย','แดรี่โฮม','เอ็มมิลค์','แมคโนเลีย','ไทยเดนมาร์ค','หนองโพ','คาเนชั่น','บีทาเก้น']\n",
    "    products = ['นม','สตรอว์เบอร์รี','ช็อกโกแลต','กาแฟ','รสหวาน','รสจืด','ไขมันต่ำ','ไขมัน 0%','ไฮโปรตีน','อัลมอนด์'\n",
    "                ,'รสกล้วย','grass fed','นมฟรีแลคโตส','พาสเจอร์ไรส์','เมจิโกลด์','นมฮอกไกโด','เบดไทม์','ดาร์คช็อกโกแลต','ไฮแคลเซียม'\n",
    "                ,'คาราเมล','มอลต์','เมล่อน','ชาเขียวมัจฉะ','บัลแกเรีย','โยเกิร์ต','รสธรรมชาติ','รสกลมกล่อม','โยเกิร์ต','ซากุระ']\n",
    "    \n",
    "    choiceList = []\n",
    "    if catType == 'b':\n",
    "        choiceList = brands\n",
    "    else:\n",
    "        choiceList = products\n",
    "        \n",
    "    for i,each in enumerate(x,0):\n",
    "        if each in choiceList:\n",
    "            ret_wtkn.append(each)\n",
    "    return ret_wtkn"
   ]
  },
  {
   "cell_type": "markdown",
   "metadata": {},
   "source": [
    "#### Copy ชุดคำจาก File มา Process ก่อนลง MongoDB"
   ]
  },
  {
   "cell_type": "code",
   "execution_count": 40,
   "metadata": {},
   "outputs": [],
   "source": [
    "df_process_comment = df_Corpus.reset_index().copy()\n",
    "df_process_thread = df_thread.reset_index().copy()"
   ]
  },
  {
   "cell_type": "markdown",
   "metadata": {},
   "source": [
    "1.Tokenize comment"
   ]
  },
  {
   "cell_type": "code",
   "execution_count": 41,
   "metadata": {},
   "outputs": [],
   "source": [
    "df_process_comment['token_text'] = df_process_comment['text'].apply(lambda x: tokenize_custom(x,trie))"
   ]
  },
  {
   "cell_type": "code",
   "execution_count": 42,
   "metadata": {},
   "outputs": [
    {
     "data": {
      "text/html": [
       "<div>\n",
       "<style scoped>\n",
       "    .dataframe tbody tr th:only-of-type {\n",
       "        vertical-align: middle;\n",
       "    }\n",
       "\n",
       "    .dataframe tbody tr th {\n",
       "        vertical-align: top;\n",
       "    }\n",
       "\n",
       "    .dataframe thead th {\n",
       "        text-align: right;\n",
       "    }\n",
       "</style>\n",
       "<table border=\"1\" class=\"dataframe\">\n",
       "  <thead>\n",
       "    <tr style=\"text-align: right;\">\n",
       "      <th></th>\n",
       "      <th>commentId</th>\n",
       "      <th>Table</th>\n",
       "      <th>URLs</th>\n",
       "      <th>text</th>\n",
       "      <th>Retrived_date</th>\n",
       "      <th>token_text</th>\n",
       "    </tr>\n",
       "  </thead>\n",
       "  <tbody>\n",
       "    <tr>\n",
       "      <th>0</th>\n",
       "      <td>1</td>\n",
       "      <td>Meiji</td>\n",
       "      <td>https://pantip.com/topic/39868603</td>\n",
       "      <td>เมื่อก่อนหลายปีมาแล้ว ในเซเว่นยังมีนมเมจิรสหวา...</td>\n",
       "      <td>2020-10-26 12:40:26.135083</td>\n",
       "      <td>[ปี, เซเว่น, ยังมี, นม, เมจิ, รสหวาน, ขาย, อยู...</td>\n",
       "    </tr>\n",
       "    <tr>\n",
       "      <th>1</th>\n",
       "      <td>2</td>\n",
       "      <td>Meiji</td>\n",
       "      <td>https://pantip.com/topic/39868603</td>\n",
       "      <td>เบาหวานครับ แฮ่ๆ</td>\n",
       "      <td>2020-10-26 12:40:26.135083</td>\n",
       "      <td>[เบาหวาน]</td>\n",
       "    </tr>\n",
       "    <tr>\n",
       "      <th>2</th>\n",
       "      <td>3</td>\n",
       "      <td>Meiji</td>\n",
       "      <td>https://pantip.com/topic/39868603</td>\n",
       "      <td>หาซื้อไม่ได้นี่คิดได้  2 อย่างนะ.    คนไม่ค่อย...</td>\n",
       "      <td>2020-10-26 12:40:26.135083</td>\n",
       "      <td>[หา, ซื้อไม่ได้, คิดได้, , .    คน, กินกัน, ไม...</td>\n",
       "    </tr>\n",
       "    <tr>\n",
       "      <th>3</th>\n",
       "      <td>4</td>\n",
       "      <td>Meiji</td>\n",
       "      <td>https://pantip.com/topic/39868603</td>\n",
       "      <td>เป็นรสที่ขายไม่ดีครับ\\r\\nรสพื้นฐานคือ\\r\\nจืด แ...</td>\n",
       "      <td>2020-10-26 12:40:26.135083</td>\n",
       "      <td>[รส, ขายไม่ดี, รส, พื้นฐาน, จืด, แบ่ง, %,, low...</td>\n",
       "    </tr>\n",
       "    <tr>\n",
       "      <th>4</th>\n",
       "      <td>5</td>\n",
       "      <td>Meiji</td>\n",
       "      <td>https://pantip.com/topic/39868603</td>\n",
       "      <td>ถ้าขายไม่ดีเค้าก็เอาออกครับ shelf life มันน้อย...</td>\n",
       "      <td>2020-10-26 12:40:26.135083</td>\n",
       "      <td>[ขายไม่ดี, เค้า, shelf life, เวลา, หมดอายุ, ค่...</td>\n",
       "    </tr>\n",
       "  </tbody>\n",
       "</table>\n",
       "</div>"
      ],
      "text/plain": [
       "   commentId  Table                               URLs  \\\n",
       "0          1  Meiji  https://pantip.com/topic/39868603   \n",
       "1          2  Meiji  https://pantip.com/topic/39868603   \n",
       "2          3  Meiji  https://pantip.com/topic/39868603   \n",
       "3          4  Meiji  https://pantip.com/topic/39868603   \n",
       "4          5  Meiji  https://pantip.com/topic/39868603   \n",
       "\n",
       "                                                text  \\\n",
       "0  เมื่อก่อนหลายปีมาแล้ว ในเซเว่นยังมีนมเมจิรสหวา...   \n",
       "1                                   เบาหวานครับ แฮ่ๆ   \n",
       "2  หาซื้อไม่ได้นี่คิดได้  2 อย่างนะ.    คนไม่ค่อย...   \n",
       "3  เป็นรสที่ขายไม่ดีครับ\\r\\nรสพื้นฐานคือ\\r\\nจืด แ...   \n",
       "4  ถ้าขายไม่ดีเค้าก็เอาออกครับ shelf life มันน้อย...   \n",
       "\n",
       "                Retrived_date  \\\n",
       "0  2020-10-26 12:40:26.135083   \n",
       "1  2020-10-26 12:40:26.135083   \n",
       "2  2020-10-26 12:40:26.135083   \n",
       "3  2020-10-26 12:40:26.135083   \n",
       "4  2020-10-26 12:40:26.135083   \n",
       "\n",
       "                                          token_text  \n",
       "0  [ปี, เซเว่น, ยังมี, นม, เมจิ, รสหวาน, ขาย, อยู...  \n",
       "1                                          [เบาหวาน]  \n",
       "2  [หา, ซื้อไม่ได้, คิดได้, , .    คน, กินกัน, ไม...  \n",
       "3  [รส, ขายไม่ดี, รส, พื้นฐาน, จืด, แบ่ง, %,, low...  \n",
       "4  [ขายไม่ดี, เค้า, shelf life, เวลา, หมดอายุ, ค่...  "
      ]
     },
     "execution_count": 42,
     "metadata": {},
     "output_type": "execute_result"
    }
   ],
   "source": [
    "df_process_comment.head()"
   ]
  },
  {
   "cell_type": "markdown",
   "metadata": {},
   "source": [
    "2.Generalized keyword (Brand & product)"
   ]
  },
  {
   "cell_type": "code",
   "execution_count": 43,
   "metadata": {},
   "outputs": [],
   "source": [
    "df_process_comment['token_text'] = df_process_comment['token_text'].apply(lambda x: generalize_keyword(x))"
   ]
  },
  {
   "cell_type": "markdown",
   "metadata": {},
   "source": [
    "3.Insert comments to DB"
   ]
  },
  {
   "cell_type": "code",
   "execution_count": 44,
   "metadata": {
    "colab": {
     "base_uri": "https://localhost:8080/"
    },
    "id": "Hunm5MT7TCd2",
    "outputId": "15710375-8df1-46f0-85a2-04c66e1de5d9"
   },
   "outputs": [
    {
     "data": {
      "text/plain": [
       "<pymongo.results.InsertManyResult at 0x2957ec93b08>"
      ]
     },
     "execution_count": 44,
     "metadata": {},
     "output_type": "execute_result"
    }
   ],
   "source": [
    "col_comment.delete_many({})\n",
    "process_data = create_InsertMany_comments(df_process_comment)\n",
    "col_comment.insert_many(process_data)"
   ]
  },
  {
   "cell_type": "markdown",
   "metadata": {},
   "source": [
    "4.Tokenize head of thread"
   ]
  },
  {
   "cell_type": "code",
   "execution_count": 45,
   "metadata": {},
   "outputs": [],
   "source": [
    "df_process_thread['token_text'] = df_process_thread['text'].apply(lambda x: tokenize_custom(x,trie))"
   ]
  },
  {
   "cell_type": "markdown",
   "metadata": {},
   "source": [
    "5.Generalized keyword (Brand & product)"
   ]
  },
  {
   "cell_type": "code",
   "execution_count": 46,
   "metadata": {},
   "outputs": [],
   "source": [
    "df_process_thread['token_text'] = df_process_thread['token_text'].apply(lambda x: generalize_keyword(x))"
   ]
  },
  {
   "cell_type": "markdown",
   "metadata": {},
   "source": [
    "6.Mark domain/entity mention"
   ]
  },
  {
   "cell_type": "code",
   "execution_count": 47,
   "metadata": {},
   "outputs": [],
   "source": [
    "df_process_thread['mention_brand'] = df_process_thread['token_text'].apply(lambda x: find_brands_product(x,'b'))\n",
    "df_process_thread['mention_product'] = df_process_thread['token_text'].apply(lambda x: find_brands_product(x,'p'))"
   ]
  },
  {
   "cell_type": "code",
   "execution_count": 48,
   "metadata": {},
   "outputs": [
    {
     "data": {
      "text/html": [
       "<div>\n",
       "<style scoped>\n",
       "    .dataframe tbody tr th:only-of-type {\n",
       "        vertical-align: middle;\n",
       "    }\n",
       "\n",
       "    .dataframe tbody tr th {\n",
       "        vertical-align: top;\n",
       "    }\n",
       "\n",
       "    .dataframe thead th {\n",
       "        text-align: right;\n",
       "    }\n",
       "</style>\n",
       "<table border=\"1\" class=\"dataframe\">\n",
       "  <thead>\n",
       "    <tr style=\"text-align: right;\">\n",
       "      <th></th>\n",
       "      <th>commentId</th>\n",
       "      <th>URLs</th>\n",
       "      <th>text</th>\n",
       "      <th>token_text</th>\n",
       "      <th>mention_product</th>\n",
       "      <th>mention_brand</th>\n",
       "    </tr>\n",
       "  </thead>\n",
       "  <tbody>\n",
       "    <tr>\n",
       "      <th>0</th>\n",
       "      <td>1</td>\n",
       "      <td>https://pantip.com/topic/39868603</td>\n",
       "      <td>เมื่อก่อนหลายปีมาแล้ว ในเซเว่นยังมีนมเมจิรสหวา...</td>\n",
       "      <td>[ปี, 7-Eleven, ยังมี, นม, เมจิ, รสหวาน, ขาย, อ...</td>\n",
       "      <td>[นม, รสหวาน, นม, รสหวาน]</td>\n",
       "      <td>[เมจิ]</td>\n",
       "    </tr>\n",
       "    <tr>\n",
       "      <th>1</th>\n",
       "      <td>10</td>\n",
       "      <td>https://pantip.com/topic/39597709</td>\n",
       "      <td>ตามหัวข้อเลยค่ะ อยากรู้ว่านมเมจิที่ต้มก่อนนำไป...</td>\n",
       "      <td>[หัวข้อ, อยากรู้, นม, เมจิ, ต้ม, ส่วนผสม, เครื...</td>\n",
       "      <td>[นม]</td>\n",
       "      <td>[เมจิ]</td>\n",
       "    </tr>\n",
       "    <tr>\n",
       "      <th>2</th>\n",
       "      <td>18</td>\n",
       "      <td>https://pantip.com/topic/39747201</td>\n",
       "      <td>วันก่อนซื้อ นมเมจิขวด 2 ลิตร มากิน สังเกตฝามัน...</td>\n",
       "      <td>[วันก่อน, ซื้อ, นม, เมจิ, ขวด, ลิตร, กิน, สังเ...</td>\n",
       "      <td>[นม, นม]</td>\n",
       "      <td>[เมจิ]</td>\n",
       "    </tr>\n",
       "    <tr>\n",
       "      <th>3</th>\n",
       "      <td>21</td>\n",
       "      <td>https://pantip.com/topic/39732615</td>\n",
       "      <td>อยากรู้ว่าMakroมีนมยี่ห้อ meiji(เมจิ) ขายมั้ยครับ</td>\n",
       "      <td>[อยากรู้, makro, นม, ยี่ห้อ, เมจิ, เมจิ, ขาย]</td>\n",
       "      <td>[นม]</td>\n",
       "      <td>[เมจิ, เมจิ]</td>\n",
       "    </tr>\n",
       "    <tr>\n",
       "      <th>4</th>\n",
       "      <td>28</td>\n",
       "      <td>https://pantip.com/topic/39005469</td>\n",
       "      <td>อยากถามว่า\\r\\n\\r\\n1.คิดค่าจัดส่งยังไงครับ\\r\\n2...</td>\n",
       "      <td>[ถาม, 1., ค่าจัดส่ง, 2., ซื้อ, ได้, ส่วนลด, 3....</td>\n",
       "      <td>[]</td>\n",
       "      <td>[]</td>\n",
       "    </tr>\n",
       "    <tr>\n",
       "      <th>5</th>\n",
       "      <td>33</td>\n",
       "      <td>https://pantip.com/topic/39928742</td>\n",
       "      <td>สวัสดี เราคือมนุษย์ออฟฟิศ อายุ 25 ปี ที่เสพติด...</td>\n",
       "      <td>[สวัสดี, มนุษย์, ออฟฟิศ, อายุ, ปี, เสพติด, กิน...</td>\n",
       "      <td>[นม, ไขมัน 0%]</td>\n",
       "      <td>[เมจิ]</td>\n",
       "    </tr>\n",
       "    <tr>\n",
       "      <th>6</th>\n",
       "      <td>46</td>\n",
       "      <td>https://pantip.com/topic/39578663</td>\n",
       "      <td>ขอถามคุณผู้หญิงที่ซื้อนมไฮโปรตีนของยี่ห้อเมจิห...</td>\n",
       "      <td>[ถาม, คุณผู้หญิง, ซื้อ, นม, ไฮโปรตีน, ยี่ห้อ, ...</td>\n",
       "      <td>[นม, ไฮโปรตีน, ไฮโปรตีน, ไฮโปรตีน, นม, ไฮโปรตีน]</td>\n",
       "      <td>[เมจิ, ดัชมิลล์, เมจิ, ดัชมิลล์]</td>\n",
       "    </tr>\n",
       "    <tr>\n",
       "      <th>7</th>\n",
       "      <td>60</td>\n",
       "      <td>https://pantip.com/topic/38836146</td>\n",
       "      <td>😢</td>\n",
       "      <td>[]</td>\n",
       "      <td>[]</td>\n",
       "      <td>[]</td>\n",
       "    </tr>\n",
       "    <tr>\n",
       "      <th>8</th>\n",
       "      <td>66</td>\n",
       "      <td>https://pantip.com/topic/40190870</td>\n",
       "      <td>ผมอยู่ม.1ครับ ตอนป.6 ผมสูงเเค่ 142 เซน พอขึ้นม...</td>\n",
       "      <td>[ผม, ม., ตอน, ป., ผม, แค่, เซน, ม., แต่, คนอื่...</td>\n",
       "      <td>[]</td>\n",
       "      <td>[เมจิ]</td>\n",
       "    </tr>\n",
       "    <tr>\n",
       "      <th>9</th>\n",
       "      <td>73</td>\n",
       "      <td>https://pantip.com/topic/39151811</td>\n",
       "      <td>อยากได้รสที่เหมือนนมผงอะคะ ยังหาไม่เจอว่า จะใช...</td>\n",
       "      <td>[อยากได้, รส, เหมือน, นมผง, อะ, หาไม่, เจอ, คร...</td>\n",
       "      <td>[นม, นม, นม]</td>\n",
       "      <td>[เมจิ, แมคโนเลีย]</td>\n",
       "    </tr>\n",
       "    <tr>\n",
       "      <th>10</th>\n",
       "      <td>86</td>\n",
       "      <td>https://pantip.com/topic/39975832</td>\n",
       "      <td>🥺 คือผมอายุ17ย่าง18 สูง168หนัก61 ผมไม่สูงขึ้นเ...</td>\n",
       "      <td>[ผม, อายุ, ย่าง, หนัก, ผม, ไม่, อายุ, เพื่อน, ...</td>\n",
       "      <td>[นม, นม, นม]</td>\n",
       "      <td>[เมจิ]</td>\n",
       "    </tr>\n",
       "    <tr>\n",
       "      <th>11</th>\n",
       "      <td>94</td>\n",
       "      <td>https://pantip.com/topic/39905450</td>\n",
       "      <td>ขอคำแนะนำหน่อยครับ \\r\\nทำสปาเกตตี้คาโบนาราครั้...</td>\n",
       "      <td>[คำแนะนำ, ทำ, สปา, เก, ตตี้, คา, โบ, นารา, ครั...</td>\n",
       "      <td>[นม]</td>\n",
       "      <td>[เมจิ]</td>\n",
       "    </tr>\n",
       "    <tr>\n",
       "      <th>12</th>\n",
       "      <td>101</td>\n",
       "      <td>https://pantip.com/topic/39874488</td>\n",
       "      <td>พอดีว่าช่วงนี้ WFH เลยอยากจะลองชง มอคค่า เองบ้...</td>\n",
       "      <td>[wfh, ลอง, ชง, มอคค่า, ลอง, ทำ, เวิค, รสชาติ, ...</td>\n",
       "      <td>[กาแฟ, กาแฟ, นม, กาแฟ]</td>\n",
       "      <td>[เมจิ]</td>\n",
       "    </tr>\n",
       "    <tr>\n",
       "      <th>13</th>\n",
       "      <td>107</td>\n",
       "      <td>https://pantip.com/topic/40066634</td>\n",
       "      <td>เด็ก 10 ขวบให้กินนมอะไรดีครับ  แบบนมชงครับ\\r\\n...</td>\n",
       "      <td>[เด็ก, ขวบ, กินนม, ดี, นม, ชง, ปกติ, กิน, พี, ...</td>\n",
       "      <td>[นม]</td>\n",
       "      <td>[]</td>\n",
       "    </tr>\n",
       "    <tr>\n",
       "      <th>14</th>\n",
       "      <td>113</td>\n",
       "      <td>https://pantip.com/topic/39673451</td>\n",
       "      <td>เเจ้งเตือนทีมหัวตาราง \\r\\n\\r\\nระวังไว้จงหนัก \\...</td>\n",
       "      <td>[เจ้ง, เตือน, ทีม, หัว, ตาราง, ระวัง, หนัก, เม...</td>\n",
       "      <td>[]</td>\n",
       "      <td>[เมจิ]</td>\n",
       "    </tr>\n",
       "    <tr>\n",
       "      <th>15</th>\n",
       "      <td>154</td>\n",
       "      <td>https://pantip.com/topic/39430829</td>\n",
       "      <td>ผมอายุ28ปี(ในวันที่5ธันวาปีนี้) สูง173 หนัก65 ...</td>\n",
       "      <td>[ผม, อายุ, ปี, วันที่, ธันวา, ปี, หนัก, ไม่, ค...</td>\n",
       "      <td>[]</td>\n",
       "      <td>[เมจิ]</td>\n",
       "    </tr>\n",
       "    <tr>\n",
       "      <th>16</th>\n",
       "      <td>161</td>\n",
       "      <td>https://pantip.com/topic/39414728</td>\n",
       "      <td>เปิดโลกน้องๆ พบกับ 2 รุ่นพี่ไอดอล \"มิวนิค\" ศิล...</td>\n",
       "      <td>[เปิดโลก, น้องๆ, รุ่นพี่, ไอดอล, นิค, ศิลปิน, ...</td>\n",
       "      <td>[]</td>\n",
       "      <td>[]</td>\n",
       "    </tr>\n",
       "    <tr>\n",
       "      <th>17</th>\n",
       "      <td>168</td>\n",
       "      <td>https://pantip.com/topic/39099897</td>\n",
       "      <td>พอดีวันนี้ไปซื้อนมเมจิ พาสเจอไรซ์ จำนวน 7 ขวดท...</td>\n",
       "      <td>[ซื้อ, นม, เมจิ, พาสเจอร์ไรส์, จำนวน, ขวด, 7-E...</td>\n",
       "      <td>[นม, พาสเจอร์ไรส์]</td>\n",
       "      <td>[เมจิ, เมจิ]</td>\n",
       "    </tr>\n",
       "    <tr>\n",
       "      <th>18</th>\n",
       "      <td>181</td>\n",
       "      <td>https://pantip.com/topic/38412845</td>\n",
       "      <td>เข้าเซเว่นเห็นนม เวย์โปรตีน เมจิ ขวด49บาทโปรตี...</td>\n",
       "      <td>[7-Eleven, นม, ไฮโปรตีน, เมจิ, ขวด, โปรตีน, แค...</td>\n",
       "      <td>[นม, ไฮโปรตีน, ไฮโปรตีน, นม]</td>\n",
       "      <td>[เมจิ, เมจิ, เมจิ]</td>\n",
       "    </tr>\n",
       "    <tr>\n",
       "      <th>19</th>\n",
       "      <td>189</td>\n",
       "      <td>https://pantip.com/topic/39239769</td>\n",
       "      <td>คือตอบกันหน่อยก็ได้ปะคนเล่นพันทิปหยิ่งจังวะ</td>\n",
       "      <td>[ตอบ, ปะ, คน, เล่น, หยิ่ง, วะ]</td>\n",
       "      <td>[]</td>\n",
       "      <td>[]</td>\n",
       "    </tr>\n",
       "    <tr>\n",
       "      <th>20</th>\n",
       "      <td>194</td>\n",
       "      <td>https://pantip.com/topic/39503229</td>\n",
       "      <td>ซื้อเครื่องทำกาแฟแคปซูลมาค่ะ ชอบดื่ม ลาเต้เย็น...</td>\n",
       "      <td>[ซื้อ, เครื่อง, ทำ, กาแฟ, แคปซูล, ชอบ, ดื่ม, ล...</td>\n",
       "      <td>[กาแฟ, กาแฟ, นม]</td>\n",
       "      <td>[เมจิ, ไทยเดนมาร์ค]</td>\n",
       "    </tr>\n",
       "    <tr>\n",
       "      <th>21</th>\n",
       "      <td>203</td>\n",
       "      <td>https://pantip.com/topic/39038785</td>\n",
       "      <td>คือเรากินกาแฟสดทุกวัน เป็นเอสเปรสโซ่เย็น ไม่ได...</td>\n",
       "      <td>[กิน, กาแฟสด, เอสเปรสโซ่, เย็น, ไม่, ได้, กิน,...</td>\n",
       "      <td>[กาแฟ]</td>\n",
       "      <td>[เมจิ]</td>\n",
       "    </tr>\n",
       "    <tr>\n",
       "      <th>22</th>\n",
       "      <td>329</td>\n",
       "      <td>https://pantip.com/topic/39689189</td>\n",
       "      <td>บริษัท ซีพี-เมจิ จำกัด ร่วมกับ โรงพยาบาลมหาวชิ...</td>\n",
       "      <td>[บริษัท, เมจิ, จำกัด, ร่วมกับ, โรงพยาบาล, มหา,...</td>\n",
       "      <td>[นม, โยเกิร์ต]</td>\n",
       "      <td>[เมจิ, เมจิ, เมจิ, เมจิ, เมจิ]</td>\n",
       "    </tr>\n",
       "    <tr>\n",
       "      <th>23</th>\n",
       "      <td>332</td>\n",
       "      <td>https://pantip.com/topic/39196885</td>\n",
       "      <td>น้อง 1 ขวบ 1 เดือนค่ะ หมอบอกให้เปลี่ยนมาเป็นนม...</td>\n",
       "      <td>[น้อง, ขวบ, เดือน, หมอ, นม, uht, ได้, ปกติ, น้...</td>\n",
       "      <td>[นม, นม, นม]</td>\n",
       "      <td>[เมจิ]</td>\n",
       "    </tr>\n",
       "    <tr>\n",
       "      <th>24</th>\n",
       "      <td>338</td>\n",
       "      <td>https://pantip.com/topic/39979138</td>\n",
       "      <td>เรากินนมวัวแล้วท้องเสียค่ะ แต่จะเป็นแค่กินตอนเ...</td>\n",
       "      <td>[กิน, นมวัว, ท้องเสีย, กิน, ตอนเช้า, กิน, นอน,...</td>\n",
       "      <td>[นม, นม, นม]</td>\n",
       "      <td>[เมจิ, หนองโพ]</td>\n",
       "    </tr>\n",
       "    <tr>\n",
       "      <th>25</th>\n",
       "      <td>349</td>\n",
       "      <td>https://pantip.com/topic/39183141</td>\n",
       "      <td>สิ่งที่ขายในร้านนมนะคะ\\r\\n1.นมเปรี้ยวบีทาเก้นม...</td>\n",
       "      <td>[ขาย, ร้านนม, 1., นมเปรี้ยว, บีทาเก้น, ขนาด, ข...</td>\n",
       "      <td>[นม, โยเกิร์ต, โยเกิร์ต]</td>\n",
       "      <td>[บีทาเก้น, เมจิ]</td>\n",
       "    </tr>\n",
       "    <tr>\n",
       "      <th>26</th>\n",
       "      <td>354</td>\n",
       "      <td>https://pantip.com/topic/39630992</td>\n",
       "      <td>ให้มาทำไมคูปองสเลอปี้ 100 สาขาจะมีสเลอปี้ขายสั...</td>\n",
       "      <td>[คูปอง, เลอ, ปี้, เลอ, ปี้, ขาย, สัก, เสียเวลา...</td>\n",
       "      <td>[]</td>\n",
       "      <td>[]</td>\n",
       "    </tr>\n",
       "    <tr>\n",
       "      <th>27</th>\n",
       "      <td>362</td>\n",
       "      <td>https://pantip.com/topic/39276934</td>\n",
       "      <td>ครับ ตามหัวข้อกระทู้เลยครับ\\r\\nพ่อผมสูง 165 cm...</td>\n",
       "      <td>[หัวข้อ, กระทู้, พ่อ, ผม, cm, แม่, ผม, cm, 1.,...</td>\n",
       "      <td>[]</td>\n",
       "      <td>[]</td>\n",
       "    </tr>\n",
       "    <tr>\n",
       "      <th>28</th>\n",
       "      <td>368</td>\n",
       "      <td>https://pantip.com/topic/39123157</td>\n",
       "      <td>คือตามหัวข้อกระทู้นะคะ อยากสูงคะ อยากสูงมากๆๆๆ...</td>\n",
       "      <td>[หัวข้อ, กระทู้, ๆๆๆ, ตอนนี้, อายุ, น้ำหนัก, อ...</td>\n",
       "      <td>[]</td>\n",
       "      <td>[]</td>\n",
       "    </tr>\n",
       "    <tr>\n",
       "      <th>29</th>\n",
       "      <td>380</td>\n",
       "      <td>https://pantip.com/topic/38573978</td>\n",
       "      <td>คือกินทุกคืนครับ เอานมเมจิไขมัน 0% ไปใส่ไมโครเ...</td>\n",
       "      <td>[กิน, ทุกคืน, นม, เมจิ, ไขมัน 0%, ใส่, ไมโครเว...</td>\n",
       "      <td>[นม, ไขมัน 0%]</td>\n",
       "      <td>[เมจิ]</td>\n",
       "    </tr>\n",
       "    <tr>\n",
       "      <th>...</th>\n",
       "      <td>...</td>\n",
       "      <td>...</td>\n",
       "      <td>...</td>\n",
       "      <td>...</td>\n",
       "      <td>...</td>\n",
       "      <td>...</td>\n",
       "    </tr>\n",
       "    <tr>\n",
       "      <th>1484</th>\n",
       "      <td>63976</td>\n",
       "      <td>https://pantip.com/topic/30547926</td>\n",
       "      <td>มีแต่คนรวยๆ  กว่าเราทั้งนั้น เลยในห้องเรียน ป ...</td>\n",
       "      <td>[คนรวย, ๆ, ห้องเรียน, , ไม่, ซัก, คน, รร, ให้ท...</td>\n",
       "      <td>[นม, นม]</td>\n",
       "      <td>[]</td>\n",
       "    </tr>\n",
       "    <tr>\n",
       "      <th>1485</th>\n",
       "      <td>63990</td>\n",
       "      <td>https://pantip.com/topic/30539414</td>\n",
       "      <td>$(document).ready(function () {\\r\\n\\t\\t\\t\\t\\t\\...</td>\n",
       "      <td>[$(, document, )., ready, function, (), , $., ...</td>\n",
       "      <td>[นม, นม, นม, นม]</td>\n",
       "      <td>[ดัชมิลล์, โฟร์โมสต์, เมจิ, ไทยเดนมาร์ค]</td>\n",
       "    </tr>\n",
       "    <tr>\n",
       "      <th>1486</th>\n",
       "      <td>64048</td>\n",
       "      <td>https://pantip.com/topic/30500619</td>\n",
       "      <td>เด็กๅเอามาฝากให้ลุง เห็นลุงชอบกินโอเลี้ยง!\\r\\n...</td>\n",
       "      <td>[เด็ก, ฝาก, ลุง, ลุง, ชอบ, กิน, โอเลี้ยง, เอ, ...</td>\n",
       "      <td>[นม, กาแฟ, กาแฟ, นม, กาแฟ, กาแฟ]</td>\n",
       "      <td>[]</td>\n",
       "    </tr>\n",
       "    <tr>\n",
       "      <th>1487</th>\n",
       "      <td>64072</td>\n",
       "      <td>https://pantip.com/topic/30541042</td>\n",
       "      <td>เหตุเกิดเมื่อกี้ ส่งนมให้ลูกสาว ปรากฎดูดเข้าไป...</td>\n",
       "      <td>[เมื่อกี้, นม, ลูกสาว, ปรากฎ, ดูด, เข้าไป, เต็...</td>\n",
       "      <td>[นม]</td>\n",
       "      <td>[]</td>\n",
       "    </tr>\n",
       "    <tr>\n",
       "      <th>1488</th>\n",
       "      <td>64121</td>\n",
       "      <td>https://pantip.com/topic/30519465</td>\n",
       "      <td>แมวผมป่วย จากที่หมอวินิจฉัยมา เป็นโรคไต ค่าได้...</td>\n",
       "      <td>[แมว, ผม, ป่วย, หมอ, วินิจฉัย, เป็นโรค, ไต, ค่...</td>\n",
       "      <td>[]</td>\n",
       "      <td>[]</td>\n",
       "    </tr>\n",
       "    <tr>\n",
       "      <th>1489</th>\n",
       "      <td>64154</td>\n",
       "      <td>https://pantip.com/topic/30644955</td>\n",
       "      <td>-*-*-*-*-*-*-*-*-*-ยินดีต้อนรับสู่วังจิราณี เจ...</td>\n",
       "      <td>[ยินดีต้อนรับ, วัง, จิ, รา, ณี, เจมส์จิ, รา, ย...</td>\n",
       "      <td>[]</td>\n",
       "      <td>[]</td>\n",
       "    </tr>\n",
       "    <tr>\n",
       "      <th>1490</th>\n",
       "      <td>64401</td>\n",
       "      <td>https://pantip.com/topic/30547067</td>\n",
       "      <td>จับมือกันเดินด้วยใจอดทน \\r\\nหากใครสักคนล้มลงฉุ...</td>\n",
       "      <td>[จับมือ, เดิน, ด้วยใจ, อดทน, สัก, คน, ล้ม, ฉุด...</td>\n",
       "      <td>[]</td>\n",
       "      <td>[]</td>\n",
       "    </tr>\n",
       "    <tr>\n",
       "      <th>1491</th>\n",
       "      <td>64598</td>\n",
       "      <td>https://pantip.com/topic/30521162</td>\n",
       "      <td>เมื่ออาทิตย์ที่แล้ว หมากไปถ่ายเอ็มวี \"จะรักจนก...</td>\n",
       "      <td>[อาทิตย์, หมาก, ถ่าย, เอ็มวี, รัก, รู้, ตั้ม, ...</td>\n",
       "      <td>[]</td>\n",
       "      <td>[]</td>\n",
       "    </tr>\n",
       "    <tr>\n",
       "      <th>1492</th>\n",
       "      <td>64601</td>\n",
       "      <td>https://pantip.com/topic/30438119</td>\n",
       "      <td>Chocolate Pots de Crème ได้มาจากเจ๊สเตฟานนี่ แ...</td>\n",
       "      <td>[chocolate, pots, de, cr, me, ได้, มาจาก, เจ๊,...</td>\n",
       "      <td>[กาแฟ, นม, ช็อกโกแลต, นม, กาแฟ, ช็อกโกแลต, ช็อ...</td>\n",
       "      <td>[]</td>\n",
       "    </tr>\n",
       "    <tr>\n",
       "      <th>1493</th>\n",
       "      <td>64613</td>\n",
       "      <td>https://pantip.com/topic/30226999</td>\n",
       "      <td>เห็นที่กล่องก็เขียนว่าผลิตจากน้ำนมโคสด 100 % เ...</td>\n",
       "      <td>[กล่อง, ผลิต, น้ำนมโค, สด, เหมือนกับ, ไทยเดนมา...</td>\n",
       "      <td>[]</td>\n",
       "      <td>[ไทยเดนมาร์ค, ไทยเดนมาร์ค]</td>\n",
       "    </tr>\n",
       "    <tr>\n",
       "      <th>1494</th>\n",
       "      <td>64636</td>\n",
       "      <td>https://pantip.com/topic/30261994</td>\n",
       "      <td>* ขอ Tag ห้องหว้ากอด้วยนะคะ คิดว่าคุณหมอๆ อยู่...</td>\n",
       "      <td>[tag, ห้อง, หว้า, กอ, คุณหมอ, คน, ชอบ, ดื่มนม,...</td>\n",
       "      <td>[นม, นม, นม, นม, นม]</td>\n",
       "      <td>[โฟร์โมสต์]</td>\n",
       "    </tr>\n",
       "    <tr>\n",
       "      <th>1495</th>\n",
       "      <td>64649</td>\n",
       "      <td>https://pantip.com/topic/30228066</td>\n",
       "      <td>ลูกสาว 2.8 ขวบ แล้วกินแต่นม UHT โฟร์โมสต์ รสจื...</td>\n",
       "      <td>[ลูกสาว, 2.8, ขวบ, กิน, นม, uht, โฟร์โมสต์, รส...</td>\n",
       "      <td>[นม, รสจืด]</td>\n",
       "      <td>[โฟร์โมสต์]</td>\n",
       "    </tr>\n",
       "    <tr>\n",
       "      <th>1496</th>\n",
       "      <td>64657</td>\n",
       "      <td>https://pantip.com/topic/30362044</td>\n",
       "      <td>พรุ่งนี้วันสงกรานต์ เข้าเทศกาลวันหยุดยาวแล้ว ไ...</td>\n",
       "      <td>[พรุ่งนี้, วันสงกรานต์, เทศกาล, วันหยุด, ได้, ...</td>\n",
       "      <td>[]</td>\n",
       "      <td>[]</td>\n",
       "    </tr>\n",
       "    <tr>\n",
       "      <th>1497</th>\n",
       "      <td>64798</td>\n",
       "      <td>https://pantip.com/topic/30294649</td>\n",
       "      <td>เพื่อน ๆ ชอบดื้ม \"นม\" แบรนด์ไหนกันบ้างครับ ?\\r...</td>\n",
       "      <td>[เพื่อน ๆ, ชอบ, ดื้ม, \"นม\", แบรนด์, ส่วย, ผม, ...</td>\n",
       "      <td>[]</td>\n",
       "      <td>[เมจิ]</td>\n",
       "    </tr>\n",
       "    <tr>\n",
       "      <th>1498</th>\n",
       "      <td>64839</td>\n",
       "      <td>https://pantip.com/topic/30402323</td>\n",
       "      <td>กระทู้นี้ แตกประเด็นมาจาก  http://pantip.com/t...</td>\n",
       "      <td>[กระทู้, แตก, ประเด็น, มาจาก, , comment, กระทู...</td>\n",
       "      <td>[]</td>\n",
       "      <td>[]</td>\n",
       "    </tr>\n",
       "    <tr>\n",
       "      <th>1499</th>\n",
       "      <td>64958</td>\n",
       "      <td>https://pantip.com/topic/30166759</td>\n",
       "      <td>เรารู้สึกแบบนั้น มีใครเป็นบ้างคะ แล้วมันจะเกี่...</td>\n",
       "      <td>[รู้สึก, เกี่ยว, ไม๊, นม, เค้า, ไม่, สูตร, นม,...</td>\n",
       "      <td>[นม, นม]</td>\n",
       "      <td>[]</td>\n",
       "    </tr>\n",
       "    <tr>\n",
       "      <th>1500</th>\n",
       "      <td>64983</td>\n",
       "      <td>https://pantip.com/topic/30316396</td>\n",
       "      <td>ผมไม่รู้ว่าจะเอาเรื่องนี้ไปเล่าบอกต่อที่ไหนดีย...</td>\n",
       "      <td>[ผม, ไม่, รู้, เอาเรื่อง, เล่า, บอกต่อ, ดี, ผม...</td>\n",
       "      <td>[]</td>\n",
       "      <td>[]</td>\n",
       "    </tr>\n",
       "    <tr>\n",
       "      <th>1501</th>\n",
       "      <td>65171</td>\n",
       "      <td>https://pantip.com/topic/30239049</td>\n",
       "      <td>สวัสดีวันอังคารค่ะ \\r\\n\\r\\n\\r\\n\\r\\n07:30  12/0...</td>\n",
       "      <td>[สวัสดี, อังคาร, , , สรุป, ข่าว, หนังสือพิมพ์,...</td>\n",
       "      <td>[]</td>\n",
       "      <td>[]</td>\n",
       "    </tr>\n",
       "    <tr>\n",
       "      <th>1502</th>\n",
       "      <td>65203</td>\n",
       "      <td>https://pantip.com/topic/30247612</td>\n",
       "      <td>กระทู้นี้เพื่อคนรักณเดชน์นะจ้ะ มาคุยกันเฮฮาประ...</td>\n",
       "      <td>[กระทู้, คนรัก, เดชน์, คุย, เฮฮา, ประ, สาณ, เด...</td>\n",
       "      <td>[]</td>\n",
       "      <td>[]</td>\n",
       "    </tr>\n",
       "    <tr>\n",
       "      <th>1503</th>\n",
       "      <td>65407</td>\n",
       "      <td>https://pantip.com/topic/30243298</td>\n",
       "      <td>กระทู้นี้เพื่อคนรักณเดชน์นะจ้ะ มาคุยกันเฮฮาประ...</td>\n",
       "      <td>[กระทู้, คนรัก, เดชน์, คุย, เฮฮา, ประ, สาณ, เด...</td>\n",
       "      <td>[]</td>\n",
       "      <td>[]</td>\n",
       "    </tr>\n",
       "    <tr>\n",
       "      <th>1504</th>\n",
       "      <td>65675</td>\n",
       "      <td>https://pantip.com/topic/30193739</td>\n",
       "      <td>ขอเกริ่นยาวสักนิดนะคะ เรามีน้องสาว(ลูกน้า) อาย...</td>\n",
       "      <td>[เกริ่น, สักนิด, น้องสาว, ลูก, น้า, อายุ, ขวบ,...</td>\n",
       "      <td>[]</td>\n",
       "      <td>[]</td>\n",
       "    </tr>\n",
       "    <tr>\n",
       "      <th>1505</th>\n",
       "      <td>65693</td>\n",
       "      <td>https://pantip.com/topic/30153058</td>\n",
       "      <td>สลด! พ่วงบรรทุกปูนเฉี่ยวจักรยานยนต์ทับสองแม่ลู...</td>\n",
       "      <td>[สลด, พ่วง, บรรทุก, ปูน, เฉี่ยว, จักรยานยนต์, ...</td>\n",
       "      <td>[นม, รสจืด]</td>\n",
       "      <td>[โฟร์โมสต์]</td>\n",
       "    </tr>\n",
       "    <tr>\n",
       "      <th>1506</th>\n",
       "      <td>65710</td>\n",
       "      <td>https://pantip.com/topic/30199155</td>\n",
       "      <td>มุมกาแฟ NONแดง ยินดีต้อนรับเฉพาะผู้ที่จริงใจ ไ...</td>\n",
       "      <td>[มุม, กาแฟ, non, แดง, ยินดีต้อนรับ, จริงใจ, ไม...</td>\n",
       "      <td>[กาแฟ, รสจืด]</td>\n",
       "      <td>[]</td>\n",
       "    </tr>\n",
       "    <tr>\n",
       "      <th>1507</th>\n",
       "      <td>65857</td>\n",
       "      <td>https://pantip.com/topic/30243339</td>\n",
       "      <td>^๐^ ^๐^ ^๐^ ปิ๊งๆๆๆกระทู้อารมณ์ดีในดวงใจ @ สิน...</td>\n",
       "      <td>[ปิ๊ง, ๆๆๆ, กระทู้, อารมณ์ดี, ดวงใจ, สิน, ธร, ...</td>\n",
       "      <td>[กาแฟ]</td>\n",
       "      <td>[]</td>\n",
       "    </tr>\n",
       "    <tr>\n",
       "      <th>1508</th>\n",
       "      <td>65960</td>\n",
       "      <td>https://pantip.com/topic/30059506</td>\n",
       "      <td>อยากทราบว่าคุณแม่ที่คลอดลูกแล้ว\\r\\nตอนท้อง บำร...</td>\n",
       "      <td>[ทราบ, คุณแม่, คลอดลูก, ตอน, ท้อง, บำรุง, อาหา...</td>\n",
       "      <td>[นม]</td>\n",
       "      <td>[]</td>\n",
       "    </tr>\n",
       "    <tr>\n",
       "      <th>1509</th>\n",
       "      <td>65991</td>\n",
       "      <td>https://pantip.com/topic/30007179</td>\n",
       "      <td>กำลังจะเป็นคุณแม่มือใหม่ค่ะ ทำตัวไม่ถูกเลยค่ะ\\...</td>\n",
       "      <td>[คุณแม่มือใหม่, ทำตัว, ไม่, ทราบ, ที่จะ, กินนม...</td>\n",
       "      <td>[]</td>\n",
       "      <td>[]</td>\n",
       "    </tr>\n",
       "    <tr>\n",
       "      <th>1510</th>\n",
       "      <td>66015</td>\n",
       "      <td>https://pantip.com/topic/30020409</td>\n",
       "      <td>พรุ่งนี้ลูกชายอายุครบ 1 ขวบ 3 เดือน หม่ำนมแม่จ...</td>\n",
       "      <td>[พรุ่งนี้, ลูกชาย, อายุ, ขวบ, เดือน, หม่ำ, นม,...</td>\n",
       "      <td>[นม]</td>\n",
       "      <td>[]</td>\n",
       "    </tr>\n",
       "    <tr>\n",
       "      <th>1511</th>\n",
       "      <td>66044</td>\n",
       "      <td>https://pantip.com/topic/30049123</td>\n",
       "      <td>เพื่อนๆทุกคนคงคุ้นเคยกับคำถามนี้แล้วทุกคน... \"...</td>\n",
       "      <td>[เพื่อน, คุ้นเคย, คำถาม, ทุ, กค, น., .., ?\", ห...</td>\n",
       "      <td>[]</td>\n",
       "      <td>[]</td>\n",
       "    </tr>\n",
       "    <tr>\n",
       "      <th>1512</th>\n",
       "      <td>66074</td>\n",
       "      <td>https://pantip.com/topic/30011023</td>\n",
       "      <td>แตกกระทู้มาจาก www.pantip.com/topic/30007146/\\...</td>\n",
       "      <td>[แตก, กระทู้, มาจาก, บ้าน, รูป, เฟส, นะจ๊ะ, วั...</td>\n",
       "      <td>[]</td>\n",
       "      <td>[]</td>\n",
       "    </tr>\n",
       "    <tr>\n",
       "      <th>1513</th>\n",
       "      <td>66132</td>\n",
       "      <td>https://pantip.com/topic/30651064</td>\n",
       "      <td>อยากรู้ว่าปัจจุบันพวกนมกล่องทึ่ขายใน 7-11 หรือ...</td>\n",
       "      <td>[อยากรู้, นมกล่อง, ทึ่, ขาย, 7-Eleven, ห้างสรร...</td>\n",
       "      <td>[นม]</td>\n",
       "      <td>[]</td>\n",
       "    </tr>\n",
       "  </tbody>\n",
       "</table>\n",
       "<p>1514 rows × 6 columns</p>\n",
       "</div>"
      ],
      "text/plain": [
       "      commentId                               URLs  \\\n",
       "0             1  https://pantip.com/topic/39868603   \n",
       "1            10  https://pantip.com/topic/39597709   \n",
       "2            18  https://pantip.com/topic/39747201   \n",
       "3            21  https://pantip.com/topic/39732615   \n",
       "4            28  https://pantip.com/topic/39005469   \n",
       "5            33  https://pantip.com/topic/39928742   \n",
       "6            46  https://pantip.com/topic/39578663   \n",
       "7            60  https://pantip.com/topic/38836146   \n",
       "8            66  https://pantip.com/topic/40190870   \n",
       "9            73  https://pantip.com/topic/39151811   \n",
       "10           86  https://pantip.com/topic/39975832   \n",
       "11           94  https://pantip.com/topic/39905450   \n",
       "12          101  https://pantip.com/topic/39874488   \n",
       "13          107  https://pantip.com/topic/40066634   \n",
       "14          113  https://pantip.com/topic/39673451   \n",
       "15          154  https://pantip.com/topic/39430829   \n",
       "16          161  https://pantip.com/topic/39414728   \n",
       "17          168  https://pantip.com/topic/39099897   \n",
       "18          181  https://pantip.com/topic/38412845   \n",
       "19          189  https://pantip.com/topic/39239769   \n",
       "20          194  https://pantip.com/topic/39503229   \n",
       "21          203  https://pantip.com/topic/39038785   \n",
       "22          329  https://pantip.com/topic/39689189   \n",
       "23          332  https://pantip.com/topic/39196885   \n",
       "24          338  https://pantip.com/topic/39979138   \n",
       "25          349  https://pantip.com/topic/39183141   \n",
       "26          354  https://pantip.com/topic/39630992   \n",
       "27          362  https://pantip.com/topic/39276934   \n",
       "28          368  https://pantip.com/topic/39123157   \n",
       "29          380  https://pantip.com/topic/38573978   \n",
       "...         ...                                ...   \n",
       "1484      63976  https://pantip.com/topic/30547926   \n",
       "1485      63990  https://pantip.com/topic/30539414   \n",
       "1486      64048  https://pantip.com/topic/30500619   \n",
       "1487      64072  https://pantip.com/topic/30541042   \n",
       "1488      64121  https://pantip.com/topic/30519465   \n",
       "1489      64154  https://pantip.com/topic/30644955   \n",
       "1490      64401  https://pantip.com/topic/30547067   \n",
       "1491      64598  https://pantip.com/topic/30521162   \n",
       "1492      64601  https://pantip.com/topic/30438119   \n",
       "1493      64613  https://pantip.com/topic/30226999   \n",
       "1494      64636  https://pantip.com/topic/30261994   \n",
       "1495      64649  https://pantip.com/topic/30228066   \n",
       "1496      64657  https://pantip.com/topic/30362044   \n",
       "1497      64798  https://pantip.com/topic/30294649   \n",
       "1498      64839  https://pantip.com/topic/30402323   \n",
       "1499      64958  https://pantip.com/topic/30166759   \n",
       "1500      64983  https://pantip.com/topic/30316396   \n",
       "1501      65171  https://pantip.com/topic/30239049   \n",
       "1502      65203  https://pantip.com/topic/30247612   \n",
       "1503      65407  https://pantip.com/topic/30243298   \n",
       "1504      65675  https://pantip.com/topic/30193739   \n",
       "1505      65693  https://pantip.com/topic/30153058   \n",
       "1506      65710  https://pantip.com/topic/30199155   \n",
       "1507      65857  https://pantip.com/topic/30243339   \n",
       "1508      65960  https://pantip.com/topic/30059506   \n",
       "1509      65991  https://pantip.com/topic/30007179   \n",
       "1510      66015  https://pantip.com/topic/30020409   \n",
       "1511      66044  https://pantip.com/topic/30049123   \n",
       "1512      66074  https://pantip.com/topic/30011023   \n",
       "1513      66132  https://pantip.com/topic/30651064   \n",
       "\n",
       "                                                   text  \\\n",
       "0     เมื่อก่อนหลายปีมาแล้ว ในเซเว่นยังมีนมเมจิรสหวา...   \n",
       "1     ตามหัวข้อเลยค่ะ อยากรู้ว่านมเมจิที่ต้มก่อนนำไป...   \n",
       "2     วันก่อนซื้อ นมเมจิขวด 2 ลิตร มากิน สังเกตฝามัน...   \n",
       "3     อยากรู้ว่าMakroมีนมยี่ห้อ meiji(เมจิ) ขายมั้ยครับ   \n",
       "4     อยากถามว่า\\r\\n\\r\\n1.คิดค่าจัดส่งยังไงครับ\\r\\n2...   \n",
       "5     สวัสดี เราคือมนุษย์ออฟฟิศ อายุ 25 ปี ที่เสพติด...   \n",
       "6     ขอถามคุณผู้หญิงที่ซื้อนมไฮโปรตีนของยี่ห้อเมจิห...   \n",
       "7                                                     😢   \n",
       "8     ผมอยู่ม.1ครับ ตอนป.6 ผมสูงเเค่ 142 เซน พอขึ้นม...   \n",
       "9     อยากได้รสที่เหมือนนมผงอะคะ ยังหาไม่เจอว่า จะใช...   \n",
       "10    🥺 คือผมอายุ17ย่าง18 สูง168หนัก61 ผมไม่สูงขึ้นเ...   \n",
       "11    ขอคำแนะนำหน่อยครับ \\r\\nทำสปาเกตตี้คาโบนาราครั้...   \n",
       "12    พอดีว่าช่วงนี้ WFH เลยอยากจะลองชง มอคค่า เองบ้...   \n",
       "13    เด็ก 10 ขวบให้กินนมอะไรดีครับ  แบบนมชงครับ\\r\\n...   \n",
       "14    เเจ้งเตือนทีมหัวตาราง \\r\\n\\r\\nระวังไว้จงหนัก \\...   \n",
       "15    ผมอายุ28ปี(ในวันที่5ธันวาปีนี้) สูง173 หนัก65 ...   \n",
       "16    เปิดโลกน้องๆ พบกับ 2 รุ่นพี่ไอดอล \"มิวนิค\" ศิล...   \n",
       "17    พอดีวันนี้ไปซื้อนมเมจิ พาสเจอไรซ์ จำนวน 7 ขวดท...   \n",
       "18    เข้าเซเว่นเห็นนม เวย์โปรตีน เมจิ ขวด49บาทโปรตี...   \n",
       "19          คือตอบกันหน่อยก็ได้ปะคนเล่นพันทิปหยิ่งจังวะ   \n",
       "20    ซื้อเครื่องทำกาแฟแคปซูลมาค่ะ ชอบดื่ม ลาเต้เย็น...   \n",
       "21    คือเรากินกาแฟสดทุกวัน เป็นเอสเปรสโซ่เย็น ไม่ได...   \n",
       "22    บริษัท ซีพี-เมจิ จำกัด ร่วมกับ โรงพยาบาลมหาวชิ...   \n",
       "23    น้อง 1 ขวบ 1 เดือนค่ะ หมอบอกให้เปลี่ยนมาเป็นนม...   \n",
       "24    เรากินนมวัวแล้วท้องเสียค่ะ แต่จะเป็นแค่กินตอนเ...   \n",
       "25    สิ่งที่ขายในร้านนมนะคะ\\r\\n1.นมเปรี้ยวบีทาเก้นม...   \n",
       "26    ให้มาทำไมคูปองสเลอปี้ 100 สาขาจะมีสเลอปี้ขายสั...   \n",
       "27    ครับ ตามหัวข้อกระทู้เลยครับ\\r\\nพ่อผมสูง 165 cm...   \n",
       "28    คือตามหัวข้อกระทู้นะคะ อยากสูงคะ อยากสูงมากๆๆๆ...   \n",
       "29    คือกินทุกคืนครับ เอานมเมจิไขมัน 0% ไปใส่ไมโครเ...   \n",
       "...                                                 ...   \n",
       "1484  มีแต่คนรวยๆ  กว่าเราทั้งนั้น เลยในห้องเรียน ป ...   \n",
       "1485  $(document).ready(function () {\\r\\n\\t\\t\\t\\t\\t\\...   \n",
       "1486  เด็กๅเอามาฝากให้ลุง เห็นลุงชอบกินโอเลี้ยง!\\r\\n...   \n",
       "1487  เหตุเกิดเมื่อกี้ ส่งนมให้ลูกสาว ปรากฎดูดเข้าไป...   \n",
       "1488  แมวผมป่วย จากที่หมอวินิจฉัยมา เป็นโรคไต ค่าได้...   \n",
       "1489  -*-*-*-*-*-*-*-*-*-ยินดีต้อนรับสู่วังจิราณี เจ...   \n",
       "1490  จับมือกันเดินด้วยใจอดทน \\r\\nหากใครสักคนล้มลงฉุ...   \n",
       "1491  เมื่ออาทิตย์ที่แล้ว หมากไปถ่ายเอ็มวี \"จะรักจนก...   \n",
       "1492  Chocolate Pots de Crème ได้มาจากเจ๊สเตฟานนี่ แ...   \n",
       "1493  เห็นที่กล่องก็เขียนว่าผลิตจากน้ำนมโคสด 100 % เ...   \n",
       "1494  * ขอ Tag ห้องหว้ากอด้วยนะคะ คิดว่าคุณหมอๆ อยู่...   \n",
       "1495  ลูกสาว 2.8 ขวบ แล้วกินแต่นม UHT โฟร์โมสต์ รสจื...   \n",
       "1496  พรุ่งนี้วันสงกรานต์ เข้าเทศกาลวันหยุดยาวแล้ว ไ...   \n",
       "1497  เพื่อน ๆ ชอบดื้ม \"นม\" แบรนด์ไหนกันบ้างครับ ?\\r...   \n",
       "1498  กระทู้นี้ แตกประเด็นมาจาก  http://pantip.com/t...   \n",
       "1499  เรารู้สึกแบบนั้น มีใครเป็นบ้างคะ แล้วมันจะเกี่...   \n",
       "1500  ผมไม่รู้ว่าจะเอาเรื่องนี้ไปเล่าบอกต่อที่ไหนดีย...   \n",
       "1501  สวัสดีวันอังคารค่ะ \\r\\n\\r\\n\\r\\n\\r\\n07:30  12/0...   \n",
       "1502  กระทู้นี้เพื่อคนรักณเดชน์นะจ้ะ มาคุยกันเฮฮาประ...   \n",
       "1503  กระทู้นี้เพื่อคนรักณเดชน์นะจ้ะ มาคุยกันเฮฮาประ...   \n",
       "1504  ขอเกริ่นยาวสักนิดนะคะ เรามีน้องสาว(ลูกน้า) อาย...   \n",
       "1505  สลด! พ่วงบรรทุกปูนเฉี่ยวจักรยานยนต์ทับสองแม่ลู...   \n",
       "1506  มุมกาแฟ NONแดง ยินดีต้อนรับเฉพาะผู้ที่จริงใจ ไ...   \n",
       "1507  ^๐^ ^๐^ ^๐^ ปิ๊งๆๆๆกระทู้อารมณ์ดีในดวงใจ @ สิน...   \n",
       "1508  อยากทราบว่าคุณแม่ที่คลอดลูกแล้ว\\r\\nตอนท้อง บำร...   \n",
       "1509  กำลังจะเป็นคุณแม่มือใหม่ค่ะ ทำตัวไม่ถูกเลยค่ะ\\...   \n",
       "1510  พรุ่งนี้ลูกชายอายุครบ 1 ขวบ 3 เดือน หม่ำนมแม่จ...   \n",
       "1511  เพื่อนๆทุกคนคงคุ้นเคยกับคำถามนี้แล้วทุกคน... \"...   \n",
       "1512  แตกกระทู้มาจาก www.pantip.com/topic/30007146/\\...   \n",
       "1513  อยากรู้ว่าปัจจุบันพวกนมกล่องทึ่ขายใน 7-11 หรือ...   \n",
       "\n",
       "                                             token_text  \\\n",
       "0     [ปี, 7-Eleven, ยังมี, นม, เมจิ, รสหวาน, ขาย, อ...   \n",
       "1     [หัวข้อ, อยากรู้, นม, เมจิ, ต้ม, ส่วนผสม, เครื...   \n",
       "2     [วันก่อน, ซื้อ, นม, เมจิ, ขวด, ลิตร, กิน, สังเ...   \n",
       "3         [อยากรู้, makro, นม, ยี่ห้อ, เมจิ, เมจิ, ขาย]   \n",
       "4     [ถาม, 1., ค่าจัดส่ง, 2., ซื้อ, ได้, ส่วนลด, 3....   \n",
       "5     [สวัสดี, มนุษย์, ออฟฟิศ, อายุ, ปี, เสพติด, กิน...   \n",
       "6     [ถาม, คุณผู้หญิง, ซื้อ, นม, ไฮโปรตีน, ยี่ห้อ, ...   \n",
       "7                                                    []   \n",
       "8     [ผม, ม., ตอน, ป., ผม, แค่, เซน, ม., แต่, คนอื่...   \n",
       "9     [อยากได้, รส, เหมือน, นมผง, อะ, หาไม่, เจอ, คร...   \n",
       "10    [ผม, อายุ, ย่าง, หนัก, ผม, ไม่, อายุ, เพื่อน, ...   \n",
       "11    [คำแนะนำ, ทำ, สปา, เก, ตตี้, คา, โบ, นารา, ครั...   \n",
       "12    [wfh, ลอง, ชง, มอคค่า, ลอง, ทำ, เวิค, รสชาติ, ...   \n",
       "13    [เด็ก, ขวบ, กินนม, ดี, นม, ชง, ปกติ, กิน, พี, ...   \n",
       "14    [เจ้ง, เตือน, ทีม, หัว, ตาราง, ระวัง, หนัก, เม...   \n",
       "15    [ผม, อายุ, ปี, วันที่, ธันวา, ปี, หนัก, ไม่, ค...   \n",
       "16    [เปิดโลก, น้องๆ, รุ่นพี่, ไอดอล, นิค, ศิลปิน, ...   \n",
       "17    [ซื้อ, นม, เมจิ, พาสเจอร์ไรส์, จำนวน, ขวด, 7-E...   \n",
       "18    [7-Eleven, นม, ไฮโปรตีน, เมจิ, ขวด, โปรตีน, แค...   \n",
       "19                       [ตอบ, ปะ, คน, เล่น, หยิ่ง, วะ]   \n",
       "20    [ซื้อ, เครื่อง, ทำ, กาแฟ, แคปซูล, ชอบ, ดื่ม, ล...   \n",
       "21    [กิน, กาแฟสด, เอสเปรสโซ่, เย็น, ไม่, ได้, กิน,...   \n",
       "22    [บริษัท, เมจิ, จำกัด, ร่วมกับ, โรงพยาบาล, มหา,...   \n",
       "23    [น้อง, ขวบ, เดือน, หมอ, นม, uht, ได้, ปกติ, น้...   \n",
       "24    [กิน, นมวัว, ท้องเสีย, กิน, ตอนเช้า, กิน, นอน,...   \n",
       "25    [ขาย, ร้านนม, 1., นมเปรี้ยว, บีทาเก้น, ขนาด, ข...   \n",
       "26    [คูปอง, เลอ, ปี้, เลอ, ปี้, ขาย, สัก, เสียเวลา...   \n",
       "27    [หัวข้อ, กระทู้, พ่อ, ผม, cm, แม่, ผม, cm, 1.,...   \n",
       "28    [หัวข้อ, กระทู้, ๆๆๆ, ตอนนี้, อายุ, น้ำหนัก, อ...   \n",
       "29    [กิน, ทุกคืน, นม, เมจิ, ไขมัน 0%, ใส่, ไมโครเว...   \n",
       "...                                                 ...   \n",
       "1484  [คนรวย, ๆ, ห้องเรียน, , ไม่, ซัก, คน, รร, ให้ท...   \n",
       "1485  [$(, document, )., ready, function, (), , $., ...   \n",
       "1486  [เด็ก, ฝาก, ลุง, ลุง, ชอบ, กิน, โอเลี้ยง, เอ, ...   \n",
       "1487  [เมื่อกี้, นม, ลูกสาว, ปรากฎ, ดูด, เข้าไป, เต็...   \n",
       "1488  [แมว, ผม, ป่วย, หมอ, วินิจฉัย, เป็นโรค, ไต, ค่...   \n",
       "1489  [ยินดีต้อนรับ, วัง, จิ, รา, ณี, เจมส์จิ, รา, ย...   \n",
       "1490  [จับมือ, เดิน, ด้วยใจ, อดทน, สัก, คน, ล้ม, ฉุด...   \n",
       "1491  [อาทิตย์, หมาก, ถ่าย, เอ็มวี, รัก, รู้, ตั้ม, ...   \n",
       "1492  [chocolate, pots, de, cr, me, ได้, มาจาก, เจ๊,...   \n",
       "1493  [กล่อง, ผลิต, น้ำนมโค, สด, เหมือนกับ, ไทยเดนมา...   \n",
       "1494  [tag, ห้อง, หว้า, กอ, คุณหมอ, คน, ชอบ, ดื่มนม,...   \n",
       "1495  [ลูกสาว, 2.8, ขวบ, กิน, นม, uht, โฟร์โมสต์, รส...   \n",
       "1496  [พรุ่งนี้, วันสงกรานต์, เทศกาล, วันหยุด, ได้, ...   \n",
       "1497  [เพื่อน ๆ, ชอบ, ดื้ม, \"นม\", แบรนด์, ส่วย, ผม, ...   \n",
       "1498  [กระทู้, แตก, ประเด็น, มาจาก, , comment, กระทู...   \n",
       "1499  [รู้สึก, เกี่ยว, ไม๊, นม, เค้า, ไม่, สูตร, นม,...   \n",
       "1500  [ผม, ไม่, รู้, เอาเรื่อง, เล่า, บอกต่อ, ดี, ผม...   \n",
       "1501  [สวัสดี, อังคาร, , , สรุป, ข่าว, หนังสือพิมพ์,...   \n",
       "1502  [กระทู้, คนรัก, เดชน์, คุย, เฮฮา, ประ, สาณ, เด...   \n",
       "1503  [กระทู้, คนรัก, เดชน์, คุย, เฮฮา, ประ, สาณ, เด...   \n",
       "1504  [เกริ่น, สักนิด, น้องสาว, ลูก, น้า, อายุ, ขวบ,...   \n",
       "1505  [สลด, พ่วง, บรรทุก, ปูน, เฉี่ยว, จักรยานยนต์, ...   \n",
       "1506  [มุม, กาแฟ, non, แดง, ยินดีต้อนรับ, จริงใจ, ไม...   \n",
       "1507  [ปิ๊ง, ๆๆๆ, กระทู้, อารมณ์ดี, ดวงใจ, สิน, ธร, ...   \n",
       "1508  [ทราบ, คุณแม่, คลอดลูก, ตอน, ท้อง, บำรุง, อาหา...   \n",
       "1509  [คุณแม่มือใหม่, ทำตัว, ไม่, ทราบ, ที่จะ, กินนม...   \n",
       "1510  [พรุ่งนี้, ลูกชาย, อายุ, ขวบ, เดือน, หม่ำ, นม,...   \n",
       "1511  [เพื่อน, คุ้นเคย, คำถาม, ทุ, กค, น., .., ?\", ห...   \n",
       "1512  [แตก, กระทู้, มาจาก, บ้าน, รูป, เฟส, นะจ๊ะ, วั...   \n",
       "1513  [อยากรู้, นมกล่อง, ทึ่, ขาย, 7-Eleven, ห้างสรร...   \n",
       "\n",
       "                                        mention_product  \\\n",
       "0                              [นม, รสหวาน, นม, รสหวาน]   \n",
       "1                                                  [นม]   \n",
       "2                                              [นม, นม]   \n",
       "3                                                  [นม]   \n",
       "4                                                    []   \n",
       "5                                        [นม, ไขมัน 0%]   \n",
       "6      [นม, ไฮโปรตีน, ไฮโปรตีน, ไฮโปรตีน, นม, ไฮโปรตีน]   \n",
       "7                                                    []   \n",
       "8                                                    []   \n",
       "9                                          [นม, นม, นม]   \n",
       "10                                         [นม, นม, นม]   \n",
       "11                                                 [นม]   \n",
       "12                               [กาแฟ, กาแฟ, นม, กาแฟ]   \n",
       "13                                                 [นม]   \n",
       "14                                                   []   \n",
       "15                                                   []   \n",
       "16                                                   []   \n",
       "17                                   [นม, พาสเจอร์ไรส์]   \n",
       "18                         [นม, ไฮโปรตีน, ไฮโปรตีน, นม]   \n",
       "19                                                   []   \n",
       "20                                     [กาแฟ, กาแฟ, นม]   \n",
       "21                                               [กาแฟ]   \n",
       "22                                       [นม, โยเกิร์ต]   \n",
       "23                                         [นม, นม, นม]   \n",
       "24                                         [นม, นม, นม]   \n",
       "25                             [นม, โยเกิร์ต, โยเกิร์ต]   \n",
       "26                                                   []   \n",
       "27                                                   []   \n",
       "28                                                   []   \n",
       "29                                       [นม, ไขมัน 0%]   \n",
       "...                                                 ...   \n",
       "1484                                           [นม, นม]   \n",
       "1485                                   [นม, นม, นม, นม]   \n",
       "1486                   [นม, กาแฟ, กาแฟ, นม, กาแฟ, กาแฟ]   \n",
       "1487                                               [นม]   \n",
       "1488                                                 []   \n",
       "1489                                                 []   \n",
       "1490                                                 []   \n",
       "1491                                                 []   \n",
       "1492  [กาแฟ, นม, ช็อกโกแลต, นม, กาแฟ, ช็อกโกแลต, ช็อ...   \n",
       "1493                                                 []   \n",
       "1494                               [นม, นม, นม, นม, นม]   \n",
       "1495                                        [นม, รสจืด]   \n",
       "1496                                                 []   \n",
       "1497                                                 []   \n",
       "1498                                                 []   \n",
       "1499                                           [นม, นม]   \n",
       "1500                                                 []   \n",
       "1501                                                 []   \n",
       "1502                                                 []   \n",
       "1503                                                 []   \n",
       "1504                                                 []   \n",
       "1505                                        [นม, รสจืด]   \n",
       "1506                                      [กาแฟ, รสจืด]   \n",
       "1507                                             [กาแฟ]   \n",
       "1508                                               [นม]   \n",
       "1509                                                 []   \n",
       "1510                                               [นม]   \n",
       "1511                                                 []   \n",
       "1512                                                 []   \n",
       "1513                                               [นม]   \n",
       "\n",
       "                                 mention_brand  \n",
       "0                                       [เมจิ]  \n",
       "1                                       [เมจิ]  \n",
       "2                                       [เมจิ]  \n",
       "3                                 [เมจิ, เมจิ]  \n",
       "4                                           []  \n",
       "5                                       [เมจิ]  \n",
       "6             [เมจิ, ดัชมิลล์, เมจิ, ดัชมิลล์]  \n",
       "7                                           []  \n",
       "8                                       [เมจิ]  \n",
       "9                            [เมจิ, แมคโนเลีย]  \n",
       "10                                      [เมจิ]  \n",
       "11                                      [เมจิ]  \n",
       "12                                      [เมจิ]  \n",
       "13                                          []  \n",
       "14                                      [เมจิ]  \n",
       "15                                      [เมจิ]  \n",
       "16                                          []  \n",
       "17                                [เมจิ, เมจิ]  \n",
       "18                          [เมจิ, เมจิ, เมจิ]  \n",
       "19                                          []  \n",
       "20                         [เมจิ, ไทยเดนมาร์ค]  \n",
       "21                                      [เมจิ]  \n",
       "22              [เมจิ, เมจิ, เมจิ, เมจิ, เมจิ]  \n",
       "23                                      [เมจิ]  \n",
       "24                              [เมจิ, หนองโพ]  \n",
       "25                            [บีทาเก้น, เมจิ]  \n",
       "26                                          []  \n",
       "27                                          []  \n",
       "28                                          []  \n",
       "29                                      [เมจิ]  \n",
       "...                                        ...  \n",
       "1484                                        []  \n",
       "1485  [ดัชมิลล์, โฟร์โมสต์, เมจิ, ไทยเดนมาร์ค]  \n",
       "1486                                        []  \n",
       "1487                                        []  \n",
       "1488                                        []  \n",
       "1489                                        []  \n",
       "1490                                        []  \n",
       "1491                                        []  \n",
       "1492                                        []  \n",
       "1493                [ไทยเดนมาร์ค, ไทยเดนมาร์ค]  \n",
       "1494                               [โฟร์โมสต์]  \n",
       "1495                               [โฟร์โมสต์]  \n",
       "1496                                        []  \n",
       "1497                                    [เมจิ]  \n",
       "1498                                        []  \n",
       "1499                                        []  \n",
       "1500                                        []  \n",
       "1501                                        []  \n",
       "1502                                        []  \n",
       "1503                                        []  \n",
       "1504                                        []  \n",
       "1505                               [โฟร์โมสต์]  \n",
       "1506                                        []  \n",
       "1507                                        []  \n",
       "1508                                        []  \n",
       "1509                                        []  \n",
       "1510                                        []  \n",
       "1511                                        []  \n",
       "1512                                        []  \n",
       "1513                                        []  \n",
       "\n",
       "[1514 rows x 6 columns]"
      ]
     },
     "execution_count": 48,
     "metadata": {},
     "output_type": "execute_result"
    }
   ],
   "source": [
    "df_process_thread"
   ]
  },
  {
   "cell_type": "markdown",
   "metadata": {},
   "source": [
    "7.Insert thread to DB"
   ]
  },
  {
   "cell_type": "code",
   "execution_count": 49,
   "metadata": {},
   "outputs": [
    {
     "data": {
      "text/plain": [
       "<pymongo.results.InsertManyResult at 0x2957d36adc8>"
      ]
     },
     "execution_count": 49,
     "metadata": {},
     "output_type": "execute_result"
    }
   ],
   "source": [
    "col_thread.delete_many({})\n",
    "process_data = create_InsertMany_Thread(df_process_thread)\n",
    "col_thread.insert_many(process_data)"
   ]
  },
  {
   "cell_type": "code",
   "execution_count": 50,
   "metadata": {
    "executionInfo": {
     "elapsed": 890,
     "status": "ok",
     "timestamp": 1604027734766,
     "user": {
      "displayName": "Pacharapol O.",
      "photoUrl": "https://lh3.googleusercontent.com/a-/AOh14GiBNaVjsCxoMVUqEvSDC7eauF0V2ZD7B-TzevR1TQ=s64",
      "userId": "00378494490135533545"
     },
     "user_tz": -420
    },
    "id": "J30GMUlJTCdh"
   },
   "outputs": [],
   "source": [
    "del df_textList1,df_textList2,df_thread,df_Corpus,df_process_comment,df_process_thread"
   ]
  },
  {
   "cell_type": "markdown",
   "metadata": {},
   "source": [
    "<br><br>\n",
    "## 3.Process หัวกระทู้เพื่อดึง Domain (Brand & Product) ไม่ใช้โมเดลเทรนแล้วทำนาย ต้องการความถูกต้อง 100%"
   ]
  },
  {
   "cell_type": "markdown",
   "metadata": {},
   "source": [
    "หากเคยบันทึกลง MongoDB แล้ว ให้เริ่มตรงนี้"
   ]
  },
  {
   "cell_type": "code",
   "execution_count": 51,
   "metadata": {},
   "outputs": [],
   "source": [
    "cursor_thread = col_thread.find()\n",
    "df_thr_process = pd.DataFrame(cursor_thread)"
   ]
  },
  {
   "cell_type": "code",
   "execution_count": 52,
   "metadata": {},
   "outputs": [
    {
     "name": "stderr",
     "output_type": "stream",
     "text": [
      "C:\\ProgramData\\Anaconda3\\lib\\site-packages\\ipykernel_launcher.py:2: SettingWithCopyWarning: \n",
      "A value is trying to be set on a copy of a slice from a DataFrame.\n",
      "Try using .loc[row_indexer,col_indexer] = value instead\n",
      "\n",
      "See the caveats in the documentation: http://pandas.pydata.org/pandas-docs/stable/indexing.html#indexing-view-versus-copy\n",
      "  \n",
      "C:\\ProgramData\\Anaconda3\\lib\\site-packages\\ipykernel_launcher.py:3: SettingWithCopyWarning: \n",
      "A value is trying to be set on a copy of a slice from a DataFrame.\n",
      "Try using .loc[row_indexer,col_indexer] = value instead\n",
      "\n",
      "See the caveats in the documentation: http://pandas.pydata.org/pandas-docs/stable/indexing.html#indexing-view-versus-copy\n",
      "  This is separate from the ipykernel package so we can avoid doing imports until\n"
     ]
    }
   ],
   "source": [
    "df_urls_milk = df_thr_process[(df_thr_process.mention_brand.str.len() != 0) & (df_thr_process.mention_product.str.len() != 0)]\n",
    "df_urls_milk['mention_brand'] = df_urls_milk['mention_brand'].apply(lambda x: repr(set(x)))\n",
    "df_urls_milk['mention_product'] = df_urls_milk['mention_product'].apply(lambda x: repr(set(x)))"
   ]
  },
  {
   "cell_type": "code",
   "execution_count": 53,
   "metadata": {},
   "outputs": [
    {
     "data": {
      "text/plain": [
       "(423, 6)"
      ]
     },
     "execution_count": 53,
     "metadata": {},
     "output_type": "execute_result"
    }
   ],
   "source": [
    "df_urls_milk.shape"
   ]
  },
  {
   "cell_type": "code",
   "execution_count": 54,
   "metadata": {},
   "outputs": [
    {
     "name": "stderr",
     "output_type": "stream",
     "text": [
      "C:\\ProgramData\\Anaconda3\\lib\\site-packages\\ipykernel_launcher.py:2: UserWarning: Pandas doesn't allow columns to be created via a new attribute name - see https://pandas.pydata.org/pandas-docs/stable/indexing.html#attribute-access\n",
      "  \n"
     ]
    },
    {
     "name": "stdout",
     "output_type": "stream",
     "text": [
      "จำนวนกระทู้ที่มีการพูดถึงนมหรือชื่อแบรนด์ในหัวกระทู้ = 423\n"
     ]
    }
   ],
   "source": [
    "df_view = df_urls_milk[['URLs','mention_brand']]\n",
    "df_view.column = ['URLs','mention_brand']\n",
    "df_view_count = df_view.groupby('mention_brand').count()\n",
    "print('จำนวนกระทู้ที่มีการพูดถึงนมหรือชื่อแบรนด์ในหัวกระทู้ =',df_view.shape[0])"
   ]
  },
  {
   "cell_type": "code",
   "execution_count": 55,
   "metadata": {
    "scrolled": true
   },
   "outputs": [
    {
     "data": {
      "text/html": [
       "<div>\n",
       "<style scoped>\n",
       "    .dataframe tbody tr th:only-of-type {\n",
       "        vertical-align: middle;\n",
       "    }\n",
       "\n",
       "    .dataframe tbody tr th {\n",
       "        vertical-align: top;\n",
       "    }\n",
       "\n",
       "    .dataframe thead th {\n",
       "        text-align: right;\n",
       "    }\n",
       "</style>\n",
       "<table border=\"1\" class=\"dataframe\">\n",
       "  <thead>\n",
       "    <tr style=\"text-align: right;\">\n",
       "      <th></th>\n",
       "      <th>URLs</th>\n",
       "    </tr>\n",
       "    <tr>\n",
       "      <th>mention_brand</th>\n",
       "      <th></th>\n",
       "    </tr>\n",
       "  </thead>\n",
       "  <tbody>\n",
       "    <tr>\n",
       "      <th>{'เมจิ'}</th>\n",
       "      <td>184</td>\n",
       "    </tr>\n",
       "    <tr>\n",
       "      <th>{'โฟร์โมสต์'}</th>\n",
       "      <td>70</td>\n",
       "    </tr>\n",
       "    <tr>\n",
       "      <th>{'ดัชมิลล์'}</th>\n",
       "      <td>50</td>\n",
       "    </tr>\n",
       "    <tr>\n",
       "      <th>{'โชคชัย'}</th>\n",
       "      <td>24</td>\n",
       "    </tr>\n",
       "    <tr>\n",
       "      <th>{'เมจิ', 'ดัชมิลล์'}</th>\n",
       "      <td>12</td>\n",
       "    </tr>\n",
       "    <tr>\n",
       "      <th>{'ไทยเดนมาร์ค'}</th>\n",
       "      <td>8</td>\n",
       "    </tr>\n",
       "    <tr>\n",
       "      <th>{'คาเนชั่น', 'เมจิ'}</th>\n",
       "      <td>6</td>\n",
       "    </tr>\n",
       "    <tr>\n",
       "      <th>{'โฟร์โมสต์', 'เมจิ'}</th>\n",
       "      <td>6</td>\n",
       "    </tr>\n",
       "    <tr>\n",
       "      <th>{'โฟร์โมสต์', 'ดัชมิลล์'}</th>\n",
       "      <td>5</td>\n",
       "    </tr>\n",
       "    <tr>\n",
       "      <th>{'โฟร์โมสต์', 'เมจิ', 'ดัชมิลล์'}</th>\n",
       "      <td>4</td>\n",
       "    </tr>\n",
       "    <tr>\n",
       "      <th>{'คาเนชั่น'}</th>\n",
       "      <td>3</td>\n",
       "    </tr>\n",
       "    <tr>\n",
       "      <th>{'โชคชัย', 'เมจิ'}</th>\n",
       "      <td>3</td>\n",
       "    </tr>\n",
       "    <tr>\n",
       "      <th>{'เมจิ', 'หนองโพ'}</th>\n",
       "      <td>3</td>\n",
       "    </tr>\n",
       "    <tr>\n",
       "      <th>{'เมจิ', 'ไทยเดนมาร์ค'}</th>\n",
       "      <td>3</td>\n",
       "    </tr>\n",
       "    <tr>\n",
       "      <th>{'โฟร์โมสต์', 'ไทยเดนมาร์ค'}</th>\n",
       "      <td>2</td>\n",
       "    </tr>\n",
       "    <tr>\n",
       "      <th>{'ไทยเดนมาร์ค', 'หนองโพ'}</th>\n",
       "      <td>2</td>\n",
       "    </tr>\n",
       "    <tr>\n",
       "      <th>{'โฟร์โมสต์', 'ไทยเดนมาร์ค', 'หนองโพ'}</th>\n",
       "      <td>2</td>\n",
       "    </tr>\n",
       "    <tr>\n",
       "      <th>{'โฟร์โมสต์', 'ไทยเดนมาร์ค', 'ดัชมิลล์', 'หนองโพ'}</th>\n",
       "      <td>2</td>\n",
       "    </tr>\n",
       "    <tr>\n",
       "      <th>{'โฟร์โมสต์', 'โชคชัย', 'เมจิ'}</th>\n",
       "      <td>2</td>\n",
       "    </tr>\n",
       "    <tr>\n",
       "      <th>{'โฟร์โมสต์', 'โชคชัย', 'เมจิ', 'ดัชมิลล์'}</th>\n",
       "      <td>2</td>\n",
       "    </tr>\n",
       "    <tr>\n",
       "      <th>{'โฟร์โมสต์', 'เมจิ', 'หนองโพ'}</th>\n",
       "      <td>2</td>\n",
       "    </tr>\n",
       "    <tr>\n",
       "      <th>{'โชคชัย', 'ไทยเดนมาร์ค'}</th>\n",
       "      <td>2</td>\n",
       "    </tr>\n",
       "    <tr>\n",
       "      <th>{'เมจิ', 'แมคโนเลีย'}</th>\n",
       "      <td>2</td>\n",
       "    </tr>\n",
       "    <tr>\n",
       "      <th>{'เมจิ', 'บีทาเก้น'}</th>\n",
       "      <td>2</td>\n",
       "    </tr>\n",
       "    <tr>\n",
       "      <th>{'แดรี่โฮม'}</th>\n",
       "      <td>2</td>\n",
       "    </tr>\n",
       "    <tr>\n",
       "      <th>{'เอ็มมิลค์', 'เมจิ', 'ดัชมิลล์'}</th>\n",
       "      <td>2</td>\n",
       "    </tr>\n",
       "    <tr>\n",
       "      <th>{'คาเนชั่น', 'โฟร์โมสต์'}</th>\n",
       "      <td>1</td>\n",
       "    </tr>\n",
       "    <tr>\n",
       "      <th>{'ไทยเดนมาร์ค', 'ดัชมิลล์'}</th>\n",
       "      <td>1</td>\n",
       "    </tr>\n",
       "    <tr>\n",
       "      <th>{'ดัชมิลล์', 'บีทาเก้น'}</th>\n",
       "      <td>1</td>\n",
       "    </tr>\n",
       "    <tr>\n",
       "      <th>{'ดัชมิลล์', 'โฟร์โมสต์', 'เมจิ', 'โชคชัย', 'หนองโพ'}</th>\n",
       "      <td>1</td>\n",
       "    </tr>\n",
       "    <tr>\n",
       "      <th>{'บีทาเก้น'}</th>\n",
       "      <td>1</td>\n",
       "    </tr>\n",
       "    <tr>\n",
       "      <th>{'โฟร์โมสต์', 'ไทยเดนมาร์ค', 'ดัชมิลล์'}</th>\n",
       "      <td>1</td>\n",
       "    </tr>\n",
       "    <tr>\n",
       "      <th>{'หนองโพ'}</th>\n",
       "      <td>1</td>\n",
       "    </tr>\n",
       "    <tr>\n",
       "      <th>{'โฟร์โมสต์', 'โชคชัย'}</th>\n",
       "      <td>1</td>\n",
       "    </tr>\n",
       "    <tr>\n",
       "      <th>{'คาเนชั่น', 'เมจิ', 'ดัชมิลล์'}</th>\n",
       "      <td>1</td>\n",
       "    </tr>\n",
       "    <tr>\n",
       "      <th>{'โชคชัย', 'หนองโพ'}</th>\n",
       "      <td>1</td>\n",
       "    </tr>\n",
       "    <tr>\n",
       "      <th>{'โฟร์โมสต์', 'โชคชัย', 'ดัชมิลล์', 'หนองโพ'}</th>\n",
       "      <td>1</td>\n",
       "    </tr>\n",
       "    <tr>\n",
       "      <th>{'โฟร์โมสต์', 'แมคโนเลีย'}</th>\n",
       "      <td>1</td>\n",
       "    </tr>\n",
       "    <tr>\n",
       "      <th>{'โฟร์โมสต์', 'เมจิ', 'ไทยเดนมาร์ค'}</th>\n",
       "      <td>1</td>\n",
       "    </tr>\n",
       "    <tr>\n",
       "      <th>{'โฟร์โมสต์', 'เมจิ', 'ไทยเดนมาร์ค', 'หนองโพ'}</th>\n",
       "      <td>1</td>\n",
       "    </tr>\n",
       "    <tr>\n",
       "      <th>{'โฟร์โมสต์', 'เมจิ', 'ไทยเดนมาร์ค', 'ดัชมิลล์'}</th>\n",
       "      <td>1</td>\n",
       "    </tr>\n",
       "    <tr>\n",
       "      <th>{'แดรี่โฮม', 'ไทยเดนมาร์ค', 'เมจิ', 'โชคชัย', 'หนองโพ'}</th>\n",
       "      <td>1</td>\n",
       "    </tr>\n",
       "    <tr>\n",
       "      <th>{'โชคชัย', 'ดัชมิลล์', 'หนองโพ'}</th>\n",
       "      <td>1</td>\n",
       "    </tr>\n",
       "    <tr>\n",
       "      <th>{'คาเนชั่น', 'ดัชมิลล์'}</th>\n",
       "      <td>1</td>\n",
       "    </tr>\n",
       "  </tbody>\n",
       "</table>\n",
       "</div>"
      ],
      "text/plain": [
       "                                                    URLs\n",
       "mention_brand                                           \n",
       "{'เมจิ'}                                             184\n",
       "{'โฟร์โมสต์'}                                         70\n",
       "{'ดัชมิลล์'}                                          50\n",
       "{'โชคชัย'}                                            24\n",
       "{'เมจิ', 'ดัชมิลล์'}                                  12\n",
       "{'ไทยเดนมาร์ค'}                                        8\n",
       "{'คาเนชั่น', 'เมจิ'}                                   6\n",
       "{'โฟร์โมสต์', 'เมจิ'}                                  6\n",
       "{'โฟร์โมสต์', 'ดัชมิลล์'}                              5\n",
       "{'โฟร์โมสต์', 'เมจิ', 'ดัชมิลล์'}                      4\n",
       "{'คาเนชั่น'}                                           3\n",
       "{'โชคชัย', 'เมจิ'}                                     3\n",
       "{'เมจิ', 'หนองโพ'}                                     3\n",
       "{'เมจิ', 'ไทยเดนมาร์ค'}                                3\n",
       "{'โฟร์โมสต์', 'ไทยเดนมาร์ค'}                           2\n",
       "{'ไทยเดนมาร์ค', 'หนองโพ'}                              2\n",
       "{'โฟร์โมสต์', 'ไทยเดนมาร์ค', 'หนองโพ'}                 2\n",
       "{'โฟร์โมสต์', 'ไทยเดนมาร์ค', 'ดัชมิลล์', 'หนองโพ'}     2\n",
       "{'โฟร์โมสต์', 'โชคชัย', 'เมจิ'}                        2\n",
       "{'โฟร์โมสต์', 'โชคชัย', 'เมจิ', 'ดัชมิลล์'}            2\n",
       "{'โฟร์โมสต์', 'เมจิ', 'หนองโพ'}                        2\n",
       "{'โชคชัย', 'ไทยเดนมาร์ค'}                              2\n",
       "{'เมจิ', 'แมคโนเลีย'}                                  2\n",
       "{'เมจิ', 'บีทาเก้น'}                                   2\n",
       "{'แดรี่โฮม'}                                           2\n",
       "{'เอ็มมิลค์', 'เมจิ', 'ดัชมิลล์'}                      2\n",
       "{'คาเนชั่น', 'โฟร์โมสต์'}                              1\n",
       "{'ไทยเดนมาร์ค', 'ดัชมิลล์'}                            1\n",
       "{'ดัชมิลล์', 'บีทาเก้น'}                               1\n",
       "{'ดัชมิลล์', 'โฟร์โมสต์', 'เมจิ', 'โชคชัย', 'หน...     1\n",
       "{'บีทาเก้น'}                                           1\n",
       "{'โฟร์โมสต์', 'ไทยเดนมาร์ค', 'ดัชมิลล์'}               1\n",
       "{'หนองโพ'}                                             1\n",
       "{'โฟร์โมสต์', 'โชคชัย'}                                1\n",
       "{'คาเนชั่น', 'เมจิ', 'ดัชมิลล์'}                       1\n",
       "{'โชคชัย', 'หนองโพ'}                                   1\n",
       "{'โฟร์โมสต์', 'โชคชัย', 'ดัชมิลล์', 'หนองโพ'}          1\n",
       "{'โฟร์โมสต์', 'แมคโนเลีย'}                             1\n",
       "{'โฟร์โมสต์', 'เมจิ', 'ไทยเดนมาร์ค'}                   1\n",
       "{'โฟร์โมสต์', 'เมจิ', 'ไทยเดนมาร์ค', 'หนองโพ'}         1\n",
       "{'โฟร์โมสต์', 'เมจิ', 'ไทยเดนมาร์ค', 'ดัชมิลล์'}       1\n",
       "{'แดรี่โฮม', 'ไทยเดนมาร์ค', 'เมจิ', 'โชคชัย', '...     1\n",
       "{'โชคชัย', 'ดัชมิลล์', 'หนองโพ'}                       1\n",
       "{'คาเนชั่น', 'ดัชมิลล์'}                               1"
      ]
     },
     "execution_count": 55,
     "metadata": {},
     "output_type": "execute_result"
    }
   ],
   "source": [
    "df_view_count.sort_values(by='URLs',ascending=False)"
   ]
  },
  {
   "cell_type": "code",
   "execution_count": 56,
   "metadata": {},
   "outputs": [],
   "source": [
    "#aa = df_urls_milk[(df_urls_milk['mention_brand']==\"{'เมจิ'}\")&(df_urls_milk['URLs']=='https://pantip.com/topic/31061329')].token_text\n",
    "#aa.iloc[0]"
   ]
  },
  {
   "cell_type": "code",
   "execution_count": 57,
   "metadata": {},
   "outputs": [],
   "source": [
    "#df_urls_milk.to_excel(\"Docs/วิเคราะห์ข้อมูล/domain.xlsx\",index=False)"
   ]
  },
  {
   "cell_type": "markdown",
   "metadata": {},
   "source": [
    "### 4.ทำ Topic Modeling และคัดเลือกกระทู้ที่มีความเกี่ยวข้อง แล้วดึงคำไปใช้"
   ]
  },
  {
   "cell_type": "code",
   "execution_count": 115,
   "metadata": {},
   "outputs": [],
   "source": [
    "cursor_comment = col_comment.find()\n",
    "df_cmt_process = pd.DataFrame(cursor_comment)"
   ]
  },
  {
   "cell_type": "code",
   "execution_count": 116,
   "metadata": {},
   "outputs": [],
   "source": [
    "df_join_url = pd.merge(df_cmt_process,df_urls_milk,how='inner',on='URLs')\n",
    "df_join_url = df_join_url[['Retrived_date','URLs','commentId','mention_brand', 'mention_product','token_text_x']]\n",
    "df_join_url.columns = ['Retrived_date','URLs','commentId','mention_brand', 'mention_product','token_text']"
   ]
  },
  {
   "cell_type": "code",
   "execution_count": 88,
   "metadata": {},
   "outputs": [
    {
     "data": {
      "text/plain": [
       "(60545, 7)"
      ]
     },
     "execution_count": 88,
     "metadata": {},
     "output_type": "execute_result"
    }
   ],
   "source": [
    "df_cmt_process.shape"
   ]
  },
  {
   "cell_type": "code",
   "execution_count": 89,
   "metadata": {},
   "outputs": [
    {
     "data": {
      "text/html": [
       "<div>\n",
       "<style scoped>\n",
       "    .dataframe tbody tr th:only-of-type {\n",
       "        vertical-align: middle;\n",
       "    }\n",
       "\n",
       "    .dataframe tbody tr th {\n",
       "        vertical-align: top;\n",
       "    }\n",
       "\n",
       "    .dataframe thead th {\n",
       "        text-align: right;\n",
       "    }\n",
       "</style>\n",
       "<table border=\"1\" class=\"dataframe\">\n",
       "  <thead>\n",
       "    <tr style=\"text-align: right;\">\n",
       "      <th></th>\n",
       "      <th>Retrived_date</th>\n",
       "      <th>URLs</th>\n",
       "      <th>commentId</th>\n",
       "      <th>mention_brand</th>\n",
       "      <th>mention_product</th>\n",
       "      <th>token_text</th>\n",
       "    </tr>\n",
       "  </thead>\n",
       "  <tbody>\n",
       "    <tr>\n",
       "      <th>7947</th>\n",
       "      <td>2020-10-27 13:51:00.344890</td>\n",
       "      <td>https://pantip.com/topic/30153058</td>\n",
       "      <td>65703</td>\n",
       "      <td>{'โฟร์โมสต์'}</td>\n",
       "      <td>{'รสจืด', 'นม'}</td>\n",
       "      <td>[ปกติ, ขับ, ออกจาก, แยก, ไม่, ได้, เลี้ยว, ไม่...</td>\n",
       "    </tr>\n",
       "    <tr>\n",
       "      <th>7948</th>\n",
       "      <td>2020-10-27 13:51:00.344890</td>\n",
       "      <td>https://pantip.com/topic/30153058</td>\n",
       "      <td>65704</td>\n",
       "      <td>{'โฟร์โมสต์'}</td>\n",
       "      <td>{'รสจืด', 'นม'}</td>\n",
       "      <td>[เสียใจ, รถ, ถนน, , ไม่, , ระวัง, ตัวเอง, ดีกว...</td>\n",
       "    </tr>\n",
       "    <tr>\n",
       "      <th>7949</th>\n",
       "      <td>2020-10-27 13:51:00.344890</td>\n",
       "      <td>https://pantip.com/topic/30153058</td>\n",
       "      <td>65705</td>\n",
       "      <td>{'โฟร์โมสต์'}</td>\n",
       "      <td>{'รสจืด', 'นม'}</td>\n",
       "      <td>[หน้า, ห้าง, ..., วาง, กรวย, หา, แพะ]</td>\n",
       "    </tr>\n",
       "    <tr>\n",
       "      <th>7950</th>\n",
       "      <td>2020-10-27 13:51:00.344890</td>\n",
       "      <td>https://pantip.com/topic/30153058</td>\n",
       "      <td>65706</td>\n",
       "      <td>{'โฟร์โมสต์'}</td>\n",
       "      <td>{'รสจืด', 'นม'}</td>\n",
       "      <td>[ขี่, รถ, ผ่านหน้า, big c, รัชดา, ผม, วิ่ง, เล...</td>\n",
       "    </tr>\n",
       "    <tr>\n",
       "      <th>7951</th>\n",
       "      <td>2020-10-27 13:51:00.344890</td>\n",
       "      <td>https://pantip.com/topic/30153058</td>\n",
       "      <td>65707</td>\n",
       "      <td>{'โฟร์โมสต์'}</td>\n",
       "      <td>{'รสจืด', 'นม'}</td>\n",
       "      <td>[ชีวิต, เลือก, ได้, ไม่, ขับ, มอไซด์, เสี่ยง, ...</td>\n",
       "    </tr>\n",
       "  </tbody>\n",
       "</table>\n",
       "</div>"
      ],
      "text/plain": [
       "                   Retrived_date                               URLs  \\\n",
       "7947  2020-10-27 13:51:00.344890  https://pantip.com/topic/30153058   \n",
       "7948  2020-10-27 13:51:00.344890  https://pantip.com/topic/30153058   \n",
       "7949  2020-10-27 13:51:00.344890  https://pantip.com/topic/30153058   \n",
       "7950  2020-10-27 13:51:00.344890  https://pantip.com/topic/30153058   \n",
       "7951  2020-10-27 13:51:00.344890  https://pantip.com/topic/30153058   \n",
       "\n",
       "      commentId  mention_brand  mention_product  \\\n",
       "7947      65703  {'โฟร์โมสต์'}  {'รสจืด', 'นม'}   \n",
       "7948      65704  {'โฟร์โมสต์'}  {'รสจืด', 'นม'}   \n",
       "7949      65705  {'โฟร์โมสต์'}  {'รสจืด', 'นม'}   \n",
       "7950      65706  {'โฟร์โมสต์'}  {'รสจืด', 'นม'}   \n",
       "7951      65707  {'โฟร์โมสต์'}  {'รสจืด', 'นม'}   \n",
       "\n",
       "                                             token_text  \n",
       "7947  [ปกติ, ขับ, ออกจาก, แยก, ไม่, ได้, เลี้ยว, ไม่...  \n",
       "7948  [เสียใจ, รถ, ถนน, , ไม่, , ระวัง, ตัวเอง, ดีกว...  \n",
       "7949              [หน้า, ห้าง, ..., วาง, กรวย, หา, แพะ]  \n",
       "7950  [ขี่, รถ, ผ่านหน้า, big c, รัชดา, ผม, วิ่ง, เล...  \n",
       "7951  [ชีวิต, เลือก, ได้, ไม่, ขับ, มอไซด์, เสี่ยง, ...  "
      ]
     },
     "execution_count": 89,
     "metadata": {},
     "output_type": "execute_result"
    }
   ],
   "source": [
    "df_join_url.tail()"
   ]
  },
  {
   "cell_type": "markdown",
   "metadata": {},
   "source": [
    "ถ้า EDA แล้วให้ Skip ส่วนนี้ ข้ามไปส่วนหลัง Reduce Term (5) ได้เลย"
   ]
  },
  {
   "cell_type": "code",
   "execution_count": 90,
   "metadata": {},
   "outputs": [
    {
     "name": "stderr",
     "output_type": "stream",
     "text": [
      "C:\\ProgramData\\Anaconda3\\lib\\site-packages\\ipykernel_launcher.py:2: UserWarning: Pandas doesn't allow columns to be created via a new attribute name - see https://pandas.pydata.org/pandas-docs/stable/indexing.html#attribute-access\n",
      "  \n"
     ]
    }
   ],
   "source": [
    "df_view = df_join_url[['commentId','mention_brand']]\n",
    "df_view.column = ['commentId','mention_brand']"
   ]
  },
  {
   "cell_type": "code",
   "execution_count": 91,
   "metadata": {
    "scrolled": true
   },
   "outputs": [],
   "source": [
    "df_view_count = df_view.groupby('mention_brand').count()"
   ]
  },
  {
   "cell_type": "code",
   "execution_count": 92,
   "metadata": {},
   "outputs": [
    {
     "name": "stdout",
     "output_type": "stream",
     "text": [
      "จำนวน comment ในกระทู้ที่มีการพูดถึงนมหรือชื่อแบรนด์ = 7952\n"
     ]
    }
   ],
   "source": [
    "print('จำนวน comment ในกระทู้ที่มีการพูดถึงนมหรือชื่อแบรนด์ =',df_view.shape[0])"
   ]
  },
  {
   "cell_type": "code",
   "execution_count": 93,
   "metadata": {
    "scrolled": true
   },
   "outputs": [
    {
     "data": {
      "text/html": [
       "<div>\n",
       "<style scoped>\n",
       "    .dataframe tbody tr th:only-of-type {\n",
       "        vertical-align: middle;\n",
       "    }\n",
       "\n",
       "    .dataframe tbody tr th {\n",
       "        vertical-align: top;\n",
       "    }\n",
       "\n",
       "    .dataframe thead th {\n",
       "        text-align: right;\n",
       "    }\n",
       "</style>\n",
       "<table border=\"1\" class=\"dataframe\">\n",
       "  <thead>\n",
       "    <tr style=\"text-align: right;\">\n",
       "      <th></th>\n",
       "      <th>commentId</th>\n",
       "    </tr>\n",
       "    <tr>\n",
       "      <th>mention_brand</th>\n",
       "      <th></th>\n",
       "    </tr>\n",
       "  </thead>\n",
       "  <tbody>\n",
       "    <tr>\n",
       "      <th>{'เมจิ'}</th>\n",
       "      <td>3481</td>\n",
       "    </tr>\n",
       "    <tr>\n",
       "      <th>{'ดัชมิลล์'}</th>\n",
       "      <td>1195</td>\n",
       "    </tr>\n",
       "    <tr>\n",
       "      <th>{'โฟร์โมสต์'}</th>\n",
       "      <td>1078</td>\n",
       "    </tr>\n",
       "    <tr>\n",
       "      <th>{'เมจิ', 'ดัชมิลล์'}</th>\n",
       "      <td>506</td>\n",
       "    </tr>\n",
       "    <tr>\n",
       "      <th>{'โชคชัย'}</th>\n",
       "      <td>234</td>\n",
       "    </tr>\n",
       "    <tr>\n",
       "      <th>{'ไทยเดนมาร์ค'}</th>\n",
       "      <td>137</td>\n",
       "    </tr>\n",
       "    <tr>\n",
       "      <th>{'โฟร์โมสต์', 'ดัชมิลล์'}</th>\n",
       "      <td>132</td>\n",
       "    </tr>\n",
       "    <tr>\n",
       "      <th>{'โฟร์โมสต์', 'ไทยเดนมาร์ค', 'ดัชมิลล์', 'หนองโพ'}</th>\n",
       "      <td>117</td>\n",
       "    </tr>\n",
       "    <tr>\n",
       "      <th>{'โฟร์โมสต์', 'เมจิ'}</th>\n",
       "      <td>116</td>\n",
       "    </tr>\n",
       "    <tr>\n",
       "      <th>{'โฟร์โมสต์', 'โชคชัย', 'ดัชมิลล์', 'หนองโพ'}</th>\n",
       "      <td>86</td>\n",
       "    </tr>\n",
       "    <tr>\n",
       "      <th>{'บีทาเก้น'}</th>\n",
       "      <td>80</td>\n",
       "    </tr>\n",
       "    <tr>\n",
       "      <th>{'โฟร์โมสต์', 'เมจิ', 'ไทยเดนมาร์ค', 'ดัชมิลล์'}</th>\n",
       "      <td>56</td>\n",
       "    </tr>\n",
       "    <tr>\n",
       "      <th>{'โฟร์โมสต์', 'เมจิ', 'ไทยเดนมาร์ค', 'หนองโพ'}</th>\n",
       "      <td>51</td>\n",
       "    </tr>\n",
       "    <tr>\n",
       "      <th>{'เมจิ', 'แมคโนเลีย'}</th>\n",
       "      <td>50</td>\n",
       "    </tr>\n",
       "    <tr>\n",
       "      <th>{'แดรี่โฮม'}</th>\n",
       "      <td>43</td>\n",
       "    </tr>\n",
       "    <tr>\n",
       "      <th>{'คาเนชั่น', 'เมจิ'}</th>\n",
       "      <td>42</td>\n",
       "    </tr>\n",
       "    <tr>\n",
       "      <th>{'เมจิ', 'หนองโพ'}</th>\n",
       "      <td>41</td>\n",
       "    </tr>\n",
       "    <tr>\n",
       "      <th>{'โฟร์โมสต์', 'เมจิ', 'หนองโพ'}</th>\n",
       "      <td>39</td>\n",
       "    </tr>\n",
       "    <tr>\n",
       "      <th>{'ไทยเดนมาร์ค', 'หนองโพ'}</th>\n",
       "      <td>37</td>\n",
       "    </tr>\n",
       "    <tr>\n",
       "      <th>{'ดัชมิลล์', 'โฟร์โมสต์', 'เมจิ', 'โชคชัย', 'หนองโพ'}</th>\n",
       "      <td>35</td>\n",
       "    </tr>\n",
       "    <tr>\n",
       "      <th>{'โฟร์โมสต์', 'เมจิ', 'ดัชมิลล์'}</th>\n",
       "      <td>35</td>\n",
       "    </tr>\n",
       "    <tr>\n",
       "      <th>{'เมจิ', 'ไทยเดนมาร์ค'}</th>\n",
       "      <td>35</td>\n",
       "    </tr>\n",
       "    <tr>\n",
       "      <th>{'คาเนชั่น'}</th>\n",
       "      <td>31</td>\n",
       "    </tr>\n",
       "    <tr>\n",
       "      <th>{'แดรี่โฮม', 'ไทยเดนมาร์ค', 'เมจิ', 'โชคชัย', 'หนองโพ'}</th>\n",
       "      <td>30</td>\n",
       "    </tr>\n",
       "    <tr>\n",
       "      <th>{'โฟร์โมสต์', 'ไทยเดนมาร์ค', 'หนองโพ'}</th>\n",
       "      <td>27</td>\n",
       "    </tr>\n",
       "    <tr>\n",
       "      <th>{'โชคชัย', 'ดัชมิลล์', 'หนองโพ'}</th>\n",
       "      <td>26</td>\n",
       "    </tr>\n",
       "    <tr>\n",
       "      <th>{'หนองโพ'}</th>\n",
       "      <td>21</td>\n",
       "    </tr>\n",
       "    <tr>\n",
       "      <th>{'โฟร์โมสต์', 'โชคชัย', 'เมจิ'}</th>\n",
       "      <td>19</td>\n",
       "    </tr>\n",
       "    <tr>\n",
       "      <th>{'โฟร์โมสต์', 'โชคชัย', 'เมจิ', 'ดัชมิลล์'}</th>\n",
       "      <td>17</td>\n",
       "    </tr>\n",
       "    <tr>\n",
       "      <th>{'โชคชัย', 'ไทยเดนมาร์ค'}</th>\n",
       "      <td>16</td>\n",
       "    </tr>\n",
       "    <tr>\n",
       "      <th>{'โชคชัย', 'เมจิ'}</th>\n",
       "      <td>15</td>\n",
       "    </tr>\n",
       "    <tr>\n",
       "      <th>{'โฟร์โมสต์', 'ไทยเดนมาร์ค'}</th>\n",
       "      <td>15</td>\n",
       "    </tr>\n",
       "    <tr>\n",
       "      <th>{'เมจิ', 'บีทาเก้น'}</th>\n",
       "      <td>14</td>\n",
       "    </tr>\n",
       "    <tr>\n",
       "      <th>{'โฟร์โมสต์', 'แมคโนเลีย'}</th>\n",
       "      <td>13</td>\n",
       "    </tr>\n",
       "    <tr>\n",
       "      <th>{'ไทยเดนมาร์ค', 'ดัชมิลล์'}</th>\n",
       "      <td>13</td>\n",
       "    </tr>\n",
       "    <tr>\n",
       "      <th>{'คาเนชั่น', 'ดัชมิลล์'}</th>\n",
       "      <td>12</td>\n",
       "    </tr>\n",
       "    <tr>\n",
       "      <th>{'โฟร์โมสต์', 'โชคชัย'}</th>\n",
       "      <td>10</td>\n",
       "    </tr>\n",
       "    <tr>\n",
       "      <th>{'โฟร์โมสต์', 'ไทยเดนมาร์ค', 'ดัชมิลล์'}</th>\n",
       "      <td>9</td>\n",
       "    </tr>\n",
       "    <tr>\n",
       "      <th>{'ดัชมิลล์', 'บีทาเก้น'}</th>\n",
       "      <td>9</td>\n",
       "    </tr>\n",
       "    <tr>\n",
       "      <th>{'คาเนชั่น', 'เมจิ', 'ดัชมิลล์'}</th>\n",
       "      <td>8</td>\n",
       "    </tr>\n",
       "    <tr>\n",
       "      <th>{'โฟร์โมสต์', 'เมจิ', 'ไทยเดนมาร์ค'}</th>\n",
       "      <td>7</td>\n",
       "    </tr>\n",
       "    <tr>\n",
       "      <th>{'โชคชัย', 'หนองโพ'}</th>\n",
       "      <td>7</td>\n",
       "    </tr>\n",
       "    <tr>\n",
       "      <th>{'คาเนชั่น', 'โฟร์โมสต์'}</th>\n",
       "      <td>5</td>\n",
       "    </tr>\n",
       "    <tr>\n",
       "      <th>{'เอ็มมิลค์', 'เมจิ', 'ดัชมิลล์'}</th>\n",
       "      <td>2</td>\n",
       "    </tr>\n",
       "  </tbody>\n",
       "</table>\n",
       "</div>"
      ],
      "text/plain": [
       "                                                    commentId\n",
       "mention_brand                                                \n",
       "{'เมจิ'}                                                 3481\n",
       "{'ดัชมิลล์'}                                             1195\n",
       "{'โฟร์โมสต์'}                                            1078\n",
       "{'เมจิ', 'ดัชมิลล์'}                                      506\n",
       "{'โชคชัย'}                                                234\n",
       "{'ไทยเดนมาร์ค'}                                           137\n",
       "{'โฟร์โมสต์', 'ดัชมิลล์'}                                 132\n",
       "{'โฟร์โมสต์', 'ไทยเดนมาร์ค', 'ดัชมิลล์', 'หนองโพ'}        117\n",
       "{'โฟร์โมสต์', 'เมจิ'}                                     116\n",
       "{'โฟร์โมสต์', 'โชคชัย', 'ดัชมิลล์', 'หนองโพ'}              86\n",
       "{'บีทาเก้น'}                                               80\n",
       "{'โฟร์โมสต์', 'เมจิ', 'ไทยเดนมาร์ค', 'ดัชมิลล์'}           56\n",
       "{'โฟร์โมสต์', 'เมจิ', 'ไทยเดนมาร์ค', 'หนองโพ'}             51\n",
       "{'เมจิ', 'แมคโนเลีย'}                                      50\n",
       "{'แดรี่โฮม'}                                               43\n",
       "{'คาเนชั่น', 'เมจิ'}                                       42\n",
       "{'เมจิ', 'หนองโพ'}                                         41\n",
       "{'โฟร์โมสต์', 'เมจิ', 'หนองโพ'}                            39\n",
       "{'ไทยเดนมาร์ค', 'หนองโพ'}                                  37\n",
       "{'ดัชมิลล์', 'โฟร์โมสต์', 'เมจิ', 'โชคชัย', 'หน...         35\n",
       "{'โฟร์โมสต์', 'เมจิ', 'ดัชมิลล์'}                          35\n",
       "{'เมจิ', 'ไทยเดนมาร์ค'}                                    35\n",
       "{'คาเนชั่น'}                                               31\n",
       "{'แดรี่โฮม', 'ไทยเดนมาร์ค', 'เมจิ', 'โชคชัย', '...         30\n",
       "{'โฟร์โมสต์', 'ไทยเดนมาร์ค', 'หนองโพ'}                     27\n",
       "{'โชคชัย', 'ดัชมิลล์', 'หนองโพ'}                           26\n",
       "{'หนองโพ'}                                                 21\n",
       "{'โฟร์โมสต์', 'โชคชัย', 'เมจิ'}                            19\n",
       "{'โฟร์โมสต์', 'โชคชัย', 'เมจิ', 'ดัชมิลล์'}                17\n",
       "{'โชคชัย', 'ไทยเดนมาร์ค'}                                  16\n",
       "{'โชคชัย', 'เมจิ'}                                         15\n",
       "{'โฟร์โมสต์', 'ไทยเดนมาร์ค'}                               15\n",
       "{'เมจิ', 'บีทาเก้น'}                                       14\n",
       "{'โฟร์โมสต์', 'แมคโนเลีย'}                                 13\n",
       "{'ไทยเดนมาร์ค', 'ดัชมิลล์'}                                13\n",
       "{'คาเนชั่น', 'ดัชมิลล์'}                                   12\n",
       "{'โฟร์โมสต์', 'โชคชัย'}                                    10\n",
       "{'โฟร์โมสต์', 'ไทยเดนมาร์ค', 'ดัชมิลล์'}                    9\n",
       "{'ดัชมิลล์', 'บีทาเก้น'}                                    9\n",
       "{'คาเนชั่น', 'เมจิ', 'ดัชมิลล์'}                            8\n",
       "{'โฟร์โมสต์', 'เมจิ', 'ไทยเดนมาร์ค'}                        7\n",
       "{'โชคชัย', 'หนองโพ'}                                        7\n",
       "{'คาเนชั่น', 'โฟร์โมสต์'}                                   5\n",
       "{'เอ็มมิลค์', 'เมจิ', 'ดัชมิลล์'}                           2"
      ]
     },
     "execution_count": 93,
     "metadata": {},
     "output_type": "execute_result"
    }
   ],
   "source": [
    "df_view_count.sort_values(by='commentId',ascending=False)"
   ]
  },
  {
   "cell_type": "code",
   "execution_count": 117,
   "metadata": {},
   "outputs": [],
   "source": [
    "dictionary = gensim.corpora.Dictionary(df_join_url['token_text'])"
   ]
  },
  {
   "cell_type": "code",
   "execution_count": 95,
   "metadata": {},
   "outputs": [],
   "source": [
    "#dictionary.token2id.keys()"
   ]
  },
  {
   "cell_type": "code",
   "execution_count": 118,
   "metadata": {},
   "outputs": [],
   "source": [
    "gensim_corpus = [dictionary.doc2bow(text, allow_update=True) for text in df_join_url['token_text']]\n",
    "word_frequencies = [[(dictionary[id], frequence) for id, frequence in couple] for couple in gensim_corpus]"
   ]
  },
  {
   "cell_type": "code",
   "execution_count": 97,
   "metadata": {},
   "outputs": [
    {
     "name": "stdout",
     "output_type": "stream",
     "text": [
      "Wall time: 23.2 s\n"
     ]
    }
   ],
   "source": [
    "#num_topics = 9\n",
    "chunksize = 4000                  # size of the doc looked at every pass\n",
    "iterations = 50\n",
    "eval_every = 1                    # Don't evaluate model perplexity, takes too much time.\n",
    "\n",
    "# Make a index to word dictionary.\n",
    "temp = dictionary[0]  # This is only to \"load\" the dictionary.\n",
    "id2word = dictionary.id2token\n",
    "\n",
    "%time model = gensim.models.LdaModel(corpus=gensim_corpus, id2word=id2word, chunksize=chunksize \\\n",
    "                                     ,alpha='auto', eta='auto',iterations=iterations, eval_every=eval_every)\n",
    "                                     #,num_topics=num_topics \\\n",
    "                                     #, eval_every=eval_every)"
   ]
  },
  {
   "cell_type": "code",
   "execution_count": 70,
   "metadata": {},
   "outputs": [],
   "source": [
    "#pyLDAvis.gensim.prepare(model, gensim_corpus, dictionary, R=40, lambda_step=0.1)"
   ]
  },
  {
   "cell_type": "markdown",
   "metadata": {},
   "source": [
    "### 5.get_term_topics เทียบคำที่ได้ไป Review Literature ตามค่าความน่าจะเป็น แล้วสรุป Term"
   ]
  },
  {
   "cell_type": "markdown",
   "metadata": {},
   "source": [
    "https://radimrehurek.com/gensim/models/ldamodel.html"
   ]
  },
  {
   "cell_type": "markdown",
   "metadata": {},
   "source": [
    "<b>Domain ที่พบหลักๆ นอกเหนือจากตัว Product ห้างที่ขาย แบรนด์ (อย่างไรก็ตามต้องทำ LDA Vis อีกรอบเพื่อจัดกลุ่มใหม่หลังคัดเลือก Topic/Term)</b><br>\n",
    "ค้นหาเทียบเคียงกับ ปัจจัยที่มีผลต่อการบริโภคนม\n",
    "1. แม่และเด็ก (Kurajdova et al, 2015)\n",
    "2. ออกกำลังกาย เล่นเวท วิ่ง พูดถึง Whey หางนม โปรตีน เป็นหลัก (คิดว่าแตกจากหมวดสุขภาพ)\n",
    "3. โปรโมชั่น เช่น จัดโปร ส่วนลด พันแถม แพ๊กคู่ (สุภชาติ ชัยณรงค์สิงห์, 2539)\n",
    "4. เอานมให้หมาแมวกิน (เทรนด์ใหม่)\n",
    "5. รสชาติและคุณภาพ เช่น หอม เหม็น มัน อร่อย บูด เสีย GMP (ชาลิสา สถีระกานนท์, 2560)\n",
    "6. ความยากง่ายในการหาซื้อ (Aen De Alwis et al, 2009 & สุภชาติ ชัยณรงค์สิงห์, 2539)\n",
    "7. ทำกาแฟ ทำขนม (Kurajdova et al, 2015)\n",
    "8. สุขภาพ ความสูง ส่วนผสมเพื่อสุขภาพ การขับถ่าย อนุมูลอิสระ (Kurajdova et al, 2015 & Aen De Alwis et al, 2009 & สุภชาติ ชัยณรงค์สิงห์, 2539)\n",
    "9. ราคาและความคุ้มค่า (ปิยฉัตร ช่างเหล็ก, 2561)\n",
    "<br><br>ตรงนี้ต้องหา Paper มาช่วยยันในบางหัวข้อ ถ้ามีส่วนเกินถือว่าเป็นบริบทของประเทศไทย"
   ]
  },
  {
   "cell_type": "code",
   "execution_count": 72,
   "metadata": {},
   "outputs": [],
   "source": [
    "#Get the most relevant topics to the given word.\n",
    "# Set probability = 0.0001\n",
    "\n",
    "def get_terms_topics(term_text, d, model, minProb=0.0001):\n",
    "    listofTup = []\n",
    "    for tt_couple in model.get_term_topics(dictionary.token2id[term_text], minimum_probability=minProb):\n",
    "        id_, prob = tt_couple\n",
    "        listofTup.append((d[id_], prob))\n",
    "    df = pd.DataFrame(listofTup)\n",
    "    df.insert(0,'Term',value=term_text)\n",
    "    df.columns = ['Term','topic','prob']\n",
    "    return df.sort_values(by='prob', ascending=False)"
   ]
  },
  {
   "cell_type": "code",
   "execution_count": 73,
   "metadata": {},
   "outputs": [],
   "source": [
    "#Get the most relevant topics to the given word.\n",
    "# Set probability = 0.0001\n",
    "\n",
    "def get_topics_terms(topic, d, model, minProb=0.0001):\n",
    "    listofTup = []\n",
    "    for tt_couple in model.get_topic_terms(topic,topn=30):\n",
    "        id_, prob = tt_couple\n",
    "        listofTup.append((d[id_], prob))\n",
    "    df = pd.DataFrame(listofTup)\n",
    "    df.insert(0,'Topic',value=d[topic])\n",
    "    df.columns = ['Topic','term','prob']\n",
    "    return df.sort_values(by='prob', ascending=False)"
   ]
  },
  {
   "cell_type": "code",
   "execution_count": 74,
   "metadata": {
    "scrolled": true
   },
   "outputs": [
    {
     "data": {
      "text/html": [
       "<div>\n",
       "<style scoped>\n",
       "    .dataframe tbody tr th:only-of-type {\n",
       "        vertical-align: middle;\n",
       "    }\n",
       "\n",
       "    .dataframe tbody tr th {\n",
       "        vertical-align: top;\n",
       "    }\n",
       "\n",
       "    .dataframe thead th {\n",
       "        text-align: right;\n",
       "    }\n",
       "</style>\n",
       "<table border=\"1\" class=\"dataframe\">\n",
       "  <thead>\n",
       "    <tr style=\"text-align: right;\">\n",
       "      <th></th>\n",
       "      <th>Topic</th>\n",
       "      <th>term</th>\n",
       "      <th>prob</th>\n",
       "    </tr>\n",
       "  </thead>\n",
       "  <tbody>\n",
       "    <tr>\n",
       "      <th>0</th>\n",
       "      <td>ชั้น</td>\n",
       "      <td>ผม</td>\n",
       "      <td>0.032077</td>\n",
       "    </tr>\n",
       "    <tr>\n",
       "      <th>1</th>\n",
       "      <td>ชั้น</td>\n",
       "      <td>ไม่</td>\n",
       "      <td>0.025749</td>\n",
       "    </tr>\n",
       "    <tr>\n",
       "      <th>2</th>\n",
       "      <td>ชั้น</td>\n",
       "      <td></td>\n",
       "      <td>0.020873</td>\n",
       "    </tr>\n",
       "  </tbody>\n",
       "</table>\n",
       "</div>"
      ],
      "text/plain": [
       "  Topic term      prob\n",
       "0  ชั้น   ผม  0.032077\n",
       "1  ชั้น  ไม่  0.025749\n",
       "2  ชั้น       0.020873"
      ]
     },
     "execution_count": 74,
     "metadata": {},
     "output_type": "execute_result"
    }
   ],
   "source": [
    "# องค์ประกอบพื้นฐาน ตาม master ที่ใช้ตัดคำ และ Generalized\n",
    "#get_terms_topics('ซื้อ',dictionary,model)\n",
    "#get_terms_topics('ขาย',dictionary,model)\n",
    "\n",
    "# ไล่เช็คทีละ Topic โดยเลือกจาก Top30 Prob แต่ละกลุ่ม และดูตัวที่สนใจ (ตามทบทวนวรรณกรรม)\n",
    "# สุดที่ 99 กลุ่ม\n",
    "get_topics_terms(99,dictionary,model).head(3)"
   ]
  },
  {
   "cell_type": "code",
   "execution_count": 98,
   "metadata": {},
   "outputs": [],
   "source": [
    "attrributes = ['การบูด','โปร','โปรโมชั่น','แถม','บูด','เป็นผลดี','หา','หมดอายุ', 'กลิ่น','หอม','กลิ่นหอม', 'แนะนำ', 'กิน', 'shelf life','แม่','คุณแม่'\n",
    " ,'ลูก','เด็ก','เลี้ยงลูก','เลี้ยงเด็ก','พัฒนาการ','คุณแม่มือใหม่','สั่ง', 'ค่าใช้จ่าย', 'เพิ่มขึ้น', 'สินค้า', 'ชอบ','นิยม', 'สี', 'ซื้อไม่ได้'\n",
    " , 'ทิ้ง', 'จืด','หวาน' , 'fat', 'นิยม','ราคาสูง','กาแฟ','ชงกาแฟ','หาย','ต้ม','อุ่น','ร้อน', 'พื้นฐาน', 'ขายไม่ดี'\n",
    " , 'กาแฟสด', 'จ่าย', 'ไขมันต่ำ', 'นม', 'ขาย', 'รส','รสชาติ', 'รสหวาน','กลมกล่อม','ไขมัน','พนักงาน','ไมโครเวฟ','ฟาร์ม'\n",
    " ,'ส่วนผสม','ผสม','เบาหวาน','รสพื้นฐาน','โปรตีน','เวย์','เวท','วิ่ง','protein','whey','ขับถ่าย','อึ','dha','น้ำตาล','เบาหวาน'\n",
    " ,'ฝา', 'นมสด','ถ้วย', 'ร้าน', 'ดื่ม', 'เซเว่น', 'ขวด', 'นึกถึง', 'เสียใจ', 'แตก', 'ซื้อ','ขาย','มีลูก','เทรนเนอร์'\n",
    " ,'ขายไม่ดี','แพคคู่','ค่าจัดส่ง','shelf life','พนักงานขายนม','แพ้นม','แพ้นมวัว','เล่นเวท','ฝาน้ำเงิน','ฝาสีเขียว'\n",
    " ,'นมอุ่น','ชานม','กินนม','ดื่มนม','ท้องเสีย','ลูกสุนัข','สุนัข','หมา','แมว','คายทิ้ง','เจมส์จิ','สตอรี่','แป้ง','ลดราคา'\n",
    " ,'ซื้อประจำ','ซื้อไม่ได้','คาปูชิโน่','อเมริกาโน่','ร้านนม','whey formula','ผิดสังเกต','เสียความรู้สึก','ชี้แจง','บำรุง','น้ำผึ้ง'\n",
    " ,'อาหารเสริม','มีประโยชน์','วิตามิน','นมผง','แคลเซี่ยม','ท้อง','แพะ','อร่อย','โภชนาการ','โรงเรียน','พ่อแม่','ครู','ยูเอชที'\n",
    " ,'ผู้บริโภค','ขโมย','ไอโอดีน','นมข้นหวาน','เนย','ตรวจสอบ','แกลลอน','มันดี','นมวัว','อาเจียน','เวฟ','ไมโครเวฟ','สารอาหาร'\n",
    " ,'ขนส่ง','ถูก','แพง','เค้ก','ทิ้ง','วันหมดอายุ','โอเมก้า','กล่อง','พลังงาน','โภชนาการ','ขนมปัง','ของแถม','ราคาสูง','น้ำนมโค'\n",
    " ,'บรรจุภัณฑ์','นมถั่วเหลือง','ความแข็งแรง','แข็งแรง','พรีเซ็นเตอร์','ญี่ปุ่น','น้ำผลไม้','ออกกำลังกาย','ประหยัด','วิปปิ้ง','uht','เชื้อจุลินทรีย์'\n",
    " ,'แลคโตส']\n",
    "\n",
    "products = ['สตรอว์เบอร์รี','ช็อกโกแลต','กาแฟ','รสหวาน','รสจืด','ไขมันต่ำ','ไขมัน 0%','ไฮโปรตีน','อัลมอนด์'\n",
    ",'รสกล้วย','grass fed','นมฟรีแลคโตส','พาสเจอร์ไรส์','เมจิโกลด์','นมฮอกไกโด','เบดไทม์','ดาร์คช็อกโกแลต','ไฮแคลเซียม'\n",
    ",'คาราเมล','มอลต์','เมล่อน','ชาเขียวมัจฉะ','บัลแกเรีย','โยเกิร์ต','รสธรรมชาติ','รสกลมกล่อม','โยเกิร์ต','ซากุระ','โคล่า'\n",
    ",'แตงโม']\n",
    "\n",
    "brands = ['ดัชมิลล์','เมจิ','โฟร์โมสต์','โชคชัย','แดรี่โฮม','เอ็มมิลค์','แมคโนเลีย','ไทยเดนมาร์ค'\n",
    "          ,'หนองโพ','คาเนชั่น','บีทาเก้น','จิตรลดา']\n",
    "stores = ['tops','makro','lotus','bigc','7-Eleven']\n",
    "\n",
    "reduceCol = attrributes + products + brands + stores"
   ]
  },
  {
   "cell_type": "code",
   "execution_count": 110,
   "metadata": {},
   "outputs": [
    {
     "data": {
      "text/plain": [
       "221"
      ]
     },
     "execution_count": 110,
     "metadata": {},
     "output_type": "execute_result"
    }
   ],
   "source": [
    "len(reduceCol)"
   ]
  },
  {
   "cell_type": "code",
   "execution_count": 149,
   "metadata": {},
   "outputs": [],
   "source": [
    "def reduced_keyword(wtkn,redCol):\n",
    "    del_list = []\n",
    "    ret_wtkn = wtkn\n",
    "    for each in ret_wtkn:\n",
    "        if each not in redCol:\n",
    "            del_list.append(each)\n",
    "    ret_wtkn = [x for x in ret_wtkn if x not in del_list]\n",
    "    return ret_wtkn"
   ]
  },
  {
   "cell_type": "code",
   "execution_count": 152,
   "metadata": {},
   "outputs": [],
   "source": [
    "df_join_url['token_text_reduce'] = df_join_url['token_text'].apply(lambda x: reduced_keyword(x,reduceCol))"
   ]
  },
  {
   "cell_type": "code",
   "execution_count": 153,
   "metadata": {
    "scrolled": true
   },
   "outputs": [
    {
     "data": {
      "text/html": [
       "<div>\n",
       "<style scoped>\n",
       "    .dataframe tbody tr th:only-of-type {\n",
       "        vertical-align: middle;\n",
       "    }\n",
       "\n",
       "    .dataframe tbody tr th {\n",
       "        vertical-align: top;\n",
       "    }\n",
       "\n",
       "    .dataframe thead th {\n",
       "        text-align: right;\n",
       "    }\n",
       "</style>\n",
       "<table border=\"1\" class=\"dataframe\">\n",
       "  <thead>\n",
       "    <tr style=\"text-align: right;\">\n",
       "      <th></th>\n",
       "      <th>Retrived_date</th>\n",
       "      <th>URLs</th>\n",
       "      <th>commentId</th>\n",
       "      <th>mention_brand</th>\n",
       "      <th>mention_product</th>\n",
       "      <th>token_text</th>\n",
       "      <th>token_text_reduce</th>\n",
       "    </tr>\n",
       "  </thead>\n",
       "  <tbody>\n",
       "    <tr>\n",
       "      <th>0</th>\n",
       "      <td>2020-10-26 12:40:26.135083</td>\n",
       "      <td>https://pantip.com/topic/39868603</td>\n",
       "      <td>1</td>\n",
       "      <td>{'เมจิ'}</td>\n",
       "      <td>{'รสหวาน', 'นม'}</td>\n",
       "      <td>[7-Eleven, นม, เมจิ, รสหวาน, ขาย, หาย, หา, top...</td>\n",
       "      <td>[7-Eleven, นม, เมจิ, รสหวาน, ขาย, หาย, หา, top...</td>\n",
       "    </tr>\n",
       "    <tr>\n",
       "      <th>1</th>\n",
       "      <td>2020-10-26 12:40:26.135083</td>\n",
       "      <td>https://pantip.com/topic/39868603</td>\n",
       "      <td>2</td>\n",
       "      <td>{'เมจิ'}</td>\n",
       "      <td>{'รสหวาน', 'นม'}</td>\n",
       "      <td>[เบาหวาน]</td>\n",
       "      <td>[เบาหวาน]</td>\n",
       "    </tr>\n",
       "    <tr>\n",
       "      <th>2</th>\n",
       "      <td>2020-10-26 12:40:26.135083</td>\n",
       "      <td>https://pantip.com/topic/39868603</td>\n",
       "      <td>3</td>\n",
       "      <td>{'เมจิ'}</td>\n",
       "      <td>{'รสหวาน', 'นม'}</td>\n",
       "      <td>[หา, ซื้อไม่ได้, คิดได้, , .    คน, กินกัน, ไม...</td>\n",
       "      <td>[หา, ซื้อไม่ได้, นิยม, ขาย, ซื้อ, กิน, รสหวาน]</td>\n",
       "    </tr>\n",
       "    <tr>\n",
       "      <th>3</th>\n",
       "      <td>2020-10-26 12:40:26.135083</td>\n",
       "      <td>https://pantip.com/topic/39868603</td>\n",
       "      <td>4</td>\n",
       "      <td>{'เมจิ'}</td>\n",
       "      <td>{'รสหวาน', 'นม'}</td>\n",
       "      <td>[รส, ขายไม่ดี, รส, พื้นฐาน, จืด, แบ่ง, %,, ไขม...</td>\n",
       "      <td>[รส, ขายไม่ดี, รส, พื้นฐาน, จืด, ไขมันต่ำ, ไขม...</td>\n",
       "    </tr>\n",
       "    <tr>\n",
       "      <th>4</th>\n",
       "      <td>2020-10-26 12:40:26.135083</td>\n",
       "      <td>https://pantip.com/topic/39868603</td>\n",
       "      <td>5</td>\n",
       "      <td>{'เมจิ'}</td>\n",
       "      <td>{'รสหวาน', 'นม'}</td>\n",
       "      <td>[ขายไม่ดี, เค้า, shelf life, เวลา, หมดอายุ, ค่...</td>\n",
       "      <td>[ขายไม่ดี, shelf life, หมดอายุ, ค่าใช้จ่าย, ร้...</td>\n",
       "    </tr>\n",
       "  </tbody>\n",
       "</table>\n",
       "</div>"
      ],
      "text/plain": [
       "                Retrived_date                               URLs  commentId  \\\n",
       "0  2020-10-26 12:40:26.135083  https://pantip.com/topic/39868603          1   \n",
       "1  2020-10-26 12:40:26.135083  https://pantip.com/topic/39868603          2   \n",
       "2  2020-10-26 12:40:26.135083  https://pantip.com/topic/39868603          3   \n",
       "3  2020-10-26 12:40:26.135083  https://pantip.com/topic/39868603          4   \n",
       "4  2020-10-26 12:40:26.135083  https://pantip.com/topic/39868603          5   \n",
       "\n",
       "  mention_brand   mention_product  \\\n",
       "0      {'เมจิ'}  {'รสหวาน', 'นม'}   \n",
       "1      {'เมจิ'}  {'รสหวาน', 'นม'}   \n",
       "2      {'เมจิ'}  {'รสหวาน', 'นม'}   \n",
       "3      {'เมจิ'}  {'รสหวาน', 'นม'}   \n",
       "4      {'เมจิ'}  {'รสหวาน', 'นม'}   \n",
       "\n",
       "                                          token_text  \\\n",
       "0  [7-Eleven, นม, เมจิ, รสหวาน, ขาย, หาย, หา, top...   \n",
       "1                                          [เบาหวาน]   \n",
       "2  [หา, ซื้อไม่ได้, คิดได้, , .    คน, กินกัน, ไม...   \n",
       "3  [รส, ขายไม่ดี, รส, พื้นฐาน, จืด, แบ่ง, %,, ไขม...   \n",
       "4  [ขายไม่ดี, เค้า, shelf life, เวลา, หมดอายุ, ค่...   \n",
       "\n",
       "                                   token_text_reduce  \n",
       "0  [7-Eleven, นม, เมจิ, รสหวาน, ขาย, หาย, หา, top...  \n",
       "1                                          [เบาหวาน]  \n",
       "2     [หา, ซื้อไม่ได้, นิยม, ขาย, ซื้อ, กิน, รสหวาน]  \n",
       "3  [รส, ขายไม่ดี, รส, พื้นฐาน, จืด, ไขมันต่ำ, ไขม...  \n",
       "4  [ขายไม่ดี, shelf life, หมดอายุ, ค่าใช้จ่าย, ร้...  "
      ]
     },
     "execution_count": 153,
     "metadata": {},
     "output_type": "execute_result"
    }
   ],
   "source": [
    "df_join_url.head()"
   ]
  },
  {
   "cell_type": "markdown",
   "metadata": {},
   "source": [
    "ตัดคำแล้วทำ LDA อีกรอบเพื่อดู feature ที่ชัดเจนขึ้น ก่อนสร้าง Bag of word เพื่อออกกราฟ & MDS"
   ]
  },
  {
   "cell_type": "code",
   "execution_count": null,
   "metadata": {},
   "outputs": [],
   "source": []
  },
  {
   "cell_type": "code",
   "execution_count": null,
   "metadata": {},
   "outputs": [],
   "source": []
  },
  {
   "cell_type": "code",
   "execution_count": null,
   "metadata": {},
   "outputs": [],
   "source": []
  },
  {
   "cell_type": "code",
   "execution_count": null,
   "metadata": {},
   "outputs": [],
   "source": []
  },
  {
   "cell_type": "markdown",
   "metadata": {
    "id": "NKW--A73mzli"
   },
   "source": [
    "## สร้าง Bag of word dataframe"
   ]
  },
  {
   "cell_type": "code",
   "execution_count": null,
   "metadata": {},
   "outputs": [],
   "source": []
  },
  {
   "cell_type": "code",
   "execution_count": null,
   "metadata": {},
   "outputs": [],
   "source": []
  },
  {
   "cell_type": "code",
   "execution_count": null,
   "metadata": {},
   "outputs": [],
   "source": []
  },
  {
   "cell_type": "code",
   "execution_count": null,
   "metadata": {},
   "outputs": [],
   "source": []
  },
  {
   "cell_type": "code",
   "execution_count": null,
   "metadata": {},
   "outputs": [],
   "source": []
  },
  {
   "cell_type": "markdown",
   "metadata": {
    "id": "uBBA36fDTCfZ"
   },
   "source": [
    "### Create co-occurrence matrix จาก Bag of word"
   ]
  },
  {
   "cell_type": "raw",
   "metadata": {
    "id": "LgE1okejTCfZ"
   },
   "source": [
    "item_item_matrix = pd.DataFrame(index=join_df.columns,columns=join_df.columns).fillna(0)"
   ]
  },
  {
   "cell_type": "raw",
   "metadata": {
    "id": "05j3U3ymTCfb"
   },
   "source": [
    "def cnt_Grpby(df,i,j):\n",
    "    PAIB = pd.DataFrame(df.groupby(df.iloc[:,i].name)[df.iloc[:,j].name].value_counts())\n",
    "    PAIB.index.names = ['A','B']\n",
    "    PAIB.columns = ['freq']\n",
    "    PAIB.reset_index(inplace=True)\n",
    "    _PAIB = PAIB[(PAIB.A>0)&(PAIB.B>0)]\n",
    "    return _PAIB.freq.sum()"
   ]
  },
  {
   "cell_type": "raw",
   "metadata": {
    "id": "1jhFte5eTCfd"
   },
   "source": [
    "# Co-occurrence\n",
    "for i in range(0,len(item_item_matrix.columns)):\n",
    "    for j in range(0,len(item_item_matrix.columns)):\n",
    "        if i != j:\n",
    "            item_item_matrix.iloc[i,j] = cnt_Grpby(join_df,i,j)\n",
    "        else:\n",
    "            item_item_matrix.iloc[i,j] = 0"
   ]
  },
  {
   "cell_type": "raw",
   "metadata": {
    "id": "OhtvLfMXTCfg"
   },
   "source": [
    "item_item_matrix.head()"
   ]
  },
  {
   "cell_type": "raw",
   "metadata": {
    "id": "bsbsqduDTCfh"
   },
   "source": [
    "item_item_matrix.to_excel(comment_past_nlp_file, index=True)"
   ]
  },
  {
   "cell_type": "markdown",
   "metadata": {
    "id": "O8nlNNE4TCfj"
   },
   "source": [
    "### Create co-occurrence matrix with Lift normalization"
   ]
  },
  {
   "cell_type": "raw",
   "metadata": {
    "id": "Qykd9Z88TCfj"
   },
   "source": [
    "item_item_matrix = pd.DataFrame(index=join_df.columns,columns=join_df.columns).fillna(0)"
   ]
  },
  {
   "cell_type": "raw",
   "metadata": {
    "id": "ElfF27atTCfp"
   },
   "source": [
    "def a_in_b(df,i,j):\n",
    "    PAIB = pd.DataFrame(df.groupby(df.iloc[:,j].name)[df.iloc[:,i].name].value_counts())\n",
    "    PAIB.index.names = ['B','A']\n",
    "    PAIB.columns = ['freq']\n",
    "    PAIB.reset_index(inplace=True)\n",
    "    PAIB_ = PAIB[(PAIB.A>0)&(PAIB.B>0)]\n",
    "    return PAIB_.freq.sum()/PAIB.freq.sum()"
   ]
  },
  {
   "cell_type": "raw",
   "metadata": {
    "id": "h1sDGAMWTCfr"
   },
   "source": [
    "for i in range(0,len(item_item_matrix.columns)) :\n",
    "    for j in range(0,len(item_item_matrix.columns)) :\n",
    "        A = join_df.iloc[:,i]\n",
    "        B = join_df.iloc[:,j]\n",
    "        PA = A[A!=0].count()/A.shape[0]\n",
    "        PB = B[B!=0].count()/B.shape[0]\n",
    "        PAB = PB*a_in_b(join_df,i,j)\n",
    "        item_item_matrix.iloc[i,j] = PAB/(PA*PB)"
   ]
  },
  {
   "cell_type": "raw",
   "metadata": {
    "id": "Wzd336KbTCfs"
   },
   "source": [
    "item_item_matrix.replace([np.inf, -np.inf], np.nan,inplace=True)\n",
    "item_item_matrix.fillna(0,inplace=True)"
   ]
  },
  {
   "cell_type": "raw",
   "metadata": {
    "id": "8qG7pCYfTCfu"
   },
   "source": [
    "item_item_matrix.head()"
   ]
  },
  {
   "cell_type": "raw",
   "metadata": {
    "id": "LsZZMOcTTCfw"
   },
   "source": [
    "item_item_matrix.to_excel(comment_past_nlp_file, index=True)"
   ]
  }
 ],
 "metadata": {
  "colab": {
   "collapsed_sections": [
    "EpwX95XlTCdl",
    "_Q9pU1J6TCe5",
    "NKW--A73mzli",
    "uBBA36fDTCfZ",
    "O8nlNNE4TCfj"
   ],
   "name": "EDA_Token_CoocMat.ipynb",
   "provenance": []
  },
  "kernelspec": {
   "display_name": "Python 3",
   "language": "python",
   "name": "python3"
  },
  "language_info": {
   "codemirror_mode": {
    "name": "ipython",
    "version": 3
   },
   "file_extension": ".py",
   "mimetype": "text/x-python",
   "name": "python",
   "nbconvert_exporter": "python",
   "pygments_lexer": "ipython3",
   "version": "3.7.3"
  }
 },
 "nbformat": 4,
 "nbformat_minor": 1
}
