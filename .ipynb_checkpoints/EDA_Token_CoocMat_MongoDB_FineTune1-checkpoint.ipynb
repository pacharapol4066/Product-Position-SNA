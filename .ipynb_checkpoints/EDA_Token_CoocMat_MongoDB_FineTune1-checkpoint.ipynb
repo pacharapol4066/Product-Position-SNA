{
 "cells": [
  {
   "cell_type": "markdown",
   "metadata": {
    "id": "xoY8sy40TCb5"
   },
   "source": [
    "### IS - Brand position\n",
    "Finding Product position on Social Network (PPSN)"
   ]
  },
  {
   "cell_type": "raw",
   "metadata": {
    "colab": {
     "base_uri": "https://localhost:8080/"
    },
    "executionInfo": {
     "elapsed": 28353,
     "status": "ok",
     "timestamp": 1604024868503,
     "user": {
      "displayName": "Pacharapol O.",
      "photoUrl": "https://lh3.googleusercontent.com/a-/AOh14GiBNaVjsCxoMVUqEvSDC7eauF0V2ZD7B-TzevR1TQ=s64",
      "userId": "00378494490135533545"
     },
     "user_tz": -420
    },
    "id": "GkBEUBUqTGuf",
    "outputId": "cb22db45-820a-48fd-c11a-a0568439778f"
   },
   "source": [
    "from google.colab import drive\n",
    "drive.mount('/content/drive')"
   ]
  },
  {
   "cell_type": "raw",
   "metadata": {
    "colab": {
     "base_uri": "https://localhost:8080/"
    },
    "executionInfo": {
     "elapsed": 1693,
     "status": "ok",
     "timestamp": 1604024868819,
     "user": {
      "displayName": "Pacharapol O.",
      "photoUrl": "https://lh3.googleusercontent.com/a-/AOh14GiBNaVjsCxoMVUqEvSDC7eauF0V2ZD7B-TzevR1TQ=s64",
      "userId": "00378494490135533545"
     },
     "user_tz": -420
    },
    "id": "_5mrzpx3TH9K",
    "outputId": "129bb192-4ac2-4b03-bc89-7ee7a65d5032"
   },
   "source": [
    "cd /content/drive/My\\ Drive/Colab\\ Notebooks/Master_PJ_DRMABS/Datasource"
   ]
  },
  {
   "cell_type": "code",
   "execution_count": 1,
   "metadata": {
    "executionInfo": {
     "elapsed": 2631,
     "status": "ok",
     "timestamp": 1604024879769,
     "user": {
      "displayName": "Pacharapol O.",
      "photoUrl": "https://lh3.googleusercontent.com/a-/AOh14GiBNaVjsCxoMVUqEvSDC7eauF0V2ZD7B-TzevR1TQ=s64",
      "userId": "00378494490135533545"
     },
     "user_tz": -420
    },
    "id": "cC0cBdCdTCb6"
   },
   "outputs": [],
   "source": [
    "import networkx as nx\n",
    "import numpy as np\n",
    "import pandas as pd\n",
    "import itertools\n",
    "import math\n",
    "import string\n",
    "import json\n",
    "import pymongo\n",
    "from itertools import groupby"
   ]
  },
  {
   "cell_type": "code",
   "execution_count": 2,
   "metadata": {},
   "outputs": [
    {
     "name": "stderr",
     "output_type": "stream",
     "text": [
      "C:\\ProgramData\\Anaconda3\\lib\\site-packages\\past\\types\\oldstr.py:5: DeprecationWarning: Using or importing the ABCs from 'collections' instead of from 'collections.abc' is deprecated, and in 3.8 it will stop working\n",
      "  from collections import Iterable\n",
      "C:\\ProgramData\\Anaconda3\\lib\\site-packages\\past\\builtins\\misc.py:4: DeprecationWarning: Using or importing the ABCs from 'collections' instead of from 'collections.abc' is deprecated, and in 3.8 it will stop working\n",
      "  from collections import Mapping\n"
     ]
    }
   ],
   "source": [
    "import gensim\n",
    "import pyLDAvis.gensim\n",
    "pyLDAvis.enable_notebook()\n",
    "\n",
    "import warnings\n",
    "warnings.filterwarnings(\"ignore\", category=DeprecationWarning)\n",
    "warnings.filterwarnings(\"ignore\", category=pd.core.common.SettingWithCopyWarning)"
   ]
  },
  {
   "cell_type": "code",
   "execution_count": 3,
   "metadata": {
    "executionInfo": {
     "elapsed": 2031,
     "status": "ok",
     "timestamp": 1604024879770,
     "user": {
      "displayName": "Pacharapol O.",
      "photoUrl": "https://lh3.googleusercontent.com/a-/AOh14GiBNaVjsCxoMVUqEvSDC7eauF0V2ZD7B-TzevR1TQ=s64",
      "userId": "00378494490135533545"
     },
     "user_tz": -420
    },
    "id": "1kqXURiiTCb-"
   },
   "outputs": [],
   "source": [
    "import time\n",
    "from datetime import datetime\n",
    "today = datetime.now()"
   ]
  },
  {
   "cell_type": "code",
   "execution_count": 4,
   "metadata": {
    "colab": {
     "base_uri": "https://localhost:8080/"
    },
    "executionInfo": {
     "elapsed": 3451,
     "status": "ok",
     "timestamp": 1604028167896,
     "user": {
      "displayName": "Pacharapol O.",
      "photoUrl": "https://lh3.googleusercontent.com/a-/AOh14GiBNaVjsCxoMVUqEvSDC7eauF0V2ZD7B-TzevR1TQ=s64",
      "userId": "00378494490135533545"
     },
     "user_tz": -420
    },
    "id": "weEcXSD8TCcI",
    "outputId": "1219680e-0d54-4649-a26e-535e112f0650"
   },
   "outputs": [],
   "source": [
    "#!pip install pythainlp\n",
    "import pythainlp\n",
    "from pythainlp import Tokenizer\n",
    "from pythainlp.util import normalize\n",
    "from pythainlp.tokenize import word_tokenize\n",
    "from pythainlp.corpus.common import thai_words\n",
    "from pythainlp import sent_tokenize\n",
    "from pythainlp.corpus import thai_stopwords\n",
    "from pythainlp.util import dict_trie\n",
    "from pythainlp.tag import pos_tag"
   ]
  },
  {
   "cell_type": "code",
   "execution_count": 5,
   "metadata": {
    "id": "Jpa16DrfTCeL"
   },
   "outputs": [],
   "source": [
    "# https://thainlp.org/pythainlp/docs/2.0/api/tag.html\n",
    "from pythainlp.spell import correct\n",
    "from pythainlp.tag import pos_tag\n",
    "\n",
    "#https://thainlp.org/pythainlp/docs/2.0/api/transliterate.html\n",
    "from pythainlp.transliterate import romanize"
   ]
  },
  {
   "cell_type": "code",
   "execution_count": 6,
   "metadata": {},
   "outputs": [
    {
     "name": "stderr",
     "output_type": "stream",
     "text": [
      "C:\\ProgramData\\Anaconda3\\lib\\site-packages\\statsmodels\\tools\\_testing.py:19: FutureWarning: pandas.util.testing is deprecated. Use the functions in the public API at pandas.testing instead.\n",
      "  import pandas.util.testing as tm\n"
     ]
    }
   ],
   "source": [
    "import statistics as stat\n",
    "import matplotlib.pyplot as plt\n",
    "import seaborn as sns"
   ]
  },
  {
   "cell_type": "code",
   "execution_count": 7,
   "metadata": {
    "executionInfo": {
     "elapsed": 6121,
     "status": "ok",
     "timestamp": 1604024888335,
     "user": {
      "displayName": "Pacharapol O.",
      "photoUrl": "https://lh3.googleusercontent.com/a-/AOh14GiBNaVjsCxoMVUqEvSDC7eauF0V2ZD7B-TzevR1TQ=s64",
      "userId": "00378494490135533545"
     },
     "user_tz": -420
    },
    "id": "acWWFhczTCcO"
   },
   "outputs": [],
   "source": [
    "from bs4 import BeautifulSoup\n",
    "from urllib.request import urlopen"
   ]
  },
  {
   "cell_type": "code",
   "execution_count": 8,
   "metadata": {
    "executionInfo": {
     "elapsed": 5596,
     "status": "ok",
     "timestamp": 1604024888336,
     "user": {
      "displayName": "Pacharapol O.",
      "photoUrl": "https://lh3.googleusercontent.com/a-/AOh14GiBNaVjsCxoMVUqEvSDC7eauF0V2ZD7B-TzevR1TQ=s64",
      "userId": "00378494490135533545"
     },
     "user_tz": -420
    },
    "id": "l0SZe4-LTCcd"
   },
   "outputs": [],
   "source": [
    "from IPython.display import clear_output"
   ]
  },
  {
   "cell_type": "code",
   "execution_count": 9,
   "metadata": {
    "executionInfo": {
     "elapsed": 831,
     "status": "ok",
     "timestamp": 1604027698593,
     "user": {
      "displayName": "Pacharapol O.",
      "photoUrl": "https://lh3.googleusercontent.com/a-/AOh14GiBNaVjsCxoMVUqEvSDC7eauF0V2ZD7B-TzevR1TQ=s64",
      "userId": "00378494490135533545"
     },
     "user_tz": -420
    },
    "id": "sna_e7nATCch"
   },
   "outputs": [],
   "source": [
    "# Files definition\n",
    "root_path = 'Datasource'\n",
    "\n",
    "comment_file = []\n",
    "comment_file.append(root_path+\"/comment_meiji.csv\")\n",
    "comment_file.append(root_path+\"/comment_DDCF.csv\")\n",
    "\n",
    "#comment_file = []\n",
    "#comment_file.append(\"comment_meiji.csv\")\n",
    "#comment_file.append(\"comment_DDCF.csv\")\n",
    "\n",
    "comment_nlp_file = root_path+\"/comment_nlpToken.csv\"\n",
    "comment_cooc_freq_file = root_path+\"/comment_cooc_freq.xlsx\"\n",
    "comment_cooc_lift_file = root_path+\"/comment_cooc_Lift.xlsx\"\n",
    "\n",
    "#comment_nlp_file = \"comment_nlpToken.csv\"\n",
    "#comment_cooc_nlp_file = \"comment_cooc.xlsx\""
   ]
  },
  {
   "cell_type": "code",
   "execution_count": 10,
   "metadata": {},
   "outputs": [],
   "source": [
    "# Connect MongoDB\n",
    "myclient = pymongo.MongoClient(\"mongodb://localhost:27017/\")\n",
    "mydb = myclient[\"NIDA_PPSN_PRD\"]\n",
    "col_thread = mydb[\"NIDA_PPSN_THREAD\"]\n",
    "col_comment = mydb[\"NIDA_PPSN_COMMENT\"]"
   ]
  },
  {
   "cell_type": "markdown",
   "metadata": {
    "id": "wlnotsqqTCcl"
   },
   "source": [
    "### 1.Clean data & NLP Tokenized"
   ]
  },
  {
   "cell_type": "code",
   "execution_count": 11,
   "metadata": {
    "executionInfo": {
     "elapsed": 866,
     "status": "ok",
     "timestamp": 1604028004964,
     "user": {
      "displayName": "Pacharapol O.",
      "photoUrl": "https://lh3.googleusercontent.com/a-/AOh14GiBNaVjsCxoMVUqEvSDC7eauF0V2ZD7B-TzevR1TQ=s64",
      "userId": "00378494490135533545"
     },
     "user_tz": -420
    },
    "id": "oaqpUVffTCdm"
   },
   "outputs": [],
   "source": [
    "def checkStopwords(w):\n",
    "    returnList = []\n",
    "    stopwords = set(thai_stopwords())\n",
    "    stopwords.remove('ไม่')\n",
    "    stopwords.remove('ได้')\n",
    "    stopwords.remove('สูง')\n",
    "    for i in w:  # comment\n",
    "        if i not in stopwords:\n",
    "            returnList.append(i)\n",
    "    return returnList"
   ]
  },
  {
   "cell_type": "code",
   "execution_count": 12,
   "metadata": {
    "executionInfo": {
     "elapsed": 880,
     "status": "ok",
     "timestamp": 1604028299778,
     "user": {
      "displayName": "Pacharapol O.",
      "photoUrl": "https://lh3.googleusercontent.com/a-/AOh14GiBNaVjsCxoMVUqEvSDC7eauF0V2ZD7B-TzevR1TQ=s64",
      "userId": "00378494490135533545"
     },
     "user_tz": -420
    },
    "id": "cr_O7hE5htx2"
   },
   "outputs": [],
   "source": [
    "def normThai(w):\n",
    "    returnList = []\n",
    "    for i in w:\n",
    "        returnList.append(normalize(i).lower())\n",
    "    return returnList"
   ]
  },
  {
   "cell_type": "code",
   "execution_count": 13,
   "metadata": {},
   "outputs": [],
   "source": [
    "list_punc = []\n",
    "for c in string.punctuation:\n",
    "    list_punc.append(c)"
   ]
  },
  {
   "cell_type": "code",
   "execution_count": 14,
   "metadata": {
    "executionInfo": {
     "elapsed": 2677,
     "status": "ok",
     "timestamp": 1604027704431,
     "user": {
      "displayName": "Pacharapol O.",
      "photoUrl": "https://lh3.googleusercontent.com/a-/AOh14GiBNaVjsCxoMVUqEvSDC7eauF0V2ZD7B-TzevR1TQ=s64",
      "userId": "00378494490135533545"
     },
     "user_tz": -420
    },
    "id": "VXYRZDubTCcm"
   },
   "outputs": [],
   "source": [
    "df_textList1 = pd.read_csv(comment_file[0],header=None)\n",
    "df_textList2 = pd.read_csv(comment_file[1],header=None)"
   ]
  },
  {
   "cell_type": "code",
   "execution_count": 15,
   "metadata": {
    "executionInfo": {
     "elapsed": 1168,
     "status": "ok",
     "timestamp": 1604027707570,
     "user": {
      "displayName": "Pacharapol O.",
      "photoUrl": "https://lh3.googleusercontent.com/a-/AOh14GiBNaVjsCxoMVUqEvSDC7eauF0V2ZD7B-TzevR1TQ=s64",
      "userId": "00378494490135533545"
     },
     "user_tz": -420
    },
    "id": "2Lc6T0oATCcp"
   },
   "outputs": [],
   "source": [
    "df_textList1.insert(0,'Table','Meiji')\n",
    "df_textList1.columns = ['Table','URLs', 'text', 'Retrived_date']\n",
    "df_textList2.insert(0,'Table','DDFC')\n",
    "df_textList2.columns = ['Table','URLs', 'text', 'Retrived_date']"
   ]
  },
  {
   "cell_type": "code",
   "execution_count": 16,
   "metadata": {
    "colab": {
     "base_uri": "https://localhost:8080/",
     "height": 79
    },
    "executionInfo": {
     "elapsed": 1043,
     "status": "ok",
     "timestamp": 1604027708520,
     "user": {
      "displayName": "Pacharapol O.",
      "photoUrl": "https://lh3.googleusercontent.com/a-/AOh14GiBNaVjsCxoMVUqEvSDC7eauF0V2ZD7B-TzevR1TQ=s64",
      "userId": "00378494490135533545"
     },
     "user_tz": -420
    },
    "id": "594kVpigTCcv",
    "outputId": "44e651f1-4657-4a83-f483-a33998995e6b"
   },
   "outputs": [
    {
     "data": {
      "text/html": [
       "<div>\n",
       "<style scoped>\n",
       "    .dataframe tbody tr th:only-of-type {\n",
       "        vertical-align: middle;\n",
       "    }\n",
       "\n",
       "    .dataframe tbody tr th {\n",
       "        vertical-align: top;\n",
       "    }\n",
       "\n",
       "    .dataframe thead th {\n",
       "        text-align: right;\n",
       "    }\n",
       "</style>\n",
       "<table border=\"1\" class=\"dataframe\">\n",
       "  <thead>\n",
       "    <tr style=\"text-align: right;\">\n",
       "      <th></th>\n",
       "      <th>count</th>\n",
       "      <th>mean</th>\n",
       "      <th>std</th>\n",
       "      <th>min</th>\n",
       "      <th>25%</th>\n",
       "      <th>50%</th>\n",
       "      <th>75%</th>\n",
       "      <th>max</th>\n",
       "    </tr>\n",
       "  </thead>\n",
       "  <tbody>\n",
       "    <tr>\n",
       "      <th>URLs</th>\n",
       "      <td>1000.0</td>\n",
       "      <td>43.049</td>\n",
       "      <td>53.682105</td>\n",
       "      <td>3.0</td>\n",
       "      <td>11.0</td>\n",
       "      <td>21.0</td>\n",
       "      <td>49.0</td>\n",
       "      <td>351.0</td>\n",
       "    </tr>\n",
       "  </tbody>\n",
       "</table>\n",
       "</div>"
      ],
      "text/plain": [
       "       count    mean        std  min   25%   50%   75%    max\n",
       "URLs  1000.0  43.049  53.682105  3.0  11.0  21.0  49.0  351.0"
      ]
     },
     "execution_count": 16,
     "metadata": {},
     "output_type": "execute_result"
    }
   ],
   "source": [
    "pd.DataFrame(df_textList1.URLs.value_counts()).describe().T"
   ]
  },
  {
   "cell_type": "code",
   "execution_count": 17,
   "metadata": {
    "colab": {
     "base_uri": "https://localhost:8080/"
    },
    "executionInfo": {
     "elapsed": 853,
     "status": "ok",
     "timestamp": 1604027711587,
     "user": {
      "displayName": "Pacharapol O.",
      "photoUrl": "https://lh3.googleusercontent.com/a-/AOh14GiBNaVjsCxoMVUqEvSDC7eauF0V2ZD7B-TzevR1TQ=s64",
      "userId": "00378494490135533545"
     },
     "user_tz": -420
    },
    "id": "DKbN38AzTCc0",
    "outputId": "f1bafe8c-19c9-4b52-dbb7-faafb7726901"
   },
   "outputs": [
    {
     "name": "stdout",
     "output_type": "stream",
     "text": [
      "meiji comment: 43049\n",
      "meiji URLs ก่อนตัด: 1000\n"
     ]
    }
   ],
   "source": [
    "print('meiji comment:',df_textList1.shape[0])\n",
    "print('meiji URLs ก่อนตัด:',len(df_textList1.URLs.unique()))"
   ]
  },
  {
   "cell_type": "code",
   "execution_count": 18,
   "metadata": {
    "colab": {
     "base_uri": "https://localhost:8080/",
     "height": 79
    },
    "executionInfo": {
     "elapsed": 906,
     "status": "ok",
     "timestamp": 1604027713588,
     "user": {
      "displayName": "Pacharapol O.",
      "photoUrl": "https://lh3.googleusercontent.com/a-/AOh14GiBNaVjsCxoMVUqEvSDC7eauF0V2ZD7B-TzevR1TQ=s64",
      "userId": "00378494490135533545"
     },
     "user_tz": -420
    },
    "id": "oJKpaP0xTCc4",
    "outputId": "7705fefd-637c-4533-b001-5016a317c45b"
   },
   "outputs": [
    {
     "data": {
      "text/html": [
       "<div>\n",
       "<style scoped>\n",
       "    .dataframe tbody tr th:only-of-type {\n",
       "        vertical-align: middle;\n",
       "    }\n",
       "\n",
       "    .dataframe tbody tr th {\n",
       "        vertical-align: top;\n",
       "    }\n",
       "\n",
       "    .dataframe thead th {\n",
       "        text-align: right;\n",
       "    }\n",
       "</style>\n",
       "<table border=\"1\" class=\"dataframe\">\n",
       "  <thead>\n",
       "    <tr style=\"text-align: right;\">\n",
       "      <th></th>\n",
       "      <th>count</th>\n",
       "      <th>mean</th>\n",
       "      <th>std</th>\n",
       "      <th>min</th>\n",
       "      <th>25%</th>\n",
       "      <th>50%</th>\n",
       "      <th>75%</th>\n",
       "      <th>max</th>\n",
       "    </tr>\n",
       "  </thead>\n",
       "  <tbody>\n",
       "    <tr>\n",
       "      <th>URLs</th>\n",
       "      <td>517.0</td>\n",
       "      <td>44.756286</td>\n",
       "      <td>57.056773</td>\n",
       "      <td>1.0</td>\n",
       "      <td>10.0</td>\n",
       "      <td>19.0</td>\n",
       "      <td>53.0</td>\n",
       "      <td>328.0</td>\n",
       "    </tr>\n",
       "  </tbody>\n",
       "</table>\n",
       "</div>"
      ],
      "text/plain": [
       "      count       mean        std  min   25%   50%   75%    max\n",
       "URLs  517.0  44.756286  57.056773  1.0  10.0  19.0  53.0  328.0"
      ]
     },
     "execution_count": 18,
     "metadata": {},
     "output_type": "execute_result"
    }
   ],
   "source": [
    "pd.DataFrame(df_textList2.URLs.value_counts()).describe().T"
   ]
  },
  {
   "cell_type": "code",
   "execution_count": 19,
   "metadata": {
    "colab": {
     "base_uri": "https://localhost:8080/"
    },
    "executionInfo": {
     "elapsed": 887,
     "status": "ok",
     "timestamp": 1604027715137,
     "user": {
      "displayName": "Pacharapol O.",
      "photoUrl": "https://lh3.googleusercontent.com/a-/AOh14GiBNaVjsCxoMVUqEvSDC7eauF0V2ZD7B-TzevR1TQ=s64",
      "userId": "00378494490135533545"
     },
     "user_tz": -420
    },
    "id": "wGrNn6b4TCc7",
    "outputId": "df1d8a4a-b8ea-45d8-99e8-65aa6e8178bb"
   },
   "outputs": [
    {
     "name": "stdout",
     "output_type": "stream",
     "text": [
      "DDCF comment: 23139\n",
      "DDCF URLs ก่อนตัด: 517\n"
     ]
    }
   ],
   "source": [
    "print('DDCF comment:',df_textList2.shape[0])\n",
    "print('DDCF URLs ก่อนตัด:',len(df_textList2.URLs.unique()))"
   ]
  },
  {
   "cell_type": "code",
   "execution_count": 20,
   "metadata": {
    "executionInfo": {
     "elapsed": 1076,
     "status": "ok",
     "timestamp": 1604027716129,
     "user": {
      "displayName": "Pacharapol O.",
      "photoUrl": "https://lh3.googleusercontent.com/a-/AOh14GiBNaVjsCxoMVUqEvSDC7eauF0V2ZD7B-TzevR1TQ=s64",
      "userId": "00378494490135533545"
     },
     "user_tz": -420
    },
    "id": "7IxgQQhCTCc_"
   },
   "outputs": [],
   "source": [
    "df_Corpus = pd.concat([df_textList1,df_textList2],ignore_index=True)"
   ]
  },
  {
   "cell_type": "code",
   "execution_count": 21,
   "metadata": {
    "colab": {
     "base_uri": "https://localhost:8080/"
    },
    "executionInfo": {
     "elapsed": 885,
     "status": "ok",
     "timestamp": 1604027718134,
     "user": {
      "displayName": "Pacharapol O.",
      "photoUrl": "https://lh3.googleusercontent.com/a-/AOh14GiBNaVjsCxoMVUqEvSDC7eauF0V2ZD7B-TzevR1TQ=s64",
      "userId": "00378494490135533545"
     },
     "user_tz": -420
    },
    "id": "Xf0_nwz8TCdB",
    "outputId": "d39ed4de-8549-4488-d8c5-04e62e8a4dfd"
   },
   "outputs": [
    {
     "name": "stdout",
     "output_type": "stream",
     "text": [
      "All comment: 66188\n",
      "All URLs ก่อนตัด: 1517\n"
     ]
    }
   ],
   "source": [
    "print('All comment:',df_Corpus.shape[0])\n",
    "print('All URLs ก่อนตัด:',len(df_Corpus.URLs.unique()))"
   ]
  },
  {
   "cell_type": "code",
   "execution_count": 22,
   "metadata": {
    "colab": {
     "base_uri": "https://localhost:8080/"
    },
    "executionInfo": {
     "elapsed": 1032,
     "status": "ok",
     "timestamp": 1604027719151,
     "user": {
      "displayName": "Pacharapol O.",
      "photoUrl": "https://lh3.googleusercontent.com/a-/AOh14GiBNaVjsCxoMVUqEvSDC7eauF0V2ZD7B-TzevR1TQ=s64",
      "userId": "00378494490135533545"
     },
     "user_tz": -420
    },
    "id": "vRH0T2gLTCdE",
    "outputId": "0722d375-5945-44d8-bc71-f39dcc58a0e9"
   },
   "outputs": [
    {
     "name": "stdout",
     "output_type": "stream",
     "text": [
      "Table               0\n",
      "URLs                0\n",
      "text             4703\n",
      "Retrived_date       0\n",
      "dtype: int64\n"
     ]
    }
   ],
   "source": [
    "missing = df_Corpus.isnull().sum()\n",
    "print(missing)"
   ]
  },
  {
   "cell_type": "code",
   "execution_count": 23,
   "metadata": {
    "colab": {
     "base_uri": "https://localhost:8080/",
     "height": 202
    },
    "executionInfo": {
     "elapsed": 828,
     "status": "ok",
     "timestamp": 1604027721340,
     "user": {
      "displayName": "Pacharapol O.",
      "photoUrl": "https://lh3.googleusercontent.com/a-/AOh14GiBNaVjsCxoMVUqEvSDC7eauF0V2ZD7B-TzevR1TQ=s64",
      "userId": "00378494490135533545"
     },
     "user_tz": -420
    },
    "id": "LXg1m0eoTCdK",
    "outputId": "567e2a04-8322-4104-9f68-6d509815fd24"
   },
   "outputs": [
    {
     "data": {
      "text/html": [
       "<div>\n",
       "<style scoped>\n",
       "    .dataframe tbody tr th:only-of-type {\n",
       "        vertical-align: middle;\n",
       "    }\n",
       "\n",
       "    .dataframe tbody tr th {\n",
       "        vertical-align: top;\n",
       "    }\n",
       "\n",
       "    .dataframe thead th {\n",
       "        text-align: right;\n",
       "    }\n",
       "</style>\n",
       "<table border=\"1\" class=\"dataframe\">\n",
       "  <thead>\n",
       "    <tr style=\"text-align: right;\">\n",
       "      <th></th>\n",
       "      <th>Table</th>\n",
       "      <th>URLs</th>\n",
       "      <th>text</th>\n",
       "      <th>Retrived_date</th>\n",
       "    </tr>\n",
       "  </thead>\n",
       "  <tbody>\n",
       "    <tr>\n",
       "      <th>66183</th>\n",
       "      <td>DDFC</td>\n",
       "      <td>https://pantip.com/topic/30651064</td>\n",
       "      <td>มีหลายยี่ห้อนะค่ะ พวกจิตรดา ไทยเดนมาร์ค โฟร์โม...</td>\n",
       "      <td>2020-10-27 13:54:33.920930</td>\n",
       "    </tr>\n",
       "    <tr>\n",
       "      <th>66184</th>\n",
       "      <td>DDFC</td>\n",
       "      <td>https://pantip.com/topic/30651064</td>\n",
       "      <td>เดี๋ยวนมรสจืด ส่วนใหญ่ก็นมโคแท้ 100%ทั้งนั้นแห...</td>\n",
       "      <td>2020-10-27 13:54:33.920930</td>\n",
       "    </tr>\n",
       "    <tr>\n",
       "      <th>66185</th>\n",
       "      <td>DDFC</td>\n",
       "      <td>https://pantip.com/topic/30651064</td>\n",
       "      <td>ตามกฏหมายเอง นมโคสดแท้ 100% กับนมโคแท้ 100% ไม...</td>\n",
       "      <td>2020-10-27 13:54:33.920930</td>\n",
       "    </tr>\n",
       "    <tr>\n",
       "      <th>66186</th>\n",
       "      <td>DDFC</td>\n",
       "      <td>https://pantip.com/topic/30651064</td>\n",
       "      <td>NaN</td>\n",
       "      <td>2020-10-27 13:54:33.920930</td>\n",
       "    </tr>\n",
       "    <tr>\n",
       "      <th>66187</th>\n",
       "      <td>DDFC</td>\n",
       "      <td>https://pantip.com/topic/30651064</td>\n",
       "      <td>NaN</td>\n",
       "      <td>2020-10-27 13:54:33.920930</td>\n",
       "    </tr>\n",
       "  </tbody>\n",
       "</table>\n",
       "</div>"
      ],
      "text/plain": [
       "      Table                               URLs  \\\n",
       "66183  DDFC  https://pantip.com/topic/30651064   \n",
       "66184  DDFC  https://pantip.com/topic/30651064   \n",
       "66185  DDFC  https://pantip.com/topic/30651064   \n",
       "66186  DDFC  https://pantip.com/topic/30651064   \n",
       "66187  DDFC  https://pantip.com/topic/30651064   \n",
       "\n",
       "                                                    text  \\\n",
       "66183  มีหลายยี่ห้อนะค่ะ พวกจิตรดา ไทยเดนมาร์ค โฟร์โม...   \n",
       "66184  เดี๋ยวนมรสจืด ส่วนใหญ่ก็นมโคแท้ 100%ทั้งนั้นแห...   \n",
       "66185  ตามกฏหมายเอง นมโคสดแท้ 100% กับนมโคแท้ 100% ไม...   \n",
       "66186                                                NaN   \n",
       "66187                                                NaN   \n",
       "\n",
       "                    Retrived_date  \n",
       "66183  2020-10-27 13:54:33.920930  \n",
       "66184  2020-10-27 13:54:33.920930  \n",
       "66185  2020-10-27 13:54:33.920930  \n",
       "66186  2020-10-27 13:54:33.920930  \n",
       "66187  2020-10-27 13:54:33.920930  "
      ]
     },
     "execution_count": 23,
     "metadata": {},
     "output_type": "execute_result"
    }
   ],
   "source": [
    "df_Corpus.tail()"
   ]
  },
  {
   "cell_type": "code",
   "execution_count": 24,
   "metadata": {
    "executionInfo": {
     "elapsed": 1006,
     "status": "ok",
     "timestamp": 1604027723160,
     "user": {
      "displayName": "Pacharapol O.",
      "photoUrl": "https://lh3.googleusercontent.com/a-/AOh14GiBNaVjsCxoMVUqEvSDC7eauF0V2ZD7B-TzevR1TQ=s64",
      "userId": "00378494490135533545"
     },
     "user_tz": -420
    },
    "id": "_O0BSe9ETCdO"
   },
   "outputs": [],
   "source": [
    "seqNum = list(range(1,df_Corpus.shape[0]+1))\n",
    "df_Corpus.insert(0,'commentId',seqNum)\n",
    "df_Corpus.columns = ['commentId','Table','URLs', 'text', 'Retrived_date']"
   ]
  },
  {
   "cell_type": "code",
   "execution_count": 25,
   "metadata": {
    "colab": {
     "base_uri": "https://localhost:8080/",
     "height": 202
    },
    "executionInfo": {
     "elapsed": 811,
     "status": "ok",
     "timestamp": 1604027724691,
     "user": {
      "displayName": "Pacharapol O.",
      "photoUrl": "https://lh3.googleusercontent.com/a-/AOh14GiBNaVjsCxoMVUqEvSDC7eauF0V2ZD7B-TzevR1TQ=s64",
      "userId": "00378494490135533545"
     },
     "user_tz": -420
    },
    "id": "w-muagoxTCdR",
    "outputId": "a8afe33d-943b-422e-838d-ba8514e9497d"
   },
   "outputs": [
    {
     "data": {
      "text/html": [
       "<div>\n",
       "<style scoped>\n",
       "    .dataframe tbody tr th:only-of-type {\n",
       "        vertical-align: middle;\n",
       "    }\n",
       "\n",
       "    .dataframe tbody tr th {\n",
       "        vertical-align: top;\n",
       "    }\n",
       "\n",
       "    .dataframe thead th {\n",
       "        text-align: right;\n",
       "    }\n",
       "</style>\n",
       "<table border=\"1\" class=\"dataframe\">\n",
       "  <thead>\n",
       "    <tr style=\"text-align: right;\">\n",
       "      <th></th>\n",
       "      <th>commentId</th>\n",
       "      <th>Table</th>\n",
       "      <th>URLs</th>\n",
       "      <th>text</th>\n",
       "      <th>Retrived_date</th>\n",
       "    </tr>\n",
       "  </thead>\n",
       "  <tbody>\n",
       "    <tr>\n",
       "      <th>66183</th>\n",
       "      <td>66184</td>\n",
       "      <td>DDFC</td>\n",
       "      <td>https://pantip.com/topic/30651064</td>\n",
       "      <td>มีหลายยี่ห้อนะค่ะ พวกจิตรดา ไทยเดนมาร์ค โฟร์โม...</td>\n",
       "      <td>2020-10-27 13:54:33.920930</td>\n",
       "    </tr>\n",
       "    <tr>\n",
       "      <th>66184</th>\n",
       "      <td>66185</td>\n",
       "      <td>DDFC</td>\n",
       "      <td>https://pantip.com/topic/30651064</td>\n",
       "      <td>เดี๋ยวนมรสจืด ส่วนใหญ่ก็นมโคแท้ 100%ทั้งนั้นแห...</td>\n",
       "      <td>2020-10-27 13:54:33.920930</td>\n",
       "    </tr>\n",
       "    <tr>\n",
       "      <th>66185</th>\n",
       "      <td>66186</td>\n",
       "      <td>DDFC</td>\n",
       "      <td>https://pantip.com/topic/30651064</td>\n",
       "      <td>ตามกฏหมายเอง นมโคสดแท้ 100% กับนมโคแท้ 100% ไม...</td>\n",
       "      <td>2020-10-27 13:54:33.920930</td>\n",
       "    </tr>\n",
       "    <tr>\n",
       "      <th>66186</th>\n",
       "      <td>66187</td>\n",
       "      <td>DDFC</td>\n",
       "      <td>https://pantip.com/topic/30651064</td>\n",
       "      <td>NaN</td>\n",
       "      <td>2020-10-27 13:54:33.920930</td>\n",
       "    </tr>\n",
       "    <tr>\n",
       "      <th>66187</th>\n",
       "      <td>66188</td>\n",
       "      <td>DDFC</td>\n",
       "      <td>https://pantip.com/topic/30651064</td>\n",
       "      <td>NaN</td>\n",
       "      <td>2020-10-27 13:54:33.920930</td>\n",
       "    </tr>\n",
       "  </tbody>\n",
       "</table>\n",
       "</div>"
      ],
      "text/plain": [
       "       commentId Table                               URLs  \\\n",
       "66183      66184  DDFC  https://pantip.com/topic/30651064   \n",
       "66184      66185  DDFC  https://pantip.com/topic/30651064   \n",
       "66185      66186  DDFC  https://pantip.com/topic/30651064   \n",
       "66186      66187  DDFC  https://pantip.com/topic/30651064   \n",
       "66187      66188  DDFC  https://pantip.com/topic/30651064   \n",
       "\n",
       "                                                    text  \\\n",
       "66183  มีหลายยี่ห้อนะค่ะ พวกจิตรดา ไทยเดนมาร์ค โฟร์โม...   \n",
       "66184  เดี๋ยวนมรสจืด ส่วนใหญ่ก็นมโคแท้ 100%ทั้งนั้นแห...   \n",
       "66185  ตามกฏหมายเอง นมโคสดแท้ 100% กับนมโคแท้ 100% ไม...   \n",
       "66186                                                NaN   \n",
       "66187                                                NaN   \n",
       "\n",
       "                    Retrived_date  \n",
       "66183  2020-10-27 13:54:33.920930  \n",
       "66184  2020-10-27 13:54:33.920930  \n",
       "66185  2020-10-27 13:54:33.920930  \n",
       "66186  2020-10-27 13:54:33.920930  \n",
       "66187  2020-10-27 13:54:33.920930  "
      ]
     },
     "execution_count": 25,
     "metadata": {},
     "output_type": "execute_result"
    }
   ],
   "source": [
    "df_Corpus.tail()"
   ]
  },
  {
   "cell_type": "code",
   "execution_count": 26,
   "metadata": {
    "executionInfo": {
     "elapsed": 1166,
     "status": "ok",
     "timestamp": 1604027727940,
     "user": {
      "displayName": "Pacharapol O.",
      "photoUrl": "https://lh3.googleusercontent.com/a-/AOh14GiBNaVjsCxoMVUqEvSDC7eauF0V2ZD7B-TzevR1TQ=s64",
      "userId": "00378494490135533545"
     },
     "user_tz": -420
    },
    "id": "jZFN_aTsTCdU"
   },
   "outputs": [],
   "source": [
    "# Drop NA & banned comments\n",
    "df_Corpus = df_Corpus.dropna()\n",
    "df_Corpus = df_Corpus[df_Corpus[\"text\"].str.find('ความคิดเห็นนี้ถูกลบ')!= 0]\n",
    "df_Corpus = df_Corpus[df_Corpus[\"text\"].str.find('แก้ไขข้อความเมื่อ')!= 0]\n",
    "df_Corpus = df_Corpus.set_index('commentId')"
   ]
  },
  {
   "cell_type": "code",
   "execution_count": 27,
   "metadata": {
    "colab": {
     "base_uri": "https://localhost:8080/"
    },
    "executionInfo": {
     "elapsed": 619,
     "status": "ok",
     "timestamp": 1604027727941,
     "user": {
      "displayName": "Pacharapol O.",
      "photoUrl": "https://lh3.googleusercontent.com/a-/AOh14GiBNaVjsCxoMVUqEvSDC7eauF0V2ZD7B-TzevR1TQ=s64",
      "userId": "00378494490135533545"
     },
     "user_tz": -420
    },
    "id": "ki-qD4YMTCdX",
    "outputId": "3102d8b3-3251-463e-f3e2-50a119fe787b"
   },
   "outputs": [
    {
     "name": "stdout",
     "output_type": "stream",
     "text": [
      "Table            0\n",
      "URLs             0\n",
      "text             0\n",
      "Retrived_date    0\n",
      "dtype: int64\n"
     ]
    }
   ],
   "source": [
    "missing = df_Corpus.isnull().sum()\n",
    "print(missing)"
   ]
  },
  {
   "cell_type": "code",
   "execution_count": 28,
   "metadata": {
    "colab": {
     "base_uri": "https://localhost:8080/"
    },
    "executionInfo": {
     "elapsed": 1135,
     "status": "ok",
     "timestamp": 1604027730567,
     "user": {
      "displayName": "Pacharapol O.",
      "photoUrl": "https://lh3.googleusercontent.com/a-/AOh14GiBNaVjsCxoMVUqEvSDC7eauF0V2ZD7B-TzevR1TQ=s64",
      "userId": "00378494490135533545"
     },
     "user_tz": -420
    },
    "id": "c0J7GD3ATCda",
    "outputId": "f8748ddd-9aab-40d2-ee9e-38ba742906b7"
   },
   "outputs": [
    {
     "name": "stdout",
     "output_type": "stream",
     "text": [
      "จำนวน comment หลังตัด: 60545\n",
      "จำนวนกระทู้หลังตัด: 1514\n"
     ]
    }
   ],
   "source": [
    "print('จำนวน comment หลังตัด:',df_Corpus.shape[0])\n",
    "print('จำนวนกระทู้หลังตัด:',len(df_Corpus.URLs.unique()))"
   ]
  },
  {
   "cell_type": "code",
   "execution_count": 29,
   "metadata": {
    "colab": {
     "base_uri": "https://localhost:8080/",
     "height": 233
    },
    "executionInfo": {
     "elapsed": 890,
     "status": "ok",
     "timestamp": 1604027730892,
     "user": {
      "displayName": "Pacharapol O.",
      "photoUrl": "https://lh3.googleusercontent.com/a-/AOh14GiBNaVjsCxoMVUqEvSDC7eauF0V2ZD7B-TzevR1TQ=s64",
      "userId": "00378494490135533545"
     },
     "user_tz": -420
    },
    "id": "PKvz8tQpTCdd",
    "outputId": "62e2d990-0240-4a01-cef5-515147c6750c"
   },
   "outputs": [
    {
     "data": {
      "text/html": [
       "<div>\n",
       "<style scoped>\n",
       "    .dataframe tbody tr th:only-of-type {\n",
       "        vertical-align: middle;\n",
       "    }\n",
       "\n",
       "    .dataframe tbody tr th {\n",
       "        vertical-align: top;\n",
       "    }\n",
       "\n",
       "    .dataframe thead th {\n",
       "        text-align: right;\n",
       "    }\n",
       "</style>\n",
       "<table border=\"1\" class=\"dataframe\">\n",
       "  <thead>\n",
       "    <tr style=\"text-align: right;\">\n",
       "      <th></th>\n",
       "      <th>Table</th>\n",
       "      <th>URLs</th>\n",
       "      <th>text</th>\n",
       "      <th>Retrived_date</th>\n",
       "      <th>token_text</th>\n",
       "    </tr>\n",
       "    <tr>\n",
       "      <th>commentId</th>\n",
       "      <th></th>\n",
       "      <th></th>\n",
       "      <th></th>\n",
       "      <th></th>\n",
       "      <th></th>\n",
       "    </tr>\n",
       "  </thead>\n",
       "  <tbody>\n",
       "    <tr>\n",
       "      <th>66181</th>\n",
       "      <td>DDFC</td>\n",
       "      <td>https://pantip.com/topic/30651064</td>\n",
       "      <td>นมผง คือเอานมดิบดีๆ มาคัดไขมันนมและอื่นๆออกไปใ...</td>\n",
       "      <td>2020-10-27 13:54:33.920930</td>\n",
       "      <td>None</td>\n",
       "    </tr>\n",
       "    <tr>\n",
       "      <th>66182</th>\n",
       "      <td>DDFC</td>\n",
       "      <td>https://pantip.com/topic/30651064</td>\n",
       "      <td>นมสด รสชาติมันดีนะ\\nเพราะมีปริมาณไขมันสูง ดังน...</td>\n",
       "      <td>2020-10-27 13:54:33.920930</td>\n",
       "      <td>None</td>\n",
       "    </tr>\n",
       "    <tr>\n",
       "      <th>66184</th>\n",
       "      <td>DDFC</td>\n",
       "      <td>https://pantip.com/topic/30651064</td>\n",
       "      <td>มีหลายยี่ห้อนะค่ะ พวกจิตรดา ไทยเดนมาร์ค โฟร์โม...</td>\n",
       "      <td>2020-10-27 13:54:33.920930</td>\n",
       "      <td>None</td>\n",
       "    </tr>\n",
       "    <tr>\n",
       "      <th>66185</th>\n",
       "      <td>DDFC</td>\n",
       "      <td>https://pantip.com/topic/30651064</td>\n",
       "      <td>เดี๋ยวนมรสจืด ส่วนใหญ่ก็นมโคแท้ 100%ทั้งนั้นแห...</td>\n",
       "      <td>2020-10-27 13:54:33.920930</td>\n",
       "      <td>None</td>\n",
       "    </tr>\n",
       "    <tr>\n",
       "      <th>66186</th>\n",
       "      <td>DDFC</td>\n",
       "      <td>https://pantip.com/topic/30651064</td>\n",
       "      <td>ตามกฏหมายเอง นมโคสดแท้ 100% กับนมโคแท้ 100% ไม...</td>\n",
       "      <td>2020-10-27 13:54:33.920930</td>\n",
       "      <td>None</td>\n",
       "    </tr>\n",
       "  </tbody>\n",
       "</table>\n",
       "</div>"
      ],
      "text/plain": [
       "          Table                               URLs  \\\n",
       "commentId                                            \n",
       "66181      DDFC  https://pantip.com/topic/30651064   \n",
       "66182      DDFC  https://pantip.com/topic/30651064   \n",
       "66184      DDFC  https://pantip.com/topic/30651064   \n",
       "66185      DDFC  https://pantip.com/topic/30651064   \n",
       "66186      DDFC  https://pantip.com/topic/30651064   \n",
       "\n",
       "                                                        text  \\\n",
       "commentId                                                      \n",
       "66181      นมผง คือเอานมดิบดีๆ มาคัดไขมันนมและอื่นๆออกไปใ...   \n",
       "66182      นมสด รสชาติมันดีนะ\\nเพราะมีปริมาณไขมันสูง ดังน...   \n",
       "66184      มีหลายยี่ห้อนะค่ะ พวกจิตรดา ไทยเดนมาร์ค โฟร์โม...   \n",
       "66185      เดี๋ยวนมรสจืด ส่วนใหญ่ก็นมโคแท้ 100%ทั้งนั้นแห...   \n",
       "66186      ตามกฏหมายเอง นมโคสดแท้ 100% กับนมโคแท้ 100% ไม...   \n",
       "\n",
       "                        Retrived_date token_text  \n",
       "commentId                                         \n",
       "66181      2020-10-27 13:54:33.920930       None  \n",
       "66182      2020-10-27 13:54:33.920930       None  \n",
       "66184      2020-10-27 13:54:33.920930       None  \n",
       "66185      2020-10-27 13:54:33.920930       None  \n",
       "66186      2020-10-27 13:54:33.920930       None  "
      ]
     },
     "execution_count": 29,
     "metadata": {},
     "output_type": "execute_result"
    }
   ],
   "source": [
    "df_Corpus.insert(4,'token_text',None)\n",
    "#df_Corpus.insert(5,'token_sound',None)\n",
    "#df_Corpus.insert(6,'token_tag',None)\n",
    "df_Corpus.tail()"
   ]
  },
  {
   "cell_type": "markdown",
   "metadata": {},
   "source": [
    "เก็บเฉพาะหัวกระทู้"
   ]
  },
  {
   "cell_type": "code",
   "execution_count": 30,
   "metadata": {},
   "outputs": [
    {
     "data": {
      "text/html": [
       "<div>\n",
       "<style scoped>\n",
       "    .dataframe tbody tr th:only-of-type {\n",
       "        vertical-align: middle;\n",
       "    }\n",
       "\n",
       "    .dataframe tbody tr th {\n",
       "        vertical-align: top;\n",
       "    }\n",
       "\n",
       "    .dataframe thead th {\n",
       "        text-align: right;\n",
       "    }\n",
       "</style>\n",
       "<table border=\"1\" class=\"dataframe\">\n",
       "  <thead>\n",
       "    <tr style=\"text-align: right;\">\n",
       "      <th></th>\n",
       "      <th>URLs</th>\n",
       "      <th>text</th>\n",
       "      <th>token_text</th>\n",
       "      <th>mention_product</th>\n",
       "      <th>mention_brand</th>\n",
       "    </tr>\n",
       "    <tr>\n",
       "      <th>commentId</th>\n",
       "      <th></th>\n",
       "      <th></th>\n",
       "      <th></th>\n",
       "      <th></th>\n",
       "      <th></th>\n",
       "    </tr>\n",
       "  </thead>\n",
       "  <tbody>\n",
       "    <tr>\n",
       "      <th>65991</th>\n",
       "      <td>https://pantip.com/topic/30007179</td>\n",
       "      <td>กำลังจะเป็นคุณแม่มือใหม่ค่ะ ทำตัวไม่ถูกเลยค่ะ\\...</td>\n",
       "      <td>None</td>\n",
       "      <td>None</td>\n",
       "      <td>None</td>\n",
       "    </tr>\n",
       "    <tr>\n",
       "      <th>66015</th>\n",
       "      <td>https://pantip.com/topic/30020409</td>\n",
       "      <td>พรุ่งนี้ลูกชายอายุครบ 1 ขวบ 3 เดือน หม่ำนมแม่จ...</td>\n",
       "      <td>None</td>\n",
       "      <td>None</td>\n",
       "      <td>None</td>\n",
       "    </tr>\n",
       "    <tr>\n",
       "      <th>66044</th>\n",
       "      <td>https://pantip.com/topic/30049123</td>\n",
       "      <td>เพื่อนๆทุกคนคงคุ้นเคยกับคำถามนี้แล้วทุกคน... \"...</td>\n",
       "      <td>None</td>\n",
       "      <td>None</td>\n",
       "      <td>None</td>\n",
       "    </tr>\n",
       "    <tr>\n",
       "      <th>66074</th>\n",
       "      <td>https://pantip.com/topic/30011023</td>\n",
       "      <td>แตกกระทู้มาจาก www.pantip.com/topic/30007146/\\...</td>\n",
       "      <td>None</td>\n",
       "      <td>None</td>\n",
       "      <td>None</td>\n",
       "    </tr>\n",
       "    <tr>\n",
       "      <th>66132</th>\n",
       "      <td>https://pantip.com/topic/30651064</td>\n",
       "      <td>อยากรู้ว่าปัจจุบันพวกนมกล่องทึ่ขายใน 7-11 หรือ...</td>\n",
       "      <td>None</td>\n",
       "      <td>None</td>\n",
       "      <td>None</td>\n",
       "    </tr>\n",
       "  </tbody>\n",
       "</table>\n",
       "</div>"
      ],
      "text/plain": [
       "                                        URLs  \\\n",
       "commentId                                      \n",
       "65991      https://pantip.com/topic/30007179   \n",
       "66015      https://pantip.com/topic/30020409   \n",
       "66044      https://pantip.com/topic/30049123   \n",
       "66074      https://pantip.com/topic/30011023   \n",
       "66132      https://pantip.com/topic/30651064   \n",
       "\n",
       "                                                        text token_text  \\\n",
       "commentId                                                                 \n",
       "65991      กำลังจะเป็นคุณแม่มือใหม่ค่ะ ทำตัวไม่ถูกเลยค่ะ\\...       None   \n",
       "66015      พรุ่งนี้ลูกชายอายุครบ 1 ขวบ 3 เดือน หม่ำนมแม่จ...       None   \n",
       "66044      เพื่อนๆทุกคนคงคุ้นเคยกับคำถามนี้แล้วทุกคน... \"...       None   \n",
       "66074      แตกกระทู้มาจาก www.pantip.com/topic/30007146/\\...       None   \n",
       "66132      อยากรู้ว่าปัจจุบันพวกนมกล่องทึ่ขายใน 7-11 หรือ...       None   \n",
       "\n",
       "          mention_product mention_brand  \n",
       "commentId                                \n",
       "65991                None          None  \n",
       "66015                None          None  \n",
       "66044                None          None  \n",
       "66074                None          None  \n",
       "66132                None          None  "
      ]
     },
     "execution_count": 30,
     "metadata": {},
     "output_type": "execute_result"
    }
   ],
   "source": [
    "df_thread = df_Corpus.copy()\n",
    "df_thread = df_thread[['URLs','text']]\n",
    "df_thread.drop_duplicates(subset =\"URLs\", keep = 'first', inplace = True)\n",
    "df_thread.insert(2,'token_text',None)\n",
    "df_thread.insert(3,'mention_product',None)\n",
    "df_thread.insert(4,'mention_brand',None)\n",
    "df_thread.tail()"
   ]
  },
  {
   "cell_type": "markdown",
   "metadata": {
    "id": "EpwX95XlTCdl"
   },
   "source": [
    "## 2.ตัดคำและเก็บลง MongoDB (ใช้ insight จาก jupyter งานก่อน)"
   ]
  },
  {
   "cell_type": "markdown",
   "metadata": {
    "id": "6U__d4agTCdl"
   },
   "source": [
    "https://www.thainlp.org/pythainlp/tutorials/notebooks/pythainlp-get-started.html#Thai-Characters"
   ]
  },
  {
   "cell_type": "code",
   "execution_count": 31,
   "metadata": {
    "executionInfo": {
     "elapsed": 962,
     "status": "ok",
     "timestamp": 1604030224171,
     "user": {
      "displayName": "Pacharapol O.",
      "photoUrl": "https://lh3.googleusercontent.com/a-/AOh14GiBNaVjsCxoMVUqEvSDC7eauF0V2ZD7B-TzevR1TQ=s64",
      "userId": "00378494490135533545"
     },
     "user_tz": -420
    },
    "id": "rAcuuoYiTCdu"
   },
   "outputs": [],
   "source": [
    "garbage_char = ['',' ','🥺','\\r','\\n','\\r\\n','\\xa0','www','application','ทางกฎหมาย','html'\n",
    "                ,'http','https','url','com','pantip','topic','_','–','พันทิป','^^'\n",
    "                ,'นะค่ะ','นะคะ','น่ะค่ะ','ฯ','ๆ','แฮ่','เย่ๆๆ','ว๊าว','ฮิ้วววววววววว','Number','กก'\n",
    "                ,'เมนู','Menu','Net','net','สาขา','บาท','ราคา','(',')','ฯ','ๆ','กก','อันนี้','%s','😆', '🤣','😢'\n",
    "                ,'😏','😂','😿','ววว','xx','อิอิ','แย้ววว','นะคะ','นะค่ะ','://','มกราคม', 'กุมภาพันธ์'\n",
    "                ,'มีนาคม', 'เมษายน','พฤษภาคม', 'มิถุนายน', 'กรกฎาคม', 'สิงหาคม','กันยายน', 'ตุลาคม'\n",
    "                ,'พฤศจิกายน', 'ธันวาคม']\n",
    "garbage_char  = garbage_char + list_punc"
   ]
  },
  {
   "cell_type": "code",
   "execution_count": 32,
   "metadata": {
    "colab": {
     "base_uri": "https://localhost:8080/"
    },
    "executionInfo": {
     "elapsed": 813,
     "status": "ok",
     "timestamp": 1604027849933,
     "user": {
      "displayName": "Pacharapol O.",
      "photoUrl": "https://lh3.googleusercontent.com/a-/AOh14GiBNaVjsCxoMVUqEvSDC7eauF0V2ZD7B-TzevR1TQ=s64",
      "userId": "00378494490135533545"
     },
     "user_tz": -420
    },
    "id": "mAwAGA5ITCdx",
    "outputId": "d95e59bb-b35e-4592-f16e-0915a7975f84"
   },
   "outputs": [
    {
     "name": "stdout",
     "output_type": "stream",
     "text": [
      "จำนวน comment หลังตัด: 60545\n",
      "จำนวนกระทู้หลังตัด: 1514\n"
     ]
    }
   ],
   "source": [
    "print('จำนวน comment หลังตัด:',df_Corpus.shape[0])\n",
    "print('จำนวนกระทู้หลังตัด:',len(df_Corpus.URLs.unique()))"
   ]
  },
  {
   "cell_type": "code",
   "execution_count": 33,
   "metadata": {
    "executionInfo": {
     "elapsed": 2296,
     "status": "ok",
     "timestamp": 1604030226424,
     "user": {
      "displayName": "Pacharapol O.",
      "photoUrl": "https://lh3.googleusercontent.com/a-/AOh14GiBNaVjsCxoMVUqEvSDC7eauF0V2ZD7B-TzevR1TQ=s64",
      "userId": "00378494490135533545"
     },
     "user_tz": -420
    },
    "id": "8D5MebxcTCd0"
   },
   "outputs": [],
   "source": [
    "custom_list = ['ดัชมิลล์','ดัชมิล','dutch mill','dutchmilk','ดัชชี่','เมจิ','ซีพีเมจิ','ซีพี-เมจิ','cp-meiji','betagen','บีทาเก้น','บีทาเกน'\n",
    "               ,'โฟร์โมสต์','โฟร์โมส','โฟโมสต์','โฟโมต','โฟรโมสต์','โชคชัย','แดรี่โฮม','dairy home','เดรี่โฮม','อืมม มิลค์'\n",
    "               ,'Umm! Milk','เอ็มมิลค์','mmilk','เอ็มมิ้ลค์','แมคโนเลีย','นมฟาร์มโชคชัย','นมไทย-เดนมาร์ค','ไทยเดนมาร์ค','วัวแดง','หนองโพ','คาเนชั่น'\n",
    "               ,'สตอเบอร์รี่','สตรอว์เบอร์รี','รสสตรอเบอรี่','สตรอเบอรี่','สตรอวเบอรี่','สตอเบอรี่','สตรอเบอรี่','รสกาแฟ'\n",
    "               ,'ชอคโกแล็ต','ช็อกโกแลต','ช็อคโกแลต','ช๊อกโกแลต','ช็อคโกแล็ต','ช็อกโกเลต','มิ้นท์ชอค','มิ้นต์ช้อก','รสกล้วย'\n",
    "               ,'รสกาแฟ','รสหวาน','รสจืด','ไขมันต่ำ','ไขมัน 0%','low fat','0% fat','ขาดมันเนย','พร่องมันเนย','ไฮแคลเซียม'\n",
    "               ,'high protein','Hi Protein','HIgh Protein','Whey Formula','วานิลลา'\n",
    "               ,'ไฮโปรตีน','เวย์โปรตีน','whey','เวย์','อัลมอนด์','ซีเล็ค','ซีเล็คท์','กล้วยหอม','ไวท์คอฟฟี่','คาปูชิโน่','อเมริกาโน่'\n",
    "               ,'grass fed','free lactose','lactose free','พาสเจอไรซ์','พาสเจอร์ไรซ์','พาสเจอร์ไรส์','พาซเจอไรซ์','พาสเจอร์ไลท์'\n",
    "               ,'เมจิโกลด์ แม็กซ์','เมจิโกลด์','เมจิโกล์ดแม็กซ์','เมจิ บัลแกเรีย','เมจิบัลแกเรีย','นมเปรี้ยว','รสธรรมชาติ','รสกลมกล่อม'\n",
    "               ,'โยเกิต','โยเกิรต','โยเกิร์ตพร้อมดื่ม','น้ำตาลมะพร้าว','นมฮอกไกโด','เบดไทม์','ฟรีแลคโตส','แลคโตสฟรี','ริชเอสเพสโซ่'\n",
    "               ,'bedtime','bed time','เบดไทม์','ดาร์คช็อกโกแลต','ดาร์กช็อก','ดาร์กช็อกโกแลต'\n",
    "               ,'คาราเมล','ช็อกโกมอลต์','เมล่อน','ชาเขียวมัจฉะ','ฝาน้ำเงิน','ผลิตภันท์นม'\n",
    "               ,'7-Eleven','เซเว่น อีเลฟเว่น','เซเว่นอีเลฟเว่น','เซเว่น','เซเวน','7/11','7-11'\n",
    "               ,'ท็อปส์','ทอปส์','ท้อปส์','ท๊อปส์','แมคโคร','แม็คโคร','โลตัส','บิ๊กซี','bigc','Golden place','Big C'\n",
    "               ,'ขายไม่ดี','แพคคู่','ค่าจัดส่ง','shelf life','พนักงานขายนม'               \n",
    "               ,'ซื้อประจำ','ซื้อไม่ได้','ของแถม','ราคาสูง','น้ำนมโค'\n",
    "               ,'แพ้นม','แพ้นมวัว','เล่นเวท','นำ้หนัก','คุณแม่มือใหม่','นมอุ่น','ชานม','กินนม','ดื่มนม','ท้องเสีย','ขี้แตก'\n",
    "               ,'คีเฟอร์นม','พันทิป','ร้านนม','ซื้อไม่ได้','ลูกสุนัข','ลูกหมา','คายทิ้ง','เจมส์ จิ','เจมส์จิ','สตอรี่'\n",
    "              ]\n",
    "words = set(thai_words()).union(set(custom_list))\n",
    "#custom_tokenizer = Tokenizer(engine='ulmfit', custom_dict=words, keep_whitespace=False)\n",
    "trie = dict_trie(dict_source=words)"
   ]
  },
  {
   "cell_type": "code",
   "execution_count": 34,
   "metadata": {},
   "outputs": [],
   "source": [
    "#https://github.com/PyThaiNLP/pythainlp-corpus/releases/tag/wiki_lm_lstm-v0.32\n",
    "\n",
    "#from pythainlp.ulmfit import (replace_rep_after,fix_html,ungroup_emoji,replace_wrep_post,remove_space)"
   ]
  },
  {
   "cell_type": "code",
   "execution_count": 35,
   "metadata": {},
   "outputs": [],
   "source": [
    "def tokenize_custom(x, cusDict):\n",
    "    wtkn = word_tokenize(x, engine=\"newmm\", custom_dict=cusDict, keep_whitespace=False)\n",
    "    wtkn = checkStopwords(wtkn)\n",
    "    wtkn = [x for x in wtkn if len(x) >= 2]\n",
    "    wtkn = [y for y in wtkn if y not in garbage_char]\n",
    "    wtkn = [s for s in wtkn if not s.isdigit()]\n",
    "    wtkn = normThai(wtkn)\n",
    "    return wtkn"
   ]
  },
  {
   "cell_type": "code",
   "execution_count": 36,
   "metadata": {},
   "outputs": [],
   "source": [
    "def create_InsertMany_Thread(df):\n",
    "    listofdict = []\n",
    "    for c,lx in enumerate(df.URLs,0):\n",
    "        info = {\n",
    "            \"URLs\": lx,\n",
    "            \"text\": df.text[c],\n",
    "            \"token_text\":df.token_text[c],\n",
    "            \"t_mention_product\": df.t_mention_product[c],\n",
    "            \"t_mention_brand\": df.t_mention_brand[c]\n",
    "        }\n",
    "        listofdict.append(info)\n",
    "    return listofdict"
   ]
  },
  {
   "cell_type": "code",
   "execution_count": 37,
   "metadata": {},
   "outputs": [],
   "source": [
    "def create_InsertMany_comments(df):\n",
    "    listofdict = []\n",
    "    for c,lx in enumerate(df.URLs,0):\n",
    "        info = {\n",
    "            \"commentId\":int(df.commentId[c]),\n",
    "            \"Table\": df.Table[c],\n",
    "            \"URLs\": lx,\n",
    "            \"text\": df.text[c],\n",
    "            \"Retrived_date\": df.Retrived_date[c],\n",
    "            \"token_text\":df.token_text[c],\n",
    "            \"cmt_mention_product\": df.cmt_mention_product[c],\n",
    "            \"cmt_mention_brand\": df.cmt_mention_brand[c]\n",
    "        }\n",
    "        listofdict.append(info)\n",
    "    return listofdict"
   ]
  },
  {
   "cell_type": "code",
   "execution_count": 38,
   "metadata": {},
   "outputs": [],
   "source": [
    "def generalize_keyword(wtkn):  \n",
    "    ret_wtkn = wtkn\n",
    "    for i,each in enumerate(ret_wtkn,0):\n",
    "        if each in ['ดัชมิลล์','ดัชมิล','dutch mill','dutchmill','dutchmilk','ดัชชี่']:\n",
    "            ret_wtkn[i] = 'ดัชมิลล์'\n",
    "        elif each  in ['เมจิ','ซีพีเมจิ','ซีพี-เมจิ','cp-meiji','meiji','meji','miji']:\n",
    "            ret_wtkn[i] = 'เมจิ'\n",
    "        elif each  in ['โฟร์โมสต์','โฟร์โมส','โฟโมสต์','โฟรโมสต์','โฟโมต','foremost']:\n",
    "            ret_wtkn[i] = 'โฟร์โมสต์'\n",
    "        elif each  in ['แดรี่โฮม','dairy home','เดรี่โฮม']:\n",
    "            ret_wtkn[i] = 'แดรี่โฮม'\n",
    "        elif each  in ['โชคชัย','อืมม มิลค์','umm milk','นมฟาร์มโชคชัย']:\n",
    "            ret_wtkn[i] = 'โชคชัย'\n",
    "        elif each  in ['เอ็มมิลค์','mmilk','เอ็มมิ้ลค์']:\n",
    "            ret_wtkn[i] = 'เอ็มมิลค์'\n",
    "        elif each  in ['นมไทย-เดนมาร์ค','ไทยเดนมาร์ค','วัวแดง']:\n",
    "            ret_wtkn[i] = 'ไทยเดนมาร์ค'\n",
    "        elif each  in ['สตอเบอร์รี่','สตรอว์เบอร์รี','รสสตรอเบอรี่','สตอเบอรี่','สตรอเบอรี่','สตรอวเบอรี่']:\n",
    "            ret_wtkn[i] = 'สตรอว์เบอร์รี'\n",
    "        elif each  in ['ชอคโกแล็ต','ช็อกโกแลต','ช็อคโกแลต','ช๊อกโกแลต','ช็อคโกแล็ต','ช็อกโกเลต','ช็อค']:\n",
    "            ret_wtkn[i] = 'ช็อกโกแลต'\n",
    "        elif each  in ['มิ้นท์ชอค','มิ้นต์ช้อก','ช็อคโกแลตมินต์','มินต์ช็อคโกแลต']:\n",
    "            ret_wtkn[i] = 'ช็อกโกแลตมินต์'\n",
    "        elif each  in ['ไขมันต่ำ','low fat','พร่องมันเนย']:\n",
    "            ret_wtkn[i] = 'ไขมันต่ำ'\n",
    "        elif each  in ['ไขมัน 0%','0% fat','ขาดมันเนย']:\n",
    "            ret_wtkn[i] = 'ไขมัน 0%'\n",
    "        elif each  in ['high protein','hi protein','ไฮโปรตีน','เวย์โปรตีน']:\n",
    "            ret_wtkn[i] = 'ไฮโปรตีน'\n",
    "        elif each  in ['free lactose','lactose free','ฟรีแลคโตส','แลคโตสฟรี']:\n",
    "            ret_wtkn[i] = 'นมฟรีแลคโตส'\n",
    "        elif each  in ['พาสเจอไรซ์','พาสเจอร์ไรซ์','พาสเจอร์ไรส์','พาซเจอไรซ์','พาสเจอร์ไลท์']:\n",
    "            ret_wtkn[i] = 'พาสเจอร์ไรส์'\n",
    "        elif each  in ['เมจิโกลด์ แม็กซ์','เมจิโกลด์','เมจิโกล์ดแม็กซ์','gold','gold max']:\n",
    "            ret_wtkn[i] = 'เมจิโกลด์'\n",
    "        elif each  in ['ฝาน้ำเงิน','รสจืด']:\n",
    "            ret_wtkn[i] = 'รสจืด'\n",
    "        elif each  in ['ท็อปส์','ทอปส์','ท้อปส์','ท๊อปส์','tops']:\n",
    "            ret_wtkn[i] = 'tops'\n",
    "        elif each  in ['แมคโคร','แม็คโคร','makro']:\n",
    "            ret_wtkn[i] = 'makro'\n",
    "        elif each  in ['โลตัส','lotus']:\n",
    "            ret_wtkn[i] = 'lotus'\n",
    "        elif each  in ['บิ๊กซี','bigc','Big C']:\n",
    "            ret_wtkn[i] = 'bigc'\n",
    "        elif each  in ['ท้องเสีย','ขี้แตก']:\n",
    "            ret_wtkn[i] = 'ท้องเสีย'\n",
    "        elif each  in ['ลูกสุนัข','ลูกหมา']:\n",
    "            ret_wtkn[i] = 'ลูกสุนัข'\n",
    "        elif each in ['ดาร์คช็อกโกแลต','ดาร์กช็อก','ดาร์กช็อกโกแลต']:\n",
    "            ret_wtkn[i] = 'ดาร์คช็อกโกแลต'\n",
    "        elif each in ['bedtime','bed time','เบดไทม์']:\n",
    "            ret_wtkn[i] = 'เบดไทม์'\n",
    "        elif each in ['เมจิ บัลแกเรีย','เมจิบัลแกเรีย']:\n",
    "            ret_wtkn[i] = 'เมจิบัลแกเรีย'\n",
    "        elif each in ['โยเกิร์ต','โยเกิต','โยเกิรต','โยเกิร์ตพร้อมดื่ม']:\n",
    "            ret_wtkn[i] = 'โยเกิร์ต'\n",
    "        elif each in ['7-Eleven','เซเว่น อีเลฟเว่น','เซเว่นอีเลฟเว่น','เซเว่น','เซเวน','7/11','7-11']:\n",
    "            ret_wtkn[i] = '7-Eleven'\n",
    "        elif each in ['บีทาเก้น','บีทาเกน']:\n",
    "            ret_wtkn[i] = 'บีทาเก้น'\n",
    "    return ret_wtkn"
   ]
  },
  {
   "cell_type": "code",
   "execution_count": 39,
   "metadata": {},
   "outputs": [],
   "source": [
    "def find_brands_product(x,catType):\n",
    "    ret_wtkn = []\n",
    "    brands = ['ดัชมิลล์','เมจิ','โฟร์โมสต์','โชคชัย','แดรี่โฮม','เอ็มมิลค์','แมคโนเลีย','ไทยเดนมาร์ค','หนองโพ','คาเนชั่น','บีทาเก้น','จิตรลดา']\n",
    "    products = ['นม','\"นม\"','นมข้น','นมจืด','นมสด','กินนม','ดื่มนม','/\\xa0\\xa0นม','ขวดนม','นมวัว','นมกล่อง','ผลิตภันท์นม','น้ำนมโค'\n",
    "                ,'สตรอว์เบอร์รี','ช็อกโกแลต','รสกาแฟ','รสหวาน','รสจืด','ไขมันต่ำ','ไขมัน 0%','ไฮโปรตีน','อัลมอนด์'\n",
    "                ,'รสกล้วย','grass fed','นมฟรีแลคโตส','พาสเจอร์ไรส์','เมจิโกลด์','นมฮอกไกโด','เบดไทม์','ดาร์คช็อกโกแลต','ไฮแคลเซียม'\n",
    "                ,'คาราเมล','มอลต์','เมล่อน','ชาเขียวมัจฉะ','บัลแกเรีย','โยเกิร์ต','รสธรรมชาติ','รสกลมกล่อม','โยเกิร์ต','ซากุระ']\n",
    "    \n",
    "    choiceList = []\n",
    "    if catType == 'b':\n",
    "        choiceList = brands\n",
    "    else:\n",
    "        choiceList = products\n",
    "        \n",
    "    for i,each in enumerate(x,0):\n",
    "        if each in choiceList:\n",
    "            ret_wtkn.append(each)\n",
    "    return ret_wtkn"
   ]
  },
  {
   "cell_type": "markdown",
   "metadata": {},
   "source": [
    "#### Copy ชุดคำจาก File มา Process ก่อนลง MongoDB"
   ]
  },
  {
   "cell_type": "code",
   "execution_count": 40,
   "metadata": {},
   "outputs": [],
   "source": [
    "df_process_comment = df_Corpus.reset_index().copy()\n",
    "df_process_thread = df_thread.reset_index().copy()"
   ]
  },
  {
   "cell_type": "markdown",
   "metadata": {},
   "source": [
    "2.1) Tokenize comment"
   ]
  },
  {
   "cell_type": "code",
   "execution_count": 41,
   "metadata": {},
   "outputs": [],
   "source": [
    "df_process_comment['token_text'] = df_process_comment['text'].apply(lambda x: tokenize_custom(x,trie))"
   ]
  },
  {
   "cell_type": "code",
   "execution_count": 42,
   "metadata": {},
   "outputs": [
    {
     "data": {
      "text/html": [
       "<div>\n",
       "<style scoped>\n",
       "    .dataframe tbody tr th:only-of-type {\n",
       "        vertical-align: middle;\n",
       "    }\n",
       "\n",
       "    .dataframe tbody tr th {\n",
       "        vertical-align: top;\n",
       "    }\n",
       "\n",
       "    .dataframe thead th {\n",
       "        text-align: right;\n",
       "    }\n",
       "</style>\n",
       "<table border=\"1\" class=\"dataframe\">\n",
       "  <thead>\n",
       "    <tr style=\"text-align: right;\">\n",
       "      <th></th>\n",
       "      <th>commentId</th>\n",
       "      <th>Table</th>\n",
       "      <th>URLs</th>\n",
       "      <th>text</th>\n",
       "      <th>Retrived_date</th>\n",
       "      <th>token_text</th>\n",
       "    </tr>\n",
       "  </thead>\n",
       "  <tbody>\n",
       "    <tr>\n",
       "      <th>0</th>\n",
       "      <td>1</td>\n",
       "      <td>Meiji</td>\n",
       "      <td>https://pantip.com/topic/39868603</td>\n",
       "      <td>เมื่อก่อนหลายปีมาแล้ว ในเซเว่นยังมีนมเมจิรสหวา...</td>\n",
       "      <td>2020-10-26 12:40:26.135083</td>\n",
       "      <td>[ปี, เซเว่น, ยังมี, นม, เมจิ, รสหวาน, ขาย, อยู...</td>\n",
       "    </tr>\n",
       "    <tr>\n",
       "      <th>1</th>\n",
       "      <td>2</td>\n",
       "      <td>Meiji</td>\n",
       "      <td>https://pantip.com/topic/39868603</td>\n",
       "      <td>เบาหวานครับ แฮ่ๆ</td>\n",
       "      <td>2020-10-26 12:40:26.135083</td>\n",
       "      <td>[เบาหวาน]</td>\n",
       "    </tr>\n",
       "    <tr>\n",
       "      <th>2</th>\n",
       "      <td>3</td>\n",
       "      <td>Meiji</td>\n",
       "      <td>https://pantip.com/topic/39868603</td>\n",
       "      <td>หาซื้อไม่ได้นี่คิดได้  2 อย่างนะ.    คนไม่ค่อย...</td>\n",
       "      <td>2020-10-26 12:40:26.135083</td>\n",
       "      <td>[หา, ซื้อไม่ได้, คิดได้, , .    คน, กินกัน, ไม...</td>\n",
       "    </tr>\n",
       "    <tr>\n",
       "      <th>3</th>\n",
       "      <td>4</td>\n",
       "      <td>Meiji</td>\n",
       "      <td>https://pantip.com/topic/39868603</td>\n",
       "      <td>เป็นรสที่ขายไม่ดีครับ\\r\\nรสพื้นฐานคือ\\r\\nจืด แ...</td>\n",
       "      <td>2020-10-26 12:40:26.135083</td>\n",
       "      <td>[รส, ขายไม่ดี, รส, พื้นฐาน, จืด, แบ่ง, %,, low...</td>\n",
       "    </tr>\n",
       "    <tr>\n",
       "      <th>4</th>\n",
       "      <td>5</td>\n",
       "      <td>Meiji</td>\n",
       "      <td>https://pantip.com/topic/39868603</td>\n",
       "      <td>ถ้าขายไม่ดีเค้าก็เอาออกครับ shelf life มันน้อย...</td>\n",
       "      <td>2020-10-26 12:40:26.135083</td>\n",
       "      <td>[ขายไม่ดี, เค้า, shelf life, เวลา, หมดอายุ, ค่...</td>\n",
       "    </tr>\n",
       "  </tbody>\n",
       "</table>\n",
       "</div>"
      ],
      "text/plain": [
       "   commentId  Table                               URLs  \\\n",
       "0          1  Meiji  https://pantip.com/topic/39868603   \n",
       "1          2  Meiji  https://pantip.com/topic/39868603   \n",
       "2          3  Meiji  https://pantip.com/topic/39868603   \n",
       "3          4  Meiji  https://pantip.com/topic/39868603   \n",
       "4          5  Meiji  https://pantip.com/topic/39868603   \n",
       "\n",
       "                                                text  \\\n",
       "0  เมื่อก่อนหลายปีมาแล้ว ในเซเว่นยังมีนมเมจิรสหวา...   \n",
       "1                                   เบาหวานครับ แฮ่ๆ   \n",
       "2  หาซื้อไม่ได้นี่คิดได้  2 อย่างนะ.    คนไม่ค่อย...   \n",
       "3  เป็นรสที่ขายไม่ดีครับ\\r\\nรสพื้นฐานคือ\\r\\nจืด แ...   \n",
       "4  ถ้าขายไม่ดีเค้าก็เอาออกครับ shelf life มันน้อย...   \n",
       "\n",
       "                Retrived_date  \\\n",
       "0  2020-10-26 12:40:26.135083   \n",
       "1  2020-10-26 12:40:26.135083   \n",
       "2  2020-10-26 12:40:26.135083   \n",
       "3  2020-10-26 12:40:26.135083   \n",
       "4  2020-10-26 12:40:26.135083   \n",
       "\n",
       "                                          token_text  \n",
       "0  [ปี, เซเว่น, ยังมี, นม, เมจิ, รสหวาน, ขาย, อยู...  \n",
       "1                                          [เบาหวาน]  \n",
       "2  [หา, ซื้อไม่ได้, คิดได้, , .    คน, กินกัน, ไม...  \n",
       "3  [รส, ขายไม่ดี, รส, พื้นฐาน, จืด, แบ่ง, %,, low...  \n",
       "4  [ขายไม่ดี, เค้า, shelf life, เวลา, หมดอายุ, ค่...  "
      ]
     },
     "execution_count": 42,
     "metadata": {},
     "output_type": "execute_result"
    }
   ],
   "source": [
    "df_process_comment.head()"
   ]
  },
  {
   "cell_type": "markdown",
   "metadata": {},
   "source": [
    "2.2) Generalized keyword (Brand & product)"
   ]
  },
  {
   "cell_type": "code",
   "execution_count": 43,
   "metadata": {},
   "outputs": [],
   "source": [
    "df_process_comment['token_text'] = df_process_comment['token_text'].apply(lambda x: generalize_keyword(x))"
   ]
  },
  {
   "cell_type": "code",
   "execution_count": 44,
   "metadata": {},
   "outputs": [],
   "source": [
    "df_process_comment['cmt_mention_brand'] = df_process_comment['token_text'].apply(lambda x: find_brands_product(x,'b'))\n",
    "df_process_comment['cmt_mention_product'] = df_process_comment['token_text'].apply(lambda x: find_brands_product(x,'p'))"
   ]
  },
  {
   "cell_type": "markdown",
   "metadata": {},
   "source": [
    "2.3) Insert comments to DB"
   ]
  },
  {
   "cell_type": "code",
   "execution_count": 46,
   "metadata": {
    "colab": {
     "base_uri": "https://localhost:8080/"
    },
    "id": "Hunm5MT7TCd2",
    "outputId": "15710375-8df1-46f0-85a2-04c66e1de5d9"
   },
   "outputs": [
    {
     "data": {
      "text/plain": [
       "<pymongo.results.InsertManyResult at 0x1d4f6841b88>"
      ]
     },
     "execution_count": 46,
     "metadata": {},
     "output_type": "execute_result"
    }
   ],
   "source": [
    "col_comment.delete_many({})\n",
    "process_data = create_InsertMany_comments(df_process_comment)\n",
    "col_comment.insert_many(process_data)"
   ]
  },
  {
   "cell_type": "markdown",
   "metadata": {},
   "source": [
    "2.4) Tokenize head of thread"
   ]
  },
  {
   "cell_type": "code",
   "execution_count": 47,
   "metadata": {},
   "outputs": [],
   "source": [
    "df_process_thread['token_text'] = df_process_thread['text'].apply(lambda x: tokenize_custom(x,trie))"
   ]
  },
  {
   "cell_type": "markdown",
   "metadata": {},
   "source": [
    "2.5) Generalized keyword (Brand & product)"
   ]
  },
  {
   "cell_type": "code",
   "execution_count": 48,
   "metadata": {},
   "outputs": [],
   "source": [
    "df_process_thread['token_text'] = df_process_thread['token_text'].apply(lambda x: generalize_keyword(x))"
   ]
  },
  {
   "cell_type": "markdown",
   "metadata": {},
   "source": [
    "2.6) Mark domain/entity mention"
   ]
  },
  {
   "cell_type": "code",
   "execution_count": 49,
   "metadata": {},
   "outputs": [],
   "source": [
    "df_process_thread['t_mention_brand'] = df_process_thread['token_text'].apply(lambda x: find_brands_product(x,'b'))\n",
    "df_process_thread['t_mention_product'] = df_process_thread['token_text'].apply(lambda x: find_brands_product(x,'p'))"
   ]
  },
  {
   "cell_type": "code",
   "execution_count": 50,
   "metadata": {},
   "outputs": [
    {
     "data": {
      "text/html": [
       "<div>\n",
       "<style scoped>\n",
       "    .dataframe tbody tr th:only-of-type {\n",
       "        vertical-align: middle;\n",
       "    }\n",
       "\n",
       "    .dataframe tbody tr th {\n",
       "        vertical-align: top;\n",
       "    }\n",
       "\n",
       "    .dataframe thead th {\n",
       "        text-align: right;\n",
       "    }\n",
       "</style>\n",
       "<table border=\"1\" class=\"dataframe\">\n",
       "  <thead>\n",
       "    <tr style=\"text-align: right;\">\n",
       "      <th></th>\n",
       "      <th>commentId</th>\n",
       "      <th>URLs</th>\n",
       "      <th>text</th>\n",
       "      <th>token_text</th>\n",
       "      <th>mention_product</th>\n",
       "      <th>mention_brand</th>\n",
       "      <th>t_mention_brand</th>\n",
       "      <th>t_mention_product</th>\n",
       "    </tr>\n",
       "  </thead>\n",
       "  <tbody>\n",
       "    <tr>\n",
       "      <th>0</th>\n",
       "      <td>1</td>\n",
       "      <td>https://pantip.com/topic/39868603</td>\n",
       "      <td>เมื่อก่อนหลายปีมาแล้ว ในเซเว่นยังมีนมเมจิรสหวา...</td>\n",
       "      <td>[ปี, 7-Eleven, ยังมี, นม, เมจิ, รสหวาน, ขาย, อ...</td>\n",
       "      <td>None</td>\n",
       "      <td>None</td>\n",
       "      <td>[เมจิ]</td>\n",
       "      <td>[นม, รสหวาน, นม, รสหวาน]</td>\n",
       "    </tr>\n",
       "    <tr>\n",
       "      <th>1</th>\n",
       "      <td>10</td>\n",
       "      <td>https://pantip.com/topic/39597709</td>\n",
       "      <td>ตามหัวข้อเลยค่ะ อยากรู้ว่านมเมจิที่ต้มก่อนนำไป...</td>\n",
       "      <td>[หัวข้อ, อยากรู้, นม, เมจิ, ต้ม, ส่วนผสม, เครื...</td>\n",
       "      <td>None</td>\n",
       "      <td>None</td>\n",
       "      <td>[เมจิ]</td>\n",
       "      <td>[นม, นมสด]</td>\n",
       "    </tr>\n",
       "    <tr>\n",
       "      <th>2</th>\n",
       "      <td>18</td>\n",
       "      <td>https://pantip.com/topic/39747201</td>\n",
       "      <td>วันก่อนซื้อ นมเมจิขวด 2 ลิตร มากิน สังเกตฝามัน...</td>\n",
       "      <td>[วันก่อน, ซื้อ, นม, เมจิ, ขวด, ลิตร, กิน, สังเ...</td>\n",
       "      <td>None</td>\n",
       "      <td>None</td>\n",
       "      <td>[เมจิ]</td>\n",
       "      <td>[นม, นม]</td>\n",
       "    </tr>\n",
       "    <tr>\n",
       "      <th>3</th>\n",
       "      <td>21</td>\n",
       "      <td>https://pantip.com/topic/39732615</td>\n",
       "      <td>อยากรู้ว่าMakroมีนมยี่ห้อ meiji(เมจิ) ขายมั้ยครับ</td>\n",
       "      <td>[อยากรู้, makro, นม, ยี่ห้อ, เมจิ, เมจิ, ขาย]</td>\n",
       "      <td>None</td>\n",
       "      <td>None</td>\n",
       "      <td>[เมจิ, เมจิ]</td>\n",
       "      <td>[นม]</td>\n",
       "    </tr>\n",
       "    <tr>\n",
       "      <th>4</th>\n",
       "      <td>28</td>\n",
       "      <td>https://pantip.com/topic/39005469</td>\n",
       "      <td>อยากถามว่า\\r\\n\\r\\n1.คิดค่าจัดส่งยังไงครับ\\r\\n2...</td>\n",
       "      <td>[ถาม, 1., ค่าจัดส่ง, 2., ซื้อ, ได้, ส่วนลด, 3....</td>\n",
       "      <td>None</td>\n",
       "      <td>None</td>\n",
       "      <td>[]</td>\n",
       "      <td>[]</td>\n",
       "    </tr>\n",
       "  </tbody>\n",
       "</table>\n",
       "</div>"
      ],
      "text/plain": [
       "   commentId                               URLs  \\\n",
       "0          1  https://pantip.com/topic/39868603   \n",
       "1         10  https://pantip.com/topic/39597709   \n",
       "2         18  https://pantip.com/topic/39747201   \n",
       "3         21  https://pantip.com/topic/39732615   \n",
       "4         28  https://pantip.com/topic/39005469   \n",
       "\n",
       "                                                text  \\\n",
       "0  เมื่อก่อนหลายปีมาแล้ว ในเซเว่นยังมีนมเมจิรสหวา...   \n",
       "1  ตามหัวข้อเลยค่ะ อยากรู้ว่านมเมจิที่ต้มก่อนนำไป...   \n",
       "2  วันก่อนซื้อ นมเมจิขวด 2 ลิตร มากิน สังเกตฝามัน...   \n",
       "3  อยากรู้ว่าMakroมีนมยี่ห้อ meiji(เมจิ) ขายมั้ยครับ   \n",
       "4  อยากถามว่า\\r\\n\\r\\n1.คิดค่าจัดส่งยังไงครับ\\r\\n2...   \n",
       "\n",
       "                                          token_text mention_product  \\\n",
       "0  [ปี, 7-Eleven, ยังมี, นม, เมจิ, รสหวาน, ขาย, อ...            None   \n",
       "1  [หัวข้อ, อยากรู้, นม, เมจิ, ต้ม, ส่วนผสม, เครื...            None   \n",
       "2  [วันก่อน, ซื้อ, นม, เมจิ, ขวด, ลิตร, กิน, สังเ...            None   \n",
       "3      [อยากรู้, makro, นม, ยี่ห้อ, เมจิ, เมจิ, ขาย]            None   \n",
       "4  [ถาม, 1., ค่าจัดส่ง, 2., ซื้อ, ได้, ส่วนลด, 3....            None   \n",
       "\n",
       "  mention_brand t_mention_brand         t_mention_product  \n",
       "0          None          [เมจิ]  [นม, รสหวาน, นม, รสหวาน]  \n",
       "1          None          [เมจิ]                [นม, นมสด]  \n",
       "2          None          [เมจิ]                  [นม, นม]  \n",
       "3          None    [เมจิ, เมจิ]                      [นม]  \n",
       "4          None              []                        []  "
      ]
     },
     "execution_count": 50,
     "metadata": {},
     "output_type": "execute_result"
    }
   ],
   "source": [
    "df_process_thread.head()"
   ]
  },
  {
   "cell_type": "markdown",
   "metadata": {},
   "source": [
    "2.7) Insert thread to DB"
   ]
  },
  {
   "cell_type": "code",
   "execution_count": 51,
   "metadata": {},
   "outputs": [
    {
     "data": {
      "text/plain": [
       "<pymongo.results.InsertManyResult at 0x1d4fa3bee08>"
      ]
     },
     "execution_count": 51,
     "metadata": {},
     "output_type": "execute_result"
    }
   ],
   "source": [
    "col_thread.delete_many({})\n",
    "process_data = create_InsertMany_Thread(df_process_thread)\n",
    "col_thread.insert_many(process_data)"
   ]
  },
  {
   "cell_type": "code",
   "execution_count": 52,
   "metadata": {
    "executionInfo": {
     "elapsed": 890,
     "status": "ok",
     "timestamp": 1604027734766,
     "user": {
      "displayName": "Pacharapol O.",
      "photoUrl": "https://lh3.googleusercontent.com/a-/AOh14GiBNaVjsCxoMVUqEvSDC7eauF0V2ZD7B-TzevR1TQ=s64",
      "userId": "00378494490135533545"
     },
     "user_tz": -420
    },
    "id": "J30GMUlJTCdh"
   },
   "outputs": [],
   "source": [
    "del df_textList1,df_textList2,df_thread,df_Corpus,df_process_comment,df_process_thread"
   ]
  },
  {
   "cell_type": "markdown",
   "metadata": {},
   "source": [
    "### 3.Process หัวกระทู้เพื่อดึง Domain (Brand & Product) ไม่ใช้โมเดลเทรนแล้วทำนาย ต้องการความถูกต้อง 100%"
   ]
  },
  {
   "cell_type": "markdown",
   "metadata": {},
   "source": [
    "เคสหลุดเงื่อนไข แต่ต้องใช้\n",
    "1. https://pantip.com/topic/34913724\n",
    "2. https://pantip.com/topic/31113277\n",
    "3. https://pantip.com/topic/30891578\n",
    "4. https://pantip.com/topic/30833944\n",
    "5. https://pantip.com/topic/30105850\n",
    "6. https://pantip.com/topic/35794830\n",
    "7. https://pantip.com/topic/35439062\n",
    "8. https://pantip.com/topic/31351300"
   ]
  },
  {
   "cell_type": "code",
   "execution_count": 78,
   "metadata": {},
   "outputs": [],
   "source": [
    "execption_urls = ['https://pantip.com/topic/34913724','https://pantip.com/topic/31113277','https://pantip.com/topic/30891578'\n",
    "                  ,'https://pantip.com/topic/30833944','https://pantip.com/topic/30105850','https://pantip.com/topic/35794830'\n",
    "                  ,'https://pantip.com/topic/35439062','https://pantip.com/topic/31351300']"
   ]
  },
  {
   "cell_type": "code",
   "execution_count": 83,
   "metadata": {},
   "outputs": [],
   "source": [
    "cursor_thread = col_thread.find()\n",
    "df_thr_process = pd.DataFrame(cursor_thread)"
   ]
  },
  {
   "cell_type": "code",
   "execution_count": 84,
   "metadata": {},
   "outputs": [],
   "source": [
    "cursor_comment = col_comment.find()\n",
    "df_cmt_process = pd.DataFrame(cursor_comment)"
   ]
  },
  {
   "cell_type": "code",
   "execution_count": 85,
   "metadata": {},
   "outputs": [],
   "source": [
    "df_urls_milk = df_thr_process[(df_thr_process.t_mention_product.str.len() != 0) | (df_thr_process.URLs.isin(execption_urls))]\n",
    "df_urls_milk['t_mention_brand'] = df_urls_milk['t_mention_brand'].apply(lambda x: repr(set(x)))\n",
    "df_urls_milk['t_mention_product'] = df_urls_milk['t_mention_product'].apply(lambda x: repr(set(x)))"
   ]
  },
  {
   "cell_type": "code",
   "execution_count": 93,
   "metadata": {
    "scrolled": true
   },
   "outputs": [
    {
     "data": {
      "text/html": [
       "<div>\n",
       "<style scoped>\n",
       "    .dataframe tbody tr th:only-of-type {\n",
       "        vertical-align: middle;\n",
       "    }\n",
       "\n",
       "    .dataframe tbody tr th {\n",
       "        vertical-align: top;\n",
       "    }\n",
       "\n",
       "    .dataframe thead th {\n",
       "        text-align: right;\n",
       "    }\n",
       "</style>\n",
       "<table border=\"1\" class=\"dataframe\">\n",
       "  <thead>\n",
       "    <tr style=\"text-align: right;\">\n",
       "      <th></th>\n",
       "      <th>_id</th>\n",
       "      <th>URLs</th>\n",
       "      <th>text</th>\n",
       "      <th>token_text</th>\n",
       "      <th>t_mention_product</th>\n",
       "      <th>t_mention_brand</th>\n",
       "    </tr>\n",
       "  </thead>\n",
       "  <tbody>\n",
       "    <tr>\n",
       "      <th>1506</th>\n",
       "      <td>5fc0a7fc2a2dbfccb4728c29</td>\n",
       "      <td>https://pantip.com/topic/30199155</td>\n",
       "      <td>มุมกาแฟ NONแดง ยินดีต้อนรับเฉพาะผู้ที่จริงใจ ไ...</td>\n",
       "      <td>[มุม, กาแฟ, non, แดง, ยินดีต้อนรับ, จริงใจ, ไม...</td>\n",
       "      <td>{'รสจืด'}</td>\n",
       "      <td>set()</td>\n",
       "    </tr>\n",
       "    <tr>\n",
       "      <th>1508</th>\n",
       "      <td>5fc0a7fc2a2dbfccb4728c2b</td>\n",
       "      <td>https://pantip.com/topic/30059506</td>\n",
       "      <td>อยากทราบว่าคุณแม่ที่คลอดลูกแล้ว\\nตอนท้อง บำรุง...</td>\n",
       "      <td>[ทราบ, คุณแม่, คลอดลูก, ตอน, ท้อง, บำรุง, อาหา...</td>\n",
       "      <td>{'นม'}</td>\n",
       "      <td>set()</td>\n",
       "    </tr>\n",
       "    <tr>\n",
       "      <th>1509</th>\n",
       "      <td>5fc0a7fc2a2dbfccb4728c2c</td>\n",
       "      <td>https://pantip.com/topic/30007179</td>\n",
       "      <td>กำลังจะเป็นคุณแม่มือใหม่ค่ะ ทำตัวไม่ถูกเลยค่ะ\\...</td>\n",
       "      <td>[คุณแม่มือใหม่, ทำตัว, ไม่, ทราบ, ที่จะ, กินนม...</td>\n",
       "      <td>{'กินนม'}</td>\n",
       "      <td>set()</td>\n",
       "    </tr>\n",
       "    <tr>\n",
       "      <th>1510</th>\n",
       "      <td>5fc0a7fc2a2dbfccb4728c2d</td>\n",
       "      <td>https://pantip.com/topic/30020409</td>\n",
       "      <td>พรุ่งนี้ลูกชายอายุครบ 1 ขวบ 3 เดือน หม่ำนมแม่จ...</td>\n",
       "      <td>[พรุ่งนี้, ลูกชาย, อายุ, ขวบ, เดือน, หม่ำ, นม,...</td>\n",
       "      <td>{'นม'}</td>\n",
       "      <td>set()</td>\n",
       "    </tr>\n",
       "    <tr>\n",
       "      <th>1513</th>\n",
       "      <td>5fc0a7fc2a2dbfccb4728c30</td>\n",
       "      <td>https://pantip.com/topic/30651064</td>\n",
       "      <td>อยากรู้ว่าปัจจุบันพวกนมกล่องทึ่ขายใน 7-11 หรือ...</td>\n",
       "      <td>[อยากรู้, นมกล่อง, ทึ่, ขาย, 7-Eleven, ห้างสรร...</td>\n",
       "      <td>{'นมวัว', 'นม', 'นมกล่อง', 'น้ำนมโค'}</td>\n",
       "      <td>set()</td>\n",
       "    </tr>\n",
       "  </tbody>\n",
       "</table>\n",
       "</div>"
      ],
      "text/plain": [
       "                           _id                               URLs  \\\n",
       "1506  5fc0a7fc2a2dbfccb4728c29  https://pantip.com/topic/30199155   \n",
       "1508  5fc0a7fc2a2dbfccb4728c2b  https://pantip.com/topic/30059506   \n",
       "1509  5fc0a7fc2a2dbfccb4728c2c  https://pantip.com/topic/30007179   \n",
       "1510  5fc0a7fc2a2dbfccb4728c2d  https://pantip.com/topic/30020409   \n",
       "1513  5fc0a7fc2a2dbfccb4728c30  https://pantip.com/topic/30651064   \n",
       "\n",
       "                                                   text  \\\n",
       "1506  มุมกาแฟ NONแดง ยินดีต้อนรับเฉพาะผู้ที่จริงใจ ไ...   \n",
       "1508  อยากทราบว่าคุณแม่ที่คลอดลูกแล้ว\\nตอนท้อง บำรุง...   \n",
       "1509  กำลังจะเป็นคุณแม่มือใหม่ค่ะ ทำตัวไม่ถูกเลยค่ะ\\...   \n",
       "1510  พรุ่งนี้ลูกชายอายุครบ 1 ขวบ 3 เดือน หม่ำนมแม่จ...   \n",
       "1513  อยากรู้ว่าปัจจุบันพวกนมกล่องทึ่ขายใน 7-11 หรือ...   \n",
       "\n",
       "                                             token_text  \\\n",
       "1506  [มุม, กาแฟ, non, แดง, ยินดีต้อนรับ, จริงใจ, ไม...   \n",
       "1508  [ทราบ, คุณแม่, คลอดลูก, ตอน, ท้อง, บำรุง, อาหา...   \n",
       "1509  [คุณแม่มือใหม่, ทำตัว, ไม่, ทราบ, ที่จะ, กินนม...   \n",
       "1510  [พรุ่งนี้, ลูกชาย, อายุ, ขวบ, เดือน, หม่ำ, นม,...   \n",
       "1513  [อยากรู้, นมกล่อง, ทึ่, ขาย, 7-Eleven, ห้างสรร...   \n",
       "\n",
       "                          t_mention_product t_mention_brand  \n",
       "1506                              {'รสจืด'}           set()  \n",
       "1508                                 {'นม'}           set()  \n",
       "1509                              {'กินนม'}           set()  \n",
       "1510                                 {'นม'}           set()  \n",
       "1513  {'นมวัว', 'นม', 'นมกล่อง', 'น้ำนมโค'}           set()  "
      ]
     },
     "execution_count": 93,
     "metadata": {},
     "output_type": "execute_result"
    }
   ],
   "source": [
    "df_urls_milk.tail()"
   ]
  },
  {
   "cell_type": "code",
   "execution_count": 87,
   "metadata": {},
   "outputs": [],
   "source": [
    "df_join_url = pd.merge(df_urls_milk,df_cmt_process,how='inner',on='URLs')\n",
    "df_join_url.drop(columns=['Table','_id_x','_id_y','text_x','token_text_x','cmt_mention_brand','cmt_mention_product'],inplace=True)\n",
    "df_join_url.columns = ['URLs','t_mention_brand','t_mention_product'\n",
    "                       ,'Retrived_date','commentId','comment_text','token_text',]"
   ]
  },
  {
   "cell_type": "code",
   "execution_count": 88,
   "metadata": {},
   "outputs": [
    {
     "data": {
      "text/html": [
       "<div>\n",
       "<style scoped>\n",
       "    .dataframe tbody tr th:only-of-type {\n",
       "        vertical-align: middle;\n",
       "    }\n",
       "\n",
       "    .dataframe tbody tr th {\n",
       "        vertical-align: top;\n",
       "    }\n",
       "\n",
       "    .dataframe thead th {\n",
       "        text-align: right;\n",
       "    }\n",
       "</style>\n",
       "<table border=\"1\" class=\"dataframe\">\n",
       "  <thead>\n",
       "    <tr style=\"text-align: right;\">\n",
       "      <th></th>\n",
       "      <th>URLs</th>\n",
       "      <th>t_mention_brand</th>\n",
       "      <th>t_mention_product</th>\n",
       "      <th>Retrived_date</th>\n",
       "      <th>commentId</th>\n",
       "      <th>comment_text</th>\n",
       "      <th>token_text</th>\n",
       "    </tr>\n",
       "  </thead>\n",
       "  <tbody>\n",
       "    <tr>\n",
       "      <th>0</th>\n",
       "      <td>https://pantip.com/topic/39868603</td>\n",
       "      <td>{'รสหวาน', 'นม'}</td>\n",
       "      <td>{'เมจิ'}</td>\n",
       "      <td>1</td>\n",
       "      <td>เมื่อก่อนหลายปีมาแล้ว ในเซเว่นยังมีนมเมจิรสหวา...</td>\n",
       "      <td>2020-10-26 12:40:26.135083</td>\n",
       "      <td>[ปี, 7-Eleven, ยังมี, นม, เมจิ, รสหวาน, ขาย, อ...</td>\n",
       "    </tr>\n",
       "    <tr>\n",
       "      <th>1</th>\n",
       "      <td>https://pantip.com/topic/39868603</td>\n",
       "      <td>{'รสหวาน', 'นม'}</td>\n",
       "      <td>{'เมจิ'}</td>\n",
       "      <td>2</td>\n",
       "      <td>เบาหวานครับ แฮ่ๆ</td>\n",
       "      <td>2020-10-26 12:40:26.135083</td>\n",
       "      <td>[เบาหวาน]</td>\n",
       "    </tr>\n",
       "    <tr>\n",
       "      <th>2</th>\n",
       "      <td>https://pantip.com/topic/39868603</td>\n",
       "      <td>{'รสหวาน', 'นม'}</td>\n",
       "      <td>{'เมจิ'}</td>\n",
       "      <td>3</td>\n",
       "      <td>หาซื้อไม่ได้นี่คิดได้  2 อย่างนะ.    คนไม่ค่อย...</td>\n",
       "      <td>2020-10-26 12:40:26.135083</td>\n",
       "      <td>[หา, ซื้อไม่ได้, คิดได้, , .    คน, กินกัน, ไม...</td>\n",
       "    </tr>\n",
       "  </tbody>\n",
       "</table>\n",
       "</div>"
      ],
      "text/plain": [
       "                                URLs   t_mention_brand t_mention_product  \\\n",
       "0  https://pantip.com/topic/39868603  {'รสหวาน', 'นม'}          {'เมจิ'}   \n",
       "1  https://pantip.com/topic/39868603  {'รสหวาน', 'นม'}          {'เมจิ'}   \n",
       "2  https://pantip.com/topic/39868603  {'รสหวาน', 'นม'}          {'เมจิ'}   \n",
       "\n",
       "   Retrived_date                                          commentId  \\\n",
       "0              1  เมื่อก่อนหลายปีมาแล้ว ในเซเว่นยังมีนมเมจิรสหวา...   \n",
       "1              2                                   เบาหวานครับ แฮ่ๆ   \n",
       "2              3  หาซื้อไม่ได้นี่คิดได้  2 อย่างนะ.    คนไม่ค่อย...   \n",
       "\n",
       "                 comment_text  \\\n",
       "0  2020-10-26 12:40:26.135083   \n",
       "1  2020-10-26 12:40:26.135083   \n",
       "2  2020-10-26 12:40:26.135083   \n",
       "\n",
       "                                          token_text  \n",
       "0  [ปี, 7-Eleven, ยังมี, นม, เมจิ, รสหวาน, ขาย, อ...  \n",
       "1                                          [เบาหวาน]  \n",
       "2  [หา, ซื้อไม่ได้, คิดได้, , .    คน, กินกัน, ไม...  "
      ]
     },
     "execution_count": 88,
     "metadata": {},
     "output_type": "execute_result"
    }
   ],
   "source": [
    "df_join_url.head(3)"
   ]
  },
  {
   "cell_type": "markdown",
   "metadata": {},
   "source": [
    "EDA#2"
   ]
  },
  {
   "cell_type": "code",
   "execution_count": 89,
   "metadata": {},
   "outputs": [
    {
     "name": "stderr",
     "output_type": "stream",
     "text": [
      "C:\\ProgramData\\Anaconda3\\lib\\site-packages\\ipykernel_launcher.py:2: UserWarning: Pandas doesn't allow columns to be created via a new attribute name - see https://pandas.pydata.org/pandas-docs/stable/indexing.html#attribute-access\n",
      "  \n"
     ]
    }
   ],
   "source": [
    "df_view = df_urls_milk[['URLs','t_mention_product']]\n",
    "df_view.column = ['URLs','t_mention_product']\n",
    "df_view_count = df_view.groupby('t_mention_product').count()"
   ]
  },
  {
   "cell_type": "code",
   "execution_count": 94,
   "metadata": {},
   "outputs": [],
   "source": [
    "df_c_urls_milk = df_cmt_process[(df_cmt_process.cmt_mention_product.str.len() != 0) | (df_thr_process.URLs.isin(execption_urls))]\n",
    "df_c_urls_milk['cmt_mention_brand'] = df_c_urls_milk['cmt_mention_brand'].apply(lambda x: repr(set(x)))\n",
    "df_c_urls_milk['cmt_mention_product'] = df_c_urls_milk['cmt_mention_product'].apply(lambda x: repr(set(x)))"
   ]
  },
  {
   "cell_type": "code",
   "execution_count": 95,
   "metadata": {},
   "outputs": [
    {
     "name": "stderr",
     "output_type": "stream",
     "text": [
      "C:\\ProgramData\\Anaconda3\\lib\\site-packages\\ipykernel_launcher.py:2: UserWarning: Pandas doesn't allow columns to be created via a new attribute name - see https://pandas.pydata.org/pandas-docs/stable/indexing.html#attribute-access\n",
      "  \n"
     ]
    }
   ],
   "source": [
    "df_view2 = df_c_urls_milk[['URLs','cmt_mention_product']]\n",
    "df_view2.column = ['URLs','cmt_mention_product']\n",
    "df_view_count2 = df_view2.groupby('cmt_mention_product').count()"
   ]
  },
  {
   "cell_type": "code",
   "execution_count": 99,
   "metadata": {
    "scrolled": true
   },
   "outputs": [
    {
     "data": {
      "text/html": [
       "<div>\n",
       "<style scoped>\n",
       "    .dataframe tbody tr th:only-of-type {\n",
       "        vertical-align: middle;\n",
       "    }\n",
       "\n",
       "    .dataframe tbody tr th {\n",
       "        vertical-align: top;\n",
       "    }\n",
       "\n",
       "    .dataframe thead th {\n",
       "        text-align: right;\n",
       "    }\n",
       "</style>\n",
       "<table border=\"1\" class=\"dataframe\">\n",
       "  <thead>\n",
       "    <tr style=\"text-align: right;\">\n",
       "      <th></th>\n",
       "      <th>_id</th>\n",
       "      <th>URLs</th>\n",
       "      <th>text</th>\n",
       "      <th>token_text</th>\n",
       "      <th>t_mention_product</th>\n",
       "      <th>t_mention_brand</th>\n",
       "    </tr>\n",
       "  </thead>\n",
       "  <tbody>\n",
       "    <tr>\n",
       "      <th>1506</th>\n",
       "      <td>5fc0a7fc2a2dbfccb4728c29</td>\n",
       "      <td>https://pantip.com/topic/30199155</td>\n",
       "      <td>มุมกาแฟ NONแดง ยินดีต้อนรับเฉพาะผู้ที่จริงใจ ไ...</td>\n",
       "      <td>[มุม, กาแฟ, non, แดง, ยินดีต้อนรับ, จริงใจ, ไม...</td>\n",
       "      <td>{'รสจืด'}</td>\n",
       "      <td>set()</td>\n",
       "    </tr>\n",
       "    <tr>\n",
       "      <th>1508</th>\n",
       "      <td>5fc0a7fc2a2dbfccb4728c2b</td>\n",
       "      <td>https://pantip.com/topic/30059506</td>\n",
       "      <td>อยากทราบว่าคุณแม่ที่คลอดลูกแล้ว\\nตอนท้อง บำรุง...</td>\n",
       "      <td>[ทราบ, คุณแม่, คลอดลูก, ตอน, ท้อง, บำรุง, อาหา...</td>\n",
       "      <td>{'นม'}</td>\n",
       "      <td>set()</td>\n",
       "    </tr>\n",
       "    <tr>\n",
       "      <th>1509</th>\n",
       "      <td>5fc0a7fc2a2dbfccb4728c2c</td>\n",
       "      <td>https://pantip.com/topic/30007179</td>\n",
       "      <td>กำลังจะเป็นคุณแม่มือใหม่ค่ะ ทำตัวไม่ถูกเลยค่ะ\\...</td>\n",
       "      <td>[คุณแม่มือใหม่, ทำตัว, ไม่, ทราบ, ที่จะ, กินนม...</td>\n",
       "      <td>{'กินนม'}</td>\n",
       "      <td>set()</td>\n",
       "    </tr>\n",
       "    <tr>\n",
       "      <th>1510</th>\n",
       "      <td>5fc0a7fc2a2dbfccb4728c2d</td>\n",
       "      <td>https://pantip.com/topic/30020409</td>\n",
       "      <td>พรุ่งนี้ลูกชายอายุครบ 1 ขวบ 3 เดือน หม่ำนมแม่จ...</td>\n",
       "      <td>[พรุ่งนี้, ลูกชาย, อายุ, ขวบ, เดือน, หม่ำ, นม,...</td>\n",
       "      <td>{'นม'}</td>\n",
       "      <td>set()</td>\n",
       "    </tr>\n",
       "    <tr>\n",
       "      <th>1513</th>\n",
       "      <td>5fc0a7fc2a2dbfccb4728c30</td>\n",
       "      <td>https://pantip.com/topic/30651064</td>\n",
       "      <td>อยากรู้ว่าปัจจุบันพวกนมกล่องทึ่ขายใน 7-11 หรือ...</td>\n",
       "      <td>[อยากรู้, นมกล่อง, ทึ่, ขาย, 7-Eleven, ห้างสรร...</td>\n",
       "      <td>{'นมวัว', 'นม', 'นมกล่อง', 'น้ำนมโค'}</td>\n",
       "      <td>set()</td>\n",
       "    </tr>\n",
       "  </tbody>\n",
       "</table>\n",
       "</div>"
      ],
      "text/plain": [
       "                           _id                               URLs  \\\n",
       "1506  5fc0a7fc2a2dbfccb4728c29  https://pantip.com/topic/30199155   \n",
       "1508  5fc0a7fc2a2dbfccb4728c2b  https://pantip.com/topic/30059506   \n",
       "1509  5fc0a7fc2a2dbfccb4728c2c  https://pantip.com/topic/30007179   \n",
       "1510  5fc0a7fc2a2dbfccb4728c2d  https://pantip.com/topic/30020409   \n",
       "1513  5fc0a7fc2a2dbfccb4728c30  https://pantip.com/topic/30651064   \n",
       "\n",
       "                                                   text  \\\n",
       "1506  มุมกาแฟ NONแดง ยินดีต้อนรับเฉพาะผู้ที่จริงใจ ไ...   \n",
       "1508  อยากทราบว่าคุณแม่ที่คลอดลูกแล้ว\\nตอนท้อง บำรุง...   \n",
       "1509  กำลังจะเป็นคุณแม่มือใหม่ค่ะ ทำตัวไม่ถูกเลยค่ะ\\...   \n",
       "1510  พรุ่งนี้ลูกชายอายุครบ 1 ขวบ 3 เดือน หม่ำนมแม่จ...   \n",
       "1513  อยากรู้ว่าปัจจุบันพวกนมกล่องทึ่ขายใน 7-11 หรือ...   \n",
       "\n",
       "                                             token_text  \\\n",
       "1506  [มุม, กาแฟ, non, แดง, ยินดีต้อนรับ, จริงใจ, ไม...   \n",
       "1508  [ทราบ, คุณแม่, คลอดลูก, ตอน, ท้อง, บำรุง, อาหา...   \n",
       "1509  [คุณแม่มือใหม่, ทำตัว, ไม่, ทราบ, ที่จะ, กินนม...   \n",
       "1510  [พรุ่งนี้, ลูกชาย, อายุ, ขวบ, เดือน, หม่ำ, นม,...   \n",
       "1513  [อยากรู้, นมกล่อง, ทึ่, ขาย, 7-Eleven, ห้างสรร...   \n",
       "\n",
       "                          t_mention_product t_mention_brand  \n",
       "1506                              {'รสจืด'}           set()  \n",
       "1508                                 {'นม'}           set()  \n",
       "1509                              {'กินนม'}           set()  \n",
       "1510                                 {'นม'}           set()  \n",
       "1513  {'นมวัว', 'นม', 'นมกล่อง', 'น้ำนมโค'}           set()  "
      ]
     },
     "execution_count": 99,
     "metadata": {},
     "output_type": "execute_result"
    }
   ],
   "source": [
    "df_urls_milk.tail()"
   ]
  },
  {
   "cell_type": "code",
   "execution_count": 101,
   "metadata": {},
   "outputs": [
    {
     "name": "stdout",
     "output_type": "stream",
     "text": [
      "จำนวนกระทู้ 1514\n",
      "จำนวน comment 60545\n",
      "จำนวนกระทู้พูดถึงนม 767\n",
      "จำนวน comment พูดถึงนม 8962\n",
      "หมายเหตุ : ไม่ได้ impute ขั้วกระทู้เข้า comment\n"
     ]
    }
   ],
   "source": [
    "print('จำนวนกระทู้',df_thr_process.shape[0])\n",
    "print('จำนวน comment',df_cmt_process.shape[0])\n",
    "print('จำนวนกระทู้พูดถึงนม',df_urls_milk.shape[0])\n",
    "print('จำนวน comment พูดถึงนม',df_c_urls_milk.shape[0])\n",
    "print('หมายเหตุ : ไม่ได้ impute ขั้วกระทู้เข้า comment')"
   ]
  },
  {
   "cell_type": "code",
   "execution_count": 103,
   "metadata": {
    "scrolled": false
   },
   "outputs": [],
   "source": [
    "#df_view_count2.sort_values(by='URLs',ascending=False)"
   ]
  },
  {
   "cell_type": "markdown",
   "metadata": {},
   "source": [
    "### 4.ทำ Topic Modeling และคัดเลือกกระทู้ที่มีความเกี่ยวข้อง แล้วดึงคำไปใช้"
   ]
  },
  {
   "cell_type": "code",
   "execution_count": null,
   "metadata": {},
   "outputs": [],
   "source": [
    "dictionary = gensim.corpora.Dictionary(df_join_url['token_text'])\n",
    "gensim_corpus = [dictionary.doc2bow(text, allow_update=True) for text in df_join_url['token_text']]\n",
    "word_frequencies = [[(dictionary[id], frequence) for id, frequence in couple] for couple in gensim_corpus]"
   ]
  },
  {
   "cell_type": "code",
   "execution_count": null,
   "metadata": {},
   "outputs": [],
   "source": [
    "#num_topics = 9\n",
    "chunksize = 4000                  # size of the doc looked at every pass\n",
    "iterations = 50\n",
    "eval_every = 1                    # Don't evaluate model perplexity, takes too much time.\n",
    "\n",
    "# Make a index to word dictionary.\n",
    "temp = dictionary[0]  # This is only to \"load\" the dictionary.\n",
    "id2word = dictionary.id2token\n",
    "\n",
    "%time model = gensim.models.LdaModel(corpus=gensim_corpus, id2word=id2word, chunksize=chunksize \\\n",
    "                                     ,alpha='auto', eta='auto',iterations=iterations, eval_every=eval_every)\n",
    "                                     #,num_topics=num_topics \\\n",
    "                                     #, eval_every=eval_every)"
   ]
  },
  {
   "cell_type": "code",
   "execution_count": null,
   "metadata": {},
   "outputs": [],
   "source": [
    "pyLDAvis.gensim.prepare(model, gensim_corpus, dictionary, R=40, lambda_step=0.1)"
   ]
  },
  {
   "cell_type": "markdown",
   "metadata": {},
   "source": [
    "### 5.get_term_topics เทียบคำที่ได้ไป Review Literature ตามค่าความน่าจะเป็น แล้วสรุป Term"
   ]
  },
  {
   "cell_type": "markdown",
   "metadata": {},
   "source": [
    "https://radimrehurek.com/gensim/models/ldamodel.html"
   ]
  },
  {
   "cell_type": "markdown",
   "metadata": {},
   "source": [
    "<b>Domain ที่พบหลักๆ นอกเหนือจากตัว Product ห้างที่ขาย แบรนด์ (อย่างไรก็ตามต้องทำ LDA Vis อีกรอบเพื่อจัดกลุ่มใหม่หลังคัดเลือก Topic/Term)</b><br>\n",
    "ค้นหาเทียบเคียงกับ ปัจจัยที่มีผลต่อการบริโภคนม\n",
    "1. แม่และเด็ก (Kurajdova et al, 2015)\n",
    "2. ออกกำลังกาย เล่นเวท วิ่ง พูดถึง Whey หางนม โปรตีน เป็นหลัก (คิดว่าแตกจากหมวดสุขภาพ)\n",
    "3. โปรโมชั่น เช่น จัดโปร ส่วนลด พันแถม แพ๊กคู่ (สุภชาติ ชัยณรงค์สิงห์, 2539)\n",
    "4. เอานมให้หมาแมวกิน (เทรนด์ใหม่)\n",
    "5. รสชาติและคุณภาพ เช่น หอม เหม็น มัน อร่อย บูด เสีย GMP (ชาลิสา สถีระกานนท์, 2560)\n",
    "6. ความยากง่ายในการหาซื้อ (Aen De Alwis et al, 2009 & สุภชาติ ชัยณรงค์สิงห์, 2539)\n",
    "7. ทำกาแฟ ทำขนม (Kurajdova et al, 2015)\n",
    "8. สุขภาพ ความสูง ส่วนผสมเพื่อสุขภาพ การขับถ่าย อนุมูลอิสระ (Kurajdova et al, 2015 & Aen De Alwis et al, 2009 & สุภชาติ ชัยณรงค์สิงห์, 2539)\n",
    "9. ราคาและความคุ้มค่า (ปิยฉัตร ช่างเหล็ก, 2561)\n",
    "<br><br>ตรงนี้ต้องหา Paper มาช่วยยันในบางหัวข้อ ถ้ามีส่วนเกินถือว่าเป็นบริบทของประเทศไทย"
   ]
  },
  {
   "cell_type": "raw",
   "metadata": {},
   "source": [
    "#Get the most relevant topics to the given word.\n",
    "# Set probability = 0.0001\n",
    "\n",
    "def get_terms_topics(term_text, d, model, minProb=0.0001):\n",
    "    listofTup = []\n",
    "    for tt_couple in model.get_term_topics(dictionary.token2id[term_text], minimum_probability=minProb):\n",
    "        id_, prob = tt_couple\n",
    "        listofTup.append((d[id_], prob))\n",
    "    df = pd.DataFrame(listofTup)\n",
    "    df.insert(0,'Term',value=term_text)\n",
    "    df.columns = ['Term','topic','prob']\n",
    "    return df.sort_values(by='prob', ascending=False)"
   ]
  },
  {
   "cell_type": "raw",
   "metadata": {},
   "source": [
    "#Get the most relevant topics to the given word.\n",
    "# Set probability = 0.0001\n",
    "\n",
    "def get_topics_terms(topic, d, model, minProb=0.0001):\n",
    "    listofTup = []\n",
    "    for tt_couple in model.get_topic_terms(topic,topn=30):\n",
    "        id_, prob = tt_couple\n",
    "        listofTup.append((d[id_], prob))\n",
    "    df = pd.DataFrame(listofTup)\n",
    "    df.insert(0,'Topic',value=d[topic])\n",
    "    df.columns = ['Topic','term','prob']\n",
    "    return df.sort_values(by='prob', ascending=False)"
   ]
  },
  {
   "cell_type": "raw",
   "metadata": {
    "scrolled": true
   },
   "source": [
    "# องค์ประกอบพื้นฐาน ตาม master ที่ใช้ตัดคำ และ Generalized\n",
    "#get_terms_topics('ซื้อ',dictionary,model)\n",
    "#get_terms_topics('ขาย',dictionary,model)\n",
    "\n",
    "# ไล่เช็คทีละ Topic โดยเลือกจาก Top30 Prob แต่ละกลุ่ม และดูตัวที่สนใจ (ตามทบทวนวรรณกรรม)\n",
    "# สุดที่ 99 กลุ่ม\n",
    "#get_topics_terms(99,dictionary,model).head(3)"
   ]
  },
  {
   "cell_type": "markdown",
   "metadata": {},
   "source": [
    "### 6.สรุป Term & reduced_keyword"
   ]
  },
  {
   "cell_type": "code",
   "execution_count": 104,
   "metadata": {},
   "outputs": [],
   "source": [
    "attrributes = ['การบูด','โปร','โปรโมชั่น','แถม','บูด','เป็นผลดี','หา','หมดอายุ', 'กลิ่น','หอม','กลิ่นหอม', 'แนะนำ', 'กิน', 'shelf life','แม่','คุณแม่'\n",
    " ,'ลูก','เด็ก','เลี้ยงลูก','เลี้ยงเด็ก','พัฒนาการ','คุณแม่มือใหม่','สั่ง', 'ค่าใช้จ่าย', 'เพิ่มขึ้น', 'สินค้า', 'ชอบ','นิยม', 'สี', 'ซื้อไม่ได้'\n",
    " , 'ทิ้ง', 'จืด','หวาน' , 'fat', 'นิยม','ราคาสูง','กาแฟ','ชงกาแฟ','หาย','ต้ม','อุ่น','ร้อน', 'พื้นฐาน', 'ขายไม่ดี','สูง','ส่วนสูง'\n",
    " , 'กาแฟสด', 'จ่าย', 'ไขมันต่ำ', 'นม', 'ขาย', 'รส','รสชาติ', 'รสหวาน','กลมกล่อม','ไขมัน','พนักงาน','ไมโครเวฟ','ฟาร์ม'\n",
    " ,'ส่วนผสม','ผสม','เบาหวาน','รสพื้นฐาน','โปรตีน','เวย์','เวท','วิ่ง','protein','whey','ขับถ่าย','อึ','dha','น้ำตาล','เบาหวาน'\n",
    " ,'ฝา', 'นมสด','ถ้วย', 'ร้าน', 'ดื่ม', 'เซเว่น', 'ขวด', 'นึกถึง', 'เสียใจ', 'แตก', 'ซื้อ','ขาย','มีลูก','เทรนเนอร์'\n",
    " ,'ขายไม่ดี','แพคคู่','ค่าจัดส่ง','shelf life','พนักงานขายนม','แพ้นม','แพ้นมวัว','เล่นเวท','ฝาน้ำเงิน','ฝาสีเขียว'\n",
    " ,'นมอุ่น','ชานม','กินนม','ดื่มนม','ท้องเสีย','ลูกสุนัข','สุนัข','หมา','แมว','คายทิ้ง','เจมส์จิ','แป้ง','ลดราคา'\n",
    " ,'ซื้อประจำ','ซื้อไม่ได้','คาปูชิโน่','อเมริกาโน่','ร้านนม','whey formula','ผิดสังเกต','เสียความรู้สึก','ชี้แจง','บำรุง','น้ำผึ้ง'\n",
    " ,'อาหารเสริม','มีประโยชน์','วิตามิน','นมผง','แคลเซี่ยม','ท้อง','แพะ','อร่อย','โภชนาการ','โรงเรียน','พ่อแม่','ครู','ยูเอชที'\n",
    " ,'ผู้บริโภค','ขโมย','ไอโอดีน','นมข้นหวาน','เนย','ตรวจสอบ','แกลลอน','มันดี','นมวัว','อาเจียน','เวฟ','ไมโครเวฟ','สารอาหาร'\n",
    " ,'ขนส่ง','ถูก','แพง','เค้ก','ทิ้ง','วันหมดอายุ','โอเมก้า','กล่อง','พลังงาน','โภชนาการ','ขนมปัง','ของแถม','ราคาสูง','น้ำนมโค'\n",
    " ,'บรรจุภัณฑ์','นมถั่วเหลือง','ความแข็งแรง','แข็งแรง','พรีเซ็นเตอร์','ญี่ปุ่น','น้ำผลไม้','ออกกำลังกาย','ประหยัด','วิปปิ้ง','uht','เชื้อจุลินทรีย์'\n",
    " ,'แลคโตส']\n",
    "\n",
    "products = ['สตรอว์เบอร์รี','ช็อกโกแลต','กาแฟ','รสหวาน','รสจืด','รสกาแฟ','ไขมันต่ำ','ไขมัน 0%','ไฮโปรตีน','อัลมอนด์'\n",
    ",'รสกล้วย','grass fed','นมฟรีแลคโตส','พาสเจอร์ไรส์','เมจิโกลด์','นมฮอกไกโด','เบดไทม์','ดาร์คช็อกโกแลต','ไฮแคลเซียม'\n",
    ",'คาราเมล','มอลต์','เมล่อน','ชาเขียวมัจฉะ','บัลแกเรีย','โยเกิร์ต','รสธรรมชาติ','รสกลมกล่อม','โยเกิร์ต','ซากุระ','โคล่า'\n",
    ",'แตงโม']\n",
    "\n",
    "brands = ['ดัชมิลล์','เมจิ','โฟร์โมสต์','โชคชัย','แดรี่โฮม','เอ็มมิลค์','แมคโนเลีย','ไทยเดนมาร์ค'\n",
    "          ,'หนองโพ','คาเนชั่น','บีทาเก้น','จิตรลดา']\n",
    "stores = ['tops','makro','lotus','bigc','7-Eleven']\n",
    "\n",
    "reduceCol = attrributes + products + stores"
   ]
  },
  {
   "cell_type": "code",
   "execution_count": 105,
   "metadata": {},
   "outputs": [
    {
     "data": {
      "text/plain": [
       "211"
      ]
     },
     "execution_count": 105,
     "metadata": {},
     "output_type": "execute_result"
    }
   ],
   "source": [
    "len(reduceCol)"
   ]
  },
  {
   "cell_type": "code",
   "execution_count": 106,
   "metadata": {},
   "outputs": [],
   "source": [
    "def reduced_keyword(wtkn,redCol):\n",
    "    del_list = []\n",
    "    ret_wtkn = wtkn\n",
    "    for each in ret_wtkn:\n",
    "        if each not in redCol:\n",
    "            del_list.append(each)\n",
    "    ret_wtkn = [x for x in ret_wtkn if x not in del_list]\n",
    "    return ret_wtkn"
   ]
  },
  {
   "cell_type": "markdown",
   "metadata": {
    "id": "NKW--A73mzli"
   },
   "source": [
    "### 7.สร้าง (Custom) Bag of word ด้วย dictionary.doc2bow จัดลง dataframe"
   ]
  },
  {
   "cell_type": "code",
   "execution_count": 107,
   "metadata": {},
   "outputs": [],
   "source": [
    "cursor_thread = col_thread.find()\n",
    "df_thr_process = pd.DataFrame(cursor_thread)"
   ]
  },
  {
   "cell_type": "code",
   "execution_count": 108,
   "metadata": {},
   "outputs": [],
   "source": [
    "cursor_comment = col_comment.find()\n",
    "df_cmt_process = pd.DataFrame(cursor_comment)"
   ]
  },
  {
   "cell_type": "code",
   "execution_count": 109,
   "metadata": {},
   "outputs": [],
   "source": [
    "df_urls_milk = df_thr_process[(df_thr_process.t_mention_product.str.len() != 0) | (df_thr_process.URLs.isin(execption_urls))]\n",
    "df_urls_milk['t_mention_brand'] = df_urls_milk['t_mention_brand'].apply(lambda x: repr(x))\n",
    "df_urls_milk['t_mention_product'] = df_urls_milk['t_mention_product'].apply(lambda x: repr(x))"
   ]
  },
  {
   "cell_type": "code",
   "execution_count": 110,
   "metadata": {},
   "outputs": [],
   "source": [
    "df_join_url = pd.merge(df_urls_milk,df_cmt_process,how='inner',on='URLs')\n",
    "df_join_url.drop(columns=['Table','_id_x','_id_y','text_x','token_text_x','cmt_mention_brand','cmt_mention_product'],inplace=True)\n",
    "df_join_url.columns = ['URLs','t_mention_product','t_mention_brand','commentId'\n",
    "                       ,'comment_text','Retrived_date','token_text',]"
   ]
  },
  {
   "cell_type": "code",
   "execution_count": 111,
   "metadata": {},
   "outputs": [],
   "source": [
    "df_join_url['token_text_reduce'] = df_join_url['token_text'].apply(lambda x: reduced_keyword(x,reduceCol))"
   ]
  },
  {
   "cell_type": "code",
   "execution_count": 112,
   "metadata": {
    "scrolled": true
   },
   "outputs": [
    {
     "data": {
      "text/html": [
       "<div>\n",
       "<style scoped>\n",
       "    .dataframe tbody tr th:only-of-type {\n",
       "        vertical-align: middle;\n",
       "    }\n",
       "\n",
       "    .dataframe tbody tr th {\n",
       "        vertical-align: top;\n",
       "    }\n",
       "\n",
       "    .dataframe thead th {\n",
       "        text-align: right;\n",
       "    }\n",
       "</style>\n",
       "<table border=\"1\" class=\"dataframe\">\n",
       "  <thead>\n",
       "    <tr style=\"text-align: right;\">\n",
       "      <th></th>\n",
       "      <th>URLs</th>\n",
       "      <th>t_mention_product</th>\n",
       "      <th>t_mention_brand</th>\n",
       "      <th>comment_text</th>\n",
       "      <th>Retrived_date</th>\n",
       "      <th>token_text</th>\n",
       "      <th>token_text_reduce</th>\n",
       "    </tr>\n",
       "    <tr>\n",
       "      <th>commentId</th>\n",
       "      <th></th>\n",
       "      <th></th>\n",
       "      <th></th>\n",
       "      <th></th>\n",
       "      <th></th>\n",
       "      <th></th>\n",
       "      <th></th>\n",
       "    </tr>\n",
       "  </thead>\n",
       "  <tbody>\n",
       "    <tr>\n",
       "      <th>1</th>\n",
       "      <td>https://pantip.com/topic/39868603</td>\n",
       "      <td>['นม', 'รสหวาน', 'นม', 'รสหวาน']</td>\n",
       "      <td>['เมจิ']</td>\n",
       "      <td>เมื่อก่อนหลายปีมาแล้ว ในเซเว่นยังมีนมเมจิรสหวา...</td>\n",
       "      <td>2020-10-26 12:40:26.135083</td>\n",
       "      <td>[ปี, 7-Eleven, ยังมี, นม, เมจิ, รสหวาน, ขาย, อ...</td>\n",
       "      <td>[7-Eleven, นม, รสหวาน, ขาย, หาย, หา, tops, ขวด...</td>\n",
       "    </tr>\n",
       "    <tr>\n",
       "      <th>2</th>\n",
       "      <td>https://pantip.com/topic/39868603</td>\n",
       "      <td>['นม', 'รสหวาน', 'นม', 'รสหวาน']</td>\n",
       "      <td>['เมจิ']</td>\n",
       "      <td>เบาหวานครับ แฮ่ๆ</td>\n",
       "      <td>2020-10-26 12:40:26.135083</td>\n",
       "      <td>[เบาหวาน]</td>\n",
       "      <td>[เบาหวาน]</td>\n",
       "    </tr>\n",
       "  </tbody>\n",
       "</table>\n",
       "</div>"
      ],
      "text/plain": [
       "                                        URLs  \\\n",
       "commentId                                      \n",
       "1          https://pantip.com/topic/39868603   \n",
       "2          https://pantip.com/topic/39868603   \n",
       "\n",
       "                          t_mention_product t_mention_brand  \\\n",
       "commentId                                                     \n",
       "1          ['นม', 'รสหวาน', 'นม', 'รสหวาน']        ['เมจิ']   \n",
       "2          ['นม', 'รสหวาน', 'นม', 'รสหวาน']        ['เมจิ']   \n",
       "\n",
       "                                                comment_text  \\\n",
       "commentId                                                      \n",
       "1          เมื่อก่อนหลายปีมาแล้ว ในเซเว่นยังมีนมเมจิรสหวา...   \n",
       "2                                           เบาหวานครับ แฮ่ๆ   \n",
       "\n",
       "                        Retrived_date  \\\n",
       "commentId                               \n",
       "1          2020-10-26 12:40:26.135083   \n",
       "2          2020-10-26 12:40:26.135083   \n",
       "\n",
       "                                                  token_text  \\\n",
       "commentId                                                      \n",
       "1          [ปี, 7-Eleven, ยังมี, นม, เมจิ, รสหวาน, ขาย, อ...   \n",
       "2                                                  [เบาหวาน]   \n",
       "\n",
       "                                           token_text_reduce  \n",
       "commentId                                                     \n",
       "1          [7-Eleven, นม, รสหวาน, ขาย, หาย, หา, tops, ขวด...  \n",
       "2                                                  [เบาหวาน]  "
      ]
     },
     "execution_count": 112,
     "metadata": {},
     "output_type": "execute_result"
    }
   ],
   "source": [
    "df_join_url.set_index('commentId',inplace=True)\n",
    "df_join_url.head(2)"
   ]
  },
  {
   "cell_type": "code",
   "execution_count": 113,
   "metadata": {},
   "outputs": [],
   "source": [
    "dictionary = gensim.corpora.Dictionary(df_join_url['token_text_reduce'])"
   ]
  },
  {
   "cell_type": "code",
   "execution_count": 114,
   "metadata": {},
   "outputs": [],
   "source": [
    "df_join_url['reduce_bow'] = df_join_url[\"token_text_reduce\"].map(dictionary.doc2bow)\n",
    "df_join_url['reduce_bow_txt'] = df_join_url[\"reduce_bow\"].apply(lambda x:[(dictionary[id_], frequence) for id_, frequence in x])"
   ]
  },
  {
   "cell_type": "code",
   "execution_count": 115,
   "metadata": {
    "scrolled": true
   },
   "outputs": [],
   "source": [
    "def freq_brand(x):\n",
    "    e = eval(x)\n",
    "    e.sort()\n",
    "    f = [(k,len(list(g))) for k, g in groupby(e)]\n",
    "    return f"
   ]
  },
  {
   "cell_type": "code",
   "execution_count": 116,
   "metadata": {},
   "outputs": [],
   "source": [
    "df_join_url['t_mention_product'] = df_join_url['t_mention_product'].apply(lambda x: freq_brand(x))\n",
    "df_join_url['t_mention_brand'] = df_join_url['t_mention_brand'].apply(lambda x: freq_brand(x))"
   ]
  },
  {
   "cell_type": "code",
   "execution_count": 117,
   "metadata": {
    "scrolled": true
   },
   "outputs": [
    {
     "data": {
      "text/html": [
       "<div>\n",
       "<style scoped>\n",
       "    .dataframe tbody tr th:only-of-type {\n",
       "        vertical-align: middle;\n",
       "    }\n",
       "\n",
       "    .dataframe tbody tr th {\n",
       "        vertical-align: top;\n",
       "    }\n",
       "\n",
       "    .dataframe thead th {\n",
       "        text-align: right;\n",
       "    }\n",
       "</style>\n",
       "<table border=\"1\" class=\"dataframe\">\n",
       "  <thead>\n",
       "    <tr style=\"text-align: right;\">\n",
       "      <th></th>\n",
       "      <th>URLs</th>\n",
       "      <th>t_mention_product</th>\n",
       "      <th>t_mention_brand</th>\n",
       "      <th>comment_text</th>\n",
       "      <th>Retrived_date</th>\n",
       "      <th>token_text</th>\n",
       "      <th>token_text_reduce</th>\n",
       "      <th>reduce_bow</th>\n",
       "      <th>reduce_bow_txt</th>\n",
       "    </tr>\n",
       "    <tr>\n",
       "      <th>commentId</th>\n",
       "      <th></th>\n",
       "      <th></th>\n",
       "      <th></th>\n",
       "      <th></th>\n",
       "      <th></th>\n",
       "      <th></th>\n",
       "      <th></th>\n",
       "      <th></th>\n",
       "      <th></th>\n",
       "    </tr>\n",
       "  </thead>\n",
       "  <tbody>\n",
       "    <tr>\n",
       "      <th>1</th>\n",
       "      <td>https://pantip.com/topic/39868603</td>\n",
       "      <td>[(นม, 2), (รสหวาน, 2)]</td>\n",
       "      <td>[(เมจิ, 1)]</td>\n",
       "      <td>เมื่อก่อนหลายปีมาแล้ว ในเซเว่นยังมีนมเมจิรสหวา...</td>\n",
       "      <td>2020-10-26 12:40:26.135083</td>\n",
       "      <td>[ปี, 7-Eleven, ยังมี, นม, เมจิ, รสหวาน, ขาย, อ...</td>\n",
       "      <td>[7-Eleven, นม, รสหวาน, ขาย, หาย, หา, tops, ขวด...</td>\n",
       "      <td>[(0, 1), (1, 1), (2, 2), (3, 1), (4, 1), (5, 2...</td>\n",
       "      <td>[(7-Eleven, 1), (tops, 1), (ขวด, 2), (ขาย, 1),...</td>\n",
       "    </tr>\n",
       "    <tr>\n",
       "      <th>2</th>\n",
       "      <td>https://pantip.com/topic/39868603</td>\n",
       "      <td>[(นม, 2), (รสหวาน, 2)]</td>\n",
       "      <td>[(เมจิ, 1)]</td>\n",
       "      <td>เบาหวานครับ แฮ่ๆ</td>\n",
       "      <td>2020-10-26 12:40:26.135083</td>\n",
       "      <td>[เบาหวาน]</td>\n",
       "      <td>[เบาหวาน]</td>\n",
       "      <td>[(12, 1)]</td>\n",
       "      <td>[(เบาหวาน, 1)]</td>\n",
       "    </tr>\n",
       "    <tr>\n",
       "      <th>3</th>\n",
       "      <td>https://pantip.com/topic/39868603</td>\n",
       "      <td>[(นม, 2), (รสหวาน, 2)]</td>\n",
       "      <td>[(เมจิ, 1)]</td>\n",
       "      <td>หาซื้อไม่ได้นี่คิดได้  2 อย่างนะ.    คนไม่ค่อย...</td>\n",
       "      <td>2020-10-26 12:40:26.135083</td>\n",
       "      <td>[หา, ซื้อไม่ได้, คิดได้, , .    คน, กินกัน, ไม...</td>\n",
       "      <td>[หา, ซื้อไม่ได้, นิยม, ขาย, ซื้อ, กิน, รสหวาน]</td>\n",
       "      <td>[(3, 1), (6, 1), (9, 1), (10, 1), (13, 1), (14...</td>\n",
       "      <td>[(ขาย, 1), (นิยม, 1), (รสหวาน, 1), (หา, 1), (ก...</td>\n",
       "    </tr>\n",
       "    <tr>\n",
       "      <th>4</th>\n",
       "      <td>https://pantip.com/topic/39868603</td>\n",
       "      <td>[(นม, 2), (รสหวาน, 2)]</td>\n",
       "      <td>[(เมจิ, 1)]</td>\n",
       "      <td>เป็นรสที่ขายไม่ดีครับ\\r\\nรสพื้นฐานคือ\\r\\nจืด แ...</td>\n",
       "      <td>2020-10-26 12:40:26.135083</td>\n",
       "      <td>[รส, ขายไม่ดี, รส, พื้นฐาน, จืด, แบ่ง, %,, ไขม...</td>\n",
       "      <td>[รส, ขายไม่ดี, รส, พื้นฐาน, จืด, ไขมันต่ำ, ไขม...</td>\n",
       "      <td>[(4, 1), (7, 1), (8, 2), (9, 1), (16, 1), (17,...</td>\n",
       "      <td>[(ขายไม่ดี, 1), (พื้นฐาน, 1), (รส, 2), (รสหวาน...</td>\n",
       "    </tr>\n",
       "    <tr>\n",
       "      <th>5</th>\n",
       "      <td>https://pantip.com/topic/39868603</td>\n",
       "      <td>[(นม, 2), (รสหวาน, 2)]</td>\n",
       "      <td>[(เมจิ, 1)]</td>\n",
       "      <td>ถ้าขายไม่ดีเค้าก็เอาออกครับ shelf life มันน้อย...</td>\n",
       "      <td>2020-10-26 12:40:26.135083</td>\n",
       "      <td>[ขายไม่ดี, เค้า, shelf life, เวลา, หมดอายุ, ค่...</td>\n",
       "      <td>[ขายไม่ดี, shelf life, หมดอายุ, ค่าใช้จ่าย, ร้...</td>\n",
       "      <td>[(2, 1), (4, 2), (14, 1), (24, 1), (25, 1), (2...</td>\n",
       "      <td>[(ขวด, 1), (ขายไม่ดี, 2), (ซื้อ, 1), (shelf li...</td>\n",
       "    </tr>\n",
       "  </tbody>\n",
       "</table>\n",
       "</div>"
      ],
      "text/plain": [
       "                                        URLs       t_mention_product  \\\n",
       "commentId                                                              \n",
       "1          https://pantip.com/topic/39868603  [(นม, 2), (รสหวาน, 2)]   \n",
       "2          https://pantip.com/topic/39868603  [(นม, 2), (รสหวาน, 2)]   \n",
       "3          https://pantip.com/topic/39868603  [(นม, 2), (รสหวาน, 2)]   \n",
       "4          https://pantip.com/topic/39868603  [(นม, 2), (รสหวาน, 2)]   \n",
       "5          https://pantip.com/topic/39868603  [(นม, 2), (รสหวาน, 2)]   \n",
       "\n",
       "          t_mention_brand                                       comment_text  \\\n",
       "commentId                                                                      \n",
       "1             [(เมจิ, 1)]  เมื่อก่อนหลายปีมาแล้ว ในเซเว่นยังมีนมเมจิรสหวา...   \n",
       "2             [(เมจิ, 1)]                                   เบาหวานครับ แฮ่ๆ   \n",
       "3             [(เมจิ, 1)]  หาซื้อไม่ได้นี่คิดได้  2 อย่างนะ.    คนไม่ค่อย...   \n",
       "4             [(เมจิ, 1)]  เป็นรสที่ขายไม่ดีครับ\\r\\nรสพื้นฐานคือ\\r\\nจืด แ...   \n",
       "5             [(เมจิ, 1)]  ถ้าขายไม่ดีเค้าก็เอาออกครับ shelf life มันน้อย...   \n",
       "\n",
       "                        Retrived_date  \\\n",
       "commentId                               \n",
       "1          2020-10-26 12:40:26.135083   \n",
       "2          2020-10-26 12:40:26.135083   \n",
       "3          2020-10-26 12:40:26.135083   \n",
       "4          2020-10-26 12:40:26.135083   \n",
       "5          2020-10-26 12:40:26.135083   \n",
       "\n",
       "                                                  token_text  \\\n",
       "commentId                                                      \n",
       "1          [ปี, 7-Eleven, ยังมี, นม, เมจิ, รสหวาน, ขาย, อ...   \n",
       "2                                                  [เบาหวาน]   \n",
       "3          [หา, ซื้อไม่ได้, คิดได้, , .    คน, กินกัน, ไม...   \n",
       "4          [รส, ขายไม่ดี, รส, พื้นฐาน, จืด, แบ่ง, %,, ไขม...   \n",
       "5          [ขายไม่ดี, เค้า, shelf life, เวลา, หมดอายุ, ค่...   \n",
       "\n",
       "                                           token_text_reduce  \\\n",
       "commentId                                                      \n",
       "1          [7-Eleven, นม, รสหวาน, ขาย, หาย, หา, tops, ขวด...   \n",
       "2                                                  [เบาหวาน]   \n",
       "3             [หา, ซื้อไม่ได้, นิยม, ขาย, ซื้อ, กิน, รสหวาน]   \n",
       "4          [รส, ขายไม่ดี, รส, พื้นฐาน, จืด, ไขมันต่ำ, ไขม...   \n",
       "5          [ขายไม่ดี, shelf life, หมดอายุ, ค่าใช้จ่าย, ร้...   \n",
       "\n",
       "                                                  reduce_bow  \\\n",
       "commentId                                                      \n",
       "1          [(0, 1), (1, 1), (2, 2), (3, 1), (4, 1), (5, 2...   \n",
       "2                                                  [(12, 1)]   \n",
       "3          [(3, 1), (6, 1), (9, 1), (10, 1), (13, 1), (14...   \n",
       "4          [(4, 1), (7, 1), (8, 2), (9, 1), (16, 1), (17,...   \n",
       "5          [(2, 1), (4, 2), (14, 1), (24, 1), (25, 1), (2...   \n",
       "\n",
       "                                              reduce_bow_txt  \n",
       "commentId                                                     \n",
       "1          [(7-Eleven, 1), (tops, 1), (ขวด, 2), (ขาย, 1),...  \n",
       "2                                             [(เบาหวาน, 1)]  \n",
       "3          [(ขาย, 1), (นิยม, 1), (รสหวาน, 1), (หา, 1), (ก...  \n",
       "4          [(ขายไม่ดี, 1), (พื้นฐาน, 1), (รส, 2), (รสหวาน...  \n",
       "5          [(ขวด, 1), (ขายไม่ดี, 2), (ซื้อ, 1), (shelf li...  "
      ]
     },
     "execution_count": 117,
     "metadata": {},
     "output_type": "execute_result"
    }
   ],
   "source": [
    "df_join_url.head()"
   ]
  },
  {
   "cell_type": "raw",
   "metadata": {},
   "source": [
    "df_join_url.to_excel('df_join_url.xlsx',index=True)"
   ]
  },
  {
   "cell_type": "markdown",
   "metadata": {},
   "source": [
    "Create cooccurence matrix"
   ]
  },
  {
   "cell_type": "code",
   "execution_count": 119,
   "metadata": {},
   "outputs": [],
   "source": [
    "df_brand_cooc = pd.concat([pd.DataFrame(s,columns=['w','c']).set_index('w') for s in df_join_url[\"t_mention_brand\"]], axis=1, sort=False).fillna(0).T.set_index(df_join_url.index)\n",
    "df_cooc = pd.concat([pd.DataFrame(s,columns=['w','c']).set_index('w') for s in df_join_url[\"reduce_bow_txt\"]], axis=1, sort=False).fillna(0).T.set_index(df_join_url.index)"
   ]
  },
  {
   "cell_type": "code",
   "execution_count": 120,
   "metadata": {},
   "outputs": [],
   "source": [
    "df_brand_cooc.reset_index(inplace=True)\n",
    "df_cooc.reset_index(inplace=True)"
   ]
  },
  {
   "cell_type": "code",
   "execution_count": 121,
   "metadata": {},
   "outputs": [],
   "source": [
    "join_df = pd.merge(df_brand_cooc, df_cooc, on='commentId', how='inner')\n",
    "join_df.set_index('commentId',inplace=True)"
   ]
  },
  {
   "cell_type": "code",
   "execution_count": 122,
   "metadata": {},
   "outputs": [
    {
     "data": {
      "text/html": [
       "<div>\n",
       "<style scoped>\n",
       "    .dataframe tbody tr th:only-of-type {\n",
       "        vertical-align: middle;\n",
       "    }\n",
       "\n",
       "    .dataframe tbody tr th {\n",
       "        vertical-align: top;\n",
       "    }\n",
       "\n",
       "    .dataframe thead th {\n",
       "        text-align: right;\n",
       "    }\n",
       "</style>\n",
       "<table border=\"1\" class=\"dataframe\">\n",
       "  <thead>\n",
       "    <tr style=\"text-align: right;\">\n",
       "      <th></th>\n",
       "      <th>เมจิ</th>\n",
       "      <th>ดัชมิลล์</th>\n",
       "      <th>แมคโนเลีย</th>\n",
       "      <th>ไทยเดนมาร์ค</th>\n",
       "      <th>หนองโพ</th>\n",
       "      <th>บีทาเก้น</th>\n",
       "      <th>คาเนชั่น</th>\n",
       "      <th>โฟร์โมสต์</th>\n",
       "      <th>เอ็มมิลค์</th>\n",
       "      <th>จิตรลดา</th>\n",
       "      <th>...</th>\n",
       "      <th>dha</th>\n",
       "      <th>พรีเซ็นเตอร์</th>\n",
       "      <th>ความแข็งแรง</th>\n",
       "      <th>เจมส์จิ</th>\n",
       "      <th>ของแถม</th>\n",
       "      <th>เสียความรู้สึก</th>\n",
       "      <th>ผิดสังเกต</th>\n",
       "      <th>ไอโอดีน</th>\n",
       "      <th>เบดไทม์</th>\n",
       "      <th>คุณแม่มือใหม่</th>\n",
       "    </tr>\n",
       "    <tr>\n",
       "      <th>commentId</th>\n",
       "      <th></th>\n",
       "      <th></th>\n",
       "      <th></th>\n",
       "      <th></th>\n",
       "      <th></th>\n",
       "      <th></th>\n",
       "      <th></th>\n",
       "      <th></th>\n",
       "      <th></th>\n",
       "      <th></th>\n",
       "      <th></th>\n",
       "      <th></th>\n",
       "      <th></th>\n",
       "      <th></th>\n",
       "      <th></th>\n",
       "      <th></th>\n",
       "      <th></th>\n",
       "      <th></th>\n",
       "      <th></th>\n",
       "      <th></th>\n",
       "      <th></th>\n",
       "    </tr>\n",
       "  </thead>\n",
       "  <tbody>\n",
       "    <tr>\n",
       "      <th>1</th>\n",
       "      <td>1.0</td>\n",
       "      <td>0.0</td>\n",
       "      <td>0.0</td>\n",
       "      <td>0.0</td>\n",
       "      <td>0.0</td>\n",
       "      <td>0.0</td>\n",
       "      <td>0.0</td>\n",
       "      <td>0.0</td>\n",
       "      <td>0.0</td>\n",
       "      <td>0.0</td>\n",
       "      <td>...</td>\n",
       "      <td>0.0</td>\n",
       "      <td>0.0</td>\n",
       "      <td>0.0</td>\n",
       "      <td>0.0</td>\n",
       "      <td>0.0</td>\n",
       "      <td>0.0</td>\n",
       "      <td>0.0</td>\n",
       "      <td>0.0</td>\n",
       "      <td>0.0</td>\n",
       "      <td>0.0</td>\n",
       "    </tr>\n",
       "    <tr>\n",
       "      <th>2</th>\n",
       "      <td>1.0</td>\n",
       "      <td>0.0</td>\n",
       "      <td>0.0</td>\n",
       "      <td>0.0</td>\n",
       "      <td>0.0</td>\n",
       "      <td>0.0</td>\n",
       "      <td>0.0</td>\n",
       "      <td>0.0</td>\n",
       "      <td>0.0</td>\n",
       "      <td>0.0</td>\n",
       "      <td>...</td>\n",
       "      <td>0.0</td>\n",
       "      <td>0.0</td>\n",
       "      <td>0.0</td>\n",
       "      <td>0.0</td>\n",
       "      <td>0.0</td>\n",
       "      <td>0.0</td>\n",
       "      <td>0.0</td>\n",
       "      <td>0.0</td>\n",
       "      <td>0.0</td>\n",
       "      <td>0.0</td>\n",
       "    </tr>\n",
       "    <tr>\n",
       "      <th>3</th>\n",
       "      <td>1.0</td>\n",
       "      <td>0.0</td>\n",
       "      <td>0.0</td>\n",
       "      <td>0.0</td>\n",
       "      <td>0.0</td>\n",
       "      <td>0.0</td>\n",
       "      <td>0.0</td>\n",
       "      <td>0.0</td>\n",
       "      <td>0.0</td>\n",
       "      <td>0.0</td>\n",
       "      <td>...</td>\n",
       "      <td>0.0</td>\n",
       "      <td>0.0</td>\n",
       "      <td>0.0</td>\n",
       "      <td>0.0</td>\n",
       "      <td>0.0</td>\n",
       "      <td>0.0</td>\n",
       "      <td>0.0</td>\n",
       "      <td>0.0</td>\n",
       "      <td>0.0</td>\n",
       "      <td>0.0</td>\n",
       "    </tr>\n",
       "    <tr>\n",
       "      <th>4</th>\n",
       "      <td>1.0</td>\n",
       "      <td>0.0</td>\n",
       "      <td>0.0</td>\n",
       "      <td>0.0</td>\n",
       "      <td>0.0</td>\n",
       "      <td>0.0</td>\n",
       "      <td>0.0</td>\n",
       "      <td>0.0</td>\n",
       "      <td>0.0</td>\n",
       "      <td>0.0</td>\n",
       "      <td>...</td>\n",
       "      <td>0.0</td>\n",
       "      <td>0.0</td>\n",
       "      <td>0.0</td>\n",
       "      <td>0.0</td>\n",
       "      <td>0.0</td>\n",
       "      <td>0.0</td>\n",
       "      <td>0.0</td>\n",
       "      <td>0.0</td>\n",
       "      <td>0.0</td>\n",
       "      <td>0.0</td>\n",
       "    </tr>\n",
       "    <tr>\n",
       "      <th>5</th>\n",
       "      <td>1.0</td>\n",
       "      <td>0.0</td>\n",
       "      <td>0.0</td>\n",
       "      <td>0.0</td>\n",
       "      <td>0.0</td>\n",
       "      <td>0.0</td>\n",
       "      <td>0.0</td>\n",
       "      <td>0.0</td>\n",
       "      <td>0.0</td>\n",
       "      <td>0.0</td>\n",
       "      <td>...</td>\n",
       "      <td>0.0</td>\n",
       "      <td>0.0</td>\n",
       "      <td>0.0</td>\n",
       "      <td>0.0</td>\n",
       "      <td>0.0</td>\n",
       "      <td>0.0</td>\n",
       "      <td>0.0</td>\n",
       "      <td>0.0</td>\n",
       "      <td>0.0</td>\n",
       "      <td>0.0</td>\n",
       "    </tr>\n",
       "  </tbody>\n",
       "</table>\n",
       "<p>5 rows × 202 columns</p>\n",
       "</div>"
      ],
      "text/plain": [
       "           เมจิ  ดัชมิลล์  แมคโนเลีย  ไทยเดนมาร์ค  หนองโพ  บีทาเก้น  คาเนชั่น  \\\n",
       "commentId                                                                       \n",
       "1           1.0       0.0        0.0          0.0     0.0       0.0       0.0   \n",
       "2           1.0       0.0        0.0          0.0     0.0       0.0       0.0   \n",
       "3           1.0       0.0        0.0          0.0     0.0       0.0       0.0   \n",
       "4           1.0       0.0        0.0          0.0     0.0       0.0       0.0   \n",
       "5           1.0       0.0        0.0          0.0     0.0       0.0       0.0   \n",
       "\n",
       "           โฟร์โมสต์  เอ็มมิลค์  จิตรลดา  ...  dha  พรีเซ็นเตอร์  ความแข็งแรง  \\\n",
       "commentId                                 ...                                   \n",
       "1                0.0        0.0      0.0  ...  0.0           0.0          0.0   \n",
       "2                0.0        0.0      0.0  ...  0.0           0.0          0.0   \n",
       "3                0.0        0.0      0.0  ...  0.0           0.0          0.0   \n",
       "4                0.0        0.0      0.0  ...  0.0           0.0          0.0   \n",
       "5                0.0        0.0      0.0  ...  0.0           0.0          0.0   \n",
       "\n",
       "           เจมส์จิ  ของแถม  เสียความรู้สึก  ผิดสังเกต  ไอโอดีน  เบดไทม์  \\\n",
       "commentId                                                                 \n",
       "1              0.0     0.0             0.0        0.0      0.0      0.0   \n",
       "2              0.0     0.0             0.0        0.0      0.0      0.0   \n",
       "3              0.0     0.0             0.0        0.0      0.0      0.0   \n",
       "4              0.0     0.0             0.0        0.0      0.0      0.0   \n",
       "5              0.0     0.0             0.0        0.0      0.0      0.0   \n",
       "\n",
       "           คุณแม่มือใหม่  \n",
       "commentId                 \n",
       "1                    0.0  \n",
       "2                    0.0  \n",
       "3                    0.0  \n",
       "4                    0.0  \n",
       "5                    0.0  \n",
       "\n",
       "[5 rows x 202 columns]"
      ]
     },
     "execution_count": 122,
     "metadata": {},
     "output_type": "execute_result"
    }
   ],
   "source": [
    "join_df.head()"
   ]
  },
  {
   "cell_type": "markdown",
   "metadata": {
    "id": "uBBA36fDTCfZ"
   },
   "source": [
    "### Create frequency co-occurrence matrix จาก Bag of word"
   ]
  },
  {
   "cell_type": "code",
   "execution_count": 123,
   "metadata": {
    "id": "LgE1okejTCfZ"
   },
   "outputs": [],
   "source": [
    "item_item_matrix = pd.DataFrame(index=join_df.columns,columns=join_df.columns).fillna(0)"
   ]
  },
  {
   "cell_type": "code",
   "execution_count": 124,
   "metadata": {
    "id": "05j3U3ymTCfb"
   },
   "outputs": [],
   "source": [
    "def cnt_Grpby(df,i,j):\n",
    "    PAIB = pd.DataFrame(df.groupby(df.iloc[:,i].name)[df.iloc[:,j].name].value_counts())\n",
    "    PAIB.index.names = ['A','B']\n",
    "    PAIB.columns = ['freq']\n",
    "    PAIB.reset_index(inplace=True)\n",
    "    _PAIB = PAIB[(PAIB.A>0)&(PAIB.B>0)]\n",
    "    return _PAIB.freq.sum()"
   ]
  },
  {
   "cell_type": "code",
   "execution_count": 125,
   "metadata": {
    "id": "1jhFte5eTCfd"
   },
   "outputs": [],
   "source": [
    "# Co-occurrence\n",
    "for i in range(0,len(item_item_matrix.columns)):\n",
    "    for j in range(0,len(item_item_matrix.columns)):\n",
    "        if i != j:\n",
    "            item_item_matrix.iloc[i,j] = cnt_Grpby(join_df,i,j)\n",
    "        else:\n",
    "            item_item_matrix.iloc[i,j] = 0"
   ]
  },
  {
   "cell_type": "code",
   "execution_count": 126,
   "metadata": {
    "id": "OhtvLfMXTCfg"
   },
   "outputs": [
    {
     "data": {
      "text/html": [
       "<div>\n",
       "<style scoped>\n",
       "    .dataframe tbody tr th:only-of-type {\n",
       "        vertical-align: middle;\n",
       "    }\n",
       "\n",
       "    .dataframe tbody tr th {\n",
       "        vertical-align: top;\n",
       "    }\n",
       "\n",
       "    .dataframe thead th {\n",
       "        text-align: right;\n",
       "    }\n",
       "</style>\n",
       "<table border=\"1\" class=\"dataframe\">\n",
       "  <thead>\n",
       "    <tr style=\"text-align: right;\">\n",
       "      <th></th>\n",
       "      <th>เมจิ</th>\n",
       "      <th>ดัชมิลล์</th>\n",
       "      <th>แมคโนเลีย</th>\n",
       "      <th>ไทยเดนมาร์ค</th>\n",
       "      <th>หนองโพ</th>\n",
       "      <th>บีทาเก้น</th>\n",
       "      <th>คาเนชั่น</th>\n",
       "      <th>โฟร์โมสต์</th>\n",
       "      <th>เอ็มมิลค์</th>\n",
       "      <th>จิตรลดา</th>\n",
       "      <th>...</th>\n",
       "      <th>dha</th>\n",
       "      <th>พรีเซ็นเตอร์</th>\n",
       "      <th>ความแข็งแรง</th>\n",
       "      <th>เจมส์จิ</th>\n",
       "      <th>ของแถม</th>\n",
       "      <th>เสียความรู้สึก</th>\n",
       "      <th>ผิดสังเกต</th>\n",
       "      <th>ไอโอดีน</th>\n",
       "      <th>เบดไทม์</th>\n",
       "      <th>คุณแม่มือใหม่</th>\n",
       "    </tr>\n",
       "  </thead>\n",
       "  <tbody>\n",
       "    <tr>\n",
       "      <th>เมจิ</th>\n",
       "      <td>0</td>\n",
       "      <td>761</td>\n",
       "      <td>50</td>\n",
       "      <td>179</td>\n",
       "      <td>196</td>\n",
       "      <td>14</td>\n",
       "      <td>50</td>\n",
       "      <td>375</td>\n",
       "      <td>2</td>\n",
       "      <td>0</td>\n",
       "      <td>...</td>\n",
       "      <td>0</td>\n",
       "      <td>11</td>\n",
       "      <td>1</td>\n",
       "      <td>32</td>\n",
       "      <td>1</td>\n",
       "      <td>5</td>\n",
       "      <td>1</td>\n",
       "      <td>0</td>\n",
       "      <td>0</td>\n",
       "      <td>0</td>\n",
       "    </tr>\n",
       "    <tr>\n",
       "      <th>ดัชมิลล์</th>\n",
       "      <td>761</td>\n",
       "      <td>0</td>\n",
       "      <td>0</td>\n",
       "      <td>195</td>\n",
       "      <td>311</td>\n",
       "      <td>9</td>\n",
       "      <td>20</td>\n",
       "      <td>487</td>\n",
       "      <td>2</td>\n",
       "      <td>152</td>\n",
       "      <td>...</td>\n",
       "      <td>2</td>\n",
       "      <td>3</td>\n",
       "      <td>2</td>\n",
       "      <td>3</td>\n",
       "      <td>33</td>\n",
       "      <td>2</td>\n",
       "      <td>0</td>\n",
       "      <td>1</td>\n",
       "      <td>1</td>\n",
       "      <td>0</td>\n",
       "    </tr>\n",
       "    <tr>\n",
       "      <th>แมคโนเลีย</th>\n",
       "      <td>50</td>\n",
       "      <td>0</td>\n",
       "      <td>0</td>\n",
       "      <td>0</td>\n",
       "      <td>0</td>\n",
       "      <td>0</td>\n",
       "      <td>0</td>\n",
       "      <td>13</td>\n",
       "      <td>0</td>\n",
       "      <td>0</td>\n",
       "      <td>...</td>\n",
       "      <td>0</td>\n",
       "      <td>0</td>\n",
       "      <td>0</td>\n",
       "      <td>0</td>\n",
       "      <td>0</td>\n",
       "      <td>0</td>\n",
       "      <td>0</td>\n",
       "      <td>0</td>\n",
       "      <td>0</td>\n",
       "      <td>0</td>\n",
       "    </tr>\n",
       "    <tr>\n",
       "      <th>ไทยเดนมาร์ค</th>\n",
       "      <td>179</td>\n",
       "      <td>195</td>\n",
       "      <td>0</td>\n",
       "      <td>0</td>\n",
       "      <td>270</td>\n",
       "      <td>0</td>\n",
       "      <td>0</td>\n",
       "      <td>282</td>\n",
       "      <td>0</td>\n",
       "      <td>237</td>\n",
       "      <td>...</td>\n",
       "      <td>3</td>\n",
       "      <td>0</td>\n",
       "      <td>1</td>\n",
       "      <td>0</td>\n",
       "      <td>0</td>\n",
       "      <td>0</td>\n",
       "      <td>0</td>\n",
       "      <td>0</td>\n",
       "      <td>0</td>\n",
       "      <td>2</td>\n",
       "    </tr>\n",
       "    <tr>\n",
       "      <th>หนองโพ</th>\n",
       "      <td>196</td>\n",
       "      <td>311</td>\n",
       "      <td>0</td>\n",
       "      <td>270</td>\n",
       "      <td>0</td>\n",
       "      <td>0</td>\n",
       "      <td>0</td>\n",
       "      <td>355</td>\n",
       "      <td>0</td>\n",
       "      <td>169</td>\n",
       "      <td>...</td>\n",
       "      <td>0</td>\n",
       "      <td>0</td>\n",
       "      <td>1</td>\n",
       "      <td>0</td>\n",
       "      <td>0</td>\n",
       "      <td>0</td>\n",
       "      <td>0</td>\n",
       "      <td>0</td>\n",
       "      <td>0</td>\n",
       "      <td>2</td>\n",
       "    </tr>\n",
       "  </tbody>\n",
       "</table>\n",
       "<p>5 rows × 202 columns</p>\n",
       "</div>"
      ],
      "text/plain": [
       "             เมจิ  ดัชมิลล์  แมคโนเลีย  ไทยเดนมาร์ค  หนองโพ  บีทาเก้น  \\\n",
       "เมจิ            0       761         50          179     196        14   \n",
       "ดัชมิลล์      761         0          0          195     311         9   \n",
       "แมคโนเลีย      50         0          0            0       0         0   \n",
       "ไทยเดนมาร์ค   179       195          0            0     270         0   \n",
       "หนองโพ        196       311          0          270       0         0   \n",
       "\n",
       "             คาเนชั่น  โฟร์โมสต์  เอ็มมิลค์  จิตรลดา  ...  dha  พรีเซ็นเตอร์  \\\n",
       "เมจิ               50        375          2        0  ...    0            11   \n",
       "ดัชมิลล์           20        487          2      152  ...    2             3   \n",
       "แมคโนเลีย           0         13          0        0  ...    0             0   \n",
       "ไทยเดนมาร์ค         0        282          0      237  ...    3             0   \n",
       "หนองโพ              0        355          0      169  ...    0             0   \n",
       "\n",
       "             ความแข็งแรง  เจมส์จิ  ของแถม  เสียความรู้สึก  ผิดสังเกต  ไอโอดีน  \\\n",
       "เมจิ                   1       32       1               5          1        0   \n",
       "ดัชมิลล์               2        3      33               2          0        1   \n",
       "แมคโนเลีย              0        0       0               0          0        0   \n",
       "ไทยเดนมาร์ค            1        0       0               0          0        0   \n",
       "หนองโพ                 1        0       0               0          0        0   \n",
       "\n",
       "             เบดไทม์  คุณแม่มือใหม่  \n",
       "เมจิ               0              0  \n",
       "ดัชมิลล์           1              0  \n",
       "แมคโนเลีย          0              0  \n",
       "ไทยเดนมาร์ค        0              2  \n",
       "หนองโพ             0              2  \n",
       "\n",
       "[5 rows x 202 columns]"
      ]
     },
     "execution_count": 126,
     "metadata": {},
     "output_type": "execute_result"
    }
   ],
   "source": [
    "item_item_matrix.head()"
   ]
  },
  {
   "cell_type": "code",
   "execution_count": 127,
   "metadata": {
    "id": "bsbsqduDTCfh"
   },
   "outputs": [],
   "source": [
    "item_item_matrix.to_excel(comment_cooc_freq_file, index=True)"
   ]
  },
  {
   "cell_type": "markdown",
   "metadata": {
    "id": "O8nlNNE4TCfj"
   },
   "source": [
    "### Create co-occurrence matrix with Lift normalization"
   ]
  },
  {
   "cell_type": "code",
   "execution_count": 128,
   "metadata": {
    "id": "Qykd9Z88TCfj"
   },
   "outputs": [],
   "source": [
    "item_item_matrix = pd.DataFrame(index=join_df.columns,columns=join_df.columns).fillna(0)"
   ]
  },
  {
   "cell_type": "code",
   "execution_count": 129,
   "metadata": {
    "id": "ElfF27atTCfp"
   },
   "outputs": [],
   "source": [
    "def a_in_b(df,i,j):\n",
    "    PAIB = pd.DataFrame(df.groupby(df.iloc[:,j].name)[df.iloc[:,i].name].value_counts())\n",
    "    PAIB.index.names = ['B','A']\n",
    "    PAIB.columns = ['freq']\n",
    "    PAIB.reset_index(inplace=True)\n",
    "    PAIB_ = PAIB[(PAIB.A>0)&(PAIB.B>0)]\n",
    "    return PAIB_.freq.sum()/PAIB.freq.sum()"
   ]
  },
  {
   "cell_type": "code",
   "execution_count": 130,
   "metadata": {
    "id": "h1sDGAMWTCfr"
   },
   "outputs": [],
   "source": [
    "for i in range(0,len(item_item_matrix.columns)) :\n",
    "    for j in range(0,len(item_item_matrix.columns)) :\n",
    "        A = join_df.iloc[:,i]\n",
    "        B = join_df.iloc[:,j]\n",
    "        PA = A[A!=0].count()/A.shape[0]\n",
    "        PB = B[B!=0].count()/B.shape[0]\n",
    "        PAB = PB*a_in_b(join_df,i,j)\n",
    "        item_item_matrix.iloc[i,j] = PAB/(PA*PB)"
   ]
  },
  {
   "cell_type": "code",
   "execution_count": 131,
   "metadata": {
    "id": "Wzd336KbTCfs"
   },
   "outputs": [],
   "source": [
    "item_item_matrix.replace([np.inf, -np.inf], np.nan,inplace=True)\n",
    "item_item_matrix.fillna(0,inplace=True)"
   ]
  },
  {
   "cell_type": "code",
   "execution_count": 132,
   "metadata": {
    "id": "8qG7pCYfTCfu"
   },
   "outputs": [
    {
     "data": {
      "text/html": [
       "<div>\n",
       "<style scoped>\n",
       "    .dataframe tbody tr th:only-of-type {\n",
       "        vertical-align: middle;\n",
       "    }\n",
       "\n",
       "    .dataframe tbody tr th {\n",
       "        vertical-align: top;\n",
       "    }\n",
       "\n",
       "    .dataframe thead th {\n",
       "        text-align: right;\n",
       "    }\n",
       "</style>\n",
       "<table border=\"1\" class=\"dataframe\">\n",
       "  <thead>\n",
       "    <tr style=\"text-align: right;\">\n",
       "      <th></th>\n",
       "      <th>เมจิ</th>\n",
       "      <th>ดัชมิลล์</th>\n",
       "      <th>แมคโนเลีย</th>\n",
       "      <th>ไทยเดนมาร์ค</th>\n",
       "      <th>หนองโพ</th>\n",
       "      <th>บีทาเก้น</th>\n",
       "      <th>คาเนชั่น</th>\n",
       "      <th>โฟร์โมสต์</th>\n",
       "      <th>เอ็มมิลค์</th>\n",
       "      <th>จิตรลดา</th>\n",
       "      <th>...</th>\n",
       "      <th>dha</th>\n",
       "      <th>พรีเซ็นเตอร์</th>\n",
       "      <th>ความแข็งแรง</th>\n",
       "      <th>เจมส์จิ</th>\n",
       "      <th>ของแถม</th>\n",
       "      <th>เสียความรู้สึก</th>\n",
       "      <th>ผิดสังเกต</th>\n",
       "      <th>ไอโอดีน</th>\n",
       "      <th>เบดไทม์</th>\n",
       "      <th>คุณแม่มือใหม่</th>\n",
       "    </tr>\n",
       "  </thead>\n",
       "  <tbody>\n",
       "    <tr>\n",
       "      <th>เมจิ</th>\n",
       "      <td>1.000000</td>\n",
       "      <td>0.147338</td>\n",
       "      <td>0.009681</td>\n",
       "      <td>0.034656</td>\n",
       "      <td>0.037948</td>\n",
       "      <td>0.002711</td>\n",
       "      <td>0.009681</td>\n",
       "      <td>0.072604</td>\n",
       "      <td>0.000387</td>\n",
       "      <td>0.000000</td>\n",
       "      <td>...</td>\n",
       "      <td>0.000000</td>\n",
       "      <td>0.002130</td>\n",
       "      <td>0.000194</td>\n",
       "      <td>0.006196</td>\n",
       "      <td>0.000194</td>\n",
       "      <td>0.000968</td>\n",
       "      <td>0.000194</td>\n",
       "      <td>0.000000</td>\n",
       "      <td>0.000000</td>\n",
       "      <td>0.000000</td>\n",
       "    </tr>\n",
       "    <tr>\n",
       "      <th>ดัชมิลล์</th>\n",
       "      <td>0.309853</td>\n",
       "      <td>1.000000</td>\n",
       "      <td>0.000000</td>\n",
       "      <td>0.079397</td>\n",
       "      <td>0.126629</td>\n",
       "      <td>0.003664</td>\n",
       "      <td>0.008143</td>\n",
       "      <td>0.198290</td>\n",
       "      <td>0.000814</td>\n",
       "      <td>0.061889</td>\n",
       "      <td>...</td>\n",
       "      <td>0.000814</td>\n",
       "      <td>0.001221</td>\n",
       "      <td>0.000814</td>\n",
       "      <td>0.001221</td>\n",
       "      <td>0.013436</td>\n",
       "      <td>0.000814</td>\n",
       "      <td>0.000000</td>\n",
       "      <td>0.000407</td>\n",
       "      <td>0.000407</td>\n",
       "      <td>0.000000</td>\n",
       "    </tr>\n",
       "    <tr>\n",
       "      <th>แมคโนเลีย</th>\n",
       "      <td>0.793651</td>\n",
       "      <td>0.000000</td>\n",
       "      <td>1.000000</td>\n",
       "      <td>0.000000</td>\n",
       "      <td>0.000000</td>\n",
       "      <td>0.000000</td>\n",
       "      <td>0.000000</td>\n",
       "      <td>0.206349</td>\n",
       "      <td>0.000000</td>\n",
       "      <td>0.000000</td>\n",
       "      <td>...</td>\n",
       "      <td>0.000000</td>\n",
       "      <td>0.000000</td>\n",
       "      <td>0.000000</td>\n",
       "      <td>0.000000</td>\n",
       "      <td>0.000000</td>\n",
       "      <td>0.000000</td>\n",
       "      <td>0.000000</td>\n",
       "      <td>0.000000</td>\n",
       "      <td>0.000000</td>\n",
       "      <td>0.000000</td>\n",
       "    </tr>\n",
       "    <tr>\n",
       "      <th>ไทยเดนมาร์ค</th>\n",
       "      <td>0.309154</td>\n",
       "      <td>0.336788</td>\n",
       "      <td>0.000000</td>\n",
       "      <td>1.000000</td>\n",
       "      <td>0.466321</td>\n",
       "      <td>0.000000</td>\n",
       "      <td>0.000000</td>\n",
       "      <td>0.487047</td>\n",
       "      <td>0.000000</td>\n",
       "      <td>0.409326</td>\n",
       "      <td>...</td>\n",
       "      <td>0.005181</td>\n",
       "      <td>0.000000</td>\n",
       "      <td>0.001727</td>\n",
       "      <td>0.000000</td>\n",
       "      <td>0.000000</td>\n",
       "      <td>0.000000</td>\n",
       "      <td>0.000000</td>\n",
       "      <td>0.000000</td>\n",
       "      <td>0.000000</td>\n",
       "      <td>0.003454</td>\n",
       "    </tr>\n",
       "    <tr>\n",
       "      <th>หนองโพ</th>\n",
       "      <td>0.342657</td>\n",
       "      <td>0.543706</td>\n",
       "      <td>0.000000</td>\n",
       "      <td>0.472028</td>\n",
       "      <td>1.000000</td>\n",
       "      <td>0.000000</td>\n",
       "      <td>0.000000</td>\n",
       "      <td>0.620629</td>\n",
       "      <td>0.000000</td>\n",
       "      <td>0.295455</td>\n",
       "      <td>...</td>\n",
       "      <td>0.000000</td>\n",
       "      <td>0.000000</td>\n",
       "      <td>0.001748</td>\n",
       "      <td>0.000000</td>\n",
       "      <td>0.000000</td>\n",
       "      <td>0.000000</td>\n",
       "      <td>0.000000</td>\n",
       "      <td>0.000000</td>\n",
       "      <td>0.000000</td>\n",
       "      <td>0.003497</td>\n",
       "    </tr>\n",
       "  </tbody>\n",
       "</table>\n",
       "<p>5 rows × 202 columns</p>\n",
       "</div>"
      ],
      "text/plain": [
       "                 เมจิ  ดัชมิลล์  แมคโนเลีย  ไทยเดนมาร์ค    หนองโพ  บีทาเก้น  \\\n",
       "เมจิ         1.000000  0.147338   0.009681     0.034656  0.037948  0.002711   \n",
       "ดัชมิลล์     0.309853  1.000000   0.000000     0.079397  0.126629  0.003664   \n",
       "แมคโนเลีย    0.793651  0.000000   1.000000     0.000000  0.000000  0.000000   \n",
       "ไทยเดนมาร์ค  0.309154  0.336788   0.000000     1.000000  0.466321  0.000000   \n",
       "หนองโพ       0.342657  0.543706   0.000000     0.472028  1.000000  0.000000   \n",
       "\n",
       "             คาเนชั่น  โฟร์โมสต์  เอ็มมิลค์   จิตรลดา  ...       dha  \\\n",
       "เมจิ         0.009681   0.072604   0.000387  0.000000  ...  0.000000   \n",
       "ดัชมิลล์     0.008143   0.198290   0.000814  0.061889  ...  0.000814   \n",
       "แมคโนเลีย    0.000000   0.206349   0.000000  0.000000  ...  0.000000   \n",
       "ไทยเดนมาร์ค  0.000000   0.487047   0.000000  0.409326  ...  0.005181   \n",
       "หนองโพ       0.000000   0.620629   0.000000  0.295455  ...  0.000000   \n",
       "\n",
       "             พรีเซ็นเตอร์  ความแข็งแรง   เจมส์จิ    ของแถม  เสียความรู้สึก  \\\n",
       "เมจิ             0.002130     0.000194  0.006196  0.000194        0.000968   \n",
       "ดัชมิลล์         0.001221     0.000814  0.001221  0.013436        0.000814   \n",
       "แมคโนเลีย        0.000000     0.000000  0.000000  0.000000        0.000000   \n",
       "ไทยเดนมาร์ค      0.000000     0.001727  0.000000  0.000000        0.000000   \n",
       "หนองโพ           0.000000     0.001748  0.000000  0.000000        0.000000   \n",
       "\n",
       "             ผิดสังเกต   ไอโอดีน   เบดไทม์  คุณแม่มือใหม่  \n",
       "เมจิ          0.000194  0.000000  0.000000       0.000000  \n",
       "ดัชมิลล์      0.000000  0.000407  0.000407       0.000000  \n",
       "แมคโนเลีย     0.000000  0.000000  0.000000       0.000000  \n",
       "ไทยเดนมาร์ค   0.000000  0.000000  0.000000       0.003454  \n",
       "หนองโพ        0.000000  0.000000  0.000000       0.003497  \n",
       "\n",
       "[5 rows x 202 columns]"
      ]
     },
     "execution_count": 132,
     "metadata": {},
     "output_type": "execute_result"
    }
   ],
   "source": [
    "item_item_matrix.head()"
   ]
  },
  {
   "cell_type": "code",
   "execution_count": 133,
   "metadata": {
    "id": "LsZZMOcTTCfw"
   },
   "outputs": [],
   "source": [
    "item_item_matrix.to_excel(comment_cooc_lift_file, index=True)"
   ]
  }
 ],
 "metadata": {
  "colab": {
   "collapsed_sections": [
    "EpwX95XlTCdl",
    "_Q9pU1J6TCe5",
    "NKW--A73mzli",
    "uBBA36fDTCfZ",
    "O8nlNNE4TCfj"
   ],
   "name": "EDA_Token_CoocMat.ipynb",
   "provenance": []
  },
  "kernelspec": {
   "display_name": "Python 3",
   "language": "python",
   "name": "python3"
  },
  "language_info": {
   "codemirror_mode": {
    "name": "ipython",
    "version": 3
   },
   "file_extension": ".py",
   "mimetype": "text/x-python",
   "name": "python",
   "nbconvert_exporter": "python",
   "pygments_lexer": "ipython3",
   "version": "3.7.3"
  }
 },
 "nbformat": 4,
 "nbformat_minor": 1
}
