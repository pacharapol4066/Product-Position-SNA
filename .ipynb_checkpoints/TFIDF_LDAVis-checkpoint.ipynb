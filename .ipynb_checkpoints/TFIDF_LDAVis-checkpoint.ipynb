{
 "cells": [
  {
   "cell_type": "markdown",
   "metadata": {
    "id": "xoY8sy40TCb5"
   },
   "source": [
    "### IS - Brand position\n",
    "Finding Product position on Social Network (PPSN)"
   ]
  },
  {
   "cell_type": "raw",
   "metadata": {
    "colab": {
     "base_uri": "https://localhost:8080/"
    },
    "executionInfo": {
     "elapsed": 28353,
     "status": "ok",
     "timestamp": 1604024868503,
     "user": {
      "displayName": "Pacharapol O.",
      "photoUrl": "https://lh3.googleusercontent.com/a-/AOh14GiBNaVjsCxoMVUqEvSDC7eauF0V2ZD7B-TzevR1TQ=s64",
      "userId": "00378494490135533545"
     },
     "user_tz": -420
    },
    "id": "GkBEUBUqTGuf",
    "outputId": "cb22db45-820a-48fd-c11a-a0568439778f"
   },
   "source": [
    "from google.colab import drive\n",
    "drive.mount('/content/drive')"
   ]
  },
  {
   "cell_type": "raw",
   "metadata": {
    "colab": {
     "base_uri": "https://localhost:8080/"
    },
    "executionInfo": {
     "elapsed": 1693,
     "status": "ok",
     "timestamp": 1604024868819,
     "user": {
      "displayName": "Pacharapol O.",
      "photoUrl": "https://lh3.googleusercontent.com/a-/AOh14GiBNaVjsCxoMVUqEvSDC7eauF0V2ZD7B-TzevR1TQ=s64",
      "userId": "00378494490135533545"
     },
     "user_tz": -420
    },
    "id": "_5mrzpx3TH9K",
    "outputId": "129bb192-4ac2-4b03-bc89-7ee7a65d5032"
   },
   "source": [
    "cd /content/drive/My\\ Drive/Colab\\ Notebooks/Master_PJ_DRMABS/Datasource"
   ]
  },
  {
   "cell_type": "code",
   "execution_count": 1,
   "metadata": {
    "executionInfo": {
     "elapsed": 2631,
     "status": "ok",
     "timestamp": 1604024879769,
     "user": {
      "displayName": "Pacharapol O.",
      "photoUrl": "https://lh3.googleusercontent.com/a-/AOh14GiBNaVjsCxoMVUqEvSDC7eauF0V2ZD7B-TzevR1TQ=s64",
      "userId": "00378494490135533545"
     },
     "user_tz": -420
    },
    "id": "cC0cBdCdTCb6"
   },
   "outputs": [],
   "source": [
    "import networkx as nx\n",
    "import numpy as np\n",
    "import pandas as pd\n",
    "import itertools\n",
    "import math\n",
    "import string\n",
    "import json\n",
    "import pymongo\n",
    "from itertools import groupby"
   ]
  },
  {
   "cell_type": "code",
   "execution_count": 2,
   "metadata": {},
   "outputs": [
    {
     "name": "stderr",
     "output_type": "stream",
     "text": [
      "C:\\ProgramData\\Anaconda3\\lib\\site-packages\\past\\types\\oldstr.py:5: DeprecationWarning: Using or importing the ABCs from 'collections' instead of from 'collections.abc' is deprecated, and in 3.8 it will stop working\n",
      "  from collections import Iterable\n",
      "C:\\ProgramData\\Anaconda3\\lib\\site-packages\\_pytest\\mark\\structures.py:378: DeprecationWarning: The usage of `cmp` is deprecated and will be removed on or after 2021-06-01.  Please use `eq` and `order` instead.\n",
      "  @attr.s(cmp=False, hash=False)\n"
     ]
    }
   ],
   "source": [
    "import gensim\n",
    "import pyLDAvis.gensim\n",
    "pyLDAvis.enable_notebook()\n",
    "\n",
    "import warnings\n",
    "warnings.filterwarnings(\"ignore\", category=DeprecationWarning)\n",
    "warnings.filterwarnings(\"ignore\", category=pd.core.common.SettingWithCopyWarning)"
   ]
  },
  {
   "cell_type": "code",
   "execution_count": 3,
   "metadata": {
    "executionInfo": {
     "elapsed": 2031,
     "status": "ok",
     "timestamp": 1604024879770,
     "user": {
      "displayName": "Pacharapol O.",
      "photoUrl": "https://lh3.googleusercontent.com/a-/AOh14GiBNaVjsCxoMVUqEvSDC7eauF0V2ZD7B-TzevR1TQ=s64",
      "userId": "00378494490135533545"
     },
     "user_tz": -420
    },
    "id": "1kqXURiiTCb-"
   },
   "outputs": [],
   "source": [
    "import time\n",
    "from datetime import datetime\n",
    "today = datetime.now()"
   ]
  },
  {
   "cell_type": "code",
   "execution_count": 4,
   "metadata": {},
   "outputs": [
    {
     "name": "stderr",
     "output_type": "stream",
     "text": [
      "C:\\ProgramData\\Anaconda3\\lib\\site-packages\\statsmodels\\tools\\_testing.py:19: FutureWarning: pandas.util.testing is deprecated. Use the functions in the public API at pandas.testing instead.\n",
      "  import pandas.util.testing as tm\n"
     ]
    }
   ],
   "source": [
    "import statistics as stat\n",
    "import matplotlib.pyplot as plt\n",
    "import seaborn as sns"
   ]
  },
  {
   "cell_type": "code",
   "execution_count": 5,
   "metadata": {
    "executionInfo": {
     "elapsed": 6121,
     "status": "ok",
     "timestamp": 1604024888335,
     "user": {
      "displayName": "Pacharapol O.",
      "photoUrl": "https://lh3.googleusercontent.com/a-/AOh14GiBNaVjsCxoMVUqEvSDC7eauF0V2ZD7B-TzevR1TQ=s64",
      "userId": "00378494490135533545"
     },
     "user_tz": -420
    },
    "id": "acWWFhczTCcO"
   },
   "outputs": [],
   "source": [
    "from bs4 import BeautifulSoup\n",
    "from urllib.request import urlopen"
   ]
  },
  {
   "cell_type": "code",
   "execution_count": 6,
   "metadata": {
    "executionInfo": {
     "elapsed": 5596,
     "status": "ok",
     "timestamp": 1604024888336,
     "user": {
      "displayName": "Pacharapol O.",
      "photoUrl": "https://lh3.googleusercontent.com/a-/AOh14GiBNaVjsCxoMVUqEvSDC7eauF0V2ZD7B-TzevR1TQ=s64",
      "userId": "00378494490135533545"
     },
     "user_tz": -420
    },
    "id": "l0SZe4-LTCcd"
   },
   "outputs": [],
   "source": [
    "from IPython.display import clear_output"
   ]
  },
  {
   "cell_type": "code",
   "execution_count": 7,
   "metadata": {},
   "outputs": [],
   "source": [
    "# Connect MongoDB\n",
    "myclient = pymongo.MongoClient(\"mongodb://localhost:27017/\")\n",
    "mydb = myclient[\"NIDA_PPSN_PRD\"]\n",
    "col_thread = mydb[\"NIDA_PPSN_THREAD\"]\n",
    "col_comment = mydb[\"NIDA_PPSN_COMMENT\"]"
   ]
  },
  {
   "cell_type": "code",
   "execution_count": 8,
   "metadata": {},
   "outputs": [],
   "source": [
    "def reduced_keyword(wtkn,redCol):\n",
    "    del_list = []\n",
    "    ret_wtkn = wtkn\n",
    "    for each in ret_wtkn:\n",
    "        if each not in redCol:\n",
    "            del_list.append(each)\n",
    "    ret_wtkn = [x for x in ret_wtkn if x not in del_list]\n",
    "    return ret_wtkn"
   ]
  },
  {
   "cell_type": "markdown",
   "metadata": {},
   "source": [
    "### 3.Process หัวกระทู้เพื่อดึง Domain (Brand & Product) ไม่ใช้โมเดลเทรนแล้วทำนาย ต้องการความถูกต้อง 100%"
   ]
  },
  {
   "cell_type": "code",
   "execution_count": 9,
   "metadata": {},
   "outputs": [],
   "source": [
    "cursor_thread = col_thread.find()\n",
    "df_thr_process = pd.DataFrame(cursor_thread)"
   ]
  },
  {
   "cell_type": "code",
   "execution_count": 10,
   "metadata": {},
   "outputs": [],
   "source": [
    "cursor_comment = col_comment.find()\n",
    "df_cmt_process = pd.DataFrame(cursor_comment)"
   ]
  },
  {
   "cell_type": "code",
   "execution_count": 11,
   "metadata": {},
   "outputs": [],
   "source": [
    "df_urls_milk = df_thr_process[(df_thr_process.t_mention_brand.str.len() != 0) | (df_thr_process.t_mention_product.str.len() != 0)]\n",
    "df_urls_milk['t_mention_brand'] = df_urls_milk['t_mention_brand'].apply(lambda x: repr(set(x)))\n",
    "df_urls_milk['t_mention_product'] = df_urls_milk['t_mention_product'].apply(lambda x: repr(set(x)))"
   ]
  },
  {
   "cell_type": "code",
   "execution_count": 12,
   "metadata": {},
   "outputs": [],
   "source": [
    "df_join_url = pd.merge(df_urls_milk,df_cmt_process,how='inner',on='URLs')\n",
    "df_join_url.drop(columns=['Table','_id_x','_id_y','text_x','token_text_x','cmt_mention_brand','cmt_mention_product'],inplace=True)\n",
    "df_join_url.columns = ['URLs','t_mention_brand','t_mention_product'\n",
    "                       ,'Retrived_date','commentId','comment_text','token_text',]"
   ]
  },
  {
   "cell_type": "code",
   "execution_count": 13,
   "metadata": {},
   "outputs": [
    {
     "data": {
      "text/html": [
       "<div>\n",
       "<style scoped>\n",
       "    .dataframe tbody tr th:only-of-type {\n",
       "        vertical-align: middle;\n",
       "    }\n",
       "\n",
       "    .dataframe tbody tr th {\n",
       "        vertical-align: top;\n",
       "    }\n",
       "\n",
       "    .dataframe thead th {\n",
       "        text-align: right;\n",
       "    }\n",
       "</style>\n",
       "<table border=\"1\" class=\"dataframe\">\n",
       "  <thead>\n",
       "    <tr style=\"text-align: right;\">\n",
       "      <th></th>\n",
       "      <th>URLs</th>\n",
       "      <th>t_mention_brand</th>\n",
       "      <th>t_mention_product</th>\n",
       "      <th>Retrived_date</th>\n",
       "      <th>commentId</th>\n",
       "      <th>comment_text</th>\n",
       "      <th>token_text</th>\n",
       "    </tr>\n",
       "  </thead>\n",
       "  <tbody>\n",
       "    <tr>\n",
       "      <th>0</th>\n",
       "      <td>https://pantip.com/topic/39868603</td>\n",
       "      <td>{'นม', 'รสหวาน'}</td>\n",
       "      <td>{'เมจิ'}</td>\n",
       "      <td>1</td>\n",
       "      <td>เมื่อก่อนหลายปีมาแล้ว ในเซเว่นยังมีนมเมจิรสหวา...</td>\n",
       "      <td>2020-10-26 12:40:26.135083</td>\n",
       "      <td>[ปี, 7-Eleven, ยังมี, นม, เมจิ, รสหวาน, ขาย, อ...</td>\n",
       "    </tr>\n",
       "    <tr>\n",
       "      <th>1</th>\n",
       "      <td>https://pantip.com/topic/39868603</td>\n",
       "      <td>{'นม', 'รสหวาน'}</td>\n",
       "      <td>{'เมจิ'}</td>\n",
       "      <td>2</td>\n",
       "      <td>เบาหวานครับ แฮ่ๆ</td>\n",
       "      <td>2020-10-26 12:40:26.135083</td>\n",
       "      <td>[เบาหวาน]</td>\n",
       "    </tr>\n",
       "    <tr>\n",
       "      <th>2</th>\n",
       "      <td>https://pantip.com/topic/39868603</td>\n",
       "      <td>{'นม', 'รสหวาน'}</td>\n",
       "      <td>{'เมจิ'}</td>\n",
       "      <td>3</td>\n",
       "      <td>หาซื้อไม่ได้นี่คิดได้  2 อย่างนะ.    คนไม่ค่อย...</td>\n",
       "      <td>2020-10-26 12:40:26.135083</td>\n",
       "      <td>[หา, ซื้อไม่ได้, คิดได้, , .    คน, กินกัน, ไม...</td>\n",
       "    </tr>\n",
       "  </tbody>\n",
       "</table>\n",
       "</div>"
      ],
      "text/plain": [
       "                                URLs   t_mention_brand t_mention_product  \\\n",
       "0  https://pantip.com/topic/39868603  {'นม', 'รสหวาน'}          {'เมจิ'}   \n",
       "1  https://pantip.com/topic/39868603  {'นม', 'รสหวาน'}          {'เมจิ'}   \n",
       "2  https://pantip.com/topic/39868603  {'นม', 'รสหวาน'}          {'เมจิ'}   \n",
       "\n",
       "   Retrived_date                                          commentId  \\\n",
       "0              1  เมื่อก่อนหลายปีมาแล้ว ในเซเว่นยังมีนมเมจิรสหวา...   \n",
       "1              2                                   เบาหวานครับ แฮ่ๆ   \n",
       "2              3  หาซื้อไม่ได้นี่คิดได้  2 อย่างนะ.    คนไม่ค่อย...   \n",
       "\n",
       "                 comment_text  \\\n",
       "0  2020-10-26 12:40:26.135083   \n",
       "1  2020-10-26 12:40:26.135083   \n",
       "2  2020-10-26 12:40:26.135083   \n",
       "\n",
       "                                          token_text  \n",
       "0  [ปี, 7-Eleven, ยังมี, นม, เมจิ, รสหวาน, ขาย, อ...  \n",
       "1                                          [เบาหวาน]  \n",
       "2  [หา, ซื้อไม่ได้, คิดได้, , .    คน, กินกัน, ไม...  "
      ]
     },
     "execution_count": 13,
     "metadata": {},
     "output_type": "execute_result"
    }
   ],
   "source": [
    "df_join_url.head(3)"
   ]
  },
  {
   "cell_type": "markdown",
   "metadata": {},
   "source": [
    "EDA#2"
   ]
  },
  {
   "cell_type": "code",
   "execution_count": 14,
   "metadata": {},
   "outputs": [
    {
     "name": "stderr",
     "output_type": "stream",
     "text": [
      "C:\\ProgramData\\Anaconda3\\lib\\site-packages\\ipykernel_launcher.py:2: UserWarning: Pandas doesn't allow columns to be created via a new attribute name - see https://pandas.pydata.org/pandas-docs/stable/indexing.html#attribute-access\n",
      "  \n"
     ]
    }
   ],
   "source": [
    "df_view = df_urls_milk[['URLs','t_mention_product']]\n",
    "df_view.column = ['URLs','t_mention_product']\n",
    "df_view_count = df_view.groupby('t_mention_product').count()"
   ]
  },
  {
   "cell_type": "code",
   "execution_count": 15,
   "metadata": {},
   "outputs": [],
   "source": [
    "df_c_urls_milk = df_cmt_process[(df_cmt_process.cmt_mention_brand.str.len() != 0) | (df_cmt_process.cmt_mention_product.str.len() != 0)]\n",
    "df_c_urls_milk['cmt_mention_brand'] = df_c_urls_milk['cmt_mention_brand'].apply(lambda x: repr(set(x)))\n",
    "df_c_urls_milk['cmt_mention_product'] = df_c_urls_milk['cmt_mention_product'].apply(lambda x: repr(set(x)))"
   ]
  },
  {
   "cell_type": "code",
   "execution_count": 16,
   "metadata": {},
   "outputs": [
    {
     "name": "stderr",
     "output_type": "stream",
     "text": [
      "C:\\ProgramData\\Anaconda3\\lib\\site-packages\\ipykernel_launcher.py:2: UserWarning: Pandas doesn't allow columns to be created via a new attribute name - see https://pandas.pydata.org/pandas-docs/stable/indexing.html#attribute-access\n",
      "  \n"
     ]
    }
   ],
   "source": [
    "df_view2 = df_c_urls_milk[['URLs','cmt_mention_product']]\n",
    "df_view2.column = ['URLs','cmt_mention_product']\n",
    "df_view_count2 = df_view2.groupby('cmt_mention_product').count()"
   ]
  },
  {
   "cell_type": "code",
   "execution_count": 17,
   "metadata": {},
   "outputs": [
    {
     "name": "stdout",
     "output_type": "stream",
     "text": [
      "จำนวนกระทู้ 1514\n",
      "จำนวน comment 60545\n",
      "จำนวนกระทู้พูดถึง brand หรือ มีนมเกี่ยวข้อง อย่างใดอย่างหนึ่ง 742\n",
      "จำนวนกระทู้มีระบุตัว product 310\n",
      "จำนวน comment พูดถึง brand หรือมีนมเกี่ยวข้องง อย่างใดอย่างหนึ่ง 8726\n",
      "จำนวน comment มีระบุตัว product 3256\n",
      "odd product/นม กระทู้ 0.42\n",
      "odd product/นม comment 0.37\n",
      "หมายเหตุ : ไม่ได้ impute ขั้วกระทู้เข้า comment\n"
     ]
    }
   ],
   "source": [
    "print('จำนวนกระทู้',df_thr_process.shape[0])\n",
    "print('จำนวน comment',df_cmt_process.shape[0])\n",
    "print('จำนวนกระทู้พูดถึง brand หรือ มีนมเกี่ยวข้อง อย่างใดอย่างหนึ่ง',df_urls_milk.shape[0])\n",
    "print('จำนวนกระทู้มีระบุตัว product',df_view[(df_view.t_mention_product!=\"{'นม'}\")&(df_view.t_mention_product!=\"set()\")].shape[0])\n",
    "print('จำนวน comment พูดถึง brand หรือมีนมเกี่ยวข้องง อย่างใดอย่างหนึ่ง',df_c_urls_milk.shape[0])\n",
    "print('จำนวน comment มีระบุตัว product',df_view2[(df_view2.cmt_mention_product!=\"{'นม'}\")&(df_view2.cmt_mention_product!=\"set()\")].shape[0])\n",
    "print('odd product/นม กระทู้',round(df_view[(df_view.t_mention_product!=\"{'นม'}\")&(df_view.t_mention_product!=\"set()\")].shape[0]/df_urls_milk.shape[0],2))\n",
    "print('odd product/นม comment',round(df_view2[(df_view2.cmt_mention_product!=\"{'นม'}\")&(df_view2.cmt_mention_product!=\"set()\")].shape[0]/df_c_urls_milk.shape[0],2))\n",
    "print('หมายเหตุ : ไม่ได้ impute ขั้วกระทู้เข้า comment')"
   ]
  },
  {
   "cell_type": "markdown",
   "metadata": {},
   "source": [
    "จาก Issue นี้จะพบว่าทำ Product position ได้ยาก แต่ทำ Brand position แทนได้ เนื่องจากสัดส่วนของข้อความที่มีการพูดถึง brand+flavor \n",
    "มีน้อยกว่าครึ่ง จึงให้ใช้วิธีเอา brand ของหัวกระทู้แปะไปในทุก comment แทน เพื่อทำ Brand Position ส่วน flavor จะกลายเป็น attribute ไป"
   ]
  },
  {
   "cell_type": "code",
   "execution_count": 18,
   "metadata": {
    "scrolled": true
   },
   "outputs": [
    {
     "data": {
      "text/html": [
       "<div>\n",
       "<style scoped>\n",
       "    .dataframe tbody tr th:only-of-type {\n",
       "        vertical-align: middle;\n",
       "    }\n",
       "\n",
       "    .dataframe tbody tr th {\n",
       "        vertical-align: top;\n",
       "    }\n",
       "\n",
       "    .dataframe thead th {\n",
       "        text-align: right;\n",
       "    }\n",
       "</style>\n",
       "<table border=\"1\" class=\"dataframe\">\n",
       "  <thead>\n",
       "    <tr style=\"text-align: right;\">\n",
       "      <th></th>\n",
       "      <th>URLs</th>\n",
       "    </tr>\n",
       "    <tr>\n",
       "      <th>cmt_mention_product</th>\n",
       "      <th></th>\n",
       "    </tr>\n",
       "  </thead>\n",
       "  <tbody>\n",
       "    <tr>\n",
       "      <th>{'นม'}</th>\n",
       "      <td>4266</td>\n",
       "    </tr>\n",
       "    <tr>\n",
       "      <th>set()</th>\n",
       "      <td>1204</td>\n",
       "    </tr>\n",
       "    <tr>\n",
       "      <th>{'โยเกิร์ต'}</th>\n",
       "      <td>381</td>\n",
       "    </tr>\n",
       "    <tr>\n",
       "      <th>{'ช็อกโกแลต'}</th>\n",
       "      <td>217</td>\n",
       "    </tr>\n",
       "    <tr>\n",
       "      <th>{'นม', 'โยเกิร์ต'}</th>\n",
       "      <td>197</td>\n",
       "    </tr>\n",
       "    <tr>\n",
       "      <th>...</th>\n",
       "      <td>...</td>\n",
       "    </tr>\n",
       "    <tr>\n",
       "      <th>{'นม', 'ไขมัน 0%', 'ไขมันต่ำ', 'สตรอว์เบอร์รี'}</th>\n",
       "      <td>1</td>\n",
       "    </tr>\n",
       "    <tr>\n",
       "      <th>{'นม', 'ไขมัน 0%', 'ไขมันต่ำ', 'เมจิโกลด์'}</th>\n",
       "      <td>1</td>\n",
       "    </tr>\n",
       "    <tr>\n",
       "      <th>{'นม', 'ไขมัน 0%', 'ไขมันต่ำ', 'ไฮโปรตีน'}</th>\n",
       "      <td>1</td>\n",
       "    </tr>\n",
       "    <tr>\n",
       "      <th>{'นม', 'ไขมันต่ำ', 'ซากุระ'}</th>\n",
       "      <td>1</td>\n",
       "    </tr>\n",
       "    <tr>\n",
       "      <th>{'ช็อกโกแลต', 'ไขมัน 0%', 'มอลต์', 'ไขมันต่ำ', 'โยเกิร์ต', 'นม', 'รสธรรมชาติ', 'รสจืด', 'รสกลมกล่อม', 'รสกาแฟ', 'พาสเจอร์ไรส์'}</th>\n",
       "      <td>1</td>\n",
       "    </tr>\n",
       "  </tbody>\n",
       "</table>\n",
       "<p>343 rows × 1 columns</p>\n",
       "</div>"
      ],
      "text/plain": [
       "                                                    URLs\n",
       "cmt_mention_product                                     \n",
       "{'นม'}                                              4266\n",
       "set()                                               1204\n",
       "{'โยเกิร์ต'}                                         381\n",
       "{'ช็อกโกแลต'}                                        217\n",
       "{'นม', 'โยเกิร์ต'}                                   197\n",
       "...                                                  ...\n",
       "{'นม', 'ไขมัน 0%', 'ไขมันต่ำ', 'สตรอว์เบอร์รี'}        1\n",
       "{'นม', 'ไขมัน 0%', 'ไขมันต่ำ', 'เมจิโกลด์'}            1\n",
       "{'นม', 'ไขมัน 0%', 'ไขมันต่ำ', 'ไฮโปรตีน'}             1\n",
       "{'นม', 'ไขมันต่ำ', 'ซากุระ'}                           1\n",
       "{'ช็อกโกแลต', 'ไขมัน 0%', 'มอลต์', 'ไขมันต่ำ', ...     1\n",
       "\n",
       "[343 rows x 1 columns]"
      ]
     },
     "execution_count": 18,
     "metadata": {},
     "output_type": "execute_result"
    }
   ],
   "source": [
    "df_view_count2.sort_values(by='URLs',ascending=False)"
   ]
  },
  {
   "cell_type": "markdown",
   "metadata": {},
   "source": [
    "###  4. คัดเลือกคำมาเป็น Attribute ด้วย TF-IDF"
   ]
  },
  {
   "cell_type": "code",
   "execution_count": null,
   "metadata": {},
   "outputs": [],
   "source": []
  },
  {
   "cell_type": "code",
   "execution_count": null,
   "metadata": {},
   "outputs": [],
   "source": []
  },
  {
   "cell_type": "code",
   "execution_count": null,
   "metadata": {},
   "outputs": [],
   "source": []
  },
  {
   "cell_type": "code",
   "execution_count": null,
   "metadata": {},
   "outputs": [],
   "source": []
  },
  {
   "cell_type": "code",
   "execution_count": null,
   "metadata": {},
   "outputs": [],
   "source": []
  },
  {
   "cell_type": "code",
   "execution_count": 19,
   "metadata": {},
   "outputs": [],
   "source": [
    "execption_urls = ['https://pantip.com/topic/30833944','https://pantip.com/topic/30105850','https://pantip.com/topic/35439062']"
   ]
  },
  {
   "cell_type": "code",
   "execution_count": 20,
   "metadata": {},
   "outputs": [],
   "source": [
    "attrributes = ['การบูด','โปร','โปรโมชั่น','แถม','บูด','เป็นผลดี','หา','หมดอายุ', 'กลิ่น','หอม','กลิ่นหอม', 'แนะนำ', 'กิน', 'shelf life','แม่','คุณแม่'\n",
    " ,'ลูก','เด็ก','เลี้ยงลูก','เลี้ยงเด็ก','พัฒนาการ','คุณแม่มือใหม่','สั่ง', 'ค่าใช้จ่าย', 'เพิ่มขึ้น', 'สินค้า', 'ชอบ','นิยม', 'สี', 'ซื้อไม่ได้'\n",
    " , 'ทิ้ง', 'จืด','หวาน' , 'fat', 'นิยม','ราคาสูง','กาแฟ','ชงกาแฟ','หาย','ต้ม','อุ่น','ร้อน', 'พื้นฐาน', 'ขายไม่ดี','สูง','ส่วนสูง'\n",
    " , 'กาแฟสด', 'จ่าย', 'ขาย', 'รส','รสชาติ', 'กลมกล่อม','ไขมัน','พนักงาน','ไมโครเวฟ','ฟาร์ม'\n",
    " ,'ส่วนผสม','ผสม','เบาหวาน','รสพื้นฐาน','โปรตีน','เวย์','เวท','วิ่ง','protein','whey','ขับถ่าย','อึ','dha','น้ำตาล','เบาหวาน'\n",
    " ,'ฝา', 'นมสด','ถ้วย', 'ร้าน', 'ดื่ม', 'เซเว่น', 'ขวด', 'นึกถึง', 'เสียใจ', 'แตก', 'ซื้อ','ขาย','มีลูก','เทรนเนอร์'\n",
    " ,'ขายไม่ดี','แพคคู่','ค่าจัดส่ง','shelf life','พนักงานขายนม','แพ้นม','แพ้นมวัว','เล่นเวท','ฝาน้ำเงิน','ฝาสีเขียว'\n",
    " ,'นมอุ่น','ชานม','กินนม','ดื่มนม','ท้องเสีย','ลูกสุนัข','สุนัข','หมา','แมว','คายทิ้ง','เจมส์จิ','แป้ง','ลดราคา'\n",
    " ,'ซื้อประจำ','ซื้อไม่ได้','คาปูชิโน่','อเมริกาโน่','ร้านนม','whey formula','ผิดสังเกต','เสียความรู้สึก','ชี้แจง','บำรุง','น้ำผึ้ง'\n",
    " ,'อาหารเสริม','มีประโยชน์','วิตามิน','นมผง','แคลเซี่ยม','ท้อง','แพะ','อร่อย','โภชนาการ','โรงเรียน','พ่อแม่','ครู','ยูเอชที'\n",
    " ,'ผู้บริโภค','ขโมย','ไอโอดีน','นมข้นหวาน','เนย','ตรวจสอบ','แกลลอน','มันดี','นมวัว','อาเจียน','เวฟ','ไมโครเวฟ','สารอาหาร'\n",
    " ,'ขนส่ง','ถูก','แพง','เค้ก','ทิ้ง','วันหมดอายุ','โอเมก้า','กล่อง','พลังงาน','โภชนาการ','ขนมปัง','ของแถม','ราคาสูง','น้ำนมโค'\n",
    " ,'บรรจุภัณฑ์','ความแข็งแรง','แข็งแรง','พรีเซ็นเตอร์','ญี่ปุ่น','น้ำผลไม้','ออกกำลังกาย','ประหยัด','วิปปิ้ง','เชื้อจุลินทรีย์'\n",
    " ,'แลคโตส']\n",
    "\n",
    "stores = ['tops','makro','lotus','bigc','7-Eleven']\n",
    "\n",
    "products = ['สตรอว์เบอร์รี','ช็อกโกแลต','รสกาแฟ','รสหวาน','รสจืด','ไขมันต่ำ','ไขมัน 0%','ไฮโปรตีน','อัลมอนด์'\n",
    "                ,'รสกล้วย','grass fed','นมฟรีแลคโตส','เมจิโกลด์','นมฮอกไกโด','เบดไทม์','ดาร์คช็อกโกแลต','ไฮแคลเซียม'\n",
    "                ,'คาราเมล','มอลต์','เมล่อน','ชาเขียวมัจฉะ','บัลแกเรีย','รสธรรมชาติ','รสกลมกล่อม','ซากุระ']\n",
    "milk_kind=['นม','นมข้น','นมจืด','นมสด','กินนม','ดื่มนม','ขวดนม','นมวัว','นมกล่อง','ผลิตภันท์นม','น้ำนมโค'\n",
    "                     ,'โยเกิร์ต','นมเปรี้ยว','uht','นมถั่วเหลือง','นมผง','พาสเจอร์ไรส์']\n",
    "\n",
    "#  EDA ใน Excel ได้ flavor 68 ตัว (ถ้าดึงยี่ห้ออื่นก็เพิ่มอีก)\n",
    "avai_flavs = ['เมจิเมจิโกลด์','เมจิเมล่อน','เมจิไขมัน 0%','เมจิไขมันต่ำ','เมจิไฮโปรตีน','เมจิช็อกโกแลต','เมจิชาเขียวมัจฉะ','เมจิดาร์คช็อกโกแลต'\n",
    " ,'เมจินมฟรีแลคโตส','เมจิบัลแกเรีย','เมจิมอลต์','เมจิรสกลมกล่อม','เมจิรสกล้วย','เมจิรกาแฟ','เมจิรสจืด','เมจิรสธรรมชาติ','เมจิรสหวาน'\n",
    " ,'เมจิสตรอว์เบอร์รี','เมจิอัลมอนด์','เอ็มมิลค์นมฟรีแลคโตส','เอ็มมิลค์รสจืด','แดรี่โฮมgrass fed','แดรี่โฮมเบดไทม์','แดรี่โฮมช็อกโกแลต'\n",
    " ,'แดรี่โฮมรสกล้วย','แดโฮมรสจืด','แดรี่โฮมรสหวาน','แดรี่โฮมสตรอว์เบอร์รี','แมคโนเลียไขมันต่ำ','แมคโนเลียช็อกโกแลต','แมคโนเลียรสจืด'\n",
    " ,'โชคชัยไขมันต่ำ','โชคชัยช็อกโกแลต','โชคชัยรสกาแฟ','โชคชัยรสจืด','โชคชัยสตรอว์เบอร์รี','ฟร์โมสต์ไขมัน 0%','โฟร์โมสต์ไขมันต่ำ'\n",
    " ,'โฟร์โมสต์คาราเมล','โฟร์โมสต์ช็อกโกแลต','โฟร์โมสต์รสกาแฟ','โฟร์โมสต์รสจืด','โฟร์โมสต์สตรอว์เบอร์รี','ไทยเดนมาร์คช็อกโกแลต'\n",
    " ,'ไทยเดนมาร์ครสกาแฟ','ไทยเดนมาร์ครสจืด','ไทยเดนมาร์ครสหวาน','ไทยเดนมาร์คสตรอว์เบอร์รี','คาเนชั่นรสจืด','จิตรลดาช็อกโกแลต'\n",
    " ,'จิตรลดารสจืด','จิตรลดารสหวาน','จิตรลดาสตรอว์เบอร์รี','ดัชมิลล์ไขมัน 0%','ดัชมิลล์ไขมันต่ำ','ดัชมิลล์ไฮโปรตีน','ดัชลล์อกกแลต'\n",
    " ,'ดัชมิลล์มอลต์','ดัชมิลล์รสกาแฟ','ดัชมิลล์รสจืด','ดัชมิลล์สตรอว์เบอร์รี','หนองโพไขมัน 0%','หนองโพไขมันต่ำ','หนองโพช็อกโกแลต'\n",
    " ,'หนองโพรสกาแฟ','หนองโพรสจืด','หนองโพรสหวาน','หนองโพสตรอว์เบอร์รี']\n",
    "\n",
    "reduceCol = attrributes + stores \n",
    "reduceCol_all = attrributes + stores + milk_kind + products"
   ]
  },
  {
   "cell_type": "markdown",
   "metadata": {},
   "source": [
    "### 5.สร้าง (Reduce) Bag of word ด้วย dictionary.doc2bow จัดลง dataframe"
   ]
  },
  {
   "cell_type": "code",
   "execution_count": null,
   "metadata": {},
   "outputs": [],
   "source": [
    "cursor_thread = col_thread.find()\n",
    "df_thr_process = pd.DataFrame(cursor_thread)\n",
    "cursor_comment = col_comment.find()\n",
    "df_cmt_process = pd.DataFrame(cursor_comment)"
   ]
  },
  {
   "cell_type": "code",
   "execution_count": null,
   "metadata": {},
   "outputs": [],
   "source": [
    "# คัด headline ที่พูดถึง domain นม\n",
    "df_urls_milk = df_thr_process[(df_thr_process.t_mention_dairy.str.len() != 0) | (df_thr_process.URLs.isin(execption_urls))]\n",
    "#df_urls_milk = df_thr_process[(df_thr_process.URLs.isin(execption_urls))]"
   ]
  },
  {
   "cell_type": "code",
   "execution_count": null,
   "metadata": {},
   "outputs": [],
   "source": [
    "# เมื่อ join กันแล้ว คอมเม้นทุกคอมเม้นจะอยู่ใน domain นมทั้งหมด\n",
    "df_join_url = pd.merge(df_urls_milk,df_cmt_process,how='inner',on='URLs')"
   ]
  },
  {
   "cell_type": "code",
   "execution_count": null,
   "metadata": {},
   "outputs": [],
   "source": [
    "df_join_url.drop(columns=['_id_x','_id_y','headline_y'],inplace=True)\n",
    "df_join_url.rename(columns={\"headline_x\":\"headline\"},inplace=True)"
   ]
  },
  {
   "cell_type": "code",
   "execution_count": 21,
   "metadata": {},
   "outputs": [],
   "source": [
    "df_join_url['token_text_reduce'] = df_join_url['token_text'].apply(lambda x: reduced_keyword(x, reduceCol))"
   ]
  },
  {
   "cell_type": "markdown",
   "metadata": {},
   "source": [
    "### 6.ทำ Topic Modeling จาก Reduce BoW"
   ]
  },
  {
   "cell_type": "markdown",
   "metadata": {},
   "source": [
    "<b>Domain ที่พบหลักๆ นอกเหนือจากตัว Product ห้างที่ขาย แบรนด์</b><br>\n",
    "ค้นหาเทียบเคียงกับ ปัจจัยที่มีผลต่อการบริโภคนม\n",
    "1. แม่และเด็ก (Kurajdova et al, 2015)\n",
    "2. ออกกำลังกาย เล่นเวท วิ่ง พูดถึง Whey หางนม โปรตีน เป็นหลัก (คิดว่าแตกจากหมวดสุขภาพ)\n",
    "3. โปรโมชั่น เช่น จัดโปร ส่วนลด พันแถม แพ๊กคู่ (สุภชาติ ชัยณรงค์สิงห์, 2539)\n",
    "4. เอานมให้หมาแมวกิน (เทรนด์ใหม่)\n",
    "5. รสชาติและคุณภาพ เช่น หอม เหม็น มัน อร่อย บูด เสีย GMP (ชาลิสา สถีระกานนท์, 2560)\n",
    "6. ความยากง่ายในการหาซื้อ (Aen De Alwis et al, 2009 & สุภชาติ ชัยณรงค์สิงห์, 2539)\n",
    "7. ทำกาแฟ ทำขนม (Kurajdova et al, 2015)\n",
    "8. สุขภาพ ความสูง ส่วนผสมเพื่อสุขภาพ การขับถ่าย อนุมูลอิสระ (Kurajdova et al, 2015 & Aen De Alwis et al, 2009 & สุภชาติ ชัยณรงค์สิงห์, 2539)\n",
    "9. ราคาและความคุ้มค่า (ปิยฉัตร ช่างเหล็ก, 2561)\n",
    "<br><br>ตรงนี้ต้องหา Paper มาช่วยยันในบางหัวข้อ ถ้ามีส่วนเกินถือว่าเป็นบริบทของประเทศไทย"
   ]
  },
  {
   "cell_type": "markdown",
   "metadata": {},
   "source": [
    "6.1 สร้าง Bag of word"
   ]
  },
  {
   "cell_type": "code",
   "execution_count": 22,
   "metadata": {},
   "outputs": [],
   "source": [
    "dictionary = gensim.corpora.Dictionary(df_join_url['token_text_reduce'])\n",
    "gensim_corpus = [dictionary.doc2bow(text, allow_update=True) for text in df_join_url['token_text_reduce']]\n",
    "word_frequencies = [[(dictionary[id], frequence) for id, frequence in couple] for couple in gensim_corpus]\n",
    "id2word = dictionary.id2token"
   ]
  },
  {
   "cell_type": "markdown",
   "metadata": {},
   "source": [
    "6.2 หา Optimal Dimension"
   ]
  },
  {
   "cell_type": "code",
   "execution_count": 23,
   "metadata": {},
   "outputs": [],
   "source": [
    "import os\n",
    "from gensim.models.wrappers import LdaMallet\n",
    "from gensim.models import CoherenceModel\n",
    "os.environ.update({'MALLET_HOME':r'D:/development_TestCase/Product-Position-SNA/mallet-2.0.8/'})"
   ]
  },
  {
   "cell_type": "code",
   "execution_count": 24,
   "metadata": {
    "scrolled": true
   },
   "outputs": [],
   "source": [
    "mallet_path = \"D:/development_TestCase/Product-Position-SNA/mallet-2.0.8/bin/mallet\"\n",
    "limit=12; start=2; step=1;\n",
    "coherence_values = []\n",
    "model_list = []\n",
    "for num_topics in range(start, limit, step):\n",
    "    model = LdaMallet(mallet_path, corpus=gensim_corpus, num_topics=num_topics, id2word=id2word)\n",
    "    model_list.append(model)\n",
    "    coherencemodel = CoherenceModel(model=model, texts=df_join_url['token_text_reduce'], dictionary=dictionary, coherence='c_v')\n",
    "    coherence_values.append(coherencemodel.get_coherence())"
   ]
  },
  {
   "cell_type": "code",
   "execution_count": 32,
   "metadata": {},
   "outputs": [],
   "source": [
    "#coherence_values"
   ]
  },
  {
   "cell_type": "code",
   "execution_count": 33,
   "metadata": {},
   "outputs": [
    {
     "data": {
      "text/plain": [
       "[(9,\n",
       "  [('ร้าน', 0.280411293133496),\n",
       "   ('กาแฟ', 0.2445102823283374),\n",
       "   ('สั่ง', 0.09620076681770652),\n",
       "   ('หอม', 0.07337051237364936),\n",
       "   ('หวาน', 0.07023353084698501),\n",
       "   ('ญี่ปุ่น', 0.06796793307772743),\n",
       "   ('ร้อน', 0.06378529104217498),\n",
       "   ('ชอบ', 0.04095503659811781),\n",
       "   ('กาแฟสด', 0.020041826420355523),\n",
       "   ('นิยม', 0.009410944579993029)]),\n",
       " (5,\n",
       "  [('อร่อย', 0.44200626959247646),\n",
       "   ('ขาย', 0.23859282479972135),\n",
       "   ('ชอบ', 0.14611633577150818),\n",
       "   ('แพง', 0.10344827586206896),\n",
       "   ('แถม', 0.03587600139324277),\n",
       "   ('เจมส์จิ', 0.011668408220132358),\n",
       "   ('ชานม', 0.009404388714733543),\n",
       "   ('กลมกล่อม', 0.0073145245559038665),\n",
       "   ('ฟาร์ม', 0.0033089515848136537),\n",
       "   ('กลิ่นหอม', 0.0019157088122605363)]),\n",
       " (3,\n",
       "  [('นมสด', 0.18561727320215915),\n",
       "   ('ผสม', 0.1751697718962215),\n",
       "   ('จืด', 0.1312902664112833),\n",
       "   ('ต้ม', 0.0841023855127982),\n",
       "   ('ขวด', 0.08201288525161066),\n",
       "   ('พนักงาน', 0.06251088281386036),\n",
       "   ('ถ้วย', 0.060073132509141564),\n",
       "   ('นมข้นหวาน', 0.030471878808984852),\n",
       "   ('หมดอายุ', 0.02664112833014104),\n",
       "   ('ทิ้ง', 0.02211387776423472)]),\n",
       " (0,\n",
       "  [('กิน', 0.9998439207117216),\n",
       "   ('หาย', 0.00015607928827844546),\n",
       "   ('บูด', 0.0),\n",
       "   ('ร้านนม', 0.0),\n",
       "   ('นมอุ่น', 0.0),\n",
       "   ('ไมโครเวฟ', 0.0),\n",
       "   ('เลี้ยงเด็ก', 0.0),\n",
       "   ('พลังงาน', 0.0),\n",
       "   ('เวท', 0.0),\n",
       "   ('ขับถ่าย', 0.0)]),\n",
       " (1,\n",
       "  [('รส', 0.22167789344764238),\n",
       "   ('รสชาติ', 0.1769748928352725),\n",
       "   ('7-Eleven', 0.14574402939375383),\n",
       "   ('หวาน', 0.10349050826699327),\n",
       "   ('กลิ่น', 0.09476423759951011),\n",
       "   ('สินค้า', 0.09154929577464789),\n",
       "   ('ขนมปัง', 0.06567666870789957),\n",
       "   ('แถม', 0.04898958971218616),\n",
       "   ('หอม', 0.019748928352725046),\n",
       "   ('เวฟ', 0.016074709124311085)]),\n",
       " (8,\n",
       "  [('ซื้อ', 0.5580703783247977),\n",
       "   ('หา', 0.1967619362299686),\n",
       "   ('แนะนำ', 0.054518420617875436),\n",
       "   ('จ่าย', 0.0411366264662151),\n",
       "   ('โปร', 0.03006773500743433),\n",
       "   ('ประหยัด', 0.02676358830332067),\n",
       "   ('lotus', 0.024946307616058153),\n",
       "   ('ลดราคา', 0.015364282174128531),\n",
       "   ('bigc', 0.010903684123575086),\n",
       "   ('ค่าใช้จ่าย', 0.008755988765901206)]),\n",
       " (2,\n",
       "  [('ดื่ม', 0.2227409136378793),\n",
       "   ('กินนม', 0.1322107369123041),\n",
       "   ('นมวัว', 0.11603867955985328),\n",
       "   ('นมผง', 0.11270423474491498),\n",
       "   ('ดื่มนม', 0.07719239746582195),\n",
       "   ('วิตามิน', 0.05568522840946982),\n",
       "   ('สารอาหาร', 0.048849616538846286),\n",
       "   ('ท้อง', 0.04701567189063021),\n",
       "   ('ท้องเสีย', 0.04434811603867956),\n",
       "   ('แพะ', 0.02717572524174725)]),\n",
       " (7,\n",
       "  [('น้ำตาล', 0.19723071969087103),\n",
       "   ('โปรตีน', 0.1502173563033328),\n",
       "   ('ไขมัน', 0.11801642247625181),\n",
       "   ('ขวด', 0.1044920302688778),\n",
       "   ('ออกกำลังกาย', 0.07792625986153598),\n",
       "   ('แนะนำ', 0.06585090967638062),\n",
       "   ('เวย์', 0.05361455482208984),\n",
       "   ('พลังงาน', 0.03220093382708099),\n",
       "   ('โภชนาการ', 0.02640476573820641),\n",
       "   ('fat', 0.0196425696345194)]),\n",
       " (4,\n",
       "  [('ลูก', 0.32514619883040935),\n",
       "   ('แม่', 0.2675438596491228),\n",
       "   ('เด็ก', 0.19824561403508772),\n",
       "   ('คุณแม่', 0.0347953216374269),\n",
       "   ('แข็งแรง', 0.028362573099415204),\n",
       "   ('มีประโยชน์', 0.02456140350877193),\n",
       "   ('พ่อแม่', 0.021929824561403508),\n",
       "   ('ท้อง', 0.020029239766081872),\n",
       "   ('มีลูก', 0.015058479532163743),\n",
       "   ('เลี้ยงลูก', 0.012280701754385965)]),\n",
       " (10,\n",
       "  [('กล่อง', 0.23013698630136986),\n",
       "   ('ชอบ', 0.11397260273972602),\n",
       "   ('สี', 0.0936986301369863),\n",
       "   ('หาย', 0.07324200913242009),\n",
       "   ('แป้ง', 0.0639269406392694),\n",
       "   ('แมว', 0.05150684931506849),\n",
       "   ('เค้ก', 0.05041095890410959),\n",
       "   ('เนย', 0.04639269406392694),\n",
       "   ('ทิ้ง', 0.046210045662100456),\n",
       "   ('ฝา', 0.04529680365296804)])]"
      ]
     },
     "execution_count": 33,
     "metadata": {},
     "output_type": "execute_result"
    }
   ],
   "source": [
    "#model.show_topics(formatted=False)"
   ]
  },
  {
   "cell_type": "code",
   "execution_count": 26,
   "metadata": {},
   "outputs": [
    {
     "data": {
      "image/png": "[encoded data removed]",
      "text/plain": [
       "<Figure size 432x288 with 1 Axes>"
      ]
     },
     "metadata": {
      "needs_background": "light"
     },
     "output_type": "display_data"
    }
   ],
   "source": [
    "# Show graph\n",
    "x = range(start, limit, step)\n",
    "plt.plot(x, coherence_values)\n",
    "plt.xlabel(\"Num Topics\")\n",
    "plt.ylabel(\"Coherence score\")\n",
    "plt.legend((\"coherence_values\"), loc='best')\n",
    "plt.show()"
   ]
  },
  {
   "cell_type": "code",
   "execution_count": 30,
   "metadata": {},
   "outputs": [
    {
     "name": "stdout",
     "output_type": "stream",
     "text": [
      "Num Topics = 2  has Coherence Value of 0.749\n",
      "Num Topics = 3  has Coherence Value of 0.6776\n",
      "Num Topics = 4  has Coherence Value of 0.6715\n",
      "Num Topics = 5  has Coherence Value of 0.586\n",
      "Num Topics = 6  has Coherence Value of 0.5552\n",
      "Num Topics = 7  has Coherence Value of 0.5373\n",
      "Num Topics = 8  has Coherence Value of 0.5041\n",
      "Num Topics = 9  has Coherence Value of 0.4983\n",
      "Num Topics = 10  has Coherence Value of 0.4892\n",
      "Num Topics = 11  has Coherence Value of 0.4567\n"
     ]
    }
   ],
   "source": [
    "# Print the coherence scores\n",
    "for m, cv in zip(x, coherence_values):\n",
    "    print(\"Num Topics =\", m, \" has Coherence Value of\", round(cv, 4))"
   ]
  },
  {
   "cell_type": "markdown",
   "metadata": {},
   "source": [
    "6.3 สร้าง LdaModel ตามกลุ่มที่หาได้"
   ]
  },
  {
   "cell_type": "code",
   "execution_count": null,
   "metadata": {},
   "outputs": [],
   "source": [
    "#num_topics = 9\n",
    "chunksize = 4000                  # size of the doc looked at every pass\n",
    "iterations = 50\n",
    "eval_every = 1                    # Don't evaluate model perplexity, takes too much time.\n",
    "\n",
    "# Make a index to word dictionary.\n",
    "temp = dictionary[0]  # This is only to \"load\" the dictionary.\n",
    "id2word = dictionary.id2token\n",
    "\n",
    "%time model = gensim.models.LdaModel(corpus=gensim_corpus, id2word=id2word, chunksize=chunksize \\\n",
    "                                     ,alpha='auto', eta='auto',iterations=iterations, eval_every=eval_every)\n",
    "                                     #,num_topics=num_topics \\\n",
    "                                     #, eval_every=eval_every)"
   ]
  },
  {
   "cell_type": "code",
   "execution_count": null,
   "metadata": {},
   "outputs": [],
   "source": [
    "pyLDAvis.gensim.prepare(model, gensim_corpus, dictionary, R=40, lambda_step=0.1)"
   ]
  },
  {
   "cell_type": "markdown",
   "metadata": {},
   "source": [
    "https://radimrehurek.com/gensim/models/ldamodel.html"
   ]
  },
  {
   "cell_type": "raw",
   "metadata": {},
   "source": [
    "#Get the most relevant topics to the given word.\n",
    "# Set probability = 0.0001\n",
    "\n",
    "def get_terms_topics(term_text, d, model, minProb=0.0001):\n",
    "    listofTup = []\n",
    "    for tt_couple in model.get_term_topics(dictionary.token2id[term_text], minimum_probability=minProb):\n",
    "        id_, prob = tt_couple\n",
    "        listofTup.append((d[id_], prob))\n",
    "    df = pd.DataFrame(listofTup)\n",
    "    df.insert(0,'Term',value=term_text)\n",
    "    df.columns = ['Term','topic','prob']\n",
    "    return df.sort_values(by='prob', ascending=False)"
   ]
  },
  {
   "cell_type": "raw",
   "metadata": {},
   "source": [
    "#Get the most relevant topics to the given word.\n",
    "# Set probability = 0.0001\n",
    "\n",
    "def get_topics_terms(topic, d, model, minProb=0.0001):\n",
    "    listofTup = []\n",
    "    for tt_couple in model.get_topic_terms(topic,topn=30):\n",
    "        id_, prob = tt_couple\n",
    "        listofTup.append((d[id_], prob))\n",
    "    df = pd.DataFrame(listofTup)\n",
    "    df.insert(0,'Topic',value=d[topic])\n",
    "    df.columns = ['Topic','term','prob']\n",
    "    return df.sort_values(by='prob', ascending=False)"
   ]
  },
  {
   "cell_type": "raw",
   "metadata": {
    "scrolled": true
   },
   "source": [
    "# องค์ประกอบพื้นฐาน ตาม master ที่ใช้ตัดคำ และ Generalized\n",
    "#get_terms_topics('ซื้อ',dictionary,model)\n",
    "#get_terms_topics('ขาย',dictionary,model)\n",
    "\n",
    "# ไล่เช็คทีละ Topic โดยเลือกจาก Top30 Prob แต่ละกลุ่ม และดูตัวที่สนใจ (ตามทบทวนวรรณกรรม)\n",
    "# สุดที่ 99 กลุ่ม\n",
    "#get_topics_terms(99,dictionary,model).head(3)"
   ]
  }
 ],
 "metadata": {
  "colab": {
   "collapsed_sections": [
    "EpwX95XlTCdl",
    "_Q9pU1J6TCe5",
    "NKW--A73mzli",
    "uBBA36fDTCfZ",
    "O8nlNNE4TCfj"
   ],
   "name": "EDA_Token_CoocMat.ipynb",
   "provenance": []
  },
  "kernelspec": {
   "display_name": "Python 3",
   "language": "python",
   "name": "python3"
  },
  "language_info": {
   "codemirror_mode": {
    "name": "ipython",
    "version": 3
   },
   "file_extension": ".py",
   "mimetype": "text/x-python",
   "name": "python",
   "nbconvert_exporter": "python",
   "pygments_lexer": "ipython3",
   "version": "3.7.3"
  }
 },
 "nbformat": 4,
 "nbformat_minor": 1
}
