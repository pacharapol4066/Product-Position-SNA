{
 "cells": [
  {
   "cell_type": "markdown",
   "metadata": {
    "id": "xoY8sy40TCb5"
   },
   "source": [
    "### IS - Brand position\n",
    "Finding Product position on Social Network (PPSN)"
   ]
  },
  {
   "cell_type": "raw",
   "metadata": {
    "colab": {
     "base_uri": "https://localhost:8080/"
    },
    "executionInfo": {
     "elapsed": 28353,
     "status": "ok",
     "timestamp": 1604024868503,
     "user": {
      "displayName": "Pacharapol O.",
      "photoUrl": "https://lh3.googleusercontent.com/a-/AOh14GiBNaVjsCxoMVUqEvSDC7eauF0V2ZD7B-TzevR1TQ=s64",
      "userId": "00378494490135533545"
     },
     "user_tz": -420
    },
    "id": "GkBEUBUqTGuf",
    "outputId": "cb22db45-820a-48fd-c11a-a0568439778f"
   },
   "source": [
    "from google.colab import drive\n",
    "drive.mount('/content/drive')"
   ]
  },
  {
   "cell_type": "raw",
   "metadata": {
    "colab": {
     "base_uri": "https://localhost:8080/"
    },
    "executionInfo": {
     "elapsed": 1693,
     "status": "ok",
     "timestamp": 1604024868819,
     "user": {
      "displayName": "Pacharapol O.",
      "photoUrl": "https://lh3.googleusercontent.com/a-/AOh14GiBNaVjsCxoMVUqEvSDC7eauF0V2ZD7B-TzevR1TQ=s64",
      "userId": "00378494490135533545"
     },
     "user_tz": -420
    },
    "id": "_5mrzpx3TH9K",
    "outputId": "129bb192-4ac2-4b03-bc89-7ee7a65d5032"
   },
   "source": [
    "cd /content/drive/My\\ Drive/Colab\\ Notebooks/Master_PJ_DRMABS/Datasource"
   ]
  },
  {
   "cell_type": "code",
   "execution_count": 1,
   "metadata": {
    "executionInfo": {
     "elapsed": 2631,
     "status": "ok",
     "timestamp": 1604024879769,
     "user": {
      "displayName": "Pacharapol O.",
      "photoUrl": "https://lh3.googleusercontent.com/a-/AOh14GiBNaVjsCxoMVUqEvSDC7eauF0V2ZD7B-TzevR1TQ=s64",
      "userId": "00378494490135533545"
     },
     "user_tz": -420
    },
    "id": "cC0cBdCdTCb6"
   },
   "outputs": [],
   "source": [
    "import networkx as nx\n",
    "import numpy as np\n",
    "import pandas as pd\n",
    "import itertools\n",
    "import math\n",
    "import string\n",
    "import json\n",
    "import pymongo\n",
    "from itertools import groupby"
   ]
  },
  {
   "cell_type": "code",
   "execution_count": 2,
   "metadata": {},
   "outputs": [
    {
     "name": "stderr",
     "output_type": "stream",
     "text": [
      "C:\\ProgramData\\Anaconda3\\lib\\site-packages\\past\\types\\oldstr.py:5: DeprecationWarning: Using or importing the ABCs from 'collections' instead of from 'collections.abc' is deprecated, and in 3.8 it will stop working\n",
      "  from collections import Iterable\n",
      "C:\\ProgramData\\Anaconda3\\lib\\site-packages\\_pytest\\mark\\structures.py:378: DeprecationWarning: The usage of `cmp` is deprecated and will be removed on or after 2021-06-01.  Please use `eq` and `order` instead.\n",
      "  @attr.s(cmp=False, hash=False)\n"
     ]
    }
   ],
   "source": [
    "import gensim\n",
    "import pyLDAvis.gensim\n",
    "pyLDAvis.enable_notebook()\n",
    "\n",
    "import warnings\n",
    "warnings.filterwarnings(\"ignore\", category=DeprecationWarning)\n",
    "warnings.filterwarnings(\"ignore\", category=pd.core.common.SettingWithCopyWarning)"
   ]
  },
  {
   "cell_type": "code",
   "execution_count": 3,
   "metadata": {
    "executionInfo": {
     "elapsed": 2031,
     "status": "ok",
     "timestamp": 1604024879770,
     "user": {
      "displayName": "Pacharapol O.",
      "photoUrl": "https://lh3.googleusercontent.com/a-/AOh14GiBNaVjsCxoMVUqEvSDC7eauF0V2ZD7B-TzevR1TQ=s64",
      "userId": "00378494490135533545"
     },
     "user_tz": -420
    },
    "id": "1kqXURiiTCb-"
   },
   "outputs": [],
   "source": [
    "import time\n",
    "from datetime import datetime\n",
    "today = datetime.now()"
   ]
  },
  {
   "cell_type": "code",
   "execution_count": 4,
   "metadata": {},
   "outputs": [
    {
     "name": "stderr",
     "output_type": "stream",
     "text": [
      "C:\\ProgramData\\Anaconda3\\lib\\site-packages\\statsmodels\\tools\\_testing.py:19: FutureWarning: pandas.util.testing is deprecated. Use the functions in the public API at pandas.testing instead.\n",
      "  import pandas.util.testing as tm\n"
     ]
    }
   ],
   "source": [
    "import statistics as stat\n",
    "import matplotlib.pyplot as plt\n",
    "import seaborn as sns"
   ]
  },
  {
   "cell_type": "code",
   "execution_count": 5,
   "metadata": {
    "executionInfo": {
     "elapsed": 6121,
     "status": "ok",
     "timestamp": 1604024888335,
     "user": {
      "displayName": "Pacharapol O.",
      "photoUrl": "https://lh3.googleusercontent.com/a-/AOh14GiBNaVjsCxoMVUqEvSDC7eauF0V2ZD7B-TzevR1TQ=s64",
      "userId": "00378494490135533545"
     },
     "user_tz": -420
    },
    "id": "acWWFhczTCcO"
   },
   "outputs": [],
   "source": [
    "from bs4 import BeautifulSoup\n",
    "from urllib.request import urlopen"
   ]
  },
  {
   "cell_type": "code",
   "execution_count": 6,
   "metadata": {
    "executionInfo": {
     "elapsed": 5596,
     "status": "ok",
     "timestamp": 1604024888336,
     "user": {
      "displayName": "Pacharapol O.",
      "photoUrl": "https://lh3.googleusercontent.com/a-/AOh14GiBNaVjsCxoMVUqEvSDC7eauF0V2ZD7B-TzevR1TQ=s64",
      "userId": "00378494490135533545"
     },
     "user_tz": -420
    },
    "id": "l0SZe4-LTCcd"
   },
   "outputs": [],
   "source": [
    "from IPython.display import clear_output"
   ]
  },
  {
   "cell_type": "code",
   "execution_count": 7,
   "metadata": {},
   "outputs": [],
   "source": [
    "# Connect MongoDB\n",
    "myclient = pymongo.MongoClient(\"mongodb://localhost:27017/\")\n",
    "mydb = myclient[\"NIDA_PPSN_PRD\"]\n",
    "col_thread = mydb[\"NIDA_PPSN_THREAD\"]\n",
    "col_comment = mydb[\"NIDA_PPSN_COMMENT\"]"
   ]
  },
  {
   "cell_type": "code",
   "execution_count": 8,
   "metadata": {},
   "outputs": [],
   "source": [
    "def reduced_keyword(wtkn,redCol):\n",
    "    del_list = []\n",
    "    ret_wtkn = wtkn\n",
    "    for each in ret_wtkn:\n",
    "        if each not in redCol:\n",
    "            del_list.append(each)\n",
    "    ret_wtkn = [x for x in ret_wtkn if x not in del_list]\n",
    "    return ret_wtkn"
   ]
  },
  {
   "cell_type": "markdown",
   "metadata": {},
   "source": [
    "### 3.Process หัวกระทู้เพื่อดึง Domain (Brand & Product) ไม่ใช้โมเดลเทรนแล้วทำนาย ต้องการความถูกต้อง 100%"
   ]
  },
  {
   "cell_type": "code",
   "execution_count": 9,
   "metadata": {},
   "outputs": [],
   "source": [
    "cursor_thread = col_thread.find()\n",
    "df_thr_process = pd.DataFrame(cursor_thread)"
   ]
  },
  {
   "cell_type": "code",
   "execution_count": 10,
   "metadata": {},
   "outputs": [],
   "source": [
    "cursor_comment = col_comment.find()\n",
    "df_cmt_process = pd.DataFrame(cursor_comment)"
   ]
  },
  {
   "cell_type": "code",
   "execution_count": 11,
   "metadata": {},
   "outputs": [],
   "source": [
    "df_urls_milk = df_thr_process[(df_thr_process.t_mention_brand.str.len() != 0) | (df_thr_process.t_mention_product.str.len() != 0)]\n",
    "df_urls_milk['t_mention_brand'] = df_urls_milk['t_mention_brand'].apply(lambda x: repr(set(x)))\n",
    "df_urls_milk['t_mention_product'] = df_urls_milk['t_mention_product'].apply(lambda x: repr(set(x)))"
   ]
  },
  {
   "cell_type": "code",
   "execution_count": 12,
   "metadata": {},
   "outputs": [],
   "source": [
    "df_join_url = pd.merge(df_urls_milk,df_cmt_process,how='inner',on='URLs')\n",
    "df_join_url.drop(columns=['Table','_id_x','_id_y','text_x','token_text_x','cmt_mention_brand','cmt_mention_product'],inplace=True)\n",
    "df_join_url.columns = ['URLs','t_mention_brand','t_mention_product'\n",
    "                       ,'Retrived_date','commentId','comment_text','token_text',]"
   ]
  },
  {
   "cell_type": "code",
   "execution_count": 13,
   "metadata": {},
   "outputs": [
    {
     "data": {
      "text/html": [
       "<div>\n",
       "<style scoped>\n",
       "    .dataframe tbody tr th:only-of-type {\n",
       "        vertical-align: middle;\n",
       "    }\n",
       "\n",
       "    .dataframe tbody tr th {\n",
       "        vertical-align: top;\n",
       "    }\n",
       "\n",
       "    .dataframe thead th {\n",
       "        text-align: right;\n",
       "    }\n",
       "</style>\n",
       "<table border=\"1\" class=\"dataframe\">\n",
       "  <thead>\n",
       "    <tr style=\"text-align: right;\">\n",
       "      <th></th>\n",
       "      <th>URLs</th>\n",
       "      <th>t_mention_brand</th>\n",
       "      <th>t_mention_product</th>\n",
       "      <th>Retrived_date</th>\n",
       "      <th>commentId</th>\n",
       "      <th>comment_text</th>\n",
       "      <th>token_text</th>\n",
       "    </tr>\n",
       "  </thead>\n",
       "  <tbody>\n",
       "    <tr>\n",
       "      <th>0</th>\n",
       "      <td>https://pantip.com/topic/39868603</td>\n",
       "      <td>{'รสหวาน', 'นม'}</td>\n",
       "      <td>{'เมจิ'}</td>\n",
       "      <td>1</td>\n",
       "      <td>เมื่อก่อนหลายปีมาแล้ว ในเซเว่นยังมีนมเมจิรสหวา...</td>\n",
       "      <td>2020-10-26 12:40:26.135083</td>\n",
       "      <td>[ปี, 7-Eleven, ยังมี, นม, เมจิ, รสหวาน, ขาย, อ...</td>\n",
       "    </tr>\n",
       "    <tr>\n",
       "      <th>1</th>\n",
       "      <td>https://pantip.com/topic/39868603</td>\n",
       "      <td>{'รสหวาน', 'นม'}</td>\n",
       "      <td>{'เมจิ'}</td>\n",
       "      <td>2</td>\n",
       "      <td>เบาหวานครับ แฮ่ๆ</td>\n",
       "      <td>2020-10-26 12:40:26.135083</td>\n",
       "      <td>[เบาหวาน]</td>\n",
       "    </tr>\n",
       "    <tr>\n",
       "      <th>2</th>\n",
       "      <td>https://pantip.com/topic/39868603</td>\n",
       "      <td>{'รสหวาน', 'นม'}</td>\n",
       "      <td>{'เมจิ'}</td>\n",
       "      <td>3</td>\n",
       "      <td>หาซื้อไม่ได้นี่คิดได้  2 อย่างนะ.    คนไม่ค่อย...</td>\n",
       "      <td>2020-10-26 12:40:26.135083</td>\n",
       "      <td>[หา, ซื้อไม่ได้, คิดได้, , .    คน, กินกัน, ไม...</td>\n",
       "    </tr>\n",
       "  </tbody>\n",
       "</table>\n",
       "</div>"
      ],
      "text/plain": [
       "                                URLs   t_mention_brand t_mention_product  \\\n",
       "0  https://pantip.com/topic/39868603  {'รสหวาน', 'นม'}          {'เมจิ'}   \n",
       "1  https://pantip.com/topic/39868603  {'รสหวาน', 'นม'}          {'เมจิ'}   \n",
       "2  https://pantip.com/topic/39868603  {'รสหวาน', 'นม'}          {'เมจิ'}   \n",
       "\n",
       "   Retrived_date                                          commentId  \\\n",
       "0              1  เมื่อก่อนหลายปีมาแล้ว ในเซเว่นยังมีนมเมจิรสหวา...   \n",
       "1              2                                   เบาหวานครับ แฮ่ๆ   \n",
       "2              3  หาซื้อไม่ได้นี่คิดได้  2 อย่างนะ.    คนไม่ค่อย...   \n",
       "\n",
       "                 comment_text  \\\n",
       "0  2020-10-26 12:40:26.135083   \n",
       "1  2020-10-26 12:40:26.135083   \n",
       "2  2020-10-26 12:40:26.135083   \n",
       "\n",
       "                                          token_text  \n",
       "0  [ปี, 7-Eleven, ยังมี, นม, เมจิ, รสหวาน, ขาย, อ...  \n",
       "1                                          [เบาหวาน]  \n",
       "2  [หา, ซื้อไม่ได้, คิดได้, , .    คน, กินกัน, ไม...  "
      ]
     },
     "execution_count": 13,
     "metadata": {},
     "output_type": "execute_result"
    }
   ],
   "source": [
    "df_join_url.head(3)"
   ]
  },
  {
   "cell_type": "markdown",
   "metadata": {},
   "source": [
    "EDA#2"
   ]
  },
  {
   "cell_type": "code",
   "execution_count": 14,
   "metadata": {},
   "outputs": [
    {
     "name": "stderr",
     "output_type": "stream",
     "text": [
      "C:\\ProgramData\\Anaconda3\\lib\\site-packages\\ipykernel_launcher.py:2: UserWarning: Pandas doesn't allow columns to be created via a new attribute name - see https://pandas.pydata.org/pandas-docs/stable/indexing.html#attribute-access\n",
      "  \n"
     ]
    }
   ],
   "source": [
    "df_view = df_urls_milk[['URLs','t_mention_product']]\n",
    "df_view.column = ['URLs','t_mention_product']\n",
    "df_view_count = df_view.groupby('t_mention_product').count()"
   ]
  },
  {
   "cell_type": "code",
   "execution_count": 15,
   "metadata": {},
   "outputs": [],
   "source": [
    "df_c_urls_milk = df_cmt_process[(df_cmt_process.cmt_mention_brand.str.len() != 0) | (df_cmt_process.cmt_mention_product.str.len() != 0)]\n",
    "df_c_urls_milk['cmt_mention_brand'] = df_c_urls_milk['cmt_mention_brand'].apply(lambda x: repr(set(x)))\n",
    "df_c_urls_milk['cmt_mention_product'] = df_c_urls_milk['cmt_mention_product'].apply(lambda x: repr(set(x)))"
   ]
  },
  {
   "cell_type": "code",
   "execution_count": 16,
   "metadata": {},
   "outputs": [
    {
     "name": "stderr",
     "output_type": "stream",
     "text": [
      "C:\\ProgramData\\Anaconda3\\lib\\site-packages\\ipykernel_launcher.py:2: UserWarning: Pandas doesn't allow columns to be created via a new attribute name - see https://pandas.pydata.org/pandas-docs/stable/indexing.html#attribute-access\n",
      "  \n"
     ]
    }
   ],
   "source": [
    "df_view2 = df_c_urls_milk[['URLs','cmt_mention_product']]\n",
    "df_view2.column = ['URLs','cmt_mention_product']\n",
    "df_view_count2 = df_view2.groupby('cmt_mention_product').count()"
   ]
  },
  {
   "cell_type": "code",
   "execution_count": 17,
   "metadata": {},
   "outputs": [
    {
     "name": "stdout",
     "output_type": "stream",
     "text": [
      "จำนวนกระทู้ 1514\n",
      "จำนวน comment 60545\n",
      "จำนวนกระทู้พูดถึง brand หรือ มีนมเกี่ยวข้อง อย่างใดอย่างหนึ่ง 742\n",
      "จำนวนกระทู้มีระบุตัว product 310\n",
      "จำนวน comment พูดถึง brand หรือมีนมเกี่ยวข้องง อย่างใดอย่างหนึ่ง 8726\n",
      "จำนวน comment มีระบุตัว product 3256\n",
      "odd product/นม กระทู้ 0.42\n",
      "odd product/นม comment 0.37\n",
      "หมายเหตุ : ไม่ได้ impute ขั้วกระทู้เข้า comment\n"
     ]
    }
   ],
   "source": [
    "print('จำนวนกระทู้',df_thr_process.shape[0])\n",
    "print('จำนวน comment',df_cmt_process.shape[0])\n",
    "print('จำนวนกระทู้พูดถึง brand หรือ มีนมเกี่ยวข้อง อย่างใดอย่างหนึ่ง',df_urls_milk.shape[0])\n",
    "print('จำนวนกระทู้มีระบุตัว product',df_view[(df_view.t_mention_product!=\"{'นม'}\")&(df_view.t_mention_product!=\"set()\")].shape[0])\n",
    "print('จำนวน comment พูดถึง brand หรือมีนมเกี่ยวข้องง อย่างใดอย่างหนึ่ง',df_c_urls_milk.shape[0])\n",
    "print('จำนวน comment มีระบุตัว product',df_view2[(df_view2.cmt_mention_product!=\"{'นม'}\")&(df_view2.cmt_mention_product!=\"set()\")].shape[0])\n",
    "print('odd product/นม กระทู้',round(df_view[(df_view.t_mention_product!=\"{'นม'}\")&(df_view.t_mention_product!=\"set()\")].shape[0]/df_urls_milk.shape[0],2))\n",
    "print('odd product/นม comment',round(df_view2[(df_view2.cmt_mention_product!=\"{'นม'}\")&(df_view2.cmt_mention_product!=\"set()\")].shape[0]/df_c_urls_milk.shape[0],2))\n",
    "print('หมายเหตุ : ไม่ได้ impute ขั้วกระทู้เข้า comment')"
   ]
  },
  {
   "cell_type": "markdown",
   "metadata": {},
   "source": [
    "จาก Issue นี้จะพบว่าทำ Product position ได้ยาก แต่ทำ Brand position แทนได้ เนื่องจากสัดส่วนของข้อความที่มีการพูดถึง brand+flavor \n",
    "มีน้อยกว่าครึ่ง จึงให้ใช้วิธีเอา brand ของหัวกระทู้แปะไปในทุก comment แทน เพื่อทำ Brand Position ส่วน flavor จะกลายเป็น attribute ไป"
   ]
  },
  {
   "cell_type": "code",
   "execution_count": 18,
   "metadata": {
    "scrolled": true
   },
   "outputs": [
    {
     "data": {
      "text/html": [
       "<div>\n",
       "<style scoped>\n",
       "    .dataframe tbody tr th:only-of-type {\n",
       "        vertical-align: middle;\n",
       "    }\n",
       "\n",
       "    .dataframe tbody tr th {\n",
       "        vertical-align: top;\n",
       "    }\n",
       "\n",
       "    .dataframe thead th {\n",
       "        text-align: right;\n",
       "    }\n",
       "</style>\n",
       "<table border=\"1\" class=\"dataframe\">\n",
       "  <thead>\n",
       "    <tr style=\"text-align: right;\">\n",
       "      <th></th>\n",
       "      <th>URLs</th>\n",
       "    </tr>\n",
       "    <tr>\n",
       "      <th>cmt_mention_product</th>\n",
       "      <th></th>\n",
       "    </tr>\n",
       "  </thead>\n",
       "  <tbody>\n",
       "    <tr>\n",
       "      <th>{'นม'}</th>\n",
       "      <td>4266</td>\n",
       "    </tr>\n",
       "    <tr>\n",
       "      <th>set()</th>\n",
       "      <td>1204</td>\n",
       "    </tr>\n",
       "    <tr>\n",
       "      <th>{'โยเกิร์ต'}</th>\n",
       "      <td>381</td>\n",
       "    </tr>\n",
       "    <tr>\n",
       "      <th>{'ช็อกโกแลต'}</th>\n",
       "      <td>217</td>\n",
       "    </tr>\n",
       "    <tr>\n",
       "      <th>{'นม', 'โยเกิร์ต'}</th>\n",
       "      <td>197</td>\n",
       "    </tr>\n",
       "    <tr>\n",
       "      <th>...</th>\n",
       "      <td>...</td>\n",
       "    </tr>\n",
       "    <tr>\n",
       "      <th>{'นม', 'ไขมัน 0%', 'ไขมันต่ำ', 'สตรอว์เบอร์รี'}</th>\n",
       "      <td>1</td>\n",
       "    </tr>\n",
       "    <tr>\n",
       "      <th>{'นม', 'ไขมัน 0%', 'ไขมันต่ำ', 'เมจิโกลด์'}</th>\n",
       "      <td>1</td>\n",
       "    </tr>\n",
       "    <tr>\n",
       "      <th>{'นม', 'ไขมัน 0%', 'ไขมันต่ำ', 'ไฮโปรตีน'}</th>\n",
       "      <td>1</td>\n",
       "    </tr>\n",
       "    <tr>\n",
       "      <th>{'นม', 'ไขมันต่ำ', 'ซากุระ'}</th>\n",
       "      <td>1</td>\n",
       "    </tr>\n",
       "    <tr>\n",
       "      <th>{'ช็อกโกแลต', 'ไขมัน 0%', 'มอลต์', 'ไขมันต่ำ', 'โยเกิร์ต', 'นม', 'รสธรรมชาติ', 'รสจืด', 'รสกลมกล่อม', 'รสกาแฟ', 'พาสเจอร์ไรส์'}</th>\n",
       "      <td>1</td>\n",
       "    </tr>\n",
       "  </tbody>\n",
       "</table>\n",
       "<p>343 rows × 1 columns</p>\n",
       "</div>"
      ],
      "text/plain": [
       "                                                    URLs\n",
       "cmt_mention_product                                     \n",
       "{'นม'}                                              4266\n",
       "set()                                               1204\n",
       "{'โยเกิร์ต'}                                         381\n",
       "{'ช็อกโกแลต'}                                        217\n",
       "{'นม', 'โยเกิร์ต'}                                   197\n",
       "...                                                  ...\n",
       "{'นม', 'ไขมัน 0%', 'ไขมันต่ำ', 'สตรอว์เบอร์รี'}        1\n",
       "{'นม', 'ไขมัน 0%', 'ไขมันต่ำ', 'เมจิโกลด์'}            1\n",
       "{'นม', 'ไขมัน 0%', 'ไขมันต่ำ', 'ไฮโปรตีน'}             1\n",
       "{'นม', 'ไขมันต่ำ', 'ซากุระ'}                           1\n",
       "{'ช็อกโกแลต', 'ไขมัน 0%', 'มอลต์', 'ไขมันต่ำ', ...     1\n",
       "\n",
       "[343 rows x 1 columns]"
      ]
     },
     "execution_count": 18,
     "metadata": {},
     "output_type": "execute_result"
    }
   ],
   "source": [
    "df_view_count2.sort_values(by='URLs',ascending=False)"
   ]
  },
  {
   "cell_type": "markdown",
   "metadata": {},
   "source": [
    "###  4. คัดเลือกคำมาเป็น Attribute ด้วย TF-IDF"
   ]
  },
  {
   "cell_type": "code",
   "execution_count": null,
   "metadata": {},
   "outputs": [],
   "source": []
  },
  {
   "cell_type": "code",
   "execution_count": null,
   "metadata": {},
   "outputs": [],
   "source": []
  },
  {
   "cell_type": "code",
   "execution_count": null,
   "metadata": {},
   "outputs": [],
   "source": []
  },
  {
   "cell_type": "code",
   "execution_count": null,
   "metadata": {},
   "outputs": [],
   "source": []
  },
  {
   "cell_type": "code",
   "execution_count": null,
   "metadata": {},
   "outputs": [],
   "source": []
  },
  {
   "cell_type": "code",
   "execution_count": 18,
   "metadata": {},
   "outputs": [],
   "source": [
    "execption_urls = ['https://pantip.com/topic/30833944','https://pantip.com/topic/30105850','https://pantip.com/topic/35439062']"
   ]
  },
  {
   "cell_type": "code",
   "execution_count": 37,
   "metadata": {},
   "outputs": [],
   "source": [
    "attrributes = ['การบูด','โปร','โปรโมชั่น','แถม','บูด','เป็นผลดี','หา','หมดอายุ', 'กลิ่น','หอม','กลิ่นหอม', 'แนะนำ', 'shelf life','แม่','คุณแม่'\n",
    " ,'ลูก','เด็ก','เลี้ยงลูก','เลี้ยงเด็ก','พัฒนาการ','คุณแม่มือใหม่','สั่ง', 'ค่าใช้จ่าย', 'เพิ่มขึ้น', 'สินค้า', 'ชอบ','นิยม', 'สี', 'ซื้อไม่ได้'\n",
    " , 'ทิ้ง', 'จืด','หวาน' , 'fat', 'นิยม','ราคาสูง','กาแฟ','ชงกาแฟ','หาย','ต้ม','อุ่น','ร้อน', 'พื้นฐาน', 'ขายไม่ดี','สูง','ส่วนสูง'\n",
    " , 'กาแฟสด', 'จ่าย', 'ขาย', 'รส','รสชาติ', 'กลมกล่อม','ไขมัน','พนักงาน','ไมโครเวฟ','ฟาร์ม'\n",
    " ,'ส่วนผสม','ผสม','เบาหวาน','รสพื้นฐาน','โปรตีน','เวย์','เวท','วิ่ง','protein','whey','ขับถ่าย','อึ','dha','น้ำตาล','เบาหวาน'\n",
    " ,'ฝา', 'นมสด','ถ้วย', 'ร้าน', 'ดื่ม', 'เซเว่น', 'ขวด', 'นึกถึง', 'เสียใจ', 'แตก', 'ซื้อ','ขาย','มีลูก','เทรนเนอร์'\n",
    " ,'ขายไม่ดี','แพคคู่','ค่าจัดส่ง','shelf life','พนักงานขายนม','แพ้นม','แพ้นมวัว','เล่นเวท','ฝาน้ำเงิน','ฝาสีเขียว'\n",
    " ,'นมอุ่น','ชานม','กินนม','ดื่มนม','ท้องเสีย','ลูกสุนัข','สุนัข','หมา','แมว','คายทิ้ง','เจมส์จิ','แป้ง','ลดราคา'\n",
    " ,'ซื้อประจำ','ซื้อไม่ได้','คาปูชิโน่','อเมริกาโน่','ร้านนม','whey formula','ผิดสังเกต','เสียความรู้สึก','ชี้แจง','บำรุง','น้ำผึ้ง'\n",
    " ,'อาหารเสริม','มีประโยชน์','วิตามิน','นมผง','แคลเซี่ยม','ท้อง','แพะ','อร่อย','โภชนาการ','โรงเรียน','พ่อแม่','ครู','ยูเอชที'\n",
    " ,'ผู้บริโภค','ขโมย','ไอโอดีน','นมข้นหวาน','เนย','ตรวจสอบ','แกลลอน','มันดี','นมวัว','อาเจียน','เวฟ','ไมโครเวฟ','สารอาหาร'\n",
    " ,'ขนส่ง','ถูก','แพง','เค้ก','ทิ้ง','วันหมดอายุ','โอเมก้า','กล่อง','พลังงาน','โภชนาการ','ขนมปัง','ของแถม','ราคาสูง','น้ำนมโค'\n",
    " ,'บรรจุภัณฑ์','ความแข็งแรง','แข็งแรง','พรีเซ็นเตอร์','ญี่ปุ่น','น้ำผลไม้','ออกกำลังกาย','ประหยัด','วิปปิ้ง','เชื้อจุลินทรีย์'\n",
    " ,'แลคโตส']\n",
    "\n",
    "stores = ['tops','makro','lotus','bigc','7-Eleven']\n",
    "\n",
    "products = ['สตรอว์เบอร์รี','ช็อกโกแลต','รสกาแฟ','รสหวาน','รสจืด','ไขมันต่ำ','ไขมัน 0%','ไฮโปรตีน','อัลมอนด์'\n",
    "                ,'รสกล้วย','grass fed','นมฟรีแลคโตส','เมจิโกลด์','นมฮอกไกโด','เบดไทม์','ดาร์คช็อกโกแลต','ไฮแคลเซียม'\n",
    "                ,'คาราเมล','มอลต์','เมล่อน','ชาเขียวมัจฉะ','บัลแกเรีย','รสธรรมชาติ','รสกลมกล่อม','ซากุระ']\n",
    "milk_kind=['นม','นมข้น','นมจืด','นมสด','กินนม','ดื่มนม','ขวดนม','นมวัว','นมกล่อง','ผลิตภันท์นม','น้ำนมโค'\n",
    "                     ,'โยเกิร์ต','นมเปรี้ยว','uht','นมถั่วเหลือง','นมผง','พาสเจอร์ไรส์']\n",
    "\n",
    "#  EDA ใน Excel ได้ flavor 68 ตัว (ถ้าดึงยี่ห้ออื่นก็เพิ่มอีก)\n",
    "avai_flavs = ['เมจิเมจิโกลด์','เมจิเมล่อน','เมจิไขมัน 0%','เมจิไขมันต่ำ','เมจิไฮโปรตีน','เมจิช็อกโกแลต','เมจิชาเขียวมัจฉะ','เมจิดาร์คช็อกโกแลต'\n",
    " ,'เมจินมฟรีแลคโตส','เมจิบัลแกเรีย','เมจิมอลต์','เมจิรสกลมกล่อม','เมจิรสกล้วย','เมจิรกาแฟ','เมจิรสจืด','เมจิรสธรรมชาติ','เมจิรสหวาน'\n",
    " ,'เมจิสตรอว์เบอร์รี','เมจิอัลมอนด์','เอ็มมิลค์นมฟรีแลคโตส','เอ็มมิลค์รสจืด','แดรี่โฮมgrass fed','แดรี่โฮมเบดไทม์','แดรี่โฮมช็อกโกแลต'\n",
    " ,'แดรี่โฮมรสกล้วย','แดโฮมรสจืด','แดรี่โฮมรสหวาน','แดรี่โฮมสตรอว์เบอร์รี','แมคโนเลียไขมันต่ำ','แมคโนเลียช็อกโกแลต','แมคโนเลียรสจืด'\n",
    " ,'โชคชัยไขมันต่ำ','โชคชัยช็อกโกแลต','โชคชัยรสกาแฟ','โชคชัยรสจืด','โชคชัยสตรอว์เบอร์รี','ฟร์โมสต์ไขมัน 0%','โฟร์โมสต์ไขมันต่ำ'\n",
    " ,'โฟร์โมสต์คาราเมล','โฟร์โมสต์ช็อกโกแลต','โฟร์โมสต์รสกาแฟ','โฟร์โมสต์รสจืด','โฟร์โมสต์สตรอว์เบอร์รี','ไทยเดนมาร์คช็อกโกแลต'\n",
    " ,'ไทยเดนมาร์ครสกาแฟ','ไทยเดนมาร์ครสจืด','ไทยเดนมาร์ครสหวาน','ไทยเดนมาร์คสตรอว์เบอร์รี','คาเนชั่นรสจืด','จิตรลดาช็อกโกแลต'\n",
    " ,'จิตรลดารสจืด','จิตรลดารสหวาน','จิตรลดาสตรอว์เบอร์รี','ดัชมิลล์ไขมัน 0%','ดัชมิลล์ไขมันต่ำ','ดัชมิลล์ไฮโปรตีน','ดัชลล์อกกแลต'\n",
    " ,'ดัชมิลล์มอลต์','ดัชมิลล์รสกาแฟ','ดัชมิลล์รสจืด','ดัชมิลล์สตรอว์เบอร์รี','หนองโพไขมัน 0%','หนองโพไขมันต่ำ','หนองโพช็อกโกแลต'\n",
    " ,'หนองโพรสกาแฟ','หนองโพรสจืด','หนองโพรสหวาน','หนองโพสตรอว์เบอร์รี']\n",
    "\n",
    "reduceCol = attrributes + stores \n",
    "reduceCol_all = attrributes + stores + milk_kind + products"
   ]
  },
  {
   "cell_type": "markdown",
   "metadata": {},
   "source": [
    "### 5.สร้าง (Reduce) Bag of word ด้วย dictionary.doc2bow จัดลง dataframe"
   ]
  },
  {
   "cell_type": "code",
   "execution_count": null,
   "metadata": {},
   "outputs": [],
   "source": [
    "cursor_thread = col_thread.find()\n",
    "df_thr_process = pd.DataFrame(cursor_thread)\n",
    "cursor_comment = col_comment.find()\n",
    "df_cmt_process = pd.DataFrame(cursor_comment)"
   ]
  },
  {
   "cell_type": "code",
   "execution_count": null,
   "metadata": {},
   "outputs": [],
   "source": [
    "# คัด headline ที่พูดถึง domain นม\n",
    "df_urls_milk = df_thr_process[(df_thr_process.t_mention_dairy.str.len() != 0) | (df_thr_process.URLs.isin(execption_urls))]\n",
    "#df_urls_milk = df_thr_process[(df_thr_process.URLs.isin(execption_urls))]"
   ]
  },
  {
   "cell_type": "code",
   "execution_count": null,
   "metadata": {},
   "outputs": [],
   "source": [
    "# เมื่อ join กันแล้ว คอมเม้นทุกคอมเม้นจะอยู่ใน domain นมทั้งหมด\n",
    "df_join_url = pd.merge(df_urls_milk,df_cmt_process,how='inner',on='URLs')"
   ]
  },
  {
   "cell_type": "code",
   "execution_count": null,
   "metadata": {},
   "outputs": [],
   "source": [
    "df_join_url.drop(columns=['_id_x','_id_y','headline_y'],inplace=True)\n",
    "df_join_url.rename(columns={\"headline_x\":\"headline\"},inplace=True)"
   ]
  },
  {
   "cell_type": "code",
   "execution_count": 38,
   "metadata": {},
   "outputs": [],
   "source": [
    "df_join_url['token_text_reduce'] = df_join_url['token_text'].apply(lambda x: reduced_keyword(x, reduceCol))"
   ]
  },
  {
   "cell_type": "markdown",
   "metadata": {},
   "source": [
    "### 6.ทำ Topic Modeling จาก Reduce BoW"
   ]
  },
  {
   "cell_type": "markdown",
   "metadata": {},
   "source": [
    "<b>Domain ที่พบหลักๆ นอกเหนือจากตัว Product ห้างที่ขาย แบรนด์</b><br>\n",
    "ค้นหาเทียบเคียงกับ ปัจจัยที่มีผลต่อการบริโภคนม\n",
    "1. แม่และเด็ก (Kurajdova et al, 2015)\n",
    "2. ออกกำลังกาย เล่นเวท วิ่ง พูดถึง Whey หางนม โปรตีน เป็นหลัก (คิดว่าแตกจากหมวดสุขภาพ)\n",
    "3. โปรโมชั่น เช่น จัดโปร ส่วนลด พันแถม แพ๊กคู่ (สุภชาติ ชัยณรงค์สิงห์, 2539)\n",
    "4. เอานมให้หมาแมวกิน (เทรนด์ใหม่)\n",
    "5. รสชาติและคุณภาพ เช่น หอม เหม็น มัน อร่อย บูด เสีย GMP (ชาลิสา สถีระกานนท์, 2560)\n",
    "6. ความยากง่ายในการหาซื้อ (Aen De Alwis et al, 2009 & สุภชาติ ชัยณรงค์สิงห์, 2539)\n",
    "7. ทำกาแฟ ทำขนม (Kurajdova et al, 2015)\n",
    "8. สุขภาพ ความสูง ส่วนผสมเพื่อสุขภาพ การขับถ่าย อนุมูลอิสระ (Kurajdova et al, 2015 & Aen De Alwis et al, 2009 & สุภชาติ ชัยณรงค์สิงห์, 2539)\n",
    "9. ราคาและความคุ้มค่า (ปิยฉัตร ช่างเหล็ก, 2561)\n",
    "<br><br>ตรงนี้ต้องหา Paper มาช่วยยันในบางหัวข้อ ถ้ามีส่วนเกินถือว่าเป็นบริบทของประเทศไทย"
   ]
  },
  {
   "cell_type": "markdown",
   "metadata": {},
   "source": [
    "6.1 สร้าง Bag of word"
   ]
  },
  {
   "cell_type": "code",
   "execution_count": 39,
   "metadata": {},
   "outputs": [],
   "source": [
    "dictionary = gensim.corpora.Dictionary(df_join_url['token_text_reduce'])\n",
    "gensim_corpus = [dictionary.doc2bow(text, allow_update=True) for text in df_join_url['token_text_reduce']]\n",
    "word_frequencies = [[(dictionary[id], frequence) for id, frequence in couple] for couple in gensim_corpus]\n",
    "id2word = dictionary.id2token"
   ]
  },
  {
   "cell_type": "markdown",
   "metadata": {},
   "source": [
    "6.2 หา Optimal Dimension"
   ]
  },
  {
   "cell_type": "code",
   "execution_count": 22,
   "metadata": {},
   "outputs": [],
   "source": [
    "import os\n",
    "from gensim.models.wrappers import LdaMallet\n",
    "from gensim.models import CoherenceModel\n",
    "os.environ.update({'MALLET_HOME':r'D:/development_TestCase/Product-Position-SNA/mallet-2.0.8/'})"
   ]
  },
  {
   "cell_type": "code",
   "execution_count": 40,
   "metadata": {
    "scrolled": true
   },
   "outputs": [],
   "source": [
    "mallet_path = \"D:/development_TestCase/Product-Position-SNA/mallet-2.0.8/bin/mallet\"\n",
    "limit=40; start=2; step=5;\n",
    "coherence_values = []\n",
    "model_list = []\n",
    "for num_topics in range(start, limit, step):\n",
    "    model = LdaMallet(mallet_path, corpus=gensim_corpus, num_topics=num_topics, id2word=id2word)\n",
    "    model_list.append(model)\n",
    "    coherencemodel = CoherenceModel(model=model, texts=df_join_url['token_text_reduce'], dictionary=dictionary, coherence='c_v')\n",
    "    coherence_values.append(coherencemodel.get_coherence())"
   ]
  },
  {
   "cell_type": "code",
   "execution_count": 24,
   "metadata": {},
   "outputs": [],
   "source": [
    "#coherence_values"
   ]
  },
  {
   "cell_type": "code",
   "execution_count": 25,
   "metadata": {},
   "outputs": [],
   "source": [
    "#model.show_topics(formatted=False)"
   ]
  },
  {
   "cell_type": "code",
   "execution_count": 41,
   "metadata": {},
   "outputs": [
    {
     "data": {
      "image/png": "[encoded data removed]",
      "text/plain": [
       "<Figure size 432x288 with 1 Axes>"
      ]
     },
     "metadata": {
      "needs_background": "light"
     },
     "output_type": "display_data"
    }
   ],
   "source": [
    "# Show graph\n",
    "x = range(start, limit, step)\n",
    "plt.plot(x, coherence_values)\n",
    "plt.xlabel(\"Num Topics\")\n",
    "plt.ylabel(\"Coherence score\")\n",
    "plt.legend((\"coherence_values\"), loc='best')\n",
    "plt.show()"
   ]
  },
  {
   "cell_type": "code",
   "execution_count": 42,
   "metadata": {},
   "outputs": [
    {
     "name": "stdout",
     "output_type": "stream",
     "text": [
      "Num Topics = 2  has Coherence Value of 0.6916\n",
      "Num Topics = 7  has Coherence Value of 0.4984\n",
      "Num Topics = 12  has Coherence Value of 0.4531\n",
      "Num Topics = 17  has Coherence Value of 0.4446\n",
      "Num Topics = 22  has Coherence Value of 0.4456\n",
      "Num Topics = 27  has Coherence Value of 0.4552\n",
      "Num Topics = 32  has Coherence Value of 0.4495\n",
      "Num Topics = 37  has Coherence Value of 0.4452\n"
     ]
    }
   ],
   "source": [
    "# Print the coherence scores\n",
    "for m, cv in zip(x, coherence_values):\n",
    "    print(\"Num Topics =\", m, \" has Coherence Value of\", round(cv, 4))"
   ]
  },
  {
   "cell_type": "markdown",
   "metadata": {},
   "source": [
    "6.3 สร้าง LdaModel ตามกลุ่มที่หาได้"
   ]
  },
  {
   "cell_type": "code",
   "execution_count": 45,
   "metadata": {},
   "outputs": [
    {
     "name": "stdout",
     "output_type": "stream",
     "text": [
      "Wall time: 8.75 s\n"
     ]
    }
   ],
   "source": [
    "num_topics = 8\n",
    "chunksize = 4000                  # size of the doc looked at every pass\n",
    "iterations = 50\n",
    "eval_every = 1                    # Don't evaluate model perplexity, takes too much time.\n",
    "\n",
    "# Make a index to word dictionary.\n",
    "temp = dictionary[0]  # This is only to \"load\" the dictionary.\n",
    "id2word = dictionary.id2token\n",
    "\n",
    "%time model = gensim.models.LdaModel(corpus=gensim_corpus, id2word=id2word, chunksize=chunksize \\\n",
    "                                     ,alpha='auto', eta='auto',iterations=iterations \\\n",
    "                                     ,num_topics=num_topics \\\n",
    "                                     , eval_every=eval_every)"
   ]
  },
  {
   "cell_type": "code",
   "execution_count": 46,
   "metadata": {},
   "outputs": [
    {
     "data": {
      "text/html": [
       "\n",
       "<link rel=\"stylesheet\" type=\"text/css\" href=\"https://cdn.rawgit.com/bmabey/pyLDAvis/files/ldavis.v1.0.0.css\">\n",
       "\n",
       "\n",
       "<div id=\"ldavis_el147002332770806904873257095\"></div>\n",
       "<script type=\"text/javascript\">\n",
       "\n",
       "var ldavis_el147002332770806904873257095_data = {\"mdsDat\": {\"x\": [0.13485973172147234, -0.07001161917570647, 0.19856243531255652, 0.05828561435388021, -0.013084576994097106, 0.052729399498232146, -0.10672924536886086, -0.25461173934747705], \"y\": [0.053553708337420916, -0.10810556344633591, 0.030683395097664212, -0.13586231030578397, 0.09869851079695745, -0.09019896350976686, 0.21360320363820062, -0.06237198060835629], \"topics\": [1, 2, 3, 4, 5, 6, 7, 8], \"cluster\": [1, 1, 1, 1, 1, 1, 1, 1], \"Freq\": [15.98494682629616, 14.436849192648207, 14.215060168515661, 12.302230598460088, 12.10384329336593, 10.835449901019361, 10.619179546948889, 9.502440472745704]}, \"tinfo\": {\"Term\": [\"\\u0e0a\\u0e2d\\u0e1a\", \"\\u0e41\\u0e21\\u0e48\", \"\\u0e0b\\u0e37\\u0e49\\u0e2d\", \"\\u0e25\\u0e39\\u0e01\", \"\\u0e01\\u0e25\\u0e48\\u0e2d\\u0e07\", \"\\u0e23\\u0e2a\", \"\\u0e14\\u0e37\\u0e48\\u0e21\", \"\\u0e23\\u0e49\\u0e32\\u0e19\", \"\\u0e01\\u0e32\\u0e41\\u0e1f\", \"\\u0e19\\u0e21\\u0e1c\\u0e07\", \"\\u0e19\\u0e21\\u0e2a\\u0e14\", \"\\u0e01\\u0e34\\u0e19\\u0e19\\u0e21\", \"\\u0e2d\\u0e23\\u0e48\\u0e2d\\u0e22\", \"7-Eleven\", \"\\u0e2b\\u0e32\", \"\\u0e02\\u0e32\\u0e22\", \"\\u0e02\\u0e27\\u0e14\", \"\\u0e1c\\u0e2a\\u0e21\", \"\\u0e01\\u0e25\\u0e34\\u0e48\\u0e19\", \"\\u0e19\\u0e21\\u0e27\\u0e31\\u0e27\", \"\\u0e41\\u0e21\\u0e27\", \"\\u0e42\\u0e1b\\u0e23\\u0e15\\u0e35\\u0e19\", \"\\u0e2b\\u0e27\\u0e32\\u0e19\", \"\\u0e2d\\u0e2d\\u0e01\\u0e01\\u0e33\\u0e25\\u0e31\\u0e07\\u0e01\\u0e32\\u0e22\", \"\\u0e17\\u0e49\\u0e2d\\u0e07\", \"\\u0e40\\u0e04\\u0e49\\u0e01\", \"\\u0e2a\\u0e32\\u0e23\\u0e2d\\u0e32\\u0e2b\\u0e32\\u0e23\", \"\\u0e2a\\u0e34\\u0e19\\u0e04\\u0e49\\u0e32\", \"\\u0e1d\\u0e32\", \"\\u0e04\\u0e38\\u0e13\\u0e41\\u0e21\\u0e48\", \"\\u0e23\\u0e2a\\u0e0a\\u0e32\\u0e15\\u0e34\", \"\\u0e21\\u0e35\\u0e1b\\u0e23\\u0e30\\u0e42\\u0e22\\u0e0a\\u0e19\\u0e4c\", \"\\u0e14\\u0e37\\u0e48\\u0e21\\u0e19\\u0e21\", \"\\u0e23\\u0e49\\u0e2d\\u0e19\", \"\\u0e42\\u0e23\\u0e07\\u0e40\\u0e23\\u0e35\\u0e22\\u0e19\", \"\\u0e2b\\u0e32\\u0e22\", \"\\u0e2a\\u0e35\", \"\\u0e1f\\u0e32\\u0e23\\u0e4c\\u0e21\", \"\\u0e44\\u0e02\\u0e21\\u0e31\\u0e19\", \"\\u0e16\\u0e49\\u0e27\\u0e22\", \"\\u0e40\\u0e2a\\u0e35\\u0e22\\u0e04\\u0e27\\u0e32\\u0e21\\u0e23\\u0e39\\u0e49\\u0e2a\\u0e36\\u0e01\", \"\\u0e1e\\u0e23\\u0e35\\u0e40\\u0e0b\\u0e47\\u0e19\\u0e40\\u0e15\\u0e2d\\u0e23\\u0e4c\", \"\\u0e19\\u0e21\\u0e2d\\u0e38\\u0e48\\u0e19\", \"\\u0e23\\u0e2a\", \"\\u0e0a\\u0e2d\\u0e1a\", \"\\u0e19\\u0e36\\u0e01\\u0e16\\u0e36\\u0e07\", \"\\u0e19\\u0e49\\u0e33\\u0e1c\\u0e36\\u0e49\\u0e07\", \"\\u0e19\\u0e49\\u0e33\\u0e1c\\u0e25\\u0e44\\u0e21\\u0e49\", \"\\u0e02\\u0e19\\u0e21\\u0e1b\\u0e31\\u0e07\", \"\\u0e23\\u0e2a\\u0e0a\\u0e32\\u0e15\\u0e34\", \"\\u0e27\\u0e34\\u0e1b\\u0e1b\\u0e34\\u0e49\\u0e07\", \"\\u0e19\\u0e49\\u0e33\\u0e15\\u0e32\\u0e25\", \"\\u0e27\\u0e31\\u0e19\\u0e2b\\u0e21\\u0e14\\u0e2d\\u0e32\\u0e22\\u0e38\", \"\\u0e01\\u0e25\\u0e34\\u0e48\\u0e19\\u0e2b\\u0e2d\\u0e21\", \"\\u0e1a\\u0e23\\u0e23\\u0e08\\u0e38\\u0e20\\u0e31\\u0e13\\u0e11\\u0e4c\", \"\\u0e2d\\u0e23\\u0e48\\u0e2d\\u0e22\", \"\\u0e2b\\u0e27\\u0e32\\u0e19\", \"fat\", \"\\u0e40\\u0e27\\u0e1f\", \"\\u0e0d\\u0e35\\u0e48\\u0e1b\\u0e38\\u0e48\\u0e19\", \"\\u0e2b\\u0e2d\\u0e21\", \"\\u0e01\\u0e25\\u0e21\\u0e01\\u0e25\\u0e48\\u0e2d\\u0e21\", \"\\u0e04\\u0e32\\u0e22\\u0e17\\u0e34\\u0e49\\u0e07\", \"whey formula\", \"\\u0e41\\u0e25\\u0e04\\u0e42\\u0e15\\u0e2a\", \"\\u0e08\\u0e37\\u0e14\", \"\\u0e1e\\u0e37\\u0e49\\u0e19\\u0e10\\u0e32\\u0e19\", \"\\u0e44\\u0e02\\u0e21\\u0e31\\u0e19\", \"\\u0e1e\\u0e48\\u0e2d\\u0e41\\u0e21\\u0e48\", \"\\u0e40\\u0e1e\\u0e34\\u0e48\\u0e21\\u0e02\\u0e36\\u0e49\\u0e19\", \"\\u0e02\\u0e27\\u0e14\", \"\\u0e1c\\u0e34\\u0e14\\u0e2a\\u0e31\\u0e07\\u0e40\\u0e01\\u0e15\", \"\\u0e14\\u0e37\\u0e48\\u0e21\", \"\\u0e1f\\u0e32\\u0e23\\u0e4c\\u0e21\", \"\\u0e14\\u0e37\\u0e48\\u0e21\\u0e19\\u0e21\", \"\\u0e01\\u0e25\\u0e34\\u0e48\\u0e19\", \"\\u0e1e\\u0e19\\u0e31\\u0e01\\u0e07\\u0e32\\u0e19\\u0e02\\u0e32\\u0e22\\u0e19\\u0e21\", \"\\u0e40\\u0e14\\u0e47\\u0e01\", \"tops\", \"\\u0e17\\u0e34\\u0e49\\u0e07\", \"\\u0e01\\u0e34\\u0e19\\u0e19\\u0e21\", \"\\u0e41\\u0e1e\\u0e07\", \"\\u0e01\\u0e25\\u0e48\\u0e2d\\u0e07\", \"\\u0e41\\u0e16\\u0e21\", \"\\u0e2a\\u0e35\", \"\\u0e1c\\u0e2a\\u0e21\", \"\\u0e01\\u0e32\\u0e41\\u0e1f\", \"\\u0e0b\\u0e37\\u0e49\\u0e2d\", \"\\u0e17\\u0e49\\u0e2d\\u0e07\\u0e40\\u0e2a\\u0e35\\u0e22\", \"\\u0e02\\u0e32\\u0e22\", \"\\u0e2a\\u0e34\\u0e19\\u0e04\\u0e49\\u0e32\", \"\\u0e2b\\u0e32\", \"\\u0e1a\\u0e39\\u0e14\", \"\\u0e1d\\u0e32\", \"\\u0e40\\u0e0a\\u0e37\\u0e49\\u0e2d\\u0e08\\u0e38\\u0e25\\u0e34\\u0e19\\u0e17\\u0e23\\u0e35\\u0e22\\u0e4c\", \"\\u0e25\\u0e14\\u0e23\\u0e32\\u0e04\\u0e32\", \"bigc\", \"\\u0e08\\u0e48\\u0e32\\u0e22\", \"\\u0e40\\u0e1b\\u0e47\\u0e19\\u0e1c\\u0e25\\u0e14\\u0e35\", \"lotus\", \"\\u0e42\\u0e1b\\u0e23\\u0e42\\u0e21\\u0e0a\\u0e31\\u0e48\\u0e19\", \"\\u0e1c\\u0e39\\u0e49\\u0e1a\\u0e23\\u0e34\\u0e42\\u0e20\\u0e04\", \"\\u0e2b\\u0e21\\u0e14\\u0e2d\\u0e32\\u0e22\\u0e38\", \"\\u0e1b\\u0e23\\u0e30\\u0e2b\\u0e22\\u0e31\\u0e14\", \"\\u0e0b\\u0e37\\u0e49\\u0e2d\", \"protein\", \"\\u0e2a\\u0e34\\u0e19\\u0e04\\u0e49\\u0e32\", \"\\u0e0a\\u0e35\\u0e49\\u0e41\\u0e08\\u0e07\", \"\\u0e1a\\u0e23\\u0e23\\u0e08\\u0e38\\u0e20\\u0e31\\u0e13\\u0e11\\u0e4c\", \"\\u0e41\\u0e1e\\u0e07\", \"tops\", \"\\u0e27\\u0e31\\u0e19\\u0e2b\\u0e21\\u0e14\\u0e2d\\u0e32\\u0e22\\u0e38\", \"\\u0e19\\u0e21\\u0e27\\u0e31\\u0e27\", \"\\u0e1e\\u0e37\\u0e49\\u0e19\\u0e10\\u0e32\\u0e19\", \"whey\", \"\\u0e15\\u0e23\\u0e27\\u0e08\\u0e2a\\u0e2d\\u0e1a\", \"\\u0e02\\u0e19\\u0e2a\\u0e48\\u0e07\", \"\\u0e04\\u0e48\\u0e32\\u0e43\\u0e0a\\u0e49\\u0e08\\u0e48\\u0e32\\u0e22\", \"\\u0e19\\u0e34\\u0e22\\u0e21\", \"\\u0e40\\u0e1a\\u0e32\\u0e2b\\u0e27\\u0e32\\u0e19\", \"\\u0e40\\u0e08\\u0e21\\u0e2a\\u0e4c\\u0e08\\u0e34\", \"\\u0e0d\\u0e35\\u0e48\\u0e1b\\u0e38\\u0e48\\u0e19\", \"\\u0e40\\u0e27\\u0e22\\u0e4c\", \"\\u0e40\\u0e14\\u0e47\\u0e01\", \"\\u0e1e\\u0e19\\u0e31\\u0e01\\u0e07\\u0e32\\u0e19\", \"\\u0e1a\\u0e39\\u0e14\", \"\\u0e02\\u0e27\\u0e14\", \"\\u0e42\\u0e1b\\u0e23\\u0e15\\u0e35\\u0e19\", \"\\u0e42\\u0e1b\\u0e23\", \"\\u0e41\\u0e15\\u0e01\", \"\\u0e19\\u0e49\\u0e33\\u0e1c\\u0e25\\u0e44\\u0e21\\u0e49\", \"whey formula\", \"\\u0e40\\u0e1e\\u0e34\\u0e48\\u0e21\\u0e02\\u0e36\\u0e49\\u0e19\", \"\\u0e23\\u0e32\\u0e04\\u0e32\\u0e2a\\u0e39\\u0e07\", \"\\u0e01\\u0e25\\u0e48\\u0e2d\\u0e07\", \"\\u0e41\\u0e16\\u0e21\", \"\\u0e14\\u0e37\\u0e48\\u0e21\", \"\\u0e2b\\u0e32\", \"\\u0e41\\u0e19\\u0e30\\u0e19\\u0e33\", \"\\u0e2a\\u0e32\\u0e23\\u0e2d\\u0e32\\u0e2b\\u0e32\\u0e23\", \"\\u0e23\\u0e2a\\u0e0a\\u0e32\\u0e15\\u0e34\", \"\\u0e23\\u0e49\\u0e32\\u0e19\", \"\\u0e02\\u0e32\\u0e22\", \"\\u0e1f\\u0e32\\u0e23\\u0e4c\\u0e21\", \"\\u0e42\\u0e23\\u0e07\\u0e40\\u0e23\\u0e35\\u0e22\\u0e19\", \"\\u0e2d\\u0e23\\u0e48\\u0e2d\\u0e22\", \"\\u0e02\\u0e19\\u0e21\\u0e1b\\u0e31\\u0e07\", \"\\u0e2b\\u0e27\\u0e32\\u0e19\", \"\\u0e19\\u0e49\\u0e33\\u0e15\\u0e32\\u0e25\", \"\\u0e25\\u0e39\\u0e01\", \"\\u0e0a\\u0e2d\\u0e1a\", \"7-Eleven\", \"\\u0e1c\\u0e2a\\u0e21\", \"\\u0e02\\u0e2d\\u0e07\\u0e41\\u0e16\\u0e21\", \"\\u0e0b\\u0e37\\u0e49\\u0e2d\\u0e1b\\u0e23\\u0e30\\u0e08\\u0e33\", \"\\u0e2d\\u0e36\", \"\\u0e01\\u0e32\\u0e41\\u0e1f\", \"\\u0e01\\u0e32\\u0e41\\u0e1f\\u0e2a\\u0e14\", \"\\u0e0a\\u0e07\\u0e01\\u0e32\\u0e41\\u0e1f\", \"\\u0e01\\u0e25\\u0e34\\u0e48\\u0e19\", \"\\u0e04\\u0e32\\u0e1b\\u0e39\\u0e0a\\u0e34\\u0e42\\u0e19\\u0e48\", \"\\u0e19\\u0e21\\u0e02\\u0e49\\u0e19\\u0e2b\\u0e27\\u0e32\\u0e19\", \"\\u0e19\\u0e21\\u0e2a\\u0e14\", \"\\u0e23\\u0e32\\u0e04\\u0e32\\u0e2a\\u0e39\\u0e07\", \"\\u0e2a\\u0e35\", \"\\u0e19\\u0e21\\u0e1c\\u0e07\", \"\\u0e1a\\u0e39\\u0e14\", \"\\u0e2d\\u0e40\\u0e21\\u0e23\\u0e34\\u0e01\\u0e32\\u0e42\\u0e19\\u0e48\", \"\\u0e2a\\u0e48\\u0e27\\u0e19\\u0e1c\\u0e2a\\u0e21\", \"\\u0e23\\u0e49\\u0e2d\\u0e19\", \"\\u0e2a\\u0e31\\u0e48\\u0e07\", \"\\u0e2b\\u0e2d\\u0e21\", \"\\u0e2b\\u0e27\\u0e32\\u0e19\", \"shelf life\", \"\\u0e1c\\u0e2a\\u0e21\", \"\\u0e04\\u0e48\\u0e32\\u0e43\\u0e0a\\u0e49\\u0e08\\u0e48\\u0e32\\u0e22\", \"\\u0e01\\u0e25\\u0e34\\u0e48\\u0e19\\u0e2b\\u0e2d\\u0e21\", \"\\u0e0a\\u0e35\\u0e49\\u0e41\\u0e08\\u0e07\", \"\\u0e27\\u0e34\\u0e48\\u0e07\", \"\\u0e02\\u0e31\\u0e1a\\u0e16\\u0e48\\u0e32\\u0e22\", \"\\u0e1e\\u0e19\\u0e31\\u0e01\\u0e07\\u0e32\\u0e19\\u0e02\\u0e32\\u0e22\\u0e19\\u0e21\", \"\\u0e01\\u0e25\\u0e21\\u0e01\\u0e25\\u0e48\\u0e2d\\u0e21\", \"\\u0e08\\u0e37\\u0e14\", \"\\u0e23\\u0e2a\\u0e0a\\u0e32\\u0e15\\u0e34\", \"\\u0e02\\u0e32\\u0e22\", \"\\u0e40\\u0e27\\u0e1f\", \"\\u0e04\\u0e32\\u0e22\\u0e17\\u0e34\\u0e49\\u0e07\", \"whey formula\", \"\\u0e19\\u0e49\\u0e33\\u0e15\\u0e32\\u0e25\", \"\\u0e42\\u0e23\\u0e07\\u0e40\\u0e23\\u0e35\\u0e22\\u0e19\", \"\\u0e23\\u0e49\\u0e32\\u0e19\", \"\\u0e01\\u0e32\\u0e23\\u0e1a\\u0e39\\u0e14\", \"\\u0e41\\u0e19\\u0e30\\u0e19\\u0e33\", \"\\u0e2d\\u0e38\\u0e48\\u0e19\", \"\\u0e16\\u0e49\\u0e27\\u0e22\", \"\\u0e15\\u0e49\\u0e21\", \"7-Eleven\", \"\\u0e2d\\u0e23\\u0e48\\u0e2d\\u0e22\", \"\\u0e23\\u0e2a\", \"\\u0e2a\\u0e34\\u0e19\\u0e04\\u0e49\\u0e32\", \"\\u0e0b\\u0e37\\u0e49\\u0e2d\", \"\\u0e40\\u0e14\\u0e47\\u0e01\", \"\\u0e01\\u0e25\\u0e48\\u0e2d\\u0e07\", \"\\u0e25\\u0e39\\u0e01\", \"\\u0e02\\u0e19\\u0e21\\u0e1b\\u0e31\\u0e07\", \"\\u0e0a\\u0e2d\\u0e1a\", \"\\u0e14\\u0e37\\u0e48\\u0e21\", \"\\u0e40\\u0e04\\u0e49\\u0e01\", \"\\u0e02\\u0e32\\u0e22\\u0e44\\u0e21\\u0e48\\u0e14\\u0e35\", \"\\u0e40\\u0e19\\u0e22\", \"7-Eleven\", \"\\u0e41\\u0e1b\\u0e49\\u0e07\", \"\\u0e04\\u0e23\\u0e39\", \"\\u0e42\\u0e23\\u0e07\\u0e40\\u0e23\\u0e35\\u0e22\\u0e19\", \"\\u0e27\\u0e34\\u0e1b\\u0e1b\\u0e34\\u0e49\\u0e07\", \"\\u0e02\\u0e32\\u0e22\", \"\\u0e42\\u0e1b\\u0e23\", \"\\u0e1e\\u0e48\\u0e2d\\u0e41\\u0e21\\u0e48\", \"\\u0e25\\u0e39\\u0e01\", \"\\u0e40\\u0e27\\u0e1f\", \"\\u0e41\\u0e16\\u0e21\", \"\\u0e40\\u0e25\\u0e35\\u0e49\\u0e22\\u0e07\\u0e25\\u0e39\\u0e01\", \"\\u0e04\\u0e38\\u0e13\\u0e41\\u0e21\\u0e48\", \"\\u0e21\\u0e35\\u0e25\\u0e39\\u0e01\", \"\\u0e01\\u0e25\\u0e34\\u0e48\\u0e19\\u0e2b\\u0e2d\\u0e21\", \"\\u0e23\\u0e49\\u0e32\\u0e19\\u0e19\\u0e21\", \"\\u0e41\\u0e19\\u0e30\\u0e19\\u0e33\", \"\\u0e19\\u0e34\\u0e22\\u0e21\", \"\\u0e04\\u0e38\\u0e13\\u0e41\\u0e21\\u0e48\\u0e21\\u0e37\\u0e2d\\u0e43\\u0e2b\\u0e21\\u0e48\", \"\\u0e1e\\u0e19\\u0e31\\u0e01\\u0e07\\u0e32\\u0e19\", \"\\u0e1e\\u0e37\\u0e49\\u0e19\\u0e10\\u0e32\\u0e19\", \"\\u0e02\\u0e19\\u0e21\\u0e1b\\u0e31\\u0e07\", \"\\u0e40\\u0e14\\u0e47\\u0e01\", \"\\u0e22\\u0e39\\u0e40\\u0e2d\\u0e0a\\u0e17\\u0e35\", \"makro\", \"tops\", \"\\u0e2a\\u0e48\\u0e27\\u0e19\\u0e1c\\u0e2a\\u0e21\", \"\\u0e41\\u0e1e\\u0e07\", \"\\u0e0a\\u0e32\\u0e19\\u0e21\", \"\\u0e21\\u0e31\\u0e19\\u0e14\\u0e35\", \"\\u0e40\\u0e1e\\u0e34\\u0e48\\u0e21\\u0e02\\u0e36\\u0e49\\u0e19\", \"\\u0e01\\u0e25\\u0e34\\u0e48\\u0e19\", \"\\u0e2a\\u0e48\\u0e27\\u0e19\\u0e2a\\u0e39\\u0e07\", \"\\u0e2b\\u0e32\", \"\\u0e41\\u0e21\\u0e48\", \"\\u0e2d\\u0e38\\u0e48\\u0e19\", \"\\u0e2d\\u0e23\\u0e48\\u0e2d\\u0e22\", \"\\u0e0a\\u0e2d\\u0e1a\", \"\\u0e0b\\u0e37\\u0e49\\u0e2d\", \"\\u0e08\\u0e37\\u0e14\", \"\\u0e23\\u0e2a\", \"\\u0e44\\u0e02\\u0e21\\u0e31\\u0e19\", \"\\u0e2a\\u0e34\\u0e19\\u0e04\\u0e49\\u0e32\", \"\\u0e23\\u0e2a\\u0e0a\\u0e32\\u0e15\\u0e34\", \"\\u0e2b\\u0e2d\\u0e21\", \"\\u0e0d\\u0e35\\u0e48\\u0e1b\\u0e38\\u0e48\\u0e19\", \"\\u0e27\\u0e34\\u0e15\\u0e32\\u0e21\\u0e34\\u0e19\", \"\\u0e2b\\u0e27\\u0e32\\u0e19\", \"\\u0e23\\u0e49\\u0e32\\u0e19\", \"\\u0e01\\u0e25\\u0e48\\u0e2d\\u0e07\", \"\\u0e1c\\u0e2a\\u0e21\", \"\\u0e15\\u0e49\\u0e21\", \"\\u0e19\\u0e21\\u0e2a\\u0e14\", \"\\u0e41\\u0e04\\u0e25\\u0e40\\u0e0b\\u0e35\\u0e48\\u0e22\\u0e21\", \"\\u0e41\\u0e21\\u0e27\", \"\\u0e41\\u0e1e\\u0e49\\u0e19\\u0e21\\u0e27\\u0e31\\u0e27\", \"\\u0e41\\u0e1e\\u0e49\\u0e19\\u0e21\", \"\\u0e42\\u0e2d\\u0e40\\u0e21\\u0e01\\u0e49\\u0e32\", \"\\u0e21\\u0e35\\u0e1b\\u0e23\\u0e30\\u0e42\\u0e22\\u0e0a\\u0e19\\u0e4c\", \"\\u0e40\\u0e17\\u0e23\\u0e19\\u0e40\\u0e19\\u0e2d\\u0e23\\u0e4c\", \"\\u0e01\\u0e34\\u0e19\\u0e19\\u0e21\", \"\\u0e22\\u0e39\\u0e40\\u0e2d\\u0e0a\\u0e17\\u0e35\", \"\\u0e15\\u0e49\\u0e21\", \"\\u0e04\\u0e32\\u0e22\\u0e17\\u0e34\\u0e49\\u0e07\", \"\\u0e27\\u0e34\\u0e15\\u0e32\\u0e21\\u0e34\\u0e19\", \"fat\", \"\\u0e02\\u0e19\\u0e2a\\u0e48\\u0e07\", \"\\u0e42\\u0e1b\\u0e23\\u0e15\\u0e35\\u0e19\", \"\\u0e17\\u0e49\\u0e2d\\u0e07\\u0e40\\u0e2a\\u0e35\\u0e22\", \"\\u0e44\\u0e02\\u0e21\\u0e31\\u0e19\", \"\\u0e02\\u0e31\\u0e1a\\u0e16\\u0e48\\u0e32\\u0e22\", \"\\u0e19\\u0e21\\u0e27\\u0e31\\u0e27\", \"\\u0e2a\\u0e32\\u0e23\\u0e2d\\u0e32\\u0e2b\\u0e32\\u0e23\", \"\\u0e2d\\u0e23\\u0e48\\u0e2d\\u0e22\", \"\\u0e41\\u0e1e\\u0e30\", \"\\u0e40\\u0e1e\\u0e34\\u0e48\\u0e21\\u0e02\\u0e36\\u0e49\\u0e19\", \"\\u0e21\\u0e31\\u0e19\\u0e14\\u0e35\", \"\\u0e19\\u0e21\\u0e2a\\u0e14\", \"\\u0e42\\u0e20\\u0e0a\\u0e19\\u0e32\\u0e01\\u0e32\\u0e23\", \"\\u0e40\\u0e27\\u0e17\", \"\\u0e40\\u0e25\\u0e48\\u0e19\\u0e40\\u0e27\\u0e17\", \"\\u0e40\\u0e14\\u0e47\\u0e01\", \"\\u0e17\\u0e49\\u0e2d\\u0e07\", \"\\u0e2a\\u0e31\\u0e48\\u0e07\", \"\\u0e14\\u0e37\\u0e48\\u0e21\\u0e19\\u0e21\", \"makro\", \"\\u0e19\\u0e49\\u0e33\\u0e15\\u0e32\\u0e25\", \"\\u0e01\\u0e32\\u0e23\\u0e1a\\u0e39\\u0e14\", \"\\u0e08\\u0e37\\u0e14\", \"whey\", \"tops\", \"\\u0e19\\u0e34\\u0e22\\u0e21\", \"\\u0e42\\u0e1b\\u0e23\", \"\\u0e41\\u0e21\\u0e48\", \"\\u0e25\\u0e39\\u0e01\", \"\\u0e19\\u0e21\\u0e1c\\u0e07\", \"\\u0e23\\u0e2a\\u0e0a\\u0e32\\u0e15\\u0e34\", \"\\u0e1c\\u0e2a\\u0e21\", \"\\u0e2d\\u0e38\\u0e48\\u0e19\", \"\\u0e41\\u0e19\\u0e30\\u0e19\\u0e33\", \"\\u0e0b\\u0e37\\u0e49\\u0e2d\", \"\\u0e01\\u0e25\\u0e48\\u0e2d\\u0e07\", \"\\u0e14\\u0e37\\u0e48\\u0e21\", \"\\u0e0a\\u0e2d\\u0e1a\", \"\\u0e02\\u0e27\\u0e14\", \"\\u0e2b\\u0e2d\\u0e21\", \"\\u0e2a\\u0e38\\u0e19\\u0e31\\u0e02\", \"\\u0e19\\u0e49\\u0e33\\u0e19\\u0e21\\u0e42\\u0e04\", \"\\u0e40\\u0e25\\u0e35\\u0e49\\u0e22\\u0e07\\u0e40\\u0e14\\u0e47\\u0e01\", \"\\u0e41\\u0e21\\u0e48\", \"\\u0e23\\u0e49\\u0e32\\u0e19\", \"\\u0e0a\\u0e32\\u0e19\\u0e21\", \"\\u0e23\\u0e49\\u0e32\\u0e19\\u0e19\\u0e21\", \"\\u0e16\\u0e49\\u0e27\\u0e22\", \"\\u0e40\\u0e25\\u0e35\\u0e49\\u0e22\\u0e07\\u0e25\\u0e39\\u0e01\", \"makro\", \"\\u0e40\\u0e2a\\u0e35\\u0e22\\u0e43\\u0e08\", \"\\u0e04\\u0e32\\u0e1b\\u0e39\\u0e0a\\u0e34\\u0e42\\u0e19\\u0e48\", \"\\u0e2a\\u0e31\\u0e48\\u0e07\", \"\\u0e19\\u0e49\\u0e33\\u0e1c\\u0e36\\u0e49\\u0e07\", \"\\u0e25\\u0e39\\u0e01\", \"\\u0e19\\u0e21\\u0e1c\\u0e07\", \"\\u0e2b\\u0e32\\u0e22\", \"\\u0e41\\u0e1e\\u0e30\", \"\\u0e04\\u0e48\\u0e32\\u0e43\\u0e0a\\u0e49\\u0e08\\u0e48\\u0e32\\u0e22\", \"\\u0e0d\\u0e35\\u0e48\\u0e1b\\u0e38\\u0e48\\u0e19\", \"\\u0e2b\\u0e32\", \"\\u0e01\\u0e25\\u0e21\\u0e01\\u0e25\\u0e48\\u0e2d\\u0e21\", \"\\u0e02\\u0e31\\u0e1a\\u0e16\\u0e48\\u0e32\\u0e22\", \"\\u0e1e\\u0e48\\u0e2d\\u0e41\\u0e21\\u0e48\", \"\\u0e2a\\u0e35\", \"\\u0e41\\u0e15\\u0e01\", \"\\u0e1e\\u0e19\\u0e31\\u0e01\\u0e07\\u0e32\\u0e19\\u0e02\\u0e32\\u0e22\\u0e19\\u0e21\", \"\\u0e2b\\u0e2d\\u0e21\", \"\\u0e41\\u0e16\\u0e21\", \"\\u0e2d\\u0e23\\u0e48\\u0e2d\\u0e22\", \"whey formula\", \"\\u0e1d\\u0e32\", \"\\u0e19\\u0e34\\u0e22\\u0e21\", \"\\u0e2d\\u0e32\\u0e40\\u0e08\\u0e35\\u0e22\\u0e19\", \"\\u0e19\\u0e21\\u0e2a\\u0e14\", \"\\u0e14\\u0e37\\u0e48\\u0e21\", \"\\u0e01\\u0e32\\u0e23\\u0e1a\\u0e39\\u0e14\", \"\\u0e02\\u0e32\\u0e22\", \"\\u0e1c\\u0e34\\u0e14\\u0e2a\\u0e31\\u0e07\\u0e40\\u0e01\\u0e15\", \"\\u0e17\\u0e49\\u0e2d\\u0e07\", \"\\u0e0b\\u0e37\\u0e49\\u0e2d\", \"\\u0e1c\\u0e2a\\u0e21\", \"\\u0e01\\u0e25\\u0e48\\u0e2d\\u0e07\", \"\\u0e41\\u0e1e\\u0e07\", \"\\u0e01\\u0e34\\u0e19\\u0e19\\u0e21\", \"\\u0e40\\u0e14\\u0e47\\u0e01\", \"\\u0e0a\\u0e2d\\u0e1a\", \"\\u0e23\\u0e2a\\u0e0a\\u0e32\\u0e15\\u0e34\", \"\\u0e19\\u0e49\\u0e33\\u0e15\\u0e32\\u0e25\", \"\\u0e41\\u0e19\\u0e30\\u0e19\\u0e33\", \"\\u0e2a\\u0e32\\u0e23\\u0e2d\\u0e32\\u0e2b\\u0e32\\u0e23\", \"\\u0e01\\u0e32\\u0e41\\u0e1f\", \"\\u0e23\\u0e2a\", \"\\u0e1e\\u0e31\\u0e12\\u0e19\\u0e32\\u0e01\\u0e32\\u0e23\", \"\\u0e44\\u0e2d\\u0e42\\u0e2d\\u0e14\\u0e35\\u0e19\", \"\\u0e2d\\u0e32\\u0e2b\\u0e32\\u0e23\\u0e40\\u0e2a\\u0e23\\u0e34\\u0e21\", \"\\u0e2d\\u0e2d\\u0e01\\u0e01\\u0e33\\u0e25\\u0e31\\u0e07\\u0e01\\u0e32\\u0e22\", \"\\u0e1d\\u0e32\", \"\\u0e41\\u0e1e\\u0e04\\u0e04\\u0e39\\u0e48\", \"\\u0e40\\u0e25\\u0e48\\u0e19\\u0e40\\u0e27\\u0e17\", \"\\u0e1e\\u0e25\\u0e31\\u0e07\\u0e07\\u0e32\\u0e19\", \"\\u0e21\\u0e31\\u0e19\\u0e14\\u0e35\", \"\\u0e14\\u0e37\\u0e48\\u0e21\", \"\\u0e2d\\u0e38\\u0e48\\u0e19\", \"\\u0e40\\u0e27\\u0e22\\u0e4c\", \"\\u0e41\\u0e15\\u0e01\", \"\\u0e17\\u0e49\\u0e2d\\u0e07\", \"\\u0e40\\u0e27\\u0e17\", \"\\u0e40\\u0e1a\\u0e32\\u0e2b\\u0e27\\u0e32\\u0e19\", \"\\u0e2a\\u0e32\\u0e23\\u0e2d\\u0e32\\u0e2b\\u0e32\\u0e23\", \"\\u0e04\\u0e38\\u0e13\\u0e41\\u0e21\\u0e48\\u0e21\\u0e37\\u0e2d\\u0e43\\u0e2b\\u0e21\\u0e48\", \"\\u0e01\\u0e25\\u0e21\\u0e01\\u0e25\\u0e48\\u0e2d\\u0e21\", \"\\u0e2a\\u0e48\\u0e27\\u0e19\\u0e2a\\u0e39\\u0e07\", \"whey\", \"\\u0e1c\\u0e2a\\u0e21\", \"\\u0e41\\u0e19\\u0e30\\u0e19\\u0e33\", \"\\u0e08\\u0e37\\u0e14\", \"\\u0e23\\u0e49\\u0e2d\\u0e19\", \"\\u0e44\\u0e02\\u0e21\\u0e31\\u0e19\", \"\\u0e41\\u0e02\\u0e47\\u0e07\\u0e41\\u0e23\\u0e07\", \"\\u0e17\\u0e49\\u0e2d\\u0e07\\u0e40\\u0e2a\\u0e35\\u0e22\", \"\\u0e14\\u0e37\\u0e48\\u0e21\\u0e19\\u0e21\", \"\\u0e01\\u0e32\\u0e23\\u0e1a\\u0e39\\u0e14\", \"\\u0e19\\u0e21\\u0e02\\u0e49\\u0e19\\u0e2b\\u0e27\\u0e32\\u0e19\", \"\\u0e42\\u0e1b\\u0e23\\u0e15\\u0e35\\u0e19\", \"\\u0e27\\u0e34\\u0e48\\u0e07\", \"\\u0e40\\u0e1e\\u0e34\\u0e48\\u0e21\\u0e02\\u0e36\\u0e49\\u0e19\", \"\\u0e41\\u0e1b\\u0e49\\u0e07\", \"\\u0e27\\u0e34\\u0e15\\u0e32\\u0e21\\u0e34\\u0e19\", \"\\u0e44\\u0e21\\u0e42\\u0e04\\u0e23\\u0e40\\u0e27\\u0e1f\", \"\\u0e1e\\u0e19\\u0e31\\u0e01\\u0e07\\u0e32\\u0e19\\u0e02\\u0e32\\u0e22\\u0e19\\u0e21\", \"\\u0e41\\u0e25\\u0e04\\u0e42\\u0e15\\u0e2a\", \"\\u0e1e\\u0e37\\u0e49\\u0e19\\u0e10\\u0e32\\u0e19\", \"\\u0e02\\u0e19\\u0e21\\u0e1b\\u0e31\\u0e07\", \"\\u0e40\\u0e27\\u0e1f\", \"\\u0e40\\u0e14\\u0e47\\u0e01\", \"\\u0e02\\u0e27\\u0e14\", \"\\u0e41\\u0e16\\u0e21\", \"\\u0e25\\u0e39\\u0e01\", \"\\u0e01\\u0e34\\u0e19\\u0e19\\u0e21\", \"\\u0e0a\\u0e2d\\u0e1a\", \"\\u0e17\\u0e34\\u0e49\\u0e07\", \"\\u0e2b\\u0e27\\u0e32\\u0e19\", \"\\u0e19\\u0e21\\u0e1c\\u0e07\", \"\\u0e2d\\u0e23\\u0e48\\u0e2d\\u0e22\", \"\\u0e21\\u0e35\\u0e1b\\u0e23\\u0e30\\u0e42\\u0e22\\u0e0a\\u0e19\\u0e4c\", \"\\u0e15\\u0e49\\u0e21\", \"\\u0e2b\\u0e32\", \"\\u0e25\\u0e39\\u0e01\\u0e2a\\u0e38\\u0e19\\u0e31\\u0e02\", \"dha\", \"\\u0e02\\u0e42\\u0e21\\u0e22\", \"\\u0e2b\\u0e21\\u0e32\", \"\\u0e04\\u0e27\\u0e32\\u0e21\\u0e41\\u0e02\\u0e47\\u0e07\\u0e41\\u0e23\\u0e07\", \"\\u0e0b\\u0e37\\u0e49\\u0e2d\\u0e44\\u0e21\\u0e48\\u0e44\\u0e14\\u0e49\", \"\\u0e2d\\u0e32\\u0e40\\u0e08\\u0e35\\u0e22\\u0e19\", \"\\u0e1a\\u0e33\\u0e23\\u0e38\\u0e07\", \"\\u0e41\\u0e01\\u0e25\\u0e25\\u0e2d\\u0e19\", \"\\u0e44\\u0e21\\u0e42\\u0e04\\u0e23\\u0e40\\u0e27\\u0e1f\", \"\\u0e21\\u0e35\\u0e25\\u0e39\\u0e01\", \"\\u0e1f\\u0e32\\u0e23\\u0e4c\\u0e21\", \"\\u0e01\\u0e25\\u0e48\\u0e2d\\u0e07\", \"\\u0e04\\u0e38\\u0e13\\u0e41\\u0e21\\u0e48\", \"\\u0e2b\\u0e32\\u0e22\", \"\\u0e42\\u0e20\\u0e0a\\u0e19\\u0e32\\u0e01\\u0e32\\u0e23\", \"\\u0e40\\u0e2a\\u0e35\\u0e22\\u0e43\\u0e08\", \"\\u0e15\\u0e23\\u0e27\\u0e08\\u0e2a\\u0e2d\\u0e1a\", \"\\u0e40\\u0e08\\u0e21\\u0e2a\\u0e4c\\u0e08\\u0e34\", \"\\u0e17\\u0e34\\u0e49\\u0e07\", \"\\u0e41\\u0e02\\u0e47\\u0e07\\u0e41\\u0e23\\u0e07\", \"\\u0e2b\\u0e32\", \"\\u0e2a\\u0e48\\u0e27\\u0e19\\u0e2a\\u0e39\\u0e07\", \"\\u0e41\\u0e25\\u0e04\\u0e42\\u0e15\\u0e2a\", \"\\u0e02\\u0e27\\u0e14\", \"\\u0e1e\\u0e19\\u0e31\\u0e01\\u0e07\\u0e32\\u0e19\", \"\\u0e27\\u0e34\\u0e48\\u0e07\", \"\\u0e14\\u0e37\\u0e48\\u0e21\\u0e19\\u0e21\", \"\\u0e04\\u0e38\\u0e13\\u0e41\\u0e21\\u0e48\\u0e21\\u0e37\\u0e2d\\u0e43\\u0e2b\\u0e21\\u0e48\", \"\\u0e41\\u0e1e\\u0e30\", \"\\u0e1c\\u0e34\\u0e14\\u0e2a\\u0e31\\u0e07\\u0e40\\u0e01\\u0e15\", \"\\u0e2d\\u0e40\\u0e21\\u0e23\\u0e34\\u0e01\\u0e32\\u0e42\\u0e19\\u0e48\", \"\\u0e19\\u0e49\\u0e33\\u0e15\\u0e32\\u0e25\", \"\\u0e17\\u0e49\\u0e2d\\u0e07\\u0e40\\u0e2a\\u0e35\\u0e22\", \"\\u0e01\\u0e32\\u0e23\\u0e1a\\u0e39\\u0e14\", \"\\u0e17\\u0e49\\u0e2d\\u0e07\", \"\\u0e1d\\u0e32\", \"\\u0e1e\\u0e25\\u0e31\\u0e07\\u0e07\\u0e32\\u0e19\", \"\\u0e1b\\u0e23\\u0e30\\u0e2b\\u0e22\\u0e31\\u0e14\", \"\\u0e41\\u0e19\\u0e30\\u0e19\\u0e33\", \"\\u0e25\\u0e39\\u0e01\", \"\\u0e27\\u0e34\\u0e15\\u0e32\\u0e21\\u0e34\\u0e19\", \"\\u0e23\\u0e49\\u0e2d\\u0e19\", \"\\u0e2a\\u0e32\\u0e23\\u0e2d\\u0e32\\u0e2b\\u0e32\\u0e23\", \"\\u0e41\\u0e16\\u0e21\", \"\\u0e2b\\u0e27\\u0e32\\u0e19\", \"\\u0e2a\\u0e35\", \"\\u0e40\\u0e14\\u0e47\\u0e01\", \"\\u0e2a\\u0e48\\u0e27\\u0e19\\u0e1c\\u0e2a\\u0e21\", \"\\u0e01\\u0e34\\u0e19\\u0e19\\u0e21\", \"\\u0e0b\\u0e37\\u0e49\\u0e2d\", \"7-Eleven\", \"\\u0e0a\\u0e2d\\u0e1a\"], \"Freq\": [3535.0, 2053.0, 3056.0, 2938.0, 1846.0, 1672.0, 1589.0, 1022.0, 1005.0, 1460.0, 1138.0, 911.0, 2128.0, 721.0, 899.0, 1092.0, 962.0, 1295.0, 723.0, 721.0, 327.0, 708.0, 1227.0, 322.0, 525.0, 312.0, 597.0, 619.0, 356.0, 328.0, 1090.0, 326.0, 503.0, 494.0, 321.0, 340.0, 523.0, 297.0, 512.0, 302.0, 14.441135752221795, 16.30090031653214, 14.676869869829114, 1374.7218685116322, 2816.495904402649, 108.60465709269313, 97.28834378157435, 65.65866772959686, 186.97980520478853, 522.6505220575133, 10.170625544236096, 328.5375831188562, 41.74592177276392, 20.051006957685, 15.601158262101768, 744.8062776573666, 422.07739320732935, 22.1347063949573, 23.383592999853825, 52.62184804605802, 136.18235920435964, 11.537752169499413, 1.8261481353506717, 0.22211505130050074, 5.985033722026085, 109.88755096252214, 4.9022350647287665, 79.0170218985843, 30.502937293611406, 8.523732393643716, 138.07770825016988, 0.20064144915580578, 210.16346306145107, 39.175827100720205, 63.38958878782032, 90.43390144063181, 0.13678376999602662, 208.61429917951108, 2.5905702085032383, 38.36775865373849, 97.85621857912521, 46.95548303472292, 161.44924909582053, 49.437437125168685, 48.25679128147156, 85.2013670269386, 55.68456358308578, 104.70860349547914, 23.221421415449743, 40.105642153752406, 32.598870297006016, 30.578031156837802, 20.870182082632613, 18.298029986000287, 53.043998063558234, 128.21138399235912, 57.21374413770409, 214.26835193797396, 6.8450676489967925, 154.26967161777847, 40.393007010025634, 120.07363037143216, 154.59772706827783, 96.23253898609106, 2269.68529720399, 14.208132602940907, 428.70386196015465, 15.193814981113677, 25.87914011220245, 263.39022226010496, 13.31392744779903, 63.75883126120694, 372.5253915245558, 14.319227577378783, 15.6203148236403, 57.05377200065979, 18.866808363147594, 12.43457704099593, 21.290542757316548, 15.264574779224672, 14.643151301015862, 73.25577363385206, 43.577337673188104, 543.3159566013451, 100.84257081856434, 65.98068063338015, 265.7640829426646, 189.662666522262, 43.73113004987762, 50.45095057205825, 25.71000049535549, 0.29762155232825266, 12.991783826684607, 4.519355992900759, 323.5850203399813, 95.93961911629879, 184.1168115665183, 107.07840006579735, 86.65216792109545, 69.69003263353386, 90.0093853795608, 79.52855807931398, 76.2496612767237, 40.09822511637102, 41.119130779273384, 68.80498146526811, 41.21986896881224, 49.12722123128411, 45.66917691547693, 54.133228051331336, 49.451568054546236, 43.58139326139349, 42.02705438558338, 117.40587261175587, 31.005063278017577, 124.64731248417588, 881.7301560457314, 63.29248677226384, 25.603798244933984, 511.3722208198942, 10.215300089963762, 92.75999548966197, 744.0116198689472, 13.213875391419633, 322.6911284737554, 890.4445632951179, 116.6563803850194, 8.365879395053854, 140.37683305657725, 244.0076240200359, 182.784060418657, 270.8812674095263, 540.4506121587281, 0.6631927507651143, 517.4126161768328, 10.583772534934544, 17.771640916147092, 6.955523437468248, 63.70068991982059, 24.149650924185696, 0.2723553861294338, 13.037337722084184, 151.5473525398504, 242.2790940966914, 230.40220377406342, 14.626405448884007, 1.517139278780958, 0.19524223242861777, 119.01146862209498, 44.168360242838055, 138.76506491807947, 0.19525542910100502, 102.98346909435985, 32.77607308218846, 32.344703576604424, 39.02188339319012, 61.58350571731858, 139.24766005066306, 105.52568745072584, 51.50368782612928, 98.54805481248256, 69.30870985852937, 42.71937913760265, 41.81758034860386, 24.346189173636795, 36.45988082282475, 27.002257862021878, 273.5405012582223, 15.680498649396402, 154.55791070568927, 548.5459501110583, 203.3619110520495, 51.66911979047945, 221.5710241102397, 14.248771702029204, 609.0722381427172, 98.22029869595339, 110.95282913848803, 1501.1154167137265, 36.58190658600305, 193.52888855651435, 41.41306417673631, 97.76245329602757, 30.79852451749197, 13.674815828273461, 2.432190966862737, 162.38603223563123, 11.29025912211433, 2.056348825196402, 54.76602654809917, 4.880600097668638, 62.683637685125724, 272.02341244105264, 5.004446999114451, 4.958197205805056, 3.2483044164868966, 37.26358605473381, 59.93114485857885, 5.629191452508589, 8.960885647841215, 7.219416612783303, 85.05349021303277, 2.6432876481940504, 96.55597794125141, 220.0717799957492, 30.385330295551316, 217.58482238966587, 276.88707945330896, 240.1246003761118, 57.746758772297234, 117.14968466305753, 45.11365210122528, 50.77742012900523, 78.15992913908919, 43.132229797275706, 19.967098791314267, 24.99250641735149, 59.259622941520405, 40.64430308454833, 28.508206862249978, 27.325100118023954, 21.68116921048116, 23.854113268148712, 73.53713919495628, 313.6183463839795, 97.02022088307992, 39.6102076505386, 133.39077937806988, 254.39848834720675, 7.6040573501592625, 620.2312939941909, 22.10897018982956, 238.46139230764254, 6.198460045601781, 173.99484152119666, 44.70406907555276, 25.79013655013078, 334.9083430050513, 107.88927699393321, 203.01361373974962, 34.86297290590353, 273.29378602008944, 215.21899450282345, 691.7998325637336, 58.79009447719565, 15.663119588645214, 16.531140748641207, 255.57113141026835, 27.83808114875768, 8.327237013868018, 9.35744651840005, 347.62654663575097, 101.11243514713847, 70.40425379781168, 87.65307150676242, 5.554691421829098, 136.5408920346082, 0.23201831224893693, 104.40293865527639, 5.318778972235646, 2.991849129342355, 7.044382316425214, 20.681481660530295, 222.6574859313235, 299.18605306852277, 157.4355214365284, 99.34640511370277, 96.57137482078976, 29.762815289276052, 58.43860667146418, 108.07245479860111, 65.86469318034827, 57.471320297490685, 55.71302798619168, 32.55745169015948, 25.344367476760482, 45.12516981728626, 90.89758784526737, 5.588693647136531, 1566.1908597670915, 747.2869237685373, 31.159010792173323, 7.925611427287565, 204.4290488717223, 75.10146308834332, 19.247409699833728, 23.6028257079274, 3.1173967643494462, 78.94156829704801, 30.545407359185543, 571.861270452415, 281.15187312586636, 63.200881615533945, 34.7976553079463, 5.445168057750458, 32.42266038047606, 131.96704000586348, 6.6058770824759785, 10.548909472654602, 23.709842026148376, 60.90623717627536, 22.962803833001683, 0.11316113365193256, 54.431318803173745, 49.181877026261915, 199.52598511586896, 0.11698393941788585, 30.743413299401194, 4.904116963549011, 7.076198697364389, 91.67204271292071, 126.11343894409217, 0.11316571114502956, 84.30514422440986, 0.11316419661644932, 39.69091323720441, 198.01177336596504, 86.97473639018612, 116.37831614901188, 29.97766475580363, 55.40936681999976, 82.08216999015677, 141.17307060525116, 52.854400687388534, 41.895621262164, 33.11254903570728, 27.614165416726074, 30.505524351280986, 23.928480999545062, 143.1749417503741, 7.993620527406427, 159.1123273620848, 281.4203211123109, 251.13182721854503, 2.0591066823925526, 30.72736584542146, 110.093771738931, 44.00137367231212, 964.0975517530724, 172.78535738140036, 78.84531634282637, 117.2450751761273, 295.7611755888172, 17.692133306815236, 18.59015513144274, 234.52186455614248, 4.6436007373806, 18.446023375790734, 7.728175703395477, 11.092704231278262, 419.97995012328676, 250.05996425753116, 209.20220149640033, 157.292344933393, 149.42849275219268, 59.46116617230925, 71.44387789803457, 128.77067020879733, 0.35269767586837486, 29.38867425035576, 143.8498553983481, 38.15613737419708, 10.154183277544327, 44.76094927229576, 45.919773918809355, 19.72270581907552, 0.16043659537819785, 5.11036192003694, 3.944331111092197, 43.816025361446414, 11.627601398849922, 164.76341057438137, 91.94392341135836, 53.55475866476388, 195.71400085918518, 71.71368115653905, 134.04283900940658, 34.94816511773299, 64.72874117729096, 66.76291925198359, 60.380424376846996, 30.237287250900458, 28.817237266730096, 30.787972755265447, 31.09399018386304, 17.714760453367596, 22.515807738196738, 113.25859588935246, 11.12377195686102, 18.824261427252523, 67.3305482246258, 92.12355477606214, 35.04716483625586, 89.55115943592378, 72.18385977098013, 184.97292735892466, 1090.7700025278286, 193.46815231068197, 195.177290340148, 72.91985790584961, 37.345767205642716, 73.9217828556844, 22.124986669103627, 184.6898675491631, 114.64340470334514, 469.64551220409686, 10.283008679900169, 14.8672120587676, 400.5075446771306, 134.18934024952745, 83.79638643647232, 190.6135802002058, 4.306993388104449, 66.06108262915473, 0.40471894873043157, 2.8026751476768053, 151.92843503644005, 39.9525604837932, 0.20696535836019334, 74.72834294542558, 45.218180391884985, 18.724663207651343, 13.000121621114923, 79.66738543997093, 257.37162453177365, 27.291888859548365, 39.4120972194811, 43.51305156440031, 37.41633169798404, 56.79454304051756, 37.03239478393865, 57.36695050973041, 24.63309267924236, 31.316678516700406, 26.67939698293087, 26.286363240339192, 24.877557576259424], \"Total\": [3535.0, 2053.0, 3056.0, 2938.0, 1846.0, 1672.0, 1589.0, 1022.0, 1005.0, 1460.0, 1138.0, 911.0, 2128.0, 721.0, 899.0, 1092.0, 962.0, 1295.0, 723.0, 721.0, 327.0, 708.0, 1227.0, 322.0, 525.0, 312.0, 597.0, 619.0, 356.0, 328.0, 1090.0, 326.0, 503.0, 494.0, 321.0, 340.0, 523.0, 297.0, 512.0, 302.0, 15.346513263918736, 18.58628613448434, 17.26393513291744, 1672.028386675232, 3535.1009279104383, 137.9724394406514, 153.34793856121908, 107.36545290308513, 389.5921598936616, 1090.5624954053665, 25.200162277147854, 856.7169770038131, 110.3992076861976, 54.47328167969652, 43.158017817877415, 2128.8393980245614, 1227.1208474905802, 76.6182922809182, 90.63670721885376, 211.113265343896, 553.906246619402, 53.737392503689314, 10.130403053063135, 1.3056980820679926, 35.254039581222365, 655.5167213284961, 30.209561601120647, 512.7579887761137, 202.11297818853328, 58.73747971887714, 962.9874217415943, 1.4893527809281562, 1589.9285315010916, 297.85105593662195, 503.42402838951705, 723.4942055701157, 1.1013802548150773, 1745.1014557904577, 22.835993029050798, 349.3276403750824, 911.0613095312142, 449.5790521322006, 1846.1043623440682, 507.78583725867753, 523.3589049704258, 1295.6228170662673, 1005.5874746072806, 3056.6853917042476, 262.2019787428808, 1092.8460883814807, 619.3257669522865, 899.075208189384, 218.51018770076814, 356.2190311310816, 53.96088002023679, 131.31794192732985, 60.35213165863422, 242.8840001411017, 7.76063369123597, 175.18288653812797, 46.08454412603046, 139.6768839205918, 181.61489378379932, 126.65022051196243, 3056.6853917042476, 20.00783175602317, 619.3257669522865, 22.872982418422193, 43.158017817877415, 449.5790521322006, 22.835993029050798, 110.3992076861976, 721.7657914072494, 30.209561601120647, 34.145884403101654, 133.64076350210615, 45.512434386831735, 30.491870838970318, 56.97140553360142, 41.38601250674446, 40.13366015015153, 211.113265343896, 137.06893330374123, 1745.1014557904577, 331.28559051901425, 218.51018770076814, 962.9874217415943, 708.4427950642244, 177.5819050500479, 206.70733058376686, 107.36545290308513, 1.3056980820679926, 58.73747971887714, 21.19172702047754, 1846.1043623440682, 507.78583725867753, 1589.9285315010916, 899.075208189384, 780.3401843158997, 597.6316085241388, 1090.5624954053665, 1022.5788567648591, 1092.8460883814807, 297.85105593662195, 321.76683007493165, 2128.8393980245614, 389.5921598936616, 1227.1208474905802, 856.7169770038131, 2938.168822703704, 3535.1009279104383, 721.239154809338, 1295.6228170662673, 119.88381110193724, 31.961300592216457, 129.87258730954406, 1005.5874746072806, 73.84561442833318, 32.72586428346043, 723.4942055701157, 14.691260636645913, 138.74643543520983, 1138.901398129358, 21.19172702047754, 523.3589049704258, 1460.5103171884975, 218.51018770076814, 15.742469861750969, 267.8560953640243, 494.47531740404, 373.3728206632478, 553.906246619402, 1227.1208474905802, 1.624907419450571, 1295.6228170662673, 30.491870838970318, 54.47328167969652, 22.872982418422193, 216.52963935837266, 88.09674600492158, 1.1013802548150773, 53.737392503689314, 655.5167213284961, 1090.5624954053665, 1092.8460883814807, 90.63670721885376, 10.130403053063135, 1.3056980820679926, 856.7169770038131, 321.76683007493165, 1022.5788567648591, 1.4558504430667103, 780.3401843158997, 294.58086664274964, 302.5242771314509, 382.73476320133017, 721.239154809338, 2128.8393980245614, 1672.028386675232, 619.3257669522865, 3056.6853917042476, 1745.1014557904577, 1846.1043623440682, 2938.168822703704, 389.5921598936616, 3535.1009279104383, 1589.9285315010916, 312.2332877244624, 18.08126110887995, 189.39281447165342, 721.239154809338, 274.4494502485337, 70.59244681013234, 321.76683007493165, 25.200162277147854, 1092.8460883814807, 177.5819050500479, 202.11297818853328, 2938.168822703704, 90.63670721885376, 507.78583725867753, 120.2349204784966, 328.688082129779, 111.15846895481253, 54.47328167969652, 11.398383912041723, 780.3401843158997, 56.97140553360142, 12.308741061127911, 331.28559051901425, 30.209561601120647, 389.5921598936616, 1745.1014557904577, 33.823717310522596, 33.69624275636796, 22.835993029050798, 267.8560953640243, 449.5790521322006, 43.407901492270305, 71.2708826886388, 58.73747971887714, 723.4942055701157, 23.143241659772563, 899.075208189384, 2053.6057504049495, 294.58086664274964, 2128.8393980245614, 3535.1009279104383, 3056.6853917042476, 655.5167213284961, 1672.028386675232, 512.7579887761137, 619.3257669522865, 1090.5624954053665, 553.906246619402, 211.113265343896, 295.08429802725624, 1227.1208474905802, 1022.5788567648591, 1846.1043623440682, 1295.6228170662673, 382.73476320133017, 1138.901398129358, 75.26727452095159, 327.8058936462353, 102.16344572318664, 42.21698435405713, 145.15040307691459, 326.0082052868768, 10.147348212092924, 911.0613095312142, 33.823717310522596, 382.73476320133017, 10.130403053063135, 295.08429802725624, 76.6182922809182, 45.512434386831735, 708.4427950642244, 262.2019787428808, 512.7579887761137, 88.09674600492158, 721.7657914072494, 597.6316085241388, 2128.8393980245614, 191.9326830394462, 58.73747971887714, 71.2708826886388, 1138.901398129358, 130.92364450935992, 39.26685975736088, 45.00757105766314, 1745.1014557904577, 525.8168685565115, 373.3728206632478, 503.42402838951705, 33.69624275636796, 856.7169770038131, 1.4558504430667103, 655.5167213284961, 34.145884403101654, 22.835993029050798, 56.97140553360142, 177.5819050500479, 2053.6057504049495, 2938.168822703704, 1460.5103171884975, 1090.5624954053665, 1295.6228170662673, 294.58086664274964, 780.3401843158997, 3056.6853917042476, 1846.1043623440682, 1589.9285315010916, 3535.1009279104383, 962.9874217415943, 553.906246619402, 46.03965322869594, 96.35810916312809, 6.500199472417349, 2053.6057504049495, 1022.5788567648591, 43.407901492270305, 11.398383912041723, 302.5242771314509, 120.2349204784966, 33.69624275636796, 67.30921426472624, 14.691260636645913, 373.3728206632478, 153.34793856121908, 2938.168822703704, 1460.5103171884975, 340.5396120059887, 191.9326830394462, 30.491870838970318, 211.113265343896, 899.075208189384, 53.737392503689314, 88.09674600492158, 202.11297818853328, 523.3589049704258, 206.70733058376686, 1.1013802548150773, 553.906246619402, 507.78583725867753, 2128.8393980245614, 1.3056980820679926, 356.2190311310816, 56.97140553360142, 82.68439172750274, 1138.901398129358, 1589.9285315010916, 1.4558504430667103, 1092.8460883814807, 1.4893527809281562, 525.8168685565115, 3056.6853917042476, 1295.6228170662673, 1846.1043623440682, 449.5790521322006, 911.0613095312142, 1745.1014557904577, 3535.1009279104383, 1090.5624954053665, 856.7169770038131, 780.3401843158997, 597.6316085241388, 1005.5874746072806, 1672.028386675232, 145.56548836086648, 8.881796449757804, 178.1373002203384, 322.1112788040918, 356.2190311310816, 2.97950395916054, 45.00757105766314, 165.15417651514946, 71.2708826886388, 1589.9285315010916, 294.58086664274964, 137.06893330374123, 206.70733058376686, 525.8168685565115, 39.26685975736088, 41.38601250674446, 597.6316085241388, 12.308741061127911, 53.737392503689314, 23.143241659772563, 34.145884403101654, 1295.6228170662673, 780.3401843158997, 655.5167213284961, 494.47531740404, 512.7579887761137, 217.08711882335388, 262.2019787428808, 503.42402838951705, 1.4558504430667103, 138.74643543520983, 708.4427950642244, 216.52963935837266, 58.73747971887714, 274.4494502485337, 295.08429802725624, 127.65797495668903, 1.1013802548150773, 35.254039581222365, 30.209561601120647, 389.5921598936616, 90.63670721885376, 1745.1014557904577, 962.9874217415943, 507.78583725867753, 2938.168822703704, 911.0613095312142, 3535.1009279104383, 349.3276403750824, 1227.1208474905802, 1460.5103171884975, 2128.8393980245614, 326.0082052868768, 382.73476320133017, 899.075208189384, 32.2492928047186, 18.771511588448003, 24.173169906999743, 122.22690890129407, 12.057114750840258, 20.736567694580078, 82.68439172750274, 120.79448164508628, 49.54287626607567, 127.65797495668903, 111.15846895481253, 297.85105593662195, 1846.1043623440682, 328.688082129779, 340.5396120059887, 130.92364450935992, 67.30921426472624, 133.64076350210615, 40.13366015015153, 349.3276403750824, 217.08711882335388, 899.075208189384, 23.143241659772563, 35.254039581222365, 962.9874217415943, 331.28559051901425, 216.52963935837266, 503.42402838951705, 12.308741061127911, 191.9326830394462, 1.4893527809281562, 15.742469861750969, 856.7169770038131, 262.2019787428808, 1.4558504430667103, 525.8168685565115, 356.2190311310816, 165.15417651514946, 126.65022051196243, 780.3401843158997, 2938.168822703704, 295.08429802725624, 494.47531740404, 597.6316085241388, 507.78583725867753, 1227.1208474905802, 523.3589049704258, 1745.1014557904577, 267.8560953640243, 911.0613095312142, 3056.6853917042476, 721.239154809338, 3535.1009279104383], \"Category\": [\"Default\", \"Default\", \"Default\", \"Default\", \"Default\", \"Default\", \"Default\", \"Default\", \"Default\", \"Default\", \"Default\", \"Default\", \"Default\", \"Default\", \"Default\", \"Default\", \"Default\", \"Default\", \"Default\", \"Default\", \"Default\", \"Default\", \"Default\", \"Default\", \"Default\", \"Default\", \"Default\", \"Default\", \"Default\", \"Default\", \"Default\", \"Default\", \"Default\", \"Default\", \"Default\", \"Default\", \"Default\", \"Default\", \"Default\", \"Default\", \"Topic1\", \"Topic1\", \"Topic1\", \"Topic1\", \"Topic1\", \"Topic1\", \"Topic1\", \"Topic1\", \"Topic1\", \"Topic1\", \"Topic1\", \"Topic1\", \"Topic1\", \"Topic1\", \"Topic1\", \"Topic1\", \"Topic1\", \"Topic1\", \"Topic1\", \"Topic1\", \"Topic1\", \"Topic1\", \"Topic1\", \"Topic1\", \"Topic1\", \"Topic1\", \"Topic1\", \"Topic1\", \"Topic1\", \"Topic1\", \"Topic1\", \"Topic1\", \"Topic1\", \"Topic1\", \"Topic1\", \"Topic1\", \"Topic1\", \"Topic1\", \"Topic1\", \"Topic1\", \"Topic1\", \"Topic1\", \"Topic1\", \"Topic1\", \"Topic1\", \"Topic1\", \"Topic1\", \"Topic1\", \"Topic1\", \"Topic1\", \"Topic1\", \"Topic1\", \"Topic1\", \"Topic1\", \"Topic2\", \"Topic2\", \"Topic2\", \"Topic2\", \"Topic2\", \"Topic2\", \"Topic2\", \"Topic2\", \"Topic2\", \"Topic2\", \"Topic2\", \"Topic2\", \"Topic2\", \"Topic2\", \"Topic2\", \"Topic2\", \"Topic2\", \"Topic2\", \"Topic2\", \"Topic2\", \"Topic2\", \"Topic2\", \"Topic2\", \"Topic2\", \"Topic2\", \"Topic2\", \"Topic2\", \"Topic2\", \"Topic2\", \"Topic2\", \"Topic2\", \"Topic2\", \"Topic2\", \"Topic2\", \"Topic2\", \"Topic2\", \"Topic2\", \"Topic2\", \"Topic2\", \"Topic2\", \"Topic2\", \"Topic2\", \"Topic2\", \"Topic2\", \"Topic2\", \"Topic2\", \"Topic2\", \"Topic2\", \"Topic2\", \"Topic2\", \"Topic2\", \"Topic2\", \"Topic2\", \"Topic2\", \"Topic2\", \"Topic2\", \"Topic2\", \"Topic2\", \"Topic2\", \"Topic3\", \"Topic3\", \"Topic3\", \"Topic3\", \"Topic3\", \"Topic3\", \"Topic3\", \"Topic3\", \"Topic3\", \"Topic3\", \"Topic3\", \"Topic3\", \"Topic3\", \"Topic3\", \"Topic3\", \"Topic3\", \"Topic3\", \"Topic3\", \"Topic3\", \"Topic3\", \"Topic3\", \"Topic3\", \"Topic3\", \"Topic3\", \"Topic3\", \"Topic3\", \"Topic3\", \"Topic3\", \"Topic3\", \"Topic3\", \"Topic3\", \"Topic3\", \"Topic3\", \"Topic3\", \"Topic3\", \"Topic3\", \"Topic3\", \"Topic3\", \"Topic3\", \"Topic3\", \"Topic3\", \"Topic3\", \"Topic3\", \"Topic3\", \"Topic3\", \"Topic3\", \"Topic3\", \"Topic3\", \"Topic3\", \"Topic3\", \"Topic3\", \"Topic3\", \"Topic3\", \"Topic3\", \"Topic4\", \"Topic4\", \"Topic4\", \"Topic4\", \"Topic4\", \"Topic4\", \"Topic4\", \"Topic4\", \"Topic4\", \"Topic4\", \"Topic4\", \"Topic4\", \"Topic4\", \"Topic4\", \"Topic4\", \"Topic4\", \"Topic4\", \"Topic4\", \"Topic4\", \"Topic4\", \"Topic4\", \"Topic4\", \"Topic4\", \"Topic4\", \"Topic4\", \"Topic4\", \"Topic4\", \"Topic4\", \"Topic4\", \"Topic4\", \"Topic4\", \"Topic4\", \"Topic4\", \"Topic4\", \"Topic4\", \"Topic4\", \"Topic4\", \"Topic4\", \"Topic4\", \"Topic4\", \"Topic4\", \"Topic4\", \"Topic4\", \"Topic4\", \"Topic4\", \"Topic4\", \"Topic4\", \"Topic4\", \"Topic4\", \"Topic4\", \"Topic4\", \"Topic4\", \"Topic4\", \"Topic4\", \"Topic4\", \"Topic4\", \"Topic5\", \"Topic5\", \"Topic5\", \"Topic5\", \"Topic5\", \"Topic5\", \"Topic5\", \"Topic5\", \"Topic5\", \"Topic5\", \"Topic5\", \"Topic5\", \"Topic5\", \"Topic5\", \"Topic5\", \"Topic5\", \"Topic5\", \"Topic5\", \"Topic5\", \"Topic5\", \"Topic5\", \"Topic5\", \"Topic5\", \"Topic5\", \"Topic5\", \"Topic5\", \"Topic5\", \"Topic5\", \"Topic5\", \"Topic5\", \"Topic5\", \"Topic5\", \"Topic5\", \"Topic5\", \"Topic5\", \"Topic5\", \"Topic5\", \"Topic5\", \"Topic5\", \"Topic5\", \"Topic5\", \"Topic5\", \"Topic5\", \"Topic5\", \"Topic5\", \"Topic5\", \"Topic5\", \"Topic5\", \"Topic5\", \"Topic5\", \"Topic5\", \"Topic5\", \"Topic5\", \"Topic6\", \"Topic6\", \"Topic6\", \"Topic6\", \"Topic6\", \"Topic6\", \"Topic6\", \"Topic6\", \"Topic6\", \"Topic6\", \"Topic6\", \"Topic6\", \"Topic6\", \"Topic6\", \"Topic6\", \"Topic6\", \"Topic6\", \"Topic6\", \"Topic6\", \"Topic6\", \"Topic6\", \"Topic6\", \"Topic6\", \"Topic6\", \"Topic6\", \"Topic6\", \"Topic6\", \"Topic6\", \"Topic6\", \"Topic6\", \"Topic6\", \"Topic6\", \"Topic6\", \"Topic6\", \"Topic6\", \"Topic6\", \"Topic6\", \"Topic6\", \"Topic6\", \"Topic6\", \"Topic6\", \"Topic6\", \"Topic6\", \"Topic6\", \"Topic6\", \"Topic6\", \"Topic6\", \"Topic6\", \"Topic6\", \"Topic6\", \"Topic6\", \"Topic6\", \"Topic6\", \"Topic7\", \"Topic7\", \"Topic7\", \"Topic7\", \"Topic7\", \"Topic7\", \"Topic7\", \"Topic7\", \"Topic7\", \"Topic7\", \"Topic7\", \"Topic7\", \"Topic7\", \"Topic7\", \"Topic7\", \"Topic7\", \"Topic7\", \"Topic7\", \"Topic7\", \"Topic7\", \"Topic7\", \"Topic7\", \"Topic7\", \"Topic7\", \"Topic7\", \"Topic7\", \"Topic7\", \"Topic7\", \"Topic7\", \"Topic7\", \"Topic7\", \"Topic7\", \"Topic7\", \"Topic7\", \"Topic7\", \"Topic7\", \"Topic7\", \"Topic7\", \"Topic7\", \"Topic7\", \"Topic7\", \"Topic7\", \"Topic7\", \"Topic7\", \"Topic7\", \"Topic7\", \"Topic7\", \"Topic7\", \"Topic7\", \"Topic7\", \"Topic7\", \"Topic7\", \"Topic7\", \"Topic7\", \"Topic7\", \"Topic8\", \"Topic8\", \"Topic8\", \"Topic8\", \"Topic8\", \"Topic8\", \"Topic8\", \"Topic8\", \"Topic8\", \"Topic8\", \"Topic8\", \"Topic8\", \"Topic8\", \"Topic8\", \"Topic8\", \"Topic8\", \"Topic8\", \"Topic8\", \"Topic8\", \"Topic8\", \"Topic8\", \"Topic8\", \"Topic8\", \"Topic8\", \"Topic8\", \"Topic8\", \"Topic8\", \"Topic8\", \"Topic8\", \"Topic8\", \"Topic8\", \"Topic8\", \"Topic8\", \"Topic8\", \"Topic8\", \"Topic8\", \"Topic8\", \"Topic8\", \"Topic8\", \"Topic8\", \"Topic8\", \"Topic8\", \"Topic8\", \"Topic8\", \"Topic8\", \"Topic8\", \"Topic8\", \"Topic8\", \"Topic8\", \"Topic8\", \"Topic8\", \"Topic8\", \"Topic8\"], \"logprob\": [40.0, 39.0, 38.0, 37.0, 36.0, 35.0, 34.0, 33.0, 32.0, 31.0, 30.0, 29.0, 28.0, 27.0, 26.0, 25.0, 24.0, 23.0, 22.0, 21.0, 20.0, 19.0, 18.0, 17.0, 16.0, 15.0, 14.0, 13.0, 12.0, 11.0, 10.0, 9.0, 8.0, 7.0, 6.0, 5.0, 4.0, 3.0, 2.0, 1.0, -6.453199863433838, -6.332099914550781, -6.436999797821045, -1.8973000049591064, -1.1800999641418457, -4.4355998039245605, -4.545599937438965, -4.938799858093262, -3.8922998905181885, -2.8643999099731445, -6.803800106048584, -3.328700065612793, -5.39169979095459, -6.125, -6.375999927520752, -2.510200023651123, -3.0780999660491943, -6.026199817657471, -5.97130012512207, -5.160200119018555, -4.2093000411987305, -6.677700042724609, -8.521100044250488, -10.627900123596191, -7.334099769592285, -4.423900127410889, -7.533599853515625, -4.753699779510498, -5.70550012588501, -6.980500221252441, -4.195499897003174, -10.729599952697754, -3.775399923324585, -5.4552998542785645, -4.973999977111816, -4.61870002746582, -11.112700462341309, -3.7827999591827393, -8.17140007019043, -5.476099967956543, -4.53980016708374, -5.274099826812744, -4.039100170135498, -5.222599983215332, -5.246799945831299, -4.678299903869629, -5.103600025177002, -4.472099781036377, -5.9781999588012695, -5.43179988861084, -5.638999938964844, -5.703000068664551, -6.085000038146973, -6.2164998054504395, -5.050300121307373, -4.167799949645996, -4.974699974060059, -3.6542000770568848, -7.097899913787842, -3.982800006866455, -5.322800159454346, -4.23330020904541, -3.980600118637085, -4.454699993133545, -1.294100046157837, -6.367599964141846, -2.960700035095215, -6.300600051879883, -5.76800012588501, -3.4477999210357666, -6.432600021362305, -4.866300106048584, -3.101099967956543, -6.359899997711182, -6.272900104522705, -4.977499961853027, -6.084099769592285, -6.500999927520752, -5.963200092315674, -6.295899868011475, -6.337500095367432, -4.727499961853027, -5.2469000816345215, -2.72379994392395, -4.407899856567383, -4.832099914550781, -3.438800096511841, -3.77620005607605, -5.2434000968933105, -5.100500106811523, -5.774600028991699, -10.233400344848633, -6.457099914550781, -7.5131001472473145, -3.242000102996826, -4.457699775695801, -3.8059000968933105, -4.347899913787842, -4.559599876403809, -4.777400016784668, -4.521500110626221, -4.645299911499023, -4.687399864196777, -5.330100059509277, -5.304999828338623, -4.790200233459473, -5.302499771118164, -5.126999855041504, -5.199999809265137, -5.03000020980835, -5.120500087738037, -5.246799945831299, -5.283100128173828, -4.240300178527832, -5.571800231933594, -4.180500030517578, -2.224100112915039, -4.8582000732421875, -5.763199806213379, -2.768899917602539, -6.68209981918335, -4.47599983215332, -2.393899917602539, -6.424699783325195, -3.229300022125244, -2.2142999172210693, -4.246699810028076, -6.881800174713135, -4.061600208282471, -3.5088000297546387, -3.7976999282836914, -3.4042999744415283, -2.713599920272827, -9.41670036315918, -2.7571001052856445, -6.646699905395508, -6.128399848937988, -7.066400051116943, -4.851799964904785, -5.821700096130371, -10.306599617004395, -6.438199996948242, -3.985100030899048, -3.515899896621704, -3.5660998821258545, -6.3231000900268555, -8.589099884033203, -10.63949966430664, -4.226799964904785, -5.2179999351501465, -4.073200225830078, -10.639399528503418, -4.371399879455566, -5.516300201416016, -5.5295000076293945, -5.341899871826172, -4.8856000900268555, -4.069699764251709, -4.3470001220703125, -5.064300060272217, -4.41540002822876, -4.767399787902832, -5.251299858093262, -5.27269983291626, -5.813600063323975, -5.409800052642822, -5.710100173950195, -3.25, -6.109000205993652, -3.8208999633789062, -2.5541999340057373, -3.5464999675750732, -4.916600227355957, -3.460700035095215, -6.204800128936768, -2.44950008392334, -4.274199962615967, -4.152299880981445, -1.5475000143051147, -5.261899948120117, -3.5959999561309814, -5.137899875640869, -4.278900146484375, -5.434000015258789, -6.2459001541137695, -7.972700119018555, -3.7715001106262207, -6.4375, -8.14050006866455, -4.858399868011475, -7.276199817657471, -4.723400115966797, -3.2555999755859375, -7.251100063323975, -7.26039981842041, -7.683300018310547, -5.2434000968933105, -4.7683000564575195, -7.133500099182129, -6.668600082397461, -6.884699821472168, -4.4182000160217285, -7.889400005340576, -4.291299819946289, -3.4674999713897705, -5.447500228881836, -3.4788999557495117, -3.237799882888794, -3.3803000450134277, -4.8053998947143555, -4.0980000495910645, -5.052299976348877, -4.934000015258789, -4.502699851989746, -5.0971999168396, -5.867400169372559, -5.642899990081787, -4.7795000076293945, -5.156599998474121, -5.511300086975098, -5.553599834442139, -5.784999847412109, -5.689499855041504, -4.547399997711182, -3.0969998836517334, -4.270299911499023, -5.166100025177002, -3.951900005340576, -3.306299924850464, -6.816500186920166, -2.41510009765625, -5.749199867248535, -3.371000051498413, -7.020899772644043, -3.686199903488159, -5.045100212097168, -5.595200061798096, -3.0313000679016113, -4.164100170135498, -3.531899929046631, -5.293799877166748, -3.234600067138672, -3.4735000133514404, -2.3059000968933105, -4.771200180053711, -6.093900203704834, -6.039899826049805, -3.3017001152038574, -5.518799781799316, -6.7256999015808105, -6.609000205993652, -2.9941000938415527, -4.229000091552734, -4.59089994430542, -4.371799945831299, -7.1305999755859375, -3.9286000728607178, -10.306099891662598, -4.196899890899658, -7.173999786376953, -7.749300003051758, -6.89300012588501, -5.815999984741211, -3.4395999908447266, -3.1440999507904053, -3.7862000465393066, -4.246600151062012, -4.274899959564209, -5.451900005340576, -4.777200222015381, -4.162399768829346, -4.657599925994873, -4.793900012969971, -4.824999809265137, -5.362199783325195, -5.612599849700928, -4.925099849700928, -4.224800109863281, -7.013700008392334, -1.378100037574768, -2.118000030517578, -5.295400142669678, -6.664400100708008, -3.414299964904785, -4.4156999588012695, -5.777100086212158, -5.5731000900268555, -7.597499847412109, -4.365799903869629, -5.315299987792969, -2.3856000900268555, -3.095599889755249, -4.588200092315674, -5.184899806976318, -7.03980016708374, -5.2555999755859375, -3.851900100708008, -6.846499919891357, -6.378499984741211, -5.568600177764893, -4.625199794769287, -5.600599765777588, -10.913399696350098, -4.737599849700928, -4.839000225067139, -3.438499927520752, -10.880200386047363, -5.308800220489502, -7.144400119781494, -6.7778000831604, -4.216300010681152, -3.8973000049591064, -10.913399696350098, -4.300099849700928, -10.913399696350098, -5.053400039672852, -3.446199893951416, -4.268899917602539, -3.97760009765625, -5.334000110626221, -4.719699859619141, -4.3267998695373535, -3.7844998836517334, -4.767000198364258, -4.999300003051758, -5.234600067138672, -5.416200160980225, -5.3165998458862305, -5.5594000816345215, -3.7502999305725098, -6.635700225830078, -3.644700050354004, -3.07450008392334, -3.1884000301361084, -7.992099761962891, -5.2891998291015625, -4.013000011444092, -4.930099964141846, -1.8430999517440796, -3.562299966812134, -4.346799850463867, -3.9500999450683594, -3.0248000621795654, -5.84119987487793, -5.7916998863220215, -3.2567999362945557, -7.178800106048584, -5.799499988555908, -6.66949987411499, -6.308000087738037, -2.674099922180176, -3.1926000118255615, -3.371000051498413, -3.6561999320983887, -3.7074999809265137, -4.629000186920166, -4.445400238037109, -3.856300115585327, -9.756500244140625, -5.333700180053711, -3.7455999851226807, -5.0725998878479, -6.396399974822998, -4.913000106811523, -4.887400150299072, -5.732600212097168, -10.54419994354248, -7.083099842071533, -7.342100143432617, -4.934299945831299, -6.261000156402588, -3.609800100326538, -4.19320011138916, -4.73360013961792, -3.437700033187866, -4.441699981689453, -3.816200017929077, -5.1605000495910645, -4.544099807739258, -4.513199806213379, -4.613699913024902, -5.305300235748291, -5.353400230407715, -5.287199974060059, -5.166200160980225, -5.728799819946289, -5.488999843597412, -3.873500108718872, -6.1940999031066895, -5.668099880218506, -4.393599987030029, -4.080100059509277, -5.046500205993652, -4.108399868011475, -4.323999881744385, -3.382999897003174, -1.6086000204086304, -3.338099956512451, -3.3292999267578125, -4.313899993896484, -4.982999801635742, -4.30019998550415, -5.506499767303467, -3.384500026702881, -3.8613998889923096, -2.451200008392334, -6.27269983291626, -5.904099941253662, -2.6105000972747803, -3.7039999961853027, -4.174799919128418, -3.3529999256134033, -7.14300012588501, -4.412600040435791, -9.507800102233887, -7.5725998878479, -3.5797998905181885, -4.915500164031982, -10.178400039672852, -4.289400100708008, -4.7916998863220215, -5.673399925231934, -6.038300037384033, -4.225399971008301, -3.0527000427246094, -5.296599864959717, -4.929100036621094, -4.8302001953125, -4.981100082397461, -4.563799858093262, -4.991399765014648, -4.553800106048584, -5.399099826812744, -5.15910005569458, -5.319300174713135, -5.334199905395508, -5.3892998695373535], \"loglift\": [40.0, 39.0, 38.0, 37.0, 36.0, 35.0, 34.0, 33.0, 32.0, 31.0, 30.0, 29.0, 28.0, 27.0, 26.0, 25.0, 24.0, 23.0, 22.0, 21.0, 20.0, 19.0, 18.0, 17.0, 16.0, 15.0, 14.0, 13.0, 12.0, 11.0, 10.0, 9.0, 8.0, 7.0, 6.0, 5.0, 4.0, 3.0, 2.0, 1.0, 1.7727, 1.7023, 1.6712, 1.6377, 1.6063, 1.5942, 1.3785, 1.3418, 1.0994, 1.098, 0.9262, 0.8751, 0.861, 0.8341, 0.816, 0.7833, 0.7663, 0.5918, 0.4787, 0.4443, 0.4305, 0.295, 0.1202, 0.0622, 0.0602, 0.0476, 0.0151, -0.0366, -0.0575, -0.0967, -0.1087, -0.1711, -0.19, -0.195, -0.2386, -0.246, -0.2524, -0.2906, -0.3429, -0.3753, -0.3976, -0.4256, -0.6031, -0.4958, -0.5502, -0.8882, -1.0601, -1.5404, -0.5905, -1.4715, -1.1108, -1.5476, -0.515, -1.1352, 1.9182, 1.9114, 1.882, 1.81, 1.8099, 1.8083, 1.8036, 1.7842, 1.7743, 1.6607, 1.6377, 1.5931, 1.5675, 1.5263, 1.424, 1.4007, 1.3959, 1.3864, 1.274, 1.1888, 1.1533, 1.0842, 1.0548, 1.0384, 0.9511, 0.938, 0.9271, 0.8769, 0.7894, 0.7685, 0.746, 0.7379, 0.648, 0.6176, 0.534, 0.5251, 0.506, 0.4567, 0.4266, 0.3901, 0.194, 0.269, -0.2205, -0.1924, -0.2624, -0.2135, -0.5591, -0.6186, -0.7271, -0.0699, -0.122, -1.4967, -0.3108, -1.2826, -0.9963, -2.0587, -2.3341, -0.871, -1.493, 1.93, 1.9205, 1.9098, 1.8194, 1.7967, 1.7054, 1.6039, 1.5875, 1.5482, 1.5251, 1.4785, 1.4673, 1.456, 1.3233, 1.3187, 1.3047, 1.2446, 1.2366, 1.2356, 1.1308, 1.0547, 1.033, 0.8927, 0.8308, 0.7604, 0.7273, 0.6567, 0.5537, 0.5346, 0.4863, 0.4465, 0.3942, 0.1268, 0.0522, 0.0506, -0.023, -0.035, -0.0464, -0.0582, -0.0743, -0.245, -0.2848, -0.3324, -0.5097, -0.7762, -0.812, -0.5361, -1.4837, -1.2751, -1.8153, -2.3014, -0.8219, -2.6234, -2.1247, 1.9631, 1.9529, 1.8921, 1.8217, 1.7956, 1.7833, 1.7223, 1.5252, 1.5108, 1.5032, 1.4957, 1.4238, 1.1881, 1.1308, 1.0295, 0.8828, 0.8119, 0.7132, 0.5507, 0.5256, 0.4768, 0.306, 0.2955, 0.2725, 0.2684, 0.2367, 0.1846, 0.179, 0.1452, 0.123, 0.0803, 0.0527, 0.0218, -0.0009, -0.0454, -0.0743, -0.1359, -0.138, -0.1762, -0.1854, -0.4515, -0.4485, -0.334, -0.563, -0.3352, -0.4058, -0.5403, -0.4573, -0.2629, -0.3733, -0.9351, -1.1298, -2.0753, -1.7636, -0.7755, -1.7705, 2.0884, 2.0674, 2.06, 2.0479, 2.0272, 1.8636, 1.8231, 1.7271, 1.6865, 1.6385, 1.6204, 1.5834, 1.5729, 1.5437, 1.3624, 1.2236, 1.1851, 1.1846, 1.1405, 1.0903, 0.9876, 0.9285, 0.7899, 0.6504, 0.6173, 0.5634, 0.5608, 0.541, 0.4982, 0.4629, 0.4433, 0.3636, 0.3089, 0.2752, 0.2751, 0.2745, 0.2522, 0.0792, 0.0213, -0.0385, -0.1101, -0.1728, -0.1159, -0.2842, -0.4848, -0.1806, -0.4801, -1.2306, -1.2216, -1.2085, -2.0386, -1.2754, -0.9728, 2.2023, 2.164, 2.0713, 1.9514, 1.9087, 1.8908, 1.859, 1.8304, 1.7517, 1.6623, 1.1744, 0.6721, 0.6685, 0.6089, 0.5857, 0.5747, 0.5381, 0.5148, 0.4996, 0.3488, 0.3035, 0.1262, 0.0999, 0.0794, 0.0714, 0.0249, -0.0532, -0.0977, -0.1122, -0.145, -0.1901, -0.2275, -0.2301, -0.2359, -0.2973, -0.3119, -0.3321, -0.3398, -0.3549, -0.3615, -0.5144, -0.4788, -0.5416, -0.4855, -0.5775, -0.8345, -0.9982, -0.8046, -0.7956, -0.9375, -0.8523, -1.2731, -2.0244, 2.2259, 2.1371, 2.1296, 2.1075, 1.8929, 1.873, 1.8608, 1.837, 1.7602, 1.7423, 1.709, 1.6895, 1.6755, 1.6671, 1.4452, 1.4422, 1.3071, 1.2677, 1.1732, 1.1457, 1.1182, 1.116, 1.1045, 1.1004, 1.0971, 1.0095, 0.9475, 0.9423, 0.8791, 0.8248, 0.6905, 0.6482, 0.5065, 0.4873, 0.4291, 0.3821, 0.3749, 0.3161, 0.3112, 0.2066, 0.0574, 0.189, -0.1175, -0.1064, -0.0068, -0.4664, -0.2994, -1.0298, -0.0596, -0.6997, -0.8429, -1.3202, -0.1353, -0.3439, -1.1317, 2.3171, 2.2957, 2.2826, 2.2774, 2.2731, 2.2569, 2.1482, 2.0827, 2.0075, 1.9991, 1.9219, 1.8772, 1.8274, 1.8236, 1.797, 1.7684, 1.7645, 1.7615, 1.7581, 1.7163, 1.7151, 1.7042, 1.5424, 1.4902, 1.4763, 1.4499, 1.4043, 1.3824, 1.3036, 1.2871, 1.0507, 0.6278, 0.6239, 0.4722, 0.4028, 0.4025, 0.2896, 0.1766, 0.0772, 0.0718, -0.0814, -0.027, -0.1758, -0.2663, -0.2543, -0.7194, -0.2949, -1.0615, -0.0327, -1.0168, -2.3876, -0.9583, -2.6029]}, \"token.table\": {\"Topic\": [1, 2, 3, 4, 5, 6, 7, 8, 2, 6, 8, 1, 2, 3, 4, 5, 6, 7, 2, 3, 4, 6, 2, 4, 5, 6, 7, 1, 2, 5, 6, 7, 3, 1, 2, 4, 5, 1, 2, 5, 6, 7, 1, 2, 3, 4, 6, 7, 1, 2, 3, 4, 5, 6, 7, 8, 1, 2, 3, 4, 6, 1, 2, 3, 4, 5, 6, 7, 8, 1, 2, 3, 4, 5, 6, 7, 8, 1, 2, 3, 4, 6, 8, 1, 2, 3, 4, 5, 6, 7, 8, 1, 2, 3, 4, 5, 6, 7, 2, 5, 1, 2, 3, 4, 5, 6, 7, 8, 3, 8, 1, 2, 3, 4, 5, 6, 1, 2, 3, 4, 5, 6, 7, 8, 2, 4, 2, 8, 1, 2, 3, 4, 5, 7, 8, 8, 3, 4, 6, 1, 3, 5, 2, 4, 6, 7, 8, 4, 7, 8, 2, 3, 6, 7, 1, 2, 3, 4, 5, 6, 7, 8, 1, 2, 3, 4, 5, 6, 7, 1, 2, 3, 4, 6, 7, 1, 2, 3, 4, 5, 6, 7, 8, 2, 3, 4, 6, 2, 3, 1, 2, 3, 4, 5, 6, 7, 8, 3, 1, 8, 1, 2, 3, 4, 5, 6, 8, 1, 2, 3, 4, 5, 6, 7, 8, 1, 2, 3, 4, 5, 6, 7, 8, 2, 4, 6, 8, 1, 2, 3, 4, 5, 6, 7, 8, 1, 2, 3, 4, 5, 6, 7, 1, 2, 3, 4, 5, 6, 7, 8, 1, 2, 3, 4, 5, 6, 7, 8, 1, 2, 3, 5, 6, 7, 8, 1, 3, 4, 5, 6, 7, 1, 2, 3, 4, 5, 6, 7, 8, 1, 2, 3, 4, 5, 6, 7, 8, 1, 2, 3, 4, 5, 6, 8, 1, 5, 6, 1, 2, 3, 4, 5, 6, 7, 8, 1, 2, 3, 4, 6, 1, 2, 3, 4, 5, 6, 7, 8, 2, 5, 6, 8, 1, 2, 3, 4, 5, 6, 1, 2, 3, 4, 5, 6, 7, 8, 1, 2, 4, 2, 4, 5, 6, 7, 8, 1, 2, 3, 5, 6, 1, 2, 3, 4, 6, 8, 1, 2, 3, 4, 5, 6, 7, 8, 2, 3, 5, 7, 1, 2, 3, 4, 5, 6, 7, 8, 2, 3, 4, 5, 6, 8, 1, 2, 1, 2, 3, 5, 6, 7, 8, 6, 7, 1, 2, 4, 6, 7, 8, 1, 2, 3, 4, 6, 7, 1, 2, 3, 4, 5, 6, 7, 8, 1, 4, 5, 7, 1, 2, 3, 4, 5, 6, 7, 8, 2, 3, 4, 6, 8, 1, 3, 4, 5, 6, 7, 1, 2, 3, 4, 5, 6, 7, 8, 1, 2, 3, 4, 5, 6, 7, 8, 1, 2, 3, 6, 1, 2, 3, 4, 5, 6, 7, 8, 1, 2, 3, 4, 5, 6, 7, 8, 4, 6, 2, 4, 6, 1, 2, 3, 4, 5, 6, 7, 8, 8, 1, 2, 5, 1, 2, 4, 5, 6, 7, 8, 1, 4, 1, 2, 3, 4, 5, 6, 7, 8, 1, 2, 3, 4, 5, 6, 7, 8, 1, 2, 3, 4, 5, 6, 7, 8, 1, 2, 3, 4, 5, 6, 7, 8, 1, 2, 3, 4, 5, 6, 7, 8, 6, 1, 2, 3, 4, 5, 6, 8, 4, 5, 6, 7, 8, 1, 2, 3, 5, 6, 7, 2, 8, 1, 2, 3, 4, 5, 6, 7, 8, 1, 2, 3, 4, 5, 6, 7, 8, 1, 2, 3, 4, 5, 6, 7, 8, 1, 2, 3, 4, 5, 6, 7, 8, 1, 2, 3, 4, 5, 6, 7, 8, 1, 2, 3, 4, 5, 6, 7, 8, 2, 4, 5, 6, 7, 8, 2, 3, 6, 7, 8, 3, 6, 8, 2, 3, 4, 5, 6, 7, 8, 1, 2, 3, 4, 6, 7, 8, 1, 2, 3, 4, 6, 8, 2, 4, 8, 2, 1, 2, 3, 4, 5, 6, 7, 8, 2, 5, 1, 2, 3, 4, 5, 6, 7, 2, 4, 5, 6, 7, 2, 1, 2, 4, 5, 6, 7, 8, 4, 5, 6, 6, 2, 3, 4, 5, 7, 1, 2, 3, 4, 5, 7, 8, 1, 2, 3, 4, 6, 7, 1, 2, 5, 7, 8, 1, 1, 4, 6, 7, 8, 2, 3, 5, 6, 7, 8, 1, 2, 3, 4, 5, 6, 7, 8, 5, 1, 2, 3, 4, 5, 6, 7, 8, 1, 2, 3, 4, 5, 6, 7, 8, 1, 2, 3, 4, 5, 6, 7, 8, 1, 2, 3, 4, 5, 6, 7, 8, 7, 1, 2, 3, 4, 5, 6, 7, 8, 1, 2, 3, 4, 5, 6, 8, 1, 4, 5, 1, 4, 5, 6, 2, 3, 4, 5, 6, 1, 2, 3, 4, 5, 6, 7, 8, 1, 2, 3, 4, 5, 6, 7, 8, 2, 3, 4, 5, 6, 1, 2, 3, 4, 5, 6, 7, 8, 2, 3, 4, 6, 1, 2, 3, 4, 5, 6, 7, 8, 1, 2, 3, 4, 5, 6, 7, 4, 5, 1, 2, 3, 4, 5, 6, 7, 8, 4, 5, 6, 7, 8, 7], \"Freq\": [0.023570545063508107, 0.06100611663496216, 0.08596316434926486, 0.7611899552862325, 0.011092021206356757, 0.01525152915874054, 0.006932513253972972, 0.036049068920659455, 0.9444571125077295, 0.033138846052902786, 0.9588998688351346, 0.2871376970833257, 0.013051713503787532, 0.026103427007575064, 0.05220685401515013, 0.5873271076704389, 0.026103427007575064, 0.013051713503787532, 0.8790813020795979, 0.0057083201433740125, 0.0913331222939842, 0.017124960430122037, 0.05935379841783807, 0.14838449604459517, 0.1780613952535142, 0.5638610849694616, 0.029676899208919034, 0.09996085654798247, 0.6997259958358772, 0.04998042827399123, 0.04998042827399123, 0.04998042827399123, 0.6154196774719198, 0.13137155875742085, 0.5692767546154904, 0.13137155875742085, 0.13137155875742085, 0.02928610629013799, 0.46857770064220783, 0.14643053145068993, 0.02928610629013799, 0.32214716919151787, 0.22330819269238167, 0.03721803211539695, 0.24191720875008016, 0.03721803211539695, 0.13026311240388933, 0.3349622890385725, 0.12439629689788562, 0.015203991843074909, 0.7062945301646617, 0.11748539151466975, 0.005528724306572694, 0.019350535073004427, 0.002764362153286347, 0.006910905383215867, 0.3671524715107163, 0.018357623575535813, 0.3304372243596447, 0.2570067300575014, 0.018357623575535813, 0.08721067090463523, 0.17550470418075662, 0.023292290986952267, 0.0157087543865492, 0.03575095825904301, 0.0628350175461968, 0.009208580157632292, 0.5909741736456958, 0.05568884002047668, 0.0188944278640903, 0.8770992303225077, 0.00795554857435381, 0.003977774287176905, 0.03082775072562102, 0.002983330715382679, 0.002983330715382679, 0.08125059350441145, 0.013541765584068574, 0.8531312317963202, 0.013541765584068574, 0.027083531168137148, 0.013541765584068574, 0.10756685524317328, 0.024147661381120532, 0.00219524194373823, 0.01097620971869115, 0.6805250025588514, 0.060369153452801326, 0.07902870997457628, 0.03402625012794257, 0.47998912516884656, 0.10523825738996101, 0.06160288237461132, 0.16170756623335472, 0.03336822795291446, 0.043635375015349684, 0.11293861768678742, 0.4174683304898613, 0.5712724522492839, 0.1433040524562849, 0.2762237532853028, 0.020768703254534046, 0.011422786789993726, 0.034268360369981175, 0.00415374065090681, 0.09553603497085661, 0.41641250025340765, 0.9759449497356641, 0.0166828196536011, 0.05675578527861485, 0.12486272761295267, 0.2724277693373513, 0.02270231411144594, 0.39729049695030394, 0.12486272761295267, 0.036601677423067434, 0.06954318710382812, 0.21045964518263774, 0.5572605387662016, 0.021045964518263773, 0.0768635225884416, 0.01098050322692023, 0.016470754840380346, 0.055305876840022326, 0.8848940294403572, 0.04136817818462581, 0.9514680982463938, 0.014165821489225771, 0.11332657191380617, 0.028331642978451543, 0.7366227174397401, 0.014165821489225771, 0.0991607504245804, 0.014165821489225771, 0.9123244015931268, 0.6806767810691465, 0.06806767810691465, 0.20420303432074396, 0.1974255110605159, 0.1974255110605159, 0.5922765331815477, 0.07605995276132044, 0.29815501482437606, 0.027381582994075355, 0.006084796220905634, 0.5871828353173937, 0.16248615435709962, 0.4062153858927491, 0.32497230871419924, 0.3935475151187945, 0.360751888858895, 0.1639781312994977, 0.03279562625989954, 0.167806550803265, 0.012204112785692, 0.231878142928148, 0.088479817696267, 0.158653466213996, 0.0137296268839035, 0.3188324465262035, 0.009153084589269, 0.004117191743462136, 0.881079033100897, 0.028820342204234947, 0.024703150460772812, 0.004117191743462136, 0.049406300921545625, 0.008234383486924271, 0.030556870594412304, 0.09167061178323692, 0.79447863545472, 0.030556870594412304, 0.030556870594412304, 0.030556870594412304, 0.7965826315642164, 0.013860990392985299, 0.010183584778519812, 0.07835702732361077, 0.015841131877697485, 0.03988570704920259, 0.03790556556449041, 0.007071933873972092, 0.04607456088049182, 0.09214912176098364, 0.13822368264147547, 0.7141556936476232, 0.655795546273791, 0.3060379215944358, 0.03435093460549354, 0.7426344909949555, 0.03238802405660819, 0.07851642195541379, 0.035332389879936206, 0.06477604811321638, 0.0035986693396231322, 0.008833097469984052, 0.9699229826570148, 0.048223988401965394, 0.9162557796373425, 0.25105006979862154, 0.3457859451943278, 0.06631511277699437, 0.09473587539570624, 0.07105190654677969, 0.15157740063313, 0.01894717507914125, 0.13208140859119857, 0.11572847228943113, 0.01698189539029696, 0.008805427239413239, 0.03585066804618247, 0.07924884515471914, 0.6063165613424544, 0.004402713619706619, 0.12514301353779375, 0.021850367443106845, 0.009931985201412204, 0.0019863970402824406, 0.17480293954485476, 0.03178235264451905, 0.2562452181964348, 0.37940183469394617, 0.42651656954280787, 0.007482746834084349, 0.007482746834084349, 0.5537232657222418, 0.04180440748619302, 0.03657885655041889, 0.10189824324759549, 0.05748106029351541, 0.6218405613571212, 0.03657885655041889, 0.07577048856872486, 0.028740530146757703, 0.009916559518614962, 0.006611039679076641, 0.10577663486522626, 0.06280487695122809, 0.07602695630938137, 0.6743260472658174, 0.05949935711168977, 0.10878039870878349, 0.06870340971081063, 0.04580227314054042, 0.040076988997972865, 0.04866491521182419, 0.05725284142567552, 0.10019247249493217, 0.5295887831874986, 0.01141081688092545, 0.0076072112539503, 0.00380360562697515, 0.00380360562697515, 0.19208208416224506, 0.076072112539503, 0.5629336327923222, 0.14263521101156812, 0.08771863626000377, 0.038138537504349465, 0.015255415001739787, 0.4118962050469742, 0.02288312250260968, 0.2707836162808812, 0.15255415001739786, 0.04324435421479213, 0.6702874903292779, 0.014414784738264042, 0.04324435421479213, 0.014414784738264042, 0.2090143787048286, 0.002738768739203469, 0.024648918652831222, 0.6093760444727718, 0.012324459326415611, 0.10749667301373615, 0.1923985039290437, 0.0458743763816581, 0.0047928452936060705, 0.015240400876512803, 0.5167881388126614, 0.02355334680915615, 0.02493883779793004, 0.3782390399352723, 0.01108392791019113, 0.02493883779793004, 0.006927454943869456, 0.009658430499837356, 0.005268234818093104, 0.6532611174435449, 0.021072939272372415, 0.22477801890530574, 0.08077960054409425, 0.006146273954441954, 0.868863320240311, 0.057924221349354064, 0.057924221349354064, 0.017552665071782467, 0.3686059665074318, 0.08776332535891233, 0.19307931578960713, 0.12286865550247728, 0.08776332535891233, 0.1053159904306948, 0.017552665071782467, 0.7900128492465058, 0.02899129722005526, 0.08697389166016578, 0.03623912152506908, 0.05798259444011052, 0.3840241396296454, 0.053693344750649505, 0.13890234837668025, 0.02451217912529651, 0.1599127876269344, 0.04902435825059302, 0.014006959500169436, 0.1774214870021462, 0.02075590749310085, 0.010377953746550424, 0.9443937909360887, 0.010377953746550424, 0.6147228760779856, 0.24216355724284283, 0.01862796594175714, 0.04656991485439285, 0.05588389782527142, 0.02794194891263571, 0.6325484444727372, 0.0586900618582952, 0.006521117984255023, 0.06521117984255022, 0.013042235968510046, 0.2021546575119057, 0.013042235968510046, 0.006521117984255023, 0.3707306500386191, 0.602437306312756, 0.023170665627413694, 0.06622819098231071, 0.008278523872788839, 0.10762081034625491, 0.008278523872788839, 0.04967114323673304, 0.7616241962965732, 0.0961053588437615, 0.3020454135089647, 0.5354441421295283, 0.06407023922917432, 0.004576445659226738, 0.023687286037663412, 0.7579931532052292, 0.06316609610043576, 0.023687286037663412, 0.01579152402510894, 0.10264490616320812, 0.06560551333332415, 0.032416841882348404, 0.3990358869803363, 0.02083939835293826, 0.07486746815685227, 0.06714917247057883, 0.3241684188234841, 0.01543659137254686, 0.8591256951882005, 0.042956284759410025, 0.07159380793235004, 0.021478142379705013, 0.05053070843196009, 0.014036307897766694, 0.0028072615795533386, 0.0028072615795533386, 0.011229046318213354, 0.0870251089661535, 0.704622656467888, 0.12632677107990023, 0.30487290389469285, 0.042259610440848513, 0.1660198981604763, 0.02414834882334201, 0.054333784852519516, 0.4044848427909786, 0.8608497622510053, 0.10760622028137566, 0.006054948298012135, 0.11504401766223057, 0.006054948298012135, 0.07871432787415776, 0.006054948298012135, 0.6660443127813349, 0.11504401766223057, 0.006869760210750874, 0.982375710137375, 0.1655105117385921, 0.4634294328680579, 0.1655105117385921, 0.03310210234771842, 0.13240840939087367, 0.03310210234771842, 0.15337956165824665, 0.13853637827196472, 0.014843183386281935, 0.5491977852924316, 0.11874546709025548, 0.02968636677256387, 0.13093792760734274, 0.13429531036650538, 0.013429531036650538, 0.026859062073301077, 0.033573827591626346, 0.033573827591626346, 0.006714765518325269, 0.6211158104450873, 0.014030975375578007, 0.12627877838020207, 0.23852658138482613, 0.6173629165254323, 0.05214592677212079, 0.03374148202901934, 0.009202222371550729, 0.012269629828734306, 0.7791214941246284, 0.015337037285917881, 0.09202222371550729, 0.006134814914367153, 0.00899616564893957, 0.03598466259575828, 0.27888113511712664, 0.026988496946818707, 0.647723926723649, 0.059130106299043535, 0.0886951594485653, 0.14782526574760885, 0.6504311692894789, 0.029565053149521767, 0.029565053149521767, 0.8223544593845908, 0.01913843105476866, 0.06339605286892118, 0.06997488854399792, 0.004186531793230644, 0.014353823291076494, 0.004784607763692165, 0.0023923038818460824, 0.4795690317642904, 0.08252621961526986, 0.2219038349655034, 0.07152272366656721, 0.09077884157679685, 0.048598773773436695, 0.002750873987175662, 0.0018339159914504413, 0.047188225812540015, 0.2359411290627001, 0.6134469355630202, 0.047188225812540015, 0.010111728177353, 0.0283128388965884, 0.49345233505482644, 0.016178765083764802, 0.010111728177353, 0.0465139496158238, 0.3175082647688842, 0.0788714797833534, 0.011735036296334638, 0.07823357530889759, 0.13593083709920956, 0.04009470734581001, 0.0019558393827224397, 0.7305060094468312, 0.0009779196913612198, 0.0009779196913612198, 0.17546347056156947, 0.7018538822462779, 0.9747335217211524, 0.007615105638446503, 0.007615105638446503, 0.005785916680021332, 0.01837879416006776, 0.014294617680052702, 0.5108624080418835, 0.1017640639603752, 0.19467907888071775, 0.06670821584024594, 0.0874694462803225, 0.9612613891323593, 0.38043751291569233, 0.5797143053953407, 0.0362321440872088, 0.0033888621207070545, 0.027110896965656436, 0.08472155301767635, 0.5896620090030275, 0.04744406968989876, 0.15588765755252448, 0.09149927725909046, 0.39682284145718594, 0.5555519780400603, 0.018473221549959274, 0.06003797003736765, 0.2955715447993484, 0.013854916162469456, 0.03694644309991855, 0.009236610774979637, 0.17549560472461312, 0.3879376525491448, 0.010713152588060708, 0.04820918664627319, 0.4901267309037774, 0.04017432220522766, 0.1874801702910624, 0.21158476361419898, 0.002678288147015177, 0.005356576294030354, 0.006693086414686243, 0.11712901225700925, 0.0016732716036715607, 0.0033465432073431214, 0.35975339478938556, 0.0468516049028037, 0.3932188268628168, 0.07362395056154868, 0.05328375107400037, 0.6926887639620048, 0.08396227441963695, 0.0823476152961824, 0.01453193211109101, 0.03552250071600025, 0.0016146591234545567, 0.03713715983945481, 0.0917152637399232, 0.06687571314369399, 0.6171672955832331, 0.0210180812737324, 0.015285877289987199, 0.11655481433615239, 0.0019107346612483999, 0.07069718246619079, 0.9774183088753602, 0.04853352313051759, 0.07466695866233475, 0.5226687106363432, 0.1381338735253193, 0.05600021899675107, 0.06720026279610128, 0.09333369832791844, 0.12962747587839352, 0.04320915862613117, 0.04320915862613117, 0.3456732690090494, 0.4320915862613117, 0.022024625385414366, 0.8534542336848067, 0.0055061563463535915, 0.08809850154165746, 0.0055061563463535915, 0.027530781731767956, 0.06545203565984398, 0.9245100036952961, 0.3438944101251115, 0.03993086752637551, 0.44005445845393415, 0.048080024164411324, 0.014668481948464472, 0.013038650620857309, 0.052969518147232816, 0.04645019283680416, 0.24552891546183953, 0.028885754760216414, 0.4892524712511655, 0.0776304659180816, 0.04513399181283815, 0.09748942231573039, 0.014442877380108207, 0.0018053596725135259, 0.03447987411690487, 0.11901117840351036, 0.015571556052795747, 0.10788863836579911, 0.020020572067880247, 0.14681752849778848, 0.03447987411690487, 0.5227593817724286, 0.005873031886712868, 0.032301675376920774, 0.03523819132027721, 0.052857286980415814, 0.052857286980415814, 0.18500050443145535, 0.06166683481048511, 0.5726206089545046, 0.3499559434550659, 0.032412026977717515, 0.06529379347685123, 0.1024032156687307, 0.32505974882000754, 0.09394790428323918, 0.02818437128497175, 0.0032881766499133712, 0.009313551550067271, 0.015522585916778785, 0.043463240566980595, 0.003104517183355757, 0.024836137466846056, 0.006209034366711514, 0.8723693285229677, 0.021731620283490297, 0.011227294887293092, 0.011227294887293092, 0.04490917954917237, 0.02806823721823273, 0.8925699435398008, 0.005613647443646546, 0.012094181006926085, 0.02418836201385217, 0.0846592670484826, 0.06047090503463043, 0.8103101274640477, 0.962481787646761, 0.02309956290352226, 0.007699854301174087, 0.0033946536019012438, 0.11202356886274105, 0.10183960805703732, 0.10183960805703732, 0.03394653601901244, 0.5872750731289151, 0.061103764834222384, 0.06352243382276827, 0.06352243382276827, 0.5081794705821462, 0.06352243382276827, 0.06352243382276827, 0.06352243382276827, 0.19056730146830483, 0.009608200399975996, 0.0032027334666586654, 0.03843280159990398, 0.8775489698644744, 0.0640546693331733, 0.006405466933317331, 0.37375110926540717, 0.07475022185308143, 0.5481682935892638, 0.9821930253940181, 0.1197638104687339, 0.31115669418431824, 0.039539248432261434, 0.15586486338514652, 0.19941533991923158, 0.04698867204993388, 0.09455037668584255, 0.032662857400563794, 0.19709582821022492, 0.7883833128408997, 0.02112012544487892, 0.02640015680609865, 0.0528003136121973, 0.8184048609890582, 0.02112012544487892, 0.05808034497341703, 0.00528003136121973, 0.3624412957772999, 0.04832550610363998, 0.04832550610363998, 0.04832550610363998, 0.45909230798457984, 0.9019881981937959, 0.15322414313781949, 0.2213237623101837, 0.11917433355163738, 0.2723984766894569, 0.05107471437927316, 0.17024904793091053, 0.017024904793091055, 0.3409991027301643, 0.024951153858304705, 0.6237788464576176, 0.923048596502327, 0.02221848405724478, 0.02221848405724478, 0.04443696811448956, 0.199966356515203, 0.6887730057745881, 0.025466767808254444, 0.07640030342476332, 0.10186707123301778, 0.025466767808254444, 0.20373414246603555, 0.45840182054858, 0.10186707123301778, 0.25376032190207, 0.022066114948006085, 0.16549586211004563, 0.4082231265381126, 0.022066114948006085, 0.1323966896880365, 0.05106919439205221, 0.32100636475004246, 0.029182396795458403, 0.5763523367103035, 0.021886797596593805, 0.9122593359962403, 0.029713613832038313, 0.014856806916019157, 0.35656336598445976, 0.04457042074805747, 0.5497018558927088, 0.040369073229797395, 0.08073814645959479, 0.08073814645959479, 0.020184536614898697, 0.040369073229797395, 0.7064587815214544, 0.004606445584704226, 0.04606445584704225, 0.023032227923521126, 0.027638673508225353, 0.06909668377056338, 0.032245119092929576, 0.2717802894975493, 0.529741242240986, 0.983163007707967, 0.0048377577958937275, 0.24188788979468637, 0.014513273387681182, 0.03386430457125609, 0.014513273387681182, 0.11126842930555572, 0.5660176621195661, 0.009675515591787455, 0.09649737429568817, 0.18905608025277681, 0.019693341692997583, 0.38205082884415315, 0.03741734921669541, 0.09649737429568817, 0.10634404514218695, 0.07286536426409106, 0.008970446659922665, 0.11148983705903885, 0.13199371513886207, 0.20760176555821028, 0.07432655803935923, 0.04228924853963543, 0.3203730949972381, 0.10251939039911619, 0.007287316473721686, 0.007287316473721686, 0.003643658236860843, 0.7396626220827511, 0.029149265894886745, 0.01093097471058253, 0.16396462065873793, 0.040080240605469275, 0.6712526740738044, 0.10454223740428958, 0.5849916688793225, 0.03781314969942389, 0.13345817540973137, 0.02224302923495523, 0.06672908770486569, 0.04671036139340599, 0.002224302923495523, 0.005210160063226329, 0.10941336132775291, 0.04689144056903696, 0.005210160063226329, 0.30739944373035344, 0.18235560221292152, 0.3438705641729377, 0.023687149030195902, 0.023687149030195902, 0.9474859612078361, 0.009788236809372255, 0.009788236809372255, 0.9494589705091088, 0.029364710428116766, 0.0030505857868412508, 0.0030505857868412508, 0.018303514721047503, 0.9578839370681527, 0.018303514721047503, 0.004382535449282461, 0.007304225748804101, 0.0038955870660288537, 0.10712864431579348, 0.1085894894655543, 0.7625611681751482, 0.0034086386827752472, 0.0029216902995216404, 0.17019326214167602, 0.028365543690279334, 0.05673108738055867, 0.028365543690279334, 0.11346217476111733, 0.028365543690279334, 0.1418277184513967, 0.42548315535419, 0.2477729923417562, 0.0112624087428071, 0.5518580283975479, 0.11825529179947455, 0.07320565682824616, 0.02399629175205156, 0.26819384899351745, 0.0014115465736500917, 0.0028230931473001834, 0.47286810217278075, 0.019761652031101286, 0.2032627066056132, 0.007057732868250458, 0.8679699616992922, 0.021699249042482306, 0.021699249042482306, 0.04339849808496461, 0.0458282384552093, 0.14512275510816278, 0.0076380397425348835, 0.0076380397425348835, 0.21386511279097672, 0.0076380397425348835, 0.015276079485069767, 0.5575769012050464, 0.037294086519749386, 0.12742146227581042, 0.13674498390574774, 0.6899406006153637, 0.003107840543312449, 0.006215681086624898, 0.003107840543312449, 0.07578346161512997, 0.9162909449829352, 0.1540687843568516, 0.04095499331004916, 0.013651664436683053, 0.08776069995010534, 0.39589826866380856, 0.003900475553338015, 0.29058542872368215, 0.011701426660014046, 0.02350029444707877, 0.10966804075303427, 0.00783343148235959, 0.1566686296471918, 0.7050088334123631, 0.9007186828986776], \"Term\": [\"7-Eleven\", \"7-Eleven\", \"7-Eleven\", \"7-Eleven\", \"7-Eleven\", \"7-Eleven\", \"7-Eleven\", \"7-Eleven\", \"bigc\", \"bigc\", \"dha\", \"fat\", \"fat\", \"fat\", \"fat\", \"fat\", \"fat\", \"fat\", \"lotus\", \"lotus\", \"lotus\", \"lotus\", \"makro\", \"makro\", \"makro\", \"makro\", \"makro\", \"protein\", \"protein\", \"protein\", \"protein\", \"protein\", \"shelf life\", \"tops\", \"tops\", \"tops\", \"tops\", \"whey\", \"whey\", \"whey\", \"whey\", \"whey\", \"\\u0e01\\u0e25\\u0e21\\u0e01\\u0e25\\u0e48\\u0e2d\\u0e21\", \"\\u0e01\\u0e25\\u0e21\\u0e01\\u0e25\\u0e48\\u0e2d\\u0e21\", \"\\u0e01\\u0e25\\u0e21\\u0e01\\u0e25\\u0e48\\u0e2d\\u0e21\", \"\\u0e01\\u0e25\\u0e21\\u0e01\\u0e25\\u0e48\\u0e2d\\u0e21\", \"\\u0e01\\u0e25\\u0e21\\u0e01\\u0e25\\u0e48\\u0e2d\\u0e21\", \"\\u0e01\\u0e25\\u0e21\\u0e01\\u0e25\\u0e48\\u0e2d\\u0e21\", \"\\u0e01\\u0e25\\u0e34\\u0e48\\u0e19\", \"\\u0e01\\u0e25\\u0e34\\u0e48\\u0e19\", \"\\u0e01\\u0e25\\u0e34\\u0e48\\u0e19\", \"\\u0e01\\u0e25\\u0e34\\u0e48\\u0e19\", \"\\u0e01\\u0e25\\u0e34\\u0e48\\u0e19\", \"\\u0e01\\u0e25\\u0e34\\u0e48\\u0e19\", \"\\u0e01\\u0e25\\u0e34\\u0e48\\u0e19\", \"\\u0e01\\u0e25\\u0e34\\u0e48\\u0e19\", \"\\u0e01\\u0e25\\u0e34\\u0e48\\u0e19\\u0e2b\\u0e2d\\u0e21\", \"\\u0e01\\u0e25\\u0e34\\u0e48\\u0e19\\u0e2b\\u0e2d\\u0e21\", \"\\u0e01\\u0e25\\u0e34\\u0e48\\u0e19\\u0e2b\\u0e2d\\u0e21\", \"\\u0e01\\u0e25\\u0e34\\u0e48\\u0e19\\u0e2b\\u0e2d\\u0e21\", \"\\u0e01\\u0e25\\u0e34\\u0e48\\u0e19\\u0e2b\\u0e2d\\u0e21\", \"\\u0e01\\u0e25\\u0e48\\u0e2d\\u0e07\", \"\\u0e01\\u0e25\\u0e48\\u0e2d\\u0e07\", \"\\u0e01\\u0e25\\u0e48\\u0e2d\\u0e07\", \"\\u0e01\\u0e25\\u0e48\\u0e2d\\u0e07\", \"\\u0e01\\u0e25\\u0e48\\u0e2d\\u0e07\", \"\\u0e01\\u0e25\\u0e48\\u0e2d\\u0e07\", \"\\u0e01\\u0e25\\u0e48\\u0e2d\\u0e07\", \"\\u0e01\\u0e25\\u0e48\\u0e2d\\u0e07\", \"\\u0e01\\u0e32\\u0e41\\u0e1f\", \"\\u0e01\\u0e32\\u0e41\\u0e1f\", \"\\u0e01\\u0e32\\u0e41\\u0e1f\", \"\\u0e01\\u0e32\\u0e41\\u0e1f\", \"\\u0e01\\u0e32\\u0e41\\u0e1f\", \"\\u0e01\\u0e32\\u0e41\\u0e1f\", \"\\u0e01\\u0e32\\u0e41\\u0e1f\", \"\\u0e01\\u0e32\\u0e41\\u0e1f\", \"\\u0e01\\u0e32\\u0e41\\u0e1f\\u0e2a\\u0e14\", \"\\u0e01\\u0e32\\u0e41\\u0e1f\\u0e2a\\u0e14\", \"\\u0e01\\u0e32\\u0e41\\u0e1f\\u0e2a\\u0e14\", \"\\u0e01\\u0e32\\u0e41\\u0e1f\\u0e2a\\u0e14\", \"\\u0e01\\u0e32\\u0e41\\u0e1f\\u0e2a\\u0e14\", \"\\u0e01\\u0e32\\u0e41\\u0e1f\\u0e2a\\u0e14\", \"\\u0e01\\u0e34\\u0e19\\u0e19\\u0e21\", \"\\u0e01\\u0e34\\u0e19\\u0e19\\u0e21\", \"\\u0e01\\u0e34\\u0e19\\u0e19\\u0e21\", \"\\u0e01\\u0e34\\u0e19\\u0e19\\u0e21\", \"\\u0e01\\u0e34\\u0e19\\u0e19\\u0e21\", \"\\u0e01\\u0e34\\u0e19\\u0e19\\u0e21\", \"\\u0e01\\u0e34\\u0e19\\u0e19\\u0e21\", \"\\u0e01\\u0e34\\u0e19\\u0e19\\u0e21\", \"\\u0e02\\u0e19\\u0e21\\u0e1b\\u0e31\\u0e07\", \"\\u0e02\\u0e19\\u0e21\\u0e1b\\u0e31\\u0e07\", \"\\u0e02\\u0e19\\u0e21\\u0e1b\\u0e31\\u0e07\", \"\\u0e02\\u0e19\\u0e21\\u0e1b\\u0e31\\u0e07\", \"\\u0e02\\u0e19\\u0e21\\u0e1b\\u0e31\\u0e07\", \"\\u0e02\\u0e19\\u0e21\\u0e1b\\u0e31\\u0e07\", \"\\u0e02\\u0e19\\u0e21\\u0e1b\\u0e31\\u0e07\", \"\\u0e02\\u0e19\\u0e2a\\u0e48\\u0e07\", \"\\u0e02\\u0e19\\u0e2a\\u0e48\\u0e07\", \"\\u0e02\\u0e27\\u0e14\", \"\\u0e02\\u0e27\\u0e14\", \"\\u0e02\\u0e27\\u0e14\", \"\\u0e02\\u0e27\\u0e14\", \"\\u0e02\\u0e27\\u0e14\", \"\\u0e02\\u0e27\\u0e14\", \"\\u0e02\\u0e27\\u0e14\", \"\\u0e02\\u0e27\\u0e14\", \"\\u0e02\\u0e2d\\u0e07\\u0e41\\u0e16\\u0e21\", \"\\u0e02\\u0e2d\\u0e07\\u0e41\\u0e16\\u0e21\", \"\\u0e02\\u0e31\\u0e1a\\u0e16\\u0e48\\u0e32\\u0e22\", \"\\u0e02\\u0e31\\u0e1a\\u0e16\\u0e48\\u0e32\\u0e22\", \"\\u0e02\\u0e31\\u0e1a\\u0e16\\u0e48\\u0e32\\u0e22\", \"\\u0e02\\u0e31\\u0e1a\\u0e16\\u0e48\\u0e32\\u0e22\", \"\\u0e02\\u0e31\\u0e1a\\u0e16\\u0e48\\u0e32\\u0e22\", \"\\u0e02\\u0e31\\u0e1a\\u0e16\\u0e48\\u0e32\\u0e22\", \"\\u0e02\\u0e32\\u0e22\", \"\\u0e02\\u0e32\\u0e22\", \"\\u0e02\\u0e32\\u0e22\", \"\\u0e02\\u0e32\\u0e22\", \"\\u0e02\\u0e32\\u0e22\", \"\\u0e02\\u0e32\\u0e22\", \"\\u0e02\\u0e32\\u0e22\", \"\\u0e02\\u0e32\\u0e22\", \"\\u0e02\\u0e32\\u0e22\\u0e44\\u0e21\\u0e48\\u0e14\\u0e35\", \"\\u0e02\\u0e32\\u0e22\\u0e44\\u0e21\\u0e48\\u0e14\\u0e35\", \"\\u0e02\\u0e42\\u0e21\\u0e22\", \"\\u0e02\\u0e42\\u0e21\\u0e22\", \"\\u0e04\\u0e23\\u0e39\", \"\\u0e04\\u0e23\\u0e39\", \"\\u0e04\\u0e23\\u0e39\", \"\\u0e04\\u0e23\\u0e39\", \"\\u0e04\\u0e23\\u0e39\", \"\\u0e04\\u0e23\\u0e39\", \"\\u0e04\\u0e23\\u0e39\", \"\\u0e04\\u0e27\\u0e32\\u0e21\\u0e41\\u0e02\\u0e47\\u0e07\\u0e41\\u0e23\\u0e07\", \"\\u0e04\\u0e32\\u0e1b\\u0e39\\u0e0a\\u0e34\\u0e42\\u0e19\\u0e48\", \"\\u0e04\\u0e32\\u0e1b\\u0e39\\u0e0a\\u0e34\\u0e42\\u0e19\\u0e48\", \"\\u0e04\\u0e32\\u0e1b\\u0e39\\u0e0a\\u0e34\\u0e42\\u0e19\\u0e48\", \"\\u0e04\\u0e32\\u0e22\\u0e17\\u0e34\\u0e49\\u0e07\", \"\\u0e04\\u0e32\\u0e22\\u0e17\\u0e34\\u0e49\\u0e07\", \"\\u0e04\\u0e32\\u0e22\\u0e17\\u0e34\\u0e49\\u0e07\", \"\\u0e04\\u0e38\\u0e13\\u0e41\\u0e21\\u0e48\", \"\\u0e04\\u0e38\\u0e13\\u0e41\\u0e21\\u0e48\", \"\\u0e04\\u0e38\\u0e13\\u0e41\\u0e21\\u0e48\", \"\\u0e04\\u0e38\\u0e13\\u0e41\\u0e21\\u0e48\", \"\\u0e04\\u0e38\\u0e13\\u0e41\\u0e21\\u0e48\", \"\\u0e04\\u0e38\\u0e13\\u0e41\\u0e21\\u0e48\\u0e21\\u0e37\\u0e2d\\u0e43\\u0e2b\\u0e21\\u0e48\", \"\\u0e04\\u0e38\\u0e13\\u0e41\\u0e21\\u0e48\\u0e21\\u0e37\\u0e2d\\u0e43\\u0e2b\\u0e21\\u0e48\", \"\\u0e04\\u0e38\\u0e13\\u0e41\\u0e21\\u0e48\\u0e21\\u0e37\\u0e2d\\u0e43\\u0e2b\\u0e21\\u0e48\", \"\\u0e04\\u0e48\\u0e32\\u0e43\\u0e0a\\u0e49\\u0e08\\u0e48\\u0e32\\u0e22\", \"\\u0e04\\u0e48\\u0e32\\u0e43\\u0e0a\\u0e49\\u0e08\\u0e48\\u0e32\\u0e22\", \"\\u0e04\\u0e48\\u0e32\\u0e43\\u0e0a\\u0e49\\u0e08\\u0e48\\u0e32\\u0e22\", \"\\u0e04\\u0e48\\u0e32\\u0e43\\u0e0a\\u0e49\\u0e08\\u0e48\\u0e32\\u0e22\", \"\\u0e08\\u0e37\\u0e14\", \"\\u0e08\\u0e37\\u0e14\", \"\\u0e08\\u0e37\\u0e14\", \"\\u0e08\\u0e37\\u0e14\", \"\\u0e08\\u0e37\\u0e14\", \"\\u0e08\\u0e37\\u0e14\", \"\\u0e08\\u0e37\\u0e14\", \"\\u0e08\\u0e37\\u0e14\", \"\\u0e08\\u0e48\\u0e32\\u0e22\", \"\\u0e08\\u0e48\\u0e32\\u0e22\", \"\\u0e08\\u0e48\\u0e32\\u0e22\", \"\\u0e08\\u0e48\\u0e32\\u0e22\", \"\\u0e08\\u0e48\\u0e32\\u0e22\", \"\\u0e08\\u0e48\\u0e32\\u0e22\", \"\\u0e08\\u0e48\\u0e32\\u0e22\", \"\\u0e0a\\u0e07\\u0e01\\u0e32\\u0e41\\u0e1f\", \"\\u0e0a\\u0e07\\u0e01\\u0e32\\u0e41\\u0e1f\", \"\\u0e0a\\u0e07\\u0e01\\u0e32\\u0e41\\u0e1f\", \"\\u0e0a\\u0e07\\u0e01\\u0e32\\u0e41\\u0e1f\", \"\\u0e0a\\u0e07\\u0e01\\u0e32\\u0e41\\u0e1f\", \"\\u0e0a\\u0e07\\u0e01\\u0e32\\u0e41\\u0e1f\", \"\\u0e0a\\u0e2d\\u0e1a\", \"\\u0e0a\\u0e2d\\u0e1a\", \"\\u0e0a\\u0e2d\\u0e1a\", \"\\u0e0a\\u0e2d\\u0e1a\", \"\\u0e0a\\u0e2d\\u0e1a\", \"\\u0e0a\\u0e2d\\u0e1a\", \"\\u0e0a\\u0e2d\\u0e1a\", \"\\u0e0a\\u0e2d\\u0e1a\", \"\\u0e0a\\u0e32\\u0e19\\u0e21\", \"\\u0e0a\\u0e32\\u0e19\\u0e21\", \"\\u0e0a\\u0e32\\u0e19\\u0e21\", \"\\u0e0a\\u0e32\\u0e19\\u0e21\", \"\\u0e0a\\u0e35\\u0e49\\u0e41\\u0e08\\u0e07\", \"\\u0e0a\\u0e35\\u0e49\\u0e41\\u0e08\\u0e07\", \"\\u0e0b\\u0e37\\u0e49\\u0e2d\", \"\\u0e0b\\u0e37\\u0e49\\u0e2d\", \"\\u0e0b\\u0e37\\u0e49\\u0e2d\", \"\\u0e0b\\u0e37\\u0e49\\u0e2d\", \"\\u0e0b\\u0e37\\u0e49\\u0e2d\", \"\\u0e0b\\u0e37\\u0e49\\u0e2d\", \"\\u0e0b\\u0e37\\u0e49\\u0e2d\", \"\\u0e0b\\u0e37\\u0e49\\u0e2d\", \"\\u0e0b\\u0e37\\u0e49\\u0e2d\\u0e1b\\u0e23\\u0e30\\u0e08\\u0e33\", \"\\u0e0b\\u0e37\\u0e49\\u0e2d\\u0e44\\u0e21\\u0e48\\u0e44\\u0e14\\u0e49\", \"\\u0e0b\\u0e37\\u0e49\\u0e2d\\u0e44\\u0e21\\u0e48\\u0e44\\u0e14\\u0e49\", \"\\u0e0d\\u0e35\\u0e48\\u0e1b\\u0e38\\u0e48\\u0e19\", \"\\u0e0d\\u0e35\\u0e48\\u0e1b\\u0e38\\u0e48\\u0e19\", \"\\u0e0d\\u0e35\\u0e48\\u0e1b\\u0e38\\u0e48\\u0e19\", \"\\u0e0d\\u0e35\\u0e48\\u0e1b\\u0e38\\u0e48\\u0e19\", \"\\u0e0d\\u0e35\\u0e48\\u0e1b\\u0e38\\u0e48\\u0e19\", \"\\u0e0d\\u0e35\\u0e48\\u0e1b\\u0e38\\u0e48\\u0e19\", \"\\u0e0d\\u0e35\\u0e48\\u0e1b\\u0e38\\u0e48\\u0e19\", \"\\u0e14\\u0e37\\u0e48\\u0e21\", \"\\u0e14\\u0e37\\u0e48\\u0e21\", \"\\u0e14\\u0e37\\u0e48\\u0e21\", \"\\u0e14\\u0e37\\u0e48\\u0e21\", \"\\u0e14\\u0e37\\u0e48\\u0e21\", \"\\u0e14\\u0e37\\u0e48\\u0e21\", \"\\u0e14\\u0e37\\u0e48\\u0e21\", \"\\u0e14\\u0e37\\u0e48\\u0e21\", \"\\u0e14\\u0e37\\u0e48\\u0e21\\u0e19\\u0e21\", \"\\u0e14\\u0e37\\u0e48\\u0e21\\u0e19\\u0e21\", \"\\u0e14\\u0e37\\u0e48\\u0e21\\u0e19\\u0e21\", \"\\u0e14\\u0e37\\u0e48\\u0e21\\u0e19\\u0e21\", \"\\u0e14\\u0e37\\u0e48\\u0e21\\u0e19\\u0e21\", \"\\u0e14\\u0e37\\u0e48\\u0e21\\u0e19\\u0e21\", \"\\u0e14\\u0e37\\u0e48\\u0e21\\u0e19\\u0e21\", \"\\u0e14\\u0e37\\u0e48\\u0e21\\u0e19\\u0e21\", \"\\u0e15\\u0e23\\u0e27\\u0e08\\u0e2a\\u0e2d\\u0e1a\", \"\\u0e15\\u0e23\\u0e27\\u0e08\\u0e2a\\u0e2d\\u0e1a\", \"\\u0e15\\u0e23\\u0e27\\u0e08\\u0e2a\\u0e2d\\u0e1a\", \"\\u0e15\\u0e23\\u0e27\\u0e08\\u0e2a\\u0e2d\\u0e1a\", \"\\u0e15\\u0e49\\u0e21\", \"\\u0e15\\u0e49\\u0e21\", \"\\u0e15\\u0e49\\u0e21\", \"\\u0e15\\u0e49\\u0e21\", \"\\u0e15\\u0e49\\u0e21\", \"\\u0e15\\u0e49\\u0e21\", \"\\u0e15\\u0e49\\u0e21\", \"\\u0e15\\u0e49\\u0e21\", \"\\u0e16\\u0e49\\u0e27\\u0e22\", \"\\u0e16\\u0e49\\u0e27\\u0e22\", \"\\u0e16\\u0e49\\u0e27\\u0e22\", \"\\u0e16\\u0e49\\u0e27\\u0e22\", \"\\u0e16\\u0e49\\u0e27\\u0e22\", \"\\u0e16\\u0e49\\u0e27\\u0e22\", \"\\u0e16\\u0e49\\u0e27\\u0e22\", \"\\u0e17\\u0e34\\u0e49\\u0e07\", \"\\u0e17\\u0e34\\u0e49\\u0e07\", \"\\u0e17\\u0e34\\u0e49\\u0e07\", \"\\u0e17\\u0e34\\u0e49\\u0e07\", \"\\u0e17\\u0e34\\u0e49\\u0e07\", \"\\u0e17\\u0e34\\u0e49\\u0e07\", \"\\u0e17\\u0e34\\u0e49\\u0e07\", \"\\u0e17\\u0e34\\u0e49\\u0e07\", \"\\u0e17\\u0e49\\u0e2d\\u0e07\", \"\\u0e17\\u0e49\\u0e2d\\u0e07\", \"\\u0e17\\u0e49\\u0e2d\\u0e07\", \"\\u0e17\\u0e49\\u0e2d\\u0e07\", \"\\u0e17\\u0e49\\u0e2d\\u0e07\", \"\\u0e17\\u0e49\\u0e2d\\u0e07\", \"\\u0e17\\u0e49\\u0e2d\\u0e07\", \"\\u0e17\\u0e49\\u0e2d\\u0e07\", \"\\u0e17\\u0e49\\u0e2d\\u0e07\\u0e40\\u0e2a\\u0e35\\u0e22\", \"\\u0e17\\u0e49\\u0e2d\\u0e07\\u0e40\\u0e2a\\u0e35\\u0e22\", \"\\u0e17\\u0e49\\u0e2d\\u0e07\\u0e40\\u0e2a\\u0e35\\u0e22\", \"\\u0e17\\u0e49\\u0e2d\\u0e07\\u0e40\\u0e2a\\u0e35\\u0e22\", \"\\u0e17\\u0e49\\u0e2d\\u0e07\\u0e40\\u0e2a\\u0e35\\u0e22\", \"\\u0e17\\u0e49\\u0e2d\\u0e07\\u0e40\\u0e2a\\u0e35\\u0e22\", \"\\u0e17\\u0e49\\u0e2d\\u0e07\\u0e40\\u0e2a\\u0e35\\u0e22\", \"\\u0e19\\u0e21\\u0e02\\u0e49\\u0e19\\u0e2b\\u0e27\\u0e32\\u0e19\", \"\\u0e19\\u0e21\\u0e02\\u0e49\\u0e19\\u0e2b\\u0e27\\u0e32\\u0e19\", \"\\u0e19\\u0e21\\u0e02\\u0e49\\u0e19\\u0e2b\\u0e27\\u0e32\\u0e19\", \"\\u0e19\\u0e21\\u0e02\\u0e49\\u0e19\\u0e2b\\u0e27\\u0e32\\u0e19\", \"\\u0e19\\u0e21\\u0e02\\u0e49\\u0e19\\u0e2b\\u0e27\\u0e32\\u0e19\", \"\\u0e19\\u0e21\\u0e02\\u0e49\\u0e19\\u0e2b\\u0e27\\u0e32\\u0e19\", \"\\u0e19\\u0e21\\u0e1c\\u0e07\", \"\\u0e19\\u0e21\\u0e1c\\u0e07\", \"\\u0e19\\u0e21\\u0e1c\\u0e07\", \"\\u0e19\\u0e21\\u0e1c\\u0e07\", \"\\u0e19\\u0e21\\u0e1c\\u0e07\", \"\\u0e19\\u0e21\\u0e1c\\u0e07\", \"\\u0e19\\u0e21\\u0e1c\\u0e07\", \"\\u0e19\\u0e21\\u0e1c\\u0e07\", \"\\u0e19\\u0e21\\u0e27\\u0e31\\u0e27\", \"\\u0e19\\u0e21\\u0e27\\u0e31\\u0e27\", \"\\u0e19\\u0e21\\u0e27\\u0e31\\u0e27\", \"\\u0e19\\u0e21\\u0e27\\u0e31\\u0e27\", \"\\u0e19\\u0e21\\u0e27\\u0e31\\u0e27\", \"\\u0e19\\u0e21\\u0e27\\u0e31\\u0e27\", \"\\u0e19\\u0e21\\u0e27\\u0e31\\u0e27\", \"\\u0e19\\u0e21\\u0e27\\u0e31\\u0e27\", \"\\u0e19\\u0e21\\u0e2a\\u0e14\", \"\\u0e19\\u0e21\\u0e2a\\u0e14\", \"\\u0e19\\u0e21\\u0e2a\\u0e14\", \"\\u0e19\\u0e21\\u0e2a\\u0e14\", \"\\u0e19\\u0e21\\u0e2a\\u0e14\", \"\\u0e19\\u0e21\\u0e2a\\u0e14\", \"\\u0e19\\u0e21\\u0e2a\\u0e14\", \"\\u0e19\\u0e21\\u0e2d\\u0e38\\u0e48\\u0e19\", \"\\u0e19\\u0e21\\u0e2d\\u0e38\\u0e48\\u0e19\", \"\\u0e19\\u0e21\\u0e2d\\u0e38\\u0e48\\u0e19\", \"\\u0e19\\u0e34\\u0e22\\u0e21\", \"\\u0e19\\u0e34\\u0e22\\u0e21\", \"\\u0e19\\u0e34\\u0e22\\u0e21\", \"\\u0e19\\u0e34\\u0e22\\u0e21\", \"\\u0e19\\u0e34\\u0e22\\u0e21\", \"\\u0e19\\u0e34\\u0e22\\u0e21\", \"\\u0e19\\u0e34\\u0e22\\u0e21\", \"\\u0e19\\u0e34\\u0e22\\u0e21\", \"\\u0e19\\u0e36\\u0e01\\u0e16\\u0e36\\u0e07\", \"\\u0e19\\u0e36\\u0e01\\u0e16\\u0e36\\u0e07\", \"\\u0e19\\u0e36\\u0e01\\u0e16\\u0e36\\u0e07\", \"\\u0e19\\u0e36\\u0e01\\u0e16\\u0e36\\u0e07\", \"\\u0e19\\u0e36\\u0e01\\u0e16\\u0e36\\u0e07\", \"\\u0e19\\u0e49\\u0e33\\u0e15\\u0e32\\u0e25\", \"\\u0e19\\u0e49\\u0e33\\u0e15\\u0e32\\u0e25\", \"\\u0e19\\u0e49\\u0e33\\u0e15\\u0e32\\u0e25\", \"\\u0e19\\u0e49\\u0e33\\u0e15\\u0e32\\u0e25\", \"\\u0e19\\u0e49\\u0e33\\u0e15\\u0e32\\u0e25\", \"\\u0e19\\u0e49\\u0e33\\u0e15\\u0e32\\u0e25\", \"\\u0e19\\u0e49\\u0e33\\u0e15\\u0e32\\u0e25\", \"\\u0e19\\u0e49\\u0e33\\u0e15\\u0e32\\u0e25\", \"\\u0e19\\u0e49\\u0e33\\u0e19\\u0e21\\u0e42\\u0e04\", \"\\u0e19\\u0e49\\u0e33\\u0e19\\u0e21\\u0e42\\u0e04\", \"\\u0e19\\u0e49\\u0e33\\u0e19\\u0e21\\u0e42\\u0e04\", \"\\u0e19\\u0e49\\u0e33\\u0e19\\u0e21\\u0e42\\u0e04\", \"\\u0e19\\u0e49\\u0e33\\u0e1c\\u0e25\\u0e44\\u0e21\\u0e49\", \"\\u0e19\\u0e49\\u0e33\\u0e1c\\u0e25\\u0e44\\u0e21\\u0e49\", \"\\u0e19\\u0e49\\u0e33\\u0e1c\\u0e25\\u0e44\\u0e21\\u0e49\", \"\\u0e19\\u0e49\\u0e33\\u0e1c\\u0e25\\u0e44\\u0e21\\u0e49\", \"\\u0e19\\u0e49\\u0e33\\u0e1c\\u0e25\\u0e44\\u0e21\\u0e49\", \"\\u0e19\\u0e49\\u0e33\\u0e1c\\u0e25\\u0e44\\u0e21\\u0e49\", \"\\u0e19\\u0e49\\u0e33\\u0e1c\\u0e36\\u0e49\\u0e07\", \"\\u0e19\\u0e49\\u0e33\\u0e1c\\u0e36\\u0e49\\u0e07\", \"\\u0e19\\u0e49\\u0e33\\u0e1c\\u0e36\\u0e49\\u0e07\", \"\\u0e19\\u0e49\\u0e33\\u0e1c\\u0e36\\u0e49\\u0e07\", \"\\u0e19\\u0e49\\u0e33\\u0e1c\\u0e36\\u0e49\\u0e07\", \"\\u0e19\\u0e49\\u0e33\\u0e1c\\u0e36\\u0e49\\u0e07\", \"\\u0e19\\u0e49\\u0e33\\u0e1c\\u0e36\\u0e49\\u0e07\", \"\\u0e19\\u0e49\\u0e33\\u0e1c\\u0e36\\u0e49\\u0e07\", \"\\u0e1a\\u0e23\\u0e23\\u0e08\\u0e38\\u0e20\\u0e31\\u0e13\\u0e11\\u0e4c\", \"\\u0e1a\\u0e23\\u0e23\\u0e08\\u0e38\\u0e20\\u0e31\\u0e13\\u0e11\\u0e4c\", \"\\u0e1a\\u0e23\\u0e23\\u0e08\\u0e38\\u0e20\\u0e31\\u0e13\\u0e11\\u0e4c\", \"\\u0e1a\\u0e33\\u0e23\\u0e38\\u0e07\", \"\\u0e1a\\u0e33\\u0e23\\u0e38\\u0e07\", \"\\u0e1a\\u0e33\\u0e23\\u0e38\\u0e07\", \"\\u0e1a\\u0e33\\u0e23\\u0e38\\u0e07\", \"\\u0e1a\\u0e33\\u0e23\\u0e38\\u0e07\", \"\\u0e1a\\u0e33\\u0e23\\u0e38\\u0e07\", \"\\u0e1a\\u0e39\\u0e14\", \"\\u0e1a\\u0e39\\u0e14\", \"\\u0e1a\\u0e39\\u0e14\", \"\\u0e1a\\u0e39\\u0e14\", \"\\u0e1a\\u0e39\\u0e14\", \"\\u0e1b\\u0e23\\u0e30\\u0e2b\\u0e22\\u0e31\\u0e14\", \"\\u0e1b\\u0e23\\u0e30\\u0e2b\\u0e22\\u0e31\\u0e14\", \"\\u0e1b\\u0e23\\u0e30\\u0e2b\\u0e22\\u0e31\\u0e14\", \"\\u0e1b\\u0e23\\u0e30\\u0e2b\\u0e22\\u0e31\\u0e14\", \"\\u0e1b\\u0e23\\u0e30\\u0e2b\\u0e22\\u0e31\\u0e14\", \"\\u0e1b\\u0e23\\u0e30\\u0e2b\\u0e22\\u0e31\\u0e14\", \"\\u0e1c\\u0e2a\\u0e21\", \"\\u0e1c\\u0e2a\\u0e21\", \"\\u0e1c\\u0e2a\\u0e21\", \"\\u0e1c\\u0e2a\\u0e21\", \"\\u0e1c\\u0e2a\\u0e21\", \"\\u0e1c\\u0e2a\\u0e21\", \"\\u0e1c\\u0e2a\\u0e21\", \"\\u0e1c\\u0e2a\\u0e21\", \"\\u0e1c\\u0e39\\u0e49\\u0e1a\\u0e23\\u0e34\\u0e42\\u0e20\\u0e04\", \"\\u0e1c\\u0e39\\u0e49\\u0e1a\\u0e23\\u0e34\\u0e42\\u0e20\\u0e04\", \"\\u0e1c\\u0e39\\u0e49\\u0e1a\\u0e23\\u0e34\\u0e42\\u0e20\\u0e04\", \"\\u0e1c\\u0e39\\u0e49\\u0e1a\\u0e23\\u0e34\\u0e42\\u0e20\\u0e04\", \"\\u0e1d\\u0e32\", \"\\u0e1d\\u0e32\", \"\\u0e1d\\u0e32\", \"\\u0e1d\\u0e32\", \"\\u0e1d\\u0e32\", \"\\u0e1d\\u0e32\", \"\\u0e1d\\u0e32\", \"\\u0e1d\\u0e32\", \"\\u0e1e\\u0e19\\u0e31\\u0e01\\u0e07\\u0e32\\u0e19\", \"\\u0e1e\\u0e19\\u0e31\\u0e01\\u0e07\\u0e32\\u0e19\", \"\\u0e1e\\u0e19\\u0e31\\u0e01\\u0e07\\u0e32\\u0e19\", \"\\u0e1e\\u0e19\\u0e31\\u0e01\\u0e07\\u0e32\\u0e19\", \"\\u0e1e\\u0e19\\u0e31\\u0e01\\u0e07\\u0e32\\u0e19\", \"\\u0e1e\\u0e19\\u0e31\\u0e01\\u0e07\\u0e32\\u0e19\", \"\\u0e1e\\u0e23\\u0e35\\u0e40\\u0e0b\\u0e47\\u0e19\\u0e40\\u0e15\\u0e2d\\u0e23\\u0e4c\", \"\\u0e1e\\u0e23\\u0e35\\u0e40\\u0e0b\\u0e47\\u0e19\\u0e40\\u0e15\\u0e2d\\u0e23\\u0e4c\", \"\\u0e1e\\u0e25\\u0e31\\u0e07\\u0e07\\u0e32\\u0e19\", \"\\u0e1e\\u0e25\\u0e31\\u0e07\\u0e07\\u0e32\\u0e19\", \"\\u0e1e\\u0e25\\u0e31\\u0e07\\u0e07\\u0e32\\u0e19\", \"\\u0e1e\\u0e25\\u0e31\\u0e07\\u0e07\\u0e32\\u0e19\", \"\\u0e1e\\u0e25\\u0e31\\u0e07\\u0e07\\u0e32\\u0e19\", \"\\u0e1e\\u0e25\\u0e31\\u0e07\\u0e07\\u0e32\\u0e19\", \"\\u0e1e\\u0e25\\u0e31\\u0e07\\u0e07\\u0e32\\u0e19\", \"\\u0e1e\\u0e31\\u0e12\\u0e19\\u0e32\\u0e01\\u0e32\\u0e23\", \"\\u0e1e\\u0e31\\u0e12\\u0e19\\u0e32\\u0e01\\u0e32\\u0e23\", \"\\u0e1e\\u0e37\\u0e49\\u0e19\\u0e10\\u0e32\\u0e19\", \"\\u0e1e\\u0e37\\u0e49\\u0e19\\u0e10\\u0e32\\u0e19\", \"\\u0e1e\\u0e37\\u0e49\\u0e19\\u0e10\\u0e32\\u0e19\", \"\\u0e1e\\u0e37\\u0e49\\u0e19\\u0e10\\u0e32\\u0e19\", \"\\u0e1e\\u0e37\\u0e49\\u0e19\\u0e10\\u0e32\\u0e19\", \"\\u0e1e\\u0e37\\u0e49\\u0e19\\u0e10\\u0e32\\u0e19\", \"\\u0e1e\\u0e48\\u0e2d\\u0e41\\u0e21\\u0e48\", \"\\u0e1e\\u0e48\\u0e2d\\u0e41\\u0e21\\u0e48\", \"\\u0e1e\\u0e48\\u0e2d\\u0e41\\u0e21\\u0e48\", \"\\u0e1e\\u0e48\\u0e2d\\u0e41\\u0e21\\u0e48\", \"\\u0e1e\\u0e48\\u0e2d\\u0e41\\u0e21\\u0e48\", \"\\u0e1e\\u0e48\\u0e2d\\u0e41\\u0e21\\u0e48\", \"\\u0e1f\\u0e32\\u0e23\\u0e4c\\u0e21\", \"\\u0e1f\\u0e32\\u0e23\\u0e4c\\u0e21\", \"\\u0e1f\\u0e32\\u0e23\\u0e4c\\u0e21\", \"\\u0e1f\\u0e32\\u0e23\\u0e4c\\u0e21\", \"\\u0e1f\\u0e32\\u0e23\\u0e4c\\u0e21\", \"\\u0e1f\\u0e32\\u0e23\\u0e4c\\u0e21\", \"\\u0e1f\\u0e32\\u0e23\\u0e4c\\u0e21\", \"\\u0e1f\\u0e32\\u0e23\\u0e4c\\u0e21\", \"\\u0e21\\u0e31\\u0e19\\u0e14\\u0e35\", \"\\u0e21\\u0e31\\u0e19\\u0e14\\u0e35\", \"\\u0e21\\u0e31\\u0e19\\u0e14\\u0e35\", \"\\u0e21\\u0e31\\u0e19\\u0e14\\u0e35\", \"\\u0e21\\u0e35\\u0e1b\\u0e23\\u0e30\\u0e42\\u0e22\\u0e0a\\u0e19\\u0e4c\", \"\\u0e21\\u0e35\\u0e1b\\u0e23\\u0e30\\u0e42\\u0e22\\u0e0a\\u0e19\\u0e4c\", \"\\u0e21\\u0e35\\u0e1b\\u0e23\\u0e30\\u0e42\\u0e22\\u0e0a\\u0e19\\u0e4c\", \"\\u0e21\\u0e35\\u0e1b\\u0e23\\u0e30\\u0e42\\u0e22\\u0e0a\\u0e19\\u0e4c\", \"\\u0e21\\u0e35\\u0e1b\\u0e23\\u0e30\\u0e42\\u0e22\\u0e0a\\u0e19\\u0e4c\", \"\\u0e21\\u0e35\\u0e1b\\u0e23\\u0e30\\u0e42\\u0e22\\u0e0a\\u0e19\\u0e4c\", \"\\u0e21\\u0e35\\u0e1b\\u0e23\\u0e30\\u0e42\\u0e22\\u0e0a\\u0e19\\u0e4c\", \"\\u0e21\\u0e35\\u0e1b\\u0e23\\u0e30\\u0e42\\u0e22\\u0e0a\\u0e19\\u0e4c\", \"\\u0e21\\u0e35\\u0e25\\u0e39\\u0e01\", \"\\u0e21\\u0e35\\u0e25\\u0e39\\u0e01\", \"\\u0e21\\u0e35\\u0e25\\u0e39\\u0e01\", \"\\u0e21\\u0e35\\u0e25\\u0e39\\u0e01\", \"\\u0e21\\u0e35\\u0e25\\u0e39\\u0e01\", \"\\u0e22\\u0e39\\u0e40\\u0e2d\\u0e0a\\u0e17\\u0e35\", \"\\u0e22\\u0e39\\u0e40\\u0e2d\\u0e0a\\u0e17\\u0e35\", \"\\u0e22\\u0e39\\u0e40\\u0e2d\\u0e0a\\u0e17\\u0e35\", \"\\u0e22\\u0e39\\u0e40\\u0e2d\\u0e0a\\u0e17\\u0e35\", \"\\u0e22\\u0e39\\u0e40\\u0e2d\\u0e0a\\u0e17\\u0e35\", \"\\u0e22\\u0e39\\u0e40\\u0e2d\\u0e0a\\u0e17\\u0e35\", \"\\u0e23\\u0e2a\", \"\\u0e23\\u0e2a\", \"\\u0e23\\u0e2a\", \"\\u0e23\\u0e2a\", \"\\u0e23\\u0e2a\", \"\\u0e23\\u0e2a\", \"\\u0e23\\u0e2a\", \"\\u0e23\\u0e2a\", \"\\u0e23\\u0e2a\\u0e0a\\u0e32\\u0e15\\u0e34\", \"\\u0e23\\u0e2a\\u0e0a\\u0e32\\u0e15\\u0e34\", \"\\u0e23\\u0e2a\\u0e0a\\u0e32\\u0e15\\u0e34\", \"\\u0e23\\u0e2a\\u0e0a\\u0e32\\u0e15\\u0e34\", \"\\u0e23\\u0e2a\\u0e0a\\u0e32\\u0e15\\u0e34\", \"\\u0e23\\u0e2a\\u0e0a\\u0e32\\u0e15\\u0e34\", \"\\u0e23\\u0e2a\\u0e0a\\u0e32\\u0e15\\u0e34\", \"\\u0e23\\u0e2a\\u0e0a\\u0e32\\u0e15\\u0e34\", \"\\u0e23\\u0e32\\u0e04\\u0e32\\u0e2a\\u0e39\\u0e07\", \"\\u0e23\\u0e32\\u0e04\\u0e32\\u0e2a\\u0e39\\u0e07\", \"\\u0e23\\u0e32\\u0e04\\u0e32\\u0e2a\\u0e39\\u0e07\", \"\\u0e23\\u0e32\\u0e04\\u0e32\\u0e2a\\u0e39\\u0e07\", \"\\u0e23\\u0e49\\u0e2d\\u0e19\", \"\\u0e23\\u0e49\\u0e2d\\u0e19\", \"\\u0e23\\u0e49\\u0e2d\\u0e19\", \"\\u0e23\\u0e49\\u0e2d\\u0e19\", \"\\u0e23\\u0e49\\u0e2d\\u0e19\", \"\\u0e23\\u0e49\\u0e2d\\u0e19\", \"\\u0e23\\u0e49\\u0e2d\\u0e19\", \"\\u0e23\\u0e49\\u0e2d\\u0e19\", \"\\u0e23\\u0e49\\u0e32\\u0e19\", \"\\u0e23\\u0e49\\u0e32\\u0e19\", \"\\u0e23\\u0e49\\u0e32\\u0e19\", \"\\u0e23\\u0e49\\u0e32\\u0e19\", \"\\u0e23\\u0e49\\u0e32\\u0e19\", \"\\u0e23\\u0e49\\u0e32\\u0e19\", \"\\u0e23\\u0e49\\u0e32\\u0e19\", \"\\u0e23\\u0e49\\u0e32\\u0e19\", \"\\u0e23\\u0e49\\u0e32\\u0e19\\u0e19\\u0e21\", \"\\u0e23\\u0e49\\u0e32\\u0e19\\u0e19\\u0e21\", \"\\u0e25\\u0e14\\u0e23\\u0e32\\u0e04\\u0e32\", \"\\u0e25\\u0e14\\u0e23\\u0e32\\u0e04\\u0e32\", \"\\u0e25\\u0e14\\u0e23\\u0e32\\u0e04\\u0e32\", \"\\u0e25\\u0e39\\u0e01\", \"\\u0e25\\u0e39\\u0e01\", \"\\u0e25\\u0e39\\u0e01\", \"\\u0e25\\u0e39\\u0e01\", \"\\u0e25\\u0e39\\u0e01\", \"\\u0e25\\u0e39\\u0e01\", \"\\u0e25\\u0e39\\u0e01\", \"\\u0e25\\u0e39\\u0e01\", \"\\u0e25\\u0e39\\u0e01\\u0e2a\\u0e38\\u0e19\\u0e31\\u0e02\", \"\\u0e27\\u0e31\\u0e19\\u0e2b\\u0e21\\u0e14\\u0e2d\\u0e32\\u0e22\\u0e38\", \"\\u0e27\\u0e31\\u0e19\\u0e2b\\u0e21\\u0e14\\u0e2d\\u0e32\\u0e22\\u0e38\", \"\\u0e27\\u0e31\\u0e19\\u0e2b\\u0e21\\u0e14\\u0e2d\\u0e32\\u0e22\\u0e38\", \"\\u0e27\\u0e34\\u0e15\\u0e32\\u0e21\\u0e34\\u0e19\", \"\\u0e27\\u0e34\\u0e15\\u0e32\\u0e21\\u0e34\\u0e19\", \"\\u0e27\\u0e34\\u0e15\\u0e32\\u0e21\\u0e34\\u0e19\", \"\\u0e27\\u0e34\\u0e15\\u0e32\\u0e21\\u0e34\\u0e19\", \"\\u0e27\\u0e34\\u0e15\\u0e32\\u0e21\\u0e34\\u0e19\", \"\\u0e27\\u0e34\\u0e15\\u0e32\\u0e21\\u0e34\\u0e19\", \"\\u0e27\\u0e34\\u0e15\\u0e32\\u0e21\\u0e34\\u0e19\", \"\\u0e27\\u0e34\\u0e1b\\u0e1b\\u0e34\\u0e49\\u0e07\", \"\\u0e27\\u0e34\\u0e1b\\u0e1b\\u0e34\\u0e49\\u0e07\", \"\\u0e27\\u0e34\\u0e48\\u0e07\", \"\\u0e27\\u0e34\\u0e48\\u0e07\", \"\\u0e27\\u0e34\\u0e48\\u0e07\", \"\\u0e27\\u0e34\\u0e48\\u0e07\", \"\\u0e27\\u0e34\\u0e48\\u0e07\", \"\\u0e27\\u0e34\\u0e48\\u0e07\", \"\\u0e27\\u0e34\\u0e48\\u0e07\", \"\\u0e27\\u0e34\\u0e48\\u0e07\", \"\\u0e2a\\u0e31\\u0e48\\u0e07\", \"\\u0e2a\\u0e31\\u0e48\\u0e07\", \"\\u0e2a\\u0e31\\u0e48\\u0e07\", \"\\u0e2a\\u0e31\\u0e48\\u0e07\", \"\\u0e2a\\u0e31\\u0e48\\u0e07\", \"\\u0e2a\\u0e31\\u0e48\\u0e07\", \"\\u0e2a\\u0e31\\u0e48\\u0e07\", \"\\u0e2a\\u0e31\\u0e48\\u0e07\", \"\\u0e2a\\u0e32\\u0e23\\u0e2d\\u0e32\\u0e2b\\u0e32\\u0e23\", \"\\u0e2a\\u0e32\\u0e23\\u0e2d\\u0e32\\u0e2b\\u0e32\\u0e23\", \"\\u0e2a\\u0e32\\u0e23\\u0e2d\\u0e32\\u0e2b\\u0e32\\u0e23\", \"\\u0e2a\\u0e32\\u0e23\\u0e2d\\u0e32\\u0e2b\\u0e32\\u0e23\", \"\\u0e2a\\u0e32\\u0e23\\u0e2d\\u0e32\\u0e2b\\u0e32\\u0e23\", \"\\u0e2a\\u0e32\\u0e23\\u0e2d\\u0e32\\u0e2b\\u0e32\\u0e23\", \"\\u0e2a\\u0e32\\u0e23\\u0e2d\\u0e32\\u0e2b\\u0e32\\u0e23\", \"\\u0e2a\\u0e32\\u0e23\\u0e2d\\u0e32\\u0e2b\\u0e32\\u0e23\", \"\\u0e2a\\u0e34\\u0e19\\u0e04\\u0e49\\u0e32\", \"\\u0e2a\\u0e34\\u0e19\\u0e04\\u0e49\\u0e32\", \"\\u0e2a\\u0e34\\u0e19\\u0e04\\u0e49\\u0e32\", \"\\u0e2a\\u0e34\\u0e19\\u0e04\\u0e49\\u0e32\", \"\\u0e2a\\u0e34\\u0e19\\u0e04\\u0e49\\u0e32\", \"\\u0e2a\\u0e34\\u0e19\\u0e04\\u0e49\\u0e32\", \"\\u0e2a\\u0e34\\u0e19\\u0e04\\u0e49\\u0e32\", \"\\u0e2a\\u0e34\\u0e19\\u0e04\\u0e49\\u0e32\", \"\\u0e2a\\u0e35\", \"\\u0e2a\\u0e35\", \"\\u0e2a\\u0e35\", \"\\u0e2a\\u0e35\", \"\\u0e2a\\u0e35\", \"\\u0e2a\\u0e35\", \"\\u0e2a\\u0e35\", \"\\u0e2a\\u0e35\", \"\\u0e2a\\u0e38\\u0e19\\u0e31\\u0e02\", \"\\u0e2a\\u0e48\\u0e27\\u0e19\\u0e1c\\u0e2a\\u0e21\", \"\\u0e2a\\u0e48\\u0e27\\u0e19\\u0e1c\\u0e2a\\u0e21\", \"\\u0e2a\\u0e48\\u0e27\\u0e19\\u0e1c\\u0e2a\\u0e21\", \"\\u0e2a\\u0e48\\u0e27\\u0e19\\u0e1c\\u0e2a\\u0e21\", \"\\u0e2a\\u0e48\\u0e27\\u0e19\\u0e1c\\u0e2a\\u0e21\", \"\\u0e2a\\u0e48\\u0e27\\u0e19\\u0e1c\\u0e2a\\u0e21\", \"\\u0e2a\\u0e48\\u0e27\\u0e19\\u0e1c\\u0e2a\\u0e21\", \"\\u0e2a\\u0e48\\u0e27\\u0e19\\u0e2a\\u0e39\\u0e07\", \"\\u0e2a\\u0e48\\u0e27\\u0e19\\u0e2a\\u0e39\\u0e07\", \"\\u0e2a\\u0e48\\u0e27\\u0e19\\u0e2a\\u0e39\\u0e07\", \"\\u0e2a\\u0e48\\u0e27\\u0e19\\u0e2a\\u0e39\\u0e07\", \"\\u0e2a\\u0e48\\u0e27\\u0e19\\u0e2a\\u0e39\\u0e07\", \"\\u0e2b\\u0e21\\u0e14\\u0e2d\\u0e32\\u0e22\\u0e38\", \"\\u0e2b\\u0e21\\u0e14\\u0e2d\\u0e32\\u0e22\\u0e38\", \"\\u0e2b\\u0e21\\u0e14\\u0e2d\\u0e32\\u0e22\\u0e38\", \"\\u0e2b\\u0e21\\u0e14\\u0e2d\\u0e32\\u0e22\\u0e38\", \"\\u0e2b\\u0e21\\u0e14\\u0e2d\\u0e32\\u0e22\\u0e38\", \"\\u0e2b\\u0e21\\u0e14\\u0e2d\\u0e32\\u0e22\\u0e38\", \"\\u0e2b\\u0e21\\u0e32\", \"\\u0e2b\\u0e21\\u0e32\", \"\\u0e2b\\u0e27\\u0e32\\u0e19\", \"\\u0e2b\\u0e27\\u0e32\\u0e19\", \"\\u0e2b\\u0e27\\u0e32\\u0e19\", \"\\u0e2b\\u0e27\\u0e32\\u0e19\", \"\\u0e2b\\u0e27\\u0e32\\u0e19\", \"\\u0e2b\\u0e27\\u0e32\\u0e19\", \"\\u0e2b\\u0e27\\u0e32\\u0e19\", \"\\u0e2b\\u0e27\\u0e32\\u0e19\", \"\\u0e2b\\u0e2d\\u0e21\", \"\\u0e2b\\u0e2d\\u0e21\", \"\\u0e2b\\u0e2d\\u0e21\", \"\\u0e2b\\u0e2d\\u0e21\", \"\\u0e2b\\u0e2d\\u0e21\", \"\\u0e2b\\u0e2d\\u0e21\", \"\\u0e2b\\u0e2d\\u0e21\", \"\\u0e2b\\u0e2d\\u0e21\", \"\\u0e2b\\u0e32\", \"\\u0e2b\\u0e32\", \"\\u0e2b\\u0e32\", \"\\u0e2b\\u0e32\", \"\\u0e2b\\u0e32\", \"\\u0e2b\\u0e32\", \"\\u0e2b\\u0e32\", \"\\u0e2b\\u0e32\", \"\\u0e2b\\u0e32\\u0e22\", \"\\u0e2b\\u0e32\\u0e22\", \"\\u0e2b\\u0e32\\u0e22\", \"\\u0e2b\\u0e32\\u0e22\", \"\\u0e2b\\u0e32\\u0e22\", \"\\u0e2b\\u0e32\\u0e22\", \"\\u0e2b\\u0e32\\u0e22\", \"\\u0e2b\\u0e32\\u0e22\", \"\\u0e2d\\u0e23\\u0e48\\u0e2d\\u0e22\", \"\\u0e2d\\u0e23\\u0e48\\u0e2d\\u0e22\", \"\\u0e2d\\u0e23\\u0e48\\u0e2d\\u0e22\", \"\\u0e2d\\u0e23\\u0e48\\u0e2d\\u0e22\", \"\\u0e2d\\u0e23\\u0e48\\u0e2d\\u0e22\", \"\\u0e2d\\u0e23\\u0e48\\u0e2d\\u0e22\", \"\\u0e2d\\u0e23\\u0e48\\u0e2d\\u0e22\", \"\\u0e2d\\u0e23\\u0e48\\u0e2d\\u0e22\", \"\\u0e2d\\u0e2d\\u0e01\\u0e01\\u0e33\\u0e25\\u0e31\\u0e07\\u0e01\\u0e32\\u0e22\", \"\\u0e2d\\u0e2d\\u0e01\\u0e01\\u0e33\\u0e25\\u0e31\\u0e07\\u0e01\\u0e32\\u0e22\", \"\\u0e2d\\u0e2d\\u0e01\\u0e01\\u0e33\\u0e25\\u0e31\\u0e07\\u0e01\\u0e32\\u0e22\", \"\\u0e2d\\u0e2d\\u0e01\\u0e01\\u0e33\\u0e25\\u0e31\\u0e07\\u0e01\\u0e32\\u0e22\", \"\\u0e2d\\u0e2d\\u0e01\\u0e01\\u0e33\\u0e25\\u0e31\\u0e07\\u0e01\\u0e32\\u0e22\", \"\\u0e2d\\u0e2d\\u0e01\\u0e01\\u0e33\\u0e25\\u0e31\\u0e07\\u0e01\\u0e32\\u0e22\", \"\\u0e2d\\u0e2d\\u0e01\\u0e01\\u0e33\\u0e25\\u0e31\\u0e07\\u0e01\\u0e32\\u0e22\", \"\\u0e2d\\u0e2d\\u0e01\\u0e01\\u0e33\\u0e25\\u0e31\\u0e07\\u0e01\\u0e32\\u0e22\", \"\\u0e2d\\u0e32\\u0e2b\\u0e32\\u0e23\\u0e40\\u0e2a\\u0e23\\u0e34\\u0e21\", \"\\u0e2d\\u0e32\\u0e2b\\u0e32\\u0e23\\u0e40\\u0e2a\\u0e23\\u0e34\\u0e21\", \"\\u0e2d\\u0e32\\u0e2b\\u0e32\\u0e23\\u0e40\\u0e2a\\u0e23\\u0e34\\u0e21\", \"\\u0e2d\\u0e32\\u0e2b\\u0e32\\u0e23\\u0e40\\u0e2a\\u0e23\\u0e34\\u0e21\", \"\\u0e2d\\u0e32\\u0e2b\\u0e32\\u0e23\\u0e40\\u0e2a\\u0e23\\u0e34\\u0e21\", \"\\u0e2d\\u0e32\\u0e2b\\u0e32\\u0e23\\u0e40\\u0e2a\\u0e23\\u0e34\\u0e21\", \"\\u0e2d\\u0e32\\u0e40\\u0e08\\u0e35\\u0e22\\u0e19\", \"\\u0e2d\\u0e32\\u0e40\\u0e08\\u0e35\\u0e22\\u0e19\", \"\\u0e2d\\u0e32\\u0e40\\u0e08\\u0e35\\u0e22\\u0e19\", \"\\u0e2d\\u0e32\\u0e40\\u0e08\\u0e35\\u0e22\\u0e19\", \"\\u0e2d\\u0e32\\u0e40\\u0e08\\u0e35\\u0e22\\u0e19\", \"\\u0e2d\\u0e36\", \"\\u0e2d\\u0e36\", \"\\u0e2d\\u0e36\", \"\\u0e2d\\u0e38\\u0e48\\u0e19\", \"\\u0e2d\\u0e38\\u0e48\\u0e19\", \"\\u0e2d\\u0e38\\u0e48\\u0e19\", \"\\u0e2d\\u0e38\\u0e48\\u0e19\", \"\\u0e2d\\u0e38\\u0e48\\u0e19\", \"\\u0e2d\\u0e38\\u0e48\\u0e19\", \"\\u0e2d\\u0e38\\u0e48\\u0e19\", \"\\u0e2d\\u0e40\\u0e21\\u0e23\\u0e34\\u0e01\\u0e32\\u0e42\\u0e19\\u0e48\", \"\\u0e2d\\u0e40\\u0e21\\u0e23\\u0e34\\u0e01\\u0e32\\u0e42\\u0e19\\u0e48\", \"\\u0e2d\\u0e40\\u0e21\\u0e23\\u0e34\\u0e01\\u0e32\\u0e42\\u0e19\\u0e48\", \"\\u0e2d\\u0e40\\u0e21\\u0e23\\u0e34\\u0e01\\u0e32\\u0e42\\u0e19\\u0e48\", \"\\u0e2d\\u0e40\\u0e21\\u0e23\\u0e34\\u0e01\\u0e32\\u0e42\\u0e19\\u0e48\", \"\\u0e2d\\u0e40\\u0e21\\u0e23\\u0e34\\u0e01\\u0e32\\u0e42\\u0e19\\u0e48\", \"\\u0e2d\\u0e40\\u0e21\\u0e23\\u0e34\\u0e01\\u0e32\\u0e42\\u0e19\\u0e48\", \"\\u0e40\\u0e04\\u0e49\\u0e01\", \"\\u0e40\\u0e04\\u0e49\\u0e01\", \"\\u0e40\\u0e04\\u0e49\\u0e01\", \"\\u0e40\\u0e04\\u0e49\\u0e01\", \"\\u0e40\\u0e04\\u0e49\\u0e01\", \"\\u0e40\\u0e04\\u0e49\\u0e01\", \"\\u0e40\\u0e08\\u0e21\\u0e2a\\u0e4c\\u0e08\\u0e34\", \"\\u0e40\\u0e08\\u0e21\\u0e2a\\u0e4c\\u0e08\\u0e34\", \"\\u0e40\\u0e08\\u0e21\\u0e2a\\u0e4c\\u0e08\\u0e34\", \"\\u0e40\\u0e0a\\u0e37\\u0e49\\u0e2d\\u0e08\\u0e38\\u0e25\\u0e34\\u0e19\\u0e17\\u0e23\\u0e35\\u0e22\\u0e4c\", \"\\u0e40\\u0e14\\u0e47\\u0e01\", \"\\u0e40\\u0e14\\u0e47\\u0e01\", \"\\u0e40\\u0e14\\u0e47\\u0e01\", \"\\u0e40\\u0e14\\u0e47\\u0e01\", \"\\u0e40\\u0e14\\u0e47\\u0e01\", \"\\u0e40\\u0e14\\u0e47\\u0e01\", \"\\u0e40\\u0e14\\u0e47\\u0e01\", \"\\u0e40\\u0e14\\u0e47\\u0e01\", \"\\u0e40\\u0e17\\u0e23\\u0e19\\u0e40\\u0e19\\u0e2d\\u0e23\\u0e4c\", \"\\u0e40\\u0e17\\u0e23\\u0e19\\u0e40\\u0e19\\u0e2d\\u0e23\\u0e4c\", \"\\u0e40\\u0e19\\u0e22\", \"\\u0e40\\u0e19\\u0e22\", \"\\u0e40\\u0e19\\u0e22\", \"\\u0e40\\u0e19\\u0e22\", \"\\u0e40\\u0e19\\u0e22\", \"\\u0e40\\u0e19\\u0e22\", \"\\u0e40\\u0e19\\u0e22\", \"\\u0e40\\u0e1a\\u0e32\\u0e2b\\u0e27\\u0e32\\u0e19\", \"\\u0e40\\u0e1a\\u0e32\\u0e2b\\u0e27\\u0e32\\u0e19\", \"\\u0e40\\u0e1a\\u0e32\\u0e2b\\u0e27\\u0e32\\u0e19\", \"\\u0e40\\u0e1a\\u0e32\\u0e2b\\u0e27\\u0e32\\u0e19\", \"\\u0e40\\u0e1a\\u0e32\\u0e2b\\u0e27\\u0e32\\u0e19\", \"\\u0e40\\u0e1b\\u0e47\\u0e19\\u0e1c\\u0e25\\u0e14\\u0e35\", \"\\u0e40\\u0e1e\\u0e34\\u0e48\\u0e21\\u0e02\\u0e36\\u0e49\\u0e19\", \"\\u0e40\\u0e1e\\u0e34\\u0e48\\u0e21\\u0e02\\u0e36\\u0e49\\u0e19\", \"\\u0e40\\u0e1e\\u0e34\\u0e48\\u0e21\\u0e02\\u0e36\\u0e49\\u0e19\", \"\\u0e40\\u0e1e\\u0e34\\u0e48\\u0e21\\u0e02\\u0e36\\u0e49\\u0e19\", \"\\u0e40\\u0e1e\\u0e34\\u0e48\\u0e21\\u0e02\\u0e36\\u0e49\\u0e19\", \"\\u0e40\\u0e1e\\u0e34\\u0e48\\u0e21\\u0e02\\u0e36\\u0e49\\u0e19\", \"\\u0e40\\u0e1e\\u0e34\\u0e48\\u0e21\\u0e02\\u0e36\\u0e49\\u0e19\", \"\\u0e40\\u0e25\\u0e35\\u0e49\\u0e22\\u0e07\\u0e25\\u0e39\\u0e01\", \"\\u0e40\\u0e25\\u0e35\\u0e49\\u0e22\\u0e07\\u0e25\\u0e39\\u0e01\", \"\\u0e40\\u0e25\\u0e35\\u0e49\\u0e22\\u0e07\\u0e25\\u0e39\\u0e01\", \"\\u0e40\\u0e25\\u0e35\\u0e49\\u0e22\\u0e07\\u0e40\\u0e14\\u0e47\\u0e01\", \"\\u0e40\\u0e25\\u0e48\\u0e19\\u0e40\\u0e27\\u0e17\", \"\\u0e40\\u0e25\\u0e48\\u0e19\\u0e40\\u0e27\\u0e17\", \"\\u0e40\\u0e25\\u0e48\\u0e19\\u0e40\\u0e27\\u0e17\", \"\\u0e40\\u0e25\\u0e48\\u0e19\\u0e40\\u0e27\\u0e17\", \"\\u0e40\\u0e25\\u0e48\\u0e19\\u0e40\\u0e27\\u0e17\", \"\\u0e40\\u0e27\\u0e17\", \"\\u0e40\\u0e27\\u0e17\", \"\\u0e40\\u0e27\\u0e17\", \"\\u0e40\\u0e27\\u0e17\", \"\\u0e40\\u0e27\\u0e17\", \"\\u0e40\\u0e27\\u0e17\", \"\\u0e40\\u0e27\\u0e17\", \"\\u0e40\\u0e27\\u0e1f\", \"\\u0e40\\u0e27\\u0e1f\", \"\\u0e40\\u0e27\\u0e1f\", \"\\u0e40\\u0e27\\u0e1f\", \"\\u0e40\\u0e27\\u0e1f\", \"\\u0e40\\u0e27\\u0e1f\", \"\\u0e40\\u0e27\\u0e22\\u0e4c\", \"\\u0e40\\u0e27\\u0e22\\u0e4c\", \"\\u0e40\\u0e27\\u0e22\\u0e4c\", \"\\u0e40\\u0e27\\u0e22\\u0e4c\", \"\\u0e40\\u0e27\\u0e22\\u0e4c\", \"\\u0e40\\u0e2a\\u0e35\\u0e22\\u0e04\\u0e27\\u0e32\\u0e21\\u0e23\\u0e39\\u0e49\\u0e2a\\u0e36\\u0e01\", \"\\u0e40\\u0e2a\\u0e35\\u0e22\\u0e43\\u0e08\", \"\\u0e40\\u0e2a\\u0e35\\u0e22\\u0e43\\u0e08\", \"\\u0e40\\u0e2a\\u0e35\\u0e22\\u0e43\\u0e08\", \"\\u0e40\\u0e2a\\u0e35\\u0e22\\u0e43\\u0e08\", \"\\u0e40\\u0e2a\\u0e35\\u0e22\\u0e43\\u0e08\", \"\\u0e41\\u0e01\\u0e25\\u0e25\\u0e2d\\u0e19\", \"\\u0e41\\u0e01\\u0e25\\u0e25\\u0e2d\\u0e19\", \"\\u0e41\\u0e01\\u0e25\\u0e25\\u0e2d\\u0e19\", \"\\u0e41\\u0e01\\u0e25\\u0e25\\u0e2d\\u0e19\", \"\\u0e41\\u0e01\\u0e25\\u0e25\\u0e2d\\u0e19\", \"\\u0e41\\u0e01\\u0e25\\u0e25\\u0e2d\\u0e19\", \"\\u0e41\\u0e02\\u0e47\\u0e07\\u0e41\\u0e23\\u0e07\", \"\\u0e41\\u0e02\\u0e47\\u0e07\\u0e41\\u0e23\\u0e07\", \"\\u0e41\\u0e02\\u0e47\\u0e07\\u0e41\\u0e23\\u0e07\", \"\\u0e41\\u0e02\\u0e47\\u0e07\\u0e41\\u0e23\\u0e07\", \"\\u0e41\\u0e02\\u0e47\\u0e07\\u0e41\\u0e23\\u0e07\", \"\\u0e41\\u0e02\\u0e47\\u0e07\\u0e41\\u0e23\\u0e07\", \"\\u0e41\\u0e02\\u0e47\\u0e07\\u0e41\\u0e23\\u0e07\", \"\\u0e41\\u0e02\\u0e47\\u0e07\\u0e41\\u0e23\\u0e07\", \"\\u0e41\\u0e04\\u0e25\\u0e40\\u0e0b\\u0e35\\u0e48\\u0e22\\u0e21\", \"\\u0e41\\u0e15\\u0e01\", \"\\u0e41\\u0e15\\u0e01\", \"\\u0e41\\u0e15\\u0e01\", \"\\u0e41\\u0e15\\u0e01\", \"\\u0e41\\u0e15\\u0e01\", \"\\u0e41\\u0e15\\u0e01\", \"\\u0e41\\u0e15\\u0e01\", \"\\u0e41\\u0e15\\u0e01\", \"\\u0e41\\u0e16\\u0e21\", \"\\u0e41\\u0e16\\u0e21\", \"\\u0e41\\u0e16\\u0e21\", \"\\u0e41\\u0e16\\u0e21\", \"\\u0e41\\u0e16\\u0e21\", \"\\u0e41\\u0e16\\u0e21\", \"\\u0e41\\u0e16\\u0e21\", \"\\u0e41\\u0e16\\u0e21\", \"\\u0e41\\u0e19\\u0e30\\u0e19\\u0e33\", \"\\u0e41\\u0e19\\u0e30\\u0e19\\u0e33\", \"\\u0e41\\u0e19\\u0e30\\u0e19\\u0e33\", \"\\u0e41\\u0e19\\u0e30\\u0e19\\u0e33\", \"\\u0e41\\u0e19\\u0e30\\u0e19\\u0e33\", \"\\u0e41\\u0e19\\u0e30\\u0e19\\u0e33\", \"\\u0e41\\u0e19\\u0e30\\u0e19\\u0e33\", \"\\u0e41\\u0e19\\u0e30\\u0e19\\u0e33\", \"\\u0e41\\u0e1b\\u0e49\\u0e07\", \"\\u0e41\\u0e1b\\u0e49\\u0e07\", \"\\u0e41\\u0e1b\\u0e49\\u0e07\", \"\\u0e41\\u0e1b\\u0e49\\u0e07\", \"\\u0e41\\u0e1b\\u0e49\\u0e07\", \"\\u0e41\\u0e1b\\u0e49\\u0e07\", \"\\u0e41\\u0e1b\\u0e49\\u0e07\", \"\\u0e41\\u0e1b\\u0e49\\u0e07\", \"\\u0e41\\u0e1e\\u0e04\\u0e04\\u0e39\\u0e48\", \"\\u0e41\\u0e1e\\u0e07\", \"\\u0e41\\u0e1e\\u0e07\", \"\\u0e41\\u0e1e\\u0e07\", \"\\u0e41\\u0e1e\\u0e07\", \"\\u0e41\\u0e1e\\u0e07\", \"\\u0e41\\u0e1e\\u0e07\", \"\\u0e41\\u0e1e\\u0e07\", \"\\u0e41\\u0e1e\\u0e07\", \"\\u0e41\\u0e1e\\u0e30\", \"\\u0e41\\u0e1e\\u0e30\", \"\\u0e41\\u0e1e\\u0e30\", \"\\u0e41\\u0e1e\\u0e30\", \"\\u0e41\\u0e1e\\u0e30\", \"\\u0e41\\u0e1e\\u0e30\", \"\\u0e41\\u0e1e\\u0e30\", \"\\u0e41\\u0e1e\\u0e49\\u0e19\\u0e21\", \"\\u0e41\\u0e1e\\u0e49\\u0e19\\u0e21\", \"\\u0e41\\u0e1e\\u0e49\\u0e19\\u0e21\", \"\\u0e41\\u0e1e\\u0e49\\u0e19\\u0e21\\u0e27\\u0e31\\u0e27\", \"\\u0e41\\u0e1e\\u0e49\\u0e19\\u0e21\\u0e27\\u0e31\\u0e27\", \"\\u0e41\\u0e1e\\u0e49\\u0e19\\u0e21\\u0e27\\u0e31\\u0e27\", \"\\u0e41\\u0e1e\\u0e49\\u0e19\\u0e21\\u0e27\\u0e31\\u0e27\", \"\\u0e41\\u0e21\\u0e27\", \"\\u0e41\\u0e21\\u0e27\", \"\\u0e41\\u0e21\\u0e27\", \"\\u0e41\\u0e21\\u0e27\", \"\\u0e41\\u0e21\\u0e27\", \"\\u0e41\\u0e21\\u0e48\", \"\\u0e41\\u0e21\\u0e48\", \"\\u0e41\\u0e21\\u0e48\", \"\\u0e41\\u0e21\\u0e48\", \"\\u0e41\\u0e21\\u0e48\", \"\\u0e41\\u0e21\\u0e48\", \"\\u0e41\\u0e21\\u0e48\", \"\\u0e41\\u0e21\\u0e48\", \"\\u0e41\\u0e25\\u0e04\\u0e42\\u0e15\\u0e2a\", \"\\u0e41\\u0e25\\u0e04\\u0e42\\u0e15\\u0e2a\", \"\\u0e41\\u0e25\\u0e04\\u0e42\\u0e15\\u0e2a\", \"\\u0e41\\u0e25\\u0e04\\u0e42\\u0e15\\u0e2a\", \"\\u0e41\\u0e25\\u0e04\\u0e42\\u0e15\\u0e2a\", \"\\u0e41\\u0e25\\u0e04\\u0e42\\u0e15\\u0e2a\", \"\\u0e41\\u0e25\\u0e04\\u0e42\\u0e15\\u0e2a\", \"\\u0e41\\u0e25\\u0e04\\u0e42\\u0e15\\u0e2a\", \"\\u0e42\\u0e1b\\u0e23\", \"\\u0e42\\u0e1b\\u0e23\", \"\\u0e42\\u0e1b\\u0e23\", \"\\u0e42\\u0e1b\\u0e23\", \"\\u0e42\\u0e1b\\u0e23\", \"\\u0e42\\u0e1b\\u0e23\\u0e15\\u0e35\\u0e19\", \"\\u0e42\\u0e1b\\u0e23\\u0e15\\u0e35\\u0e19\", \"\\u0e42\\u0e1b\\u0e23\\u0e15\\u0e35\\u0e19\", \"\\u0e42\\u0e1b\\u0e23\\u0e15\\u0e35\\u0e19\", \"\\u0e42\\u0e1b\\u0e23\\u0e15\\u0e35\\u0e19\", \"\\u0e42\\u0e1b\\u0e23\\u0e15\\u0e35\\u0e19\", \"\\u0e42\\u0e1b\\u0e23\\u0e15\\u0e35\\u0e19\", \"\\u0e42\\u0e1b\\u0e23\\u0e15\\u0e35\\u0e19\", \"\\u0e42\\u0e1b\\u0e23\\u0e42\\u0e21\\u0e0a\\u0e31\\u0e48\\u0e19\", \"\\u0e42\\u0e1b\\u0e23\\u0e42\\u0e21\\u0e0a\\u0e31\\u0e48\\u0e19\", \"\\u0e42\\u0e1b\\u0e23\\u0e42\\u0e21\\u0e0a\\u0e31\\u0e48\\u0e19\", \"\\u0e42\\u0e1b\\u0e23\\u0e42\\u0e21\\u0e0a\\u0e31\\u0e48\\u0e19\", \"\\u0e42\\u0e20\\u0e0a\\u0e19\\u0e32\\u0e01\\u0e32\\u0e23\", \"\\u0e42\\u0e20\\u0e0a\\u0e19\\u0e32\\u0e01\\u0e32\\u0e23\", \"\\u0e42\\u0e20\\u0e0a\\u0e19\\u0e32\\u0e01\\u0e32\\u0e23\", \"\\u0e42\\u0e20\\u0e0a\\u0e19\\u0e32\\u0e01\\u0e32\\u0e23\", \"\\u0e42\\u0e20\\u0e0a\\u0e19\\u0e32\\u0e01\\u0e32\\u0e23\", \"\\u0e42\\u0e20\\u0e0a\\u0e19\\u0e32\\u0e01\\u0e32\\u0e23\", \"\\u0e42\\u0e20\\u0e0a\\u0e19\\u0e32\\u0e01\\u0e32\\u0e23\", \"\\u0e42\\u0e20\\u0e0a\\u0e19\\u0e32\\u0e01\\u0e32\\u0e23\", \"\\u0e42\\u0e23\\u0e07\\u0e40\\u0e23\\u0e35\\u0e22\\u0e19\", \"\\u0e42\\u0e23\\u0e07\\u0e40\\u0e23\\u0e35\\u0e22\\u0e19\", \"\\u0e42\\u0e23\\u0e07\\u0e40\\u0e23\\u0e35\\u0e22\\u0e19\", \"\\u0e42\\u0e23\\u0e07\\u0e40\\u0e23\\u0e35\\u0e22\\u0e19\", \"\\u0e42\\u0e23\\u0e07\\u0e40\\u0e23\\u0e35\\u0e22\\u0e19\", \"\\u0e42\\u0e23\\u0e07\\u0e40\\u0e23\\u0e35\\u0e22\\u0e19\", \"\\u0e42\\u0e23\\u0e07\\u0e40\\u0e23\\u0e35\\u0e22\\u0e19\", \"\\u0e42\\u0e2d\\u0e40\\u0e21\\u0e01\\u0e49\\u0e32\", \"\\u0e42\\u0e2d\\u0e40\\u0e21\\u0e01\\u0e49\\u0e32\", \"\\u0e44\\u0e02\\u0e21\\u0e31\\u0e19\", \"\\u0e44\\u0e02\\u0e21\\u0e31\\u0e19\", \"\\u0e44\\u0e02\\u0e21\\u0e31\\u0e19\", \"\\u0e44\\u0e02\\u0e21\\u0e31\\u0e19\", \"\\u0e44\\u0e02\\u0e21\\u0e31\\u0e19\", \"\\u0e44\\u0e02\\u0e21\\u0e31\\u0e19\", \"\\u0e44\\u0e02\\u0e21\\u0e31\\u0e19\", \"\\u0e44\\u0e02\\u0e21\\u0e31\\u0e19\", \"\\u0e44\\u0e21\\u0e42\\u0e04\\u0e23\\u0e40\\u0e27\\u0e1f\", \"\\u0e44\\u0e21\\u0e42\\u0e04\\u0e23\\u0e40\\u0e27\\u0e1f\", \"\\u0e44\\u0e21\\u0e42\\u0e04\\u0e23\\u0e40\\u0e27\\u0e1f\", \"\\u0e44\\u0e21\\u0e42\\u0e04\\u0e23\\u0e40\\u0e27\\u0e1f\", \"\\u0e44\\u0e21\\u0e42\\u0e04\\u0e23\\u0e40\\u0e27\\u0e1f\", \"\\u0e44\\u0e2d\\u0e42\\u0e2d\\u0e14\\u0e35\\u0e19\"]}, \"R\": 40, \"lambda.step\": 0.1, \"plot.opts\": {\"xlab\": \"PC1\", \"ylab\": \"PC2\"}, \"topic.order\": [4, 7, 6, 2, 8, 5, 3, 1]};\n",
       "\n",
       "function LDAvis_load_lib(url, callback){\n",
       "  var s = document.createElement('script');\n",
       "  s.src = url;\n",
       "  s.async = true;\n",
       "  s.onreadystatechange = s.onload = callback;\n",
       "  s.onerror = function(){console.warn(\"failed to load library \" + url);};\n",
       "  document.getElementsByTagName(\"head\")[0].appendChild(s);\n",
       "}\n",
       "\n",
       "if(typeof(LDAvis) !== \"undefined\"){\n",
       "   // already loaded: just create the visualization\n",
       "   !function(LDAvis){\n",
       "       new LDAvis(\"#\" + \"ldavis_el147002332770806904873257095\", ldavis_el147002332770806904873257095_data);\n",
       "   }(LDAvis);\n",
       "}else if(typeof define === \"function\" && define.amd){\n",
       "   // require.js is available: use it to load d3/LDAvis\n",
       "   require.config({paths: {d3: \"https://cdnjs.cloudflare.com/ajax/libs/d3/3.5.5/d3.min\"}});\n",
       "   require([\"d3\"], function(d3){\n",
       "      window.d3 = d3;\n",
       "      LDAvis_load_lib(\"https://cdn.rawgit.com/bmabey/pyLDAvis/files/ldavis.v1.0.0.js\", function(){\n",
       "        new LDAvis(\"#\" + \"ldavis_el147002332770806904873257095\", ldavis_el147002332770806904873257095_data);\n",
       "      });\n",
       "    });\n",
       "}else{\n",
       "    // require.js not available: dynamically load d3 & LDAvis\n",
       "    LDAvis_load_lib(\"https://cdnjs.cloudflare.com/ajax/libs/d3/3.5.5/d3.min.js\", function(){\n",
       "         LDAvis_load_lib(\"https://cdn.rawgit.com/bmabey/pyLDAvis/files/ldavis.v1.0.0.js\", function(){\n",
       "                 new LDAvis(\"#\" + \"ldavis_el147002332770806904873257095\", ldavis_el147002332770806904873257095_data);\n",
       "            })\n",
       "         });\n",
       "}\n",
       "</script>"
      ],
      "text/plain": [
       "PreparedData(topic_coordinates=              x         y  topics  cluster       Freq\n",
       "topic                                                \n",
       "3      0.134860  0.053554       1        1  15.984947\n",
       "6     -0.070012 -0.108106       2        1  14.436849\n",
       "5      0.198562  0.030683       3        1  14.215060\n",
       "1      0.058286 -0.135862       4        1  12.302231\n",
       "7     -0.013085  0.098699       5        1  12.103843\n",
       "4      0.052729 -0.090199       6        1  10.835450\n",
       "2     -0.106729  0.213603       7        1  10.619180\n",
       "0     -0.254612 -0.062372       8        1   9.502440, topic_info=        Term         Freq        Total Category  logprob  loglift\n",
       "20       ชอบ  3535.000000  3535.000000  Default  40.0000  40.0000\n",
       "70       แม่  2053.000000  2053.000000  Default  39.0000  39.0000\n",
       "11      ซื้อ  3056.000000  3056.000000  Default  38.0000  38.0000\n",
       "74       ลูก  2938.000000  2938.000000  Default  37.0000  37.0000\n",
       "61     กล่อง  1846.000000  1846.000000  Default  36.0000  36.0000\n",
       "..       ...          ...          ...      ...      ...      ...\n",
       "38   ส่วนผสม    24.633093   267.856095   Topic8  -5.3991  -0.0327\n",
       "53     กินนม    31.316679   911.061310   Topic8  -5.1591  -1.0168\n",
       "11      ซื้อ    26.679397  3056.685392   Topic8  -5.3193  -2.3876\n",
       "0   7-Eleven    26.286363   721.239155   Topic8  -5.3342  -0.9583\n",
       "20       ชอบ    24.877558  3535.100928   Topic8  -5.3893  -2.6029\n",
       "\n",
       "[477 rows x 6 columns], token_table=      Topic      Freq      Term\n",
       "term                           \n",
       "0         1  0.023571  7-Eleven\n",
       "0         2  0.061006  7-Eleven\n",
       "0         3  0.085963  7-Eleven\n",
       "0         4  0.761190  7-Eleven\n",
       "0         5  0.011092  7-Eleven\n",
       "...     ...       ...       ...\n",
       "105       5  0.109668  ไมโครเวฟ\n",
       "105       6  0.007833  ไมโครเวฟ\n",
       "105       7  0.156669  ไมโครเวฟ\n",
       "105       8  0.705009  ไมโครเวฟ\n",
       "155       7  0.900719   ไอโอดีน\n",
       "\n",
       "[847 rows x 3 columns], R=40, lambda_step=0.1, plot_opts={'xlab': 'PC1', 'ylab': 'PC2'}, topic_order=[4, 7, 6, 2, 8, 5, 3, 1])"
      ]
     },
     "execution_count": 46,
     "metadata": {},
     "output_type": "execute_result"
    }
   ],
   "source": [
    "pyLDAvis.gensim.prepare(model, gensim_corpus, dictionary, R=40, lambda_step=0.1)"
   ]
  },
  {
   "cell_type": "markdown",
   "metadata": {},
   "source": [
    "https://radimrehurek.com/gensim/models/ldamodel.html"
   ]
  },
  {
   "cell_type": "raw",
   "metadata": {},
   "source": [
    "#Get the most relevant topics to the given word.\n",
    "# Set probability = 0.0001\n",
    "\n",
    "def get_terms_topics(term_text, d, model, minProb=0.0001):\n",
    "    listofTup = []\n",
    "    for tt_couple in model.get_term_topics(dictionary.token2id[term_text], minimum_probability=minProb):\n",
    "        id_, prob = tt_couple\n",
    "        listofTup.append((d[id_], prob))\n",
    "    df = pd.DataFrame(listofTup)\n",
    "    df.insert(0,'Term',value=term_text)\n",
    "    df.columns = ['Term','topic','prob']\n",
    "    return df.sort_values(by='prob', ascending=False)"
   ]
  },
  {
   "cell_type": "raw",
   "metadata": {},
   "source": [
    "#Get the most relevant topics to the given word.\n",
    "# Set probability = 0.0001\n",
    "\n",
    "def get_topics_terms(topic, d, model, minProb=0.0001):\n",
    "    listofTup = []\n",
    "    for tt_couple in model.get_topic_terms(topic,topn=30):\n",
    "        id_, prob = tt_couple\n",
    "        listofTup.append((d[id_], prob))\n",
    "    df = pd.DataFrame(listofTup)\n",
    "    df.insert(0,'Topic',value=d[topic])\n",
    "    df.columns = ['Topic','term','prob']\n",
    "    return df.sort_values(by='prob', ascending=False)"
   ]
  },
  {
   "cell_type": "raw",
   "metadata": {
    "scrolled": true
   },
   "source": [
    "# องค์ประกอบพื้นฐาน ตาม master ที่ใช้ตัดคำ และ Generalized\n",
    "#get_terms_topics('ซื้อ',dictionary,model)\n",
    "#get_terms_topics('ขาย',dictionary,model)\n",
    "\n",
    "# ไล่เช็คทีละ Topic โดยเลือกจาก Top30 Prob แต่ละกลุ่ม และดูตัวที่สนใจ (ตามทบทวนวรรณกรรม)\n",
    "# สุดที่ 99 กลุ่ม\n",
    "#get_topics_terms(99,dictionary,model).head(3)"
   ]
  }
 ],
 "metadata": {
  "colab": {
   "collapsed_sections": [
    "EpwX95XlTCdl",
    "_Q9pU1J6TCe5",
    "NKW--A73mzli",
    "uBBA36fDTCfZ",
    "O8nlNNE4TCfj"
   ],
   "name": "EDA_Token_CoocMat.ipynb",
   "provenance": []
  },
  "kernelspec": {
   "display_name": "Python 3",
   "language": "python",
   "name": "python3"
  },
  "language_info": {
   "codemirror_mode": {
    "name": "ipython",
    "version": 3
   },
   "file_extension": ".py",
   "mimetype": "text/x-python",
   "name": "python",
   "nbconvert_exporter": "python",
   "pygments_lexer": "ipython3",
   "version": "3.7.3"
  }
 },
 "nbformat": 4,
 "nbformat_minor": 1
}
