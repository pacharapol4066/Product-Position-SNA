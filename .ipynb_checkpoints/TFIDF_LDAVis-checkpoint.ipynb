{
 "cells": [
  {
   "cell_type": "markdown",
   "metadata": {
    "id": "xoY8sy40TCb5"
   },
   "source": [
    "### IS - Brand position\n",
    "Finding Product position on Social Network (PPSN)"
   ]
  },
  {
   "cell_type": "raw",
   "metadata": {
    "colab": {
     "base_uri": "https://localhost:8080/"
    },
    "executionInfo": {
     "elapsed": 28353,
     "status": "ok",
     "timestamp": 1604024868503,
     "user": {
      "displayName": "Pacharapol O.",
      "photoUrl": "https://lh3.googleusercontent.com/a-/AOh14GiBNaVjsCxoMVUqEvSDC7eauF0V2ZD7B-TzevR1TQ=s64",
      "userId": "00378494490135533545"
     },
     "user_tz": -420
    },
    "id": "GkBEUBUqTGuf",
    "outputId": "cb22db45-820a-48fd-c11a-a0568439778f"
   },
   "source": [
    "from google.colab import drive\n",
    "drive.mount('/content/drive')"
   ]
  },
  {
   "cell_type": "raw",
   "metadata": {
    "colab": {
     "base_uri": "https://localhost:8080/"
    },
    "executionInfo": {
     "elapsed": 1693,
     "status": "ok",
     "timestamp": 1604024868819,
     "user": {
      "displayName": "Pacharapol O.",
      "photoUrl": "https://lh3.googleusercontent.com/a-/AOh14GiBNaVjsCxoMVUqEvSDC7eauF0V2ZD7B-TzevR1TQ=s64",
      "userId": "00378494490135533545"
     },
     "user_tz": -420
    },
    "id": "_5mrzpx3TH9K",
    "outputId": "129bb192-4ac2-4b03-bc89-7ee7a65d5032"
   },
   "source": [
    "cd /content/drive/My\\ Drive/Colab\\ Notebooks/Master_PJ_DRMABS/Datasource"
   ]
  },
  {
   "cell_type": "code",
   "execution_count": 1,
   "metadata": {
    "executionInfo": {
     "elapsed": 2631,
     "status": "ok",
     "timestamp": 1604024879769,
     "user": {
      "displayName": "Pacharapol O.",
      "photoUrl": "https://lh3.googleusercontent.com/a-/AOh14GiBNaVjsCxoMVUqEvSDC7eauF0V2ZD7B-TzevR1TQ=s64",
      "userId": "00378494490135533545"
     },
     "user_tz": -420
    },
    "id": "cC0cBdCdTCb6"
   },
   "outputs": [],
   "source": [
    "import networkx as nx\n",
    "import numpy as np\n",
    "import pandas as pd\n",
    "import itertools\n",
    "import math\n",
    "import string\n",
    "import json\n",
    "import pymongo\n",
    "from itertools import groupby"
   ]
  },
  {
   "cell_type": "code",
   "execution_count": 2,
   "metadata": {},
   "outputs": [
    {
     "name": "stderr",
     "output_type": "stream",
     "text": [
      "C:\\ProgramData\\Anaconda3\\lib\\site-packages\\past\\types\\oldstr.py:5: DeprecationWarning: Using or importing the ABCs from 'collections' instead of from 'collections.abc' is deprecated, and in 3.8 it will stop working\n",
      "  from collections import Iterable\n",
      "C:\\ProgramData\\Anaconda3\\lib\\site-packages\\_pytest\\mark\\structures.py:378: DeprecationWarning: The usage of `cmp` is deprecated and will be removed on or after 2021-06-01.  Please use `eq` and `order` instead.\n",
      "  @attr.s(cmp=False, hash=False)\n"
     ]
    }
   ],
   "source": [
    "import gensim\n",
    "import pyLDAvis.gensim\n",
    "pyLDAvis.enable_notebook()\n",
    "\n",
    "import warnings\n",
    "warnings.filterwarnings(\"ignore\", category=DeprecationWarning)\n",
    "warnings.filterwarnings(\"ignore\", category=pd.core.common.SettingWithCopyWarning)"
   ]
  },
  {
   "cell_type": "code",
   "execution_count": 3,
   "metadata": {
    "executionInfo": {
     "elapsed": 2031,
     "status": "ok",
     "timestamp": 1604024879770,
     "user": {
      "displayName": "Pacharapol O.",
      "photoUrl": "https://lh3.googleusercontent.com/a-/AOh14GiBNaVjsCxoMVUqEvSDC7eauF0V2ZD7B-TzevR1TQ=s64",
      "userId": "00378494490135533545"
     },
     "user_tz": -420
    },
    "id": "1kqXURiiTCb-"
   },
   "outputs": [],
   "source": [
    "import time\n",
    "from datetime import datetime\n",
    "today = datetime.now()"
   ]
  },
  {
   "cell_type": "code",
   "execution_count": 4,
   "metadata": {},
   "outputs": [
    {
     "name": "stderr",
     "output_type": "stream",
     "text": [
      "C:\\ProgramData\\Anaconda3\\lib\\site-packages\\statsmodels\\tools\\_testing.py:19: FutureWarning: pandas.util.testing is deprecated. Use the functions in the public API at pandas.testing instead.\n",
      "  import pandas.util.testing as tm\n"
     ]
    }
   ],
   "source": [
    "import statistics as stat\n",
    "import matplotlib.pyplot as plt\n",
    "import seaborn as sns"
   ]
  },
  {
   "cell_type": "code",
   "execution_count": 5,
   "metadata": {
    "executionInfo": {
     "elapsed": 6121,
     "status": "ok",
     "timestamp": 1604024888335,
     "user": {
      "displayName": "Pacharapol O.",
      "photoUrl": "https://lh3.googleusercontent.com/a-/AOh14GiBNaVjsCxoMVUqEvSDC7eauF0V2ZD7B-TzevR1TQ=s64",
      "userId": "00378494490135533545"
     },
     "user_tz": -420
    },
    "id": "acWWFhczTCcO"
   },
   "outputs": [],
   "source": [
    "from bs4 import BeautifulSoup\n",
    "from urllib.request import urlopen"
   ]
  },
  {
   "cell_type": "code",
   "execution_count": 6,
   "metadata": {
    "executionInfo": {
     "elapsed": 5596,
     "status": "ok",
     "timestamp": 1604024888336,
     "user": {
      "displayName": "Pacharapol O.",
      "photoUrl": "https://lh3.googleusercontent.com/a-/AOh14GiBNaVjsCxoMVUqEvSDC7eauF0V2ZD7B-TzevR1TQ=s64",
      "userId": "00378494490135533545"
     },
     "user_tz": -420
    },
    "id": "l0SZe4-LTCcd"
   },
   "outputs": [],
   "source": [
    "from IPython.display import clear_output"
   ]
  },
  {
   "cell_type": "code",
   "execution_count": 7,
   "metadata": {},
   "outputs": [],
   "source": [
    "# Connect MongoDB\n",
    "myclient = pymongo.MongoClient(\"mongodb://localhost:27017/\")\n",
    "mydb = myclient[\"NIDA_PPSN_PRD\"]\n",
    "col_thread = mydb[\"NIDA_PPSN_THREAD\"]\n",
    "col_comment = mydb[\"NIDA_PPSN_COMMENT\"]"
   ]
  },
  {
   "cell_type": "code",
   "execution_count": 8,
   "metadata": {},
   "outputs": [],
   "source": [
    "def reduced_keyword(wtkn,redCol):\n",
    "    del_list = []\n",
    "    ret_wtkn = wtkn\n",
    "    for each in ret_wtkn:\n",
    "        if each not in redCol:\n",
    "            del_list.append(each)\n",
    "    ret_wtkn = [x for x in ret_wtkn if x not in del_list]\n",
    "    return ret_wtkn"
   ]
  },
  {
   "cell_type": "markdown",
   "metadata": {},
   "source": [
    "### 3.Process หัวกระทู้เพื่อดึง Domain (Brand & Product) ไม่ใช้โมเดลเทรนแล้วทำนาย ต้องการความถูกต้อง 100%"
   ]
  },
  {
   "cell_type": "code",
   "execution_count": 9,
   "metadata": {},
   "outputs": [],
   "source": [
    "cursor_thread = col_thread.find()\n",
    "df_thr_process = pd.DataFrame(cursor_thread)"
   ]
  },
  {
   "cell_type": "code",
   "execution_count": 10,
   "metadata": {},
   "outputs": [],
   "source": [
    "cursor_comment = col_comment.find()\n",
    "df_cmt_process = pd.DataFrame(cursor_comment)"
   ]
  },
  {
   "cell_type": "code",
   "execution_count": 11,
   "metadata": {},
   "outputs": [],
   "source": [
    "# จริงๆต้องใช้เงื่อนไข t_mention_brand.str.len() != 0 และ t_mention_dairy.str.len() != 0\n",
    "df_urls_milk = df_thr_process[(df_thr_process.t_mention_brand.str.len() != 0) | (df_thr_process.t_mention_dairy.str.len() != 0)]\n",
    "df_urls_milk['t_mention_brand'] = df_urls_milk['t_mention_brand'].apply(lambda x: repr(set(x)))\n",
    "df_urls_milk['t_mention_product'] = df_urls_milk['t_mention_product'].apply(lambda x: repr(set(x)))"
   ]
  },
  {
   "cell_type": "code",
   "execution_count": 12,
   "metadata": {
    "scrolled": true
   },
   "outputs": [],
   "source": [
    "df_join_url = pd.merge(df_urls_milk,df_cmt_process,how='inner',on='URLs')"
   ]
  },
  {
   "cell_type": "code",
   "execution_count": 13,
   "metadata": {},
   "outputs": [],
   "source": [
    "df_join_url.drop(columns=['_id_x','_id_y','headline_x'],inplace=True)"
   ]
  },
  {
   "cell_type": "code",
   "execution_count": 14,
   "metadata": {},
   "outputs": [],
   "source": [
    "#df_join_url = pd.merge(df_urls_milk,df_cmt_process,how='inner',on='URLs')\n",
    "#df_join_url.drop(columns=['_id_x','_id_y','headline_x'],inplace=True)\n",
    "df_join_url.columns = ['URLs','token_headline','t_mention_dairy','t_mention_product','t_mention_brand'\n",
    "                       ,'commentId','headline','text','Retrived_date','token_text','cmt_mention_dairy'\n",
    "                       ,'cmt_mention_product','cmt_mention_brand']"
   ]
  },
  {
   "cell_type": "code",
   "execution_count": 15,
   "metadata": {},
   "outputs": [
    {
     "data": {
      "text/html": [
       "<div>\n",
       "<style scoped>\n",
       "    .dataframe tbody tr th:only-of-type {\n",
       "        vertical-align: middle;\n",
       "    }\n",
       "\n",
       "    .dataframe tbody tr th {\n",
       "        vertical-align: top;\n",
       "    }\n",
       "\n",
       "    .dataframe thead th {\n",
       "        text-align: right;\n",
       "    }\n",
       "</style>\n",
       "<table border=\"1\" class=\"dataframe\">\n",
       "  <thead>\n",
       "    <tr style=\"text-align: right;\">\n",
       "      <th></th>\n",
       "      <th>URLs</th>\n",
       "      <th>token_headline</th>\n",
       "      <th>t_mention_dairy</th>\n",
       "      <th>t_mention_product</th>\n",
       "      <th>t_mention_brand</th>\n",
       "      <th>commentId</th>\n",
       "      <th>headline</th>\n",
       "      <th>text</th>\n",
       "      <th>Retrived_date</th>\n",
       "      <th>token_text</th>\n",
       "      <th>cmt_mention_dairy</th>\n",
       "      <th>cmt_mention_product</th>\n",
       "      <th>cmt_mention_brand</th>\n",
       "    </tr>\n",
       "  </thead>\n",
       "  <tbody>\n",
       "    <tr>\n",
       "      <th>0</th>\n",
       "      <td>https://pantip.com/topic/39868603</td>\n",
       "      <td>[นม, เมจิ, รสหวาน, หา]</td>\n",
       "      <td>[นม]</td>\n",
       "      <td>{'รสหวาน'}</td>\n",
       "      <td>{'เมจิ'}</td>\n",
       "      <td>1</td>\n",
       "      <td>นมเมจิรสหวานทำไมหายากจังคะ</td>\n",
       "      <td>เมื่อก่อนหลายปีมาแล้ว ในเซเว่นยังมีนมเมจิรสหวา...</td>\n",
       "      <td>2020-11-29 00:13:26.571</td>\n",
       "      <td>[ปี, 7-Eleven, ยังมี, นม, เมจิ, รสหวาน, ขาย, อ...</td>\n",
       "      <td>[นม, นม]</td>\n",
       "      <td>[รสหวาน, รสหวาน]</td>\n",
       "      <td>[เมจิ]</td>\n",
       "    </tr>\n",
       "    <tr>\n",
       "      <th>1</th>\n",
       "      <td>https://pantip.com/topic/39868603</td>\n",
       "      <td>[นม, เมจิ, รสหวาน, หา]</td>\n",
       "      <td>[นม]</td>\n",
       "      <td>{'รสหวาน'}</td>\n",
       "      <td>{'เมจิ'}</td>\n",
       "      <td>2</td>\n",
       "      <td>นมเมจิรสหวานทำไมหายากจังคะ</td>\n",
       "      <td>เบาหวานครับ แฮ่ๆ</td>\n",
       "      <td>2020-11-29 00:13:26.571</td>\n",
       "      <td>[เบาหวาน]</td>\n",
       "      <td>[]</td>\n",
       "      <td>[]</td>\n",
       "      <td>[]</td>\n",
       "    </tr>\n",
       "    <tr>\n",
       "      <th>2</th>\n",
       "      <td>https://pantip.com/topic/39868603</td>\n",
       "      <td>[นม, เมจิ, รสหวาน, หา]</td>\n",
       "      <td>[นม]</td>\n",
       "      <td>{'รสหวาน'}</td>\n",
       "      <td>{'เมจิ'}</td>\n",
       "      <td>3</td>\n",
       "      <td>นมเมจิรสหวานทำไมหายากจังคะ</td>\n",
       "      <td>หาซื้อไม่ได้นี่คิดได้  2 อย่างนะ.    คนไม่ค่อย...</td>\n",
       "      <td>2020-11-29 00:13:26.571</td>\n",
       "      <td>[หา, ซื้อไม่ได้, คิดได้, , คน, กินกัน, ไม่, ทำ...</td>\n",
       "      <td>[]</td>\n",
       "      <td>[รสหวาน]</td>\n",
       "      <td>[]</td>\n",
       "    </tr>\n",
       "  </tbody>\n",
       "</table>\n",
       "</div>"
      ],
      "text/plain": [
       "                                URLs          token_headline t_mention_dairy  \\\n",
       "0  https://pantip.com/topic/39868603  [นม, เมจิ, รสหวาน, หา]            [นม]   \n",
       "1  https://pantip.com/topic/39868603  [นม, เมจิ, รสหวาน, หา]            [นม]   \n",
       "2  https://pantip.com/topic/39868603  [นม, เมจิ, รสหวาน, หา]            [นม]   \n",
       "\n",
       "  t_mention_product t_mention_brand  commentId                    headline  \\\n",
       "0        {'รสหวาน'}        {'เมจิ'}          1  นมเมจิรสหวานทำไมหายากจังคะ   \n",
       "1        {'รสหวาน'}        {'เมจิ'}          2  นมเมจิรสหวานทำไมหายากจังคะ   \n",
       "2        {'รสหวาน'}        {'เมจิ'}          3  นมเมจิรสหวานทำไมหายากจังคะ   \n",
       "\n",
       "                                                text           Retrived_date  \\\n",
       "0  เมื่อก่อนหลายปีมาแล้ว ในเซเว่นยังมีนมเมจิรสหวา... 2020-11-29 00:13:26.571   \n",
       "1                                   เบาหวานครับ แฮ่ๆ 2020-11-29 00:13:26.571   \n",
       "2  หาซื้อไม่ได้นี่คิดได้  2 อย่างนะ.    คนไม่ค่อย... 2020-11-29 00:13:26.571   \n",
       "\n",
       "                                          token_text cmt_mention_dairy  \\\n",
       "0  [ปี, 7-Eleven, ยังมี, นม, เมจิ, รสหวาน, ขาย, อ...          [นม, นม]   \n",
       "1                                          [เบาหวาน]                []   \n",
       "2  [หา, ซื้อไม่ได้, คิดได้, , คน, กินกัน, ไม่, ทำ...                []   \n",
       "\n",
       "  cmt_mention_product cmt_mention_brand  \n",
       "0    [รสหวาน, รสหวาน]            [เมจิ]  \n",
       "1                  []                []  \n",
       "2            [รสหวาน]                []  "
      ]
     },
     "execution_count": 15,
     "metadata": {},
     "output_type": "execute_result"
    }
   ],
   "source": [
    "df_join_url.head(3)"
   ]
  },
  {
   "cell_type": "markdown",
   "metadata": {},
   "source": [
    "EDA#2"
   ]
  },
  {
   "cell_type": "code",
   "execution_count": 16,
   "metadata": {},
   "outputs": [
    {
     "name": "stderr",
     "output_type": "stream",
     "text": [
      "C:\\ProgramData\\Anaconda3\\lib\\site-packages\\ipykernel_launcher.py:2: UserWarning: Pandas doesn't allow columns to be created via a new attribute name - see https://pandas.pydata.org/pandas-docs/stable/indexing.html#attribute-access\n",
      "  \n"
     ]
    }
   ],
   "source": [
    "df_view = df_urls_milk[['URLs','t_mention_product']]\n",
    "df_view.column = ['URLs','t_mention_product']\n",
    "df_view_count = df_view.groupby('t_mention_product').count()"
   ]
  },
  {
   "cell_type": "code",
   "execution_count": 17,
   "metadata": {},
   "outputs": [],
   "source": [
    "df_c_urls_milk = df_cmt_process[(df_cmt_process.cmt_mention_brand.str.len() != 0) | (df_cmt_process.cmt_mention_product.str.len() != 0)]\n",
    "df_c_urls_milk['cmt_mention_brand'] = df_c_urls_milk['cmt_mention_brand'].apply(lambda x: repr(set(x)))\n",
    "df_c_urls_milk['cmt_mention_product'] = df_c_urls_milk['cmt_mention_product'].apply(lambda x: repr(set(x)))"
   ]
  },
  {
   "cell_type": "code",
   "execution_count": 18,
   "metadata": {},
   "outputs": [
    {
     "name": "stderr",
     "output_type": "stream",
     "text": [
      "C:\\ProgramData\\Anaconda3\\lib\\site-packages\\ipykernel_launcher.py:2: UserWarning: Pandas doesn't allow columns to be created via a new attribute name - see https://pandas.pydata.org/pandas-docs/stable/indexing.html#attribute-access\n",
      "  \n"
     ]
    }
   ],
   "source": [
    "df_view2 = df_c_urls_milk[['URLs','cmt_mention_product']]\n",
    "df_view2.column = ['URLs','cmt_mention_product']\n",
    "df_view_count2 = df_view2.groupby('cmt_mention_product').count()"
   ]
  },
  {
   "cell_type": "code",
   "execution_count": 20,
   "metadata": {},
   "outputs": [
    {
     "name": "stdout",
     "output_type": "stream",
     "text": [
      "จำนวนกระทู้ 1515\n",
      "จำนวน comment 62710\n",
      "จำนวนกระทู้พูดถึง brand หรือ มีนมเกี่ยวข้อง อย่างใดอย่างหนึ่ง 467\n",
      "จำนวนกระทู้มีระบุตัว product 52\n",
      "จำนวน comment พูดถึง brand หรือมีนมเกี่ยวข้องง อย่างใดอย่างหนึ่ง 5220\n",
      "จำนวน comment มีระบุตัว product 2449\n",
      "odd product/นม กระทู้ 0.11\n",
      "odd product/นม comment 0.47\n",
      "หมายเหตุ : ไม่ได้ impute ขั้วกระทู้เข้า comment\n"
     ]
    }
   ],
   "source": [
    "print('จำนวนกระทู้',df_thr_process.shape[0])\n",
    "print('จำนวน comment',df_cmt_process.shape[0])\n",
    "print('จำนวนกระทู้พูดถึง brand หรือ มีนมเกี่ยวข้อง อย่างใดอย่างหนึ่ง',df_urls_milk.shape[0])\n",
    "print('จำนวนกระทู้มีระบุตัว product',df_view[(df_view.t_mention_product!=\"{'นม'}\")&(df_view.t_mention_product!=\"set()\")].shape[0])\n",
    "print('จำนวน comment พูดถึง brand หรือมีนมเกี่ยวข้องง อย่างใดอย่างหนึ่ง',df_c_urls_milk.shape[0])\n",
    "print('จำนวน comment มีระบุตัว product',df_view2[(df_view2.cmt_mention_product!=\"{'นม'}\")&(df_view2.cmt_mention_product!=\"set()\")].shape[0])\n",
    "print('odd product/นม กระทู้',round(df_view[(df_view.t_mention_product!=\"{'นม'}\")&(df_view.t_mention_product!=\"set()\")].shape[0]/df_urls_milk.shape[0],2))\n",
    "print('odd product/นม comment',round(df_view2[(df_view2.cmt_mention_product!=\"{'นม'}\")&(df_view2.cmt_mention_product!=\"set()\")].shape[0]/df_c_urls_milk.shape[0],2))\n",
    "print('หมายเหตุ : ไม่ได้ impute ขั้วกระทู้เข้า comment')"
   ]
  },
  {
   "cell_type": "markdown",
   "metadata": {},
   "source": [
    "จาก Issue นี้จะพบว่าทำ Product position ได้ยาก แต่ทำ Brand position แทนได้ เนื่องจากสัดส่วนของข้อความที่มีการพูดถึง brand+flavor \n",
    "มีน้อยกว่าครึ่ง จึงให้ใช้วิธีเอา brand ของหัวกระทู้แปะไปในทุก comment แทน เพื่อทำ Brand Position ส่วน flavor จะกลายเป็น attribute ไป"
   ]
  },
  {
   "cell_type": "code",
   "execution_count": 21,
   "metadata": {
    "scrolled": true
   },
   "outputs": [
    {
     "data": {
      "text/html": [
       "<div>\n",
       "<style scoped>\n",
       "    .dataframe tbody tr th:only-of-type {\n",
       "        vertical-align: middle;\n",
       "    }\n",
       "\n",
       "    .dataframe tbody tr th {\n",
       "        vertical-align: top;\n",
       "    }\n",
       "\n",
       "    .dataframe thead th {\n",
       "        text-align: right;\n",
       "    }\n",
       "</style>\n",
       "<table border=\"1\" class=\"dataframe\">\n",
       "  <thead>\n",
       "    <tr style=\"text-align: right;\">\n",
       "      <th></th>\n",
       "      <th>URLs</th>\n",
       "    </tr>\n",
       "    <tr>\n",
       "      <th>cmt_mention_product</th>\n",
       "      <th></th>\n",
       "    </tr>\n",
       "  </thead>\n",
       "  <tbody>\n",
       "    <tr>\n",
       "      <th>set()</th>\n",
       "      <td>2771</td>\n",
       "    </tr>\n",
       "    <tr>\n",
       "      <th>{'ช็อกโกแลต'}</th>\n",
       "      <td>356</td>\n",
       "    </tr>\n",
       "    <tr>\n",
       "      <th>{'รสจืด'}</th>\n",
       "      <td>320</td>\n",
       "    </tr>\n",
       "    <tr>\n",
       "      <th>{'ไขมันต่ำ'}</th>\n",
       "      <td>203</td>\n",
       "    </tr>\n",
       "    <tr>\n",
       "      <th>{'รสหวาน'}</th>\n",
       "      <td>154</td>\n",
       "    </tr>\n",
       "    <tr>\n",
       "      <th>...</th>\n",
       "      <td>...</td>\n",
       "    </tr>\n",
       "    <tr>\n",
       "      <th>{'รสธรรมชาติ', 'ไขมัน 0%', 'ไขมันต่ำ'}</th>\n",
       "      <td>1</td>\n",
       "    </tr>\n",
       "    <tr>\n",
       "      <th>{'รสธรรมชาติ', 'ไขมัน 0%', 'บัลแกเรีย', 'ไขมันต่ำ'}</th>\n",
       "      <td>1</td>\n",
       "    </tr>\n",
       "    <tr>\n",
       "      <th>{'รสจืด', 'สตรอว์เบอร์รี', 'ไขมันต่ำ'}</th>\n",
       "      <td>1</td>\n",
       "    </tr>\n",
       "    <tr>\n",
       "      <th>{'รสจืด', 'รสกลมกล่อม'}</th>\n",
       "      <td>1</td>\n",
       "    </tr>\n",
       "    <tr>\n",
       "      <th>{'รสหวาน', 'ช็อกโกแลต', 'สตรอว์เบอร์รี'}</th>\n",
       "      <td>1</td>\n",
       "    </tr>\n",
       "  </tbody>\n",
       "</table>\n",
       "<p>178 rows × 1 columns</p>\n",
       "</div>"
      ],
      "text/plain": [
       "                                                    URLs\n",
       "cmt_mention_product                                     \n",
       "set()                                               2771\n",
       "{'ช็อกโกแลต'}                                        356\n",
       "{'รสจืด'}                                            320\n",
       "{'ไขมันต่ำ'}                                         203\n",
       "{'รสหวาน'}                                           154\n",
       "...                                                  ...\n",
       "{'รสธรรมชาติ', 'ไขมัน 0%', 'ไขมันต่ำ'}                 1\n",
       "{'รสธรรมชาติ', 'ไขมัน 0%', 'บัลแกเรีย', 'ไขมันต...     1\n",
       "{'รสจืด', 'สตรอว์เบอร์รี', 'ไขมันต่ำ'}                 1\n",
       "{'รสจืด', 'รสกลมกล่อม'}                                1\n",
       "{'รสหวาน', 'ช็อกโกแลต', 'สตรอว์เบอร์รี'}               1\n",
       "\n",
       "[178 rows x 1 columns]"
      ]
     },
     "execution_count": 21,
     "metadata": {},
     "output_type": "execute_result"
    }
   ],
   "source": [
    "df_view_count2.sort_values(by='URLs',ascending=False)"
   ]
  },
  {
   "cell_type": "markdown",
   "metadata": {},
   "source": [
    "###  4. (ยกเลิกแต่เก็บ code) คัดเลือกคำมาเป็น Attribute ด้วย TF-IDF"
   ]
  },
  {
   "cell_type": "code",
   "execution_count": null,
   "metadata": {},
   "outputs": [],
   "source": [
    "#import gensim\n",
    "#from gensim.models import TfidfModel"
   ]
  },
  {
   "cell_type": "code",
   "execution_count": null,
   "metadata": {},
   "outputs": [],
   "source": [
    "# Create Bag of Word & calculate TF-IDF\n",
    "#dictionary = gensim.corpora.Dictionary(df_join_url['token_text'])\n",
    "#gensim_corpus = [dictionary.doc2bow(text, allow_update=True) for text in df_join_url['token_text']]\n",
    "#model = TfidfModel(gensim_corpus)\n",
    "#vector = model[gensim_corpus]\n",
    "#word_frequencies = [[(dictionary[id], tfidf_val) for id, tfidf_val in couple] for couple in vector]"
   ]
  },
  {
   "cell_type": "code",
   "execution_count": null,
   "metadata": {},
   "outputs": [],
   "source": [
    "#for i in range(0,len(word_frequencies)):\n",
    "#    word_frequencies[i].sort(key=lambda tup:(-tup[1], tup[0]))  # SORT LIST of TUPLE DESCENDINGLY\n",
    "#    word_frequencies[i] = word_frequencies[i][:10]   "
   ]
  },
  {
   "cell_type": "code",
   "execution_count": null,
   "metadata": {},
   "outputs": [],
   "source": [
    "# List complehension : get the first element of each tuple in a list\n",
    "# https://www.kite.com/python/answers/how-to-get-the-first-element-of-each-tuple-in-a-list-in-python\n",
    "#first_tuple_elements = [[a for a,tf in couple] for couple in word_frequencies]"
   ]
  },
  {
   "cell_type": "code",
   "execution_count": null,
   "metadata": {},
   "outputs": [],
   "source": [
    "#first_tuple_elements"
   ]
  },
  {
   "cell_type": "markdown",
   "metadata": {},
   "source": [
    "### 4. คัดเลือกคำมาเป็น Attribute ด้วย LDAvis"
   ]
  },
  {
   "cell_type": "markdown",
   "metadata": {},
   "source": [
    "https://radimrehurek.com/gensim/models/ldamodel.html"
   ]
  },
  {
   "cell_type": "code",
   "execution_count": 25,
   "metadata": {},
   "outputs": [],
   "source": [
    "# Create Bag of Word & calculate TF-IDF\n",
    "dictionary = gensim.corpora.Dictionary(df_join_url['token_text'])\n",
    "gensim_corpus = [dictionary.doc2bow(text, allow_update=True) for text in df_join_url['token_text']]"
   ]
  },
  {
   "cell_type": "code",
   "execution_count": 26,
   "metadata": {},
   "outputs": [
    {
     "name": "stdout",
     "output_type": "stream",
     "text": [
      "Wall time: 15.9 s\n"
     ]
    }
   ],
   "source": [
    "num_topics = 8\n",
    "chunksize = 5000                  # size of the doc looked at every pass\n",
    "iterations = 50\n",
    "eval_every = 1                    # Don't evaluate model perplexity, takes too much time.\n",
    "\n",
    "# Make a index to word dictionary.\n",
    "temp = dictionary[0]  # This is only to \"load\" the dictionary.\n",
    "id2word = dictionary.id2token\n",
    "\n",
    "%time model = gensim.models.LdaModel(corpus=gensim_corpus, id2word=id2word, chunksize=chunksize \\\n",
    "                                     ,alpha='auto', eta='auto',iterations=iterations \\\n",
    "                                     ,num_topics=num_topics \\\n",
    "                                     ,eval_every=eval_every)"
   ]
  },
  {
   "cell_type": "code",
   "execution_count": 27,
   "metadata": {},
   "outputs": [
    {
     "data": {
      "text/html": [
       "\n",
       "<link rel=\"stylesheet\" type=\"text/css\" href=\"https://cdn.rawgit.com/bmabey/pyLDAvis/files/ldavis.v1.0.0.css\">\n",
       "\n",
       "\n",
       "<div id=\"ldavis_el315628016842211688463740303\"></div>\n",
       "<script type=\"text/javascript\">\n",
       "\n",
       "var ldavis_el315628016842211688463740303_data = {\"mdsDat\": {\"x\": [-0.03908139933225452, 0.02760561626324177, -0.002741480205838845, -0.008542460106461529, 0.05697419971572032, 0.06601701569911975, -0.08269963314612647, -0.017531858887400737], \"y\": [0.0590285229823298, 0.04052658870188333, 0.030323382457658588, 0.002421270238593154, -0.0029140796758146716, -0.02735206120287478, -0.02263173967116341, -0.07940188383061197], \"topics\": [1, 2, 3, 4, 5, 6, 7, 8], \"cluster\": [1, 1, 1, 1, 1, 1, 1, 1], \"Freq\": [38.430324549178124, 11.916820727553596, 11.595761301782122, 10.952527957588455, 8.781859566334195, 8.533210827169063, 6.000239437891649, 3.78925563250279]}, \"tinfo\": {\"Term\": [\"\\u0e01\\u0e34\\u0e19\", \"\\u0e0a\\u0e2d\\u0e1a\", \"\\u0e14\\u0e37\\u0e48\\u0e21\", \"\\u0e19\\u0e21\", \"\\u0e17\\u0e33\", \"\\u0e2d\\u0e23\\u0e48\\u0e2d\\u0e22\", \"\\u0e44\\u0e21\\u0e48\", \"\\u0e1c\\u0e21\", \"\\u0e44\\u0e14\\u0e49\", \"\\u0e14\\u0e39\", \"\\u0e42\\u0e22\\u0e40\\u0e01\\u0e34\\u0e23\\u0e4c\\u0e15\", \"\", \"\\u0e17\\u0e32\\u0e19\", \"\\u0e23\\u0e2a\", \"\\u0e02\\u0e2d\\u0e1a\\u0e04\\u0e38\\u0e13\", \"\\u0e22\\u0e35\\u0e48\\u0e2b\\u0e49\\u0e2d\", \"\\u0e14\\u0e37\\u0e48\\u0e21\\u0e19\\u0e21\", \"\\u0e42\\u0e1f\\u0e23\\u0e4c\\u0e42\\u0e21\\u0e2a\\u0e15\\u0e4c\", \"\\u0e19\\u0e21\\u0e2a\\u0e14\", \"\\u0e25\\u0e2d\\u0e07\", \"\\u0e2b\\u0e21\\u0e35\", \"\\u0e40\\u0e21\\u0e08\\u0e34\", \"\\u0e43\\u0e2a\\u0e48\", \"\\u0e0b\\u0e37\\u0e49\\u0e2d\", \"\\u0e01\\u0e25\\u0e48\\u0e2d\\u0e07\", \"\\u0e15\\u0e23\\u0e32\", \"\\u0e04\\u0e19\", \"\\u0e25\\u0e39\\u0e01\", \"\\u0e2d\\u0e2d\", \"\\u0e42\\u0e0a\\u0e04\\u0e0a\\u0e31\\u0e22\", \"\\u0e14\\u0e35\", \"\\u0e08\\u0e37\\u0e14\", \"\\u0e14\\u0e31\\u0e0a\\u0e21\\u0e34\\u0e25\\u0e25\\u0e4c\", \"\\u0e2d\\u0e48\\u0e30\", \"\\u0e15\\u0e2d\\u0e19\", \"\\u0e40\\u0e14\\u0e47\\u0e01\", \"\\u0e23\\u0e2a\\u0e0a\\u0e32\\u0e15\\u0e34\", \"\\u0e42\\u0e23\\u0e07\\u0e40\\u0e23\\u0e35\\u0e22\\u0e19\", \"\\u0e44\\u0e17\\u0e22\\u0e40\\u0e14\\u0e19\\u0e21\\u0e32\\u0e23\\u0e4c\\u0e04\", \"\\u0e23\\u0e48\\u0e32\\u0e07\\u0e01\\u0e32\\u0e22\", \"\\u0e41\\u0e19\\u0e19\", \"\\u0e41\\u0e1c\\u0e25\", \"\\u0e1b\\u0e23\\u0e31\\u0e1a\\u0e15\\u0e31\\u0e27\", \"\\u0e25\\u0e33\\u0e44\\u0e2a\\u0e49\\u0e43\\u0e2b\\u0e0d\\u0e48\", \"\\u0e17\\u0e33\\u0e43\\u0e08\", \"\\u0e23\\u0e48\\u0e32\", \"\\u0e2a\\u0e31\\u0e07\\u0e01\\u0e30\\u0e2a\\u0e35\", \"\\u0e1c\\u0e48\\u0e32\", \"\\u0e43\\u0e1a\\u0e40\\u0e2a\\u0e23\\u0e47\\u0e08\", \"\\u0e2d\\u0e19\\u0e32\\u0e04\\u0e15\", \"\\u0e42\\u0e2d\\u0e40\\u0e21\\u0e01\\u0e49\\u0e32\", \"\\u0e23\\u0e33\\u0e04\\u0e32\\u0e0d\", \"\\u0e41\\u0e23\\u0e01\\u0e40\\u0e01\\u0e34\\u0e14\", \"\\u0e27\\u0e34\\u0e40\\u0e28\\u0e29\", \"\\u0e40\\u0e2b\\u0e21\\u0e32\", \"\\u0e40\\u0e14\\u0e47\\u0e01\\u0e41\\u0e23\\u0e01\\u0e40\\u0e01\\u0e34\\u0e14\", \"\\u0e07\\u0e2d\\u0e41\\u0e07\", \"pasteurized\", \"\\u0e17\\u0e4a\\u0e2d\\u0e01\", \"\\u0e41\\u0e15\\u0e48\\u0e07\\u0e07\\u0e32\\u0e19\", \"\\u0e41\\u0e2b\\u0e30\", \"\\u0e1a\\u0e23\\u0e34\\u0e08\\u0e32\\u0e04\", \"\\u0e04\\u0e27\\u0e32\\u0e21\\u0e1d\\u0e31\\u0e19\", \"\\u0e40\\u0e01\\u0e25\\u0e35\\u0e49\\u0e22\\u0e07\", \"\\u0e41\\u0e2a\", \"\\u0e04\\u0e27\\u0e32\\u0e21\\u0e15\\u0e31\\u0e49\\u0e07\\u0e43\\u0e08\", \"\\u0e02\\u0e48\\u0e21\\u0e02\\u0e37\\u0e19\", \"\\u0e15\\u0e31\\u0e27\\u0e1c\\u0e39\\u0e49\", \"\\u0e19\\u0e49\\u0e33\\u0e40\\u0e2b\\u0e25\\u0e37\\u0e2d\\u0e07\", \"\\u0e2d\\u0e22\\u0e48\\u0e32\\u0e07\\u0e27\\u0e48\\u0e32\", \"\\u0e2b\\u0e22\\u0e48\\u0e32\\u0e19\\u0e21\", \"\\u0e40\\u0e04\\u0e25\\u0e21\", \"\\u0e1a\\u0e38\", \"\\u0e40\\u0e2a\\u0e37\\u0e2d\", \"\\u0e42\\u0e23\\u0e07\\u0e1e\\u0e22\\u0e32\\u0e1a\\u0e32\\u0e25\", \"----\", \"\\u0e21\\u0e35\\u0e40\\u0e07\\u0e34\\u0e19\", \"\\u0e21\\u0e35\\u0e40\\u0e2b\\u0e15\\u0e38\\u0e1c\\u0e25\", \"\\u0e1b\\u0e0e\\u0e34\", \"\\u0e1e\\u0e28\", \"\\u0e41\\u0e21\\u0e48\", \"\\u0e04\\u0e27\\u0e32\\u0e21\\u0e23\\u0e31\\u0e01\", \"\\u0e2a\\u0e32\\u0e21\\u0e35\", \"\\u0e25\\u0e39\\u0e01\", \"\", \"\\u0e21\\u0e35\\u0e25\\u0e39\\u0e01\", \"\\u0e14\\u0e34\\u0e09\\u0e31\\u0e19\", \"\\u0e2a\\u0e35\\u0e2a\\u0e49\\u0e21\", \"\\u0e23\\u0e31\\u0e01\\u0e29\\u0e32\", \"\\u0e44\\u0e21\\u0e48\", \"\\u0e02\\u0e49\\u0e2d\\u0e04\\u0e27\\u0e32\\u0e21\", \"\\u0e40\\u0e27\\u0e25\\u0e32\", \"\\u0e44\\u0e14\\u0e49\", \"\\u0e04\\u0e25\\u0e2d\\u0e14\", \"\\u0e40\\u0e01\\u0e34\\u0e14\\u0e02\\u0e36\\u0e49\\u0e19\", \"\\u0e23\\u0e31\\u0e01\", \"\\u0e40\\u0e25\\u0e35\\u0e49\\u0e22\\u0e07\\u0e25\\u0e39\\u0e01\", \"\\u0e1c\\u0e25\\u0e34\\u0e15\", \"\\u0e0a\\u0e35\\u0e27\\u0e34\\u0e15\", \"\\u0e2b\\u0e49\\u0e32\\u0e07\", \"\\u0e19\\u0e21\\u0e04\\u0e27\\u0e32\\u0e22\", \"\\u0e1e\\u0e48\\u0e2d\", \"\\u0e2a\\u0e14\", \"\\u0e27\\u0e31\\u0e27\", \"\\u0e19\\u0e21\\u0e1c\\u0e07\", \"\\u0e1b\\u0e35\", \"\\u0e40\\u0e08\\u0e2d\", \"\\u0e19\\u0e21\", \"\\u0e23\\u0e39\\u0e49\", \"\\u0e40\\u0e25\\u0e35\\u0e49\\u0e22\\u0e07\", \"\\u0e43\\u0e2b\\u0e49\\u0e19\\u0e21\", \"\\u0e19\\u0e21\\u0e27\\u0e31\\u0e27\", \"\\u0e41\\u0e1e\\u0e30\", \"\\u0e40\\u0e04\\u0e49\\u0e32\", \"\\u0e04\\u0e19\", \"\\u0e01\\u0e34\\u0e19\\u0e19\\u0e21\", \"\\u0e02\\u0e32\\u0e22\", \"\\u0e40\\u0e14\\u0e47\\u0e01\", \"\\u0e08\\u0e34\\u0e15\\u0e23\\u0e25\\u0e14\\u0e32\", \"\\u0e42\\u0e04\", \"\\u0e1e\\u0e32\\u0e2a\\u0e40\\u0e08\\u0e2d\\u0e23\\u0e4c\\u0e44\\u0e23\\u0e2a\\u0e4c\", \"\\u0e0b\\u0e37\\u0e49\\u0e2d\", \"\\u0e1a\\u0e49\\u0e32\\u0e19\", \"\\u0e40\\u0e23\\u0e37\\u0e48\\u0e2d\\u0e07\", \"\\u0e15\\u0e31\\u0e27\\u0e40\\u0e2d\\u0e07\", \"\\u0e42\\u0e1f\\u0e23\\u0e4c\\u0e42\\u0e21\\u0e2a\\u0e15\\u0e4c\", \"\\u0e01\\u0e34\\u0e19\", \"\\u0e1c\\u0e21\", \"7-Eleven\", \"\\u0e2b\\u0e32\", \"\\u0e22\\u0e35\\u0e48\\u0e2b\\u0e49\\u0e2d\", \"\\u0e14\\u0e35\", \"\\u0e14\\u0e37\\u0e48\\u0e21\", \"\\u0e14\\u0e37\\u0e48\\u0e21\\u0e19\\u0e21\", \"\\u0e1a\\u0e2d\", \"\\u0e17\\u0e33\", \"\\u0e02\\u0e27\\u0e14\", \"\\u0e01\\u0e25\\u0e48\\u0e2d\\u0e07\", \"\\u0e40\\u0e2b\\u0e21\\u0e37\\u0e2d\\u0e19\", \"\\u0e25\\u0e2d\\u0e07\", \"\\u0e0a\\u0e2d\\u0e1a\", \"\\u0e14\\u0e39\", \"\\u0e17\\u0e32\\u0e19\", \"\\u0e40\\u0e21\\u0e08\\u0e34\", \"\\u0e19\\u0e21\\u0e2a\\u0e14\", \"\\u0e15\\u0e2d\\u0e19\\u0e19\\u0e35\\u0e49\", \"\\u0e2d\\u0e23\\u0e48\\u0e2d\\u0e22\", \"\\u0e1f\\u0e23\\u0e2d\\u0e22\\u0e14\\u0e4c\", \"googl\", \"forms\", \"\\u0e42\\u0e01\\u0e25\\u0e14\\u0e4c\", \"\\u0e2b\\u0e23\\u0e37\\u0e2d\\u0e1b\\u0e25\\u0e48\\u0e32\\u0e27\", \"\\u0e1b\\u0e23\\u0e30\\u0e15\\u0e39\", \"\\u0e2d\\u0e2d\\u0e23\\u0e4c\\u0e41\\u0e01\\u0e19\\u0e34\\u0e01\", \"\\u0e22\\u0e32\\u0e16\\u0e48\\u0e32\\u0e22\", \"\\u0e04\\u0e23\\u0e2d\\u0e07\", \"\\u0e1b\\u0e35\\u0e40\\u0e15\\u0e2d\\u0e23\\u0e4c\", \"\\u0e2a\\u0e34\\u0e48\\u0e07\\u0e41\\u0e27\\u0e14\\u0e25\\u0e49\\u0e2d\\u0e21\", \"\\u0e44\\u0e27\\u0e17\\u0e4c\", \"\\u0e17\\u0e38\\u0e01\\u0e2a\\u0e34\\u0e48\\u0e07\\u0e17\\u0e38\\u0e01\\u0e2d\\u0e22\\u0e48\\u0e32\\u0e07\", \"\\u0e2d\\u0e36\\u0e49\\u0e21\", \"\\u0e1d\\u0e38\\u0e14\\u0e46\", \"\\u0e01\\u0e47\\u0e41\\u0e25\\u0e49\\u0e27\\u0e01\\u0e31\\u0e19\", \"\\u0e17\\u0e38\\u0e40\\u0e23\\u0e35\\u0e22\\u0e19\", \"\\u0e1a\\u0e30\\u0e2b\\u0e21\\u0e35\\u0e48\", \"\\u0e40\\u0e25\\u0e15\", \"\\u0e21\\u0e2d\\u0e07\\u0e14\\u0e39\", \"\\u0e41\\u0e27\\u0e49\\u0e1a\", \"\\u0e2a\\u0e01\", \"\\u0e01\\u0e25\\u0e48\\u0e32\\u0e27\\u0e27\\u0e48\\u0e32\", \"\\u0e40\\u0e27\\u0e48\\u0e2d\", \"\\u0e1b\\u0e31\\u0e0d\\u0e0d\\u0e32\\u0e2d\\u0e48\\u0e2d\\u0e19\", \"\\u0e40\\u0e08\\u0e2d\\u0e30\", \"\\u0e41\\u0e1e\\u0e25\\u0e19\", \"\\u0e40\\u0e25\\u0e04\\u0e40\\u0e15\\u0e47\\u0e14\", \"\\u0e40\\u0e17\\u0e47\\u0e21\", \"\\u0e41\\u0e2d\\u0e14\\u0e21\\u0e34\\u0e19\", \"\\u0e17\\u0e31\\u0e1e\\u0e2b\\u0e19\\u0e49\\u0e32\", \"\\u0e23\\u0e31\\u0e07\\u0e19\\u0e01\", \"/%\", \"\\u0e04\\u0e38\\u0e49\\u0e19\\u0e15\\u0e32\", \"\\u0e17\\u0e31\\u0e28\\u0e19\\u0e04\\u0e15\\u0e34\", \"\\u0e22\\u0e22\\u0e22\\u0e22\\u0e22\", \"\\u0e16\\u0e49\\u0e27\\u0e19\", \"\\u0e21\\u0e2d\\u0e19\", \"\\u0e44\\u0e02\\u0e48\\u0e40\\u0e08\\u0e35\\u0e22\\u0e27\", \"\\u0e15\\u0e49\\u0e27\", \"\\u0e0b\\u0e35\\u0e40\\u0e25\\u0e47\\u0e04\", \"\\u0e2b\\u0e21\\u0e35\", \"\\u0e07\\u0e48\\u0e32\", \"\\u0e40\\u0e19\\u0e0a\\u0e31\\u0e48\\u0e19\", \"\\u0e41\\u0e1a\\u0e1a\\u0e2a\\u0e2d\\u0e1a\\u0e16\\u0e32\\u0e21\", \"\\u0e1e\\u0e01\\u0e1e\\u0e32\", \"\\u0e21\\u0e14\", \"\\u0e40\\u0e15\\u0e47\\u0e14\", \"\\u0e15\\u0e23\\u0e32\", \"\\u0e17\\u0e33\\u0e04\\u0e27\\u0e32\\u0e21\\u0e2a\\u0e30\\u0e2d\\u0e32\\u0e14\", \"\\u0e0a\\u0e47\\u0e2d\\u0e01\\u0e42\\u0e01\\u0e41\\u0e25\\u0e15\", \"\\u0e0b\\u0e36\\u0e21\", \"\\u0e2a\\u0e2a\\u0e2a\", \"\\u0e21\\u0e2d\", \"\\u0e41\\u0e23\\u0e48\\u0e18\\u0e32\\u0e15\\u0e38\", \"\\u0e01\\u0e23\\u0e30\\u0e1b\\u0e4b\\u0e2d\\u0e07\", \"lot\", \"\\u0e19\\u0e21\", \"\\u0e19\\u0e21\\u0e2a\\u0e14\", \"\\u0e2a\\u0e39\\u0e15\\u0e23\", \"\\u0e08\\u0e37\\u0e14\", \"\\u0e40\\u0e08\\u0e37\\u0e2d\\u0e08\\u0e32\\u0e07\", \"\\u0e01\\u0e25\\u0e34\\u0e48\\u0e19\", \"\\u0e41\\u0e25\\u0e49\\u0e27\", \"\\u0e40\\u0e14\\u0e19\", \"\\u0e1c\\u0e21\", \"\\u0e04\\u0e32\\u0e23\\u0e4c\", \"\\u0e14\\u0e35\", \"\\u0e44\\u0e21\\u0e48\", \"\\u0e44\\u0e14\\u0e49\", \"\\u0e01\\u0e23\\u0e31\\u0e21\", \"\\u0e23\\u0e2a\\u0e2b\\u0e27\\u0e32\\u0e19\", \"\\u0e2a\\u0e39\\u0e07\", \"\\u0e1a\\u0e23\\u0e23\\u0e08\\u0e38\", \"\\u0e23\\u0e2a\", \"\\u0e02\\u0e27\\u0e14\", \"\\u0e44\\u0e17\\u0e22\", \"\\u0e42\\u0e1b\\u0e23\\u0e15\\u0e35\\u0e19\", \"\\u0e0b\\u0e37\\u0e49\\u0e2d\", \"\\u0e21\\u0e32\\u0e08\\u0e32\\u0e01\", \"\\u0e22\\u0e35\\u0e48\\u0e2b\\u0e49\\u0e2d\", \"\\u0e23\\u0e2a\\u0e0a\\u0e32\\u0e15\\u0e34\", \"\\u0e01\\u0e34\\u0e19\", \"\\u0e0a\\u0e07\", \"\\u0e17\\u0e33\", \"\\u0e19\\u0e49\\u0e33\\u0e15\\u0e32\\u0e25\", \"\\u0e1c\\u0e2a\\u0e21\", \"\\u0e14\\u0e31\\u0e0a\\u0e21\\u0e34\\u0e25\\u0e25\\u0e4c\", \"\\u0e0a\\u0e2d\\u0e1a\", \"\\u0e43\\u0e2a\\u0e48\", \"\\u0e19\\u0e21\\u0e1c\\u0e07\", \"\\u0e40\\u0e23\\u0e37\\u0e48\\u0e2d\\u0e07\", \"\\u0e40\\u0e2b\\u0e21\\u0e37\\u0e2d\\u0e19\", \"\\u0e44\\u0e2b\\u0e21\", \"\\u0e17\\u0e32\\u0e19\", \"\\u0e14\\u0e39\", \"\\u0e2d\\u0e23\\u0e48\\u0e2d\\u0e22\", \"\\u0e19\\u0e49\\u0e33\", \"\\u0e40\\u0e21\\u0e08\\u0e34\", \"\", \"\\u0e04\\u0e19\", \"\\u0e23\\u0e39\\u0e49\", \"\\u0e15\\u0e31\\u0e49\\u0e07\\u0e17\\u0e49\\u0e2d\\u0e07\", \"\\u0e43\\u0e19\\u0e17\\u0e35\\u0e48\\u0e2a\\u0e38\\u0e14\", \"\\u0e23\\u0e01\", \"\\u0e40\\u0e1b\\u0e47\\u0e19\\u0e1e\\u0e34\\u0e29\", \"\\u0e25\\u0e47\\u0e2d\\u0e04\", \"\\u0e40\\u0e07\\u0e37\\u0e48\\u0e2d\\u0e19\\u0e44\\u0e02\", \"\\u0e42\\u0e1e\\u0e18\\u0e34\\u0e4c\", \"\\u0e02\\u0e31\\u0e49\\u0e19\\u0e15\\u0e48\\u0e33\", \"\\u0e07\\u0e48\\u0e27\\u0e07\", \"dha\", \"\\u0e40\\u0e23\\u0e35\\u0e22\\u0e07\", \"\\u0e0b\\u0e48\\u0e32\", \"\\u0e04\\u0e48\\u0e32\\u0e42\\u0e06\\u0e29\\u0e13\\u0e32\", \"\\u0e1c\\u0e39\\u0e01\\u0e1e\\u0e31\\u0e19\", \"\\u0e2d\\u0e38\\u0e08\\u0e08\\u0e32\\u0e23\\u0e30\", \"\\u0e2d\\u0e2d\\u0e19\", \"\\u0e23\\u0e39\\u0e49\\u0e21\\u0e32\\u0e01\", \"\\u0e22\\u0e2d\\u0e14\\u0e40\\u0e22\\u0e35\\u0e48\\u0e22\\u0e21\", \"\\u0e44\\u0e14\\u0e49\\u0e23\\u0e32\\u0e04\\u0e32\", \"///\", \"\\u0e1b\\u0e38\\u0e49\\u0e1b\", \"\\u0e2a\\u0e32\\u0e21\\u0e42\\u0e25\\u0e01\", \"copy\", \"\\u0e44\\u0e21\\u0e48\\u0e40\\u0e17\\u0e48\\u0e32\\u0e44\\u0e2b\\u0e23\\u0e48\", \"\\u0e41\\u0e1a\\u0e48\\u0e07\\u0e15\\u0e31\\u0e27\", \"\\u0e1a\\u0e23\\u0e21\", \"\\u0e0a\\u0e30\\u0e21\\u0e31\\u0e14\", \"\\u0e02\\u0e49\\u0e2d\\u0e01\\u0e33\\u0e2b\\u0e19\\u0e14\", \"\\u0e14\\u0e31\\u0e0a\", \"\\u0e21\\u0e17\", \"\\u0e23\\u0e31\\u0e01\\u0e29\\u0e32\\u0e2a\\u0e38\\u0e02\\u0e20\\u0e32\\u0e1e\", \"\\u0e17\\u0e33\\u0e07\\u0e32\\u0e19\\u0e1a\\u0e49\\u0e32\\u0e19\", \"\\u0e01\\u0e25\\u0e39\\u0e42\\u0e04\\u0e2a\", \"\\u0e0a\\u0e27\\u0e19\\u0e40\\u0e0a\\u0e37\\u0e48\\u0e2d\", \"\\u0e08\\u0e02\\u0e17\\u0e01\", \"\\u0e2a\\u0e15\\u0e32\\u0e23\\u0e4c\\u0e1a\\u0e31\\u0e04\\u0e2a\\u0e4c\", \"\\u0e2b\\u0e22\\u0e38\\u0e48\\u0e19\", \"\\u0e2a\\u0e35\\u0e1c\\u0e2a\\u0e21\\u0e2d\\u0e32\\u0e2b\\u0e32\\u0e23\", \"\\u0e2a\\u0e31\\u0e21\\u0e21\\u0e32\\u0e01\\u0e23\", \"\\u0e02\\u0e49\\u0e32\\u0e27\\u0e01\\u0e25\\u0e49\\u0e2d\\u0e07\", \"\\u0e40\\u0e0a\\u0e34\\u0e07\", \"\\u0e2b\\u0e21\\u0e32\\u0e22\\u0e40\\u0e25\\u0e02\", \"\\u0e15\\u0e32\\u0e23\\u0e32\\u0e07\", \"\\u0e25\\u0e14\\u0e19\\u0e49\\u0e33\\u0e2b\\u0e19\\u0e31\\u0e01\", \"\\u0e2d\\u0e23\\u0e48\\u0e2d\\u0e22\", \"\\u0e04\\u0e27\\u0e32\\u0e21\\u0e04\\u0e34\\u0e14\\u0e40\\u0e2b\\u0e47\\u0e19\", \"\\u0e17\\u0e32\\u0e19\", \"\\u0e44\\u0e02\\u0e21\\u0e31\\u0e19\\u0e15\\u0e48\\u0e33\", \"\\u0e40\\u0e21\\u0e47\\u0e01\", \"\\u0e25\\u0e39\\u0e01\\u0e1c\\u0e21\", \"\\u0e44\\u0e02\\u0e21\\u0e31\\u0e19\", \"\\u0e1b\\u0e39\", \"\\u0e2b\\u0e48\\u0e27\\u0e07\", \"\\u0e2b\\u0e27\\u0e32\\u0e19\", \"\\u0e1b\\u0e48\\u0e19\", \"\\u0e19\\u0e49\\u0e2d\\u0e07\", \"\\u0e2d\\u0e34\\u0e19\", \"\\u0e01\\u0e32\\u0e41\\u0e1f\", \"\\u0e44\\u0e27\", \"\\u0e19\\u0e21\\u0e2a\\u0e14\", \"\\u0e2a\\u0e33\\u0e2b\\u0e23\\u0e31\\u0e1a\", \"\", \"\\u0e01\\u0e23\\u0e30\\u0e17\\u0e39\\u0e49\", \"\\u0e02\\u0e2d\\u0e1a\\u0e04\\u0e38\\u0e13\", \"\\u0e01\\u0e25\\u0e48\\u0e2d\\u0e07\", \"\\u0e40\\u0e22\\u0e47\\u0e19\", \"\\u0e2b\\u0e2d\\u0e21\", \"\\u0e40\\u0e14\\u0e19\\u0e21\\u0e32\\u0e23\\u0e4c\\u0e01\", \"\\u0e2d\\u0e49\\u0e27\\u0e19\", \"\\u0e2b\\u0e19\\u0e2d\\u0e07\\u0e42\\u0e1e\", \"\\u0e44\\u0e21\\u0e48\", \"\\u0e19\\u0e21\", \"\\u0e23\\u0e2a\", \"\\u0e44\\u0e17\\u0e22\", \"\\u0e0b\\u0e37\\u0e49\\u0e2d\", \"\\u0e14\\u0e35\\u0e01\\u0e27\\u0e48\\u0e32\", \"\\u0e19\\u0e49\\u0e33\\u0e2b\\u0e19\\u0e31\\u0e01\", \"\\u0e22\\u0e35\\u0e48\\u0e2b\\u0e49\\u0e2d\", \"\\u0e01\\u0e34\\u0e19\", \"\\u0e2d\\u0e32\\u0e2b\\u0e32\\u0e23\", \"\\u0e43\\u0e2a\\u0e48\", \"uht\", \"\\u0e40\\u0e04\\u0e49\\u0e32\", \"\\u0e1c\\u0e2a\\u0e21\", \"\\u0e14\\u0e35\", \"\\u0e2a\\u0e39\\u0e07\", \"\\u0e0a\\u0e2d\\u0e1a\", \"\\u0e40\\u0e2b\\u0e21\\u0e37\\u0e2d\\u0e19\\u0e01\\u0e31\\u0e19\", \"\\u0e44\\u0e14\\u0e49\", \"\\u0e08\\u0e37\\u0e14\", \"\\u0e01\\u0e34\\u0e19\\u0e19\\u0e21\", \"\\u0e40\\u0e21\\u0e08\\u0e34\", \"\\u0e04\\u0e19\", \"\\u0e1c\\u0e21\", \"\\u0e44\\u0e17\\u0e22\\u0e40\\u0e14\\u0e19\\u0e21\\u0e32\\u0e23\\u0e4c\\u0e04\", \"\\u0e14\\u0e39\", \"\\u0e25\\u0e39\\u0e01\", \"\\u0e17\\u0e33\", \"\\u0e41\\u0e21\\u0e48\", \"\\u0e14\\u0e37\\u0e48\\u0e21\", \"\\u0e25\\u0e2d\\u0e07\", \"\\u0e25\\u0e39\\u0e01\\u0e2a\\u0e38\\u0e19\\u0e31\\u0e02\", \"\\u0e27\\u0e48\\u0e32\\u0e44\\u0e21\\u0e48\\u0e44\\u0e14\\u0e49\", \"\\u0e07\\u0e39\", \"hiq\", \"\\u0e40\\u0e2d\\u0e34\\u0e48\\u0e21\", \"\\u0e02\\u0e2d\\u0e04\\u0e27\\u0e32\\u0e21\\u0e01\\u0e23\\u0e38\\u0e13\\u0e32\", \"\\u0e40\\u0e2a\\u0e1a\\u0e35\\u0e22\\u0e07\", \"\\u0e08\\u0e4a\\u0e27\\u0e1a\", \"\\u0e2b\\u0e31\\u0e27\\u0e19\\u0e21\", \"\\u0e08\\u0e33\\u0e44\\u0e27\\u0e49\", \"\\u0e2a\\u0e30\\u0e1e\\u0e32\\u0e19\", \"\\u0e01\\u0e32\\u0e27\", \"spec\", \"\\u0e40\\u0e2d\\u0e32\\u0e25\\u0e48\\u0e30\", \"\\u0e14\\u0e23\\u0e32\\u0e21\\u0e48\\u0e32\", \"\\u0e08\\u0e33\\u0e04\\u0e27\\u0e32\\u0e21\\u0e44\\u0e14\\u0e49\", \"\\u0e04\\u0e23\\u0e48\\u0e32\", \"\\u0e1a\\u0e23\\u0e23\\u0e40\\u0e17\\u0e32\", \"\\u0e40\\u0e1b\\u0e47\\u0e19\\u0e2a\\u0e48\\u0e27\\u0e19\\u0e43\\u0e2b\\u0e0d\\u0e48\", \"\\u0e43\\u0e02\\u0e48\", \"\\u0e21\\u0e48\\u0e27\\u0e07\", \"\\u0e1b\\u0e23\\u0e30\\u0e08\\u0e33\\u0e40\\u0e14\\u0e37\\u0e2d\\u0e19\", \"\\u0e40\\u0e1c\\u0e47\\u0e14\", \"\\u0e40\\u0e0a\\u0e25\\u0e1f\\u0e4c\", \"\\u0e40\\u0e1e\\u0e37\\u0e48\\u0e2d\\u0e19\\u0e01\\u0e34\\u0e19\", \"\\u0e41\\u0e21\\u0e48\\u0e0b\\u0e37\\u0e49\\u0e2d\", \"\\u0e19\\u0e01\\u0e41\\u0e01\\u0e49\\u0e27\", \"\\u0e08\\u0e39\\u0e49\", \"\\u0e46\\u0e46\\u0e46\\u0e46\\u0e46\\u0e46\\u0e46\", \"\\u0e2d\\u0e38\\u0e19\\u0e08\\u0e34\", \"\\u0e04\\u0e31\\u0e19\\u0e17\\u0e23\\u0e35\\u0e48\", \"\\u0e43\\u0e2b\\u0e49\\u0e1c\\u0e25\", \"\\u0e23\\u0e39\\u0e1b\\u0e16\\u0e48\\u0e32\\u0e22\", \"\\u0e25\\u0e34\\u0e49\\u0e21\\u0e23\\u0e2a\", \"\\u0e14\\u0e46\", \"\\u0e40\\u0e1b\\u0e47\\u0e19\\u0e21\\u0e31\\u0e19\", \"\\u0e08\\u0e38\\u0e01\\u0e08\\u0e34\\u0e01\", \"\\u0e15\\u0e49\\u0e21\\u0e22\\u0e33\", \"\\u0e04\\u0e27\\u0e32\\u0e21\\u0e20\\u0e39\\u0e21\\u0e34\\u0e43\\u0e08\", \"\\u0e02\\u0e49\\u0e32\\u0e27\\u0e2a\\u0e27\\u0e22\", \"\\u0e2b\\u0e21\\u0e32\", \"\\u0e25\\u0e49\\u0e2d\\u0e40\\u0e25\\u0e48\\u0e19\", \"\\u0e21\\u0e35\\u0e0a\\u0e35\\u0e27\\u0e34\\u0e15\", \"\\u0e1e\\u0e39\", \"\\u0e01\\u0e34\\u0e19\", \"\\u0e21\\u0e31\\u0e21\", \"\\u0e02\\u0e35\\u0e49\", \"\\u0e15\\u0e4c\", \"\\u0e1b\\u0e25\\u0e32\", \"\\u0e17\\u0e49\\u0e2d\\u0e07\\u0e27\\u0e48\\u0e32\\u0e07\", \"\\u0e42\\u0e22\", \"\\u0e21\\u0e34\\u0e19\\u0e34\", \"\\u0e2a\\u0e39\\u0e1a\\u0e1a\\u0e38\\u0e2b\\u0e23\\u0e35\\u0e48\", \"\\u0e44\\u0e14\\u0e49\\u0e40\\u0e23\\u0e37\\u0e48\\u0e2d\\u0e07\", \"\\u0e17\\u0e49\\u0e2d\\u0e07\\u0e40\\u0e2a\\u0e35\\u0e22\", \"\\u0e42\\u0e22\\u0e40\\u0e01\\u0e34\\u0e23\\u0e4c\\u0e15\", \"\\u0e41\\u0e14\\u0e23\\u0e35\\u0e48\\u0e42\\u0e2e\\u0e21\", \"\\u0e2d\\u0e38\\u0e49\\u0e21\", \"\\u0e0a\\u0e2d\\u0e1a\", \"\\u0e44\\u0e21\\u0e48\", \"\\u0e14\\u0e35\", \"\\u0e04\\u0e19\", \"\\u0e19\\u0e21\\u0e16\\u0e31\\u0e48\\u0e27\\u0e40\\u0e2b\\u0e25\\u0e37\\u0e2d\\u0e07\", \"\\u0e17\\u0e49\\u0e2d\\u0e07\", \"\\u0e25\\u0e39\\u0e01\\u0e2a\\u0e32\\u0e27\", \"\\u0e19\\u0e21\", \"\\u0e40\\u0e21\\u0e08\\u0e34\", \"\\u0e44\\u0e14\\u0e49\", \"\\u0e40\\u0e19\\u0e37\\u0e49\\u0e2d\", \"\\u0e15\\u0e2d\\u0e19\", \"\\u0e14\\u0e37\\u0e48\\u0e21\", \"\\u0e19\\u0e49\\u0e33\\u0e15\\u0e32\\u0e25\", \"\\u0e1b\\u0e23\\u0e30\\u0e08\\u0e33\", \"\\u0e2d\\u0e23\\u0e48\\u0e2d\\u0e22\", \"\\u0e1b\\u0e01\\u0e15\\u0e34\", \"\\u0e01\\u0e25\\u0e48\\u0e2d\\u0e07\", \"\\u0e40\\u0e14\\u0e47\\u0e01\", \"\\u0e2d\\u0e22\\u0e48\\u0e32\", \"\", \"\\u0e43\\u0e2a\\u0e48\", \"\\u0e01\\u0e34\\u0e19\\u0e19\\u0e21\", \"\\u0e23\\u0e2a\\u0e18\\u0e23\\u0e23\\u0e21\\u0e0a\\u0e32\\u0e15\\u0e34\", \"\\u0e25\\u0e39\\u0e01\", \"\\u0e25\\u0e2d\\u0e07\", \"\\u0e2b\\u0e27\\u0e32\\u0e19\", \"//\", \"\\u0e17\\u0e33\", \"\\u0e19\\u0e21\\u0e27\\u0e31\\u0e27\", \"\\u0e1c\\u0e21\", \"\\u0e2a\\u0e39\\u0e07\", \"\\u0e0b\\u0e37\\u0e49\\u0e2d\", \"\\u0e40\\u0e2b\\u0e21\\u0e37\\u0e2d\\u0e19\", \"\\u0e22\\u0e35\\u0e48\\u0e2b\\u0e49\\u0e2d\", \"\\u0e01\\u0e32\\u0e41\\u0e1f\", \"\\u0e2d\\u0e32\\u0e2b\\u0e32\\u0e23\", \"\\u0e02\\u0e27\\u0e14\", \"\\u0e23\\u0e2a\", \"\\u0e2b\\u0e32\", \"\\u0e14\\u0e39\", \"\\u0e01\\u0e23\\u0e30\\u0e40\\u0e0a\\u0e49\\u0e32\", \"\\u0e25\\u0e4a\\u0e2d\\u0e15\", \"\\u0e08\\u0e33\\u0e40\\u0e25\\u0e22\", \"\\u0e08\\u0e33\\u0e43\\u0e08\", \"\\u0e2b\\u0e19\\u0e49\\u0e32\\u0e17\\u0e49\\u0e2d\\u0e07\", \"\\u0e44\\u0e25\\u0e04\\u0e4c\", \"\\u0e01\\u0e35\\u0e49\", \"\\u0e40\\u0e04\\u0e23\\u0e37\\u0e48\\u0e2d\\u0e07\\u0e2b\\u0e21\\u0e32\\u0e22\\u0e01\\u0e32\\u0e23\\u0e04\\u0e49\\u0e32\", \"\\u0e08\\u0e01\", \"\\u0e04\\u0e23\\u0e49\\u0e32\\u0e1a\\u0e1a\\u0e1a\\u0e1a\", \"\\u0e1c\\u0e25\\u0e01\\u0e23\\u0e30\\u0e17\\u0e1a\", \"\\u0e2a\\u0e16\\u0e32\\u0e19\\u0e01\\u0e32\\u0e23\\u0e13\\u0e4c\", \"\\u0e25\\u0e39\\u0e01\\u0e15\\u0e34\\u0e14\", \"\\u0e40\\u0e25\\u0e2d\\u0e30\", \"yoghurt\", \"\\u0e14\\u0e39\\u0e14\\u0e34\", \"\\u0e2b\\u0e38\\u0e07\", \"\\u0e08\\u0e31\\u0e1a\\u0e1c\\u0e34\\u0e14\", \"\\u0e22\\u0e22\\u0e22\\u0e22\\u0e22\\u0e22\", \"\\u0e42\\u0e17\\u0e2a\", \"\\u0e2d\\u0e31\\u0e07\\u0e04\\u0e32\\u0e23\", \"\\u0e21\\u0e48\\u0e2d\\u0e19\", \"\\u0e1a\\u0e31\\u0e07\", \"\\u0e17\\u0e36\\u0e1a\", \"\\u0e25\\u0e47\\u0e2d\\u0e01\\u0e2d\\u0e34\\u0e19\", \"\\u0e43\\u0e2b\\u0e0d\", \"\\u0e01\\u0e25\\u0e31\\u0e1a\\u0e01\\u0e31\\u0e19\", \"\\u0e04\\u0e27\\u0e32\\u0e21\\u0e04\\u0e37\\u0e1a\\u0e2b\\u0e19\\u0e49\\u0e32\", \"\\u0e41\\u0e25\\u0e49\\u0e27\\u0e2b\\u0e25\\u0e30\", \"\\u0e1a\\u0e38\\u0e4a\\u0e04\", \"\\u0e42\\u0e2e\\u0e21\", \"\\u0e01\\u0e19\", \"supply\", \"\\u0e40\\u0e2a\\u0e23\\u0e35\", \"qc\", \"\\u0e1b\\u0e25\\u0e32\\u0e2b\\u0e21\\u0e36\\u0e01\", \"\\u0e2d\\u0e34\\u0e2d\\u0e34\\u0e2d\\u0e34\", \"\\u0e43\\u0e0a\\u0e48\\u0e1b\\u0e30\", \"\\u0e1e\\u0e25\\u0e31\\u0e2a\", \"\\u0e23\\u0e48\\u0e2d\\u0e22\", \"\\u0e2d\\u0e2d\", \"\\u0e25\\u0e39\\u0e01\\u0e40\\u0e14\\u0e37\\u0e2d\\u0e22\", \"\\u0e01\\u0e23\\u0e38\\u0e13\\u0e32\", \"\\u0e44\\u0e27\\u0e15\\u0e32\\u0e21\\u0e34\\u0e25\\u0e04\\u0e4c\", \"\\u0e21\\u0e32\\u0e22\\u0e31\\u0e07\", \"\\u0e02\\u0e2d\\u0e1a\\u0e04\\u0e38\\u0e13\", \"\\u0e17\\u0e33\", \"\\u0e14\\u0e39\", \"\\u0e40\\u0e14\\u0e25\\u0e35\\u0e48\", \"\\u0e42\\u0e2d\\u0e49\", \"\\u0e15\\u0e25\\u0e01\", \"\\u0e25\\u0e2d\\u0e07\", \"\\u0e23\\u0e39\\u0e1b\", \"\\u0e04\\u0e25\\u0e34\\u0e01\", \"\\u0e17\\u0e35\\u0e48\\u0e0b\\u0e48\\u0e2d\\u0e19\", \"\\u0e1f\\u0e2d\\u0e07\", \"\\u0e07\\u0e07\", \"spoil\", \"\\u0e04\\u0e27\\u0e32\\u0e21\\u0e2a\\u0e38\\u0e02\", \"\\u0e1c\\u0e21\", \"\\u0e40\\u0e1b\\u0e23\\u0e35\\u0e49\\u0e22\\u0e27\", \"\\u0e42\\u0e22\\u0e40\\u0e01\\u0e34\\u0e23\\u0e4c\\u0e15\", \"\\u0e40\\u0e04\\u0e49\\u0e01\", \"\\u0e15\\u0e31\\u0e49\\u0e07\\u0e01\\u0e23\\u0e30\\u0e17\\u0e39\\u0e49\", \"\\u0e41\\u0e1a\\u0e1a\\u0e19\\u0e35\\u0e49\", \"\\u0e15\\u0e35\", \"\\u0e40\\u0e21\\u0e08\\u0e34\", \"\\u0e19\\u0e21\", \"\\u0e04\\u0e23\\u0e35\\u0e21\", \"\\u0e2b\\u0e21\\u0e31\\u0e01\", \"\\u0e01\\u0e25\\u0e48\\u0e2d\\u0e07\", \"\\u0e0a\\u0e31\\u0e48\\u0e27\\u0e42\\u0e21\\u0e07\", \"\\u0e44\\u0e14\\u0e49\", \"\\u0e40\\u0e2b\\u0e21\\u0e37\\u0e2d\\u0e19\\u0e01\\u0e31\\u0e19\", \"\\u0e19\\u0e49\\u0e33\\u0e15\\u0e32\\u0e25\", \"\", \"\\u0e44\\u0e21\\u0e48\", \"\\u0e1c\\u0e07\", \"\\u0e15\\u0e23\\u0e32\", \"\\u0e16\\u0e49\\u0e27\\u0e22\", \"\\u0e41\\u0e01\\u0e49\\u0e27\", \"\\u0e09\\u0e25\\u0e32\\u0e01\", \"\\u0e40\\u0e2b\\u0e21\\u0e37\\u0e2d\\u0e19\", \"\\u0e43\\u0e2a\\u0e48\", \"\\u0e0a\\u0e2d\\u0e1a\", \"\\u0e23\\u0e2a\\u0e0a\\u0e32\\u0e15\\u0e34\", \"\\u0e1c\\u0e2a\\u0e21\", \"\\u0e19\\u0e49\\u0e33\", \"\\u0e1b\\u0e23\\u0e34\\u0e21\\u0e32\\u0e13\", \"\\u0e01\\u0e34\\u0e19\", \"\\u0e04\\u0e19\", \"\\u0e02\\u0e27\\u0e14\", \"\\u0e40\\u0e04\\u0e49\\u0e32\", \"\\u0e02\\u0e49\\u0e2d\\u0e04\\u0e27\\u0e32\\u0e21\", \"\\u0e0b\\u0e37\\u0e49\\u0e2d\", \"\\u0e2d\\u0e23\\u0e48\\u0e2d\\u0e22\", \"\\u0e14\\u0e35\", \"\\u0e23\\u0e2a\", \"\\u0e15\\u0e31\\u0e27\", \"\\u0e19\\u0e21\\u0e2a\\u0e14\", \"\\u0e40\\u0e27\\u0e25\\u0e32\", \"\\u0e2d\\u0e2d\\u0e01\\u0e21\\u0e32\", \"\\u0e22\\u0e35\\u0e48\\u0e2b\\u0e49\\u0e2d\", \"\\u0e02\\u0e32\\u0e22\", \"\\u0e44\\u0e2d\\u0e42\\u0e2d\\u0e14\\u0e35\\u0e19\", \"\\u0e17\\u0e4c\", \"\\u0e44\\u0e25\\u0e2a\\u0e4c\", \"\\u0e07\\u0e48\\u0e27\\u0e07\\u0e19\\u0e2d\\u0e19\", \"\\u0e01\\u0e23\\u0e30\\u0e15\\u0e48\\u0e32\\u0e22\", \"\\u0e25\\u0e48\\u0e2d\", \"\\u0e21\\u0e34\\u0e19\\u0e48\\u0e32\", \"\\u0e1a\\u0e31\\u0e15\\u0e40\\u0e15\\u0e2d\\u0e23\\u0e4c\", \"butterfly\", \"\\u0e01\\u0e25\\u0e49\\u0e27\\u0e22\\u0e19\\u0e49\\u0e33\\u0e27\\u0e49\\u0e32\", \"\\u0e1b\\u0e31\\u0e4a\\u0e1b\", \"\\u0e40\\u0e2b\\u0e25\\u0e35\\u0e48\\u0e22\\u0e21\", \"\\u0e08\\u0e38\\u0e4a\\u0e1a\", \"\\u0e02\\u0e35\\u0e14\", \"\\u0e1e\\u0e2d\\u0e07\", \"\\u0e04\\u0e34\\u0e14\\u0e40\\u0e07\\u0e34\\u0e19\", \"\\u0e0a\\u0e35\\u0e27\\u0e34\\u0e15\\u0e04\\u0e23\\u0e2d\\u0e1a\\u0e04\\u0e23\\u0e31\\u0e27\", \"\\u0e23\\u0e30\\u0e40\\u0e1a\\u0e34\\u0e14\", \"\\u0e2d\\u0e38\\u0e49\\u0e22\", \"\\u0e19\\u0e49\\u0e33\\u0e21\\u0e31\\u0e19\\u0e1e\\u0e37\\u0e0a\", \"\\u0e40\\u0e2a\\u0e37\\u0e48\\u0e2d\\u0e21\\u0e2a\\u0e20\\u0e32\\u0e1e\", \"\\u0e41\\u0e15\\u0e48\\u0e1a\\u0e32\\u0e07\\u0e17\\u0e35\", \"\\u0e02\\u0e34\\u0e07\", \"\\u0e42\\u0e1e\\u0e14\", \"\\u0e40\\u0e25\", \"\\u0e01\\u0e23\\u0e30\\u0e17\\u0e34\\u0e07\", \"\\u0e2b\\u0e22\\u0e36\\u0e22\\u0e46\", \"\\u0e15\\u0e01\\u0e2b\\u0e19\\u0e31\\u0e01\", \"\\u0e27\\u0e4a\\u0e32\\u0e01\", \"\\u0e08\\u0e35\\u0e4a\\u0e14\", \"\\u0e25\\u0e39\\u0e01\\u0e40\\u0e01\\u0e14\", \"sterilized\", \"\\u0e19\\u0e39\", \"\\u0e23\\u0e32\\u0e14\\u0e2b\\u0e19\\u0e49\\u0e32\", \"\\u0e1a\\u0e25\\u0e39\\u0e40\\u0e1a\\u0e2d\\u0e23\\u0e4c\\u0e23\\u0e35\\u0e48\", \"\\u0e1b\\u0e25\\u0e32\\u0e01\\u0e23\\u0e30\\u0e1b\\u0e4b\\u0e2d\\u0e07\", \"\\u0e01\\u0e23\\u0e35\\u0e01\", \"\\u0e1e\\u0e31\\u0e14\", \"\\u0e41\\u0e14\\u0e23\\u0e35\\u0e48\", \"\\u0e14\\u0e38\\u0e4a\\u0e01\\u0e14\\u0e34\\u0e4a\\u0e01\", \"\\u0e2a\\u0e32\\u0e21\\u0e40\\u0e2b\\u0e25\\u0e35\\u0e48\\u0e22\\u0e21\", \"\\u0e44\\u0e25\\u0e0b\\u0e4c\", \"\\u0e19\\u0e49\\u0e33\\u0e1c\\u0e36\\u0e49\\u0e07\", \"\\u0e40\\u0e2d\\u0e19\", \"\\u0e2d\\u0e2d\\u0e23\\u0e4c\\u0e41\\u0e01\\u0e19\\u0e34\\u0e04\", \"\\u0e40\\u0e15\\u0e49\\u0e19\", \"\\u0e0a\\u0e2d\\u0e1a\", \"\\u0e19\\u0e48\\u0e32\\u0e23\\u0e31\\u0e01\", \"\\u0e41\\u0e21\\u0e27\", \"\\u0e43\\u0e2b\\u0e19\", \"\\u0e40\\u0e21\\u0e25\\u0e48\\u0e2d\\u0e19\", \"\\u0e23\\u0e2a\", \"\\u0e42\\u0e0a\\u0e04\\u0e0a\\u0e31\\u0e22\", \"\\u0e2d\\u0e23\\u0e48\\u0e2d\\u0e22\", \"\\u0e42\\u0e22\\u0e40\\u0e01\\u0e34\\u0e23\\u0e4c\\u0e15\", \"\\u0e23\\u0e2a\\u0e18\\u0e23\\u0e23\\u0e21\\u0e0a\\u0e32\\u0e15\\u0e34\", \"\\u0e32\", \"\\u0e43\\u0e2a\\u0e48\", \"\\u0e44\\u0e17\\u0e22\\u0e40\\u0e14\\u0e19\\u0e21\\u0e32\\u0e23\\u0e4c\\u0e04\", \"\\u0e16\\u0e38\\u0e07\", \"\\u0e23\\u0e2a\\u0e08\\u0e37\\u0e14\", \"\\u0e23\\u0e2a\\u0e0a\\u0e32\\u0e15\\u0e34\", \"\\u0e2d\\u0e48\\u0e30\", \"\\u0e23\\u0e2a\\u0e01\\u0e25\\u0e49\\u0e27\\u0e22\", \"\\u0e1f\\u0e32\\u0e23\\u0e4c\\u0e21\", \"\\u0e19\\u0e21\", \"\\u0e40\\u0e21\\u0e08\\u0e34\", \"\\u0e17\\u0e32\\u0e19\", \"\\u0e22\\u0e35\\u0e48\\u0e2b\\u0e49\\u0e2d\", \"\\u0e44\\u0e21\\u0e48\", \"\\u0e2a\\u0e15\\u0e23\\u0e2d\\u0e27\\u0e4c\\u0e40\\u0e1a\\u0e2d\\u0e23\\u0e4c\\u0e23\\u0e35\", \"\\u0e40\\u0e02\\u0e35\\u0e22\\u0e27\", \"\\u0e2d\\u0e48\\u0e32\", \"\\u0e01\\u0e34\\u0e19\", \"\\u0e2d\\u0e38\\u0e48\\u0e19\", \"\\u0e17\\u0e33\", \"\\u0e01\\u0e25\\u0e48\\u0e2d\\u0e07\", \"\\u0e2b\\u0e19\\u0e2d\\u0e07\\u0e42\\u0e1e\", \"\\u0e23\\u0e2a\\u0e2b\\u0e27\\u0e32\\u0e19\", \"\\u0e42\\u0e1f\\u0e23\\u0e4c\\u0e42\\u0e21\\u0e2a\\u0e15\\u0e4c\", \"\\u0e44\\u0e14\\u0e49\", \"\\u0e23\\u0e39\\u0e49\\u0e2a\\u0e36\\u0e01\", \"\\u0e14\\u0e35\", \"\", \"\\u0e40\\u0e19\\u0e37\\u0e49\\u0e2d\", \"\\u0e15\\u0e2d\\u0e19\", \"\\u0e1c\\u0e2a\\u0e21\", \"\\u0e40\\u0e2b\\u0e21\\u0e37\\u0e2d\\u0e19\\u0e01\\u0e31\\u0e19\", \"\\u0e04\\u0e19\", \"\\u0e40\\u0e04\\u0e49\\u0e32\", \"\\u0e2b\\u0e27\\u0e32\\u0e19\", \"\\u0e23\\u0e39\\u0e49\", \"\\u0e0b\\u0e37\\u0e49\\u0e2d\", \"\\u0e02\\u0e32\\u0e22\", \"\\u0e40\\u0e2b\\u0e21\\u0e37\\u0e2d\\u0e19\", \"\\u0e25\\u0e37\\u0e21\\u0e15\\u0e32\", \"\\u0e40\\u0e1a\\u0e48\\u0e07\", \"\\u0e2d\\u0e37\\u0e21\\u0e21\\u0e4c\", \"\\u0e41\\u0e2d\\u0e25\\u0e01\\u0e2d\\u0e2e\\u0e2d\\u0e25\\u0e4c\", \"\\u0e04\\u0e25\\u0e37\\u0e48\\u0e19\\u0e44\\u0e2a\\u0e49\", \"\\u0e2a\\u0e38\\u0e02\\u0e43\\u0e08\", \"\\u0e1a\\u0e31\\u0e25\\u0e01\\u0e32\\u0e40\\u0e23\\u0e35\\u0e22\", \"\\u0e40\\u0e23\\u0e35\\u0e22\\u0e01\\u0e23\\u0e49\\u0e2d\\u0e07\", \"\\u0e04\\u0e48\\u0e32\\u0e15\\u0e31\\u0e27\", \"\\u0e1d\\u0e48\\u0e32\", \"\\u0e01\\u0e15\\u0e34\\u0e01\\u0e32\", \"\\u0e15\\u0e33\\u0e41\\u0e2b\\u0e19\\u0e48\\u0e07\", \"\\u0e2e\\u0e31\\u0e48\\u0e19\", \"\\u0e41\\u0e2b\\u0e21\\u0e48\", \"\\u0e43\\u0e2b\\u0e49\\u0e04\\u0e27\\u0e32\\u0e21\\u0e2a\\u0e33\\u0e04\\u0e31\\u0e0d\", \"\\u0e2a\\u0e32\\u0e23\\u0e1b\\u0e19\\u0e40\\u0e1b\\u0e37\\u0e49\\u0e2d\\u0e19\", \"\\u0e1e\\u0e39\\u0e14\\u0e21\\u0e32\\u0e01\", \"\\u0e2b\\u0e25\\u0e31\\u0e07\\u0e04\\u0e32\", \"\\u0e1a\\u0e49\\u0e32\\u0e19\\u0e19\\u0e2d\\u0e01\", \"\\u0e40\\u0e19\\u0e2a\\u0e40\\u0e25\\u0e48\", \"\\u0e27\\u0e31\\u0e22\\u0e17\\u0e33\\u0e07\\u0e32\\u0e19\", \"\\u0e17\\u0e33\\u0e2b\\u0e19\\u0e49\\u0e32\\u0e17\\u0e35\\u0e48\", \"\\u0e40\\u0e23\\u0e35\\u0e22\\u0e01\\u0e04\\u0e48\\u0e32\\u0e40\\u0e2a\\u0e35\\u0e22\\u0e2b\\u0e32\\u0e22\", \"\\u0e14\\u0e34\\u0e19\", \"\\u0e40\\u0e17\\u0e49\\u0e32\", \"\\u0e01\\u0e34\\u0e19\\u0e40\\u0e27\\u0e25\\u0e32\", \"\\u0e02\\u0e49\\u0e32\\u0e27\\u0e42\\u0e2d\\u0e4a\\u0e15\", \"\\u0e40\\u0e1b\\u0e25\\u0e48\\u0e07\\u0e1b\\u0e25\\u0e31\\u0e48\\u0e07\", \"\\u0e15\\u0e49\\u0e2d\", \"\\u0e0a\\u0e37\\u0e48\\u0e19\", \"\\u0e23\\u0e31\\u0e48\\u0e27\", \"vegan\", \"\\u0e0a\\u0e49\\u0e2d\\u0e04\", \"paragon\", \"tipco\", \"\\u0e1f\\u0e31\\u0e19\\u0e1b\\u0e25\\u0e2d\\u0e21\", \"\\u0e25\\u0e31\\u0e1e\\u0e17\\u0e4c\", \"\\u0e2b\\u0e19\\u0e38\\u0e01\", \"\\u0e1c\\u0e48\\u0e2d\\u0e19\\u0e04\\u0e25\\u0e32\\u0e22\", \"\\u0e2a\\u0e39\\u0e15\\u0e34\", \"\\u0e25\\u0e34\\u0e49\\u0e07\", \"\\u0e01\\u0e4a\\u0e32\\u0e0b\", \"\\u0e2a\\u0e34\\u0e17\\u0e18\\u0e34\\u0e4c\", \"\\u0e43\\u0e2b\\u0e49\\u0e01\\u0e33\\u0e40\\u0e19\\u0e34\\u0e14\", \"\\u0e14\\u0e35\\u0e17\\u0e47\\u0e2d\\u0e01\\u0e0b\\u0e4c\", \"\\u0e19\\u0e48\", \"ts\", \"pantipcom\", \"\\u0e14\\u0e37\\u0e48\\u0e21\", \"\\u0e40\\u0e1b\\u0e47\\u0e19\\u0e21\\u0e32\", \"pic\", \"pubmed\", \"\\u0e14\\u0e37\\u0e48\\u0e21\\u0e19\\u0e21\", \"on\", \"\\u0e23\\u0e48\\u0e32\\u0e07\\u0e01\\u0e32\\u0e22\", \"umm\", \"in\", \"\\u0e17\\u0e2d\\u0e07\", \"//\", \"\\u0e42\\u0e0a\\u0e04\\u0e0a\\u0e31\\u0e22\", \"\\u0e44\\u0e14\\u0e49\", \"\\u0e44\\u0e21\\u0e48\", \"\\u0e25\\u0e49\\u0e32\\u0e07\", \"\\u0e07\\u0e32\\u0e19\", \"\\u0e01\\u0e25\\u0e31\\u0e1a\\u0e21\\u0e32\", \"\\u0e15\\u0e2d\\u0e19\", \"\\u0e1d\\u0e32\", \"\\u0e15\\u0e34\\u0e14\", \"\\u0e41\\u0e04\\u0e25\\u0e40\\u0e0b\\u0e35\\u0e22\\u0e21\", \"ad\", \"\\u0e42\\u0e22\\u0e40\\u0e01\\u0e34\\u0e23\\u0e4c\\u0e15\", \"\\u0e41\\u0e01\\u0e49\\u0e27\", \"\\u0e19\\u0e21\", \"\\u0e40\\u0e14\\u0e47\\u0e01\", \"\\u0e2b\\u0e22\\u0e38\\u0e14\", \"\\u0e17\\u0e33\", \"\\u0e17\\u0e49\\u0e2d\\u0e07\", \"\\u0e40\\u0e25\\u0e48\\u0e19\", \"\", \"\\u0e40\\u0e21\\u0e08\\u0e34\", \"\\u0e04\\u0e19\", \"\\u0e25\\u0e2d\\u0e07\", \"\\u0e40\\u0e23\\u0e37\\u0e48\\u0e2d\\u0e07\", \"\\u0e23\\u0e39\\u0e49\", \"\\u0e41\\u0e21\\u0e48\", \"\\u0e01\\u0e25\\u0e48\\u0e2d\\u0e07\", \"\\u0e43\\u0e2a\\u0e48\", \"\\u0e41\\u0e19\\u0e30\\u0e19\\u0e33\", \"\\u0e02\\u0e2d\\u0e1a\\u0e04\\u0e38\\u0e13\", \"\\u0e2a\\u0e32\\u0e23\\u0e2d\\u0e32\\u0e2b\\u0e32\\u0e23\", \"\\u0e17\\u0e49\\u0e2d\\u0e07\\u0e40\\u0e2a\\u0e35\\u0e22\", \"\\u0e25\\u0e39\\u0e01\", \"\\u0e19\\u0e49\\u0e33\", \"\\u0e22\\u0e35\\u0e48\\u0e2b\\u0e49\\u0e2d\", \"\\u0e01\\u0e34\\u0e19\", \"\\u0e1c\\u0e21\", \"\\u0e0b\\u0e37\\u0e49\\u0e2d\", \"\\u0e02\\u0e27\\u0e14\", \"\\u0e44\\u0e17\\u0e22\", \"\\u0e14\\u0e35\", \"\\u0e15\\u0e2d\\u0e19\\u0e19\\u0e35\\u0e49\", \"\\u0e2d\\u0e23\\u0e48\\u0e2d\\u0e22\", \"\\u0e14\\u0e39\", \"\\u0e0a\\u0e2d\\u0e1a\", \"\\u0e21\\u0e2b\\u0e31\\u0e28\\u0e08\\u0e23\\u0e23\\u0e22\\u0e4c\", \"\\u0e40\\u0e21\\u0e08\\u0e34\\u0e01\", \"\\u0e2a\\u0e16\\u0e32\\u0e19\", \"\\u0e40\\u0e1a\\u0e2d\\u0e23\\u0e4c\\u0e42\\u0e17\\u0e23\\u0e28\\u0e31\\u0e1e\\u0e17\\u0e4c\", \"\\u0e22\\u0e32\\u0e2b\\u0e21\\u0e48\\u0e2d\\u0e07\", \"\\u0e0b\\u0e31\\u0e1a\\u0e0b\\u0e49\\u0e2d\\u0e19\", \"\\u0e0a\\u0e34\\u0e07\", \"\\u0e0a\\u0e4a\\u0e2d\\u0e15\", \"\\u0e15\\u0e23\\u0e25\\u0e30\", \"\\u0e25\\u0e30\\u0e25\\u0e31\\u0e07\", \"\\u0e22\\u0e34\\u0e19\", \"what\", \"\\u0e1a\\u0e39\\u0e17\", \"\\u0e2a\\u0e32\\u0e23\\u0e04\\u0e14\\u0e35\", \"\\u0e23\\u0e34\\u0e27\", \"\\u0e21\\u0e21\\u0e21\\u0e21\", \"\\u0e25\\u0e31\\u0e2a\", \"\\u0e41\\u0e27\\u0e25\\u0e39\", \"\\u0e2d\\u0e38\\u0e48\\u0e19\\u0e43\\u0e08\", \"\\u0e04\\u0e25\\u0e32\\u0e2a\\u0e2a\\u0e34\\u0e01\", \"\\u0e2b\\u0e4a\\u0e2d\\u0e21\", \"\\u0e40\\u0e0a\\u0e35\\u0e48\\u0e22\\u0e27\\u0e0a\\u0e32\\u0e0d\", \"\\u0e04\\u0e33\\u0e19\\u0e36\\u0e07\", \"\\u0e40\\u0e1b\\u0e47\\u0e19\\u0e0a\\u0e48\\u0e27\\u0e07\\u0e46\", \"\\u0e1b\\u0e23\\u0e30\\u0e04\\u0e1a\", \"\\u0e1a\\u0e38\\u0e23\\u0e35\", \"\\u0e17\\u0e49\\u0e32\", \"cooking\", \"\\u0e08\\u0e19\\u0e15\\u0e32\\u0e22\", \"\\u0e46\\u0e46\\u0e46\\u0e46\\u0e46\\u0e46\\u0e46\\u0e46\\u0e46\\u0e46\\u0e46\\u0e46\\u0e46\\u0e46\\u0e46\\u0e46\\u0e46\\u0e46\\u0e46\", \"\\u0e44\\u0e25\\u0e15\\u0e4c\", \"\\u0e1c\\u0e31\\u0e27\", \"\\u0e2a\\u0e35\\u0e21\\u0e48\\u0e27\\u0e07\", \"\\u0e1b\\u0e32\\u0e01\\u0e21\\u0e32\\u0e01\", \"\\u0e0a\\u0e37\\u0e48\\u0e2d\\u0e40\\u0e25\\u0e48\\u0e19\", \"\\u0e0a\\u0e2d\\u0e07\", \"\\u0e2d\\u0e31\\u0e22\\u0e22\\u0e4a\\u0e30\", \"\\u0e08\\u0e30\\u0e41\\u0e08\\u0e49\\u0e07\", \"\\u0e40\\u0e1e\\u0e25\\u0e32\", \"\\u0e04\\u0e27\\u0e32\\u0e21\\u0e2a\\u0e19\\u0e43\\u0e08\", \"\\u0e2b\\u0e2d\\u0e1a\", \"\\u0e1b\\u0e23\\u0e30\\u0e2a\\u0e32\\u0e19\", \"\\u0e2a\\u0e41\\u0e15\\u0e21\\u0e1b\\u0e4c\", \"\\u0e25\\u0e4c\", \"\\u0e08\\u0e34\\u0e49\\u0e07\", \"\\u0e41\\u0e21\\u0e01\", \"\\u0e17\\u0e14\\u0e41\\u0e17\\u0e19\", \"\\u0e40\\u0e25\\u0e01\", \"\\u0e42\\u0e23\\u0e07\\u0e40\\u0e23\\u0e35\\u0e22\\u0e19\", \"\\u0e41\\u0e08\\u0e01\", \"\\u0e22\\u0e31\\u0e21\", \"\\u0e1b\\u0e34\\u0e14\\u0e40\\u0e17\\u0e2d\\u0e21\", \"\\u0e14\\u0e27\\u0e07\", \"\\u0e21\\u0e35\\u0e48\", \"\\u0e44\\u0e21\\u0e42\\u0e25\", \"\\u0e14\\u0e31\\u0e0a\\u0e21\\u0e34\\u0e25\\u0e25\\u0e4c\", \"\\u0e04\\u0e4c\", \"\\u0e2d\\u0e32\\u0e21\\u0e48\\u0e32\", \"\\u0e42\\u0e1f\\u0e23\\u0e4c\\u0e42\\u0e21\\u0e2a\\u0e15\\u0e4c\", \"\\u0e40\\u0e25\\u0e35\\u0e22\", \"\\u0e1c\\u0e21\", \"\\u0e2d\\u0e48\\u0e30\", \"\\u0e23\\u0e49\\u0e32\\u0e19\", \"\\u0e42\\u0e19\", \"\\u0e42\\u0e06\\u0e29\\u0e13\\u0e32\", \"\\u0e22\\u0e35\\u0e48\\u0e2b\\u0e49\\u0e2d\", \"\\u0e14\\u0e33\", \"\\u0e08\\u0e37\\u0e14\", \"\\u0e19\\u0e21\\u0e02\\u0e49\\u0e19\", \"\\u0e0b\\u0e37\\u0e49\\u0e2d\", \"\\u0e15\\u0e2d\\u0e19\\u0e19\\u0e35\\u0e49\", \"\\u0e19\\u0e21\\u0e40\\u0e1b\\u0e23\\u0e35\\u0e49\\u0e22\\u0e27\", \"\\u0e01\\u0e34\\u0e19\", \"\\u0e44\\u0e21\\u0e48\", \"\\u0e44\\u0e2b\\u0e21\", \"\\u0e04\\u0e19\", \"\\u0e19\\u0e21\", \"\\u0e14\\u0e37\\u0e48\\u0e21\", \"\\u0e19\\u0e21\\u0e2a\\u0e14\", \"\\u0e40\\u0e14\\u0e47\\u0e01\", \"\\u0e23\\u0e39\\u0e49\\u0e2a\\u0e36\\u0e01\", \"\\u0e43\\u0e2a\\u0e48\", \"\", \"\\u0e15\\u0e2d\\u0e19\", \"\\u0e40\\u0e21\\u0e08\\u0e34\", \"\\u0e25\\u0e39\\u0e01\", \"\\u0e44\\u0e14\\u0e49\", \"\\u0e0a\\u0e2d\\u0e1a\", \"\\u0e14\\u0e35\", \"\\u0e01\\u0e25\\u0e48\\u0e2d\\u0e07\", \"\\u0e19\\u0e21\\u0e16\\u0e31\\u0e48\\u0e27\\u0e40\\u0e2b\\u0e25\\u0e37\\u0e2d\\u0e07\", \"\\u0e14\\u0e39\", \"\\u0e23\\u0e2a\\u0e0a\\u0e32\\u0e15\\u0e34\", \"\\u0e19\\u0e49\\u0e33\\u0e15\\u0e32\\u0e25\", \"\\u0e15\\u0e31\\u0e27\", \"\\u0e2d\\u0e23\\u0e48\\u0e2d\\u0e22\", \"\\u0e23\\u0e39\\u0e49\", \"\\u0e19\\u0e21\\u0e27\\u0e31\\u0e27\", \"\\u0e02\\u0e27\\u0e14\", \"\\u0e17\\u0e32\\u0e19\", \"\\u0e41\\u0e21\\u0e48\"], \"Freq\": [4184.0, 1900.0, 1153.0, 6117.0, 1656.0, 1462.0, 8275.0, 1464.0, 4704.0, 1000.0, 756.0, 5615.0, 1008.0, 955.0, 602.0, 1366.0, 523.0, 652.0, 954.0, 982.0, 389.0, 1148.0, 979.0, 1449.0, 1158.0, 421.0, 1485.0, 1654.0, 190.0, 300.0, 1409.0, 551.0, 365.0, 431.0, 644.0, 809.0, 594.0, 148.0, 526.0, 322.0, 82.24393623336613, 20.125637127869542, 20.560310441943372, 17.349895733032685, 12.872435137532934, 12.866172195107017, 13.420364131940655, 25.47257231448864, 10.247519834398394, 12.654056668754778, 58.324378074453776, 9.705040734667197, 10.867621152039236, 9.602495917223424, 12.27660694698498, 8.422862019477499, 8.397201822059362, 8.395803283354578, 8.340668143324416, 9.563515498770675, 17.221690114571853, 21.48441314999749, 10.032779256329663, 9.284078773730139, 7.64826291788522, 21.800233007324746, 9.972467048336213, 8.299924008818419, 7.119979861226028, 7.109691517582066, 16.729194438062297, 14.881205110368523, 7.074576546632747, 7.06957029716469, 41.51305675971886, 7.065890154530649, 16.706512397730656, 12.414098331278533, 8.096647585095818, 9.819625539829719, 1215.3391111813585, 85.91239802104813, 46.85136289613356, 1210.4108080638332, 3807.914115184125, 77.08923040297935, 88.13434706153843, 22.714219397427982, 33.41478006112964, 4567.837935474634, 454.6796921264742, 612.1274185363443, 2581.409447629491, 89.76105098804048, 46.30851982625174, 179.51630742641936, 64.30861231923022, 171.7541991120524, 130.15545544921255, 88.55772583256352, 29.766833393645403, 116.63638478538003, 159.87929328436886, 203.73209745040705, 458.5725478498018, 240.9418367327272, 304.65855029039875, 2555.3364464934625, 500.89176650239995, 138.8887399444471, 85.2196596090034, 355.7961657151776, 68.72253809208618, 433.4830749430031, 693.8788566788052, 411.3195019423345, 337.38452499006644, 406.0070974429072, 192.89412628466752, 206.37672991596304, 157.58477716694975, 628.4410846109752, 273.5304612902494, 298.8562166170828, 158.99586590054352, 314.43891956706784, 1258.4409030809218, 548.8328958670172, 172.14892383500086, 269.4767295531501, 495.8445205954876, 490.7858014802453, 414.89825444367216, 244.2509302079793, 202.7789326614043, 475.95727848388356, 303.62066918534333, 376.3319338249084, 268.0473107274601, 338.4124394697039, 395.3447011319143, 305.75010824048616, 297.7468307692032, 304.8803849666105, 270.361557286477, 222.42131641947455, 224.95042487994368, 17.969722244935706, 17.953330698996833, 14.84711103193192, 43.91737924917914, 9.228864863747468, 9.10989176807321, 8.587436134799654, 8.525045841145227, 7.00387009916647, 6.980228359984149, 6.913989115125202, 28.091180679527454, 11.783272502736182, 5.4745000815733444, 5.45606726633684, 5.408364902891684, 5.403934603581677, 11.045376673476694, 9.684330328595038, 4.973900965901255, 3.8957663850861555, 3.894085604021354, 3.8807602669247507, 3.8709997579083493, 3.852918821113029, 3.833222238198402, 3.8397892631916797, 3.831267815494765, 3.825213634612574, 3.814723913677635, 3.854596607467693, 8.715069183514698, 12.638799797528224, 4.319246848307686, 3.8040047230783927, 7.278534431513713, 3.732480189165117, 5.982530570452213, 6.625841100382823, 3.6956276605489617, 24.482189608924294, 256.37390060423775, 8.121526618346746, 30.59203616315572, 13.773008828317275, 12.268179711625324, 15.837278997161297, 17.88825564770393, 223.77312667967703, 8.299316569803585, 121.6185207897865, 9.928969697101387, 12.356060229294586, 23.00860505177683, 30.95651035517846, 93.61514800620746, 10.49512788409239, 1255.1871867206671, 276.397706511484, 127.59390186412364, 161.76819232577284, 15.442655560826946, 109.70049681233789, 26.45889295598598, 43.45084234095238, 266.8480550358805, 31.56082788742197, 253.70290665355455, 798.6734774941657, 551.2450156481427, 71.15513941249645, 70.13239798509896, 125.11595890775916, 30.527269567007, 168.81861444535284, 149.10565945040312, 127.30869764944666, 105.74229259257386, 202.9886164820848, 83.82147556974111, 194.64256296851673, 112.61733250764773, 323.53700755125436, 60.84138165583055, 186.50919376893032, 103.95446261918876, 105.0078219630344, 76.82353275061475, 171.39320268728218, 120.64697692690368, 102.16176923653998, 89.56667723347195, 90.2136424327869, 69.81400639267564, 107.96812887070357, 104.64213191869575, 117.43813303548392, 82.53747562992794, 107.55808117980483, 140.31956322919677, 99.74578683292516, 90.12395685358211, 31.397431716823274, 15.30252175849603, 11.263396911586074, 11.216434443567747, 9.572155058319547, 14.83412825495321, 6.772461563421421, 6.718138261808262, 5.822001939064628, 9.74053631232197, 5.254993372141179, 5.234291027655717, 5.206713763669619, 5.193569678145595, 5.122771921770608, 8.071519747189953, 4.323470920080588, 3.7406595817459083, 3.735372443007341, 3.734203189452342, 3.7291662928297513, 3.7081353917378688, 3.708374341997083, 3.7057178416305403, 3.705922187812582, 3.6840341983671445, 3.6744965861914194, 3.6681997369062924, 6.911154704730204, 5.2576622571248155, 4.679981792801259, 6.794144842431373, 6.044276311362936, 3.417629428577023, 2.7992460095422635, 3.916753173916551, 3.3873898361692794, 3.8451857500145503, 3.752131743962318, 8.936744794175247, 6.159832438167063, 18.79408625836056, 27.24828775971029, 17.06709948613481, 498.6458302509608, 31.684714037005385, 329.28823714549605, 88.13486236896577, 11.989472771950792, 10.573307834467345, 145.1526428697456, 11.329597789498733, 21.56265138244777, 159.1442412527907, 7.5901835902776025, 140.3853637323199, 13.656330771174112, 98.53827292659707, 26.435262416760075, 203.56429016918557, 121.88082253653509, 692.4729556377014, 73.88110641128671, 141.85505935592252, 214.0163475027599, 67.97717585910765, 90.6635564011321, 68.0948676038535, 54.1334818584613, 101.14664230007372, 749.4759037382445, 615.0686908398378, 170.22344393986668, 125.58648646865593, 208.96251455203995, 84.82382770396543, 43.76753695305832, 192.9658437475392, 376.50648684617585, 103.58379507074045, 148.4310870506111, 64.76198938832789, 126.9217987976983, 108.1925277971497, 164.9561759551721, 99.37171977462748, 193.3892402946471, 104.96429813904989, 300.2466888849586, 94.2705338761973, 110.60404878147433, 129.3349632935619, 142.2419256536461, 130.69414733630532, 85.16461156999121, 105.47828597467566, 114.05722971043186, 109.93062867045649, 104.70243196717107, 93.14824278921722, 89.90114188869457, 16.251748213472993, 11.629245988583467, 11.746489217651003, 10.273303424357687, 10.212039522810635, 10.181469500638983, 9.813506262598514, 10.151871069421174, 8.644433942622594, 8.423024052820969, 7.063835741761425, 7.037408054959555, 7.023532607661935, 6.796778967614175, 8.326452591058919, 7.479903741546332, 11.497366966606416, 5.483523788660027, 5.474606414037983, 5.459453861350609, 5.415939729243963, 8.301922671856694, 5.351155530728172, 4.557671923970119, 4.469830330785548, 6.436953835955504, 3.9423555286119245, 3.937871209740683, 3.9339074351729693, 3.9290326220621345, 3.9252271094769875, 3.906250809671693, 3.9069967052764842, 3.894978083891715, 3.8949632898368227, 3.889212187009473, 3.870591976664953, 3.857519536904964, 3.734000188085303, 4.367306154192269, 38.21547964458761, 5.6102816593099005, 16.205644433664656, 5.018467168362825, 1630.2648404782194, 28.595573200975913, 21.355549898787864, 11.801685492405571, 41.931905871652276, 22.761686971023536, 54.11468759426902, 10.226928534892258, 12.284095539091187, 6.104865148884969, 98.08115446614954, 211.43430950696697, 65.44426383076733, 19.686329116262936, 372.52146938614277, 911.5212889590142, 221.39104148759696, 223.55190380706017, 69.50249740682327, 85.87774088577075, 28.043194843702093, 525.1222199122886, 176.54059749542247, 392.8560258210864, 74.01587593044648, 113.55936352314575, 160.26569486580442, 108.75527838041523, 41.57125020863292, 176.0917720176286, 87.55185540403485, 140.36823876003322, 112.1332331458429, 59.87289156796697, 289.7465661400708, 118.08336624246822, 104.88029841825973, 47.551274177096005, 139.52032885747056, 107.50857030084354, 75.84283574289982, 79.72619395679328, 135.89734600967776, 83.46516769970462, 120.91287030017202, 76.43319422360729, 111.75517692188815, 80.2068039454511, 107.21682878598939, 60.1442159108789, 69.15440912141084, 77.32965064527441, 79.9041409776087, 67.59307622049704, 72.50406939673792, 11.023210663672995, 8.766449490708675, 8.720609055244841, 8.41060322079057, 8.390851546746745, 7.795996227829888, 11.367727307152833, 7.159361152805692, 7.144732224390272, 7.0940371805490186, 7.0152362769552346, 6.548391667860957, 6.807378597226384, 6.9971022539811445, 12.662592988637632, 5.581225569059073, 5.572742280229523, 5.546058209974507, 5.534821824679072, 5.5365371306735485, 5.472301155657501, 6.667949985327352, 6.692229096164575, 5.365138392960453, 3.975834882022929, 3.9634269134919617, 3.9535833522502606, 3.942669724756939, 3.943897583711814, 3.926209352710556, 31.849033707384447, 3.868793774189754, 3.847028036288471, 3.8014987724492375, 5.616130308120039, 8.599483845200668, 7.304388647056587, 3.821104791690058, 13.294863936799072, 3.000029632717825, 145.8676973613554, 10.808750517930667, 6.887035222787819, 13.284477204521165, 5.445034466190465, 224.37267894703396, 491.496437331044, 307.56383457869373, 13.452111537988422, 12.992229669855963, 11.268014456595834, 256.69637517471944, 83.23999854226737, 42.573045129885195, 40.29994303284741, 55.116761730361404, 55.46736166875765, 37.32827167303505, 22.130993802508836, 221.95302604926385, 45.30530413137684, 134.2704412570221, 21.237836343592782, 18.39398810787186, 85.66237032969357, 47.619304331585596, 152.6680552867324, 407.74637332378165, 47.16135238959295, 24.637479031779314, 146.20263278775576, 30.545107635085465, 332.6882111342265, 96.85583600984243, 92.58930669266361, 267.11148807030236, 307.34374575757164, 36.63791866528451, 63.99640817535979, 42.48422659652566, 56.55428194659815, 32.29021107123105, 76.9318567478444, 93.66858230023732, 125.41972273865684, 73.4155291142144, 75.56832475775217, 69.10728073042948, 48.40636550785842, 161.61011260792736, 101.59755308736946, 76.41096868960798, 77.49948675649962, 70.29112324521488, 90.4994868894068, 85.40331664187677, 84.16794322330107, 74.13674990574717, 61.88137243605552, 68.8457509109616, 67.61849002353507, 55.395147782940654, 63.59295319860047, 55.85168290094044, 40.771199666820905, 12.916656707805314, 11.419756765102186, 11.423054860381855, 9.957530783143271, 9.844610691311809, 8.454664032822668, 8.441912863084871, 8.435417459572443, 8.106692464562466, 8.280272956099681, 8.285722962051098, 6.811622336001699, 6.726794489090573, 6.707961249952934, 6.679374719621697, 6.465788739779098, 6.384509347460971, 5.342215813051908, 5.168130850178839, 4.914741492225988, 8.142871261693227, 7.214317518023724, 3.827934125517008, 3.8257149341304366, 3.8211033906330845, 3.816241219771746, 3.769855589736302, 5.439676351310581, 3.7343651466918706, 8.300665177856514, 3.566963490841557, 5.087511398577433, 4.60166690285635, 4.772855846434756, 6.814996557667862, 14.009368426328766, 4.502380939625754, 22.688673920277733, 4.332646438910441, 8.561491869329334, 17.20457835854904, 71.69453129075015, 19.209601559251727, 10.966590324935753, 17.020540138692496, 557.7673547055895, 65.37467736998194, 31.90002458503012, 11.497106534793529, 18.92887746753429, 256.1726072640509, 95.14222602807588, 288.98711990259244, 173.75789818382603, 63.753545597735865, 42.84990463202906, 185.95940967826974, 118.86747113734408, 63.37464634470907, 96.86836074795801, 119.48469101260837, 94.4098344354641, 17.81329352257849, 63.660362611856335, 482.152468907561, 172.9275673144828, 157.66588659204132, 185.21003439605136, 425.1693081967034, 36.38795813036267, 34.29252251536779, 23.874808798069093, 257.1750223661658, 39.23819866167745, 146.86480896997833, 121.25388538997797, 71.0426235161075, 50.701052611359046, 84.9699394920243, 199.07671945783463, 64.62965951923837, 111.28051388522812, 204.05690337348136, 55.11092337225351, 73.0107029031053, 71.42039910078154, 70.33795050580066, 95.68320800777268, 73.19098734156583, 61.088161376881786, 73.21171945155531, 84.15501403002118, 54.109957888089845, 53.75233542398689, 10.997663165065996, 10.766642898592666, 7.273147824526555, 7.2638495641440235, 7.198755709999252, 5.912634703857603, 12.06101532861793, 5.669796154677195, 4.6239785967237985, 4.617433701047096, 4.6051008588077815, 4.5671361664626415, 33.08998528640807, 15.537654714094705, 4.355427526565845, 3.2704563233261528, 3.269816610852742, 3.2672630384927617, 4.684151527693609, 3.5503303419601515, 2.4965307028233465, 12.688908388421853, 3.0425726081993267, 8.554943137897201, 5.378394871621018, 4.83509426801678, 6.110148286065086, 2.9650835238279987, 2.87498678850014, 3.2916934957566535, 13.142735571120618, 3.8131145756901486, 3.2946055634390934, 2.878484473935935, 1.9735763108771234, 1.971946872358373, 1.9720987899345572, 1.9701813488644304, 1.968307258963686, 1.9669354771777443, 9.99715361058446, 5.4157899672971395, 7.083497390511696, 5.279267333777383, 8.086370526141309, 5.3138732529120976, 11.389587139686547, 43.48368976076962, 309.1530486099185, 6.938555959897839, 12.582407759082963, 5.951943282453604, 126.4381382349003, 9.511983155455386, 76.38496552202179, 12.126501982053977, 15.568290043080664, 19.715261398353476, 88.07478702825124, 56.11995399696001, 281.5914155445262, 380.8954190352169, 16.659136649155112, 36.71765034487988, 30.746196397437274, 75.50144004053593, 35.598182919812345, 36.87293046394145, 33.816047257762236, 9.107564242918698, 68.10089632302807, 43.43672875836087, 177.22178795300957, 64.19120891275433, 23.357518083472776, 84.70414992214879, 40.83821593743171, 26.734565131176797, 128.32118637207253, 62.962816208596, 68.58226770785247, 57.22541937128365, 46.0799166556889, 53.90523548700875, 67.27530911397201, 56.75805305293667, 52.692066205670834, 33.0884321836441, 42.65866046241519, 34.61054225420371, 31.72755830585255, 54.73523169847436, 38.70740116553699, 50.726417127323685, 69.69976585892995, 50.99946767189686, 47.85602386642799, 40.9948651995124, 37.56021010219926, 41.75713105180139, 36.459654342049866, 39.186637411027625, 37.212170327861365, 37.004856742606584, 11.072706801822946, 7.725865405942249, 7.484951933134764, 5.317648165060044, 5.273472132783785, 5.2006568830059425, 4.596428956591161, 4.347048605347229, 4.122978426222907, 4.102060956147646, 4.099769856837283, 4.054064520532577, 3.9842524105926636, 3.3998347324230838, 35.18217433559605, 2.9451226995627846, 2.9441164156075783, 2.937453801684146, 2.9314358570180348, 2.933631017735081, 2.9240919124393385, 2.9346470621923366, 2.8928444983412964, 2.884378572148953, 2.6983672091871043, 2.2285687730125607, 2.223769700797515, 2.2178234125001093, 1.763367057181303, 1.7628779608042104, 1.7613542512098654, 1.7605096106910412, 1.759445239845589, 1.759537845584547, 1.757490282703372, 1.7556969689975366, 1.755858731464431, 1.7550413489330374, 1.7540487534868034, 1.7559716914210775, 5.908478969198229, 3.340241868129048, 7.732623958458999, 3.423421818839409, 2.811365731719864, 10.28362210842047, 12.063115895597885, 2.468077685769014, 52.10386437122164, 25.789962215089123, 18.234783231646826, 6.49670395735021, 17.73667767310141, 19.998367876605528, 11.998841323174425, 54.7185514634836, 11.747964044201527, 8.67521992360858, 72.24939586038771, 9.432062583948062, 103.30465090754309, 46.576811062336205, 39.97652532438182, 9.259079824795181, 24.674114957949786, 76.67040621741207, 17.480478301840225, 45.793864534417764, 20.718150148723893, 74.36228840045158, 40.97032155042898, 24.1981281254148, 106.99258566477964, 134.3254423361446, 31.382272812311687, 60.03198213941413, 99.59311573247278, 47.754405636051246, 43.80820704233952, 40.34641883249256, 29.847918081146137, 42.468129152944606, 85.26670224532593, 33.862177369832445, 41.78635665641744, 46.30611472686016, 65.69684421479818, 47.718319393546885, 41.5962963515322, 37.66841131639774, 22.645850255753974, 33.06138959641154, 28.65167475892979, 27.700500978905836, 26.15121886919114, 32.029682628159826, 28.829910096551483, 26.541437075423403, 26.48337684801217, 26.9175944452397, 25.755083418106597], \"Total\": [4184.0, 1900.0, 1153.0, 6117.0, 1656.0, 1462.0, 8275.0, 1464.0, 4704.0, 1000.0, 756.0, 5615.0, 1008.0, 955.0, 602.0, 1366.0, 523.0, 652.0, 954.0, 982.0, 389.0, 1148.0, 979.0, 1449.0, 1158.0, 421.0, 1485.0, 1654.0, 190.0, 300.0, 1409.0, 551.0, 365.0, 431.0, 644.0, 809.0, 594.0, 148.0, 526.0, 322.0, 83.36620709645986, 21.021069848602426, 21.540095373438774, 18.377395344128193, 13.767996308476684, 13.761404454183088, 14.468402655193154, 27.52925353593844, 11.160140048480958, 13.800541471085129, 63.642949763802335, 10.600859509403692, 11.922041179044689, 10.566679275181592, 13.550749816251038, 9.317344400744622, 9.293530546825224, 9.29258304755636, 9.24162643340995, 10.616747032890919, 19.157485851656457, 23.91431640258025, 11.200575448163132, 10.369051132702738, 8.543332306001018, 24.38830224651364, 11.188699758993414, 9.3284857155789, 8.014608177128077, 8.005250899317641, 18.848270539013846, 16.76838805361042, 7.972751982511763, 7.967825913685276, 46.90875892503682, 7.99447622845822, 18.951022820016885, 14.149555587067931, 9.235609824895056, 11.210997043127838, 1579.2199667669868, 99.12341798015137, 53.591064473565524, 1654.0729717551244, 5615.209480252276, 93.76942469196882, 108.7092403975546, 26.258261824457925, 39.682121708850275, 8275.242520991695, 662.3119205975347, 946.5236842502447, 4704.810368335064, 117.10730900934456, 56.78973951535097, 256.0956269847499, 81.938958562268, 245.1421014819297, 181.21476738736396, 118.69543104552152, 35.66026137512268, 162.76721571542095, 232.13439775253107, 303.9206831583962, 773.0776541533836, 372.93297875235424, 497.65245491960434, 6117.428289883082, 901.549937806789, 203.02355607403413, 116.32538738476606, 634.2775661365615, 93.38091283074546, 816.1043238545687, 1485.3134839148454, 788.140860467124, 637.205603310619, 809.4075069025982, 324.71027151913705, 355.56682139765275, 253.8205177782837, 1449.0202057532956, 521.1870465381293, 588.7848923059422, 262.6749599282342, 652.2039037290241, 4184.226724454374, 1464.2415381097483, 293.001864022213, 559.8944998434333, 1366.8695670369207, 1409.637810088432, 1153.5532018025883, 523.4500391945782, 385.9918426467358, 1656.8335193970863, 783.0312679463706, 1158.9413941783973, 633.7046526026429, 982.7768898786322, 1900.558867080386, 1000.7549512052541, 1008.0911301639237, 1148.6588224016284, 954.388066464013, 507.99430456878804, 1462.732916767674, 18.844604828872328, 18.827593236196705, 15.719895755165105, 47.82211758687232, 10.101510188786019, 9.984576071248604, 9.459855348634903, 9.40152253262303, 7.876772674820254, 7.8533417767606855, 7.788990961324427, 31.651213960259835, 13.521265537945975, 6.34527248708367, 6.3274100918451905, 6.281493049160957, 6.2770622050775895, 13.08554427860462, 11.595804772857804, 6.029148469520873, 4.76676134068859, 4.764875799311932, 4.75188764418267, 4.742759652372064, 4.72491310138993, 4.706046333296107, 4.714982046561035, 4.7052157674479105, 4.699405361782547, 4.687479824016664, 4.749192423098741, 10.752846716727804, 15.61170796191984, 5.361609102271067, 4.748902443690104, 9.112848688770567, 4.7047532159313095, 7.570597084747991, 8.466726585070818, 4.746676062259668, 31.686264535310826, 389.6449807249559, 10.448888158759209, 44.22555682629637, 18.754160326060017, 16.588901572209654, 22.086705191105025, 25.31355518438185, 421.6955728747187, 10.9376051634535, 237.42260682270336, 13.583729629946038, 17.651314660010637, 36.74296696061726, 52.558129942597645, 194.20017932216024, 14.795342359119072, 6117.428289883082, 954.388066464013, 375.1328453934676, 551.6988060171716, 24.932464429506634, 344.3868463270666, 52.74662056525934, 107.30215575637273, 1464.2415381097483, 69.51166775279123, 1409.637810088432, 8275.242520991695, 4704.810368335064, 229.00385023028363, 224.60258427874106, 565.0289797675985, 67.06450529044919, 955.7137777486163, 783.0312679463706, 615.4243784039508, 465.77934648906137, 1449.0202057532956, 334.8856090448677, 1366.8695670369207, 594.546293868792, 4184.226724454374, 215.33479846318644, 1656.8335193970863, 615.286752944317, 637.1703301562535, 365.41202216483225, 1900.558867080386, 979.048002711934, 773.0776541533836, 588.7848923059422, 633.7046526026429, 338.7474910987575, 1008.0911301639237, 1000.7549512052541, 1462.732916767674, 538.2913212174806, 1148.6588224016284, 5615.209480252276, 1485.3134839148454, 901.549937806789, 32.31578924682637, 16.199209046512966, 12.14314292853114, 12.096021649066516, 10.460403337982951, 16.286997649146166, 7.648550220713445, 7.596820440185136, 6.700028607794312, 11.235188652331559, 6.131805769802089, 6.111676609028876, 6.085030929773454, 6.071781566172114, 6.06410912596698, 9.70849232698177, 5.232578121285979, 4.616751397507807, 4.61157757729663, 4.610821908343728, 4.605946524764509, 4.584775886283014, 4.585411061795691, 4.5835583708577525, 4.584524866265008, 4.5621548792226525, 4.553771984999876, 4.6081229665318, 8.804188843691433, 6.727892542169412, 6.0330628659789625, 8.811455490455867, 7.9276125597292735, 4.505085148314679, 3.7072493127201778, 5.23742253008759, 4.531938486677353, 5.146732096474829, 5.146842038781263, 12.28333882225454, 8.493855678098058, 28.066490829040355, 43.76666655315239, 26.587545580126296, 1462.732916767674, 57.179121770564, 1008.0911301639237, 217.53334206010064, 19.067593115105673, 16.393184562877096, 433.85441181416525, 17.99050277366889, 40.24827919671685, 495.4616630557092, 11.12389995962606, 529.947681291373, 23.92825740298294, 334.8554133498613, 58.98214411845012, 954.388066464013, 464.3194449512964, 5615.209480252276, 234.63956779236545, 602.7092792687812, 1158.9413941783973, 226.0877277627349, 344.1187485696422, 228.94527981475463, 166.450661456614, 414.6899891098374, 8275.242520991695, 6117.428289883082, 955.7137777486163, 615.4243784039508, 1449.0202057532956, 365.8981527417206, 133.02132179521703, 1366.8695670369207, 4184.226724454374, 518.81603446625, 979.048002711934, 248.56914828093966, 816.1043238545687, 637.1703301562535, 1409.637810088432, 565.0289797675985, 1900.558867080386, 626.4419842171292, 4704.810368335064, 551.6988060171716, 788.140860467124, 1148.6588224016284, 1485.3134839148454, 1464.2415381097483, 526.4758126080856, 1000.7549512052541, 1654.0729717551244, 1656.8335193970863, 1579.2199667669868, 1153.5532018025883, 982.7768898786322, 17.208250288582608, 12.507068687260267, 12.675395989288482, 11.143305912361575, 11.085467287917867, 11.055881746599125, 10.696816366255803, 11.071038287991255, 9.51532263211187, 9.300351799754585, 7.935891621238959, 7.9096554059860145, 7.895985490432766, 7.684693243958717, 9.422397581825207, 8.560771887333562, 13.188787212766064, 6.35418277698559, 6.346196221731806, 6.330596115879189, 6.351243953537033, 9.823745842036528, 6.3338665648033965, 5.427462037807565, 5.435647545755793, 7.845201278733534, 4.811492109074714, 4.807115018248347, 4.80346517209377, 4.799232893831799, 4.794843264483111, 4.777073663406908, 4.778022052059173, 4.7661457462047006, 4.767135148761527, 4.7622875118898875, 4.7425214156089845, 4.731165357521599, 4.6082879708927935, 5.402884207953954, 47.581477473596976, 6.958497775957748, 22.255282906279344, 6.286391828458677, 4184.226724454374, 44.194167574896014, 36.85856372738125, 17.802335622227957, 87.18957275794692, 41.274556797801864, 123.05297664952701, 15.352954475470645, 19.38434396095393, 8.207986121122469, 267.0066781049658, 756.2153892937371, 171.1326445380412, 36.262712049727234, 1900.558867080386, 8275.242520991695, 1409.637810088432, 1485.3134839148454, 254.03841231399093, 355.89325077272747, 67.23873881492098, 6117.428289883082, 1148.6588224016284, 4704.810368335064, 313.95810252843677, 644.5488350615182, 1153.5532018025883, 615.286752944317, 125.18309229059128, 1462.732916767674, 476.90171178576117, 1158.9413941783973, 809.4075069025982, 259.7480128752401, 5615.209480252276, 979.048002711934, 788.140860467124, 191.00412569545227, 1654.0729717551244, 982.7768898786322, 495.4616630557092, 563.8454650776015, 1656.8335193970863, 634.2775661365615, 1464.2415381097483, 565.0289797675985, 1449.0202057532956, 633.7046526026429, 1366.8695670369207, 334.8554133498613, 518.81603446625, 783.0312679463706, 955.7137777486163, 559.8944998434333, 1000.7549512052541, 11.891789534049147, 9.635971816324426, 9.592222667837511, 9.290385010972457, 9.271623633773853, 8.66572474952962, 12.744679198463297, 8.028743074169869, 8.014515937488365, 7.966506927505924, 7.9651944154237, 7.436209512423357, 7.746167338240251, 8.032690675779884, 14.596424922101608, 6.449389529434015, 6.441681642825154, 6.415176354655491, 6.404669634116327, 6.4069217155144536, 6.381022148030311, 7.908008710423349, 7.951505243498349, 6.389505092364494, 4.843936804805557, 4.832123270529806, 4.822351701330323, 4.811849807651973, 4.8140041080341005, 4.795794146308664, 38.935524293807106, 4.740524829936962, 4.719745592273427, 4.677437250952246, 7.048243675752753, 10.823784598726862, 9.197822711248579, 4.816021240281144, 16.81614389833493, 3.8682352163515348, 190.8702021070156, 14.155385949932455, 8.917151213695401, 19.046481394156633, 7.0387715863136, 602.7092792687812, 1656.8335193970863, 1000.7549512052541, 20.776158457787226, 20.289514202124426, 17.43090780879512, 982.7768898786322, 230.7373518373095, 96.38399601255367, 91.4569791097678, 149.3794392837691, 151.5975814139244, 91.0416805483088, 44.61048846065094, 1464.2415381097483, 137.21617581658816, 756.2153892937371, 44.83779537319359, 37.52317231750713, 431.5497316896259, 163.7516541544489, 1148.6588224016284, 6117.428289883082, 174.5311689337489, 59.429493764832806, 1158.9413941783973, 86.8620943822947, 4704.810368335064, 626.4419842171292, 615.286752944317, 5615.209480252276, 8275.242520991695, 137.56691897763156, 421.6955728747187, 186.2410992728895, 330.8058174425422, 109.96157876776448, 633.7046526026429, 979.048002711934, 1900.558867080386, 594.546293868792, 637.1703301562535, 538.2913212174806, 259.7179840508581, 4184.226724454374, 1485.3134839148454, 783.0312679463706, 816.1043238545687, 662.3119205975347, 1449.0202057532956, 1462.732916767674, 1409.637810088432, 955.7137777486163, 503.29536250836696, 954.388066464013, 946.5236842502447, 386.9104965448295, 1366.8695670369207, 637.205603310619, 41.64928752438736, 13.798080760525085, 12.298100374441136, 12.301801513888714, 10.833335641912411, 10.725566759496088, 9.32851020569135, 9.316434296454576, 9.310236009216856, 8.981610940386469, 9.230565068383653, 9.252179983186721, 7.688640636445471, 7.606846644377723, 7.589205125646911, 7.560367805405973, 7.3531705859009815, 7.277337143562007, 6.21689066732727, 6.0480251259835915, 5.80825456135962, 9.724765352339817, 8.848002124539484, 4.701160903642128, 4.699079404819702, 4.694810413391341, 4.690235285022214, 4.645229770614527, 6.8070967398184425, 4.678436516708673, 10.478176997806417, 4.534635705907096, 6.515501593940516, 5.9285048390790145, 6.19692510734942, 8.879553154945278, 18.480671721933234, 6.040184105784888, 30.82573563732378, 5.9180409074431335, 11.733387976453114, 24.522959073108897, 131.90276768982397, 30.776558656641743, 16.107693180726436, 27.492446850895682, 1900.558867080386, 146.5964916813802, 60.1953574945962, 17.486879135529136, 33.65382681480231, 955.7137777486163, 300.7979560492084, 1462.732916767674, 756.2153892937371, 191.00412569545227, 109.69370885810298, 979.048002711934, 526.4758126080856, 205.11441942984465, 415.18355032836394, 594.546293868792, 431.1719948565849, 33.50465082125748, 238.23714466826945, 6117.428289883082, 1148.6588224016284, 1008.0911301639237, 1366.8695670369207, 8275.242520991695, 116.1182843708539, 105.2192854716465, 54.64532913919273, 4184.226724454374, 139.9880494731582, 1656.8335193970863, 1158.9413941783973, 414.6899891098374, 224.60258427874106, 652.2039037290241, 4704.810368335064, 399.08752775401723, 1409.637810088432, 5615.209480252276, 313.95810252843677, 644.5488350615182, 637.1703301562535, 626.4419842171292, 1485.3134839148454, 816.1043238545687, 495.4616630557092, 901.549937806789, 1449.0202057532956, 637.205603310619, 633.7046526026429, 11.90285951423385, 11.98639702901506, 8.166883920698492, 8.157038457925188, 8.096026156143882, 6.806229794713592, 13.967383358072608, 6.727295679000851, 5.5164148873709875, 5.510095024754989, 5.499275677580876, 5.460721597766894, 39.75999272792743, 19.14866149999222, 5.494694681552736, 4.1629902104530006, 4.162711132275592, 4.159580788270188, 6.063037336820771, 4.730504067965549, 3.3879020270291185, 17.346106870881652, 4.216354737464119, 11.944677717033121, 7.509656581867974, 6.7734634852399624, 8.592857125949307, 4.198741647285331, 4.100309090076722, 4.7194313591445995, 18.9498800030928, 5.503848635687122, 4.778562496625368, 4.17798248770317, 2.864909501777054, 2.8632451103734593, 2.8634828178757137, 2.8616155569922364, 2.8601575433816624, 2.858481764556773, 14.941350621929724, 8.124211149509202, 10.78605970254071, 7.958329838232432, 12.506081142170153, 8.070514459530628, 18.937587535844372, 98.44984289590393, 1153.5532018025883, 11.50902564997238, 24.633416976801893, 9.872091244755499, 523.4500391945782, 18.510317898206825, 322.70141351161766, 25.83446236317455, 37.43612307212823, 54.263496440744426, 563.8454650776015, 300.7979560492084, 4704.810368335064, 8275.242520991695, 46.68335771456835, 183.07819339417688, 138.91823563562215, 644.5488350615182, 188.80647973958654, 204.19716009224442, 197.30033447747772, 18.67173064084896, 756.2153892937371, 330.8058174425422, 6117.428289883082, 809.4075069025982, 108.86489192262297, 1656.8335193970863, 355.89325077272747, 151.8133687255994, 5615.209480252276, 1148.6588224016284, 1485.3134839148454, 982.7768898786322, 588.7848923059422, 901.549937806789, 1579.2199667669868, 1158.9413941783973, 979.048002711934, 284.6822243124996, 602.7092792687812, 335.9571095609917, 267.0066781049658, 1654.0729717551244, 538.2913212174806, 1366.8695670369207, 4184.226724454374, 1464.2415381097483, 1449.0202057532956, 783.0312679463706, 615.4243784039508, 1409.637810088432, 507.99430456878804, 1462.732916767674, 1000.7549512052541, 1900.558867080386, 11.985523494851517, 8.62981772825105, 8.401157706003355, 6.2229237883918005, 6.182573020655516, 6.113144415562131, 5.501609115432602, 5.260031097743361, 5.027892167368136, 5.008056591438126, 5.005338054170673, 4.9616081470416145, 5.035866980500534, 4.3043194961767535, 44.873678382887164, 3.8494888045432476, 3.8487713122305887, 3.8418762298487055, 3.8365887587737575, 3.8400602774380777, 3.830005298538954, 3.846228418804008, 3.8013234253247608, 3.7915296986166833, 3.602033006001777, 3.132382961750893, 3.1280364632373194, 3.1225986699901895, 2.666871733372901, 2.666524132919063, 2.664983931662692, 2.6643512025370235, 2.663224282920337, 2.6635027783823855, 2.661471450601938, 2.6598172731598453, 2.660156288102196, 2.659066091592442, 2.657830337392965, 2.6609614227790965, 9.055872782383549, 5.087962504147892, 13.245601191550044, 5.529978740743843, 4.472001150542137, 19.183215782453672, 24.82715913301049, 3.940105250340907, 148.5684182392785, 63.50396089865987, 46.44038715353871, 13.05149934451729, 47.031369697294636, 58.51668646414438, 35.377730367882236, 365.41202216483225, 35.8334611698604, 23.047952561537386, 652.2039037290241, 26.591191192777103, 1464.2415381097483, 431.1719948565849, 375.1222698125545, 28.496565565864238, 170.16464706705733, 1366.8695670369207, 94.09224022156886, 551.6988060171716, 131.02216136142067, 1449.0202057532956, 507.99430456878804, 180.60085591054136, 4184.226724454374, 8275.242520991695, 338.7474910987575, 1485.3134839148454, 6117.428289883082, 1153.5532018025883, 954.388066464013, 809.4075069025982, 399.08752775401723, 979.048002711934, 5615.209480252276, 644.5488350615182, 1148.6588224016284, 1654.0729717551244, 4704.810368335064, 1900.558867080386, 1409.637810088432, 1158.9413941783973, 254.03841231399093, 1000.7549512052541, 594.546293868792, 615.286752944317, 503.29536250836696, 1462.732916767674, 901.549937806789, 634.2775661365615, 783.0312679463706, 1008.0911301639237, 1579.2199667669868], \"Category\": [\"Default\", \"Default\", \"Default\", \"Default\", \"Default\", \"Default\", \"Default\", \"Default\", \"Default\", \"Default\", \"Default\", \"Default\", \"Default\", \"Default\", \"Default\", \"Default\", \"Default\", \"Default\", \"Default\", \"Default\", \"Default\", \"Default\", \"Default\", \"Default\", \"Default\", \"Default\", \"Default\", \"Default\", \"Default\", \"Default\", \"Default\", \"Default\", \"Default\", \"Default\", \"Default\", \"Default\", \"Default\", \"Default\", \"Default\", \"Default\", \"Topic1\", \"Topic1\", \"Topic1\", \"Topic1\", \"Topic1\", \"Topic1\", \"Topic1\", \"Topic1\", \"Topic1\", \"Topic1\", \"Topic1\", \"Topic1\", \"Topic1\", \"Topic1\", \"Topic1\", \"Topic1\", \"Topic1\", \"Topic1\", \"Topic1\", \"Topic1\", \"Topic1\", \"Topic1\", \"Topic1\", \"Topic1\", \"Topic1\", \"Topic1\", \"Topic1\", \"Topic1\", \"Topic1\", \"Topic1\", \"Topic1\", \"Topic1\", \"Topic1\", \"Topic1\", \"Topic1\", \"Topic1\", \"Topic1\", \"Topic1\", \"Topic1\", \"Topic1\", \"Topic1\", \"Topic1\", \"Topic1\", \"Topic1\", \"Topic1\", \"Topic1\", \"Topic1\", \"Topic1\", \"Topic1\", \"Topic1\", \"Topic1\", \"Topic1\", \"Topic1\", \"Topic1\", \"Topic1\", \"Topic1\", \"Topic1\", \"Topic1\", \"Topic1\", \"Topic1\", \"Topic1\", \"Topic1\", \"Topic1\", \"Topic1\", \"Topic1\", \"Topic1\", \"Topic1\", \"Topic1\", \"Topic1\", \"Topic1\", \"Topic1\", \"Topic1\", \"Topic1\", \"Topic1\", \"Topic1\", \"Topic1\", \"Topic1\", \"Topic1\", \"Topic1\", \"Topic1\", \"Topic1\", \"Topic1\", \"Topic1\", \"Topic1\", \"Topic1\", \"Topic1\", \"Topic1\", \"Topic1\", \"Topic1\", \"Topic1\", \"Topic1\", \"Topic1\", \"Topic1\", \"Topic1\", \"Topic1\", \"Topic1\", \"Topic1\", \"Topic1\", \"Topic1\", \"Topic1\", \"Topic1\", \"Topic1\", \"Topic1\", \"Topic1\", \"Topic1\", \"Topic1\", \"Topic1\", \"Topic2\", \"Topic2\", \"Topic2\", \"Topic2\", \"Topic2\", \"Topic2\", \"Topic2\", \"Topic2\", \"Topic2\", \"Topic2\", \"Topic2\", \"Topic2\", \"Topic2\", \"Topic2\", \"Topic2\", \"Topic2\", \"Topic2\", \"Topic2\", \"Topic2\", \"Topic2\", \"Topic2\", \"Topic2\", \"Topic2\", \"Topic2\", \"Topic2\", \"Topic2\", \"Topic2\", \"Topic2\", \"Topic2\", \"Topic2\", \"Topic2\", \"Topic2\", \"Topic2\", \"Topic2\", \"Topic2\", \"Topic2\", \"Topic2\", \"Topic2\", \"Topic2\", \"Topic2\", \"Topic2\", \"Topic2\", \"Topic2\", \"Topic2\", \"Topic2\", \"Topic2\", \"Topic2\", \"Topic2\", \"Topic2\", \"Topic2\", \"Topic2\", \"Topic2\", \"Topic2\", \"Topic2\", \"Topic2\", \"Topic2\", \"Topic2\", \"Topic2\", \"Topic2\", \"Topic2\", \"Topic2\", \"Topic2\", \"Topic2\", \"Topic2\", \"Topic2\", \"Topic2\", \"Topic2\", \"Topic2\", \"Topic2\", \"Topic2\", \"Topic2\", \"Topic2\", \"Topic2\", \"Topic2\", \"Topic2\", \"Topic2\", \"Topic2\", \"Topic2\", \"Topic2\", \"Topic2\", \"Topic2\", \"Topic2\", \"Topic2\", \"Topic2\", \"Topic2\", \"Topic2\", \"Topic2\", \"Topic2\", \"Topic2\", \"Topic2\", \"Topic2\", \"Topic2\", \"Topic2\", \"Topic2\", \"Topic2\", \"Topic2\", \"Topic2\", \"Topic2\", \"Topic2\", \"Topic2\", \"Topic2\", \"Topic2\", \"Topic3\", \"Topic3\", \"Topic3\", \"Topic3\", \"Topic3\", \"Topic3\", \"Topic3\", \"Topic3\", \"Topic3\", \"Topic3\", \"Topic3\", \"Topic3\", \"Topic3\", \"Topic3\", \"Topic3\", \"Topic3\", \"Topic3\", \"Topic3\", \"Topic3\", \"Topic3\", \"Topic3\", \"Topic3\", \"Topic3\", \"Topic3\", \"Topic3\", \"Topic3\", \"Topic3\", \"Topic3\", \"Topic3\", \"Topic3\", \"Topic3\", \"Topic3\", \"Topic3\", \"Topic3\", \"Topic3\", \"Topic3\", \"Topic3\", \"Topic3\", \"Topic3\", \"Topic3\", \"Topic3\", \"Topic3\", \"Topic3\", \"Topic3\", \"Topic3\", \"Topic3\", \"Topic3\", \"Topic3\", \"Topic3\", \"Topic3\", \"Topic3\", \"Topic3\", \"Topic3\", \"Topic3\", \"Topic3\", \"Topic3\", \"Topic3\", \"Topic3\", \"Topic3\", \"Topic3\", \"Topic3\", \"Topic3\", \"Topic3\", \"Topic3\", \"Topic3\", \"Topic3\", \"Topic3\", \"Topic3\", \"Topic3\", \"Topic3\", \"Topic3\", \"Topic3\", \"Topic3\", \"Topic3\", \"Topic3\", \"Topic3\", \"Topic3\", \"Topic3\", \"Topic3\", \"Topic3\", \"Topic3\", \"Topic3\", \"Topic3\", \"Topic3\", \"Topic3\", \"Topic3\", \"Topic3\", \"Topic3\", \"Topic3\", \"Topic3\", \"Topic3\", \"Topic3\", \"Topic3\", \"Topic3\", \"Topic3\", \"Topic3\", \"Topic3\", \"Topic3\", \"Topic3\", \"Topic3\", \"Topic3\", \"Topic4\", \"Topic4\", \"Topic4\", \"Topic4\", \"Topic4\", \"Topic4\", \"Topic4\", \"Topic4\", \"Topic4\", \"Topic4\", \"Topic4\", \"Topic4\", \"Topic4\", \"Topic4\", \"Topic4\", \"Topic4\", \"Topic4\", \"Topic4\", \"Topic4\", \"Topic4\", \"Topic4\", \"Topic4\", \"Topic4\", \"Topic4\", \"Topic4\", \"Topic4\", \"Topic4\", \"Topic4\", \"Topic4\", \"Topic4\", \"Topic4\", \"Topic4\", \"Topic4\", \"Topic4\", \"Topic4\", \"Topic4\", \"Topic4\", \"Topic4\", \"Topic4\", \"Topic4\", \"Topic4\", \"Topic4\", \"Topic4\", \"Topic4\", \"Topic4\", \"Topic4\", \"Topic4\", \"Topic4\", \"Topic4\", \"Topic4\", \"Topic4\", \"Topic4\", \"Topic4\", \"Topic4\", \"Topic4\", \"Topic4\", \"Topic4\", \"Topic4\", \"Topic4\", \"Topic4\", \"Topic4\", \"Topic4\", \"Topic4\", \"Topic4\", \"Topic4\", \"Topic4\", \"Topic4\", \"Topic4\", \"Topic4\", \"Topic4\", \"Topic4\", \"Topic4\", \"Topic4\", \"Topic4\", \"Topic4\", \"Topic4\", \"Topic4\", \"Topic4\", \"Topic4\", \"Topic4\", \"Topic4\", \"Topic4\", \"Topic4\", \"Topic4\", \"Topic4\", \"Topic4\", \"Topic4\", \"Topic4\", \"Topic4\", \"Topic4\", \"Topic4\", \"Topic4\", \"Topic4\", \"Topic4\", \"Topic4\", \"Topic4\", \"Topic4\", \"Topic4\", \"Topic4\", \"Topic5\", \"Topic5\", \"Topic5\", \"Topic5\", \"Topic5\", \"Topic5\", \"Topic5\", \"Topic5\", \"Topic5\", \"Topic5\", \"Topic5\", \"Topic5\", \"Topic5\", \"Topic5\", \"Topic5\", \"Topic5\", \"Topic5\", \"Topic5\", \"Topic5\", \"Topic5\", \"Topic5\", \"Topic5\", \"Topic5\", \"Topic5\", \"Topic5\", \"Topic5\", \"Topic5\", \"Topic5\", \"Topic5\", \"Topic5\", \"Topic5\", \"Topic5\", \"Topic5\", \"Topic5\", \"Topic5\", \"Topic5\", \"Topic5\", \"Topic5\", \"Topic5\", \"Topic5\", \"Topic5\", \"Topic5\", \"Topic5\", \"Topic5\", \"Topic5\", \"Topic5\", \"Topic5\", \"Topic5\", \"Topic5\", \"Topic5\", \"Topic5\", \"Topic5\", \"Topic5\", \"Topic5\", \"Topic5\", \"Topic5\", \"Topic5\", \"Topic5\", \"Topic5\", \"Topic5\", \"Topic5\", \"Topic5\", \"Topic5\", \"Topic5\", \"Topic5\", \"Topic5\", \"Topic5\", \"Topic5\", \"Topic5\", \"Topic5\", \"Topic5\", \"Topic5\", \"Topic5\", \"Topic5\", \"Topic5\", \"Topic5\", \"Topic5\", \"Topic5\", \"Topic5\", \"Topic5\", \"Topic5\", \"Topic5\", \"Topic5\", \"Topic5\", \"Topic5\", \"Topic5\", \"Topic5\", \"Topic5\", \"Topic5\", \"Topic5\", \"Topic5\", \"Topic5\", \"Topic5\", \"Topic5\", \"Topic5\", \"Topic5\", \"Topic5\", \"Topic5\", \"Topic5\", \"Topic5\", \"Topic5\", \"Topic5\", \"Topic5\", \"Topic5\", \"Topic6\", \"Topic6\", \"Topic6\", \"Topic6\", \"Topic6\", \"Topic6\", \"Topic6\", \"Topic6\", \"Topic6\", \"Topic6\", \"Topic6\", \"Topic6\", \"Topic6\", \"Topic6\", \"Topic6\", \"Topic6\", \"Topic6\", \"Topic6\", \"Topic6\", \"Topic6\", \"Topic6\", \"Topic6\", \"Topic6\", \"Topic6\", \"Topic6\", \"Topic6\", \"Topic6\", \"Topic6\", \"Topic6\", \"Topic6\", \"Topic6\", \"Topic6\", \"Topic6\", \"Topic6\", \"Topic6\", \"Topic6\", \"Topic6\", \"Topic6\", \"Topic6\", \"Topic6\", \"Topic6\", \"Topic6\", \"Topic6\", \"Topic6\", \"Topic6\", \"Topic6\", \"Topic6\", \"Topic6\", \"Topic6\", \"Topic6\", \"Topic6\", \"Topic6\", \"Topic6\", \"Topic6\", \"Topic6\", \"Topic6\", \"Topic6\", \"Topic6\", \"Topic6\", \"Topic6\", \"Topic6\", \"Topic6\", \"Topic6\", \"Topic6\", \"Topic6\", \"Topic6\", \"Topic6\", \"Topic6\", \"Topic6\", \"Topic6\", \"Topic6\", \"Topic6\", \"Topic6\", \"Topic6\", \"Topic6\", \"Topic6\", \"Topic6\", \"Topic6\", \"Topic6\", \"Topic6\", \"Topic6\", \"Topic6\", \"Topic6\", \"Topic6\", \"Topic6\", \"Topic6\", \"Topic6\", \"Topic6\", \"Topic6\", \"Topic6\", \"Topic6\", \"Topic6\", \"Topic6\", \"Topic6\", \"Topic6\", \"Topic7\", \"Topic7\", \"Topic7\", \"Topic7\", \"Topic7\", \"Topic7\", \"Topic7\", \"Topic7\", \"Topic7\", \"Topic7\", \"Topic7\", \"Topic7\", \"Topic7\", \"Topic7\", \"Topic7\", \"Topic7\", \"Topic7\", \"Topic7\", \"Topic7\", \"Topic7\", \"Topic7\", \"Topic7\", \"Topic7\", \"Topic7\", \"Topic7\", \"Topic7\", \"Topic7\", \"Topic7\", \"Topic7\", \"Topic7\", \"Topic7\", \"Topic7\", \"Topic7\", \"Topic7\", \"Topic7\", \"Topic7\", \"Topic7\", \"Topic7\", \"Topic7\", \"Topic7\", \"Topic7\", \"Topic7\", \"Topic7\", \"Topic7\", \"Topic7\", \"Topic7\", \"Topic7\", \"Topic7\", \"Topic7\", \"Topic7\", \"Topic7\", \"Topic7\", \"Topic7\", \"Topic7\", \"Topic7\", \"Topic7\", \"Topic7\", \"Topic7\", \"Topic7\", \"Topic7\", \"Topic7\", \"Topic7\", \"Topic7\", \"Topic7\", \"Topic7\", \"Topic7\", \"Topic7\", \"Topic7\", \"Topic7\", \"Topic7\", \"Topic7\", \"Topic7\", \"Topic7\", \"Topic7\", \"Topic7\", \"Topic7\", \"Topic7\", \"Topic7\", \"Topic7\", \"Topic7\", \"Topic7\", \"Topic7\", \"Topic7\", \"Topic7\", \"Topic7\", \"Topic7\", \"Topic7\", \"Topic7\", \"Topic7\", \"Topic7\", \"Topic7\", \"Topic7\", \"Topic7\", \"Topic7\", \"Topic7\", \"Topic7\", \"Topic7\", \"Topic7\", \"Topic7\", \"Topic7\", \"Topic7\", \"Topic7\", \"Topic7\", \"Topic7\", \"Topic8\", \"Topic8\", \"Topic8\", \"Topic8\", \"Topic8\", \"Topic8\", \"Topic8\", \"Topic8\", \"Topic8\", \"Topic8\", \"Topic8\", \"Topic8\", \"Topic8\", \"Topic8\", \"Topic8\", \"Topic8\", \"Topic8\", \"Topic8\", \"Topic8\", \"Topic8\", \"Topic8\", \"Topic8\", \"Topic8\", \"Topic8\", \"Topic8\", \"Topic8\", \"Topic8\", \"Topic8\", \"Topic8\", \"Topic8\", \"Topic8\", \"Topic8\", \"Topic8\", \"Topic8\", \"Topic8\", \"Topic8\", \"Topic8\", \"Topic8\", \"Topic8\", \"Topic8\", \"Topic8\", \"Topic8\", \"Topic8\", \"Topic8\", \"Topic8\", \"Topic8\", \"Topic8\", \"Topic8\", \"Topic8\", \"Topic8\", \"Topic8\", \"Topic8\", \"Topic8\", \"Topic8\", \"Topic8\", \"Topic8\", \"Topic8\", \"Topic8\", \"Topic8\", \"Topic8\", \"Topic8\", \"Topic8\", \"Topic8\", \"Topic8\", \"Topic8\", \"Topic8\", \"Topic8\", \"Topic8\", \"Topic8\", \"Topic8\", \"Topic8\", \"Topic8\", \"Topic8\", \"Topic8\", \"Topic8\", \"Topic8\", \"Topic8\", \"Topic8\", \"Topic8\", \"Topic8\", \"Topic8\", \"Topic8\", \"Topic8\", \"Topic8\", \"Topic8\", \"Topic8\", \"Topic8\", \"Topic8\", \"Topic8\", \"Topic8\", \"Topic8\", \"Topic8\", \"Topic8\", \"Topic8\", \"Topic8\", \"Topic8\", \"Topic8\", \"Topic8\", \"Topic8\", \"Topic8\", \"Topic8\"], \"logprob\": [40.0, 39.0, 38.0, 37.0, 36.0, 35.0, 34.0, 33.0, 32.0, 31.0, 30.0, 29.0, 28.0, 27.0, 26.0, 25.0, 24.0, 23.0, 22.0, 21.0, 20.0, 19.0, 18.0, 17.0, 16.0, 15.0, 14.0, 13.0, 12.0, 11.0, 10.0, 9.0, 8.0, 7.0, 6.0, 5.0, 4.0, 3.0, 2.0, 1.0, -6.916399955749512, -8.32409954071045, -8.30270004272461, -8.47249984741211, -8.770999908447266, -8.771499633789062, -8.729299545288086, -8.088500022888184, -8.999099731445312, -8.788100242614746, -7.2600998878479, -9.053400039672852, -8.940299987792969, -9.06410026550293, -8.818400382995605, -9.195099830627441, -9.198200225830078, -9.198399543762207, -9.204899787902832, -9.068099975585938, -8.479900360107422, -8.25879955291748, -9.0201997756958, -9.097800254821777, -9.291600227355957, -8.244199752807617, -9.026300430297852, -9.209799766540527, -9.363200187683105, -9.36460018157959, -8.508899688720703, -8.62600040435791, -9.369600296020508, -9.37030029296875, -7.600100040435791, -9.370800018310547, -8.510299682617188, -8.807299613952637, -9.234600067138672, -9.04170036315918, -4.223299980163574, -6.872799873352051, -7.479100227355957, -4.227399826049805, -3.0813000202178955, -6.981100082397461, -6.8471999168396, -8.203100204467773, -7.8171000480651855, -2.8993000984191895, -5.206500053405762, -4.90910005569458, -3.4700000286102295, -6.82889986038208, -7.490799903869629, -6.135799884796143, -7.162399768829346, -6.179999828338623, -6.457399845123291, -6.842400074005127, -7.932700157165527, -6.566999912261963, -6.251699924468994, -6.009300231933594, -5.197999954223633, -5.8414998054504395, -5.606900215148926, -3.4802000522613525, -5.1097002029418945, -6.392399787902832, -6.880899906158447, -5.451700210571289, -7.0960001945495605, -5.254199981689453, -4.78380012512207, -5.306700229644775, -5.504899978637695, -5.319699764251709, -6.063899993896484, -5.996399879455566, -6.26609992980957, -4.882800102233887, -5.714700222015381, -5.626100063323975, -6.257199764251709, -5.575300216674805, -4.188499927520752, -5.0183000564575195, -6.177700042724609, -5.729599952697754, -5.119800090789795, -5.130099773406982, -5.298099994659424, -5.827899932861328, -6.013999938964844, -5.160799980163574, -5.610300064086914, -5.395599842071533, -5.734899997711182, -5.501800060272217, -5.34630012512207, -5.603300094604492, -5.629799842834473, -5.606200218200684, -5.72629976272583, -5.921500205993652, -5.910200119018555, -7.266499996185303, -7.267399787902832, -7.457399845123291, -6.372900009155273, -7.9328999519348145, -7.945799827575684, -8.004899978637695, -8.012200355529785, -8.208700180053711, -8.2121000289917, -8.221599578857422, -6.819699764251709, -7.688499927520752, -8.455100059509277, -8.458499908447266, -8.46720027923584, -8.468099594116211, -7.753200054168701, -7.884699821472168, -8.550999641418457, -8.795299530029297, -8.795700073242188, -8.799200057983398, -8.8016996383667, -8.806400299072266, -8.81149959564209, -8.809800148010254, -8.812000274658203, -8.813599586486816, -8.816300392150879, -8.805899620056152, -7.990099906921387, -7.6184000968933105, -8.692099571228027, -8.819100379943848, -8.170299530029297, -8.83810043334961, -8.366399765014648, -8.264200210571289, -8.847999572753906, -6.957200050354004, -4.60860013961792, -8.060700416564941, -6.734499931335449, -7.53249979019165, -7.648200035095215, -7.3927998542785645, -7.270999908447266, -4.74459981918335, -8.038999557495117, -5.354300022125244, -7.8597002029418945, -7.640999794006348, -7.0192999839782715, -6.722599983215332, -5.616000175476074, -7.804299831390381, -3.02020001411438, -4.533400058746338, -5.306300163269043, -5.068999767303467, -7.418099880218506, -5.457399845123291, -6.8796000480651855, -6.383600234985352, -4.56850004196167, -6.7032999992370605, -4.61899995803833, -3.4721999168395996, -3.8429999351501465, -5.8902997970581055, -5.904799938201904, -5.326000213623047, -6.736599922180176, -5.026400089263916, -5.1504998207092285, -5.308599948883057, -5.494200229644775, -4.8420000076293945, -5.726500034332275, -4.883999824523926, -5.43120002746582, -4.375899791717529, -6.046899795532227, -4.926700115203857, -5.511199951171875, -5.501200199127197, -5.813700199127197, -5.011199951171875, -5.362299919128418, -5.528600215911865, -5.660200119018555, -5.6529998779296875, -5.90939998626709, -5.473400115966797, -5.5046000480651855, -5.3892998695373535, -5.7418999671936035, -5.477200031280518, -5.211299896240234, -5.552599906921387, -5.6539998054504395, -6.68120002746582, -7.399899959564209, -7.706299781799316, -7.7104997634887695, -7.86899995803833, -7.431000232696533, -8.21500015258789, -8.223099708557129, -8.36620044708252, -7.851600170135498, -8.468700408935547, -8.472700119018555, -8.477899551391602, -8.480500221252441, -8.494199752807617, -8.03950023651123, -8.663800239562988, -8.808600425720215, -8.8100004196167, -8.81029987335205, -8.811699867248535, -8.817399978637695, -8.817299842834473, -8.817999839782715, -8.817999839782715, -8.82390022277832, -8.826499938964844, -8.828200340270996, -8.194700241088867, -8.468199729919434, -8.584600448608398, -8.211799621582031, -8.328800201416016, -8.898900032043457, -9.09850025177002, -8.76259994506836, -8.90779972076416, -8.781100273132324, -8.8056001663208, -7.937699794769287, -8.309800148010254, -7.194300174713135, -6.82289981842041, -7.2906999588012695, -3.9159998893737793, -6.671999931335449, -4.330900192260742, -5.64900016784668, -7.643899917602539, -7.769599914550781, -5.150100231170654, -7.700500011444092, -7.0569000244140625, -5.05810022354126, -8.10099983215332, -5.183499813079834, -7.513700008392334, -5.537399768829346, -6.8531999588012695, -4.8119001388549805, -5.32480001449585, -3.587599992752075, -5.825399875640869, -5.173099994659424, -4.7617998123168945, -5.908699989318848, -5.620699882507324, -5.9070000648498535, -6.13640022277832, -5.511300086975098, -3.508500099182129, -3.7060999870300293, -4.990799903869629, -5.294899940490723, -4.785699844360352, -5.687300205230713, -6.348999977111816, -4.8653998374938965, -4.196899890899658, -5.487500190734863, -5.127799987792969, -5.957200050354004, -5.284299850463867, -5.443999767303467, -5.022200107574463, -5.5289998054504395, -4.8632001876831055, -5.474299907684326, -4.423299789428711, -5.581699848175049, -5.421899795532227, -5.265500068664551, -5.170400142669678, -5.255000114440918, -5.683300018310547, -5.469399929046631, -5.391200065612793, -5.427999973297119, -5.476799964904785, -5.593699932098389, -5.629199981689453, -7.282599925994873, -7.617300033569336, -7.6072998046875, -7.741300106048584, -7.747200012207031, -7.750199794769287, -7.787099838256836, -7.753200054168701, -7.913899898529053, -7.939799785614014, -8.115799903869629, -8.119600296020508, -8.121500015258789, -8.154399871826172, -7.951399803161621, -8.058600425720215, -7.628699779510498, -8.369099617004395, -8.370699882507324, -8.373499870300293, -8.381500244140625, -7.9542999267578125, -8.393500328063965, -8.553999900817871, -8.57349967956543, -8.208800315856934, -8.699000358581543, -8.700200080871582, -8.701199531555176, -8.702400207519531, -8.703399658203125, -8.708200454711914, -8.708000183105469, -8.711099624633789, -8.711099624633789, -8.712599754333496, -8.717399597167969, -8.720800399780273, -8.753299713134766, -8.596699714660645, -6.427599906921387, -8.346199989318848, -7.2855000495910645, -8.4576997756958, -2.674299955368042, -6.717599868774414, -7.009500026702881, -7.60260009765625, -6.334799766540527, -6.945700168609619, -6.079699993133545, -7.745800018310547, -7.5625, -8.261699676513672, -5.485000133514404, -4.716899871826172, -5.889599800109863, -7.09089994430542, -4.1504998207092285, -3.25570011138916, -4.670899868011475, -4.661200046539307, -5.829500198364258, -5.6178998947143555, -6.737100124359131, -3.8071999549865723, -4.897299766540527, -4.097400188446045, -5.766499996185303, -5.338500022888184, -4.99399995803833, -5.381700038909912, -6.343400001525879, -4.899799823760986, -5.598599910736084, -5.126500129699707, -5.351099967956543, -5.978600025177002, -4.401800155639648, -5.2993998527526855, -5.418000221252441, -6.209000110626221, -5.132599830627441, -5.393199920654297, -5.742199897766113, -5.692200183868408, -5.158899784088135, -5.646399974822998, -5.275700092315674, -5.734399795532227, -5.354499816894531, -5.686200141906738, -5.395999908447266, -5.974100112915039, -5.834499835968018, -5.722700119018555, -5.690000057220459, -5.8572998046875, -5.787199974060059, -7.449900150299072, -7.678999900817871, -7.684199810028076, -7.720399856567383, -7.722799777984619, -7.796299934387207, -7.4191999435424805, -7.881499767303467, -7.883600234985352, -7.890699863433838, -7.901800155639648, -7.970699787139893, -7.9319000244140625, -7.904399871826172, -7.311299800872803, -8.130499839782715, -8.131999969482422, -8.136799812316895, -8.138899803161621, -8.13860034942627, -8.150199890136719, -7.952600002288818, -7.948999881744385, -8.170000076293945, -8.46969985961914, -8.472800254821777, -8.475299835205078, -8.478099822998047, -8.477800369262695, -8.4822998046875, -6.388899803161621, -8.496999740600586, -8.502599716186523, -8.51449966430664, -8.124300003051758, -7.698200225830078, -7.861499786376953, -8.509400367736816, -7.262599945068359, -8.751299858093262, -4.867199897766113, -7.469600200653076, -7.920300006866455, -7.263299942016602, -8.155200004577637, -4.436600208282471, -3.6524999141693115, -4.121200084686279, -7.250800132751465, -7.285600185394287, -7.427999973297119, -4.302000045776367, -5.428199768066406, -6.098700046539307, -6.153600215911865, -5.8404998779296875, -5.834099769592285, -6.230199813842773, -6.752999782562256, -4.447500228881836, -6.036499977111816, -4.950099945068359, -6.794099807739258, -6.937900066375732, -5.399499893188477, -5.986700057983398, -4.821700096130371, -3.8392999172210693, -5.996399879455566, -6.645699977874756, -4.8649001121521, -6.430699825286865, -4.042699813842773, -5.276700019836426, -5.321800231933594, -4.26230001449585, -4.122000217437744, -6.248799800872803, -5.691100120544434, -6.100800037384033, -5.814700126647949, -6.375199794769287, -5.506999969482422, -5.310200214385986, -5.0183000564575195, -5.553800106048584, -5.524899959564209, -5.614299774169922, -5.970300197601318, -4.764699935913086, -5.228899955749512, -5.513800144195557, -5.49970006942749, -5.597300052642822, -5.344600200653076, -5.402500152587891, -5.417099952697754, -5.544000148773193, -5.724699974060059, -5.618100166320801, -5.636000156402588, -5.835400104522705, -5.697400093078613, -5.827199935913086, -6.1132001876831055, -7.262700080871582, -7.385900020599365, -7.3856000900268555, -7.522900104522705, -7.534299850463867, -7.686500072479248, -7.688000202178955, -7.688799858093262, -7.728499889373779, -7.707300186157227, -7.706699848175049, -7.902599811553955, -7.91510009765625, -7.917900085449219, -7.9222002029418945, -7.954699993133545, -7.967299938201904, -8.145600318908691, -8.17870044708252, -8.229000091552734, -7.724100112915039, -7.845099925994873, -8.478899955749512, -8.479499816894531, -8.48069953918457, -8.481900215148926, -8.494199752807617, -8.1274995803833, -8.503600120544434, -7.704899787902832, -8.549500465393066, -8.1943998336792, -8.2947998046875, -8.258299827575684, -7.902100086212158, -7.18149995803833, -8.31659984588623, -6.6992998123168945, -8.354999542236328, -7.673900127410889, -6.97599983215332, -5.548799991607666, -6.865799903869629, -7.426400184631348, -6.986800193786621, -3.497299909591675, -5.64109992980957, -6.35860013961792, -7.3790998458862305, -6.880499839782715, -4.275400161743164, -5.2657999992370605, -4.154799938201904, -4.66349983215332, -5.666200160980225, -6.063499927520752, -4.595699787139893, -5.0432000160217285, -5.672100067138672, -5.247900009155273, -5.038000106811523, -5.273600101470947, -6.941299915313721, -5.667600154876709, -3.642899990081787, -4.668300151824951, -4.760700225830078, -4.599699974060059, -3.768699884414673, -6.2270002365112305, -6.286300182342529, -6.648399829864502, -4.271500110626221, -6.151599884033203, -4.831699848175049, -5.0233001708984375, -5.5578999519348145, -5.895299911499023, -5.378900051116943, -4.527500152587891, -5.652500152587891, -5.1092000007629395, -4.502799987792969, -5.8119001388549805, -5.530600070953369, -5.552599906921387, -5.56790018081665, -5.260200023651123, -5.52810001373291, -5.708899974822998, -5.527900218963623, -5.388500213623047, -5.8302001953125, -5.8368000984191895, -7.071400165557861, -7.092599868774414, -7.484899997711182, -7.486100196838379, -7.495100021362305, -7.691999912261963, -6.979100227355957, -7.73390007019043, -7.93779993057251, -7.939199924468994, -7.94189977645874, -7.950200080871582, -5.969799995422363, -6.725800037384033, -7.997600078582764, -8.284099578857422, -8.284299850463867, -8.285099983215332, -7.924900054931641, -8.20199966430664, -8.554100036621094, -6.928299903869629, -8.356300354003906, -7.322500228881836, -7.7866997718811035, -7.893099784851074, -7.65910005569458, -8.382100105285645, -8.413000106811523, -8.277600288391113, -6.893199920654297, -8.130599975585938, -8.276800155639648, -8.411800384521484, -8.789199829101562, -8.789999961853027, -8.789899826049805, -8.790900230407715, -8.791899681091309, -8.79259967803955, -7.1666998863220215, -7.779699802398682, -7.511300086975098, -7.805300235748291, -7.378900051116943, -7.798699855804443, -7.036300182342529, -5.696700096130371, -3.7351999282836914, -7.531899929046631, -6.936699867248535, -7.685299873352051, -4.629300117492676, -7.2164998054504395, -5.133299827575684, -6.973599910736084, -6.723800182342529, -6.487599849700928, -4.990900039672852, -5.4415998458862305, -3.8285999298095703, -3.5264999866485596, -6.656099796295166, -5.865799903869629, -6.043300151824951, -5.144899845123291, -5.896699905395508, -5.861599922180176, -5.9481000900268555, -7.259900093078613, -5.2480998039245605, -5.697700023651123, -4.291600227355957, -5.307199954986572, -6.3180999755859375, -5.029900074005127, -5.759399890899658, -6.18310022354126, -4.614500045776367, -5.326499938964844, -5.241000175476074, -5.421999931335449, -5.638700008392334, -5.481800079345703, -5.260200023651123, -5.430200099945068, -5.5046000480651855, -5.969900131225586, -5.715799808502197, -5.924900054931641, -6.011899948120117, -5.4664998054504395, -5.813000202178955, -5.542600154876709, -5.224800109863281, -5.537199974060059, -5.600800037384033, -5.7555999755859375, -5.843100070953369, -5.737199783325195, -5.872799873352051, -5.8007001876831055, -5.852399826049805, -5.857999801635742, -6.604899883270264, -6.964799880981445, -6.996500015258789, -7.338399887084961, -7.346700191497803, -7.360599994659424, -7.484099864959717, -7.539899826049805, -7.592800140380859, -7.597899913787842, -7.598499774932861, -7.6097002029418945, -7.627099990844727, -7.785699844360352, -5.44890022277832, -7.929299831390381, -7.929599761962891, -7.9319000244140625, -7.933899879455566, -7.933199882507324, -7.936399936676025, -7.932799816131592, -7.947199821472168, -7.950099945068359, -8.016799926757812, -8.208100318908691, -8.210200309753418, -8.212900161743164, -8.44219970703125, -8.442500114440918, -8.443300247192383, -8.44379997253418, -8.4443998336792, -8.4443998336792, -8.445500373840332, -8.446499824523926, -8.446499824523926, -8.446900367736816, -8.447500228881836, -8.446399688720703, -7.232999801635742, -7.803400039672852, -6.964000225067139, -7.778800010681152, -7.9756999015808105, -6.678899765014648, -6.5192999839782715, -8.105999946594238, -5.05620002746582, -5.759399890899658, -6.106100082397461, -7.1381001472473145, -6.133800029754639, -6.013800144195557, -6.524600028991699, -5.007199764251709, -6.5457000732421875, -6.848899841308594, -4.729300022125244, -6.7652997970581055, -4.371699810028076, -5.168300151824951, -5.321100234985352, -6.78380012512207, -5.803699970245361, -4.669899940490723, -6.1483001708984375, -5.185299873352051, -5.978400230407715, -4.700500011444092, -5.296599864959717, -5.8231000900268555, -4.336699962615967, -4.109099864959717, -5.563199996948242, -4.9145002365112305, -4.408299922943115, -5.1433000564575195, -5.229599952697754, -5.3119001388549805, -5.61329984664917, -5.260700225830078, -4.563600063323975, -5.487100124359131, -5.276800155639648, -5.174099922180176, -4.824399948120117, -5.144100189208984, -5.281400203704834, -5.3805999755859375, -5.889400005340576, -5.511000156402588, -5.654200077056885, -5.688000202178955, -5.745500087738037, -5.542699813842773, -5.6479997634887695, -5.7307000160217285, -5.732900142669678, -5.716599941253662, -5.760799884796143], \"loglift\": [40.0, 39.0, 38.0, 37.0, 36.0, 35.0, 34.0, 33.0, 32.0, 31.0, 30.0, 29.0, 28.0, 27.0, 26.0, 25.0, 24.0, 23.0, 22.0, 21.0, 20.0, 19.0, 18.0, 17.0, 16.0, 15.0, 14.0, 13.0, 12.0, 11.0, 10.0, 9.0, 8.0, 7.0, 6.0, 5.0, 4.0, 3.0, 2.0, 1.0, 0.9428, 0.9128, 0.9098, 0.8988, 0.8891, 0.8891, 0.8811, 0.8787, 0.871, 0.8696, 0.8691, 0.868, 0.8637, 0.8606, 0.8576, 0.8554, 0.8549, 0.8548, 0.8537, 0.8518, 0.8498, 0.8492, 0.8462, 0.8458, 0.8457, 0.8441, 0.8412, 0.8395, 0.838, 0.8377, 0.8371, 0.8369, 0.8368, 0.8367, 0.8341, 0.8329, 0.8303, 0.8255, 0.8247, 0.8238, 0.6944, 0.8133, 0.8219, 0.644, 0.5679, 0.7604, 0.7465, 0.8113, 0.7844, 0.3621, 0.5802, 0.5205, 0.3561, 0.6904, 0.7523, 0.601, 0.714, 0.6005, 0.6254, 0.6634, 0.7757, 0.6231, 0.5834, 0.5564, 0.4341, 0.5195, 0.4656, 0.0834, 0.3686, 0.5767, 0.6452, 0.3782, 0.6497, 0.3236, 0.1952, 0.306, 0.3205, 0.2664, 0.4355, 0.4123, 0.4797, 0.1209, 0.3116, 0.2782, 0.4543, 0.2268, -0.2451, -0.025, 0.4245, 0.2251, -0.0577, -0.0988, -0.0662, 0.1941, 0.3126, -0.291, 0.0089, -0.1685, 0.0959, -0.1098, -0.6138, -0.2294, -0.2632, -0.3701, -0.305, 0.1304, -0.9159, 2.0797, 2.0797, 2.0701, 2.042, 2.0369, 2.0355, 2.0305, 2.0294, 2.0098, 2.0094, 2.0081, 2.0079, 1.9896, 1.9796, 1.9791, 1.9776, 1.9774, 1.9577, 1.9471, 1.9348, 1.9254, 1.9254, 1.9247, 1.9241, 1.9232, 1.9221, 1.9219, 1.9217, 1.9214, 1.9212, 1.9185, 1.9171, 1.916, 1.911, 1.9054, 1.9025, 1.8957, 1.8918, 1.8821, 1.8769, 1.8693, 1.7086, 1.8752, 1.7587, 1.8185, 1.8255, 1.7946, 1.78, 1.4936, 1.8512, 1.4583, 1.8138, 1.7706, 1.6591, 1.5979, 1.3975, 1.7838, 0.5434, 0.888, 1.0488, 0.9004, 1.6482, 0.9832, 1.4373, 1.2232, 0.4248, 1.3376, 0.4123, -0.2109, -0.0169, 0.9583, 0.9633, 0.6196, 1.3402, 0.3936, 0.4687, 0.5515, 0.6445, 0.1617, 0.7421, 0.1781, 0.4634, -0.4325, 0.8633, -0.057, 0.3491, 0.3242, 0.5677, -0.2787, 0.0335, 0.1034, 0.2441, 0.1778, 0.5478, -0.1068, -0.1307, -0.3949, 0.2521, -0.2411, -1.5621, -0.5735, -0.1757, 2.1257, 2.0976, 2.0793, 2.079, 2.0658, 2.0611, 2.0329, 2.0316, 2.0141, 2.0118, 2.0002, 1.9996, 1.9986, 1.9983, 1.9858, 1.9699, 1.9637, 1.9441, 1.9438, 1.9437, 1.9434, 1.9423, 1.9422, 1.9419, 1.9418, 1.9407, 1.94, 1.9264, 1.9124, 1.908, 1.9006, 1.8945, 1.8833, 1.8783, 1.8736, 1.864, 1.8634, 1.863, 1.8385, 1.8365, 1.8332, 1.7535, 1.6806, 1.7112, 1.0784, 1.5642, 1.0357, 1.251, 1.6906, 1.716, 1.0596, 1.6921, 1.5304, 1.0189, 1.7723, 0.8261, 1.5937, 0.9313, 1.352, 0.6094, 0.817, 0.0616, 0.9989, 0.7079, 0.4653, 0.9528, 0.8207, 0.9419, 1.0313, 0.7436, -0.2471, -0.1426, 0.4292, 0.5652, 0.218, 0.6928, 1.0429, 0.1968, -0.2536, 0.5434, 0.2681, 0.8095, 0.2936, 0.3814, 0.0091, 0.4165, -0.1307, 0.3681, -0.5972, 0.3877, 0.1908, -0.0294, -0.1913, -0.2617, 0.3329, -0.0955, -0.5198, -0.5583, -0.559, -0.3619, -0.2371, 2.1544, 2.1388, 2.1355, 2.1303, 2.1295, 2.1292, 2.1254, 2.1249, 2.1156, 2.1125, 2.0952, 2.0948, 2.0945, 2.0888, 2.0879, 2.0766, 2.0744, 2.0642, 2.0639, 2.0636, 2.0523, 2.0433, 2.043, 2.0369, 2.016, 2.0138, 2.0124, 2.0121, 2.0119, 2.0115, 2.0115, 2.0103, 2.0103, 2.0097, 2.0095, 2.0091, 2.0084, 2.0075, 2.0012, 1.9988, 1.9924, 1.9962, 1.8944, 1.9863, 1.269, 1.7763, 1.6658, 1.8005, 1.4796, 1.6164, 1.3901, 1.8053, 1.7554, 1.9156, 1.2101, 0.9372, 1.2504, 1.6007, 0.582, 0.0057, 0.3604, 0.3179, 0.9155, 0.7899, 1.3371, -0.2437, 0.3388, -0.2713, 0.7666, 0.4754, 0.2378, 0.4786, 1.1092, 0.0945, 0.5165, 0.1006, 0.235, 0.7441, -0.7526, 0.0964, 0.1947, 0.8211, -0.2612, -0.0012, 0.3348, 0.2554, -0.2892, 0.1835, -0.2824, 0.2111, -0.3507, 0.1446, -0.3338, 0.4946, 0.1964, -0.1035, -0.27, 0.0974, -0.4133, 2.3566, 2.3379, 2.3372, 2.333, 2.3327, 2.3267, 2.3181, 2.3179, 2.3176, 2.3165, 2.3055, 2.3053, 2.3033, 2.2945, 2.2904, 2.2879, 2.2876, 2.2869, 2.2865, 2.2865, 2.2789, 2.2619, 2.2601, 2.2577, 2.235, 2.2343, 2.2338, 2.2333, 2.2331, 2.2324, 2.2316, 2.2293, 2.228, 2.2251, 2.2053, 2.2024, 2.202, 2.2011, 2.1975, 2.1783, 2.1636, 2.1627, 2.1741, 2.0722, 2.1758, 1.4444, 1.2173, 1.2527, 1.9978, 1.9867, 1.9962, 1.09, 1.4129, 1.6154, 1.613, 1.4354, 1.427, 1.5409, 1.7315, 0.5459, 1.3243, 0.704, 1.6852, 1.7195, 0.8155, 1.1974, 0.4144, -0.2758, 1.124, 1.552, 0.3622, 1.3874, -0.2167, 0.5656, 0.5386, -0.6131, -0.8606, 1.1095, 0.547, 0.9546, 0.6662, 1.2071, 0.3238, 0.0857, -0.2858, 0.3408, 0.3005, 0.3797, 0.7525, -0.8214, -0.2499, 0.1054, 0.0782, 0.1894, -0.3408, -0.4082, -0.3858, -0.1241, 0.3365, -0.1967, -0.2064, 0.4888, -0.6353, -0.0019, 2.4399, 2.3952, 2.3871, 2.3871, 2.3769, 2.3755, 2.3628, 2.3626, 2.3625, 2.3587, 2.3526, 2.3509, 2.3401, 2.3383, 2.3378, 2.3373, 2.3326, 2.3303, 2.3096, 2.304, 2.2942, 2.2837, 2.2571, 2.2557, 2.2556, 2.2553, 2.255, 2.2524, 2.237, 2.2358, 2.2282, 2.2212, 2.2138, 2.2079, 2.2001, 2.1966, 2.1842, 2.1674, 2.1547, 2.1494, 2.146, 2.1068, 1.8516, 1.9899, 2.0768, 1.9817, 1.2352, 1.6537, 1.8262, 2.0418, 1.8858, 1.1446, 1.3101, 0.8395, 0.9905, 1.3639, 1.5212, 0.8002, 0.973, 1.2867, 1.0058, 0.8566, 0.9423, 1.8295, 1.1415, -0.0794, 0.5677, 0.6059, 0.4624, -0.5073, 1.3008, 1.3401, 1.6332, -0.3281, 1.1893, 0.0381, 0.2038, 0.697, 0.9728, 0.4231, -0.7014, 0.6407, -0.0778, -0.8536, 0.7213, 0.2833, 0.2728, 0.2745, -0.2811, 0.0497, 0.368, -0.0496, -0.3848, -0.0049, -0.006, 2.7343, 2.7061, 2.6975, 2.6974, 2.6959, 2.6726, 2.6666, 2.6424, 2.6369, 2.6366, 2.6359, 2.6347, 2.6297, 2.6044, 2.581, 2.5721, 2.5719, 2.5719, 2.5553, 2.5264, 2.5081, 2.5007, 2.4871, 2.4796, 2.4796, 2.4763, 2.4724, 2.4655, 2.4584, 2.4531, 2.4474, 2.4464, 2.4415, 2.4408, 2.4407, 2.4404, 2.4404, 2.4401, 2.4397, 2.4396, 2.4115, 2.4078, 2.3929, 2.4029, 2.3773, 2.3955, 2.3049, 1.9962, 1.4966, 2.3073, 2.1416, 2.3074, 1.3927, 2.1476, 1.3724, 2.0571, 1.936, 1.8009, 0.9568, 1.1344, -0.0025, -0.2651, 1.7829, 1.2067, 1.3053, 0.669, 1.1449, 1.1018, 1.0496, 2.0955, 0.406, 0.7831, -0.7281, 0.2789, 1.2742, -0.1601, 0.6484, 1.0767, -0.9653, -0.0904, -0.262, -0.03, 0.2657, -0.0035, -0.3425, -0.2031, -0.1087, 0.6612, 0.1652, 0.5405, 0.6833, -0.5951, 0.181, -0.4805, -1.2815, -0.5439, -0.5971, -0.1364, 0.017, -0.7058, 0.1791, -0.8064, -0.4785, -1.1255, 3.1938, 3.1624, 3.1575, 3.1158, 3.114, 3.1113, 3.0932, 3.0824, 3.0746, 3.0734, 3.0734, 3.071, 3.0388, 3.0371, 3.0297, 3.0052, 3.0051, 3.0046, 3.0039, 3.0038, 3.0031, 3.0025, 2.9999, 2.9995, 2.9841, 2.9326, 2.9318, 2.9309, 2.8593, 2.8592, 2.8589, 2.8586, 2.8585, 2.8584, 2.858, 2.8576, 2.8576, 2.8575, 2.8574, 2.8573, 2.846, 2.8522, 2.7348, 2.7935, 2.8088, 2.6495, 2.5512, 2.8052, 2.2252, 2.3719, 2.3382, 2.5754, 2.2978, 2.1993, 2.1917, 1.3742, 2.1578, 2.2959, 1.0728, 2.2365, 0.6216, 1.0476, 1.034, 2.1488, 1.342, 0.3922, 1.5898, 0.7841, 1.4286, 0.3033, 0.7554, 1.263, -0.3933, -0.8478, 0.894, 0.0645, -0.8448, 0.0885, 0.1918, 0.2742, 0.6799, 0.1352, -0.9144, 0.3267, -0.0408, -0.3027, -0.9983, -0.4116, -0.2501, -0.1534, 0.8555, -0.1371, 0.2404, 0.1724, 0.3157, -0.5484, -0.1697, 0.0992, -0.1137, -0.35, -0.8431]}, \"token.table\": {\"Topic\": [1, 2, 3, 4, 5, 6, 7, 8, 1, 2, 5, 1, 2, 3, 4, 5, 6, 7, 8, 3, 1, 2, 3, 4, 5, 6, 7, 8, 1, 2, 7, 6, 8, 3, 3, 4, 2, 2, 4, 1, 2, 3, 4, 5, 6, 7, 8, 1, 2, 1, 2, 3, 4, 5, 6, 7, 1, 2, 3, 4, 5, 6, 7, 8, 7, 1, 1, 2, 3, 4, 6, 7, 8, 1, 6, 7, 2, 5, 4, 1, 2, 3, 4, 5, 6, 7, 8, 6, 5, 7, 1, 2, 3, 4, 6, 7, 8, 1, 2, 3, 4, 5, 6, 7, 8, 1, 2, 7, 7, 8, 5, 7, 7, 5, 6, 6, 1, 2, 3, 4, 5, 6, 7, 8, 1, 2, 3, 4, 5, 6, 7, 8, 5, 1, 2, 3, 4, 5, 6, 7, 8, 2, 4, 6, 7, 5, 8, 5, 1, 2, 3, 4, 5, 6, 7, 8, 1, 2, 3, 4, 5, 6, 7, 8, 3, 4, 1, 2, 3, 4, 5, 6, 7, 8, 2, 6, 4, 1, 2, 3, 4, 5, 6, 7, 8, 1, 2, 3, 4, 5, 6, 7, 8, 1, 2, 3, 4, 5, 6, 7, 8, 3, 7, 4, 5, 2, 3, 7, 1, 2, 3, 4, 5, 6, 7, 8, 4, 1, 2, 3, 4, 5, 6, 7, 8, 3, 1, 2, 3, 4, 5, 6, 7, 8, 2, 6, 6, 1, 2, 3, 4, 5, 6, 7, 8, 1, 3, 1, 2, 3, 4, 5, 6, 7, 8, 1, 3, 4, 6, 7, 1, 2, 3, 4, 5, 6, 7, 8, 2, 1, 2, 3, 4, 5, 6, 7, 8, 1, 4, 5, 1, 3, 4, 5, 6, 7, 8, 8, 1, 2, 3, 4, 5, 6, 7, 8, 7, 1, 2, 3, 4, 5, 6, 8, 5, 1, 4, 6, 1, 4, 1, 2, 5, 8, 1, 2, 4, 5, 7, 4, 1, 2, 3, 4, 5, 6, 7, 8, 8, 6, 2, 7, 3, 1, 2, 3, 4, 5, 6, 7, 8, 1, 2, 3, 4, 5, 6, 7, 8, 1, 1, 2, 3, 4, 5, 6, 7, 8, 4, 3, 6, 1, 2, 7, 5, 3, 8, 8, 5, 4, 5, 5, 4, 1, 2, 3, 4, 5, 6, 7, 8, 6, 8, 6, 1, 2, 3, 4, 5, 6, 7, 8, 4, 6, 4, 4, 1, 2, 3, 4, 5, 6, 7, 8, 1, 2, 3, 4, 5, 6, 7, 8, 3, 8, 1, 2, 3, 4, 5, 6, 7, 8, 3, 1, 2, 3, 4, 5, 6, 7, 8, 8, 1, 2, 3, 4, 5, 6, 7, 8, 6, 7, 8, 1, 2, 3, 4, 5, 6, 7, 8, 7, 8, 8, 1, 2, 8, 1, 2, 3, 5, 1, 2, 3, 4, 5, 6, 7, 8, 3, 4, 1, 3, 4, 5, 8, 3, 5, 1, 2, 3, 4, 5, 6, 7, 8, 1, 2, 3, 4, 5, 6, 7, 8, 1, 2, 3, 5, 7, 1, 7, 1, 2, 3, 4, 5, 6, 7, 8, 1, 2, 3, 4, 5, 6, 7, 8, 1, 3, 4, 7, 1, 2, 3, 4, 5, 6, 7, 8, 1, 2, 3, 4, 5, 6, 7, 8, 2, 6, 1, 2, 3, 4, 5, 6, 7, 8, 5, 4, 6, 8, 1, 2, 3, 4, 5, 6, 7, 8, 2, 5, 7, 1, 2, 3, 4, 5, 6, 7, 8, 1, 2, 3, 4, 5, 6, 7, 8, 1, 2, 3, 4, 5, 6, 7, 8, 1, 1, 2, 3, 4, 5, 6, 7, 8, 1, 2, 3, 4, 5, 7, 3, 1, 2, 3, 5, 6, 7, 8, 7, 1, 2, 3, 4, 5, 6, 7, 8, 1, 2, 3, 4, 5, 6, 7, 8, 4, 2, 7, 1, 3, 4, 1, 2, 3, 4, 5, 6, 7, 8, 2, 1, 2, 3, 4, 5, 6, 7, 8, 1, 3, 4, 8, 1, 2, 3, 4, 5, 6, 7, 8, 2, 2, 1, 2, 3, 4, 5, 6, 7, 8, 1, 2, 3, 4, 5, 6, 7, 8, 2, 4, 3, 7, 1, 5, 7, 1, 1, 2, 3, 4, 5, 6, 7, 8, 5, 2, 5, 2, 1, 2, 3, 4, 5, 6, 7, 8, 1, 2, 3, 4, 6, 7, 1, 2, 3, 4, 5, 6, 7, 8, 8, 1, 6, 4, 1, 2, 3, 4, 5, 6, 7, 8, 1, 2, 3, 4, 5, 6, 7, 8, 1, 3, 4, 1, 2, 3, 4, 5, 6, 7, 8, 1, 2, 3, 4, 5, 6, 7, 8, 1, 2, 3, 4, 5, 6, 7, 8, 1, 2, 3, 4, 5, 6, 7, 8, 1, 2, 3, 4, 5, 6, 7, 8, 5, 6, 1, 7, 1, 2, 3, 4, 5, 6, 7, 8, 1, 2, 3, 4, 5, 6, 7, 8, 1, 2, 3, 4, 5, 6, 7, 8, 1, 2, 3, 4, 5, 6, 7, 8, 1, 2, 3, 4, 5, 6, 7, 8, 6, 1, 2, 3, 4, 5, 6, 7, 8, 1, 3, 1, 2, 3, 4, 5, 6, 7, 4, 1, 3, 6, 1, 2, 3, 4, 5, 6, 7, 8, 2, 3, 5, 6, 1, 7, 1, 8, 5, 8, 1, 2, 3, 4, 5, 6, 7, 8, 7, 1, 2, 3, 4, 5, 6, 7, 8, 1, 8, 1, 2, 3, 4, 5, 6, 7, 8, 2, 4, 2, 1, 8, 1, 1, 2, 3, 4, 5, 6, 7, 8, 1, 2, 3, 4, 5, 6, 7, 8, 1, 6, 3, 5, 2, 6, 8, 1, 4, 6, 7, 8, 1, 2, 3, 4, 5, 6, 7, 8, 2, 3, 1, 2, 3, 5, 6, 8, 3, 6, 1, 2, 3, 4, 5, 6, 7, 8, 1, 2, 3, 4, 5, 6, 7, 8, 5, 1, 2, 3, 4, 5, 6, 7, 8, 1, 2, 3, 4, 5, 6, 7, 8, 8, 3, 7, 1, 4, 1, 2, 3, 4, 5, 6, 7, 8, 2, 7, 1, 2, 4, 5, 1, 5, 6, 1, 6, 1, 6, 1, 2, 3, 4, 5, 6, 7, 8, 4, 7, 1, 2, 3, 4, 5, 6, 7, 8, 2, 1, 2, 3, 4, 5, 6, 7, 8, 7, 1, 2, 3, 4, 5, 6, 7, 8, 2, 5, 3, 5, 8, 8, 1, 2, 4, 5, 6, 8, 2, 2, 6, 1, 2, 4, 1, 2, 3, 4, 5, 6, 7, 8, 2, 5, 1, 4, 6, 6, 1, 2, 4, 1, 3, 4, 6, 7, 8, 1, 5, 1, 6, 1, 2, 3, 4, 6, 8, 4, 5, 2, 4, 5, 3, 1, 2, 3, 5, 6, 8, 2, 8, 8, 1, 2, 3, 4, 5, 6, 7, 8, 3, 1, 2, 3, 4, 5, 6, 7, 8, 1, 2, 3, 4, 6, 1, 2, 3, 4, 5, 6, 7, 8, 1, 2, 3, 4, 5, 6, 7, 8, 1, 2, 3, 4, 5, 6, 7, 8, 1, 2, 3, 4, 5, 6, 7, 8, 6, 1, 2, 3, 4, 5, 6, 7, 8, 1, 2, 4, 3, 2, 5, 1, 3, 5, 7, 4, 6, 1, 2, 4, 6, 8, 1, 2, 3, 4, 5, 6, 7, 8, 4, 1, 2, 3, 4, 5, 6, 7, 8, 3, 1, 2, 3, 4, 5, 6, 7, 8, 5, 1, 1, 2, 3, 4, 5, 6, 7, 8, 1, 2, 3, 4, 5, 6, 7, 8, 1, 2, 3, 4, 5, 6, 7, 1, 2, 3, 4, 5, 6, 7, 8, 8, 7, 8, 1, 1, 2, 7, 4, 7, 1, 2, 3, 4, 5, 6, 7, 8, 5, 1, 2, 3, 8, 1, 2, 3, 4, 6, 7, 8, 4, 1, 5, 6, 1, 5, 6, 8, 5, 3, 6, 4, 1, 2, 3, 4, 5, 6, 7, 8, 5, 3, 6, 8, 7, 1, 2, 3, 4, 5, 6, 7, 8, 1, 4, 6, 2, 1, 2, 3, 4, 5, 6, 7, 8, 1, 2, 3, 4, 5, 6, 7, 8, 3, 8, 5, 2, 3, 7, 4, 1, 1, 3, 1, 2, 3, 4, 5, 8, 3, 6, 3, 8, 7, 1, 2, 3, 4, 5, 6, 7, 8, 1, 2, 3, 4, 5, 6, 7, 8, 1, 3, 5, 7, 2, 3, 8, 1, 3, 7, 1, 2, 3, 4, 5, 6, 7, 8, 1, 2, 3, 4, 5, 6, 7, 8, 7, 1, 3, 4, 1, 4, 7, 8, 1, 2, 3, 4, 5, 6, 7, 8, 7, 5, 1, 2, 3, 4, 5, 6, 7, 1, 2, 4, 1, 3, 5, 7, 8, 1, 2, 3, 4, 5, 6, 7, 8, 6, 1, 2, 3, 4, 5, 6, 7, 8, 3, 1, 2, 7, 1, 2, 3, 4, 5, 6, 7, 8, 1, 8, 1, 2, 3, 4, 5, 6, 7, 8, 4, 1, 2, 3, 4, 5, 6, 7, 8, 5, 1, 3, 4, 5, 7, 8, 1, 2, 3, 4, 5, 6, 7, 8, 8, 1, 1, 2, 3, 4, 5, 6, 7, 8, 1, 1, 2, 3, 4, 5, 6, 7, 8, 1, 2, 3, 4, 5, 6, 7, 8, 1, 2, 3, 4, 5, 6, 7, 8, 1, 3, 2, 1, 6, 5, 8, 1, 3, 4, 6, 8, 1, 2, 3, 4, 5, 6, 7, 8, 1, 2, 3, 4, 6, 7, 4, 5, 7, 2, 7, 3, 4, 1, 2, 3, 4, 5, 6, 7, 8, 8, 1, 3, 4, 6, 6, 1, 2, 3, 4, 5, 6, 7, 8, 1, 2, 3, 4, 5, 6, 7, 8, 1, 2, 3, 4, 5, 6, 7, 8, 1, 6, 7, 1, 2, 3, 4, 5, 6, 7, 8, 1, 1, 2, 3, 4, 5, 7, 8, 1, 2, 3, 4, 5, 6, 7, 8, 5, 1, 1, 2, 3, 4, 5, 6, 7, 1, 2, 3, 4, 5, 6, 7, 8, 3, 7, 1, 2, 3, 4, 5, 6, 7, 8, 2, 1, 2, 5, 6, 4, 3, 8, 8, 1, 2, 3, 4, 5, 6, 7, 1, 2, 3, 4, 5, 6, 7, 8, 3, 5, 6, 1, 2, 3, 4, 5, 6, 7, 8, 1, 1, 2, 8, 1, 4, 6, 2, 4, 7, 1, 2, 3, 4, 5, 6, 7, 1, 2, 3, 4, 5, 6, 7, 8, 8, 7, 1, 2, 3, 4, 5, 6, 7, 8, 7, 8, 3, 4, 1, 4, 7, 8, 4, 4, 8, 4, 1, 2, 3, 4, 5, 6, 7, 8, 8, 1, 2, 3, 4, 5, 6, 7, 2, 3, 1, 2, 3, 4, 5, 6, 7, 8, 7, 7, 3, 1, 2, 3, 4, 5, 6, 7, 8, 6, 8, 2, 2, 5, 1, 4, 5, 8, 1, 2, 3, 4, 5, 6, 7, 8, 1, 2, 3, 5, 7, 8, 1, 2, 3, 4, 5, 6, 7, 8, 1, 2, 3, 4, 5, 6, 7, 8, 2, 4, 5, 1, 6, 1, 1, 2, 3, 4, 5, 6, 7, 8, 1, 2, 3, 4, 5, 6, 7, 8, 6, 2, 6, 4, 4, 1, 2, 3, 4, 5, 6, 7, 8, 1, 2, 3, 4, 5, 6, 7, 8, 1, 2, 3, 4, 5, 6, 7, 8, 1, 6, 1, 3, 4, 5, 6, 7, 1, 6, 1, 1, 2, 3, 4, 5, 6, 7, 8, 1, 2, 3, 4, 5, 6, 7, 8, 1, 2, 4, 3, 1, 2, 1, 2, 3, 4, 5, 6, 1, 3, 4, 5, 8, 1, 2, 4, 6, 1, 2, 3, 4, 5, 6, 7, 8, 2, 4, 1, 1, 2, 3, 4, 5, 7, 1, 2, 3, 4, 5, 7, 8, 5, 8, 2, 1, 1, 5, 7, 1, 4, 2, 7, 1, 2, 4, 5, 1, 2, 3, 4, 5, 6, 7, 8, 1, 2, 3, 4, 5, 6, 7, 8, 1, 2, 3, 4, 5, 6, 7, 8, 5, 1, 3, 4, 5, 6, 7, 8, 1, 2, 3, 4, 5, 6, 7, 8, 6, 3, 1, 2, 3, 4, 5, 6, 7, 8, 1, 2, 3, 4, 5, 6, 7, 8, 1, 2, 3, 4, 5, 6, 7, 8, 1, 4, 5, 6, 8, 1, 2, 3, 4, 5, 6, 7, 8, 1, 2, 3, 4, 7, 1, 3, 5, 6, 7, 8, 1, 3, 4, 5, 4, 5, 3, 1, 1, 2, 3, 4, 5, 6, 7, 8, 5, 3, 6, 1, 7, 7, 1, 2, 3, 4, 5, 6, 7, 8, 4, 1, 2, 3, 4, 5, 6, 7, 8, 1, 2, 3, 4, 5, 6, 7, 8, 2, 5, 1, 2, 3, 4, 5, 6, 7, 8, 3, 4, 6, 1, 2, 3, 4, 5, 6, 7, 8, 1, 2, 3, 4, 5, 6, 7, 8, 1, 2, 4, 6, 7, 8, 1, 2, 3, 4, 5, 6, 7, 8, 3, 5, 1, 2, 6, 8, 6, 1, 2, 3, 4, 5, 6, 7, 8, 1, 2, 5, 2, 4, 5, 1, 2, 3, 4, 5, 6, 7, 8, 6, 4, 8], \"Freq\": [0.678158137001314, 0.02493228444857772, 0.12323672027439844, 0.05164544635776813, 0.04754942819835894, 0.03632990019649896, 0.022795231495842488, 0.0151374584152079, 0.8756045799575778, 0.8327083770532774, 0.12810898108511962, 0.3759895452397097, 0.0780355659931473, 0.0744884948116406, 0.1418828472602678, 0.06739435244862721, 0.08512970835616068, 0.1560711319862946, 0.02128242708904017, 0.8675242894898225, 0.5870269821456165, 0.09556253197719339, 0.1706473785307025, 0.030716528135526448, 0.03754242327675455, 0.030716528135526448, 0.0273035805649124, 0.0204776854236843, 0.1071137988475751, 0.3213413965427253, 0.48201209481408797, 0.8592693023120186, 0.6404921705824859, 0.8723318250193172, 0.8900607109899104, 0.08900607109899104, 0.9542048009492322, 0.9560435991040199, 0.8973997553909676, 0.08013650329709344, 0.10684867106279125, 0.10684867106279125, 0.053424335531395625, 0.08013650329709344, 0.1602730065941869, 0.427394684251165, 0.026712167765697813, 0.2703553525771987, 0.6758883814429968, 0.10804784720600334, 0.05402392360300167, 0.05402392360300167, 0.05402392360300167, 0.05402392360300167, 0.162071770809005, 0.5402392360300167, 0.24377895681739617, 0.07110219573840722, 0.06094473920434904, 0.06094473920434904, 0.03047236960217452, 0.05078728267029087, 0.43677063096450147, 0.04062982613623269, 0.7180499221405876, 0.860901641562809, 0.16238104538103393, 0.04059526134525848, 0.12178578403577545, 0.04059526134525848, 0.08119052269051696, 0.5277383974883603, 0.08119052269051696, 0.20259132036107247, 0.10129566018053623, 0.6077739610832175, 0.14187931717516847, 0.8512759030510108, 0.8865264517623045, 0.2636155204457704, 0.15377572026003275, 0.04393592007429507, 0.09885582016716392, 0.40640726068722943, 0.010983980018573768, 0.010983980018573768, 0.010983980018573768, 0.8820995245085186, 0.8475033074978228, 0.6981023305481149, 0.15841510933331449, 0.052805036444438166, 0.10561007288887633, 0.052805036444438166, 0.052805036444438166, 0.5808554008888198, 0.052805036444438166, 0.4344867444206529, 0.18103614350860536, 0.2614966517346522, 0.02011512705651171, 0.016092101645209366, 0.0683914319921398, 0.012069076233907025, 0.008046050822604683, 0.4257878428188167, 0.07741597142160303, 0.4644958285296182, 0.7267641726307439, 0.8061902273328501, 0.8906290457683008, 0.0685099265975616, 0.9092106475737717, 0.843788429234573, 0.9230767263696353, 0.8520045854440716, 0.3665195977351191, 0.0596659810266473, 0.3153773282837072, 0.04688041366379431, 0.11507010626567693, 0.025571134725705987, 0.03409484630094131, 0.03835670208855898, 0.1802264041267347, 0.4840366282260875, 0.06179190998630904, 0.0257466291609621, 0.041194606657539365, 0.09783719081165598, 0.01544797749657726, 0.09268786497946356, 0.9250079618802761, 0.16156933589890837, 0.31003845537358093, 0.1004349925858079, 0.14410238066659395, 0.16156933589890837, 0.06113434331310046, 0.026200432848471625, 0.034933910464628834, 0.05411058726903199, 0.10822117453806399, 0.7575482217664479, 0.05411058726903199, 0.7850040704983284, 0.11214343864261835, 0.8294708158462469, 0.43190873916206346, 0.05758783188827513, 0.07198478986034391, 0.12237414276258465, 0.05038935290224074, 0.021595436958103172, 0.22315284856706613, 0.014396957972068783, 0.25552660021290646, 0.31940825026613306, 0.09582247507983992, 0.1103410319101187, 0.06968907278533812, 0.10162989781195142, 0.026133402294501794, 0.02322969092844604, 0.7568482887873242, 0.12614138146455403, 0.32443400666222283, 0.05694852244602848, 0.18465126974924387, 0.12079989609763617, 0.12597703450182057, 0.10440562448438555, 0.04918281483975187, 0.032788543226501245, 0.84177074449495, 0.8907088108245055, 0.8849943064147158, 0.19411363056593967, 0.14035908671691022, 0.29564999116966195, 0.17918181283009815, 0.06569999803770266, 0.05076818030186114, 0.041809089660356236, 0.029863635471683025, 0.3006529241467058, 0.0774336624988336, 0.09010028012981565, 0.3895582403490703, 0.0387168312494168, 0.06142114587098838, 0.0167294949843159, 0.025572228047454307, 0.52148038582393, 0.06724686240551896, 0.14083776843420007, 0.1332249160864055, 0.02410736576801623, 0.05202115770992976, 0.04060187918823786, 0.021569748318751365, 0.14763495841958807, 0.7381747920979403, 0.07846411701916954, 0.863105287210865, 0.795989100181822, 0.12308887368842103, 0.6154443684421051, 0.3882348157019201, 0.19028614322232268, 0.09578161571593424, 0.09833579213502582, 0.09705870392548002, 0.04342099912455685, 0.05236061659137738, 0.033204293448190536, 0.9044959261685371, 0.19910096646526892, 0.04977524161631723, 0.23560281031723487, 0.03484266913142206, 0.3716551374018353, 0.024887620808158616, 0.07134451298338802, 0.01327339776435126, 0.921438127321252, 0.5288716832512259, 0.10985465230737629, 0.06591279138442578, 0.07219020008770442, 0.08788372184590104, 0.0847450174942617, 0.01098546523073763, 0.03766445221967187, 0.11301986436311434, 0.7911390505418004, 0.920223625800811, 0.16278442221400935, 0.027130737035668224, 0.08139221110700467, 0.5697454777490327, 0.027130737035668224, 0.027130737035668224, 0.027130737035668224, 0.08139221110700467, 0.8937589009806127, 0.8680323917246744, 0.6869874840686865, 0.04227615286576532, 0.061904366696299215, 0.05435505368455541, 0.1056903821644133, 0.01811835122818514, 0.013588763421138853, 0.016608488625836377, 0.08141108980794648, 0.7326998082715184, 0.7403453129925175, 0.116375727577284, 0.698254365463704, 0.4672414325431302, 0.06732585483330407, 0.09560271386329178, 0.1508099148266011, 0.06867237192997015, 0.0646328206399719, 0.046454839834979805, 0.040395512899982444, 0.8886888436398526, 0.12032234774048577, 0.13751125456055516, 0.26929287351442055, 0.08021489849365718, 0.26929287351442055, 0.04010744924682859, 0.05729635606689799, 0.028648178033448993, 0.07582198301236157, 0.8340418131359773, 0.8786787062007226, 0.7685258995475548, 0.09393094327803447, 0.008539176661639497, 0.008539176661639497, 0.03415670664655799, 0.07685258995475548, 0.008539176661639497, 0.7812377367163285, 0.21787849506950122, 0.14525233004633414, 0.031125499295643032, 0.11412683075069112, 0.44613215657088345, 0.02075033286376202, 0.01037516643188101, 0.01037516643188101, 0.8646217125531229, 0.19237791101686413, 0.0699556040061324, 0.5596448320490592, 0.0349778020030662, 0.0699556040061324, 0.0349778020030662, 0.0349778020030662, 0.8312811413272, 0.9020718120362375, 0.04100326418346534, 0.04100326418346534, 0.8928112708387653, 0.8680013109564969, 0.8676052718159979, 0.08070746714567421, 0.050442166966046385, 0.7516080401914316, 0.40349255569969944, 0.022416253094427747, 0.022416253094427747, 0.49315756807741046, 0.044832506188855495, 0.8342295627532267, 0.17263288866376167, 0.46035436977003114, 0.10070251838719431, 0.08631644433188083, 0.08631644433188083, 0.04315822216594042, 0.04315822216594042, 0.028772148110626946, 0.7891988300742127, 0.9258808804241921, 0.7460446898871614, 0.9063857780977927, 0.8216885103304068, 0.19534814029875838, 0.027906877185536912, 0.13953438592768455, 0.11162750874214765, 0.027906877185536912, 0.13953438592768455, 0.055813754371073825, 0.33488252622644293, 0.2176815730977679, 0.06596411305992966, 0.15171746003783823, 0.12533181481386635, 0.36280262182961315, 0.019789233917978898, 0.039578467835957795, 0.019789233917978898, 0.860813870433007, 0.42058531697554496, 0.03277288184225025, 0.05462146973708376, 0.03823502881595863, 0.14747796829012616, 0.087394351579334, 0.2020994380272099, 0.02731073486854188, 0.946715985058042, 0.8955185643565833, 0.8941779777198501, 0.09570396245094355, 0.7656316996075484, 0.09570396245094355, 0.8734151949535831, 0.8092253169233885, 0.7499423294237397, 0.7521437719519994, 0.9352821603486866, 0.8176832757752994, 0.9382601208973996, 0.8611053245426921, 0.8601825148389657, 0.5943760235765299, 0.03079668515940569, 0.19093944798831528, 0.05851370180287081, 0.009239005547821706, 0.09546972399415764, 0.003079668515940569, 0.015398342579702845, 0.22361353817602908, 0.6708406145280872, 0.8549864865568466, 0.20119673776590544, 0.29363848214483496, 0.17038282297292892, 0.10331724371762711, 0.05619007991660422, 0.06706557925530181, 0.02537616512362771, 0.08337882826334819, 0.8434331971248172, 0.9104340196131424, 0.8320999153994759, 0.9032576475547908, 0.37285750586203165, 0.2000698811942609, 0.03637634203532016, 0.01818817101766008, 0.2910107362825613, 0.03637634203532016, 0.02728225652649012, 0.00909408550883004, 0.16718152503416464, 0.28327980630789007, 0.18111331878701167, 0.19968904379080776, 0.04179538125854116, 0.06037110626233723, 0.027863587505694103, 0.046439312509490176, 0.665914161716184, 0.7519313526466476, 0.20783360454748442, 0.08997353513321478, 0.10154907766497341, 0.19625806201572582, 0.06577012802135583, 0.2935978514873324, 0.019467957894321326, 0.02525572916020064, 0.8783926848283137, 0.24176253346569637, 0.057562507968022945, 0.011512501593604589, 0.09210001274883671, 0.3568875494017423, 0.17268752390406886, 0.057562507968022945, 0.011512501593604589, 0.9088250173889063, 0.7173808286943443, 0.016554942200638714, 0.05518314066879572, 0.049664826601916144, 0.011036628133759144, 0.060701454735675286, 0.06621976880255485, 0.022073256267518288, 0.8159745418533387, 0.6356698025042898, 0.7514640067048869, 0.14320456023545258, 0.5138516573154476, 0.11793316725272567, 0.04633088713499937, 0.04211898830454488, 0.1052974707613622, 0.029483291813181416, 0.004211898830454488, 0.6278038640529672, 0.7604517778832268, 0.8179096811898607, 0.03155941587515344, 0.7574259810036826, 0.18935649525092066, 0.07361748409622701, 0.73617484096227, 0.07361748409622701, 0.07361748409622701, 0.43339630289939574, 0.14009466479072824, 0.14423539379932118, 0.07729360816040179, 0.06211093512889429, 0.057970206120301335, 0.03312583206874362, 0.05106899110597975, 0.8181061138957223, 0.8490408020386596, 0.4252480871538481, 0.14883683050384683, 0.021262404357692406, 0.021262404357692406, 0.38272327843846327, 0.7950760852904457, 0.1135822978986351, 0.19703785215780834, 0.2107210363354339, 0.12588529443415533, 0.08757237873680371, 0.03283964202630139, 0.1368318417762558, 0.05746937354602743, 0.15051502595388136, 0.30820820007803684, 0.10627868968208166, 0.05313934484104083, 0.14879016555491434, 0.07439508277745717, 0.05313934484104083, 0.063767213809249, 0.18067377245953883, 0.8094988032128643, 0.009198850036509821, 0.11958505047462767, 0.018397700073019642, 0.036795400146039284, 0.16743859042324752, 0.7534736569046139, 0.3483164231875972, 0.18018812930682215, 0.1170513438410459, 0.15677786053861298, 0.059589775046350636, 0.07874363131124906, 0.029794887523175318, 0.029794887523175318, 0.3716881295544539, 0.1147860400094637, 0.23230508097153368, 0.09838803429382603, 0.05739302000473185, 0.027330009526062786, 0.05466001905212557, 0.04646101619430674, 0.07996109961481285, 0.07996109961481285, 0.1599221992296257, 0.6396887969185028, 0.3597580062640409, 0.06154896010782386, 0.08062046887362845, 0.1387018819331242, 0.015603961717476472, 0.03380858372119903, 0.2678680094833461, 0.04161056457993726, 0.4661380871714859, 0.08978889384040918, 0.11462411979626703, 0.051580853908320165, 0.017193617969440054, 0.013372813976231154, 0.24071065157216076, 0.003820803993208901, 0.16897483738956548, 0.6758993495582619, 0.30576915920472886, 0.10492078992319127, 0.10492078992319127, 0.07294493013707584, 0.30776765044136106, 0.03497359664106376, 0.03697208787769597, 0.03297510540443154, 0.9303206098215854, 0.8390783720573091, 0.8610984165527794, 0.795562010251666, 0.08062688391111243, 0.5311888822379173, 0.037942063016994085, 0.028456547262745564, 0.15176825206797634, 0.11619756798954439, 0.011856894692810652, 0.04268482089411835, 0.22947743421497063, 0.6310629440911693, 0.11473871710748532, 0.30874309156265356, 0.07602216827422123, 0.07602216827422123, 0.17686790169920857, 0.08067658673998988, 0.11325751600037041, 0.11791193446613905, 0.052750075945378, 0.4370127735751784, 0.08070956629091133, 0.12992271646829628, 0.1161430344186285, 0.019685260070953985, 0.06496135823414814, 0.07086693625543435, 0.08070956629091133, 0.4152631149994463, 0.08345000397118059, 0.12716191081322759, 0.1251750059567709, 0.12318810110031421, 0.03775119227267693, 0.03775119227267693, 0.0516595262678737, 0.8575882778744806, 0.6053108375592429, 0.08756068719410431, 0.07613972799487331, 0.06091178239589865, 0.041876850397180324, 0.07233274159512965, 0.030455891197949326, 0.022841918398461992, 0.2931521862523267, 0.07995059625063455, 0.026650198750211518, 0.07995059625063455, 0.4797035775038073, 0.026650198750211518, 0.9592833943563489, 0.04569687749856621, 0.022848438749283106, 0.6169078462306439, 0.09139375499713243, 0.04569687749856621, 0.06854531624784932, 0.09139375499713243, 0.9156299054038387, 0.205683565731408, 0.137122377154272, 0.17630019919834972, 0.102841782865704, 0.019588911022038857, 0.102841782865704, 0.18119742695385943, 0.07345841633264572, 0.22595191597333103, 0.09160212809729637, 0.22595191597333103, 0.09160212809729637, 0.2931268099113484, 0.06106808539819758, 0.006106808539819758, 0.006106808539819758, 0.8454576616394958, 0.8426949611757978, 0.7316521594092473, 0.22468961853553693, 0.05617240463388423, 0.6740688556066108, 0.21938974414907658, 0.14138450178496045, 0.07800524236411611, 0.12188319119393144, 0.07312991471635887, 0.30714564180870724, 0.009750655295514514, 0.04387794882981532, 0.8502039993203335, 0.1234958346454951, 0.06443260938025831, 0.1664509075656673, 0.13423460287553815, 0.2255141328309041, 0.22014474871588258, 0.04832445703519374, 0.010738768230043053, 0.24167082378838614, 0.20139235315698847, 0.040278470631397695, 0.4833416475767723, 0.22114314017903294, 0.018428595014919412, 0.22114314017903294, 0.11057157008951647, 0.018428595014919412, 0.018428595014919412, 0.36857190029838827, 0.018428595014919412, 0.8422484590317126, 0.8422998887489939, 0.2956081956117824, 0.10713317156400169, 0.32635938374589407, 0.04860671672811188, 0.018847502404778074, 0.15673186210289136, 0.01983947621555587, 0.026783292891000423, 0.2872950084769012, 0.11286589618735406, 0.06639170363962003, 0.0820842881362575, 0.29634842260957667, 0.0887234585002195, 0.05130268008516093, 0.015089023554459098, 0.731421538851201, 0.18285538471280025, 0.7944204005322452, 0.11348862864746359, 0.11529964705552087, 0.11529964705552087, 0.7494477058608856, 0.9442187307964454, 0.2405502588664702, 0.14214333478473237, 0.05467051337874322, 0.08747282140598915, 0.43736410702994577, 0.021868205351497288, 0.010934102675748644, 0.010934102675748644, 0.7825332209180078, 0.8874908910207623, 0.07395757425173019, 0.7965509718790809, 0.46081233528289073, 0.00842949393810166, 0.07305561413021439, 0.24164549289224757, 0.005619662625401106, 0.02528848181430498, 0.11520308382072268, 0.06743595150481328, 0.09691200367324176, 0.07268400275493132, 0.04845600183662088, 0.5572440211211401, 0.09691200367324176, 0.14536800550986265, 0.32957977165427077, 0.08614016759145714, 0.05992359484623105, 0.3670320184331652, 0.0037452246778894405, 0.011235674033668323, 0.1198471896924621, 0.022471348067336645, 0.6393787359915002, 0.8656484935464095, 0.9421600167170847, 0.8313429408843466, 0.41765916638948164, 0.2051515670523677, 0.10053244122486545, 0.08582037665537294, 0.06669469271503269, 0.07879127913883763, 0.02893372698666859, 0.016346738410547228, 0.13738133925563586, 0.25949808526064555, 0.13738133925563586, 0.08395526287844415, 0.1602782291315752, 0.04579377975187863, 0.015264593250626209, 0.1602782291315752, 0.8412725774614935, 0.08412725774614935, 0.0560848384974329, 0.26767605489500595, 0.08266466401169302, 0.12202878973154685, 0.27554888003897676, 0.023618475431912294, 0.07479183886772225, 0.05904618857978073, 0.09053748915566379, 0.5937307818095742, 0.1319401737354609, 0.11641780035481845, 0.03880593345160615, 0.04139299568171323, 0.05691536906235569, 0.015522373380642461, 0.006467655575267692, 0.561268471417689, 0.04729790489474907, 0.08513622881054833, 0.1308575368754724, 0.020495758787724597, 0.05833408270352385, 0.05202769538422398, 0.042568114405274166, 0.2829037888123896, 0.28919053967488717, 0.2137495293249166, 0.03667271336456902, 0.07229763491872179, 0.04819842327914786, 0.011525709914578837, 0.046102839658315346, 0.3709838453544634, 0.19933460347404003, 0.022148289274893335, 0.10520437405574334, 0.03875950623106334, 0.04429657854978667, 0.07751901246212668, 0.13288973564936002, 0.15348012514186327, 0.7674006257093163, 0.24781567643908511, 0.6195391910977128, 0.1841790324606341, 0.20464336940070454, 0.04775011952683106, 0.013642891293380303, 0.07503590211359167, 0.44339396703485984, 0.006821445646690152, 0.020464336940070455, 0.36041293648945205, 0.12831455330514524, 0.26417702151059314, 0.04528748940181597, 0.05094842557704296, 0.062270297927496956, 0.062270297927496956, 0.022643744700907985, 0.377119214073273, 0.15419159984276679, 0.13561429865689126, 0.06316282403197675, 0.12818337818254105, 0.04830098308327634, 0.07245147462491451, 0.02043503130446307, 0.21290885814318095, 0.16902687974725816, 0.12839541826955186, 0.1771531720427994, 0.1511490366970674, 0.08451343987362908, 0.03413042764127328, 0.04550723685503104, 0.053069394392548715, 0.07581342056078387, 0.037906710280391935, 0.06823207850470549, 0.1819522093458813, 0.5458566280376439, 0.022744026168235162, 0.015162684112156774, 0.8267161421864709, 0.27815089716940694, 0.08269350996928314, 0.33077403987713255, 0.13531665267700876, 0.08269350996928314, 0.045105550892336255, 0.045105550892336255, 0.007517591815389376, 0.8734051428710459, 0.8767786508557907, 0.1938432251710259, 0.46224153694629255, 0.02982203464169629, 0.02982203464169629, 0.17893220785017774, 0.10437712124593702, 0.014911017320848145, 0.7868832508422096, 0.8781350738394592, 0.041815955897117105, 0.8068517713841833, 0.5259178499940165, 0.07254039310262296, 0.09326621970337237, 0.09326621970337237, 0.07254039310262296, 0.054405294826967224, 0.062177479802248255, 0.02590728325093677, 0.8406222749164077, 0.07642020681058252, 0.8803364628003787, 0.8586976245884596, 0.07159537147106645, 0.8591444576527975, 0.8779904373489236, 0.6384915332581396, 0.8340641566274923, 0.7943021560117589, 0.5257229661020644, 0.06523569652361383, 0.10744702956830514, 0.057560908697306325, 0.10552833261172825, 0.07866657521965198, 0.026861757392076285, 0.03453654521838379, 0.824669175239124, 0.2600116479676311, 0.13000582398381555, 0.14258703275644286, 0.18452439533186724, 0.0901653295371624, 0.10484340643856092, 0.06709978012067899, 0.020968681287712187, 0.8662124268649368, 0.8328629957030772, 0.28757877235075896, 0.11183618924751738, 0.1757425831032416, 0.33550856774255217, 0.047929795391793165, 0.015976598463931055, 0.015976598463931055, 0.007988299231965527, 0.1017941644745049, 0.8143533157960392, 0.901390297973314, 0.19654232891550666, 0.58962698674652, 0.9749260454016017, 0.2887747657294054, 0.2040675011154465, 0.10395891566258596, 0.10780924587231136, 0.18481585006681947, 0.03465297188752865, 0.05390462293615568, 0.019251651048627028, 0.21791596631339427, 0.022938522769830976, 0.10322335246423939, 0.4817089781664505, 0.03440778415474646, 0.04587704553966195, 0.06881556830949292, 0.022938522769830976, 0.11261827960825611, 0.7883279572577928, 0.09238912608420018, 0.8315021347578015, 0.846576416151086, 0.8666858356701737, 0.7508909005961886, 0.1532390989882833, 0.07661954949414165, 0.1532390989882833, 0.07661954949414165, 0.45971729696485, 0.6462287159646339, 0.05899183299262219, 0.08044340862630298, 0.10993932512261408, 0.010725787816840398, 0.03217736345052119, 0.04290315126736159, 0.016088681725260595, 0.8913402980517335, 0.8684425619128331, 0.1111697669131973, 0.05558488345659865, 0.6114337180225852, 0.05558488345659865, 0.05558488345659865, 0.05558488345659865, 0.7191722353703123, 0.17979305884257807, 0.15992216852350388, 0.21807568435023258, 0.07269189478341086, 0.16719135800184498, 0.2689600106986202, 0.08723027374009303, 0.014538378956682172, 0.007269189478341086, 0.37493814081297505, 0.1823469646576764, 0.08946611374590116, 0.08263663941415297, 0.1516143301648096, 0.014341896096671178, 0.03483031909191572, 0.07034358561700625, 0.8788234956883525, 0.7016338644411871, 0.08566459972828447, 0.040792666537278324, 0.020396333268639162, 0.040792666537278324, 0.06118899980591748, 0.024475599922366992, 0.024475599922366992, 0.3154572497917609, 0.16479110063748703, 0.16949941779855807, 0.0894580260603501, 0.1192773680804668, 0.11143017281201503, 0.010986073375832468, 0.01883326864428423, 0.7506517902353034, 0.8234815342924454, 0.6992621803746277, 0.9081248776819687, 0.03632499510727875, 0.31248927516352415, 0.11652142463724628, 0.1271142814224505, 0.08474285428163367, 0.10592856785204208, 0.05826071231862314, 0.19067142213367574, 0.005296428392602104, 0.7902127296038602, 0.9074253669921654, 0.12056253340790656, 0.7233752004474393, 0.06028126670395328, 0.06028126670395328, 0.1189333305002244, 0.7730666482514587, 0.0594666652501122, 0.8919813252586521, 0.9223627355049667, 0.1655578675229893, 0.8277893376149463, 0.6224871077523195, 0.11425396281529915, 0.11031417099408193, 0.03545812639095491, 0.055157085497040965, 0.051217293675823755, 0.003939791821217212, 0.007879583642434424, 0.7953688119415109, 0.7206841658407406, 0.7188179725612591, 0.055293690197019935, 0.03686246013134662, 0.024574973420897747, 0.08601240697314212, 0.04300620348657106, 0.03686246013134662, 0.006143743355224437, 0.9551805497360026, 0.26108010705485063, 0.08702670235161689, 0.15397031954516832, 0.05355489375484116, 0.368189894564533, 0.04016617031613087, 0.020083085158065436, 0.020083085158065436, 0.6985081342683707, 0.4785148015383494, 0.05456747736840827, 0.09234496170038323, 0.016789993036433314, 0.016789993036433314, 0.26863988858293303, 0.0587649756275166, 0.012592494777324985, 0.7244176920713224, 0.2263805287722883, 0.7431747710981941, 0.14863495421963882, 0.7793242563686215, 0.9177738464844813, 0.05443218567906311, 0.6259701353092259, 0.1905126498767209, 0.05443218567906311, 0.027216092839531556, 0.05443218567906311, 0.8293045071416764, 0.7925398661207086, 0.13208997768678477, 0.0678822605927782, 0.2715290423711128, 0.6561951857301893, 0.4240253870717238, 0.2508319191128507, 0.03284703702668283, 0.03583313130183582, 0.044791414127294774, 0.11944377100611939, 0.04777750840244775, 0.044791414127294774, 0.14207024446487654, 0.7103512223243827, 0.06513404319655192, 0.6513404319655192, 0.19540212958965575, 0.857586026450309, 0.17973260626902196, 0.04493315156725549, 0.7189304250760878, 0.8211631910182222, 0.053322285131053394, 0.021328914052421356, 0.010664457026210678, 0.04265782810484271, 0.04265782810484271, 0.8970492073939075, 0.05276760043493574, 0.8480831730833631, 0.07067359775694693, 0.2905154243553522, 0.08544571304569183, 0.06835657043655347, 0.03417828521827673, 0.18798056870052204, 0.3417828521827673, 0.7872473544675418, 0.8851785899999673, 0.7681461899642694, 0.10973516999489563, 0.9368164702890003, 0.8664100913380913, 0.3445277048854408, 0.0430659631106801, 0.06459894466602015, 0.02153298155534005, 0.15073087088738035, 0.3875936679961209, 0.957291754475963, 0.8087247790354231, 0.7991468221945608, 0.36287295581188583, 0.14266174674055995, 0.14119854933809267, 0.07828106103199955, 0.04682231687895301, 0.13534575972822355, 0.037311533762915676, 0.05633309999499034, 0.9058610332383351, 0.16950681655089758, 0.17683118516729437, 0.17787752354106537, 0.08370706990167781, 0.07742903965905198, 0.267862623685369, 0.03243648958690015, 0.014648737232793618, 0.17907961590195767, 0.11938641060130512, 0.1492330132516314, 0.02984660265032628, 0.537238847705873, 0.26494305931196516, 0.16860012865306875, 0.10116007719184124, 0.10116007719184124, 0.07707434452711714, 0.23363160684782383, 0.04094574553003098, 0.012042866332362052, 0.2253819448239163, 0.19006089376942195, 0.09923533391500793, 0.09082555985441404, 0.12278270128467082, 0.20015262264213463, 0.023547367369662897, 0.048776689551444576, 0.18847760418222811, 0.010470978010123784, 0.05235489005061892, 0.25130347224297084, 0.09947429109617595, 0.3350712963239611, 0.04188391204049514, 0.02094195602024757, 0.23152004313301158, 0.3116615965252079, 0.03116615965252079, 0.04897539373967553, 0.11130771304471711, 0.2270677346112229, 0.03561846817430948, 0.004452308521788685, 0.8244773990315922, 0.7028624507154069, 0.05076228810722383, 0.04295270532149709, 0.07419103646440406, 0.019523956964316858, 0.06638145367867732, 0.02342874835718023, 0.02342874835718023, 0.8316087592826478, 0.10080106173123003, 0.025200265432807508, 0.8287664344085479, 0.8369876589051561, 0.09299862876723958, 0.052770782708744884, 0.10554156541748977, 0.052770782708744884, 0.6860201752136835, 0.16867659336436483, 0.8433829668218241, 0.9433197365863882, 0.04456955774685749, 0.022284778873428744, 0.11142389436714373, 0.7799672605700061, 0.3163770383022838, 0.05634111640999575, 0.05200718437845761, 0.04767325234691948, 0.35971635861766516, 0.06500898047307202, 0.06934291250461015, 0.03033752422076694, 0.8371665003672658, 0.5557096495606095, 0.09982808075939092, 0.07986246460751274, 0.06655205383959395, 0.025511620638511014, 0.08097166550483931, 0.05989684845563456, 0.03216682602247041, 0.7644415252451012, 0.3182259308245736, 0.0776771957130849, 0.12027436755574437, 0.1252857995372337, 0.08018291170382957, 0.16287153939840382, 0.042597171842659466, 0.07517147972234023, 0.7755474608469022, 0.9446710212814331, 0.3842561414610471, 0.052680277458369354, 0.11465707446821566, 0.1642385120760927, 0.01239535940196926, 0.027889558654430834, 0.23551182863741593, 0.009296519551476945, 0.3225614945773886, 0.14128726621984788, 0.14395306369569408, 0.14395306369569408, 0.06931073437200085, 0.05598174699276992, 0.015994784855077118, 0.10663189903384747, 0.15044638054104276, 0.07522319027052138, 0.6393971172994317, 0.03761159513526069, 0.03761159513526069, 0.03761159513526069, 0.03761159513526069, 0.3439234311276298, 0.06715664631486262, 0.09157724497481268, 0.1098926939697752, 0.26150391065029843, 0.0549463469848876, 0.05799892181738136, 0.013227824274139608, 0.7987130191057505, 0.698450148719142, 0.7794695388802729, 0.9250494796277924, 0.20078506126459808, 0.06692835375486603, 0.6692835375486602, 0.8392525560480845, 0.9241476795425352, 0.7315275811054927, 0.025996434700443126, 0.06892078036861667, 0.08463955483865204, 0.015114206221187865, 0.012695933225797805, 0.0332512536866133, 0.027810139446985672, 0.9036727060417775, 0.06100096025665037, 0.06100096025665037, 0.671010562823154, 0.18300288076995108, 0.08923427336308898, 0.07436189446924081, 0.2379580623015706, 0.4164266090277486, 0.10410665225693715, 0.014872378893848162, 0.07436189446924081, 0.9297865693303948, 0.09543644855487246, 0.09543644855487246, 0.7634915884389797, 0.0706444885033157, 0.7770893735364728, 0.0706444885033157, 0.0706444885033157, 0.8257746046628216, 0.9559860816923595, 0.9323516625493293, 0.862255071882117, 0.17136727929712436, 0.08568363964856218, 0.10710454956070273, 0.021420909912140546, 0.12852545947284327, 0.08568363964856218, 0.36415546850638925, 0.04284181982428109, 0.9340002411332277, 0.18083252158497248, 0.18083252158497248, 0.5424975647549175, 0.5903358432574917, 0.6712277620594848, 0.1579359440139964, 0.029612989502624327, 0.026322657335666067, 0.029612989502624327, 0.01645166083479129, 0.04277431817045736, 0.026322657335666067, 0.9463711105046431, 0.9594574316380969, 0.7345275366445517, 0.8394762357872196, 0.6892558860258591, 0.07323343789024753, 0.06030989002726267, 0.017231397150646477, 0.08184913646557077, 0.06030989002726267, 0.012923547862984858, 0.004307849287661619, 0.12917862230976135, 0.19807388754163407, 0.13779053046374543, 0.10334289784780908, 0.034447632615936356, 0.3100286935434272, 0.06028335707788863, 0.02583572446195227, 0.7637344470531203, 0.8332184973742243, 0.9413398033373589, 0.6798360479735943, 0.056653003997799524, 0.16995901199339858, 0.882068497667708, 0.8985096910704169, 0.19429389759099605, 0.7771755903639842, 0.8770118761716955, 0.037319654305178536, 0.018659827152589268, 0.018659827152589268, 0.018659827152589268, 0.037319654305178536, 0.17045375163709364, 0.7670418823669214, 0.8724526779961964, 0.6969742842427716, 0.7206358526780084, 0.511970114949373, 0.1607348035306171, 0.09525025394406939, 0.07739083132955638, 0.026789133921769515, 0.014882852178760841, 0.10417996525132589, 0.008929711307256505, 0.2972091767866305, 0.08830127716124529, 0.2627501417968762, 0.10337710496926278, 0.07537913904008745, 0.05814962154521031, 0.07537913904008745, 0.04092010405033318, 0.09271226264067915, 0.09271226264067915, 0.09271226264067915, 0.6489858384847541, 0.8987043424184089, 0.7771921920590612, 0.7509694218494118, 0.8759147941230803, 0.07616650383678958, 0.8815453167126693, 0.3203375516676099, 0.22122759093066985, 0.1752122520170905, 0.13450637528584727, 0.021237848729344304, 0.04070587673124325, 0.05840408400569684, 0.02831713163912574, 0.1519461724025101, 0.341212457324935, 0.1706062286624675, 0.0586458911027232, 0.1359518384654038, 0.07997166968553164, 0.021325778582808437, 0.03732011251991476, 0.6996721213333028, 0.20635209569419724, 0.15476407177064794, 0.6190562870825917, 0.22649028584024053, 0.07549676194674684, 0.07549676194674684, 0.6039740955739747, 0.33277871090215405, 0.024114399340735802, 0.2435554333414316, 0.08922327756072246, 0.09886903729701678, 0.1712122353192242, 0.021702959406662222, 0.01688007953851506, 0.6989059012882023, 0.8628477940862812, 0.21874660503490112, 0.10095997155456975, 0.03365332385152325, 0.05047998577728487, 0.4206665481440406, 0.11778663348033137, 0.05047998577728487, 0.12609948909908078, 0.04203316303302693, 0.7986300976275117, 0.07125935380316954, 0.6769638611301106, 0.07125935380316954, 0.07125935380316954, 0.07125935380316954, 0.06929384782466598, 0.6570083349301663, 0.02566438808320962, 0.020531510466567697, 0.07955960305794983, 0.10009111352451752, 0.002566438808320962, 0.04362945974145636, 0.8528356802852919, 0.3490565170175244, 0.07348558253000513, 0.1745282585087622, 0.10104267597875706, 0.05511418689750385, 0.036742791265002565, 0.21127104977376476, 0.009185697816250641, 0.6619683847914466, 0.9019395156076453, 0.8909558899412052, 0.7212265256296624, 0.13724573477717114, 0.14733733292255138, 0.3209128210230913, 0.1533922918097795, 0.05853126924320534, 0.12311749737363882, 0.01614655703260837, 0.044403031839673014, 0.22085115902805233, 0.662553477084157, 0.23538386192755595, 0.18888828426285353, 0.26444359796799494, 0.10461504974558042, 0.08427323451727312, 0.06102544568492191, 0.026153762436395105, 0.034871683248526804, 0.9458428629237665, 0.48044765589807026, 0.09823279209811846, 0.11966540128316248, 0.12145145204858282, 0.06608387832055242, 0.050009421431769396, 0.03214891377756604, 0.030362863012145705, 0.9314337982975135, 0.3478409581580823, 0.5466072199627008, 0.049691565451154614, 0.024845782725577307, 0.024845782725577307, 0.024845782725577307, 0.7498182467180825, 0.033699696481711575, 0.06739939296342315, 0.05897446884299525, 0.016849848240855787, 0.02527477236128368, 0.016849848240855787, 0.016849848240855787, 0.7832887336068232, 0.9419920245330647, 0.31184069168954615, 0.06159816132139183, 0.09239724198208774, 0.23099310495521935, 0.042348735908456885, 0.13859586297313162, 0.10009701214726172, 0.019249425412934947, 0.8744260596000398, 0.15382165631248781, 0.07998726128249367, 0.3411422511108063, 0.12032271782665714, 0.05811040349582874, 0.1975753718858177, 0.02666242042749789, 0.021876857786664934, 0.08906576203271674, 0.0314349748350765, 0.020956649890051, 0.03667413730758925, 0.7649177209868614, 0.0314349748350765, 0.01571748741753825, 0.0104783249450255, 0.3721790990059516, 0.05169154152860439, 0.08787562059862745, 0.15765920166224337, 0.14215173920366206, 0.08529104352219724, 0.07753731229290658, 0.025845770764302195, 0.1030026049689309, 0.8240208397514472, 0.9513887547232672, 0.24832854432478116, 0.6829034968931482, 0.7835735222363075, 0.751835525207745, 0.2603268114154682, 0.1301634057077341, 0.04338780190257803, 0.1301634057077341, 0.39049021712320225, 0.39320295913728276, 0.13106765304576093, 0.20045641054057553, 0.132995118531728, 0.04047677520530852, 0.017347189373703654, 0.06553382652288046, 0.021202120345637798, 0.16716637290525607, 0.08358318645262804, 0.5850823051683962, 0.04179159322631402, 0.04179159322631402, 0.04179159322631402, 0.10872138237422635, 0.7610496766195844, 0.10872138237422635, 0.7879882243320387, 0.8571200555770001, 0.8245234206933408, 0.8334665327746418, 0.17144320597596327, 0.09286506990364678, 0.07143466915665136, 0.15001280522896787, 0.19287360672295867, 0.2785952097109403, 0.02143040074699541, 0.014286933831330272, 0.7819446358798313, 0.19303575503125264, 0.22061229146428873, 0.5515307286607218, 0.027576536433036092, 0.8042605648957908, 0.24120304945731033, 0.13219782518333353, 0.0881318834555557, 0.12292078481959084, 0.06725854263713461, 0.21801044854795357, 0.023192600909356764, 0.10900522427397678, 0.14639860580988318, 0.09149912863117698, 0.09149912863117698, 0.018299825726235397, 0.05489947717870619, 0.4391958174296495, 0.05489947717870619, 0.10979895435741238, 0.27635816882584197, 0.04205450395175856, 0.3244204590564232, 0.15620244324938895, 0.04205450395175856, 0.09612458046116243, 0.04205450395175856, 0.018023358836467954, 0.07545273009803141, 0.05030182006535427, 0.8299800310783455, 0.06381405162492065, 0.07293034471419503, 0.036465172357097515, 0.1732095686962132, 0.1823258617854876, 0.39200060283879834, 0.0455814654463719, 0.036465172357097515, 0.8679675589230228, 0.8100054762104628, 0.035217629400454906, 0.017608814700227453, 0.017608814700227453, 0.017608814700227453, 0.035217629400454906, 0.05282644410068235, 0.1805752616056297, 0.06652772795996884, 0.028511883411415216, 0.1995831838799065, 0.04751980568569203, 0.3231346786627058, 0.06652772795996884, 0.06652772795996884, 0.8718674810407686, 0.89454036679276, 0.11151306522508608, 0.20072351740515496, 0.04460522609003443, 0.06690783913505165, 0.4683548739453615, 0.06690783913505165, 0.022302613045017215, 0.5305694227361567, 0.04656267451264193, 0.15561735955540854, 0.030633338495159163, 0.09435068256509022, 0.08944934840586476, 0.023281337256320964, 0.02818267141554643, 0.9209800555712835, 0.061398670371418905, 0.6128775151913451, 0.0723396411373391, 0.06832077218526471, 0.07836794456545068, 0.03817925504470675, 0.05023586190092993, 0.05023586190092993, 0.02813208266452076, 0.8499703820804515, 0.24065009766540468, 0.6016252441635117, 0.04010834961090078, 0.08021669922180157, 0.9212408977105919, 0.7063929771577563, 0.2354643257192521, 0.7799848769597661, 0.14911163608238834, 0.40073752197141865, 0.018638954510298542, 0.009319477255149271, 0.0652363407860449, 0.2143479768684332, 0.1304726815720898, 0.3144856275624333, 0.1965535172265208, 0.29701420380896476, 0.013103567815101387, 0.08298926282897545, 0.021839279691835644, 0.04367855938367129, 0.026207135630202775, 0.19252837371871018, 0.6257172145858081, 0.09626418685935509, 0.5016014758173682, 0.06424452399631318, 0.06300905238099946, 0.13837282091513609, 0.04200603492066631, 0.060538109150372034, 0.07907018338007776, 0.0494188646125486, 0.8586137482865458, 0.03950452604211784, 0.7110814687581212, 0.23702715625270707, 0.25461538719940985, 0.07274725348554567, 0.6183516546271381, 0.8511715189605918, 0.13316188151858965, 0.6658094075929482, 0.09044544121198296, 0.700952169392868, 0.04522272060599148, 0.02261136030299574, 0.1130568015149787, 0.02261136030299574, 0.8455758503808417, 0.34080980595271776, 0.02866624536050897, 0.03503652210728874, 0.23570023963085154, 0.14651636517593475, 0.1751826105364437, 0.015925691866949428, 0.0222959686137292, 0.8034808347367143, 0.9177069617644632, 0.18948203333368835, 0.051014393589839176, 0.021863311538502503, 0.18219426282085419, 0.32794967307753753, 0.18948203333368835, 0.02915108205133667, 0.014575541025668335, 0.7144997839863833, 0.7912373734259637, 0.9093899067921146, 0.839932488329043, 0.08688832837924902, 0.17377665675849804, 0.6082182986547432, 0.08688832837924902, 0.7878735269606202, 0.7894072205095783, 0.7524934800623041, 0.7358828854021706, 0.265527059951799, 0.0940226966386698, 0.11230488765174448, 0.15409275282448662, 0.13319882023811555, 0.15061043072675812, 0.05484657303922405, 0.03656438202614937, 0.9270184205409989, 0.02971430278948722, 0.05942860557897444, 0.11885721115794888, 0.02971430278948722, 0.11885721115794888, 0.5645717530002572, 0.02971430278948722, 0.31467002488356527, 0.6293400497671305, 0.21230696807379584, 0.1326918550461224, 0.30076820477121075, 0.10615348403689792, 0.08403817486254418, 0.07961511302767343, 0.035384494678965976, 0.044230618348707465, 0.7115150851382864, 0.8918888489960248, 0.8154204793348144, 0.5078255300148475, 0.15285718294761297, 0.08492065719311831, 0.07812700461766885, 0.028873023445660225, 0.042460328596559155, 0.07812700461766885, 0.02717461030179786, 0.8512305614366341, 0.5076006535173027, 0.8501204190620112, 0.862380852030806, 0.8714390087379256, 0.4136708250583337, 0.1504257545666668, 0.0376064386416667, 0.33845794777500027, 0.6846496174528268, 0.17731932538346593, 0.019702147264829547, 0.034478757713451706, 0.014776610448622161, 0.029553220897244322, 0.034478757713451706, 0.004925536816207387, 0.7810692388940285, 0.14645048229263033, 0.012204206857719195, 0.012204206857719195, 0.012204206857719195, 0.02440841371543839, 0.24372030151624524, 0.05269628140891789, 0.09880552764172104, 0.21078512563567156, 0.03952221105668842, 0.0724573869372621, 0.17784994975509788, 0.09880552764172104, 0.6465765307127779, 0.05705087035700981, 0.07818082234108752, 0.05705087035700981, 0.07184183674586421, 0.050711884761786494, 0.02007345438487382, 0.02007345438487382, 0.8433908300622872, 0.9348575929139084, 0.8551691418598226, 0.8785332505793118, 0.8608438124016348, 0.8855598518695056, 0.4229099453496458, 0.14202199657264225, 0.05365275426077596, 0.12624177473123754, 0.12150770817881615, 0.08521319794358535, 0.018936266209685634, 0.02998242149866892, 0.33203393967909045, 0.11972377632659512, 0.16761328685723317, 0.07183426579595707, 0.15484275071572967, 0.11174219123815544, 0.017559487194567285, 0.023944755265319022, 0.8646610868506436, 0.3574148793801591, 0.6173529734748202, 0.9109016817949129, 0.9020819547137245, 0.2660170872457065, 0.05441258602753087, 0.20858157977220168, 0.10277932916311387, 0.17230652242051442, 0.04836674313558299, 0.1299856221768793, 0.018137528675843624, 0.3294469833117282, 0.04561573615085468, 0.21287343537065517, 0.2078050202427824, 0.005068415127872742, 0.010136830255745483, 0.17232611434767323, 0.02534207563936371, 0.20471164028249364, 0.06298819700999804, 0.03149409850499902, 0.11022934476749657, 0.047241147757498526, 0.07873524626249755, 0.06298819700999804, 0.4094232805649873, 0.22708298294508192, 0.7461298011052692, 0.2571105011482436, 0.17530261441925696, 0.37982233124172343, 0.11102498913219608, 0.04674736384513519, 0.023373681922567596, 0.9419080975575455, 0.8226419569162322, 0.9836119796732616, 0.35126885860716267, 0.1299694776846502, 0.14753292061500833, 0.11591872334036368, 0.05971570596321766, 0.05971570596321766, 0.11591872334036368, 0.017563442930358136, 0.44722539681430545, 0.10890981165944226, 0.08110305123575488, 0.09500643144759857, 0.19928178303642627, 0.034758450529609235, 0.02085507031776554, 0.013903380211843694, 0.21328600856855015, 0.7465010299899255, 0.05332150214213754, 0.8725004480690672, 0.9514263614575111, 0.8483595399726874, 0.7389090329954656, 0.010708826565151677, 0.032126479695455026, 0.14992357191212347, 0.05354413282575838, 0.021417653130303353, 0.10425780654718703, 0.15638670982078054, 0.10425780654718703, 0.05212890327359351, 0.5212890327359352, 0.23257607534363084, 0.08306288405129673, 0.14951319129233412, 0.5316024579282991, 0.7693671721282591, 0.0398931126288727, 0.06648852104812115, 0.03672699257896216, 0.009498360149731594, 0.01899672029946319, 0.04242600866880112, 0.016463824259534764, 0.12746645554024993, 0.7647987332414996, 0.9226607956475309, 0.30442483432105943, 0.5898231164970527, 0.019026552145066215, 0.019026552145066215, 0.019026552145066215, 0.03805310429013243, 0.13270992387729252, 0.49292257440137227, 0.037917121107797866, 0.13270992387729252, 0.037917121107797866, 0.15166848443119146, 0.018958560553898933, 0.8309091372241234, 0.7808684664779378, 0.8391441723453631, 0.9364027657428976, 0.10444594260548251, 0.052222971302741256, 0.8355675408438601, 0.8873815766660264, 0.05219891627447214, 0.8533370062748199, 0.8581545907999201, 0.020910826422176478, 0.920076362575765, 0.020910826422176478, 0.020910826422176478, 0.5793566429799625, 0.14624536618911677, 0.1181212573065943, 0.04781098510028817, 0.06468545042980164, 0.030936519770774697, 0.008437232664756735, 0.002812410888252245, 0.3525996793937792, 0.14103987175751168, 0.07051993587875584, 0.07051993587875584, 0.18217650102011923, 0.029383306616148266, 0.011753322646459306, 0.14691653308074132, 0.392289899671712, 0.04986736012776, 0.026595925401472, 0.006648981350368, 0.016622453375920002, 0.31582661414248003, 0.18617147781030402, 0.003324490675184, 0.9364871722204617, 0.4211033772566153, 0.07018389620943588, 0.03509194810471794, 0.03509194810471794, 0.07018389620943588, 0.07018389620943588, 0.31582753294246146, 0.3606858081328546, 0.22757556941715826, 0.1180816633768274, 0.12666942071332393, 0.04508572601660683, 0.05796736202135164, 0.0493796046848551, 0.015028575338868942, 0.8508536682718266, 0.9152061237753173, 0.48144452709448954, 0.10119534645935131, 0.07359661560680095, 0.041398096278825534, 0.03986483345368385, 0.13032734013704336, 0.019932416726841925, 0.11039492341020143, 0.17878478521213864, 0.008126581146006303, 0.024379743438018908, 0.43883538188434035, 0.14627846062811345, 0.17878478521213864, 0.008126581146006303, 0.016253162292012607, 0.13488220610699592, 0.034381738811587195, 0.03173698967223433, 0.27902103420172686, 0.1771981923366417, 0.23009317512369892, 0.08992147073799728, 0.02248036768449932, 0.8953551737985367, 0.021317980328536587, 0.042635960657073174, 0.021317980328536587, 0.021317980328536587, 0.29615984690053926, 0.05384724489100714, 0.02692362244550357, 0.12115630100476606, 0.05384724489100714, 0.020192716834127676, 0.06730905611375892, 0.3500070917915464, 0.9113342517160977, 0.015712659512346513, 0.031425319024693026, 0.015712659512346513, 0.015712659512346513, 0.04928654230150539, 0.09857308460301079, 0.6407250499195701, 0.04928654230150539, 0.04928654230150539, 0.04928654230150539, 0.07705045853144361, 0.07705045853144361, 0.025683486177147875, 0.821871557668732, 0.7898150361319652, 0.8305611209817862, 0.9259711358085655, 0.8960461030559497, 0.22164388201489243, 0.12358944573180639, 0.15116725593642433, 0.12052524459795995, 0.09601163552718843, 0.18998047029847923, 0.054134220031287095, 0.04289881587385015, 0.827793451461645, 0.28592866464326394, 0.6290430622151807, 0.25130901089219065, 0.6282725272304766, 0.7279749343360506, 0.7307089356070485, 0.1031589085562892, 0.0601760299911687, 0.0515794542781446, 0.0171931514260482, 0.0085965757130241, 0.0171931514260482, 0.0171931514260482, 0.8373327023697777, 0.3365184172946403, 0.11985587465288561, 0.3342134966282387, 0.05531809599363951, 0.059927937326442804, 0.029963968663221402, 0.04148857199522963, 0.023049206664016463, 0.20686484000033104, 0.08734293244458421, 0.40453568711175847, 0.14710388622245762, 0.05516395733342161, 0.05976095377787341, 0.027581978666710805, 0.009193992888903602, 0.8267658025408471, 0.11810940036297815, 0.548587466430313, 0.11711417822669602, 0.06376452535028822, 0.08353152820887756, 0.07077862313881991, 0.042297135149024515, 0.059938653829270924, 0.014028195577063408, 0.8673821339778599, 0.7309953880842431, 0.12183256468070718, 0.3526022166407683, 0.2063616659602653, 0.20473677095270415, 0.021123635098294874, 0.07312027534025149, 0.05037174523439547, 0.061746010287323475, 0.030873005143661737, 0.35899085100172246, 0.14625553188959065, 0.16145091182617147, 0.05128440728596035, 0.017094802428653452, 0.22603127655664007, 0.007597689968290422, 0.032290182365234295, 0.14133184769080787, 0.02826636953816157, 0.11306547815264628, 0.25439732584345415, 0.08479910861448471, 0.33919643445793884, 0.5520079911147519, 0.09655306149314508, 0.09051094250108344, 0.11020825041520439, 0.0370986106112585, 0.05135801143252398, 0.04604094671950973, 0.016192878898725206, 0.8726844247107194, 0.9231772565167436, 0.20389056577934928, 0.08155622631173971, 0.6932279236497876, 0.7504735680534455, 0.8944470824828403, 0.30517710519054264, 0.06781713448678725, 0.4408113741641172, 0.016954283621696813, 0.08477141810848407, 0.033908567243393625, 0.033908567243393625, 0.016954283621696813, 0.15750940753394932, 0.10500627168929953, 0.682540765980447, 0.8846422142024577, 0.03159436479294492, 0.03159436479294492, 0.3188215494960344, 0.20664359689557787, 0.13284231229001434, 0.09151359291089878, 0.04723282214756066, 0.0501848735317832, 0.061993079068673365, 0.09151359291089878, 0.9844105970838715, 0.832732174938712, 0.7500400897593174], \"Term\": [\"\", \"\", \"\", \"\", \"\", \"\", \"\", \"\", \"----\", \"/%\", \"/%\", \"//\", \"//\", \"//\", \"//\", \"//\", \"//\", \"//\", \"//\", \"///\", \"7-Eleven\", \"7-Eleven\", \"7-Eleven\", \"7-Eleven\", \"7-Eleven\", \"7-Eleven\", \"7-Eleven\", \"7-Eleven\", \"ad\", \"ad\", \"ad\", \"butterfly\", \"cooking\", \"copy\", \"dha\", \"dha\", \"forms\", \"googl\", \"hiq\", \"in\", \"in\", \"in\", \"in\", \"in\", \"in\", \"in\", \"in\", \"lot\", \"lot\", \"on\", \"on\", \"on\", \"on\", \"on\", \"on\", \"on\", \"pantipcom\", \"pantipcom\", \"pantipcom\", \"pantipcom\", \"pantipcom\", \"pantipcom\", \"pantipcom\", \"pantipcom\", \"paragon\", \"pasteurized\", \"pic\", \"pic\", \"pic\", \"pic\", \"pic\", \"pic\", \"pic\", \"pubmed\", \"pubmed\", \"pubmed\", \"qc\", \"qc\", \"spec\", \"spoil\", \"spoil\", \"spoil\", \"spoil\", \"spoil\", \"spoil\", \"spoil\", \"spoil\", \"sterilized\", \"supply\", \"tipco\", \"ts\", \"ts\", \"ts\", \"ts\", \"ts\", \"ts\", \"ts\", \"uht\", \"uht\", \"uht\", \"uht\", \"uht\", \"uht\", \"uht\", \"uht\", \"umm\", \"umm\", \"umm\", \"vegan\", \"what\", \"yoghurt\", \"yoghurt\", \"\\u0e01\\u0e15\\u0e34\\u0e01\\u0e32\", \"\\u0e01\\u0e19\", \"\\u0e01\\u0e23\\u0e30\\u0e15\\u0e48\\u0e32\\u0e22\", \"\\u0e01\\u0e23\\u0e30\\u0e17\\u0e34\\u0e07\", \"\\u0e01\\u0e23\\u0e30\\u0e17\\u0e39\\u0e49\", \"\\u0e01\\u0e23\\u0e30\\u0e17\\u0e39\\u0e49\", \"\\u0e01\\u0e23\\u0e30\\u0e17\\u0e39\\u0e49\", \"\\u0e01\\u0e23\\u0e30\\u0e17\\u0e39\\u0e49\", \"\\u0e01\\u0e23\\u0e30\\u0e17\\u0e39\\u0e49\", \"\\u0e01\\u0e23\\u0e30\\u0e17\\u0e39\\u0e49\", \"\\u0e01\\u0e23\\u0e30\\u0e17\\u0e39\\u0e49\", \"\\u0e01\\u0e23\\u0e30\\u0e17\\u0e39\\u0e49\", \"\\u0e01\\u0e23\\u0e30\\u0e1b\\u0e4b\\u0e2d\\u0e07\", \"\\u0e01\\u0e23\\u0e30\\u0e1b\\u0e4b\\u0e2d\\u0e07\", \"\\u0e01\\u0e23\\u0e30\\u0e1b\\u0e4b\\u0e2d\\u0e07\", \"\\u0e01\\u0e23\\u0e30\\u0e1b\\u0e4b\\u0e2d\\u0e07\", \"\\u0e01\\u0e23\\u0e30\\u0e1b\\u0e4b\\u0e2d\\u0e07\", \"\\u0e01\\u0e23\\u0e30\\u0e1b\\u0e4b\\u0e2d\\u0e07\", \"\\u0e01\\u0e23\\u0e30\\u0e1b\\u0e4b\\u0e2d\\u0e07\", \"\\u0e01\\u0e23\\u0e30\\u0e1b\\u0e4b\\u0e2d\\u0e07\", \"\\u0e01\\u0e23\\u0e30\\u0e40\\u0e0a\\u0e49\\u0e32\", \"\\u0e01\\u0e23\\u0e31\\u0e21\", \"\\u0e01\\u0e23\\u0e31\\u0e21\", \"\\u0e01\\u0e23\\u0e31\\u0e21\", \"\\u0e01\\u0e23\\u0e31\\u0e21\", \"\\u0e01\\u0e23\\u0e31\\u0e21\", \"\\u0e01\\u0e23\\u0e31\\u0e21\", \"\\u0e01\\u0e23\\u0e31\\u0e21\", \"\\u0e01\\u0e23\\u0e31\\u0e21\", \"\\u0e01\\u0e23\\u0e35\\u0e01\", \"\\u0e01\\u0e23\\u0e35\\u0e01\", \"\\u0e01\\u0e23\\u0e35\\u0e01\", \"\\u0e01\\u0e23\\u0e35\\u0e01\", \"\\u0e01\\u0e23\\u0e38\\u0e13\\u0e32\", \"\\u0e01\\u0e23\\u0e38\\u0e13\\u0e32\", \"\\u0e01\\u0e25\\u0e31\\u0e1a\\u0e01\\u0e31\\u0e19\", \"\\u0e01\\u0e25\\u0e31\\u0e1a\\u0e21\\u0e32\", \"\\u0e01\\u0e25\\u0e31\\u0e1a\\u0e21\\u0e32\", \"\\u0e01\\u0e25\\u0e31\\u0e1a\\u0e21\\u0e32\", \"\\u0e01\\u0e25\\u0e31\\u0e1a\\u0e21\\u0e32\", \"\\u0e01\\u0e25\\u0e31\\u0e1a\\u0e21\\u0e32\", \"\\u0e01\\u0e25\\u0e31\\u0e1a\\u0e21\\u0e32\", \"\\u0e01\\u0e25\\u0e31\\u0e1a\\u0e21\\u0e32\", \"\\u0e01\\u0e25\\u0e31\\u0e1a\\u0e21\\u0e32\", \"\\u0e01\\u0e25\\u0e34\\u0e48\\u0e19\", \"\\u0e01\\u0e25\\u0e34\\u0e48\\u0e19\", \"\\u0e01\\u0e25\\u0e34\\u0e48\\u0e19\", \"\\u0e01\\u0e25\\u0e34\\u0e48\\u0e19\", \"\\u0e01\\u0e25\\u0e34\\u0e48\\u0e19\", \"\\u0e01\\u0e25\\u0e34\\u0e48\\u0e19\", \"\\u0e01\\u0e25\\u0e34\\u0e48\\u0e19\", \"\\u0e01\\u0e25\\u0e34\\u0e48\\u0e19\", \"\\u0e01\\u0e25\\u0e39\\u0e42\\u0e04\\u0e2a\", \"\\u0e01\\u0e25\\u0e39\\u0e42\\u0e04\\u0e2a\", \"\\u0e01\\u0e25\\u0e48\\u0e2d\\u0e07\", \"\\u0e01\\u0e25\\u0e48\\u0e2d\\u0e07\", \"\\u0e01\\u0e25\\u0e48\\u0e2d\\u0e07\", \"\\u0e01\\u0e25\\u0e48\\u0e2d\\u0e07\", \"\\u0e01\\u0e25\\u0e48\\u0e2d\\u0e07\", \"\\u0e01\\u0e25\\u0e48\\u0e2d\\u0e07\", \"\\u0e01\\u0e25\\u0e48\\u0e2d\\u0e07\", \"\\u0e01\\u0e25\\u0e48\\u0e2d\\u0e07\", \"\\u0e01\\u0e25\\u0e48\\u0e32\\u0e27\\u0e27\\u0e48\\u0e32\", \"\\u0e01\\u0e25\\u0e49\\u0e27\\u0e22\\u0e19\\u0e49\\u0e33\\u0e27\\u0e49\\u0e32\", \"\\u0e01\\u0e32\\u0e27\", \"\\u0e01\\u0e32\\u0e41\\u0e1f\", \"\\u0e01\\u0e32\\u0e41\\u0e1f\", \"\\u0e01\\u0e32\\u0e41\\u0e1f\", \"\\u0e01\\u0e32\\u0e41\\u0e1f\", \"\\u0e01\\u0e32\\u0e41\\u0e1f\", \"\\u0e01\\u0e32\\u0e41\\u0e1f\", \"\\u0e01\\u0e32\\u0e41\\u0e1f\", \"\\u0e01\\u0e32\\u0e41\\u0e1f\", \"\\u0e01\\u0e34\\u0e19\", \"\\u0e01\\u0e34\\u0e19\", \"\\u0e01\\u0e34\\u0e19\", \"\\u0e01\\u0e34\\u0e19\", \"\\u0e01\\u0e34\\u0e19\", \"\\u0e01\\u0e34\\u0e19\", \"\\u0e01\\u0e34\\u0e19\", \"\\u0e01\\u0e34\\u0e19\", \"\\u0e01\\u0e34\\u0e19\\u0e19\\u0e21\", \"\\u0e01\\u0e34\\u0e19\\u0e19\\u0e21\", \"\\u0e01\\u0e34\\u0e19\\u0e19\\u0e21\", \"\\u0e01\\u0e34\\u0e19\\u0e19\\u0e21\", \"\\u0e01\\u0e34\\u0e19\\u0e19\\u0e21\", \"\\u0e01\\u0e34\\u0e19\\u0e19\\u0e21\", \"\\u0e01\\u0e34\\u0e19\\u0e19\\u0e21\", \"\\u0e01\\u0e34\\u0e19\\u0e19\\u0e21\", \"\\u0e01\\u0e34\\u0e19\\u0e40\\u0e27\\u0e25\\u0e32\", \"\\u0e01\\u0e34\\u0e19\\u0e40\\u0e27\\u0e25\\u0e32\", \"\\u0e01\\u0e35\\u0e49\", \"\\u0e01\\u0e35\\u0e49\", \"\\u0e01\\u0e47\\u0e41\\u0e25\\u0e49\\u0e27\\u0e01\\u0e31\\u0e19\", \"\\u0e01\\u0e4a\\u0e32\\u0e0b\", \"\\u0e01\\u0e4a\\u0e32\\u0e0b\", \"\\u0e02\\u0e27\\u0e14\", \"\\u0e02\\u0e27\\u0e14\", \"\\u0e02\\u0e27\\u0e14\", \"\\u0e02\\u0e27\\u0e14\", \"\\u0e02\\u0e27\\u0e14\", \"\\u0e02\\u0e27\\u0e14\", \"\\u0e02\\u0e27\\u0e14\", \"\\u0e02\\u0e27\\u0e14\", \"\\u0e02\\u0e2d\\u0e04\\u0e27\\u0e32\\u0e21\\u0e01\\u0e23\\u0e38\\u0e13\\u0e32\", \"\\u0e02\\u0e2d\\u0e1a\\u0e04\\u0e38\\u0e13\", \"\\u0e02\\u0e2d\\u0e1a\\u0e04\\u0e38\\u0e13\", \"\\u0e02\\u0e2d\\u0e1a\\u0e04\\u0e38\\u0e13\", \"\\u0e02\\u0e2d\\u0e1a\\u0e04\\u0e38\\u0e13\", \"\\u0e02\\u0e2d\\u0e1a\\u0e04\\u0e38\\u0e13\", \"\\u0e02\\u0e2d\\u0e1a\\u0e04\\u0e38\\u0e13\", \"\\u0e02\\u0e2d\\u0e1a\\u0e04\\u0e38\\u0e13\", \"\\u0e02\\u0e2d\\u0e1a\\u0e04\\u0e38\\u0e13\", \"\\u0e02\\u0e31\\u0e49\\u0e19\\u0e15\\u0e48\\u0e33\", \"\\u0e02\\u0e32\\u0e22\", \"\\u0e02\\u0e32\\u0e22\", \"\\u0e02\\u0e32\\u0e22\", \"\\u0e02\\u0e32\\u0e22\", \"\\u0e02\\u0e32\\u0e22\", \"\\u0e02\\u0e32\\u0e22\", \"\\u0e02\\u0e32\\u0e22\", \"\\u0e02\\u0e32\\u0e22\", \"\\u0e02\\u0e34\\u0e07\", \"\\u0e02\\u0e34\\u0e07\", \"\\u0e02\\u0e35\\u0e14\", \"\\u0e02\\u0e35\\u0e49\", \"\\u0e02\\u0e35\\u0e49\", \"\\u0e02\\u0e35\\u0e49\", \"\\u0e02\\u0e35\\u0e49\", \"\\u0e02\\u0e35\\u0e49\", \"\\u0e02\\u0e35\\u0e49\", \"\\u0e02\\u0e35\\u0e49\", \"\\u0e02\\u0e35\\u0e49\", \"\\u0e02\\u0e48\\u0e21\\u0e02\\u0e37\\u0e19\", \"\\u0e02\\u0e49\\u0e2d\\u0e01\\u0e33\\u0e2b\\u0e19\\u0e14\", \"\\u0e02\\u0e49\\u0e2d\\u0e04\\u0e27\\u0e32\\u0e21\", \"\\u0e02\\u0e49\\u0e2d\\u0e04\\u0e27\\u0e32\\u0e21\", \"\\u0e02\\u0e49\\u0e2d\\u0e04\\u0e27\\u0e32\\u0e21\", \"\\u0e02\\u0e49\\u0e2d\\u0e04\\u0e27\\u0e32\\u0e21\", \"\\u0e02\\u0e49\\u0e2d\\u0e04\\u0e27\\u0e32\\u0e21\", \"\\u0e02\\u0e49\\u0e2d\\u0e04\\u0e27\\u0e32\\u0e21\", \"\\u0e02\\u0e49\\u0e2d\\u0e04\\u0e27\\u0e32\\u0e21\", \"\\u0e02\\u0e49\\u0e2d\\u0e04\\u0e27\\u0e32\\u0e21\", \"\\u0e02\\u0e49\\u0e32\\u0e27\\u0e01\\u0e25\\u0e49\\u0e2d\\u0e07\", \"\\u0e02\\u0e49\\u0e32\\u0e27\\u0e01\\u0e25\\u0e49\\u0e2d\\u0e07\", \"\\u0e02\\u0e49\\u0e32\\u0e27\\u0e2a\\u0e27\\u0e22\", \"\\u0e02\\u0e49\\u0e32\\u0e27\\u0e42\\u0e2d\\u0e4a\\u0e15\", \"\\u0e02\\u0e49\\u0e32\\u0e27\\u0e42\\u0e2d\\u0e4a\\u0e15\", \"\\u0e04\\u0e19\", \"\\u0e04\\u0e19\", \"\\u0e04\\u0e19\", \"\\u0e04\\u0e19\", \"\\u0e04\\u0e19\", \"\\u0e04\\u0e19\", \"\\u0e04\\u0e19\", \"\\u0e04\\u0e19\", \"\\u0e04\\u0e23\\u0e2d\\u0e07\", \"\\u0e04\\u0e23\\u0e35\\u0e21\", \"\\u0e04\\u0e23\\u0e35\\u0e21\", \"\\u0e04\\u0e23\\u0e35\\u0e21\", \"\\u0e04\\u0e23\\u0e35\\u0e21\", \"\\u0e04\\u0e23\\u0e35\\u0e21\", \"\\u0e04\\u0e23\\u0e35\\u0e21\", \"\\u0e04\\u0e23\\u0e35\\u0e21\", \"\\u0e04\\u0e23\\u0e35\\u0e21\", \"\\u0e04\\u0e23\\u0e48\\u0e32\", \"\\u0e04\\u0e23\\u0e48\\u0e32\", \"\\u0e04\\u0e23\\u0e49\\u0e32\\u0e1a\\u0e1a\\u0e1a\\u0e1a\", \"\\u0e04\\u0e25\\u0e2d\\u0e14\", \"\\u0e04\\u0e25\\u0e2d\\u0e14\", \"\\u0e04\\u0e25\\u0e2d\\u0e14\", \"\\u0e04\\u0e25\\u0e2d\\u0e14\", \"\\u0e04\\u0e25\\u0e2d\\u0e14\", \"\\u0e04\\u0e25\\u0e2d\\u0e14\", \"\\u0e04\\u0e25\\u0e2d\\u0e14\", \"\\u0e04\\u0e25\\u0e32\\u0e2a\\u0e2a\\u0e34\\u0e01\", \"\\u0e04\\u0e25\\u0e34\\u0e01\", \"\\u0e04\\u0e25\\u0e34\\u0e01\", \"\\u0e04\\u0e25\\u0e34\\u0e01\", \"\\u0e04\\u0e25\\u0e34\\u0e01\", \"\\u0e04\\u0e25\\u0e34\\u0e01\", \"\\u0e04\\u0e25\\u0e34\\u0e01\", \"\\u0e04\\u0e25\\u0e34\\u0e01\", \"\\u0e04\\u0e25\\u0e34\\u0e01\", \"\\u0e04\\u0e25\\u0e37\\u0e48\\u0e19\\u0e44\\u0e2a\\u0e49\", \"\\u0e04\\u0e27\\u0e32\\u0e21\\u0e04\\u0e34\\u0e14\\u0e40\\u0e2b\\u0e47\\u0e19\", \"\\u0e04\\u0e27\\u0e32\\u0e21\\u0e04\\u0e34\\u0e14\\u0e40\\u0e2b\\u0e47\\u0e19\", \"\\u0e04\\u0e27\\u0e32\\u0e21\\u0e04\\u0e34\\u0e14\\u0e40\\u0e2b\\u0e47\\u0e19\", \"\\u0e04\\u0e27\\u0e32\\u0e21\\u0e04\\u0e34\\u0e14\\u0e40\\u0e2b\\u0e47\\u0e19\", \"\\u0e04\\u0e27\\u0e32\\u0e21\\u0e04\\u0e34\\u0e14\\u0e40\\u0e2b\\u0e47\\u0e19\", \"\\u0e04\\u0e27\\u0e32\\u0e21\\u0e04\\u0e34\\u0e14\\u0e40\\u0e2b\\u0e47\\u0e19\", \"\\u0e04\\u0e27\\u0e32\\u0e21\\u0e04\\u0e34\\u0e14\\u0e40\\u0e2b\\u0e47\\u0e19\", \"\\u0e04\\u0e27\\u0e32\\u0e21\\u0e04\\u0e37\\u0e1a\\u0e2b\\u0e19\\u0e49\\u0e32\", \"\\u0e04\\u0e27\\u0e32\\u0e21\\u0e15\\u0e31\\u0e49\\u0e07\\u0e43\\u0e08\", \"\\u0e04\\u0e27\\u0e32\\u0e21\\u0e15\\u0e31\\u0e49\\u0e07\\u0e43\\u0e08\", \"\\u0e04\\u0e27\\u0e32\\u0e21\\u0e15\\u0e31\\u0e49\\u0e07\\u0e43\\u0e08\", \"\\u0e04\\u0e27\\u0e32\\u0e21\\u0e1d\\u0e31\\u0e19\", \"\\u0e04\\u0e27\\u0e32\\u0e21\\u0e20\\u0e39\\u0e21\\u0e34\\u0e43\\u0e08\", \"\\u0e04\\u0e27\\u0e32\\u0e21\\u0e23\\u0e31\\u0e01\", \"\\u0e04\\u0e27\\u0e32\\u0e21\\u0e23\\u0e31\\u0e01\", \"\\u0e04\\u0e27\\u0e32\\u0e21\\u0e23\\u0e31\\u0e01\", \"\\u0e04\\u0e27\\u0e32\\u0e21\\u0e2a\\u0e19\\u0e43\\u0e08\", \"\\u0e04\\u0e27\\u0e32\\u0e21\\u0e2a\\u0e38\\u0e02\", \"\\u0e04\\u0e27\\u0e32\\u0e21\\u0e2a\\u0e38\\u0e02\", \"\\u0e04\\u0e27\\u0e32\\u0e21\\u0e2a\\u0e38\\u0e02\", \"\\u0e04\\u0e27\\u0e32\\u0e21\\u0e2a\\u0e38\\u0e02\", \"\\u0e04\\u0e27\\u0e32\\u0e21\\u0e2a\\u0e38\\u0e02\", \"\\u0e04\\u0e31\\u0e19\\u0e17\\u0e23\\u0e35\\u0e48\", \"\\u0e04\\u0e32\\u0e23\\u0e4c\", \"\\u0e04\\u0e32\\u0e23\\u0e4c\", \"\\u0e04\\u0e32\\u0e23\\u0e4c\", \"\\u0e04\\u0e32\\u0e23\\u0e4c\", \"\\u0e04\\u0e32\\u0e23\\u0e4c\", \"\\u0e04\\u0e32\\u0e23\\u0e4c\", \"\\u0e04\\u0e32\\u0e23\\u0e4c\", \"\\u0e04\\u0e32\\u0e23\\u0e4c\", \"\\u0e04\\u0e33\\u0e19\\u0e36\\u0e07\", \"\\u0e04\\u0e34\\u0e14\\u0e40\\u0e07\\u0e34\\u0e19\", \"\\u0e04\\u0e38\\u0e49\\u0e19\\u0e15\\u0e32\", \"\\u0e04\\u0e48\\u0e32\\u0e15\\u0e31\\u0e27\", \"\\u0e04\\u0e48\\u0e32\\u0e42\\u0e06\\u0e29\\u0e13\\u0e32\", \"\\u0e04\\u0e4c\", \"\\u0e04\\u0e4c\", \"\\u0e04\\u0e4c\", \"\\u0e04\\u0e4c\", \"\\u0e04\\u0e4c\", \"\\u0e04\\u0e4c\", \"\\u0e04\\u0e4c\", \"\\u0e04\\u0e4c\", \"\\u0e07\\u0e07\", \"\\u0e07\\u0e07\", \"\\u0e07\\u0e07\", \"\\u0e07\\u0e07\", \"\\u0e07\\u0e07\", \"\\u0e07\\u0e07\", \"\\u0e07\\u0e07\", \"\\u0e07\\u0e07\", \"\\u0e07\\u0e2d\\u0e41\\u0e07\", \"\\u0e07\\u0e32\\u0e19\", \"\\u0e07\\u0e32\\u0e19\", \"\\u0e07\\u0e32\\u0e19\", \"\\u0e07\\u0e32\\u0e19\", \"\\u0e07\\u0e32\\u0e19\", \"\\u0e07\\u0e32\\u0e19\", \"\\u0e07\\u0e32\\u0e19\", \"\\u0e07\\u0e32\\u0e19\", \"\\u0e07\\u0e39\", \"\\u0e07\\u0e48\\u0e27\\u0e07\", \"\\u0e07\\u0e48\\u0e27\\u0e07\\u0e19\\u0e2d\\u0e19\", \"\\u0e07\\u0e48\\u0e32\", \"\\u0e07\\u0e48\\u0e32\", \"\\u0e07\\u0e48\\u0e32\", \"\\u0e08\\u0e01\", \"\\u0e08\\u0e02\\u0e17\\u0e01\", \"\\u0e08\\u0e19\\u0e15\\u0e32\\u0e22\", \"\\u0e08\\u0e30\\u0e41\\u0e08\\u0e49\\u0e07\", \"\\u0e08\\u0e31\\u0e1a\\u0e1c\\u0e34\\u0e14\", \"\\u0e08\\u0e33\\u0e04\\u0e27\\u0e32\\u0e21\\u0e44\\u0e14\\u0e49\", \"\\u0e08\\u0e33\\u0e40\\u0e25\\u0e22\", \"\\u0e08\\u0e33\\u0e43\\u0e08\", \"\\u0e08\\u0e33\\u0e44\\u0e27\\u0e49\", \"\\u0e08\\u0e34\\u0e15\\u0e23\\u0e25\\u0e14\\u0e32\", \"\\u0e08\\u0e34\\u0e15\\u0e23\\u0e25\\u0e14\\u0e32\", \"\\u0e08\\u0e34\\u0e15\\u0e23\\u0e25\\u0e14\\u0e32\", \"\\u0e08\\u0e34\\u0e15\\u0e23\\u0e25\\u0e14\\u0e32\", \"\\u0e08\\u0e34\\u0e15\\u0e23\\u0e25\\u0e14\\u0e32\", \"\\u0e08\\u0e34\\u0e15\\u0e23\\u0e25\\u0e14\\u0e32\", \"\\u0e08\\u0e34\\u0e15\\u0e23\\u0e25\\u0e14\\u0e32\", \"\\u0e08\\u0e34\\u0e15\\u0e23\\u0e25\\u0e14\\u0e32\", \"\\u0e08\\u0e34\\u0e49\\u0e07\", \"\\u0e08\\u0e34\\u0e49\\u0e07\", \"\\u0e08\\u0e35\\u0e4a\\u0e14\", \"\\u0e08\\u0e37\\u0e14\", \"\\u0e08\\u0e37\\u0e14\", \"\\u0e08\\u0e37\\u0e14\", \"\\u0e08\\u0e37\\u0e14\", \"\\u0e08\\u0e37\\u0e14\", \"\\u0e08\\u0e37\\u0e14\", \"\\u0e08\\u0e37\\u0e14\", \"\\u0e08\\u0e37\\u0e14\", \"\\u0e08\\u0e38\\u0e01\\u0e08\\u0e34\\u0e01\", \"\\u0e08\\u0e38\\u0e4a\\u0e1a\", \"\\u0e08\\u0e39\\u0e49\", \"\\u0e08\\u0e4a\\u0e27\\u0e1a\", \"\\u0e09\\u0e25\\u0e32\\u0e01\", \"\\u0e09\\u0e25\\u0e32\\u0e01\", \"\\u0e09\\u0e25\\u0e32\\u0e01\", \"\\u0e09\\u0e25\\u0e32\\u0e01\", \"\\u0e09\\u0e25\\u0e32\\u0e01\", \"\\u0e09\\u0e25\\u0e32\\u0e01\", \"\\u0e09\\u0e25\\u0e32\\u0e01\", \"\\u0e09\\u0e25\\u0e32\\u0e01\", \"\\u0e0a\\u0e07\", \"\\u0e0a\\u0e07\", \"\\u0e0a\\u0e07\", \"\\u0e0a\\u0e07\", \"\\u0e0a\\u0e07\", \"\\u0e0a\\u0e07\", \"\\u0e0a\\u0e07\", \"\\u0e0a\\u0e07\", \"\\u0e0a\\u0e27\\u0e19\\u0e40\\u0e0a\\u0e37\\u0e48\\u0e2d\", \"\\u0e0a\\u0e2d\\u0e07\", \"\\u0e0a\\u0e2d\\u0e1a\", \"\\u0e0a\\u0e2d\\u0e1a\", \"\\u0e0a\\u0e2d\\u0e1a\", \"\\u0e0a\\u0e2d\\u0e1a\", \"\\u0e0a\\u0e2d\\u0e1a\", \"\\u0e0a\\u0e2d\\u0e1a\", \"\\u0e0a\\u0e2d\\u0e1a\", \"\\u0e0a\\u0e2d\\u0e1a\", \"\\u0e0a\\u0e30\\u0e21\\u0e31\\u0e14\", \"\\u0e0a\\u0e31\\u0e48\\u0e27\\u0e42\\u0e21\\u0e07\", \"\\u0e0a\\u0e31\\u0e48\\u0e27\\u0e42\\u0e21\\u0e07\", \"\\u0e0a\\u0e31\\u0e48\\u0e27\\u0e42\\u0e21\\u0e07\", \"\\u0e0a\\u0e31\\u0e48\\u0e27\\u0e42\\u0e21\\u0e07\", \"\\u0e0a\\u0e31\\u0e48\\u0e27\\u0e42\\u0e21\\u0e07\", \"\\u0e0a\\u0e31\\u0e48\\u0e27\\u0e42\\u0e21\\u0e07\", \"\\u0e0a\\u0e31\\u0e48\\u0e27\\u0e42\\u0e21\\u0e07\", \"\\u0e0a\\u0e31\\u0e48\\u0e27\\u0e42\\u0e21\\u0e07\", \"\\u0e0a\\u0e34\\u0e07\", \"\\u0e0a\\u0e35\\u0e27\\u0e34\\u0e15\", \"\\u0e0a\\u0e35\\u0e27\\u0e34\\u0e15\", \"\\u0e0a\\u0e35\\u0e27\\u0e34\\u0e15\", \"\\u0e0a\\u0e35\\u0e27\\u0e34\\u0e15\", \"\\u0e0a\\u0e35\\u0e27\\u0e34\\u0e15\", \"\\u0e0a\\u0e35\\u0e27\\u0e34\\u0e15\", \"\\u0e0a\\u0e35\\u0e27\\u0e34\\u0e15\", \"\\u0e0a\\u0e35\\u0e27\\u0e34\\u0e15\", \"\\u0e0a\\u0e35\\u0e27\\u0e34\\u0e15\\u0e04\\u0e23\\u0e2d\\u0e1a\\u0e04\\u0e23\\u0e31\\u0e27\", \"\\u0e0a\\u0e37\\u0e48\\u0e19\", \"\\u0e0a\\u0e37\\u0e48\\u0e2d\\u0e40\\u0e25\\u0e48\\u0e19\", \"\\u0e0a\\u0e47\\u0e2d\\u0e01\\u0e42\\u0e01\\u0e41\\u0e25\\u0e15\", \"\\u0e0a\\u0e47\\u0e2d\\u0e01\\u0e42\\u0e01\\u0e41\\u0e25\\u0e15\", \"\\u0e0a\\u0e47\\u0e2d\\u0e01\\u0e42\\u0e01\\u0e41\\u0e25\\u0e15\", \"\\u0e0a\\u0e47\\u0e2d\\u0e01\\u0e42\\u0e01\\u0e41\\u0e25\\u0e15\", \"\\u0e0a\\u0e47\\u0e2d\\u0e01\\u0e42\\u0e01\\u0e41\\u0e25\\u0e15\", \"\\u0e0a\\u0e47\\u0e2d\\u0e01\\u0e42\\u0e01\\u0e41\\u0e25\\u0e15\", \"\\u0e0a\\u0e47\\u0e2d\\u0e01\\u0e42\\u0e01\\u0e41\\u0e25\\u0e15\", \"\\u0e0a\\u0e47\\u0e2d\\u0e01\\u0e42\\u0e01\\u0e41\\u0e25\\u0e15\", \"\\u0e0a\\u0e49\\u0e2d\\u0e04\", \"\\u0e0a\\u0e4a\\u0e2d\\u0e15\", \"\\u0e0b\\u0e31\\u0e1a\\u0e0b\\u0e49\\u0e2d\\u0e19\", \"\\u0e0b\\u0e35\\u0e40\\u0e25\\u0e47\\u0e04\", \"\\u0e0b\\u0e35\\u0e40\\u0e25\\u0e47\\u0e04\", \"\\u0e0b\\u0e35\\u0e40\\u0e25\\u0e47\\u0e04\", \"\\u0e0b\\u0e36\\u0e21\", \"\\u0e0b\\u0e36\\u0e21\", \"\\u0e0b\\u0e36\\u0e21\", \"\\u0e0b\\u0e36\\u0e21\", \"\\u0e0b\\u0e37\\u0e49\\u0e2d\", \"\\u0e0b\\u0e37\\u0e49\\u0e2d\", \"\\u0e0b\\u0e37\\u0e49\\u0e2d\", \"\\u0e0b\\u0e37\\u0e49\\u0e2d\", \"\\u0e0b\\u0e37\\u0e49\\u0e2d\", \"\\u0e0b\\u0e37\\u0e49\\u0e2d\", \"\\u0e0b\\u0e37\\u0e49\\u0e2d\", \"\\u0e0b\\u0e37\\u0e49\\u0e2d\", \"\\u0e0b\\u0e48\\u0e32\", \"\\u0e14\\u0e23\\u0e32\\u0e21\\u0e48\\u0e32\", \"\\u0e14\\u0e27\\u0e07\", \"\\u0e14\\u0e27\\u0e07\", \"\\u0e14\\u0e27\\u0e07\", \"\\u0e14\\u0e27\\u0e07\", \"\\u0e14\\u0e27\\u0e07\", \"\\u0e14\\u0e31\\u0e0a\", \"\\u0e14\\u0e31\\u0e0a\", \"\\u0e14\\u0e31\\u0e0a\\u0e21\\u0e34\\u0e25\\u0e25\\u0e4c\", \"\\u0e14\\u0e31\\u0e0a\\u0e21\\u0e34\\u0e25\\u0e25\\u0e4c\", \"\\u0e14\\u0e31\\u0e0a\\u0e21\\u0e34\\u0e25\\u0e25\\u0e4c\", \"\\u0e14\\u0e31\\u0e0a\\u0e21\\u0e34\\u0e25\\u0e25\\u0e4c\", \"\\u0e14\\u0e31\\u0e0a\\u0e21\\u0e34\\u0e25\\u0e25\\u0e4c\", \"\\u0e14\\u0e31\\u0e0a\\u0e21\\u0e34\\u0e25\\u0e25\\u0e4c\", \"\\u0e14\\u0e31\\u0e0a\\u0e21\\u0e34\\u0e25\\u0e25\\u0e4c\", \"\\u0e14\\u0e31\\u0e0a\\u0e21\\u0e34\\u0e25\\u0e25\\u0e4c\", \"\\u0e14\\u0e33\", \"\\u0e14\\u0e33\", \"\\u0e14\\u0e33\", \"\\u0e14\\u0e33\", \"\\u0e14\\u0e33\", \"\\u0e14\\u0e33\", \"\\u0e14\\u0e33\", \"\\u0e14\\u0e33\", \"\\u0e14\\u0e34\\u0e09\\u0e31\\u0e19\", \"\\u0e14\\u0e34\\u0e09\\u0e31\\u0e19\", \"\\u0e14\\u0e34\\u0e09\\u0e31\\u0e19\", \"\\u0e14\\u0e34\\u0e09\\u0e31\\u0e19\", \"\\u0e14\\u0e34\\u0e09\\u0e31\\u0e19\", \"\\u0e14\\u0e34\\u0e19\", \"\\u0e14\\u0e34\\u0e19\", \"\\u0e14\\u0e35\", \"\\u0e14\\u0e35\", \"\\u0e14\\u0e35\", \"\\u0e14\\u0e35\", \"\\u0e14\\u0e35\", \"\\u0e14\\u0e35\", \"\\u0e14\\u0e35\", \"\\u0e14\\u0e35\", \"\\u0e14\\u0e35\\u0e01\\u0e27\\u0e48\\u0e32\", \"\\u0e14\\u0e35\\u0e01\\u0e27\\u0e48\\u0e32\", \"\\u0e14\\u0e35\\u0e01\\u0e27\\u0e48\\u0e32\", \"\\u0e14\\u0e35\\u0e01\\u0e27\\u0e48\\u0e32\", \"\\u0e14\\u0e35\\u0e01\\u0e27\\u0e48\\u0e32\", \"\\u0e14\\u0e35\\u0e01\\u0e27\\u0e48\\u0e32\", \"\\u0e14\\u0e35\\u0e01\\u0e27\\u0e48\\u0e32\", \"\\u0e14\\u0e35\\u0e01\\u0e27\\u0e48\\u0e32\", \"\\u0e14\\u0e35\\u0e17\\u0e47\\u0e2d\\u0e01\\u0e0b\\u0e4c\", \"\\u0e14\\u0e35\\u0e17\\u0e47\\u0e2d\\u0e01\\u0e0b\\u0e4c\", \"\\u0e14\\u0e35\\u0e17\\u0e47\\u0e2d\\u0e01\\u0e0b\\u0e4c\", \"\\u0e14\\u0e35\\u0e17\\u0e47\\u0e2d\\u0e01\\u0e0b\\u0e4c\", \"\\u0e14\\u0e37\\u0e48\\u0e21\", \"\\u0e14\\u0e37\\u0e48\\u0e21\", \"\\u0e14\\u0e37\\u0e48\\u0e21\", \"\\u0e14\\u0e37\\u0e48\\u0e21\", \"\\u0e14\\u0e37\\u0e48\\u0e21\", \"\\u0e14\\u0e37\\u0e48\\u0e21\", \"\\u0e14\\u0e37\\u0e48\\u0e21\", \"\\u0e14\\u0e37\\u0e48\\u0e21\", \"\\u0e14\\u0e37\\u0e48\\u0e21\\u0e19\\u0e21\", \"\\u0e14\\u0e37\\u0e48\\u0e21\\u0e19\\u0e21\", \"\\u0e14\\u0e37\\u0e48\\u0e21\\u0e19\\u0e21\", \"\\u0e14\\u0e37\\u0e48\\u0e21\\u0e19\\u0e21\", \"\\u0e14\\u0e37\\u0e48\\u0e21\\u0e19\\u0e21\", \"\\u0e14\\u0e37\\u0e48\\u0e21\\u0e19\\u0e21\", \"\\u0e14\\u0e37\\u0e48\\u0e21\\u0e19\\u0e21\", \"\\u0e14\\u0e37\\u0e48\\u0e21\\u0e19\\u0e21\", \"\\u0e14\\u0e38\\u0e4a\\u0e01\\u0e14\\u0e34\\u0e4a\\u0e01\", \"\\u0e14\\u0e38\\u0e4a\\u0e01\\u0e14\\u0e34\\u0e4a\\u0e01\", \"\\u0e14\\u0e39\", \"\\u0e14\\u0e39\", \"\\u0e14\\u0e39\", \"\\u0e14\\u0e39\", \"\\u0e14\\u0e39\", \"\\u0e14\\u0e39\", \"\\u0e14\\u0e39\", \"\\u0e14\\u0e39\", \"\\u0e14\\u0e39\\u0e14\\u0e34\", \"\\u0e14\\u0e46\", \"\\u0e15\\u0e01\\u0e2b\\u0e19\\u0e31\\u0e01\", \"\\u0e15\\u0e23\\u0e25\\u0e30\", \"\\u0e15\\u0e23\\u0e32\", \"\\u0e15\\u0e23\\u0e32\", \"\\u0e15\\u0e23\\u0e32\", \"\\u0e15\\u0e23\\u0e32\", \"\\u0e15\\u0e23\\u0e32\", \"\\u0e15\\u0e23\\u0e32\", \"\\u0e15\\u0e23\\u0e32\", \"\\u0e15\\u0e23\\u0e32\", \"\\u0e15\\u0e25\\u0e01\", \"\\u0e15\\u0e25\\u0e01\", \"\\u0e15\\u0e25\\u0e01\", \"\\u0e15\\u0e2d\\u0e19\", \"\\u0e15\\u0e2d\\u0e19\", \"\\u0e15\\u0e2d\\u0e19\", \"\\u0e15\\u0e2d\\u0e19\", \"\\u0e15\\u0e2d\\u0e19\", \"\\u0e15\\u0e2d\\u0e19\", \"\\u0e15\\u0e2d\\u0e19\", \"\\u0e15\\u0e2d\\u0e19\", \"\\u0e15\\u0e2d\\u0e19\\u0e19\\u0e35\\u0e49\", \"\\u0e15\\u0e2d\\u0e19\\u0e19\\u0e35\\u0e49\", \"\\u0e15\\u0e2d\\u0e19\\u0e19\\u0e35\\u0e49\", \"\\u0e15\\u0e2d\\u0e19\\u0e19\\u0e35\\u0e49\", \"\\u0e15\\u0e2d\\u0e19\\u0e19\\u0e35\\u0e49\", \"\\u0e15\\u0e2d\\u0e19\\u0e19\\u0e35\\u0e49\", \"\\u0e15\\u0e2d\\u0e19\\u0e19\\u0e35\\u0e49\", \"\\u0e15\\u0e2d\\u0e19\\u0e19\\u0e35\\u0e49\", \"\\u0e15\\u0e31\\u0e27\", \"\\u0e15\\u0e31\\u0e27\", \"\\u0e15\\u0e31\\u0e27\", \"\\u0e15\\u0e31\\u0e27\", \"\\u0e15\\u0e31\\u0e27\", \"\\u0e15\\u0e31\\u0e27\", \"\\u0e15\\u0e31\\u0e27\", \"\\u0e15\\u0e31\\u0e27\", \"\\u0e15\\u0e31\\u0e27\\u0e1c\\u0e39\\u0e49\", \"\\u0e15\\u0e31\\u0e27\\u0e40\\u0e2d\\u0e07\", \"\\u0e15\\u0e31\\u0e27\\u0e40\\u0e2d\\u0e07\", \"\\u0e15\\u0e31\\u0e27\\u0e40\\u0e2d\\u0e07\", \"\\u0e15\\u0e31\\u0e27\\u0e40\\u0e2d\\u0e07\", \"\\u0e15\\u0e31\\u0e27\\u0e40\\u0e2d\\u0e07\", \"\\u0e15\\u0e31\\u0e27\\u0e40\\u0e2d\\u0e07\", \"\\u0e15\\u0e31\\u0e27\\u0e40\\u0e2d\\u0e07\", \"\\u0e15\\u0e31\\u0e27\\u0e40\\u0e2d\\u0e07\", \"\\u0e15\\u0e31\\u0e49\\u0e07\\u0e01\\u0e23\\u0e30\\u0e17\\u0e39\\u0e49\", \"\\u0e15\\u0e31\\u0e49\\u0e07\\u0e01\\u0e23\\u0e30\\u0e17\\u0e39\\u0e49\", \"\\u0e15\\u0e31\\u0e49\\u0e07\\u0e01\\u0e23\\u0e30\\u0e17\\u0e39\\u0e49\", \"\\u0e15\\u0e31\\u0e49\\u0e07\\u0e01\\u0e23\\u0e30\\u0e17\\u0e39\\u0e49\", \"\\u0e15\\u0e31\\u0e49\\u0e07\\u0e01\\u0e23\\u0e30\\u0e17\\u0e39\\u0e49\", \"\\u0e15\\u0e31\\u0e49\\u0e07\\u0e01\\u0e23\\u0e30\\u0e17\\u0e39\\u0e49\", \"\\u0e15\\u0e31\\u0e49\\u0e07\\u0e17\\u0e49\\u0e2d\\u0e07\", \"\\u0e15\\u0e32\\u0e23\\u0e32\\u0e07\", \"\\u0e15\\u0e32\\u0e23\\u0e32\\u0e07\", \"\\u0e15\\u0e32\\u0e23\\u0e32\\u0e07\", \"\\u0e15\\u0e32\\u0e23\\u0e32\\u0e07\", \"\\u0e15\\u0e32\\u0e23\\u0e32\\u0e07\", \"\\u0e15\\u0e32\\u0e23\\u0e32\\u0e07\", \"\\u0e15\\u0e32\\u0e23\\u0e32\\u0e07\", \"\\u0e15\\u0e33\\u0e41\\u0e2b\\u0e19\\u0e48\\u0e07\", \"\\u0e15\\u0e34\\u0e14\", \"\\u0e15\\u0e34\\u0e14\", \"\\u0e15\\u0e34\\u0e14\", \"\\u0e15\\u0e34\\u0e14\", \"\\u0e15\\u0e34\\u0e14\", \"\\u0e15\\u0e34\\u0e14\", \"\\u0e15\\u0e34\\u0e14\", \"\\u0e15\\u0e34\\u0e14\", \"\\u0e15\\u0e35\", \"\\u0e15\\u0e35\", \"\\u0e15\\u0e35\", \"\\u0e15\\u0e35\", \"\\u0e15\\u0e35\", \"\\u0e15\\u0e35\", \"\\u0e15\\u0e35\", \"\\u0e15\\u0e35\", \"\\u0e15\\u0e49\\u0e21\\u0e22\\u0e33\", \"\\u0e15\\u0e49\\u0e27\", \"\\u0e15\\u0e49\\u0e2d\", \"\\u0e15\\u0e4c\", \"\\u0e15\\u0e4c\", \"\\u0e15\\u0e4c\", \"\\u0e16\\u0e38\\u0e07\", \"\\u0e16\\u0e38\\u0e07\", \"\\u0e16\\u0e38\\u0e07\", \"\\u0e16\\u0e38\\u0e07\", \"\\u0e16\\u0e38\\u0e07\", \"\\u0e16\\u0e38\\u0e07\", \"\\u0e16\\u0e38\\u0e07\", \"\\u0e16\\u0e38\\u0e07\", \"\\u0e16\\u0e49\\u0e27\\u0e19\", \"\\u0e16\\u0e49\\u0e27\\u0e22\", \"\\u0e16\\u0e49\\u0e27\\u0e22\", \"\\u0e16\\u0e49\\u0e27\\u0e22\", \"\\u0e16\\u0e49\\u0e27\\u0e22\", \"\\u0e16\\u0e49\\u0e27\\u0e22\", \"\\u0e16\\u0e49\\u0e27\\u0e22\", \"\\u0e16\\u0e49\\u0e27\\u0e22\", \"\\u0e16\\u0e49\\u0e27\\u0e22\", \"\\u0e17\\u0e14\\u0e41\\u0e17\\u0e19\", \"\\u0e17\\u0e14\\u0e41\\u0e17\\u0e19\", \"\\u0e17\\u0e14\\u0e41\\u0e17\\u0e19\", \"\\u0e17\\u0e14\\u0e41\\u0e17\\u0e19\", \"\\u0e17\\u0e2d\\u0e07\", \"\\u0e17\\u0e2d\\u0e07\", \"\\u0e17\\u0e2d\\u0e07\", \"\\u0e17\\u0e2d\\u0e07\", \"\\u0e17\\u0e2d\\u0e07\", \"\\u0e17\\u0e2d\\u0e07\", \"\\u0e17\\u0e2d\\u0e07\", \"\\u0e17\\u0e2d\\u0e07\", \"\\u0e17\\u0e31\\u0e1e\\u0e2b\\u0e19\\u0e49\\u0e32\", \"\\u0e17\\u0e31\\u0e28\\u0e19\\u0e04\\u0e15\\u0e34\", \"\\u0e17\\u0e32\\u0e19\", \"\\u0e17\\u0e32\\u0e19\", \"\\u0e17\\u0e32\\u0e19\", \"\\u0e17\\u0e32\\u0e19\", \"\\u0e17\\u0e32\\u0e19\", \"\\u0e17\\u0e32\\u0e19\", \"\\u0e17\\u0e32\\u0e19\", \"\\u0e17\\u0e32\\u0e19\", \"\\u0e17\\u0e33\", \"\\u0e17\\u0e33\", \"\\u0e17\\u0e33\", \"\\u0e17\\u0e33\", \"\\u0e17\\u0e33\", \"\\u0e17\\u0e33\", \"\\u0e17\\u0e33\", \"\\u0e17\\u0e33\", \"\\u0e17\\u0e33\\u0e04\\u0e27\\u0e32\\u0e21\\u0e2a\\u0e30\\u0e2d\\u0e32\\u0e14\", \"\\u0e17\\u0e33\\u0e04\\u0e27\\u0e32\\u0e21\\u0e2a\\u0e30\\u0e2d\\u0e32\\u0e14\", \"\\u0e17\\u0e33\\u0e07\\u0e32\\u0e19\\u0e1a\\u0e49\\u0e32\\u0e19\", \"\\u0e17\\u0e33\\u0e07\\u0e32\\u0e19\\u0e1a\\u0e49\\u0e32\\u0e19\", \"\\u0e17\\u0e33\\u0e2b\\u0e19\\u0e49\\u0e32\\u0e17\\u0e35\\u0e48\", \"\\u0e17\\u0e33\\u0e2b\\u0e19\\u0e49\\u0e32\\u0e17\\u0e35\\u0e48\", \"\\u0e17\\u0e33\\u0e2b\\u0e19\\u0e49\\u0e32\\u0e17\\u0e35\\u0e48\", \"\\u0e17\\u0e33\\u0e43\\u0e08\", \"\\u0e17\\u0e35\\u0e48\\u0e0b\\u0e48\\u0e2d\\u0e19\", \"\\u0e17\\u0e35\\u0e48\\u0e0b\\u0e48\\u0e2d\\u0e19\", \"\\u0e17\\u0e35\\u0e48\\u0e0b\\u0e48\\u0e2d\\u0e19\", \"\\u0e17\\u0e35\\u0e48\\u0e0b\\u0e48\\u0e2d\\u0e19\", \"\\u0e17\\u0e35\\u0e48\\u0e0b\\u0e48\\u0e2d\\u0e19\", \"\\u0e17\\u0e35\\u0e48\\u0e0b\\u0e48\\u0e2d\\u0e19\", \"\\u0e17\\u0e35\\u0e48\\u0e0b\\u0e48\\u0e2d\\u0e19\", \"\\u0e17\\u0e35\\u0e48\\u0e0b\\u0e48\\u0e2d\\u0e19\", \"\\u0e17\\u0e36\\u0e1a\", \"\\u0e17\\u0e38\\u0e01\\u0e2a\\u0e34\\u0e48\\u0e07\\u0e17\\u0e38\\u0e01\\u0e2d\\u0e22\\u0e48\\u0e32\\u0e07\", \"\\u0e17\\u0e38\\u0e01\\u0e2a\\u0e34\\u0e48\\u0e07\\u0e17\\u0e38\\u0e01\\u0e2d\\u0e22\\u0e48\\u0e32\\u0e07\", \"\\u0e17\\u0e38\\u0e40\\u0e23\\u0e35\\u0e22\\u0e19\", \"\\u0e17\\u0e49\\u0e2d\\u0e07\", \"\\u0e17\\u0e49\\u0e2d\\u0e07\", \"\\u0e17\\u0e49\\u0e2d\\u0e07\", \"\\u0e17\\u0e49\\u0e2d\\u0e07\", \"\\u0e17\\u0e49\\u0e2d\\u0e07\", \"\\u0e17\\u0e49\\u0e2d\\u0e07\", \"\\u0e17\\u0e49\\u0e2d\\u0e07\", \"\\u0e17\\u0e49\\u0e2d\\u0e07\", \"\\u0e17\\u0e49\\u0e2d\\u0e07\\u0e27\\u0e48\\u0e32\\u0e07\", \"\\u0e17\\u0e49\\u0e2d\\u0e07\\u0e27\\u0e48\\u0e32\\u0e07\", \"\\u0e17\\u0e49\\u0e2d\\u0e07\\u0e27\\u0e48\\u0e32\\u0e07\", \"\\u0e17\\u0e49\\u0e2d\\u0e07\\u0e27\\u0e48\\u0e32\\u0e07\", \"\\u0e17\\u0e49\\u0e2d\\u0e07\\u0e27\\u0e48\\u0e32\\u0e07\", \"\\u0e17\\u0e49\\u0e2d\\u0e07\\u0e27\\u0e48\\u0e32\\u0e07\", \"\\u0e17\\u0e49\\u0e2d\\u0e07\\u0e40\\u0e2a\\u0e35\\u0e22\", \"\\u0e17\\u0e49\\u0e2d\\u0e07\\u0e40\\u0e2a\\u0e35\\u0e22\", \"\\u0e17\\u0e49\\u0e2d\\u0e07\\u0e40\\u0e2a\\u0e35\\u0e22\", \"\\u0e17\\u0e49\\u0e2d\\u0e07\\u0e40\\u0e2a\\u0e35\\u0e22\", \"\\u0e17\\u0e49\\u0e2d\\u0e07\\u0e40\\u0e2a\\u0e35\\u0e22\", \"\\u0e17\\u0e49\\u0e2d\\u0e07\\u0e40\\u0e2a\\u0e35\\u0e22\", \"\\u0e17\\u0e49\\u0e2d\\u0e07\\u0e40\\u0e2a\\u0e35\\u0e22\", \"\\u0e17\\u0e49\\u0e2d\\u0e07\\u0e40\\u0e2a\\u0e35\\u0e22\", \"\\u0e17\\u0e49\\u0e32\", \"\\u0e17\\u0e4a\\u0e2d\\u0e01\", \"\\u0e17\\u0e4c\", \"\\u0e19\\u0e01\\u0e41\\u0e01\\u0e49\\u0e27\", \"\\u0e19\\u0e21\", \"\\u0e19\\u0e21\", \"\\u0e19\\u0e21\", \"\\u0e19\\u0e21\", \"\\u0e19\\u0e21\", \"\\u0e19\\u0e21\", \"\\u0e19\\u0e21\", \"\\u0e19\\u0e21\", \"\\u0e19\\u0e21\\u0e02\\u0e49\\u0e19\", \"\\u0e19\\u0e21\\u0e02\\u0e49\\u0e19\", \"\\u0e19\\u0e21\\u0e02\\u0e49\\u0e19\", \"\\u0e19\\u0e21\\u0e02\\u0e49\\u0e19\", \"\\u0e19\\u0e21\\u0e02\\u0e49\\u0e19\", \"\\u0e19\\u0e21\\u0e02\\u0e49\\u0e19\", \"\\u0e19\\u0e21\\u0e02\\u0e49\\u0e19\", \"\\u0e19\\u0e21\\u0e02\\u0e49\\u0e19\", \"\\u0e19\\u0e21\\u0e04\\u0e27\\u0e32\\u0e22\", \"\\u0e19\\u0e21\\u0e04\\u0e27\\u0e32\\u0e22\", \"\\u0e19\\u0e21\\u0e04\\u0e27\\u0e32\\u0e22\", \"\\u0e19\\u0e21\\u0e16\\u0e31\\u0e48\\u0e27\\u0e40\\u0e2b\\u0e25\\u0e37\\u0e2d\\u0e07\", \"\\u0e19\\u0e21\\u0e16\\u0e31\\u0e48\\u0e27\\u0e40\\u0e2b\\u0e25\\u0e37\\u0e2d\\u0e07\", \"\\u0e19\\u0e21\\u0e16\\u0e31\\u0e48\\u0e27\\u0e40\\u0e2b\\u0e25\\u0e37\\u0e2d\\u0e07\", \"\\u0e19\\u0e21\\u0e16\\u0e31\\u0e48\\u0e27\\u0e40\\u0e2b\\u0e25\\u0e37\\u0e2d\\u0e07\", \"\\u0e19\\u0e21\\u0e16\\u0e31\\u0e48\\u0e27\\u0e40\\u0e2b\\u0e25\\u0e37\\u0e2d\\u0e07\", \"\\u0e19\\u0e21\\u0e16\\u0e31\\u0e48\\u0e27\\u0e40\\u0e2b\\u0e25\\u0e37\\u0e2d\\u0e07\", \"\\u0e19\\u0e21\\u0e16\\u0e31\\u0e48\\u0e27\\u0e40\\u0e2b\\u0e25\\u0e37\\u0e2d\\u0e07\", \"\\u0e19\\u0e21\\u0e16\\u0e31\\u0e48\\u0e27\\u0e40\\u0e2b\\u0e25\\u0e37\\u0e2d\\u0e07\", \"\\u0e19\\u0e21\\u0e1c\\u0e07\", \"\\u0e19\\u0e21\\u0e1c\\u0e07\", \"\\u0e19\\u0e21\\u0e1c\\u0e07\", \"\\u0e19\\u0e21\\u0e1c\\u0e07\", \"\\u0e19\\u0e21\\u0e1c\\u0e07\", \"\\u0e19\\u0e21\\u0e1c\\u0e07\", \"\\u0e19\\u0e21\\u0e1c\\u0e07\", \"\\u0e19\\u0e21\\u0e1c\\u0e07\", \"\\u0e19\\u0e21\\u0e27\\u0e31\\u0e27\", \"\\u0e19\\u0e21\\u0e27\\u0e31\\u0e27\", \"\\u0e19\\u0e21\\u0e27\\u0e31\\u0e27\", \"\\u0e19\\u0e21\\u0e27\\u0e31\\u0e27\", \"\\u0e19\\u0e21\\u0e27\\u0e31\\u0e27\", \"\\u0e19\\u0e21\\u0e27\\u0e31\\u0e27\", \"\\u0e19\\u0e21\\u0e27\\u0e31\\u0e27\", \"\\u0e19\\u0e21\\u0e27\\u0e31\\u0e27\", \"\\u0e19\\u0e21\\u0e2a\\u0e14\", \"\\u0e19\\u0e21\\u0e2a\\u0e14\", \"\\u0e19\\u0e21\\u0e2a\\u0e14\", \"\\u0e19\\u0e21\\u0e2a\\u0e14\", \"\\u0e19\\u0e21\\u0e2a\\u0e14\", \"\\u0e19\\u0e21\\u0e2a\\u0e14\", \"\\u0e19\\u0e21\\u0e2a\\u0e14\", \"\\u0e19\\u0e21\\u0e2a\\u0e14\", \"\\u0e19\\u0e21\\u0e40\\u0e1b\\u0e23\\u0e35\\u0e49\\u0e22\\u0e27\", \"\\u0e19\\u0e21\\u0e40\\u0e1b\\u0e23\\u0e35\\u0e49\\u0e22\\u0e27\", \"\\u0e19\\u0e21\\u0e40\\u0e1b\\u0e23\\u0e35\\u0e49\\u0e22\\u0e27\", \"\\u0e19\\u0e21\\u0e40\\u0e1b\\u0e23\\u0e35\\u0e49\\u0e22\\u0e27\", \"\\u0e19\\u0e21\\u0e40\\u0e1b\\u0e23\\u0e35\\u0e49\\u0e22\\u0e27\", \"\\u0e19\\u0e21\\u0e40\\u0e1b\\u0e23\\u0e35\\u0e49\\u0e22\\u0e27\", \"\\u0e19\\u0e21\\u0e40\\u0e1b\\u0e23\\u0e35\\u0e49\\u0e22\\u0e27\", \"\\u0e19\\u0e21\\u0e40\\u0e1b\\u0e23\\u0e35\\u0e49\\u0e22\\u0e27\", \"\\u0e19\\u0e39\", \"\\u0e19\\u0e39\", \"\\u0e19\\u0e48\", \"\\u0e19\\u0e48\", \"\\u0e19\\u0e48\\u0e32\\u0e23\\u0e31\\u0e01\", \"\\u0e19\\u0e48\\u0e32\\u0e23\\u0e31\\u0e01\", \"\\u0e19\\u0e48\\u0e32\\u0e23\\u0e31\\u0e01\", \"\\u0e19\\u0e48\\u0e32\\u0e23\\u0e31\\u0e01\", \"\\u0e19\\u0e48\\u0e32\\u0e23\\u0e31\\u0e01\", \"\\u0e19\\u0e48\\u0e32\\u0e23\\u0e31\\u0e01\", \"\\u0e19\\u0e48\\u0e32\\u0e23\\u0e31\\u0e01\", \"\\u0e19\\u0e48\\u0e32\\u0e23\\u0e31\\u0e01\", \"\\u0e19\\u0e49\\u0e2d\\u0e07\", \"\\u0e19\\u0e49\\u0e2d\\u0e07\", \"\\u0e19\\u0e49\\u0e2d\\u0e07\", \"\\u0e19\\u0e49\\u0e2d\\u0e07\", \"\\u0e19\\u0e49\\u0e2d\\u0e07\", \"\\u0e19\\u0e49\\u0e2d\\u0e07\", \"\\u0e19\\u0e49\\u0e2d\\u0e07\", \"\\u0e19\\u0e49\\u0e2d\\u0e07\", \"\\u0e19\\u0e49\\u0e33\", \"\\u0e19\\u0e49\\u0e33\", \"\\u0e19\\u0e49\\u0e33\", \"\\u0e19\\u0e49\\u0e33\", \"\\u0e19\\u0e49\\u0e33\", \"\\u0e19\\u0e49\\u0e33\", \"\\u0e19\\u0e49\\u0e33\", \"\\u0e19\\u0e49\\u0e33\", \"\\u0e19\\u0e49\\u0e33\\u0e15\\u0e32\\u0e25\", \"\\u0e19\\u0e49\\u0e33\\u0e15\\u0e32\\u0e25\", \"\\u0e19\\u0e49\\u0e33\\u0e15\\u0e32\\u0e25\", \"\\u0e19\\u0e49\\u0e33\\u0e15\\u0e32\\u0e25\", \"\\u0e19\\u0e49\\u0e33\\u0e15\\u0e32\\u0e25\", \"\\u0e19\\u0e49\\u0e33\\u0e15\\u0e32\\u0e25\", \"\\u0e19\\u0e49\\u0e33\\u0e15\\u0e32\\u0e25\", \"\\u0e19\\u0e49\\u0e33\\u0e15\\u0e32\\u0e25\", \"\\u0e19\\u0e49\\u0e33\\u0e1c\\u0e36\\u0e49\\u0e07\", \"\\u0e19\\u0e49\\u0e33\\u0e1c\\u0e36\\u0e49\\u0e07\", \"\\u0e19\\u0e49\\u0e33\\u0e1c\\u0e36\\u0e49\\u0e07\", \"\\u0e19\\u0e49\\u0e33\\u0e1c\\u0e36\\u0e49\\u0e07\", \"\\u0e19\\u0e49\\u0e33\\u0e1c\\u0e36\\u0e49\\u0e07\", \"\\u0e19\\u0e49\\u0e33\\u0e1c\\u0e36\\u0e49\\u0e07\", \"\\u0e19\\u0e49\\u0e33\\u0e1c\\u0e36\\u0e49\\u0e07\", \"\\u0e19\\u0e49\\u0e33\\u0e1c\\u0e36\\u0e49\\u0e07\", \"\\u0e19\\u0e49\\u0e33\\u0e21\\u0e31\\u0e19\\u0e1e\\u0e37\\u0e0a\", \"\\u0e19\\u0e49\\u0e33\\u0e2b\\u0e19\\u0e31\\u0e01\", \"\\u0e19\\u0e49\\u0e33\\u0e2b\\u0e19\\u0e31\\u0e01\", \"\\u0e19\\u0e49\\u0e33\\u0e2b\\u0e19\\u0e31\\u0e01\", \"\\u0e19\\u0e49\\u0e33\\u0e2b\\u0e19\\u0e31\\u0e01\", \"\\u0e19\\u0e49\\u0e33\\u0e2b\\u0e19\\u0e31\\u0e01\", \"\\u0e19\\u0e49\\u0e33\\u0e2b\\u0e19\\u0e31\\u0e01\", \"\\u0e19\\u0e49\\u0e33\\u0e2b\\u0e19\\u0e31\\u0e01\", \"\\u0e19\\u0e49\\u0e33\\u0e2b\\u0e19\\u0e31\\u0e01\", \"\\u0e19\\u0e49\\u0e33\\u0e40\\u0e2b\\u0e25\\u0e37\\u0e2d\\u0e07\", \"\\u0e1a\\u0e23\\u0e21\", \"\\u0e1a\\u0e23\\u0e23\\u0e08\\u0e38\", \"\\u0e1a\\u0e23\\u0e23\\u0e08\\u0e38\", \"\\u0e1a\\u0e23\\u0e23\\u0e08\\u0e38\", \"\\u0e1a\\u0e23\\u0e23\\u0e08\\u0e38\", \"\\u0e1a\\u0e23\\u0e23\\u0e08\\u0e38\", \"\\u0e1a\\u0e23\\u0e23\\u0e08\\u0e38\", \"\\u0e1a\\u0e23\\u0e23\\u0e08\\u0e38\", \"\\u0e1a\\u0e23\\u0e23\\u0e40\\u0e17\\u0e32\", \"\\u0e1a\\u0e23\\u0e34\\u0e08\\u0e32\\u0e04\", \"\\u0e1a\\u0e23\\u0e34\\u0e08\\u0e32\\u0e04\", \"\\u0e1a\\u0e25\\u0e39\\u0e40\\u0e1a\\u0e2d\\u0e23\\u0e4c\\u0e23\\u0e35\\u0e48\", \"\\u0e1a\\u0e2d\", \"\\u0e1a\\u0e2d\", \"\\u0e1a\\u0e2d\", \"\\u0e1a\\u0e2d\", \"\\u0e1a\\u0e2d\", \"\\u0e1a\\u0e2d\", \"\\u0e1a\\u0e2d\", \"\\u0e1a\\u0e2d\", \"\\u0e1a\\u0e30\\u0e2b\\u0e21\\u0e35\\u0e48\", \"\\u0e1a\\u0e30\\u0e2b\\u0e21\\u0e35\\u0e48\", \"\\u0e1a\\u0e31\\u0e07\", \"\\u0e1a\\u0e31\\u0e15\\u0e40\\u0e15\\u0e2d\\u0e23\\u0e4c\", \"\\u0e1a\\u0e31\\u0e25\\u0e01\\u0e32\\u0e40\\u0e23\\u0e35\\u0e22\", \"\\u0e1a\\u0e31\\u0e25\\u0e01\\u0e32\\u0e40\\u0e23\\u0e35\\u0e22\", \"\\u0e1a\\u0e38\", \"\\u0e1a\\u0e38\\u0e23\\u0e35\", \"\\u0e1a\\u0e38\\u0e4a\\u0e04\", \"\\u0e1a\\u0e39\\u0e17\", \"\\u0e1a\\u0e49\\u0e32\\u0e19\", \"\\u0e1a\\u0e49\\u0e32\\u0e19\", \"\\u0e1a\\u0e49\\u0e32\\u0e19\", \"\\u0e1a\\u0e49\\u0e32\\u0e19\", \"\\u0e1a\\u0e49\\u0e32\\u0e19\", \"\\u0e1a\\u0e49\\u0e32\\u0e19\", \"\\u0e1a\\u0e49\\u0e32\\u0e19\", \"\\u0e1a\\u0e49\\u0e32\\u0e19\", \"\\u0e1a\\u0e49\\u0e32\\u0e19\\u0e19\\u0e2d\\u0e01\", \"\\u0e1b\\u0e01\\u0e15\\u0e34\", \"\\u0e1b\\u0e01\\u0e15\\u0e34\", \"\\u0e1b\\u0e01\\u0e15\\u0e34\", \"\\u0e1b\\u0e01\\u0e15\\u0e34\", \"\\u0e1b\\u0e01\\u0e15\\u0e34\", \"\\u0e1b\\u0e01\\u0e15\\u0e34\", \"\\u0e1b\\u0e01\\u0e15\\u0e34\", \"\\u0e1b\\u0e01\\u0e15\\u0e34\", \"\\u0e1b\\u0e0e\\u0e34\", \"\\u0e1b\\u0e23\\u0e30\\u0e04\\u0e1a\", \"\\u0e1b\\u0e23\\u0e30\\u0e08\\u0e33\", \"\\u0e1b\\u0e23\\u0e30\\u0e08\\u0e33\", \"\\u0e1b\\u0e23\\u0e30\\u0e08\\u0e33\", \"\\u0e1b\\u0e23\\u0e30\\u0e08\\u0e33\", \"\\u0e1b\\u0e23\\u0e30\\u0e08\\u0e33\", \"\\u0e1b\\u0e23\\u0e30\\u0e08\\u0e33\", \"\\u0e1b\\u0e23\\u0e30\\u0e08\\u0e33\", \"\\u0e1b\\u0e23\\u0e30\\u0e08\\u0e33\", \"\\u0e1b\\u0e23\\u0e30\\u0e08\\u0e33\\u0e40\\u0e14\\u0e37\\u0e2d\\u0e19\", \"\\u0e1b\\u0e23\\u0e30\\u0e08\\u0e33\\u0e40\\u0e14\\u0e37\\u0e2d\\u0e19\", \"\\u0e1b\\u0e23\\u0e30\\u0e15\\u0e39\", \"\\u0e1b\\u0e23\\u0e30\\u0e2a\\u0e32\\u0e19\", \"\\u0e1b\\u0e23\\u0e30\\u0e2a\\u0e32\\u0e19\", \"\\u0e1b\\u0e23\\u0e31\\u0e1a\\u0e15\\u0e31\\u0e27\", \"\\u0e1b\\u0e23\\u0e34\\u0e21\\u0e32\\u0e13\", \"\\u0e1b\\u0e23\\u0e34\\u0e21\\u0e32\\u0e13\", \"\\u0e1b\\u0e23\\u0e34\\u0e21\\u0e32\\u0e13\", \"\\u0e1b\\u0e23\\u0e34\\u0e21\\u0e32\\u0e13\", \"\\u0e1b\\u0e23\\u0e34\\u0e21\\u0e32\\u0e13\", \"\\u0e1b\\u0e23\\u0e34\\u0e21\\u0e32\\u0e13\", \"\\u0e1b\\u0e23\\u0e34\\u0e21\\u0e32\\u0e13\", \"\\u0e1b\\u0e23\\u0e34\\u0e21\\u0e32\\u0e13\", \"\\u0e1b\\u0e25\\u0e32\", \"\\u0e1b\\u0e25\\u0e32\", \"\\u0e1b\\u0e25\\u0e32\", \"\\u0e1b\\u0e25\\u0e32\", \"\\u0e1b\\u0e25\\u0e32\", \"\\u0e1b\\u0e25\\u0e32\", \"\\u0e1b\\u0e25\\u0e32\", \"\\u0e1b\\u0e25\\u0e32\", \"\\u0e1b\\u0e25\\u0e32\\u0e01\\u0e23\\u0e30\\u0e1b\\u0e4b\\u0e2d\\u0e07\", \"\\u0e1b\\u0e25\\u0e32\\u0e01\\u0e23\\u0e30\\u0e1b\\u0e4b\\u0e2d\\u0e07\", \"\\u0e1b\\u0e25\\u0e32\\u0e2b\\u0e21\\u0e36\\u0e01\", \"\\u0e1b\\u0e25\\u0e32\\u0e2b\\u0e21\\u0e36\\u0e01\", \"\\u0e1b\\u0e31\\u0e0d\\u0e0d\\u0e32\\u0e2d\\u0e48\\u0e2d\\u0e19\", \"\\u0e1b\\u0e31\\u0e4a\\u0e1b\", \"\\u0e1b\\u0e32\\u0e01\\u0e21\\u0e32\\u0e01\", \"\\u0e1b\\u0e34\\u0e14\\u0e40\\u0e17\\u0e2d\\u0e21\", \"\\u0e1b\\u0e34\\u0e14\\u0e40\\u0e17\\u0e2d\\u0e21\", \"\\u0e1b\\u0e34\\u0e14\\u0e40\\u0e17\\u0e2d\\u0e21\", \"\\u0e1b\\u0e34\\u0e14\\u0e40\\u0e17\\u0e2d\\u0e21\", \"\\u0e1b\\u0e34\\u0e14\\u0e40\\u0e17\\u0e2d\\u0e21\", \"\\u0e1b\\u0e35\", \"\\u0e1b\\u0e35\", \"\\u0e1b\\u0e35\", \"\\u0e1b\\u0e35\", \"\\u0e1b\\u0e35\", \"\\u0e1b\\u0e35\", \"\\u0e1b\\u0e35\", \"\\u0e1b\\u0e35\", \"\\u0e1b\\u0e35\\u0e40\\u0e15\\u0e2d\\u0e23\\u0e4c\", \"\\u0e1b\\u0e38\\u0e49\\u0e1b\", \"\\u0e1b\\u0e39\", \"\\u0e1b\\u0e39\", \"\\u0e1b\\u0e39\", \"\\u0e1b\\u0e39\", \"\\u0e1b\\u0e39\", \"\\u0e1b\\u0e39\", \"\\u0e1b\\u0e48\\u0e19\", \"\\u0e1b\\u0e48\\u0e19\", \"\\u0e1c\\u0e07\", \"\\u0e1c\\u0e07\", \"\\u0e1c\\u0e07\", \"\\u0e1c\\u0e07\", \"\\u0e1c\\u0e07\", \"\\u0e1c\\u0e07\", \"\\u0e1c\\u0e07\", \"\\u0e1c\\u0e07\", \"\\u0e1c\\u0e21\", \"\\u0e1c\\u0e21\", \"\\u0e1c\\u0e21\", \"\\u0e1c\\u0e21\", \"\\u0e1c\\u0e21\", \"\\u0e1c\\u0e21\", \"\\u0e1c\\u0e21\", \"\\u0e1c\\u0e21\", \"\\u0e1c\\u0e25\\u0e01\\u0e23\\u0e30\\u0e17\\u0e1a\", \"\\u0e1c\\u0e25\\u0e34\\u0e15\", \"\\u0e1c\\u0e25\\u0e34\\u0e15\", \"\\u0e1c\\u0e25\\u0e34\\u0e15\", \"\\u0e1c\\u0e25\\u0e34\\u0e15\", \"\\u0e1c\\u0e25\\u0e34\\u0e15\", \"\\u0e1c\\u0e25\\u0e34\\u0e15\", \"\\u0e1c\\u0e25\\u0e34\\u0e15\", \"\\u0e1c\\u0e25\\u0e34\\u0e15\", \"\\u0e1c\\u0e2a\\u0e21\", \"\\u0e1c\\u0e2a\\u0e21\", \"\\u0e1c\\u0e2a\\u0e21\", \"\\u0e1c\\u0e2a\\u0e21\", \"\\u0e1c\\u0e2a\\u0e21\", \"\\u0e1c\\u0e2a\\u0e21\", \"\\u0e1c\\u0e2a\\u0e21\", \"\\u0e1c\\u0e2a\\u0e21\", \"\\u0e1c\\u0e31\\u0e27\", \"\\u0e1c\\u0e39\\u0e01\\u0e1e\\u0e31\\u0e19\", \"\\u0e1c\\u0e48\\u0e2d\\u0e19\\u0e04\\u0e25\\u0e32\\u0e22\", \"\\u0e1c\\u0e48\\u0e32\", \"\\u0e1c\\u0e48\\u0e32\", \"\\u0e1d\\u0e32\", \"\\u0e1d\\u0e32\", \"\\u0e1d\\u0e32\", \"\\u0e1d\\u0e32\", \"\\u0e1d\\u0e32\", \"\\u0e1d\\u0e32\", \"\\u0e1d\\u0e32\", \"\\u0e1d\\u0e32\", \"\\u0e1d\\u0e38\\u0e14\\u0e46\", \"\\u0e1d\\u0e48\\u0e32\", \"\\u0e1e\\u0e01\\u0e1e\\u0e32\", \"\\u0e1e\\u0e01\\u0e1e\\u0e32\", \"\\u0e1e\\u0e01\\u0e1e\\u0e32\", \"\\u0e1e\\u0e01\\u0e1e\\u0e32\", \"\\u0e1e\\u0e25\\u0e31\\u0e2a\", \"\\u0e1e\\u0e25\\u0e31\\u0e2a\", \"\\u0e1e\\u0e25\\u0e31\\u0e2a\", \"\\u0e1e\\u0e28\", \"\\u0e1e\\u0e2d\\u0e07\", \"\\u0e1e\\u0e31\\u0e14\", \"\\u0e1e\\u0e31\\u0e14\", \"\\u0e1e\\u0e32\\u0e2a\\u0e40\\u0e08\\u0e2d\\u0e23\\u0e4c\\u0e44\\u0e23\\u0e2a\\u0e4c\", \"\\u0e1e\\u0e32\\u0e2a\\u0e40\\u0e08\\u0e2d\\u0e23\\u0e4c\\u0e44\\u0e23\\u0e2a\\u0e4c\", \"\\u0e1e\\u0e32\\u0e2a\\u0e40\\u0e08\\u0e2d\\u0e23\\u0e4c\\u0e44\\u0e23\\u0e2a\\u0e4c\", \"\\u0e1e\\u0e32\\u0e2a\\u0e40\\u0e08\\u0e2d\\u0e23\\u0e4c\\u0e44\\u0e23\\u0e2a\\u0e4c\", \"\\u0e1e\\u0e32\\u0e2a\\u0e40\\u0e08\\u0e2d\\u0e23\\u0e4c\\u0e44\\u0e23\\u0e2a\\u0e4c\", \"\\u0e1e\\u0e32\\u0e2a\\u0e40\\u0e08\\u0e2d\\u0e23\\u0e4c\\u0e44\\u0e23\\u0e2a\\u0e4c\", \"\\u0e1e\\u0e32\\u0e2a\\u0e40\\u0e08\\u0e2d\\u0e23\\u0e4c\\u0e44\\u0e23\\u0e2a\\u0e4c\", \"\\u0e1e\\u0e32\\u0e2a\\u0e40\\u0e08\\u0e2d\\u0e23\\u0e4c\\u0e44\\u0e23\\u0e2a\\u0e4c\", \"\\u0e1e\\u0e39\", \"\\u0e1e\\u0e39\\u0e14\\u0e21\\u0e32\\u0e01\", \"\\u0e1e\\u0e48\\u0e2d\", \"\\u0e1e\\u0e48\\u0e2d\", \"\\u0e1e\\u0e48\\u0e2d\", \"\\u0e1e\\u0e48\\u0e2d\", \"\\u0e1e\\u0e48\\u0e2d\", \"\\u0e1e\\u0e48\\u0e2d\", \"\\u0e1e\\u0e48\\u0e2d\", \"\\u0e1e\\u0e48\\u0e2d\", \"\\u0e1f\\u0e23\\u0e2d\\u0e22\\u0e14\\u0e4c\", \"\\u0e1f\\u0e2d\\u0e07\", \"\\u0e1f\\u0e2d\\u0e07\", \"\\u0e1f\\u0e2d\\u0e07\", \"\\u0e1f\\u0e2d\\u0e07\", \"\\u0e1f\\u0e2d\\u0e07\", \"\\u0e1f\\u0e2d\\u0e07\", \"\\u0e1f\\u0e2d\\u0e07\", \"\\u0e1f\\u0e2d\\u0e07\", \"\\u0e1f\\u0e31\\u0e19\\u0e1b\\u0e25\\u0e2d\\u0e21\", \"\\u0e1f\\u0e32\\u0e23\\u0e4c\\u0e21\", \"\\u0e1f\\u0e32\\u0e23\\u0e4c\\u0e21\", \"\\u0e1f\\u0e32\\u0e23\\u0e4c\\u0e21\", \"\\u0e1f\\u0e32\\u0e23\\u0e4c\\u0e21\", \"\\u0e1f\\u0e32\\u0e23\\u0e4c\\u0e21\", \"\\u0e1f\\u0e32\\u0e23\\u0e4c\\u0e21\", \"\\u0e1f\\u0e32\\u0e23\\u0e4c\\u0e21\", \"\\u0e1f\\u0e32\\u0e23\\u0e4c\\u0e21\", \"\\u0e21\\u0e14\", \"\\u0e21\\u0e14\", \"\\u0e21\\u0e17\", \"\\u0e21\\u0e17\", \"\\u0e21\\u0e21\\u0e21\\u0e21\", \"\\u0e21\\u0e2b\\u0e31\\u0e28\\u0e08\\u0e23\\u0e23\\u0e22\\u0e4c\", \"\\u0e21\\u0e2d\", \"\\u0e21\\u0e2d\", \"\\u0e21\\u0e2d\", \"\\u0e21\\u0e2d\", \"\\u0e21\\u0e2d\", \"\\u0e21\\u0e2d\", \"\\u0e21\\u0e2d\\u0e07\\u0e14\\u0e39\", \"\\u0e21\\u0e2d\\u0e19\", \"\\u0e21\\u0e2d\\u0e19\", \"\\u0e21\\u0e31\\u0e21\", \"\\u0e21\\u0e31\\u0e21\", \"\\u0e21\\u0e31\\u0e21\", \"\\u0e21\\u0e32\\u0e08\\u0e32\\u0e01\", \"\\u0e21\\u0e32\\u0e08\\u0e32\\u0e01\", \"\\u0e21\\u0e32\\u0e08\\u0e32\\u0e01\", \"\\u0e21\\u0e32\\u0e08\\u0e32\\u0e01\", \"\\u0e21\\u0e32\\u0e08\\u0e32\\u0e01\", \"\\u0e21\\u0e32\\u0e08\\u0e32\\u0e01\", \"\\u0e21\\u0e32\\u0e08\\u0e32\\u0e01\", \"\\u0e21\\u0e32\\u0e08\\u0e32\\u0e01\", \"\\u0e21\\u0e32\\u0e22\\u0e31\\u0e07\", \"\\u0e21\\u0e32\\u0e22\\u0e31\\u0e07\", \"\\u0e21\\u0e34\\u0e19\\u0e34\", \"\\u0e21\\u0e34\\u0e19\\u0e34\", \"\\u0e21\\u0e34\\u0e19\\u0e34\", \"\\u0e21\\u0e34\\u0e19\\u0e48\\u0e32\", \"\\u0e21\\u0e35\\u0e0a\\u0e35\\u0e27\\u0e34\\u0e15\", \"\\u0e21\\u0e35\\u0e0a\\u0e35\\u0e27\\u0e34\\u0e15\", \"\\u0e21\\u0e35\\u0e0a\\u0e35\\u0e27\\u0e34\\u0e15\", \"\\u0e21\\u0e35\\u0e25\\u0e39\\u0e01\", \"\\u0e21\\u0e35\\u0e25\\u0e39\\u0e01\", \"\\u0e21\\u0e35\\u0e25\\u0e39\\u0e01\", \"\\u0e21\\u0e35\\u0e25\\u0e39\\u0e01\", \"\\u0e21\\u0e35\\u0e25\\u0e39\\u0e01\", \"\\u0e21\\u0e35\\u0e25\\u0e39\\u0e01\", \"\\u0e21\\u0e35\\u0e40\\u0e07\\u0e34\\u0e19\", \"\\u0e21\\u0e35\\u0e40\\u0e07\\u0e34\\u0e19\", \"\\u0e21\\u0e35\\u0e40\\u0e2b\\u0e15\\u0e38\\u0e1c\\u0e25\", \"\\u0e21\\u0e35\\u0e40\\u0e2b\\u0e15\\u0e38\\u0e1c\\u0e25\", \"\\u0e21\\u0e35\\u0e48\", \"\\u0e21\\u0e35\\u0e48\", \"\\u0e21\\u0e35\\u0e48\", \"\\u0e21\\u0e35\\u0e48\", \"\\u0e21\\u0e35\\u0e48\", \"\\u0e21\\u0e35\\u0e48\", \"\\u0e21\\u0e48\\u0e27\\u0e07\", \"\\u0e21\\u0e48\\u0e2d\\u0e19\", \"\\u0e22\\u0e22\\u0e22\\u0e22\\u0e22\", \"\\u0e22\\u0e22\\u0e22\\u0e22\\u0e22\", \"\\u0e22\\u0e22\\u0e22\\u0e22\\u0e22\\u0e22\", \"\\u0e22\\u0e2d\\u0e14\\u0e40\\u0e22\\u0e35\\u0e48\\u0e22\\u0e21\", \"\\u0e22\\u0e31\\u0e21\", \"\\u0e22\\u0e31\\u0e21\", \"\\u0e22\\u0e31\\u0e21\", \"\\u0e22\\u0e31\\u0e21\", \"\\u0e22\\u0e31\\u0e21\", \"\\u0e22\\u0e31\\u0e21\", \"\\u0e22\\u0e32\\u0e16\\u0e48\\u0e32\\u0e22\", \"\\u0e22\\u0e32\\u0e2b\\u0e21\\u0e48\\u0e2d\\u0e07\", \"\\u0e22\\u0e34\\u0e19\", \"\\u0e22\\u0e35\\u0e48\\u0e2b\\u0e49\\u0e2d\", \"\\u0e22\\u0e35\\u0e48\\u0e2b\\u0e49\\u0e2d\", \"\\u0e22\\u0e35\\u0e48\\u0e2b\\u0e49\\u0e2d\", \"\\u0e22\\u0e35\\u0e48\\u0e2b\\u0e49\\u0e2d\", \"\\u0e22\\u0e35\\u0e48\\u0e2b\\u0e49\\u0e2d\", \"\\u0e22\\u0e35\\u0e48\\u0e2b\\u0e49\\u0e2d\", \"\\u0e22\\u0e35\\u0e48\\u0e2b\\u0e49\\u0e2d\", \"\\u0e22\\u0e35\\u0e48\\u0e2b\\u0e49\\u0e2d\", \"\\u0e23\\u0e01\", \"\\u0e23\\u0e2a\", \"\\u0e23\\u0e2a\", \"\\u0e23\\u0e2a\", \"\\u0e23\\u0e2a\", \"\\u0e23\\u0e2a\", \"\\u0e23\\u0e2a\", \"\\u0e23\\u0e2a\", \"\\u0e23\\u0e2a\", \"\\u0e23\\u0e2a\\u0e01\\u0e25\\u0e49\\u0e27\\u0e22\", \"\\u0e23\\u0e2a\\u0e01\\u0e25\\u0e49\\u0e27\\u0e22\", \"\\u0e23\\u0e2a\\u0e01\\u0e25\\u0e49\\u0e27\\u0e22\", \"\\u0e23\\u0e2a\\u0e01\\u0e25\\u0e49\\u0e27\\u0e22\", \"\\u0e23\\u0e2a\\u0e01\\u0e25\\u0e49\\u0e27\\u0e22\", \"\\u0e23\\u0e2a\\u0e08\\u0e37\\u0e14\", \"\\u0e23\\u0e2a\\u0e08\\u0e37\\u0e14\", \"\\u0e23\\u0e2a\\u0e08\\u0e37\\u0e14\", \"\\u0e23\\u0e2a\\u0e08\\u0e37\\u0e14\", \"\\u0e23\\u0e2a\\u0e08\\u0e37\\u0e14\", \"\\u0e23\\u0e2a\\u0e08\\u0e37\\u0e14\", \"\\u0e23\\u0e2a\\u0e08\\u0e37\\u0e14\", \"\\u0e23\\u0e2a\\u0e08\\u0e37\\u0e14\", \"\\u0e23\\u0e2a\\u0e0a\\u0e32\\u0e15\\u0e34\", \"\\u0e23\\u0e2a\\u0e0a\\u0e32\\u0e15\\u0e34\", \"\\u0e23\\u0e2a\\u0e0a\\u0e32\\u0e15\\u0e34\", \"\\u0e23\\u0e2a\\u0e0a\\u0e32\\u0e15\\u0e34\", \"\\u0e23\\u0e2a\\u0e0a\\u0e32\\u0e15\\u0e34\", \"\\u0e23\\u0e2a\\u0e0a\\u0e32\\u0e15\\u0e34\", \"\\u0e23\\u0e2a\\u0e0a\\u0e32\\u0e15\\u0e34\", \"\\u0e23\\u0e2a\\u0e0a\\u0e32\\u0e15\\u0e34\", \"\\u0e23\\u0e2a\\u0e18\\u0e23\\u0e23\\u0e21\\u0e0a\\u0e32\\u0e15\\u0e34\", \"\\u0e23\\u0e2a\\u0e18\\u0e23\\u0e23\\u0e21\\u0e0a\\u0e32\\u0e15\\u0e34\", \"\\u0e23\\u0e2a\\u0e18\\u0e23\\u0e23\\u0e21\\u0e0a\\u0e32\\u0e15\\u0e34\", \"\\u0e23\\u0e2a\\u0e18\\u0e23\\u0e23\\u0e21\\u0e0a\\u0e32\\u0e15\\u0e34\", \"\\u0e23\\u0e2a\\u0e18\\u0e23\\u0e23\\u0e21\\u0e0a\\u0e32\\u0e15\\u0e34\", \"\\u0e23\\u0e2a\\u0e18\\u0e23\\u0e23\\u0e21\\u0e0a\\u0e32\\u0e15\\u0e34\", \"\\u0e23\\u0e2a\\u0e18\\u0e23\\u0e23\\u0e21\\u0e0a\\u0e32\\u0e15\\u0e34\", \"\\u0e23\\u0e2a\\u0e18\\u0e23\\u0e23\\u0e21\\u0e0a\\u0e32\\u0e15\\u0e34\", \"\\u0e23\\u0e2a\\u0e2b\\u0e27\\u0e32\\u0e19\", \"\\u0e23\\u0e2a\\u0e2b\\u0e27\\u0e32\\u0e19\", \"\\u0e23\\u0e2a\\u0e2b\\u0e27\\u0e32\\u0e19\", \"\\u0e23\\u0e2a\\u0e2b\\u0e27\\u0e32\\u0e19\", \"\\u0e23\\u0e2a\\u0e2b\\u0e27\\u0e32\\u0e19\", \"\\u0e23\\u0e2a\\u0e2b\\u0e27\\u0e32\\u0e19\", \"\\u0e23\\u0e2a\\u0e2b\\u0e27\\u0e32\\u0e19\", \"\\u0e23\\u0e2a\\u0e2b\\u0e27\\u0e32\\u0e19\", \"\\u0e23\\u0e30\\u0e40\\u0e1a\\u0e34\\u0e14\", \"\\u0e23\\u0e31\\u0e01\", \"\\u0e23\\u0e31\\u0e01\", \"\\u0e23\\u0e31\\u0e01\", \"\\u0e23\\u0e31\\u0e01\", \"\\u0e23\\u0e31\\u0e01\", \"\\u0e23\\u0e31\\u0e01\", \"\\u0e23\\u0e31\\u0e01\", \"\\u0e23\\u0e31\\u0e01\", \"\\u0e23\\u0e31\\u0e01\\u0e29\\u0e32\", \"\\u0e23\\u0e31\\u0e01\\u0e29\\u0e32\", \"\\u0e23\\u0e31\\u0e01\\u0e29\\u0e32\", \"\\u0e23\\u0e31\\u0e01\\u0e29\\u0e32\\u0e2a\\u0e38\\u0e02\\u0e20\\u0e32\\u0e1e\", \"\\u0e23\\u0e31\\u0e07\\u0e19\\u0e01\", \"\\u0e23\\u0e31\\u0e07\\u0e19\\u0e01\", \"\\u0e23\\u0e31\\u0e48\\u0e27\", \"\\u0e23\\u0e31\\u0e48\\u0e27\", \"\\u0e23\\u0e31\\u0e48\\u0e27\", \"\\u0e23\\u0e31\\u0e48\\u0e27\", \"\\u0e23\\u0e32\\u0e14\\u0e2b\\u0e19\\u0e49\\u0e32\", \"\\u0e23\\u0e32\\u0e14\\u0e2b\\u0e19\\u0e49\\u0e32\", \"\\u0e23\\u0e33\\u0e04\\u0e32\\u0e0d\", \"\\u0e23\\u0e34\\u0e27\", \"\\u0e23\\u0e34\\u0e27\", \"\\u0e23\\u0e34\\u0e27\", \"\\u0e23\\u0e34\\u0e27\", \"\\u0e23\\u0e39\\u0e1b\", \"\\u0e23\\u0e39\\u0e1b\", \"\\u0e23\\u0e39\\u0e1b\", \"\\u0e23\\u0e39\\u0e1b\", \"\\u0e23\\u0e39\\u0e1b\", \"\\u0e23\\u0e39\\u0e1b\", \"\\u0e23\\u0e39\\u0e1b\", \"\\u0e23\\u0e39\\u0e1b\", \"\\u0e23\\u0e39\\u0e1b\\u0e16\\u0e48\\u0e32\\u0e22\", \"\\u0e23\\u0e39\\u0e49\", \"\\u0e23\\u0e39\\u0e49\", \"\\u0e23\\u0e39\\u0e49\", \"\\u0e23\\u0e39\\u0e49\", \"\\u0e23\\u0e39\\u0e49\", \"\\u0e23\\u0e39\\u0e49\", \"\\u0e23\\u0e39\\u0e49\", \"\\u0e23\\u0e39\\u0e49\", \"\\u0e23\\u0e39\\u0e49\\u0e21\\u0e32\\u0e01\", \"\\u0e23\\u0e39\\u0e49\\u0e2a\\u0e36\\u0e01\", \"\\u0e23\\u0e39\\u0e49\\u0e2a\\u0e36\\u0e01\", \"\\u0e23\\u0e39\\u0e49\\u0e2a\\u0e36\\u0e01\", \"\\u0e23\\u0e39\\u0e49\\u0e2a\\u0e36\\u0e01\", \"\\u0e23\\u0e39\\u0e49\\u0e2a\\u0e36\\u0e01\", \"\\u0e23\\u0e39\\u0e49\\u0e2a\\u0e36\\u0e01\", \"\\u0e23\\u0e39\\u0e49\\u0e2a\\u0e36\\u0e01\", \"\\u0e23\\u0e39\\u0e49\\u0e2a\\u0e36\\u0e01\", \"\\u0e23\\u0e48\\u0e2d\\u0e22\", \"\\u0e23\\u0e48\\u0e32\", \"\\u0e23\\u0e48\\u0e32\\u0e07\\u0e01\\u0e32\\u0e22\", \"\\u0e23\\u0e48\\u0e32\\u0e07\\u0e01\\u0e32\\u0e22\", \"\\u0e23\\u0e48\\u0e32\\u0e07\\u0e01\\u0e32\\u0e22\", \"\\u0e23\\u0e48\\u0e32\\u0e07\\u0e01\\u0e32\\u0e22\", \"\\u0e23\\u0e48\\u0e32\\u0e07\\u0e01\\u0e32\\u0e22\", \"\\u0e23\\u0e48\\u0e32\\u0e07\\u0e01\\u0e32\\u0e22\", \"\\u0e23\\u0e48\\u0e32\\u0e07\\u0e01\\u0e32\\u0e22\", \"\\u0e23\\u0e48\\u0e32\\u0e07\\u0e01\\u0e32\\u0e22\", \"\\u0e23\\u0e49\\u0e32\\u0e19\", \"\\u0e23\\u0e49\\u0e32\\u0e19\", \"\\u0e23\\u0e49\\u0e32\\u0e19\", \"\\u0e23\\u0e49\\u0e32\\u0e19\", \"\\u0e23\\u0e49\\u0e32\\u0e19\", \"\\u0e23\\u0e49\\u0e32\\u0e19\", \"\\u0e23\\u0e49\\u0e32\\u0e19\", \"\\u0e23\\u0e49\\u0e32\\u0e19\", \"\\u0e25\\u0e14\\u0e19\\u0e49\\u0e33\\u0e2b\\u0e19\\u0e31\\u0e01\", \"\\u0e25\\u0e14\\u0e19\\u0e49\\u0e33\\u0e2b\\u0e19\\u0e31\\u0e01\", \"\\u0e25\\u0e14\\u0e19\\u0e49\\u0e33\\u0e2b\\u0e19\\u0e31\\u0e01\", \"\\u0e25\\u0e14\\u0e19\\u0e49\\u0e33\\u0e2b\\u0e19\\u0e31\\u0e01\", \"\\u0e25\\u0e14\\u0e19\\u0e49\\u0e33\\u0e2b\\u0e19\\u0e31\\u0e01\", \"\\u0e25\\u0e14\\u0e19\\u0e49\\u0e33\\u0e2b\\u0e19\\u0e31\\u0e01\", \"\\u0e25\\u0e14\\u0e19\\u0e49\\u0e33\\u0e2b\\u0e19\\u0e31\\u0e01\", \"\\u0e25\\u0e2d\\u0e07\", \"\\u0e25\\u0e2d\\u0e07\", \"\\u0e25\\u0e2d\\u0e07\", \"\\u0e25\\u0e2d\\u0e07\", \"\\u0e25\\u0e2d\\u0e07\", \"\\u0e25\\u0e2d\\u0e07\", \"\\u0e25\\u0e2d\\u0e07\", \"\\u0e25\\u0e2d\\u0e07\", \"\\u0e25\\u0e30\\u0e25\\u0e31\\u0e07\", \"\\u0e25\\u0e31\\u0e1e\\u0e17\\u0e4c\", \"\\u0e25\\u0e31\\u0e2a\", \"\\u0e25\\u0e33\\u0e44\\u0e2a\\u0e49\\u0e43\\u0e2b\\u0e0d\\u0e48\", \"\\u0e25\\u0e34\\u0e49\\u0e07\", \"\\u0e25\\u0e34\\u0e49\\u0e07\", \"\\u0e25\\u0e34\\u0e49\\u0e07\", \"\\u0e25\\u0e34\\u0e49\\u0e21\\u0e23\\u0e2a\", \"\\u0e25\\u0e37\\u0e21\\u0e15\\u0e32\", \"\\u0e25\\u0e39\\u0e01\", \"\\u0e25\\u0e39\\u0e01\", \"\\u0e25\\u0e39\\u0e01\", \"\\u0e25\\u0e39\\u0e01\", \"\\u0e25\\u0e39\\u0e01\", \"\\u0e25\\u0e39\\u0e01\", \"\\u0e25\\u0e39\\u0e01\", \"\\u0e25\\u0e39\\u0e01\", \"\\u0e25\\u0e39\\u0e01\\u0e15\\u0e34\\u0e14\", \"\\u0e25\\u0e39\\u0e01\\u0e1c\\u0e21\", \"\\u0e25\\u0e39\\u0e01\\u0e1c\\u0e21\", \"\\u0e25\\u0e39\\u0e01\\u0e1c\\u0e21\", \"\\u0e25\\u0e39\\u0e01\\u0e1c\\u0e21\", \"\\u0e25\\u0e39\\u0e01\\u0e2a\\u0e32\\u0e27\", \"\\u0e25\\u0e39\\u0e01\\u0e2a\\u0e32\\u0e27\", \"\\u0e25\\u0e39\\u0e01\\u0e2a\\u0e32\\u0e27\", \"\\u0e25\\u0e39\\u0e01\\u0e2a\\u0e32\\u0e27\", \"\\u0e25\\u0e39\\u0e01\\u0e2a\\u0e32\\u0e27\", \"\\u0e25\\u0e39\\u0e01\\u0e2a\\u0e32\\u0e27\", \"\\u0e25\\u0e39\\u0e01\\u0e2a\\u0e32\\u0e27\", \"\\u0e25\\u0e39\\u0e01\\u0e2a\\u0e38\\u0e19\\u0e31\\u0e02\", \"\\u0e25\\u0e39\\u0e01\\u0e40\\u0e01\\u0e14\", \"\\u0e25\\u0e39\\u0e01\\u0e40\\u0e01\\u0e14\", \"\\u0e25\\u0e39\\u0e01\\u0e40\\u0e01\\u0e14\", \"\\u0e25\\u0e39\\u0e01\\u0e40\\u0e14\\u0e37\\u0e2d\\u0e22\", \"\\u0e25\\u0e39\\u0e01\\u0e40\\u0e14\\u0e37\\u0e2d\\u0e22\", \"\\u0e25\\u0e39\\u0e01\\u0e40\\u0e14\\u0e37\\u0e2d\\u0e22\", \"\\u0e25\\u0e39\\u0e01\\u0e40\\u0e14\\u0e37\\u0e2d\\u0e22\", \"\\u0e25\\u0e47\\u0e2d\\u0e01\\u0e2d\\u0e34\\u0e19\", \"\\u0e25\\u0e47\\u0e2d\\u0e04\", \"\\u0e25\\u0e48\\u0e2d\", \"\\u0e25\\u0e49\\u0e2d\\u0e40\\u0e25\\u0e48\\u0e19\", \"\\u0e25\\u0e49\\u0e32\\u0e07\", \"\\u0e25\\u0e49\\u0e32\\u0e07\", \"\\u0e25\\u0e49\\u0e32\\u0e07\", \"\\u0e25\\u0e49\\u0e32\\u0e07\", \"\\u0e25\\u0e49\\u0e32\\u0e07\", \"\\u0e25\\u0e49\\u0e32\\u0e07\", \"\\u0e25\\u0e49\\u0e32\\u0e07\", \"\\u0e25\\u0e49\\u0e32\\u0e07\", \"\\u0e25\\u0e4a\\u0e2d\\u0e15\", \"\\u0e25\\u0e4c\", \"\\u0e25\\u0e4c\", \"\\u0e25\\u0e4c\", \"\\u0e27\\u0e31\\u0e22\\u0e17\\u0e33\\u0e07\\u0e32\\u0e19\", \"\\u0e27\\u0e31\\u0e27\", \"\\u0e27\\u0e31\\u0e27\", \"\\u0e27\\u0e31\\u0e27\", \"\\u0e27\\u0e31\\u0e27\", \"\\u0e27\\u0e31\\u0e27\", \"\\u0e27\\u0e31\\u0e27\", \"\\u0e27\\u0e31\\u0e27\", \"\\u0e27\\u0e31\\u0e27\", \"\\u0e27\\u0e34\\u0e40\\u0e28\\u0e29\", \"\\u0e27\\u0e48\\u0e32\\u0e44\\u0e21\\u0e48\\u0e44\\u0e14\\u0e49\", \"\\u0e27\\u0e4a\\u0e32\\u0e01\", \"\\u0e2a\\u0e01\", \"\\u0e2a\\u0e14\", \"\\u0e2a\\u0e14\", \"\\u0e2a\\u0e14\", \"\\u0e2a\\u0e14\", \"\\u0e2a\\u0e14\", \"\\u0e2a\\u0e14\", \"\\u0e2a\\u0e14\", \"\\u0e2a\\u0e14\", \"\\u0e2a\\u0e15\\u0e23\\u0e2d\\u0e27\\u0e4c\\u0e40\\u0e1a\\u0e2d\\u0e23\\u0e4c\\u0e23\\u0e35\", \"\\u0e2a\\u0e15\\u0e23\\u0e2d\\u0e27\\u0e4c\\u0e40\\u0e1a\\u0e2d\\u0e23\\u0e4c\\u0e23\\u0e35\", \"\\u0e2a\\u0e15\\u0e23\\u0e2d\\u0e27\\u0e4c\\u0e40\\u0e1a\\u0e2d\\u0e23\\u0e4c\\u0e23\\u0e35\", \"\\u0e2a\\u0e15\\u0e23\\u0e2d\\u0e27\\u0e4c\\u0e40\\u0e1a\\u0e2d\\u0e23\\u0e4c\\u0e23\\u0e35\", \"\\u0e2a\\u0e15\\u0e23\\u0e2d\\u0e27\\u0e4c\\u0e40\\u0e1a\\u0e2d\\u0e23\\u0e4c\\u0e23\\u0e35\", \"\\u0e2a\\u0e15\\u0e23\\u0e2d\\u0e27\\u0e4c\\u0e40\\u0e1a\\u0e2d\\u0e23\\u0e4c\\u0e23\\u0e35\", \"\\u0e2a\\u0e15\\u0e23\\u0e2d\\u0e27\\u0e4c\\u0e40\\u0e1a\\u0e2d\\u0e23\\u0e4c\\u0e23\\u0e35\", \"\\u0e2a\\u0e15\\u0e23\\u0e2d\\u0e27\\u0e4c\\u0e40\\u0e1a\\u0e2d\\u0e23\\u0e4c\\u0e23\\u0e35\", \"\\u0e2a\\u0e15\\u0e32\\u0e23\\u0e4c\\u0e1a\\u0e31\\u0e04\\u0e2a\\u0e4c\", \"\\u0e2a\\u0e16\\u0e32\\u0e19\", \"\\u0e2a\\u0e16\\u0e32\\u0e19\\u0e01\\u0e32\\u0e23\\u0e13\\u0e4c\", \"\\u0e2a\\u0e2a\\u0e2a\", \"\\u0e2a\\u0e2a\\u0e2a\", \"\\u0e2a\\u0e2a\\u0e2a\", \"\\u0e2a\\u0e30\\u0e1e\\u0e32\\u0e19\", \"\\u0e2a\\u0e31\\u0e07\\u0e01\\u0e30\\u0e2a\\u0e35\", \"\\u0e2a\\u0e31\\u0e21\\u0e21\\u0e32\\u0e01\\u0e23\", \"\\u0e2a\\u0e31\\u0e21\\u0e21\\u0e32\\u0e01\\u0e23\", \"\\u0e2a\\u0e32\\u0e21\\u0e35\", \"\\u0e2a\\u0e32\\u0e21\\u0e35\", \"\\u0e2a\\u0e32\\u0e21\\u0e35\", \"\\u0e2a\\u0e32\\u0e21\\u0e35\", \"\\u0e2a\\u0e32\\u0e21\\u0e35\", \"\\u0e2a\\u0e32\\u0e21\\u0e35\", \"\\u0e2a\\u0e32\\u0e21\\u0e40\\u0e2b\\u0e25\\u0e35\\u0e48\\u0e22\\u0e21\", \"\\u0e2a\\u0e32\\u0e21\\u0e40\\u0e2b\\u0e25\\u0e35\\u0e48\\u0e22\\u0e21\", \"\\u0e2a\\u0e32\\u0e21\\u0e42\\u0e25\\u0e01\", \"\\u0e2a\\u0e32\\u0e23\\u0e04\\u0e14\\u0e35\", \"\\u0e2a\\u0e32\\u0e23\\u0e1b\\u0e19\\u0e40\\u0e1b\\u0e37\\u0e49\\u0e2d\\u0e19\", \"\\u0e2a\\u0e32\\u0e23\\u0e2d\\u0e32\\u0e2b\\u0e32\\u0e23\", \"\\u0e2a\\u0e32\\u0e23\\u0e2d\\u0e32\\u0e2b\\u0e32\\u0e23\", \"\\u0e2a\\u0e32\\u0e23\\u0e2d\\u0e32\\u0e2b\\u0e32\\u0e23\", \"\\u0e2a\\u0e32\\u0e23\\u0e2d\\u0e32\\u0e2b\\u0e32\\u0e23\", \"\\u0e2a\\u0e32\\u0e23\\u0e2d\\u0e32\\u0e2b\\u0e32\\u0e23\", \"\\u0e2a\\u0e32\\u0e23\\u0e2d\\u0e32\\u0e2b\\u0e32\\u0e23\", \"\\u0e2a\\u0e32\\u0e23\\u0e2d\\u0e32\\u0e2b\\u0e32\\u0e23\", \"\\u0e2a\\u0e32\\u0e23\\u0e2d\\u0e32\\u0e2b\\u0e32\\u0e23\", \"\\u0e2a\\u0e33\\u0e2b\\u0e23\\u0e31\\u0e1a\", \"\\u0e2a\\u0e33\\u0e2b\\u0e23\\u0e31\\u0e1a\", \"\\u0e2a\\u0e33\\u0e2b\\u0e23\\u0e31\\u0e1a\", \"\\u0e2a\\u0e33\\u0e2b\\u0e23\\u0e31\\u0e1a\", \"\\u0e2a\\u0e33\\u0e2b\\u0e23\\u0e31\\u0e1a\", \"\\u0e2a\\u0e33\\u0e2b\\u0e23\\u0e31\\u0e1a\", \"\\u0e2a\\u0e33\\u0e2b\\u0e23\\u0e31\\u0e1a\", \"\\u0e2a\\u0e33\\u0e2b\\u0e23\\u0e31\\u0e1a\", \"\\u0e2a\\u0e34\\u0e17\\u0e18\\u0e34\\u0e4c\", \"\\u0e2a\\u0e34\\u0e17\\u0e18\\u0e34\\u0e4c\", \"\\u0e2a\\u0e34\\u0e17\\u0e18\\u0e34\\u0e4c\", \"\\u0e2a\\u0e34\\u0e17\\u0e18\\u0e34\\u0e4c\", \"\\u0e2a\\u0e34\\u0e48\\u0e07\\u0e41\\u0e27\\u0e14\\u0e25\\u0e49\\u0e2d\\u0e21\", \"\\u0e2a\\u0e35\\u0e1c\\u0e2a\\u0e21\\u0e2d\\u0e32\\u0e2b\\u0e32\\u0e23\", \"\\u0e2a\\u0e35\\u0e21\\u0e48\\u0e27\\u0e07\", \"\\u0e2a\\u0e35\\u0e2a\\u0e49\\u0e21\", \"\\u0e2a\\u0e35\\u0e2a\\u0e49\\u0e21\", \"\\u0e2a\\u0e38\\u0e02\\u0e43\\u0e08\", \"\\u0e2a\\u0e39\\u0e07\", \"\\u0e2a\\u0e39\\u0e07\", \"\\u0e2a\\u0e39\\u0e07\", \"\\u0e2a\\u0e39\\u0e07\", \"\\u0e2a\\u0e39\\u0e07\", \"\\u0e2a\\u0e39\\u0e07\", \"\\u0e2a\\u0e39\\u0e07\", \"\\u0e2a\\u0e39\\u0e07\", \"\\u0e2a\\u0e39\\u0e15\\u0e23\", \"\\u0e2a\\u0e39\\u0e15\\u0e23\", \"\\u0e2a\\u0e39\\u0e15\\u0e23\", \"\\u0e2a\\u0e39\\u0e15\\u0e23\", \"\\u0e2a\\u0e39\\u0e15\\u0e23\", \"\\u0e2a\\u0e39\\u0e15\\u0e23\", \"\\u0e2a\\u0e39\\u0e15\\u0e23\", \"\\u0e2a\\u0e39\\u0e15\\u0e23\", \"\\u0e2a\\u0e39\\u0e15\\u0e34\", \"\\u0e2a\\u0e39\\u0e1a\\u0e1a\\u0e38\\u0e2b\\u0e23\\u0e35\\u0e48\", \"\\u0e2a\\u0e39\\u0e1a\\u0e1a\\u0e38\\u0e2b\\u0e23\\u0e35\\u0e48\", \"\\u0e2a\\u0e39\\u0e1a\\u0e1a\\u0e38\\u0e2b\\u0e23\\u0e35\\u0e48\", \"\\u0e2a\\u0e41\\u0e15\\u0e21\\u0e1b\\u0e4c\", \"\\u0e2a\\u0e41\\u0e15\\u0e21\\u0e1b\\u0e4c\", \"\\u0e2a\\u0e41\\u0e15\\u0e21\\u0e1b\\u0e4c\", \"\\u0e2a\\u0e41\\u0e15\\u0e21\\u0e1b\\u0e4c\", \"\\u0e2b\\u0e19\\u0e2d\\u0e07\\u0e42\\u0e1e\", \"\\u0e2b\\u0e19\\u0e2d\\u0e07\\u0e42\\u0e1e\", \"\\u0e2b\\u0e19\\u0e2d\\u0e07\\u0e42\\u0e1e\", \"\\u0e2b\\u0e19\\u0e2d\\u0e07\\u0e42\\u0e1e\", \"\\u0e2b\\u0e19\\u0e2d\\u0e07\\u0e42\\u0e1e\", \"\\u0e2b\\u0e19\\u0e2d\\u0e07\\u0e42\\u0e1e\", \"\\u0e2b\\u0e19\\u0e2d\\u0e07\\u0e42\\u0e1e\", \"\\u0e2b\\u0e19\\u0e2d\\u0e07\\u0e42\\u0e1e\", \"\\u0e2b\\u0e19\\u0e38\\u0e01\", \"\\u0e2b\\u0e19\\u0e49\\u0e32\\u0e17\\u0e49\\u0e2d\\u0e07\", \"\\u0e2b\\u0e21\\u0e31\\u0e01\", \"\\u0e2b\\u0e21\\u0e31\\u0e01\", \"\\u0e2b\\u0e21\\u0e31\\u0e01\", \"\\u0e2b\\u0e21\\u0e31\\u0e01\", \"\\u0e2b\\u0e21\\u0e31\\u0e01\", \"\\u0e2b\\u0e21\\u0e31\\u0e01\", \"\\u0e2b\\u0e21\\u0e31\\u0e01\", \"\\u0e2b\\u0e21\\u0e32\", \"\\u0e2b\\u0e21\\u0e32\", \"\\u0e2b\\u0e21\\u0e32\", \"\\u0e2b\\u0e21\\u0e32\\u0e22\\u0e40\\u0e25\\u0e02\", \"\\u0e2b\\u0e21\\u0e32\\u0e22\\u0e40\\u0e25\\u0e02\", \"\\u0e2b\\u0e21\\u0e32\\u0e22\\u0e40\\u0e25\\u0e02\", \"\\u0e2b\\u0e21\\u0e32\\u0e22\\u0e40\\u0e25\\u0e02\", \"\\u0e2b\\u0e21\\u0e32\\u0e22\\u0e40\\u0e25\\u0e02\", \"\\u0e2b\\u0e21\\u0e35\", \"\\u0e2b\\u0e21\\u0e35\", \"\\u0e2b\\u0e21\\u0e35\", \"\\u0e2b\\u0e21\\u0e35\", \"\\u0e2b\\u0e21\\u0e35\", \"\\u0e2b\\u0e21\\u0e35\", \"\\u0e2b\\u0e21\\u0e35\", \"\\u0e2b\\u0e21\\u0e35\", \"\\u0e2b\\u0e22\\u0e36\\u0e22\\u0e46\", \"\\u0e2b\\u0e22\\u0e38\\u0e14\", \"\\u0e2b\\u0e22\\u0e38\\u0e14\", \"\\u0e2b\\u0e22\\u0e38\\u0e14\", \"\\u0e2b\\u0e22\\u0e38\\u0e14\", \"\\u0e2b\\u0e22\\u0e38\\u0e14\", \"\\u0e2b\\u0e22\\u0e38\\u0e14\", \"\\u0e2b\\u0e22\\u0e38\\u0e14\", \"\\u0e2b\\u0e22\\u0e38\\u0e14\", \"\\u0e2b\\u0e22\\u0e38\\u0e48\\u0e19\", \"\\u0e2b\\u0e22\\u0e48\\u0e32\\u0e19\\u0e21\", \"\\u0e2b\\u0e23\\u0e37\\u0e2d\\u0e1b\\u0e25\\u0e48\\u0e32\\u0e27\", \"\\u0e2b\\u0e25\\u0e31\\u0e07\\u0e04\\u0e32\", \"\\u0e2b\\u0e27\\u0e32\\u0e19\", \"\\u0e2b\\u0e27\\u0e32\\u0e19\", \"\\u0e2b\\u0e27\\u0e32\\u0e19\", \"\\u0e2b\\u0e27\\u0e32\\u0e19\", \"\\u0e2b\\u0e27\\u0e32\\u0e19\", \"\\u0e2b\\u0e27\\u0e32\\u0e19\", \"\\u0e2b\\u0e27\\u0e32\\u0e19\", \"\\u0e2b\\u0e27\\u0e32\\u0e19\", \"\\u0e2b\\u0e2d\\u0e1a\", \"\\u0e2b\\u0e2d\\u0e1a\", \"\\u0e2b\\u0e2d\\u0e21\", \"\\u0e2b\\u0e2d\\u0e21\", \"\\u0e2b\\u0e2d\\u0e21\", \"\\u0e2b\\u0e2d\\u0e21\", \"\\u0e2b\\u0e2d\\u0e21\", \"\\u0e2b\\u0e2d\\u0e21\", \"\\u0e2b\\u0e2d\\u0e21\", \"\\u0e2b\\u0e2d\\u0e21\", \"\\u0e2b\\u0e31\\u0e27\\u0e19\\u0e21\", \"\\u0e2b\\u0e32\", \"\\u0e2b\\u0e32\", \"\\u0e2b\\u0e32\", \"\\u0e2b\\u0e32\", \"\\u0e2b\\u0e32\", \"\\u0e2b\\u0e32\", \"\\u0e2b\\u0e32\", \"\\u0e2b\\u0e32\", \"\\u0e2b\\u0e38\\u0e07\", \"\\u0e2b\\u0e48\\u0e27\\u0e07\", \"\\u0e2b\\u0e48\\u0e27\\u0e07\", \"\\u0e2b\\u0e48\\u0e27\\u0e07\", \"\\u0e2b\\u0e48\\u0e27\\u0e07\", \"\\u0e2b\\u0e48\\u0e27\\u0e07\", \"\\u0e2b\\u0e48\\u0e27\\u0e07\", \"\\u0e2b\\u0e49\\u0e32\\u0e07\", \"\\u0e2b\\u0e49\\u0e32\\u0e07\", \"\\u0e2b\\u0e49\\u0e32\\u0e07\", \"\\u0e2b\\u0e49\\u0e32\\u0e07\", \"\\u0e2b\\u0e49\\u0e32\\u0e07\", \"\\u0e2b\\u0e49\\u0e32\\u0e07\", \"\\u0e2b\\u0e49\\u0e32\\u0e07\", \"\\u0e2b\\u0e49\\u0e32\\u0e07\", \"\\u0e2b\\u0e4a\\u0e2d\\u0e21\", \"\\u0e2d\\u0e19\\u0e32\\u0e04\\u0e15\", \"\\u0e2d\\u0e22\\u0e48\\u0e32\", \"\\u0e2d\\u0e22\\u0e48\\u0e32\", \"\\u0e2d\\u0e22\\u0e48\\u0e32\", \"\\u0e2d\\u0e22\\u0e48\\u0e32\", \"\\u0e2d\\u0e22\\u0e48\\u0e32\", \"\\u0e2d\\u0e22\\u0e48\\u0e32\", \"\\u0e2d\\u0e22\\u0e48\\u0e32\", \"\\u0e2d\\u0e22\\u0e48\\u0e32\", \"\\u0e2d\\u0e22\\u0e48\\u0e32\\u0e07\\u0e27\\u0e48\\u0e32\", \"\\u0e2d\\u0e23\\u0e48\\u0e2d\\u0e22\", \"\\u0e2d\\u0e23\\u0e48\\u0e2d\\u0e22\", \"\\u0e2d\\u0e23\\u0e48\\u0e2d\\u0e22\", \"\\u0e2d\\u0e23\\u0e48\\u0e2d\\u0e22\", \"\\u0e2d\\u0e23\\u0e48\\u0e2d\\u0e22\", \"\\u0e2d\\u0e23\\u0e48\\u0e2d\\u0e22\", \"\\u0e2d\\u0e23\\u0e48\\u0e2d\\u0e22\", \"\\u0e2d\\u0e23\\u0e48\\u0e2d\\u0e22\", \"\\u0e2d\\u0e2d\", \"\\u0e2d\\u0e2d\", \"\\u0e2d\\u0e2d\", \"\\u0e2d\\u0e2d\", \"\\u0e2d\\u0e2d\", \"\\u0e2d\\u0e2d\", \"\\u0e2d\\u0e2d\", \"\\u0e2d\\u0e2d\", \"\\u0e2d\\u0e2d\\u0e01\\u0e21\\u0e32\", \"\\u0e2d\\u0e2d\\u0e01\\u0e21\\u0e32\", \"\\u0e2d\\u0e2d\\u0e01\\u0e21\\u0e32\", \"\\u0e2d\\u0e2d\\u0e01\\u0e21\\u0e32\", \"\\u0e2d\\u0e2d\\u0e01\\u0e21\\u0e32\", \"\\u0e2d\\u0e2d\\u0e01\\u0e21\\u0e32\", \"\\u0e2d\\u0e2d\\u0e01\\u0e21\\u0e32\", \"\\u0e2d\\u0e2d\\u0e01\\u0e21\\u0e32\", \"\\u0e2d\\u0e2d\\u0e19\", \"\\u0e2d\\u0e2d\\u0e19\", \"\\u0e2d\\u0e2d\\u0e23\\u0e4c\\u0e41\\u0e01\\u0e19\\u0e34\\u0e01\", \"\\u0e2d\\u0e2d\\u0e23\\u0e4c\\u0e41\\u0e01\\u0e19\\u0e34\\u0e04\", \"\\u0e2d\\u0e2d\\u0e23\\u0e4c\\u0e41\\u0e01\\u0e19\\u0e34\\u0e04\", \"\\u0e2d\\u0e31\\u0e07\\u0e04\\u0e32\\u0e23\", \"\\u0e2d\\u0e31\\u0e22\\u0e22\\u0e4a\\u0e30\", \"\\u0e2d\\u0e32\\u0e21\\u0e48\\u0e32\", \"\\u0e2d\\u0e32\\u0e21\\u0e48\\u0e32\", \"\\u0e2d\\u0e32\\u0e21\\u0e48\\u0e32\", \"\\u0e2d\\u0e32\\u0e21\\u0e48\\u0e32\", \"\\u0e2d\\u0e32\\u0e21\\u0e48\\u0e32\", \"\\u0e2d\\u0e32\\u0e2b\\u0e32\\u0e23\", \"\\u0e2d\\u0e32\\u0e2b\\u0e32\\u0e23\", \"\\u0e2d\\u0e32\\u0e2b\\u0e32\\u0e23\", \"\\u0e2d\\u0e32\\u0e2b\\u0e32\\u0e23\", \"\\u0e2d\\u0e32\\u0e2b\\u0e32\\u0e23\", \"\\u0e2d\\u0e32\\u0e2b\\u0e32\\u0e23\", \"\\u0e2d\\u0e32\\u0e2b\\u0e32\\u0e23\", \"\\u0e2d\\u0e32\\u0e2b\\u0e32\\u0e23\", \"\\u0e2d\\u0e34\\u0e19\", \"\\u0e2d\\u0e34\\u0e19\", \"\\u0e2d\\u0e34\\u0e19\", \"\\u0e2d\\u0e34\\u0e19\", \"\\u0e2d\\u0e34\\u0e19\", \"\\u0e2d\\u0e34\\u0e19\", \"\\u0e2d\\u0e34\\u0e2d\\u0e34\\u0e2d\\u0e34\", \"\\u0e2d\\u0e34\\u0e2d\\u0e34\\u0e2d\\u0e34\", \"\\u0e2d\\u0e34\\u0e2d\\u0e34\\u0e2d\\u0e34\", \"\\u0e2d\\u0e36\\u0e49\\u0e21\", \"\\u0e2d\\u0e37\\u0e21\\u0e21\\u0e4c\", \"\\u0e2d\\u0e38\\u0e08\\u0e08\\u0e32\\u0e23\\u0e30\", \"\\u0e2d\\u0e38\\u0e19\\u0e08\\u0e34\", \"\\u0e2d\\u0e38\\u0e48\\u0e19\", \"\\u0e2d\\u0e38\\u0e48\\u0e19\", \"\\u0e2d\\u0e38\\u0e48\\u0e19\", \"\\u0e2d\\u0e38\\u0e48\\u0e19\", \"\\u0e2d\\u0e38\\u0e48\\u0e19\", \"\\u0e2d\\u0e38\\u0e48\\u0e19\", \"\\u0e2d\\u0e38\\u0e48\\u0e19\", \"\\u0e2d\\u0e38\\u0e48\\u0e19\", \"\\u0e2d\\u0e38\\u0e48\\u0e19\\u0e43\\u0e08\", \"\\u0e2d\\u0e38\\u0e49\\u0e21\", \"\\u0e2d\\u0e38\\u0e49\\u0e21\", \"\\u0e2d\\u0e38\\u0e49\\u0e21\", \"\\u0e2d\\u0e38\\u0e49\\u0e21\", \"\\u0e2d\\u0e38\\u0e49\\u0e22\", \"\\u0e2d\\u0e48\\u0e30\", \"\\u0e2d\\u0e48\\u0e30\", \"\\u0e2d\\u0e48\\u0e30\", \"\\u0e2d\\u0e48\\u0e30\", \"\\u0e2d\\u0e48\\u0e30\", \"\\u0e2d\\u0e48\\u0e30\", \"\\u0e2d\\u0e48\\u0e30\", \"\\u0e2d\\u0e48\\u0e30\", \"\\u0e2d\\u0e48\\u0e32\", \"\\u0e2d\\u0e48\\u0e32\", \"\\u0e2d\\u0e48\\u0e32\", \"\\u0e2d\\u0e48\\u0e32\", \"\\u0e2d\\u0e48\\u0e32\", \"\\u0e2d\\u0e48\\u0e32\", \"\\u0e2d\\u0e48\\u0e32\", \"\\u0e2d\\u0e48\\u0e32\", \"\\u0e2d\\u0e49\\u0e27\\u0e19\", \"\\u0e2d\\u0e49\\u0e27\\u0e19\", \"\\u0e2d\\u0e49\\u0e27\\u0e19\", \"\\u0e2d\\u0e49\\u0e27\\u0e19\", \"\\u0e2d\\u0e49\\u0e27\\u0e19\", \"\\u0e2d\\u0e49\\u0e27\\u0e19\", \"\\u0e2d\\u0e49\\u0e27\\u0e19\", \"\\u0e2d\\u0e49\\u0e27\\u0e19\", \"\\u0e2e\\u0e31\\u0e48\\u0e19\", \"\\u0e2e\\u0e31\\u0e48\\u0e19\", \"\\u0e2e\\u0e31\\u0e48\\u0e19\", \"\\u0e32\", \"\\u0e32\", \"\\u0e32\", \"\\u0e32\", \"\\u0e32\", \"\\u0e32\", \"\\u0e32\", \"\\u0e32\", \"\\u0e40\\u0e01\\u0e25\\u0e35\\u0e49\\u0e22\\u0e07\", \"\\u0e40\\u0e01\\u0e34\\u0e14\\u0e02\\u0e36\\u0e49\\u0e19\", \"\\u0e40\\u0e01\\u0e34\\u0e14\\u0e02\\u0e36\\u0e49\\u0e19\", \"\\u0e40\\u0e01\\u0e34\\u0e14\\u0e02\\u0e36\\u0e49\\u0e19\", \"\\u0e40\\u0e01\\u0e34\\u0e14\\u0e02\\u0e36\\u0e49\\u0e19\", \"\\u0e40\\u0e01\\u0e34\\u0e14\\u0e02\\u0e36\\u0e49\\u0e19\", \"\\u0e40\\u0e01\\u0e34\\u0e14\\u0e02\\u0e36\\u0e49\\u0e19\", \"\\u0e40\\u0e01\\u0e34\\u0e14\\u0e02\\u0e36\\u0e49\\u0e19\", \"\\u0e40\\u0e02\\u0e35\\u0e22\\u0e27\", \"\\u0e40\\u0e02\\u0e35\\u0e22\\u0e27\", \"\\u0e40\\u0e02\\u0e35\\u0e22\\u0e27\", \"\\u0e40\\u0e02\\u0e35\\u0e22\\u0e27\", \"\\u0e40\\u0e02\\u0e35\\u0e22\\u0e27\", \"\\u0e40\\u0e02\\u0e35\\u0e22\\u0e27\", \"\\u0e40\\u0e02\\u0e35\\u0e22\\u0e27\", \"\\u0e40\\u0e02\\u0e35\\u0e22\\u0e27\", \"\\u0e40\\u0e04\\u0e23\\u0e37\\u0e48\\u0e2d\\u0e07\\u0e2b\\u0e21\\u0e32\\u0e22\\u0e01\\u0e32\\u0e23\\u0e04\\u0e49\\u0e32\", \"\\u0e40\\u0e04\\u0e25\\u0e21\", \"\\u0e40\\u0e04\\u0e49\\u0e01\", \"\\u0e40\\u0e04\\u0e49\\u0e01\", \"\\u0e40\\u0e04\\u0e49\\u0e01\", \"\\u0e40\\u0e04\\u0e49\\u0e01\", \"\\u0e40\\u0e04\\u0e49\\u0e01\", \"\\u0e40\\u0e04\\u0e49\\u0e01\", \"\\u0e40\\u0e04\\u0e49\\u0e01\", \"\\u0e40\\u0e04\\u0e49\\u0e32\", \"\\u0e40\\u0e04\\u0e49\\u0e32\", \"\\u0e40\\u0e04\\u0e49\\u0e32\", \"\\u0e40\\u0e04\\u0e49\\u0e32\", \"\\u0e40\\u0e04\\u0e49\\u0e32\", \"\\u0e40\\u0e04\\u0e49\\u0e32\", \"\\u0e40\\u0e04\\u0e49\\u0e32\", \"\\u0e40\\u0e04\\u0e49\\u0e32\", \"\\u0e40\\u0e07\\u0e37\\u0e48\\u0e2d\\u0e19\\u0e44\\u0e02\", \"\\u0e40\\u0e07\\u0e37\\u0e48\\u0e2d\\u0e19\\u0e44\\u0e02\", \"\\u0e40\\u0e08\\u0e2d\", \"\\u0e40\\u0e08\\u0e2d\", \"\\u0e40\\u0e08\\u0e2d\", \"\\u0e40\\u0e08\\u0e2d\", \"\\u0e40\\u0e08\\u0e2d\", \"\\u0e40\\u0e08\\u0e2d\", \"\\u0e40\\u0e08\\u0e2d\", \"\\u0e40\\u0e08\\u0e2d\", \"\\u0e40\\u0e08\\u0e2d\\u0e30\", \"\\u0e40\\u0e08\\u0e37\\u0e2d\\u0e08\\u0e32\\u0e07\", \"\\u0e40\\u0e08\\u0e37\\u0e2d\\u0e08\\u0e32\\u0e07\", \"\\u0e40\\u0e08\\u0e37\\u0e2d\\u0e08\\u0e32\\u0e07\", \"\\u0e40\\u0e08\\u0e37\\u0e2d\\u0e08\\u0e32\\u0e07\", \"\\u0e40\\u0e0a\\u0e25\\u0e1f\\u0e4c\", \"\\u0e40\\u0e0a\\u0e34\\u0e07\", \"\\u0e40\\u0e0a\\u0e34\\u0e07\", \"\\u0e40\\u0e0a\\u0e35\\u0e48\\u0e22\\u0e27\\u0e0a\\u0e32\\u0e0d\", \"\\u0e40\\u0e14\\u0e19\", \"\\u0e40\\u0e14\\u0e19\", \"\\u0e40\\u0e14\\u0e19\", \"\\u0e40\\u0e14\\u0e19\", \"\\u0e40\\u0e14\\u0e19\", \"\\u0e40\\u0e14\\u0e19\", \"\\u0e40\\u0e14\\u0e19\", \"\\u0e40\\u0e14\\u0e19\\u0e21\\u0e32\\u0e23\\u0e4c\\u0e01\", \"\\u0e40\\u0e14\\u0e19\\u0e21\\u0e32\\u0e23\\u0e4c\\u0e01\", \"\\u0e40\\u0e14\\u0e19\\u0e21\\u0e32\\u0e23\\u0e4c\\u0e01\", \"\\u0e40\\u0e14\\u0e19\\u0e21\\u0e32\\u0e23\\u0e4c\\u0e01\", \"\\u0e40\\u0e14\\u0e19\\u0e21\\u0e32\\u0e23\\u0e4c\\u0e01\", \"\\u0e40\\u0e14\\u0e19\\u0e21\\u0e32\\u0e23\\u0e4c\\u0e01\", \"\\u0e40\\u0e14\\u0e19\\u0e21\\u0e32\\u0e23\\u0e4c\\u0e01\", \"\\u0e40\\u0e14\\u0e19\\u0e21\\u0e32\\u0e23\\u0e4c\\u0e01\", \"\\u0e40\\u0e14\\u0e25\\u0e35\\u0e48\", \"\\u0e40\\u0e14\\u0e25\\u0e35\\u0e48\", \"\\u0e40\\u0e14\\u0e25\\u0e35\\u0e48\", \"\\u0e40\\u0e14\\u0e47\\u0e01\", \"\\u0e40\\u0e14\\u0e47\\u0e01\", \"\\u0e40\\u0e14\\u0e47\\u0e01\", \"\\u0e40\\u0e14\\u0e47\\u0e01\", \"\\u0e40\\u0e14\\u0e47\\u0e01\", \"\\u0e40\\u0e14\\u0e47\\u0e01\", \"\\u0e40\\u0e14\\u0e47\\u0e01\", \"\\u0e40\\u0e14\\u0e47\\u0e01\", \"\\u0e40\\u0e14\\u0e47\\u0e01\\u0e41\\u0e23\\u0e01\\u0e40\\u0e01\\u0e34\\u0e14\", \"\\u0e40\\u0e15\\u0e47\\u0e14\", \"\\u0e40\\u0e15\\u0e47\\u0e14\", \"\\u0e40\\u0e15\\u0e47\\u0e14\", \"\\u0e40\\u0e15\\u0e49\\u0e19\", \"\\u0e40\\u0e15\\u0e49\\u0e19\", \"\\u0e40\\u0e15\\u0e49\\u0e19\", \"\\u0e40\\u0e17\\u0e47\\u0e21\", \"\\u0e40\\u0e17\\u0e49\\u0e32\", \"\\u0e40\\u0e17\\u0e49\\u0e32\", \"\\u0e40\\u0e19\\u0e0a\\u0e31\\u0e48\\u0e19\", \"\\u0e40\\u0e19\\u0e0a\\u0e31\\u0e48\\u0e19\", \"\\u0e40\\u0e19\\u0e0a\\u0e31\\u0e48\\u0e19\", \"\\u0e40\\u0e19\\u0e0a\\u0e31\\u0e48\\u0e19\", \"\\u0e40\\u0e19\\u0e0a\\u0e31\\u0e48\\u0e19\", \"\\u0e40\\u0e19\\u0e0a\\u0e31\\u0e48\\u0e19\", \"\\u0e40\\u0e19\\u0e2a\\u0e40\\u0e25\\u0e48\", \"\\u0e40\\u0e19\\u0e37\\u0e49\\u0e2d\", \"\\u0e40\\u0e19\\u0e37\\u0e49\\u0e2d\", \"\\u0e40\\u0e19\\u0e37\\u0e49\\u0e2d\", \"\\u0e40\\u0e19\\u0e37\\u0e49\\u0e2d\", \"\\u0e40\\u0e19\\u0e37\\u0e49\\u0e2d\", \"\\u0e40\\u0e19\\u0e37\\u0e49\\u0e2d\", \"\\u0e40\\u0e19\\u0e37\\u0e49\\u0e2d\", \"\\u0e40\\u0e19\\u0e37\\u0e49\\u0e2d\", \"\\u0e40\\u0e1a\\u0e2d\\u0e23\\u0e4c\\u0e42\\u0e17\\u0e23\\u0e28\\u0e31\\u0e1e\\u0e17\\u0e4c\", \"\\u0e40\\u0e1a\\u0e48\\u0e07\", \"\\u0e40\\u0e1b\\u0e23\\u0e35\\u0e49\\u0e22\\u0e27\", \"\\u0e40\\u0e1b\\u0e23\\u0e35\\u0e49\\u0e22\\u0e27\", \"\\u0e40\\u0e1b\\u0e23\\u0e35\\u0e49\\u0e22\\u0e27\", \"\\u0e40\\u0e1b\\u0e23\\u0e35\\u0e49\\u0e22\\u0e27\", \"\\u0e40\\u0e1b\\u0e23\\u0e35\\u0e49\\u0e22\\u0e27\", \"\\u0e40\\u0e1b\\u0e23\\u0e35\\u0e49\\u0e22\\u0e27\", \"\\u0e40\\u0e1b\\u0e23\\u0e35\\u0e49\\u0e22\\u0e27\", \"\\u0e40\\u0e1b\\u0e23\\u0e35\\u0e49\\u0e22\\u0e27\", \"\\u0e40\\u0e1b\\u0e25\\u0e48\\u0e07\\u0e1b\\u0e25\\u0e31\\u0e48\\u0e07\", \"\\u0e40\\u0e1b\\u0e47\\u0e19\\u0e0a\\u0e48\\u0e27\\u0e07\\u0e46\", \"\\u0e40\\u0e1b\\u0e47\\u0e19\\u0e1e\\u0e34\\u0e29\", \"\\u0e40\\u0e1b\\u0e47\\u0e19\\u0e21\\u0e31\\u0e19\", \"\\u0e40\\u0e1b\\u0e47\\u0e19\\u0e21\\u0e32\", \"\\u0e40\\u0e1b\\u0e47\\u0e19\\u0e21\\u0e32\", \"\\u0e40\\u0e1b\\u0e47\\u0e19\\u0e21\\u0e32\", \"\\u0e40\\u0e1b\\u0e47\\u0e19\\u0e21\\u0e32\", \"\\u0e40\\u0e1b\\u0e47\\u0e19\\u0e2a\\u0e48\\u0e27\\u0e19\\u0e43\\u0e2b\\u0e0d\\u0e48\", \"\\u0e40\\u0e1c\\u0e47\\u0e14\", \"\\u0e40\\u0e1e\\u0e25\\u0e32\", \"\\u0e40\\u0e1e\\u0e37\\u0e48\\u0e2d\\u0e19\\u0e01\\u0e34\\u0e19\", \"\\u0e40\\u0e21\\u0e08\\u0e34\", \"\\u0e40\\u0e21\\u0e08\\u0e34\", \"\\u0e40\\u0e21\\u0e08\\u0e34\", \"\\u0e40\\u0e21\\u0e08\\u0e34\", \"\\u0e40\\u0e21\\u0e08\\u0e34\", \"\\u0e40\\u0e21\\u0e08\\u0e34\", \"\\u0e40\\u0e21\\u0e08\\u0e34\", \"\\u0e40\\u0e21\\u0e08\\u0e34\", \"\\u0e40\\u0e21\\u0e08\\u0e34\\u0e01\", \"\\u0e40\\u0e21\\u0e25\\u0e48\\u0e2d\\u0e19\", \"\\u0e40\\u0e21\\u0e25\\u0e48\\u0e2d\\u0e19\", \"\\u0e40\\u0e21\\u0e25\\u0e48\\u0e2d\\u0e19\", \"\\u0e40\\u0e21\\u0e25\\u0e48\\u0e2d\\u0e19\", \"\\u0e40\\u0e21\\u0e25\\u0e48\\u0e2d\\u0e19\", \"\\u0e40\\u0e21\\u0e25\\u0e48\\u0e2d\\u0e19\", \"\\u0e40\\u0e21\\u0e25\\u0e48\\u0e2d\\u0e19\", \"\\u0e40\\u0e21\\u0e47\\u0e01\", \"\\u0e40\\u0e21\\u0e47\\u0e01\", \"\\u0e40\\u0e22\\u0e47\\u0e19\", \"\\u0e40\\u0e22\\u0e47\\u0e19\", \"\\u0e40\\u0e22\\u0e47\\u0e19\", \"\\u0e40\\u0e22\\u0e47\\u0e19\", \"\\u0e40\\u0e22\\u0e47\\u0e19\", \"\\u0e40\\u0e22\\u0e47\\u0e19\", \"\\u0e40\\u0e22\\u0e47\\u0e19\", \"\\u0e40\\u0e22\\u0e47\\u0e19\", \"\\u0e40\\u0e23\\u0e35\\u0e22\\u0e01\\u0e04\\u0e48\\u0e32\\u0e40\\u0e2a\\u0e35\\u0e22\\u0e2b\\u0e32\\u0e22\", \"\\u0e40\\u0e23\\u0e35\\u0e22\\u0e01\\u0e23\\u0e49\\u0e2d\\u0e07\", \"\\u0e40\\u0e23\\u0e35\\u0e22\\u0e07\", \"\\u0e40\\u0e23\\u0e37\\u0e48\\u0e2d\\u0e07\", \"\\u0e40\\u0e23\\u0e37\\u0e48\\u0e2d\\u0e07\", \"\\u0e40\\u0e23\\u0e37\\u0e48\\u0e2d\\u0e07\", \"\\u0e40\\u0e23\\u0e37\\u0e48\\u0e2d\\u0e07\", \"\\u0e40\\u0e23\\u0e37\\u0e48\\u0e2d\\u0e07\", \"\\u0e40\\u0e23\\u0e37\\u0e48\\u0e2d\\u0e07\", \"\\u0e40\\u0e23\\u0e37\\u0e48\\u0e2d\\u0e07\", \"\\u0e40\\u0e23\\u0e37\\u0e48\\u0e2d\\u0e07\", \"\\u0e40\\u0e25\", \"\\u0e40\\u0e25\\u0e01\", \"\\u0e40\\u0e25\\u0e04\\u0e40\\u0e15\\u0e47\\u0e14\", \"\\u0e40\\u0e25\\u0e15\", \"\\u0e40\\u0e25\\u0e2d\\u0e30\", \"\\u0e40\\u0e25\\u0e35\\u0e22\", \"\\u0e40\\u0e25\\u0e35\\u0e22\", \"\\u0e40\\u0e25\\u0e35\\u0e22\", \"\\u0e40\\u0e25\\u0e35\\u0e22\", \"\\u0e40\\u0e25\\u0e35\\u0e49\\u0e22\\u0e07\", \"\\u0e40\\u0e25\\u0e35\\u0e49\\u0e22\\u0e07\", \"\\u0e40\\u0e25\\u0e35\\u0e49\\u0e22\\u0e07\", \"\\u0e40\\u0e25\\u0e35\\u0e49\\u0e22\\u0e07\", \"\\u0e40\\u0e25\\u0e35\\u0e49\\u0e22\\u0e07\", \"\\u0e40\\u0e25\\u0e35\\u0e49\\u0e22\\u0e07\", \"\\u0e40\\u0e25\\u0e35\\u0e49\\u0e22\\u0e07\", \"\\u0e40\\u0e25\\u0e35\\u0e49\\u0e22\\u0e07\", \"\\u0e40\\u0e25\\u0e35\\u0e49\\u0e22\\u0e07\\u0e25\\u0e39\\u0e01\", \"\\u0e40\\u0e25\\u0e35\\u0e49\\u0e22\\u0e07\\u0e25\\u0e39\\u0e01\", \"\\u0e40\\u0e25\\u0e35\\u0e49\\u0e22\\u0e07\\u0e25\\u0e39\\u0e01\", \"\\u0e40\\u0e25\\u0e35\\u0e49\\u0e22\\u0e07\\u0e25\\u0e39\\u0e01\", \"\\u0e40\\u0e25\\u0e35\\u0e49\\u0e22\\u0e07\\u0e25\\u0e39\\u0e01\", \"\\u0e40\\u0e25\\u0e35\\u0e49\\u0e22\\u0e07\\u0e25\\u0e39\\u0e01\", \"\\u0e40\\u0e25\\u0e48\\u0e19\", \"\\u0e40\\u0e25\\u0e48\\u0e19\", \"\\u0e40\\u0e25\\u0e48\\u0e19\", \"\\u0e40\\u0e25\\u0e48\\u0e19\", \"\\u0e40\\u0e25\\u0e48\\u0e19\", \"\\u0e40\\u0e25\\u0e48\\u0e19\", \"\\u0e40\\u0e25\\u0e48\\u0e19\", \"\\u0e40\\u0e25\\u0e48\\u0e19\", \"\\u0e40\\u0e27\\u0e25\\u0e32\", \"\\u0e40\\u0e27\\u0e25\\u0e32\", \"\\u0e40\\u0e27\\u0e25\\u0e32\", \"\\u0e40\\u0e27\\u0e25\\u0e32\", \"\\u0e40\\u0e27\\u0e25\\u0e32\", \"\\u0e40\\u0e27\\u0e25\\u0e32\", \"\\u0e40\\u0e27\\u0e25\\u0e32\", \"\\u0e40\\u0e27\\u0e25\\u0e32\", \"\\u0e40\\u0e27\\u0e48\\u0e2d\", \"\\u0e40\\u0e2a\\u0e1a\\u0e35\\u0e22\\u0e07\", \"\\u0e40\\u0e2a\\u0e23\\u0e35\", \"\\u0e40\\u0e2a\\u0e37\\u0e2d\", \"\\u0e40\\u0e2a\\u0e37\\u0e48\\u0e2d\\u0e21\\u0e2a\\u0e20\\u0e32\\u0e1e\", \"\\u0e40\\u0e2b\\u0e21\\u0e32\", \"\\u0e40\\u0e2b\\u0e21\\u0e37\\u0e2d\\u0e19\", \"\\u0e40\\u0e2b\\u0e21\\u0e37\\u0e2d\\u0e19\", \"\\u0e40\\u0e2b\\u0e21\\u0e37\\u0e2d\\u0e19\", \"\\u0e40\\u0e2b\\u0e21\\u0e37\\u0e2d\\u0e19\", \"\\u0e40\\u0e2b\\u0e21\\u0e37\\u0e2d\\u0e19\", \"\\u0e40\\u0e2b\\u0e21\\u0e37\\u0e2d\\u0e19\", \"\\u0e40\\u0e2b\\u0e21\\u0e37\\u0e2d\\u0e19\", \"\\u0e40\\u0e2b\\u0e21\\u0e37\\u0e2d\\u0e19\", \"\\u0e40\\u0e2b\\u0e21\\u0e37\\u0e2d\\u0e19\\u0e01\\u0e31\\u0e19\", \"\\u0e40\\u0e2b\\u0e21\\u0e37\\u0e2d\\u0e19\\u0e01\\u0e31\\u0e19\", \"\\u0e40\\u0e2b\\u0e21\\u0e37\\u0e2d\\u0e19\\u0e01\\u0e31\\u0e19\", \"\\u0e40\\u0e2b\\u0e21\\u0e37\\u0e2d\\u0e19\\u0e01\\u0e31\\u0e19\", \"\\u0e40\\u0e2b\\u0e21\\u0e37\\u0e2d\\u0e19\\u0e01\\u0e31\\u0e19\", \"\\u0e40\\u0e2b\\u0e21\\u0e37\\u0e2d\\u0e19\\u0e01\\u0e31\\u0e19\", \"\\u0e40\\u0e2b\\u0e21\\u0e37\\u0e2d\\u0e19\\u0e01\\u0e31\\u0e19\", \"\\u0e40\\u0e2b\\u0e21\\u0e37\\u0e2d\\u0e19\\u0e01\\u0e31\\u0e19\", \"\\u0e40\\u0e2b\\u0e25\\u0e35\\u0e48\\u0e22\\u0e21\", \"\\u0e40\\u0e2d\\u0e19\", \"\\u0e40\\u0e2d\\u0e19\", \"\\u0e40\\u0e2d\\u0e32\\u0e25\\u0e48\\u0e30\", \"\\u0e40\\u0e2d\\u0e34\\u0e48\\u0e21\", \"\\u0e41\\u0e01\\u0e49\\u0e27\", \"\\u0e41\\u0e01\\u0e49\\u0e27\", \"\\u0e41\\u0e01\\u0e49\\u0e27\", \"\\u0e41\\u0e01\\u0e49\\u0e27\", \"\\u0e41\\u0e01\\u0e49\\u0e27\", \"\\u0e41\\u0e01\\u0e49\\u0e27\", \"\\u0e41\\u0e01\\u0e49\\u0e27\", \"\\u0e41\\u0e01\\u0e49\\u0e27\", \"\\u0e41\\u0e04\\u0e25\\u0e40\\u0e0b\\u0e35\\u0e22\\u0e21\", \"\\u0e41\\u0e04\\u0e25\\u0e40\\u0e0b\\u0e35\\u0e22\\u0e21\", \"\\u0e41\\u0e04\\u0e25\\u0e40\\u0e0b\\u0e35\\u0e22\\u0e21\", \"\\u0e41\\u0e04\\u0e25\\u0e40\\u0e0b\\u0e35\\u0e22\\u0e21\", \"\\u0e41\\u0e04\\u0e25\\u0e40\\u0e0b\\u0e35\\u0e22\\u0e21\", \"\\u0e41\\u0e04\\u0e25\\u0e40\\u0e0b\\u0e35\\u0e22\\u0e21\", \"\\u0e41\\u0e04\\u0e25\\u0e40\\u0e0b\\u0e35\\u0e22\\u0e21\", \"\\u0e41\\u0e04\\u0e25\\u0e40\\u0e0b\\u0e35\\u0e22\\u0e21\", \"\\u0e41\\u0e08\\u0e01\", \"\\u0e41\\u0e08\\u0e01\", \"\\u0e41\\u0e08\\u0e01\", \"\\u0e41\\u0e08\\u0e01\", \"\\u0e41\\u0e08\\u0e01\", \"\\u0e41\\u0e08\\u0e01\", \"\\u0e41\\u0e08\\u0e01\", \"\\u0e41\\u0e08\\u0e01\", \"\\u0e41\\u0e14\\u0e23\\u0e35\\u0e48\", \"\\u0e41\\u0e14\\u0e23\\u0e35\\u0e48\", \"\\u0e41\\u0e14\\u0e23\\u0e35\\u0e48\\u0e42\\u0e2e\\u0e21\", \"\\u0e41\\u0e14\\u0e23\\u0e35\\u0e48\\u0e42\\u0e2e\\u0e21\", \"\\u0e41\\u0e14\\u0e23\\u0e35\\u0e48\\u0e42\\u0e2e\\u0e21\", \"\\u0e41\\u0e14\\u0e23\\u0e35\\u0e48\\u0e42\\u0e2e\\u0e21\", \"\\u0e41\\u0e14\\u0e23\\u0e35\\u0e48\\u0e42\\u0e2e\\u0e21\", \"\\u0e41\\u0e14\\u0e23\\u0e35\\u0e48\\u0e42\\u0e2e\\u0e21\", \"\\u0e41\\u0e15\\u0e48\\u0e07\\u0e07\\u0e32\\u0e19\", \"\\u0e41\\u0e15\\u0e48\\u0e1a\\u0e32\\u0e07\\u0e17\\u0e35\", \"\\u0e41\\u0e19\\u0e19\", \"\\u0e41\\u0e19\\u0e30\\u0e19\\u0e33\", \"\\u0e41\\u0e19\\u0e30\\u0e19\\u0e33\", \"\\u0e41\\u0e19\\u0e30\\u0e19\\u0e33\", \"\\u0e41\\u0e19\\u0e30\\u0e19\\u0e33\", \"\\u0e41\\u0e19\\u0e30\\u0e19\\u0e33\", \"\\u0e41\\u0e19\\u0e30\\u0e19\\u0e33\", \"\\u0e41\\u0e19\\u0e30\\u0e19\\u0e33\", \"\\u0e41\\u0e19\\u0e30\\u0e19\\u0e33\", \"\\u0e41\\u0e1a\\u0e1a\\u0e19\\u0e35\\u0e49\", \"\\u0e41\\u0e1a\\u0e1a\\u0e19\\u0e35\\u0e49\", \"\\u0e41\\u0e1a\\u0e1a\\u0e19\\u0e35\\u0e49\", \"\\u0e41\\u0e1a\\u0e1a\\u0e19\\u0e35\\u0e49\", \"\\u0e41\\u0e1a\\u0e1a\\u0e19\\u0e35\\u0e49\", \"\\u0e41\\u0e1a\\u0e1a\\u0e19\\u0e35\\u0e49\", \"\\u0e41\\u0e1a\\u0e1a\\u0e19\\u0e35\\u0e49\", \"\\u0e41\\u0e1a\\u0e1a\\u0e19\\u0e35\\u0e49\", \"\\u0e41\\u0e1a\\u0e1a\\u0e2a\\u0e2d\\u0e1a\\u0e16\\u0e32\\u0e21\", \"\\u0e41\\u0e1a\\u0e1a\\u0e2a\\u0e2d\\u0e1a\\u0e16\\u0e32\\u0e21\", \"\\u0e41\\u0e1a\\u0e1a\\u0e2a\\u0e2d\\u0e1a\\u0e16\\u0e32\\u0e21\", \"\\u0e41\\u0e1a\\u0e48\\u0e07\\u0e15\\u0e31\\u0e27\", \"\\u0e41\\u0e1c\\u0e25\", \"\\u0e41\\u0e1e\\u0e25\\u0e19\", \"\\u0e41\\u0e1e\\u0e30\", \"\\u0e41\\u0e1e\\u0e30\", \"\\u0e41\\u0e1e\\u0e30\", \"\\u0e41\\u0e1e\\u0e30\", \"\\u0e41\\u0e1e\\u0e30\", \"\\u0e41\\u0e1e\\u0e30\", \"\\u0e41\\u0e21\\u0e01\", \"\\u0e41\\u0e21\\u0e01\", \"\\u0e41\\u0e21\\u0e01\", \"\\u0e41\\u0e21\\u0e01\", \"\\u0e41\\u0e21\\u0e01\", \"\\u0e41\\u0e21\\u0e27\", \"\\u0e41\\u0e21\\u0e27\", \"\\u0e41\\u0e21\\u0e27\", \"\\u0e41\\u0e21\\u0e27\", \"\\u0e41\\u0e21\\u0e48\", \"\\u0e41\\u0e21\\u0e48\", \"\\u0e41\\u0e21\\u0e48\", \"\\u0e41\\u0e21\\u0e48\", \"\\u0e41\\u0e21\\u0e48\", \"\\u0e41\\u0e21\\u0e48\", \"\\u0e41\\u0e21\\u0e48\", \"\\u0e41\\u0e21\\u0e48\", \"\\u0e41\\u0e21\\u0e48\\u0e0b\\u0e37\\u0e49\\u0e2d\", \"\\u0e41\\u0e21\\u0e48\\u0e0b\\u0e37\\u0e49\\u0e2d\", \"\\u0e41\\u0e23\\u0e01\\u0e40\\u0e01\\u0e34\\u0e14\", \"\\u0e41\\u0e23\\u0e48\\u0e18\\u0e32\\u0e15\\u0e38\", \"\\u0e41\\u0e23\\u0e48\\u0e18\\u0e32\\u0e15\\u0e38\", \"\\u0e41\\u0e23\\u0e48\\u0e18\\u0e32\\u0e15\\u0e38\", \"\\u0e41\\u0e23\\u0e48\\u0e18\\u0e32\\u0e15\\u0e38\", \"\\u0e41\\u0e23\\u0e48\\u0e18\\u0e32\\u0e15\\u0e38\", \"\\u0e41\\u0e23\\u0e48\\u0e18\\u0e32\\u0e15\\u0e38\", \"\\u0e41\\u0e25\\u0e49\\u0e27\", \"\\u0e41\\u0e25\\u0e49\\u0e27\", \"\\u0e41\\u0e25\\u0e49\\u0e27\", \"\\u0e41\\u0e25\\u0e49\\u0e27\", \"\\u0e41\\u0e25\\u0e49\\u0e27\", \"\\u0e41\\u0e25\\u0e49\\u0e27\", \"\\u0e41\\u0e25\\u0e49\\u0e27\", \"\\u0e41\\u0e25\\u0e49\\u0e27\\u0e2b\\u0e25\\u0e30\", \"\\u0e41\\u0e27\\u0e25\\u0e39\", \"\\u0e41\\u0e27\\u0e49\\u0e1a\", \"\\u0e41\\u0e2a\", \"\\u0e41\\u0e2b\\u0e21\\u0e48\", \"\\u0e41\\u0e2b\\u0e21\\u0e48\", \"\\u0e41\\u0e2b\\u0e21\\u0e48\", \"\\u0e41\\u0e2b\\u0e30\", \"\\u0e41\\u0e2b\\u0e30\", \"\\u0e41\\u0e2d\\u0e14\\u0e21\\u0e34\\u0e19\", \"\\u0e41\\u0e2d\\u0e25\\u0e01\\u0e2d\\u0e2e\\u0e2d\\u0e25\\u0e4c\", \"\\u0e42\\u0e01\\u0e25\\u0e14\\u0e4c\", \"\\u0e42\\u0e01\\u0e25\\u0e14\\u0e4c\", \"\\u0e42\\u0e01\\u0e25\\u0e14\\u0e4c\", \"\\u0e42\\u0e01\\u0e25\\u0e14\\u0e4c\", \"\\u0e42\\u0e04\", \"\\u0e42\\u0e04\", \"\\u0e42\\u0e04\", \"\\u0e42\\u0e04\", \"\\u0e42\\u0e04\", \"\\u0e42\\u0e04\", \"\\u0e42\\u0e04\", \"\\u0e42\\u0e04\", \"\\u0e42\\u0e06\\u0e29\\u0e13\\u0e32\", \"\\u0e42\\u0e06\\u0e29\\u0e13\\u0e32\", \"\\u0e42\\u0e06\\u0e29\\u0e13\\u0e32\", \"\\u0e42\\u0e06\\u0e29\\u0e13\\u0e32\", \"\\u0e42\\u0e06\\u0e29\\u0e13\\u0e32\", \"\\u0e42\\u0e06\\u0e29\\u0e13\\u0e32\", \"\\u0e42\\u0e06\\u0e29\\u0e13\\u0e32\", \"\\u0e42\\u0e06\\u0e29\\u0e13\\u0e32\", \"\\u0e42\\u0e0a\\u0e04\\u0e0a\\u0e31\\u0e22\", \"\\u0e42\\u0e0a\\u0e04\\u0e0a\\u0e31\\u0e22\", \"\\u0e42\\u0e0a\\u0e04\\u0e0a\\u0e31\\u0e22\", \"\\u0e42\\u0e0a\\u0e04\\u0e0a\\u0e31\\u0e22\", \"\\u0e42\\u0e0a\\u0e04\\u0e0a\\u0e31\\u0e22\", \"\\u0e42\\u0e0a\\u0e04\\u0e0a\\u0e31\\u0e22\", \"\\u0e42\\u0e0a\\u0e04\\u0e0a\\u0e31\\u0e22\", \"\\u0e42\\u0e0a\\u0e04\\u0e0a\\u0e31\\u0e22\", \"\\u0e42\\u0e17\\u0e2a\", \"\\u0e42\\u0e19\", \"\\u0e42\\u0e19\", \"\\u0e42\\u0e19\", \"\\u0e42\\u0e19\", \"\\u0e42\\u0e19\", \"\\u0e42\\u0e19\", \"\\u0e42\\u0e19\", \"\\u0e42\\u0e1b\\u0e23\\u0e15\\u0e35\\u0e19\", \"\\u0e42\\u0e1b\\u0e23\\u0e15\\u0e35\\u0e19\", \"\\u0e42\\u0e1b\\u0e23\\u0e15\\u0e35\\u0e19\", \"\\u0e42\\u0e1b\\u0e23\\u0e15\\u0e35\\u0e19\", \"\\u0e42\\u0e1b\\u0e23\\u0e15\\u0e35\\u0e19\", \"\\u0e42\\u0e1b\\u0e23\\u0e15\\u0e35\\u0e19\", \"\\u0e42\\u0e1b\\u0e23\\u0e15\\u0e35\\u0e19\", \"\\u0e42\\u0e1b\\u0e23\\u0e15\\u0e35\\u0e19\", \"\\u0e42\\u0e1e\\u0e14\", \"\\u0e42\\u0e1e\\u0e18\\u0e34\\u0e4c\", \"\\u0e42\\u0e1f\\u0e23\\u0e4c\\u0e42\\u0e21\\u0e2a\\u0e15\\u0e4c\", \"\\u0e42\\u0e1f\\u0e23\\u0e4c\\u0e42\\u0e21\\u0e2a\\u0e15\\u0e4c\", \"\\u0e42\\u0e1f\\u0e23\\u0e4c\\u0e42\\u0e21\\u0e2a\\u0e15\\u0e4c\", \"\\u0e42\\u0e1f\\u0e23\\u0e4c\\u0e42\\u0e21\\u0e2a\\u0e15\\u0e4c\", \"\\u0e42\\u0e1f\\u0e23\\u0e4c\\u0e42\\u0e21\\u0e2a\\u0e15\\u0e4c\", \"\\u0e42\\u0e1f\\u0e23\\u0e4c\\u0e42\\u0e21\\u0e2a\\u0e15\\u0e4c\", \"\\u0e42\\u0e1f\\u0e23\\u0e4c\\u0e42\\u0e21\\u0e2a\\u0e15\\u0e4c\", \"\\u0e42\\u0e1f\\u0e23\\u0e4c\\u0e42\\u0e21\\u0e2a\\u0e15\\u0e4c\", \"\\u0e42\\u0e22\", \"\\u0e42\\u0e22\", \"\\u0e42\\u0e22\", \"\\u0e42\\u0e22\", \"\\u0e42\\u0e22\", \"\\u0e42\\u0e22\", \"\\u0e42\\u0e22\", \"\\u0e42\\u0e22\", \"\\u0e42\\u0e22\\u0e40\\u0e01\\u0e34\\u0e23\\u0e4c\\u0e15\", \"\\u0e42\\u0e22\\u0e40\\u0e01\\u0e34\\u0e23\\u0e4c\\u0e15\", \"\\u0e42\\u0e22\\u0e40\\u0e01\\u0e34\\u0e23\\u0e4c\\u0e15\", \"\\u0e42\\u0e22\\u0e40\\u0e01\\u0e34\\u0e23\\u0e4c\\u0e15\", \"\\u0e42\\u0e22\\u0e40\\u0e01\\u0e34\\u0e23\\u0e4c\\u0e15\", \"\\u0e42\\u0e22\\u0e40\\u0e01\\u0e34\\u0e23\\u0e4c\\u0e15\", \"\\u0e42\\u0e22\\u0e40\\u0e01\\u0e34\\u0e23\\u0e4c\\u0e15\", \"\\u0e42\\u0e22\\u0e40\\u0e01\\u0e34\\u0e23\\u0e4c\\u0e15\", \"\\u0e42\\u0e23\\u0e07\\u0e1e\\u0e22\\u0e32\\u0e1a\\u0e32\\u0e25\", \"\\u0e42\\u0e23\\u0e07\\u0e1e\\u0e22\\u0e32\\u0e1a\\u0e32\\u0e25\", \"\\u0e42\\u0e23\\u0e07\\u0e1e\\u0e22\\u0e32\\u0e1a\\u0e32\\u0e25\", \"\\u0e42\\u0e23\\u0e07\\u0e1e\\u0e22\\u0e32\\u0e1a\\u0e32\\u0e25\", \"\\u0e42\\u0e23\\u0e07\\u0e1e\\u0e22\\u0e32\\u0e1a\\u0e32\\u0e25\", \"\\u0e42\\u0e23\\u0e07\\u0e40\\u0e23\\u0e35\\u0e22\\u0e19\", \"\\u0e42\\u0e23\\u0e07\\u0e40\\u0e23\\u0e35\\u0e22\\u0e19\", \"\\u0e42\\u0e23\\u0e07\\u0e40\\u0e23\\u0e35\\u0e22\\u0e19\", \"\\u0e42\\u0e23\\u0e07\\u0e40\\u0e23\\u0e35\\u0e22\\u0e19\", \"\\u0e42\\u0e23\\u0e07\\u0e40\\u0e23\\u0e35\\u0e22\\u0e19\", \"\\u0e42\\u0e23\\u0e07\\u0e40\\u0e23\\u0e35\\u0e22\\u0e19\", \"\\u0e42\\u0e23\\u0e07\\u0e40\\u0e23\\u0e35\\u0e22\\u0e19\", \"\\u0e42\\u0e23\\u0e07\\u0e40\\u0e23\\u0e35\\u0e22\\u0e19\", \"\\u0e42\\u0e2d\\u0e40\\u0e21\\u0e01\\u0e49\\u0e32\", \"\\u0e42\\u0e2d\\u0e40\\u0e21\\u0e01\\u0e49\\u0e32\", \"\\u0e42\\u0e2d\\u0e40\\u0e21\\u0e01\\u0e49\\u0e32\", \"\\u0e42\\u0e2d\\u0e40\\u0e21\\u0e01\\u0e49\\u0e32\", \"\\u0e42\\u0e2d\\u0e40\\u0e21\\u0e01\\u0e49\\u0e32\", \"\\u0e42\\u0e2d\\u0e49\", \"\\u0e42\\u0e2d\\u0e49\", \"\\u0e42\\u0e2d\\u0e49\", \"\\u0e42\\u0e2d\\u0e49\", \"\\u0e42\\u0e2d\\u0e49\", \"\\u0e42\\u0e2d\\u0e49\", \"\\u0e42\\u0e2e\\u0e21\", \"\\u0e42\\u0e2e\\u0e21\", \"\\u0e42\\u0e2e\\u0e21\", \"\\u0e42\\u0e2e\\u0e21\", \"\\u0e43\\u0e02\\u0e48\", \"\\u0e43\\u0e0a\\u0e48\\u0e1b\\u0e30\", \"\\u0e43\\u0e19\\u0e17\\u0e35\\u0e48\\u0e2a\\u0e38\\u0e14\", \"\\u0e43\\u0e1a\\u0e40\\u0e2a\\u0e23\\u0e47\\u0e08\", \"\\u0e43\\u0e2a\\u0e48\", \"\\u0e43\\u0e2a\\u0e48\", \"\\u0e43\\u0e2a\\u0e48\", \"\\u0e43\\u0e2a\\u0e48\", \"\\u0e43\\u0e2a\\u0e48\", \"\\u0e43\\u0e2a\\u0e48\", \"\\u0e43\\u0e2a\\u0e48\", \"\\u0e43\\u0e2a\\u0e48\", \"\\u0e43\\u0e2b\\u0e0d\", \"\\u0e43\\u0e2b\\u0e19\", \"\\u0e43\\u0e2b\\u0e19\", \"\\u0e43\\u0e2b\\u0e49\\u0e01\\u0e33\\u0e40\\u0e19\\u0e34\\u0e14\", \"\\u0e43\\u0e2b\\u0e49\\u0e01\\u0e33\\u0e40\\u0e19\\u0e34\\u0e14\", \"\\u0e43\\u0e2b\\u0e49\\u0e04\\u0e27\\u0e32\\u0e21\\u0e2a\\u0e33\\u0e04\\u0e31\\u0e0d\", \"\\u0e43\\u0e2b\\u0e49\\u0e19\\u0e21\", \"\\u0e43\\u0e2b\\u0e49\\u0e19\\u0e21\", \"\\u0e43\\u0e2b\\u0e49\\u0e19\\u0e21\", \"\\u0e43\\u0e2b\\u0e49\\u0e19\\u0e21\", \"\\u0e43\\u0e2b\\u0e49\\u0e19\\u0e21\", \"\\u0e43\\u0e2b\\u0e49\\u0e19\\u0e21\", \"\\u0e43\\u0e2b\\u0e49\\u0e19\\u0e21\", \"\\u0e43\\u0e2b\\u0e49\\u0e19\\u0e21\", \"\\u0e43\\u0e2b\\u0e49\\u0e1c\\u0e25\", \"\\u0e44\\u0e02\\u0e21\\u0e31\\u0e19\", \"\\u0e44\\u0e02\\u0e21\\u0e31\\u0e19\", \"\\u0e44\\u0e02\\u0e21\\u0e31\\u0e19\", \"\\u0e44\\u0e02\\u0e21\\u0e31\\u0e19\", \"\\u0e44\\u0e02\\u0e21\\u0e31\\u0e19\", \"\\u0e44\\u0e02\\u0e21\\u0e31\\u0e19\", \"\\u0e44\\u0e02\\u0e21\\u0e31\\u0e19\", \"\\u0e44\\u0e02\\u0e21\\u0e31\\u0e19\", \"\\u0e44\\u0e02\\u0e21\\u0e31\\u0e19\\u0e15\\u0e48\\u0e33\", \"\\u0e44\\u0e02\\u0e21\\u0e31\\u0e19\\u0e15\\u0e48\\u0e33\", \"\\u0e44\\u0e02\\u0e21\\u0e31\\u0e19\\u0e15\\u0e48\\u0e33\", \"\\u0e44\\u0e02\\u0e21\\u0e31\\u0e19\\u0e15\\u0e48\\u0e33\", \"\\u0e44\\u0e02\\u0e21\\u0e31\\u0e19\\u0e15\\u0e48\\u0e33\", \"\\u0e44\\u0e02\\u0e21\\u0e31\\u0e19\\u0e15\\u0e48\\u0e33\", \"\\u0e44\\u0e02\\u0e21\\u0e31\\u0e19\\u0e15\\u0e48\\u0e33\", \"\\u0e44\\u0e02\\u0e21\\u0e31\\u0e19\\u0e15\\u0e48\\u0e33\", \"\\u0e44\\u0e02\\u0e48\\u0e40\\u0e08\\u0e35\\u0e22\\u0e27\", \"\\u0e44\\u0e02\\u0e48\\u0e40\\u0e08\\u0e35\\u0e22\\u0e27\", \"\\u0e44\\u0e14\\u0e49\", \"\\u0e44\\u0e14\\u0e49\", \"\\u0e44\\u0e14\\u0e49\", \"\\u0e44\\u0e14\\u0e49\", \"\\u0e44\\u0e14\\u0e49\", \"\\u0e44\\u0e14\\u0e49\", \"\\u0e44\\u0e14\\u0e49\", \"\\u0e44\\u0e14\\u0e49\", \"\\u0e44\\u0e14\\u0e49\\u0e23\\u0e32\\u0e04\\u0e32\", \"\\u0e44\\u0e14\\u0e49\\u0e40\\u0e23\\u0e37\\u0e48\\u0e2d\\u0e07\", \"\\u0e44\\u0e14\\u0e49\\u0e40\\u0e23\\u0e37\\u0e48\\u0e2d\\u0e07\", \"\\u0e44\\u0e17\\u0e22\", \"\\u0e44\\u0e17\\u0e22\", \"\\u0e44\\u0e17\\u0e22\", \"\\u0e44\\u0e17\\u0e22\", \"\\u0e44\\u0e17\\u0e22\", \"\\u0e44\\u0e17\\u0e22\", \"\\u0e44\\u0e17\\u0e22\", \"\\u0e44\\u0e17\\u0e22\", \"\\u0e44\\u0e17\\u0e22\\u0e40\\u0e14\\u0e19\\u0e21\\u0e32\\u0e23\\u0e4c\\u0e04\", \"\\u0e44\\u0e17\\u0e22\\u0e40\\u0e14\\u0e19\\u0e21\\u0e32\\u0e23\\u0e4c\\u0e04\", \"\\u0e44\\u0e17\\u0e22\\u0e40\\u0e14\\u0e19\\u0e21\\u0e32\\u0e23\\u0e4c\\u0e04\", \"\\u0e44\\u0e17\\u0e22\\u0e40\\u0e14\\u0e19\\u0e21\\u0e32\\u0e23\\u0e4c\\u0e04\", \"\\u0e44\\u0e17\\u0e22\\u0e40\\u0e14\\u0e19\\u0e21\\u0e32\\u0e23\\u0e4c\\u0e04\", \"\\u0e44\\u0e17\\u0e22\\u0e40\\u0e14\\u0e19\\u0e21\\u0e32\\u0e23\\u0e4c\\u0e04\", \"\\u0e44\\u0e17\\u0e22\\u0e40\\u0e14\\u0e19\\u0e21\\u0e32\\u0e23\\u0e4c\\u0e04\", \"\\u0e44\\u0e17\\u0e22\\u0e40\\u0e14\\u0e19\\u0e21\\u0e32\\u0e23\\u0e4c\\u0e04\", \"\\u0e44\\u0e21\\u0e42\\u0e25\", \"\\u0e44\\u0e21\\u0e42\\u0e25\", \"\\u0e44\\u0e21\\u0e42\\u0e25\", \"\\u0e44\\u0e21\\u0e42\\u0e25\", \"\\u0e44\\u0e21\\u0e42\\u0e25\", \"\\u0e44\\u0e21\\u0e42\\u0e25\", \"\\u0e44\\u0e21\\u0e48\", \"\\u0e44\\u0e21\\u0e48\", \"\\u0e44\\u0e21\\u0e48\", \"\\u0e44\\u0e21\\u0e48\", \"\\u0e44\\u0e21\\u0e48\", \"\\u0e44\\u0e21\\u0e48\", \"\\u0e44\\u0e21\\u0e48\", \"\\u0e44\\u0e21\\u0e48\", \"\\u0e44\\u0e21\\u0e48\\u0e40\\u0e17\\u0e48\\u0e32\\u0e44\\u0e2b\\u0e23\\u0e48\", \"\\u0e44\\u0e25\\u0e04\\u0e4c\", \"\\u0e44\\u0e25\\u0e0b\\u0e4c\", \"\\u0e44\\u0e25\\u0e0b\\u0e4c\", \"\\u0e44\\u0e25\\u0e0b\\u0e4c\", \"\\u0e44\\u0e25\\u0e15\\u0e4c\", \"\\u0e44\\u0e25\\u0e2a\\u0e4c\", \"\\u0e44\\u0e27\", \"\\u0e44\\u0e27\", \"\\u0e44\\u0e27\", \"\\u0e44\\u0e27\", \"\\u0e44\\u0e27\", \"\\u0e44\\u0e27\", \"\\u0e44\\u0e27\", \"\\u0e44\\u0e27\", \"\\u0e44\\u0e27\\u0e15\\u0e32\\u0e21\\u0e34\\u0e25\\u0e04\\u0e4c\", \"\\u0e44\\u0e27\\u0e15\\u0e32\\u0e21\\u0e34\\u0e25\\u0e04\\u0e4c\", \"\\u0e44\\u0e27\\u0e15\\u0e32\\u0e21\\u0e34\\u0e25\\u0e04\\u0e4c\", \"\\u0e44\\u0e27\\u0e17\\u0e4c\", \"\\u0e44\\u0e27\\u0e17\\u0e4c\", \"\\u0e44\\u0e27\\u0e17\\u0e4c\", \"\\u0e44\\u0e2b\\u0e21\", \"\\u0e44\\u0e2b\\u0e21\", \"\\u0e44\\u0e2b\\u0e21\", \"\\u0e44\\u0e2b\\u0e21\", \"\\u0e44\\u0e2b\\u0e21\", \"\\u0e44\\u0e2b\\u0e21\", \"\\u0e44\\u0e2b\\u0e21\", \"\\u0e44\\u0e2b\\u0e21\", \"\\u0e44\\u0e2d\\u0e42\\u0e2d\\u0e14\\u0e35\\u0e19\", \"\\u0e46\\u0e46\\u0e46\\u0e46\\u0e46\\u0e46\\u0e46\", \"\\u0e46\\u0e46\\u0e46\\u0e46\\u0e46\\u0e46\\u0e46\\u0e46\\u0e46\\u0e46\\u0e46\\u0e46\\u0e46\\u0e46\\u0e46\\u0e46\\u0e46\\u0e46\\u0e46\"]}, \"R\": 40, \"lambda.step\": 0.05, \"plot.opts\": {\"xlab\": \"PC1\", \"ylab\": \"PC2\"}, \"topic.order\": [4, 1, 5, 2, 7, 6, 8, 3]};\n",
       "\n",
       "function LDAvis_load_lib(url, callback){\n",
       "  var s = document.createElement('script');\n",
       "  s.src = url;\n",
       "  s.async = true;\n",
       "  s.onreadystatechange = s.onload = callback;\n",
       "  s.onerror = function(){console.warn(\"failed to load library \" + url);};\n",
       "  document.getElementsByTagName(\"head\")[0].appendChild(s);\n",
       "}\n",
       "\n",
       "if(typeof(LDAvis) !== \"undefined\"){\n",
       "   // already loaded: just create the visualization\n",
       "   !function(LDAvis){\n",
       "       new LDAvis(\"#\" + \"ldavis_el315628016842211688463740303\", ldavis_el315628016842211688463740303_data);\n",
       "   }(LDAvis);\n",
       "}else if(typeof define === \"function\" && define.amd){\n",
       "   // require.js is available: use it to load d3/LDAvis\n",
       "   require.config({paths: {d3: \"https://cdnjs.cloudflare.com/ajax/libs/d3/3.5.5/d3.min\"}});\n",
       "   require([\"d3\"], function(d3){\n",
       "      window.d3 = d3;\n",
       "      LDAvis_load_lib(\"https://cdn.rawgit.com/bmabey/pyLDAvis/files/ldavis.v1.0.0.js\", function(){\n",
       "        new LDAvis(\"#\" + \"ldavis_el315628016842211688463740303\", ldavis_el315628016842211688463740303_data);\n",
       "      });\n",
       "    });\n",
       "}else{\n",
       "    // require.js not available: dynamically load d3 & LDAvis\n",
       "    LDAvis_load_lib(\"https://cdnjs.cloudflare.com/ajax/libs/d3/3.5.5/d3.min.js\", function(){\n",
       "         LDAvis_load_lib(\"https://cdn.rawgit.com/bmabey/pyLDAvis/files/ldavis.v1.0.0.js\", function(){\n",
       "                 new LDAvis(\"#\" + \"ldavis_el315628016842211688463740303\", ldavis_el315628016842211688463740303_data);\n",
       "            })\n",
       "         });\n",
       "}\n",
       "</script>"
      ],
      "text/plain": [
       "PreparedData(topic_coordinates=              x         y  topics  cluster       Freq\n",
       "topic                                                \n",
       "3     -0.039081  0.059029       1        1  38.430325\n",
       "0      0.027606  0.040527       2        1  11.916821\n",
       "4     -0.002741  0.030323       3        1  11.595761\n",
       "1     -0.008542  0.002421       4        1  10.952528\n",
       "6      0.056974 -0.002914       5        1   8.781860\n",
       "5      0.066017 -0.027352       6        1   8.533211\n",
       "7     -0.082700 -0.022632       7        1   6.000239\n",
       "2     -0.017532 -0.079402       8        1   3.789256, topic_info=      Term         Freq        Total Category  logprob  loglift\n",
       "24     กิน  4184.000000  4184.000000  Default  40.0000  40.0000\n",
       "51     ชอบ  1900.000000  1900.000000  Default  39.0000  39.0000\n",
       "40    ดื่ม  1153.000000  1153.000000  Default  38.0000  38.0000\n",
       "7       นม  6117.000000  6117.000000  Default  37.0000  37.0000\n",
       "31      ทำ  1656.000000  1656.000000  Default  36.0000  36.0000\n",
       "..     ...          ...          ...      ...      ...      ...\n",
       "180    รู้    28.829910   901.549938   Topic8  -5.6480  -0.1697\n",
       "646  นมวัว    26.541437   634.277566   Topic8  -5.7307   0.0992\n",
       "3      ขวด    26.483377   783.031268   Topic8  -5.7329  -0.1137\n",
       "242    ทาน    26.917594  1008.091130   Topic8  -5.7166  -0.3500\n",
       "546    แม่    25.755083  1579.219967   Topic8  -5.7608  -0.8431\n",
       "\n",
       "[853 rows x 6 columns], token_table=      Topic      Freq                 Term\n",
       "term                                      \n",
       "23        1  0.678158                     \n",
       "23        2  0.024932                     \n",
       "23        3  0.123237                     \n",
       "23        4  0.051645                     \n",
       "23        5  0.047549                     \n",
       "...     ...       ...                  ...\n",
       "88        7  0.061993                  ไหม\n",
       "88        8  0.091514                  ไหม\n",
       "8778      6  0.984411              ไอโอดีน\n",
       "9324      4  0.832732              ๆๆๆๆๆๆๆ\n",
       "9621      8  0.750040  ๆๆๆๆๆๆๆๆๆๆๆๆๆๆๆๆๆๆๆ\n",
       "\n",
       "[2156 rows x 3 columns], R=40, lambda_step=0.05, plot_opts={'xlab': 'PC1', 'ylab': 'PC2'}, topic_order=[4, 1, 5, 2, 7, 6, 8, 3])"
      ]
     },
     "execution_count": 27,
     "metadata": {},
     "output_type": "execute_result"
    }
   ],
   "source": [
    "pyLDAvis.gensim.prepare(model, gensim_corpus, dictionary, R=40, lambda_step=0.05)"
   ]
  },
  {
   "cell_type": "markdown",
   "metadata": {},
   "source": [
    "### แสดงคำในโมเดลในแต่ละ Lambda"
   ]
  },
  {
   "cell_type": "code",
   "execution_count": null,
   "metadata": {},
   "outputs": [],
   "source": []
  },
  {
   "cell_type": "code",
   "execution_count": null,
   "metadata": {},
   "outputs": [],
   "source": []
  },
  {
   "cell_type": "code",
   "execution_count": null,
   "metadata": {},
   "outputs": [],
   "source": []
  },
  {
   "cell_type": "code",
   "execution_count": null,
   "metadata": {},
   "outputs": [],
   "source": [
    "#Get the most relevant topics to the given word.\n",
    "# Set probability = 0.0001\n",
    "\n",
    "#def get_terms_topics(term_text, d, model, minProb=0.0001):\n",
    "#    listofTup = []\n",
    "#    for tt_couple in model.get_term_topics(dictionary.token2id[term_text], minimum_probability=minProb):\n",
    "#        id_, prob = tt_couple\n",
    "#        listofTup.append((d[id_], prob))\n",
    "#    df = pd.DataFrame(listofTup)\n",
    "#    df.insert(0,'Term',value=term_text)\n",
    "#    df.columns = ['Term','topic','prob']\n",
    "#    return df.sort_values(by='prob', ascending=False)"
   ]
  },
  {
   "cell_type": "code",
   "execution_count": null,
   "metadata": {},
   "outputs": [],
   "source": [
    "# องค์ประกอบพื้นฐาน ตาม master ที่ใช้ตัดคำ และ Generalized\n",
    "#get_terms_topics('ซื้อ',dictionary,model)\n",
    "#get_terms_topics('ขาย',dictionary,model)"
   ]
  },
  {
   "cell_type": "code",
   "execution_count": 54,
   "metadata": {},
   "outputs": [],
   "source": [
    "#Get the most relevant topics to the given word.\n",
    "# Set probability = 0.0001\n",
    "\n",
    "def get_topics_terms(topic, d, model):\n",
    "    listofTup = []\n",
    "    for tt_couple in model.get_topic_terms(topic, topn=10000):\n",
    "        id_, prob = tt_couple\n",
    "        listofTup.append((d[id_], prob))\n",
    "    df = pd.DataFrame(listofTup)\n",
    "    df.insert(0,'Topic',value=d[topic])\n",
    "    df.columns = ['Topic','term','prob']\n",
    "    return df.sort_values(by='prob', ascending=False)"
   ]
  },
  {
   "cell_type": "code",
   "execution_count": 55,
   "metadata": {
    "scrolled": true
   },
   "outputs": [],
   "source": [
    "# ไล่เช็คทีละ Topic โดยเลือกจาก Top100 Prob แต่ละกลุ่ม และดูตัวที่สนใจ (ตามทบทวนวรรณกรรม)\n",
    "# สุดที่ num_topics = 8 กลุ่ม\n",
    "\n",
    "for i in range(0,8):\n",
    "    if i ==0:\n",
    "        df = get_topics_terms(i, dictionary, model)\n",
    "    else:\n",
    "        df = df.append(get_topics_terms(i, dictionary, model))"
   ]
  },
  {
   "cell_type": "code",
   "execution_count": 58,
   "metadata": {},
   "outputs": [],
   "source": [
    "df.drop_duplicates(subset='term', keep='first', inplace=True, ignore_index=True)"
   ]
  },
  {
   "cell_type": "code",
   "execution_count": 59,
   "metadata": {},
   "outputs": [
    {
     "data": {
      "text/html": [
       "<div>\n",
       "<style scoped>\n",
       "    .dataframe tbody tr th:only-of-type {\n",
       "        vertical-align: middle;\n",
       "    }\n",
       "\n",
       "    .dataframe tbody tr th {\n",
       "        vertical-align: top;\n",
       "    }\n",
       "\n",
       "    .dataframe thead th {\n",
       "        text-align: right;\n",
       "    }\n",
       "</style>\n",
       "<table border=\"1\" class=\"dataframe\">\n",
       "  <thead>\n",
       "    <tr style=\"text-align: right;\">\n",
       "      <th></th>\n",
       "      <th>Topic</th>\n",
       "      <th>term</th>\n",
       "      <th>prob</th>\n",
       "    </tr>\n",
       "  </thead>\n",
       "  <tbody>\n",
       "    <tr>\n",
       "      <th>0</th>\n",
       "      <td>7-Eleven</td>\n",
       "      <td>นม</td>\n",
       "      <td>0.048794</td>\n",
       "    </tr>\n",
       "    <tr>\n",
       "      <th>1</th>\n",
       "      <td>7-Eleven</td>\n",
       "      <td>ไม่</td>\n",
       "      <td>0.031047</td>\n",
       "    </tr>\n",
       "    <tr>\n",
       "      <th>2</th>\n",
       "      <td>7-Eleven</td>\n",
       "      <td>ได้</td>\n",
       "      <td>0.021429</td>\n",
       "    </tr>\n",
       "    <tr>\n",
       "      <th>3</th>\n",
       "      <td>7-Eleven</td>\n",
       "      <td>กิน</td>\n",
       "      <td>0.012577</td>\n",
       "    </tr>\n",
       "    <tr>\n",
       "      <th>4</th>\n",
       "      <td>7-Eleven</td>\n",
       "      <td>นมสด</td>\n",
       "      <td>0.010745</td>\n",
       "    </tr>\n",
       "    <tr>\n",
       "      <th>...</th>\n",
       "      <td>...</td>\n",
       "      <td>...</td>\n",
       "      <td>...</td>\n",
       "    </tr>\n",
       "    <tr>\n",
       "      <th>14312</th>\n",
       "      <td>นม</td>\n",
       "      <td>ลำน้ำ</td>\n",
       "      <td>0.000011</td>\n",
       "    </tr>\n",
       "    <tr>\n",
       "      <th>14313</th>\n",
       "      <td>นม</td>\n",
       "      <td>กาล</td>\n",
       "      <td>0.000011</td>\n",
       "    </tr>\n",
       "    <tr>\n",
       "      <th>14314</th>\n",
       "      <td>นม</td>\n",
       "      <td>รดน้ำ</td>\n",
       "      <td>0.000011</td>\n",
       "    </tr>\n",
       "    <tr>\n",
       "      <th>14315</th>\n",
       "      <td>นม</td>\n",
       "      <td>กึ่กกก</td>\n",
       "      <td>0.000011</td>\n",
       "    </tr>\n",
       "    <tr>\n",
       "      <th>14316</th>\n",
       "      <td>นม</td>\n",
       "      <td>เดินสวน</td>\n",
       "      <td>0.000011</td>\n",
       "    </tr>\n",
       "  </tbody>\n",
       "</table>\n",
       "<p>14317 rows × 3 columns</p>\n",
       "</div>"
      ],
      "text/plain": [
       "          Topic     term      prob\n",
       "0      7-Eleven       นม  0.048794\n",
       "1      7-Eleven      ไม่  0.031047\n",
       "2      7-Eleven      ได้  0.021429\n",
       "3      7-Eleven      กิน  0.012577\n",
       "4      7-Eleven     นมสด  0.010745\n",
       "...         ...      ...       ...\n",
       "14312        นม    ลำน้ำ  0.000011\n",
       "14313        นม      กาล  0.000011\n",
       "14314        นม    รดน้ำ  0.000011\n",
       "14315        นม   กึ่กกก  0.000011\n",
       "14316        นม  เดินสวน  0.000011\n",
       "\n",
       "[14317 rows x 3 columns]"
      ]
     },
     "execution_count": 59,
     "metadata": {},
     "output_type": "execute_result"
    }
   ],
   "source": [
    "df"
   ]
  },
  {
   "cell_type": "code",
   "execution_count": 61,
   "metadata": {},
   "outputs": [],
   "source": [
    "df[['term','prob']].to_excel('uniqueText_Lev3.xlsx')"
   ]
  },
  {
   "cell_type": "markdown",
   "metadata": {},
   "source": [
    "สรุปคำที่จะนำมาเป็น Attribute (รวม link ที่เป็นเคสยกเว้น)"
   ]
  },
  {
   "cell_type": "code",
   "execution_count": 9,
   "metadata": {},
   "outputs": [],
   "source": [
    "execption_urls = ['https://pantip.com/topic/30833944','https://pantip.com/topic/30105850','https://pantip.com/topic/35439062']"
   ]
  },
  {
   "cell_type": "code",
   "execution_count": 10,
   "metadata": {},
   "outputs": [],
   "source": [
    "attrributes = ['hiq','lactose','เกินไป','เข้มข้น','เจ้าหน้าที่','เจือจาง','เด็ก','เต้าฮวย','เติบโต','เติม','เท','เนย','เนื้อ'\n",
    "               ,'เปรี้ยว','เปลี่ยนไป','เพื่อน','เมลาโทนิน','เย็น','เยี่ยม','เลี้ยง','เลี้ยงดู','เลี้ยงลูก','เวย์','เสี่ยง','แกลลอน','แก้ว','แข็งแรง','แคลเซียม','แคลเซี่ยม','แช่เย็น'\n",
    "               ,'แดรี่โฮม','แถม','แนะนำ','แพ้','แพ็ค','แพง','แพ้นม','แพ้นมวัว','แพะ','แฟน','แม่','แมว','โกโก้','โค','โฆษณา','โด๊ป','โปรโมชั่น','โปรตีน','โรงเรียน'\n",
    "               ,'โรงพยาบาล','โอเมก้า','ในประเทศ','ให้นม','ไขมัน','ไขมันต่ำ','ไม่ชอบ','ไม่อร่อย','ไอโอดีน','กระดูก','กรีก','กล้วย','กล่อง','กลัว','กลิ่น','กาแฟ'\n",
    "               ,'การผลิต','กิจกรรม','ข้น','ขวด','ครอบครัว','ครีม','คลอด','คลอดลูก','ความเจ็บปวด','ความมัน','ความร้อน','ความสุข','ค่าขนส่ง','คาว','คุณแม่'\n",
    "               ,'คุณค่า','คุณภาพ','คุ้ม','งาน','จิตรลดา','จืด','จุลินทรีย์','ชง','ชอบ','ชาเขียว','ชาไข่มุก','ชานมไข่มุก','ชิม','ซื้อ','ญี่ปุ่น','ดั้งเดิม','ต้ม','ตอนเช้า'\n",
    "               ,'ตอนกลางวัน','ตั้งครรภ์','ตั้งท้อง','ติดใจ','ตู้เย็น','ถ้วย','ท้อง','ท้องเสีย','ท้องผูก','นมเปรี้ยว','นมโคแท้','นมกล่อง','นมข้น','นมควาย','นมถั่วเหลือง'\n",
    "               ,'นมผง','นมวัว','นมสด','นอน','น้ำตาล','น้ำนม','น้ำนมโค','น้ำผลไม้','น้ำผึ้ง','บรรจุ','บริจาค','บูด','ปริมาณ','ปรุงแต่ง','ปลอดภัย','ปวดท้อง','ผง'\n",
    "               ,'ผลไม้','ผลิต','ผสม','ผัก','ผู้หญิง','ฝา','พกพา','พนักงาน','พยาบาล','พลังงาน','พ่อ','พาสเจอร์ไรส์','ฟาร์ม','มะนาว','มะพร้าว','มะลิ','มีประโยชน์'\n",
    "               ,'มีปัญหา','มีลูก','มื้อ','ยาคูลท์','รสกลมกล่อม','รสกาแฟ','รสจืด','รสชาติ','รสธรรมชาติ','รสหวาน','ราคาแพง','ร่างกาย','ร้าน','ลดราคา','ลอง','ลำไส้'\n",
    "               ,'ลูก','ลูกค้า','ลูกชาย','ลูกสาว','วัว','วิตามิน','ส่วนผสม','สะดวก','สารอาหาร','สิ่งแปลกปลอม','สีน้ำเงิน','สีส้ม','สุดยอด','สูตร','หมดอายุ','หมอ','หมา'\n",
    "               ,'หวาน','หอม','ห้าง','หางนม','หาซื้อ','อยากสูง','อร่อย','อ้วก','ออกกำลังกาย','อาหาร','อึ','อุณหภูมิ','อุ่น','ไขมันทรานส์','ดาราเดลี่','แดรี่ฟาร์ม','แดรี่ควีน'\n",
    "               ,'ยืดเส้นยืดสาย','ฟุตบอล','กระโดดเชือก','มวลกระดูก','ของแถม','ราคาสูง','บรรจุภัณฑ์','ความแข็งแรง','แข็งแรง','พรีเซ็นเตอร์','แลคโตส','ขายไม่ดี'\n",
    "               ,'แพคคู่','ค่าจัดส่ง','shelf life','พนักงานขายนม','ซื้อประจำ','หายาก','คุมอาหาร','นักวิ่ง','ร้านนมสด','ดูแลสุขภาพ','เจมส์ จิ','เจมส์จิ','ณเดช','ณเดชน์'\n",
    "               ,'อยากสูง','ส่วนสูง','สูงขึ้น','รักษามะเร็ง','รักษาเบาหวาน','ทำฟอง','ตีฟอง','โฟมนม','มื้อเช้า']\n",
    "\n",
    "stores = ['tops','makro','lotus','bigc','7-Eleven']\n",
    "\n",
    "products = ['สตรอว์เบอร์รี','ช็อกโกแลต','รสกาแฟ','รสหวาน','รสจืด','ไขมันต่ำ','ไขมัน 0%','ไฮโปรตีน','อัลมอนด์'\n",
    "                ,'รสกล้วย','grass fed','นมฟรีแลคโตส','เมจิโกลด์','นมฮอกไกโด','เบดไทม์','ดาร์คช็อกโกแลต','ไฮแคลเซียม'\n",
    "                ,'คาราเมล','มอลต์','เมล่อน','ชาเขียวมัจฉะ','บัลแกเรีย','รสธรรมชาติ','รสกลมกล่อม','ซากุระ','วิปครีม']\n",
    "\n",
    "milk_kind=['นม','นมข้น','นมจืด','นมสด','กินนม','ดื่มนม','ขวดนม','นมวัว','นมกล่อง','ผลิตภันท์นม','น้ำนมโค'\n",
    "                     ,'โยเกิร์ต','นมเปรี้ยว','uht','นมถั่วเหลือง','นมผง','พาสเจอร์ไรส์','nondairy','non dairy']\n",
    "\n",
    "#  EDA ใน Excel ได้ flavor 68 ตัว (ถ้าดึงยี่ห้ออื่นก็เพิ่มอีก)\n",
    "avai_flavs = ['เมจิเมจิโกลด์','เมจิเมล่อน','เมจิไขมัน 0%','เมจิไขมันต่ำ','เมจิไฮโปรตีน','เมจิช็อกโกแลต','เมจิชาเขียวมัจฉะ','เมจิดาร์คช็อกโกแลต'\n",
    " ,'เมจินมฟรีแลคโตส','เมจิบัลแกเรีย','เมจิมอลต์','เมจิรสกลมกล่อม','เมจิรสกล้วย','เมจิรกาแฟ','เมจิรสจืด','เมจิรสธรรมชาติ','เมจิรสหวาน'\n",
    " ,'เมจิสตรอว์เบอร์รี','เมจิอัลมอนด์','เอ็มมิลค์นมฟรีแลคโตส','เอ็มมิลค์รสจืด','แดรี่โฮมgrass fed','แดรี่โฮมเบดไทม์','แดรี่โฮมช็อกโกแลต'\n",
    " ,'แดรี่โฮมรสกล้วย','แดโฮมรสจืด','แดรี่โฮมรสหวาน','แดรี่โฮมสตรอว์เบอร์รี','แมคโนเลียไขมันต่ำ','แมคโนเลียช็อกโกแลต','แมคโนเลียรสจืด'\n",
    " ,'โชคชัยไขมันต่ำ','โชคชัยช็อกโกแลต','โชคชัยรสกาแฟ','โชคชัยรสจืด','โชคชัยสตรอว์เบอร์รี','ฟร์โมสต์ไขมัน 0%','โฟร์โมสต์ไขมันต่ำ'\n",
    " ,'โฟร์โมสต์คาราเมล','โฟร์โมสต์ช็อกโกแลต','โฟร์โมสต์รสกาแฟ','โฟร์โมสต์รสจืด','โฟร์โมสต์สตรอว์เบอร์รี','ไทยเดนมาร์คช็อกโกแลต'\n",
    " ,'ไทยเดนมาร์ครสกาแฟ','ไทยเดนมาร์ครสจืด','ไทยเดนมาร์ครสหวาน','ไทยเดนมาร์คสตรอว์เบอร์รี','คาเนชั่นรสจืด','จิตรลดาช็อกโกแลต'\n",
    " ,'จิตรลดารสจืด','จิตรลดารสหวาน','จิตรลดาสตรอว์เบอร์รี','ดัชมิลล์ไขมัน 0%','ดัชมิลล์ไขมันต่ำ','ดัชมิลล์ไฮโปรตีน','ดัชลล์อกกแลต'\n",
    " ,'ดัชมิลล์มอลต์','ดัชมิลล์รสกาแฟ','ดัชมิลล์รสจืด','ดัชมิลล์สตรอว์เบอร์รี','หนองโพไขมัน 0%','หนองโพไขมันต่ำ','หนองโพช็อกโกแลต'\n",
    " ,'หนองโพรสกาแฟ','หนองโพรสจืด','หนองโพรสหวาน','หนองโพสตรอว์เบอร์รี']\n",
    "\n",
    "reduceCol = attrributes + stores + products\n",
    "reduceCol_all = attrributes + stores + milk_kind + products"
   ]
  },
  {
   "cell_type": "code",
   "execution_count": 11,
   "metadata": {},
   "outputs": [
    {
     "name": "stdout",
     "output_type": "stream",
     "text": [
      "232\n",
      "263\n"
     ]
    }
   ],
   "source": [
    "print(len(attrributes))\n",
    "print(len(reduceCol))"
   ]
  },
  {
   "cell_type": "markdown",
   "metadata": {},
   "source": [
    "### 5.สร้าง (Reduce) Bag of word ด้วย dictionary.doc2bow จัดลง dataframe"
   ]
  },
  {
   "cell_type": "code",
   "execution_count": 12,
   "metadata": {},
   "outputs": [],
   "source": [
    "cursor_thread = col_thread.find()\n",
    "df_thr_process = pd.DataFrame(cursor_thread)\n",
    "cursor_comment = col_comment.find()\n",
    "df_cmt_process = pd.DataFrame(cursor_comment)"
   ]
  },
  {
   "cell_type": "code",
   "execution_count": 13,
   "metadata": {},
   "outputs": [],
   "source": [
    "# คัด headline ที่พูดถึง domain นม\n",
    "df_urls_milk = df_thr_process[(df_thr_process.t_mention_dairy.str.len() != 0) | (df_thr_process.URLs.isin(execption_urls))]\n",
    "#df_urls_milk = df_thr_process[(df_thr_process.URLs.isin(execption_urls))]"
   ]
  },
  {
   "cell_type": "code",
   "execution_count": 14,
   "metadata": {},
   "outputs": [],
   "source": [
    "# เมื่อ join กันแล้ว คอมเม้นทุกคอมเม้นจะอยู่ใน domain นมทั้งหมด\n",
    "df_join_url = pd.merge(df_urls_milk,df_cmt_process,how='inner',on='URLs')"
   ]
  },
  {
   "cell_type": "code",
   "execution_count": 15,
   "metadata": {},
   "outputs": [],
   "source": [
    "df_join_url.drop(columns=['_id_x','_id_y','headline_y'],inplace=True)\n",
    "df_join_url.rename(columns={\"headline_x\":\"headline\"},inplace=True)"
   ]
  },
  {
   "cell_type": "code",
   "execution_count": 16,
   "metadata": {},
   "outputs": [],
   "source": [
    "df_join_url['token_text_reduce'] = df_join_url['token_text'].apply(lambda x: reduced_keyword(x, reduceCol))"
   ]
  },
  {
   "cell_type": "markdown",
   "metadata": {},
   "source": [
    "### 6.ทำ Topic Modeling จาก Reduce BoW"
   ]
  },
  {
   "cell_type": "markdown",
   "metadata": {},
   "source": [
    "6.1 สร้าง Bag of word"
   ]
  },
  {
   "cell_type": "code",
   "execution_count": 28,
   "metadata": {},
   "outputs": [],
   "source": [
    "#dictionary = gensim.corpora.Dictionary(df_join_url['token_text_reduce'])\n",
    "#gensim_corpus = [dictionary.doc2bow(text, allow_update=True) for text in df_join_url['token_text_reduce']]\n",
    "#word_frequencies = [[(dictionary[id], frequence) for id, frequence in couple] for couple in gensim_corpus]\n",
    "#id2word = dictionary.id2token"
   ]
  },
  {
   "cell_type": "markdown",
   "metadata": {},
   "source": [
    "6.2 หา Optimal Dimension"
   ]
  },
  {
   "cell_type": "code",
   "execution_count": 18,
   "metadata": {},
   "outputs": [],
   "source": [
    "#mlp = r'E:/master_BADS/IS_BADS/Product-Position-SNA/mallet-2.0.8/'\n",
    "#mlp = r'D:/development_TestCase/Product-Position-SNA/mallet-2.0.8/'\n",
    "#import os\n",
    "#from gensim.models.wrappers import LdaMallet\n",
    "#from gensim.models import CoherenceModel\n",
    "#os.environ.update({'MALLET_HOME':mlp})"
   ]
  },
  {
   "cell_type": "code",
   "execution_count": 19,
   "metadata": {
    "scrolled": true
   },
   "outputs": [],
   "source": [
    "#mallet_path = \"D:/development_TestCase/Product-Position-SNA/mallet-2.0.8/bin/mallet\"\n",
    "#mallet_path = \"E:/master_BADS/IS_BADS/Product-Position-SNA/mallet-2.0.8/bin/mallet\"\n",
    "#limit=20; start=1; step=1;\n",
    "#coherence_values = []\n",
    "#model_list = []\n",
    "#for num_topics in range(start, limit, step):\n",
    "#    model = LdaMallet(mallet_path, corpus=gensim_corpus, num_topics=num_topics, id2word=id2word)\n",
    "#    model_list.append(model)\n",
    "#    coherencemodel = CoherenceModel(model=model, texts=df_join_url['token_text_reduce'], dictionary=dictionary, coherence='c_v')\n",
    "#    coherence_values.append(coherencemodel.get_coherence())"
   ]
  },
  {
   "cell_type": "code",
   "execution_count": 20,
   "metadata": {},
   "outputs": [],
   "source": [
    "#coherence_values"
   ]
  },
  {
   "cell_type": "code",
   "execution_count": 21,
   "metadata": {},
   "outputs": [],
   "source": [
    "#model.show_topics(formatted=False)"
   ]
  },
  {
   "cell_type": "code",
   "execution_count": 29,
   "metadata": {},
   "outputs": [],
   "source": [
    "# Show graph\n",
    "#x = range(start, limit, step)\n",
    "#plt.plot(x, coherence_values)\n",
    "#plt.xlabel(\"Num Topics\")\n",
    "#plt.ylabel(\"Coherence score\")\n",
    "#plt.legend((\"coherence_values\"), loc='best')\n",
    "#plt.show()"
   ]
  },
  {
   "cell_type": "code",
   "execution_count": 30,
   "metadata": {},
   "outputs": [],
   "source": [
    "# Print the coherence scores\n",
    "#for m, cv in zip(x, coherence_values):\n",
    "#    print(\"Num Topics =\", m, \" has Coherence Value of\", round(cv, 4))"
   ]
  },
  {
   "cell_type": "markdown",
   "metadata": {},
   "source": [
    "6.3 สร้าง LdaModel ตามกลุ่มที่หาได้"
   ]
  },
  {
   "cell_type": "code",
   "execution_count": 31,
   "metadata": {},
   "outputs": [],
   "source": [
    "#num_topics = 9\n",
    "#chunksize = 6000                  # size of the doc looked at every pass\n",
    "#iterations = 50\n",
    "#eval_every = 1                    # Don't evaluate model perplexity, takes too much time.\n",
    "\n",
    "# Make a index to word dictionary.\n",
    "#id2word = dictionary.id2token\n",
    "\n",
    "#%time model = gensim.models.LdaModel(corpus=gensim_corpus, id2word=id2word, chunksize=chunksize \\\n",
    "#                                     ,alpha='auto', eta='auto',iterations=iterations \\\n",
    "#                                     ,num_topics=num_topics \\\n",
    "#                                     , eval_every=eval_every)"
   ]
  },
  {
   "cell_type": "code",
   "execution_count": 32,
   "metadata": {},
   "outputs": [],
   "source": [
    "#pyLDAvis.gensim.prepare(model, gensim_corpus, dictionary, R=40, lambda_step=0.1)\n",
    "#pyLDAvis.gensim.prepare(model, gensim_corpus, dictionary, R=40, lambda_step=0.1, mds='tsne')"
   ]
  },
  {
   "cell_type": "code",
   "execution_count": 56,
   "metadata": {},
   "outputs": [
    {
     "name": "stderr",
     "output_type": "stream",
     "text": [
      "C:\\ProgramData\\Anaconda3\\lib\\site-packages\\ipykernel_launcher.py:3: FutureWarning: Passing a negative integer is deprecated in version 1.0 and will not be supported in future version. Instead, use None to not limit the column width.\n",
      "  This is separate from the ipykernel package so we can avoid doing imports until\n"
     ]
    },
    {
     "data": {
      "text/html": [
       "<div>\n",
       "<style scoped>\n",
       "    .dataframe tbody tr th:only-of-type {\n",
       "        vertical-align: middle;\n",
       "    }\n",
       "\n",
       "    .dataframe tbody tr th {\n",
       "        vertical-align: top;\n",
       "    }\n",
       "\n",
       "    .dataframe thead th {\n",
       "        text-align: right;\n",
       "    }\n",
       "</style>\n",
       "<table border=\"1\" class=\"dataframe\">\n",
       "  <thead>\n",
       "    <tr style=\"text-align: right;\">\n",
       "      <th></th>\n",
       "      <th>Terms per Topic</th>\n",
       "    </tr>\n",
       "  </thead>\n",
       "  <tbody>\n",
       "    <tr>\n",
       "      <th>Topic1</th>\n",
       "      <td>เด็ก, อร่อย, ชอบ, ผสม, จืด, พ่อ, แม่, วัว, หอม, รสหวาน, โรงเรียน, ซื้อ, ผลิต, นมกล่อง, นมวัว, พาสเจอร์ไรส์, ช็อกโกแลต, รสชาติ, กลิ่น, แมว</td>\n",
       "    </tr>\n",
       "    <tr>\n",
       "      <th>Topic2</th>\n",
       "      <td>กล่อง, นมสด, ชอบ, ไขมัน, น้ำตาล, โค, นมผง, ผสม, ร้าน, ซื้อ, ขวด, อาหาร, ไขมันต่ำ, จืด, ช็อกโกแลต, ผง, เด็ก, พนักงาน, พาสเจอร์ไรส์, หวาน</td>\n",
       "    </tr>\n",
       "    <tr>\n",
       "      <th>Topic3</th>\n",
       "      <td>ลูก, แม่, ลอง, เด็ก, นมผง, โปรตีน, ชอบ, นอน, มีลูก, หมอ, คลอด, คุณแม่, กลัว, นมวัว, เลี้ยงลูก, ซื้อ, เลี้ยง, สารอาหาร, ให้นม, กลิ่น</td>\n",
       "    </tr>\n",
       "    <tr>\n",
       "      <th>Topic4</th>\n",
       "      <td>ท้อง, ลูก, อาหาร, โปรตีน, ท้องเสีย, แพ้, ชอบ, แคลเซียม, นมวัว, นมถั่วเหลือง, นมเปรี้ยว, รสชาติ, ร่างกาย, ปริมาณ, เนื้อ, น้ำตาล, สารอาหาร, แม่, ไขมัน, จืด</td>\n",
       "    </tr>\n",
       "    <tr>\n",
       "      <th>Topic5</th>\n",
       "      <td>ชอบ, กาแฟ, อร่อย, ลอง, หอม, สูตร, เข้มข้น, ซื้อ, เด็ก, ลูกค้า, หวาน, กล่อง, สตรอว์เบอร์รี, เลี้ยงดู, แนะนำ, รสกาแฟ, 7-Eleven, ญี่ปุ่น, โปรโมชั่น, รสธรรมชาติ</td>\n",
       "    </tr>\n",
       "    <tr>\n",
       "      <th>Topic6</th>\n",
       "      <td>แม่, งาน, ฝา, ฟาร์ม, กลิ่น, เพื่อน, รสหวาน, เด็ก, โฆษณา, นมผง, มะลิ, ขวด, ชอบ, ครอบครัว, เลี้ยง, ชง, หอม, นมวัว, วัว, แนะนำ</td>\n",
       "    </tr>\n",
       "    <tr>\n",
       "      <th>Topic7</th>\n",
       "      <td>ซื้อ, ขวด, จิตรลดา, กล่อง, 7-Eleven, แก้ว, ลอง, ชอบ, ห้าง, เท, อร่อย, หมอ, นอน, นมผง, แพ็ค, นมกล่อง, แพง, ลูก, จุลินทรีย์, พาสเจอร์ไรส์</td>\n",
       "    </tr>\n",
       "    <tr>\n",
       "      <th>Topic8</th>\n",
       "      <td>อร่อย, ชอบ, รสจืด, นมวัว, ลอง, ซื้อ, กล่อง, แพง, ช็อกโกแลต, อาหาร, รสชาติ, นมกล่อง, กลัว, หวาน, มีปัญหา, คุณค่า, นมถั่วเหลือง, แนะนำ, ไขมันต่ำ, สีน้ำเงิน</td>\n",
       "    </tr>\n",
       "    <tr>\n",
       "      <th>Topic9</th>\n",
       "      <td>นมผง, นมสด, กล่อง, หวาน, จืด, น้ำตาล, เติม, ชอบ, รสชาติ, น้ำนม, ลอง, ผสม, โค, ครีม, สูตร, ร้าน, สารอาหาร, ร่างกาย, กาแฟ, นมข้น</td>\n",
       "    </tr>\n",
       "  </tbody>\n",
       "</table>\n",
       "</div>"
      ],
      "text/plain": [
       "                                                                                                                                                     Terms per Topic\n",
       "Topic1  เด็ก, อร่อย, ชอบ, ผสม, จืด, พ่อ, แม่, วัว, หอม, รสหวาน, โรงเรียน, ซื้อ, ผลิต, นมกล่อง, นมวัว, พาสเจอร์ไรส์, ช็อกโกแลต, รสชาติ, กลิ่น, แมว                   \n",
       "Topic2  กล่อง, นมสด, ชอบ, ไขมัน, น้ำตาล, โค, นมผง, ผสม, ร้าน, ซื้อ, ขวด, อาหาร, ไขมันต่ำ, จืด, ช็อกโกแลต, ผง, เด็ก, พนักงาน, พาสเจอร์ไรส์, หวาน                     \n",
       "Topic3  ลูก, แม่, ลอง, เด็ก, นมผง, โปรตีน, ชอบ, นอน, มีลูก, หมอ, คลอด, คุณแม่, กลัว, นมวัว, เลี้ยงลูก, ซื้อ, เลี้ยง, สารอาหาร, ให้นม, กลิ่น                         \n",
       "Topic4  ท้อง, ลูก, อาหาร, โปรตีน, ท้องเสีย, แพ้, ชอบ, แคลเซียม, นมวัว, นมถั่วเหลือง, นมเปรี้ยว, รสชาติ, ร่างกาย, ปริมาณ, เนื้อ, น้ำตาล, สารอาหาร, แม่, ไขมัน, จืด   \n",
       "Topic5  ชอบ, กาแฟ, อร่อย, ลอง, หอม, สูตร, เข้มข้น, ซื้อ, เด็ก, ลูกค้า, หวาน, กล่อง, สตรอว์เบอร์รี, เลี้ยงดู, แนะนำ, รสกาแฟ, 7-Eleven, ญี่ปุ่น, โปรโมชั่น, รสธรรมชาติ\n",
       "Topic6  แม่, งาน, ฝา, ฟาร์ม, กลิ่น, เพื่อน, รสหวาน, เด็ก, โฆษณา, นมผง, มะลิ, ขวด, ชอบ, ครอบครัว, เลี้ยง, ชง, หอม, นมวัว, วัว, แนะนำ                                 \n",
       "Topic7  ซื้อ, ขวด, จิตรลดา, กล่อง, 7-Eleven, แก้ว, ลอง, ชอบ, ห้าง, เท, อร่อย, หมอ, นอน, นมผง, แพ็ค, นมกล่อง, แพง, ลูก, จุลินทรีย์, พาสเจอร์ไรส์                     \n",
       "Topic8  อร่อย, ชอบ, รสจืด, นมวัว, ลอง, ซื้อ, กล่อง, แพง, ช็อกโกแลต, อาหาร, รสชาติ, นมกล่อง, กลัว, หวาน, มีปัญหา, คุณค่า, นมถั่วเหลือง, แนะนำ, ไขมันต่ำ, สีน้ำเงิน   \n",
       "Topic9  นมผง, นมสด, กล่อง, หวาน, จืด, น้ำตาล, เติม, ชอบ, รสชาติ, น้ำนม, ลอง, ผสม, โค, ครีม, สูตร, ร้าน, สารอาหาร, ร่างกาย, กาแฟ, นมข้น                              "
      ]
     },
     "execution_count": 56,
     "metadata": {},
     "output_type": "execute_result"
    }
   ],
   "source": [
    "topics = [[(term, round(wt, 3)) for term, wt in model.show_topic(n, topn=20)] for n in range(0, model.num_topics)]\n",
    "# set column width\n",
    "pd.set_option('display.max_colwidth', -1)\n",
    "topics_df = pd.DataFrame([', '.join([term for term, wt in topic]) for topic in topics], columns = ['Terms per Topic'], index=['Topic'+str(t) for t in range(1, model.num_topics+1)] )\n",
    "topics_df"
   ]
  },
  {
   "cell_type": "code",
   "execution_count": null,
   "metadata": {},
   "outputs": [],
   "source": []
  }
 ],
 "metadata": {
  "colab": {
   "collapsed_sections": [
    "EpwX95XlTCdl",
    "_Q9pU1J6TCe5",
    "NKW--A73mzli",
    "uBBA36fDTCfZ",
    "O8nlNNE4TCfj"
   ],
   "name": "EDA_Token_CoocMat.ipynb",
   "provenance": []
  },
  "kernelspec": {
   "display_name": "Python 3",
   "language": "python",
   "name": "python3"
  },
  "language_info": {
   "codemirror_mode": {
    "name": "ipython",
    "version": 3
   },
   "file_extension": ".py",
   "mimetype": "text/x-python",
   "name": "python",
   "nbconvert_exporter": "python",
   "pygments_lexer": "ipython3",
   "version": "3.7.3"
  }
 },
 "nbformat": 4,
 "nbformat_minor": 1
}
