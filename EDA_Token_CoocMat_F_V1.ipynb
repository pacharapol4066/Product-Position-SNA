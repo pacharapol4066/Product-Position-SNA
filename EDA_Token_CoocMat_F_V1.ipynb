{
 "cells": [
  {
   "cell_type": "markdown",
   "metadata": {
    "id": "xoY8sy40TCb5"
   },
   "source": [
    "### IS Proof of concept"
   ]
  },
  {
   "cell_type": "code",
   "execution_count": null,
   "metadata": {
    "colab": {
     "base_uri": "https://localhost:8080/"
    },
    "executionInfo": {
     "elapsed": 28353,
     "status": "ok",
     "timestamp": 1604024868503,
     "user": {
      "displayName": "Pacharapol O.",
      "photoUrl": "https://lh3.googleusercontent.com/a-/AOh14GiBNaVjsCxoMVUqEvSDC7eauF0V2ZD7B-TzevR1TQ=s64",
      "userId": "00378494490135533545"
     },
     "user_tz": -420
    },
    "id": "GkBEUBUqTGuf",
    "outputId": "cb22db45-820a-48fd-c11a-a0568439778f"
   },
   "outputs": [],
   "source": [
    "from google.colab import drive\n",
    "drive.mount('/content/drive')"
   ]
  },
  {
   "cell_type": "code",
   "execution_count": null,
   "metadata": {
    "colab": {
     "base_uri": "https://localhost:8080/"
    },
    "executionInfo": {
     "elapsed": 1693,
     "status": "ok",
     "timestamp": 1604024868819,
     "user": {
      "displayName": "Pacharapol O.",
      "photoUrl": "https://lh3.googleusercontent.com/a-/AOh14GiBNaVjsCxoMVUqEvSDC7eauF0V2ZD7B-TzevR1TQ=s64",
      "userId": "00378494490135533545"
     },
     "user_tz": -420
    },
    "id": "_5mrzpx3TH9K",
    "outputId": "129bb192-4ac2-4b03-bc89-7ee7a65d5032"
   },
   "outputs": [],
   "source": [
    "cd /content/drive/My\\ Drive/Colab\\ Notebooks/Master_PJ_DRMABS/Datasource"
   ]
  },
  {
   "cell_type": "code",
   "execution_count": null,
   "metadata": {
    "executionInfo": {
     "elapsed": 2631,
     "status": "ok",
     "timestamp": 1604024879769,
     "user": {
      "displayName": "Pacharapol O.",
      "photoUrl": "https://lh3.googleusercontent.com/a-/AOh14GiBNaVjsCxoMVUqEvSDC7eauF0V2ZD7B-TzevR1TQ=s64",
      "userId": "00378494490135533545"
     },
     "user_tz": -420
    },
    "id": "cC0cBdCdTCb6"
   },
   "outputs": [],
   "source": [
    "import networkx as nx\n",
    "import numpy as np\n",
    "import pandas as pd\n",
    "import itertools\n",
    "import math\n",
    "import string\n",
    "import re"
   ]
  },
  {
   "cell_type": "code",
   "execution_count": null,
   "metadata": {
    "executionInfo": {
     "elapsed": 2031,
     "status": "ok",
     "timestamp": 1604024879770,
     "user": {
      "displayName": "Pacharapol O.",
      "photoUrl": "https://lh3.googleusercontent.com/a-/AOh14GiBNaVjsCxoMVUqEvSDC7eauF0V2ZD7B-TzevR1TQ=s64",
      "userId": "00378494490135533545"
     },
     "user_tz": -420
    },
    "id": "1kqXURiiTCb-"
   },
   "outputs": [],
   "source": [
    "import time\n",
    "from datetime import datetime\n",
    "today = datetime.now()"
   ]
  },
  {
   "cell_type": "code",
   "execution_count": null,
   "metadata": {
    "executionInfo": {
     "elapsed": 2761,
     "status": "ok",
     "timestamp": 1604024880968,
     "user": {
      "displayName": "Pacharapol O.",
      "photoUrl": "https://lh3.googleusercontent.com/a-/AOh14GiBNaVjsCxoMVUqEvSDC7eauF0V2ZD7B-TzevR1TQ=s64",
      "userId": "00378494490135533545"
     },
     "user_tz": -420
    },
    "id": "qs8FE9UOTCcC"
   },
   "outputs": [],
   "source": [
    "import nltk\n",
    "from nltk import bigrams\n",
    "import collections"
   ]
  },
  {
   "cell_type": "code",
   "execution_count": null,
   "metadata": {
    "colab": {
     "base_uri": "https://localhost:8080/"
    },
    "executionInfo": {
     "elapsed": 3451,
     "status": "ok",
     "timestamp": 1604028167896,
     "user": {
      "displayName": "Pacharapol O.",
      "photoUrl": "https://lh3.googleusercontent.com/a-/AOh14GiBNaVjsCxoMVUqEvSDC7eauF0V2ZD7B-TzevR1TQ=s64",
      "userId": "00378494490135533545"
     },
     "user_tz": -420
    },
    "id": "weEcXSD8TCcI",
    "outputId": "1219680e-0d54-4649-a26e-535e112f0650"
   },
   "outputs": [],
   "source": [
    "#!pip install pythainlp\n",
    "import pythainlp\n",
    "from pythainlp import Tokenizer\n",
    "from pythainlp.util import normalize\n",
    "from pythainlp.tokenize import word_tokenize\n",
    "from pythainlp.corpus.common import thai_words\n",
    "from pythainlp import sent_tokenize\n",
    "from pythainlp.corpus import thai_stopwords\n",
    "from pythainlp.util import dict_trie\n",
    "from pythainlp.tag import pos_tag"
   ]
  },
  {
   "cell_type": "code",
   "execution_count": null,
   "metadata": {
    "executionInfo": {
     "elapsed": 6121,
     "status": "ok",
     "timestamp": 1604024888335,
     "user": {
      "displayName": "Pacharapol O.",
      "photoUrl": "https://lh3.googleusercontent.com/a-/AOh14GiBNaVjsCxoMVUqEvSDC7eauF0V2ZD7B-TzevR1TQ=s64",
      "userId": "00378494490135533545"
     },
     "user_tz": -420
    },
    "id": "acWWFhczTCcO"
   },
   "outputs": [],
   "source": [
    "from bs4 import BeautifulSoup\n",
    "from urllib.request import urlopen"
   ]
  },
  {
   "cell_type": "code",
   "execution_count": null,
   "metadata": {
    "executionInfo": {
     "elapsed": 5596,
     "status": "ok",
     "timestamp": 1604024888336,
     "user": {
      "displayName": "Pacharapol O.",
      "photoUrl": "https://lh3.googleusercontent.com/a-/AOh14GiBNaVjsCxoMVUqEvSDC7eauF0V2ZD7B-TzevR1TQ=s64",
      "userId": "00378494490135533545"
     },
     "user_tz": -420
    },
    "id": "l0SZe4-LTCcd"
   },
   "outputs": [],
   "source": [
    "from IPython.display import clear_output"
   ]
  },
  {
   "cell_type": "code",
   "execution_count": null,
   "metadata": {
    "executionInfo": {
     "elapsed": 831,
     "status": "ok",
     "timestamp": 1604027698593,
     "user": {
      "displayName": "Pacharapol O.",
      "photoUrl": "https://lh3.googleusercontent.com/a-/AOh14GiBNaVjsCxoMVUqEvSDC7eauF0V2ZD7B-TzevR1TQ=s64",
      "userId": "00378494490135533545"
     },
     "user_tz": -420
    },
    "id": "sna_e7nATCch"
   },
   "outputs": [],
   "source": [
    "# Files definition\n",
    "root_path = 'Datasource'\n",
    "\n",
    "comment_file = []\n",
    "comment_file.append(root_path+\"/comment_meiji.csv\")\n",
    "comment_file.append(root_path+\"/comment_DDCF.csv\")\n",
    "\n",
    "#comment_file = []\n",
    "#comment_file.append(\"comment_meiji.csv\")\n",
    "#comment_file.append(\"comment_DDCF.csv\")\n",
    "\n",
    "comment_nlp_file = root_path+\"/comment_nlpToken.csv\"\n",
    "comment_cooc_nlp_file = root_path+\"/comment_cooc.xlsx\"\n",
    "\n",
    "#comment_nlp_file = \"comment_nlpToken.csv\"\n",
    "#comment_cooc_nlp_file = \"comment_cooc.xlsx\""
   ]
  },
  {
   "cell_type": "markdown",
   "metadata": {
    "id": "wlnotsqqTCcl"
   },
   "source": [
    "### Clean data & NLP Tokenized"
   ]
  },
  {
   "cell_type": "code",
   "execution_count": null,
   "metadata": {
    "executionInfo": {
     "elapsed": 2677,
     "status": "ok",
     "timestamp": 1604027704431,
     "user": {
      "displayName": "Pacharapol O.",
      "photoUrl": "https://lh3.googleusercontent.com/a-/AOh14GiBNaVjsCxoMVUqEvSDC7eauF0V2ZD7B-TzevR1TQ=s64",
      "userId": "00378494490135533545"
     },
     "user_tz": -420
    },
    "id": "VXYRZDubTCcm"
   },
   "outputs": [],
   "source": [
    "df_textList1 = pd.read_csv(comment_file[0],header=None)\n",
    "df_textList2 = pd.read_csv(comment_file[1],header=None)"
   ]
  },
  {
   "cell_type": "code",
   "execution_count": null,
   "metadata": {
    "executionInfo": {
     "elapsed": 1168,
     "status": "ok",
     "timestamp": 1604027707570,
     "user": {
      "displayName": "Pacharapol O.",
      "photoUrl": "https://lh3.googleusercontent.com/a-/AOh14GiBNaVjsCxoMVUqEvSDC7eauF0V2ZD7B-TzevR1TQ=s64",
      "userId": "00378494490135533545"
     },
     "user_tz": -420
    },
    "id": "2Lc6T0oATCcp"
   },
   "outputs": [],
   "source": [
    "df_textList1.insert(0,'Table','Meiji')\n",
    "df_textList1.columns = ['Table','URLs', 'text', 'Retrived date']"
   ]
  },
  {
   "cell_type": "code",
   "execution_count": null,
   "metadata": {
    "executionInfo": {
     "elapsed": 718,
     "status": "ok",
     "timestamp": 1604027707571,
     "user": {
      "displayName": "Pacharapol O.",
      "photoUrl": "https://lh3.googleusercontent.com/a-/AOh14GiBNaVjsCxoMVUqEvSDC7eauF0V2ZD7B-TzevR1TQ=s64",
      "userId": "00378494490135533545"
     },
     "user_tz": -420
    },
    "id": "n4jarvmsTCct"
   },
   "outputs": [],
   "source": [
    "df_textList2.insert(0,'Table','DDFC')\n",
    "df_textList2.columns = ['Table','URLs', 'text', 'Retrived date']"
   ]
  },
  {
   "cell_type": "code",
   "execution_count": null,
   "metadata": {
    "colab": {
     "base_uri": "https://localhost:8080/",
     "height": 79
    },
    "executionInfo": {
     "elapsed": 1043,
     "status": "ok",
     "timestamp": 1604027708520,
     "user": {
      "displayName": "Pacharapol O.",
      "photoUrl": "https://lh3.googleusercontent.com/a-/AOh14GiBNaVjsCxoMVUqEvSDC7eauF0V2ZD7B-TzevR1TQ=s64",
      "userId": "00378494490135533545"
     },
     "user_tz": -420
    },
    "id": "594kVpigTCcv",
    "outputId": "44e651f1-4657-4a83-f483-a33998995e6b"
   },
   "outputs": [],
   "source": [
    "pd.DataFrame(df_textList1.URLs.value_counts()).describe().T"
   ]
  },
  {
   "cell_type": "code",
   "execution_count": null,
   "metadata": {
    "colab": {
     "base_uri": "https://localhost:8080/"
    },
    "executionInfo": {
     "elapsed": 853,
     "status": "ok",
     "timestamp": 1604027711587,
     "user": {
      "displayName": "Pacharapol O.",
      "photoUrl": "https://lh3.googleusercontent.com/a-/AOh14GiBNaVjsCxoMVUqEvSDC7eauF0V2ZD7B-TzevR1TQ=s64",
      "userId": "00378494490135533545"
     },
     "user_tz": -420
    },
    "id": "DKbN38AzTCc0",
    "outputId": "f1bafe8c-19c9-4b52-dbb7-faafb7726901"
   },
   "outputs": [],
   "source": [
    "print('meiji comment:',df_textList1.shape[0])\n",
    "print('meiji URLs ก่อนตัด:',len(df_textList1.URLs.unique()))"
   ]
  },
  {
   "cell_type": "code",
   "execution_count": null,
   "metadata": {
    "colab": {
     "base_uri": "https://localhost:8080/",
     "height": 79
    },
    "executionInfo": {
     "elapsed": 906,
     "status": "ok",
     "timestamp": 1604027713588,
     "user": {
      "displayName": "Pacharapol O.",
      "photoUrl": "https://lh3.googleusercontent.com/a-/AOh14GiBNaVjsCxoMVUqEvSDC7eauF0V2ZD7B-TzevR1TQ=s64",
      "userId": "00378494490135533545"
     },
     "user_tz": -420
    },
    "id": "oJKpaP0xTCc4",
    "outputId": "7705fefd-637c-4533-b001-5016a317c45b"
   },
   "outputs": [],
   "source": [
    "pd.DataFrame(df_textList2.URLs.value_counts()).describe().T"
   ]
  },
  {
   "cell_type": "code",
   "execution_count": null,
   "metadata": {
    "colab": {
     "base_uri": "https://localhost:8080/"
    },
    "executionInfo": {
     "elapsed": 887,
     "status": "ok",
     "timestamp": 1604027715137,
     "user": {
      "displayName": "Pacharapol O.",
      "photoUrl": "https://lh3.googleusercontent.com/a-/AOh14GiBNaVjsCxoMVUqEvSDC7eauF0V2ZD7B-TzevR1TQ=s64",
      "userId": "00378494490135533545"
     },
     "user_tz": -420
    },
    "id": "wGrNn6b4TCc7",
    "outputId": "df1d8a4a-b8ea-45d8-99e8-65aa6e8178bb"
   },
   "outputs": [],
   "source": [
    "print('DDCF comment:',df_textList2.shape[0])\n",
    "print('DDCF URLs ก่อนตัด:',len(df_textList2.URLs.unique()))"
   ]
  },
  {
   "cell_type": "code",
   "execution_count": null,
   "metadata": {
    "executionInfo": {
     "elapsed": 1076,
     "status": "ok",
     "timestamp": 1604027716129,
     "user": {
      "displayName": "Pacharapol O.",
      "photoUrl": "https://lh3.googleusercontent.com/a-/AOh14GiBNaVjsCxoMVUqEvSDC7eauF0V2ZD7B-TzevR1TQ=s64",
      "userId": "00378494490135533545"
     },
     "user_tz": -420
    },
    "id": "7IxgQQhCTCc_"
   },
   "outputs": [],
   "source": [
    "# Merge df_textList1,df_textList2\n",
    "df_Corpus = pd.concat([df_textList1,df_textList2],ignore_index=True)"
   ]
  },
  {
   "cell_type": "code",
   "execution_count": null,
   "metadata": {
    "colab": {
     "base_uri": "https://localhost:8080/"
    },
    "executionInfo": {
     "elapsed": 885,
     "status": "ok",
     "timestamp": 1604027718134,
     "user": {
      "displayName": "Pacharapol O.",
      "photoUrl": "https://lh3.googleusercontent.com/a-/AOh14GiBNaVjsCxoMVUqEvSDC7eauF0V2ZD7B-TzevR1TQ=s64",
      "userId": "00378494490135533545"
     },
     "user_tz": -420
    },
    "id": "Xf0_nwz8TCdB",
    "outputId": "d39ed4de-8549-4488-d8c5-04e62e8a4dfd"
   },
   "outputs": [],
   "source": [
    "print('All comment:',df_Corpus.shape[0])\n",
    "print('All URLs ก่อนตัด:',len(df_Corpus.URLs.unique()))"
   ]
  },
  {
   "cell_type": "code",
   "execution_count": null,
   "metadata": {
    "colab": {
     "base_uri": "https://localhost:8080/"
    },
    "executionInfo": {
     "elapsed": 1032,
     "status": "ok",
     "timestamp": 1604027719151,
     "user": {
      "displayName": "Pacharapol O.",
      "photoUrl": "https://lh3.googleusercontent.com/a-/AOh14GiBNaVjsCxoMVUqEvSDC7eauF0V2ZD7B-TzevR1TQ=s64",
      "userId": "00378494490135533545"
     },
     "user_tz": -420
    },
    "id": "vRH0T2gLTCdE",
    "outputId": "0722d375-5945-44d8-bc71-f39dcc58a0e9"
   },
   "outputs": [],
   "source": [
    "missing = df_Corpus.isnull().sum()\n",
    "print(missing)"
   ]
  },
  {
   "cell_type": "code",
   "execution_count": null,
   "metadata": {
    "colab": {
     "base_uri": "https://localhost:8080/",
     "height": 202
    },
    "executionInfo": {
     "elapsed": 828,
     "status": "ok",
     "timestamp": 1604027721340,
     "user": {
      "displayName": "Pacharapol O.",
      "photoUrl": "https://lh3.googleusercontent.com/a-/AOh14GiBNaVjsCxoMVUqEvSDC7eauF0V2ZD7B-TzevR1TQ=s64",
      "userId": "00378494490135533545"
     },
     "user_tz": -420
    },
    "id": "LXg1m0eoTCdK",
    "outputId": "567e2a04-8322-4104-9f68-6d509815fd24"
   },
   "outputs": [],
   "source": [
    "df_Corpus.tail()"
   ]
  },
  {
   "cell_type": "code",
   "execution_count": null,
   "metadata": {
    "executionInfo": {
     "elapsed": 1006,
     "status": "ok",
     "timestamp": 1604027723160,
     "user": {
      "displayName": "Pacharapol O.",
      "photoUrl": "https://lh3.googleusercontent.com/a-/AOh14GiBNaVjsCxoMVUqEvSDC7eauF0V2ZD7B-TzevR1TQ=s64",
      "userId": "00378494490135533545"
     },
     "user_tz": -420
    },
    "id": "_O0BSe9ETCdO"
   },
   "outputs": [],
   "source": [
    "seqNum = list(range(1,df_Corpus.shape[0]+1))\n",
    "df_Corpus.insert(0,'commentId',seqNum)\n",
    "df_Corpus.columns = ['commentId','Table','URLs', 'text', 'Retrived date']"
   ]
  },
  {
   "cell_type": "code",
   "execution_count": null,
   "metadata": {
    "colab": {
     "base_uri": "https://localhost:8080/",
     "height": 202
    },
    "executionInfo": {
     "elapsed": 811,
     "status": "ok",
     "timestamp": 1604027724691,
     "user": {
      "displayName": "Pacharapol O.",
      "photoUrl": "https://lh3.googleusercontent.com/a-/AOh14GiBNaVjsCxoMVUqEvSDC7eauF0V2ZD7B-TzevR1TQ=s64",
      "userId": "00378494490135533545"
     },
     "user_tz": -420
    },
    "id": "w-muagoxTCdR",
    "outputId": "a8afe33d-943b-422e-838d-ba8514e9497d"
   },
   "outputs": [],
   "source": [
    "df_Corpus.tail()"
   ]
  },
  {
   "cell_type": "code",
   "execution_count": null,
   "metadata": {
    "executionInfo": {
     "elapsed": 1166,
     "status": "ok",
     "timestamp": 1604027727940,
     "user": {
      "displayName": "Pacharapol O.",
      "photoUrl": "https://lh3.googleusercontent.com/a-/AOh14GiBNaVjsCxoMVUqEvSDC7eauF0V2ZD7B-TzevR1TQ=s64",
      "userId": "00378494490135533545"
     },
     "user_tz": -420
    },
    "id": "jZFN_aTsTCdU",
    "scrolled": true
   },
   "outputs": [],
   "source": [
    "# Drop NA & banned comments\n",
    "df_Corpus = df_Corpus.dropna()\n",
    "df_Corpus = df_Corpus[df_Corpus[\"text\"].str.find('ความคิดเห็นนี้ถูกลบ')!= 0]\n",
    "df_Corpus = df_Corpus[df_Corpus[\"text\"].str.find('แก้ไขข้อความเมื่อ')!= 0]\n",
    "df_Corpus = df_Corpus.set_index('commentId')"
   ]
  },
  {
   "cell_type": "code",
   "execution_count": null,
   "metadata": {
    "colab": {
     "base_uri": "https://localhost:8080/"
    },
    "executionInfo": {
     "elapsed": 619,
     "status": "ok",
     "timestamp": 1604027727941,
     "user": {
      "displayName": "Pacharapol O.",
      "photoUrl": "https://lh3.googleusercontent.com/a-/AOh14GiBNaVjsCxoMVUqEvSDC7eauF0V2ZD7B-TzevR1TQ=s64",
      "userId": "00378494490135533545"
     },
     "user_tz": -420
    },
    "id": "ki-qD4YMTCdX",
    "outputId": "3102d8b3-3251-463e-f3e2-50a119fe787b"
   },
   "outputs": [],
   "source": [
    "missing = df_Corpus.isnull().sum()\n",
    "print(missing)"
   ]
  },
  {
   "cell_type": "code",
   "execution_count": null,
   "metadata": {
    "colab": {
     "base_uri": "https://localhost:8080/"
    },
    "executionInfo": {
     "elapsed": 1135,
     "status": "ok",
     "timestamp": 1604027730567,
     "user": {
      "displayName": "Pacharapol O.",
      "photoUrl": "https://lh3.googleusercontent.com/a-/AOh14GiBNaVjsCxoMVUqEvSDC7eauF0V2ZD7B-TzevR1TQ=s64",
      "userId": "00378494490135533545"
     },
     "user_tz": -420
    },
    "id": "c0J7GD3ATCda",
    "outputId": "f8748ddd-9aab-40d2-ee9e-38ba742906b7"
   },
   "outputs": [],
   "source": [
    "print('จำนวน comment หลังตัด:',df_Corpus.shape[0])\n",
    "print('จำนวนกระทู้หลังตัด:',len(df_Corpus.URLs.unique()))"
   ]
  },
  {
   "cell_type": "code",
   "execution_count": null,
   "metadata": {
    "colab": {
     "base_uri": "https://localhost:8080/",
     "height": 233
    },
    "executionInfo": {
     "elapsed": 890,
     "status": "ok",
     "timestamp": 1604027730892,
     "user": {
      "displayName": "Pacharapol O.",
      "photoUrl": "https://lh3.googleusercontent.com/a-/AOh14GiBNaVjsCxoMVUqEvSDC7eauF0V2ZD7B-TzevR1TQ=s64",
      "userId": "00378494490135533545"
     },
     "user_tz": -420
    },
    "id": "PKvz8tQpTCdd",
    "outputId": "62e2d990-0240-4a01-cef5-515147c6750c"
   },
   "outputs": [],
   "source": [
    "df_Corpus.insert(4,'token_text',None)\n",
    "df_Corpus.tail()"
   ]
  },
  {
   "cell_type": "code",
   "execution_count": null,
   "metadata": {
    "executionInfo": {
     "elapsed": 890,
     "status": "ok",
     "timestamp": 1604027734766,
     "user": {
      "displayName": "Pacharapol O.",
      "photoUrl": "https://lh3.googleusercontent.com/a-/AOh14GiBNaVjsCxoMVUqEvSDC7eauF0V2ZD7B-TzevR1TQ=s64",
      "userId": "00378494490135533545"
     },
     "user_tz": -420
    },
    "id": "J30GMUlJTCdh"
   },
   "outputs": [],
   "source": [
    "del df_textList1,df_textList2"
   ]
  },
  {
   "cell_type": "markdown",
   "metadata": {
    "id": "EpwX95XlTCdl"
   },
   "source": [
    "### ตัดคำแบบไม่ Train เพื่อ EDA"
   ]
  },
  {
   "cell_type": "markdown",
   "metadata": {
    "id": "6U__d4agTCdl"
   },
   "source": [
    "ถ้าเคยตัดแล้วให้ข้ามได้<br>\n",
    "https://www.thainlp.org/pythainlp/tutorials/notebooks/pythainlp-get-started.html#Thai-Characters"
   ]
  },
  {
   "cell_type": "code",
   "execution_count": null,
   "metadata": {
    "executionInfo": {
     "elapsed": 991,
     "status": "ok",
     "timestamp": 1604029757277,
     "user": {
      "displayName": "Pacharapol O.",
      "photoUrl": "https://lh3.googleusercontent.com/a-/AOh14GiBNaVjsCxoMVUqEvSDC7eauF0V2ZD7B-TzevR1TQ=s64",
      "userId": "00378494490135533545"
     },
     "user_tz": -420
    },
    "id": "Ga5QS0o0TCdo"
   },
   "outputs": [],
   "source": [
    "def checkPunc(wtkn):\n",
    "    newList,cnt = [],0\n",
    "    for word in wtkn:\n",
    "        for char in word:\n",
    "            if char in set(string.punctuation):\n",
    "                cnt = cnt + 1\n",
    "        if cnt == 0:\n",
    "            newList.append(word)\n",
    "        cnt = 0\n",
    "    return newList"
   ]
  },
  {
   "cell_type": "code",
   "execution_count": null,
   "metadata": {
    "executionInfo": {
     "elapsed": 866,
     "status": "ok",
     "timestamp": 1604028004964,
     "user": {
      "displayName": "Pacharapol O.",
      "photoUrl": "https://lh3.googleusercontent.com/a-/AOh14GiBNaVjsCxoMVUqEvSDC7eauF0V2ZD7B-TzevR1TQ=s64",
      "userId": "00378494490135533545"
     },
     "user_tz": -420
    },
    "id": "oaqpUVffTCdm"
   },
   "outputs": [],
   "source": [
    "def checkStopwords(w):\n",
    "    returnList = []\n",
    "    stopwords = set(thai_stopwords())\n",
    "    for i in w:  # comment\n",
    "        if i not in stopwords:\n",
    "            returnList.append(i)\n",
    "    return returnList"
   ]
  },
  {
   "cell_type": "code",
   "execution_count": null,
   "metadata": {
    "executionInfo": {
     "elapsed": 880,
     "status": "ok",
     "timestamp": 1604028299778,
     "user": {
      "displayName": "Pacharapol O.",
      "photoUrl": "https://lh3.googleusercontent.com/a-/AOh14GiBNaVjsCxoMVUqEvSDC7eauF0V2ZD7B-TzevR1TQ=s64",
      "userId": "00378494490135533545"
     },
     "user_tz": -420
    },
    "id": "cr_O7hE5htx2"
   },
   "outputs": [],
   "source": [
    "def normThai(w):\n",
    "    returnList = []\n",
    "    for i in w:\n",
    "        returnList.append(normalize(i))\n",
    "    return returnList"
   ]
  },
  {
   "cell_type": "code",
   "execution_count": null,
   "metadata": {
    "id": "Jpa16DrfTCeL"
   },
   "outputs": [],
   "source": [
    "# https://thainlp.org/pythainlp/docs/2.0/api/tag.html\n",
    "from pythainlp.spell import correct\n",
    "from pythainlp.tag import pos_tag\n",
    "\n",
    "#https://thainlp.org/pythainlp/docs/2.0/api/transliterate.html\n",
    "from pythainlp.transliterate import romanize"
   ]
  },
  {
   "cell_type": "code",
   "execution_count": null,
   "metadata": {
    "executionInfo": {
     "elapsed": 1120,
     "status": "ok",
     "timestamp": 1604027847352,
     "user": {
      "displayName": "Pacharapol O.",
      "photoUrl": "https://lh3.googleusercontent.com/a-/AOh14GiBNaVjsCxoMVUqEvSDC7eauF0V2ZD7B-TzevR1TQ=s64",
      "userId": "00378494490135533545"
     },
     "user_tz": -420
    },
    "id": "4fykk8iqTCdr"
   },
   "outputs": [],
   "source": [
    "df_process = df_Corpus.copy()"
   ]
  },
  {
   "cell_type": "code",
   "execution_count": null,
   "metadata": {
    "executionInfo": {
     "elapsed": 962,
     "status": "ok",
     "timestamp": 1604030224171,
     "user": {
      "displayName": "Pacharapol O.",
      "photoUrl": "https://lh3.googleusercontent.com/a-/AOh14GiBNaVjsCxoMVUqEvSDC7eauF0V2ZD7B-TzevR1TQ=s64",
      "userId": "00378494490135533545"
     },
     "user_tz": -420
    },
    "id": "rAcuuoYiTCdu"
   },
   "outputs": [],
   "source": [
    "corpus = []\n",
    "garbage_char = ['','\\n','\\xa0','application','ทางกฎหมาย','html','http','https','url','com'\n",
    "               'นะค่ะ','นะคะ','น่ะค่ะ','ฯ','ๆ']"
   ]
  },
  {
   "cell_type": "code",
   "execution_count": null,
   "metadata": {
    "colab": {
     "base_uri": "https://localhost:8080/"
    },
    "executionInfo": {
     "elapsed": 813,
     "status": "ok",
     "timestamp": 1604027849933,
     "user": {
      "displayName": "Pacharapol O.",
      "photoUrl": "https://lh3.googleusercontent.com/a-/AOh14GiBNaVjsCxoMVUqEvSDC7eauF0V2ZD7B-TzevR1TQ=s64",
      "userId": "00378494490135533545"
     },
     "user_tz": -420
    },
    "id": "mAwAGA5ITCdx",
    "outputId": "d95e59bb-b35e-4592-f16e-0915a7975f84"
   },
   "outputs": [],
   "source": [
    "print('จำนวน comment หลังตัด:',df_Corpus.shape[0])\n",
    "print('จำนวนกระทู้หลังตัด:',len(df_Corpus.URLs.unique()))"
   ]
  },
  {
   "cell_type": "code",
   "execution_count": null,
   "metadata": {
    "executionInfo": {
     "elapsed": 2296,
     "status": "ok",
     "timestamp": 1604030226424,
     "user": {
      "displayName": "Pacharapol O.",
      "photoUrl": "https://lh3.googleusercontent.com/a-/AOh14GiBNaVjsCxoMVUqEvSDC7eauF0V2ZD7B-TzevR1TQ=s64",
      "userId": "00378494490135533545"
     },
     "user_tz": -420
    },
    "id": "8D5MebxcTCd0"
   },
   "outputs": [],
   "source": [
    "words = set(thai_words())  # thai_words() returns frozenset\n",
    "custom_tokenizer = Tokenizer(engine='newmm', custom_dict=words, keep_whitespace=False)"
   ]
  },
  {
   "cell_type": "code",
   "execution_count": null,
   "metadata": {},
   "outputs": [],
   "source": [
    "romanize('ทดสอบ', engine=\"thai2rom\")"
   ]
  },
  {
   "cell_type": "code",
   "execution_count": null,
   "metadata": {
    "colab": {
     "base_uri": "https://localhost:8080/"
    },
    "id": "Hunm5MT7TCd2",
    "outputId": "15710375-8df1-46f0-85a2-04c66e1de5d9",
    "scrolled": true
   },
   "outputs": [],
   "source": [
    "for i,txt in enumerate(df_Corpus['text'],0):\n",
    "    print('Row:',i)\n",
    "    wtkn = custom_tokenizer.word_tokenize(txt)\n",
    "    wtkn = checkPunc(wtkn)\n",
    "    wtkn = checkStopwords(wtkn)\n",
    "    wtkn = normThai(wtkn)\n",
    "    wtkn = [x for x in wtkn if x not in garbage_char]\n",
    "    wtkn = [s for s in wtkn if not s.isdigit()]\n",
    "    df_process.iloc[i,4] = list(wtkn)\n",
    "    clear_output(wait=True)"
   ]
  },
  {
   "cell_type": "code",
   "execution_count": null,
   "metadata": {
    "colab": {
     "base_uri": "https://localhost:8080/",
     "height": 233
    },
    "executionInfo": {
     "elapsed": 846,
     "status": "ok",
     "timestamp": 1604031147426,
     "user": {
      "displayName": "Pacharapol O.",
      "photoUrl": "https://lh3.googleusercontent.com/a-/AOh14GiBNaVjsCxoMVUqEvSDC7eauF0V2ZD7B-TzevR1TQ=s64",
      "userId": "00378494490135533545"
     },
     "user_tz": -420
    },
    "id": "Bs6mnFERtKMm",
    "outputId": "39a6b0d5-33bb-45d3-f8d0-90bf982fca71"
   },
   "outputs": [],
   "source": [
    "df_process.head()"
   ]
  },
  {
   "cell_type": "code",
   "execution_count": null,
   "metadata": {
    "id": "f_x4CVFzTCd-"
   },
   "outputs": [],
   "source": [
    "df_process.to_csv(comment_nlp_file, index=True)"
   ]
  },
  {
   "cell_type": "code",
   "execution_count": null,
   "metadata": {
    "id": "NewuxMPZTCeC"
   },
   "outputs": [],
   "source": [
    "del df_process,df_Corpus"
   ]
  },
  {
   "cell_type": "markdown",
   "metadata": {
    "id": "JDbUpEmTTCeF"
   },
   "source": [
    "### EDA Characteristic & สร้าง BoW + Term"
   ]
  },
  {
   "cell_type": "markdown",
   "metadata": {},
   "source": [
    "1. Checkpoint#0 EDA รวบรวมคำจากทุก URL ทั้งหมด ทำ Unique"
   ]
  },
  {
   "cell_type": "code",
   "execution_count": null,
   "metadata": {
    "id": "rUmJ3KBBTCeG"
   },
   "outputs": [],
   "source": [
    "df_EDA = pd.read_csv(comment_nlp_file,index_col=0)"
   ]
  },
  {
   "cell_type": "code",
   "execution_count": null,
   "metadata": {
    "colab": {
     "base_uri": "https://localhost:8080/",
     "height": 319
    },
    "executionInfo": {
     "elapsed": 1158,
     "status": "ok",
     "timestamp": 1603941057684,
     "user": {
      "displayName": "Pacharapol O.",
      "photoUrl": "https://lh3.googleusercontent.com/a-/AOh14GiBNaVjsCxoMVUqEvSDC7eauF0V2ZD7B-TzevR1TQ=s64",
      "userId": "00378494490135533545"
     },
     "user_tz": -420
    },
    "id": "Ve8PB9F7TCeI",
    "outputId": "4c109414-d839-4730-b047-e87e795af908"
   },
   "outputs": [],
   "source": [
    "df_EDA.tail()"
   ]
  },
  {
   "cell_type": "code",
   "execution_count": null,
   "metadata": {
    "id": "ur4WhO9QTCeX",
    "scrolled": true
   },
   "outputs": [],
   "source": [
    "tagGroup = ['ADJ','ADP','PUNCT','ADV','AUX','SYM','INTJ','CCONJ','X','NOUN','DET','PROPN','NUM','VERB','PART','PRON','SCONJ']"
   ]
  },
  {
   "cell_type": "markdown",
   "metadata": {},
   "source": [
    "กำหนด TAG และ Sound"
   ]
  },
  {
   "cell_type": "code",
   "execution_count": null,
   "metadata": {
    "colab": {
     "base_uri": "https://localhost:8080/"
    },
    "id": "LTy2TOn_ZTQ4",
    "outputId": "9075edf3-6763-4ba4-b91d-4690a48453bf"
   },
   "outputs": [],
   "source": [
    "row_eval = []\n",
    "for i,txt in enumerate(df_EDA.token_text,0):     \n",
    "    print('Row:',i+1,'of',df_EDA.shape[0])\n",
    "    row_eval.append(list(eval(txt)))\n",
    "    clear_output(wait=True)"
   ]
  },
  {
   "cell_type": "code",
   "execution_count": null,
   "metadata": {
    "colab": {
     "base_uri": "https://localhost:8080/"
    },
    "executionInfo": {
     "elapsed": 1202,
     "status": "ok",
     "timestamp": 1603941009594,
     "user": {
      "displayName": "Pacharapol O.",
      "photoUrl": "https://lh3.googleusercontent.com/a-/AOh14GiBNaVjsCxoMVUqEvSDC7eauF0V2ZD7B-TzevR1TQ=s64",
      "userId": "00378494490135533545"
     },
     "user_tz": -420
    },
    "id": "13l8mj2pKAwQ",
    "outputId": "f6da9e09-72ab-49a5-e4a0-29a153874157"
   },
   "outputs": [],
   "source": [
    "set_eval = set(itertools.chain.from_iterable(row_eval))\n",
    "print(len(set_eval))"
   ]
  },
  {
   "cell_type": "code",
   "execution_count": null,
   "metadata": {},
   "outputs": [],
   "source": [
    "df_EDA_withRTGS = pd.DataFrame(pos_tag(set_eval, corpus='pud'), columns=['WORD', 'TAG'])\n",
    "df_EDA_withRTGS['SOUND'] = None"
   ]
  },
  {
   "cell_type": "code",
   "execution_count": null,
   "metadata": {},
   "outputs": [],
   "source": [
    "for c,t in enumerate(df_EDA_withRTGS.WORD,0):\n",
    "    print('Sound:',c+1,'of',df_EDA_withRTGS.shape[0])\n",
    "    df_EDA_withRTGS.SOUND.iloc[c] = romanize(t, engine=\"thai2rom\")\n",
    "    clear_output(wait=True)"
   ]
  },
  {
   "cell_type": "code",
   "execution_count": null,
   "metadata": {
    "id": "vawJVqIgib29"
   },
   "outputs": [],
   "source": [
    "df_EDA_withRTGS.to_csv(root_path+'/EDA_withRTGS.csv',index=False)"
   ]
  },
  {
   "cell_type": "code",
   "execution_count": null,
   "metadata": {
    "id": "sZCtFWQ4xlZs"
   },
   "outputs": [],
   "source": [
    "del df_EDA_withRTGS"
   ]
  },
  {
   "cell_type": "markdown",
   "metadata": {
    "id": "MY2NqV5xd3Ot"
   },
   "source": [
    "2. Checkpoint#1 วิเคราะห์รูปแบบของคำ ดูว่ามีประเภทคำแจกแจงเท่าไหร่ และมีเสียงแบบไหน<br>\n",
    "export เอาข้อมูลไปดูว่า 1 การออกเสียงสามารถเขียนสะกดเป็นอะไรได้บ้าง ขั้นตอนนี้เราจะรู้ว่าเวลากรอง Term ที่เขียนผิดได้หลายแบบ<br>\n",
    "จะต้องเขียนดักอย่างไรบ้าง<br>\n",
    "https://www.thainlp.org/pythainlp/tutorials/notebooks/pythainlp_get_started.html"
   ]
  },
  {
   "cell_type": "code",
   "execution_count": null,
   "metadata": {
    "executionInfo": {
     "elapsed": 1462,
     "status": "ok",
     "timestamp": 1604024896465,
     "user": {
      "displayName": "Pacharapol O.",
      "photoUrl": "https://lh3.googleusercontent.com/a-/AOh14GiBNaVjsCxoMVUqEvSDC7eauF0V2ZD7B-TzevR1TQ=s64",
      "userId": "00378494490135533545"
     },
     "user_tz": -420
    },
    "id": "EqPJqEIsmOPd"
   },
   "outputs": [],
   "source": [
    "df_EDA2 = pd.read_csv(root_path+'/EDA_withRTGS.csv')\n",
    "#df_EDA2 = pd.read_csv('EDA_withRTGS.csv')"
   ]
  },
  {
   "cell_type": "code",
   "execution_count": null,
   "metadata": {
    "colab": {
     "base_uri": "https://localhost:8080/",
     "height": 202
    },
    "executionInfo": {
     "elapsed": 864,
     "status": "ok",
     "timestamp": 1604027397306,
     "user": {
      "displayName": "Pacharapol O.",
      "photoUrl": "https://lh3.googleusercontent.com/a-/AOh14GiBNaVjsCxoMVUqEvSDC7eauF0V2ZD7B-TzevR1TQ=s64",
      "userId": "00378494490135533545"
     },
     "user_tz": -420
    },
    "id": "iY5VkSQG-DIv",
    "outputId": "18dda8d7-e708-4a29-dd46-e2483ac43838"
   },
   "outputs": [],
   "source": [
    "df_EDA2.tail()"
   ]
  },
  {
   "cell_type": "code",
   "execution_count": null,
   "metadata": {
    "colab": {
     "base_uri": "https://localhost:8080/"
    },
    "executionInfo": {
     "elapsed": 863,
     "status": "ok",
     "timestamp": 1604024897924,
     "user": {
      "displayName": "Pacharapol O.",
      "photoUrl": "https://lh3.googleusercontent.com/a-/AOh14GiBNaVjsCxoMVUqEvSDC7eauF0V2ZD7B-TzevR1TQ=s64",
      "userId": "00378494490135533545"
     },
     "user_tz": -420
    },
    "id": "SluwbPDxh5iP",
    "outputId": "dff94bf8-07d5-44f3-b18c-4ad742a64959"
   },
   "outputs": [],
   "source": [
    "df_EDA2.TAG.value_counts()"
   ]
  },
  {
   "cell_type": "code",
   "execution_count": null,
   "metadata": {
    "executionInfo": {
     "elapsed": 952,
     "status": "ok",
     "timestamp": 1604026404057,
     "user": {
      "displayName": "Pacharapol O.",
      "photoUrl": "https://lh3.googleusercontent.com/a-/AOh14GiBNaVjsCxoMVUqEvSDC7eauF0V2ZD7B-TzevR1TQ=s64",
      "userId": "00378494490135533545"
     },
     "user_tz": -420
    },
    "id": "Ja-P4yvKa06u"
   },
   "outputs": [],
   "source": [
    "def checkThai(txt):\n",
    "    prop = pythainlp.util.countthai(txt)\n",
    "    return prop"
   ]
  },
  {
   "cell_type": "markdown",
   "metadata": {
    "id": "1-cJj1nTdmgc"
   },
   "source": [
    "Clean data รอบ 2 เพื่อคัดแต่คำที่เป็นภาษาไทยเท่านั้น ก่อนเริ่ม EDA เพราะว่าคำอังกฤษนั้นจัดการง่ายกว่า จึงเอาไว้ก่อน"
   ]
  },
  {
   "cell_type": "code",
   "execution_count": null,
   "metadata": {},
   "outputs": [],
   "source": [
    "df_EDA3 = df_EDA2.copy()\n",
    "df_EDA3.head()"
   ]
  },
  {
   "cell_type": "code",
   "execution_count": null,
   "metadata": {},
   "outputs": [],
   "source": [
    "df_EDA3.shape"
   ]
  },
  {
   "cell_type": "code",
   "execution_count": null,
   "metadata": {},
   "outputs": [],
   "source": [
    "missing = df_EDA3.isnull().sum()\n",
    "print(missing)"
   ]
  },
  {
   "cell_type": "code",
   "execution_count": null,
   "metadata": {},
   "outputs": [],
   "source": [
    "df_EDA3 = df_EDA3.dropna()"
   ]
  },
  {
   "cell_type": "code",
   "execution_count": null,
   "metadata": {},
   "outputs": [],
   "source": [
    "missing = df_EDA3.isnull().sum()\n",
    "print(missing)"
   ]
  },
  {
   "cell_type": "code",
   "execution_count": null,
   "metadata": {},
   "outputs": [],
   "source": [
    "seqNum = list(range(1,df_EDA3.shape[0]+1))\n",
    "df_EDA3.insert(0,'SEQ',seqNum)\n",
    "df_EDA3.set_index('SEQ',inplace=True)"
   ]
  },
  {
   "cell_type": "code",
   "execution_count": null,
   "metadata": {
    "colab": {
     "base_uri": "https://localhost:8080/",
     "height": 233
    },
    "executionInfo": {
     "elapsed": 867,
     "status": "ok",
     "timestamp": 1604027368874,
     "user": {
      "displayName": "Pacharapol O.",
      "photoUrl": "https://lh3.googleusercontent.com/a-/AOh14GiBNaVjsCxoMVUqEvSDC7eauF0V2ZD7B-TzevR1TQ=s64",
      "userId": "00378494490135533545"
     },
     "user_tz": -420
    },
    "id": "nxTsCrH6TCel",
    "outputId": "748806a2-c5bb-4b7b-e7d9-7c877a6315f9"
   },
   "outputs": [],
   "source": [
    "indexCol = []\n",
    "for i,txt in enumerate(df_EDA3.WORD,0):\n",
    "    if checkThai(txt)<100:\n",
    "        print(i,txt)\n",
    "        indexCol.append(i+1)\n",
    "    clear_output(wait=True)"
   ]
  },
  {
   "cell_type": "code",
   "execution_count": null,
   "metadata": {},
   "outputs": [],
   "source": [
    "print(len(indexCol))\n",
    "print(df_EDA3.shape)"
   ]
  },
  {
   "cell_type": "code",
   "execution_count": null,
   "metadata": {
    "scrolled": true
   },
   "outputs": [],
   "source": [
    "df_EDA3 = df_EDA3.drop(index=indexCol, axis=0)"
   ]
  },
  {
   "cell_type": "markdown",
   "metadata": {},
   "source": [
    "จะพบว่าคำที่เป็นภาษาไทย ไม่มีอักขระอังกฤษ มีเพียง 32710 คำ ซึ่งจำนวนมากเป็นการสะกดที่ไม่มีความหมาย พิจารณาเอา thai_word() ช่วยกรองอีกรอบ แต่เอาไว้ก่อน"
   ]
  },
  {
   "cell_type": "code",
   "execution_count": null,
   "metadata": {},
   "outputs": [],
   "source": [
    "df_EDA3.shape"
   ]
  },
  {
   "cell_type": "markdown",
   "metadata": {},
   "source": [
    "เก็บไฟล์ไว้วิเคราะห์รูปแบบคำ ทำใน <b>W_ALL.xlsx</b> โดยสรุปเป็นตาราง ที่ทำแบบนี้เพื่อให้ค้นหาคำได้เร็วใน Excel\n",
    "และไม่ต้องค้นหาลำบากเนื่องจากอักขระพิเศษและอังกฤษถูกตัดออกไปหมดแล้ว"
   ]
  },
  {
   "cell_type": "code",
   "execution_count": null,
   "metadata": {
    "scrolled": true
   },
   "outputs": [],
   "source": [
    "# เก็บไฟล์ไว้วิเคราะห์รูปแบบคำ\n",
    "pd.DataFrame(df_EDA3).to_excel(root_path+'/W_ALL.xlsx',index=True)"
   ]
  },
  {
   "cell_type": "markdown",
   "metadata": {
    "id": "MY2NqV5xd3Ot"
   },
   "source": [
    "### EDA Part\n",
    "1.สรุป Term frequency ของคำ ราย Overall & URL"
   ]
  },
  {
   "cell_type": "code",
   "execution_count": null,
   "metadata": {},
   "outputs": [],
   "source": [
    "df_EDA = pd.read_csv(comment_nlp_file)"
   ]
  },
  {
   "cell_type": "code",
   "execution_count": null,
   "metadata": {},
   "outputs": [],
   "source": [
    "df_EDA.head()"
   ]
  },
  {
   "cell_type": "code",
   "execution_count": null,
   "metadata": {},
   "outputs": [],
   "source": [
    "d_freq = pd.DataFrame(data=None)\n",
    "\n",
    "row_eval,urls = [],[]\n",
    "for i,txt in enumerate(df_EDA.token_text,0):     \n",
    "    print('Row:',i+1,'of',df_EDA.shape[0])\n",
    "    ddff = pd.DataFrame(pos_tag(list(eval(txt)), corpus='pud'),columns=['WORD','TAG'])\n",
    "    ddff.insert(0,'URLs',value=df_EDA.URLs.iloc[i])\n",
    "    ddff.insert(0,'commentId',value=df_EDA.commentId.iloc[i])\n",
    "    d_freq = d_freq.append(ddff,ignore_index=True)\n",
    "    clear_output(wait=True)"
   ]
  },
  {
   "cell_type": "code",
   "execution_count": null,
   "metadata": {
    "scrolled": true
   },
   "outputs": [],
   "source": [
    "d_freq.head(10)"
   ]
  },
  {
   "cell_type": "code",
   "execution_count": null,
   "metadata": {},
   "outputs": [],
   "source": [
    "d_freq.to_csv(root_path+'/W_FRRQ.csv',index=True)"
   ]
  },
  {
   "cell_type": "markdown",
   "metadata": {},
   "source": [
    "2.EDA คำรายกระทู้ การกล่าวถึงแบรนด์ในแต่ละกระทู้ และสรุป Term ที่ใช้ Train ตอนตัดคำ<br>\n",
    "ทั้งนี้จะนำ thai_word() มาตัดคำให้เหลือแต่คำที่มีความหมายเท่านั้น หลังจากสรุป Freq รอบแรก และดู Freq หลังตัดอีกครั้ง"
   ]
  },
  {
   "cell_type": "markdown",
   "metadata": {
    "id": "hKsD8eSGTCeF"
   },
   "source": [
    "EDA Characteristic approach (Descriptive)\n",
    "1. MAX คำต่อกระทู้\n",
    "2. MIN คำต่อกระทู้\n",
    "3. AVG คำต่อกระทู้\n",
    "4. กราฟการกระจายคำต่อกระทู้\n",
    "5. จำนวนกระทู้\n",
    "6. พบ brand 5 ตัว ตัวละกี่กระทู้\n",
    "7. กระทู้ที่มีคำเปรียบเทียบ มีกี่กระทู้\n",
    "8. Term frequency\n",
    "\n",
    "เพิ่ม commentId\n",
    "8. comment มี 1 brand\n",
    "9. comment มี 2 brand"
   ]
  },
  {
   "cell_type": "code",
   "execution_count": null,
   "metadata": {},
   "outputs": [],
   "source": [
    "df_EDA_frq = pd.read_csv(root_path+'/W_FRRQ.csv',index_col=0)\n",
    "df_EDA_frq.index.name = 'wordId'"
   ]
  },
  {
   "cell_type": "code",
   "execution_count": null,
   "metadata": {},
   "outputs": [],
   "source": [
    "df_EDA_frq.tail()"
   ]
  },
  {
   "cell_type": "code",
   "execution_count": null,
   "metadata": {},
   "outputs": [],
   "source": [
    "import statistics as stat\n",
    "import matplotlib.pyplot as plt\n",
    "import seaborn as sns"
   ]
  },
  {
   "cell_type": "code",
   "execution_count": null,
   "metadata": {},
   "outputs": [],
   "source": [
    "print('จำนวนกระทู้ = ',len(df_EDA_frq.URLs.unique()))\n",
    "print('จำนวนคำต่อกระทู้มากที่สุด = ',max(df_EDA_frq.URLs.value_counts()))\n",
    "print('จำนวนคำต่อกระทู้น้อยที่สุด = ',min(df_EDA_frq.URLs.value_counts()))\n",
    "print('จำนวนคำต่อกระทู้เฉลี่ย = ', str(round(stat.mean(df_EDA_frq.URLs.value_counts()), 2)))"
   ]
  },
  {
   "cell_type": "code",
   "execution_count": null,
   "metadata": {},
   "outputs": [],
   "source": [
    "print('จำนวนคำต่อ comment มากที่สุด = ',max(df_EDA_frq.commentId.value_counts()))\n",
    "print('จำนวนคำต่อ comment น้อยที่สุด = ',min(df_EDA_frq.commentId.value_counts()))\n",
    "print('จำนวนคำต่อ comment เฉลี่ย = ', str(round(stat.mean(df_EDA_frq.commentId.value_counts()), 2)))"
   ]
  },
  {
   "cell_type": "code",
   "execution_count": null,
   "metadata": {
    "scrolled": true
   },
   "outputs": [],
   "source": [
    "df_plot_dist = pd.DataFrame(df_EDA_frq.URLs.value_counts())\n",
    "df_plot_dist.columns = ['CNT']\n",
    "sns.set(style=\"darkgrid\")  \n",
    "fig, ax = plt.subplots(figsize=(15, 5))\n",
    "ax = sns.distplot(df_plot_dist.CNT, kde=True)\n",
    "plt.show()"
   ]
  },
  {
   "cell_type": "markdown",
   "metadata": {},
   "source": [
    "จากข้อมูลการกล่าวถึง พบว่าจำนวนนั้น imbalance กัน แต่เนื่องจากเราไม่ได้จะทำโมเดลทำนาย จึงไม่ต้อง Over-Undersample<br>\n",
    "เราทำกราฟ จะต้อง normalized ตัวเลขในตาราง Cooccurence ด้วยค่า Lift ก่อน<br>\n",
    "\n",
    "และเราพบว่าการตัดข้อความชื่อนม ฟาร์มโชคชัย มีปัญหา พบว่าจะเจอคำว่า อืมม มิลค์ (Umm) มากกว่าชื่อแบรนด์ตรงๆ"
   ]
  },
  {
   "cell_type": "code",
   "execution_count": null,
   "metadata": {},
   "outputs": [],
   "source": [
    "print('การกล่าวถึง เมจิ :',len(df_EDA_frq[df_EDA_frq.WORD.isin(['เมจิ','meiji','cpmeiji'])].URLs.unique()),'กระทู้')\n",
    "print('การกล่าวถึง โชคชัย :',len(df_EDA_frq[df_EDA_frq.WORD.isin(['โชคชัย','chokchai','ฟาร์มโชคชัย','อืมม','umm'])].URLs.unique()),'กระทู้')\n",
    "print('การกล่าวถึง ดัชมิลล์ :',len(df_EDA_frq[df_EDA_frq.WORD.isin(['ดัชมิลล์','ดัชมิล','dutchmill','dutchmilk','ดัชชี่','นมดัช'])].URLs.unique()),'กระทู้')\n",
    "print('การกล่าวถึง เอ็มมิลค์ :',len(df_EDA_frq[df_EDA_frq.WORD.isin(['เอ็มมิลค์','mmilk','เอ็มมิ้ลค์'])].URLs.unique()),'กระทู้')\n",
    "print('การกล่าวถึง โฟร์โมสต์ :',len(df_EDA_frq[df_EDA_frq.WORD.isin(['โฟร์โมสต์','โฟร์โมส','foremost','นมโฟ'])].URLs.unique()),'กระทู้')\n",
    "print('การกล่าวถึง แดรี่โฮม :',len(df_EDA_frq[df_EDA_frq.WORD.isin(['แดรี่โฮม','แดรี่','โฮม','dairy','dairy home'])].URLs.unique()),'กระทู้')"
   ]
  },
  {
   "cell_type": "markdown",
   "metadata": {
    "id": "FdiV-D6CTCeo"
   },
   "source": [
    "ตัดคำตาม Term ที่ต้องการ"
   ]
  },
  {
   "cell_type": "code",
   "execution_count": null,
   "metadata": {
    "id": "XNhC0vGETCeo"
   },
   "outputs": [],
   "source": [
    "def summary_df(df):\n",
    "    r_df = pd.DataFrame(df.stack(0),columns=['value'])\n",
    "    r_df.index.names = ['commentId','item']\n",
    "    r_df = r_df.reset_index() \n",
    "    r_df = r_df[r_df.value==1]\n",
    "    return pd.DataFrame(r_df['item'].value_counts())"
   ]
  },
  {
   "cell_type": "code",
   "execution_count": null,
   "metadata": {
    "id": "xUV6RGAwTCeu"
   },
   "outputs": [],
   "source": [
    "keys = {'รสจืด','รสหวาน','ช็อคโกแลต','ช็อกโกแลต','ช๊อกโกแลต','ช๊อคโกแลต'\n",
    "        ,'low fat','ไขมันต่ำ','high protein','ไฮโปรตีน','whey protein','ชงกาแฟ','รสกาแฟ','free lactose','lactose free'\n",
    "        ,'นมสด','กาแฟสด','สตรอเบอรี่','สตอเบอรี่','สตรอเบอร์รี','อัลมอน','อัลมอนด์','มอลต์',\n",
    "        'โชคชัย','เมจิ','meiji','ดัชมิลล์','dutchmill','แดรี่โฮม','dairy home','โฟร์โมสต์','foremost'\n",
    "        ,'พาสเจอไรส์','พาสเจอไรซ์','พาสเจอร์ไรซ์','หาซื้อ','ขายดี','ขายไม่ดี','ดัชมิลล์','โฟร์โมสต์'\n",
    "       ,'แพ้นม','ขวดกลาง','ขวดเล็ก','ขวดใหญ่'}\n",
    "words = set(thai_words())  # thai_words() returns frozenset\n",
    "for i in keys:\n",
    "    words.add(i)\n",
    "custom_tokenizer = Tokenizer(engine='newmm', custom_dict=words, keep_whitespace=False)"
   ]
  },
  {
   "cell_type": "code",
   "execution_count": null,
   "metadata": {
    "id": "JySi7fY6TCex"
   },
   "outputs": [],
   "source": [
    "for i,txt in enumerate(df_textList['text'],0):\n",
    "    wtkn = custom_tokenizer.word_tokenize(txt)\n",
    "    #wtkn = [w for w in wtkn if w.isalnum()]\n",
    "    wtkn = [x for x in wtkn if x not in garbage_char]\n",
    "    wtkn = checkPunc(wtkn)   \n",
    "    wtkn = checkStopwords(wtkn)\n",
    "    wtkn = [s for s in wtkn if not s.isdigit()]\n",
    "    df_process.iloc[i,3] = set(wtkn)"
   ]
  },
  {
   "cell_type": "code",
   "execution_count": null,
   "metadata": {
    "id": "ej1qG3_7TCe0"
   },
   "outputs": [],
   "source": [
    "df_process.head(10)"
   ]
  },
  {
   "cell_type": "markdown",
   "metadata": {
    "id": "_Q9pU1J6TCe5"
   },
   "source": [
    "### Grouping by word category"
   ]
  },
  {
   "cell_type": "markdown",
   "metadata": {
    "id": "hvC2kHK6TCe5"
   },
   "source": [
    "CONSIDERATION TERMS (ต้องลอง Review Lit ดูว่ามีอะไรบ้าง แต่ร่างคร่าวๆก่อน)\n",
    "1. Brands (ยี่ห้อที่มีขายนมพาสเจอไรส์) 1.โชคชัย 2.เมจิ 3.ดัชมิลล์ 4.แดรี่โฮม 5.โฟร์โมสต์\n",
    "2. Product : ใช้ Mainstream สตอเบอรี่,ช็อคโกแลต,จืด,หวาน,กาแฟ,ไขมันต่ำ,Free lactose,High protein\n",
    "3. Quality\n",
    "4. Price\n",
    "5. Utility : ขนม กาแฟ espresso\n",
    "6. Package\n",
    "7. Promotion & Event เช่น เชียร์ชิม ประกวดบาริสต้า เจมส์จิ\n",
    "8. Point of sales เช่น Makro 7/11 Lotus\n",
    "9. Others (จับกลุ่มแล้วมาพิจารณาต่อว่ามีอะไรซ่อนอยู่อีก)"
   ]
  },
  {
   "cell_type": "code",
   "execution_count": null,
   "metadata": {
    "id": "jom6-iCaTCe6"
   },
   "outputs": [],
   "source": [
    "colGroup = ['Brands','Product','Quality','Price','Utility','Package','Promotion_event','POS','Others']\n",
    "brands = ['โชคชัย','เมจิ','meiji','ดัชมิลล์','dutchmill','แดรี่โฮม','dairy home','โฟร์โมสต์','foremost']\n",
    "prds = ['สตอเบอรี่','สตรอเบอรี่','สตรอเบอร์รี','ช็อคโกแลต','ช็อกโกแลต','ช็อค','ช็อก','รสจืด','รสหวาน','free lactose','lactose free'\n",
    "        ,'รสกาแฟ','ไขมันต่ำ','high protein','ไฮโปรตีน','แลคโตส','whey protein','whey','เวย์']\n",
    "quality = ['บูด','เสีย','แตก','ขาด','คุณภาพ','สะอาด','ความสะอาด','จืด','หวาน','หอม','อร่อย']\n",
    "price = ['ถูก','แพง']\n",
    "pkg = ['ขวดกลาง','ขวดเล็ก','ขวดใหญ่','ฝา']"
   ]
  },
  {
   "cell_type": "code",
   "execution_count": null,
   "metadata": {
    "id": "JMHmk9EmTCe9"
   },
   "outputs": [],
   "source": [
    "c_grp1 = countTerm(pd.DataFrame(index=df_textList.index,columns=brands),df_process.token_text).fillna(0)\n",
    "c_grp2 = countTerm(pd.DataFrame(index=df_textList.index,columns=prds),df_process.token_text).fillna(0)\n",
    "c_grp3 = countTerm(pd.DataFrame(index=df_textList.index,columns=quality),df_process.token_text).fillna(0)\n",
    "c_grp4 = countTerm(pd.DataFrame(index=df_textList.index,columns=price),df_process.token_text).fillna(0)\n",
    "c_grp5 = countTerm(pd.DataFrame(index=df_textList.index,columns=pkg),df_process.token_text).fillna(0)"
   ]
  },
  {
   "cell_type": "code",
   "execution_count": null,
   "metadata": {
    "id": "o7wDpUJRTCfC"
   },
   "outputs": [],
   "source": [
    "c_grp1['นมเมจิ'] = c_grp1['เมจิ']+c_grp1['meiji']\n",
    "c_grp1['นมดัชมิลล์'] = c_grp1['ดัชมิลล์']+c_grp1['dutchmill']\n",
    "c_grp1['นมแดรี่โฮม'] = c_grp1['แดรี่โฮม']+c_grp1['dairy home']\n",
    "c_grp1['นมโฟร์โมสต์'] = c_grp1['โฟร์โมสต์']+c_grp1['foremost']\n",
    "c_grp1.drop(['เมจิ','meiji','ดัชมิลล์','dutchmill','แดรี่โฮม','dairy home','โฟร์โมสต์','foremost'], axis = 1, inplace=True)"
   ]
  },
  {
   "cell_type": "code",
   "execution_count": null,
   "metadata": {
    "id": "CiPWg3BUTCfF"
   },
   "outputs": [],
   "source": [
    "summary_df(c_grp1)"
   ]
  },
  {
   "cell_type": "code",
   "execution_count": null,
   "metadata": {
    "id": "ZS01e7C1TCfI"
   },
   "outputs": [],
   "source": [
    "c_grp2['รสช็อคโกแลต'] = c_grp2['ช็อคโกแลต']+c_grp2['ช็อกโกแลต']+c_grp2['ช็อก']+c_grp2['ช็อค']\n",
    "c_grp2['รสสตรอเบอร์รี'] = c_grp2['สตอเบอรี่']+c_grp2['สตรอเบอรี่']+c_grp2['สตรอเบอร์รี']\n",
    "c_grp2['รสไฮโปรตีน'] = c_grp2['เวย์']+c_grp2['whey protein']+c_grp2['whey']+c_grp2['ไฮโปรตีน']+c_grp2['high protein']\n",
    "c_grp2['ฟรีแลคโตส'] = c_grp2['แลคโตส']+c_grp2['lactose free']+c_grp2['free lactose']\n",
    "c_grp2.drop(['ช็อคโกแลต','ช็อกโกแลต','ช็อก','ช็อค','สตอเบอรี่','สตรอเบอรี่','แลคโตส','free lactose','lactose free'\n",
    "             ,'high protein','สตรอเบอร์รี','เวย์','whey protein','whey','ไฮโปรตีน'], axis = 1, inplace=True)"
   ]
  },
  {
   "cell_type": "code",
   "execution_count": null,
   "metadata": {
    "id": "SeQsdBcHTCfK",
    "scrolled": true
   },
   "outputs": [],
   "source": [
    "summary_df(c_grp2)"
   ]
  },
  {
   "cell_type": "code",
   "execution_count": null,
   "metadata": {
    "id": "13M0wOBkTCfM"
   },
   "outputs": [],
   "source": [
    "summary_df(c_grp3)"
   ]
  },
  {
   "cell_type": "code",
   "execution_count": null,
   "metadata": {
    "id": "PlIMduubTCfQ"
   },
   "outputs": [],
   "source": [
    "summary_df(c_grp4)"
   ]
  },
  {
   "cell_type": "code",
   "execution_count": null,
   "metadata": {
    "id": "auAN_iORTCfS"
   },
   "outputs": [],
   "source": [
    "summary_df(c_grp5)"
   ]
  },
  {
   "cell_type": "markdown",
   "metadata": {
    "id": "NKW--A73mzli"
   },
   "source": [
    "#### สร้าง Bag of word dataframe"
   ]
  },
  {
   "cell_type": "code",
   "execution_count": null,
   "metadata": {
    "id": "K7G96Eb_TCfU"
   },
   "outputs": [],
   "source": [
    "join_df = pd.concat([c_grp1,c_grp2,c_grp3,c_grp4,c_grp5], axis=1)"
   ]
  },
  {
   "cell_type": "code",
   "execution_count": null,
   "metadata": {
    "id": "hM3kyMSfTCfX"
   },
   "outputs": [],
   "source": [
    "join_df.head(10)"
   ]
  },
  {
   "cell_type": "markdown",
   "metadata": {
    "id": "uBBA36fDTCfZ"
   },
   "source": [
    "### Create co-occurrence matrix จาก Bag of word"
   ]
  },
  {
   "cell_type": "code",
   "execution_count": null,
   "metadata": {
    "id": "LgE1okejTCfZ"
   },
   "outputs": [],
   "source": [
    "item_item_matrix = pd.DataFrame(index=join_df.columns,columns=join_df.columns).fillna(0)"
   ]
  },
  {
   "cell_type": "code",
   "execution_count": null,
   "metadata": {
    "id": "05j3U3ymTCfb"
   },
   "outputs": [],
   "source": [
    "def cnt_Grpby(df,i,j):\n",
    "    PAIB = pd.DataFrame(df.groupby(df.iloc[:,i].name)[df.iloc[:,j].name].value_counts())\n",
    "    PAIB.index.names = ['A','B']\n",
    "    PAIB.columns = ['freq']\n",
    "    PAIB.reset_index(inplace=True)\n",
    "    _PAIB = PAIB[(PAIB.A>0)&(PAIB.B>0)]\n",
    "    return _PAIB.freq.sum()"
   ]
  },
  {
   "cell_type": "code",
   "execution_count": null,
   "metadata": {
    "id": "1jhFte5eTCfd"
   },
   "outputs": [],
   "source": [
    "# Co-occurrence\n",
    "for i in range(0,len(item_item_matrix.columns)):\n",
    "    for j in range(0,len(item_item_matrix.columns)):\n",
    "        if i != j:\n",
    "            item_item_matrix.iloc[i,j] = cnt_Grpby(join_df,i,j)\n",
    "        else:\n",
    "            item_item_matrix.iloc[i,j] = 0"
   ]
  },
  {
   "cell_type": "code",
   "execution_count": null,
   "metadata": {
    "id": "OhtvLfMXTCfg"
   },
   "outputs": [],
   "source": [
    "item_item_matrix.head()"
   ]
  },
  {
   "cell_type": "code",
   "execution_count": null,
   "metadata": {
    "id": "bsbsqduDTCfh"
   },
   "outputs": [],
   "source": [
    "item_item_matrix.to_excel(comment_past_nlp_file, index=True)"
   ]
  },
  {
   "cell_type": "markdown",
   "metadata": {
    "id": "O8nlNNE4TCfj"
   },
   "source": [
    "### Create co-occurrence matrix with Lift normalization"
   ]
  },
  {
   "cell_type": "code",
   "execution_count": null,
   "metadata": {
    "id": "Qykd9Z88TCfj"
   },
   "outputs": [],
   "source": [
    "item_item_matrix = pd.DataFrame(index=join_df.columns,columns=join_df.columns).fillna(0)"
   ]
  },
  {
   "cell_type": "code",
   "execution_count": null,
   "metadata": {
    "id": "ElfF27atTCfp"
   },
   "outputs": [],
   "source": [
    "def a_in_b(df,i,j):\n",
    "    PAIB = pd.DataFrame(df.groupby(df.iloc[:,j].name)[df.iloc[:,i].name].value_counts())\n",
    "    PAIB.index.names = ['B','A']\n",
    "    PAIB.columns = ['freq']\n",
    "    PAIB.reset_index(inplace=True)\n",
    "    PAIB_ = PAIB[(PAIB.A>0)&(PAIB.B>0)]\n",
    "    return PAIB_.freq.sum()/PAIB.freq.sum()"
   ]
  },
  {
   "cell_type": "code",
   "execution_count": null,
   "metadata": {
    "id": "h1sDGAMWTCfr"
   },
   "outputs": [],
   "source": [
    "for i in range(0,len(item_item_matrix.columns)) :\n",
    "    for j in range(0,len(item_item_matrix.columns)) :\n",
    "        A = join_df.iloc[:,i]\n",
    "        B = join_df.iloc[:,j]\n",
    "        PA = A[A!=0].count()/A.shape[0]\n",
    "        PB = B[B!=0].count()/B.shape[0]\n",
    "        PAB = PB*a_in_b(join_df,i,j)\n",
    "        item_item_matrix.iloc[i,j] = PAB/(PA*PB)"
   ]
  },
  {
   "cell_type": "code",
   "execution_count": null,
   "metadata": {
    "id": "Wzd336KbTCfs"
   },
   "outputs": [],
   "source": [
    "item_item_matrix.replace([np.inf, -np.inf], np.nan,inplace=True)\n",
    "item_item_matrix.fillna(0,inplace=True)"
   ]
  },
  {
   "cell_type": "code",
   "execution_count": null,
   "metadata": {
    "id": "8qG7pCYfTCfu"
   },
   "outputs": [],
   "source": [
    "item_item_matrix.head()"
   ]
  },
  {
   "cell_type": "code",
   "execution_count": null,
   "metadata": {
    "id": "LsZZMOcTTCfw"
   },
   "outputs": [],
   "source": [
    "item_item_matrix.to_excel(comment_past_nlp_file, index=True)"
   ]
  }
 ],
 "metadata": {
  "colab": {
   "collapsed_sections": [
    "EpwX95XlTCdl",
    "_Q9pU1J6TCe5",
    "NKW--A73mzli",
    "uBBA36fDTCfZ",
    "O8nlNNE4TCfj"
   ],
   "name": "EDA_Token_CoocMat.ipynb",
   "provenance": []
  },
  "kernelspec": {
   "display_name": "Python 3",
   "language": "python",
   "name": "python3"
  },
  "language_info": {
   "codemirror_mode": {
    "name": "ipython",
    "version": 3
   },
   "file_extension": ".py",
   "mimetype": "text/x-python",
   "name": "python",
   "nbconvert_exporter": "python",
   "pygments_lexer": "ipython3",
   "version": "3.7.3"
  }
 },
 "nbformat": 4,
 "nbformat_minor": 1
}
