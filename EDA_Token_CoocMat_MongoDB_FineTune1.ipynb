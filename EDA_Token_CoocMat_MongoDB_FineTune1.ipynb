{
 "cells": [
  {
   "cell_type": "markdown",
   "metadata": {
    "id": "xoY8sy40TCb5"
   },
   "source": [
    "### IS Proof of concept\n",
    "Finding Product position on Social Network (PPSN)"
   ]
  },
  {
   "cell_type": "raw",
   "metadata": {
    "colab": {
     "base_uri": "https://localhost:8080/"
    },
    "executionInfo": {
     "elapsed": 28353,
     "status": "ok",
     "timestamp": 1604024868503,
     "user": {
      "displayName": "Pacharapol O.",
      "photoUrl": "https://lh3.googleusercontent.com/a-/AOh14GiBNaVjsCxoMVUqEvSDC7eauF0V2ZD7B-TzevR1TQ=s64",
      "userId": "00378494490135533545"
     },
     "user_tz": -420
    },
    "id": "GkBEUBUqTGuf",
    "outputId": "cb22db45-820a-48fd-c11a-a0568439778f"
   },
   "source": [
    "from google.colab import drive\n",
    "drive.mount('/content/drive')"
   ]
  },
  {
   "cell_type": "raw",
   "metadata": {
    "colab": {
     "base_uri": "https://localhost:8080/"
    },
    "executionInfo": {
     "elapsed": 1693,
     "status": "ok",
     "timestamp": 1604024868819,
     "user": {
      "displayName": "Pacharapol O.",
      "photoUrl": "https://lh3.googleusercontent.com/a-/AOh14GiBNaVjsCxoMVUqEvSDC7eauF0V2ZD7B-TzevR1TQ=s64",
      "userId": "00378494490135533545"
     },
     "user_tz": -420
    },
    "id": "_5mrzpx3TH9K",
    "outputId": "129bb192-4ac2-4b03-bc89-7ee7a65d5032"
   },
   "source": [
    "cd /content/drive/My\\ Drive/Colab\\ Notebooks/Master_PJ_DRMABS/Datasource"
   ]
  },
  {
   "cell_type": "code",
   "execution_count": 1,
   "metadata": {
    "executionInfo": {
     "elapsed": 2631,
     "status": "ok",
     "timestamp": 1604024879769,
     "user": {
      "displayName": "Pacharapol O.",
      "photoUrl": "https://lh3.googleusercontent.com/a-/AOh14GiBNaVjsCxoMVUqEvSDC7eauF0V2ZD7B-TzevR1TQ=s64",
      "userId": "00378494490135533545"
     },
     "user_tz": -420
    },
    "id": "cC0cBdCdTCb6"
   },
   "outputs": [],
   "source": [
    "import networkx as nx\n",
    "import numpy as np\n",
    "import pandas as pd\n",
    "import itertools\n",
    "import math\n",
    "import string\n",
    "import json\n",
    "import pymongo"
   ]
  },
  {
   "cell_type": "code",
   "execution_count": 2,
   "metadata": {},
   "outputs": [
    {
     "name": "stderr",
     "output_type": "stream",
     "text": [
      "C:\\ProgramData\\Anaconda3\\lib\\site-packages\\past\\types\\oldstr.py:5: DeprecationWarning: Using or importing the ABCs from 'collections' instead of from 'collections.abc' is deprecated, and in 3.8 it will stop working\n",
      "  from collections import Iterable\n",
      "C:\\ProgramData\\Anaconda3\\lib\\site-packages\\_pytest\\mark\\structures.py:378: DeprecationWarning: The usage of `cmp` is deprecated and will be removed on or after 2021-06-01.  Please use `eq` and `order` instead.\n",
      "  @attr.s(cmp=False, hash=False)\n"
     ]
    }
   ],
   "source": [
    "import gensim\n",
    "import pyLDAvis.gensim\n",
    "pyLDAvis.enable_notebook()\n",
    "import warnings\n",
    "warnings.filterwarnings(\"ignore\", category=DeprecationWarning) "
   ]
  },
  {
   "cell_type": "code",
   "execution_count": 3,
   "metadata": {
    "executionInfo": {
     "elapsed": 2031,
     "status": "ok",
     "timestamp": 1604024879770,
     "user": {
      "displayName": "Pacharapol O.",
      "photoUrl": "https://lh3.googleusercontent.com/a-/AOh14GiBNaVjsCxoMVUqEvSDC7eauF0V2ZD7B-TzevR1TQ=s64",
      "userId": "00378494490135533545"
     },
     "user_tz": -420
    },
    "id": "1kqXURiiTCb-"
   },
   "outputs": [],
   "source": [
    "import time\n",
    "from datetime import datetime\n",
    "today = datetime.now()"
   ]
  },
  {
   "cell_type": "code",
   "execution_count": 4,
   "metadata": {
    "colab": {
     "base_uri": "https://localhost:8080/"
    },
    "executionInfo": {
     "elapsed": 3451,
     "status": "ok",
     "timestamp": 1604028167896,
     "user": {
      "displayName": "Pacharapol O.",
      "photoUrl": "https://lh3.googleusercontent.com/a-/AOh14GiBNaVjsCxoMVUqEvSDC7eauF0V2ZD7B-TzevR1TQ=s64",
      "userId": "00378494490135533545"
     },
     "user_tz": -420
    },
    "id": "weEcXSD8TCcI",
    "outputId": "1219680e-0d54-4649-a26e-535e112f0650"
   },
   "outputs": [],
   "source": [
    "#!pip install pythainlp\n",
    "import pythainlp\n",
    "from pythainlp import Tokenizer\n",
    "from pythainlp.util import normalize\n",
    "from pythainlp.tokenize import word_tokenize\n",
    "from pythainlp.corpus.common import thai_words\n",
    "from pythainlp import sent_tokenize\n",
    "from pythainlp.corpus import thai_stopwords\n",
    "from pythainlp.util import dict_trie\n",
    "from pythainlp.tag import pos_tag"
   ]
  },
  {
   "cell_type": "code",
   "execution_count": 5,
   "metadata": {},
   "outputs": [],
   "source": [
    "import statistics as stat\n",
    "import matplotlib.pyplot as plt\n",
    "import seaborn as sns"
   ]
  },
  {
   "cell_type": "code",
   "execution_count": 6,
   "metadata": {
    "id": "Jpa16DrfTCeL"
   },
   "outputs": [],
   "source": [
    "# https://thainlp.org/pythainlp/docs/2.0/api/tag.html\n",
    "from pythainlp.spell import correct\n",
    "from pythainlp.tag import pos_tag\n",
    "\n",
    "#https://thainlp.org/pythainlp/docs/2.0/api/transliterate.html\n",
    "from pythainlp.transliterate import romanize"
   ]
  },
  {
   "cell_type": "code",
   "execution_count": 7,
   "metadata": {
    "executionInfo": {
     "elapsed": 6121,
     "status": "ok",
     "timestamp": 1604024888335,
     "user": {
      "displayName": "Pacharapol O.",
      "photoUrl": "https://lh3.googleusercontent.com/a-/AOh14GiBNaVjsCxoMVUqEvSDC7eauF0V2ZD7B-TzevR1TQ=s64",
      "userId": "00378494490135533545"
     },
     "user_tz": -420
    },
    "id": "acWWFhczTCcO"
   },
   "outputs": [],
   "source": [
    "from bs4 import BeautifulSoup\n",
    "from urllib.request import urlopen"
   ]
  },
  {
   "cell_type": "code",
   "execution_count": 8,
   "metadata": {
    "executionInfo": {
     "elapsed": 5596,
     "status": "ok",
     "timestamp": 1604024888336,
     "user": {
      "displayName": "Pacharapol O.",
      "photoUrl": "https://lh3.googleusercontent.com/a-/AOh14GiBNaVjsCxoMVUqEvSDC7eauF0V2ZD7B-TzevR1TQ=s64",
      "userId": "00378494490135533545"
     },
     "user_tz": -420
    },
    "id": "l0SZe4-LTCcd"
   },
   "outputs": [],
   "source": [
    "from IPython.display import clear_output"
   ]
  },
  {
   "cell_type": "code",
   "execution_count": 9,
   "metadata": {
    "executionInfo": {
     "elapsed": 831,
     "status": "ok",
     "timestamp": 1604027698593,
     "user": {
      "displayName": "Pacharapol O.",
      "photoUrl": "https://lh3.googleusercontent.com/a-/AOh14GiBNaVjsCxoMVUqEvSDC7eauF0V2ZD7B-TzevR1TQ=s64",
      "userId": "00378494490135533545"
     },
     "user_tz": -420
    },
    "id": "sna_e7nATCch"
   },
   "outputs": [],
   "source": [
    "# Files definition\n",
    "root_path = 'Datasource'\n",
    "\n",
    "comment_file = []\n",
    "comment_file.append(root_path+\"/comment_meiji.csv\")\n",
    "comment_file.append(root_path+\"/comment_DDCF.csv\")\n",
    "\n",
    "#comment_file = []\n",
    "#comment_file.append(\"comment_meiji.csv\")\n",
    "#comment_file.append(\"comment_DDCF.csv\")\n",
    "\n",
    "comment_nlp_file = root_path+\"/comment_nlpToken.csv\"\n",
    "comment_cooc_nlp_file = root_path+\"/comment_cooc.xlsx\"\n",
    "\n",
    "#comment_nlp_file = \"comment_nlpToken.csv\"\n",
    "#comment_cooc_nlp_file = \"comment_cooc.xlsx\""
   ]
  },
  {
   "cell_type": "code",
   "execution_count": 10,
   "metadata": {},
   "outputs": [],
   "source": [
    "# Connect MongoDB\n",
    "myclient = pymongo.MongoClient(\"mongodb://localhost:27017/\")\n",
    "mydb = myclient[\"NIDA_PPSN_PRD\"]\n",
    "col_thread = mydb[\"NIDA_PPSN_THREAD\"]\n",
    "col_comment = mydb[\"NIDA_PPSN_COMMENT\"]"
   ]
  },
  {
   "cell_type": "code",
   "execution_count": 11,
   "metadata": {
    "executionInfo": {
     "elapsed": 866,
     "status": "ok",
     "timestamp": 1604028004964,
     "user": {
      "displayName": "Pacharapol O.",
      "photoUrl": "https://lh3.googleusercontent.com/a-/AOh14GiBNaVjsCxoMVUqEvSDC7eauF0V2ZD7B-TzevR1TQ=s64",
      "userId": "00378494490135533545"
     },
     "user_tz": -420
    },
    "id": "oaqpUVffTCdm"
   },
   "outputs": [],
   "source": [
    "def checkStopwords(w):\n",
    "    returnList = []\n",
    "    stopwords = set(thai_stopwords())\n",
    "    stopwords.remove('ไม่')\n",
    "    stopwords.remove('ได้')\n",
    "    for i in w:  # comment\n",
    "        if i not in stopwords:\n",
    "            returnList.append(i)\n",
    "    return returnList"
   ]
  },
  {
   "cell_type": "code",
   "execution_count": 12,
   "metadata": {
    "executionInfo": {
     "elapsed": 952,
     "status": "ok",
     "timestamp": 1604026404057,
     "user": {
      "displayName": "Pacharapol O.",
      "photoUrl": "https://lh3.googleusercontent.com/a-/AOh14GiBNaVjsCxoMVUqEvSDC7eauF0V2ZD7B-TzevR1TQ=s64",
      "userId": "00378494490135533545"
     },
     "user_tz": -420
    },
    "id": "Ja-P4yvKa06u"
   },
   "outputs": [],
   "source": [
    "def checkThai(txt):\n",
    "    prop = pythainlp.util.countthai(txt)\n",
    "    return prop"
   ]
  },
  {
   "cell_type": "code",
   "execution_count": 13,
   "metadata": {
    "executionInfo": {
     "elapsed": 880,
     "status": "ok",
     "timestamp": 1604028299778,
     "user": {
      "displayName": "Pacharapol O.",
      "photoUrl": "https://lh3.googleusercontent.com/a-/AOh14GiBNaVjsCxoMVUqEvSDC7eauF0V2ZD7B-TzevR1TQ=s64",
      "userId": "00378494490135533545"
     },
     "user_tz": -420
    },
    "id": "cr_O7hE5htx2"
   },
   "outputs": [],
   "source": [
    "def normThai(w):\n",
    "    returnList = []\n",
    "    for i in w:\n",
    "        returnList.append(normalize(i).lower())\n",
    "    return returnList"
   ]
  },
  {
   "cell_type": "code",
   "execution_count": 14,
   "metadata": {
    "executionInfo": {
     "elapsed": 880,
     "status": "ok",
     "timestamp": 1604028299778,
     "user": {
      "displayName": "Pacharapol O.",
      "photoUrl": "https://lh3.googleusercontent.com/a-/AOh14GiBNaVjsCxoMVUqEvSDC7eauF0V2ZD7B-TzevR1TQ=s64",
      "userId": "00378494490135533545"
     },
     "user_tz": -420
    },
    "id": "cr_O7hE5htx2"
   },
   "outputs": [],
   "source": [
    "def tagThai(w):\n",
    "    pd_returnList = pd.DataFrame(pos_tag(w, corpus='pud'))\n",
    "    returnList = pd_returnList.iloc[:,1]\n",
    "    return returnList"
   ]
  },
  {
   "cell_type": "code",
   "execution_count": 15,
   "metadata": {
    "executionInfo": {
     "elapsed": 880,
     "status": "ok",
     "timestamp": 1604028299778,
     "user": {
      "displayName": "Pacharapol O.",
      "photoUrl": "https://lh3.googleusercontent.com/a-/AOh14GiBNaVjsCxoMVUqEvSDC7eauF0V2ZD7B-TzevR1TQ=s64",
      "userId": "00378494490135533545"
     },
     "user_tz": -420
    },
    "id": "cr_O7hE5htx2"
   },
   "outputs": [],
   "source": [
    "def soundThai(w):\n",
    "    returnList = []\n",
    "    for i in w:\n",
    "        returnList.append(romanize(i, engine=\"thai2rom\"))\n",
    "    return returnList"
   ]
  },
  {
   "cell_type": "code",
   "execution_count": 16,
   "metadata": {},
   "outputs": [],
   "source": [
    "list_punc = []\n",
    "for c in string.punctuation:\n",
    "    list_punc.append(c)"
   ]
  },
  {
   "cell_type": "markdown",
   "metadata": {
    "id": "wlnotsqqTCcl"
   },
   "source": [
    "### Clean data & NLP Tokenized"
   ]
  },
  {
   "cell_type": "code",
   "execution_count": 17,
   "metadata": {
    "executionInfo": {
     "elapsed": 2677,
     "status": "ok",
     "timestamp": 1604027704431,
     "user": {
      "displayName": "Pacharapol O.",
      "photoUrl": "https://lh3.googleusercontent.com/a-/AOh14GiBNaVjsCxoMVUqEvSDC7eauF0V2ZD7B-TzevR1TQ=s64",
      "userId": "00378494490135533545"
     },
     "user_tz": -420
    },
    "id": "VXYRZDubTCcm"
   },
   "outputs": [],
   "source": [
    "df_textList1 = pd.read_csv(comment_file[0],header=None)\n",
    "df_textList2 = pd.read_csv(comment_file[1],header=None)"
   ]
  },
  {
   "cell_type": "code",
   "execution_count": 18,
   "metadata": {
    "executionInfo": {
     "elapsed": 1168,
     "status": "ok",
     "timestamp": 1604027707570,
     "user": {
      "displayName": "Pacharapol O.",
      "photoUrl": "https://lh3.googleusercontent.com/a-/AOh14GiBNaVjsCxoMVUqEvSDC7eauF0V2ZD7B-TzevR1TQ=s64",
      "userId": "00378494490135533545"
     },
     "user_tz": -420
    },
    "id": "2Lc6T0oATCcp"
   },
   "outputs": [],
   "source": [
    "df_textList1.insert(0,'Table','Meiji')\n",
    "df_textList1.columns = ['Table','URLs', 'text', 'Retrived_date']\n",
    "df_textList2.insert(0,'Table','DDFC')\n",
    "df_textList2.columns = ['Table','URLs', 'text', 'Retrived_date']"
   ]
  },
  {
   "cell_type": "code",
   "execution_count": 19,
   "metadata": {
    "colab": {
     "base_uri": "https://localhost:8080/",
     "height": 79
    },
    "executionInfo": {
     "elapsed": 1043,
     "status": "ok",
     "timestamp": 1604027708520,
     "user": {
      "displayName": "Pacharapol O.",
      "photoUrl": "https://lh3.googleusercontent.com/a-/AOh14GiBNaVjsCxoMVUqEvSDC7eauF0V2ZD7B-TzevR1TQ=s64",
      "userId": "00378494490135533545"
     },
     "user_tz": -420
    },
    "id": "594kVpigTCcv",
    "outputId": "44e651f1-4657-4a83-f483-a33998995e6b"
   },
   "outputs": [
    {
     "data": {
      "text/html": [
       "<div>\n",
       "<style scoped>\n",
       "    .dataframe tbody tr th:only-of-type {\n",
       "        vertical-align: middle;\n",
       "    }\n",
       "\n",
       "    .dataframe tbody tr th {\n",
       "        vertical-align: top;\n",
       "    }\n",
       "\n",
       "    .dataframe thead th {\n",
       "        text-align: right;\n",
       "    }\n",
       "</style>\n",
       "<table border=\"1\" class=\"dataframe\">\n",
       "  <thead>\n",
       "    <tr style=\"text-align: right;\">\n",
       "      <th></th>\n",
       "      <th>count</th>\n",
       "      <th>mean</th>\n",
       "      <th>std</th>\n",
       "      <th>min</th>\n",
       "      <th>25%</th>\n",
       "      <th>50%</th>\n",
       "      <th>75%</th>\n",
       "      <th>max</th>\n",
       "    </tr>\n",
       "  </thead>\n",
       "  <tbody>\n",
       "    <tr>\n",
       "      <th>URLs</th>\n",
       "      <td>1000.0</td>\n",
       "      <td>43.049</td>\n",
       "      <td>53.682105</td>\n",
       "      <td>3.0</td>\n",
       "      <td>11.0</td>\n",
       "      <td>21.0</td>\n",
       "      <td>49.0</td>\n",
       "      <td>351.0</td>\n",
       "    </tr>\n",
       "  </tbody>\n",
       "</table>\n",
       "</div>"
      ],
      "text/plain": [
       "       count    mean        std  min   25%   50%   75%    max\n",
       "URLs  1000.0  43.049  53.682105  3.0  11.0  21.0  49.0  351.0"
      ]
     },
     "execution_count": 19,
     "metadata": {},
     "output_type": "execute_result"
    }
   ],
   "source": [
    "pd.DataFrame(df_textList1.URLs.value_counts()).describe().T"
   ]
  },
  {
   "cell_type": "code",
   "execution_count": 20,
   "metadata": {
    "colab": {
     "base_uri": "https://localhost:8080/"
    },
    "executionInfo": {
     "elapsed": 853,
     "status": "ok",
     "timestamp": 1604027711587,
     "user": {
      "displayName": "Pacharapol O.",
      "photoUrl": "https://lh3.googleusercontent.com/a-/AOh14GiBNaVjsCxoMVUqEvSDC7eauF0V2ZD7B-TzevR1TQ=s64",
      "userId": "00378494490135533545"
     },
     "user_tz": -420
    },
    "id": "DKbN38AzTCc0",
    "outputId": "f1bafe8c-19c9-4b52-dbb7-faafb7726901"
   },
   "outputs": [
    {
     "name": "stdout",
     "output_type": "stream",
     "text": [
      "meiji comment: 43049\n",
      "meiji URLs ก่อนตัด: 1000\n"
     ]
    }
   ],
   "source": [
    "print('meiji comment:',df_textList1.shape[0])\n",
    "print('meiji URLs ก่อนตัด:',len(df_textList1.URLs.unique()))"
   ]
  },
  {
   "cell_type": "code",
   "execution_count": 21,
   "metadata": {
    "colab": {
     "base_uri": "https://localhost:8080/",
     "height": 79
    },
    "executionInfo": {
     "elapsed": 906,
     "status": "ok",
     "timestamp": 1604027713588,
     "user": {
      "displayName": "Pacharapol O.",
      "photoUrl": "https://lh3.googleusercontent.com/a-/AOh14GiBNaVjsCxoMVUqEvSDC7eauF0V2ZD7B-TzevR1TQ=s64",
      "userId": "00378494490135533545"
     },
     "user_tz": -420
    },
    "id": "oJKpaP0xTCc4",
    "outputId": "7705fefd-637c-4533-b001-5016a317c45b"
   },
   "outputs": [
    {
     "data": {
      "text/html": [
       "<div>\n",
       "<style scoped>\n",
       "    .dataframe tbody tr th:only-of-type {\n",
       "        vertical-align: middle;\n",
       "    }\n",
       "\n",
       "    .dataframe tbody tr th {\n",
       "        vertical-align: top;\n",
       "    }\n",
       "\n",
       "    .dataframe thead th {\n",
       "        text-align: right;\n",
       "    }\n",
       "</style>\n",
       "<table border=\"1\" class=\"dataframe\">\n",
       "  <thead>\n",
       "    <tr style=\"text-align: right;\">\n",
       "      <th></th>\n",
       "      <th>count</th>\n",
       "      <th>mean</th>\n",
       "      <th>std</th>\n",
       "      <th>min</th>\n",
       "      <th>25%</th>\n",
       "      <th>50%</th>\n",
       "      <th>75%</th>\n",
       "      <th>max</th>\n",
       "    </tr>\n",
       "  </thead>\n",
       "  <tbody>\n",
       "    <tr>\n",
       "      <th>URLs</th>\n",
       "      <td>517.0</td>\n",
       "      <td>44.756286</td>\n",
       "      <td>57.056773</td>\n",
       "      <td>1.0</td>\n",
       "      <td>10.0</td>\n",
       "      <td>19.0</td>\n",
       "      <td>53.0</td>\n",
       "      <td>328.0</td>\n",
       "    </tr>\n",
       "  </tbody>\n",
       "</table>\n",
       "</div>"
      ],
      "text/plain": [
       "      count       mean        std  min   25%   50%   75%    max\n",
       "URLs  517.0  44.756286  57.056773  1.0  10.0  19.0  53.0  328.0"
      ]
     },
     "execution_count": 21,
     "metadata": {},
     "output_type": "execute_result"
    }
   ],
   "source": [
    "pd.DataFrame(df_textList2.URLs.value_counts()).describe().T"
   ]
  },
  {
   "cell_type": "code",
   "execution_count": 22,
   "metadata": {
    "colab": {
     "base_uri": "https://localhost:8080/"
    },
    "executionInfo": {
     "elapsed": 887,
     "status": "ok",
     "timestamp": 1604027715137,
     "user": {
      "displayName": "Pacharapol O.",
      "photoUrl": "https://lh3.googleusercontent.com/a-/AOh14GiBNaVjsCxoMVUqEvSDC7eauF0V2ZD7B-TzevR1TQ=s64",
      "userId": "00378494490135533545"
     },
     "user_tz": -420
    },
    "id": "wGrNn6b4TCc7",
    "outputId": "df1d8a4a-b8ea-45d8-99e8-65aa6e8178bb"
   },
   "outputs": [
    {
     "name": "stdout",
     "output_type": "stream",
     "text": [
      "DDCF comment: 23139\n",
      "DDCF URLs ก่อนตัด: 517\n"
     ]
    }
   ],
   "source": [
    "print('DDCF comment:',df_textList2.shape[0])\n",
    "print('DDCF URLs ก่อนตัด:',len(df_textList2.URLs.unique()))"
   ]
  },
  {
   "cell_type": "code",
   "execution_count": 23,
   "metadata": {
    "executionInfo": {
     "elapsed": 1076,
     "status": "ok",
     "timestamp": 1604027716129,
     "user": {
      "displayName": "Pacharapol O.",
      "photoUrl": "https://lh3.googleusercontent.com/a-/AOh14GiBNaVjsCxoMVUqEvSDC7eauF0V2ZD7B-TzevR1TQ=s64",
      "userId": "00378494490135533545"
     },
     "user_tz": -420
    },
    "id": "7IxgQQhCTCc_"
   },
   "outputs": [],
   "source": [
    "df_Corpus = pd.concat([df_textList1,df_textList2],ignore_index=True)"
   ]
  },
  {
   "cell_type": "code",
   "execution_count": 24,
   "metadata": {
    "colab": {
     "base_uri": "https://localhost:8080/"
    },
    "executionInfo": {
     "elapsed": 885,
     "status": "ok",
     "timestamp": 1604027718134,
     "user": {
      "displayName": "Pacharapol O.",
      "photoUrl": "https://lh3.googleusercontent.com/a-/AOh14GiBNaVjsCxoMVUqEvSDC7eauF0V2ZD7B-TzevR1TQ=s64",
      "userId": "00378494490135533545"
     },
     "user_tz": -420
    },
    "id": "Xf0_nwz8TCdB",
    "outputId": "d39ed4de-8549-4488-d8c5-04e62e8a4dfd"
   },
   "outputs": [
    {
     "name": "stdout",
     "output_type": "stream",
     "text": [
      "All comment: 66188\n",
      "All URLs ก่อนตัด: 1517\n"
     ]
    }
   ],
   "source": [
    "print('All comment:',df_Corpus.shape[0])\n",
    "print('All URLs ก่อนตัด:',len(df_Corpus.URLs.unique()))"
   ]
  },
  {
   "cell_type": "code",
   "execution_count": 25,
   "metadata": {
    "colab": {
     "base_uri": "https://localhost:8080/"
    },
    "executionInfo": {
     "elapsed": 1032,
     "status": "ok",
     "timestamp": 1604027719151,
     "user": {
      "displayName": "Pacharapol O.",
      "photoUrl": "https://lh3.googleusercontent.com/a-/AOh14GiBNaVjsCxoMVUqEvSDC7eauF0V2ZD7B-TzevR1TQ=s64",
      "userId": "00378494490135533545"
     },
     "user_tz": -420
    },
    "id": "vRH0T2gLTCdE",
    "outputId": "0722d375-5945-44d8-bc71-f39dcc58a0e9"
   },
   "outputs": [
    {
     "name": "stdout",
     "output_type": "stream",
     "text": [
      "Table               0\n",
      "URLs                0\n",
      "text             4703\n",
      "Retrived_date       0\n",
      "dtype: int64\n"
     ]
    }
   ],
   "source": [
    "missing = df_Corpus.isnull().sum()\n",
    "print(missing)"
   ]
  },
  {
   "cell_type": "code",
   "execution_count": 26,
   "metadata": {
    "colab": {
     "base_uri": "https://localhost:8080/",
     "height": 202
    },
    "executionInfo": {
     "elapsed": 828,
     "status": "ok",
     "timestamp": 1604027721340,
     "user": {
      "displayName": "Pacharapol O.",
      "photoUrl": "https://lh3.googleusercontent.com/a-/AOh14GiBNaVjsCxoMVUqEvSDC7eauF0V2ZD7B-TzevR1TQ=s64",
      "userId": "00378494490135533545"
     },
     "user_tz": -420
    },
    "id": "LXg1m0eoTCdK",
    "outputId": "567e2a04-8322-4104-9f68-6d509815fd24"
   },
   "outputs": [
    {
     "data": {
      "text/html": [
       "<div>\n",
       "<style scoped>\n",
       "    .dataframe tbody tr th:only-of-type {\n",
       "        vertical-align: middle;\n",
       "    }\n",
       "\n",
       "    .dataframe tbody tr th {\n",
       "        vertical-align: top;\n",
       "    }\n",
       "\n",
       "    .dataframe thead th {\n",
       "        text-align: right;\n",
       "    }\n",
       "</style>\n",
       "<table border=\"1\" class=\"dataframe\">\n",
       "  <thead>\n",
       "    <tr style=\"text-align: right;\">\n",
       "      <th></th>\n",
       "      <th>Table</th>\n",
       "      <th>URLs</th>\n",
       "      <th>text</th>\n",
       "      <th>Retrived_date</th>\n",
       "    </tr>\n",
       "  </thead>\n",
       "  <tbody>\n",
       "    <tr>\n",
       "      <th>66183</th>\n",
       "      <td>DDFC</td>\n",
       "      <td>https://pantip.com/topic/30651064</td>\n",
       "      <td>มีหลายยี่ห้อนะค่ะ พวกจิตรดา ไทยเดนมาร์ค โฟร์โม...</td>\n",
       "      <td>2020-10-27 13:54:33.920930</td>\n",
       "    </tr>\n",
       "    <tr>\n",
       "      <th>66184</th>\n",
       "      <td>DDFC</td>\n",
       "      <td>https://pantip.com/topic/30651064</td>\n",
       "      <td>เดี๋ยวนมรสจืด ส่วนใหญ่ก็นมโคแท้ 100%ทั้งนั้นแห...</td>\n",
       "      <td>2020-10-27 13:54:33.920930</td>\n",
       "    </tr>\n",
       "    <tr>\n",
       "      <th>66185</th>\n",
       "      <td>DDFC</td>\n",
       "      <td>https://pantip.com/topic/30651064</td>\n",
       "      <td>ตามกฏหมายเอง นมโคสดแท้ 100% กับนมโคแท้ 100% ไม...</td>\n",
       "      <td>2020-10-27 13:54:33.920930</td>\n",
       "    </tr>\n",
       "    <tr>\n",
       "      <th>66186</th>\n",
       "      <td>DDFC</td>\n",
       "      <td>https://pantip.com/topic/30651064</td>\n",
       "      <td>NaN</td>\n",
       "      <td>2020-10-27 13:54:33.920930</td>\n",
       "    </tr>\n",
       "    <tr>\n",
       "      <th>66187</th>\n",
       "      <td>DDFC</td>\n",
       "      <td>https://pantip.com/topic/30651064</td>\n",
       "      <td>NaN</td>\n",
       "      <td>2020-10-27 13:54:33.920930</td>\n",
       "    </tr>\n",
       "  </tbody>\n",
       "</table>\n",
       "</div>"
      ],
      "text/plain": [
       "      Table                               URLs  \\\n",
       "66183  DDFC  https://pantip.com/topic/30651064   \n",
       "66184  DDFC  https://pantip.com/topic/30651064   \n",
       "66185  DDFC  https://pantip.com/topic/30651064   \n",
       "66186  DDFC  https://pantip.com/topic/30651064   \n",
       "66187  DDFC  https://pantip.com/topic/30651064   \n",
       "\n",
       "                                                    text  \\\n",
       "66183  มีหลายยี่ห้อนะค่ะ พวกจิตรดา ไทยเดนมาร์ค โฟร์โม...   \n",
       "66184  เดี๋ยวนมรสจืด ส่วนใหญ่ก็นมโคแท้ 100%ทั้งนั้นแห...   \n",
       "66185  ตามกฏหมายเอง นมโคสดแท้ 100% กับนมโคแท้ 100% ไม...   \n",
       "66186                                                NaN   \n",
       "66187                                                NaN   \n",
       "\n",
       "                    Retrived_date  \n",
       "66183  2020-10-27 13:54:33.920930  \n",
       "66184  2020-10-27 13:54:33.920930  \n",
       "66185  2020-10-27 13:54:33.920930  \n",
       "66186  2020-10-27 13:54:33.920930  \n",
       "66187  2020-10-27 13:54:33.920930  "
      ]
     },
     "execution_count": 26,
     "metadata": {},
     "output_type": "execute_result"
    }
   ],
   "source": [
    "df_Corpus.tail()"
   ]
  },
  {
   "cell_type": "code",
   "execution_count": 27,
   "metadata": {
    "executionInfo": {
     "elapsed": 1006,
     "status": "ok",
     "timestamp": 1604027723160,
     "user": {
      "displayName": "Pacharapol O.",
      "photoUrl": "https://lh3.googleusercontent.com/a-/AOh14GiBNaVjsCxoMVUqEvSDC7eauF0V2ZD7B-TzevR1TQ=s64",
      "userId": "00378494490135533545"
     },
     "user_tz": -420
    },
    "id": "_O0BSe9ETCdO"
   },
   "outputs": [],
   "source": [
    "seqNum = list(range(1,df_Corpus.shape[0]+1))\n",
    "df_Corpus.insert(0,'commentId',seqNum)\n",
    "df_Corpus.columns = ['commentId','Table','URLs', 'text', 'Retrived_date']"
   ]
  },
  {
   "cell_type": "code",
   "execution_count": 28,
   "metadata": {
    "colab": {
     "base_uri": "https://localhost:8080/",
     "height": 202
    },
    "executionInfo": {
     "elapsed": 811,
     "status": "ok",
     "timestamp": 1604027724691,
     "user": {
      "displayName": "Pacharapol O.",
      "photoUrl": "https://lh3.googleusercontent.com/a-/AOh14GiBNaVjsCxoMVUqEvSDC7eauF0V2ZD7B-TzevR1TQ=s64",
      "userId": "00378494490135533545"
     },
     "user_tz": -420
    },
    "id": "w-muagoxTCdR",
    "outputId": "a8afe33d-943b-422e-838d-ba8514e9497d"
   },
   "outputs": [
    {
     "data": {
      "text/html": [
       "<div>\n",
       "<style scoped>\n",
       "    .dataframe tbody tr th:only-of-type {\n",
       "        vertical-align: middle;\n",
       "    }\n",
       "\n",
       "    .dataframe tbody tr th {\n",
       "        vertical-align: top;\n",
       "    }\n",
       "\n",
       "    .dataframe thead th {\n",
       "        text-align: right;\n",
       "    }\n",
       "</style>\n",
       "<table border=\"1\" class=\"dataframe\">\n",
       "  <thead>\n",
       "    <tr style=\"text-align: right;\">\n",
       "      <th></th>\n",
       "      <th>commentId</th>\n",
       "      <th>Table</th>\n",
       "      <th>URLs</th>\n",
       "      <th>text</th>\n",
       "      <th>Retrived_date</th>\n",
       "    </tr>\n",
       "  </thead>\n",
       "  <tbody>\n",
       "    <tr>\n",
       "      <th>66183</th>\n",
       "      <td>66184</td>\n",
       "      <td>DDFC</td>\n",
       "      <td>https://pantip.com/topic/30651064</td>\n",
       "      <td>มีหลายยี่ห้อนะค่ะ พวกจิตรดา ไทยเดนมาร์ค โฟร์โม...</td>\n",
       "      <td>2020-10-27 13:54:33.920930</td>\n",
       "    </tr>\n",
       "    <tr>\n",
       "      <th>66184</th>\n",
       "      <td>66185</td>\n",
       "      <td>DDFC</td>\n",
       "      <td>https://pantip.com/topic/30651064</td>\n",
       "      <td>เดี๋ยวนมรสจืด ส่วนใหญ่ก็นมโคแท้ 100%ทั้งนั้นแห...</td>\n",
       "      <td>2020-10-27 13:54:33.920930</td>\n",
       "    </tr>\n",
       "    <tr>\n",
       "      <th>66185</th>\n",
       "      <td>66186</td>\n",
       "      <td>DDFC</td>\n",
       "      <td>https://pantip.com/topic/30651064</td>\n",
       "      <td>ตามกฏหมายเอง นมโคสดแท้ 100% กับนมโคแท้ 100% ไม...</td>\n",
       "      <td>2020-10-27 13:54:33.920930</td>\n",
       "    </tr>\n",
       "    <tr>\n",
       "      <th>66186</th>\n",
       "      <td>66187</td>\n",
       "      <td>DDFC</td>\n",
       "      <td>https://pantip.com/topic/30651064</td>\n",
       "      <td>NaN</td>\n",
       "      <td>2020-10-27 13:54:33.920930</td>\n",
       "    </tr>\n",
       "    <tr>\n",
       "      <th>66187</th>\n",
       "      <td>66188</td>\n",
       "      <td>DDFC</td>\n",
       "      <td>https://pantip.com/topic/30651064</td>\n",
       "      <td>NaN</td>\n",
       "      <td>2020-10-27 13:54:33.920930</td>\n",
       "    </tr>\n",
       "  </tbody>\n",
       "</table>\n",
       "</div>"
      ],
      "text/plain": [
       "       commentId Table                               URLs  \\\n",
       "66183      66184  DDFC  https://pantip.com/topic/30651064   \n",
       "66184      66185  DDFC  https://pantip.com/topic/30651064   \n",
       "66185      66186  DDFC  https://pantip.com/topic/30651064   \n",
       "66186      66187  DDFC  https://pantip.com/topic/30651064   \n",
       "66187      66188  DDFC  https://pantip.com/topic/30651064   \n",
       "\n",
       "                                                    text  \\\n",
       "66183  มีหลายยี่ห้อนะค่ะ พวกจิตรดา ไทยเดนมาร์ค โฟร์โม...   \n",
       "66184  เดี๋ยวนมรสจืด ส่วนใหญ่ก็นมโคแท้ 100%ทั้งนั้นแห...   \n",
       "66185  ตามกฏหมายเอง นมโคสดแท้ 100% กับนมโคแท้ 100% ไม...   \n",
       "66186                                                NaN   \n",
       "66187                                                NaN   \n",
       "\n",
       "                    Retrived_date  \n",
       "66183  2020-10-27 13:54:33.920930  \n",
       "66184  2020-10-27 13:54:33.920930  \n",
       "66185  2020-10-27 13:54:33.920930  \n",
       "66186  2020-10-27 13:54:33.920930  \n",
       "66187  2020-10-27 13:54:33.920930  "
      ]
     },
     "execution_count": 28,
     "metadata": {},
     "output_type": "execute_result"
    }
   ],
   "source": [
    "df_Corpus.tail()"
   ]
  },
  {
   "cell_type": "code",
   "execution_count": 29,
   "metadata": {
    "executionInfo": {
     "elapsed": 1166,
     "status": "ok",
     "timestamp": 1604027727940,
     "user": {
      "displayName": "Pacharapol O.",
      "photoUrl": "https://lh3.googleusercontent.com/a-/AOh14GiBNaVjsCxoMVUqEvSDC7eauF0V2ZD7B-TzevR1TQ=s64",
      "userId": "00378494490135533545"
     },
     "user_tz": -420
    },
    "id": "jZFN_aTsTCdU"
   },
   "outputs": [],
   "source": [
    "# Drop NA & banned comments\n",
    "df_Corpus = df_Corpus.dropna()\n",
    "df_Corpus = df_Corpus[df_Corpus[\"text\"].str.find('ความคิดเห็นนี้ถูกลบ')!= 0]\n",
    "df_Corpus = df_Corpus[df_Corpus[\"text\"].str.find('แก้ไขข้อความเมื่อ')!= 0]\n",
    "df_Corpus = df_Corpus.set_index('commentId')"
   ]
  },
  {
   "cell_type": "code",
   "execution_count": 30,
   "metadata": {
    "colab": {
     "base_uri": "https://localhost:8080/"
    },
    "executionInfo": {
     "elapsed": 619,
     "status": "ok",
     "timestamp": 1604027727941,
     "user": {
      "displayName": "Pacharapol O.",
      "photoUrl": "https://lh3.googleusercontent.com/a-/AOh14GiBNaVjsCxoMVUqEvSDC7eauF0V2ZD7B-TzevR1TQ=s64",
      "userId": "00378494490135533545"
     },
     "user_tz": -420
    },
    "id": "ki-qD4YMTCdX",
    "outputId": "3102d8b3-3251-463e-f3e2-50a119fe787b"
   },
   "outputs": [
    {
     "name": "stdout",
     "output_type": "stream",
     "text": [
      "Table            0\n",
      "URLs             0\n",
      "text             0\n",
      "Retrived_date    0\n",
      "dtype: int64\n"
     ]
    }
   ],
   "source": [
    "missing = df_Corpus.isnull().sum()\n",
    "print(missing)"
   ]
  },
  {
   "cell_type": "code",
   "execution_count": 31,
   "metadata": {
    "colab": {
     "base_uri": "https://localhost:8080/"
    },
    "executionInfo": {
     "elapsed": 1135,
     "status": "ok",
     "timestamp": 1604027730567,
     "user": {
      "displayName": "Pacharapol O.",
      "photoUrl": "https://lh3.googleusercontent.com/a-/AOh14GiBNaVjsCxoMVUqEvSDC7eauF0V2ZD7B-TzevR1TQ=s64",
      "userId": "00378494490135533545"
     },
     "user_tz": -420
    },
    "id": "c0J7GD3ATCda",
    "outputId": "f8748ddd-9aab-40d2-ee9e-38ba742906b7"
   },
   "outputs": [
    {
     "name": "stdout",
     "output_type": "stream",
     "text": [
      "จำนวน comment หลังตัด: 60545\n",
      "จำนวนกระทู้หลังตัด: 1514\n"
     ]
    }
   ],
   "source": [
    "print('จำนวน comment หลังตัด:',df_Corpus.shape[0])\n",
    "print('จำนวนกระทู้หลังตัด:',len(df_Corpus.URLs.unique()))"
   ]
  },
  {
   "cell_type": "code",
   "execution_count": 32,
   "metadata": {
    "colab": {
     "base_uri": "https://localhost:8080/",
     "height": 233
    },
    "executionInfo": {
     "elapsed": 890,
     "status": "ok",
     "timestamp": 1604027730892,
     "user": {
      "displayName": "Pacharapol O.",
      "photoUrl": "https://lh3.googleusercontent.com/a-/AOh14GiBNaVjsCxoMVUqEvSDC7eauF0V2ZD7B-TzevR1TQ=s64",
      "userId": "00378494490135533545"
     },
     "user_tz": -420
    },
    "id": "PKvz8tQpTCdd",
    "outputId": "62e2d990-0240-4a01-cef5-515147c6750c"
   },
   "outputs": [
    {
     "data": {
      "text/html": [
       "<div>\n",
       "<style scoped>\n",
       "    .dataframe tbody tr th:only-of-type {\n",
       "        vertical-align: middle;\n",
       "    }\n",
       "\n",
       "    .dataframe tbody tr th {\n",
       "        vertical-align: top;\n",
       "    }\n",
       "\n",
       "    .dataframe thead th {\n",
       "        text-align: right;\n",
       "    }\n",
       "</style>\n",
       "<table border=\"1\" class=\"dataframe\">\n",
       "  <thead>\n",
       "    <tr style=\"text-align: right;\">\n",
       "      <th></th>\n",
       "      <th>Table</th>\n",
       "      <th>URLs</th>\n",
       "      <th>text</th>\n",
       "      <th>Retrived_date</th>\n",
       "      <th>token_text</th>\n",
       "    </tr>\n",
       "    <tr>\n",
       "      <th>commentId</th>\n",
       "      <th></th>\n",
       "      <th></th>\n",
       "      <th></th>\n",
       "      <th></th>\n",
       "      <th></th>\n",
       "    </tr>\n",
       "  </thead>\n",
       "  <tbody>\n",
       "    <tr>\n",
       "      <th>66181</th>\n",
       "      <td>DDFC</td>\n",
       "      <td>https://pantip.com/topic/30651064</td>\n",
       "      <td>นมผง คือเอานมดิบดีๆ มาคัดไขมันนมและอื่นๆออกไปใ...</td>\n",
       "      <td>2020-10-27 13:54:33.920930</td>\n",
       "      <td>None</td>\n",
       "    </tr>\n",
       "    <tr>\n",
       "      <th>66182</th>\n",
       "      <td>DDFC</td>\n",
       "      <td>https://pantip.com/topic/30651064</td>\n",
       "      <td>นมสด รสชาติมันดีนะ\\nเพราะมีปริมาณไขมันสูง ดังน...</td>\n",
       "      <td>2020-10-27 13:54:33.920930</td>\n",
       "      <td>None</td>\n",
       "    </tr>\n",
       "    <tr>\n",
       "      <th>66184</th>\n",
       "      <td>DDFC</td>\n",
       "      <td>https://pantip.com/topic/30651064</td>\n",
       "      <td>มีหลายยี่ห้อนะค่ะ พวกจิตรดา ไทยเดนมาร์ค โฟร์โม...</td>\n",
       "      <td>2020-10-27 13:54:33.920930</td>\n",
       "      <td>None</td>\n",
       "    </tr>\n",
       "    <tr>\n",
       "      <th>66185</th>\n",
       "      <td>DDFC</td>\n",
       "      <td>https://pantip.com/topic/30651064</td>\n",
       "      <td>เดี๋ยวนมรสจืด ส่วนใหญ่ก็นมโคแท้ 100%ทั้งนั้นแห...</td>\n",
       "      <td>2020-10-27 13:54:33.920930</td>\n",
       "      <td>None</td>\n",
       "    </tr>\n",
       "    <tr>\n",
       "      <th>66186</th>\n",
       "      <td>DDFC</td>\n",
       "      <td>https://pantip.com/topic/30651064</td>\n",
       "      <td>ตามกฏหมายเอง นมโคสดแท้ 100% กับนมโคแท้ 100% ไม...</td>\n",
       "      <td>2020-10-27 13:54:33.920930</td>\n",
       "      <td>None</td>\n",
       "    </tr>\n",
       "  </tbody>\n",
       "</table>\n",
       "</div>"
      ],
      "text/plain": [
       "          Table                               URLs  \\\n",
       "commentId                                            \n",
       "66181      DDFC  https://pantip.com/topic/30651064   \n",
       "66182      DDFC  https://pantip.com/topic/30651064   \n",
       "66184      DDFC  https://pantip.com/topic/30651064   \n",
       "66185      DDFC  https://pantip.com/topic/30651064   \n",
       "66186      DDFC  https://pantip.com/topic/30651064   \n",
       "\n",
       "                                                        text  \\\n",
       "commentId                                                      \n",
       "66181      นมผง คือเอานมดิบดีๆ มาคัดไขมันนมและอื่นๆออกไปใ...   \n",
       "66182      นมสด รสชาติมันดีนะ\\nเพราะมีปริมาณไขมันสูง ดังน...   \n",
       "66184      มีหลายยี่ห้อนะค่ะ พวกจิตรดา ไทยเดนมาร์ค โฟร์โม...   \n",
       "66185      เดี๋ยวนมรสจืด ส่วนใหญ่ก็นมโคแท้ 100%ทั้งนั้นแห...   \n",
       "66186      ตามกฏหมายเอง นมโคสดแท้ 100% กับนมโคแท้ 100% ไม...   \n",
       "\n",
       "                        Retrived_date token_text  \n",
       "commentId                                         \n",
       "66181      2020-10-27 13:54:33.920930       None  \n",
       "66182      2020-10-27 13:54:33.920930       None  \n",
       "66184      2020-10-27 13:54:33.920930       None  \n",
       "66185      2020-10-27 13:54:33.920930       None  \n",
       "66186      2020-10-27 13:54:33.920930       None  "
      ]
     },
     "execution_count": 32,
     "metadata": {},
     "output_type": "execute_result"
    }
   ],
   "source": [
    "df_Corpus.insert(4,'token_text',None)\n",
    "#df_Corpus.insert(5,'token_sound',None)\n",
    "#df_Corpus.insert(6,'token_tag',None)\n",
    "df_Corpus.tail()"
   ]
  },
  {
   "cell_type": "markdown",
   "metadata": {},
   "source": [
    "เก็บเฉพาะหัวกระทู้"
   ]
  },
  {
   "cell_type": "code",
   "execution_count": 33,
   "metadata": {},
   "outputs": [
    {
     "data": {
      "text/html": [
       "<div>\n",
       "<style scoped>\n",
       "    .dataframe tbody tr th:only-of-type {\n",
       "        vertical-align: middle;\n",
       "    }\n",
       "\n",
       "    .dataframe tbody tr th {\n",
       "        vertical-align: top;\n",
       "    }\n",
       "\n",
       "    .dataframe thead th {\n",
       "        text-align: right;\n",
       "    }\n",
       "</style>\n",
       "<table border=\"1\" class=\"dataframe\">\n",
       "  <thead>\n",
       "    <tr style=\"text-align: right;\">\n",
       "      <th></th>\n",
       "      <th>URLs</th>\n",
       "      <th>text</th>\n",
       "      <th>token_text</th>\n",
       "      <th>mention_product</th>\n",
       "      <th>mention_brand</th>\n",
       "    </tr>\n",
       "    <tr>\n",
       "      <th>commentId</th>\n",
       "      <th></th>\n",
       "      <th></th>\n",
       "      <th></th>\n",
       "      <th></th>\n",
       "      <th></th>\n",
       "    </tr>\n",
       "  </thead>\n",
       "  <tbody>\n",
       "    <tr>\n",
       "      <th>65991</th>\n",
       "      <td>https://pantip.com/topic/30007179</td>\n",
       "      <td>กำลังจะเป็นคุณแม่มือใหม่ค่ะ ทำตัวไม่ถูกเลยค่ะ\\...</td>\n",
       "      <td>None</td>\n",
       "      <td>None</td>\n",
       "      <td>None</td>\n",
       "    </tr>\n",
       "    <tr>\n",
       "      <th>66015</th>\n",
       "      <td>https://pantip.com/topic/30020409</td>\n",
       "      <td>พรุ่งนี้ลูกชายอายุครบ 1 ขวบ 3 เดือน หม่ำนมแม่จ...</td>\n",
       "      <td>None</td>\n",
       "      <td>None</td>\n",
       "      <td>None</td>\n",
       "    </tr>\n",
       "    <tr>\n",
       "      <th>66044</th>\n",
       "      <td>https://pantip.com/topic/30049123</td>\n",
       "      <td>เพื่อนๆทุกคนคงคุ้นเคยกับคำถามนี้แล้วทุกคน... \"...</td>\n",
       "      <td>None</td>\n",
       "      <td>None</td>\n",
       "      <td>None</td>\n",
       "    </tr>\n",
       "    <tr>\n",
       "      <th>66074</th>\n",
       "      <td>https://pantip.com/topic/30011023</td>\n",
       "      <td>แตกกระทู้มาจาก www.pantip.com/topic/30007146/\\...</td>\n",
       "      <td>None</td>\n",
       "      <td>None</td>\n",
       "      <td>None</td>\n",
       "    </tr>\n",
       "    <tr>\n",
       "      <th>66132</th>\n",
       "      <td>https://pantip.com/topic/30651064</td>\n",
       "      <td>อยากรู้ว่าปัจจุบันพวกนมกล่องทึ่ขายใน 7-11 หรือ...</td>\n",
       "      <td>None</td>\n",
       "      <td>None</td>\n",
       "      <td>None</td>\n",
       "    </tr>\n",
       "  </tbody>\n",
       "</table>\n",
       "</div>"
      ],
      "text/plain": [
       "                                        URLs  \\\n",
       "commentId                                      \n",
       "65991      https://pantip.com/topic/30007179   \n",
       "66015      https://pantip.com/topic/30020409   \n",
       "66044      https://pantip.com/topic/30049123   \n",
       "66074      https://pantip.com/topic/30011023   \n",
       "66132      https://pantip.com/topic/30651064   \n",
       "\n",
       "                                                        text token_text  \\\n",
       "commentId                                                                 \n",
       "65991      กำลังจะเป็นคุณแม่มือใหม่ค่ะ ทำตัวไม่ถูกเลยค่ะ\\...       None   \n",
       "66015      พรุ่งนี้ลูกชายอายุครบ 1 ขวบ 3 เดือน หม่ำนมแม่จ...       None   \n",
       "66044      เพื่อนๆทุกคนคงคุ้นเคยกับคำถามนี้แล้วทุกคน... \"...       None   \n",
       "66074      แตกกระทู้มาจาก www.pantip.com/topic/30007146/\\...       None   \n",
       "66132      อยากรู้ว่าปัจจุบันพวกนมกล่องทึ่ขายใน 7-11 หรือ...       None   \n",
       "\n",
       "          mention_product mention_brand  \n",
       "commentId                                \n",
       "65991                None          None  \n",
       "66015                None          None  \n",
       "66044                None          None  \n",
       "66074                None          None  \n",
       "66132                None          None  "
      ]
     },
     "execution_count": 33,
     "metadata": {},
     "output_type": "execute_result"
    }
   ],
   "source": [
    "df_thread = df_Corpus.copy()\n",
    "df_thread = df_thread[['URLs','text']]\n",
    "df_thread.drop_duplicates(subset =\"URLs\", keep = 'first', inplace = True)\n",
    "df_thread.insert(2,'token_text',None)\n",
    "df_thread.insert(3,'mention_product',None)\n",
    "df_thread.insert(4,'mention_brand',None)\n",
    "df_thread.tail()"
   ]
  },
  {
   "cell_type": "markdown",
   "metadata": {
    "id": "EpwX95XlTCdl"
   },
   "source": [
    "## ตัดคำและเก็บลง MongoDB (ใช้ insight จาก jupyter งานก่อน)"
   ]
  },
  {
   "cell_type": "markdown",
   "metadata": {
    "id": "6U__d4agTCdl"
   },
   "source": [
    "https://www.thainlp.org/pythainlp/tutorials/notebooks/pythainlp-get-started.html#Thai-Characters"
   ]
  },
  {
   "cell_type": "code",
   "execution_count": 34,
   "metadata": {
    "executionInfo": {
     "elapsed": 962,
     "status": "ok",
     "timestamp": 1604030224171,
     "user": {
      "displayName": "Pacharapol O.",
      "photoUrl": "https://lh3.googleusercontent.com/a-/AOh14GiBNaVjsCxoMVUqEvSDC7eauF0V2ZD7B-TzevR1TQ=s64",
      "userId": "00378494490135533545"
     },
     "user_tz": -420
    },
    "id": "rAcuuoYiTCdu"
   },
   "outputs": [],
   "source": [
    "garbage_char = ['',' ','🥺','\\r','\\n','\\r\\n','\\xa0','www','application','ทางกฎหมาย','html'\n",
    "                ,'http','https','url','com','pantip','topic','_','–','พันทิป','^^'\n",
    "                ,'นะค่ะ','นะคะ','น่ะค่ะ','ฯ','ๆ','แฮ่','เย่ๆๆ','ว๊าว','ฮิ้วววววววววว','Number','กก'\n",
    "                ,'เมนู','Menu','Net','net','สาขา','บาท','ราคา','(',')','ฯ','ๆ','กก','อันนี้','%s','😆', '🤣','😢'\n",
    "                ,'😏','😂','😿','ววว','xx','อิอิ','แย้ววว','นะคะ','นะค่ะ','://','มกราคม', 'กุมภาพันธ์'\n",
    "                ,'มีนาคม', 'เมษายน','พฤษภาคม', 'มิถุนายน', 'กรกฎาคม', 'สิงหาคม','กันยายน', 'ตุลาคม'\n",
    "                ,'พฤศจิกายน', 'ธันวาคม']\n",
    "garbage_char  = garbage_char + list_punc"
   ]
  },
  {
   "cell_type": "code",
   "execution_count": 35,
   "metadata": {
    "colab": {
     "base_uri": "https://localhost:8080/"
    },
    "executionInfo": {
     "elapsed": 813,
     "status": "ok",
     "timestamp": 1604027849933,
     "user": {
      "displayName": "Pacharapol O.",
      "photoUrl": "https://lh3.googleusercontent.com/a-/AOh14GiBNaVjsCxoMVUqEvSDC7eauF0V2ZD7B-TzevR1TQ=s64",
      "userId": "00378494490135533545"
     },
     "user_tz": -420
    },
    "id": "mAwAGA5ITCdx",
    "outputId": "d95e59bb-b35e-4592-f16e-0915a7975f84"
   },
   "outputs": [
    {
     "name": "stdout",
     "output_type": "stream",
     "text": [
      "จำนวน comment หลังตัด: 60545\n",
      "จำนวนกระทู้หลังตัด: 1514\n"
     ]
    }
   ],
   "source": [
    "print('จำนวน comment หลังตัด:',df_Corpus.shape[0])\n",
    "print('จำนวนกระทู้หลังตัด:',len(df_Corpus.URLs.unique()))"
   ]
  },
  {
   "cell_type": "code",
   "execution_count": 36,
   "metadata": {
    "executionInfo": {
     "elapsed": 2296,
     "status": "ok",
     "timestamp": 1604030226424,
     "user": {
      "displayName": "Pacharapol O.",
      "photoUrl": "https://lh3.googleusercontent.com/a-/AOh14GiBNaVjsCxoMVUqEvSDC7eauF0V2ZD7B-TzevR1TQ=s64",
      "userId": "00378494490135533545"
     },
     "user_tz": -420
    },
    "id": "8D5MebxcTCd0"
   },
   "outputs": [],
   "source": [
    "custom_list = ['ดัชมิลล์','ดัชมิล','dutch mill','dutchmilk','ดัชชี่','เมจิ','ซีพีเมจิ','ซีพี-เมจิ','cp-meiji','betagen','บีทาเก้น','บีทาเกน'\n",
    "               ,'โฟร์โมสต์','โฟร์โมส','โฟโมสต์','โฟโมต','โชคชัย','แดรี่โฮม','dairy home','เดรี่โฮม','อืมม มิลค์','Umm! Milk','เอ็มมิลค์'\n",
    "               ,'mmilk','เอ็มมิ้ลค์','แมคโนเลีย','นมฟาร์มโชคชัย','นมไทย-เดนมาร์ค','ไทยเดนมาร์ค','วัวแดง','หนองโพ','คาเนชั่น'\n",
    "               ,'สตอเบอร์รี่','สตรอว์เบอร์รี','รสสตรอเบอรี่','สตรอเบอรี่','สตรอวเบอรี่'\n",
    "               ,'ชอคโกแล็ต','ช็อกโกแลต','ช็อคโกแลต','ช๊อกโกแลต','ช็อคโกแล็ต','ช็อกโกเลต','มิ้นท์ชอค','มิ้นต์ช้อก','รสกล้วย'\n",
    "               ,'รสหวาน','รสจืด','ไขมันต่ำ','ไขมัน 0%','low fat','0% fat','ขาดมันเนย','พร่องมันเนย','ไฮแคลเซียม','high protein'\n",
    "               ,'ไฮโปรตีน','เวย์โปรตีน','whey','เวย์','อัลมอนด์','ซีเล็ค','ซีเล็คท์','กล้วยหอม','ไวท์คอฟฟี่','คาปูชิโน่','อเมริกาโน่'\n",
    "               ,'grass fed','free lactose','lactose free','พาสเจอไรซ์','พาสเจอร์ไรซ์','พาสเจอร์ไรส์','พาซเจอไรซ์','พาสเจอร์ไลท์'\n",
    "               ,'เมจิโกลด์ แม็กซ์','เมจิโกลด์','เมจิ บัลแกเรีย','เมจิบัลแกเรีย','นมเปรี้ยว','รสธรรมชาติ','รสกลมกล่อม','โยเกิต','โยเกิรต','โยเกิร์ตพร้อมดื่ม'\n",
    "               ,'น้ำตาลมะพร้าว','นมฮอกไกโด','เบดไทม์','ฟรีแลคโตส','แลคโตสฟรี','ริชเอสเพสโซ่','ดาร์คช็อกโกแลต'\n",
    "               ,'คาราเมล','ช็อกโกมอลต์','เมล่อน','ชาเขียวมัจฉะ','ฝาน้ำเงิน'\n",
    "               ,'ท็อปส์','ทอปส์','ท้อปส์','ท๊อปส์','แมคโคร','แม็คโคร','โลตัส','บิ๊กซี','bigc','Golden place','Big C'\n",
    "               ,'ขายไม่ดี','แพคคู่','ค่าจัดส่ง','shelf life','พนักงานขายนม'\n",
    "               ,'แพ้นม','แพ้นมวัว','เล่นเวท','นำ้หนัก','คุณแม่มือใหม่','นมอุ่น','ชานม','กินนม','ดื่มนม','ท้องเสีย','ขี้แตก'\n",
    "               ,'คีเฟอร์นม','พันทิป','ร้านนม','ซื้อไม่ได้','ไม่ได้','ลูกสุนัข','ลูกหมา','คายทิ้ง','เจมส์ จิ','เจมส์จิ'\n",
    "              ]\n",
    "words = set(thai_words()).union(set(custom_list))\n",
    "custom_tokenizer = Tokenizer(engine='newmm', custom_dict=words, keep_whitespace=False)"
   ]
  },
  {
   "cell_type": "code",
   "execution_count": 37,
   "metadata": {},
   "outputs": [],
   "source": [
    "def find_brands_product(x,catType):\n",
    "    ret_wtkn = []\n",
    "    brands = ['ดัชมิลล์','ดัชมิล','dutch mill','dutchmilk','ดัชชี่','เมจิ','ซีพีเมจิ','ซีพี-เมจิ','cp-meiji'\n",
    "               ,'โฟร์โมสต์','โฟร์โมส','โฟโมสต์','โฟโมต','โชคชัย','แดรี่โฮม','dairy home','Dairy Home','เดรี่โฮม','อืมม มิลค์','Umm! Milk','เอ็มมิลค์'\n",
    "               ,'mmilk','เอ็มมิ้ลค์','แมคโนเลีย','นมฟาร์มโชคชัย','นมไทย-เดนมาร์ค','ไทยเดนมาร์ค','วัวแดง','หนองโพ','คาเนชั่น']\n",
    "    products = ['สตอเบอร์รี่','สตรอว์เบอร์รี','รสสตรอเบอรี่','สตรอเบอรี่','สตรอวเบอรี่','นม'\n",
    "               ,'ชอคโกแล็ต','ช็อกโกแลต','ช็อคโกแลต','ช๊อกโกแลต','ช็อคโกแล็ต','ช็อกโกเลต','มิ้นท์ชอค','มิ้นต์ช้อก','รสกล้วย'\n",
    "               ,'รสหวาน','รสจืด','ไขมันต่ำ','ไขมัน 0%','low fat','0% fat','ขาดมันเนย','พร่องมันเนย','ไฮแคลเซียม','high protein'\n",
    "               ,'ไฮโปรตีน','เวย์โปรตีน','whey','เวย์','อัลมอนด์','ซีเล็ค','ซีเล็คท์','กล้วยหอม','ไวท์คอฟฟี่','คาปูชิโน่','อเมริกาโน่'\n",
    "               ,'grass fed','free lactose','lactose free','พาสเจอไรซ์','พาสเจอร์ไรซ์','พาสเจอร์ไรส์','พาซเจอไรซ์','พาสเจอร์ไลท์','เมจิโกลด์ แม็กซ์'\n",
    "               ,'น้ำตาลมะพร้าว','นมฮอกไกโด','เบดไทม์','ฟรีแลคโตส','แลคโตสฟรี','ริชเอสเพสโซ่','ดาร์คช็อกโกแลต'\n",
    "               ,'คาราเมล','ช็อกโกมอลต์','เมล่อน','ชาเขียวมัจฉะ','ฝาน้ำเงิน','เมจิโกลด์ แม็กซ์','เมจิโกลด์'\n",
    "               ,'เมจิ บัลแกเรีย','เมจิบัลแกเรีย','นมเปรี้ยว','รสธรรมชาติ','รสกลมกล่อม','โยเกิต','โยเกิรต','โยเกิร์ตพร้อมดื่ม','ซากุระ']\n",
    "    \n",
    "    choiceList = []\n",
    "    if catType == 'b':\n",
    "        choiceList = brands\n",
    "    else:\n",
    "        choiceList = products\n",
    "        \n",
    "    for i,each in enumerate(x,0):\n",
    "        if each in choiceList:\n",
    "            ret_wtkn.append(each)\n",
    "    return ret_wtkn"
   ]
  },
  {
   "cell_type": "code",
   "execution_count": 38,
   "metadata": {},
   "outputs": [],
   "source": [
    "def create_InsertMany_Thread(df):\n",
    "    listofdict = []\n",
    "    for c,lx in enumerate(df.URLs,0):\n",
    "        info = {\n",
    "            \"URLs\": lx,\n",
    "            \"text\": df.text[c],\n",
    "            \"token_text\":df.token_text[c],\n",
    "            \"mention_product\": df.mention_product[c],\n",
    "            \"mention_brand\": df.mention_brand[c]\n",
    "        }\n",
    "        listofdict.append(info)\n",
    "    return listofdict"
   ]
  },
  {
   "cell_type": "code",
   "execution_count": 39,
   "metadata": {},
   "outputs": [],
   "source": [
    "def create_InsertMany_comments(df):\n",
    "    listofdict = []\n",
    "    for c,lx in enumerate(df.URLs,0):\n",
    "        info = {\n",
    "            \"commentId\":int(df.commentId[c]),\n",
    "            \"Table\": df.Table[c],\n",
    "            \"URLs\": lx,\n",
    "            \"text\": df.text[c],\n",
    "            \"Retrived_date\": df.Retrived_date[c],\n",
    "            \"token_text\":df.token_text[c]\n",
    "        }\n",
    "        listofdict.append(info)\n",
    "    return listofdict"
   ]
  },
  {
   "cell_type": "code",
   "execution_count": 40,
   "metadata": {},
   "outputs": [],
   "source": [
    "def tokenize_custom(x,custom_tokenizer):\n",
    "    wtkn = custom_tokenizer.word_tokenize(x)\n",
    "    wtkn = checkStopwords(wtkn)\n",
    "    wtkn = [x for x in wtkn if len(x) >= 2]\n",
    "    wtkn = [y for y in wtkn if y not in garbage_char]\n",
    "    wtkn = [s for s in wtkn if not s.isdigit()]\n",
    "    wtkn = normThai(wtkn)\n",
    "    return wtkn"
   ]
  },
  {
   "cell_type": "code",
   "execution_count": 41,
   "metadata": {},
   "outputs": [],
   "source": [
    "def generalize_keyword(wtkn):  \n",
    "    ret_wtkn = wtkn\n",
    "    for i,each in enumerate(ret_wtkn,0):\n",
    "        if each in ['ดัชมิลล์','ดัชมิล','dutch mill','dutchmilk','ดัชชี่']:\n",
    "            ret_wtkn[i] = 'ดัชมิลล์'\n",
    "        elif each  in ['เมจิ','ซีพีเมจิ','ซีพี-เมจิ','cp-meiji','meiji','meji','miji']:\n",
    "            ret_wtkn[i] = 'เมจิ'\n",
    "        elif each  in ['โฟร์โมสต์','โฟร์โมส','โฟโมสต์','โฟโมต','foremost']:\n",
    "            ret_wtkn[i] = 'โฟร์โมสต์'\n",
    "        elif each  in ['แดรี่โฮม','dairy home','เดรี่โฮม']:\n",
    "            ret_wtkn[i] = 'แดรี่โฮม'\n",
    "        elif each  in ['โชคชัย','อืมม มิลค์','umm milk','นมฟาร์มโชคชัย']:\n",
    "            ret_wtkn[i] = 'โชคชัย'\n",
    "        elif each  in ['เอ็มมิลค์','mmilk','เอ็มมิ้ลค์']:\n",
    "            ret_wtkn[i] = 'เอ็มมิลค์'\n",
    "        elif each  in ['นมไทย-เดนมาร์ค','ไทยเดนมาร์ค','วัวแดง']:\n",
    "            ret_wtkn[i] = 'ไทยเดนมาร์ค'\n",
    "        elif each  in ['สตอเบอร์รี่','สตรอว์เบอร์รี','รสสตรอเบอรี่','สตรอเบอรี่','สตรอวเบอรี่']:\n",
    "            ret_wtkn[i] = 'สตรอว์เบอร์รี'\n",
    "        elif each  in ['ชอคโกแล็ต','ช็อกโกแลต','ช็อคโกแลต','ช๊อกโกแลต','ช็อคโกแล็ต','ช็อกโกเลต']:\n",
    "            ret_wtkn[i] = 'ช็อกโกแลต'\n",
    "        elif each  in ['มิ้นท์ชอค','มิ้นต์ช้อก','ช็อคโกแลตมินต์','มินต์ช็อคโกแลต']:\n",
    "            ret_wtkn[i] = 'ช็อกโกแลตมินต์'\n",
    "        elif each  in ['ไขมันต่ำ','low fat','พร่องมันเนย']:\n",
    "            ret_wtkn[i] = 'ไขมันต่ำ'\n",
    "        elif each  in ['ไขมัน 0%','0% fat','ขาดมันเนย']:\n",
    "            ret_wtkn[i] = 'ไขมัน 0%'\n",
    "        elif each  in ['high protein','ไฮโปรตีน']:\n",
    "            ret_wtkn[i] = 'ไฮโปรตีน'\n",
    "        elif each  in ['free lactose','lactose free','ฟรีแลคโตส','แลคโตสฟรี']:\n",
    "            ret_wtkn[i] = 'นมฟรีแลคโตส'\n",
    "        elif each  in ['พาสเจอไรซ์','พาสเจอร์ไรซ์','พาสเจอร์ไรส์','พาซเจอไรซ์','พาสเจอร์ไลท์']:\n",
    "            ret_wtkn[i] = 'พาสเจอร์ไรส์'\n",
    "        elif each  in ['เมจิโกลด์ แม็กซ์','เมจิโกลด์']:\n",
    "            ret_wtkn[i] = 'เมจิโกลด์'\n",
    "        elif each  in ['ฝาน้ำเงิน','รสจืด']:\n",
    "            ret_wtkn[i] = 'รสจืด'\n",
    "        elif each  in ['ท็อปส์','ทอปส์','ท้อปส์','ท๊อปส์','tops']:\n",
    "            ret_wtkn[i] = 'tops'\n",
    "        elif each  in ['แมคโคร','แม็คโคร','makro']:\n",
    "            ret_wtkn[i] = 'makro'\n",
    "        elif each  in ['โลตัส','lotus']:\n",
    "            ret_wtkn[i] = 'lotus'\n",
    "        elif each  in ['บิ๊กซี','bigc','Big C']:\n",
    "            ret_wtkn[i] = 'bigc'\n",
    "        elif each  in ['ท้องเสีย','ขี้แตก']:\n",
    "            ret_wtkn[i] = 'ท้องเสีย'\n",
    "        elif each  in ['ลูกสุนัข','ลูกหมา']:\n",
    "            ret_wtkn[i] = 'ลูกสุนัข'\n",
    "    return ret_wtkn"
   ]
  },
  {
   "cell_type": "markdown",
   "metadata": {},
   "source": [
    "#### Copy ชุดคำจาก File มา Process ก่อนลง MongoDB"
   ]
  },
  {
   "cell_type": "code",
   "execution_count": null,
   "metadata": {},
   "outputs": [],
   "source": [
    "df_process_comment = df_Corpus.reset_index().copy()\n",
    "df_process_thread = df_thread.reset_index().copy()"
   ]
  },
  {
   "cell_type": "markdown",
   "metadata": {},
   "source": [
    "1.Tokenize comment"
   ]
  },
  {
   "cell_type": "code",
   "execution_count": null,
   "metadata": {},
   "outputs": [],
   "source": [
    "df_process_comment['token_text'] = df_process_comment['text'].apply(lambda x: tokenize_custom(x,custom_tokenizer))"
   ]
  },
  {
   "cell_type": "code",
   "execution_count": 44,
   "metadata": {},
   "outputs": [
    {
     "data": {
      "text/html": [
       "<div>\n",
       "<style scoped>\n",
       "    .dataframe tbody tr th:only-of-type {\n",
       "        vertical-align: middle;\n",
       "    }\n",
       "\n",
       "    .dataframe tbody tr th {\n",
       "        vertical-align: top;\n",
       "    }\n",
       "\n",
       "    .dataframe thead th {\n",
       "        text-align: right;\n",
       "    }\n",
       "</style>\n",
       "<table border=\"1\" class=\"dataframe\">\n",
       "  <thead>\n",
       "    <tr style=\"text-align: right;\">\n",
       "      <th></th>\n",
       "      <th>commentId</th>\n",
       "      <th>Table</th>\n",
       "      <th>URLs</th>\n",
       "      <th>text</th>\n",
       "      <th>Retrived_date</th>\n",
       "      <th>token_text</th>\n",
       "    </tr>\n",
       "  </thead>\n",
       "  <tbody>\n",
       "    <tr>\n",
       "      <th>0</th>\n",
       "      <td>1</td>\n",
       "      <td>Meiji</td>\n",
       "      <td>https://pantip.com/topic/39868603</td>\n",
       "      <td>เมื่อก่อนหลายปีมาแล้ว ในเซเว่นยังมีนมเมจิรสหวา...</td>\n",
       "      <td>2020-10-26 12:40:26.135083</td>\n",
       "      <td>[ปี, เซเว่น, ยังมี, นม, เมจิ, รสหวาน, ขาย, อยู...</td>\n",
       "    </tr>\n",
       "    <tr>\n",
       "      <th>1</th>\n",
       "      <td>2</td>\n",
       "      <td>Meiji</td>\n",
       "      <td>https://pantip.com/topic/39868603</td>\n",
       "      <td>เบาหวานครับ แฮ่ๆ</td>\n",
       "      <td>2020-10-26 12:40:26.135083</td>\n",
       "      <td>[เบาหวาน]</td>\n",
       "    </tr>\n",
       "    <tr>\n",
       "      <th>2</th>\n",
       "      <td>3</td>\n",
       "      <td>Meiji</td>\n",
       "      <td>https://pantip.com/topic/39868603</td>\n",
       "      <td>หาซื้อไม่ได้นี่คิดได้  2 อย่างนะ.    คนไม่ค่อย...</td>\n",
       "      <td>2020-10-26 12:40:26.135083</td>\n",
       "      <td>[หา, ซื้อไม่ได้, คิดได้, , .    คน, กินกัน, ไม...</td>\n",
       "    </tr>\n",
       "    <tr>\n",
       "      <th>3</th>\n",
       "      <td>4</td>\n",
       "      <td>Meiji</td>\n",
       "      <td>https://pantip.com/topic/39868603</td>\n",
       "      <td>เป็นรสที่ขายไม่ดีครับ\\r\\nรสพื้นฐานคือ\\r\\nจืด แ...</td>\n",
       "      <td>2020-10-26 12:40:26.135083</td>\n",
       "      <td>[รส, ขายไม่ดี, รส, พื้นฐาน, จืด, แบ่ง, %,, low...</td>\n",
       "    </tr>\n",
       "    <tr>\n",
       "      <th>4</th>\n",
       "      <td>5</td>\n",
       "      <td>Meiji</td>\n",
       "      <td>https://pantip.com/topic/39868603</td>\n",
       "      <td>ถ้าขายไม่ดีเค้าก็เอาออกครับ shelf life มันน้อย...</td>\n",
       "      <td>2020-10-26 12:40:26.135083</td>\n",
       "      <td>[ขายไม่ดี, เค้า, shelf life, เวลา, หมดอายุ, ค่...</td>\n",
       "    </tr>\n",
       "  </tbody>\n",
       "</table>\n",
       "</div>"
      ],
      "text/plain": [
       "   commentId  Table                               URLs  \\\n",
       "0          1  Meiji  https://pantip.com/topic/39868603   \n",
       "1          2  Meiji  https://pantip.com/topic/39868603   \n",
       "2          3  Meiji  https://pantip.com/topic/39868603   \n",
       "3          4  Meiji  https://pantip.com/topic/39868603   \n",
       "4          5  Meiji  https://pantip.com/topic/39868603   \n",
       "\n",
       "                                                text  \\\n",
       "0  เมื่อก่อนหลายปีมาแล้ว ในเซเว่นยังมีนมเมจิรสหวา...   \n",
       "1                                   เบาหวานครับ แฮ่ๆ   \n",
       "2  หาซื้อไม่ได้นี่คิดได้  2 อย่างนะ.    คนไม่ค่อย...   \n",
       "3  เป็นรสที่ขายไม่ดีครับ\\r\\nรสพื้นฐานคือ\\r\\nจืด แ...   \n",
       "4  ถ้าขายไม่ดีเค้าก็เอาออกครับ shelf life มันน้อย...   \n",
       "\n",
       "                Retrived_date  \\\n",
       "0  2020-10-26 12:40:26.135083   \n",
       "1  2020-10-26 12:40:26.135083   \n",
       "2  2020-10-26 12:40:26.135083   \n",
       "3  2020-10-26 12:40:26.135083   \n",
       "4  2020-10-26 12:40:26.135083   \n",
       "\n",
       "                                          token_text  \n",
       "0  [ปี, เซเว่น, ยังมี, นม, เมจิ, รสหวาน, ขาย, อยู...  \n",
       "1                                          [เบาหวาน]  \n",
       "2  [หา, ซื้อไม่ได้, คิดได้, , .    คน, กินกัน, ไม...  \n",
       "3  [รส, ขายไม่ดี, รส, พื้นฐาน, จืด, แบ่ง, %,, low...  \n",
       "4  [ขายไม่ดี, เค้า, shelf life, เวลา, หมดอายุ, ค่...  "
      ]
     },
     "execution_count": 44,
     "metadata": {},
     "output_type": "execute_result"
    }
   ],
   "source": [
    "df_process_comment.head()"
   ]
  },
  {
   "cell_type": "markdown",
   "metadata": {},
   "source": [
    "2.Generalized keyword (Brand & product)"
   ]
  },
  {
   "cell_type": "code",
   "execution_count": 45,
   "metadata": {},
   "outputs": [],
   "source": [
    "df_process_comment['token_text'] = df_process_comment['token_text'].apply(lambda x: generalize_keyword(x))"
   ]
  },
  {
   "cell_type": "markdown",
   "metadata": {},
   "source": [
    "3.Insert comments to DB"
   ]
  },
  {
   "cell_type": "code",
   "execution_count": 46,
   "metadata": {
    "colab": {
     "base_uri": "https://localhost:8080/"
    },
    "id": "Hunm5MT7TCd2",
    "outputId": "15710375-8df1-46f0-85a2-04c66e1de5d9"
   },
   "outputs": [
    {
     "data": {
      "text/plain": [
       "<pymongo.results.InsertManyResult at 0x25af0788fc8>"
      ]
     },
     "execution_count": 46,
     "metadata": {},
     "output_type": "execute_result"
    }
   ],
   "source": [
    "col_comment.delete_many({})\n",
    "process_data = create_InsertMany_comments(df_process_comment)\n",
    "col_comment.insert_many(process_data)"
   ]
  },
  {
   "cell_type": "markdown",
   "metadata": {},
   "source": [
    "4.Tokenize head of thread"
   ]
  },
  {
   "cell_type": "code",
   "execution_count": 47,
   "metadata": {},
   "outputs": [],
   "source": [
    "df_process_thread['token_text'] = df_process_thread['text'].apply(lambda x: tokenize_custom(x,custom_tokenizer))"
   ]
  },
  {
   "cell_type": "markdown",
   "metadata": {},
   "source": [
    "5.Generalized keyword (Brand & product)"
   ]
  },
  {
   "cell_type": "code",
   "execution_count": 48,
   "metadata": {},
   "outputs": [],
   "source": [
    "df_process_thread['token_text'] = df_process_thread['token_text'].apply(lambda x: generalize_keyword(x))"
   ]
  },
  {
   "cell_type": "markdown",
   "metadata": {},
   "source": [
    "6.Mark domain/entity mention"
   ]
  },
  {
   "cell_type": "code",
   "execution_count": 49,
   "metadata": {},
   "outputs": [],
   "source": [
    "df_process_thread['mention_brand'] = df_process_thread['token_text'].apply(lambda x: find_brands_product(x,'b'))\n",
    "df_process_thread['mention_product'] = df_process_thread['token_text'].apply(lambda x: find_brands_product(x,'p'))"
   ]
  },
  {
   "cell_type": "code",
   "execution_count": 50,
   "metadata": {},
   "outputs": [
    {
     "data": {
      "text/html": [
       "<div>\n",
       "<style scoped>\n",
       "    .dataframe tbody tr th:only-of-type {\n",
       "        vertical-align: middle;\n",
       "    }\n",
       "\n",
       "    .dataframe tbody tr th {\n",
       "        vertical-align: top;\n",
       "    }\n",
       "\n",
       "    .dataframe thead th {\n",
       "        text-align: right;\n",
       "    }\n",
       "</style>\n",
       "<table border=\"1\" class=\"dataframe\">\n",
       "  <thead>\n",
       "    <tr style=\"text-align: right;\">\n",
       "      <th></th>\n",
       "      <th>commentId</th>\n",
       "      <th>URLs</th>\n",
       "      <th>text</th>\n",
       "      <th>token_text</th>\n",
       "      <th>mention_product</th>\n",
       "      <th>mention_brand</th>\n",
       "    </tr>\n",
       "  </thead>\n",
       "  <tbody>\n",
       "    <tr>\n",
       "      <th>1509</th>\n",
       "      <td>65991</td>\n",
       "      <td>https://pantip.com/topic/30007179</td>\n",
       "      <td>กำลังจะเป็นคุณแม่มือใหม่ค่ะ ทำตัวไม่ถูกเลยค่ะ\\...</td>\n",
       "      <td>[คุณแม่มือใหม่, ทำตัว, ไม่, ทราบ, ที่จะ, กินนม...</td>\n",
       "      <td>[]</td>\n",
       "      <td>[]</td>\n",
       "    </tr>\n",
       "    <tr>\n",
       "      <th>1510</th>\n",
       "      <td>66015</td>\n",
       "      <td>https://pantip.com/topic/30020409</td>\n",
       "      <td>พรุ่งนี้ลูกชายอายุครบ 1 ขวบ 3 เดือน หม่ำนมแม่จ...</td>\n",
       "      <td>[พรุ่งนี้, ลูกชาย, อายุ, ขวบ, เดือน, หม่ำ, นม,...</td>\n",
       "      <td>[นม]</td>\n",
       "      <td>[]</td>\n",
       "    </tr>\n",
       "    <tr>\n",
       "      <th>1511</th>\n",
       "      <td>66044</td>\n",
       "      <td>https://pantip.com/topic/30049123</td>\n",
       "      <td>เพื่อนๆทุกคนคงคุ้นเคยกับคำถามนี้แล้วทุกคน... \"...</td>\n",
       "      <td>[เพื่อน, คุ้นเคย, คำถาม, ทุ, กค, น., .., ?\", ห...</td>\n",
       "      <td>[]</td>\n",
       "      <td>[]</td>\n",
       "    </tr>\n",
       "    <tr>\n",
       "      <th>1512</th>\n",
       "      <td>66074</td>\n",
       "      <td>https://pantip.com/topic/30011023</td>\n",
       "      <td>แตกกระทู้มาจาก www.pantip.com/topic/30007146/\\...</td>\n",
       "      <td>[แตก, กระทู้, มาจาก, บ้าน, รูป, เฟส, นะจ๊ะ, วั...</td>\n",
       "      <td>[]</td>\n",
       "      <td>[]</td>\n",
       "    </tr>\n",
       "    <tr>\n",
       "      <th>1513</th>\n",
       "      <td>66132</td>\n",
       "      <td>https://pantip.com/topic/30651064</td>\n",
       "      <td>อยากรู้ว่าปัจจุบันพวกนมกล่องทึ่ขายใน 7-11 หรือ...</td>\n",
       "      <td>[อยากรู้, นมกล่อง, ทึ่, ขาย, ห้างสรรพสินค้า, น...</td>\n",
       "      <td>[นม]</td>\n",
       "      <td>[]</td>\n",
       "    </tr>\n",
       "  </tbody>\n",
       "</table>\n",
       "</div>"
      ],
      "text/plain": [
       "      commentId                               URLs  \\\n",
       "1509      65991  https://pantip.com/topic/30007179   \n",
       "1510      66015  https://pantip.com/topic/30020409   \n",
       "1511      66044  https://pantip.com/topic/30049123   \n",
       "1512      66074  https://pantip.com/topic/30011023   \n",
       "1513      66132  https://pantip.com/topic/30651064   \n",
       "\n",
       "                                                   text  \\\n",
       "1509  กำลังจะเป็นคุณแม่มือใหม่ค่ะ ทำตัวไม่ถูกเลยค่ะ\\...   \n",
       "1510  พรุ่งนี้ลูกชายอายุครบ 1 ขวบ 3 เดือน หม่ำนมแม่จ...   \n",
       "1511  เพื่อนๆทุกคนคงคุ้นเคยกับคำถามนี้แล้วทุกคน... \"...   \n",
       "1512  แตกกระทู้มาจาก www.pantip.com/topic/30007146/\\...   \n",
       "1513  อยากรู้ว่าปัจจุบันพวกนมกล่องทึ่ขายใน 7-11 หรือ...   \n",
       "\n",
       "                                             token_text mention_product  \\\n",
       "1509  [คุณแม่มือใหม่, ทำตัว, ไม่, ทราบ, ที่จะ, กินนม...              []   \n",
       "1510  [พรุ่งนี้, ลูกชาย, อายุ, ขวบ, เดือน, หม่ำ, นม,...            [นม]   \n",
       "1511  [เพื่อน, คุ้นเคย, คำถาม, ทุ, กค, น., .., ?\", ห...              []   \n",
       "1512  [แตก, กระทู้, มาจาก, บ้าน, รูป, เฟส, นะจ๊ะ, วั...              []   \n",
       "1513  [อยากรู้, นมกล่อง, ทึ่, ขาย, ห้างสรรพสินค้า, น...            [นม]   \n",
       "\n",
       "     mention_brand  \n",
       "1509            []  \n",
       "1510            []  \n",
       "1511            []  \n",
       "1512            []  \n",
       "1513            []  "
      ]
     },
     "execution_count": 50,
     "metadata": {},
     "output_type": "execute_result"
    }
   ],
   "source": [
    "df_process_thread.tail()"
   ]
  },
  {
   "cell_type": "markdown",
   "metadata": {},
   "source": [
    "7.Insert thread to DB"
   ]
  },
  {
   "cell_type": "code",
   "execution_count": 51,
   "metadata": {},
   "outputs": [
    {
     "data": {
      "text/plain": [
       "<pymongo.results.InsertManyResult at 0x25af2334e08>"
      ]
     },
     "execution_count": 51,
     "metadata": {},
     "output_type": "execute_result"
    }
   ],
   "source": [
    "col_thread.delete_many({})\n",
    "process_data = create_InsertMany_Thread(df_process_thread)\n",
    "col_thread.insert_many(process_data)"
   ]
  },
  {
   "cell_type": "code",
   "execution_count": 52,
   "metadata": {
    "executionInfo": {
     "elapsed": 890,
     "status": "ok",
     "timestamp": 1604027734766,
     "user": {
      "displayName": "Pacharapol O.",
      "photoUrl": "https://lh3.googleusercontent.com/a-/AOh14GiBNaVjsCxoMVUqEvSDC7eauF0V2ZD7B-TzevR1TQ=s64",
      "userId": "00378494490135533545"
     },
     "user_tz": -420
    },
    "id": "J30GMUlJTCdh"
   },
   "outputs": [],
   "source": [
    "del df_textList1,df_textList2,df_thread,df_Corpus,df_process_comment,df_process_thread"
   ]
  },
  {
   "cell_type": "markdown",
   "metadata": {},
   "source": [
    "<br><br>\n",
    "### Process หัวกระทู้เพื่อดึง Domain (Brand & Product) ไม่ใช้โมเดลเทรนแล้วทำนาย ต้องการความถูกต้อง 100%"
   ]
  },
  {
   "cell_type": "markdown",
   "metadata": {},
   "source": [
    "หากเคยบันทึกลง MongoDB แล้ว ให้เริ่มตรงนี้"
   ]
  },
  {
   "cell_type": "code",
   "execution_count": 19,
   "metadata": {},
   "outputs": [],
   "source": [
    "cursor_thread = col_thread.find()\n",
    "df_thr_process = pd.DataFrame(cursor_thread)"
   ]
  },
  {
   "cell_type": "code",
   "execution_count": 20,
   "metadata": {},
   "outputs": [
    {
     "name": "stderr",
     "output_type": "stream",
     "text": [
      "C:\\ProgramData\\Anaconda3\\lib\\site-packages\\ipykernel_launcher.py:2: SettingWithCopyWarning: \n",
      "A value is trying to be set on a copy of a slice from a DataFrame.\n",
      "Try using .loc[row_indexer,col_indexer] = value instead\n",
      "\n",
      "See the caveats in the documentation: http://pandas.pydata.org/pandas-docs/stable/indexing.html#indexing-view-versus-copy\n",
      "  \n",
      "C:\\ProgramData\\Anaconda3\\lib\\site-packages\\ipykernel_launcher.py:3: SettingWithCopyWarning: \n",
      "A value is trying to be set on a copy of a slice from a DataFrame.\n",
      "Try using .loc[row_indexer,col_indexer] = value instead\n",
      "\n",
      "See the caveats in the documentation: http://pandas.pydata.org/pandas-docs/stable/indexing.html#indexing-view-versus-copy\n",
      "  This is separate from the ipykernel package so we can avoid doing imports until\n"
     ]
    }
   ],
   "source": [
    "df_urls_milk = df_thr_process[(df_thr_process.mention_brand.str.len() != 0) & (df_thr_process.mention_product.str.len() != 0)]\n",
    "df_urls_milk['mention_brand'] = df_urls_milk['mention_brand'].apply(lambda x: repr(set(x)))\n",
    "df_urls_milk['mention_product'] = df_urls_milk['mention_product'].apply(lambda x: repr(set(x)))"
   ]
  },
  {
   "cell_type": "code",
   "execution_count": 21,
   "metadata": {},
   "outputs": [
    {
     "data": {
      "text/plain": [
       "(422, 6)"
      ]
     },
     "execution_count": 21,
     "metadata": {},
     "output_type": "execute_result"
    }
   ],
   "source": [
    "df_urls_milk.shape"
   ]
  },
  {
   "cell_type": "code",
   "execution_count": 22,
   "metadata": {},
   "outputs": [
    {
     "name": "stdout",
     "output_type": "stream",
     "text": [
      "จำนวนกระทู้ที่มีการพูดถึงนมหรือชื่อแบรนด์ในหัวกระทู้ = 422\n"
     ]
    },
    {
     "name": "stderr",
     "output_type": "stream",
     "text": [
      "C:\\ProgramData\\Anaconda3\\lib\\site-packages\\ipykernel_launcher.py:2: UserWarning: Pandas doesn't allow columns to be created via a new attribute name - see https://pandas.pydata.org/pandas-docs/stable/indexing.html#attribute-access\n",
      "  \n"
     ]
    }
   ],
   "source": [
    "df_view = df_urls_milk[['URLs','mention_brand']]\n",
    "df_view.column = ['URLs','mention_brand']\n",
    "df_view_count = df_view.groupby('mention_brand').count()\n",
    "print('จำนวนกระทู้ที่มีการพูดถึงนมหรือชื่อแบรนด์ในหัวกระทู้ =',df_view.shape[0])"
   ]
  },
  {
   "cell_type": "code",
   "execution_count": 23,
   "metadata": {
    "scrolled": true
   },
   "outputs": [
    {
     "data": {
      "text/html": [
       "<div>\n",
       "<style scoped>\n",
       "    .dataframe tbody tr th:only-of-type {\n",
       "        vertical-align: middle;\n",
       "    }\n",
       "\n",
       "    .dataframe tbody tr th {\n",
       "        vertical-align: top;\n",
       "    }\n",
       "\n",
       "    .dataframe thead th {\n",
       "        text-align: right;\n",
       "    }\n",
       "</style>\n",
       "<table border=\"1\" class=\"dataframe\">\n",
       "  <thead>\n",
       "    <tr style=\"text-align: right;\">\n",
       "      <th></th>\n",
       "      <th>URLs</th>\n",
       "    </tr>\n",
       "    <tr>\n",
       "      <th>mention_brand</th>\n",
       "      <th></th>\n",
       "    </tr>\n",
       "  </thead>\n",
       "  <tbody>\n",
       "    <tr>\n",
       "      <th>{'เมจิ'}</th>\n",
       "      <td>188</td>\n",
       "    </tr>\n",
       "    <tr>\n",
       "      <th>{'โฟร์โมสต์'}</th>\n",
       "      <td>69</td>\n",
       "    </tr>\n",
       "    <tr>\n",
       "      <th>{'ดัชมิลล์'}</th>\n",
       "      <td>51</td>\n",
       "    </tr>\n",
       "    <tr>\n",
       "      <th>{'โชคชัย'}</th>\n",
       "      <td>24</td>\n",
       "    </tr>\n",
       "    <tr>\n",
       "      <th>{'เมจิ', 'ดัชมิลล์'}</th>\n",
       "      <td>13</td>\n",
       "    </tr>\n",
       "    <tr>\n",
       "      <th>{'ไทยเดนมาร์ค'}</th>\n",
       "      <td>8</td>\n",
       "    </tr>\n",
       "    <tr>\n",
       "      <th>{'เมจิ', 'คาเนชั่น'}</th>\n",
       "      <td>6</td>\n",
       "    </tr>\n",
       "    <tr>\n",
       "      <th>{'เมจิ', 'โฟร์โมสต์'}</th>\n",
       "      <td>6</td>\n",
       "    </tr>\n",
       "    <tr>\n",
       "      <th>{'เมจิ', 'โชคชัย'}</th>\n",
       "      <td>3</td>\n",
       "    </tr>\n",
       "    <tr>\n",
       "      <th>{'เมจิ', 'หนองโพ'}</th>\n",
       "      <td>3</td>\n",
       "    </tr>\n",
       "    <tr>\n",
       "      <th>{'ดัชมิลล์', 'โฟร์โมสต์'}</th>\n",
       "      <td>3</td>\n",
       "    </tr>\n",
       "    <tr>\n",
       "      <th>{'เมจิ', 'ไทยเดนมาร์ค'}</th>\n",
       "      <td>3</td>\n",
       "    </tr>\n",
       "    <tr>\n",
       "      <th>{'เมจิ', 'ดัชมิลล์', 'โฟร์โมสต์'}</th>\n",
       "      <td>2</td>\n",
       "    </tr>\n",
       "    <tr>\n",
       "      <th>{'คาเนชั่น'}</th>\n",
       "      <td>2</td>\n",
       "    </tr>\n",
       "    <tr>\n",
       "      <th>{'เมจิ', 'โชคชัย', 'โฟร์โมสต์'}</th>\n",
       "      <td>2</td>\n",
       "    </tr>\n",
       "    <tr>\n",
       "      <th>{'เมจิ', 'โชคชัย', 'ดัชมิลล์', 'โฟร์โมสต์'}</th>\n",
       "      <td>2</td>\n",
       "    </tr>\n",
       "    <tr>\n",
       "      <th>{'เมจิ', 'แมคโนเลีย'}</th>\n",
       "      <td>2</td>\n",
       "    </tr>\n",
       "    <tr>\n",
       "      <th>{'เมจิ', 'เอ็มมิลค์', 'ดัชมิลล์'}</th>\n",
       "      <td>2</td>\n",
       "    </tr>\n",
       "    <tr>\n",
       "      <th>{'เมจิ', 'หนองโพ', 'โฟร์โมสต์'}</th>\n",
       "      <td>2</td>\n",
       "    </tr>\n",
       "    <tr>\n",
       "      <th>{'หนองโพ', 'ไทยเดนมาร์ค'}</th>\n",
       "      <td>2</td>\n",
       "    </tr>\n",
       "    <tr>\n",
       "      <th>{'ไทยเดนมาร์ค', 'โฟร์โมสต์'}</th>\n",
       "      <td>2</td>\n",
       "    </tr>\n",
       "    <tr>\n",
       "      <th>{'หนองโพ', 'ไทยเดนมาร์ค', 'โฟร์โมสต์'}</th>\n",
       "      <td>2</td>\n",
       "    </tr>\n",
       "    <tr>\n",
       "      <th>{'แดรี่โฮม'}</th>\n",
       "      <td>2</td>\n",
       "    </tr>\n",
       "    <tr>\n",
       "      <th>{'โชคชัย', 'ไทยเดนมาร์ค'}</th>\n",
       "      <td>2</td>\n",
       "    </tr>\n",
       "    <tr>\n",
       "      <th>{'ไทยเดนมาร์ค', 'ดัชมิลล์'}</th>\n",
       "      <td>1</td>\n",
       "    </tr>\n",
       "    <tr>\n",
       "      <th>{'เมจิ', 'ไทยเดนมาร์ค', 'โฟร์โมสต์'}</th>\n",
       "      <td>1</td>\n",
       "    </tr>\n",
       "    <tr>\n",
       "      <th>{'เมจิ', 'โฟร์โมสต์', 'ไทยเดนมาร์ค', 'ดัชมิลล์'}</th>\n",
       "      <td>1</td>\n",
       "    </tr>\n",
       "    <tr>\n",
       "      <th>{'แมคโนเลีย', 'โฟร์โมสต์'}</th>\n",
       "      <td>1</td>\n",
       "    </tr>\n",
       "    <tr>\n",
       "      <th>{'โชคชัย', 'โฟร์โมสต์'}</th>\n",
       "      <td>1</td>\n",
       "    </tr>\n",
       "    <tr>\n",
       "      <th>{'โฟร์โมสต์', 'ดัชมิลล์'}</th>\n",
       "      <td>1</td>\n",
       "    </tr>\n",
       "    <tr>\n",
       "      <th>{'คาเนชั่น', 'ดัชมิลล์'}</th>\n",
       "      <td>1</td>\n",
       "    </tr>\n",
       "    <tr>\n",
       "      <th>{'เมจิ', 'โฟร์โมสต์', 'ดัชมิลล์'}</th>\n",
       "      <td>1</td>\n",
       "    </tr>\n",
       "    <tr>\n",
       "      <th>{'คาเนชั่น', 'โฟร์โมสต์'}</th>\n",
       "      <td>1</td>\n",
       "    </tr>\n",
       "    <tr>\n",
       "      <th>{'เมจิ', 'คาเนชั่น', 'ดัชมิลล์'}</th>\n",
       "      <td>1</td>\n",
       "    </tr>\n",
       "    <tr>\n",
       "      <th>{'หนองโพ'}</th>\n",
       "      <td>1</td>\n",
       "    </tr>\n",
       "    <tr>\n",
       "      <th>{'หนองโพ', 'ไทยเดนมาร์ค', 'ดัชมิลล์'}</th>\n",
       "      <td>1</td>\n",
       "    </tr>\n",
       "    <tr>\n",
       "      <th>{'หนองโพ', 'โฟร์โมสต์', 'ไทยเดนมาร์ค', 'ดัชมิลล์'}</th>\n",
       "      <td>1</td>\n",
       "    </tr>\n",
       "    <tr>\n",
       "      <th>{'หนองโพ', 'โชคชัย'}</th>\n",
       "      <td>1</td>\n",
       "    </tr>\n",
       "    <tr>\n",
       "      <th>{'หนองโพ', 'โชคชัย', 'ดัชมิลล์'}</th>\n",
       "      <td>1</td>\n",
       "    </tr>\n",
       "    <tr>\n",
       "      <th>{'หนองโพ', 'โชคชัย', 'ดัชมิลล์', 'โฟร์โมสต์'}</th>\n",
       "      <td>1</td>\n",
       "    </tr>\n",
       "    <tr>\n",
       "      <th>{'หนองโพ', 'แดรี่โฮม', 'เมจิ', 'โชคชัย', 'ไทยเดนมาร์ค'}</th>\n",
       "      <td>1</td>\n",
       "    </tr>\n",
       "    <tr>\n",
       "      <th>{'หนองโพ', 'ดัชมิลล์'}</th>\n",
       "      <td>1</td>\n",
       "    </tr>\n",
       "    <tr>\n",
       "      <th>{'ดัชมิลล์', 'ไทยเดนมาร์ค', 'โฟร์โมสต์'}</th>\n",
       "      <td>1</td>\n",
       "    </tr>\n",
       "    <tr>\n",
       "      <th>{'ดัชมิลล์', 'หนองโพ', 'เมจิ', 'โชคชัย', 'โฟร์โมสต์'}</th>\n",
       "      <td>1</td>\n",
       "    </tr>\n",
       "    <tr>\n",
       "      <th>{'เมจิ', 'หนองโพ', 'ไทยเดนมาร์ค', 'โฟร์โมสต์'}</th>\n",
       "      <td>1</td>\n",
       "    </tr>\n",
       "  </tbody>\n",
       "</table>\n",
       "</div>"
      ],
      "text/plain": [
       "                                                    URLs\n",
       "mention_brand                                           \n",
       "{'เมจิ'}                                             188\n",
       "{'โฟร์โมสต์'}                                         69\n",
       "{'ดัชมิลล์'}                                          51\n",
       "{'โชคชัย'}                                            24\n",
       "{'เมจิ', 'ดัชมิลล์'}                                  13\n",
       "{'ไทยเดนมาร์ค'}                                        8\n",
       "{'เมจิ', 'คาเนชั่น'}                                   6\n",
       "{'เมจิ', 'โฟร์โมสต์'}                                  6\n",
       "{'เมจิ', 'โชคชัย'}                                     3\n",
       "{'เมจิ', 'หนองโพ'}                                     3\n",
       "{'ดัชมิลล์', 'โฟร์โมสต์'}                              3\n",
       "{'เมจิ', 'ไทยเดนมาร์ค'}                                3\n",
       "{'เมจิ', 'ดัชมิลล์', 'โฟร์โมสต์'}                      2\n",
       "{'คาเนชั่น'}                                           2\n",
       "{'เมจิ', 'โชคชัย', 'โฟร์โมสต์'}                        2\n",
       "{'เมจิ', 'โชคชัย', 'ดัชมิลล์', 'โฟร์โมสต์'}            2\n",
       "{'เมจิ', 'แมคโนเลีย'}                                  2\n",
       "{'เมจิ', 'เอ็มมิลค์', 'ดัชมิลล์'}                      2\n",
       "{'เมจิ', 'หนองโพ', 'โฟร์โมสต์'}                        2\n",
       "{'หนองโพ', 'ไทยเดนมาร์ค'}                              2\n",
       "{'ไทยเดนมาร์ค', 'โฟร์โมสต์'}                           2\n",
       "{'หนองโพ', 'ไทยเดนมาร์ค', 'โฟร์โมสต์'}                 2\n",
       "{'แดรี่โฮม'}                                           2\n",
       "{'โชคชัย', 'ไทยเดนมาร์ค'}                              2\n",
       "{'ไทยเดนมาร์ค', 'ดัชมิลล์'}                            1\n",
       "{'เมจิ', 'ไทยเดนมาร์ค', 'โฟร์โมสต์'}                   1\n",
       "{'เมจิ', 'โฟร์โมสต์', 'ไทยเดนมาร์ค', 'ดัชมิลล์'}       1\n",
       "{'แมคโนเลีย', 'โฟร์โมสต์'}                             1\n",
       "{'โชคชัย', 'โฟร์โมสต์'}                                1\n",
       "{'โฟร์โมสต์', 'ดัชมิลล์'}                              1\n",
       "{'คาเนชั่น', 'ดัชมิลล์'}                               1\n",
       "{'เมจิ', 'โฟร์โมสต์', 'ดัชมิลล์'}                      1\n",
       "{'คาเนชั่น', 'โฟร์โมสต์'}                              1\n",
       "{'เมจิ', 'คาเนชั่น', 'ดัชมิลล์'}                       1\n",
       "{'หนองโพ'}                                             1\n",
       "{'หนองโพ', 'ไทยเดนมาร์ค', 'ดัชมิลล์'}                  1\n",
       "{'หนองโพ', 'โฟร์โมสต์', 'ไทยเดนมาร์ค', 'ดัชมิลล์'}     1\n",
       "{'หนองโพ', 'โชคชัย'}                                   1\n",
       "{'หนองโพ', 'โชคชัย', 'ดัชมิลล์'}                       1\n",
       "{'หนองโพ', 'โชคชัย', 'ดัชมิลล์', 'โฟร์โมสต์'}          1\n",
       "{'หนองโพ', 'แดรี่โฮม', 'เมจิ', 'โชคชัย', 'ไทยเด...     1\n",
       "{'หนองโพ', 'ดัชมิลล์'}                                 1\n",
       "{'ดัชมิลล์', 'ไทยเดนมาร์ค', 'โฟร์โมสต์'}               1\n",
       "{'ดัชมิลล์', 'หนองโพ', 'เมจิ', 'โชคชัย', 'โฟร์โ...     1\n",
       "{'เมจิ', 'หนองโพ', 'ไทยเดนมาร์ค', 'โฟร์โมสต์'}         1"
      ]
     },
     "execution_count": 23,
     "metadata": {},
     "output_type": "execute_result"
    }
   ],
   "source": [
    "df_view_count.sort_values(by='URLs',ascending=False)"
   ]
  },
  {
   "cell_type": "code",
   "execution_count": 24,
   "metadata": {},
   "outputs": [
    {
     "data": {
      "text/html": [
       "<div>\n",
       "<style scoped>\n",
       "    .dataframe tbody tr th:only-of-type {\n",
       "        vertical-align: middle;\n",
       "    }\n",
       "\n",
       "    .dataframe tbody tr th {\n",
       "        vertical-align: top;\n",
       "    }\n",
       "\n",
       "    .dataframe thead th {\n",
       "        text-align: right;\n",
       "    }\n",
       "</style>\n",
       "<table border=\"1\" class=\"dataframe\">\n",
       "  <thead>\n",
       "    <tr style=\"text-align: right;\">\n",
       "      <th></th>\n",
       "      <th>URLs</th>\n",
       "      <th>_id</th>\n",
       "      <th>mention_brand</th>\n",
       "      <th>mention_product</th>\n",
       "      <th>text</th>\n",
       "      <th>token_text</th>\n",
       "    </tr>\n",
       "  </thead>\n",
       "  <tbody>\n",
       "    <tr>\n",
       "      <th>0</th>\n",
       "      <td>https://pantip.com/topic/39868603</td>\n",
       "      <td>5fbb5a418e8105c375c6e325</td>\n",
       "      <td>{'เมจิ'}</td>\n",
       "      <td>{'นม', 'รสหวาน'}</td>\n",
       "      <td>เมื่อก่อนหลายปีมาแล้ว ในเซเว่นยังมีนมเมจิรสหวา...</td>\n",
       "      <td>[ปี, เซเว่น, ยังมี, นม, เมจิ, รสหวาน, ขาย, อยู...</td>\n",
       "    </tr>\n",
       "    <tr>\n",
       "      <th>1</th>\n",
       "      <td>https://pantip.com/topic/39597709</td>\n",
       "      <td>5fbb5a418e8105c375c6e326</td>\n",
       "      <td>{'เมจิ'}</td>\n",
       "      <td>{'นม'}</td>\n",
       "      <td>ตามหัวข้อเลยค่ะ อยากรู้ว่านมเมจิที่ต้มก่อนนำไป...</td>\n",
       "      <td>[หัวข้อ, อยากรู้, นม, เมจิ, ต้ม, ส่วนผสม, เครื...</td>\n",
       "    </tr>\n",
       "    <tr>\n",
       "      <th>2</th>\n",
       "      <td>https://pantip.com/topic/39747201</td>\n",
       "      <td>5fbb5a418e8105c375c6e327</td>\n",
       "      <td>{'เมจิ'}</td>\n",
       "      <td>{'นม'}</td>\n",
       "      <td>วันก่อนซื้อ นมเมจิขวด 2 ลิตร มากิน สังเกตฝามัน...</td>\n",
       "      <td>[วันก่อน, ซื้อ, นม, เมจิ, ขวด, ลิตร, กิน, สังเ...</td>\n",
       "    </tr>\n",
       "    <tr>\n",
       "      <th>3</th>\n",
       "      <td>https://pantip.com/topic/39732615</td>\n",
       "      <td>5fbb5a418e8105c375c6e328</td>\n",
       "      <td>{'เมจิ'}</td>\n",
       "      <td>{'นม'}</td>\n",
       "      <td>อยากรู้ว่าMakroมีนมยี่ห้อ meiji(เมจิ) ขายมั้ยครับ</td>\n",
       "      <td>[อยากรู้, makro, นม, ยี่ห้อ, เมจิ, เมจิ, ขาย]</td>\n",
       "    </tr>\n",
       "    <tr>\n",
       "      <th>5</th>\n",
       "      <td>https://pantip.com/topic/39928742</td>\n",
       "      <td>5fbb5a418e8105c375c6e32a</td>\n",
       "      <td>{'เมจิ'}</td>\n",
       "      <td>{'นม', 'ไขมัน 0%'}</td>\n",
       "      <td>สวัสดี เราคือมนุษย์ออฟฟิศ อายุ 25 ปี ที่เสพติด...</td>\n",
       "      <td>[สวัสดี, มนุษย์, ออฟฟิศ, อายุ, ปี, เสพติด, กิน...</td>\n",
       "    </tr>\n",
       "    <tr>\n",
       "      <th>10</th>\n",
       "      <td>https://pantip.com/topic/39975832</td>\n",
       "      <td>5fbb5a418e8105c375c6e32f</td>\n",
       "      <td>{'เมจิ'}</td>\n",
       "      <td>{'นม'}</td>\n",
       "      <td>🥺 คือผมอายุ17ย่าง18 สูง168หนัก61 ผมไม่สูงขึ้นเ...</td>\n",
       "      <td>[ผม, อายุ, ย่าง, หนัก, ผม, ไม่, อายุ, เพื่อน, ...</td>\n",
       "    </tr>\n",
       "    <tr>\n",
       "      <th>11</th>\n",
       "      <td>https://pantip.com/topic/39905450</td>\n",
       "      <td>5fbb5a418e8105c375c6e330</td>\n",
       "      <td>{'เมจิ'}</td>\n",
       "      <td>{'นม'}</td>\n",
       "      <td>ขอคำแนะนำหน่อยครับ \\r\\nทำสปาเกตตี้คาโบนาราครั้...</td>\n",
       "      <td>[คำแนะนำ, ทำ, สปา, เก, ตตี้, คา, โบ, นารา, ครั...</td>\n",
       "    </tr>\n",
       "    <tr>\n",
       "      <th>12</th>\n",
       "      <td>https://pantip.com/topic/39874488</td>\n",
       "      <td>5fbb5a418e8105c375c6e331</td>\n",
       "      <td>{'เมจิ'}</td>\n",
       "      <td>{'นม'}</td>\n",
       "      <td>พอดีว่าช่วงนี้ WFH เลยอยากจะลองชง มอคค่า เองบ้...</td>\n",
       "      <td>[wfh, ลอง, ชง, มอคค่า, ลอง, ทำ, เวิค, รสชาติ, ...</td>\n",
       "    </tr>\n",
       "    <tr>\n",
       "      <th>17</th>\n",
       "      <td>https://pantip.com/topic/39099897</td>\n",
       "      <td>5fbb5a418e8105c375c6e336</td>\n",
       "      <td>{'เมจิ'}</td>\n",
       "      <td>{'นม', 'พาสเจอร์ไรส์'}</td>\n",
       "      <td>พอดีวันนี้ไปซื้อนมเมจิ พาสเจอไรซ์ จำนวน 7 ขวดท...</td>\n",
       "      <td>[ซื้อ, นม, เมจิ, พาสเจอร์ไรส์, จำนวน, ขวด, ปกต...</td>\n",
       "    </tr>\n",
       "    <tr>\n",
       "      <th>18</th>\n",
       "      <td>https://pantip.com/topic/38412845</td>\n",
       "      <td>5fbb5a418e8105c375c6e337</td>\n",
       "      <td>{'เมจิ'}</td>\n",
       "      <td>{'นม', 'เวย์โปรตีน'}</td>\n",
       "      <td>เข้าเซเว่นเห็นนม เวย์โปรตีน เมจิ ขวด49บาทโปรตี...</td>\n",
       "      <td>[เซเว่น, นม, เวย์โปรตีน, เมจิ, ขวด, โปรตีน, แค...</td>\n",
       "    </tr>\n",
       "    <tr>\n",
       "      <th>22</th>\n",
       "      <td>https://pantip.com/topic/39689189</td>\n",
       "      <td>5fbb5a418e8105c375c6e33b</td>\n",
       "      <td>{'เมจิ'}</td>\n",
       "      <td>{'นม'}</td>\n",
       "      <td>บริษัท ซีพี-เมจิ จำกัด ร่วมกับ โรงพยาบาลมหาวชิ...</td>\n",
       "      <td>[บริษัท, เมจิ, จำกัด, ร่วมกับ, โรงพยาบาล, มหา,...</td>\n",
       "    </tr>\n",
       "    <tr>\n",
       "      <th>23</th>\n",
       "      <td>https://pantip.com/topic/39196885</td>\n",
       "      <td>5fbb5a418e8105c375c6e33c</td>\n",
       "      <td>{'เมจิ'}</td>\n",
       "      <td>{'นม'}</td>\n",
       "      <td>น้อง 1 ขวบ 1 เดือนค่ะ หมอบอกให้เปลี่ยนมาเป็นนม...</td>\n",
       "      <td>[น้อง, ขวบ, เดือน, หมอ, นม, uht, ได้, ปกติ, น้...</td>\n",
       "    </tr>\n",
       "    <tr>\n",
       "      <th>25</th>\n",
       "      <td>https://pantip.com/topic/39183141</td>\n",
       "      <td>5fbb5a418e8105c375c6e33e</td>\n",
       "      <td>{'เมจิ'}</td>\n",
       "      <td>{'นมเปรี้ยว', 'นม'}</td>\n",
       "      <td>สิ่งที่ขายในร้านนมนะคะ\\r\\n1.นมเปรี้ยวบีทาเก้นม...</td>\n",
       "      <td>[ขาย, ร้านนม, 1., นมเปรี้ยว, บีทาเก้น, ขนาด, ข...</td>\n",
       "    </tr>\n",
       "    <tr>\n",
       "      <th>29</th>\n",
       "      <td>https://pantip.com/topic/38573978</td>\n",
       "      <td>5fbb5a418e8105c375c6e342</td>\n",
       "      <td>{'เมจิ'}</td>\n",
       "      <td>{'นม', 'ไขมัน 0%'}</td>\n",
       "      <td>คือกินทุกคืนครับ เอานมเมจิไขมัน 0% ไปใส่ไมโครเ...</td>\n",
       "      <td>[กิน, ทุกคืน, นม, เมจิ, ไขมัน 0%, ใส่, ไมโครเว...</td>\n",
       "    </tr>\n",
       "    <tr>\n",
       "      <th>30</th>\n",
       "      <td>https://pantip.com/topic/39400735</td>\n",
       "      <td>5fbb5a418e8105c375c6e343</td>\n",
       "      <td>{'เมจิ'}</td>\n",
       "      <td>{'นม'}</td>\n",
       "      <td>แฟนคลับ 'เพิร์ธ บังเอิญรัก , TEMPT' เซอร์ไพร้ส...</td>\n",
       "      <td>[แฟนคลับ, ', เพิร์ธ, บังเอิญ, รัก, ,, tempt, '...</td>\n",
       "    </tr>\n",
       "    <tr>\n",
       "      <th>34</th>\n",
       "      <td>https://pantip.com/topic/38967410</td>\n",
       "      <td>5fbb5a418e8105c375c6e347</td>\n",
       "      <td>{'เมจิ'}</td>\n",
       "      <td>{'นม', 'เวย์'}</td>\n",
       "      <td>คือผมเข้าฟิตเนสได้ เกือบ 2 อาทิตย์แล้ว ก่อนเข้...</td>\n",
       "      <td>[ผม, ฟิตเนส, ได้, อาทิตย์, น้ำหนัก, ผม, ผม, เข...</td>\n",
       "    </tr>\n",
       "    <tr>\n",
       "      <th>36</th>\n",
       "      <td>https://pantip.com/topic/38942098</td>\n",
       "      <td>5fbb5a418e8105c375c6e349</td>\n",
       "      <td>{'เมจิ'}</td>\n",
       "      <td>{'นม', 'เวย์'}</td>\n",
       "      <td>พอดีได้ยินมาว่าถ้าเราจะลดน้ำหนักเราต้องกินอาหา...</td>\n",
       "      <td>[ได้ยิน, ลดน้ำหนัก, กิน, อาหาร, กิน, โปรตีน, ไ...</td>\n",
       "    </tr>\n",
       "    <tr>\n",
       "      <th>49</th>\n",
       "      <td>https://pantip.com/topic/40076173</td>\n",
       "      <td>5fbb5a418e8105c375c6e356</td>\n",
       "      <td>{'เมจิ'}</td>\n",
       "      <td>{'นม'}</td>\n",
       "      <td>13 09 60 \\r\\nเมื่อคืนเป็นคืนที่นอนหลับได้ห้าชั...</td>\n",
       "      <td>[คืน, นอนหลับ, ได้, ห้า, ชั่วโมง, หลับ, ลึก, ล...</td>\n",
       "    </tr>\n",
       "    <tr>\n",
       "      <th>52</th>\n",
       "      <td>https://pantip.com/topic/38812798</td>\n",
       "      <td>5fbb5a418e8105c375c6e359</td>\n",
       "      <td>{'เมจิ'}</td>\n",
       "      <td>{'ซากุระ', 'นม', 'กล้วยหอม', 'ไขมันต่ำ'}</td>\n",
       "      <td>เพื่อนๆ หน้าร้อนนี้ รู้สึกอยากกินอะไรเย็นๆไหม ...</td>\n",
       "      <td>[เพื่อน, หน้าร้อน, รู้สึก, กิน, เย็น, ไหม, กิน...</td>\n",
       "    </tr>\n",
       "    <tr>\n",
       "      <th>57</th>\n",
       "      <td>https://pantip.com/topic/38630508</td>\n",
       "      <td>5fbb5a418e8105c375c6e35e</td>\n",
       "      <td>{'เมจิ'}</td>\n",
       "      <td>{'นม', 'เวย์', 'ช็อกโกแลต'}</td>\n",
       "      <td>สวัสดีทุกท่านครับ\\r\\nเมื่อวาน (6 มี.ค.) จู่ๆก็...</td>\n",
       "      <td>[สวัสดี, ทุกท่าน, .ค.), โฆษณา, facebook, เปิดต...</td>\n",
       "    </tr>\n",
       "    <tr>\n",
       "      <th>85</th>\n",
       "      <td>https://pantip.com/topic/38284481</td>\n",
       "      <td>5fbb5a418e8105c375c6e37a</td>\n",
       "      <td>{'เมจิ'}</td>\n",
       "      <td>{'นม'}</td>\n",
       "      <td>สวัสดีค่ะเพื่อนๆชาว Pantip ชื่อปุ้ยนะคะ มีลูก ...</td>\n",
       "      <td>[สวัสดี, เพื่อน, pantip, ชื่อ, ปุ้ย, มีลูก, คน...</td>\n",
       "    </tr>\n",
       "    <tr>\n",
       "      <th>91</th>\n",
       "      <td>https://pantip.com/topic/38034607</td>\n",
       "      <td>5fbb5a418e8105c375c6e380</td>\n",
       "      <td>{'เมจิ'}</td>\n",
       "      <td>{'นม'}</td>\n",
       "      <td>ตามนั้นค่ะ ไปหามาหลายวัน หลายสาขาแล้ว ..แล้วมั...</td>\n",
       "      <td>[ตามนั้น, ไปหา, .., ช่าง, เหมาะเจาะ, cp, เมจิ,...</td>\n",
       "    </tr>\n",
       "    <tr>\n",
       "      <th>92</th>\n",
       "      <td>https://pantip.com/topic/38151004</td>\n",
       "      <td>5fbb5a418e8105c375c6e381</td>\n",
       "      <td>{'เมจิ'}</td>\n",
       "      <td>{'นม', 'คาราเมล'}</td>\n",
       "      <td>สูตรนี้ลองทำดูค่ะ ไม่ยากเลย ส่วนผสมใช้เท่าที่ม...</td>\n",
       "      <td>[สูตร, ลอง, ทำ, ดู, ไม่, ส่วนผสม, ตู้เย็น, กลิ...</td>\n",
       "    </tr>\n",
       "    <tr>\n",
       "      <th>100</th>\n",
       "      <td>https://pantip.com/topic/37482301</td>\n",
       "      <td>5fbb5a418e8105c375c6e389</td>\n",
       "      <td>{'เมจิ'}</td>\n",
       "      <td>{'นม', 'พาสเจอร์ไรส์', 'รสหวาน'}</td>\n",
       "      <td>รสชาติดีสุดๆ\\r\\n\\r\\n\\r\\nใครติดใจในรสชาติของนมพ...</td>\n",
       "      <td>[รสชาติ, ดี, ติดใจ, รสชาติ, นม, พาสเจอร์ไรส์, ...</td>\n",
       "    </tr>\n",
       "    <tr>\n",
       "      <th>101</th>\n",
       "      <td>https://pantip.com/topic/37736196</td>\n",
       "      <td>5fbb5a418e8105c375c6e38a</td>\n",
       "      <td>{'เมจิ'}</td>\n",
       "      <td>{'นม'}</td>\n",
       "      <td>ใช้เคื่องตีฟองแบบก้าน ของ JRL สีดำแบบเสียบปลั๊...</td>\n",
       "      <td>[เคื่อง, ตี, ฟอง, ก้าน, jrl, สี, ดำ, เสียบ, ปล...</td>\n",
       "    </tr>\n",
       "    <tr>\n",
       "      <th>104</th>\n",
       "      <td>https://pantip.com/topic/38441251</td>\n",
       "      <td>5fbb5a418e8105c375c6e38d</td>\n",
       "      <td>{'เมจิ'}</td>\n",
       "      <td>{'นมเปรี้ยว', 'นม'}</td>\n",
       "      <td>สวัสดีค่ะ แนะนำตัวเลยนะ เราชื่อปัท ตอนนี้อายุ ...</td>\n",
       "      <td>[สวัสดี, แนะนำตัว, ชื่อ, ปัท, ตอนนี้, อายุ, ปี...</td>\n",
       "    </tr>\n",
       "    <tr>\n",
       "      <th>108</th>\n",
       "      <td>https://pantip.com/topic/37647687</td>\n",
       "      <td>5fbb5a418e8105c375c6e391</td>\n",
       "      <td>{'เมจิ'}</td>\n",
       "      <td>{'นม'}</td>\n",
       "      <td>คือเราซื้อนมเมจิstartมาละเรากินไปนิดนึง เก็บไว...</td>\n",
       "      <td>[ซื้อ, นม, เมจิ, start, กิน, นิดนึง, ตู้เย็น, ...</td>\n",
       "    </tr>\n",
       "    <tr>\n",
       "      <th>117</th>\n",
       "      <td>https://pantip.com/topic/37500460</td>\n",
       "      <td>5fbb5a418e8105c375c6e39a</td>\n",
       "      <td>{'เมจิ'}</td>\n",
       "      <td>{'นม'}</td>\n",
       "      <td>อยากสอบถามท่านที่เคยทานนมเมจิโกล์ดแม็กซ์ค่ะว่า...</td>\n",
       "      <td>[สอบถาม, ท่าน, ทาน, นม, เมจิ, โก, ล์ด, แม็กซ์,...</td>\n",
       "    </tr>\n",
       "    <tr>\n",
       "      <th>131</th>\n",
       "      <td>https://pantip.com/topic/37690299</td>\n",
       "      <td>5fbb5a418e8105c375c6e3a8</td>\n",
       "      <td>{'เมจิ'}</td>\n",
       "      <td>{'นม'}</td>\n",
       "      <td>ที่สงสัยเพราะแม่อะ รู้จักเพื่อนเรา พี่ พ่อ เพื...</td>\n",
       "      <td>[สงสัย, แม่, อะ, รู้จัก, เพื่อน, พี่, พ่อ, เพื...</td>\n",
       "    </tr>\n",
       "    <tr>\n",
       "      <th>147</th>\n",
       "      <td>https://pantip.com/topic/37439170</td>\n",
       "      <td>5fbb5a418e8105c375c6e3b8</td>\n",
       "      <td>{'เมจิ'}</td>\n",
       "      <td>{'เวย์', 'นม', 'ช็อกโกแลต', 'whey', 'เวย์โปรตีน'}</td>\n",
       "      <td>สวัสดีครับ หลังจากรีวิวไป 2 ภาค ในเรื่องเกี่ยว...</td>\n",
       "      <td>[สวัสดี, รีวิว, เรื่อง, เครื่องดื่ม, โปรตีน, ไ...</td>\n",
       "    </tr>\n",
       "    <tr>\n",
       "      <th>...</th>\n",
       "      <td>...</td>\n",
       "      <td>...</td>\n",
       "      <td>...</td>\n",
       "      <td>...</td>\n",
       "      <td>...</td>\n",
       "      <td>...</td>\n",
       "    </tr>\n",
       "    <tr>\n",
       "      <th>767</th>\n",
       "      <td>https://pantip.com/topic/31644438</td>\n",
       "      <td>5fbb5a418e8105c375c6e624</td>\n",
       "      <td>{'เมจิ'}</td>\n",
       "      <td>{'รสกล้วย', 'รสจืด'}</td>\n",
       "      <td>สำหรับดิฉันชอบมากๆคือ เมจิ \\r\\n\\r\\nส่วนรสที่ชอ...</td>\n",
       "      <td>[สำหรับ, ดิฉัน, ชอบ, เมจิ, รส, ชอบ, กิน, เรียง...</td>\n",
       "    </tr>\n",
       "    <tr>\n",
       "      <th>770</th>\n",
       "      <td>https://pantip.com/topic/31617146</td>\n",
       "      <td>5fbb5a418e8105c375c6e627</td>\n",
       "      <td>{'เมจิ'}</td>\n",
       "      <td>{'นม', 'ไขมัน 0%'}</td>\n",
       "      <td>ตามหัวข้อครับ\\r\\n\\r\\nปกติมื้อเช้าผมจะกินพวก ผั...</td>\n",
       "      <td>[หัวข้อ, ปกติ, มื้อ, เช้า, ผม, กิน, ผัด, เผ็ด,...</td>\n",
       "    </tr>\n",
       "    <tr>\n",
       "      <th>776</th>\n",
       "      <td>https://pantip.com/topic/31467586</td>\n",
       "      <td>5fbb5a418e8105c375c6e62d</td>\n",
       "      <td>{'เมจิ'}</td>\n",
       "      <td>{'นมเปรี้ยว', 'นม', 'รสหวาน'}</td>\n",
       "      <td>ปริมาณ 85 มล. ลงใน นมเมจิรสหวานขนาด 400 มล. เพ...</td>\n",
       "      <td>[ปริมาณ, มล., นม, เมจิ, รสหวาน, ขนาด, มล., หมั...</td>\n",
       "    </tr>\n",
       "    <tr>\n",
       "      <th>781</th>\n",
       "      <td>https://pantip.com/topic/31586113</td>\n",
       "      <td>5fbb5a418e8105c375c6e632</td>\n",
       "      <td>{'เมจิ'}</td>\n",
       "      <td>{'นม'}</td>\n",
       "      <td>วันนี้เข้าไปซื้อนมเมจิที่เซเว่น 2ขวดค่ะ ราคาขว...</td>\n",
       "      <td>[เข้าไป, ซื้อ, นม, เมจิ, เซเว่น, ขวด, ขวด, 12....</td>\n",
       "    </tr>\n",
       "    <tr>\n",
       "      <th>785</th>\n",
       "      <td>https://pantip.com/topic/31634648</td>\n",
       "      <td>5fbb5a418e8105c375c6e636</td>\n",
       "      <td>{'เมจิ'}</td>\n",
       "      <td>{'เมล่อน', 'สตรอว์เบอร์รี', 'ช็อกโกแลต'}</td>\n",
       "      <td>จะเดินทางไปญี่ปุ่นกับทัวร์วันที่ 18 กุมภานี้ ด...</td>\n",
       "      <td>[เดินทาง, ญี่ปุ่น, ทัวร์, วันที่, กุมภา, บิน, ...</td>\n",
       "    </tr>\n",
       "    <tr>\n",
       "      <th>786</th>\n",
       "      <td>https://pantip.com/topic/31516712</td>\n",
       "      <td>5fbb5a418e8105c375c6e637</td>\n",
       "      <td>{'เมจิ'}</td>\n",
       "      <td>{'นม', 'รสจืด', 'ไขมัน 0%'}</td>\n",
       "      <td>คุณแม่ผมเป็นโรคเบาหวานครับ ตอนนี้ผมพยายามจะควบ...</td>\n",
       "      <td>[คุณแม่, ผม, โรคเบาหวาน, ตอนนี้, ผม, ควบคุม, อ...</td>\n",
       "    </tr>\n",
       "    <tr>\n",
       "      <th>832</th>\n",
       "      <td>https://pantip.com/topic/31463099</td>\n",
       "      <td>5fbb5a418e8105c375c6e665</td>\n",
       "      <td>{'เมจิ'}</td>\n",
       "      <td>{'พาสเจอร์ไรส์'}</td>\n",
       "      <td>มีอ่างอาบน้ำขนาดกำลังดีที่สามารถลงไปแช่ให้ผิวช...</td>\n",
       "      <td>[อ่าง, อาบน้ำ, ขนาด, กำลังดี, แช่, ผิว, ชุ่มฉ่...</td>\n",
       "    </tr>\n",
       "    <tr>\n",
       "      <th>833</th>\n",
       "      <td>https://pantip.com/topic/31371418</td>\n",
       "      <td>5fbb5a418e8105c375c6e666</td>\n",
       "      <td>{'เมจิ'}</td>\n",
       "      <td>{'นม'}</td>\n",
       "      <td>หนูลดความอ้วนแบบผิดวิธีคะ เมื่อก่อนอายุ 15 ปี ...</td>\n",
       "      <td>[หนู, ลดความอ้วน, วิธี, อายุ, ปี, หนัก, กก., ซ...</td>\n",
       "    </tr>\n",
       "    <tr>\n",
       "      <th>835</th>\n",
       "      <td>https://pantip.com/topic/31330727</td>\n",
       "      <td>5fbb5a418e8105c375c6e668</td>\n",
       "      <td>{'เมจิ'}</td>\n",
       "      <td>{'นม'}</td>\n",
       "      <td>สืบเนื่องมาจากกระทู้ [CR]\"เครปเค้ก\" เค้กยอดฮิต...</td>\n",
       "      <td>[สืบ, เนื่องมาจาก, กระทู้, cr, ]\", เครป, เค้ก,...</td>\n",
       "    </tr>\n",
       "    <tr>\n",
       "      <th>841</th>\n",
       "      <td>https://pantip.com/topic/31270664</td>\n",
       "      <td>5fbb5a418e8105c375c6e66e</td>\n",
       "      <td>{'เมจิ'}</td>\n",
       "      <td>{'นม'}</td>\n",
       "      <td>ทานข้าวเช้า ประมาณ 9.30-10.00 น. สิ่งที่ทาน จะ...</td>\n",
       "      <td>[ทานข้าว, เช้า, 9.30, 10.00, น., ทาน, ข้าว, ทั...</td>\n",
       "    </tr>\n",
       "    <tr>\n",
       "      <th>845</th>\n",
       "      <td>https://pantip.com/topic/31171572</td>\n",
       "      <td>5fbb5a418e8105c375c6e672</td>\n",
       "      <td>{'เมจิ'}</td>\n",
       "      <td>{'นม', 'ไขมัน 0%'}</td>\n",
       "      <td>เช้า โปรตีนแอมเวย์ \\r\\n      ขนมปังโฮลวีท 2 แผ...</td>\n",
       "      <td>[เช้า, โปรตีน, แอมเวย์, , ขนมปัง, โฮลวีท, แผ่น...</td>\n",
       "    </tr>\n",
       "    <tr>\n",
       "      <th>847</th>\n",
       "      <td>https://pantip.com/topic/31061329</td>\n",
       "      <td>5fbb5a418e8105c375c6e674</td>\n",
       "      <td>{'เมจิ'}</td>\n",
       "      <td>{'นม', 'พาสเจอร์ไรส์'}</td>\n",
       "      <td>ไม่นึกว่าในขวดนมพาสเจอร์ไรส์ใส ๆ จะมีเหตุการณ์...</td>\n",
       "      <td>[ไม่, นึก, ขวดนม, พาสเจอร์ไรส์, ใส, เหตุการณ์,...</td>\n",
       "    </tr>\n",
       "    <tr>\n",
       "      <th>848</th>\n",
       "      <td>https://pantip.com/topic/31147509</td>\n",
       "      <td>5fbb5a418e8105c375c6e675</td>\n",
       "      <td>{'เมจิ'}</td>\n",
       "      <td>{'นม'}</td>\n",
       "      <td>มันขึ้นตรงไหนหรอครับสายนี้ ขึ้นตรงท่ารถต่างจัง...</td>\n",
       "      <td>[ตรงไหน, หรอ, สาย, ท่ารถ, ต่างจังหวัด, ฟิวเจอร...</td>\n",
       "    </tr>\n",
       "    <tr>\n",
       "      <th>859</th>\n",
       "      <td>https://pantip.com/topic/31112200</td>\n",
       "      <td>5fbb5a418e8105c375c6e680</td>\n",
       "      <td>{'เมจิ'}</td>\n",
       "      <td>{'นม', 'เมล่อน'}</td>\n",
       "      <td>สวัสดีครับ เราเป็นคนชอบกินนมปรงแต่งกลิ่น โดยเฉ...</td>\n",
       "      <td>[สวัสดี, คน, ชอบ, กินนม, ปรง, แต่ง, กลิ่น, โดย...</td>\n",
       "    </tr>\n",
       "    <tr>\n",
       "      <th>863</th>\n",
       "      <td>https://pantip.com/topic/31032562</td>\n",
       "      <td>5fbb5a418e8105c375c6e684</td>\n",
       "      <td>{'เมจิ'}</td>\n",
       "      <td>{'นม'}</td>\n",
       "      <td>คือเราซื้อนมเมจิ รสจีดมา เปนขวดขนาด450มล แต่เร...</td>\n",
       "      <td>[ซื้อ, นม, เมจิ, รส, จี, เปน, ขวด, ขนาด, มล, แ...</td>\n",
       "    </tr>\n",
       "    <tr>\n",
       "      <th>868</th>\n",
       "      <td>https://pantip.com/topic/31088320</td>\n",
       "      <td>5fbb5a418e8105c375c6e689</td>\n",
       "      <td>{'เมจิ'}</td>\n",
       "      <td>{'นม', 'ไขมัน 0%', 'ไขมันต่ำ'}</td>\n",
       "      <td>ต่อเนื่องจากกระทู้  http://pantip.com/topic/31...</td>\n",
       "      <td>[กระทู้, , คน, ข้อความ, ถาม, ผม, ลด, ผม, ตั้งก...</td>\n",
       "    </tr>\n",
       "    <tr>\n",
       "      <th>883</th>\n",
       "      <td>https://pantip.com/topic/31041870</td>\n",
       "      <td>5fbb5a418e8105c375c6e698</td>\n",
       "      <td>{'เมจิ'}</td>\n",
       "      <td>{'นม'}</td>\n",
       "      <td>เราพาลูกมาบ่อยมากกก จนพนักงานจำหน้าได้ละ 555 เ...</td>\n",
       "      <td>[ลูก, พนักงาน, หน้า, ได้, น้อง, พนักงาน, คุ้นๆ...</td>\n",
       "    </tr>\n",
       "    <tr>\n",
       "      <th>893</th>\n",
       "      <td>https://pantip.com/topic/30980430</td>\n",
       "      <td>5fbb5a418e8105c375c6e6a2</td>\n",
       "      <td>{'เมจิ'}</td>\n",
       "      <td>{'รสกลมกล่อม', 'รสธรรมชาติ', 'นม', 'เวย์โปรตีน...</td>\n",
       "      <td>เกริ่น นิดนุง,,\\r\\n\\r\\nก่อนหน้านี้มีโอกาสให้ต้...</td>\n",
       "      <td>[เกริ่น, นุง, ,,, มีโอกาส, ต้องหา, สูตร, ลอง, ...</td>\n",
       "    </tr>\n",
       "    <tr>\n",
       "      <th>898</th>\n",
       "      <td>https://pantip.com/topic/30945813</td>\n",
       "      <td>5fbb5a418e8105c375c6e6a7</td>\n",
       "      <td>{'เมจิ'}</td>\n",
       "      <td>{'รสจืด'}</td>\n",
       "      <td>ทำงานโรงแรมค่ะ ตอนนี้อยู่ในโหมดลดน้ำหนัก แต่ปั...</td>\n",
       "      <td>[ทำงาน, โรงแรม, ตอนนี้, โหมด, ลดน้ำหนัก, ปัญหา...</td>\n",
       "    </tr>\n",
       "    <tr>\n",
       "      <th>916</th>\n",
       "      <td>https://pantip.com/topic/30933186</td>\n",
       "      <td>5fbb5a418e8105c375c6e6b9</td>\n",
       "      <td>{'เมจิ'}</td>\n",
       "      <td>{'นม', 'เวย์', 'กล้วยหอม'}</td>\n",
       "      <td>คนเรามักไม่มีความพอดีในตัวเอง บ้างอ้วนไปบ้างผอ...</td>\n",
       "      <td>[คนเรา, ไม่, ความพอดี, ตัวเอง, อ้วน, ผอม, คน, ...</td>\n",
       "    </tr>\n",
       "    <tr>\n",
       "      <th>929</th>\n",
       "      <td>https://pantip.com/topic/30765106</td>\n",
       "      <td>5fbb5a418e8105c375c6e6c6</td>\n",
       "      <td>{'เมจิ'}</td>\n",
       "      <td>{'นม'}</td>\n",
       "      <td>คือช่วงนี้ ได้ ซื้อ นมเมจิ แบบ 0% Fat  ส่วนมาก...</td>\n",
       "      <td>[ได้, ซื้อ, นม, เมจิ, fat, , กิน, นอน, ตื่น, เ...</td>\n",
       "    </tr>\n",
       "    <tr>\n",
       "      <th>931</th>\n",
       "      <td>https://pantip.com/topic/30843464</td>\n",
       "      <td>5fbb5a418e8105c375c6e6c8</td>\n",
       "      <td>{'เมจิ'}</td>\n",
       "      <td>{'รสธรรมชาติ', 'รสกลมกล่อม', 'เมจิบัลแกเรีย'}</td>\n",
       "      <td>เราเป็นหนึ่งในผู้โชคดี 10 คนที่ได้รางวัลเข้าร่...</td>\n",
       "      <td>[เป็นหนึ่ง, โชคดี, คน, ได้, รางวัล, ร่วมงาน, เ...</td>\n",
       "    </tr>\n",
       "    <tr>\n",
       "      <th>933</th>\n",
       "      <td>https://pantip.com/topic/30794433</td>\n",
       "      <td>5fbb5a418e8105c375c6e6ca</td>\n",
       "      <td>{'เมจิ'}</td>\n",
       "      <td>{'นม'}</td>\n",
       "      <td>พรีเซนเตอร์โฆษณา : \\r\\nเอไอเอส (14ล้าน) ,โตโยต...</td>\n",
       "      <td>[พรีเซนเตอร์, โฆษณา, เอไอเอส, ล้าน, โตโยต้า, ล...</td>\n",
       "    </tr>\n",
       "    <tr>\n",
       "      <th>941</th>\n",
       "      <td>https://pantip.com/topic/30660889</td>\n",
       "      <td>5fbb5a418e8105c375c6e6d2</td>\n",
       "      <td>{'เมจิ'}</td>\n",
       "      <td>{'นม'}</td>\n",
       "      <td>ใครมีประสบการณ์ร้านนม นขมปังนึ่ง สังขยา บ้างช่...</td>\n",
       "      <td>[มีประสบการณ์, ร้านนม, นข, ปัง, นึ่ง, สังขยา, ...</td>\n",
       "    </tr>\n",
       "    <tr>\n",
       "      <th>949</th>\n",
       "      <td>https://pantip.com/topic/30794224</td>\n",
       "      <td>5fbb5a418e8105c375c6e6da</td>\n",
       "      <td>{'เมจิ'}</td>\n",
       "      <td>{'นม'}</td>\n",
       "      <td>$(document).ready(function () {\\r\\n\\t\\t\\t\\t\\t\\...</td>\n",
       "      <td>[$(, document, )., ready, function, (), , $., ...</td>\n",
       "    </tr>\n",
       "    <tr>\n",
       "      <th>954</th>\n",
       "      <td>https://pantip.com/topic/30905090</td>\n",
       "      <td>5fbb5a418e8105c375c6e6df</td>\n",
       "      <td>{'เมจิ'}</td>\n",
       "      <td>{'รสธรรมชาติ', 'รสกลมกล่อม'}</td>\n",
       "      <td>ส่วนตัวคิดว่าในบรรดาผลิตภัณฑ์ทั้งหมดที่เจมส์จิ...</td>\n",
       "      <td>[ส่วนตัว, บรรดา, ผลิตภัณฑ์, เจมส์จิ, presenter...</td>\n",
       "    </tr>\n",
       "    <tr>\n",
       "      <th>957</th>\n",
       "      <td>https://pantip.com/topic/30712132</td>\n",
       "      <td>5fbb5a418e8105c375c6e6e2</td>\n",
       "      <td>{'เมจิ'}</td>\n",
       "      <td>{'นม', 'รสจืด'}</td>\n",
       "      <td>พอดีว่าเมื่อวานน้าของเด็กๆเค้าเอานมเมจิรสจืดแบ...</td>\n",
       "      <td>[น้า, เด็ก, เค้า, นม, เมจิ, รสจืด, แกลลอน, หมด...</td>\n",
       "    </tr>\n",
       "    <tr>\n",
       "      <th>958</th>\n",
       "      <td>https://pantip.com/topic/30712144</td>\n",
       "      <td>5fbb5a418e8105c375c6e6e3</td>\n",
       "      <td>{'เมจิ'}</td>\n",
       "      <td>{'นม', 'รสจืด'}</td>\n",
       "      <td>พอดีว่าเมื่อวานน้าของเด็กๆเค้าเอานมเมจิรสจืดแบ...</td>\n",
       "      <td>[น้า, เด็ก, เค้า, นม, เมจิ, รสจืด, แกลลอน, หมด...</td>\n",
       "    </tr>\n",
       "    <tr>\n",
       "      <th>974</th>\n",
       "      <td>https://pantip.com/topic/30522454</td>\n",
       "      <td>5fbb5a418e8105c375c6e6f3</td>\n",
       "      <td>{'เมจิ'}</td>\n",
       "      <td>{'นม'}</td>\n",
       "      <td>เมื่อคืนเพิ่งได้ลอง เมจิกลิ่นแตงโม ขวดละ 12.25...</td>\n",
       "      <td>[ได้, ลอง, เมจิ, กลิ่น, แตงโม, ขวด, 12.25, สิน...</td>\n",
       "    </tr>\n",
       "    <tr>\n",
       "      <th>1166</th>\n",
       "      <td>https://pantip.com/topic/30940495</td>\n",
       "      <td>5fbb5a418e8105c375c6e7b3</td>\n",
       "      <td>{'เมจิ'}</td>\n",
       "      <td>{'นม', 'รสธรรมชาติ'}</td>\n",
       "      <td>ถึงใครจะว่าไม่อร่อย ซื้อมาปาทิ้ง รสชาติเหมือนน...</td>\n",
       "      <td>[ไม่, อร่อย, ซื้อ, ปา, ทิ้ง, รสชาติ, เหมือน, น...</td>\n",
       "    </tr>\n",
       "  </tbody>\n",
       "</table>\n",
       "<p>188 rows × 6 columns</p>\n",
       "</div>"
      ],
      "text/plain": [
       "                                   URLs                       _id  \\\n",
       "0     https://pantip.com/topic/39868603  5fbb5a418e8105c375c6e325   \n",
       "1     https://pantip.com/topic/39597709  5fbb5a418e8105c375c6e326   \n",
       "2     https://pantip.com/topic/39747201  5fbb5a418e8105c375c6e327   \n",
       "3     https://pantip.com/topic/39732615  5fbb5a418e8105c375c6e328   \n",
       "5     https://pantip.com/topic/39928742  5fbb5a418e8105c375c6e32a   \n",
       "10    https://pantip.com/topic/39975832  5fbb5a418e8105c375c6e32f   \n",
       "11    https://pantip.com/topic/39905450  5fbb5a418e8105c375c6e330   \n",
       "12    https://pantip.com/topic/39874488  5fbb5a418e8105c375c6e331   \n",
       "17    https://pantip.com/topic/39099897  5fbb5a418e8105c375c6e336   \n",
       "18    https://pantip.com/topic/38412845  5fbb5a418e8105c375c6e337   \n",
       "22    https://pantip.com/topic/39689189  5fbb5a418e8105c375c6e33b   \n",
       "23    https://pantip.com/topic/39196885  5fbb5a418e8105c375c6e33c   \n",
       "25    https://pantip.com/topic/39183141  5fbb5a418e8105c375c6e33e   \n",
       "29    https://pantip.com/topic/38573978  5fbb5a418e8105c375c6e342   \n",
       "30    https://pantip.com/topic/39400735  5fbb5a418e8105c375c6e343   \n",
       "34    https://pantip.com/topic/38967410  5fbb5a418e8105c375c6e347   \n",
       "36    https://pantip.com/topic/38942098  5fbb5a418e8105c375c6e349   \n",
       "49    https://pantip.com/topic/40076173  5fbb5a418e8105c375c6e356   \n",
       "52    https://pantip.com/topic/38812798  5fbb5a418e8105c375c6e359   \n",
       "57    https://pantip.com/topic/38630508  5fbb5a418e8105c375c6e35e   \n",
       "85    https://pantip.com/topic/38284481  5fbb5a418e8105c375c6e37a   \n",
       "91    https://pantip.com/topic/38034607  5fbb5a418e8105c375c6e380   \n",
       "92    https://pantip.com/topic/38151004  5fbb5a418e8105c375c6e381   \n",
       "100   https://pantip.com/topic/37482301  5fbb5a418e8105c375c6e389   \n",
       "101   https://pantip.com/topic/37736196  5fbb5a418e8105c375c6e38a   \n",
       "104   https://pantip.com/topic/38441251  5fbb5a418e8105c375c6e38d   \n",
       "108   https://pantip.com/topic/37647687  5fbb5a418e8105c375c6e391   \n",
       "117   https://pantip.com/topic/37500460  5fbb5a418e8105c375c6e39a   \n",
       "131   https://pantip.com/topic/37690299  5fbb5a418e8105c375c6e3a8   \n",
       "147   https://pantip.com/topic/37439170  5fbb5a418e8105c375c6e3b8   \n",
       "...                                 ...                       ...   \n",
       "767   https://pantip.com/topic/31644438  5fbb5a418e8105c375c6e624   \n",
       "770   https://pantip.com/topic/31617146  5fbb5a418e8105c375c6e627   \n",
       "776   https://pantip.com/topic/31467586  5fbb5a418e8105c375c6e62d   \n",
       "781   https://pantip.com/topic/31586113  5fbb5a418e8105c375c6e632   \n",
       "785   https://pantip.com/topic/31634648  5fbb5a418e8105c375c6e636   \n",
       "786   https://pantip.com/topic/31516712  5fbb5a418e8105c375c6e637   \n",
       "832   https://pantip.com/topic/31463099  5fbb5a418e8105c375c6e665   \n",
       "833   https://pantip.com/topic/31371418  5fbb5a418e8105c375c6e666   \n",
       "835   https://pantip.com/topic/31330727  5fbb5a418e8105c375c6e668   \n",
       "841   https://pantip.com/topic/31270664  5fbb5a418e8105c375c6e66e   \n",
       "845   https://pantip.com/topic/31171572  5fbb5a418e8105c375c6e672   \n",
       "847   https://pantip.com/topic/31061329  5fbb5a418e8105c375c6e674   \n",
       "848   https://pantip.com/topic/31147509  5fbb5a418e8105c375c6e675   \n",
       "859   https://pantip.com/topic/31112200  5fbb5a418e8105c375c6e680   \n",
       "863   https://pantip.com/topic/31032562  5fbb5a418e8105c375c6e684   \n",
       "868   https://pantip.com/topic/31088320  5fbb5a418e8105c375c6e689   \n",
       "883   https://pantip.com/topic/31041870  5fbb5a418e8105c375c6e698   \n",
       "893   https://pantip.com/topic/30980430  5fbb5a418e8105c375c6e6a2   \n",
       "898   https://pantip.com/topic/30945813  5fbb5a418e8105c375c6e6a7   \n",
       "916   https://pantip.com/topic/30933186  5fbb5a418e8105c375c6e6b9   \n",
       "929   https://pantip.com/topic/30765106  5fbb5a418e8105c375c6e6c6   \n",
       "931   https://pantip.com/topic/30843464  5fbb5a418e8105c375c6e6c8   \n",
       "933   https://pantip.com/topic/30794433  5fbb5a418e8105c375c6e6ca   \n",
       "941   https://pantip.com/topic/30660889  5fbb5a418e8105c375c6e6d2   \n",
       "949   https://pantip.com/topic/30794224  5fbb5a418e8105c375c6e6da   \n",
       "954   https://pantip.com/topic/30905090  5fbb5a418e8105c375c6e6df   \n",
       "957   https://pantip.com/topic/30712132  5fbb5a418e8105c375c6e6e2   \n",
       "958   https://pantip.com/topic/30712144  5fbb5a418e8105c375c6e6e3   \n",
       "974   https://pantip.com/topic/30522454  5fbb5a418e8105c375c6e6f3   \n",
       "1166  https://pantip.com/topic/30940495  5fbb5a418e8105c375c6e7b3   \n",
       "\n",
       "     mention_brand                                    mention_product  \\\n",
       "0         {'เมจิ'}                                   {'นม', 'รสหวาน'}   \n",
       "1         {'เมจิ'}                                             {'นม'}   \n",
       "2         {'เมจิ'}                                             {'นม'}   \n",
       "3         {'เมจิ'}                                             {'นม'}   \n",
       "5         {'เมจิ'}                                 {'นม', 'ไขมัน 0%'}   \n",
       "10        {'เมจิ'}                                             {'นม'}   \n",
       "11        {'เมจิ'}                                             {'นม'}   \n",
       "12        {'เมจิ'}                                             {'นม'}   \n",
       "17        {'เมจิ'}                             {'นม', 'พาสเจอร์ไรส์'}   \n",
       "18        {'เมจิ'}                               {'นม', 'เวย์โปรตีน'}   \n",
       "22        {'เมจิ'}                                             {'นม'}   \n",
       "23        {'เมจิ'}                                             {'นม'}   \n",
       "25        {'เมจิ'}                                {'นมเปรี้ยว', 'นม'}   \n",
       "29        {'เมจิ'}                                 {'นม', 'ไขมัน 0%'}   \n",
       "30        {'เมจิ'}                                             {'นม'}   \n",
       "34        {'เมจิ'}                                     {'นม', 'เวย์'}   \n",
       "36        {'เมจิ'}                                     {'นม', 'เวย์'}   \n",
       "49        {'เมจิ'}                                             {'นม'}   \n",
       "52        {'เมจิ'}           {'ซากุระ', 'นม', 'กล้วยหอม', 'ไขมันต่ำ'}   \n",
       "57        {'เมจิ'}                        {'นม', 'เวย์', 'ช็อกโกแลต'}   \n",
       "85        {'เมจิ'}                                             {'นม'}   \n",
       "91        {'เมจิ'}                                             {'นม'}   \n",
       "92        {'เมจิ'}                                  {'นม', 'คาราเมล'}   \n",
       "100       {'เมจิ'}                   {'นม', 'พาสเจอร์ไรส์', 'รสหวาน'}   \n",
       "101       {'เมจิ'}                                             {'นม'}   \n",
       "104       {'เมจิ'}                                {'นมเปรี้ยว', 'นม'}   \n",
       "108       {'เมจิ'}                                             {'นม'}   \n",
       "117       {'เมจิ'}                                             {'นม'}   \n",
       "131       {'เมจิ'}                                             {'นม'}   \n",
       "147       {'เมจิ'}  {'เวย์', 'นม', 'ช็อกโกแลต', 'whey', 'เวย์โปรตีน'}   \n",
       "...            ...                                                ...   \n",
       "767       {'เมจิ'}                               {'รสกล้วย', 'รสจืด'}   \n",
       "770       {'เมจิ'}                                 {'นม', 'ไขมัน 0%'}   \n",
       "776       {'เมจิ'}                      {'นมเปรี้ยว', 'นม', 'รสหวาน'}   \n",
       "781       {'เมจิ'}                                             {'นม'}   \n",
       "785       {'เมจิ'}           {'เมล่อน', 'สตรอว์เบอร์รี', 'ช็อกโกแลต'}   \n",
       "786       {'เมจิ'}                        {'นม', 'รสจืด', 'ไขมัน 0%'}   \n",
       "832       {'เมจิ'}                                   {'พาสเจอร์ไรส์'}   \n",
       "833       {'เมจิ'}                                             {'นม'}   \n",
       "835       {'เมจิ'}                                             {'นม'}   \n",
       "841       {'เมจิ'}                                             {'นม'}   \n",
       "845       {'เมจิ'}                                 {'นม', 'ไขมัน 0%'}   \n",
       "847       {'เมจิ'}                             {'นม', 'พาสเจอร์ไรส์'}   \n",
       "848       {'เมจิ'}                                             {'นม'}   \n",
       "859       {'เมจิ'}                                   {'นม', 'เมล่อน'}   \n",
       "863       {'เมจิ'}                                             {'นม'}   \n",
       "868       {'เมจิ'}                     {'นม', 'ไขมัน 0%', 'ไขมันต่ำ'}   \n",
       "883       {'เมจิ'}                                             {'นม'}   \n",
       "893       {'เมจิ'}  {'รสกลมกล่อม', 'รสธรรมชาติ', 'นม', 'เวย์โปรตีน...   \n",
       "898       {'เมจิ'}                                          {'รสจืด'}   \n",
       "916       {'เมจิ'}                         {'นม', 'เวย์', 'กล้วยหอม'}   \n",
       "929       {'เมจิ'}                                             {'นม'}   \n",
       "931       {'เมจิ'}      {'รสธรรมชาติ', 'รสกลมกล่อม', 'เมจิบัลแกเรีย'}   \n",
       "933       {'เมจิ'}                                             {'นม'}   \n",
       "941       {'เมจิ'}                                             {'นม'}   \n",
       "949       {'เมจิ'}                                             {'นม'}   \n",
       "954       {'เมจิ'}                       {'รสธรรมชาติ', 'รสกลมกล่อม'}   \n",
       "957       {'เมจิ'}                                    {'นม', 'รสจืด'}   \n",
       "958       {'เมจิ'}                                    {'นม', 'รสจืด'}   \n",
       "974       {'เมจิ'}                                             {'นม'}   \n",
       "1166      {'เมจิ'}                               {'นม', 'รสธรรมชาติ'}   \n",
       "\n",
       "                                                   text  \\\n",
       "0     เมื่อก่อนหลายปีมาแล้ว ในเซเว่นยังมีนมเมจิรสหวา...   \n",
       "1     ตามหัวข้อเลยค่ะ อยากรู้ว่านมเมจิที่ต้มก่อนนำไป...   \n",
       "2     วันก่อนซื้อ นมเมจิขวด 2 ลิตร มากิน สังเกตฝามัน...   \n",
       "3     อยากรู้ว่าMakroมีนมยี่ห้อ meiji(เมจิ) ขายมั้ยครับ   \n",
       "5     สวัสดี เราคือมนุษย์ออฟฟิศ อายุ 25 ปี ที่เสพติด...   \n",
       "10    🥺 คือผมอายุ17ย่าง18 สูง168หนัก61 ผมไม่สูงขึ้นเ...   \n",
       "11    ขอคำแนะนำหน่อยครับ \\r\\nทำสปาเกตตี้คาโบนาราครั้...   \n",
       "12    พอดีว่าช่วงนี้ WFH เลยอยากจะลองชง มอคค่า เองบ้...   \n",
       "17    พอดีวันนี้ไปซื้อนมเมจิ พาสเจอไรซ์ จำนวน 7 ขวดท...   \n",
       "18    เข้าเซเว่นเห็นนม เวย์โปรตีน เมจิ ขวด49บาทโปรตี...   \n",
       "22    บริษัท ซีพี-เมจิ จำกัด ร่วมกับ โรงพยาบาลมหาวชิ...   \n",
       "23    น้อง 1 ขวบ 1 เดือนค่ะ หมอบอกให้เปลี่ยนมาเป็นนม...   \n",
       "25    สิ่งที่ขายในร้านนมนะคะ\\r\\n1.นมเปรี้ยวบีทาเก้นม...   \n",
       "29    คือกินทุกคืนครับ เอานมเมจิไขมัน 0% ไปใส่ไมโครเ...   \n",
       "30    แฟนคลับ 'เพิร์ธ บังเอิญรัก , TEMPT' เซอร์ไพร้ส...   \n",
       "34    คือผมเข้าฟิตเนสได้ เกือบ 2 อาทิตย์แล้ว ก่อนเข้...   \n",
       "36    พอดีได้ยินมาว่าถ้าเราจะลดน้ำหนักเราต้องกินอาหา...   \n",
       "49    13 09 60 \\r\\nเมื่อคืนเป็นคืนที่นอนหลับได้ห้าชั...   \n",
       "52    เพื่อนๆ หน้าร้อนนี้ รู้สึกอยากกินอะไรเย็นๆไหม ...   \n",
       "57    สวัสดีทุกท่านครับ\\r\\nเมื่อวาน (6 มี.ค.) จู่ๆก็...   \n",
       "85    สวัสดีค่ะเพื่อนๆชาว Pantip ชื่อปุ้ยนะคะ มีลูก ...   \n",
       "91    ตามนั้นค่ะ ไปหามาหลายวัน หลายสาขาแล้ว ..แล้วมั...   \n",
       "92    สูตรนี้ลองทำดูค่ะ ไม่ยากเลย ส่วนผสมใช้เท่าที่ม...   \n",
       "100   รสชาติดีสุดๆ\\r\\n\\r\\n\\r\\nใครติดใจในรสชาติของนมพ...   \n",
       "101   ใช้เคื่องตีฟองแบบก้าน ของ JRL สีดำแบบเสียบปลั๊...   \n",
       "104   สวัสดีค่ะ แนะนำตัวเลยนะ เราชื่อปัท ตอนนี้อายุ ...   \n",
       "108   คือเราซื้อนมเมจิstartมาละเรากินไปนิดนึง เก็บไว...   \n",
       "117   อยากสอบถามท่านที่เคยทานนมเมจิโกล์ดแม็กซ์ค่ะว่า...   \n",
       "131   ที่สงสัยเพราะแม่อะ รู้จักเพื่อนเรา พี่ พ่อ เพื...   \n",
       "147   สวัสดีครับ หลังจากรีวิวไป 2 ภาค ในเรื่องเกี่ยว...   \n",
       "...                                                 ...   \n",
       "767   สำหรับดิฉันชอบมากๆคือ เมจิ \\r\\n\\r\\nส่วนรสที่ชอ...   \n",
       "770   ตามหัวข้อครับ\\r\\n\\r\\nปกติมื้อเช้าผมจะกินพวก ผั...   \n",
       "776   ปริมาณ 85 มล. ลงใน นมเมจิรสหวานขนาด 400 มล. เพ...   \n",
       "781   วันนี้เข้าไปซื้อนมเมจิที่เซเว่น 2ขวดค่ะ ราคาขว...   \n",
       "785   จะเดินทางไปญี่ปุ่นกับทัวร์วันที่ 18 กุมภานี้ ด...   \n",
       "786   คุณแม่ผมเป็นโรคเบาหวานครับ ตอนนี้ผมพยายามจะควบ...   \n",
       "832   มีอ่างอาบน้ำขนาดกำลังดีที่สามารถลงไปแช่ให้ผิวช...   \n",
       "833   หนูลดความอ้วนแบบผิดวิธีคะ เมื่อก่อนอายุ 15 ปี ...   \n",
       "835   สืบเนื่องมาจากกระทู้ [CR]\"เครปเค้ก\" เค้กยอดฮิต...   \n",
       "841   ทานข้าวเช้า ประมาณ 9.30-10.00 น. สิ่งที่ทาน จะ...   \n",
       "845   เช้า โปรตีนแอมเวย์ \\r\\n      ขนมปังโฮลวีท 2 แผ...   \n",
       "847   ไม่นึกว่าในขวดนมพาสเจอร์ไรส์ใส ๆ จะมีเหตุการณ์...   \n",
       "848   มันขึ้นตรงไหนหรอครับสายนี้ ขึ้นตรงท่ารถต่างจัง...   \n",
       "859   สวัสดีครับ เราเป็นคนชอบกินนมปรงแต่งกลิ่น โดยเฉ...   \n",
       "863   คือเราซื้อนมเมจิ รสจีดมา เปนขวดขนาด450มล แต่เร...   \n",
       "868   ต่อเนื่องจากกระทู้  http://pantip.com/topic/31...   \n",
       "883   เราพาลูกมาบ่อยมากกก จนพนักงานจำหน้าได้ละ 555 เ...   \n",
       "893   เกริ่น นิดนุง,,\\r\\n\\r\\nก่อนหน้านี้มีโอกาสให้ต้...   \n",
       "898   ทำงานโรงแรมค่ะ ตอนนี้อยู่ในโหมดลดน้ำหนัก แต่ปั...   \n",
       "916   คนเรามักไม่มีความพอดีในตัวเอง บ้างอ้วนไปบ้างผอ...   \n",
       "929   คือช่วงนี้ ได้ ซื้อ นมเมจิ แบบ 0% Fat  ส่วนมาก...   \n",
       "931   เราเป็นหนึ่งในผู้โชคดี 10 คนที่ได้รางวัลเข้าร่...   \n",
       "933   พรีเซนเตอร์โฆษณา : \\r\\nเอไอเอส (14ล้าน) ,โตโยต...   \n",
       "941   ใครมีประสบการณ์ร้านนม นขมปังนึ่ง สังขยา บ้างช่...   \n",
       "949   $(document).ready(function () {\\r\\n\\t\\t\\t\\t\\t\\...   \n",
       "954   ส่วนตัวคิดว่าในบรรดาผลิตภัณฑ์ทั้งหมดที่เจมส์จิ...   \n",
       "957   พอดีว่าเมื่อวานน้าของเด็กๆเค้าเอานมเมจิรสจืดแบ...   \n",
       "958   พอดีว่าเมื่อวานน้าของเด็กๆเค้าเอานมเมจิรสจืดแบ...   \n",
       "974   เมื่อคืนเพิ่งได้ลอง เมจิกลิ่นแตงโม ขวดละ 12.25...   \n",
       "1166  ถึงใครจะว่าไม่อร่อย ซื้อมาปาทิ้ง รสชาติเหมือนน...   \n",
       "\n",
       "                                             token_text  \n",
       "0     [ปี, เซเว่น, ยังมี, นม, เมจิ, รสหวาน, ขาย, อยู...  \n",
       "1     [หัวข้อ, อยากรู้, นม, เมจิ, ต้ม, ส่วนผสม, เครื...  \n",
       "2     [วันก่อน, ซื้อ, นม, เมจิ, ขวด, ลิตร, กิน, สังเ...  \n",
       "3         [อยากรู้, makro, นม, ยี่ห้อ, เมจิ, เมจิ, ขาย]  \n",
       "5     [สวัสดี, มนุษย์, ออฟฟิศ, อายุ, ปี, เสพติด, กิน...  \n",
       "10    [ผม, อายุ, ย่าง, หนัก, ผม, ไม่, อายุ, เพื่อน, ...  \n",
       "11    [คำแนะนำ, ทำ, สปา, เก, ตตี้, คา, โบ, นารา, ครั...  \n",
       "12    [wfh, ลอง, ชง, มอคค่า, ลอง, ทำ, เวิค, รสชาติ, ...  \n",
       "17    [ซื้อ, นม, เมจิ, พาสเจอร์ไรส์, จำนวน, ขวด, ปกต...  \n",
       "18    [เซเว่น, นม, เวย์โปรตีน, เมจิ, ขวด, โปรตีน, แค...  \n",
       "22    [บริษัท, เมจิ, จำกัด, ร่วมกับ, โรงพยาบาล, มหา,...  \n",
       "23    [น้อง, ขวบ, เดือน, หมอ, นม, uht, ได้, ปกติ, น้...  \n",
       "25    [ขาย, ร้านนม, 1., นมเปรี้ยว, บีทาเก้น, ขนาด, ข...  \n",
       "29    [กิน, ทุกคืน, นม, เมจิ, ไขมัน 0%, ใส่, ไมโครเว...  \n",
       "30    [แฟนคลับ, ', เพิร์ธ, บังเอิญ, รัก, ,, tempt, '...  \n",
       "34    [ผม, ฟิตเนส, ได้, อาทิตย์, น้ำหนัก, ผม, ผม, เข...  \n",
       "36    [ได้ยิน, ลดน้ำหนัก, กิน, อาหาร, กิน, โปรตีน, ไ...  \n",
       "49    [คืน, นอนหลับ, ได้, ห้า, ชั่วโมง, หลับ, ลึก, ล...  \n",
       "52    [เพื่อน, หน้าร้อน, รู้สึก, กิน, เย็น, ไหม, กิน...  \n",
       "57    [สวัสดี, ทุกท่าน, .ค.), โฆษณา, facebook, เปิดต...  \n",
       "85    [สวัสดี, เพื่อน, pantip, ชื่อ, ปุ้ย, มีลูก, คน...  \n",
       "91    [ตามนั้น, ไปหา, .., ช่าง, เหมาะเจาะ, cp, เมจิ,...  \n",
       "92    [สูตร, ลอง, ทำ, ดู, ไม่, ส่วนผสม, ตู้เย็น, กลิ...  \n",
       "100   [รสชาติ, ดี, ติดใจ, รสชาติ, นม, พาสเจอร์ไรส์, ...  \n",
       "101   [เคื่อง, ตี, ฟอง, ก้าน, jrl, สี, ดำ, เสียบ, ปล...  \n",
       "104   [สวัสดี, แนะนำตัว, ชื่อ, ปัท, ตอนนี้, อายุ, ปี...  \n",
       "108   [ซื้อ, นม, เมจิ, start, กิน, นิดนึง, ตู้เย็น, ...  \n",
       "117   [สอบถาม, ท่าน, ทาน, นม, เมจิ, โก, ล์ด, แม็กซ์,...  \n",
       "131   [สงสัย, แม่, อะ, รู้จัก, เพื่อน, พี่, พ่อ, เพื...  \n",
       "147   [สวัสดี, รีวิว, เรื่อง, เครื่องดื่ม, โปรตีน, ไ...  \n",
       "...                                                 ...  \n",
       "767   [สำหรับ, ดิฉัน, ชอบ, เมจิ, รส, ชอบ, กิน, เรียง...  \n",
       "770   [หัวข้อ, ปกติ, มื้อ, เช้า, ผม, กิน, ผัด, เผ็ด,...  \n",
       "776   [ปริมาณ, มล., นม, เมจิ, รสหวาน, ขนาด, มล., หมั...  \n",
       "781   [เข้าไป, ซื้อ, นม, เมจิ, เซเว่น, ขวด, ขวด, 12....  \n",
       "785   [เดินทาง, ญี่ปุ่น, ทัวร์, วันที่, กุมภา, บิน, ...  \n",
       "786   [คุณแม่, ผม, โรคเบาหวาน, ตอนนี้, ผม, ควบคุม, อ...  \n",
       "832   [อ่าง, อาบน้ำ, ขนาด, กำลังดี, แช่, ผิว, ชุ่มฉ่...  \n",
       "833   [หนู, ลดความอ้วน, วิธี, อายุ, ปี, หนัก, กก., ซ...  \n",
       "835   [สืบ, เนื่องมาจาก, กระทู้, cr, ]\", เครป, เค้ก,...  \n",
       "841   [ทานข้าว, เช้า, 9.30, 10.00, น., ทาน, ข้าว, ทั...  \n",
       "845   [เช้า, โปรตีน, แอมเวย์, , ขนมปัง, โฮลวีท, แผ่น...  \n",
       "847   [ไม่, นึก, ขวดนม, พาสเจอร์ไรส์, ใส, เหตุการณ์,...  \n",
       "848   [ตรงไหน, หรอ, สาย, ท่ารถ, ต่างจังหวัด, ฟิวเจอร...  \n",
       "859   [สวัสดี, คน, ชอบ, กินนม, ปรง, แต่ง, กลิ่น, โดย...  \n",
       "863   [ซื้อ, นม, เมจิ, รส, จี, เปน, ขวด, ขนาด, มล, แ...  \n",
       "868   [กระทู้, , คน, ข้อความ, ถาม, ผม, ลด, ผม, ตั้งก...  \n",
       "883   [ลูก, พนักงาน, หน้า, ได้, น้อง, พนักงาน, คุ้นๆ...  \n",
       "893   [เกริ่น, นุง, ,,, มีโอกาส, ต้องหา, สูตร, ลอง, ...  \n",
       "898   [ทำงาน, โรงแรม, ตอนนี้, โหมด, ลดน้ำหนัก, ปัญหา...  \n",
       "916   [คนเรา, ไม่, ความพอดี, ตัวเอง, อ้วน, ผอม, คน, ...  \n",
       "929   [ได้, ซื้อ, นม, เมจิ, fat, , กิน, นอน, ตื่น, เ...  \n",
       "931   [เป็นหนึ่ง, โชคดี, คน, ได้, รางวัล, ร่วมงาน, เ...  \n",
       "933   [พรีเซนเตอร์, โฆษณา, เอไอเอส, ล้าน, โตโยต้า, ล...  \n",
       "941   [มีประสบการณ์, ร้านนม, นข, ปัง, นึ่ง, สังขยา, ...  \n",
       "949   [$(, document, )., ready, function, (), , $., ...  \n",
       "954   [ส่วนตัว, บรรดา, ผลิตภัณฑ์, เจมส์จิ, presenter...  \n",
       "957   [น้า, เด็ก, เค้า, นม, เมจิ, รสจืด, แกลลอน, หมด...  \n",
       "958   [น้า, เด็ก, เค้า, นม, เมจิ, รสจืด, แกลลอน, หมด...  \n",
       "974   [ได้, ลอง, เมจิ, กลิ่น, แตงโม, ขวด, 12.25, สิน...  \n",
       "1166  [ไม่, อร่อย, ซื้อ, ปา, ทิ้ง, รสชาติ, เหมือน, น...  \n",
       "\n",
       "[188 rows x 6 columns]"
      ]
     },
     "execution_count": 24,
     "metadata": {},
     "output_type": "execute_result"
    }
   ],
   "source": [
    "df_urls_milk[df_urls_milk['mention_brand']==\"{'เมจิ'}\"]"
   ]
  },
  {
   "cell_type": "code",
   "execution_count": 25,
   "metadata": {},
   "outputs": [],
   "source": [
    "#df_urls_milk.to_excel(\"Docs/วิเคราะห์ข้อมูล/domain.xlsx\",index=False)"
   ]
  },
  {
   "cell_type": "markdown",
   "metadata": {},
   "source": [
    "### ทำ Topic Modeling และคัดเลือกกระทู้ที่มีความเกี่ยวข้อง แล้วดึงคำไปใช้"
   ]
  },
  {
   "cell_type": "code",
   "execution_count": 26,
   "metadata": {},
   "outputs": [],
   "source": [
    "cursor_comment = col_comment.find()\n",
    "df_cmt_process = pd.DataFrame(cursor_comment)"
   ]
  },
  {
   "cell_type": "code",
   "execution_count": 27,
   "metadata": {},
   "outputs": [],
   "source": [
    "df_join_url = pd.merge(df_cmt_process,df_urls_milk,how='inner',on='URLs')\n",
    "df_join_url = df_join_url[['Retrived_date','URLs','commentId','mention_brand', 'mention_product','token_text_x']]\n",
    "df_join_url.columns = ['Retrived_date','URLs','commentId','mention_brand', 'mention_product','token_text']"
   ]
  },
  {
   "cell_type": "code",
   "execution_count": 28,
   "metadata": {},
   "outputs": [
    {
     "data": {
      "text/plain": [
       "(60545, 7)"
      ]
     },
     "execution_count": 28,
     "metadata": {},
     "output_type": "execute_result"
    }
   ],
   "source": [
    "df_cmt_process.shape"
   ]
  },
  {
   "cell_type": "code",
   "execution_count": 29,
   "metadata": {},
   "outputs": [
    {
     "data": {
      "text/html": [
       "<div>\n",
       "<style scoped>\n",
       "    .dataframe tbody tr th:only-of-type {\n",
       "        vertical-align: middle;\n",
       "    }\n",
       "\n",
       "    .dataframe tbody tr th {\n",
       "        vertical-align: top;\n",
       "    }\n",
       "\n",
       "    .dataframe thead th {\n",
       "        text-align: right;\n",
       "    }\n",
       "</style>\n",
       "<table border=\"1\" class=\"dataframe\">\n",
       "  <thead>\n",
       "    <tr style=\"text-align: right;\">\n",
       "      <th></th>\n",
       "      <th>Retrived_date</th>\n",
       "      <th>URLs</th>\n",
       "      <th>commentId</th>\n",
       "      <th>mention_brand</th>\n",
       "      <th>mention_product</th>\n",
       "      <th>token_text</th>\n",
       "    </tr>\n",
       "  </thead>\n",
       "  <tbody>\n",
       "    <tr>\n",
       "      <th>7851</th>\n",
       "      <td>2020-10-27 13:51:00.344890</td>\n",
       "      <td>https://pantip.com/topic/30153058</td>\n",
       "      <td>65703</td>\n",
       "      <td>{'โฟร์โมสต์'}</td>\n",
       "      <td>{'นม', 'รสจืด'}</td>\n",
       "      <td>[ปกติ, ขับ, ออกจาก, แยก, ไม่ได้, เลี้ยว, ไม่, ...</td>\n",
       "    </tr>\n",
       "    <tr>\n",
       "      <th>7852</th>\n",
       "      <td>2020-10-27 13:51:00.344890</td>\n",
       "      <td>https://pantip.com/topic/30153058</td>\n",
       "      <td>65704</td>\n",
       "      <td>{'โฟร์โมสต์'}</td>\n",
       "      <td>{'นม', 'รสจืด'}</td>\n",
       "      <td>[เสียใจ, รถ, ถนน, , ไม่, , ระวัง, ตัวเอง, ดีกว...</td>\n",
       "    </tr>\n",
       "    <tr>\n",
       "      <th>7853</th>\n",
       "      <td>2020-10-27 13:51:00.344890</td>\n",
       "      <td>https://pantip.com/topic/30153058</td>\n",
       "      <td>65705</td>\n",
       "      <td>{'โฟร์โมสต์'}</td>\n",
       "      <td>{'นม', 'รสจืด'}</td>\n",
       "      <td>[หน้า, ห้าง, ..., วาง, กรวย, หา, แพะ]</td>\n",
       "    </tr>\n",
       "    <tr>\n",
       "      <th>7854</th>\n",
       "      <td>2020-10-27 13:51:00.344890</td>\n",
       "      <td>https://pantip.com/topic/30153058</td>\n",
       "      <td>65706</td>\n",
       "      <td>{'โฟร์โมสต์'}</td>\n",
       "      <td>{'นม', 'รสจืด'}</td>\n",
       "      <td>[ขี่, รถ, ผ่านหน้า, big c, รัชดา, ผม, วิ่ง, เล...</td>\n",
       "    </tr>\n",
       "    <tr>\n",
       "      <th>7855</th>\n",
       "      <td>2020-10-27 13:51:00.344890</td>\n",
       "      <td>https://pantip.com/topic/30153058</td>\n",
       "      <td>65707</td>\n",
       "      <td>{'โฟร์โมสต์'}</td>\n",
       "      <td>{'นม', 'รสจืด'}</td>\n",
       "      <td>[ชีวิต, เลือก, ได้, ไม่, ขับ, มอไซด์, เสี่ยง, ...</td>\n",
       "    </tr>\n",
       "  </tbody>\n",
       "</table>\n",
       "</div>"
      ],
      "text/plain": [
       "                   Retrived_date                               URLs  \\\n",
       "7851  2020-10-27 13:51:00.344890  https://pantip.com/topic/30153058   \n",
       "7852  2020-10-27 13:51:00.344890  https://pantip.com/topic/30153058   \n",
       "7853  2020-10-27 13:51:00.344890  https://pantip.com/topic/30153058   \n",
       "7854  2020-10-27 13:51:00.344890  https://pantip.com/topic/30153058   \n",
       "7855  2020-10-27 13:51:00.344890  https://pantip.com/topic/30153058   \n",
       "\n",
       "      commentId  mention_brand  mention_product  \\\n",
       "7851      65703  {'โฟร์โมสต์'}  {'นม', 'รสจืด'}   \n",
       "7852      65704  {'โฟร์โมสต์'}  {'นม', 'รสจืด'}   \n",
       "7853      65705  {'โฟร์โมสต์'}  {'นม', 'รสจืด'}   \n",
       "7854      65706  {'โฟร์โมสต์'}  {'นม', 'รสจืด'}   \n",
       "7855      65707  {'โฟร์โมสต์'}  {'นม', 'รสจืด'}   \n",
       "\n",
       "                                             token_text  \n",
       "7851  [ปกติ, ขับ, ออกจาก, แยก, ไม่ได้, เลี้ยว, ไม่, ...  \n",
       "7852  [เสียใจ, รถ, ถนน, , ไม่, , ระวัง, ตัวเอง, ดีกว...  \n",
       "7853              [หน้า, ห้าง, ..., วาง, กรวย, หา, แพะ]  \n",
       "7854  [ขี่, รถ, ผ่านหน้า, big c, รัชดา, ผม, วิ่ง, เล...  \n",
       "7855  [ชีวิต, เลือก, ได้, ไม่, ขับ, มอไซด์, เสี่ยง, ...  "
      ]
     },
     "execution_count": 29,
     "metadata": {},
     "output_type": "execute_result"
    }
   ],
   "source": [
    "df_join_url.tail()"
   ]
  },
  {
   "cell_type": "code",
   "execution_count": 30,
   "metadata": {},
   "outputs": [
    {
     "name": "stderr",
     "output_type": "stream",
     "text": [
      "C:\\ProgramData\\Anaconda3\\lib\\site-packages\\ipykernel_launcher.py:2: UserWarning: Pandas doesn't allow columns to be created via a new attribute name - see https://pandas.pydata.org/pandas-docs/stable/indexing.html#attribute-access\n",
      "  \n"
     ]
    }
   ],
   "source": [
    "df_view = df_join_url[['commentId','mention_brand']]\n",
    "df_view.column = ['commentId','mention_brand']"
   ]
  },
  {
   "cell_type": "code",
   "execution_count": 31,
   "metadata": {
    "scrolled": true
   },
   "outputs": [],
   "source": [
    "df_view_count = df_view.groupby('mention_brand').count()"
   ]
  },
  {
   "cell_type": "code",
   "execution_count": 32,
   "metadata": {},
   "outputs": [
    {
     "name": "stdout",
     "output_type": "stream",
     "text": [
      "จำนวน comment ในกระทู้ที่มีการพูดถึงนมหรือชื่อแบรนด์ = 7856\n"
     ]
    }
   ],
   "source": [
    "print('จำนวน comment ในกระทู้ที่มีการพูดถึงนมหรือชื่อแบรนด์ =',df_view.shape[0])"
   ]
  },
  {
   "cell_type": "code",
   "execution_count": 33,
   "metadata": {
    "scrolled": true
   },
   "outputs": [
    {
     "data": {
      "text/html": [
       "<div>\n",
       "<style scoped>\n",
       "    .dataframe tbody tr th:only-of-type {\n",
       "        vertical-align: middle;\n",
       "    }\n",
       "\n",
       "    .dataframe tbody tr th {\n",
       "        vertical-align: top;\n",
       "    }\n",
       "\n",
       "    .dataframe thead th {\n",
       "        text-align: right;\n",
       "    }\n",
       "</style>\n",
       "<table border=\"1\" class=\"dataframe\">\n",
       "  <thead>\n",
       "    <tr style=\"text-align: right;\">\n",
       "      <th></th>\n",
       "      <th>commentId</th>\n",
       "    </tr>\n",
       "    <tr>\n",
       "      <th>mention_brand</th>\n",
       "      <th></th>\n",
       "    </tr>\n",
       "  </thead>\n",
       "  <tbody>\n",
       "    <tr>\n",
       "      <th>{'เมจิ'}</th>\n",
       "      <td>3395</td>\n",
       "    </tr>\n",
       "    <tr>\n",
       "      <th>{'ดัชมิลล์'}</th>\n",
       "      <td>1341</td>\n",
       "    </tr>\n",
       "    <tr>\n",
       "      <th>{'โฟร์โมสต์'}</th>\n",
       "      <td>1059</td>\n",
       "    </tr>\n",
       "    <tr>\n",
       "      <th>{'เมจิ', 'ดัชมิลล์'}</th>\n",
       "      <td>514</td>\n",
       "    </tr>\n",
       "    <tr>\n",
       "      <th>{'โชคชัย'}</th>\n",
       "      <td>234</td>\n",
       "    </tr>\n",
       "    <tr>\n",
       "      <th>{'ไทยเดนมาร์ค'}</th>\n",
       "      <td>137</td>\n",
       "    </tr>\n",
       "    <tr>\n",
       "      <th>{'เมจิ', 'โฟร์โมสต์'}</th>\n",
       "      <td>116</td>\n",
       "    </tr>\n",
       "    <tr>\n",
       "      <th>{'หนองโพ', 'โฟร์โมสต์', 'ไทยเดนมาร์ค', 'ดัชมิลล์'}</th>\n",
       "      <td>110</td>\n",
       "    </tr>\n",
       "    <tr>\n",
       "      <th>{'หนองโพ', 'โชคชัย', 'ดัชมิลล์', 'โฟร์โมสต์'}</th>\n",
       "      <td>86</td>\n",
       "    </tr>\n",
       "    <tr>\n",
       "      <th>{'เมจิ', 'โฟร์โมสต์', 'ไทยเดนมาร์ค', 'ดัชมิลล์'}</th>\n",
       "      <td>56</td>\n",
       "    </tr>\n",
       "    <tr>\n",
       "      <th>{'ดัชมิลล์', 'โฟร์โมสต์'}</th>\n",
       "      <td>52</td>\n",
       "    </tr>\n",
       "    <tr>\n",
       "      <th>{'เมจิ', 'หนองโพ', 'ไทยเดนมาร์ค', 'โฟร์โมสต์'}</th>\n",
       "      <td>51</td>\n",
       "    </tr>\n",
       "    <tr>\n",
       "      <th>{'เมจิ', 'แมคโนเลีย'}</th>\n",
       "      <td>50</td>\n",
       "    </tr>\n",
       "    <tr>\n",
       "      <th>{'หนองโพ', 'ดัชมิลล์'}</th>\n",
       "      <td>47</td>\n",
       "    </tr>\n",
       "    <tr>\n",
       "      <th>{'แดรี่โฮม'}</th>\n",
       "      <td>43</td>\n",
       "    </tr>\n",
       "    <tr>\n",
       "      <th>{'เมจิ', 'คาเนชั่น'}</th>\n",
       "      <td>42</td>\n",
       "    </tr>\n",
       "    <tr>\n",
       "      <th>{'เมจิ', 'หนองโพ'}</th>\n",
       "      <td>41</td>\n",
       "    </tr>\n",
       "    <tr>\n",
       "      <th>{'เมจิ', 'หนองโพ', 'โฟร์โมสต์'}</th>\n",
       "      <td>39</td>\n",
       "    </tr>\n",
       "    <tr>\n",
       "      <th>{'หนองโพ', 'ไทยเดนมาร์ค'}</th>\n",
       "      <td>37</td>\n",
       "    </tr>\n",
       "    <tr>\n",
       "      <th>{'ดัชมิลล์', 'หนองโพ', 'เมจิ', 'โชคชัย', 'โฟร์โมสต์'}</th>\n",
       "      <td>35</td>\n",
       "    </tr>\n",
       "    <tr>\n",
       "      <th>{'เมจิ', 'ไทยเดนมาร์ค'}</th>\n",
       "      <td>35</td>\n",
       "    </tr>\n",
       "    <tr>\n",
       "      <th>{'หนองโพ', 'แดรี่โฮม', 'เมจิ', 'โชคชัย', 'ไทยเดนมาร์ค'}</th>\n",
       "      <td>30</td>\n",
       "    </tr>\n",
       "    <tr>\n",
       "      <th>{'หนองโพ', 'ไทยเดนมาร์ค', 'โฟร์โมสต์'}</th>\n",
       "      <td>27</td>\n",
       "    </tr>\n",
       "    <tr>\n",
       "      <th>{'หนองโพ', 'โชคชัย', 'ดัชมิลล์'}</th>\n",
       "      <td>26</td>\n",
       "    </tr>\n",
       "    <tr>\n",
       "      <th>{'หนองโพ'}</th>\n",
       "      <td>21</td>\n",
       "    </tr>\n",
       "    <tr>\n",
       "      <th>{'คาเนชั่น'}</th>\n",
       "      <td>19</td>\n",
       "    </tr>\n",
       "    <tr>\n",
       "      <th>{'เมจิ', 'โชคชัย', 'โฟร์โมสต์'}</th>\n",
       "      <td>19</td>\n",
       "    </tr>\n",
       "    <tr>\n",
       "      <th>{'เมจิ', 'โชคชัย', 'ดัชมิลล์', 'โฟร์โมสต์'}</th>\n",
       "      <td>17</td>\n",
       "    </tr>\n",
       "    <tr>\n",
       "      <th>{'โชคชัย', 'ไทยเดนมาร์ค'}</th>\n",
       "      <td>16</td>\n",
       "    </tr>\n",
       "    <tr>\n",
       "      <th>{'เมจิ', 'ดัชมิลล์', 'โฟร์โมสต์'}</th>\n",
       "      <td>15</td>\n",
       "    </tr>\n",
       "    <tr>\n",
       "      <th>{'ไทยเดนมาร์ค', 'โฟร์โมสต์'}</th>\n",
       "      <td>15</td>\n",
       "    </tr>\n",
       "    <tr>\n",
       "      <th>{'เมจิ', 'โชคชัย'}</th>\n",
       "      <td>15</td>\n",
       "    </tr>\n",
       "    <tr>\n",
       "      <th>{'ไทยเดนมาร์ค', 'ดัชมิลล์'}</th>\n",
       "      <td>13</td>\n",
       "    </tr>\n",
       "    <tr>\n",
       "      <th>{'แมคโนเลีย', 'โฟร์โมสต์'}</th>\n",
       "      <td>13</td>\n",
       "    </tr>\n",
       "    <tr>\n",
       "      <th>{'คาเนชั่น', 'ดัชมิลล์'}</th>\n",
       "      <td>12</td>\n",
       "    </tr>\n",
       "    <tr>\n",
       "      <th>{'เมจิ', 'โฟร์โมสต์', 'ดัชมิลล์'}</th>\n",
       "      <td>12</td>\n",
       "    </tr>\n",
       "    <tr>\n",
       "      <th>{'โฟร์โมสต์', 'ดัชมิลล์'}</th>\n",
       "      <td>11</td>\n",
       "    </tr>\n",
       "    <tr>\n",
       "      <th>{'โชคชัย', 'โฟร์โมสต์'}</th>\n",
       "      <td>10</td>\n",
       "    </tr>\n",
       "    <tr>\n",
       "      <th>{'ดัชมิลล์', 'ไทยเดนมาร์ค', 'โฟร์โมสต์'}</th>\n",
       "      <td>9</td>\n",
       "    </tr>\n",
       "    <tr>\n",
       "      <th>{'เมจิ', 'คาเนชั่น', 'ดัชมิลล์'}</th>\n",
       "      <td>8</td>\n",
       "    </tr>\n",
       "    <tr>\n",
       "      <th>{'เมจิ', 'ไทยเดนมาร์ค', 'โฟร์โมสต์'}</th>\n",
       "      <td>7</td>\n",
       "    </tr>\n",
       "    <tr>\n",
       "      <th>{'หนองโพ', 'ไทยเดนมาร์ค', 'ดัชมิลล์'}</th>\n",
       "      <td>7</td>\n",
       "    </tr>\n",
       "    <tr>\n",
       "      <th>{'หนองโพ', 'โชคชัย'}</th>\n",
       "      <td>7</td>\n",
       "    </tr>\n",
       "    <tr>\n",
       "      <th>{'คาเนชั่น', 'โฟร์โมสต์'}</th>\n",
       "      <td>5</td>\n",
       "    </tr>\n",
       "    <tr>\n",
       "      <th>{'เมจิ', 'เอ็มมิลค์', 'ดัชมิลล์'}</th>\n",
       "      <td>2</td>\n",
       "    </tr>\n",
       "  </tbody>\n",
       "</table>\n",
       "</div>"
      ],
      "text/plain": [
       "                                                    commentId\n",
       "mention_brand                                                \n",
       "{'เมจิ'}                                                 3395\n",
       "{'ดัชมิลล์'}                                             1341\n",
       "{'โฟร์โมสต์'}                                            1059\n",
       "{'เมจิ', 'ดัชมิลล์'}                                      514\n",
       "{'โชคชัย'}                                                234\n",
       "{'ไทยเดนมาร์ค'}                                           137\n",
       "{'เมจิ', 'โฟร์โมสต์'}                                     116\n",
       "{'หนองโพ', 'โฟร์โมสต์', 'ไทยเดนมาร์ค', 'ดัชมิลล์'}        110\n",
       "{'หนองโพ', 'โชคชัย', 'ดัชมิลล์', 'โฟร์โมสต์'}              86\n",
       "{'เมจิ', 'โฟร์โมสต์', 'ไทยเดนมาร์ค', 'ดัชมิลล์'}           56\n",
       "{'ดัชมิลล์', 'โฟร์โมสต์'}                                  52\n",
       "{'เมจิ', 'หนองโพ', 'ไทยเดนมาร์ค', 'โฟร์โมสต์'}             51\n",
       "{'เมจิ', 'แมคโนเลีย'}                                      50\n",
       "{'หนองโพ', 'ดัชมิลล์'}                                     47\n",
       "{'แดรี่โฮม'}                                               43\n",
       "{'เมจิ', 'คาเนชั่น'}                                       42\n",
       "{'เมจิ', 'หนองโพ'}                                         41\n",
       "{'เมจิ', 'หนองโพ', 'โฟร์โมสต์'}                            39\n",
       "{'หนองโพ', 'ไทยเดนมาร์ค'}                                  37\n",
       "{'ดัชมิลล์', 'หนองโพ', 'เมจิ', 'โชคชัย', 'โฟร์โ...         35\n",
       "{'เมจิ', 'ไทยเดนมาร์ค'}                                    35\n",
       "{'หนองโพ', 'แดรี่โฮม', 'เมจิ', 'โชคชัย', 'ไทยเด...         30\n",
       "{'หนองโพ', 'ไทยเดนมาร์ค', 'โฟร์โมสต์'}                     27\n",
       "{'หนองโพ', 'โชคชัย', 'ดัชมิลล์'}                           26\n",
       "{'หนองโพ'}                                                 21\n",
       "{'คาเนชั่น'}                                               19\n",
       "{'เมจิ', 'โชคชัย', 'โฟร์โมสต์'}                            19\n",
       "{'เมจิ', 'โชคชัย', 'ดัชมิลล์', 'โฟร์โมสต์'}                17\n",
       "{'โชคชัย', 'ไทยเดนมาร์ค'}                                  16\n",
       "{'เมจิ', 'ดัชมิลล์', 'โฟร์โมสต์'}                          15\n",
       "{'ไทยเดนมาร์ค', 'โฟร์โมสต์'}                               15\n",
       "{'เมจิ', 'โชคชัย'}                                         15\n",
       "{'ไทยเดนมาร์ค', 'ดัชมิลล์'}                                13\n",
       "{'แมคโนเลีย', 'โฟร์โมสต์'}                                 13\n",
       "{'คาเนชั่น', 'ดัชมิลล์'}                                   12\n",
       "{'เมจิ', 'โฟร์โมสต์', 'ดัชมิลล์'}                          12\n",
       "{'โฟร์โมสต์', 'ดัชมิลล์'}                                  11\n",
       "{'โชคชัย', 'โฟร์โมสต์'}                                    10\n",
       "{'ดัชมิลล์', 'ไทยเดนมาร์ค', 'โฟร์โมสต์'}                    9\n",
       "{'เมจิ', 'คาเนชั่น', 'ดัชมิลล์'}                            8\n",
       "{'เมจิ', 'ไทยเดนมาร์ค', 'โฟร์โมสต์'}                        7\n",
       "{'หนองโพ', 'ไทยเดนมาร์ค', 'ดัชมิลล์'}                       7\n",
       "{'หนองโพ', 'โชคชัย'}                                        7\n",
       "{'คาเนชั่น', 'โฟร์โมสต์'}                                   5\n",
       "{'เมจิ', 'เอ็มมิลค์', 'ดัชมิลล์'}                           2"
      ]
     },
     "execution_count": 33,
     "metadata": {},
     "output_type": "execute_result"
    }
   ],
   "source": [
    "df_view_count.sort_values(by='commentId',ascending=False)"
   ]
  },
  {
   "cell_type": "code",
   "execution_count": 34,
   "metadata": {},
   "outputs": [],
   "source": [
    "dictionary = gensim.corpora.Dictionary(df_join_url['token_text'])"
   ]
  },
  {
   "cell_type": "code",
   "execution_count": 35,
   "metadata": {},
   "outputs": [],
   "source": [
    "#dictionary.token2id.keys()"
   ]
  },
  {
   "cell_type": "code",
   "execution_count": 36,
   "metadata": {},
   "outputs": [],
   "source": [
    "gensim_corpus = [dictionary.doc2bow(text, allow_update=True) for text in df_join_url['token_text']]\n",
    "word_frequencies = [[(dictionary[id], frequence) for id, frequence in couple] for couple in gensim_corpus]"
   ]
  },
  {
   "cell_type": "markdown",
   "metadata": {},
   "source": [
    "<b>Domain ที่พบหลักๆ นอกเหนือจากตัว Product ห้างที่ขาย แบรนด์ (อย่างไรก็ตามต้องทำ TSNE อีกรอบเพื่อจัดกลุ่มใหม่หลังคัดเลือก Topic/Term)</b><br>\n",
    "ค้นหาเทียบเคียงกับ ปัจจัยที่มีผลต่อการบริโภคนม\n",
    "1. แม่และเด็ก (Kurajdova et al, 2015)\n",
    "2. ออกกำลังกาย เล่นเวท วิ่ง พูดถึง Whey หางนม โปรตีน เป็นหลัก (คิดว่าแตกจากหมวดสุขภาพ)\n",
    "3. โปรโมชั่น เช่น จัดโปร ส่วนลด พันแถม แพ๊กคู่ (สุภชาติ ชัยณรงค์สิงห์, 2539)\n",
    "4. เอานมให้หมาแมวกิน (เทรนด์ใหม่)\n",
    "5. รสชาติและคุณภาพ เช่น หอม เหม็น มัน อร่อย บูด เสีย GMP (ชาลิสา สถีระกานนท์, 2560)\n",
    "6. ความยากง่ายในการหาซื้อ (Aen De Alwis et al, 2009 & สุภชาติ ชัยณรงค์สิงห์, 2539)\n",
    "7. ทำกาแฟ ทำขนม (Kurajdova et al, 2015)\n",
    "8. สุขภาพ ความสูง ส่วนผสมเพื่อสุขภาพ การขับถ่าย อนุมูลอิสระ (Kurajdova et al, 2015 & Aen De Alwis et al, 2009 & สุภชาติ ชัยณรงค์สิงห์, 2539)\n",
    "9. ราคาและความคุ้มค่า (ปิยฉัตร ช่างเหล็ก, 2561)\n",
    "<br><br>ตรงนี้ต้องหา Paper มาช่วยยันในบางหัวข้อ ถ้ามีส่วนเกินถือว่าเป็นบริบทของประเทศไทย"
   ]
  },
  {
   "cell_type": "code",
   "execution_count": 39,
   "metadata": {},
   "outputs": [
    {
     "name": "stdout",
     "output_type": "stream",
     "text": [
      "Wall time: 13.6 s\n"
     ]
    }
   ],
   "source": [
    "num_topics = 9\n",
    "chunksize = 4000                  # size of the doc looked at every pass\n",
    "iterations = 50\n",
    "eval_every = 1                    # Don't evaluate model perplexity, takes too much time.\n",
    "\n",
    "# Make a index to word dictionary.\n",
    "temp = dictionary[0]  # This is only to \"load\" the dictionary.\n",
    "id2word = dictionary.id2token\n",
    "\n",
    "%time model = gensim.models.LdaModel(corpus=gensim_corpus, id2word=id2word, chunksize=chunksize \\\n",
    "                                     ,alpha='auto', eta='auto',iterations=iterations \\\n",
    "                                     ,num_topics=num_topics \\\n",
    "                                     , eval_every=eval_every)"
   ]
  },
  {
   "cell_type": "code",
   "execution_count": 40,
   "metadata": {},
   "outputs": [
    {
     "name": "stderr",
     "output_type": "stream",
     "text": [
      "C:\\ProgramData\\Anaconda3\\lib\\site-packages\\pyLDAvis\\_prepare.py:257: FutureWarning: Sorting because non-concatenation axis is not aligned. A future version\n",
      "of pandas will change to not sort by default.\n",
      "\n",
      "To accept the future behavior, pass 'sort=False'.\n",
      "\n",
      "To retain the current behavior and silence the warning, pass 'sort=True'.\n",
      "\n",
      "  return pd.concat([default_term_info] + list(topic_dfs))\n"
     ]
    },
    {
     "data": {
      "text/html": [
       "\n",
       "<link rel=\"stylesheet\" type=\"text/css\" href=\"https://cdn.rawgit.com/bmabey/pyLDAvis/files/ldavis.v1.0.0.css\">\n",
       "\n",
       "\n",
       "<div id=\"ldavis_el130429057067561607957707201\"></div>\n",
       "<script type=\"text/javascript\">\n",
       "\n",
       "var ldavis_el130429057067561607957707201_data = {\"mdsDat\": {\"x\": [-0.027621740288345097, -0.014512275634936584, -0.05785607647912827, -0.0024290817814423315, -0.03405895466493233, -0.007552146244024024, -0.011339959411155594, 0.11204946023969763, 0.043320774264266726], \"y\": [0.022347313330200146, 0.005906806112884404, -0.02357529003619455, 0.04078222270091987, -0.07943908622697507, 0.06042836696562848, -0.00015145011009393272, -0.0243507549946744, -0.001948127741694788], \"topics\": [1, 2, 3, 4, 5, 6, 7, 8, 9], \"cluster\": [1, 1, 1, 1, 1, 1, 1, 1, 1], \"Freq\": [34.62153244018555, 15.562629699707031, 10.658620834350586, 9.926838874816895, 9.869903564453125, 7.255670547485352, 4.899311065673828, 3.7245864868164062, 3.4809038639068604]}, \"tinfo\": {\"Category\": [\"Default\", \"Default\", \"Default\", \"Default\", \"Default\", \"Default\", \"Default\", \"Default\", \"Default\", \"Default\", \"Default\", \"Default\", \"Default\", \"Default\", \"Default\", \"Default\", \"Default\", \"Default\", \"Default\", \"Default\", \"Default\", \"Default\", \"Default\", \"Default\", \"Default\", \"Default\", \"Default\", \"Default\", \"Default\", \"Default\", \"Default\", \"Default\", \"Default\", \"Default\", \"Default\", \"Default\", \"Default\", \"Default\", \"Default\", \"Default\", \"Topic1\", \"Topic1\", \"Topic1\", \"Topic1\", \"Topic1\", \"Topic1\", \"Topic1\", \"Topic1\", \"Topic1\", \"Topic1\", \"Topic1\", \"Topic1\", \"Topic1\", \"Topic1\", \"Topic1\", \"Topic1\", \"Topic1\", \"Topic1\", \"Topic1\", \"Topic1\", \"Topic1\", \"Topic1\", \"Topic1\", \"Topic1\", \"Topic1\", \"Topic1\", \"Topic1\", \"Topic1\", \"Topic1\", \"Topic1\", \"Topic1\", \"Topic1\", \"Topic1\", \"Topic1\", \"Topic1\", \"Topic1\", \"Topic1\", \"Topic1\", \"Topic1\", \"Topic1\", \"Topic1\", \"Topic1\", \"Topic1\", \"Topic1\", \"Topic1\", \"Topic1\", \"Topic1\", \"Topic1\", \"Topic1\", \"Topic1\", \"Topic1\", \"Topic1\", \"Topic1\", \"Topic1\", \"Topic1\", \"Topic1\", \"Topic1\", \"Topic1\", \"Topic1\", \"Topic1\", \"Topic1\", \"Topic1\", \"Topic1\", \"Topic1\", \"Topic1\", \"Topic1\", \"Topic1\", \"Topic1\", \"Topic1\", \"Topic1\", \"Topic1\", \"Topic1\", \"Topic1\", \"Topic1\", \"Topic1\", \"Topic1\", \"Topic1\", \"Topic1\", \"Topic1\", \"Topic1\", \"Topic1\", \"Topic1\", \"Topic1\", \"Topic1\", \"Topic1\", \"Topic1\", \"Topic1\", \"Topic1\", \"Topic1\", \"Topic1\", \"Topic1\", \"Topic1\", \"Topic1\", \"Topic1\", \"Topic1\", \"Topic1\", \"Topic1\", \"Topic1\", \"Topic1\", \"Topic1\", \"Topic1\", \"Topic1\", \"Topic1\", \"Topic1\", \"Topic2\", \"Topic2\", \"Topic2\", \"Topic2\", \"Topic2\", \"Topic2\", \"Topic2\", \"Topic2\", \"Topic2\", \"Topic2\", \"Topic2\", \"Topic2\", \"Topic2\", \"Topic2\", \"Topic2\", \"Topic2\", \"Topic2\", \"Topic2\", \"Topic2\", \"Topic2\", \"Topic2\", \"Topic2\", \"Topic2\", \"Topic2\", \"Topic2\", \"Topic2\", \"Topic2\", \"Topic2\", \"Topic2\", \"Topic2\", \"Topic2\", \"Topic2\", \"Topic2\", \"Topic2\", \"Topic2\", \"Topic2\", \"Topic2\", \"Topic2\", \"Topic2\", \"Topic2\", \"Topic2\", \"Topic2\", \"Topic2\", \"Topic2\", \"Topic2\", \"Topic2\", \"Topic2\", \"Topic2\", \"Topic2\", \"Topic2\", \"Topic2\", \"Topic2\", \"Topic2\", \"Topic2\", \"Topic2\", \"Topic2\", \"Topic2\", \"Topic2\", \"Topic2\", \"Topic2\", \"Topic2\", \"Topic2\", \"Topic2\", \"Topic2\", \"Topic2\", \"Topic2\", \"Topic2\", \"Topic2\", \"Topic2\", \"Topic2\", \"Topic2\", \"Topic2\", \"Topic2\", \"Topic2\", \"Topic2\", \"Topic2\", \"Topic2\", \"Topic2\", \"Topic2\", \"Topic2\", \"Topic2\", \"Topic2\", \"Topic2\", \"Topic2\", \"Topic2\", \"Topic2\", \"Topic2\", \"Topic2\", \"Topic2\", \"Topic2\", \"Topic2\", \"Topic2\", \"Topic2\", \"Topic2\", \"Topic2\", \"Topic2\", \"Topic2\", \"Topic2\", \"Topic2\", \"Topic2\", \"Topic2\", \"Topic2\", \"Topic3\", \"Topic3\", \"Topic3\", \"Topic3\", \"Topic3\", \"Topic3\", \"Topic3\", \"Topic3\", \"Topic3\", \"Topic3\", \"Topic3\", \"Topic3\", \"Topic3\", \"Topic3\", \"Topic3\", \"Topic3\", \"Topic3\", \"Topic3\", \"Topic3\", \"Topic3\", \"Topic3\", \"Topic3\", \"Topic3\", \"Topic3\", \"Topic3\", \"Topic3\", \"Topic3\", \"Topic3\", \"Topic3\", \"Topic3\", \"Topic3\", \"Topic3\", \"Topic3\", \"Topic3\", \"Topic3\", \"Topic3\", \"Topic3\", \"Topic3\", \"Topic3\", \"Topic3\", \"Topic3\", \"Topic3\", \"Topic3\", \"Topic3\", \"Topic3\", \"Topic3\", \"Topic3\", \"Topic3\", \"Topic3\", \"Topic3\", \"Topic3\", \"Topic3\", \"Topic3\", \"Topic3\", \"Topic3\", \"Topic3\", \"Topic3\", \"Topic3\", \"Topic3\", \"Topic3\", \"Topic3\", \"Topic3\", \"Topic3\", \"Topic3\", \"Topic3\", \"Topic3\", \"Topic3\", \"Topic3\", \"Topic3\", \"Topic3\", \"Topic3\", \"Topic3\", \"Topic3\", \"Topic3\", \"Topic3\", \"Topic3\", \"Topic3\", \"Topic3\", \"Topic3\", \"Topic3\", \"Topic3\", \"Topic3\", \"Topic3\", \"Topic3\", \"Topic3\", \"Topic3\", \"Topic3\", \"Topic3\", \"Topic3\", \"Topic3\", \"Topic3\", \"Topic3\", \"Topic3\", \"Topic3\", \"Topic3\", \"Topic3\", \"Topic3\", \"Topic3\", \"Topic4\", \"Topic4\", \"Topic4\", \"Topic4\", \"Topic4\", \"Topic4\", \"Topic4\", \"Topic4\", \"Topic4\", \"Topic4\", \"Topic4\", \"Topic4\", \"Topic4\", \"Topic4\", \"Topic4\", \"Topic4\", \"Topic4\", \"Topic4\", \"Topic4\", \"Topic4\", \"Topic4\", \"Topic4\", \"Topic4\", \"Topic4\", \"Topic4\", \"Topic4\", \"Topic4\", \"Topic4\", \"Topic4\", \"Topic4\", \"Topic4\", \"Topic4\", \"Topic4\", \"Topic4\", \"Topic4\", \"Topic4\", \"Topic4\", \"Topic4\", \"Topic4\", \"Topic4\", \"Topic4\", \"Topic4\", \"Topic4\", \"Topic4\", \"Topic4\", \"Topic4\", \"Topic4\", \"Topic4\", \"Topic4\", \"Topic4\", \"Topic4\", \"Topic4\", \"Topic4\", \"Topic4\", \"Topic4\", \"Topic4\", \"Topic4\", \"Topic4\", \"Topic4\", \"Topic4\", \"Topic4\", \"Topic4\", \"Topic4\", \"Topic4\", \"Topic4\", \"Topic4\", \"Topic4\", \"Topic4\", \"Topic4\", \"Topic4\", \"Topic4\", \"Topic4\", \"Topic4\", \"Topic4\", \"Topic4\", \"Topic4\", \"Topic4\", \"Topic4\", \"Topic4\", \"Topic4\", \"Topic4\", \"Topic4\", \"Topic4\", \"Topic4\", \"Topic4\", \"Topic4\", \"Topic4\", \"Topic4\", \"Topic4\", \"Topic4\", \"Topic4\", \"Topic4\", \"Topic4\", \"Topic4\", \"Topic4\", \"Topic4\", \"Topic4\", \"Topic4\", \"Topic4\", \"Topic4\", \"Topic4\", \"Topic4\", \"Topic4\", \"Topic5\", \"Topic5\", \"Topic5\", \"Topic5\", \"Topic5\", \"Topic5\", \"Topic5\", \"Topic5\", \"Topic5\", \"Topic5\", \"Topic5\", \"Topic5\", \"Topic5\", \"Topic5\", \"Topic5\", \"Topic5\", \"Topic5\", \"Topic5\", \"Topic5\", \"Topic5\", \"Topic5\", \"Topic5\", \"Topic5\", \"Topic5\", \"Topic5\", \"Topic5\", \"Topic5\", \"Topic5\", \"Topic5\", \"Topic5\", \"Topic5\", \"Topic5\", \"Topic5\", \"Topic5\", \"Topic5\", \"Topic5\", \"Topic5\", \"Topic5\", \"Topic5\", \"Topic5\", \"Topic5\", \"Topic5\", \"Topic5\", \"Topic5\", \"Topic5\", \"Topic5\", \"Topic5\", \"Topic5\", \"Topic5\", \"Topic5\", \"Topic5\", \"Topic5\", \"Topic5\", \"Topic5\", \"Topic5\", \"Topic5\", \"Topic5\", \"Topic5\", \"Topic5\", \"Topic5\", \"Topic5\", \"Topic5\", \"Topic5\", \"Topic5\", \"Topic5\", \"Topic5\", \"Topic5\", \"Topic5\", \"Topic5\", \"Topic5\", \"Topic5\", \"Topic5\", \"Topic5\", \"Topic5\", \"Topic5\", \"Topic5\", \"Topic5\", \"Topic5\", \"Topic5\", \"Topic5\", \"Topic5\", \"Topic5\", \"Topic5\", \"Topic5\", \"Topic5\", \"Topic5\", \"Topic5\", \"Topic5\", \"Topic5\", \"Topic5\", \"Topic5\", \"Topic5\", \"Topic5\", \"Topic5\", \"Topic5\", \"Topic5\", \"Topic5\", \"Topic5\", \"Topic5\", \"Topic6\", \"Topic6\", \"Topic6\", \"Topic6\", \"Topic6\", \"Topic6\", \"Topic6\", \"Topic6\", \"Topic6\", \"Topic6\", \"Topic6\", \"Topic6\", \"Topic6\", \"Topic6\", \"Topic6\", \"Topic6\", \"Topic6\", \"Topic6\", \"Topic6\", \"Topic6\", \"Topic6\", \"Topic6\", \"Topic6\", \"Topic6\", \"Topic6\", \"Topic6\", \"Topic6\", \"Topic6\", \"Topic6\", \"Topic6\", \"Topic6\", \"Topic6\", \"Topic6\", \"Topic6\", \"Topic6\", \"Topic6\", \"Topic6\", \"Topic6\", \"Topic6\", \"Topic6\", \"Topic6\", \"Topic6\", \"Topic6\", \"Topic6\", \"Topic6\", \"Topic6\", \"Topic6\", \"Topic6\", \"Topic6\", \"Topic6\", \"Topic6\", \"Topic6\", \"Topic6\", \"Topic6\", \"Topic6\", \"Topic6\", \"Topic6\", \"Topic6\", \"Topic6\", \"Topic6\", \"Topic6\", \"Topic6\", \"Topic6\", \"Topic6\", \"Topic6\", \"Topic6\", \"Topic6\", \"Topic6\", \"Topic6\", \"Topic6\", \"Topic6\", \"Topic6\", \"Topic6\", \"Topic6\", \"Topic6\", \"Topic6\", \"Topic6\", \"Topic6\", \"Topic6\", \"Topic6\", \"Topic6\", \"Topic6\", \"Topic6\", \"Topic6\", \"Topic6\", \"Topic6\", \"Topic6\", \"Topic6\", \"Topic6\", \"Topic6\", \"Topic6\", \"Topic6\", \"Topic6\", \"Topic6\", \"Topic6\", \"Topic6\", \"Topic6\", \"Topic6\", \"Topic6\", \"Topic6\", \"Topic6\", \"Topic6\", \"Topic6\", \"Topic6\", \"Topic6\", \"Topic7\", \"Topic7\", \"Topic7\", \"Topic7\", \"Topic7\", \"Topic7\", \"Topic7\", \"Topic7\", \"Topic7\", \"Topic7\", \"Topic7\", \"Topic7\", \"Topic7\", \"Topic7\", \"Topic7\", \"Topic7\", \"Topic7\", \"Topic7\", \"Topic7\", \"Topic7\", \"Topic7\", \"Topic7\", \"Topic7\", \"Topic7\", \"Topic7\", \"Topic7\", \"Topic7\", \"Topic7\", \"Topic7\", \"Topic7\", \"Topic7\", \"Topic7\", \"Topic7\", \"Topic7\", \"Topic7\", \"Topic7\", \"Topic7\", \"Topic7\", \"Topic7\", \"Topic7\", \"Topic7\", \"Topic7\", \"Topic7\", \"Topic7\", \"Topic7\", \"Topic7\", \"Topic7\", \"Topic7\", \"Topic7\", \"Topic7\", \"Topic7\", \"Topic7\", \"Topic7\", \"Topic7\", \"Topic7\", \"Topic7\", \"Topic7\", \"Topic7\", \"Topic7\", \"Topic7\", \"Topic7\", \"Topic7\", \"Topic7\", \"Topic7\", \"Topic7\", \"Topic7\", \"Topic7\", \"Topic7\", \"Topic7\", \"Topic7\", \"Topic7\", \"Topic7\", \"Topic7\", \"Topic7\", \"Topic7\", \"Topic7\", \"Topic7\", \"Topic7\", \"Topic7\", \"Topic7\", \"Topic7\", \"Topic7\", \"Topic7\", \"Topic7\", \"Topic7\", \"Topic7\", \"Topic7\", \"Topic7\", \"Topic7\", \"Topic7\", \"Topic7\", \"Topic7\", \"Topic7\", \"Topic7\", \"Topic7\", \"Topic7\", \"Topic7\", \"Topic8\", \"Topic8\", \"Topic8\", \"Topic8\", \"Topic8\", \"Topic8\", \"Topic8\", \"Topic8\", \"Topic8\", \"Topic8\", \"Topic8\", \"Topic8\", \"Topic8\", \"Topic8\", \"Topic8\", \"Topic8\", \"Topic8\", \"Topic8\", \"Topic8\", \"Topic8\", \"Topic8\", \"Topic8\", \"Topic8\", \"Topic8\", \"Topic8\", \"Topic8\", \"Topic8\", \"Topic8\", \"Topic8\", \"Topic8\", \"Topic8\", \"Topic8\", \"Topic8\", \"Topic8\", \"Topic8\", \"Topic8\", \"Topic8\", \"Topic8\", \"Topic8\", \"Topic8\", \"Topic8\", \"Topic8\", \"Topic8\", \"Topic8\", \"Topic8\", \"Topic8\", \"Topic8\", \"Topic8\", \"Topic8\", \"Topic8\", \"Topic8\", \"Topic8\", \"Topic8\", \"Topic8\", \"Topic8\", \"Topic8\", \"Topic8\", \"Topic8\", \"Topic8\", \"Topic8\", \"Topic8\", \"Topic8\", \"Topic8\", \"Topic8\", \"Topic8\", \"Topic8\", \"Topic8\", \"Topic8\", \"Topic8\", \"Topic8\", \"Topic8\", \"Topic8\", \"Topic8\", \"Topic8\", \"Topic8\", \"Topic8\", \"Topic8\", \"Topic8\", \"Topic8\", \"Topic8\", \"Topic8\", \"Topic8\", \"Topic8\", \"Topic8\", \"Topic8\", \"Topic8\", \"Topic8\", \"Topic8\", \"Topic8\", \"Topic8\", \"Topic8\", \"Topic8\", \"Topic8\", \"Topic8\", \"Topic8\", \"Topic8\", \"Topic8\", \"Topic8\", \"Topic9\", \"Topic9\", \"Topic9\", \"Topic9\", \"Topic9\", \"Topic9\", \"Topic9\", \"Topic9\", \"Topic9\", \"Topic9\", \"Topic9\", \"Topic9\", \"Topic9\", \"Topic9\", \"Topic9\", \"Topic9\", \"Topic9\", \"Topic9\", \"Topic9\", \"Topic9\", \"Topic9\", \"Topic9\", \"Topic9\", \"Topic9\", \"Topic9\", \"Topic9\", \"Topic9\", \"Topic9\", \"Topic9\", \"Topic9\", \"Topic9\", \"Topic9\", \"Topic9\", \"Topic9\", \"Topic9\", \"Topic9\", \"Topic9\", \"Topic9\", \"Topic9\", \"Topic9\", \"Topic9\", \"Topic9\", \"Topic9\", \"Topic9\", \"Topic9\", \"Topic9\", \"Topic9\", \"Topic9\", \"Topic9\", \"Topic9\", \"Topic9\", \"Topic9\", \"Topic9\", \"Topic9\", \"Topic9\", \"Topic9\", \"Topic9\", \"Topic9\", \"Topic9\", \"Topic9\", \"Topic9\", \"Topic9\", \"Topic9\", \"Topic9\", \"Topic9\", \"Topic9\", \"Topic9\", \"Topic9\", \"Topic9\", \"Topic9\", \"Topic9\", \"Topic9\", \"Topic9\", \"Topic9\", \"Topic9\", \"Topic9\", \"Topic9\", \"Topic9\", \"Topic9\", \"Topic9\", \"Topic9\", \"Topic9\", \"Topic9\", \"Topic9\", \"Topic9\", \"Topic9\", \"Topic9\", \"Topic9\", \"Topic9\", \"Topic9\", \"Topic9\", \"Topic9\", \"Topic9\", \"Topic9\", \"Topic9\", \"Topic9\", \"Topic9\", \"Topic9\"], \"Freq\": [5900.0, 4351.0, 1027.0, 7867.0, 4282.0, 3102.0, 2484.0, 1075.0, 1948.0, 1701.0, 922.0, 1483.0, 1225.0, 1251.0, 667.0, 1097.0, 556.0, 1666.0, 732.0, 1956.0, 226.0, 1207.0, 677.0, 809.0, 394.0, 687.0, 704.0, 229.0, 920.0, 313.0, 441.0, 667.0, 236.0, 313.0, 232.0, 215.0, 81.0, 479.0, 765.0, 585.0, 31.666725158691406, 893.8248901367188, 46.85806655883789, 14.46660041809082, 13.205744743347168, 12.552399635314941, 11.934025764465332, 11.929431915283203, 14.508528709411621, 17.63735580444336, 10.522522926330566, 11.01321792602539, 10.369012832641602, 9.11817455291748, 11.540696144104004, 8.275464057922363, 38.35662078857422, 10.253528594970703, 16.435626983642578, 12.642533302307129, 7.711310863494873, 7.708770275115967, 7.692774295806885, 9.478107452392578, 8.172892570495605, 14.998990058898926, 6.8914384841918945, 11.157496452331543, 11.830411911010742, 7.535131454467773, 8.035772323608398, 11.775654792785645, 10.463831901550293, 7.51865291595459, 6.322921276092529, 6.322409152984619, 6.310626029968262, 6.3065876960754395, 6.306484699249268, 6.306170463562012, 1320.7242431640625, 1553.7283935546875, 1079.2520751953125, 66.66801452636719, 29.991424560546875, 18.063608169555664, 29.941112518310547, 23.513084411621094, 58.96576690673828, 3661.743408203125, 12.181626319885254, 361.5426025390625, 1886.537109375, 949.2627563476562, 538.6981811523438, 380.76251220703125, 1617.1832275390625, 196.7821502685547, 249.9821319580078, 120.54764556884766, 223.44139099121094, 328.94403076171875, 78.54325866699219, 300.38861083984375, 210.41983032226562, 72.32286834716797, 564.4266967773438, 101.15845489501953, 91.60543060302734, 84.84989929199219, 164.85662841796875, 104.71467590332031, 77.562255859375, 1764.5537109375, 133.95883178710938, 491.4575500488281, 72.16360473632812, 179.10647583007812, 557.2816772460938, 357.48870849609375, 633.2570190429688, 561.0025024414062, 309.80328369140625, 292.9223937988281, 239.75282287597656, 830.3114013671875, 246.2394561767578, 156.26351928710938, 209.36341857910156, 210.1813201904297, 382.10955810546875, 409.0546875, 277.0767822265625, 285.3653869628906, 344.2197265625, 183.208984375, 440.1435241699219, 348.79400634765625, 322.46575927734375, 258.4685363769531, 240.7803955078125, 269.9234313964844, 242.7830810546875, 227.20489501953125, 16.007322311401367, 13.073153495788574, 11.384434700012207, 10.08094310760498, 14.072271347045898, 9.746453285217285, 8.35626220703125, 10.29804801940918, 6.924972057342529, 6.828303813934326, 7.025390625, 19.9886474609375, 5.96439266204834, 5.401104927062988, 5.370704174041748, 5.360736846923828, 5.374818801879883, 5.192751407623291, 6.626865386962891, 5.069745063781738, 5.266391277313232, 5.205665111541748, 17.615110397338867, 5.231733322143555, 5.1472907066345215, 16.092082977294922, 4.485710144042969, 10.117863655090332, 5.155579566955566, 9.747629165649414, 4.406433582305908, 5.049419403076172, 6.8504791259765625, 3.8640098571777344, 3.846925735473633, 3.8445377349853516, 4.985343933105469, 3.839219093322754, 6.8802947998046875, 3.8345208168029785, 166.3695068359375, 15.711195945739746, 15.8147554397583, 13.55502700805664, 8.84743595123291, 231.03118896484375, 119.28358459472656, 74.58458709716797, 52.78817367553711, 14.122178077697754, 14.214770317077637, 352.3699645996094, 12.0523681640625, 42.68288803100586, 86.37742614746094, 22.449691772460938, 82.16114807128906, 27.996105194091797, 32.63737106323242, 731.1795043945312, 880.6022338867188, 271.7593688964844, 192.28042602539062, 396.5386962890625, 129.3368377685547, 112.50886535644531, 210.02833557128906, 168.64035034179688, 84.84876251220703, 49.19438171386719, 55.10201644897461, 996.59521484375, 201.21133422851562, 118.8959732055664, 352.4513244628906, 533.746826171875, 288.8214111328125, 586.9823608398438, 224.2084503173828, 238.34686279296875, 129.02059936523438, 153.18186950683594, 51.038902282714844, 62.21728515625, 107.64228057861328, 196.09942626953125, 234.07000732421875, 119.30651092529297, 111.61325073242188, 191.58653259277344, 110.13428497314453, 131.7249298095703, 83.31046295166016, 131.0479278564453, 133.03927612304688, 167.2740478515625, 98.57099914550781, 152.3770751953125, 127.45011138916016, 119.05994415283203, 109.45230865478516, 105.844970703125, 20.26750946044922, 17.010385513305664, 13.401163101196289, 12.350299835205078, 12.349099159240723, 12.986675262451172, 10.886117935180664, 9.045544624328613, 13.952310562133789, 27.2204647064209, 10.332276344299316, 7.213774681091309, 5.744400978088379, 5.500629901885986, 8.806746482849121, 4.904138565063477, 6.854188919067383, 7.42255163192749, 8.075977325439453, 4.0888166427612305, 4.082269668579102, 4.07179594039917, 4.011539936065674, 3.9966835975646973, 3.989736318588257, 4.041643142700195, 3.7870230674743652, 12.318082809448242, 12.287444114685059, 3.9371747970581055, 3.882416248321533, 3.9049789905548096, 11.595134735107422, 6.862578392028809, 3.112483263015747, 4.269878387451172, 6.74131441116333, 12.219029426574707, 3.5434610843658447, 4.862542152404785, 50.23912048339844, 51.690364837646484, 84.97537231445312, 47.596946716308594, 140.1500701904297, 15.4933443069458, 8.9032621383667, 91.10466003417969, 295.4730529785156, 65.6842041015625, 113.8595962524414, 84.17338562011719, 104.28514862060547, 381.524658203125, 111.34837341308594, 174.5122833251953, 745.0834350585938, 799.5513305664062, 206.0496368408203, 160.7369384765625, 107.4806137084961, 61.38056182861328, 31.625072479248047, 115.64861297607422, 43.2513427734375, 732.3499145507812, 181.48330688476562, 153.47979736328125, 154.80226135253906, 60.523014068603516, 66.02552795410156, 49.29783630371094, 49.39432144165039, 47.54420852661133, 37.576480865478516, 218.85299682617188, 105.9072494506836, 193.88262939453125, 192.44651794433594, 139.78858947753906, 294.2088317871094, 164.0177001953125, 54.48155975341797, 161.64016723632812, 242.58901977539062, 138.03152465820312, 73.46834564208984, 132.29486083984375, 90.01620483398438, 107.50309753417969, 89.53583526611328, 112.9021224975586, 81.56339263916016, 90.08838653564453, 95.85449981689453, 97.93281555175781, 93.09933471679688, 86.56482696533203, 8.833568572998047, 8.82384967803955, 7.6458740234375, 7.529540061950684, 6.277133464813232, 25.102062225341797, 11.147113800048828, 19.586477279663086, 11.50229263305664, 4.911890506744385, 4.890787124633789, 4.664577960968018, 4.875360012054443, 4.853480815887451, 4.06931734085083, 4.539826393127441, 5.721363544464111, 3.50659441947937, 3.4973816871643066, 3.464853048324585, 3.462002754211426, 3.4524285793304443, 3.442387580871582, 15.339963912963867, 3.384749174118042, 3.3046929836273193, 3.4409005641937256, 9.925450325012207, 16.53370475769043, 4.973426818847656, 6.494178771972656, 4.788516044616699, 3.2778611183166504, 4.716745376586914, 3.215111494064331, 11.81078052520752, 3.206291675567627, 10.152226448059082, 3.1695311069488525, 3.5184366703033447, 16.7544002532959, 20.10546112060547, 9.238386154174805, 11.48638916015625, 5.982898235321045, 84.68897247314453, 75.37267303466797, 22.807636260986328, 11.064752578735352, 11.260244369506836, 14.850144386291504, 7.007363796234131, 158.8361053466797, 878.5836791992188, 66.64173889160156, 39.47793197631836, 40.839073181152344, 64.40521240234375, 12.910345077514648, 21.301719665527344, 18.784099578857422, 281.7128601074219, 439.84088134765625, 221.9307098388672, 188.03335571289062, 114.11542510986328, 82.25609588623047, 51.998512268066406, 23.860641479492188, 119.01766204833984, 40.26213455200195, 93.76447296142578, 377.5792541503906, 306.5470275878906, 162.90859985351562, 122.76679229736328, 90.42645263671875, 68.5954818725586, 177.54574584960938, 143.79254150390625, 121.20603942871094, 106.19969940185547, 67.44329071044922, 55.91047668457031, 60.3406867980957, 45.61251449584961, 47.0535774230957, 100.0106201171875, 92.54389953613281, 124.82374572753906, 82.86790466308594, 73.43480682373047, 78.062255859375, 98.29469299316406, 63.56033706665039, 112.8099365234375, 95.77653503417969, 67.85465240478516, 69.07115173339844, 63.40105438232422, 73.92113494873047, 72.80467987060547, 65.80955505371094, 17.975954055786133, 15.344074249267578, 13.202674865722656, 10.040586471557617, 10.03196907043457, 10.020777702331543, 10.019941329956055, 9.99979305267334, 11.160747528076172, 7.273439407348633, 6.583011627197266, 6.023866176605225, 5.9850921630859375, 5.9637017250061035, 7.0627217292785645, 5.9343581199646, 6.000766754150391, 6.962112903594971, 5.478094577789307, 15.045441627502441, 5.189383029937744, 5.882513523101807, 6.3441033363342285, 4.679877281188965, 4.674409866333008, 4.670959949493408, 4.661523342132568, 4.658474445343018, 4.6324992179870605, 4.624327182769775, 4.6511054039001465, 4.390572547912598, 11.315821647644043, 7.568817138671875, 3.881413698196411, 3.870786428451538, 4.521790027618408, 3.8562538623809814, 4.505701065063477, 3.8213324546813965, 13.07933235168457, 27.776395797729492, 7.502011299133301, 71.90106964111328, 8.482259750366211, 2486.552490234375, 246.2599334716797, 277.1954040527344, 60.231361389160156, 33.96177291870117, 72.56936645507812, 102.39582061767578, 16.58595848083496, 62.67686080932617, 31.495710372924805, 27.148521423339844, 317.27301025390625, 27.938953399658203, 58.00028991699219, 26.975706100463867, 51.54384994506836, 55.22794723510742, 33.25579071044922, 610.8402709960938, 262.348876953125, 66.95491027832031, 116.01390838623047, 324.3292236328125, 211.1504364013672, 118.87709045410156, 34.673126220703125, 128.92579650878906, 63.969295501708984, 66.17610168457031, 48.10426712036133, 84.09618377685547, 121.03565979003906, 98.84204864501953, 25.592317581176758, 214.71920776367188, 208.18768310546875, 105.3231430053711, 105.2531509399414, 73.1366958618164, 67.01754760742188, 70.29319763183594, 57.28269577026367, 110.39115905761719, 95.04598999023438, 85.09455108642578, 93.45553588867188, 66.53514862060547, 84.16397857666016, 82.67208099365234, 70.49248504638672, 85.31481170654297, 80.6673355102539, 69.638916015625, 60.87712478637695, 17.313282012939453, 13.604674339294434, 10.584784507751465, 8.507701873779297, 8.462593078613281, 18.593711853027344, 6.413804531097412, 6.366049289703369, 5.844533443450928, 4.546574115753174, 4.532986640930176, 4.527987957000732, 4.49787712097168, 10.636628150939941, 4.891694068908691, 5.201086521148682, 8.074517250061035, 3.2584686279296875, 3.2486586570739746, 3.2486958503723145, 3.244205951690674, 3.2319302558898926, 3.221757173538208, 3.209190845489502, 3.2018954753875732, 3.1359357833862305, 3.227954149246216, 3.0527288913726807, 2.993037462234497, 4.51203727722168, 2.8526248931884766, 3.087169647216797, 3.090984344482422, 3.034416437149048, 3.0350120067596436, 9.989253997802734, 3.041255474090576, 2.956303119659424, 3.0130414962768555, 2.4382131099700928, 36.53425979614258, 8.248828887939453, 7.822752952575684, 12.629422187805176, 3.7324812412261963, 15.669623374938965, 10.521472930908203, 11.913278579711914, 5.769815921783447, 53.23377990722656, 26.106809616088867, 248.44468688964844, 294.6053771972656, 15.948498725891113, 11.833975791931152, 38.4054069519043, 10.469857215881348, 19.333351135253906, 10.355402946472168, 9.366291999816895, 27.3408145904541, 14.903412818908691, 9.10969066619873, 423.89813232421875, 157.05665588378906, 188.83824157714844, 441.8544616699219, 76.00553894042969, 92.6445541381836, 78.36122131347656, 26.80073356628418, 34.949920654296875, 20.25516128540039, 107.58438110351562, 160.58377075195312, 208.90960693359375, 69.06462860107422, 74.4551010131836, 38.6895751953125, 50.15879821777344, 69.67790985107422, 109.50413513183594, 86.29047393798828, 89.91715240478516, 84.42292022705078, 121.92591857910156, 89.8591537475586, 39.26719284057617, 55.03369140625, 62.955238342285156, 64.69234466552734, 43.41992950439453, 64.4018325805664, 54.76214599609375, 48.88917922973633, 55.657318115234375, 59.93894577026367, 54.43592071533203, 44.81686019897461, 41.106834411621094, 69.15853118896484, 48.94142150878906, 45.84275817871094, 41.47972106933594, 40.650909423828125, 11.313594818115234, 9.668307304382324, 8.481433868408203, 6.258653163909912, 6.154011249542236, 4.601181507110596, 3.9440596103668213, 3.912738800048828, 3.910121202468872, 4.924017429351807, 3.7448275089263916, 2.8193581104278564, 2.690605640411377, 3.1777219772338867, 60.60378646850586, 2.7235653400421143, 6.7281999588012695, 3.9035935401916504, 3.564640998840332, 5.6672468185424805, 2.1510486602783203, 2.1500186920166016, 4.577951431274414, 2.5756611824035645, 2.5897536277770996, 2.064547538757324, 3.656463861465454, 2.031097650527954, 5.392333507537842, 2.456799268722534, 1.692103624343872, 1.6910818815231323, 1.6910516023635864, 1.689219355583191, 1.687196135520935, 1.6837836503982544, 1.6822999715805054, 1.678515911102295, 1.6775147914886475, 1.6672881841659546, 41.69068145751953, 38.17273712158203, 16.958690643310547, 37.982269287109375, 4.312132835388184, 3.289384365081787, 6.782128810882568, 5.40018892288208, 8.106170654296875, 6.110345363616943, 3.8940608501434326, 9.288127899169922, 190.7261199951172, 23.905736923217773, 24.882280349731445, 35.295249938964844, 161.12899780273438, 11.521751403808594, 15.87773609161377, 36.49043655395508, 53.562294006347656, 18.563373565673828, 27.845956802368164, 232.27684020996094, 208.2654571533203, 243.26956176757812, 127.98344421386719, 140.6496124267578, 42.406578063964844, 105.80693817138672, 90.1301040649414, 61.12105178833008, 30.9617919921875, 30.657196044921875, 14.155137062072754, 69.35271453857422, 113.22489166259766, 46.542388916015625, 42.103206634521484, 40.41061782836914, 59.41538619995117, 65.35913848876953, 35.769840240478516, 39.31890869140625, 34.1370735168457, 31.39211654663086, 41.05534744262695, 51.323116302490234, 37.20410919189453, 33.52943420410156, 34.75483703613281, 38.07332992553711, 37.01401138305664, 33.87487030029297, 34.00770950317383, 33.38731002807617, 32.07178497314453, 11.132305145263672, 9.108098030090332, 8.458264350891113, 7.675251007080078, 6.822679042816162, 6.211771011352539, 6.150103569030762, 4.852756500244141, 4.78839635848999, 4.78771448135376, 16.01274871826172, 4.707400321960449, 4.60406494140625, 6.285399436950684, 3.4816949367523193, 3.4714791774749756, 3.4456589221954346, 3.4263970851898193, 3.342500686645508, 3.375870943069458, 21.673019409179688, 3.302565813064575, 2.630427360534668, 2.6726925373077393, 2.5982778072357178, 3.100414514541626, 8.15174674987793, 6.686156272888184, 4.665205478668213, 4.555932521820068, 4.0138936042785645, 5.169982433319092, 2.0764331817626953, 2.0654385089874268, 2.0653483867645264, 2.06417179107666, 2.063138246536255, 2.061943531036377, 2.0475525856018066, 2.0397939682006836, 5.395356178283691, 26.246042251586914, 3.395587921142578, 9.392766952514648, 30.665313720703125, 2.899746894836426, 3.318662166595459, 11.647554397583008, 27.76264190673828, 202.53347778320312, 30.919286727905273, 59.555355072021484, 8.491018295288086, 29.536592483520508, 13.388240814208984, 47.570068359375, 21.320594787597656, 29.219690322875977, 16.793045043945312, 59.16259002685547, 33.24469757080078, 48.53922653198242, 9.909573554992676, 112.54009246826172, 42.29958724975586, 23.185165405273438, 24.063783645629883, 20.088485717773438, 34.143550872802734, 128.71334838867188, 135.32266235351562, 72.11748504638672, 114.35986328125, 18.401165008544922, 16.66726303100586, 17.505067825317383, 45.93244934082031, 45.10056686401367, 30.491783142089844, 36.61484909057617, 30.60409927368164, 33.13747024536133, 34.94702911376953, 22.554182052612305, 37.0128173828125, 43.2649040222168, 38.933509826660156, 31.97975730895996, 36.44573211669922, 32.15604019165039, 27.680675506591797, 27.001436233520508, 27.562381744384766, 28.960887908935547, 27.45288848876953, 27.192079544067383, 26.828466415405273, 25.312772750854492, 15.645256996154785, 8.139508247375488, 8.007314682006836, 6.0839619636535645, 8.918255805969238, 4.895561218261719, 4.779584884643555, 3.7956926822662354, 3.6925508975982666, 4.590151786804199, 22.920969009399414, 3.1643259525299072, 12.114749908447266, 3.6108551025390625, 9.693533897399902, 2.7161929607391357, 2.6549620628356934, 2.5537219047546387, 2.9972057342529297, 6.733630657196045, 2.6032917499542236, 2.4910433292388916, 10.642923355102539, 4.571512699127197, 2.3165435791015625, 6.158801555633545, 1.6279979944229126, 1.6233038902282715, 1.6108976602554321, 1.6088082790374756, 1.6058578491210938, 1.5985451936721802, 1.5982158184051514, 1.5904334783554077, 1.5639517307281494, 6.371424674987793, 2.3220717906951904, 1.548344373703003, 3.7419681549072266, 6.362788200378418, 5.389883518218994, 3.593024492263794, 4.838212490081787, 12.968201637268066, 13.381643295288086, 5.779430866241455, 9.394701957702637, 4.720591068267822, 4.5597662925720215, 2.247083902359009, 7.058557033538818, 11.403400421142578, 34.4830322265625, 21.075830459594727, 7.807888031005859, 7.188177108764648, 143.93606567382812, 108.562255859375, 188.02940368652344, 36.5437126159668, 25.652849197387695, 12.971691131591797, 9.029377937316895, 124.65234375, 63.5604362487793, 85.69453430175781, 30.769227981567383, 68.37266540527344, 47.3636474609375, 49.51498794555664, 27.810062408447266, 40.1665153503418, 31.872425079345703, 14.860614776611328, 22.685897827148438, 30.891002655029297, 33.11632537841797, 39.522010803222656, 22.64664077758789, 28.37466812133789, 27.92739486694336, 29.721435546875, 15.866057395935059, 28.80473518371582, 24.84140396118164, 24.296680450439453, 21.39470672607422, 19.787200927734375, 19.122940063476562, 24.752626419067383, 25.939579010009766, 25.078536987304688, 20.448537826538086, 20.791444778442383, 19.28070640563965, 18.445268630981445, 19.841201782226562, 18.95311737060547], \"Term\": [\"\", \"\\u0e44\\u0e14\\u0e49\", \"\\u0e02\\u0e2d\\u0e1a\\u0e04\\u0e38\\u0e13\", \"\\u0e44\\u0e21\\u0e48\", \"\\u0e01\\u0e34\\u0e19\", \"\\u0e19\\u0e21\", \"\\u0e1c\\u0e21\", \"\\u0e25\\u0e2d\\u0e07\", \"\\u0e04\\u0e19\", \"\\u0e0a\\u0e2d\\u0e1a\", \".\", \"\\u0e17\\u0e33\", \"\\u0e14\\u0e39\", \"\\u0e2d\\u0e23\\u0e48\\u0e2d\\u0e22\", \"\\u0e19.\", \"\\u0e40\\u0e27\\u0e25\\u0e32\", \"\\u0e02\\u0e49\\u0e2d\\u0e04\\u0e27\\u0e32\\u0e21\", \"\\u0e14\\u0e35\", \"\\u0e22\\u0e35\\u0e48\\u0e2b\\u0e49\\u0e2d\", \"\\u0e0b\\u0e37\\u0e49\\u0e2d\", \"\\u0e2e\\u0e30\", \"\\u0e43\\u0e2a\\u0e48\", \"...\", \"\\u0e23\\u0e2a\", \"\\u0e23\\u0e35\\u0e27\\u0e34\\u0e27\", \"\\u0e19\\u0e49\\u0e2d\\u0e07\", \"\\u0e01\\u0e25\\u0e48\\u0e2d\\u0e07\", \"\\u0e2b\\u0e21\\u0e35\", \"\\u0e17\\u0e32\\u0e19\", \"\\u0e40\\u0e0b\\u0e40\\u0e27\\u0e48\\u0e19\", \"\\u0e1e\\u0e35\\u0e48\", \"\\u0e40\\u0e21\\u0e08\\u0e34\", \"\\u0e44\\u0e17\\u0e22\\u0e40\\u0e14\\u0e19\\u0e21\\u0e32\\u0e23\\u0e4c\\u0e04\", \"\\u0e2a\\u0e27\\u0e22\", \"\\u0e04\\u0e39\\u0e1b\\u0e2d\\u0e07\", \"\\u0e14\\u0e34\\u0e09\\u0e31\\u0e19\", \"\\u0e04\\u0e25\\u0e2d\\u0e14\", \"\\u0e1c\\u0e2a\\u0e21\", \"\\u0e40\\u0e2b\\u0e21\\u0e37\\u0e2d\\u0e19\", \"\\u0e2b\\u0e32\", \"\\u0e41\\u0e1c\\u0e25\", \".\", \"\\u0e1e\\u0e22\\u0e32\\u0e1a\\u0e32\\u0e25\", \"\\u0e04\\u0e39\", \"\\u0e04\\u0e37\\u0e19\\u0e40\\u0e07\\u0e34\\u0e19\", \"\\u0e17\\u0e38\\u0e01\\u0e04\\u0e37\\u0e19\", \"\\u0e21\\u0e2b\\u0e31\\u0e28\\u0e08\\u0e23\\u0e23\\u0e22\\u0e4c\", \"\\u0e2a\\u0e38\\u0e19\\u0e31\\u0e02\", \"\\u0e23\\u0e31\\u0e1a\\u0e2a\\u0e32\\u0e22\", \"\\u0e19\\u0e49\\u0e2d\\u0e07\\u0e0a\\u0e32\\u0e22\", \"\\u0e1e\\u0e2d\\u0e43\\u0e2b\\u0e49\", \"\\u0e2b\\u0e25\\u0e48\\u0e19\", \"\\u0e2d\\u0e48\\u0e22\", \"\\u0e17\\u0e48\\u0e2d\\u0e19\", \"\\u0e1c\\u0e08\\u0e01.\", \"momonja\", \"\\u0e46.\", \"\\u0e04\\u0e27\\u0e32\\u0e21\\u0e40\\u0e04\\u0e23\\u0e35\\u0e22\\u0e14\", \"\\u0e1b\\u0e23\\u0e30\\u0e16\\u0e21\", \"\\u0e2a\\u0e23\\u0e23\\u0e2b\\u0e32\", \"\\u0e01\\u0e47\\u0e0a\\u0e48\\u0e32\\u0e07\", \"\\u0e40\\u0e25\\u0e48\\u0e32\\u0e40\\u0e23\\u0e37\\u0e48\\u0e2d\\u0e07\", \"\\u0e19\\u0e31\\u0e25\", \"\\u0e40\\u0e1b\\u0e47\\u0e19\\u0e2a\\u0e21\\u0e32\\u0e0a\\u0e34\\u0e01\", \"\\u0e16\\u0e32\\u0e21\\u0e16\\u0e36\\u0e07\", \"\\u0e04\\u0e27\\u0e32\\u0e21\\u0e2b\\u0e48\\u0e27\\u0e07\\u0e43\\u0e22\", \"\\u0e19\\u0e49\\u0e33\\u0e15\\u0e32\\u0e44\\u0e2b\\u0e25\", \"\\u0e40\\u0e19\\u0e47\\u0e17\", \"\\u0e23\\u0e32\\u0e14\\u0e2b\\u0e19\\u0e49\\u0e32\", \"\\u0e22\\u0e37\\u0e14\\u0e15\\u0e31\\u0e27\", \"''\", \"___\", \"\\u0e40\\u0e21\\u0e15\\u0e23\", \"\\u0e04\\u0e27\\u0e32\\u0e21\\u0e01\\u0e14\\u0e14\\u0e31\\u0e19\", \"\\u0e23\\u0e48\\u0e2d\\u0e19\\u0e40\\u0e23\\u0e48\", \"\\u0e1e\\u0e40\\u0e19\\u0e08\\u0e23\", \"\\u0e1e\\u0e31\\u0e17\\u0e22\\u0e32\", \"\\u0e2b\\u0e25\\u0e48\\u0e2d\\u0e19\", \"\\u0e1a\\u0e32\\u0e14\", \"\\u0e40\\u0e2a\\u0e37\\u0e49\\u0e2d\\u0e22\\u0e37\\u0e14\", \"\\u0e25\\u0e39\\u0e01\", \"\\u0e1c\\u0e21\", \"\\u0e41\\u0e21\\u0e48\", \"\\u0e25\\u0e39\\u0e01\\u0e0a\\u0e32\\u0e22\", \"\\u0e19\\u0e01\", \"\\u0e07\\u0e2d\\u0e41\\u0e07\", \"\\u0e2d\\u0e38\\u0e49\\u0e21\", \"\\u0e22\\u0e01\\u0e40\\u0e25\\u0e34\\u0e01\", \"\\u0e2b\\u0e19\\u0e31\\u0e07\", \"\\u0e44\\u0e21\\u0e48\", \"\\u0e2d\\u0e34\\u0e19\\u0e17\\u0e23\\u0e35\", \"\\u0e23\\u0e49\\u0e32\\u0e19\", \"\\u0e01\\u0e34\\u0e19\", \"\\u0e0b\\u0e37\\u0e49\\u0e2d\", \"\\u0e23\\u0e39\\u0e49\", \"\\u0e19\\u0e49\\u0e2d\\u0e07\", \"\\u0e44\\u0e14\\u0e49\", \"\\u0e40\\u0e14\\u0e34\\u0e19\", \"..\", \"\\u0e2d\\u0e32\\u0e17\\u0e34\\u0e15\\u0e22\\u0e4c\", \"\\u0e1b\\u0e35\", \"\\u0e15\\u0e2d\\u0e19\", \"\\u0e25\\u0e39\\u0e01\\u0e2a\\u0e32\\u0e27\", \"\\u0e40\\u0e1e\\u0e37\\u0e48\\u0e2d\\u0e19\", \"\\u0e15\\u0e31\\u0e27\\u0e40\\u0e2d\\u0e07\", \"\\u0e0b\\u0e2d\\u0e2a\", \"\\u0e44\\u0e21\\u0e48\\u0e44\\u0e14\\u0e49\", \"\\u0e08\\u0e32\\u0e19\", \"\\u0e01\\u0e34\\u0e19\\u0e02\\u0e49\\u0e32\\u0e27\", \"\\u0e40\\u0e2b\\u0e25\\u0e49\\u0e32\", \"\\u0e23\\u0e31\\u0e01\", \"\\u0e02\\u0e27\\u0e1a\", \"\\u0e04\\u0e27\\u0e32\\u0e21\\u0e23\\u0e39\\u0e49\\u0e2a\\u0e36\\u0e01\", \"\", \"\\u0e25\\u0e48\\u0e30\", \"\\u0e43\\u0e2a\\u0e48\", \"\\u0e15\\u0e37\\u0e48\\u0e19\", \"\\u0e2a\\u0e2d\\u0e07\", \"\\u0e17\\u0e33\", \"\\u0e1a\\u0e49\\u0e32\\u0e19\", \"\\u0e04\\u0e19\", \"\\u0e14\\u0e35\", \"\\u0e40\\u0e14\\u0e47\\u0e01\", \"...\", \"\\u0e15\\u0e2d\\u0e19\\u0e19\\u0e35\\u0e49\", \"\\u0e19\\u0e21\", \"\\u0e19\\u0e49\\u0e33\", \"\\u0e17\\u0e35\\u0e48\\u0e08\\u0e30\", \"\\u0e40\\u0e25\\u0e48\\u0e19\", \"\\u0e40\\u0e25\\u0e37\\u0e2d\\u0e01\", \"\\u0e40\\u0e04\\u0e49\\u0e32\", \"\\u0e2d\\u0e23\\u0e48\\u0e2d\\u0e22\", \"\\u0e40\\u0e2b\\u0e21\\u0e37\\u0e2d\\u0e19\\u0e01\\u0e31\\u0e19\", \"\\u0e15\\u0e31\\u0e27\", \"\\u0e40\\u0e27\\u0e25\\u0e32\", \"\\u0e01\\u0e34\\u0e19\\u0e19\\u0e21\", \"\\u0e0a\\u0e2d\\u0e1a\", \"\\u0e14\\u0e39\", \"\\u0e25\\u0e2d\\u0e07\", \"\\u0e40\\u0e23\\u0e37\\u0e48\\u0e2d\\u0e07\", \"\\u0e2d\\u0e32\\u0e2b\\u0e32\\u0e23\", \"\\u0e02\\u0e2d\\u0e1a\\u0e04\\u0e38\\u0e13\", \"\\u0e40\\u0e2b\\u0e21\\u0e37\\u0e2d\\u0e19\", \"\\u0e19.\", \"\\u0e40\\u0e14\\u0e47\\u0e01\\u0e19\\u0e49\\u0e2d\\u0e22\", \"\\u0e15\\u0e33\", \"\\u0e02\\u0e31\\u0e14\\u0e43\\u0e08\", \"\\u0e40\\u0e08\\u0e49\\u0e07\", \"\\u0e40\\u0e17\\u0e23\\u0e19\\u0e14\\u0e4c\", \"\\u0e40\\u0e2b\\u0e25\\u0e37\\u0e2d\\u0e2d\\u0e22\\u0e39\\u0e48\", \"\\u0e40\\u0e23\\u0e35\\u0e22\\u0e01\\u0e01\\u0e31\\u0e19\\u0e27\\u0e48\\u0e32\", \"\\u0e42\\u0e15\\u0e49\", \"\\u0e04\\u0e19\\u0e25\\u0e30\\u0e40\\u0e23\\u0e37\\u0e48\\u0e2d\\u0e07\", \"\\u0e04\\u0e23\\u0e1a\\u0e0a\\u0e38\\u0e14\", \"\\u0e01\\u0e25\\u0e49\\u0e27\\u0e22\\u0e19\\u0e49\\u0e33\\u0e27\\u0e49\\u0e32\", \"\\u0e01\\u0e32\\u0e23\\u0e2a\\u0e33\\u0e23\\u0e27\\u0e08\", \"american\", \"\\u0e04\\u0e27\\u0e32\\u0e21\\u0e04\\u0e37\\u0e1a\\u0e2b\\u0e19\\u0e49\\u0e32\", \"\\u0e2b\\u0e32\\u0e07\\u0e19\\u0e21\", \"\\u0e1c\\u0e25\\u0e31\\u0e14\\u0e01\\u0e31\\u0e19\", \"mall\", \"\\u0e27\\u0e38\\u0e48\\u0e19\", \"\\u0e27\\u0e4c\", \"\\u0e23\\u0e2d\\u0e1a\\u0e15\\u0e31\\u0e27\", \"\\u0e2d\\u0e1a\\u0e40\\u0e0a\\u0e22\", \"\\u0e0a\\u0e33\\u0e23\\u0e30\\u0e40\\u0e07\\u0e34\\u0e19\", \"\\u0e18\\u0e31\\u0e0d\\u0e1e\\u0e37\\u0e0a\", \"*****\", \"\\u0e22\\u0e49\\u0e32\\u0e22\\u0e1a\\u0e49\\u0e32\\u0e19\", \"lazada\", \"\\u0e41\\u0e25\\u0e01\\u0e42\\u0e15\\u0e2a\", \"\\u0e2a\\u0e31\\u0e21\\u0e1e\\u0e31\\u0e19\\u0e18\\u0e4c\", \"\\u0e01\\u0e23\\u0e30\\u0e40\\u0e14\\u0e47\\u0e19\", \"\\u0e01\\u0e38\\u0e25\", \"\\u0e04\\u0e27\\u0e32\\u0e21\\u0e2a\\u0e19\\u0e43\\u0e08\", \"\\u0e2b\\u0e31\\u0e01\\u0e21\\u0e38\\u0e21\", \"\\u0e01\\u0e23\\u0e30\\u0e41\\u0e2a\\u0e40\\u0e25\\u0e37\\u0e2d\\u0e14\", \"\\u0e42\\u0e2d\\u0e4a\\u0e30\", \"\\u0e19\\u0e21\\u0e41\\u0e21\\u0e27\", \"\\u0e15\\u0e23\\u0e07\\u0e1b\\u0e23\\u0e30\\u0e40\\u0e14\\u0e47\\u0e19\", \"\\u0e1b\\u0e23\\u0e30\\u0e2b\\u0e25\\u0e32\\u0e14\\u0e43\\u0e08\", \"\\u0e2b\\u0e27\\u0e30\", \"express\", \"\\u0e22\\u0e32\\u0e16\\u0e48\\u0e32\\u0e22\", \"\\u0e14\\u0e34\\u0e09\\u0e31\\u0e19\", \"\\u0e2b\\u0e25\\u0e31\\u0e01\\u0e01\\u0e32\\u0e23\", \"\\u0e40\\u0e04\\u0e32\", \"\\u0e2d\\u0e48\\u0e2d\\u0e19\\u0e41\\u0e2d\", \"\\u0e42\\u0e1c\\u0e25\\u0e48\", \"\\u0e42\\u0e1b\\u0e23\\u0e15\\u0e35\\u0e19\", \"\\u0e02\\u0e49\\u0e2d\\u0e21\\u0e39\\u0e25\", \"\\u0e42\\u0e20\\u0e0a\\u0e19\\u0e32\\u0e01\\u0e32\\u0e23\", \"\\u0e15\\u0e23\\u0e27\\u0e08\", \"\\u0e04\\u0e31\\u0e21\\u0e1e\\u0e34\", \"\\u0e17\\u0e14\\u0e2a\\u0e2d\\u0e1a\", \"\\u0e40\\u0e04\\u0e49\\u0e32\", \"\\u0e01\\u0e32\\u0e23\\u0e19\\u0e33\", \"\\u0e09\\u0e25\\u0e32\\u0e01\", \"\\u0e1b\\u0e23\\u0e34\\u0e21\\u0e32\\u0e13\", \"\\u0e41\\u0e25\\u0e04\\u0e42\\u0e15\\u0e2a\", \"\\u0e23\\u0e2a\\u0e18\\u0e23\\u0e23\\u0e21\\u0e0a\\u0e32\\u0e15\\u0e34\", \"\\u0e21\\u0e34\\u0e25\\u0e04\\u0e4c\", \"\\u0e20\\u0e32\\u0e27\\u0e30\", \"\\u0e19\\u0e21\", \"\\u0e44\\u0e14\\u0e49\", \"\\u0e17\\u0e32\\u0e19\", \"\\u0e19\\u0e49\\u0e33\\u0e15\\u0e32\\u0e25\", \"\\u0e0a\\u0e2d\\u0e1a\", \"\\u0e01\\u0e23\\u0e31\\u0e21\", \"\\u0e04\\u0e48\\u0e32\", \"\\u0e40\\u0e23\\u0e37\\u0e48\\u0e2d\\u0e07\", \"\\u0e02\\u0e27\\u0e14\", \"\\u0e2a\\u0e32\\u0e23\\u0e2d\\u0e32\\u0e2b\\u0e32\\u0e23\", \"\\u0e41\\u0e14\\u0e23\\u0e35\\u0e48\\u0e42\\u0e2e\\u0e21\", \"\\u0e1c\\u0e25\\u0e34\\u0e15\\u0e20\\u0e31\\u0e13\\u0e11\\u0e4c\", \"\\u0e44\\u0e21\\u0e48\", \"\\u0e23\\u0e2a\", \"\\u0e23\\u0e35\\u0e27\\u0e34\\u0e27\", \"\\u0e04\\u0e19\", \"\\u0e01\\u0e34\\u0e19\", \"\\u0e14\\u0e35\", \"\", \"\\u0e14\\u0e39\", \"\\u0e44\\u0e21\\u0e48\\u0e44\\u0e14\\u0e49\", \"\\u0e41\\u0e1a\\u0e1a\\u0e19\\u0e35\\u0e49\", \"\\u0e15\\u0e31\\u0e27\", \"\\u0e2a\\u0e23\\u0e49\\u0e32\\u0e07\", \"\\u0e40\\u0e04\\u0e49\\u0e01\", \"\\u0e19\\u0e36\\u0e07\", \"\\u0e43\\u0e2a\\u0e48\", \"\\u0e25\\u0e39\\u0e01\", \"\\u0e23\\u0e2a\\u0e0a\\u0e32\\u0e15\\u0e34\", \"\\u0e1a\\u0e2d\", \"\\u0e17\\u0e33\", \"\\u0e2a\\u0e33\\u0e2b\\u0e23\\u0e31\\u0e1a\", \"\\u0e40\\u0e2b\\u0e21\\u0e37\\u0e2d\\u0e19\", \"\\u0e08\\u0e37\\u0e14\", \"\\u0e02\\u0e2d\\u0e1a\\u0e04\\u0e38\\u0e13\", \"\\u0e25\\u0e2d\\u0e07\", \"\\u0e0b\\u0e37\\u0e49\\u0e2d\", \"\\u0e2b\\u0e27\\u0e32\\u0e19\", \"\\u0e1c\\u0e21\", \"\\u0e2d\\u0e23\\u0e48\\u0e2d\\u0e22\", \"\\u0e41\\u0e21\\u0e48\", \"\\u0e23\\u0e39\\u0e49\", \"\\u0e22\\u0e35\\u0e48\\u0e2b\\u0e49\\u0e2d\", \"\\u0e2a\\u0e2b\\u0e01\\u0e23\\u0e13\\u0e4c\", \"\\u0e04\\u0e07\", \"\\u0e04\\u0e27\\u0e32\\u0e21\\u0e1d\\u0e31\\u0e19\", \"\\u0e42\\u0e2d\\u0e22\", \"mill\", \"nagoya\", \"\\u0e40\\u0e1b\\u0e25\\u0e35\\u0e48\\u0e22\\u0e19\\u0e43\\u0e08\", \"\\u0e25\\u0e49\\u0e2d\\u0e40\\u0e25\\u0e48\\u0e19\", \"dutch\", \"\\u0e40\\u0e19\\u0e2a\", \"\\u0e44\\u0e27\\u0e19\\u0e4c\", \"\\u0e41\\u0e1e\\u0e17\", \"\\u0e1a\\u0e38\\u0e1a\", \"\\u0e25\\u0e37\\u0e21\\u0e40\\u0e25\\u0e37\\u0e2d\\u0e19\", \"\\u0e01\\u0e34\\u0e07\", \"\\u0e22\\u0e32\\u0e19\", \"\\u0e0a\\u0e32\\u0e1a\\u0e39\", \"\\u0e04\\u0e23\\u0e48\\u0e32\", \"\\u0e2d\\u0e19\\u0e38\\u0e21\\u0e39\\u0e25\", \"\\u0e1e\\u0e32\\u0e2b\\u0e38\\u0e23\\u0e31\\u0e14\", \"\\u0e40\\u0e19\\u0e35\\u0e22\\u0e21\", \"\\u0e40\\u0e1b\\u0e47\\u0e19\\u0e15\\u0e32\\u0e23\\u0e32\\u0e07\", \"\\u0e19\\u0e32\\u0e22\\u0e41\\u0e21\\u0e48\", \"\\u0e1e\\u0e38\\u0e18\", \"\\u0e2e\\u0e31\\u0e17\", \"\\u0e25\\u0e32\\u0e07\", \"on\", \"selected\", \"\\u0e23\\u0e31\\u0e48\\u0e27\", \"\\u0e2d\\u0e2d\\u0e23\\u0e4c\\u0e41\\u0e01\\u0e19\\u0e34\\u0e01\", \"\\u0e40\\u0e02\\u0e49\\u0e32\\u0e2d\\u0e2d\\u0e01\", \"\\u0e40\\u0e15\\u0e49\\u0e32\\u0e2b\\u0e39\\u0e49\\u0e22\\u0e35\\u0e49\", \"\\u0e41\\u0e21\\u0e48\\u0e0b\\u0e37\\u0e49\\u0e2d\", \"\\u0e27\\u0e32\\u0e21\", \"dark\", \"\\u0e04\\u0e17\\u0e34\\u0e40\\u0e27\\u0e35\\u0e22\", \"\\u0e2b\\u0e32\\u0e40\\u0e07\\u0e34\\u0e19\", \"\\u0e1e\\u0e23\\u0e35\\u0e40\\u0e21\\u0e35\\u0e48\\u0e22\\u0e21\", \"\\u0e40\\u0e02\\u0e49\\u0e32\\u0e23\\u0e48\\u0e27\\u0e21\", \"\\u0e2a\\u0e32\\u0e01\", \"\\u0e40\\u0e2d\\u0e21\", \"\\u0e2d\\u0e36\", \"\\u0e08\\u0e34\\u0e15\\u0e23\\u0e25\\u0e14\\u0e32\", \"\\u0e41\\u0e2a\\u0e15\\u0e21\\u0e1b\\u0e4c\", \"\\u0e44\\u0e17\\u0e22\\u0e40\\u0e14\\u0e19\\u0e21\\u0e32\\u0e23\\u0e4c\\u0e04\", \"\\u0e21\\u0e14\", \"\\u0e23\\u0e35\\u0e49\", \"\\u0e2b\\u0e19\\u0e2d\\u0e07\\u0e42\\u0e1e\", \"\\u0e22\\u0e35\\u0e48\\u0e2b\\u0e49\\u0e2d\", \"\\u0e41\\u0e04\\u0e25\\u0e40\\u0e0b\\u0e35\\u0e22\\u0e21\", \"\\u0e27\\u0e34\\u0e15\\u0e32\\u0e21\\u0e34\\u0e19\", \"\\u0e21\\u0e35\\u0e1b\\u0e23\\u0e30\\u0e42\\u0e22\\u0e0a\\u0e19\\u0e4c\", \"\\u0e19\\u0e21\\u0e1c\\u0e07\", \"\\u0e2d\\u0e23\\u0e48\\u0e2d\\u0e22\", \"\\u0e42\\u0e04\", \"\\u0e1c\\u0e2a\\u0e21\", \"\\u0e19\\u0e21\", \"\\u0e01\\u0e34\\u0e19\", \"\\u0e01\\u0e25\\u0e48\\u0e2d\\u0e07\", \"\\u0e14\\u0e37\\u0e48\\u0e21\", \"\\u0e14\\u0e31\\u0e0a\\u0e21\\u0e34\\u0e25\\u0e25\\u0e4c\", \"\\u0e0a\\u0e32\", \"\\u0e2a\\u0e35\\u0e19\\u0e49\\u0e33\\u0e40\\u0e07\\u0e34\\u0e19\", \"\\u0e42\\u0e1f\\u0e23\\u0e4c\\u0e42\\u0e21\\u0e2a\\u0e15\\u0e4c\", \"\\u0e2e\\u0e48\\u0e32\", \"\\u0e44\\u0e21\\u0e48\", \"\\u0e23\\u0e2a\", \"\\u0e40\\u0e21\\u0e08\\u0e34\", \"\\u0e40\\u0e14\\u0e47\\u0e01\", \"\\u0e32\", \"\\u0e07\\u0e07\", \"\\u0e42\\u0e21\", \"\\u0e40\\u0e02\\u0e35\\u0e22\\u0e27\", \"\\u0e19\\u0e21\\u0e01\\u0e25\\u0e48\\u0e2d\\u0e07\", \"\\u0e25\\u0e34\", \"\\u0e0b\\u0e37\\u0e49\\u0e2d\", \"\\u0e42\\u0e22\\u0e40\\u0e01\\u0e34\\u0e23\\u0e4c\\u0e15\", \"\\u0e14\\u0e35\", \"\\u0e0a\\u0e2d\\u0e1a\", \"\\u0e17\\u0e32\\u0e19\", \"\\u0e44\\u0e14\\u0e49\", \"\\u0e44\\u0e21\\u0e48\\u0e44\\u0e14\\u0e49\", \"\\u0e2a\\u0e14\", \"\\u0e41\\u0e21\\u0e48\", \"\", \"\\u0e17\\u0e33\", \"\\u0e40\\u0e19\\u0e37\\u0e49\\u0e2d\", \"\\u0e25\\u0e39\\u0e01\", \"\\u0e2b\\u0e32\", \"\\u0e43\\u0e2a\\u0e48\", \"\\u0e19\\u0e49\\u0e33\\u0e15\\u0e32\\u0e25\", \"\\u0e04\\u0e19\", \"\\u0e40\\u0e25\\u0e37\\u0e2d\\u0e01\", \"\\u0e40\\u0e2b\\u0e21\\u0e37\\u0e2d\\u0e19\", \"\\u0e25\\u0e2d\\u0e07\", \"\\u0e14\\u0e39\", \"\\u0e40\\u0e27\\u0e25\\u0e32\", \"\\u0e15\\u0e2d\\u0e19\", \"\\u0e1e\\u0e07\\u0e29\\u0e4c\", \"\\u0e14\\u0e14\\u0e14\", \"\\u0e17\\u0e31\\u0e49\\u0e07\\u0e1b\\u0e35\", \"\\u0e23\\u0e32\\u0e0a\\u0e1a\\u0e38\\u0e23\\u0e35\", \"\\u0e43\\u0e08\\u0e23\\u0e49\\u0e2d\\u0e19\", \"img\", \"taxi\", \"\\u0e25\\u0e21\\u0e2b\\u0e32\\u0e22\\u0e43\\u0e08\", \"[/\", \"fc\", \"\\u0e04\\u0e42\\u0e15\\u0e30\", \"\\u0e15\\u0e32\\u0e21\\u0e40\\u0e04\\u0e22\", \"\\u0e40\\u0e1b\\u0e47\\u0e19\\u0e23\\u0e30\\u0e40\\u0e1a\\u0e35\\u0e22\\u0e1a\", \"\\u0e2b\\u0e32\\u0e22\\u0e19\\u0e30\", \"\\u0e40\\u0e02\\u0e49\\u0e32\\u0e43\\u0e2b\\u0e49\", \"\\u0e1a\\u0e35\\u0e17\\u0e35\\u0e40\\u0e2d\\u0e2a\", \"\\u0e01\\u0e34\\u0e19\\u0e40\\u0e27\\u0e25\\u0e32\", \"beez\", \"\\u0e22\\u0e49\\u0e2d\\u0e22\", \"\\u0e23\\u0e2d.\", \"\\u0e2b\\u0e4a\\u0e2d\\u0e21\", \"\\u0e27\\u0e01\", \"\\u0e2d\\u0e38\\u0e08\\u0e08\\u0e32\\u0e23\\u0e30\", \"\\u0e41\\u0e23\\u0e01\\u0e40\\u0e01\\u0e34\\u0e14\", \"\\u0e01\\u0e32\\u0e23\\u0e04\\u0e19\", \"\\u0e40\\u0e17\\u0e2a\\u0e42\\u0e01\\u0e49\", \"\\u0e22\\u0e48\\u0e32\\u0e07\\u0e01\\u0e49\\u0e32\\u0e27\", \"\\u0e0b\\u0e49\\u0e2d\\u0e21\", \"\\u0e04\\u0e38\\u0e13\\u0e2b\\u0e19\\u0e39\", \"\\u0e2a\\u0e27\\u0e48\\u0e32\\u0e07\", \"\\u0e02\\u0e49\\u0e2d\\u0e04\\u0e34\\u0e14\", \"jj\", \"\\u0e22\\u0e32\\u0e07\\u0e22\\u0e37\\u0e14\", \"\\u0e17\\u0e27\\u0e34\\u0e15\\u0e40\\u0e15\\u0e2d\\u0e23\\u0e4c\", \"\\u0e04\\u0e27\\u0e32\\u0e21\\u0e21\\u0e31\\u0e48\\u0e19\\u0e04\\u0e07\", \"\\u0e19\\u0e49\\u0e33\\u0e43\\u0e08\", \"100,000\", \"\\u0e17\\u0e33\\u0e2b\\u0e19\\u0e49\\u0e32\\u0e17\\u0e35\\u0e48\", \"\\u0e08\\u0e02\\u0e01\", \"\\u0e15\\u0e2d\\u0e19\\u0e08\\u0e1a\", \"\\u0e14\\u0e35\\u0e49\", \"\\u0e04\\u0e19\\u0e02\\u0e31\\u0e1a\", \"jpg\", \"\\u0e40\\u0e2b\\u0e48\\u0e2d\", \"that\", \"\\u0e21\\u0e32\\u0e21\\u0e48\\u0e32\", \"\\u0e40\\u0e25\\u0e35\\u0e49\\u0e22\\u0e07\", \"\\u0e17\\u0e23\\u0e34\\u0e1b\", \"\\u0e40\\u0e01\\u0e21\", \"\\u0e2a\\u0e41\\u0e15\\u0e21\\u0e1b\\u0e4c\", \"\\u0e21\\u0e42\\u0e19\", \"\\u0e15\\u0e33\\u0e41\\u0e2b\\u0e19\\u0e48\\u0e07\", \"...\", \"\\u0e44\\u0e21\\u0e48\", \"\\u0e23\\u0e16\", \"\\u0e22\\u0e37\\u0e19\", \"\\u0e04\\u0e27\\u0e32\\u0e21\\u0e23\\u0e31\\u0e01\", \"\\u0e04\\u0e38\\u0e22\", \"\\u0e1e\\u0e39\\u0e14\\u0e27\\u0e48\\u0e32\", \"\\u0e1b\\u0e23\\u0e30\\u0e42\\u0e22\\u0e04\", \"\\u0e14\\u0e32\\u0e23\\u0e32\", \"\\u0e04\\u0e19\", \"\\u0e44\\u0e14\\u0e49\", \"\\u0e14\\u0e35\", \"\\u0e44\\u0e21\\u0e48\\u0e44\\u0e14\\u0e49\", \"\\u0e01\\u0e25\\u0e48\\u0e2d\\u0e07\", \"\\u0e2d\\u0e2d\\u0e01\\u0e21\\u0e32\", \"\\u0e2a\\u0e34\", \"\\u0e2b\\u0e25\\u0e48\\u0e2d\", \"\\u0e1a\\u0e49\\u0e32\\u0e19\", \"\\u0e41\\u0e21\\u0e27\", \"\\u0e40\\u0e08\\u0e2d\", \"\", \"\\u0e01\\u0e34\\u0e19\", \"\\u0e41\\u0e21\\u0e48\", \"\\u0e02\\u0e2d\\u0e1a\\u0e04\\u0e38\\u0e13\", \"\\u0e40\\u0e1e\\u0e37\\u0e48\\u0e2d\\u0e19\", \"\\u0e2d\\u0e48\\u0e32\\u0e19\", \"\\u0e1c\\u0e21\", \"\\u0e0a\\u0e2d\\u0e1a\", \"\\u0e14\\u0e39\", \"\\u0e23\\u0e39\\u0e49\", \"\\u0e15\\u0e31\\u0e27\\u0e40\\u0e2d\\u0e07\", \"\\u0e19\\u0e31\\u0e48\\u0e07\", \"\\u0e2b\\u0e19\\u0e49\\u0e32\", \"\\u0e19\\u0e48\\u0e32\\u0e23\\u0e31\\u0e01\", \"....\", \"\\u0e40\\u0e27\\u0e25\\u0e32\", \"\\u0e17\\u0e32\\u0e19\", \"\\u0e0b\\u0e37\\u0e49\\u0e2d\", \"\\u0e40\\u0e2b\\u0e21\\u0e37\\u0e2d\\u0e19\", \"\\u0e2b\\u0e32\", \"\\u0e40\\u0e2b\\u0e21\\u0e37\\u0e2d\\u0e19\\u0e01\\u0e31\\u0e19\", \"\\u0e17\\u0e33\", \"\\u0e1b\\u0e01\\u0e15\\u0e34\", \"\\u0e19\\u0e21\", \"\\u0e25\\u0e39\\u0e01\", \"\\u0e2d\\u0e32\\u0e2b\\u0e32\\u0e23\", \"\\u0e40\\u0e23\\u0e37\\u0e48\\u0e2d\\u0e07\", \"\\u0e1a\\u0e2d\", \"\\u0e25\\u0e2d\\u0e07\", \"\\u0e2d\\u0e23\\u0e48\\u0e2d\\u0e22\", \"\\u0e40\\u0e04\\u0e49\\u0e32\", \"\\u0e02\\u0e19\\u0e2a\\u0e48\\u0e07\", \"care\", \"\\u0e04\\u0e38\\u0e13\\u0e04\\u0e23\\u0e39\", \"^^\", \"\\u0e21\\u0e19\", \"\\u0e01\\u0e23\\u0e30\\u0e08\\u0e48\\u0e32\\u0e07\", \"petit\", \"le\", \"\\u0e19\\u0e49\\u0e33\\u0e17\\u0e48\\u0e27\\u0e21\", \"\\u0e2d\\u0e37\\u0e21\\u0e21\\u0e4c\", \"mc\", \"\\u0e02\\u0e2d\\u0e1a\\u0e1e\\u0e23\\u0e30\\u0e04\\u0e38\\u0e13\", \"\\u0e2a\\u0e21\\u0e19\\u0e49\\u0e33\\u0e2b\\u0e19\\u0e49\\u0e32\", \"\\u0e41\\u0e01\\u0e49\\u0e04\\u0e33\\u0e1c\\u0e34\\u0e14\", \"\\u0e23\\u0e4c\\u0e17\", \"\\u0e27\\u0e2a\", \"\\u0e40\\u0e04\\u0e32\\u0e19\\u0e4c\\u0e40\\u0e15\\u0e2d\\u0e23\\u0e4c\", \"\\u0e23\\u0e31\\u0e1a\\u0e1a\\u0e23\\u0e34\\u0e08\\u0e32\\u0e04\", \"\\u0e17\\u0e33\\u0e40\\u0e2d\\u0e32\", \"\\u0e09\\u0e1a\\u0e31\\u0e1a\", \"farm\", \"\\u0e04\\u0e19\\u0e14\\u0e39\", \"shopat\", \"yut-san\", \"\\u0e40\\u0e19\\u0e4a\", \"\\u0e25\\u0e4a\\u0e2d\\u0e15\", \"\\u0e41\\u0e25\\u0e47\\u0e15\", \"\\u0e25\\u0e47\\u0e2d\\u0e01\\u0e2d\\u0e34\\u0e19\", \"\\u0e04\\u0e2d\\u0e21\\u0e40\\u0e21\\u0e49\\u0e19\\u0e17\\u0e4c\", \"\\u0e43\\u0e2b\\u0e21\", \"\\u0e01\\u0e31\\u0e0d\", \"9.50\", \"\\u0e04\\u0e38\\u0e13\\u0e1b\\u0e49\\u0e32\", \"/?\", \"\\u0e1a\\u0e34\\u0e48\\u0e19\", \"hiq\", \"search\", \"cooking\", \"\\u0e2b\\u0e07\\u0e32\\u0e22\", \"\\u0e1e\\u0e37\\u0e49\\u0e19\\u0e1a\\u0e49\\u0e32\\u0e19\", \"\\u0e2b\\u0e19\\u0e31\\u0e07\\u0e2a\\u0e37\\u0e2d\\u0e1e\\u0e34\\u0e21\\u0e1e\\u0e4c\", \"\\u0e1e\\u0e32\\u0e22\", \"\\u0e01\\u0e23\\u0e23\\u0e44\\u0e01\\u0e23\", \"\\u0e41\\u0e1e\\u0e47\\u0e04\", \"\\u0e04\\u0e2d\\u0e21\\u0e1f\\u0e2d\\u0e23\\u0e4c\\u0e17\", \"\", \"\\u0e02\\u0e49\\u0e2d\\u0e04\\u0e27\\u0e32\\u0e21\", \"\\u0e19.\", \"\\u0e21\\u0e25.\", \"\\u0e1e\\u0e25\\u0e32\\u0e2a\\u0e15\\u0e34\\u0e01\", \"\\u0e2a\\u0e48\\u0e27\\u0e19\\u0e25\\u0e14\", \"\\u0e04\\u0e39\\u0e1b\\u0e2d\\u0e07\", \"kfc\", \"lotus\", \"\\u0e40\\u0e22\\u0e35\\u0e48\\u0e22\\u0e21\", \"\\u0e15\\u0e34\\u0e48\\u0e07\", \"\\u0e40\\u0e27\\u0e25\\u0e32\", \"bigc\", \"\\u0e1f\\u0e32\\u0e23\\u0e4c\\u0e21\", \"\\u0e17\\u0e49\\u0e32\\u0e22\", \"\\u0e1c\\u0e25\\u0e34\\u0e15\", \"\\u0e42\\u0e0a\\u0e04\\u0e0a\\u0e31\\u0e22\", \"\\u0e01\\u0e01.\", \"\\u0e44\\u0e21\\u0e48\", \"\\u0e0b\\u0e37\\u0e49\\u0e2d\", \"\\u0e16\\u0e38\\u0e07\", \"\\u0e02\\u0e27\\u0e14\", \"\\u0e19\\u0e21\", \"\\u0e0a\\u0e2d\\u0e1a\", \"\\u0e01\\u0e25\\u0e48\\u0e2d\\u0e07\", \"\\u0e43\\u0e1a\\u0e40\\u0e2a\\u0e23\\u0e47\\u0e08\", \"\\u0e23\\u0e2a\", \"\\u0e14\\u0e31\\u0e0a\\u0e21\\u0e34\\u0e25\\u0e25\\u0e4c\", \"\\u0e41\\u0e01\\u0e49\\u0e27\", \"\\u0e0a\\u0e38\\u0e14\", \"\\u0e02\\u0e32\\u0e22\", \"\\u0e14\\u0e39\", \"\\u0e1a\\u0e49\\u0e32\\u0e19\", \"\\u0e22\\u0e33\", \"\\u0e44\\u0e14\\u0e49\", \"\\u0e01\\u0e34\\u0e19\", \"\\u0e25\\u0e2d\\u0e07\", \"\\u0e43\\u0e2a\\u0e48\", \"\\u0e14\\u0e37\\u0e48\\u0e21\", \"\\u0e2a\\u0e34\\u0e19\\u0e04\\u0e49\\u0e32\", \"\\u0e42\\u0e22\\u0e40\\u0e01\\u0e34\\u0e23\\u0e4c\\u0e15\", \"\\u0e2d\\u0e30\", \"\\u0e04\\u0e19\", \"\\u0e2d\\u0e23\\u0e48\\u0e2d\\u0e22\", \"\\u0e02\\u0e2d\\u0e1a\\u0e04\\u0e38\\u0e13\", \"\\u0e17\\u0e33\", \"\\u0e1c\\u0e2a\\u0e21\", \"\\u0e40\\u0e04\\u0e49\\u0e32\", \"\\u0e44\\u0e21\\u0e48\\u0e44\\u0e14\\u0e49\", \"\\u0e22\\u0e35\\u0e48\\u0e2b\\u0e49\\u0e2d\", \"\\u0e1c\\u0e21\", \"\\u0e14\\u0e35\", \"\\u0e23\\u0e39\\u0e49\", \"\\u0e40\\u0e2b\\u0e21\\u0e37\\u0e2d\\u0e19\", \"\\u0e01\\u0e23\\u0e23\\u0e21\", \"hello\", \"\\u0e40\\u0e25\\u0e21\\u0e2d\\u0e19\", \"\\u0e19\\u0e32\\u0e23\\u0e32\", \"\\u0e41\\u0e15\\u0e19\", \"\\u0e2b\\u0e21\\u0e39\\u0e41\\u0e14\\u0e07\", \"\\u0e2a\\u0e44\\u0e1b\\u0e23\\u0e17\\u0e4c\", \"like\", \"\\u0e01\\u0e23\\u0e30\\u0e17\\u0e39\\u0e49\\u0e16\\u0e32\\u0e21\", \"\\u0e1b\\u0e48\\u0e2d\\u0e07\", \"\\u0e14\\u0e46\", \"\\u0e16\\u0e48\\u0e32\\u0e19\", \"\\u0e15\\u0e23\\u0e36\\u0e21\", \"\\u0e15\\u0e49\\u0e32\", \"\\u0e15\\u0e48\\u0e32\\u0e07\\u0e41\\u0e14\\u0e19\", \"\\u0e1c\\u0e48\\u0e2d\\u0e19\\u0e04\\u0e25\\u0e32\\u0e22\", \"\\u0e43\\u0e08\\u0e40\\u0e22\\u0e47\\u0e19\", \"\\u0e01\\u0e33\\u0e01\\u0e31\\u0e1a\", \"\\u0e08\\u0e39\\u0e49\", \"\\u0e1b\\u0e4a\\u0e32\\u0e14\", \"copy\", \"\\u0e40\\u0e25\\u0e37\\u0e2d\\u0e01\\u0e44\\u0e21\\u0e48\\u0e44\\u0e14\\u0e49\", \"\\u0e41\\u0e17\\u0e23\\u0e01\\u0e15\\u0e31\\u0e27\", \"\\u0e19\\u0e31\\u0e19\\u0e17\\u0e4c\", \"\\u0e1b\\u0e25\\u0e07\", \"\\u0e25\\u0e39\\u0e1b\", \"\\u0e40\\u0e0a\\u0e2d\\u0e23\\u0e35\\u0e48\", \"\\u0e25\\u0e2d\\u0e07\\u0e14\\u0e35\", \"\\u0e1e\\u0e48\\u0e2d\\u0e1a\\u0e49\\u0e32\\u0e19\", \"\\u0e19\\u0e38\\u0e48\\u0e19\", \"\\u0e2a\\u0e23\\u0e23\", \"\\u0e40\\u0e04\\u0e35\\u0e22\\u0e07\", \"\\u0e17\\u0e33\\u0e2b\\u0e19\\u0e31\\u0e07\\u0e2a\\u0e37\\u0e2d\", \"\\u0e1a\\u0e4a\\u0e07\", \"tv\", \"\\u0e15\\u0e15\\u0e35\\u0e49\", \"\\u0e04\\u0e27\\u0e32\\u0e21\\u0e40\\u0e2a\\u0e35\\u0e22\\u0e14\\u0e32\\u0e22\", \"\\u0e40\\u0e0b\\u0e2d\\u0e23\\u0e4c\\u0e44\\u0e1e\\u0e23\\u0e4c\\u0e2a\", \"\\u0e41\\u0e2b\\u0e07\", \"\\u0e01\\u0e4b\\u0e27\\u0e22\", \"\\u0e41\\u0e1f\\u0e19\\u0e04\\u0e25\\u0e31\\u0e1a\", \"\\u0e1b\\u0e23\\u0e30\\u0e2a\\u0e1a\\u0e04\\u0e27\\u0e32\\u0e21\\u0e2a\\u0e33\\u0e40\\u0e23\\u0e47\\u0e08\", \"\\u0e01\\u0e2d\", \"\\u0e40\\u0e02\\u0e49\\u0e32\\u0e15\\u0e39\\u0e49\", \"\\u0e40\\u0e17\\u0e48\", \"\\u0e20\\u0e39\", \"\\u0e02\\u0e2d\\u0e07\\u0e43\\u0e0a\\u0e49\", \"\\u0e04\\u0e19\\u0e14\\u0e35\", \"\\u0e43\\u0e0a\\u0e49\\u0e44\\u0e21\\u0e48\\u0e44\\u0e14\\u0e49\", \"\\u0e42\\u0e06\\u0e29\\u0e13\\u0e32\", \"\\u0e04\\u0e38\\u0e13\\u0e04\\u0e48\\u0e32\", \"\\u0e17\\u0e33\", \"\\u0e04\\u0e19\", \"\\u0e1e\\u0e23\\u0e35\\u0e40\\u0e0b\\u0e19\\u0e40\\u0e15\\u0e2d\\u0e23\\u0e4c\", \"\\u0e2b\\u0e31\\u0e27\\u0e40\\u0e0a\\u0e37\\u0e49\\u0e2d\", \"\\u0e40\\u0e01\\u0e25\\u0e37\\u0e2d\", \"^_^\", \"\\u0e42\\u0e04\\u0e49\\u0e01\", \"\\u0e42\\u0e1b\\u0e23\\u0e14\", \"\\u0e27\\u0e31\\u0e15\\u0e16\\u0e38\", \"\\u0e19\\u0e49\\u0e32\", \"\\u0e40\\u0e14\\u0e37\\u0e2d\\u0e14\", \"\\u0e2a\\u0e32\\u0e23\\u0e30\", \"\\u0e44\\u0e14\\u0e49\", \"\\u0e43\\u0e2a\\u0e48\", \"\\u0e14\\u0e35\", \"\\u0e44\\u0e21\\u0e48\", \"\\u0e1e\\u0e35\\u0e48\", \"\\u0e2d\\u0e32\\u0e2b\\u0e32\\u0e23\", \"\\u0e42\\u0e22\\u0e40\\u0e01\\u0e34\\u0e23\\u0e4c\\u0e15\", \"\\u0e19\\u0e48\\u0e32\\u0e01\\u0e34\\u0e19\", \"\\u0e44\\u0e02\\u0e48\", \"\\u0e02\\u0e2d\\u0e1a\", \"\\u0e17\\u0e32\\u0e19\", \"\\u0e1c\\u0e21\", \"\\u0e01\\u0e34\\u0e19\", \"\\u0e41\\u0e1a\\u0e1a\\u0e19\\u0e35\\u0e49\", \"\\u0e15\\u0e31\\u0e27\", \"\\u0e25\\u0e39\\u0e01\\u0e04\\u0e49\\u0e32\", \"\\u0e14\\u0e35\\u0e01\\u0e27\\u0e48\\u0e32\", \"\\u0e40\\u0e2b\\u0e21\\u0e37\\u0e2d\\u0e19\\u0e01\\u0e31\\u0e19\", \"\\u0e41\\u0e21\\u0e48\", \"\\u0e40\\u0e04\\u0e49\\u0e32\", \"\\u0e14\\u0e39\", \"\\u0e25\\u0e2d\\u0e07\", \"\\u0e19\\u0e21\", \"\\u0e0a\\u0e2d\\u0e1a\", \"\\u0e1e\\u0e19\\u0e31\\u0e01\\u0e07\\u0e32\\u0e19\", \"\\u0e23\\u0e2a\\u0e0a\\u0e32\\u0e15\\u0e34\", \"\\u0e40\\u0e2b\\u0e21\\u0e37\\u0e2d\\u0e19\", \"\\u0e1a\\u0e49\\u0e32\\u0e19\", \"\\u0e2d\\u0e22\\u0e48\\u0e32\", \"\\u0e02\\u0e2d\\u0e1a\\u0e04\\u0e38\\u0e13\", \"\\u0e40\\u0e23\\u0e37\\u0e48\\u0e2d\\u0e07\", \"\\u0e02\\u0e32\\u0e22\", \"\\u0e2d\\u0e23\\u0e48\\u0e2d\\u0e22\", \"\\u0e0b\\u0e37\\u0e49\\u0e2d\", \"\\u0e44\\u0e21\\u0e48\\u0e44\\u0e14\\u0e49\", \"\\u0e19\\u0e49\\u0e33\", \"\\u0e23\\u0e2d\", \"\", \"\\u0e40\\u0e27\\u0e25\\u0e32\", \"\\u0e19\\u0e49\\u0e2d\\u0e07\", \"\\u0e2b\\u0e27\\u0e32\\u0e19\", \"\\u0e2d\\u0e2d\\u0e01\\u0e21\\u0e32\", \"\\u0e2d\\u0e37\\u0e2d\", \"tvong\", \"\\u0e40\\u0e1a\\u0e35\\u0e49\\u0e22\\u0e27\", \"\\u0e2a\\u0e17\\u0e4c\", \"\\u0e2a\\u0e34\\u0e49\\u0e19\\u0e40\\u0e14\\u0e37\\u0e2d\\u0e19\", \"\\u0e44\\u0e2d\\u0e42\\u0e2d\\u0e14\\u0e35\\u0e19\", \"\\u0e2b\\u0e25\\u0e31\\u0e07\\u0e1a\\u0e49\\u0e32\\u0e19\", \"\\u0e42\\u0e2d\\u0e4b\", \"\\u0e40\\u0e1b\\u0e47\\u0e19\\u0e04\\u0e27\\u0e32\\u0e21\", \"\\u0e1e\\u0e22\\u0e32\\u0e18\\u0e34\", \"\\u0e04\\u0e27\\u0e32\\u0e21\\u0e07\\u0e32\\u0e21\", \"\\u0e01\\u0e2d\\u0e1a\", \"\\u0e23\\u0e31\\u0e07\\u0e41\\u0e01\", \"\\u0e21\\u0e48\", \"\\u0e04\\u0e25\\u0e2d\\u0e14\", \"\\u0e23\\u0e31\\u0e1a\\u0e1b\\u0e32\\u0e01\", \"\\u0e04\\u0e27\\u0e32\\u0e21\\u0e41\\u0e02\\u0e47\\u0e07\\u0e41\\u0e23\\u0e07\", \"\\u0e22\\u0e32\\u0e07\", \"\\u0e25\\u0e32\\u0e1a\", \"\\u0e43\\u0e02\\u0e48\", \"\\u0e25\\u0e22\\u0e4c\", \"\\u0e01\\u0e32\\u0e19\\u0e19\", \"\\u0e2d\\u0e22\\u0e48\\u0e32\\u0e07\\u0e44\\u0e23\\u0e1a\\u0e49\\u0e32\\u0e07\", \"\\u0e41\\u0e08\\u0e4a\\u0e2a\", \"\\u0e1a\\u0e1a\\u0e1a\\u0e1a\", \"tvc\", \"\\u0e25\\u0e07\\u0e21\\u0e37\\u0e2d\\u0e17\\u0e33\", \"\\u0e04\\u0e38\\u0e13\\u0e1c\\u0e39\\u0e49\\u0e2b\\u0e0d\\u0e34\\u0e07\", \"\\u0e2d\\u0e27\\u0e22\\u0e1e\\u0e23\", \"\\u0e40\\u0e1e\\u0e37\\u0e48\\u0e2d\\u0e19 \\u0e46\", \"\\u0e2b\\u0e21\\u0e38\\u0e14\", \"^^*\", \"\\u0e2b\\u0e32\\u0e07\\u0e08\\u0e23\\u0e30\\u0e40\\u0e02\\u0e49\", \"\\u0e40\\u0e0a\\u0e2a\\u0e40\\u0e15\\u0e2d\\u0e23\\u0e4c\", \"\\u0e1f\\u0e34\\u0e19\\u0e19\\u0e19\\u0e19\\u0e19\", \"swiss\", \"\\u0e1e\\u0e19\\u0e31\\u0e01\", \"\\u0e1e\\u0e25\\u0e34\\u0e01\\u0e41\\u0e1e\\u0e25\\u0e07\", \"\\u0e1a\\u0e41\\u0e23\\u0e07\", \"\\u0e40\\u0e2d\\u0e47\\u0e01\\u0e0b\\u0e4c\", \"\\u0e04\\u0e25\\u0e34\\u0e01\", \"spoil\", \"\\u0e07.\", \"\\u0e17\\u0e35\\u0e48\\u0e0b\\u0e48\\u0e2d\\u0e19\", \"\\u0e21\\u0e34\\u0e49\\u0e07\", \"\\u0e42\\u0e01\\u0e4a\\u0e30\", \"\\u0e2b\\u0e19\\u0e36\\u0e1a\", \"foodland\", \"\\u0e40\\u0e15\\u0e32\\u0e2d\\u0e1a\", \"\\u0e04\\u0e4a\\u0e32\", \"\\u0e1b\\u0e25\\u0e32\\u0e14\\u0e38\\u0e01\", \"cc\", \"\\u0e25\\u0e2d\\u0e07\", \"\\u0e40\\u0e08\\u0e21\\u0e2a\\u0e4c\\u0e08\\u0e34\", \"\\u0e40\\u0e14\\u0e19\\u0e21\\u0e32\\u0e23\\u0e4c\\u0e01\", \"\\u0e2d\\u0e2d\", \"\\u0e14\\u0e39\", \"\\u0e40\\u0e14\\u0e19\", \"\\u0e1e\\u0e19\", \"\\u0e40\\u0e04\\u0e49\\u0e01\", \"\\u0e44\\u0e17\\u0e22\", \"\\u0e21\\u0e30\\u0e21\\u0e48\\u0e27\\u0e07\", \"\\u0e40\\u0e19\\u0e22\", \"\\u0e01\\u0e34\\u0e19\", \"\\u0e44\\u0e14\\u0e49\", \"\\u0e44\\u0e21\\u0e48\", \"\\u0e1c\\u0e21\", \"\\u0e19\\u0e21\", \"\\u0e25\\u0e14\", \"\\u0e0b\\u0e37\\u0e49\\u0e2d\", \"\\u0e17\\u0e33\", \"\\u0e19\\u0e49\\u0e2d\\u0e07\", \"\\u0e40\\u0e14\\u0e35\\u0e4b\\u0e22\\u0e27\", \"\\u0e41\\u0e1b\\u0e49\\u0e07\", \"\\u0e23\\u0e34\\u0e27\", \"\\u0e14\\u0e35\", \"\", \"...\", \"\\u0e02\\u0e49\\u0e2d\\u0e04\\u0e27\\u0e32\\u0e21\", \"\\u0e15\\u0e2d\\u0e19\\u0e19\\u0e35\\u0e49\", \"\\u0e44\\u0e21\\u0e48\\u0e44\\u0e14\\u0e49\", \"\\u0e04\\u0e19\", \"\\u0e23\\u0e39\\u0e49\\u0e2a\\u0e36\\u0e01\", \"\\u0e2b\\u0e32\", \"\\u0e2d\\u0e48\\u0e30\", \"\\u0e01\\u0e23\\u0e31\\u0e21\", \"\\u0e22\\u0e35\\u0e48\\u0e2b\\u0e49\\u0e2d\", \"\\u0e0a\\u0e2d\\u0e1a\", \"\\u0e40\\u0e2b\\u0e21\\u0e37\\u0e2d\\u0e19\", \"\\u0e02\\u0e27\\u0e14\", \"\\u0e15\\u0e2d\\u0e19\", \"\\u0e40\\u0e04\\u0e49\\u0e32\", \"\\u0e40\\u0e27\\u0e25\\u0e32\", \"\\u0e40\\u0e21\\u0e08\\u0e34\", \"\\u0e25\\u0e39\\u0e01\", \"\\u0e23\\u0e2a\", \"\\u0e02\\u0e32\\u0e22\", \"\\u0e1b\\u0e23\\u0e30\\u0e01\\u0e27\\u0e14\", \"pj\", \"\\u0e2a\\u0e21\\u0e1a\\u0e39\\u0e23\\u0e13\\u0e4c\\u0e41\\u0e1a\\u0e1a\", \"\\u0e1a\\u0e49\\u0e27\\u0e19\", \"\\u0e01\\u0e46\", \"\\u0e2e\\u0e2d\\u0e25\", \"\\u0e46\\u0e46\\u0e46\\u0e46\\u0e46\\u0e46\\u0e46\", \"enfa\", \"\\u0e44\\u0e27\\u0e49\\u0e2b\\u0e19\\u0e49\\u0e32\", \"customer\", \"\\u0e40\\u0e0b\\u0e47\\u0e19\\u0e17\\u0e23\\u0e31\\u0e25\", \"hi\", \"cal\", \"\\u0e40\\u0e1e\\u0e37\\u0e48\\u0e2d\\u0e19\\u0e1a\\u0e49\\u0e32\\u0e19\", \"ouou\", \"\\u0e41\\u0e21\\u0e4a\\u0e01\", \"\\u0e40\\u0e2b\\u0e21\\u0e47\\u0e19\\u0e04\\u0e32\\u0e27\", \"\\u0e40\\u0e14\\u0e47\\u0e01\\u0e1c\\u0e39\\u0e49\\u0e0a\\u0e32\\u0e22\", \"\\u0e2a\\u0e31\\u0e07\\u0e40\\u0e01\\u0e15\\u0e40\\u0e2b\\u0e47\\u0e19\", \"\\u0e41\\u0e2d\\u0e1a\\u0e14\\u0e39\", \"\\u0e42\\u0e04\\u0e49\\u0e14\", \"\\u0e25\\u0e34\\u0e48\\u0e19\", \"\\u0e40\\u0e2b\\u0e25\\u0e35\\u0e22\\u0e07\", \"kitkat\", \"products\", \"passion\", \"\\u0e1a\\u0e1a\", \"\\u0e14\\u0e34\\u0e2a\\u0e40\\u0e04\\u0e23\\u0e14\\u0e34\\u0e15\", \"\\u0e01\\u0e32\\u0e23\\u0e41\\u0e25\\u0e01\", \"\\u0e0a\\u0e31\\u0e22\", \"\\u0e04\\u0e2d\\u0e21\\u0e40\\u0e21\\u0e49\\u0e19\\u0e15\\u0e4c\", \"\\u0e42\\u0e2d\\u0e49\\u0e42\\u0e2b\", \"\\u0e41\\u0e21\\u0e4a\\u0e04\", \"\\u0e2d\\u0e39\\u0e22\", \"\\u0e40\\u0e2a\\u0e35\\u0e22\\u0e41\\u0e15\\u0e48\\u0e27\\u0e48\\u0e32\", \"\\u0e08\\u0e1a\\u0e01\\u0e31\\u0e19\", \"\\u0e19\\u0e48\\u0e32\\u0e20\\u0e32\\u0e04\\u0e20\\u0e39\\u0e21\\u0e34\\u0e43\\u0e08\", \"\\u0e15\\u0e31\\u0e27\\u0e1b\\u0e31\\u0e0d\\u0e2b\\u0e32\", \"\\u0e1d\\u0e31\\u0e07\\u0e43\\u0e08\", \"csr\", \"comment\", \"\\u0e40\\u0e21\\u0e32\", \"\\u0e15\\u0e2d\\u0e1a\\u0e01\\u0e25\\u0e31\\u0e1a\", \"\\u0e27\\u0e32\\u0e23\\u0e34\\u0e0a\", \"\\u0e40\\u0e08\\u0e47\\u0e14\", \"\\u0e1b\\u0e31\\u0e08\\u0e08\\u0e31\\u0e22\\u0e2a\\u0e33\\u0e04\\u0e31\\u0e0d\", \"\\u0e40\\u0e1e\\u0e25\\u0e2a\", \"top\", \"\\u0e40\\u0e14\\u0e47\\u0e14\", \"\\u0e02\\u0e2d\\u0e1a\\u0e04\\u0e38\\u0e13\", \"\\u0e41\\u0e2b\\u0e25\\u0e01\", \"\\u0e2e\\u0e30\", \"\\u0e1e\\u0e49\\u0e2d\", \"\\u0e14\\u0e39\\u0e14\", \"\\u0e2b\\u0e21\\u0e32\\u0e22\\u0e40\\u0e25\\u0e02\", \"\\u0e2b\\u0e21\\u0e35\", \"________________________________________________________\", \"\\u0e44\\u0e2a\\u0e49\", \"\\u0e1b\\u0e23\\u0e30\\u0e08\\u0e33\\u0e40\\u0e14\\u0e37\\u0e2d\\u0e19\", \"\\u0e23\\u0e35\\u0e27\\u0e34\\u0e27\", \"\\u0e04\\u0e30\\u0e41\\u0e19\\u0e19\", \"\\u0e40\\u0e0b\\u0e40\\u0e27\\u0e48\\u0e19\", \"\\u0e15\\u0e2d\\u0e1a\\u0e04\\u0e33\\u0e16\\u0e32\\u0e21\", \"\\u0e0a\\u0e2d\\u0e1a\", \"\\u0e2a\\u0e27\\u0e22\", \"//\", \"\\u0e02\\u0e2d\\u0e07\\u0e01\\u0e34\\u0e19\", \"\\u0e40\\u0e25\\u0e35\\u0e49\\u0e22\\u0e07\\u0e25\\u0e39\\u0e01\", \"\\u0e01\\u0e25\\u0e34\\u0e48\\u0e19\", \"\\u0e44\\u0e14\\u0e49\", \"\", \"\\u0e04\\u0e19\", \"\\u0e44\\u0e21\\u0e48\", \"\\u0e27\\u0e31\\u0e27\", \"\\u0e41\\u0e25\\u0e01\", \"\\u0e01\\u0e49\", \"\\u0e43\\u0e2a\\u0e48\", \"\\u0e2d\\u0e23\\u0e48\\u0e2d\\u0e22\", \"\\u0e01\\u0e23\\u0e30\\u0e17\\u0e39\\u0e49\", \"\\u0e40\\u0e2b\\u0e21\\u0e37\\u0e2d\\u0e19\", \"\\u0e2b\\u0e27\\u0e32\\u0e19\", \"...\", \"\\u0e23\\u0e2a\", \"\\u0e2a\\u0e23\\u0e38\\u0e1b\", \"\\u0e25\\u0e2d\\u0e07\", \"\\u0e1c\\u0e21\", \"\\u0e25\\u0e39\\u0e01\", \"\\u0e1a\\u0e49\\u0e32\\u0e19\", \"\\u0e14\\u0e35\", \"\\u0e14\\u0e39\", \"\\u0e40\\u0e21\\u0e08\\u0e34\", \"\\u0e23\\u0e2a\\u0e0a\\u0e32\\u0e15\\u0e34\", \"\\u0e40\\u0e27\\u0e25\\u0e32\", \"\\u0e0b\\u0e37\\u0e49\\u0e2d\", \"\\u0e19\\u0e21\", \"\\u0e44\\u0e21\\u0e48\\u0e44\\u0e14\\u0e49\", \"\\u0e17\\u0e32\\u0e19\", \"\\u0e15\\u0e2d\\u0e19\", \"\\u0e1e\\u0e39\\u0e14\\u0e04\\u0e38\\u0e22\", \"\\u0e40\\u0e19\", \"\\u0e0b\\u0e31\\u0e19\", \"\\u0e27\\u0e34\\u0e48\\u0e07\\u0e40\\u0e25\\u0e48\\u0e19\", \"\\u0e15\\u0e30\\u0e27\\u0e31\\u0e19\", \"\\u0e27\\u0e31\\u0e27\\u0e19\\u0e21\", \"\\u0e17\\u0e35\\u0e48\\u0e44\\u0e2b\\u0e19\\u0e44\\u0e14\\u0e49\", \"\\u0e1b\\u0e34\\u0e14\\u0e1b\\u0e32\\u0e01\", \"\\u0e2a\\u0e33\\u0e19\\u0e31\\u0e01\\u0e07\\u0e32\\u0e19\", \"\\u0e25\\u0e39\\u0e01\\u0e1c\\u0e21\", \"\\u0e23\\u0e32\\u0e07\\u0e27\\u0e31\\u0e25\", \"\\u0e14\\u0e39\\u0e14\\u0e34\", \"\\u0e04\\u0e48\\u0e32\\u0e15\\u0e31\\u0e27\", \"\\u0e14\\u0e48\\u0e32\\u0e19\", \"\\u0e21\\u0e31\\u0e19\\u0e2a\\u0e4c\", \"\\u0e41\\u0e01\\u0e25\\u0e49\\u0e21\", \"\\u0e27\\u0e32\\u0e08\\u0e32\", \"\\u0e41\\u0e1e\\u0e23\\u0e48\", \"\\u0e23\\u0e31\\u0e1a\\u0e08\\u0e49\\u0e32\\u0e07\", \"\\u0e2b\\u0e38\\u0e2b\\u0e38\", \"\\u0e2d\\u0e4a\\u0e32\", \"\\u0e02\\u0e49\\u0e2d\\u0e40\\u0e17\\u0e47\\u0e08\\u0e08\\u0e23\\u0e34\\u0e07\", \"\\u0e30\", \"\\u0e04\\u0e14\\u0e35\", \"\\u0e42\\u0e17\\u0e23\\u0e28\\u0e31\\u0e1e\\u0e17\\u0e4c\\u0e21\\u0e37\\u0e2d\\u0e16\\u0e37\\u0e2d\", \"\\u0e40\\u0e14\\u0e0a\", \"yy\", \"\\u0e40\\u0e27\\u0e19\\u0e40\\u0e14\\u0e2d\\u0e23\\u0e4c\", \"\\u0e40\\u0e2d\\u0e48\", \"\\u0e40\\u0e1a\\u0e22\\u0e22\\u0e22\", \"\\u0e1e\\u0e32\\u0e22\\u0e38\", \"error\", \"\\u0e15\\u0e32\\u0e04\\u0e49\\u0e32\\u0e07\", \"\\u0e25\\u0e34\\u0e02\\u0e2a\\u0e34\\u0e17\\u0e18\\u0e34\\u0e4c\", \"\\u0e27\\u0e35\\u0e04\", \"\\u0e04\\u0e23\\u0e49\\u0e32\\u0e1a\", \"\\u0e19\\u0e23\\u0e01\", \"\\u0e01\\u0e32\\u0e23\\u0e2a\\u0e48\\u0e07\\u0e2d\\u0e2d\\u0e01\", \"\\u0e44\\u0e22\", \"\\u0e21\\u0e48\\u0e32\\u0e22\", \"\\u0e0a\\u0e34\\u0e07\", \"\\u0e41\\u0e2d\\u0e4a\\u0e1b\\u0e40\\u0e1b\\u0e34\\u0e49\\u0e25\", \"red\", \"\\u0e40\\u0e1b\\u0e32\", \"\\u0e07\\u0e27\\u0e14\", \"cm\", \"\\u0e40\\u0e04\\u0e35\\u0e48\\u0e22\\u0e27\", \"\\u0e19\\u0e21\\u0e2e\\u0e2d\\u0e01\\u0e44\\u0e01\\u0e42\\u0e14\", \"\\u0e23\\u0e38\", \"\\u0e40\\u0e08\\u0e25\\u0e25\\u0e35\\u0e48\", \"\\u0e1a\\u0e38\\u0e4a\\u0e04\", \"\\u0e04\\u0e2d\\u0e19\\u0e40\\u0e1f\\u0e34\\u0e23\\u0e4c\\u0e21\", \"\\u0e44\\u0e2d\\u0e15\\u0e34\\u0e21\", \"\\u0e41\\u0e14\\u0e23\\u0e35\\u0e48\\u0e42\\u0e2e\\u0e21\", \"\\u0e40\\u0e0a\\u0e35\\u0e22\\u0e23\\u0e4c\", \"\\u0e40\\u0e1c\\u0e37\\u0e2d\\u0e01\", \"\\u0e44\\u0e14\\u0e49\", \"\\u0e1c\\u0e21\", \"\\u0e44\\u0e21\\u0e48\", \"\\u0e1e\\u0e35\\u0e48\", \"\\u0e2e\\u0e30\", \"\\u0e40\\u0e19\\u0e35\\u0e22\\u0e19\", \"\\u0e21\\u0e2d\", \"\", \"\\u0e0a\\u0e2d\\u0e1a\", \"\\u0e01\\u0e34\\u0e19\", \"\\u0e2d\\u0e48\\u0e30\", \"\\u0e19\\u0e21\", \"\\u0e2d\\u0e23\\u0e48\\u0e2d\\u0e22\", \"\\u0e17\\u0e33\", \"\\u0e01\\u0e23\\u0e30\\u0e17\\u0e39\\u0e49\", \"\\u0e02\\u0e2d\\u0e1a\\u0e04\\u0e38\\u0e13\", \"\\u0e2b\\u0e32\", \"\\u0e01\\u0e32\", \"\\u0e23\\u0e39\\u0e1b\", \"\\u0e19\\u0e49\\u0e2d\\u0e07\", \"\\u0e25\\u0e2d\\u0e07\", \"\\u0e0b\\u0e37\\u0e49\\u0e2d\", \"\\u0e2a\\u0e35\", \"\\u0e15\\u0e2d\\u0e19\", \"\\u0e40\\u0e23\\u0e37\\u0e48\\u0e2d\\u0e07\", \"\\u0e40\\u0e27\\u0e25\\u0e32\", \"\\u0e1c\\u0e07\", \"\\u0e14\\u0e39\", \"\\u0e15\\u0e31\\u0e27\", \"\\u0e40\\u0e21\\u0e08\\u0e34\", \"\\u0e40\\u0e25\\u0e48\\u0e19\", \"\\u0e41\\u0e16\\u0e21\", \"\\u0e41\\u0e17\\u0e19\", \"\\u0e43\\u0e2a\\u0e48\", \"\\u0e04\\u0e19\", \"\\u0e14\\u0e35\", \"\\u0e23\\u0e2a\\u0e0a\\u0e32\\u0e15\\u0e34\", \"\\u0e40\\u0e2b\\u0e21\\u0e37\\u0e2d\\u0e19\", \"\\u0e19\\u0e21\\u0e2a\\u0e14\", \"\\u0e2b\\u0e19\\u0e49\\u0e32\", \"\\u0e44\\u0e21\\u0e48\\u0e44\\u0e14\\u0e49\", \"\\u0e02\\u0e32\\u0e22\"], \"Total\": [5900.0, 4351.0, 1027.0, 7867.0, 4282.0, 3102.0, 2484.0, 1075.0, 1948.0, 1701.0, 922.0, 1483.0, 1225.0, 1251.0, 667.0, 1097.0, 556.0, 1666.0, 732.0, 1956.0, 226.0, 1207.0, 677.0, 809.0, 394.0, 687.0, 704.0, 229.0, 920.0, 313.0, 441.0, 667.0, 236.0, 313.0, 232.0, 215.0, 81.0, 479.0, 765.0, 585.0, 32.51613998413086, 922.1015625, 49.03770065307617, 15.38171100616455, 14.070528984069824, 13.40044116973877, 12.782584190368652, 12.778031349182129, 15.607438087463379, 19.025381088256836, 11.371294975280762, 11.958569526672363, 11.330795288085938, 9.966509819030762, 12.648119926452637, 9.12424373626709, 42.321163177490234, 11.334317207336426, 18.17743492126465, 13.9904203414917, 8.55965805053711, 8.557212829589844, 8.541259765625, 10.538811683654785, 9.13448429107666, 16.800683975219727, 7.739424228668213, 12.547369003295898, 13.33441162109375, 8.508910179138184, 9.097746849060059, 13.341473579406738, 11.859190940856934, 8.524538040161133, 7.170596122741699, 7.1700873374938965, 7.158594608306885, 7.154571056365967, 7.154522895812988, 7.154269218444824, 1918.7052001953125, 2484.79248046875, 1727.438720703125, 82.45645904541016, 36.27667999267578, 20.829692840576172, 36.592079162597656, 28.242835998535156, 79.90262603759766, 7867.6259765625, 13.976497650146484, 613.6243286132812, 4282.94873046875, 1956.791259765625, 978.466064453125, 687.943115234375, 4351.3671875, 332.7120056152344, 459.6858215332031, 188.0724334716797, 414.2559814453125, 676.1188354492188, 112.9986801147461, 611.45068359375, 400.43377685546875, 106.96760559082031, 1398.38134765625, 164.02235412597656, 145.1214141845703, 132.0621795654297, 303.02191162109375, 172.0555419921875, 118.602783203125, 5900.61572265625, 236.9505615234375, 1207.382568359375, 110.80059814453125, 351.55157470703125, 1483.50537109375, 845.505126953125, 1948.7359619140625, 1666.0196533203125, 714.715087890625, 677.6019897460938, 523.27978515625, 3102.114501953125, 566.1983032226562, 300.01446533203125, 457.9482421875, 463.2181396484375, 1095.2529296875, 1251.921630859375, 696.0397338867188, 736.366455078125, 1097.7540283203125, 389.88665771484375, 1701.3544921875, 1225.183837890625, 1075.8819580078125, 738.6884765625, 641.831787109375, 1027.0806884765625, 765.9071044921875, 667.84228515625, 16.848876953125, 13.91247844696045, 12.224542617797852, 10.918017387390137, 15.367656707763672, 10.719990730285645, 9.19578742980957, 11.51569938659668, 7.762643337249756, 7.666746616363525, 8.06022834777832, 22.948055267333984, 6.847458362579346, 6.238002777099609, 6.207993030548096, 6.197954177856445, 6.241390705108643, 6.032207012176514, 7.704885959625244, 5.91045618057251, 6.164677619934082, 6.09765100479126, 20.763744354248047, 6.180994987487793, 6.09227180480957, 19.05735969543457, 5.322268486022949, 12.01315975189209, 6.172402381896973, 11.695257186889648, 5.287398338317871, 6.119263648986816, 8.316105842590332, 4.700375556945801, 4.683581352233887, 4.681457996368408, 6.071071147918701, 4.675966262817383, 8.38040828704834, 4.671213150024414, 215.12474060058594, 19.7908935546875, 20.939504623413086, 17.864458084106445, 11.205039978027344, 481.465576171875, 232.8774871826172, 130.47940063476562, 95.79840087890625, 19.478103637695312, 19.794769287109375, 1095.2529296875, 16.20395851135254, 79.09644317626953, 193.36827087402344, 36.02141571044922, 183.951416015625, 48.23373794555664, 58.680999755859375, 3102.114501953125, 4351.3671875, 920.0643920898438, 600.2169189453125, 1701.3544921875, 344.59576416015625, 302.7860412597656, 738.6884765625, 549.1306762695312, 214.50831604003906, 100.71138763427734, 125.55369567871094, 7867.6259765625, 809.4472045898438, 394.83917236328125, 1948.7359619140625, 4282.94873046875, 1666.0196533203125, 5900.61572265625, 1225.183837890625, 1398.38134765625, 532.2991333007812, 736.366455078125, 122.40363311767578, 174.147705078125, 442.01611328125, 1207.382568359375, 1918.7052001953125, 535.4953002929688, 485.5557861328125, 1483.50537109375, 525.6516723632812, 765.9071044921875, 318.5788269042969, 1027.0806884765625, 1075.8819580078125, 1956.791259765625, 517.7594604492188, 2484.79248046875, 1251.921630859375, 1727.438720703125, 978.466064453125, 732.6619262695312, 21.14126205444336, 17.845935821533203, 14.239519119262695, 13.179983139038086, 13.17905330657959, 13.873348236083984, 11.733052253723145, 9.87514591217041, 15.30047607421875, 30.062686920166016, 11.419515609741211, 8.158398628234863, 6.5736083984375, 6.364333629608154, 10.287853240966797, 5.745481967926025, 8.103710174560547, 8.874385833740234, 9.686006546020508, 4.9179606437683105, 4.911501407623291, 4.906167984008789, 4.8415446281433105, 4.8391852378845215, 4.842210292816162, 4.9151291847229, 4.62191104888916, 15.132622718811035, 15.097972869873047, 4.866930961608887, 4.8323845863342285, 4.884688377380371, 14.58237361907959, 8.680558204650879, 3.9413535594940186, 5.427431583404541, 8.654692649841309, 15.715889930725098, 4.571191310882568, 6.33989953994751, 65.90428161621094, 73.30929565429688, 130.5350799560547, 70.23915100097656, 236.49375915527344, 21.44475746154785, 11.682083129882812, 161.94769287109375, 732.6619262695312, 114.6765365600586, 230.78668212890625, 173.0085906982422, 243.20626831054688, 1251.921630859375, 269.6697998046875, 479.1080627441406, 3102.114501953125, 4282.94873046875, 704.0892944335938, 515.0023193359375, 297.44970703125, 153.9371337890625, 61.362186431884766, 401.1848449707031, 99.5059814453125, 7867.6259765625, 809.4472045898438, 667.1981201171875, 714.715087890625, 161.86517333984375, 198.91476440429688, 122.42039489746094, 128.0939483642578, 121.58313751220703, 83.44847106933594, 1956.791259765625, 489.2763977050781, 1666.0196533203125, 1701.3544921875, 920.0643920898438, 4351.3671875, 1398.38134765625, 157.87379455566406, 1727.438720703125, 5900.61572265625, 1483.50537109375, 310.19793701171875, 1918.7052001953125, 585.6459350585938, 1207.382568359375, 600.2169189453125, 1948.7359619140625, 463.2181396484375, 765.9071044921875, 1075.8819580078125, 1225.183837890625, 1097.7540283203125, 676.1188354492188, 9.688247680664062, 9.678897857666016, 8.563985824584961, 8.442856788635254, 7.125981330871582, 28.656625747680664, 12.827231407165527, 22.763261795043945, 13.385575294494629, 5.759854793548584, 5.738792419433594, 5.516490459442139, 5.766636371612549, 5.750467300415039, 4.916863918304443, 5.523935794830322, 7.053059101104736, 4.354081630706787, 4.345016002655029, 4.312811851501465, 4.310284614562988, 4.300524711608887, 4.291364669799805, 19.13616371154785, 4.233851432800293, 4.156531810760498, 4.333406925201416, 12.593233108520508, 21.091970443725586, 6.360538005828857, 8.372478485107422, 6.292666435241699, 4.341175079345703, 6.261022090911865, 4.3169684410095215, 15.869751930236816, 4.316009044647217, 13.71633243560791, 4.327449321746826, 4.804698467254639, 22.899433135986328, 28.868600845336914, 13.116497993469238, 17.06240463256836, 8.354240417480469, 161.5916748046875, 157.538818359375, 39.730770111083984, 16.656400680541992, 18.000972747802734, 25.812673568725586, 10.100339889526367, 677.6019897460938, 7867.6259765625, 200.68284606933594, 99.32555389404297, 108.60887145996094, 219.60450744628906, 22.359739303588867, 45.86465835571289, 40.33074188232422, 1948.7359619140625, 4351.3671875, 1666.0196533203125, 1398.38134765625, 704.0892944335938, 439.638916015625, 208.18983459472656, 57.81233596801758, 845.505126953125, 138.93551635742188, 569.5680541992188, 5900.61572265625, 4282.94873046875, 1727.438720703125, 1027.0806884765625, 611.45068359375, 365.18487548828125, 2484.79248046875, 1701.3544921875, 1225.183837890625, 978.466064453125, 400.43377685546875, 277.10528564453125, 323.1279602050781, 189.62486267089844, 202.82395935058594, 1097.7540283203125, 920.0643920898438, 1956.791259765625, 765.9071044921875, 585.6459350585938, 696.0397338867188, 1483.50537109375, 442.23138427734375, 3102.114501953125, 1918.7052001953125, 641.831787109375, 738.6884765625, 485.5557861328125, 1075.8819580078125, 1251.921630859375, 1095.2529296875, 18.83344078063965, 16.20032501220703, 14.234159469604492, 10.894405364990234, 10.885826110839844, 10.887724876403809, 10.925724029541016, 10.921494483947754, 12.236771583557129, 8.128393173217773, 7.435916900634766, 6.876927852630615, 6.838708400726318, 6.817807197570801, 8.077829360961914, 6.788867473602295, 6.864886283874512, 8.01445198059082, 6.34166955947876, 17.4649658203125, 6.043064594268799, 6.889134407043457, 7.449773788452148, 5.53291130065918, 5.527539253234863, 5.524109840393066, 5.5147385597229, 5.512031555175781, 5.486351013183594, 5.4784698486328125, 5.53948974609375, 5.2480669021606445, 13.719498634338379, 9.1868896484375, 4.734193801879883, 4.723874092102051, 5.521926403045654, 4.709510326385498, 5.510167598724365, 4.675189018249512, 16.0430908203125, 39.22844314575195, 9.283905029296875, 114.70153045654297, 10.674468040466309, 5900.61572265625, 556.9170532226562, 667.84228515625, 102.44206237792969, 51.98202896118164, 138.59527587890625, 232.1660614013672, 24.156660079956055, 128.0025177001953, 54.74285888671875, 46.37194061279297, 1097.7540283203125, 49.4462776184082, 143.69471740722656, 53.417884826660156, 138.05987548828125, 156.97727966308594, 77.06025695800781, 7867.6259765625, 1956.791259765625, 217.48492431640625, 549.1306762695312, 3102.114501953125, 1701.3544921875, 704.0892944335938, 90.58610534667969, 809.4472045898438, 297.44970703125, 320.0462646484375, 171.4175567626953, 573.8458251953125, 1225.183837890625, 845.505126953125, 56.971866607666016, 4351.3671875, 4282.94873046875, 1075.8819580078125, 1207.382568359375, 515.0023193359375, 425.75543212890625, 489.2763977050781, 317.0714416503906, 1948.7359619140625, 1251.921630859375, 1027.0806884765625, 1483.50537109375, 479.1080627441406, 1095.2529296875, 1398.38134765625, 732.6619262695312, 2484.79248046875, 1666.0196533203125, 978.466064453125, 765.9071044921875, 18.176498413085938, 14.464861869812012, 11.45398235321045, 9.370622634887695, 9.332169532775879, 20.81970977783203, 7.269453525543213, 7.2230000495910645, 6.700961589813232, 5.4025397300720215, 5.389106273651123, 5.384239673614502, 5.354727268218994, 12.718006134033203, 5.964305400848389, 6.342911720275879, 10.15756607055664, 4.11384916305542, 4.10426664352417, 4.104333877563477, 4.100011348724365, 4.08773136138916, 4.078105926513672, 4.065468788146973, 4.058477878570557, 3.993321657180786, 4.1182169914245605, 3.9127004146575928, 3.8522043228149414, 5.861217498779297, 3.7133383750915527, 4.028338432312012, 4.105204105377197, 4.090923309326172, 4.105801105499268, 13.551992416381836, 4.129456043243408, 4.0305352210998535, 4.109128475189209, 3.3276877403259277, 52.826072692871094, 11.275713920593262, 10.73016357421875, 19.91861343383789, 5.166214466094971, 29.05236053466797, 17.784648895263672, 20.936325073242188, 8.883256912231445, 150.71041870117188, 58.97496795654297, 1483.50537109375, 1948.7359619140625, 31.700313568115234, 21.84077262878418, 120.79460144042969, 18.92446517944336, 47.73194885253906, 19.664918899536133, 17.09278106689453, 79.84471893310547, 33.91997528076172, 16.98672103881836, 4351.3671875, 1207.382568359375, 1666.0196533203125, 7867.6259765625, 441.8429260253906, 641.831787109375, 489.2763977050781, 82.77655029296875, 133.35784912109375, 56.55362319946289, 920.0643920898438, 2484.79248046875, 4282.94873046875, 532.2991333007812, 736.366455078125, 205.23150634765625, 346.6787109375, 696.0397338867188, 1727.438720703125, 1095.2529296875, 1225.183837890625, 1075.8819580078125, 3102.114501953125, 1701.3544921875, 227.5331268310547, 535.4953002929688, 765.9071044921875, 845.505126953125, 312.20928955078125, 1027.0806884765625, 738.6884765625, 573.8458251953125, 1251.921630859375, 1956.791259765625, 1398.38134765625, 566.1983032226562, 391.55535888671875, 5900.61572265625, 1097.7540283203125, 687.943115234375, 517.7594604492188, 439.638916015625, 12.18277645111084, 10.538005828857422, 9.351645469665527, 7.1279988288879395, 7.025060176849365, 5.480286598205566, 4.813507080078125, 4.782712936401367, 4.780712127685547, 6.033441066741943, 4.618860244750977, 3.696714401245117, 3.5617830753326416, 4.211907386779785, 81.66267395019531, 3.7041878700256348, 9.192002296447754, 5.333739280700684, 4.88770055770874, 7.853670120239258, 3.0197184085845947, 3.018596887588501, 6.552093982696533, 3.6997718811035156, 3.721518039703369, 3.046980142593384, 5.444904804229736, 3.0391178131103516, 8.083305358886719, 3.7128117084503174, 2.560615062713623, 2.5595831871032715, 2.5596566200256348, 2.5583882331848145, 2.5557665824890137, 2.5526044368743896, 2.551011562347412, 2.5473122596740723, 2.5462281703948975, 2.5364625453948975, 75.95918273925781, 69.0511474609375, 28.047014236450195, 69.17219543457031, 6.743020534515381, 5.052419185638428, 11.611344337463379, 9.294356346130371, 15.567764282226562, 10.939238548278809, 6.4807939529418945, 19.452720642089844, 1075.8819580078125, 74.74443817138672, 80.6813735961914, 135.7136688232422, 1225.183837890625, 28.333932876586914, 46.659751892089844, 174.147705078125, 362.5655822753906, 62.929264068603516, 124.09344482421875, 4282.94873046875, 4351.3671875, 7867.6259765625, 2484.79248046875, 3102.114501953125, 313.45123291015625, 1956.791259765625, 1483.50537109375, 687.943115234375, 195.90835571289062, 218.76173400878906, 49.83127975463867, 1666.0196533203125, 5900.61572265625, 677.6019897460938, 556.9170532226562, 523.27978515625, 1398.38134765625, 1948.7359619140625, 451.91326904296875, 585.6459350585938, 417.7655029296875, 344.59576416015625, 732.6619262695312, 1701.3544921875, 765.9071044921875, 549.1306762695312, 676.1188354492188, 1095.2529296875, 1097.7540283203125, 667.1981201171875, 1918.7052001953125, 809.4472045898438, 573.8458251953125, 11.990562438964844, 9.95662784576416, 9.317525863647461, 8.524299621582031, 7.685164451599121, 7.0615129470825195, 7.0926713943481445, 5.70188045501709, 5.6387104988098145, 5.63810920715332, 18.879776000976562, 5.558445930480957, 5.457614421844482, 7.677276611328125, 4.3301825523376465, 4.32010555267334, 4.294859886169434, 4.275631427764893, 4.193284511566162, 4.276684761047363, 27.501230239868164, 4.317872524261475, 3.479360818862915, 3.5366506576538086, 3.4475014209747314, 4.123926162719727, 11.050992012023926, 9.100090026855469, 6.359353542327881, 6.244960784912109, 5.5523457527160645, 7.2791571617126465, 2.924910068511963, 2.9141483306884766, 2.9140353202819824, 2.912811279296875, 2.9118025302886963, 2.915562629699707, 2.8964033126831055, 2.894986629486084, 7.730742454528809, 45.295013427734375, 4.829664707183838, 15.11983871459961, 56.693138122558594, 4.159670829772949, 4.885269641876221, 20.40384864807129, 66.53472137451172, 1027.0806884765625, 84.61140441894531, 226.17822265625, 16.3652286529541, 100.30778503417969, 33.147823333740234, 229.3369903564453, 69.0431137084961, 118.0244369506836, 47.54199981689453, 394.83917236328125, 161.32449340820312, 313.4981384277344, 24.116315841674805, 1701.3544921875, 313.03643798828125, 99.7977066040039, 109.12529754638672, 79.81887817382812, 260.55975341796875, 4351.3671875, 5900.61572265625, 1948.7359619140625, 7867.6259765625, 94.62649536132812, 77.93592834472656, 95.0379867553711, 1207.382568359375, 1251.921630859375, 402.157958984375, 765.9071044921875, 517.7594604492188, 677.6019897460938, 809.4472045898438, 189.53070068359375, 1075.8819580078125, 2484.79248046875, 1918.7052001953125, 845.505126953125, 1666.0196533203125, 1225.183837890625, 667.1981201171875, 535.4953002929688, 1097.7540283203125, 1956.791259765625, 3102.114501953125, 1398.38134765625, 920.0643920898438, 676.1188354492188, 16.52597427368164, 9.014044761657715, 8.884540557861328, 6.977315902709961, 10.326750755310059, 5.76859712600708, 5.655313968658447, 4.66848087310791, 4.587521553039551, 5.7496795654296875, 29.085865020751953, 4.036460876464844, 15.460027694702148, 4.719786643981934, 12.754544258117676, 3.5883467197418213, 3.5284616947174072, 3.4292895793914795, 4.034571647644043, 9.092458724975586, 3.6103973388671875, 3.6380302906036377, 15.8807373046875, 6.832896709442139, 3.496399164199829, 9.392916679382324, 2.4998981952667236, 2.495372772216797, 2.4831631183624268, 2.4811925888061523, 2.4782090187072754, 2.471381902694702, 2.471219062805176, 2.4634647369384766, 2.4374866485595703, 9.937458992004395, 3.6403510570526123, 2.4535627365112305, 5.9560394287109375, 10.205955505371094, 8.936783790588379, 5.8136467933654785, 8.46236801147461, 26.297225952148438, 28.58850860595703, 10.545812606811523, 19.386653900146484, 8.277743339538574, 8.398282051086426, 3.6753973960876465, 16.079875946044922, 32.680694580078125, 164.76332092285156, 100.71138763427734, 21.655670166015625, 18.944042205810547, 4351.3671875, 2484.79248046875, 7867.6259765625, 441.8429260253906, 226.17822265625, 59.7235221862793, 30.333740234375, 5900.61572265625, 1701.3544921875, 4282.94873046875, 417.7655029296875, 3102.114501953125, 1251.921630859375, 1483.50537109375, 402.157958984375, 1027.0806884765625, 585.6459350585938, 100.68003845214844, 294.55487060546875, 687.943115234375, 1075.8819580078125, 1956.791259765625, 316.8282470703125, 676.1188354492188, 738.6884765625, 1097.7540283203125, 137.40646362304688, 1225.183837890625, 736.366455078125, 667.1981201171875, 457.9482421875, 320.5161437988281, 316.1993408203125, 1207.382568359375, 1948.7359619140625, 1666.0196533203125, 535.4953002929688, 765.9071044921875, 397.9508361816406, 323.1279602050781, 1398.38134765625, 573.8458251953125], \"loglift\": [40.0, 39.0, 38.0, 37.0, 36.0, 35.0, 34.0, 33.0, 32.0, 31.0, 30.0, 29.0, 28.0, 27.0, 26.0, 25.0, 24.0, 23.0, 22.0, 21.0, 20.0, 19.0, 18.0, 17.0, 16.0, 15.0, 14.0, 13.0, 12.0, 11.0, 10.0, 9.0, 8.0, 7.0, 6.0, 5.0, 4.0, 3.0, 2.0, 1.0, 1.0341999530792236, 1.0295000076293945, 1.0152000188827515, 0.9994000196456909, 0.9973000288009644, 0.9952999949455261, 0.9919999837875366, 0.9919999837875366, 0.9876999855041504, 0.9848999977111816, 0.9830999970436096, 0.9782999753952026, 0.972000002861023, 0.9717000126838684, 0.9690999984741211, 0.963100016117096, 0.9623000025749207, 0.9605000019073486, 0.9599999785423279, 0.9593999981880188, 0.9563000202178955, 0.9563000202178955, 0.9560999870300293, 0.9545999765396118, 0.9495000243186951, 0.9473000168800354, 0.944599986076355, 0.9433000087738037, 0.9409999847412109, 0.9391999840736389, 0.9366000294685364, 0.9358999729156494, 0.9355000257492065, 0.9351000189781189, 0.9348999857902527, 0.9348999857902527, 0.9345999956130981, 0.934499979019165, 0.934499979019165, 0.934499979019165, 0.6872000098228455, 0.5911999940872192, 0.5903000235557556, 0.8481000065803528, 0.8704000115394592, 0.9182000160217285, 0.8600999712944031, 0.8773999810218811, 0.7567999958992004, 0.29589998722076416, 0.9232000112533569, 0.5317000150680542, 0.24079999327659607, 0.33730000257492065, 0.46389999985694885, 0.4691999852657318, 0.07090000063180923, 0.5354999899864197, 0.4514999985694885, 0.6158999800682068, 0.44339999556541443, 0.3402000069618225, 0.6970000267028809, 0.3499000072479248, 0.4172999858856201, 0.6693000197410583, 0.1534000039100647, 0.5774000287055969, 0.600600004196167, 0.6183000206947327, 0.4519999921321869, 0.5641000270843506, 0.6359999775886536, -0.14650000631809235, 0.4903999865055084, 0.16189999878406525, 0.6319000124931335, 0.3862999975681305, 0.08160000294446945, 0.19990000128746033, -0.06340000033378601, -0.027799999341368675, 0.22470000386238098, 0.22200000286102295, 0.2802000045776367, -0.2572999894618988, 0.2281000018119812, 0.4083999991416931, 0.27799999713897705, 0.2705000042915344, 0.007699999958276749, -0.05790000036358833, 0.1395999938249588, 0.11270000040531158, -0.0989999994635582, 0.30550000071525574, -0.2913999855518341, -0.195700004696846, -0.14419999718666077, 0.010599999688565731, 0.08030000329017639, -0.27559998631477356, -0.08820000290870667, -0.017500000074505806, 1.8091000318527222, 1.7980999946594238, 1.7891000509262085, 1.780500054359436, 1.7721999883651733, 1.7651000022888184, 1.7646000385284424, 1.7484999895095825, 1.7460999488830566, 1.7445000410079956, 1.7229000329971313, 1.7222000360488892, 1.7222000360488892, 1.7161999940872192, 1.715399980545044, 1.7151999473571777, 1.710800051689148, 1.7103999853134155, 1.7095999717712402, 1.7069000005722046, 1.7028000354766846, 1.7021000385284424, 1.6957999467849731, 1.693600058555603, 1.6916999816894531, 1.6912000179290771, 1.6892999410629272, 1.688599944114685, 1.680299997329712, 1.6780999898910522, 1.6779999732971191, 1.6680999994277954, 1.6663999557495117, 1.6643999814987183, 1.6634999513626099, 1.6633000373840332, 1.6633000373840332, 1.663100004196167, 1.663100004196167, 1.6628999710083008, 1.6032999753952026, 1.6294000148773193, 1.5795999765396118, 1.5842000246047974, 1.6240999698638916, 1.1260000467300415, 1.1913000345230103, 1.3009999990463257, 1.264299988746643, 1.5388000011444092, 1.5291999578475952, 0.7261999845504761, 1.5642999410629272, 1.243399977684021, 1.0543999671936035, 1.3875000476837158, 1.0542999505996704, 1.3163000345230103, 1.2735999822616577, 0.41510000824928284, 0.26269999146461487, 0.6407999992370605, 0.722000002861023, 0.40389999747276306, 0.880299985408783, 0.8702999949455261, 0.6026999950408936, 0.6797000169754028, 0.9327999949455261, 1.1438000202178955, 1.0368000268936157, -0.20589999854564667, 0.4683000147342682, 0.660099983215332, 0.15029999613761902, -0.22220000624656677, 0.10790000110864639, -0.44749999046325684, 0.16200000047683716, 0.09099999815225601, 0.4431000053882599, 0.29019999504089355, 0.9855999946594238, 0.8309999704360962, 0.44780001044273376, 0.04270000010728836, -0.2434999942779541, 0.3587999939918518, 0.38999998569488525, -0.18649999797344208, 0.29739999771118164, 0.10000000149011612, 0.5189999938011169, -0.19859999418258667, -0.23000000417232513, -0.5990999937057495, 0.20160000026226044, -0.9312999844551086, -0.4244000017642975, -0.8144999742507935, -0.3301999866962433, -0.07440000027418137, 2.1965999603271484, 2.1907999515533447, 2.178100109100342, 2.173799991607666, 2.173799991607666, 2.172800064086914, 2.1638998985290527, 2.151099920272827, 2.1466000080108643, 2.1394999027252197, 2.1387999057769775, 2.1157000064849854, 2.1040000915527344, 2.0929999351501465, 2.083400011062622, 2.0804998874664307, 2.0713000297546387, 2.0601999759674072, 2.056999921798706, 2.0541999340057373, 2.0539000034332275, 2.0524001121520996, 2.0506999492645264, 2.047499895095825, 2.0452001094818115, 2.043100118637085, 2.039599895477295, 2.0329999923706055, 2.0327999591827393, 2.0267999172210693, 2.01990008354187, 2.014899969100952, 2.0095999240875244, 2.0037999153137207, 2.002700090408325, 1.998900055885315, 1.9889999628067017, 1.9871000051498413, 1.9840999841690063, 1.9735000133514404, 1.9673999547958374, 1.8894000053405762, 1.809499979019165, 1.8496999740600586, 1.7156000137329102, 1.913699984550476, 1.9672000408172607, 1.6634999513626099, 1.3307000398635864, 1.68149995803833, 1.5322999954223633, 1.5183000564575195, 1.3919999599456787, 1.0505000352859497, 1.3543000221252441, 1.2288999557495117, 0.8125, 0.5605000257492065, 1.0099999904632568, 1.0743999481201172, 1.220900058746338, 1.3193999528884888, 1.5759999752044678, 0.9948999881744385, 1.4055999517440796, -0.1354999989271164, 0.7436000108718872, 0.7692999839782715, 0.7091000080108643, 1.2551000118255615, 1.1360000371932983, 1.329200029373169, 1.2858999967575073, 1.2999000549316406, 1.440999984741211, 0.04809999838471413, 0.7084000110626221, 0.08789999783039093, 0.05939999967813492, 0.3544999957084656, -0.4551999866962433, 0.09570000320672989, 1.1749000549316406, -0.13019999861717224, -0.9526000022888184, -0.13590000569820404, 0.7983999848365784, -0.43560001254081726, 0.366100013256073, -0.17990000545978546, 0.3361000120639801, -0.6096000075340271, 0.5019999742507935, 0.09849999845027924, -0.179299995303154, -0.28780001401901245, -0.22859999537467957, 0.18330000340938568, 2.217600107192993, 2.217400074005127, 2.196500062942505, 2.1953999996185303, 2.1830999851226807, 2.177500009536743, 2.1695001125335693, 2.159600019454956, 2.1582999229431152, 2.150700092315674, 2.1500000953674316, 2.142199993133545, 2.1419999599456787, 2.1403000354766846, 2.120699882507324, 2.1136999130249023, 2.1006999015808105, 2.0934998989105225, 2.092900037765503, 2.0910000801086426, 2.0908000469207764, 2.0903000831604004, 2.0894999504089355, 2.0887999534606934, 2.0861001014709473, 2.0806000232696533, 2.0792999267578125, 2.071899890899658, 2.0664000511169434, 2.0638999938964844, 2.0559000968933105, 2.036799907684326, 2.0290000438690186, 2.026700019836426, 2.015199899673462, 2.0144999027252197, 2.012700080871582, 2.009000062942505, 1.9984999895095825, 1.9983999729156494, 1.997499942779541, 1.948199987411499, 1.9594000577926636, 1.914199948310852, 1.976099967956543, 1.6638000011444092, 1.572700023651123, 1.7548999786376953, 1.9009000062942505, 1.8408000469207764, 1.757099986076355, 1.9443000555038452, 0.8592000007629395, 0.1177000030875206, 1.2074999809265137, 1.3873000144958496, 1.3317999839782715, 1.083299994468689, 1.760699987411499, 1.5429999828338623, 1.545799970626831, 0.375900000333786, 0.01810000091791153, 0.29409998655319214, 0.3034999966621399, 0.490200012922287, 0.6338000297546387, 0.9226999878883362, 1.4249999523162842, 0.34929999709129333, 1.0713000297546387, 0.5058000087738037, -0.4390999972820282, -0.32710000872612, -0.05130000039935112, 0.18569999933242798, 0.3986000120639801, 0.6377999782562256, -0.3287999927997589, -0.16089999675750732, -0.0034000000450760126, 0.0892999991774559, 0.5286999940872192, 0.7092999815940857, 0.6319000124931335, 0.8851000070571899, 0.8489000201225281, -0.08579999953508377, 0.013199999928474426, -0.4422000050544739, 0.08609999716281891, 0.23360000550746918, 0.12200000137090683, -0.4043000042438507, 0.3700999915599823, -1.0041999816894531, -0.6875, 0.06300000101327896, -0.05979999899864197, 0.27410000562667847, -0.36800000071525574, -0.5346999764442444, -0.5019999742507935, 2.2690999507904053, 2.261399984359741, 2.240499973297119, 2.234100103378296, 2.2339999675750732, 2.2327001094818115, 2.229099988937378, 2.2274999618530273, 2.223599910736084, 2.2044999599456787, 2.1939001083374023, 2.183199882507324, 2.1823999881744385, 2.18179988861084, 2.1814000606536865, 2.1812000274658203, 2.1810998916625977, 2.1749000549316406, 2.169300079345703, 2.166599988937378, 2.1633999347686768, 2.1577000617980957, 2.1549999713897705, 2.148200035095215, 2.1480000019073486, 2.147900104522705, 2.147599935531616, 2.14739990234375, 2.1465001106262207, 2.146199941635132, 2.140899896621704, 2.1373000144958496, 2.1231000423431396, 2.1219000816345215, 2.1171000003814697, 2.116499900817871, 2.1159000396728516, 2.115799903869629, 2.1143999099731445, 2.114000082015991, 2.1113998889923096, 1.9704999923706055, 2.10260009765625, 1.8486000299453735, 2.0857999324798584, 1.4515000581741333, 1.4996999502182007, 1.436400055885315, 1.784600019454956, 1.8899999856948853, 1.6686999797821045, 1.4970999956130981, 1.9397000074386597, 1.6016000509262085, 1.7628999948501587, 1.7803000211715698, 1.0743999481201172, 1.7447999715805054, 1.408400058746338, 1.6325000524520874, 1.330399990081787, 1.2710000276565552, 1.4752999544143677, -0.23999999463558197, 0.30630001425743103, 1.1375999450683594, 0.7610999941825867, 0.0575999990105629, 0.22910000383853912, 0.536899983882904, 1.355299949645996, 0.47859999537467957, 0.7788000106811523, 0.7394999861717224, 1.0448999404907227, 0.3953000009059906, 0.0008999999845400453, 0.16930000483989716, 1.5154000520706177, -0.6931999921798706, -0.708299994468689, -0.008200000040233135, -0.1242000013589859, 0.3637999892234802, 0.4668000042438507, 0.37540000677108765, 0.6046000123023987, -0.5551999807357788, -0.2624000012874603, -0.17499999701976776, -0.4490000009536743, 0.34150001406669617, -0.25029999017715454, -0.512499988079071, -0.025499999523162842, -1.055899977684021, -0.7121999859809875, -0.3269999921321869, -0.21649999916553497, 2.574700117111206, 2.5620999336242676, 2.5445001125335693, 2.5267999172210693, 2.525599956512451, 2.5102999210357666, 2.498199939727783, 2.4971001148223877, 2.486599922180176, 2.450900077819824, 2.4504001140594482, 2.450200080871582, 2.4489998817443848, 2.444700002670288, 2.425100088119507, 2.4249000549316406, 2.393899917602539, 2.3903000354766846, 2.3896000385284424, 2.3896000385284424, 2.3893001079559326, 2.3884999752044678, 2.387700080871582, 2.386899948120117, 2.3863000869750977, 2.381700038909912, 2.3798000812530518, 2.375200033187866, 2.371000051498413, 2.361799955368042, 2.3596999645233154, 2.357300043106079, 2.339600086212158, 2.3245999813079834, 2.321199893951416, 2.3183999061584473, 2.317500114440918, 2.3134000301361084, 2.3131000995635986, 2.3124001026153564, 2.2546000480651855, 2.310800075531006, 2.3073999881744385, 2.167799949645996, 2.29830002784729, 2.00600004196167, 2.0985000133514404, 2.0596001148223877, 2.1919000148773193, 1.5827000141143799, 1.808500051498413, 0.8363999724388123, 0.7340999841690063, 1.936400055885315, 2.0106000900268555, 1.4774999618530273, 2.031399965286255, 1.719599962234497, 1.982100009918213, 2.0218000411987305, 1.5516999959945679, 1.8009999990463257, 2.0002999305725098, 0.2946000099182129, 0.5838000178337097, 0.44609999656677246, -0.25609999895095825, 0.8632000088691711, 0.6877999901771545, 0.7918000221252441, 1.4957000017166138, 1.2842999696731567, 1.59660005569458, 0.4772000014781952, -0.11569999903440475, -0.3971000015735626, 0.5812000036239624, 0.3319000005722046, 0.954800009727478, 0.6901999711990356, 0.32190001010894775, -0.13500000536441803, 0.08240000158548355, 0.01140000019222498, 0.07829999923706055, -0.6129999756813049, -0.3174999952316284, 0.8665000200271606, 0.3481000065803528, 0.12479999661445618, 0.05310000106692314, 0.650600016117096, -0.14589999616146088, 0.0215000007301569, 0.16060000658035278, -0.48980000615119934, -0.8622999787330627, -0.6226999759674072, 0.08699999749660492, 0.3693999946117401, -1.8229999542236328, -0.4869999885559082, -0.08510000258684158, 0.09910000115633011, 0.24250000715255737, 2.9421000480651855, 2.9298999309539795, 2.9184000492095947, 2.885999917984009, 2.883699893951416, 2.841200113296509, 2.8169000148773193, 2.8152999877929688, 2.8150999546051025, 2.8129000663757324, 2.806299924850464, 2.7451000213623047, 2.735599994659424, 2.734299898147583, 2.7177999019622803, 2.7086000442504883, 2.7039999961853027, 2.703900098800659, 2.7004001140594482, 2.6898000240325928, 2.6768999099731445, 2.676800012588501, 2.6575000286102295, 2.653899908065796, 2.6535000801086426, 2.626800060272217, 2.6178998947143555, 2.613100051879883, 2.611299991607666, 2.603100061416626, 2.601799964904785, 2.601599931716919, 2.601599931716919, 2.6010000705718994, 2.600800037384033, 2.5999999046325684, 2.5996999740600586, 2.598900079727173, 2.59879994392395, 2.5964999198913574, 2.4161999225616455, 2.42330002784729, 2.513000011444092, 2.416599988937378, 2.569000005722046, 2.586899995803833, 2.4783999919891357, 2.473099946975708, 2.3635001182556152, 2.4337000846862793, 2.506700038909912, 2.2767999172210693, 1.2860000133514404, 1.876099944114685, 1.8396999835968018, 1.6692999601364136, 0.9873999953269958, 2.116300106048584, 1.938099980354309, 1.4531999826431274, 1.103700041770935, 1.795300006866455, 1.5217000246047974, 0.10159999877214432, -0.023399999365210533, -0.4602999985218048, 0.05000000074505806, -0.07750000059604645, 1.0156999826431274, 0.09860000014305115, 0.2152000069618225, 0.5952000021934509, 1.1712000370025635, 1.0509999990463257, 1.7575000524520874, -0.16290000081062317, -0.9373999834060669, 0.3379000127315521, 0.43380001187324524, 0.45509999990463257, -0.14239999651908875, -0.3790000081062317, 0.4796999990940094, 0.3151000142097473, 0.5115000009536743, 0.6202999949455261, 0.13429999351501465, -0.48500001430511475, -0.00860000029206276, 0.22020000219345093, 0.04800000041723251, -0.3431999981403351, -0.3736000061035156, 0.0357000008225441, -1.016700029373169, -0.1720999926328659, 0.13169999420642853, 3.21589994430542, 3.2011001110076904, 3.19350004196167, 3.18530011177063, 3.1712000370025635, 3.1619999408721924, 3.147599935531616, 3.128999948501587, 3.126800060272217, 3.126699924468994, 3.125499963760376, 3.124000072479248, 3.1201000213623047, 3.0901999473571777, 3.0720999240875244, 3.071500062942505, 3.0699000358581543, 3.0687999725341797, 3.0634000301361084, 3.0536999702453613, 3.0520999431610107, 3.022200107574463, 3.010499954223633, 3.0100998878479004, 3.0074000358581543, 3.0048999786376953, 2.9858999252319336, 2.9820001125335693, 2.9804000854492188, 2.974900007247925, 2.9658000469207764, 2.9481000900268555, 2.9475998878479004, 2.946000099182129, 2.946000099182129, 2.9458000659942627, 2.94569993019104, 2.9437999725341797, 2.9433999061584473, 2.9400999546051025, 2.930500030517578, 2.744499921798706, 2.9379000663757324, 2.8141000270843506, 2.6756999492645264, 2.9293999671936035, 2.903599977493286, 2.729599952697754, 2.4161999225616455, 1.666599988937378, 2.2834999561309814, 1.9558000564575195, 2.6340999603271484, 2.0676000118255615, 2.3835999965667725, 1.7172000408172607, 2.1152000427246094, 1.8941999673843384, 2.2495999336242676, 1.3919999599456787, 1.7107000350952148, 1.4248000383377075, 2.4007999897003174, 0.5742999911308289, 1.288699984550476, 1.8306000232696533, 1.77839994430542, 1.910599946975708, 1.2580000162124634, -0.2303999960422516, -0.48489999771118164, -0.006399999838322401, -0.9409000277519226, 1.6526999473571777, 1.7477999925613403, 1.5983999967575073, 0.021199999377131462, -0.0333000011742115, 0.7107999920845032, 0.24959999322891235, 0.4618000090122223, 0.27230000495910645, 0.1476999968290329, 1.1615999937057495, -0.07940000295639038, -0.7603999972343445, -0.6072999835014343, 0.015399999916553497, -0.5321999788284302, -0.3499999940395355, 0.10790000110864639, 0.3028999865055084, -0.3944000005722046, -0.9229000210762024, -1.4371999502182007, -0.6499000191688538, -0.24480000138282776, 0.005200000014156103, 3.303100109100342, 3.2558000087738037, 3.2539000511169434, 3.220900058746338, 3.211199998855591, 3.1937999725341797, 3.1895999908447266, 3.150899887084961, 3.140899896621704, 3.1326000690460205, 3.1196999549865723, 3.1143999099731445, 3.114000082015991, 3.090100049972534, 3.083400011062622, 3.079400062561035, 3.0734000205993652, 3.0631000995635986, 3.060699939727783, 3.057499885559082, 3.0308001041412354, 2.979099988937378, 2.95770001411438, 2.9560000896453857, 2.946199893951416, 2.935800075531006, 2.928999900817871, 2.9279000759124756, 2.925100088119507, 2.9245998859405518, 2.9240000247955322, 2.9221999645233154, 2.922100067138672, 2.920300006866455, 2.914099931716919, 2.9133999347686768, 2.9082999229431152, 2.8975000381469727, 2.8931000232696533, 2.8854000568389893, 2.8522000312805176, 2.876699924468994, 2.798799991607666, 2.650899887084961, 2.59879994392395, 2.756500005722046, 2.6333999633789062, 2.7962000370025635, 2.7471001148223877, 2.8659000396728516, 2.534600019454956, 2.305000066757202, 1.7937999963760376, 1.7936999797821045, 2.3376998901367188, 2.3887999057769775, -0.050999999046325684, 0.2273000031709671, -0.37599998712539673, 0.8654000163078308, 1.1812000274658203, 1.830899953842163, 2.1461000442504883, -0.49939998984336853, 0.07069999724626541, -0.5536999702453613, 0.7494999766349792, -0.4569999873638153, 0.08330000191926956, -0.041999999433755875, 0.6863999962806702, 0.11640000343322754, 0.44690001010894775, 1.444599986076355, 0.7942000031471252, 0.25459998846054077, -0.12300000339746475, -0.5443000197410583, 0.7195000052452087, 0.18700000643730164, 0.08259999752044678, -0.25130000710487366, 1.1991000175476074, -0.39239999651908875, -0.031300000846385956, 0.045099999755620956, 0.29429998993873596, 0.5730000138282776, 0.5523999929428101, -0.5293999910354614, -0.9613000154495239, -0.8382999897003174, 0.09260000288486481, -0.24860000610351562, 0.33070001006126404, 0.49459999799728394, -0.8974000215530396, -0.05249999836087227], \"logprob\": [40.0, 39.0, 38.0, 37.0, 36.0, 35.0, 34.0, 33.0, 32.0, 31.0, 30.0, 29.0, 28.0, 27.0, 26.0, 25.0, 24.0, 23.0, 22.0, 21.0, 20.0, 19.0, 18.0, 17.0, 16.0, 15.0, 14.0, 13.0, 12.0, 11.0, 10.0, 9.0, 8.0, 7.0, 6.0, 5.0, 4.0, 3.0, 2.0, 1.0, -7.928299903869629, -4.5879998207092285, -7.536399841308594, -8.711700439453125, -8.802900314331055, -8.853599548339844, -8.904199600219727, -8.904500007629395, -8.708800315856934, -8.513500213623047, -9.029999732971191, -8.98449993133545, -9.044699668884277, -9.173299789428711, -8.937700271606445, -9.270299911499023, -7.736599922180176, -9.055899620056152, -8.584099769592285, -8.846500396728516, -9.340900421142578, -9.34119987487793, -9.343299865722656, -9.134599685668945, -9.282699584960938, -8.675600051879883, -9.453300476074219, -8.971400260925293, -8.9128999710083, -9.36400032043457, -9.299599647521973, -8.917499542236328, -9.035599708557129, -9.36620044708252, -9.539400100708008, -9.53950023651123, -9.541299819946289, -9.541999816894531, -9.541999816894531, -9.541999816894531, -4.1975998878479, -4.035099983215332, -4.399499893188477, -7.183800220489502, -7.982600212097168, -8.489700317382812, -7.984300136566162, -8.22599983215332, -7.306600093841553, -3.1779000759124756, -8.883600234985352, -5.493199825286865, -3.841099977493286, -4.527900218963623, -5.094399929046631, -5.441400051116943, -3.9951000213623047, -6.101500034332275, -5.862199783325195, -6.5914998054504395, -5.974400043487549, -5.587699890136719, -7.019899845123291, -5.678500175476074, -6.03439998626709, -7.102399826049805, -5.047699928283691, -6.766900062561035, -6.866099834442139, -6.942699909210205, -6.278500080108643, -6.7322998046875, -7.03249979019165, -3.907900094985962, -6.486000061035156, -5.186200141906738, -7.104599952697754, -6.1956000328063965, -5.060500144958496, -5.50439977645874, -4.932700157165527, -5.053800106048584, -5.647600173950195, -5.70359992980957, -5.903900146484375, -4.661799907684326, -5.877200126647949, -6.331999778747559, -6.0395002365112305, -6.035600185394287, -5.43779993057251, -5.369699954986572, -5.759300231933594, -5.729800224304199, -5.542300224304199, -6.172900199890137, -5.296500205993652, -5.529099941253662, -5.607600212097168, -5.828800201416016, -5.899700164794922, -5.785399913787842, -5.89139986038208, -5.957699775695801, -7.8109002113342285, -8.013400077819824, -8.151700019836426, -8.273300170898438, -7.939700126647949, -8.307000160217285, -8.46090030670166, -8.251999855041504, -8.648799896240234, -8.6628999710083, -8.634400367736816, -7.588799953460693, -8.798100471496582, -8.897299766540527, -8.902999877929688, -8.904800415039062, -8.902199745178223, -8.936699867248535, -8.69279956817627, -8.960700035095215, -8.922599792480469, -8.934200286865234, -7.715199947357178, -8.929200172424316, -8.945500373840332, -7.805600166320801, -9.083100318908691, -8.269599914550781, -8.943900108337402, -8.306900024414062, -9.100899696350098, -8.964699745178223, -8.659600257873535, -9.232199668884277, -9.236700057983398, -9.237299919128418, -8.977399826049805, -9.238699913024902, -8.65530014038086, -9.239899635314941, -5.469699859619141, -7.829599857330322, -7.822999954223633, -7.977200031280518, -8.403800010681152, -5.14139986038208, -5.8024001121521, -6.271999835968018, -6.617700099945068, -7.936200141906738, -7.929699897766113, -4.719299793243408, -8.09469985961914, -6.8302001953125, -6.125199794769287, -7.472700119018555, -6.175300121307373, -7.2519001960754395, -7.098499774932861, -3.989300012588501, -3.803299903869629, -4.979000091552734, -5.324999809265137, -4.601200103759766, -5.721499919891357, -5.860899925231934, -5.236700057983398, -5.456200122833252, -6.143099784851074, -6.688199996948242, -6.57480001449585, -3.6796000003814697, -5.279600143432617, -5.805699825286865, -4.718999862670898, -4.303999900817871, -4.918099880218506, -4.209000110626221, -5.17140007019043, -5.110199928283691, -5.723999977111816, -5.552299976348877, -6.651400089263916, -6.4532999992370605, -5.905099868774414, -5.305300235748291, -5.128300189971924, -5.802299976348877, -5.868899822235107, -5.32859992980957, -5.882199764251709, -5.703199863433838, -6.161399841308594, -5.708399772644043, -5.693299770355225, -5.464300155639648, -5.993199825286865, -5.557600021362305, -5.736199855804443, -5.804299831390381, -5.888500213623047, -5.921999931335449, -7.196400165557861, -7.371600151062012, -7.610099792480469, -7.691800117492676, -7.69189977645874, -7.641499996185303, -7.817999839782715, -8.003199577331543, -7.569799900054932, -6.901500225067139, -7.870200157165527, -8.229499816894531, -8.457200050354004, -8.50059986114502, -8.029899597167969, -8.615400314331055, -8.280599594116211, -8.200900077819824, -8.116600036621094, -8.797200202941895, -8.798800468444824, -8.801400184631348, -8.816300392150879, -8.819999694824219, -8.821700096130371, -8.808799743652344, -8.873900413513184, -7.694399833679199, -7.696899890899658, -8.835000038146973, -8.848999977111816, -8.843199729919434, -7.754899978637695, -8.279399871826172, -9.069999694824219, -8.753899574279785, -8.297200202941895, -7.702499866485596, -8.940299987792969, -8.623900413513184, -6.288700103759766, -6.260200023651123, -5.7631001472473145, -6.342700004577637, -5.262700080871582, -7.465000152587891, -8.019000053405762, -5.693399906158447, -4.516900062561035, -6.020599842071533, -5.4704999923706055, -5.772600173950195, -5.558300018310547, -4.261300086975098, -5.492800235748291, -5.043499946594238, -3.5920000076293945, -3.521399974822998, -4.877299785614014, -5.125699996948242, -5.52810001373291, -6.088399887084961, -6.751500129699707, -5.454899787902832, -6.438399791717529, -3.6092000007629395, -5.004300117492676, -5.171899795532227, -5.163300037384033, -6.102399826049805, -6.015399932861328, -6.307600021362305, -6.305600166320801, -6.343800067901611, -6.579100131988525, -4.816999912261963, -5.542900085449219, -4.938199996948242, -4.9456000328063965, -5.2652997970581055, -4.521200180053711, -5.105500221252441, -6.207600116729736, -5.120100021362305, -4.714099884033203, -5.2779998779296875, -5.908599853515625, -5.320400238037109, -5.70550012588501, -5.527900218963623, -5.7108001708984375, -5.478899955749512, -5.804100036621094, -5.704699993133545, -5.642600059509277, -5.621200084686279, -5.671800136566162, -5.74459981918335, -7.9558000564575195, -7.956900119781494, -8.100199699401855, -8.115500450134277, -8.29740047454834, -6.911399841308594, -7.723100185394287, -7.1595001220703125, -7.691800117492676, -8.542699813842773, -8.54699993133545, -8.594300270080566, -8.550100326538086, -8.55459976196289, -8.730799674987793, -8.621399879455566, -8.39009952545166, -8.87969970703125, -8.88230037689209, -8.891599655151367, -8.892499923706055, -8.8951997756958, -8.898200035095215, -7.403900146484375, -8.914999961853027, -8.939000129699707, -8.898599624633789, -7.839200019836426, -7.32889986038208, -8.530200004577637, -8.263400077819824, -8.568099975585938, -8.947099685668945, -8.583200454711914, -8.966500282287598, -7.665299892425537, -8.969200134277344, -7.8165998458862305, -8.98069953918457, -8.876299858093262, -7.315700054168701, -7.133299827575684, -7.910999774932861, -7.69320011138916, -8.345399856567383, -5.695300102233887, -5.8119001388549805, -7.007199764251709, -7.730599880218506, -7.7129998207092285, -7.436299800872803, -8.187399864196777, -5.066400051116943, -3.3559999465942383, -5.934999942779541, -6.458600044250488, -6.424699783325195, -5.969099998474121, -7.576300144195557, -7.075500011444092, -7.201300144195557, -4.4934000968933105, -4.047900199890137, -4.73199987411499, -4.89769983291626, -5.39709997177124, -5.7245001792907715, -6.18310022354126, -6.962100028991699, -5.355000019073486, -6.438899993896484, -5.593500137329102, -4.200500011444092, -4.408899784088135, -5.041100025177002, -5.323999881744385, -5.629799842834473, -5.906099796295166, -4.955100059509277, -5.165900230407715, -5.3368000984191895, -5.468999862670898, -5.922999858856201, -6.110599994659424, -6.034299850463867, -6.3140997886657715, -6.2829999923706055, -5.5289998054504395, -5.606599807739258, -5.307400226593018, -5.717100143432617, -5.837900161743164, -5.776800155639648, -5.546299934387207, -5.9822998046875, -5.408599853515625, -5.572299957275391, -5.916999816894531, -5.899199962615967, -5.984799861907959, -5.831299781799316, -5.846499919891357, -5.9475998878479, -7.239500045776367, -7.397799968719482, -7.548099994659424, -7.821899890899658, -7.822800159454346, -7.82390022277832, -7.823999881744385, -7.826000213623047, -7.71619987487793, -8.14430046081543, -8.244099617004395, -8.332799911499023, -8.339300155639648, -8.342900276184082, -8.173700332641602, -8.347800254821777, -8.336700439453125, -8.18809986114502, -8.427800178527832, -7.417500019073486, -8.482000350952148, -8.356599807739258, -8.281000137329102, -8.58530044555664, -8.58650016784668, -8.587200164794922, -8.589200019836426, -8.589900016784668, -8.595499992370605, -8.597200393676758, -8.591500282287598, -8.649100303649902, -7.702400207519531, -8.104499816894531, -8.77239990234375, -8.775099754333496, -8.61970043182373, -8.778900146484375, -8.623200416564941, -8.788000106811523, -7.557499885559082, -6.8043999671936035, -8.11340045928955, -5.853300094604492, -7.990600109100342, -2.3099000453948975, -4.622200012207031, -4.503799915313721, -6.030399799346924, -6.603300094604492, -5.843999862670898, -5.49970006942749, -7.320000171661377, -5.990600109100342, -6.678699970245361, -6.827199935913086, -4.368800163269043, -6.798500061035156, -6.0680999755859375, -6.833600044250488, -6.186100006103516, -6.117099761962891, -6.624300003051758, -3.71370005607605, -4.558899879455566, -5.924499988555908, -5.374899864196777, -4.346799850463867, -4.776000022888184, -5.350500106811523, -6.582600116729736, -5.2692999839782715, -5.970200061798096, -5.936200141906738, -6.255199909210205, -5.696599960327148, -5.332499980926514, -5.534999847412109, -6.886300086975098, -4.759200096130371, -4.79010009765625, -5.471499919891357, -5.4721999168396, -5.83620023727417, -5.923600196838379, -5.875899791717529, -6.080599784851074, -5.424499988555908, -5.57420015335083, -5.684800148010254, -5.591100215911865, -5.930799961090088, -5.695799827575684, -5.713699817657471, -5.8730998039245605, -5.682199954986572, -5.7382001876831055, -5.885200023651123, -6.019700050354004, -6.969399929046631, -7.210400104522705, -7.461400032043457, -7.679900169372559, -7.685200214385986, -6.8979997634887695, -7.962399959564209, -7.969900131225586, -8.055399894714355, -8.306500434875488, -8.309499740600586, -8.310600280761719, -8.317299842834473, -7.456600189208984, -8.23330020904541, -8.17199993133545, -7.732100009918213, -8.639599800109863, -8.642600059509277, -8.642600059509277, -8.644000053405762, -8.64780044555664, -8.650899887084961, -8.654800415039062, -8.657099723815918, -8.677900314331055, -8.64900016784668, -8.70479965209961, -8.724599838256836, -8.31410026550293, -8.772600173950195, -8.693599700927734, -8.692399978637695, -8.710800170898438, -8.710599899291992, -7.519400119781494, -8.708600044250488, -8.736900329589844, -8.717900276184082, -8.92959976196289, -6.222599983215332, -7.7108001708984375, -7.763800144195557, -7.284800052642822, -8.503800392150879, -7.0690999031066895, -7.467400074005127, -7.343200206756592, -8.06820011138916, -5.846199989318848, -6.558700084686279, -4.305600166320801, -4.135200023651123, -7.051499843597412, -7.349899768829346, -6.172699928283691, -7.472400188446045, -6.859000205993652, -7.483399868011475, -7.583700180053711, -6.512499809265137, -7.11929988861084, -7.611499786376953, -3.771399974822998, -4.7642998695373535, -4.579999923706055, -3.7298998832702637, -5.490099906921387, -5.292099952697754, -5.459499835968018, -6.532400131225586, -6.266900062561035, -6.8125, -5.142600059509277, -4.742000102996826, -4.479000091552734, -5.5858001708984375, -5.510700225830078, -6.165299892425537, -5.905700206756592, -5.577000141143799, -5.124899864196777, -5.363100051879883, -5.322000026702881, -5.385000228881836, -5.017399787902832, -5.3225998878479, -6.1504998207092285, -5.812900066375732, -5.678400039672852, -5.651199817657471, -6.049900054931641, -5.655700206756592, -5.81790018081665, -5.931300163269043, -5.801599979400635, -5.727499961853027, -5.823800086975098, -6.0183000564575195, -6.104700088500977, -5.584499835968018, -5.930200099945068, -5.99560022354126, -6.095699787139893, -6.115799903869629, -7.002200126647949, -7.159299850463867, -7.290299892425537, -7.594200134277344, -7.611100196838379, -7.901899814605713, -8.055999755859375, -8.063899993896484, -8.064599990844727, -7.834000110626221, -8.107799530029297, -8.39169979095459, -8.438400268554688, -8.272000312805176, -5.323800086975098, -8.426199913024902, -7.521900177001953, -8.066300392150879, -8.157099723815918, -7.69350004196167, -8.662199974060059, -8.662699699401855, -7.906899929046631, -8.482099533081055, -8.47659969329834, -8.703300476074219, -8.131699562072754, -8.719599723815918, -7.743199825286865, -8.52929973602295, -8.902199745178223, -8.902799606323242, -8.902799606323242, -8.903900146484375, -8.905099868774414, -8.907099723815918, -8.907999992370605, -8.910300254821777, -8.910900115966797, -8.916999816894531, -5.69789981842041, -5.786099910736084, -6.597400188446045, -5.791100025177002, -7.966700077056885, -8.237500190734863, -7.513899803161621, -7.741700172424316, -7.3354997634887695, -7.618199825286865, -8.068699836730957, -7.199399948120117, -4.177299976348877, -6.2540998458862305, -6.214000225067139, -5.8643999099731445, -4.3460001945495605, -6.98390007019043, -6.663300037384033, -5.831099987030029, -5.447299957275391, -6.506999969482422, -6.101500034332275, -3.9802000522613525, -4.089399814605713, -3.934000015258789, -4.576300144195557, -4.481900215148926, -5.6809000968933105, -4.766600131988525, -4.9268999099731445, -5.315299987792969, -5.9953999519348145, -6.005300045013428, -6.77810001373291, -5.189000129699707, -4.698800086975098, -5.587800025939941, -5.688000202178955, -5.729100227355957, -5.343599796295166, -5.248300075531006, -5.851099967956543, -5.756499767303467, -5.897799968719482, -5.981599807739258, -5.7133002281188965, -5.489999771118164, -5.811800003051758, -5.9156999588012695, -5.879899978637695, -5.788700103759766, -5.81689977645874, -5.9054999351501465, -5.901599884033203, -5.920000076293945, -5.96019983291626, -6.744200229644775, -6.944900035858154, -7.018899917602539, -7.116000175476074, -7.233799934387207, -7.327600002288818, -7.337600231170654, -7.57450008392334, -7.587800025939941, -7.5879998207092285, -6.3805999755859375, -7.604899883270264, -7.627099990844727, -7.315800189971924, -7.906499862670898, -7.9095001220703125, -7.916900157928467, -7.922500133514404, -7.947299957275391, -7.937399864196777, -6.078000068664551, -7.9593000411987305, -8.18690013885498, -8.170900344848633, -8.199199676513672, -8.022500038146973, -7.055799961090088, -7.254000186920166, -7.613900184631348, -7.637599945068359, -7.7642998695373535, -7.511199951171875, -8.423399925231934, -8.42870044708252, -8.42870044708252, -8.429300308227539, -8.429800033569336, -8.430399894714355, -8.437399864196777, -8.441200256347656, -7.468500137329102, -5.886499881744385, -7.931600093841553, -6.914100170135498, -5.730899810791016, -8.089400291442871, -7.954500198364258, -6.69890022277832, -5.8302998542785645, -3.843100070953369, -5.722700119018555, -5.0671000480651855, -7.014999866485596, -5.768400192260742, -6.559700012207031, -5.291800022125244, -6.094399929046631, -5.779200077056885, -6.333099842071533, -5.073699951171875, -5.650100231170654, -5.271699905395508, -6.860499858856201, -4.430699825286865, -5.409299850463867, -6.010499954223633, -5.973299980163574, -6.153900146484375, -5.623499870300293, -4.29640007019043, -4.246399879455566, -4.875699996948242, -4.414700031280518, -6.241600036621094, -6.34060001373291, -6.291500091552734, -5.326900005340576, -5.345099925994873, -5.736599922180176, -5.553599834442139, -5.732900142669678, -5.65339994430542, -5.600200176239014, -6.038099765777588, -5.542799949645996, -5.38670015335083, -5.492199897766113, -5.688899993896484, -5.558199882507324, -5.6834001541137695, -5.8333001136779785, -5.858099937438965, -5.837600231170654, -5.788099765777588, -5.841599941253662, -5.851099967956543, -5.86460018157959, -5.922699928283691, -6.33620023727417, -6.98960018157959, -7.00600004196167, -7.280700206756592, -6.8983001708984375, -7.498000144958496, -7.521999835968018, -7.752500057220459, -7.780099868774414, -7.5625, -5.9542999267578125, -7.9344000816345215, -6.591899871826172, -7.8024001121521, -6.814899921417236, -8.0871000289917, -8.10990047454834, -8.148799896240234, -7.988699913024902, -7.179299831390381, -8.129599571228027, -8.173700332641602, -6.721499919891357, -7.566500186920166, -8.246299743652344, -7.268499851226807, -8.598999977111816, -8.601900100708008, -8.609600067138672, -8.610899925231934, -8.612700462341309, -8.617300033569336, -8.617500305175781, -8.622400283813477, -8.639200210571289, -7.234499931335449, -8.243900299072266, -8.649200439453125, -7.7667999267578125, -7.235899925231934, -7.401800155639648, -7.807400226593018, -7.509799957275391, -6.523900032043457, -6.492499828338623, -7.332099914550781, -6.846199989318848, -7.53439998626709, -7.5690999031066895, -8.276700019836426, -7.1321001052856445, -6.652500152587891, -5.545899868011475, -6.0381999015808105, -7.031199932098389, -7.113900184631348, -4.117000102996826, -4.39900016784668, -3.8498001098632812, -5.4878997802734375, -5.841700077056885, -6.523600101470947, -6.885900020599365, -4.260799884796143, -4.9344000816345215, -4.6356000900268555, -5.659900188446045, -4.861400127410889, -5.228499889373779, -5.184100151062012, -5.761000156402588, -5.3933000564575195, -5.624599933624268, -6.387700080871582, -5.964600086212158, -5.655900001525879, -5.586299896240234, -5.4095001220703125, -5.966400146484375, -5.740900039672852, -5.756800174713135, -5.694499969482422, -6.322199821472168, -5.725800037384033, -5.873899936676025, -5.895999908447266, -6.023200035095215, -6.10129976272583, -6.135499954223633, -5.877399921417236, -5.830599784851074, -5.8643999099731445, -6.06850004196167, -6.051799774169922, -6.127299785614014, -6.171599864959717, -6.098599910736084, -6.144400119781494]}, \"token.table\": {\"Topic\": [1, 2, 3, 4, 5, 6, 7, 8, 9, 1, 2, 1, 2, 3, 4, 5, 6, 7, 8, 9, 1, 2, 3, 4, 5, 6, 7, 8, 9, 1, 2, 3, 4, 5, 6, 7, 8, 9, 1, 2, 3, 4, 5, 6, 7, 8, 9, 1, 2, 3, 4, 5, 6, 7, 8, 9, 5, 8, 4, 5, 4, 6, 5, 7, 1, 2, 6, 1, 1, 2, 3, 4, 5, 6, 7, 8, 9, 2, 4, 1, 5, 7, 8, 9, 8, 5, 1, 2, 4, 5, 6, 7, 1, 5, 6, 9, 1, 4, 8, 5, 6, 8, 8, 3, 3, 8, 9, 1, 2, 5, 4, 1, 2, 7, 6, 8, 5, 1, 4, 6, 4, 2, 4, 6, 1, 2, 5, 8, 2, 8, 5, 6, 1, 2, 3, 4, 5, 6, 7, 8, 9, 2, 5, 3, 1, 3, 3, 8, 8, 5, 8, 8, 7, 9, 5, 1, 3, 5, 5, 1, 2, 3, 4, 5, 6, 7, 8, 7, 1, 4, 1, 4, 1, 2, 5, 6, 8, 6, 7, 7, 5, 9, 1, 2, 3, 4, 5, 6, 7, 9, 6, 5, 5, 1, 2, 3, 4, 5, 6, 7, 8, 9, 6, 2, 2, 1, 2, 3, 4, 5, 6, 7, 8, 9, 1, 2, 3, 4, 5, 6, 7, 8, 9, 1, 2, 3, 4, 5, 6, 7, 8, 9, 2, 2, 6, 7, 5, 1, 2, 3, 4, 5, 6, 7, 8, 9, 7, 4, 2, 3, 6, 2, 5, 9, 2, 8, 6, 3, 7, 1, 2, 3, 4, 5, 6, 7, 8, 9, 1, 2, 3, 4, 5, 6, 7, 8, 9, 1, 2, 3, 4, 5, 6, 7, 8, 9, 4, 2, 6, 8, 1, 1, 2, 3, 4, 5, 6, 7, 8, 9, 6, 5, 1, 2, 3, 4, 5, 6, 7, 8, 9, 1, 2, 3, 4, 5, 6, 7, 8, 9, 1, 2, 3, 4, 5, 6, 7, 8, 9, 1, 2, 4, 5, 6, 1, 2, 3, 4, 5, 6, 7, 8, 9, 1, 2, 3, 4, 5, 6, 7, 8, 9, 5, 2, 1, 2, 3, 4, 5, 6, 7, 8, 9, 1, 2, 3, 4, 5, 6, 7, 8, 9, 3, 4, 1, 2, 3, 4, 5, 6, 7, 8, 9, 9, 3, 3, 6, 9, 3, 1, 2, 3, 4, 5, 6, 7, 8, 9, 1, 4, 5, 8, 9, 1, 3, 6, 8, 5, 2, 2, 2, 3, 1, 2, 8, 9, 1, 7, 1, 2, 3, 4, 5, 6, 7, 8, 1, 2, 7, 3, 4, 1, 2, 3, 4, 5, 6, 7, 1, 2, 3, 4, 5, 6, 7, 8, 9, 2, 1, 4, 1, 6, 1, 3, 7, 1, 2, 4, 5, 6, 9, 1, 5, 2, 8, 5, 1, 2, 3, 4, 5, 6, 7, 8, 9, 1, 2, 1, 5, 1, 2, 3, 4, 5, 6, 9, 5, 7, 7, 1, 4, 1, 2, 3, 4, 5, 6, 7, 8, 9, 1, 1, 2, 3, 4, 5, 6, 7, 8, 9, 4, 1, 2, 3, 4, 5, 6, 7, 8, 9, 1, 5, 9, 1, 3, 4, 7, 1, 2, 4, 7, 1, 2, 3, 4, 5, 6, 7, 8, 9, 2, 3, 5, 6, 7, 9, 1, 2, 3, 4, 4, 8, 1, 2, 3, 4, 5, 6, 7, 8, 9, 1, 2, 3, 4, 5, 6, 7, 8, 9, 1, 2, 3, 4, 5, 6, 7, 8, 9, 6, 1, 5, 1, 2, 3, 4, 5, 6, 7, 8, 9, 1, 2, 3, 4, 5, 6, 7, 8, 9, 1, 8, 1, 2, 3, 4, 5, 6, 7, 8, 9, 1, 3, 2, 1, 9, 1, 2, 3, 4, 5, 6, 7, 8, 9, 1, 2, 3, 4, 5, 6, 7, 8, 9, 9, 1, 2, 3, 4, 5, 6, 7, 8, 9, 1, 4, 4, 1, 2, 3, 4, 5, 6, 7, 8, 9, 1, 2, 3, 4, 5, 1, 2, 4, 5, 6, 8, 1, 8, 1, 2, 3, 4, 5, 6, 7, 8, 9, 1, 2, 3, 4, 5, 6, 7, 8, 9, 1, 2, 4, 5, 6, 7, 1, 2, 3, 4, 5, 6, 7, 8, 9, 1, 2, 3, 4, 5, 6, 7, 8, 9, 1, 2, 3, 4, 5, 6, 7, 8, 9, 9, 6, 9, 2, 3, 4, 6, 2, 1, 2, 3, 4, 5, 6, 7, 8, 9, 6, 1, 2, 3, 4, 5, 6, 7, 8, 9, 4, 9, 1, 2, 3, 4, 5, 6, 7, 8, 9, 3, 8, 1, 4, 6, 8, 9, 2, 9, 1, 2, 3, 4, 5, 6, 7, 8, 9, 8, 1, 2, 3, 4, 5, 6, 7, 8, 9, 9, 4, 2, 2, 4, 9, 1, 2, 4, 5, 9, 1, 2, 3, 4, 5, 6, 7, 8, 9, 6, 6, 9, 1, 1, 2, 3, 4, 5, 6, 7, 8, 9, 6, 1, 2, 3, 5, 6, 9, 1, 2, 4, 5, 6, 9, 4, 6, 4, 1, 2, 3, 4, 5, 6, 7, 8, 9, 1, 2, 3, 4, 5, 6, 7, 8, 9, 6, 4, 6, 5, 1, 2, 3, 4, 5, 6, 7, 8, 9, 1, 2, 3, 4, 5, 6, 7, 8, 9, 1, 1, 1, 2, 4, 5, 6, 7, 8, 9, 1, 2, 9, 1, 2, 3, 4, 5, 6, 7, 8, 9, 1, 2, 6, 8, 1, 2, 3, 4, 5, 6, 7, 8, 9, 1, 2, 3, 4, 5, 6, 7, 8, 1, 2, 3, 4, 5, 6, 7, 8, 9, 1, 2, 3, 4, 5, 6, 7, 8, 9, 6, 9, 2, 5, 9, 6, 1, 1, 2, 3, 4, 5, 6, 7, 8, 9, 3, 6, 1, 2, 3, 4, 5, 6, 7, 8, 9, 2, 6, 1, 2, 3, 4, 5, 6, 7, 8, 9, 8, 1, 2, 3, 4, 5, 6, 7, 8, 9, 1, 2, 3, 4, 5, 6, 7, 8, 9, 1, 1, 2, 3, 4, 5, 6, 7, 8, 9, 1, 2, 3, 4, 5, 6, 7, 8, 9, 1, 2, 3, 4, 5, 6, 7, 8, 9, 1, 5, 1, 4, 6, 1, 2, 6, 8, 7, 1, 2, 3, 4, 5, 6, 7, 8, 9, 1, 5, 4, 3, 4, 9, 7, 8, 1, 2, 3, 4, 5, 6, 7, 8, 9, 6, 1, 2, 3, 4, 5, 6, 7, 8, 9, 8, 1, 2, 3, 4, 5, 6, 7, 8, 9, 1, 8, 4, 6, 2, 1, 2, 3, 4, 5, 6, 7, 8, 9, 1, 2, 3, 4, 5, 6, 7, 8, 9, 6, 1, 7, 8, 9, 1, 2, 3, 4, 5, 6, 7, 8, 9, 6, 6, 1, 2, 3, 4, 5, 6, 7, 8, 9, 1, 1, 2, 3, 4, 5, 6, 7, 8, 9, 2, 1, 2, 3, 4, 5, 6, 7, 8, 9, 1, 2, 3, 4, 5, 6, 7, 8, 9, 1, 2, 3, 4, 5, 6, 7, 8, 9, 6, 8, 4, 1, 2, 3, 4, 5, 6, 7, 9, 7, 1, 2, 3, 4, 5, 6, 7, 8, 9, 7, 1, 4, 1, 3, 5, 6, 9, 1, 3, 1, 2, 3, 4, 5, 6, 7, 8, 9, 7, 1, 1, 1, 5, 7, 9, 9, 3, 1, 2, 3, 4, 5, 6, 7, 8, 9, 5, 3, 9, 1, 2, 3, 4, 1, 6, 2, 4, 8, 1, 2, 3, 4, 5, 6, 7, 9, 7, 1, 2, 3, 5, 6, 8, 1, 2, 3, 5, 6, 7, 9, 1, 3, 5, 8, 5, 1, 2, 3, 4, 5, 6, 7, 8, 9, 1, 1, 2, 3, 4, 5, 6, 7, 8, 9, 1, 2, 3, 4, 5, 6, 7, 8, 9, 7, 9, 1, 2, 3, 4, 5, 6, 7, 8, 9, 2, 5, 6, 7, 1, 4, 7, 1, 2, 3, 4, 5, 6, 7, 8, 9, 1, 4, 6, 7, 8, 7, 1, 2, 4, 9, 1, 3, 4, 7, 8, 4, 2, 3, 1, 2, 3, 4, 5, 6, 7, 9, 1, 2, 3, 4, 5, 6, 7, 8, 9, 1, 1, 2, 3, 4, 5, 6, 7, 9, 4, 4, 2, 1, 2, 3, 4, 5, 6, 7, 8, 9, 1, 2, 3, 4, 5, 6, 7, 8, 9, 1, 2, 3, 4, 5, 6, 7, 8, 9, 1, 2, 3, 4, 5, 6, 7, 8, 9, 1, 2, 3, 4, 5, 6, 7, 8, 9, 4, 2, 1, 2, 3, 4, 5, 6, 7, 8, 9, 7, 9, 5, 7, 1, 1, 3, 5, 1, 4, 5, 6, 9, 4, 1, 2, 4, 6, 7, 1, 2, 3, 4, 5, 6, 7, 8, 9, 1, 3, 5, 1, 9, 1, 2, 3, 4, 5, 6, 7, 8, 9, 1, 2, 3, 4, 5, 6, 7, 8, 9, 1, 2, 3, 4, 5, 6, 7, 8, 9, 1, 1, 2, 3, 4, 5, 6, 7, 8, 9, 5, 6, 7, 1, 2, 3, 4, 5, 6, 7, 8, 9, 3, 4, 7, 1, 2, 3, 4, 5, 6, 7, 8, 9, 6, 3, 7, 1, 2, 3, 4, 5, 6, 7, 9, 9, 8, 3, 1, 2, 3, 4, 5, 6, 7, 8, 9, 1, 2, 3, 4, 5, 6, 7, 8, 9, 1, 2, 4, 6, 7, 9, 1, 2, 4, 5, 8, 6, 5, 1, 2, 3, 4, 5, 6, 7, 8, 9, 3, 5, 4, 5, 2, 5, 6, 1, 2, 3, 4, 5, 6, 7, 8, 9, 9, 9, 3, 1, 8, 1, 2, 3, 4, 5, 6, 7, 8, 9, 9, 9, 2, 2, 1, 2, 3, 4, 5, 6, 7, 8, 9, 7, 5, 8, 6, 1, 1, 2, 3, 4, 5, 6, 7, 8, 9, 1, 2, 3, 4, 5, 6, 7, 8, 9, 1, 2, 3, 4, 5, 6, 7, 8, 9, 4, 3, 1, 2, 3, 4, 5, 6, 7, 8, 9, 8, 1, 2, 6, 3, 1, 2, 3, 4, 5, 6, 7, 8, 9, 1, 2, 4, 6, 9, 9, 1, 2, 3, 4, 5, 6, 7, 8, 9, 1, 2, 3, 4, 5, 6, 7, 8, 9, 1, 2, 3, 4, 5, 6, 7, 8, 9, 7, 1, 2, 3, 4, 5, 6, 7, 8, 9, 1, 2, 3, 4, 5, 6, 7, 8, 1, 1, 3, 4, 6, 1, 2, 3, 4, 5, 6, 7, 8, 9, 5, 1, 2, 3, 4, 5, 6, 7, 8, 9, 1, 2, 3, 4, 5, 6, 7, 9, 4, 5, 1, 4, 7, 1, 2, 3, 4, 5, 6, 7, 8, 9, 1, 2, 3, 4, 5, 8, 9, 1, 2, 3, 4, 5, 6, 7, 8, 9, 7, 6, 9, 2, 4, 7, 7, 1, 1, 2, 3, 4, 5, 6, 7, 9, 1, 2, 1, 2, 3, 4, 5, 6, 7, 8, 9, 2, 1, 2, 3, 5, 6, 7, 9, 1, 2, 3, 4, 5, 6, 7, 8, 9, 7, 2, 4, 3, 4, 1, 9, 4, 1, 3, 2, 1, 2, 3, 4, 5, 6, 7, 8, 9, 6, 7, 1, 2, 3, 4, 5, 6, 7, 8, 9, 5, 7, 1, 2, 3, 4, 5, 6, 7, 8, 9, 1, 2, 3, 4, 5, 6, 7, 8, 9, 3, 1, 2, 3, 4, 5, 6, 7, 8, 9, 1, 2, 3, 4, 5, 6, 7, 8, 9, 1, 2, 3, 4, 5, 6, 7, 8, 9, 1, 4, 1, 3, 4, 6, 7, 8, 5, 7, 4, 1, 4, 8, 1, 1, 2, 8, 1, 2, 3, 4, 5, 6, 7, 8, 9, 1, 2, 3, 4, 5, 6, 7, 8, 9, 9, 8, 1, 2, 3, 4, 5, 6, 7, 8, 9, 3, 1, 2, 3, 4, 5, 6, 7, 8, 9, 1, 2, 3, 4, 6, 9, 1, 2, 3, 4, 5, 6, 7, 8, 9, 2, 4, 1, 2, 3, 4, 5, 6, 7, 8, 9, 1, 2, 3, 4, 5, 6, 7, 8, 9, 1, 5, 6, 3, 3, 4, 1, 2, 5, 5, 6, 1, 2, 3, 9, 1, 2, 3, 4, 5, 6, 7, 8, 9, 1, 2, 3, 4, 5, 6, 7, 8, 9, 1, 3, 4, 5, 7, 9, 1, 2, 3, 4, 5, 6, 7, 8, 9, 1, 2, 3, 4, 5, 6, 7, 8, 9, 2, 7, 6, 1, 9, 6, 1, 2, 3, 4, 5, 6, 7, 8, 9, 1, 8, 4, 5, 6, 9, 1, 2, 3, 4, 5, 6, 7, 8, 9, 1, 2, 3, 4, 5, 7, 8, 1, 2, 3, 4, 5, 6, 7, 8, 9, 1, 2, 3, 4, 5, 6, 7, 8, 9, 1, 2, 3, 4, 6, 7, 1, 2, 3, 4, 5, 6, 7, 8, 9, 2, 8, 1, 2, 3, 4, 5, 6, 7, 8, 9, 1, 2, 3, 7, 3, 2, 6, 4, 6, 9, 1, 2, 3, 4, 5, 6, 7, 8, 9, 2, 3, 4, 1, 2, 3, 4, 5, 6, 7, 8, 9, 3, 1, 2, 3, 4, 5, 6, 7, 8, 9, 1, 5, 9, 7, 3, 1, 2, 3, 4, 5, 8, 9, 7, 3, 4, 1, 1, 2, 3, 4, 5, 6, 7, 9, 8, 1, 2, 3, 4, 5, 6, 7, 8, 9, 7, 8, 1, 2, 3, 4, 5, 6, 7, 8, 9, 1, 7, 2, 5, 8, 9, 3, 4, 5, 6, 2, 1, 2, 3, 4, 5, 6, 7, 8, 9, 6, 1, 2, 3, 4, 5, 6, 7, 8, 9, 1, 2, 4, 8, 1, 2, 3, 4, 5, 6, 7, 8, 9, 6, 1, 2, 3, 4, 5, 6, 7, 8, 9, 1, 9, 1, 2, 3, 4, 5, 6, 7, 8, 9, 8, 1, 1, 2, 3, 4, 5, 6, 7, 8, 9, 1, 2, 3, 4, 5, 6, 7, 8, 9, 8, 8, 2, 1, 2, 3, 4, 5, 6, 7, 2, 4, 9, 1, 3, 7, 9, 9, 5, 1, 2, 3, 4, 5, 6, 7, 8, 9, 1, 2, 3, 4, 5, 6, 7, 9, 7, 1, 2, 3, 4, 5, 9, 6, 1, 2, 3, 4, 5, 6, 7, 8, 9, 1, 2, 3, 4, 5, 6, 7, 8, 9, 6, 1, 2, 3, 4, 5, 6, 7, 8, 9, 1, 2, 3, 4, 5, 6, 7, 8, 9, 1, 3, 9, 1, 2, 3, 4, 5, 6, 7, 8, 9, 1, 2, 4, 5, 6, 9, 1, 2, 4, 5, 6, 8, 1, 2, 3, 4, 5, 6, 7, 8, 9, 3, 9, 8, 8, 1, 4, 6, 1, 2, 3, 4, 5, 6, 7, 8, 9, 2, 1, 2, 3, 4, 5, 6, 7, 5, 1, 3, 4, 6, 7, 6, 1, 2, 3, 4, 5, 6, 7, 8, 9, 8, 4, 9, 3, 7, 1, 2, 3, 4, 5, 6, 7, 8, 9, 1, 2, 3, 4, 5, 6, 7, 8, 9, 1, 8, 1, 2, 3, 4, 5, 6, 7, 8, 9, 1, 2, 3, 4, 5, 6, 7, 8, 2, 9, 1, 3, 6, 7, 8, 1, 2, 3, 4, 5, 6, 7, 8, 9, 2, 5, 1, 2, 3, 4, 5, 6, 7, 8, 9, 1, 2, 3, 4, 5, 6, 7, 8, 9, 1, 2, 3, 4, 5, 6, 7, 8, 9, 1, 2, 3, 4, 5, 6, 7, 8, 9, 3, 8, 9, 2, 7, 3, 7, 4, 6, 9, 2, 6, 1, 2, 3, 4, 5, 6, 7, 8, 9, 1, 2, 3, 4, 5, 6, 7, 8, 9, 5, 1, 2, 3, 4, 5, 6, 7, 8, 9, 1, 2, 3, 4, 5, 6, 7, 8, 9, 1, 2, 3, 4, 5, 6, 7, 8, 9, 1, 2, 3, 4, 5, 6, 7, 8, 9, 1, 2, 3, 4, 5, 6, 7, 8, 9, 1, 2, 3, 4, 5, 6, 7, 8, 9, 4, 9, 3, 8, 1, 2, 3, 4, 5, 6, 7, 8, 9, 1, 2, 4, 5, 6, 7, 9, 7, 1, 3, 4, 6, 8], \"Freq\": [0.29912132024765015, 0.09948114305734634, 0.04118214175105095, 0.06406111270189285, 0.4214814305305481, 0.01169369462877512, 0.019150543957948685, 0.022878969088196754, 0.021184230223298073, 0.8793386220932007, 0.8089312314987183, 0.9695244431495667, 0.0043379170820117, 0.001084479270502925, 0.0065068756230175495, 0.009760312736034393, 0.00216895854100585, 0.001084479270502925, 0.0032534378115087748, 0.001084479270502925, 0.5438497066497803, 0.06526196748018265, 0.032630983740091324, 0.13269932568073273, 0.10224374383687973, 0.06091116741299629, 0.032630983740091324, 0.02392938733100891, 0.006526196375489235, 0.4324072301387787, 0.06345908343791962, 0.03099164366722107, 0.23465102910995483, 0.05165274068713188, 0.04574957117438316, 0.06936225295066833, 0.04870115593075752, 0.02361268177628517, 0.4042914807796478, 0.07888614386320114, 0.06409499049186707, 0.23172804713249207, 0.11832921206951141, 0.03944307193160057, 0.014791151508688927, 0.024651920422911644, 0.029582303017377853, 0.3006080985069275, 0.14028377830982208, 0.09018243104219437, 0.010020270012319088, 0.020040540024638176, 0.12024324387311935, 0.03006081096827984, 0.23046621680259705, 0.06012162193655968, 0.8708061575889587, 0.10885076969861984, 0.6950865983963013, 0.7621853947639465, 0.8964874148368835, 0.0747072845697403, 0.9179023504257202, 0.7813771963119507, 0.36989155411720276, 0.05284165218472481, 0.5284165143966675, 0.8994508981704712, 0.21725556254386902, 0.23173925280570984, 0.043451111763715744, 0.014483703300356865, 0.014483703300356865, 0.014483703300356865, 0.043451111763715744, 0.3041577637195587, 0.1013859286904335, 0.8762375116348267, 0.9186782240867615, 0.2224636673927307, 0.5662711262702942, 0.08089587837457657, 0.06067190691828728, 0.040447939187288284, 0.916151225566864, 0.9259073734283447, 0.3084401488304138, 0.05140669271349907, 0.05140669271349907, 0.05140669271349907, 0.05140669271349907, 0.4626602232456207, 0.18964873254299164, 0.09482436627149582, 0.09482436627149582, 0.5689461827278137, 0.12935368716716766, 0.12935368716716766, 0.6467683911323547, 0.8493452072143555, 0.7317053079605103, 0.6908494830131531, 0.8868221044540405, 0.7611598372459412, 0.9150041937828064, 0.8769037127494812, 0.8092638254165649, 0.11932592839002609, 0.835281491279602, 0.8273947834968567, 0.8680774569511414, 0.21518434584140778, 0.10759217292070389, 0.5379608869552612, 0.9678626656532288, 0.8995320200920105, 0.8467625975608826, 0.034895945340394974, 0.8723986148834229, 0.06979189068078995, 0.7945757508277893, 0.07623986154794693, 0.6861587762832642, 0.07623986154794693, 0.041396450251340866, 0.2483787089586258, 0.7037396430969238, 0.848260223865509, 0.8395706415176392, 0.1049463301897049, 0.9156256318092346, 0.8306797742843628, 0.21874569356441498, 0.07812346518039703, 0.07031111419200897, 0.015624692663550377, 0.492177814245224, 0.0078123463317751884, 0.03906173259019852, 0.07031111419200897, 0.0078123463317751884, 0.8011035323143005, 0.9413768649101257, 0.9105358123779297, 0.8767849802970886, 0.9370484948158264, 0.8654428720474243, 0.6928114295005798, 0.727462112903595, 0.9152711629867554, 0.9039204716682434, 0.8701954483985901, 0.35451069474220276, 0.5908511877059937, 0.9054811000823975, 0.06608239561319351, 0.7929887771606445, 0.06608239561319351, 0.8053935766220093, 0.17378422617912292, 0.07241009175777435, 0.02896403707563877, 0.04344605654478073, 0.04344605654478073, 0.05792807415127754, 0.5503166913986206, 0.02896403707563877, 0.7835134863853455, 0.07795914262533188, 0.8575506210327148, 0.11969969421625137, 0.7181981205940247, 0.09802072495222092, 0.04901036247611046, 0.04901036247611046, 0.14703108370304108, 0.5881243348121643, 0.7306734919548035, 0.6563876271247864, 0.9489461183547974, 0.9036833643913269, 0.8000325560569763, 0.24656030535697937, 0.11679171770811081, 0.06488429009914398, 0.03893057256937027, 0.42823630571365356, 0.012976857833564281, 0.06488429009914398, 0.012976857833564281, 0.9352736473083496, 0.8617063760757446, 0.9184655547142029, 0.3506084978580475, 0.14173534512519836, 0.08951706439256668, 0.06216462701559067, 0.07708413898944855, 0.09946340322494507, 0.03232560679316521, 0.0745975524187088, 0.0696243867278099, 0.8953939080238342, 0.8100573420524597, 0.8417401313781738, 0.2408619225025177, 0.3743516802787781, 0.06384292244911194, 0.026117557659745216, 0.09866633266210556, 0.05223511531949043, 0.089960478246212, 0.03192146122455597, 0.020313655957579613, 0.1918945610523224, 0.17270511388778687, 0.226435586810112, 0.03837891295552254, 0.07675782591104507, 0.046054694801568985, 0.06908204406499863, 0.1304883062839508, 0.04989258572459221, 0.19315731525421143, 0.0837961882352829, 0.29257652163505554, 0.161911278963089, 0.169012650847435, 0.04260823130607605, 0.03550685942173004, 0.011362195014953613, 0.00852164626121521, 0.8684617280960083, 0.1863904446363449, 0.7455617785453796, 0.8115314245223999, 0.902610182762146, 0.32777103781700134, 0.21851402521133423, 0.06952718645334244, 0.05959473177790642, 0.10925701260566711, 0.01986491121351719, 0.01986491121351719, 0.01986491121351719, 0.1489868313074112, 0.6625595092773438, 0.7085747122764587, 0.7405597567558289, 0.061713315546512604, 0.061713315546512604, 0.8715335726737976, 0.0871533527970314, 0.8151411414146423, 0.15724869072437286, 0.7862434387207031, 0.7292440533638, 0.8748180866241455, 0.09720201045274734, 0.44058430194854736, 0.12468045949935913, 0.1867872029542923, 0.07167958468198776, 0.04856467247009277, 0.048798155039548874, 0.05416828766465187, 0.0049031637609004974, 0.02007962390780449, 0.6339519023895264, 0.1102525070309639, 0.027563126757740974, 0.10336172580718994, 0.027563126757740974, 0.03445390984416008, 0.03445390984416008, 0.006890781689435244, 0.013781563378870487, 0.4693671762943268, 0.21544723212718964, 0.1282424032688141, 0.03590787202119827, 0.07181574404239655, 0.02051878347992897, 0.030778175219893456, 0.012824240140616894, 0.015389087609946728, 0.8506947159767151, 0.8550474643707275, 0.08550474792718887, 0.9108458161354065, 0.9346168041229248, 0.29461902379989624, 0.13678741455078125, 0.12626530230045319, 0.031566325575113297, 0.07365475594997406, 0.09469897300004959, 0.05261054262518883, 0.18939794600009918, 0.010522108525037766, 0.601017951965332, 0.9557467699050903, 0.2604115903377533, 0.307759165763855, 0.05645286664366722, 0.023673782125115395, 0.21124297380447388, 0.03824226185679436, 0.0619160458445549, 0.029136963188648224, 0.014568481594324112, 0.6102680563926697, 0.06974492222070694, 0.17436230182647705, 0.023248307406902313, 0.046496614813804626, 0.005812076851725578, 0.046496614813804626, 0.023248307406902313, 0.005812076851725578, 0.3298960030078888, 0.18327556550502777, 0.09163778275251389, 0.04581889137625694, 0.05498266965150833, 0.027491334825754166, 0.018327556550502777, 0.21993067860603333, 0.036655113101005554, 0.1124565377831459, 0.05622826889157295, 0.1124565377831459, 0.05622826889157295, 0.6185109615325928, 0.15914100408554077, 0.03536466509103775, 0.141458660364151, 0.08841166645288467, 0.12377633154392242, 0.3536466658115387, 0.03536466509103775, 0.017682332545518875, 0.053046997636556625, 0.26288101077079773, 0.12754596769809723, 0.08178520202636719, 0.11975689977407455, 0.0827588364481926, 0.0623125322163105, 0.027261734008789062, 0.1976475715637207, 0.038945332169532776, 0.8724825978279114, 0.8998291492462158, 0.31715837121009827, 0.15509392321109772, 0.10630033165216446, 0.08190353214740753, 0.14638078212738037, 0.08538878709077835, 0.055764105170965195, 0.01916891150176525, 0.033109936863183975, 0.24420154094696045, 0.06464157998561859, 0.05386798456311226, 0.06105038523674011, 0.4417174756526947, 0.028729593381285667, 0.07541517913341522, 0.017955996096134186, 0.01256919652223587, 0.11943894624710083, 0.716633677482605, 0.12882310152053833, 0.5109983086585999, 0.06870565563440323, 0.05152923986315727, 0.055823344737291336, 0.04723513871431351, 0.0601174458861351, 0.02147051692008972, 0.055823344737291336, 0.5497480630874634, 0.9525978565216064, 0.14635081589221954, 0.14635081589221954, 0.7317540645599365, 0.7369968295097351, 0.3248259425163269, 0.1806299090385437, 0.0579863078892231, 0.14470918476581573, 0.05644684657454491, 0.15138018131256104, 0.03335495665669441, 0.03694702684879303, 0.013341981917619705, 0.06927942484617233, 0.6927942037582397, 0.034639712423086166, 0.034639712423086166, 0.1039191335439682, 0.23881937563419342, 0.09552774578332901, 0.5731664896011353, 0.047763872891664505, 0.8709366917610168, 0.9017546772956848, 0.9130339622497559, 0.11268385499715805, 0.7887870073318481, 0.10062934458255768, 0.10062934458255768, 0.10062934458255768, 0.6037760972976685, 0.24490992724895477, 0.746975302696228, 0.18430951237678528, 0.06582482904195786, 0.026329930871725082, 0.039494894444942474, 0.039494894444942474, 0.052659861743450165, 0.5529285669326782, 0.026329930871725082, 0.938467264175415, 0.8015385866165161, 0.8660145401954651, 0.912952184677124, 0.6949321031570435, 0.37750139832496643, 0.15652497112751007, 0.009207351133227348, 0.37750139832496643, 0.009207351133227348, 0.05524410679936409, 0.009207351133227348, 0.6576574444770813, 0.1264725774526596, 0.016863010823726654, 0.05902053788304329, 0.05902053788304329, 0.05058903247117996, 0.02529451623558998, 0.008431505411863327, 0.008431505411863327, 0.7565157413482666, 0.8928207755088806, 0.05952138453722, 0.8822763562202454, 0.726487934589386, 0.10879022628068924, 0.10879022628068924, 0.7615315914154053, 0.33659014105796814, 0.12239641696214676, 0.03059910424053669, 0.09179731458425522, 0.03059910424053669, 0.33659014105796814, 0.09368148446083069, 0.7494518756866455, 0.180104061961174, 0.720416247844696, 0.9113525748252869, 0.3037356436252594, 0.22315272688865662, 0.037192121148109436, 0.04339080676436424, 0.06818555295467377, 0.024794746190309525, 0.03099343366920948, 0.2045566588640213, 0.06198686733841896, 0.20535880327224731, 0.7187557816505432, 0.9239169359207153, 0.9132959246635437, 0.15260711312294006, 0.016956346109509468, 0.2034761607646942, 0.05086904019117355, 0.08478173613548279, 0.44086501002311707, 0.033912692219018936, 0.8017785549163818, 0.14577792584896088, 0.6580857038497925, 0.18964563310146332, 0.805993914604187, 0.4417031407356262, 0.1229482963681221, 0.022768203169107437, 0.2914330065250397, 0.03187548369169235, 0.03642912581562996, 0.022768203169107437, 0.022768203169107437, 0.00910728145390749, 0.9101718068122864, 0.3402736783027649, 0.02584357000887394, 0.004307261668145657, 0.05599440261721611, 0.4393407106399536, 0.004307261668145657, 0.02584357000887394, 0.07753071188926697, 0.021536309272050858, 0.8712634444236755, 0.21467304229736328, 0.37320083379745483, 0.09907986223697662, 0.06275057792663574, 0.07926388829946518, 0.0462372712790966, 0.033026620745658875, 0.0429346077144146, 0.04953993111848831, 0.06468293815851212, 0.06468293815851212, 0.776195228099823, 0.09141404181718826, 0.2742421329021454, 0.09141404181718826, 0.5484842658042908, 0.07130883634090424, 0.07130883634090424, 0.2139265090227127, 0.6061251163482666, 0.2563912272453308, 0.1407638043165207, 0.3318004012107849, 0.08043646067380905, 0.04524550959467888, 0.05027278885245323, 0.040218230336904526, 0.03519095107913017, 0.015081836842000484, 0.034979090094566345, 0.10493727028369904, 0.06995818018913269, 0.24485363066196442, 0.034979090094566345, 0.4547281563282013, 0.8641510009765625, 0.04800838977098465, 0.04800838977098465, 0.04800838977098465, 0.6932490468025208, 0.686621904373169, 0.6157697439193726, 0.12193460017442703, 0.012193460017442703, 0.030483650043606758, 0.06706403195858002, 0.09145095199346542, 0.006096730008721352, 0.030483650043606758, 0.012193460017442703, 0.015321551822125912, 0.007660775911062956, 0.6511659622192383, 0.015321551822125912, 0.14555473625659943, 0.007660775911062956, 0.09959008544683456, 0.02298232726752758, 0.030643103644251823, 0.2825046479701996, 0.26053205132484436, 0.1506691426038742, 0.03452834486961365, 0.11927974224090576, 0.05963987112045288, 0.03452834486961365, 0.025111524388194084, 0.02825046516954899, 0.7309466600418091, 0.05725748464465141, 0.8588622808456421, 0.26549866795539856, 0.54364013671875, 0.050571173429489136, 0.025285586714744568, 0.050571173429489136, 0.03792838007211685, 0.012642793357372284, 0.012642793357372284, 0.012642793357372284, 0.25861746072769165, 0.23334349691867828, 0.11285126209259033, 0.08463844656944275, 0.1240188330411911, 0.05289902910590172, 0.029976116493344307, 0.06641767174005508, 0.03761708736419678, 0.160129114985466, 0.8006455302238464, 0.2013809084892273, 0.05846542492508888, 0.3962656557559967, 0.051969267427921295, 0.1559077948331833, 0.04547310993075371, 0.032480791211128235, 0.032480791211128235, 0.025984633713960648, 0.1234002634882927, 0.863801896572113, 0.8199878931045532, 0.22379416227340698, 0.5594853758811951, 0.4841977655887604, 0.08167191594839096, 0.01750112511217594, 0.04666966572403908, 0.28001800179481506, 0.02333483286201954, 0.04083595797419548, 0.005833708215504885, 0.01750112511217594, 0.673101007938385, 0.05609174817800522, 0.11218349635601044, 0.02804587408900261, 0.01869724877178669, 0.03739449754357338, 0.01869724877178669, 0.009348624385893345, 0.03739449754357338, 0.9004404544830322, 0.4849776327610016, 0.08534380048513412, 0.11191791296005249, 0.0638800859451294, 0.13389267027378082, 0.03066244348883629, 0.054170314222574234, 0.014820180833339691, 0.020441628992557526, 0.15881545841693878, 0.7940772771835327, 0.9298579096794128, 0.16137181222438812, 0.09413356333971024, 0.35972467064857483, 0.020171476528048515, 0.21516242623329163, 0.07060016691684723, 0.04034295305609703, 0.013447651639580727, 0.02353339083492756, 0.3471297323703766, 0.049589961767196655, 0.024794980883598328, 0.4711046516895294, 0.12397490441799164, 0.1580478399991989, 0.7716453075408936, 0.032539259642362595, 0.013945396989583969, 0.013945396989583969, 0.009296931326389313, 0.10988902300596237, 0.769223153591156, 0.3367307186126709, 0.17346733808517456, 0.11644520610570908, 0.13325172662734985, 0.048618875443935394, 0.11344403773546219, 0.04141607880592346, 0.021608388051390648, 0.015005825087428093, 0.27114441990852356, 0.2221076637506485, 0.11538060754537582, 0.07499739527702332, 0.04903675615787506, 0.14422576129436493, 0.06922836601734161, 0.03749869763851166, 0.017307091504335403, 0.0873384028673172, 0.0436692014336586, 0.742376446723938, 0.0436692014336586, 0.0436692014336586, 0.0436692014336586, 0.22329996526241302, 0.13397997617721558, 0.3126199543476105, 0.05631042644381523, 0.14174693822860718, 0.060193903744220734, 0.03495129942893982, 0.015533911064267159, 0.021359127014875412, 0.2848552167415619, 0.18282970786094666, 0.07998799532651901, 0.098760686814785, 0.098760686814785, 0.07345836609601974, 0.13140885531902313, 0.026118529960513115, 0.02366991713643074, 0.2592022120952606, 0.09969315677881241, 0.059815894812345505, 0.1894170045852661, 0.019938630983233452, 0.009969315491616726, 0.039877261966466904, 0.2990794777870178, 0.039877261966466904, 0.7432253360748291, 0.9277976155281067, 0.8474959135055542, 0.07378988713026047, 0.07378988713026047, 0.07378988713026047, 0.7378988862037659, 0.8544346690177917, 0.16701740026474, 0.5532451272010803, 0.041754350066185, 0.0208771750330925, 0.041754350066185, 0.1043858751654625, 0.0208771750330925, 0.041754350066185, 0.01043858751654625, 0.7470034956932068, 0.4866008460521698, 0.08430470526218414, 0.12867560982704163, 0.06064022704958916, 0.05768216773867607, 0.050287019461393356, 0.0517660491168499, 0.03697574883699417, 0.0414128378033638, 0.8325183987617493, 0.20812959969043732, 0.45864564180374146, 0.07835196703672409, 0.12994959950447083, 0.08217401057481766, 0.06306377798318863, 0.059241730719804764, 0.07644094526767731, 0.02102125994861126, 0.030576376244425774, 0.20705370604991913, 0.6211611032485962, 0.37319132685661316, 0.04146570339798927, 0.04146570339798927, 0.41465702652931213, 0.08293140679597855, 0.09683588147163391, 0.8715229034423828, 0.3870355486869812, 0.2077769786119461, 0.06382691860198975, 0.07197503000497818, 0.08148116618394852, 0.10049344599246979, 0.03123444877564907, 0.021728312596678734, 0.03395048901438713, 0.6859739422798157, 0.5244312882423401, 0.09989167004823685, 0.03995667025446892, 0.16731855273246765, 0.03246479481458664, 0.07991334050893784, 0.014983750879764557, 0.01997833512723446, 0.017481042072176933, 0.8093171715736389, 0.9063733816146851, 0.934412956237793, 0.09900657087564468, 0.693045973777771, 0.19801314175128937, 0.15095335245132446, 0.02156476490199566, 0.10782382637262344, 0.5822486281394958, 0.10782382637262344, 0.6498159766197205, 0.09025222063064575, 0.027075666934251785, 0.05415133386850357, 0.027075666934251785, 0.05415133386850357, 0.027075666934251785, 0.009025221690535545, 0.07220177352428436, 0.8383206129074097, 0.8649154305458069, 0.07862867414951324, 0.8758020401000977, 0.25289109349250793, 0.05057821795344353, 0.25289109349250793, 0.07356831431388855, 0.30806732177734375, 0.027588119730353355, 0.013794059865176678, 0.013794059865176678, 0.013794059865176678, 0.9286362528800964, 0.050518397241830826, 0.7072575688362122, 0.050518397241830826, 0.050518397241830826, 0.10103679448366165, 0.050518397241830826, 0.2768634855747223, 0.05033881962299347, 0.5788964033126831, 0.025169409811496735, 0.025169409811496735, 0.025169409811496735, 0.798591673374176, 0.1597183346748352, 0.9341444969177246, 0.21085481345653534, 0.295631468296051, 0.15216326713562012, 0.10107988119125366, 0.0478227399289608, 0.11738308519124985, 0.031519532203674316, 0.029345771297812462, 0.014129445888102055, 0.3754620850086212, 0.12942318618297577, 0.093022920191288, 0.06605975329875946, 0.06268935650587082, 0.1671716272830963, 0.060667119920253754, 0.011459344998002052, 0.03370395675301552, 0.730779767036438, 0.7290578484535217, 0.14581157267093658, 0.7884359359741211, 0.519974946975708, 0.17999131977558136, 0.039998073130846024, 0.0966620072722435, 0.049997590482234955, 0.053330760449171066, 0.023332208395004272, 0.016665862873196602, 0.016665862873196602, 0.20239345729351044, 0.057826701551675797, 0.028913350775837898, 0.04337002709507942, 0.04337002709507942, 0.04337002709507942, 0.5493536591529846, 0.014456675387918949, 0.884124219417572, 0.9701173305511475, 0.9030242562294006, 0.2995251417160034, 0.03744064271450043, 0.05616096407175064, 0.5054486989974976, 0.03744064271450043, 0.018720321357250214, 0.018720321357250214, 0.018720321357250214, 0.048160869628190994, 0.8668956756591797, 0.048160869628190994, 0.3399006128311157, 0.0658838152885437, 0.0419260673224926, 0.06887853890657425, 0.4147685766220093, 0.0209630336612463, 0.019465673714876175, 0.014973594807088375, 0.013476235792040825, 0.826977550983429, 0.05513183772563934, 0.05513183772563934, 0.02756591886281967, 0.2675594389438629, 0.23564571142196655, 0.24015876650810242, 0.03642676770687103, 0.10444488376379013, 0.039328012615442276, 0.045452866703271866, 0.008703740313649178, 0.02192053198814392, 0.19739580154418945, 0.1480468511581421, 0.3947916030883789, 0.0822482481598854, 0.07402342557907104, 0.0411241240799427, 0.04934895038604736, 0.02467447519302368, 0.20558680593967438, 0.09868166595697403, 0.4276205599308014, 0.037005625665187836, 0.13979902863502502, 0.012335208244621754, 0.06578777730464935, 0.0041117360815405846, 0.008223472163081169, 0.2588259279727936, 0.1733882576227188, 0.16584962606430054, 0.0703604519367218, 0.1382080316543579, 0.09046343713998795, 0.04020597040653229, 0.01256436575204134, 0.047744590789079666, 0.24161174893379211, 0.6040293574333191, 0.8540472984313965, 0.27469879388809204, 0.5493975877761841, 0.7379222512245178, 0.9366300106048584, 0.47274449467658997, 0.09021841734647751, 0.03608736768364906, 0.20208925008773804, 0.06856599450111389, 0.02165241912007332, 0.014434946700930595, 0.039696104824543, 0.054131049662828445, 0.8261826038360596, 0.9604484438896179, 0.35971540212631226, 0.24433498084545135, 0.06787082552909851, 0.08144499361515045, 0.07465790957212448, 0.0769202709197998, 0.04977194219827652, 0.011311804875731468, 0.033935412764549255, 0.17061302065849304, 0.8530650734901428, 0.10872644186019897, 0.03624214977025986, 0.24161432683467865, 0.024161431938409805, 0.07248429954051971, 0.3261793255805969, 0.04832286387681961, 0.04832286387681961, 0.09664572775363922, 0.6868597865104675, 0.321687787771225, 0.09492426365613937, 0.03691498935222626, 0.242584228515625, 0.16348066926002502, 0.05273570120334625, 0.05273570120334625, 0.005273569840937853, 0.02109427936375141, 0.5538248419761658, 0.07704125344753265, 0.027618562802672386, 0.08867011964321136, 0.030525779351592064, 0.06686599552631378, 0.08867011964321136, 0.02180412784218788, 0.0450618639588356, 0.9461045861244202, 0.13776740431785583, 0.08767016977071762, 0.07514585554599762, 0.08767016977071762, 0.025048619136214256, 0.3381563723087311, 0.15029171109199524, 0.06262154877185822, 0.03757292777299881, 0.434476763010025, 0.08477595448493958, 0.13246242702007294, 0.10773610323667526, 0.08654211461544037, 0.0794774517416954, 0.03179098293185234, 0.01589549146592617, 0.026492485776543617, 0.30155763030052185, 0.31988435983657837, 0.14994579553604126, 0.04998192936182022, 0.06997470557689667, 0.0483158640563488, 0.028323093429207802, 0.004998193122446537, 0.028323093429207802, 0.904460072517395, 0.8989298939704895, 0.06301295757293701, 0.7561554908752441, 0.12602591514587402, 0.09048961102962494, 0.09048961102962494, 0.09048961102962494, 0.7239168882369995, 0.8061226606369019, 0.37482818961143494, 0.2306635081768036, 0.05148738995194435, 0.12974822521209717, 0.06178486719727516, 0.07208234816789627, 0.043249405920505524, 0.02059495635330677, 0.014416469261050224, 0.8386303186416626, 0.844916820526123, 0.9051517248153687, 0.9127407073974609, 0.4975162744522095, 0.4353267550468445, 0.7854755520820618, 0.938493549823761, 0.42223280668258667, 0.10644524544477463, 0.059136245399713516, 0.14074426889419556, 0.11708977073431015, 0.07687712460756302, 0.022471774369478226, 0.03784719854593277, 0.017740873619914055, 0.7333307862281799, 0.3369276821613312, 0.15376566350460052, 0.13341432809829712, 0.14472061395645142, 0.06783778965473175, 0.07236030697822571, 0.04070267453789711, 0.036180153489112854, 0.013567558489739895, 0.9173881411552429, 0.33654454350471497, 0.16827227175235748, 0.021034033969044685, 0.04206806793808937, 0.021034033969044685, 0.04206806793808937, 0.021034033969044685, 0.3575785756111145, 0.04206806793808937, 0.8802121877670288, 0.0550132617354393, 0.17737236618995667, 0.7094894647598267, 0.823577880859375, 0.17442624270915985, 0.10901640355587006, 0.08721312135457993, 0.45786887407302856, 0.02180328033864498, 0.08721312135457993, 0.02180328033864498, 0.04360656067728996, 0.02180328033864498, 0.23271656036376953, 0.4447472095489502, 0.09308663010597229, 0.031028876081109047, 0.05171479284763336, 0.07240071147680283, 0.046543315052986145, 0.010342958383262157, 0.020685916766524315, 0.7391933798789978, 0.15430207550525665, 0.6172083020210266, 0.7212108969688416, 0.8568097352981567, 0.5383145213127136, 0.17863351106643677, 0.04586536064743996, 0.07241898775100708, 0.0579351931810379, 0.024139663204550743, 0.048279326409101486, 0.012069831602275372, 0.024139663204550743, 0.92549067735672, 0.7309346795082092, 0.15283124148845673, 0.2692740857601166, 0.0946098119020462, 0.05094374716281891, 0.10916516929864883, 0.10916516929864883, 0.07277677953243256, 0.021833034232258797, 0.11644285172224045, 0.9487575888633728, 0.6254043579101562, 0.061172109097242355, 0.03018360771238804, 0.07163576036691666, 0.034208089113235474, 0.0647941455245018, 0.05151335522532463, 0.017305267974734306, 0.0438668429851532, 0.8067178130149841, 0.2752428948879242, 0.08691880851984024, 0.10864850878715515, 0.05794587358832359, 0.3766481876373291, 0.05794587358832359, 0.02172970212996006, 0.007243234198540449, 0.007243234198540449, 0.22301214933395386, 0.43805959820747375, 0.06371776014566422, 0.03185888007283211, 0.10354135930538177, 0.10354135930538177, 0.023894159123301506, 0.007964720018208027, 0.007964720018208027, 0.17532579600811005, 0.12523271143436432, 0.36526206135749817, 0.06887798756361008, 0.1398431956768036, 0.04800587147474289, 0.05009308457374573, 0.01461048237979412, 0.01669769361615181, 0.7882815003395081, 0.6905115842819214, 0.9289605617523193, 0.300044447183609, 0.06429523974657059, 0.02143174782395363, 0.23574921488761902, 0.02143174782395363, 0.02143174782395363, 0.34290796518325806, 0.02143174782395363, 0.7840027213096619, 0.36038708686828613, 0.21974822878837585, 0.013184892944991589, 0.061529502272605896, 0.10987411439418793, 0.17140361666679382, 0.021974822506308556, 0.017579857259988785, 0.021974822506308556, 0.8287144899368286, 0.9584462642669678, 0.02039247378706932, 0.3785451650619507, 0.031545430421829224, 0.031545430421829224, 0.5047268867492676, 0.031545430421829224, 0.19088959693908691, 0.7635583877563477, 0.07694967091083527, 0.05771225318312645, 0.09618708491325378, 0.03847483545541763, 0.6540722250938416, 0.03847483545541763, 0.019237417727708817, 0.019237417727708817, 0.019237417727708817, 0.7851412892341614, 0.967348039150238, 0.8381533622741699, 0.1529502421617508, 0.7137678265571594, 0.10196682810783386, 0.025491707026958466, 0.807034432888031, 0.8133452534675598, 0.3032751977443695, 0.09731965512037277, 0.06563418358564377, 0.11089913547039032, 0.08826666325330734, 0.17200683057308197, 0.05658119171857834, 0.022632477805018425, 0.08374016731977463, 0.8555803894996643, 0.8265854120254517, 0.9681728482246399, 0.22361619770526886, 0.08944647759199142, 0.04472323879599571, 0.5814021229743958, 0.8368098735809326, 0.7787749171257019, 0.36663100123405457, 0.061105165630578995, 0.48884132504463196, 0.20181673765182495, 0.13222476840019226, 0.06959198415279388, 0.013918396085500717, 0.4036334753036499, 0.06263278424739838, 0.04871438816189766, 0.06263278424739838, 0.7825440764427185, 0.3237845301628113, 0.5623626112937927, 0.017041292041540146, 0.017041292041540146, 0.05112387239933014, 0.03408258408308029, 0.20652367174625397, 0.10326183587312698, 0.03442060947418213, 0.03442060947418213, 0.5507297515869141, 0.03442060947418213, 0.06884121894836426, 0.04663144424557686, 0.699471652507782, 0.09326288849115372, 0.09326288849115372, 0.9186257123947144, 0.14642423391342163, 0.10737776756286621, 0.029284846037626266, 0.00976161565631628, 0.5856969356536865, 0.01952323131263256, 0.04880807548761368, 0.03904646262526512, 0.00976161565631628, 0.9387773275375366, 0.1648329496383667, 0.19779954850673676, 0.09889977425336838, 0.06593318283557892, 0.09889977425336838, 0.06593318283557892, 0.03296659141778946, 0.03296659141778946, 0.29669931530952454, 0.3337080180644989, 0.0953451469540596, 0.06356342881917953, 0.06356342881917953, 0.03178171440958977, 0.015890857204794884, 0.30192631483078003, 0.0476725734770298, 0.06356342881917953, 0.1568068563938141, 0.7840343117713928, 0.15471093356609344, 0.11758031696081161, 0.01237687561661005, 0.5260171890258789, 0.0495075024664402, 0.05569593980908394, 0.06807281076908112, 0.01237687561661005, 0.006188437808305025, 0.5805065035820007, 0.14512662589550018, 0.020732376724481583, 0.248788520693779, 0.14830149710178375, 0.14830149710178375, 0.593205988407135, 0.2312023937702179, 0.11560119688510895, 0.4855250120162964, 0.017340179532766342, 0.034680359065532684, 0.06358065456151962, 0.028900299221277237, 0.005780059844255447, 0.017340179532766342, 0.07748132199048996, 0.581109881401062, 0.27118462324142456, 0.03874066099524498, 0.03874066099524498, 0.7122663855552673, 0.0979820042848587, 0.1959640085697174, 0.0979820042848587, 0.5878920555114746, 0.8497729897499084, 0.07081441581249237, 0.07081441581249237, 0.7499428987503052, 0.1874857246875763, 0.6910571455955505, 0.8563085794448853, 0.8702490329742432, 0.15797270834445953, 0.03510504588484764, 0.01755252294242382, 0.03510504588484764, 0.45636558532714844, 0.01755252294242382, 0.1228676587343216, 0.1755252331495285, 0.1924489289522171, 0.14467792212963104, 0.4026413559913635, 0.028662605211138725, 0.09554202109575272, 0.04367635026574135, 0.05596032738685608, 0.021838175132870674, 0.013648860156536102, 0.9401909112930298, 0.3121049702167511, 0.09061112254858017, 0.020135805010795593, 0.39264819025993347, 0.05033951252698898, 0.08054322004318237, 0.040271610021591187, 0.010067902505397797, 0.6922959089279175, 0.6904462575912476, 0.8207119107246399, 0.2989792227745056, 0.1594555824995041, 0.0249149352312088, 0.3338601291179657, 0.08969376236200333, 0.01993194781243801, 0.009965973906219006, 0.0249149352312088, 0.03986389562487602, 0.21743233501911163, 0.24831761419773102, 0.22360940277576447, 0.042003974318504333, 0.15936802327632904, 0.013589520938694477, 0.040768563747406006, 0.04323938488960266, 0.011118698865175247, 0.2894516587257385, 0.2222241759300232, 0.13632239401340485, 0.07843206077814102, 0.044818319380283356, 0.10270865261554718, 0.03734860196709633, 0.0504206120967865, 0.03734860196709633, 0.13046923279762268, 0.44576987624168396, 0.15765032172203064, 0.03805352747440338, 0.08697948604822159, 0.07610705494880676, 0.021744871512055397, 0.005436217878013849, 0.03805352747440338, 0.4316120147705078, 0.11748019605875015, 0.03320092335343361, 0.08938710391521454, 0.10471060872077942, 0.10471060872077942, 0.06129401549696922, 0.0383087582886219, 0.020431337878108025, 0.6956018805503845, 0.845958411693573, 0.544515073299408, 0.05940164625644684, 0.02310064062476158, 0.14520402252674103, 0.042901188135147095, 0.11880329251289368, 0.03960109502077103, 0.01320036593824625, 0.019800547510385513, 0.8422747850418091, 0.7435733675956726, 0.8734221458435059, 0.8098941445350647, 0.9610801935195923, 0.0662340596318245, 0.7948086857795715, 0.0662340596318245, 0.0343809612095356, 0.0343809612095356, 0.0343809612095356, 0.0687619224190712, 0.7907621264457703, 0.9475465416908264, 0.8999271988868713, 0.5217606425285339, 0.16054172813892365, 0.020067716017365456, 0.28094804286956787, 0.20767949521541595, 0.30138853192329407, 0.060784243047237396, 0.11143777519464493, 0.055718887597322464, 0.03799015283584595, 0.027859443798661232, 0.14942793548107147, 0.0455881804227829, 0.08560117334127426, 0.7704105377197266, 0.08560117334127426, 0.35721591114997864, 0.5953598618507385, 0.2478315830230713, 0.1290082186460495, 0.08487383276224136, 0.18332746624946594, 0.09166373312473297, 0.05092429742217064, 0.07468897104263306, 0.06450410932302475, 0.07808392494916916, 0.5508622527122498, 0.1113988533616066, 0.06336448341608047, 0.10833283513784409, 0.07154054939746857, 0.040880315005779266, 0.028616219758987427, 0.007154054939746857, 0.01839614100754261, 0.3761783838272095, 0.11949195712804794, 0.14162009954452515, 0.10400225967168808, 0.05532034859061241, 0.07302286475896835, 0.0796613022685051, 0.030979394912719727, 0.022128140553832054, 0.8367505073547363, 0.5899375081062317, 0.07659409195184708, 0.07170511037111282, 0.07496443390846252, 0.06518646329641342, 0.03259323164820671, 0.048889849334955215, 0.019555939361453056, 0.019555939361453056, 0.866569459438324, 0.1836579442024231, 0.7346317768096924, 0.4179278612136841, 0.11485040187835693, 0.10208924859762192, 0.047854334115982056, 0.09570866823196411, 0.04466404393315315, 0.13399213552474976, 0.022332021966576576, 0.022332021966576576, 0.08786086738109589, 0.8786087036132812, 0.6623134016990662, 0.299289345741272, 0.12361951172351837, 0.08922912180423737, 0.06878077983856201, 0.09759435057640076, 0.07807548344135284, 0.1775287687778473, 0.034390389919281006, 0.030672509223222733, 0.7667338848114014, 0.8138138055801392, 0.8183807134628296, 0.167768195271492, 0.09586754441261292, 0.45537084341049194, 0.03595032915472984, 0.09586754441261292, 0.11983443051576614, 0.02396688610315323, 0.011983443051576614, 0.8118646740913391, 0.6947866082191467, 0.9427538514137268, 0.6884851455688477, 0.12195724248886108, 0.06879639625549316, 0.05003374069929123, 0.015114359557628632, 0.014071989804506302, 0.017720283940434456, 0.02032620832324028, 0.0036482936702668667, 0.34595078229904175, 0.25824496150016785, 0.03898036852478981, 0.0633431002497673, 0.07308819144964218, 0.1900293081998825, 0.014617638662457466, 0.009745092131197453, 0.009745092131197453, 0.8125500679016113, 0.08489328622817993, 0.02425522543489933, 0.02425522543489933, 0.04851045086979866, 0.8696137070655823, 0.699123203754425, 0.11504559218883514, 0.09734626859426498, 0.0442483052611351, 0.0442483052611351, 0.7512542605400085, 0.9071065783500671, 0.5655187964439392, 0.07174492627382278, 0.06752463430166245, 0.09284637123346329, 0.0422028973698616, 0.09706666320562363, 0.0211014486849308, 0.01688115857541561, 0.03376231715083122, 0.9113789200782776, 0.905123233795166, 0.6975892782211304, 0.8837998509407043, 0.2925211489200592, 0.05850423127412796, 0.526538074016571, 0.33817166090011597, 0.11624651402235031, 0.10567864775657654, 0.010567864403128624, 0.10567864775657654, 0.042271457612514496, 0.03170359507203102, 0.19022156298160553, 0.042271457612514496, 0.8667618632316589, 0.8502288460731506, 0.8063997626304626, 0.3306913673877716, 0.5952444672584534, 0.1949852555990219, 0.11699115484952927, 0.4939626455307007, 0.060662079602479935, 0.043330058455467224, 0.05199606716632843, 0.025998033583164215, 0.004333005752414465, 0.012999016791582108, 0.8599295616149902, 0.8205173015594482, 0.8288840055465698, 0.9085144400596619, 0.13935181498527527, 0.10134677588939667, 0.3420453667640686, 0.10134677588939667, 0.18369102478027344, 0.050673387944698334, 0.025336693972349167, 0.025336693972349167, 0.0190025195479393, 0.841750979423523, 0.8773586750030518, 0.8585970401763916, 0.8078983426094055, 0.9292072653770447, 0.3218475878238678, 0.20577141642570496, 0.0633142814040184, 0.07386665791273117, 0.07386665791273117, 0.05803808942437172, 0.0158285703510046, 0.12135237455368042, 0.05803808942437172, 0.1715635359287262, 0.4166542887687683, 0.06535753607749939, 0.09803630411624908, 0.07352723181247711, 0.08169692009687424, 0.04901815205812454, 0.016339384019374847, 0.02450907602906227, 0.3386187255382538, 0.1373641937971115, 0.025556130334734917, 0.1373641937971115, 0.06708484143018723, 0.10541903972625732, 0.028750646859407425, 0.13416968286037445, 0.025556130334734917, 0.7860970497131348, 0.946017324924469, 0.5091713666915894, 0.16782744228839874, 0.04835705831646919, 0.06257972121238708, 0.03128986060619354, 0.05404612421989441, 0.0824914500117302, 0.014222663827240467, 0.028445327654480934, 0.7154296040534973, 0.08324204385280609, 0.8324204683303833, 0.08324204385280609, 0.7886560559272766, 0.2703858017921448, 0.3962550461292267, 0.17714931070804596, 0.06060371175408363, 0.03263276815414429, 0.03729459270834923, 0.009323648177087307, 0.0046618240885436535, 0.009323648177087307, 0.05886951461434364, 0.17660853266716003, 0.11773902922868729, 0.5298256278038025, 0.05886951461434364, 0.8719304800033569, 0.3310176730155945, 0.20926405489444733, 0.11604642868041992, 0.10463202744722366, 0.05707201361656189, 0.07609602063894272, 0.04946241155266762, 0.03614560887217522, 0.01902400515973568, 0.33142828941345215, 0.10567278414964676, 0.08645955473184586, 0.24977204203605652, 0.11527940630912781, 0.038426466286182404, 0.038426466286182404, 0.019213233143091202, 0.009606616571545601, 0.3217809796333313, 0.20904019474983215, 0.054021622985601425, 0.1009969487786293, 0.15736733376979828, 0.06106792390346527, 0.028185194358229637, 0.03992902487516403, 0.028185194358229637, 0.8540852069854736, 0.3187847137451172, 0.14834536612033844, 0.19253334403038025, 0.050500549376010895, 0.11993879824876785, 0.03787541016936302, 0.041031695902347565, 0.022093988955020905, 0.0725945383310318, 0.17926350235939026, 0.13037344813346863, 0.5214937925338745, 0.048890043050050735, 0.03259336203336716, 0.048890043050050735, 0.03259336203336716, 0.01629668101668358, 0.9391117691993713, 0.16665765643119812, 0.16665765643119812, 0.6110780835151672, 0.825371503829956, 0.31025588512420654, 0.007215253077447414, 0.007215253077447414, 0.043291520327329636, 0.526713490486145, 0.007215253077447414, 0.021645760163664818, 0.07936778664588928, 0.007215253077447414, 0.9074134230613708, 0.09262249618768692, 0.04939866438508034, 0.5619098544120789, 0.03704899922013283, 0.09262249618768692, 0.02469933219254017, 0.12349666655063629, 0.006174833048135042, 0.006174833048135042, 0.7383987307548523, 0.1001218631863594, 0.02503046579658985, 0.02503046579658985, 0.02503046579658985, 0.012515232898294926, 0.0500609315931797, 0.012515232898294926, 0.12466425448656082, 0.8103176951408386, 0.25836801528930664, 0.08612266927957535, 0.6028587222099304, 0.37446466088294983, 0.12688471376895905, 0.07117923349142075, 0.1856849491596222, 0.06498973071575165, 0.05880023539066315, 0.0309474915266037, 0.0278527420014143, 0.0557054840028286, 0.3921826183795929, 0.030167892575263977, 0.030167892575263977, 0.030167892575263977, 0.09050367772579193, 0.3921826183795929, 0.030167892575263977, 0.47528311610221863, 0.1438930481672287, 0.030522769317030907, 0.026162372902035713, 0.030522769317030907, 0.008720790967345238, 0.039243560284376144, 0.2092989832162857, 0.03488316386938095, 0.7810623645782471, 0.9125967621803284, 0.048031408339738846, 0.8084526062011719, 0.10105657577514648, 0.05052828788757324, 0.8309949636459351, 0.9198424816131592, 0.34594693779945374, 0.05189203843474388, 0.017297346144914627, 0.41513630747795105, 0.06918938457965851, 0.06918938457965851, 0.017297346144914627, 0.017297346144914627, 0.8386247158050537, 0.8554381728172302, 0.33992618322372437, 0.19120848178863525, 0.15837469696998596, 0.023176785558462143, 0.0714617520570755, 0.07918734848499298, 0.050216369330883026, 0.05987336114048958, 0.028970982879400253, 0.8170917630195618, 0.04578592628240585, 0.0915718525648117, 0.1831437051296234, 0.0915718525648117, 0.5494310855865479, 0.04578592628240585, 0.04578592628240585, 0.34662580490112305, 0.1109885647892952, 0.15367646515369415, 0.12464869022369385, 0.05805555358529091, 0.06317810714244843, 0.06659314036369324, 0.020490195602178574, 0.054640524089336395, 0.7813547849655151, 0.8054132461547852, 0.8694945573806763, 0.808809757232666, 0.11554425209760666, 0.21996250748634338, 0.769868791103363, 0.6960096955299377, 0.10324171930551529, 0.8259337544441223, 0.8110724091529846, 0.4740409851074219, 0.09288641065359116, 0.03843575716018677, 0.09929236769676208, 0.060856614261865616, 0.13772812485694885, 0.028826816007494926, 0.03843575716018677, 0.025623837485909462, 0.15262296795845032, 0.7631148099899292, 0.32669776678085327, 0.1014440506696701, 0.3051309287548065, 0.058310359716415405, 0.07588334381580353, 0.04473123326897621, 0.014377896673977375, 0.03594474121928215, 0.03754228726029396, 0.12371176481246948, 0.6185588240623474, 0.3094750940799713, 0.2431589961051941, 0.03684227168560028, 0.022105364128947258, 0.022105364128947258, 0.05894763767719269, 0.25789591670036316, 0.014736909419298172, 0.029473818838596344, 0.32526692748069763, 0.12282807379961014, 0.08643456548452377, 0.18651670217514038, 0.10463131964206696, 0.09325835108757019, 0.03184431418776512, 0.03866809606552124, 0.013647563755512238, 0.8218731880187988, 0.29015544056892395, 0.20815497636795044, 0.0220770426094532, 0.16400089859962463, 0.17977021634578705, 0.028384769335389137, 0.06938499212265015, 0.015769315883517265, 0.025230906903743744, 0.6433691382408142, 0.047853901982307434, 0.031902603805065155, 0.12761041522026062, 0.047853901982307434, 0.047853901982307434, 0.026585502550005913, 0.015951301902532578, 0.015951301902532578, 0.3754878044128418, 0.1246432512998581, 0.1246432512998581, 0.10594676434993744, 0.045183178037405014, 0.14489777386188507, 0.034276895225048065, 0.021812569350004196, 0.023370608687400818, 0.8585842251777649, 0.07154868543148041, 0.04092250391840935, 0.7093234062194824, 0.01364083494991064, 0.04092250391840935, 0.1773308515548706, 0.01364083494991064, 0.8611788153648376, 0.9029140472412109, 0.6990783214569092, 0.8198495507240295, 0.16396991908550262, 0.6863068342208862, 0.8825505971908569, 0.1679312139749527, 0.7836789488792419, 0.05597706884145737, 0.3303288519382477, 0.1148969903588295, 0.08138536661863327, 0.1244717389345169, 0.07659799605607986, 0.07899168133735657, 0.08138536661863327, 0.03829899802803993, 0.07420431077480316, 0.28478726744651794, 0.1560853272676468, 0.0766734927892685, 0.18894539773464203, 0.09036518633365631, 0.0821501687169075, 0.052028439939022064, 0.04655176401138306, 0.021906713023781776, 0.8309334516525269, 0.849676251411438, 0.2918052673339844, 0.19453684985637665, 0.022106461226940155, 0.026527753099799156, 0.04421292245388031, 0.013263876549899578, 0.026527753099799156, 0.26527753472328186, 0.11495359241962433, 0.8260690569877625, 0.14069506525993347, 0.040198586881160736, 0.43213483691215515, 0.20099294185638428, 0.08039717376232147, 0.0301489420235157, 0.020099293440580368, 0.040198586881160736, 0.020099293440580368, 0.12593874335289001, 0.06296937167644501, 0.06296937167644501, 0.06296937167644501, 0.06296937167644501, 0.6926630735397339, 0.09266971796751022, 0.17298346757888794, 0.37685686349868774, 0.08031375706195831, 0.08649173378944397, 0.09884770214557648, 0.0679577961564064, 0.00617798138409853, 0.02471192553639412, 0.3001849055290222, 0.660406768321991, 0.30630508065223694, 0.08278515934944153, 0.05794961005449295, 0.04967109486460686, 0.04967109486460686, 0.31458359956741333, 0.016557032242417336, 0.016557032242417336, 0.09934218972921371, 0.13271509110927582, 0.21858955919742584, 0.3825317323207855, 0.015613540075719357, 0.10929477959871292, 0.015613540075719357, 0.03903384879231453, 0.015613540075719357, 0.062454160302877426, 0.25102147459983826, 0.05020429939031601, 0.6526558995246887, 0.8750454187393188, 0.827748715877533, 0.8135266900062561, 0.0477566234767437, 0.7641059756278992, 0.0955132469534874, 0.8740130066871643, 0.744723916053772, 0.20632751286029816, 0.20632751286029816, 0.05158187821507454, 0.46423688530921936, 0.13207179307937622, 0.35601961612701416, 0.08613377809524536, 0.080391526222229, 0.06316477060317993, 0.034453511238098145, 0.20672106742858887, 0.017226755619049072, 0.017226755619049072, 0.3487778902053833, 0.3213869631290436, 0.051129743456840515, 0.06026005372405052, 0.07669461518526077, 0.07852067798376083, 0.034695181995630264, 0.017347590997815132, 0.010043342597782612, 0.468262255191803, 0.026757843792438507, 0.13378921151161194, 0.04013676568865776, 0.3210941255092621, 0.5441588163375854, 0.363433301448822, 0.10358726978302002, 0.14221303164958954, 0.1650373488664627, 0.08076296001672745, 0.05267149209976196, 0.028091462329030037, 0.040381480008363724, 0.024580029770731926, 0.12347172945737839, 0.1763881891965866, 0.01763881929218769, 0.01763881929218769, 0.01763881929218769, 0.01763881929218769, 0.01763881929218769, 0.5468034148216248, 0.07055527716875076, 0.9159172177314758, 0.7817421555519104, 0.7284706234931946, 0.6003046631813049, 0.36941826343536377, 0.7443180084228516, 0.3572588860988617, 0.20095813274383545, 0.07655547559261322, 0.025518493726849556, 0.054226797074079514, 0.028708305209875107, 0.04784717410802841, 0.15630076825618744, 0.05103698745369911, 0.10593345761299133, 0.8474676609039307, 0.10646320134401321, 0.10646320134401321, 0.10646320134401321, 0.6387792229652405, 0.14117348194122314, 0.2470535933971405, 0.07058674097061157, 0.035293370485305786, 0.035293370485305786, 0.035293370485305786, 0.42352044582366943, 0.035293370485305786, 0.035293370485305786, 0.1487332135438919, 0.08676104247570038, 0.23549425601959229, 0.08676104247570038, 0.13633878529071808, 0.30986085534095764, 0.01239443477243185, 0.5921036601066589, 0.08115126192569733, 0.024044819176197052, 0.0901680737733841, 0.02705042064189911, 0.07514005899429321, 0.021039215847849846, 0.04207843169569969, 0.048089638352394104, 0.38283205032348633, 0.0663575604557991, 0.061253130435943604, 0.1071929782629013, 0.061253130435943604, 0.081670843064785, 0.1582372486591339, 0.0459398478269577, 0.030626565217971802, 0.2063680738210678, 0.11792461574077606, 0.05896230787038803, 0.08844345808029175, 0.44221729040145874, 0.05896230787038803, 0.4337392747402191, 0.11473103612661362, 0.21686963737010956, 0.06995794922113419, 0.07695373892784119, 0.030781496316194534, 0.032180655747652054, 0.009794112294912338, 0.015390748158097267, 0.9496181607246399, 0.7016507387161255, 0.180356964468956, 0.180356964468956, 0.045089241117239, 0.060118984431028366, 0.015029746107757092, 0.015029746107757092, 0.030059492215514183, 0.42083290219306946, 0.060118984431028366, 0.12847059965133667, 0.25694119930267334, 0.06423529982566833, 0.5138823986053467, 0.8188853859901428, 0.9110041856765747, 0.06507173180580139, 0.7217555642127991, 0.7742612957954407, 0.8875039219856262, 0.1611688733100891, 0.23369485139846802, 0.20951953530311584, 0.024175330996513367, 0.04029221832752228, 0.04835066199302673, 0.22563640773296356, 0.008058443665504456, 0.04835066199302673, 0.03326382488012314, 0.8981233239173889, 0.03326382488012314, 0.11720675230026245, 0.2344135046005249, 0.13395057618618011, 0.06697528809309006, 0.10046292841434479, 0.08371910452842712, 0.03348764404654503, 0.016743822023272514, 0.21766968071460724, 0.814414918422699, 0.22566236555576324, 0.14184491336345673, 0.2353336066007614, 0.054803717881441116, 0.0902649462223053, 0.0902649462223053, 0.08381745219230652, 0.029013732448220253, 0.04835622012615204, 0.8766778111457825, 0.9045616388320923, 0.8060640096664429, 0.8554643988609314, 0.9375224709510803, 0.15210729837417603, 0.038026824593544006, 0.15210729837417603, 0.038026824593544006, 0.11408047378063202, 0.038026824593544006, 0.4943487346172333, 0.8366954326629639, 0.8153002262115479, 0.8670565485954285, 0.8539862036705017, 0.15836113691329956, 0.052787043154239655, 0.10557408630847931, 0.10557408630847931, 0.15836113691329956, 0.052787043154239655, 0.052787043154239655, 0.3695093095302582, 0.6140909790992737, 0.4906364679336548, 0.1226591169834137, 0.053970009088516235, 0.14719094336032867, 0.05887637659907341, 0.0474281907081604, 0.019625458866357803, 0.029438188299536705, 0.031073642894625664, 0.5386753082275391, 0.7815271615982056, 0.33273476362228394, 0.15587574243545532, 0.22931718826293945, 0.0344725176692009, 0.06594742834568024, 0.052458181977272034, 0.050959374755620956, 0.04196654632687569, 0.035971324890851974, 0.8432278633117676, 0.08432278782129288, 0.3532397747039795, 0.022077485918998718, 0.5740146040916443, 0.022077485918998718, 0.1278705596923828, 0.09133611619472504, 0.5662838816642761, 0.18267223238945007, 0.8699635863304138, 0.3492676615715027, 0.28428763151168823, 0.06633377820253372, 0.09340879321098328, 0.046027522534132004, 0.07445628196001053, 0.03655126690864563, 0.010830004699528217, 0.0379050187766552, 0.9603646993637085, 0.3110344409942627, 0.06347642093896866, 0.038085851818323135, 0.47607314586639404, 0.038085851818323135, 0.057128775864839554, 0.0063476418145000935, 0.0063476418145000935, 0.0063476418145000935, 0.664003312587738, 0.025056729093194008, 0.050113458186388016, 0.2505672872066498, 0.45335012674331665, 0.12305217236280441, 0.17702242732048035, 0.07771716266870499, 0.045335013419389725, 0.03885858133435249, 0.02590572088956833, 0.028064532205462456, 0.030223341658711433, 0.7339034080505371, 0.45638346672058105, 0.12665186822414398, 0.10481534153223038, 0.12665186822414398, 0.04148940369486809, 0.028387486934661865, 0.05677497386932373, 0.010918264277279377, 0.04585671052336693, 0.9348838329315186, 0.8014834523200989, 0.31336709856987, 0.09109508991241455, 0.08471842855215073, 0.09109508991241455, 0.2887714207172394, 0.04463659226894379, 0.03370518237352371, 0.025506624951958656, 0.027328526601195335, 0.6863334774971008, 0.8386600613594055, 0.31727084517478943, 0.1723446547985077, 0.11750772595405579, 0.10836823284626007, 0.07964412122964859, 0.08225540816783905, 0.048308730125427246, 0.048308730125427246, 0.02741846814751625, 0.39796578884124756, 0.11349926888942719, 0.11349926888942719, 0.11206256598234177, 0.08045517653226852, 0.1005689725279808, 0.03735418990254402, 0.03160738945007324, 0.01293029636144638, 0.6985093951225281, 0.8622273206710815, 0.932836651802063, 0.6436362266540527, 0.10601066797971725, 0.03786095231771469, 0.015144381672143936, 0.14387162029743195, 0.04543314501643181, 0.007572190836071968, 0.17582516372203827, 0.6446922421455383, 0.11721677333116531, 0.22760280966758728, 0.7586760520935059, 0.7884997129440308, 0.8054243326187134, 0.8360396027565002, 0.8800483345985413, 0.2968320846557617, 0.10623463988304138, 0.13748012483119965, 0.0874873548746109, 0.20622017979621887, 0.07186461240053177, 0.049992773681879044, 0.0031245483551174402, 0.040619127452373505, 0.0872017964720726, 0.20056413114070892, 0.5755318403244019, 0.0436008982360363, 0.05232107639312744, 0.01744036003947258, 0.01744036003947258, 0.00872018001973629, 0.810860812664032, 0.019858727231621742, 0.486538827419281, 0.019858727231621742, 0.12908172607421875, 0.13901108503341675, 0.20851664245128632, 0.8572497367858887, 0.35255634784698486, 0.131038635969162, 0.08735909312963486, 0.09359902888536453, 0.11855877190828323, 0.065519317984581, 0.05303945019841194, 0.034319642931222916, 0.062399353832006454, 0.35420694947242737, 0.15496553480625153, 0.11385223269462585, 0.10752710700035095, 0.07273892313241959, 0.06957636028528214, 0.03478818014264107, 0.031625621020793915, 0.06008867546916008, 0.7356356382369995, 0.28743237257003784, 0.242344930768013, 0.05635928735136986, 0.11835450679063797, 0.07514571398496628, 0.12962636351585388, 0.045087430626153946, 0.02817964367568493, 0.01878642849624157, 0.30169808864593506, 0.08228129893541336, 0.13256432116031647, 0.10970839858055115, 0.12342195212841034, 0.036569468677043915, 0.1417066901922226, 0.018284734338521957, 0.05942538380622864, 0.984126627445221, 0.8580115437507629, 0.8748167753219604, 0.14821074903011322, 0.026154838502407074, 0.07846451550722122, 0.034873116761446, 0.6277161240577698, 0.017436558380723, 0.034873116761446, 0.034873116761446, 0.0087182791903615, 0.05679013952612877, 0.05679013952612877, 0.07572018355131149, 0.018930045887827873, 0.7004117369651794, 0.09465023130178452, 0.4174598455429077, 0.21592751145362854, 0.2879033386707306, 0.035987917333841324, 0.021592751145362854, 0.014395167119801044, 0.6246241927146912, 0.0688881129026413, 0.09378045797348022, 0.09435935318470001, 0.0289445873349905, 0.06367809325456619, 0.00752559257671237, 0.013893401250243187, 0.005210025701671839, 0.8229113221168518, 0.06857594102621078, 0.694427490234375, 0.6837816834449768, 0.052257079631090164, 0.7838561534881592, 0.10451415926218033, 0.2566210627555847, 0.15397262573242188, 0.06415526568889618, 0.06415526568889618, 0.12831053137779236, 0.06415526568889618, 0.025662105530500412, 0.21812789142131805, 0.025662105530500412, 0.7515592575073242, 0.11104505509138107, 0.6107478141784668, 0.055522527545690536, 0.027761263772845268, 0.11104505509138107, 0.027761263772845268, 0.027761263772845268, 0.9066612720489502, 0.0996595174074173, 0.6833795309066772, 0.11389659345149994, 0.014237074181437492, 0.08542244136333466, 0.7300817966461182, 0.2836497128009796, 0.1418248564004898, 0.023637475445866585, 0.023637475445866585, 0.03545621410012245, 0.011818737722933292, 0.023637475445866585, 0.36638087034225464, 0.09454990178346634, 0.7014779448509216, 0.17200908064842224, 0.688036322593689, 0.19792498648166656, 0.5937749743461609, 0.13349659740924835, 0.05933181941509247, 0.4116145074367523, 0.09270596504211426, 0.15945427119731903, 0.03337414935231209, 0.06304005533456802, 0.029665909707546234, 0.01854119449853897, 0.12570196390151978, 0.10475163906812668, 0.04190065711736679, 0.06285098195075989, 0.14665229618549347, 0.3980562388896942, 0.020950328558683395, 0.020950328558683395, 0.04190065711736679, 0.18181005120277405, 0.799964189529419, 0.2322334498167038, 0.07962289452552795, 0.04644668847322464, 0.06635241210460663, 0.1592457890510559, 0.3516677916049957, 0.013270482420921326, 0.006635241210460663, 0.04644668847322464, 0.21022149920463562, 0.14014767110347748, 0.1465180218219757, 0.05733313784003258, 0.3503691852092743, 0.031851742416620255, 0.050962790846824646, 0.012740697711706161, 0.8683797121047974, 0.5720170736312866, 0.0508519783616066, 0.1017039567232132, 0.5085197687149048, 0.2034079134464264, 0.0508519783616066, 0.14538942277431488, 0.47978508472442627, 0.13708144426345825, 0.05400178208947182, 0.0498478002846241, 0.06023275852203369, 0.043616823852062225, 0.012461950071156025, 0.018692925572395325, 0.8032099604606628, 0.08924555033445358, 0.3140696883201599, 0.06480803340673447, 0.28914353251457214, 0.014955699443817139, 0.12213820964097977, 0.08225634694099426, 0.06480803340673447, 0.04237448051571846, 0.004985233303159475, 0.16860899329185486, 0.574803352355957, 0.04598427191376686, 0.03832022473216057, 0.06897640228271484, 0.06897640228271484, 0.015328089706599712, 0.007664044853299856, 0.015328089706599712, 0.1715400516986847, 0.04901144281029701, 0.4002600908279419, 0.13069717586040497, 0.04901144281029701, 0.024505721405148506, 0.14703431725502014, 0.00816857349127531, 0.01633714698255062, 0.13284924626350403, 0.14919991791248322, 0.2166464626789093, 0.08788488805294037, 0.14306841790676117, 0.15941908955574036, 0.059271201491355896, 0.028613682836294174, 0.02043834514915943, 0.9104715585708618, 0.6868926882743835, 0.1373785436153412, 0.8509958386421204, 0.8363454341888428, 0.1273290067911148, 0.7639740109443665, 0.841989278793335, 0.7875902652740479, 0.09844878315925598, 0.22514264285564423, 0.6754279732704163, 0.4305295944213867, 0.022078441455960274, 0.022078441455960274, 0.04415688291192055, 0.38637271523475647, 0.022078441455960274, 0.05519610270857811, 0.011039220727980137, 0.011039220727980137, 0.40666481852531433, 0.1623346209526062, 0.0894496962428093, 0.04472484812140465, 0.08696497976779938, 0.13003334403038025, 0.020705947652459145, 0.03809894248843193, 0.020705947652459145, 0.9126635789871216, 0.14997242391109467, 0.17246828973293304, 0.09748207777738571, 0.1049806997179985, 0.1049806997179985, 0.26245173811912537, 0.06748759001493454, 0.02249586395919323, 0.02249586395919323, 0.37160733342170715, 0.20246510207653046, 0.06756497174501419, 0.10111764073371887, 0.04940975829958916, 0.09744063764810562, 0.04780106991529465, 0.029645854607224464, 0.03309304639697075, 0.3033933937549591, 0.1710035502910614, 0.09101801365613937, 0.12963171303272247, 0.09653425961732864, 0.03033933788537979, 0.14893856644630432, 0.005516243167221546, 0.022064972668886185, 0.08879727125167847, 0.08034038543701172, 0.5919817686080933, 0.008456883020699024, 0.059198178350925446, 0.050741296261548996, 0.09302571415901184, 0.004228441510349512, 0.021142207086086273, 0.465451717376709, 0.1267218291759491, 0.09303950518369675, 0.11172366142272949, 0.07766002416610718, 0.05617959052324295, 0.03088606335222721, 0.014489758759737015, 0.023895390331745148, 0.4033234715461731, 0.1701967716217041, 0.11727844923734665, 0.13444115221500397, 0.05935433879494667, 0.03861607611179352, 0.04219163954257965, 0.01930803805589676, 0.014302249997854233, 0.1678968071937561, 0.6715872287750244, 0.8756938576698303, 0.8867275714874268, 0.27960312366485596, 0.20334771275520325, 0.06778257340192795, 0.016945643350481987, 0.06778257340192795, 0.016945643350481987, 0.025418464094400406, 0.24571183323860168, 0.06778257340192795, 0.3945052921772003, 0.048554494976997375, 0.13352486491203308, 0.04248518496751785, 0.12745554745197296, 0.03641587123274803, 0.20635661482810974, 0.9123610258102417, 0.8978959321975708, 0.02362884022295475, 0.02362884022295475, 0.02362884022295475, 0.8459436297416687], \"Term\": [\"\", \"\", \"\", \"\", \"\", \"\", \"\", \"\", \"\", \"''\", \"*****\", \".\", \".\", \".\", \".\", \".\", \".\", \".\", \".\", \".\", \"..\", \"..\", \"..\", \"..\", \"..\", \"..\", \"..\", \"..\", \"..\", \"...\", \"...\", \"...\", \"...\", \"...\", \"...\", \"...\", \"...\", \"...\", \"....\", \"....\", \"....\", \"....\", \"....\", \"....\", \"....\", \"....\", \"....\", \"//\", \"//\", \"//\", \"//\", \"//\", \"//\", \"//\", \"//\", \"//\", \"/?\", \"/?\", \"100,000\", \"9.50\", \"[/\", \"[/\", \"^^\", \"^^*\", \"^_^\", \"^_^\", \"^_^\", \"___\", \"________________________________________________________\", \"________________________________________________________\", \"________________________________________________________\", \"________________________________________________________\", \"________________________________________________________\", \"________________________________________________________\", \"________________________________________________________\", \"________________________________________________________\", \"________________________________________________________\", \"american\", \"beez\", \"bigc\", \"bigc\", \"bigc\", \"bigc\", \"bigc\", \"cal\", \"care\", \"cc\", \"cc\", \"cc\", \"cc\", \"cc\", \"cc\", \"cm\", \"cm\", \"cm\", \"cm\", \"comment\", \"comment\", \"comment\", \"cooking\", \"copy\", \"csr\", \"customer\", \"dark\", \"dutch\", \"enfa\", \"error\", \"express\", \"express\", \"farm\", \"fc\", \"foodland\", \"foodland\", \"foodland\", \"hello\", \"hi\", \"hiq\", \"img\", \"img\", \"img\", \"jj\", \"jpg\", \"jpg\", \"jpg\", \"kfc\", \"kfc\", \"kfc\", \"kitkat\", \"lazada\", \"lazada\", \"le\", \"like\", \"lotus\", \"lotus\", \"lotus\", \"lotus\", \"lotus\", \"lotus\", \"lotus\", \"lotus\", \"lotus\", \"mall\", \"mc\", \"mill\", \"momonja\", \"nagoya\", \"on\", \"ouou\", \"passion\", \"petit\", \"pj\", \"products\", \"red\", \"red\", \"search\", \"selected\", \"selected\", \"selected\", \"shopat\", \"spoil\", \"spoil\", \"spoil\", \"spoil\", \"spoil\", \"spoil\", \"spoil\", \"spoil\", \"swiss\", \"taxi\", \"taxi\", \"that\", \"that\", \"top\", \"top\", \"top\", \"top\", \"top\", \"tv\", \"tvc\", \"tvong\", \"yut-san\", \"yy\", \"\\u0e01\\u0e01.\", \"\\u0e01\\u0e01.\", \"\\u0e01\\u0e01.\", \"\\u0e01\\u0e01.\", \"\\u0e01\\u0e01.\", \"\\u0e01\\u0e01.\", \"\\u0e01\\u0e01.\", \"\\u0e01\\u0e01.\", \"\\u0e01\\u0e23\\u0e23\\u0e21\", \"\\u0e01\\u0e23\\u0e23\\u0e44\\u0e01\\u0e23\", \"\\u0e01\\u0e23\\u0e30\\u0e08\\u0e48\\u0e32\\u0e07\", \"\\u0e01\\u0e23\\u0e30\\u0e17\\u0e39\\u0e49\", \"\\u0e01\\u0e23\\u0e30\\u0e17\\u0e39\\u0e49\", \"\\u0e01\\u0e23\\u0e30\\u0e17\\u0e39\\u0e49\", \"\\u0e01\\u0e23\\u0e30\\u0e17\\u0e39\\u0e49\", \"\\u0e01\\u0e23\\u0e30\\u0e17\\u0e39\\u0e49\", \"\\u0e01\\u0e23\\u0e30\\u0e17\\u0e39\\u0e49\", \"\\u0e01\\u0e23\\u0e30\\u0e17\\u0e39\\u0e49\", \"\\u0e01\\u0e23\\u0e30\\u0e17\\u0e39\\u0e49\", \"\\u0e01\\u0e23\\u0e30\\u0e17\\u0e39\\u0e49\", \"\\u0e01\\u0e23\\u0e30\\u0e17\\u0e39\\u0e49\\u0e16\\u0e32\\u0e21\", \"\\u0e01\\u0e23\\u0e30\\u0e40\\u0e14\\u0e47\\u0e19\", \"\\u0e01\\u0e23\\u0e30\\u0e41\\u0e2a\\u0e40\\u0e25\\u0e37\\u0e2d\\u0e14\", \"\\u0e01\\u0e23\\u0e31\\u0e21\", \"\\u0e01\\u0e23\\u0e31\\u0e21\", \"\\u0e01\\u0e23\\u0e31\\u0e21\", \"\\u0e01\\u0e23\\u0e31\\u0e21\", \"\\u0e01\\u0e23\\u0e31\\u0e21\", \"\\u0e01\\u0e23\\u0e31\\u0e21\", \"\\u0e01\\u0e23\\u0e31\\u0e21\", \"\\u0e01\\u0e23\\u0e31\\u0e21\", \"\\u0e01\\u0e23\\u0e31\\u0e21\", \"\\u0e01\\u0e25\\u0e34\\u0e48\\u0e19\", \"\\u0e01\\u0e25\\u0e34\\u0e48\\u0e19\", \"\\u0e01\\u0e25\\u0e34\\u0e48\\u0e19\", \"\\u0e01\\u0e25\\u0e34\\u0e48\\u0e19\", \"\\u0e01\\u0e25\\u0e34\\u0e48\\u0e19\", \"\\u0e01\\u0e25\\u0e34\\u0e48\\u0e19\", \"\\u0e01\\u0e25\\u0e34\\u0e48\\u0e19\", \"\\u0e01\\u0e25\\u0e34\\u0e48\\u0e19\", \"\\u0e01\\u0e25\\u0e34\\u0e48\\u0e19\", \"\\u0e01\\u0e25\\u0e48\\u0e2d\\u0e07\", \"\\u0e01\\u0e25\\u0e48\\u0e2d\\u0e07\", \"\\u0e01\\u0e25\\u0e48\\u0e2d\\u0e07\", \"\\u0e01\\u0e25\\u0e48\\u0e2d\\u0e07\", \"\\u0e01\\u0e25\\u0e48\\u0e2d\\u0e07\", \"\\u0e01\\u0e25\\u0e48\\u0e2d\\u0e07\", \"\\u0e01\\u0e25\\u0e48\\u0e2d\\u0e07\", \"\\u0e01\\u0e25\\u0e48\\u0e2d\\u0e07\", \"\\u0e01\\u0e25\\u0e48\\u0e2d\\u0e07\", \"\\u0e01\\u0e25\\u0e49\\u0e27\\u0e22\\u0e19\\u0e49\\u0e33\\u0e27\\u0e49\\u0e32\", \"\\u0e01\\u0e2d\", \"\\u0e01\\u0e2d\", \"\\u0e01\\u0e2d\\u0e1a\", \"\\u0e01\\u0e31\\u0e0d\", \"\\u0e01\\u0e32\", \"\\u0e01\\u0e32\", \"\\u0e01\\u0e32\", \"\\u0e01\\u0e32\", \"\\u0e01\\u0e32\", \"\\u0e01\\u0e32\", \"\\u0e01\\u0e32\", \"\\u0e01\\u0e32\", \"\\u0e01\\u0e32\", \"\\u0e01\\u0e32\\u0e19\\u0e19\", \"\\u0e01\\u0e32\\u0e23\\u0e04\\u0e19\", \"\\u0e01\\u0e32\\u0e23\\u0e19\\u0e33\", \"\\u0e01\\u0e32\\u0e23\\u0e19\\u0e33\", \"\\u0e01\\u0e32\\u0e23\\u0e19\\u0e33\", \"\\u0e01\\u0e32\\u0e23\\u0e2a\\u0e33\\u0e23\\u0e27\\u0e08\", \"\\u0e01\\u0e32\\u0e23\\u0e2a\\u0e33\\u0e23\\u0e27\\u0e08\", \"\\u0e01\\u0e32\\u0e23\\u0e2a\\u0e48\\u0e07\\u0e2d\\u0e2d\\u0e01\", \"\\u0e01\\u0e32\\u0e23\\u0e41\\u0e25\\u0e01\", \"\\u0e01\\u0e32\\u0e23\\u0e41\\u0e25\\u0e01\", \"\\u0e01\\u0e33\\u0e01\\u0e31\\u0e1a\", \"\\u0e01\\u0e34\\u0e07\", \"\\u0e01\\u0e34\\u0e07\", \"\\u0e01\\u0e34\\u0e19\", \"\\u0e01\\u0e34\\u0e19\", \"\\u0e01\\u0e34\\u0e19\", \"\\u0e01\\u0e34\\u0e19\", \"\\u0e01\\u0e34\\u0e19\", \"\\u0e01\\u0e34\\u0e19\", \"\\u0e01\\u0e34\\u0e19\", \"\\u0e01\\u0e34\\u0e19\", \"\\u0e01\\u0e34\\u0e19\", \"\\u0e01\\u0e34\\u0e19\\u0e02\\u0e49\\u0e32\\u0e27\", \"\\u0e01\\u0e34\\u0e19\\u0e02\\u0e49\\u0e32\\u0e27\", \"\\u0e01\\u0e34\\u0e19\\u0e02\\u0e49\\u0e32\\u0e27\", \"\\u0e01\\u0e34\\u0e19\\u0e02\\u0e49\\u0e32\\u0e27\", \"\\u0e01\\u0e34\\u0e19\\u0e02\\u0e49\\u0e32\\u0e27\", \"\\u0e01\\u0e34\\u0e19\\u0e02\\u0e49\\u0e32\\u0e27\", \"\\u0e01\\u0e34\\u0e19\\u0e02\\u0e49\\u0e32\\u0e27\", \"\\u0e01\\u0e34\\u0e19\\u0e02\\u0e49\\u0e32\\u0e27\", \"\\u0e01\\u0e34\\u0e19\\u0e02\\u0e49\\u0e32\\u0e27\", \"\\u0e01\\u0e34\\u0e19\\u0e19\\u0e21\", \"\\u0e01\\u0e34\\u0e19\\u0e19\\u0e21\", \"\\u0e01\\u0e34\\u0e19\\u0e19\\u0e21\", \"\\u0e01\\u0e34\\u0e19\\u0e19\\u0e21\", \"\\u0e01\\u0e34\\u0e19\\u0e19\\u0e21\", \"\\u0e01\\u0e34\\u0e19\\u0e19\\u0e21\", \"\\u0e01\\u0e34\\u0e19\\u0e19\\u0e21\", \"\\u0e01\\u0e34\\u0e19\\u0e19\\u0e21\", \"\\u0e01\\u0e34\\u0e19\\u0e19\\u0e21\", \"\\u0e01\\u0e34\\u0e19\\u0e40\\u0e27\\u0e25\\u0e32\", \"\\u0e01\\u0e38\\u0e25\", \"\\u0e01\\u0e38\\u0e25\", \"\\u0e01\\u0e46\", \"\\u0e01\\u0e47\\u0e0a\\u0e48\\u0e32\\u0e07\", \"\\u0e01\\u0e49\", \"\\u0e01\\u0e49\", \"\\u0e01\\u0e49\", \"\\u0e01\\u0e49\", \"\\u0e01\\u0e49\", \"\\u0e01\\u0e49\", \"\\u0e01\\u0e49\", \"\\u0e01\\u0e49\", \"\\u0e01\\u0e49\", \"\\u0e01\\u0e4b\\u0e27\\u0e22\", \"\\u0e02\\u0e19\\u0e2a\\u0e48\\u0e07\", \"\\u0e02\\u0e27\\u0e14\", \"\\u0e02\\u0e27\\u0e14\", \"\\u0e02\\u0e27\\u0e14\", \"\\u0e02\\u0e27\\u0e14\", \"\\u0e02\\u0e27\\u0e14\", \"\\u0e02\\u0e27\\u0e14\", \"\\u0e02\\u0e27\\u0e14\", \"\\u0e02\\u0e27\\u0e14\", \"\\u0e02\\u0e27\\u0e14\", \"\\u0e02\\u0e27\\u0e1a\", \"\\u0e02\\u0e27\\u0e1a\", \"\\u0e02\\u0e27\\u0e1a\", \"\\u0e02\\u0e27\\u0e1a\", \"\\u0e02\\u0e27\\u0e1a\", \"\\u0e02\\u0e27\\u0e1a\", \"\\u0e02\\u0e27\\u0e1a\", \"\\u0e02\\u0e27\\u0e1a\", \"\\u0e02\\u0e27\\u0e1a\", \"\\u0e02\\u0e2d\\u0e07\\u0e01\\u0e34\\u0e19\", \"\\u0e02\\u0e2d\\u0e07\\u0e01\\u0e34\\u0e19\", \"\\u0e02\\u0e2d\\u0e07\\u0e01\\u0e34\\u0e19\", \"\\u0e02\\u0e2d\\u0e07\\u0e01\\u0e34\\u0e19\", \"\\u0e02\\u0e2d\\u0e07\\u0e01\\u0e34\\u0e19\", \"\\u0e02\\u0e2d\\u0e07\\u0e01\\u0e34\\u0e19\", \"\\u0e02\\u0e2d\\u0e07\\u0e01\\u0e34\\u0e19\", \"\\u0e02\\u0e2d\\u0e07\\u0e01\\u0e34\\u0e19\", \"\\u0e02\\u0e2d\\u0e07\\u0e01\\u0e34\\u0e19\", \"\\u0e02\\u0e2d\\u0e07\\u0e43\\u0e0a\\u0e49\", \"\\u0e02\\u0e2d\\u0e07\\u0e43\\u0e0a\\u0e49\", \"\\u0e02\\u0e2d\\u0e07\\u0e43\\u0e0a\\u0e49\", \"\\u0e02\\u0e2d\\u0e07\\u0e43\\u0e0a\\u0e49\", \"\\u0e02\\u0e2d\\u0e07\\u0e43\\u0e0a\\u0e49\", \"\\u0e02\\u0e2d\\u0e1a\", \"\\u0e02\\u0e2d\\u0e1a\", \"\\u0e02\\u0e2d\\u0e1a\", \"\\u0e02\\u0e2d\\u0e1a\", \"\\u0e02\\u0e2d\\u0e1a\", \"\\u0e02\\u0e2d\\u0e1a\", \"\\u0e02\\u0e2d\\u0e1a\", \"\\u0e02\\u0e2d\\u0e1a\", \"\\u0e02\\u0e2d\\u0e1a\", \"\\u0e02\\u0e2d\\u0e1a\\u0e04\\u0e38\\u0e13\", \"\\u0e02\\u0e2d\\u0e1a\\u0e04\\u0e38\\u0e13\", \"\\u0e02\\u0e2d\\u0e1a\\u0e04\\u0e38\\u0e13\", \"\\u0e02\\u0e2d\\u0e1a\\u0e04\\u0e38\\u0e13\", \"\\u0e02\\u0e2d\\u0e1a\\u0e04\\u0e38\\u0e13\", \"\\u0e02\\u0e2d\\u0e1a\\u0e04\\u0e38\\u0e13\", \"\\u0e02\\u0e2d\\u0e1a\\u0e04\\u0e38\\u0e13\", \"\\u0e02\\u0e2d\\u0e1a\\u0e04\\u0e38\\u0e13\", \"\\u0e02\\u0e2d\\u0e1a\\u0e04\\u0e38\\u0e13\", \"\\u0e02\\u0e2d\\u0e1a\\u0e1e\\u0e23\\u0e30\\u0e04\\u0e38\\u0e13\", \"\\u0e02\\u0e31\\u0e14\\u0e43\\u0e08\", \"\\u0e02\\u0e32\\u0e22\", \"\\u0e02\\u0e32\\u0e22\", \"\\u0e02\\u0e32\\u0e22\", \"\\u0e02\\u0e32\\u0e22\", \"\\u0e02\\u0e32\\u0e22\", \"\\u0e02\\u0e32\\u0e22\", \"\\u0e02\\u0e32\\u0e22\", \"\\u0e02\\u0e32\\u0e22\", \"\\u0e02\\u0e32\\u0e22\", \"\\u0e02\\u0e49\\u0e2d\\u0e04\\u0e27\\u0e32\\u0e21\", \"\\u0e02\\u0e49\\u0e2d\\u0e04\\u0e27\\u0e32\\u0e21\", \"\\u0e02\\u0e49\\u0e2d\\u0e04\\u0e27\\u0e32\\u0e21\", \"\\u0e02\\u0e49\\u0e2d\\u0e04\\u0e27\\u0e32\\u0e21\", \"\\u0e02\\u0e49\\u0e2d\\u0e04\\u0e27\\u0e32\\u0e21\", \"\\u0e02\\u0e49\\u0e2d\\u0e04\\u0e27\\u0e32\\u0e21\", \"\\u0e02\\u0e49\\u0e2d\\u0e04\\u0e27\\u0e32\\u0e21\", \"\\u0e02\\u0e49\\u0e2d\\u0e04\\u0e27\\u0e32\\u0e21\", \"\\u0e02\\u0e49\\u0e2d\\u0e04\\u0e27\\u0e32\\u0e21\", \"\\u0e02\\u0e49\\u0e2d\\u0e04\\u0e34\\u0e14\", \"\\u0e02\\u0e49\\u0e2d\\u0e04\\u0e34\\u0e14\", \"\\u0e02\\u0e49\\u0e2d\\u0e21\\u0e39\\u0e25\", \"\\u0e02\\u0e49\\u0e2d\\u0e21\\u0e39\\u0e25\", \"\\u0e02\\u0e49\\u0e2d\\u0e21\\u0e39\\u0e25\", \"\\u0e02\\u0e49\\u0e2d\\u0e21\\u0e39\\u0e25\", \"\\u0e02\\u0e49\\u0e2d\\u0e21\\u0e39\\u0e25\", \"\\u0e02\\u0e49\\u0e2d\\u0e21\\u0e39\\u0e25\", \"\\u0e02\\u0e49\\u0e2d\\u0e21\\u0e39\\u0e25\", \"\\u0e02\\u0e49\\u0e2d\\u0e21\\u0e39\\u0e25\", \"\\u0e02\\u0e49\\u0e2d\\u0e21\\u0e39\\u0e25\", \"\\u0e02\\u0e49\\u0e2d\\u0e40\\u0e17\\u0e47\\u0e08\\u0e08\\u0e23\\u0e34\\u0e07\", \"\\u0e04\\u0e07\", \"\\u0e04\\u0e14\\u0e35\", \"\\u0e04\\u0e14\\u0e35\", \"\\u0e04\\u0e14\\u0e35\", \"\\u0e04\\u0e17\\u0e34\\u0e40\\u0e27\\u0e35\\u0e22\", \"\\u0e04\\u0e19\", \"\\u0e04\\u0e19\", \"\\u0e04\\u0e19\", \"\\u0e04\\u0e19\", \"\\u0e04\\u0e19\", \"\\u0e04\\u0e19\", \"\\u0e04\\u0e19\", \"\\u0e04\\u0e19\", \"\\u0e04\\u0e19\", \"\\u0e04\\u0e19\\u0e02\\u0e31\\u0e1a\", \"\\u0e04\\u0e19\\u0e02\\u0e31\\u0e1a\", \"\\u0e04\\u0e19\\u0e02\\u0e31\\u0e1a\", \"\\u0e04\\u0e19\\u0e02\\u0e31\\u0e1a\", \"\\u0e04\\u0e19\\u0e02\\u0e31\\u0e1a\", \"\\u0e04\\u0e19\\u0e14\\u0e35\", \"\\u0e04\\u0e19\\u0e14\\u0e35\", \"\\u0e04\\u0e19\\u0e14\\u0e35\", \"\\u0e04\\u0e19\\u0e14\\u0e35\", \"\\u0e04\\u0e19\\u0e14\\u0e39\", \"\\u0e04\\u0e19\\u0e25\\u0e30\\u0e40\\u0e23\\u0e37\\u0e48\\u0e2d\\u0e07\", \"\\u0e04\\u0e23\\u0e1a\\u0e0a\\u0e38\\u0e14\", \"\\u0e04\\u0e23\\u0e48\\u0e32\", \"\\u0e04\\u0e23\\u0e48\\u0e32\", \"\\u0e04\\u0e23\\u0e49\\u0e32\\u0e1a\", \"\\u0e04\\u0e23\\u0e49\\u0e32\\u0e1a\", \"\\u0e04\\u0e23\\u0e49\\u0e32\\u0e1a\", \"\\u0e04\\u0e23\\u0e49\\u0e32\\u0e1a\", \"\\u0e04\\u0e25\\u0e2d\\u0e14\", \"\\u0e04\\u0e25\\u0e2d\\u0e14\", \"\\u0e04\\u0e25\\u0e34\\u0e01\", \"\\u0e04\\u0e25\\u0e34\\u0e01\", \"\\u0e04\\u0e25\\u0e34\\u0e01\", \"\\u0e04\\u0e25\\u0e34\\u0e01\", \"\\u0e04\\u0e25\\u0e34\\u0e01\", \"\\u0e04\\u0e25\\u0e34\\u0e01\", \"\\u0e04\\u0e25\\u0e34\\u0e01\", \"\\u0e04\\u0e25\\u0e34\\u0e01\", \"\\u0e04\\u0e27\\u0e32\\u0e21\\u0e01\\u0e14\\u0e14\\u0e31\\u0e19\", \"\\u0e04\\u0e27\\u0e32\\u0e21\\u0e04\\u0e37\\u0e1a\\u0e2b\\u0e19\\u0e49\\u0e32\", \"\\u0e04\\u0e27\\u0e32\\u0e21\\u0e07\\u0e32\\u0e21\", \"\\u0e04\\u0e27\\u0e32\\u0e21\\u0e1d\\u0e31\\u0e19\", \"\\u0e04\\u0e27\\u0e32\\u0e21\\u0e21\\u0e31\\u0e48\\u0e19\\u0e04\\u0e07\", \"\\u0e04\\u0e27\\u0e32\\u0e21\\u0e23\\u0e31\\u0e01\", \"\\u0e04\\u0e27\\u0e32\\u0e21\\u0e23\\u0e31\\u0e01\", \"\\u0e04\\u0e27\\u0e32\\u0e21\\u0e23\\u0e31\\u0e01\", \"\\u0e04\\u0e27\\u0e32\\u0e21\\u0e23\\u0e31\\u0e01\", \"\\u0e04\\u0e27\\u0e32\\u0e21\\u0e23\\u0e31\\u0e01\", \"\\u0e04\\u0e27\\u0e32\\u0e21\\u0e23\\u0e31\\u0e01\", \"\\u0e04\\u0e27\\u0e32\\u0e21\\u0e23\\u0e31\\u0e01\", \"\\u0e04\\u0e27\\u0e32\\u0e21\\u0e23\\u0e39\\u0e49\\u0e2a\\u0e36\\u0e01\", \"\\u0e04\\u0e27\\u0e32\\u0e21\\u0e23\\u0e39\\u0e49\\u0e2a\\u0e36\\u0e01\", \"\\u0e04\\u0e27\\u0e32\\u0e21\\u0e23\\u0e39\\u0e49\\u0e2a\\u0e36\\u0e01\", \"\\u0e04\\u0e27\\u0e32\\u0e21\\u0e23\\u0e39\\u0e49\\u0e2a\\u0e36\\u0e01\", \"\\u0e04\\u0e27\\u0e32\\u0e21\\u0e23\\u0e39\\u0e49\\u0e2a\\u0e36\\u0e01\", \"\\u0e04\\u0e27\\u0e32\\u0e21\\u0e23\\u0e39\\u0e49\\u0e2a\\u0e36\\u0e01\", \"\\u0e04\\u0e27\\u0e32\\u0e21\\u0e23\\u0e39\\u0e49\\u0e2a\\u0e36\\u0e01\", \"\\u0e04\\u0e27\\u0e32\\u0e21\\u0e23\\u0e39\\u0e49\\u0e2a\\u0e36\\u0e01\", \"\\u0e04\\u0e27\\u0e32\\u0e21\\u0e23\\u0e39\\u0e49\\u0e2a\\u0e36\\u0e01\", \"\\u0e04\\u0e27\\u0e32\\u0e21\\u0e2a\\u0e19\\u0e43\\u0e08\", \"\\u0e04\\u0e27\\u0e32\\u0e21\\u0e2b\\u0e48\\u0e27\\u0e07\\u0e43\\u0e22\", \"\\u0e04\\u0e27\\u0e32\\u0e21\\u0e2b\\u0e48\\u0e27\\u0e07\\u0e43\\u0e22\", \"\\u0e04\\u0e27\\u0e32\\u0e21\\u0e40\\u0e04\\u0e23\\u0e35\\u0e22\\u0e14\", \"\\u0e04\\u0e27\\u0e32\\u0e21\\u0e40\\u0e2a\\u0e35\\u0e22\\u0e14\\u0e32\\u0e22\", \"\\u0e04\\u0e27\\u0e32\\u0e21\\u0e41\\u0e02\\u0e47\\u0e07\\u0e41\\u0e23\\u0e07\", \"\\u0e04\\u0e27\\u0e32\\u0e21\\u0e41\\u0e02\\u0e47\\u0e07\\u0e41\\u0e23\\u0e07\", \"\\u0e04\\u0e27\\u0e32\\u0e21\\u0e41\\u0e02\\u0e47\\u0e07\\u0e41\\u0e23\\u0e07\", \"\\u0e04\\u0e2d\\u0e19\\u0e40\\u0e1f\\u0e34\\u0e23\\u0e4c\\u0e21\", \"\\u0e04\\u0e2d\\u0e19\\u0e40\\u0e1f\\u0e34\\u0e23\\u0e4c\\u0e21\", \"\\u0e04\\u0e2d\\u0e19\\u0e40\\u0e1f\\u0e34\\u0e23\\u0e4c\\u0e21\", \"\\u0e04\\u0e2d\\u0e19\\u0e40\\u0e1f\\u0e34\\u0e23\\u0e4c\\u0e21\", \"\\u0e04\\u0e2d\\u0e19\\u0e40\\u0e1f\\u0e34\\u0e23\\u0e4c\\u0e21\", \"\\u0e04\\u0e2d\\u0e19\\u0e40\\u0e1f\\u0e34\\u0e23\\u0e4c\\u0e21\", \"\\u0e04\\u0e2d\\u0e21\\u0e1f\\u0e2d\\u0e23\\u0e4c\\u0e17\", \"\\u0e04\\u0e2d\\u0e21\\u0e1f\\u0e2d\\u0e23\\u0e4c\\u0e17\", \"\\u0e04\\u0e2d\\u0e21\\u0e40\\u0e21\\u0e49\\u0e19\\u0e15\\u0e4c\", \"\\u0e04\\u0e2d\\u0e21\\u0e40\\u0e21\\u0e49\\u0e19\\u0e15\\u0e4c\", \"\\u0e04\\u0e2d\\u0e21\\u0e40\\u0e21\\u0e49\\u0e19\\u0e17\\u0e4c\", \"\\u0e04\\u0e30\\u0e41\\u0e19\\u0e19\", \"\\u0e04\\u0e30\\u0e41\\u0e19\\u0e19\", \"\\u0e04\\u0e30\\u0e41\\u0e19\\u0e19\", \"\\u0e04\\u0e30\\u0e41\\u0e19\\u0e19\", \"\\u0e04\\u0e30\\u0e41\\u0e19\\u0e19\", \"\\u0e04\\u0e30\\u0e41\\u0e19\\u0e19\", \"\\u0e04\\u0e30\\u0e41\\u0e19\\u0e19\", \"\\u0e04\\u0e30\\u0e41\\u0e19\\u0e19\", \"\\u0e04\\u0e30\\u0e41\\u0e19\\u0e19\", \"\\u0e04\\u0e31\\u0e21\\u0e1e\\u0e34\", \"\\u0e04\\u0e31\\u0e21\\u0e1e\\u0e34\", \"\\u0e04\\u0e37\\u0e19\\u0e40\\u0e07\\u0e34\\u0e19\", \"\\u0e04\\u0e38\\u0e13\\u0e04\\u0e23\\u0e39\", \"\\u0e04\\u0e38\\u0e13\\u0e04\\u0e48\\u0e32\", \"\\u0e04\\u0e38\\u0e13\\u0e04\\u0e48\\u0e32\", \"\\u0e04\\u0e38\\u0e13\\u0e04\\u0e48\\u0e32\", \"\\u0e04\\u0e38\\u0e13\\u0e04\\u0e48\\u0e32\", \"\\u0e04\\u0e38\\u0e13\\u0e04\\u0e48\\u0e32\", \"\\u0e04\\u0e38\\u0e13\\u0e04\\u0e48\\u0e32\", \"\\u0e04\\u0e38\\u0e13\\u0e04\\u0e48\\u0e32\", \"\\u0e04\\u0e38\\u0e13\\u0e1b\\u0e49\\u0e32\", \"\\u0e04\\u0e38\\u0e13\\u0e1b\\u0e49\\u0e32\", \"\\u0e04\\u0e38\\u0e13\\u0e1c\\u0e39\\u0e49\\u0e2b\\u0e0d\\u0e34\\u0e07\", \"\\u0e04\\u0e38\\u0e13\\u0e2b\\u0e19\\u0e39\", \"\\u0e04\\u0e38\\u0e13\\u0e2b\\u0e19\\u0e39\", \"\\u0e04\\u0e38\\u0e22\", \"\\u0e04\\u0e38\\u0e22\", \"\\u0e04\\u0e38\\u0e22\", \"\\u0e04\\u0e38\\u0e22\", \"\\u0e04\\u0e38\\u0e22\", \"\\u0e04\\u0e38\\u0e22\", \"\\u0e04\\u0e38\\u0e22\", \"\\u0e04\\u0e38\\u0e22\", \"\\u0e04\\u0e38\\u0e22\", \"\\u0e04\\u0e39\", \"\\u0e04\\u0e39\\u0e1b\\u0e2d\\u0e07\", \"\\u0e04\\u0e39\\u0e1b\\u0e2d\\u0e07\", \"\\u0e04\\u0e39\\u0e1b\\u0e2d\\u0e07\", \"\\u0e04\\u0e39\\u0e1b\\u0e2d\\u0e07\", \"\\u0e04\\u0e39\\u0e1b\\u0e2d\\u0e07\", \"\\u0e04\\u0e39\\u0e1b\\u0e2d\\u0e07\", \"\\u0e04\\u0e39\\u0e1b\\u0e2d\\u0e07\", \"\\u0e04\\u0e39\\u0e1b\\u0e2d\\u0e07\", \"\\u0e04\\u0e39\\u0e1b\\u0e2d\\u0e07\", \"\\u0e04\\u0e42\\u0e15\\u0e30\", \"\\u0e04\\u0e48\\u0e32\", \"\\u0e04\\u0e48\\u0e32\", \"\\u0e04\\u0e48\\u0e32\", \"\\u0e04\\u0e48\\u0e32\", \"\\u0e04\\u0e48\\u0e32\", \"\\u0e04\\u0e48\\u0e32\", \"\\u0e04\\u0e48\\u0e32\", \"\\u0e04\\u0e48\\u0e32\", \"\\u0e04\\u0e48\\u0e32\", \"\\u0e04\\u0e48\\u0e32\\u0e15\\u0e31\\u0e27\", \"\\u0e04\\u0e48\\u0e32\\u0e15\\u0e31\\u0e27\", \"\\u0e04\\u0e48\\u0e32\\u0e15\\u0e31\\u0e27\", \"\\u0e04\\u0e4a\\u0e32\", \"\\u0e04\\u0e4a\\u0e32\", \"\\u0e04\\u0e4a\\u0e32\", \"\\u0e04\\u0e4a\\u0e32\", \"\\u0e07.\", \"\\u0e07.\", \"\\u0e07.\", \"\\u0e07.\", \"\\u0e07\\u0e07\", \"\\u0e07\\u0e07\", \"\\u0e07\\u0e07\", \"\\u0e07\\u0e07\", \"\\u0e07\\u0e07\", \"\\u0e07\\u0e07\", \"\\u0e07\\u0e07\", \"\\u0e07\\u0e07\", \"\\u0e07\\u0e07\", \"\\u0e07\\u0e27\\u0e14\", \"\\u0e07\\u0e27\\u0e14\", \"\\u0e07\\u0e27\\u0e14\", \"\\u0e07\\u0e27\\u0e14\", \"\\u0e07\\u0e27\\u0e14\", \"\\u0e07\\u0e27\\u0e14\", \"\\u0e07\\u0e2d\\u0e41\\u0e07\", \"\\u0e07\\u0e2d\\u0e41\\u0e07\", \"\\u0e07\\u0e2d\\u0e41\\u0e07\", \"\\u0e07\\u0e2d\\u0e41\\u0e07\", \"\\u0e08\\u0e02\\u0e01\", \"\\u0e08\\u0e1a\\u0e01\\u0e31\\u0e19\", \"\\u0e08\\u0e32\\u0e19\", \"\\u0e08\\u0e32\\u0e19\", \"\\u0e08\\u0e32\\u0e19\", \"\\u0e08\\u0e32\\u0e19\", \"\\u0e08\\u0e32\\u0e19\", \"\\u0e08\\u0e32\\u0e19\", \"\\u0e08\\u0e32\\u0e19\", \"\\u0e08\\u0e32\\u0e19\", \"\\u0e08\\u0e32\\u0e19\", \"\\u0e08\\u0e34\\u0e15\\u0e23\\u0e25\\u0e14\\u0e32\", \"\\u0e08\\u0e34\\u0e15\\u0e23\\u0e25\\u0e14\\u0e32\", \"\\u0e08\\u0e34\\u0e15\\u0e23\\u0e25\\u0e14\\u0e32\", \"\\u0e08\\u0e34\\u0e15\\u0e23\\u0e25\\u0e14\\u0e32\", \"\\u0e08\\u0e34\\u0e15\\u0e23\\u0e25\\u0e14\\u0e32\", \"\\u0e08\\u0e34\\u0e15\\u0e23\\u0e25\\u0e14\\u0e32\", \"\\u0e08\\u0e34\\u0e15\\u0e23\\u0e25\\u0e14\\u0e32\", \"\\u0e08\\u0e34\\u0e15\\u0e23\\u0e25\\u0e14\\u0e32\", \"\\u0e08\\u0e34\\u0e15\\u0e23\\u0e25\\u0e14\\u0e32\", \"\\u0e08\\u0e37\\u0e14\", \"\\u0e08\\u0e37\\u0e14\", \"\\u0e08\\u0e37\\u0e14\", \"\\u0e08\\u0e37\\u0e14\", \"\\u0e08\\u0e37\\u0e14\", \"\\u0e08\\u0e37\\u0e14\", \"\\u0e08\\u0e37\\u0e14\", \"\\u0e08\\u0e37\\u0e14\", \"\\u0e08\\u0e37\\u0e14\", \"\\u0e08\\u0e39\\u0e49\", \"\\u0e09\\u0e1a\\u0e31\\u0e1a\", \"\\u0e09\\u0e1a\\u0e31\\u0e1a\", \"\\u0e09\\u0e25\\u0e32\\u0e01\", \"\\u0e09\\u0e25\\u0e32\\u0e01\", \"\\u0e09\\u0e25\\u0e32\\u0e01\", \"\\u0e09\\u0e25\\u0e32\\u0e01\", \"\\u0e09\\u0e25\\u0e32\\u0e01\", \"\\u0e09\\u0e25\\u0e32\\u0e01\", \"\\u0e09\\u0e25\\u0e32\\u0e01\", \"\\u0e09\\u0e25\\u0e32\\u0e01\", \"\\u0e09\\u0e25\\u0e32\\u0e01\", \"\\u0e0a\\u0e2d\\u0e1a\", \"\\u0e0a\\u0e2d\\u0e1a\", \"\\u0e0a\\u0e2d\\u0e1a\", \"\\u0e0a\\u0e2d\\u0e1a\", \"\\u0e0a\\u0e2d\\u0e1a\", \"\\u0e0a\\u0e2d\\u0e1a\", \"\\u0e0a\\u0e2d\\u0e1a\", \"\\u0e0a\\u0e2d\\u0e1a\", \"\\u0e0a\\u0e2d\\u0e1a\", \"\\u0e0a\\u0e31\\u0e22\", \"\\u0e0a\\u0e31\\u0e22\", \"\\u0e0a\\u0e32\", \"\\u0e0a\\u0e32\", \"\\u0e0a\\u0e32\", \"\\u0e0a\\u0e32\", \"\\u0e0a\\u0e32\", \"\\u0e0a\\u0e32\", \"\\u0e0a\\u0e32\", \"\\u0e0a\\u0e32\", \"\\u0e0a\\u0e32\", \"\\u0e0a\\u0e32\\u0e1a\\u0e39\", \"\\u0e0a\\u0e32\\u0e1a\\u0e39\", \"\\u0e0a\\u0e33\\u0e23\\u0e30\\u0e40\\u0e07\\u0e34\\u0e19\", \"\\u0e0a\\u0e34\\u0e07\", \"\\u0e0a\\u0e34\\u0e07\", \"\\u0e0a\\u0e38\\u0e14\", \"\\u0e0a\\u0e38\\u0e14\", \"\\u0e0a\\u0e38\\u0e14\", \"\\u0e0a\\u0e38\\u0e14\", \"\\u0e0a\\u0e38\\u0e14\", \"\\u0e0a\\u0e38\\u0e14\", \"\\u0e0a\\u0e38\\u0e14\", \"\\u0e0a\\u0e38\\u0e14\", \"\\u0e0a\\u0e38\\u0e14\", \"\\u0e0b\\u0e2d\\u0e2a\", \"\\u0e0b\\u0e2d\\u0e2a\", \"\\u0e0b\\u0e2d\\u0e2a\", \"\\u0e0b\\u0e2d\\u0e2a\", \"\\u0e0b\\u0e2d\\u0e2a\", \"\\u0e0b\\u0e2d\\u0e2a\", \"\\u0e0b\\u0e2d\\u0e2a\", \"\\u0e0b\\u0e2d\\u0e2a\", \"\\u0e0b\\u0e2d\\u0e2a\", \"\\u0e0b\\u0e31\\u0e19\", \"\\u0e0b\\u0e37\\u0e49\\u0e2d\", \"\\u0e0b\\u0e37\\u0e49\\u0e2d\", \"\\u0e0b\\u0e37\\u0e49\\u0e2d\", \"\\u0e0b\\u0e37\\u0e49\\u0e2d\", \"\\u0e0b\\u0e37\\u0e49\\u0e2d\", \"\\u0e0b\\u0e37\\u0e49\\u0e2d\", \"\\u0e0b\\u0e37\\u0e49\\u0e2d\", \"\\u0e0b\\u0e37\\u0e49\\u0e2d\", \"\\u0e0b\\u0e37\\u0e49\\u0e2d\", \"\\u0e0b\\u0e49\\u0e2d\\u0e21\", \"\\u0e0b\\u0e49\\u0e2d\\u0e21\", \"\\u0e14\\u0e14\\u0e14\", \"\\u0e14\\u0e31\\u0e0a\\u0e21\\u0e34\\u0e25\\u0e25\\u0e4c\", \"\\u0e14\\u0e31\\u0e0a\\u0e21\\u0e34\\u0e25\\u0e25\\u0e4c\", \"\\u0e14\\u0e31\\u0e0a\\u0e21\\u0e34\\u0e25\\u0e25\\u0e4c\", \"\\u0e14\\u0e31\\u0e0a\\u0e21\\u0e34\\u0e25\\u0e25\\u0e4c\", \"\\u0e14\\u0e31\\u0e0a\\u0e21\\u0e34\\u0e25\\u0e25\\u0e4c\", \"\\u0e14\\u0e31\\u0e0a\\u0e21\\u0e34\\u0e25\\u0e25\\u0e4c\", \"\\u0e14\\u0e31\\u0e0a\\u0e21\\u0e34\\u0e25\\u0e25\\u0e4c\", \"\\u0e14\\u0e31\\u0e0a\\u0e21\\u0e34\\u0e25\\u0e25\\u0e4c\", \"\\u0e14\\u0e31\\u0e0a\\u0e21\\u0e34\\u0e25\\u0e25\\u0e4c\", \"\\u0e14\\u0e32\\u0e23\\u0e32\", \"\\u0e14\\u0e32\\u0e23\\u0e32\", \"\\u0e14\\u0e32\\u0e23\\u0e32\", \"\\u0e14\\u0e32\\u0e23\\u0e32\", \"\\u0e14\\u0e32\\u0e23\\u0e32\", \"\\u0e14\\u0e34\\u0e09\\u0e31\\u0e19\", \"\\u0e14\\u0e34\\u0e09\\u0e31\\u0e19\", \"\\u0e14\\u0e34\\u0e09\\u0e31\\u0e19\", \"\\u0e14\\u0e34\\u0e09\\u0e31\\u0e19\", \"\\u0e14\\u0e34\\u0e09\\u0e31\\u0e19\", \"\\u0e14\\u0e34\\u0e09\\u0e31\\u0e19\", \"\\u0e14\\u0e34\\u0e2a\\u0e40\\u0e04\\u0e23\\u0e14\\u0e34\\u0e15\", \"\\u0e14\\u0e34\\u0e2a\\u0e40\\u0e04\\u0e23\\u0e14\\u0e34\\u0e15\", \"\\u0e14\\u0e35\", \"\\u0e14\\u0e35\", \"\\u0e14\\u0e35\", \"\\u0e14\\u0e35\", \"\\u0e14\\u0e35\", \"\\u0e14\\u0e35\", \"\\u0e14\\u0e35\", \"\\u0e14\\u0e35\", \"\\u0e14\\u0e35\", \"\\u0e14\\u0e35\\u0e01\\u0e27\\u0e48\\u0e32\", \"\\u0e14\\u0e35\\u0e01\\u0e27\\u0e48\\u0e32\", \"\\u0e14\\u0e35\\u0e01\\u0e27\\u0e48\\u0e32\", \"\\u0e14\\u0e35\\u0e01\\u0e27\\u0e48\\u0e32\", \"\\u0e14\\u0e35\\u0e01\\u0e27\\u0e48\\u0e32\", \"\\u0e14\\u0e35\\u0e01\\u0e27\\u0e48\\u0e32\", \"\\u0e14\\u0e35\\u0e01\\u0e27\\u0e48\\u0e32\", \"\\u0e14\\u0e35\\u0e01\\u0e27\\u0e48\\u0e32\", \"\\u0e14\\u0e35\\u0e01\\u0e27\\u0e48\\u0e32\", \"\\u0e14\\u0e35\\u0e49\", \"\\u0e14\\u0e35\\u0e49\", \"\\u0e14\\u0e35\\u0e49\", \"\\u0e14\\u0e35\\u0e49\", \"\\u0e14\\u0e35\\u0e49\", \"\\u0e14\\u0e35\\u0e49\", \"\\u0e14\\u0e37\\u0e48\\u0e21\", \"\\u0e14\\u0e37\\u0e48\\u0e21\", \"\\u0e14\\u0e37\\u0e48\\u0e21\", \"\\u0e14\\u0e37\\u0e48\\u0e21\", \"\\u0e14\\u0e37\\u0e48\\u0e21\", \"\\u0e14\\u0e37\\u0e48\\u0e21\", \"\\u0e14\\u0e37\\u0e48\\u0e21\", \"\\u0e14\\u0e37\\u0e48\\u0e21\", \"\\u0e14\\u0e37\\u0e48\\u0e21\", \"\\u0e14\\u0e39\", \"\\u0e14\\u0e39\", \"\\u0e14\\u0e39\", \"\\u0e14\\u0e39\", \"\\u0e14\\u0e39\", \"\\u0e14\\u0e39\", \"\\u0e14\\u0e39\", \"\\u0e14\\u0e39\", \"\\u0e14\\u0e39\", \"\\u0e14\\u0e39\\u0e14\", \"\\u0e14\\u0e39\\u0e14\", \"\\u0e14\\u0e39\\u0e14\", \"\\u0e14\\u0e39\\u0e14\", \"\\u0e14\\u0e39\\u0e14\", \"\\u0e14\\u0e39\\u0e14\", \"\\u0e14\\u0e39\\u0e14\", \"\\u0e14\\u0e39\\u0e14\", \"\\u0e14\\u0e39\\u0e14\", \"\\u0e14\\u0e39\\u0e14\\u0e34\", \"\\u0e14\\u0e46\", \"\\u0e14\\u0e48\\u0e32\\u0e19\", \"\\u0e15\\u0e15\\u0e35\\u0e49\", \"\\u0e15\\u0e15\\u0e35\\u0e49\", \"\\u0e15\\u0e15\\u0e35\\u0e49\", \"\\u0e15\\u0e15\\u0e35\\u0e49\", \"\\u0e15\\u0e23\\u0e07\\u0e1b\\u0e23\\u0e30\\u0e40\\u0e14\\u0e47\\u0e19\", \"\\u0e15\\u0e23\\u0e27\\u0e08\", \"\\u0e15\\u0e23\\u0e27\\u0e08\", \"\\u0e15\\u0e23\\u0e27\\u0e08\", \"\\u0e15\\u0e23\\u0e27\\u0e08\", \"\\u0e15\\u0e23\\u0e27\\u0e08\", \"\\u0e15\\u0e23\\u0e27\\u0e08\", \"\\u0e15\\u0e23\\u0e27\\u0e08\", \"\\u0e15\\u0e23\\u0e27\\u0e08\", \"\\u0e15\\u0e23\\u0e27\\u0e08\", \"\\u0e15\\u0e23\\u0e36\\u0e21\", \"\\u0e15\\u0e2d\\u0e19\", \"\\u0e15\\u0e2d\\u0e19\", \"\\u0e15\\u0e2d\\u0e19\", \"\\u0e15\\u0e2d\\u0e19\", \"\\u0e15\\u0e2d\\u0e19\", \"\\u0e15\\u0e2d\\u0e19\", \"\\u0e15\\u0e2d\\u0e19\", \"\\u0e15\\u0e2d\\u0e19\", \"\\u0e15\\u0e2d\\u0e19\", \"\\u0e15\\u0e2d\\u0e19\\u0e08\\u0e1a\", \"\\u0e15\\u0e2d\\u0e19\\u0e08\\u0e1a\", \"\\u0e15\\u0e2d\\u0e19\\u0e19\\u0e35\\u0e49\", \"\\u0e15\\u0e2d\\u0e19\\u0e19\\u0e35\\u0e49\", \"\\u0e15\\u0e2d\\u0e19\\u0e19\\u0e35\\u0e49\", \"\\u0e15\\u0e2d\\u0e19\\u0e19\\u0e35\\u0e49\", \"\\u0e15\\u0e2d\\u0e19\\u0e19\\u0e35\\u0e49\", \"\\u0e15\\u0e2d\\u0e19\\u0e19\\u0e35\\u0e49\", \"\\u0e15\\u0e2d\\u0e19\\u0e19\\u0e35\\u0e49\", \"\\u0e15\\u0e2d\\u0e19\\u0e19\\u0e35\\u0e49\", \"\\u0e15\\u0e2d\\u0e19\\u0e19\\u0e35\\u0e49\", \"\\u0e15\\u0e2d\\u0e1a\\u0e01\\u0e25\\u0e31\\u0e1a\", \"\\u0e15\\u0e2d\\u0e1a\\u0e01\\u0e25\\u0e31\\u0e1a\", \"\\u0e15\\u0e2d\\u0e1a\\u0e04\\u0e33\\u0e16\\u0e32\\u0e21\", \"\\u0e15\\u0e2d\\u0e1a\\u0e04\\u0e33\\u0e16\\u0e32\\u0e21\", \"\\u0e15\\u0e2d\\u0e1a\\u0e04\\u0e33\\u0e16\\u0e32\\u0e21\", \"\\u0e15\\u0e2d\\u0e1a\\u0e04\\u0e33\\u0e16\\u0e32\\u0e21\", \"\\u0e15\\u0e2d\\u0e1a\\u0e04\\u0e33\\u0e16\\u0e32\\u0e21\", \"\\u0e15\\u0e30\\u0e27\\u0e31\\u0e19\", \"\\u0e15\\u0e30\\u0e27\\u0e31\\u0e19\", \"\\u0e15\\u0e31\\u0e27\", \"\\u0e15\\u0e31\\u0e27\", \"\\u0e15\\u0e31\\u0e27\", \"\\u0e15\\u0e31\\u0e27\", \"\\u0e15\\u0e31\\u0e27\", \"\\u0e15\\u0e31\\u0e27\", \"\\u0e15\\u0e31\\u0e27\", \"\\u0e15\\u0e31\\u0e27\", \"\\u0e15\\u0e31\\u0e27\", \"\\u0e15\\u0e31\\u0e27\\u0e1b\\u0e31\\u0e0d\\u0e2b\\u0e32\", \"\\u0e15\\u0e31\\u0e27\\u0e40\\u0e2d\\u0e07\", \"\\u0e15\\u0e31\\u0e27\\u0e40\\u0e2d\\u0e07\", \"\\u0e15\\u0e31\\u0e27\\u0e40\\u0e2d\\u0e07\", \"\\u0e15\\u0e31\\u0e27\\u0e40\\u0e2d\\u0e07\", \"\\u0e15\\u0e31\\u0e27\\u0e40\\u0e2d\\u0e07\", \"\\u0e15\\u0e31\\u0e27\\u0e40\\u0e2d\\u0e07\", \"\\u0e15\\u0e31\\u0e27\\u0e40\\u0e2d\\u0e07\", \"\\u0e15\\u0e31\\u0e27\\u0e40\\u0e2d\\u0e07\", \"\\u0e15\\u0e31\\u0e27\\u0e40\\u0e2d\\u0e07\", \"\\u0e15\\u0e32\\u0e04\\u0e49\\u0e32\\u0e07\", \"\\u0e15\\u0e32\\u0e21\\u0e40\\u0e04\\u0e22\", \"\\u0e15\\u0e33\", \"\\u0e15\\u0e33\\u0e41\\u0e2b\\u0e19\\u0e48\\u0e07\", \"\\u0e15\\u0e33\\u0e41\\u0e2b\\u0e19\\u0e48\\u0e07\", \"\\u0e15\\u0e33\\u0e41\\u0e2b\\u0e19\\u0e48\\u0e07\", \"\\u0e15\\u0e34\\u0e48\\u0e07\", \"\\u0e15\\u0e34\\u0e48\\u0e07\", \"\\u0e15\\u0e34\\u0e48\\u0e07\", \"\\u0e15\\u0e34\\u0e48\\u0e07\", \"\\u0e15\\u0e34\\u0e48\\u0e07\", \"\\u0e15\\u0e37\\u0e48\\u0e19\", \"\\u0e15\\u0e37\\u0e48\\u0e19\", \"\\u0e15\\u0e37\\u0e48\\u0e19\", \"\\u0e15\\u0e37\\u0e48\\u0e19\", \"\\u0e15\\u0e37\\u0e48\\u0e19\", \"\\u0e15\\u0e37\\u0e48\\u0e19\", \"\\u0e15\\u0e37\\u0e48\\u0e19\", \"\\u0e15\\u0e37\\u0e48\\u0e19\", \"\\u0e15\\u0e37\\u0e48\\u0e19\", \"\\u0e15\\u0e48\\u0e32\\u0e07\\u0e41\\u0e14\\u0e19\", \"\\u0e15\\u0e49\\u0e32\", \"\\u0e15\\u0e49\\u0e32\", \"\\u0e16\\u0e32\\u0e21\\u0e16\\u0e36\\u0e07\", \"\\u0e16\\u0e38\\u0e07\", \"\\u0e16\\u0e38\\u0e07\", \"\\u0e16\\u0e38\\u0e07\", \"\\u0e16\\u0e38\\u0e07\", \"\\u0e16\\u0e38\\u0e07\", \"\\u0e16\\u0e38\\u0e07\", \"\\u0e16\\u0e38\\u0e07\", \"\\u0e16\\u0e38\\u0e07\", \"\\u0e16\\u0e38\\u0e07\", \"\\u0e16\\u0e48\\u0e32\\u0e19\", \"\\u0e17\\u0e14\\u0e2a\\u0e2d\\u0e1a\", \"\\u0e17\\u0e14\\u0e2a\\u0e2d\\u0e1a\", \"\\u0e17\\u0e14\\u0e2a\\u0e2d\\u0e1a\", \"\\u0e17\\u0e14\\u0e2a\\u0e2d\\u0e1a\", \"\\u0e17\\u0e14\\u0e2a\\u0e2d\\u0e1a\", \"\\u0e17\\u0e14\\u0e2a\\u0e2d\\u0e1a\", \"\\u0e17\\u0e23\\u0e34\\u0e1b\", \"\\u0e17\\u0e23\\u0e34\\u0e1b\", \"\\u0e17\\u0e23\\u0e34\\u0e1b\", \"\\u0e17\\u0e23\\u0e34\\u0e1b\", \"\\u0e17\\u0e23\\u0e34\\u0e1b\", \"\\u0e17\\u0e23\\u0e34\\u0e1b\", \"\\u0e17\\u0e27\\u0e34\\u0e15\\u0e40\\u0e15\\u0e2d\\u0e23\\u0e4c\", \"\\u0e17\\u0e27\\u0e34\\u0e15\\u0e40\\u0e15\\u0e2d\\u0e23\\u0e4c\", \"\\u0e17\\u0e31\\u0e49\\u0e07\\u0e1b\\u0e35\", \"\\u0e17\\u0e32\\u0e19\", \"\\u0e17\\u0e32\\u0e19\", \"\\u0e17\\u0e32\\u0e19\", \"\\u0e17\\u0e32\\u0e19\", \"\\u0e17\\u0e32\\u0e19\", \"\\u0e17\\u0e32\\u0e19\", \"\\u0e17\\u0e32\\u0e19\", \"\\u0e17\\u0e32\\u0e19\", \"\\u0e17\\u0e32\\u0e19\", \"\\u0e17\\u0e33\", \"\\u0e17\\u0e33\", \"\\u0e17\\u0e33\", \"\\u0e17\\u0e33\", \"\\u0e17\\u0e33\", \"\\u0e17\\u0e33\", \"\\u0e17\\u0e33\", \"\\u0e17\\u0e33\", \"\\u0e17\\u0e33\", \"\\u0e17\\u0e33\\u0e2b\\u0e19\\u0e31\\u0e07\\u0e2a\\u0e37\\u0e2d\", \"\\u0e17\\u0e33\\u0e2b\\u0e19\\u0e49\\u0e32\\u0e17\\u0e35\\u0e48\", \"\\u0e17\\u0e33\\u0e2b\\u0e19\\u0e49\\u0e32\\u0e17\\u0e35\\u0e48\", \"\\u0e17\\u0e33\\u0e40\\u0e2d\\u0e32\", \"\\u0e17\\u0e35\\u0e48\\u0e08\\u0e30\", \"\\u0e17\\u0e35\\u0e48\\u0e08\\u0e30\", \"\\u0e17\\u0e35\\u0e48\\u0e08\\u0e30\", \"\\u0e17\\u0e35\\u0e48\\u0e08\\u0e30\", \"\\u0e17\\u0e35\\u0e48\\u0e08\\u0e30\", \"\\u0e17\\u0e35\\u0e48\\u0e08\\u0e30\", \"\\u0e17\\u0e35\\u0e48\\u0e08\\u0e30\", \"\\u0e17\\u0e35\\u0e48\\u0e08\\u0e30\", \"\\u0e17\\u0e35\\u0e48\\u0e08\\u0e30\", \"\\u0e17\\u0e35\\u0e48\\u0e0b\\u0e48\\u0e2d\\u0e19\", \"\\u0e17\\u0e35\\u0e48\\u0e0b\\u0e48\\u0e2d\\u0e19\", \"\\u0e17\\u0e35\\u0e48\\u0e0b\\u0e48\\u0e2d\\u0e19\", \"\\u0e17\\u0e35\\u0e48\\u0e0b\\u0e48\\u0e2d\\u0e19\", \"\\u0e17\\u0e35\\u0e48\\u0e0b\\u0e48\\u0e2d\\u0e19\", \"\\u0e17\\u0e35\\u0e48\\u0e0b\\u0e48\\u0e2d\\u0e19\", \"\\u0e17\\u0e35\\u0e48\\u0e0b\\u0e48\\u0e2d\\u0e19\", \"\\u0e17\\u0e35\\u0e48\\u0e0b\\u0e48\\u0e2d\\u0e19\", \"\\u0e17\\u0e35\\u0e48\\u0e44\\u0e2b\\u0e19\\u0e44\\u0e14\\u0e49\", \"\\u0e17\\u0e38\\u0e01\\u0e04\\u0e37\\u0e19\", \"\\u0e17\\u0e48\\u0e2d\\u0e19\", \"\\u0e17\\u0e49\\u0e32\\u0e22\", \"\\u0e17\\u0e49\\u0e32\\u0e22\", \"\\u0e17\\u0e49\\u0e32\\u0e22\", \"\\u0e17\\u0e49\\u0e32\\u0e22\", \"\\u0e17\\u0e49\\u0e32\\u0e22\", \"\\u0e17\\u0e49\\u0e32\\u0e22\", \"\\u0e17\\u0e49\\u0e32\\u0e22\", \"\\u0e17\\u0e49\\u0e32\\u0e22\", \"\\u0e18\\u0e31\\u0e0d\\u0e1e\\u0e37\\u0e0a\", \"\\u0e18\\u0e31\\u0e0d\\u0e1e\\u0e37\\u0e0a\", \"\\u0e18\\u0e31\\u0e0d\\u0e1e\\u0e37\\u0e0a\", \"\\u0e19.\", \"\\u0e19.\", \"\\u0e19.\", \"\\u0e19.\", \"\\u0e19.\", \"\\u0e19.\", \"\\u0e19.\", \"\\u0e19.\", \"\\u0e19.\", \"\\u0e19\\u0e01\", \"\\u0e19\\u0e01\", \"\\u0e19\\u0e01\", \"\\u0e19\\u0e01\", \"\\u0e19\\u0e21\", \"\\u0e19\\u0e21\", \"\\u0e19\\u0e21\", \"\\u0e19\\u0e21\", \"\\u0e19\\u0e21\", \"\\u0e19\\u0e21\", \"\\u0e19\\u0e21\", \"\\u0e19\\u0e21\", \"\\u0e19\\u0e21\", \"\\u0e19\\u0e21\\u0e01\\u0e25\\u0e48\\u0e2d\\u0e07\", \"\\u0e19\\u0e21\\u0e01\\u0e25\\u0e48\\u0e2d\\u0e07\", \"\\u0e19\\u0e21\\u0e01\\u0e25\\u0e48\\u0e2d\\u0e07\", \"\\u0e19\\u0e21\\u0e01\\u0e25\\u0e48\\u0e2d\\u0e07\", \"\\u0e19\\u0e21\\u0e01\\u0e25\\u0e48\\u0e2d\\u0e07\", \"\\u0e19\\u0e21\\u0e01\\u0e25\\u0e48\\u0e2d\\u0e07\", \"\\u0e19\\u0e21\\u0e01\\u0e25\\u0e48\\u0e2d\\u0e07\", \"\\u0e19\\u0e21\\u0e01\\u0e25\\u0e48\\u0e2d\\u0e07\", \"\\u0e19\\u0e21\\u0e1c\\u0e07\", \"\\u0e19\\u0e21\\u0e1c\\u0e07\", \"\\u0e19\\u0e21\\u0e1c\\u0e07\", \"\\u0e19\\u0e21\\u0e1c\\u0e07\", \"\\u0e19\\u0e21\\u0e1c\\u0e07\", \"\\u0e19\\u0e21\\u0e1c\\u0e07\", \"\\u0e19\\u0e21\\u0e1c\\u0e07\", \"\\u0e19\\u0e21\\u0e1c\\u0e07\", \"\\u0e19\\u0e21\\u0e1c\\u0e07\", \"\\u0e19\\u0e21\\u0e2a\\u0e14\", \"\\u0e19\\u0e21\\u0e2a\\u0e14\", \"\\u0e19\\u0e21\\u0e2a\\u0e14\", \"\\u0e19\\u0e21\\u0e2a\\u0e14\", \"\\u0e19\\u0e21\\u0e2a\\u0e14\", \"\\u0e19\\u0e21\\u0e2a\\u0e14\", \"\\u0e19\\u0e21\\u0e2a\\u0e14\", \"\\u0e19\\u0e21\\u0e2a\\u0e14\", \"\\u0e19\\u0e21\\u0e2a\\u0e14\", \"\\u0e19\\u0e21\\u0e2e\\u0e2d\\u0e01\\u0e44\\u0e01\\u0e42\\u0e14\", \"\\u0e19\\u0e21\\u0e2e\\u0e2d\\u0e01\\u0e44\\u0e01\\u0e42\\u0e14\", \"\\u0e19\\u0e21\\u0e41\\u0e21\\u0e27\", \"\\u0e19\\u0e23\\u0e01\", \"\\u0e19\\u0e23\\u0e01\", \"\\u0e19\\u0e31\\u0e19\\u0e17\\u0e4c\", \"\\u0e19\\u0e31\\u0e25\", \"\\u0e19\\u0e31\\u0e48\\u0e07\", \"\\u0e19\\u0e31\\u0e48\\u0e07\", \"\\u0e19\\u0e31\\u0e48\\u0e07\", \"\\u0e19\\u0e31\\u0e48\\u0e07\", \"\\u0e19\\u0e31\\u0e48\\u0e07\", \"\\u0e19\\u0e31\\u0e48\\u0e07\", \"\\u0e19\\u0e31\\u0e48\\u0e07\", \"\\u0e19\\u0e31\\u0e48\\u0e07\", \"\\u0e19\\u0e31\\u0e48\\u0e07\", \"\\u0e19\\u0e32\\u0e22\\u0e41\\u0e21\\u0e48\", \"\\u0e19\\u0e32\\u0e23\\u0e32\", \"\\u0e19\\u0e36\\u0e07\", \"\\u0e19\\u0e36\\u0e07\", \"\\u0e19\\u0e36\\u0e07\", \"\\u0e19\\u0e36\\u0e07\", \"\\u0e19\\u0e36\\u0e07\", \"\\u0e19\\u0e36\\u0e07\", \"\\u0e19\\u0e36\\u0e07\", \"\\u0e19\\u0e36\\u0e07\", \"\\u0e19\\u0e36\\u0e07\", \"\\u0e19\\u0e38\\u0e48\\u0e19\", \"\\u0e19\\u0e38\\u0e48\\u0e19\", \"\\u0e19\\u0e48\\u0e32\\u0e01\\u0e34\\u0e19\", \"\\u0e19\\u0e48\\u0e32\\u0e01\\u0e34\\u0e19\", \"\\u0e19\\u0e48\\u0e32\\u0e01\\u0e34\\u0e19\", \"\\u0e19\\u0e48\\u0e32\\u0e01\\u0e34\\u0e19\", \"\\u0e19\\u0e48\\u0e32\\u0e01\\u0e34\\u0e19\", \"\\u0e19\\u0e48\\u0e32\\u0e01\\u0e34\\u0e19\", \"\\u0e19\\u0e48\\u0e32\\u0e01\\u0e34\\u0e19\", \"\\u0e19\\u0e48\\u0e32\\u0e01\\u0e34\\u0e19\", \"\\u0e19\\u0e48\\u0e32\\u0e01\\u0e34\\u0e19\", \"\\u0e19\\u0e48\\u0e32\\u0e20\\u0e32\\u0e04\\u0e20\\u0e39\\u0e21\\u0e34\\u0e43\\u0e08\", \"\\u0e19\\u0e48\\u0e32\\u0e23\\u0e31\\u0e01\", \"\\u0e19\\u0e48\\u0e32\\u0e23\\u0e31\\u0e01\", \"\\u0e19\\u0e48\\u0e32\\u0e23\\u0e31\\u0e01\", \"\\u0e19\\u0e48\\u0e32\\u0e23\\u0e31\\u0e01\", \"\\u0e19\\u0e48\\u0e32\\u0e23\\u0e31\\u0e01\", \"\\u0e19\\u0e48\\u0e32\\u0e23\\u0e31\\u0e01\", \"\\u0e19\\u0e48\\u0e32\\u0e23\\u0e31\\u0e01\", \"\\u0e19\\u0e48\\u0e32\\u0e23\\u0e31\\u0e01\", \"\\u0e19\\u0e48\\u0e32\\u0e23\\u0e31\\u0e01\", \"\\u0e19\\u0e49\\u0e2d\\u0e07\", \"\\u0e19\\u0e49\\u0e2d\\u0e07\", \"\\u0e19\\u0e49\\u0e2d\\u0e07\", \"\\u0e19\\u0e49\\u0e2d\\u0e07\", \"\\u0e19\\u0e49\\u0e2d\\u0e07\", \"\\u0e19\\u0e49\\u0e2d\\u0e07\", \"\\u0e19\\u0e49\\u0e2d\\u0e07\", \"\\u0e19\\u0e49\\u0e2d\\u0e07\", \"\\u0e19\\u0e49\\u0e2d\\u0e07\", \"\\u0e19\\u0e49\\u0e2d\\u0e07\\u0e0a\\u0e32\\u0e22\", \"\\u0e19\\u0e49\\u0e32\", \"\\u0e19\\u0e49\\u0e32\", \"\\u0e19\\u0e49\\u0e32\", \"\\u0e19\\u0e49\\u0e32\", \"\\u0e19\\u0e49\\u0e32\", \"\\u0e19\\u0e49\\u0e32\", \"\\u0e19\\u0e49\\u0e32\", \"\\u0e19\\u0e49\\u0e32\", \"\\u0e19\\u0e49\\u0e32\", \"\\u0e19\\u0e49\\u0e33\", \"\\u0e19\\u0e49\\u0e33\", \"\\u0e19\\u0e49\\u0e33\", \"\\u0e19\\u0e49\\u0e33\", \"\\u0e19\\u0e49\\u0e33\", \"\\u0e19\\u0e49\\u0e33\", \"\\u0e19\\u0e49\\u0e33\", \"\\u0e19\\u0e49\\u0e33\", \"\\u0e19\\u0e49\\u0e33\", \"\\u0e19\\u0e49\\u0e33\\u0e15\\u0e32\\u0e25\", \"\\u0e19\\u0e49\\u0e33\\u0e15\\u0e32\\u0e25\", \"\\u0e19\\u0e49\\u0e33\\u0e15\\u0e32\\u0e25\", \"\\u0e19\\u0e49\\u0e33\\u0e15\\u0e32\\u0e25\", \"\\u0e19\\u0e49\\u0e33\\u0e15\\u0e32\\u0e25\", \"\\u0e19\\u0e49\\u0e33\\u0e15\\u0e32\\u0e25\", \"\\u0e19\\u0e49\\u0e33\\u0e15\\u0e32\\u0e25\", \"\\u0e19\\u0e49\\u0e33\\u0e15\\u0e32\\u0e25\", \"\\u0e19\\u0e49\\u0e33\\u0e15\\u0e32\\u0e25\", \"\\u0e19\\u0e49\\u0e33\\u0e15\\u0e32\\u0e44\\u0e2b\\u0e25\", \"\\u0e19\\u0e49\\u0e33\\u0e17\\u0e48\\u0e27\\u0e21\", \"\\u0e19\\u0e49\\u0e33\\u0e43\\u0e08\", \"\\u0e19\\u0e49\\u0e33\\u0e43\\u0e08\", \"\\u0e19\\u0e49\\u0e33\\u0e43\\u0e08\", \"\\u0e1a\\u0e1a\", \"\\u0e1a\\u0e1a\", \"\\u0e1a\\u0e1a\", \"\\u0e1a\\u0e1a\", \"\\u0e1a\\u0e1a\\u0e1a\\u0e1a\", \"\\u0e1a\\u0e2d\", \"\\u0e1a\\u0e2d\", \"\\u0e1a\\u0e2d\", \"\\u0e1a\\u0e2d\", \"\\u0e1a\\u0e2d\", \"\\u0e1a\\u0e2d\", \"\\u0e1a\\u0e2d\", \"\\u0e1a\\u0e2d\", \"\\u0e1a\\u0e2d\", \"\\u0e1a\\u0e32\\u0e14\", \"\\u0e1a\\u0e34\\u0e48\\u0e19\", \"\\u0e1a\\u0e35\\u0e17\\u0e35\\u0e40\\u0e2d\\u0e2a\", \"\\u0e1a\\u0e38\\u0e1a\", \"\\u0e1a\\u0e38\\u0e4a\\u0e04\", \"\\u0e1a\\u0e38\\u0e4a\\u0e04\", \"\\u0e1a\\u0e41\\u0e23\\u0e07\", \"\\u0e1a\\u0e49\\u0e27\\u0e19\", \"\\u0e1a\\u0e49\\u0e32\\u0e19\", \"\\u0e1a\\u0e49\\u0e32\\u0e19\", \"\\u0e1a\\u0e49\\u0e32\\u0e19\", \"\\u0e1a\\u0e49\\u0e32\\u0e19\", \"\\u0e1a\\u0e49\\u0e32\\u0e19\", \"\\u0e1a\\u0e49\\u0e32\\u0e19\", \"\\u0e1a\\u0e49\\u0e32\\u0e19\", \"\\u0e1a\\u0e49\\u0e32\\u0e19\", \"\\u0e1a\\u0e49\\u0e32\\u0e19\", \"\\u0e1a\\u0e4a\\u0e07\", \"\\u0e1b\\u0e01\\u0e15\\u0e34\", \"\\u0e1b\\u0e01\\u0e15\\u0e34\", \"\\u0e1b\\u0e01\\u0e15\\u0e34\", \"\\u0e1b\\u0e01\\u0e15\\u0e34\", \"\\u0e1b\\u0e01\\u0e15\\u0e34\", \"\\u0e1b\\u0e01\\u0e15\\u0e34\", \"\\u0e1b\\u0e01\\u0e15\\u0e34\", \"\\u0e1b\\u0e01\\u0e15\\u0e34\", \"\\u0e1b\\u0e01\\u0e15\\u0e34\", \"\\u0e1b\\u0e23\\u0e30\\u0e01\\u0e27\\u0e14\", \"\\u0e1b\\u0e23\\u0e30\\u0e08\\u0e33\\u0e40\\u0e14\\u0e37\\u0e2d\\u0e19\", \"\\u0e1b\\u0e23\\u0e30\\u0e08\\u0e33\\u0e40\\u0e14\\u0e37\\u0e2d\\u0e19\", \"\\u0e1b\\u0e23\\u0e30\\u0e08\\u0e33\\u0e40\\u0e14\\u0e37\\u0e2d\\u0e19\", \"\\u0e1b\\u0e23\\u0e30\\u0e08\\u0e33\\u0e40\\u0e14\\u0e37\\u0e2d\\u0e19\", \"\\u0e1b\\u0e23\\u0e30\\u0e08\\u0e33\\u0e40\\u0e14\\u0e37\\u0e2d\\u0e19\", \"\\u0e1b\\u0e23\\u0e30\\u0e08\\u0e33\\u0e40\\u0e14\\u0e37\\u0e2d\\u0e19\", \"\\u0e1b\\u0e23\\u0e30\\u0e08\\u0e33\\u0e40\\u0e14\\u0e37\\u0e2d\\u0e19\", \"\\u0e1b\\u0e23\\u0e30\\u0e08\\u0e33\\u0e40\\u0e14\\u0e37\\u0e2d\\u0e19\", \"\\u0e1b\\u0e23\\u0e30\\u0e08\\u0e33\\u0e40\\u0e14\\u0e37\\u0e2d\\u0e19\", \"\\u0e1b\\u0e23\\u0e30\\u0e16\\u0e21\", \"\\u0e1b\\u0e23\\u0e30\\u0e16\\u0e21\", \"\\u0e1b\\u0e23\\u0e30\\u0e2a\\u0e1a\\u0e04\\u0e27\\u0e32\\u0e21\\u0e2a\\u0e33\\u0e40\\u0e23\\u0e47\\u0e08\", \"\\u0e1b\\u0e23\\u0e30\\u0e2a\\u0e1a\\u0e04\\u0e27\\u0e32\\u0e21\\u0e2a\\u0e33\\u0e40\\u0e23\\u0e47\\u0e08\", \"\\u0e1b\\u0e23\\u0e30\\u0e2b\\u0e25\\u0e32\\u0e14\\u0e43\\u0e08\", \"\\u0e1b\\u0e23\\u0e30\\u0e42\\u0e22\\u0e04\", \"\\u0e1b\\u0e23\\u0e30\\u0e42\\u0e22\\u0e04\", \"\\u0e1b\\u0e23\\u0e30\\u0e42\\u0e22\\u0e04\", \"\\u0e1b\\u0e23\\u0e30\\u0e42\\u0e22\\u0e04\", \"\\u0e1b\\u0e23\\u0e30\\u0e42\\u0e22\\u0e04\", \"\\u0e1b\\u0e23\\u0e30\\u0e42\\u0e22\\u0e04\", \"\\u0e1b\\u0e23\\u0e30\\u0e42\\u0e22\\u0e04\", \"\\u0e1b\\u0e23\\u0e30\\u0e42\\u0e22\\u0e04\", \"\\u0e1b\\u0e23\\u0e30\\u0e42\\u0e22\\u0e04\", \"\\u0e1b\\u0e23\\u0e34\\u0e21\\u0e32\\u0e13\", \"\\u0e1b\\u0e23\\u0e34\\u0e21\\u0e32\\u0e13\", \"\\u0e1b\\u0e23\\u0e34\\u0e21\\u0e32\\u0e13\", \"\\u0e1b\\u0e23\\u0e34\\u0e21\\u0e32\\u0e13\", \"\\u0e1b\\u0e23\\u0e34\\u0e21\\u0e32\\u0e13\", \"\\u0e1b\\u0e23\\u0e34\\u0e21\\u0e32\\u0e13\", \"\\u0e1b\\u0e23\\u0e34\\u0e21\\u0e32\\u0e13\", \"\\u0e1b\\u0e23\\u0e34\\u0e21\\u0e32\\u0e13\", \"\\u0e1b\\u0e23\\u0e34\\u0e21\\u0e32\\u0e13\", \"\\u0e1b\\u0e25\\u0e07\", \"\\u0e1b\\u0e25\\u0e32\\u0e14\\u0e38\\u0e01\", \"\\u0e1b\\u0e25\\u0e32\\u0e14\\u0e38\\u0e01\", \"\\u0e1b\\u0e31\\u0e08\\u0e08\\u0e31\\u0e22\\u0e2a\\u0e33\\u0e04\\u0e31\\u0e0d\", \"\\u0e1b\\u0e34\\u0e14\\u0e1b\\u0e32\\u0e01\", \"\\u0e1b\\u0e35\", \"\\u0e1b\\u0e35\", \"\\u0e1b\\u0e35\", \"\\u0e1b\\u0e35\", \"\\u0e1b\\u0e35\", \"\\u0e1b\\u0e35\", \"\\u0e1b\\u0e35\", \"\\u0e1b\\u0e35\", \"\\u0e1b\\u0e35\", \"\\u0e1b\\u0e48\\u0e2d\\u0e07\", \"\\u0e1b\\u0e4a\\u0e32\\u0e14\", \"\\u0e1c\\u0e07\", \"\\u0e1c\\u0e07\", \"\\u0e1c\\u0e07\", \"\\u0e1c\\u0e07\", \"\\u0e1c\\u0e07\", \"\\u0e1c\\u0e07\", \"\\u0e1c\\u0e07\", \"\\u0e1c\\u0e07\", \"\\u0e1c\\u0e07\", \"\\u0e1c\\u0e08\\u0e01.\", \"\\u0e1c\\u0e21\", \"\\u0e1c\\u0e21\", \"\\u0e1c\\u0e21\", \"\\u0e1c\\u0e21\", \"\\u0e1c\\u0e21\", \"\\u0e1c\\u0e21\", \"\\u0e1c\\u0e21\", \"\\u0e1c\\u0e21\", \"\\u0e1c\\u0e21\", \"\\u0e1c\\u0e25\\u0e31\\u0e14\\u0e01\\u0e31\\u0e19\", \"\\u0e1c\\u0e25\\u0e34\\u0e15\", \"\\u0e1c\\u0e25\\u0e34\\u0e15\", \"\\u0e1c\\u0e25\\u0e34\\u0e15\", \"\\u0e1c\\u0e25\\u0e34\\u0e15\", \"\\u0e1c\\u0e25\\u0e34\\u0e15\", \"\\u0e1c\\u0e25\\u0e34\\u0e15\", \"\\u0e1c\\u0e25\\u0e34\\u0e15\", \"\\u0e1c\\u0e25\\u0e34\\u0e15\", \"\\u0e1c\\u0e25\\u0e34\\u0e15\", \"\\u0e1c\\u0e25\\u0e34\\u0e15\\u0e20\\u0e31\\u0e13\\u0e11\\u0e4c\", \"\\u0e1c\\u0e25\\u0e34\\u0e15\\u0e20\\u0e31\\u0e13\\u0e11\\u0e4c\", \"\\u0e1c\\u0e25\\u0e34\\u0e15\\u0e20\\u0e31\\u0e13\\u0e11\\u0e4c\", \"\\u0e1c\\u0e25\\u0e34\\u0e15\\u0e20\\u0e31\\u0e13\\u0e11\\u0e4c\", \"\\u0e1c\\u0e25\\u0e34\\u0e15\\u0e20\\u0e31\\u0e13\\u0e11\\u0e4c\", \"\\u0e1c\\u0e25\\u0e34\\u0e15\\u0e20\\u0e31\\u0e13\\u0e11\\u0e4c\", \"\\u0e1c\\u0e25\\u0e34\\u0e15\\u0e20\\u0e31\\u0e13\\u0e11\\u0e4c\", \"\\u0e1c\\u0e25\\u0e34\\u0e15\\u0e20\\u0e31\\u0e13\\u0e11\\u0e4c\", \"\\u0e1c\\u0e25\\u0e34\\u0e15\\u0e20\\u0e31\\u0e13\\u0e11\\u0e4c\", \"\\u0e1c\\u0e2a\\u0e21\", \"\\u0e1c\\u0e2a\\u0e21\", \"\\u0e1c\\u0e2a\\u0e21\", \"\\u0e1c\\u0e2a\\u0e21\", \"\\u0e1c\\u0e2a\\u0e21\", \"\\u0e1c\\u0e2a\\u0e21\", \"\\u0e1c\\u0e2a\\u0e21\", \"\\u0e1c\\u0e2a\\u0e21\", \"\\u0e1c\\u0e2a\\u0e21\", \"\\u0e1c\\u0e48\\u0e2d\\u0e19\\u0e04\\u0e25\\u0e32\\u0e22\", \"\\u0e1d\\u0e31\\u0e07\\u0e43\\u0e08\", \"\\u0e1e\\u0e07\\u0e29\\u0e4c\", \"\\u0e1e\\u0e19\", \"\\u0e1e\\u0e19\", \"\\u0e1e\\u0e19\", \"\\u0e1e\\u0e19\", \"\\u0e1e\\u0e19\", \"\\u0e1e\\u0e19\", \"\\u0e1e\\u0e19\", \"\\u0e1e\\u0e19\", \"\\u0e1e\\u0e19\\u0e31\\u0e01\", \"\\u0e1e\\u0e19\\u0e31\\u0e01\\u0e07\\u0e32\\u0e19\", \"\\u0e1e\\u0e19\\u0e31\\u0e01\\u0e07\\u0e32\\u0e19\", \"\\u0e1e\\u0e19\\u0e31\\u0e01\\u0e07\\u0e32\\u0e19\", \"\\u0e1e\\u0e19\\u0e31\\u0e01\\u0e07\\u0e32\\u0e19\", \"\\u0e1e\\u0e19\\u0e31\\u0e01\\u0e07\\u0e32\\u0e19\", \"\\u0e1e\\u0e19\\u0e31\\u0e01\\u0e07\\u0e32\\u0e19\", \"\\u0e1e\\u0e19\\u0e31\\u0e01\\u0e07\\u0e32\\u0e19\", \"\\u0e1e\\u0e19\\u0e31\\u0e01\\u0e07\\u0e32\\u0e19\", \"\\u0e1e\\u0e19\\u0e31\\u0e01\\u0e07\\u0e32\\u0e19\", \"\\u0e1e\\u0e22\\u0e32\\u0e18\\u0e34\", \"\\u0e1e\\u0e22\\u0e32\\u0e1a\\u0e32\\u0e25\", \"\\u0e1e\\u0e22\\u0e32\\u0e1a\\u0e32\\u0e25\", \"\\u0e1e\\u0e23\\u0e35\\u0e40\\u0e0b\\u0e19\\u0e40\\u0e15\\u0e2d\\u0e23\\u0e4c\", \"\\u0e1e\\u0e23\\u0e35\\u0e40\\u0e0b\\u0e19\\u0e40\\u0e15\\u0e2d\\u0e23\\u0e4c\", \"\\u0e1e\\u0e23\\u0e35\\u0e40\\u0e0b\\u0e19\\u0e40\\u0e15\\u0e2d\\u0e23\\u0e4c\", \"\\u0e1e\\u0e23\\u0e35\\u0e40\\u0e0b\\u0e19\\u0e40\\u0e15\\u0e2d\\u0e23\\u0e4c\", \"\\u0e1e\\u0e23\\u0e35\\u0e40\\u0e0b\\u0e19\\u0e40\\u0e15\\u0e2d\\u0e23\\u0e4c\", \"\\u0e1e\\u0e23\\u0e35\\u0e40\\u0e21\\u0e35\\u0e48\\u0e22\\u0e21\", \"\\u0e1e\\u0e23\\u0e35\\u0e40\\u0e21\\u0e35\\u0e48\\u0e22\\u0e21\", \"\\u0e1e\\u0e25\\u0e32\\u0e2a\\u0e15\\u0e34\\u0e01\", \"\\u0e1e\\u0e25\\u0e32\\u0e2a\\u0e15\\u0e34\\u0e01\", \"\\u0e1e\\u0e25\\u0e32\\u0e2a\\u0e15\\u0e34\\u0e01\", \"\\u0e1e\\u0e25\\u0e32\\u0e2a\\u0e15\\u0e34\\u0e01\", \"\\u0e1e\\u0e25\\u0e32\\u0e2a\\u0e15\\u0e34\\u0e01\", \"\\u0e1e\\u0e25\\u0e32\\u0e2a\\u0e15\\u0e34\\u0e01\", \"\\u0e1e\\u0e25\\u0e32\\u0e2a\\u0e15\\u0e34\\u0e01\", \"\\u0e1e\\u0e25\\u0e32\\u0e2a\\u0e15\\u0e34\\u0e01\", \"\\u0e1e\\u0e25\\u0e32\\u0e2a\\u0e15\\u0e34\\u0e01\", \"\\u0e1e\\u0e25\\u0e34\\u0e01\\u0e41\\u0e1e\\u0e25\\u0e07\", \"\\u0e1e\\u0e2d\\u0e43\\u0e2b\\u0e49\", \"\\u0e1e\\u0e31\\u0e17\\u0e22\\u0e32\", \"\\u0e1e\\u0e32\\u0e22\", \"\\u0e1e\\u0e32\\u0e22\", \"\\u0e1e\\u0e32\\u0e22\", \"\\u0e1e\\u0e32\\u0e22\", \"\\u0e1e\\u0e32\\u0e22\\u0e38\", \"\\u0e1e\\u0e32\\u0e2b\\u0e38\\u0e23\\u0e31\\u0e14\", \"\\u0e1e\\u0e35\\u0e48\", \"\\u0e1e\\u0e35\\u0e48\", \"\\u0e1e\\u0e35\\u0e48\", \"\\u0e1e\\u0e35\\u0e48\", \"\\u0e1e\\u0e35\\u0e48\", \"\\u0e1e\\u0e35\\u0e48\", \"\\u0e1e\\u0e35\\u0e48\", \"\\u0e1e\\u0e35\\u0e48\", \"\\u0e1e\\u0e35\\u0e48\", \"\\u0e1e\\u0e37\\u0e49\\u0e19\\u0e1a\\u0e49\\u0e32\\u0e19\", \"\\u0e1e\\u0e38\\u0e18\", \"\\u0e1e\\u0e39\\u0e14\\u0e04\\u0e38\\u0e22\", \"\\u0e1e\\u0e39\\u0e14\\u0e27\\u0e48\\u0e32\", \"\\u0e1e\\u0e39\\u0e14\\u0e27\\u0e48\\u0e32\", \"\\u0e1e\\u0e39\\u0e14\\u0e27\\u0e48\\u0e32\", \"\\u0e1e\\u0e39\\u0e14\\u0e27\\u0e48\\u0e32\", \"\\u0e1e\\u0e40\\u0e19\\u0e08\\u0e23\", \"\\u0e1e\\u0e48\\u0e2d\\u0e1a\\u0e49\\u0e32\\u0e19\", \"\\u0e1e\\u0e49\\u0e2d\", \"\\u0e1e\\u0e49\\u0e2d\", \"\\u0e1e\\u0e49\\u0e2d\", \"\\u0e1f\\u0e32\\u0e23\\u0e4c\\u0e21\", \"\\u0e1f\\u0e32\\u0e23\\u0e4c\\u0e21\", \"\\u0e1f\\u0e32\\u0e23\\u0e4c\\u0e21\", \"\\u0e1f\\u0e32\\u0e23\\u0e4c\\u0e21\", \"\\u0e1f\\u0e32\\u0e23\\u0e4c\\u0e21\", \"\\u0e1f\\u0e32\\u0e23\\u0e4c\\u0e21\", \"\\u0e1f\\u0e32\\u0e23\\u0e4c\\u0e21\", \"\\u0e1f\\u0e32\\u0e23\\u0e4c\\u0e21\", \"\\u0e1f\\u0e34\\u0e19\\u0e19\\u0e19\\u0e19\\u0e19\", \"\\u0e20\\u0e32\\u0e27\\u0e30\", \"\\u0e20\\u0e32\\u0e27\\u0e30\", \"\\u0e20\\u0e32\\u0e27\\u0e30\", \"\\u0e20\\u0e32\\u0e27\\u0e30\", \"\\u0e20\\u0e32\\u0e27\\u0e30\", \"\\u0e20\\u0e32\\u0e27\\u0e30\", \"\\u0e20\\u0e39\", \"\\u0e20\\u0e39\", \"\\u0e20\\u0e39\", \"\\u0e20\\u0e39\", \"\\u0e20\\u0e39\", \"\\u0e20\\u0e39\", \"\\u0e20\\u0e39\", \"\\u0e21\\u0e14\", \"\\u0e21\\u0e14\", \"\\u0e21\\u0e14\", \"\\u0e21\\u0e14\", \"\\u0e21\\u0e19\", \"\\u0e21\\u0e25.\", \"\\u0e21\\u0e25.\", \"\\u0e21\\u0e25.\", \"\\u0e21\\u0e25.\", \"\\u0e21\\u0e25.\", \"\\u0e21\\u0e25.\", \"\\u0e21\\u0e25.\", \"\\u0e21\\u0e25.\", \"\\u0e21\\u0e25.\", \"\\u0e21\\u0e2b\\u0e31\\u0e28\\u0e08\\u0e23\\u0e23\\u0e22\\u0e4c\", \"\\u0e21\\u0e2d\", \"\\u0e21\\u0e2d\", \"\\u0e21\\u0e2d\", \"\\u0e21\\u0e2d\", \"\\u0e21\\u0e2d\", \"\\u0e21\\u0e2d\", \"\\u0e21\\u0e2d\", \"\\u0e21\\u0e2d\", \"\\u0e21\\u0e2d\", \"\\u0e21\\u0e30\\u0e21\\u0e48\\u0e27\\u0e07\", \"\\u0e21\\u0e30\\u0e21\\u0e48\\u0e27\\u0e07\", \"\\u0e21\\u0e30\\u0e21\\u0e48\\u0e27\\u0e07\", \"\\u0e21\\u0e30\\u0e21\\u0e48\\u0e27\\u0e07\", \"\\u0e21\\u0e30\\u0e21\\u0e48\\u0e27\\u0e07\", \"\\u0e21\\u0e30\\u0e21\\u0e48\\u0e27\\u0e07\", \"\\u0e21\\u0e30\\u0e21\\u0e48\\u0e27\\u0e07\", \"\\u0e21\\u0e30\\u0e21\\u0e48\\u0e27\\u0e07\", \"\\u0e21\\u0e30\\u0e21\\u0e48\\u0e27\\u0e07\", \"\\u0e21\\u0e31\\u0e19\\u0e2a\\u0e4c\", \"\\u0e21\\u0e31\\u0e19\\u0e2a\\u0e4c\", \"\\u0e21\\u0e32\\u0e21\\u0e48\\u0e32\", \"\\u0e21\\u0e32\\u0e21\\u0e48\\u0e32\", \"\\u0e21\\u0e32\\u0e21\\u0e48\\u0e32\", \"\\u0e21\\u0e32\\u0e21\\u0e48\\u0e32\", \"\\u0e21\\u0e32\\u0e21\\u0e48\\u0e32\", \"\\u0e21\\u0e32\\u0e21\\u0e48\\u0e32\", \"\\u0e21\\u0e32\\u0e21\\u0e48\\u0e32\", \"\\u0e21\\u0e32\\u0e21\\u0e48\\u0e32\", \"\\u0e21\\u0e32\\u0e21\\u0e48\\u0e32\", \"\\u0e21\\u0e34\\u0e25\\u0e04\\u0e4c\", \"\\u0e21\\u0e34\\u0e25\\u0e04\\u0e4c\", \"\\u0e21\\u0e34\\u0e25\\u0e04\\u0e4c\", \"\\u0e21\\u0e34\\u0e25\\u0e04\\u0e4c\", \"\\u0e21\\u0e34\\u0e49\\u0e07\", \"\\u0e21\\u0e34\\u0e49\\u0e07\", \"\\u0e21\\u0e34\\u0e49\\u0e07\", \"\\u0e21\\u0e35\\u0e1b\\u0e23\\u0e30\\u0e42\\u0e22\\u0e0a\\u0e19\\u0e4c\", \"\\u0e21\\u0e35\\u0e1b\\u0e23\\u0e30\\u0e42\\u0e22\\u0e0a\\u0e19\\u0e4c\", \"\\u0e21\\u0e35\\u0e1b\\u0e23\\u0e30\\u0e42\\u0e22\\u0e0a\\u0e19\\u0e4c\", \"\\u0e21\\u0e35\\u0e1b\\u0e23\\u0e30\\u0e42\\u0e22\\u0e0a\\u0e19\\u0e4c\", \"\\u0e21\\u0e35\\u0e1b\\u0e23\\u0e30\\u0e42\\u0e22\\u0e0a\\u0e19\\u0e4c\", \"\\u0e21\\u0e35\\u0e1b\\u0e23\\u0e30\\u0e42\\u0e22\\u0e0a\\u0e19\\u0e4c\", \"\\u0e21\\u0e35\\u0e1b\\u0e23\\u0e30\\u0e42\\u0e22\\u0e0a\\u0e19\\u0e4c\", \"\\u0e21\\u0e35\\u0e1b\\u0e23\\u0e30\\u0e42\\u0e22\\u0e0a\\u0e19\\u0e4c\", \"\\u0e21\\u0e35\\u0e1b\\u0e23\\u0e30\\u0e42\\u0e22\\u0e0a\\u0e19\\u0e4c\", \"\\u0e21\\u0e42\\u0e19\", \"\\u0e21\\u0e42\\u0e19\", \"\\u0e21\\u0e42\\u0e19\", \"\\u0e21\\u0e42\\u0e19\", \"\\u0e21\\u0e42\\u0e19\", \"\\u0e21\\u0e48\", \"\\u0e21\\u0e48\\u0e32\\u0e22\", \"\\u0e21\\u0e48\\u0e32\\u0e22\", \"\\u0e21\\u0e48\\u0e32\\u0e22\", \"\\u0e21\\u0e48\\u0e32\\u0e22\", \"\\u0e22\\u0e01\\u0e40\\u0e25\\u0e34\\u0e01\", \"\\u0e22\\u0e01\\u0e40\\u0e25\\u0e34\\u0e01\", \"\\u0e22\\u0e01\\u0e40\\u0e25\\u0e34\\u0e01\", \"\\u0e22\\u0e32\\u0e07\", \"\\u0e22\\u0e32\\u0e07\", \"\\u0e22\\u0e32\\u0e07\\u0e22\\u0e37\\u0e14\", \"\\u0e22\\u0e32\\u0e16\\u0e48\\u0e32\\u0e22\", \"\\u0e22\\u0e32\\u0e19\", \"\\u0e22\\u0e33\", \"\\u0e22\\u0e33\", \"\\u0e22\\u0e33\", \"\\u0e22\\u0e33\", \"\\u0e22\\u0e33\", \"\\u0e22\\u0e33\", \"\\u0e22\\u0e33\", \"\\u0e22\\u0e33\", \"\\u0e22\\u0e35\\u0e48\\u0e2b\\u0e49\\u0e2d\", \"\\u0e22\\u0e35\\u0e48\\u0e2b\\u0e49\\u0e2d\", \"\\u0e22\\u0e35\\u0e48\\u0e2b\\u0e49\\u0e2d\", \"\\u0e22\\u0e35\\u0e48\\u0e2b\\u0e49\\u0e2d\", \"\\u0e22\\u0e35\\u0e48\\u0e2b\\u0e49\\u0e2d\", \"\\u0e22\\u0e35\\u0e48\\u0e2b\\u0e49\\u0e2d\", \"\\u0e22\\u0e35\\u0e48\\u0e2b\\u0e49\\u0e2d\", \"\\u0e22\\u0e35\\u0e48\\u0e2b\\u0e49\\u0e2d\", \"\\u0e22\\u0e35\\u0e48\\u0e2b\\u0e49\\u0e2d\", \"\\u0e22\\u0e37\\u0e14\\u0e15\\u0e31\\u0e27\", \"\\u0e22\\u0e37\\u0e19\", \"\\u0e22\\u0e37\\u0e19\", \"\\u0e22\\u0e37\\u0e19\", \"\\u0e22\\u0e37\\u0e19\", \"\\u0e22\\u0e37\\u0e19\", \"\\u0e22\\u0e37\\u0e19\", \"\\u0e22\\u0e37\\u0e19\", \"\\u0e22\\u0e37\\u0e19\", \"\\u0e22\\u0e48\\u0e32\\u0e07\\u0e01\\u0e49\\u0e32\\u0e27\", \"\\u0e22\\u0e49\\u0e2d\\u0e22\", \"\\u0e22\\u0e49\\u0e32\\u0e22\\u0e1a\\u0e49\\u0e32\\u0e19\", \"\\u0e23\\u0e16\", \"\\u0e23\\u0e16\", \"\\u0e23\\u0e16\", \"\\u0e23\\u0e16\", \"\\u0e23\\u0e16\", \"\\u0e23\\u0e16\", \"\\u0e23\\u0e16\", \"\\u0e23\\u0e16\", \"\\u0e23\\u0e16\", \"\\u0e23\\u0e2a\", \"\\u0e23\\u0e2a\", \"\\u0e23\\u0e2a\", \"\\u0e23\\u0e2a\", \"\\u0e23\\u0e2a\", \"\\u0e23\\u0e2a\", \"\\u0e23\\u0e2a\", \"\\u0e23\\u0e2a\", \"\\u0e23\\u0e2a\", \"\\u0e23\\u0e2a\\u0e0a\\u0e32\\u0e15\\u0e34\", \"\\u0e23\\u0e2a\\u0e0a\\u0e32\\u0e15\\u0e34\", \"\\u0e23\\u0e2a\\u0e0a\\u0e32\\u0e15\\u0e34\", \"\\u0e23\\u0e2a\\u0e0a\\u0e32\\u0e15\\u0e34\", \"\\u0e23\\u0e2a\\u0e0a\\u0e32\\u0e15\\u0e34\", \"\\u0e23\\u0e2a\\u0e0a\\u0e32\\u0e15\\u0e34\", \"\\u0e23\\u0e2a\\u0e0a\\u0e32\\u0e15\\u0e34\", \"\\u0e23\\u0e2a\\u0e0a\\u0e32\\u0e15\\u0e34\", \"\\u0e23\\u0e2a\\u0e0a\\u0e32\\u0e15\\u0e34\", \"\\u0e23\\u0e2a\\u0e18\\u0e23\\u0e23\\u0e21\\u0e0a\\u0e32\\u0e15\\u0e34\", \"\\u0e23\\u0e2a\\u0e18\\u0e23\\u0e23\\u0e21\\u0e0a\\u0e32\\u0e15\\u0e34\", \"\\u0e23\\u0e2a\\u0e18\\u0e23\\u0e23\\u0e21\\u0e0a\\u0e32\\u0e15\\u0e34\", \"\\u0e23\\u0e2a\\u0e18\\u0e23\\u0e23\\u0e21\\u0e0a\\u0e32\\u0e15\\u0e34\", \"\\u0e23\\u0e2a\\u0e18\\u0e23\\u0e23\\u0e21\\u0e0a\\u0e32\\u0e15\\u0e34\", \"\\u0e23\\u0e2a\\u0e18\\u0e23\\u0e23\\u0e21\\u0e0a\\u0e32\\u0e15\\u0e34\", \"\\u0e23\\u0e2a\\u0e18\\u0e23\\u0e23\\u0e21\\u0e0a\\u0e32\\u0e15\\u0e34\", \"\\u0e23\\u0e2a\\u0e18\\u0e23\\u0e23\\u0e21\\u0e0a\\u0e32\\u0e15\\u0e34\", \"\\u0e23\\u0e2a\\u0e18\\u0e23\\u0e23\\u0e21\\u0e0a\\u0e32\\u0e15\\u0e34\", \"\\u0e23\\u0e2d\", \"\\u0e23\\u0e2d\", \"\\u0e23\\u0e2d\", \"\\u0e23\\u0e2d\", \"\\u0e23\\u0e2d\", \"\\u0e23\\u0e2d\", \"\\u0e23\\u0e2d\", \"\\u0e23\\u0e2d\", \"\\u0e23\\u0e2d\", \"\\u0e23\\u0e2d.\", \"\\u0e23\\u0e2d\\u0e1a\\u0e15\\u0e31\\u0e27\", \"\\u0e23\\u0e31\\u0e01\", \"\\u0e23\\u0e31\\u0e01\", \"\\u0e23\\u0e31\\u0e01\", \"\\u0e23\\u0e31\\u0e01\", \"\\u0e23\\u0e31\\u0e01\", \"\\u0e23\\u0e31\\u0e01\", \"\\u0e23\\u0e31\\u0e01\", \"\\u0e23\\u0e31\\u0e01\", \"\\u0e23\\u0e31\\u0e01\", \"\\u0e23\\u0e31\\u0e07\\u0e41\\u0e01\", \"\\u0e23\\u0e31\\u0e1a\\u0e08\\u0e49\\u0e32\\u0e07\", \"\\u0e23\\u0e31\\u0e1a\\u0e1a\\u0e23\\u0e34\\u0e08\\u0e32\\u0e04\", \"\\u0e23\\u0e31\\u0e1a\\u0e1b\\u0e32\\u0e01\", \"\\u0e23\\u0e31\\u0e1a\\u0e2a\\u0e32\\u0e22\", \"\\u0e23\\u0e31\\u0e48\\u0e27\", \"\\u0e23\\u0e31\\u0e48\\u0e27\", \"\\u0e23\\u0e31\\u0e48\\u0e27\", \"\\u0e23\\u0e32\\u0e07\\u0e27\\u0e31\\u0e25\", \"\\u0e23\\u0e32\\u0e07\\u0e27\\u0e31\\u0e25\", \"\\u0e23\\u0e32\\u0e07\\u0e27\\u0e31\\u0e25\", \"\\u0e23\\u0e32\\u0e07\\u0e27\\u0e31\\u0e25\", \"\\u0e23\\u0e32\\u0e07\\u0e27\\u0e31\\u0e25\", \"\\u0e23\\u0e32\\u0e0a\\u0e1a\\u0e38\\u0e23\\u0e35\", \"\\u0e23\\u0e32\\u0e14\\u0e2b\\u0e19\\u0e49\\u0e32\", \"\\u0e23\\u0e34\\u0e27\", \"\\u0e23\\u0e34\\u0e27\", \"\\u0e23\\u0e34\\u0e27\", \"\\u0e23\\u0e34\\u0e27\", \"\\u0e23\\u0e35\\u0e27\\u0e34\\u0e27\", \"\\u0e23\\u0e35\\u0e27\\u0e34\\u0e27\", \"\\u0e23\\u0e35\\u0e27\\u0e34\\u0e27\", \"\\u0e23\\u0e35\\u0e27\\u0e34\\u0e27\", \"\\u0e23\\u0e35\\u0e27\\u0e34\\u0e27\", \"\\u0e23\\u0e35\\u0e27\\u0e34\\u0e27\", \"\\u0e23\\u0e35\\u0e27\\u0e34\\u0e27\", \"\\u0e23\\u0e35\\u0e27\\u0e34\\u0e27\", \"\\u0e23\\u0e35\\u0e27\\u0e34\\u0e27\", \"\\u0e23\\u0e35\\u0e49\", \"\\u0e23\\u0e35\\u0e49\", \"\\u0e23\\u0e35\\u0e49\", \"\\u0e23\\u0e38\", \"\\u0e23\\u0e38\", \"\\u0e23\\u0e39\\u0e1b\", \"\\u0e23\\u0e39\\u0e1b\", \"\\u0e23\\u0e39\\u0e1b\", \"\\u0e23\\u0e39\\u0e1b\", \"\\u0e23\\u0e39\\u0e1b\", \"\\u0e23\\u0e39\\u0e1b\", \"\\u0e23\\u0e39\\u0e1b\", \"\\u0e23\\u0e39\\u0e1b\", \"\\u0e23\\u0e39\\u0e1b\", \"\\u0e23\\u0e39\\u0e49\", \"\\u0e23\\u0e39\\u0e49\", \"\\u0e23\\u0e39\\u0e49\", \"\\u0e23\\u0e39\\u0e49\", \"\\u0e23\\u0e39\\u0e49\", \"\\u0e23\\u0e39\\u0e49\", \"\\u0e23\\u0e39\\u0e49\", \"\\u0e23\\u0e39\\u0e49\", \"\\u0e23\\u0e39\\u0e49\", \"\\u0e23\\u0e39\\u0e49\\u0e2a\\u0e36\\u0e01\", \"\\u0e23\\u0e39\\u0e49\\u0e2a\\u0e36\\u0e01\", \"\\u0e23\\u0e39\\u0e49\\u0e2a\\u0e36\\u0e01\", \"\\u0e23\\u0e39\\u0e49\\u0e2a\\u0e36\\u0e01\", \"\\u0e23\\u0e39\\u0e49\\u0e2a\\u0e36\\u0e01\", \"\\u0e23\\u0e39\\u0e49\\u0e2a\\u0e36\\u0e01\", \"\\u0e23\\u0e39\\u0e49\\u0e2a\\u0e36\\u0e01\", \"\\u0e23\\u0e39\\u0e49\\u0e2a\\u0e36\\u0e01\", \"\\u0e23\\u0e39\\u0e49\\u0e2a\\u0e36\\u0e01\", \"\\u0e23\\u0e48\\u0e2d\\u0e19\\u0e40\\u0e23\\u0e48\", \"\\u0e23\\u0e49\\u0e32\\u0e19\", \"\\u0e23\\u0e49\\u0e32\\u0e19\", \"\\u0e23\\u0e49\\u0e32\\u0e19\", \"\\u0e23\\u0e49\\u0e32\\u0e19\", \"\\u0e23\\u0e49\\u0e32\\u0e19\", \"\\u0e23\\u0e49\\u0e32\\u0e19\", \"\\u0e23\\u0e49\\u0e32\\u0e19\", \"\\u0e23\\u0e49\\u0e32\\u0e19\", \"\\u0e23\\u0e49\\u0e32\\u0e19\", \"\\u0e23\\u0e4c\\u0e17\", \"\\u0e25\\u0e07\\u0e21\\u0e37\\u0e2d\\u0e17\\u0e33\", \"\\u0e25\\u0e07\\u0e21\\u0e37\\u0e2d\\u0e17\\u0e33\", \"\\u0e25\\u0e14\", \"\\u0e25\\u0e14\", \"\\u0e25\\u0e14\", \"\\u0e25\\u0e14\", \"\\u0e25\\u0e14\", \"\\u0e25\\u0e14\", \"\\u0e25\\u0e14\", \"\\u0e25\\u0e14\", \"\\u0e25\\u0e14\", \"\\u0e25\\u0e21\\u0e2b\\u0e32\\u0e22\\u0e43\\u0e08\", \"\\u0e25\\u0e21\\u0e2b\\u0e32\\u0e22\\u0e43\\u0e08\", \"\\u0e25\\u0e22\\u0e4c\", \"\\u0e25\\u0e2d\\u0e07\", \"\\u0e25\\u0e2d\\u0e07\", \"\\u0e25\\u0e2d\\u0e07\", \"\\u0e25\\u0e2d\\u0e07\", \"\\u0e25\\u0e2d\\u0e07\", \"\\u0e25\\u0e2d\\u0e07\", \"\\u0e25\\u0e2d\\u0e07\", \"\\u0e25\\u0e2d\\u0e07\", \"\\u0e25\\u0e2d\\u0e07\", \"\\u0e25\\u0e2d\\u0e07\\u0e14\\u0e35\", \"\\u0e25\\u0e32\\u0e07\", \"\\u0e25\\u0e32\\u0e1a\", \"\\u0e25\\u0e34\", \"\\u0e25\\u0e34\", \"\\u0e25\\u0e34\", \"\\u0e25\\u0e34\", \"\\u0e25\\u0e34\", \"\\u0e25\\u0e34\", \"\\u0e25\\u0e34\", \"\\u0e25\\u0e34\", \"\\u0e25\\u0e34\\u0e02\\u0e2a\\u0e34\\u0e17\\u0e18\\u0e34\\u0e4c\", \"\\u0e25\\u0e34\\u0e48\\u0e19\", \"\\u0e25\\u0e37\\u0e21\\u0e40\\u0e25\\u0e37\\u0e2d\\u0e19\", \"\\u0e25\\u0e39\\u0e01\", \"\\u0e25\\u0e39\\u0e01\", \"\\u0e25\\u0e39\\u0e01\", \"\\u0e25\\u0e39\\u0e01\", \"\\u0e25\\u0e39\\u0e01\", \"\\u0e25\\u0e39\\u0e01\", \"\\u0e25\\u0e39\\u0e01\", \"\\u0e25\\u0e39\\u0e01\", \"\\u0e25\\u0e39\\u0e01\", \"\\u0e25\\u0e39\\u0e01\\u0e04\\u0e49\\u0e32\", \"\\u0e25\\u0e39\\u0e01\\u0e04\\u0e49\\u0e32\", \"\\u0e25\\u0e39\\u0e01\\u0e04\\u0e49\\u0e32\", \"\\u0e25\\u0e39\\u0e01\\u0e04\\u0e49\\u0e32\", \"\\u0e25\\u0e39\\u0e01\\u0e04\\u0e49\\u0e32\", \"\\u0e25\\u0e39\\u0e01\\u0e04\\u0e49\\u0e32\", \"\\u0e25\\u0e39\\u0e01\\u0e04\\u0e49\\u0e32\", \"\\u0e25\\u0e39\\u0e01\\u0e04\\u0e49\\u0e32\", \"\\u0e25\\u0e39\\u0e01\\u0e04\\u0e49\\u0e32\", \"\\u0e25\\u0e39\\u0e01\\u0e0a\\u0e32\\u0e22\", \"\\u0e25\\u0e39\\u0e01\\u0e0a\\u0e32\\u0e22\", \"\\u0e25\\u0e39\\u0e01\\u0e0a\\u0e32\\u0e22\", \"\\u0e25\\u0e39\\u0e01\\u0e0a\\u0e32\\u0e22\", \"\\u0e25\\u0e39\\u0e01\\u0e0a\\u0e32\\u0e22\", \"\\u0e25\\u0e39\\u0e01\\u0e1c\\u0e21\", \"\\u0e25\\u0e39\\u0e01\\u0e2a\\u0e32\\u0e27\", \"\\u0e25\\u0e39\\u0e01\\u0e2a\\u0e32\\u0e27\", \"\\u0e25\\u0e39\\u0e01\\u0e2a\\u0e32\\u0e27\", \"\\u0e25\\u0e39\\u0e01\\u0e2a\\u0e32\\u0e27\", \"\\u0e25\\u0e39\\u0e01\\u0e2a\\u0e32\\u0e27\", \"\\u0e25\\u0e39\\u0e1b\", \"\\u0e25\\u0e47\\u0e2d\\u0e01\\u0e2d\\u0e34\\u0e19\", \"\\u0e25\\u0e48\\u0e30\", \"\\u0e25\\u0e48\\u0e30\", \"\\u0e25\\u0e48\\u0e30\", \"\\u0e25\\u0e48\\u0e30\", \"\\u0e25\\u0e48\\u0e30\", \"\\u0e25\\u0e48\\u0e30\", \"\\u0e25\\u0e48\\u0e30\", \"\\u0e25\\u0e48\\u0e30\", \"\\u0e25\\u0e48\\u0e30\", \"\\u0e25\\u0e49\\u0e2d\\u0e40\\u0e25\\u0e48\\u0e19\", \"\\u0e25\\u0e4a\\u0e2d\\u0e15\", \"\\u0e27\\u0e01\", \"\\u0e27\\u0e2a\", \"\\u0e27\\u0e31\\u0e15\\u0e16\\u0e38\", \"\\u0e27\\u0e31\\u0e15\\u0e16\\u0e38\", \"\\u0e27\\u0e31\\u0e15\\u0e16\\u0e38\", \"\\u0e27\\u0e31\\u0e27\", \"\\u0e27\\u0e31\\u0e27\", \"\\u0e27\\u0e31\\u0e27\", \"\\u0e27\\u0e31\\u0e27\", \"\\u0e27\\u0e31\\u0e27\", \"\\u0e27\\u0e31\\u0e27\", \"\\u0e27\\u0e31\\u0e27\", \"\\u0e27\\u0e31\\u0e27\", \"\\u0e27\\u0e31\\u0e27\", \"\\u0e27\\u0e31\\u0e27\\u0e19\\u0e21\", \"\\u0e27\\u0e32\\u0e08\\u0e32\", \"\\u0e27\\u0e32\\u0e21\", \"\\u0e27\\u0e32\\u0e23\\u0e34\\u0e0a\", \"\\u0e27\\u0e32\\u0e23\\u0e34\\u0e0a\", \"\\u0e27\\u0e34\\u0e15\\u0e32\\u0e21\\u0e34\\u0e19\", \"\\u0e27\\u0e34\\u0e15\\u0e32\\u0e21\\u0e34\\u0e19\", \"\\u0e27\\u0e34\\u0e15\\u0e32\\u0e21\\u0e34\\u0e19\", \"\\u0e27\\u0e34\\u0e15\\u0e32\\u0e21\\u0e34\\u0e19\", \"\\u0e27\\u0e34\\u0e15\\u0e32\\u0e21\\u0e34\\u0e19\", \"\\u0e27\\u0e34\\u0e15\\u0e32\\u0e21\\u0e34\\u0e19\", \"\\u0e27\\u0e34\\u0e15\\u0e32\\u0e21\\u0e34\\u0e19\", \"\\u0e27\\u0e34\\u0e15\\u0e32\\u0e21\\u0e34\\u0e19\", \"\\u0e27\\u0e34\\u0e15\\u0e32\\u0e21\\u0e34\\u0e19\", \"\\u0e27\\u0e34\\u0e48\\u0e07\\u0e40\\u0e25\\u0e48\\u0e19\", \"\\u0e27\\u0e35\\u0e04\", \"\\u0e27\\u0e38\\u0e48\\u0e19\", \"\\u0e27\\u0e4c\", \"\\u0e2a\\u0e14\", \"\\u0e2a\\u0e14\", \"\\u0e2a\\u0e14\", \"\\u0e2a\\u0e14\", \"\\u0e2a\\u0e14\", \"\\u0e2a\\u0e14\", \"\\u0e2a\\u0e14\", \"\\u0e2a\\u0e14\", \"\\u0e2a\\u0e14\", \"\\u0e2a\\u0e17\\u0e4c\", \"\\u0e2a\\u0e21\\u0e19\\u0e49\\u0e33\\u0e2b\\u0e19\\u0e49\\u0e32\", \"\\u0e2a\\u0e21\\u0e1a\\u0e39\\u0e23\\u0e13\\u0e4c\\u0e41\\u0e1a\\u0e1a\", \"\\u0e2a\\u0e23\\u0e23\", \"\\u0e2a\\u0e23\\u0e23\\u0e2b\\u0e32\", \"\\u0e2a\\u0e23\\u0e38\\u0e1b\", \"\\u0e2a\\u0e23\\u0e38\\u0e1b\", \"\\u0e2a\\u0e23\\u0e38\\u0e1b\", \"\\u0e2a\\u0e23\\u0e38\\u0e1b\", \"\\u0e2a\\u0e23\\u0e38\\u0e1b\", \"\\u0e2a\\u0e23\\u0e38\\u0e1b\", \"\\u0e2a\\u0e23\\u0e38\\u0e1b\", \"\\u0e2a\\u0e23\\u0e38\\u0e1b\", \"\\u0e2a\\u0e23\\u0e38\\u0e1b\", \"\\u0e2a\\u0e23\\u0e49\\u0e32\\u0e07\", \"\\u0e2a\\u0e23\\u0e49\\u0e32\\u0e07\", \"\\u0e2a\\u0e23\\u0e49\\u0e32\\u0e07\", \"\\u0e2a\\u0e23\\u0e49\\u0e32\\u0e07\", \"\\u0e2a\\u0e23\\u0e49\\u0e32\\u0e07\", \"\\u0e2a\\u0e23\\u0e49\\u0e32\\u0e07\", \"\\u0e2a\\u0e23\\u0e49\\u0e32\\u0e07\", \"\\u0e2a\\u0e23\\u0e49\\u0e32\\u0e07\", \"\\u0e2a\\u0e23\\u0e49\\u0e32\\u0e07\", \"\\u0e2a\\u0e27\\u0e22\", \"\\u0e2a\\u0e27\\u0e22\", \"\\u0e2a\\u0e27\\u0e22\", \"\\u0e2a\\u0e27\\u0e22\", \"\\u0e2a\\u0e27\\u0e22\", \"\\u0e2a\\u0e27\\u0e22\", \"\\u0e2a\\u0e27\\u0e22\", \"\\u0e2a\\u0e27\\u0e22\", \"\\u0e2a\\u0e27\\u0e22\", \"\\u0e2a\\u0e27\\u0e48\\u0e32\\u0e07\", \"\\u0e2a\\u0e2b\\u0e01\\u0e23\\u0e13\\u0e4c\", \"\\u0e2a\\u0e2d\\u0e07\", \"\\u0e2a\\u0e2d\\u0e07\", \"\\u0e2a\\u0e2d\\u0e07\", \"\\u0e2a\\u0e2d\\u0e07\", \"\\u0e2a\\u0e2d\\u0e07\", \"\\u0e2a\\u0e2d\\u0e07\", \"\\u0e2a\\u0e2d\\u0e07\", \"\\u0e2a\\u0e2d\\u0e07\", \"\\u0e2a\\u0e2d\\u0e07\", \"\\u0e2a\\u0e31\\u0e07\\u0e40\\u0e01\\u0e15\\u0e40\\u0e2b\\u0e47\\u0e19\", \"\\u0e2a\\u0e31\\u0e21\\u0e1e\\u0e31\\u0e19\\u0e18\\u0e4c\", \"\\u0e2a\\u0e31\\u0e21\\u0e1e\\u0e31\\u0e19\\u0e18\\u0e4c\", \"\\u0e2a\\u0e31\\u0e21\\u0e1e\\u0e31\\u0e19\\u0e18\\u0e4c\", \"\\u0e2a\\u0e32\\u0e01\", \"\\u0e2a\\u0e32\\u0e23\\u0e2d\\u0e32\\u0e2b\\u0e32\\u0e23\", \"\\u0e2a\\u0e32\\u0e23\\u0e2d\\u0e32\\u0e2b\\u0e32\\u0e23\", \"\\u0e2a\\u0e32\\u0e23\\u0e2d\\u0e32\\u0e2b\\u0e32\\u0e23\", \"\\u0e2a\\u0e32\\u0e23\\u0e2d\\u0e32\\u0e2b\\u0e32\\u0e23\", \"\\u0e2a\\u0e32\\u0e23\\u0e2d\\u0e32\\u0e2b\\u0e32\\u0e23\", \"\\u0e2a\\u0e32\\u0e23\\u0e2d\\u0e32\\u0e2b\\u0e32\\u0e23\", \"\\u0e2a\\u0e32\\u0e23\\u0e2d\\u0e32\\u0e2b\\u0e32\\u0e23\", \"\\u0e2a\\u0e32\\u0e23\\u0e2d\\u0e32\\u0e2b\\u0e32\\u0e23\", \"\\u0e2a\\u0e32\\u0e23\\u0e2d\\u0e32\\u0e2b\\u0e32\\u0e23\", \"\\u0e2a\\u0e32\\u0e23\\u0e30\", \"\\u0e2a\\u0e32\\u0e23\\u0e30\", \"\\u0e2a\\u0e32\\u0e23\\u0e30\", \"\\u0e2a\\u0e32\\u0e23\\u0e30\", \"\\u0e2a\\u0e32\\u0e23\\u0e30\", \"\\u0e2a\\u0e33\\u0e19\\u0e31\\u0e01\\u0e07\\u0e32\\u0e19\", \"\\u0e2a\\u0e33\\u0e2b\\u0e23\\u0e31\\u0e1a\", \"\\u0e2a\\u0e33\\u0e2b\\u0e23\\u0e31\\u0e1a\", \"\\u0e2a\\u0e33\\u0e2b\\u0e23\\u0e31\\u0e1a\", \"\\u0e2a\\u0e33\\u0e2b\\u0e23\\u0e31\\u0e1a\", \"\\u0e2a\\u0e33\\u0e2b\\u0e23\\u0e31\\u0e1a\", \"\\u0e2a\\u0e33\\u0e2b\\u0e23\\u0e31\\u0e1a\", \"\\u0e2a\\u0e33\\u0e2b\\u0e23\\u0e31\\u0e1a\", \"\\u0e2a\\u0e33\\u0e2b\\u0e23\\u0e31\\u0e1a\", \"\\u0e2a\\u0e33\\u0e2b\\u0e23\\u0e31\\u0e1a\", \"\\u0e2a\\u0e34\", \"\\u0e2a\\u0e34\", \"\\u0e2a\\u0e34\", \"\\u0e2a\\u0e34\", \"\\u0e2a\\u0e34\", \"\\u0e2a\\u0e34\", \"\\u0e2a\\u0e34\", \"\\u0e2a\\u0e34\", \"\\u0e2a\\u0e34\", \"\\u0e2a\\u0e34\\u0e19\\u0e04\\u0e49\\u0e32\", \"\\u0e2a\\u0e34\\u0e19\\u0e04\\u0e49\\u0e32\", \"\\u0e2a\\u0e34\\u0e19\\u0e04\\u0e49\\u0e32\", \"\\u0e2a\\u0e34\\u0e19\\u0e04\\u0e49\\u0e32\", \"\\u0e2a\\u0e34\\u0e19\\u0e04\\u0e49\\u0e32\", \"\\u0e2a\\u0e34\\u0e19\\u0e04\\u0e49\\u0e32\", \"\\u0e2a\\u0e34\\u0e19\\u0e04\\u0e49\\u0e32\", \"\\u0e2a\\u0e34\\u0e19\\u0e04\\u0e49\\u0e32\", \"\\u0e2a\\u0e34\\u0e19\\u0e04\\u0e49\\u0e32\", \"\\u0e2a\\u0e34\\u0e49\\u0e19\\u0e40\\u0e14\\u0e37\\u0e2d\\u0e19\", \"\\u0e2a\\u0e35\", \"\\u0e2a\\u0e35\", \"\\u0e2a\\u0e35\", \"\\u0e2a\\u0e35\", \"\\u0e2a\\u0e35\", \"\\u0e2a\\u0e35\", \"\\u0e2a\\u0e35\", \"\\u0e2a\\u0e35\", \"\\u0e2a\\u0e35\", \"\\u0e2a\\u0e35\\u0e19\\u0e49\\u0e33\\u0e40\\u0e07\\u0e34\\u0e19\", \"\\u0e2a\\u0e35\\u0e19\\u0e49\\u0e33\\u0e40\\u0e07\\u0e34\\u0e19\", \"\\u0e2a\\u0e35\\u0e19\\u0e49\\u0e33\\u0e40\\u0e07\\u0e34\\u0e19\", \"\\u0e2a\\u0e35\\u0e19\\u0e49\\u0e33\\u0e40\\u0e07\\u0e34\\u0e19\", \"\\u0e2a\\u0e35\\u0e19\\u0e49\\u0e33\\u0e40\\u0e07\\u0e34\\u0e19\", \"\\u0e2a\\u0e35\\u0e19\\u0e49\\u0e33\\u0e40\\u0e07\\u0e34\\u0e19\", \"\\u0e2a\\u0e35\\u0e19\\u0e49\\u0e33\\u0e40\\u0e07\\u0e34\\u0e19\", \"\\u0e2a\\u0e35\\u0e19\\u0e49\\u0e33\\u0e40\\u0e07\\u0e34\\u0e19\", \"\\u0e2a\\u0e38\\u0e19\\u0e31\\u0e02\", \"\\u0e2a\\u0e41\\u0e15\\u0e21\\u0e1b\\u0e4c\", \"\\u0e2a\\u0e41\\u0e15\\u0e21\\u0e1b\\u0e4c\", \"\\u0e2a\\u0e41\\u0e15\\u0e21\\u0e1b\\u0e4c\", \"\\u0e2a\\u0e44\\u0e1b\\u0e23\\u0e17\\u0e4c\", \"\\u0e2a\\u0e48\\u0e27\\u0e19\\u0e25\\u0e14\", \"\\u0e2a\\u0e48\\u0e27\\u0e19\\u0e25\\u0e14\", \"\\u0e2a\\u0e48\\u0e27\\u0e19\\u0e25\\u0e14\", \"\\u0e2a\\u0e48\\u0e27\\u0e19\\u0e25\\u0e14\", \"\\u0e2a\\u0e48\\u0e27\\u0e19\\u0e25\\u0e14\", \"\\u0e2a\\u0e48\\u0e27\\u0e19\\u0e25\\u0e14\", \"\\u0e2a\\u0e48\\u0e27\\u0e19\\u0e25\\u0e14\", \"\\u0e2a\\u0e48\\u0e27\\u0e19\\u0e25\\u0e14\", \"\\u0e2a\\u0e48\\u0e27\\u0e19\\u0e25\\u0e14\", \"\\u0e2b\\u0e07\\u0e32\\u0e22\", \"\\u0e2b\\u0e19\\u0e2d\\u0e07\\u0e42\\u0e1e\", \"\\u0e2b\\u0e19\\u0e2d\\u0e07\\u0e42\\u0e1e\", \"\\u0e2b\\u0e19\\u0e2d\\u0e07\\u0e42\\u0e1e\", \"\\u0e2b\\u0e19\\u0e2d\\u0e07\\u0e42\\u0e1e\", \"\\u0e2b\\u0e19\\u0e2d\\u0e07\\u0e42\\u0e1e\", \"\\u0e2b\\u0e19\\u0e2d\\u0e07\\u0e42\\u0e1e\", \"\\u0e2b\\u0e19\\u0e2d\\u0e07\\u0e42\\u0e1e\", \"\\u0e2b\\u0e19\\u0e2d\\u0e07\\u0e42\\u0e1e\", \"\\u0e2b\\u0e19\\u0e2d\\u0e07\\u0e42\\u0e1e\", \"\\u0e2b\\u0e19\\u0e31\\u0e07\", \"\\u0e2b\\u0e19\\u0e31\\u0e07\", \"\\u0e2b\\u0e19\\u0e31\\u0e07\", \"\\u0e2b\\u0e19\\u0e31\\u0e07\", \"\\u0e2b\\u0e19\\u0e31\\u0e07\", \"\\u0e2b\\u0e19\\u0e31\\u0e07\", \"\\u0e2b\\u0e19\\u0e31\\u0e07\", \"\\u0e2b\\u0e19\\u0e31\\u0e07\", \"\\u0e2b\\u0e19\\u0e31\\u0e07\\u0e2a\\u0e37\\u0e2d\\u0e1e\\u0e34\\u0e21\\u0e1e\\u0e4c\", \"\\u0e2b\\u0e19\\u0e31\\u0e07\\u0e2a\\u0e37\\u0e2d\\u0e1e\\u0e34\\u0e21\\u0e1e\\u0e4c\", \"\\u0e2b\\u0e19\\u0e36\\u0e1a\", \"\\u0e2b\\u0e19\\u0e36\\u0e1a\", \"\\u0e2b\\u0e19\\u0e36\\u0e1a\", \"\\u0e2b\\u0e19\\u0e49\\u0e32\", \"\\u0e2b\\u0e19\\u0e49\\u0e32\", \"\\u0e2b\\u0e19\\u0e49\\u0e32\", \"\\u0e2b\\u0e19\\u0e49\\u0e32\", \"\\u0e2b\\u0e19\\u0e49\\u0e32\", \"\\u0e2b\\u0e19\\u0e49\\u0e32\", \"\\u0e2b\\u0e19\\u0e49\\u0e32\", \"\\u0e2b\\u0e19\\u0e49\\u0e32\", \"\\u0e2b\\u0e19\\u0e49\\u0e32\", \"\\u0e2b\\u0e21\\u0e32\\u0e22\\u0e40\\u0e25\\u0e02\", \"\\u0e2b\\u0e21\\u0e32\\u0e22\\u0e40\\u0e25\\u0e02\", \"\\u0e2b\\u0e21\\u0e32\\u0e22\\u0e40\\u0e25\\u0e02\", \"\\u0e2b\\u0e21\\u0e32\\u0e22\\u0e40\\u0e25\\u0e02\", \"\\u0e2b\\u0e21\\u0e32\\u0e22\\u0e40\\u0e25\\u0e02\", \"\\u0e2b\\u0e21\\u0e32\\u0e22\\u0e40\\u0e25\\u0e02\", \"\\u0e2b\\u0e21\\u0e32\\u0e22\\u0e40\\u0e25\\u0e02\", \"\\u0e2b\\u0e21\\u0e35\", \"\\u0e2b\\u0e21\\u0e35\", \"\\u0e2b\\u0e21\\u0e35\", \"\\u0e2b\\u0e21\\u0e35\", \"\\u0e2b\\u0e21\\u0e35\", \"\\u0e2b\\u0e21\\u0e35\", \"\\u0e2b\\u0e21\\u0e35\", \"\\u0e2b\\u0e21\\u0e35\", \"\\u0e2b\\u0e21\\u0e35\", \"\\u0e2b\\u0e21\\u0e38\\u0e14\", \"\\u0e2b\\u0e21\\u0e39\\u0e41\\u0e14\\u0e07\", \"\\u0e2b\\u0e21\\u0e39\\u0e41\\u0e14\\u0e07\", \"\\u0e2b\\u0e25\\u0e31\\u0e01\\u0e01\\u0e32\\u0e23\", \"\\u0e2b\\u0e25\\u0e31\\u0e01\\u0e01\\u0e32\\u0e23\", \"\\u0e2b\\u0e25\\u0e31\\u0e01\\u0e01\\u0e32\\u0e23\", \"\\u0e2b\\u0e25\\u0e31\\u0e07\\u0e1a\\u0e49\\u0e32\\u0e19\", \"\\u0e2b\\u0e25\\u0e48\\u0e19\", \"\\u0e2b\\u0e25\\u0e48\\u0e2d\", \"\\u0e2b\\u0e25\\u0e48\\u0e2d\", \"\\u0e2b\\u0e25\\u0e48\\u0e2d\", \"\\u0e2b\\u0e25\\u0e48\\u0e2d\", \"\\u0e2b\\u0e25\\u0e48\\u0e2d\", \"\\u0e2b\\u0e25\\u0e48\\u0e2d\", \"\\u0e2b\\u0e25\\u0e48\\u0e2d\", \"\\u0e2b\\u0e25\\u0e48\\u0e2d\", \"\\u0e2b\\u0e25\\u0e48\\u0e2d\\u0e19\", \"\\u0e2b\\u0e27\\u0e30\", \"\\u0e2b\\u0e27\\u0e32\\u0e19\", \"\\u0e2b\\u0e27\\u0e32\\u0e19\", \"\\u0e2b\\u0e27\\u0e32\\u0e19\", \"\\u0e2b\\u0e27\\u0e32\\u0e19\", \"\\u0e2b\\u0e27\\u0e32\\u0e19\", \"\\u0e2b\\u0e27\\u0e32\\u0e19\", \"\\u0e2b\\u0e27\\u0e32\\u0e19\", \"\\u0e2b\\u0e27\\u0e32\\u0e19\", \"\\u0e2b\\u0e27\\u0e32\\u0e19\", \"\\u0e2b\\u0e31\\u0e01\\u0e21\\u0e38\\u0e21\", \"\\u0e2b\\u0e31\\u0e27\\u0e40\\u0e0a\\u0e37\\u0e49\\u0e2d\", \"\\u0e2b\\u0e31\\u0e27\\u0e40\\u0e0a\\u0e37\\u0e49\\u0e2d\", \"\\u0e2b\\u0e31\\u0e27\\u0e40\\u0e0a\\u0e37\\u0e49\\u0e2d\", \"\\u0e2b\\u0e31\\u0e27\\u0e40\\u0e0a\\u0e37\\u0e49\\u0e2d\", \"\\u0e2b\\u0e31\\u0e27\\u0e40\\u0e0a\\u0e37\\u0e49\\u0e2d\", \"\\u0e2b\\u0e31\\u0e27\\u0e40\\u0e0a\\u0e37\\u0e49\\u0e2d\", \"\\u0e2b\\u0e31\\u0e27\\u0e40\\u0e0a\\u0e37\\u0e49\\u0e2d\", \"\\u0e2b\\u0e32\", \"\\u0e2b\\u0e32\", \"\\u0e2b\\u0e32\", \"\\u0e2b\\u0e32\", \"\\u0e2b\\u0e32\", \"\\u0e2b\\u0e32\", \"\\u0e2b\\u0e32\", \"\\u0e2b\\u0e32\", \"\\u0e2b\\u0e32\", \"\\u0e2b\\u0e32\\u0e07\\u0e08\\u0e23\\u0e30\\u0e40\\u0e02\\u0e49\", \"\\u0e2b\\u0e32\\u0e07\\u0e19\\u0e21\", \"\\u0e2b\\u0e32\\u0e22\\u0e19\\u0e30\", \"\\u0e2b\\u0e32\\u0e40\\u0e07\\u0e34\\u0e19\", \"\\u0e2b\\u0e32\\u0e40\\u0e07\\u0e34\\u0e19\", \"\\u0e2b\\u0e38\\u0e2b\\u0e38\", \"\\u0e2b\\u0e38\\u0e2b\\u0e38\", \"\\u0e2b\\u0e4a\\u0e2d\\u0e21\", \"\\u0e2d\\u0e19\\u0e38\\u0e21\\u0e39\\u0e25\", \"\\u0e2d\\u0e19\\u0e38\\u0e21\\u0e39\\u0e25\", \"\\u0e2d\\u0e1a\\u0e40\\u0e0a\\u0e22\", \"\\u0e2d\\u0e22\\u0e48\\u0e32\", \"\\u0e2d\\u0e22\\u0e48\\u0e32\", \"\\u0e2d\\u0e22\\u0e48\\u0e32\", \"\\u0e2d\\u0e22\\u0e48\\u0e32\", \"\\u0e2d\\u0e22\\u0e48\\u0e32\", \"\\u0e2d\\u0e22\\u0e48\\u0e32\", \"\\u0e2d\\u0e22\\u0e48\\u0e32\", \"\\u0e2d\\u0e22\\u0e48\\u0e32\", \"\\u0e2d\\u0e22\\u0e48\\u0e32\", \"\\u0e2d\\u0e22\\u0e48\\u0e32\\u0e07\\u0e44\\u0e23\\u0e1a\\u0e49\\u0e32\\u0e07\", \"\\u0e2d\\u0e22\\u0e48\\u0e32\\u0e07\\u0e44\\u0e23\\u0e1a\\u0e49\\u0e32\\u0e07\", \"\\u0e2d\\u0e23\\u0e48\\u0e2d\\u0e22\", \"\\u0e2d\\u0e23\\u0e48\\u0e2d\\u0e22\", \"\\u0e2d\\u0e23\\u0e48\\u0e2d\\u0e22\", \"\\u0e2d\\u0e23\\u0e48\\u0e2d\\u0e22\", \"\\u0e2d\\u0e23\\u0e48\\u0e2d\\u0e22\", \"\\u0e2d\\u0e23\\u0e48\\u0e2d\\u0e22\", \"\\u0e2d\\u0e23\\u0e48\\u0e2d\\u0e22\", \"\\u0e2d\\u0e23\\u0e48\\u0e2d\\u0e22\", \"\\u0e2d\\u0e23\\u0e48\\u0e2d\\u0e22\", \"\\u0e2d\\u0e27\\u0e22\\u0e1e\\u0e23\", \"\\u0e2d\\u0e27\\u0e22\\u0e1e\\u0e23\", \"\\u0e2d\\u0e2d\", \"\\u0e2d\\u0e2d\", \"\\u0e2d\\u0e2d\", \"\\u0e2d\\u0e2d\", \"\\u0e2d\\u0e2d\", \"\\u0e2d\\u0e2d\", \"\\u0e2d\\u0e2d\", \"\\u0e2d\\u0e2d\", \"\\u0e2d\\u0e2d\", \"\\u0e2d\\u0e2d\\u0e01\\u0e21\\u0e32\", \"\\u0e2d\\u0e2d\\u0e01\\u0e21\\u0e32\", \"\\u0e2d\\u0e2d\\u0e01\\u0e21\\u0e32\", \"\\u0e2d\\u0e2d\\u0e01\\u0e21\\u0e32\", \"\\u0e2d\\u0e2d\\u0e01\\u0e21\\u0e32\", \"\\u0e2d\\u0e2d\\u0e01\\u0e21\\u0e32\", \"\\u0e2d\\u0e2d\\u0e01\\u0e21\\u0e32\", \"\\u0e2d\\u0e2d\\u0e01\\u0e21\\u0e32\", \"\\u0e2d\\u0e2d\\u0e01\\u0e21\\u0e32\", \"\\u0e2d\\u0e2d\\u0e23\\u0e4c\\u0e41\\u0e01\\u0e19\\u0e34\\u0e01\", \"\\u0e2d\\u0e30\", \"\\u0e2d\\u0e30\", \"\\u0e2d\\u0e30\", \"\\u0e2d\\u0e30\", \"\\u0e2d\\u0e30\", \"\\u0e2d\\u0e30\", \"\\u0e2d\\u0e30\", \"\\u0e2d\\u0e30\", \"\\u0e2d\\u0e30\", \"\\u0e2d\\u0e32\\u0e17\\u0e34\\u0e15\\u0e22\\u0e4c\", \"\\u0e2d\\u0e32\\u0e17\\u0e34\\u0e15\\u0e22\\u0e4c\", \"\\u0e2d\\u0e32\\u0e17\\u0e34\\u0e15\\u0e22\\u0e4c\", \"\\u0e2d\\u0e32\\u0e17\\u0e34\\u0e15\\u0e22\\u0e4c\", \"\\u0e2d\\u0e32\\u0e17\\u0e34\\u0e15\\u0e22\\u0e4c\", \"\\u0e2d\\u0e32\\u0e17\\u0e34\\u0e15\\u0e22\\u0e4c\", \"\\u0e2d\\u0e32\\u0e17\\u0e34\\u0e15\\u0e22\\u0e4c\", \"\\u0e2d\\u0e32\\u0e17\\u0e34\\u0e15\\u0e22\\u0e4c\", \"\\u0e2d\\u0e32\\u0e17\\u0e34\\u0e15\\u0e22\\u0e4c\", \"\\u0e2d\\u0e32\\u0e2b\\u0e32\\u0e23\", \"\\u0e2d\\u0e32\\u0e2b\\u0e32\\u0e23\", \"\\u0e2d\\u0e32\\u0e2b\\u0e32\\u0e23\", \"\\u0e2d\\u0e32\\u0e2b\\u0e32\\u0e23\", \"\\u0e2d\\u0e32\\u0e2b\\u0e32\\u0e23\", \"\\u0e2d\\u0e32\\u0e2b\\u0e32\\u0e23\", \"\\u0e2d\\u0e32\\u0e2b\\u0e32\\u0e23\", \"\\u0e2d\\u0e32\\u0e2b\\u0e32\\u0e23\", \"\\u0e2d\\u0e32\\u0e2b\\u0e32\\u0e23\", \"\\u0e2d\\u0e34\\u0e19\\u0e17\\u0e23\\u0e35\", \"\\u0e2d\\u0e34\\u0e19\\u0e17\\u0e23\\u0e35\", \"\\u0e2d\\u0e36\", \"\\u0e2d\\u0e36\", \"\\u0e2d\\u0e36\", \"\\u0e2d\\u0e36\", \"\\u0e2d\\u0e36\", \"\\u0e2d\\u0e36\", \"\\u0e2d\\u0e37\\u0e21\\u0e21\\u0e4c\", \"\\u0e2d\\u0e37\\u0e2d\", \"\\u0e2d\\u0e38\\u0e08\\u0e08\\u0e32\\u0e23\\u0e30\", \"\\u0e2d\\u0e38\\u0e49\\u0e21\", \"\\u0e2d\\u0e38\\u0e49\\u0e21\", \"\\u0e2d\\u0e39\\u0e22\", \"\\u0e2d\\u0e48\\u0e22\", \"\\u0e2d\\u0e48\\u0e2d\\u0e19\\u0e41\\u0e2d\", \"\\u0e2d\\u0e48\\u0e2d\\u0e19\\u0e41\\u0e2d\", \"\\u0e2d\\u0e48\\u0e2d\\u0e19\\u0e41\\u0e2d\", \"\\u0e2d\\u0e48\\u0e30\", \"\\u0e2d\\u0e48\\u0e30\", \"\\u0e2d\\u0e48\\u0e30\", \"\\u0e2d\\u0e48\\u0e30\", \"\\u0e2d\\u0e48\\u0e30\", \"\\u0e2d\\u0e48\\u0e30\", \"\\u0e2d\\u0e48\\u0e30\", \"\\u0e2d\\u0e48\\u0e30\", \"\\u0e2d\\u0e48\\u0e30\", \"\\u0e2d\\u0e48\\u0e32\\u0e19\", \"\\u0e2d\\u0e48\\u0e32\\u0e19\", \"\\u0e2d\\u0e48\\u0e32\\u0e19\", \"\\u0e2d\\u0e48\\u0e32\\u0e19\", \"\\u0e2d\\u0e48\\u0e32\\u0e19\", \"\\u0e2d\\u0e48\\u0e32\\u0e19\", \"\\u0e2d\\u0e48\\u0e32\\u0e19\", \"\\u0e2d\\u0e48\\u0e32\\u0e19\", \"\\u0e2d\\u0e48\\u0e32\\u0e19\", \"\\u0e2d\\u0e4a\\u0e32\", \"\\u0e2e\\u0e2d\\u0e25\", \"\\u0e2e\\u0e30\", \"\\u0e2e\\u0e30\", \"\\u0e2e\\u0e30\", \"\\u0e2e\\u0e30\", \"\\u0e2e\\u0e30\", \"\\u0e2e\\u0e30\", \"\\u0e2e\\u0e30\", \"\\u0e2e\\u0e30\", \"\\u0e2e\\u0e30\", \"\\u0e2e\\u0e31\\u0e17\", \"\\u0e2e\\u0e48\\u0e32\", \"\\u0e2e\\u0e48\\u0e32\", \"\\u0e2e\\u0e48\\u0e32\", \"\\u0e2e\\u0e48\\u0e32\", \"\\u0e2e\\u0e48\\u0e32\", \"\\u0e2e\\u0e48\\u0e32\", \"\\u0e2e\\u0e48\\u0e32\", \"\\u0e2e\\u0e48\\u0e32\", \"\\u0e2e\\u0e48\\u0e32\", \"\\u0e30\", \"\\u0e30\", \"\\u0e30\", \"\\u0e30\", \"\\u0e30\", \"\\u0e30\", \"\\u0e32\", \"\\u0e32\", \"\\u0e32\", \"\\u0e32\", \"\\u0e32\", \"\\u0e32\", \"\\u0e32\", \"\\u0e32\", \"\\u0e32\", \"\\u0e40\\u0e01\\u0e21\", \"\\u0e40\\u0e01\\u0e21\", \"\\u0e40\\u0e01\\u0e25\\u0e37\\u0e2d\", \"\\u0e40\\u0e01\\u0e25\\u0e37\\u0e2d\", \"\\u0e40\\u0e01\\u0e25\\u0e37\\u0e2d\", \"\\u0e40\\u0e01\\u0e25\\u0e37\\u0e2d\", \"\\u0e40\\u0e01\\u0e25\\u0e37\\u0e2d\", \"\\u0e40\\u0e01\\u0e25\\u0e37\\u0e2d\", \"\\u0e40\\u0e01\\u0e25\\u0e37\\u0e2d\", \"\\u0e40\\u0e01\\u0e25\\u0e37\\u0e2d\", \"\\u0e40\\u0e01\\u0e25\\u0e37\\u0e2d\", \"\\u0e40\\u0e02\\u0e35\\u0e22\\u0e27\", \"\\u0e40\\u0e02\\u0e35\\u0e22\\u0e27\", \"\\u0e40\\u0e02\\u0e35\\u0e22\\u0e27\", \"\\u0e40\\u0e02\\u0e35\\u0e22\\u0e27\", \"\\u0e40\\u0e02\\u0e35\\u0e22\\u0e27\", \"\\u0e40\\u0e02\\u0e35\\u0e22\\u0e27\", \"\\u0e40\\u0e02\\u0e35\\u0e22\\u0e27\", \"\\u0e40\\u0e02\\u0e35\\u0e22\\u0e27\", \"\\u0e40\\u0e02\\u0e35\\u0e22\\u0e27\", \"\\u0e40\\u0e02\\u0e49\\u0e32\\u0e15\\u0e39\\u0e49\", \"\\u0e40\\u0e02\\u0e49\\u0e32\\u0e15\\u0e39\\u0e49\", \"\\u0e40\\u0e02\\u0e49\\u0e32\\u0e15\\u0e39\\u0e49\", \"\\u0e40\\u0e02\\u0e49\\u0e32\\u0e23\\u0e48\\u0e27\\u0e21\", \"\\u0e40\\u0e02\\u0e49\\u0e32\\u0e2d\\u0e2d\\u0e01\", \"\\u0e40\\u0e02\\u0e49\\u0e32\\u0e43\\u0e2b\\u0e49\", \"\\u0e40\\u0e04\\u0e32\", \"\\u0e40\\u0e04\\u0e32\", \"\\u0e40\\u0e04\\u0e32\", \"\\u0e40\\u0e04\\u0e32\\u0e19\\u0e4c\\u0e40\\u0e15\\u0e2d\\u0e23\\u0e4c\", \"\\u0e40\\u0e04\\u0e35\\u0e22\\u0e07\", \"\\u0e40\\u0e04\\u0e35\\u0e48\\u0e22\\u0e27\", \"\\u0e40\\u0e04\\u0e35\\u0e48\\u0e22\\u0e27\", \"\\u0e40\\u0e04\\u0e35\\u0e48\\u0e22\\u0e27\", \"\\u0e40\\u0e04\\u0e35\\u0e48\\u0e22\\u0e27\", \"\\u0e40\\u0e04\\u0e49\\u0e01\", \"\\u0e40\\u0e04\\u0e49\\u0e01\", \"\\u0e40\\u0e04\\u0e49\\u0e01\", \"\\u0e40\\u0e04\\u0e49\\u0e01\", \"\\u0e40\\u0e04\\u0e49\\u0e01\", \"\\u0e40\\u0e04\\u0e49\\u0e01\", \"\\u0e40\\u0e04\\u0e49\\u0e01\", \"\\u0e40\\u0e04\\u0e49\\u0e01\", \"\\u0e40\\u0e04\\u0e49\\u0e01\", \"\\u0e40\\u0e04\\u0e49\\u0e32\", \"\\u0e40\\u0e04\\u0e49\\u0e32\", \"\\u0e40\\u0e04\\u0e49\\u0e32\", \"\\u0e40\\u0e04\\u0e49\\u0e32\", \"\\u0e40\\u0e04\\u0e49\\u0e32\", \"\\u0e40\\u0e04\\u0e49\\u0e32\", \"\\u0e40\\u0e04\\u0e49\\u0e32\", \"\\u0e40\\u0e04\\u0e49\\u0e32\", \"\\u0e40\\u0e04\\u0e49\\u0e32\", \"\\u0e40\\u0e08\\u0e21\\u0e2a\\u0e4c\\u0e08\\u0e34\", \"\\u0e40\\u0e08\\u0e21\\u0e2a\\u0e4c\\u0e08\\u0e34\", \"\\u0e40\\u0e08\\u0e21\\u0e2a\\u0e4c\\u0e08\\u0e34\", \"\\u0e40\\u0e08\\u0e21\\u0e2a\\u0e4c\\u0e08\\u0e34\", \"\\u0e40\\u0e08\\u0e21\\u0e2a\\u0e4c\\u0e08\\u0e34\", \"\\u0e40\\u0e08\\u0e25\\u0e25\\u0e35\\u0e48\", \"\\u0e40\\u0e08\\u0e2d\", \"\\u0e40\\u0e08\\u0e2d\", \"\\u0e40\\u0e08\\u0e2d\", \"\\u0e40\\u0e08\\u0e2d\", \"\\u0e40\\u0e08\\u0e2d\", \"\\u0e40\\u0e08\\u0e2d\", \"\\u0e40\\u0e08\\u0e2d\", \"\\u0e40\\u0e08\\u0e2d\", \"\\u0e40\\u0e08\\u0e2d\", \"\\u0e40\\u0e08\\u0e47\\u0e14\", \"\\u0e40\\u0e08\\u0e47\\u0e14\", \"\\u0e40\\u0e08\\u0e47\\u0e14\", \"\\u0e40\\u0e08\\u0e47\\u0e14\", \"\\u0e40\\u0e08\\u0e47\\u0e14\", \"\\u0e40\\u0e08\\u0e47\\u0e14\", \"\\u0e40\\u0e08\\u0e47\\u0e14\", \"\\u0e40\\u0e08\\u0e47\\u0e14\", \"\\u0e40\\u0e08\\u0e47\\u0e14\", \"\\u0e40\\u0e08\\u0e49\\u0e07\", \"\\u0e40\\u0e0a\\u0e2a\\u0e40\\u0e15\\u0e2d\\u0e23\\u0e4c\", \"\\u0e40\\u0e0a\\u0e2d\\u0e23\\u0e35\\u0e48\", \"\\u0e40\\u0e0a\\u0e35\\u0e22\\u0e23\\u0e4c\", \"\\u0e40\\u0e0a\\u0e35\\u0e22\\u0e23\\u0e4c\", \"\\u0e40\\u0e0b\\u0e2d\\u0e23\\u0e4c\\u0e44\\u0e1e\\u0e23\\u0e4c\\u0e2a\", \"\\u0e40\\u0e0b\\u0e40\\u0e27\\u0e48\\u0e19\", \"\\u0e40\\u0e0b\\u0e40\\u0e27\\u0e48\\u0e19\", \"\\u0e40\\u0e0b\\u0e40\\u0e27\\u0e48\\u0e19\", \"\\u0e40\\u0e0b\\u0e40\\u0e27\\u0e48\\u0e19\", \"\\u0e40\\u0e0b\\u0e40\\u0e27\\u0e48\\u0e19\", \"\\u0e40\\u0e0b\\u0e40\\u0e27\\u0e48\\u0e19\", \"\\u0e40\\u0e0b\\u0e40\\u0e27\\u0e48\\u0e19\", \"\\u0e40\\u0e0b\\u0e40\\u0e27\\u0e48\\u0e19\", \"\\u0e40\\u0e0b\\u0e40\\u0e27\\u0e48\\u0e19\", \"\\u0e40\\u0e0b\\u0e47\\u0e19\\u0e17\\u0e23\\u0e31\\u0e25\", \"\\u0e40\\u0e0b\\u0e47\\u0e19\\u0e17\\u0e23\\u0e31\\u0e25\", \"\\u0e40\\u0e14\\u0e0a\", \"\\u0e40\\u0e14\\u0e0a\", \"\\u0e40\\u0e14\\u0e0a\", \"\\u0e40\\u0e14\\u0e0a\", \"\\u0e40\\u0e14\\u0e19\", \"\\u0e40\\u0e14\\u0e19\", \"\\u0e40\\u0e14\\u0e19\", \"\\u0e40\\u0e14\\u0e19\", \"\\u0e40\\u0e14\\u0e19\", \"\\u0e40\\u0e14\\u0e19\", \"\\u0e40\\u0e14\\u0e19\", \"\\u0e40\\u0e14\\u0e19\", \"\\u0e40\\u0e14\\u0e19\", \"\\u0e40\\u0e14\\u0e19\\u0e21\\u0e32\\u0e23\\u0e4c\\u0e01\", \"\\u0e40\\u0e14\\u0e19\\u0e21\\u0e32\\u0e23\\u0e4c\\u0e01\", \"\\u0e40\\u0e14\\u0e19\\u0e21\\u0e32\\u0e23\\u0e4c\\u0e01\", \"\\u0e40\\u0e14\\u0e19\\u0e21\\u0e32\\u0e23\\u0e4c\\u0e01\", \"\\u0e40\\u0e14\\u0e19\\u0e21\\u0e32\\u0e23\\u0e4c\\u0e01\", \"\\u0e40\\u0e14\\u0e19\\u0e21\\u0e32\\u0e23\\u0e4c\\u0e01\", \"\\u0e40\\u0e14\\u0e19\\u0e21\\u0e32\\u0e23\\u0e4c\\u0e01\", \"\\u0e40\\u0e14\\u0e34\\u0e19\", \"\\u0e40\\u0e14\\u0e34\\u0e19\", \"\\u0e40\\u0e14\\u0e34\\u0e19\", \"\\u0e40\\u0e14\\u0e34\\u0e19\", \"\\u0e40\\u0e14\\u0e34\\u0e19\", \"\\u0e40\\u0e14\\u0e34\\u0e19\", \"\\u0e40\\u0e14\\u0e34\\u0e19\", \"\\u0e40\\u0e14\\u0e34\\u0e19\", \"\\u0e40\\u0e14\\u0e34\\u0e19\", \"\\u0e40\\u0e14\\u0e35\\u0e4b\\u0e22\\u0e27\", \"\\u0e40\\u0e14\\u0e35\\u0e4b\\u0e22\\u0e27\", \"\\u0e40\\u0e14\\u0e35\\u0e4b\\u0e22\\u0e27\", \"\\u0e40\\u0e14\\u0e35\\u0e4b\\u0e22\\u0e27\", \"\\u0e40\\u0e14\\u0e35\\u0e4b\\u0e22\\u0e27\", \"\\u0e40\\u0e14\\u0e35\\u0e4b\\u0e22\\u0e27\", \"\\u0e40\\u0e14\\u0e35\\u0e4b\\u0e22\\u0e27\", \"\\u0e40\\u0e14\\u0e35\\u0e4b\\u0e22\\u0e27\", \"\\u0e40\\u0e14\\u0e35\\u0e4b\\u0e22\\u0e27\", \"\\u0e40\\u0e14\\u0e37\\u0e2d\\u0e14\", \"\\u0e40\\u0e14\\u0e37\\u0e2d\\u0e14\", \"\\u0e40\\u0e14\\u0e37\\u0e2d\\u0e14\", \"\\u0e40\\u0e14\\u0e37\\u0e2d\\u0e14\", \"\\u0e40\\u0e14\\u0e37\\u0e2d\\u0e14\", \"\\u0e40\\u0e14\\u0e37\\u0e2d\\u0e14\", \"\\u0e40\\u0e14\\u0e47\\u0e01\", \"\\u0e40\\u0e14\\u0e47\\u0e01\", \"\\u0e40\\u0e14\\u0e47\\u0e01\", \"\\u0e40\\u0e14\\u0e47\\u0e01\", \"\\u0e40\\u0e14\\u0e47\\u0e01\", \"\\u0e40\\u0e14\\u0e47\\u0e01\", \"\\u0e40\\u0e14\\u0e47\\u0e01\", \"\\u0e40\\u0e14\\u0e47\\u0e01\", \"\\u0e40\\u0e14\\u0e47\\u0e01\", \"\\u0e40\\u0e14\\u0e47\\u0e01\\u0e19\\u0e49\\u0e2d\\u0e22\", \"\\u0e40\\u0e14\\u0e47\\u0e01\\u0e1c\\u0e39\\u0e49\\u0e0a\\u0e32\\u0e22\", \"\\u0e40\\u0e14\\u0e47\\u0e14\", \"\\u0e40\\u0e14\\u0e47\\u0e14\", \"\\u0e40\\u0e14\\u0e47\\u0e14\", \"\\u0e40\\u0e14\\u0e47\\u0e14\", \"\\u0e40\\u0e14\\u0e47\\u0e14\", \"\\u0e40\\u0e14\\u0e47\\u0e14\", \"\\u0e40\\u0e14\\u0e47\\u0e14\", \"\\u0e40\\u0e14\\u0e47\\u0e14\", \"\\u0e40\\u0e14\\u0e47\\u0e14\", \"\\u0e40\\u0e15\\u0e32\\u0e2d\\u0e1a\", \"\\u0e40\\u0e15\\u0e32\\u0e2d\\u0e1a\", \"\\u0e40\\u0e15\\u0e32\\u0e2d\\u0e1a\", \"\\u0e40\\u0e15\\u0e32\\u0e2d\\u0e1a\", \"\\u0e40\\u0e15\\u0e49\\u0e32\\u0e2b\\u0e39\\u0e49\\u0e22\\u0e35\\u0e49\", \"\\u0e40\\u0e17\\u0e23\\u0e19\\u0e14\\u0e4c\", \"\\u0e40\\u0e17\\u0e23\\u0e19\\u0e14\\u0e4c\", \"\\u0e40\\u0e17\\u0e2a\\u0e42\\u0e01\\u0e49\", \"\\u0e40\\u0e17\\u0e48\", \"\\u0e40\\u0e19\", \"\\u0e40\\u0e19\\u0e22\", \"\\u0e40\\u0e19\\u0e22\", \"\\u0e40\\u0e19\\u0e22\", \"\\u0e40\\u0e19\\u0e22\", \"\\u0e40\\u0e19\\u0e22\", \"\\u0e40\\u0e19\\u0e22\", \"\\u0e40\\u0e19\\u0e22\", \"\\u0e40\\u0e19\\u0e22\", \"\\u0e40\\u0e19\\u0e22\", \"\\u0e40\\u0e19\\u0e2a\", \"\\u0e40\\u0e19\\u0e2a\", \"\\u0e40\\u0e19\\u0e2a\", \"\\u0e40\\u0e19\\u0e35\\u0e22\\u0e19\", \"\\u0e40\\u0e19\\u0e35\\u0e22\\u0e19\", \"\\u0e40\\u0e19\\u0e35\\u0e22\\u0e19\", \"\\u0e40\\u0e19\\u0e35\\u0e22\\u0e19\", \"\\u0e40\\u0e19\\u0e35\\u0e22\\u0e19\", \"\\u0e40\\u0e19\\u0e35\\u0e22\\u0e19\", \"\\u0e40\\u0e19\\u0e35\\u0e22\\u0e19\", \"\\u0e40\\u0e19\\u0e35\\u0e22\\u0e19\", \"\\u0e40\\u0e19\\u0e35\\u0e22\\u0e19\", \"\\u0e40\\u0e19\\u0e35\\u0e22\\u0e21\", \"\\u0e40\\u0e19\\u0e37\\u0e49\\u0e2d\", \"\\u0e40\\u0e19\\u0e37\\u0e49\\u0e2d\", \"\\u0e40\\u0e19\\u0e37\\u0e49\\u0e2d\", \"\\u0e40\\u0e19\\u0e37\\u0e49\\u0e2d\", \"\\u0e40\\u0e19\\u0e37\\u0e49\\u0e2d\", \"\\u0e40\\u0e19\\u0e37\\u0e49\\u0e2d\", \"\\u0e40\\u0e19\\u0e37\\u0e49\\u0e2d\", \"\\u0e40\\u0e19\\u0e37\\u0e49\\u0e2d\", \"\\u0e40\\u0e19\\u0e37\\u0e49\\u0e2d\", \"\\u0e40\\u0e19\\u0e47\\u0e17\", \"\\u0e40\\u0e19\\u0e4a\", \"\\u0e40\\u0e1a\\u0e22\\u0e22\\u0e22\", \"\\u0e40\\u0e1a\\u0e35\\u0e49\\u0e22\\u0e27\", \"\\u0e40\\u0e1b\\u0e25\\u0e35\\u0e48\\u0e22\\u0e19\\u0e43\\u0e08\", \"\\u0e40\\u0e1b\\u0e32\", \"\\u0e40\\u0e1b\\u0e32\", \"\\u0e40\\u0e1b\\u0e32\", \"\\u0e40\\u0e1b\\u0e32\", \"\\u0e40\\u0e1b\\u0e32\", \"\\u0e40\\u0e1b\\u0e32\", \"\\u0e40\\u0e1b\\u0e32\", \"\\u0e40\\u0e1b\\u0e47\\u0e19\\u0e04\\u0e27\\u0e32\\u0e21\", \"\\u0e40\\u0e1b\\u0e47\\u0e19\\u0e15\\u0e32\\u0e23\\u0e32\\u0e07\", \"\\u0e40\\u0e1b\\u0e47\\u0e19\\u0e23\\u0e30\\u0e40\\u0e1a\\u0e35\\u0e22\\u0e1a\", \"\\u0e40\\u0e1b\\u0e47\\u0e19\\u0e2a\\u0e21\\u0e32\\u0e0a\\u0e34\\u0e01\", \"\\u0e40\\u0e1c\\u0e37\\u0e2d\\u0e01\", \"\\u0e40\\u0e1c\\u0e37\\u0e2d\\u0e01\", \"\\u0e40\\u0e1c\\u0e37\\u0e2d\\u0e01\", \"\\u0e40\\u0e1c\\u0e37\\u0e2d\\u0e01\", \"\\u0e40\\u0e1c\\u0e37\\u0e2d\\u0e01\", \"\\u0e40\\u0e1c\\u0e37\\u0e2d\\u0e01\", \"\\u0e40\\u0e1c\\u0e37\\u0e2d\\u0e01\", \"\\u0e40\\u0e1c\\u0e37\\u0e2d\\u0e01\", \"\\u0e40\\u0e1e\\u0e25\\u0e2a\", \"\\u0e40\\u0e1e\\u0e37\\u0e48\\u0e2d\\u0e19\", \"\\u0e40\\u0e1e\\u0e37\\u0e48\\u0e2d\\u0e19\", \"\\u0e40\\u0e1e\\u0e37\\u0e48\\u0e2d\\u0e19\", \"\\u0e40\\u0e1e\\u0e37\\u0e48\\u0e2d\\u0e19\", \"\\u0e40\\u0e1e\\u0e37\\u0e48\\u0e2d\\u0e19\", \"\\u0e40\\u0e1e\\u0e37\\u0e48\\u0e2d\\u0e19\", \"\\u0e40\\u0e1e\\u0e37\\u0e48\\u0e2d\\u0e19\", \"\\u0e40\\u0e1e\\u0e37\\u0e48\\u0e2d\\u0e19\", \"\\u0e40\\u0e1e\\u0e37\\u0e48\\u0e2d\\u0e19\", \"\\u0e40\\u0e1e\\u0e37\\u0e48\\u0e2d\\u0e19 \\u0e46\", \"\\u0e40\\u0e1e\\u0e37\\u0e48\\u0e2d\\u0e19\\u0e1a\\u0e49\\u0e32\\u0e19\", \"\\u0e40\\u0e21\\u0e08\\u0e34\", \"\\u0e40\\u0e21\\u0e08\\u0e34\", \"\\u0e40\\u0e21\\u0e08\\u0e34\", \"\\u0e40\\u0e21\\u0e08\\u0e34\", \"\\u0e40\\u0e21\\u0e08\\u0e34\", \"\\u0e40\\u0e21\\u0e08\\u0e34\", \"\\u0e40\\u0e21\\u0e08\\u0e34\", \"\\u0e40\\u0e21\\u0e08\\u0e34\", \"\\u0e40\\u0e21\\u0e08\\u0e34\", \"\\u0e40\\u0e21\\u0e15\\u0e23\", \"\\u0e40\\u0e21\\u0e15\\u0e23\", \"\\u0e40\\u0e21\\u0e32\", \"\\u0e40\\u0e21\\u0e32\", \"\\u0e40\\u0e21\\u0e32\", \"\\u0e40\\u0e21\\u0e32\", \"\\u0e40\\u0e22\\u0e35\\u0e48\\u0e22\\u0e21\", \"\\u0e40\\u0e22\\u0e35\\u0e48\\u0e22\\u0e21\", \"\\u0e40\\u0e22\\u0e35\\u0e48\\u0e22\\u0e21\", \"\\u0e40\\u0e22\\u0e35\\u0e48\\u0e22\\u0e21\", \"\\u0e40\\u0e23\\u0e35\\u0e22\\u0e01\\u0e01\\u0e31\\u0e19\\u0e27\\u0e48\\u0e32\", \"\\u0e40\\u0e23\\u0e37\\u0e48\\u0e2d\\u0e07\", \"\\u0e40\\u0e23\\u0e37\\u0e48\\u0e2d\\u0e07\", \"\\u0e40\\u0e23\\u0e37\\u0e48\\u0e2d\\u0e07\", \"\\u0e40\\u0e23\\u0e37\\u0e48\\u0e2d\\u0e07\", \"\\u0e40\\u0e23\\u0e37\\u0e48\\u0e2d\\u0e07\", \"\\u0e40\\u0e23\\u0e37\\u0e48\\u0e2d\\u0e07\", \"\\u0e40\\u0e23\\u0e37\\u0e48\\u0e2d\\u0e07\", \"\\u0e40\\u0e23\\u0e37\\u0e48\\u0e2d\\u0e07\", \"\\u0e40\\u0e23\\u0e37\\u0e48\\u0e2d\\u0e07\", \"\\u0e40\\u0e25\\u0e21\\u0e2d\\u0e19\", \"\\u0e40\\u0e25\\u0e35\\u0e49\\u0e22\\u0e07\", \"\\u0e40\\u0e25\\u0e35\\u0e49\\u0e22\\u0e07\", \"\\u0e40\\u0e25\\u0e35\\u0e49\\u0e22\\u0e07\", \"\\u0e40\\u0e25\\u0e35\\u0e49\\u0e22\\u0e07\", \"\\u0e40\\u0e25\\u0e35\\u0e49\\u0e22\\u0e07\", \"\\u0e40\\u0e25\\u0e35\\u0e49\\u0e22\\u0e07\", \"\\u0e40\\u0e25\\u0e35\\u0e49\\u0e22\\u0e07\", \"\\u0e40\\u0e25\\u0e35\\u0e49\\u0e22\\u0e07\", \"\\u0e40\\u0e25\\u0e35\\u0e49\\u0e22\\u0e07\", \"\\u0e40\\u0e25\\u0e35\\u0e49\\u0e22\\u0e07\\u0e25\\u0e39\\u0e01\", \"\\u0e40\\u0e25\\u0e35\\u0e49\\u0e22\\u0e07\\u0e25\\u0e39\\u0e01\", \"\\u0e40\\u0e25\\u0e35\\u0e49\\u0e22\\u0e07\\u0e25\\u0e39\\u0e01\", \"\\u0e40\\u0e25\\u0e35\\u0e49\\u0e22\\u0e07\\u0e25\\u0e39\\u0e01\", \"\\u0e40\\u0e25\\u0e37\\u0e2d\\u0e01\", \"\\u0e40\\u0e25\\u0e37\\u0e2d\\u0e01\", \"\\u0e40\\u0e25\\u0e37\\u0e2d\\u0e01\", \"\\u0e40\\u0e25\\u0e37\\u0e2d\\u0e01\", \"\\u0e40\\u0e25\\u0e37\\u0e2d\\u0e01\", \"\\u0e40\\u0e25\\u0e37\\u0e2d\\u0e01\", \"\\u0e40\\u0e25\\u0e37\\u0e2d\\u0e01\", \"\\u0e40\\u0e25\\u0e37\\u0e2d\\u0e01\", \"\\u0e40\\u0e25\\u0e37\\u0e2d\\u0e01\", \"\\u0e40\\u0e25\\u0e37\\u0e2d\\u0e01\\u0e44\\u0e21\\u0e48\\u0e44\\u0e14\\u0e49\", \"\\u0e40\\u0e25\\u0e48\\u0e19\", \"\\u0e40\\u0e25\\u0e48\\u0e19\", \"\\u0e40\\u0e25\\u0e48\\u0e19\", \"\\u0e40\\u0e25\\u0e48\\u0e19\", \"\\u0e40\\u0e25\\u0e48\\u0e19\", \"\\u0e40\\u0e25\\u0e48\\u0e19\", \"\\u0e40\\u0e25\\u0e48\\u0e19\", \"\\u0e40\\u0e25\\u0e48\\u0e19\", \"\\u0e40\\u0e25\\u0e48\\u0e19\", \"\\u0e40\\u0e25\\u0e48\\u0e32\\u0e40\\u0e23\\u0e37\\u0e48\\u0e2d\\u0e07\", \"\\u0e40\\u0e27\\u0e19\\u0e40\\u0e14\\u0e2d\\u0e23\\u0e4c\", \"\\u0e40\\u0e27\\u0e25\\u0e32\", \"\\u0e40\\u0e27\\u0e25\\u0e32\", \"\\u0e40\\u0e27\\u0e25\\u0e32\", \"\\u0e40\\u0e27\\u0e25\\u0e32\", \"\\u0e40\\u0e27\\u0e25\\u0e32\", \"\\u0e40\\u0e27\\u0e25\\u0e32\", \"\\u0e40\\u0e27\\u0e25\\u0e32\", \"\\u0e40\\u0e27\\u0e25\\u0e32\", \"\\u0e40\\u0e27\\u0e25\\u0e32\", \"\\u0e40\\u0e2a\\u0e35\\u0e22\\u0e41\\u0e15\\u0e48\\u0e27\\u0e48\\u0e32\", \"\\u0e40\\u0e2a\\u0e37\\u0e49\\u0e2d\\u0e22\\u0e37\\u0e14\", \"\\u0e40\\u0e2b\\u0e21\\u0e37\\u0e2d\\u0e19\", \"\\u0e40\\u0e2b\\u0e21\\u0e37\\u0e2d\\u0e19\", \"\\u0e40\\u0e2b\\u0e21\\u0e37\\u0e2d\\u0e19\", \"\\u0e40\\u0e2b\\u0e21\\u0e37\\u0e2d\\u0e19\", \"\\u0e40\\u0e2b\\u0e21\\u0e37\\u0e2d\\u0e19\", \"\\u0e40\\u0e2b\\u0e21\\u0e37\\u0e2d\\u0e19\", \"\\u0e40\\u0e2b\\u0e21\\u0e37\\u0e2d\\u0e19\", \"\\u0e40\\u0e2b\\u0e21\\u0e37\\u0e2d\\u0e19\", \"\\u0e40\\u0e2b\\u0e21\\u0e37\\u0e2d\\u0e19\", \"\\u0e40\\u0e2b\\u0e21\\u0e37\\u0e2d\\u0e19\\u0e01\\u0e31\\u0e19\", \"\\u0e40\\u0e2b\\u0e21\\u0e37\\u0e2d\\u0e19\\u0e01\\u0e31\\u0e19\", \"\\u0e40\\u0e2b\\u0e21\\u0e37\\u0e2d\\u0e19\\u0e01\\u0e31\\u0e19\", \"\\u0e40\\u0e2b\\u0e21\\u0e37\\u0e2d\\u0e19\\u0e01\\u0e31\\u0e19\", \"\\u0e40\\u0e2b\\u0e21\\u0e37\\u0e2d\\u0e19\\u0e01\\u0e31\\u0e19\", \"\\u0e40\\u0e2b\\u0e21\\u0e37\\u0e2d\\u0e19\\u0e01\\u0e31\\u0e19\", \"\\u0e40\\u0e2b\\u0e21\\u0e37\\u0e2d\\u0e19\\u0e01\\u0e31\\u0e19\", \"\\u0e40\\u0e2b\\u0e21\\u0e37\\u0e2d\\u0e19\\u0e01\\u0e31\\u0e19\", \"\\u0e40\\u0e2b\\u0e21\\u0e37\\u0e2d\\u0e19\\u0e01\\u0e31\\u0e19\", \"\\u0e40\\u0e2b\\u0e21\\u0e47\\u0e19\\u0e04\\u0e32\\u0e27\", \"\\u0e40\\u0e2b\\u0e25\\u0e35\\u0e22\\u0e07\", \"\\u0e40\\u0e2b\\u0e25\\u0e37\\u0e2d\\u0e2d\\u0e22\\u0e39\\u0e48\", \"\\u0e40\\u0e2b\\u0e25\\u0e49\\u0e32\", \"\\u0e40\\u0e2b\\u0e25\\u0e49\\u0e32\", \"\\u0e40\\u0e2b\\u0e25\\u0e49\\u0e32\", \"\\u0e40\\u0e2b\\u0e25\\u0e49\\u0e32\", \"\\u0e40\\u0e2b\\u0e25\\u0e49\\u0e32\", \"\\u0e40\\u0e2b\\u0e25\\u0e49\\u0e32\", \"\\u0e40\\u0e2b\\u0e25\\u0e49\\u0e32\", \"\\u0e40\\u0e2b\\u0e48\\u0e2d\", \"\\u0e40\\u0e2b\\u0e48\\u0e2d\", \"\\u0e40\\u0e2b\\u0e48\\u0e2d\", \"\\u0e40\\u0e2d\\u0e21\", \"\\u0e40\\u0e2d\\u0e21\", \"\\u0e40\\u0e2d\\u0e47\\u0e01\\u0e0b\\u0e4c\", \"\\u0e40\\u0e2d\\u0e48\", \"\\u0e41\\u0e01\\u0e25\\u0e49\\u0e21\", \"\\u0e41\\u0e01\\u0e49\\u0e04\\u0e33\\u0e1c\\u0e34\\u0e14\", \"\\u0e41\\u0e01\\u0e49\\u0e27\", \"\\u0e41\\u0e01\\u0e49\\u0e27\", \"\\u0e41\\u0e01\\u0e49\\u0e27\", \"\\u0e41\\u0e01\\u0e49\\u0e27\", \"\\u0e41\\u0e01\\u0e49\\u0e27\", \"\\u0e41\\u0e01\\u0e49\\u0e27\", \"\\u0e41\\u0e01\\u0e49\\u0e27\", \"\\u0e41\\u0e01\\u0e49\\u0e27\", \"\\u0e41\\u0e01\\u0e49\\u0e27\", \"\\u0e41\\u0e04\\u0e25\\u0e40\\u0e0b\\u0e35\\u0e22\\u0e21\", \"\\u0e41\\u0e04\\u0e25\\u0e40\\u0e0b\\u0e35\\u0e22\\u0e21\", \"\\u0e41\\u0e04\\u0e25\\u0e40\\u0e0b\\u0e35\\u0e22\\u0e21\", \"\\u0e41\\u0e04\\u0e25\\u0e40\\u0e0b\\u0e35\\u0e22\\u0e21\", \"\\u0e41\\u0e04\\u0e25\\u0e40\\u0e0b\\u0e35\\u0e22\\u0e21\", \"\\u0e41\\u0e04\\u0e25\\u0e40\\u0e0b\\u0e35\\u0e22\\u0e21\", \"\\u0e41\\u0e04\\u0e25\\u0e40\\u0e0b\\u0e35\\u0e22\\u0e21\", \"\\u0e41\\u0e04\\u0e25\\u0e40\\u0e0b\\u0e35\\u0e22\\u0e21\", \"\\u0e41\\u0e08\\u0e4a\\u0e2a\", \"\\u0e41\\u0e14\\u0e23\\u0e35\\u0e48\\u0e42\\u0e2e\\u0e21\", \"\\u0e41\\u0e14\\u0e23\\u0e35\\u0e48\\u0e42\\u0e2e\\u0e21\", \"\\u0e41\\u0e14\\u0e23\\u0e35\\u0e48\\u0e42\\u0e2e\\u0e21\", \"\\u0e41\\u0e14\\u0e23\\u0e35\\u0e48\\u0e42\\u0e2e\\u0e21\", \"\\u0e41\\u0e14\\u0e23\\u0e35\\u0e48\\u0e42\\u0e2e\\u0e21\", \"\\u0e41\\u0e14\\u0e23\\u0e35\\u0e48\\u0e42\\u0e2e\\u0e21\", \"\\u0e41\\u0e15\\u0e19\", \"\\u0e41\\u0e16\\u0e21\", \"\\u0e41\\u0e16\\u0e21\", \"\\u0e41\\u0e16\\u0e21\", \"\\u0e41\\u0e16\\u0e21\", \"\\u0e41\\u0e16\\u0e21\", \"\\u0e41\\u0e16\\u0e21\", \"\\u0e41\\u0e16\\u0e21\", \"\\u0e41\\u0e16\\u0e21\", \"\\u0e41\\u0e16\\u0e21\", \"\\u0e41\\u0e17\\u0e19\", \"\\u0e41\\u0e17\\u0e19\", \"\\u0e41\\u0e17\\u0e19\", \"\\u0e41\\u0e17\\u0e19\", \"\\u0e41\\u0e17\\u0e19\", \"\\u0e41\\u0e17\\u0e19\", \"\\u0e41\\u0e17\\u0e19\", \"\\u0e41\\u0e17\\u0e19\", \"\\u0e41\\u0e17\\u0e19\", \"\\u0e41\\u0e17\\u0e23\\u0e01\\u0e15\\u0e31\\u0e27\", \"\\u0e41\\u0e1a\\u0e1a\\u0e19\\u0e35\\u0e49\", \"\\u0e41\\u0e1a\\u0e1a\\u0e19\\u0e35\\u0e49\", \"\\u0e41\\u0e1a\\u0e1a\\u0e19\\u0e35\\u0e49\", \"\\u0e41\\u0e1a\\u0e1a\\u0e19\\u0e35\\u0e49\", \"\\u0e41\\u0e1a\\u0e1a\\u0e19\\u0e35\\u0e49\", \"\\u0e41\\u0e1a\\u0e1a\\u0e19\\u0e35\\u0e49\", \"\\u0e41\\u0e1a\\u0e1a\\u0e19\\u0e35\\u0e49\", \"\\u0e41\\u0e1a\\u0e1a\\u0e19\\u0e35\\u0e49\", \"\\u0e41\\u0e1a\\u0e1a\\u0e19\\u0e35\\u0e49\", \"\\u0e41\\u0e1b\\u0e49\\u0e07\", \"\\u0e41\\u0e1b\\u0e49\\u0e07\", \"\\u0e41\\u0e1b\\u0e49\\u0e07\", \"\\u0e41\\u0e1b\\u0e49\\u0e07\", \"\\u0e41\\u0e1b\\u0e49\\u0e07\", \"\\u0e41\\u0e1b\\u0e49\\u0e07\", \"\\u0e41\\u0e1b\\u0e49\\u0e07\", \"\\u0e41\\u0e1b\\u0e49\\u0e07\", \"\\u0e41\\u0e1b\\u0e49\\u0e07\", \"\\u0e41\\u0e1c\\u0e25\", \"\\u0e41\\u0e1e\\u0e17\", \"\\u0e41\\u0e1e\\u0e23\\u0e48\", \"\\u0e41\\u0e1e\\u0e47\\u0e04\", \"\\u0e41\\u0e1e\\u0e47\\u0e04\", \"\\u0e41\\u0e1e\\u0e47\\u0e04\", \"\\u0e41\\u0e1e\\u0e47\\u0e04\", \"\\u0e41\\u0e1e\\u0e47\\u0e04\", \"\\u0e41\\u0e1e\\u0e47\\u0e04\", \"\\u0e41\\u0e1e\\u0e47\\u0e04\", \"\\u0e41\\u0e1e\\u0e47\\u0e04\", \"\\u0e41\\u0e1e\\u0e47\\u0e04\", \"\\u0e41\\u0e1f\\u0e19\\u0e04\\u0e25\\u0e31\\u0e1a\", \"\\u0e41\\u0e1f\\u0e19\\u0e04\\u0e25\\u0e31\\u0e1a\", \"\\u0e41\\u0e1f\\u0e19\\u0e04\\u0e25\\u0e31\\u0e1a\", \"\\u0e41\\u0e1f\\u0e19\\u0e04\\u0e25\\u0e31\\u0e1a\", \"\\u0e41\\u0e1f\\u0e19\\u0e04\\u0e25\\u0e31\\u0e1a\", \"\\u0e41\\u0e1f\\u0e19\\u0e04\\u0e25\\u0e31\\u0e1a\", \"\\u0e41\\u0e21\\u0e27\", \"\\u0e41\\u0e21\\u0e27\", \"\\u0e41\\u0e21\\u0e27\", \"\\u0e41\\u0e21\\u0e27\", \"\\u0e41\\u0e21\\u0e27\", \"\\u0e41\\u0e21\\u0e27\", \"\\u0e41\\u0e21\\u0e48\", \"\\u0e41\\u0e21\\u0e48\", \"\\u0e41\\u0e21\\u0e48\", \"\\u0e41\\u0e21\\u0e48\", \"\\u0e41\\u0e21\\u0e48\", \"\\u0e41\\u0e21\\u0e48\", \"\\u0e41\\u0e21\\u0e48\", \"\\u0e41\\u0e21\\u0e48\", \"\\u0e41\\u0e21\\u0e48\", \"\\u0e41\\u0e21\\u0e48\\u0e0b\\u0e37\\u0e49\\u0e2d\", \"\\u0e41\\u0e21\\u0e48\\u0e0b\\u0e37\\u0e49\\u0e2d\", \"\\u0e41\\u0e21\\u0e4a\\u0e01\", \"\\u0e41\\u0e21\\u0e4a\\u0e04\", \"\\u0e41\\u0e23\\u0e01\\u0e40\\u0e01\\u0e34\\u0e14\", \"\\u0e41\\u0e23\\u0e01\\u0e40\\u0e01\\u0e34\\u0e14\", \"\\u0e41\\u0e23\\u0e01\\u0e40\\u0e01\\u0e34\\u0e14\", \"\\u0e41\\u0e25\\u0e01\", \"\\u0e41\\u0e25\\u0e01\", \"\\u0e41\\u0e25\\u0e01\", \"\\u0e41\\u0e25\\u0e01\", \"\\u0e41\\u0e25\\u0e01\", \"\\u0e41\\u0e25\\u0e01\", \"\\u0e41\\u0e25\\u0e01\", \"\\u0e41\\u0e25\\u0e01\", \"\\u0e41\\u0e25\\u0e01\", \"\\u0e41\\u0e25\\u0e01\\u0e42\\u0e15\\u0e2a\", \"\\u0e41\\u0e25\\u0e04\\u0e42\\u0e15\\u0e2a\", \"\\u0e41\\u0e25\\u0e04\\u0e42\\u0e15\\u0e2a\", \"\\u0e41\\u0e25\\u0e04\\u0e42\\u0e15\\u0e2a\", \"\\u0e41\\u0e25\\u0e04\\u0e42\\u0e15\\u0e2a\", \"\\u0e41\\u0e25\\u0e04\\u0e42\\u0e15\\u0e2a\", \"\\u0e41\\u0e25\\u0e04\\u0e42\\u0e15\\u0e2a\", \"\\u0e41\\u0e25\\u0e04\\u0e42\\u0e15\\u0e2a\", \"\\u0e41\\u0e25\\u0e47\\u0e15\", \"\\u0e41\\u0e2a\\u0e15\\u0e21\\u0e1b\\u0e4c\", \"\\u0e41\\u0e2a\\u0e15\\u0e21\\u0e1b\\u0e4c\", \"\\u0e41\\u0e2a\\u0e15\\u0e21\\u0e1b\\u0e4c\", \"\\u0e41\\u0e2a\\u0e15\\u0e21\\u0e1b\\u0e4c\", \"\\u0e41\\u0e2a\\u0e15\\u0e21\\u0e1b\\u0e4c\", \"\\u0e41\\u0e2b\\u0e07\", \"\\u0e41\\u0e2b\\u0e25\\u0e01\", \"\\u0e41\\u0e2b\\u0e25\\u0e01\", \"\\u0e41\\u0e2b\\u0e25\\u0e01\", \"\\u0e41\\u0e2b\\u0e25\\u0e01\", \"\\u0e41\\u0e2b\\u0e25\\u0e01\", \"\\u0e41\\u0e2b\\u0e25\\u0e01\", \"\\u0e41\\u0e2b\\u0e25\\u0e01\", \"\\u0e41\\u0e2b\\u0e25\\u0e01\", \"\\u0e41\\u0e2b\\u0e25\\u0e01\", \"\\u0e41\\u0e2d\\u0e1a\\u0e14\\u0e39\", \"\\u0e41\\u0e2d\\u0e4a\\u0e1b\\u0e40\\u0e1b\\u0e34\\u0e49\\u0e25\", \"\\u0e41\\u0e2d\\u0e4a\\u0e1b\\u0e40\\u0e1b\\u0e34\\u0e49\\u0e25\", \"\\u0e42\\u0e01\\u0e4a\\u0e30\", \"\\u0e42\\u0e01\\u0e4a\\u0e30\", \"\\u0e42\\u0e04\", \"\\u0e42\\u0e04\", \"\\u0e42\\u0e04\", \"\\u0e42\\u0e04\", \"\\u0e42\\u0e04\", \"\\u0e42\\u0e04\", \"\\u0e42\\u0e04\", \"\\u0e42\\u0e04\", \"\\u0e42\\u0e04\", \"\\u0e42\\u0e04\\u0e49\\u0e01\", \"\\u0e42\\u0e04\\u0e49\\u0e01\", \"\\u0e42\\u0e04\\u0e49\\u0e01\", \"\\u0e42\\u0e04\\u0e49\\u0e01\", \"\\u0e42\\u0e04\\u0e49\\u0e01\", \"\\u0e42\\u0e04\\u0e49\\u0e01\", \"\\u0e42\\u0e04\\u0e49\\u0e01\", \"\\u0e42\\u0e04\\u0e49\\u0e01\", \"\\u0e42\\u0e04\\u0e49\\u0e01\", \"\\u0e42\\u0e04\\u0e49\\u0e14\", \"\\u0e42\\u0e04\\u0e49\\u0e14\", \"\\u0e42\\u0e06\\u0e29\\u0e13\\u0e32\", \"\\u0e42\\u0e06\\u0e29\\u0e13\\u0e32\", \"\\u0e42\\u0e06\\u0e29\\u0e13\\u0e32\", \"\\u0e42\\u0e06\\u0e29\\u0e13\\u0e32\", \"\\u0e42\\u0e06\\u0e29\\u0e13\\u0e32\", \"\\u0e42\\u0e06\\u0e29\\u0e13\\u0e32\", \"\\u0e42\\u0e06\\u0e29\\u0e13\\u0e32\", \"\\u0e42\\u0e06\\u0e29\\u0e13\\u0e32\", \"\\u0e42\\u0e06\\u0e29\\u0e13\\u0e32\", \"\\u0e42\\u0e0a\\u0e04\\u0e0a\\u0e31\\u0e22\", \"\\u0e42\\u0e0a\\u0e04\\u0e0a\\u0e31\\u0e22\", \"\\u0e42\\u0e0a\\u0e04\\u0e0a\\u0e31\\u0e22\", \"\\u0e42\\u0e0a\\u0e04\\u0e0a\\u0e31\\u0e22\", \"\\u0e42\\u0e0a\\u0e04\\u0e0a\\u0e31\\u0e22\", \"\\u0e42\\u0e0a\\u0e04\\u0e0a\\u0e31\\u0e22\", \"\\u0e42\\u0e0a\\u0e04\\u0e0a\\u0e31\\u0e22\", \"\\u0e42\\u0e0a\\u0e04\\u0e0a\\u0e31\\u0e22\", \"\\u0e42\\u0e15\\u0e49\", \"\\u0e42\\u0e17\\u0e23\\u0e28\\u0e31\\u0e1e\\u0e17\\u0e4c\\u0e21\\u0e37\\u0e2d\\u0e16\\u0e37\\u0e2d\", \"\\u0e42\\u0e1b\\u0e23\\u0e14\", \"\\u0e42\\u0e1b\\u0e23\\u0e14\", \"\\u0e42\\u0e1b\\u0e23\\u0e14\", \"\\u0e42\\u0e1b\\u0e23\\u0e14\", \"\\u0e42\\u0e1b\\u0e23\\u0e14\", \"\\u0e42\\u0e1b\\u0e23\\u0e15\\u0e35\\u0e19\", \"\\u0e42\\u0e1b\\u0e23\\u0e15\\u0e35\\u0e19\", \"\\u0e42\\u0e1b\\u0e23\\u0e15\\u0e35\\u0e19\", \"\\u0e42\\u0e1b\\u0e23\\u0e15\\u0e35\\u0e19\", \"\\u0e42\\u0e1b\\u0e23\\u0e15\\u0e35\\u0e19\", \"\\u0e42\\u0e1b\\u0e23\\u0e15\\u0e35\\u0e19\", \"\\u0e42\\u0e1b\\u0e23\\u0e15\\u0e35\\u0e19\", \"\\u0e42\\u0e1b\\u0e23\\u0e15\\u0e35\\u0e19\", \"\\u0e42\\u0e1b\\u0e23\\u0e15\\u0e35\\u0e19\", \"\\u0e42\\u0e1c\\u0e25\\u0e48\", \"\\u0e42\\u0e1c\\u0e25\\u0e48\", \"\\u0e42\\u0e1f\\u0e23\\u0e4c\\u0e42\\u0e21\\u0e2a\\u0e15\\u0e4c\", \"\\u0e42\\u0e1f\\u0e23\\u0e4c\\u0e42\\u0e21\\u0e2a\\u0e15\\u0e4c\", \"\\u0e42\\u0e1f\\u0e23\\u0e4c\\u0e42\\u0e21\\u0e2a\\u0e15\\u0e4c\", \"\\u0e42\\u0e1f\\u0e23\\u0e4c\\u0e42\\u0e21\\u0e2a\\u0e15\\u0e4c\", \"\\u0e42\\u0e1f\\u0e23\\u0e4c\\u0e42\\u0e21\\u0e2a\\u0e15\\u0e4c\", \"\\u0e42\\u0e1f\\u0e23\\u0e4c\\u0e42\\u0e21\\u0e2a\\u0e15\\u0e4c\", \"\\u0e42\\u0e1f\\u0e23\\u0e4c\\u0e42\\u0e21\\u0e2a\\u0e15\\u0e4c\", \"\\u0e42\\u0e1f\\u0e23\\u0e4c\\u0e42\\u0e21\\u0e2a\\u0e15\\u0e4c\", \"\\u0e42\\u0e1f\\u0e23\\u0e4c\\u0e42\\u0e21\\u0e2a\\u0e15\\u0e4c\", \"\\u0e42\\u0e20\\u0e0a\\u0e19\\u0e32\\u0e01\\u0e32\\u0e23\", \"\\u0e42\\u0e20\\u0e0a\\u0e19\\u0e32\\u0e01\\u0e32\\u0e23\", \"\\u0e42\\u0e20\\u0e0a\\u0e19\\u0e32\\u0e01\\u0e32\\u0e23\", \"\\u0e42\\u0e20\\u0e0a\\u0e19\\u0e32\\u0e01\\u0e32\\u0e23\", \"\\u0e42\\u0e20\\u0e0a\\u0e19\\u0e32\\u0e01\\u0e32\\u0e23\", \"\\u0e42\\u0e20\\u0e0a\\u0e19\\u0e32\\u0e01\\u0e32\\u0e23\", \"\\u0e42\\u0e20\\u0e0a\\u0e19\\u0e32\\u0e01\\u0e32\\u0e23\", \"\\u0e42\\u0e20\\u0e0a\\u0e19\\u0e32\\u0e01\\u0e32\\u0e23\", \"\\u0e42\\u0e20\\u0e0a\\u0e19\\u0e32\\u0e01\\u0e32\\u0e23\", \"\\u0e42\\u0e21\", \"\\u0e42\\u0e21\", \"\\u0e42\\u0e21\", \"\\u0e42\\u0e21\", \"\\u0e42\\u0e21\", \"\\u0e42\\u0e21\", \"\\u0e42\\u0e21\", \"\\u0e42\\u0e21\", \"\\u0e42\\u0e21\", \"\\u0e42\\u0e22\\u0e40\\u0e01\\u0e34\\u0e23\\u0e4c\\u0e15\", \"\\u0e42\\u0e22\\u0e40\\u0e01\\u0e34\\u0e23\\u0e4c\\u0e15\", \"\\u0e42\\u0e22\\u0e40\\u0e01\\u0e34\\u0e23\\u0e4c\\u0e15\", \"\\u0e42\\u0e22\\u0e40\\u0e01\\u0e34\\u0e23\\u0e4c\\u0e15\", \"\\u0e42\\u0e22\\u0e40\\u0e01\\u0e34\\u0e23\\u0e4c\\u0e15\", \"\\u0e42\\u0e22\\u0e40\\u0e01\\u0e34\\u0e23\\u0e4c\\u0e15\", \"\\u0e42\\u0e22\\u0e40\\u0e01\\u0e34\\u0e23\\u0e4c\\u0e15\", \"\\u0e42\\u0e22\\u0e40\\u0e01\\u0e34\\u0e23\\u0e4c\\u0e15\", \"\\u0e42\\u0e22\\u0e40\\u0e01\\u0e34\\u0e23\\u0e4c\\u0e15\", \"\\u0e42\\u0e2d\\u0e22\", \"\\u0e42\\u0e2d\\u0e49\\u0e42\\u0e2b\", \"\\u0e42\\u0e2d\\u0e49\\u0e42\\u0e2b\", \"\\u0e42\\u0e2d\\u0e4a\\u0e30\", \"\\u0e42\\u0e2d\\u0e4b\", \"\\u0e43\\u0e02\\u0e48\", \"\\u0e43\\u0e02\\u0e48\", \"\\u0e43\\u0e08\\u0e23\\u0e49\\u0e2d\\u0e19\", \"\\u0e43\\u0e08\\u0e40\\u0e22\\u0e47\\u0e19\", \"\\u0e43\\u0e08\\u0e40\\u0e22\\u0e47\\u0e19\", \"\\u0e43\\u0e0a\\u0e49\\u0e44\\u0e21\\u0e48\\u0e44\\u0e14\\u0e49\", \"\\u0e43\\u0e0a\\u0e49\\u0e44\\u0e21\\u0e48\\u0e44\\u0e14\\u0e49\", \"\\u0e43\\u0e1a\\u0e40\\u0e2a\\u0e23\\u0e47\\u0e08\", \"\\u0e43\\u0e1a\\u0e40\\u0e2a\\u0e23\\u0e47\\u0e08\", \"\\u0e43\\u0e1a\\u0e40\\u0e2a\\u0e23\\u0e47\\u0e08\", \"\\u0e43\\u0e1a\\u0e40\\u0e2a\\u0e23\\u0e47\\u0e08\", \"\\u0e43\\u0e1a\\u0e40\\u0e2a\\u0e23\\u0e47\\u0e08\", \"\\u0e43\\u0e1a\\u0e40\\u0e2a\\u0e23\\u0e47\\u0e08\", \"\\u0e43\\u0e1a\\u0e40\\u0e2a\\u0e23\\u0e47\\u0e08\", \"\\u0e43\\u0e1a\\u0e40\\u0e2a\\u0e23\\u0e47\\u0e08\", \"\\u0e43\\u0e1a\\u0e40\\u0e2a\\u0e23\\u0e47\\u0e08\", \"\\u0e43\\u0e2a\\u0e48\", \"\\u0e43\\u0e2a\\u0e48\", \"\\u0e43\\u0e2a\\u0e48\", \"\\u0e43\\u0e2a\\u0e48\", \"\\u0e43\\u0e2a\\u0e48\", \"\\u0e43\\u0e2a\\u0e48\", \"\\u0e43\\u0e2a\\u0e48\", \"\\u0e43\\u0e2a\\u0e48\", \"\\u0e43\\u0e2a\\u0e48\", \"\\u0e43\\u0e2b\\u0e21\", \"\\u0e44\\u0e02\\u0e48\", \"\\u0e44\\u0e02\\u0e48\", \"\\u0e44\\u0e02\\u0e48\", \"\\u0e44\\u0e02\\u0e48\", \"\\u0e44\\u0e02\\u0e48\", \"\\u0e44\\u0e02\\u0e48\", \"\\u0e44\\u0e02\\u0e48\", \"\\u0e44\\u0e02\\u0e48\", \"\\u0e44\\u0e02\\u0e48\", \"\\u0e44\\u0e14\\u0e49\", \"\\u0e44\\u0e14\\u0e49\", \"\\u0e44\\u0e14\\u0e49\", \"\\u0e44\\u0e14\\u0e49\", \"\\u0e44\\u0e14\\u0e49\", \"\\u0e44\\u0e14\\u0e49\", \"\\u0e44\\u0e14\\u0e49\", \"\\u0e44\\u0e14\\u0e49\", \"\\u0e44\\u0e14\\u0e49\", \"\\u0e44\\u0e17\\u0e22\", \"\\u0e44\\u0e17\\u0e22\", \"\\u0e44\\u0e17\\u0e22\", \"\\u0e44\\u0e17\\u0e22\", \"\\u0e44\\u0e17\\u0e22\", \"\\u0e44\\u0e17\\u0e22\", \"\\u0e44\\u0e17\\u0e22\", \"\\u0e44\\u0e17\\u0e22\", \"\\u0e44\\u0e17\\u0e22\", \"\\u0e44\\u0e17\\u0e22\\u0e40\\u0e14\\u0e19\\u0e21\\u0e32\\u0e23\\u0e4c\\u0e04\", \"\\u0e44\\u0e17\\u0e22\\u0e40\\u0e14\\u0e19\\u0e21\\u0e32\\u0e23\\u0e4c\\u0e04\", \"\\u0e44\\u0e17\\u0e22\\u0e40\\u0e14\\u0e19\\u0e21\\u0e32\\u0e23\\u0e4c\\u0e04\", \"\\u0e44\\u0e17\\u0e22\\u0e40\\u0e14\\u0e19\\u0e21\\u0e32\\u0e23\\u0e4c\\u0e04\", \"\\u0e44\\u0e17\\u0e22\\u0e40\\u0e14\\u0e19\\u0e21\\u0e32\\u0e23\\u0e4c\\u0e04\", \"\\u0e44\\u0e17\\u0e22\\u0e40\\u0e14\\u0e19\\u0e21\\u0e32\\u0e23\\u0e4c\\u0e04\", \"\\u0e44\\u0e17\\u0e22\\u0e40\\u0e14\\u0e19\\u0e21\\u0e32\\u0e23\\u0e4c\\u0e04\", \"\\u0e44\\u0e17\\u0e22\\u0e40\\u0e14\\u0e19\\u0e21\\u0e32\\u0e23\\u0e4c\\u0e04\", \"\\u0e44\\u0e17\\u0e22\\u0e40\\u0e14\\u0e19\\u0e21\\u0e32\\u0e23\\u0e4c\\u0e04\", \"\\u0e44\\u0e21\\u0e48\", \"\\u0e44\\u0e21\\u0e48\", \"\\u0e44\\u0e21\\u0e48\", \"\\u0e44\\u0e21\\u0e48\", \"\\u0e44\\u0e21\\u0e48\", \"\\u0e44\\u0e21\\u0e48\", \"\\u0e44\\u0e21\\u0e48\", \"\\u0e44\\u0e21\\u0e48\", \"\\u0e44\\u0e21\\u0e48\", \"\\u0e44\\u0e21\\u0e48\\u0e44\\u0e14\\u0e49\", \"\\u0e44\\u0e21\\u0e48\\u0e44\\u0e14\\u0e49\", \"\\u0e44\\u0e21\\u0e48\\u0e44\\u0e14\\u0e49\", \"\\u0e44\\u0e21\\u0e48\\u0e44\\u0e14\\u0e49\", \"\\u0e44\\u0e21\\u0e48\\u0e44\\u0e14\\u0e49\", \"\\u0e44\\u0e21\\u0e48\\u0e44\\u0e14\\u0e49\", \"\\u0e44\\u0e21\\u0e48\\u0e44\\u0e14\\u0e49\", \"\\u0e44\\u0e21\\u0e48\\u0e44\\u0e14\\u0e49\", \"\\u0e44\\u0e21\\u0e48\\u0e44\\u0e14\\u0e49\", \"\\u0e44\\u0e22\", \"\\u0e44\\u0e22\", \"\\u0e44\\u0e27\\u0e19\\u0e4c\", \"\\u0e44\\u0e27\\u0e49\\u0e2b\\u0e19\\u0e49\\u0e32\", \"\\u0e44\\u0e2a\\u0e49\", \"\\u0e44\\u0e2a\\u0e49\", \"\\u0e44\\u0e2a\\u0e49\", \"\\u0e44\\u0e2a\\u0e49\", \"\\u0e44\\u0e2a\\u0e49\", \"\\u0e44\\u0e2a\\u0e49\", \"\\u0e44\\u0e2a\\u0e49\", \"\\u0e44\\u0e2a\\u0e49\", \"\\u0e44\\u0e2a\\u0e49\", \"\\u0e44\\u0e2d\\u0e15\\u0e34\\u0e21\", \"\\u0e44\\u0e2d\\u0e15\\u0e34\\u0e21\", \"\\u0e44\\u0e2d\\u0e15\\u0e34\\u0e21\", \"\\u0e44\\u0e2d\\u0e15\\u0e34\\u0e21\", \"\\u0e44\\u0e2d\\u0e15\\u0e34\\u0e21\", \"\\u0e44\\u0e2d\\u0e15\\u0e34\\u0e21\", \"\\u0e44\\u0e2d\\u0e15\\u0e34\\u0e21\", \"\\u0e44\\u0e2d\\u0e42\\u0e2d\\u0e14\\u0e35\\u0e19\", \"\\u0e46.\", \"\\u0e46.\", \"\\u0e46.\", \"\\u0e46.\", \"\\u0e46\\u0e46\\u0e46\\u0e46\\u0e46\\u0e46\\u0e46\"]}, \"R\": 40, \"lambda.step\": 0.1, \"plot.opts\": {\"xlab\": \"PC1\", \"ylab\": \"PC2\"}, \"topic.order\": [2, 1, 4, 9, 7, 5, 3, 8, 6]};\n",
       "\n",
       "function LDAvis_load_lib(url, callback){\n",
       "  var s = document.createElement('script');\n",
       "  s.src = url;\n",
       "  s.async = true;\n",
       "  s.onreadystatechange = s.onload = callback;\n",
       "  s.onerror = function(){console.warn(\"failed to load library \" + url);};\n",
       "  document.getElementsByTagName(\"head\")[0].appendChild(s);\n",
       "}\n",
       "\n",
       "if(typeof(LDAvis) !== \"undefined\"){\n",
       "   // already loaded: just create the visualization\n",
       "   !function(LDAvis){\n",
       "       new LDAvis(\"#\" + \"ldavis_el130429057067561607957707201\", ldavis_el130429057067561607957707201_data);\n",
       "   }(LDAvis);\n",
       "}else if(typeof define === \"function\" && define.amd){\n",
       "   // require.js is available: use it to load d3/LDAvis\n",
       "   require.config({paths: {d3: \"https://cdnjs.cloudflare.com/ajax/libs/d3/3.5.5/d3.min\"}});\n",
       "   require([\"d3\"], function(d3){\n",
       "      window.d3 = d3;\n",
       "      LDAvis_load_lib(\"https://cdn.rawgit.com/bmabey/pyLDAvis/files/ldavis.v1.0.0.js\", function(){\n",
       "        new LDAvis(\"#\" + \"ldavis_el130429057067561607957707201\", ldavis_el130429057067561607957707201_data);\n",
       "      });\n",
       "    });\n",
       "}else{\n",
       "    // require.js not available: dynamically load d3 & LDAvis\n",
       "    LDAvis_load_lib(\"https://cdnjs.cloudflare.com/ajax/libs/d3/3.5.5/d3.min.js\", function(){\n",
       "         LDAvis_load_lib(\"https://cdn.rawgit.com/bmabey/pyLDAvis/files/ldavis.v1.0.0.js\", function(){\n",
       "                 new LDAvis(\"#\" + \"ldavis_el130429057067561607957707201\", ldavis_el130429057067561607957707201_data);\n",
       "            })\n",
       "         });\n",
       "}\n",
       "</script>"
      ],
      "text/plain": [
       "PreparedData(topic_coordinates=              x         y  topics  cluster       Freq\n",
       "topic                                                \n",
       "1     -0.027622  0.022347       1        1  34.621532\n",
       "0     -0.014512  0.005907       2        1  15.562630\n",
       "3     -0.057856 -0.023575       3        1  10.658621\n",
       "8     -0.002429  0.040782       4        1   9.926839\n",
       "6     -0.034059 -0.079439       5        1   9.869904\n",
       "4     -0.007552  0.060428       6        1   7.255671\n",
       "2     -0.011340 -0.000151       7        1   4.899311\n",
       "7      0.112049 -0.024351       8        1   3.724586\n",
       "5      0.043321 -0.001948       9        1   3.480904, topic_info=     Category         Freq     Term        Total  loglift  logprob\n",
       "23    Default  5900.000000           5900.000000  40.0000  40.0000\n",
       "21    Default  4351.000000      ได้  4351.000000  39.0000  39.0000\n",
       "83    Default  1027.000000   ขอบคุณ  1027.000000  38.0000  38.0000\n",
       "37    Default  7867.000000      ไม่  7867.000000  37.0000  37.0000\n",
       "26    Default  4282.000000      กิน  4282.000000  36.0000  36.0000\n",
       "6     Default  3102.000000       นม  3102.000000  35.0000  35.0000\n",
       "124   Default  2484.000000       ผม  2484.000000  34.0000  34.0000\n",
       "230   Default  1075.000000      ลอง  1075.000000  33.0000  33.0000\n",
       "5     Default  1948.000000       คน  1948.000000  32.0000  32.0000\n",
       "57    Default  1701.000000      ชอบ  1701.000000  31.0000  31.0000\n",
       "24    Default   922.000000        .   922.000000  30.0000  30.0000\n",
       "33    Default  1483.000000       ทำ  1483.000000  29.0000  29.0000\n",
       "161   Default  1225.000000       ดู  1225.000000  28.0000  28.0000\n",
       "172   Default  1251.000000    อร่อย  1251.000000  27.0000  27.0000\n",
       "327   Default   667.000000       น.   667.000000  26.0000  26.0000\n",
       "69    Default  1097.000000     เวลา  1097.000000  25.0000  25.0000\n",
       "321   Default   556.000000  ข้อความ   556.000000  24.0000  24.0000\n",
       "104   Default  1666.000000       ดี  1666.000000  23.0000  23.0000\n",
       "44    Default   732.000000   ยี่ห้อ   732.000000  22.0000  22.0000\n",
       "30    Default  1956.000000     ซื้อ  1956.000000  21.0000  21.0000\n",
       "2105  Default   226.000000       ฮะ   226.000000  20.0000  20.0000\n",
       "303   Default  1207.000000      ใส่  1207.000000  19.0000  19.0000\n",
       "508   Default   677.000000      ...   677.000000  18.0000  18.0000\n",
       "11    Default   809.000000       รส   809.000000  17.0000  17.0000\n",
       "1913  Default   394.000000    รีวิว   394.000000  16.0000  16.0000\n",
       "436   Default   687.000000     น้อง   687.000000  15.0000  15.0000\n",
       "251   Default   704.000000    กล่อง   704.000000  14.0000  14.0000\n",
       "1830  Default   229.000000      หมี   229.000000  13.0000  13.0000\n",
       "229   Default   920.000000      ทาน   920.000000  12.0000  12.0000\n",
       "16    Default   313.000000   เซเว่น   313.000000  11.0000  11.0000\n",
       "...       ...          ...      ...          ...      ...      ...\n",
       "172    Topic9    47.363647    อร่อย  1251.921631   0.0833  -5.2285\n",
       "33     Topic9    49.514988       ทำ  1483.505371  -0.0420  -5.1841\n",
       "73     Topic9    27.810062   กระทู้   402.157959   0.6864  -5.7610\n",
       "83     Topic9    40.166515   ขอบคุณ  1027.080688   0.1164  -5.3933\n",
       "13     Topic9    31.872425       หา   585.645935   0.4469  -5.6246\n",
       "276    Topic9    14.860615       กา   100.680038   1.4446  -6.3877\n",
       "331    Topic9    22.685898      รูป   294.554871   0.7942  -5.9646\n",
       "436    Topic9    30.891003     น้อง   687.943115   0.2546  -5.6559\n",
       "230    Topic9    33.116325      ลอง  1075.881958  -0.1230  -5.5863\n",
       "30     Topic9    39.522011     ซื้อ  1956.791260  -0.5443  -5.4095\n",
       "77     Topic9    22.646641       สี   316.828247   0.7195  -5.9664\n",
       "74     Topic9    28.374668      ตอน   676.118835   0.1870  -5.7409\n",
       "212    Topic9    27.927395   เรื่อง   738.688477   0.0826  -5.7568\n",
       "69     Topic9    29.721436     เวลา  1097.754028  -0.2513  -5.6945\n",
       "314    Topic9    15.866057       ผง   137.406464   1.1991  -6.3222\n",
       "161    Topic9    28.804735       ดู  1225.183838  -0.3924  -5.7258\n",
       "105    Topic9    24.841404      ตัว   736.366455  -0.0313  -5.8739\n",
       "18     Topic9    24.296680     เมจิ   667.198120   0.0451  -5.8960\n",
       "180    Topic9    21.394707     เล่น   457.948242   0.2943  -6.0232\n",
       "1410   Topic9    19.787201      แถม   320.516144   0.5730  -6.1013\n",
       "242    Topic9    19.122940      แทน   316.199341   0.5524  -6.1355\n",
       "303    Topic9    24.752626      ใส่  1207.382568  -0.5294  -5.8774\n",
       "5      Topic9    25.939579       คน  1948.735962  -0.9613  -5.8306\n",
       "104    Topic9    25.078537       ดี  1666.019653  -0.8383  -5.8644\n",
       "87     Topic9    20.448538   รสชาติ   535.495300   0.0926  -6.0685\n",
       "288    Topic9    20.791445   เหมือน   765.907104  -0.2486  -6.0518\n",
       "86     Topic9    19.280706     นมสด   397.950836   0.3307  -6.1273\n",
       "1155   Topic9    18.445269     หน้า   323.127960   0.4946  -6.1716\n",
       "80     Topic9    19.841202   ไม่ได้  1398.381348  -0.8974  -6.0986\n",
       "3      Topic9    18.953117      ขาย   573.845825  -0.0525  -6.1444\n",
       "\n",
       "[944 rows x 6 columns], token_table=       Topic      Freq     Term\n",
       "term                           \n",
       "23         1  0.299121         \n",
       "23         2  0.099481         \n",
       "23         3  0.041182         \n",
       "23         4  0.064061         \n",
       "23         5  0.421481         \n",
       "23         6  0.011694         \n",
       "23         7  0.019151         \n",
       "23         8  0.022879         \n",
       "23         9  0.021184         \n",
       "351        1  0.879339       ''\n",
       "4852       2  0.808931    *****\n",
       "24         1  0.969524        .\n",
       "24         2  0.004338        .\n",
       "24         3  0.001084        .\n",
       "24         4  0.006507        .\n",
       "24         5  0.009760        .\n",
       "24         6  0.002169        .\n",
       "24         7  0.001084        .\n",
       "24         8  0.003253        .\n",
       "24         9  0.001084        .\n",
       "1251       1  0.543850       ..\n",
       "1251       2  0.065262       ..\n",
       "1251       3  0.032631       ..\n",
       "1251       4  0.132699       ..\n",
       "1251       5  0.102244       ..\n",
       "1251       6  0.060911       ..\n",
       "1251       7  0.032631       ..\n",
       "1251       8  0.023929       ..\n",
       "1251       9  0.006526       ..\n",
       "508        1  0.432407      ...\n",
       "...      ...       ...      ...\n",
       "80         6  0.038616   ไม่ได้\n",
       "80         7  0.042192   ไม่ได้\n",
       "80         8  0.019308   ไม่ได้\n",
       "80         9  0.014302   ไม่ได้\n",
       "6764       4  0.167897       ไย\n",
       "6764       9  0.671587       ไย\n",
       "7430       3  0.875694     ไวน์\n",
       "12073      8  0.886728  ไว้หน้า\n",
       "1741       1  0.279603      ไส้\n",
       "1741       2  0.203348      ไส้\n",
       "1741       3  0.067783      ไส้\n",
       "1741       4  0.016946      ไส้\n",
       "1741       5  0.067783      ไส้\n",
       "1741       6  0.016946      ไส้\n",
       "1741       7  0.025418      ไส้\n",
       "1741       8  0.245712      ไส้\n",
       "1741       9  0.067783      ไส้\n",
       "5550       1  0.394505    ไอติม\n",
       "5550       2  0.048554    ไอติม\n",
       "5550       4  0.133525    ไอติม\n",
       "5550       5  0.042485    ไอติม\n",
       "5550       6  0.127456    ไอติม\n",
       "5550       7  0.036416    ไอติม\n",
       "5550       9  0.206357    ไอติม\n",
       "11898      7  0.912361  ไอโอดีน\n",
       "5496       1  0.897896       ๆ.\n",
       "5496       3  0.023629       ๆ.\n",
       "5496       4  0.023629       ๆ.\n",
       "5496       6  0.023629       ๆ.\n",
       "11409      8  0.845944  ๆๆๆๆๆๆๆ\n",
       "\n",
       "[2663 rows x 3 columns], R=40, lambda_step=0.1, plot_opts={'xlab': 'PC1', 'ylab': 'PC2'}, topic_order=[2, 1, 4, 9, 7, 5, 3, 8, 6])"
      ]
     },
     "execution_count": 40,
     "metadata": {},
     "output_type": "execute_result"
    }
   ],
   "source": [
    "pyLDAvis.gensim.prepare(model, gensim_corpus, dictionary, R=40, lambda_step=0.1)"
   ]
  },
  {
   "cell_type": "markdown",
   "metadata": {
    "id": "NKW--A73mzli"
   },
   "source": [
    "## สร้าง Bag of word dataframe<br>\n",
    "ตัดคำแล้วทำ LDA อีกรอบเพื่อดู feature ที่ชัดเจนขึ้น ก่อนสร้าง Bag of word เพื่อออกกราฟ & MDS"
   ]
  },
  {
   "cell_type": "code",
   "execution_count": null,
   "metadata": {},
   "outputs": [],
   "source": []
  },
  {
   "cell_type": "code",
   "execution_count": null,
   "metadata": {},
   "outputs": [],
   "source": []
  },
  {
   "cell_type": "code",
   "execution_count": null,
   "metadata": {},
   "outputs": [],
   "source": []
  },
  {
   "cell_type": "code",
   "execution_count": null,
   "metadata": {},
   "outputs": [],
   "source": []
  },
  {
   "cell_type": "code",
   "execution_count": null,
   "metadata": {},
   "outputs": [],
   "source": []
  },
  {
   "cell_type": "markdown",
   "metadata": {
    "id": "uBBA36fDTCfZ"
   },
   "source": [
    "### Create co-occurrence matrix จาก Bag of word"
   ]
  },
  {
   "cell_type": "raw",
   "metadata": {
    "id": "LgE1okejTCfZ"
   },
   "source": [
    "item_item_matrix = pd.DataFrame(index=join_df.columns,columns=join_df.columns).fillna(0)"
   ]
  },
  {
   "cell_type": "raw",
   "metadata": {
    "id": "05j3U3ymTCfb"
   },
   "source": [
    "def cnt_Grpby(df,i,j):\n",
    "    PAIB = pd.DataFrame(df.groupby(df.iloc[:,i].name)[df.iloc[:,j].name].value_counts())\n",
    "    PAIB.index.names = ['A','B']\n",
    "    PAIB.columns = ['freq']\n",
    "    PAIB.reset_index(inplace=True)\n",
    "    _PAIB = PAIB[(PAIB.A>0)&(PAIB.B>0)]\n",
    "    return _PAIB.freq.sum()"
   ]
  },
  {
   "cell_type": "raw",
   "metadata": {
    "id": "1jhFte5eTCfd"
   },
   "source": [
    "# Co-occurrence\n",
    "for i in range(0,len(item_item_matrix.columns)):\n",
    "    for j in range(0,len(item_item_matrix.columns)):\n",
    "        if i != j:\n",
    "            item_item_matrix.iloc[i,j] = cnt_Grpby(join_df,i,j)\n",
    "        else:\n",
    "            item_item_matrix.iloc[i,j] = 0"
   ]
  },
  {
   "cell_type": "raw",
   "metadata": {
    "id": "OhtvLfMXTCfg"
   },
   "source": [
    "item_item_matrix.head()"
   ]
  },
  {
   "cell_type": "raw",
   "metadata": {
    "id": "bsbsqduDTCfh"
   },
   "source": [
    "item_item_matrix.to_excel(comment_past_nlp_file, index=True)"
   ]
  },
  {
   "cell_type": "markdown",
   "metadata": {
    "id": "O8nlNNE4TCfj"
   },
   "source": [
    "### Create co-occurrence matrix with Lift normalization"
   ]
  },
  {
   "cell_type": "raw",
   "metadata": {
    "id": "Qykd9Z88TCfj"
   },
   "source": [
    "item_item_matrix = pd.DataFrame(index=join_df.columns,columns=join_df.columns).fillna(0)"
   ]
  },
  {
   "cell_type": "raw",
   "metadata": {
    "id": "ElfF27atTCfp"
   },
   "source": [
    "def a_in_b(df,i,j):\n",
    "    PAIB = pd.DataFrame(df.groupby(df.iloc[:,j].name)[df.iloc[:,i].name].value_counts())\n",
    "    PAIB.index.names = ['B','A']\n",
    "    PAIB.columns = ['freq']\n",
    "    PAIB.reset_index(inplace=True)\n",
    "    PAIB_ = PAIB[(PAIB.A>0)&(PAIB.B>0)]\n",
    "    return PAIB_.freq.sum()/PAIB.freq.sum()"
   ]
  },
  {
   "cell_type": "raw",
   "metadata": {
    "id": "h1sDGAMWTCfr"
   },
   "source": [
    "for i in range(0,len(item_item_matrix.columns)) :\n",
    "    for j in range(0,len(item_item_matrix.columns)) :\n",
    "        A = join_df.iloc[:,i]\n",
    "        B = join_df.iloc[:,j]\n",
    "        PA = A[A!=0].count()/A.shape[0]\n",
    "        PB = B[B!=0].count()/B.shape[0]\n",
    "        PAB = PB*a_in_b(join_df,i,j)\n",
    "        item_item_matrix.iloc[i,j] = PAB/(PA*PB)"
   ]
  },
  {
   "cell_type": "raw",
   "metadata": {
    "id": "Wzd336KbTCfs"
   },
   "source": [
    "item_item_matrix.replace([np.inf, -np.inf], np.nan,inplace=True)\n",
    "item_item_matrix.fillna(0,inplace=True)"
   ]
  },
  {
   "cell_type": "raw",
   "metadata": {
    "id": "8qG7pCYfTCfu"
   },
   "source": [
    "item_item_matrix.head()"
   ]
  },
  {
   "cell_type": "raw",
   "metadata": {
    "id": "LsZZMOcTTCfw"
   },
   "source": [
    "item_item_matrix.to_excel(comment_past_nlp_file, index=True)"
   ]
  }
 ],
 "metadata": {
  "colab": {
   "collapsed_sections": [
    "EpwX95XlTCdl",
    "_Q9pU1J6TCe5",
    "NKW--A73mzli",
    "uBBA36fDTCfZ",
    "O8nlNNE4TCfj"
   ],
   "name": "EDA_Token_CoocMat.ipynb",
   "provenance": []
  },
  "kernelspec": {
   "display_name": "Python 3",
   "language": "python",
   "name": "python3"
  },
  "language_info": {
   "codemirror_mode": {
    "name": "ipython",
    "version": 3
   },
   "file_extension": ".py",
   "mimetype": "text/x-python",
   "name": "python",
   "nbconvert_exporter": "python",
   "pygments_lexer": "ipython3",
   "version": "3.7.3"
  }
 },
 "nbformat": 4,
 "nbformat_minor": 1
}
