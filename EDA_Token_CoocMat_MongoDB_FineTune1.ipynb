{
 "cells": [
  {
   "cell_type": "markdown",
   "metadata": {
    "id": "xoY8sy40TCb5"
   },
   "source": [
    "### IS - Brand position\n",
    "Finding Product position on Social Network (PPSN)"
   ]
  },
  {
   "cell_type": "raw",
   "metadata": {
    "colab": {
     "base_uri": "https://localhost:8080/"
    },
    "executionInfo": {
     "elapsed": 28353,
     "status": "ok",
     "timestamp": 1604024868503,
     "user": {
      "displayName": "Pacharapol O.",
      "photoUrl": "https://lh3.googleusercontent.com/a-/AOh14GiBNaVjsCxoMVUqEvSDC7eauF0V2ZD7B-TzevR1TQ=s64",
      "userId": "00378494490135533545"
     },
     "user_tz": -420
    },
    "id": "GkBEUBUqTGuf",
    "outputId": "cb22db45-820a-48fd-c11a-a0568439778f"
   },
   "source": [
    "from google.colab import drive\n",
    "drive.mount('/content/drive')"
   ]
  },
  {
   "cell_type": "raw",
   "metadata": {
    "colab": {
     "base_uri": "https://localhost:8080/"
    },
    "executionInfo": {
     "elapsed": 1693,
     "status": "ok",
     "timestamp": 1604024868819,
     "user": {
      "displayName": "Pacharapol O.",
      "photoUrl": "https://lh3.googleusercontent.com/a-/AOh14GiBNaVjsCxoMVUqEvSDC7eauF0V2ZD7B-TzevR1TQ=s64",
      "userId": "00378494490135533545"
     },
     "user_tz": -420
    },
    "id": "_5mrzpx3TH9K",
    "outputId": "129bb192-4ac2-4b03-bc89-7ee7a65d5032"
   },
   "source": [
    "cd /content/drive/My\\ Drive/Colab\\ Notebooks/Master_PJ_DRMABS/Datasource"
   ]
  },
  {
   "cell_type": "code",
   "execution_count": 1,
   "metadata": {
    "executionInfo": {
     "elapsed": 2631,
     "status": "ok",
     "timestamp": 1604024879769,
     "user": {
      "displayName": "Pacharapol O.",
      "photoUrl": "https://lh3.googleusercontent.com/a-/AOh14GiBNaVjsCxoMVUqEvSDC7eauF0V2ZD7B-TzevR1TQ=s64",
      "userId": "00378494490135533545"
     },
     "user_tz": -420
    },
    "id": "cC0cBdCdTCb6"
   },
   "outputs": [],
   "source": [
    "import networkx as nx\n",
    "import numpy as np\n",
    "import pandas as pd\n",
    "import itertools\n",
    "import math\n",
    "import string\n",
    "import json\n",
    "import pymongo"
   ]
  },
  {
   "cell_type": "code",
   "execution_count": 2,
   "metadata": {},
   "outputs": [
    {
     "name": "stderr",
     "output_type": "stream",
     "text": [
      "C:\\ProgramData\\Anaconda3\\lib\\site-packages\\past\\types\\oldstr.py:5: DeprecationWarning: Using or importing the ABCs from 'collections' instead of from 'collections.abc' is deprecated, and in 3.8 it will stop working\n",
      "  from collections import Iterable\n",
      "C:\\ProgramData\\Anaconda3\\lib\\site-packages\\_pytest\\mark\\structures.py:378: DeprecationWarning: The usage of `cmp` is deprecated and will be removed on or after 2021-06-01.  Please use `eq` and `order` instead.\n",
      "  @attr.s(cmp=False, hash=False)\n"
     ]
    }
   ],
   "source": [
    "import gensim\n",
    "import pyLDAvis.gensim\n",
    "pyLDAvis.enable_notebook()\n",
    "\n",
    "import warnings\n",
    "warnings.filterwarnings(\"ignore\", category=DeprecationWarning)\n",
    "warnings.filterwarnings(\"ignore\", category=pd.core.common.SettingWithCopyWarning)"
   ]
  },
  {
   "cell_type": "code",
   "execution_count": 3,
   "metadata": {
    "executionInfo": {
     "elapsed": 2031,
     "status": "ok",
     "timestamp": 1604024879770,
     "user": {
      "displayName": "Pacharapol O.",
      "photoUrl": "https://lh3.googleusercontent.com/a-/AOh14GiBNaVjsCxoMVUqEvSDC7eauF0V2ZD7B-TzevR1TQ=s64",
      "userId": "00378494490135533545"
     },
     "user_tz": -420
    },
    "id": "1kqXURiiTCb-"
   },
   "outputs": [],
   "source": [
    "import time\n",
    "from datetime import datetime\n",
    "today = datetime.now()"
   ]
  },
  {
   "cell_type": "code",
   "execution_count": 4,
   "metadata": {
    "colab": {
     "base_uri": "https://localhost:8080/"
    },
    "executionInfo": {
     "elapsed": 3451,
     "status": "ok",
     "timestamp": 1604028167896,
     "user": {
      "displayName": "Pacharapol O.",
      "photoUrl": "https://lh3.googleusercontent.com/a-/AOh14GiBNaVjsCxoMVUqEvSDC7eauF0V2ZD7B-TzevR1TQ=s64",
      "userId": "00378494490135533545"
     },
     "user_tz": -420
    },
    "id": "weEcXSD8TCcI",
    "outputId": "1219680e-0d54-4649-a26e-535e112f0650"
   },
   "outputs": [],
   "source": [
    "#!pip install pythainlp\n",
    "import pythainlp\n",
    "from pythainlp import Tokenizer\n",
    "from pythainlp.util import normalize\n",
    "from pythainlp.tokenize import word_tokenize\n",
    "from pythainlp.corpus.common import thai_words\n",
    "from pythainlp import sent_tokenize\n",
    "from pythainlp.corpus import thai_stopwords\n",
    "from pythainlp.util import dict_trie\n",
    "from pythainlp.tag import pos_tag"
   ]
  },
  {
   "cell_type": "code",
   "execution_count": 5,
   "metadata": {
    "id": "Jpa16DrfTCeL"
   },
   "outputs": [],
   "source": [
    "# https://thainlp.org/pythainlp/docs/2.0/api/tag.html\n",
    "from pythainlp.spell import correct\n",
    "from pythainlp.tag import pos_tag\n",
    "\n",
    "#https://thainlp.org/pythainlp/docs/2.0/api/transliterate.html\n",
    "from pythainlp.transliterate import romanize"
   ]
  },
  {
   "cell_type": "code",
   "execution_count": 6,
   "metadata": {},
   "outputs": [],
   "source": [
    "import statistics as stat\n",
    "import matplotlib.pyplot as plt\n",
    "import seaborn as sns"
   ]
  },
  {
   "cell_type": "code",
   "execution_count": 7,
   "metadata": {
    "executionInfo": {
     "elapsed": 6121,
     "status": "ok",
     "timestamp": 1604024888335,
     "user": {
      "displayName": "Pacharapol O.",
      "photoUrl": "https://lh3.googleusercontent.com/a-/AOh14GiBNaVjsCxoMVUqEvSDC7eauF0V2ZD7B-TzevR1TQ=s64",
      "userId": "00378494490135533545"
     },
     "user_tz": -420
    },
    "id": "acWWFhczTCcO"
   },
   "outputs": [],
   "source": [
    "from bs4 import BeautifulSoup\n",
    "from urllib.request import urlopen"
   ]
  },
  {
   "cell_type": "code",
   "execution_count": 8,
   "metadata": {
    "executionInfo": {
     "elapsed": 5596,
     "status": "ok",
     "timestamp": 1604024888336,
     "user": {
      "displayName": "Pacharapol O.",
      "photoUrl": "https://lh3.googleusercontent.com/a-/AOh14GiBNaVjsCxoMVUqEvSDC7eauF0V2ZD7B-TzevR1TQ=s64",
      "userId": "00378494490135533545"
     },
     "user_tz": -420
    },
    "id": "l0SZe4-LTCcd"
   },
   "outputs": [],
   "source": [
    "from IPython.display import clear_output"
   ]
  },
  {
   "cell_type": "code",
   "execution_count": 9,
   "metadata": {
    "executionInfo": {
     "elapsed": 831,
     "status": "ok",
     "timestamp": 1604027698593,
     "user": {
      "displayName": "Pacharapol O.",
      "photoUrl": "https://lh3.googleusercontent.com/a-/AOh14GiBNaVjsCxoMVUqEvSDC7eauF0V2ZD7B-TzevR1TQ=s64",
      "userId": "00378494490135533545"
     },
     "user_tz": -420
    },
    "id": "sna_e7nATCch"
   },
   "outputs": [],
   "source": [
    "# Files definition\n",
    "root_path = 'Datasource'\n",
    "\n",
    "comment_file = []\n",
    "comment_file.append(root_path+\"/comment_meiji.csv\")\n",
    "comment_file.append(root_path+\"/comment_DDCF.csv\")\n",
    "\n",
    "#comment_file = []\n",
    "#comment_file.append(\"comment_meiji.csv\")\n",
    "#comment_file.append(\"comment_DDCF.csv\")\n",
    "\n",
    "comment_nlp_file = root_path+\"/comment_nlpToken.csv\"\n",
    "comment_cooc_lift_file = root_path+\"/comment_cooc_Lift.xlsx\"\n",
    "\n",
    "#comment_nlp_file = \"comment_nlpToken.csv\"\n",
    "#comment_cooc_nlp_file = \"comment_cooc.xlsx\""
   ]
  },
  {
   "cell_type": "code",
   "execution_count": 10,
   "metadata": {},
   "outputs": [],
   "source": [
    "# Connect MongoDB\n",
    "myclient = pymongo.MongoClient(\"mongodb://localhost:27017/\")\n",
    "mydb = myclient[\"NIDA_PPSN_PRD\"]\n",
    "col_thread = mydb[\"NIDA_PPSN_THREAD\"]\n",
    "col_comment = mydb[\"NIDA_PPSN_COMMENT\"]"
   ]
  },
  {
   "cell_type": "code",
   "execution_count": 11,
   "metadata": {
    "executionInfo": {
     "elapsed": 866,
     "status": "ok",
     "timestamp": 1604028004964,
     "user": {
      "displayName": "Pacharapol O.",
      "photoUrl": "https://lh3.googleusercontent.com/a-/AOh14GiBNaVjsCxoMVUqEvSDC7eauF0V2ZD7B-TzevR1TQ=s64",
      "userId": "00378494490135533545"
     },
     "user_tz": -420
    },
    "id": "oaqpUVffTCdm"
   },
   "outputs": [],
   "source": [
    "def checkStopwords(w):\n",
    "    returnList = []\n",
    "    stopwords = set(thai_stopwords())\n",
    "    stopwords.remove('ไม่')\n",
    "    stopwords.remove('ได้')\n",
    "    for i in w:  # comment\n",
    "        if i not in stopwords:\n",
    "            returnList.append(i)\n",
    "    return returnList"
   ]
  },
  {
   "cell_type": "code",
   "execution_count": 12,
   "metadata": {
    "executionInfo": {
     "elapsed": 880,
     "status": "ok",
     "timestamp": 1604028299778,
     "user": {
      "displayName": "Pacharapol O.",
      "photoUrl": "https://lh3.googleusercontent.com/a-/AOh14GiBNaVjsCxoMVUqEvSDC7eauF0V2ZD7B-TzevR1TQ=s64",
      "userId": "00378494490135533545"
     },
     "user_tz": -420
    },
    "id": "cr_O7hE5htx2"
   },
   "outputs": [],
   "source": [
    "def normThai(w):\n",
    "    returnList = []\n",
    "    for i in w:\n",
    "        returnList.append(normalize(i).lower())\n",
    "    return returnList"
   ]
  },
  {
   "cell_type": "code",
   "execution_count": 13,
   "metadata": {},
   "outputs": [],
   "source": [
    "list_punc = []\n",
    "for c in string.punctuation:\n",
    "    list_punc.append(c)"
   ]
  },
  {
   "cell_type": "markdown",
   "metadata": {
    "id": "wlnotsqqTCcl"
   },
   "source": [
    "### 1.Clean data & NLP Tokenized"
   ]
  },
  {
   "cell_type": "code",
   "execution_count": 14,
   "metadata": {
    "executionInfo": {
     "elapsed": 2677,
     "status": "ok",
     "timestamp": 1604027704431,
     "user": {
      "displayName": "Pacharapol O.",
      "photoUrl": "https://lh3.googleusercontent.com/a-/AOh14GiBNaVjsCxoMVUqEvSDC7eauF0V2ZD7B-TzevR1TQ=s64",
      "userId": "00378494490135533545"
     },
     "user_tz": -420
    },
    "id": "VXYRZDubTCcm"
   },
   "outputs": [],
   "source": [
    "df_textList1 = pd.read_csv(comment_file[0],header=None)\n",
    "df_textList2 = pd.read_csv(comment_file[1],header=None)"
   ]
  },
  {
   "cell_type": "code",
   "execution_count": 15,
   "metadata": {
    "executionInfo": {
     "elapsed": 1168,
     "status": "ok",
     "timestamp": 1604027707570,
     "user": {
      "displayName": "Pacharapol O.",
      "photoUrl": "https://lh3.googleusercontent.com/a-/AOh14GiBNaVjsCxoMVUqEvSDC7eauF0V2ZD7B-TzevR1TQ=s64",
      "userId": "00378494490135533545"
     },
     "user_tz": -420
    },
    "id": "2Lc6T0oATCcp"
   },
   "outputs": [],
   "source": [
    "df_textList1.insert(0,'Table','Meiji')\n",
    "df_textList1.columns = ['Table','URLs', 'text', 'Retrived_date']\n",
    "df_textList2.insert(0,'Table','DDFC')\n",
    "df_textList2.columns = ['Table','URLs', 'text', 'Retrived_date']"
   ]
  },
  {
   "cell_type": "code",
   "execution_count": 16,
   "metadata": {
    "colab": {
     "base_uri": "https://localhost:8080/",
     "height": 79
    },
    "executionInfo": {
     "elapsed": 1043,
     "status": "ok",
     "timestamp": 1604027708520,
     "user": {
      "displayName": "Pacharapol O.",
      "photoUrl": "https://lh3.googleusercontent.com/a-/AOh14GiBNaVjsCxoMVUqEvSDC7eauF0V2ZD7B-TzevR1TQ=s64",
      "userId": "00378494490135533545"
     },
     "user_tz": -420
    },
    "id": "594kVpigTCcv",
    "outputId": "44e651f1-4657-4a83-f483-a33998995e6b"
   },
   "outputs": [
    {
     "data": {
      "text/html": [
       "<div>\n",
       "<style scoped>\n",
       "    .dataframe tbody tr th:only-of-type {\n",
       "        vertical-align: middle;\n",
       "    }\n",
       "\n",
       "    .dataframe tbody tr th {\n",
       "        vertical-align: top;\n",
       "    }\n",
       "\n",
       "    .dataframe thead th {\n",
       "        text-align: right;\n",
       "    }\n",
       "</style>\n",
       "<table border=\"1\" class=\"dataframe\">\n",
       "  <thead>\n",
       "    <tr style=\"text-align: right;\">\n",
       "      <th></th>\n",
       "      <th>count</th>\n",
       "      <th>mean</th>\n",
       "      <th>std</th>\n",
       "      <th>min</th>\n",
       "      <th>25%</th>\n",
       "      <th>50%</th>\n",
       "      <th>75%</th>\n",
       "      <th>max</th>\n",
       "    </tr>\n",
       "  </thead>\n",
       "  <tbody>\n",
       "    <tr>\n",
       "      <th>URLs</th>\n",
       "      <td>1000.0</td>\n",
       "      <td>43.049</td>\n",
       "      <td>53.682105</td>\n",
       "      <td>3.0</td>\n",
       "      <td>11.0</td>\n",
       "      <td>21.0</td>\n",
       "      <td>49.0</td>\n",
       "      <td>351.0</td>\n",
       "    </tr>\n",
       "  </tbody>\n",
       "</table>\n",
       "</div>"
      ],
      "text/plain": [
       "       count    mean        std  min   25%   50%   75%    max\n",
       "URLs  1000.0  43.049  53.682105  3.0  11.0  21.0  49.0  351.0"
      ]
     },
     "execution_count": 16,
     "metadata": {},
     "output_type": "execute_result"
    }
   ],
   "source": [
    "pd.DataFrame(df_textList1.URLs.value_counts()).describe().T"
   ]
  },
  {
   "cell_type": "code",
   "execution_count": 17,
   "metadata": {
    "colab": {
     "base_uri": "https://localhost:8080/"
    },
    "executionInfo": {
     "elapsed": 853,
     "status": "ok",
     "timestamp": 1604027711587,
     "user": {
      "displayName": "Pacharapol O.",
      "photoUrl": "https://lh3.googleusercontent.com/a-/AOh14GiBNaVjsCxoMVUqEvSDC7eauF0V2ZD7B-TzevR1TQ=s64",
      "userId": "00378494490135533545"
     },
     "user_tz": -420
    },
    "id": "DKbN38AzTCc0",
    "outputId": "f1bafe8c-19c9-4b52-dbb7-faafb7726901"
   },
   "outputs": [
    {
     "name": "stdout",
     "output_type": "stream",
     "text": [
      "meiji comment: 43049\n",
      "meiji URLs ก่อนตัด: 1000\n"
     ]
    }
   ],
   "source": [
    "print('meiji comment:',df_textList1.shape[0])\n",
    "print('meiji URLs ก่อนตัด:',len(df_textList1.URLs.unique()))"
   ]
  },
  {
   "cell_type": "code",
   "execution_count": 18,
   "metadata": {
    "colab": {
     "base_uri": "https://localhost:8080/",
     "height": 79
    },
    "executionInfo": {
     "elapsed": 906,
     "status": "ok",
     "timestamp": 1604027713588,
     "user": {
      "displayName": "Pacharapol O.",
      "photoUrl": "https://lh3.googleusercontent.com/a-/AOh14GiBNaVjsCxoMVUqEvSDC7eauF0V2ZD7B-TzevR1TQ=s64",
      "userId": "00378494490135533545"
     },
     "user_tz": -420
    },
    "id": "oJKpaP0xTCc4",
    "outputId": "7705fefd-637c-4533-b001-5016a317c45b"
   },
   "outputs": [
    {
     "data": {
      "text/html": [
       "<div>\n",
       "<style scoped>\n",
       "    .dataframe tbody tr th:only-of-type {\n",
       "        vertical-align: middle;\n",
       "    }\n",
       "\n",
       "    .dataframe tbody tr th {\n",
       "        vertical-align: top;\n",
       "    }\n",
       "\n",
       "    .dataframe thead th {\n",
       "        text-align: right;\n",
       "    }\n",
       "</style>\n",
       "<table border=\"1\" class=\"dataframe\">\n",
       "  <thead>\n",
       "    <tr style=\"text-align: right;\">\n",
       "      <th></th>\n",
       "      <th>count</th>\n",
       "      <th>mean</th>\n",
       "      <th>std</th>\n",
       "      <th>min</th>\n",
       "      <th>25%</th>\n",
       "      <th>50%</th>\n",
       "      <th>75%</th>\n",
       "      <th>max</th>\n",
       "    </tr>\n",
       "  </thead>\n",
       "  <tbody>\n",
       "    <tr>\n",
       "      <th>URLs</th>\n",
       "      <td>517.0</td>\n",
       "      <td>44.756286</td>\n",
       "      <td>57.056773</td>\n",
       "      <td>1.0</td>\n",
       "      <td>10.0</td>\n",
       "      <td>19.0</td>\n",
       "      <td>53.0</td>\n",
       "      <td>328.0</td>\n",
       "    </tr>\n",
       "  </tbody>\n",
       "</table>\n",
       "</div>"
      ],
      "text/plain": [
       "      count       mean        std  min   25%   50%   75%    max\n",
       "URLs  517.0  44.756286  57.056773  1.0  10.0  19.0  53.0  328.0"
      ]
     },
     "execution_count": 18,
     "metadata": {},
     "output_type": "execute_result"
    }
   ],
   "source": [
    "pd.DataFrame(df_textList2.URLs.value_counts()).describe().T"
   ]
  },
  {
   "cell_type": "code",
   "execution_count": 19,
   "metadata": {
    "colab": {
     "base_uri": "https://localhost:8080/"
    },
    "executionInfo": {
     "elapsed": 887,
     "status": "ok",
     "timestamp": 1604027715137,
     "user": {
      "displayName": "Pacharapol O.",
      "photoUrl": "https://lh3.googleusercontent.com/a-/AOh14GiBNaVjsCxoMVUqEvSDC7eauF0V2ZD7B-TzevR1TQ=s64",
      "userId": "00378494490135533545"
     },
     "user_tz": -420
    },
    "id": "wGrNn6b4TCc7",
    "outputId": "df1d8a4a-b8ea-45d8-99e8-65aa6e8178bb"
   },
   "outputs": [
    {
     "name": "stdout",
     "output_type": "stream",
     "text": [
      "DDCF comment: 23139\n",
      "DDCF URLs ก่อนตัด: 517\n"
     ]
    }
   ],
   "source": [
    "print('DDCF comment:',df_textList2.shape[0])\n",
    "print('DDCF URLs ก่อนตัด:',len(df_textList2.URLs.unique()))"
   ]
  },
  {
   "cell_type": "code",
   "execution_count": 20,
   "metadata": {
    "executionInfo": {
     "elapsed": 1076,
     "status": "ok",
     "timestamp": 1604027716129,
     "user": {
      "displayName": "Pacharapol O.",
      "photoUrl": "https://lh3.googleusercontent.com/a-/AOh14GiBNaVjsCxoMVUqEvSDC7eauF0V2ZD7B-TzevR1TQ=s64",
      "userId": "00378494490135533545"
     },
     "user_tz": -420
    },
    "id": "7IxgQQhCTCc_"
   },
   "outputs": [],
   "source": [
    "df_Corpus = pd.concat([df_textList1,df_textList2],ignore_index=True)"
   ]
  },
  {
   "cell_type": "code",
   "execution_count": 21,
   "metadata": {
    "colab": {
     "base_uri": "https://localhost:8080/"
    },
    "executionInfo": {
     "elapsed": 885,
     "status": "ok",
     "timestamp": 1604027718134,
     "user": {
      "displayName": "Pacharapol O.",
      "photoUrl": "https://lh3.googleusercontent.com/a-/AOh14GiBNaVjsCxoMVUqEvSDC7eauF0V2ZD7B-TzevR1TQ=s64",
      "userId": "00378494490135533545"
     },
     "user_tz": -420
    },
    "id": "Xf0_nwz8TCdB",
    "outputId": "d39ed4de-8549-4488-d8c5-04e62e8a4dfd"
   },
   "outputs": [
    {
     "name": "stdout",
     "output_type": "stream",
     "text": [
      "All comment: 66188\n",
      "All URLs ก่อนตัด: 1517\n"
     ]
    }
   ],
   "source": [
    "print('All comment:',df_Corpus.shape[0])\n",
    "print('All URLs ก่อนตัด:',len(df_Corpus.URLs.unique()))"
   ]
  },
  {
   "cell_type": "code",
   "execution_count": 22,
   "metadata": {
    "colab": {
     "base_uri": "https://localhost:8080/"
    },
    "executionInfo": {
     "elapsed": 1032,
     "status": "ok",
     "timestamp": 1604027719151,
     "user": {
      "displayName": "Pacharapol O.",
      "photoUrl": "https://lh3.googleusercontent.com/a-/AOh14GiBNaVjsCxoMVUqEvSDC7eauF0V2ZD7B-TzevR1TQ=s64",
      "userId": "00378494490135533545"
     },
     "user_tz": -420
    },
    "id": "vRH0T2gLTCdE",
    "outputId": "0722d375-5945-44d8-bc71-f39dcc58a0e9"
   },
   "outputs": [
    {
     "name": "stdout",
     "output_type": "stream",
     "text": [
      "Table               0\n",
      "URLs                0\n",
      "text             4703\n",
      "Retrived_date       0\n",
      "dtype: int64\n"
     ]
    }
   ],
   "source": [
    "missing = df_Corpus.isnull().sum()\n",
    "print(missing)"
   ]
  },
  {
   "cell_type": "code",
   "execution_count": 23,
   "metadata": {
    "colab": {
     "base_uri": "https://localhost:8080/",
     "height": 202
    },
    "executionInfo": {
     "elapsed": 828,
     "status": "ok",
     "timestamp": 1604027721340,
     "user": {
      "displayName": "Pacharapol O.",
      "photoUrl": "https://lh3.googleusercontent.com/a-/AOh14GiBNaVjsCxoMVUqEvSDC7eauF0V2ZD7B-TzevR1TQ=s64",
      "userId": "00378494490135533545"
     },
     "user_tz": -420
    },
    "id": "LXg1m0eoTCdK",
    "outputId": "567e2a04-8322-4104-9f68-6d509815fd24"
   },
   "outputs": [
    {
     "data": {
      "text/html": [
       "<div>\n",
       "<style scoped>\n",
       "    .dataframe tbody tr th:only-of-type {\n",
       "        vertical-align: middle;\n",
       "    }\n",
       "\n",
       "    .dataframe tbody tr th {\n",
       "        vertical-align: top;\n",
       "    }\n",
       "\n",
       "    .dataframe thead th {\n",
       "        text-align: right;\n",
       "    }\n",
       "</style>\n",
       "<table border=\"1\" class=\"dataframe\">\n",
       "  <thead>\n",
       "    <tr style=\"text-align: right;\">\n",
       "      <th></th>\n",
       "      <th>Table</th>\n",
       "      <th>URLs</th>\n",
       "      <th>text</th>\n",
       "      <th>Retrived_date</th>\n",
       "    </tr>\n",
       "  </thead>\n",
       "  <tbody>\n",
       "    <tr>\n",
       "      <th>66183</th>\n",
       "      <td>DDFC</td>\n",
       "      <td>https://pantip.com/topic/30651064</td>\n",
       "      <td>มีหลายยี่ห้อนะค่ะ พวกจิตรดา ไทยเดนมาร์ค โฟร์โม...</td>\n",
       "      <td>2020-10-27 13:54:33.920930</td>\n",
       "    </tr>\n",
       "    <tr>\n",
       "      <th>66184</th>\n",
       "      <td>DDFC</td>\n",
       "      <td>https://pantip.com/topic/30651064</td>\n",
       "      <td>เดี๋ยวนมรสจืด ส่วนใหญ่ก็นมโคแท้ 100%ทั้งนั้นแห...</td>\n",
       "      <td>2020-10-27 13:54:33.920930</td>\n",
       "    </tr>\n",
       "    <tr>\n",
       "      <th>66185</th>\n",
       "      <td>DDFC</td>\n",
       "      <td>https://pantip.com/topic/30651064</td>\n",
       "      <td>ตามกฏหมายเอง นมโคสดแท้ 100% กับนมโคแท้ 100% ไม...</td>\n",
       "      <td>2020-10-27 13:54:33.920930</td>\n",
       "    </tr>\n",
       "    <tr>\n",
       "      <th>66186</th>\n",
       "      <td>DDFC</td>\n",
       "      <td>https://pantip.com/topic/30651064</td>\n",
       "      <td>NaN</td>\n",
       "      <td>2020-10-27 13:54:33.920930</td>\n",
       "    </tr>\n",
       "    <tr>\n",
       "      <th>66187</th>\n",
       "      <td>DDFC</td>\n",
       "      <td>https://pantip.com/topic/30651064</td>\n",
       "      <td>NaN</td>\n",
       "      <td>2020-10-27 13:54:33.920930</td>\n",
       "    </tr>\n",
       "  </tbody>\n",
       "</table>\n",
       "</div>"
      ],
      "text/plain": [
       "      Table                               URLs  \\\n",
       "66183  DDFC  https://pantip.com/topic/30651064   \n",
       "66184  DDFC  https://pantip.com/topic/30651064   \n",
       "66185  DDFC  https://pantip.com/topic/30651064   \n",
       "66186  DDFC  https://pantip.com/topic/30651064   \n",
       "66187  DDFC  https://pantip.com/topic/30651064   \n",
       "\n",
       "                                                    text  \\\n",
       "66183  มีหลายยี่ห้อนะค่ะ พวกจิตรดา ไทยเดนมาร์ค โฟร์โม...   \n",
       "66184  เดี๋ยวนมรสจืด ส่วนใหญ่ก็นมโคแท้ 100%ทั้งนั้นแห...   \n",
       "66185  ตามกฏหมายเอง นมโคสดแท้ 100% กับนมโคแท้ 100% ไม...   \n",
       "66186                                                NaN   \n",
       "66187                                                NaN   \n",
       "\n",
       "                    Retrived_date  \n",
       "66183  2020-10-27 13:54:33.920930  \n",
       "66184  2020-10-27 13:54:33.920930  \n",
       "66185  2020-10-27 13:54:33.920930  \n",
       "66186  2020-10-27 13:54:33.920930  \n",
       "66187  2020-10-27 13:54:33.920930  "
      ]
     },
     "execution_count": 23,
     "metadata": {},
     "output_type": "execute_result"
    }
   ],
   "source": [
    "df_Corpus.tail()"
   ]
  },
  {
   "cell_type": "code",
   "execution_count": 24,
   "metadata": {
    "executionInfo": {
     "elapsed": 1006,
     "status": "ok",
     "timestamp": 1604027723160,
     "user": {
      "displayName": "Pacharapol O.",
      "photoUrl": "https://lh3.googleusercontent.com/a-/AOh14GiBNaVjsCxoMVUqEvSDC7eauF0V2ZD7B-TzevR1TQ=s64",
      "userId": "00378494490135533545"
     },
     "user_tz": -420
    },
    "id": "_O0BSe9ETCdO"
   },
   "outputs": [],
   "source": [
    "seqNum = list(range(1,df_Corpus.shape[0]+1))\n",
    "df_Corpus.insert(0,'commentId',seqNum)\n",
    "df_Corpus.columns = ['commentId','Table','URLs', 'text', 'Retrived_date']"
   ]
  },
  {
   "cell_type": "code",
   "execution_count": 25,
   "metadata": {
    "colab": {
     "base_uri": "https://localhost:8080/",
     "height": 202
    },
    "executionInfo": {
     "elapsed": 811,
     "status": "ok",
     "timestamp": 1604027724691,
     "user": {
      "displayName": "Pacharapol O.",
      "photoUrl": "https://lh3.googleusercontent.com/a-/AOh14GiBNaVjsCxoMVUqEvSDC7eauF0V2ZD7B-TzevR1TQ=s64",
      "userId": "00378494490135533545"
     },
     "user_tz": -420
    },
    "id": "w-muagoxTCdR",
    "outputId": "a8afe33d-943b-422e-838d-ba8514e9497d"
   },
   "outputs": [
    {
     "data": {
      "text/html": [
       "<div>\n",
       "<style scoped>\n",
       "    .dataframe tbody tr th:only-of-type {\n",
       "        vertical-align: middle;\n",
       "    }\n",
       "\n",
       "    .dataframe tbody tr th {\n",
       "        vertical-align: top;\n",
       "    }\n",
       "\n",
       "    .dataframe thead th {\n",
       "        text-align: right;\n",
       "    }\n",
       "</style>\n",
       "<table border=\"1\" class=\"dataframe\">\n",
       "  <thead>\n",
       "    <tr style=\"text-align: right;\">\n",
       "      <th></th>\n",
       "      <th>commentId</th>\n",
       "      <th>Table</th>\n",
       "      <th>URLs</th>\n",
       "      <th>text</th>\n",
       "      <th>Retrived_date</th>\n",
       "    </tr>\n",
       "  </thead>\n",
       "  <tbody>\n",
       "    <tr>\n",
       "      <th>66183</th>\n",
       "      <td>66184</td>\n",
       "      <td>DDFC</td>\n",
       "      <td>https://pantip.com/topic/30651064</td>\n",
       "      <td>มีหลายยี่ห้อนะค่ะ พวกจิตรดา ไทยเดนมาร์ค โฟร์โม...</td>\n",
       "      <td>2020-10-27 13:54:33.920930</td>\n",
       "    </tr>\n",
       "    <tr>\n",
       "      <th>66184</th>\n",
       "      <td>66185</td>\n",
       "      <td>DDFC</td>\n",
       "      <td>https://pantip.com/topic/30651064</td>\n",
       "      <td>เดี๋ยวนมรสจืด ส่วนใหญ่ก็นมโคแท้ 100%ทั้งนั้นแห...</td>\n",
       "      <td>2020-10-27 13:54:33.920930</td>\n",
       "    </tr>\n",
       "    <tr>\n",
       "      <th>66185</th>\n",
       "      <td>66186</td>\n",
       "      <td>DDFC</td>\n",
       "      <td>https://pantip.com/topic/30651064</td>\n",
       "      <td>ตามกฏหมายเอง นมโคสดแท้ 100% กับนมโคแท้ 100% ไม...</td>\n",
       "      <td>2020-10-27 13:54:33.920930</td>\n",
       "    </tr>\n",
       "    <tr>\n",
       "      <th>66186</th>\n",
       "      <td>66187</td>\n",
       "      <td>DDFC</td>\n",
       "      <td>https://pantip.com/topic/30651064</td>\n",
       "      <td>NaN</td>\n",
       "      <td>2020-10-27 13:54:33.920930</td>\n",
       "    </tr>\n",
       "    <tr>\n",
       "      <th>66187</th>\n",
       "      <td>66188</td>\n",
       "      <td>DDFC</td>\n",
       "      <td>https://pantip.com/topic/30651064</td>\n",
       "      <td>NaN</td>\n",
       "      <td>2020-10-27 13:54:33.920930</td>\n",
       "    </tr>\n",
       "  </tbody>\n",
       "</table>\n",
       "</div>"
      ],
      "text/plain": [
       "       commentId Table                               URLs  \\\n",
       "66183      66184  DDFC  https://pantip.com/topic/30651064   \n",
       "66184      66185  DDFC  https://pantip.com/topic/30651064   \n",
       "66185      66186  DDFC  https://pantip.com/topic/30651064   \n",
       "66186      66187  DDFC  https://pantip.com/topic/30651064   \n",
       "66187      66188  DDFC  https://pantip.com/topic/30651064   \n",
       "\n",
       "                                                    text  \\\n",
       "66183  มีหลายยี่ห้อนะค่ะ พวกจิตรดา ไทยเดนมาร์ค โฟร์โม...   \n",
       "66184  เดี๋ยวนมรสจืด ส่วนใหญ่ก็นมโคแท้ 100%ทั้งนั้นแห...   \n",
       "66185  ตามกฏหมายเอง นมโคสดแท้ 100% กับนมโคแท้ 100% ไม...   \n",
       "66186                                                NaN   \n",
       "66187                                                NaN   \n",
       "\n",
       "                    Retrived_date  \n",
       "66183  2020-10-27 13:54:33.920930  \n",
       "66184  2020-10-27 13:54:33.920930  \n",
       "66185  2020-10-27 13:54:33.920930  \n",
       "66186  2020-10-27 13:54:33.920930  \n",
       "66187  2020-10-27 13:54:33.920930  "
      ]
     },
     "execution_count": 25,
     "metadata": {},
     "output_type": "execute_result"
    }
   ],
   "source": [
    "df_Corpus.tail()"
   ]
  },
  {
   "cell_type": "code",
   "execution_count": 26,
   "metadata": {
    "executionInfo": {
     "elapsed": 1166,
     "status": "ok",
     "timestamp": 1604027727940,
     "user": {
      "displayName": "Pacharapol O.",
      "photoUrl": "https://lh3.googleusercontent.com/a-/AOh14GiBNaVjsCxoMVUqEvSDC7eauF0V2ZD7B-TzevR1TQ=s64",
      "userId": "00378494490135533545"
     },
     "user_tz": -420
    },
    "id": "jZFN_aTsTCdU"
   },
   "outputs": [],
   "source": [
    "# Drop NA & banned comments\n",
    "df_Corpus = df_Corpus.dropna()\n",
    "df_Corpus = df_Corpus[df_Corpus[\"text\"].str.find('ความคิดเห็นนี้ถูกลบ')!= 0]\n",
    "df_Corpus = df_Corpus[df_Corpus[\"text\"].str.find('แก้ไขข้อความเมื่อ')!= 0]\n",
    "df_Corpus = df_Corpus.set_index('commentId')"
   ]
  },
  {
   "cell_type": "code",
   "execution_count": 27,
   "metadata": {
    "colab": {
     "base_uri": "https://localhost:8080/"
    },
    "executionInfo": {
     "elapsed": 619,
     "status": "ok",
     "timestamp": 1604027727941,
     "user": {
      "displayName": "Pacharapol O.",
      "photoUrl": "https://lh3.googleusercontent.com/a-/AOh14GiBNaVjsCxoMVUqEvSDC7eauF0V2ZD7B-TzevR1TQ=s64",
      "userId": "00378494490135533545"
     },
     "user_tz": -420
    },
    "id": "ki-qD4YMTCdX",
    "outputId": "3102d8b3-3251-463e-f3e2-50a119fe787b"
   },
   "outputs": [
    {
     "name": "stdout",
     "output_type": "stream",
     "text": [
      "Table            0\n",
      "URLs             0\n",
      "text             0\n",
      "Retrived_date    0\n",
      "dtype: int64\n"
     ]
    }
   ],
   "source": [
    "missing = df_Corpus.isnull().sum()\n",
    "print(missing)"
   ]
  },
  {
   "cell_type": "code",
   "execution_count": 28,
   "metadata": {
    "colab": {
     "base_uri": "https://localhost:8080/"
    },
    "executionInfo": {
     "elapsed": 1135,
     "status": "ok",
     "timestamp": 1604027730567,
     "user": {
      "displayName": "Pacharapol O.",
      "photoUrl": "https://lh3.googleusercontent.com/a-/AOh14GiBNaVjsCxoMVUqEvSDC7eauF0V2ZD7B-TzevR1TQ=s64",
      "userId": "00378494490135533545"
     },
     "user_tz": -420
    },
    "id": "c0J7GD3ATCda",
    "outputId": "f8748ddd-9aab-40d2-ee9e-38ba742906b7"
   },
   "outputs": [
    {
     "name": "stdout",
     "output_type": "stream",
     "text": [
      "จำนวน comment หลังตัด: 60545\n",
      "จำนวนกระทู้หลังตัด: 1514\n"
     ]
    }
   ],
   "source": [
    "print('จำนวน comment หลังตัด:',df_Corpus.shape[0])\n",
    "print('จำนวนกระทู้หลังตัด:',len(df_Corpus.URLs.unique()))"
   ]
  },
  {
   "cell_type": "code",
   "execution_count": 29,
   "metadata": {
    "colab": {
     "base_uri": "https://localhost:8080/",
     "height": 233
    },
    "executionInfo": {
     "elapsed": 890,
     "status": "ok",
     "timestamp": 1604027730892,
     "user": {
      "displayName": "Pacharapol O.",
      "photoUrl": "https://lh3.googleusercontent.com/a-/AOh14GiBNaVjsCxoMVUqEvSDC7eauF0V2ZD7B-TzevR1TQ=s64",
      "userId": "00378494490135533545"
     },
     "user_tz": -420
    },
    "id": "PKvz8tQpTCdd",
    "outputId": "62e2d990-0240-4a01-cef5-515147c6750c"
   },
   "outputs": [
    {
     "data": {
      "text/html": [
       "<div>\n",
       "<style scoped>\n",
       "    .dataframe tbody tr th:only-of-type {\n",
       "        vertical-align: middle;\n",
       "    }\n",
       "\n",
       "    .dataframe tbody tr th {\n",
       "        vertical-align: top;\n",
       "    }\n",
       "\n",
       "    .dataframe thead th {\n",
       "        text-align: right;\n",
       "    }\n",
       "</style>\n",
       "<table border=\"1\" class=\"dataframe\">\n",
       "  <thead>\n",
       "    <tr style=\"text-align: right;\">\n",
       "      <th></th>\n",
       "      <th>Table</th>\n",
       "      <th>URLs</th>\n",
       "      <th>text</th>\n",
       "      <th>Retrived_date</th>\n",
       "      <th>token_text</th>\n",
       "    </tr>\n",
       "    <tr>\n",
       "      <th>commentId</th>\n",
       "      <th></th>\n",
       "      <th></th>\n",
       "      <th></th>\n",
       "      <th></th>\n",
       "      <th></th>\n",
       "    </tr>\n",
       "  </thead>\n",
       "  <tbody>\n",
       "    <tr>\n",
       "      <th>66181</th>\n",
       "      <td>DDFC</td>\n",
       "      <td>https://pantip.com/topic/30651064</td>\n",
       "      <td>นมผง คือเอานมดิบดีๆ มาคัดไขมันนมและอื่นๆออกไปใ...</td>\n",
       "      <td>2020-10-27 13:54:33.920930</td>\n",
       "      <td>None</td>\n",
       "    </tr>\n",
       "    <tr>\n",
       "      <th>66182</th>\n",
       "      <td>DDFC</td>\n",
       "      <td>https://pantip.com/topic/30651064</td>\n",
       "      <td>นมสด รสชาติมันดีนะ\\r\\nเพราะมีปริมาณไขมันสูง ดั...</td>\n",
       "      <td>2020-10-27 13:54:33.920930</td>\n",
       "      <td>None</td>\n",
       "    </tr>\n",
       "    <tr>\n",
       "      <th>66184</th>\n",
       "      <td>DDFC</td>\n",
       "      <td>https://pantip.com/topic/30651064</td>\n",
       "      <td>มีหลายยี่ห้อนะค่ะ พวกจิตรดา ไทยเดนมาร์ค โฟร์โม...</td>\n",
       "      <td>2020-10-27 13:54:33.920930</td>\n",
       "      <td>None</td>\n",
       "    </tr>\n",
       "    <tr>\n",
       "      <th>66185</th>\n",
       "      <td>DDFC</td>\n",
       "      <td>https://pantip.com/topic/30651064</td>\n",
       "      <td>เดี๋ยวนมรสจืด ส่วนใหญ่ก็นมโคแท้ 100%ทั้งนั้นแห...</td>\n",
       "      <td>2020-10-27 13:54:33.920930</td>\n",
       "      <td>None</td>\n",
       "    </tr>\n",
       "    <tr>\n",
       "      <th>66186</th>\n",
       "      <td>DDFC</td>\n",
       "      <td>https://pantip.com/topic/30651064</td>\n",
       "      <td>ตามกฏหมายเอง นมโคสดแท้ 100% กับนมโคแท้ 100% ไม...</td>\n",
       "      <td>2020-10-27 13:54:33.920930</td>\n",
       "      <td>None</td>\n",
       "    </tr>\n",
       "  </tbody>\n",
       "</table>\n",
       "</div>"
      ],
      "text/plain": [
       "          Table                               URLs  \\\n",
       "commentId                                            \n",
       "66181      DDFC  https://pantip.com/topic/30651064   \n",
       "66182      DDFC  https://pantip.com/topic/30651064   \n",
       "66184      DDFC  https://pantip.com/topic/30651064   \n",
       "66185      DDFC  https://pantip.com/topic/30651064   \n",
       "66186      DDFC  https://pantip.com/topic/30651064   \n",
       "\n",
       "                                                        text  \\\n",
       "commentId                                                      \n",
       "66181      นมผง คือเอานมดิบดีๆ มาคัดไขมันนมและอื่นๆออกไปใ...   \n",
       "66182      นมสด รสชาติมันดีนะ\\r\\nเพราะมีปริมาณไขมันสูง ดั...   \n",
       "66184      มีหลายยี่ห้อนะค่ะ พวกจิตรดา ไทยเดนมาร์ค โฟร์โม...   \n",
       "66185      เดี๋ยวนมรสจืด ส่วนใหญ่ก็นมโคแท้ 100%ทั้งนั้นแห...   \n",
       "66186      ตามกฏหมายเอง นมโคสดแท้ 100% กับนมโคแท้ 100% ไม...   \n",
       "\n",
       "                        Retrived_date token_text  \n",
       "commentId                                         \n",
       "66181      2020-10-27 13:54:33.920930       None  \n",
       "66182      2020-10-27 13:54:33.920930       None  \n",
       "66184      2020-10-27 13:54:33.920930       None  \n",
       "66185      2020-10-27 13:54:33.920930       None  \n",
       "66186      2020-10-27 13:54:33.920930       None  "
      ]
     },
     "execution_count": 29,
     "metadata": {},
     "output_type": "execute_result"
    }
   ],
   "source": [
    "df_Corpus.insert(4,'token_text',None)\n",
    "#df_Corpus.insert(5,'token_sound',None)\n",
    "#df_Corpus.insert(6,'token_tag',None)\n",
    "df_Corpus.tail()"
   ]
  },
  {
   "cell_type": "markdown",
   "metadata": {},
   "source": [
    "เก็บเฉพาะหัวกระทู้"
   ]
  },
  {
   "cell_type": "code",
   "execution_count": 30,
   "metadata": {},
   "outputs": [
    {
     "data": {
      "text/html": [
       "<div>\n",
       "<style scoped>\n",
       "    .dataframe tbody tr th:only-of-type {\n",
       "        vertical-align: middle;\n",
       "    }\n",
       "\n",
       "    .dataframe tbody tr th {\n",
       "        vertical-align: top;\n",
       "    }\n",
       "\n",
       "    .dataframe thead th {\n",
       "        text-align: right;\n",
       "    }\n",
       "</style>\n",
       "<table border=\"1\" class=\"dataframe\">\n",
       "  <thead>\n",
       "    <tr style=\"text-align: right;\">\n",
       "      <th></th>\n",
       "      <th>URLs</th>\n",
       "      <th>text</th>\n",
       "      <th>token_text</th>\n",
       "      <th>mention_product</th>\n",
       "      <th>mention_brand</th>\n",
       "    </tr>\n",
       "    <tr>\n",
       "      <th>commentId</th>\n",
       "      <th></th>\n",
       "      <th></th>\n",
       "      <th></th>\n",
       "      <th></th>\n",
       "      <th></th>\n",
       "    </tr>\n",
       "  </thead>\n",
       "  <tbody>\n",
       "    <tr>\n",
       "      <th>65991</th>\n",
       "      <td>https://pantip.com/topic/30007179</td>\n",
       "      <td>กำลังจะเป็นคุณแม่มือใหม่ค่ะ ทำตัวไม่ถูกเลยค่ะ\\...</td>\n",
       "      <td>None</td>\n",
       "      <td>None</td>\n",
       "      <td>None</td>\n",
       "    </tr>\n",
       "    <tr>\n",
       "      <th>66015</th>\n",
       "      <td>https://pantip.com/topic/30020409</td>\n",
       "      <td>พรุ่งนี้ลูกชายอายุครบ 1 ขวบ 3 เดือน หม่ำนมแม่จ...</td>\n",
       "      <td>None</td>\n",
       "      <td>None</td>\n",
       "      <td>None</td>\n",
       "    </tr>\n",
       "    <tr>\n",
       "      <th>66044</th>\n",
       "      <td>https://pantip.com/topic/30049123</td>\n",
       "      <td>เพื่อนๆทุกคนคงคุ้นเคยกับคำถามนี้แล้วทุกคน... \"...</td>\n",
       "      <td>None</td>\n",
       "      <td>None</td>\n",
       "      <td>None</td>\n",
       "    </tr>\n",
       "    <tr>\n",
       "      <th>66074</th>\n",
       "      <td>https://pantip.com/topic/30011023</td>\n",
       "      <td>แตกกระทู้มาจาก www.pantip.com/topic/30007146/\\...</td>\n",
       "      <td>None</td>\n",
       "      <td>None</td>\n",
       "      <td>None</td>\n",
       "    </tr>\n",
       "    <tr>\n",
       "      <th>66132</th>\n",
       "      <td>https://pantip.com/topic/30651064</td>\n",
       "      <td>อยากรู้ว่าปัจจุบันพวกนมกล่องทึ่ขายใน 7-11 หรือ...</td>\n",
       "      <td>None</td>\n",
       "      <td>None</td>\n",
       "      <td>None</td>\n",
       "    </tr>\n",
       "  </tbody>\n",
       "</table>\n",
       "</div>"
      ],
      "text/plain": [
       "                                        URLs  \\\n",
       "commentId                                      \n",
       "65991      https://pantip.com/topic/30007179   \n",
       "66015      https://pantip.com/topic/30020409   \n",
       "66044      https://pantip.com/topic/30049123   \n",
       "66074      https://pantip.com/topic/30011023   \n",
       "66132      https://pantip.com/topic/30651064   \n",
       "\n",
       "                                                        text token_text  \\\n",
       "commentId                                                                 \n",
       "65991      กำลังจะเป็นคุณแม่มือใหม่ค่ะ ทำตัวไม่ถูกเลยค่ะ\\...       None   \n",
       "66015      พรุ่งนี้ลูกชายอายุครบ 1 ขวบ 3 เดือน หม่ำนมแม่จ...       None   \n",
       "66044      เพื่อนๆทุกคนคงคุ้นเคยกับคำถามนี้แล้วทุกคน... \"...       None   \n",
       "66074      แตกกระทู้มาจาก www.pantip.com/topic/30007146/\\...       None   \n",
       "66132      อยากรู้ว่าปัจจุบันพวกนมกล่องทึ่ขายใน 7-11 หรือ...       None   \n",
       "\n",
       "          mention_product mention_brand  \n",
       "commentId                                \n",
       "65991                None          None  \n",
       "66015                None          None  \n",
       "66044                None          None  \n",
       "66074                None          None  \n",
       "66132                None          None  "
      ]
     },
     "execution_count": 30,
     "metadata": {},
     "output_type": "execute_result"
    }
   ],
   "source": [
    "df_thread = df_Corpus.copy()\n",
    "df_thread = df_thread[['URLs','text']]\n",
    "df_thread.drop_duplicates(subset =\"URLs\", keep = 'first', inplace = True)\n",
    "df_thread.insert(2,'token_text',None)\n",
    "df_thread.insert(3,'mention_product',None)\n",
    "df_thread.insert(4,'mention_brand',None)\n",
    "df_thread.tail()"
   ]
  },
  {
   "cell_type": "markdown",
   "metadata": {
    "id": "EpwX95XlTCdl"
   },
   "source": [
    "## 2.ตัดคำและเก็บลง MongoDB (ใช้ insight จาก jupyter งานก่อน)"
   ]
  },
  {
   "cell_type": "markdown",
   "metadata": {
    "id": "6U__d4agTCdl"
   },
   "source": [
    "https://www.thainlp.org/pythainlp/tutorials/notebooks/pythainlp-get-started.html#Thai-Characters"
   ]
  },
  {
   "cell_type": "code",
   "execution_count": 31,
   "metadata": {
    "executionInfo": {
     "elapsed": 962,
     "status": "ok",
     "timestamp": 1604030224171,
     "user": {
      "displayName": "Pacharapol O.",
      "photoUrl": "https://lh3.googleusercontent.com/a-/AOh14GiBNaVjsCxoMVUqEvSDC7eauF0V2ZD7B-TzevR1TQ=s64",
      "userId": "00378494490135533545"
     },
     "user_tz": -420
    },
    "id": "rAcuuoYiTCdu"
   },
   "outputs": [],
   "source": [
    "garbage_char = ['',' ','🥺','\\r','\\n','\\r\\n','\\xa0','www','application','ทางกฎหมาย','html'\n",
    "                ,'http','https','url','com','pantip','topic','_','–','พันทิป','^^'\n",
    "                ,'นะค่ะ','นะคะ','น่ะค่ะ','ฯ','ๆ','แฮ่','เย่ๆๆ','ว๊าว','ฮิ้วววววววววว','Number','กก'\n",
    "                ,'เมนู','Menu','Net','net','สาขา','บาท','ราคา','(',')','ฯ','ๆ','กก','อันนี้','%s','😆', '🤣','😢'\n",
    "                ,'😏','😂','😿','ววว','xx','อิอิ','แย้ววว','นะคะ','นะค่ะ','://','มกราคม', 'กุมภาพันธ์'\n",
    "                ,'มีนาคม', 'เมษายน','พฤษภาคม', 'มิถุนายน', 'กรกฎาคม', 'สิงหาคม','กันยายน', 'ตุลาคม'\n",
    "                ,'พฤศจิกายน', 'ธันวาคม']\n",
    "garbage_char  = garbage_char + list_punc"
   ]
  },
  {
   "cell_type": "code",
   "execution_count": 32,
   "metadata": {
    "colab": {
     "base_uri": "https://localhost:8080/"
    },
    "executionInfo": {
     "elapsed": 813,
     "status": "ok",
     "timestamp": 1604027849933,
     "user": {
      "displayName": "Pacharapol O.",
      "photoUrl": "https://lh3.googleusercontent.com/a-/AOh14GiBNaVjsCxoMVUqEvSDC7eauF0V2ZD7B-TzevR1TQ=s64",
      "userId": "00378494490135533545"
     },
     "user_tz": -420
    },
    "id": "mAwAGA5ITCdx",
    "outputId": "d95e59bb-b35e-4592-f16e-0915a7975f84"
   },
   "outputs": [
    {
     "name": "stdout",
     "output_type": "stream",
     "text": [
      "จำนวน comment หลังตัด: 60545\n",
      "จำนวนกระทู้หลังตัด: 1514\n"
     ]
    }
   ],
   "source": [
    "print('จำนวน comment หลังตัด:',df_Corpus.shape[0])\n",
    "print('จำนวนกระทู้หลังตัด:',len(df_Corpus.URLs.unique()))"
   ]
  },
  {
   "cell_type": "code",
   "execution_count": 33,
   "metadata": {
    "executionInfo": {
     "elapsed": 2296,
     "status": "ok",
     "timestamp": 1604030226424,
     "user": {
      "displayName": "Pacharapol O.",
      "photoUrl": "https://lh3.googleusercontent.com/a-/AOh14GiBNaVjsCxoMVUqEvSDC7eauF0V2ZD7B-TzevR1TQ=s64",
      "userId": "00378494490135533545"
     },
     "user_tz": -420
    },
    "id": "8D5MebxcTCd0"
   },
   "outputs": [],
   "source": [
    "custom_list = ['ดัชมิลล์','ดัชมิล','dutch mill','dutchmilk','ดัชชี่','เมจิ','ซีพีเมจิ','ซีพี-เมจิ','cp-meiji','betagen','บีทาเก้น','บีทาเกน'\n",
    "               ,'โฟร์โมสต์','โฟร์โมส','โฟโมสต์','โฟโมต','โฟรโมสต์','โชคชัย','แดรี่โฮม','dairy home','เดรี่โฮม','อืมม มิลค์'\n",
    "               ,'Umm! Milk','เอ็มมิลค์','mmilk','เอ็มมิ้ลค์','แมคโนเลีย','นมฟาร์มโชคชัย','นมไทย-เดนมาร์ค','ไทยเดนมาร์ค','วัวแดง','หนองโพ','คาเนชั่น'\n",
    "               ,'สตอเบอร์รี่','สตรอว์เบอร์รี','รสสตรอเบอรี่','สตรอเบอรี่','สตรอวเบอรี่','สตอเบอรี่','สตรอเบอรี่','รสกาแฟ'\n",
    "               ,'ชอคโกแล็ต','ช็อกโกแลต','ช็อคโกแลต','ช๊อกโกแลต','ช็อคโกแล็ต','ช็อกโกเลต','มิ้นท์ชอค','มิ้นต์ช้อก','รสกล้วย'\n",
    "               ,'รสกาแฟ','รสหวาน','รสจืด','ไขมันต่ำ','ไขมัน 0%','low fat','0% fat','ขาดมันเนย','พร่องมันเนย','ไฮแคลเซียม'\n",
    "               ,'high protein','Hi Protein','HIgh Protein','Whey Formula','วานิลลา'\n",
    "               ,'ไฮโปรตีน','เวย์โปรตีน','whey','เวย์','อัลมอนด์','ซีเล็ค','ซีเล็คท์','กล้วยหอม','ไวท์คอฟฟี่','คาปูชิโน่','อเมริกาโน่'\n",
    "               ,'grass fed','free lactose','lactose free','พาสเจอไรซ์','พาสเจอร์ไรซ์','พาสเจอร์ไรส์','พาซเจอไรซ์','พาสเจอร์ไลท์'\n",
    "               ,'เมจิโกลด์ แม็กซ์','เมจิโกลด์','เมจิโกล์ดแม็กซ์','เมจิ บัลแกเรีย','เมจิบัลแกเรีย','นมเปรี้ยว','รสธรรมชาติ','รสกลมกล่อม'\n",
    "               ,'โยเกิต','โยเกิรต','โยเกิร์ตพร้อมดื่ม','น้ำตาลมะพร้าว','นมฮอกไกโด','เบดไทม์','ฟรีแลคโตส','แลคโตสฟรี','ริชเอสเพสโซ่'\n",
    "               ,'bedtime','bed time','เบดไทม์','ดาร์คช็อกโกแลต','ดาร์กช็อก','ดาร์กช็อกโกแลต'\n",
    "               ,'คาราเมล','ช็อกโกมอลต์','เมล่อน','ชาเขียวมัจฉะ','ฝาน้ำเงิน'\n",
    "               ,'7-Eleven','เซเว่น อีเลฟเว่น','เซเว่นอีเลฟเว่น','เซเว่น','เซเวน','7/11','7-11'\n",
    "               ,'ท็อปส์','ทอปส์','ท้อปส์','ท๊อปส์','แมคโคร','แม็คโคร','โลตัส','บิ๊กซี','bigc','Golden place','Big C'\n",
    "               ,'ขายไม่ดี','แพคคู่','ค่าจัดส่ง','shelf life','พนักงานขายนม'               \n",
    "               ,'ซื้อประจำ','ซื้อไม่ได้','ของแถม','ราคาสูง','น้ำนมโค'\n",
    "               ,'แพ้นม','แพ้นมวัว','เล่นเวท','นำ้หนัก','คุณแม่มือใหม่','นมอุ่น','ชานม','กินนม','ดื่มนม','ท้องเสีย','ขี้แตก'\n",
    "               ,'คีเฟอร์นม','พันทิป','ร้านนม','ซื้อไม่ได้','ลูกสุนัข','ลูกหมา','คายทิ้ง','เจมส์ จิ','เจมส์จิ','สตอรี่'\n",
    "              ]\n",
    "words = set(thai_words()).union(set(custom_list))\n",
    "#custom_tokenizer = Tokenizer(engine='ulmfit', custom_dict=words, keep_whitespace=False)\n",
    "trie = dict_trie(dict_source=words)"
   ]
  },
  {
   "cell_type": "code",
   "execution_count": 34,
   "metadata": {},
   "outputs": [],
   "source": [
    "#https://github.com/PyThaiNLP/pythainlp-corpus/releases/tag/wiki_lm_lstm-v0.32\n",
    "\n",
    "#from pythainlp.ulmfit import (replace_rep_after,fix_html,ungroup_emoji,replace_wrep_post,remove_space)"
   ]
  },
  {
   "cell_type": "code",
   "execution_count": 35,
   "metadata": {},
   "outputs": [],
   "source": [
    "def tokenize_custom(x, cusDict):\n",
    "    wtkn = word_tokenize(x, engine=\"newmm\", custom_dict=cusDict, keep_whitespace=False)\n",
    "    wtkn = checkStopwords(wtkn)\n",
    "    wtkn = [x for x in wtkn if len(x) >= 2]\n",
    "    wtkn = [y for y in wtkn if y not in garbage_char]\n",
    "    wtkn = [s for s in wtkn if not s.isdigit()]\n",
    "    wtkn = normThai(wtkn)\n",
    "    return wtkn"
   ]
  },
  {
   "cell_type": "code",
   "execution_count": 36,
   "metadata": {},
   "outputs": [],
   "source": [
    "def create_InsertMany_Thread(df):\n",
    "    listofdict = []\n",
    "    for c,lx in enumerate(df.URLs,0):\n",
    "        info = {\n",
    "            \"URLs\": lx,\n",
    "            \"text\": df.text[c],\n",
    "            \"token_text\":df.token_text[c],\n",
    "            \"t_mention_product\": df.t_mention_product[c],\n",
    "            \"t_mention_brand\": df.t_mention_brand[c]\n",
    "        }\n",
    "        listofdict.append(info)\n",
    "    return listofdict"
   ]
  },
  {
   "cell_type": "code",
   "execution_count": 37,
   "metadata": {},
   "outputs": [],
   "source": [
    "def create_InsertMany_comments(df):\n",
    "    listofdict = []\n",
    "    for c,lx in enumerate(df.URLs,0):\n",
    "        info = {\n",
    "            \"commentId\":int(df.commentId[c]),\n",
    "            \"Table\": df.Table[c],\n",
    "            \"URLs\": lx,\n",
    "            \"text\": df.text[c],\n",
    "            \"Retrived_date\": df.Retrived_date[c],\n",
    "            \"token_text\":df.token_text[c],\n",
    "            \"cmt_mention_product\": df.cmt_mention_product[c],\n",
    "            \"cmt_mention_brand\": df.cmt_mention_brand[c]\n",
    "        }\n",
    "        listofdict.append(info)\n",
    "    return listofdict"
   ]
  },
  {
   "cell_type": "code",
   "execution_count": 38,
   "metadata": {},
   "outputs": [],
   "source": [
    "def generalize_keyword(wtkn):  \n",
    "    ret_wtkn = wtkn\n",
    "    for i,each in enumerate(ret_wtkn,0):\n",
    "        if each in ['ดัชมิลล์','ดัชมิล','dutch mill','dutchmilk','ดัชชี่']:\n",
    "            ret_wtkn[i] = 'ดัชมิลล์'\n",
    "        elif each  in ['เมจิ','ซีพีเมจิ','ซีพี-เมจิ','cp-meiji','meiji','meji','miji']:\n",
    "            ret_wtkn[i] = 'เมจิ'\n",
    "        elif each  in ['โฟร์โมสต์','โฟร์โมส','โฟโมสต์','โฟรโมสต์','โฟโมต','foremost']:\n",
    "            ret_wtkn[i] = 'โฟร์โมสต์'\n",
    "        elif each  in ['แดรี่โฮม','dairy home','เดรี่โฮม']:\n",
    "            ret_wtkn[i] = 'แดรี่โฮม'\n",
    "        elif each  in ['โชคชัย','อืมม มิลค์','umm milk','นมฟาร์มโชคชัย']:\n",
    "            ret_wtkn[i] = 'โชคชัย'\n",
    "        elif each  in ['เอ็มมิลค์','mmilk','เอ็มมิ้ลค์']:\n",
    "            ret_wtkn[i] = 'เอ็มมิลค์'\n",
    "        elif each  in ['นมไทย-เดนมาร์ค','ไทยเดนมาร์ค','วัวแดง']:\n",
    "            ret_wtkn[i] = 'ไทยเดนมาร์ค'\n",
    "        elif each  in ['สตอเบอร์รี่','สตรอว์เบอร์รี','รสสตรอเบอรี่','สตอเบอรี่','สตรอเบอรี่','สตรอวเบอรี่']:\n",
    "            ret_wtkn[i] = 'สตรอว์เบอร์รี'\n",
    "        elif each  in ['ชอคโกแล็ต','ช็อกโกแลต','ช็อคโกแลต','ช๊อกโกแลต','ช็อคโกแล็ต','ช็อกโกเลต','ช็อค']:\n",
    "            ret_wtkn[i] = 'ช็อกโกแลต'\n",
    "        elif each  in ['มิ้นท์ชอค','มิ้นต์ช้อก','ช็อคโกแลตมินต์','มินต์ช็อคโกแลต']:\n",
    "            ret_wtkn[i] = 'ช็อกโกแลตมินต์'\n",
    "        elif each  in ['ไขมันต่ำ','low fat','พร่องมันเนย']:\n",
    "            ret_wtkn[i] = 'ไขมันต่ำ'\n",
    "        elif each  in ['ไขมัน 0%','0% fat','ขาดมันเนย']:\n",
    "            ret_wtkn[i] = 'ไขมัน 0%'\n",
    "        elif each  in ['high protein','hi protein','ไฮโปรตีน','เวย์โปรตีน']:\n",
    "            ret_wtkn[i] = 'ไฮโปรตีน'\n",
    "        elif each  in ['free lactose','lactose free','ฟรีแลคโตส','แลคโตสฟรี']:\n",
    "            ret_wtkn[i] = 'นมฟรีแลคโตส'\n",
    "        elif each  in ['พาสเจอไรซ์','พาสเจอร์ไรซ์','พาสเจอร์ไรส์','พาซเจอไรซ์','พาสเจอร์ไลท์']:\n",
    "            ret_wtkn[i] = 'พาสเจอร์ไรส์'\n",
    "        elif each  in ['เมจิโกลด์ แม็กซ์','เมจิโกลด์','เมจิโกล์ดแม็กซ์','gold','gold max']:\n",
    "            ret_wtkn[i] = 'เมจิโกลด์'\n",
    "        elif each  in ['ฝาน้ำเงิน','รสจืด']:\n",
    "            ret_wtkn[i] = 'รสจืด'\n",
    "        elif each  in ['ท็อปส์','ทอปส์','ท้อปส์','ท๊อปส์','tops']:\n",
    "            ret_wtkn[i] = 'tops'\n",
    "        elif each  in ['แมคโคร','แม็คโคร','makro']:\n",
    "            ret_wtkn[i] = 'makro'\n",
    "        elif each  in ['โลตัส','lotus']:\n",
    "            ret_wtkn[i] = 'lotus'\n",
    "        elif each  in ['บิ๊กซี','bigc','Big C']:\n",
    "            ret_wtkn[i] = 'bigc'\n",
    "        elif each  in ['ท้องเสีย','ขี้แตก']:\n",
    "            ret_wtkn[i] = 'ท้องเสีย'\n",
    "        elif each  in ['ลูกสุนัข','ลูกหมา']:\n",
    "            ret_wtkn[i] = 'ลูกสุนัข'\n",
    "        elif each in ['ดาร์คช็อกโกแลต','ดาร์กช็อก','ดาร์กช็อกโกแลต']:\n",
    "            ret_wtkn[i] = 'ดาร์คช็อกโกแลต'\n",
    "        elif each in ['bedtime','bed time','เบดไทม์']:\n",
    "            ret_wtkn[i] = 'เบดไทม์'\n",
    "        elif each in ['เมจิ บัลแกเรีย','เมจิบัลแกเรีย']:\n",
    "            ret_wtkn[i] = 'เมจิบัลแกเรีย'\n",
    "        elif each in ['โยเกิร์ต','โยเกิต','โยเกิรต','โยเกิร์ตพร้อมดื่ม']:\n",
    "            ret_wtkn[i] = 'โยเกิร์ต'\n",
    "        elif each in ['7-Eleven','เซเว่น อีเลฟเว่น','เซเว่นอีเลฟเว่น','เซเว่น','เซเวน','7/11','7-11']:\n",
    "            ret_wtkn[i] = '7-Eleven'\n",
    "        elif each in ['บีทาเก้น','บีทาเกน']:\n",
    "            ret_wtkn[i] = 'บีทาเก้น'\n",
    "    return ret_wtkn"
   ]
  },
  {
   "cell_type": "code",
   "execution_count": 39,
   "metadata": {},
   "outputs": [],
   "source": [
    "def find_brands_product(x,catType):\n",
    "    ret_wtkn = []\n",
    "    brands = ['ดัชมิลล์','เมจิ','โฟร์โมสต์','โชคชัย','แดรี่โฮม','เอ็มมิลค์','แมคโนเลีย','ไทยเดนมาร์ค','หนองโพ','คาเนชั่น','บีทาเก้น','จิตรลดา']\n",
    "    products = ['นม','\"นม\"','สตรอว์เบอร์รี','ช็อกโกแลต','รสกาแฟ','รสหวาน','รสจืด','ไขมันต่ำ','ไขมัน 0%','ไฮโปรตีน','อัลมอนด์'\n",
    "                ,'รสกล้วย','grass fed','นมฟรีแลคโตส','พาสเจอร์ไรส์','เมจิโกลด์','นมฮอกไกโด','เบดไทม์','ดาร์คช็อกโกแลต','ไฮแคลเซียม'\n",
    "                ,'คาราเมล','มอลต์','เมล่อน','ชาเขียวมัจฉะ','บัลแกเรีย','โยเกิร์ต','รสธรรมชาติ','รสกลมกล่อม','โยเกิร์ต','ซากุระ']\n",
    "    \n",
    "    choiceList = []\n",
    "    if catType == 'b':\n",
    "        choiceList = brands\n",
    "    else:\n",
    "        choiceList = products\n",
    "        \n",
    "    for i,each in enumerate(x,0):\n",
    "        if each in choiceList:\n",
    "            ret_wtkn.append(each)\n",
    "    return ret_wtkn"
   ]
  },
  {
   "cell_type": "markdown",
   "metadata": {},
   "source": [
    "#### Copy ชุดคำจาก File มา Process ก่อนลง MongoDB"
   ]
  },
  {
   "cell_type": "code",
   "execution_count": 40,
   "metadata": {},
   "outputs": [],
   "source": [
    "df_process_comment = df_Corpus.reset_index().copy()\n",
    "df_process_thread = df_thread.reset_index().copy()"
   ]
  },
  {
   "cell_type": "markdown",
   "metadata": {},
   "source": [
    "2.1) Tokenize comment"
   ]
  },
  {
   "cell_type": "code",
   "execution_count": 41,
   "metadata": {},
   "outputs": [],
   "source": [
    "df_process_comment['token_text'] = df_process_comment['text'].apply(lambda x: tokenize_custom(x,trie))"
   ]
  },
  {
   "cell_type": "code",
   "execution_count": 42,
   "metadata": {},
   "outputs": [
    {
     "data": {
      "text/html": [
       "<div>\n",
       "<style scoped>\n",
       "    .dataframe tbody tr th:only-of-type {\n",
       "        vertical-align: middle;\n",
       "    }\n",
       "\n",
       "    .dataframe tbody tr th {\n",
       "        vertical-align: top;\n",
       "    }\n",
       "\n",
       "    .dataframe thead th {\n",
       "        text-align: right;\n",
       "    }\n",
       "</style>\n",
       "<table border=\"1\" class=\"dataframe\">\n",
       "  <thead>\n",
       "    <tr style=\"text-align: right;\">\n",
       "      <th></th>\n",
       "      <th>commentId</th>\n",
       "      <th>Table</th>\n",
       "      <th>URLs</th>\n",
       "      <th>text</th>\n",
       "      <th>Retrived_date</th>\n",
       "      <th>token_text</th>\n",
       "    </tr>\n",
       "  </thead>\n",
       "  <tbody>\n",
       "    <tr>\n",
       "      <th>0</th>\n",
       "      <td>1</td>\n",
       "      <td>Meiji</td>\n",
       "      <td>https://pantip.com/topic/39868603</td>\n",
       "      <td>เมื่อก่อนหลายปีมาแล้ว ในเซเว่นยังมีนมเมจิรสหวา...</td>\n",
       "      <td>2020-10-26 12:40:26.135083</td>\n",
       "      <td>[ปี, เซเว่น, ยังมี, นม, เมจิ, รสหวาน, ขาย, อยู...</td>\n",
       "    </tr>\n",
       "    <tr>\n",
       "      <th>1</th>\n",
       "      <td>2</td>\n",
       "      <td>Meiji</td>\n",
       "      <td>https://pantip.com/topic/39868603</td>\n",
       "      <td>เบาหวานครับ แฮ่ๆ</td>\n",
       "      <td>2020-10-26 12:40:26.135083</td>\n",
       "      <td>[เบาหวาน]</td>\n",
       "    </tr>\n",
       "    <tr>\n",
       "      <th>2</th>\n",
       "      <td>3</td>\n",
       "      <td>Meiji</td>\n",
       "      <td>https://pantip.com/topic/39868603</td>\n",
       "      <td>หาซื้อไม่ได้นี่คิดได้  2 อย่างนะ.    คนไม่ค่อย...</td>\n",
       "      <td>2020-10-26 12:40:26.135083</td>\n",
       "      <td>[หา, ซื้อไม่ได้, คิดได้, , .    คน, กินกัน, ไม...</td>\n",
       "    </tr>\n",
       "    <tr>\n",
       "      <th>3</th>\n",
       "      <td>4</td>\n",
       "      <td>Meiji</td>\n",
       "      <td>https://pantip.com/topic/39868603</td>\n",
       "      <td>เป็นรสที่ขายไม่ดีครับ\\r\\nรสพื้นฐานคือ\\r\\nจืด แ...</td>\n",
       "      <td>2020-10-26 12:40:26.135083</td>\n",
       "      <td>[รส, ขายไม่ดี, รส, พื้นฐาน, จืด, แบ่ง, %,, low...</td>\n",
       "    </tr>\n",
       "    <tr>\n",
       "      <th>4</th>\n",
       "      <td>5</td>\n",
       "      <td>Meiji</td>\n",
       "      <td>https://pantip.com/topic/39868603</td>\n",
       "      <td>ถ้าขายไม่ดีเค้าก็เอาออกครับ shelf life มันน้อย...</td>\n",
       "      <td>2020-10-26 12:40:26.135083</td>\n",
       "      <td>[ขายไม่ดี, เค้า, shelf life, เวลา, หมดอายุ, ค่...</td>\n",
       "    </tr>\n",
       "  </tbody>\n",
       "</table>\n",
       "</div>"
      ],
      "text/plain": [
       "   commentId  Table                               URLs  \\\n",
       "0          1  Meiji  https://pantip.com/topic/39868603   \n",
       "1          2  Meiji  https://pantip.com/topic/39868603   \n",
       "2          3  Meiji  https://pantip.com/topic/39868603   \n",
       "3          4  Meiji  https://pantip.com/topic/39868603   \n",
       "4          5  Meiji  https://pantip.com/topic/39868603   \n",
       "\n",
       "                                                text  \\\n",
       "0  เมื่อก่อนหลายปีมาแล้ว ในเซเว่นยังมีนมเมจิรสหวา...   \n",
       "1                                   เบาหวานครับ แฮ่ๆ   \n",
       "2  หาซื้อไม่ได้นี่คิดได้  2 อย่างนะ.    คนไม่ค่อย...   \n",
       "3  เป็นรสที่ขายไม่ดีครับ\\r\\nรสพื้นฐานคือ\\r\\nจืด แ...   \n",
       "4  ถ้าขายไม่ดีเค้าก็เอาออกครับ shelf life มันน้อย...   \n",
       "\n",
       "                Retrived_date  \\\n",
       "0  2020-10-26 12:40:26.135083   \n",
       "1  2020-10-26 12:40:26.135083   \n",
       "2  2020-10-26 12:40:26.135083   \n",
       "3  2020-10-26 12:40:26.135083   \n",
       "4  2020-10-26 12:40:26.135083   \n",
       "\n",
       "                                          token_text  \n",
       "0  [ปี, เซเว่น, ยังมี, นม, เมจิ, รสหวาน, ขาย, อยู...  \n",
       "1                                          [เบาหวาน]  \n",
       "2  [หา, ซื้อไม่ได้, คิดได้, , .    คน, กินกัน, ไม...  \n",
       "3  [รส, ขายไม่ดี, รส, พื้นฐาน, จืด, แบ่ง, %,, low...  \n",
       "4  [ขายไม่ดี, เค้า, shelf life, เวลา, หมดอายุ, ค่...  "
      ]
     },
     "execution_count": 42,
     "metadata": {},
     "output_type": "execute_result"
    }
   ],
   "source": [
    "df_process_comment.head()"
   ]
  },
  {
   "cell_type": "markdown",
   "metadata": {},
   "source": [
    "2.2) Generalized keyword (Brand & product)"
   ]
  },
  {
   "cell_type": "code",
   "execution_count": 43,
   "metadata": {},
   "outputs": [],
   "source": [
    "df_process_comment['token_text'] = df_process_comment['token_text'].apply(lambda x: generalize_keyword(x))"
   ]
  },
  {
   "cell_type": "code",
   "execution_count": 44,
   "metadata": {},
   "outputs": [],
   "source": [
    "df_process_comment['cmt_mention_brand'] = df_process_comment['token_text'].apply(lambda x: find_brands_product(x,'b'))\n",
    "df_process_comment['cmt_mention_product'] = df_process_comment['token_text'].apply(lambda x: find_brands_product(x,'p'))"
   ]
  },
  {
   "cell_type": "code",
   "execution_count": 45,
   "metadata": {},
   "outputs": [
    {
     "data": {
      "text/html": [
       "<div>\n",
       "<style scoped>\n",
       "    .dataframe tbody tr th:only-of-type {\n",
       "        vertical-align: middle;\n",
       "    }\n",
       "\n",
       "    .dataframe tbody tr th {\n",
       "        vertical-align: top;\n",
       "    }\n",
       "\n",
       "    .dataframe thead th {\n",
       "        text-align: right;\n",
       "    }\n",
       "</style>\n",
       "<table border=\"1\" class=\"dataframe\">\n",
       "  <thead>\n",
       "    <tr style=\"text-align: right;\">\n",
       "      <th></th>\n",
       "      <th>commentId</th>\n",
       "      <th>Table</th>\n",
       "      <th>URLs</th>\n",
       "      <th>text</th>\n",
       "      <th>Retrived_date</th>\n",
       "      <th>token_text</th>\n",
       "      <th>cmt_mention_brand</th>\n",
       "      <th>cmt_mention_product</th>\n",
       "    </tr>\n",
       "  </thead>\n",
       "  <tbody>\n",
       "    <tr>\n",
       "      <th>0</th>\n",
       "      <td>1</td>\n",
       "      <td>Meiji</td>\n",
       "      <td>https://pantip.com/topic/39868603</td>\n",
       "      <td>เมื่อก่อนหลายปีมาแล้ว ในเซเว่นยังมีนมเมจิรสหวา...</td>\n",
       "      <td>2020-10-26 12:40:26.135083</td>\n",
       "      <td>[ปี, 7-Eleven, ยังมี, นม, เมจิ, รสหวาน, ขาย, อ...</td>\n",
       "      <td>[เมจิ]</td>\n",
       "      <td>[นม, รสหวาน, นม, รสหวาน]</td>\n",
       "    </tr>\n",
       "    <tr>\n",
       "      <th>1</th>\n",
       "      <td>2</td>\n",
       "      <td>Meiji</td>\n",
       "      <td>https://pantip.com/topic/39868603</td>\n",
       "      <td>เบาหวานครับ แฮ่ๆ</td>\n",
       "      <td>2020-10-26 12:40:26.135083</td>\n",
       "      <td>[เบาหวาน]</td>\n",
       "      <td>[]</td>\n",
       "      <td>[]</td>\n",
       "    </tr>\n",
       "    <tr>\n",
       "      <th>2</th>\n",
       "      <td>3</td>\n",
       "      <td>Meiji</td>\n",
       "      <td>https://pantip.com/topic/39868603</td>\n",
       "      <td>หาซื้อไม่ได้นี่คิดได้  2 อย่างนะ.    คนไม่ค่อย...</td>\n",
       "      <td>2020-10-26 12:40:26.135083</td>\n",
       "      <td>[หา, ซื้อไม่ได้, คิดได้, , .    คน, กินกัน, ไม...</td>\n",
       "      <td>[]</td>\n",
       "      <td>[รสหวาน]</td>\n",
       "    </tr>\n",
       "    <tr>\n",
       "      <th>3</th>\n",
       "      <td>4</td>\n",
       "      <td>Meiji</td>\n",
       "      <td>https://pantip.com/topic/39868603</td>\n",
       "      <td>เป็นรสที่ขายไม่ดีครับ\\r\\nรสพื้นฐานคือ\\r\\nจืด แ...</td>\n",
       "      <td>2020-10-26 12:40:26.135083</td>\n",
       "      <td>[รส, ขายไม่ดี, รส, พื้นฐาน, จืด, แบ่ง, %,, ไขม...</td>\n",
       "      <td>[]</td>\n",
       "      <td>[ไขมันต่ำ, ไขมัน 0%, ช็อกโกแลต, สตรอว์เบอร์รี,...</td>\n",
       "    </tr>\n",
       "    <tr>\n",
       "      <th>4</th>\n",
       "      <td>5</td>\n",
       "      <td>Meiji</td>\n",
       "      <td>https://pantip.com/topic/39868603</td>\n",
       "      <td>ถ้าขายไม่ดีเค้าก็เอาออกครับ shelf life มันน้อย...</td>\n",
       "      <td>2020-10-26 12:40:26.135083</td>\n",
       "      <td>[ขายไม่ดี, เค้า, shelf life, เวลา, หมดอายุ, ค่...</td>\n",
       "      <td>[]</td>\n",
       "      <td>[]</td>\n",
       "    </tr>\n",
       "    <tr>\n",
       "      <th>5</th>\n",
       "      <td>6</td>\n",
       "      <td>Meiji</td>\n",
       "      <td>https://pantip.com/topic/39868603</td>\n",
       "      <td>เสียใจ เราก็ดันชอบแต่รสนี้ซะด้วย</td>\n",
       "      <td>2020-10-26 12:40:26.135083</td>\n",
       "      <td>[เสียใจ, ดัน, ชอบ, รส]</td>\n",
       "      <td>[]</td>\n",
       "      <td>[]</td>\n",
       "    </tr>\n",
       "    <tr>\n",
       "      <th>6</th>\n",
       "      <td>7</td>\n",
       "      <td>Meiji</td>\n",
       "      <td>https://pantip.com/topic/39868603</td>\n",
       "      <td>ตอนเด็กๆชอบกินมากที่ฝาสีเขียว เห็นกระทู้นี้เลย...</td>\n",
       "      <td>2020-10-26 12:40:26.135083</td>\n",
       "      <td>[ตอน, เด็ก, ชอบ, กิน, ฝา, สี, เขียว, กระทู้, น...</td>\n",
       "      <td>[]</td>\n",
       "      <td>[]</td>\n",
       "    </tr>\n",
       "    <tr>\n",
       "      <th>7</th>\n",
       "      <td>10</td>\n",
       "      <td>Meiji</td>\n",
       "      <td>https://pantip.com/topic/39597709</td>\n",
       "      <td>ตามหัวข้อเลยค่ะ อยากรู้ว่านมเมจิที่ต้มก่อนนำไป...</td>\n",
       "      <td>2020-10-26 12:40:26.135083</td>\n",
       "      <td>[หัวข้อ, อยากรู้, นม, เมจิ, ต้ม, ส่วนผสม, เครื...</td>\n",
       "      <td>[เมจิ]</td>\n",
       "      <td>[นม]</td>\n",
       "    </tr>\n",
       "    <tr>\n",
       "      <th>8</th>\n",
       "      <td>11</td>\n",
       "      <td>Meiji</td>\n",
       "      <td>https://pantip.com/topic/39597709</td>\n",
       "      <td>ต้มไม่ดี (ร้อนเกินนานเกิน) จะมีกลิ่นไหม้จางๆ แ...</td>\n",
       "      <td>2020-10-26 12:40:26.135083</td>\n",
       "      <td>[ต้ม, ไม่, ดี, ร้อน, กลิ่น, ไหม้, จางๆ, สี, ต้...</td>\n",
       "      <td>[]</td>\n",
       "      <td>[นม]</td>\n",
       "    </tr>\n",
       "    <tr>\n",
       "      <th>9</th>\n",
       "      <td>12</td>\n",
       "      <td>Meiji</td>\n",
       "      <td>https://pantip.com/topic/39597709</td>\n",
       "      <td>ขอบคุณค่า</td>\n",
       "      <td>2020-10-26 12:40:26.135083</td>\n",
       "      <td>[ขอบ, คุณค่า]</td>\n",
       "      <td>[]</td>\n",
       "      <td>[]</td>\n",
       "    </tr>\n",
       "    <tr>\n",
       "      <th>10</th>\n",
       "      <td>13</td>\n",
       "      <td>Meiji</td>\n",
       "      <td>https://pantip.com/topic/39597709</td>\n",
       "      <td>ส่วนมากผมกินแบบเวฟ เวฟอุ่นกลิ่นนมหอมกว่า มีครี...</td>\n",
       "      <td>2020-10-26 12:40:26.135083</td>\n",
       "      <td>[ผม, กิน, เวฟ, เวฟ, อุ่น, กลิ่น, นม, หอม, ครีม...</td>\n",
       "      <td>[เมจิ, ไทยเดนมาร์ค]</td>\n",
       "      <td>[นม, นม, นม]</td>\n",
       "    </tr>\n",
       "    <tr>\n",
       "      <th>11</th>\n",
       "      <td>14</td>\n",
       "      <td>Meiji</td>\n",
       "      <td>https://pantip.com/topic/39597709</td>\n",
       "      <td>ขอบคุณนะคะ</td>\n",
       "      <td>2020-10-26 12:40:26.135083</td>\n",
       "      <td>[ขอบคุณ]</td>\n",
       "      <td>[]</td>\n",
       "      <td>[]</td>\n",
       "    </tr>\n",
       "    <tr>\n",
       "      <th>12</th>\n",
       "      <td>15</td>\n",
       "      <td>Meiji</td>\n",
       "      <td>https://pantip.com/topic/39597709</td>\n",
       "      <td>ไม่ต้มจ้า เราชงแบบนี้เลย\\r\\nhttps://youtu.be/q...</td>\n",
       "      <td>2020-10-26 12:40:26.135083</td>\n",
       "      <td>[ไม่, ต้ม, ชง, แบบนี้, youtu, be, qdrlx, -pjxi]</td>\n",
       "      <td>[]</td>\n",
       "      <td>[]</td>\n",
       "    </tr>\n",
       "    <tr>\n",
       "      <th>13</th>\n",
       "      <td>18</td>\n",
       "      <td>Meiji</td>\n",
       "      <td>https://pantip.com/topic/39747201</td>\n",
       "      <td>วันก่อนซื้อ นมเมจิขวด 2 ลิตร มากิน สังเกตฝามัน...</td>\n",
       "      <td>2020-10-26 12:40:26.135083</td>\n",
       "      <td>[วันก่อน, ซื้อ, นม, เมจิ, ขวด, ลิตร, กิน, สังเ...</td>\n",
       "      <td>[เมจิ]</td>\n",
       "      <td>[นม, นม]</td>\n",
       "    </tr>\n",
       "    <tr>\n",
       "      <th>14</th>\n",
       "      <td>21</td>\n",
       "      <td>Meiji</td>\n",
       "      <td>https://pantip.com/topic/39732615</td>\n",
       "      <td>อยากรู้ว่าMakroมีนมยี่ห้อ meiji(เมจิ) ขายมั้ยครับ</td>\n",
       "      <td>2020-10-26 12:40:26.135083</td>\n",
       "      <td>[อยากรู้, makro, นม, ยี่ห้อ, เมจิ, เมจิ, ขาย]</td>\n",
       "      <td>[เมจิ, เมจิ]</td>\n",
       "      <td>[นม]</td>\n",
       "    </tr>\n",
       "    <tr>\n",
       "      <th>15</th>\n",
       "      <td>22</td>\n",
       "      <td>Meiji</td>\n",
       "      <td>https://pantip.com/topic/39732615</td>\n",
       "      <td>มีค่ะ</td>\n",
       "      <td>2020-10-26 12:40:26.135083</td>\n",
       "      <td>[]</td>\n",
       "      <td>[]</td>\n",
       "      <td>[]</td>\n",
       "    </tr>\n",
       "    <tr>\n",
       "      <th>16</th>\n",
       "      <td>23</td>\n",
       "      <td>Meiji</td>\n",
       "      <td>https://pantip.com/topic/39732615</td>\n",
       "      <td>ต้องมีอยู่แล้วครับ ห้างก็ของเขา นมเขาก็นำเข้าค...</td>\n",
       "      <td>2020-10-26 12:40:26.135083</td>\n",
       "      <td>[อยู่แล้ว, ห้าง, นม, นำเข้า, เครือ]</td>\n",
       "      <td>[]</td>\n",
       "      <td>[นม]</td>\n",
       "    </tr>\n",
       "    <tr>\n",
       "      <th>17</th>\n",
       "      <td>24</td>\n",
       "      <td>Meiji</td>\n",
       "      <td>https://pantip.com/topic/39732615</td>\n",
       "      <td>มีครับซื้อประจำ</td>\n",
       "      <td>2020-10-26 12:40:26.135083</td>\n",
       "      <td>[ซื้อประจำ]</td>\n",
       "      <td>[]</td>\n",
       "      <td>[]</td>\n",
       "    </tr>\n",
       "    <tr>\n",
       "      <th>18</th>\n",
       "      <td>25</td>\n",
       "      <td>Meiji</td>\n",
       "      <td>https://pantip.com/topic/39732615</td>\n",
       "      <td>มีค่า บางทีก็เห็นลดราคา จัดโปรแพคคู่</td>\n",
       "      <td>2020-10-26 12:40:26.135083</td>\n",
       "      <td>[มีค่า, ลดราคา, โปร, แพคคู่]</td>\n",
       "      <td>[]</td>\n",
       "      <td>[]</td>\n",
       "    </tr>\n",
       "    <tr>\n",
       "      <th>19</th>\n",
       "      <td>28</td>\n",
       "      <td>Meiji</td>\n",
       "      <td>https://pantip.com/topic/39005469</td>\n",
       "      <td>อยากถามว่า\\r\\n\\r\\n1.คิดค่าจัดส่งยังไงครับ\\r\\n2...</td>\n",
       "      <td>2020-10-26 12:40:26.135083</td>\n",
       "      <td>[ถาม, 1., ค่าจัดส่ง, 2., ซื้อ, ได้, ส่วนลด, 3....</td>\n",
       "      <td>[]</td>\n",
       "      <td>[]</td>\n",
       "    </tr>\n",
       "    <tr>\n",
       "      <th>20</th>\n",
       "      <td>29</td>\n",
       "      <td>Meiji</td>\n",
       "      <td>https://pantip.com/topic/39005469</td>\n",
       "      <td>ลองอินบ็อก ไปถามแอ็ดมินซีพีเมจิดูสิครับ\\r\\nใช้...</td>\n",
       "      <td>2020-10-26 12:40:26.135083</td>\n",
       "      <td>[ลอง, อิน, บ็อก, ถาม, แอ็ด, เมจิ, ดู, สิ, ใช้ไ...</td>\n",
       "      <td>[เมจิ]</td>\n",
       "      <td>[]</td>\n",
       "    </tr>\n",
       "    <tr>\n",
       "      <th>21</th>\n",
       "      <td>30</td>\n",
       "      <td>Meiji</td>\n",
       "      <td>https://pantip.com/topic/39005469</td>\n",
       "      <td>ลองถามทาง line ดู \\r\\nครับ</td>\n",
       "      <td>2020-10-26 12:40:26.135083</td>\n",
       "      <td>[ลอง, ถาม, line, ดู]</td>\n",
       "      <td>[]</td>\n",
       "      <td>[]</td>\n",
       "    </tr>\n",
       "    <tr>\n",
       "      <th>22</th>\n",
       "      <td>33</td>\n",
       "      <td>Meiji</td>\n",
       "      <td>https://pantip.com/topic/39928742</td>\n",
       "      <td>สวัสดี เราคือมนุษย์ออฟฟิศ อายุ 25 ปี ที่เสพติด...</td>\n",
       "      <td>2020-10-26 12:40:26.135083</td>\n",
       "      <td>[สวัสดี, มนุษย์, ออฟฟิศ, อายุ, ปี, เสพติด, กิน...</td>\n",
       "      <td>[เมจิ]</td>\n",
       "      <td>[นม, ไขมัน 0%]</td>\n",
       "    </tr>\n",
       "    <tr>\n",
       "      <th>23</th>\n",
       "      <td>34</td>\n",
       "      <td>Meiji</td>\n",
       "      <td>https://pantip.com/topic/39928742</td>\n",
       "      <td>ไม่ประหลาดดค่ะเราก็ชอบดื่มนม ชอบเมจิเหมือนกันค...</td>\n",
       "      <td>2020-10-26 12:40:26.135083</td>\n",
       "      <td>[ไม่, ประหลาด, ชอบ, ดื่มนม, ชอบ, เมจิ, เหมือนก...</td>\n",
       "      <td>[เมจิ, เมจิ]</td>\n",
       "      <td>[นม]</td>\n",
       "    </tr>\n",
       "    <tr>\n",
       "      <th>24</th>\n",
       "      <td>35</td>\n",
       "      <td>Meiji</td>\n",
       "      <td>https://pantip.com/topic/39928742</td>\n",
       "      <td>ไม่ประหลาดดค่ะเราก็ชอบดื่มนม ชอบเมจิเหมือนกันค...</td>\n",
       "      <td>2020-10-26 12:40:26.135083</td>\n",
       "      <td>[ไม่, ประหลาด, ชอบ, ดื่มนม, ชอบ, เมจิ, เหมือนก...</td>\n",
       "      <td>[เมจิ, เมจิ]</td>\n",
       "      <td>[นม]</td>\n",
       "    </tr>\n",
       "    <tr>\n",
       "      <th>25</th>\n",
       "      <td>36</td>\n",
       "      <td>Meiji</td>\n",
       "      <td>https://pantip.com/topic/39928742</td>\n",
       "      <td>ไม่ประหลาดดค่ะเราก็ชอบดื่มนม ชอบเมจิเหมือนกันค...</td>\n",
       "      <td>2020-10-26 12:40:26.135083</td>\n",
       "      <td>[ไม่, ประหลาด, ชอบ, ดื่มนม, ชอบ, เมจิ, เหมือนก...</td>\n",
       "      <td>[เมจิ, เมจิ]</td>\n",
       "      <td>[นม]</td>\n",
       "    </tr>\n",
       "    <tr>\n",
       "      <th>26</th>\n",
       "      <td>37</td>\n",
       "      <td>Meiji</td>\n",
       "      <td>https://pantip.com/topic/39928742</td>\n",
       "      <td>เนอะอร่อยอ่ะ</td>\n",
       "      <td>2020-10-26 12:40:26.135083</td>\n",
       "      <td>[เนอะ, อร่อย, อ่ะ]</td>\n",
       "      <td>[]</td>\n",
       "      <td>[]</td>\n",
       "    </tr>\n",
       "    <tr>\n",
       "      <th>27</th>\n",
       "      <td>38</td>\n",
       "      <td>Meiji</td>\n",
       "      <td>https://pantip.com/topic/39928742</td>\n",
       "      <td>โอ้ยมันไม่ขึ้นสักทีกดรัวไปหน่อย😂</td>\n",
       "      <td>2020-10-26 12:40:26.135083</td>\n",
       "      <td>[โอ้ย, ไม่, สักที, กด, รัว]</td>\n",
       "      <td>[]</td>\n",
       "      <td>[]</td>\n",
       "    </tr>\n",
       "    <tr>\n",
       "      <th>28</th>\n",
       "      <td>39</td>\n",
       "      <td>Meiji</td>\n",
       "      <td>https://pantip.com/topic/39928742</td>\n",
       "      <td>ก็ดีสำหรับร้างกายคุณค่ะ ถ้าไม่แพ้นมวัวก็ยิ่งดี</td>\n",
       "      <td>2020-10-26 12:40:26.135083</td>\n",
       "      <td>[สำหรับ, ร้าง, กาย, ไม่, แพ้นมวัว, ดี]</td>\n",
       "      <td>[]</td>\n",
       "      <td>[]</td>\n",
       "    </tr>\n",
       "    <tr>\n",
       "      <th>29</th>\n",
       "      <td>41</td>\n",
       "      <td>Meiji</td>\n",
       "      <td>https://pantip.com/topic/39928742</td>\n",
       "      <td>ระวัง อ้วน  เบาหวาน</td>\n",
       "      <td>2020-10-26 12:40:26.135083</td>\n",
       "      <td>[ระวัง, อ้วน, , เบาหวาน]</td>\n",
       "      <td>[]</td>\n",
       "      <td>[]</td>\n",
       "    </tr>\n",
       "    <tr>\n",
       "      <th>...</th>\n",
       "      <td>...</td>\n",
       "      <td>...</td>\n",
       "      <td>...</td>\n",
       "      <td>...</td>\n",
       "      <td>...</td>\n",
       "      <td>...</td>\n",
       "      <td>...</td>\n",
       "      <td>...</td>\n",
       "    </tr>\n",
       "    <tr>\n",
       "      <th>60515</th>\n",
       "      <td>66154</td>\n",
       "      <td>DDFC</td>\n",
       "      <td>https://pantip.com/topic/30651064</td>\n",
       "      <td>ผิด</td>\n",
       "      <td>2020-10-27 13:54:33.920930</td>\n",
       "      <td>[]</td>\n",
       "      <td>[]</td>\n",
       "      <td>[]</td>\n",
       "    </tr>\n",
       "    <tr>\n",
       "      <th>60516</th>\n",
       "      <td>66155</td>\n",
       "      <td>DDFC</td>\n",
       "      <td>https://pantip.com/topic/30651064</td>\n",
       "      <td>จิตรลดา ชัวร์ที่สุด</td>\n",
       "      <td>2020-10-27 13:54:33.920930</td>\n",
       "      <td>[จิตรลดา, ชัวร์]</td>\n",
       "      <td>[จิตรลดา]</td>\n",
       "      <td>[]</td>\n",
       "    </tr>\n",
       "    <tr>\n",
       "      <th>60517</th>\n",
       "      <td>66156</td>\n",
       "      <td>DDFC</td>\n",
       "      <td>https://pantip.com/topic/30651064</td>\n",
       "      <td>เหมือนโฟโมสต์จะใช้นมผงนะคะ เคยได้ยินมาเมื่อปีส...</td>\n",
       "      <td>2020-10-27 13:54:33.920930</td>\n",
       "      <td>[เหมือน, โฟร์โมสต์, นมผง, ได้ยิน, ปี, สอง, ปีก...</td>\n",
       "      <td>[โฟร์โมสต์]</td>\n",
       "      <td>[]</td>\n",
       "    </tr>\n",
       "    <tr>\n",
       "      <th>60518</th>\n",
       "      <td>66157</td>\n",
       "      <td>DDFC</td>\n",
       "      <td>https://pantip.com/topic/30651064</td>\n",
       "      <td>เชื่อใจจิตรลดายี่ห้อเดียว\\r\\nแต่เราไม่ค่อยเน้น...</td>\n",
       "      <td>2020-10-27 13:54:33.920930</td>\n",
       "      <td>[เชื่อใจ, จิตรลดา, ยี่ห้อ, อร่อย, รสจืด, จิตรล...</td>\n",
       "      <td>[จิตรลดา, จิตรลดา]</td>\n",
       "      <td>[รสจืด]</td>\n",
       "    </tr>\n",
       "    <tr>\n",
       "      <th>60519</th>\n",
       "      <td>66158</td>\n",
       "      <td>DDFC</td>\n",
       "      <td>https://pantip.com/topic/30651064</td>\n",
       "      <td>จิตรลดา / วัวแดง /หนองโพ\\r\\n3ยี่ห้อนี้ล่ะคะ เด...</td>\n",
       "      <td>2020-10-27 13:54:33.920930</td>\n",
       "      <td>[จิตรลดา, ไทยเดนมาร์ค, หนองโพ, ยี่ห้อ, ล่ะ, เด...</td>\n",
       "      <td>[จิตรลดา, ไทยเดนมาร์ค, หนองโพ]</td>\n",
       "      <td>[]</td>\n",
       "    </tr>\n",
       "    <tr>\n",
       "      <th>60520</th>\n",
       "      <td>66159</td>\n",
       "      <td>DDFC</td>\n",
       "      <td>https://pantip.com/topic/30651064</td>\n",
       "      <td>กินอยู่ 3 ยี่ห้อ\\r\\n\\r\\nจิตรลดา หนองโพ วัวแดง</td>\n",
       "      <td>2020-10-27 13:54:33.920930</td>\n",
       "      <td>[กิน, ยี่ห้อ, จิตรลดา, หนองโพ, ไทยเดนมาร์ค]</td>\n",
       "      <td>[จิตรลดา, หนองโพ, ไทยเดนมาร์ค]</td>\n",
       "      <td>[]</td>\n",
       "    </tr>\n",
       "    <tr>\n",
       "      <th>60521</th>\n",
       "      <td>66160</td>\n",
       "      <td>DDFC</td>\n",
       "      <td>https://pantip.com/topic/30651064</td>\n",
       "      <td>เคยเรียนทำกาแฟสดค่ะ เค้าแนะนำให้ใช้นมจิตรดากับ...</td>\n",
       "      <td>2020-10-27 13:54:33.920930</td>\n",
       "      <td>[เรียน, ทำ, กาแฟสด, เค้า, แนะนำ, นม, จิตร, ดา,...</td>\n",
       "      <td>[เมจิ]</td>\n",
       "      <td>[นม, นม, นม]</td>\n",
       "    </tr>\n",
       "    <tr>\n",
       "      <th>60522</th>\n",
       "      <td>66161</td>\n",
       "      <td>DDFC</td>\n",
       "      <td>https://pantip.com/topic/30651064</td>\n",
       "      <td>นมยี่ห้อโชคชัย (ที่ไม่ใช่อื้มมิลล์)\\r\\nอสค.(ไท...</td>\n",
       "      <td>2020-10-27 13:54:33.920930</td>\n",
       "      <td>[นม, ยี่ห้อ, โชคชัย, ไม่, อื้ม, ลล์), สค., ไทย...</td>\n",
       "      <td>[โชคชัย, หนองโพ, จิตรลดา]</td>\n",
       "      <td>[นม, นม]</td>\n",
       "    </tr>\n",
       "    <tr>\n",
       "      <th>60523</th>\n",
       "      <td>66162</td>\n",
       "      <td>DDFC</td>\n",
       "      <td>https://pantip.com/topic/30651064</td>\n",
       "      <td>ผิดค่าาาา</td>\n",
       "      <td>2020-10-27 13:54:33.920930</td>\n",
       "      <td>[ค่า, า]</td>\n",
       "      <td>[]</td>\n",
       "      <td>[]</td>\n",
       "    </tr>\n",
       "    <tr>\n",
       "      <th>60524</th>\n",
       "      <td>66163</td>\n",
       "      <td>DDFC</td>\n",
       "      <td>https://pantip.com/topic/30651064</td>\n",
       "      <td>นมยี่ห้อโชคชัย บางรสใช้นมผงผสมด้วยครับ</td>\n",
       "      <td>2020-10-27 13:54:33.920930</td>\n",
       "      <td>[นม, ยี่ห้อ, โชคชัย, รส, นมผง, ผสม]</td>\n",
       "      <td>[โชคชัย]</td>\n",
       "      <td>[นม]</td>\n",
       "    </tr>\n",
       "    <tr>\n",
       "      <th>60525</th>\n",
       "      <td>66164</td>\n",
       "      <td>DDFC</td>\n",
       "      <td>https://pantip.com/topic/30651064</td>\n",
       "      <td>เราเองก็เชียร์ให้ลูกชายดื่มนมจิตรลดานะ เชียร์ม...</td>\n",
       "      <td>2020-10-27 13:54:33.920930</td>\n",
       "      <td>[เชียร์, ลูกชาย, ดื่มนม, จิตรลดา, เชียร์, ขวบ,...</td>\n",
       "      <td>[จิตรลดา, จิตรลดา]</td>\n",
       "      <td>[นม]</td>\n",
       "    </tr>\n",
       "    <tr>\n",
       "      <th>60526</th>\n",
       "      <td>66165</td>\n",
       "      <td>DDFC</td>\n",
       "      <td>https://pantip.com/topic/30651064</td>\n",
       "      <td>โฟร์.... มีนมผงค่ะ เราเอามาตรวจในแล็บเองกับมือ...</td>\n",
       "      <td>2020-10-27 13:54:33.920930</td>\n",
       "      <td>[โฟร์, ...., นมผง, ตรวจ, แล็บ, มือ, ไทยเดนมาร์...</td>\n",
       "      <td>[ไทยเดนมาร์ค]</td>\n",
       "      <td>[]</td>\n",
       "    </tr>\n",
       "    <tr>\n",
       "      <th>60527</th>\n",
       "      <td>66166</td>\n",
       "      <td>DDFC</td>\n",
       "      <td>https://pantip.com/topic/30651064</td>\n",
       "      <td>แล้วยี่ห้ออื่นแท้มั้ยคะ พวกเมจิ,แมกโนเลีย,ดัชม...</td>\n",
       "      <td>2020-10-27 13:54:33.920930</td>\n",
       "      <td>[ยี่ห้อ, เมจิ, แมก, โน, เลีย, ดัชมิลล์]</td>\n",
       "      <td>[เมจิ, ดัชมิลล์]</td>\n",
       "      <td>[]</td>\n",
       "    </tr>\n",
       "    <tr>\n",
       "      <th>60528</th>\n",
       "      <td>66167</td>\n",
       "      <td>DDFC</td>\n",
       "      <td>https://pantip.com/topic/30651064</td>\n",
       "      <td>20-1 ผง</td>\n",
       "      <td>2020-10-27 13:54:33.920930</td>\n",
       "      <td>[ผง]</td>\n",
       "      <td>[]</td>\n",
       "      <td>[]</td>\n",
       "    </tr>\n",
       "    <tr>\n",
       "      <th>60529</th>\n",
       "      <td>66168</td>\n",
       "      <td>DDFC</td>\n",
       "      <td>https://pantip.com/topic/30651064</td>\n",
       "      <td>นมผง มีขั้นตอนการผลิตยังไงครับ นมผงก็ผลิตมาจาก...</td>\n",
       "      <td>2020-10-27 13:54:33.920930</td>\n",
       "      <td>[นมผง, ขั้นตอน, การผลิต, นมผง, ผลิต, มาจาก, นม...</td>\n",
       "      <td>[]</td>\n",
       "      <td>[นม]</td>\n",
       "    </tr>\n",
       "    <tr>\n",
       "      <th>60530</th>\n",
       "      <td>66169</td>\n",
       "      <td>DDFC</td>\n",
       "      <td>https://pantip.com/topic/30651064</td>\n",
       "      <td>-นมผง ทำจากน้ำนมสดที่สกัดไขมันออก(เอาไปทำพวกนม...</td>\n",
       "      <td>2020-10-27 13:54:33.920930</td>\n",
       "      <td>[นมผง, ทำ, น้ำ, นมสด, สกัด, ไขมัน, ทำ, นม, เนย...</td>\n",
       "      <td>[]</td>\n",
       "      <td>[นม, พาสเจอร์ไรส์]</td>\n",
       "    </tr>\n",
       "    <tr>\n",
       "      <th>60531</th>\n",
       "      <td>66170</td>\n",
       "      <td>DDFC</td>\n",
       "      <td>https://pantip.com/topic/30651064</td>\n",
       "      <td>โชคชัยกินแล้วรู้สึกถึงความมันของนม\\r\\nแต่เคยดู...</td>\n",
       "      <td>2020-10-27 13:54:33.920930</td>\n",
       "      <td>[โชคชัย, กิน, รู้สึก, ความมัน, นม, ดู, ก้น, ขว...</td>\n",
       "      <td>[โชคชัย]</td>\n",
       "      <td>[นม, นม]</td>\n",
       "    </tr>\n",
       "    <tr>\n",
       "      <th>60532</th>\n",
       "      <td>66171</td>\n",
       "      <td>DDFC</td>\n",
       "      <td>https://pantip.com/topic/30651064</td>\n",
       "      <td>ขอบคุณมากครับ</td>\n",
       "      <td>2020-10-27 13:54:33.920930</td>\n",
       "      <td>[ขอบคุณ]</td>\n",
       "      <td>[]</td>\n",
       "      <td>[]</td>\n",
       "    </tr>\n",
       "    <tr>\n",
       "      <th>60533</th>\n",
       "      <td>66172</td>\n",
       "      <td>DDFC</td>\n",
       "      <td>https://pantip.com/topic/30651064</td>\n",
       "      <td>เจ้าของกระทู้จะเล่นมุกหรือเปล่า</td>\n",
       "      <td>2020-10-27 13:54:33.920930</td>\n",
       "      <td>[เจ้าของ, กระทู้, เล่น, มุก]</td>\n",
       "      <td>[]</td>\n",
       "      <td>[]</td>\n",
       "    </tr>\n",
       "    <tr>\n",
       "      <th>60534</th>\n",
       "      <td>66173</td>\n",
       "      <td>DDFC</td>\n",
       "      <td>https://pantip.com/topic/30651064</td>\n",
       "      <td>ไทยเดนมาร์คกินกันหลายคนนะที่นี่ แต่เรียกวัวแดง...</td>\n",
       "      <td>2020-10-27 13:54:33.920930</td>\n",
       "      <td>[ไทยเดนมาร์ค, กินกัน, คน, ที่นี่, ไทยเดนมาร์ค,...</td>\n",
       "      <td>[ไทยเดนมาร์ค, ไทยเดนมาร์ค, หนองโพ, ไทยเดนมาร์ค...</td>\n",
       "      <td>[]</td>\n",
       "    </tr>\n",
       "    <tr>\n",
       "      <th>60535</th>\n",
       "      <td>66174</td>\n",
       "      <td>DDFC</td>\n",
       "      <td>https://pantip.com/topic/30651064</td>\n",
       "      <td>ผมก็ประมาณว่า 3 ยี่ห้อครับ เช่น วัวแดง,หนองโพ,...</td>\n",
       "      <td>2020-10-27 13:54:33.920930</td>\n",
       "      <td>[ผม, ยี่ห้อ, ไทยเดนมาร์ค, หนองโพ, จิตรลดา]</td>\n",
       "      <td>[ไทยเดนมาร์ค, หนองโพ, จิตรลดา]</td>\n",
       "      <td>[]</td>\n",
       "    </tr>\n",
       "    <tr>\n",
       "      <th>60536</th>\n",
       "      <td>66175</td>\n",
       "      <td>DDFC</td>\n",
       "      <td>https://pantip.com/topic/30651064</td>\n",
       "      <td>อ่านฉลากเอาครับ \\r\\nนมโคสด 100% คือนมที่ไม่ปลอ...</td>\n",
       "      <td>2020-10-27 13:54:33.920930</td>\n",
       "      <td>[อ่าน, ฉลาก, นม, โค, สด, นม, ไม่, ปลอมปน, นมผง...</td>\n",
       "      <td>[ไทยเดนมาร์ค, หนองโพ, จิตรลดา]</td>\n",
       "      <td>[นม, นม, นม, นม]</td>\n",
       "    </tr>\n",
       "    <tr>\n",
       "      <th>60537</th>\n",
       "      <td>66176</td>\n",
       "      <td>DDFC</td>\n",
       "      <td>https://pantip.com/topic/30651064</td>\n",
       "      <td>เพิ่มเติมนม pasteurized ตรา F&amp;N Magnolia เป็นน...</td>\n",
       "      <td>2020-10-27 13:54:33.920930</td>\n",
       "      <td>[นม, pasteurized, ตรา, magnolia, นมสด, วัว, จร...</td>\n",
       "      <td>[จิตรลดา, เมจิ, โฟร์โมสต์, ดัชมิลล์, หนองโพ]</td>\n",
       "      <td>[นม, นม, นม, นม]</td>\n",
       "    </tr>\n",
       "    <tr>\n",
       "      <th>60538</th>\n",
       "      <td>66177</td>\n",
       "      <td>DDFC</td>\n",
       "      <td>https://pantip.com/topic/30651064</td>\n",
       "      <td>หนองโพ กับจิตลดา อีกเสียงคะ // อิอิ ..</td>\n",
       "      <td>2020-10-27 13:54:33.920930</td>\n",
       "      <td>[หนองโพ, จิต, ลดา, เสียง, //, ..]</td>\n",
       "      <td>[หนองโพ]</td>\n",
       "      <td>[]</td>\n",
       "    </tr>\n",
       "    <tr>\n",
       "      <th>60539</th>\n",
       "      <td>66180</td>\n",
       "      <td>DDFC</td>\n",
       "      <td>https://pantip.com/topic/30651064</td>\n",
       "      <td>ผมใช้นมโฟร์โมสต์จาก 7-11 มาชงแฟกินครับ ถ้าดื่ม...</td>\n",
       "      <td>2020-10-27 13:54:33.920930</td>\n",
       "      <td>[ผม, นม, โฟร์โมสต์, 7-Eleven, ชง, แฟ, กิน, ดื่...</td>\n",
       "      <td>[โฟร์โมสต์]</td>\n",
       "      <td>[นม, นม, นม]</td>\n",
       "    </tr>\n",
       "    <tr>\n",
       "      <th>60540</th>\n",
       "      <td>66181</td>\n",
       "      <td>DDFC</td>\n",
       "      <td>https://pantip.com/topic/30651064</td>\n",
       "      <td>นมผง คือเอานมดิบดีๆ มาคัดไขมันนมและอื่นๆออกไปใ...</td>\n",
       "      <td>2020-10-27 13:54:33.920930</td>\n",
       "      <td>[นมผง, นม, ดิบดี, คัด, ไขมัน, นม, ทำ, หางนม, ท...</td>\n",
       "      <td>[]</td>\n",
       "      <td>[นม, นม, นม, นม, นม]</td>\n",
       "    </tr>\n",
       "    <tr>\n",
       "      <th>60541</th>\n",
       "      <td>66182</td>\n",
       "      <td>DDFC</td>\n",
       "      <td>https://pantip.com/topic/30651064</td>\n",
       "      <td>นมสด รสชาติมันดีนะ\\r\\nเพราะมีปริมาณไขมันสูง ดั...</td>\n",
       "      <td>2020-10-27 13:54:33.920930</td>\n",
       "      <td>[นมสด, รสชาติ, มันดี, ปริมาณ, ไขมัน, ดังนั้น, ...</td>\n",
       "      <td>[]</td>\n",
       "      <td>[นม, นม, นม, ไขมันต่ำ, นม, ไขมันต่ำ, นม, นม, น...</td>\n",
       "    </tr>\n",
       "    <tr>\n",
       "      <th>60542</th>\n",
       "      <td>66184</td>\n",
       "      <td>DDFC</td>\n",
       "      <td>https://pantip.com/topic/30651064</td>\n",
       "      <td>มีหลายยี่ห้อนะค่ะ พวกจิตรดา ไทยเดนมาร์ค โฟร์โม...</td>\n",
       "      <td>2020-10-27 13:54:33.920930</td>\n",
       "      <td>[ยี่ห้อ, จิตร, ดา, ไทยเดนมาร์ค, โฟร์โมสต์, เลื...</td>\n",
       "      <td>[ไทยเดนมาร์ค, โฟร์โมสต์]</td>\n",
       "      <td>[]</td>\n",
       "    </tr>\n",
       "    <tr>\n",
       "      <th>60543</th>\n",
       "      <td>66185</td>\n",
       "      <td>DDFC</td>\n",
       "      <td>https://pantip.com/topic/30651064</td>\n",
       "      <td>เดี๋ยวนมรสจืด ส่วนใหญ่ก็นมโคแท้ 100%ทั้งนั้นแห...</td>\n",
       "      <td>2020-10-27 13:54:33.920930</td>\n",
       "      <td>[เดี๋ยว, นม, รสจืด, นม, โค, นั้นแหละ, ไม่, อ.ย...</td>\n",
       "      <td>[ไทยเดนมาร์ค, หนองโพ, โฟร์โมสต์]</td>\n",
       "      <td>[นม, รสจืด, นม, นม, นม]</td>\n",
       "    </tr>\n",
       "    <tr>\n",
       "      <th>60544</th>\n",
       "      <td>66186</td>\n",
       "      <td>DDFC</td>\n",
       "      <td>https://pantip.com/topic/30651064</td>\n",
       "      <td>ตามกฏหมายเอง นมโคสดแท้ 100% กับนมโคแท้ 100% ไม...</td>\n",
       "      <td>2020-10-27 13:54:33.920930</td>\n",
       "      <td>[ตา, มก, หมาย, นม, โค, สด, นม, โค, ไม่, เหมือน...</td>\n",
       "      <td>[]</td>\n",
       "      <td>[นม, นม, นม, นม]</td>\n",
       "    </tr>\n",
       "  </tbody>\n",
       "</table>\n",
       "<p>60545 rows × 8 columns</p>\n",
       "</div>"
      ],
      "text/plain": [
       "       commentId  Table                               URLs  \\\n",
       "0              1  Meiji  https://pantip.com/topic/39868603   \n",
       "1              2  Meiji  https://pantip.com/topic/39868603   \n",
       "2              3  Meiji  https://pantip.com/topic/39868603   \n",
       "3              4  Meiji  https://pantip.com/topic/39868603   \n",
       "4              5  Meiji  https://pantip.com/topic/39868603   \n",
       "5              6  Meiji  https://pantip.com/topic/39868603   \n",
       "6              7  Meiji  https://pantip.com/topic/39868603   \n",
       "7             10  Meiji  https://pantip.com/topic/39597709   \n",
       "8             11  Meiji  https://pantip.com/topic/39597709   \n",
       "9             12  Meiji  https://pantip.com/topic/39597709   \n",
       "10            13  Meiji  https://pantip.com/topic/39597709   \n",
       "11            14  Meiji  https://pantip.com/topic/39597709   \n",
       "12            15  Meiji  https://pantip.com/topic/39597709   \n",
       "13            18  Meiji  https://pantip.com/topic/39747201   \n",
       "14            21  Meiji  https://pantip.com/topic/39732615   \n",
       "15            22  Meiji  https://pantip.com/topic/39732615   \n",
       "16            23  Meiji  https://pantip.com/topic/39732615   \n",
       "17            24  Meiji  https://pantip.com/topic/39732615   \n",
       "18            25  Meiji  https://pantip.com/topic/39732615   \n",
       "19            28  Meiji  https://pantip.com/topic/39005469   \n",
       "20            29  Meiji  https://pantip.com/topic/39005469   \n",
       "21            30  Meiji  https://pantip.com/topic/39005469   \n",
       "22            33  Meiji  https://pantip.com/topic/39928742   \n",
       "23            34  Meiji  https://pantip.com/topic/39928742   \n",
       "24            35  Meiji  https://pantip.com/topic/39928742   \n",
       "25            36  Meiji  https://pantip.com/topic/39928742   \n",
       "26            37  Meiji  https://pantip.com/topic/39928742   \n",
       "27            38  Meiji  https://pantip.com/topic/39928742   \n",
       "28            39  Meiji  https://pantip.com/topic/39928742   \n",
       "29            41  Meiji  https://pantip.com/topic/39928742   \n",
       "...          ...    ...                                ...   \n",
       "60515      66154   DDFC  https://pantip.com/topic/30651064   \n",
       "60516      66155   DDFC  https://pantip.com/topic/30651064   \n",
       "60517      66156   DDFC  https://pantip.com/topic/30651064   \n",
       "60518      66157   DDFC  https://pantip.com/topic/30651064   \n",
       "60519      66158   DDFC  https://pantip.com/topic/30651064   \n",
       "60520      66159   DDFC  https://pantip.com/topic/30651064   \n",
       "60521      66160   DDFC  https://pantip.com/topic/30651064   \n",
       "60522      66161   DDFC  https://pantip.com/topic/30651064   \n",
       "60523      66162   DDFC  https://pantip.com/topic/30651064   \n",
       "60524      66163   DDFC  https://pantip.com/topic/30651064   \n",
       "60525      66164   DDFC  https://pantip.com/topic/30651064   \n",
       "60526      66165   DDFC  https://pantip.com/topic/30651064   \n",
       "60527      66166   DDFC  https://pantip.com/topic/30651064   \n",
       "60528      66167   DDFC  https://pantip.com/topic/30651064   \n",
       "60529      66168   DDFC  https://pantip.com/topic/30651064   \n",
       "60530      66169   DDFC  https://pantip.com/topic/30651064   \n",
       "60531      66170   DDFC  https://pantip.com/topic/30651064   \n",
       "60532      66171   DDFC  https://pantip.com/topic/30651064   \n",
       "60533      66172   DDFC  https://pantip.com/topic/30651064   \n",
       "60534      66173   DDFC  https://pantip.com/topic/30651064   \n",
       "60535      66174   DDFC  https://pantip.com/topic/30651064   \n",
       "60536      66175   DDFC  https://pantip.com/topic/30651064   \n",
       "60537      66176   DDFC  https://pantip.com/topic/30651064   \n",
       "60538      66177   DDFC  https://pantip.com/topic/30651064   \n",
       "60539      66180   DDFC  https://pantip.com/topic/30651064   \n",
       "60540      66181   DDFC  https://pantip.com/topic/30651064   \n",
       "60541      66182   DDFC  https://pantip.com/topic/30651064   \n",
       "60542      66184   DDFC  https://pantip.com/topic/30651064   \n",
       "60543      66185   DDFC  https://pantip.com/topic/30651064   \n",
       "60544      66186   DDFC  https://pantip.com/topic/30651064   \n",
       "\n",
       "                                                    text  \\\n",
       "0      เมื่อก่อนหลายปีมาแล้ว ในเซเว่นยังมีนมเมจิรสหวา...   \n",
       "1                                       เบาหวานครับ แฮ่ๆ   \n",
       "2      หาซื้อไม่ได้นี่คิดได้  2 อย่างนะ.    คนไม่ค่อย...   \n",
       "3      เป็นรสที่ขายไม่ดีครับ\\r\\nรสพื้นฐานคือ\\r\\nจืด แ...   \n",
       "4      ถ้าขายไม่ดีเค้าก็เอาออกครับ shelf life มันน้อย...   \n",
       "5                       เสียใจ เราก็ดันชอบแต่รสนี้ซะด้วย   \n",
       "6      ตอนเด็กๆชอบกินมากที่ฝาสีเขียว เห็นกระทู้นี้เลย...   \n",
       "7      ตามหัวข้อเลยค่ะ อยากรู้ว่านมเมจิที่ต้มก่อนนำไป...   \n",
       "8      ต้มไม่ดี (ร้อนเกินนานเกิน) จะมีกลิ่นไหม้จางๆ แ...   \n",
       "9                                              ขอบคุณค่า   \n",
       "10     ส่วนมากผมกินแบบเวฟ เวฟอุ่นกลิ่นนมหอมกว่า มีครี...   \n",
       "11                                            ขอบคุณนะคะ   \n",
       "12     ไม่ต้มจ้า เราชงแบบนี้เลย\\r\\nhttps://youtu.be/q...   \n",
       "13     วันก่อนซื้อ นมเมจิขวด 2 ลิตร มากิน สังเกตฝามัน...   \n",
       "14     อยากรู้ว่าMakroมีนมยี่ห้อ meiji(เมจิ) ขายมั้ยครับ   \n",
       "15                                                 มีค่ะ   \n",
       "16     ต้องมีอยู่แล้วครับ ห้างก็ของเขา นมเขาก็นำเข้าค...   \n",
       "17                                       มีครับซื้อประจำ   \n",
       "18                  มีค่า บางทีก็เห็นลดราคา จัดโปรแพคคู่   \n",
       "19     อยากถามว่า\\r\\n\\r\\n1.คิดค่าจัดส่งยังไงครับ\\r\\n2...   \n",
       "20     ลองอินบ็อก ไปถามแอ็ดมินซีพีเมจิดูสิครับ\\r\\nใช้...   \n",
       "21                            ลองถามทาง line ดู \\r\\nครับ   \n",
       "22     สวัสดี เราคือมนุษย์ออฟฟิศ อายุ 25 ปี ที่เสพติด...   \n",
       "23     ไม่ประหลาดดค่ะเราก็ชอบดื่มนม ชอบเมจิเหมือนกันค...   \n",
       "24     ไม่ประหลาดดค่ะเราก็ชอบดื่มนม ชอบเมจิเหมือนกันค...   \n",
       "25     ไม่ประหลาดดค่ะเราก็ชอบดื่มนม ชอบเมจิเหมือนกันค...   \n",
       "26                                          เนอะอร่อยอ่ะ   \n",
       "27                      โอ้ยมันไม่ขึ้นสักทีกดรัวไปหน่อย😂   \n",
       "28        ก็ดีสำหรับร้างกายคุณค่ะ ถ้าไม่แพ้นมวัวก็ยิ่งดี   \n",
       "29                                   ระวัง อ้วน  เบาหวาน   \n",
       "...                                                  ...   \n",
       "60515                                                ผิด   \n",
       "60516                                จิตรลดา ชัวร์ที่สุด   \n",
       "60517  เหมือนโฟโมสต์จะใช้นมผงนะคะ เคยได้ยินมาเมื่อปีส...   \n",
       "60518  เชื่อใจจิตรลดายี่ห้อเดียว\\r\\nแต่เราไม่ค่อยเน้น...   \n",
       "60519  จิตรลดา / วัวแดง /หนองโพ\\r\\n3ยี่ห้อนี้ล่ะคะ เด...   \n",
       "60520      กินอยู่ 3 ยี่ห้อ\\r\\n\\r\\nจิตรลดา หนองโพ วัวแดง   \n",
       "60521  เคยเรียนทำกาแฟสดค่ะ เค้าแนะนำให้ใช้นมจิตรดากับ...   \n",
       "60522  นมยี่ห้อโชคชัย (ที่ไม่ใช่อื้มมิลล์)\\r\\nอสค.(ไท...   \n",
       "60523                                          ผิดค่าาาา   \n",
       "60524             นมยี่ห้อโชคชัย บางรสใช้นมผงผสมด้วยครับ   \n",
       "60525  เราเองก็เชียร์ให้ลูกชายดื่มนมจิตรลดานะ เชียร์ม...   \n",
       "60526  โฟร์.... มีนมผงค่ะ เราเอามาตรวจในแล็บเองกับมือ...   \n",
       "60527  แล้วยี่ห้ออื่นแท้มั้ยคะ พวกเมจิ,แมกโนเลีย,ดัชม...   \n",
       "60528                                            20-1 ผง   \n",
       "60529  นมผง มีขั้นตอนการผลิตยังไงครับ นมผงก็ผลิตมาจาก...   \n",
       "60530  -นมผง ทำจากน้ำนมสดที่สกัดไขมันออก(เอาไปทำพวกนม...   \n",
       "60531  โชคชัยกินแล้วรู้สึกถึงความมันของนม\\r\\nแต่เคยดู...   \n",
       "60532                                      ขอบคุณมากครับ   \n",
       "60533                    เจ้าของกระทู้จะเล่นมุกหรือเปล่า   \n",
       "60534  ไทยเดนมาร์คกินกันหลายคนนะที่นี่ แต่เรียกวัวแดง...   \n",
       "60535  ผมก็ประมาณว่า 3 ยี่ห้อครับ เช่น วัวแดง,หนองโพ,...   \n",
       "60536  อ่านฉลากเอาครับ \\r\\nนมโคสด 100% คือนมที่ไม่ปลอ...   \n",
       "60537  เพิ่มเติมนม pasteurized ตรา F&N Magnolia เป็นน...   \n",
       "60538             หนองโพ กับจิตลดา อีกเสียงคะ // อิอิ ..   \n",
       "60539  ผมใช้นมโฟร์โมสต์จาก 7-11 มาชงแฟกินครับ ถ้าดื่ม...   \n",
       "60540  นมผง คือเอานมดิบดีๆ มาคัดไขมันนมและอื่นๆออกไปใ...   \n",
       "60541  นมสด รสชาติมันดีนะ\\r\\nเพราะมีปริมาณไขมันสูง ดั...   \n",
       "60542  มีหลายยี่ห้อนะค่ะ พวกจิตรดา ไทยเดนมาร์ค โฟร์โม...   \n",
       "60543  เดี๋ยวนมรสจืด ส่วนใหญ่ก็นมโคแท้ 100%ทั้งนั้นแห...   \n",
       "60544  ตามกฏหมายเอง นมโคสดแท้ 100% กับนมโคแท้ 100% ไม...   \n",
       "\n",
       "                    Retrived_date  \\\n",
       "0      2020-10-26 12:40:26.135083   \n",
       "1      2020-10-26 12:40:26.135083   \n",
       "2      2020-10-26 12:40:26.135083   \n",
       "3      2020-10-26 12:40:26.135083   \n",
       "4      2020-10-26 12:40:26.135083   \n",
       "5      2020-10-26 12:40:26.135083   \n",
       "6      2020-10-26 12:40:26.135083   \n",
       "7      2020-10-26 12:40:26.135083   \n",
       "8      2020-10-26 12:40:26.135083   \n",
       "9      2020-10-26 12:40:26.135083   \n",
       "10     2020-10-26 12:40:26.135083   \n",
       "11     2020-10-26 12:40:26.135083   \n",
       "12     2020-10-26 12:40:26.135083   \n",
       "13     2020-10-26 12:40:26.135083   \n",
       "14     2020-10-26 12:40:26.135083   \n",
       "15     2020-10-26 12:40:26.135083   \n",
       "16     2020-10-26 12:40:26.135083   \n",
       "17     2020-10-26 12:40:26.135083   \n",
       "18     2020-10-26 12:40:26.135083   \n",
       "19     2020-10-26 12:40:26.135083   \n",
       "20     2020-10-26 12:40:26.135083   \n",
       "21     2020-10-26 12:40:26.135083   \n",
       "22     2020-10-26 12:40:26.135083   \n",
       "23     2020-10-26 12:40:26.135083   \n",
       "24     2020-10-26 12:40:26.135083   \n",
       "25     2020-10-26 12:40:26.135083   \n",
       "26     2020-10-26 12:40:26.135083   \n",
       "27     2020-10-26 12:40:26.135083   \n",
       "28     2020-10-26 12:40:26.135083   \n",
       "29     2020-10-26 12:40:26.135083   \n",
       "...                           ...   \n",
       "60515  2020-10-27 13:54:33.920930   \n",
       "60516  2020-10-27 13:54:33.920930   \n",
       "60517  2020-10-27 13:54:33.920930   \n",
       "60518  2020-10-27 13:54:33.920930   \n",
       "60519  2020-10-27 13:54:33.920930   \n",
       "60520  2020-10-27 13:54:33.920930   \n",
       "60521  2020-10-27 13:54:33.920930   \n",
       "60522  2020-10-27 13:54:33.920930   \n",
       "60523  2020-10-27 13:54:33.920930   \n",
       "60524  2020-10-27 13:54:33.920930   \n",
       "60525  2020-10-27 13:54:33.920930   \n",
       "60526  2020-10-27 13:54:33.920930   \n",
       "60527  2020-10-27 13:54:33.920930   \n",
       "60528  2020-10-27 13:54:33.920930   \n",
       "60529  2020-10-27 13:54:33.920930   \n",
       "60530  2020-10-27 13:54:33.920930   \n",
       "60531  2020-10-27 13:54:33.920930   \n",
       "60532  2020-10-27 13:54:33.920930   \n",
       "60533  2020-10-27 13:54:33.920930   \n",
       "60534  2020-10-27 13:54:33.920930   \n",
       "60535  2020-10-27 13:54:33.920930   \n",
       "60536  2020-10-27 13:54:33.920930   \n",
       "60537  2020-10-27 13:54:33.920930   \n",
       "60538  2020-10-27 13:54:33.920930   \n",
       "60539  2020-10-27 13:54:33.920930   \n",
       "60540  2020-10-27 13:54:33.920930   \n",
       "60541  2020-10-27 13:54:33.920930   \n",
       "60542  2020-10-27 13:54:33.920930   \n",
       "60543  2020-10-27 13:54:33.920930   \n",
       "60544  2020-10-27 13:54:33.920930   \n",
       "\n",
       "                                              token_text  \\\n",
       "0      [ปี, 7-Eleven, ยังมี, นม, เมจิ, รสหวาน, ขาย, อ...   \n",
       "1                                              [เบาหวาน]   \n",
       "2      [หา, ซื้อไม่ได้, คิดได้, , .    คน, กินกัน, ไม...   \n",
       "3      [รส, ขายไม่ดี, รส, พื้นฐาน, จืด, แบ่ง, %,, ไขม...   \n",
       "4      [ขายไม่ดี, เค้า, shelf life, เวลา, หมดอายุ, ค่...   \n",
       "5                                 [เสียใจ, ดัน, ชอบ, รส]   \n",
       "6      [ตอน, เด็ก, ชอบ, กิน, ฝา, สี, เขียว, กระทู้, น...   \n",
       "7      [หัวข้อ, อยากรู้, นม, เมจิ, ต้ม, ส่วนผสม, เครื...   \n",
       "8      [ต้ม, ไม่, ดี, ร้อน, กลิ่น, ไหม้, จางๆ, สี, ต้...   \n",
       "9                                          [ขอบ, คุณค่า]   \n",
       "10     [ผม, กิน, เวฟ, เวฟ, อุ่น, กลิ่น, นม, หอม, ครีม...   \n",
       "11                                              [ขอบคุณ]   \n",
       "12       [ไม่, ต้ม, ชง, แบบนี้, youtu, be, qdrlx, -pjxi]   \n",
       "13     [วันก่อน, ซื้อ, นม, เมจิ, ขวด, ลิตร, กิน, สังเ...   \n",
       "14         [อยากรู้, makro, นม, ยี่ห้อ, เมจิ, เมจิ, ขาย]   \n",
       "15                                                    []   \n",
       "16                   [อยู่แล้ว, ห้าง, นม, นำเข้า, เครือ]   \n",
       "17                                           [ซื้อประจำ]   \n",
       "18                          [มีค่า, ลดราคา, โปร, แพคคู่]   \n",
       "19     [ถาม, 1., ค่าจัดส่ง, 2., ซื้อ, ได้, ส่วนลด, 3....   \n",
       "20     [ลอง, อิน, บ็อก, ถาม, แอ็ด, เมจิ, ดู, สิ, ใช้ไ...   \n",
       "21                                  [ลอง, ถาม, line, ดู]   \n",
       "22     [สวัสดี, มนุษย์, ออฟฟิศ, อายุ, ปี, เสพติด, กิน...   \n",
       "23     [ไม่, ประหลาด, ชอบ, ดื่มนม, ชอบ, เมจิ, เหมือนก...   \n",
       "24     [ไม่, ประหลาด, ชอบ, ดื่มนม, ชอบ, เมจิ, เหมือนก...   \n",
       "25     [ไม่, ประหลาด, ชอบ, ดื่มนม, ชอบ, เมจิ, เหมือนก...   \n",
       "26                                    [เนอะ, อร่อย, อ่ะ]   \n",
       "27                           [โอ้ย, ไม่, สักที, กด, รัว]   \n",
       "28                [สำหรับ, ร้าง, กาย, ไม่, แพ้นมวัว, ดี]   \n",
       "29                              [ระวัง, อ้วน, , เบาหวาน]   \n",
       "...                                                  ...   \n",
       "60515                                                 []   \n",
       "60516                                   [จิตรลดา, ชัวร์]   \n",
       "60517  [เหมือน, โฟร์โมสต์, นมผง, ได้ยิน, ปี, สอง, ปีก...   \n",
       "60518  [เชื่อใจ, จิตรลดา, ยี่ห้อ, อร่อย, รสจืด, จิตรล...   \n",
       "60519  [จิตรลดา, ไทยเดนมาร์ค, หนองโพ, ยี่ห้อ, ล่ะ, เด...   \n",
       "60520        [กิน, ยี่ห้อ, จิตรลดา, หนองโพ, ไทยเดนมาร์ค]   \n",
       "60521  [เรียน, ทำ, กาแฟสด, เค้า, แนะนำ, นม, จิตร, ดา,...   \n",
       "60522  [นม, ยี่ห้อ, โชคชัย, ไม่, อื้ม, ลล์), สค., ไทย...   \n",
       "60523                                           [ค่า, า]   \n",
       "60524                [นม, ยี่ห้อ, โชคชัย, รส, นมผง, ผสม]   \n",
       "60525  [เชียร์, ลูกชาย, ดื่มนม, จิตรลดา, เชียร์, ขวบ,...   \n",
       "60526  [โฟร์, ...., นมผง, ตรวจ, แล็บ, มือ, ไทยเดนมาร์...   \n",
       "60527            [ยี่ห้อ, เมจิ, แมก, โน, เลีย, ดัชมิลล์]   \n",
       "60528                                               [ผง]   \n",
       "60529  [นมผง, ขั้นตอน, การผลิต, นมผง, ผลิต, มาจาก, นม...   \n",
       "60530  [นมผง, ทำ, น้ำ, นมสด, สกัด, ไขมัน, ทำ, นม, เนย...   \n",
       "60531  [โชคชัย, กิน, รู้สึก, ความมัน, นม, ดู, ก้น, ขว...   \n",
       "60532                                           [ขอบคุณ]   \n",
       "60533                       [เจ้าของ, กระทู้, เล่น, มุก]   \n",
       "60534  [ไทยเดนมาร์ค, กินกัน, คน, ที่นี่, ไทยเดนมาร์ค,...   \n",
       "60535         [ผม, ยี่ห้อ, ไทยเดนมาร์ค, หนองโพ, จิตรลดา]   \n",
       "60536  [อ่าน, ฉลาก, นม, โค, สด, นม, ไม่, ปลอมปน, นมผง...   \n",
       "60537  [นม, pasteurized, ตรา, magnolia, นมสด, วัว, จร...   \n",
       "60538                  [หนองโพ, จิต, ลดา, เสียง, //, ..]   \n",
       "60539  [ผม, นม, โฟร์โมสต์, 7-Eleven, ชง, แฟ, กิน, ดื่...   \n",
       "60540  [นมผง, นม, ดิบดี, คัด, ไขมัน, นม, ทำ, หางนม, ท...   \n",
       "60541  [นมสด, รสชาติ, มันดี, ปริมาณ, ไขมัน, ดังนั้น, ...   \n",
       "60542  [ยี่ห้อ, จิตร, ดา, ไทยเดนมาร์ค, โฟร์โมสต์, เลื...   \n",
       "60543  [เดี๋ยว, นม, รสจืด, นม, โค, นั้นแหละ, ไม่, อ.ย...   \n",
       "60544  [ตา, มก, หมาย, นม, โค, สด, นม, โค, ไม่, เหมือน...   \n",
       "\n",
       "                                       cmt_mention_brand  \\\n",
       "0                                                 [เมจิ]   \n",
       "1                                                     []   \n",
       "2                                                     []   \n",
       "3                                                     []   \n",
       "4                                                     []   \n",
       "5                                                     []   \n",
       "6                                                     []   \n",
       "7                                                 [เมจิ]   \n",
       "8                                                     []   \n",
       "9                                                     []   \n",
       "10                                   [เมจิ, ไทยเดนมาร์ค]   \n",
       "11                                                    []   \n",
       "12                                                    []   \n",
       "13                                                [เมจิ]   \n",
       "14                                          [เมจิ, เมจิ]   \n",
       "15                                                    []   \n",
       "16                                                    []   \n",
       "17                                                    []   \n",
       "18                                                    []   \n",
       "19                                                    []   \n",
       "20                                                [เมจิ]   \n",
       "21                                                    []   \n",
       "22                                                [เมจิ]   \n",
       "23                                          [เมจิ, เมจิ]   \n",
       "24                                          [เมจิ, เมจิ]   \n",
       "25                                          [เมจิ, เมจิ]   \n",
       "26                                                    []   \n",
       "27                                                    []   \n",
       "28                                                    []   \n",
       "29                                                    []   \n",
       "...                                                  ...   \n",
       "60515                                                 []   \n",
       "60516                                          [จิตรลดา]   \n",
       "60517                                        [โฟร์โมสต์]   \n",
       "60518                                 [จิตรลดา, จิตรลดา]   \n",
       "60519                     [จิตรลดา, ไทยเดนมาร์ค, หนองโพ]   \n",
       "60520                     [จิตรลดา, หนองโพ, ไทยเดนมาร์ค]   \n",
       "60521                                             [เมจิ]   \n",
       "60522                          [โชคชัย, หนองโพ, จิตรลดา]   \n",
       "60523                                                 []   \n",
       "60524                                           [โชคชัย]   \n",
       "60525                                 [จิตรลดา, จิตรลดา]   \n",
       "60526                                      [ไทยเดนมาร์ค]   \n",
       "60527                                   [เมจิ, ดัชมิลล์]   \n",
       "60528                                                 []   \n",
       "60529                                                 []   \n",
       "60530                                                 []   \n",
       "60531                                           [โชคชัย]   \n",
       "60532                                                 []   \n",
       "60533                                                 []   \n",
       "60534  [ไทยเดนมาร์ค, ไทยเดนมาร์ค, หนองโพ, ไทยเดนมาร์ค...   \n",
       "60535                     [ไทยเดนมาร์ค, หนองโพ, จิตรลดา]   \n",
       "60536                     [ไทยเดนมาร์ค, หนองโพ, จิตรลดา]   \n",
       "60537       [จิตรลดา, เมจิ, โฟร์โมสต์, ดัชมิลล์, หนองโพ]   \n",
       "60538                                           [หนองโพ]   \n",
       "60539                                        [โฟร์โมสต์]   \n",
       "60540                                                 []   \n",
       "60541                                                 []   \n",
       "60542                           [ไทยเดนมาร์ค, โฟร์โมสต์]   \n",
       "60543                   [ไทยเดนมาร์ค, หนองโพ, โฟร์โมสต์]   \n",
       "60544                                                 []   \n",
       "\n",
       "                                     cmt_mention_product  \n",
       "0                               [นม, รสหวาน, นม, รสหวาน]  \n",
       "1                                                     []  \n",
       "2                                               [รสหวาน]  \n",
       "3      [ไขมันต่ำ, ไขมัน 0%, ช็อกโกแลต, สตรอว์เบอร์รี,...  \n",
       "4                                                     []  \n",
       "5                                                     []  \n",
       "6                                                     []  \n",
       "7                                                   [นม]  \n",
       "8                                                   [นม]  \n",
       "9                                                     []  \n",
       "10                                          [นม, นม, นม]  \n",
       "11                                                    []  \n",
       "12                                                    []  \n",
       "13                                              [นม, นม]  \n",
       "14                                                  [นม]  \n",
       "15                                                    []  \n",
       "16                                                  [นม]  \n",
       "17                                                    []  \n",
       "18                                                    []  \n",
       "19                                                    []  \n",
       "20                                                    []  \n",
       "21                                                    []  \n",
       "22                                        [นม, ไขมัน 0%]  \n",
       "23                                                  [นม]  \n",
       "24                                                  [นม]  \n",
       "25                                                  [นม]  \n",
       "26                                                    []  \n",
       "27                                                    []  \n",
       "28                                                    []  \n",
       "29                                                    []  \n",
       "...                                                  ...  \n",
       "60515                                                 []  \n",
       "60516                                                 []  \n",
       "60517                                                 []  \n",
       "60518                                            [รสจืด]  \n",
       "60519                                                 []  \n",
       "60520                                                 []  \n",
       "60521                                       [นม, นม, นม]  \n",
       "60522                                           [นม, นม]  \n",
       "60523                                                 []  \n",
       "60524                                               [นม]  \n",
       "60525                                               [นม]  \n",
       "60526                                                 []  \n",
       "60527                                                 []  \n",
       "60528                                                 []  \n",
       "60529                                               [นม]  \n",
       "60530                                 [นม, พาสเจอร์ไรส์]  \n",
       "60531                                           [นม, นม]  \n",
       "60532                                                 []  \n",
       "60533                                                 []  \n",
       "60534                                                 []  \n",
       "60535                                                 []  \n",
       "60536                                   [นม, นม, นม, นม]  \n",
       "60537                                   [นม, นม, นม, นม]  \n",
       "60538                                                 []  \n",
       "60539                                       [นม, นม, นม]  \n",
       "60540                               [นม, นม, นม, นม, นม]  \n",
       "60541  [นม, นม, นม, ไขมันต่ำ, นม, ไขมันต่ำ, นม, นม, น...  \n",
       "60542                                                 []  \n",
       "60543                            [นม, รสจืด, นม, นม, นม]  \n",
       "60544                                   [นม, นม, นม, นม]  \n",
       "\n",
       "[60545 rows x 8 columns]"
      ]
     },
     "execution_count": 45,
     "metadata": {},
     "output_type": "execute_result"
    }
   ],
   "source": [
    "df_process_comment"
   ]
  },
  {
   "cell_type": "markdown",
   "metadata": {},
   "source": [
    "2.3) Insert comments to DB"
   ]
  },
  {
   "cell_type": "code",
   "execution_count": 46,
   "metadata": {
    "colab": {
     "base_uri": "https://localhost:8080/"
    },
    "id": "Hunm5MT7TCd2",
    "outputId": "15710375-8df1-46f0-85a2-04c66e1de5d9"
   },
   "outputs": [
    {
     "data": {
      "text/plain": [
       "<pymongo.results.InsertManyResult at 0x186be73cc88>"
      ]
     },
     "execution_count": 46,
     "metadata": {},
     "output_type": "execute_result"
    }
   ],
   "source": [
    "col_comment.delete_many({})\n",
    "process_data = create_InsertMany_comments(df_process_comment)\n",
    "col_comment.insert_many(process_data)"
   ]
  },
  {
   "cell_type": "markdown",
   "metadata": {},
   "source": [
    "2.4) Tokenize head of thread"
   ]
  },
  {
   "cell_type": "code",
   "execution_count": 47,
   "metadata": {},
   "outputs": [],
   "source": [
    "df_process_thread['token_text'] = df_process_thread['text'].apply(lambda x: tokenize_custom(x,trie))"
   ]
  },
  {
   "cell_type": "markdown",
   "metadata": {},
   "source": [
    "2.5) Generalized keyword (Brand & product)"
   ]
  },
  {
   "cell_type": "code",
   "execution_count": 48,
   "metadata": {},
   "outputs": [],
   "source": [
    "df_process_thread['token_text'] = df_process_thread['token_text'].apply(lambda x: generalize_keyword(x))"
   ]
  },
  {
   "cell_type": "markdown",
   "metadata": {},
   "source": [
    "2.6) Mark domain/entity mention"
   ]
  },
  {
   "cell_type": "code",
   "execution_count": 49,
   "metadata": {},
   "outputs": [],
   "source": [
    "df_process_thread['t_mention_brand'] = df_process_thread['token_text'].apply(lambda x: find_brands_product(x,'b'))\n",
    "df_process_thread['t_mention_product'] = df_process_thread['token_text'].apply(lambda x: find_brands_product(x,'p'))"
   ]
  },
  {
   "cell_type": "code",
   "execution_count": 50,
   "metadata": {},
   "outputs": [
    {
     "data": {
      "text/html": [
       "<div>\n",
       "<style scoped>\n",
       "    .dataframe tbody tr th:only-of-type {\n",
       "        vertical-align: middle;\n",
       "    }\n",
       "\n",
       "    .dataframe tbody tr th {\n",
       "        vertical-align: top;\n",
       "    }\n",
       "\n",
       "    .dataframe thead th {\n",
       "        text-align: right;\n",
       "    }\n",
       "</style>\n",
       "<table border=\"1\" class=\"dataframe\">\n",
       "  <thead>\n",
       "    <tr style=\"text-align: right;\">\n",
       "      <th></th>\n",
       "      <th>commentId</th>\n",
       "      <th>URLs</th>\n",
       "      <th>text</th>\n",
       "      <th>token_text</th>\n",
       "      <th>mention_product</th>\n",
       "      <th>mention_brand</th>\n",
       "      <th>t_mention_brand</th>\n",
       "      <th>t_mention_product</th>\n",
       "    </tr>\n",
       "  </thead>\n",
       "  <tbody>\n",
       "    <tr>\n",
       "      <th>0</th>\n",
       "      <td>1</td>\n",
       "      <td>https://pantip.com/topic/39868603</td>\n",
       "      <td>เมื่อก่อนหลายปีมาแล้ว ในเซเว่นยังมีนมเมจิรสหวา...</td>\n",
       "      <td>[ปี, 7-Eleven, ยังมี, นม, เมจิ, รสหวาน, ขาย, อ...</td>\n",
       "      <td>None</td>\n",
       "      <td>None</td>\n",
       "      <td>[เมจิ]</td>\n",
       "      <td>[นม, รสหวาน, นม, รสหวาน]</td>\n",
       "    </tr>\n",
       "    <tr>\n",
       "      <th>1</th>\n",
       "      <td>10</td>\n",
       "      <td>https://pantip.com/topic/39597709</td>\n",
       "      <td>ตามหัวข้อเลยค่ะ อยากรู้ว่านมเมจิที่ต้มก่อนนำไป...</td>\n",
       "      <td>[หัวข้อ, อยากรู้, นม, เมจิ, ต้ม, ส่วนผสม, เครื...</td>\n",
       "      <td>None</td>\n",
       "      <td>None</td>\n",
       "      <td>[เมจิ]</td>\n",
       "      <td>[นม]</td>\n",
       "    </tr>\n",
       "    <tr>\n",
       "      <th>2</th>\n",
       "      <td>18</td>\n",
       "      <td>https://pantip.com/topic/39747201</td>\n",
       "      <td>วันก่อนซื้อ นมเมจิขวด 2 ลิตร มากิน สังเกตฝามัน...</td>\n",
       "      <td>[วันก่อน, ซื้อ, นม, เมจิ, ขวด, ลิตร, กิน, สังเ...</td>\n",
       "      <td>None</td>\n",
       "      <td>None</td>\n",
       "      <td>[เมจิ]</td>\n",
       "      <td>[นม, นม]</td>\n",
       "    </tr>\n",
       "    <tr>\n",
       "      <th>3</th>\n",
       "      <td>21</td>\n",
       "      <td>https://pantip.com/topic/39732615</td>\n",
       "      <td>อยากรู้ว่าMakroมีนมยี่ห้อ meiji(เมจิ) ขายมั้ยครับ</td>\n",
       "      <td>[อยากรู้, makro, นม, ยี่ห้อ, เมจิ, เมจิ, ขาย]</td>\n",
       "      <td>None</td>\n",
       "      <td>None</td>\n",
       "      <td>[เมจิ, เมจิ]</td>\n",
       "      <td>[นม]</td>\n",
       "    </tr>\n",
       "    <tr>\n",
       "      <th>4</th>\n",
       "      <td>28</td>\n",
       "      <td>https://pantip.com/topic/39005469</td>\n",
       "      <td>อยากถามว่า\\r\\n\\r\\n1.คิดค่าจัดส่งยังไงครับ\\r\\n2...</td>\n",
       "      <td>[ถาม, 1., ค่าจัดส่ง, 2., ซื้อ, ได้, ส่วนลด, 3....</td>\n",
       "      <td>None</td>\n",
       "      <td>None</td>\n",
       "      <td>[]</td>\n",
       "      <td>[]</td>\n",
       "    </tr>\n",
       "  </tbody>\n",
       "</table>\n",
       "</div>"
      ],
      "text/plain": [
       "   commentId                               URLs  \\\n",
       "0          1  https://pantip.com/topic/39868603   \n",
       "1         10  https://pantip.com/topic/39597709   \n",
       "2         18  https://pantip.com/topic/39747201   \n",
       "3         21  https://pantip.com/topic/39732615   \n",
       "4         28  https://pantip.com/topic/39005469   \n",
       "\n",
       "                                                text  \\\n",
       "0  เมื่อก่อนหลายปีมาแล้ว ในเซเว่นยังมีนมเมจิรสหวา...   \n",
       "1  ตามหัวข้อเลยค่ะ อยากรู้ว่านมเมจิที่ต้มก่อนนำไป...   \n",
       "2  วันก่อนซื้อ นมเมจิขวด 2 ลิตร มากิน สังเกตฝามัน...   \n",
       "3  อยากรู้ว่าMakroมีนมยี่ห้อ meiji(เมจิ) ขายมั้ยครับ   \n",
       "4  อยากถามว่า\\r\\n\\r\\n1.คิดค่าจัดส่งยังไงครับ\\r\\n2...   \n",
       "\n",
       "                                          token_text mention_product  \\\n",
       "0  [ปี, 7-Eleven, ยังมี, นม, เมจิ, รสหวาน, ขาย, อ...            None   \n",
       "1  [หัวข้อ, อยากรู้, นม, เมจิ, ต้ม, ส่วนผสม, เครื...            None   \n",
       "2  [วันก่อน, ซื้อ, นม, เมจิ, ขวด, ลิตร, กิน, สังเ...            None   \n",
       "3      [อยากรู้, makro, นม, ยี่ห้อ, เมจิ, เมจิ, ขาย]            None   \n",
       "4  [ถาม, 1., ค่าจัดส่ง, 2., ซื้อ, ได้, ส่วนลด, 3....            None   \n",
       "\n",
       "  mention_brand t_mention_brand         t_mention_product  \n",
       "0          None          [เมจิ]  [นม, รสหวาน, นม, รสหวาน]  \n",
       "1          None          [เมจิ]                      [นม]  \n",
       "2          None          [เมจิ]                  [นม, นม]  \n",
       "3          None    [เมจิ, เมจิ]                      [นม]  \n",
       "4          None              []                        []  "
      ]
     },
     "execution_count": 50,
     "metadata": {},
     "output_type": "execute_result"
    }
   ],
   "source": [
    "df_process_thread.head()"
   ]
  },
  {
   "cell_type": "markdown",
   "metadata": {},
   "source": [
    "2.7) Insert thread to DB"
   ]
  },
  {
   "cell_type": "code",
   "execution_count": 51,
   "metadata": {},
   "outputs": [
    {
     "data": {
      "text/plain": [
       "<pymongo.results.InsertManyResult at 0x186a6cbfc08>"
      ]
     },
     "execution_count": 51,
     "metadata": {},
     "output_type": "execute_result"
    }
   ],
   "source": [
    "col_thread.delete_many({})\n",
    "process_data = create_InsertMany_Thread(df_process_thread)\n",
    "col_thread.insert_many(process_data)"
   ]
  },
  {
   "cell_type": "code",
   "execution_count": 52,
   "metadata": {
    "executionInfo": {
     "elapsed": 890,
     "status": "ok",
     "timestamp": 1604027734766,
     "user": {
      "displayName": "Pacharapol O.",
      "photoUrl": "https://lh3.googleusercontent.com/a-/AOh14GiBNaVjsCxoMVUqEvSDC7eauF0V2ZD7B-TzevR1TQ=s64",
      "userId": "00378494490135533545"
     },
     "user_tz": -420
    },
    "id": "J30GMUlJTCdh"
   },
   "outputs": [],
   "source": [
    "del df_textList1,df_textList2,df_thread,df_Corpus,df_process_comment,df_process_thread"
   ]
  },
  {
   "cell_type": "markdown",
   "metadata": {},
   "source": [
    "### 3.Process หัวกระทู้เพื่อดึง Domain (Brand & Product) ไม่ใช้โมเดลเทรนแล้วทำนาย ต้องการความถูกต้อง 100%"
   ]
  },
  {
   "cell_type": "code",
   "execution_count": 53,
   "metadata": {},
   "outputs": [],
   "source": [
    "cursor_thread = col_thread.find()\n",
    "df_thr_process = pd.DataFrame(cursor_thread)"
   ]
  },
  {
   "cell_type": "code",
   "execution_count": 54,
   "metadata": {},
   "outputs": [],
   "source": [
    "cursor_comment = col_comment.find()\n",
    "df_cmt_process = pd.DataFrame(cursor_comment)"
   ]
  },
  {
   "cell_type": "code",
   "execution_count": 73,
   "metadata": {},
   "outputs": [],
   "source": [
    "df_urls_milk = df_thr_process[(df_thr_process.t_mention_brand.str.len() != 0) | (df_thr_process.t_mention_product.str.len() != 0)]\n",
    "df_urls_milk['t_mention_brand'] = df_urls_milk['t_mention_brand'].apply(lambda x: repr(set(x)))\n",
    "df_urls_milk['t_mention_product'] = df_urls_milk['t_mention_product'].apply(lambda x: repr(set(x)))"
   ]
  },
  {
   "cell_type": "code",
   "execution_count": 74,
   "metadata": {},
   "outputs": [],
   "source": [
    "df_join_url = pd.merge(df_urls_milk,df_cmt_process,how='inner',on='URLs')\n",
    "df_join_url.drop(columns=['Table','_id_x','_id_y','text_x','token_text_x','cmt_mention_brand','cmt_mention_product'],inplace=True)\n",
    "df_join_url.columns = ['URLs','t_mention_brand','t_mention_product'\n",
    "                       ,'Retrived_date','commentId','comment_text','token_text',]"
   ]
  },
  {
   "cell_type": "code",
   "execution_count": 75,
   "metadata": {},
   "outputs": [
    {
     "data": {
      "text/html": [
       "<div>\n",
       "<style scoped>\n",
       "    .dataframe tbody tr th:only-of-type {\n",
       "        vertical-align: middle;\n",
       "    }\n",
       "\n",
       "    .dataframe tbody tr th {\n",
       "        vertical-align: top;\n",
       "    }\n",
       "\n",
       "    .dataframe thead th {\n",
       "        text-align: right;\n",
       "    }\n",
       "</style>\n",
       "<table border=\"1\" class=\"dataframe\">\n",
       "  <thead>\n",
       "    <tr style=\"text-align: right;\">\n",
       "      <th></th>\n",
       "      <th>URLs</th>\n",
       "      <th>t_mention_brand</th>\n",
       "      <th>t_mention_product</th>\n",
       "      <th>Retrived_date</th>\n",
       "      <th>commentId</th>\n",
       "      <th>comment_text</th>\n",
       "      <th>token_text</th>\n",
       "    </tr>\n",
       "  </thead>\n",
       "  <tbody>\n",
       "    <tr>\n",
       "      <th>0</th>\n",
       "      <td>https://pantip.com/topic/39868603</td>\n",
       "      <td>{'เมจิ'}</td>\n",
       "      <td>{'นม', 'รสหวาน'}</td>\n",
       "      <td>2020-10-26 12:40:26.135083</td>\n",
       "      <td>1</td>\n",
       "      <td>เมื่อก่อนหลายปีมาแล้ว ในเซเว่นยังมีนมเมจิรสหวา...</td>\n",
       "      <td>[ปี, 7-Eleven, ยังมี, นม, เมจิ, รสหวาน, ขาย, อ...</td>\n",
       "    </tr>\n",
       "    <tr>\n",
       "      <th>1</th>\n",
       "      <td>https://pantip.com/topic/39868603</td>\n",
       "      <td>{'เมจิ'}</td>\n",
       "      <td>{'นม', 'รสหวาน'}</td>\n",
       "      <td>2020-10-26 12:40:26.135083</td>\n",
       "      <td>2</td>\n",
       "      <td>เบาหวานครับ แฮ่ๆ</td>\n",
       "      <td>[เบาหวาน]</td>\n",
       "    </tr>\n",
       "    <tr>\n",
       "      <th>2</th>\n",
       "      <td>https://pantip.com/topic/39868603</td>\n",
       "      <td>{'เมจิ'}</td>\n",
       "      <td>{'นม', 'รสหวาน'}</td>\n",
       "      <td>2020-10-26 12:40:26.135083</td>\n",
       "      <td>3</td>\n",
       "      <td>หาซื้อไม่ได้นี่คิดได้  2 อย่างนะ.    คนไม่ค่อย...</td>\n",
       "      <td>[หา, ซื้อไม่ได้, คิดได้, , .    คน, กินกัน, ไม...</td>\n",
       "    </tr>\n",
       "  </tbody>\n",
       "</table>\n",
       "</div>"
      ],
      "text/plain": [
       "                                URLs t_mention_brand t_mention_product  \\\n",
       "0  https://pantip.com/topic/39868603        {'เมจิ'}  {'นม', 'รสหวาน'}   \n",
       "1  https://pantip.com/topic/39868603        {'เมจิ'}  {'นม', 'รสหวาน'}   \n",
       "2  https://pantip.com/topic/39868603        {'เมจิ'}  {'นม', 'รสหวาน'}   \n",
       "\n",
       "                Retrived_date  commentId  \\\n",
       "0  2020-10-26 12:40:26.135083          1   \n",
       "1  2020-10-26 12:40:26.135083          2   \n",
       "2  2020-10-26 12:40:26.135083          3   \n",
       "\n",
       "                                        comment_text  \\\n",
       "0  เมื่อก่อนหลายปีมาแล้ว ในเซเว่นยังมีนมเมจิรสหวา...   \n",
       "1                                   เบาหวานครับ แฮ่ๆ   \n",
       "2  หาซื้อไม่ได้นี่คิดได้  2 อย่างนะ.    คนไม่ค่อย...   \n",
       "\n",
       "                                          token_text  \n",
       "0  [ปี, 7-Eleven, ยังมี, นม, เมจิ, รสหวาน, ขาย, อ...  \n",
       "1                                          [เบาหวาน]  \n",
       "2  [หา, ซื้อไม่ได้, คิดได้, , .    คน, กินกัน, ไม...  "
      ]
     },
     "execution_count": 75,
     "metadata": {},
     "output_type": "execute_result"
    }
   ],
   "source": [
    "df_join_url.head(3)"
   ]
  },
  {
   "cell_type": "markdown",
   "metadata": {},
   "source": [
    "EDA#2"
   ]
  },
  {
   "cell_type": "code",
   "execution_count": 76,
   "metadata": {},
   "outputs": [
    {
     "name": "stderr",
     "output_type": "stream",
     "text": [
      "C:\\ProgramData\\Anaconda3\\lib\\site-packages\\ipykernel_launcher.py:2: UserWarning: Pandas doesn't allow columns to be created via a new attribute name - see https://pandas.pydata.org/pandas-docs/stable/indexing.html#attribute-access\n",
      "  \n"
     ]
    }
   ],
   "source": [
    "df_view = df_urls_milk[['URLs','t_mention_product']]\n",
    "df_view.column = ['URLs','t_mention_product']\n",
    "df_view_count = df_view.groupby('t_mention_product').count()"
   ]
  },
  {
   "cell_type": "code",
   "execution_count": 77,
   "metadata": {},
   "outputs": [],
   "source": [
    "df_c_urls_milk = df_cmt_process[(df_cmt_process.cmt_mention_brand.str.len() != 0) | (df_cmt_process.cmt_mention_product.str.len() != 0)]\n",
    "df_c_urls_milk['cmt_mention_brand'] = df_c_urls_milk['cmt_mention_brand'].apply(lambda x: repr(set(x)))\n",
    "df_c_urls_milk['cmt_mention_product'] = df_c_urls_milk['cmt_mention_product'].apply(lambda x: repr(set(x)))"
   ]
  },
  {
   "cell_type": "code",
   "execution_count": 78,
   "metadata": {},
   "outputs": [
    {
     "name": "stderr",
     "output_type": "stream",
     "text": [
      "C:\\ProgramData\\Anaconda3\\lib\\site-packages\\ipykernel_launcher.py:2: UserWarning: Pandas doesn't allow columns to be created via a new attribute name - see https://pandas.pydata.org/pandas-docs/stable/indexing.html#attribute-access\n",
      "  \n"
     ]
    }
   ],
   "source": [
    "df_view2 = df_c_urls_milk[['URLs','cmt_mention_product']]\n",
    "df_view2.column = ['URLs','cmt_mention_product']\n",
    "df_view_count2 = df_view2.groupby('cmt_mention_product').count()"
   ]
  },
  {
   "cell_type": "code",
   "execution_count": 90,
   "metadata": {},
   "outputs": [
    {
     "name": "stdout",
     "output_type": "stream",
     "text": [
      "จำนวนกระทู้ 1514\n",
      "จำนวน comment 60545\n",
      "จำนวนกระทู้พูดถึง brand หรือ มีนมเกี่ยวข้อง อย่างใดอย่างหนึ่ง 742\n",
      "จำนวนกระทู้มีระบุตัว product 310\n",
      "จำนวน comment พูดถึง brand หรือมีนมเกี่ยวข้องง อย่างใดอย่างหนึ่ง 8726\n",
      "จำนวน comment มีระบุตัว product 3256\n",
      "odd product/นม กระทู้ 0.42\n",
      "odd product/นม comment 0.37\n",
      "หมายเหตุ : ไม่ได้ impute ขั้วกระทู้เข้า comment\n"
     ]
    }
   ],
   "source": [
    "print('จำนวนกระทู้',df_thr_process.shape[0])\n",
    "print('จำนวน comment',df_cmt_process.shape[0])\n",
    "print('จำนวนกระทู้พูดถึง brand หรือ มีนมเกี่ยวข้อง อย่างใดอย่างหนึ่ง',df_urls_milk.shape[0])\n",
    "print('จำนวนกระทู้มีระบุตัว product',df_view[(df_view.t_mention_product!=\"{'นม'}\")&(df_view.t_mention_product!=\"set()\")].shape[0])\n",
    "print('จำนวน comment พูดถึง brand หรือมีนมเกี่ยวข้องง อย่างใดอย่างหนึ่ง',df_c_urls_milk.shape[0])\n",
    "print('จำนวน comment มีระบุตัว product',df_view2[(df_view2.cmt_mention_product!=\"{'นม'}\")&(df_view2.cmt_mention_product!=\"set()\")].shape[0])\n",
    "print('odd product/นม กระทู้',round(df_view[(df_view.t_mention_product!=\"{'นม'}\")&(df_view.t_mention_product!=\"set()\")].shape[0]/df_urls_milk.shape[0],2))\n",
    "print('odd product/นม comment',round(df_view2[(df_view2.cmt_mention_product!=\"{'นม'}\")&(df_view2.cmt_mention_product!=\"set()\")].shape[0]/df_c_urls_milk.shape[0],2))\n",
    "print('หมายเหตุ : ไม่ได้ impute ขั้วกระทู้เข้า comment')"
   ]
  },
  {
   "cell_type": "markdown",
   "metadata": {},
   "source": [
    "จาก Issue นี้จะพบว่าทำ Product position ได้ยาก แต่ทำ Brand position แทนได้ เนื่องจากสัดส่วนของข้อความที่มีการพูดถึง brand+flavor \n",
    "มีน้อยกว่าครึ่ง จึงให้ใช้วิธีเอา brand ของหัวกระทู้แปะไปในทุก comment แทน เพื่อทำ Brand Position ส่วน flavor จะกลายเป็น attribute ไป"
   ]
  },
  {
   "cell_type": "code",
   "execution_count": 72,
   "metadata": {
    "scrolled": true
   },
   "outputs": [
    {
     "data": {
      "text/html": [
       "<div>\n",
       "<style scoped>\n",
       "    .dataframe tbody tr th:only-of-type {\n",
       "        vertical-align: middle;\n",
       "    }\n",
       "\n",
       "    .dataframe tbody tr th {\n",
       "        vertical-align: top;\n",
       "    }\n",
       "\n",
       "    .dataframe thead th {\n",
       "        text-align: right;\n",
       "    }\n",
       "</style>\n",
       "<table border=\"1\" class=\"dataframe\">\n",
       "  <thead>\n",
       "    <tr style=\"text-align: right;\">\n",
       "      <th></th>\n",
       "      <th>URLs</th>\n",
       "    </tr>\n",
       "    <tr>\n",
       "      <th>cmt_mention_product</th>\n",
       "      <th></th>\n",
       "    </tr>\n",
       "  </thead>\n",
       "  <tbody>\n",
       "    <tr>\n",
       "      <th>{'นม'}</th>\n",
       "      <td>4266</td>\n",
       "    </tr>\n",
       "    <tr>\n",
       "      <th>set()</th>\n",
       "      <td>1204</td>\n",
       "    </tr>\n",
       "    <tr>\n",
       "      <th>{'โยเกิร์ต'}</th>\n",
       "      <td>381</td>\n",
       "    </tr>\n",
       "    <tr>\n",
       "      <th>{'ช็อกโกแลต'}</th>\n",
       "      <td>217</td>\n",
       "    </tr>\n",
       "    <tr>\n",
       "      <th>{'โยเกิร์ต', 'นม'}</th>\n",
       "      <td>197</td>\n",
       "    </tr>\n",
       "    <tr>\n",
       "      <th>{'รสจืด', 'นม'}</th>\n",
       "      <td>168</td>\n",
       "    </tr>\n",
       "    <tr>\n",
       "      <th>{'รสจืด'}</th>\n",
       "      <td>140</td>\n",
       "    </tr>\n",
       "    <tr>\n",
       "      <th>{'นม', 'พาสเจอร์ไรส์'}</th>\n",
       "      <td>135</td>\n",
       "    </tr>\n",
       "    <tr>\n",
       "      <th>{'ไขมันต่ำ', 'นม'}</th>\n",
       "      <td>114</td>\n",
       "    </tr>\n",
       "    <tr>\n",
       "      <th>{'นม', 'ช็อกโกแลต'}</th>\n",
       "      <td>112</td>\n",
       "    </tr>\n",
       "    <tr>\n",
       "      <th>{'สตรอว์เบอร์รี'}</th>\n",
       "      <td>90</td>\n",
       "    </tr>\n",
       "    <tr>\n",
       "      <th>{'รสหวาน'}</th>\n",
       "      <td>75</td>\n",
       "    </tr>\n",
       "    <tr>\n",
       "      <th>{'นม', 'รสหวาน'}</th>\n",
       "      <td>73</td>\n",
       "    </tr>\n",
       "    <tr>\n",
       "      <th>{'เมจิโกลด์'}</th>\n",
       "      <td>66</td>\n",
       "    </tr>\n",
       "    <tr>\n",
       "      <th>{'ไขมันต่ำ'}</th>\n",
       "      <td>60</td>\n",
       "    </tr>\n",
       "    <tr>\n",
       "      <th>{'ไฮโปรตีน', 'นม'}</th>\n",
       "      <td>56</td>\n",
       "    </tr>\n",
       "    <tr>\n",
       "      <th>{'โยเกิร์ต', 'รสธรรมชาติ'}</th>\n",
       "      <td>53</td>\n",
       "    </tr>\n",
       "    <tr>\n",
       "      <th>{'รสธรรมชาติ'}</th>\n",
       "      <td>53</td>\n",
       "    </tr>\n",
       "    <tr>\n",
       "      <th>{'ไขมัน 0%', 'นม'}</th>\n",
       "      <td>50</td>\n",
       "    </tr>\n",
       "    <tr>\n",
       "      <th>{'รสกาแฟ', 'นม'}</th>\n",
       "      <td>50</td>\n",
       "    </tr>\n",
       "    <tr>\n",
       "      <th>{'นม', 'อัลมอนด์'}</th>\n",
       "      <td>47</td>\n",
       "    </tr>\n",
       "    <tr>\n",
       "      <th>{'รสกาแฟ'}</th>\n",
       "      <td>38</td>\n",
       "    </tr>\n",
       "    <tr>\n",
       "      <th>{'ไฮโปรตีน'}</th>\n",
       "      <td>36</td>\n",
       "    </tr>\n",
       "    <tr>\n",
       "      <th>{'คาราเมล'}</th>\n",
       "      <td>35</td>\n",
       "    </tr>\n",
       "    <tr>\n",
       "      <th>{'สตรอว์เบอร์รี', 'นม'}</th>\n",
       "      <td>30</td>\n",
       "    </tr>\n",
       "    <tr>\n",
       "      <th>{'รสกลมกล่อม'}</th>\n",
       "      <td>29</td>\n",
       "    </tr>\n",
       "    <tr>\n",
       "      <th>{'พาสเจอร์ไรส์'}</th>\n",
       "      <td>29</td>\n",
       "    </tr>\n",
       "    <tr>\n",
       "      <th>{'รสกลมกล่อม', 'รสธรรมชาติ'}</th>\n",
       "      <td>27</td>\n",
       "    </tr>\n",
       "    <tr>\n",
       "      <th>{'นมฮอกไกโด', 'นม'}</th>\n",
       "      <td>25</td>\n",
       "    </tr>\n",
       "    <tr>\n",
       "      <th>{'เมจิโกลด์', 'นม'}</th>\n",
       "      <td>21</td>\n",
       "    </tr>\n",
       "    <tr>\n",
       "      <th>...</th>\n",
       "      <td>...</td>\n",
       "    </tr>\n",
       "    <tr>\n",
       "      <th>{'สตรอว์เบอร์รี', 'โยเกิร์ต', 'ไขมัน 0%', 'ช็อกโกแลต', 'นม'}</th>\n",
       "      <td>1</td>\n",
       "    </tr>\n",
       "    <tr>\n",
       "      <th>{'สตรอว์เบอร์รี', 'โยเกิร์ต', 'เมจิโกลด์', 'นม'}</th>\n",
       "      <td>1</td>\n",
       "    </tr>\n",
       "    <tr>\n",
       "      <th>{'สตรอว์เบอร์รี', 'โยเกิร์ต', 'อัลมอนด์', 'ดาร์คช็อกโกแลต'}</th>\n",
       "      <td>1</td>\n",
       "    </tr>\n",
       "    <tr>\n",
       "      <th>{'สตรอว์เบอร์รี', 'โยเกิร์ต', 'รสจืด'}</th>\n",
       "      <td>1</td>\n",
       "    </tr>\n",
       "    <tr>\n",
       "      <th>{'รสหวาน', 'รสธรรมชาติ', 'โยเกิร์ต', 'ช็อกโกแลต', 'รสจืด', 'นม'}</th>\n",
       "      <td>1</td>\n",
       "    </tr>\n",
       "    <tr>\n",
       "      <th>{'รสหวาน', 'สตรอว์เบอร์รี', 'โยเกิร์ต', 'ช็อกโกแลต', 'นม'}</th>\n",
       "      <td>1</td>\n",
       "    </tr>\n",
       "    <tr>\n",
       "      <th>{'รสหวาน', 'สตรอว์เบอร์รี', 'ไขมันต่ำ', 'รสจืด', 'นม'}</th>\n",
       "      <td>1</td>\n",
       "    </tr>\n",
       "    <tr>\n",
       "      <th>{'รสหวาน', 'ไขมัน 0%', 'ไขมันต่ำ', 'สตรอว์เบอร์รี', 'ช็อกโกแลต'}</th>\n",
       "      <td>1</td>\n",
       "    </tr>\n",
       "    <tr>\n",
       "      <th>{'รสหวาน', 'ไขมัน 0%', 'ไขมันต่ำ', 'สตรอว์เบอร์รี', 'รสจืด', 'นม'}</th>\n",
       "      <td>1</td>\n",
       "    </tr>\n",
       "    <tr>\n",
       "      <th>{'รสหวาน', 'ไขมัน 0%', 'ไขมันต่ำ', 'อัลมอนด์', 'นม'}</th>\n",
       "      <td>1</td>\n",
       "    </tr>\n",
       "    <tr>\n",
       "      <th>{'รสหวาน', 'ไขมันต่ำ', 'โยเกิร์ต', 'รสจืด', 'นม'}</th>\n",
       "      <td>1</td>\n",
       "    </tr>\n",
       "    <tr>\n",
       "      <th>{'ช็อกโกแลต', 'นม', 'ดาร์คช็อกโกแลต'}</th>\n",
       "      <td>1</td>\n",
       "    </tr>\n",
       "    <tr>\n",
       "      <th>{'สตรอว์เบอร์รี', 'คาราเมล'}</th>\n",
       "      <td>1</td>\n",
       "    </tr>\n",
       "    <tr>\n",
       "      <th>{'บัลแกเรีย', 'รสกลมกล่อม', 'โยเกิร์ต', 'ไขมันต่ำ', 'รสธรรมชาติ'}</th>\n",
       "      <td>1</td>\n",
       "    </tr>\n",
       "    <tr>\n",
       "      <th>{'สตรอว์เบอร์รี', 'นม', 'คาราเมล', 'รสหวาน'}</th>\n",
       "      <td>1</td>\n",
       "    </tr>\n",
       "    <tr>\n",
       "      <th>{'สตรอว์เบอร์รี', 'นม', 'ช็อกโกแลต', 'รสกล้วย'}</th>\n",
       "      <td>1</td>\n",
       "    </tr>\n",
       "    <tr>\n",
       "      <th>{'บัลแกเรีย', 'พาสเจอร์ไรส์', 'รสธรรมชาติ', 'โยเกิร์ต', 'รสจืด'}</th>\n",
       "      <td>1</td>\n",
       "    </tr>\n",
       "    <tr>\n",
       "      <th>{'สตรอว์เบอร์รี', 'นม', 'พาสเจอร์ไรส์'}</th>\n",
       "      <td>1</td>\n",
       "    </tr>\n",
       "    <tr>\n",
       "      <th>{'สตรอว์เบอร์รี', 'นม', 'รสกล้วย'}</th>\n",
       "      <td>1</td>\n",
       "    </tr>\n",
       "    <tr>\n",
       "      <th>{'นมฮอกไกโด', 'เมล่อน'}</th>\n",
       "      <td>1</td>\n",
       "    </tr>\n",
       "    <tr>\n",
       "      <th>{'สตรอว์เบอร์รี', 'นมฮอกไกโด', 'นม'}</th>\n",
       "      <td>1</td>\n",
       "    </tr>\n",
       "    <tr>\n",
       "      <th>{'สตรอว์เบอร์รี', 'รสจืด', 'นม', 'รสหวาน'}</th>\n",
       "      <td>1</td>\n",
       "    </tr>\n",
       "    <tr>\n",
       "      <th>{'สตรอว์เบอร์รี', 'รสจืด', 'รสกล้วย'}</th>\n",
       "      <td>1</td>\n",
       "    </tr>\n",
       "    <tr>\n",
       "      <th>{'สตรอว์เบอร์รี', 'รสจืด', 'รสหวาน'}</th>\n",
       "      <td>1</td>\n",
       "    </tr>\n",
       "    <tr>\n",
       "      <th>{'นมฮอกไกโด', 'เมจิโกลด์', 'นม'}</th>\n",
       "      <td>1</td>\n",
       "    </tr>\n",
       "    <tr>\n",
       "      <th>{'สตรอว์เบอร์รี', 'อัลมอนด์'}</th>\n",
       "      <td>1</td>\n",
       "    </tr>\n",
       "    <tr>\n",
       "      <th>{'สตรอว์เบอร์รี', 'เมจิโกลด์'}</th>\n",
       "      <td>1</td>\n",
       "    </tr>\n",
       "    <tr>\n",
       "      <th>{'สตรอว์เบอร์รี', 'เมล่อน', 'ช็อกโกแลต'}</th>\n",
       "      <td>1</td>\n",
       "    </tr>\n",
       "    <tr>\n",
       "      <th>{'นม', 'ชาเขียวมัจฉะ'}</th>\n",
       "      <td>1</td>\n",
       "    </tr>\n",
       "    <tr>\n",
       "      <th>{'สตรอว์เบอร์รี', 'รสจืด', 'ช็อกโกแลต'}</th>\n",
       "      <td>1</td>\n",
       "    </tr>\n",
       "  </tbody>\n",
       "</table>\n",
       "<p>349 rows × 1 columns</p>\n",
       "</div>"
      ],
      "text/plain": [
       "                                                    URLs\n",
       "cmt_mention_product                                     \n",
       "{'นม'}                                              4266\n",
       "set()                                               1204\n",
       "{'โยเกิร์ต'}                                         381\n",
       "{'ช็อกโกแลต'}                                        217\n",
       "{'โยเกิร์ต', 'นม'}                                   197\n",
       "{'รสจืด', 'นม'}                                      168\n",
       "{'รสจืด'}                                            140\n",
       "{'นม', 'พาสเจอร์ไรส์'}                               135\n",
       "{'ไขมันต่ำ', 'นม'}                                   114\n",
       "{'นม', 'ช็อกโกแลต'}                                  112\n",
       "{'สตรอว์เบอร์รี'}                                     90\n",
       "{'รสหวาน'}                                            75\n",
       "{'นม', 'รสหวาน'}                                      73\n",
       "{'เมจิโกลด์'}                                         66\n",
       "{'ไขมันต่ำ'}                                          60\n",
       "{'ไฮโปรตีน', 'นม'}                                    56\n",
       "{'โยเกิร์ต', 'รสธรรมชาติ'}                            53\n",
       "{'รสธรรมชาติ'}                                        53\n",
       "{'ไขมัน 0%', 'นม'}                                    50\n",
       "{'รสกาแฟ', 'นม'}                                      50\n",
       "{'นม', 'อัลมอนด์'}                                    47\n",
       "{'รสกาแฟ'}                                            38\n",
       "{'ไฮโปรตีน'}                                          36\n",
       "{'คาราเมล'}                                           35\n",
       "{'สตรอว์เบอร์รี', 'นม'}                               30\n",
       "{'รสกลมกล่อม'}                                        29\n",
       "{'พาสเจอร์ไรส์'}                                      29\n",
       "{'รสกลมกล่อม', 'รสธรรมชาติ'}                          27\n",
       "{'นมฮอกไกโด', 'นม'}                                   25\n",
       "{'เมจิโกลด์', 'นม'}                                   21\n",
       "...                                                  ...\n",
       "{'สตรอว์เบอร์รี', 'โยเกิร์ต', 'ไขมัน 0%', 'ช็อก...     1\n",
       "{'สตรอว์เบอร์รี', 'โยเกิร์ต', 'เมจิโกลด์', 'นม'}       1\n",
       "{'สตรอว์เบอร์รี', 'โยเกิร์ต', 'อัลมอนด์', 'ดาร์...     1\n",
       "{'สตรอว์เบอร์รี', 'โยเกิร์ต', 'รสจืด'}                 1\n",
       "{'รสหวาน', 'รสธรรมชาติ', 'โยเกิร์ต', 'ช็อกโกแลต...     1\n",
       "{'รสหวาน', 'สตรอว์เบอร์รี', 'โยเกิร์ต', 'ช็อกโก...     1\n",
       "{'รสหวาน', 'สตรอว์เบอร์รี', 'ไขมันต่ำ', 'รสจืด'...     1\n",
       "{'รสหวาน', 'ไขมัน 0%', 'ไขมันต่ำ', 'สตรอว์เบอร์...     1\n",
       "{'รสหวาน', 'ไขมัน 0%', 'ไขมันต่ำ', 'สตรอว์เบอร์...     1\n",
       "{'รสหวาน', 'ไขมัน 0%', 'ไขมันต่ำ', 'อัลมอนด์', ...     1\n",
       "{'รสหวาน', 'ไขมันต่ำ', 'โยเกิร์ต', 'รสจืด', 'นม'}      1\n",
       "{'ช็อกโกแลต', 'นม', 'ดาร์คช็อกโกแลต'}                  1\n",
       "{'สตรอว์เบอร์รี', 'คาราเมล'}                           1\n",
       "{'บัลแกเรีย', 'รสกลมกล่อม', 'โยเกิร์ต', 'ไขมันต...     1\n",
       "{'สตรอว์เบอร์รี', 'นม', 'คาราเมล', 'รสหวาน'}           1\n",
       "{'สตรอว์เบอร์รี', 'นม', 'ช็อกโกแลต', 'รสกล้วย'}        1\n",
       "{'บัลแกเรีย', 'พาสเจอร์ไรส์', 'รสธรรมชาติ', 'โย...     1\n",
       "{'สตรอว์เบอร์รี', 'นม', 'พาสเจอร์ไรส์'}                1\n",
       "{'สตรอว์เบอร์รี', 'นม', 'รสกล้วย'}                     1\n",
       "{'นมฮอกไกโด', 'เมล่อน'}                                1\n",
       "{'สตรอว์เบอร์รี', 'นมฮอกไกโด', 'นม'}                   1\n",
       "{'สตรอว์เบอร์รี', 'รสจืด', 'นม', 'รสหวาน'}             1\n",
       "{'สตรอว์เบอร์รี', 'รสจืด', 'รสกล้วย'}                  1\n",
       "{'สตรอว์เบอร์รี', 'รสจืด', 'รสหวาน'}                   1\n",
       "{'นมฮอกไกโด', 'เมจิโกลด์', 'นม'}                       1\n",
       "{'สตรอว์เบอร์รี', 'อัลมอนด์'}                          1\n",
       "{'สตรอว์เบอร์รี', 'เมจิโกลด์'}                         1\n",
       "{'สตรอว์เบอร์รี', 'เมล่อน', 'ช็อกโกแลต'}               1\n",
       "{'นม', 'ชาเขียวมัจฉะ'}                                 1\n",
       "{'สตรอว์เบอร์รี', 'รสจืด', 'ช็อกโกแลต'}                1\n",
       "\n",
       "[349 rows x 1 columns]"
      ]
     },
     "execution_count": 72,
     "metadata": {},
     "output_type": "execute_result"
    }
   ],
   "source": [
    "df_view_count2.sort_values(by='URLs',ascending=False)"
   ]
  },
  {
   "cell_type": "markdown",
   "metadata": {},
   "source": [
    "### 4.ทำ Topic Modeling และคัดเลือกกระทู้ที่มีความเกี่ยวข้อง แล้วดึงคำไปใช้"
   ]
  },
  {
   "cell_type": "code",
   "execution_count": null,
   "metadata": {},
   "outputs": [],
   "source": [
    "dictionary = gensim.corpora.Dictionary(df_join_url['token_text'])\n",
    "gensim_corpus = [dictionary.doc2bow(text, allow_update=True) for text in df_join_url['token_text']]\n",
    "word_frequencies = [[(dictionary[id], frequence) for id, frequence in couple] for couple in gensim_corpus]"
   ]
  },
  {
   "cell_type": "code",
   "execution_count": null,
   "metadata": {},
   "outputs": [],
   "source": [
    "#num_topics = 9\n",
    "chunksize = 4000                  # size of the doc looked at every pass\n",
    "iterations = 50\n",
    "eval_every = 1                    # Don't evaluate model perplexity, takes too much time.\n",
    "\n",
    "# Make a index to word dictionary.\n",
    "temp = dictionary[0]  # This is only to \"load\" the dictionary.\n",
    "id2word = dictionary.id2token\n",
    "\n",
    "%time model = gensim.models.LdaModel(corpus=gensim_corpus, id2word=id2word, chunksize=chunksize \\\n",
    "                                     ,alpha='auto', eta='auto',iterations=iterations, eval_every=eval_every)\n",
    "                                     #,num_topics=num_topics \\\n",
    "                                     #, eval_every=eval_every)"
   ]
  },
  {
   "cell_type": "code",
   "execution_count": null,
   "metadata": {},
   "outputs": [],
   "source": [
    "pyLDAvis.gensim.prepare(model, gensim_corpus, dictionary, R=40, lambda_step=0.1)"
   ]
  },
  {
   "cell_type": "markdown",
   "metadata": {},
   "source": [
    "### 5.get_term_topics เทียบคำที่ได้ไป Review Literature ตามค่าความน่าจะเป็น แล้วสรุป Term"
   ]
  },
  {
   "cell_type": "markdown",
   "metadata": {},
   "source": [
    "https://radimrehurek.com/gensim/models/ldamodel.html"
   ]
  },
  {
   "cell_type": "markdown",
   "metadata": {},
   "source": [
    "<b>Domain ที่พบหลักๆ นอกเหนือจากตัว Product ห้างที่ขาย แบรนด์ (อย่างไรก็ตามต้องทำ LDA Vis อีกรอบเพื่อจัดกลุ่มใหม่หลังคัดเลือก Topic/Term)</b><br>\n",
    "ค้นหาเทียบเคียงกับ ปัจจัยที่มีผลต่อการบริโภคนม\n",
    "1. แม่และเด็ก (Kurajdova et al, 2015)\n",
    "2. ออกกำลังกาย เล่นเวท วิ่ง พูดถึง Whey หางนม โปรตีน เป็นหลัก (คิดว่าแตกจากหมวดสุขภาพ)\n",
    "3. โปรโมชั่น เช่น จัดโปร ส่วนลด พันแถม แพ๊กคู่ (สุภชาติ ชัยณรงค์สิงห์, 2539)\n",
    "4. เอานมให้หมาแมวกิน (เทรนด์ใหม่)\n",
    "5. รสชาติและคุณภาพ เช่น หอม เหม็น มัน อร่อย บูด เสีย GMP (ชาลิสา สถีระกานนท์, 2560)\n",
    "6. ความยากง่ายในการหาซื้อ (Aen De Alwis et al, 2009 & สุภชาติ ชัยณรงค์สิงห์, 2539)\n",
    "7. ทำกาแฟ ทำขนม (Kurajdova et al, 2015)\n",
    "8. สุขภาพ ความสูง ส่วนผสมเพื่อสุขภาพ การขับถ่าย อนุมูลอิสระ (Kurajdova et al, 2015 & Aen De Alwis et al, 2009 & สุภชาติ ชัยณรงค์สิงห์, 2539)\n",
    "9. ราคาและความคุ้มค่า (ปิยฉัตร ช่างเหล็ก, 2561)\n",
    "<br><br>ตรงนี้ต้องหา Paper มาช่วยยันในบางหัวข้อ ถ้ามีส่วนเกินถือว่าเป็นบริบทของประเทศไทย"
   ]
  },
  {
   "cell_type": "raw",
   "metadata": {},
   "source": [
    "#Get the most relevant topics to the given word.\n",
    "# Set probability = 0.0001\n",
    "\n",
    "def get_terms_topics(term_text, d, model, minProb=0.0001):\n",
    "    listofTup = []\n",
    "    for tt_couple in model.get_term_topics(dictionary.token2id[term_text], minimum_probability=minProb):\n",
    "        id_, prob = tt_couple\n",
    "        listofTup.append((d[id_], prob))\n",
    "    df = pd.DataFrame(listofTup)\n",
    "    df.insert(0,'Term',value=term_text)\n",
    "    df.columns = ['Term','topic','prob']\n",
    "    return df.sort_values(by='prob', ascending=False)"
   ]
  },
  {
   "cell_type": "raw",
   "metadata": {},
   "source": [
    "#Get the most relevant topics to the given word.\n",
    "# Set probability = 0.0001\n",
    "\n",
    "def get_topics_terms(topic, d, model, minProb=0.0001):\n",
    "    listofTup = []\n",
    "    for tt_couple in model.get_topic_terms(topic,topn=30):\n",
    "        id_, prob = tt_couple\n",
    "        listofTup.append((d[id_], prob))\n",
    "    df = pd.DataFrame(listofTup)\n",
    "    df.insert(0,'Topic',value=d[topic])\n",
    "    df.columns = ['Topic','term','prob']\n",
    "    return df.sort_values(by='prob', ascending=False)"
   ]
  },
  {
   "cell_type": "raw",
   "metadata": {
    "scrolled": true
   },
   "source": [
    "# องค์ประกอบพื้นฐาน ตาม master ที่ใช้ตัดคำ และ Generalized\n",
    "#get_terms_topics('ซื้อ',dictionary,model)\n",
    "#get_terms_topics('ขาย',dictionary,model)\n",
    "\n",
    "# ไล่เช็คทีละ Topic โดยเลือกจาก Top30 Prob แต่ละกลุ่ม และดูตัวที่สนใจ (ตามทบทวนวรรณกรรม)\n",
    "# สุดที่ 99 กลุ่ม\n",
    "#get_topics_terms(99,dictionary,model).head(3)"
   ]
  },
  {
   "cell_type": "markdown",
   "metadata": {},
   "source": [
    "### 6.สรุป Term & reduced_keyword"
   ]
  },
  {
   "cell_type": "code",
   "execution_count": 101,
   "metadata": {},
   "outputs": [],
   "source": [
    "attrributes = ['การบูด','โปร','โปรโมชั่น','แถม','บูด','เป็นผลดี','หา','หมดอายุ', 'กลิ่น','หอม','กลิ่นหอม', 'แนะนำ', 'กิน', 'shelf life','แม่','คุณแม่'\n",
    " ,'ลูก','เด็ก','เลี้ยงลูก','เลี้ยงเด็ก','พัฒนาการ','คุณแม่มือใหม่','สั่ง', 'ค่าใช้จ่าย', 'เพิ่มขึ้น', 'สินค้า', 'ชอบ','นิยม', 'สี', 'ซื้อไม่ได้'\n",
    " , 'ทิ้ง', 'จืด','หวาน' , 'fat', 'นิยม','ราคาสูง','กาแฟ','ชงกาแฟ','หาย','ต้ม','อุ่น','ร้อน', 'พื้นฐาน', 'ขายไม่ดี'\n",
    " , 'กาแฟสด', 'จ่าย', 'ไขมันต่ำ', 'นม', 'ขาย', 'รส','รสชาติ', 'รสหวาน','กลมกล่อม','ไขมัน','พนักงาน','ไมโครเวฟ','ฟาร์ม'\n",
    " ,'ส่วนผสม','ผสม','เบาหวาน','รสพื้นฐาน','โปรตีน','เวย์','เวท','วิ่ง','protein','whey','ขับถ่าย','อึ','dha','น้ำตาล','เบาหวาน'\n",
    " ,'ฝา', 'นมสด','ถ้วย', 'ร้าน', 'ดื่ม', 'เซเว่น', 'ขวด', 'นึกถึง', 'เสียใจ', 'แตก', 'ซื้อ','ขาย','มีลูก','เทรนเนอร์'\n",
    " ,'ขายไม่ดี','แพคคู่','ค่าจัดส่ง','shelf life','พนักงานขายนม','แพ้นม','แพ้นมวัว','เล่นเวท','ฝาน้ำเงิน','ฝาสีเขียว'\n",
    " ,'นมอุ่น','ชานม','กินนม','ดื่มนม','ท้องเสีย','ลูกสุนัข','สุนัข','หมา','แมว','คายทิ้ง','เจมส์จิ','สตอรี่','แป้ง','ลดราคา'\n",
    " ,'ซื้อประจำ','ซื้อไม่ได้','คาปูชิโน่','อเมริกาโน่','ร้านนม','whey formula','ผิดสังเกต','เสียความรู้สึก','ชี้แจง','บำรุง','น้ำผึ้ง'\n",
    " ,'อาหารเสริม','มีประโยชน์','วิตามิน','นมผง','แคลเซี่ยม','ท้อง','แพะ','อร่อย','โภชนาการ','โรงเรียน','พ่อแม่','ครู','ยูเอชที'\n",
    " ,'ผู้บริโภค','ขโมย','ไอโอดีน','นมข้นหวาน','เนย','ตรวจสอบ','แกลลอน','มันดี','นมวัว','อาเจียน','เวฟ','ไมโครเวฟ','สารอาหาร'\n",
    " ,'ขนส่ง','ถูก','แพง','เค้ก','ทิ้ง','วันหมดอายุ','โอเมก้า','กล่อง','พลังงาน','โภชนาการ','ขนมปัง','ของแถม','ราคาสูง','น้ำนมโค'\n",
    " ,'บรรจุภัณฑ์','นมถั่วเหลือง','ความแข็งแรง','แข็งแรง','พรีเซ็นเตอร์','ญี่ปุ่น','น้ำผลไม้','ออกกำลังกาย','ประหยัด','วิปปิ้ง','uht','เชื้อจุลินทรีย์'\n",
    " ,'แลคโตส']\n",
    "\n",
    "products = ['สตรอว์เบอร์รี','ช็อกโกแลต','กาแฟ','รสหวาน','รสจืด','รสกาแฟ','ไขมันต่ำ','ไขมัน 0%','ไฮโปรตีน','อัลมอนด์'\n",
    ",'รสกล้วย','grass fed','นมฟรีแลคโตส','พาสเจอร์ไรส์','เมจิโกลด์','นมฮอกไกโด','เบดไทม์','ดาร์คช็อกโกแลต','ไฮแคลเซียม'\n",
    ",'คาราเมล','มอลต์','เมล่อน','ชาเขียวมัจฉะ','บัลแกเรีย','โยเกิร์ต','รสธรรมชาติ','รสกลมกล่อม','โยเกิร์ต','ซากุระ','โคล่า'\n",
    ",'แตงโม']\n",
    "\n",
    "brands = ['ดัชมิลล์','เมจิ','โฟร์โมสต์','โชคชัย','แดรี่โฮม','เอ็มมิลค์','แมคโนเลีย','ไทยเดนมาร์ค'\n",
    "          ,'หนองโพ','คาเนชั่น','บีทาเก้น','จิตรลดา']\n",
    "stores = ['tops','makro','lotus','bigc','7-Eleven']\n",
    "\n",
    "reduceCol = attrributes + products + stores"
   ]
  },
  {
   "cell_type": "code",
   "execution_count": 95,
   "metadata": {},
   "outputs": [
    {
     "data": {
      "text/plain": [
       "222"
      ]
     },
     "execution_count": 95,
     "metadata": {},
     "output_type": "execute_result"
    }
   ],
   "source": [
    "len(reduceCol)"
   ]
  },
  {
   "cell_type": "code",
   "execution_count": 96,
   "metadata": {},
   "outputs": [],
   "source": [
    "def reduced_keyword(wtkn,redCol):\n",
    "    del_list = []\n",
    "    ret_wtkn = wtkn\n",
    "    for each in ret_wtkn:\n",
    "        if each not in redCol:\n",
    "            del_list.append(each)\n",
    "    ret_wtkn = [x for x in ret_wtkn if x not in del_list]\n",
    "    return ret_wtkn"
   ]
  },
  {
   "cell_type": "markdown",
   "metadata": {
    "id": "NKW--A73mzli"
   },
   "source": [
    "### 7.สร้าง (Custom) Bag of word ด้วย dictionary.doc2bow จัดลง dataframe"
   ]
  },
  {
   "cell_type": "code",
   "execution_count": 97,
   "metadata": {},
   "outputs": [],
   "source": [
    "cursor_thread = col_thread.find()\n",
    "df_thr_process = pd.DataFrame(cursor_thread)"
   ]
  },
  {
   "cell_type": "code",
   "execution_count": 98,
   "metadata": {},
   "outputs": [],
   "source": [
    "cursor_comment = col_comment.find()\n",
    "df_cmt_process = pd.DataFrame(cursor_comment)"
   ]
  },
  {
   "cell_type": "code",
   "execution_count": 104,
   "metadata": {},
   "outputs": [],
   "source": [
    "df_urls_milk = df_thr_process[(df_thr_process.t_mention_brand.str.len() != 0) | (df_thr_process.t_mention_product.str.len() != 0)]\n",
    "df_urls_milk['t_mention_brand'] = df_urls_milk['t_mention_brand'].apply(lambda x: repr(x))\n",
    "df_urls_milk['t_mention_product'] = df_urls_milk['t_mention_product'].apply(lambda x: repr(x))"
   ]
  },
  {
   "cell_type": "code",
   "execution_count": 105,
   "metadata": {},
   "outputs": [],
   "source": [
    "df_join_url = pd.merge(df_urls_milk,df_cmt_process,how='inner',on='URLs')\n",
    "df_join_url.drop(columns=['Table','_id_x','_id_y','text_x','token_text_x','cmt_mention_brand','cmt_mention_product'],inplace=True)\n",
    "df_join_url.columns = ['URLs','t_mention_brand','t_mention_product'\n",
    "                       ,'Retrived_date','commentId','comment_text','token_text',]"
   ]
  },
  {
   "cell_type": "code",
   "execution_count": 106,
   "metadata": {},
   "outputs": [],
   "source": [
    "df_join_url['token_text_reduce'] = df_join_url['token_text'].apply(lambda x: reduced_keyword(x,reduceCol))"
   ]
  },
  {
   "cell_type": "code",
   "execution_count": 107,
   "metadata": {
    "scrolled": true
   },
   "outputs": [
    {
     "data": {
      "text/html": [
       "<div>\n",
       "<style scoped>\n",
       "    .dataframe tbody tr th:only-of-type {\n",
       "        vertical-align: middle;\n",
       "    }\n",
       "\n",
       "    .dataframe tbody tr th {\n",
       "        vertical-align: top;\n",
       "    }\n",
       "\n",
       "    .dataframe thead th {\n",
       "        text-align: right;\n",
       "    }\n",
       "</style>\n",
       "<table border=\"1\" class=\"dataframe\">\n",
       "  <thead>\n",
       "    <tr style=\"text-align: right;\">\n",
       "      <th></th>\n",
       "      <th>URLs</th>\n",
       "      <th>t_mention_brand</th>\n",
       "      <th>t_mention_product</th>\n",
       "      <th>Retrived_date</th>\n",
       "      <th>comment_text</th>\n",
       "      <th>token_text</th>\n",
       "      <th>token_text_reduce</th>\n",
       "    </tr>\n",
       "    <tr>\n",
       "      <th>commentId</th>\n",
       "      <th></th>\n",
       "      <th></th>\n",
       "      <th></th>\n",
       "      <th></th>\n",
       "      <th></th>\n",
       "      <th></th>\n",
       "      <th></th>\n",
       "    </tr>\n",
       "  </thead>\n",
       "  <tbody>\n",
       "    <tr>\n",
       "      <th>1</th>\n",
       "      <td>https://pantip.com/topic/39868603</td>\n",
       "      <td>['เมจิ']</td>\n",
       "      <td>['นม', 'รสหวาน', 'นม', 'รสหวาน']</td>\n",
       "      <td>2020-10-26 12:40:26.135083</td>\n",
       "      <td>เมื่อก่อนหลายปีมาแล้ว ในเซเว่นยังมีนมเมจิรสหวา...</td>\n",
       "      <td>[ปี, 7-Eleven, ยังมี, นม, เมจิ, รสหวาน, ขาย, อ...</td>\n",
       "      <td>[7-Eleven, นม, รสหวาน, ขาย, หาย, หา, tops, ขวด...</td>\n",
       "    </tr>\n",
       "    <tr>\n",
       "      <th>2</th>\n",
       "      <td>https://pantip.com/topic/39868603</td>\n",
       "      <td>['เมจิ']</td>\n",
       "      <td>['นม', 'รสหวาน', 'นม', 'รสหวาน']</td>\n",
       "      <td>2020-10-26 12:40:26.135083</td>\n",
       "      <td>เบาหวานครับ แฮ่ๆ</td>\n",
       "      <td>[เบาหวาน]</td>\n",
       "      <td>[เบาหวาน]</td>\n",
       "    </tr>\n",
       "    <tr>\n",
       "      <th>3</th>\n",
       "      <td>https://pantip.com/topic/39868603</td>\n",
       "      <td>['เมจิ']</td>\n",
       "      <td>['นม', 'รสหวาน', 'นม', 'รสหวาน']</td>\n",
       "      <td>2020-10-26 12:40:26.135083</td>\n",
       "      <td>หาซื้อไม่ได้นี่คิดได้  2 อย่างนะ.    คนไม่ค่อย...</td>\n",
       "      <td>[หา, ซื้อไม่ได้, คิดได้, , .    คน, กินกัน, ไม...</td>\n",
       "      <td>[หา, ซื้อไม่ได้, นิยม, ขาย, ซื้อ, กิน, รสหวาน]</td>\n",
       "    </tr>\n",
       "    <tr>\n",
       "      <th>4</th>\n",
       "      <td>https://pantip.com/topic/39868603</td>\n",
       "      <td>['เมจิ']</td>\n",
       "      <td>['นม', 'รสหวาน', 'นม', 'รสหวาน']</td>\n",
       "      <td>2020-10-26 12:40:26.135083</td>\n",
       "      <td>เป็นรสที่ขายไม่ดีครับ\\r\\nรสพื้นฐานคือ\\r\\nจืด แ...</td>\n",
       "      <td>[รส, ขายไม่ดี, รส, พื้นฐาน, จืด, แบ่ง, %,, ไขม...</td>\n",
       "      <td>[รส, ขายไม่ดี, รส, พื้นฐาน, จืด, ไขมันต่ำ, ไขม...</td>\n",
       "    </tr>\n",
       "    <tr>\n",
       "      <th>5</th>\n",
       "      <td>https://pantip.com/topic/39868603</td>\n",
       "      <td>['เมจิ']</td>\n",
       "      <td>['นม', 'รสหวาน', 'นม', 'รสหวาน']</td>\n",
       "      <td>2020-10-26 12:40:26.135083</td>\n",
       "      <td>ถ้าขายไม่ดีเค้าก็เอาออกครับ shelf life มันน้อย...</td>\n",
       "      <td>[ขายไม่ดี, เค้า, shelf life, เวลา, หมดอายุ, ค่...</td>\n",
       "      <td>[ขายไม่ดี, shelf life, หมดอายุ, ค่าใช้จ่าย, ร้...</td>\n",
       "    </tr>\n",
       "  </tbody>\n",
       "</table>\n",
       "</div>"
      ],
      "text/plain": [
       "                                        URLs t_mention_brand  \\\n",
       "commentId                                                      \n",
       "1          https://pantip.com/topic/39868603        ['เมจิ']   \n",
       "2          https://pantip.com/topic/39868603        ['เมจิ']   \n",
       "3          https://pantip.com/topic/39868603        ['เมจิ']   \n",
       "4          https://pantip.com/topic/39868603        ['เมจิ']   \n",
       "5          https://pantip.com/topic/39868603        ['เมจิ']   \n",
       "\n",
       "                          t_mention_product               Retrived_date  \\\n",
       "commentId                                                                 \n",
       "1          ['นม', 'รสหวาน', 'นม', 'รสหวาน']  2020-10-26 12:40:26.135083   \n",
       "2          ['นม', 'รสหวาน', 'นม', 'รสหวาน']  2020-10-26 12:40:26.135083   \n",
       "3          ['นม', 'รสหวาน', 'นม', 'รสหวาน']  2020-10-26 12:40:26.135083   \n",
       "4          ['นม', 'รสหวาน', 'นม', 'รสหวาน']  2020-10-26 12:40:26.135083   \n",
       "5          ['นม', 'รสหวาน', 'นม', 'รสหวาน']  2020-10-26 12:40:26.135083   \n",
       "\n",
       "                                                comment_text  \\\n",
       "commentId                                                      \n",
       "1          เมื่อก่อนหลายปีมาแล้ว ในเซเว่นยังมีนมเมจิรสหวา...   \n",
       "2                                           เบาหวานครับ แฮ่ๆ   \n",
       "3          หาซื้อไม่ได้นี่คิดได้  2 อย่างนะ.    คนไม่ค่อย...   \n",
       "4          เป็นรสที่ขายไม่ดีครับ\\r\\nรสพื้นฐานคือ\\r\\nจืด แ...   \n",
       "5          ถ้าขายไม่ดีเค้าก็เอาออกครับ shelf life มันน้อย...   \n",
       "\n",
       "                                                  token_text  \\\n",
       "commentId                                                      \n",
       "1          [ปี, 7-Eleven, ยังมี, นม, เมจิ, รสหวาน, ขาย, อ...   \n",
       "2                                                  [เบาหวาน]   \n",
       "3          [หา, ซื้อไม่ได้, คิดได้, , .    คน, กินกัน, ไม...   \n",
       "4          [รส, ขายไม่ดี, รส, พื้นฐาน, จืด, แบ่ง, %,, ไขม...   \n",
       "5          [ขายไม่ดี, เค้า, shelf life, เวลา, หมดอายุ, ค่...   \n",
       "\n",
       "                                           token_text_reduce  \n",
       "commentId                                                     \n",
       "1          [7-Eleven, นม, รสหวาน, ขาย, หาย, หา, tops, ขวด...  \n",
       "2                                                  [เบาหวาน]  \n",
       "3             [หา, ซื้อไม่ได้, นิยม, ขาย, ซื้อ, กิน, รสหวาน]  \n",
       "4          [รส, ขายไม่ดี, รส, พื้นฐาน, จืด, ไขมันต่ำ, ไขม...  \n",
       "5          [ขายไม่ดี, shelf life, หมดอายุ, ค่าใช้จ่าย, ร้...  "
      ]
     },
     "execution_count": 107,
     "metadata": {},
     "output_type": "execute_result"
    }
   ],
   "source": [
    "df_join_url.set_index('commentId',inplace=True)\n",
    "df_join_url.head()"
   ]
  },
  {
   "cell_type": "code",
   "execution_count": 108,
   "metadata": {},
   "outputs": [],
   "source": [
    "dictionary = gensim.corpora.Dictionary(df_join_url['token_text_reduce'])"
   ]
  },
  {
   "cell_type": "code",
   "execution_count": 109,
   "metadata": {},
   "outputs": [],
   "source": [
    "df_join_url['reduce_bow'] = df_join_url[\"token_text_reduce\"].map(dictionary.doc2bow)\n",
    "df_join_url['reduce_bow_txt'] = df_join_url[\"reduce_bow\"].apply(lambda x:[(dictionary[id_], frequence) for id_, frequence in x])"
   ]
  },
  {
   "cell_type": "code",
   "execution_count": 110,
   "metadata": {
    "scrolled": true
   },
   "outputs": [
    {
     "data": {
      "text/html": [
       "<div>\n",
       "<style scoped>\n",
       "    .dataframe tbody tr th:only-of-type {\n",
       "        vertical-align: middle;\n",
       "    }\n",
       "\n",
       "    .dataframe tbody tr th {\n",
       "        vertical-align: top;\n",
       "    }\n",
       "\n",
       "    .dataframe thead th {\n",
       "        text-align: right;\n",
       "    }\n",
       "</style>\n",
       "<table border=\"1\" class=\"dataframe\">\n",
       "  <thead>\n",
       "    <tr style=\"text-align: right;\">\n",
       "      <th></th>\n",
       "      <th>URLs</th>\n",
       "      <th>t_mention_brand</th>\n",
       "      <th>t_mention_product</th>\n",
       "      <th>Retrived_date</th>\n",
       "      <th>comment_text</th>\n",
       "      <th>token_text</th>\n",
       "      <th>token_text_reduce</th>\n",
       "      <th>reduce_bow</th>\n",
       "      <th>reduce_bow_txt</th>\n",
       "    </tr>\n",
       "    <tr>\n",
       "      <th>commentId</th>\n",
       "      <th></th>\n",
       "      <th></th>\n",
       "      <th></th>\n",
       "      <th></th>\n",
       "      <th></th>\n",
       "      <th></th>\n",
       "      <th></th>\n",
       "      <th></th>\n",
       "      <th></th>\n",
       "    </tr>\n",
       "  </thead>\n",
       "  <tbody>\n",
       "    <tr>\n",
       "      <th>1</th>\n",
       "      <td>https://pantip.com/topic/39868603</td>\n",
       "      <td>['เมจิ']</td>\n",
       "      <td>['นม', 'รสหวาน', 'นม', 'รสหวาน']</td>\n",
       "      <td>2020-10-26 12:40:26.135083</td>\n",
       "      <td>เมื่อก่อนหลายปีมาแล้ว ในเซเว่นยังมีนมเมจิรสหวา...</td>\n",
       "      <td>[ปี, 7-Eleven, ยังมี, นม, เมจิ, รสหวาน, ขาย, อ...</td>\n",
       "      <td>[7-Eleven, นม, รสหวาน, ขาย, หาย, หา, tops, ขวด...</td>\n",
       "      <td>[(0, 1), (1, 1), (2, 2), (3, 1), (4, 1), (5, 2...</td>\n",
       "      <td>[(7-Eleven, 1), (tops, 1), (ขวด, 2), (ขาย, 1),...</td>\n",
       "    </tr>\n",
       "    <tr>\n",
       "      <th>2</th>\n",
       "      <td>https://pantip.com/topic/39868603</td>\n",
       "      <td>['เมจิ']</td>\n",
       "      <td>['นม', 'รสหวาน', 'นม', 'รสหวาน']</td>\n",
       "      <td>2020-10-26 12:40:26.135083</td>\n",
       "      <td>เบาหวานครับ แฮ่ๆ</td>\n",
       "      <td>[เบาหวาน]</td>\n",
       "      <td>[เบาหวาน]</td>\n",
       "      <td>[(12, 1)]</td>\n",
       "      <td>[(เบาหวาน, 1)]</td>\n",
       "    </tr>\n",
       "    <tr>\n",
       "      <th>3</th>\n",
       "      <td>https://pantip.com/topic/39868603</td>\n",
       "      <td>['เมจิ']</td>\n",
       "      <td>['นม', 'รสหวาน', 'นม', 'รสหวาน']</td>\n",
       "      <td>2020-10-26 12:40:26.135083</td>\n",
       "      <td>หาซื้อไม่ได้นี่คิดได้  2 อย่างนะ.    คนไม่ค่อย...</td>\n",
       "      <td>[หา, ซื้อไม่ได้, คิดได้, , .    คน, กินกัน, ไม...</td>\n",
       "      <td>[หา, ซื้อไม่ได้, นิยม, ขาย, ซื้อ, กิน, รสหวาน]</td>\n",
       "      <td>[(3, 1), (6, 1), (9, 1), (10, 1), (13, 1), (14...</td>\n",
       "      <td>[(ขาย, 1), (นิยม, 1), (รสหวาน, 1), (หา, 1), (ก...</td>\n",
       "    </tr>\n",
       "    <tr>\n",
       "      <th>4</th>\n",
       "      <td>https://pantip.com/topic/39868603</td>\n",
       "      <td>['เมจิ']</td>\n",
       "      <td>['นม', 'รสหวาน', 'นม', 'รสหวาน']</td>\n",
       "      <td>2020-10-26 12:40:26.135083</td>\n",
       "      <td>เป็นรสที่ขายไม่ดีครับ\\r\\nรสพื้นฐานคือ\\r\\nจืด แ...</td>\n",
       "      <td>[รส, ขายไม่ดี, รส, พื้นฐาน, จืด, แบ่ง, %,, ไขม...</td>\n",
       "      <td>[รส, ขายไม่ดี, รส, พื้นฐาน, จืด, ไขมันต่ำ, ไขม...</td>\n",
       "      <td>[(4, 1), (7, 1), (8, 2), (9, 1), (16, 1), (17,...</td>\n",
       "      <td>[(ขายไม่ดี, 1), (พื้นฐาน, 1), (รส, 2), (รสหวาน...</td>\n",
       "    </tr>\n",
       "    <tr>\n",
       "      <th>5</th>\n",
       "      <td>https://pantip.com/topic/39868603</td>\n",
       "      <td>['เมจิ']</td>\n",
       "      <td>['นม', 'รสหวาน', 'นม', 'รสหวาน']</td>\n",
       "      <td>2020-10-26 12:40:26.135083</td>\n",
       "      <td>ถ้าขายไม่ดีเค้าก็เอาออกครับ shelf life มันน้อย...</td>\n",
       "      <td>[ขายไม่ดี, เค้า, shelf life, เวลา, หมดอายุ, ค่...</td>\n",
       "      <td>[ขายไม่ดี, shelf life, หมดอายุ, ค่าใช้จ่าย, ร้...</td>\n",
       "      <td>[(2, 1), (4, 2), (14, 1), (24, 1), (25, 1), (2...</td>\n",
       "      <td>[(ขวด, 1), (ขายไม่ดี, 2), (ซื้อ, 1), (shelf li...</td>\n",
       "    </tr>\n",
       "  </tbody>\n",
       "</table>\n",
       "</div>"
      ],
      "text/plain": [
       "                                        URLs t_mention_brand  \\\n",
       "commentId                                                      \n",
       "1          https://pantip.com/topic/39868603        ['เมจิ']   \n",
       "2          https://pantip.com/topic/39868603        ['เมจิ']   \n",
       "3          https://pantip.com/topic/39868603        ['เมจิ']   \n",
       "4          https://pantip.com/topic/39868603        ['เมจิ']   \n",
       "5          https://pantip.com/topic/39868603        ['เมจิ']   \n",
       "\n",
       "                          t_mention_product               Retrived_date  \\\n",
       "commentId                                                                 \n",
       "1          ['นม', 'รสหวาน', 'นม', 'รสหวาน']  2020-10-26 12:40:26.135083   \n",
       "2          ['นม', 'รสหวาน', 'นม', 'รสหวาน']  2020-10-26 12:40:26.135083   \n",
       "3          ['นม', 'รสหวาน', 'นม', 'รสหวาน']  2020-10-26 12:40:26.135083   \n",
       "4          ['นม', 'รสหวาน', 'นม', 'รสหวาน']  2020-10-26 12:40:26.135083   \n",
       "5          ['นม', 'รสหวาน', 'นม', 'รสหวาน']  2020-10-26 12:40:26.135083   \n",
       "\n",
       "                                                comment_text  \\\n",
       "commentId                                                      \n",
       "1          เมื่อก่อนหลายปีมาแล้ว ในเซเว่นยังมีนมเมจิรสหวา...   \n",
       "2                                           เบาหวานครับ แฮ่ๆ   \n",
       "3          หาซื้อไม่ได้นี่คิดได้  2 อย่างนะ.    คนไม่ค่อย...   \n",
       "4          เป็นรสที่ขายไม่ดีครับ\\r\\nรสพื้นฐานคือ\\r\\nจืด แ...   \n",
       "5          ถ้าขายไม่ดีเค้าก็เอาออกครับ shelf life มันน้อย...   \n",
       "\n",
       "                                                  token_text  \\\n",
       "commentId                                                      \n",
       "1          [ปี, 7-Eleven, ยังมี, นม, เมจิ, รสหวาน, ขาย, อ...   \n",
       "2                                                  [เบาหวาน]   \n",
       "3          [หา, ซื้อไม่ได้, คิดได้, , .    คน, กินกัน, ไม...   \n",
       "4          [รส, ขายไม่ดี, รส, พื้นฐาน, จืด, แบ่ง, %,, ไขม...   \n",
       "5          [ขายไม่ดี, เค้า, shelf life, เวลา, หมดอายุ, ค่...   \n",
       "\n",
       "                                           token_text_reduce  \\\n",
       "commentId                                                      \n",
       "1          [7-Eleven, นม, รสหวาน, ขาย, หาย, หา, tops, ขวด...   \n",
       "2                                                  [เบาหวาน]   \n",
       "3             [หา, ซื้อไม่ได้, นิยม, ขาย, ซื้อ, กิน, รสหวาน]   \n",
       "4          [รส, ขายไม่ดี, รส, พื้นฐาน, จืด, ไขมันต่ำ, ไขม...   \n",
       "5          [ขายไม่ดี, shelf life, หมดอายุ, ค่าใช้จ่าย, ร้...   \n",
       "\n",
       "                                                  reduce_bow  \\\n",
       "commentId                                                      \n",
       "1          [(0, 1), (1, 1), (2, 2), (3, 1), (4, 1), (5, 2...   \n",
       "2                                                  [(12, 1)]   \n",
       "3          [(3, 1), (6, 1), (9, 1), (10, 1), (13, 1), (14...   \n",
       "4          [(4, 1), (7, 1), (8, 2), (9, 1), (16, 1), (17,...   \n",
       "5          [(2, 1), (4, 2), (14, 1), (24, 1), (25, 1), (2...   \n",
       "\n",
       "                                              reduce_bow_txt  \n",
       "commentId                                                     \n",
       "1          [(7-Eleven, 1), (tops, 1), (ขวด, 2), (ขาย, 1),...  \n",
       "2                                             [(เบาหวาน, 1)]  \n",
       "3          [(ขาย, 1), (นิยม, 1), (รสหวาน, 1), (หา, 1), (ก...  \n",
       "4          [(ขายไม่ดี, 1), (พื้นฐาน, 1), (รส, 2), (รสหวาน...  \n",
       "5          [(ขวด, 1), (ขายไม่ดี, 2), (ซื้อ, 1), (shelf li...  "
      ]
     },
     "execution_count": 110,
     "metadata": {},
     "output_type": "execute_result"
    }
   ],
   "source": [
    "df_join_url.head()"
   ]
  },
  {
   "cell_type": "code",
   "execution_count": 116,
   "metadata": {},
   "outputs": [],
   "source": [
    "join_df = pd.concat([pd.DataFrame(s,columns=['w','c']).set_index('w') for s in df_join_url[\"reduce_bow_txt\"]], axis=1, sort=False).fillna(0).T.set_index(df_join_url.index)"
   ]
  },
  {
   "cell_type": "code",
   "execution_count": 129,
   "metadata": {},
   "outputs": [],
   "source": [
    "#pd.concat([pd.DataFrame(s) for s in df_join_url[\"t_mention_brand\"]], axis=1, sort=False)"
   ]
  },
  {
   "cell_type": "code",
   "execution_count": 117,
   "metadata": {},
   "outputs": [
    {
     "data": {
      "text/html": [
       "<div>\n",
       "<style scoped>\n",
       "    .dataframe tbody tr th:only-of-type {\n",
       "        vertical-align: middle;\n",
       "    }\n",
       "\n",
       "    .dataframe tbody tr th {\n",
       "        vertical-align: top;\n",
       "    }\n",
       "\n",
       "    .dataframe thead th {\n",
       "        text-align: right;\n",
       "    }\n",
       "</style>\n",
       "<table border=\"1\" class=\"dataframe\">\n",
       "  <thead>\n",
       "    <tr style=\"text-align: right;\">\n",
       "      <th></th>\n",
       "      <th>7-Eleven</th>\n",
       "      <th>tops</th>\n",
       "      <th>ขวด</th>\n",
       "      <th>ขาย</th>\n",
       "      <th>ขายไม่ดี</th>\n",
       "      <th>นม</th>\n",
       "      <th>นิยม</th>\n",
       "      <th>พื้นฐาน</th>\n",
       "      <th>รส</th>\n",
       "      <th>รสหวาน</th>\n",
       "      <th>...</th>\n",
       "      <th>เสียความรู้สึก</th>\n",
       "      <th>พรีเซ็นเตอร์</th>\n",
       "      <th>ความแข็งแรง</th>\n",
       "      <th>เจมส์จิ</th>\n",
       "      <th>ของแถม</th>\n",
       "      <th>พนักงานขายนม</th>\n",
       "      <th>ผิดสังเกต</th>\n",
       "      <th>ไอโอดีน</th>\n",
       "      <th>เบดไทม์</th>\n",
       "      <th>คุณแม่มือใหม่</th>\n",
       "    </tr>\n",
       "    <tr>\n",
       "      <th>commentId</th>\n",
       "      <th></th>\n",
       "      <th></th>\n",
       "      <th></th>\n",
       "      <th></th>\n",
       "      <th></th>\n",
       "      <th></th>\n",
       "      <th></th>\n",
       "      <th></th>\n",
       "      <th></th>\n",
       "      <th></th>\n",
       "      <th></th>\n",
       "      <th></th>\n",
       "      <th></th>\n",
       "      <th></th>\n",
       "      <th></th>\n",
       "      <th></th>\n",
       "      <th></th>\n",
       "      <th></th>\n",
       "      <th></th>\n",
       "      <th></th>\n",
       "      <th></th>\n",
       "    </tr>\n",
       "  </thead>\n",
       "  <tbody>\n",
       "    <tr>\n",
       "      <th>1</th>\n",
       "      <td>1.0</td>\n",
       "      <td>1.0</td>\n",
       "      <td>2.0</td>\n",
       "      <td>1.0</td>\n",
       "      <td>1.0</td>\n",
       "      <td>2.0</td>\n",
       "      <td>1.0</td>\n",
       "      <td>1.0</td>\n",
       "      <td>1.0</td>\n",
       "      <td>2.0</td>\n",
       "      <td>...</td>\n",
       "      <td>0.0</td>\n",
       "      <td>0.0</td>\n",
       "      <td>0.0</td>\n",
       "      <td>0.0</td>\n",
       "      <td>0.0</td>\n",
       "      <td>0.0</td>\n",
       "      <td>0.0</td>\n",
       "      <td>0.0</td>\n",
       "      <td>0.0</td>\n",
       "      <td>0.0</td>\n",
       "    </tr>\n",
       "    <tr>\n",
       "      <th>2</th>\n",
       "      <td>0.0</td>\n",
       "      <td>0.0</td>\n",
       "      <td>0.0</td>\n",
       "      <td>0.0</td>\n",
       "      <td>0.0</td>\n",
       "      <td>0.0</td>\n",
       "      <td>0.0</td>\n",
       "      <td>0.0</td>\n",
       "      <td>0.0</td>\n",
       "      <td>0.0</td>\n",
       "      <td>...</td>\n",
       "      <td>0.0</td>\n",
       "      <td>0.0</td>\n",
       "      <td>0.0</td>\n",
       "      <td>0.0</td>\n",
       "      <td>0.0</td>\n",
       "      <td>0.0</td>\n",
       "      <td>0.0</td>\n",
       "      <td>0.0</td>\n",
       "      <td>0.0</td>\n",
       "      <td>0.0</td>\n",
       "    </tr>\n",
       "    <tr>\n",
       "      <th>3</th>\n",
       "      <td>0.0</td>\n",
       "      <td>0.0</td>\n",
       "      <td>0.0</td>\n",
       "      <td>1.0</td>\n",
       "      <td>0.0</td>\n",
       "      <td>0.0</td>\n",
       "      <td>1.0</td>\n",
       "      <td>0.0</td>\n",
       "      <td>0.0</td>\n",
       "      <td>1.0</td>\n",
       "      <td>...</td>\n",
       "      <td>0.0</td>\n",
       "      <td>0.0</td>\n",
       "      <td>0.0</td>\n",
       "      <td>0.0</td>\n",
       "      <td>0.0</td>\n",
       "      <td>0.0</td>\n",
       "      <td>0.0</td>\n",
       "      <td>0.0</td>\n",
       "      <td>0.0</td>\n",
       "      <td>0.0</td>\n",
       "    </tr>\n",
       "    <tr>\n",
       "      <th>4</th>\n",
       "      <td>0.0</td>\n",
       "      <td>0.0</td>\n",
       "      <td>0.0</td>\n",
       "      <td>0.0</td>\n",
       "      <td>1.0</td>\n",
       "      <td>0.0</td>\n",
       "      <td>0.0</td>\n",
       "      <td>1.0</td>\n",
       "      <td>2.0</td>\n",
       "      <td>1.0</td>\n",
       "      <td>...</td>\n",
       "      <td>0.0</td>\n",
       "      <td>0.0</td>\n",
       "      <td>0.0</td>\n",
       "      <td>0.0</td>\n",
       "      <td>0.0</td>\n",
       "      <td>0.0</td>\n",
       "      <td>0.0</td>\n",
       "      <td>0.0</td>\n",
       "      <td>0.0</td>\n",
       "      <td>0.0</td>\n",
       "    </tr>\n",
       "    <tr>\n",
       "      <th>5</th>\n",
       "      <td>0.0</td>\n",
       "      <td>0.0</td>\n",
       "      <td>1.0</td>\n",
       "      <td>0.0</td>\n",
       "      <td>2.0</td>\n",
       "      <td>0.0</td>\n",
       "      <td>0.0</td>\n",
       "      <td>0.0</td>\n",
       "      <td>0.0</td>\n",
       "      <td>0.0</td>\n",
       "      <td>...</td>\n",
       "      <td>0.0</td>\n",
       "      <td>0.0</td>\n",
       "      <td>0.0</td>\n",
       "      <td>0.0</td>\n",
       "      <td>0.0</td>\n",
       "      <td>0.0</td>\n",
       "      <td>0.0</td>\n",
       "      <td>0.0</td>\n",
       "      <td>0.0</td>\n",
       "      <td>0.0</td>\n",
       "    </tr>\n",
       "  </tbody>\n",
       "</table>\n",
       "<p>5 rows × 190 columns</p>\n",
       "</div>"
      ],
      "text/plain": [
       "           7-Eleven  tops  ขวด  ขาย  ขายไม่ดี   นม  นิยม  พื้นฐาน   รส  \\\n",
       "commentId                                                                \n",
       "1               1.0   1.0  2.0  1.0       1.0  2.0   1.0      1.0  1.0   \n",
       "2               0.0   0.0  0.0  0.0       0.0  0.0   0.0      0.0  0.0   \n",
       "3               0.0   0.0  0.0  1.0       0.0  0.0   1.0      0.0  0.0   \n",
       "4               0.0   0.0  0.0  0.0       1.0  0.0   0.0      1.0  2.0   \n",
       "5               0.0   0.0  1.0  0.0       2.0  0.0   0.0      0.0  0.0   \n",
       "\n",
       "           รสหวาน  ...  เสียความรู้สึก  พรีเซ็นเตอร์  ความแข็งแรง  เจมส์จิ  \\\n",
       "commentId          ...                                                       \n",
       "1             2.0  ...             0.0           0.0          0.0      0.0   \n",
       "2             0.0  ...             0.0           0.0          0.0      0.0   \n",
       "3             1.0  ...             0.0           0.0          0.0      0.0   \n",
       "4             1.0  ...             0.0           0.0          0.0      0.0   \n",
       "5             0.0  ...             0.0           0.0          0.0      0.0   \n",
       "\n",
       "           ของแถม  พนักงานขายนม  ผิดสังเกต  ไอโอดีน  เบดไทม์  คุณแม่มือใหม่  \n",
       "commentId                                                                    \n",
       "1             0.0           0.0        0.0      0.0      0.0            0.0  \n",
       "2             0.0           0.0        0.0      0.0      0.0            0.0  \n",
       "3             0.0           0.0        0.0      0.0      0.0            0.0  \n",
       "4             0.0           0.0        0.0      0.0      0.0            0.0  \n",
       "5             0.0           0.0        0.0      0.0      0.0            0.0  \n",
       "\n",
       "[5 rows x 190 columns]"
      ]
     },
     "execution_count": 117,
     "metadata": {},
     "output_type": "execute_result"
    }
   ],
   "source": [
    "join_df.head()"
   ]
  },
  {
   "cell_type": "markdown",
   "metadata": {
    "id": "uBBA36fDTCfZ"
   },
   "source": [
    "### Create frequency co-occurrence matrix จาก Bag of word"
   ]
  },
  {
   "cell_type": "raw",
   "metadata": {
    "id": "LgE1okejTCfZ"
   },
   "source": [
    "item_item_matrix = pd.DataFrame(index=join_df.columns,columns=join_df.columns).fillna(0)"
   ]
  },
  {
   "cell_type": "raw",
   "metadata": {
    "id": "05j3U3ymTCfb"
   },
   "source": [
    "def cnt_Grpby(df,i,j):\n",
    "    PAIB = pd.DataFrame(df.groupby(df.iloc[:,i].name)[df.iloc[:,j].name].value_counts())\n",
    "    PAIB.index.names = ['A','B']\n",
    "    PAIB.columns = ['freq']\n",
    "    PAIB.reset_index(inplace=True)\n",
    "    _PAIB = PAIB[(PAIB.A>0)&(PAIB.B>0)]\n",
    "    return _PAIB.freq.sum()"
   ]
  },
  {
   "cell_type": "raw",
   "metadata": {
    "id": "1jhFte5eTCfd"
   },
   "source": [
    "# Co-occurrence\n",
    "for i in range(0,len(item_item_matrix.columns)):\n",
    "    for j in range(0,len(item_item_matrix.columns)):\n",
    "        if i != j:\n",
    "            item_item_matrix.iloc[i,j] = cnt_Grpby(join_df,i,j)\n",
    "        else:\n",
    "            item_item_matrix.iloc[i,j] = 0"
   ]
  },
  {
   "cell_type": "raw",
   "metadata": {
    "id": "OhtvLfMXTCfg"
   },
   "source": [
    "item_item_matrix.head()"
   ]
  },
  {
   "cell_type": "raw",
   "metadata": {
    "id": "bsbsqduDTCfh"
   },
   "source": [
    "item_item_matrix.to_excel(comment_cooc_nlp_file, index=True)"
   ]
  },
  {
   "cell_type": "markdown",
   "metadata": {
    "id": "O8nlNNE4TCfj"
   },
   "source": [
    "### Create co-occurrence matrix with Lift normalization"
   ]
  },
  {
   "cell_type": "code",
   "execution_count": null,
   "metadata": {
    "id": "Qykd9Z88TCfj"
   },
   "outputs": [],
   "source": [
    "item_item_matrix = pd.DataFrame(index=join_df.columns,columns=join_df.columns).fillna(0)"
   ]
  },
  {
   "cell_type": "code",
   "execution_count": null,
   "metadata": {
    "id": "ElfF27atTCfp"
   },
   "outputs": [],
   "source": [
    "def a_in_b(df,i,j):\n",
    "    PAIB = pd.DataFrame(df.groupby(df.iloc[:,j].name)[df.iloc[:,i].name].value_counts())\n",
    "    PAIB.index.names = ['B','A']\n",
    "    PAIB.columns = ['freq']\n",
    "    PAIB.reset_index(inplace=True)\n",
    "    PAIB_ = PAIB[(PAIB.A>0)&(PAIB.B>0)]\n",
    "    return PAIB_.freq.sum()/PAIB.freq.sum()"
   ]
  },
  {
   "cell_type": "code",
   "execution_count": null,
   "metadata": {
    "id": "h1sDGAMWTCfr"
   },
   "outputs": [],
   "source": [
    "for i in range(0,len(item_item_matrix.columns)) :\n",
    "    for j in range(0,len(item_item_matrix.columns)) :\n",
    "        A = join_df.iloc[:,i]\n",
    "        B = join_df.iloc[:,j]\n",
    "        PA = A[A!=0].count()/A.shape[0]\n",
    "        PB = B[B!=0].count()/B.shape[0]\n",
    "        PAB = PB*a_in_b(join_df,i,j)\n",
    "        item_item_matrix.iloc[i,j] = PAB/(PA*PB)"
   ]
  },
  {
   "cell_type": "code",
   "execution_count": null,
   "metadata": {
    "id": "Wzd336KbTCfs"
   },
   "outputs": [],
   "source": [
    "item_item_matrix.replace([np.inf, -np.inf], np.nan,inplace=True)\n",
    "item_item_matrix.fillna(0,inplace=True)"
   ]
  },
  {
   "cell_type": "code",
   "execution_count": null,
   "metadata": {
    "id": "8qG7pCYfTCfu"
   },
   "outputs": [],
   "source": [
    "item_item_matrix.head()"
   ]
  },
  {
   "cell_type": "code",
   "execution_count": null,
   "metadata": {
    "id": "LsZZMOcTTCfw"
   },
   "outputs": [],
   "source": [
    "item_item_matrix.to_excel(comment_cooc_lift_file, index=True)"
   ]
  }
 ],
 "metadata": {
  "colab": {
   "collapsed_sections": [
    "EpwX95XlTCdl",
    "_Q9pU1J6TCe5",
    "NKW--A73mzli",
    "uBBA36fDTCfZ",
    "O8nlNNE4TCfj"
   ],
   "name": "EDA_Token_CoocMat.ipynb",
   "provenance": []
  },
  "kernelspec": {
   "display_name": "Python 3",
   "language": "python",
   "name": "python3"
  },
  "language_info": {
   "codemirror_mode": {
    "name": "ipython",
    "version": 3
   },
   "file_extension": ".py",
   "mimetype": "text/x-python",
   "name": "python",
   "nbconvert_exporter": "python",
   "pygments_lexer": "ipython3",
   "version": "3.7.3"
  }
 },
 "nbformat": 4,
 "nbformat_minor": 1
}
