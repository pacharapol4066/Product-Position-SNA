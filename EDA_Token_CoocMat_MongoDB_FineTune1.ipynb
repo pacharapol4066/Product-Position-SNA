{
 "cells": [
  {
   "cell_type": "markdown",
   "metadata": {
    "id": "xoY8sy40TCb5"
   },
   "source": [
    "### IS Proof of concept\n",
    "Finding Product position on Social Network (PPSN)"
   ]
  },
  {
   "cell_type": "raw",
   "metadata": {
    "colab": {
     "base_uri": "https://localhost:8080/"
    },
    "executionInfo": {
     "elapsed": 28353,
     "status": "ok",
     "timestamp": 1604024868503,
     "user": {
      "displayName": "Pacharapol O.",
      "photoUrl": "https://lh3.googleusercontent.com/a-/AOh14GiBNaVjsCxoMVUqEvSDC7eauF0V2ZD7B-TzevR1TQ=s64",
      "userId": "00378494490135533545"
     },
     "user_tz": -420
    },
    "id": "GkBEUBUqTGuf",
    "outputId": "cb22db45-820a-48fd-c11a-a0568439778f"
   },
   "source": [
    "from google.colab import drive\n",
    "drive.mount('/content/drive')"
   ]
  },
  {
   "cell_type": "raw",
   "metadata": {
    "colab": {
     "base_uri": "https://localhost:8080/"
    },
    "executionInfo": {
     "elapsed": 1693,
     "status": "ok",
     "timestamp": 1604024868819,
     "user": {
      "displayName": "Pacharapol O.",
      "photoUrl": "https://lh3.googleusercontent.com/a-/AOh14GiBNaVjsCxoMVUqEvSDC7eauF0V2ZD7B-TzevR1TQ=s64",
      "userId": "00378494490135533545"
     },
     "user_tz": -420
    },
    "id": "_5mrzpx3TH9K",
    "outputId": "129bb192-4ac2-4b03-bc89-7ee7a65d5032"
   },
   "source": [
    "cd /content/drive/My\\ Drive/Colab\\ Notebooks/Master_PJ_DRMABS/Datasource"
   ]
  },
  {
   "cell_type": "code",
   "execution_count": 1,
   "metadata": {
    "executionInfo": {
     "elapsed": 2631,
     "status": "ok",
     "timestamp": 1604024879769,
     "user": {
      "displayName": "Pacharapol O.",
      "photoUrl": "https://lh3.googleusercontent.com/a-/AOh14GiBNaVjsCxoMVUqEvSDC7eauF0V2ZD7B-TzevR1TQ=s64",
      "userId": "00378494490135533545"
     },
     "user_tz": -420
    },
    "id": "cC0cBdCdTCb6"
   },
   "outputs": [],
   "source": [
    "import networkx as nx\n",
    "import numpy as np\n",
    "import pandas as pd\n",
    "import itertools\n",
    "import math\n",
    "import string\n",
    "import json\n",
    "import pymongo"
   ]
  },
  {
   "cell_type": "code",
   "execution_count": 2,
   "metadata": {},
   "outputs": [
    {
     "name": "stderr",
     "output_type": "stream",
     "text": [
      "C:\\ProgramData\\Anaconda3\\lib\\site-packages\\past\\types\\oldstr.py:5: DeprecationWarning: Using or importing the ABCs from 'collections' instead of from 'collections.abc' is deprecated, and in 3.8 it will stop working\n",
      "  from collections import Iterable\n",
      "C:\\ProgramData\\Anaconda3\\lib\\site-packages\\_pytest\\mark\\structures.py:378: DeprecationWarning: The usage of `cmp` is deprecated and will be removed on or after 2021-06-01.  Please use `eq` and `order` instead.\n",
      "  @attr.s(cmp=False, hash=False)\n"
     ]
    }
   ],
   "source": [
    "import gensim\n",
    "import pyLDAvis.gensim\n",
    "pyLDAvis.enable_notebook()\n",
    "import warnings\n",
    "warnings.filterwarnings(\"ignore\", category=DeprecationWarning) "
   ]
  },
  {
   "cell_type": "code",
   "execution_count": 3,
   "metadata": {
    "executionInfo": {
     "elapsed": 2031,
     "status": "ok",
     "timestamp": 1604024879770,
     "user": {
      "displayName": "Pacharapol O.",
      "photoUrl": "https://lh3.googleusercontent.com/a-/AOh14GiBNaVjsCxoMVUqEvSDC7eauF0V2ZD7B-TzevR1TQ=s64",
      "userId": "00378494490135533545"
     },
     "user_tz": -420
    },
    "id": "1kqXURiiTCb-"
   },
   "outputs": [],
   "source": [
    "import time\n",
    "from datetime import datetime\n",
    "today = datetime.now()"
   ]
  },
  {
   "cell_type": "code",
   "execution_count": 4,
   "metadata": {
    "colab": {
     "base_uri": "https://localhost:8080/"
    },
    "executionInfo": {
     "elapsed": 3451,
     "status": "ok",
     "timestamp": 1604028167896,
     "user": {
      "displayName": "Pacharapol O.",
      "photoUrl": "https://lh3.googleusercontent.com/a-/AOh14GiBNaVjsCxoMVUqEvSDC7eauF0V2ZD7B-TzevR1TQ=s64",
      "userId": "00378494490135533545"
     },
     "user_tz": -420
    },
    "id": "weEcXSD8TCcI",
    "outputId": "1219680e-0d54-4649-a26e-535e112f0650"
   },
   "outputs": [],
   "source": [
    "#!pip install pythainlp\n",
    "import pythainlp\n",
    "from pythainlp import Tokenizer\n",
    "from pythainlp.util import normalize\n",
    "from pythainlp.tokenize import word_tokenize\n",
    "from pythainlp.corpus.common import thai_words\n",
    "from pythainlp import sent_tokenize\n",
    "from pythainlp.corpus import thai_stopwords\n",
    "from pythainlp.util import dict_trie\n",
    "from pythainlp.tag import pos_tag"
   ]
  },
  {
   "cell_type": "code",
   "execution_count": 5,
   "metadata": {},
   "outputs": [],
   "source": [
    "import statistics as stat\n",
    "import matplotlib.pyplot as plt\n",
    "import seaborn as sns"
   ]
  },
  {
   "cell_type": "code",
   "execution_count": 6,
   "metadata": {
    "id": "Jpa16DrfTCeL"
   },
   "outputs": [],
   "source": [
    "# https://thainlp.org/pythainlp/docs/2.0/api/tag.html\n",
    "from pythainlp.spell import correct\n",
    "from pythainlp.tag import pos_tag\n",
    "\n",
    "#https://thainlp.org/pythainlp/docs/2.0/api/transliterate.html\n",
    "from pythainlp.transliterate import romanize"
   ]
  },
  {
   "cell_type": "code",
   "execution_count": 7,
   "metadata": {
    "executionInfo": {
     "elapsed": 6121,
     "status": "ok",
     "timestamp": 1604024888335,
     "user": {
      "displayName": "Pacharapol O.",
      "photoUrl": "https://lh3.googleusercontent.com/a-/AOh14GiBNaVjsCxoMVUqEvSDC7eauF0V2ZD7B-TzevR1TQ=s64",
      "userId": "00378494490135533545"
     },
     "user_tz": -420
    },
    "id": "acWWFhczTCcO"
   },
   "outputs": [],
   "source": [
    "from bs4 import BeautifulSoup\n",
    "from urllib.request import urlopen"
   ]
  },
  {
   "cell_type": "code",
   "execution_count": 8,
   "metadata": {
    "executionInfo": {
     "elapsed": 5596,
     "status": "ok",
     "timestamp": 1604024888336,
     "user": {
      "displayName": "Pacharapol O.",
      "photoUrl": "https://lh3.googleusercontent.com/a-/AOh14GiBNaVjsCxoMVUqEvSDC7eauF0V2ZD7B-TzevR1TQ=s64",
      "userId": "00378494490135533545"
     },
     "user_tz": -420
    },
    "id": "l0SZe4-LTCcd"
   },
   "outputs": [],
   "source": [
    "from IPython.display import clear_output"
   ]
  },
  {
   "cell_type": "code",
   "execution_count": 9,
   "metadata": {
    "executionInfo": {
     "elapsed": 831,
     "status": "ok",
     "timestamp": 1604027698593,
     "user": {
      "displayName": "Pacharapol O.",
      "photoUrl": "https://lh3.googleusercontent.com/a-/AOh14GiBNaVjsCxoMVUqEvSDC7eauF0V2ZD7B-TzevR1TQ=s64",
      "userId": "00378494490135533545"
     },
     "user_tz": -420
    },
    "id": "sna_e7nATCch"
   },
   "outputs": [],
   "source": [
    "# Files definition\n",
    "root_path = 'Datasource'\n",
    "\n",
    "comment_file = []\n",
    "comment_file.append(root_path+\"/comment_meiji.csv\")\n",
    "comment_file.append(root_path+\"/comment_DDCF.csv\")\n",
    "\n",
    "#comment_file = []\n",
    "#comment_file.append(\"comment_meiji.csv\")\n",
    "#comment_file.append(\"comment_DDCF.csv\")\n",
    "\n",
    "comment_nlp_file = root_path+\"/comment_nlpToken.csv\"\n",
    "comment_cooc_nlp_file = root_path+\"/comment_cooc.xlsx\"\n",
    "\n",
    "#comment_nlp_file = \"comment_nlpToken.csv\"\n",
    "#comment_cooc_nlp_file = \"comment_cooc.xlsx\""
   ]
  },
  {
   "cell_type": "code",
   "execution_count": 10,
   "metadata": {},
   "outputs": [],
   "source": [
    "# Connect MongoDB\n",
    "myclient = pymongo.MongoClient(\"mongodb://localhost:27017/\")\n",
    "mydb = myclient[\"NIDA_PPSN\"]\n",
    "col_thread = mydb[\"NIDA_PPSN_THREAD_V2\"]\n",
    "col_comment = mydb[\"NIDA_PPSN_COMMENT\"]"
   ]
  },
  {
   "cell_type": "code",
   "execution_count": 11,
   "metadata": {
    "executionInfo": {
     "elapsed": 866,
     "status": "ok",
     "timestamp": 1604028004964,
     "user": {
      "displayName": "Pacharapol O.",
      "photoUrl": "https://lh3.googleusercontent.com/a-/AOh14GiBNaVjsCxoMVUqEvSDC7eauF0V2ZD7B-TzevR1TQ=s64",
      "userId": "00378494490135533545"
     },
     "user_tz": -420
    },
    "id": "oaqpUVffTCdm"
   },
   "outputs": [],
   "source": [
    "def checkStopwords(w):\n",
    "    returnList = []\n",
    "    stopwords = set(thai_stopwords())\n",
    "    stopwords.remove('ไม่')\n",
    "    stopwords.remove('ได้')\n",
    "    for i in w:  # comment\n",
    "        if i not in stopwords:\n",
    "            returnList.append(i)\n",
    "    return returnList"
   ]
  },
  {
   "cell_type": "code",
   "execution_count": 12,
   "metadata": {
    "executionInfo": {
     "elapsed": 952,
     "status": "ok",
     "timestamp": 1604026404057,
     "user": {
      "displayName": "Pacharapol O.",
      "photoUrl": "https://lh3.googleusercontent.com/a-/AOh14GiBNaVjsCxoMVUqEvSDC7eauF0V2ZD7B-TzevR1TQ=s64",
      "userId": "00378494490135533545"
     },
     "user_tz": -420
    },
    "id": "Ja-P4yvKa06u"
   },
   "outputs": [],
   "source": [
    "def checkThai(txt):\n",
    "    prop = pythainlp.util.countthai(txt)\n",
    "    return prop"
   ]
  },
  {
   "cell_type": "code",
   "execution_count": 13,
   "metadata": {
    "executionInfo": {
     "elapsed": 880,
     "status": "ok",
     "timestamp": 1604028299778,
     "user": {
      "displayName": "Pacharapol O.",
      "photoUrl": "https://lh3.googleusercontent.com/a-/AOh14GiBNaVjsCxoMVUqEvSDC7eauF0V2ZD7B-TzevR1TQ=s64",
      "userId": "00378494490135533545"
     },
     "user_tz": -420
    },
    "id": "cr_O7hE5htx2"
   },
   "outputs": [],
   "source": [
    "def normThai(w):\n",
    "    returnList = []\n",
    "    for i in w:\n",
    "        returnList.append(normalize(i))\n",
    "    return returnList"
   ]
  },
  {
   "cell_type": "code",
   "execution_count": 14,
   "metadata": {
    "executionInfo": {
     "elapsed": 880,
     "status": "ok",
     "timestamp": 1604028299778,
     "user": {
      "displayName": "Pacharapol O.",
      "photoUrl": "https://lh3.googleusercontent.com/a-/AOh14GiBNaVjsCxoMVUqEvSDC7eauF0V2ZD7B-TzevR1TQ=s64",
      "userId": "00378494490135533545"
     },
     "user_tz": -420
    },
    "id": "cr_O7hE5htx2"
   },
   "outputs": [],
   "source": [
    "def tagThai(w):\n",
    "    pd_returnList = pd.DataFrame(pos_tag(w, corpus='pud'))\n",
    "    returnList = pd_returnList.iloc[:,1]\n",
    "    return returnList"
   ]
  },
  {
   "cell_type": "code",
   "execution_count": 15,
   "metadata": {
    "executionInfo": {
     "elapsed": 880,
     "status": "ok",
     "timestamp": 1604028299778,
     "user": {
      "displayName": "Pacharapol O.",
      "photoUrl": "https://lh3.googleusercontent.com/a-/AOh14GiBNaVjsCxoMVUqEvSDC7eauF0V2ZD7B-TzevR1TQ=s64",
      "userId": "00378494490135533545"
     },
     "user_tz": -420
    },
    "id": "cr_O7hE5htx2"
   },
   "outputs": [],
   "source": [
    "def soundThai(w):\n",
    "    returnList = []\n",
    "    for i in w:\n",
    "        returnList.append(romanize(i, engine=\"thai2rom\"))\n",
    "    return returnList"
   ]
  },
  {
   "cell_type": "code",
   "execution_count": 16,
   "metadata": {},
   "outputs": [],
   "source": [
    "list_punc = []\n",
    "for c in string.punctuation:\n",
    "    list_punc.append(c)"
   ]
  },
  {
   "cell_type": "markdown",
   "metadata": {
    "id": "wlnotsqqTCcl"
   },
   "source": [
    "### Clean data & NLP Tokenized"
   ]
  },
  {
   "cell_type": "code",
   "execution_count": 17,
   "metadata": {
    "executionInfo": {
     "elapsed": 2677,
     "status": "ok",
     "timestamp": 1604027704431,
     "user": {
      "displayName": "Pacharapol O.",
      "photoUrl": "https://lh3.googleusercontent.com/a-/AOh14GiBNaVjsCxoMVUqEvSDC7eauF0V2ZD7B-TzevR1TQ=s64",
      "userId": "00378494490135533545"
     },
     "user_tz": -420
    },
    "id": "VXYRZDubTCcm"
   },
   "outputs": [],
   "source": [
    "df_textList1 = pd.read_csv(comment_file[0],header=None)\n",
    "df_textList2 = pd.read_csv(comment_file[1],header=None)"
   ]
  },
  {
   "cell_type": "code",
   "execution_count": 18,
   "metadata": {
    "executionInfo": {
     "elapsed": 1168,
     "status": "ok",
     "timestamp": 1604027707570,
     "user": {
      "displayName": "Pacharapol O.",
      "photoUrl": "https://lh3.googleusercontent.com/a-/AOh14GiBNaVjsCxoMVUqEvSDC7eauF0V2ZD7B-TzevR1TQ=s64",
      "userId": "00378494490135533545"
     },
     "user_tz": -420
    },
    "id": "2Lc6T0oATCcp"
   },
   "outputs": [],
   "source": [
    "df_textList1.insert(0,'Table','Meiji')\n",
    "df_textList1.columns = ['Table','URLs', 'text', 'Retrived_date']\n",
    "df_textList2.insert(0,'Table','DDFC')\n",
    "df_textList2.columns = ['Table','URLs', 'text', 'Retrived_date']"
   ]
  },
  {
   "cell_type": "code",
   "execution_count": 19,
   "metadata": {
    "colab": {
     "base_uri": "https://localhost:8080/",
     "height": 79
    },
    "executionInfo": {
     "elapsed": 1043,
     "status": "ok",
     "timestamp": 1604027708520,
     "user": {
      "displayName": "Pacharapol O.",
      "photoUrl": "https://lh3.googleusercontent.com/a-/AOh14GiBNaVjsCxoMVUqEvSDC7eauF0V2ZD7B-TzevR1TQ=s64",
      "userId": "00378494490135533545"
     },
     "user_tz": -420
    },
    "id": "594kVpigTCcv",
    "outputId": "44e651f1-4657-4a83-f483-a33998995e6b"
   },
   "outputs": [
    {
     "data": {
      "text/html": [
       "<div>\n",
       "<style scoped>\n",
       "    .dataframe tbody tr th:only-of-type {\n",
       "        vertical-align: middle;\n",
       "    }\n",
       "\n",
       "    .dataframe tbody tr th {\n",
       "        vertical-align: top;\n",
       "    }\n",
       "\n",
       "    .dataframe thead th {\n",
       "        text-align: right;\n",
       "    }\n",
       "</style>\n",
       "<table border=\"1\" class=\"dataframe\">\n",
       "  <thead>\n",
       "    <tr style=\"text-align: right;\">\n",
       "      <th></th>\n",
       "      <th>count</th>\n",
       "      <th>mean</th>\n",
       "      <th>std</th>\n",
       "      <th>min</th>\n",
       "      <th>25%</th>\n",
       "      <th>50%</th>\n",
       "      <th>75%</th>\n",
       "      <th>max</th>\n",
       "    </tr>\n",
       "  </thead>\n",
       "  <tbody>\n",
       "    <tr>\n",
       "      <th>URLs</th>\n",
       "      <td>1000.0</td>\n",
       "      <td>43.049</td>\n",
       "      <td>53.682105</td>\n",
       "      <td>3.0</td>\n",
       "      <td>11.0</td>\n",
       "      <td>21.0</td>\n",
       "      <td>49.0</td>\n",
       "      <td>351.0</td>\n",
       "    </tr>\n",
       "  </tbody>\n",
       "</table>\n",
       "</div>"
      ],
      "text/plain": [
       "       count    mean        std  min   25%   50%   75%    max\n",
       "URLs  1000.0  43.049  53.682105  3.0  11.0  21.0  49.0  351.0"
      ]
     },
     "execution_count": 19,
     "metadata": {},
     "output_type": "execute_result"
    }
   ],
   "source": [
    "pd.DataFrame(df_textList1.URLs.value_counts()).describe().T"
   ]
  },
  {
   "cell_type": "code",
   "execution_count": 20,
   "metadata": {
    "colab": {
     "base_uri": "https://localhost:8080/"
    },
    "executionInfo": {
     "elapsed": 853,
     "status": "ok",
     "timestamp": 1604027711587,
     "user": {
      "displayName": "Pacharapol O.",
      "photoUrl": "https://lh3.googleusercontent.com/a-/AOh14GiBNaVjsCxoMVUqEvSDC7eauF0V2ZD7B-TzevR1TQ=s64",
      "userId": "00378494490135533545"
     },
     "user_tz": -420
    },
    "id": "DKbN38AzTCc0",
    "outputId": "f1bafe8c-19c9-4b52-dbb7-faafb7726901"
   },
   "outputs": [
    {
     "name": "stdout",
     "output_type": "stream",
     "text": [
      "meiji comment: 43049\n",
      "meiji URLs ก่อนตัด: 1000\n"
     ]
    }
   ],
   "source": [
    "print('meiji comment:',df_textList1.shape[0])\n",
    "print('meiji URLs ก่อนตัด:',len(df_textList1.URLs.unique()))"
   ]
  },
  {
   "cell_type": "code",
   "execution_count": 21,
   "metadata": {
    "colab": {
     "base_uri": "https://localhost:8080/",
     "height": 79
    },
    "executionInfo": {
     "elapsed": 906,
     "status": "ok",
     "timestamp": 1604027713588,
     "user": {
      "displayName": "Pacharapol O.",
      "photoUrl": "https://lh3.googleusercontent.com/a-/AOh14GiBNaVjsCxoMVUqEvSDC7eauF0V2ZD7B-TzevR1TQ=s64",
      "userId": "00378494490135533545"
     },
     "user_tz": -420
    },
    "id": "oJKpaP0xTCc4",
    "outputId": "7705fefd-637c-4533-b001-5016a317c45b"
   },
   "outputs": [
    {
     "data": {
      "text/html": [
       "<div>\n",
       "<style scoped>\n",
       "    .dataframe tbody tr th:only-of-type {\n",
       "        vertical-align: middle;\n",
       "    }\n",
       "\n",
       "    .dataframe tbody tr th {\n",
       "        vertical-align: top;\n",
       "    }\n",
       "\n",
       "    .dataframe thead th {\n",
       "        text-align: right;\n",
       "    }\n",
       "</style>\n",
       "<table border=\"1\" class=\"dataframe\">\n",
       "  <thead>\n",
       "    <tr style=\"text-align: right;\">\n",
       "      <th></th>\n",
       "      <th>count</th>\n",
       "      <th>mean</th>\n",
       "      <th>std</th>\n",
       "      <th>min</th>\n",
       "      <th>25%</th>\n",
       "      <th>50%</th>\n",
       "      <th>75%</th>\n",
       "      <th>max</th>\n",
       "    </tr>\n",
       "  </thead>\n",
       "  <tbody>\n",
       "    <tr>\n",
       "      <th>URLs</th>\n",
       "      <td>517.0</td>\n",
       "      <td>44.756286</td>\n",
       "      <td>57.056773</td>\n",
       "      <td>1.0</td>\n",
       "      <td>10.0</td>\n",
       "      <td>19.0</td>\n",
       "      <td>53.0</td>\n",
       "      <td>328.0</td>\n",
       "    </tr>\n",
       "  </tbody>\n",
       "</table>\n",
       "</div>"
      ],
      "text/plain": [
       "      count       mean        std  min   25%   50%   75%    max\n",
       "URLs  517.0  44.756286  57.056773  1.0  10.0  19.0  53.0  328.0"
      ]
     },
     "execution_count": 21,
     "metadata": {},
     "output_type": "execute_result"
    }
   ],
   "source": [
    "pd.DataFrame(df_textList2.URLs.value_counts()).describe().T"
   ]
  },
  {
   "cell_type": "code",
   "execution_count": 22,
   "metadata": {
    "colab": {
     "base_uri": "https://localhost:8080/"
    },
    "executionInfo": {
     "elapsed": 887,
     "status": "ok",
     "timestamp": 1604027715137,
     "user": {
      "displayName": "Pacharapol O.",
      "photoUrl": "https://lh3.googleusercontent.com/a-/AOh14GiBNaVjsCxoMVUqEvSDC7eauF0V2ZD7B-TzevR1TQ=s64",
      "userId": "00378494490135533545"
     },
     "user_tz": -420
    },
    "id": "wGrNn6b4TCc7",
    "outputId": "df1d8a4a-b8ea-45d8-99e8-65aa6e8178bb"
   },
   "outputs": [
    {
     "name": "stdout",
     "output_type": "stream",
     "text": [
      "DDCF comment: 23139\n",
      "DDCF URLs ก่อนตัด: 517\n"
     ]
    }
   ],
   "source": [
    "print('DDCF comment:',df_textList2.shape[0])\n",
    "print('DDCF URLs ก่อนตัด:',len(df_textList2.URLs.unique()))"
   ]
  },
  {
   "cell_type": "code",
   "execution_count": 23,
   "metadata": {
    "executionInfo": {
     "elapsed": 1076,
     "status": "ok",
     "timestamp": 1604027716129,
     "user": {
      "displayName": "Pacharapol O.",
      "photoUrl": "https://lh3.googleusercontent.com/a-/AOh14GiBNaVjsCxoMVUqEvSDC7eauF0V2ZD7B-TzevR1TQ=s64",
      "userId": "00378494490135533545"
     },
     "user_tz": -420
    },
    "id": "7IxgQQhCTCc_"
   },
   "outputs": [],
   "source": [
    "df_Corpus = pd.concat([df_textList1,df_textList2],ignore_index=True)"
   ]
  },
  {
   "cell_type": "code",
   "execution_count": 24,
   "metadata": {
    "colab": {
     "base_uri": "https://localhost:8080/"
    },
    "executionInfo": {
     "elapsed": 885,
     "status": "ok",
     "timestamp": 1604027718134,
     "user": {
      "displayName": "Pacharapol O.",
      "photoUrl": "https://lh3.googleusercontent.com/a-/AOh14GiBNaVjsCxoMVUqEvSDC7eauF0V2ZD7B-TzevR1TQ=s64",
      "userId": "00378494490135533545"
     },
     "user_tz": -420
    },
    "id": "Xf0_nwz8TCdB",
    "outputId": "d39ed4de-8549-4488-d8c5-04e62e8a4dfd"
   },
   "outputs": [
    {
     "name": "stdout",
     "output_type": "stream",
     "text": [
      "All comment: 66188\n",
      "All URLs ก่อนตัด: 1517\n"
     ]
    }
   ],
   "source": [
    "print('All comment:',df_Corpus.shape[0])\n",
    "print('All URLs ก่อนตัด:',len(df_Corpus.URLs.unique()))"
   ]
  },
  {
   "cell_type": "code",
   "execution_count": 25,
   "metadata": {
    "colab": {
     "base_uri": "https://localhost:8080/"
    },
    "executionInfo": {
     "elapsed": 1032,
     "status": "ok",
     "timestamp": 1604027719151,
     "user": {
      "displayName": "Pacharapol O.",
      "photoUrl": "https://lh3.googleusercontent.com/a-/AOh14GiBNaVjsCxoMVUqEvSDC7eauF0V2ZD7B-TzevR1TQ=s64",
      "userId": "00378494490135533545"
     },
     "user_tz": -420
    },
    "id": "vRH0T2gLTCdE",
    "outputId": "0722d375-5945-44d8-bc71-f39dcc58a0e9"
   },
   "outputs": [
    {
     "name": "stdout",
     "output_type": "stream",
     "text": [
      "Table               0\n",
      "URLs                0\n",
      "text             4703\n",
      "Retrived_date       0\n",
      "dtype: int64\n"
     ]
    }
   ],
   "source": [
    "missing = df_Corpus.isnull().sum()\n",
    "print(missing)"
   ]
  },
  {
   "cell_type": "code",
   "execution_count": 26,
   "metadata": {
    "colab": {
     "base_uri": "https://localhost:8080/",
     "height": 202
    },
    "executionInfo": {
     "elapsed": 828,
     "status": "ok",
     "timestamp": 1604027721340,
     "user": {
      "displayName": "Pacharapol O.",
      "photoUrl": "https://lh3.googleusercontent.com/a-/AOh14GiBNaVjsCxoMVUqEvSDC7eauF0V2ZD7B-TzevR1TQ=s64",
      "userId": "00378494490135533545"
     },
     "user_tz": -420
    },
    "id": "LXg1m0eoTCdK",
    "outputId": "567e2a04-8322-4104-9f68-6d509815fd24"
   },
   "outputs": [
    {
     "data": {
      "text/html": [
       "<div>\n",
       "<style scoped>\n",
       "    .dataframe tbody tr th:only-of-type {\n",
       "        vertical-align: middle;\n",
       "    }\n",
       "\n",
       "    .dataframe tbody tr th {\n",
       "        vertical-align: top;\n",
       "    }\n",
       "\n",
       "    .dataframe thead th {\n",
       "        text-align: right;\n",
       "    }\n",
       "</style>\n",
       "<table border=\"1\" class=\"dataframe\">\n",
       "  <thead>\n",
       "    <tr style=\"text-align: right;\">\n",
       "      <th></th>\n",
       "      <th>Table</th>\n",
       "      <th>URLs</th>\n",
       "      <th>text</th>\n",
       "      <th>Retrived_date</th>\n",
       "    </tr>\n",
       "  </thead>\n",
       "  <tbody>\n",
       "    <tr>\n",
       "      <th>66183</th>\n",
       "      <td>DDFC</td>\n",
       "      <td>https://pantip.com/topic/30651064</td>\n",
       "      <td>มีหลายยี่ห้อนะค่ะ พวกจิตรดา ไทยเดนมาร์ค โฟร์โม...</td>\n",
       "      <td>2020-10-27 13:54:33.920930</td>\n",
       "    </tr>\n",
       "    <tr>\n",
       "      <th>66184</th>\n",
       "      <td>DDFC</td>\n",
       "      <td>https://pantip.com/topic/30651064</td>\n",
       "      <td>เดี๋ยวนมรสจืด ส่วนใหญ่ก็นมโคแท้ 100%ทั้งนั้นแห...</td>\n",
       "      <td>2020-10-27 13:54:33.920930</td>\n",
       "    </tr>\n",
       "    <tr>\n",
       "      <th>66185</th>\n",
       "      <td>DDFC</td>\n",
       "      <td>https://pantip.com/topic/30651064</td>\n",
       "      <td>ตามกฏหมายเอง นมโคสดแท้ 100% กับนมโคแท้ 100% ไม...</td>\n",
       "      <td>2020-10-27 13:54:33.920930</td>\n",
       "    </tr>\n",
       "    <tr>\n",
       "      <th>66186</th>\n",
       "      <td>DDFC</td>\n",
       "      <td>https://pantip.com/topic/30651064</td>\n",
       "      <td>NaN</td>\n",
       "      <td>2020-10-27 13:54:33.920930</td>\n",
       "    </tr>\n",
       "    <tr>\n",
       "      <th>66187</th>\n",
       "      <td>DDFC</td>\n",
       "      <td>https://pantip.com/topic/30651064</td>\n",
       "      <td>NaN</td>\n",
       "      <td>2020-10-27 13:54:33.920930</td>\n",
       "    </tr>\n",
       "  </tbody>\n",
       "</table>\n",
       "</div>"
      ],
      "text/plain": [
       "      Table                               URLs  \\\n",
       "66183  DDFC  https://pantip.com/topic/30651064   \n",
       "66184  DDFC  https://pantip.com/topic/30651064   \n",
       "66185  DDFC  https://pantip.com/topic/30651064   \n",
       "66186  DDFC  https://pantip.com/topic/30651064   \n",
       "66187  DDFC  https://pantip.com/topic/30651064   \n",
       "\n",
       "                                                    text  \\\n",
       "66183  มีหลายยี่ห้อนะค่ะ พวกจิตรดา ไทยเดนมาร์ค โฟร์โม...   \n",
       "66184  เดี๋ยวนมรสจืด ส่วนใหญ่ก็นมโคแท้ 100%ทั้งนั้นแห...   \n",
       "66185  ตามกฏหมายเอง นมโคสดแท้ 100% กับนมโคแท้ 100% ไม...   \n",
       "66186                                                NaN   \n",
       "66187                                                NaN   \n",
       "\n",
       "                    Retrived_date  \n",
       "66183  2020-10-27 13:54:33.920930  \n",
       "66184  2020-10-27 13:54:33.920930  \n",
       "66185  2020-10-27 13:54:33.920930  \n",
       "66186  2020-10-27 13:54:33.920930  \n",
       "66187  2020-10-27 13:54:33.920930  "
      ]
     },
     "execution_count": 26,
     "metadata": {},
     "output_type": "execute_result"
    }
   ],
   "source": [
    "df_Corpus.tail()"
   ]
  },
  {
   "cell_type": "code",
   "execution_count": 27,
   "metadata": {
    "executionInfo": {
     "elapsed": 1006,
     "status": "ok",
     "timestamp": 1604027723160,
     "user": {
      "displayName": "Pacharapol O.",
      "photoUrl": "https://lh3.googleusercontent.com/a-/AOh14GiBNaVjsCxoMVUqEvSDC7eauF0V2ZD7B-TzevR1TQ=s64",
      "userId": "00378494490135533545"
     },
     "user_tz": -420
    },
    "id": "_O0BSe9ETCdO"
   },
   "outputs": [],
   "source": [
    "seqNum = list(range(1,df_Corpus.shape[0]+1))\n",
    "df_Corpus.insert(0,'commentId',seqNum)\n",
    "df_Corpus.columns = ['commentId','Table','URLs', 'text', 'Retrived_date']"
   ]
  },
  {
   "cell_type": "code",
   "execution_count": 28,
   "metadata": {
    "colab": {
     "base_uri": "https://localhost:8080/",
     "height": 202
    },
    "executionInfo": {
     "elapsed": 811,
     "status": "ok",
     "timestamp": 1604027724691,
     "user": {
      "displayName": "Pacharapol O.",
      "photoUrl": "https://lh3.googleusercontent.com/a-/AOh14GiBNaVjsCxoMVUqEvSDC7eauF0V2ZD7B-TzevR1TQ=s64",
      "userId": "00378494490135533545"
     },
     "user_tz": -420
    },
    "id": "w-muagoxTCdR",
    "outputId": "a8afe33d-943b-422e-838d-ba8514e9497d"
   },
   "outputs": [
    {
     "data": {
      "text/html": [
       "<div>\n",
       "<style scoped>\n",
       "    .dataframe tbody tr th:only-of-type {\n",
       "        vertical-align: middle;\n",
       "    }\n",
       "\n",
       "    .dataframe tbody tr th {\n",
       "        vertical-align: top;\n",
       "    }\n",
       "\n",
       "    .dataframe thead th {\n",
       "        text-align: right;\n",
       "    }\n",
       "</style>\n",
       "<table border=\"1\" class=\"dataframe\">\n",
       "  <thead>\n",
       "    <tr style=\"text-align: right;\">\n",
       "      <th></th>\n",
       "      <th>commentId</th>\n",
       "      <th>Table</th>\n",
       "      <th>URLs</th>\n",
       "      <th>text</th>\n",
       "      <th>Retrived_date</th>\n",
       "    </tr>\n",
       "  </thead>\n",
       "  <tbody>\n",
       "    <tr>\n",
       "      <th>66183</th>\n",
       "      <td>66184</td>\n",
       "      <td>DDFC</td>\n",
       "      <td>https://pantip.com/topic/30651064</td>\n",
       "      <td>มีหลายยี่ห้อนะค่ะ พวกจิตรดา ไทยเดนมาร์ค โฟร์โม...</td>\n",
       "      <td>2020-10-27 13:54:33.920930</td>\n",
       "    </tr>\n",
       "    <tr>\n",
       "      <th>66184</th>\n",
       "      <td>66185</td>\n",
       "      <td>DDFC</td>\n",
       "      <td>https://pantip.com/topic/30651064</td>\n",
       "      <td>เดี๋ยวนมรสจืด ส่วนใหญ่ก็นมโคแท้ 100%ทั้งนั้นแห...</td>\n",
       "      <td>2020-10-27 13:54:33.920930</td>\n",
       "    </tr>\n",
       "    <tr>\n",
       "      <th>66185</th>\n",
       "      <td>66186</td>\n",
       "      <td>DDFC</td>\n",
       "      <td>https://pantip.com/topic/30651064</td>\n",
       "      <td>ตามกฏหมายเอง นมโคสดแท้ 100% กับนมโคแท้ 100% ไม...</td>\n",
       "      <td>2020-10-27 13:54:33.920930</td>\n",
       "    </tr>\n",
       "    <tr>\n",
       "      <th>66186</th>\n",
       "      <td>66187</td>\n",
       "      <td>DDFC</td>\n",
       "      <td>https://pantip.com/topic/30651064</td>\n",
       "      <td>NaN</td>\n",
       "      <td>2020-10-27 13:54:33.920930</td>\n",
       "    </tr>\n",
       "    <tr>\n",
       "      <th>66187</th>\n",
       "      <td>66188</td>\n",
       "      <td>DDFC</td>\n",
       "      <td>https://pantip.com/topic/30651064</td>\n",
       "      <td>NaN</td>\n",
       "      <td>2020-10-27 13:54:33.920930</td>\n",
       "    </tr>\n",
       "  </tbody>\n",
       "</table>\n",
       "</div>"
      ],
      "text/plain": [
       "       commentId Table                               URLs  \\\n",
       "66183      66184  DDFC  https://pantip.com/topic/30651064   \n",
       "66184      66185  DDFC  https://pantip.com/topic/30651064   \n",
       "66185      66186  DDFC  https://pantip.com/topic/30651064   \n",
       "66186      66187  DDFC  https://pantip.com/topic/30651064   \n",
       "66187      66188  DDFC  https://pantip.com/topic/30651064   \n",
       "\n",
       "                                                    text  \\\n",
       "66183  มีหลายยี่ห้อนะค่ะ พวกจิตรดา ไทยเดนมาร์ค โฟร์โม...   \n",
       "66184  เดี๋ยวนมรสจืด ส่วนใหญ่ก็นมโคแท้ 100%ทั้งนั้นแห...   \n",
       "66185  ตามกฏหมายเอง นมโคสดแท้ 100% กับนมโคแท้ 100% ไม...   \n",
       "66186                                                NaN   \n",
       "66187                                                NaN   \n",
       "\n",
       "                    Retrived_date  \n",
       "66183  2020-10-27 13:54:33.920930  \n",
       "66184  2020-10-27 13:54:33.920930  \n",
       "66185  2020-10-27 13:54:33.920930  \n",
       "66186  2020-10-27 13:54:33.920930  \n",
       "66187  2020-10-27 13:54:33.920930  "
      ]
     },
     "execution_count": 28,
     "metadata": {},
     "output_type": "execute_result"
    }
   ],
   "source": [
    "df_Corpus.tail()"
   ]
  },
  {
   "cell_type": "code",
   "execution_count": 29,
   "metadata": {
    "executionInfo": {
     "elapsed": 1166,
     "status": "ok",
     "timestamp": 1604027727940,
     "user": {
      "displayName": "Pacharapol O.",
      "photoUrl": "https://lh3.googleusercontent.com/a-/AOh14GiBNaVjsCxoMVUqEvSDC7eauF0V2ZD7B-TzevR1TQ=s64",
      "userId": "00378494490135533545"
     },
     "user_tz": -420
    },
    "id": "jZFN_aTsTCdU"
   },
   "outputs": [],
   "source": [
    "# Drop NA & banned comments\n",
    "df_Corpus = df_Corpus.dropna()\n",
    "df_Corpus = df_Corpus[df_Corpus[\"text\"].str.find('ความคิดเห็นนี้ถูกลบ')!= 0]\n",
    "df_Corpus = df_Corpus[df_Corpus[\"text\"].str.find('แก้ไขข้อความเมื่อ')!= 0]\n",
    "df_Corpus = df_Corpus.set_index('commentId')"
   ]
  },
  {
   "cell_type": "code",
   "execution_count": 30,
   "metadata": {
    "colab": {
     "base_uri": "https://localhost:8080/"
    },
    "executionInfo": {
     "elapsed": 619,
     "status": "ok",
     "timestamp": 1604027727941,
     "user": {
      "displayName": "Pacharapol O.",
      "photoUrl": "https://lh3.googleusercontent.com/a-/AOh14GiBNaVjsCxoMVUqEvSDC7eauF0V2ZD7B-TzevR1TQ=s64",
      "userId": "00378494490135533545"
     },
     "user_tz": -420
    },
    "id": "ki-qD4YMTCdX",
    "outputId": "3102d8b3-3251-463e-f3e2-50a119fe787b"
   },
   "outputs": [
    {
     "name": "stdout",
     "output_type": "stream",
     "text": [
      "Table            0\n",
      "URLs             0\n",
      "text             0\n",
      "Retrived_date    0\n",
      "dtype: int64\n"
     ]
    }
   ],
   "source": [
    "missing = df_Corpus.isnull().sum()\n",
    "print(missing)"
   ]
  },
  {
   "cell_type": "code",
   "execution_count": 31,
   "metadata": {
    "colab": {
     "base_uri": "https://localhost:8080/"
    },
    "executionInfo": {
     "elapsed": 1135,
     "status": "ok",
     "timestamp": 1604027730567,
     "user": {
      "displayName": "Pacharapol O.",
      "photoUrl": "https://lh3.googleusercontent.com/a-/AOh14GiBNaVjsCxoMVUqEvSDC7eauF0V2ZD7B-TzevR1TQ=s64",
      "userId": "00378494490135533545"
     },
     "user_tz": -420
    },
    "id": "c0J7GD3ATCda",
    "outputId": "f8748ddd-9aab-40d2-ee9e-38ba742906b7"
   },
   "outputs": [
    {
     "name": "stdout",
     "output_type": "stream",
     "text": [
      "จำนวน comment หลังตัด: 60545\n",
      "จำนวนกระทู้หลังตัด: 1514\n"
     ]
    }
   ],
   "source": [
    "print('จำนวน comment หลังตัด:',df_Corpus.shape[0])\n",
    "print('จำนวนกระทู้หลังตัด:',len(df_Corpus.URLs.unique()))"
   ]
  },
  {
   "cell_type": "code",
   "execution_count": 32,
   "metadata": {
    "colab": {
     "base_uri": "https://localhost:8080/",
     "height": 233
    },
    "executionInfo": {
     "elapsed": 890,
     "status": "ok",
     "timestamp": 1604027730892,
     "user": {
      "displayName": "Pacharapol O.",
      "photoUrl": "https://lh3.googleusercontent.com/a-/AOh14GiBNaVjsCxoMVUqEvSDC7eauF0V2ZD7B-TzevR1TQ=s64",
      "userId": "00378494490135533545"
     },
     "user_tz": -420
    },
    "id": "PKvz8tQpTCdd",
    "outputId": "62e2d990-0240-4a01-cef5-515147c6750c"
   },
   "outputs": [
    {
     "data": {
      "text/html": [
       "<div>\n",
       "<style scoped>\n",
       "    .dataframe tbody tr th:only-of-type {\n",
       "        vertical-align: middle;\n",
       "    }\n",
       "\n",
       "    .dataframe tbody tr th {\n",
       "        vertical-align: top;\n",
       "    }\n",
       "\n",
       "    .dataframe thead th {\n",
       "        text-align: right;\n",
       "    }\n",
       "</style>\n",
       "<table border=\"1\" class=\"dataframe\">\n",
       "  <thead>\n",
       "    <tr style=\"text-align: right;\">\n",
       "      <th></th>\n",
       "      <th>Table</th>\n",
       "      <th>URLs</th>\n",
       "      <th>text</th>\n",
       "      <th>Retrived_date</th>\n",
       "      <th>token_text</th>\n",
       "    </tr>\n",
       "    <tr>\n",
       "      <th>commentId</th>\n",
       "      <th></th>\n",
       "      <th></th>\n",
       "      <th></th>\n",
       "      <th></th>\n",
       "      <th></th>\n",
       "    </tr>\n",
       "  </thead>\n",
       "  <tbody>\n",
       "    <tr>\n",
       "      <th>66181</th>\n",
       "      <td>DDFC</td>\n",
       "      <td>https://pantip.com/topic/30651064</td>\n",
       "      <td>นมผง คือเอานมดิบดีๆ มาคัดไขมันนมและอื่นๆออกไปใ...</td>\n",
       "      <td>2020-10-27 13:54:33.920930</td>\n",
       "      <td>None</td>\n",
       "    </tr>\n",
       "    <tr>\n",
       "      <th>66182</th>\n",
       "      <td>DDFC</td>\n",
       "      <td>https://pantip.com/topic/30651064</td>\n",
       "      <td>นมสด รสชาติมันดีนะ\\nเพราะมีปริมาณไขมันสูง ดังน...</td>\n",
       "      <td>2020-10-27 13:54:33.920930</td>\n",
       "      <td>None</td>\n",
       "    </tr>\n",
       "    <tr>\n",
       "      <th>66184</th>\n",
       "      <td>DDFC</td>\n",
       "      <td>https://pantip.com/topic/30651064</td>\n",
       "      <td>มีหลายยี่ห้อนะค่ะ พวกจิตรดา ไทยเดนมาร์ค โฟร์โม...</td>\n",
       "      <td>2020-10-27 13:54:33.920930</td>\n",
       "      <td>None</td>\n",
       "    </tr>\n",
       "    <tr>\n",
       "      <th>66185</th>\n",
       "      <td>DDFC</td>\n",
       "      <td>https://pantip.com/topic/30651064</td>\n",
       "      <td>เดี๋ยวนมรสจืด ส่วนใหญ่ก็นมโคแท้ 100%ทั้งนั้นแห...</td>\n",
       "      <td>2020-10-27 13:54:33.920930</td>\n",
       "      <td>None</td>\n",
       "    </tr>\n",
       "    <tr>\n",
       "      <th>66186</th>\n",
       "      <td>DDFC</td>\n",
       "      <td>https://pantip.com/topic/30651064</td>\n",
       "      <td>ตามกฏหมายเอง นมโคสดแท้ 100% กับนมโคแท้ 100% ไม...</td>\n",
       "      <td>2020-10-27 13:54:33.920930</td>\n",
       "      <td>None</td>\n",
       "    </tr>\n",
       "  </tbody>\n",
       "</table>\n",
       "</div>"
      ],
      "text/plain": [
       "          Table                               URLs  \\\n",
       "commentId                                            \n",
       "66181      DDFC  https://pantip.com/topic/30651064   \n",
       "66182      DDFC  https://pantip.com/topic/30651064   \n",
       "66184      DDFC  https://pantip.com/topic/30651064   \n",
       "66185      DDFC  https://pantip.com/topic/30651064   \n",
       "66186      DDFC  https://pantip.com/topic/30651064   \n",
       "\n",
       "                                                        text  \\\n",
       "commentId                                                      \n",
       "66181      นมผง คือเอานมดิบดีๆ มาคัดไขมันนมและอื่นๆออกไปใ...   \n",
       "66182      นมสด รสชาติมันดีนะ\\nเพราะมีปริมาณไขมันสูง ดังน...   \n",
       "66184      มีหลายยี่ห้อนะค่ะ พวกจิตรดา ไทยเดนมาร์ค โฟร์โม...   \n",
       "66185      เดี๋ยวนมรสจืด ส่วนใหญ่ก็นมโคแท้ 100%ทั้งนั้นแห...   \n",
       "66186      ตามกฏหมายเอง นมโคสดแท้ 100% กับนมโคแท้ 100% ไม...   \n",
       "\n",
       "                        Retrived_date token_text  \n",
       "commentId                                         \n",
       "66181      2020-10-27 13:54:33.920930       None  \n",
       "66182      2020-10-27 13:54:33.920930       None  \n",
       "66184      2020-10-27 13:54:33.920930       None  \n",
       "66185      2020-10-27 13:54:33.920930       None  \n",
       "66186      2020-10-27 13:54:33.920930       None  "
      ]
     },
     "execution_count": 32,
     "metadata": {},
     "output_type": "execute_result"
    }
   ],
   "source": [
    "df_Corpus.insert(4,'token_text',None)\n",
    "#df_Corpus.insert(5,'token_sound',None)\n",
    "#df_Corpus.insert(6,'token_tag',None)\n",
    "df_Corpus.tail()"
   ]
  },
  {
   "cell_type": "markdown",
   "metadata": {},
   "source": [
    "เก็บเฉพาะหัวกระทู้"
   ]
  },
  {
   "cell_type": "code",
   "execution_count": 33,
   "metadata": {},
   "outputs": [
    {
     "data": {
      "text/html": [
       "<div>\n",
       "<style scoped>\n",
       "    .dataframe tbody tr th:only-of-type {\n",
       "        vertical-align: middle;\n",
       "    }\n",
       "\n",
       "    .dataframe tbody tr th {\n",
       "        vertical-align: top;\n",
       "    }\n",
       "\n",
       "    .dataframe thead th {\n",
       "        text-align: right;\n",
       "    }\n",
       "</style>\n",
       "<table border=\"1\" class=\"dataframe\">\n",
       "  <thead>\n",
       "    <tr style=\"text-align: right;\">\n",
       "      <th></th>\n",
       "      <th>URLs</th>\n",
       "      <th>text</th>\n",
       "      <th>token_text</th>\n",
       "      <th>mention_product</th>\n",
       "      <th>mention_brand</th>\n",
       "    </tr>\n",
       "    <tr>\n",
       "      <th>commentId</th>\n",
       "      <th></th>\n",
       "      <th></th>\n",
       "      <th></th>\n",
       "      <th></th>\n",
       "      <th></th>\n",
       "    </tr>\n",
       "  </thead>\n",
       "  <tbody>\n",
       "    <tr>\n",
       "      <th>65991</th>\n",
       "      <td>https://pantip.com/topic/30007179</td>\n",
       "      <td>กำลังจะเป็นคุณแม่มือใหม่ค่ะ ทำตัวไม่ถูกเลยค่ะ\\...</td>\n",
       "      <td>None</td>\n",
       "      <td>None</td>\n",
       "      <td>None</td>\n",
       "    </tr>\n",
       "    <tr>\n",
       "      <th>66015</th>\n",
       "      <td>https://pantip.com/topic/30020409</td>\n",
       "      <td>พรุ่งนี้ลูกชายอายุครบ 1 ขวบ 3 เดือน หม่ำนมแม่จ...</td>\n",
       "      <td>None</td>\n",
       "      <td>None</td>\n",
       "      <td>None</td>\n",
       "    </tr>\n",
       "    <tr>\n",
       "      <th>66044</th>\n",
       "      <td>https://pantip.com/topic/30049123</td>\n",
       "      <td>เพื่อนๆทุกคนคงคุ้นเคยกับคำถามนี้แล้วทุกคน... \"...</td>\n",
       "      <td>None</td>\n",
       "      <td>None</td>\n",
       "      <td>None</td>\n",
       "    </tr>\n",
       "    <tr>\n",
       "      <th>66074</th>\n",
       "      <td>https://pantip.com/topic/30011023</td>\n",
       "      <td>แตกกระทู้มาจาก www.pantip.com/topic/30007146/\\...</td>\n",
       "      <td>None</td>\n",
       "      <td>None</td>\n",
       "      <td>None</td>\n",
       "    </tr>\n",
       "    <tr>\n",
       "      <th>66132</th>\n",
       "      <td>https://pantip.com/topic/30651064</td>\n",
       "      <td>อยากรู้ว่าปัจจุบันพวกนมกล่องทึ่ขายใน 7-11 หรือ...</td>\n",
       "      <td>None</td>\n",
       "      <td>None</td>\n",
       "      <td>None</td>\n",
       "    </tr>\n",
       "  </tbody>\n",
       "</table>\n",
       "</div>"
      ],
      "text/plain": [
       "                                        URLs  \\\n",
       "commentId                                      \n",
       "65991      https://pantip.com/topic/30007179   \n",
       "66015      https://pantip.com/topic/30020409   \n",
       "66044      https://pantip.com/topic/30049123   \n",
       "66074      https://pantip.com/topic/30011023   \n",
       "66132      https://pantip.com/topic/30651064   \n",
       "\n",
       "                                                        text token_text  \\\n",
       "commentId                                                                 \n",
       "65991      กำลังจะเป็นคุณแม่มือใหม่ค่ะ ทำตัวไม่ถูกเลยค่ะ\\...       None   \n",
       "66015      พรุ่งนี้ลูกชายอายุครบ 1 ขวบ 3 เดือน หม่ำนมแม่จ...       None   \n",
       "66044      เพื่อนๆทุกคนคงคุ้นเคยกับคำถามนี้แล้วทุกคน... \"...       None   \n",
       "66074      แตกกระทู้มาจาก www.pantip.com/topic/30007146/\\...       None   \n",
       "66132      อยากรู้ว่าปัจจุบันพวกนมกล่องทึ่ขายใน 7-11 หรือ...       None   \n",
       "\n",
       "          mention_product mention_brand  \n",
       "commentId                                \n",
       "65991                None          None  \n",
       "66015                None          None  \n",
       "66044                None          None  \n",
       "66074                None          None  \n",
       "66132                None          None  "
      ]
     },
     "execution_count": 33,
     "metadata": {},
     "output_type": "execute_result"
    }
   ],
   "source": [
    "df_thread = df_Corpus.copy()\n",
    "df_thread = df_thread[['URLs','text']]\n",
    "df_thread.drop_duplicates(subset =\"URLs\", keep = 'first', inplace = True)\n",
    "df_thread.insert(2,'token_text',None)\n",
    "df_thread.insert(3,'mention_product',None)\n",
    "df_thread.insert(4,'mention_brand',None)\n",
    "df_thread.tail()"
   ]
  },
  {
   "cell_type": "markdown",
   "metadata": {
    "id": "EpwX95XlTCdl"
   },
   "source": [
    "## ตัดคำและเก็บลง MongoDB (ใช้ insight จาก jupyter งานก่อน)"
   ]
  },
  {
   "cell_type": "markdown",
   "metadata": {
    "id": "6U__d4agTCdl"
   },
   "source": [
    "https://www.thainlp.org/pythainlp/tutorials/notebooks/pythainlp-get-started.html#Thai-Characters"
   ]
  },
  {
   "cell_type": "code",
   "execution_count": 34,
   "metadata": {
    "executionInfo": {
     "elapsed": 962,
     "status": "ok",
     "timestamp": 1604030224171,
     "user": {
      "displayName": "Pacharapol O.",
      "photoUrl": "https://lh3.googleusercontent.com/a-/AOh14GiBNaVjsCxoMVUqEvSDC7eauF0V2ZD7B-TzevR1TQ=s64",
      "userId": "00378494490135533545"
     },
     "user_tz": -420
    },
    "id": "rAcuuoYiTCdu"
   },
   "outputs": [],
   "source": [
    "garbage_char = ['',' ','🥺','\\r','\\n','\\r\\n','\\xa0','www','application','ทางกฎหมาย','html'\n",
    "                ,'http','https','url','com','pantip','topic','_','–','พันทิป','^^'\n",
    "                ,'นะค่ะ','นะคะ','น่ะค่ะ','ฯ','ๆ','แฮ่','เย่ๆๆ','ว๊าว','ฮิ้วววววววววว','Number','กก'\n",
    "                ,'เมนู','Menu','Net','net','สาขา','บาท','ราคา','(',')','ฯ','ๆ','กก','อันนี้','%s','😆', '🤣','😢'\n",
    "                ,'😏','😂','😿','ววว','xx','อิอิ','แย้ววว','นะคะ','นะค่ะ','://','มกราคม', 'กุมภาพันธ์'\n",
    "                ,'มีนาคม', 'เมษายน','พฤษภาคม', 'มิถุนายน', 'กรกฎาคม', 'สิงหาคม','กันยายน', 'ตุลาคม'\n",
    "                ,'พฤศจิกายน', 'ธันวาคม']\n",
    "garbage_char  = garbage_char + list_punc"
   ]
  },
  {
   "cell_type": "code",
   "execution_count": 35,
   "metadata": {
    "colab": {
     "base_uri": "https://localhost:8080/"
    },
    "executionInfo": {
     "elapsed": 813,
     "status": "ok",
     "timestamp": 1604027849933,
     "user": {
      "displayName": "Pacharapol O.",
      "photoUrl": "https://lh3.googleusercontent.com/a-/AOh14GiBNaVjsCxoMVUqEvSDC7eauF0V2ZD7B-TzevR1TQ=s64",
      "userId": "00378494490135533545"
     },
     "user_tz": -420
    },
    "id": "mAwAGA5ITCdx",
    "outputId": "d95e59bb-b35e-4592-f16e-0915a7975f84"
   },
   "outputs": [
    {
     "name": "stdout",
     "output_type": "stream",
     "text": [
      "จำนวน comment หลังตัด: 60545\n",
      "จำนวนกระทู้หลังตัด: 1514\n"
     ]
    }
   ],
   "source": [
    "print('จำนวน comment หลังตัด:',df_Corpus.shape[0])\n",
    "print('จำนวนกระทู้หลังตัด:',len(df_Corpus.URLs.unique()))"
   ]
  },
  {
   "cell_type": "code",
   "execution_count": 36,
   "metadata": {
    "executionInfo": {
     "elapsed": 2296,
     "status": "ok",
     "timestamp": 1604030226424,
     "user": {
      "displayName": "Pacharapol O.",
      "photoUrl": "https://lh3.googleusercontent.com/a-/AOh14GiBNaVjsCxoMVUqEvSDC7eauF0V2ZD7B-TzevR1TQ=s64",
      "userId": "00378494490135533545"
     },
     "user_tz": -420
    },
    "id": "8D5MebxcTCd0"
   },
   "outputs": [],
   "source": [
    "custom_list = ['ดัชมิลล์','ดัชมิล','dutch mill','dutchmilk','ดัชชี่','เมจิ','ซีพีเมจิ','ซีพี-เมจิ','cp-meiji','betagen','บีทาเก้น','บีทาเกน'\n",
    "               ,'โฟร์โมสต์','โฟร์โมส','โฟโมสต์','โฟโมต','โชคชัย','แดรี่โฮม','dairy home','Dairy Home','เดรี่โฮม','อืมม มิลค์','Umm! Milk','เอ็มมิลค์'\n",
    "               ,'mmilk','เอ็มมิ้ลค์','แมคโนเลีย','นมฟาร์มโชคชัย','นมไทย-เดนมาร์ค','ไทยเดนมาร์ค','วัวแดง','หนองโพ','คาเนชั่น'\n",
    "               ,'สตอเบอร์รี่','สตรอว์เบอร์รี','รสสตรอเบอรี่','สตรอเบอรี่','สตรอวเบอรี่'\n",
    "               ,'ชอคโกแล็ต','ช็อกโกแลต','ช็อคโกแลต','ช๊อกโกแลต','ช็อคโกแล็ต','ช็อกโกเลต','มิ้นท์ชอค','มิ้นต์ช้อก','รสกล้วย'\n",
    "               ,'รสหวาน','รสจืด','ไขมันต่ำ','ไขมัน 0%','low fat','0% fat','ขาดมันเนย','พร่องมันเนย','ไฮแคลเซียม','high protein'\n",
    "               ,'ไฮโปรตีน','เวย์โปรตีน','whey','เวย์','อัลมอนด์','ซีเล็ค','ซีเล็คท์','กล้วยหอม','ไวท์คอฟฟี่','คาปูชิโน่','อเมริกาโน่'\n",
    "               ,'grass fed','free lactose','lactose free','พาสเจอไรซ์','พาสเจอร์ไรซ์','พาสเจอร์ไรส์','พาซเจอไรซ์','พาสเจอร์ไลท์'\n",
    "               ,'เมจิโกลด์ แม็กซ์','เมจิโกลด์','เมจิ บัลแกเรีย','เมจิบัลแกเรีย','นมเปรี้ยว','รสธรรมชาติ','รสกลมกล่อม','โยเกิต','โยเกิรต','โยเกิร์ตพร้อมดื่ม'\n",
    "               ,'น้ำตาลมะพร้าว','นมฮอกไกโด','เบดไทม์','ฟรีแลคโตส','แลคโตสฟรี','ริชเอสเพสโซ่','ดาร์คช็อกโกแลต'\n",
    "               ,'คาราเมล','ช็อกโกมอลต์','เมล่อน','ชาเขียวมัจฉะ','ฝาน้ำเงิน'\n",
    "               ,'ท็อปส์','ทอปส์','ท้อปส์','ท๊อปส์','แมคโคร','แม็คโคร','โลตัส','บิ๊กซี','bigc','Golden place','Big C'\n",
    "               ,'ขายไม่ดี','แพคคู่','ค่าจัดส่ง','shelf life','พนักงานขายนม'\n",
    "               ,'แพ้นม','แพ้นมวัว','เล่นเวท','นำ้หนัก','คุณแม่มือใหม่','นมอุ่น','ชานม','กินนม','ดื่มนม','ท้องเสีย','ขี้แตก'\n",
    "               ,'คีเฟอร์นม','พันทิป','ร้านนม','ซื้อไม่ได้','ไม่ได้','ลูกสุนัข','ลูกหมา','คายทิ้ง','เจมส์ จิ','เจมส์จิ'\n",
    "              ]\n",
    "words = set(thai_words()).union(set(custom_list))\n",
    "custom_tokenizer = Tokenizer(engine='newmm', custom_dict=words, keep_whitespace=False)"
   ]
  },
  {
   "cell_type": "code",
   "execution_count": 37,
   "metadata": {},
   "outputs": [],
   "source": [
    "def find_brands_product(x,catType):\n",
    "    ret_wtkn = []\n",
    "    brands = ['ดัชมิลล์','ดัชมิล','dutch mill','dutchmilk','ดัชชี่','เมจิ','ซีพีเมจิ','ซีพี-เมจิ','cp-meiji'\n",
    "               ,'โฟร์โมสต์','โฟร์โมส','โฟโมสต์','โฟโมต','โชคชัย','แดรี่โฮม','dairy home','Dairy Home','เดรี่โฮม','อืมม มิลค์','Umm! Milk','เอ็มมิลค์'\n",
    "               ,'mmilk','เอ็มมิ้ลค์','แมคโนเลีย','นมฟาร์มโชคชัย','นมไทย-เดนมาร์ค','ไทยเดนมาร์ค','วัวแดง','หนองโพ','คาเนชั่น']\n",
    "    products = ['สตอเบอร์รี่','สตรอว์เบอร์รี','รสสตรอเบอรี่','สตรอเบอรี่','สตรอวเบอรี่','นม'\n",
    "               ,'ชอคโกแล็ต','ช็อกโกแลต','ช็อคโกแลต','ช๊อกโกแลต','ช็อคโกแล็ต','ช็อกโกเลต','มิ้นท์ชอค','มิ้นต์ช้อก','รสกล้วย'\n",
    "               ,'รสหวาน','รสจืด','ไขมันต่ำ','ไขมัน 0%','low fat','0% fat','ขาดมันเนย','พร่องมันเนย','ไฮแคลเซียม','high protein'\n",
    "               ,'ไฮโปรตีน','เวย์โปรตีน','whey','เวย์','อัลมอนด์','ซีเล็ค','ซีเล็คท์','กล้วยหอม','ไวท์คอฟฟี่','คาปูชิโน่','อเมริกาโน่'\n",
    "               ,'grass fed','free lactose','lactose free','พาสเจอไรซ์','พาสเจอร์ไรซ์','พาสเจอร์ไรส์','พาซเจอไรซ์','พาสเจอร์ไลท์','เมจิโกลด์ แม็กซ์'\n",
    "               ,'น้ำตาลมะพร้าว','นมฮอกไกโด','เบดไทม์','ฟรีแลคโตส','แลคโตสฟรี','ริชเอสเพสโซ่','ดาร์คช็อกโกแลต'\n",
    "               ,'คาราเมล','ช็อกโกมอลต์','เมล่อน','ชาเขียวมัจฉะ','ฝาน้ำเงิน','เมจิโกลด์ แม็กซ์','เมจิโกลด์'\n",
    "               ,'เมจิ บัลแกเรีย','เมจิบัลแกเรีย','นมเปรี้ยว','รสธรรมชาติ','รสกลมกล่อม','โยเกิต','โยเกิรต','โยเกิร์ตพร้อมดื่ม','ซากุระ']\n",
    "    \n",
    "    choiceList = []\n",
    "    if catType == 'b':\n",
    "        choiceList = brands\n",
    "    else:\n",
    "        choiceList = products\n",
    "        \n",
    "    for i,each in enumerate(x,0):\n",
    "        if each in choiceList:\n",
    "            ret_wtkn.append(each)\n",
    "    return ret_wtkn"
   ]
  },
  {
   "cell_type": "code",
   "execution_count": 38,
   "metadata": {},
   "outputs": [],
   "source": [
    "def create_InsertMany_Thread(df):\n",
    "    listofdict = []\n",
    "    for c,lx in enumerate(df.URLs,0):\n",
    "        info = {\n",
    "            \"URLs\": lx,\n",
    "            \"text\": df.text[c],\n",
    "            \"token_text\":df.token_text[c],\n",
    "            \"mention_product\": df.mention_product[c],\n",
    "            \"mention_brand\": df.mention_brand[c]\n",
    "        }\n",
    "        listofdict.append(info)\n",
    "    return listofdict"
   ]
  },
  {
   "cell_type": "code",
   "execution_count": 39,
   "metadata": {},
   "outputs": [],
   "source": [
    "def create_InsertMany_comments(df):\n",
    "    listofdict = []\n",
    "    for c,lx in enumerate(df.URLs,0):\n",
    "        info = {\n",
    "            \"commentId\":int(df.commentId[c]),\n",
    "            \"Table\": df.Table[c],\n",
    "            \"URLs\": lx,\n",
    "            \"text\": df.text[c],\n",
    "            \"Retrived_date\": df.Retrived_date[c],\n",
    "            \"token_text\":df.token_text[c]\n",
    "        }\n",
    "        listofdict.append(info)\n",
    "    return listofdict"
   ]
  },
  {
   "cell_type": "code",
   "execution_count": 40,
   "metadata": {},
   "outputs": [],
   "source": [
    "def tokenize_custom(x,custom_tokenizer):\n",
    "    wtkn = custom_tokenizer.word_tokenize(x)\n",
    "    wtkn = checkStopwords(wtkn)\n",
    "    wtkn = [x for x in wtkn if len(x) >= 2]\n",
    "    wtkn = [y for y in wtkn if y not in garbage_char]\n",
    "    wtkn = [s for s in wtkn if not s.isdigit()]\n",
    "    wtkn = normThai(wtkn)\n",
    "    return wtkn"
   ]
  },
  {
   "cell_type": "code",
   "execution_count": 41,
   "metadata": {},
   "outputs": [],
   "source": [
    "def generalize_keyword(wtkn):  \n",
    "    ret_wtkn = wtkn\n",
    "    for i,each in enumerate(ret_wtkn,0):\n",
    "        if each in ['ดัชมิลล์','ดัชมิล','dutch mill','dutchmilk','ดัชชี่']:\n",
    "            ret_wtkn[i] = 'ดัชมิลล์'\n",
    "        elif each  in ['เมจิ','ซีพีเมจิ','ซีพี-เมจิ','cp-meiji','meiji','meji','miji']:\n",
    "            ret_wtkn[i] = 'เมจิ'\n",
    "        elif each  in ['โฟร์โมสต์','โฟร์โมส','โฟโมสต์','โฟโมต','foremost']:\n",
    "            ret_wtkn[i] = 'โฟร์โมสต์'\n",
    "        elif each  in ['แดรี่โฮม','dairy home']:\n",
    "            ret_wtkn[i] = 'แดรี่โฮม'\n",
    "        elif each  in ['โชคชัย','อืมม มิลค์','Umm! Milk','นมฟาร์มโชคชัย']:\n",
    "            ret_wtkn[i] = 'โชคชัย'\n",
    "        elif each  in ['เอ็มมิลค์','mmilk','เอ็มมิ้ลค์']:\n",
    "            ret_wtkn[i] = 'เอ็มมิลค์'\n",
    "        elif each  in ['นมไทย-เดนมาร์ค','ไทยเดนมาร์ค','วัวแดง']:\n",
    "            ret_wtkn[i] = 'ไทยเดนมาร์ค'\n",
    "        elif each  in ['สตอเบอร์รี่','สตรอว์เบอร์รี','รสสตรอเบอรี่','สตรอเบอรี่','สตรอวเบอรี่']:\n",
    "            ret_wtkn[i] = 'สตรอว์เบอร์รี'\n",
    "        elif each  in ['ชอคโกแล็ต','ช็อกโกแลต','ช็อคโกแลต','ช๊อกโกแลต','ช็อคโกแล็ต','ช็อกโกเลต']:\n",
    "            ret_wtkn[i] = 'ช็อกโกแลต'\n",
    "        elif each  in ['มิ้นท์ชอค','มิ้นต์ช้อก','ช็อคโกแลตมินต์','มินต์ช็อคโกแลต']:\n",
    "            ret_wtkn[i] = 'ช็อกโกแลตมินต์'\n",
    "        elif each  in ['ไขมันต่ำ','low fat','พร่องมันเนย']:\n",
    "            ret_wtkn[i] = 'ไขมันต่ำ'\n",
    "        elif each  in ['ไขมัน 0%','0% fat','ขาดมันเนย']:\n",
    "            ret_wtkn[i] = 'ไขมัน 0%'\n",
    "        elif each  in ['high protein','ไฮโปรตีน']:\n",
    "            ret_wtkn[i] = 'ไฮโปรตีน'\n",
    "        elif each  in ['free lactose','lactose free','ฟรีแลคโตส','แลคโตสฟรี']:\n",
    "            ret_wtkn[i] = 'นมฟรีแลคโตส'\n",
    "        elif each  in ['พาสเจอไรซ์','พาสเจอร์ไรซ์','พาสเจอร์ไรส์','พาซเจอไรซ์','พาสเจอร์ไลท์']:\n",
    "            ret_wtkn[i] = 'พาสเจอร์ไรส์'\n",
    "        elif each  in ['เมจิโกลด์ แม็กซ์','เมจิโกลด์']:\n",
    "            ret_wtkn[i] = 'เมจิโกลด์'\n",
    "        elif each  in ['ฝาน้ำเงิน','รสจืด']:\n",
    "            ret_wtkn[i] = 'รสจืด'\n",
    "        elif each  in ['ท็อปส์','ทอปส์','ท้อปส์','ท๊อปส์','tops']:\n",
    "            ret_wtkn[i] = 'tops'\n",
    "        elif each  in ['แมคโคร','แม็คโคร','makro']:\n",
    "            ret_wtkn[i] = 'makro'\n",
    "        elif each  in ['โลตัส','lotus']:\n",
    "            ret_wtkn[i] = 'lotus'\n",
    "        elif each  in ['บิ๊กซี','bigc','Big C']:\n",
    "            ret_wtkn[i] = 'bigc'\n",
    "        elif each  in ['ท้องเสีย','ขี้แตก']:\n",
    "            ret_wtkn[i] = 'ท้องเสีย'\n",
    "        elif each  in ['ลูกสุนัข','ลูกหมา']:\n",
    "            ret_wtkn[i] = 'ลูกสุนัข'\n",
    "    return ret_wtkn"
   ]
  },
  {
   "cell_type": "markdown",
   "metadata": {},
   "source": [
    "#### Copy ชุดคำจาก File มา Process ก่อนลง MongoDB"
   ]
  },
  {
   "cell_type": "code",
   "execution_count": 42,
   "metadata": {},
   "outputs": [],
   "source": [
    "df_process_comment = df_Corpus.reset_index().copy()\n",
    "df_process_thread = df_thread.reset_index().copy()"
   ]
  },
  {
   "cell_type": "markdown",
   "metadata": {},
   "source": [
    "1.Tokenize comment"
   ]
  },
  {
   "cell_type": "code",
   "execution_count": 43,
   "metadata": {},
   "outputs": [],
   "source": [
    "df_process_comment['token_text'] = df_process_comment['text'].apply(lambda x: tokenize_custom(x,custom_tokenizer))"
   ]
  },
  {
   "cell_type": "code",
   "execution_count": 44,
   "metadata": {},
   "outputs": [
    {
     "data": {
      "text/html": [
       "<div>\n",
       "<style scoped>\n",
       "    .dataframe tbody tr th:only-of-type {\n",
       "        vertical-align: middle;\n",
       "    }\n",
       "\n",
       "    .dataframe tbody tr th {\n",
       "        vertical-align: top;\n",
       "    }\n",
       "\n",
       "    .dataframe thead th {\n",
       "        text-align: right;\n",
       "    }\n",
       "</style>\n",
       "<table border=\"1\" class=\"dataframe\">\n",
       "  <thead>\n",
       "    <tr style=\"text-align: right;\">\n",
       "      <th></th>\n",
       "      <th>commentId</th>\n",
       "      <th>Table</th>\n",
       "      <th>URLs</th>\n",
       "      <th>text</th>\n",
       "      <th>Retrived_date</th>\n",
       "      <th>token_text</th>\n",
       "    </tr>\n",
       "  </thead>\n",
       "  <tbody>\n",
       "    <tr>\n",
       "      <th>0</th>\n",
       "      <td>1</td>\n",
       "      <td>Meiji</td>\n",
       "      <td>https://pantip.com/topic/39868603</td>\n",
       "      <td>เมื่อก่อนหลายปีมาแล้ว ในเซเว่นยังมีนมเมจิรสหวา...</td>\n",
       "      <td>2020-10-26 12:40:26.135083</td>\n",
       "      <td>[ปี, เซเว่น, ยังมี, นม, เมจิ, รสหวาน, ขาย, อยู...</td>\n",
       "    </tr>\n",
       "    <tr>\n",
       "      <th>1</th>\n",
       "      <td>2</td>\n",
       "      <td>Meiji</td>\n",
       "      <td>https://pantip.com/topic/39868603</td>\n",
       "      <td>เบาหวานครับ แฮ่ๆ</td>\n",
       "      <td>2020-10-26 12:40:26.135083</td>\n",
       "      <td>[เบาหวาน]</td>\n",
       "    </tr>\n",
       "    <tr>\n",
       "      <th>2</th>\n",
       "      <td>3</td>\n",
       "      <td>Meiji</td>\n",
       "      <td>https://pantip.com/topic/39868603</td>\n",
       "      <td>หาซื้อไม่ได้นี่คิดได้  2 อย่างนะ.    คนไม่ค่อย...</td>\n",
       "      <td>2020-10-26 12:40:26.135083</td>\n",
       "      <td>[หา, ซื้อไม่ได้, คิดได้, , .    คน, กินกัน, ไม...</td>\n",
       "    </tr>\n",
       "    <tr>\n",
       "      <th>3</th>\n",
       "      <td>4</td>\n",
       "      <td>Meiji</td>\n",
       "      <td>https://pantip.com/topic/39868603</td>\n",
       "      <td>เป็นรสที่ขายไม่ดีครับ\\r\\nรสพื้นฐานคือ\\r\\nจืด แ...</td>\n",
       "      <td>2020-10-26 12:40:26.135083</td>\n",
       "      <td>[รส, ขายไม่ดี, รส, พื้นฐาน, จืด, แบ่ง, %,, low...</td>\n",
       "    </tr>\n",
       "    <tr>\n",
       "      <th>4</th>\n",
       "      <td>5</td>\n",
       "      <td>Meiji</td>\n",
       "      <td>https://pantip.com/topic/39868603</td>\n",
       "      <td>ถ้าขายไม่ดีเค้าก็เอาออกครับ shelf life มันน้อย...</td>\n",
       "      <td>2020-10-26 12:40:26.135083</td>\n",
       "      <td>[ขายไม่ดี, เค้า, shelf life, เวลา, หมดอายุ, ค่...</td>\n",
       "    </tr>\n",
       "  </tbody>\n",
       "</table>\n",
       "</div>"
      ],
      "text/plain": [
       "   commentId  Table                               URLs  \\\n",
       "0          1  Meiji  https://pantip.com/topic/39868603   \n",
       "1          2  Meiji  https://pantip.com/topic/39868603   \n",
       "2          3  Meiji  https://pantip.com/topic/39868603   \n",
       "3          4  Meiji  https://pantip.com/topic/39868603   \n",
       "4          5  Meiji  https://pantip.com/topic/39868603   \n",
       "\n",
       "                                                text  \\\n",
       "0  เมื่อก่อนหลายปีมาแล้ว ในเซเว่นยังมีนมเมจิรสหวา...   \n",
       "1                                   เบาหวานครับ แฮ่ๆ   \n",
       "2  หาซื้อไม่ได้นี่คิดได้  2 อย่างนะ.    คนไม่ค่อย...   \n",
       "3  เป็นรสที่ขายไม่ดีครับ\\r\\nรสพื้นฐานคือ\\r\\nจืด แ...   \n",
       "4  ถ้าขายไม่ดีเค้าก็เอาออกครับ shelf life มันน้อย...   \n",
       "\n",
       "                Retrived_date  \\\n",
       "0  2020-10-26 12:40:26.135083   \n",
       "1  2020-10-26 12:40:26.135083   \n",
       "2  2020-10-26 12:40:26.135083   \n",
       "3  2020-10-26 12:40:26.135083   \n",
       "4  2020-10-26 12:40:26.135083   \n",
       "\n",
       "                                          token_text  \n",
       "0  [ปี, เซเว่น, ยังมี, นม, เมจิ, รสหวาน, ขาย, อยู...  \n",
       "1                                          [เบาหวาน]  \n",
       "2  [หา, ซื้อไม่ได้, คิดได้, , .    คน, กินกัน, ไม...  \n",
       "3  [รส, ขายไม่ดี, รส, พื้นฐาน, จืด, แบ่ง, %,, low...  \n",
       "4  [ขายไม่ดี, เค้า, shelf life, เวลา, หมดอายุ, ค่...  "
      ]
     },
     "execution_count": 44,
     "metadata": {},
     "output_type": "execute_result"
    }
   ],
   "source": [
    "df_process_comment.head()"
   ]
  },
  {
   "cell_type": "markdown",
   "metadata": {},
   "source": [
    "2.Generalized keyword (Brand & product)"
   ]
  },
  {
   "cell_type": "code",
   "execution_count": 45,
   "metadata": {},
   "outputs": [],
   "source": [
    "df_process_comment['token_text'] = df_process_comment['token_text'].apply(lambda x: generalize_keyword(x))"
   ]
  },
  {
   "cell_type": "markdown",
   "metadata": {},
   "source": [
    "3.Insert comments to DB"
   ]
  },
  {
   "cell_type": "code",
   "execution_count": 46,
   "metadata": {
    "colab": {
     "base_uri": "https://localhost:8080/"
    },
    "id": "Hunm5MT7TCd2",
    "outputId": "15710375-8df1-46f0-85a2-04c66e1de5d9"
   },
   "outputs": [
    {
     "data": {
      "text/plain": [
       "<pymongo.results.InsertManyResult at 0x2757289dd48>"
      ]
     },
     "execution_count": 46,
     "metadata": {},
     "output_type": "execute_result"
    }
   ],
   "source": [
    "col_comment.delete_many({})\n",
    "process_data = create_InsertMany_comments(df_process_comment)\n",
    "col_comment.insert_many(process_data)"
   ]
  },
  {
   "cell_type": "markdown",
   "metadata": {},
   "source": [
    "4.Tokenize head of thread"
   ]
  },
  {
   "cell_type": "code",
   "execution_count": 47,
   "metadata": {},
   "outputs": [],
   "source": [
    "df_process_thread['token_text'] = df_process_thread['text'].apply(lambda x: tokenize_custom(x,custom_tokenizer))"
   ]
  },
  {
   "cell_type": "markdown",
   "metadata": {},
   "source": [
    "5.Generalized keyword (Brand & product)"
   ]
  },
  {
   "cell_type": "code",
   "execution_count": 48,
   "metadata": {},
   "outputs": [],
   "source": [
    "df_process_thread['token_text'] = df_process_thread['token_text'].apply(lambda x: generalize_keyword(x))"
   ]
  },
  {
   "cell_type": "markdown",
   "metadata": {},
   "source": [
    "6.Mark domain/entity mention"
   ]
  },
  {
   "cell_type": "code",
   "execution_count": 49,
   "metadata": {},
   "outputs": [],
   "source": [
    "df_process_thread['mention_brand'] = df_process_thread['token_text'].apply(lambda x: find_brands_product(x,'b'))\n",
    "df_process_thread['mention_product'] = df_process_thread['token_text'].apply(lambda x: find_brands_product(x,'p'))"
   ]
  },
  {
   "cell_type": "code",
   "execution_count": 50,
   "metadata": {},
   "outputs": [
    {
     "data": {
      "text/html": [
       "<div>\n",
       "<style scoped>\n",
       "    .dataframe tbody tr th:only-of-type {\n",
       "        vertical-align: middle;\n",
       "    }\n",
       "\n",
       "    .dataframe tbody tr th {\n",
       "        vertical-align: top;\n",
       "    }\n",
       "\n",
       "    .dataframe thead th {\n",
       "        text-align: right;\n",
       "    }\n",
       "</style>\n",
       "<table border=\"1\" class=\"dataframe\">\n",
       "  <thead>\n",
       "    <tr style=\"text-align: right;\">\n",
       "      <th></th>\n",
       "      <th>commentId</th>\n",
       "      <th>URLs</th>\n",
       "      <th>text</th>\n",
       "      <th>token_text</th>\n",
       "      <th>mention_product</th>\n",
       "      <th>mention_brand</th>\n",
       "    </tr>\n",
       "  </thead>\n",
       "  <tbody>\n",
       "    <tr>\n",
       "      <th>1509</th>\n",
       "      <td>65991</td>\n",
       "      <td>https://pantip.com/topic/30007179</td>\n",
       "      <td>กำลังจะเป็นคุณแม่มือใหม่ค่ะ ทำตัวไม่ถูกเลยค่ะ\\...</td>\n",
       "      <td>[คุณแม่มือใหม่, ทำตัว, ไม่, ทราบ, ที่จะ, กินนม...</td>\n",
       "      <td>[]</td>\n",
       "      <td>[]</td>\n",
       "    </tr>\n",
       "    <tr>\n",
       "      <th>1510</th>\n",
       "      <td>66015</td>\n",
       "      <td>https://pantip.com/topic/30020409</td>\n",
       "      <td>พรุ่งนี้ลูกชายอายุครบ 1 ขวบ 3 เดือน หม่ำนมแม่จ...</td>\n",
       "      <td>[พรุ่งนี้, ลูกชาย, อายุ, ขวบ, เดือน, หม่ำ, นม,...</td>\n",
       "      <td>[นม]</td>\n",
       "      <td>[]</td>\n",
       "    </tr>\n",
       "    <tr>\n",
       "      <th>1511</th>\n",
       "      <td>66044</td>\n",
       "      <td>https://pantip.com/topic/30049123</td>\n",
       "      <td>เพื่อนๆทุกคนคงคุ้นเคยกับคำถามนี้แล้วทุกคน... \"...</td>\n",
       "      <td>[เพื่อน, คุ้นเคย, คำถาม, ทุ, กค, น., .., ?\", ห...</td>\n",
       "      <td>[]</td>\n",
       "      <td>[]</td>\n",
       "    </tr>\n",
       "    <tr>\n",
       "      <th>1512</th>\n",
       "      <td>66074</td>\n",
       "      <td>https://pantip.com/topic/30011023</td>\n",
       "      <td>แตกกระทู้มาจาก www.pantip.com/topic/30007146/\\...</td>\n",
       "      <td>[แตก, กระทู้, มาจาก, บ้าน, รูป, เฟส, นะจ๊ะ, วั...</td>\n",
       "      <td>[]</td>\n",
       "      <td>[]</td>\n",
       "    </tr>\n",
       "    <tr>\n",
       "      <th>1513</th>\n",
       "      <td>66132</td>\n",
       "      <td>https://pantip.com/topic/30651064</td>\n",
       "      <td>อยากรู้ว่าปัจจุบันพวกนมกล่องทึ่ขายใน 7-11 หรือ...</td>\n",
       "      <td>[อยากรู้, นมกล่อง, ทึ่, ขาย, ห้างสรรพสินค้า, น...</td>\n",
       "      <td>[นม]</td>\n",
       "      <td>[]</td>\n",
       "    </tr>\n",
       "  </tbody>\n",
       "</table>\n",
       "</div>"
      ],
      "text/plain": [
       "      commentId                               URLs  \\\n",
       "1509      65991  https://pantip.com/topic/30007179   \n",
       "1510      66015  https://pantip.com/topic/30020409   \n",
       "1511      66044  https://pantip.com/topic/30049123   \n",
       "1512      66074  https://pantip.com/topic/30011023   \n",
       "1513      66132  https://pantip.com/topic/30651064   \n",
       "\n",
       "                                                   text  \\\n",
       "1509  กำลังจะเป็นคุณแม่มือใหม่ค่ะ ทำตัวไม่ถูกเลยค่ะ\\...   \n",
       "1510  พรุ่งนี้ลูกชายอายุครบ 1 ขวบ 3 เดือน หม่ำนมแม่จ...   \n",
       "1511  เพื่อนๆทุกคนคงคุ้นเคยกับคำถามนี้แล้วทุกคน... \"...   \n",
       "1512  แตกกระทู้มาจาก www.pantip.com/topic/30007146/\\...   \n",
       "1513  อยากรู้ว่าปัจจุบันพวกนมกล่องทึ่ขายใน 7-11 หรือ...   \n",
       "\n",
       "                                             token_text mention_product  \\\n",
       "1509  [คุณแม่มือใหม่, ทำตัว, ไม่, ทราบ, ที่จะ, กินนม...              []   \n",
       "1510  [พรุ่งนี้, ลูกชาย, อายุ, ขวบ, เดือน, หม่ำ, นม,...            [นม]   \n",
       "1511  [เพื่อน, คุ้นเคย, คำถาม, ทุ, กค, น., .., ?\", ห...              []   \n",
       "1512  [แตก, กระทู้, มาจาก, บ้าน, รูป, เฟส, นะจ๊ะ, วั...              []   \n",
       "1513  [อยากรู้, นมกล่อง, ทึ่, ขาย, ห้างสรรพสินค้า, น...            [นม]   \n",
       "\n",
       "     mention_brand  \n",
       "1509            []  \n",
       "1510            []  \n",
       "1511            []  \n",
       "1512            []  \n",
       "1513            []  "
      ]
     },
     "execution_count": 50,
     "metadata": {},
     "output_type": "execute_result"
    }
   ],
   "source": [
    "df_process_thread.tail()"
   ]
  },
  {
   "cell_type": "markdown",
   "metadata": {},
   "source": [
    "7.Insert thread to DB"
   ]
  },
  {
   "cell_type": "code",
   "execution_count": 51,
   "metadata": {},
   "outputs": [
    {
     "data": {
      "text/plain": [
       "<pymongo.results.InsertManyResult at 0x2756caab748>"
      ]
     },
     "execution_count": 51,
     "metadata": {},
     "output_type": "execute_result"
    }
   ],
   "source": [
    "col_thread.delete_many({})\n",
    "process_data = create_InsertMany_Thread(df_process_thread)\n",
    "col_thread.insert_many(process_data)"
   ]
  },
  {
   "cell_type": "code",
   "execution_count": 52,
   "metadata": {
    "executionInfo": {
     "elapsed": 890,
     "status": "ok",
     "timestamp": 1604027734766,
     "user": {
      "displayName": "Pacharapol O.",
      "photoUrl": "https://lh3.googleusercontent.com/a-/AOh14GiBNaVjsCxoMVUqEvSDC7eauF0V2ZD7B-TzevR1TQ=s64",
      "userId": "00378494490135533545"
     },
     "user_tz": -420
    },
    "id": "J30GMUlJTCdh"
   },
   "outputs": [],
   "source": [
    "del df_textList1,df_textList2,df_thread,df_Corpus,df_process_comment,df_process_thread"
   ]
  },
  {
   "cell_type": "markdown",
   "metadata": {},
   "source": [
    "<br><br>\n",
    "### Process หัวกระทู้เพื่อดึง Domain (Brand & Product) ไม่ใช้โมเดลเทรนแล้วทำนาย ต้องการความถูกต้อง 100%"
   ]
  },
  {
   "cell_type": "markdown",
   "metadata": {},
   "source": [
    "หากเคยบันทึกลง MongoDB แล้ว ให้เริ่มตรงนี้"
   ]
  },
  {
   "cell_type": "code",
   "execution_count": 48,
   "metadata": {},
   "outputs": [],
   "source": [
    "cursor_thread = col_thread.find()\n",
    "df_thr_process = pd.DataFrame(cursor_thread)"
   ]
  },
  {
   "cell_type": "code",
   "execution_count": 49,
   "metadata": {},
   "outputs": [
    {
     "name": "stderr",
     "output_type": "stream",
     "text": [
      "C:\\ProgramData\\Anaconda3\\lib\\site-packages\\ipykernel_launcher.py:2: SettingWithCopyWarning: \n",
      "A value is trying to be set on a copy of a slice from a DataFrame.\n",
      "Try using .loc[row_indexer,col_indexer] = value instead\n",
      "\n",
      "See the caveats in the documentation: http://pandas.pydata.org/pandas-docs/stable/indexing.html#indexing-view-versus-copy\n",
      "  \n",
      "C:\\ProgramData\\Anaconda3\\lib\\site-packages\\ipykernel_launcher.py:3: SettingWithCopyWarning: \n",
      "A value is trying to be set on a copy of a slice from a DataFrame.\n",
      "Try using .loc[row_indexer,col_indexer] = value instead\n",
      "\n",
      "See the caveats in the documentation: http://pandas.pydata.org/pandas-docs/stable/indexing.html#indexing-view-versus-copy\n",
      "  This is separate from the ipykernel package so we can avoid doing imports until\n"
     ]
    }
   ],
   "source": [
    "df_urls_milk = df_thr_process[(df_thr_process.mention_brand.str.len() != 0) & (df_thr_process.mention_product.str.len() != 0)]\n",
    "df_urls_milk['mention_brand'] = df_urls_milk['mention_brand'].apply(lambda x: repr(set(x)))\n",
    "df_urls_milk['mention_product'] = df_urls_milk['mention_product'].apply(lambda x: repr(set(x)))"
   ]
  },
  {
   "cell_type": "code",
   "execution_count": 50,
   "metadata": {},
   "outputs": [
    {
     "data": {
      "text/plain": [
       "(414, 6)"
      ]
     },
     "execution_count": 50,
     "metadata": {},
     "output_type": "execute_result"
    }
   ],
   "source": [
    "df_urls_milk.shape"
   ]
  },
  {
   "cell_type": "code",
   "execution_count": 55,
   "metadata": {},
   "outputs": [
    {
     "name": "stdout",
     "output_type": "stream",
     "text": [
      "จำนวนกระทู้ที่มีการพูดถึงนมหรือชื่อแบรนด์ในหัวกระทู้ = 414\n"
     ]
    },
    {
     "name": "stderr",
     "output_type": "stream",
     "text": [
      "C:\\ProgramData\\Anaconda3\\lib\\site-packages\\ipykernel_launcher.py:2: UserWarning: Pandas doesn't allow columns to be created via a new attribute name - see https://pandas.pydata.org/pandas-docs/stable/indexing.html#attribute-access\n",
      "  \n"
     ]
    }
   ],
   "source": [
    "df_view = df_urls_milk[['URLs','mention_brand']]\n",
    "df_view.column = ['URLs','mention_brand']\n",
    "df_view_count = df_view.groupby('mention_brand').count()\n",
    "print('จำนวนกระทู้ที่มีการพูดถึงนมหรือชื่อแบรนด์ในหัวกระทู้ =',df_view.shape[0])"
   ]
  },
  {
   "cell_type": "code",
   "execution_count": 57,
   "metadata": {
    "scrolled": true
   },
   "outputs": [
    {
     "data": {
      "text/html": [
       "<div>\n",
       "<style scoped>\n",
       "    .dataframe tbody tr th:only-of-type {\n",
       "        vertical-align: middle;\n",
       "    }\n",
       "\n",
       "    .dataframe tbody tr th {\n",
       "        vertical-align: top;\n",
       "    }\n",
       "\n",
       "    .dataframe thead th {\n",
       "        text-align: right;\n",
       "    }\n",
       "</style>\n",
       "<table border=\"1\" class=\"dataframe\">\n",
       "  <thead>\n",
       "    <tr style=\"text-align: right;\">\n",
       "      <th></th>\n",
       "      <th>URLs</th>\n",
       "    </tr>\n",
       "    <tr>\n",
       "      <th>mention_brand</th>\n",
       "      <th></th>\n",
       "    </tr>\n",
       "  </thead>\n",
       "  <tbody>\n",
       "    <tr>\n",
       "      <th>{'เมจิ'}</th>\n",
       "      <td>184</td>\n",
       "    </tr>\n",
       "    <tr>\n",
       "      <th>{'โฟร์โมสต์'}</th>\n",
       "      <td>68</td>\n",
       "    </tr>\n",
       "    <tr>\n",
       "      <th>{'ดัชมิลล์'}</th>\n",
       "      <td>48</td>\n",
       "    </tr>\n",
       "    <tr>\n",
       "      <th>{'โชคชัย'}</th>\n",
       "      <td>24</td>\n",
       "    </tr>\n",
       "    <tr>\n",
       "      <th>{'เมจิ', 'ดัชมิลล์'}</th>\n",
       "      <td>15</td>\n",
       "    </tr>\n",
       "    <tr>\n",
       "      <th>{'ไทยเดนมาร์ค'}</th>\n",
       "      <td>8</td>\n",
       "    </tr>\n",
       "    <tr>\n",
       "      <th>{'เมจิ', 'คาเนชั่น'}</th>\n",
       "      <td>6</td>\n",
       "    </tr>\n",
       "    <tr>\n",
       "      <th>{'โฟร์โมสต์', 'เมจิ'}</th>\n",
       "      <td>5</td>\n",
       "    </tr>\n",
       "    <tr>\n",
       "      <th>{'โฟร์โมสต์', 'ดัชมิลล์'}</th>\n",
       "      <td>4</td>\n",
       "    </tr>\n",
       "    <tr>\n",
       "      <th>{'เมจิ', 'โชคชัย'}</th>\n",
       "      <td>3</td>\n",
       "    </tr>\n",
       "    <tr>\n",
       "      <th>{'เมจิ', 'หนองโพ'}</th>\n",
       "      <td>3</td>\n",
       "    </tr>\n",
       "    <tr>\n",
       "      <th>{'เมจิ', 'ไทยเดนมาร์ค'}</th>\n",
       "      <td>3</td>\n",
       "    </tr>\n",
       "    <tr>\n",
       "      <th>{'โชคชัย', 'ไทยเดนมาร์ค'}</th>\n",
       "      <td>2</td>\n",
       "    </tr>\n",
       "    <tr>\n",
       "      <th>{'ไทยเดนมาร์ค', 'หนองโพ'}</th>\n",
       "      <td>2</td>\n",
       "    </tr>\n",
       "    <tr>\n",
       "      <th>{'โฟร์โมสต์', 'ไทยเดนมาร์ค'}</th>\n",
       "      <td>2</td>\n",
       "    </tr>\n",
       "    <tr>\n",
       "      <th>{'โฟร์โมสต์', 'ไทยเดนมาร์ค', 'หนองโพ'}</th>\n",
       "      <td>2</td>\n",
       "    </tr>\n",
       "    <tr>\n",
       "      <th>{'โฟร์โมสต์', 'เมจิ', 'โชคชัย'}</th>\n",
       "      <td>2</td>\n",
       "    </tr>\n",
       "    <tr>\n",
       "      <th>{'โฟร์โมสต์', 'เมจิ', 'ดัชมิลล์'}</th>\n",
       "      <td>2</td>\n",
       "    </tr>\n",
       "    <tr>\n",
       "      <th>{'คาเนชั่น'}</th>\n",
       "      <td>2</td>\n",
       "    </tr>\n",
       "    <tr>\n",
       "      <th>{'เมจิ', 'แมคโนเลีย'}</th>\n",
       "      <td>2</td>\n",
       "    </tr>\n",
       "    <tr>\n",
       "      <th>{'หนองโพ'}</th>\n",
       "      <td>2</td>\n",
       "    </tr>\n",
       "    <tr>\n",
       "      <th>{'เมจิ', 'ดัชมิลล์', 'เอ็มมิลค์'}</th>\n",
       "      <td>2</td>\n",
       "    </tr>\n",
       "    <tr>\n",
       "      <th>{'เมจิ', 'ไทยเดนมาร์ค', 'หนองโพ', 'โชคชัย', 'แดรี่โฮม'}</th>\n",
       "      <td>1</td>\n",
       "    </tr>\n",
       "    <tr>\n",
       "      <th>{'ดัชมิลล์', 'โฟร์โมสต์', 'โชคชัย', 'หนองโพ'}</th>\n",
       "      <td>1</td>\n",
       "    </tr>\n",
       "    <tr>\n",
       "      <th>{'ดัชมิลล์', 'หนองโพ'}</th>\n",
       "      <td>1</td>\n",
       "    </tr>\n",
       "    <tr>\n",
       "      <th>{'เมจิ', 'ดัชมิลล์', 'คาเนชั่น'}</th>\n",
       "      <td>1</td>\n",
       "    </tr>\n",
       "    <tr>\n",
       "      <th>{'โฟร์โมสต์', 'โชคชัย'}</th>\n",
       "      <td>1</td>\n",
       "    </tr>\n",
       "    <tr>\n",
       "      <th>{'โฟร์โมสต์', 'แมคโนเลีย'}</th>\n",
       "      <td>1</td>\n",
       "    </tr>\n",
       "    <tr>\n",
       "      <th>{'เมจิ', 'ดัชมิลล์', 'หนองโพ', 'โฟร์โมสต์', 'โชคชัย'}</th>\n",
       "      <td>1</td>\n",
       "    </tr>\n",
       "    <tr>\n",
       "      <th>{'โฟร์โมสต์', 'เมจิ', 'ไทยเดนมาร์ค'}</th>\n",
       "      <td>1</td>\n",
       "    </tr>\n",
       "    <tr>\n",
       "      <th>{'โฟร์โมสต์', 'เมจิ', 'ไทยเดนมาร์ค', 'หนองโพ'}</th>\n",
       "      <td>1</td>\n",
       "    </tr>\n",
       "    <tr>\n",
       "      <th>{'โฟร์โมสต์', 'เมจิ', 'หนองโพ'}</th>\n",
       "      <td>1</td>\n",
       "    </tr>\n",
       "    <tr>\n",
       "      <th>{'เมจิ', 'ดัชมิลล์', 'โชคชัย'}</th>\n",
       "      <td>1</td>\n",
       "    </tr>\n",
       "    <tr>\n",
       "      <th>{'โฟร์โมสต์', 'เมจิ', 'ดัชมิลล์', 'ไทยเดนมาร์ค'}</th>\n",
       "      <td>1</td>\n",
       "    </tr>\n",
       "    <tr>\n",
       "      <th>{'ดัชมิลล์', 'โฟร์โมสต์', 'เมจิ', 'โชคชัย'}</th>\n",
       "      <td>1</td>\n",
       "    </tr>\n",
       "    <tr>\n",
       "      <th>{'โฟร์โมสต์', 'ดัชมิลล์', 'ไทยเดนมาร์ค'}</th>\n",
       "      <td>1</td>\n",
       "    </tr>\n",
       "    <tr>\n",
       "      <th>{'โฟร์โมสต์', 'ดัชมิลล์', 'ไทยเดนมาร์ค', 'หนองโพ'}</th>\n",
       "      <td>1</td>\n",
       "    </tr>\n",
       "    <tr>\n",
       "      <th>{'โฟร์โมสต์', 'คาเนชั่น'}</th>\n",
       "      <td>1</td>\n",
       "    </tr>\n",
       "    <tr>\n",
       "      <th>{'ดัชมิลล์', 'โชคชัย', 'หนองโพ'}</th>\n",
       "      <td>1</td>\n",
       "    </tr>\n",
       "    <tr>\n",
       "      <th>{'ดัชมิลล์', 'ไทยเดนมาร์ค'}</th>\n",
       "      <td>1</td>\n",
       "    </tr>\n",
       "    <tr>\n",
       "      <th>{'โชคชัย', 'หนองโพ'}</th>\n",
       "      <td>1</td>\n",
       "    </tr>\n",
       "    <tr>\n",
       "      <th>{'แดรี่โฮม'}</th>\n",
       "      <td>1</td>\n",
       "    </tr>\n",
       "    <tr>\n",
       "      <th>{'ดัชมิลล์', 'คาเนชั่น'}</th>\n",
       "      <td>1</td>\n",
       "    </tr>\n",
       "    <tr>\n",
       "      <th>{'เมจิ', 'แดรี่โฮม'}</th>\n",
       "      <td>1</td>\n",
       "    </tr>\n",
       "    <tr>\n",
       "      <th>{'ดัชมิลล์', 'ไทยเดนมาร์ค', 'หนองโพ'}</th>\n",
       "      <td>1</td>\n",
       "    </tr>\n",
       "  </tbody>\n",
       "</table>\n",
       "</div>"
      ],
      "text/plain": [
       "                                                    URLs\n",
       "mention_brand                                           \n",
       "{'เมจิ'}                                             184\n",
       "{'โฟร์โมสต์'}                                         68\n",
       "{'ดัชมิลล์'}                                          48\n",
       "{'โชคชัย'}                                            24\n",
       "{'เมจิ', 'ดัชมิลล์'}                                  15\n",
       "{'ไทยเดนมาร์ค'}                                        8\n",
       "{'เมจิ', 'คาเนชั่น'}                                   6\n",
       "{'โฟร์โมสต์', 'เมจิ'}                                  5\n",
       "{'โฟร์โมสต์', 'ดัชมิลล์'}                              4\n",
       "{'เมจิ', 'โชคชัย'}                                     3\n",
       "{'เมจิ', 'หนองโพ'}                                     3\n",
       "{'เมจิ', 'ไทยเดนมาร์ค'}                                3\n",
       "{'โชคชัย', 'ไทยเดนมาร์ค'}                              2\n",
       "{'ไทยเดนมาร์ค', 'หนองโพ'}                              2\n",
       "{'โฟร์โมสต์', 'ไทยเดนมาร์ค'}                           2\n",
       "{'โฟร์โมสต์', 'ไทยเดนมาร์ค', 'หนองโพ'}                 2\n",
       "{'โฟร์โมสต์', 'เมจิ', 'โชคชัย'}                        2\n",
       "{'โฟร์โมสต์', 'เมจิ', 'ดัชมิลล์'}                      2\n",
       "{'คาเนชั่น'}                                           2\n",
       "{'เมจิ', 'แมคโนเลีย'}                                  2\n",
       "{'หนองโพ'}                                             2\n",
       "{'เมจิ', 'ดัชมิลล์', 'เอ็มมิลค์'}                      2\n",
       "{'เมจิ', 'ไทยเดนมาร์ค', 'หนองโพ', 'โชคชัย', 'แด...     1\n",
       "{'ดัชมิลล์', 'โฟร์โมสต์', 'โชคชัย', 'หนองโพ'}          1\n",
       "{'ดัชมิลล์', 'หนองโพ'}                                 1\n",
       "{'เมจิ', 'ดัชมิลล์', 'คาเนชั่น'}                       1\n",
       "{'โฟร์โมสต์', 'โชคชัย'}                                1\n",
       "{'โฟร์โมสต์', 'แมคโนเลีย'}                             1\n",
       "{'เมจิ', 'ดัชมิลล์', 'หนองโพ', 'โฟร์โมสต์', 'โช...     1\n",
       "{'โฟร์โมสต์', 'เมจิ', 'ไทยเดนมาร์ค'}                   1\n",
       "{'โฟร์โมสต์', 'เมจิ', 'ไทยเดนมาร์ค', 'หนองโพ'}         1\n",
       "{'โฟร์โมสต์', 'เมจิ', 'หนองโพ'}                        1\n",
       "{'เมจิ', 'ดัชมิลล์', 'โชคชัย'}                         1\n",
       "{'โฟร์โมสต์', 'เมจิ', 'ดัชมิลล์', 'ไทยเดนมาร์ค'}       1\n",
       "{'ดัชมิลล์', 'โฟร์โมสต์', 'เมจิ', 'โชคชัย'}            1\n",
       "{'โฟร์โมสต์', 'ดัชมิลล์', 'ไทยเดนมาร์ค'}               1\n",
       "{'โฟร์โมสต์', 'ดัชมิลล์', 'ไทยเดนมาร์ค', 'หนองโพ'}     1\n",
       "{'โฟร์โมสต์', 'คาเนชั่น'}                              1\n",
       "{'ดัชมิลล์', 'โชคชัย', 'หนองโพ'}                       1\n",
       "{'ดัชมิลล์', 'ไทยเดนมาร์ค'}                            1\n",
       "{'โชคชัย', 'หนองโพ'}                                   1\n",
       "{'แดรี่โฮม'}                                           1\n",
       "{'ดัชมิลล์', 'คาเนชั่น'}                               1\n",
       "{'เมจิ', 'แดรี่โฮม'}                                   1\n",
       "{'ดัชมิลล์', 'ไทยเดนมาร์ค', 'หนองโพ'}                  1"
      ]
     },
     "execution_count": 57,
     "metadata": {},
     "output_type": "execute_result"
    }
   ],
   "source": [
    "df_view_count.sort_values(by='URLs',ascending=False)"
   ]
  },
  {
   "cell_type": "code",
   "execution_count": 62,
   "metadata": {},
   "outputs": [
    {
     "data": {
      "text/html": [
       "<div>\n",
       "<style scoped>\n",
       "    .dataframe tbody tr th:only-of-type {\n",
       "        vertical-align: middle;\n",
       "    }\n",
       "\n",
       "    .dataframe tbody tr th {\n",
       "        vertical-align: top;\n",
       "    }\n",
       "\n",
       "    .dataframe thead th {\n",
       "        text-align: right;\n",
       "    }\n",
       "</style>\n",
       "<table border=\"1\" class=\"dataframe\">\n",
       "  <thead>\n",
       "    <tr style=\"text-align: right;\">\n",
       "      <th></th>\n",
       "      <th>URLs</th>\n",
       "      <th>_id</th>\n",
       "      <th>mention_brand</th>\n",
       "      <th>mention_product</th>\n",
       "      <th>text</th>\n",
       "      <th>token_text</th>\n",
       "    </tr>\n",
       "  </thead>\n",
       "  <tbody>\n",
       "    <tr>\n",
       "      <th>0</th>\n",
       "      <td>https://pantip.com/topic/39868603</td>\n",
       "      <td>5fb39fcee69b731908da1e06</td>\n",
       "      <td>{'เมจิ'}</td>\n",
       "      <td>{'รสหวาน', 'นม'}</td>\n",
       "      <td>เมื่อก่อนหลายปีมาแล้ว ในเซเว่นยังมีนมเมจิรสหวา...</td>\n",
       "      <td>[ปี, เซเว่น, ยังมี, นม, เมจิ, รสหวาน, ขาย, อยู...</td>\n",
       "    </tr>\n",
       "    <tr>\n",
       "      <th>1</th>\n",
       "      <td>https://pantip.com/topic/39597709</td>\n",
       "      <td>5fb39fcee69b731908da1e07</td>\n",
       "      <td>{'เมจิ'}</td>\n",
       "      <td>{'นม'}</td>\n",
       "      <td>ตามหัวข้อเลยค่ะ อยากรู้ว่านมเมจิที่ต้มก่อนนำไป...</td>\n",
       "      <td>[หัวข้อ, อยากรู้, นม, เมจิ, ต้ม, ส่วนผสม, เครื...</td>\n",
       "    </tr>\n",
       "    <tr>\n",
       "      <th>2</th>\n",
       "      <td>https://pantip.com/topic/39747201</td>\n",
       "      <td>5fb39fcee69b731908da1e08</td>\n",
       "      <td>{'เมจิ'}</td>\n",
       "      <td>{'นม'}</td>\n",
       "      <td>วันก่อนซื้อ นมเมจิขวด 2 ลิตร มากิน สังเกตฝามัน...</td>\n",
       "      <td>[วันก่อน, ซื้อ, นม, เมจิ, ขวด, ลิตร, กิน, สังเ...</td>\n",
       "    </tr>\n",
       "    <tr>\n",
       "      <th>3</th>\n",
       "      <td>https://pantip.com/topic/39732615</td>\n",
       "      <td>5fb39fcee69b731908da1e09</td>\n",
       "      <td>{'เมจิ'}</td>\n",
       "      <td>{'นม'}</td>\n",
       "      <td>อยากรู้ว่าMakroมีนมยี่ห้อ meiji(เมจิ) ขายมั้ยครับ</td>\n",
       "      <td>[อยากรู้, Makro, นม, ยี่ห้อ, เมจิ, เมจิ, ขาย]</td>\n",
       "    </tr>\n",
       "    <tr>\n",
       "      <th>5</th>\n",
       "      <td>https://pantip.com/topic/39928742</td>\n",
       "      <td>5fb39fcee69b731908da1e0b</td>\n",
       "      <td>{'เมจิ'}</td>\n",
       "      <td>{'ไขมัน 0%', 'นม'}</td>\n",
       "      <td>สวัสดี เราคือมนุษย์ออฟฟิศ อายุ 25 ปี ที่เสพติด...</td>\n",
       "      <td>[สวัสดี, มนุษย์, ออฟฟิศ, อายุ, ปี, เสพติด, กิน...</td>\n",
       "    </tr>\n",
       "    <tr>\n",
       "      <th>10</th>\n",
       "      <td>https://pantip.com/topic/39975832</td>\n",
       "      <td>5fb39fcee69b731908da1e10</td>\n",
       "      <td>{'เมจิ'}</td>\n",
       "      <td>{'นม'}</td>\n",
       "      <td>🥺 คือผมอายุ17ย่าง18 สูง168หนัก61 ผมไม่สูงขึ้นเ...</td>\n",
       "      <td>[ผม, อายุ, ย่าง, หนัก, ผม, ไม่, อายุ, เพื่อน, ...</td>\n",
       "    </tr>\n",
       "    <tr>\n",
       "      <th>11</th>\n",
       "      <td>https://pantip.com/topic/39905450</td>\n",
       "      <td>5fb39fcee69b731908da1e11</td>\n",
       "      <td>{'เมจิ'}</td>\n",
       "      <td>{'นม'}</td>\n",
       "      <td>ขอคำแนะนำหน่อยครับ \\r\\nทำสปาเกตตี้คาโบนาราครั้...</td>\n",
       "      <td>[คำแนะนำ, ทำ, สปา, เก, ตตี้, คา, โบ, นารา, ครั...</td>\n",
       "    </tr>\n",
       "    <tr>\n",
       "      <th>12</th>\n",
       "      <td>https://pantip.com/topic/39874488</td>\n",
       "      <td>5fb39fcee69b731908da1e12</td>\n",
       "      <td>{'เมจิ'}</td>\n",
       "      <td>{'นม'}</td>\n",
       "      <td>พอดีว่าช่วงนี้ WFH เลยอยากจะลองชง มอคค่า เองบ้...</td>\n",
       "      <td>[WFH, ลอง, ชง, มอคค่า, ลอง, ทำ, เวิค, รสชาติ, ...</td>\n",
       "    </tr>\n",
       "    <tr>\n",
       "      <th>17</th>\n",
       "      <td>https://pantip.com/topic/39099897</td>\n",
       "      <td>5fb39fcee69b731908da1e17</td>\n",
       "      <td>{'เมจิ'}</td>\n",
       "      <td>{'พาสเจอร์ไรส์', 'นม'}</td>\n",
       "      <td>พอดีวันนี้ไปซื้อนมเมจิ พาสเจอไรซ์ จำนวน 7 ขวดท...</td>\n",
       "      <td>[ซื้อ, นม, เมจิ, พาสเจอร์ไรส์, จำนวน, ขวด, ปกต...</td>\n",
       "    </tr>\n",
       "    <tr>\n",
       "      <th>18</th>\n",
       "      <td>https://pantip.com/topic/38412845</td>\n",
       "      <td>5fb39fcee69b731908da1e18</td>\n",
       "      <td>{'เมจิ'}</td>\n",
       "      <td>{'เวย์โปรตีน', 'นม'}</td>\n",
       "      <td>เข้าเซเว่นเห็นนม เวย์โปรตีน เมจิ ขวด49บาทโปรตี...</td>\n",
       "      <td>[เซเว่น, นม, เวย์โปรตีน, เมจิ, ขวด, โปรตีน, แค...</td>\n",
       "    </tr>\n",
       "    <tr>\n",
       "      <th>22</th>\n",
       "      <td>https://pantip.com/topic/39689189</td>\n",
       "      <td>5fb39fcee69b731908da1e1c</td>\n",
       "      <td>{'เมจิ'}</td>\n",
       "      <td>{'นม'}</td>\n",
       "      <td>บริษัท ซีพี-เมจิ จำกัด ร่วมกับ โรงพยาบาลมหาวชิ...</td>\n",
       "      <td>[บริษัท, เมจิ, จำกัด, ร่วมกับ, โรงพยาบาล, มหา,...</td>\n",
       "    </tr>\n",
       "    <tr>\n",
       "      <th>23</th>\n",
       "      <td>https://pantip.com/topic/39196885</td>\n",
       "      <td>5fb39fcee69b731908da1e1d</td>\n",
       "      <td>{'เมจิ'}</td>\n",
       "      <td>{'นม'}</td>\n",
       "      <td>น้อง 1 ขวบ 1 เดือนค่ะ หมอบอกให้เปลี่ยนมาเป็นนม...</td>\n",
       "      <td>[น้อง, ขวบ, เดือน, หมอ, นม, UHT, ได้, ปกติ, น้...</td>\n",
       "    </tr>\n",
       "    <tr>\n",
       "      <th>25</th>\n",
       "      <td>https://pantip.com/topic/39183141</td>\n",
       "      <td>5fb39fcee69b731908da1e1f</td>\n",
       "      <td>{'เมจิ'}</td>\n",
       "      <td>{'นม'}</td>\n",
       "      <td>สิ่งที่ขายในร้านนมนะคะ\\r\\n1.นมเปรี้ยวบีทาเก้นม...</td>\n",
       "      <td>[ขาย, ร้านนม, 1., นมเปรี้ยว, บี, ทา, เก้, ขนาด...</td>\n",
       "    </tr>\n",
       "    <tr>\n",
       "      <th>29</th>\n",
       "      <td>https://pantip.com/topic/38573978</td>\n",
       "      <td>5fb39fcee69b731908da1e23</td>\n",
       "      <td>{'เมจิ'}</td>\n",
       "      <td>{'ไขมัน 0%', 'นม'}</td>\n",
       "      <td>คือกินทุกคืนครับ เอานมเมจิไขมัน 0% ไปใส่ไมโครเ...</td>\n",
       "      <td>[กิน, ทุกคืน, นม, เมจิ, ไขมัน 0%, ใส่, ไมโครเว...</td>\n",
       "    </tr>\n",
       "    <tr>\n",
       "      <th>30</th>\n",
       "      <td>https://pantip.com/topic/39400735</td>\n",
       "      <td>5fb39fcee69b731908da1e24</td>\n",
       "      <td>{'เมจิ'}</td>\n",
       "      <td>{'นม'}</td>\n",
       "      <td>แฟนคลับ 'เพิร์ธ บังเอิญรัก , TEMPT' เซอร์ไพร้ส...</td>\n",
       "      <td>[แฟนคลับ, ', เพิร์ธ, บังเอิญ, รัก, ,, TEMPT, '...</td>\n",
       "    </tr>\n",
       "    <tr>\n",
       "      <th>34</th>\n",
       "      <td>https://pantip.com/topic/38967410</td>\n",
       "      <td>5fb39fcee69b731908da1e28</td>\n",
       "      <td>{'เมจิ'}</td>\n",
       "      <td>{'เวย์', 'นม'}</td>\n",
       "      <td>คือผมเข้าฟิตเนสได้ เกือบ 2 อาทิตย์แล้ว ก่อนเข้...</td>\n",
       "      <td>[ผม, ฟิตเนส, ได้, อาทิตย์, น้ำหนัก, ผม, ผม, เข...</td>\n",
       "    </tr>\n",
       "    <tr>\n",
       "      <th>36</th>\n",
       "      <td>https://pantip.com/topic/38942098</td>\n",
       "      <td>5fb39fcee69b731908da1e2a</td>\n",
       "      <td>{'เมจิ'}</td>\n",
       "      <td>{'เวย์', 'นม'}</td>\n",
       "      <td>พอดีได้ยินมาว่าถ้าเราจะลดน้ำหนักเราต้องกินอาหา...</td>\n",
       "      <td>[ได้ยิน, ลดน้ำหนัก, กิน, อาหาร, กิน, โปรตีน, ไ...</td>\n",
       "    </tr>\n",
       "    <tr>\n",
       "      <th>49</th>\n",
       "      <td>https://pantip.com/topic/40076173</td>\n",
       "      <td>5fb39fcee69b731908da1e37</td>\n",
       "      <td>{'เมจิ'}</td>\n",
       "      <td>{'นม'}</td>\n",
       "      <td>13 09 60 \\r\\nเมื่อคืนเป็นคืนที่นอนหลับได้ห้าชั...</td>\n",
       "      <td>[คืน, นอนหลับ, ได้, ห้า, ชั่วโมง, หลับ, ลึก, ล...</td>\n",
       "    </tr>\n",
       "    <tr>\n",
       "      <th>52</th>\n",
       "      <td>https://pantip.com/topic/38812798</td>\n",
       "      <td>5fb39fcee69b731908da1e3a</td>\n",
       "      <td>{'เมจิ'}</td>\n",
       "      <td>{'กล้วยหอม', 'ไขมันต่ำ', 'นม'}</td>\n",
       "      <td>เพื่อนๆ หน้าร้อนนี้ รู้สึกอยากกินอะไรเย็นๆไหม ...</td>\n",
       "      <td>[เพื่อน, หน้าร้อน, รู้สึก, กิน, เย็น, ไหม, กิน...</td>\n",
       "    </tr>\n",
       "    <tr>\n",
       "      <th>57</th>\n",
       "      <td>https://pantip.com/topic/38630508</td>\n",
       "      <td>5fb39fcee69b731908da1e3f</td>\n",
       "      <td>{'เมจิ'}</td>\n",
       "      <td>{'เวย์', 'ช็อกโกแลต', 'นม'}</td>\n",
       "      <td>สวัสดีทุกท่านครับ\\r\\nเมื่อวาน (6 มี.ค.) จู่ๆก็...</td>\n",
       "      <td>[สวัสดี, ทุกท่าน, .ค.), โฆษณา, facebook, เปิดต...</td>\n",
       "    </tr>\n",
       "    <tr>\n",
       "      <th>85</th>\n",
       "      <td>https://pantip.com/topic/38284481</td>\n",
       "      <td>5fb39fcee69b731908da1e5b</td>\n",
       "      <td>{'เมจิ'}</td>\n",
       "      <td>{'นม'}</td>\n",
       "      <td>สวัสดีค่ะเพื่อนๆชาว Pantip ชื่อปุ้ยนะคะ มีลูก ...</td>\n",
       "      <td>[สวัสดี, เพื่อน, Pantip, ชื่อ, ปุ้ย, มีลูก, คน...</td>\n",
       "    </tr>\n",
       "    <tr>\n",
       "      <th>91</th>\n",
       "      <td>https://pantip.com/topic/38034607</td>\n",
       "      <td>5fb39fcee69b731908da1e61</td>\n",
       "      <td>{'เมจิ'}</td>\n",
       "      <td>{'นม'}</td>\n",
       "      <td>ตามนั้นค่ะ ไปหามาหลายวัน หลายสาขาแล้ว ..แล้วมั...</td>\n",
       "      <td>[ตามนั้น, ไปหา, .., ช่าง, เหมาะเจาะ, cp, เมจิ,...</td>\n",
       "    </tr>\n",
       "    <tr>\n",
       "      <th>92</th>\n",
       "      <td>https://pantip.com/topic/38151004</td>\n",
       "      <td>5fb39fcee69b731908da1e62</td>\n",
       "      <td>{'เมจิ'}</td>\n",
       "      <td>{'คาราเมล', 'นม'}</td>\n",
       "      <td>สูตรนี้ลองทำดูค่ะ ไม่ยากเลย ส่วนผสมใช้เท่าที่ม...</td>\n",
       "      <td>[สูตร, ลอง, ทำ, ดู, ไม่, ส่วนผสม, ตู้เย็น, กลิ...</td>\n",
       "    </tr>\n",
       "    <tr>\n",
       "      <th>100</th>\n",
       "      <td>https://pantip.com/topic/37482301</td>\n",
       "      <td>5fb39fcee69b731908da1e6a</td>\n",
       "      <td>{'เมจิ'}</td>\n",
       "      <td>{'รสหวาน', 'พาสเจอร์ไรส์', 'นม'}</td>\n",
       "      <td>รสชาติดีสุดๆ\\r\\n\\r\\n\\r\\nใครติดใจในรสชาติของนมพ...</td>\n",
       "      <td>[รสชาติ, ดี, ติดใจ, รสชาติ, นม, พาสเจอร์ไรส์, ...</td>\n",
       "    </tr>\n",
       "    <tr>\n",
       "      <th>101</th>\n",
       "      <td>https://pantip.com/topic/37736196</td>\n",
       "      <td>5fb39fcee69b731908da1e6b</td>\n",
       "      <td>{'เมจิ'}</td>\n",
       "      <td>{'นม'}</td>\n",
       "      <td>ใช้เคื่องตีฟองแบบก้าน ของ JRL สีดำแบบเสียบปลั๊...</td>\n",
       "      <td>[เคื่อง, ตี, ฟอง, ก้าน, JRL, สี, ดำ, เสียบ, ปล...</td>\n",
       "    </tr>\n",
       "    <tr>\n",
       "      <th>104</th>\n",
       "      <td>https://pantip.com/topic/38441251</td>\n",
       "      <td>5fb39fcee69b731908da1e6e</td>\n",
       "      <td>{'เมจิ'}</td>\n",
       "      <td>{'นม'}</td>\n",
       "      <td>สวัสดีค่ะ แนะนำตัวเลยนะ เราชื่อปัท ตอนนี้อายุ ...</td>\n",
       "      <td>[สวัสดี, แนะนำตัว, ชื่อ, ปัท, ตอนนี้, อายุ, ปี...</td>\n",
       "    </tr>\n",
       "    <tr>\n",
       "      <th>108</th>\n",
       "      <td>https://pantip.com/topic/37647687</td>\n",
       "      <td>5fb39fcee69b731908da1e72</td>\n",
       "      <td>{'เมจิ'}</td>\n",
       "      <td>{'นม'}</td>\n",
       "      <td>คือเราซื้อนมเมจิstartมาละเรากินไปนิดนึง เก็บไว...</td>\n",
       "      <td>[ซื้อ, นม, เมจิ, start, กิน, นิดนึง, ตู้เย็น, ...</td>\n",
       "    </tr>\n",
       "    <tr>\n",
       "      <th>117</th>\n",
       "      <td>https://pantip.com/topic/37500460</td>\n",
       "      <td>5fb39fcee69b731908da1e7b</td>\n",
       "      <td>{'เมจิ'}</td>\n",
       "      <td>{'นม'}</td>\n",
       "      <td>อยากสอบถามท่านที่เคยทานนมเมจิโกล์ดแม็กซ์ค่ะว่า...</td>\n",
       "      <td>[สอบถาม, ท่าน, ทาน, นม, เมจิ, โก, ล์ด, แม็กซ์,...</td>\n",
       "    </tr>\n",
       "    <tr>\n",
       "      <th>131</th>\n",
       "      <td>https://pantip.com/topic/37690299</td>\n",
       "      <td>5fb39fcee69b731908da1e89</td>\n",
       "      <td>{'เมจิ'}</td>\n",
       "      <td>{'นม'}</td>\n",
       "      <td>ที่สงสัยเพราะแม่อะ รู้จักเพื่อนเรา พี่ พ่อ เพื...</td>\n",
       "      <td>[สงสัย, แม่, อะ, รู้จัก, เพื่อน, พี่, พ่อ, เพื...</td>\n",
       "    </tr>\n",
       "    <tr>\n",
       "      <th>150</th>\n",
       "      <td>https://pantip.com/topic/37264094</td>\n",
       "      <td>5fb39fcee69b731908da1e9c</td>\n",
       "      <td>{'เมจิ'}</td>\n",
       "      <td>{'รสจืด', 'นม'}</td>\n",
       "      <td>พอนเดอริง...สูตรนวดมือ \\r\\n\\r\\nพอนเดอริงที่ทำใ...</td>\n",
       "      <td>[พอน, เด, อริ, ง..., สูตร, นวด, มือ, พอน, เด, ...</td>\n",
       "    </tr>\n",
       "    <tr>\n",
       "      <th>...</th>\n",
       "      <td>...</td>\n",
       "      <td>...</td>\n",
       "      <td>...</td>\n",
       "      <td>...</td>\n",
       "      <td>...</td>\n",
       "      <td>...</td>\n",
       "    </tr>\n",
       "    <tr>\n",
       "      <th>757</th>\n",
       "      <td>https://pantip.com/topic/31631417</td>\n",
       "      <td>5fb39fcee69b731908da20fb</td>\n",
       "      <td>{'เมจิ'}</td>\n",
       "      <td>{'เมจิโกลด์', 'ไขมันต่ำ', 'นม'}</td>\n",
       "      <td>สำหรับหนุ่มสาวมนุษย์กลางคืนที่เพิ่งมาเริ่มต้นว...</td>\n",
       "      <td>[สำหรับ, หนุ่มสาว, มนุษย์, กลางคืน, เริ่มต้น, ...</td>\n",
       "    </tr>\n",
       "    <tr>\n",
       "      <th>767</th>\n",
       "      <td>https://pantip.com/topic/31644438</td>\n",
       "      <td>5fb39fcee69b731908da2105</td>\n",
       "      <td>{'เมจิ'}</td>\n",
       "      <td>{'รสกล้วย', 'รสจืด'}</td>\n",
       "      <td>สำหรับดิฉันชอบมากๆคือ เมจิ \\r\\n\\r\\nส่วนรสที่ชอ...</td>\n",
       "      <td>[สำหรับ, ดิฉัน, ชอบ, เมจิ, รส, ชอบ, กิน, เรียง...</td>\n",
       "    </tr>\n",
       "    <tr>\n",
       "      <th>770</th>\n",
       "      <td>https://pantip.com/topic/31617146</td>\n",
       "      <td>5fb39fcee69b731908da2108</td>\n",
       "      <td>{'เมจิ'}</td>\n",
       "      <td>{'ไขมัน 0%', 'นม'}</td>\n",
       "      <td>ตามหัวข้อครับ\\r\\n\\r\\nปกติมื้อเช้าผมจะกินพวก ผั...</td>\n",
       "      <td>[หัวข้อ, ปกติ, มื้อ, เช้า, ผม, กิน, ผัด, เผ็ด,...</td>\n",
       "    </tr>\n",
       "    <tr>\n",
       "      <th>776</th>\n",
       "      <td>https://pantip.com/topic/31467586</td>\n",
       "      <td>5fb39fcee69b731908da210e</td>\n",
       "      <td>{'เมจิ'}</td>\n",
       "      <td>{'รสหวาน', 'นม'}</td>\n",
       "      <td>ปริมาณ 85 มล. ลงใน นมเมจิรสหวานขนาด 400 มล. เพ...</td>\n",
       "      <td>[ปริมาณ, มล., นม, เมจิ, รสหวาน, ขนาด, มล., หมั...</td>\n",
       "    </tr>\n",
       "    <tr>\n",
       "      <th>781</th>\n",
       "      <td>https://pantip.com/topic/31586113</td>\n",
       "      <td>5fb39fcee69b731908da2113</td>\n",
       "      <td>{'เมจิ'}</td>\n",
       "      <td>{'นม'}</td>\n",
       "      <td>วันนี้เข้าไปซื้อนมเมจิที่เซเว่น 2ขวดค่ะ ราคาขว...</td>\n",
       "      <td>[เข้าไป, ซื้อ, นม, เมจิ, เซเว่น, ขวด, ขวด, 12....</td>\n",
       "    </tr>\n",
       "    <tr>\n",
       "      <th>785</th>\n",
       "      <td>https://pantip.com/topic/31634648</td>\n",
       "      <td>5fb39fcee69b731908da2117</td>\n",
       "      <td>{'เมจิ'}</td>\n",
       "      <td>{'ช็อกโกแลต', 'สตรอว์เบอร์รี', 'เมล่อน'}</td>\n",
       "      <td>จะเดินทางไปญี่ปุ่นกับทัวร์วันที่ 18 กุมภานี้ ด...</td>\n",
       "      <td>[เดินทาง, ญี่ปุ่น, ทัวร์, วันที่, กุมภา, บิน, ...</td>\n",
       "    </tr>\n",
       "    <tr>\n",
       "      <th>786</th>\n",
       "      <td>https://pantip.com/topic/31516712</td>\n",
       "      <td>5fb39fcee69b731908da2118</td>\n",
       "      <td>{'เมจิ'}</td>\n",
       "      <td>{'ไขมัน 0%', 'รสจืด', 'นม'}</td>\n",
       "      <td>คุณแม่ผมเป็นโรคเบาหวานครับ ตอนนี้ผมพยายามจะควบ...</td>\n",
       "      <td>[คุณแม่, ผม, โรคเบาหวาน, ตอนนี้, ผม, ควบคุม, อ...</td>\n",
       "    </tr>\n",
       "    <tr>\n",
       "      <th>832</th>\n",
       "      <td>https://pantip.com/topic/31463099</td>\n",
       "      <td>5fb39fcee69b731908da2146</td>\n",
       "      <td>{'เมจิ'}</td>\n",
       "      <td>{'พาสเจอร์ไรส์'}</td>\n",
       "      <td>มีอ่างอาบน้ำขนาดกำลังดีที่สามารถลงไปแช่ให้ผิวช...</td>\n",
       "      <td>[อ่าง, อาบน้ำ, ขนาด, กำลังดี, แช่, ผิว, ชุ่มฉ่...</td>\n",
       "    </tr>\n",
       "    <tr>\n",
       "      <th>833</th>\n",
       "      <td>https://pantip.com/topic/31371418</td>\n",
       "      <td>5fb39fcee69b731908da2147</td>\n",
       "      <td>{'เมจิ'}</td>\n",
       "      <td>{'นม'}</td>\n",
       "      <td>หนูลดความอ้วนแบบผิดวิธีคะ เมื่อก่อนอายุ 15 ปี ...</td>\n",
       "      <td>[หนู, ลดความอ้วน, วิธี, อายุ, ปี, หนัก, กก., ซ...</td>\n",
       "    </tr>\n",
       "    <tr>\n",
       "      <th>835</th>\n",
       "      <td>https://pantip.com/topic/31330727</td>\n",
       "      <td>5fb39fcee69b731908da2149</td>\n",
       "      <td>{'เมจิ'}</td>\n",
       "      <td>{'นม'}</td>\n",
       "      <td>สืบเนื่องมาจากกระทู้ [CR]\"เครปเค้ก\" เค้กยอดฮิต...</td>\n",
       "      <td>[สืบ, เนื่องมาจาก, กระทู้, CR, ]\", เครป, เค้ก,...</td>\n",
       "    </tr>\n",
       "    <tr>\n",
       "      <th>841</th>\n",
       "      <td>https://pantip.com/topic/31270664</td>\n",
       "      <td>5fb39fcee69b731908da214f</td>\n",
       "      <td>{'เมจิ'}</td>\n",
       "      <td>{'นม'}</td>\n",
       "      <td>ทานข้าวเช้า ประมาณ 9.30-10.00 น. สิ่งที่ทาน จะ...</td>\n",
       "      <td>[ทานข้าว, เช้า, 9.30, 10.00, น., ทาน, ข้าว, ทั...</td>\n",
       "    </tr>\n",
       "    <tr>\n",
       "      <th>845</th>\n",
       "      <td>https://pantip.com/topic/31171572</td>\n",
       "      <td>5fb39fcee69b731908da2153</td>\n",
       "      <td>{'เมจิ'}</td>\n",
       "      <td>{'ไขมัน 0%', 'นม'}</td>\n",
       "      <td>เช้า โปรตีนแอมเวย์ \\r\\n      ขนมปังโฮลวีท 2 แผ...</td>\n",
       "      <td>[เช้า, โปรตีน, แอมเวย์, , ขนมปัง, โฮลวีท, แผ่น...</td>\n",
       "    </tr>\n",
       "    <tr>\n",
       "      <th>847</th>\n",
       "      <td>https://pantip.com/topic/31061329</td>\n",
       "      <td>5fb39fcee69b731908da2155</td>\n",
       "      <td>{'เมจิ'}</td>\n",
       "      <td>{'นม', 'พาสเจอร์ไรส์'}</td>\n",
       "      <td>ไม่นึกว่าในขวดนมพาสเจอร์ไรส์ใส ๆ จะมีเหตุการณ์...</td>\n",
       "      <td>[ไม่, นึก, ขวดนม, พาสเจอร์ไรส์, ใส, เหตุการณ์,...</td>\n",
       "    </tr>\n",
       "    <tr>\n",
       "      <th>848</th>\n",
       "      <td>https://pantip.com/topic/31147509</td>\n",
       "      <td>5fb39fcee69b731908da2156</td>\n",
       "      <td>{'เมจิ'}</td>\n",
       "      <td>{'นม'}</td>\n",
       "      <td>มันขึ้นตรงไหนหรอครับสายนี้ ขึ้นตรงท่ารถต่างจัง...</td>\n",
       "      <td>[ตรงไหน, หรอ, สาย, ท่ารถ, ต่างจังหวัด, ฟิวเจอร...</td>\n",
       "    </tr>\n",
       "    <tr>\n",
       "      <th>859</th>\n",
       "      <td>https://pantip.com/topic/31112200</td>\n",
       "      <td>5fb39fcee69b731908da2161</td>\n",
       "      <td>{'เมจิ'}</td>\n",
       "      <td>{'นม', 'เมล่อน'}</td>\n",
       "      <td>สวัสดีครับ เราเป็นคนชอบกินนมปรงแต่งกลิ่น โดยเฉ...</td>\n",
       "      <td>[สวัสดี, คน, ชอบ, กินนม, ปรง, แต่ง, กลิ่น, โดย...</td>\n",
       "    </tr>\n",
       "    <tr>\n",
       "      <th>863</th>\n",
       "      <td>https://pantip.com/topic/31032562</td>\n",
       "      <td>5fb39fcee69b731908da2165</td>\n",
       "      <td>{'เมจิ'}</td>\n",
       "      <td>{'นม'}</td>\n",
       "      <td>คือเราซื้อนมเมจิ รสจีดมา เปนขวดขนาด450มล แต่เร...</td>\n",
       "      <td>[ซื้อ, นม, เมจิ, รส, จี, เปน, ขวด, ขนาด, มล, แ...</td>\n",
       "    </tr>\n",
       "    <tr>\n",
       "      <th>868</th>\n",
       "      <td>https://pantip.com/topic/31088320</td>\n",
       "      <td>5fb39fcee69b731908da216a</td>\n",
       "      <td>{'เมจิ'}</td>\n",
       "      <td>{'ไขมัน 0%', 'ไขมันต่ำ', 'นม'}</td>\n",
       "      <td>ต่อเนื่องจากกระทู้  http://pantip.com/topic/31...</td>\n",
       "      <td>[กระทู้, , คน, ข้อความ, ถาม, ผม, ลด, ผม, ตั้งก...</td>\n",
       "    </tr>\n",
       "    <tr>\n",
       "      <th>883</th>\n",
       "      <td>https://pantip.com/topic/31041870</td>\n",
       "      <td>5fb39fcee69b731908da2179</td>\n",
       "      <td>{'เมจิ'}</td>\n",
       "      <td>{'นม'}</td>\n",
       "      <td>เราพาลูกมาบ่อยมากกก จนพนักงานจำหน้าได้ละ 555 เ...</td>\n",
       "      <td>[ลูก, พนักงาน, หน้า, ได้, น้อง, พนักงาน, คุ้นๆ...</td>\n",
       "    </tr>\n",
       "    <tr>\n",
       "      <th>893</th>\n",
       "      <td>https://pantip.com/topic/30980430</td>\n",
       "      <td>5fb39fcee69b731908da2183</td>\n",
       "      <td>{'เมจิ'}</td>\n",
       "      <td>{'นม', 'ไขมันต่ำ', 'เวย์โปรตีน'}</td>\n",
       "      <td>เกริ่น นิดนุง,,\\r\\n\\r\\nก่อนหน้านี้มีโอกาสให้ต้...</td>\n",
       "      <td>[เกริ่น, นุง, ,,, มีโอกาส, ต้องหา, สูตร, ลอง, ...</td>\n",
       "    </tr>\n",
       "    <tr>\n",
       "      <th>898</th>\n",
       "      <td>https://pantip.com/topic/30945813</td>\n",
       "      <td>5fb39fcee69b731908da2188</td>\n",
       "      <td>{'เมจิ'}</td>\n",
       "      <td>{'รสจืด'}</td>\n",
       "      <td>ทำงานโรงแรมค่ะ ตอนนี้อยู่ในโหมดลดน้ำหนัก แต่ปั...</td>\n",
       "      <td>[ทำงาน, โรงแรม, ตอนนี้, โหมด, ลดน้ำหนัก, ปัญหา...</td>\n",
       "    </tr>\n",
       "    <tr>\n",
       "      <th>916</th>\n",
       "      <td>https://pantip.com/topic/30933186</td>\n",
       "      <td>5fb39fcee69b731908da219a</td>\n",
       "      <td>{'เมจิ'}</td>\n",
       "      <td>{'กล้วยหอม', 'เวย์', 'นม'}</td>\n",
       "      <td>คนเรามักไม่มีความพอดีในตัวเอง บ้างอ้วนไปบ้างผอ...</td>\n",
       "      <td>[คนเรา, ไม่, ความพอดี, ตัวเอง, อ้วน, ผอม, คน, ...</td>\n",
       "    </tr>\n",
       "    <tr>\n",
       "      <th>929</th>\n",
       "      <td>https://pantip.com/topic/30765106</td>\n",
       "      <td>5fb39fcee69b731908da21a7</td>\n",
       "      <td>{'เมจิ'}</td>\n",
       "      <td>{'นม'}</td>\n",
       "      <td>คือช่วงนี้ ได้ ซื้อ นมเมจิ แบบ 0% Fat  ส่วนมาก...</td>\n",
       "      <td>[ได้, ซื้อ, นม, เมจิ, Fat, , กิน, นอน, ตื่น, เ...</td>\n",
       "    </tr>\n",
       "    <tr>\n",
       "      <th>933</th>\n",
       "      <td>https://pantip.com/topic/30794433</td>\n",
       "      <td>5fb39fcee69b731908da21ab</td>\n",
       "      <td>{'เมจิ'}</td>\n",
       "      <td>{'นม'}</td>\n",
       "      <td>พรีเซนเตอร์โฆษณา : \\r\\nเอไอเอส (14ล้าน) ,โตโยต...</td>\n",
       "      <td>[พรีเซนเตอร์, โฆษณา, เอไอเอส, ล้าน, โตโยต้า, ล...</td>\n",
       "    </tr>\n",
       "    <tr>\n",
       "      <th>941</th>\n",
       "      <td>https://pantip.com/topic/30660889</td>\n",
       "      <td>5fb39fcee69b731908da21b3</td>\n",
       "      <td>{'เมจิ'}</td>\n",
       "      <td>{'นม'}</td>\n",
       "      <td>ใครมีประสบการณ์ร้านนม นขมปังนึ่ง สังขยา บ้างช่...</td>\n",
       "      <td>[มีประสบการณ์, ร้านนม, นข, ปัง, นึ่ง, สังขยา, ...</td>\n",
       "    </tr>\n",
       "    <tr>\n",
       "      <th>949</th>\n",
       "      <td>https://pantip.com/topic/30794224</td>\n",
       "      <td>5fb39fcee69b731908da21bb</td>\n",
       "      <td>{'เมจิ'}</td>\n",
       "      <td>{'นม'}</td>\n",
       "      <td>$(document).ready(function () {\\r\\n\\t\\t\\t\\t\\t\\...</td>\n",
       "      <td>[$(, document, )., ready, function, (), , $., ...</td>\n",
       "    </tr>\n",
       "    <tr>\n",
       "      <th>957</th>\n",
       "      <td>https://pantip.com/topic/30712132</td>\n",
       "      <td>5fb39fcee69b731908da21c3</td>\n",
       "      <td>{'เมจิ'}</td>\n",
       "      <td>{'รสจืด', 'นม'}</td>\n",
       "      <td>พอดีว่าเมื่อวานน้าของเด็กๆเค้าเอานมเมจิรสจืดแบ...</td>\n",
       "      <td>[น้า, เด็ก, เค้า, นม, เมจิ, รสจืด, แกลลอน, หมด...</td>\n",
       "    </tr>\n",
       "    <tr>\n",
       "      <th>958</th>\n",
       "      <td>https://pantip.com/topic/30712144</td>\n",
       "      <td>5fb39fcee69b731908da21c4</td>\n",
       "      <td>{'เมจิ'}</td>\n",
       "      <td>{'รสจืด', 'นม'}</td>\n",
       "      <td>พอดีว่าเมื่อวานน้าของเด็กๆเค้าเอานมเมจิรสจืดแบ...</td>\n",
       "      <td>[น้า, เด็ก, เค้า, นม, เมจิ, รสจืด, แกลลอน, หมด...</td>\n",
       "    </tr>\n",
       "    <tr>\n",
       "      <th>974</th>\n",
       "      <td>https://pantip.com/topic/30522454</td>\n",
       "      <td>5fb39fcee69b731908da21d4</td>\n",
       "      <td>{'เมจิ'}</td>\n",
       "      <td>{'นม'}</td>\n",
       "      <td>เมื่อคืนเพิ่งได้ลอง เมจิกลิ่นแตงโม ขวดละ 12.25...</td>\n",
       "      <td>[ได้, ลอง, เมจิ, กลิ่น, แตงโม, ขวด, 12.25, สิน...</td>\n",
       "    </tr>\n",
       "    <tr>\n",
       "      <th>1166</th>\n",
       "      <td>https://pantip.com/topic/30940495</td>\n",
       "      <td>5fb39fcee69b731908da2294</td>\n",
       "      <td>{'เมจิ'}</td>\n",
       "      <td>{'นม'}</td>\n",
       "      <td>ถึงใครจะว่าไม่อร่อย ซื้อมาปาทิ้ง รสชาติเหมือนน...</td>\n",
       "      <td>[ไม่, อร่อย, ซื้อ, ปา, ทิ้ง, รสชาติ, เหมือน, น...</td>\n",
       "    </tr>\n",
       "    <tr>\n",
       "      <th>1249</th>\n",
       "      <td>https://pantip.com/topic/31871127</td>\n",
       "      <td>5fb39fcee69b731908da22e7</td>\n",
       "      <td>{'เมจิ'}</td>\n",
       "      <td>{'รสจืด'}</td>\n",
       "      <td>$(document).ready(function () {\\n\\t\\t\\t\\t\\t\\t\\...</td>\n",
       "      <td>[$(, document, )., ready, function, (), , $., ...</td>\n",
       "    </tr>\n",
       "  </tbody>\n",
       "</table>\n",
       "<p>184 rows × 6 columns</p>\n",
       "</div>"
      ],
      "text/plain": [
       "                                   URLs                       _id  \\\n",
       "0     https://pantip.com/topic/39868603  5fb39fcee69b731908da1e06   \n",
       "1     https://pantip.com/topic/39597709  5fb39fcee69b731908da1e07   \n",
       "2     https://pantip.com/topic/39747201  5fb39fcee69b731908da1e08   \n",
       "3     https://pantip.com/topic/39732615  5fb39fcee69b731908da1e09   \n",
       "5     https://pantip.com/topic/39928742  5fb39fcee69b731908da1e0b   \n",
       "10    https://pantip.com/topic/39975832  5fb39fcee69b731908da1e10   \n",
       "11    https://pantip.com/topic/39905450  5fb39fcee69b731908da1e11   \n",
       "12    https://pantip.com/topic/39874488  5fb39fcee69b731908da1e12   \n",
       "17    https://pantip.com/topic/39099897  5fb39fcee69b731908da1e17   \n",
       "18    https://pantip.com/topic/38412845  5fb39fcee69b731908da1e18   \n",
       "22    https://pantip.com/topic/39689189  5fb39fcee69b731908da1e1c   \n",
       "23    https://pantip.com/topic/39196885  5fb39fcee69b731908da1e1d   \n",
       "25    https://pantip.com/topic/39183141  5fb39fcee69b731908da1e1f   \n",
       "29    https://pantip.com/topic/38573978  5fb39fcee69b731908da1e23   \n",
       "30    https://pantip.com/topic/39400735  5fb39fcee69b731908da1e24   \n",
       "34    https://pantip.com/topic/38967410  5fb39fcee69b731908da1e28   \n",
       "36    https://pantip.com/topic/38942098  5fb39fcee69b731908da1e2a   \n",
       "49    https://pantip.com/topic/40076173  5fb39fcee69b731908da1e37   \n",
       "52    https://pantip.com/topic/38812798  5fb39fcee69b731908da1e3a   \n",
       "57    https://pantip.com/topic/38630508  5fb39fcee69b731908da1e3f   \n",
       "85    https://pantip.com/topic/38284481  5fb39fcee69b731908da1e5b   \n",
       "91    https://pantip.com/topic/38034607  5fb39fcee69b731908da1e61   \n",
       "92    https://pantip.com/topic/38151004  5fb39fcee69b731908da1e62   \n",
       "100   https://pantip.com/topic/37482301  5fb39fcee69b731908da1e6a   \n",
       "101   https://pantip.com/topic/37736196  5fb39fcee69b731908da1e6b   \n",
       "104   https://pantip.com/topic/38441251  5fb39fcee69b731908da1e6e   \n",
       "108   https://pantip.com/topic/37647687  5fb39fcee69b731908da1e72   \n",
       "117   https://pantip.com/topic/37500460  5fb39fcee69b731908da1e7b   \n",
       "131   https://pantip.com/topic/37690299  5fb39fcee69b731908da1e89   \n",
       "150   https://pantip.com/topic/37264094  5fb39fcee69b731908da1e9c   \n",
       "...                                 ...                       ...   \n",
       "757   https://pantip.com/topic/31631417  5fb39fcee69b731908da20fb   \n",
       "767   https://pantip.com/topic/31644438  5fb39fcee69b731908da2105   \n",
       "770   https://pantip.com/topic/31617146  5fb39fcee69b731908da2108   \n",
       "776   https://pantip.com/topic/31467586  5fb39fcee69b731908da210e   \n",
       "781   https://pantip.com/topic/31586113  5fb39fcee69b731908da2113   \n",
       "785   https://pantip.com/topic/31634648  5fb39fcee69b731908da2117   \n",
       "786   https://pantip.com/topic/31516712  5fb39fcee69b731908da2118   \n",
       "832   https://pantip.com/topic/31463099  5fb39fcee69b731908da2146   \n",
       "833   https://pantip.com/topic/31371418  5fb39fcee69b731908da2147   \n",
       "835   https://pantip.com/topic/31330727  5fb39fcee69b731908da2149   \n",
       "841   https://pantip.com/topic/31270664  5fb39fcee69b731908da214f   \n",
       "845   https://pantip.com/topic/31171572  5fb39fcee69b731908da2153   \n",
       "847   https://pantip.com/topic/31061329  5fb39fcee69b731908da2155   \n",
       "848   https://pantip.com/topic/31147509  5fb39fcee69b731908da2156   \n",
       "859   https://pantip.com/topic/31112200  5fb39fcee69b731908da2161   \n",
       "863   https://pantip.com/topic/31032562  5fb39fcee69b731908da2165   \n",
       "868   https://pantip.com/topic/31088320  5fb39fcee69b731908da216a   \n",
       "883   https://pantip.com/topic/31041870  5fb39fcee69b731908da2179   \n",
       "893   https://pantip.com/topic/30980430  5fb39fcee69b731908da2183   \n",
       "898   https://pantip.com/topic/30945813  5fb39fcee69b731908da2188   \n",
       "916   https://pantip.com/topic/30933186  5fb39fcee69b731908da219a   \n",
       "929   https://pantip.com/topic/30765106  5fb39fcee69b731908da21a7   \n",
       "933   https://pantip.com/topic/30794433  5fb39fcee69b731908da21ab   \n",
       "941   https://pantip.com/topic/30660889  5fb39fcee69b731908da21b3   \n",
       "949   https://pantip.com/topic/30794224  5fb39fcee69b731908da21bb   \n",
       "957   https://pantip.com/topic/30712132  5fb39fcee69b731908da21c3   \n",
       "958   https://pantip.com/topic/30712144  5fb39fcee69b731908da21c4   \n",
       "974   https://pantip.com/topic/30522454  5fb39fcee69b731908da21d4   \n",
       "1166  https://pantip.com/topic/30940495  5fb39fcee69b731908da2294   \n",
       "1249  https://pantip.com/topic/31871127  5fb39fcee69b731908da22e7   \n",
       "\n",
       "     mention_brand                           mention_product  \\\n",
       "0         {'เมจิ'}                          {'รสหวาน', 'นม'}   \n",
       "1         {'เมจิ'}                                    {'นม'}   \n",
       "2         {'เมจิ'}                                    {'นม'}   \n",
       "3         {'เมจิ'}                                    {'นม'}   \n",
       "5         {'เมจิ'}                        {'ไขมัน 0%', 'นม'}   \n",
       "10        {'เมจิ'}                                    {'นม'}   \n",
       "11        {'เมจิ'}                                    {'นม'}   \n",
       "12        {'เมจิ'}                                    {'นม'}   \n",
       "17        {'เมจิ'}                    {'พาสเจอร์ไรส์', 'นม'}   \n",
       "18        {'เมจิ'}                      {'เวย์โปรตีน', 'นม'}   \n",
       "22        {'เมจิ'}                                    {'นม'}   \n",
       "23        {'เมจิ'}                                    {'นม'}   \n",
       "25        {'เมจิ'}                                    {'นม'}   \n",
       "29        {'เมจิ'}                        {'ไขมัน 0%', 'นม'}   \n",
       "30        {'เมจิ'}                                    {'นม'}   \n",
       "34        {'เมจิ'}                            {'เวย์', 'นม'}   \n",
       "36        {'เมจิ'}                            {'เวย์', 'นม'}   \n",
       "49        {'เมจิ'}                                    {'นม'}   \n",
       "52        {'เมจิ'}            {'กล้วยหอม', 'ไขมันต่ำ', 'นม'}   \n",
       "57        {'เมจิ'}               {'เวย์', 'ช็อกโกแลต', 'นม'}   \n",
       "85        {'เมจิ'}                                    {'นม'}   \n",
       "91        {'เมจิ'}                                    {'นม'}   \n",
       "92        {'เมจิ'}                         {'คาราเมล', 'นม'}   \n",
       "100       {'เมจิ'}          {'รสหวาน', 'พาสเจอร์ไรส์', 'นม'}   \n",
       "101       {'เมจิ'}                                    {'นม'}   \n",
       "104       {'เมจิ'}                                    {'นม'}   \n",
       "108       {'เมจิ'}                                    {'นม'}   \n",
       "117       {'เมจิ'}                                    {'นม'}   \n",
       "131       {'เมจิ'}                                    {'นม'}   \n",
       "150       {'เมจิ'}                           {'รสจืด', 'นม'}   \n",
       "...            ...                                       ...   \n",
       "757       {'เมจิ'}           {'เมจิโกลด์', 'ไขมันต่ำ', 'นม'}   \n",
       "767       {'เมจิ'}                      {'รสกล้วย', 'รสจืด'}   \n",
       "770       {'เมจิ'}                        {'ไขมัน 0%', 'นม'}   \n",
       "776       {'เมจิ'}                          {'รสหวาน', 'นม'}   \n",
       "781       {'เมจิ'}                                    {'นม'}   \n",
       "785       {'เมจิ'}  {'ช็อกโกแลต', 'สตรอว์เบอร์รี', 'เมล่อน'}   \n",
       "786       {'เมจิ'}               {'ไขมัน 0%', 'รสจืด', 'นม'}   \n",
       "832       {'เมจิ'}                          {'พาสเจอร์ไรส์'}   \n",
       "833       {'เมจิ'}                                    {'นม'}   \n",
       "835       {'เมจิ'}                                    {'นม'}   \n",
       "841       {'เมจิ'}                                    {'นม'}   \n",
       "845       {'เมจิ'}                        {'ไขมัน 0%', 'นม'}   \n",
       "847       {'เมจิ'}                    {'นม', 'พาสเจอร์ไรส์'}   \n",
       "848       {'เมจิ'}                                    {'นม'}   \n",
       "859       {'เมจิ'}                          {'นม', 'เมล่อน'}   \n",
       "863       {'เมจิ'}                                    {'นม'}   \n",
       "868       {'เมจิ'}            {'ไขมัน 0%', 'ไขมันต่ำ', 'นม'}   \n",
       "883       {'เมจิ'}                                    {'นม'}   \n",
       "893       {'เมจิ'}          {'นม', 'ไขมันต่ำ', 'เวย์โปรตีน'}   \n",
       "898       {'เมจิ'}                                 {'รสจืด'}   \n",
       "916       {'เมจิ'}                {'กล้วยหอม', 'เวย์', 'นม'}   \n",
       "929       {'เมจิ'}                                    {'นม'}   \n",
       "933       {'เมจิ'}                                    {'นม'}   \n",
       "941       {'เมจิ'}                                    {'นม'}   \n",
       "949       {'เมจิ'}                                    {'นม'}   \n",
       "957       {'เมจิ'}                           {'รสจืด', 'นม'}   \n",
       "958       {'เมจิ'}                           {'รสจืด', 'นม'}   \n",
       "974       {'เมจิ'}                                    {'นม'}   \n",
       "1166      {'เมจิ'}                                    {'นม'}   \n",
       "1249      {'เมจิ'}                                 {'รสจืด'}   \n",
       "\n",
       "                                                   text  \\\n",
       "0     เมื่อก่อนหลายปีมาแล้ว ในเซเว่นยังมีนมเมจิรสหวา...   \n",
       "1     ตามหัวข้อเลยค่ะ อยากรู้ว่านมเมจิที่ต้มก่อนนำไป...   \n",
       "2     วันก่อนซื้อ นมเมจิขวด 2 ลิตร มากิน สังเกตฝามัน...   \n",
       "3     อยากรู้ว่าMakroมีนมยี่ห้อ meiji(เมจิ) ขายมั้ยครับ   \n",
       "5     สวัสดี เราคือมนุษย์ออฟฟิศ อายุ 25 ปี ที่เสพติด...   \n",
       "10    🥺 คือผมอายุ17ย่าง18 สูง168หนัก61 ผมไม่สูงขึ้นเ...   \n",
       "11    ขอคำแนะนำหน่อยครับ \\r\\nทำสปาเกตตี้คาโบนาราครั้...   \n",
       "12    พอดีว่าช่วงนี้ WFH เลยอยากจะลองชง มอคค่า เองบ้...   \n",
       "17    พอดีวันนี้ไปซื้อนมเมจิ พาสเจอไรซ์ จำนวน 7 ขวดท...   \n",
       "18    เข้าเซเว่นเห็นนม เวย์โปรตีน เมจิ ขวด49บาทโปรตี...   \n",
       "22    บริษัท ซีพี-เมจิ จำกัด ร่วมกับ โรงพยาบาลมหาวชิ...   \n",
       "23    น้อง 1 ขวบ 1 เดือนค่ะ หมอบอกให้เปลี่ยนมาเป็นนม...   \n",
       "25    สิ่งที่ขายในร้านนมนะคะ\\r\\n1.นมเปรี้ยวบีทาเก้นม...   \n",
       "29    คือกินทุกคืนครับ เอานมเมจิไขมัน 0% ไปใส่ไมโครเ...   \n",
       "30    แฟนคลับ 'เพิร์ธ บังเอิญรัก , TEMPT' เซอร์ไพร้ส...   \n",
       "34    คือผมเข้าฟิตเนสได้ เกือบ 2 อาทิตย์แล้ว ก่อนเข้...   \n",
       "36    พอดีได้ยินมาว่าถ้าเราจะลดน้ำหนักเราต้องกินอาหา...   \n",
       "49    13 09 60 \\r\\nเมื่อคืนเป็นคืนที่นอนหลับได้ห้าชั...   \n",
       "52    เพื่อนๆ หน้าร้อนนี้ รู้สึกอยากกินอะไรเย็นๆไหม ...   \n",
       "57    สวัสดีทุกท่านครับ\\r\\nเมื่อวาน (6 มี.ค.) จู่ๆก็...   \n",
       "85    สวัสดีค่ะเพื่อนๆชาว Pantip ชื่อปุ้ยนะคะ มีลูก ...   \n",
       "91    ตามนั้นค่ะ ไปหามาหลายวัน หลายสาขาแล้ว ..แล้วมั...   \n",
       "92    สูตรนี้ลองทำดูค่ะ ไม่ยากเลย ส่วนผสมใช้เท่าที่ม...   \n",
       "100   รสชาติดีสุดๆ\\r\\n\\r\\n\\r\\nใครติดใจในรสชาติของนมพ...   \n",
       "101   ใช้เคื่องตีฟองแบบก้าน ของ JRL สีดำแบบเสียบปลั๊...   \n",
       "104   สวัสดีค่ะ แนะนำตัวเลยนะ เราชื่อปัท ตอนนี้อายุ ...   \n",
       "108   คือเราซื้อนมเมจิstartมาละเรากินไปนิดนึง เก็บไว...   \n",
       "117   อยากสอบถามท่านที่เคยทานนมเมจิโกล์ดแม็กซ์ค่ะว่า...   \n",
       "131   ที่สงสัยเพราะแม่อะ รู้จักเพื่อนเรา พี่ พ่อ เพื...   \n",
       "150   พอนเดอริง...สูตรนวดมือ \\r\\n\\r\\nพอนเดอริงที่ทำใ...   \n",
       "...                                                 ...   \n",
       "757   สำหรับหนุ่มสาวมนุษย์กลางคืนที่เพิ่งมาเริ่มต้นว...   \n",
       "767   สำหรับดิฉันชอบมากๆคือ เมจิ \\r\\n\\r\\nส่วนรสที่ชอ...   \n",
       "770   ตามหัวข้อครับ\\r\\n\\r\\nปกติมื้อเช้าผมจะกินพวก ผั...   \n",
       "776   ปริมาณ 85 มล. ลงใน นมเมจิรสหวานขนาด 400 มล. เพ...   \n",
       "781   วันนี้เข้าไปซื้อนมเมจิที่เซเว่น 2ขวดค่ะ ราคาขว...   \n",
       "785   จะเดินทางไปญี่ปุ่นกับทัวร์วันที่ 18 กุมภานี้ ด...   \n",
       "786   คุณแม่ผมเป็นโรคเบาหวานครับ ตอนนี้ผมพยายามจะควบ...   \n",
       "832   มีอ่างอาบน้ำขนาดกำลังดีที่สามารถลงไปแช่ให้ผิวช...   \n",
       "833   หนูลดความอ้วนแบบผิดวิธีคะ เมื่อก่อนอายุ 15 ปี ...   \n",
       "835   สืบเนื่องมาจากกระทู้ [CR]\"เครปเค้ก\" เค้กยอดฮิต...   \n",
       "841   ทานข้าวเช้า ประมาณ 9.30-10.00 น. สิ่งที่ทาน จะ...   \n",
       "845   เช้า โปรตีนแอมเวย์ \\r\\n      ขนมปังโฮลวีท 2 แผ...   \n",
       "847   ไม่นึกว่าในขวดนมพาสเจอร์ไรส์ใส ๆ จะมีเหตุการณ์...   \n",
       "848   มันขึ้นตรงไหนหรอครับสายนี้ ขึ้นตรงท่ารถต่างจัง...   \n",
       "859   สวัสดีครับ เราเป็นคนชอบกินนมปรงแต่งกลิ่น โดยเฉ...   \n",
       "863   คือเราซื้อนมเมจิ รสจีดมา เปนขวดขนาด450มล แต่เร...   \n",
       "868   ต่อเนื่องจากกระทู้  http://pantip.com/topic/31...   \n",
       "883   เราพาลูกมาบ่อยมากกก จนพนักงานจำหน้าได้ละ 555 เ...   \n",
       "893   เกริ่น นิดนุง,,\\r\\n\\r\\nก่อนหน้านี้มีโอกาสให้ต้...   \n",
       "898   ทำงานโรงแรมค่ะ ตอนนี้อยู่ในโหมดลดน้ำหนัก แต่ปั...   \n",
       "916   คนเรามักไม่มีความพอดีในตัวเอง บ้างอ้วนไปบ้างผอ...   \n",
       "929   คือช่วงนี้ ได้ ซื้อ นมเมจิ แบบ 0% Fat  ส่วนมาก...   \n",
       "933   พรีเซนเตอร์โฆษณา : \\r\\nเอไอเอส (14ล้าน) ,โตโยต...   \n",
       "941   ใครมีประสบการณ์ร้านนม นขมปังนึ่ง สังขยา บ้างช่...   \n",
       "949   $(document).ready(function () {\\r\\n\\t\\t\\t\\t\\t\\...   \n",
       "957   พอดีว่าเมื่อวานน้าของเด็กๆเค้าเอานมเมจิรสจืดแบ...   \n",
       "958   พอดีว่าเมื่อวานน้าของเด็กๆเค้าเอานมเมจิรสจืดแบ...   \n",
       "974   เมื่อคืนเพิ่งได้ลอง เมจิกลิ่นแตงโม ขวดละ 12.25...   \n",
       "1166  ถึงใครจะว่าไม่อร่อย ซื้อมาปาทิ้ง รสชาติเหมือนน...   \n",
       "1249  $(document).ready(function () {\\n\\t\\t\\t\\t\\t\\t\\...   \n",
       "\n",
       "                                             token_text  \n",
       "0     [ปี, เซเว่น, ยังมี, นม, เมจิ, รสหวาน, ขาย, อยู...  \n",
       "1     [หัวข้อ, อยากรู้, นม, เมจิ, ต้ม, ส่วนผสม, เครื...  \n",
       "2     [วันก่อน, ซื้อ, นม, เมจิ, ขวด, ลิตร, กิน, สังเ...  \n",
       "3         [อยากรู้, Makro, นม, ยี่ห้อ, เมจิ, เมจิ, ขาย]  \n",
       "5     [สวัสดี, มนุษย์, ออฟฟิศ, อายุ, ปี, เสพติด, กิน...  \n",
       "10    [ผม, อายุ, ย่าง, หนัก, ผม, ไม่, อายุ, เพื่อน, ...  \n",
       "11    [คำแนะนำ, ทำ, สปา, เก, ตตี้, คา, โบ, นารา, ครั...  \n",
       "12    [WFH, ลอง, ชง, มอคค่า, ลอง, ทำ, เวิค, รสชาติ, ...  \n",
       "17    [ซื้อ, นม, เมจิ, พาสเจอร์ไรส์, จำนวน, ขวด, ปกต...  \n",
       "18    [เซเว่น, นม, เวย์โปรตีน, เมจิ, ขวด, โปรตีน, แค...  \n",
       "22    [บริษัท, เมจิ, จำกัด, ร่วมกับ, โรงพยาบาล, มหา,...  \n",
       "23    [น้อง, ขวบ, เดือน, หมอ, นม, UHT, ได้, ปกติ, น้...  \n",
       "25    [ขาย, ร้านนม, 1., นมเปรี้ยว, บี, ทา, เก้, ขนาด...  \n",
       "29    [กิน, ทุกคืน, นม, เมจิ, ไขมัน 0%, ใส่, ไมโครเว...  \n",
       "30    [แฟนคลับ, ', เพิร์ธ, บังเอิญ, รัก, ,, TEMPT, '...  \n",
       "34    [ผม, ฟิตเนส, ได้, อาทิตย์, น้ำหนัก, ผม, ผม, เข...  \n",
       "36    [ได้ยิน, ลดน้ำหนัก, กิน, อาหาร, กิน, โปรตีน, ไ...  \n",
       "49    [คืน, นอนหลับ, ได้, ห้า, ชั่วโมง, หลับ, ลึก, ล...  \n",
       "52    [เพื่อน, หน้าร้อน, รู้สึก, กิน, เย็น, ไหม, กิน...  \n",
       "57    [สวัสดี, ทุกท่าน, .ค.), โฆษณา, facebook, เปิดต...  \n",
       "85    [สวัสดี, เพื่อน, Pantip, ชื่อ, ปุ้ย, มีลูก, คน...  \n",
       "91    [ตามนั้น, ไปหา, .., ช่าง, เหมาะเจาะ, cp, เมจิ,...  \n",
       "92    [สูตร, ลอง, ทำ, ดู, ไม่, ส่วนผสม, ตู้เย็น, กลิ...  \n",
       "100   [รสชาติ, ดี, ติดใจ, รสชาติ, นม, พาสเจอร์ไรส์, ...  \n",
       "101   [เคื่อง, ตี, ฟอง, ก้าน, JRL, สี, ดำ, เสียบ, ปล...  \n",
       "104   [สวัสดี, แนะนำตัว, ชื่อ, ปัท, ตอนนี้, อายุ, ปี...  \n",
       "108   [ซื้อ, นม, เมจิ, start, กิน, นิดนึง, ตู้เย็น, ...  \n",
       "117   [สอบถาม, ท่าน, ทาน, นม, เมจิ, โก, ล์ด, แม็กซ์,...  \n",
       "131   [สงสัย, แม่, อะ, รู้จัก, เพื่อน, พี่, พ่อ, เพื...  \n",
       "150   [พอน, เด, อริ, ง..., สูตร, นวด, มือ, พอน, เด, ...  \n",
       "...                                                 ...  \n",
       "757   [สำหรับ, หนุ่มสาว, มนุษย์, กลางคืน, เริ่มต้น, ...  \n",
       "767   [สำหรับ, ดิฉัน, ชอบ, เมจิ, รส, ชอบ, กิน, เรียง...  \n",
       "770   [หัวข้อ, ปกติ, มื้อ, เช้า, ผม, กิน, ผัด, เผ็ด,...  \n",
       "776   [ปริมาณ, มล., นม, เมจิ, รสหวาน, ขนาด, มล., หมั...  \n",
       "781   [เข้าไป, ซื้อ, นม, เมจิ, เซเว่น, ขวด, ขวด, 12....  \n",
       "785   [เดินทาง, ญี่ปุ่น, ทัวร์, วันที่, กุมภา, บิน, ...  \n",
       "786   [คุณแม่, ผม, โรคเบาหวาน, ตอนนี้, ผม, ควบคุม, อ...  \n",
       "832   [อ่าง, อาบน้ำ, ขนาด, กำลังดี, แช่, ผิว, ชุ่มฉ่...  \n",
       "833   [หนู, ลดความอ้วน, วิธี, อายุ, ปี, หนัก, กก., ซ...  \n",
       "835   [สืบ, เนื่องมาจาก, กระทู้, CR, ]\", เครป, เค้ก,...  \n",
       "841   [ทานข้าว, เช้า, 9.30, 10.00, น., ทาน, ข้าว, ทั...  \n",
       "845   [เช้า, โปรตีน, แอมเวย์, , ขนมปัง, โฮลวีท, แผ่น...  \n",
       "847   [ไม่, นึก, ขวดนม, พาสเจอร์ไรส์, ใส, เหตุการณ์,...  \n",
       "848   [ตรงไหน, หรอ, สาย, ท่ารถ, ต่างจังหวัด, ฟิวเจอร...  \n",
       "859   [สวัสดี, คน, ชอบ, กินนม, ปรง, แต่ง, กลิ่น, โดย...  \n",
       "863   [ซื้อ, นม, เมจิ, รส, จี, เปน, ขวด, ขนาด, มล, แ...  \n",
       "868   [กระทู้, , คน, ข้อความ, ถาม, ผม, ลด, ผม, ตั้งก...  \n",
       "883   [ลูก, พนักงาน, หน้า, ได้, น้อง, พนักงาน, คุ้นๆ...  \n",
       "893   [เกริ่น, นุง, ,,, มีโอกาส, ต้องหา, สูตร, ลอง, ...  \n",
       "898   [ทำงาน, โรงแรม, ตอนนี้, โหมด, ลดน้ำหนัก, ปัญหา...  \n",
       "916   [คนเรา, ไม่, ความพอดี, ตัวเอง, อ้วน, ผอม, คน, ...  \n",
       "929   [ได้, ซื้อ, นม, เมจิ, Fat, , กิน, นอน, ตื่น, เ...  \n",
       "933   [พรีเซนเตอร์, โฆษณา, เอไอเอส, ล้าน, โตโยต้า, ล...  \n",
       "941   [มีประสบการณ์, ร้านนม, นข, ปัง, นึ่ง, สังขยา, ...  \n",
       "949   [$(, document, )., ready, function, (), , $., ...  \n",
       "957   [น้า, เด็ก, เค้า, นม, เมจิ, รสจืด, แกลลอน, หมด...  \n",
       "958   [น้า, เด็ก, เค้า, นม, เมจิ, รสจืด, แกลลอน, หมด...  \n",
       "974   [ได้, ลอง, เมจิ, กลิ่น, แตงโม, ขวด, 12.25, สิน...  \n",
       "1166  [ไม่, อร่อย, ซื้อ, ปา, ทิ้ง, รสชาติ, เหมือน, น...  \n",
       "1249  [$(, document, )., ready, function, (), , $., ...  \n",
       "\n",
       "[184 rows x 6 columns]"
      ]
     },
     "execution_count": 62,
     "metadata": {},
     "output_type": "execute_result"
    }
   ],
   "source": [
    "df_urls_milk[df_urls_milk['mention_brand']==\"{'เมจิ'}\"]"
   ]
  },
  {
   "cell_type": "code",
   "execution_count": 56,
   "metadata": {},
   "outputs": [],
   "source": [
    "#df_urls_milk.to_excel(\"Docs/วิเคราะห์ข้อมูล/domain.xlsx\",index=False)"
   ]
  },
  {
   "cell_type": "markdown",
   "metadata": {},
   "source": [
    "### ทำ Topic Modeling และคัดเลือกกระทู้ที่มีความเกี่ยวข้อง แล้วดึงคำไปใช้"
   ]
  },
  {
   "cell_type": "code",
   "execution_count": 20,
   "metadata": {},
   "outputs": [],
   "source": [
    "cursor_comment = col_comment.find()\n",
    "df_cmt_process = pd.DataFrame(cursor_comment)"
   ]
  },
  {
   "cell_type": "code",
   "execution_count": 21,
   "metadata": {},
   "outputs": [],
   "source": [
    "df_join_url = pd.merge(df_cmt_process,df_urls_milk,how='inner',on='URLs')\n",
    "df_join_url = df_join_url[['Retrived_date','URLs','commentId','mention_brand', 'mention_product','token_text_x']]\n",
    "df_join_url.columns = ['Retrived_date','URLs','commentId','mention_brand', 'mention_product','token_text']"
   ]
  },
  {
   "cell_type": "code",
   "execution_count": 22,
   "metadata": {},
   "outputs": [
    {
     "data": {
      "text/plain": [
       "(60545, 7)"
      ]
     },
     "execution_count": 22,
     "metadata": {},
     "output_type": "execute_result"
    }
   ],
   "source": [
    "df_cmt_process.shape"
   ]
  },
  {
   "cell_type": "code",
   "execution_count": 23,
   "metadata": {},
   "outputs": [
    {
     "data": {
      "text/html": [
       "<div>\n",
       "<style scoped>\n",
       "    .dataframe tbody tr th:only-of-type {\n",
       "        vertical-align: middle;\n",
       "    }\n",
       "\n",
       "    .dataframe tbody tr th {\n",
       "        vertical-align: top;\n",
       "    }\n",
       "\n",
       "    .dataframe thead th {\n",
       "        text-align: right;\n",
       "    }\n",
       "</style>\n",
       "<table border=\"1\" class=\"dataframe\">\n",
       "  <thead>\n",
       "    <tr style=\"text-align: right;\">\n",
       "      <th></th>\n",
       "      <th>Retrived_date</th>\n",
       "      <th>URLs</th>\n",
       "      <th>commentId</th>\n",
       "      <th>mention_brand</th>\n",
       "      <th>mention_product</th>\n",
       "      <th>token_text</th>\n",
       "    </tr>\n",
       "  </thead>\n",
       "  <tbody>\n",
       "    <tr>\n",
       "      <th>7351</th>\n",
       "      <td>2020-10-27 13:51:00.344890</td>\n",
       "      <td>https://pantip.com/topic/30153058</td>\n",
       "      <td>65703</td>\n",
       "      <td>[โฟร์โมสต์]</td>\n",
       "      <td>[นม, รสจืด]</td>\n",
       "      <td>[ปกติ, ขับ, ออกจาก, แยก, ไม่ได้, เลี้ยว, ไม่, ...</td>\n",
       "    </tr>\n",
       "    <tr>\n",
       "      <th>7352</th>\n",
       "      <td>2020-10-27 13:51:00.344890</td>\n",
       "      <td>https://pantip.com/topic/30153058</td>\n",
       "      <td>65704</td>\n",
       "      <td>[โฟร์โมสต์]</td>\n",
       "      <td>[นม, รสจืด]</td>\n",
       "      <td>[เสียใจ, รถ, ถนน, , ไม่, , ระวัง, ตัวเอง, ดีกว...</td>\n",
       "    </tr>\n",
       "    <tr>\n",
       "      <th>7353</th>\n",
       "      <td>2020-10-27 13:51:00.344890</td>\n",
       "      <td>https://pantip.com/topic/30153058</td>\n",
       "      <td>65705</td>\n",
       "      <td>[โฟร์โมสต์]</td>\n",
       "      <td>[นม, รสจืด]</td>\n",
       "      <td>[หน้า, ห้าง, ..., วาง, กรวย, หา, แพะ]</td>\n",
       "    </tr>\n",
       "    <tr>\n",
       "      <th>7354</th>\n",
       "      <td>2020-10-27 13:51:00.344890</td>\n",
       "      <td>https://pantip.com/topic/30153058</td>\n",
       "      <td>65706</td>\n",
       "      <td>[โฟร์โมสต์]</td>\n",
       "      <td>[นม, รสจืด]</td>\n",
       "      <td>[ขี่, รถ, ผ่านหน้า, bigc, รัชดา, ผม, วิ่ง, เลน...</td>\n",
       "    </tr>\n",
       "    <tr>\n",
       "      <th>7355</th>\n",
       "      <td>2020-10-27 13:51:00.344890</td>\n",
       "      <td>https://pantip.com/topic/30153058</td>\n",
       "      <td>65707</td>\n",
       "      <td>[โฟร์โมสต์]</td>\n",
       "      <td>[นม, รสจืด]</td>\n",
       "      <td>[ชีวิต, เลือก, ได้, ไม่, ขับ, มอไซด์, เสี่ยง, ...</td>\n",
       "    </tr>\n",
       "  </tbody>\n",
       "</table>\n",
       "</div>"
      ],
      "text/plain": [
       "                   Retrived_date                               URLs  \\\n",
       "7351  2020-10-27 13:51:00.344890  https://pantip.com/topic/30153058   \n",
       "7352  2020-10-27 13:51:00.344890  https://pantip.com/topic/30153058   \n",
       "7353  2020-10-27 13:51:00.344890  https://pantip.com/topic/30153058   \n",
       "7354  2020-10-27 13:51:00.344890  https://pantip.com/topic/30153058   \n",
       "7355  2020-10-27 13:51:00.344890  https://pantip.com/topic/30153058   \n",
       "\n",
       "      commentId mention_brand mention_product  \\\n",
       "7351      65703   [โฟร์โมสต์]     [นม, รสจืด]   \n",
       "7352      65704   [โฟร์โมสต์]     [นม, รสจืด]   \n",
       "7353      65705   [โฟร์โมสต์]     [นม, รสจืด]   \n",
       "7354      65706   [โฟร์โมสต์]     [นม, รสจืด]   \n",
       "7355      65707   [โฟร์โมสต์]     [นม, รสจืด]   \n",
       "\n",
       "                                             token_text  \n",
       "7351  [ปกติ, ขับ, ออกจาก, แยก, ไม่ได้, เลี้ยว, ไม่, ...  \n",
       "7352  [เสียใจ, รถ, ถนน, , ไม่, , ระวัง, ตัวเอง, ดีกว...  \n",
       "7353              [หน้า, ห้าง, ..., วาง, กรวย, หา, แพะ]  \n",
       "7354  [ขี่, รถ, ผ่านหน้า, bigc, รัชดา, ผม, วิ่ง, เลน...  \n",
       "7355  [ชีวิต, เลือก, ได้, ไม่, ขับ, มอไซด์, เสี่ยง, ...  "
      ]
     },
     "execution_count": 23,
     "metadata": {},
     "output_type": "execute_result"
    }
   ],
   "source": [
    "df_join_url.tail()"
   ]
  },
  {
   "cell_type": "code",
   "execution_count": 24,
   "metadata": {},
   "outputs": [
    {
     "name": "stderr",
     "output_type": "stream",
     "text": [
      "C:\\ProgramData\\Anaconda3\\lib\\site-packages\\ipykernel_launcher.py:2: SettingWithCopyWarning: \n",
      "A value is trying to be set on a copy of a slice from a DataFrame.\n",
      "Try using .loc[row_indexer,col_indexer] = value instead\n",
      "\n",
      "See the caveats in the documentation: http://pandas.pydata.org/pandas-docs/stable/indexing.html#indexing-view-versus-copy\n",
      "  \n",
      "C:\\ProgramData\\Anaconda3\\lib\\site-packages\\ipykernel_launcher.py:3: UserWarning: Pandas doesn't allow columns to be created via a new attribute name - see https://pandas.pydata.org/pandas-docs/stable/indexing.html#attribute-access\n",
      "  This is separate from the ipykernel package so we can avoid doing imports until\n"
     ]
    }
   ],
   "source": [
    "df_view = df_join_url[['commentId','mention_brand']]\n",
    "df_view['mention_brand'] = df_join_url['mention_brand'].apply(lambda x: repr(set(x)))\n",
    "df_view.column = ['commentId','mention_brand']"
   ]
  },
  {
   "cell_type": "code",
   "execution_count": 26,
   "metadata": {
    "scrolled": true
   },
   "outputs": [],
   "source": [
    "df_view_count = df_view.groupby('mention_brand').count()"
   ]
  },
  {
   "cell_type": "code",
   "execution_count": 38,
   "metadata": {},
   "outputs": [
    {
     "name": "stdout",
     "output_type": "stream",
     "text": [
      "จำนวน comment ในกระทู้ที่มีการพูดถึงนมหรือชื่อแบรนด์ = 7356\n"
     ]
    }
   ],
   "source": [
    "print('จำนวน comment ในกระทู้ที่มีการพูดถึงนมหรือชื่อแบรนด์ =',df_view.shape[0])"
   ]
  },
  {
   "cell_type": "code",
   "execution_count": 32,
   "metadata": {
    "scrolled": true
   },
   "outputs": [
    {
     "data": {
      "text/html": [
       "<div>\n",
       "<style scoped>\n",
       "    .dataframe tbody tr th:only-of-type {\n",
       "        vertical-align: middle;\n",
       "    }\n",
       "\n",
       "    .dataframe tbody tr th {\n",
       "        vertical-align: top;\n",
       "    }\n",
       "\n",
       "    .dataframe thead th {\n",
       "        text-align: right;\n",
       "    }\n",
       "</style>\n",
       "<table border=\"1\" class=\"dataframe\">\n",
       "  <thead>\n",
       "    <tr style=\"text-align: right;\">\n",
       "      <th></th>\n",
       "      <th>commentId</th>\n",
       "    </tr>\n",
       "    <tr>\n",
       "      <th>mention_brand</th>\n",
       "      <th></th>\n",
       "    </tr>\n",
       "  </thead>\n",
       "  <tbody>\n",
       "    <tr>\n",
       "      <th>{'เมจิ'}</th>\n",
       "      <td>3199</td>\n",
       "    </tr>\n",
       "    <tr>\n",
       "      <th>{'ดัชมิลล์'}</th>\n",
       "      <td>1076</td>\n",
       "    </tr>\n",
       "    <tr>\n",
       "      <th>{'โฟร์โมสต์'}</th>\n",
       "      <td>920</td>\n",
       "    </tr>\n",
       "    <tr>\n",
       "      <th>{'เมจิ', 'ดัชมิลล์'}</th>\n",
       "      <td>655</td>\n",
       "    </tr>\n",
       "    <tr>\n",
       "      <th>{'โชคชัย'}</th>\n",
       "      <td>234</td>\n",
       "    </tr>\n",
       "    <tr>\n",
       "      <th>{'ไทยเดนมาร์ค'}</th>\n",
       "      <td>137</td>\n",
       "    </tr>\n",
       "    <tr>\n",
       "      <th>{'โฟร์โมสต์', 'ดัชมิลล์', 'ไทยเดนมาร์ค', 'หนองโพ'}</th>\n",
       "      <td>110</td>\n",
       "    </tr>\n",
       "    <tr>\n",
       "      <th>{'โฟร์โมสต์', 'เมจิ'}</th>\n",
       "      <td>87</td>\n",
       "    </tr>\n",
       "    <tr>\n",
       "      <th>{'ดัชมิลล์', 'โฟร์โมสต์', 'โชคชัย', 'หนองโพ'}</th>\n",
       "      <td>86</td>\n",
       "    </tr>\n",
       "    <tr>\n",
       "      <th>{'โฟร์โมสต์', 'ดัชมิลล์'}</th>\n",
       "      <td>63</td>\n",
       "    </tr>\n",
       "    <tr>\n",
       "      <th>{'หนองโพ'}</th>\n",
       "      <td>56</td>\n",
       "    </tr>\n",
       "    <tr>\n",
       "      <th>{'โฟร์โมสต์', 'เมจิ', 'ดัชมิลล์', 'ไทยเดนมาร์ค'}</th>\n",
       "      <td>56</td>\n",
       "    </tr>\n",
       "    <tr>\n",
       "      <th>{'โฟร์โมสต์', 'เมจิ', 'ไทยเดนมาร์ค', 'หนองโพ'}</th>\n",
       "      <td>51</td>\n",
       "    </tr>\n",
       "    <tr>\n",
       "      <th>{'เมจิ', 'แมคโนเลีย'}</th>\n",
       "      <td>50</td>\n",
       "    </tr>\n",
       "    <tr>\n",
       "      <th>{'ดัชมิลล์', 'หนองโพ'}</th>\n",
       "      <td>47</td>\n",
       "    </tr>\n",
       "    <tr>\n",
       "      <th>{'เมจิ', 'คาเนชั่น'}</th>\n",
       "      <td>42</td>\n",
       "    </tr>\n",
       "    <tr>\n",
       "      <th>{'เมจิ', 'หนองโพ'}</th>\n",
       "      <td>41</td>\n",
       "    </tr>\n",
       "    <tr>\n",
       "      <th>{'เมจิ', 'แดรี่โฮม'}</th>\n",
       "      <td>38</td>\n",
       "    </tr>\n",
       "    <tr>\n",
       "      <th>{'ไทยเดนมาร์ค', 'หนองโพ'}</th>\n",
       "      <td>37</td>\n",
       "    </tr>\n",
       "    <tr>\n",
       "      <th>{'เมจิ', 'ไทยเดนมาร์ค'}</th>\n",
       "      <td>35</td>\n",
       "    </tr>\n",
       "    <tr>\n",
       "      <th>{'เมจิ', 'ดัชมิลล์', 'หนองโพ', 'โฟร์โมสต์', 'โชคชัย'}</th>\n",
       "      <td>35</td>\n",
       "    </tr>\n",
       "    <tr>\n",
       "      <th>{'เมจิ', 'ไทยเดนมาร์ค', 'หนองโพ', 'โชคชัย', 'แดรี่โฮม'}</th>\n",
       "      <td>30</td>\n",
       "    </tr>\n",
       "    <tr>\n",
       "      <th>{'โฟร์โมสต์', 'ไทยเดนมาร์ค', 'หนองโพ'}</th>\n",
       "      <td>27</td>\n",
       "    </tr>\n",
       "    <tr>\n",
       "      <th>{'ดัชมิลล์', 'โชคชัย', 'หนองโพ'}</th>\n",
       "      <td>26</td>\n",
       "    </tr>\n",
       "    <tr>\n",
       "      <th>{'โฟร์โมสต์', 'เมจิ', 'โชคชัย'}</th>\n",
       "      <td>19</td>\n",
       "    </tr>\n",
       "    <tr>\n",
       "      <th>{'คาเนชั่น'}</th>\n",
       "      <td>19</td>\n",
       "    </tr>\n",
       "    <tr>\n",
       "      <th>{'โชคชัย', 'ไทยเดนมาร์ค'}</th>\n",
       "      <td>16</td>\n",
       "    </tr>\n",
       "    <tr>\n",
       "      <th>{'โฟร์โมสต์', 'ไทยเดนมาร์ค'}</th>\n",
       "      <td>15</td>\n",
       "    </tr>\n",
       "    <tr>\n",
       "      <th>{'โฟร์โมสต์', 'เมจิ', 'ดัชมิลล์'}</th>\n",
       "      <td>15</td>\n",
       "    </tr>\n",
       "    <tr>\n",
       "      <th>{'เมจิ', 'โชคชัย'}</th>\n",
       "      <td>15</td>\n",
       "    </tr>\n",
       "    <tr>\n",
       "      <th>{'เมจิ', 'ดัชมิลล์', 'โชคชัย'}</th>\n",
       "      <td>14</td>\n",
       "    </tr>\n",
       "    <tr>\n",
       "      <th>{'โฟร์โมสต์', 'แมคโนเลีย'}</th>\n",
       "      <td>13</td>\n",
       "    </tr>\n",
       "    <tr>\n",
       "      <th>{'ดัชมิลล์', 'ไทยเดนมาร์ค'}</th>\n",
       "      <td>13</td>\n",
       "    </tr>\n",
       "    <tr>\n",
       "      <th>{'ดัชมิลล์', 'คาเนชั่น'}</th>\n",
       "      <td>12</td>\n",
       "    </tr>\n",
       "    <tr>\n",
       "      <th>{'โฟร์โมสต์', 'โชคชัย'}</th>\n",
       "      <td>10</td>\n",
       "    </tr>\n",
       "    <tr>\n",
       "      <th>{'โฟร์โมสต์', 'ดัชมิลล์', 'ไทยเดนมาร์ค'}</th>\n",
       "      <td>9</td>\n",
       "    </tr>\n",
       "    <tr>\n",
       "      <th>{'เมจิ', 'ดัชมิลล์', 'คาเนชั่น'}</th>\n",
       "      <td>8</td>\n",
       "    </tr>\n",
       "    <tr>\n",
       "      <th>{'โฟร์โมสต์', 'เมจิ', 'ไทยเดนมาร์ค'}</th>\n",
       "      <td>7</td>\n",
       "    </tr>\n",
       "    <tr>\n",
       "      <th>{'ดัชมิลล์', 'ไทยเดนมาร์ค', 'หนองโพ'}</th>\n",
       "      <td>7</td>\n",
       "    </tr>\n",
       "    <tr>\n",
       "      <th>{'โชคชัย', 'หนองโพ'}</th>\n",
       "      <td>7</td>\n",
       "    </tr>\n",
       "    <tr>\n",
       "      <th>{'แดรี่โฮม'}</th>\n",
       "      <td>5</td>\n",
       "    </tr>\n",
       "    <tr>\n",
       "      <th>{'โฟร์โมสต์', 'คาเนชั่น'}</th>\n",
       "      <td>5</td>\n",
       "    </tr>\n",
       "    <tr>\n",
       "      <th>{'โฟร์โมสต์', 'เมจิ', 'หนองโพ'}</th>\n",
       "      <td>4</td>\n",
       "    </tr>\n",
       "    <tr>\n",
       "      <th>{'ดัชมิลล์', 'โฟร์โมสต์', 'เมจิ', 'โชคชัย'}</th>\n",
       "      <td>3</td>\n",
       "    </tr>\n",
       "    <tr>\n",
       "      <th>{'เมจิ', 'ดัชมิลล์', 'เอ็มมิลค์'}</th>\n",
       "      <td>2</td>\n",
       "    </tr>\n",
       "  </tbody>\n",
       "</table>\n",
       "</div>"
      ],
      "text/plain": [
       "                                                    commentId\n",
       "mention_brand                                                \n",
       "{'เมจิ'}                                                 3199\n",
       "{'ดัชมิลล์'}                                             1076\n",
       "{'โฟร์โมสต์'}                                             920\n",
       "{'เมจิ', 'ดัชมิลล์'}                                      655\n",
       "{'โชคชัย'}                                                234\n",
       "{'ไทยเดนมาร์ค'}                                           137\n",
       "{'โฟร์โมสต์', 'ดัชมิลล์', 'ไทยเดนมาร์ค', 'หนองโพ'}        110\n",
       "{'โฟร์โมสต์', 'เมจิ'}                                      87\n",
       "{'ดัชมิลล์', 'โฟร์โมสต์', 'โชคชัย', 'หนองโพ'}              86\n",
       "{'โฟร์โมสต์', 'ดัชมิลล์'}                                  63\n",
       "{'หนองโพ'}                                                 56\n",
       "{'โฟร์โมสต์', 'เมจิ', 'ดัชมิลล์', 'ไทยเดนมาร์ค'}           56\n",
       "{'โฟร์โมสต์', 'เมจิ', 'ไทยเดนมาร์ค', 'หนองโพ'}             51\n",
       "{'เมจิ', 'แมคโนเลีย'}                                      50\n",
       "{'ดัชมิลล์', 'หนองโพ'}                                     47\n",
       "{'เมจิ', 'คาเนชั่น'}                                       42\n",
       "{'เมจิ', 'หนองโพ'}                                         41\n",
       "{'เมจิ', 'แดรี่โฮม'}                                       38\n",
       "{'ไทยเดนมาร์ค', 'หนองโพ'}                                  37\n",
       "{'เมจิ', 'ไทยเดนมาร์ค'}                                    35\n",
       "{'เมจิ', 'ดัชมิลล์', 'หนองโพ', 'โฟร์โมสต์', 'โช...         35\n",
       "{'เมจิ', 'ไทยเดนมาร์ค', 'หนองโพ', 'โชคชัย', 'แด...         30\n",
       "{'โฟร์โมสต์', 'ไทยเดนมาร์ค', 'หนองโพ'}                     27\n",
       "{'ดัชมิลล์', 'โชคชัย', 'หนองโพ'}                           26\n",
       "{'โฟร์โมสต์', 'เมจิ', 'โชคชัย'}                            19\n",
       "{'คาเนชั่น'}                                               19\n",
       "{'โชคชัย', 'ไทยเดนมาร์ค'}                                  16\n",
       "{'โฟร์โมสต์', 'ไทยเดนมาร์ค'}                               15\n",
       "{'โฟร์โมสต์', 'เมจิ', 'ดัชมิลล์'}                          15\n",
       "{'เมจิ', 'โชคชัย'}                                         15\n",
       "{'เมจิ', 'ดัชมิลล์', 'โชคชัย'}                             14\n",
       "{'โฟร์โมสต์', 'แมคโนเลีย'}                                 13\n",
       "{'ดัชมิลล์', 'ไทยเดนมาร์ค'}                                13\n",
       "{'ดัชมิลล์', 'คาเนชั่น'}                                   12\n",
       "{'โฟร์โมสต์', 'โชคชัย'}                                    10\n",
       "{'โฟร์โมสต์', 'ดัชมิลล์', 'ไทยเดนมาร์ค'}                    9\n",
       "{'เมจิ', 'ดัชมิลล์', 'คาเนชั่น'}                            8\n",
       "{'โฟร์โมสต์', 'เมจิ', 'ไทยเดนมาร์ค'}                        7\n",
       "{'ดัชมิลล์', 'ไทยเดนมาร์ค', 'หนองโพ'}                       7\n",
       "{'โชคชัย', 'หนองโพ'}                                        7\n",
       "{'แดรี่โฮม'}                                                5\n",
       "{'โฟร์โมสต์', 'คาเนชั่น'}                                   5\n",
       "{'โฟร์โมสต์', 'เมจิ', 'หนองโพ'}                             4\n",
       "{'ดัชมิลล์', 'โฟร์โมสต์', 'เมจิ', 'โชคชัย'}                 3\n",
       "{'เมจิ', 'ดัชมิลล์', 'เอ็มมิลค์'}                           2"
      ]
     },
     "execution_count": 32,
     "metadata": {},
     "output_type": "execute_result"
    }
   ],
   "source": [
    "df_view_count.sort_values(by='commentId',ascending=False)"
   ]
  },
  {
   "cell_type": "code",
   "execution_count": 63,
   "metadata": {},
   "outputs": [],
   "source": [
    "dictionary = gensim.corpora.Dictionary(df_join_url['token_text'])"
   ]
  },
  {
   "cell_type": "code",
   "execution_count": 65,
   "metadata": {},
   "outputs": [],
   "source": [
    "#dictionary.token2id.keys()"
   ]
  },
  {
   "cell_type": "code",
   "execution_count": 66,
   "metadata": {},
   "outputs": [],
   "source": [
    "gensim_corpus = [dictionary.doc2bow(text, allow_update=True) for text in df_join_url['token_text']]\n",
    "word_frequencies = [[(dictionary[id], frequence) for id, frequence in couple] for couple in gensim_corpus]"
   ]
  },
  {
   "cell_type": "code",
   "execution_count": 76,
   "metadata": {},
   "outputs": [
    {
     "name": "stdout",
     "output_type": "stream",
     "text": [
      "Wall time: 13.1 s\n"
     ]
    }
   ],
   "source": [
    "num_topics = 9\n",
    "chunksize = 4000                  # size of the doc looked at every pass\n",
    "iterations = 50\n",
    "eval_every = 1                    # Don't evaluate model perplexity, takes too much time.\n",
    "\n",
    "# Make a index to word dictionary.\n",
    "temp = dictionary[0]  # This is only to \"load\" the dictionary.\n",
    "id2word = dictionary.id2token\n",
    "\n",
    "%time model = gensim.models.LdaModel(corpus=gensim_corpus, id2word=id2word, chunksize=chunksize, \\\n",
    "                       alpha='auto', eta='auto', \\\n",
    "                       iterations=iterations, num_topics=num_topics, eval_every=eval_every)"
   ]
  },
  {
   "cell_type": "code",
   "execution_count": 77,
   "metadata": {},
   "outputs": [
    {
     "name": "stderr",
     "output_type": "stream",
     "text": [
      "C:\\ProgramData\\Anaconda3\\lib\\site-packages\\pyLDAvis\\_prepare.py:257: FutureWarning: Sorting because non-concatenation axis is not aligned. A future version\n",
      "of pandas will change to not sort by default.\n",
      "\n",
      "To accept the future behavior, pass 'sort=False'.\n",
      "\n",
      "To retain the current behavior and silence the warning, pass 'sort=True'.\n",
      "\n",
      "  return pd.concat([default_term_info] + list(topic_dfs))\n"
     ]
    },
    {
     "data": {
      "text/html": [
       "\n",
       "<link rel=\"stylesheet\" type=\"text/css\" href=\"https://cdn.rawgit.com/bmabey/pyLDAvis/files/ldavis.v1.0.0.css\">\n",
       "\n",
       "\n",
       "<div id=\"ldavis_el1502419932626454408000279317\"></div>\n",
       "<script type=\"text/javascript\">\n",
       "\n",
       "var ldavis_el1502419932626454408000279317_data = {\"mdsDat\": {\"x\": [0.01688509731624898, 0.033363151695749424, -0.04366153814900327, 0.08945252304415119, 0.0027047942940312017, -0.042279604207813404, 0.03151452694833238, -0.017192983599534337, -0.07078596734216219], \"y\": [-0.01940281783857033, -0.004686311034028742, 0.004484461506224036, 0.04206635616146009, -0.024009215369794498, -0.038494156543982444, -0.0005269528122521289, -0.03279264221264286, 0.0733612781435869], \"topics\": [1, 2, 3, 4, 5, 6, 7, 8, 9], \"cluster\": [1, 1, 1, 1, 1, 1, 1, 1, 1], \"Freq\": [23.295406341552734, 19.86155891418457, 10.804794311523438, 10.484950065612793, 9.678107261657715, 8.971590995788574, 8.710817337036133, 4.42490816116333, 3.76786470413208]}, \"tinfo\": {\"Category\": [\"Default\", \"Default\", \"Default\", \"Default\", \"Default\", \"Default\", \"Default\", \"Default\", \"Default\", \"Default\", \"Default\", \"Default\", \"Default\", \"Default\", \"Default\", \"Default\", \"Default\", \"Default\", \"Default\", \"Default\", \"Default\", \"Default\", \"Default\", \"Default\", \"Default\", \"Default\", \"Default\", \"Default\", \"Default\", \"Default\", \"Topic1\", \"Topic1\", \"Topic1\", \"Topic1\", \"Topic1\", \"Topic1\", \"Topic1\", \"Topic1\", \"Topic1\", \"Topic1\", \"Topic1\", \"Topic1\", \"Topic1\", \"Topic1\", \"Topic1\", \"Topic1\", \"Topic1\", \"Topic1\", \"Topic1\", \"Topic1\", \"Topic1\", \"Topic1\", \"Topic1\", \"Topic1\", \"Topic1\", \"Topic1\", \"Topic1\", \"Topic1\", \"Topic1\", \"Topic1\", \"Topic1\", \"Topic1\", \"Topic1\", \"Topic1\", \"Topic1\", \"Topic1\", \"Topic1\", \"Topic1\", \"Topic1\", \"Topic1\", \"Topic1\", \"Topic1\", \"Topic1\", \"Topic1\", \"Topic1\", \"Topic1\", \"Topic1\", \"Topic1\", \"Topic1\", \"Topic1\", \"Topic1\", \"Topic1\", \"Topic1\", \"Topic1\", \"Topic1\", \"Topic1\", \"Topic1\", \"Topic1\", \"Topic1\", \"Topic1\", \"Topic1\", \"Topic1\", \"Topic1\", \"Topic1\", \"Topic1\", \"Topic1\", \"Topic1\", \"Topic1\", \"Topic1\", \"Topic1\", \"Topic1\", \"Topic1\", \"Topic1\", \"Topic1\", \"Topic1\", \"Topic1\", \"Topic1\", \"Topic1\", \"Topic1\", \"Topic1\", \"Topic1\", \"Topic1\", \"Topic1\", \"Topic2\", \"Topic2\", \"Topic2\", \"Topic2\", \"Topic2\", \"Topic2\", \"Topic2\", \"Topic2\", \"Topic2\", \"Topic2\", \"Topic2\", \"Topic2\", \"Topic2\", \"Topic2\", \"Topic2\", \"Topic2\", \"Topic2\", \"Topic2\", \"Topic2\", \"Topic2\", \"Topic2\", \"Topic2\", \"Topic2\", \"Topic2\", \"Topic2\", \"Topic2\", \"Topic2\", \"Topic2\", \"Topic2\", \"Topic2\", \"Topic2\", \"Topic2\", \"Topic2\", \"Topic2\", \"Topic2\", \"Topic2\", \"Topic2\", \"Topic2\", \"Topic2\", \"Topic2\", \"Topic2\", \"Topic2\", \"Topic2\", \"Topic2\", \"Topic2\", \"Topic2\", \"Topic2\", \"Topic2\", \"Topic2\", \"Topic2\", \"Topic2\", \"Topic2\", \"Topic2\", \"Topic2\", \"Topic2\", \"Topic2\", \"Topic2\", \"Topic2\", \"Topic2\", \"Topic2\", \"Topic2\", \"Topic2\", \"Topic2\", \"Topic2\", \"Topic2\", \"Topic2\", \"Topic2\", \"Topic2\", \"Topic2\", \"Topic2\", \"Topic2\", \"Topic2\", \"Topic2\", \"Topic2\", \"Topic2\", \"Topic2\", \"Topic2\", \"Topic2\", \"Topic3\", \"Topic3\", \"Topic3\", \"Topic3\", \"Topic3\", \"Topic3\", \"Topic3\", \"Topic3\", \"Topic3\", \"Topic3\", \"Topic3\", \"Topic3\", \"Topic3\", \"Topic3\", \"Topic3\", \"Topic3\", \"Topic3\", \"Topic3\", \"Topic3\", \"Topic3\", \"Topic3\", \"Topic3\", \"Topic3\", \"Topic3\", \"Topic3\", \"Topic3\", \"Topic3\", \"Topic3\", \"Topic3\", \"Topic3\", \"Topic3\", \"Topic3\", \"Topic3\", \"Topic3\", \"Topic3\", \"Topic3\", \"Topic3\", \"Topic3\", \"Topic3\", \"Topic3\", \"Topic3\", \"Topic3\", \"Topic3\", \"Topic3\", \"Topic3\", \"Topic3\", \"Topic3\", \"Topic3\", \"Topic3\", \"Topic3\", \"Topic3\", \"Topic3\", \"Topic3\", \"Topic3\", \"Topic3\", \"Topic3\", \"Topic3\", \"Topic3\", \"Topic3\", \"Topic3\", \"Topic3\", \"Topic3\", \"Topic3\", \"Topic3\", \"Topic3\", \"Topic3\", \"Topic3\", \"Topic3\", \"Topic3\", \"Topic3\", \"Topic3\", \"Topic3\", \"Topic3\", \"Topic3\", \"Topic3\", \"Topic3\", \"Topic3\", \"Topic3\", \"Topic3\", \"Topic3\", \"Topic3\", \"Topic3\", \"Topic3\", \"Topic3\", \"Topic3\", \"Topic4\", \"Topic4\", \"Topic4\", \"Topic4\", \"Topic4\", \"Topic4\", \"Topic4\", \"Topic4\", \"Topic4\", \"Topic4\", \"Topic4\", \"Topic4\", \"Topic4\", \"Topic4\", \"Topic4\", \"Topic4\", \"Topic4\", \"Topic4\", \"Topic4\", \"Topic4\", \"Topic4\", \"Topic4\", \"Topic4\", \"Topic4\", \"Topic4\", \"Topic4\", \"Topic4\", \"Topic4\", \"Topic4\", \"Topic4\", \"Topic4\", \"Topic4\", \"Topic4\", \"Topic4\", \"Topic4\", \"Topic4\", \"Topic4\", \"Topic4\", \"Topic4\", \"Topic4\", \"Topic4\", \"Topic4\", \"Topic4\", \"Topic4\", \"Topic4\", \"Topic4\", \"Topic4\", \"Topic4\", \"Topic4\", \"Topic4\", \"Topic4\", \"Topic4\", \"Topic4\", \"Topic4\", \"Topic4\", \"Topic4\", \"Topic4\", \"Topic4\", \"Topic4\", \"Topic4\", \"Topic4\", \"Topic4\", \"Topic4\", \"Topic4\", \"Topic4\", \"Topic4\", \"Topic4\", \"Topic4\", \"Topic4\", \"Topic4\", \"Topic4\", \"Topic4\", \"Topic4\", \"Topic4\", \"Topic4\", \"Topic4\", \"Topic4\", \"Topic4\", \"Topic4\", \"Topic5\", \"Topic5\", \"Topic5\", \"Topic5\", \"Topic5\", \"Topic5\", \"Topic5\", \"Topic5\", \"Topic5\", \"Topic5\", \"Topic5\", \"Topic5\", \"Topic5\", \"Topic5\", \"Topic5\", \"Topic5\", \"Topic5\", \"Topic5\", \"Topic5\", \"Topic5\", \"Topic5\", \"Topic5\", \"Topic5\", \"Topic5\", \"Topic5\", \"Topic5\", \"Topic5\", \"Topic5\", \"Topic5\", \"Topic5\", \"Topic5\", \"Topic5\", \"Topic5\", \"Topic5\", \"Topic5\", \"Topic5\", \"Topic5\", \"Topic5\", \"Topic5\", \"Topic5\", \"Topic5\", \"Topic5\", \"Topic5\", \"Topic5\", \"Topic5\", \"Topic5\", \"Topic5\", \"Topic5\", \"Topic5\", \"Topic5\", \"Topic5\", \"Topic5\", \"Topic5\", \"Topic5\", \"Topic5\", \"Topic5\", \"Topic5\", \"Topic5\", \"Topic5\", \"Topic5\", \"Topic5\", \"Topic5\", \"Topic5\", \"Topic5\", \"Topic5\", \"Topic5\", \"Topic5\", \"Topic5\", \"Topic5\", \"Topic5\", \"Topic5\", \"Topic5\", \"Topic5\", \"Topic5\", \"Topic5\", \"Topic5\", \"Topic5\", \"Topic5\", \"Topic5\", \"Topic5\", \"Topic5\", \"Topic6\", \"Topic6\", \"Topic6\", \"Topic6\", \"Topic6\", \"Topic6\", \"Topic6\", \"Topic6\", \"Topic6\", \"Topic6\", \"Topic6\", \"Topic6\", \"Topic6\", \"Topic6\", \"Topic6\", \"Topic6\", \"Topic6\", \"Topic6\", \"Topic6\", \"Topic6\", \"Topic6\", \"Topic6\", \"Topic6\", \"Topic6\", \"Topic6\", \"Topic6\", \"Topic6\", \"Topic6\", \"Topic6\", \"Topic6\", \"Topic6\", \"Topic6\", \"Topic6\", \"Topic6\", \"Topic6\", \"Topic6\", \"Topic6\", \"Topic6\", \"Topic6\", \"Topic6\", \"Topic6\", \"Topic6\", \"Topic6\", \"Topic6\", \"Topic6\", \"Topic6\", \"Topic6\", \"Topic6\", \"Topic6\", \"Topic6\", \"Topic6\", \"Topic6\", \"Topic6\", \"Topic6\", \"Topic6\", \"Topic6\", \"Topic6\", \"Topic6\", \"Topic6\", \"Topic6\", \"Topic6\", \"Topic6\", \"Topic6\", \"Topic6\", \"Topic6\", \"Topic6\", \"Topic6\", \"Topic6\", \"Topic6\", \"Topic6\", \"Topic6\", \"Topic6\", \"Topic6\", \"Topic6\", \"Topic6\", \"Topic6\", \"Topic6\", \"Topic7\", \"Topic7\", \"Topic7\", \"Topic7\", \"Topic7\", \"Topic7\", \"Topic7\", \"Topic7\", \"Topic7\", \"Topic7\", \"Topic7\", \"Topic7\", \"Topic7\", \"Topic7\", \"Topic7\", \"Topic7\", \"Topic7\", \"Topic7\", \"Topic7\", \"Topic7\", \"Topic7\", \"Topic7\", \"Topic7\", \"Topic7\", \"Topic7\", \"Topic7\", \"Topic7\", \"Topic7\", \"Topic7\", \"Topic7\", \"Topic7\", \"Topic7\", \"Topic7\", \"Topic7\", \"Topic7\", \"Topic7\", \"Topic7\", \"Topic7\", \"Topic7\", \"Topic7\", \"Topic7\", \"Topic7\", \"Topic7\", \"Topic7\", \"Topic7\", \"Topic7\", \"Topic7\", \"Topic7\", \"Topic7\", \"Topic7\", \"Topic7\", \"Topic7\", \"Topic7\", \"Topic7\", \"Topic7\", \"Topic7\", \"Topic7\", \"Topic7\", \"Topic7\", \"Topic7\", \"Topic7\", \"Topic7\", \"Topic7\", \"Topic7\", \"Topic7\", \"Topic7\", \"Topic7\", \"Topic7\", \"Topic7\", \"Topic7\", \"Topic7\", \"Topic7\", \"Topic7\", \"Topic7\", \"Topic7\", \"Topic7\", \"Topic7\", \"Topic7\", \"Topic7\", \"Topic7\", \"Topic8\", \"Topic8\", \"Topic8\", \"Topic8\", \"Topic8\", \"Topic8\", \"Topic8\", \"Topic8\", \"Topic8\", \"Topic8\", \"Topic8\", \"Topic8\", \"Topic8\", \"Topic8\", \"Topic8\", \"Topic8\", \"Topic8\", \"Topic8\", \"Topic8\", \"Topic8\", \"Topic8\", \"Topic8\", \"Topic8\", \"Topic8\", \"Topic8\", \"Topic8\", \"Topic8\", \"Topic8\", \"Topic8\", \"Topic8\", \"Topic8\", \"Topic8\", \"Topic8\", \"Topic8\", \"Topic8\", \"Topic8\", \"Topic8\", \"Topic8\", \"Topic8\", \"Topic8\", \"Topic8\", \"Topic8\", \"Topic8\", \"Topic8\", \"Topic8\", \"Topic8\", \"Topic8\", \"Topic8\", \"Topic8\", \"Topic8\", \"Topic8\", \"Topic8\", \"Topic8\", \"Topic8\", \"Topic8\", \"Topic8\", \"Topic8\", \"Topic8\", \"Topic8\", \"Topic8\", \"Topic8\", \"Topic8\", \"Topic8\", \"Topic8\", \"Topic8\", \"Topic8\", \"Topic8\", \"Topic8\", \"Topic8\", \"Topic8\", \"Topic8\", \"Topic8\", \"Topic8\", \"Topic8\", \"Topic9\", \"Topic9\", \"Topic9\", \"Topic9\", \"Topic9\", \"Topic9\", \"Topic9\", \"Topic9\", \"Topic9\", \"Topic9\", \"Topic9\", \"Topic9\", \"Topic9\", \"Topic9\", \"Topic9\", \"Topic9\", \"Topic9\", \"Topic9\", \"Topic9\", \"Topic9\", \"Topic9\", \"Topic9\", \"Topic9\", \"Topic9\", \"Topic9\", \"Topic9\", \"Topic9\", \"Topic9\", \"Topic9\", \"Topic9\", \"Topic9\", \"Topic9\", \"Topic9\", \"Topic9\", \"Topic9\", \"Topic9\", \"Topic9\", \"Topic9\", \"Topic9\", \"Topic9\", \"Topic9\", \"Topic9\", \"Topic9\", \"Topic9\", \"Topic9\", \"Topic9\", \"Topic9\", \"Topic9\", \"Topic9\", \"Topic9\", \"Topic9\", \"Topic9\", \"Topic9\", \"Topic9\", \"Topic9\", \"Topic9\", \"Topic9\", \"Topic9\", \"Topic9\", \"Topic9\", \"Topic9\", \"Topic9\", \"Topic9\", \"Topic9\", \"Topic9\", \"Topic9\", \"Topic9\", \"Topic9\", \"Topic9\", \"Topic9\", \"Topic9\", \"Topic9\", \"Topic9\", \"Topic9\", \"Topic9\"], \"Freq\": [5903.0, 2041.0, 1522.0, 1861.0, 2492.0, 2849.0, 4148.0, 1011.0, 3896.0, 987.0, 1103.0, 849.0, 1090.0, 238.0, 1139.0, 965.0, 869.0, 7571.0, 1249.0, 662.0, 544.0, 138.0, 1813.0, 1419.0, 971.0, 441.0, 604.0, 838.0, 199.0, 109.0, 15.769538879394531, 15.36365795135498, 22.589914321899414, 12.721677780151367, 11.247367858886719, 11.000469207763672, 8.188578605651855, 9.562450408935547, 8.17807674407959, 7.9949517250061035, 6.709675312042236, 6.680290699005127, 6.645676136016846, 12.302370071411133, 7.832592487335205, 5.153257846832275, 5.154597759246826, 5.137526512145996, 5.110438346862793, 6.328316688537598, 6.873721122741699, 14.847228050231934, 6.849705219268799, 5.9409708976745605, 8.057602882385254, 10.922460556030273, 10.037970542907715, 27.88050079345703, 10.204955101013184, 4.170130252838135, 783.1376342773438, 37.52762985229492, 16.91667366027832, 38.087242126464844, 21.9917049407959, 15.145546913146973, 15.347244262695312, 62.910587310791016, 31.85191535949707, 2446.990966796875, 998.9522094726562, 396.41973876953125, 675.4650268554688, 84.05425262451172, 1220.0240478515625, 125.74798583984375, 65.91620635986328, 217.10531616210938, 164.9980010986328, 45.392242431640625, 39.10938262939453, 61.9913215637207, 118.13546752929688, 26.432371139526367, 516.1185913085938, 384.99560546875, 339.05059814453125, 340.7789306640625, 464.01824951171875, 135.79840087890625, 876.5704345703125, 183.2983856201172, 159.34375, 105.81730651855469, 394.5240478515625, 122.56549072265625, 236.39404296875, 457.4700927734375, 819.1151123046875, 204.9224090576172, 221.03192138671875, 155.88551330566406, 120.97779083251953, 422.798583984375, 342.40838623046875, 181.93649291992188, 199.79811096191406, 213.13864135742188, 195.45587158203125, 227.4310302734375, 199.2216796875, 174.52503967285156, 179.39735412597656, 35.51836013793945, 20.340028762817383, 13.15063762664795, 11.817500114440918, 11.626681327819824, 10.281989097595215, 10.246360778808594, 9.978736877441406, 8.655193328857422, 8.625280380249023, 8.611517906188965, 15.502053260803223, 7.081153392791748, 7.080117702484131, 7.042476654052734, 7.019677639007568, 6.995102882385254, 9.762767791748047, 6.601715087890625, 7.49167537689209, 12.994982719421387, 67.15450286865234, 13.773575782775879, 5.472912311553955, 5.472314834594727, 5.466413974761963, 5.466020107269287, 8.196356773376465, 5.447263240814209, 5.371110916137695, 70.72924041748047, 28.66451072692871, 25.531286239624023, 39.318660736083984, 17.65563201904297, 15.879268646240234, 19.457050323486328, 76.42340087890625, 1627.3802490234375, 22.293781280517578, 21.43318748474121, 1890.389892578125, 148.28675842285156, 72.64337921142578, 21.648788452148438, 562.8207397460938, 359.4915466308594, 882.5298461914062, 151.38119506835938, 442.72479248046875, 135.33761596679688, 142.0654754638672, 151.67445373535156, 209.46206665039062, 135.0657501220703, 750.8873291015625, 56.68149185180664, 78.22955322265625, 117.0787353515625, 170.8437957763672, 489.8927917480469, 365.5712585449219, 269.5411682128906, 226.34669494628906, 256.83477783203125, 132.03457641601562, 200.99844360351562, 360.811767578125, 172.19100952148438, 246.68016052246094, 195.78610229492188, 162.01902770996094, 236.26539611816406, 160.69517517089844, 159.37750244140625, 179.80929565429688, 200.5916290283203, 173.38427734375, 11.613288879394531, 13.01022720336914, 9.83897876739502, 6.907207489013672, 6.783597469329834, 6.761586666107178, 8.078614234924316, 6.644750118255615, 25.43488883972168, 5.374390125274658, 5.370497226715088, 7.177657604217529, 5.138520240783691, 5.274410247802734, 8.266884803771973, 5.022739410400391, 6.8326897621154785, 5.0891900062561035, 3.8027682304382324, 3.8019068241119385, 3.8010482788085938, 3.7981722354888916, 3.792660713195801, 3.7813210487365723, 3.683011054992676, 3.6829264163970947, 3.6767590045928955, 3.7523281574249268, 3.6227505207061768, 4.1153459548950195, 33.66411209106445, 12.154715538024902, 5.682762622833252, 21.202919006347656, 5.342994689941406, 411.67095947265625, 1686.38232421875, 37.4877815246582, 41.0449104309082, 36.858184814453125, 19.345306396484375, 715.876220703125, 9.862048149108887, 16.925270080566406, 9.46130084991455, 68.97604370117188, 47.954185485839844, 135.99203491210938, 16.543453216552734, 76.52059936523438, 18.4132137298584, 26.549657821655273, 49.21452713012695, 517.4385986328125, 128.3357696533203, 133.47042846679688, 242.13536071777344, 57.21511459350586, 73.64923858642578, 119.83355712890625, 42.20193099975586, 57.9834098815918, 87.68305969238281, 72.2386703491211, 74.22676849365234, 501.6122131347656, 120.74755096435547, 280.2923889160156, 112.34127807617188, 140.61595153808594, 84.25078582763672, 127.10423278808594, 80.69595336914062, 141.779541015625, 104.8041763305664, 85.77578735351562, 77.99114227294922, 100.03697204589844, 111.64689636230469, 78.07318878173828, 93.45071411132812, 93.4919662475586, 92.78339385986328, 78.41000366210938, 77.40302276611328, 10.531425476074219, 8.79781436920166, 8.738187789916992, 8.753729820251465, 9.378705978393555, 7.898794174194336, 7.2761359214782715, 7.252732753753662, 7.105597496032715, 7.132640838623047, 97.59456634521484, 5.641416072845459, 5.639896392822266, 5.639499664306641, 5.630415439605713, 5.601083755493164, 5.373554229736328, 8.754371643066406, 4.005006790161133, 4.004879474639893, 4.004591464996338, 3.9877591133117676, 3.93532133102417, 3.9711031913757324, 3.9043846130371094, 3.8030898571014404, 7.038644790649414, 3.730121374130249, 5.552619934082031, 3.809879779815674, 70.27972412109375, 1093.6597900390625, 12.143192291259766, 18.071117401123047, 11.917420387268066, 10.170979499816895, 48.66995620727539, 8.980194091796875, 822.755615234375, 70.28753662109375, 69.36083221435547, 296.21795654296875, 55.660404205322266, 267.8283996582031, 79.99271392822266, 50.25718688964844, 36.05085372924805, 27.92806053161621, 97.24305725097656, 24.487709045410156, 102.8956069946289, 820.6760864257812, 471.55194091796875, 471.21539306640625, 141.57388305664062, 51.56561279296875, 244.6174774169922, 66.43151092529297, 60.55215072631836, 76.1209945678711, 52.834442138671875, 244.091552734375, 160.72805786132812, 179.15872192382812, 96.70437622070312, 103.66089630126953, 103.21385192871094, 103.4088134765625, 242.453125, 88.57414245605469, 113.27227783203125, 94.62056732177734, 98.24756622314453, 104.0658950805664, 93.53451538085938, 107.95650482177734, 107.8431396484375, 102.20243072509766, 104.31185150146484, 20.532119750976562, 12.091681480407715, 11.818130493164062, 10.670675277709961, 10.499455451965332, 9.238162994384766, 9.081629753112793, 7.737277030944824, 7.708245754241943, 7.622878551483154, 13.01527214050293, 6.285971641540527, 6.203589916229248, 6.325460433959961, 7.469773769378662, 6.141719341278076, 8.463421821594238, 5.382215976715088, 4.934792995452881, 4.908374309539795, 6.141936779022217, 6.968838214874268, 5.8680524826049805, 6.279062747955322, 3.908257484436035, 3.481570243835449, 3.365544557571411, 3.361898899078369, 3.4134817123413086, 3.4485831260681152, 14.689690589904785, 11.150012016296387, 35.95345687866211, 115.77619934082031, 6.0967326164245605, 6.505195617675781, 21.7259521484375, 14.390769004821777, 16.346797943115234, 329.8735046386719, 45.49771499633789, 36.24114227294922, 78.42159271240234, 21.70318031311035, 117.78202056884766, 130.60330200195312, 18.4472713470459, 254.37025451660156, 440.8639221191406, 168.34732055664062, 35.666778564453125, 509.5202941894531, 435.1372985839844, 100.06607055664062, 55.754215240478516, 55.681270599365234, 257.5934143066406, 207.41339111328125, 190.69044494628906, 45.0027961730957, 74.8244400024414, 64.12199401855469, 37.080413818359375, 39.17402267456055, 114.40142822265625, 80.85072326660156, 83.4996337890625, 122.5976791381836, 92.89098358154297, 132.30726623535156, 107.81625366210938, 102.48238372802734, 107.79544830322266, 69.0590591430664, 122.46228790283203, 72.02333068847656, 74.55036163330078, 64.5083236694336, 77.62742614746094, 75.83727264404297, 71.46778869628906, 59.14837646484375, 16.539531707763672, 8.126594543457031, 8.089936256408691, 8.016435623168945, 6.685782432556152, 6.611616134643555, 9.048519134521484, 5.35588264465332, 5.137452125549316, 5.121063232421875, 5.1121368408203125, 5.152708053588867, 4.774690628051758, 6.286334991455078, 6.738241195678711, 4.179952144622803, 4.878265380859375, 3.6665632724761963, 3.65269136428833, 3.6483588218688965, 3.641406297683716, 3.614276170730591, 3.639212131500244, 3.6034152507781982, 7.744533061981201, 3.566920518875122, 3.5314414501190186, 5.226620197296143, 5.612300872802734, 15.95928955078125, 11.17038631439209, 8.02419376373291, 5.870576858520508, 13.444612503051758, 66.6219253540039, 13.1341552734375, 14.208796501159668, 86.8980941772461, 6.457449913024902, 53.7510871887207, 130.08395385742188, 21.06298065185547, 29.36490249633789, 15.969958305358887, 346.4372863769531, 183.7825469970703, 247.39283752441406, 485.8429870605469, 162.98663330078125, 46.45349884033203, 482.3478088378906, 109.32160949707031, 94.81206512451172, 235.84559631347656, 72.88446807861328, 50.669921875, 50.42525863647461, 148.64434814453125, 264.9735107421875, 102.34288787841797, 129.0163116455078, 126.76754760742188, 92.17217254638672, 85.18646240234375, 83.40611267089844, 50.625213623046875, 131.12387084960938, 107.68985748291016, 98.15132904052734, 117.70114135742188, 96.76187896728516, 76.71859741210938, 161.66610717773438, 117.8649673461914, 79.90509033203125, 83.51060485839844, 19.29707908630371, 15.322402954101562, 9.821831703186035, 8.147549629211426, 8.11888313293457, 8.076128959655762, 6.8431220054626465, 6.703484058380127, 11.212007522583008, 5.616057395935059, 4.7392964363098145, 19.480379104614258, 4.312169075012207, 4.303025245666504, 4.28318977355957, 4.276676177978516, 4.219135284423828, 4.2394890785217285, 7.3887858390808105, 9.64228343963623, 7.128993034362793, 4.093501567840576, 3.0827980041503906, 3.073331356048584, 3.054229497909546, 3.0476326942443848, 3.0397591590881348, 3.039349317550659, 3.029367446899414, 3.024289131164551, 11.347695350646973, 12.144437789916992, 5.83060884475708, 5.859789848327637, 5.247046947479248, 7.9275312423706055, 7.420784950256348, 35.062171936035156, 21.587276458740234, 11.700706481933594, 52.44269943237305, 588.9705810546875, 541.6173706054688, 234.05311584472656, 19.280364990234375, 29.069644927978516, 559.9852905273438, 109.6368637084961, 282.7080078125, 188.74072265625, 21.9086971282959, 29.502906799316406, 149.8887481689453, 147.94509887695312, 113.9525146484375, 95.30806732177734, 73.419921875, 113.77996063232422, 51.5809211730957, 149.80555725097656, 99.41790008544922, 47.11427307128906, 98.44857788085938, 43.7193603515625, 130.2763671875, 115.62787628173828, 77.0724105834961, 69.22691345214844, 70.64382934570312, 46.91801834106445, 65.92819213867188, 75.57665252685547, 62.39570617675781, 73.49453735351562, 89.9635238647461, 83.04163360595703, 98.74593353271484, 63.57273483276367, 64.4247817993164, 63.5003776550293, 9.570891380310059, 8.57790470123291, 6.178531646728516, 8.295503616333008, 5.94779109954834, 8.656169891357422, 5.061107158660889, 10.31594181060791, 5.039801597595215, 5.013155937194824, 3.907890796661377, 4.708312034606934, 5.0997114181518555, 3.775498390197754, 11.441978454589844, 2.7858433723449707, 2.7776987552642822, 2.766104221343994, 2.724776029586792, 2.7214126586914062, 2.6046335697174072, 2.6910080909729004, 2.6454854011535645, 3.854192018508911, 2.058318853378296, 2.4450645446777344, 2.5190913677215576, 2.808518648147583, 4.161147594451904, 2.508957862854004, 14.133018493652344, 9.619253158569336, 3.533545732498169, 6.670910835266113, 15.767965316772461, 11.868695259094238, 6.537938594818115, 13.281664848327637, 269.1075134277344, 99.53893280029297, 109.85978698730469, 91.65823364257812, 170.45611572265625, 15.88782787322998, 33.354400634765625, 7.009361743927002, 172.6812744140625, 216.86563110351562, 48.57944107055664, 36.08415985107422, 53.169921875, 20.48112678527832, 41.03474044799805, 142.31256103515625, 38.673316955566406, 29.072195053100586, 44.105804443359375, 86.41505432128906, 60.58548355102539, 46.62531280517578, 53.03055191040039, 44.45655059814453, 27.35593605041504, 41.97804641723633, 33.68363571166992, 37.38014221191406, 36.668487548828125, 31.660167694091797, 26.76523208618164, 24.973670959472656, 35.57261276245117, 32.0451774597168, 28.361705780029297, 28.883604049682617, 9.22264289855957, 7.40234375, 6.467394828796387, 5.323208332061768, 4.300051689147949, 4.189865589141846, 5.247196197509766, 6.713547229766846, 5.061440467834473, 2.972745895385742, 2.896034002304077, 3.010824680328369, 2.967139720916748, 2.8975086212158203, 2.7388038635253906, 2.7030224800109863, 3.814619541168213, 4.171946048736572, 4.99569845199585, 2.6644370555877686, 7.040835857391357, 3.0438804626464844, 1.784397840499878, 1.7840453386306763, 1.7819573879241943, 1.778122901916504, 1.7755149602890015, 1.7751474380493164, 1.7711414098739624, 1.7588318586349487, 11.158334732055664, 39.829288482666016, 5.539901256561279, 2.879049062728882, 59.90135955810547, 79.08528137207031, 9.327220916748047, 6.140108108520508, 8.030961036682129, 249.51766967773438, 13.103843688964844, 18.477645874023438, 15.06015396118164, 366.2650451660156, 26.079971313476562, 24.042165756225586, 9.284790992736816, 68.35716247558594, 83.33048248291016, 67.16606140136719, 51.31277084350586, 25.696672439575195, 130.0938720703125, 142.6328125, 53.19630813598633, 36.51834487915039, 25.342126846313477, 21.249330520629883, 62.9627571105957, 23.675582885742188, 65.21143341064453, 42.51361083984375, 30.019987106323242, 30.058895111083984, 26.689563751220703, 48.30986022949219, 38.64799118041992, 34.49498748779297, 24.07502555847168, 27.4095458984375, 28.33559226989746, 30.19853973388672, 27.21446418762207, 26.316368103027344, 25.81722640991211], \"Term\": [\"\", \"\\u0e25\\u0e39\\u0e01\", \"\\u0e0a\\u0e2d\\u0e1a\", \"\\u0e41\\u0e21\\u0e48\", \"\\u0e1c\\u0e21\", \"\\u0e19\\u0e21\", \"\\u0e44\\u0e14\\u0e49\", \"\\u0e02\\u0e2d\\u0e1a\\u0e04\\u0e38\\u0e13\", \"\\u0e01\\u0e34\\u0e19\", \".\", \"\\u0e43\\u0e2a\\u0e48\", \"\\u0e17\\u0e32\\u0e19\", \"\\u0e2d\\u0e23\\u0e48\\u0e2d\\u0e22\", \"\\u0e04\\u0e39\\u0e1b\\u0e2d\\u0e07\", \"\\u0e14\\u0e39\", \"\\u0e25\\u0e2d\\u0e07\", \"\\u0e23\\u0e2a\", \"\\u0e44\\u0e21\\u0e48\", \"\\u0e44\\u0e21\\u0e48\\u0e44\\u0e14\\u0e49\", \"\\u0e40\\u0e2b\\u0e21\\u0e37\\u0e2d\\u0e19\\u0e01\\u0e31\\u0e19\", \"\\u0e40\\u0e21\\u0e08\\u0e34\", \"\\u0e2a\\u0e48\\u0e27\\u0e19\\u0e25\\u0e14\", \"\\u0e0b\\u0e37\\u0e49\\u0e2d\", \"\\u0e17\\u0e33\", \"\\u0e23\\u0e39\\u0e49\", \"\\u0e14\\u0e37\\u0e48\\u0e21\", \"\\u0e01\\u0e25\\u0e48\\u0e2d\\u0e07\", \"\\u0e1a\\u0e49\\u0e32\\u0e19\", \"\\u0e14\\u0e34\\u0e09\\u0e31\\u0e19\", \"\\u0e04\\u0e25\\u0e2d\\u0e14\", \"\\u0e23\\u0e31\\u0e1a\\u0e2a\\u0e32\\u0e22\", \"\\u0e27\\u0e32\\u0e23\\u0e34\\u0e0a\", \"\\u0e42\\u0e17\\u0e19\", \"\\u0e2a\\u0e38\\u0e19\\u0e31\\u0e02\", \"\\u0e02\\u0e31\\u0e14\\u0e43\\u0e08\", \"\\u0e1e\\u0e2d\\u0e43\\u0e2b\\u0e49\", \"\\u0e22\\u0e27\", \"\\u0e16\\u0e31\\u0e07\\u0e02\\u0e22\\u0e30\", \"\\u0e23\\u0e4c\\u0e17\", \"\\u0e40\\u0e2a\\u0e35\\u0e22\\u0e2b\\u0e32\\u0e22\", \"\\u0e40\\u0e02\", \"\\u0e19\\u0e31\\u0e25\", \"\\u0e17\\u0e33\\u0e40\\u0e2d\\u0e32\", \"\\u0e41\\u0e0a\", \"\\u0e15\\u0e23\\u0e39\", \"\\u0e42\\u0e23\\u0e04\\u0e08\\u0e34\\u0e15\", \"\\u0e08\\u0e33\\u0e43\\u0e08\", \"\\u0e04\\u0e2d\\u0e21\\u0e40\\u0e21\\u0e49\\u0e19\\u0e17\\u0e4c\", \"\\u0e1b\\u0e23\\u0e34\\u0e21\\u0e32\\u0e15\\u0e23\", \"\\u0e0a.\", \"\\u0e08\\u0e33\\u0e40\\u0e25\\u0e22\", \"\\u0e2d\\u0e48\\u0e2d\\u0e19\\u0e41\\u0e2d\", \"\\u0e02\\u0e37\\u0e19\", \"\\u0e25\\u0e39\\u0e01\\u0e40\\u0e01\\u0e14\", \"\\u0e0b\\u0e32\\u0e01\\u0e38\\u0e23\\u0e30\", \"\\u0e41\\u0e23\\u0e48\", \"\\u0e40\\u0e27\\u0e23\", \"\\u0e07.\", \"Max\", \"\\u0e1b\\u0e27\\u0e14\\u0e2b\\u0e25\\u0e31\\u0e07\", \".\", \"\\u0e1a\\u0e31\\u0e25\\u0e41\\u0e01\\u0e40\\u0e23\\u0e35\\u0e22\", \"\\u0e27\\u0e2d\\u0e25\\u0e25\\u0e4c\", \"\\u0e1e\\u0e19\", \"\\u0e04\\u0e34\\u0e15\\u0e15\\u0e35\\u0e49\", \"\\u0e19\\u0e2d\\u0e01\\u0e1a\\u0e49\\u0e32\\u0e19\", \"\\u0e1a\\u0e48\\u0e19\\u0e27\\u0e48\\u0e32\", \"\\u0e01\\u0e25\\u0e21\\u0e01\\u0e25\\u0e48\\u0e2d\\u0e21\", \"\\u0e27\\u0e31\\u0e19\\u0e2b\\u0e21\\u0e14\\u0e2d\\u0e32\\u0e22\\u0e38\", \"\\u0e44\\u0e21\\u0e48\", \"\\u0e1c\\u0e21\", \"\\u0e23\\u0e2a\", \"\\u0e0b\\u0e37\\u0e49\\u0e2d\", \"\\u0e2d\\u0e2d\", \"\\u0e01\\u0e34\\u0e19\", \"\\u0e2e\\u0e30\", \"//\", \"\\u0e1e\\u0e35\\u0e48\", \"\\u0e42\\u0e22\\u0e40\\u0e01\\u0e34\\u0e23\\u0e4c\\u0e15\", \"________________________________________________________\", \"\\u0e40\\u0e1e\\u0e25\\u0e07\", \"\\u0e01\\u0e25\\u0e49\\u0e32\", \"\\u0e2b\\u0e21\\u0e35\", \"\\u0e41\\u0e2a\\u0e15\\u0e21\\u0e1b\\u0e4c\", \"\\u0e0a\\u0e2d\\u0e1a\", \"\\u0e2d\\u0e23\\u0e48\\u0e2d\\u0e22\", \"\\u0e25\\u0e2d\\u0e07\", \"\\u0e40\\u0e04\\u0e49\\u0e32\", \"\\u0e14\\u0e35\", \"\\u0e2b\\u0e2d\\u0e21\", \"\\u0e44\\u0e14\\u0e49\", \"\\u0e23\\u0e2a\\u0e0a\\u0e32\\u0e15\\u0e34\", \"\\u0e01\\u0e34\\u0e19\\u0e19\\u0e21\", \"\\u0e18\\u0e23\\u0e23\\u0e21\\u0e0a\\u0e32\\u0e15\\u0e34\", \"\\u0e17\\u0e33\", \"\\u0e40\\u0e0b\\u0e40\\u0e27\\u0e48\\u0e19\", \"\\u0e19\\u0e49\\u0e2d\\u0e07\", \"\\u0e04\\u0e19\", \"\", \"\\u0e23\\u0e49\\u0e32\\u0e19\", \"\\u0e40\\u0e2b\\u0e21\\u0e37\\u0e2d\\u0e19\", \"\\u0e40\\u0e14\\u0e37\\u0e2d\\u0e19\", \"\\u0e40\\u0e19\\u0e37\\u0e49\\u0e2d\", \"\\u0e19\\u0e21\", \"\\u0e25\\u0e39\\u0e01\", \"\\u0e40\\u0e1e\\u0e37\\u0e48\\u0e2d\\u0e19\", \"\\u0e1a\\u0e49\\u0e32\\u0e19\", \"\\u0e43\\u0e2a\\u0e48\", \"\\u0e23\\u0e39\\u0e49\", \"\\u0e41\\u0e21\\u0e48\", \"\\u0e14\\u0e39\", \"\\u0e15\\u0e31\\u0e27\", \"\\u0e40\\u0e27\\u0e25\\u0e32\", \"\\u0e41\\u0e1c\\u0e25\", \"DHA\", \"\\u0e19\\u0e49\\u0e33\\u0e17\\u0e48\\u0e27\\u0e21\", \"\\u0e04\\u0e27\\u0e32\\u0e21\\u0e41\\u0e02\\u0e47\\u0e07\\u0e41\\u0e23\\u0e07\", \"\\u0e43\\u0e08\\u0e40\\u0e22\\u0e47\\u0e19\", \"pj\", \"\\u0e27\\u0e34\\u0e48\\u0e07\\u0e40\\u0e25\\u0e48\\u0e19\", \"\\u0e44\\u0e27\\u0e19\\u0e4c\", \"\\u0e1a\\u0e49\\u0e27\\u0e19\", \"\\u0e2b\\u0e21\\u0e31\\u0e48\\u0e19\\u0e44\\u0e2a\\u0e49\", \"\\u0e21\\u0e32\\u0e41\\u0e23\\u0e07\", \"\\u0e40\\u0e14\\u0e47\\u0e01\\u0e19\\u0e49\\u0e2d\\u0e22\", \"\\u0e23\\u0e48\\u0e2d\\u0e19\\u0e40\\u0e23\\u0e48\", \"\\u0e1e\\u0e40\\u0e19\\u0e08\\u0e23\", \"\\u0e04\\u0e38\\u0e49\\u0e19\\u0e40\\u0e04\\u0e22\", \"\\u0e1e\\u0e31\\u0e17\\u0e22\\u0e32\", \"Cream\", \"\\u0e19\\u0e32\\u0e23\\u0e32\", \"\\u0e25\\u0e36\\u0e01\\u0e0b\\u0e36\\u0e49\\u0e07\", \"family\", \"___\", \"\\u0e2d\\u0e36\", \"\\u0e23\\u0e30\\u0e1a\\u0e1a\\u0e1b\\u0e23\\u0e30\\u0e2a\\u0e32\\u0e17\", \"\\u0e01\\u0e31\\u0e0d\", \"\\u0e44\\u0e27\\u0e49\\u0e2b\\u0e19\\u0e49\\u0e32\", \"\\u0e2a\\u0e17\\u0e4c\", \"\\u0e15\\u0e23\\u0e36\\u0e21\", \"\\u0e22\\u0e37\\u0e14\\u0e15\\u0e31\\u0e27\", \"\\u0e2b\\u0e32\\u0e07\\u0e19\\u0e21\", \"\\u0e27\\u0e23\\u0e23\\u0e04\\u0e15\\u0e2d\\u0e19\", \"\\u0e08\\u0e32\\u0e19\\u0e0a\\u0e32\\u0e21\", \"\\u0e17\\u0e35\\u0e27\\u0e35\", \"\\u0e22\\u0e01\\u0e40\\u0e25\\u0e34\\u0e01\", \"\\u0e15\\u0e34\\u0e48\\u0e07\", \"\\u0e40\\u0e0a\\u0e34\\u0e07\", \"\\u0e01\\u0e32\\u0e23\\u0e01\\u0e23\\u0e30\\u0e17\\u0e33\", \"\\u0e2d\\u0e34\\u0e2a\\u0e23\\u0e30\", \"\\u0e21\\u0e35\\u0e25\\u0e39\\u0e01\", \"\", \"\\u0e17\\u0e49\\u0e2d\\u0e07\\u0e1c\\u0e39\\u0e01\", \"\\u0e15\\u0e37\\u0e48\\u0e19\\u0e40\\u0e15\\u0e49\\u0e19\", \"\\u0e44\\u0e21\\u0e48\", \"\\u0e2d\\u0e22\\u0e48\\u0e32\", \"\\u0e02\\u0e48\\u0e32\\u0e27\", \"\\u0e1e\\u0e24\\u0e2b\\u0e31\\u0e2a\", \"\\u0e04\\u0e19\", \"\\u0e40\\u0e27\\u0e25\\u0e32\", \"\\u0e01\\u0e34\\u0e19\", \"\\u0e19\\u0e2d\\u0e19\", \"\\u0e14\\u0e35\", \"\\u0e01\\u0e25\\u0e31\\u0e27\", \"\\u0e44\\u0e17\\u0e22\", \"\\u0e15\\u0e31\\u0e27\\u0e40\\u0e2d\\u0e07\", \"\\u0e19.\", \"\\u0e42\\u0e1b\\u0e23\\u0e15\\u0e35\\u0e19\", \"\\u0e44\\u0e14\\u0e49\", \"\\u0e40\\u0e08\\u0e21\\u0e2a\\u0e4c\", \"\\u0e08\\u0e48\\u0e32\\u0e22\", \"\\u0e2a\\u0e27\\u0e22\", \"\\u0e02\\u0e49\\u0e2d\\u0e04\\u0e27\\u0e32\\u0e21\", \"\\u0e1c\\u0e21\", \"\\u0e41\\u0e21\\u0e48\", \"\\u0e14\\u0e39\", \"\\u0e23\\u0e39\\u0e49\", \"\\u0e44\\u0e21\\u0e48\\u0e44\\u0e14\\u0e49\", \"\\u0e1b\\u0e35\", \"\\u0e1a\\u0e49\\u0e32\\u0e19\", \"\\u0e19\\u0e21\", \"\\u0e15\\u0e2d\\u0e19\", \"\\u0e17\\u0e33\", \"\\u0e02\\u0e2d\\u0e1a\\u0e04\\u0e38\\u0e13\", \"\\u0e15\\u0e31\\u0e27\", \"\\u0e0b\\u0e37\\u0e49\\u0e2d\", \"\\u0e40\\u0e23\\u0e37\\u0e48\\u0e2d\\u0e07\", \"\\u0e40\\u0e14\\u0e47\\u0e01\", \"\\u0e2d\\u0e23\\u0e48\\u0e2d\\u0e22\", \"\\u0e25\\u0e39\\u0e01\", \"\\u0e40\\u0e04\\u0e49\\u0e32\", \"\\u0e40\\u0e1a\\u0e35\\u0e49\\u0e22\\u0e27\", \"tvong\", \"\\u0e40\\u0e19\", \"\\u0e41\\u0e1e\\u0e17\", \"\\u0e23\\u0e39\\u0e1b\\u0e23\\u0e48\\u0e32\\u0e07\\u0e2b\\u0e19\\u0e49\\u0e32\\u0e15\\u0e32\", \"\\u0e44\\u0e2d\\u0e42\\u0e2d\\u0e14\\u0e35\\u0e19\", \"\\u0e2d\\u0e19\\u0e38\\u0e21\\u0e39\\u0e25\", \"\\u0e25\\u0e49\\u0e2d\\u0e40\\u0e25\\u0e48\\u0e19\", \"\\u0e42\\u0e01\\u0e25\\u0e14\\u0e4c\", \"yut-san\", \"\\u0e19\\u0e49\\u0e33\\u0e15\\u0e32\\u0e25\\u0e40\\u0e17\\u0e35\\u0e22\\u0e21\", \"\\u0e04\\u0e27\\u0e32\\u0e21\\u0e14\\u0e35\", \"\\u0e1c\\u0e25\\u0e31\\u0e14\\u0e01\\u0e31\\u0e19\", \"\\u0e19\\u0e2a\\u0e1e\", \"\\u0e23\\u0e31\\u0e48\\u0e27\", \"\\u0e2a\\u0e40\\u0e15\\u0e4a\\u0e01\", \"\\u0e40\\u0e2d\\u0e19\\u0e1f\\u0e32\\u0e42\\u0e01\\u0e23\", \"\\u0e15\\u0e34\\u0e0a\\u0e21\", \"\\u0e01\\u0e2d\\u0e1a\", \"\\u0e2a.\\u0e04.\", \"\\u0e1b\\u0e25\\u0e07\", \"\\u0e25\\u0e47\\u0e2d\\u0e01\\u0e2d\\u0e34\\u0e19\", \"\\u0e21\\u0e27\\u0e01\\u0e40\\u0e2b\\u0e25\\u0e47\\u0e01\", \"\\u0e2b\\u0e49\\u0e2d\\u0e07\\u0e17\\u0e33\\u0e07\\u0e32\\u0e19\", \"\\u0e2b\\u0e49\\u0e2d\\u0e07\\u0e04\\u0e23\\u0e31\\u0e27\", \"\\u0e43\\u0e2b\\u0e21\", \"\\u0e27\\u0e31\\u0e19\\u0e41\\u0e21\\u0e48\", \"Facebook\", \"Soy\", \"\\u0e1e\\u0e37\\u0e49\\u0e19\\u0e1a\\u0e49\\u0e32\\u0e19\", \"\\u0e44\\u0e27\\u0e17\\u0e4c\", \"id\", \"\\u0e2b\\u0e21\\u0e39\\u0e41\\u0e2e\\u0e21\", \"\\u0e40\\u0e1b\\u0e32\", \"\\u0e01\\u0e25\\u0e38\\u0e49\\u0e21\\u0e43\\u0e08\", \"\\u0e02\\u0e2d\\u0e1a\\u0e04\\u0e38\\u0e13\", \"\", \"Spoil\", \"\\u0e04\\u0e25\\u0e34\\u0e01\", \"\\u0e17\\u0e35\\u0e48\\u0e0b\\u0e48\\u0e2d\\u0e19\", \"\\u0e25\\u0e2d\\u0e19\", \"\\u0e19\\u0e21\", \"\\u0e21\\u0e36\\u0e19\", \"\\u0e1e\\u0e1a\\u0e01\\u0e31\\u0e19\", \"\\u0e04\\u0e25\\u0e31\\u0e1a\", \"\\u0e42\\u0e0a\\u0e04\\u0e0a\\u0e31\\u0e22\", \"\\u0e21\\u0e25.\", \"\\u0e19\\u0e49\\u0e33\\u0e15\\u0e32\\u0e25\", \"\\u0e40\\u0e01\\u0e29\\u0e15\\u0e23\", \"\\u0e04\\u0e39\\u0e1b\\u0e2d\\u0e07\", \"\\u0e2b\\u0e21\\u0e32\\u0e22\\u0e40\\u0e25\\u0e02\", \"bigc\", \"\\u0e01\\u0e23\\u0e30\\u0e1b\\u0e4b\\u0e2d\\u0e07\", \"\\u0e44\\u0e14\\u0e49\", \"\\u0e02\\u0e49\\u0e2d\\u0e04\\u0e27\\u0e32\\u0e21\", \"\\u0e01\\u0e25\\u0e48\\u0e2d\\u0e07\", \"\\u0e0b\\u0e37\\u0e49\\u0e2d\", \"\\u0e14\\u0e37\\u0e48\\u0e21\\u0e19\\u0e21\", \"\\u0e42\\u0e04\", \"\\u0e22\\u0e35\\u0e48\\u0e2b\\u0e49\\u0e2d\", \"\\u0e41\\u0e1e\\u0e47\\u0e04\", \"\\u0e15\\u0e23\\u0e32\", \"\\u0e19\\u0e21\\u0e2a\\u0e14\", \"\\u0e01\\u0e23\\u0e31\\u0e21\", \"\\u0e08\\u0e37\\u0e14\", \"\\u0e44\\u0e21\\u0e48\", \"\\u0e19\\u0e49\\u0e2d\\u0e07\", \"\\u0e01\\u0e34\\u0e19\", \"\\u0e19.\", \"\\u0e14\\u0e39\", \"\\u0e1c\\u0e2a\\u0e21\", \"\\u0e40\\u0e27\\u0e25\\u0e32\", \"\\u0e14\\u0e37\\u0e48\\u0e21\", \"\\u0e1c\\u0e21\", \"\\u0e2d\\u0e23\\u0e48\\u0e2d\\u0e22\", \"\\u0e2d\\u0e32\\u0e2b\\u0e32\\u0e23\", \"\\u0e02\\u0e27\\u0e14\", \"\\u0e43\\u0e2a\\u0e48\", \"\\u0e14\\u0e35\", \"\\u0e19\\u0e49\\u0e33\", \"\\u0e17\\u0e33\", \"\\u0e04\\u0e19\", \"\\u0e41\\u0e21\\u0e48\", \"\\u0e44\\u0e21\\u0e48\\u0e44\\u0e14\\u0e49\", \"\\u0e0a\\u0e2d\\u0e1a\", \"/?\", \"\\u0e02\\u0e32\\u0e14\\u0e44\\u0e21\\u0e48\\u0e44\\u0e14\\u0e49\", \"TOP\", \"\\u0e40\\u0e2b\\u0e25\\u0e37\\u0e2d\\u0e2d\\u0e22\\u0e39\\u0e48\", \"\\u0e14\\u0e34\\u0e2a\\u0e40\\u0e04\\u0e23\\u0e14\\u0e34\\u0e15\", \"shopat\", \"Express\", \"\\u0e15\\u0e38\", \"\\u0e40\\u0e2a\\u0e37\\u0e49\\u0e2d\\u0e22\\u0e37\\u0e14\", \"\\u0e04\\u0e48\\u0e32\\u0e41\\u0e23\\u0e07\", \"\\u0e04\\u0e25\\u0e2d\\u0e14\", \"\\u0e40\\u0e19\\u0e4a\", \"\\u0e42\\u0e14\\u0e4a\\u0e1b\", \"\\u0e2b\\u0e25\\u0e32\\u0e19\\u0e2a\\u0e32\\u0e27\", \"\\u0e1b\\u0e31\\u0e08\\u0e08\\u0e31\\u0e22\\u0e2a\\u0e33\\u0e04\\u0e31\\u0e0d\", \"Lotus\", \"\\u0e27\\u0e31\\u0e27\\u0e19\\u0e21\", \"\\u0e40\\u0e2a\\u0e35\\u0e22\\u0e0a\\u0e35\\u0e27\\u0e34\\u0e15\", \"search\", \"ms\", \"=%\", \"\\u0e01\\u0e23\\u0e30\\u0e40\\u0e1e\\u0e32\\u0e30\\u0e2d\\u0e32\\u0e2b\\u0e32\\u0e23\", \"\\u0e2d\\u0e35\\u0e49\", \"\\u0e2a\\u0e2d\\u0e14\\u0e2a\\u0e48\\u0e2d\\u0e07\", \"\\u0e1e\\u0e32\\u0e2b\\u0e38\\u0e23\\u0e31\\u0e14\", \"Ice\", \"\\u0e19\\u0e49\\u0e33\\u0e15\\u0e32\\u0e44\\u0e2b\\u0e25\", \"\\u0e23\\u0e2d.\", \"\\u0e15\\u0e48\\u0e32\\u0e07\\u0e41\\u0e14\\u0e19\", \"\\u0e21\\u0e32\\u0e40\\u0e25\\u0e40\\u0e0b\\u0e35\\u0e22\", \"\\u0e40\\u0e25\\u0e35\\u0e49\\u0e22\\u0e07\\u0e25\\u0e39\\u0e01\", \"\\u0e25\\u0e39\\u0e01\", \"\\u0e17\\u0e38\\u0e01\\u0e04\\u0e37\\u0e19\", \"\\u0e15\\u0e31\\u0e49\\u0e07\\u0e04\\u0e23\\u0e23\\u0e20\\u0e4c\", \"\\u0e01\\u0e32\\u0e23\\u0e4c\\u0e15\\u0e39\\u0e19\", \"\\u0e25\\u0e4c\\u0e14\", \"\\u0e1e\\u0e31\\u0e12\\u0e19\\u0e32\\u0e01\\u0e32\\u0e23\", \"\\u0e21\\u0e38\\u0e49\\u0e07\", \"\\u0e41\\u0e21\\u0e48\", \"\\u0e25\\u0e39\\u0e01\\u0e2a\\u0e32\\u0e27\", \"\\u0e04\\u0e27\\u0e32\\u0e21\\u0e23\\u0e31\\u0e01\", \"\\u0e17\\u0e32\\u0e19\", \"\\u0e1e\\u0e48\\u0e2d\\u0e41\\u0e21\\u0e48\", \"\\u0e23\\u0e39\\u0e49\", \"\\u0e2b\\u0e21\\u0e2d\", \"\\u0e41\\u0e04\\u0e25\\u0e40\\u0e0b\\u0e35\\u0e22\\u0e21\", \"\\u0e15\\u0e31\\u0e27\\u0e40\\u0e25\\u0e47\\u0e01\", \"\\u0e23\\u0e34\\u0e27\", \"\\u0e23\\u0e31\\u0e01\", \"\\u0e40\\u0e04\\u0e23\\u0e35\\u0e22\\u0e14\", \"\\u0e44\\u0e2b\\u0e21\", \"\\u0e44\\u0e21\\u0e48\", \"\\u0e01\\u0e34\\u0e19\", \"\\u0e44\\u0e14\\u0e49\", \"\\u0e40\\u0e14\\u0e47\\u0e01\", \"\\u0e41\\u0e02\\u0e47\\u0e07\\u0e41\\u0e23\\u0e07\", \"\\u0e04\\u0e19\", \"\\u0e21\\u0e37\\u0e49\\u0e2d\", \"\\u0e2a\\u0e32\\u0e23\\u0e2d\\u0e32\\u0e2b\\u0e32\\u0e23\", \"\\u0e23\\u0e48\\u0e32\\u0e07\\u0e01\\u0e32\\u0e22\", \"\\u0e02\\u0e27\\u0e1a\", \"\\u0e19\\u0e21\", \"\\u0e44\\u0e21\\u0e48\\u0e44\\u0e14\\u0e49\", \"\\u0e14\\u0e35\", \"\\u0e40\\u0e08\\u0e2d\", \"\\u0e2d\\u0e32\\u0e2b\\u0e32\\u0e23\", \"...\", \"\\u0e19\\u0e49\\u0e2d\\u0e07\", \"\", \"\\u0e15\\u0e2d\\u0e19\\u0e19\\u0e35\\u0e49\", \"\\u0e40\\u0e04\\u0e49\\u0e32\", \"\\u0e15\\u0e31\\u0e27\", \"\\u0e1a\\u0e49\\u0e32\\u0e19\", \"\\u0e14\\u0e39\", \"\\u0e40\\u0e23\\u0e37\\u0e48\\u0e2d\\u0e07\", \"\\u0e0a\\u0e2d\\u0e1a\", \"\\u0e0b\\u0e37\\u0e49\\u0e2d\", \"\\u0e17\\u0e33\", \"\\u0e1c\\u0e21\", \"\\u0e1e\\u0e39\\u0e14\\u0e04\\u0e38\\u0e22\", \"\\u0e15\\u0e30\\u0e27\\u0e31\\u0e19\", \"\\u0e1b\\u0e23\\u0e30\\u0e01\\u0e27\\u0e14\", \"\\u0e21\\u0e19\", \"\\u0e42\\u0e0b\\u0e1f\\u0e32\", \"\\u0e42\\u0e2d\\u0e22\", \"\\u0e1e\\u0e07\\u0e29\\u0e4c\", \"\\u0e27\\u0e2a\\u0e35\", \"\\u0e40\\u0e23\\u0e35\\u0e22\\u0e01\\u0e01\\u0e31\\u0e19\\u0e27\\u0e48\\u0e32\", \"\\u0e02\\u0e19\\u0e21\\u0e40\\u0e04\\u0e49\\u0e01\", \"\\u0e0a\\u0e37\\u0e48\\u0e19\\u0e43\\u0e08\", \"\\u0e04\\u0e23\\u0e1a\\u0e0a\\u0e38\\u0e14\", \"\\u0e2a\\u0e39\\u0e14\", \"free\", \"\\u0e1e\\u0e35\\u0e48\\u0e40\\u0e25\\u0e35\\u0e49\\u0e22\\u0e07\", \"\\u0e19\\u0e49\\u0e2d\\u0e22\\u0e43\\u0e08\", \"\\u0e25.\", \"American\", \"piak\", \"\\u0e04\\u0e27\\u0e32\\u0e21\\u0e04\\u0e37\\u0e1a\\u0e2b\\u0e19\\u0e49\\u0e32\", \"\\u0e2e\\u0e39\", \"\\u0e40\\u0e27\\u0e34\\u0e23\\u0e4c\\u0e01\", \"\\u0e17\\u0e38\\u0e01 \\u0e46\", \"\\u0e25\\u0e49\\u0e32\\u0e07\\u0e08\\u0e32\\u0e19\", \"\\u0e04\\u0e27\\u0e32\\u0e21\\u0e2a\\u0e19\\u0e43\\u0e08\", \"\\u0e19\\u0e47\\u0e2d\\u0e04\", \"\\u0e23\\u0e31\\u0e07\\u0e41\\u0e01\", \"^^\\\"\", \"\\u0e15\\u0e23\\u0e23\\u0e01\\u0e30\", \"\\u0e41\\u0e2a\\u0e14\\u0e07\\u0e16\\u0e36\\u0e07\", \"\\u0e40\\u0e0b\\u0e47\\u0e19\\u0e17\\u0e23\\u0e31\\u0e25\", \"\\u0e1b\\u0e25\\u0e32\\u0e17\\u0e39\", \"\\u0e27\\u0e38\\u0e49\\u0e19\", \"\\u0e14\\u0e34\\u0e09\\u0e31\\u0e19\", \"comment\", \"\\u0e01\\u0e23\\u0e30\\u0e15\\u0e34\\u0e01\", \"\\u0e42\\u0e2b\\u0e27\\u0e15\", \"it\", \"\\u0e41\\u0e0b\\u0e27\", \"\\u0e43\\u0e2a\\u0e48\", \"\\u0e25\\u0e30\\u0e25\\u0e32\\u0e22\", \"\\u0e19\\u0e49\\u0e33\\u0e1c\\u0e36\\u0e49\\u0e07\", \"\\u0e41\\u0e1b\\u0e49\\u0e07\", \"\\u0e02\\u0e27\\u0e14\\u0e19\\u0e21\", \"\\u0e2b\\u0e27\\u0e32\\u0e19\", \"\\u0e19\\u0e49\\u0e33\", \"\\u0e01\\u0e23\\u0e30\\u0e17\\u0e30\", \"\\u0e17\\u0e33\", \"\\u0e44\\u0e14\\u0e49\", \"\\u0e17\\u0e32\\u0e19\", \"\\u0e2d\\u0e38\\u0e48\\u0e19\", \"\\u0e44\\u0e21\\u0e48\", \"\", \"\\u0e19\\u0e49\\u0e33\\u0e15\\u0e32\\u0e25\", \"\\u0e25\\u0e39\\u0e01\\u0e04\\u0e49\\u0e32\", \"\\u0e40\\u0e17\", \"\\u0e19\\u0e21\", \"\\u0e41\\u0e21\\u0e48\", \"\\u0e04\\u0e19\", \"\\u0e21\\u0e32\\u0e21\\u0e48\\u0e32\", \"\\u0e1c\\u0e2a\\u0e21\", \"\\u0e41\\u0e01\\u0e49\\u0e27\", \"\\u0e0b\\u0e2d\\u0e2a\", \"\\u0e1c\\u0e07\", \"\\u0e44\\u0e21\\u0e48\\u0e44\\u0e14\\u0e49\", \"\\u0e40\\u0e1e\\u0e37\\u0e48\\u0e2d\\u0e19\", \"\\u0e15\\u0e2d\\u0e19\", \"\\u0e0b\\u0e37\\u0e49\\u0e2d\", \"\\u0e40\\u0e04\\u0e49\\u0e32\", \"\\u0e1c\\u0e21\", \"\\u0e14\\u0e35\", \"\\u0e0a\\u0e2d\\u0e1a\", \"\\u0e25\\u0e39\\u0e01\", \"\\u0e41\\u0e1a\\u0e1a\\u0e19\\u0e35\\u0e49\", \"\\u0e01\\u0e34\\u0e19\", \"\\u0e01\\u0e25\\u0e48\\u0e2d\\u0e07\", \"\\u0e1a\\u0e49\\u0e32\\u0e19\", \"\\u0e2d\\u0e2d\\u0e01\\u0e21\\u0e32\", \"\\u0e14\\u0e39\", \"\\u0e02\\u0e2d\\u0e1a\\u0e04\\u0e38\\u0e13\", \"\\u0e23\\u0e2a\", \"\\u0e40\\u0e2d\\u0e21\", \"\\u0e02\\u0e19\\u0e2a\\u0e48\\u0e07\", \"care\", \"\\u0e2a\\u0e34\\u0e49\\u0e19\\u0e40\\u0e14\\u0e37\\u0e2d\\u0e19\", \"\\u0e43\\u0e08\\u0e2b\\u0e32\\u0e22\", \"\\u0e17\\u0e31\\u0e49\\u0e07\\u0e1b\\u0e35\", \"\\u0e15\\u0e01\\u0e2b\\u0e19\\u0e31\\u0e01\", \"\\u0e40\\u0e0b\\u0e19\\u0e15\\u0e34\\u0e40\\u0e21\\u0e15\\u0e23\", \"\\u0e2a\\u0e38\", \"\\u0e17\\u0e35\\u0e48\\u0e44\\u0e2b\\u0e19\\u0e44\\u0e14\\u0e49\", \"\\u0e0a\\u0e33\\u0e23\\u0e30\\u0e40\\u0e07\\u0e34\\u0e19\", \"\\u0e04\\u0e2d\\u0e25\\u0e40\\u0e01\\u0e15\", \"\\u0e41\\u0e01\\u0e49\\u0e04\\u0e33\\u0e1c\\u0e34\\u0e14\", \"\\u0e22\\u0e32\\u0e19\", \"taxi\", \"\\u0e2a\\u0e34\\u0e07\\u0e2b\\u0e4c\", \"Farm\", \"\\u0e2b\\u0e19\\u0e34\", \"\\u0e42\\u0e0a\\u0e2b\\u0e48\\u0e27\\u0e22\", \"\\u0e40\\u0e2b\\u0e21\\u0e47\\u0e19\\u0e04\\u0e32\\u0e27\", \"copy\", \"\\u0e40\\u0e1a\\u0e2d\\u0e23\\u0e4c\\u0e42\\u0e17\\u0e23\\u0e28\\u0e31\\u0e1e\\u0e17\\u0e4c\", \"\\u0e08\\u0e38\\u0e14\\u0e1b\\u0e23\\u0e30\\u0e01\\u0e32\\u0e22\", \"\\u0e01\\u0e25\\u0e44\\u0e01\", \"1.10\", \"\\u0e04\\u0e49\\u0e30\", \"\\u0e1c\\u0e34\\u0e07\", \"\\u0e19\\u0e32\\u0e22\\u0e41\\u0e21\\u0e48\", \"MC\", \"\\u0e21\\u0e31\\u0e48\\u0e01\\u0e46\", \"\\u0e40\\u0e04\\u0e32\", \"[/\", \"\\u0e40\\u0e1b\\u0e34\\u0e14\\u0e40\\u0e17\\u0e2d\\u0e21\", \"\\u0e23\\u0e16\\u0e1a\\u0e31\\u0e2a\", \"\\u0e02\\u0e42\\u0e21\\u0e22\", \"\\u0e08\\u0e34\\u0e15\\u0e23\\u0e25\\u0e14\\u0e32\", \"\\u0e1b\\u0e23\\u0e30\\u0e01\\u0e32\\u0e28\", \"\\u0e22\\u0e39\\u0e40\\u0e2d\\u0e0a\\u0e17\\u0e35\", \"\\u0e44\\u0e17\\u0e22\\u0e40\\u0e14\\u0e19\\u0e21\\u0e32\\u0e23\\u0e4c\\u0e04\", \"\\u0e01\\u0e23\\u0e38\\u0e13\\u0e32\", \"\\u0e41\\u0e08\\u0e49\\u0e07\", \"\\u0e02\\u0e32\\u0e22\", \"\\u0e04\\u0e23\\u0e32\\u0e1a\", \"\\u0e23\\u0e2d\\u0e07\", \"\\u0e40\\u0e04\\u0e23\\u0e37\\u0e48\\u0e2d\\u0e07\\u0e40\\u0e17\\u0e28\", \"\\u0e19\\u0e21\", \"\\u0e43\\u0e2a\\u0e48\", \"\\u0e0b\\u0e37\\u0e49\\u0e2d\", \"\", \"\\u0e14\\u0e39\", \"\\u0e2b\\u0e19\\u0e2d\\u0e07\\u0e42\\u0e1e\", \"\\u0e44\\u0e21\\u0e48\", \"\\u0e19.\", \"\\u0e02\\u0e49\\u0e2d\\u0e04\\u0e27\\u0e32\\u0e21\", \"\\u0e1c\\u0e21\", \"\\u0e42\\u0e1f\\u0e23\\u0e4c\\u0e42\\u0e21\\u0e2a\\u0e15\\u0e4c\", \"\\u0e23\\u0e16\", \"\\u0e25\\u0e39\\u0e01\\u0e04\\u0e49\\u0e32\", \"\\u0e44\\u0e21\\u0e48\\u0e44\\u0e14\\u0e49\", \"\\u0e44\\u0e14\\u0e49\", \"\\u0e40\\u0e2b\\u0e21\\u0e37\\u0e2d\\u0e19\\u0e01\\u0e31\\u0e19\", \"\\u0e40\\u0e27\\u0e25\\u0e32\", \"\\u0e2d\\u0e23\\u0e48\\u0e2d\\u0e22\", \"\\u0e23\\u0e49\\u0e32\\u0e19\", \"\\u0e40\\u0e21\\u0e08\\u0e34\", \"\\u0e2b\\u0e32\", \"\\u0e16\\u0e38\\u0e07\", \"\\u0e0a\\u0e2d\\u0e1a\", \"\\u0e40\\u0e04\\u0e49\\u0e32\", \"\\u0e23\\u0e2a\", \"\\u0e17\\u0e33\", \"\\u0e25\\u0e2d\\u0e07\", \"\\u0e19\\u0e49\\u0e33\", \"\\u0e01\\u0e34\\u0e19\", \"\\u0e04\\u0e19\", \"\\u0e40\\u0e2b\\u0e21\\u0e37\\u0e2d\\u0e19\", \"\\u0e14\\u0e35\", \"\\u0e25\\u0e21\\u0e2b\\u0e32\\u0e22\\u0e43\\u0e08\", \"\\u0e01\\u0e23\\u0e23\\u0e21\", \"\\u0e40\\u0e25\\u0e21\\u0e2d\\u0e19\", \"\\u0e40\\u0e08\\u0e49\\u0e07\", \"\\u0e14\\u0e14\\u0e14\", \"\\u0e17\\u0e48\\u0e2d\\u0e19\", \"\\u0e01\\u0e46\", \"\\u0e01\\u0e47\\u0e0a\\u0e48\\u0e32\\u0e07\", \"\\u0e40\\u0e17\\u0e23\\u0e19\\u0e14\\u0e4c\", \"umm\", \"\\u0e2d\\u0e38\\u0e1a\\u0e32\\u0e17\\u0e27\\u0e4c\", \"\\u0e25\\u0e30\\u0e04\\u0e23\", \"\\u0e40\\u0e25\\u0e48\\u0e32\\u0e40\\u0e23\\u0e37\\u0e48\\u0e2d\\u0e07\", \"\\u0e21\\u0e35\\u0e2a\\u0e15\\u0e34\", \"\\u0e1a\\u0e32\\u0e14\", \"like\", \"\\u0e04\\u0e19\\u0e25\\u0e30\\u0e40\\u0e23\\u0e37\\u0e48\\u0e2d\\u0e07\", \"\\u0e22\\u0e49\\u0e32\\u0e22\\u0e1a\\u0e49\\u0e32\\u0e19\", \"Mill\", \"\\u0e1b\\u0e25\\u0e32\\u0e23\\u0e49\\u0e32\", \"\\u0e21\\u0e35\\u0e04\\u0e27\\u0e32\\u0e21\\u0e2b\\u0e21\\u0e32\\u0e22\", \"\\u0e04\\u0e48\\u0e32\\u0e02\\u0e19\\u0e2a\\u0e48\\u0e07\", \"\\u0e2b\\u0e32\\u0e22\\u0e19\\u0e30\", \"\\u0e40\\u0e19\\u0e35\\u0e22\\u0e21\", \"\\u0e23\\u0e32\\u0e0a\\u0e32\", \"\\u0e2a\\u0e31\\u0e07\\u0e40\\u0e01\\u0e15\\u0e40\\u0e2b\\u0e47\\u0e19\", \"\\u0e41\\u0e21\\u0e48\\u0e19\", \"\\u0e14\\u0e23\", \"Green\", \"\\u0e40\\u0e14\\u0e47\\u0e01\\u0e1c\\u0e39\\u0e49\\u0e0a\\u0e32\\u0e22\", \"\\u0e40\\u0e1e\\u0e37\\u0e48\\u0e2d\\u0e19\\u0e2a\\u0e19\\u0e34\\u0e17\", \"\\u0e40\\u0e2a\\u0e35\\u0e22\\u0e2a\\u0e25\\u0e30\", \"\\u0e21\\u0e35\\u0e02\\u0e49\\u0e2d\\u0e41\\u0e21\\u0e49\", \"\\u0e15\\u0e48\\u0e2d\\u0e2b\\u0e19\\u0e49\\u0e32\", \"\\u0e0b\\u0e37\\u0e48\\u0e2d\\u0e2a\\u0e31\\u0e15\\u0e22\\u0e4c\", \"\\u0e1e\\u0e23\\u0e35\\u0e40\\u0e0b\\u0e19\\u0e40\\u0e15\\u0e2d\\u0e23\\u0e4c\", \"\\u0e2d\\u0e32\\u0e2a\\u0e32\", \"\\u0e19\\u0e48\\u0e32\\u0e01\\u0e34\\u0e19\", \"\\u0e40\\u0e21\\u0e32\", \"\\u0e14\\u0e2d\\u0e01\", \"\\u0e40\\u0e2b\\u0e25\\u0e49\\u0e32\", \"\\u0e44\\u0e14\\u0e49\", \"\\u0e01\\u0e34\\u0e19\", \"\\u0e44\\u0e21\\u0e48\\u0e44\\u0e14\\u0e49\", \"milk\", \"\\u0e19\\u0e49\\u0e2d\\u0e07\\u0e46\", \"\\u0e44\\u0e21\\u0e48\", \"\\u0e40\\u0e21\\u0e08\\u0e34\", \"\\u0e19\\u0e21\", \"\\u0e0a\\u0e2d\\u0e1a\", \"\\u0e23\\u0e34\\u0e27\", \"\\u0e40\\u0e0a\\u0e47\\u0e04\", \"\\u0e17\\u0e33\", \"\\u0e14\\u0e35\", \"\\u0e25\\u0e2d\\u0e07\", \"\\u0e40\\u0e14\\u0e47\\u0e01\", \"\\u0e40\\u0e25\\u0e37\\u0e2d\\u0e01\", \"\\u0e2d\\u0e23\\u0e48\\u0e2d\\u0e22\", \"\\u0e0a\\u0e35\\u0e27\\u0e34\\u0e15\", \"\\u0e25\\u0e39\\u0e01\", \"\\u0e23\\u0e39\\u0e49\", \"\\u0e17\\u0e49\\u0e2d\\u0e07\", \"\\u0e40\\u0e04\\u0e49\\u0e32\", \"\\u0e21\\u0e32\\u0e08\\u0e32\\u0e01\", \"\\u0e04\\u0e19\", \"\\u0e41\\u0e21\\u0e48\", \"\\u0e40\\u0e23\\u0e37\\u0e48\\u0e2d\\u0e07\", \"\\u0e40\\u0e1e\\u0e37\\u0e48\\u0e2d\\u0e19\", \"...\", \"\\u0e01\\u0e25\\u0e34\\u0e48\\u0e19\", \"\\u0e15\\u0e31\\u0e27\", \"\\u0e40\\u0e27\\u0e25\\u0e32\", \"\\u0e2d\\u0e32\\u0e2b\\u0e32\\u0e23\", \"\\u0e43\\u0e2a\\u0e48\", \"\\u0e1c\\u0e21\", \"\\u0e0b\\u0e37\\u0e49\\u0e2d\", \"\", \"\\u0e40\\u0e2b\\u0e21\\u0e37\\u0e2d\\u0e19\", \"\\u0e17\\u0e32\\u0e19\", \"\\u0e1a\\u0e49\\u0e32\\u0e19\", \"\\u0e21\\u0e2b\\u0e31\\u0e28\\u0e08\\u0e23\\u0e23\\u0e22\\u0e4c\", \"know\", \"foremost\", \"\\u0e15\\u0e33\", \"\\u0e2a\\u0e41\\u0e01\\u0e19\", \"NAGOYA\", \"\\u0e40\\u0e25\\u0e47\\u0e15\", \"\\u0e04\\u0e07\", \"\\u0e2a\\u0e21\\u0e19\\u0e49\\u0e33\\u0e2b\\u0e19\\u0e49\\u0e32\", \"\\u0e2e\\u0e2d\\u0e25\", \"\\u0e2b\\u0e25\\u0e31\\u0e07\\u0e1a\\u0e49\\u0e32\\u0e19\", \"\\u0e2b\\u0e25\\u0e48\\u0e2d\\u0e19\", \"\\u0e25\\u0e32\\u0e14\\u0e1e\\u0e23\\u0e49\\u0e32\\u0e27\", \"Enfa\", \"\\u0e0a\\u0e49\\u0e2d\\u0e1b\", \"\\u0e41\\u0e01\\u0e25\\u0e49\\u0e21\", \"\\u0e01\\u0e23\\u0e30\\u0e40\\u0e14\\u0e47\\u0e19\", \"\\u0e2d\\u0e4a\\u0e32\", \"\\u0e04\\u0e32\\u0e22\\u0e17\\u0e34\\u0e49\\u0e07\", \"\\u0e41\\u0e17\\u0e23\\u0e01\\u0e15\\u0e31\\u0e27\", \"\\u0e25\\u0e31\\u0e14\", \"Yolida\", \"\\u0e40\\u0e21\\u0e29\\u0e32\", \"\\u0e1e\\u0e23\\u0e48\\u0e2d\\u0e07\", \"\\u0e42\\u0e1b\\u0e23\\u0e44\\u0e1f\\u0e25\\u0e4c\", \"\\u0e16\\u0e31\\u0e14\\u0e08\\u0e32\\u0e01\", \"\\u0e15\\u0e23\\u0e07\\u0e1b\\u0e23\\u0e30\\u0e40\\u0e14\\u0e47\\u0e19\", \"link\", \"\\u0e2d\\u0e34\\u0e19\\u0e40\\u0e15\\u0e2d\\u0e23\\u0e4c\", \"Hi\", \"\\u0e40\\u0e19\\u0e2a\", \"\\u0e22\\u0e34\\u0e19\", \"so\", \"\\u0e40\\u0e19\\u0e47\\u0e17\", \"\\u0e41\\u0e25\\u0e49\\u0e27\", \"\\u0e20\\u0e39\", \"\\u0e41\\u0e07\", \"\\u0e15\\u0e34\\u0e4a\\u0e01\", \"\\u0e1c\\u0e21\", \"\\u0e25\\u0e2d\\u0e07\", \"\\u0e14\\u0e39\", \"\\u0e02\\u0e2d\\u0e1a\\u0e04\\u0e38\\u0e13\", \"\\u0e19\\u0e21\", \"\\u0e21\\u0e31\\u0e48\\u0e07\", \"\\u0e40\\u0e14\\u0e35\\u0e4b\\u0e22\\u0e27\", \"\\u0e28\\u0e23\\u0e35\", \"\\u0e44\\u0e14\\u0e49\", \"\\u0e44\\u0e21\\u0e48\", \"\\u0e14\\u0e37\\u0e48\\u0e21\", \"\\u0e04\\u0e48\\u0e32\", \"\\u0e01\\u0e25\\u0e48\\u0e2d\\u0e07\", \"\\u0e44\\u0e2d\\u0e15\\u0e34\\u0e21\", \"..\", \"\", \"\\u0e40\\u0e25\\u0e48\\u0e19\", \"\\u0e2e\\u0e30\", \"\\u0e15\\u0e2d\\u0e19\", \"\\u0e01\\u0e34\\u0e19\", \"\\u0e0b\\u0e37\\u0e49\\u0e2d\", \"\\u0e17\\u0e32\\u0e19\", \"\\u0e17\\u0e33\", \"\\u0e40\\u0e04\\u0e49\\u0e32\", \"\\u0e23\\u0e39\\u0e1b\", \"\\u0e44\\u0e21\\u0e48\\u0e44\\u0e14\\u0e49\", \"\\u0e22\\u0e35\\u0e48\\u0e2b\\u0e49\\u0e2d\", \"\\u0e23\\u0e2a\", \"\\u0e1a\\u0e49\\u0e32\\u0e19\", \"\\u0e40\\u0e21\\u0e08\\u0e34\", \"\\u0e42\\u0e1f\\u0e23\\u0e4c\\u0e42\\u0e21\\u0e2a\\u0e15\\u0e4c\", \"\\u0e40\\u0e0b\\u0e40\\u0e27\\u0e48\\u0e19\", \"\\u0e04\\u0e19\", \"\\u0e25\\u0e39\\u0e01\", \"\\u0e2d\\u0e32\\u0e2b\\u0e32\\u0e23\", \"\\u0e0a\\u0e2d\\u0e1a\", \"\\u0e0b\\u0e31\\u0e19\", \"\\u0e40\\u0e1b\\u0e25\\u0e35\\u0e48\\u0e22\\u0e19\\u0e43\\u0e08\", \"\\u0e40\\u0e25\\u0e35\\u0e49\\u0e22\\u0e07\\u0e40\\u0e14\\u0e47\\u0e01\", \"\\u0e43\\u0e08\\u0e23\\u0e49\\u0e2d\\u0e19\", \"hello\", \"\\u0e1b\\u0e38\\u0e49\\u0e1a\", \"\\u0e1b\\u0e30\\u0e41\\u0e25\\u0e48\\u0e21\", \"momonja\", \"\\u0e44\\u0e19\", \"\\u0e01\\u0e32\\u0e23\\u0e04\\u0e19\", \"\\u0e2b\\u0e27\\u0e30\", \"\\u0e0d\\u0e32\\u0e13\", \"\\u0e40\\u0e08\\u0e35\\u0e22\\u0e23\", \"or\", \"\\u0e1e\\u0e48\\u0e2d\\u0e1a\\u0e49\\u0e32\\u0e19\", \"\\u0e22\\u0e49\\u0e2d\\u0e22\", \"\\u0e40\\u0e01\\u0e34\\u0e23\\u0e15\\u0e4c\", \"\\u0e1e.\\u0e22.\", \"tul\", \"\\u0e02\\u0e49\\u0e32\\u0e27\\u0e2d\\u0e1a\", \"\\u0e01\\u0e23\\u0e30\\u0e08\\u0e48\\u0e32\\u0e07\", \"\\u0e2d\\u0e22\\u0e48\\u0e32\\u0e07\\u0e43\\u0e14\\u0e2d\\u0e22\\u0e48\\u0e32\\u0e07\\u0e2b\\u0e19\\u0e36\\u0e48\\u0e07\", \"am\", \"\\u0e1a\\u0e32\\u0e1a\\u0e35\", \"\\u0e40\\u0e2d\\u0e32\\u0e44\\u0e21\\u0e48\\u0e2d\\u0e22\\u0e39\\u0e48\", \"\\u0e40\\u0e01\\u0e34\\u0e23\\u0e15\", \"\\u0e27\\u0e32\\u0e27\", \"\\u0e2a\\u0e01\", \"\\u0e19\\u0e28.\", \"\\u0e22\\u0e32\\u0e04\\u0e39\", \"\\u0e40\\u0e01\\u0e47\\u0e15\\u0e15\\u0e35\\u0e49\", \"\\u0e41\\u0e14\\u0e23\\u0e35\\u0e48\\u0e42\\u0e2e\\u0e21\", \"''\", \"\\u0e40\\u0e19\\u0e35\\u0e49\\u0e22\\u0e30\", \"\\u0e2a\\u0e48\\u0e27\\u0e19\\u0e25\\u0e14\", \"\\u0e04\\u0e39\\u0e1b\\u0e2d\\u0e07\", \"\\u0e22\\u0e01\\u0e21\\u0e37\\u0e2d\", \"\\u0e40\\u0e2d\\u0e32\\u0e43\\u0e08\\u0e0a\\u0e48\\u0e27\\u0e22\", \"\\u0e2b\\u0e19\\u0e31\\u0e07\\u0e2a\\u0e37\\u0e2d\\u0e1e\\u0e34\\u0e21\\u0e1e\\u0e4c\", \"\\u0e0a\\u0e2d\\u0e1a\", \"\\u0e19\\u0e2a\\u0e1e.\", \"--\", \"\\u0e1e\\u0e32\\u0e22\", \"\", \"\\u0e40\\u0e02\\u0e35\\u0e22\\u0e27\", \"\\u0e41\\u0e1e\\u0e47\\u0e04\", \"\\u0e40\\u0e0a\\u0e35\\u0e22\\u0e23\\u0e4c\", \"\\u0e40\\u0e2b\\u0e21\\u0e37\\u0e2d\\u0e19\\u0e01\\u0e31\\u0e19\", \"\\u0e2d\\u0e23\\u0e48\\u0e2d\\u0e22\", \"\\u0e23\\u0e2a\", \"\\u0e40\\u0e21\\u0e08\\u0e34\", \"\\u0e1f\\u0e32\\u0e23\\u0e4c\\u0e21\", \"\\u0e01\\u0e34\\u0e19\", \"\\u0e44\\u0e21\\u0e48\", \"\\u0e1a\\u0e49\\u0e32\\u0e19\", \"\\u0e23\\u0e39\\u0e49\\u0e2a\\u0e36\\u0e01\", \"\\u0e41\\u0e16\\u0e27\", \"lotus\", \"\\u0e04\\u0e19\", \"\\u0e16\\u0e38\\u0e07\", \"\\u0e44\\u0e14\\u0e49\", \"\\u0e44\\u0e21\\u0e48\\u0e44\\u0e14\\u0e49\", \"\\u0e14\\u0e37\\u0e48\\u0e21\", \"\\u0e2b\\u0e27\\u0e32\\u0e19\", \"\\u0e41\\u0e01\\u0e49\\u0e27\", \"\\u0e19\\u0e21\", \"\\u0e0b\\u0e37\\u0e49\\u0e2d\", \"\\u0e14\\u0e35\", \"\\u0e01\\u0e23\\u0e31\\u0e21\", \"\\u0e2d\\u0e32\\u0e2b\\u0e32\\u0e23\", \"\\u0e40\\u0e27\\u0e25\\u0e32\", \"\\u0e1c\\u0e21\", \"\\u0e40\\u0e04\\u0e49\\u0e32\", \"...\", \"\\u0e02\\u0e32\\u0e22\"], \"Total\": [5903.0, 2041.0, 1522.0, 1861.0, 2492.0, 2849.0, 4148.0, 1011.0, 3896.0, 987.0, 1103.0, 849.0, 1090.0, 238.0, 1139.0, 965.0, 869.0, 7571.0, 1249.0, 662.0, 544.0, 138.0, 1813.0, 1419.0, 971.0, 441.0, 604.0, 838.0, 199.0, 109.0, 16.59743881225586, 16.190824508666992, 23.994455337524414, 13.54960823059082, 12.074288368225098, 11.833122253417969, 9.015945434570312, 10.540515899658203, 9.023290634155273, 8.931957244873047, 7.536108016967773, 7.507288932800293, 7.473282337188721, 14.084070205688477, 9.078140258789062, 5.980443000793457, 5.982021331787109, 5.96530294418335, 5.938560485839844, 7.371284008026123, 8.048005104064941, 17.492036819458008, 8.072120666503906, 7.026570796966553, 9.535232543945312, 13.008585929870605, 11.957839965820312, 33.23240280151367, 12.193194389343262, 4.997452735900879, 987.1399536132812, 48.12192916870117, 20.31121063232422, 51.24017333984375, 27.875394821166992, 18.697187423706055, 18.991037368774414, 91.74110412597656, 43.80341720581055, 7571.021484375, 2492.35888671875, 869.6054077148438, 1813.974365234375, 136.4440460205078, 3896.6533203125, 227.66897583007812, 105.01607513427734, 468.5204772949219, 344.07330322265625, 68.79167938232422, 57.904605865478516, 103.25456237792969, 235.73587036132812, 36.344661712646484, 1522.0750732421875, 1090.425048828125, 965.5817260742188, 1027.558837890625, 1598.8289794921875, 287.16070556640625, 4148.8125, 466.81817626953125, 382.40594482421875, 213.4363555908203, 1419.9007568359375, 269.6194763183594, 689.212158203125, 1895.7674560546875, 5903.634765625, 602.3753051757812, 713.8817749023438, 399.3335876464844, 270.930419921875, 2849.082763671875, 2041.8948974609375, 592.234375, 838.6484375, 1103.392333984375, 971.6746826171875, 1861.255126953125, 1139.1597900390625, 682.0022583007812, 1076.6888427734375, 36.34920120239258, 21.20232582092285, 13.979805946350098, 12.643372535705566, 12.54630184173584, 11.102437019348145, 11.067566871643066, 10.835695266723633, 9.476153373718262, 9.446890830993652, 9.433424949645996, 17.27318572998047, 7.901587963104248, 7.900566101074219, 7.86364221572876, 7.8423614501953125, 7.81731653213501, 10.96982479095459, 7.422276496887207, 8.437851905822754, 14.766810417175293, 76.44525146484375, 15.739468574523926, 6.293436050415039, 6.292844772338867, 6.286978244781494, 6.286725997924805, 9.428987503051758, 6.268283367156982, 6.262658596038818, 86.31396484375, 34.203041076660156, 30.815170288085938, 50.503299713134766, 21.150733947753906, 19.238632202148438, 24.39967918395996, 126.07120513916016, 5903.634765625, 28.820409774780273, 27.840599060058594, 7571.021484375, 316.0188293457031, 130.86598205566406, 29.601919174194336, 1895.7674560546875, 1076.6888427734375, 3896.6533203125, 339.6103515625, 1598.8289794921875, 311.4212951660156, 351.5634765625, 403.27349853515625, 664.6041870117188, 355.3975524902344, 4148.8125, 107.52416229248047, 170.89703369140625, 314.3739318847656, 539.6673583984375, 2492.35888671875, 1861.255126953125, 1139.1597900390625, 971.6746826171875, 1249.142333984375, 416.2080078125, 838.6484375, 2849.082763671875, 664.095947265625, 1419.9007568359375, 1011.8974609375, 682.0022583007812, 1813.974365234375, 719.861572265625, 705.137451171875, 1090.425048828125, 2041.8948974609375, 1027.558837890625, 12.437528610229492, 13.9751615524292, 10.666823387145996, 7.730556011199951, 7.609396457672119, 7.588459014892578, 9.182592391967773, 7.603085994720459, 29.235849380493164, 6.197131633758545, 6.198769569396973, 8.291823387145996, 5.966775894165039, 6.151467323303223, 9.8092622756958, 5.967601776123047, 8.228841781616211, 6.172401428222656, 4.625312328338623, 4.624548435211182, 4.623739719390869, 4.620827674865723, 4.615475177764893, 4.604354381561279, 4.507869720458984, 4.507992744445801, 4.502169132232666, 4.602490425109863, 4.449019908905029, 5.091188430786133, 46.96868133544922, 16.458059310913086, 7.137643337249756, 30.884458541870117, 6.691610813140869, 1011.8974609375, 5903.634765625, 67.35629272460938, 75.46509552001953, 67.20208740234375, 30.985265731811523, 2849.082763671875, 13.678452491760254, 27.287317276000977, 13.238361358642578, 159.62652587890625, 106.25869750976562, 526.578369140625, 26.64286994934082, 238.76409912109375, 31.413185119628906, 53.879234313964844, 132.57174682617188, 4148.8125, 539.6673583984375, 604.8041381835938, 1813.974365234375, 166.89572143554688, 257.33251953125, 607.0537109375, 110.30858612060547, 190.5126953125, 380.52471923828125, 283.12933349609375, 304.18792724609375, 7571.021484375, 689.212158203125, 3896.6533203125, 664.6041870117188, 1139.1597900390625, 418.9533386230469, 1076.6888427734375, 441.41119384765625, 2492.35888671875, 1090.425048828125, 638.9674682617188, 473.58807373046875, 1103.392333984375, 1598.8289794921875, 541.5263671875, 1419.9007568359375, 1895.7674560546875, 1861.255126953125, 1249.142333984375, 1522.0750732421875, 11.349936485290527, 9.626016616821289, 9.560843467712402, 9.613199234008789, 10.308283805847168, 8.715505599975586, 8.093698501586914, 8.070674896240234, 7.9258575439453125, 7.995302677154541, 109.44678497314453, 6.458465576171875, 6.457066059112549, 6.456632137298584, 6.44769287109375, 6.418781757354736, 6.213476657867432, 10.16165542602539, 4.8217010498046875, 4.8215742111206055, 4.821288108825684, 4.80479621887207, 4.753314018249512, 4.7976531982421875, 4.723165035247803, 4.624025821685791, 8.573480606079102, 4.631907939910889, 6.927229881286621, 4.753671646118164, 91.40099334716797, 2041.8948974609375, 15.228374481201172, 24.151906967163086, 15.611845970153809, 13.272379875183105, 76.45681762695312, 11.75784683227539, 1861.255126953125, 118.15860748291016, 118.7897720336914, 849.46142578125, 105.58824920654297, 971.6746826171875, 204.53988647460938, 107.96505737304688, 74.22330474853516, 52.24364471435547, 323.5221252441406, 46.263404846191406, 361.85772705078125, 7571.021484375, 3896.6533203125, 4148.8125, 705.137451171875, 138.96739196777344, 1895.7674560546875, 232.50161743164062, 201.30201721191406, 300.1295471191406, 181.44064331054688, 2849.082763671875, 1249.142333984375, 1598.8289794921875, 529.0362548828125, 638.9674682617188, 636.09130859375, 689.212158203125, 5903.634765625, 514.1097412109375, 1027.558837890625, 682.0022583007812, 838.6484375, 1139.1597900390625, 719.861572265625, 1522.0750732421875, 1813.974365234375, 1419.9007568359375, 2492.35888671875, 21.371932983398438, 12.925155639648438, 12.656760215759277, 11.503533363342285, 11.335625648498535, 10.070960998535156, 9.918729782104492, 8.570871353149414, 8.542656898498535, 8.458966255187988, 14.512310028076172, 7.11958646774292, 7.046727180480957, 7.189748287200928, 8.531254768371582, 7.0433030128479, 9.829404830932617, 6.26513671875, 5.766722679138184, 5.740942478179932, 7.207988739013672, 8.373395919799805, 7.108447074890137, 7.730095863342285, 4.82186222076416, 4.313661575317383, 4.200491428375244, 4.213935852050781, 4.285423278808594, 4.332157135009766, 19.56306266784668, 14.553053855895996, 53.77822494506836, 199.24252319335938, 7.659054279327393, 8.23908519744873, 34.307865142822266, 20.697675704956055, 24.759267807006836, 1103.392333984375, 94.02091979980469, 69.88568878173828, 228.53607177734375, 40.110198974609375, 457.7769470214844, 541.5263671875, 33.08689498901367, 1419.9007568359375, 4148.8125, 849.46142578125, 87.01911163330078, 7571.021484375, 5903.634765625, 526.578369140625, 201.702880859375, 207.57589721679688, 2849.082763671875, 1861.255126953125, 1895.7674560546875, 146.9023895263672, 418.9533386230469, 310.50811767578125, 106.25198364257812, 124.08927917480469, 1249.142333984375, 592.234375, 664.095947265625, 1813.974365234375, 1027.558837890625, 2492.35888671875, 1598.8289794921875, 1522.0750732421875, 2041.8948974609375, 508.8199462890625, 3896.6533203125, 604.8041381835938, 838.6484375, 416.2529602050781, 1139.1597900390625, 1011.8974609375, 869.6054077148438, 61.900054931640625, 17.975862503051758, 8.95527172088623, 8.919587135314941, 8.867720603942871, 7.512757778167725, 7.44012975692749, 10.39484977722168, 6.1891255378723145, 5.965086936950684, 5.949130058288574, 5.9408063888549805, 5.991823673248291, 5.610136985778809, 7.421994686126709, 8.036216735839844, 5.006983280181885, 5.901983261108398, 4.49326229095459, 4.47967529296875, 4.4754486083984375, 4.468560218811035, 4.441893577575684, 4.4741010665893555, 4.4312849044799805, 9.534819602966309, 4.395613193511963, 4.361272811889648, 6.487840175628662, 6.987856864929199, 20.61905860900879, 14.03535270690918, 10.078097343444824, 7.317923545837402, 19.02574348449707, 124.51590728759766, 20.363121032714844, 22.952146530151367, 221.07205200195312, 8.605688095092773, 142.99681091308594, 524.0044555664062, 39.80074691772461, 65.64089965820312, 29.82729148864746, 2849.082763671875, 1103.392333984375, 1813.974365234375, 5903.634765625, 1139.1597900390625, 150.0560302734375, 7571.021484375, 664.6041870117188, 539.6673583984375, 2492.35888671875, 358.8504333496094, 197.53158569335938, 201.702880859375, 1249.142333984375, 4148.8125, 662.8221435546875, 1076.6888427734375, 1090.425048828125, 602.3753051757812, 544.1397094726562, 543.995361328125, 210.32044982910156, 1522.0750732421875, 1027.558837890625, 869.6054077148438, 1419.9007568359375, 965.5817260742188, 541.5263671875, 3896.6533203125, 1895.7674560546875, 713.8817749023438, 1598.8289794921875, 20.152423858642578, 16.18059730529785, 10.687161445617676, 8.992533683776855, 8.9647216796875, 8.922898292541504, 7.688978672027588, 7.552809715270996, 12.821702003479004, 6.460610389709473, 5.585299968719482, 22.963003158569336, 5.157340049743652, 5.148950099945068, 5.1291728019714355, 5.122942924499512, 5.066747188568115, 5.123083114624023, 8.965843200683594, 11.892885208129883, 9.000360488891602, 5.207590579986572, 3.92686128616333, 3.917609214782715, 3.8989510536193848, 3.8924994468688965, 3.8849356174468994, 3.8844690322875977, 3.874634027481079, 3.869642496109009, 14.622064590454102, 17.058975219726562, 7.6760663986206055, 7.757277965545654, 6.918717861175537, 11.183186531066895, 10.421796798706055, 58.67341995239258, 34.43553924560547, 17.483959197998047, 127.67823028564453, 4148.8125, 3896.6533203125, 1249.142333984375, 37.83756637573242, 76.05406188964844, 7571.021484375, 544.1397094726562, 2849.082763671875, 1522.0750732421875, 52.24364471435547, 93.71492004394531, 1419.9007568359375, 1598.8289794921875, 965.5817260742188, 705.137451171875, 448.5740661621094, 1090.425048828125, 241.50352478027344, 2041.8948974609375, 971.6746826171875, 226.1168975830078, 1027.558837890625, 204.637939453125, 1895.7674560546875, 1861.255126953125, 719.861572265625, 592.234375, 636.09130859375, 241.95773315429688, 682.0022583007812, 1076.6888427734375, 638.9674682617188, 1103.392333984375, 2492.35888671875, 1813.974365234375, 5903.634765625, 713.8817749023438, 849.46142578125, 838.6484375, 10.430519104003906, 9.433073997497559, 7.034885406494141, 9.483030319213867, 6.8030595779418945, 10.000839233398438, 5.915256977081299, 12.063438415527344, 5.894276142120361, 5.868510723114014, 4.761940002441406, 5.934330940246582, 6.496220588684082, 4.8626179695129395, 14.738219261169434, 3.638726234436035, 3.630797863006592, 3.6196534633636475, 3.5796382427215576, 3.575786590576172, 3.4621973037719727, 3.5909900665283203, 3.677067995071411, 5.389276504516602, 2.910400867462158, 3.5842161178588867, 3.695906639099121, 4.162361145019531, 6.17825984954834, 3.734219551086426, 22.960968017578125, 15.888525009155273, 5.294895172119141, 11.35824966430664, 37.758445739746094, 27.39104461669922, 12.069062232971191, 33.77131271362305, 2492.35888671875, 965.5817260742188, 1139.1597900390625, 1011.8974609375, 2849.082763671875, 55.64810562133789, 193.99822998046875, 14.596179008483887, 4148.8125, 7571.021484375, 441.41119384765625, 268.8081359863281, 604.8041381835938, 91.84703063964844, 406.6881408691406, 5903.634765625, 441.58929443359375, 227.66897583007812, 664.095947265625, 3896.6533203125, 1813.974365234375, 849.46142578125, 1419.9007568359375, 1027.558837890625, 280.7493896484375, 1249.142333984375, 607.0537109375, 869.6054077148438, 838.6484375, 544.1397094726562, 358.8504333496094, 269.6194763183594, 1895.7674560546875, 2041.8948974609375, 638.9674682617188, 1522.0750732421875, 10.070868492126465, 8.297931671142578, 7.32294225692749, 6.175047397613525, 5.145687580108643, 5.0379462242126465, 6.389347076416016, 8.25447940826416, 6.418408393859863, 3.8196680545806885, 3.7448246479034424, 3.8963751792907715, 3.8530237674713135, 3.7829017639160156, 3.591729164123535, 3.5562472343444824, 5.179361343383789, 5.694326400756836, 7.116057395935059, 3.8326549530029297, 10.251568794250488, 4.445529937744141, 2.629673480987549, 2.6292662620544434, 2.6272146701812744, 2.6234686374664307, 2.621020555496216, 2.620654582977295, 2.616701126098633, 2.6045498847961426, 17.277170181274414, 72.6996078491211, 8.424904823303223, 4.369545936584473, 138.07908630371094, 238.76409912109375, 16.989837646484375, 10.399796485900879, 14.76311206817627, 1522.0750732421875, 28.159040451049805, 46.58646774291992, 39.508270263671875, 5903.634765625, 107.83661651611328, 110.30858612060547, 22.66254425048828, 662.8221435546875, 1090.425048828125, 869.6054077148438, 544.1397094726562, 143.8081512451172, 3896.6533203125, 7571.021484375, 838.6484375, 424.2911376953125, 179.13880920410156, 124.6611557006836, 1895.7674560546875, 210.32044982910156, 4148.8125, 1249.142333984375, 441.41119384765625, 457.7769470214844, 310.50811767578125, 2849.082763671875, 1813.974365234375, 1598.8289794921875, 283.12933349609375, 638.9674682617188, 1076.6888427734375, 2492.35888671875, 1027.558837890625, 636.09130859375, 524.0044555664062], \"loglift\": [30.0, 29.0, 28.0, 27.0, 26.0, 25.0, 24.0, 23.0, 22.0, 21.0, 20.0, 19.0, 18.0, 17.0, 16.0, 15.0, 14.0, 13.0, 12.0, 11.0, 10.0, 9.0, 8.0, 7.0, 6.0, 5.0, 4.0, 3.0, 2.0, 1.0, 1.4056999683380127, 1.4045000076293945, 1.3966000080108643, 1.3939000368118286, 1.3860000371932983, 1.3839000463485718, 1.360700011253357, 1.3595000505447388, 1.3586000204086304, 1.3460999727249146, 1.3408000469207764, 1.3401999473571777, 1.3394999504089355, 1.3216999769210815, 1.3092999458312988, 1.3079999685287476, 1.3079999685287476, 1.3075000047683716, 1.3066999912261963, 1.3043999671936035, 1.2992000579833984, 1.2929999828338623, 1.2927000522613525, 1.2891000509262085, 1.2884999513626099, 1.282099962234497, 1.2819000482559204, 1.2812999486923218, 1.2789000272750854, 1.2759000062942505, 1.2253999710083008, 1.208299994468689, 1.2740000486373901, 1.1603000164031982, 1.2197999954223633, 1.2461999654769897, 1.243899941444397, 1.079699993133545, 1.1382999420166016, 0.32739999890327454, 0.5425999760627747, 0.6712999939918518, 0.4690000116825104, 0.9725000262260437, 0.2957000136375427, 0.8633000254631042, 0.9911999702453613, 0.6876999735832214, 0.722000002861023, 1.041200041770935, 1.0644999742507935, 0.9466999769210815, 0.765999972820282, 1.1384999752044678, 0.37540000677108765, 0.415800005197525, 0.41029998660087585, 0.3531999886035919, 0.21979999542236328, 0.7080000042915344, -0.09759999811649323, 0.5220999717712402, 0.5814999938011169, 0.755299985408783, 0.17630000412464142, 0.6685000061988831, 0.38690000772476196, 0.03519999980926514, -0.5181999802589417, 0.37869998812675476, 0.28450000286102295, 0.5162000060081482, 0.6506999731063843, -0.45089998841285706, -0.3287000060081482, 0.2766999900341034, 0.02239999920129776, -0.18729999661445618, -0.1467999964952469, -0.6452000141143799, -0.2867000102996826, 0.09390000253915787, -0.335099995136261, 1.5932999849319458, 1.5749000310897827, 1.5551999807357788, 1.548799991607666, 1.5403000116348267, 1.5396000146865845, 1.5392999649047852, 1.534000039100647, 1.5257999897003174, 1.5254000425338745, 1.5252000093460083, 1.5082000494003296, 1.5068000555038452, 1.506700038909912, 1.506100058555603, 1.5055999755859375, 1.5053000450134277, 1.4997999668121338, 1.4991999864578247, 1.4974000453948975, 1.4886000156402588, 1.486799955368042, 1.4830000400543213, 1.476699948310852, 1.476699948310852, 1.4765000343322754, 1.4765000343322754, 1.4763000011444092, 1.4759999513626099, 1.4628000259399414, 1.4172999858856201, 1.4397000074386597, 1.4283000230789185, 1.3660000562667847, 1.4357999563217163, 1.4244999885559082, 1.3899999856948853, 1.1158000230789185, 0.3278000056743622, 1.3595999479293823, 1.3547999858856201, 0.2287999987602234, 0.8597000241279602, 1.0277999639511108, 1.3035000562667847, 0.4020000100135803, 0.5194000005722046, 0.13130000233650208, 0.8083999752998352, 0.33230000734329224, 0.7829999923706055, 0.7103000283241272, 0.6384999752044678, 0.4616999924182892, 0.6488999724388123, -0.09290000051259995, 0.9761000275611877, 0.8349999785423279, 0.628600001335144, 0.46619999408721924, -0.010400000028312206, -0.01119999960064888, 0.17509999871253967, 0.15940000116825104, 0.03460000082850456, 0.4683000147342682, 0.18790000677108765, -0.44999998807907104, 0.26660001277923584, -0.1339000016450882, -0.026200000196695328, 0.17910000681877136, -0.4219000041484833, 0.11680000275373459, 0.12929999828338623, -0.1860000044107437, -0.7039999961853027, -0.16300000250339508, 2.156599998474121, 2.153599977493286, 2.144399881362915, 2.112600088119507, 2.110300064086914, 2.109800100326538, 2.097100019454956, 2.0905001163482666, 2.085900068283081, 2.08270001411438, 2.0817999839782715, 2.080899953842163, 2.075700044631958, 2.0713999271392822, 2.0541000366210938, 2.052799940109253, 2.039299964904785, 2.0322000980377197, 2.029400110244751, 2.0292999744415283, 2.0292999744415283, 2.029099941253662, 2.0288000106811523, 2.0283000469207764, 2.023099899291992, 2.0230000019073486, 2.022700071334839, 2.0209999084472656, 2.019700050354004, 2.012399911880493, 1.8920999765396118, 1.9220999479293823, 1.9972000122070312, 1.8490999937057495, 2.0000998973846436, 1.3257999420166016, 0.9721999764442444, 1.63919997215271, 1.6161999702453613, 1.6246000528335571, 1.75409996509552, 0.8439000248908997, 1.8981000185012817, 1.7475999593734741, 1.889299988746643, 1.3861000537872314, 1.4294999837875366, 0.871399998664856, 1.7486000061035156, 1.0872999429702759, 1.690999984741211, 1.5175000429153442, 1.2342000007629395, 0.14350000023841858, 0.7889000177383423, 0.7142000198364258, 0.21140000224113464, 1.1546000242233276, 0.9740999937057495, 0.6026999950408936, 1.2644000053405762, 1.035599946975708, 0.7573999762535095, 0.8593000173568726, 0.8147000074386597, -0.48910000920295715, 0.48330000042915344, -0.40689998865127563, 0.44749999046325684, 0.133200004696846, 0.6212000250816345, 0.0885000005364418, 0.5259000062942505, -0.6414999961853027, -0.11699999868869781, 0.21709999442100525, 0.4214000105857849, -0.1754000037908554, -0.43650001287460327, 0.28839999437332153, -0.49570000171661377, -0.7843000292778015, -0.7735999822616577, -0.5430999994277954, -0.753600001335144, 2.1803998947143555, 2.165299892425537, 2.165299892425537, 2.161600112915039, 2.1607000827789307, 2.1568000316619873, 2.148699998855591, 2.148400068283081, 2.1459999084472656, 2.1410999298095703, 2.1405999660491943, 2.119999885559082, 2.1198999881744385, 2.1198999881744385, 2.1196999549865723, 2.11899995803833, 2.109999895095825, 2.1061999797821045, 2.0696001052856445, 2.0696001052856445, 2.0696001052856445, 2.0687999725341797, 2.0664000511169434, 2.0660998821258545, 2.0648999214172363, 2.059799909591675, 2.058000087738037, 2.0387001037597656, 2.0339999198913574, 2.033900022506714, 1.9924999475479126, 1.6309000253677368, 2.0288000106811523, 1.9651999473571777, 1.985200047492981, 1.9890999794006348, 1.8035999536514282, 1.985700011253357, 1.4388999938964844, 1.73580002784729, 1.7172000408172607, 1.20169997215271, 1.6150000095367432, 0.9666000008583069, 1.3164000511169434, 1.4905999898910522, 1.5331000089645386, 1.6289000511169434, 1.0532000064849854, 1.61899995803833, 0.9976999759674072, 0.0333000011742115, 0.14339999854564667, 0.07999999821186066, 0.6496999859809875, 1.263800024986267, 0.20749999582767487, 1.002500057220459, 1.0539000034332275, 0.8833000063896179, 1.0214999914169312, -0.20200000703334808, 0.20469999313354492, 0.06650000065565109, 0.5558000206947327, 0.43650001287460327, 0.4366999864578247, 0.35839998722076416, -0.9373000264167786, 0.4966000020503998, 0.05009999871253967, 0.2800999879837036, 0.11089999973773956, -0.13779999315738678, 0.21449999511241913, -0.39089998602867126, -0.5673999786376953, -0.37619999051094055, -0.91839998960495, 2.2952001094818115, 2.2685999870300293, 2.266700029373169, 2.2600998878479004, 2.258699893951416, 2.249000072479248, 2.2471001148223877, 2.2330000400543213, 2.2325000762939453, 2.2311999797821045, 2.2263998985290527, 2.2107999324798584, 2.207900047302246, 2.207200050354004, 2.202399969100952, 2.1982998847961426, 2.185699939727783, 2.1833999156951904, 2.179500102996826, 2.1786000728607178, 2.175299882888794, 2.151700019836426, 2.1435000896453857, 2.1273999214172363, 2.125200033187866, 2.121000051498413, 2.1136999130249023, 2.1094000339508057, 2.107800006866455, 2.1071999073028564, 2.048799991607666, 2.0689001083374023, 1.9327000379562378, 1.7924000024795532, 2.1071999073028564, 2.0989999771118164, 1.8783999681472778, 1.9718999862670898, 1.9200999736785889, 1.1279000043869019, 1.6094000339508057, 1.6785999536514282, 1.2656999826431274, 1.7210999727249146, 0.9778000116348267, 0.913100004196167, 1.751099944114685, 0.6158000230789185, 0.09350000321865082, 0.71670001745224, 1.4434000253677368, -0.36329999566078186, -0.27239999175071716, 0.6747000217437744, 1.0494999885559082, 1.0195000171661377, -0.06809999793767929, 0.14100000262260437, 0.038600001484155655, 1.1523000001907349, 0.6126999855041504, 0.7578999996185303, 1.2826000452041626, 1.1822999715805054, -0.0551999993622303, 0.3440000116825104, 0.26170000433921814, -0.35910001397132874, -0.0681999996304512, -0.600600004196167, -0.361299991607666, -0.3628000020980835, -0.6061000227928162, 0.33820000290870667, -1.1247999668121338, 0.20739999413490295, -0.08500000089406967, 0.4708000123500824, -0.3508000075817108, -0.2556999921798706, -0.16349999606609344, 2.365600109100342, 2.3278000354766846, 2.313999891281128, 2.313499927520752, 2.3101999759674072, 2.2945001125335693, 2.2929999828338623, 2.27239990234375, 2.2664999961853027, 2.261699914932251, 2.261199951171875, 2.2609000205993652, 2.260200023651123, 2.2499001026153564, 2.244999885559082, 2.2348999977111816, 2.230600118637085, 2.220599889755249, 2.2077999114990234, 2.2070000171661377, 2.2067999839782715, 2.206399917602539, 2.204900026321411, 2.2046000957489014, 2.2042999267578125, 2.2030999660491943, 2.202199935913086, 2.200000047683716, 2.1949000358581543, 2.1919000148773193, 2.154900074005127, 2.182800054550171, 2.183199882507324, 2.190700054168701, 2.0638999938964844, 1.7856999635696411, 1.972599983215332, 1.9315999746322632, 1.4773999452590942, 2.1238999366760254, 1.4326000213623047, 1.017799973487854, 1.7747000455856323, 1.6066999435424805, 1.7863999605178833, 0.30410000681877136, 0.6187000274658203, 0.4187999963760376, -0.08630000054836273, 0.4666999876499176, 1.2386000156402588, -0.3422999978065491, 0.6061999797821045, 0.6721000075340271, 0.053300000727176666, 0.8170999884605408, 1.0505000352859497, 1.0247999429702759, 0.2824999988079071, -0.33980000019073486, 0.542900025844574, 0.28940001130104065, 0.2590999901294708, 0.5339000225067139, 0.5566999912261963, 0.5358999967575073, 0.9868999719619751, -0.0406000018119812, 0.15539999306201935, 0.2295999974012375, -0.07909999787807465, 0.11060000211000443, 0.4569000005722046, -0.7712000012397766, -0.3666999936103821, 0.22120000422000885, -0.5408999919891357, 2.397200107574463, 2.3861000537872314, 2.3561999797821045, 2.341900110244751, 2.3415000438690186, 2.34089994430542, 2.3241000175476074, 2.3213000297546387, 2.30649995803833, 2.30049991607666, 2.276400089263916, 2.276099920272827, 2.2616000175476074, 2.2611000537872314, 2.2604000568389893, 2.2600998878479004, 2.257499933242798, 2.251300096511841, 2.2471001148223877, 2.230799913406372, 2.2074999809265137, 2.199899911880493, 2.1986000537872314, 2.1979000568389893, 2.1963999271392822, 2.1958999633789062, 2.1953001022338867, 2.1953001022338867, 2.194499969482422, 2.1940999031066895, 2.1870999336242676, 2.100800037384033, 2.165600061416626, 2.160099983215332, 2.1640000343322754, 2.0964999198913574, 2.1010000705718994, 1.9256999492645264, 1.9736000299453735, 2.0390000343322754, 1.5507999658584595, 0.48840001225471497, 0.4672999978065491, 0.7659000158309937, 1.7663999795913696, 1.4788999557495117, -0.16359999775886536, 0.8385999798774719, 0.13030000030994415, 0.3531000018119812, 1.5715999603271484, 1.2848000526428223, 0.19220000505447388, 0.06040000170469284, 0.3037000000476837, 0.439300000667572, 0.6306999921798706, 0.18050000071525574, 0.8968999981880188, -0.17170000076293945, 0.16089999675750732, 0.8720999956130981, 0.09520000219345093, 0.8971999883651733, -0.2371000051498413, -0.33799999952316284, 0.20630000531673431, 0.29409998655319214, 0.24289999902248383, 0.8001999855041504, 0.10409999638795853, -0.2159000039100647, 0.11420000344514847, -0.26829999685287476, -0.8809999823570251, -0.6432999968528748, -1.6502000093460083, 0.022099999710917473, -0.13850000500679016, -0.14010000228881836, 3.031899929046631, 3.022900104522705, 2.988100051879883, 2.984100103378296, 2.983599901199341, 2.9735000133514404, 2.9619998931884766, 2.961400032043457, 2.9612998962402344, 2.960400104522705, 2.920300006866455, 2.8864998817443848, 2.8759000301361084, 2.8649001121520996, 2.864799976348877, 2.850800037384033, 2.850100040435791, 2.8489999771118164, 2.8450000286102295, 2.844899892807007, 2.8333001136779785, 2.829400062561035, 2.7887001037597656, 2.7827000617980957, 2.7715001106262207, 2.7355000972747803, 2.734600067138672, 2.7244999408721924, 2.7227001190185547, 2.7202000617980957, 2.6326000690460205, 2.6161000728607178, 2.7135000228881836, 2.585700035095215, 2.2446999549865723, 2.281599998474121, 2.5048999786376953, 2.1847000122070312, 0.8920000195503235, 0.8457000255584717, 0.7791000008583069, 0.7164000272750854, 0.30160000920295715, 1.864400029182434, 1.357300043106079, 2.384399890899658, -0.06120000034570694, -0.4348999857902527, 0.9110999703407288, 1.1097999811172485, 0.6865000128746033, 1.617300033569336, 0.8242999911308289, -0.6074000000953674, 0.682699978351593, 1.0598000288009644, 0.40610000491142273, -0.6908000111579895, -0.28130000829696655, 0.21549999713897705, -0.1695999950170517, -0.02250000089406967, 0.7893999814987183, -0.2750999927520752, 0.22630000114440918, -0.028999999165534973, -0.012000000104308128, 0.27379998564720154, 0.5220999717712402, 0.7386999726295471, -0.8579000234603882, -1.0365999937057495, 0.003100000089034438, -0.8465999960899353, 3.190700054168701, 3.1644999980926514, 3.154400110244751, 3.130199909210205, 3.099100112915039, 3.0943000316619873, 3.081700086593628, 3.072000026702881, 3.041100025177002, 3.0280001163482666, 3.0216000080108643, 3.0208001136779785, 3.017400026321411, 3.01200008392334, 3.007499933242798, 3.004300117492676, 2.9728000164031982, 2.967600107192993, 2.9249000549316406, 2.91510009765625, 2.9030001163482666, 2.899899959564209, 2.890899896621704, 2.8907999992370605, 2.890399932861328, 2.889699935913086, 2.88919997215271, 2.8891000747680664, 2.888400077819824, 2.8861000537872314, 2.8415000438690186, 2.6768999099731445, 2.8594000339508057, 2.8615000247955322, 2.44350004196167, 2.1737000942230225, 2.678999900817871, 2.751699924468994, 2.669800043106079, 1.4703999757766724, 2.513700008392334, 2.3538999557495117, 2.314199924468994, 0.49869999289512634, 1.8592000007629395, 1.7552000284194946, 2.3863000869750977, 1.0068999528884888, 0.7071999907493591, 0.7178000211715698, 0.9174000024795532, 1.55649995803833, -0.12099999934434891, -0.6930999755859375, 0.5209000110626221, 0.8260999917984009, 1.3229999542236328, 1.5094000101089478, -0.12620000541210175, 1.094499945640564, -0.8743000030517578, -0.10170000046491623, 0.590499997138977, 0.555400013923645, 0.8246999979019165, -0.7985000014305115, -0.5701000094413757, -0.5576000213623047, 0.8138999938964844, 0.12970000505447388, -0.3589000105857849, -1.1345000267028809, -0.35249999165534973, 0.09350000321865082, 0.26820001006126404], \"logprob\": [30.0, 29.0, 28.0, 27.0, 26.0, 25.0, 24.0, 23.0, 22.0, 21.0, 20.0, 19.0, 18.0, 17.0, 16.0, 15.0, 14.0, 13.0, 12.0, 11.0, 10.0, 9.0, 8.0, 7.0, 6.0, 5.0, 4.0, 3.0, 2.0, 1.0, -8.181400299072266, -8.20740032196045, -7.821899890899658, -8.396100044250488, -8.51930046081543, -8.541500091552734, -8.836700439453125, -8.681599617004395, -8.838000297546387, -8.860600471496582, -9.035900115966797, -9.040300369262695, -9.045499801635742, -8.429699897766113, -8.881199836730957, -9.299799919128418, -9.299599647521973, -9.302900314331055, -9.308199882507324, -9.094400405883789, -9.011699676513672, -8.241600036621094, -9.015199661254883, -9.157600402832031, -8.852800369262695, -8.548600196838379, -8.633099555969238, -7.611499786376953, -8.616600036621094, -9.511500358581543, -4.276100158691406, -7.3144001960754395, -8.111200332641602, -7.299600124359131, -7.848800182342529, -8.221699714660645, -8.208499908447266, -6.797699928283691, -7.478400230407715, -3.1368000507354736, -4.032700061798096, -4.956999778747559, -4.424099922180176, -6.507999897003174, -3.8327999114990234, -6.105199813842773, -6.751100063323975, -5.559100151062012, -5.833499908447266, -7.124100208282471, -7.273099899291992, -6.8125, -6.167600154876709, -7.664899826049805, -4.6930999755859375, -4.986199855804443, -5.11329984664917, -5.1082000732421875, -4.799499988555908, -6.028299808502197, -4.163400173187256, -5.728300094604492, -5.8684000968933105, -6.277699947357178, -4.9618000984191895, -6.130799770355225, -5.473999977111816, -4.813700199127197, -4.231200218200684, -5.616799831390381, -5.541100025177002, -5.8902997970581055, -6.143799781799316, -4.892600059509277, -5.103400230407715, -5.735799789428711, -5.642099857330322, -5.577499866485596, -5.664100170135498, -5.512599945068359, -5.644999980926514, -5.777400016784668, -5.749800205230713, -7.20989990234375, -7.767399787902832, -8.203499794006348, -8.310400009155273, -8.326700210571289, -8.449600219726562, -8.453100204467773, -8.479499816894531, -8.621800422668457, -8.625300407409668, -8.626899719238281, -8.038999557495117, -8.822500228881836, -8.822699546813965, -8.82800006866455, -8.831299781799316, -8.834799766540527, -8.501399993896484, -8.8927001953125, -8.766200065612793, -8.215399742126465, -6.572999954223633, -8.15719985961914, -9.0802001953125, -9.080300331115723, -9.081399917602539, -9.081399917602539, -8.676300048828125, -9.08489990234375, -9.098899841308594, -6.521100044250488, -7.424300193786621, -7.54010009765625, -7.10830020904541, -7.908899784088135, -8.015000343322754, -7.811800003051758, -6.443699836730957, -3.3852999210357666, -7.6757001876831055, -7.715000152587891, -3.2353999614715576, -5.780799865722656, -6.4944000244140625, -7.704999923706055, -4.447000026702881, -4.895299911499023, -3.9972000122070312, -5.760200023651123, -4.686999797821045, -5.872200012207031, -5.823699951171875, -5.758200168609619, -5.435400009155273, -5.874199867248535, -4.158699989318848, -6.742499828338623, -6.420300006866455, -6.017099857330322, -5.639200210571289, -4.5858001708984375, -4.878499984741211, -5.183300018310547, -5.357900142669678, -5.231500148773193, -5.896900177001953, -5.4766998291015625, -4.891600131988525, -5.631400108337402, -5.271900177001953, -5.502999782562256, -5.692299842834473, -5.315000057220459, -5.700500011444092, -5.708700180053711, -5.588099956512451, -5.478700160980225, -5.624499797821045, -7.718999862670898, -7.605500221252441, -7.884799957275391, -8.23859977722168, -8.256699562072754, -8.259900093078613, -8.081999778747559, -8.277400016784668, -6.935100078582764, -8.489500045776367, -8.490300178527832, -8.200200080871582, -8.53439998626709, -8.508299827575684, -8.058899879455566, -8.55720043182373, -8.249500274658203, -8.544099807739258, -8.83549976348877, -8.835700035095215, -8.83590030670166, -8.836700439453125, -8.83810043334961, -8.841099739074707, -8.867500305175781, -8.867500305175781, -8.869199752807617, -8.848799705505371, -8.883999824523926, -8.756500244140625, -6.654799938201904, -7.673500061035156, -8.433699607849121, -7.117000102996826, -8.495400428771973, -4.151000022888184, -2.740799903869629, -6.5472002029418945, -6.456500053405762, -6.5640997886657715, -7.208700180053711, -3.5977001190185547, -7.882500171661377, -7.342400074005127, -7.923999786376953, -5.937399864196777, -6.300899982452393, -5.258600234985352, -7.365200042724609, -5.833600044250488, -7.2581000328063965, -6.892199993133545, -6.275000095367432, -3.922300100326538, -5.316500186920166, -5.277299880981445, -4.681700229644775, -6.1244001388549805, -5.8719000816345215, -5.3850998878479, -6.428699970245361, -6.111000061035156, -5.697500228881836, -5.891200065612793, -5.864099979400635, -3.953399896621704, -5.377500057220459, -4.535399913787842, -5.4496002197265625, -5.225200176239014, -5.737400054931641, -5.326200008392334, -5.7804999351501465, -5.216899871826172, -5.519100189208984, -5.719399929046631, -5.814599990844727, -5.5655999183654785, -5.4558000564575195, -5.813499927520752, -5.633800029754639, -5.633299827575684, -5.640900135040283, -5.809199810028076, -5.822199821472168, -7.786799907684326, -7.966599941253662, -7.973400115966797, -7.971700191497803, -7.902699947357178, -8.074399948120117, -8.156499862670898, -8.159799575805664, -8.180299758911133, -8.17650032043457, -5.560299873352051, -8.41100025177002, -8.411299705505371, -8.411299705505371, -8.413000106811523, -8.41819953918457, -8.459600448608398, -7.97160005569458, -8.753600120544434, -8.753600120544434, -8.753700256347656, -8.75790023803711, -8.771100044250488, -8.762100219726562, -8.779000282287598, -8.805299758911133, -8.18970012664795, -8.824700355529785, -8.426899909973145, -8.803500175476074, -5.888700008392334, -3.143899917602539, -7.644400119781494, -7.246799945831299, -7.663099765777588, -7.821599960327148, -6.256100177764893, -7.946100234985352, -3.428499937057495, -5.888500213623047, -5.901800155639648, -4.449999809265137, -6.1219000816345215, -4.55079984664917, -5.759200096130371, -6.223999977111816, -6.55620002746582, -6.811500072479248, -5.563899993896484, -6.942999839782715, -5.507400035858154, -3.430999994277954, -3.985100030899048, -3.98580002784729, -5.188300132751465, -6.198299884796143, -4.64139986038208, -5.945000171661377, -6.037600040435791, -5.808800220489502, -6.173999786376953, -4.643599987030029, -5.061399936676025, -4.952899932861328, -5.569499969482422, -5.5, -5.504300117492676, -5.502399921417236, -4.650300025939941, -5.657299995422363, -5.411300182342529, -5.591300010681152, -5.553599834442139, -5.496099948883057, -5.602799892425537, -5.459400177001953, -5.4604997634887695, -5.514200210571289, -5.493800163269043, -7.039100170135498, -7.56850004196167, -7.591400146484375, -7.693600177764893, -7.709700107574463, -7.837699890136719, -7.854800224304199, -8.015000343322754, -8.018799781799316, -8.029899597167969, -7.494900226593018, -8.222700119018555, -8.235899925231934, -8.216500282287598, -8.050200462341309, -8.246000289916992, -7.925300121307373, -8.378000259399414, -8.464799880981445, -8.470100402832031, -8.24590015411377, -8.119600296020508, -8.291500091552734, -8.223799705505371, -8.697999954223633, -8.813599586486816, -8.84749984741211, -8.848600387573242, -8.83329963684082, -8.823100090026855, -7.373899936676025, -7.649600028991699, -6.478799819946289, -5.3094000816345215, -8.253299713134766, -8.18850040435791, -6.982600212097168, -7.394499778747559, -7.267000198364258, -4.262400150299072, -6.2434000968933105, -6.470900058746338, -5.698999881744385, -6.98360013961792, -5.292200088500977, -5.188899993896484, -7.146100044250488, -4.522299766540527, -3.9723000526428223, -4.934999942779541, -6.486800193786621, -3.8276000022888184, -3.9853999614715576, -5.4552001953125, -6.04010009765625, -6.041399955749512, -4.509699821472168, -4.72629976272583, -4.810400009155273, -6.254300117492676, -5.7459001541137695, -5.900300025939941, -6.447999954223633, -6.39300012588501, -5.321300029754639, -5.668499946594238, -5.636199951171875, -5.252200126647949, -5.529600143432617, -5.175899982452393, -5.3805999755859375, -5.431399822235107, -5.380799770355225, -5.826099872589111, -5.253300189971924, -5.78410005569458, -5.749599933624268, -5.8942999839782715, -5.709099769592285, -5.732500076293945, -5.791800022125244, -5.905200004577637, -7.179500102996826, -7.890100002288818, -7.894599914550781, -7.903800010681152, -8.08530044555664, -8.096400260925293, -7.782700061798096, -8.307100296020508, -8.348699569702148, -8.351900100708008, -8.353599548339844, -8.34570026397705, -8.421899795532227, -8.146900177001953, -8.077500343322754, -8.555000305175781, -8.400500297546387, -8.685999870300293, -8.689800262451172, -8.690999984741211, -8.692899703979492, -8.700400352478027, -8.693499565124512, -8.703399658203125, -7.938300132751465, -8.713600158691406, -8.723600387573242, -8.331500053405762, -8.260299682617188, -7.215199947357178, -7.572000026702881, -7.9028000831604, -8.215299606323242, -7.38670015335083, -5.786200046539307, -7.409999847412109, -7.331399917602539, -5.520500183105469, -8.119999885559082, -6.000899791717529, -5.117099761962891, -6.937699794769287, -6.605500221252441, -7.214600086212158, -4.137599945068359, -4.771500110626221, -4.474299907684326, -3.7994000911712646, -4.891600131988525, -6.1468000411987305, -3.8066000938415527, -5.290999889373779, -5.4334001541137695, -4.52209997177124, -5.696400165557861, -6.059899806976318, -6.064799785614014, -4.983699798583984, -4.405600070953369, -5.356900215148926, -5.12529993057251, -5.142899990081787, -5.461599826812744, -5.54040002822876, -5.561500072479248, -6.060800075531006, -5.109099864959717, -5.306000232696533, -5.39870023727417, -5.217100143432617, -5.413000106811523, -5.645100116729736, -4.899700164794922, -5.215700149536133, -5.604400157928467, -5.560299873352051, -6.995800018310547, -7.226399898529053, -7.671199798583984, -7.857999801635742, -7.861599922180176, -7.866799831390381, -8.032500267028809, -8.053099632263184, -7.53879976272583, -8.23009967803955, -8.399900436401367, -6.986400127410889, -8.49429988861084, -8.496399879455566, -8.501099586486816, -8.502599716186523, -8.51609992980957, -8.511300086975098, -7.9558000564575195, -7.689599990844727, -7.991600036621094, -8.54640007019043, -8.829899787902832, -8.833000183105469, -8.839200019836426, -8.841400146484375, -8.843999862670898, -8.844099998474121, -8.847399711608887, -8.849100112915039, -7.526700019836426, -7.458899974822998, -8.19260025024414, -8.187600135803223, -8.298100471496582, -7.88539981842041, -7.951499938964844, -6.398600101470947, -6.883699893951416, -7.496099948883057, -5.995999813079834, -3.577399969100952, -3.6612000465393066, -4.500199794769287, -6.996699810028076, -6.586100101470947, -3.6278998851776123, -5.258600234985352, -4.311299800872803, -4.715400218963623, -6.868899822235107, -6.571300029754639, -4.945899963378906, -4.958899974822998, -5.21999979019165, -5.398600101470947, -5.659599781036377, -5.221499919891357, -6.012599945068359, -4.946400165557861, -5.356400012969971, -6.1031999588012695, -5.366199970245361, -6.177999973297119, -5.086100101470947, -5.205399990081787, -5.611000061035156, -5.718400001525879, -5.6981000900268555, -6.107399940490723, -5.767199993133545, -5.6305999755859375, -5.822299957275391, -5.658599853515625, -5.456399917602539, -5.536399841308594, -5.3632001876831055, -5.803599834442139, -5.790299892425537, -5.804699897766113, -7.019700050354004, -7.129300117492676, -7.457399845123291, -7.162700176239014, -7.4953999519348145, -7.120200157165527, -7.656899929046631, -6.944799900054932, -7.661099910736084, -7.666399955749512, -7.91540002822876, -7.729100227355957, -7.6493000984191895, -7.949900150299072, -6.84119987487793, -8.253899574279785, -8.256799697875977, -8.26099967956543, -8.276100158691406, -8.277299880981445, -8.321200370788574, -8.28849983215332, -8.3056001663208, -7.929299831390381, -8.556599617004395, -8.384400367736816, -8.354499816894531, -8.245800018310547, -7.852700233459473, -8.358599662780762, -6.629899978637695, -7.014699935913086, -8.01609992980957, -7.38070011138916, -6.520500183105469, -6.804500102996826, -7.4008002281188965, -6.6921000480651855, -3.683300018310547, -4.6778998374938965, -4.57919979095459, -4.76039981842041, -4.139999866485596, -6.512899875640869, -5.771299839019775, -7.331200122833252, -4.126999855041504, -3.899199962615967, -5.395199775695801, -5.692599773406982, -5.304999828338623, -6.258900165557861, -5.564000129699707, -4.320400238037109, -5.623300075531006, -5.908699989318848, -5.4918999671936035, -4.819300174713135, -5.1743998527526855, -5.436299800872803, -5.307600021362305, -5.48390007019043, -5.9695000648498535, -5.541299819946289, -5.76140022277832, -5.657299995422363, -5.676499843597412, -5.823400020599365, -5.991300106048584, -6.0605998039245605, -5.706900119781494, -5.811299800872803, -5.9334001541137695, -5.915200233459473, -6.895999908447266, -7.115900039672852, -7.250899791717529, -7.4456000328063965, -7.65910005569458, -7.684999942779541, -7.460000038146973, -7.213600158691406, -7.496099948883057, -8.028200149536133, -8.054400444030762, -8.01550006866455, -8.030099868774414, -8.053899765014648, -8.110199928283691, -8.123299598693848, -7.778900146484375, -7.689300060272217, -7.509099960327148, -8.137700080871582, -7.165999889373779, -8.004599571228027, -8.538599967956543, -8.538800239562988, -8.539999961853027, -8.542099952697754, -8.543600082397461, -8.543800354003906, -8.546099662780762, -8.553099632263184, -6.70550012588501, -5.43310022354126, -7.405700206756592, -8.060199737548828, -5.025000095367432, -4.747200012207031, -6.884799957275391, -7.3028998374938965, -7.03439998626709, -3.5982000827789307, -6.5447998046875, -6.201099872589111, -6.405700206756592, -3.2142999172210693, -5.856500148773193, -5.937900066375732, -6.8892998695373535, -4.89300012588501, -4.694900035858154, -4.9105000495910645, -5.179800033569336, -5.871300220489502, -4.2494001388549805, -4.157400131225586, -5.143700122833252, -5.519899845123291, -5.885200023651123, -6.061399936676025, -4.975200176239014, -5.9532999992370605, -4.940100193023682, -5.3678998947143555, -5.715799808502197, -5.7144999504089355, -5.833399772644043, -5.240099906921387, -5.463200092315674, -5.576900005340576, -5.936500072479248, -5.80679988861084, -5.773600101470947, -5.70989990234375, -5.814000129699707, -5.847499847412109, -5.866700172424316]}, \"token.table\": {\"Topic\": [1, 2, 3, 4, 5, 6, 7, 8, 9, 3, 9, 1, 2, 3, 4, 5, 6, 7, 8, 9, 1, 2, 3, 4, 5, 6, 7, 8, 9, 1, 2, 3, 4, 5, 6, 7, 8, 9, 1, 2, 3, 4, 5, 6, 7, 8, 9, 1, 2, 3, 4, 5, 6, 7, 8, 4, 6, 4, 5, 2, 2, 8, 4, 3, 6, 7, 8, 4, 4, 6, 1, 2, 1, 7, 6, 8, 3, 1, 2, 3, 5, 6, 7, 8, 4, 8, 1, 4, 6, 5, 1, 2, 1, 2, 3, 4, 5, 6, 7, 8, 9, 9, 1, 2, 3, 4, 5, 6, 8, 9, 6, 5, 6, 2, 8, 5, 9, 3, 6, 8, 9, 2, 5, 6, 8, 7, 5, 8, 1, 2, 3, 4, 5, 6, 7, 8, 9, 1, 3, 5, 6, 7, 8, 9, 2, 9, 4, 9, 5, 2, 4, 4, 8, 9, 6, 2, 9, 3, 7, 3, 7, 4, 9, 1, 5, 1, 2, 3, 4, 5, 6, 7, 8, 1, 2, 3, 4, 5, 6, 7, 8, 9, 8, 4, 1, 2, 3, 4, 5, 6, 7, 8, 9, 3, 6, 1, 2, 3, 4, 5, 6, 7, 8, 1, 2, 3, 4, 5, 6, 7, 8, 9, 1, 2, 3, 4, 5, 6, 7, 8, 9, 3, 6, 1, 2, 3, 4, 5, 6, 7, 8, 9, 1, 2, 3, 4, 5, 6, 7, 8, 9, 3, 2, 2, 5, 7, 9, 3, 4, 1, 2, 3, 4, 5, 6, 7, 8, 9, 1, 2, 3, 4, 5, 6, 7, 8, 9, 7, 7, 5, 5, 6, 1, 2, 3, 4, 5, 6, 7, 8, 9, 1, 2, 3, 5, 6, 7, 9, 1, 2, 3, 4, 5, 6, 7, 8, 9, 1, 2, 3, 4, 5, 6, 7, 8, 9, 1, 4, 1, 2, 3, 4, 5, 6, 7, 8, 9, 1, 1, 3, 6, 7, 1, 2, 3, 4, 5, 6, 7, 8, 1, 2, 3, 4, 5, 6, 7, 8, 9, 9, 7, 8, 1, 2, 3, 4, 5, 6, 7, 8, 9, 7, 5, 1, 2, 3, 5, 6, 7, 8, 4, 7, 9, 1, 3, 9, 1, 2, 3, 5, 6, 7, 8, 9, 5, 3, 1, 2, 3, 4, 5, 7, 5, 2, 1, 6, 8, 1, 5, 6, 7, 2, 1, 2, 3, 4, 5, 6, 7, 8, 9, 1, 2, 3, 4, 5, 6, 7, 8, 9, 7, 4, 6, 1, 2, 6, 7, 8, 1, 2, 3, 4, 5, 6, 7, 1, 1, 1, 2, 3, 4, 5, 6, 7, 8, 9, 1, 2, 3, 4, 5, 6, 7, 8, 9, 6, 1, 2, 3, 4, 5, 6, 7, 8, 9, 1, 1, 2, 3, 4, 5, 6, 7, 8, 9, 6, 1, 2, 3, 4, 5, 6, 7, 8, 9, 5, 6, 1, 8, 1, 2, 3, 4, 5, 6, 7, 8, 9, 9, 1, 6, 7, 1, 2, 3, 4, 5, 6, 7, 8, 9, 9, 7, 7, 1, 6, 7, 1, 2, 3, 4, 5, 6, 7, 8, 9, 4, 1, 2, 3, 4, 5, 6, 7, 8, 9, 1, 2, 3, 4, 5, 6, 7, 8, 9, 1, 2, 3, 4, 5, 6, 7, 8, 9, 1, 2, 3, 4, 5, 6, 7, 8, 9, 6, 8, 5, 1, 2, 3, 4, 5, 6, 7, 8, 9, 2, 1, 1, 2, 3, 4, 5, 6, 7, 8, 9, 1, 2, 3, 4, 5, 6, 7, 8, 9, 5, 1, 2, 3, 4, 5, 6, 7, 8, 9, 1, 2, 3, 4, 6, 8, 1, 2, 3, 4, 5, 6, 7, 8, 9, 1, 3, 4, 7, 8, 3, 1, 2, 3, 5, 6, 8, 1, 2, 3, 4, 5, 6, 7, 8, 1, 2, 4, 4, 2, 7, 4, 1, 8, 1, 2, 3, 4, 5, 6, 7, 8, 9, 6, 1, 2, 3, 4, 5, 6, 7, 8, 9, 1, 2, 3, 4, 5, 6, 7, 8, 9, 1, 1, 2, 3, 6, 7, 1, 2, 3, 5, 6, 7, 8, 6, 5, 2, 4, 7, 1, 2, 3, 4, 5, 6, 7, 8, 9, 1, 2, 4, 6, 8, 1, 2, 3, 4, 5, 6, 7, 8, 9, 1, 2, 3, 4, 5, 6, 7, 8, 9, 1, 2, 3, 4, 5, 6, 7, 8, 9, 1, 2, 3, 4, 5, 6, 7, 8, 9, 9, 3, 2, 3, 6, 9, 1, 2, 4, 1, 2, 3, 4, 5, 6, 7, 8, 9, 1, 6, 2, 5, 1, 2, 4, 5, 6, 7, 8, 9, 1, 2, 3, 4, 5, 6, 7, 8, 9, 1, 2, 3, 4, 5, 6, 7, 8, 9, 5, 1, 2, 3, 4, 5, 6, 7, 8, 9, 1, 2, 3, 4, 5, 6, 7, 8, 9, 3, 4, 5, 2, 1, 2, 3, 4, 5, 6, 7, 8, 9, 1, 2, 3, 4, 5, 6, 7, 9, 7, 9, 1, 2, 9, 2, 1, 2, 3, 4, 5, 6, 7, 8, 9, 5, 2, 6, 1, 3, 4, 5, 6, 7, 8, 2, 7, 1, 9, 4, 1, 2, 3, 4, 5, 6, 7, 8, 9, 9, 1, 2, 3, 4, 5, 6, 7, 8, 9, 1, 2, 3, 4, 5, 6, 7, 8, 9, 3, 1, 2, 3, 4, 5, 6, 7, 8, 9, 6, 9, 5, 1, 2, 3, 4, 6, 7, 8, 1, 2, 3, 5, 6, 7, 9, 2, 7, 7, 8, 2, 3, 6, 1, 1, 2, 4, 9, 2, 1, 2, 3, 4, 5, 6, 9, 4, 1, 2, 3, 4, 5, 6, 7, 8, 9, 5, 3, 5, 2, 9, 1, 2, 3, 4, 5, 6, 7, 8, 9, 1, 2, 3, 4, 5, 6, 7, 8, 9, 2, 5, 6, 7, 8, 5, 1, 2, 3, 4, 5, 6, 7, 8, 9, 3, 8, 3, 6, 1, 2, 3, 4, 5, 6, 7, 8, 9, 1, 2, 3, 4, 5, 6, 7, 8, 9, 1, 2, 3, 4, 5, 6, 7, 8, 9, 4, 2, 1, 2, 7, 6, 7, 1, 2, 3, 4, 5, 7, 7, 3, 6, 1, 2, 3, 4, 5, 6, 7, 8, 9, 1, 4, 4, 7, 9, 1, 2, 4, 6, 7, 1, 9, 6, 1, 2, 4, 5, 8, 1, 2, 3, 4, 5, 6, 7, 8, 9, 2, 3, 1, 2, 3, 5, 6, 7, 9, 7, 1, 2, 3, 4, 5, 6, 7, 8, 9, 3, 6, 1, 2, 3, 4, 5, 6, 7, 8, 9, 1, 2, 3, 4, 5, 6, 7, 8, 9, 4, 1, 2, 3, 4, 5, 6, 7, 8, 1, 2, 1, 2, 3, 4, 5, 6, 7, 8, 9, 5, 1, 3, 7, 2, 4, 5, 7, 1, 2, 3, 4, 5, 6, 7, 8, 9, 3, 1, 2, 3, 4, 5, 6, 7, 8, 9, 1, 2, 3, 4, 5, 6, 7, 8, 9, 2, 1, 2, 3, 4, 5, 6, 7, 8, 9, 1, 2, 3, 4, 5, 6, 7, 8, 9, 1, 3, 5, 7, 1, 2, 3, 4, 5, 6, 7, 8, 9, 1, 2, 3, 6, 8, 9, 2, 5, 7, 1, 2, 3, 4, 5, 6, 7, 8, 9, 8, 2, 8, 2, 1, 2, 3, 4, 5, 6, 7, 8, 9, 1, 2, 3, 4, 5, 6, 7, 8, 9, 1, 2, 3, 4, 5, 6, 7, 8, 9, 1, 3, 3, 5, 4, 5, 2, 5, 1, 5, 8, 1, 4, 5, 3, 4, 1, 9, 2, 1, 2, 3, 4, 5, 6, 7, 8, 9, 2, 5, 8, 9, 3, 9, 2, 8, 1, 2, 3, 4, 5, 6, 7, 8, 9, 4, 7, 1, 2, 3, 4, 5, 6, 7, 8, 9, 2, 6, 6, 6, 1, 5, 3, 8, 1, 2, 3, 4, 5, 6, 7, 8, 9, 1, 2, 3, 4, 5, 6, 7, 8, 9, 2, 6, 9, 6, 1, 2, 3, 4, 5, 6, 7, 8, 9, 2, 1, 3, 5, 7, 8, 9, 1, 2, 3, 4, 5, 6, 7, 8, 9, 3, 8, 8, 4, 8, 9, 1, 2, 3, 4, 5, 6, 7, 8, 9, 1, 2, 3, 4, 5, 6, 7, 8, 9, 1, 2, 3, 4, 5, 6, 7, 8, 9, 2, 7, 3, 3, 3, 1, 2, 3, 4, 5, 6, 7, 8, 9, 9, 1, 2, 3, 4, 5, 6, 7, 8, 9, 1, 2, 3, 4, 5, 6, 7, 8, 9, 1, 2, 3, 4, 5, 6, 7, 8, 9, 5, 6, 7, 1, 2, 3, 4, 5, 6, 7, 8, 9, 1, 8, 1, 2, 3, 6, 4, 2, 3, 5, 6, 7, 9, 7, 1, 2, 3, 4, 5, 6, 7, 8, 9, 1, 4, 5, 8, 8, 1, 2, 3, 4, 5, 6, 7, 8, 9, 5, 1, 3, 4, 5, 7, 8, 9, 9, 9, 4, 7, 9, 1, 1, 2, 3, 4, 5, 6, 7, 8, 9, 1, 2, 3, 4, 5, 6, 7, 8, 1, 3, 4, 5, 6, 7, 8, 1, 5, 6, 1, 2, 3, 4, 5, 6, 7, 8, 9, 1, 2, 6, 1, 2, 3, 4, 5, 6, 7, 8, 9, 9, 7, 2, 7, 8, 1, 9, 1, 2, 3, 4, 5, 6, 7, 8, 6, 1, 2, 3, 4, 5, 6, 7, 8, 9, 4, 5, 1, 2, 3, 4, 5, 6, 7, 8, 9, 1, 2, 3, 4, 5, 6, 7, 8, 9, 1, 2, 3, 4, 5, 6, 7, 8, 9, 1, 2, 7, 1, 2, 3, 4, 5, 6, 7, 8, 9, 5, 7, 3, 1, 5, 8, 7, 9, 1, 2, 3, 4, 5, 6, 7, 8, 9, 1, 2, 8, 4, 6, 3, 9, 3, 5, 7, 4, 6, 1, 2, 3, 4, 5, 6, 7, 1, 2, 3, 4, 5, 6, 7, 8, 9, 2, 7, 8, 1, 2, 3, 4, 5, 6, 7, 8, 9, 8, 1, 2, 5, 7, 8, 5, 1, 2, 3, 4, 5, 6, 7, 8, 9, 7, 1, 2, 3, 4, 5, 7, 9, 1, 2, 3, 4, 5, 6, 7, 8, 9, 8, 1, 2, 3, 4, 5, 6, 7, 8, 9, 7, 1, 4, 1, 2, 3, 4, 5, 6, 7, 8, 9, 5, 4, 2, 5, 7, 1, 4, 1, 2, 3, 4, 5, 6, 7, 8, 9, 1, 2, 3, 4, 5, 6, 7, 8, 9, 6, 4, 1, 2, 3, 4, 5, 6, 7, 3, 6, 8, 1, 2, 3, 9, 9, 8, 6, 1, 2, 3, 4, 5, 6, 7, 8, 9, 1, 2, 3, 4, 5, 6, 7, 8, 9, 1, 2, 3, 4, 5, 6, 7, 8, 9, 2, 7, 8, 1, 2, 3, 4, 5, 6, 7, 8, 9, 1, 1, 3, 4, 5, 7, 8, 9, 1, 2, 3, 9, 1, 2, 3, 4, 5, 6, 7, 8, 9, 8, 1, 2, 3, 4, 5, 6, 7, 8, 9, 1, 2, 3, 4, 5, 6, 7, 8, 9, 2, 3, 1, 2, 3, 4, 5, 6, 7, 8, 9, 1, 2, 3, 4, 5, 6, 7, 8, 9, 7, 1, 7, 1, 2, 3, 4, 5, 6, 7, 8, 5, 1, 2, 3, 7, 3, 4, 5, 6, 7, 1, 2, 3, 4, 5, 6, 7, 8, 9, 1, 2, 3, 5, 6, 7, 8, 9, 6, 5, 4, 1, 1, 2, 3, 4, 5, 6, 7, 8, 9, 8, 1, 2, 3, 4, 5, 6, 7, 8, 9, 1, 2, 3, 4, 5, 6, 7, 8, 9, 1, 2, 3, 5, 6, 7, 5, 9, 6, 2, 1, 2, 3, 4, 5, 6, 7, 8, 9, 3, 1, 2, 3, 4, 5, 6, 7, 8, 9, 1, 2, 3, 4, 5, 6, 7, 8, 9, 1, 2, 3, 4, 5, 6, 7, 8, 9, 2, 9, 1, 2, 3, 4, 5, 6, 7, 8, 9, 1, 2, 3, 4, 5, 6, 7, 8, 9, 1, 2, 3, 5, 7, 2, 2, 1, 2, 3, 4, 5, 6, 7, 8, 9, 1, 2, 3, 4, 5, 6, 7, 8, 9, 3], \"Freq\": [0.1387280970811844, 0.2755929231643677, 0.28558677434921265, 0.04099169746041298, 0.07368341833353043, 0.08232216536998749, 0.016769330948591232, 0.024052977561950684, 0.06199570372700691, 0.2373914122581482, 0.7121742367744446, 0.12879276275634766, 0.19318914413452148, 0.04293092340230942, 0.02146546170115471, 0.10732730478048325, 0.06439638137817383, 0.04293092340230942, 0.02146546170115471, 0.38637828826904297, 0.7932006120681763, 0.10130275785923004, 0.00810422096401453, 0.0273517444729805, 0.003039082745090127, 0.04761229455471039, 0.010130275972187519, 0.006078165490180254, 0.003039082745090127, 0.16228650510311127, 0.24097087979316711, 0.13277986645698547, 0.05163661763072014, 0.10819100588560104, 0.09097880125045776, 0.08851991593837738, 0.1008143499493599, 0.024588866159319878, 0.22638259828090668, 0.19179636240005493, 0.08017716556787491, 0.16192643344402313, 0.08489347249269485, 0.0691724568605423, 0.11161919683218002, 0.03301412984728813, 0.04087463393807411, 0.6284751892089844, 0.20949172973632812, 0.009522351436316967, 0.009522351436316967, 0.05713411048054695, 0.028567055240273476, 0.009522351436316967, 0.05713411048054695, 0.9691684246063232, 0.9026727080345154, 0.829653799533844, 0.7980671525001526, 0.8954479694366455, 0.9432927370071411, 0.8226021528244019, 0.8648703694343567, 0.8690946698188782, 0.7988842129707336, 0.7742666602134705, 0.8033807277679443, 0.8650470972061157, 0.9347568154335022, 0.7706725001335144, 0.8201296329498291, 0.08201296627521515, 0.11153440922498703, 0.7807408571243286, 0.09999160468578339, 0.8999244570732117, 0.8990744352340698, 0.04453926905989647, 0.11877138167619705, 0.5493176579475403, 0.029692845419049263, 0.20784991979599, 0.014846422709524632, 0.014846422709524632, 0.9413395524024963, 0.8354241847991943, 0.07124865800142288, 0.07124865800142288, 0.7837352156639099, 0.7119234800338745, 0.06771942973136902, 0.8803526163101196, 0.6541488766670227, 0.029073283076286316, 0.029073283076286316, 0.029073283076286316, 0.1017564907670021, 0.014536641538143158, 0.043609924614429474, 0.08721984922885895, 0.014536641538143158, 0.7605506777763367, 0.12992018461227417, 0.03712005168199539, 0.5011206865310669, 0.018560025840997696, 0.018560025840997696, 0.03712005168199539, 0.09280013293027878, 0.14848020672798157, 0.8933285474777222, 0.7833865284919739, 0.8937651515007019, 0.8295950293540955, 0.8528923392295837, 0.8345215916633606, 0.7773499488830566, 0.7291260361671448, 0.1215210109949112, 0.0607605054974556, 0.0607605054974556, 0.19325841963291168, 0.6764044761657715, 0.09662920981645584, 0.9540898203849792, 0.7808011770248413, 0.24024824798107147, 0.720744788646698, 0.18450012803077698, 0.18450012803077698, 0.2005436271429062, 0.048130471259355545, 0.016043489798903465, 0.12032617628574371, 0.008021744899451733, 0.07219570130109787, 0.16845664381980896, 0.07928628474473953, 0.10571504384279251, 0.07928628474473953, 0.1321438103914261, 0.5021464824676514, 0.026428760960698128, 0.07928628474473953, 0.12114634364843369, 0.8480244278907776, 0.8296045660972595, 0.793042004108429, 0.8670436143875122, 0.9007031321525574, 0.8295827507972717, 0.9179043173789978, 0.7554445862770081, 0.18886114656925201, 0.8084080219268799, 0.14052724838256836, 0.7026362419128418, 0.9302217960357666, 0.9287047982215881, 0.8068248629570007, 0.9270362257957458, 0.1950920969247818, 0.6828223466873169, 0.12137269973754883, 0.8496088981628418, 0.24178756773471832, 0.03022344596683979, 0.03022344596683979, 0.03022344596683979, 0.5440220236778259, 0.03022344596683979, 0.06044689193367958, 0.03022344596683979, 0.21120639145374298, 0.1508617103099823, 0.3696111738681793, 0.01508617028594017, 0.06788776814937592, 0.09051702171564102, 0.052801597863435745, 0.022629255428910255, 0.01508617028594017, 0.8262646794319153, 0.8325014710426331, 0.1765977442264557, 0.2613646388053894, 0.2543007433414459, 0.06710714101791382, 0.0741710513830185, 0.03531954810023308, 0.03178759291768074, 0.01765977405011654, 0.0847669169306755, 0.116202212870121, 0.6972132921218872, 0.6867150664329529, 0.06540143489837646, 0.03270071744918823, 0.021800478920340538, 0.0981021523475647, 0.03270071744918823, 0.06540143489837646, 0.010900239460170269, 0.1252322793006897, 0.433496356010437, 0.08348818868398666, 0.18303179740905762, 0.06101059913635254, 0.03211084380745888, 0.051377348601818085, 0.025688674300909042, 0.006422168575227261, 0.32237035036087036, 0.06199429929256439, 0.13225451111793518, 0.016531813889741898, 0.13638745248317719, 0.049595437943935394, 0.19424879550933838, 0.045462485402822495, 0.033063627779483795, 0.7472042441368103, 0.8940343260765076, 0.2000647634267807, 0.19841134548187256, 0.21990589797496796, 0.05621654540300369, 0.11904680728912354, 0.06613711267709732, 0.02480141818523407, 0.08763167262077332, 0.026454845443367958, 0.6004577279090881, 0.21306563913822174, 0.02905440703034401, 0.04842400923371315, 0.02905440703034401, 0.01936960406601429, 0.02905440703034401, 0.009684802033007145, 0.01936960406601429, 0.8648064732551575, 0.7944785356521606, 0.8316599726676941, 0.10395749658346176, 0.05197874829173088, 0.7854085564613342, 0.19216176867485046, 0.7686470746994019, 0.31308919191360474, 0.22660471498966217, 0.0718565359711647, 0.1211295872926712, 0.031308919191360474, 0.041574135422706604, 0.13909371197223663, 0.022070221602916718, 0.03336196020245552, 0.4157885015010834, 0.15690132975578308, 0.15428631007671356, 0.10460088402032852, 0.013075110502541065, 0.04184035211801529, 0.06276053190231323, 0.020920176059007645, 0.031380265951156616, 0.910394012928009, 0.9268074035644531, 0.9457420110702515, 0.0556301549077034, 0.9457126259803772, 0.19637319445610046, 0.19426165521144867, 0.16470009088516235, 0.08235004544258118, 0.12880392372608185, 0.06334619224071503, 0.08023850619792938, 0.042230792343616486, 0.05067695304751396, 0.07479394227266312, 0.2742444574832916, 0.02493131533265114, 0.5484889149665833, 0.02493131533265114, 0.02493131533265114, 0.04986263066530228, 0.2921065390110016, 0.15432043373584747, 0.12125177681446075, 0.2921065390110016, 0.00551144452765584, 0.02204577811062336, 0.09369455277919769, 0.016534332185983658, 0.00551144452765584, 0.11661260575056076, 0.19369551539421082, 0.4071558713912964, 0.035576727241277695, 0.0751064270734787, 0.007905939593911171, 0.052376847714185715, 0.09091830253601074, 0.021741332486271858, 0.9110267758369446, 0.9349662065505981, 0.24236434698104858, 0.18511292338371277, 0.10877770185470581, 0.04580113664269447, 0.036259233951568604, 0.2480894923210144, 0.04770951718091965, 0.03435085341334343, 0.04961789771914482, 0.8671822547912598, 0.052560362964868546, 0.052560362964868546, 0.6832847595214844, 0.21024145185947418, 0.0076414053328335285, 0.557822585105896, 0.19103513658046722, 0.0076414053328335285, 0.015282810665667057, 0.13754528760910034, 0.0076414053328335285, 0.08405546098947525, 0.10376762598752975, 0.3168618679046631, 0.23718313872814178, 0.02594190649688244, 0.06485476344823837, 0.1760343611240387, 0.020382925868034363, 0.01852993294596672, 0.03705986589193344, 0.782747209072113, 0.08289510756731033, 0.8289510607719421, 0.24106332659721375, 0.29697734117507935, 0.04905664920806885, 0.12923525273799896, 0.10075075179338455, 0.06224391981959343, 0.06857381016016006, 0.018989671021699905, 0.03323192521929741, 0.7894611358642578, 0.8427456021308899, 0.025125157088041306, 0.15075093507766724, 0.17587609589099884, 0.025125157088041306, 0.5276283025741577, 0.07537546753883362, 0.025125157088041306, 0.8954123258590698, 0.10050546377897263, 0.009136860258877277, 0.07553804665803909, 0.679842472076416, 0.07553804665803909, 0.06625579297542572, 0.10600927472114563, 0.543297529220581, 0.026502318680286407, 0.21201854944229126, 0.026502318680286407, 0.013251159340143204, 0.013251159340143204, 0.8709371089935303, 0.8442051410675049, 0.016836466267704964, 0.09260056167840958, 0.008418233133852482, 0.5808581113815308, 0.2525469958782196, 0.03367293253540993, 0.8295550346374512, 0.9491138458251953, 0.838180422782898, 0.841636598110199, 0.8380734920501709, 0.7892264723777771, 0.035873930901288986, 0.035873930901288986, 0.035873930901288986, 0.8901727199554443, 0.09214115887880325, 0.1005176231265068, 0.3224940299987793, 0.0335058756172657, 0.0335058756172657, 0.04607057943940163, 0.0335058756172657, 0.01256470289081335, 0.33087050914764404, 0.3124905526638031, 0.16368551552295685, 0.07068238407373428, 0.07440251111984253, 0.04092137888073921, 0.11532389372587204, 0.05208175629377365, 0.13392451405525208, 0.037201255559921265, 0.7681095600128174, 0.8755140900611877, 0.8390300273895264, 0.8425511717796326, 0.030091112479567528, 0.060182224959135056, 0.030091112479567528, 0.030091112479567528, 0.04634244367480278, 0.8225783705711365, 0.011585610918700695, 0.011585610918700695, 0.04634244367480278, 0.03475683182477951, 0.02317122183740139, 0.8697807788848877, 0.8358379006385803, 0.10440433025360107, 0.1284976452589035, 0.0722799226641655, 0.05621771514415741, 0.008031102828681469, 0.5380838513374329, 0.048186615109443665, 0.048186615109443665, 0.008031102828681469, 0.25970786809921265, 0.04273673892021179, 0.2432706654071808, 0.11177300661802292, 0.07561115175485611, 0.15122230350971222, 0.03616185486316681, 0.0394492968916893, 0.0394492968916893, 0.9005168676376343, 0.09947510063648224, 0.45641517639160156, 0.04096033796668053, 0.07606919854879379, 0.035108860582113266, 0.20480167865753174, 0.023405905812978745, 0.023405905812978745, 0.04096033796668053, 0.8139694333076477, 0.3390108644962311, 0.0788397416472435, 0.050588831305503845, 0.07095576077699661, 0.06701377779245377, 0.08606671541929245, 0.12417259067296982, 0.019052935764193535, 0.164249449968338, 0.8404589891433716, 0.12008105963468552, 0.327117383480072, 0.02898508496582508, 0.19047340750694275, 0.05797016993165016, 0.02898508496582508, 0.2153177708387375, 0.01656290516257286, 0.01656290516257286, 0.895791232585907, 0.06890701502561569, 0.13570161163806915, 0.7463588118553162, 0.18823178112506866, 0.02823476679623127, 0.05646953359246254, 0.09411589056253433, 0.34822878241539, 0.1035274788737297, 0.07529271394014359, 0.03764635697007179, 0.05646953359246254, 0.8936667442321777, 0.8389936685562134, 0.14453545212745667, 0.7226772308349609, 0.37211111187934875, 0.1301010698080063, 0.13340872526168823, 0.059537775814533234, 0.0678069144487381, 0.1361650973558426, 0.04575588181614876, 0.033627819269895554, 0.02149975299835205, 0.7699463963508606, 0.8923868536949158, 0.7723063230514526, 0.1715858429670334, 0.057195283472537994, 0.6863433718681335, 0.055209096521139145, 0.1706463098526001, 0.005019009113311768, 0.02509504370391369, 0.582205057144165, 0.015057026408612728, 0.09536116570234299, 0.015057026408612728, 0.04015207290649414, 0.8730842471122742, 0.29021239280700684, 0.2770777940750122, 0.07005126774311066, 0.11195693910121918, 0.0675494372844696, 0.05253845080733299, 0.09256774932146072, 0.017512816935777664, 0.021265564486384392, 0.1563168317079544, 0.11553853005170822, 0.18350237607955933, 0.06796383857727051, 0.12006945163011551, 0.07022929936647415, 0.10647668689489365, 0.11100760847330093, 0.06796383857727051, 0.09586824476718903, 0.14979413151741028, 0.34153062105178833, 0.12582707405090332, 0.035950593650341034, 0.04793412238359451, 0.08987648040056229, 0.08987648040056229, 0.023967061191797256, 0.1746901571750641, 0.23701679706573486, 0.1237754374742508, 0.09129535406827927, 0.0684715211391449, 0.14308790862560272, 0.04740335792303085, 0.09656240046024323, 0.018434640020132065, 0.9408438205718994, 0.8117088079452515, 0.7000475525856018, 0.32543763518333435, 0.02624497003853321, 0.3044416606426239, 0.02624497003853321, 0.0892328992486, 0.0892328992486, 0.09973088651895523, 0.02624497003853321, 0.0104979882016778, 0.7953265309333801, 0.8812377452850342, 0.2032838761806488, 0.25899872183799744, 0.05722064897418022, 0.11444129794836044, 0.12498193979263306, 0.05420903488993645, 0.08281935751438141, 0.06625548750162125, 0.0361393578350544, 0.26064473390579224, 0.2295229732990265, 0.13421258330345154, 0.17311479151248932, 0.04862774908542633, 0.03306686878204346, 0.04668264091014862, 0.04473752900958061, 0.02723154053092003, 0.9284220933914185, 0.2565973997116089, 0.23753586411476135, 0.06451591849327087, 0.13929572701454163, 0.09384132921695709, 0.04252185299992561, 0.09677387028932571, 0.03812304139137268, 0.03372422978281975, 0.04041857272386551, 0.24251143634319305, 0.05389142781496048, 0.4850228726863861, 0.01347285695374012, 0.14820143580436707, 0.15870122611522675, 0.37691542506217957, 0.04463472217321396, 0.151262104511261, 0.10910709202289581, 0.03471589460968971, 0.09422885626554489, 0.02231736108660698, 0.012398533523082733, 0.0414045974612236, 0.1242137923836708, 0.745282769203186, 0.0414045974612236, 0.8436121940612793, 0.8100574612617493, 0.09900343418121338, 0.7722267508506775, 0.019800687208771706, 0.019800687208771706, 0.019800687208771706, 0.03960137441754341, 0.20727650821208954, 0.14805465936660767, 0.029610930010676384, 0.029610930010676384, 0.029610930010676384, 0.029610930010676384, 0.11844372004270554, 0.38494208455085754, 0.17959383130073547, 0.7542940974235535, 0.035918768495321274, 0.8673376441001892, 0.12891119718551636, 0.7734671831130981, 0.8661471009254456, 0.9487201571464539, 0.5580020546913147, 0.17116737365722656, 0.0618104413151741, 0.19969527423381805, 0.05230114236474037, 0.057055793702602386, 0.2424871176481247, 0.047546494752168655, 0.057055793702602386, 0.11411158740520477, 0.9317483901977539, 0.08240515738725662, 0.14715206623077393, 0.04120257869362831, 0.34845608472824097, 0.19777236878871918, 0.024721546098589897, 0.0753418579697609, 0.05532917380332947, 0.027075979858636856, 0.27818846702575684, 0.17395581305027008, 0.06549753248691559, 0.07183600962162018, 0.17888574302196503, 0.08310440182685852, 0.1056411862373352, 0.03732655197381973, 0.0056341965682804585, 0.9366700649261475, 0.029237166047096252, 0.8478778004646301, 0.058474332094192505, 0.029237166047096252, 0.029237166047096252, 0.04464146867394447, 0.13392440974712372, 0.5505781173706055, 0.02976098097860813, 0.19344636797904968, 0.02976098097860813, 0.014880490489304066, 0.8382107615470886, 0.8440662026405334, 0.13133378326892853, 0.7880026698112488, 0.8965696692466736, 0.15478719770908356, 0.2830394506454468, 0.10613978654146194, 0.1503646969795227, 0.04422491416335106, 0.02211245708167553, 0.20785708725452423, 0.017689965665340424, 0.013267473317682743, 0.0693952664732933, 0.7633479237556458, 0.03469763323664665, 0.03469763323664665, 0.10409289598464966, 0.49663516879081726, 0.09370474517345428, 0.02342618629336357, 0.04216713830828667, 0.11244569718837738, 0.13118664920330048, 0.06559332460165024, 0.009370475076138973, 0.02342618629336357, 0.1700260192155838, 0.31447288393974304, 0.16852135956287384, 0.04213033989071846, 0.05115826800465584, 0.16400739550590515, 0.033102408051490784, 0.02106516994535923, 0.03611171990633011, 0.14846883714199066, 0.12670744955539703, 0.25130894780158997, 0.08564160019159317, 0.09055545926094055, 0.12144259363412857, 0.09933021664619446, 0.05966832488775253, 0.016847526654601097, 0.18395651876926422, 0.06307080388069153, 0.23125961422920227, 0.11037390679121017, 0.10511800646781921, 0.16293291747570038, 0.06569875776767731, 0.026279501616954803, 0.04993105307221413, 0.7643211483955383, 0.8128141760826111, 0.03551257401704788, 0.4261508882045746, 0.03551257401704788, 0.46166345477104187, 0.8022596836090088, 0.053483981639146805, 0.053483981639146805, 0.14722755551338196, 0.44462719559669495, 0.08539197593927383, 0.1442829966545105, 0.032390061765909195, 0.0559464693069458, 0.03827916458249092, 0.032390061765909195, 0.01766730658710003, 0.932427167892456, 0.9171634316444397, 0.9115915894508362, 0.6954648494720459, 0.11930444836616516, 0.034086983650922775, 0.017043491825461388, 0.06817396730184555, 0.034086983650922775, 0.5965222120285034, 0.10226095467805862, 0.034086983650922775, 0.34241995215415955, 0.1059180349111557, 0.1755627691745758, 0.14944599568843842, 0.05658635124564171, 0.04062609747052193, 0.07835032790899277, 0.039175163954496384, 0.010156524367630482, 0.07889124751091003, 0.11833687126636505, 0.21037666499614716, 0.013148541562259197, 0.06574270874261856, 0.05259416624903679, 0.3813077211380005, 0.07889124751091003, 0.013148541562259197, 0.8518730401992798, 0.2105160653591156, 0.07755854725837708, 0.14403730630874634, 0.07755854725837708, 0.24190881848335266, 0.14219067990779877, 0.05909222736954689, 0.027699481695890427, 0.020312953740358353, 0.17091472446918488, 0.1880062073469162, 0.25827115774154663, 0.03228389471769333, 0.18990525603294373, 0.06836589425802231, 0.034182947129011154, 0.030384840443730354, 0.02848578803241253, 0.8066117167472839, 0.8164712190628052, 0.11663874238729477, 0.9299127459526062, 0.14309081435203552, 0.08585448563098907, 0.05723632499575615, 0.04292724281549454, 0.5151269435882568, 0.04292724281549454, 0.05723632499575615, 0.04292724281549454, 0.014309081248939037, 0.7896607518196106, 0.04156109318137169, 0.020780546590685844, 0.020780546590685844, 0.06234164163470268, 0.020780546590685844, 0.020780546590685844, 0.04156109318137169, 0.7798528671264648, 0.7606685161590576, 0.7898462414741516, 0.052656419575214386, 0.10531283915042877, 0.9497524499893188, 0.23847895860671997, 0.23967134952545166, 0.058427341282367706, 0.11685468256473541, 0.08942960947751999, 0.07512086629867554, 0.07631326466798782, 0.04411860555410385, 0.06319691985845566, 0.9481099247932434, 0.2946503162384033, 0.6384090185165405, 0.8419548869132996, 0.865100622177124, 0.06871409714221954, 0.7558550834655762, 0.06871409714221954, 0.06871409714221954, 0.06871409714221954, 0.08408388495445251, 0.8408388495445251, 0.8004077672958374, 0.7825525999069214, 0.9305654168128967, 0.21383538842201233, 0.3171491026878357, 0.07448198646306992, 0.11052165925502777, 0.04084496200084686, 0.11292430758476257, 0.0648714080452919, 0.03844231739640236, 0.02642909251153469, 0.7939743399620056, 0.24176141619682312, 0.04029357060790062, 0.1853504180908203, 0.016117427498102188, 0.3142898380756378, 0.06446970999240875, 0.06446970999240875, 0.016117427498102188, 0.05641099810600281, 0.4008251130580902, 0.19660089910030365, 0.0569741390645504, 0.04172753915190697, 0.05296187475323677, 0.09468941390514374, 0.03611036762595177, 0.10792988538742065, 0.012036790139973164, 0.8379734754562378, 0.25062456727027893, 0.03341661021113396, 0.20049965381622314, 0.03341661021113396, 0.1790175437927246, 0.12411883473396301, 0.12173193693161011, 0.026255907490849495, 0.02864280715584755, 0.9099981784820557, 0.70245361328125, 0.9073742628097534, 0.7416056394577026, 0.11709561944007874, 0.019515937194228172, 0.019515937194228172, 0.05854780972003937, 0.039031874388456345, 0.019515937194228172, 0.10994118452072144, 0.1465882509946823, 0.6230000257492065, 0.03664706274867058, 0.03664706274867058, 0.03664706274867058, 0.03664706274867058, 0.17883990705013275, 0.715359628200531, 0.1855536699295044, 0.7422146797180176, 0.7431950569152832, 0.16890797019004822, 0.10134477913379669, 0.9295940399169922, 0.27466484904289246, 0.05231711268424988, 0.6408846378326416, 0.03923783451318741, 0.8925883173942566, 0.05062231421470642, 0.02531115710735321, 0.4809119701385498, 0.02531115710735321, 0.02531115710735321, 0.02531115710735321, 0.37966734170913696, 0.8468897342681885, 0.46316012740135193, 0.20276595652103424, 0.038418810814619064, 0.10458454489707947, 0.02774691954255104, 0.06403135508298874, 0.019209405407309532, 0.03201567754149437, 0.04482194781303406, 0.8205123543739319, 0.7856711745262146, 0.9825971126556396, 0.8860124349594116, 0.8352522850036621, 0.10417825728654861, 0.17047351598739624, 0.018941501155495644, 0.530362069606781, 0.02841225266456604, 0.018941501155495644, 0.10417825728654861, 0.009470750577747822, 0.009470750577747822, 0.0834445059299469, 0.15298159420490265, 0.20165754854679108, 0.006953708827495575, 0.07649079710245132, 0.0834445059299469, 0.20165754854679108, 0.006953708827495575, 0.18079642951488495, 0.1460331380367279, 0.036508284509181976, 0.036508284509181976, 0.328574538230896, 0.43809938430786133, 0.9562279582023621, 0.1505759060382843, 0.028232982382178307, 0.4517277181148529, 0.05646596476435661, 0.08469894528388977, 0.05646596476435661, 0.028232982382178307, 0.009410994127392769, 0.14116491377353668, 0.8666496872901917, 0.9587250351905823, 0.1431053876876831, 0.8586323261260986, 0.17970064282417297, 0.12579044699668884, 0.10782038420438766, 0.035940125584602356, 0.12579044699668884, 0.035940125584602356, 0.08985032141208649, 0.28752100467681885, 0.035940125584602356, 0.1417137086391449, 0.17592045664787292, 0.10750694572925568, 0.18080714344978333, 0.06352683156728745, 0.07330019026994705, 0.21501389145851135, 0.024433396756649017, 0.019546717405319214, 0.1701810359954834, 0.08168689161539078, 0.07487965375185013, 0.027228964492678642, 0.30632585287094116, 0.08168689161539078, 0.1565665453672409, 0.04084344580769539, 0.06126517057418823, 0.8414548635482788, 0.9540543556213379, 0.13027505576610565, 0.13027505576610565, 0.7816503643989563, 0.11110666394233704, 0.7777466177940369, 0.07932025194168091, 0.6028339266777039, 0.007932025007903576, 0.21416468918323517, 0.039660125970840454, 0.047592151910066605, 0.7768573760986328, 0.7310768365859985, 0.2193230539560318, 0.2709658443927765, 0.2365574985742569, 0.05161254480481148, 0.2838689982891083, 0.017204182222485542, 0.017204182222485542, 0.060214634984731674, 0.02580627240240574, 0.030107317492365837, 0.0850495845079422, 0.7654462456703186, 0.2354348599910736, 0.1765761375427246, 0.5297284126281738, 0.03245154768228531, 0.8437402844429016, 0.03245154768228531, 0.03245154768228531, 0.06490309536457062, 0.8873168230056763, 0.7678869962692261, 0.8912438154220581, 0.1258770078420639, 0.06293850392103195, 0.06293850392103195, 0.06293850392103195, 0.6293850541114807, 0.2454477995634079, 0.2141490876674652, 0.19767607748508453, 0.03129871189594269, 0.056008223444223404, 0.10048533976078033, 0.08565963804721832, 0.056008223444223404, 0.014825706370174885, 0.8484473824501038, 0.10605592280626297, 0.04356890916824341, 0.04356890916824341, 0.08713781833648682, 0.13070672750473022, 0.6099647283554077, 0.04356890916824341, 0.8435859084129333, 0.7807798385620117, 0.15693692862987518, 0.1923743039369583, 0.05062481388449669, 0.03543737158179283, 0.06074977666139603, 0.25818654894828796, 0.1063121110200882, 0.07593721896409988, 0.06074977666139603, 0.13665078580379486, 0.8199046850204468, 0.4553789496421814, 0.05749734118580818, 0.05749734118580818, 0.042548034340143204, 0.08164622634649277, 0.11269479244947433, 0.07129670679569244, 0.042548034340143204, 0.07704643905162811, 0.39201557636260986, 0.13067185878753662, 0.05569620430469513, 0.05783836543560028, 0.12638753652572632, 0.05141187831759453, 0.11781889200210571, 0.029990263283252716, 0.03641674667596817, 0.8635750412940979, 0.12187523394823074, 0.030468808487057686, 0.030468808487057686, 0.06093761697411537, 0.137109637260437, 0.44179773330688477, 0.10664083063602448, 0.0457032136619091, 0.06353454291820526, 0.889483630657196, 0.12982110679149628, 0.2318233996629715, 0.04327370226383209, 0.29982492327690125, 0.1421850174665451, 0.02781880833208561, 0.08345642685890198, 0.030909787863492966, 0.012363914400339127, 0.7142021656036377, 0.9640041589736938, 0.8155557513237, 0.7694377303123474, 0.01914108358323574, 0.5359503626823425, 0.01914108358323574, 0.4211038649082184, 0.1923423558473587, 0.18521857261657715, 0.10685686767101288, 0.05342843383550644, 0.14603771269321442, 0.1317901313304901, 0.0747998058795929, 0.09617117792367935, 0.014247582294046879, 0.9199152588844299, 0.20068445801734924, 0.23258812725543976, 0.05557415634393692, 0.2758124768733978, 0.05866160988807678, 0.046311795711517334, 0.10188595205545425, 0.0164664164185524, 0.011320661753416061, 0.18854977190494537, 0.2191891223192215, 0.03535308316349983, 0.15319669246673584, 0.115486741065979, 0.05420806258916855, 0.09898863732814789, 0.049494318664073944, 0.08720427006483078, 0.8858978748321533, 0.1499352604150772, 0.31986188888549805, 0.08662925660610199, 0.2532239854335785, 0.04664652422070503, 0.029987050220370293, 0.0699697881937027, 0.023323262110352516, 0.01665947213768959, 0.3403193950653076, 0.15272870659828186, 0.07138406485319138, 0.05146293342113495, 0.0796845406293869, 0.15272870659828186, 0.0913052037358284, 0.026561513543128967, 0.03320189192891121, 0.8865945339202881, 0.10173556208610535, 0.8138844966888428, 0.9428146481513977, 0.3510836958885193, 0.1367051601409912, 0.0662812888622284, 0.03728322312235832, 0.06524564325809479, 0.1004575788974762, 0.1180635467171669, 0.10356450825929642, 0.022784192115068436, 0.1613670140504837, 0.06454680860042572, 0.6131947040557861, 0.03227340430021286, 0.09682021290063858, 0.03227340430021286, 0.04354831203818321, 0.04354831203818321, 0.8274179100990295, 0.15953896939754486, 0.04254372417926788, 0.0744515135884285, 0.09572337567806244, 0.4786168932914734, 0.04254372417926788, 0.04254372417926788, 0.03190779313445091, 0.02127186208963394, 0.8665017485618591, 0.15393565595149994, 0.7696782946586609, 0.9431068897247314, 0.16749148070812225, 0.09843797236680984, 0.03183317556977272, 0.5357768535614014, 0.0528920479118824, 0.018610164523124695, 0.07346117496490479, 0.01567171700298786, 0.0063666352070868015, 0.16856476664543152, 0.15864919126033783, 0.014873362146317959, 0.024788936600089073, 0.2776360809803009, 0.24788936972618103, 0.07932459563016891, 0.01983114890754223, 0.009915574453771114, 0.06770560145378113, 0.025389602407813072, 0.11848480999469757, 0.5924240350723267, 0.07616880536079407, 0.016926400363445282, 0.016926400363445282, 0.016926400363445282, 0.06770560145378113, 0.8539015650749207, 0.8656457662582397, 0.9206787943840027, 0.776187002658844, 0.7534443736076355, 0.15068887174129486, 0.7983829975128174, 0.9333940148353577, 0.8369762301445007, 0.04923389479517937, 0.04923389479517937, 0.7305366396903992, 0.20546342432498932, 0.022829269990324974, 0.888460636138916, 0.8047024607658386, 0.9264506697654724, 0.7630615234375, 0.9035409688949585, 0.11156932264566422, 0.05578466132283211, 0.018594887107610703, 0.037189774215221405, 0.6694159507751465, 0.018594887107610703, 0.037189774215221405, 0.018594887107610703, 0.037189774215221405, 0.13702216744422913, 0.06851108372211456, 0.47957757115364075, 0.2055332362651825, 0.8649492859840393, 0.7631680965423584, 0.7952946424484253, 0.8482806086540222, 0.14950348436832428, 0.37216827273368835, 0.031809251755476, 0.063618503510952, 0.13041794300079346, 0.06679943203926086, 0.09224683791399002, 0.06998036056756973, 0.022266477346420288, 0.8337409496307373, 0.7707130312919617, 0.13412682712078094, 0.28812429308891296, 0.07451490312814713, 0.30302727222442627, 0.03974128141999245, 0.024838300421833992, 0.08445022255182266, 0.019870640709996223, 0.02980596013367176, 0.12443666160106659, 0.8710566759109497, 0.8969025015830994, 0.8078685998916626, 0.9594373106956482, 0.8514590859413147, 0.8378575444221497, 0.8819561004638672, 0.07966449111700058, 0.10139116644859314, 0.25347793102264404, 0.04345335811376572, 0.02172667905688286, 0.04345335811376572, 0.01448445301502943, 0.01448445301502943, 0.43453359603881836, 0.2065895050764084, 0.13328354060649872, 0.09996265918016434, 0.026656709611415863, 0.05997759476304054, 0.3065521717071533, 0.026656709611415863, 0.03332088515162468, 0.09996265918016434, 0.20320919156074524, 0.20320919156074524, 0.5418911576271057, 0.8471728563308716, 0.17111577093601227, 0.12711456418037415, 0.08800239861011505, 0.3911217451095581, 0.019556088373064995, 0.019556088373064995, 0.13689261674880981, 0.03911217674612999, 0.004889022093266249, 0.9526944160461426, 0.06366753578186035, 0.5730078220367432, 0.2546701431274414, 0.031833767890930176, 0.031833767890930176, 0.031833767890930176, 0.5005602240562439, 0.033936288207769394, 0.1993756890296936, 0.008484072051942348, 0.10180886089801788, 0.033936288207769394, 0.059388499706983566, 0.05090443044900894, 0.012726107612252235, 0.840613603591919, 0.14010226726531982, 0.8399937748908997, 0.9292770624160767, 0.8425549864768982, 0.8011056184768677, 0.31674814224243164, 0.10703902691602707, 0.06771857291460037, 0.04150493070483208, 0.2577674686908722, 0.061165157705545425, 0.05024281144142151, 0.032767049968242645, 0.06553409993648529, 0.47360241413116455, 0.04178844764828682, 0.07661215215921402, 0.03830607607960701, 0.1044711172580719, 0.09750637412071228, 0.12536534667015076, 0.010447111912071705, 0.0348237045109272, 0.2555168867111206, 0.24448737502098083, 0.07169178873300552, 0.07353004068136215, 0.03492676839232445, 0.1525748372077942, 0.09191254526376724, 0.040441520512104034, 0.03308851644396782, 0.7976665496826172, 0.7639689445495605, 0.8873370885848999, 0.8687428832054138, 0.8712136745452881, 0.15505404770374298, 0.46832653880119324, 0.03480805084109306, 0.09493105113506317, 0.06645173579454422, 0.09176668524742126, 0.06328736990690231, 0.01582184247672558, 0.006328736897557974, 0.674835205078125, 0.3530733287334442, 0.1650732457637787, 0.09629272669553757, 0.03943416476249695, 0.02934635430574417, 0.11646834760904312, 0.10454639047384262, 0.020175619050860405, 0.07611710578203201, 0.6156370043754578, 0.1758962720632553, 0.06596110761165619, 0.04397406801581383, 0.029316047206521034, 0.021987034007906914, 0.014658023603260517, 0.014658023603260517, 0.014658023603260517, 0.2426409125328064, 0.2234218418598175, 0.06005963310599327, 0.07927871495485306, 0.1561550498008728, 0.09369302541017532, 0.07927871495485306, 0.05285247787833214, 0.016816698014736176, 0.09595274180173874, 0.19190548360347748, 0.6716691851615906, 0.26605424284935, 0.18467293679714203, 0.13459214568138123, 0.1627625972032547, 0.034430548548698425, 0.03130049630999565, 0.09703154116868973, 0.04382069781422615, 0.04225567355751991, 0.16185787320137024, 0.647431492805481, 0.040984146296978, 0.778698742389679, 0.081968292593956, 0.040984146296978, 0.8415181636810303, 0.8764442205429077, 0.05232502892613411, 0.026162514463067055, 0.013081257231533527, 0.013081257231533527, 0.013081257231533527, 0.8952070474624634, 0.12640900909900665, 0.04596691206097603, 0.08044210076332092, 0.08044210076332092, 0.41370221972465515, 0.14939247071743011, 0.08044210076332092, 0.011491728015244007, 0.022983456030488014, 0.8575330972671509, 0.0571688711643219, 0.0571688711643219, 0.828808605670929, 0.8520049452781677, 0.5534350872039795, 0.05270810425281525, 0.039531078189611435, 0.017569368705153465, 0.12298557907342911, 0.02196170948445797, 0.05270810425281525, 0.12737791240215302, 0.013177026063203812, 0.8324097394943237, 0.03753349557518959, 0.6380693912506104, 0.07506699115037918, 0.07506699115037918, 0.03753349557518959, 0.07506699115037918, 0.07506699115037918, 0.7623494863510132, 0.7722960114479065, 0.2315194010734558, 0.1157597005367279, 0.6366783380508423, 0.9288614392280579, 0.24110548198223114, 0.1112794578075409, 0.09273287653923035, 0.06491301953792572, 0.09273287653923035, 0.09273287653923035, 0.05563972890377045, 0.0185465756803751, 0.24110548198223114, 0.12969213724136353, 0.1080767810344696, 0.04323071241378784, 0.5187685489654541, 0.02161535620689392, 0.02161535620689392, 0.08646142482757568, 0.04323071241378784, 0.23468439280986786, 0.03352634236216545, 0.03352634236216545, 0.0670526847243309, 0.5364214777946472, 0.03352634236216545, 0.03352634236216545, 0.09699764102697372, 0.04849882051348686, 0.7759811282157898, 0.3318544626235962, 0.16836018860340118, 0.028222227469086647, 0.1099693700671196, 0.09050576388835907, 0.10510347038507462, 0.09537167102098465, 0.04281993210315704, 0.026275867596268654, 0.44641128182411194, 0.5301133990287781, 0.009300235658884048, 0.26463213562965393, 0.1360965371131897, 0.06426780670881271, 0.1833522766828537, 0.11719423532485962, 0.10774309188127518, 0.09073102474212646, 0.017012067139148712, 0.01890229620039463, 0.7786092758178711, 0.8896269202232361, 0.8510342836380005, 0.047279682010412216, 0.09455936402082443, 0.5295080542564392, 0.3971310555934906, 0.128047913312912, 0.41615572571754456, 0.021341318264603615, 0.032011978328228, 0.010670659132301807, 0.05335329845547676, 0.32011979818344116, 0.021341318264603615, 0.8658133745193481, 0.45619848370552063, 0.10014113038778305, 0.0704696848988533, 0.06676075607538223, 0.05563396215438843, 0.06305182725191116, 0.07417862117290497, 0.09272327274084091, 0.018544655293226242, 0.20446696877479553, 0.7667511105537415, 0.3092811703681946, 0.15979526937007904, 0.03608280420303345, 0.0721656084060669, 0.1546405851840973, 0.07732029259204865, 0.0051546860486269, 0.17010463774204254, 0.015464059077203274, 0.39065083861351013, 0.15776284039020538, 0.09015019237995148, 0.17529204487800598, 0.035058408975601196, 0.05509178340435028, 0.05509178340435028, 0.020033376291394234, 0.017529204487800598, 0.1971246898174286, 0.22548794746398926, 0.09785326570272446, 0.2013791799545288, 0.032617755234241486, 0.03970856964588165, 0.13472551107406616, 0.036872245371341705, 0.03403591737151146, 0.05789320170879364, 0.9262912273406982, 0.7752653956413269, 0.16379551589488983, 0.07708024233579636, 0.11562035977840424, 0.13007290661334991, 0.26978084444999695, 0.08671527355909348, 0.08189775794744492, 0.03372260555624962, 0.03854012116789818, 0.0779927670955658, 0.8579204082489014, 0.9374862313270569, 0.04355217143893242, 0.30486518144607544, 0.6097303628921509, 0.7657731771469116, 0.6865701675415039, 0.44660913944244385, 0.09965658187866211, 0.05536476895213127, 0.07381968945264816, 0.11072953790426254, 0.05536476895213127, 0.07751067727804184, 0.044291816651821136, 0.0332188606262207, 0.26412519812583923, 0.08804173767566681, 0.6162921190261841, 0.9290132522583008, 0.8951429128646851, 0.9648218750953674, 0.8435837030410767, 0.6799536347389221, 0.25902995467185974, 0.03237874433398247, 0.09922508150339127, 0.7938006520271301, 0.6735215783119202, 0.017269782721996307, 0.13815826177597046, 0.017269782721996307, 0.12088848650455475, 0.017269782721996307, 0.017269782721996307, 0.3073107600212097, 0.17391763627529144, 0.09118011593818665, 0.05234414339065552, 0.13677017390727997, 0.04559005796909332, 0.11650792509317398, 0.03545893356204033, 0.042213018983602524, 0.06838979572057724, 0.752287745475769, 0.06838979572057724, 0.15620988607406616, 0.10475251078605652, 0.11210355907678604, 0.058808427304029465, 0.056970663368701935, 0.15620988607406616, 0.20215396583080292, 0.058808427304029465, 0.09372592717409134, 0.8158674240112305, 0.05807953327894211, 0.029039766639471054, 0.029039766639471054, 0.6388748288154602, 0.23231813311576843, 0.9364768266677856, 0.23893482983112335, 0.223654106259346, 0.06251201778650284, 0.13058066368103027, 0.09168429672718048, 0.09168429672718048, 0.10696501284837723, 0.03611805662512779, 0.016669871285557747, 0.9357021450996399, 0.010940800420939922, 0.03282240033149719, 0.021881600841879845, 0.7658560276031494, 0.14223040640354156, 0.021881600841879845, 0.8193427920341492, 0.3009536564350128, 0.18057218194007874, 0.0869421660900116, 0.10700573772192001, 0.04904429614543915, 0.06687858700752258, 0.1627378910779953, 0.026751434430480003, 0.020063577219843864, 0.8452718257904053, 0.33062395453453064, 0.19248655438423157, 0.06340733170509338, 0.07020097970962524, 0.03396821394562721, 0.0973755493760109, 0.1086982861161232, 0.08831735700368881, 0.015851832926273346, 0.775593638420105, 0.8362714648246765, 0.0836271420121193, 0.16625045239925385, 0.3334296643733978, 0.11795422434806824, 0.0808032900094986, 0.06222781911492348, 0.1198117733001709, 0.07058677822351456, 0.022290563210844994, 0.026005655527114868, 0.835981011390686, 0.8856824636459351, 0.17586050927639008, 0.05862016975879669, 0.7034420371055603, 0.8956603407859802, 0.8831852078437805, 0.30957508087158203, 0.16249188780784607, 0.10365862399339676, 0.0924522802233696, 0.0770435705780983, 0.11206337064504623, 0.0896506980061531, 0.023813467472791672, 0.032218221575021744, 0.21725285053253174, 0.20216584205627441, 0.06940021365880966, 0.07392631471157074, 0.0618567131459713, 0.15388743579387665, 0.09203071892261505, 0.025647906586527824, 0.1025916263461113, 0.8929218649864197, 0.9362127780914307, 0.0548253208398819, 0.2193012833595276, 0.01566437818109989, 0.039160944521427155, 0.25063005089759827, 0.007832189090549946, 0.4072738289833069, 0.8506665229797363, 0.9531493782997131, 0.03231015056371689, 0.19231145083904266, 0.09615572541952133, 0.09615572541952133, 0.5769343376159668, 0.7612624764442444, 0.8244643211364746, 0.8344705104827881, 0.190011128783226, 0.22543694078922272, 0.11593899875879288, 0.03542580455541611, 0.2061137706041336, 0.07085160911083221, 0.041866861283779144, 0.0257642213255167, 0.08695425093173981, 0.11513492465019226, 0.24466171860694885, 0.05756746232509613, 0.37418851256370544, 0.0647633969783783, 0.007195932790637016, 0.1079389899969101, 0.02158779837191105, 0.007195932790637016, 0.03704902529716492, 0.3056544363498688, 0.05557353422045708, 0.46311280131340027, 0.03704902529716492, 0.01852451264858246, 0.02778676711022854, 0.00926225632429123, 0.03704902529716492, 0.16571295261383057, 0.24856944382190704, 0.579995334148407, 0.0489521399140358, 0.07692479342222214, 0.146856427192688, 0.02797265164554119, 0.2727333605289459, 0.3776308000087738, 0.02797265164554119, 0.013986325822770596, 0.006993162911385298, 0.8520264029502869, 0.040388915687799454, 0.08077783137559891, 0.040388915687799454, 0.6462226510047913, 0.08077783137559891, 0.040388915687799454, 0.040388915687799454, 0.23383894562721252, 0.12379708886146545, 0.0825313925743103, 0.5502092838287354, 0.14513884484767914, 0.22887279093265533, 0.07815168797969818, 0.14513884484767914, 0.03349357843399048, 0.10048074275255203, 0.07815168797969818, 0.050240371376276016, 0.13955658674240112, 0.838976263999939, 0.2672851085662842, 0.25352779030799866, 0.04127196595072746, 0.14543454349040985, 0.13560789823532104, 0.05109862610697746, 0.04127196595072746, 0.03144530951976776, 0.03144530951976776, 0.24503789842128754, 0.04813244566321373, 0.14877301454544067, 0.030629737302660942, 0.3413027822971344, 0.11814327538013458, 0.03938109055161476, 0.013127030804753304, 0.013127030804753304, 0.9903931617736816, 0.9054976105690002, 0.09972025454044342, 0.09065477550029755, 0.38075006008148193, 0.05439286306500435, 0.01813095435500145, 0.09065477550029755, 0.027196431532502174, 0.01813095435500145, 0.2175714522600174, 0.12196071445941925, 0.19664150476455688, 0.04996628314256668, 0.4421747326850891, 0.1112152710556984, 0.0037609029095619917, 0.06232353672385216, 0.0037609029095619917, 0.008596349507570267, 0.7722135782241821, 0.8455953598022461, 0.07687230408191681, 0.13242070376873016, 0.15890485048294067, 0.052968282252550125, 0.052968282252550125, 0.07945242524147034, 0.07945242524147034, 0.026484141126275063, 0.423746258020401, 0.6924956440925598, 0.7153732776641846, 0.11005742847919464, 0.11005742847919464, 0.02751435711979866, 0.8551145195960999, 0.03420457988977432, 0.03420457988977432, 0.03420457988977432, 0.03420457988977432, 0.33031192421913147, 0.10103658586740494, 0.287565678358078, 0.02331613563001156, 0.02720215916633606, 0.11269465833902359, 0.06217636168003082, 0.05051829293370247, 0.0038860226050019264, 0.15035095810890198, 0.05638160556554794, 0.4322589933872223, 0.08770471811294556, 0.05638160556554794, 0.07517547905445099, 0.05011698231101036, 0.09396934509277344, 0.8902217745780945, 0.8821744918823242, 0.929214596748352, 0.9585548043251038, 0.14631502330303192, 0.37985628843307495, 0.07315751165151596, 0.21103127300739288, 0.03657875582575798, 0.02532375417649746, 0.07597126066684723, 0.03939250484108925, 0.016882501542568207, 0.6871905326843262, 0.2619475722312927, 0.17834728956222534, 0.12818710505962372, 0.0362267903983593, 0.022293411195278168, 0.20342737436294556, 0.039013467729091644, 0.07524026185274124, 0.052946850657463074, 0.47954896092414856, 0.14822423458099365, 0.08719072490930557, 0.052314434200525284, 0.06684622168540955, 0.05522079020738602, 0.05812714993953705, 0.03196993097662926, 0.020344501361250877, 0.8360584378242493, 0.14573918282985687, 0.029147835448384285, 0.6412523984909058, 0.029147835448384285, 0.14573918282985687, 0.8936585187911987, 0.8097103834152222, 0.902148425579071, 0.9564571380615234, 0.19304104149341583, 0.06253442168235779, 0.09062959253787994, 0.07431627064943314, 0.2990776598453522, 0.1667584478855133, 0.06615960597991943, 0.02446999028325081, 0.023563694208860397, 0.8873128890991211, 0.2113857865333557, 0.18101565539836884, 0.12461397051811218, 0.11352646350860596, 0.10629547387361526, 0.06387370079755783, 0.14196833968162537, 0.04169867932796478, 0.015667133033275604, 0.11093302816152573, 0.40390998125076294, 0.12231077253818512, 0.03413323685526848, 0.056888729333877563, 0.09955527633428574, 0.08817753195762634, 0.05119985714554787, 0.036977674812078476, 0.15831942856311798, 0.04071070998907089, 0.1537960171699524, 0.06785117834806442, 0.04523412138223648, 0.39353686571121216, 0.08142141997814178, 0.02714047208428383, 0.036187298595905304, 0.15580186247825623, 0.7790093421936035, 0.3232060670852661, 0.24963606894016266, 0.06630545109510422, 0.10843979567289352, 0.06736211478710175, 0.06366380304098129, 0.07396624237298965, 0.02866191789507866, 0.018887808546423912, 0.13769447803497314, 0.20574116706848145, 0.0624428428709507, 0.12888842821121216, 0.09126261621713638, 0.1192818433046341, 0.1873285323381424, 0.033623069524765015, 0.034423619508743286, 0.08516313135623932, 0.02129078283905983, 0.7238866090774536, 0.04258156567811966, 0.12774470448493958, 0.922875702381134, 0.7945532202720642, 0.17962861061096191, 0.15752047300338745, 0.14370287954807281, 0.2846422493457794, 0.04974330589175224, 0.06632441282272339, 0.04145275428891182, 0.060797374695539474, 0.013817585073411465, 0.2613040506839752, 0.15242736041545868, 0.09798901528120041, 0.02177533693611622, 0.10887668281793594, 0.04355067387223244, 0.01088766846805811, 0.2177533656358719, 0.0653260126709938, 0.9224534034729004], \"Term\": [\"\", \"\", \"\", \"\", \"\", \"\", \"\", \"\", \"\", \"''\", \"''\", \"--\", \"--\", \"--\", \"--\", \"--\", \"--\", \"--\", \"--\", \"--\", \".\", \".\", \".\", \".\", \".\", \".\", \".\", \".\", \".\", \"..\", \"..\", \"..\", \"..\", \"..\", \"..\", \"..\", \"..\", \"..\", \"...\", \"...\", \"...\", \"...\", \"...\", \"...\", \"...\", \"...\", \"...\", \"//\", \"//\", \"//\", \"//\", \"//\", \"//\", \"//\", \"//\", \"/?\", \"1.10\", \"=%\", \"American\", \"Cream\", \"DHA\", \"Enfa\", \"Express\", \"Facebook\", \"Farm\", \"Green\", \"Hi\", \"Ice\", \"Lotus\", \"MC\", \"Max\", \"Max\", \"Mill\", \"Mill\", \"NAGOYA\", \"NAGOYA\", \"Soy\", \"Spoil\", \"Spoil\", \"Spoil\", \"Spoil\", \"Spoil\", \"Spoil\", \"Spoil\", \"TOP\", \"Yolida\", \"[/\", \"[/\", \"[/\", \"^^\\\"\", \"___\", \"___\", \"________________________________________________________\", \"________________________________________________________\", \"________________________________________________________\", \"________________________________________________________\", \"________________________________________________________\", \"________________________________________________________\", \"________________________________________________________\", \"________________________________________________________\", \"________________________________________________________\", \"am\", \"bigc\", \"bigc\", \"bigc\", \"bigc\", \"bigc\", \"bigc\", \"bigc\", \"bigc\", \"care\", \"comment\", \"copy\", \"family\", \"foremost\", \"free\", \"hello\", \"id\", \"id\", \"id\", \"id\", \"it\", \"it\", \"it\", \"know\", \"like\", \"link\", \"link\", \"lotus\", \"lotus\", \"lotus\", \"lotus\", \"lotus\", \"lotus\", \"lotus\", \"lotus\", \"lotus\", \"milk\", \"milk\", \"milk\", \"milk\", \"milk\", \"milk\", \"milk\", \"momonja\", \"momonja\", \"ms\", \"or\", \"piak\", \"pj\", \"search\", \"shopat\", \"so\", \"so\", \"taxi\", \"tul\", \"tul\", \"tvong\", \"umm\", \"yut-san\", \"\\u0e01\\u0e23\\u0e23\\u0e21\", \"\\u0e01\\u0e23\\u0e30\\u0e08\\u0e48\\u0e32\\u0e07\", \"\\u0e01\\u0e23\\u0e30\\u0e08\\u0e48\\u0e32\\u0e07\", \"\\u0e01\\u0e23\\u0e30\\u0e15\\u0e34\\u0e01\", \"\\u0e01\\u0e23\\u0e30\\u0e15\\u0e34\\u0e01\", \"\\u0e01\\u0e23\\u0e30\\u0e17\\u0e30\", \"\\u0e01\\u0e23\\u0e30\\u0e17\\u0e30\", \"\\u0e01\\u0e23\\u0e30\\u0e17\\u0e30\", \"\\u0e01\\u0e23\\u0e30\\u0e17\\u0e30\", \"\\u0e01\\u0e23\\u0e30\\u0e17\\u0e30\", \"\\u0e01\\u0e23\\u0e30\\u0e17\\u0e30\", \"\\u0e01\\u0e23\\u0e30\\u0e17\\u0e30\", \"\\u0e01\\u0e23\\u0e30\\u0e17\\u0e30\", \"\\u0e01\\u0e23\\u0e30\\u0e1b\\u0e4b\\u0e2d\\u0e07\", \"\\u0e01\\u0e23\\u0e30\\u0e1b\\u0e4b\\u0e2d\\u0e07\", \"\\u0e01\\u0e23\\u0e30\\u0e1b\\u0e4b\\u0e2d\\u0e07\", \"\\u0e01\\u0e23\\u0e30\\u0e1b\\u0e4b\\u0e2d\\u0e07\", \"\\u0e01\\u0e23\\u0e30\\u0e1b\\u0e4b\\u0e2d\\u0e07\", \"\\u0e01\\u0e23\\u0e30\\u0e1b\\u0e4b\\u0e2d\\u0e07\", \"\\u0e01\\u0e23\\u0e30\\u0e1b\\u0e4b\\u0e2d\\u0e07\", \"\\u0e01\\u0e23\\u0e30\\u0e1b\\u0e4b\\u0e2d\\u0e07\", \"\\u0e01\\u0e23\\u0e30\\u0e1b\\u0e4b\\u0e2d\\u0e07\", \"\\u0e01\\u0e23\\u0e30\\u0e40\\u0e14\\u0e47\\u0e19\", \"\\u0e01\\u0e23\\u0e30\\u0e40\\u0e1e\\u0e32\\u0e30\\u0e2d\\u0e32\\u0e2b\\u0e32\\u0e23\", \"\\u0e01\\u0e23\\u0e31\\u0e21\", \"\\u0e01\\u0e23\\u0e31\\u0e21\", \"\\u0e01\\u0e23\\u0e31\\u0e21\", \"\\u0e01\\u0e23\\u0e31\\u0e21\", \"\\u0e01\\u0e23\\u0e31\\u0e21\", \"\\u0e01\\u0e23\\u0e31\\u0e21\", \"\\u0e01\\u0e23\\u0e31\\u0e21\", \"\\u0e01\\u0e23\\u0e31\\u0e21\", \"\\u0e01\\u0e23\\u0e31\\u0e21\", \"\\u0e01\\u0e23\\u0e38\\u0e13\\u0e32\", \"\\u0e01\\u0e23\\u0e38\\u0e13\\u0e32\", \"\\u0e01\\u0e25\\u0e21\\u0e01\\u0e25\\u0e48\\u0e2d\\u0e21\", \"\\u0e01\\u0e25\\u0e21\\u0e01\\u0e25\\u0e48\\u0e2d\\u0e21\", \"\\u0e01\\u0e25\\u0e21\\u0e01\\u0e25\\u0e48\\u0e2d\\u0e21\", \"\\u0e01\\u0e25\\u0e21\\u0e01\\u0e25\\u0e48\\u0e2d\\u0e21\", \"\\u0e01\\u0e25\\u0e21\\u0e01\\u0e25\\u0e48\\u0e2d\\u0e21\", \"\\u0e01\\u0e25\\u0e21\\u0e01\\u0e25\\u0e48\\u0e2d\\u0e21\", \"\\u0e01\\u0e25\\u0e21\\u0e01\\u0e25\\u0e48\\u0e2d\\u0e21\", \"\\u0e01\\u0e25\\u0e21\\u0e01\\u0e25\\u0e48\\u0e2d\\u0e21\", \"\\u0e01\\u0e25\\u0e31\\u0e27\", \"\\u0e01\\u0e25\\u0e31\\u0e27\", \"\\u0e01\\u0e25\\u0e31\\u0e27\", \"\\u0e01\\u0e25\\u0e31\\u0e27\", \"\\u0e01\\u0e25\\u0e31\\u0e27\", \"\\u0e01\\u0e25\\u0e31\\u0e27\", \"\\u0e01\\u0e25\\u0e31\\u0e27\", \"\\u0e01\\u0e25\\u0e31\\u0e27\", \"\\u0e01\\u0e25\\u0e31\\u0e27\", \"\\u0e01\\u0e25\\u0e34\\u0e48\\u0e19\", \"\\u0e01\\u0e25\\u0e34\\u0e48\\u0e19\", \"\\u0e01\\u0e25\\u0e34\\u0e48\\u0e19\", \"\\u0e01\\u0e25\\u0e34\\u0e48\\u0e19\", \"\\u0e01\\u0e25\\u0e34\\u0e48\\u0e19\", \"\\u0e01\\u0e25\\u0e34\\u0e48\\u0e19\", \"\\u0e01\\u0e25\\u0e34\\u0e48\\u0e19\", \"\\u0e01\\u0e25\\u0e34\\u0e48\\u0e19\", \"\\u0e01\\u0e25\\u0e34\\u0e48\\u0e19\", \"\\u0e01\\u0e25\\u0e38\\u0e49\\u0e21\\u0e43\\u0e08\", \"\\u0e01\\u0e25\\u0e44\\u0e01\", \"\\u0e01\\u0e25\\u0e48\\u0e2d\\u0e07\", \"\\u0e01\\u0e25\\u0e48\\u0e2d\\u0e07\", \"\\u0e01\\u0e25\\u0e48\\u0e2d\\u0e07\", \"\\u0e01\\u0e25\\u0e48\\u0e2d\\u0e07\", \"\\u0e01\\u0e25\\u0e48\\u0e2d\\u0e07\", \"\\u0e01\\u0e25\\u0e48\\u0e2d\\u0e07\", \"\\u0e01\\u0e25\\u0e48\\u0e2d\\u0e07\", \"\\u0e01\\u0e25\\u0e48\\u0e2d\\u0e07\", \"\\u0e01\\u0e25\\u0e48\\u0e2d\\u0e07\", \"\\u0e01\\u0e25\\u0e49\\u0e32\", \"\\u0e01\\u0e25\\u0e49\\u0e32\", \"\\u0e01\\u0e25\\u0e49\\u0e32\", \"\\u0e01\\u0e25\\u0e49\\u0e32\", \"\\u0e01\\u0e25\\u0e49\\u0e32\", \"\\u0e01\\u0e25\\u0e49\\u0e32\", \"\\u0e01\\u0e25\\u0e49\\u0e32\", \"\\u0e01\\u0e25\\u0e49\\u0e32\", \"\\u0e01\\u0e25\\u0e49\\u0e32\", \"\\u0e01\\u0e2d\\u0e1a\", \"\\u0e01\\u0e31\\u0e0d\", \"\\u0e01\\u0e32\\u0e23\\u0e01\\u0e23\\u0e30\\u0e17\\u0e33\", \"\\u0e01\\u0e32\\u0e23\\u0e01\\u0e23\\u0e30\\u0e17\\u0e33\", \"\\u0e01\\u0e32\\u0e23\\u0e01\\u0e23\\u0e30\\u0e17\\u0e33\", \"\\u0e01\\u0e32\\u0e23\\u0e04\\u0e19\", \"\\u0e01\\u0e32\\u0e23\\u0e4c\\u0e15\\u0e39\\u0e19\", \"\\u0e01\\u0e32\\u0e23\\u0e4c\\u0e15\\u0e39\\u0e19\", \"\\u0e01\\u0e34\\u0e19\", \"\\u0e01\\u0e34\\u0e19\", \"\\u0e01\\u0e34\\u0e19\", \"\\u0e01\\u0e34\\u0e19\", \"\\u0e01\\u0e34\\u0e19\", \"\\u0e01\\u0e34\\u0e19\", \"\\u0e01\\u0e34\\u0e19\", \"\\u0e01\\u0e34\\u0e19\", \"\\u0e01\\u0e34\\u0e19\", \"\\u0e01\\u0e34\\u0e19\\u0e19\\u0e21\", \"\\u0e01\\u0e34\\u0e19\\u0e19\\u0e21\", \"\\u0e01\\u0e34\\u0e19\\u0e19\\u0e21\", \"\\u0e01\\u0e34\\u0e19\\u0e19\\u0e21\", \"\\u0e01\\u0e34\\u0e19\\u0e19\\u0e21\", \"\\u0e01\\u0e34\\u0e19\\u0e19\\u0e21\", \"\\u0e01\\u0e34\\u0e19\\u0e19\\u0e21\", \"\\u0e01\\u0e34\\u0e19\\u0e19\\u0e21\", \"\\u0e01\\u0e34\\u0e19\\u0e19\\u0e21\", \"\\u0e01\\u0e46\", \"\\u0e01\\u0e47\\u0e0a\\u0e48\\u0e32\\u0e07\", \"\\u0e02\\u0e19\\u0e21\\u0e40\\u0e04\\u0e49\\u0e01\", \"\\u0e02\\u0e19\\u0e2a\\u0e48\\u0e07\", \"\\u0e02\\u0e19\\u0e2a\\u0e48\\u0e07\", \"\\u0e02\\u0e27\\u0e14\", \"\\u0e02\\u0e27\\u0e14\", \"\\u0e02\\u0e27\\u0e14\", \"\\u0e02\\u0e27\\u0e14\", \"\\u0e02\\u0e27\\u0e14\", \"\\u0e02\\u0e27\\u0e14\", \"\\u0e02\\u0e27\\u0e14\", \"\\u0e02\\u0e27\\u0e14\", \"\\u0e02\\u0e27\\u0e14\", \"\\u0e02\\u0e27\\u0e14\\u0e19\\u0e21\", \"\\u0e02\\u0e27\\u0e14\\u0e19\\u0e21\", \"\\u0e02\\u0e27\\u0e14\\u0e19\\u0e21\", \"\\u0e02\\u0e27\\u0e14\\u0e19\\u0e21\", \"\\u0e02\\u0e27\\u0e14\\u0e19\\u0e21\", \"\\u0e02\\u0e27\\u0e14\\u0e19\\u0e21\", \"\\u0e02\\u0e27\\u0e14\\u0e19\\u0e21\", \"\\u0e02\\u0e27\\u0e1a\", \"\\u0e02\\u0e27\\u0e1a\", \"\\u0e02\\u0e27\\u0e1a\", \"\\u0e02\\u0e27\\u0e1a\", \"\\u0e02\\u0e27\\u0e1a\", \"\\u0e02\\u0e27\\u0e1a\", \"\\u0e02\\u0e27\\u0e1a\", \"\\u0e02\\u0e27\\u0e1a\", \"\\u0e02\\u0e27\\u0e1a\", \"\\u0e02\\u0e2d\\u0e1a\\u0e04\\u0e38\\u0e13\", \"\\u0e02\\u0e2d\\u0e1a\\u0e04\\u0e38\\u0e13\", \"\\u0e02\\u0e2d\\u0e1a\\u0e04\\u0e38\\u0e13\", \"\\u0e02\\u0e2d\\u0e1a\\u0e04\\u0e38\\u0e13\", \"\\u0e02\\u0e2d\\u0e1a\\u0e04\\u0e38\\u0e13\", \"\\u0e02\\u0e2d\\u0e1a\\u0e04\\u0e38\\u0e13\", \"\\u0e02\\u0e2d\\u0e1a\\u0e04\\u0e38\\u0e13\", \"\\u0e02\\u0e2d\\u0e1a\\u0e04\\u0e38\\u0e13\", \"\\u0e02\\u0e2d\\u0e1a\\u0e04\\u0e38\\u0e13\", \"\\u0e02\\u0e31\\u0e14\\u0e43\\u0e08\", \"\\u0e02\\u0e32\\u0e14\\u0e44\\u0e21\\u0e48\\u0e44\\u0e14\\u0e49\", \"\\u0e02\\u0e32\\u0e22\", \"\\u0e02\\u0e32\\u0e22\", \"\\u0e02\\u0e32\\u0e22\", \"\\u0e02\\u0e32\\u0e22\", \"\\u0e02\\u0e32\\u0e22\", \"\\u0e02\\u0e32\\u0e22\", \"\\u0e02\\u0e32\\u0e22\", \"\\u0e02\\u0e32\\u0e22\", \"\\u0e02\\u0e32\\u0e22\", \"\\u0e02\\u0e37\\u0e19\", \"\\u0e02\\u0e42\\u0e21\\u0e22\", \"\\u0e02\\u0e42\\u0e21\\u0e22\", \"\\u0e02\\u0e42\\u0e21\\u0e22\", \"\\u0e02\\u0e42\\u0e21\\u0e22\", \"\\u0e02\\u0e48\\u0e32\\u0e27\", \"\\u0e02\\u0e48\\u0e32\\u0e27\", \"\\u0e02\\u0e48\\u0e32\\u0e27\", \"\\u0e02\\u0e48\\u0e32\\u0e27\", \"\\u0e02\\u0e48\\u0e32\\u0e27\", \"\\u0e02\\u0e48\\u0e32\\u0e27\", \"\\u0e02\\u0e48\\u0e32\\u0e27\", \"\\u0e02\\u0e48\\u0e32\\u0e27\", \"\\u0e02\\u0e49\\u0e2d\\u0e04\\u0e27\\u0e32\\u0e21\", \"\\u0e02\\u0e49\\u0e2d\\u0e04\\u0e27\\u0e32\\u0e21\", \"\\u0e02\\u0e49\\u0e2d\\u0e04\\u0e27\\u0e32\\u0e21\", \"\\u0e02\\u0e49\\u0e2d\\u0e04\\u0e27\\u0e32\\u0e21\", \"\\u0e02\\u0e49\\u0e2d\\u0e04\\u0e27\\u0e32\\u0e21\", \"\\u0e02\\u0e49\\u0e2d\\u0e04\\u0e27\\u0e32\\u0e21\", \"\\u0e02\\u0e49\\u0e2d\\u0e04\\u0e27\\u0e32\\u0e21\", \"\\u0e02\\u0e49\\u0e2d\\u0e04\\u0e27\\u0e32\\u0e21\", \"\\u0e02\\u0e49\\u0e2d\\u0e04\\u0e27\\u0e32\\u0e21\", \"\\u0e02\\u0e49\\u0e32\\u0e27\\u0e2d\\u0e1a\", \"\\u0e04\\u0e07\", \"\\u0e04\\u0e07\", \"\\u0e04\\u0e19\", \"\\u0e04\\u0e19\", \"\\u0e04\\u0e19\", \"\\u0e04\\u0e19\", \"\\u0e04\\u0e19\", \"\\u0e04\\u0e19\", \"\\u0e04\\u0e19\", \"\\u0e04\\u0e19\", \"\\u0e04\\u0e19\", \"\\u0e04\\u0e19\\u0e25\\u0e30\\u0e40\\u0e23\\u0e37\\u0e48\\u0e2d\\u0e07\", \"\\u0e04\\u0e23\\u0e1a\\u0e0a\\u0e38\\u0e14\", \"\\u0e04\\u0e23\\u0e32\\u0e1a\", \"\\u0e04\\u0e23\\u0e32\\u0e1a\", \"\\u0e04\\u0e23\\u0e32\\u0e1a\", \"\\u0e04\\u0e23\\u0e32\\u0e1a\", \"\\u0e04\\u0e23\\u0e32\\u0e1a\", \"\\u0e04\\u0e23\\u0e32\\u0e1a\", \"\\u0e04\\u0e23\\u0e32\\u0e1a\", \"\\u0e04\\u0e25\\u0e2d\\u0e14\", \"\\u0e04\\u0e25\\u0e2d\\u0e14\", \"\\u0e04\\u0e25\\u0e2d\\u0e14\", \"\\u0e04\\u0e25\\u0e31\\u0e1a\", \"\\u0e04\\u0e25\\u0e31\\u0e1a\", \"\\u0e04\\u0e25\\u0e31\\u0e1a\", \"\\u0e04\\u0e25\\u0e34\\u0e01\", \"\\u0e04\\u0e25\\u0e34\\u0e01\", \"\\u0e04\\u0e25\\u0e34\\u0e01\", \"\\u0e04\\u0e25\\u0e34\\u0e01\", \"\\u0e04\\u0e25\\u0e34\\u0e01\", \"\\u0e04\\u0e25\\u0e34\\u0e01\", \"\\u0e04\\u0e25\\u0e34\\u0e01\", \"\\u0e04\\u0e25\\u0e34\\u0e01\", \"\\u0e04\\u0e27\\u0e32\\u0e21\\u0e04\\u0e37\\u0e1a\\u0e2b\\u0e19\\u0e49\\u0e32\", \"\\u0e04\\u0e27\\u0e32\\u0e21\\u0e14\\u0e35\", \"\\u0e04\\u0e27\\u0e32\\u0e21\\u0e23\\u0e31\\u0e01\", \"\\u0e04\\u0e27\\u0e32\\u0e21\\u0e23\\u0e31\\u0e01\", \"\\u0e04\\u0e27\\u0e32\\u0e21\\u0e23\\u0e31\\u0e01\", \"\\u0e04\\u0e27\\u0e32\\u0e21\\u0e23\\u0e31\\u0e01\", \"\\u0e04\\u0e27\\u0e32\\u0e21\\u0e23\\u0e31\\u0e01\", \"\\u0e04\\u0e27\\u0e32\\u0e21\\u0e23\\u0e31\\u0e01\", \"\\u0e04\\u0e27\\u0e32\\u0e21\\u0e2a\\u0e19\\u0e43\\u0e08\", \"\\u0e04\\u0e27\\u0e32\\u0e21\\u0e41\\u0e02\\u0e47\\u0e07\\u0e41\\u0e23\\u0e07\", \"\\u0e04\\u0e2d\\u0e21\\u0e40\\u0e21\\u0e49\\u0e19\\u0e17\\u0e4c\", \"\\u0e04\\u0e2d\\u0e25\\u0e40\\u0e01\\u0e15\", \"\\u0e04\\u0e32\\u0e22\\u0e17\\u0e34\\u0e49\\u0e07\", \"\\u0e04\\u0e34\\u0e15\\u0e15\\u0e35\\u0e49\", \"\\u0e04\\u0e34\\u0e15\\u0e15\\u0e35\\u0e49\", \"\\u0e04\\u0e34\\u0e15\\u0e15\\u0e35\\u0e49\", \"\\u0e04\\u0e34\\u0e15\\u0e15\\u0e35\\u0e49\", \"\\u0e04\\u0e38\\u0e49\\u0e19\\u0e40\\u0e04\\u0e22\", \"\\u0e04\\u0e39\\u0e1b\\u0e2d\\u0e07\", \"\\u0e04\\u0e39\\u0e1b\\u0e2d\\u0e07\", \"\\u0e04\\u0e39\\u0e1b\\u0e2d\\u0e07\", \"\\u0e04\\u0e39\\u0e1b\\u0e2d\\u0e07\", \"\\u0e04\\u0e39\\u0e1b\\u0e2d\\u0e07\", \"\\u0e04\\u0e39\\u0e1b\\u0e2d\\u0e07\", \"\\u0e04\\u0e39\\u0e1b\\u0e2d\\u0e07\", \"\\u0e04\\u0e39\\u0e1b\\u0e2d\\u0e07\", \"\\u0e04\\u0e39\\u0e1b\\u0e2d\\u0e07\", \"\\u0e04\\u0e48\\u0e32\", \"\\u0e04\\u0e48\\u0e32\", \"\\u0e04\\u0e48\\u0e32\", \"\\u0e04\\u0e48\\u0e32\", \"\\u0e04\\u0e48\\u0e32\", \"\\u0e04\\u0e48\\u0e32\", \"\\u0e04\\u0e48\\u0e32\", \"\\u0e04\\u0e48\\u0e32\", \"\\u0e04\\u0e48\\u0e32\", \"\\u0e04\\u0e48\\u0e32\\u0e02\\u0e19\\u0e2a\\u0e48\\u0e07\", \"\\u0e04\\u0e48\\u0e32\\u0e41\\u0e23\\u0e07\", \"\\u0e04\\u0e49\\u0e30\", \"\\u0e07.\", \"\\u0e07.\", \"\\u0e07.\", \"\\u0e07.\", \"\\u0e07.\", \"\\u0e08\\u0e32\\u0e19\\u0e0a\\u0e32\\u0e21\", \"\\u0e08\\u0e32\\u0e19\\u0e0a\\u0e32\\u0e21\", \"\\u0e08\\u0e32\\u0e19\\u0e0a\\u0e32\\u0e21\", \"\\u0e08\\u0e32\\u0e19\\u0e0a\\u0e32\\u0e21\", \"\\u0e08\\u0e32\\u0e19\\u0e0a\\u0e32\\u0e21\", \"\\u0e08\\u0e32\\u0e19\\u0e0a\\u0e32\\u0e21\", \"\\u0e08\\u0e32\\u0e19\\u0e0a\\u0e32\\u0e21\", \"\\u0e08\\u0e33\\u0e40\\u0e25\\u0e22\", \"\\u0e08\\u0e33\\u0e43\\u0e08\", \"\\u0e08\\u0e34\\u0e15\\u0e23\\u0e25\\u0e14\\u0e32\", \"\\u0e08\\u0e34\\u0e15\\u0e23\\u0e25\\u0e14\\u0e32\", \"\\u0e08\\u0e34\\u0e15\\u0e23\\u0e25\\u0e14\\u0e32\", \"\\u0e08\\u0e34\\u0e15\\u0e23\\u0e25\\u0e14\\u0e32\", \"\\u0e08\\u0e34\\u0e15\\u0e23\\u0e25\\u0e14\\u0e32\", \"\\u0e08\\u0e34\\u0e15\\u0e23\\u0e25\\u0e14\\u0e32\", \"\\u0e08\\u0e34\\u0e15\\u0e23\\u0e25\\u0e14\\u0e32\", \"\\u0e08\\u0e34\\u0e15\\u0e23\\u0e25\\u0e14\\u0e32\", \"\\u0e08\\u0e34\\u0e15\\u0e23\\u0e25\\u0e14\\u0e32\", \"\\u0e08\\u0e37\\u0e14\", \"\\u0e08\\u0e37\\u0e14\", \"\\u0e08\\u0e37\\u0e14\", \"\\u0e08\\u0e37\\u0e14\", \"\\u0e08\\u0e37\\u0e14\", \"\\u0e08\\u0e37\\u0e14\", \"\\u0e08\\u0e37\\u0e14\", \"\\u0e08\\u0e37\\u0e14\", \"\\u0e08\\u0e37\\u0e14\", \"\\u0e08\\u0e38\\u0e14\\u0e1b\\u0e23\\u0e30\\u0e01\\u0e32\\u0e22\", \"\\u0e08\\u0e48\\u0e32\\u0e22\", \"\\u0e08\\u0e48\\u0e32\\u0e22\", \"\\u0e08\\u0e48\\u0e32\\u0e22\", \"\\u0e08\\u0e48\\u0e32\\u0e22\", \"\\u0e08\\u0e48\\u0e32\\u0e22\", \"\\u0e08\\u0e48\\u0e32\\u0e22\", \"\\u0e08\\u0e48\\u0e32\\u0e22\", \"\\u0e08\\u0e48\\u0e32\\u0e22\", \"\\u0e08\\u0e48\\u0e32\\u0e22\", \"\\u0e0a.\", \"\\u0e0a\\u0e2d\\u0e1a\", \"\\u0e0a\\u0e2d\\u0e1a\", \"\\u0e0a\\u0e2d\\u0e1a\", \"\\u0e0a\\u0e2d\\u0e1a\", \"\\u0e0a\\u0e2d\\u0e1a\", \"\\u0e0a\\u0e2d\\u0e1a\", \"\\u0e0a\\u0e2d\\u0e1a\", \"\\u0e0a\\u0e2d\\u0e1a\", \"\\u0e0a\\u0e2d\\u0e1a\", \"\\u0e0a\\u0e33\\u0e23\\u0e30\\u0e40\\u0e07\\u0e34\\u0e19\", \"\\u0e0a\\u0e35\\u0e27\\u0e34\\u0e15\", \"\\u0e0a\\u0e35\\u0e27\\u0e34\\u0e15\", \"\\u0e0a\\u0e35\\u0e27\\u0e34\\u0e15\", \"\\u0e0a\\u0e35\\u0e27\\u0e34\\u0e15\", \"\\u0e0a\\u0e35\\u0e27\\u0e34\\u0e15\", \"\\u0e0a\\u0e35\\u0e27\\u0e34\\u0e15\", \"\\u0e0a\\u0e35\\u0e27\\u0e34\\u0e15\", \"\\u0e0a\\u0e35\\u0e27\\u0e34\\u0e15\", \"\\u0e0a\\u0e35\\u0e27\\u0e34\\u0e15\", \"\\u0e0a\\u0e37\\u0e48\\u0e19\\u0e43\\u0e08\", \"\\u0e0a\\u0e37\\u0e48\\u0e19\\u0e43\\u0e08\", \"\\u0e0a\\u0e49\\u0e2d\\u0e1b\", \"\\u0e0a\\u0e49\\u0e2d\\u0e1b\", \"\\u0e0b\\u0e2d\\u0e2a\", \"\\u0e0b\\u0e2d\\u0e2a\", \"\\u0e0b\\u0e2d\\u0e2a\", \"\\u0e0b\\u0e2d\\u0e2a\", \"\\u0e0b\\u0e2d\\u0e2a\", \"\\u0e0b\\u0e2d\\u0e2a\", \"\\u0e0b\\u0e2d\\u0e2a\", \"\\u0e0b\\u0e2d\\u0e2a\", \"\\u0e0b\\u0e2d\\u0e2a\", \"\\u0e0b\\u0e31\\u0e19\", \"\\u0e0b\\u0e32\\u0e01\\u0e38\\u0e23\\u0e30\", \"\\u0e0b\\u0e37\\u0e48\\u0e2d\\u0e2a\\u0e31\\u0e15\\u0e22\\u0e4c\", \"\\u0e0b\\u0e37\\u0e48\\u0e2d\\u0e2a\\u0e31\\u0e15\\u0e22\\u0e4c\", \"\\u0e0b\\u0e37\\u0e49\\u0e2d\", \"\\u0e0b\\u0e37\\u0e49\\u0e2d\", \"\\u0e0b\\u0e37\\u0e49\\u0e2d\", \"\\u0e0b\\u0e37\\u0e49\\u0e2d\", \"\\u0e0b\\u0e37\\u0e49\\u0e2d\", \"\\u0e0b\\u0e37\\u0e49\\u0e2d\", \"\\u0e0b\\u0e37\\u0e49\\u0e2d\", \"\\u0e0b\\u0e37\\u0e49\\u0e2d\", \"\\u0e0b\\u0e37\\u0e49\\u0e2d\", \"\\u0e0d\\u0e32\\u0e13\", \"\\u0e14\\u0e14\\u0e14\", \"\\u0e14\\u0e23\", \"\\u0e14\\u0e2d\\u0e01\", \"\\u0e14\\u0e2d\\u0e01\", \"\\u0e14\\u0e2d\\u0e01\", \"\\u0e14\\u0e34\\u0e09\\u0e31\\u0e19\", \"\\u0e14\\u0e34\\u0e09\\u0e31\\u0e19\", \"\\u0e14\\u0e34\\u0e09\\u0e31\\u0e19\", \"\\u0e14\\u0e34\\u0e09\\u0e31\\u0e19\", \"\\u0e14\\u0e34\\u0e09\\u0e31\\u0e19\", \"\\u0e14\\u0e34\\u0e09\\u0e31\\u0e19\", \"\\u0e14\\u0e34\\u0e09\\u0e31\\u0e19\", \"\\u0e14\\u0e34\\u0e09\\u0e31\\u0e19\", \"\\u0e14\\u0e34\\u0e09\\u0e31\\u0e19\", \"\\u0e14\\u0e34\\u0e2a\\u0e40\\u0e04\\u0e23\\u0e14\\u0e34\\u0e15\", \"\\u0e14\\u0e35\", \"\\u0e14\\u0e35\", \"\\u0e14\\u0e35\", \"\\u0e14\\u0e35\", \"\\u0e14\\u0e35\", \"\\u0e14\\u0e35\", \"\\u0e14\\u0e35\", \"\\u0e14\\u0e35\", \"\\u0e14\\u0e35\", \"\\u0e14\\u0e37\\u0e48\\u0e21\", \"\\u0e14\\u0e37\\u0e48\\u0e21\", \"\\u0e14\\u0e37\\u0e48\\u0e21\", \"\\u0e14\\u0e37\\u0e48\\u0e21\", \"\\u0e14\\u0e37\\u0e48\\u0e21\", \"\\u0e14\\u0e37\\u0e48\\u0e21\", \"\\u0e14\\u0e37\\u0e48\\u0e21\", \"\\u0e14\\u0e37\\u0e48\\u0e21\", \"\\u0e14\\u0e37\\u0e48\\u0e21\", \"\\u0e14\\u0e37\\u0e48\\u0e21\\u0e19\\u0e21\", \"\\u0e14\\u0e37\\u0e48\\u0e21\\u0e19\\u0e21\", \"\\u0e14\\u0e37\\u0e48\\u0e21\\u0e19\\u0e21\", \"\\u0e14\\u0e37\\u0e48\\u0e21\\u0e19\\u0e21\", \"\\u0e14\\u0e37\\u0e48\\u0e21\\u0e19\\u0e21\", \"\\u0e14\\u0e37\\u0e48\\u0e21\\u0e19\\u0e21\", \"\\u0e14\\u0e37\\u0e48\\u0e21\\u0e19\\u0e21\", \"\\u0e14\\u0e37\\u0e48\\u0e21\\u0e19\\u0e21\", \"\\u0e14\\u0e37\\u0e48\\u0e21\\u0e19\\u0e21\", \"\\u0e14\\u0e39\", \"\\u0e14\\u0e39\", \"\\u0e14\\u0e39\", \"\\u0e14\\u0e39\", \"\\u0e14\\u0e39\", \"\\u0e14\\u0e39\", \"\\u0e14\\u0e39\", \"\\u0e14\\u0e39\", \"\\u0e14\\u0e39\", \"\\u0e15\\u0e01\\u0e2b\\u0e19\\u0e31\\u0e01\", \"\\u0e15\\u0e23\\u0e07\\u0e1b\\u0e23\\u0e30\\u0e40\\u0e14\\u0e47\\u0e19\", \"\\u0e15\\u0e23\\u0e23\\u0e01\\u0e30\", \"\\u0e15\\u0e23\\u0e32\", \"\\u0e15\\u0e23\\u0e32\", \"\\u0e15\\u0e23\\u0e32\", \"\\u0e15\\u0e23\\u0e32\", \"\\u0e15\\u0e23\\u0e32\", \"\\u0e15\\u0e23\\u0e32\", \"\\u0e15\\u0e23\\u0e32\", \"\\u0e15\\u0e23\\u0e32\", \"\\u0e15\\u0e23\\u0e32\", \"\\u0e15\\u0e23\\u0e36\\u0e21\", \"\\u0e15\\u0e23\\u0e39\", \"\\u0e15\\u0e2d\\u0e19\", \"\\u0e15\\u0e2d\\u0e19\", \"\\u0e15\\u0e2d\\u0e19\", \"\\u0e15\\u0e2d\\u0e19\", \"\\u0e15\\u0e2d\\u0e19\", \"\\u0e15\\u0e2d\\u0e19\", \"\\u0e15\\u0e2d\\u0e19\", \"\\u0e15\\u0e2d\\u0e19\", \"\\u0e15\\u0e2d\\u0e19\", \"\\u0e15\\u0e2d\\u0e19\\u0e19\\u0e35\\u0e49\", \"\\u0e15\\u0e2d\\u0e19\\u0e19\\u0e35\\u0e49\", \"\\u0e15\\u0e2d\\u0e19\\u0e19\\u0e35\\u0e49\", \"\\u0e15\\u0e2d\\u0e19\\u0e19\\u0e35\\u0e49\", \"\\u0e15\\u0e2d\\u0e19\\u0e19\\u0e35\\u0e49\", \"\\u0e15\\u0e2d\\u0e19\\u0e19\\u0e35\\u0e49\", \"\\u0e15\\u0e2d\\u0e19\\u0e19\\u0e35\\u0e49\", \"\\u0e15\\u0e2d\\u0e19\\u0e19\\u0e35\\u0e49\", \"\\u0e15\\u0e2d\\u0e19\\u0e19\\u0e35\\u0e49\", \"\\u0e15\\u0e30\\u0e27\\u0e31\\u0e19\", \"\\u0e15\\u0e31\\u0e27\", \"\\u0e15\\u0e31\\u0e27\", \"\\u0e15\\u0e31\\u0e27\", \"\\u0e15\\u0e31\\u0e27\", \"\\u0e15\\u0e31\\u0e27\", \"\\u0e15\\u0e31\\u0e27\", \"\\u0e15\\u0e31\\u0e27\", \"\\u0e15\\u0e31\\u0e27\", \"\\u0e15\\u0e31\\u0e27\", \"\\u0e15\\u0e31\\u0e27\\u0e40\\u0e25\\u0e47\\u0e01\", \"\\u0e15\\u0e31\\u0e27\\u0e40\\u0e25\\u0e47\\u0e01\", \"\\u0e15\\u0e31\\u0e27\\u0e40\\u0e25\\u0e47\\u0e01\", \"\\u0e15\\u0e31\\u0e27\\u0e40\\u0e25\\u0e47\\u0e01\", \"\\u0e15\\u0e31\\u0e27\\u0e40\\u0e25\\u0e47\\u0e01\", \"\\u0e15\\u0e31\\u0e27\\u0e40\\u0e25\\u0e47\\u0e01\", \"\\u0e15\\u0e31\\u0e27\\u0e40\\u0e2d\\u0e07\", \"\\u0e15\\u0e31\\u0e27\\u0e40\\u0e2d\\u0e07\", \"\\u0e15\\u0e31\\u0e27\\u0e40\\u0e2d\\u0e07\", \"\\u0e15\\u0e31\\u0e27\\u0e40\\u0e2d\\u0e07\", \"\\u0e15\\u0e31\\u0e27\\u0e40\\u0e2d\\u0e07\", \"\\u0e15\\u0e31\\u0e27\\u0e40\\u0e2d\\u0e07\", \"\\u0e15\\u0e31\\u0e27\\u0e40\\u0e2d\\u0e07\", \"\\u0e15\\u0e31\\u0e27\\u0e40\\u0e2d\\u0e07\", \"\\u0e15\\u0e31\\u0e27\\u0e40\\u0e2d\\u0e07\", \"\\u0e15\\u0e31\\u0e49\\u0e07\\u0e04\\u0e23\\u0e23\\u0e20\\u0e4c\", \"\\u0e15\\u0e31\\u0e49\\u0e07\\u0e04\\u0e23\\u0e23\\u0e20\\u0e4c\", \"\\u0e15\\u0e31\\u0e49\\u0e07\\u0e04\\u0e23\\u0e23\\u0e20\\u0e4c\", \"\\u0e15\\u0e31\\u0e49\\u0e07\\u0e04\\u0e23\\u0e23\\u0e20\\u0e4c\", \"\\u0e15\\u0e33\", \"\\u0e15\\u0e34\\u0e0a\\u0e21\", \"\\u0e15\\u0e34\\u0e48\\u0e07\", \"\\u0e15\\u0e34\\u0e48\\u0e07\", \"\\u0e15\\u0e34\\u0e48\\u0e07\", \"\\u0e15\\u0e34\\u0e48\\u0e07\", \"\\u0e15\\u0e34\\u0e48\\u0e07\", \"\\u0e15\\u0e34\\u0e48\\u0e07\", \"\\u0e15\\u0e34\\u0e4a\\u0e01\", \"\\u0e15\\u0e34\\u0e4a\\u0e01\", \"\\u0e15\\u0e34\\u0e4a\\u0e01\", \"\\u0e15\\u0e34\\u0e4a\\u0e01\", \"\\u0e15\\u0e34\\u0e4a\\u0e01\", \"\\u0e15\\u0e34\\u0e4a\\u0e01\", \"\\u0e15\\u0e34\\u0e4a\\u0e01\", \"\\u0e15\\u0e34\\u0e4a\\u0e01\", \"\\u0e15\\u0e37\\u0e48\\u0e19\\u0e40\\u0e15\\u0e49\\u0e19\", \"\\u0e15\\u0e37\\u0e48\\u0e19\\u0e40\\u0e15\\u0e49\\u0e19\", \"\\u0e15\\u0e37\\u0e48\\u0e19\\u0e40\\u0e15\\u0e49\\u0e19\", \"\\u0e15\\u0e38\", \"\\u0e15\\u0e48\\u0e2d\\u0e2b\\u0e19\\u0e49\\u0e32\", \"\\u0e15\\u0e48\\u0e2d\\u0e2b\\u0e19\\u0e49\\u0e32\", \"\\u0e15\\u0e48\\u0e32\\u0e07\\u0e41\\u0e14\\u0e19\", \"\\u0e16\\u0e31\\u0e07\\u0e02\\u0e22\\u0e30\", \"\\u0e16\\u0e31\\u0e14\\u0e08\\u0e32\\u0e01\", \"\\u0e16\\u0e38\\u0e07\", \"\\u0e16\\u0e38\\u0e07\", \"\\u0e16\\u0e38\\u0e07\", \"\\u0e16\\u0e38\\u0e07\", \"\\u0e16\\u0e38\\u0e07\", \"\\u0e16\\u0e38\\u0e07\", \"\\u0e16\\u0e38\\u0e07\", \"\\u0e16\\u0e38\\u0e07\", \"\\u0e16\\u0e38\\u0e07\", \"\\u0e17\\u0e31\\u0e49\\u0e07\\u0e1b\\u0e35\", \"\\u0e17\\u0e32\\u0e19\", \"\\u0e17\\u0e32\\u0e19\", \"\\u0e17\\u0e32\\u0e19\", \"\\u0e17\\u0e32\\u0e19\", \"\\u0e17\\u0e32\\u0e19\", \"\\u0e17\\u0e32\\u0e19\", \"\\u0e17\\u0e32\\u0e19\", \"\\u0e17\\u0e32\\u0e19\", \"\\u0e17\\u0e32\\u0e19\", \"\\u0e17\\u0e33\", \"\\u0e17\\u0e33\", \"\\u0e17\\u0e33\", \"\\u0e17\\u0e33\", \"\\u0e17\\u0e33\", \"\\u0e17\\u0e33\", \"\\u0e17\\u0e33\", \"\\u0e17\\u0e33\", \"\\u0e17\\u0e33\", \"\\u0e17\\u0e33\\u0e40\\u0e2d\\u0e32\", \"\\u0e17\\u0e35\\u0e27\\u0e35\", \"\\u0e17\\u0e35\\u0e27\\u0e35\", \"\\u0e17\\u0e35\\u0e27\\u0e35\", \"\\u0e17\\u0e35\\u0e27\\u0e35\", \"\\u0e17\\u0e35\\u0e27\\u0e35\", \"\\u0e17\\u0e35\\u0e48\\u0e0b\\u0e48\\u0e2d\\u0e19\", \"\\u0e17\\u0e35\\u0e48\\u0e0b\\u0e48\\u0e2d\\u0e19\", \"\\u0e17\\u0e35\\u0e48\\u0e0b\\u0e48\\u0e2d\\u0e19\", \"\\u0e17\\u0e35\\u0e48\\u0e0b\\u0e48\\u0e2d\\u0e19\", \"\\u0e17\\u0e35\\u0e48\\u0e0b\\u0e48\\u0e2d\\u0e19\", \"\\u0e17\\u0e35\\u0e48\\u0e0b\\u0e48\\u0e2d\\u0e19\", \"\\u0e17\\u0e35\\u0e48\\u0e0b\\u0e48\\u0e2d\\u0e19\", \"\\u0e17\\u0e35\\u0e48\\u0e44\\u0e2b\\u0e19\\u0e44\\u0e14\\u0e49\", \"\\u0e17\\u0e38\\u0e01 \\u0e46\", \"\\u0e17\\u0e38\\u0e01\\u0e04\\u0e37\\u0e19\", \"\\u0e17\\u0e38\\u0e01\\u0e04\\u0e37\\u0e19\", \"\\u0e17\\u0e48\\u0e2d\\u0e19\", \"\\u0e17\\u0e49\\u0e2d\\u0e07\", \"\\u0e17\\u0e49\\u0e2d\\u0e07\", \"\\u0e17\\u0e49\\u0e2d\\u0e07\", \"\\u0e17\\u0e49\\u0e2d\\u0e07\", \"\\u0e17\\u0e49\\u0e2d\\u0e07\", \"\\u0e17\\u0e49\\u0e2d\\u0e07\", \"\\u0e17\\u0e49\\u0e2d\\u0e07\", \"\\u0e17\\u0e49\\u0e2d\\u0e07\", \"\\u0e17\\u0e49\\u0e2d\\u0e07\", \"\\u0e17\\u0e49\\u0e2d\\u0e07\\u0e1c\\u0e39\\u0e01\", \"\\u0e17\\u0e49\\u0e2d\\u0e07\\u0e1c\\u0e39\\u0e01\", \"\\u0e17\\u0e49\\u0e2d\\u0e07\\u0e1c\\u0e39\\u0e01\", \"\\u0e17\\u0e49\\u0e2d\\u0e07\\u0e1c\\u0e39\\u0e01\", \"\\u0e17\\u0e49\\u0e2d\\u0e07\\u0e1c\\u0e39\\u0e01\", \"\\u0e18\\u0e23\\u0e23\\u0e21\\u0e0a\\u0e32\\u0e15\\u0e34\", \"\\u0e18\\u0e23\\u0e23\\u0e21\\u0e0a\\u0e32\\u0e15\\u0e34\", \"\\u0e18\\u0e23\\u0e23\\u0e21\\u0e0a\\u0e32\\u0e15\\u0e34\", \"\\u0e18\\u0e23\\u0e23\\u0e21\\u0e0a\\u0e32\\u0e15\\u0e34\", \"\\u0e18\\u0e23\\u0e23\\u0e21\\u0e0a\\u0e32\\u0e15\\u0e34\", \"\\u0e18\\u0e23\\u0e23\\u0e21\\u0e0a\\u0e32\\u0e15\\u0e34\", \"\\u0e18\\u0e23\\u0e23\\u0e21\\u0e0a\\u0e32\\u0e15\\u0e34\", \"\\u0e18\\u0e23\\u0e23\\u0e21\\u0e0a\\u0e32\\u0e15\\u0e34\", \"\\u0e18\\u0e23\\u0e23\\u0e21\\u0e0a\\u0e32\\u0e15\\u0e34\", \"\\u0e19.\", \"\\u0e19.\", \"\\u0e19.\", \"\\u0e19.\", \"\\u0e19.\", \"\\u0e19.\", \"\\u0e19.\", \"\\u0e19.\", \"\\u0e19.\", \"\\u0e19\\u0e21\", \"\\u0e19\\u0e21\", \"\\u0e19\\u0e21\", \"\\u0e19\\u0e21\", \"\\u0e19\\u0e21\", \"\\u0e19\\u0e21\", \"\\u0e19\\u0e21\", \"\\u0e19\\u0e21\", \"\\u0e19\\u0e21\", \"\\u0e19\\u0e21\\u0e2a\\u0e14\", \"\\u0e19\\u0e21\\u0e2a\\u0e14\", \"\\u0e19\\u0e21\\u0e2a\\u0e14\", \"\\u0e19\\u0e21\\u0e2a\\u0e14\", \"\\u0e19\\u0e21\\u0e2a\\u0e14\", \"\\u0e19\\u0e21\\u0e2a\\u0e14\", \"\\u0e19\\u0e21\\u0e2a\\u0e14\", \"\\u0e19\\u0e21\\u0e2a\\u0e14\", \"\\u0e19\\u0e21\\u0e2a\\u0e14\", \"\\u0e19\\u0e28.\", \"\\u0e19\\u0e2a\\u0e1e\", \"\\u0e19\\u0e2a\\u0e1e.\", \"\\u0e19\\u0e2a\\u0e1e.\", \"\\u0e19\\u0e2a\\u0e1e.\", \"\\u0e19\\u0e2a\\u0e1e.\", \"\\u0e19\\u0e2d\\u0e01\\u0e1a\\u0e49\\u0e32\\u0e19\", \"\\u0e19\\u0e2d\\u0e01\\u0e1a\\u0e49\\u0e32\\u0e19\", \"\\u0e19\\u0e2d\\u0e01\\u0e1a\\u0e49\\u0e32\\u0e19\", \"\\u0e19\\u0e2d\\u0e19\", \"\\u0e19\\u0e2d\\u0e19\", \"\\u0e19\\u0e2d\\u0e19\", \"\\u0e19\\u0e2d\\u0e19\", \"\\u0e19\\u0e2d\\u0e19\", \"\\u0e19\\u0e2d\\u0e19\", \"\\u0e19\\u0e2d\\u0e19\", \"\\u0e19\\u0e2d\\u0e19\", \"\\u0e19\\u0e2d\\u0e19\", \"\\u0e19\\u0e31\\u0e25\", \"\\u0e19\\u0e32\\u0e22\\u0e41\\u0e21\\u0e48\", \"\\u0e19\\u0e32\\u0e23\\u0e32\", \"\\u0e19\\u0e47\\u0e2d\\u0e04\", \"\\u0e19\\u0e48\\u0e32\\u0e01\\u0e34\\u0e19\", \"\\u0e19\\u0e48\\u0e32\\u0e01\\u0e34\\u0e19\", \"\\u0e19\\u0e48\\u0e32\\u0e01\\u0e34\\u0e19\", \"\\u0e19\\u0e48\\u0e32\\u0e01\\u0e34\\u0e19\", \"\\u0e19\\u0e48\\u0e32\\u0e01\\u0e34\\u0e19\", \"\\u0e19\\u0e48\\u0e32\\u0e01\\u0e34\\u0e19\", \"\\u0e19\\u0e48\\u0e32\\u0e01\\u0e34\\u0e19\", \"\\u0e19\\u0e48\\u0e32\\u0e01\\u0e34\\u0e19\", \"\\u0e19\\u0e49\\u0e2d\\u0e07\", \"\\u0e19\\u0e49\\u0e2d\\u0e07\", \"\\u0e19\\u0e49\\u0e2d\\u0e07\", \"\\u0e19\\u0e49\\u0e2d\\u0e07\", \"\\u0e19\\u0e49\\u0e2d\\u0e07\", \"\\u0e19\\u0e49\\u0e2d\\u0e07\", \"\\u0e19\\u0e49\\u0e2d\\u0e07\", \"\\u0e19\\u0e49\\u0e2d\\u0e07\", \"\\u0e19\\u0e49\\u0e2d\\u0e07\", \"\\u0e19\\u0e49\\u0e2d\\u0e07\\u0e46\", \"\\u0e19\\u0e49\\u0e2d\\u0e07\\u0e46\", \"\\u0e19\\u0e49\\u0e2d\\u0e07\\u0e46\", \"\\u0e19\\u0e49\\u0e2d\\u0e07\\u0e46\", \"\\u0e19\\u0e49\\u0e2d\\u0e07\\u0e46\", \"\\u0e19\\u0e49\\u0e2d\\u0e07\\u0e46\", \"\\u0e19\\u0e49\\u0e2d\\u0e07\\u0e46\", \"\\u0e19\\u0e49\\u0e2d\\u0e07\\u0e46\", \"\\u0e19\\u0e49\\u0e2d\\u0e07\\u0e46\", \"\\u0e19\\u0e49\\u0e2d\\u0e22\\u0e43\\u0e08\", \"\\u0e19\\u0e49\\u0e33\", \"\\u0e19\\u0e49\\u0e33\", \"\\u0e19\\u0e49\\u0e33\", \"\\u0e19\\u0e49\\u0e33\", \"\\u0e19\\u0e49\\u0e33\", \"\\u0e19\\u0e49\\u0e33\", \"\\u0e19\\u0e49\\u0e33\", \"\\u0e19\\u0e49\\u0e33\", \"\\u0e19\\u0e49\\u0e33\", \"\\u0e19\\u0e49\\u0e33\\u0e15\\u0e32\\u0e25\", \"\\u0e19\\u0e49\\u0e33\\u0e15\\u0e32\\u0e25\", \"\\u0e19\\u0e49\\u0e33\\u0e15\\u0e32\\u0e25\", \"\\u0e19\\u0e49\\u0e33\\u0e15\\u0e32\\u0e25\", \"\\u0e19\\u0e49\\u0e33\\u0e15\\u0e32\\u0e25\", \"\\u0e19\\u0e49\\u0e33\\u0e15\\u0e32\\u0e25\", \"\\u0e19\\u0e49\\u0e33\\u0e15\\u0e32\\u0e25\", \"\\u0e19\\u0e49\\u0e33\\u0e15\\u0e32\\u0e25\", \"\\u0e19\\u0e49\\u0e33\\u0e15\\u0e32\\u0e25\", \"\\u0e19\\u0e49\\u0e33\\u0e15\\u0e32\\u0e25\\u0e40\\u0e17\\u0e35\\u0e22\\u0e21\", \"\\u0e19\\u0e49\\u0e33\\u0e15\\u0e32\\u0e44\\u0e2b\\u0e25\", \"\\u0e19\\u0e49\\u0e33\\u0e15\\u0e32\\u0e44\\u0e2b\\u0e25\", \"\\u0e19\\u0e49\\u0e33\\u0e17\\u0e48\\u0e27\\u0e21\", \"\\u0e19\\u0e49\\u0e33\\u0e1c\\u0e36\\u0e49\\u0e07\", \"\\u0e19\\u0e49\\u0e33\\u0e1c\\u0e36\\u0e49\\u0e07\", \"\\u0e19\\u0e49\\u0e33\\u0e1c\\u0e36\\u0e49\\u0e07\", \"\\u0e19\\u0e49\\u0e33\\u0e1c\\u0e36\\u0e49\\u0e07\", \"\\u0e19\\u0e49\\u0e33\\u0e1c\\u0e36\\u0e49\\u0e07\", \"\\u0e19\\u0e49\\u0e33\\u0e1c\\u0e36\\u0e49\\u0e07\", \"\\u0e19\\u0e49\\u0e33\\u0e1c\\u0e36\\u0e49\\u0e07\", \"\\u0e19\\u0e49\\u0e33\\u0e1c\\u0e36\\u0e49\\u0e07\", \"\\u0e19\\u0e49\\u0e33\\u0e1c\\u0e36\\u0e49\\u0e07\", \"\\u0e1a\\u0e31\\u0e25\\u0e41\\u0e01\\u0e40\\u0e23\\u0e35\\u0e22\", \"\\u0e1a\\u0e31\\u0e25\\u0e41\\u0e01\\u0e40\\u0e23\\u0e35\\u0e22\", \"\\u0e1a\\u0e31\\u0e25\\u0e41\\u0e01\\u0e40\\u0e23\\u0e35\\u0e22\", \"\\u0e1a\\u0e31\\u0e25\\u0e41\\u0e01\\u0e40\\u0e23\\u0e35\\u0e22\", \"\\u0e1a\\u0e31\\u0e25\\u0e41\\u0e01\\u0e40\\u0e23\\u0e35\\u0e22\", \"\\u0e1a\\u0e31\\u0e25\\u0e41\\u0e01\\u0e40\\u0e23\\u0e35\\u0e22\", \"\\u0e1a\\u0e31\\u0e25\\u0e41\\u0e01\\u0e40\\u0e23\\u0e35\\u0e22\", \"\\u0e1a\\u0e31\\u0e25\\u0e41\\u0e01\\u0e40\\u0e23\\u0e35\\u0e22\", \"\\u0e1a\\u0e32\\u0e14\", \"\\u0e1a\\u0e32\\u0e1a\\u0e35\", \"\\u0e1a\\u0e48\\u0e19\\u0e27\\u0e48\\u0e32\", \"\\u0e1a\\u0e48\\u0e19\\u0e27\\u0e48\\u0e32\", \"\\u0e1a\\u0e48\\u0e19\\u0e27\\u0e48\\u0e32\", \"\\u0e1a\\u0e49\\u0e27\\u0e19\", \"\\u0e1a\\u0e49\\u0e32\\u0e19\", \"\\u0e1a\\u0e49\\u0e32\\u0e19\", \"\\u0e1a\\u0e49\\u0e32\\u0e19\", \"\\u0e1a\\u0e49\\u0e32\\u0e19\", \"\\u0e1a\\u0e49\\u0e32\\u0e19\", \"\\u0e1a\\u0e49\\u0e32\\u0e19\", \"\\u0e1a\\u0e49\\u0e32\\u0e19\", \"\\u0e1a\\u0e49\\u0e32\\u0e19\", \"\\u0e1a\\u0e49\\u0e32\\u0e19\", \"\\u0e1b\\u0e23\\u0e30\\u0e01\\u0e27\\u0e14\", \"\\u0e1b\\u0e23\\u0e30\\u0e01\\u0e32\\u0e28\", \"\\u0e1b\\u0e23\\u0e30\\u0e01\\u0e32\\u0e28\", \"\\u0e1b\\u0e23\\u0e34\\u0e21\\u0e32\\u0e15\\u0e23\", \"\\u0e1b\\u0e25\\u0e07\", \"\\u0e1b\\u0e25\\u0e32\\u0e17\\u0e39\", \"\\u0e1b\\u0e25\\u0e32\\u0e17\\u0e39\", \"\\u0e1b\\u0e25\\u0e32\\u0e17\\u0e39\", \"\\u0e1b\\u0e25\\u0e32\\u0e17\\u0e39\", \"\\u0e1b\\u0e25\\u0e32\\u0e17\\u0e39\", \"\\u0e1b\\u0e25\\u0e32\\u0e23\\u0e49\\u0e32\", \"\\u0e1b\\u0e25\\u0e32\\u0e23\\u0e49\\u0e32\", \"\\u0e1b\\u0e27\\u0e14\\u0e2b\\u0e25\\u0e31\\u0e07\", \"\\u0e1b\\u0e30\\u0e41\\u0e25\\u0e48\\u0e21\", \"\\u0e1b\\u0e31\\u0e08\\u0e08\\u0e31\\u0e22\\u0e2a\\u0e33\\u0e04\\u0e31\\u0e0d\", \"\\u0e1b\\u0e35\", \"\\u0e1b\\u0e35\", \"\\u0e1b\\u0e35\", \"\\u0e1b\\u0e35\", \"\\u0e1b\\u0e35\", \"\\u0e1b\\u0e35\", \"\\u0e1b\\u0e35\", \"\\u0e1b\\u0e35\", \"\\u0e1b\\u0e35\", \"\\u0e1b\\u0e38\\u0e49\\u0e1a\", \"\\u0e1c\\u0e07\", \"\\u0e1c\\u0e07\", \"\\u0e1c\\u0e07\", \"\\u0e1c\\u0e07\", \"\\u0e1c\\u0e07\", \"\\u0e1c\\u0e07\", \"\\u0e1c\\u0e07\", \"\\u0e1c\\u0e07\", \"\\u0e1c\\u0e07\", \"\\u0e1c\\u0e21\", \"\\u0e1c\\u0e21\", \"\\u0e1c\\u0e21\", \"\\u0e1c\\u0e21\", \"\\u0e1c\\u0e21\", \"\\u0e1c\\u0e21\", \"\\u0e1c\\u0e21\", \"\\u0e1c\\u0e21\", \"\\u0e1c\\u0e21\", \"\\u0e1c\\u0e25\\u0e31\\u0e14\\u0e01\\u0e31\\u0e19\", \"\\u0e1c\\u0e2a\\u0e21\", \"\\u0e1c\\u0e2a\\u0e21\", \"\\u0e1c\\u0e2a\\u0e21\", \"\\u0e1c\\u0e2a\\u0e21\", \"\\u0e1c\\u0e2a\\u0e21\", \"\\u0e1c\\u0e2a\\u0e21\", \"\\u0e1c\\u0e2a\\u0e21\", \"\\u0e1c\\u0e2a\\u0e21\", \"\\u0e1c\\u0e2a\\u0e21\", \"\\u0e1c\\u0e34\\u0e07\", \"\\u0e1e.\\u0e22.\", \"\\u0e1e\\u0e07\\u0e29\\u0e4c\", \"\\u0e1e\\u0e19\", \"\\u0e1e\\u0e19\", \"\\u0e1e\\u0e19\", \"\\u0e1e\\u0e19\", \"\\u0e1e\\u0e19\", \"\\u0e1e\\u0e19\", \"\\u0e1e\\u0e19\", \"\\u0e1e\\u0e1a\\u0e01\\u0e31\\u0e19\", \"\\u0e1e\\u0e1a\\u0e01\\u0e31\\u0e19\", \"\\u0e1e\\u0e1a\\u0e01\\u0e31\\u0e19\", \"\\u0e1e\\u0e1a\\u0e01\\u0e31\\u0e19\", \"\\u0e1e\\u0e1a\\u0e01\\u0e31\\u0e19\", \"\\u0e1e\\u0e1a\\u0e01\\u0e31\\u0e19\", \"\\u0e1e\\u0e1a\\u0e01\\u0e31\\u0e19\", \"\\u0e1e\\u0e23\\u0e35\\u0e40\\u0e0b\\u0e19\\u0e40\\u0e15\\u0e2d\\u0e23\\u0e4c\", \"\\u0e1e\\u0e23\\u0e35\\u0e40\\u0e0b\\u0e19\\u0e40\\u0e15\\u0e2d\\u0e23\\u0e4c\", \"\\u0e1e\\u0e23\\u0e48\\u0e2d\\u0e07\", \"\\u0e1e\\u0e23\\u0e48\\u0e2d\\u0e07\", \"\\u0e1e\\u0e24\\u0e2b\\u0e31\\u0e2a\", \"\\u0e1e\\u0e24\\u0e2b\\u0e31\\u0e2a\", \"\\u0e1e\\u0e24\\u0e2b\\u0e31\\u0e2a\", \"\\u0e1e\\u0e2d\\u0e43\\u0e2b\\u0e49\", \"\\u0e1e\\u0e31\\u0e12\\u0e19\\u0e32\\u0e01\\u0e32\\u0e23\", \"\\u0e1e\\u0e31\\u0e12\\u0e19\\u0e32\\u0e01\\u0e32\\u0e23\", \"\\u0e1e\\u0e31\\u0e12\\u0e19\\u0e32\\u0e01\\u0e32\\u0e23\", \"\\u0e1e\\u0e31\\u0e12\\u0e19\\u0e32\\u0e01\\u0e32\\u0e23\", \"\\u0e1e\\u0e31\\u0e17\\u0e22\\u0e32\", \"\\u0e1e\\u0e32\\u0e22\", \"\\u0e1e\\u0e32\\u0e22\", \"\\u0e1e\\u0e32\\u0e22\", \"\\u0e1e\\u0e32\\u0e22\", \"\\u0e1e\\u0e32\\u0e22\", \"\\u0e1e\\u0e32\\u0e22\", \"\\u0e1e\\u0e32\\u0e22\", \"\\u0e1e\\u0e32\\u0e2b\\u0e38\\u0e23\\u0e31\\u0e14\", \"\\u0e1e\\u0e35\\u0e48\", \"\\u0e1e\\u0e35\\u0e48\", \"\\u0e1e\\u0e35\\u0e48\", \"\\u0e1e\\u0e35\\u0e48\", \"\\u0e1e\\u0e35\\u0e48\", \"\\u0e1e\\u0e35\\u0e48\", \"\\u0e1e\\u0e35\\u0e48\", \"\\u0e1e\\u0e35\\u0e48\", \"\\u0e1e\\u0e35\\u0e48\", \"\\u0e1e\\u0e35\\u0e48\\u0e40\\u0e25\\u0e35\\u0e49\\u0e22\\u0e07\", \"\\u0e1e\\u0e37\\u0e49\\u0e19\\u0e1a\\u0e49\\u0e32\\u0e19\", \"\\u0e1e\\u0e39\\u0e14\\u0e04\\u0e38\\u0e22\", \"\\u0e1e\\u0e40\\u0e19\\u0e08\\u0e23\", \"\\u0e1e\\u0e48\\u0e2d\\u0e1a\\u0e49\\u0e32\\u0e19\", \"\\u0e1e\\u0e48\\u0e2d\\u0e41\\u0e21\\u0e48\", \"\\u0e1e\\u0e48\\u0e2d\\u0e41\\u0e21\\u0e48\", \"\\u0e1e\\u0e48\\u0e2d\\u0e41\\u0e21\\u0e48\", \"\\u0e1e\\u0e48\\u0e2d\\u0e41\\u0e21\\u0e48\", \"\\u0e1e\\u0e48\\u0e2d\\u0e41\\u0e21\\u0e48\", \"\\u0e1e\\u0e48\\u0e2d\\u0e41\\u0e21\\u0e48\", \"\\u0e1e\\u0e48\\u0e2d\\u0e41\\u0e21\\u0e48\", \"\\u0e1e\\u0e48\\u0e2d\\u0e41\\u0e21\\u0e48\", \"\\u0e1e\\u0e48\\u0e2d\\u0e41\\u0e21\\u0e48\", \"\\u0e1f\\u0e32\\u0e23\\u0e4c\\u0e21\", \"\\u0e1f\\u0e32\\u0e23\\u0e4c\\u0e21\", \"\\u0e1f\\u0e32\\u0e23\\u0e4c\\u0e21\", \"\\u0e1f\\u0e32\\u0e23\\u0e4c\\u0e21\", \"\\u0e1f\\u0e32\\u0e23\\u0e4c\\u0e21\", \"\\u0e1f\\u0e32\\u0e23\\u0e4c\\u0e21\", \"\\u0e1f\\u0e32\\u0e23\\u0e4c\\u0e21\", \"\\u0e1f\\u0e32\\u0e23\\u0e4c\\u0e21\", \"\\u0e1f\\u0e32\\u0e23\\u0e4c\\u0e21\", \"\\u0e20\\u0e39\", \"\\u0e20\\u0e39\", \"\\u0e20\\u0e39\", \"\\u0e20\\u0e39\", \"\\u0e20\\u0e39\", \"\\u0e21\\u0e19\", \"\\u0e21\\u0e25.\", \"\\u0e21\\u0e25.\", \"\\u0e21\\u0e25.\", \"\\u0e21\\u0e25.\", \"\\u0e21\\u0e25.\", \"\\u0e21\\u0e25.\", \"\\u0e21\\u0e25.\", \"\\u0e21\\u0e25.\", \"\\u0e21\\u0e25.\", \"\\u0e21\\u0e27\\u0e01\\u0e40\\u0e2b\\u0e25\\u0e47\\u0e01\", \"\\u0e21\\u0e2b\\u0e31\\u0e28\\u0e08\\u0e23\\u0e23\\u0e22\\u0e4c\", \"\\u0e21\\u0e31\\u0e48\\u0e01\\u0e46\", \"\\u0e21\\u0e31\\u0e48\\u0e01\\u0e46\", \"\\u0e21\\u0e31\\u0e48\\u0e07\", \"\\u0e21\\u0e31\\u0e48\\u0e07\", \"\\u0e21\\u0e31\\u0e48\\u0e07\", \"\\u0e21\\u0e31\\u0e48\\u0e07\", \"\\u0e21\\u0e31\\u0e48\\u0e07\", \"\\u0e21\\u0e31\\u0e48\\u0e07\", \"\\u0e21\\u0e31\\u0e48\\u0e07\", \"\\u0e21\\u0e31\\u0e48\\u0e07\", \"\\u0e21\\u0e31\\u0e48\\u0e07\", \"\\u0e21\\u0e32\\u0e08\\u0e32\\u0e01\", \"\\u0e21\\u0e32\\u0e08\\u0e32\\u0e01\", \"\\u0e21\\u0e32\\u0e08\\u0e32\\u0e01\", \"\\u0e21\\u0e32\\u0e08\\u0e32\\u0e01\", \"\\u0e21\\u0e32\\u0e08\\u0e32\\u0e01\", \"\\u0e21\\u0e32\\u0e08\\u0e32\\u0e01\", \"\\u0e21\\u0e32\\u0e08\\u0e32\\u0e01\", \"\\u0e21\\u0e32\\u0e08\\u0e32\\u0e01\", \"\\u0e21\\u0e32\\u0e08\\u0e32\\u0e01\", \"\\u0e21\\u0e32\\u0e21\\u0e48\\u0e32\", \"\\u0e21\\u0e32\\u0e21\\u0e48\\u0e32\", \"\\u0e21\\u0e32\\u0e21\\u0e48\\u0e32\", \"\\u0e21\\u0e32\\u0e21\\u0e48\\u0e32\", \"\\u0e21\\u0e32\\u0e21\\u0e48\\u0e32\", \"\\u0e21\\u0e32\\u0e21\\u0e48\\u0e32\", \"\\u0e21\\u0e32\\u0e21\\u0e48\\u0e32\", \"\\u0e21\\u0e32\\u0e21\\u0e48\\u0e32\", \"\\u0e21\\u0e32\\u0e21\\u0e48\\u0e32\", \"\\u0e21\\u0e32\\u0e40\\u0e25\\u0e40\\u0e0b\\u0e35\\u0e22\", \"\\u0e21\\u0e32\\u0e41\\u0e23\\u0e07\", \"\\u0e21\\u0e35\\u0e02\\u0e49\\u0e2d\\u0e41\\u0e21\\u0e49\", \"\\u0e21\\u0e35\\u0e02\\u0e49\\u0e2d\\u0e41\\u0e21\\u0e49\", \"\\u0e21\\u0e35\\u0e02\\u0e49\\u0e2d\\u0e41\\u0e21\\u0e49\", \"\\u0e21\\u0e35\\u0e04\\u0e27\\u0e32\\u0e21\\u0e2b\\u0e21\\u0e32\\u0e22\", \"\\u0e21\\u0e35\\u0e04\\u0e27\\u0e32\\u0e21\\u0e2b\\u0e21\\u0e32\\u0e22\", \"\\u0e21\\u0e35\\u0e25\\u0e39\\u0e01\", \"\\u0e21\\u0e35\\u0e25\\u0e39\\u0e01\", \"\\u0e21\\u0e35\\u0e25\\u0e39\\u0e01\", \"\\u0e21\\u0e35\\u0e25\\u0e39\\u0e01\", \"\\u0e21\\u0e35\\u0e25\\u0e39\\u0e01\", \"\\u0e21\\u0e35\\u0e25\\u0e39\\u0e01\", \"\\u0e21\\u0e35\\u0e2a\\u0e15\\u0e34\", \"\\u0e21\\u0e36\\u0e19\", \"\\u0e21\\u0e36\\u0e19\", \"\\u0e21\\u0e37\\u0e49\\u0e2d\", \"\\u0e21\\u0e37\\u0e49\\u0e2d\", \"\\u0e21\\u0e37\\u0e49\\u0e2d\", \"\\u0e21\\u0e37\\u0e49\\u0e2d\", \"\\u0e21\\u0e37\\u0e49\\u0e2d\", \"\\u0e21\\u0e37\\u0e49\\u0e2d\", \"\\u0e21\\u0e37\\u0e49\\u0e2d\", \"\\u0e21\\u0e37\\u0e49\\u0e2d\", \"\\u0e21\\u0e37\\u0e49\\u0e2d\", \"\\u0e21\\u0e38\\u0e49\\u0e07\", \"\\u0e21\\u0e38\\u0e49\\u0e07\", \"\\u0e22\\u0e01\\u0e21\\u0e37\\u0e2d\", \"\\u0e22\\u0e01\\u0e21\\u0e37\\u0e2d\", \"\\u0e22\\u0e01\\u0e21\\u0e37\\u0e2d\", \"\\u0e22\\u0e01\\u0e40\\u0e25\\u0e34\\u0e01\", \"\\u0e22\\u0e01\\u0e40\\u0e25\\u0e34\\u0e01\", \"\\u0e22\\u0e01\\u0e40\\u0e25\\u0e34\\u0e01\", \"\\u0e22\\u0e01\\u0e40\\u0e25\\u0e34\\u0e01\", \"\\u0e22\\u0e01\\u0e40\\u0e25\\u0e34\\u0e01\", \"\\u0e22\\u0e27\", \"\\u0e22\\u0e32\\u0e04\\u0e39\", \"\\u0e22\\u0e32\\u0e19\", \"\\u0e22\\u0e34\\u0e19\", \"\\u0e22\\u0e34\\u0e19\", \"\\u0e22\\u0e34\\u0e19\", \"\\u0e22\\u0e34\\u0e19\", \"\\u0e22\\u0e34\\u0e19\", \"\\u0e22\\u0e35\\u0e48\\u0e2b\\u0e49\\u0e2d\", \"\\u0e22\\u0e35\\u0e48\\u0e2b\\u0e49\\u0e2d\", \"\\u0e22\\u0e35\\u0e48\\u0e2b\\u0e49\\u0e2d\", \"\\u0e22\\u0e35\\u0e48\\u0e2b\\u0e49\\u0e2d\", \"\\u0e22\\u0e35\\u0e48\\u0e2b\\u0e49\\u0e2d\", \"\\u0e22\\u0e35\\u0e48\\u0e2b\\u0e49\\u0e2d\", \"\\u0e22\\u0e35\\u0e48\\u0e2b\\u0e49\\u0e2d\", \"\\u0e22\\u0e35\\u0e48\\u0e2b\\u0e49\\u0e2d\", \"\\u0e22\\u0e35\\u0e48\\u0e2b\\u0e49\\u0e2d\", \"\\u0e22\\u0e37\\u0e14\\u0e15\\u0e31\\u0e27\", \"\\u0e22\\u0e37\\u0e14\\u0e15\\u0e31\\u0e27\", \"\\u0e22\\u0e39\\u0e40\\u0e2d\\u0e0a\\u0e17\\u0e35\", \"\\u0e22\\u0e39\\u0e40\\u0e2d\\u0e0a\\u0e17\\u0e35\", \"\\u0e22\\u0e39\\u0e40\\u0e2d\\u0e0a\\u0e17\\u0e35\", \"\\u0e22\\u0e39\\u0e40\\u0e2d\\u0e0a\\u0e17\\u0e35\", \"\\u0e22\\u0e39\\u0e40\\u0e2d\\u0e0a\\u0e17\\u0e35\", \"\\u0e22\\u0e39\\u0e40\\u0e2d\\u0e0a\\u0e17\\u0e35\", \"\\u0e22\\u0e49\\u0e2d\\u0e22\", \"\\u0e22\\u0e49\\u0e32\\u0e22\\u0e1a\\u0e49\\u0e32\\u0e19\", \"\\u0e23\\u0e16\", \"\\u0e23\\u0e16\", \"\\u0e23\\u0e16\", \"\\u0e23\\u0e16\", \"\\u0e23\\u0e16\", \"\\u0e23\\u0e16\", \"\\u0e23\\u0e16\", \"\\u0e23\\u0e16\", \"\\u0e23\\u0e16\", \"\\u0e23\\u0e16\\u0e1a\\u0e31\\u0e2a\", \"\\u0e23\\u0e16\\u0e1a\\u0e31\\u0e2a\", \"\\u0e23\\u0e2a\", \"\\u0e23\\u0e2a\", \"\\u0e23\\u0e2a\", \"\\u0e23\\u0e2a\", \"\\u0e23\\u0e2a\", \"\\u0e23\\u0e2a\", \"\\u0e23\\u0e2a\", \"\\u0e23\\u0e2a\", \"\\u0e23\\u0e2a\", \"\\u0e23\\u0e2a\\u0e0a\\u0e32\\u0e15\\u0e34\", \"\\u0e23\\u0e2a\\u0e0a\\u0e32\\u0e15\\u0e34\", \"\\u0e23\\u0e2a\\u0e0a\\u0e32\\u0e15\\u0e34\", \"\\u0e23\\u0e2a\\u0e0a\\u0e32\\u0e15\\u0e34\", \"\\u0e23\\u0e2a\\u0e0a\\u0e32\\u0e15\\u0e34\", \"\\u0e23\\u0e2a\\u0e0a\\u0e32\\u0e15\\u0e34\", \"\\u0e23\\u0e2a\\u0e0a\\u0e32\\u0e15\\u0e34\", \"\\u0e23\\u0e2a\\u0e0a\\u0e32\\u0e15\\u0e34\", \"\\u0e23\\u0e2a\\u0e0a\\u0e32\\u0e15\\u0e34\", \"\\u0e23\\u0e2d.\", \"\\u0e23\\u0e2d\\u0e07\", \"\\u0e23\\u0e2d\\u0e07\", \"\\u0e23\\u0e2d\\u0e07\", \"\\u0e23\\u0e2d\\u0e07\", \"\\u0e23\\u0e2d\\u0e07\", \"\\u0e23\\u0e2d\\u0e07\", \"\\u0e23\\u0e2d\\u0e07\", \"\\u0e23\\u0e2d\\u0e07\", \"\\u0e23\\u0e30\\u0e1a\\u0e1a\\u0e1b\\u0e23\\u0e30\\u0e2a\\u0e32\\u0e17\", \"\\u0e23\\u0e30\\u0e1a\\u0e1a\\u0e1b\\u0e23\\u0e30\\u0e2a\\u0e32\\u0e17\", \"\\u0e23\\u0e31\\u0e01\", \"\\u0e23\\u0e31\\u0e01\", \"\\u0e23\\u0e31\\u0e01\", \"\\u0e23\\u0e31\\u0e01\", \"\\u0e23\\u0e31\\u0e01\", \"\\u0e23\\u0e31\\u0e01\", \"\\u0e23\\u0e31\\u0e01\", \"\\u0e23\\u0e31\\u0e01\", \"\\u0e23\\u0e31\\u0e01\", \"\\u0e23\\u0e31\\u0e07\\u0e41\\u0e01\", \"\\u0e23\\u0e31\\u0e1a\\u0e2a\\u0e32\\u0e22\", \"\\u0e23\\u0e31\\u0e48\\u0e27\", \"\\u0e23\\u0e32\\u0e0a\\u0e32\", \"\\u0e23\\u0e34\\u0e27\", \"\\u0e23\\u0e34\\u0e27\", \"\\u0e23\\u0e34\\u0e27\", \"\\u0e23\\u0e34\\u0e27\", \"\\u0e23\\u0e39\\u0e1b\", \"\\u0e23\\u0e39\\u0e1b\", \"\\u0e23\\u0e39\\u0e1b\", \"\\u0e23\\u0e39\\u0e1b\", \"\\u0e23\\u0e39\\u0e1b\", \"\\u0e23\\u0e39\\u0e1b\", \"\\u0e23\\u0e39\\u0e1b\", \"\\u0e23\\u0e39\\u0e1b\", \"\\u0e23\\u0e39\\u0e1b\", \"\\u0e23\\u0e39\\u0e1b\\u0e23\\u0e48\\u0e32\\u0e07\\u0e2b\\u0e19\\u0e49\\u0e32\\u0e15\\u0e32\", \"\\u0e23\\u0e39\\u0e49\", \"\\u0e23\\u0e39\\u0e49\", \"\\u0e23\\u0e39\\u0e49\", \"\\u0e23\\u0e39\\u0e49\", \"\\u0e23\\u0e39\\u0e49\", \"\\u0e23\\u0e39\\u0e49\", \"\\u0e23\\u0e39\\u0e49\", \"\\u0e23\\u0e39\\u0e49\", \"\\u0e23\\u0e39\\u0e49\", \"\\u0e23\\u0e39\\u0e49\\u0e2a\\u0e36\\u0e01\", \"\\u0e23\\u0e39\\u0e49\\u0e2a\\u0e36\\u0e01\", \"\\u0e23\\u0e39\\u0e49\\u0e2a\\u0e36\\u0e01\", \"\\u0e23\\u0e39\\u0e49\\u0e2a\\u0e36\\u0e01\", \"\\u0e23\\u0e39\\u0e49\\u0e2a\\u0e36\\u0e01\", \"\\u0e23\\u0e39\\u0e49\\u0e2a\\u0e36\\u0e01\", \"\\u0e23\\u0e39\\u0e49\\u0e2a\\u0e36\\u0e01\", \"\\u0e23\\u0e39\\u0e49\\u0e2a\\u0e36\\u0e01\", \"\\u0e23\\u0e39\\u0e49\\u0e2a\\u0e36\\u0e01\", \"\\u0e23\\u0e48\\u0e2d\\u0e19\\u0e40\\u0e23\\u0e48\", \"\\u0e23\\u0e48\\u0e32\\u0e07\\u0e01\\u0e32\\u0e22\", \"\\u0e23\\u0e48\\u0e32\\u0e07\\u0e01\\u0e32\\u0e22\", \"\\u0e23\\u0e48\\u0e32\\u0e07\\u0e01\\u0e32\\u0e22\", \"\\u0e23\\u0e48\\u0e32\\u0e07\\u0e01\\u0e32\\u0e22\", \"\\u0e23\\u0e48\\u0e32\\u0e07\\u0e01\\u0e32\\u0e22\", \"\\u0e23\\u0e48\\u0e32\\u0e07\\u0e01\\u0e32\\u0e22\", \"\\u0e23\\u0e48\\u0e32\\u0e07\\u0e01\\u0e32\\u0e22\", \"\\u0e23\\u0e48\\u0e32\\u0e07\\u0e01\\u0e32\\u0e22\", \"\\u0e23\\u0e48\\u0e32\\u0e07\\u0e01\\u0e32\\u0e22\", \"\\u0e23\\u0e49\\u0e32\\u0e19\", \"\\u0e23\\u0e49\\u0e32\\u0e19\", \"\\u0e23\\u0e49\\u0e32\\u0e19\", \"\\u0e23\\u0e49\\u0e32\\u0e19\", \"\\u0e23\\u0e49\\u0e32\\u0e19\", \"\\u0e23\\u0e49\\u0e32\\u0e19\", \"\\u0e23\\u0e49\\u0e32\\u0e19\", \"\\u0e23\\u0e49\\u0e32\\u0e19\", \"\\u0e23\\u0e49\\u0e32\\u0e19\", \"\\u0e23\\u0e4c\\u0e17\", \"\\u0e25.\", \"\\u0e25.\", \"\\u0e25\\u0e21\\u0e2b\\u0e32\\u0e22\\u0e43\\u0e08\", \"\\u0e25\\u0e2d\\u0e07\", \"\\u0e25\\u0e2d\\u0e07\", \"\\u0e25\\u0e2d\\u0e07\", \"\\u0e25\\u0e2d\\u0e07\", \"\\u0e25\\u0e2d\\u0e07\", \"\\u0e25\\u0e2d\\u0e07\", \"\\u0e25\\u0e2d\\u0e07\", \"\\u0e25\\u0e2d\\u0e07\", \"\\u0e25\\u0e2d\\u0e07\", \"\\u0e25\\u0e2d\\u0e19\", \"\\u0e25\\u0e2d\\u0e19\", \"\\u0e25\\u0e2d\\u0e19\", \"\\u0e25\\u0e2d\\u0e19\", \"\\u0e25\\u0e2d\\u0e19\", \"\\u0e25\\u0e2d\\u0e19\", \"\\u0e25\\u0e30\\u0e04\\u0e23\", \"\\u0e25\\u0e30\\u0e04\\u0e23\", \"\\u0e25\\u0e30\\u0e04\\u0e23\", \"\\u0e25\\u0e30\\u0e25\\u0e32\\u0e22\", \"\\u0e25\\u0e30\\u0e25\\u0e32\\u0e22\", \"\\u0e25\\u0e30\\u0e25\\u0e32\\u0e22\", \"\\u0e25\\u0e30\\u0e25\\u0e32\\u0e22\", \"\\u0e25\\u0e30\\u0e25\\u0e32\\u0e22\", \"\\u0e25\\u0e30\\u0e25\\u0e32\\u0e22\", \"\\u0e25\\u0e30\\u0e25\\u0e32\\u0e22\", \"\\u0e25\\u0e30\\u0e25\\u0e32\\u0e22\", \"\\u0e25\\u0e30\\u0e25\\u0e32\\u0e22\", \"\\u0e25\\u0e31\\u0e14\", \"\\u0e25\\u0e32\\u0e14\\u0e1e\\u0e23\\u0e49\\u0e32\\u0e27\", \"\\u0e25\\u0e32\\u0e14\\u0e1e\\u0e23\\u0e49\\u0e32\\u0e27\", \"\\u0e25\\u0e36\\u0e01\\u0e0b\\u0e36\\u0e49\\u0e07\", \"\\u0e25\\u0e39\\u0e01\", \"\\u0e25\\u0e39\\u0e01\", \"\\u0e25\\u0e39\\u0e01\", \"\\u0e25\\u0e39\\u0e01\", \"\\u0e25\\u0e39\\u0e01\", \"\\u0e25\\u0e39\\u0e01\", \"\\u0e25\\u0e39\\u0e01\", \"\\u0e25\\u0e39\\u0e01\", \"\\u0e25\\u0e39\\u0e01\", \"\\u0e25\\u0e39\\u0e01\\u0e04\\u0e49\\u0e32\", \"\\u0e25\\u0e39\\u0e01\\u0e04\\u0e49\\u0e32\", \"\\u0e25\\u0e39\\u0e01\\u0e04\\u0e49\\u0e32\", \"\\u0e25\\u0e39\\u0e01\\u0e04\\u0e49\\u0e32\", \"\\u0e25\\u0e39\\u0e01\\u0e04\\u0e49\\u0e32\", \"\\u0e25\\u0e39\\u0e01\\u0e04\\u0e49\\u0e32\", \"\\u0e25\\u0e39\\u0e01\\u0e04\\u0e49\\u0e32\", \"\\u0e25\\u0e39\\u0e01\\u0e04\\u0e49\\u0e32\", \"\\u0e25\\u0e39\\u0e01\\u0e04\\u0e49\\u0e32\", \"\\u0e25\\u0e39\\u0e01\\u0e2a\\u0e32\\u0e27\", \"\\u0e25\\u0e39\\u0e01\\u0e2a\\u0e32\\u0e27\", \"\\u0e25\\u0e39\\u0e01\\u0e2a\\u0e32\\u0e27\", \"\\u0e25\\u0e39\\u0e01\\u0e2a\\u0e32\\u0e27\", \"\\u0e25\\u0e39\\u0e01\\u0e2a\\u0e32\\u0e27\", \"\\u0e25\\u0e39\\u0e01\\u0e2a\\u0e32\\u0e27\", \"\\u0e25\\u0e39\\u0e01\\u0e2a\\u0e32\\u0e27\", \"\\u0e25\\u0e39\\u0e01\\u0e2a\\u0e32\\u0e27\", \"\\u0e25\\u0e39\\u0e01\\u0e2a\\u0e32\\u0e27\", \"\\u0e25\\u0e39\\u0e01\\u0e40\\u0e01\\u0e14\", \"\\u0e25\\u0e47\\u0e2d\\u0e01\\u0e2d\\u0e34\\u0e19\", \"\\u0e25\\u0e49\\u0e2d\\u0e40\\u0e25\\u0e48\\u0e19\", \"\\u0e25\\u0e49\\u0e32\\u0e07\\u0e08\\u0e32\\u0e19\", \"\\u0e25\\u0e4c\\u0e14\", \"\\u0e25\\u0e4c\\u0e14\", \"\\u0e27\\u0e23\\u0e23\\u0e04\\u0e15\\u0e2d\\u0e19\", \"\\u0e27\\u0e2a\\u0e35\", \"\\u0e27\\u0e2d\\u0e25\\u0e25\\u0e4c\", \"\\u0e27\\u0e2d\\u0e25\\u0e25\\u0e4c\", \"\\u0e27\\u0e2d\\u0e25\\u0e25\\u0e4c\", \"\\u0e27\\u0e31\\u0e19\\u0e2b\\u0e21\\u0e14\\u0e2d\\u0e32\\u0e22\\u0e38\", \"\\u0e27\\u0e31\\u0e19\\u0e2b\\u0e21\\u0e14\\u0e2d\\u0e32\\u0e22\\u0e38\", \"\\u0e27\\u0e31\\u0e19\\u0e2b\\u0e21\\u0e14\\u0e2d\\u0e32\\u0e22\\u0e38\", \"\\u0e27\\u0e31\\u0e19\\u0e41\\u0e21\\u0e48\", \"\\u0e27\\u0e31\\u0e27\\u0e19\\u0e21\", \"\\u0e27\\u0e32\\u0e23\\u0e34\\u0e0a\", \"\\u0e27\\u0e32\\u0e27\", \"\\u0e27\\u0e34\\u0e48\\u0e07\\u0e40\\u0e25\\u0e48\\u0e19\", \"\\u0e27\\u0e38\\u0e49\\u0e19\", \"\\u0e27\\u0e38\\u0e49\\u0e19\", \"\\u0e27\\u0e38\\u0e49\\u0e19\", \"\\u0e27\\u0e38\\u0e49\\u0e19\", \"\\u0e27\\u0e38\\u0e49\\u0e19\", \"\\u0e27\\u0e38\\u0e49\\u0e19\", \"\\u0e27\\u0e38\\u0e49\\u0e19\", \"\\u0e27\\u0e38\\u0e49\\u0e19\", \"\\u0e27\\u0e38\\u0e49\\u0e19\", \"\\u0e28\\u0e23\\u0e35\", \"\\u0e28\\u0e23\\u0e35\", \"\\u0e28\\u0e23\\u0e35\", \"\\u0e28\\u0e23\\u0e35\", \"\\u0e2a.\\u0e04.\", \"\\u0e2a\\u0e01\", \"\\u0e2a\\u0e17\\u0e4c\", \"\\u0e2a\\u0e21\\u0e19\\u0e49\\u0e33\\u0e2b\\u0e19\\u0e49\\u0e32\", \"\\u0e2a\\u0e27\\u0e22\", \"\\u0e2a\\u0e27\\u0e22\", \"\\u0e2a\\u0e27\\u0e22\", \"\\u0e2a\\u0e27\\u0e22\", \"\\u0e2a\\u0e27\\u0e22\", \"\\u0e2a\\u0e27\\u0e22\", \"\\u0e2a\\u0e27\\u0e22\", \"\\u0e2a\\u0e27\\u0e22\", \"\\u0e2a\\u0e27\\u0e22\", \"\\u0e2a\\u0e2d\\u0e14\\u0e2a\\u0e48\\u0e2d\\u0e07\", \"\\u0e2a\\u0e31\\u0e07\\u0e40\\u0e01\\u0e15\\u0e40\\u0e2b\\u0e47\\u0e19\", \"\\u0e2a\\u0e32\\u0e23\\u0e2d\\u0e32\\u0e2b\\u0e32\\u0e23\", \"\\u0e2a\\u0e32\\u0e23\\u0e2d\\u0e32\\u0e2b\\u0e32\\u0e23\", \"\\u0e2a\\u0e32\\u0e23\\u0e2d\\u0e32\\u0e2b\\u0e32\\u0e23\", \"\\u0e2a\\u0e32\\u0e23\\u0e2d\\u0e32\\u0e2b\\u0e32\\u0e23\", \"\\u0e2a\\u0e32\\u0e23\\u0e2d\\u0e32\\u0e2b\\u0e32\\u0e23\", \"\\u0e2a\\u0e32\\u0e23\\u0e2d\\u0e32\\u0e2b\\u0e32\\u0e23\", \"\\u0e2a\\u0e32\\u0e23\\u0e2d\\u0e32\\u0e2b\\u0e32\\u0e23\", \"\\u0e2a\\u0e32\\u0e23\\u0e2d\\u0e32\\u0e2b\\u0e32\\u0e23\", \"\\u0e2a\\u0e32\\u0e23\\u0e2d\\u0e32\\u0e2b\\u0e32\\u0e23\", \"\\u0e2a\\u0e34\\u0e07\\u0e2b\\u0e4c\", \"\\u0e2a\\u0e34\\u0e07\\u0e2b\\u0e4c\", \"\\u0e2a\\u0e34\\u0e49\\u0e19\\u0e40\\u0e14\\u0e37\\u0e2d\\u0e19\", \"\\u0e2a\\u0e38\", \"\\u0e2a\\u0e38\\u0e19\\u0e31\\u0e02\", \"\\u0e2a\\u0e39\\u0e14\", \"\\u0e2a\\u0e40\\u0e15\\u0e4a\\u0e01\", \"\\u0e2a\\u0e41\\u0e01\\u0e19\", \"\\u0e2a\\u0e48\\u0e27\\u0e19\\u0e25\\u0e14\", \"\\u0e2a\\u0e48\\u0e27\\u0e19\\u0e25\\u0e14\", \"\\u0e2a\\u0e48\\u0e27\\u0e19\\u0e25\\u0e14\", \"\\u0e2a\\u0e48\\u0e27\\u0e19\\u0e25\\u0e14\", \"\\u0e2a\\u0e48\\u0e27\\u0e19\\u0e25\\u0e14\", \"\\u0e2a\\u0e48\\u0e27\\u0e19\\u0e25\\u0e14\", \"\\u0e2a\\u0e48\\u0e27\\u0e19\\u0e25\\u0e14\", \"\\u0e2a\\u0e48\\u0e27\\u0e19\\u0e25\\u0e14\", \"\\u0e2a\\u0e48\\u0e27\\u0e19\\u0e25\\u0e14\", \"\\u0e2b\\u0e19\\u0e2d\\u0e07\\u0e42\\u0e1e\", \"\\u0e2b\\u0e19\\u0e2d\\u0e07\\u0e42\\u0e1e\", \"\\u0e2b\\u0e19\\u0e2d\\u0e07\\u0e42\\u0e1e\", \"\\u0e2b\\u0e19\\u0e2d\\u0e07\\u0e42\\u0e1e\", \"\\u0e2b\\u0e19\\u0e2d\\u0e07\\u0e42\\u0e1e\", \"\\u0e2b\\u0e19\\u0e2d\\u0e07\\u0e42\\u0e1e\", \"\\u0e2b\\u0e19\\u0e2d\\u0e07\\u0e42\\u0e1e\", \"\\u0e2b\\u0e19\\u0e2d\\u0e07\\u0e42\\u0e1e\", \"\\u0e2b\\u0e19\\u0e2d\\u0e07\\u0e42\\u0e1e\", \"\\u0e2b\\u0e19\\u0e31\\u0e07\\u0e2a\\u0e37\\u0e2d\\u0e1e\\u0e34\\u0e21\\u0e1e\\u0e4c\", \"\\u0e2b\\u0e19\\u0e31\\u0e07\\u0e2a\\u0e37\\u0e2d\\u0e1e\\u0e34\\u0e21\\u0e1e\\u0e4c\", \"\\u0e2b\\u0e19\\u0e31\\u0e07\\u0e2a\\u0e37\\u0e2d\\u0e1e\\u0e34\\u0e21\\u0e1e\\u0e4c\", \"\\u0e2b\\u0e19\\u0e34\", \"\\u0e2b\\u0e21\\u0e2d\", \"\\u0e2b\\u0e21\\u0e2d\", \"\\u0e2b\\u0e21\\u0e2d\", \"\\u0e2b\\u0e21\\u0e2d\", \"\\u0e2b\\u0e21\\u0e2d\", \"\\u0e2b\\u0e21\\u0e2d\", \"\\u0e2b\\u0e21\\u0e2d\", \"\\u0e2b\\u0e21\\u0e2d\", \"\\u0e2b\\u0e21\\u0e2d\", \"\\u0e2b\\u0e21\\u0e31\\u0e48\\u0e19\\u0e44\\u0e2a\\u0e49\", \"\\u0e2b\\u0e21\\u0e32\\u0e22\\u0e40\\u0e25\\u0e02\", \"\\u0e2b\\u0e21\\u0e32\\u0e22\\u0e40\\u0e25\\u0e02\", \"\\u0e2b\\u0e21\\u0e32\\u0e22\\u0e40\\u0e25\\u0e02\", \"\\u0e2b\\u0e21\\u0e32\\u0e22\\u0e40\\u0e25\\u0e02\", \"\\u0e2b\\u0e21\\u0e32\\u0e22\\u0e40\\u0e25\\u0e02\", \"\\u0e2b\\u0e21\\u0e32\\u0e22\\u0e40\\u0e25\\u0e02\", \"\\u0e2b\\u0e21\\u0e35\", \"\\u0e2b\\u0e21\\u0e35\", \"\\u0e2b\\u0e21\\u0e35\", \"\\u0e2b\\u0e21\\u0e35\", \"\\u0e2b\\u0e21\\u0e35\", \"\\u0e2b\\u0e21\\u0e35\", \"\\u0e2b\\u0e21\\u0e35\", \"\\u0e2b\\u0e21\\u0e35\", \"\\u0e2b\\u0e21\\u0e35\", \"\\u0e2b\\u0e21\\u0e39\\u0e41\\u0e2e\\u0e21\", \"\\u0e2b\\u0e21\\u0e39\\u0e41\\u0e2e\\u0e21\", \"\\u0e2b\\u0e25\\u0e31\\u0e07\\u0e1a\\u0e49\\u0e32\\u0e19\", \"\\u0e2b\\u0e25\\u0e32\\u0e19\\u0e2a\\u0e32\\u0e27\", \"\\u0e2b\\u0e25\\u0e48\\u0e2d\\u0e19\", \"\\u0e2b\\u0e27\\u0e30\", \"\\u0e2b\\u0e27\\u0e32\\u0e19\", \"\\u0e2b\\u0e27\\u0e32\\u0e19\", \"\\u0e2b\\u0e27\\u0e32\\u0e19\", \"\\u0e2b\\u0e27\\u0e32\\u0e19\", \"\\u0e2b\\u0e27\\u0e32\\u0e19\", \"\\u0e2b\\u0e27\\u0e32\\u0e19\", \"\\u0e2b\\u0e27\\u0e32\\u0e19\", \"\\u0e2b\\u0e27\\u0e32\\u0e19\", \"\\u0e2b\\u0e27\\u0e32\\u0e19\", \"\\u0e2b\\u0e2d\\u0e21\", \"\\u0e2b\\u0e2d\\u0e21\", \"\\u0e2b\\u0e2d\\u0e21\", \"\\u0e2b\\u0e2d\\u0e21\", \"\\u0e2b\\u0e2d\\u0e21\", \"\\u0e2b\\u0e2d\\u0e21\", \"\\u0e2b\\u0e2d\\u0e21\", \"\\u0e2b\\u0e2d\\u0e21\", \"\\u0e2b\\u0e2d\\u0e21\", \"\\u0e2b\\u0e32\", \"\\u0e2b\\u0e32\", \"\\u0e2b\\u0e32\", \"\\u0e2b\\u0e32\", \"\\u0e2b\\u0e32\", \"\\u0e2b\\u0e32\", \"\\u0e2b\\u0e32\", \"\\u0e2b\\u0e32\", \"\\u0e2b\\u0e32\", \"\\u0e2b\\u0e32\\u0e07\\u0e19\\u0e21\", \"\\u0e2b\\u0e32\\u0e22\\u0e19\\u0e30\", \"\\u0e2b\\u0e49\\u0e2d\\u0e07\\u0e04\\u0e23\\u0e31\\u0e27\", \"\\u0e2b\\u0e49\\u0e2d\\u0e07\\u0e17\\u0e33\\u0e07\\u0e32\\u0e19\", \"\\u0e2d\\u0e19\\u0e38\\u0e21\\u0e39\\u0e25\", \"\\u0e2d\\u0e22\\u0e48\\u0e32\", \"\\u0e2d\\u0e22\\u0e48\\u0e32\", \"\\u0e2d\\u0e22\\u0e48\\u0e32\", \"\\u0e2d\\u0e22\\u0e48\\u0e32\", \"\\u0e2d\\u0e22\\u0e48\\u0e32\", \"\\u0e2d\\u0e22\\u0e48\\u0e32\", \"\\u0e2d\\u0e22\\u0e48\\u0e32\", \"\\u0e2d\\u0e22\\u0e48\\u0e32\", \"\\u0e2d\\u0e22\\u0e48\\u0e32\", \"\\u0e2d\\u0e22\\u0e48\\u0e32\\u0e07\\u0e43\\u0e14\\u0e2d\\u0e22\\u0e48\\u0e32\\u0e07\\u0e2b\\u0e19\\u0e36\\u0e48\\u0e07\", \"\\u0e2d\\u0e23\\u0e48\\u0e2d\\u0e22\", \"\\u0e2d\\u0e23\\u0e48\\u0e2d\\u0e22\", \"\\u0e2d\\u0e23\\u0e48\\u0e2d\\u0e22\", \"\\u0e2d\\u0e23\\u0e48\\u0e2d\\u0e22\", \"\\u0e2d\\u0e23\\u0e48\\u0e2d\\u0e22\", \"\\u0e2d\\u0e23\\u0e48\\u0e2d\\u0e22\", \"\\u0e2d\\u0e23\\u0e48\\u0e2d\\u0e22\", \"\\u0e2d\\u0e23\\u0e48\\u0e2d\\u0e22\", \"\\u0e2d\\u0e23\\u0e48\\u0e2d\\u0e22\", \"\\u0e2d\\u0e2d\", \"\\u0e2d\\u0e2d\", \"\\u0e2d\\u0e2d\", \"\\u0e2d\\u0e2d\", \"\\u0e2d\\u0e2d\", \"\\u0e2d\\u0e2d\", \"\\u0e2d\\u0e2d\", \"\\u0e2d\\u0e2d\", \"\\u0e2d\\u0e2d\", \"\\u0e2d\\u0e2d\\u0e01\\u0e21\\u0e32\", \"\\u0e2d\\u0e2d\\u0e01\\u0e21\\u0e32\", \"\\u0e2d\\u0e2d\\u0e01\\u0e21\\u0e32\", \"\\u0e2d\\u0e2d\\u0e01\\u0e21\\u0e32\", \"\\u0e2d\\u0e2d\\u0e01\\u0e21\\u0e32\", \"\\u0e2d\\u0e2d\\u0e01\\u0e21\\u0e32\", \"\\u0e2d\\u0e2d\\u0e01\\u0e21\\u0e32\", \"\\u0e2d\\u0e2d\\u0e01\\u0e21\\u0e32\", \"\\u0e2d\\u0e2d\\u0e01\\u0e21\\u0e32\", \"\\u0e2d\\u0e32\\u0e2a\\u0e32\", \"\\u0e2d\\u0e32\\u0e2a\\u0e32\", \"\\u0e2d\\u0e32\\u0e2a\\u0e32\", \"\\u0e2d\\u0e32\\u0e2b\\u0e32\\u0e23\", \"\\u0e2d\\u0e32\\u0e2b\\u0e32\\u0e23\", \"\\u0e2d\\u0e32\\u0e2b\\u0e32\\u0e23\", \"\\u0e2d\\u0e32\\u0e2b\\u0e32\\u0e23\", \"\\u0e2d\\u0e32\\u0e2b\\u0e32\\u0e23\", \"\\u0e2d\\u0e32\\u0e2b\\u0e32\\u0e23\", \"\\u0e2d\\u0e32\\u0e2b\\u0e32\\u0e23\", \"\\u0e2d\\u0e32\\u0e2b\\u0e32\\u0e23\", \"\\u0e2d\\u0e32\\u0e2b\\u0e32\\u0e23\", \"\\u0e2d\\u0e34\\u0e19\\u0e40\\u0e15\\u0e2d\\u0e23\\u0e4c\", \"\\u0e2d\\u0e34\\u0e19\\u0e40\\u0e15\\u0e2d\\u0e23\\u0e4c\", \"\\u0e2d\\u0e34\\u0e2a\\u0e23\\u0e30\", \"\\u0e2d\\u0e34\\u0e2a\\u0e23\\u0e30\", \"\\u0e2d\\u0e34\\u0e2a\\u0e23\\u0e30\", \"\\u0e2d\\u0e34\\u0e2a\\u0e23\\u0e30\", \"\\u0e2d\\u0e35\\u0e49\", \"\\u0e2d\\u0e36\", \"\\u0e2d\\u0e36\", \"\\u0e2d\\u0e36\", \"\\u0e2d\\u0e36\", \"\\u0e2d\\u0e36\", \"\\u0e2d\\u0e36\", \"\\u0e2d\\u0e38\\u0e1a\\u0e32\\u0e17\\u0e27\\u0e4c\", \"\\u0e2d\\u0e38\\u0e48\\u0e19\", \"\\u0e2d\\u0e38\\u0e48\\u0e19\", \"\\u0e2d\\u0e38\\u0e48\\u0e19\", \"\\u0e2d\\u0e38\\u0e48\\u0e19\", \"\\u0e2d\\u0e38\\u0e48\\u0e19\", \"\\u0e2d\\u0e38\\u0e48\\u0e19\", \"\\u0e2d\\u0e38\\u0e48\\u0e19\", \"\\u0e2d\\u0e38\\u0e48\\u0e19\", \"\\u0e2d\\u0e38\\u0e48\\u0e19\", \"\\u0e2d\\u0e48\\u0e2d\\u0e19\\u0e41\\u0e2d\", \"\\u0e2d\\u0e48\\u0e2d\\u0e19\\u0e41\\u0e2d\", \"\\u0e2d\\u0e48\\u0e2d\\u0e19\\u0e41\\u0e2d\", \"\\u0e2d\\u0e4a\\u0e32\", \"\\u0e2e\\u0e2d\\u0e25\", \"\\u0e2e\\u0e30\", \"\\u0e2e\\u0e30\", \"\\u0e2e\\u0e30\", \"\\u0e2e\\u0e30\", \"\\u0e2e\\u0e30\", \"\\u0e2e\\u0e30\", \"\\u0e2e\\u0e30\", \"\\u0e2e\\u0e30\", \"\\u0e2e\\u0e30\", \"\\u0e2e\\u0e39\", \"\\u0e40\\u0e01\\u0e29\\u0e15\\u0e23\", \"\\u0e40\\u0e01\\u0e29\\u0e15\\u0e23\", \"\\u0e40\\u0e01\\u0e29\\u0e15\\u0e23\", \"\\u0e40\\u0e01\\u0e29\\u0e15\\u0e23\", \"\\u0e40\\u0e01\\u0e29\\u0e15\\u0e23\", \"\\u0e40\\u0e01\\u0e29\\u0e15\\u0e23\", \"\\u0e40\\u0e01\\u0e29\\u0e15\\u0e23\", \"\\u0e40\\u0e01\\u0e34\\u0e23\\u0e15\", \"\\u0e40\\u0e01\\u0e34\\u0e23\\u0e15\\u0e4c\", \"\\u0e40\\u0e01\\u0e47\\u0e15\\u0e15\\u0e35\\u0e49\", \"\\u0e40\\u0e01\\u0e47\\u0e15\\u0e15\\u0e35\\u0e49\", \"\\u0e40\\u0e01\\u0e47\\u0e15\\u0e15\\u0e35\\u0e49\", \"\\u0e40\\u0e02\", \"\\u0e40\\u0e02\\u0e35\\u0e22\\u0e27\", \"\\u0e40\\u0e02\\u0e35\\u0e22\\u0e27\", \"\\u0e40\\u0e02\\u0e35\\u0e22\\u0e27\", \"\\u0e40\\u0e02\\u0e35\\u0e22\\u0e27\", \"\\u0e40\\u0e02\\u0e35\\u0e22\\u0e27\", \"\\u0e40\\u0e02\\u0e35\\u0e22\\u0e27\", \"\\u0e40\\u0e02\\u0e35\\u0e22\\u0e27\", \"\\u0e40\\u0e02\\u0e35\\u0e22\\u0e27\", \"\\u0e40\\u0e02\\u0e35\\u0e22\\u0e27\", \"\\u0e40\\u0e04\\u0e23\\u0e35\\u0e22\\u0e14\", \"\\u0e40\\u0e04\\u0e23\\u0e35\\u0e22\\u0e14\", \"\\u0e40\\u0e04\\u0e23\\u0e35\\u0e22\\u0e14\", \"\\u0e40\\u0e04\\u0e23\\u0e35\\u0e22\\u0e14\", \"\\u0e40\\u0e04\\u0e23\\u0e35\\u0e22\\u0e14\", \"\\u0e40\\u0e04\\u0e23\\u0e35\\u0e22\\u0e14\", \"\\u0e40\\u0e04\\u0e23\\u0e35\\u0e22\\u0e14\", \"\\u0e40\\u0e04\\u0e23\\u0e35\\u0e22\\u0e14\", \"\\u0e40\\u0e04\\u0e23\\u0e37\\u0e48\\u0e2d\\u0e07\\u0e40\\u0e17\\u0e28\", \"\\u0e40\\u0e04\\u0e23\\u0e37\\u0e48\\u0e2d\\u0e07\\u0e40\\u0e17\\u0e28\", \"\\u0e40\\u0e04\\u0e23\\u0e37\\u0e48\\u0e2d\\u0e07\\u0e40\\u0e17\\u0e28\", \"\\u0e40\\u0e04\\u0e23\\u0e37\\u0e48\\u0e2d\\u0e07\\u0e40\\u0e17\\u0e28\", \"\\u0e40\\u0e04\\u0e23\\u0e37\\u0e48\\u0e2d\\u0e07\\u0e40\\u0e17\\u0e28\", \"\\u0e40\\u0e04\\u0e23\\u0e37\\u0e48\\u0e2d\\u0e07\\u0e40\\u0e17\\u0e28\", \"\\u0e40\\u0e04\\u0e23\\u0e37\\u0e48\\u0e2d\\u0e07\\u0e40\\u0e17\\u0e28\", \"\\u0e40\\u0e04\\u0e32\", \"\\u0e40\\u0e04\\u0e32\", \"\\u0e40\\u0e04\\u0e32\", \"\\u0e40\\u0e04\\u0e49\\u0e32\", \"\\u0e40\\u0e04\\u0e49\\u0e32\", \"\\u0e40\\u0e04\\u0e49\\u0e32\", \"\\u0e40\\u0e04\\u0e49\\u0e32\", \"\\u0e40\\u0e04\\u0e49\\u0e32\", \"\\u0e40\\u0e04\\u0e49\\u0e32\", \"\\u0e40\\u0e04\\u0e49\\u0e32\", \"\\u0e40\\u0e04\\u0e49\\u0e32\", \"\\u0e40\\u0e04\\u0e49\\u0e32\", \"\\u0e40\\u0e08\\u0e21\\u0e2a\\u0e4c\", \"\\u0e40\\u0e08\\u0e21\\u0e2a\\u0e4c\", \"\\u0e40\\u0e08\\u0e21\\u0e2a\\u0e4c\", \"\\u0e40\\u0e08\\u0e2d\", \"\\u0e40\\u0e08\\u0e2d\", \"\\u0e40\\u0e08\\u0e2d\", \"\\u0e40\\u0e08\\u0e2d\", \"\\u0e40\\u0e08\\u0e2d\", \"\\u0e40\\u0e08\\u0e2d\", \"\\u0e40\\u0e08\\u0e2d\", \"\\u0e40\\u0e08\\u0e2d\", \"\\u0e40\\u0e08\\u0e2d\", \"\\u0e40\\u0e08\\u0e35\\u0e22\\u0e23\", \"\\u0e40\\u0e08\\u0e49\\u0e07\", \"\\u0e40\\u0e0a\\u0e34\\u0e07\", \"\\u0e40\\u0e0a\\u0e34\\u0e07\", \"\\u0e40\\u0e0a\\u0e34\\u0e07\", \"\\u0e40\\u0e0a\\u0e35\\u0e22\\u0e23\\u0e4c\", \"\\u0e40\\u0e0a\\u0e35\\u0e22\\u0e23\\u0e4c\", \"\\u0e40\\u0e0a\\u0e47\\u0e04\", \"\\u0e40\\u0e0a\\u0e47\\u0e04\", \"\\u0e40\\u0e0a\\u0e47\\u0e04\", \"\\u0e40\\u0e0a\\u0e47\\u0e04\", \"\\u0e40\\u0e0a\\u0e47\\u0e04\", \"\\u0e40\\u0e0a\\u0e47\\u0e04\", \"\\u0e40\\u0e0a\\u0e47\\u0e04\", \"\\u0e40\\u0e0a\\u0e47\\u0e04\", \"\\u0e40\\u0e0b\\u0e19\\u0e15\\u0e34\\u0e40\\u0e21\\u0e15\\u0e23\", \"\\u0e40\\u0e0b\\u0e40\\u0e27\\u0e48\\u0e19\", \"\\u0e40\\u0e0b\\u0e40\\u0e27\\u0e48\\u0e19\", \"\\u0e40\\u0e0b\\u0e40\\u0e27\\u0e48\\u0e19\", \"\\u0e40\\u0e0b\\u0e40\\u0e27\\u0e48\\u0e19\", \"\\u0e40\\u0e0b\\u0e40\\u0e27\\u0e48\\u0e19\", \"\\u0e40\\u0e0b\\u0e40\\u0e27\\u0e48\\u0e19\", \"\\u0e40\\u0e0b\\u0e40\\u0e27\\u0e48\\u0e19\", \"\\u0e40\\u0e0b\\u0e40\\u0e27\\u0e48\\u0e19\", \"\\u0e40\\u0e0b\\u0e40\\u0e27\\u0e48\\u0e19\", \"\\u0e40\\u0e0b\\u0e47\\u0e19\\u0e17\\u0e23\\u0e31\\u0e25\", \"\\u0e40\\u0e0b\\u0e47\\u0e19\\u0e17\\u0e23\\u0e31\\u0e25\", \"\\u0e40\\u0e14\\u0e35\\u0e4b\\u0e22\\u0e27\", \"\\u0e40\\u0e14\\u0e35\\u0e4b\\u0e22\\u0e27\", \"\\u0e40\\u0e14\\u0e35\\u0e4b\\u0e22\\u0e27\", \"\\u0e40\\u0e14\\u0e35\\u0e4b\\u0e22\\u0e27\", \"\\u0e40\\u0e14\\u0e35\\u0e4b\\u0e22\\u0e27\", \"\\u0e40\\u0e14\\u0e35\\u0e4b\\u0e22\\u0e27\", \"\\u0e40\\u0e14\\u0e35\\u0e4b\\u0e22\\u0e27\", \"\\u0e40\\u0e14\\u0e35\\u0e4b\\u0e22\\u0e27\", \"\\u0e40\\u0e14\\u0e35\\u0e4b\\u0e22\\u0e27\", \"\\u0e40\\u0e14\\u0e37\\u0e2d\\u0e19\", \"\\u0e40\\u0e14\\u0e37\\u0e2d\\u0e19\", \"\\u0e40\\u0e14\\u0e37\\u0e2d\\u0e19\", \"\\u0e40\\u0e14\\u0e37\\u0e2d\\u0e19\", \"\\u0e40\\u0e14\\u0e37\\u0e2d\\u0e19\", \"\\u0e40\\u0e14\\u0e37\\u0e2d\\u0e19\", \"\\u0e40\\u0e14\\u0e37\\u0e2d\\u0e19\", \"\\u0e40\\u0e14\\u0e37\\u0e2d\\u0e19\", \"\\u0e40\\u0e14\\u0e37\\u0e2d\\u0e19\", \"\\u0e40\\u0e14\\u0e47\\u0e01\", \"\\u0e40\\u0e14\\u0e47\\u0e01\", \"\\u0e40\\u0e14\\u0e47\\u0e01\", \"\\u0e40\\u0e14\\u0e47\\u0e01\", \"\\u0e40\\u0e14\\u0e47\\u0e01\", \"\\u0e40\\u0e14\\u0e47\\u0e01\", \"\\u0e40\\u0e14\\u0e47\\u0e01\", \"\\u0e40\\u0e14\\u0e47\\u0e01\", \"\\u0e40\\u0e14\\u0e47\\u0e01\", \"\\u0e40\\u0e14\\u0e47\\u0e01\\u0e19\\u0e49\\u0e2d\\u0e22\", \"\\u0e40\\u0e14\\u0e47\\u0e01\\u0e19\\u0e49\\u0e2d\\u0e22\", \"\\u0e40\\u0e14\\u0e47\\u0e01\\u0e1c\\u0e39\\u0e49\\u0e0a\\u0e32\\u0e22\", \"\\u0e40\\u0e17\", \"\\u0e40\\u0e17\", \"\\u0e40\\u0e17\", \"\\u0e40\\u0e17\", \"\\u0e40\\u0e17\", \"\\u0e40\\u0e17\", \"\\u0e40\\u0e17\", \"\\u0e40\\u0e17\", \"\\u0e40\\u0e17\", \"\\u0e40\\u0e17\\u0e23\\u0e19\\u0e14\\u0e4c\", \"\\u0e40\\u0e17\\u0e23\\u0e19\\u0e14\\u0e4c\", \"\\u0e40\\u0e19\", \"\\u0e40\\u0e19\\u0e2a\", \"\\u0e40\\u0e19\\u0e2a\", \"\\u0e40\\u0e19\\u0e2a\", \"\\u0e40\\u0e19\\u0e35\\u0e22\\u0e21\", \"\\u0e40\\u0e19\\u0e35\\u0e49\\u0e22\\u0e30\", \"\\u0e40\\u0e19\\u0e37\\u0e49\\u0e2d\", \"\\u0e40\\u0e19\\u0e37\\u0e49\\u0e2d\", \"\\u0e40\\u0e19\\u0e37\\u0e49\\u0e2d\", \"\\u0e40\\u0e19\\u0e37\\u0e49\\u0e2d\", \"\\u0e40\\u0e19\\u0e37\\u0e49\\u0e2d\", \"\\u0e40\\u0e19\\u0e37\\u0e49\\u0e2d\", \"\\u0e40\\u0e19\\u0e37\\u0e49\\u0e2d\", \"\\u0e40\\u0e19\\u0e37\\u0e49\\u0e2d\", \"\\u0e40\\u0e19\\u0e37\\u0e49\\u0e2d\", \"\\u0e40\\u0e19\\u0e47\\u0e17\", \"\\u0e40\\u0e19\\u0e47\\u0e17\", \"\\u0e40\\u0e19\\u0e47\\u0e17\", \"\\u0e40\\u0e19\\u0e4a\", \"\\u0e40\\u0e1a\\u0e2d\\u0e23\\u0e4c\\u0e42\\u0e17\\u0e23\\u0e28\\u0e31\\u0e1e\\u0e17\\u0e4c\", \"\\u0e40\\u0e1a\\u0e35\\u0e49\\u0e22\\u0e27\", \"\\u0e40\\u0e1b\\u0e25\\u0e35\\u0e48\\u0e22\\u0e19\\u0e43\\u0e08\", \"\\u0e40\\u0e1b\\u0e32\", \"\\u0e40\\u0e1b\\u0e32\", \"\\u0e40\\u0e1b\\u0e32\", \"\\u0e40\\u0e1b\\u0e34\\u0e14\\u0e40\\u0e17\\u0e2d\\u0e21\", \"\\u0e40\\u0e1b\\u0e34\\u0e14\\u0e40\\u0e17\\u0e2d\\u0e21\", \"\\u0e40\\u0e1e\\u0e25\\u0e07\", \"\\u0e40\\u0e1e\\u0e25\\u0e07\", \"\\u0e40\\u0e1e\\u0e25\\u0e07\", \"\\u0e40\\u0e1e\\u0e25\\u0e07\", \"\\u0e40\\u0e1e\\u0e25\\u0e07\", \"\\u0e40\\u0e1e\\u0e25\\u0e07\", \"\\u0e40\\u0e1e\\u0e25\\u0e07\", \"\\u0e40\\u0e1e\\u0e37\\u0e48\\u0e2d\\u0e19\", \"\\u0e40\\u0e1e\\u0e37\\u0e48\\u0e2d\\u0e19\", \"\\u0e40\\u0e1e\\u0e37\\u0e48\\u0e2d\\u0e19\", \"\\u0e40\\u0e1e\\u0e37\\u0e48\\u0e2d\\u0e19\", \"\\u0e40\\u0e1e\\u0e37\\u0e48\\u0e2d\\u0e19\", \"\\u0e40\\u0e1e\\u0e37\\u0e48\\u0e2d\\u0e19\", \"\\u0e40\\u0e1e\\u0e37\\u0e48\\u0e2d\\u0e19\", \"\\u0e40\\u0e1e\\u0e37\\u0e48\\u0e2d\\u0e19\", \"\\u0e40\\u0e1e\\u0e37\\u0e48\\u0e2d\\u0e19\", \"\\u0e40\\u0e1e\\u0e37\\u0e48\\u0e2d\\u0e19\\u0e2a\\u0e19\\u0e34\\u0e17\", \"\\u0e40\\u0e1e\\u0e37\\u0e48\\u0e2d\\u0e19\\u0e2a\\u0e19\\u0e34\\u0e17\", \"\\u0e40\\u0e1e\\u0e37\\u0e48\\u0e2d\\u0e19\\u0e2a\\u0e19\\u0e34\\u0e17\", \"\\u0e40\\u0e21\\u0e08\\u0e34\", \"\\u0e40\\u0e21\\u0e08\\u0e34\", \"\\u0e40\\u0e21\\u0e08\\u0e34\", \"\\u0e40\\u0e21\\u0e08\\u0e34\", \"\\u0e40\\u0e21\\u0e08\\u0e34\", \"\\u0e40\\u0e21\\u0e08\\u0e34\", \"\\u0e40\\u0e21\\u0e08\\u0e34\", \"\\u0e40\\u0e21\\u0e08\\u0e34\", \"\\u0e40\\u0e21\\u0e08\\u0e34\", \"\\u0e40\\u0e21\\u0e29\\u0e32\", \"\\u0e40\\u0e21\\u0e32\", \"\\u0e40\\u0e21\\u0e32\", \"\\u0e40\\u0e21\\u0e32\", \"\\u0e40\\u0e21\\u0e32\", \"\\u0e40\\u0e21\\u0e32\", \"\\u0e40\\u0e23\\u0e35\\u0e22\\u0e01\\u0e01\\u0e31\\u0e19\\u0e27\\u0e48\\u0e32\", \"\\u0e40\\u0e23\\u0e37\\u0e48\\u0e2d\\u0e07\", \"\\u0e40\\u0e23\\u0e37\\u0e48\\u0e2d\\u0e07\", \"\\u0e40\\u0e23\\u0e37\\u0e48\\u0e2d\\u0e07\", \"\\u0e40\\u0e23\\u0e37\\u0e48\\u0e2d\\u0e07\", \"\\u0e40\\u0e23\\u0e37\\u0e48\\u0e2d\\u0e07\", \"\\u0e40\\u0e23\\u0e37\\u0e48\\u0e2d\\u0e07\", \"\\u0e40\\u0e23\\u0e37\\u0e48\\u0e2d\\u0e07\", \"\\u0e40\\u0e23\\u0e37\\u0e48\\u0e2d\\u0e07\", \"\\u0e40\\u0e23\\u0e37\\u0e48\\u0e2d\\u0e07\", \"\\u0e40\\u0e25\\u0e21\\u0e2d\\u0e19\", \"\\u0e40\\u0e25\\u0e35\\u0e49\\u0e22\\u0e07\\u0e25\\u0e39\\u0e01\", \"\\u0e40\\u0e25\\u0e35\\u0e49\\u0e22\\u0e07\\u0e25\\u0e39\\u0e01\", \"\\u0e40\\u0e25\\u0e35\\u0e49\\u0e22\\u0e07\\u0e25\\u0e39\\u0e01\", \"\\u0e40\\u0e25\\u0e35\\u0e49\\u0e22\\u0e07\\u0e25\\u0e39\\u0e01\", \"\\u0e40\\u0e25\\u0e35\\u0e49\\u0e22\\u0e07\\u0e25\\u0e39\\u0e01\", \"\\u0e40\\u0e25\\u0e35\\u0e49\\u0e22\\u0e07\\u0e25\\u0e39\\u0e01\", \"\\u0e40\\u0e25\\u0e35\\u0e49\\u0e22\\u0e07\\u0e40\\u0e14\\u0e47\\u0e01\", \"\\u0e40\\u0e25\\u0e37\\u0e2d\\u0e01\", \"\\u0e40\\u0e25\\u0e37\\u0e2d\\u0e01\", \"\\u0e40\\u0e25\\u0e37\\u0e2d\\u0e01\", \"\\u0e40\\u0e25\\u0e37\\u0e2d\\u0e01\", \"\\u0e40\\u0e25\\u0e37\\u0e2d\\u0e01\", \"\\u0e40\\u0e25\\u0e37\\u0e2d\\u0e01\", \"\\u0e40\\u0e25\\u0e37\\u0e2d\\u0e01\", \"\\u0e40\\u0e25\\u0e37\\u0e2d\\u0e01\", \"\\u0e40\\u0e25\\u0e37\\u0e2d\\u0e01\", \"\\u0e40\\u0e25\\u0e47\\u0e15\", \"\\u0e40\\u0e25\\u0e48\\u0e19\", \"\\u0e40\\u0e25\\u0e48\\u0e19\", \"\\u0e40\\u0e25\\u0e48\\u0e19\", \"\\u0e40\\u0e25\\u0e48\\u0e19\", \"\\u0e40\\u0e25\\u0e48\\u0e19\", \"\\u0e40\\u0e25\\u0e48\\u0e19\", \"\\u0e40\\u0e25\\u0e48\\u0e19\", \"\\u0e40\\u0e25\\u0e48\\u0e19\", \"\\u0e40\\u0e25\\u0e48\\u0e19\", \"\\u0e40\\u0e25\\u0e48\\u0e32\\u0e40\\u0e23\\u0e37\\u0e48\\u0e2d\\u0e07\", \"\\u0e40\\u0e27\\u0e23\", \"\\u0e40\\u0e27\\u0e23\", \"\\u0e40\\u0e27\\u0e25\\u0e32\", \"\\u0e40\\u0e27\\u0e25\\u0e32\", \"\\u0e40\\u0e27\\u0e25\\u0e32\", \"\\u0e40\\u0e27\\u0e25\\u0e32\", \"\\u0e40\\u0e27\\u0e25\\u0e32\", \"\\u0e40\\u0e27\\u0e25\\u0e32\", \"\\u0e40\\u0e27\\u0e25\\u0e32\", \"\\u0e40\\u0e27\\u0e25\\u0e32\", \"\\u0e40\\u0e27\\u0e25\\u0e32\", \"\\u0e40\\u0e27\\u0e34\\u0e23\\u0e4c\\u0e01\", \"\\u0e40\\u0e2a\\u0e35\\u0e22\\u0e0a\\u0e35\\u0e27\\u0e34\\u0e15\", \"\\u0e40\\u0e2a\\u0e35\\u0e22\\u0e2a\\u0e25\\u0e30\", \"\\u0e40\\u0e2a\\u0e35\\u0e22\\u0e2a\\u0e25\\u0e30\", \"\\u0e40\\u0e2a\\u0e35\\u0e22\\u0e2a\\u0e25\\u0e30\", \"\\u0e40\\u0e2a\\u0e35\\u0e22\\u0e2b\\u0e32\\u0e22\", \"\\u0e40\\u0e2a\\u0e37\\u0e49\\u0e2d\\u0e22\\u0e37\\u0e14\", \"\\u0e40\\u0e2b\\u0e21\\u0e37\\u0e2d\\u0e19\", \"\\u0e40\\u0e2b\\u0e21\\u0e37\\u0e2d\\u0e19\", \"\\u0e40\\u0e2b\\u0e21\\u0e37\\u0e2d\\u0e19\", \"\\u0e40\\u0e2b\\u0e21\\u0e37\\u0e2d\\u0e19\", \"\\u0e40\\u0e2b\\u0e21\\u0e37\\u0e2d\\u0e19\", \"\\u0e40\\u0e2b\\u0e21\\u0e37\\u0e2d\\u0e19\", \"\\u0e40\\u0e2b\\u0e21\\u0e37\\u0e2d\\u0e19\", \"\\u0e40\\u0e2b\\u0e21\\u0e37\\u0e2d\\u0e19\", \"\\u0e40\\u0e2b\\u0e21\\u0e37\\u0e2d\\u0e19\", \"\\u0e40\\u0e2b\\u0e21\\u0e37\\u0e2d\\u0e19\\u0e01\\u0e31\\u0e19\", \"\\u0e40\\u0e2b\\u0e21\\u0e37\\u0e2d\\u0e19\\u0e01\\u0e31\\u0e19\", \"\\u0e40\\u0e2b\\u0e21\\u0e37\\u0e2d\\u0e19\\u0e01\\u0e31\\u0e19\", \"\\u0e40\\u0e2b\\u0e21\\u0e37\\u0e2d\\u0e19\\u0e01\\u0e31\\u0e19\", \"\\u0e40\\u0e2b\\u0e21\\u0e37\\u0e2d\\u0e19\\u0e01\\u0e31\\u0e19\", \"\\u0e40\\u0e2b\\u0e21\\u0e37\\u0e2d\\u0e19\\u0e01\\u0e31\\u0e19\", \"\\u0e40\\u0e2b\\u0e21\\u0e37\\u0e2d\\u0e19\\u0e01\\u0e31\\u0e19\", \"\\u0e40\\u0e2b\\u0e21\\u0e37\\u0e2d\\u0e19\\u0e01\\u0e31\\u0e19\", \"\\u0e40\\u0e2b\\u0e21\\u0e37\\u0e2d\\u0e19\\u0e01\\u0e31\\u0e19\", \"\\u0e40\\u0e2b\\u0e21\\u0e47\\u0e19\\u0e04\\u0e32\\u0e27\", \"\\u0e40\\u0e2b\\u0e25\\u0e37\\u0e2d\\u0e2d\\u0e22\\u0e39\\u0e48\", \"\\u0e40\\u0e2b\\u0e25\\u0e49\\u0e32\", \"\\u0e40\\u0e2b\\u0e25\\u0e49\\u0e32\", \"\\u0e40\\u0e2b\\u0e25\\u0e49\\u0e32\", \"\\u0e40\\u0e2b\\u0e25\\u0e49\\u0e32\", \"\\u0e40\\u0e2b\\u0e25\\u0e49\\u0e32\", \"\\u0e40\\u0e2b\\u0e25\\u0e49\\u0e32\", \"\\u0e40\\u0e2b\\u0e25\\u0e49\\u0e32\", \"\\u0e40\\u0e2d\\u0e19\\u0e1f\\u0e32\\u0e42\\u0e01\\u0e23\", \"\\u0e40\\u0e2d\\u0e21\", \"\\u0e40\\u0e2d\\u0e21\", \"\\u0e40\\u0e2d\\u0e32\\u0e43\\u0e08\\u0e0a\\u0e48\\u0e27\\u0e22\", \"\\u0e40\\u0e2d\\u0e32\\u0e43\\u0e08\\u0e0a\\u0e48\\u0e27\\u0e22\", \"\\u0e40\\u0e2d\\u0e32\\u0e43\\u0e08\\u0e0a\\u0e48\\u0e27\\u0e22\", \"\\u0e40\\u0e2d\\u0e32\\u0e43\\u0e08\\u0e0a\\u0e48\\u0e27\\u0e22\", \"\\u0e40\\u0e2d\\u0e32\\u0e44\\u0e21\\u0e48\\u0e2d\\u0e22\\u0e39\\u0e48\", \"\\u0e41\\u0e01\\u0e25\\u0e49\\u0e21\", \"\\u0e41\\u0e01\\u0e49\\u0e04\\u0e33\\u0e1c\\u0e34\\u0e14\", \"\\u0e41\\u0e01\\u0e49\\u0e27\", \"\\u0e41\\u0e01\\u0e49\\u0e27\", \"\\u0e41\\u0e01\\u0e49\\u0e27\", \"\\u0e41\\u0e01\\u0e49\\u0e27\", \"\\u0e41\\u0e01\\u0e49\\u0e27\", \"\\u0e41\\u0e01\\u0e49\\u0e27\", \"\\u0e41\\u0e01\\u0e49\\u0e27\", \"\\u0e41\\u0e01\\u0e49\\u0e27\", \"\\u0e41\\u0e01\\u0e49\\u0e27\", \"\\u0e41\\u0e02\\u0e47\\u0e07\\u0e41\\u0e23\\u0e07\", \"\\u0e41\\u0e02\\u0e47\\u0e07\\u0e41\\u0e23\\u0e07\", \"\\u0e41\\u0e02\\u0e47\\u0e07\\u0e41\\u0e23\\u0e07\", \"\\u0e41\\u0e02\\u0e47\\u0e07\\u0e41\\u0e23\\u0e07\", \"\\u0e41\\u0e02\\u0e47\\u0e07\\u0e41\\u0e23\\u0e07\", \"\\u0e41\\u0e02\\u0e47\\u0e07\\u0e41\\u0e23\\u0e07\", \"\\u0e41\\u0e02\\u0e47\\u0e07\\u0e41\\u0e23\\u0e07\", \"\\u0e41\\u0e02\\u0e47\\u0e07\\u0e41\\u0e23\\u0e07\", \"\\u0e41\\u0e02\\u0e47\\u0e07\\u0e41\\u0e23\\u0e07\", \"\\u0e41\\u0e04\\u0e25\\u0e40\\u0e0b\\u0e35\\u0e22\\u0e21\", \"\\u0e41\\u0e04\\u0e25\\u0e40\\u0e0b\\u0e35\\u0e22\\u0e21\", \"\\u0e41\\u0e04\\u0e25\\u0e40\\u0e0b\\u0e35\\u0e22\\u0e21\", \"\\u0e41\\u0e04\\u0e25\\u0e40\\u0e0b\\u0e35\\u0e22\\u0e21\", \"\\u0e41\\u0e04\\u0e25\\u0e40\\u0e0b\\u0e35\\u0e22\\u0e21\", \"\\u0e41\\u0e04\\u0e25\\u0e40\\u0e0b\\u0e35\\u0e22\\u0e21\", \"\\u0e41\\u0e04\\u0e25\\u0e40\\u0e0b\\u0e35\\u0e22\\u0e21\", \"\\u0e41\\u0e04\\u0e25\\u0e40\\u0e0b\\u0e35\\u0e22\\u0e21\", \"\\u0e41\\u0e04\\u0e25\\u0e40\\u0e0b\\u0e35\\u0e22\\u0e21\", \"\\u0e41\\u0e07\", \"\\u0e41\\u0e07\", \"\\u0e41\\u0e07\", \"\\u0e41\\u0e08\\u0e49\\u0e07\", \"\\u0e41\\u0e08\\u0e49\\u0e07\", \"\\u0e41\\u0e08\\u0e49\\u0e07\", \"\\u0e41\\u0e08\\u0e49\\u0e07\", \"\\u0e41\\u0e08\\u0e49\\u0e07\", \"\\u0e41\\u0e08\\u0e49\\u0e07\", \"\\u0e41\\u0e08\\u0e49\\u0e07\", \"\\u0e41\\u0e08\\u0e49\\u0e07\", \"\\u0e41\\u0e08\\u0e49\\u0e07\", \"\\u0e41\\u0e0a\", \"\\u0e41\\u0e0b\\u0e27\", \"\\u0e41\\u0e0b\\u0e27\", \"\\u0e41\\u0e0b\\u0e27\", \"\\u0e41\\u0e0b\\u0e27\", \"\\u0e41\\u0e0b\\u0e27\", \"\\u0e41\\u0e0b\\u0e27\", \"\\u0e41\\u0e0b\\u0e27\", \"\\u0e41\\u0e14\\u0e23\\u0e35\\u0e48\\u0e42\\u0e2e\\u0e21\", \"\\u0e41\\u0e14\\u0e23\\u0e35\\u0e48\\u0e42\\u0e2e\\u0e21\", \"\\u0e41\\u0e14\\u0e23\\u0e35\\u0e48\\u0e42\\u0e2e\\u0e21\", \"\\u0e41\\u0e14\\u0e23\\u0e35\\u0e48\\u0e42\\u0e2e\\u0e21\", \"\\u0e41\\u0e16\\u0e27\", \"\\u0e41\\u0e16\\u0e27\", \"\\u0e41\\u0e16\\u0e27\", \"\\u0e41\\u0e16\\u0e27\", \"\\u0e41\\u0e16\\u0e27\", \"\\u0e41\\u0e16\\u0e27\", \"\\u0e41\\u0e16\\u0e27\", \"\\u0e41\\u0e16\\u0e27\", \"\\u0e41\\u0e16\\u0e27\", \"\\u0e41\\u0e17\\u0e23\\u0e01\\u0e15\\u0e31\\u0e27\", \"\\u0e41\\u0e1a\\u0e1a\\u0e19\\u0e35\\u0e49\", \"\\u0e41\\u0e1a\\u0e1a\\u0e19\\u0e35\\u0e49\", \"\\u0e41\\u0e1a\\u0e1a\\u0e19\\u0e35\\u0e49\", \"\\u0e41\\u0e1a\\u0e1a\\u0e19\\u0e35\\u0e49\", \"\\u0e41\\u0e1a\\u0e1a\\u0e19\\u0e35\\u0e49\", \"\\u0e41\\u0e1a\\u0e1a\\u0e19\\u0e35\\u0e49\", \"\\u0e41\\u0e1a\\u0e1a\\u0e19\\u0e35\\u0e49\", \"\\u0e41\\u0e1a\\u0e1a\\u0e19\\u0e35\\u0e49\", \"\\u0e41\\u0e1a\\u0e1a\\u0e19\\u0e35\\u0e49\", \"\\u0e41\\u0e1b\\u0e49\\u0e07\", \"\\u0e41\\u0e1b\\u0e49\\u0e07\", \"\\u0e41\\u0e1b\\u0e49\\u0e07\", \"\\u0e41\\u0e1b\\u0e49\\u0e07\", \"\\u0e41\\u0e1b\\u0e49\\u0e07\", \"\\u0e41\\u0e1b\\u0e49\\u0e07\", \"\\u0e41\\u0e1b\\u0e49\\u0e07\", \"\\u0e41\\u0e1b\\u0e49\\u0e07\", \"\\u0e41\\u0e1b\\u0e49\\u0e07\", \"\\u0e41\\u0e1c\\u0e25\", \"\\u0e41\\u0e1e\\u0e17\", \"\\u0e41\\u0e1e\\u0e47\\u0e04\", \"\\u0e41\\u0e1e\\u0e47\\u0e04\", \"\\u0e41\\u0e1e\\u0e47\\u0e04\", \"\\u0e41\\u0e1e\\u0e47\\u0e04\", \"\\u0e41\\u0e1e\\u0e47\\u0e04\", \"\\u0e41\\u0e1e\\u0e47\\u0e04\", \"\\u0e41\\u0e1e\\u0e47\\u0e04\", \"\\u0e41\\u0e1e\\u0e47\\u0e04\", \"\\u0e41\\u0e1e\\u0e47\\u0e04\", \"\\u0e41\\u0e21\\u0e48\", \"\\u0e41\\u0e21\\u0e48\", \"\\u0e41\\u0e21\\u0e48\", \"\\u0e41\\u0e21\\u0e48\", \"\\u0e41\\u0e21\\u0e48\", \"\\u0e41\\u0e21\\u0e48\", \"\\u0e41\\u0e21\\u0e48\", \"\\u0e41\\u0e21\\u0e48\", \"\\u0e41\\u0e21\\u0e48\", \"\\u0e41\\u0e21\\u0e48\\u0e19\", \"\\u0e41\\u0e23\\u0e48\", \"\\u0e41\\u0e23\\u0e48\", \"\\u0e41\\u0e25\\u0e49\\u0e27\", \"\\u0e41\\u0e25\\u0e49\\u0e27\", \"\\u0e41\\u0e25\\u0e49\\u0e27\", \"\\u0e41\\u0e25\\u0e49\\u0e27\", \"\\u0e41\\u0e25\\u0e49\\u0e27\", \"\\u0e41\\u0e25\\u0e49\\u0e27\", \"\\u0e41\\u0e25\\u0e49\\u0e27\", \"\\u0e41\\u0e25\\u0e49\\u0e27\", \"\\u0e41\\u0e2a\\u0e14\\u0e07\\u0e16\\u0e36\\u0e07\", \"\\u0e41\\u0e2a\\u0e15\\u0e21\\u0e1b\\u0e4c\", \"\\u0e41\\u0e2a\\u0e15\\u0e21\\u0e1b\\u0e4c\", \"\\u0e41\\u0e2a\\u0e15\\u0e21\\u0e1b\\u0e4c\", \"\\u0e41\\u0e2a\\u0e15\\u0e21\\u0e1b\\u0e4c\", \"\\u0e42\\u0e01\\u0e25\\u0e14\\u0e4c\", \"\\u0e42\\u0e01\\u0e25\\u0e14\\u0e4c\", \"\\u0e42\\u0e01\\u0e25\\u0e14\\u0e4c\", \"\\u0e42\\u0e01\\u0e25\\u0e14\\u0e4c\", \"\\u0e42\\u0e01\\u0e25\\u0e14\\u0e4c\", \"\\u0e42\\u0e04\", \"\\u0e42\\u0e04\", \"\\u0e42\\u0e04\", \"\\u0e42\\u0e04\", \"\\u0e42\\u0e04\", \"\\u0e42\\u0e04\", \"\\u0e42\\u0e04\", \"\\u0e42\\u0e04\", \"\\u0e42\\u0e04\", \"\\u0e42\\u0e0a\\u0e04\\u0e0a\\u0e31\\u0e22\", \"\\u0e42\\u0e0a\\u0e04\\u0e0a\\u0e31\\u0e22\", \"\\u0e42\\u0e0a\\u0e04\\u0e0a\\u0e31\\u0e22\", \"\\u0e42\\u0e0a\\u0e04\\u0e0a\\u0e31\\u0e22\", \"\\u0e42\\u0e0a\\u0e04\\u0e0a\\u0e31\\u0e22\", \"\\u0e42\\u0e0a\\u0e04\\u0e0a\\u0e31\\u0e22\", \"\\u0e42\\u0e0a\\u0e04\\u0e0a\\u0e31\\u0e22\", \"\\u0e42\\u0e0a\\u0e04\\u0e0a\\u0e31\\u0e22\", \"\\u0e42\\u0e0a\\u0e2b\\u0e48\\u0e27\\u0e22\", \"\\u0e42\\u0e0b\\u0e1f\\u0e32\", \"\\u0e42\\u0e14\\u0e4a\\u0e1b\", \"\\u0e42\\u0e17\\u0e19\", \"\\u0e42\\u0e1b\\u0e23\\u0e15\\u0e35\\u0e19\", \"\\u0e42\\u0e1b\\u0e23\\u0e15\\u0e35\\u0e19\", \"\\u0e42\\u0e1b\\u0e23\\u0e15\\u0e35\\u0e19\", \"\\u0e42\\u0e1b\\u0e23\\u0e15\\u0e35\\u0e19\", \"\\u0e42\\u0e1b\\u0e23\\u0e15\\u0e35\\u0e19\", \"\\u0e42\\u0e1b\\u0e23\\u0e15\\u0e35\\u0e19\", \"\\u0e42\\u0e1b\\u0e23\\u0e15\\u0e35\\u0e19\", \"\\u0e42\\u0e1b\\u0e23\\u0e15\\u0e35\\u0e19\", \"\\u0e42\\u0e1b\\u0e23\\u0e15\\u0e35\\u0e19\", \"\\u0e42\\u0e1b\\u0e23\\u0e44\\u0e1f\\u0e25\\u0e4c\", \"\\u0e42\\u0e1f\\u0e23\\u0e4c\\u0e42\\u0e21\\u0e2a\\u0e15\\u0e4c\", \"\\u0e42\\u0e1f\\u0e23\\u0e4c\\u0e42\\u0e21\\u0e2a\\u0e15\\u0e4c\", \"\\u0e42\\u0e1f\\u0e23\\u0e4c\\u0e42\\u0e21\\u0e2a\\u0e15\\u0e4c\", \"\\u0e42\\u0e1f\\u0e23\\u0e4c\\u0e42\\u0e21\\u0e2a\\u0e15\\u0e4c\", \"\\u0e42\\u0e1f\\u0e23\\u0e4c\\u0e42\\u0e21\\u0e2a\\u0e15\\u0e4c\", \"\\u0e42\\u0e1f\\u0e23\\u0e4c\\u0e42\\u0e21\\u0e2a\\u0e15\\u0e4c\", \"\\u0e42\\u0e1f\\u0e23\\u0e4c\\u0e42\\u0e21\\u0e2a\\u0e15\\u0e4c\", \"\\u0e42\\u0e1f\\u0e23\\u0e4c\\u0e42\\u0e21\\u0e2a\\u0e15\\u0e4c\", \"\\u0e42\\u0e1f\\u0e23\\u0e4c\\u0e42\\u0e21\\u0e2a\\u0e15\\u0e4c\", \"\\u0e42\\u0e22\\u0e40\\u0e01\\u0e34\\u0e23\\u0e4c\\u0e15\", \"\\u0e42\\u0e22\\u0e40\\u0e01\\u0e34\\u0e23\\u0e4c\\u0e15\", \"\\u0e42\\u0e22\\u0e40\\u0e01\\u0e34\\u0e23\\u0e4c\\u0e15\", \"\\u0e42\\u0e22\\u0e40\\u0e01\\u0e34\\u0e23\\u0e4c\\u0e15\", \"\\u0e42\\u0e22\\u0e40\\u0e01\\u0e34\\u0e23\\u0e4c\\u0e15\", \"\\u0e42\\u0e22\\u0e40\\u0e01\\u0e34\\u0e23\\u0e4c\\u0e15\", \"\\u0e42\\u0e22\\u0e40\\u0e01\\u0e34\\u0e23\\u0e4c\\u0e15\", \"\\u0e42\\u0e22\\u0e40\\u0e01\\u0e34\\u0e23\\u0e4c\\u0e15\", \"\\u0e42\\u0e22\\u0e40\\u0e01\\u0e34\\u0e23\\u0e4c\\u0e15\", \"\\u0e42\\u0e23\\u0e04\\u0e08\\u0e34\\u0e15\", \"\\u0e42\\u0e2b\\u0e27\\u0e15\", \"\\u0e42\\u0e2b\\u0e27\\u0e15\", \"\\u0e42\\u0e2b\\u0e27\\u0e15\", \"\\u0e42\\u0e2b\\u0e27\\u0e15\", \"\\u0e42\\u0e2b\\u0e27\\u0e15\", \"\\u0e42\\u0e2d\\u0e22\", \"\\u0e43\\u0e08\\u0e23\\u0e49\\u0e2d\\u0e19\", \"\\u0e43\\u0e08\\u0e2b\\u0e32\\u0e22\", \"\\u0e43\\u0e08\\u0e40\\u0e22\\u0e47\\u0e19\", \"\\u0e43\\u0e2a\\u0e48\", \"\\u0e43\\u0e2a\\u0e48\", \"\\u0e43\\u0e2a\\u0e48\", \"\\u0e43\\u0e2a\\u0e48\", \"\\u0e43\\u0e2a\\u0e48\", \"\\u0e43\\u0e2a\\u0e48\", \"\\u0e43\\u0e2a\\u0e48\", \"\\u0e43\\u0e2a\\u0e48\", \"\\u0e43\\u0e2a\\u0e48\", \"\\u0e43\\u0e2b\\u0e21\", \"\\u0e44\\u0e14\\u0e49\", \"\\u0e44\\u0e14\\u0e49\", \"\\u0e44\\u0e14\\u0e49\", \"\\u0e44\\u0e14\\u0e49\", \"\\u0e44\\u0e14\\u0e49\", \"\\u0e44\\u0e14\\u0e49\", \"\\u0e44\\u0e14\\u0e49\", \"\\u0e44\\u0e14\\u0e49\", \"\\u0e44\\u0e14\\u0e49\", \"\\u0e44\\u0e17\\u0e22\", \"\\u0e44\\u0e17\\u0e22\", \"\\u0e44\\u0e17\\u0e22\", \"\\u0e44\\u0e17\\u0e22\", \"\\u0e44\\u0e17\\u0e22\", \"\\u0e44\\u0e17\\u0e22\", \"\\u0e44\\u0e17\\u0e22\", \"\\u0e44\\u0e17\\u0e22\", \"\\u0e44\\u0e17\\u0e22\", \"\\u0e44\\u0e17\\u0e22\\u0e40\\u0e14\\u0e19\\u0e21\\u0e32\\u0e23\\u0e4c\\u0e04\", \"\\u0e44\\u0e17\\u0e22\\u0e40\\u0e14\\u0e19\\u0e21\\u0e32\\u0e23\\u0e4c\\u0e04\", \"\\u0e44\\u0e17\\u0e22\\u0e40\\u0e14\\u0e19\\u0e21\\u0e32\\u0e23\\u0e4c\\u0e04\", \"\\u0e44\\u0e17\\u0e22\\u0e40\\u0e14\\u0e19\\u0e21\\u0e32\\u0e23\\u0e4c\\u0e04\", \"\\u0e44\\u0e17\\u0e22\\u0e40\\u0e14\\u0e19\\u0e21\\u0e32\\u0e23\\u0e4c\\u0e04\", \"\\u0e44\\u0e17\\u0e22\\u0e40\\u0e14\\u0e19\\u0e21\\u0e32\\u0e23\\u0e4c\\u0e04\", \"\\u0e44\\u0e17\\u0e22\\u0e40\\u0e14\\u0e19\\u0e21\\u0e32\\u0e23\\u0e4c\\u0e04\", \"\\u0e44\\u0e17\\u0e22\\u0e40\\u0e14\\u0e19\\u0e21\\u0e32\\u0e23\\u0e4c\\u0e04\", \"\\u0e44\\u0e17\\u0e22\\u0e40\\u0e14\\u0e19\\u0e21\\u0e32\\u0e23\\u0e4c\\u0e04\", \"\\u0e44\\u0e19\", \"\\u0e44\\u0e19\", \"\\u0e44\\u0e21\\u0e48\", \"\\u0e44\\u0e21\\u0e48\", \"\\u0e44\\u0e21\\u0e48\", \"\\u0e44\\u0e21\\u0e48\", \"\\u0e44\\u0e21\\u0e48\", \"\\u0e44\\u0e21\\u0e48\", \"\\u0e44\\u0e21\\u0e48\", \"\\u0e44\\u0e21\\u0e48\", \"\\u0e44\\u0e21\\u0e48\", \"\\u0e44\\u0e21\\u0e48\\u0e44\\u0e14\\u0e49\", \"\\u0e44\\u0e21\\u0e48\\u0e44\\u0e14\\u0e49\", \"\\u0e44\\u0e21\\u0e48\\u0e44\\u0e14\\u0e49\", \"\\u0e44\\u0e21\\u0e48\\u0e44\\u0e14\\u0e49\", \"\\u0e44\\u0e21\\u0e48\\u0e44\\u0e14\\u0e49\", \"\\u0e44\\u0e21\\u0e48\\u0e44\\u0e14\\u0e49\", \"\\u0e44\\u0e21\\u0e48\\u0e44\\u0e14\\u0e49\", \"\\u0e44\\u0e21\\u0e48\\u0e44\\u0e14\\u0e49\", \"\\u0e44\\u0e21\\u0e48\\u0e44\\u0e14\\u0e49\", \"\\u0e44\\u0e27\\u0e17\\u0e4c\", \"\\u0e44\\u0e27\\u0e17\\u0e4c\", \"\\u0e44\\u0e27\\u0e17\\u0e4c\", \"\\u0e44\\u0e27\\u0e17\\u0e4c\", \"\\u0e44\\u0e27\\u0e17\\u0e4c\", \"\\u0e44\\u0e27\\u0e19\\u0e4c\", \"\\u0e44\\u0e27\\u0e49\\u0e2b\\u0e19\\u0e49\\u0e32\", \"\\u0e44\\u0e2b\\u0e21\", \"\\u0e44\\u0e2b\\u0e21\", \"\\u0e44\\u0e2b\\u0e21\", \"\\u0e44\\u0e2b\\u0e21\", \"\\u0e44\\u0e2b\\u0e21\", \"\\u0e44\\u0e2b\\u0e21\", \"\\u0e44\\u0e2b\\u0e21\", \"\\u0e44\\u0e2b\\u0e21\", \"\\u0e44\\u0e2b\\u0e21\", \"\\u0e44\\u0e2d\\u0e15\\u0e34\\u0e21\", \"\\u0e44\\u0e2d\\u0e15\\u0e34\\u0e21\", \"\\u0e44\\u0e2d\\u0e15\\u0e34\\u0e21\", \"\\u0e44\\u0e2d\\u0e15\\u0e34\\u0e21\", \"\\u0e44\\u0e2d\\u0e15\\u0e34\\u0e21\", \"\\u0e44\\u0e2d\\u0e15\\u0e34\\u0e21\", \"\\u0e44\\u0e2d\\u0e15\\u0e34\\u0e21\", \"\\u0e44\\u0e2d\\u0e15\\u0e34\\u0e21\", \"\\u0e44\\u0e2d\\u0e15\\u0e34\\u0e21\", \"\\u0e44\\u0e2d\\u0e42\\u0e2d\\u0e14\\u0e35\\u0e19\"]}, \"R\": 30, \"lambda.step\": 0.1, \"plot.opts\": {\"xlab\": \"PC1\", \"ylab\": \"PC2\"}, \"topic.order\": [9, 8, 4, 6, 7, 1, 5, 2, 3]};\n",
       "\n",
       "function LDAvis_load_lib(url, callback){\n",
       "  var s = document.createElement('script');\n",
       "  s.src = url;\n",
       "  s.async = true;\n",
       "  s.onreadystatechange = s.onload = callback;\n",
       "  s.onerror = function(){console.warn(\"failed to load library \" + url);};\n",
       "  document.getElementsByTagName(\"head\")[0].appendChild(s);\n",
       "}\n",
       "\n",
       "if(typeof(LDAvis) !== \"undefined\"){\n",
       "   // already loaded: just create the visualization\n",
       "   !function(LDAvis){\n",
       "       new LDAvis(\"#\" + \"ldavis_el1502419932626454408000279317\", ldavis_el1502419932626454408000279317_data);\n",
       "   }(LDAvis);\n",
       "}else if(typeof define === \"function\" && define.amd){\n",
       "   // require.js is available: use it to load d3/LDAvis\n",
       "   require.config({paths: {d3: \"https://cdnjs.cloudflare.com/ajax/libs/d3/3.5.5/d3.min\"}});\n",
       "   require([\"d3\"], function(d3){\n",
       "      window.d3 = d3;\n",
       "      LDAvis_load_lib(\"https://cdn.rawgit.com/bmabey/pyLDAvis/files/ldavis.v1.0.0.js\", function(){\n",
       "        new LDAvis(\"#\" + \"ldavis_el1502419932626454408000279317\", ldavis_el1502419932626454408000279317_data);\n",
       "      });\n",
       "    });\n",
       "}else{\n",
       "    // require.js not available: dynamically load d3 & LDAvis\n",
       "    LDAvis_load_lib(\"https://cdnjs.cloudflare.com/ajax/libs/d3/3.5.5/d3.min.js\", function(){\n",
       "         LDAvis_load_lib(\"https://cdn.rawgit.com/bmabey/pyLDAvis/files/ldavis.v1.0.0.js\", function(){\n",
       "                 new LDAvis(\"#\" + \"ldavis_el1502419932626454408000279317\", ldavis_el1502419932626454408000279317_data);\n",
       "            })\n",
       "         });\n",
       "}\n",
       "</script>"
      ],
      "text/plain": [
       "PreparedData(topic_coordinates=              x         y  topics  cluster       Freq\n",
       "topic                                                \n",
       "8      0.016885 -0.019403       1        1  23.295406\n",
       "7      0.033363 -0.004686       2        1  19.861559\n",
       "3     -0.043662  0.004484       3        1  10.804794\n",
       "5      0.089453  0.042066       4        1  10.484950\n",
       "6      0.002705 -0.024009       5        1   9.678107\n",
       "0     -0.042280 -0.038494       6        1   8.971591\n",
       "4      0.031515 -0.000527       7        1   8.710817\n",
       "1     -0.017193 -0.032793       8        1   4.424908\n",
       "2     -0.070786  0.073361       9        1   3.767865, topic_info=     Category         Freq       Term        Total  loglift  logprob\n",
       "23    Default  5903.000000             5903.000000  30.0000  30.0000\n",
       "895   Default  2041.000000        ลูก  2041.000000  29.0000  29.0000\n",
       "57    Default  1522.000000        ชอบ  1522.000000  28.0000  28.0000\n",
       "441   Default  1861.000000        แม่  1861.000000  27.0000  27.0000\n",
       "125   Default  2492.000000         ผม  2492.000000  26.0000  26.0000\n",
       "6     Default  2849.000000         นม  2849.000000  25.0000  25.0000\n",
       "21    Default  4148.000000        ได้  4148.000000  24.0000  24.0000\n",
       "84    Default  1011.000000     ขอบคุณ  1011.000000  23.0000  23.0000\n",
       "26    Default  3896.000000        กิน  3896.000000  22.0000  22.0000\n",
       "24    Default   987.000000          .   987.000000  21.0000  21.0000\n",
       "304   Default  1103.000000        ใส่  1103.000000  20.0000  20.0000\n",
       "230   Default   849.000000        ทาน   849.000000  19.0000  19.0000\n",
       "173   Default  1090.000000      อร่อย  1090.000000  18.0000  18.0000\n",
       "4406  Default   238.000000      คูปอง   238.000000  17.0000  17.0000\n",
       "162   Default  1139.000000         ดู  1139.000000  16.0000  16.0000\n",
       "231   Default   965.000000        ลอง   965.000000  15.0000  15.0000\n",
       "11    Default   869.000000         รส   869.000000  14.0000  14.0000\n",
       "37    Default  7571.000000        ไม่  7571.000000  13.0000  13.0000\n",
       "81    Default  1249.000000     ไม่ได้  1249.000000  12.0000  12.0000\n",
       "35    Default   662.000000  เหมือนกัน   662.000000  11.0000  11.0000\n",
       "18    Default   544.000000       เมจิ   544.000000  10.0000  10.0000\n",
       "4412  Default   138.000000     ส่วนลด   138.000000   9.0000   9.0000\n",
       "30    Default  1813.000000       ซื้อ  1813.000000   8.0000   8.0000\n",
       "33    Default  1419.000000         ทำ  1419.000000   7.0000   7.0000\n",
       "169   Default   971.000000        รู้   971.000000   6.0000   6.0000\n",
       "43    Default   441.000000       ดื่ม   441.000000   5.0000   5.0000\n",
       "252   Default   604.000000      กล่อง   604.000000   4.0000   4.0000\n",
       "652   Default   838.000000       บ้าน   838.000000   3.0000   3.0000\n",
       "4208  Default   199.000000      ดิฉัน   199.000000   2.0000   2.0000\n",
       "6064  Default   109.000000       คลอด   109.000000   1.0000   1.0000\n",
       "...       ...          ...        ...          ...      ...      ...\n",
       "5232   Topic9    24.042166       แพ็ค   110.308586   1.7552  -5.9379\n",
       "7138   Topic9     9.284791     เชียร์    22.662544   2.3863  -6.8893\n",
       "35     Topic9    68.357162  เหมือนกัน   662.822144   1.0069  -4.8930\n",
       "173    Topic9    83.330482      อร่อย  1090.425049   0.7072  -4.6949\n",
       "11     Topic9    67.166061         รส   869.605408   0.7178  -4.9105\n",
       "18     Topic9    51.312771       เมจิ   544.139709   0.9174  -5.1798\n",
       "3636   Topic9    25.696672      ฟาร์ม   143.808151   1.5565  -5.8713\n",
       "26     Topic9   130.093872        กิน  3896.653320  -0.1210  -4.2494\n",
       "37     Topic9   142.632812        ไม่  7571.021484  -0.6931  -4.1574\n",
       "652    Topic9    53.196308       บ้าน   838.648438   0.5209  -5.1437\n",
       "373    Topic9    36.518345     รู้สึก   424.291138   0.8261  -5.5199\n",
       "290    Topic9    25.342127        แถว   179.138809   1.3230  -5.8852\n",
       "4481   Topic9    21.249331      lotus   124.661156   1.5094  -6.0614\n",
       "5      Topic9    62.962757         คน  1895.767456  -0.1262  -4.9752\n",
       "651    Topic9    23.675583        ถุง   210.320450   1.0945  -5.9533\n",
       "21     Topic9    65.211433        ได้  4148.812500  -0.8743  -4.9401\n",
       "81     Topic9    42.513611     ไม่ได้  1249.142334  -0.1017  -5.3679\n",
       "43     Topic9    30.019987       ดื่ม   441.411194   0.5905  -5.7158\n",
       "127    Topic9    30.058895       หวาน   457.776947   0.5554  -5.7145\n",
       "386    Topic9    26.689564       แก้ว   310.508118   0.8247  -5.8334\n",
       "6      Topic9    48.309860         นม  2849.082764  -0.7985  -5.2401\n",
       "30     Topic9    38.647991       ซื้อ  1813.974365  -0.5701  -5.4632\n",
       "105    Topic9    34.494987         ดี  1598.828979  -0.5576  -5.5769\n",
       "251    Topic9    24.075026       กรัม   283.129333   0.8139  -5.9365\n",
       "242    Topic9    27.409546      อาหาร   638.967468   0.1297  -5.8068\n",
       "69     Topic9    28.335592       เวลา  1076.688843  -0.3589  -5.7736\n",
       "125    Topic9    30.198540         ผม  2492.358887  -1.1345  -5.7099\n",
       "66     Topic9    27.214464       เค้า  1027.558838  -0.3525  -5.8140\n",
       "510    Topic9    26.316368        ...   636.091309   0.0935  -5.8475\n",
       "3      Topic9    25.817226        ขาย   524.004456   0.2682  -5.8667\n",
       "\n",
       "[742 rows x 6 columns], token_table=       Topic      Freq     Term\n",
       "term                           \n",
       "23         1  0.138728         \n",
       "23         2  0.275593         \n",
       "23         3  0.285587         \n",
       "23         4  0.040992         \n",
       "23         5  0.073683         \n",
       "23         6  0.082322         \n",
       "23         7  0.016769         \n",
       "23         8  0.024053         \n",
       "23         9  0.061996         \n",
       "353        3  0.237391       ''\n",
       "353        9  0.712174       ''\n",
       "4760       1  0.128793       --\n",
       "4760       2  0.193189       --\n",
       "4760       3  0.042931       --\n",
       "4760       4  0.021465       --\n",
       "4760       5  0.107327       --\n",
       "4760       6  0.064396       --\n",
       "4760       7  0.042931       --\n",
       "4760       8  0.021465       --\n",
       "4760       9  0.386378       --\n",
       "24         1  0.793201        .\n",
       "24         2  0.101303        .\n",
       "24         3  0.008104        .\n",
       "24         4  0.027352        .\n",
       "24         5  0.003039        .\n",
       "24         6  0.047612        .\n",
       "24         7  0.010130        .\n",
       "24         8  0.006078        .\n",
       "24         9  0.003039        .\n",
       "1259       1  0.162287       ..\n",
       "...      ...       ...      ...\n",
       "81         6  0.119282   ไม่ได้\n",
       "81         7  0.187329   ไม่ได้\n",
       "81         8  0.033623   ไม่ได้\n",
       "81         9  0.034424   ไม่ได้\n",
       "9720       1  0.085163     ไวท์\n",
       "9720       2  0.021291     ไวท์\n",
       "9720       3  0.723887     ไวท์\n",
       "9720       5  0.042582     ไวท์\n",
       "9720       7  0.127745     ไวท์\n",
       "7358       2  0.922876     ไวน์\n",
       "12174      2  0.794553  ไว้หน้า\n",
       "96         1  0.179629      ไหม\n",
       "96         2  0.157520      ไหม\n",
       "96         3  0.143703      ไหม\n",
       "96         4  0.284642      ไหม\n",
       "96         5  0.049743      ไหม\n",
       "96         6  0.066324      ไหม\n",
       "96         7  0.041453      ไหม\n",
       "96         8  0.060797      ไหม\n",
       "96         9  0.013818      ไหม\n",
       "5390       1  0.261304    ไอติม\n",
       "5390       2  0.152427    ไอติม\n",
       "5390       3  0.097989    ไอติม\n",
       "5390       4  0.021775    ไอติม\n",
       "5390       5  0.108877    ไอติม\n",
       "5390       6  0.043551    ไอติม\n",
       "5390       7  0.010888    ไอติม\n",
       "5390       8  0.217753    ไอติม\n",
       "5390       9  0.065326    ไอติม\n",
       "11992      3  0.922453  ไอโอดีน\n",
       "\n",
       "[2016 rows x 3 columns], R=30, lambda_step=0.1, plot_opts={'xlab': 'PC1', 'ylab': 'PC2'}, topic_order=[9, 8, 4, 6, 7, 1, 5, 2, 3])"
      ]
     },
     "execution_count": 77,
     "metadata": {},
     "output_type": "execute_result"
    }
   ],
   "source": [
    "pyLDAvis.gensim.prepare(model, gensim_corpus, dictionary, lambda_step=0.1)"
   ]
  },
  {
   "cell_type": "markdown",
   "metadata": {},
   "source": [
    "<b>Domain ที่พบหลักๆ นอกเหนือจากตัว Product ห้างที่ขาย แบรนด์ (อย่างไรก็ตามต้องทำ TSNE อีกรอบเพื่อจัดกลุ่มใหม่หลังคัดเลือก Topic/Term)</b><br>\n",
    "ค้นหาเทียบเคียงกับ ปัจจัยที่มีผลต่อการบริโภคนม\n",
    "1. แม่และเด็ก (Kurajdova et al, 2015)\n",
    "2. ออกกำลังกาย เล่นเวท วิ่ง พูดถึง Whey หางนม โปรตีน เป็นหลัก (คิดว่าแตกจากหมวดสุขภาพ)\n",
    "3. โปรโมชั่น เช่น จัดโปร ส่วนลด พันแถม แพ๊กคู่ (สุภชาติ ชัยณรงค์สิงห์, 2539)\n",
    "4. เอานมให้หมาแมวกิน (เทรนด์ใหม่)\n",
    "5. รสชาติและคุณภาพ เช่น หอม เหม็น มัน อร่อย บูด เสีย GMP (ชาลิสา สถีระกานนท์, 2560)\n",
    "6. ความยากง่ายในการหาซื้อ (Aen De Alwis et al, 2009 & สุภชาติ ชัยณรงค์สิงห์, 2539)\n",
    "7. ทำกาแฟ ทำขนม (Kurajdova et al, 2015)\n",
    "8. สุขภาพ ความสูง ส่วนผสมเพื่อสุขภาพ การขับถ่าย อนุมูลอิสระ (Kurajdova et al, 2015 & Aen De Alwis et al, 2009 & สุภชาติ ชัยณรงค์สิงห์, 2539)\n",
    "9. ราคาและความคุ้มค่า (ปิยฉัตร ช่างเหล็ก, 2561)\n",
    "<br><br>ตรงนี้ต้องหา Paper มาช่วยยันในบางหัวข้อ ถ้ามีส่วนเกินถือว่าเป็นบริบทของประเทศไทย"
   ]
  },
  {
   "cell_type": "markdown",
   "metadata": {
    "id": "NKW--A73mzli"
   },
   "source": [
    "## สร้าง Bag of word dataframe"
   ]
  },
  {
   "cell_type": "code",
   "execution_count": null,
   "metadata": {},
   "outputs": [],
   "source": []
  },
  {
   "cell_type": "code",
   "execution_count": null,
   "metadata": {},
   "outputs": [],
   "source": []
  },
  {
   "cell_type": "code",
   "execution_count": null,
   "metadata": {},
   "outputs": [],
   "source": []
  },
  {
   "cell_type": "code",
   "execution_count": null,
   "metadata": {},
   "outputs": [],
   "source": []
  },
  {
   "cell_type": "code",
   "execution_count": null,
   "metadata": {},
   "outputs": [],
   "source": []
  },
  {
   "cell_type": "markdown",
   "metadata": {
    "id": "uBBA36fDTCfZ"
   },
   "source": [
    "### Create co-occurrence matrix จาก Bag of word"
   ]
  },
  {
   "cell_type": "raw",
   "metadata": {
    "id": "LgE1okejTCfZ"
   },
   "source": [
    "item_item_matrix = pd.DataFrame(index=join_df.columns,columns=join_df.columns).fillna(0)"
   ]
  },
  {
   "cell_type": "raw",
   "metadata": {
    "id": "05j3U3ymTCfb"
   },
   "source": [
    "def cnt_Grpby(df,i,j):\n",
    "    PAIB = pd.DataFrame(df.groupby(df.iloc[:,i].name)[df.iloc[:,j].name].value_counts())\n",
    "    PAIB.index.names = ['A','B']\n",
    "    PAIB.columns = ['freq']\n",
    "    PAIB.reset_index(inplace=True)\n",
    "    _PAIB = PAIB[(PAIB.A>0)&(PAIB.B>0)]\n",
    "    return _PAIB.freq.sum()"
   ]
  },
  {
   "cell_type": "raw",
   "metadata": {
    "id": "1jhFte5eTCfd"
   },
   "source": [
    "# Co-occurrence\n",
    "for i in range(0,len(item_item_matrix.columns)):\n",
    "    for j in range(0,len(item_item_matrix.columns)):\n",
    "        if i != j:\n",
    "            item_item_matrix.iloc[i,j] = cnt_Grpby(join_df,i,j)\n",
    "        else:\n",
    "            item_item_matrix.iloc[i,j] = 0"
   ]
  },
  {
   "cell_type": "raw",
   "metadata": {
    "id": "OhtvLfMXTCfg"
   },
   "source": [
    "item_item_matrix.head()"
   ]
  },
  {
   "cell_type": "raw",
   "metadata": {
    "id": "bsbsqduDTCfh"
   },
   "source": [
    "item_item_matrix.to_excel(comment_past_nlp_file, index=True)"
   ]
  },
  {
   "cell_type": "markdown",
   "metadata": {
    "id": "O8nlNNE4TCfj"
   },
   "source": [
    "### Create co-occurrence matrix with Lift normalization"
   ]
  },
  {
   "cell_type": "raw",
   "metadata": {
    "id": "Qykd9Z88TCfj"
   },
   "source": [
    "item_item_matrix = pd.DataFrame(index=join_df.columns,columns=join_df.columns).fillna(0)"
   ]
  },
  {
   "cell_type": "raw",
   "metadata": {
    "id": "ElfF27atTCfp"
   },
   "source": [
    "def a_in_b(df,i,j):\n",
    "    PAIB = pd.DataFrame(df.groupby(df.iloc[:,j].name)[df.iloc[:,i].name].value_counts())\n",
    "    PAIB.index.names = ['B','A']\n",
    "    PAIB.columns = ['freq']\n",
    "    PAIB.reset_index(inplace=True)\n",
    "    PAIB_ = PAIB[(PAIB.A>0)&(PAIB.B>0)]\n",
    "    return PAIB_.freq.sum()/PAIB.freq.sum()"
   ]
  },
  {
   "cell_type": "raw",
   "metadata": {
    "id": "h1sDGAMWTCfr"
   },
   "source": [
    "for i in range(0,len(item_item_matrix.columns)) :\n",
    "    for j in range(0,len(item_item_matrix.columns)) :\n",
    "        A = join_df.iloc[:,i]\n",
    "        B = join_df.iloc[:,j]\n",
    "        PA = A[A!=0].count()/A.shape[0]\n",
    "        PB = B[B!=0].count()/B.shape[0]\n",
    "        PAB = PB*a_in_b(join_df,i,j)\n",
    "        item_item_matrix.iloc[i,j] = PAB/(PA*PB)"
   ]
  },
  {
   "cell_type": "raw",
   "metadata": {
    "id": "Wzd336KbTCfs"
   },
   "source": [
    "item_item_matrix.replace([np.inf, -np.inf], np.nan,inplace=True)\n",
    "item_item_matrix.fillna(0,inplace=True)"
   ]
  },
  {
   "cell_type": "raw",
   "metadata": {
    "id": "8qG7pCYfTCfu"
   },
   "source": [
    "item_item_matrix.head()"
   ]
  },
  {
   "cell_type": "raw",
   "metadata": {
    "id": "LsZZMOcTTCfw"
   },
   "source": [
    "item_item_matrix.to_excel(comment_past_nlp_file, index=True)"
   ]
  }
 ],
 "metadata": {
  "colab": {
   "collapsed_sections": [
    "EpwX95XlTCdl",
    "_Q9pU1J6TCe5",
    "NKW--A73mzli",
    "uBBA36fDTCfZ",
    "O8nlNNE4TCfj"
   ],
   "name": "EDA_Token_CoocMat.ipynb",
   "provenance": []
  },
  "kernelspec": {
   "display_name": "Python 3",
   "language": "python",
   "name": "python3"
  },
  "language_info": {
   "codemirror_mode": {
    "name": "ipython",
    "version": 3
   },
   "file_extension": ".py",
   "mimetype": "text/x-python",
   "name": "python",
   "nbconvert_exporter": "python",
   "pygments_lexer": "ipython3",
   "version": "3.7.3"
  }
 },
 "nbformat": 4,
 "nbformat_minor": 1
}
