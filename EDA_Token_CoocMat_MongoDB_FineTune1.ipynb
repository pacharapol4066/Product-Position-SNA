{
 "cells": [
  {
   "cell_type": "markdown",
   "metadata": {
    "id": "xoY8sy40TCb5"
   },
   "source": [
    "### IS - Brand position\n",
    "Finding Product position on Social Network (PPSN)"
   ]
  },
  {
   "cell_type": "raw",
   "metadata": {
    "colab": {
     "base_uri": "https://localhost:8080/"
    },
    "executionInfo": {
     "elapsed": 28353,
     "status": "ok",
     "timestamp": 1604024868503,
     "user": {
      "displayName": "Pacharapol O.",
      "photoUrl": "https://lh3.googleusercontent.com/a-/AOh14GiBNaVjsCxoMVUqEvSDC7eauF0V2ZD7B-TzevR1TQ=s64",
      "userId": "00378494490135533545"
     },
     "user_tz": -420
    },
    "id": "GkBEUBUqTGuf",
    "outputId": "cb22db45-820a-48fd-c11a-a0568439778f"
   },
   "source": [
    "from google.colab import drive\n",
    "drive.mount('/content/drive')"
   ]
  },
  {
   "cell_type": "raw",
   "metadata": {
    "colab": {
     "base_uri": "https://localhost:8080/"
    },
    "executionInfo": {
     "elapsed": 1693,
     "status": "ok",
     "timestamp": 1604024868819,
     "user": {
      "displayName": "Pacharapol O.",
      "photoUrl": "https://lh3.googleusercontent.com/a-/AOh14GiBNaVjsCxoMVUqEvSDC7eauF0V2ZD7B-TzevR1TQ=s64",
      "userId": "00378494490135533545"
     },
     "user_tz": -420
    },
    "id": "_5mrzpx3TH9K",
    "outputId": "129bb192-4ac2-4b03-bc89-7ee7a65d5032"
   },
   "source": [
    "cd /content/drive/My\\ Drive/Colab\\ Notebooks/Master_PJ_DRMABS/Datasource"
   ]
  },
  {
   "cell_type": "code",
   "execution_count": 1,
   "metadata": {
    "executionInfo": {
     "elapsed": 2631,
     "status": "ok",
     "timestamp": 1604024879769,
     "user": {
      "displayName": "Pacharapol O.",
      "photoUrl": "https://lh3.googleusercontent.com/a-/AOh14GiBNaVjsCxoMVUqEvSDC7eauF0V2ZD7B-TzevR1TQ=s64",
      "userId": "00378494490135533545"
     },
     "user_tz": -420
    },
    "id": "cC0cBdCdTCb6"
   },
   "outputs": [],
   "source": [
    "import networkx as nx\n",
    "import numpy as np\n",
    "import pandas as pd\n",
    "import itertools\n",
    "import math\n",
    "import string\n",
    "import json\n",
    "import pymongo\n",
    "from itertools import groupby"
   ]
  },
  {
   "cell_type": "code",
   "execution_count": 2,
   "metadata": {},
   "outputs": [
    {
     "name": "stderr",
     "output_type": "stream",
     "text": [
      "C:\\ProgramData\\Anaconda3\\lib\\site-packages\\past\\types\\oldstr.py:5: DeprecationWarning: Using or importing the ABCs from 'collections' instead of from 'collections.abc' is deprecated, and in 3.8 it will stop working\n",
      "  from collections import Iterable\n",
      "C:\\ProgramData\\Anaconda3\\lib\\site-packages\\past\\builtins\\misc.py:4: DeprecationWarning: Using or importing the ABCs from 'collections' instead of from 'collections.abc' is deprecated, and in 3.8 it will stop working\n",
      "  from collections import Mapping\n"
     ]
    }
   ],
   "source": [
    "import gensim\n",
    "import pyLDAvis.gensim\n",
    "pyLDAvis.enable_notebook()\n",
    "\n",
    "import warnings\n",
    "warnings.filterwarnings(\"ignore\", category=DeprecationWarning)\n",
    "warnings.filterwarnings(\"ignore\", category=pd.core.common.SettingWithCopyWarning)"
   ]
  },
  {
   "cell_type": "code",
   "execution_count": 3,
   "metadata": {
    "executionInfo": {
     "elapsed": 2031,
     "status": "ok",
     "timestamp": 1604024879770,
     "user": {
      "displayName": "Pacharapol O.",
      "photoUrl": "https://lh3.googleusercontent.com/a-/AOh14GiBNaVjsCxoMVUqEvSDC7eauF0V2ZD7B-TzevR1TQ=s64",
      "userId": "00378494490135533545"
     },
     "user_tz": -420
    },
    "id": "1kqXURiiTCb-"
   },
   "outputs": [],
   "source": [
    "import time\n",
    "from datetime import datetime\n",
    "today = datetime.now()"
   ]
  },
  {
   "cell_type": "code",
   "execution_count": 4,
   "metadata": {
    "colab": {
     "base_uri": "https://localhost:8080/"
    },
    "executionInfo": {
     "elapsed": 3451,
     "status": "ok",
     "timestamp": 1604028167896,
     "user": {
      "displayName": "Pacharapol O.",
      "photoUrl": "https://lh3.googleusercontent.com/a-/AOh14GiBNaVjsCxoMVUqEvSDC7eauF0V2ZD7B-TzevR1TQ=s64",
      "userId": "00378494490135533545"
     },
     "user_tz": -420
    },
    "id": "weEcXSD8TCcI",
    "outputId": "1219680e-0d54-4649-a26e-535e112f0650"
   },
   "outputs": [],
   "source": [
    "#!pip install pythainlp\n",
    "import pythainlp\n",
    "from pythainlp import Tokenizer\n",
    "from pythainlp.util import normalize\n",
    "from pythainlp.tokenize import word_tokenize\n",
    "from pythainlp.corpus.common import thai_words\n",
    "from pythainlp import sent_tokenize\n",
    "from pythainlp.corpus import thai_stopwords\n",
    "from pythainlp.util import dict_trie\n",
    "from pythainlp.tag import pos_tag"
   ]
  },
  {
   "cell_type": "code",
   "execution_count": 5,
   "metadata": {
    "id": "Jpa16DrfTCeL"
   },
   "outputs": [],
   "source": [
    "# https://thainlp.org/pythainlp/docs/2.0/api/tag.html\n",
    "from pythainlp.spell import correct\n",
    "from pythainlp.tag import pos_tag\n",
    "\n",
    "#https://thainlp.org/pythainlp/docs/2.0/api/transliterate.html\n",
    "from pythainlp.transliterate import romanize"
   ]
  },
  {
   "cell_type": "code",
   "execution_count": 6,
   "metadata": {},
   "outputs": [
    {
     "name": "stderr",
     "output_type": "stream",
     "text": [
      "C:\\ProgramData\\Anaconda3\\lib\\site-packages\\statsmodels\\tools\\_testing.py:19: FutureWarning: pandas.util.testing is deprecated. Use the functions in the public API at pandas.testing instead.\n",
      "  import pandas.util.testing as tm\n"
     ]
    }
   ],
   "source": [
    "import statistics as stat\n",
    "import matplotlib.pyplot as plt\n",
    "import seaborn as sns\n",
    "from sklearn.metrics import jaccard_score"
   ]
  },
  {
   "cell_type": "code",
   "execution_count": 7,
   "metadata": {
    "executionInfo": {
     "elapsed": 831,
     "status": "ok",
     "timestamp": 1604027698593,
     "user": {
      "displayName": "Pacharapol O.",
      "photoUrl": "https://lh3.googleusercontent.com/a-/AOh14GiBNaVjsCxoMVUqEvSDC7eauF0V2ZD7B-TzevR1TQ=s64",
      "userId": "00378494490135533545"
     },
     "user_tz": -420
    },
    "id": "sna_e7nATCch"
   },
   "outputs": [],
   "source": [
    "# Files definition\n",
    "root_input_path = 'Datasource'\n",
    "root_output_path = 'output'\n",
    "\n",
    "#comment_file = []\n",
    "#comment_file.append(root_input_path+\"/comment_meiji.csv\")\n",
    "#comment_file.append(root_input_path+\"/comment_DDCF.csv\")\n",
    "\n",
    "#comment_file = []\n",
    "#comment_file.append(\"comment_meiji.csv\")\n",
    "#comment_file.append(\"comment_DDCF.csv\")\n",
    "\n",
    "comment_nlp_file = root_output_path+\"/comment_nlpToken.csv\"\n",
    "comment_cooc_freq_file = root_output_path+\"/comment_cooc_freq.xlsx\"\n",
    "comment_cooc_lift_file = root_output_path+\"/comment_cooc_Lift.xlsx\"\n",
    "comment_cooc_jacc_file = root_output_path+\"/comment_cooc_jacc.xlsx\"\n",
    "\n",
    "#comment_nlp_file = \"comment_nlpToken.csv\"\n",
    "#comment_cooc_nlp_file = \"comment_cooc.xlsx\""
   ]
  },
  {
   "cell_type": "code",
   "execution_count": 8,
   "metadata": {},
   "outputs": [],
   "source": [
    "# Connect MongoDB\n",
    "myclient = pymongo.MongoClient(\"mongodb://localhost:27017/\")\n",
    "mydb = myclient[\"NIDA_PPSN_PRD\"]\n",
    "col_thread = mydb[\"NIDA_PPSN_THREAD\"]\n",
    "col_comment = mydb[\"NIDA_PPSN_COMMENT\"]\n",
    "col_scrape = mydb[\"NIDA_PPSN_SCRAPE\"]"
   ]
  },
  {
   "cell_type": "markdown",
   "metadata": {
    "id": "wlnotsqqTCcl"
   },
   "source": [
    "### 1.Clean data & NLP Tokenized"
   ]
  },
  {
   "cell_type": "code",
   "execution_count": 9,
   "metadata": {
    "executionInfo": {
     "elapsed": 866,
     "status": "ok",
     "timestamp": 1604028004964,
     "user": {
      "displayName": "Pacharapol O.",
      "photoUrl": "https://lh3.googleusercontent.com/a-/AOh14GiBNaVjsCxoMVUqEvSDC7eauF0V2ZD7B-TzevR1TQ=s64",
      "userId": "00378494490135533545"
     },
     "user_tz": -420
    },
    "id": "oaqpUVffTCdm"
   },
   "outputs": [],
   "source": [
    "def checkStopwords(w):\n",
    "    returnList = []\n",
    "    stopwords = set(thai_stopwords())\n",
    "    stopwords.remove('ไม่')\n",
    "    stopwords.remove('ได้')\n",
    "    stopwords.remove('สูง')\n",
    "    for i in w:  # comment\n",
    "        if i not in stopwords:\n",
    "            returnList.append(i)\n",
    "    return returnList"
   ]
  },
  {
   "cell_type": "code",
   "execution_count": 10,
   "metadata": {
    "executionInfo": {
     "elapsed": 880,
     "status": "ok",
     "timestamp": 1604028299778,
     "user": {
      "displayName": "Pacharapol O.",
      "photoUrl": "https://lh3.googleusercontent.com/a-/AOh14GiBNaVjsCxoMVUqEvSDC7eauF0V2ZD7B-TzevR1TQ=s64",
      "userId": "00378494490135533545"
     },
     "user_tz": -420
    },
    "id": "cr_O7hE5htx2"
   },
   "outputs": [],
   "source": [
    "def normThai(w):\n",
    "    returnList = []\n",
    "    for i in w:\n",
    "        returnList.append(normalize(i).lower())\n",
    "    return returnList"
   ]
  },
  {
   "cell_type": "code",
   "execution_count": 11,
   "metadata": {},
   "outputs": [],
   "source": [
    "list_punc = []\n",
    "for c in string.punctuation:\n",
    "    list_punc.append(c)"
   ]
  },
  {
   "cell_type": "code",
   "execution_count": 12,
   "metadata": {},
   "outputs": [],
   "source": [
    "cursor_corpus = col_scrape.find()\n",
    "df_Corpus = pd.DataFrame(cursor_corpus)"
   ]
  },
  {
   "cell_type": "code",
   "execution_count": 13,
   "metadata": {
    "executionInfo": {
     "elapsed": 2677,
     "status": "ok",
     "timestamp": 1604027704431,
     "user": {
      "displayName": "Pacharapol O.",
      "photoUrl": "https://lh3.googleusercontent.com/a-/AOh14GiBNaVjsCxoMVUqEvSDC7eauF0V2ZD7B-TzevR1TQ=s64",
      "userId": "00378494490135533545"
     },
     "user_tz": -420
    },
    "id": "VXYRZDubTCcm"
   },
   "outputs": [
    {
     "data": {
      "text/html": [
       "<div>\n",
       "<style scoped>\n",
       "    .dataframe tbody tr th:only-of-type {\n",
       "        vertical-align: middle;\n",
       "    }\n",
       "\n",
       "    .dataframe tbody tr th {\n",
       "        vertical-align: top;\n",
       "    }\n",
       "\n",
       "    .dataframe thead th {\n",
       "        text-align: right;\n",
       "    }\n",
       "</style>\n",
       "<table border=\"1\" class=\"dataframe\">\n",
       "  <thead>\n",
       "    <tr style=\"text-align: right;\">\n",
       "      <th></th>\n",
       "      <th>_id</th>\n",
       "      <th>URLs</th>\n",
       "      <th>headline</th>\n",
       "      <th>text</th>\n",
       "      <th>article_date</th>\n",
       "      <th>Retrived_date</th>\n",
       "    </tr>\n",
       "  </thead>\n",
       "  <tbody>\n",
       "    <tr>\n",
       "      <th>0</th>\n",
       "      <td>5fc2853c77db91fa3d980f8d</td>\n",
       "      <td>https://pantip.com/topic/39868603</td>\n",
       "      <td>นมเมจิรสหวานทำไมหายากจังคะ</td>\n",
       "      <td>เมื่อก่อนหลายปีมาแล้ว ในเซเว่นยังมีนมเมจิรสหวา...</td>\n",
       "      <td>2020-05-05 13:22:59</td>\n",
       "      <td>2020-11-29 00:13:26.571</td>\n",
       "    </tr>\n",
       "    <tr>\n",
       "      <th>1</th>\n",
       "      <td>5fc2853c77db91fa3d980f8e</td>\n",
       "      <td>https://pantip.com/topic/39868603</td>\n",
       "      <td>นมเมจิรสหวานทำไมหายากจังคะ</td>\n",
       "      <td>เบาหวานครับ แฮ่ๆ</td>\n",
       "      <td>2020-05-05 13:22:59</td>\n",
       "      <td>2020-11-29 00:13:26.571</td>\n",
       "    </tr>\n",
       "    <tr>\n",
       "      <th>2</th>\n",
       "      <td>5fc2853c77db91fa3d980f8f</td>\n",
       "      <td>https://pantip.com/topic/39868603</td>\n",
       "      <td>นมเมจิรสหวานทำไมหายากจังคะ</td>\n",
       "      <td>หาซื้อไม่ได้นี่คิดได้  2 อย่างนะ.    คนไม่ค่อย...</td>\n",
       "      <td>2020-05-05 13:22:59</td>\n",
       "      <td>2020-11-29 00:13:26.571</td>\n",
       "    </tr>\n",
       "    <tr>\n",
       "      <th>3</th>\n",
       "      <td>5fc2853c77db91fa3d980f90</td>\n",
       "      <td>https://pantip.com/topic/39868603</td>\n",
       "      <td>นมเมจิรสหวานทำไมหายากจังคะ</td>\n",
       "      <td>เป็นรสที่ขายไม่ดีครับ\\nรสพื้นฐานคือ\\nจืด แบ่งย...</td>\n",
       "      <td>2020-05-05 13:22:59</td>\n",
       "      <td>2020-11-29 00:13:26.571</td>\n",
       "    </tr>\n",
       "    <tr>\n",
       "      <th>4</th>\n",
       "      <td>5fc2853c77db91fa3d980f91</td>\n",
       "      <td>https://pantip.com/topic/39868603</td>\n",
       "      <td>นมเมจิรสหวานทำไมหายากจังคะ</td>\n",
       "      <td>ถ้าขายไม่ดีเค้าก็เอาออกครับ shelf life มันน้อย...</td>\n",
       "      <td>2020-05-05 13:22:59</td>\n",
       "      <td>2020-11-29 00:13:26.571</td>\n",
       "    </tr>\n",
       "  </tbody>\n",
       "</table>\n",
       "</div>"
      ],
      "text/plain": [
       "                        _id                               URLs  \\\n",
       "0  5fc2853c77db91fa3d980f8d  https://pantip.com/topic/39868603   \n",
       "1  5fc2853c77db91fa3d980f8e  https://pantip.com/topic/39868603   \n",
       "2  5fc2853c77db91fa3d980f8f  https://pantip.com/topic/39868603   \n",
       "3  5fc2853c77db91fa3d980f90  https://pantip.com/topic/39868603   \n",
       "4  5fc2853c77db91fa3d980f91  https://pantip.com/topic/39868603   \n",
       "\n",
       "                     headline  \\\n",
       "0  นมเมจิรสหวานทำไมหายากจังคะ   \n",
       "1  นมเมจิรสหวานทำไมหายากจังคะ   \n",
       "2  นมเมจิรสหวานทำไมหายากจังคะ   \n",
       "3  นมเมจิรสหวานทำไมหายากจังคะ   \n",
       "4  นมเมจิรสหวานทำไมหายากจังคะ   \n",
       "\n",
       "                                                text        article_date  \\\n",
       "0  เมื่อก่อนหลายปีมาแล้ว ในเซเว่นยังมีนมเมจิรสหวา... 2020-05-05 13:22:59   \n",
       "1                                   เบาหวานครับ แฮ่ๆ 2020-05-05 13:22:59   \n",
       "2  หาซื้อไม่ได้นี่คิดได้  2 อย่างนะ.    คนไม่ค่อย... 2020-05-05 13:22:59   \n",
       "3  เป็นรสที่ขายไม่ดีครับ\\nรสพื้นฐานคือ\\nจืด แบ่งย... 2020-05-05 13:22:59   \n",
       "4  ถ้าขายไม่ดีเค้าก็เอาออกครับ shelf life มันน้อย... 2020-05-05 13:22:59   \n",
       "\n",
       "            Retrived_date  \n",
       "0 2020-11-29 00:13:26.571  \n",
       "1 2020-11-29 00:13:26.571  \n",
       "2 2020-11-29 00:13:26.571  \n",
       "3 2020-11-29 00:13:26.571  \n",
       "4 2020-11-29 00:13:26.571  "
      ]
     },
     "execution_count": 13,
     "metadata": {},
     "output_type": "execute_result"
    }
   ],
   "source": [
    "df_Corpus.head()"
   ]
  },
  {
   "cell_type": "code",
   "execution_count": 14,
   "metadata": {
    "colab": {
     "base_uri": "https://localhost:8080/"
    },
    "executionInfo": {
     "elapsed": 885,
     "status": "ok",
     "timestamp": 1604027718134,
     "user": {
      "displayName": "Pacharapol O.",
      "photoUrl": "https://lh3.googleusercontent.com/a-/AOh14GiBNaVjsCxoMVUqEvSDC7eauF0V2ZD7B-TzevR1TQ=s64",
      "userId": "00378494490135533545"
     },
     "user_tz": -420
    },
    "id": "Xf0_nwz8TCdB",
    "outputId": "d39ed4de-8549-4488-d8c5-04e62e8a4dfd"
   },
   "outputs": [
    {
     "name": "stdout",
     "output_type": "stream",
     "text": [
      "All comment: 63661\n",
      "All URLs ก่อนตัด: 1516\n"
     ]
    }
   ],
   "source": [
    "print('All comment:',df_Corpus.shape[0])\n",
    "print('All URLs ก่อนตัด:',len(df_Corpus.URLs.unique()))"
   ]
  },
  {
   "cell_type": "code",
   "execution_count": 15,
   "metadata": {
    "colab": {
     "base_uri": "https://localhost:8080/"
    },
    "executionInfo": {
     "elapsed": 1032,
     "status": "ok",
     "timestamp": 1604027719151,
     "user": {
      "displayName": "Pacharapol O.",
      "photoUrl": "https://lh3.googleusercontent.com/a-/AOh14GiBNaVjsCxoMVUqEvSDC7eauF0V2ZD7B-TzevR1TQ=s64",
      "userId": "00378494490135533545"
     },
     "user_tz": -420
    },
    "id": "vRH0T2gLTCdE",
    "outputId": "0722d375-5945-44d8-bc71-f39dcc58a0e9"
   },
   "outputs": [
    {
     "name": "stdout",
     "output_type": "stream",
     "text": [
      "_id              0\n",
      "URLs             0\n",
      "headline         0\n",
      "text             0\n",
      "article_date     0\n",
      "Retrived_date    0\n",
      "dtype: int64\n"
     ]
    }
   ],
   "source": [
    "missing = df_Corpus.isnull().sum()\n",
    "print(missing)"
   ]
  },
  {
   "cell_type": "code",
   "execution_count": 16,
   "metadata": {
    "colab": {
     "base_uri": "https://localhost:8080/",
     "height": 202
    },
    "executionInfo": {
     "elapsed": 828,
     "status": "ok",
     "timestamp": 1604027721340,
     "user": {
      "displayName": "Pacharapol O.",
      "photoUrl": "https://lh3.googleusercontent.com/a-/AOh14GiBNaVjsCxoMVUqEvSDC7eauF0V2ZD7B-TzevR1TQ=s64",
      "userId": "00378494490135533545"
     },
     "user_tz": -420
    },
    "id": "LXg1m0eoTCdK",
    "outputId": "567e2a04-8322-4104-9f68-6d509815fd24"
   },
   "outputs": [
    {
     "data": {
      "text/html": [
       "<div>\n",
       "<style scoped>\n",
       "    .dataframe tbody tr th:only-of-type {\n",
       "        vertical-align: middle;\n",
       "    }\n",
       "\n",
       "    .dataframe tbody tr th {\n",
       "        vertical-align: top;\n",
       "    }\n",
       "\n",
       "    .dataframe thead th {\n",
       "        text-align: right;\n",
       "    }\n",
       "</style>\n",
       "<table border=\"1\" class=\"dataframe\">\n",
       "  <thead>\n",
       "    <tr style=\"text-align: right;\">\n",
       "      <th></th>\n",
       "      <th>_id</th>\n",
       "      <th>URLs</th>\n",
       "      <th>headline</th>\n",
       "      <th>text</th>\n",
       "      <th>article_date</th>\n",
       "      <th>Retrived_date</th>\n",
       "    </tr>\n",
       "  </thead>\n",
       "  <tbody>\n",
       "    <tr>\n",
       "      <th>63656</th>\n",
       "      <td>5fc2ec7c77db91fa3d990835</td>\n",
       "      <td>https://pantip.com/topic/30011023</td>\n",
       "      <td>Fit and Firm to Slim ครั้งที่ 21\"New Year New ...</td>\n",
       "      <td>พี่มานะน่าร๊ากมากเลย เห็นแล้วอยากจกพุง</td>\n",
       "      <td>2013-01-04 07:03:18</td>\n",
       "      <td>2020-11-29 07:33:59.076</td>\n",
       "    </tr>\n",
       "    <tr>\n",
       "      <th>63657</th>\n",
       "      <td>5fc2ec7c77db91fa3d990836</td>\n",
       "      <td>https://pantip.com/topic/30011023</td>\n",
       "      <td>Fit and Firm to Slim ครั้งที่ 21\"New Year New ...</td>\n",
       "      <td>ลู่ 44 isoulmate เปเป้\\n\\nเช้า ... แซนวิส\\n\\nก...</td>\n",
       "      <td>2013-01-04 07:03:18</td>\n",
       "      <td>2020-11-29 07:33:59.076</td>\n",
       "    </tr>\n",
       "    <tr>\n",
       "      <th>63658</th>\n",
       "      <td>5fc2ec7c77db91fa3d990837</td>\n",
       "      <td>https://pantip.com/topic/30011023</td>\n",
       "      <td>Fit and Firm to Slim ครั้งที่ 21\"New Year New ...</td>\n",
       "      <td>ลำดับที่ 41\\nชื่อlogin โดนัทแสนหวาน \\nชื่อเล่น...</td>\n",
       "      <td>2013-01-04 07:03:18</td>\n",
       "      <td>2020-11-29 07:33:59.076</td>\n",
       "    </tr>\n",
       "    <tr>\n",
       "      <th>63659</th>\n",
       "      <td>5fc2ec7c77db91fa3d990838</td>\n",
       "      <td>https://pantip.com/topic/30011023</td>\n",
       "      <td>Fit and Firm to Slim ครั้งที่ 21\"New Year New ...</td>\n",
       "      <td>มีใครตั้งทู้ยังเอ่ย\\nงั้นเดี๋ยวเค้าตั้งให้ แป้...</td>\n",
       "      <td>2013-01-04 07:03:18</td>\n",
       "      <td>2020-11-29 07:33:59.076</td>\n",
       "    </tr>\n",
       "    <tr>\n",
       "      <th>63660</th>\n",
       "      <td>5fc2ec7c77db91fa3d990839</td>\n",
       "      <td>https://pantip.com/topic/30011023</td>\n",
       "      <td>Fit and Firm to Slim ครั้งที่ 21\"New Year New ...</td>\n",
       "      <td>กระทู้วันเสาร์ พร้อมแล้วค่ะ \\nhttp://pantip.co...</td>\n",
       "      <td>2013-01-04 07:03:18</td>\n",
       "      <td>2020-11-29 07:33:59.076</td>\n",
       "    </tr>\n",
       "  </tbody>\n",
       "</table>\n",
       "</div>"
      ],
      "text/plain": [
       "                            _id                               URLs  \\\n",
       "63656  5fc2ec7c77db91fa3d990835  https://pantip.com/topic/30011023   \n",
       "63657  5fc2ec7c77db91fa3d990836  https://pantip.com/topic/30011023   \n",
       "63658  5fc2ec7c77db91fa3d990837  https://pantip.com/topic/30011023   \n",
       "63659  5fc2ec7c77db91fa3d990838  https://pantip.com/topic/30011023   \n",
       "63660  5fc2ec7c77db91fa3d990839  https://pantip.com/topic/30011023   \n",
       "\n",
       "                                                headline  \\\n",
       "63656  Fit and Firm to Slim ครั้งที่ 21\"New Year New ...   \n",
       "63657  Fit and Firm to Slim ครั้งที่ 21\"New Year New ...   \n",
       "63658  Fit and Firm to Slim ครั้งที่ 21\"New Year New ...   \n",
       "63659  Fit and Firm to Slim ครั้งที่ 21\"New Year New ...   \n",
       "63660  Fit and Firm to Slim ครั้งที่ 21\"New Year New ...   \n",
       "\n",
       "                                                    text        article_date  \\\n",
       "63656             พี่มานะน่าร๊ากมากเลย เห็นแล้วอยากจกพุง 2013-01-04 07:03:18   \n",
       "63657  ลู่ 44 isoulmate เปเป้\\n\\nเช้า ... แซนวิส\\n\\nก... 2013-01-04 07:03:18   \n",
       "63658  ลำดับที่ 41\\nชื่อlogin โดนัทแสนหวาน \\nชื่อเล่น... 2013-01-04 07:03:18   \n",
       "63659  มีใครตั้งทู้ยังเอ่ย\\nงั้นเดี๋ยวเค้าตั้งให้ แป้... 2013-01-04 07:03:18   \n",
       "63660  กระทู้วันเสาร์ พร้อมแล้วค่ะ \\nhttp://pantip.co... 2013-01-04 07:03:18   \n",
       "\n",
       "                Retrived_date  \n",
       "63656 2020-11-29 07:33:59.076  \n",
       "63657 2020-11-29 07:33:59.076  \n",
       "63658 2020-11-29 07:33:59.076  \n",
       "63659 2020-11-29 07:33:59.076  \n",
       "63660 2020-11-29 07:33:59.076  "
      ]
     },
     "execution_count": 16,
     "metadata": {},
     "output_type": "execute_result"
    }
   ],
   "source": [
    "df_Corpus.tail()"
   ]
  },
  {
   "cell_type": "code",
   "execution_count": 17,
   "metadata": {},
   "outputs": [],
   "source": [
    "df_Corpus.drop('_id',axis=1,inplace=True)"
   ]
  },
  {
   "cell_type": "code",
   "execution_count": 18,
   "metadata": {
    "executionInfo": {
     "elapsed": 1006,
     "status": "ok",
     "timestamp": 1604027723160,
     "user": {
      "displayName": "Pacharapol O.",
      "photoUrl": "https://lh3.googleusercontent.com/a-/AOh14GiBNaVjsCxoMVUqEvSDC7eauF0V2ZD7B-TzevR1TQ=s64",
      "userId": "00378494490135533545"
     },
     "user_tz": -420
    },
    "id": "_O0BSe9ETCdO"
   },
   "outputs": [],
   "source": [
    "seqNum = list(range(1,df_Corpus.shape[0]+1))\n",
    "df_Corpus.insert(0,'commentId',seqNum)\n",
    "df_Corpus.columns = ['commentId','URLs','headline','text','article_date','Retrived_date']"
   ]
  },
  {
   "cell_type": "code",
   "execution_count": 19,
   "metadata": {
    "colab": {
     "base_uri": "https://localhost:8080/",
     "height": 202
    },
    "executionInfo": {
     "elapsed": 811,
     "status": "ok",
     "timestamp": 1604027724691,
     "user": {
      "displayName": "Pacharapol O.",
      "photoUrl": "https://lh3.googleusercontent.com/a-/AOh14GiBNaVjsCxoMVUqEvSDC7eauF0V2ZD7B-TzevR1TQ=s64",
      "userId": "00378494490135533545"
     },
     "user_tz": -420
    },
    "id": "w-muagoxTCdR",
    "outputId": "a8afe33d-943b-422e-838d-ba8514e9497d"
   },
   "outputs": [
    {
     "data": {
      "text/html": [
       "<div>\n",
       "<style scoped>\n",
       "    .dataframe tbody tr th:only-of-type {\n",
       "        vertical-align: middle;\n",
       "    }\n",
       "\n",
       "    .dataframe tbody tr th {\n",
       "        vertical-align: top;\n",
       "    }\n",
       "\n",
       "    .dataframe thead th {\n",
       "        text-align: right;\n",
       "    }\n",
       "</style>\n",
       "<table border=\"1\" class=\"dataframe\">\n",
       "  <thead>\n",
       "    <tr style=\"text-align: right;\">\n",
       "      <th></th>\n",
       "      <th>commentId</th>\n",
       "      <th>URLs</th>\n",
       "      <th>headline</th>\n",
       "      <th>text</th>\n",
       "      <th>article_date</th>\n",
       "      <th>Retrived_date</th>\n",
       "    </tr>\n",
       "  </thead>\n",
       "  <tbody>\n",
       "    <tr>\n",
       "      <th>63656</th>\n",
       "      <td>63657</td>\n",
       "      <td>https://pantip.com/topic/30011023</td>\n",
       "      <td>Fit and Firm to Slim ครั้งที่ 21\"New Year New ...</td>\n",
       "      <td>พี่มานะน่าร๊ากมากเลย เห็นแล้วอยากจกพุง</td>\n",
       "      <td>2013-01-04 07:03:18</td>\n",
       "      <td>2020-11-29 07:33:59.076</td>\n",
       "    </tr>\n",
       "    <tr>\n",
       "      <th>63657</th>\n",
       "      <td>63658</td>\n",
       "      <td>https://pantip.com/topic/30011023</td>\n",
       "      <td>Fit and Firm to Slim ครั้งที่ 21\"New Year New ...</td>\n",
       "      <td>ลู่ 44 isoulmate เปเป้\\n\\nเช้า ... แซนวิส\\n\\nก...</td>\n",
       "      <td>2013-01-04 07:03:18</td>\n",
       "      <td>2020-11-29 07:33:59.076</td>\n",
       "    </tr>\n",
       "    <tr>\n",
       "      <th>63658</th>\n",
       "      <td>63659</td>\n",
       "      <td>https://pantip.com/topic/30011023</td>\n",
       "      <td>Fit and Firm to Slim ครั้งที่ 21\"New Year New ...</td>\n",
       "      <td>ลำดับที่ 41\\nชื่อlogin โดนัทแสนหวาน \\nชื่อเล่น...</td>\n",
       "      <td>2013-01-04 07:03:18</td>\n",
       "      <td>2020-11-29 07:33:59.076</td>\n",
       "    </tr>\n",
       "    <tr>\n",
       "      <th>63659</th>\n",
       "      <td>63660</td>\n",
       "      <td>https://pantip.com/topic/30011023</td>\n",
       "      <td>Fit and Firm to Slim ครั้งที่ 21\"New Year New ...</td>\n",
       "      <td>มีใครตั้งทู้ยังเอ่ย\\nงั้นเดี๋ยวเค้าตั้งให้ แป้...</td>\n",
       "      <td>2013-01-04 07:03:18</td>\n",
       "      <td>2020-11-29 07:33:59.076</td>\n",
       "    </tr>\n",
       "    <tr>\n",
       "      <th>63660</th>\n",
       "      <td>63661</td>\n",
       "      <td>https://pantip.com/topic/30011023</td>\n",
       "      <td>Fit and Firm to Slim ครั้งที่ 21\"New Year New ...</td>\n",
       "      <td>กระทู้วันเสาร์ พร้อมแล้วค่ะ \\nhttp://pantip.co...</td>\n",
       "      <td>2013-01-04 07:03:18</td>\n",
       "      <td>2020-11-29 07:33:59.076</td>\n",
       "    </tr>\n",
       "  </tbody>\n",
       "</table>\n",
       "</div>"
      ],
      "text/plain": [
       "       commentId                               URLs  \\\n",
       "63656      63657  https://pantip.com/topic/30011023   \n",
       "63657      63658  https://pantip.com/topic/30011023   \n",
       "63658      63659  https://pantip.com/topic/30011023   \n",
       "63659      63660  https://pantip.com/topic/30011023   \n",
       "63660      63661  https://pantip.com/topic/30011023   \n",
       "\n",
       "                                                headline  \\\n",
       "63656  Fit and Firm to Slim ครั้งที่ 21\"New Year New ...   \n",
       "63657  Fit and Firm to Slim ครั้งที่ 21\"New Year New ...   \n",
       "63658  Fit and Firm to Slim ครั้งที่ 21\"New Year New ...   \n",
       "63659  Fit and Firm to Slim ครั้งที่ 21\"New Year New ...   \n",
       "63660  Fit and Firm to Slim ครั้งที่ 21\"New Year New ...   \n",
       "\n",
       "                                                    text        article_date  \\\n",
       "63656             พี่มานะน่าร๊ากมากเลย เห็นแล้วอยากจกพุง 2013-01-04 07:03:18   \n",
       "63657  ลู่ 44 isoulmate เปเป้\\n\\nเช้า ... แซนวิส\\n\\nก... 2013-01-04 07:03:18   \n",
       "63658  ลำดับที่ 41\\nชื่อlogin โดนัทแสนหวาน \\nชื่อเล่น... 2013-01-04 07:03:18   \n",
       "63659  มีใครตั้งทู้ยังเอ่ย\\nงั้นเดี๋ยวเค้าตั้งให้ แป้... 2013-01-04 07:03:18   \n",
       "63660  กระทู้วันเสาร์ พร้อมแล้วค่ะ \\nhttp://pantip.co... 2013-01-04 07:03:18   \n",
       "\n",
       "                Retrived_date  \n",
       "63656 2020-11-29 07:33:59.076  \n",
       "63657 2020-11-29 07:33:59.076  \n",
       "63658 2020-11-29 07:33:59.076  \n",
       "63659 2020-11-29 07:33:59.076  \n",
       "63660 2020-11-29 07:33:59.076  "
      ]
     },
     "execution_count": 19,
     "metadata": {},
     "output_type": "execute_result"
    }
   ],
   "source": [
    "df_Corpus.tail()"
   ]
  },
  {
   "cell_type": "code",
   "execution_count": 20,
   "metadata": {
    "executionInfo": {
     "elapsed": 1166,
     "status": "ok",
     "timestamp": 1604027727940,
     "user": {
      "displayName": "Pacharapol O.",
      "photoUrl": "https://lh3.googleusercontent.com/a-/AOh14GiBNaVjsCxoMVUqEvSDC7eauF0V2ZD7B-TzevR1TQ=s64",
      "userId": "00378494490135533545"
     },
     "user_tz": -420
    },
    "id": "jZFN_aTsTCdU"
   },
   "outputs": [],
   "source": [
    "# Drop NA & banned comments\n",
    "df_Corpus = df_Corpus.dropna()\n",
    "df_Corpus = df_Corpus[df_Corpus[\"text\"].str.find('ความคิดเห็นนี้ถูกลบ')!= 0]\n",
    "df_Corpus = df_Corpus[df_Corpus[\"text\"].str.find('แก้ไขข้อความเมื่อ')!= 0]\n",
    "df_Corpus = df_Corpus.set_index('commentId')"
   ]
  },
  {
   "cell_type": "code",
   "execution_count": 21,
   "metadata": {
    "colab": {
     "base_uri": "https://localhost:8080/"
    },
    "executionInfo": {
     "elapsed": 619,
     "status": "ok",
     "timestamp": 1604027727941,
     "user": {
      "displayName": "Pacharapol O.",
      "photoUrl": "https://lh3.googleusercontent.com/a-/AOh14GiBNaVjsCxoMVUqEvSDC7eauF0V2ZD7B-TzevR1TQ=s64",
      "userId": "00378494490135533545"
     },
     "user_tz": -420
    },
    "id": "ki-qD4YMTCdX",
    "outputId": "3102d8b3-3251-463e-f3e2-50a119fe787b"
   },
   "outputs": [
    {
     "name": "stdout",
     "output_type": "stream",
     "text": [
      "URLs             0\n",
      "headline         0\n",
      "text             0\n",
      "article_date     0\n",
      "Retrived_date    0\n",
      "dtype: int64\n"
     ]
    }
   ],
   "source": [
    "missing = df_Corpus.isnull().sum()\n",
    "print(missing)"
   ]
  },
  {
   "cell_type": "code",
   "execution_count": 22,
   "metadata": {
    "colab": {
     "base_uri": "https://localhost:8080/"
    },
    "executionInfo": {
     "elapsed": 1135,
     "status": "ok",
     "timestamp": 1604027730567,
     "user": {
      "displayName": "Pacharapol O.",
      "photoUrl": "https://lh3.googleusercontent.com/a-/AOh14GiBNaVjsCxoMVUqEvSDC7eauF0V2ZD7B-TzevR1TQ=s64",
      "userId": "00378494490135533545"
     },
     "user_tz": -420
    },
    "id": "c0J7GD3ATCda",
    "outputId": "f8748ddd-9aab-40d2-ee9e-38ba742906b7"
   },
   "outputs": [
    {
     "name": "stdout",
     "output_type": "stream",
     "text": [
      "จำนวน comment หลังตัด: 62710\n",
      "จำนวนกระทู้หลังตัด: 1515\n"
     ]
    }
   ],
   "source": [
    "print('จำนวน comment หลังตัด:',df_Corpus.shape[0])\n",
    "print('จำนวนกระทู้หลังตัด:',len(df_Corpus.URLs.unique()))"
   ]
  },
  {
   "cell_type": "code",
   "execution_count": 23,
   "metadata": {
    "colab": {
     "base_uri": "https://localhost:8080/",
     "height": 233
    },
    "executionInfo": {
     "elapsed": 890,
     "status": "ok",
     "timestamp": 1604027730892,
     "user": {
      "displayName": "Pacharapol O.",
      "photoUrl": "https://lh3.googleusercontent.com/a-/AOh14GiBNaVjsCxoMVUqEvSDC7eauF0V2ZD7B-TzevR1TQ=s64",
      "userId": "00378494490135533545"
     },
     "user_tz": -420
    },
    "id": "PKvz8tQpTCdd",
    "outputId": "62e2d990-0240-4a01-cef5-515147c6750c"
   },
   "outputs": [
    {
     "data": {
      "text/html": [
       "<div>\n",
       "<style scoped>\n",
       "    .dataframe tbody tr th:only-of-type {\n",
       "        vertical-align: middle;\n",
       "    }\n",
       "\n",
       "    .dataframe tbody tr th {\n",
       "        vertical-align: top;\n",
       "    }\n",
       "\n",
       "    .dataframe thead th {\n",
       "        text-align: right;\n",
       "    }\n",
       "</style>\n",
       "<table border=\"1\" class=\"dataframe\">\n",
       "  <thead>\n",
       "    <tr style=\"text-align: right;\">\n",
       "      <th></th>\n",
       "      <th>URLs</th>\n",
       "      <th>headline</th>\n",
       "      <th>text</th>\n",
       "      <th>article_date</th>\n",
       "      <th>token_text</th>\n",
       "      <th>Retrived_date</th>\n",
       "    </tr>\n",
       "    <tr>\n",
       "      <th>commentId</th>\n",
       "      <th></th>\n",
       "      <th></th>\n",
       "      <th></th>\n",
       "      <th></th>\n",
       "      <th></th>\n",
       "      <th></th>\n",
       "    </tr>\n",
       "  </thead>\n",
       "  <tbody>\n",
       "    <tr>\n",
       "      <th>63657</th>\n",
       "      <td>https://pantip.com/topic/30011023</td>\n",
       "      <td>Fit and Firm to Slim ครั้งที่ 21\"New Year New ...</td>\n",
       "      <td>พี่มานะน่าร๊ากมากเลย เห็นแล้วอยากจกพุง</td>\n",
       "      <td>2013-01-04 07:03:18</td>\n",
       "      <td>None</td>\n",
       "      <td>2020-11-29 07:33:59.076</td>\n",
       "    </tr>\n",
       "    <tr>\n",
       "      <th>63658</th>\n",
       "      <td>https://pantip.com/topic/30011023</td>\n",
       "      <td>Fit and Firm to Slim ครั้งที่ 21\"New Year New ...</td>\n",
       "      <td>ลู่ 44 isoulmate เปเป้\\n\\nเช้า ... แซนวิส\\n\\nก...</td>\n",
       "      <td>2013-01-04 07:03:18</td>\n",
       "      <td>None</td>\n",
       "      <td>2020-11-29 07:33:59.076</td>\n",
       "    </tr>\n",
       "    <tr>\n",
       "      <th>63659</th>\n",
       "      <td>https://pantip.com/topic/30011023</td>\n",
       "      <td>Fit and Firm to Slim ครั้งที่ 21\"New Year New ...</td>\n",
       "      <td>ลำดับที่ 41\\nชื่อlogin โดนัทแสนหวาน \\nชื่อเล่น...</td>\n",
       "      <td>2013-01-04 07:03:18</td>\n",
       "      <td>None</td>\n",
       "      <td>2020-11-29 07:33:59.076</td>\n",
       "    </tr>\n",
       "    <tr>\n",
       "      <th>63660</th>\n",
       "      <td>https://pantip.com/topic/30011023</td>\n",
       "      <td>Fit and Firm to Slim ครั้งที่ 21\"New Year New ...</td>\n",
       "      <td>มีใครตั้งทู้ยังเอ่ย\\nงั้นเดี๋ยวเค้าตั้งให้ แป้...</td>\n",
       "      <td>2013-01-04 07:03:18</td>\n",
       "      <td>None</td>\n",
       "      <td>2020-11-29 07:33:59.076</td>\n",
       "    </tr>\n",
       "    <tr>\n",
       "      <th>63661</th>\n",
       "      <td>https://pantip.com/topic/30011023</td>\n",
       "      <td>Fit and Firm to Slim ครั้งที่ 21\"New Year New ...</td>\n",
       "      <td>กระทู้วันเสาร์ พร้อมแล้วค่ะ \\nhttp://pantip.co...</td>\n",
       "      <td>2013-01-04 07:03:18</td>\n",
       "      <td>None</td>\n",
       "      <td>2020-11-29 07:33:59.076</td>\n",
       "    </tr>\n",
       "  </tbody>\n",
       "</table>\n",
       "</div>"
      ],
      "text/plain": [
       "                                        URLs  \\\n",
       "commentId                                      \n",
       "63657      https://pantip.com/topic/30011023   \n",
       "63658      https://pantip.com/topic/30011023   \n",
       "63659      https://pantip.com/topic/30011023   \n",
       "63660      https://pantip.com/topic/30011023   \n",
       "63661      https://pantip.com/topic/30011023   \n",
       "\n",
       "                                                    headline  \\\n",
       "commentId                                                      \n",
       "63657      Fit and Firm to Slim ครั้งที่ 21\"New Year New ...   \n",
       "63658      Fit and Firm to Slim ครั้งที่ 21\"New Year New ...   \n",
       "63659      Fit and Firm to Slim ครั้งที่ 21\"New Year New ...   \n",
       "63660      Fit and Firm to Slim ครั้งที่ 21\"New Year New ...   \n",
       "63661      Fit and Firm to Slim ครั้งที่ 21\"New Year New ...   \n",
       "\n",
       "                                                        text  \\\n",
       "commentId                                                      \n",
       "63657                 พี่มานะน่าร๊ากมากเลย เห็นแล้วอยากจกพุง   \n",
       "63658      ลู่ 44 isoulmate เปเป้\\n\\nเช้า ... แซนวิส\\n\\nก...   \n",
       "63659      ลำดับที่ 41\\nชื่อlogin โดนัทแสนหวาน \\nชื่อเล่น...   \n",
       "63660      มีใครตั้งทู้ยังเอ่ย\\nงั้นเดี๋ยวเค้าตั้งให้ แป้...   \n",
       "63661      กระทู้วันเสาร์ พร้อมแล้วค่ะ \\nhttp://pantip.co...   \n",
       "\n",
       "                 article_date token_text           Retrived_date  \n",
       "commentId                                                         \n",
       "63657     2013-01-04 07:03:18       None 2020-11-29 07:33:59.076  \n",
       "63658     2013-01-04 07:03:18       None 2020-11-29 07:33:59.076  \n",
       "63659     2013-01-04 07:03:18       None 2020-11-29 07:33:59.076  \n",
       "63660     2013-01-04 07:03:18       None 2020-11-29 07:33:59.076  \n",
       "63661     2013-01-04 07:03:18       None 2020-11-29 07:33:59.076  "
      ]
     },
     "execution_count": 23,
     "metadata": {},
     "output_type": "execute_result"
    }
   ],
   "source": [
    "df_Corpus.insert(4,'token_text',None)\n",
    "df_Corpus.tail()"
   ]
  },
  {
   "cell_type": "markdown",
   "metadata": {},
   "source": [
    "เช็ควันเวลา"
   ]
  },
  {
   "cell_type": "code",
   "execution_count": 24,
   "metadata": {},
   "outputs": [
    {
     "name": "stdout",
     "output_type": "stream",
     "text": [
      "กระทู้เก่าที่สุด : 2013-01-03 09:20:18\n",
      "กระทู้ใหม่ที่สุด : 2020-09-11 19:21:41\n"
     ]
    }
   ],
   "source": [
    "print('กระทู้เก่าที่สุด :',min(df_Corpus.article_date))\n",
    "print('กระทู้ใหม่ที่สุด :',max(df_Corpus.article_date))"
   ]
  },
  {
   "cell_type": "markdown",
   "metadata": {},
   "source": [
    "เก็บเฉพาะหัวกระทู้"
   ]
  },
  {
   "cell_type": "code",
   "execution_count": 25,
   "metadata": {},
   "outputs": [
    {
     "data": {
      "text/html": [
       "<div>\n",
       "<style scoped>\n",
       "    .dataframe tbody tr th:only-of-type {\n",
       "        vertical-align: middle;\n",
       "    }\n",
       "\n",
       "    .dataframe tbody tr th {\n",
       "        vertical-align: top;\n",
       "    }\n",
       "\n",
       "    .dataframe thead th {\n",
       "        text-align: right;\n",
       "    }\n",
       "</style>\n",
       "<table border=\"1\" class=\"dataframe\">\n",
       "  <thead>\n",
       "    <tr style=\"text-align: right;\">\n",
       "      <th></th>\n",
       "      <th>URLs</th>\n",
       "      <th>headline</th>\n",
       "      <th>token_headline</th>\n",
       "      <th>mention_product</th>\n",
       "      <th>mention_brand</th>\n",
       "    </tr>\n",
       "    <tr>\n",
       "      <th>commentId</th>\n",
       "      <th></th>\n",
       "      <th></th>\n",
       "      <th></th>\n",
       "      <th></th>\n",
       "      <th></th>\n",
       "    </tr>\n",
       "  </thead>\n",
       "  <tbody>\n",
       "    <tr>\n",
       "      <th>63500</th>\n",
       "      <td>https://pantip.com/topic/30059506</td>\n",
       "      <td>อยากทราบว่า ตอนตั้งครรถ์คุณแม่บำรุงอะไรกันบ้าง...</td>\n",
       "      <td>None</td>\n",
       "      <td>None</td>\n",
       "      <td>None</td>\n",
       "    </tr>\n",
       "    <tr>\n",
       "      <th>63529</th>\n",
       "      <td>https://pantip.com/topic/30007179</td>\n",
       "      <td>นมยี่ห้ออะไรดีสุดสำหรับคนท้องค่ะ</td>\n",
       "      <td>None</td>\n",
       "      <td>None</td>\n",
       "      <td>None</td>\n",
       "    </tr>\n",
       "    <tr>\n",
       "      <th>63551</th>\n",
       "      <td>https://pantip.com/topic/30020409</td>\n",
       "      <td>ฝึกสอนลูกดื่มนม UHT จากกล่องสำเร็จยังไงกันบ้าง...</td>\n",
       "      <td>None</td>\n",
       "      <td>None</td>\n",
       "      <td>None</td>\n",
       "    </tr>\n",
       "    <tr>\n",
       "      <th>63578</th>\n",
       "      <td>https://pantip.com/topic/30049123</td>\n",
       "      <td>เมื่อเพื่อนของข้าพเจ้า...เข้าวงการบันเทิง!!! (...</td>\n",
       "      <td>None</td>\n",
       "      <td>None</td>\n",
       "      <td>None</td>\n",
       "    </tr>\n",
       "    <tr>\n",
       "      <th>63606</th>\n",
       "      <td>https://pantip.com/topic/30011023</td>\n",
       "      <td>Fit and Firm to Slim ครั้งที่ 21\"New Year New ...</td>\n",
       "      <td>None</td>\n",
       "      <td>None</td>\n",
       "      <td>None</td>\n",
       "    </tr>\n",
       "  </tbody>\n",
       "</table>\n",
       "</div>"
      ],
      "text/plain": [
       "                                        URLs  \\\n",
       "commentId                                      \n",
       "63500      https://pantip.com/topic/30059506   \n",
       "63529      https://pantip.com/topic/30007179   \n",
       "63551      https://pantip.com/topic/30020409   \n",
       "63578      https://pantip.com/topic/30049123   \n",
       "63606      https://pantip.com/topic/30011023   \n",
       "\n",
       "                                                    headline token_headline  \\\n",
       "commentId                                                                     \n",
       "63500      อยากทราบว่า ตอนตั้งครรถ์คุณแม่บำรุงอะไรกันบ้าง...           None   \n",
       "63529                       นมยี่ห้ออะไรดีสุดสำหรับคนท้องค่ะ           None   \n",
       "63551      ฝึกสอนลูกดื่มนม UHT จากกล่องสำเร็จยังไงกันบ้าง...           None   \n",
       "63578      เมื่อเพื่อนของข้าพเจ้า...เข้าวงการบันเทิง!!! (...           None   \n",
       "63606      Fit and Firm to Slim ครั้งที่ 21\"New Year New ...           None   \n",
       "\n",
       "          mention_product mention_brand  \n",
       "commentId                                \n",
       "63500                None          None  \n",
       "63529                None          None  \n",
       "63551                None          None  \n",
       "63578                None          None  \n",
       "63606                None          None  "
      ]
     },
     "execution_count": 25,
     "metadata": {},
     "output_type": "execute_result"
    }
   ],
   "source": [
    "df_thread = df_Corpus.copy()\n",
    "df_thread = df_thread[['URLs','headline']]\n",
    "df_thread.drop_duplicates(subset =\"URLs\", keep = 'first', inplace = True)\n",
    "df_thread.insert(2,'token_headline',None)\n",
    "df_thread.insert(3,'mention_product',None)\n",
    "df_thread.insert(4,'mention_brand',None)\n",
    "df_thread.tail()"
   ]
  },
  {
   "cell_type": "markdown",
   "metadata": {
    "id": "EpwX95XlTCdl"
   },
   "source": [
    "## 2.ตัดคำและเก็บลง MongoDB (ใช้ insight จาก jupyter งานก่อน)"
   ]
  },
  {
   "cell_type": "markdown",
   "metadata": {
    "id": "6U__d4agTCdl"
   },
   "source": [
    "https://www.thainlp.org/pythainlp/tutorials/notebooks/pythainlp-get-started.html#Thai-Characters"
   ]
  },
  {
   "cell_type": "code",
   "execution_count": 26,
   "metadata": {
    "executionInfo": {
     "elapsed": 962,
     "status": "ok",
     "timestamp": 1604030224171,
     "user": {
      "displayName": "Pacharapol O.",
      "photoUrl": "https://lh3.googleusercontent.com/a-/AOh14GiBNaVjsCxoMVUqEvSDC7eauF0V2ZD7B-TzevR1TQ=s64",
      "userId": "00378494490135533545"
     },
     "user_tz": -420
    },
    "id": "rAcuuoYiTCdu"
   },
   "outputs": [],
   "source": [
    "garbage_char = ['🥺','\\r','\\n','\\r\\n','\\xa0','www','application','ทางกฎหมาย','html'\n",
    "                ,'http','https','url','com','pantip','topic','_','–','พันทิป','^^'\n",
    "                ,'นะค่ะ','นะคะ','น่ะค่ะ','ฯ','ๆ','แฮ่','เย่ๆๆ','ว๊าว','ฮิ้วววววววววว','Number','กก'\n",
    "                ,'เมนู','Menu','Net','net','สาขา','บาท','ราคา','ฯ','ๆ','กก','อันนี้','😆', '🤣','😢'\n",
    "                ,'😏','😂','😿','ววว','xx','อิอิ','แย้ววว','นะคะ','นะค่ะ','มกราคม', 'กุมภาพันธ์'\n",
    "                ,'มีนาคม', 'เมษายน','พฤษภาคม', 'มิถุนายน', 'กรกฎาคม', 'สิงหาคม','กันยายน', 'ตุลาคม'\n",
    "                ,'พฤศจิกายน', 'ธันวาคม']\n",
    "garbage_char  = garbage_char + list_punc"
   ]
  },
  {
   "cell_type": "code",
   "execution_count": 27,
   "metadata": {
    "colab": {
     "base_uri": "https://localhost:8080/"
    },
    "executionInfo": {
     "elapsed": 813,
     "status": "ok",
     "timestamp": 1604027849933,
     "user": {
      "displayName": "Pacharapol O.",
      "photoUrl": "https://lh3.googleusercontent.com/a-/AOh14GiBNaVjsCxoMVUqEvSDC7eauF0V2ZD7B-TzevR1TQ=s64",
      "userId": "00378494490135533545"
     },
     "user_tz": -420
    },
    "id": "mAwAGA5ITCdx",
    "outputId": "d95e59bb-b35e-4592-f16e-0915a7975f84"
   },
   "outputs": [
    {
     "name": "stdout",
     "output_type": "stream",
     "text": [
      "จำนวน comment หลังตัด: 62710\n",
      "จำนวนกระทู้หลังตัด: 1515\n"
     ]
    }
   ],
   "source": [
    "print('จำนวน comment หลังตัด:',df_Corpus.shape[0])\n",
    "print('จำนวนกระทู้หลังตัด:',len(df_Corpus.URLs.unique()))"
   ]
  },
  {
   "cell_type": "code",
   "execution_count": 28,
   "metadata": {
    "executionInfo": {
     "elapsed": 2296,
     "status": "ok",
     "timestamp": 1604030226424,
     "user": {
      "displayName": "Pacharapol O.",
      "photoUrl": "https://lh3.googleusercontent.com/a-/AOh14GiBNaVjsCxoMVUqEvSDC7eauF0V2ZD7B-TzevR1TQ=s64",
      "userId": "00378494490135533545"
     },
     "user_tz": -420
    },
    "id": "8D5MebxcTCd0"
   },
   "outputs": [],
   "source": [
    "custom_list = ['ดัชมิลล์','ดัชมิล','dutch mill','dutchmilk','ดัชชี่','เมจิ','ซีพีเมจิ','ซีพี-เมจิ','cp-meiji','betagen','บีทาเก้น','บีทาเกน'\n",
    "               ,'โฟร์โมสต์','โฟร์โมส','โฟโมสต์','โฟโมต','โฟรโมสต์','โชคชัย','แดรี่โฮม','dairy home','เดรี่โฮม','อืมม มิลค์'\n",
    "               ,'Umm! Milk','เอ็มมิลค์','mmilk','เอ็มมิ้ลค์','แมคโนเลีย','นมฟาร์มโชคชัย','นมไทย-เดนมาร์ค','ไทยเดนมาร์ค','วัวแดง','หนองโพ','คาเนชั่น'\n",
    "               ,'สตอเบอร์รี่','สตรอว์เบอร์รี','รสสตรอเบอรี่','สตรอเบอรี่','สตรอวเบอรี่','สตอเบอรี่','สตรอเบอรี่','รสกาแฟ'\n",
    "               ,'ชอคโกแล็ต','ช็อกโกแลต','ช็อคโกแลต','ช๊อกโกแลต','ช็อคโกแล็ต','ช็อกโกเลต','มิ้นท์ชอค','มิ้นต์ช้อก','รสกล้วย'\n",
    "               ,'รสกาแฟ','รสหวาน','รสจืด','ไขมันต่ำ','ไขมัน 0%','low fat','0% fat','ขาดมันเนย','พร่องมันเนย','ไฮแคลเซียม'\n",
    "               ,'high protein','Hi Protein','HIgh Protein','Whey Formula','วานิลลา'\n",
    "               ,'ไฮโปรตีน','เวย์โปรตีน','whey','เวย์','อัลมอนด์','ซีเล็ค','ซีเล็คท์','กล้วยหอม','ไวท์คอฟฟี่','คาปูชิโน่','อเมริกาโน่'\n",
    "               ,'grass fed','free lactose','lactose free','พาสเจอไรซ์','พาสเจอร์ไรซ์','พาสเจอร์ไรส์','พาซเจอไรซ์','พาสเจอร์ไลท์'\n",
    "               ,'เมจิโกลด์ แม็กซ์','เมจิโกลด์','เมจิโกล์ดแม็กซ์','เมจิ บัลแกเรีย','เมจิบัลแกเรีย','นมเปรี้ยว','รสธรรมชาติ','รสกลมกล่อม'\n",
    "               ,'โยเกิต','โยเกิรต','โยเกิร์ตพร้อมดื่ม','น้ำตาลมะพร้าว','นมฮอกไกโด','เบดไทม์','ฟรีแลคโตส','แลคโตสฟรี','ริชเอสเพสโซ่'\n",
    "               ,'bedtime','bed time','เบดไทม์','ดาร์คช็อกโกแลต','ดาร์กช็อก','ดาร์กช็อกโกแลต'\n",
    "               ,'คาราเมล','ช็อกโกมอลต์','เมล่อน','ชาเขียวมัจฉะ','ฝาน้ำเงิน','ผลิตภันท์นม'\n",
    "               ,'7-Eleven','เซเว่น อีเลฟเว่น','เซเว่นอีเลฟเว่น','เซเว่น','เซเวน','7/11','7-11'\n",
    "               ,'ท็อปส์','ทอปส์','ท้อปส์','ท๊อปส์','แมคโคร','แม็คโคร','โลตัส','บิ๊กซี','bigc','Golden place','Big C'\n",
    "               ,'ขายไม่ดี','แพคคู่','ค่าจัดส่ง','shelf life','พนักงานขายนม'               \n",
    "               ,'ซื้อประจำ','ซื้อไม่ได้','ของแถม','ราคาสูง','น้ำนมโค'\n",
    "               ,'แพ้นม','แพ้นมวัว','เล่นเวท','นำ้หนัก','คุณแม่มือใหม่','นมอุ่น','ชานม','กินนม','ดื่มนม','ท้องเสีย','ขี้แตก'\n",
    "               ,'คีเฟอร์นม','พันทิป','ร้านนม','ซื้อไม่ได้','ลูกสุนัข','ลูกหมา','คายทิ้ง','เจมส์ จิ','เจมส์จิ','สตอรี่'\n",
    "              ]\n",
    "words = set(thai_words()).union(set(custom_list))\n",
    "trie = dict_trie(dict_source=words)"
   ]
  },
  {
   "cell_type": "code",
   "execution_count": 29,
   "metadata": {},
   "outputs": [],
   "source": [
    "def tokenize_custom(x, cusDict):\n",
    "    custom_punc = '!\"#$&\\'()*+,.:;<=>?@[\\\\]^_`{|}~'\n",
    "    wtkn = x.translate(str.maketrans('', '', custom_punc)).strip()\n",
    "    wtkn = word_tokenize(wtkn, engine=\"newmm\", custom_dict=cusDict, keep_whitespace=False)\n",
    "    wtkn = checkStopwords(wtkn)\n",
    "    wtkn = [w for w in wtkn if len(w) >= 2]\n",
    "    wtkn = [y for y in wtkn if y not in garbage_char]\n",
    "    wtkn = [s for s in wtkn if not s.isdigit()]\n",
    "    wtkn = normThai(wtkn)\n",
    "    return wtkn"
   ]
  },
  {
   "cell_type": "code",
   "execution_count": 30,
   "metadata": {},
   "outputs": [],
   "source": [
    "def create_InsertMany_Thread(df):\n",
    "    listofdict = []\n",
    "    for c,lx in enumerate(df.URLs,0):\n",
    "        info = {\n",
    "            \"URLs\": lx,\n",
    "            \"headline\": df.headline[c],\n",
    "            \"token_headline\":df.token_headline[c],\n",
    "            \"t_mention_dairy\":df.t_mention_dairy[c],\n",
    "            \"t_mention_product\": df.t_mention_product[c],\n",
    "            \"t_mention_brand\": df.t_mention_brand[c]\n",
    "        }\n",
    "        listofdict.append(info)\n",
    "    return listofdict"
   ]
  },
  {
   "cell_type": "code",
   "execution_count": 31,
   "metadata": {},
   "outputs": [],
   "source": [
    "def create_InsertMany_comments(df):\n",
    "    listofdict = []\n",
    "    for c,lx in enumerate(df.URLs,0):\n",
    "        info = {\n",
    "            \"commentId\":int(df.commentId[c]),\n",
    "            \"URLs\": lx,\n",
    "            \"headline\":df.headline[c],\n",
    "            \"text\": df.text[c],\n",
    "            \"Retrived_date\": df.Retrived_date[c],\n",
    "            \"token_text\":df.token_text[c],\n",
    "            \"cmt_mention_dairy\": df.cmt_mention_dairy[c],\n",
    "            \"cmt_mention_product\": df.cmt_mention_product[c],\n",
    "            \"cmt_mention_brand\": df.cmt_mention_brand[c]\n",
    "        }\n",
    "        listofdict.append(info)\n",
    "    return listofdict"
   ]
  },
  {
   "cell_type": "code",
   "execution_count": 32,
   "metadata": {},
   "outputs": [],
   "source": [
    "def generalize_keyword(wtkn):  \n",
    "    ret_wtkn = wtkn\n",
    "    for i,each in enumerate(ret_wtkn,0):\n",
    "        if each in ['ดัชมิลล์','ดัชมิล','dutch mill','dutchmill','dutchmilk','ดัชชี่']:\n",
    "            ret_wtkn[i] = 'ดัชมิลล์'\n",
    "        elif each  in ['เมจิ','ซีพีเมจิ','ซีพี-เมจิ','cp-meiji','meiji','meji','miji']:\n",
    "            ret_wtkn[i] = 'เมจิ'\n",
    "        elif each  in ['โฟร์โมสต์','โฟร์โมส','โฟโมสต์','โฟรโมสต์','โฟโมต','foremost']:\n",
    "            ret_wtkn[i] = 'โฟร์โมสต์'\n",
    "        elif each  in ['แดรี่โฮม','dairy home','เดรี่โฮม']:\n",
    "            ret_wtkn[i] = 'แดรี่โฮม'\n",
    "        elif each  in ['โชคชัย','อืมม มิลค์','umm milk','นมฟาร์มโชคชัย']:\n",
    "            ret_wtkn[i] = 'โชคชัย'\n",
    "        elif each  in ['เอ็มมิลค์','mmilk','เอ็มมิ้ลค์']:\n",
    "            ret_wtkn[i] = 'เอ็มมิลค์'\n",
    "        elif each  in ['นมไทย-เดนมาร์ค','ไทยเดนมาร์ค','วัวแดง']:\n",
    "            ret_wtkn[i] = 'ไทยเดนมาร์ค'\n",
    "        elif each  in ['สตอเบอร์รี่','สตรอว์เบอร์รี','รสสตรอเบอรี่','สตอเบอรี่','สตรอเบอรี่','สตรอวเบอรี่']:\n",
    "            ret_wtkn[i] = 'สตรอว์เบอร์รี'\n",
    "        elif each  in ['ชอคโกแล็ต','ช็อกโกแลต','ช็อคโกแลต','ช๊อกโกแลต','ช็อคโกแล็ต','ช็อกโกเลต','ช็อค']:\n",
    "            ret_wtkn[i] = 'ช็อกโกแลต'\n",
    "        elif each  in ['มิ้นท์ชอค','มิ้นต์ช้อก','ช็อคโกแลตมินต์','มินต์ช็อคโกแลต']:\n",
    "            ret_wtkn[i] = 'ช็อกโกแลตมินต์'\n",
    "        elif each  in ['ไขมันต่ำ','low fat','พร่องมันเนย']:\n",
    "            ret_wtkn[i] = 'ไขมันต่ำ'\n",
    "        elif each  in ['ไขมัน 0','0 fat','ขาดมันเนย']:\n",
    "            ret_wtkn[i] = 'ไขมัน 0%'\n",
    "        elif each  in ['high protein','hi protein','ไฮโปรตีน','เวย์โปรตีน']:\n",
    "            ret_wtkn[i] = 'ไฮโปรตีน'\n",
    "        elif each  in ['free lactose','lactose free','ฟรีแลคโตส','แลคโตสฟรี']:\n",
    "            ret_wtkn[i] = 'นมฟรีแลคโตส'\n",
    "        elif each  in ['พาสเจอไรซ์','พาสเจอร์ไรซ์','พาสเจอร์ไรส์','พาซเจอไรซ์','พาสเจอร์ไลท์']:\n",
    "            ret_wtkn[i] = 'พาสเจอร์ไรส์'\n",
    "        elif each  in ['เมจิโกลด์ แม็กซ์','เมจิโกลด์','เมจิโกล์ดแม็กซ์','gold','gold max']:\n",
    "            ret_wtkn[i] = 'เมจิโกลด์'\n",
    "        elif each  in ['ฝาน้ำเงิน','รสจืด']:\n",
    "            ret_wtkn[i] = 'รสจืด'\n",
    "        elif each  in ['ท็อปส์','ทอปส์','ท้อปส์','ท๊อปส์','tops']:\n",
    "            ret_wtkn[i] = 'tops'\n",
    "        elif each  in ['แมคโคร','แม็คโคร','makro']:\n",
    "            ret_wtkn[i] = 'makro'\n",
    "        elif each  in ['โลตัส','lotus']:\n",
    "            ret_wtkn[i] = 'lotus'\n",
    "        elif each  in ['บิ๊กซี','bigc','Big C']:\n",
    "            ret_wtkn[i] = 'bigc'\n",
    "        elif each  in ['ท้องเสีย','ขี้แตก']:\n",
    "            ret_wtkn[i] = 'ท้องเสีย'\n",
    "        elif each  in ['ลูกสุนัข','ลูกหมา']:\n",
    "            ret_wtkn[i] = 'ลูกสุนัข'\n",
    "        elif each in ['ดาร์คช็อกโกแลต','ดาร์กช็อก','ดาร์กช็อกโกแลต']:\n",
    "            ret_wtkn[i] = 'ดาร์คช็อกโกแลต'\n",
    "        elif each in ['bedtime','bed time','เบดไทม์']:\n",
    "            ret_wtkn[i] = 'เบดไทม์'\n",
    "        elif each in ['เมจิ บัลแกเรีย','เมจิบัลแกเรีย']:\n",
    "            ret_wtkn[i] = 'เมจิบัลแกเรีย'\n",
    "        elif each in ['โยเกิร์ต','โยเกิต','โยเกิรต','โยเกิร์ตพร้อมดื่ม']:\n",
    "            ret_wtkn[i] = 'โยเกิร์ต'\n",
    "        elif each in ['7-Eleven','เซเว่น อีเลฟเว่น','เซเว่นอีเลฟเว่น','เซเว่น','เซเวน','7/11','7-11']:\n",
    "            ret_wtkn[i] = '7-Eleven'\n",
    "        elif each in ['บีทาเก้น','บีทาเกน']:\n",
    "            ret_wtkn[i] = 'บีทาเก้น'\n",
    "        elif each in ['โปร','โปรโมชั่น']:\n",
    "            ret_wtkn[i] = 'โปรโมชั่น'\n",
    "    return ret_wtkn"
   ]
  },
  {
   "cell_type": "code",
   "execution_count": 33,
   "metadata": {},
   "outputs": [],
   "source": [
    "def find_brands_product(x,catType):\n",
    "    ret_wtkn = []\n",
    "    brands = ['ดัชมิลล์','เมจิ','โฟร์โมสต์','โชคชัย','แดรี่โฮม','เอ็มมิลค์','แมคโนเลีย','ไทยเดนมาร์ค','หนองโพ','คาเนชั่น','บีทาเก้น','จิตรลดา']\n",
    "    products = ['สตรอว์เบอร์รี','ช็อกโกแลต','รสกาแฟ','รสหวาน','รสจืด','ไขมันต่ำ','ไขมัน 0%','ไฮโปรตีน','อัลมอนด์'\n",
    "                ,'รสกล้วย','grass fed','นมฟรีแลคโตส','เมจิโกลด์','นมฮอกไกโด','เบดไทม์','ดาร์คช็อกโกแลต','ไฮแคลเซียม'\n",
    "                ,'คาราเมล','มอลต์','เมล่อน','ชาเขียวมัจฉะ','บัลแกเรีย','รสธรรมชาติ','รสกลมกล่อม','ซากุระ']\n",
    "    milk_kind=['นม','นมข้น','นมจืด','นมสด','กินนม','ดื่มนม','ขวดนม','นมวัว','นมกล่อง','ผลิตภันท์นม','น้ำนมโค'\n",
    "                     ,'โยเกิร์ต','นมเปรี้ยว','uht','นมถั่วเหลือง','นมผง','พาสเจอร์ไรส์']\n",
    "    \n",
    "    choiceList = []\n",
    "    if catType == 'b':\n",
    "        choiceList = brands\n",
    "    elif catType == 'm':\n",
    "        choiceList = milk_kind\n",
    "    elif catType == 'p':\n",
    "        choiceList = products\n",
    "        \n",
    "    for i,each in enumerate(x,0):\n",
    "        if each in choiceList:\n",
    "            ret_wtkn.append(each)\n",
    "    return ret_wtkn"
   ]
  },
  {
   "cell_type": "markdown",
   "metadata": {},
   "source": [
    "#### Copy ชุดคำจาก File มา Process ก่อนลง MongoDB"
   ]
  },
  {
   "cell_type": "code",
   "execution_count": 34,
   "metadata": {},
   "outputs": [],
   "source": [
    "df_process_comment = df_Corpus.reset_index().copy()\n",
    "df_process_thread = df_thread.reset_index().copy()"
   ]
  },
  {
   "cell_type": "markdown",
   "metadata": {},
   "source": [
    "2.1) Tokenize comment"
   ]
  },
  {
   "cell_type": "code",
   "execution_count": 35,
   "metadata": {},
   "outputs": [],
   "source": [
    "df_process_comment['token_text'] = df_process_comment['text'].apply(lambda x: tokenize_custom(x,trie))"
   ]
  },
  {
   "cell_type": "code",
   "execution_count": 36,
   "metadata": {},
   "outputs": [
    {
     "data": {
      "text/html": [
       "<div>\n",
       "<style scoped>\n",
       "    .dataframe tbody tr th:only-of-type {\n",
       "        vertical-align: middle;\n",
       "    }\n",
       "\n",
       "    .dataframe tbody tr th {\n",
       "        vertical-align: top;\n",
       "    }\n",
       "\n",
       "    .dataframe thead th {\n",
       "        text-align: right;\n",
       "    }\n",
       "</style>\n",
       "<table border=\"1\" class=\"dataframe\">\n",
       "  <thead>\n",
       "    <tr style=\"text-align: right;\">\n",
       "      <th></th>\n",
       "      <th>commentId</th>\n",
       "      <th>URLs</th>\n",
       "      <th>headline</th>\n",
       "      <th>text</th>\n",
       "      <th>article_date</th>\n",
       "      <th>token_text</th>\n",
       "      <th>Retrived_date</th>\n",
       "    </tr>\n",
       "  </thead>\n",
       "  <tbody>\n",
       "    <tr>\n",
       "      <th>0</th>\n",
       "      <td>1</td>\n",
       "      <td>https://pantip.com/topic/39868603</td>\n",
       "      <td>นมเมจิรสหวานทำไมหายากจังคะ</td>\n",
       "      <td>เมื่อก่อนหลายปีมาแล้ว ในเซเว่นยังมีนมเมจิรสหวา...</td>\n",
       "      <td>2020-05-05 13:22:59</td>\n",
       "      <td>[ปี, เซเว่น, ยังมี, นม, เมจิ, รสหวาน, ขาย, อยู...</td>\n",
       "      <td>2020-11-29 00:13:26.571</td>\n",
       "    </tr>\n",
       "    <tr>\n",
       "      <th>1</th>\n",
       "      <td>2</td>\n",
       "      <td>https://pantip.com/topic/39868603</td>\n",
       "      <td>นมเมจิรสหวานทำไมหายากจังคะ</td>\n",
       "      <td>เบาหวานครับ แฮ่ๆ</td>\n",
       "      <td>2020-05-05 13:22:59</td>\n",
       "      <td>[เบาหวาน]</td>\n",
       "      <td>2020-11-29 00:13:26.571</td>\n",
       "    </tr>\n",
       "    <tr>\n",
       "      <th>2</th>\n",
       "      <td>3</td>\n",
       "      <td>https://pantip.com/topic/39868603</td>\n",
       "      <td>นมเมจิรสหวานทำไมหายากจังคะ</td>\n",
       "      <td>หาซื้อไม่ได้นี่คิดได้  2 อย่างนะ.    คนไม่ค่อย...</td>\n",
       "      <td>2020-05-05 13:22:59</td>\n",
       "      <td>[หา, ซื้อไม่ได้, คิดได้, , คน, กินกัน, ไม่, ทำ...</td>\n",
       "      <td>2020-11-29 00:13:26.571</td>\n",
       "    </tr>\n",
       "    <tr>\n",
       "      <th>3</th>\n",
       "      <td>4</td>\n",
       "      <td>https://pantip.com/topic/39868603</td>\n",
       "      <td>นมเมจิรสหวานทำไมหายากจังคะ</td>\n",
       "      <td>เป็นรสที่ขายไม่ดีครับ\\nรสพื้นฐานคือ\\nจืด แบ่งย...</td>\n",
       "      <td>2020-05-05 13:22:59</td>\n",
       "      <td>[รส, ขายไม่ดี, รส, พื้นฐาน, จืด, แบ่ง, low fat...</td>\n",
       "      <td>2020-11-29 00:13:26.571</td>\n",
       "    </tr>\n",
       "    <tr>\n",
       "      <th>4</th>\n",
       "      <td>5</td>\n",
       "      <td>https://pantip.com/topic/39868603</td>\n",
       "      <td>นมเมจิรสหวานทำไมหายากจังคะ</td>\n",
       "      <td>ถ้าขายไม่ดีเค้าก็เอาออกครับ shelf life มันน้อย...</td>\n",
       "      <td>2020-05-05 13:22:59</td>\n",
       "      <td>[ขายไม่ดี, เค้า, shelf life, เวลา, หมดอายุ, ค่...</td>\n",
       "      <td>2020-11-29 00:13:26.571</td>\n",
       "    </tr>\n",
       "  </tbody>\n",
       "</table>\n",
       "</div>"
      ],
      "text/plain": [
       "   commentId                               URLs                    headline  \\\n",
       "0          1  https://pantip.com/topic/39868603  นมเมจิรสหวานทำไมหายากจังคะ   \n",
       "1          2  https://pantip.com/topic/39868603  นมเมจิรสหวานทำไมหายากจังคะ   \n",
       "2          3  https://pantip.com/topic/39868603  นมเมจิรสหวานทำไมหายากจังคะ   \n",
       "3          4  https://pantip.com/topic/39868603  นมเมจิรสหวานทำไมหายากจังคะ   \n",
       "4          5  https://pantip.com/topic/39868603  นมเมจิรสหวานทำไมหายากจังคะ   \n",
       "\n",
       "                                                text        article_date  \\\n",
       "0  เมื่อก่อนหลายปีมาแล้ว ในเซเว่นยังมีนมเมจิรสหวา... 2020-05-05 13:22:59   \n",
       "1                                   เบาหวานครับ แฮ่ๆ 2020-05-05 13:22:59   \n",
       "2  หาซื้อไม่ได้นี่คิดได้  2 อย่างนะ.    คนไม่ค่อย... 2020-05-05 13:22:59   \n",
       "3  เป็นรสที่ขายไม่ดีครับ\\nรสพื้นฐานคือ\\nจืด แบ่งย... 2020-05-05 13:22:59   \n",
       "4  ถ้าขายไม่ดีเค้าก็เอาออกครับ shelf life มันน้อย... 2020-05-05 13:22:59   \n",
       "\n",
       "                                          token_text           Retrived_date  \n",
       "0  [ปี, เซเว่น, ยังมี, นม, เมจิ, รสหวาน, ขาย, อยู... 2020-11-29 00:13:26.571  \n",
       "1                                          [เบาหวาน] 2020-11-29 00:13:26.571  \n",
       "2  [หา, ซื้อไม่ได้, คิดได้, , คน, กินกัน, ไม่, ทำ... 2020-11-29 00:13:26.571  \n",
       "3  [รส, ขายไม่ดี, รส, พื้นฐาน, จืด, แบ่ง, low fat... 2020-11-29 00:13:26.571  \n",
       "4  [ขายไม่ดี, เค้า, shelf life, เวลา, หมดอายุ, ค่... 2020-11-29 00:13:26.571  "
      ]
     },
     "execution_count": 36,
     "metadata": {},
     "output_type": "execute_result"
    }
   ],
   "source": [
    "df_process_comment.head()"
   ]
  },
  {
   "cell_type": "markdown",
   "metadata": {},
   "source": [
    "2.2) Generalized keyword (Brand & product)"
   ]
  },
  {
   "cell_type": "code",
   "execution_count": 37,
   "metadata": {},
   "outputs": [],
   "source": [
    "df_process_comment['token_text'] = df_process_comment['token_text'].apply(lambda x: generalize_keyword(x))"
   ]
  },
  {
   "cell_type": "code",
   "execution_count": 38,
   "metadata": {},
   "outputs": [],
   "source": [
    "df_process_comment['cmt_mention_dairy'] = df_process_comment['token_text'].apply(lambda x: find_brands_product(x,'m'))\n",
    "df_process_comment['cmt_mention_brand'] = df_process_comment['token_text'].apply(lambda x: find_brands_product(x,'b'))\n",
    "df_process_comment['cmt_mention_product'] = df_process_comment['token_text'].apply(lambda x: find_brands_product(x,'p'))"
   ]
  },
  {
   "cell_type": "markdown",
   "metadata": {},
   "source": [
    "2.3) Insert comments to DB"
   ]
  },
  {
   "cell_type": "code",
   "execution_count": 39,
   "metadata": {
    "colab": {
     "base_uri": "https://localhost:8080/"
    },
    "id": "Hunm5MT7TCd2",
    "outputId": "15710375-8df1-46f0-85a2-04c66e1de5d9"
   },
   "outputs": [
    {
     "data": {
      "text/plain": [
       "<pymongo.results.InsertManyResult at 0x27864118408>"
      ]
     },
     "execution_count": 39,
     "metadata": {},
     "output_type": "execute_result"
    }
   ],
   "source": [
    "col_comment.delete_many({})\n",
    "process_data = create_InsertMany_comments(df_process_comment)\n",
    "col_comment.insert_many(process_data)"
   ]
  },
  {
   "cell_type": "markdown",
   "metadata": {},
   "source": [
    "2.4) Tokenize head of thread"
   ]
  },
  {
   "cell_type": "code",
   "execution_count": 40,
   "metadata": {},
   "outputs": [],
   "source": [
    "df_process_thread['token_headline'] = df_process_thread['headline'].apply(lambda x: tokenize_custom(x,trie))"
   ]
  },
  {
   "cell_type": "markdown",
   "metadata": {},
   "source": [
    "2.5) Generalized keyword (Brand & product)"
   ]
  },
  {
   "cell_type": "code",
   "execution_count": 41,
   "metadata": {},
   "outputs": [],
   "source": [
    "df_process_thread['token_headline'] = df_process_thread['token_headline'].apply(lambda x: generalize_keyword(x))"
   ]
  },
  {
   "cell_type": "markdown",
   "metadata": {},
   "source": [
    "2.6) Mark domain/entity mention"
   ]
  },
  {
   "cell_type": "code",
   "execution_count": 42,
   "metadata": {},
   "outputs": [],
   "source": [
    "df_process_thread['t_mention_dairy'] = df_process_thread['token_headline'].apply(lambda x: find_brands_product(x,'m'))\n",
    "df_process_thread['t_mention_brand'] = df_process_thread['token_headline'].apply(lambda x: find_brands_product(x,'b'))\n",
    "df_process_thread['t_mention_product'] = df_process_thread['token_headline'].apply(lambda x: find_brands_product(x,'p'))"
   ]
  },
  {
   "cell_type": "code",
   "execution_count": 43,
   "metadata": {},
   "outputs": [
    {
     "data": {
      "text/html": [
       "<div>\n",
       "<style scoped>\n",
       "    .dataframe tbody tr th:only-of-type {\n",
       "        vertical-align: middle;\n",
       "    }\n",
       "\n",
       "    .dataframe tbody tr th {\n",
       "        vertical-align: top;\n",
       "    }\n",
       "\n",
       "    .dataframe thead th {\n",
       "        text-align: right;\n",
       "    }\n",
       "</style>\n",
       "<table border=\"1\" class=\"dataframe\">\n",
       "  <thead>\n",
       "    <tr style=\"text-align: right;\">\n",
       "      <th></th>\n",
       "      <th>commentId</th>\n",
       "      <th>URLs</th>\n",
       "      <th>headline</th>\n",
       "      <th>token_headline</th>\n",
       "      <th>mention_product</th>\n",
       "      <th>mention_brand</th>\n",
       "      <th>t_mention_dairy</th>\n",
       "      <th>t_mention_brand</th>\n",
       "      <th>t_mention_product</th>\n",
       "    </tr>\n",
       "  </thead>\n",
       "  <tbody>\n",
       "    <tr>\n",
       "      <th>0</th>\n",
       "      <td>1</td>\n",
       "      <td>https://pantip.com/topic/39868603</td>\n",
       "      <td>นมเมจิรสหวานทำไมหายากจังคะ</td>\n",
       "      <td>[นม, เมจิ, รสหวาน, หา]</td>\n",
       "      <td>None</td>\n",
       "      <td>None</td>\n",
       "      <td>[นม]</td>\n",
       "      <td>[เมจิ]</td>\n",
       "      <td>[รสหวาน]</td>\n",
       "    </tr>\n",
       "    <tr>\n",
       "      <th>1</th>\n",
       "      <td>8</td>\n",
       "      <td>https://pantip.com/topic/39597709</td>\n",
       "      <td>ระหว่างนมเมจิต้มกับนมเมจิที่ไม่ได้ต้ม เมื่อนำไ...</td>\n",
       "      <td>[นม, เมจิ, ต้ม, นม, เมจิ, ไม่, ได้, ต้ม, ทำ, เ...</td>\n",
       "      <td>None</td>\n",
       "      <td>None</td>\n",
       "      <td>[นม, นม]</td>\n",
       "      <td>[เมจิ, เมจิ]</td>\n",
       "      <td>[]</td>\n",
       "    </tr>\n",
       "    <tr>\n",
       "      <th>2</th>\n",
       "      <td>14</td>\n",
       "      <td>https://pantip.com/topic/39747201</td>\n",
       "      <td>ทำไมนมเมจิขวดใหญ่ 2 ลิตร ไม่มีซีลที่ปากแบบขวดเล็ก</td>\n",
       "      <td>[นม, เมจิ, ขวด, ลิตร, ไม่, ซีล, ปาก, ขวด]</td>\n",
       "      <td>None</td>\n",
       "      <td>None</td>\n",
       "      <td>[นม]</td>\n",
       "      <td>[เมจิ]</td>\n",
       "      <td>[]</td>\n",
       "    </tr>\n",
       "    <tr>\n",
       "      <th>3</th>\n",
       "      <td>15</td>\n",
       "      <td>https://pantip.com/topic/39732615</td>\n",
       "      <td>Makro มีนม meiji(เมจิ) ขายมั้ยครัย</td>\n",
       "      <td>[makro, นม, เมจิ, เมจิ, ขาย, รัย]</td>\n",
       "      <td>None</td>\n",
       "      <td>None</td>\n",
       "      <td>[นม]</td>\n",
       "      <td>[เมจิ, เมจิ]</td>\n",
       "      <td>[]</td>\n",
       "    </tr>\n",
       "    <tr>\n",
       "      <th>4</th>\n",
       "      <td>20</td>\n",
       "      <td>https://pantip.com/topic/39005469</td>\n",
       "      <td>ใครเคยสั่งซื้อนมเมจิ (Meiji) ให้มาส่งครั้งละเย...</td>\n",
       "      <td>[สั่งซื้อ, นม, เมจิ, เมจิ]</td>\n",
       "      <td>None</td>\n",
       "      <td>None</td>\n",
       "      <td>[นม]</td>\n",
       "      <td>[เมจิ, เมจิ]</td>\n",
       "      <td>[]</td>\n",
       "    </tr>\n",
       "  </tbody>\n",
       "</table>\n",
       "</div>"
      ],
      "text/plain": [
       "   commentId                               URLs  \\\n",
       "0          1  https://pantip.com/topic/39868603   \n",
       "1          8  https://pantip.com/topic/39597709   \n",
       "2         14  https://pantip.com/topic/39747201   \n",
       "3         15  https://pantip.com/topic/39732615   \n",
       "4         20  https://pantip.com/topic/39005469   \n",
       "\n",
       "                                            headline  \\\n",
       "0                         นมเมจิรสหวานทำไมหายากจังคะ   \n",
       "1  ระหว่างนมเมจิต้มกับนมเมจิที่ไม่ได้ต้ม เมื่อนำไ...   \n",
       "2  ทำไมนมเมจิขวดใหญ่ 2 ลิตร ไม่มีซีลที่ปากแบบขวดเล็ก   \n",
       "3                 Makro มีนม meiji(เมจิ) ขายมั้ยครัย   \n",
       "4  ใครเคยสั่งซื้อนมเมจิ (Meiji) ให้มาส่งครั้งละเย...   \n",
       "\n",
       "                                      token_headline mention_product  \\\n",
       "0                             [นม, เมจิ, รสหวาน, หา]            None   \n",
       "1  [นม, เมจิ, ต้ม, นม, เมจิ, ไม่, ได้, ต้ม, ทำ, เ...            None   \n",
       "2          [นม, เมจิ, ขวด, ลิตร, ไม่, ซีล, ปาก, ขวด]            None   \n",
       "3                  [makro, นม, เมจิ, เมจิ, ขาย, รัย]            None   \n",
       "4                         [สั่งซื้อ, นม, เมจิ, เมจิ]            None   \n",
       "\n",
       "  mention_brand t_mention_dairy t_mention_brand t_mention_product  \n",
       "0          None            [นม]          [เมจิ]          [รสหวาน]  \n",
       "1          None        [นม, นม]    [เมจิ, เมจิ]                []  \n",
       "2          None            [นม]          [เมจิ]                []  \n",
       "3          None            [นม]    [เมจิ, เมจิ]                []  \n",
       "4          None            [นม]    [เมจิ, เมจิ]                []  "
      ]
     },
     "execution_count": 43,
     "metadata": {},
     "output_type": "execute_result"
    }
   ],
   "source": [
    "df_process_thread.head()"
   ]
  },
  {
   "cell_type": "markdown",
   "metadata": {},
   "source": [
    "2.7) Insert thread to DB"
   ]
  },
  {
   "cell_type": "code",
   "execution_count": 44,
   "metadata": {},
   "outputs": [
    {
     "data": {
      "text/plain": [
       "<pymongo.results.InsertManyResult at 0x27852d25588>"
      ]
     },
     "execution_count": 44,
     "metadata": {},
     "output_type": "execute_result"
    }
   ],
   "source": [
    "col_thread.delete_many({})\n",
    "process_data = create_InsertMany_Thread(df_process_thread)\n",
    "col_thread.insert_many(process_data)"
   ]
  },
  {
   "cell_type": "code",
   "execution_count": 45,
   "metadata": {
    "executionInfo": {
     "elapsed": 890,
     "status": "ok",
     "timestamp": 1604027734766,
     "user": {
      "displayName": "Pacharapol O.",
      "photoUrl": "https://lh3.googleusercontent.com/a-/AOh14GiBNaVjsCxoMVUqEvSDC7eauF0V2ZD7B-TzevR1TQ=s64",
      "userId": "00378494490135533545"
     },
     "user_tz": -420
    },
    "id": "J30GMUlJTCdh"
   },
   "outputs": [],
   "source": [
    "del df_thread,df_Corpus,df_process_comment,df_process_thread"
   ]
  },
  {
   "cell_type": "markdown",
   "metadata": {},
   "source": [
    "### 3.Process หัวกระทู้ เพื่อทำ Topic Modeling"
   ]
  },
  {
   "cell_type": "markdown",
   "metadata": {},
   "source": [
    "เคสหลุดเงื่อนไข แต่ต้องใช้\n",
    "1. https://pantip.com/topic/30833944\n",
    "2. https://pantip.com/topic/30105850\n",
    "4. https://pantip.com/topic/35439062"
   ]
  },
  {
   "cell_type": "code",
   "execution_count": 46,
   "metadata": {},
   "outputs": [],
   "source": [
    "execption_urls = ['https://pantip.com/topic/30833944','https://pantip.com/topic/30105850','https://pantip.com/topic/35439062']"
   ]
  },
  {
   "cell_type": "code",
   "execution_count": 47,
   "metadata": {},
   "outputs": [],
   "source": [
    "cursor_thread = col_thread.find()\n",
    "df_thr_process = pd.DataFrame(cursor_thread)"
   ]
  },
  {
   "cell_type": "code",
   "execution_count": 48,
   "metadata": {},
   "outputs": [],
   "source": [
    "cursor_comment = col_comment.find()\n",
    "df_cmt_process = pd.DataFrame(cursor_comment)"
   ]
  },
  {
   "cell_type": "code",
   "execution_count": 49,
   "metadata": {},
   "outputs": [],
   "source": [
    "df_urls_milk = df_thr_process[(df_thr_process.t_mention_dairy.str.len() != 0) | (df_thr_process.URLs.isin(execption_urls))]\n",
    "df_urls_milk['t_mention_dairy'] = df_urls_milk['t_mention_dairy'].apply(lambda x: repr(set(x)))\n",
    "df_urls_milk['t_mention_brand'] = df_urls_milk['t_mention_brand'].apply(lambda x: repr(set(x)))\n",
    "df_urls_milk['t_mention_product'] = df_urls_milk['t_mention_product'].apply(lambda x: repr(set(x)))"
   ]
  },
  {
   "cell_type": "code",
   "execution_count": 50,
   "metadata": {},
   "outputs": [],
   "source": [
    "df_c_urls_milk = df_cmt_process[(df_cmt_process.cmt_mention_dairy.str.len() != 0) | (df_cmt_process.URLs.isin(execption_urls))]\n",
    "df_c_urls_milk['cmt_mention_dairy'] = df_c_urls_milk['cmt_mention_dairy'].apply(lambda x: repr(set(x)))\n",
    "df_c_urls_milk['cmt_mention_brand'] = df_c_urls_milk['cmt_mention_brand'].apply(lambda x: repr(set(x)))\n",
    "df_c_urls_milk['cmt_mention_product'] = df_c_urls_milk['cmt_mention_product'].apply(lambda x: repr(set(x)))"
   ]
  },
  {
   "cell_type": "code",
   "execution_count": 51,
   "metadata": {},
   "outputs": [
    {
     "name": "stdout",
     "output_type": "stream",
     "text": [
      "จำนวนกระทู้ที่มีการพูดถึงนม: 442\n",
      "%จำนวนกระทู้ที่มีการพูดถึงนมเทียบทั้งหมด: 29.17\n",
      "จำนวน comment ที่มีการพูดถึงนม: 8542\n",
      "%จำนวน comment ที่มีการพูดถึงนมเทียบทั้งหมด: 13.62\n"
     ]
    }
   ],
   "source": [
    "print('จำนวนกระทู้ที่มีการพูดถึงนม:',df_urls_milk.shape[0])\n",
    "print('%จำนวนกระทู้ที่มีการพูดถึงนมเทียบทั้งหมด:',round((df_urls_milk.shape[0]/df_thr_process.shape[0])*100,2))\n",
    "print('จำนวน comment ที่มีการพูดถึงนม:',df_c_urls_milk.shape[0])\n",
    "print('%จำนวน comment ที่มีการพูดถึงนมเทียบทั้งหมด:',round((df_c_urls_milk.shape[0]/df_cmt_process.shape[0])*100,2))"
   ]
  },
  {
   "cell_type": "markdown",
   "metadata": {},
   "source": [
    "* จำนวน comment ที่มีการพูดถึงนม ไม่ได้ impute มาจากหัวกระทู้ ถ้า impute จะมีเยอะกว่านี้อีก"
   ]
  },
  {
   "cell_type": "markdown",
   "metadata": {},
   "source": [
    "### EDA#2"
   ]
  },
  {
   "cell_type": "markdown",
   "metadata": {},
   "source": [
    "การระบุ domain ของนม บนหัวกระทู้"
   ]
  },
  {
   "cell_type": "code",
   "execution_count": 52,
   "metadata": {},
   "outputs": [
    {
     "name": "stderr",
     "output_type": "stream",
     "text": [
      "C:\\ProgramData\\Anaconda3\\lib\\site-packages\\ipykernel_launcher.py:2: UserWarning: Pandas doesn't allow columns to be created via a new attribute name - see https://pandas.pydata.org/pandas-docs/stable/indexing.html#attribute-access\n",
      "  \n"
     ]
    }
   ],
   "source": [
    "df_view = df_urls_milk[['URLs','t_mention_dairy']]\n",
    "df_view.column = ['URLs','t_mention_dairy']\n",
    "df_view_count = df_view.groupby('t_mention_dairy').count()"
   ]
  },
  {
   "cell_type": "code",
   "execution_count": 53,
   "metadata": {
    "scrolled": true
   },
   "outputs": [
    {
     "data": {
      "text/html": [
       "<div>\n",
       "<style scoped>\n",
       "    .dataframe tbody tr th:only-of-type {\n",
       "        vertical-align: middle;\n",
       "    }\n",
       "\n",
       "    .dataframe tbody tr th {\n",
       "        vertical-align: top;\n",
       "    }\n",
       "\n",
       "    .dataframe thead th {\n",
       "        text-align: right;\n",
       "    }\n",
       "</style>\n",
       "<table border=\"1\" class=\"dataframe\">\n",
       "  <thead>\n",
       "    <tr style=\"text-align: right;\">\n",
       "      <th></th>\n",
       "      <th>URLs</th>\n",
       "    </tr>\n",
       "    <tr>\n",
       "      <th>t_mention_dairy</th>\n",
       "      <th></th>\n",
       "    </tr>\n",
       "  </thead>\n",
       "  <tbody>\n",
       "    <tr>\n",
       "      <th>{'นม'}</th>\n",
       "      <td>216</td>\n",
       "    </tr>\n",
       "    <tr>\n",
       "      <th>{'นมสด'}</th>\n",
       "      <td>41</td>\n",
       "    </tr>\n",
       "    <tr>\n",
       "      <th>{'กินนม'}</th>\n",
       "      <td>39</td>\n",
       "    </tr>\n",
       "    <tr>\n",
       "      <th>{'ดื่มนม'}</th>\n",
       "      <td>31</td>\n",
       "    </tr>\n",
       "    <tr>\n",
       "      <th>{'โยเกิร์ต'}</th>\n",
       "      <td>28</td>\n",
       "    </tr>\n",
       "    <tr>\n",
       "      <th>{'นมวัว'}</th>\n",
       "      <td>8</td>\n",
       "    </tr>\n",
       "    <tr>\n",
       "      <th>{'พาสเจอร์ไรส์', 'นม'}</th>\n",
       "      <td>7</td>\n",
       "    </tr>\n",
       "    <tr>\n",
       "      <th>{'กินนม', 'นม'}</th>\n",
       "      <td>7</td>\n",
       "    </tr>\n",
       "    <tr>\n",
       "      <th>{'นมสด', 'นม'}</th>\n",
       "      <td>4</td>\n",
       "    </tr>\n",
       "    <tr>\n",
       "      <th>{'นมข้น'}</th>\n",
       "      <td>4</td>\n",
       "    </tr>\n",
       "    <tr>\n",
       "      <th>{'นมกล่อง'}</th>\n",
       "      <td>4</td>\n",
       "    </tr>\n",
       "    <tr>\n",
       "      <th>{'นมกล่อง', 'นม'}</th>\n",
       "      <td>4</td>\n",
       "    </tr>\n",
       "    <tr>\n",
       "      <th>{'uht', 'นม'}</th>\n",
       "      <td>3</td>\n",
       "    </tr>\n",
       "    <tr>\n",
       "      <th>{'นมเปรี้ยว'}</th>\n",
       "      <td>2</td>\n",
       "    </tr>\n",
       "    <tr>\n",
       "      <th>{'นมสด', 'นมข้น'}</th>\n",
       "      <td>2</td>\n",
       "    </tr>\n",
       "    <tr>\n",
       "      <th>{'นม', 'โยเกิร์ต'}</th>\n",
       "      <td>2</td>\n",
       "    </tr>\n",
       "    <tr>\n",
       "      <th>{'นมผง'}</th>\n",
       "      <td>2</td>\n",
       "    </tr>\n",
       "    <tr>\n",
       "      <th>{'พาสเจอร์ไรส์', 'นมสด', 'นม'}</th>\n",
       "      <td>2</td>\n",
       "    </tr>\n",
       "    <tr>\n",
       "      <th>{'นมกล่อง', 'นมผง'}</th>\n",
       "      <td>2</td>\n",
       "    </tr>\n",
       "    <tr>\n",
       "      <th>set()</th>\n",
       "      <td>2</td>\n",
       "    </tr>\n",
       "  </tbody>\n",
       "</table>\n",
       "</div>"
      ],
      "text/plain": [
       "                                URLs\n",
       "t_mention_dairy                     \n",
       "{'นม'}                           216\n",
       "{'นมสด'}                          41\n",
       "{'กินนม'}                         39\n",
       "{'ดื่มนม'}                        31\n",
       "{'โยเกิร์ต'}                      28\n",
       "{'นมวัว'}                          8\n",
       "{'พาสเจอร์ไรส์', 'นม'}             7\n",
       "{'กินนม', 'นม'}                    7\n",
       "{'นมสด', 'นม'}                     4\n",
       "{'นมข้น'}                          4\n",
       "{'นมกล่อง'}                        4\n",
       "{'นมกล่อง', 'นม'}                  4\n",
       "{'uht', 'นม'}                      3\n",
       "{'นมเปรี้ยว'}                      2\n",
       "{'นมสด', 'นมข้น'}                  2\n",
       "{'นม', 'โยเกิร์ต'}                 2\n",
       "{'นมผง'}                           2\n",
       "{'พาสเจอร์ไรส์', 'นมสด', 'นม'}     2\n",
       "{'นมกล่อง', 'นมผง'}                2\n",
       "set()                              2"
      ]
     },
     "execution_count": 53,
     "metadata": {},
     "output_type": "execute_result"
    }
   ],
   "source": [
    "df_view_count.sort_values(by='URLs',ascending=False)[0:20]\n",
    "\n",
    "# set() ในเคสนี้คือกระทู้ที่พูดถึงนมแต่ไม่มี domain ในหัวกระทู้ ต้องดึง custom"
   ]
  },
  {
   "cell_type": "markdown",
   "metadata": {},
   "source": [
    "การระบุชื่อ Product บนหัวกระทู้ (Headline)"
   ]
  },
  {
   "cell_type": "code",
   "execution_count": 54,
   "metadata": {},
   "outputs": [
    {
     "name": "stderr",
     "output_type": "stream",
     "text": [
      "C:\\ProgramData\\Anaconda3\\lib\\site-packages\\ipykernel_launcher.py:2: UserWarning: Pandas doesn't allow columns to be created via a new attribute name - see https://pandas.pydata.org/pandas-docs/stable/indexing.html#attribute-access\n",
      "  \n"
     ]
    }
   ],
   "source": [
    "df_view = df_urls_milk[['URLs','t_mention_product']]\n",
    "df_view.column = ['URLs','t_mention_product']\n",
    "df_view_count = df_view.groupby('t_mention_product').count()"
   ]
  },
  {
   "cell_type": "code",
   "execution_count": 55,
   "metadata": {
    "scrolled": true
   },
   "outputs": [
    {
     "data": {
      "text/html": [
       "<div>\n",
       "<style scoped>\n",
       "    .dataframe tbody tr th:only-of-type {\n",
       "        vertical-align: middle;\n",
       "    }\n",
       "\n",
       "    .dataframe tbody tr th {\n",
       "        vertical-align: top;\n",
       "    }\n",
       "\n",
       "    .dataframe thead th {\n",
       "        text-align: right;\n",
       "    }\n",
       "</style>\n",
       "<table border=\"1\" class=\"dataframe\">\n",
       "  <thead>\n",
       "    <tr style=\"text-align: right;\">\n",
       "      <th></th>\n",
       "      <th>URLs</th>\n",
       "    </tr>\n",
       "    <tr>\n",
       "      <th>t_mention_product</th>\n",
       "      <th></th>\n",
       "    </tr>\n",
       "  </thead>\n",
       "  <tbody>\n",
       "    <tr>\n",
       "      <th>set()</th>\n",
       "      <td>389</td>\n",
       "    </tr>\n",
       "    <tr>\n",
       "      <th>{'รสหวาน'}</th>\n",
       "      <td>10</td>\n",
       "    </tr>\n",
       "    <tr>\n",
       "      <th>{'ไฮโปรตีน'}</th>\n",
       "      <td>10</td>\n",
       "    </tr>\n",
       "    <tr>\n",
       "      <th>{'รสจืด'}</th>\n",
       "      <td>8</td>\n",
       "    </tr>\n",
       "    <tr>\n",
       "      <th>{'ไขมัน 0%'}</th>\n",
       "      <td>5</td>\n",
       "    </tr>\n",
       "    <tr>\n",
       "      <th>{'ไขมันต่ำ'}</th>\n",
       "      <td>5</td>\n",
       "    </tr>\n",
       "    <tr>\n",
       "      <th>{'ช็อกโกแลต'}</th>\n",
       "      <td>3</td>\n",
       "    </tr>\n",
       "    <tr>\n",
       "      <th>{'นมฮอกไกโด'}</th>\n",
       "      <td>2</td>\n",
       "    </tr>\n",
       "    <tr>\n",
       "      <th>{'รสกาแฟ'}</th>\n",
       "      <td>2</td>\n",
       "    </tr>\n",
       "    <tr>\n",
       "      <th>{'สตรอว์เบอร์รี'}</th>\n",
       "      <td>2</td>\n",
       "    </tr>\n",
       "    <tr>\n",
       "      <th>{'grass fed'}</th>\n",
       "      <td>1</td>\n",
       "    </tr>\n",
       "    <tr>\n",
       "      <th>{'รสกล้วย'}</th>\n",
       "      <td>1</td>\n",
       "    </tr>\n",
       "    <tr>\n",
       "      <th>{'รสจืด', 'ไฮโปรตีน'}</th>\n",
       "      <td>1</td>\n",
       "    </tr>\n",
       "    <tr>\n",
       "      <th>{'เบดไทม์'}</th>\n",
       "      <td>1</td>\n",
       "    </tr>\n",
       "    <tr>\n",
       "      <th>{'เมจิโกลด์'}</th>\n",
       "      <td>1</td>\n",
       "    </tr>\n",
       "    <tr>\n",
       "      <th>{'ไขมัน 0%', 'รสจืด'}</th>\n",
       "      <td>1</td>\n",
       "    </tr>\n",
       "  </tbody>\n",
       "</table>\n",
       "</div>"
      ],
      "text/plain": [
       "                       URLs\n",
       "t_mention_product          \n",
       "set()                   389\n",
       "{'รสหวาน'}               10\n",
       "{'ไฮโปรตีน'}             10\n",
       "{'รสจืด'}                 8\n",
       "{'ไขมัน 0%'}              5\n",
       "{'ไขมันต่ำ'}              5\n",
       "{'ช็อกโกแลต'}             3\n",
       "{'นมฮอกไกโด'}             2\n",
       "{'รสกาแฟ'}                2\n",
       "{'สตรอว์เบอร์รี'}         2\n",
       "{'grass fed'}             1\n",
       "{'รสกล้วย'}               1\n",
       "{'รสจืด', 'ไฮโปรตีน'}     1\n",
       "{'เบดไทม์'}               1\n",
       "{'เมจิโกลด์'}             1\n",
       "{'ไขมัน 0%', 'รสจืด'}     1"
      ]
     },
     "execution_count": 55,
     "metadata": {},
     "output_type": "execute_result"
    }
   ],
   "source": [
    "df_view_count.sort_values(by='URLs',ascending=False)[0:20]\n",
    "\n",
    "# set() หมายถึง กระทู้นั้นอยู่ใน domain นม แต่ไม่ระบุ product flavor"
   ]
  },
  {
   "cell_type": "markdown",
   "metadata": {},
   "source": [
    "การระบุชื่อ Product ใน comment ทั้งใต้หัวกระทู้ ที่มี domain ของนม และส่วน comment<br>\n",
    "อย่างไรก็ตามยังไม่ได้ impute domain จากหัวกระทู้เข้าไป"
   ]
  },
  {
   "cell_type": "code",
   "execution_count": 56,
   "metadata": {},
   "outputs": [
    {
     "name": "stderr",
     "output_type": "stream",
     "text": [
      "C:\\ProgramData\\Anaconda3\\lib\\site-packages\\ipykernel_launcher.py:2: UserWarning: Pandas doesn't allow columns to be created via a new attribute name - see https://pandas.pydata.org/pandas-docs/stable/indexing.html#attribute-access\n",
      "  \n"
     ]
    }
   ],
   "source": [
    "df_view = df_c_urls_milk[['URLs','cmt_mention_product']]\n",
    "df_view.column = ['URLs','cmt_mention_product']\n",
    "df_view_count = df_view.groupby('cmt_mention_product').count()"
   ]
  },
  {
   "cell_type": "code",
   "execution_count": 57,
   "metadata": {
    "scrolled": true
   },
   "outputs": [
    {
     "data": {
      "text/html": [
       "<div>\n",
       "<style scoped>\n",
       "    .dataframe tbody tr th:only-of-type {\n",
       "        vertical-align: middle;\n",
       "    }\n",
       "\n",
       "    .dataframe tbody tr th {\n",
       "        vertical-align: top;\n",
       "    }\n",
       "\n",
       "    .dataframe thead th {\n",
       "        text-align: right;\n",
       "    }\n",
       "</style>\n",
       "<table border=\"1\" class=\"dataframe\">\n",
       "  <thead>\n",
       "    <tr style=\"text-align: right;\">\n",
       "      <th></th>\n",
       "      <th>URLs</th>\n",
       "    </tr>\n",
       "    <tr>\n",
       "      <th>cmt_mention_product</th>\n",
       "      <th></th>\n",
       "    </tr>\n",
       "  </thead>\n",
       "  <tbody>\n",
       "    <tr>\n",
       "      <th>set()</th>\n",
       "      <td>6939</td>\n",
       "    </tr>\n",
       "    <tr>\n",
       "      <th>{'รสจืด'}</th>\n",
       "      <td>237</td>\n",
       "    </tr>\n",
       "    <tr>\n",
       "      <th>{'ไขมันต่ำ'}</th>\n",
       "      <td>160</td>\n",
       "    </tr>\n",
       "    <tr>\n",
       "      <th>{'ช็อกโกแลต'}</th>\n",
       "      <td>152</td>\n",
       "    </tr>\n",
       "    <tr>\n",
       "      <th>{'รสหวาน'}</th>\n",
       "      <td>89</td>\n",
       "    </tr>\n",
       "    <tr>\n",
       "      <th>...</th>\n",
       "      <td>...</td>\n",
       "    </tr>\n",
       "    <tr>\n",
       "      <th>{'รสจืด', 'รสหวาน', 'ช็อกโกแลต', 'รสกล้วย', 'เมล่อน', 'สตรอว์เบอร์รี'}</th>\n",
       "      <td>1</td>\n",
       "    </tr>\n",
       "    <tr>\n",
       "      <th>{'รสจืด', 'รสธรรมชาติ', 'บัลแกเรีย'}</th>\n",
       "      <td>1</td>\n",
       "    </tr>\n",
       "    <tr>\n",
       "      <th>{'รสจืด', 'รสกล้วย'}</th>\n",
       "      <td>1</td>\n",
       "    </tr>\n",
       "    <tr>\n",
       "      <th>{'รสจืด', 'นมฟรีแลคโตส'}</th>\n",
       "      <td>1</td>\n",
       "    </tr>\n",
       "    <tr>\n",
       "      <th>{'ช็อกโกแลต', 'คาราเมล'}</th>\n",
       "      <td>1</td>\n",
       "    </tr>\n",
       "  </tbody>\n",
       "</table>\n",
       "<p>178 rows × 1 columns</p>\n",
       "</div>"
      ],
      "text/plain": [
       "                                                    URLs\n",
       "cmt_mention_product                                     \n",
       "set()                                               6939\n",
       "{'รสจืด'}                                            237\n",
       "{'ไขมันต่ำ'}                                         160\n",
       "{'ช็อกโกแลต'}                                        152\n",
       "{'รสหวาน'}                                            89\n",
       "...                                                  ...\n",
       "{'รสจืด', 'รสหวาน', 'ช็อกโกแลต', 'รสกล้วย', 'เม...     1\n",
       "{'รสจืด', 'รสธรรมชาติ', 'บัลแกเรีย'}                   1\n",
       "{'รสจืด', 'รสกล้วย'}                                   1\n",
       "{'รสจืด', 'นมฟรีแลคโตส'}                               1\n",
       "{'ช็อกโกแลต', 'คาราเมล'}                               1\n",
       "\n",
       "[178 rows x 1 columns]"
      ]
     },
     "execution_count": 57,
     "metadata": {},
     "output_type": "execute_result"
    }
   ],
   "source": [
    "df_view_count.sort_values(by='URLs',ascending=False)"
   ]
  },
  {
   "cell_type": "markdown",
   "metadata": {},
   "source": [
    "การระบุชื่อ brand ใน comment"
   ]
  },
  {
   "cell_type": "code",
   "execution_count": 58,
   "metadata": {},
   "outputs": [
    {
     "name": "stderr",
     "output_type": "stream",
     "text": [
      "C:\\ProgramData\\Anaconda3\\lib\\site-packages\\ipykernel_launcher.py:2: UserWarning: Pandas doesn't allow columns to be created via a new attribute name - see https://pandas.pydata.org/pandas-docs/stable/indexing.html#attribute-access\n",
      "  \n"
     ]
    }
   ],
   "source": [
    "df_view = df_c_urls_milk[['URLs','cmt_mention_brand']]\n",
    "df_view.column = ['URLs','cmt_mention_brand']\n",
    "df_view_count = df_view.groupby('cmt_mention_brand').count()"
   ]
  },
  {
   "cell_type": "code",
   "execution_count": 59,
   "metadata": {
    "scrolled": true
   },
   "outputs": [
    {
     "data": {
      "text/html": [
       "<div>\n",
       "<style scoped>\n",
       "    .dataframe tbody tr th:only-of-type {\n",
       "        vertical-align: middle;\n",
       "    }\n",
       "\n",
       "    .dataframe tbody tr th {\n",
       "        vertical-align: top;\n",
       "    }\n",
       "\n",
       "    .dataframe thead th {\n",
       "        text-align: right;\n",
       "    }\n",
       "</style>\n",
       "<table border=\"1\" class=\"dataframe\">\n",
       "  <thead>\n",
       "    <tr style=\"text-align: right;\">\n",
       "      <th></th>\n",
       "      <th>URLs</th>\n",
       "    </tr>\n",
       "    <tr>\n",
       "      <th>cmt_mention_brand</th>\n",
       "      <th></th>\n",
       "    </tr>\n",
       "  </thead>\n",
       "  <tbody>\n",
       "    <tr>\n",
       "      <th>set()</th>\n",
       "      <td>5879</td>\n",
       "    </tr>\n",
       "    <tr>\n",
       "      <th>{'เมจิ'}</th>\n",
       "      <td>1160</td>\n",
       "    </tr>\n",
       "    <tr>\n",
       "      <th>{'โฟร์โมสต์'}</th>\n",
       "      <td>315</td>\n",
       "    </tr>\n",
       "    <tr>\n",
       "      <th>{'ดัชมิลล์'}</th>\n",
       "      <td>238</td>\n",
       "    </tr>\n",
       "    <tr>\n",
       "      <th>{'โชคชัย'}</th>\n",
       "      <td>122</td>\n",
       "    </tr>\n",
       "    <tr>\n",
       "      <th>{'ไทยเดนมาร์ค'}</th>\n",
       "      <td>98</td>\n",
       "    </tr>\n",
       "    <tr>\n",
       "      <th>{'จิตรลดา'}</th>\n",
       "      <td>73</td>\n",
       "    </tr>\n",
       "    <tr>\n",
       "      <th>{'หนองโพ'}</th>\n",
       "      <td>69</td>\n",
       "    </tr>\n",
       "    <tr>\n",
       "      <th>{'แดรี่โฮม'}</th>\n",
       "      <td>46</td>\n",
       "    </tr>\n",
       "    <tr>\n",
       "      <th>{'โฟร์โมสต์', 'เมจิ'}</th>\n",
       "      <td>43</td>\n",
       "    </tr>\n",
       "    <tr>\n",
       "      <th>{'ดัชมิลล์', 'เมจิ'}</th>\n",
       "      <td>34</td>\n",
       "    </tr>\n",
       "    <tr>\n",
       "      <th>{'เมจิ', 'ดัชมิลล์'}</th>\n",
       "      <td>26</td>\n",
       "    </tr>\n",
       "    <tr>\n",
       "      <th>{'ไทยเดนมาร์ค', 'หนองโพ'}</th>\n",
       "      <td>22</td>\n",
       "    </tr>\n",
       "    <tr>\n",
       "      <th>{'โฟร์โมสต์', 'ดัชมิลล์'}</th>\n",
       "      <td>21</td>\n",
       "    </tr>\n",
       "    <tr>\n",
       "      <th>{'บีทาเก้น'}</th>\n",
       "      <td>20</td>\n",
       "    </tr>\n",
       "    <tr>\n",
       "      <th>{'ไทยเดนมาร์ค', 'เมจิ'}</th>\n",
       "      <td>19</td>\n",
       "    </tr>\n",
       "    <tr>\n",
       "      <th>{'ไทยเดนมาร์ค', 'จิตรลดา'}</th>\n",
       "      <td>17</td>\n",
       "    </tr>\n",
       "    <tr>\n",
       "      <th>{'คาเนชั่น', 'เมจิ'}</th>\n",
       "      <td>17</td>\n",
       "    </tr>\n",
       "    <tr>\n",
       "      <th>{'คาเนชั่น'}</th>\n",
       "      <td>15</td>\n",
       "    </tr>\n",
       "    <tr>\n",
       "      <th>{'ไทยเดนมาร์ค', 'โฟร์โมสต์'}</th>\n",
       "      <td>15</td>\n",
       "    </tr>\n",
       "  </tbody>\n",
       "</table>\n",
       "</div>"
      ],
      "text/plain": [
       "                              URLs\n",
       "cmt_mention_brand                 \n",
       "set()                         5879\n",
       "{'เมจิ'}                      1160\n",
       "{'โฟร์โมสต์'}                  315\n",
       "{'ดัชมิลล์'}                   238\n",
       "{'โชคชัย'}                     122\n",
       "{'ไทยเดนมาร์ค'}                 98\n",
       "{'จิตรลดา'}                     73\n",
       "{'หนองโพ'}                      69\n",
       "{'แดรี่โฮม'}                    46\n",
       "{'โฟร์โมสต์', 'เมจิ'}           43\n",
       "{'ดัชมิลล์', 'เมจิ'}            34\n",
       "{'เมจิ', 'ดัชมิลล์'}            26\n",
       "{'ไทยเดนมาร์ค', 'หนองโพ'}       22\n",
       "{'โฟร์โมสต์', 'ดัชมิลล์'}       21\n",
       "{'บีทาเก้น'}                    20\n",
       "{'ไทยเดนมาร์ค', 'เมจิ'}         19\n",
       "{'ไทยเดนมาร์ค', 'จิตรลดา'}      17\n",
       "{'คาเนชั่น', 'เมจิ'}            17\n",
       "{'คาเนชั่น'}                    15\n",
       "{'ไทยเดนมาร์ค', 'โฟร์โมสต์'}    15"
      ]
     },
     "execution_count": 59,
     "metadata": {},
     "output_type": "execute_result"
    }
   ],
   "source": [
    "df_view_count.sort_values(by='URLs',ascending=False)[0:20]"
   ]
  },
  {
   "cell_type": "markdown",
   "metadata": {},
   "source": [
    "### 4.ทำ Topic Modeling และคัดเลือกกระทู้ที่มีความเกี่ยวข้อง แล้วดึงคำไปใช้"
   ]
  },
  {
   "cell_type": "raw",
   "metadata": {},
   "source": [
    "cursor_comment = col_comment.find()\n",
    "df_join_url = pd.DataFrame(cursor_comment)"
   ]
  },
  {
   "cell_type": "raw",
   "metadata": {},
   "source": [
    "df_join_url"
   ]
  },
  {
   "cell_type": "raw",
   "metadata": {},
   "source": [
    "df_join_url = df_join_url[(df_join_url.cmt_mention_dairy.str.len() != 0) | (df_join_url.URLs.isin(execption_urls))]"
   ]
  },
  {
   "cell_type": "raw",
   "metadata": {},
   "source": [
    "dictionary = gensim.corpora.Dictionary(df_join_url['token_text'])\n",
    "gensim_corpus = [dictionary.doc2bow(text, allow_update=True) for text in df_join_url['token_text']]\n",
    "word_frequencies = [[(dictionary[id], frequence) for id, frequence in couple] for couple in gensim_corpus]"
   ]
  },
  {
   "cell_type": "raw",
   "metadata": {},
   "source": [
    "#num_topics = 9\n",
    "chunksize = 4000                  # size of the doc looked at every pass\n",
    "iterations = 50\n",
    "eval_every = 1                    # Don't evaluate model perplexity, takes too much time.\n",
    "\n",
    "# Make a index to word dictionary.\n",
    "temp = dictionary[0]  # This is only to \"load\" the dictionary.\n",
    "id2word = dictionary.id2token\n",
    "\n",
    "%time model = gensim.models.LdaModel(corpus=gensim_corpus, id2word=id2word, chunksize=chunksize \\\n",
    "                                     ,alpha='auto', eta='auto',iterations=iterations, eval_every=eval_every)\n",
    "                                     #,num_topics=num_topics \\\n",
    "                                     #, eval_every=eval_every)"
   ]
  },
  {
   "cell_type": "raw",
   "metadata": {},
   "source": [
    "pyLDAvis.gensim.prepare(model, gensim_corpus, dictionary, R=40, lambda_step=0.1)"
   ]
  },
  {
   "cell_type": "markdown",
   "metadata": {},
   "source": [
    "### 5.get_term_topics เทียบคำที่ได้ไป Review Literature ตามค่าความน่าจะเป็น แล้วสรุป Term"
   ]
  },
  {
   "cell_type": "markdown",
   "metadata": {},
   "source": [
    "https://radimrehurek.com/gensim/models/ldamodel.html"
   ]
  },
  {
   "cell_type": "markdown",
   "metadata": {},
   "source": [
    "<b>Domain ที่พบหลักๆ นอกเหนือจากตัว Product ห้างที่ขาย แบรนด์ (อย่างไรก็ตามต้องทำ LDA Vis อีกรอบเพื่อจัดกลุ่มใหม่หลังคัดเลือก Topic/Term)</b><br>\n",
    "ค้นหาเทียบเคียงกับ ปัจจัยที่มีผลต่อการบริโภคนม\n",
    "1. แม่และเด็ก (Kurajdova et al, 2015)\n",
    "2. ออกกำลังกาย เล่นเวท วิ่ง พูดถึง Whey หางนม โปรตีน เป็นหลัก (คิดว่าแตกจากหมวดสุขภาพ)\n",
    "3. โปรโมชั่น เช่น จัดโปร ส่วนลด พันแถม แพ๊กคู่ (สุภชาติ ชัยณรงค์สิงห์, 2539)\n",
    "4. เอานมให้หมาแมวกิน (เทรนด์ใหม่)\n",
    "5. รสชาติและคุณภาพ เช่น หอม เหม็น มัน อร่อย บูด เสีย GMP (ชาลิสา สถีระกานนท์, 2560)\n",
    "6. ความยากง่ายในการหาซื้อ (Aen De Alwis et al, 2009 & สุภชาติ ชัยณรงค์สิงห์, 2539)\n",
    "7. ทำกาแฟ ทำขนม (Kurajdova et al, 2015)\n",
    "8. สุขภาพ ความสูง ส่วนผสมเพื่อสุขภาพ การขับถ่าย อนุมูลอิสระ (Kurajdova et al, 2015 & Aen De Alwis et al, 2009 & สุภชาติ ชัยณรงค์สิงห์, 2539)\n",
    "9. ราคาและความคุ้มค่า (ปิยฉัตร ช่างเหล็ก, 2561)\n",
    "<br><br>ตรงนี้ต้องหา Paper มาช่วยยันในบางหัวข้อ ถ้ามีส่วนเกินถือว่าเป็นบริบทของประเทศไทย"
   ]
  },
  {
   "cell_type": "raw",
   "metadata": {
    "scrolled": true
   },
   "source": [
    "# องค์ประกอบพื้นฐาน ตาม master ที่ใช้ตัดคำ และ Generalized\n",
    "#get_terms_topics('ซื้อ',dictionary,model)\n",
    "#get_terms_topics('ขาย',dictionary,model)\n",
    "\n",
    "# ไล่เช็คทีละ Topic โดยเลือกจาก Top30 Prob แต่ละกลุ่ม และดูตัวที่สนใจ (ตามทบทวนวรรณกรรม)\n",
    "# สุดที่ 99 กลุ่ม\n",
    "#get_topics_terms(99,dictionary,model).head(3)"
   ]
  },
  {
   "cell_type": "markdown",
   "metadata": {},
   "source": [
    "### 6.สรุป Term & reduced_keyword"
   ]
  },
  {
   "cell_type": "code",
   "execution_count": 60,
   "metadata": {},
   "outputs": [],
   "source": [
    "execption_urls = ['https://pantip.com/topic/30833944','https://pantip.com/topic/30105850','https://pantip.com/topic/35439062']"
   ]
  },
  {
   "cell_type": "code",
   "execution_count": 61,
   "metadata": {},
   "outputs": [],
   "source": [
    "attrributes = ['การบูด','โปร','โปรโมชั่น','แถม','บูด','เป็นผลดี','หา','หมดอายุ', 'กลิ่น','หอม','กลิ่นหอม', 'แนะนำ', 'กิน', 'shelf life','แม่','คุณแม่'\n",
    " ,'ลูก','เด็ก','เลี้ยงลูก','เลี้ยงเด็ก','พัฒนาการ','คุณแม่มือใหม่','สั่ง', 'ค่าใช้จ่าย', 'เพิ่มขึ้น', 'สินค้า', 'ชอบ','นิยม', 'สี', 'ซื้อไม่ได้'\n",
    " , 'ทิ้ง', 'จืด','หวาน' , 'fat', 'นิยม','ราคาสูง','กาแฟ','ชงกาแฟ','หาย','ต้ม','อุ่น','ร้อน', 'พื้นฐาน', 'ขายไม่ดี','สูง','ส่วนสูง'\n",
    " , 'กาแฟสด', 'จ่าย', 'ขาย', 'รส','รสชาติ', 'กลมกล่อม','ไขมัน','พนักงาน','ไมโครเวฟ','ฟาร์ม'\n",
    " ,'ส่วนผสม','ผสม','เบาหวาน','รสพื้นฐาน','โปรตีน','เวย์','เวท','วิ่ง','protein','whey','ขับถ่าย','อึ','dha','น้ำตาล','เบาหวาน'\n",
    " ,'ฝา', 'นมสด','ถ้วย', 'ร้าน', 'ดื่ม', 'เซเว่น', 'ขวด', 'นึกถึง', 'เสียใจ', 'แตก', 'ซื้อ','ขาย','มีลูก','เทรนเนอร์'\n",
    " ,'ขายไม่ดี','แพคคู่','ค่าจัดส่ง','shelf life','พนักงานขายนม','แพ้นม','แพ้นมวัว','เล่นเวท','ฝาน้ำเงิน','ฝาสีเขียว'\n",
    " ,'นมอุ่น','ชานม','กินนม','ดื่มนม','ท้องเสีย','ลูกสุนัข','สุนัข','หมา','แมว','คายทิ้ง','เจมส์จิ','แป้ง','ลดราคา'\n",
    " ,'ซื้อประจำ','ซื้อไม่ได้','คาปูชิโน่','อเมริกาโน่','ร้านนม','whey formula','ผิดสังเกต','เสียความรู้สึก','ชี้แจง','บำรุง','น้ำผึ้ง'\n",
    " ,'อาหารเสริม','มีประโยชน์','วิตามิน','นมผง','แคลเซี่ยม','ท้อง','แพะ','อร่อย','โภชนาการ','โรงเรียน','พ่อแม่','ครู','ยูเอชที'\n",
    " ,'ผู้บริโภค','ขโมย','ไอโอดีน','นมข้นหวาน','เนย','ตรวจสอบ','แกลลอน','มันดี','นมวัว','อาเจียน','เวฟ','ไมโครเวฟ','สารอาหาร'\n",
    " ,'ขนส่ง','ถูก','แพง','เค้ก','ทิ้ง','วันหมดอายุ','โอเมก้า','กล่อง','พลังงาน','โภชนาการ','ขนมปัง','ของแถม','ราคาสูง','น้ำนมโค'\n",
    " ,'บรรจุภัณฑ์','นมถั่วเหลือง','ความแข็งแรง','แข็งแรง','พรีเซ็นเตอร์','ญี่ปุ่น','น้ำผลไม้','ออกกำลังกาย','ประหยัด','วิปปิ้ง','เชื้อจุลินทรีย์'\n",
    " ,'แลคโตส']\n",
    "\n",
    "stores = ['tops','makro','lotus','bigc','7-Eleven']\n",
    "\n",
    "reduceCol = attrributes + stores"
   ]
  },
  {
   "cell_type": "code",
   "execution_count": 62,
   "metadata": {},
   "outputs": [
    {
     "data": {
      "text/plain": [
       "176"
      ]
     },
     "execution_count": 62,
     "metadata": {},
     "output_type": "execute_result"
    }
   ],
   "source": [
    "len(reduceCol)"
   ]
  },
  {
   "cell_type": "code",
   "execution_count": 63,
   "metadata": {},
   "outputs": [],
   "source": [
    "def reduced_keyword(wtkn,redCol):\n",
    "    del_list = []\n",
    "    ret_wtkn = wtkn\n",
    "    for each in ret_wtkn:\n",
    "        if each not in redCol:\n",
    "            del_list.append(each)\n",
    "    ret_wtkn = [x for x in ret_wtkn if x not in del_list]\n",
    "    return ret_wtkn"
   ]
  },
  {
   "cell_type": "markdown",
   "metadata": {
    "id": "NKW--A73mzli"
   },
   "source": [
    "### 7.สร้าง (Custom) Bag of word ด้วย dictionary.doc2bow จัดลง dataframe"
   ]
  },
  {
   "cell_type": "code",
   "execution_count": 64,
   "metadata": {},
   "outputs": [],
   "source": [
    "cursor_thread = col_thread.find()\n",
    "df_thr_process = pd.DataFrame(cursor_thread)"
   ]
  },
  {
   "cell_type": "code",
   "execution_count": 65,
   "metadata": {},
   "outputs": [],
   "source": [
    "cursor_comment = col_comment.find()\n",
    "df_cmt_process = pd.DataFrame(cursor_comment)"
   ]
  },
  {
   "cell_type": "code",
   "execution_count": 66,
   "metadata": {},
   "outputs": [],
   "source": [
    "# คัด headline ที่พูดถึง domain นม\n",
    "df_urls_milk = df_thr_process[(df_thr_process.t_mention_dairy.str.len() != 0) | (df_thr_process.URLs.isin(execption_urls))]\n",
    "df_urls_milk['t_mention_dairy'] = df_urls_milk['t_mention_dairy'].apply(lambda x: repr(x))\n",
    "df_urls_milk['t_mention_brand'] = df_urls_milk['t_mention_brand'].apply(lambda x: repr(x))\n",
    "df_urls_milk['t_mention_product'] = df_urls_milk['t_mention_product'].apply(lambda x: repr(x))\n",
    "\n",
    "df_cmt_process['cmt_mention_dairy'] = df_cmt_process['cmt_mention_dairy'].apply(lambda x: repr(x))\n",
    "df_cmt_process['cmt_mention_brand'] = df_cmt_process['cmt_mention_brand'].apply(lambda x: repr(x))\n",
    "df_cmt_process['cmt_mention_product'] = df_cmt_process['cmt_mention_product'].apply(lambda x: repr(x))"
   ]
  },
  {
   "cell_type": "code",
   "execution_count": 67,
   "metadata": {},
   "outputs": [],
   "source": [
    "# เมื่อ join กันแล้ว คอมเม้นทุกคอมเม้นจะอยู่ใน domain นมทั้งหมด\n",
    "df_join_url = pd.merge(df_urls_milk,df_cmt_process,how='inner',on='URLs')"
   ]
  },
  {
   "cell_type": "code",
   "execution_count": 68,
   "metadata": {},
   "outputs": [],
   "source": [
    "df_join_url.drop(columns=['_id_x','_id_y','headline_y'],inplace=True)\n",
    "df_join_url.rename(columns={\"headline_x\":\"headline\"},inplace=True)"
   ]
  },
  {
   "cell_type": "code",
   "execution_count": 69,
   "metadata": {},
   "outputs": [],
   "source": [
    "df_join_url['token_text_reduce'] = df_join_url['token_text'].apply(lambda x: reduced_keyword(x,reduceCol))"
   ]
  },
  {
   "cell_type": "code",
   "execution_count": 70,
   "metadata": {
    "scrolled": true
   },
   "outputs": [
    {
     "data": {
      "text/html": [
       "<div>\n",
       "<style scoped>\n",
       "    .dataframe tbody tr th:only-of-type {\n",
       "        vertical-align: middle;\n",
       "    }\n",
       "\n",
       "    .dataframe tbody tr th {\n",
       "        vertical-align: top;\n",
       "    }\n",
       "\n",
       "    .dataframe thead th {\n",
       "        text-align: right;\n",
       "    }\n",
       "</style>\n",
       "<table border=\"1\" class=\"dataframe\">\n",
       "  <thead>\n",
       "    <tr style=\"text-align: right;\">\n",
       "      <th></th>\n",
       "      <th>URLs</th>\n",
       "      <th>headline</th>\n",
       "      <th>token_headline</th>\n",
       "      <th>t_mention_dairy</th>\n",
       "      <th>t_mention_product</th>\n",
       "      <th>t_mention_brand</th>\n",
       "      <th>text</th>\n",
       "      <th>Retrived_date</th>\n",
       "      <th>token_text</th>\n",
       "      <th>cmt_mention_dairy</th>\n",
       "      <th>cmt_mention_product</th>\n",
       "      <th>cmt_mention_brand</th>\n",
       "      <th>token_text_reduce</th>\n",
       "    </tr>\n",
       "    <tr>\n",
       "      <th>commentId</th>\n",
       "      <th></th>\n",
       "      <th></th>\n",
       "      <th></th>\n",
       "      <th></th>\n",
       "      <th></th>\n",
       "      <th></th>\n",
       "      <th></th>\n",
       "      <th></th>\n",
       "      <th></th>\n",
       "      <th></th>\n",
       "      <th></th>\n",
       "      <th></th>\n",
       "      <th></th>\n",
       "    </tr>\n",
       "  </thead>\n",
       "  <tbody>\n",
       "    <tr>\n",
       "      <th>1</th>\n",
       "      <td>https://pantip.com/topic/39868603</td>\n",
       "      <td>นมเมจิรสหวานทำไมหายากจังคะ</td>\n",
       "      <td>[นม, เมจิ, รสหวาน, หา]</td>\n",
       "      <td>['นม']</td>\n",
       "      <td>['รสหวาน']</td>\n",
       "      <td>['เมจิ']</td>\n",
       "      <td>เมื่อก่อนหลายปีมาแล้ว ในเซเว่นยังมีนมเมจิรสหวา...</td>\n",
       "      <td>2020-11-29 00:13:26.571</td>\n",
       "      <td>[ปี, 7-Eleven, ยังมี, นม, เมจิ, รสหวาน, ขาย, อ...</td>\n",
       "      <td>['นม', 'นม']</td>\n",
       "      <td>['รสหวาน', 'รสหวาน']</td>\n",
       "      <td>['เมจิ']</td>\n",
       "      <td>[7-Eleven, ขาย, หาย, หา, tops, ขวด, ขวด, หา, ร...</td>\n",
       "    </tr>\n",
       "    <tr>\n",
       "      <th>2</th>\n",
       "      <td>https://pantip.com/topic/39868603</td>\n",
       "      <td>นมเมจิรสหวานทำไมหายากจังคะ</td>\n",
       "      <td>[นม, เมจิ, รสหวาน, หา]</td>\n",
       "      <td>['นม']</td>\n",
       "      <td>['รสหวาน']</td>\n",
       "      <td>['เมจิ']</td>\n",
       "      <td>เบาหวานครับ แฮ่ๆ</td>\n",
       "      <td>2020-11-29 00:13:26.571</td>\n",
       "      <td>[เบาหวาน]</td>\n",
       "      <td>[]</td>\n",
       "      <td>[]</td>\n",
       "      <td>[]</td>\n",
       "      <td>[เบาหวาน]</td>\n",
       "    </tr>\n",
       "  </tbody>\n",
       "</table>\n",
       "</div>"
      ],
      "text/plain": [
       "                                        URLs                    headline  \\\n",
       "commentId                                                                  \n",
       "1          https://pantip.com/topic/39868603  นมเมจิรสหวานทำไมหายากจังคะ   \n",
       "2          https://pantip.com/topic/39868603  นมเมจิรสหวานทำไมหายากจังคะ   \n",
       "\n",
       "                   token_headline t_mention_dairy t_mention_product  \\\n",
       "commentId                                                             \n",
       "1          [นม, เมจิ, รสหวาน, หา]          ['นม']        ['รสหวาน']   \n",
       "2          [นม, เมจิ, รสหวาน, หา]          ['นม']        ['รสหวาน']   \n",
       "\n",
       "          t_mention_brand                                               text  \\\n",
       "commentId                                                                      \n",
       "1                ['เมจิ']  เมื่อก่อนหลายปีมาแล้ว ในเซเว่นยังมีนมเมจิรสหวา...   \n",
       "2                ['เมจิ']                                   เบาหวานครับ แฮ่ๆ   \n",
       "\n",
       "                    Retrived_date  \\\n",
       "commentId                           \n",
       "1         2020-11-29 00:13:26.571   \n",
       "2         2020-11-29 00:13:26.571   \n",
       "\n",
       "                                                  token_text  \\\n",
       "commentId                                                      \n",
       "1          [ปี, 7-Eleven, ยังมี, นม, เมจิ, รสหวาน, ขาย, อ...   \n",
       "2                                                  [เบาหวาน]   \n",
       "\n",
       "          cmt_mention_dairy   cmt_mention_product cmt_mention_brand  \\\n",
       "commentId                                                             \n",
       "1              ['นม', 'นม']  ['รสหวาน', 'รสหวาน']          ['เมจิ']   \n",
       "2                        []                    []                []   \n",
       "\n",
       "                                           token_text_reduce  \n",
       "commentId                                                     \n",
       "1          [7-Eleven, ขาย, หาย, หา, tops, ขวด, ขวด, หา, ร...  \n",
       "2                                                  [เบาหวาน]  "
      ]
     },
     "execution_count": 70,
     "metadata": {},
     "output_type": "execute_result"
    }
   ],
   "source": [
    "df_join_url.set_index('commentId',inplace=True)\n",
    "df_join_url.head(2)"
   ]
  },
  {
   "cell_type": "code",
   "execution_count": 71,
   "metadata": {},
   "outputs": [],
   "source": [
    "dictionary = gensim.corpora.Dictionary(df_join_url['token_text_reduce'])"
   ]
  },
  {
   "cell_type": "code",
   "execution_count": 72,
   "metadata": {},
   "outputs": [],
   "source": [
    "df_join_url['reduce_bow'] = df_join_url[\"token_text_reduce\"].map(dictionary.doc2bow)\n",
    "df_join_url['reduce_bow_txt'] = df_join_url[\"reduce_bow\"].apply(lambda x:[(dictionary[id_], frequence) for id_, frequence in x])"
   ]
  },
  {
   "cell_type": "code",
   "execution_count": 73,
   "metadata": {
    "scrolled": true
   },
   "outputs": [],
   "source": [
    "def freq_brand(x):\n",
    "    e = eval(x)\n",
    "    e.sort()\n",
    "    f = [(k,len(list(g))) for k, g in groupby(e)]\n",
    "    return f"
   ]
  },
  {
   "cell_type": "code",
   "execution_count": 74,
   "metadata": {},
   "outputs": [],
   "source": [
    "df_join_url['t_mention_dairy'] = df_join_url['t_mention_dairy'].apply(lambda x: freq_brand(x))\n",
    "df_join_url['t_mention_product'] = df_join_url['t_mention_product'].apply(lambda x: freq_brand(x))\n",
    "df_join_url['t_mention_brand'] = df_join_url['t_mention_brand'].apply(lambda x: freq_brand(x))\n",
    "df_join_url['cmt_mention_dairy'] = df_join_url['cmt_mention_dairy'].apply(lambda x: freq_brand(x))\n",
    "df_join_url['cmt_mention_product'] = df_join_url['cmt_mention_product'].apply(lambda x: freq_brand(x))\n",
    "df_join_url['cmt_mention_brand'] = df_join_url['cmt_mention_brand'].apply(lambda x: freq_brand(x))\n",
    "df_join_url.drop(columns=['Retrived_date','reduce_bow'],inplace=True)"
   ]
  },
  {
   "cell_type": "code",
   "execution_count": 75,
   "metadata": {
    "scrolled": true
   },
   "outputs": [],
   "source": [
    "df_join_url.insert(3,'mention_domain',value=None)\n",
    "df_join_url.insert(4,'mention_product',value=None)\n",
    "df_join_url.insert(5,'mention_brand',value=None)"
   ]
  },
  {
   "cell_type": "markdown",
   "metadata": {},
   "source": [
    "Impute brand & product เข้า comment และสรุปก่อนเข้า BoW"
   ]
  },
  {
   "cell_type": "raw",
   "metadata": {},
   "source": [
    "# Impute จากหัวกระทู้\n",
    "\n",
    "# 1.headline มี comment มี เอา comment\n",
    "# 2.headline มี comment ไม่มี เอา headline\n",
    "# 3.headline ไม่มี comment มี เอา comment\n",
    "# 4.ไม่มีทั้งคู่ ปล่อยไป"
   ]
  },
  {
   "cell_type": "code",
   "execution_count": 76,
   "metadata": {},
   "outputs": [],
   "source": [
    "for i,e in enumerate(df_join_url.index,0):\n",
    "    if (len(df_join_url.t_mention_dairy.iloc[i]) > 0) & (len(df_join_url.cmt_mention_dairy.iloc[i]) > 0):         # 1.\n",
    "        df_join_url['mention_domain'].iloc[i] = df_join_url.cmt_mention_dairy.iloc[i]\n",
    "    elif  (len(df_join_url.t_mention_dairy.iloc[i]) > 0) & (len(df_join_url.cmt_mention_dairy.iloc[i]) == 0):  # 2.\n",
    "        df_join_url['mention_domain'].iloc[i] = df_join_url.t_mention_dairy.iloc[i]\n",
    "    elif  (len(df_join_url.t_mention_dairy.iloc[i]) == 0) & (len(df_join_url.cmt_mention_dairy.iloc[i]) > 0):  # 3.\n",
    "        df_join_url['mention_domain'].iloc[i] = df_join_url.cmt_mention_dairy.iloc[i]\n",
    "    else:\n",
    "        df_join_url['mention_domain'].iloc[i] = None"
   ]
  },
  {
   "cell_type": "code",
   "execution_count": 77,
   "metadata": {},
   "outputs": [],
   "source": [
    "for i,e in enumerate(df_join_url.index,0):\n",
    "    if (len(df_join_url.t_mention_brand.iloc[i]) > 0) & (len(df_join_url.cmt_mention_brand.iloc[i]) > 0):         # 1.\n",
    "        df_join_url['mention_brand'].iloc[i] = df_join_url.cmt_mention_brand.iloc[i]\n",
    "    elif  (len(df_join_url.t_mention_brand.iloc[i]) > 0) & (len(df_join_url.cmt_mention_brand.iloc[i]) == 0):  # 2.\n",
    "        df_join_url['mention_brand'].iloc[i] = df_join_url.t_mention_brand.iloc[i]\n",
    "    elif  (len(df_join_url.t_mention_brand.iloc[i]) == 0) & (len(df_join_url.cmt_mention_brand.iloc[i]) > 0):  # 3.\n",
    "        df_join_url['mention_brand'].iloc[i] = df_join_url.cmt_mention_brand.iloc[i]\n",
    "    else:\n",
    "        df_join_url['mention_brand'].iloc[i] = None"
   ]
  },
  {
   "cell_type": "code",
   "execution_count": 78,
   "metadata": {},
   "outputs": [],
   "source": [
    "for i,e in enumerate(df_join_url.index,0):\n",
    "    if (len(df_join_url.t_mention_product.iloc[i]) > 0) & (len(df_join_url.cmt_mention_product.iloc[i]) > 0):         # 1.\n",
    "        df_join_url['mention_product'].iloc[i] = df_join_url.cmt_mention_product.iloc[i]\n",
    "    elif  (len(df_join_url.t_mention_product.iloc[i]) > 0) & (len(df_join_url.cmt_mention_product.iloc[i]) == 0):  # 2.\n",
    "        df_join_url['mention_product'].iloc[i] = df_join_url.t_mention_product.iloc[i]\n",
    "    elif  (len(df_join_url.t_mention_product.iloc[i]) == 0) & (len(df_join_url.cmt_mention_product.iloc[i]) > 0):  # 3.\n",
    "        df_join_url['mention_product'].iloc[i] = df_join_url.cmt_mention_product.iloc[i]\n",
    "    else:\n",
    "        df_join_url['mention_product'].iloc[i] = None"
   ]
  },
  {
   "cell_type": "code",
   "execution_count": 79,
   "metadata": {},
   "outputs": [],
   "source": [
    "df_join_url.drop(columns=['t_mention_dairy','t_mention_product','t_mention_brand'\n",
    "                          ,'cmt_mention_dairy','cmt_mention_product','cmt_mention_brand'],inplace=True)"
   ]
  },
  {
   "cell_type": "code",
   "execution_count": 80,
   "metadata": {},
   "outputs": [
    {
     "data": {
      "text/html": [
       "<div>\n",
       "<style scoped>\n",
       "    .dataframe tbody tr th:only-of-type {\n",
       "        vertical-align: middle;\n",
       "    }\n",
       "\n",
       "    .dataframe tbody tr th {\n",
       "        vertical-align: top;\n",
       "    }\n",
       "\n",
       "    .dataframe thead th {\n",
       "        text-align: right;\n",
       "    }\n",
       "</style>\n",
       "<table border=\"1\" class=\"dataframe\">\n",
       "  <thead>\n",
       "    <tr style=\"text-align: right;\">\n",
       "      <th></th>\n",
       "      <th>URLs</th>\n",
       "      <th>headline</th>\n",
       "      <th>token_headline</th>\n",
       "      <th>mention_domain</th>\n",
       "      <th>mention_product</th>\n",
       "      <th>mention_brand</th>\n",
       "      <th>text</th>\n",
       "      <th>token_text</th>\n",
       "      <th>token_text_reduce</th>\n",
       "      <th>reduce_bow_txt</th>\n",
       "    </tr>\n",
       "    <tr>\n",
       "      <th>commentId</th>\n",
       "      <th></th>\n",
       "      <th></th>\n",
       "      <th></th>\n",
       "      <th></th>\n",
       "      <th></th>\n",
       "      <th></th>\n",
       "      <th></th>\n",
       "      <th></th>\n",
       "      <th></th>\n",
       "      <th></th>\n",
       "    </tr>\n",
       "  </thead>\n",
       "  <tbody>\n",
       "    <tr>\n",
       "      <th>63548</th>\n",
       "      <td>https://pantip.com/topic/30007179</td>\n",
       "      <td>นมยี่ห้ออะไรดีสุดสำหรับคนท้องค่ะ</td>\n",
       "      <td>[นม, ยี่ห้อ, ดี, สำหรับ, คน, ท้อง]</td>\n",
       "      <td>[(นม, 1)]</td>\n",
       "      <td>None</td>\n",
       "      <td>None</td>\n",
       "      <td>เราว่าไม่จำเป็นต้องบำรุงอะไรมากนะ แค่ทานอาหารใ...</td>\n",
       "      <td>[ไม่, จำเป็นต้อง, บำรุง, ทานอาหาร, หมู่, เผลอ,...</td>\n",
       "      <td>[บำรุง, บำรุง]</td>\n",
       "      <td>[(บำรุง, 2)]</td>\n",
       "    </tr>\n",
       "    <tr>\n",
       "      <th>63549</th>\n",
       "      <td>https://pantip.com/topic/30007179</td>\n",
       "      <td>นมยี่ห้ออะไรดีสุดสำหรับคนท้องค่ะ</td>\n",
       "      <td>[นม, ยี่ห้อ, ดี, สำหรับ, คน, ท้อง]</td>\n",
       "      <td>[(นมถั่วเหลือง, 1), (นมวัว, 1)]</td>\n",
       "      <td>None</td>\n",
       "      <td>None</td>\n",
       "      <td>เราไม่ดื่มนมวัวเลยเพราะแพ้ ดื่มแล้วท้องเสีย ช่...</td>\n",
       "      <td>[ไม่, ดื่ม, นมวัว, แพ้, ดื่ม, ท้องเสีย, ท้อง, ...</td>\n",
       "      <td>[ดื่ม, นมวัว, ดื่ม, ท้องเสีย, ท้อง, ดื่ม, นมถั...</td>\n",
       "      <td>[(กิน, 4), (ดื่ม, 4), (ลูก, 1), (วิตามิน, 1), ...</td>\n",
       "    </tr>\n",
       "    <tr>\n",
       "      <th>63550</th>\n",
       "      <td>https://pantip.com/topic/30007179</td>\n",
       "      <td>นมยี่ห้ออะไรดีสุดสำหรับคนท้องค่ะ</td>\n",
       "      <td>[นม, ยี่ห้อ, ดี, สำหรับ, คน, ท้อง]</td>\n",
       "      <td>[(นม, 2), (นมถั่วเหลือง, 1), (นมสด, 1), (นมเปร...</td>\n",
       "      <td>None</td>\n",
       "      <td>None</td>\n",
       "      <td>เราทานนมทุกชนิดเลยค่ะ นมสด นมถั่วเหลือง นมเปรี...</td>\n",
       "      <td>[ทาน, นม, ทุกชนิด, นมสด, นมถั่วเหลือง, นมเปรี้...</td>\n",
       "      <td>[นมสด, นมถั่วเหลือง, กิน, อร่อย]</td>\n",
       "      <td>[(กิน, 1), (นมสด, 1), (อร่อย, 1), (นมถั่วเหลือ...</td>\n",
       "    </tr>\n",
       "    <tr>\n",
       "      <th>63551</th>\n",
       "      <td>https://pantip.com/topic/30020409</td>\n",
       "      <td>ฝึกสอนลูกดื่มนม UHT จากกล่องสำเร็จยังไงกันบ้าง...</td>\n",
       "      <td>[ฝึกสอน, ลูก, ดื่มนม, uht, กล่อง, สำเร็จ, แชร์...</td>\n",
       "      <td>[(นม, 1)]</td>\n",
       "      <td>None</td>\n",
       "      <td>None</td>\n",
       "      <td>พรุ่งนี้ลูกชายอายุครบ 1 ขวบ 3 เดือน หม่ำนมแม่จ...</td>\n",
       "      <td>[พรุ่งนี้, ลูกชาย, อายุ, ขวบ, เดือน, หม่ำ, นม,...</td>\n",
       "      <td>[แม่, ขวด, กล่อง, คุณแม่, ลูก]</td>\n",
       "      <td>[(ขวด, 1), (กล่อง, 1), (ลูก, 1), (แม่, 1), (คุ...</td>\n",
       "    </tr>\n",
       "    <tr>\n",
       "      <th>63552</th>\n",
       "      <td>https://pantip.com/topic/30020409</td>\n",
       "      <td>ฝึกสอนลูกดื่มนม UHT จากกล่องสำเร็จยังไงกันบ้าง...</td>\n",
       "      <td>[ฝึกสอน, ลูก, ดื่มนม, uht, กล่อง, สำเร็จ, แชร์...</td>\n",
       "      <td>[(กินนม, 1), (นม, 2), (พาสเจอร์ไรส์, 1)]</td>\n",
       "      <td>None</td>\n",
       "      <td>None</td>\n",
       "      <td>ของเราให้นมพาสเจอร์ไรส์ (อยู่ ตปท.) ตอนแรกเราผ...</td>\n",
       "      <td>[ให้นม, พาสเจอร์ไรส์, ตปท, ตอนแรก, ผสม, นม, แม...</td>\n",
       "      <td>[ผสม, แม่, ถ้วย, ลูก, ดื่ม, กิน, ผสม, กิน, ดื่...</td>\n",
       "      <td>[(กิน, 3), (ดื่ม, 2), (กินนม, 1), (ผสม, 2), (ล...</td>\n",
       "    </tr>\n",
       "    <tr>\n",
       "      <th>63553</th>\n",
       "      <td>https://pantip.com/topic/30020409</td>\n",
       "      <td>ฝึกสอนลูกดื่มนม UHT จากกล่องสำเร็จยังไงกันบ้าง...</td>\n",
       "      <td>[ฝึกสอน, ลูก, ดื่มนม, uht, กล่อง, สำเร็จ, แชร์...</td>\n",
       "      <td>[(นม, 1)]</td>\n",
       "      <td>None</td>\n",
       "      <td>None</td>\n",
       "      <td>ลองให้เค้าดูดจากกล่องแล้วเค้าไม่เอาเลยค่ะ แต่น...</td>\n",
       "      <td>[ลอง, เค้า, ดูด, กล่อง, เค้า, ไม่, เอาเลย, น้ำ...</td>\n",
       "      <td>[กล่อง, น้ำผลไม้, ชอบ, ดื่ม, กล่อง, ผสม, แม่]</td>\n",
       "      <td>[(ดื่ม, 1), (ชอบ, 1), (กล่อง, 2), (ผสม, 1), (แ...</td>\n",
       "    </tr>\n",
       "    <tr>\n",
       "      <th>63554</th>\n",
       "      <td>https://pantip.com/topic/30020409</td>\n",
       "      <td>ฝึกสอนลูกดื่มนม UHT จากกล่องสำเร็จยังไงกันบ้าง...</td>\n",
       "      <td>[ฝึกสอน, ลูก, ดื่มนม, uht, กล่อง, สำเร็จ, แชร์...</td>\n",
       "      <td>[(uht, 1), (กินนม, 1), (นมถั่วเหลือง, 1), (นมเ...</td>\n",
       "      <td>None</td>\n",
       "      <td>None</td>\n",
       "      <td>เอ่อ..ของผม 1.1 ขวบครับดูดเองได้แล้ว แต่ให้เค้...</td>\n",
       "      <td>[เอ่อ, ผม, ขวบ, ดูด, ได้, เค้า, ได้, ชอบ, บีบ,...</td>\n",
       "      <td>[ชอบ, กล่อง, ลูก, กล่อง, กล่อง, กินนม, กิน, น้...</td>\n",
       "      <td>[(กิน, 2), (ชอบ, 1), (กินนม, 1), (กล่อง, 3), (...</td>\n",
       "    </tr>\n",
       "    <tr>\n",
       "      <th>63555</th>\n",
       "      <td>https://pantip.com/topic/30020409</td>\n",
       "      <td>ฝึกสอนลูกดื่มนม UHT จากกล่องสำเร็จยังไงกันบ้าง...</td>\n",
       "      <td>[ฝึกสอน, ลูก, ดื่มนม, uht, กล่อง, สำเร็จ, แชร์...</td>\n",
       "      <td>[(นม, 1), (นมเปรี้ยว, 1)]</td>\n",
       "      <td>None</td>\n",
       "      <td>None</td>\n",
       "      <td>ลูกชายยยยชอบดูด น้ำผลไม้ นมเปรี้ยว น้ำ ยกเว้นน...</td>\n",
       "      <td>[ลูกชาย, ยยย, ชอบ, ดูด, น้ำผลไม้, นมเปรี้ยว, น...</td>\n",
       "      <td>[ชอบ, น้ำผลไม้]</td>\n",
       "      <td>[(ชอบ, 1), (น้ำผลไม้, 1)]</td>\n",
       "    </tr>\n",
       "    <tr>\n",
       "      <th>63556</th>\n",
       "      <td>https://pantip.com/topic/30020409</td>\n",
       "      <td>ฝึกสอนลูกดื่มนม UHT จากกล่องสำเร็จยังไงกันบ้าง...</td>\n",
       "      <td>[ฝึกสอน, ลูก, ดื่มนม, uht, กล่อง, สำเร็จ, แชร์...</td>\n",
       "      <td>[(นมกล่อง, 2)]</td>\n",
       "      <td>None</td>\n",
       "      <td>None</td>\n",
       "      <td>เหมือนกันเลยค่ะ คุณแม่ ดูดกินอย่างอื่นได้หมดทุ...</td>\n",
       "      <td>[เหมือนกัน, คุณแม่, ดูด, กิน, ได้, ยกเว้น, นมก...</td>\n",
       "      <td>[คุณแม่, กิน, ขวด, กิน]</td>\n",
       "      <td>[(ขวด, 1), (กิน, 2), (คุณแม่, 1)]</td>\n",
       "    </tr>\n",
       "    <tr>\n",
       "      <th>63557</th>\n",
       "      <td>https://pantip.com/topic/30020409</td>\n",
       "      <td>ฝึกสอนลูกดื่มนม UHT จากกล่องสำเร็จยังไงกันบ้าง...</td>\n",
       "      <td>[ฝึกสอน, ลูก, ดื่มนม, uht, กล่อง, สำเร็จ, แชร์...</td>\n",
       "      <td>[(กินนม, 1), (นม, 1), (นมกล่อง, 1)]</td>\n",
       "      <td>None</td>\n",
       "      <td>None</td>\n",
       "      <td>เราชอบดูดนมกล่องอยู่เลย เลยดูดให้ลูกดูทุกวันเล...</td>\n",
       "      <td>[ชอบ, ดูด, นมกล่อง, อยู่เลย, ดูด, ลูก, ดู, เค้...</td>\n",
       "      <td>[ชอบ, ลูก, กินนม, แม่, ขวด, ลูก, ขวด, แม่, ขวด...</td>\n",
       "      <td>[(ขวด, 5), (กิน, 1), (เพิ่มขึ้น, 1), (ชอบ, 2),...</td>\n",
       "    </tr>\n",
       "    <tr>\n",
       "      <th>63558</th>\n",
       "      <td>https://pantip.com/topic/30020409</td>\n",
       "      <td>ฝึกสอนลูกดื่มนม UHT จากกล่องสำเร็จยังไงกันบ้าง...</td>\n",
       "      <td>[ฝึกสอน, ลูก, ดื่มนม, uht, กล่อง, สำเร็จ, แชร์...</td>\n",
       "      <td>[(นม, 1)]</td>\n",
       "      <td>None</td>\n",
       "      <td>None</td>\n",
       "      <td>ว้าววววว ฟังแลดูง่ายดายจิงๆด้วยยยย ทำไงลูกจะฝึ...</td>\n",
       "      <td>[ว้าว, วววว, ฟัง, แลดู, ง่ายดาย, จิงๆ, ยยย, ทำ...</td>\n",
       "      <td>[ลูก, แม่]</td>\n",
       "      <td>[(ลูก, 1), (แม่, 1)]</td>\n",
       "    </tr>\n",
       "    <tr>\n",
       "      <th>63559</th>\n",
       "      <td>https://pantip.com/topic/30020409</td>\n",
       "      <td>ฝึกสอนลูกดื่มนม UHT จากกล่องสำเร็จยังไงกันบ้าง...</td>\n",
       "      <td>[ฝึกสอน, ลูก, ดื่มนม, uht, กล่อง, สำเร็จ, แชร์...</td>\n",
       "      <td>[(นม, 2), (นมกล่อง, 3), (นมผง, 1)]</td>\n",
       "      <td>None</td>\n",
       "      <td>None</td>\n",
       "      <td>ลูกดูดหลอดเป็นรึยังคะ\\n\\nลูกเราเต้าล้วนเหมือนก...</td>\n",
       "      <td>[ลูก, ดูด, หลอด, ลูก, เต้า, เหมือนกัน, ตอน, ซั...</td>\n",
       "      <td>[ลูก, ลูก, ดื่ม, ลูก, กิน, กิน, กิน, รส, ชอบ, ...</td>\n",
       "      <td>[(รส, 1), (กิน, 6), (ดื่ม, 1), (ชอบ, 1), (กล่อ...</td>\n",
       "    </tr>\n",
       "    <tr>\n",
       "      <th>63560</th>\n",
       "      <td>https://pantip.com/topic/30020409</td>\n",
       "      <td>ฝึกสอนลูกดื่มนม UHT จากกล่องสำเร็จยังไงกันบ้าง...</td>\n",
       "      <td>[ฝึกสอน, ลูก, ดื่มนม, uht, กล่อง, สำเร็จ, แชร์...</td>\n",
       "      <td>[(นม, 1)]</td>\n",
       "      <td>None</td>\n",
       "      <td>None</td>\n",
       "      <td>ดูดหลอดเป็นตั้งแต่ห้าเดือนแล้วค่ะ แต่ไม่ชอบดูด...</td>\n",
       "      <td>[ดูด, หลอด, ห้า, เดือน, ไม่, ชอบ, ดูดนม, กล่อง...</td>\n",
       "      <td>[ชอบ, กล่อง, รส, แม่]</td>\n",
       "      <td>[(รส, 1), (ชอบ, 1), (กล่อง, 1), (แม่, 1)]</td>\n",
       "    </tr>\n",
       "    <tr>\n",
       "      <th>63561</th>\n",
       "      <td>https://pantip.com/topic/30020409</td>\n",
       "      <td>ฝึกสอนลูกดื่มนม UHT จากกล่องสำเร็จยังไงกันบ้าง...</td>\n",
       "      <td>[ฝึกสอน, ลูก, ดื่มนม, uht, กล่อง, สำเร็จ, แชร์...</td>\n",
       "      <td>[(ขวดนม, 1), (ดื่มนม, 1), (นม, 4)]</td>\n",
       "      <td>None</td>\n",
       "      <td>None</td>\n",
       "      <td>ตอนนี้ลูกดื่มนมเดนมาร์ก แต่เอาใส่ขวดนมนะคะดูดจ...</td>\n",
       "      <td>[ตอนนี้, ลูก, ดื่มนม, เดนมาร์ก, ใส่, ขวดนม, ดู...</td>\n",
       "      <td>[ลูก, ดื่มนม, กล่อง, ลูก, กิน, กิน, ลูก, ลูก]</td>\n",
       "      <td>[(กิน, 2), (ดื่มนม, 1), (กล่อง, 1), (ลูก, 4)]</td>\n",
       "    </tr>\n",
       "    <tr>\n",
       "      <th>63562</th>\n",
       "      <td>https://pantip.com/topic/30020409</td>\n",
       "      <td>ฝึกสอนลูกดื่มนม UHT จากกล่องสำเร็จยังไงกันบ้าง...</td>\n",
       "      <td>[ฝึกสอน, ลูก, ดื่มนม, uht, กล่อง, สำเร็จ, แชร์...</td>\n",
       "      <td>[(นม, 1), (นมกล่อง, 1)]</td>\n",
       "      <td>None</td>\n",
       "      <td>None</td>\n",
       "      <td>ใช่ค่ะ นมเริ่มน้อยแล้วเพราะเค้าทานอาหารเยอะขึ้...</td>\n",
       "      <td>[นม, เค้า, ทานอาหาร, ดูดนม, แม่, ห่าง, เสริม, ...</td>\n",
       "      <td>[แม่]</td>\n",
       "      <td>[(แม่, 1)]</td>\n",
       "    </tr>\n",
       "    <tr>\n",
       "      <th>63563</th>\n",
       "      <td>https://pantip.com/topic/30020409</td>\n",
       "      <td>ฝึกสอนลูกดื่มนม UHT จากกล่องสำเร็จยังไงกันบ้าง...</td>\n",
       "      <td>[ฝึกสอน, ลูก, ดื่มนม, uht, กล่อง, สำเร็จ, แชร์...</td>\n",
       "      <td>[(uht, 1), (ดื่มนม, 1)]</td>\n",
       "      <td>None</td>\n",
       "      <td>None</td>\n",
       "      <td>เป็นเพราะไม่ชอบรสมั้งคะ ปัญหาใหญ่ของเด็กที่ไม่...</td>\n",
       "      <td>[ไม่, ชอบ, รส, มั้ง, ปัญหา, เด็ก, ไม่, ฝึก, กิ...</td>\n",
       "      <td>[ชอบ, รส, เด็ก, กิน, ขวด]</td>\n",
       "      <td>[(ขวด, 1), (รส, 1), (กิน, 1), (ชอบ, 1), (เด็ก,...</td>\n",
       "    </tr>\n",
       "    <tr>\n",
       "      <th>63564</th>\n",
       "      <td>https://pantip.com/topic/30020409</td>\n",
       "      <td>ฝึกสอนลูกดื่มนม UHT จากกล่องสำเร็จยังไงกันบ้าง...</td>\n",
       "      <td>[ฝึกสอน, ลูก, ดื่มนม, uht, กล่อง, สำเร็จ, แชร์...</td>\n",
       "      <td>[(uht, 1), (ดื่มนม, 1)]</td>\n",
       "      <td>None</td>\n",
       "      <td>None</td>\n",
       "      <td>ใช่ค่ะ ติดรส ติดไออุ่น ติดเต้ามากๆ ฉลาดสุดๆ สง...</td>\n",
       "      <td>[ติด, รส, ติด, ไออุ่น, ติด, เต้า, ฉลาด, สงสัย,...</td>\n",
       "      <td>[รส, กล่อง, แม่]</td>\n",
       "      <td>[(รส, 1), (กล่อง, 1), (แม่, 1)]</td>\n",
       "    </tr>\n",
       "    <tr>\n",
       "      <th>63565</th>\n",
       "      <td>https://pantip.com/topic/30020409</td>\n",
       "      <td>ฝึกสอนลูกดื่มนม UHT จากกล่องสำเร็จยังไงกันบ้าง...</td>\n",
       "      <td>[ฝึกสอน, ลูก, ดื่มนม, uht, กล่อง, สำเร็จ, แชร์...</td>\n",
       "      <td>[(นม, 1), (นมกล่อง, 2)]</td>\n",
       "      <td>None</td>\n",
       "      <td>None</td>\n",
       "      <td>เราให้ลูกกินยาคูลย์ ลูกดูดหลอดได้ \\nพอขวบกว่าช...</td>\n",
       "      <td>[ลูก, กิน, ยาคู, ลย์, ลูก, ดูด, หลอด, ได้, ขวบ...</td>\n",
       "      <td>[ลูก, กิน, ลูก, ถ้วย, ดื่ม, แม่]</td>\n",
       "      <td>[(กิน, 1), (ดื่ม, 1), (ลูก, 2), (แม่, 1), (ถ้ว...</td>\n",
       "    </tr>\n",
       "    <tr>\n",
       "      <th>63566</th>\n",
       "      <td>https://pantip.com/topic/30020409</td>\n",
       "      <td>ฝึกสอนลูกดื่มนม UHT จากกล่องสำเร็จยังไงกันบ้าง...</td>\n",
       "      <td>[ฝึกสอน, ลูก, ดื่มนม, uht, กล่อง, สำเร็จ, แชร์...</td>\n",
       "      <td>[(uht, 1), (ดื่มนม, 1)]</td>\n",
       "      <td>None</td>\n",
       "      <td>None</td>\n",
       "      <td>ไม่ได้ฝึกเลย อยู่ๆก็ดูดได้เองค่ะ</td>\n",
       "      <td>[ไม่, ได้, ฝึก, ดูด, ได้]</td>\n",
       "      <td>[]</td>\n",
       "      <td>[]</td>\n",
       "    </tr>\n",
       "    <tr>\n",
       "      <th>63567</th>\n",
       "      <td>https://pantip.com/topic/30020409</td>\n",
       "      <td>ฝึกสอนลูกดื่มนม UHT จากกล่องสำเร็จยังไงกันบ้าง...</td>\n",
       "      <td>[ฝึกสอน, ลูก, ดื่มนม, uht, กล่อง, สำเร็จ, แชร์...</td>\n",
       "      <td>[(ขวดนม, 1), (นม, 1), (นมกล่อง, 1), (นมผง, 3)]</td>\n",
       "      <td>None</td>\n",
       "      <td>None</td>\n",
       "      <td>ลูกดูดนมแม่เป็นส่วนใหญ่ แต่ก็มีเสริมนมผงบ้าง ช...</td>\n",
       "      <td>[ลูก, ดูดนม, แม่, เป็นส่วนใหญ่, เสริม, นมผง, เ...</td>\n",
       "      <td>[ลูก, แม่, นมผง, นมผง, นมผง, ซื้อ, ถ้วย, ดื่ม,...</td>\n",
       "      <td>[(ซื้อ, 1), (ดื่ม, 1), (ทิ้ง, 1), (ฝา, 1), (กล...</td>\n",
       "    </tr>\n",
       "    <tr>\n",
       "      <th>63568</th>\n",
       "      <td>https://pantip.com/topic/30020409</td>\n",
       "      <td>ฝึกสอนลูกดื่มนม UHT จากกล่องสำเร็จยังไงกันบ้าง...</td>\n",
       "      <td>[ฝึกสอน, ลูก, ดื่มนม, uht, กล่อง, สำเร็จ, แชร์...</td>\n",
       "      <td>[(uht, 1), (ดื่มนม, 1)]</td>\n",
       "      <td>None</td>\n",
       "      <td>None</td>\n",
       "      <td>น่าสนใจทุกความคิดเห็นเลย เด๋วจะลองดู ขอบคุณมาก...</td>\n",
       "      <td>[น่าสนใจ, ความคิดเห็น, เด๋, วจะ, ลองดู, ขอบคุณ]</td>\n",
       "      <td>[]</td>\n",
       "      <td>[]</td>\n",
       "    </tr>\n",
       "    <tr>\n",
       "      <th>63569</th>\n",
       "      <td>https://pantip.com/topic/30020409</td>\n",
       "      <td>ฝึกสอนลูกดื่มนม UHT จากกล่องสำเร็จยังไงกันบ้าง...</td>\n",
       "      <td>[ฝึกสอน, ลูก, ดื่มนม, uht, กล่อง, สำเร็จ, แชร์...</td>\n",
       "      <td>[(uht, 1), (ดื่มนม, 1)]</td>\n",
       "      <td>None</td>\n",
       "      <td>None</td>\n",
       "      <td>มีปัญหาเหมือนกันค่ะ ลูกเอากล่องไปบีบเล่น กระจา...</td>\n",
       "      <td>[มีปัญหา, เหมือนกัน, ลูก, กล่อง, บีบ, เล่น, กร...</td>\n",
       "      <td>[ลูก, กล่อง, กิน, ลูก, ดื่ม]</td>\n",
       "      <td>[(กิน, 1), (ดื่ม, 1), (กล่อง, 1), (ลูก, 2)]</td>\n",
       "    </tr>\n",
       "    <tr>\n",
       "      <th>63570</th>\n",
       "      <td>https://pantip.com/topic/30020409</td>\n",
       "      <td>ฝึกสอนลูกดื่มนม UHT จากกล่องสำเร็จยังไงกันบ้าง...</td>\n",
       "      <td>[ฝึกสอน, ลูก, ดื่มนม, uht, กล่อง, สำเร็จ, แชร์...</td>\n",
       "      <td>[(uht, 1), (ดื่มนม, 1)]</td>\n",
       "      <td>None</td>\n",
       "      <td>None</td>\n",
       "      <td>มีปัญหาเหมือนกันค่ะ ลูกเอากล่องไปบีบเล่น กระจา...</td>\n",
       "      <td>[มีปัญหา, เหมือนกัน, ลูก, กล่อง, บีบ, เล่น, กร...</td>\n",
       "      <td>[ลูก, กล่อง, กิน, ลูก, ดื่ม]</td>\n",
       "      <td>[(กิน, 1), (ดื่ม, 1), (กล่อง, 1), (ลูก, 2)]</td>\n",
       "    </tr>\n",
       "    <tr>\n",
       "      <th>63571</th>\n",
       "      <td>https://pantip.com/topic/30020409</td>\n",
       "      <td>ฝึกสอนลูกดื่มนม UHT จากกล่องสำเร็จยังไงกันบ้าง...</td>\n",
       "      <td>[ฝึกสอน, ลูก, ดื่มนม, uht, กล่อง, สำเร็จ, แชร์...</td>\n",
       "      <td>[(นม, 1), (นมกล่อง, 1)]</td>\n",
       "      <td>None</td>\n",
       "      <td>[(โฟร์โมสต์, 1), (ไทยเดนมาร์ค, 1)]</td>\n",
       "      <td>ลูกเรากินนมกล่องยากที่สุดเลยค่ะ เราพยายามมานาน...</td>\n",
       "      <td>[ลูก, กิน, นมกล่อง, ลอง, ยี่ห้อ, จบ, ดู, เม็ก,...</td>\n",
       "      <td>[ลูก, กิน, กิน, ชอบ, รส]</td>\n",
       "      <td>[(รส, 1), (กิน, 2), (ชอบ, 1), (ลูก, 1)]</td>\n",
       "    </tr>\n",
       "    <tr>\n",
       "      <th>63572</th>\n",
       "      <td>https://pantip.com/topic/30020409</td>\n",
       "      <td>ฝึกสอนลูกดื่มนม UHT จากกล่องสำเร็จยังไงกันบ้าง...</td>\n",
       "      <td>[ฝึกสอน, ลูก, ดื่มนม, uht, กล่อง, สำเร็จ, แชร์...</td>\n",
       "      <td>[(uht, 1), (ดื่มนม, 1)]</td>\n",
       "      <td>None</td>\n",
       "      <td>[(ไทยเดนมาร์ค, 1)]</td>\n",
       "      <td>เหมือนกันเลยค่ะ โฟโมสคิดส์ กะวัวแดง วิ่งหนีสุด...</td>\n",
       "      <td>[เหมือนกัน, โฟ, โม, ส์, กะ, ไทยเดนมาร์ค, วิ่งห...</td>\n",
       "      <td>[]</td>\n",
       "      <td>[]</td>\n",
       "    </tr>\n",
       "    <tr>\n",
       "      <th>63573</th>\n",
       "      <td>https://pantip.com/topic/30020409</td>\n",
       "      <td>ฝึกสอนลูกดื่มนม UHT จากกล่องสำเร็จยังไงกันบ้าง...</td>\n",
       "      <td>[ฝึกสอน, ลูก, ดื่มนม, uht, กล่อง, สำเร็จ, แชร์...</td>\n",
       "      <td>[(uht, 1), (กินนม, 1)]</td>\n",
       "      <td>None</td>\n",
       "      <td>None</td>\n",
       "      <td>มาแอบดูข้อมูลเพราะเดี๋ยวจะลองให้ญาญี๋กินนมUHTบ...</td>\n",
       "      <td>[แอบดู, ข้อมูล, เดี๋ยว, ลอง, ญาญี๋, กินนม, uht...</td>\n",
       "      <td>[กินนม]</td>\n",
       "      <td>[(กินนม, 1)]</td>\n",
       "    </tr>\n",
       "    <tr>\n",
       "      <th>63574</th>\n",
       "      <td>https://pantip.com/topic/30020409</td>\n",
       "      <td>ฝึกสอนลูกดื่มนม UHT จากกล่องสำเร็จยังไงกันบ้าง...</td>\n",
       "      <td>[ฝึกสอน, ลูก, ดื่มนม, uht, กล่อง, สำเร็จ, แชร์...</td>\n",
       "      <td>[(นม, 1)]</td>\n",
       "      <td>None</td>\n",
       "      <td>None</td>\n",
       "      <td>อร๊ายยยย ฝึกญาญี๋ได้แล้วมาบอกด้วยน้าาา เนฟวี่ไ...</td>\n",
       "      <td>[อร๊ายยยย, ฝึก, ญาญี๋, ได้, น้า, า, เนฟวี่, ไม...</td>\n",
       "      <td>[กล่อง, แม่]</td>\n",
       "      <td>[(กล่อง, 1), (แม่, 1)]</td>\n",
       "    </tr>\n",
       "    <tr>\n",
       "      <th>63575</th>\n",
       "      <td>https://pantip.com/topic/30020409</td>\n",
       "      <td>ฝึกสอนลูกดื่มนม UHT จากกล่องสำเร็จยังไงกันบ้าง...</td>\n",
       "      <td>[ฝึกสอน, ลูก, ดื่มนม, uht, กล่อง, สำเร็จ, แชร์...</td>\n",
       "      <td>[(นมกล่อง, 1)]</td>\n",
       "      <td>None</td>\n",
       "      <td>None</td>\n",
       "      <td>แนะนำเพิ่มเติม นอกจากลองเปลี่ยนยี่ห้อเพื่อหายี...</td>\n",
       "      <td>[แนะนำ, ลอง, ยี่ห้อ, หา, ยี่ห้อ, เค้า, ถูกใจ, ...</td>\n",
       "      <td>[แนะนำ, หา, หา, ลูก, กิน, กิน, กิน, กิน, กิน, ...</td>\n",
       "      <td>[(หา, 2), (กิน, 6), (ชอบ, 1), (แนะนำ, 1), (เด็...</td>\n",
       "    </tr>\n",
       "    <tr>\n",
       "      <th>63576</th>\n",
       "      <td>https://pantip.com/topic/30020409</td>\n",
       "      <td>ฝึกสอนลูกดื่มนม UHT จากกล่องสำเร็จยังไงกันบ้าง...</td>\n",
       "      <td>[ฝึกสอน, ลูก, ดื่มนม, uht, กล่อง, สำเร็จ, แชร์...</td>\n",
       "      <td>[(uht, 1), (ดื่มนม, 1)]</td>\n",
       "      <td>None</td>\n",
       "      <td>None</td>\n",
       "      <td>อ่ะ น่าสน เห็นด้วยค่ะ ขอบคุณมากนะคะ</td>\n",
       "      <td>[อ่ะ, น่าสน, เห็นด้วย, ขอบคุณ]</td>\n",
       "      <td>[]</td>\n",
       "      <td>[]</td>\n",
       "    </tr>\n",
       "    <tr>\n",
       "      <th>63577</th>\n",
       "      <td>https://pantip.com/topic/30020409</td>\n",
       "      <td>ฝึกสอนลูกดื่มนม UHT จากกล่องสำเร็จยังไงกันบ้าง...</td>\n",
       "      <td>[ฝึกสอน, ลูก, ดื่มนม, uht, กล่อง, สำเร็จ, แชร์...</td>\n",
       "      <td>[(กินนม, 1), (นม, 1)]</td>\n",
       "      <td>None</td>\n",
       "      <td>None</td>\n",
       "      <td>ของเราให้กินนมชงของดูเมกถ้าชงอ่ะกินแต่ซื้อแบบก...</td>\n",
       "      <td>[กินนม, ชง, ดู, เม, ชง, อ่ะ, กิน, ซื้อ, กล่อง,...</td>\n",
       "      <td>[กินนม, กิน, ซื้อ, กล่อง, กิน, ผสม, กิน]</td>\n",
       "      <td>[(กิน, 3), (ซื้อ, 1), (กินนม, 1), (กล่อง, 1), ...</td>\n",
       "    </tr>\n",
       "  </tbody>\n",
       "</table>\n",
       "</div>"
      ],
      "text/plain": [
       "                                        URLs  \\\n",
       "commentId                                      \n",
       "63548      https://pantip.com/topic/30007179   \n",
       "63549      https://pantip.com/topic/30007179   \n",
       "63550      https://pantip.com/topic/30007179   \n",
       "63551      https://pantip.com/topic/30020409   \n",
       "63552      https://pantip.com/topic/30020409   \n",
       "63553      https://pantip.com/topic/30020409   \n",
       "63554      https://pantip.com/topic/30020409   \n",
       "63555      https://pantip.com/topic/30020409   \n",
       "63556      https://pantip.com/topic/30020409   \n",
       "63557      https://pantip.com/topic/30020409   \n",
       "63558      https://pantip.com/topic/30020409   \n",
       "63559      https://pantip.com/topic/30020409   \n",
       "63560      https://pantip.com/topic/30020409   \n",
       "63561      https://pantip.com/topic/30020409   \n",
       "63562      https://pantip.com/topic/30020409   \n",
       "63563      https://pantip.com/topic/30020409   \n",
       "63564      https://pantip.com/topic/30020409   \n",
       "63565      https://pantip.com/topic/30020409   \n",
       "63566      https://pantip.com/topic/30020409   \n",
       "63567      https://pantip.com/topic/30020409   \n",
       "63568      https://pantip.com/topic/30020409   \n",
       "63569      https://pantip.com/topic/30020409   \n",
       "63570      https://pantip.com/topic/30020409   \n",
       "63571      https://pantip.com/topic/30020409   \n",
       "63572      https://pantip.com/topic/30020409   \n",
       "63573      https://pantip.com/topic/30020409   \n",
       "63574      https://pantip.com/topic/30020409   \n",
       "63575      https://pantip.com/topic/30020409   \n",
       "63576      https://pantip.com/topic/30020409   \n",
       "63577      https://pantip.com/topic/30020409   \n",
       "\n",
       "                                                    headline  \\\n",
       "commentId                                                      \n",
       "63548                       นมยี่ห้ออะไรดีสุดสำหรับคนท้องค่ะ   \n",
       "63549                       นมยี่ห้ออะไรดีสุดสำหรับคนท้องค่ะ   \n",
       "63550                       นมยี่ห้ออะไรดีสุดสำหรับคนท้องค่ะ   \n",
       "63551      ฝึกสอนลูกดื่มนม UHT จากกล่องสำเร็จยังไงกันบ้าง...   \n",
       "63552      ฝึกสอนลูกดื่มนม UHT จากกล่องสำเร็จยังไงกันบ้าง...   \n",
       "63553      ฝึกสอนลูกดื่มนม UHT จากกล่องสำเร็จยังไงกันบ้าง...   \n",
       "63554      ฝึกสอนลูกดื่มนม UHT จากกล่องสำเร็จยังไงกันบ้าง...   \n",
       "63555      ฝึกสอนลูกดื่มนม UHT จากกล่องสำเร็จยังไงกันบ้าง...   \n",
       "63556      ฝึกสอนลูกดื่มนม UHT จากกล่องสำเร็จยังไงกันบ้าง...   \n",
       "63557      ฝึกสอนลูกดื่มนม UHT จากกล่องสำเร็จยังไงกันบ้าง...   \n",
       "63558      ฝึกสอนลูกดื่มนม UHT จากกล่องสำเร็จยังไงกันบ้าง...   \n",
       "63559      ฝึกสอนลูกดื่มนม UHT จากกล่องสำเร็จยังไงกันบ้าง...   \n",
       "63560      ฝึกสอนลูกดื่มนม UHT จากกล่องสำเร็จยังไงกันบ้าง...   \n",
       "63561      ฝึกสอนลูกดื่มนม UHT จากกล่องสำเร็จยังไงกันบ้าง...   \n",
       "63562      ฝึกสอนลูกดื่มนม UHT จากกล่องสำเร็จยังไงกันบ้าง...   \n",
       "63563      ฝึกสอนลูกดื่มนม UHT จากกล่องสำเร็จยังไงกันบ้าง...   \n",
       "63564      ฝึกสอนลูกดื่มนม UHT จากกล่องสำเร็จยังไงกันบ้าง...   \n",
       "63565      ฝึกสอนลูกดื่มนม UHT จากกล่องสำเร็จยังไงกันบ้าง...   \n",
       "63566      ฝึกสอนลูกดื่มนม UHT จากกล่องสำเร็จยังไงกันบ้าง...   \n",
       "63567      ฝึกสอนลูกดื่มนม UHT จากกล่องสำเร็จยังไงกันบ้าง...   \n",
       "63568      ฝึกสอนลูกดื่มนม UHT จากกล่องสำเร็จยังไงกันบ้าง...   \n",
       "63569      ฝึกสอนลูกดื่มนม UHT จากกล่องสำเร็จยังไงกันบ้าง...   \n",
       "63570      ฝึกสอนลูกดื่มนม UHT จากกล่องสำเร็จยังไงกันบ้าง...   \n",
       "63571      ฝึกสอนลูกดื่มนม UHT จากกล่องสำเร็จยังไงกันบ้าง...   \n",
       "63572      ฝึกสอนลูกดื่มนม UHT จากกล่องสำเร็จยังไงกันบ้าง...   \n",
       "63573      ฝึกสอนลูกดื่มนม UHT จากกล่องสำเร็จยังไงกันบ้าง...   \n",
       "63574      ฝึกสอนลูกดื่มนม UHT จากกล่องสำเร็จยังไงกันบ้าง...   \n",
       "63575      ฝึกสอนลูกดื่มนม UHT จากกล่องสำเร็จยังไงกันบ้าง...   \n",
       "63576      ฝึกสอนลูกดื่มนม UHT จากกล่องสำเร็จยังไงกันบ้าง...   \n",
       "63577      ฝึกสอนลูกดื่มนม UHT จากกล่องสำเร็จยังไงกันบ้าง...   \n",
       "\n",
       "                                              token_headline  \\\n",
       "commentId                                                      \n",
       "63548                     [นม, ยี่ห้อ, ดี, สำหรับ, คน, ท้อง]   \n",
       "63549                     [นม, ยี่ห้อ, ดี, สำหรับ, คน, ท้อง]   \n",
       "63550                     [นม, ยี่ห้อ, ดี, สำหรับ, คน, ท้อง]   \n",
       "63551      [ฝึกสอน, ลูก, ดื่มนม, uht, กล่อง, สำเร็จ, แชร์...   \n",
       "63552      [ฝึกสอน, ลูก, ดื่มนม, uht, กล่อง, สำเร็จ, แชร์...   \n",
       "63553      [ฝึกสอน, ลูก, ดื่มนม, uht, กล่อง, สำเร็จ, แชร์...   \n",
       "63554      [ฝึกสอน, ลูก, ดื่มนม, uht, กล่อง, สำเร็จ, แชร์...   \n",
       "63555      [ฝึกสอน, ลูก, ดื่มนม, uht, กล่อง, สำเร็จ, แชร์...   \n",
       "63556      [ฝึกสอน, ลูก, ดื่มนม, uht, กล่อง, สำเร็จ, แชร์...   \n",
       "63557      [ฝึกสอน, ลูก, ดื่มนม, uht, กล่อง, สำเร็จ, แชร์...   \n",
       "63558      [ฝึกสอน, ลูก, ดื่มนม, uht, กล่อง, สำเร็จ, แชร์...   \n",
       "63559      [ฝึกสอน, ลูก, ดื่มนม, uht, กล่อง, สำเร็จ, แชร์...   \n",
       "63560      [ฝึกสอน, ลูก, ดื่มนม, uht, กล่อง, สำเร็จ, แชร์...   \n",
       "63561      [ฝึกสอน, ลูก, ดื่มนม, uht, กล่อง, สำเร็จ, แชร์...   \n",
       "63562      [ฝึกสอน, ลูก, ดื่มนม, uht, กล่อง, สำเร็จ, แชร์...   \n",
       "63563      [ฝึกสอน, ลูก, ดื่มนม, uht, กล่อง, สำเร็จ, แชร์...   \n",
       "63564      [ฝึกสอน, ลูก, ดื่มนม, uht, กล่อง, สำเร็จ, แชร์...   \n",
       "63565      [ฝึกสอน, ลูก, ดื่มนม, uht, กล่อง, สำเร็จ, แชร์...   \n",
       "63566      [ฝึกสอน, ลูก, ดื่มนม, uht, กล่อง, สำเร็จ, แชร์...   \n",
       "63567      [ฝึกสอน, ลูก, ดื่มนม, uht, กล่อง, สำเร็จ, แชร์...   \n",
       "63568      [ฝึกสอน, ลูก, ดื่มนม, uht, กล่อง, สำเร็จ, แชร์...   \n",
       "63569      [ฝึกสอน, ลูก, ดื่มนม, uht, กล่อง, สำเร็จ, แชร์...   \n",
       "63570      [ฝึกสอน, ลูก, ดื่มนม, uht, กล่อง, สำเร็จ, แชร์...   \n",
       "63571      [ฝึกสอน, ลูก, ดื่มนม, uht, กล่อง, สำเร็จ, แชร์...   \n",
       "63572      [ฝึกสอน, ลูก, ดื่มนม, uht, กล่อง, สำเร็จ, แชร์...   \n",
       "63573      [ฝึกสอน, ลูก, ดื่มนม, uht, กล่อง, สำเร็จ, แชร์...   \n",
       "63574      [ฝึกสอน, ลูก, ดื่มนม, uht, กล่อง, สำเร็จ, แชร์...   \n",
       "63575      [ฝึกสอน, ลูก, ดื่มนม, uht, กล่อง, สำเร็จ, แชร์...   \n",
       "63576      [ฝึกสอน, ลูก, ดื่มนม, uht, กล่อง, สำเร็จ, แชร์...   \n",
       "63577      [ฝึกสอน, ลูก, ดื่มนม, uht, กล่อง, สำเร็จ, แชร์...   \n",
       "\n",
       "                                              mention_domain mention_product  \\\n",
       "commentId                                                                      \n",
       "63548                                              [(นม, 1)]            None   \n",
       "63549                        [(นมถั่วเหลือง, 1), (นมวัว, 1)]            None   \n",
       "63550      [(นม, 2), (นมถั่วเหลือง, 1), (นมสด, 1), (นมเปร...            None   \n",
       "63551                                              [(นม, 1)]            None   \n",
       "63552               [(กินนม, 1), (นม, 2), (พาสเจอร์ไรส์, 1)]            None   \n",
       "63553                                              [(นม, 1)]            None   \n",
       "63554      [(uht, 1), (กินนม, 1), (นมถั่วเหลือง, 1), (นมเ...            None   \n",
       "63555                              [(นม, 1), (นมเปรี้ยว, 1)]            None   \n",
       "63556                                         [(นมกล่อง, 2)]            None   \n",
       "63557                    [(กินนม, 1), (นม, 1), (นมกล่อง, 1)]            None   \n",
       "63558                                              [(นม, 1)]            None   \n",
       "63559                     [(นม, 2), (นมกล่อง, 3), (นมผง, 1)]            None   \n",
       "63560                                              [(นม, 1)]            None   \n",
       "63561                     [(ขวดนม, 1), (ดื่มนม, 1), (นม, 4)]            None   \n",
       "63562                                [(นม, 1), (นมกล่อง, 1)]            None   \n",
       "63563                                [(uht, 1), (ดื่มนม, 1)]            None   \n",
       "63564                                [(uht, 1), (ดื่มนม, 1)]            None   \n",
       "63565                                [(นม, 1), (นมกล่อง, 2)]            None   \n",
       "63566                                [(uht, 1), (ดื่มนม, 1)]            None   \n",
       "63567         [(ขวดนม, 1), (นม, 1), (นมกล่อง, 1), (นมผง, 3)]            None   \n",
       "63568                                [(uht, 1), (ดื่มนม, 1)]            None   \n",
       "63569                                [(uht, 1), (ดื่มนม, 1)]            None   \n",
       "63570                                [(uht, 1), (ดื่มนม, 1)]            None   \n",
       "63571                                [(นม, 1), (นมกล่อง, 1)]            None   \n",
       "63572                                [(uht, 1), (ดื่มนม, 1)]            None   \n",
       "63573                                 [(uht, 1), (กินนม, 1)]            None   \n",
       "63574                                              [(นม, 1)]            None   \n",
       "63575                                         [(นมกล่อง, 1)]            None   \n",
       "63576                                [(uht, 1), (ดื่มนม, 1)]            None   \n",
       "63577                                  [(กินนม, 1), (นม, 1)]            None   \n",
       "\n",
       "                                mention_brand  \\\n",
       "commentId                                       \n",
       "63548                                    None   \n",
       "63549                                    None   \n",
       "63550                                    None   \n",
       "63551                                    None   \n",
       "63552                                    None   \n",
       "63553                                    None   \n",
       "63554                                    None   \n",
       "63555                                    None   \n",
       "63556                                    None   \n",
       "63557                                    None   \n",
       "63558                                    None   \n",
       "63559                                    None   \n",
       "63560                                    None   \n",
       "63561                                    None   \n",
       "63562                                    None   \n",
       "63563                                    None   \n",
       "63564                                    None   \n",
       "63565                                    None   \n",
       "63566                                    None   \n",
       "63567                                    None   \n",
       "63568                                    None   \n",
       "63569                                    None   \n",
       "63570                                    None   \n",
       "63571      [(โฟร์โมสต์, 1), (ไทยเดนมาร์ค, 1)]   \n",
       "63572                      [(ไทยเดนมาร์ค, 1)]   \n",
       "63573                                    None   \n",
       "63574                                    None   \n",
       "63575                                    None   \n",
       "63576                                    None   \n",
       "63577                                    None   \n",
       "\n",
       "                                                        text  \\\n",
       "commentId                                                      \n",
       "63548      เราว่าไม่จำเป็นต้องบำรุงอะไรมากนะ แค่ทานอาหารใ...   \n",
       "63549      เราไม่ดื่มนมวัวเลยเพราะแพ้ ดื่มแล้วท้องเสีย ช่...   \n",
       "63550      เราทานนมทุกชนิดเลยค่ะ นมสด นมถั่วเหลือง นมเปรี...   \n",
       "63551      พรุ่งนี้ลูกชายอายุครบ 1 ขวบ 3 เดือน หม่ำนมแม่จ...   \n",
       "63552      ของเราให้นมพาสเจอร์ไรส์ (อยู่ ตปท.) ตอนแรกเราผ...   \n",
       "63553      ลองให้เค้าดูดจากกล่องแล้วเค้าไม่เอาเลยค่ะ แต่น...   \n",
       "63554      เอ่อ..ของผม 1.1 ขวบครับดูดเองได้แล้ว แต่ให้เค้...   \n",
       "63555      ลูกชายยยยชอบดูด น้ำผลไม้ นมเปรี้ยว น้ำ ยกเว้นน...   \n",
       "63556      เหมือนกันเลยค่ะ คุณแม่ ดูดกินอย่างอื่นได้หมดทุ...   \n",
       "63557      เราชอบดูดนมกล่องอยู่เลย เลยดูดให้ลูกดูทุกวันเล...   \n",
       "63558      ว้าววววว ฟังแลดูง่ายดายจิงๆด้วยยยย ทำไงลูกจะฝึ...   \n",
       "63559      ลูกดูดหลอดเป็นรึยังคะ\\n\\nลูกเราเต้าล้วนเหมือนก...   \n",
       "63560      ดูดหลอดเป็นตั้งแต่ห้าเดือนแล้วค่ะ แต่ไม่ชอบดูด...   \n",
       "63561      ตอนนี้ลูกดื่มนมเดนมาร์ก แต่เอาใส่ขวดนมนะคะดูดจ...   \n",
       "63562      ใช่ค่ะ นมเริ่มน้อยแล้วเพราะเค้าทานอาหารเยอะขึ้...   \n",
       "63563      เป็นเพราะไม่ชอบรสมั้งคะ ปัญหาใหญ่ของเด็กที่ไม่...   \n",
       "63564      ใช่ค่ะ ติดรส ติดไออุ่น ติดเต้ามากๆ ฉลาดสุดๆ สง...   \n",
       "63565      เราให้ลูกกินยาคูลย์ ลูกดูดหลอดได้ \\nพอขวบกว่าช...   \n",
       "63566                       ไม่ได้ฝึกเลย อยู่ๆก็ดูดได้เองค่ะ   \n",
       "63567      ลูกดูดนมแม่เป็นส่วนใหญ่ แต่ก็มีเสริมนมผงบ้าง ช...   \n",
       "63568      น่าสนใจทุกความคิดเห็นเลย เด๋วจะลองดู ขอบคุณมาก...   \n",
       "63569      มีปัญหาเหมือนกันค่ะ ลูกเอากล่องไปบีบเล่น กระจา...   \n",
       "63570      มีปัญหาเหมือนกันค่ะ ลูกเอากล่องไปบีบเล่น กระจา...   \n",
       "63571      ลูกเรากินนมกล่องยากที่สุดเลยค่ะ เราพยายามมานาน...   \n",
       "63572      เหมือนกันเลยค่ะ โฟโมสคิดส์ กะวัวแดง วิ่งหนีสุด...   \n",
       "63573      มาแอบดูข้อมูลเพราะเดี๋ยวจะลองให้ญาญี๋กินนมUHTบ...   \n",
       "63574      อร๊ายยยย ฝึกญาญี๋ได้แล้วมาบอกด้วยน้าาา เนฟวี่ไ...   \n",
       "63575      แนะนำเพิ่มเติม นอกจากลองเปลี่ยนยี่ห้อเพื่อหายี...   \n",
       "63576                    อ่ะ น่าสน เห็นด้วยค่ะ ขอบคุณมากนะคะ   \n",
       "63577      ของเราให้กินนมชงของดูเมกถ้าชงอ่ะกินแต่ซื้อแบบก...   \n",
       "\n",
       "                                                  token_text  \\\n",
       "commentId                                                      \n",
       "63548      [ไม่, จำเป็นต้อง, บำรุง, ทานอาหาร, หมู่, เผลอ,...   \n",
       "63549      [ไม่, ดื่ม, นมวัว, แพ้, ดื่ม, ท้องเสีย, ท้อง, ...   \n",
       "63550      [ทาน, นม, ทุกชนิด, นมสด, นมถั่วเหลือง, นมเปรี้...   \n",
       "63551      [พรุ่งนี้, ลูกชาย, อายุ, ขวบ, เดือน, หม่ำ, นม,...   \n",
       "63552      [ให้นม, พาสเจอร์ไรส์, ตปท, ตอนแรก, ผสม, นม, แม...   \n",
       "63553      [ลอง, เค้า, ดูด, กล่อง, เค้า, ไม่, เอาเลย, น้ำ...   \n",
       "63554      [เอ่อ, ผม, ขวบ, ดูด, ได้, เค้า, ได้, ชอบ, บีบ,...   \n",
       "63555      [ลูกชาย, ยยย, ชอบ, ดูด, น้ำผลไม้, นมเปรี้ยว, น...   \n",
       "63556      [เหมือนกัน, คุณแม่, ดูด, กิน, ได้, ยกเว้น, นมก...   \n",
       "63557      [ชอบ, ดูด, นมกล่อง, อยู่เลย, ดูด, ลูก, ดู, เค้...   \n",
       "63558      [ว้าว, วววว, ฟัง, แลดู, ง่ายดาย, จิงๆ, ยยย, ทำ...   \n",
       "63559      [ลูก, ดูด, หลอด, ลูก, เต้า, เหมือนกัน, ตอน, ซั...   \n",
       "63560      [ดูด, หลอด, ห้า, เดือน, ไม่, ชอบ, ดูดนม, กล่อง...   \n",
       "63561      [ตอนนี้, ลูก, ดื่มนม, เดนมาร์ก, ใส่, ขวดนม, ดู...   \n",
       "63562      [นม, เค้า, ทานอาหาร, ดูดนม, แม่, ห่าง, เสริม, ...   \n",
       "63563      [ไม่, ชอบ, รส, มั้ง, ปัญหา, เด็ก, ไม่, ฝึก, กิ...   \n",
       "63564      [ติด, รส, ติด, ไออุ่น, ติด, เต้า, ฉลาด, สงสัย,...   \n",
       "63565      [ลูก, กิน, ยาคู, ลย์, ลูก, ดูด, หลอด, ได้, ขวบ...   \n",
       "63566                              [ไม่, ได้, ฝึก, ดูด, ได้]   \n",
       "63567      [ลูก, ดูดนม, แม่, เป็นส่วนใหญ่, เสริม, นมผง, เ...   \n",
       "63568        [น่าสนใจ, ความคิดเห็น, เด๋, วจะ, ลองดู, ขอบคุณ]   \n",
       "63569      [มีปัญหา, เหมือนกัน, ลูก, กล่อง, บีบ, เล่น, กร...   \n",
       "63570      [มีปัญหา, เหมือนกัน, ลูก, กล่อง, บีบ, เล่น, กร...   \n",
       "63571      [ลูก, กิน, นมกล่อง, ลอง, ยี่ห้อ, จบ, ดู, เม็ก,...   \n",
       "63572      [เหมือนกัน, โฟ, โม, ส์, กะ, ไทยเดนมาร์ค, วิ่งห...   \n",
       "63573      [แอบดู, ข้อมูล, เดี๋ยว, ลอง, ญาญี๋, กินนม, uht...   \n",
       "63574      [อร๊ายยยย, ฝึก, ญาญี๋, ได้, น้า, า, เนฟวี่, ไม...   \n",
       "63575      [แนะนำ, ลอง, ยี่ห้อ, หา, ยี่ห้อ, เค้า, ถูกใจ, ...   \n",
       "63576                         [อ่ะ, น่าสน, เห็นด้วย, ขอบคุณ]   \n",
       "63577      [กินนม, ชง, ดู, เม, ชง, อ่ะ, กิน, ซื้อ, กล่อง,...   \n",
       "\n",
       "                                           token_text_reduce  \\\n",
       "commentId                                                      \n",
       "63548                                         [บำรุง, บำรุง]   \n",
       "63549      [ดื่ม, นมวัว, ดื่ม, ท้องเสีย, ท้อง, ดื่ม, นมถั...   \n",
       "63550                       [นมสด, นมถั่วเหลือง, กิน, อร่อย]   \n",
       "63551                         [แม่, ขวด, กล่อง, คุณแม่, ลูก]   \n",
       "63552      [ผสม, แม่, ถ้วย, ลูก, ดื่ม, กิน, ผสม, กิน, ดื่...   \n",
       "63553          [กล่อง, น้ำผลไม้, ชอบ, ดื่ม, กล่อง, ผสม, แม่]   \n",
       "63554      [ชอบ, กล่อง, ลูก, กล่อง, กล่อง, กินนม, กิน, น้...   \n",
       "63555                                        [ชอบ, น้ำผลไม้]   \n",
       "63556                                [คุณแม่, กิน, ขวด, กิน]   \n",
       "63557      [ชอบ, ลูก, กินนม, แม่, ขวด, ลูก, ขวด, แม่, ขวด...   \n",
       "63558                                             [ลูก, แม่]   \n",
       "63559      [ลูก, ลูก, ดื่ม, ลูก, กิน, กิน, กิน, รส, ชอบ, ...   \n",
       "63560                                  [ชอบ, กล่อง, รส, แม่]   \n",
       "63561          [ลูก, ดื่มนม, กล่อง, ลูก, กิน, กิน, ลูก, ลูก]   \n",
       "63562                                                  [แม่]   \n",
       "63563                              [ชอบ, รส, เด็ก, กิน, ขวด]   \n",
       "63564                                       [รส, กล่อง, แม่]   \n",
       "63565                       [ลูก, กิน, ลูก, ถ้วย, ดื่ม, แม่]   \n",
       "63566                                                     []   \n",
       "63567      [ลูก, แม่, นมผง, นมผง, นมผง, ซื้อ, ถ้วย, ดื่ม,...   \n",
       "63568                                                     []   \n",
       "63569                           [ลูก, กล่อง, กิน, ลูก, ดื่ม]   \n",
       "63570                           [ลูก, กล่อง, กิน, ลูก, ดื่ม]   \n",
       "63571                               [ลูก, กิน, กิน, ชอบ, รส]   \n",
       "63572                                                     []   \n",
       "63573                                                [กินนม]   \n",
       "63574                                           [กล่อง, แม่]   \n",
       "63575      [แนะนำ, หา, หา, ลูก, กิน, กิน, กิน, กิน, กิน, ...   \n",
       "63576                                                     []   \n",
       "63577               [กินนม, กิน, ซื้อ, กล่อง, กิน, ผสม, กิน]   \n",
       "\n",
       "                                              reduce_bow_txt  \n",
       "commentId                                                     \n",
       "63548                                           [(บำรุง, 2)]  \n",
       "63549      [(กิน, 4), (ดื่ม, 4), (ลูก, 1), (วิตามิน, 1), ...  \n",
       "63550      [(กิน, 1), (นมสด, 1), (อร่อย, 1), (นมถั่วเหลือ...  \n",
       "63551      [(ขวด, 1), (กล่อง, 1), (ลูก, 1), (แม่, 1), (คุ...  \n",
       "63552      [(กิน, 3), (ดื่ม, 2), (กินนม, 1), (ผสม, 2), (ล...  \n",
       "63553      [(ดื่ม, 1), (ชอบ, 1), (กล่อง, 2), (ผสม, 1), (แ...  \n",
       "63554      [(กิน, 2), (ชอบ, 1), (กินนม, 1), (กล่อง, 3), (...  \n",
       "63555                              [(ชอบ, 1), (น้ำผลไม้, 1)]  \n",
       "63556                      [(ขวด, 1), (กิน, 2), (คุณแม่, 1)]  \n",
       "63557      [(ขวด, 5), (กิน, 1), (เพิ่มขึ้น, 1), (ชอบ, 2),...  \n",
       "63558                                   [(ลูก, 1), (แม่, 1)]  \n",
       "63559      [(รส, 1), (กิน, 6), (ดื่ม, 1), (ชอบ, 1), (กล่อ...  \n",
       "63560              [(รส, 1), (ชอบ, 1), (กล่อง, 1), (แม่, 1)]  \n",
       "63561          [(กิน, 2), (ดื่มนม, 1), (กล่อง, 1), (ลูก, 4)]  \n",
       "63562                                             [(แม่, 1)]  \n",
       "63563      [(ขวด, 1), (รส, 1), (กิน, 1), (ชอบ, 1), (เด็ก,...  \n",
       "63564                        [(รส, 1), (กล่อง, 1), (แม่, 1)]  \n",
       "63565      [(กิน, 1), (ดื่ม, 1), (ลูก, 2), (แม่, 1), (ถ้ว...  \n",
       "63566                                                     []  \n",
       "63567      [(ซื้อ, 1), (ดื่ม, 1), (ทิ้ง, 1), (ฝา, 1), (กล...  \n",
       "63568                                                     []  \n",
       "63569            [(กิน, 1), (ดื่ม, 1), (กล่อง, 1), (ลูก, 2)]  \n",
       "63570            [(กิน, 1), (ดื่ม, 1), (กล่อง, 1), (ลูก, 2)]  \n",
       "63571                [(รส, 1), (กิน, 2), (ชอบ, 1), (ลูก, 1)]  \n",
       "63572                                                     []  \n",
       "63573                                           [(กินนม, 1)]  \n",
       "63574                                 [(กล่อง, 1), (แม่, 1)]  \n",
       "63575      [(หา, 2), (กิน, 6), (ชอบ, 1), (แนะนำ, 1), (เด็...  \n",
       "63576                                                     []  \n",
       "63577      [(กิน, 3), (ซื้อ, 1), (กินนม, 1), (กล่อง, 1), ...  "
      ]
     },
     "execution_count": 80,
     "metadata": {},
     "output_type": "execute_result"
    }
   ],
   "source": [
    "df_join_url.tail(30)"
   ]
  },
  {
   "cell_type": "raw",
   "metadata": {},
   "source": [
    "df_join_url.to_excel('df_join_url.xlsx',index=True)"
   ]
  },
  {
   "cell_type": "markdown",
   "metadata": {},
   "source": [
    "Create cooccurence matrix"
   ]
  },
  {
   "cell_type": "code",
   "execution_count": 81,
   "metadata": {},
   "outputs": [],
   "source": [
    "df_brand_cooc = pd.concat([pd.DataFrame(s,columns=['w','c']).set_index('w') for s in df_join_url[\"mention_brand\"]], axis=1, sort=False).fillna(0).T.set_index(df_join_url.index)\n",
    "df_prd_cooc = pd.concat([pd.DataFrame(s,columns=['w','c']).set_index('w') for s in df_join_url[\"mention_product\"]], axis=1, sort=False).fillna(0).T.set_index(df_join_url.index)\n",
    "df_cooc = pd.concat([pd.DataFrame(s,columns=['w','c']).set_index('w') for s in df_join_url[\"reduce_bow_txt\"]], axis=1, sort=False).fillna(0).T.set_index(df_join_url.index)"
   ]
  },
  {
   "cell_type": "code",
   "execution_count": 82,
   "metadata": {},
   "outputs": [],
   "source": [
    "df_brand_cooc.reset_index(inplace=True)\n",
    "df_prd_cooc.reset_index(inplace=True)\n",
    "df_cooc.reset_index(inplace=True)"
   ]
  },
  {
   "cell_type": "code",
   "execution_count": 83,
   "metadata": {},
   "outputs": [],
   "source": [
    "join_df = pd.merge(df_brand_cooc, df_prd_cooc, on='commentId', how='inner', suffixes=(False, False))\n",
    "join_df = pd.merge(join_df, df_cooc, on='commentId', how='inner')\n",
    "join_df.set_index('commentId',inplace=True)"
   ]
  },
  {
   "cell_type": "code",
   "execution_count": 84,
   "metadata": {},
   "outputs": [
    {
     "data": {
      "text/html": [
       "<div>\n",
       "<style scoped>\n",
       "    .dataframe tbody tr th:only-of-type {\n",
       "        vertical-align: middle;\n",
       "    }\n",
       "\n",
       "    .dataframe tbody tr th {\n",
       "        vertical-align: top;\n",
       "    }\n",
       "\n",
       "    .dataframe thead th {\n",
       "        text-align: right;\n",
       "    }\n",
       "</style>\n",
       "<table border=\"1\" class=\"dataframe\">\n",
       "  <thead>\n",
       "    <tr style=\"text-align: right;\">\n",
       "      <th></th>\n",
       "      <th>เมจิ</th>\n",
       "      <th>ไทยเดนมาร์ค</th>\n",
       "      <th>ดัชมิลล์</th>\n",
       "      <th>แมคโนเลีย</th>\n",
       "      <th>จิตรลดา</th>\n",
       "      <th>แดรี่โฮม</th>\n",
       "      <th>โฟร์โมสต์</th>\n",
       "      <th>โชคชัย</th>\n",
       "      <th>คาเนชั่น</th>\n",
       "      <th>หนองโพ</th>\n",
       "      <th>...</th>\n",
       "      <th>พนักงานขายนม</th>\n",
       "      <th>ความแข็งแรง</th>\n",
       "      <th>ผิดสังเกต</th>\n",
       "      <th>เสียความรู้สึก</th>\n",
       "      <th>ไอโอดีน</th>\n",
       "      <th>พรีเซ็นเตอร์</th>\n",
       "      <th>สุนัข</th>\n",
       "      <th>คายทิ้ง</th>\n",
       "      <th>มีลูก</th>\n",
       "      <th>คุณแม่มือใหม่</th>\n",
       "    </tr>\n",
       "    <tr>\n",
       "      <th>commentId</th>\n",
       "      <th></th>\n",
       "      <th></th>\n",
       "      <th></th>\n",
       "      <th></th>\n",
       "      <th></th>\n",
       "      <th></th>\n",
       "      <th></th>\n",
       "      <th></th>\n",
       "      <th></th>\n",
       "      <th></th>\n",
       "      <th></th>\n",
       "      <th></th>\n",
       "      <th></th>\n",
       "      <th></th>\n",
       "      <th></th>\n",
       "      <th></th>\n",
       "      <th></th>\n",
       "      <th></th>\n",
       "      <th></th>\n",
       "      <th></th>\n",
       "      <th></th>\n",
       "    </tr>\n",
       "  </thead>\n",
       "  <tbody>\n",
       "    <tr>\n",
       "      <th>1</th>\n",
       "      <td>1.0</td>\n",
       "      <td>0.0</td>\n",
       "      <td>0.0</td>\n",
       "      <td>0.0</td>\n",
       "      <td>0.0</td>\n",
       "      <td>0.0</td>\n",
       "      <td>0.0</td>\n",
       "      <td>0.0</td>\n",
       "      <td>0.0</td>\n",
       "      <td>0.0</td>\n",
       "      <td>...</td>\n",
       "      <td>0.0</td>\n",
       "      <td>0.0</td>\n",
       "      <td>0.0</td>\n",
       "      <td>0.0</td>\n",
       "      <td>0.0</td>\n",
       "      <td>0.0</td>\n",
       "      <td>0.0</td>\n",
       "      <td>0.0</td>\n",
       "      <td>0.0</td>\n",
       "      <td>0.0</td>\n",
       "    </tr>\n",
       "    <tr>\n",
       "      <th>2</th>\n",
       "      <td>1.0</td>\n",
       "      <td>0.0</td>\n",
       "      <td>0.0</td>\n",
       "      <td>0.0</td>\n",
       "      <td>0.0</td>\n",
       "      <td>0.0</td>\n",
       "      <td>0.0</td>\n",
       "      <td>0.0</td>\n",
       "      <td>0.0</td>\n",
       "      <td>0.0</td>\n",
       "      <td>...</td>\n",
       "      <td>0.0</td>\n",
       "      <td>0.0</td>\n",
       "      <td>0.0</td>\n",
       "      <td>0.0</td>\n",
       "      <td>0.0</td>\n",
       "      <td>0.0</td>\n",
       "      <td>0.0</td>\n",
       "      <td>0.0</td>\n",
       "      <td>0.0</td>\n",
       "      <td>0.0</td>\n",
       "    </tr>\n",
       "    <tr>\n",
       "      <th>3</th>\n",
       "      <td>1.0</td>\n",
       "      <td>0.0</td>\n",
       "      <td>0.0</td>\n",
       "      <td>0.0</td>\n",
       "      <td>0.0</td>\n",
       "      <td>0.0</td>\n",
       "      <td>0.0</td>\n",
       "      <td>0.0</td>\n",
       "      <td>0.0</td>\n",
       "      <td>0.0</td>\n",
       "      <td>...</td>\n",
       "      <td>0.0</td>\n",
       "      <td>0.0</td>\n",
       "      <td>0.0</td>\n",
       "      <td>0.0</td>\n",
       "      <td>0.0</td>\n",
       "      <td>0.0</td>\n",
       "      <td>0.0</td>\n",
       "      <td>0.0</td>\n",
       "      <td>0.0</td>\n",
       "      <td>0.0</td>\n",
       "    </tr>\n",
       "    <tr>\n",
       "      <th>4</th>\n",
       "      <td>1.0</td>\n",
       "      <td>0.0</td>\n",
       "      <td>0.0</td>\n",
       "      <td>0.0</td>\n",
       "      <td>0.0</td>\n",
       "      <td>0.0</td>\n",
       "      <td>0.0</td>\n",
       "      <td>0.0</td>\n",
       "      <td>0.0</td>\n",
       "      <td>0.0</td>\n",
       "      <td>...</td>\n",
       "      <td>0.0</td>\n",
       "      <td>0.0</td>\n",
       "      <td>0.0</td>\n",
       "      <td>0.0</td>\n",
       "      <td>0.0</td>\n",
       "      <td>0.0</td>\n",
       "      <td>0.0</td>\n",
       "      <td>0.0</td>\n",
       "      <td>0.0</td>\n",
       "      <td>0.0</td>\n",
       "    </tr>\n",
       "    <tr>\n",
       "      <th>5</th>\n",
       "      <td>1.0</td>\n",
       "      <td>0.0</td>\n",
       "      <td>0.0</td>\n",
       "      <td>0.0</td>\n",
       "      <td>0.0</td>\n",
       "      <td>0.0</td>\n",
       "      <td>0.0</td>\n",
       "      <td>0.0</td>\n",
       "      <td>0.0</td>\n",
       "      <td>0.0</td>\n",
       "      <td>...</td>\n",
       "      <td>0.0</td>\n",
       "      <td>0.0</td>\n",
       "      <td>0.0</td>\n",
       "      <td>0.0</td>\n",
       "      <td>0.0</td>\n",
       "      <td>0.0</td>\n",
       "      <td>0.0</td>\n",
       "      <td>0.0</td>\n",
       "      <td>0.0</td>\n",
       "      <td>0.0</td>\n",
       "    </tr>\n",
       "  </tbody>\n",
       "</table>\n",
       "<p>5 rows × 195 columns</p>\n",
       "</div>"
      ],
      "text/plain": [
       "           เมจิ  ไทยเดนมาร์ค  ดัชมิลล์  แมคโนเลีย  จิตรลดา  แดรี่โฮม  \\\n",
       "commentId                                                              \n",
       "1           1.0          0.0       0.0        0.0      0.0       0.0   \n",
       "2           1.0          0.0       0.0        0.0      0.0       0.0   \n",
       "3           1.0          0.0       0.0        0.0      0.0       0.0   \n",
       "4           1.0          0.0       0.0        0.0      0.0       0.0   \n",
       "5           1.0          0.0       0.0        0.0      0.0       0.0   \n",
       "\n",
       "           โฟร์โมสต์  โชคชัย  คาเนชั่น  หนองโพ  ...  พนักงานขายนม  \\\n",
       "commentId                                       ...                 \n",
       "1                0.0     0.0       0.0     0.0  ...           0.0   \n",
       "2                0.0     0.0       0.0     0.0  ...           0.0   \n",
       "3                0.0     0.0       0.0     0.0  ...           0.0   \n",
       "4                0.0     0.0       0.0     0.0  ...           0.0   \n",
       "5                0.0     0.0       0.0     0.0  ...           0.0   \n",
       "\n",
       "           ความแข็งแรง  ผิดสังเกต  เสียความรู้สึก  ไอโอดีน  พรีเซ็นเตอร์  \\\n",
       "commentId                                                                  \n",
       "1                  0.0        0.0             0.0      0.0           0.0   \n",
       "2                  0.0        0.0             0.0      0.0           0.0   \n",
       "3                  0.0        0.0             0.0      0.0           0.0   \n",
       "4                  0.0        0.0             0.0      0.0           0.0   \n",
       "5                  0.0        0.0             0.0      0.0           0.0   \n",
       "\n",
       "           สุนัข  คายทิ้ง  มีลูก  คุณแม่มือใหม่  \n",
       "commentId                                        \n",
       "1            0.0      0.0    0.0            0.0  \n",
       "2            0.0      0.0    0.0            0.0  \n",
       "3            0.0      0.0    0.0            0.0  \n",
       "4            0.0      0.0    0.0            0.0  \n",
       "5            0.0      0.0    0.0            0.0  \n",
       "\n",
       "[5 rows x 195 columns]"
      ]
     },
     "execution_count": 84,
     "metadata": {},
     "output_type": "execute_result"
    }
   ],
   "source": [
    "join_df.head()"
   ]
  },
  {
   "cell_type": "markdown",
   "metadata": {
    "id": "uBBA36fDTCfZ"
   },
   "source": [
    "### Create frequency co-occurrence matrix จาก Bag of word<br>\n",
    "* ใช้สำหรับทำ MDS เท่านั้น"
   ]
  },
  {
   "cell_type": "code",
   "execution_count": 85,
   "metadata": {
    "id": "LgE1okejTCfZ"
   },
   "outputs": [],
   "source": [
    "item_item_matrix = pd.DataFrame(index=join_df.columns,columns=join_df.columns).fillna(0)"
   ]
  },
  {
   "cell_type": "code",
   "execution_count": 86,
   "metadata": {
    "id": "05j3U3ymTCfb"
   },
   "outputs": [],
   "source": [
    "def cnt_Grpby(df,i,j):\n",
    "    PAIB = pd.DataFrame(df.groupby(df.iloc[:,i].name)[df.iloc[:,j].name].value_counts())\n",
    "    PAIB.index.names = ['A','B']\n",
    "    PAIB.columns = ['freq']\n",
    "    PAIB.reset_index(inplace=True)\n",
    "    _PAIB = PAIB[(PAIB.A>0)&(PAIB.B>0)]\n",
    "    return _PAIB.freq.sum()"
   ]
  },
  {
   "cell_type": "code",
   "execution_count": 87,
   "metadata": {
    "id": "1jhFte5eTCfd"
   },
   "outputs": [],
   "source": [
    "# Co-occurrence\n",
    "for i in range(0,len(item_item_matrix.columns)):\n",
    "    for j in range(0,len(item_item_matrix.columns)):\n",
    "        if i != j:\n",
    "            item_item_matrix.iloc[i,j] = cnt_Grpby(join_df,i,j)\n",
    "        else:\n",
    "            item_item_matrix.iloc[i,j] = 0"
   ]
  },
  {
   "cell_type": "code",
   "execution_count": 88,
   "metadata": {
    "id": "OhtvLfMXTCfg"
   },
   "outputs": [
    {
     "data": {
      "text/html": [
       "<div>\n",
       "<style scoped>\n",
       "    .dataframe tbody tr th:only-of-type {\n",
       "        vertical-align: middle;\n",
       "    }\n",
       "\n",
       "    .dataframe tbody tr th {\n",
       "        vertical-align: top;\n",
       "    }\n",
       "\n",
       "    .dataframe thead th {\n",
       "        text-align: right;\n",
       "    }\n",
       "</style>\n",
       "<table border=\"1\" class=\"dataframe\">\n",
       "  <thead>\n",
       "    <tr style=\"text-align: right;\">\n",
       "      <th></th>\n",
       "      <th>เมจิ</th>\n",
       "      <th>ไทยเดนมาร์ค</th>\n",
       "      <th>ดัชมิลล์</th>\n",
       "      <th>แมคโนเลีย</th>\n",
       "      <th>จิตรลดา</th>\n",
       "      <th>แดรี่โฮม</th>\n",
       "      <th>โฟร์โมสต์</th>\n",
       "      <th>โชคชัย</th>\n",
       "      <th>คาเนชั่น</th>\n",
       "      <th>หนองโพ</th>\n",
       "      <th>...</th>\n",
       "      <th>พนักงานขายนม</th>\n",
       "      <th>ความแข็งแรง</th>\n",
       "      <th>ผิดสังเกต</th>\n",
       "      <th>เสียความรู้สึก</th>\n",
       "      <th>ไอโอดีน</th>\n",
       "      <th>พรีเซ็นเตอร์</th>\n",
       "      <th>สุนัข</th>\n",
       "      <th>คายทิ้ง</th>\n",
       "      <th>มีลูก</th>\n",
       "      <th>คุณแม่มือใหม่</th>\n",
       "    </tr>\n",
       "  </thead>\n",
       "  <tbody>\n",
       "    <tr>\n",
       "      <th>เมจิ</th>\n",
       "      <td>0</td>\n",
       "      <td>77</td>\n",
       "      <td>98</td>\n",
       "      <td>4</td>\n",
       "      <td>42</td>\n",
       "      <td>33</td>\n",
       "      <td>123</td>\n",
       "      <td>62</td>\n",
       "      <td>12</td>\n",
       "      <td>78</td>\n",
       "      <td>...</td>\n",
       "      <td>1</td>\n",
       "      <td>0</td>\n",
       "      <td>1</td>\n",
       "      <td>1</td>\n",
       "      <td>0</td>\n",
       "      <td>3</td>\n",
       "      <td>0</td>\n",
       "      <td>0</td>\n",
       "      <td>0</td>\n",
       "      <td>0</td>\n",
       "    </tr>\n",
       "    <tr>\n",
       "      <th>ไทยเดนมาร์ค</th>\n",
       "      <td>77</td>\n",
       "      <td>0</td>\n",
       "      <td>26</td>\n",
       "      <td>1</td>\n",
       "      <td>87</td>\n",
       "      <td>22</td>\n",
       "      <td>83</td>\n",
       "      <td>45</td>\n",
       "      <td>0</td>\n",
       "      <td>104</td>\n",
       "      <td>...</td>\n",
       "      <td>0</td>\n",
       "      <td>1</td>\n",
       "      <td>0</td>\n",
       "      <td>0</td>\n",
       "      <td>0</td>\n",
       "      <td>0</td>\n",
       "      <td>0</td>\n",
       "      <td>0</td>\n",
       "      <td>5</td>\n",
       "      <td>0</td>\n",
       "    </tr>\n",
       "    <tr>\n",
       "      <th>ดัชมิลล์</th>\n",
       "      <td>98</td>\n",
       "      <td>26</td>\n",
       "      <td>0</td>\n",
       "      <td>1</td>\n",
       "      <td>21</td>\n",
       "      <td>5</td>\n",
       "      <td>64</td>\n",
       "      <td>22</td>\n",
       "      <td>1</td>\n",
       "      <td>30</td>\n",
       "      <td>...</td>\n",
       "      <td>0</td>\n",
       "      <td>1</td>\n",
       "      <td>0</td>\n",
       "      <td>1</td>\n",
       "      <td>0</td>\n",
       "      <td>1</td>\n",
       "      <td>0</td>\n",
       "      <td>1</td>\n",
       "      <td>1</td>\n",
       "      <td>0</td>\n",
       "    </tr>\n",
       "    <tr>\n",
       "      <th>แมคโนเลีย</th>\n",
       "      <td>4</td>\n",
       "      <td>1</td>\n",
       "      <td>1</td>\n",
       "      <td>0</td>\n",
       "      <td>1</td>\n",
       "      <td>1</td>\n",
       "      <td>3</td>\n",
       "      <td>1</td>\n",
       "      <td>0</td>\n",
       "      <td>0</td>\n",
       "      <td>...</td>\n",
       "      <td>0</td>\n",
       "      <td>0</td>\n",
       "      <td>0</td>\n",
       "      <td>0</td>\n",
       "      <td>0</td>\n",
       "      <td>0</td>\n",
       "      <td>0</td>\n",
       "      <td>0</td>\n",
       "      <td>0</td>\n",
       "      <td>0</td>\n",
       "    </tr>\n",
       "    <tr>\n",
       "      <th>จิตรลดา</th>\n",
       "      <td>42</td>\n",
       "      <td>87</td>\n",
       "      <td>21</td>\n",
       "      <td>1</td>\n",
       "      <td>0</td>\n",
       "      <td>11</td>\n",
       "      <td>39</td>\n",
       "      <td>30</td>\n",
       "      <td>0</td>\n",
       "      <td>75</td>\n",
       "      <td>...</td>\n",
       "      <td>0</td>\n",
       "      <td>1</td>\n",
       "      <td>0</td>\n",
       "      <td>0</td>\n",
       "      <td>0</td>\n",
       "      <td>0</td>\n",
       "      <td>0</td>\n",
       "      <td>0</td>\n",
       "      <td>3</td>\n",
       "      <td>0</td>\n",
       "    </tr>\n",
       "  </tbody>\n",
       "</table>\n",
       "<p>5 rows × 195 columns</p>\n",
       "</div>"
      ],
      "text/plain": [
       "             เมจิ  ไทยเดนมาร์ค  ดัชมิลล์  แมคโนเลีย  จิตรลดา  แดรี่โฮม  \\\n",
       "เมจิ            0           77        98          4       42        33   \n",
       "ไทยเดนมาร์ค    77            0        26          1       87        22   \n",
       "ดัชมิลล์       98           26         0          1       21         5   \n",
       "แมคโนเลีย       4            1         1          0        1         1   \n",
       "จิตรลดา        42           87        21          1        0        11   \n",
       "\n",
       "             โฟร์โมสต์  โชคชัย  คาเนชั่น  หนองโพ  ...  พนักงานขายนม  \\\n",
       "เมจิ               123      62        12      78  ...             1   \n",
       "ไทยเดนมาร์ค         83      45         0     104  ...             0   \n",
       "ดัชมิลล์            64      22         1      30  ...             0   \n",
       "แมคโนเลีย            3       1         0       0  ...             0   \n",
       "จิตรลดา             39      30         0      75  ...             0   \n",
       "\n",
       "             ความแข็งแรง  ผิดสังเกต  เสียความรู้สึก  ไอโอดีน  พรีเซ็นเตอร์  \\\n",
       "เมจิ                   0          1               1        0             3   \n",
       "ไทยเดนมาร์ค            1          0               0        0             0   \n",
       "ดัชมิลล์               1          0               1        0             1   \n",
       "แมคโนเลีย              0          0               0        0             0   \n",
       "จิตรลดา                1          0               0        0             0   \n",
       "\n",
       "             สุนัข  คายทิ้ง  มีลูก  คุณแม่มือใหม่  \n",
       "เมจิ             0        0      0              0  \n",
       "ไทยเดนมาร์ค      0        0      5              0  \n",
       "ดัชมิลล์         0        1      1              0  \n",
       "แมคโนเลีย        0        0      0              0  \n",
       "จิตรลดา          0        0      3              0  \n",
       "\n",
       "[5 rows x 195 columns]"
      ]
     },
     "execution_count": 88,
     "metadata": {},
     "output_type": "execute_result"
    }
   ],
   "source": [
    "item_item_matrix.head()"
   ]
  },
  {
   "cell_type": "code",
   "execution_count": 89,
   "metadata": {
    "id": "bsbsqduDTCfh"
   },
   "outputs": [],
   "source": [
    "item_item_matrix.to_excel(comment_cooc_freq_file, index=True)"
   ]
  },
  {
   "cell_type": "markdown",
   "metadata": {
    "id": "O8nlNNE4TCfj"
   },
   "source": [
    "### Create co-occurrence matrix with Lift normalization"
   ]
  },
  {
   "cell_type": "code",
   "execution_count": 90,
   "metadata": {
    "id": "Qykd9Z88TCfj"
   },
   "outputs": [],
   "source": [
    "item_item_matrix = pd.DataFrame(index=join_df.columns,columns=join_df.columns).fillna(0)"
   ]
  },
  {
   "cell_type": "code",
   "execution_count": 91,
   "metadata": {
    "id": "ElfF27atTCfp"
   },
   "outputs": [],
   "source": [
    "def a_in_b(df,i,j):\n",
    "    PAIB = pd.DataFrame(df.groupby(df.iloc[:,j].name)[df.iloc[:,i].name].value_counts())\n",
    "    PAIB.index.names = ['B','A']\n",
    "    PAIB.columns = ['freq']\n",
    "    PAIB.reset_index(inplace=True)\n",
    "    PAIB_ = PAIB[(PAIB.A>0)&(PAIB.B>0)]\n",
    "    return PAIB_.freq.sum()/PAIB.freq.sum()"
   ]
  },
  {
   "cell_type": "code",
   "execution_count": 92,
   "metadata": {
    "id": "h1sDGAMWTCfr"
   },
   "outputs": [],
   "source": [
    "for i in range(0,len(item_item_matrix.columns)) :\n",
    "    for j in range(0,len(item_item_matrix.columns)) :\n",
    "        A = join_df.iloc[:,i]\n",
    "        B = join_df.iloc[:,j]\n",
    "        PA = A[A!=0].count()/A.shape[0]\n",
    "        PB = B[B!=0].count()/B.shape[0]\n",
    "        PAB = PB*a_in_b(join_df,i,j)\n",
    "        item_item_matrix.iloc[i,j] = PAB/(PA*PB)"
   ]
  },
  {
   "cell_type": "code",
   "execution_count": 93,
   "metadata": {
    "id": "Wzd336KbTCfs"
   },
   "outputs": [],
   "source": [
    "item_item_matrix.replace([np.inf, -np.inf], np.nan,inplace=True)\n",
    "item_item_matrix.fillna(0,inplace=True)"
   ]
  },
  {
   "cell_type": "code",
   "execution_count": 94,
   "metadata": {
    "id": "8qG7pCYfTCfu"
   },
   "outputs": [
    {
     "data": {
      "text/html": [
       "<div>\n",
       "<style scoped>\n",
       "    .dataframe tbody tr th:only-of-type {\n",
       "        vertical-align: middle;\n",
       "    }\n",
       "\n",
       "    .dataframe tbody tr th {\n",
       "        vertical-align: top;\n",
       "    }\n",
       "\n",
       "    .dataframe thead th {\n",
       "        text-align: right;\n",
       "    }\n",
       "</style>\n",
       "<table border=\"1\" class=\"dataframe\">\n",
       "  <thead>\n",
       "    <tr style=\"text-align: right;\">\n",
       "      <th></th>\n",
       "      <th>เมจิ</th>\n",
       "      <th>ไทยเดนมาร์ค</th>\n",
       "      <th>ดัชมิลล์</th>\n",
       "      <th>แมคโนเลีย</th>\n",
       "      <th>จิตรลดา</th>\n",
       "      <th>แดรี่โฮม</th>\n",
       "      <th>โฟร์โมสต์</th>\n",
       "      <th>โชคชัย</th>\n",
       "      <th>คาเนชั่น</th>\n",
       "      <th>หนองโพ</th>\n",
       "      <th>...</th>\n",
       "      <th>พนักงานขายนม</th>\n",
       "      <th>ความแข็งแรง</th>\n",
       "      <th>ผิดสังเกต</th>\n",
       "      <th>เสียความรู้สึก</th>\n",
       "      <th>ไอโอดีน</th>\n",
       "      <th>พรีเซ็นเตอร์</th>\n",
       "      <th>สุนัข</th>\n",
       "      <th>คายทิ้ง</th>\n",
       "      <th>มีลูก</th>\n",
       "      <th>คุณแม่มือใหม่</th>\n",
       "    </tr>\n",
       "  </thead>\n",
       "  <tbody>\n",
       "    <tr>\n",
       "      <th>เมจิ</th>\n",
       "      <td>1.000000</td>\n",
       "      <td>0.049170</td>\n",
       "      <td>0.062580</td>\n",
       "      <td>0.002554</td>\n",
       "      <td>0.026820</td>\n",
       "      <td>0.021073</td>\n",
       "      <td>0.078544</td>\n",
       "      <td>0.039591</td>\n",
       "      <td>0.007663</td>\n",
       "      <td>0.049808</td>\n",
       "      <td>...</td>\n",
       "      <td>0.000639</td>\n",
       "      <td>0.000000</td>\n",
       "      <td>0.000639</td>\n",
       "      <td>0.000639</td>\n",
       "      <td>0.0</td>\n",
       "      <td>0.001916</td>\n",
       "      <td>0.0</td>\n",
       "      <td>0.000000</td>\n",
       "      <td>0.000000</td>\n",
       "      <td>0.0</td>\n",
       "    </tr>\n",
       "    <tr>\n",
       "      <th>ไทยเดนมาร์ค</th>\n",
       "      <td>0.165236</td>\n",
       "      <td>1.000000</td>\n",
       "      <td>0.055794</td>\n",
       "      <td>0.002146</td>\n",
       "      <td>0.186695</td>\n",
       "      <td>0.047210</td>\n",
       "      <td>0.178112</td>\n",
       "      <td>0.096567</td>\n",
       "      <td>0.000000</td>\n",
       "      <td>0.223176</td>\n",
       "      <td>...</td>\n",
       "      <td>0.000000</td>\n",
       "      <td>0.002146</td>\n",
       "      <td>0.000000</td>\n",
       "      <td>0.000000</td>\n",
       "      <td>0.0</td>\n",
       "      <td>0.000000</td>\n",
       "      <td>0.0</td>\n",
       "      <td>0.000000</td>\n",
       "      <td>0.010730</td>\n",
       "      <td>0.0</td>\n",
       "    </tr>\n",
       "    <tr>\n",
       "      <th>ดัชมิลล์</th>\n",
       "      <td>0.270718</td>\n",
       "      <td>0.071823</td>\n",
       "      <td>1.000000</td>\n",
       "      <td>0.002762</td>\n",
       "      <td>0.058011</td>\n",
       "      <td>0.013812</td>\n",
       "      <td>0.176796</td>\n",
       "      <td>0.060773</td>\n",
       "      <td>0.002762</td>\n",
       "      <td>0.082873</td>\n",
       "      <td>...</td>\n",
       "      <td>0.000000</td>\n",
       "      <td>0.002762</td>\n",
       "      <td>0.000000</td>\n",
       "      <td>0.002762</td>\n",
       "      <td>0.0</td>\n",
       "      <td>0.002762</td>\n",
       "      <td>0.0</td>\n",
       "      <td>0.002762</td>\n",
       "      <td>0.002762</td>\n",
       "      <td>0.0</td>\n",
       "    </tr>\n",
       "    <tr>\n",
       "      <th>แมคโนเลีย</th>\n",
       "      <td>0.444444</td>\n",
       "      <td>0.111111</td>\n",
       "      <td>0.111111</td>\n",
       "      <td>1.000000</td>\n",
       "      <td>0.111111</td>\n",
       "      <td>0.111111</td>\n",
       "      <td>0.333333</td>\n",
       "      <td>0.111111</td>\n",
       "      <td>0.000000</td>\n",
       "      <td>0.000000</td>\n",
       "      <td>...</td>\n",
       "      <td>0.000000</td>\n",
       "      <td>0.000000</td>\n",
       "      <td>0.000000</td>\n",
       "      <td>0.000000</td>\n",
       "      <td>0.0</td>\n",
       "      <td>0.000000</td>\n",
       "      <td>0.0</td>\n",
       "      <td>0.000000</td>\n",
       "      <td>0.000000</td>\n",
       "      <td>0.0</td>\n",
       "    </tr>\n",
       "    <tr>\n",
       "      <th>จิตรลดา</th>\n",
       "      <td>0.132075</td>\n",
       "      <td>0.273585</td>\n",
       "      <td>0.066038</td>\n",
       "      <td>0.003145</td>\n",
       "      <td>1.000000</td>\n",
       "      <td>0.034591</td>\n",
       "      <td>0.122642</td>\n",
       "      <td>0.094340</td>\n",
       "      <td>0.000000</td>\n",
       "      <td>0.235849</td>\n",
       "      <td>...</td>\n",
       "      <td>0.000000</td>\n",
       "      <td>0.003145</td>\n",
       "      <td>0.000000</td>\n",
       "      <td>0.000000</td>\n",
       "      <td>0.0</td>\n",
       "      <td>0.000000</td>\n",
       "      <td>0.0</td>\n",
       "      <td>0.000000</td>\n",
       "      <td>0.009434</td>\n",
       "      <td>0.0</td>\n",
       "    </tr>\n",
       "  </tbody>\n",
       "</table>\n",
       "<p>5 rows × 195 columns</p>\n",
       "</div>"
      ],
      "text/plain": [
       "                 เมจิ  ไทยเดนมาร์ค  ดัชมิลล์  แมคโนเลีย   จิตรลดา  แดรี่โฮม  \\\n",
       "เมจิ         1.000000     0.049170  0.062580   0.002554  0.026820  0.021073   \n",
       "ไทยเดนมาร์ค  0.165236     1.000000  0.055794   0.002146  0.186695  0.047210   \n",
       "ดัชมิลล์     0.270718     0.071823  1.000000   0.002762  0.058011  0.013812   \n",
       "แมคโนเลีย    0.444444     0.111111  0.111111   1.000000  0.111111  0.111111   \n",
       "จิตรลดา      0.132075     0.273585  0.066038   0.003145  1.000000  0.034591   \n",
       "\n",
       "             โฟร์โมสต์    โชคชัย  คาเนชั่น    หนองโพ  ...  พนักงานขายนม  \\\n",
       "เมจิ          0.078544  0.039591  0.007663  0.049808  ...      0.000639   \n",
       "ไทยเดนมาร์ค   0.178112  0.096567  0.000000  0.223176  ...      0.000000   \n",
       "ดัชมิลล์      0.176796  0.060773  0.002762  0.082873  ...      0.000000   \n",
       "แมคโนเลีย     0.333333  0.111111  0.000000  0.000000  ...      0.000000   \n",
       "จิตรลดา       0.122642  0.094340  0.000000  0.235849  ...      0.000000   \n",
       "\n",
       "             ความแข็งแรง  ผิดสังเกต  เสียความรู้สึก  ไอโอดีน  พรีเซ็นเตอร์  \\\n",
       "เมจิ            0.000000   0.000639        0.000639      0.0      0.001916   \n",
       "ไทยเดนมาร์ค     0.002146   0.000000        0.000000      0.0      0.000000   \n",
       "ดัชมิลล์        0.002762   0.000000        0.002762      0.0      0.002762   \n",
       "แมคโนเลีย       0.000000   0.000000        0.000000      0.0      0.000000   \n",
       "จิตรลดา         0.003145   0.000000        0.000000      0.0      0.000000   \n",
       "\n",
       "             สุนัข   คายทิ้ง     มีลูก  คุณแม่มือใหม่  \n",
       "เมจิ           0.0  0.000000  0.000000            0.0  \n",
       "ไทยเดนมาร์ค    0.0  0.000000  0.010730            0.0  \n",
       "ดัชมิลล์       0.0  0.002762  0.002762            0.0  \n",
       "แมคโนเลีย      0.0  0.000000  0.000000            0.0  \n",
       "จิตรลดา        0.0  0.000000  0.009434            0.0  \n",
       "\n",
       "[5 rows x 195 columns]"
      ]
     },
     "execution_count": 94,
     "metadata": {},
     "output_type": "execute_result"
    }
   ],
   "source": [
    "item_item_matrix.head()"
   ]
  },
  {
   "cell_type": "code",
   "execution_count": 95,
   "metadata": {
    "id": "LsZZMOcTTCfw"
   },
   "outputs": [],
   "source": [
    "item_item_matrix.to_excel(comment_cooc_lift_file, index=True)"
   ]
  },
  {
   "cell_type": "markdown",
   "metadata": {},
   "source": [
    "### Create co-occurrence matrix with Jaccard Distance<br>\n",
    "* สำหรับทำ Robusness check"
   ]
  },
  {
   "cell_type": "code",
   "execution_count": 96,
   "metadata": {},
   "outputs": [],
   "source": [
    "item_item_matrix = pd.DataFrame(index=join_df.columns,columns=join_df.columns).fillna(0)"
   ]
  },
  {
   "cell_type": "code",
   "execution_count": 97,
   "metadata": {},
   "outputs": [],
   "source": [
    "def jaccard_sim(df,i,j):\n",
    "    PAIB = pd.DataFrame(df.groupby(df.iloc[:,i].name)[df.iloc[:,j].name].value_counts())\n",
    "    PAIB.index.names = ['A','B']\n",
    "    PAIB.columns = ['freq']\n",
    "    PAIB.reset_index(inplace=True)\n",
    "    return jaccard_score(PAIB.A, PAIB.B, average='macro')"
   ]
  },
  {
   "cell_type": "code",
   "execution_count": 98,
   "metadata": {},
   "outputs": [],
   "source": [
    "# Co-occurrence\n",
    "for i in range(0,len(item_item_matrix.columns)):\n",
    "    for j in range(0,len(item_item_matrix.columns)):\n",
    "        if i != j:\n",
    "            item_item_matrix.iloc[i,j] = jaccard_sim(join_df,i,j)\n",
    "        else:\n",
    "            item_item_matrix.iloc[i,j] = 0"
   ]
  },
  {
   "cell_type": "code",
   "execution_count": 99,
   "metadata": {},
   "outputs": [
    {
     "data": {
      "text/html": [
       "<div>\n",
       "<style scoped>\n",
       "    .dataframe tbody tr th:only-of-type {\n",
       "        vertical-align: middle;\n",
       "    }\n",
       "\n",
       "    .dataframe tbody tr th {\n",
       "        vertical-align: top;\n",
       "    }\n",
       "\n",
       "    .dataframe thead th {\n",
       "        text-align: right;\n",
       "    }\n",
       "</style>\n",
       "<table border=\"1\" class=\"dataframe\">\n",
       "  <thead>\n",
       "    <tr style=\"text-align: right;\">\n",
       "      <th></th>\n",
       "      <th>เมจิ</th>\n",
       "      <th>ไทยเดนมาร์ค</th>\n",
       "      <th>ดัชมิลล์</th>\n",
       "      <th>แมคโนเลีย</th>\n",
       "      <th>จิตรลดา</th>\n",
       "      <th>แดรี่โฮม</th>\n",
       "      <th>โฟร์โมสต์</th>\n",
       "      <th>โชคชัย</th>\n",
       "      <th>คาเนชั่น</th>\n",
       "      <th>หนองโพ</th>\n",
       "      <th>...</th>\n",
       "      <th>พนักงานขายนม</th>\n",
       "      <th>ความแข็งแรง</th>\n",
       "      <th>ผิดสังเกต</th>\n",
       "      <th>เสียความรู้สึก</th>\n",
       "      <th>ไอโอดีน</th>\n",
       "      <th>พรีเซ็นเตอร์</th>\n",
       "      <th>สุนัข</th>\n",
       "      <th>คายทิ้ง</th>\n",
       "      <th>มีลูก</th>\n",
       "      <th>คุณแม่มือใหม่</th>\n",
       "    </tr>\n",
       "  </thead>\n",
       "  <tbody>\n",
       "    <tr>\n",
       "      <th>เมจิ</th>\n",
       "      <td>0.000000</td>\n",
       "      <td>0.036851</td>\n",
       "      <td>0.024578</td>\n",
       "      <td>0.037879</td>\n",
       "      <td>0.019048</td>\n",
       "      <td>0.022222</td>\n",
       "      <td>0.029208</td>\n",
       "      <td>0.042424</td>\n",
       "      <td>0.047902</td>\n",
       "      <td>0.039394</td>\n",
       "      <td>...</td>\n",
       "      <td>0.053719</td>\n",
       "      <td>0.007576</td>\n",
       "      <td>0.007576</td>\n",
       "      <td>0.006993</td>\n",
       "      <td>0.004902</td>\n",
       "      <td>0.030303</td>\n",
       "      <td>0.006993</td>\n",
       "      <td>0.007576</td>\n",
       "      <td>0.006061</td>\n",
       "      <td>0.007576</td>\n",
       "    </tr>\n",
       "    <tr>\n",
       "      <th>ไทยเดนมาร์ค</th>\n",
       "      <td>0.036851</td>\n",
       "      <td>0.000000</td>\n",
       "      <td>0.084416</td>\n",
       "      <td>0.079365</td>\n",
       "      <td>0.108333</td>\n",
       "      <td>0.060606</td>\n",
       "      <td>0.047078</td>\n",
       "      <td>0.050000</td>\n",
       "      <td>0.018519</td>\n",
       "      <td>0.108995</td>\n",
       "      <td>...</td>\n",
       "      <td>0.023810</td>\n",
       "      <td>0.023810</td>\n",
       "      <td>0.020833</td>\n",
       "      <td>0.020833</td>\n",
       "      <td>0.011905</td>\n",
       "      <td>0.023810</td>\n",
       "      <td>0.020833</td>\n",
       "      <td>0.023810</td>\n",
       "      <td>0.044444</td>\n",
       "      <td>0.023810</td>\n",
       "    </tr>\n",
       "    <tr>\n",
       "      <th>ดัชมิลล์</th>\n",
       "      <td>0.024578</td>\n",
       "      <td>0.084416</td>\n",
       "      <td>0.000000</td>\n",
       "      <td>0.065476</td>\n",
       "      <td>0.036281</td>\n",
       "      <td>0.047619</td>\n",
       "      <td>0.040873</td>\n",
       "      <td>0.041558</td>\n",
       "      <td>0.061905</td>\n",
       "      <td>0.050000</td>\n",
       "      <td>...</td>\n",
       "      <td>0.017857</td>\n",
       "      <td>0.017857</td>\n",
       "      <td>0.015873</td>\n",
       "      <td>0.063492</td>\n",
       "      <td>0.010989</td>\n",
       "      <td>0.065476</td>\n",
       "      <td>0.015873</td>\n",
       "      <td>0.065476</td>\n",
       "      <td>0.012987</td>\n",
       "      <td>0.017857</td>\n",
       "    </tr>\n",
       "    <tr>\n",
       "      <th>แมคโนเลีย</th>\n",
       "      <td>0.037879</td>\n",
       "      <td>0.079365</td>\n",
       "      <td>0.065476</td>\n",
       "      <td>0.000000</td>\n",
       "      <td>0.100000</td>\n",
       "      <td>0.079365</td>\n",
       "      <td>0.065476</td>\n",
       "      <td>0.100000</td>\n",
       "      <td>0.050000</td>\n",
       "      <td>0.033333</td>\n",
       "      <td>...</td>\n",
       "      <td>0.166667</td>\n",
       "      <td>0.166667</td>\n",
       "      <td>0.083333</td>\n",
       "      <td>0.083333</td>\n",
       "      <td>0.017857</td>\n",
       "      <td>0.166667</td>\n",
       "      <td>0.083333</td>\n",
       "      <td>0.166667</td>\n",
       "      <td>0.033333</td>\n",
       "      <td>0.166667</td>\n",
       "    </tr>\n",
       "    <tr>\n",
       "      <th>จิตรลดา</th>\n",
       "      <td>0.019048</td>\n",
       "      <td>0.108333</td>\n",
       "      <td>0.036281</td>\n",
       "      <td>0.100000</td>\n",
       "      <td>0.000000</td>\n",
       "      <td>0.058333</td>\n",
       "      <td>0.079365</td>\n",
       "      <td>0.055556</td>\n",
       "      <td>0.025000</td>\n",
       "      <td>0.155556</td>\n",
       "      <td>...</td>\n",
       "      <td>0.033333</td>\n",
       "      <td>0.033333</td>\n",
       "      <td>0.028571</td>\n",
       "      <td>0.028571</td>\n",
       "      <td>0.012987</td>\n",
       "      <td>0.033333</td>\n",
       "      <td>0.028571</td>\n",
       "      <td>0.033333</td>\n",
       "      <td>0.072222</td>\n",
       "      <td>0.033333</td>\n",
       "    </tr>\n",
       "  </tbody>\n",
       "</table>\n",
       "<p>5 rows × 195 columns</p>\n",
       "</div>"
      ],
      "text/plain": [
       "                 เมจิ  ไทยเดนมาร์ค  ดัชมิลล์  แมคโนเลีย   จิตรลดา  แดรี่โฮม  \\\n",
       "เมจิ         0.000000     0.036851  0.024578   0.037879  0.019048  0.022222   \n",
       "ไทยเดนมาร์ค  0.036851     0.000000  0.084416   0.079365  0.108333  0.060606   \n",
       "ดัชมิลล์     0.024578     0.084416  0.000000   0.065476  0.036281  0.047619   \n",
       "แมคโนเลีย    0.037879     0.079365  0.065476   0.000000  0.100000  0.079365   \n",
       "จิตรลดา      0.019048     0.108333  0.036281   0.100000  0.000000  0.058333   \n",
       "\n",
       "             โฟร์โมสต์    โชคชัย  คาเนชั่น    หนองโพ  ...  พนักงานขายนม  \\\n",
       "เมจิ          0.029208  0.042424  0.047902  0.039394  ...      0.053719   \n",
       "ไทยเดนมาร์ค   0.047078  0.050000  0.018519  0.108995  ...      0.023810   \n",
       "ดัชมิลล์      0.040873  0.041558  0.061905  0.050000  ...      0.017857   \n",
       "แมคโนเลีย     0.065476  0.100000  0.050000  0.033333  ...      0.166667   \n",
       "จิตรลดา       0.079365  0.055556  0.025000  0.155556  ...      0.033333   \n",
       "\n",
       "             ความแข็งแรง  ผิดสังเกต  เสียความรู้สึก   ไอโอดีน  พรีเซ็นเตอร์  \\\n",
       "เมจิ            0.007576   0.007576        0.006993  0.004902      0.030303   \n",
       "ไทยเดนมาร์ค     0.023810   0.020833        0.020833  0.011905      0.023810   \n",
       "ดัชมิลล์        0.017857   0.015873        0.063492  0.010989      0.065476   \n",
       "แมคโนเลีย       0.166667   0.083333        0.083333  0.017857      0.166667   \n",
       "จิตรลดา         0.033333   0.028571        0.028571  0.012987      0.033333   \n",
       "\n",
       "                สุนัข   คายทิ้ง     มีลูก  คุณแม่มือใหม่  \n",
       "เมจิ         0.006993  0.007576  0.006061       0.007576  \n",
       "ไทยเดนมาร์ค  0.020833  0.023810  0.044444       0.023810  \n",
       "ดัชมิลล์     0.015873  0.065476  0.012987       0.017857  \n",
       "แมคโนเลีย    0.083333  0.166667  0.033333       0.166667  \n",
       "จิตรลดา      0.028571  0.033333  0.072222       0.033333  \n",
       "\n",
       "[5 rows x 195 columns]"
      ]
     },
     "execution_count": 99,
     "metadata": {},
     "output_type": "execute_result"
    }
   ],
   "source": [
    "item_item_matrix.head()"
   ]
  },
  {
   "cell_type": "code",
   "execution_count": 100,
   "metadata": {
    "id": "LsZZMOcTTCfw"
   },
   "outputs": [],
   "source": [
    "item_item_matrix.to_excel(comment_cooc_jacc_file, index=True)"
   ]
  },
  {
   "cell_type": "markdown",
   "metadata": {},
   "source": [
    "### Robustness check"
   ]
  },
  {
   "cell_type": "code",
   "execution_count": null,
   "metadata": {},
   "outputs": [],
   "source": []
  },
  {
   "cell_type": "code",
   "execution_count": null,
   "metadata": {},
   "outputs": [],
   "source": []
  }
 ],
 "metadata": {
  "colab": {
   "collapsed_sections": [
    "EpwX95XlTCdl",
    "_Q9pU1J6TCe5",
    "NKW--A73mzli",
    "uBBA36fDTCfZ",
    "O8nlNNE4TCfj"
   ],
   "name": "EDA_Token_CoocMat.ipynb",
   "provenance": []
  },
  "kernelspec": {
   "display_name": "Python 3",
   "language": "python",
   "name": "python3"
  },
  "language_info": {
   "codemirror_mode": {
    "name": "ipython",
    "version": 3
   },
   "file_extension": ".py",
   "mimetype": "text/x-python",
   "name": "python",
   "nbconvert_exporter": "python",
   "pygments_lexer": "ipython3",
   "version": "3.7.3"
  }
 },
 "nbformat": 4,
 "nbformat_minor": 1
}
