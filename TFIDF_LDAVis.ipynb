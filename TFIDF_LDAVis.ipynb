{
 "cells": [
  {
   "cell_type": "markdown",
   "metadata": {
    "id": "xoY8sy40TCb5"
   },
   "source": [
    "### IS - Brand position\n",
    "Finding Product position on Social Network (PPSN)"
   ]
  },
  {
   "cell_type": "raw",
   "metadata": {
    "colab": {
     "base_uri": "https://localhost:8080/"
    },
    "executionInfo": {
     "elapsed": 28353,
     "status": "ok",
     "timestamp": 1604024868503,
     "user": {
      "displayName": "Pacharapol O.",
      "photoUrl": "https://lh3.googleusercontent.com/a-/AOh14GiBNaVjsCxoMVUqEvSDC7eauF0V2ZD7B-TzevR1TQ=s64",
      "userId": "00378494490135533545"
     },
     "user_tz": -420
    },
    "id": "GkBEUBUqTGuf",
    "outputId": "cb22db45-820a-48fd-c11a-a0568439778f"
   },
   "source": [
    "from google.colab import drive\n",
    "drive.mount('/content/drive')"
   ]
  },
  {
   "cell_type": "raw",
   "metadata": {
    "colab": {
     "base_uri": "https://localhost:8080/"
    },
    "executionInfo": {
     "elapsed": 1693,
     "status": "ok",
     "timestamp": 1604024868819,
     "user": {
      "displayName": "Pacharapol O.",
      "photoUrl": "https://lh3.googleusercontent.com/a-/AOh14GiBNaVjsCxoMVUqEvSDC7eauF0V2ZD7B-TzevR1TQ=s64",
      "userId": "00378494490135533545"
     },
     "user_tz": -420
    },
    "id": "_5mrzpx3TH9K",
    "outputId": "129bb192-4ac2-4b03-bc89-7ee7a65d5032"
   },
   "source": [
    "cd /content/drive/My\\ Drive/Colab\\ Notebooks/Master_PJ_DRMABS/Datasource"
   ]
  },
  {
   "cell_type": "code",
   "execution_count": 1,
   "metadata": {
    "executionInfo": {
     "elapsed": 2631,
     "status": "ok",
     "timestamp": 1604024879769,
     "user": {
      "displayName": "Pacharapol O.",
      "photoUrl": "https://lh3.googleusercontent.com/a-/AOh14GiBNaVjsCxoMVUqEvSDC7eauF0V2ZD7B-TzevR1TQ=s64",
      "userId": "00378494490135533545"
     },
     "user_tz": -420
    },
    "id": "cC0cBdCdTCb6"
   },
   "outputs": [],
   "source": [
    "import networkx as nx\n",
    "import numpy as np\n",
    "import pandas as pd\n",
    "import itertools\n",
    "import math\n",
    "import string\n",
    "import json\n",
    "import pymongo\n",
    "from itertools import groupby"
   ]
  },
  {
   "cell_type": "code",
   "execution_count": 2,
   "metadata": {},
   "outputs": [
    {
     "name": "stderr",
     "output_type": "stream",
     "text": [
      "C:\\ProgramData\\Anaconda3\\lib\\site-packages\\past\\types\\oldstr.py:5: DeprecationWarning: Using or importing the ABCs from 'collections' instead of from 'collections.abc' is deprecated, and in 3.8 it will stop working\n",
      "  from collections import Iterable\n",
      "C:\\ProgramData\\Anaconda3\\lib\\site-packages\\past\\builtins\\misc.py:4: DeprecationWarning: Using or importing the ABCs from 'collections' instead of from 'collections.abc' is deprecated, and in 3.8 it will stop working\n",
      "  from collections import Mapping\n"
     ]
    }
   ],
   "source": [
    "import gensim\n",
    "import pyLDAvis.gensim\n",
    "pyLDAvis.enable_notebook()\n",
    "\n",
    "import warnings\n",
    "warnings.filterwarnings(\"ignore\", category=DeprecationWarning)\n",
    "warnings.filterwarnings(\"ignore\", category=pd.core.common.SettingWithCopyWarning)"
   ]
  },
  {
   "cell_type": "code",
   "execution_count": 3,
   "metadata": {
    "executionInfo": {
     "elapsed": 2031,
     "status": "ok",
     "timestamp": 1604024879770,
     "user": {
      "displayName": "Pacharapol O.",
      "photoUrl": "https://lh3.googleusercontent.com/a-/AOh14GiBNaVjsCxoMVUqEvSDC7eauF0V2ZD7B-TzevR1TQ=s64",
      "userId": "00378494490135533545"
     },
     "user_tz": -420
    },
    "id": "1kqXURiiTCb-"
   },
   "outputs": [],
   "source": [
    "import time\n",
    "from datetime import datetime\n",
    "today = datetime.now()"
   ]
  },
  {
   "cell_type": "code",
   "execution_count": 4,
   "metadata": {},
   "outputs": [
    {
     "name": "stderr",
     "output_type": "stream",
     "text": [
      "C:\\ProgramData\\Anaconda3\\lib\\site-packages\\statsmodels\\tools\\_testing.py:19: FutureWarning: pandas.util.testing is deprecated. Use the functions in the public API at pandas.testing instead.\n",
      "  import pandas.util.testing as tm\n"
     ]
    }
   ],
   "source": [
    "import statistics as stat\n",
    "import matplotlib.pyplot as plt\n",
    "import seaborn as sns"
   ]
  },
  {
   "cell_type": "code",
   "execution_count": 5,
   "metadata": {
    "executionInfo": {
     "elapsed": 6121,
     "status": "ok",
     "timestamp": 1604024888335,
     "user": {
      "displayName": "Pacharapol O.",
      "photoUrl": "https://lh3.googleusercontent.com/a-/AOh14GiBNaVjsCxoMVUqEvSDC7eauF0V2ZD7B-TzevR1TQ=s64",
      "userId": "00378494490135533545"
     },
     "user_tz": -420
    },
    "id": "acWWFhczTCcO"
   },
   "outputs": [],
   "source": [
    "from bs4 import BeautifulSoup\n",
    "from urllib.request import urlopen"
   ]
  },
  {
   "cell_type": "code",
   "execution_count": 6,
   "metadata": {
    "executionInfo": {
     "elapsed": 5596,
     "status": "ok",
     "timestamp": 1604024888336,
     "user": {
      "displayName": "Pacharapol O.",
      "photoUrl": "https://lh3.googleusercontent.com/a-/AOh14GiBNaVjsCxoMVUqEvSDC7eauF0V2ZD7B-TzevR1TQ=s64",
      "userId": "00378494490135533545"
     },
     "user_tz": -420
    },
    "id": "l0SZe4-LTCcd"
   },
   "outputs": [],
   "source": [
    "from IPython.display import clear_output"
   ]
  },
  {
   "cell_type": "code",
   "execution_count": 7,
   "metadata": {},
   "outputs": [],
   "source": [
    "# Connect MongoDB\n",
    "myclient = pymongo.MongoClient(\"mongodb://localhost:27017/\")\n",
    "mydb = myclient[\"NIDA_PPSN_PRD\"]\n",
    "col_thread = mydb[\"NIDA_PPSN_THREAD\"]\n",
    "col_comment = mydb[\"NIDA_PPSN_COMMENT\"]"
   ]
  },
  {
   "cell_type": "code",
   "execution_count": 8,
   "metadata": {},
   "outputs": [],
   "source": [
    "def reduced_keyword(wtkn,redCol):\n",
    "    del_list = []\n",
    "    ret_wtkn = wtkn\n",
    "    for each in ret_wtkn:\n",
    "        if each not in redCol:\n",
    "            del_list.append(each)\n",
    "    ret_wtkn = [x for x in ret_wtkn if x not in del_list]\n",
    "    return ret_wtkn"
   ]
  },
  {
   "cell_type": "markdown",
   "metadata": {},
   "source": [
    "### 3.Process หัวกระทู้เพื่อดึง Domain (Brand & Product) ไม่ใช้โมเดลเทรนแล้วทำนาย ต้องการความถูกต้อง 100%"
   ]
  },
  {
   "cell_type": "code",
   "execution_count": 9,
   "metadata": {},
   "outputs": [],
   "source": [
    "cursor_thread = col_thread.find()\n",
    "df_thr_process = pd.DataFrame(cursor_thread)"
   ]
  },
  {
   "cell_type": "code",
   "execution_count": 10,
   "metadata": {},
   "outputs": [],
   "source": [
    "cursor_comment = col_comment.find()\n",
    "df_cmt_process = pd.DataFrame(cursor_comment)"
   ]
  },
  {
   "cell_type": "code",
   "execution_count": 11,
   "metadata": {},
   "outputs": [],
   "source": [
    "df_urls_milk = df_thr_process[(df_thr_process.t_mention_brand.str.len() != 0) | (df_thr_process.t_mention_product.str.len() != 0)]\n",
    "df_urls_milk['t_mention_brand'] = df_urls_milk['t_mention_brand'].apply(lambda x: repr(set(x)))\n",
    "df_urls_milk['t_mention_product'] = df_urls_milk['t_mention_product'].apply(lambda x: repr(set(x)))"
   ]
  },
  {
   "cell_type": "code",
   "execution_count": 12,
   "metadata": {
    "scrolled": true
   },
   "outputs": [],
   "source": [
    "df_join_url = pd.merge(df_urls_milk,df_cmt_process,how='inner',on='URLs')"
   ]
  },
  {
   "cell_type": "code",
   "execution_count": 13,
   "metadata": {},
   "outputs": [],
   "source": [
    "df_join_url.drop(columns=['_id_x','_id_y','headline_x'],inplace=True)"
   ]
  },
  {
   "cell_type": "code",
   "execution_count": 14,
   "metadata": {},
   "outputs": [],
   "source": [
    "#df_join_url = pd.merge(df_urls_milk,df_cmt_process,how='inner',on='URLs')\n",
    "#df_join_url.drop(columns=['_id_x','_id_y','headline_x'],inplace=True)\n",
    "df_join_url.columns = ['URLs','token_headline','t_mention_dairy','t_mention_product','t_mention_brand'\n",
    "                       ,'commentId','headline','text','Retrived_date','token_text','cmt_mention_dairy'\n",
    "                       ,'cmt_mention_product','cmt_mention_brand']"
   ]
  },
  {
   "cell_type": "code",
   "execution_count": 15,
   "metadata": {},
   "outputs": [
    {
     "data": {
      "text/html": [
       "<div>\n",
       "<style scoped>\n",
       "    .dataframe tbody tr th:only-of-type {\n",
       "        vertical-align: middle;\n",
       "    }\n",
       "\n",
       "    .dataframe tbody tr th {\n",
       "        vertical-align: top;\n",
       "    }\n",
       "\n",
       "    .dataframe thead th {\n",
       "        text-align: right;\n",
       "    }\n",
       "</style>\n",
       "<table border=\"1\" class=\"dataframe\">\n",
       "  <thead>\n",
       "    <tr style=\"text-align: right;\">\n",
       "      <th></th>\n",
       "      <th>URLs</th>\n",
       "      <th>token_headline</th>\n",
       "      <th>t_mention_dairy</th>\n",
       "      <th>t_mention_product</th>\n",
       "      <th>t_mention_brand</th>\n",
       "      <th>commentId</th>\n",
       "      <th>headline</th>\n",
       "      <th>text</th>\n",
       "      <th>Retrived_date</th>\n",
       "      <th>token_text</th>\n",
       "      <th>cmt_mention_dairy</th>\n",
       "      <th>cmt_mention_product</th>\n",
       "      <th>cmt_mention_brand</th>\n",
       "    </tr>\n",
       "  </thead>\n",
       "  <tbody>\n",
       "    <tr>\n",
       "      <th>0</th>\n",
       "      <td>https://pantip.com/topic/39868603</td>\n",
       "      <td>[นม, เมจิ, รสหวาน, หา]</td>\n",
       "      <td>[นม]</td>\n",
       "      <td>{'รสหวาน'}</td>\n",
       "      <td>{'เมจิ'}</td>\n",
       "      <td>1</td>\n",
       "      <td>นมเมจิรสหวานทำไมหายากจังคะ</td>\n",
       "      <td>เมื่อก่อนหลายปีมาแล้ว ในเซเว่นยังมีนมเมจิรสหวา...</td>\n",
       "      <td>2020-11-29 00:13:26.571</td>\n",
       "      <td>[ปี, 7-Eleven, ยังมี, นม, เมจิ, รสหวาน, ขาย, อ...</td>\n",
       "      <td>[นม, นม]</td>\n",
       "      <td>[รสหวาน, รสหวาน]</td>\n",
       "      <td>[เมจิ]</td>\n",
       "    </tr>\n",
       "    <tr>\n",
       "      <th>1</th>\n",
       "      <td>https://pantip.com/topic/39868603</td>\n",
       "      <td>[นม, เมจิ, รสหวาน, หา]</td>\n",
       "      <td>[นม]</td>\n",
       "      <td>{'รสหวาน'}</td>\n",
       "      <td>{'เมจิ'}</td>\n",
       "      <td>2</td>\n",
       "      <td>นมเมจิรสหวานทำไมหายากจังคะ</td>\n",
       "      <td>เบาหวานครับ แฮ่ๆ</td>\n",
       "      <td>2020-11-29 00:13:26.571</td>\n",
       "      <td>[เบาหวาน]</td>\n",
       "      <td>[]</td>\n",
       "      <td>[]</td>\n",
       "      <td>[]</td>\n",
       "    </tr>\n",
       "    <tr>\n",
       "      <th>2</th>\n",
       "      <td>https://pantip.com/topic/39868603</td>\n",
       "      <td>[นม, เมจิ, รสหวาน, หา]</td>\n",
       "      <td>[นม]</td>\n",
       "      <td>{'รสหวาน'}</td>\n",
       "      <td>{'เมจิ'}</td>\n",
       "      <td>3</td>\n",
       "      <td>นมเมจิรสหวานทำไมหายากจังคะ</td>\n",
       "      <td>หาซื้อไม่ได้นี่คิดได้  2 อย่างนะ.    คนไม่ค่อย...</td>\n",
       "      <td>2020-11-29 00:13:26.571</td>\n",
       "      <td>[หา, ซื้อไม่ได้, คิดได้, , คน, กินกัน, ไม่, ทำ...</td>\n",
       "      <td>[]</td>\n",
       "      <td>[รสหวาน]</td>\n",
       "      <td>[]</td>\n",
       "    </tr>\n",
       "  </tbody>\n",
       "</table>\n",
       "</div>"
      ],
      "text/plain": [
       "                                URLs          token_headline t_mention_dairy  \\\n",
       "0  https://pantip.com/topic/39868603  [นม, เมจิ, รสหวาน, หา]            [นม]   \n",
       "1  https://pantip.com/topic/39868603  [นม, เมจิ, รสหวาน, หา]            [นม]   \n",
       "2  https://pantip.com/topic/39868603  [นม, เมจิ, รสหวาน, หา]            [นม]   \n",
       "\n",
       "  t_mention_product t_mention_brand  commentId                    headline  \\\n",
       "0        {'รสหวาน'}        {'เมจิ'}          1  นมเมจิรสหวานทำไมหายากจังคะ   \n",
       "1        {'รสหวาน'}        {'เมจิ'}          2  นมเมจิรสหวานทำไมหายากจังคะ   \n",
       "2        {'รสหวาน'}        {'เมจิ'}          3  นมเมจิรสหวานทำไมหายากจังคะ   \n",
       "\n",
       "                                                text           Retrived_date  \\\n",
       "0  เมื่อก่อนหลายปีมาแล้ว ในเซเว่นยังมีนมเมจิรสหวา... 2020-11-29 00:13:26.571   \n",
       "1                                   เบาหวานครับ แฮ่ๆ 2020-11-29 00:13:26.571   \n",
       "2  หาซื้อไม่ได้นี่คิดได้  2 อย่างนะ.    คนไม่ค่อย... 2020-11-29 00:13:26.571   \n",
       "\n",
       "                                          token_text cmt_mention_dairy  \\\n",
       "0  [ปี, 7-Eleven, ยังมี, นม, เมจิ, รสหวาน, ขาย, อ...          [นม, นม]   \n",
       "1                                          [เบาหวาน]                []   \n",
       "2  [หา, ซื้อไม่ได้, คิดได้, , คน, กินกัน, ไม่, ทำ...                []   \n",
       "\n",
       "  cmt_mention_product cmt_mention_brand  \n",
       "0    [รสหวาน, รสหวาน]            [เมจิ]  \n",
       "1                  []                []  \n",
       "2            [รสหวาน]                []  "
      ]
     },
     "execution_count": 15,
     "metadata": {},
     "output_type": "execute_result"
    }
   ],
   "source": [
    "df_join_url.head(3)"
   ]
  },
  {
   "cell_type": "markdown",
   "metadata": {},
   "source": [
    "EDA#2"
   ]
  },
  {
   "cell_type": "code",
   "execution_count": 16,
   "metadata": {},
   "outputs": [
    {
     "name": "stderr",
     "output_type": "stream",
     "text": [
      "C:\\ProgramData\\Anaconda3\\lib\\site-packages\\ipykernel_launcher.py:2: UserWarning: Pandas doesn't allow columns to be created via a new attribute name - see https://pandas.pydata.org/pandas-docs/stable/indexing.html#attribute-access\n",
      "  \n"
     ]
    }
   ],
   "source": [
    "df_view = df_urls_milk[['URLs','t_mention_product']]\n",
    "df_view.column = ['URLs','t_mention_product']\n",
    "df_view_count = df_view.groupby('t_mention_product').count()"
   ]
  },
  {
   "cell_type": "code",
   "execution_count": 17,
   "metadata": {},
   "outputs": [],
   "source": [
    "df_c_urls_milk = df_cmt_process[(df_cmt_process.cmt_mention_brand.str.len() != 0) | (df_cmt_process.cmt_mention_product.str.len() != 0)]\n",
    "df_c_urls_milk['cmt_mention_brand'] = df_c_urls_milk['cmt_mention_brand'].apply(lambda x: repr(set(x)))\n",
    "df_c_urls_milk['cmt_mention_product'] = df_c_urls_milk['cmt_mention_product'].apply(lambda x: repr(set(x)))"
   ]
  },
  {
   "cell_type": "code",
   "execution_count": 18,
   "metadata": {},
   "outputs": [
    {
     "name": "stderr",
     "output_type": "stream",
     "text": [
      "C:\\ProgramData\\Anaconda3\\lib\\site-packages\\ipykernel_launcher.py:2: UserWarning: Pandas doesn't allow columns to be created via a new attribute name - see https://pandas.pydata.org/pandas-docs/stable/indexing.html#attribute-access\n",
      "  \n"
     ]
    }
   ],
   "source": [
    "df_view2 = df_c_urls_milk[['URLs','cmt_mention_product']]\n",
    "df_view2.column = ['URLs','cmt_mention_product']\n",
    "df_view_count2 = df_view2.groupby('cmt_mention_product').count()"
   ]
  },
  {
   "cell_type": "code",
   "execution_count": 19,
   "metadata": {},
   "outputs": [
    {
     "name": "stdout",
     "output_type": "stream",
     "text": [
      "จำนวนกระทู้ 1515\n",
      "จำนวน comment 62710\n",
      "จำนวนกระทู้พูดถึง brand หรือ มีนมเกี่ยวข้อง อย่างใดอย่างหนึ่ง 193\n",
      "จำนวนกระทู้มีระบุตัว product 58\n",
      "จำนวน comment พูดถึง brand หรือมีนมเกี่ยวข้องง อย่างใดอย่างหนึ่ง 5220\n",
      "จำนวน comment มีระบุตัว product 2449\n",
      "odd product/นม กระทู้ 0.3\n",
      "odd product/นม comment 0.47\n",
      "หมายเหตุ : ไม่ได้ impute ขั้วกระทู้เข้า comment\n"
     ]
    }
   ],
   "source": [
    "print('จำนวนกระทู้',df_thr_process.shape[0])\n",
    "print('จำนวน comment',df_cmt_process.shape[0])\n",
    "print('จำนวนกระทู้พูดถึง brand หรือ มีนมเกี่ยวข้อง อย่างใดอย่างหนึ่ง',df_urls_milk.shape[0])\n",
    "print('จำนวนกระทู้มีระบุตัว product',df_view[(df_view.t_mention_product!=\"{'นม'}\")&(df_view.t_mention_product!=\"set()\")].shape[0])\n",
    "print('จำนวน comment พูดถึง brand หรือมีนมเกี่ยวข้องง อย่างใดอย่างหนึ่ง',df_c_urls_milk.shape[0])\n",
    "print('จำนวน comment มีระบุตัว product',df_view2[(df_view2.cmt_mention_product!=\"{'นม'}\")&(df_view2.cmt_mention_product!=\"set()\")].shape[0])\n",
    "print('odd product/นม กระทู้',round(df_view[(df_view.t_mention_product!=\"{'นม'}\")&(df_view.t_mention_product!=\"set()\")].shape[0]/df_urls_milk.shape[0],2))\n",
    "print('odd product/นม comment',round(df_view2[(df_view2.cmt_mention_product!=\"{'นม'}\")&(df_view2.cmt_mention_product!=\"set()\")].shape[0]/df_c_urls_milk.shape[0],2))\n",
    "print('หมายเหตุ : ไม่ได้ impute ขั้วกระทู้เข้า comment')"
   ]
  },
  {
   "cell_type": "markdown",
   "metadata": {},
   "source": [
    "จาก Issue นี้จะพบว่าทำ Product position ได้ยาก แต่ทำ Brand position แทนได้ เนื่องจากสัดส่วนของข้อความที่มีการพูดถึง brand+flavor \n",
    "มีน้อยกว่าครึ่ง จึงให้ใช้วิธีเอา brand ของหัวกระทู้แปะไปในทุก comment แทน เพื่อทำ Brand Position ส่วน flavor จะกลายเป็น attribute ไป"
   ]
  },
  {
   "cell_type": "code",
   "execution_count": 20,
   "metadata": {
    "scrolled": true
   },
   "outputs": [
    {
     "data": {
      "text/html": [
       "<div>\n",
       "<style scoped>\n",
       "    .dataframe tbody tr th:only-of-type {\n",
       "        vertical-align: middle;\n",
       "    }\n",
       "\n",
       "    .dataframe tbody tr th {\n",
       "        vertical-align: top;\n",
       "    }\n",
       "\n",
       "    .dataframe thead th {\n",
       "        text-align: right;\n",
       "    }\n",
       "</style>\n",
       "<table border=\"1\" class=\"dataframe\">\n",
       "  <thead>\n",
       "    <tr style=\"text-align: right;\">\n",
       "      <th></th>\n",
       "      <th>URLs</th>\n",
       "    </tr>\n",
       "    <tr>\n",
       "      <th>cmt_mention_product</th>\n",
       "      <th></th>\n",
       "    </tr>\n",
       "  </thead>\n",
       "  <tbody>\n",
       "    <tr>\n",
       "      <th>set()</th>\n",
       "      <td>2771</td>\n",
       "    </tr>\n",
       "    <tr>\n",
       "      <th>{'ช็อกโกแลต'}</th>\n",
       "      <td>356</td>\n",
       "    </tr>\n",
       "    <tr>\n",
       "      <th>{'รสจืด'}</th>\n",
       "      <td>320</td>\n",
       "    </tr>\n",
       "    <tr>\n",
       "      <th>{'ไขมันต่ำ'}</th>\n",
       "      <td>203</td>\n",
       "    </tr>\n",
       "    <tr>\n",
       "      <th>{'รสหวาน'}</th>\n",
       "      <td>154</td>\n",
       "    </tr>\n",
       "    <tr>\n",
       "      <th>...</th>\n",
       "      <td>...</td>\n",
       "    </tr>\n",
       "    <tr>\n",
       "      <th>{'รสหวาน', 'ช็อกโกแลต', 'ไขมันต่ำ'}</th>\n",
       "      <td>1</td>\n",
       "    </tr>\n",
       "    <tr>\n",
       "      <th>{'รสหวาน', 'ช็อกโกแลต', 'เมล่อน'}</th>\n",
       "      <td>1</td>\n",
       "    </tr>\n",
       "    <tr>\n",
       "      <th>{'รสหวาน', 'ช็อกโกแลต', 'สตรอว์เบอร์รี'}</th>\n",
       "      <td>1</td>\n",
       "    </tr>\n",
       "    <tr>\n",
       "      <th>{'รสหวาน', 'ช็อกโกแลต', 'สตรอว์เบอร์รี', 'ไขมันต่ำ'}</th>\n",
       "      <td>1</td>\n",
       "    </tr>\n",
       "    <tr>\n",
       "      <th>{'ช็อกโกแลต', 'รสกาแฟ', 'ไขมันต่ำ', 'มอลต์'}</th>\n",
       "      <td>1</td>\n",
       "    </tr>\n",
       "  </tbody>\n",
       "</table>\n",
       "<p>180 rows × 1 columns</p>\n",
       "</div>"
      ],
      "text/plain": [
       "                                                    URLs\n",
       "cmt_mention_product                                     \n",
       "set()                                               2771\n",
       "{'ช็อกโกแลต'}                                        356\n",
       "{'รสจืด'}                                            320\n",
       "{'ไขมันต่ำ'}                                         203\n",
       "{'รสหวาน'}                                           154\n",
       "...                                                  ...\n",
       "{'รสหวาน', 'ช็อกโกแลต', 'ไขมันต่ำ'}                    1\n",
       "{'รสหวาน', 'ช็อกโกแลต', 'เมล่อน'}                      1\n",
       "{'รสหวาน', 'ช็อกโกแลต', 'สตรอว์เบอร์รี'}               1\n",
       "{'รสหวาน', 'ช็อกโกแลต', 'สตรอว์เบอร์รี', 'ไขมัน...     1\n",
       "{'ช็อกโกแลต', 'รสกาแฟ', 'ไขมันต่ำ', 'มอลต์'}           1\n",
       "\n",
       "[180 rows x 1 columns]"
      ]
     },
     "execution_count": 20,
     "metadata": {},
     "output_type": "execute_result"
    }
   ],
   "source": [
    "df_view_count2.sort_values(by='URLs',ascending=False)"
   ]
  },
  {
   "cell_type": "markdown",
   "metadata": {},
   "source": [
    "###  4. (ยกเลิกแต่เก็บ code) คัดเลือกคำมาเป็น Attribute ด้วย TF-IDF"
   ]
  },
  {
   "cell_type": "code",
   "execution_count": null,
   "metadata": {},
   "outputs": [],
   "source": [
    "#import gensim\n",
    "#from gensim.models import TfidfModel"
   ]
  },
  {
   "cell_type": "code",
   "execution_count": null,
   "metadata": {},
   "outputs": [],
   "source": [
    "# Create Bag of Word & calculate TF-IDF\n",
    "#dictionary = gensim.corpora.Dictionary(df_join_url['token_text'])\n",
    "#gensim_corpus = [dictionary.doc2bow(text, allow_update=True) for text in df_join_url['token_text']]\n",
    "#model = TfidfModel(gensim_corpus)\n",
    "#vector = model[gensim_corpus]\n",
    "#word_frequencies = [[(dictionary[id], tfidf_val) for id, tfidf_val in couple] for couple in vector]"
   ]
  },
  {
   "cell_type": "code",
   "execution_count": null,
   "metadata": {},
   "outputs": [],
   "source": [
    "#for i in range(0,len(word_frequencies)):\n",
    "#    word_frequencies[i].sort(key=lambda tup:(-tup[1], tup[0]))  # SORT LIST of TUPLE DESCENDINGLY\n",
    "#    word_frequencies[i] = word_frequencies[i][:10]   "
   ]
  },
  {
   "cell_type": "code",
   "execution_count": null,
   "metadata": {},
   "outputs": [],
   "source": [
    "# List complehension : get the first element of each tuple in a list\n",
    "# https://www.kite.com/python/answers/how-to-get-the-first-element-of-each-tuple-in-a-list-in-python\n",
    "#first_tuple_elements = [[a for a,tf in couple] for couple in word_frequencies]"
   ]
  },
  {
   "cell_type": "code",
   "execution_count": null,
   "metadata": {},
   "outputs": [],
   "source": [
    "#first_tuple_elements"
   ]
  },
  {
   "cell_type": "markdown",
   "metadata": {},
   "source": [
    "### 4. คัดเลือกคำมาเป็น Attribute ด้วย LDAvis"
   ]
  },
  {
   "cell_type": "markdown",
   "metadata": {},
   "source": [
    "https://radimrehurek.com/gensim/models/ldamodel.html"
   ]
  },
  {
   "cell_type": "code",
   "execution_count": 21,
   "metadata": {},
   "outputs": [],
   "source": [
    "# Create Bag of Word & calculate TF-IDF\n",
    "dictionary = gensim.corpora.Dictionary(df_join_url['token_text'])\n",
    "gensim_corpus = [dictionary.doc2bow(text, allow_update=True) for text in df_join_url['token_text']]"
   ]
  },
  {
   "cell_type": "code",
   "execution_count": 25,
   "metadata": {},
   "outputs": [
    {
     "name": "stdout",
     "output_type": "stream",
     "text": [
      "Wall time: 4.79 s\n"
     ]
    }
   ],
   "source": [
    "num_topics = 20\n",
    "chunksize = 5000                  # size of the doc looked at every pass\n",
    "iterations = 50\n",
    "eval_every = 1                    # Don't evaluate model perplexity, takes too much time.\n",
    "\n",
    "# Make a index to word dictionary.\n",
    "temp = dictionary[0]  # This is only to \"load\" the dictionary.\n",
    "id2word = dictionary.id2token\n",
    "\n",
    "%time model = gensim.models.LdaModel(corpus=gensim_corpus, id2word=id2word, chunksize=chunksize \\\n",
    "                                     ,alpha='auto', eta='auto',iterations=iterations \\\n",
    "                                     ,num_topics=num_topics \\\n",
    "                                     , eval_every=eval_every)"
   ]
  },
  {
   "cell_type": "code",
   "execution_count": 28,
   "metadata": {},
   "outputs": [],
   "source": [
    "#pyLDAvis.gensim.prepare(model, gensim_corpus, dictionary, R=40, lambda_step=0.05)"
   ]
  },
  {
   "cell_type": "code",
   "execution_count": 29,
   "metadata": {},
   "outputs": [],
   "source": [
    "#Get the most relevant topics to the given word.\n",
    "# Set probability = 0.0001\n",
    "\n",
    "#def get_terms_topics(term_text, d, model, minProb=0.0001):\n",
    "#    listofTup = []\n",
    "#    for tt_couple in model.get_term_topics(dictionary.token2id[term_text], minimum_probability=minProb):\n",
    "#        id_, prob = tt_couple\n",
    "#        listofTup.append((d[id_], prob))\n",
    "#    df = pd.DataFrame(listofTup)\n",
    "#    df.insert(0,'Term',value=term_text)\n",
    "#    df.columns = ['Term','topic','prob']\n",
    "#    return df.sort_values(by='prob', ascending=False)"
   ]
  },
  {
   "cell_type": "code",
   "execution_count": null,
   "metadata": {},
   "outputs": [],
   "source": [
    "# องค์ประกอบพื้นฐาน ตาม master ที่ใช้ตัดคำ และ Generalized\n",
    "#get_terms_topics('ซื้อ',dictionary,model)\n",
    "#get_terms_topics('ขาย',dictionary,model)"
   ]
  },
  {
   "cell_type": "code",
   "execution_count": 40,
   "metadata": {},
   "outputs": [],
   "source": [
    "#Get the most relevant topics to the given word.\n",
    "# Set probability = 0.0001\n",
    "\n",
    "def get_topics_terms(topic, d, model, minProb=0.0001):\n",
    "    listofTup = []\n",
    "    for tt_couple in model.get_topic_terms(topic, topn=100):\n",
    "        id_, prob = tt_couple\n",
    "        listofTup.append((d[id_], prob))\n",
    "    df = pd.DataFrame(listofTup)\n",
    "    df.insert(0,'Topic',value=d[topic])\n",
    "    df.columns = ['Topic','term','prob']\n",
    "    return df.sort_values(by='prob', ascending=False)"
   ]
  },
  {
   "cell_type": "code",
   "execution_count": 45,
   "metadata": {
    "scrolled": true
   },
   "outputs": [
    {
     "data": {
      "text/html": [
       "<div>\n",
       "<style scoped>\n",
       "    .dataframe tbody tr th:only-of-type {\n",
       "        vertical-align: middle;\n",
       "    }\n",
       "\n",
       "    .dataframe tbody tr th {\n",
       "        vertical-align: top;\n",
       "    }\n",
       "\n",
       "    .dataframe thead th {\n",
       "        text-align: right;\n",
       "    }\n",
       "</style>\n",
       "<table border=\"1\" class=\"dataframe\">\n",
       "  <thead>\n",
       "    <tr style=\"text-align: right;\">\n",
       "      <th></th>\n",
       "      <th>Topic</th>\n",
       "      <th>term</th>\n",
       "      <th>prob</th>\n",
       "    </tr>\n",
       "  </thead>\n",
       "  <tbody>\n",
       "    <tr>\n",
       "      <th>0</th>\n",
       "      <td>นม</td>\n",
       "      <td>นม</td>\n",
       "      <td>0.023389</td>\n",
       "    </tr>\n",
       "    <tr>\n",
       "      <th>1</th>\n",
       "      <td>นม</td>\n",
       "      <td>เมจิ</td>\n",
       "      <td>0.017953</td>\n",
       "    </tr>\n",
       "    <tr>\n",
       "      <th>2</th>\n",
       "      <td>นม</td>\n",
       "      <td>ไม่</td>\n",
       "      <td>0.013809</td>\n",
       "    </tr>\n",
       "    <tr>\n",
       "      <th>3</th>\n",
       "      <td>นม</td>\n",
       "      <td>ได้</td>\n",
       "      <td>0.011239</td>\n",
       "    </tr>\n",
       "    <tr>\n",
       "      <th>4</th>\n",
       "      <td>นม</td>\n",
       "      <td>รส</td>\n",
       "      <td>0.008820</td>\n",
       "    </tr>\n",
       "    <tr>\n",
       "      <th>...</th>\n",
       "      <td>...</td>\n",
       "      <td>...</td>\n",
       "      <td>...</td>\n",
       "    </tr>\n",
       "    <tr>\n",
       "      <th>95</th>\n",
       "      <td>นม</td>\n",
       "      <td>สูง</td>\n",
       "      <td>0.001414</td>\n",
       "    </tr>\n",
       "    <tr>\n",
       "      <th>96</th>\n",
       "      <td>นม</td>\n",
       "      <td>สอง</td>\n",
       "      <td>0.001402</td>\n",
       "    </tr>\n",
       "    <tr>\n",
       "      <th>97</th>\n",
       "      <td>นม</td>\n",
       "      <td>เหมือนกัน</td>\n",
       "      <td>0.001377</td>\n",
       "    </tr>\n",
       "    <tr>\n",
       "      <th>98</th>\n",
       "      <td>นม</td>\n",
       "      <td>เข้าสู่</td>\n",
       "      <td>0.001370</td>\n",
       "    </tr>\n",
       "    <tr>\n",
       "      <th>99</th>\n",
       "      <td>นม</td>\n",
       "      <td>แดง</td>\n",
       "      <td>0.001366</td>\n",
       "    </tr>\n",
       "  </tbody>\n",
       "</table>\n",
       "<p>100 rows × 3 columns</p>\n",
       "</div>"
      ],
      "text/plain": [
       "   Topic       term      prob\n",
       "0     นม         นม  0.023389\n",
       "1     นม       เมจิ  0.017953\n",
       "2     นม        ไม่  0.013809\n",
       "3     นม        ได้  0.011239\n",
       "4     นม         รส  0.008820\n",
       "..   ...        ...       ...\n",
       "95    นม        สูง  0.001414\n",
       "96    นม        สอง  0.001402\n",
       "97    นม  เหมือนกัน  0.001377\n",
       "98    นม    เข้าสู่  0.001370\n",
       "99    นม        แดง  0.001366\n",
       "\n",
       "[100 rows x 3 columns]"
      ]
     },
     "execution_count": 45,
     "metadata": {},
     "output_type": "execute_result"
    }
   ],
   "source": [
    "# ไล่เช็คทีละ Topic โดยเลือกจาก Top100 Prob แต่ละกลุ่ม และดูตัวที่สนใจ (ตามทบทวนวรรณกรรม)\n",
    "# สุดที่ num_topics = 20 กลุ่ม\n",
    "get_topics_terms(7, dictionary, model)"
   ]
  },
  {
   "cell_type": "code",
   "execution_count": 46,
   "metadata": {},
   "outputs": [],
   "source": [
    "execption_urls = ['https://pantip.com/topic/30833944','https://pantip.com/topic/30105850','https://pantip.com/topic/35439062']"
   ]
  },
  {
   "cell_type": "code",
   "execution_count": 47,
   "metadata": {},
   "outputs": [],
   "source": [
    "attrributes = ['การบูด','โปร','โปรโมชั่น','แถม','บูด','เป็นผลดี','หา','หมดอายุ', 'กลิ่น','หอม','กลิ่นหอม', 'แนะนำ', 'shelf life','แม่','คุณแม่'\n",
    " ,'ลูก','เด็ก','เลี้ยงลูก','เลี้ยงเด็ก','พัฒนาการ','คุณแม่มือใหม่','สั่ง', 'ค่าใช้จ่าย', 'เพิ่มขึ้น', 'สินค้า', 'ชอบ','นิยม', 'สี', 'ซื้อไม่ได้'\n",
    " , 'ทิ้ง', 'จืด','หวาน' , 'fat', 'นิยม','ราคาสูง','กาแฟ','ชงกาแฟ','หาย','ต้ม','อุ่น','ร้อน', 'พื้นฐาน', 'ขายไม่ดี','สูง','ส่วนสูง'\n",
    " , 'กาแฟสด', 'จ่าย', 'ขาย', 'รส','รสชาติ', 'กลมกล่อม','ไขมัน','พนักงาน','ไมโครเวฟ','ฟาร์ม'\n",
    " ,'ส่วนผสม','ผสม','เบาหวาน','รสพื้นฐาน','โปรตีน','เวย์','เวท','วิ่ง','protein','whey','ขับถ่าย','อึ','dha','น้ำตาล','เบาหวาน'\n",
    " ,'ฝา', 'นมสด','ถ้วย', 'ร้าน', 'ดื่ม', 'เซเว่น', 'ขวด', 'นึกถึง', 'เสียใจ', 'แตก', 'ซื้อ','ขาย','มีลูก','เทรนเนอร์'\n",
    " ,'ขายไม่ดี','แพคคู่','ค่าจัดส่ง','shelf life','พนักงานขายนม','แพ้นม','แพ้นมวัว','เล่นเวท','ฝาน้ำเงิน','ฝาสีเขียว'\n",
    " ,'นมอุ่น','ชานม','กินนม','ดื่มนม','ท้องเสีย','ลูกสุนัข','สุนัข','หมา','แมว','คายทิ้ง','เจมส์จิ','แป้ง','ลดราคา'\n",
    " ,'ซื้อประจำ','ซื้อไม่ได้','คาปูชิโน่','อเมริกาโน่','ร้านนม','whey formula','ผิดสังเกต','เสียความรู้สึก','ชี้แจง','บำรุง','น้ำผึ้ง'\n",
    " ,'อาหารเสริม','มีประโยชน์','วิตามิน','นมผง','แคลเซี่ยม','ท้อง','แพะ','อร่อย','โภชนาการ','โรงเรียน','พ่อแม่','ครู','ยูเอชที'\n",
    " ,'ผู้บริโภค','ขโมย','ไอโอดีน','นมข้นหวาน','เนย','ตรวจสอบ','แกลลอน','มันดี','นมวัว','อาเจียน','เวฟ','ไมโครเวฟ','สารอาหาร'\n",
    " ,'ขนส่ง','ถูก','แพง','เค้ก','ทิ้ง','วันหมดอายุ','โอเมก้า','กล่อง','พลังงาน','โภชนาการ','ขนมปัง','ของแถม','ราคาสูง','น้ำนมโค'\n",
    " ,'บรรจุภัณฑ์','ความแข็งแรง','แข็งแรง','พรีเซ็นเตอร์','ญี่ปุ่น','น้ำผลไม้','ออกกำลังกาย','ประหยัด','วิปปิ้ง','เชื้อจุลินทรีย์'\n",
    " ,'แลคโตส']\n",
    "\n",
    "stores = ['tops','makro','lotus','bigc','7-Eleven']\n",
    "\n",
    "products = ['สตรอว์เบอร์รี','ช็อกโกแลต','รสกาแฟ','รสหวาน','รสจืด','ไขมันต่ำ','ไขมัน 0%','ไฮโปรตีน','อัลมอนด์'\n",
    "                ,'รสกล้วย','grass fed','นมฟรีแลคโตส','เมจิโกลด์','นมฮอกไกโด','เบดไทม์','ดาร์คช็อกโกแลต','ไฮแคลเซียม'\n",
    "                ,'คาราเมล','มอลต์','เมล่อน','ชาเขียวมัจฉะ','บัลแกเรีย','รสธรรมชาติ','รสกลมกล่อม','ซากุระ']\n",
    "milk_kind=['นม','นมข้น','นมจืด','นมสด','กินนม','ดื่มนม','ขวดนม','นมวัว','นมกล่อง','ผลิตภันท์นม','น้ำนมโค'\n",
    "                     ,'โยเกิร์ต','นมเปรี้ยว','uht','นมถั่วเหลือง','นมผง','พาสเจอร์ไรส์']\n",
    "\n",
    "#  EDA ใน Excel ได้ flavor 68 ตัว (ถ้าดึงยี่ห้ออื่นก็เพิ่มอีก)\n",
    "avai_flavs = ['เมจิเมจิโกลด์','เมจิเมล่อน','เมจิไขมัน 0%','เมจิไขมันต่ำ','เมจิไฮโปรตีน','เมจิช็อกโกแลต','เมจิชาเขียวมัจฉะ','เมจิดาร์คช็อกโกแลต'\n",
    " ,'เมจินมฟรีแลคโตส','เมจิบัลแกเรีย','เมจิมอลต์','เมจิรสกลมกล่อม','เมจิรสกล้วย','เมจิรกาแฟ','เมจิรสจืด','เมจิรสธรรมชาติ','เมจิรสหวาน'\n",
    " ,'เมจิสตรอว์เบอร์รี','เมจิอัลมอนด์','เอ็มมิลค์นมฟรีแลคโตส','เอ็มมิลค์รสจืด','แดรี่โฮมgrass fed','แดรี่โฮมเบดไทม์','แดรี่โฮมช็อกโกแลต'\n",
    " ,'แดรี่โฮมรสกล้วย','แดโฮมรสจืด','แดรี่โฮมรสหวาน','แดรี่โฮมสตรอว์เบอร์รี','แมคโนเลียไขมันต่ำ','แมคโนเลียช็อกโกแลต','แมคโนเลียรสจืด'\n",
    " ,'โชคชัยไขมันต่ำ','โชคชัยช็อกโกแลต','โชคชัยรสกาแฟ','โชคชัยรสจืด','โชคชัยสตรอว์เบอร์รี','ฟร์โมสต์ไขมัน 0%','โฟร์โมสต์ไขมันต่ำ'\n",
    " ,'โฟร์โมสต์คาราเมล','โฟร์โมสต์ช็อกโกแลต','โฟร์โมสต์รสกาแฟ','โฟร์โมสต์รสจืด','โฟร์โมสต์สตรอว์เบอร์รี','ไทยเดนมาร์คช็อกโกแลต'\n",
    " ,'ไทยเดนมาร์ครสกาแฟ','ไทยเดนมาร์ครสจืด','ไทยเดนมาร์ครสหวาน','ไทยเดนมาร์คสตรอว์เบอร์รี','คาเนชั่นรสจืด','จิตรลดาช็อกโกแลต'\n",
    " ,'จิตรลดารสจืด','จิตรลดารสหวาน','จิตรลดาสตรอว์เบอร์รี','ดัชมิลล์ไขมัน 0%','ดัชมิลล์ไขมันต่ำ','ดัชมิลล์ไฮโปรตีน','ดัชลล์อกกแลต'\n",
    " ,'ดัชมิลล์มอลต์','ดัชมิลล์รสกาแฟ','ดัชมิลล์รสจืด','ดัชมิลล์สตรอว์เบอร์รี','หนองโพไขมัน 0%','หนองโพไขมันต่ำ','หนองโพช็อกโกแลต'\n",
    " ,'หนองโพรสกาแฟ','หนองโพรสจืด','หนองโพรสหวาน','หนองโพสตรอว์เบอร์รี']\n",
    "\n",
    "reduceCol = attrributes + stores \n",
    "reduceCol_all = attrributes + stores + milk_kind + products"
   ]
  },
  {
   "cell_type": "markdown",
   "metadata": {},
   "source": [
    "### 5.สร้าง (Reduce) Bag of word ด้วย dictionary.doc2bow จัดลง dataframe"
   ]
  },
  {
   "cell_type": "code",
   "execution_count": 48,
   "metadata": {},
   "outputs": [],
   "source": [
    "cursor_thread = col_thread.find()\n",
    "df_thr_process = pd.DataFrame(cursor_thread)\n",
    "cursor_comment = col_comment.find()\n",
    "df_cmt_process = pd.DataFrame(cursor_comment)"
   ]
  },
  {
   "cell_type": "code",
   "execution_count": 49,
   "metadata": {},
   "outputs": [],
   "source": [
    "# คัด headline ที่พูดถึง domain นม\n",
    "df_urls_milk = df_thr_process[(df_thr_process.t_mention_dairy.str.len() != 0) | (df_thr_process.URLs.isin(execption_urls))]\n",
    "#df_urls_milk = df_thr_process[(df_thr_process.URLs.isin(execption_urls))]"
   ]
  },
  {
   "cell_type": "code",
   "execution_count": 50,
   "metadata": {},
   "outputs": [],
   "source": [
    "# เมื่อ join กันแล้ว คอมเม้นทุกคอมเม้นจะอยู่ใน domain นมทั้งหมด\n",
    "df_join_url = pd.merge(df_urls_milk,df_cmt_process,how='inner',on='URLs')"
   ]
  },
  {
   "cell_type": "code",
   "execution_count": 51,
   "metadata": {},
   "outputs": [],
   "source": [
    "df_join_url.drop(columns=['_id_x','_id_y','headline_y'],inplace=True)\n",
    "df_join_url.rename(columns={\"headline_x\":\"headline\"},inplace=True)"
   ]
  },
  {
   "cell_type": "code",
   "execution_count": 52,
   "metadata": {},
   "outputs": [],
   "source": [
    "df_join_url['token_text_reduce'] = df_join_url['token_text'].apply(lambda x: reduced_keyword(x, reduceCol))"
   ]
  },
  {
   "cell_type": "markdown",
   "metadata": {},
   "source": [
    "### 6.ทำ Topic Modeling จาก Reduce BoW"
   ]
  },
  {
   "cell_type": "markdown",
   "metadata": {},
   "source": [
    "6.1 สร้าง Bag of word"
   ]
  },
  {
   "cell_type": "code",
   "execution_count": 53,
   "metadata": {},
   "outputs": [],
   "source": [
    "dictionary = gensim.corpora.Dictionary(df_join_url['token_text_reduce'])\n",
    "gensim_corpus = [dictionary.doc2bow(text, allow_update=True) for text in df_join_url['token_text_reduce']]\n",
    "word_frequencies = [[(dictionary[id], frequence) for id, frequence in couple] for couple in gensim_corpus]\n",
    "id2word = dictionary.id2token"
   ]
  },
  {
   "cell_type": "markdown",
   "metadata": {},
   "source": [
    "6.2 หา Optimal Dimension"
   ]
  },
  {
   "cell_type": "code",
   "execution_count": 64,
   "metadata": {},
   "outputs": [],
   "source": [
    "mlp = r'E:/master_BADS/IS BADS/Product-Position-SNA/mallet-2.0.8/'\n",
    "#mlp = r'D:/development_TestCase/Product-Position-SNA/mallet-2.0.8/'\n",
    "import os\n",
    "from gensim.models.wrappers import LdaMallet\n",
    "from gensim.models import CoherenceModel\n",
    "os.environ.update({'MALLET_HOME':mlp})"
   ]
  },
  {
   "cell_type": "code",
   "execution_count": 66,
   "metadata": {
    "scrolled": true
   },
   "outputs": [
    {
     "ename": "CalledProcessError",
     "evalue": "Command 'mallet-2.0.8/bin/mallet import-file --preserve-case --keep-sequence --remove-stopwords --token-regex \"\\S+\" --input C:\\Users\\pacha\\AppData\\Local\\Temp\\daca18_corpus.txt --output C:\\Users\\pacha\\AppData\\Local\\Temp\\daca18_corpus.mallet' returned non-zero exit status 1.",
     "output_type": "error",
     "traceback": [
      "\u001b[1;31m---------------------------------------------------------------------------\u001b[0m",
      "\u001b[1;31mCalledProcessError\u001b[0m                        Traceback (most recent call last)",
      "\u001b[1;32m<ipython-input-66-9d0b5fcf7648>\u001b[0m in \u001b[0;36m<module>\u001b[1;34m\u001b[0m\n\u001b[0;32m      5\u001b[0m \u001b[0mmodel_list\u001b[0m \u001b[1;33m=\u001b[0m \u001b[1;33m[\u001b[0m\u001b[1;33m]\u001b[0m\u001b[1;33m\u001b[0m\u001b[1;33m\u001b[0m\u001b[0m\n\u001b[0;32m      6\u001b[0m \u001b[1;32mfor\u001b[0m \u001b[0mnum_topics\u001b[0m \u001b[1;32min\u001b[0m \u001b[0mrange\u001b[0m\u001b[1;33m(\u001b[0m\u001b[0mstart\u001b[0m\u001b[1;33m,\u001b[0m \u001b[0mlimit\u001b[0m\u001b[1;33m,\u001b[0m \u001b[0mstep\u001b[0m\u001b[1;33m)\u001b[0m\u001b[1;33m:\u001b[0m\u001b[1;33m\u001b[0m\u001b[1;33m\u001b[0m\u001b[0m\n\u001b[1;32m----> 7\u001b[1;33m     \u001b[0mmodel\u001b[0m \u001b[1;33m=\u001b[0m \u001b[0mLdaMallet\u001b[0m\u001b[1;33m(\u001b[0m\u001b[0mmallet_path\u001b[0m\u001b[1;33m,\u001b[0m \u001b[0mcorpus\u001b[0m\u001b[1;33m=\u001b[0m\u001b[0mgensim_corpus\u001b[0m\u001b[1;33m,\u001b[0m \u001b[0mnum_topics\u001b[0m\u001b[1;33m=\u001b[0m\u001b[0mnum_topics\u001b[0m\u001b[1;33m,\u001b[0m \u001b[0mid2word\u001b[0m\u001b[1;33m=\u001b[0m\u001b[0mid2word\u001b[0m\u001b[1;33m)\u001b[0m\u001b[1;33m\u001b[0m\u001b[1;33m\u001b[0m\u001b[0m\n\u001b[0m\u001b[0;32m      8\u001b[0m     \u001b[0mmodel_list\u001b[0m\u001b[1;33m.\u001b[0m\u001b[0mappend\u001b[0m\u001b[1;33m(\u001b[0m\u001b[0mmodel\u001b[0m\u001b[1;33m)\u001b[0m\u001b[1;33m\u001b[0m\u001b[1;33m\u001b[0m\u001b[0m\n\u001b[0;32m      9\u001b[0m     \u001b[0mcoherencemodel\u001b[0m \u001b[1;33m=\u001b[0m \u001b[0mCoherenceModel\u001b[0m\u001b[1;33m(\u001b[0m\u001b[0mmodel\u001b[0m\u001b[1;33m=\u001b[0m\u001b[0mmodel\u001b[0m\u001b[1;33m,\u001b[0m \u001b[0mtexts\u001b[0m\u001b[1;33m=\u001b[0m\u001b[0mdf_join_url\u001b[0m\u001b[1;33m[\u001b[0m\u001b[1;34m'token_text_reduce'\u001b[0m\u001b[1;33m]\u001b[0m\u001b[1;33m,\u001b[0m \u001b[0mdictionary\u001b[0m\u001b[1;33m=\u001b[0m\u001b[0mdictionary\u001b[0m\u001b[1;33m,\u001b[0m \u001b[0mcoherence\u001b[0m\u001b[1;33m=\u001b[0m\u001b[1;34m'c_v'\u001b[0m\u001b[1;33m)\u001b[0m\u001b[1;33m\u001b[0m\u001b[1;33m\u001b[0m\u001b[0m\n",
      "\u001b[1;32mC:\\ProgramData\\Anaconda3\\lib\\site-packages\\gensim\\models\\wrappers\\ldamallet.py\u001b[0m in \u001b[0;36m__init__\u001b[1;34m(self, mallet_path, corpus, num_topics, alpha, id2word, workers, prefix, optimize_interval, iterations, topic_threshold, random_seed)\u001b[0m\n\u001b[0;32m    129\u001b[0m         \u001b[0mself\u001b[0m\u001b[1;33m.\u001b[0m\u001b[0mrandom_seed\u001b[0m \u001b[1;33m=\u001b[0m \u001b[0mrandom_seed\u001b[0m\u001b[1;33m\u001b[0m\u001b[1;33m\u001b[0m\u001b[0m\n\u001b[0;32m    130\u001b[0m         \u001b[1;32mif\u001b[0m \u001b[0mcorpus\u001b[0m \u001b[1;32mis\u001b[0m \u001b[1;32mnot\u001b[0m \u001b[1;32mNone\u001b[0m\u001b[1;33m:\u001b[0m\u001b[1;33m\u001b[0m\u001b[1;33m\u001b[0m\u001b[0m\n\u001b[1;32m--> 131\u001b[1;33m             \u001b[0mself\u001b[0m\u001b[1;33m.\u001b[0m\u001b[0mtrain\u001b[0m\u001b[1;33m(\u001b[0m\u001b[0mcorpus\u001b[0m\u001b[1;33m)\u001b[0m\u001b[1;33m\u001b[0m\u001b[1;33m\u001b[0m\u001b[0m\n\u001b[0m\u001b[0;32m    132\u001b[0m \u001b[1;33m\u001b[0m\u001b[0m\n\u001b[0;32m    133\u001b[0m     \u001b[1;32mdef\u001b[0m \u001b[0mfinferencer\u001b[0m\u001b[1;33m(\u001b[0m\u001b[0mself\u001b[0m\u001b[1;33m)\u001b[0m\u001b[1;33m:\u001b[0m\u001b[1;33m\u001b[0m\u001b[1;33m\u001b[0m\u001b[0m\n",
      "\u001b[1;32mC:\\ProgramData\\Anaconda3\\lib\\site-packages\\gensim\\models\\wrappers\\ldamallet.py\u001b[0m in \u001b[0;36mtrain\u001b[1;34m(self, corpus)\u001b[0m\n\u001b[0;32m    270\u001b[0m \u001b[1;33m\u001b[0m\u001b[0m\n\u001b[0;32m    271\u001b[0m         \"\"\"\n\u001b[1;32m--> 272\u001b[1;33m         \u001b[0mself\u001b[0m\u001b[1;33m.\u001b[0m\u001b[0mconvert_input\u001b[0m\u001b[1;33m(\u001b[0m\u001b[0mcorpus\u001b[0m\u001b[1;33m,\u001b[0m \u001b[0minfer\u001b[0m\u001b[1;33m=\u001b[0m\u001b[1;32mFalse\u001b[0m\u001b[1;33m)\u001b[0m\u001b[1;33m\u001b[0m\u001b[1;33m\u001b[0m\u001b[0m\n\u001b[0m\u001b[0;32m    273\u001b[0m         \u001b[0mcmd\u001b[0m \u001b[1;33m=\u001b[0m \u001b[0mself\u001b[0m\u001b[1;33m.\u001b[0m\u001b[0mmallet_path\u001b[0m \u001b[1;33m+\u001b[0m \u001b[1;34m' train-topics --input %s --num-topics %s  --alpha %s --optimize-interval %s '\u001b[0m\u001b[0;31m\\\u001b[0m\u001b[1;33m\u001b[0m\u001b[1;33m\u001b[0m\u001b[0m\n\u001b[0;32m    274\u001b[0m             \u001b[1;34m'--num-threads %s --output-state %s --output-doc-topics %s --output-topic-keys %s '\u001b[0m\u001b[0;31m\\\u001b[0m\u001b[1;33m\u001b[0m\u001b[1;33m\u001b[0m\u001b[0m\n",
      "\u001b[1;32mC:\\ProgramData\\Anaconda3\\lib\\site-packages\\gensim\\models\\wrappers\\ldamallet.py\u001b[0m in \u001b[0;36mconvert_input\u001b[1;34m(self, corpus, infer, serialize_corpus)\u001b[0m\n\u001b[0;32m    259\u001b[0m             \u001b[0mcmd\u001b[0m \u001b[1;33m=\u001b[0m \u001b[0mcmd\u001b[0m \u001b[1;33m%\u001b[0m \u001b[1;33m(\u001b[0m\u001b[0mself\u001b[0m\u001b[1;33m.\u001b[0m\u001b[0mfcorpustxt\u001b[0m\u001b[1;33m(\u001b[0m\u001b[1;33m)\u001b[0m\u001b[1;33m,\u001b[0m \u001b[0mself\u001b[0m\u001b[1;33m.\u001b[0m\u001b[0mfcorpusmallet\u001b[0m\u001b[1;33m(\u001b[0m\u001b[1;33m)\u001b[0m\u001b[1;33m)\u001b[0m\u001b[1;33m\u001b[0m\u001b[1;33m\u001b[0m\u001b[0m\n\u001b[0;32m    260\u001b[0m         \u001b[0mlogger\u001b[0m\u001b[1;33m.\u001b[0m\u001b[0minfo\u001b[0m\u001b[1;33m(\u001b[0m\u001b[1;34m\"converting temporary corpus to MALLET format with %s\"\u001b[0m\u001b[1;33m,\u001b[0m \u001b[0mcmd\u001b[0m\u001b[1;33m)\u001b[0m\u001b[1;33m\u001b[0m\u001b[1;33m\u001b[0m\u001b[0m\n\u001b[1;32m--> 261\u001b[1;33m         \u001b[0mcheck_output\u001b[0m\u001b[1;33m(\u001b[0m\u001b[0margs\u001b[0m\u001b[1;33m=\u001b[0m\u001b[0mcmd\u001b[0m\u001b[1;33m,\u001b[0m \u001b[0mshell\u001b[0m\u001b[1;33m=\u001b[0m\u001b[1;32mTrue\u001b[0m\u001b[1;33m)\u001b[0m\u001b[1;33m\u001b[0m\u001b[1;33m\u001b[0m\u001b[0m\n\u001b[0m\u001b[0;32m    262\u001b[0m \u001b[1;33m\u001b[0m\u001b[0m\n\u001b[0;32m    263\u001b[0m     \u001b[1;32mdef\u001b[0m \u001b[0mtrain\u001b[0m\u001b[1;33m(\u001b[0m\u001b[0mself\u001b[0m\u001b[1;33m,\u001b[0m \u001b[0mcorpus\u001b[0m\u001b[1;33m)\u001b[0m\u001b[1;33m:\u001b[0m\u001b[1;33m\u001b[0m\u001b[1;33m\u001b[0m\u001b[0m\n",
      "\u001b[1;32mC:\\ProgramData\\Anaconda3\\lib\\site-packages\\gensim\\utils.py\u001b[0m in \u001b[0;36mcheck_output\u001b[1;34m(stdout, *popenargs, **kwargs)\u001b[0m\n\u001b[0;32m   1930\u001b[0m             \u001b[0merror\u001b[0m \u001b[1;33m=\u001b[0m \u001b[0msubprocess\u001b[0m\u001b[1;33m.\u001b[0m\u001b[0mCalledProcessError\u001b[0m\u001b[1;33m(\u001b[0m\u001b[0mretcode\u001b[0m\u001b[1;33m,\u001b[0m \u001b[0mcmd\u001b[0m\u001b[1;33m)\u001b[0m\u001b[1;33m\u001b[0m\u001b[1;33m\u001b[0m\u001b[0m\n\u001b[0;32m   1931\u001b[0m             \u001b[0merror\u001b[0m\u001b[1;33m.\u001b[0m\u001b[0moutput\u001b[0m \u001b[1;33m=\u001b[0m \u001b[0moutput\u001b[0m\u001b[1;33m\u001b[0m\u001b[1;33m\u001b[0m\u001b[0m\n\u001b[1;32m-> 1932\u001b[1;33m             \u001b[1;32mraise\u001b[0m \u001b[0merror\u001b[0m\u001b[1;33m\u001b[0m\u001b[1;33m\u001b[0m\u001b[0m\n\u001b[0m\u001b[0;32m   1933\u001b[0m         \u001b[1;32mreturn\u001b[0m \u001b[0moutput\u001b[0m\u001b[1;33m\u001b[0m\u001b[1;33m\u001b[0m\u001b[0m\n\u001b[0;32m   1934\u001b[0m     \u001b[1;32mexcept\u001b[0m \u001b[0mKeyboardInterrupt\u001b[0m\u001b[1;33m:\u001b[0m\u001b[1;33m\u001b[0m\u001b[1;33m\u001b[0m\u001b[0m\n",
      "\u001b[1;31mCalledProcessError\u001b[0m: Command 'mallet-2.0.8/bin/mallet import-file --preserve-case --keep-sequence --remove-stopwords --token-regex \"\\S+\" --input C:\\Users\\pacha\\AppData\\Local\\Temp\\daca18_corpus.txt --output C:\\Users\\pacha\\AppData\\Local\\Temp\\daca18_corpus.mallet' returned non-zero exit status 1."
     ]
    }
   ],
   "source": [
    "#mallet_path = \"D:/development_TestCase/Product-Position-SNA/mallet-2.0.8/bin/mallet\"\n",
    "mallet_path = \"mallet-2.0.8/bin/mallet\"\n",
    "limit=40; start=2; step=5;\n",
    "coherence_values = []\n",
    "model_list = []\n",
    "for num_topics in range(start, limit, step):\n",
    "    model = LdaMallet(mallet_path, corpus=gensim_corpus, num_topics=num_topics, id2word=id2word)\n",
    "    model_list.append(model)\n",
    "    coherencemodel = CoherenceModel(model=model, texts=df_join_url['token_text_reduce'], dictionary=dictionary, coherence='c_v')\n",
    "    coherence_values.append(coherencemodel.get_coherence())"
   ]
  },
  {
   "cell_type": "code",
   "execution_count": null,
   "metadata": {},
   "outputs": [],
   "source": [
    "#coherence_values"
   ]
  },
  {
   "cell_type": "code",
   "execution_count": null,
   "metadata": {},
   "outputs": [],
   "source": [
    "#model.show_topics(formatted=False)"
   ]
  },
  {
   "cell_type": "code",
   "execution_count": null,
   "metadata": {},
   "outputs": [],
   "source": [
    "# Show graph\n",
    "x = range(start, limit, step)\n",
    "plt.plot(x, coherence_values)\n",
    "plt.xlabel(\"Num Topics\")\n",
    "plt.ylabel(\"Coherence score\")\n",
    "plt.legend((\"coherence_values\"), loc='best')\n",
    "plt.show()"
   ]
  },
  {
   "cell_type": "code",
   "execution_count": null,
   "metadata": {},
   "outputs": [],
   "source": [
    "# Print the coherence scores\n",
    "for m, cv in zip(x, coherence_values):\n",
    "    print(\"Num Topics =\", m, \" has Coherence Value of\", round(cv, 4))"
   ]
  },
  {
   "cell_type": "markdown",
   "metadata": {},
   "source": [
    "6.3 สร้าง LdaModel ตามกลุ่มที่หาได้"
   ]
  },
  {
   "cell_type": "code",
   "execution_count": 26,
   "metadata": {},
   "outputs": [
    {
     "name": "stdout",
     "output_type": "stream",
     "text": [
      "Wall time: 8.13 s\n"
     ]
    }
   ],
   "source": [
    "num_topics = 8\n",
    "chunksize = 4000                  # size of the doc looked at every pass\n",
    "iterations = 50\n",
    "eval_every = 1                    # Don't evaluate model perplexity, takes too much time.\n",
    "\n",
    "# Make a index to word dictionary.\n",
    "temp = dictionary[0]  # This is only to \"load\" the dictionary.\n",
    "id2word = dictionary.id2token\n",
    "\n",
    "%time model = gensim.models.LdaModel(corpus=gensim_corpus, id2word=id2word, chunksize=chunksize \\\n",
    "                                     ,alpha='auto', eta='auto',iterations=iterations \\\n",
    "                                     ,num_topics=num_topics \\\n",
    "                                     , eval_every=eval_every)"
   ]
  },
  {
   "cell_type": "code",
   "execution_count": 27,
   "metadata": {},
   "outputs": [
    {
     "data": {
      "text/html": [
       "\n",
       "<link rel=\"stylesheet\" type=\"text/css\" href=\"https://cdn.rawgit.com/bmabey/pyLDAvis/files/ldavis.v1.0.0.css\">\n",
       "\n",
       "\n",
       "<div id=\"ldavis_el20363138744568832711523209\"></div>\n",
       "<script type=\"text/javascript\">\n",
       "\n",
       "var ldavis_el20363138744568832711523209_data = {\"mdsDat\": {\"x\": [0.1279291377189718, -0.2149861847990862, -0.16694524986067594, 0.20899111042251256, -0.02015597992695505, 0.10148945393649526, 0.04880653412259431, -0.08512882161385639], \"y\": [-0.13405584836396098, 0.033189142796640356, 0.05734149748157205, 0.13386030742738148, -0.17341812241390528, 0.16505026173637005, -0.15934489323915843, 0.07737765457506111], \"topics\": [1, 2, 3, 4, 5, 6, 7, 8], \"cluster\": [1, 1, 1, 1, 1, 1, 1, 1], \"Freq\": [17.322461917615755, 15.28682970746762, 13.782294856988292, 13.234822046670372, 10.823591483484844, 10.640847586042815, 10.002944436737916, 8.906207964992383]}, \"tinfo\": {\"Term\": [\"\\u0e25\\u0e39\\u0e01\", \"\\u0e0b\\u0e37\\u0e49\\u0e2d\", \"\\u0e01\\u0e25\\u0e48\\u0e2d\\u0e07\", \"\\u0e01\\u0e32\\u0e41\\u0e1f\", \"\\u0e40\\u0e14\\u0e47\\u0e01\", \"\\u0e41\\u0e21\\u0e48\", \"\\u0e23\\u0e2a\", \"\\u0e19\\u0e21\\u0e1c\\u0e07\", \"\\u0e2d\\u0e23\\u0e48\\u0e2d\\u0e22\", \"\\u0e42\\u0e1b\\u0e23\\u0e15\\u0e35\\u0e19\", \"\\u0e1c\\u0e2a\\u0e21\", \"7-Eleven\", \"\\u0e2b\\u0e27\\u0e32\\u0e19\", \"\\u0e19\\u0e21\\u0e2a\\u0e14\", \"\\u0e23\\u0e49\\u0e2d\\u0e19\", \"\\u0e23\\u0e49\\u0e32\\u0e19\", \"\\u0e01\\u0e34\\u0e19\\u0e19\\u0e21\", \"\\u0e02\\u0e27\\u0e14\", \"\\u0e2a\\u0e32\\u0e23\\u0e2d\\u0e32\\u0e2b\\u0e32\\u0e23\", \"\\u0e2a\\u0e34\\u0e19\\u0e04\\u0e49\\u0e32\", \"\\u0e19\\u0e49\\u0e33\\u0e15\\u0e32\\u0e25\", \"\\u0e23\\u0e2a\\u0e0a\\u0e32\\u0e15\\u0e34\", \"\\u0e08\\u0e37\\u0e14\", \"\\u0e41\\u0e21\\u0e27\", \"\\u0e02\\u0e32\\u0e22\", \"\\u0e44\\u0e02\\u0e21\\u0e31\\u0e19\", \"\\u0e0a\\u0e2d\\u0e1a\", \"\\u0e2b\\u0e32\", \"\\u0e42\\u0e23\\u0e07\\u0e40\\u0e23\\u0e35\\u0e22\\u0e19\", \"\\u0e19\\u0e21\\u0e27\\u0e31\\u0e27\", \"\\u0e14\\u0e37\\u0e48\\u0e21\\u0e19\\u0e21\", \"\\u0e14\\u0e37\\u0e48\\u0e21\", \"\\u0e40\\u0e04\\u0e49\\u0e01\", \"\\u0e1f\\u0e32\\u0e23\\u0e4c\\u0e21\", \"\\u0e2a\\u0e31\\u0e48\\u0e07\", \"\\u0e17\\u0e49\\u0e2d\\u0e07\\u0e40\\u0e2a\\u0e35\\u0e22\", \"\\u0e1e\\u0e19\\u0e31\\u0e01\\u0e07\\u0e32\\u0e19\", \"\\u0e27\\u0e34\\u0e15\\u0e32\\u0e21\\u0e34\\u0e19\", \"\\u0e1d\\u0e32\", \"\\u0e2b\\u0e32\\u0e22\", \"\\u0e04\\u0e32\\u0e22\\u0e17\\u0e34\\u0e49\\u0e07\", \"\\u0e41\\u0e1e\\u0e49\\u0e19\\u0e21\", \"\\u0e2b\\u0e27\\u0e32\\u0e19\", \"\\u0e0a\\u0e32\\u0e19\\u0e21\", \"\\u0e0b\\u0e37\\u0e49\\u0e2d\\u0e1b\\u0e23\\u0e30\\u0e08\\u0e33\", \"\\u0e01\\u0e25\\u0e21\\u0e01\\u0e25\\u0e48\\u0e2d\\u0e21\", \"\\u0e23\\u0e2a\\u0e0a\\u0e32\\u0e15\\u0e34\", \"\\u0e2b\\u0e2d\\u0e21\", \"\\u0e01\\u0e25\\u0e34\\u0e48\\u0e19\\u0e2b\\u0e2d\\u0e21\", \"\\u0e2d\\u0e23\\u0e48\\u0e2d\\u0e22\", \"\\u0e02\\u0e32\\u0e22\", \"fat\", \"\\u0e19\\u0e49\\u0e33\\u0e15\\u0e32\\u0e25\", \"\\u0e41\\u0e1e\\u0e07\", \"\\u0e15\\u0e49\\u0e21\", \"\\u0e21\\u0e31\\u0e19\\u0e14\\u0e35\", \"\\u0e19\\u0e36\\u0e01\\u0e16\\u0e36\\u0e07\", \"shelf life\", \"\\u0e23\\u0e49\\u0e32\\u0e19\", \"\\u0e2a\\u0e48\\u0e27\\u0e19\\u0e2a\\u0e39\\u0e07\", \"\\u0e01\\u0e25\\u0e34\\u0e48\\u0e19\", \"\\u0e2a\\u0e35\", \"\\u0e41\\u0e1b\\u0e49\\u0e07\", \"\\u0e0a\\u0e2d\\u0e1a\", \"\\u0e19\\u0e49\\u0e33\\u0e1c\\u0e36\\u0e49\\u0e07\", \"\\u0e16\\u0e49\\u0e27\\u0e22\", \"\\u0e2d\\u0e38\\u0e48\\u0e19\", \"\\u0e01\\u0e32\\u0e23\\u0e1a\\u0e39\\u0e14\", \"\\u0e44\\u0e21\\u0e42\\u0e04\\u0e23\\u0e40\\u0e27\\u0e1f\", \"\\u0e23\\u0e32\\u0e04\\u0e32\\u0e2a\\u0e39\\u0e07\", \"makro\", \"\\u0e04\\u0e32\\u0e1b\\u0e39\\u0e0a\\u0e34\\u0e42\\u0e19\\u0e48\", \"\\u0e44\\u0e02\\u0e21\\u0e31\\u0e19\", \"whey formula\", \"\\u0e23\\u0e49\\u0e32\\u0e19\\u0e19\\u0e21\", \"\\u0e41\\u0e15\\u0e01\", \"\\u0e2a\\u0e48\\u0e27\\u0e19\\u0e1c\\u0e2a\\u0e21\", \"\\u0e0d\\u0e35\\u0e48\\u0e1b\\u0e38\\u0e48\\u0e19\", \"protein\", \"\\u0e1e\\u0e19\\u0e31\\u0e01\\u0e07\\u0e32\\u0e19\\u0e02\\u0e32\\u0e22\\u0e19\\u0e21\", \"\\u0e23\\u0e2a\", \"\\u0e2a\\u0e31\\u0e48\\u0e07\", \"\\u0e23\\u0e49\\u0e2d\\u0e19\", \"\\u0e01\\u0e32\\u0e41\\u0e1f\", \"\\u0e41\\u0e16\\u0e21\", \"\\u0e0b\\u0e37\\u0e49\\u0e2d\", \"\\u0e08\\u0e37\\u0e14\", \"\\u0e02\\u0e27\\u0e14\", \"\\u0e41\\u0e19\\u0e30\\u0e19\\u0e33\", \"\\u0e19\\u0e21\\u0e2a\\u0e14\", \"\\u0e2b\\u0e32\", \"\\u0e14\\u0e37\\u0e48\\u0e21\", \"\\u0e1e\\u0e31\\u0e12\\u0e19\\u0e32\\u0e01\\u0e32\\u0e23\", \"\\u0e40\\u0e25\\u0e35\\u0e49\\u0e22\\u0e07\\u0e25\\u0e39\\u0e01\", \"\\u0e21\\u0e35\\u0e25\\u0e39\\u0e01\", \"\\u0e42\\u0e2d\\u0e40\\u0e21\\u0e01\\u0e49\\u0e32\", \"\\u0e40\\u0e2a\\u0e35\\u0e22\\u0e04\\u0e27\\u0e32\\u0e21\\u0e23\\u0e39\\u0e49\\u0e2a\\u0e36\\u0e01\", \"\\u0e25\\u0e39\\u0e01\", \"\\u0e41\\u0e21\\u0e48\", \"\\u0e04\\u0e38\\u0e13\\u0e41\\u0e21\\u0e48\\u0e21\\u0e37\\u0e2d\\u0e43\\u0e2b\\u0e21\\u0e48\", \"\\u0e2d\\u0e32\\u0e40\\u0e08\\u0e35\\u0e22\\u0e19\", \"\\u0e41\\u0e02\\u0e47\\u0e07\\u0e41\\u0e23\\u0e07\", \"\\u0e44\\u0e2d\\u0e42\\u0e2d\\u0e14\\u0e35\\u0e19\", \"\\u0e41\\u0e01\\u0e25\\u0e25\\u0e2d\\u0e19\", \"\\u0e40\\u0e2a\\u0e35\\u0e22\\u0e43\\u0e08\", \"\\u0e04\\u0e38\\u0e13\\u0e41\\u0e21\\u0e48\", \"\\u0e41\\u0e1e\\u0e49\\u0e19\\u0e21\\u0e27\\u0e31\\u0e27\", \"\\u0e41\\u0e1e\\u0e04\\u0e04\\u0e39\\u0e48\", \"\\u0e02\\u0e31\\u0e1a\\u0e16\\u0e48\\u0e32\\u0e22\", \"\\u0e14\\u0e37\\u0e48\\u0e21\", \"\\u0e17\\u0e49\\u0e2d\\u0e07\", \"dha\", \"\\u0e16\\u0e49\\u0e27\\u0e22\", \"\\u0e04\\u0e23\\u0e39\", \"\\u0e19\\u0e21\\u0e27\\u0e31\\u0e27\", \"\\u0e1e\\u0e48\\u0e2d\\u0e41\\u0e21\\u0e48\", \"\\u0e0a\\u0e2d\\u0e1a\", \"\\u0e19\\u0e21\\u0e2d\\u0e38\\u0e48\\u0e19\", \"\\u0e22\\u0e39\\u0e40\\u0e2d\\u0e0a\\u0e17\\u0e35\", \"\\u0e1a\\u0e33\\u0e23\\u0e38\\u0e07\", \"\\u0e01\\u0e25\\u0e34\\u0e48\\u0e19\", \"\\u0e01\\u0e34\\u0e19\\u0e19\\u0e21\", \"\\u0e14\\u0e37\\u0e48\\u0e21\\u0e19\\u0e21\", \"\\u0e40\\u0e14\\u0e47\\u0e01\", \"\\u0e21\\u0e35\\u0e1b\\u0e23\\u0e30\\u0e42\\u0e22\\u0e0a\\u0e19\\u0e4c\", \"\\u0e2a\\u0e31\\u0e48\\u0e07\", \"\\u0e41\\u0e15\\u0e01\", \"\\u0e17\\u0e34\\u0e49\\u0e07\", \"\\u0e23\\u0e49\\u0e32\\u0e19\\u0e19\\u0e21\", \"\\u0e2d\\u0e40\\u0e21\\u0e23\\u0e34\\u0e01\\u0e32\\u0e42\\u0e19\\u0e48\", \"\\u0e1e\\u0e37\\u0e49\\u0e19\\u0e10\\u0e32\\u0e19\", \"\\u0e19\\u0e21\\u0e1c\\u0e07\", \"\\u0e2b\\u0e32\\u0e22\", \"\\u0e19\\u0e21\\u0e2a\\u0e14\", \"\\u0e1c\\u0e2a\\u0e21\", \"\\u0e08\\u0e37\\u0e14\", \"\\u0e2b\\u0e32\", \"\\u0e01\\u0e25\\u0e48\\u0e2d\\u0e07\", \"\\u0e0b\\u0e37\\u0e49\\u0e2d\", \"\\u0e2b\\u0e27\\u0e32\\u0e19\", \"\\u0e23\\u0e2a\\u0e0a\\u0e32\\u0e15\\u0e34\", \"\\u0e27\\u0e34\\u0e15\\u0e32\\u0e21\\u0e34\\u0e19\", \"\\u0e2d\\u0e23\\u0e48\\u0e2d\\u0e22\", \"\\u0e41\\u0e19\\u0e30\\u0e19\\u0e33\", \"\\u0e2a\\u0e38\\u0e19\\u0e31\\u0e02\", \"\\u0e25\\u0e39\\u0e01\\u0e2a\\u0e38\\u0e19\\u0e31\\u0e02\", \"\\u0e42\\u0e1b\\u0e23\\u0e15\\u0e35\\u0e19\", \"\\u0e41\\u0e04\\u0e25\\u0e40\\u0e0b\\u0e35\\u0e48\\u0e22\\u0e21\", \"\\u0e27\\u0e34\\u0e1b\\u0e1b\\u0e34\\u0e49\\u0e07\", \"whey\", \"\\u0e1e\\u0e25\\u0e31\\u0e07\\u0e07\\u0e32\\u0e19\", \"\\u0e40\\u0e27\\u0e22\\u0e4c\", \"\\u0e2a\\u0e32\\u0e23\\u0e2d\\u0e32\\u0e2b\\u0e32\\u0e23\", \"\\u0e42\\u0e20\\u0e0a\\u0e19\\u0e32\\u0e01\\u0e32\\u0e23\", \"\\u0e2d\\u0e32\\u0e2b\\u0e32\\u0e23\\u0e40\\u0e2a\\u0e23\\u0e34\\u0e21\", \"\\u0e27\\u0e34\\u0e15\\u0e32\\u0e21\\u0e34\\u0e19\", \"protein\", \"\\u0e19\\u0e49\\u0e33\\u0e1c\\u0e25\\u0e44\\u0e21\\u0e49\", \"\\u0e40\\u0e25\\u0e48\\u0e19\\u0e40\\u0e27\\u0e17\", \"\\u0e44\\u0e02\\u0e21\\u0e31\\u0e19\", \"\\u0e21\\u0e35\\u0e1b\\u0e23\\u0e30\\u0e42\\u0e22\\u0e0a\\u0e19\\u0e4c\", \"\\u0e01\\u0e34\\u0e19\\u0e19\\u0e21\", \"\\u0e02\\u0e27\\u0e14\", \"\\u0e40\\u0e1e\\u0e34\\u0e48\\u0e21\\u0e02\\u0e36\\u0e49\\u0e19\", \"\\u0e19\\u0e21\\u0e2d\\u0e38\\u0e48\\u0e19\", \"\\u0e40\\u0e27\\u0e17\", \"\\u0e2a\\u0e48\\u0e27\\u0e19\\u0e2a\\u0e39\\u0e07\", \"\\u0e21\\u0e31\\u0e19\\u0e14\\u0e35\", \"\\u0e2d\\u0e2d\\u0e01\\u0e01\\u0e33\\u0e25\\u0e31\\u0e07\\u0e01\\u0e32\\u0e22\", \"tops\", \"\\u0e1a\\u0e33\\u0e23\\u0e38\\u0e07\", \"fat\", \"\\u0e02\\u0e31\\u0e1a\\u0e16\\u0e48\\u0e32\\u0e22\", \"\\u0e2b\\u0e21\\u0e32\", \"\\u0e41\\u0e19\\u0e30\\u0e19\\u0e33\", \"\\u0e17\\u0e49\\u0e2d\\u0e07\", \"whey formula\", \"\\u0e41\\u0e1b\\u0e49\\u0e07\", \"\\u0e41\\u0e1e\\u0e30\", \"\\u0e19\\u0e49\\u0e33\\u0e15\\u0e32\\u0e25\", \"\\u0e19\\u0e21\\u0e27\\u0e31\\u0e27\", \"\\u0e40\\u0e14\\u0e47\\u0e01\", \"\\u0e41\\u0e1e\\u0e49\\u0e19\\u0e21\\u0e27\\u0e31\\u0e27\", \"\\u0e19\\u0e34\\u0e22\\u0e21\", \"\\u0e14\\u0e37\\u0e48\\u0e21\\u0e19\\u0e21\", \"\\u0e14\\u0e37\\u0e48\\u0e21\", \"\\u0e2b\\u0e32\", \"\\u0e08\\u0e37\\u0e14\", \"\\u0e41\\u0e16\\u0e21\", \"\\u0e01\\u0e25\\u0e48\\u0e2d\\u0e07\", \"\\u0e0b\\u0e37\\u0e49\\u0e2d\", \"\\u0e0a\\u0e2d\\u0e1a\", \"\\u0e17\\u0e34\\u0e49\\u0e07\", \"\\u0e1c\\u0e2a\\u0e21\", \"\\u0e2d\\u0e23\\u0e48\\u0e2d\\u0e22\", \"\\u0e25\\u0e39\\u0e01\", \"\\u0e15\\u0e49\\u0e21\", \"\\u0e23\\u0e2a\\u0e0a\\u0e32\\u0e15\\u0e34\", \"\\u0e2d\\u0e36\", \"\\u0e02\\u0e42\\u0e21\\u0e22\", \"\\u0e04\\u0e27\\u0e32\\u0e21\\u0e41\\u0e02\\u0e47\\u0e07\\u0e41\\u0e23\\u0e07\", \"\\u0e41\\u0e21\\u0e27\", \"lotus\", \"7-Eleven\", \"\\u0e08\\u0e48\\u0e32\\u0e22\", \"\\u0e0b\\u0e37\\u0e49\\u0e2d\\u0e44\\u0e21\\u0e48\\u0e44\\u0e14\\u0e49\", \"\\u0e40\\u0e17\\u0e23\\u0e19\\u0e40\\u0e19\\u0e2d\\u0e23\\u0e4c\", \"\\u0e42\\u0e1b\\u0e23\", \"\\u0e40\\u0e04\\u0e49\\u0e01\", \"\\u0e1f\\u0e32\\u0e23\\u0e4c\\u0e21\", \"\\u0e2a\\u0e34\\u0e19\\u0e04\\u0e49\\u0e32\", \"\\u0e40\\u0e27\\u0e1f\", \"\\u0e02\\u0e19\\u0e21\\u0e1b\\u0e31\\u0e07\", \"\\u0e04\\u0e48\\u0e32\\u0e43\\u0e0a\\u0e49\\u0e08\\u0e48\\u0e32\\u0e22\", \"\\u0e0d\\u0e35\\u0e48\\u0e1b\\u0e38\\u0e48\\u0e19\", \"\\u0e1b\\u0e23\\u0e30\\u0e2b\\u0e22\\u0e31\\u0e14\", \"\\u0e2b\\u0e32\", \"\\u0e41\\u0e16\\u0e21\", \"makro\", \"tops\", \"\\u0e41\\u0e1e\\u0e07\", \"\\u0e1e\\u0e19\\u0e31\\u0e01\\u0e07\\u0e32\\u0e19\", \"bigc\", \"\\u0e1c\\u0e39\\u0e49\\u0e1a\\u0e23\\u0e34\\u0e42\\u0e20\\u0e04\", \"\\u0e0b\\u0e37\\u0e49\\u0e2d\", \"\\u0e42\\u0e1b\\u0e23\\u0e42\\u0e21\\u0e0a\\u0e31\\u0e48\\u0e19\", \"\\u0e17\\u0e34\\u0e49\\u0e07\", \"\\u0e0b\\u0e37\\u0e49\\u0e2d\\u0e1b\\u0e23\\u0e30\\u0e08\\u0e33\", \"\\u0e2b\\u0e32\\u0e22\", \"\\u0e40\\u0e1e\\u0e34\\u0e48\\u0e21\\u0e02\\u0e36\\u0e49\\u0e19\", \"\\u0e2d\\u0e38\\u0e48\\u0e19\", \"\\u0e02\\u0e32\\u0e22\", \"\\u0e1e\\u0e23\\u0e35\\u0e40\\u0e0b\\u0e47\\u0e19\\u0e40\\u0e15\\u0e2d\\u0e23\\u0e4c\", \"\\u0e04\\u0e23\\u0e39\", \"\\u0e23\\u0e49\\u0e32\\u0e19\", \"\\u0e01\\u0e25\\u0e34\\u0e48\\u0e19\", \"\\u0e1e\\u0e19\\u0e31\\u0e01\\u0e07\\u0e32\\u0e19\\u0e02\\u0e32\\u0e22\\u0e19\\u0e21\", \"\\u0e1c\\u0e34\\u0e14\\u0e2a\\u0e31\\u0e07\\u0e40\\u0e01\\u0e15\", \"\\u0e23\\u0e2a\\u0e0a\\u0e32\\u0e15\\u0e34\", \"\\u0e2b\\u0e2d\\u0e21\", \"\\u0e23\\u0e2a\", \"\\u0e2d\\u0e23\\u0e48\\u0e2d\\u0e22\", \"\\u0e25\\u0e39\\u0e01\", \"\\u0e0a\\u0e2d\\u0e1a\", \"\\u0e02\\u0e27\\u0e14\", \"\\u0e41\\u0e21\\u0e48\", \"\\u0e41\\u0e19\\u0e30\\u0e19\\u0e33\", \"\\u0e41\\u0e1b\\u0e49\\u0e07\", \"\\u0e40\\u0e14\\u0e47\\u0e01\", \"\\u0e1c\\u0e2a\\u0e21\", \"\\u0e19\\u0e49\\u0e33\\u0e19\\u0e21\\u0e42\\u0e04\", \"\\u0e02\\u0e32\\u0e22\\u0e44\\u0e21\\u0e48\\u0e14\\u0e35\", \"\\u0e40\\u0e1b\\u0e47\\u0e19\\u0e1c\\u0e25\\u0e14\\u0e35\", \"\\u0e19\\u0e21\\u0e1c\\u0e07\", \"\\u0e19\\u0e21\\u0e2a\\u0e14\", \"\\u0e40\\u0e19\\u0e22\", \"\\u0e23\\u0e2a\", \"\\u0e22\\u0e39\\u0e40\\u0e2d\\u0e0a\\u0e17\\u0e35\", \"\\u0e1a\\u0e23\\u0e23\\u0e08\\u0e38\\u0e20\\u0e31\\u0e13\\u0e11\\u0e4c\", \"\\u0e19\\u0e21\\u0e02\\u0e49\\u0e19\\u0e2b\\u0e27\\u0e32\\u0e19\", \"\\u0e19\\u0e21\\u0e27\\u0e31\\u0e27\", \"\\u0e1c\\u0e39\\u0e49\\u0e1a\\u0e23\\u0e34\\u0e42\\u0e20\\u0e04\", \"\\u0e2a\\u0e48\\u0e27\\u0e19\\u0e1c\\u0e2a\\u0e21\", \"\\u0e41\\u0e1b\\u0e49\\u0e07\", \"\\u0e2d\\u0e38\\u0e48\\u0e19\", \"\\u0e1c\\u0e2a\\u0e21\", \"\\u0e41\\u0e19\\u0e30\\u0e19\\u0e33\", \"\\u0e1d\\u0e32\", \"\\u0e01\\u0e25\\u0e34\\u0e48\\u0e19\", \"\\u0e01\\u0e32\\u0e23\\u0e1a\\u0e39\\u0e14\", \"\\u0e19\\u0e49\\u0e33\\u0e1c\\u0e36\\u0e49\\u0e07\", \"\\u0e08\\u0e37\\u0e14\", \"\\u0e41\\u0e1e\\u0e30\", \"\\u0e1a\\u0e39\\u0e14\", \"\\u0e04\\u0e48\\u0e32\\u0e43\\u0e0a\\u0e49\\u0e08\\u0e48\\u0e32\\u0e22\", \"\\u0e17\\u0e49\\u0e2d\\u0e07\", \"\\u0e1e\\u0e37\\u0e49\\u0e19\\u0e10\\u0e32\\u0e19\", \"shelf life\", \"\\u0e1f\\u0e32\\u0e23\\u0e4c\\u0e21\", \"\\u0e40\\u0e04\\u0e49\\u0e01\", \"\\u0e2d\\u0e23\\u0e48\\u0e2d\\u0e22\", \"\\u0e14\\u0e37\\u0e48\\u0e21\", \"\\u0e14\\u0e37\\u0e48\\u0e21\\u0e19\\u0e21\", \"\\u0e2a\\u0e32\\u0e23\\u0e2d\\u0e32\\u0e2b\\u0e32\\u0e23\", \"\\u0e2b\\u0e2d\\u0e21\", \"\\u0e1e\\u0e19\\u0e31\\u0e01\\u0e07\\u0e32\\u0e19\\u0e02\\u0e32\\u0e22\\u0e19\\u0e21\", \"\\u0e23\\u0e32\\u0e04\\u0e32\\u0e2a\\u0e39\\u0e07\", \"\\u0e41\\u0e15\\u0e01\", \"\\u0e01\\u0e25\\u0e48\\u0e2d\\u0e07\", \"\\u0e0a\\u0e2d\\u0e1a\", \"\\u0e02\\u0e27\\u0e14\", \"\\u0e2b\\u0e27\\u0e32\\u0e19\", \"\\u0e23\\u0e2a\\u0e0a\\u0e32\\u0e15\\u0e34\", \"\\u0e02\\u0e32\\u0e22\", \"\\u0e27\\u0e34\\u0e15\\u0e32\\u0e21\\u0e34\\u0e19\", \"\\u0e17\\u0e49\\u0e2d\\u0e07\\u0e40\\u0e2a\\u0e35\\u0e22\", \"\\u0e17\\u0e34\\u0e49\\u0e07\", \"\\u0e2a\\u0e35\", \"\\u0e02\\u0e19\\u0e21\\u0e1b\\u0e31\\u0e07\", \"\\u0e0b\\u0e37\\u0e49\\u0e2d\", \"\\u0e01\\u0e34\\u0e19\\u0e19\\u0e21\", \"\\u0e27\\u0e31\\u0e19\\u0e2b\\u0e21\\u0e14\\u0e2d\\u0e32\\u0e22\\u0e38\", \"\\u0e25\\u0e14\\u0e23\\u0e32\\u0e04\\u0e32\", \"\\u0e27\\u0e34\\u0e48\\u0e07\", \"\\u0e01\\u0e25\\u0e48\\u0e2d\\u0e07\", \"\\u0e2b\\u0e21\\u0e14\\u0e2d\\u0e32\\u0e22\\u0e38\", \"\\u0e2b\\u0e21\\u0e32\", \"\\u0e23\\u0e49\\u0e32\\u0e19\\u0e19\\u0e21\", \"bigc\", \"\\u0e0b\\u0e37\\u0e49\\u0e2d\", \"\\u0e2d\\u0e2d\\u0e01\\u0e01\\u0e33\\u0e25\\u0e31\\u0e07\\u0e01\\u0e32\\u0e22\", \"\\u0e23\\u0e32\\u0e04\\u0e32\\u0e2a\\u0e39\\u0e07\", \"dha\", \"\\u0e2a\\u0e35\", \"\\u0e19\\u0e36\\u0e01\\u0e16\\u0e36\\u0e07\", \"\\u0e40\\u0e27\\u0e17\", \"\\u0e1b\\u0e23\\u0e30\\u0e2b\\u0e22\\u0e31\\u0e14\", \"makro\", \"\\u0e1c\\u0e34\\u0e14\\u0e2a\\u0e31\\u0e07\\u0e40\\u0e01\\u0e15\", \"\\u0e15\\u0e49\\u0e21\", \"\\u0e42\\u0e1b\\u0e23\\u0e42\\u0e21\\u0e0a\\u0e31\\u0e48\\u0e19\", \"\\u0e01\\u0e25\\u0e34\\u0e48\\u0e19\\u0e2b\\u0e2d\\u0e21\", \"\\u0e1e\\u0e19\\u0e31\\u0e01\\u0e07\\u0e32\\u0e19\", \"\\u0e15\\u0e23\\u0e27\\u0e08\\u0e2a\\u0e2d\\u0e1a\", \"\\u0e40\\u0e2a\\u0e35\\u0e22\\u0e43\\u0e08\", \"\\u0e17\\u0e34\\u0e49\\u0e07\", \"\\u0e02\\u0e19\\u0e2a\\u0e48\\u0e07\", \"\\u0e1a\\u0e39\\u0e14\", \"\\u0e41\\u0e19\\u0e30\\u0e19\\u0e33\", \"\\u0e41\\u0e1e\\u0e07\", \"\\u0e02\\u0e27\\u0e14\", \"\\u0e2b\\u0e32\", \"\\u0e02\\u0e31\\u0e1a\\u0e16\\u0e48\\u0e32\\u0e22\", \"\\u0e04\\u0e38\\u0e13\\u0e41\\u0e21\\u0e48\", \"\\u0e1e\\u0e19\\u0e31\\u0e01\\u0e07\\u0e32\\u0e19\\u0e02\\u0e32\\u0e22\\u0e19\\u0e21\", \"\\u0e41\\u0e02\\u0e47\\u0e07\\u0e41\\u0e23\\u0e07\", \"\\u0e40\\u0e17\\u0e23\\u0e19\\u0e40\\u0e19\\u0e2d\\u0e23\\u0e4c\", \"\\u0e02\\u0e19\\u0e21\\u0e1b\\u0e31\\u0e07\", \"\\u0e40\\u0e27\\u0e22\\u0e4c\", \"\\u0e04\\u0e48\\u0e32\\u0e43\\u0e0a\\u0e49\\u0e08\\u0e48\\u0e32\\u0e22\", \"\\u0e0d\\u0e35\\u0e48\\u0e1b\\u0e38\\u0e48\\u0e19\", \"\\u0e0a\\u0e2d\\u0e1a\", \"\\u0e08\\u0e48\\u0e32\\u0e22\", \"\\u0e21\\u0e35\\u0e1b\\u0e23\\u0e30\\u0e42\\u0e22\\u0e0a\\u0e19\\u0e4c\", \"\\u0e2d\\u0e23\\u0e48\\u0e2d\\u0e22\", \"\\u0e02\\u0e32\\u0e22\", \"\\u0e40\\u0e14\\u0e47\\u0e01\", \"\\u0e14\\u0e37\\u0e48\\u0e21\", \"\\u0e23\\u0e49\\u0e32\\u0e19\", \"\\u0e01\\u0e34\\u0e19\\u0e19\\u0e21\", \"\\u0e41\\u0e21\\u0e48\", \"\\u0e41\\u0e16\\u0e21\", \"\\u0e23\\u0e2a\", \"\\u0e23\\u0e2a\\u0e0a\\u0e32\\u0e15\\u0e34\", \"\\u0e25\\u0e39\\u0e01\", \"\\u0e42\\u0e23\\u0e07\\u0e40\\u0e23\\u0e35\\u0e22\\u0e19\", \"\\u0e19\\u0e21\\u0e2a\\u0e14\", \"\\u0e0a\\u0e35\\u0e49\\u0e41\\u0e08\\u0e07\", \"\\u0e01\\u0e32\\u0e41\\u0e1f\", \"\\u0e2d\\u0e40\\u0e21\\u0e23\\u0e34\\u0e01\\u0e32\\u0e42\\u0e19\\u0e48\", \"\\u0e23\\u0e49\\u0e2d\\u0e19\", \"\\u0e01\\u0e32\\u0e41\\u0e1f\\u0e2a\\u0e14\", \"\\u0e0a\\u0e07\\u0e01\\u0e32\\u0e41\\u0e1f\", \"\\u0e40\\u0e1a\\u0e32\\u0e2b\\u0e27\\u0e32\\u0e19\", \"\\u0e04\\u0e32\\u0e1b\\u0e39\\u0e0a\\u0e34\\u0e42\\u0e19\\u0e48\", \"\\u0e1c\\u0e2a\\u0e21\", \"\\u0e02\\u0e2d\\u0e07\\u0e41\\u0e16\\u0e21\", \"\\u0e2a\\u0e31\\u0e48\\u0e07\", \"\\u0e1a\\u0e23\\u0e23\\u0e08\\u0e38\\u0e20\\u0e31\\u0e13\\u0e11\\u0e4c\", \"\\u0e08\\u0e37\\u0e14\", \"\\u0e19\\u0e21\\u0e02\\u0e49\\u0e19\\u0e2b\\u0e27\\u0e32\\u0e19\", \"\\u0e1a\\u0e33\\u0e23\\u0e38\\u0e07\", \"\\u0e1e\\u0e19\\u0e31\\u0e01\\u0e07\\u0e32\\u0e19\", \"\\u0e19\\u0e49\\u0e33\\u0e1c\\u0e36\\u0e49\\u0e07\", \"\\u0e2a\\u0e48\\u0e27\\u0e19\\u0e1c\\u0e2a\\u0e21\", \"\\u0e19\\u0e34\\u0e22\\u0e21\", \"\\u0e15\\u0e49\\u0e21\", \"\\u0e16\\u0e49\\u0e27\\u0e22\", \"\\u0e19\\u0e49\\u0e33\\u0e15\\u0e32\\u0e25\", \"\\u0e1e\\u0e19\\u0e31\\u0e01\\u0e07\\u0e32\\u0e19\\u0e02\\u0e32\\u0e22\\u0e19\\u0e21\", \"\\u0e21\\u0e31\\u0e19\\u0e14\\u0e35\", \"whey formula\", \"\\u0e1c\\u0e34\\u0e14\\u0e2a\\u0e31\\u0e07\\u0e40\\u0e01\\u0e15\", \"\\u0e01\\u0e32\\u0e23\\u0e1a\\u0e39\\u0e14\", \"\\u0e0b\\u0e37\\u0e49\\u0e2d\\u0e44\\u0e21\\u0e48\\u0e44\\u0e14\\u0e49\", \"\\u0e40\\u0e25\\u0e48\\u0e19\\u0e40\\u0e27\\u0e17\", \"shelf life\", \"\\u0e01\\u0e25\\u0e21\\u0e01\\u0e25\\u0e48\\u0e2d\\u0e21\", \"\\u0e04\\u0e38\\u0e13\\u0e41\\u0e21\\u0e48\", \"\\u0e14\\u0e37\\u0e48\\u0e21\", \"\\u0e2b\\u0e32\", \"\\u0e1b\\u0e23\\u0e30\\u0e2b\\u0e22\\u0e31\\u0e14\", \"\\u0e41\\u0e1e\\u0e04\\u0e04\\u0e39\\u0e48\", \"\\u0e17\\u0e34\\u0e49\\u0e07\", \"\\u0e41\\u0e16\\u0e21\", \"\\u0e41\\u0e19\\u0e30\\u0e19\\u0e33\", \"\\u0e2b\\u0e32\\u0e22\", \"\\u0e0a\\u0e2d\\u0e1a\", \"\\u0e2d\\u0e23\\u0e48\\u0e2d\\u0e22\", \"\\u0e23\\u0e49\\u0e32\\u0e19\", \"\\u0e2d\\u0e38\\u0e48\\u0e19\", \"7-Eleven\", \"\\u0e2a\\u0e35\", \"\\u0e01\\u0e25\\u0e48\\u0e2d\\u0e07\", \"\\u0e23\\u0e2a\\u0e0a\\u0e32\\u0e15\\u0e34\", \"\\u0e0b\\u0e37\\u0e49\\u0e2d\", \"\\u0e02\\u0e27\\u0e14\", \"\\u0e2b\\u0e27\\u0e32\\u0e19\", \"\\u0e19\\u0e21\\u0e2a\\u0e14\", \"\\u0e02\\u0e32\\u0e22\", \"\\u0e2b\\u0e2d\\u0e21\", \"\\u0e40\\u0e0a\\u0e37\\u0e49\\u0e2d\\u0e08\\u0e38\\u0e25\\u0e34\\u0e19\\u0e17\\u0e23\\u0e35\\u0e22\\u0e4c\", \"\\u0e40\\u0e08\\u0e21\\u0e2a\\u0e4c\\u0e08\\u0e34\", \"\\u0e40\\u0e25\\u0e35\\u0e49\\u0e22\\u0e07\\u0e40\\u0e14\\u0e47\\u0e01\", \"\\u0e42\\u0e23\\u0e07\\u0e40\\u0e23\\u0e35\\u0e22\\u0e19\", \"\\u0e1e\\u0e23\\u0e35\\u0e40\\u0e0b\\u0e47\\u0e19\\u0e40\\u0e15\\u0e2d\\u0e23\\u0e4c\", \"\\u0e02\\u0e19\\u0e2a\\u0e48\\u0e07\", \"\\u0e41\\u0e25\\u0e04\\u0e42\\u0e15\\u0e2a\", \"\\u0e17\\u0e49\\u0e2d\\u0e07\\u0e40\\u0e2a\\u0e35\\u0e22\", \"\\u0e15\\u0e23\\u0e27\\u0e08\\u0e2a\\u0e2d\\u0e1a\", \"\\u0e44\\u0e21\\u0e42\\u0e04\\u0e23\\u0e40\\u0e27\\u0e1f\", \"\\u0e1d\\u0e32\", \"\\u0e1e\\u0e48\\u0e2d\\u0e41\\u0e21\\u0e48\", \"\\u0e1e\\u0e37\\u0e49\\u0e19\\u0e10\\u0e32\\u0e19\", \"\\u0e1a\\u0e39\\u0e14\", \"\\u0e40\\u0e14\\u0e47\\u0e01\", \"\\u0e41\\u0e15\\u0e01\", \"\\u0e2b\\u0e32\\u0e22\", \"\\u0e14\\u0e37\\u0e48\\u0e21\\u0e19\\u0e21\", \"\\u0e41\\u0e1e\\u0e30\", \"\\u0e42\\u0e1b\\u0e23\\u0e42\\u0e21\\u0e0a\\u0e31\\u0e48\\u0e19\", \"\\u0e02\\u0e2d\\u0e07\\u0e41\\u0e16\\u0e21\", \"\\u0e23\\u0e49\\u0e32\\u0e19\", \"\\u0e19\\u0e34\\u0e22\\u0e21\", \"\\u0e04\\u0e23\\u0e39\", \"\\u0e1c\\u0e39\\u0e49\\u0e1a\\u0e23\\u0e34\\u0e42\\u0e20\\u0e04\", \"\\u0e2d\\u0e38\\u0e48\\u0e19\", \"\\u0e17\\u0e34\\u0e49\\u0e07\", \"\\u0e2a\\u0e34\\u0e19\\u0e04\\u0e49\\u0e32\", \"\\u0e1e\\u0e19\\u0e31\\u0e01\\u0e07\\u0e32\\u0e19\\u0e02\\u0e32\\u0e22\\u0e19\\u0e21\", \"\\u0e41\\u0e1e\\u0e49\\u0e19\\u0e21\\u0e27\\u0e31\\u0e27\", \"\\u0e19\\u0e21\\u0e02\\u0e49\\u0e19\\u0e2b\\u0e27\\u0e32\\u0e19\", \"\\u0e40\\u0e1a\\u0e32\\u0e2b\\u0e27\\u0e32\\u0e19\", \"\\u0e2a\\u0e31\\u0e48\\u0e07\", \"\\u0e0a\\u0e2d\\u0e1a\", \"\\u0e0a\\u0e32\\u0e19\\u0e21\", \"\\u0e2d\\u0e32\\u0e40\\u0e08\\u0e35\\u0e22\\u0e19\", \"\\u0e42\\u0e20\\u0e0a\\u0e19\\u0e32\\u0e01\\u0e32\\u0e23\", \"\\u0e41\\u0e19\\u0e30\\u0e19\\u0e33\", \"\\u0e0a\\u0e07\\u0e01\\u0e32\\u0e41\\u0e1f\", \"\\u0e25\\u0e14\\u0e23\\u0e32\\u0e04\\u0e32\", \"\\u0e02\\u0e32\\u0e22\", \"\\u0e41\\u0e16\\u0e21\", \"\\u0e2b\\u0e32\", \"\\u0e14\\u0e37\\u0e48\\u0e21\", \"\\u0e25\\u0e39\\u0e01\", \"\\u0e19\\u0e21\\u0e1c\\u0e07\", \"\\u0e0b\\u0e37\\u0e49\\u0e2d\", \"\\u0e19\\u0e49\\u0e33\\u0e15\\u0e32\\u0e25\", \"\\u0e41\\u0e1e\\u0e07\", \"\\u0e41\\u0e21\\u0e48\", \"\\u0e04\\u0e38\\u0e13\\u0e41\\u0e21\\u0e48\", \"\\u0e2b\\u0e27\\u0e32\\u0e19\", \"\\u0e01\\u0e32\\u0e41\\u0e1f\"], \"Freq\": [2322.0, 3069.0, 1881.0, 1161.0, 1692.0, 1606.0, 1373.0, 976.0, 2686.0, 865.0, 1283.0, 837.0, 1281.0, 790.0, 636.0, 1170.0, 984.0, 1179.0, 651.0, 686.0, 1167.0, 1247.0, 719.0, 392.0, 1318.0, 603.0, 3137.0, 1116.0, 316.0, 666.0, 481.0, 1150.0, 358.0, 362.0, 420.0, 260.0, 458.0, 355.0, 292.0, 392.0, 12.683084880986849, 59.13591338142132, 1039.3677962495017, 46.50156579007951, 20.38876087243887, 42.765313936517444, 891.922897592951, 396.2229868656398, 41.144143655205106, 1817.826684772063, 781.5500249543121, 52.67849137093083, 552.1094130597251, 214.55560876281845, 193.2547360773519, 33.05739629479208, 44.3245510280272, 0.5928687610977474, 417.4899995952206, 10.194467167663813, 172.61701895412733, 134.78067381724907, 97.38298163346508, 930.0406226637818, 51.218660078872674, 85.96348947848311, 74.24910116125643, 0.3832372699557792, 37.76984871668204, 3.849230834954262, 8.86379287331798, 3.7938831637234216, 129.58556668948293, 0.2924741143841958, 2.0041631854235815, 31.520570608510006, 46.71966183653571, 37.65067277358892, 3.974132788005321, 0.1745396235030665, 190.28914052029216, 56.073863206857396, 79.77000397385157, 132.00233491786267, 66.42759474762583, 181.4669197628942, 57.076821003986026, 66.17789607567623, 49.780902517618756, 38.07836055927508, 40.63565685593492, 39.76108472487325, 75.58826129382426, 88.6709515847777, 88.19406490559986, 107.59333202106093, 8.917879687327284, 2047.0477778196557, 1399.2344365355864, 7.926452063149459, 61.60612624833952, 142.329365198109, 4.052087118985559, 33.96029019169488, 43.38231883039484, 209.44052735253229, 53.604787129865926, 1.1238792366596322, 37.67883187051877, 604.3245940699562, 207.34953128155936, 8.632247328262093, 127.30185866208622, 26.102638780059948, 252.84328931524004, 57.71848990270981, 883.1328004404214, 4.283899095067628, 7.901975820867476, 44.42409399514061, 117.75110319512723, 216.1618765639974, 101.36131987886041, 297.04374164766205, 63.44504886414988, 63.07386395576084, 23.310369384832946, 48.52098261822474, 1.3043362876397908, 2.1085205052818825, 2.930750900014237, 92.89258087024555, 35.74520464814704, 67.08084035194322, 101.13153874509577, 59.28937398938082, 73.6530134796937, 98.98086244360874, 88.12134646330311, 61.794539430255334, 42.447135333171936, 21.765759703340052, 27.728910774236475, 24.380729420589322, 56.66921547689018, 47.2137456421717, 826.1591875952483, 93.75783243911836, 27.24911716041176, 34.969097915862676, 151.86727300285324, 115.03540349803559, 538.3505948796146, 143.2359182688084, 121.45057889470506, 280.29576507737477, 19.164658212002013, 85.7483805368907, 33.1339693152482, 425.2023783059954, 255.79330875053148, 664.7735404897076, 777.2365966514807, 38.76388657714725, 7.825996455375913, 17.148742406653607, 12.94173426033817, 35.29989001212591, 93.80340969482451, 9.925603054874651, 57.85137554676826, 34.042824105249515, 23.808222051629716, 43.2986211015409, 216.14655790177736, 109.84580875125236, 0.38233695597315753, 86.02640768523251, 53.25050910152644, 291.75408737206624, 159.54886603498028, 378.7685763963622, 18.104567458763256, 12.503408326393263, 63.781549174100924, 118.42697845147865, 111.19698447770739, 71.79814828487035, 59.41225670201334, 105.75248980115934, 110.03750998633163, 87.89245477140798, 45.00331498643498, 57.91083502215492, 65.28923478235177, 55.49400019718632, 46.92596192851361, 36.860620273678805, 86.87913008960956, 31.22841375823427, 14.835006673351591, 365.84547718112714, 185.2454604768019, 719.5972390268325, 232.69791117568172, 24.289408291909325, 9.852684220853211, 170.43414668065097, 281.8806346017287, 282.75461338457774, 515.6819750911928, 67.08825488814301, 261.21165274143294, 17.492590128981824, 140.62009590805414, 74.8549312957358, 586.4429298815156, 307.48514247803206, 18.10955208582515, 12.409124996085616, 213.46500605960358, 178.07597604468896, 22.721133492117687, 52.57530736060643, 852.6618092792676, 12.318845379723527, 88.7658804168568, 5.660800098805419, 78.99366415509712, 12.238797983336866, 47.87335621737176, 219.22750679122151, 2.2728569323506447, 7.594889794861355, 138.49531415699718, 61.394712303890785, 0.12819809891000264, 0.16136092617990644, 112.29198860063272, 48.579629436109244, 98.54630295261111, 150.4659707239034, 122.20308244331096, 110.41089996629651, 54.12797893055902, 58.182952662584995, 38.83721304615091, 25.157658233179884, 27.704168957440537, 25.47629279695321, 85.3049650562937, 15.958815336274434, 6.373423226691599, 817.2806688830275, 612.2817989801092, 141.16213452463865, 1002.0578845185437, 19.753556243797924, 21.51920665888751, 38.25061770074807, 224.4792531149797, 47.276232703336014, 75.19265232836624, 84.36232950726347, 68.47144831397638, 325.538968064822, 190.7855945447147, 70.92625693090471, 124.38184483149297, 0.3499704314745028, 37.73509916260448, 134.68081640442497, 36.149134837516904, 28.352065796543794, 4.417952020909283, 62.17491614954793, 4.323047406085198, 0.2264970078225775, 44.728586008299374, 43.08929347490022, 322.42294284563496, 137.73525593922068, 55.467273240431396, 72.50089432258092, 55.741397168083225, 0.10303103562515623, 1.4739396999984025, 15.599502406623808, 157.32780440563997, 256.39700806875766, 92.24334907333647, 89.80094545722508, 76.25349955806114, 79.27505948211746, 25.994320819511838, 20.79069755161479, 27.1949295169383, 27.769727311082683, 25.838521292709174, 42.16283182721472, 23.100376040742255, 89.45520925541253, 105.50140777192881, 151.81652892078006, 1418.3328262503344, 128.62178496932592, 93.42488567381405, 6.734564252803054, 35.69125408322735, 1665.4923188949297, 123.8912046994068, 7.8068739143753, 7.971523163783971, 186.6858985278215, 53.66563773151853, 11.910249663307377, 37.84785585333266, 10.018714423994497, 0.3439028164164389, 109.68880272270685, 10.533726643392498, 10.038620999236553, 76.81416245549705, 24.164015082574245, 9.326967505214835, 54.11199169483063, 6.696721656496632, 22.101582218024657, 94.90726524452097, 56.77904513717432, 123.75357562637046, 108.77417007216762, 6.662396080281686, 29.76924294407298, 0.101401670515606, 14.799090612191199, 0.9766923205557043, 30.613532351320288, 10.877101746962955, 2.161638084626326, 17.77946501025034, 238.5043754280365, 19.34381792987182, 24.24407044436559, 122.63074334251061, 66.51563431082948, 73.14717566122363, 52.84444373069701, 49.32631546888347, 42.78189903874369, 55.28705005768973, 29.868668555077488, 39.34721032044555, 27.451274524002084, 21.426227695857982, 15.039415819459897, 15.724591856428582, 36.87829403497588, 967.9291715609799, 17.055314062161678, 501.63390105874805, 63.27563847650703, 25.6155741273661, 36.52137618702492, 11.253109214553092, 744.4137906545869, 55.893194488160375, 231.3455902361734, 29.21475730812801, 383.73113667045106, 43.847269874453524, 63.89955890012596, 172.57969067844965, 66.2599696891607, 85.46220386556493, 15.6137274659446, 112.71226359279686, 69.03736382219022, 256.8069498685604, 0.23110246013591423, 17.501818634522927, 0.23109745178419625, 0.23111118301515637, 0.23172345401267927, 4.314017208106286, 6.604917417537302, 0.2311071137293855, 8.12861560628053, 38.91411021026725, 136.82934422838554, 130.29916944854665, 15.698787975962293, 0.2311123098942929, 37.673695079176575, 56.96261514267605, 65.83835996373894, 32.23785182751838, 217.0801591328852, 167.0596590377529, 82.96582233740914, 20.85080993910332, 48.9692697740563, 26.37072137935883, 81.38566733697994, 53.74540492405958, 81.78473280186849, 48.16558825501521, 34.03135192664981, 28.241034902679022, 21.136694668528303, 20.96322272730347, 55.56687606708387, 45.124621745868275, 5.715050413330134, 257.1055808420386, 13.35073959922838, 39.11308134468581, 28.907192332113976, 195.35373722068306, 110.32723810334578, 100.91251386011052, 183.42982967582367, 112.21333747018839, 17.306773921529725, 93.8017389753412, 887.8693214503858, 92.37276886920968, 203.07182344925604, 241.28883041465124, 101.90591121406881, 21.310390003133545, 43.67697757695659, 453.0590950928616, 21.909444043578475, 19.753036904516097, 33.364939883275774, 43.76186227496348, 60.951831741277424, 104.94924120496664, 0.1698520961354065, 13.934846303380208, 15.484583038516567, 7.725628271567336, 55.783592228161424, 414.2004157471054, 7.558090273847424, 8.893720983400527, 18.654194833099222, 74.35912863635087, 3.390182216102537, 12.089304517997311, 122.94697566453536, 40.78611755101511, 54.41337930428247, 48.76241098743883, 71.03068385401916, 37.975212099272156, 48.00365232857636, 33.47292695594474, 26.50300901415576, 29.56171204909473, 20.047324627705354, 20.119806722885116, 19.779894544732162], \"Total\": [2322.0, 3069.0, 1881.0, 1161.0, 1692.0, 1606.0, 1373.0, 976.0, 2686.0, 865.0, 1283.0, 837.0, 1281.0, 790.0, 636.0, 1170.0, 984.0, 1179.0, 651.0, 686.0, 1167.0, 1247.0, 719.0, 392.0, 1318.0, 603.0, 3137.0, 1116.0, 316.0, 666.0, 481.0, 1150.0, 358.0, 362.0, 420.0, 260.0, 458.0, 355.0, 292.0, 392.0, 14.116343404484079, 67.08308240270713, 1281.8076141072017, 59.18737153398348, 26.8285299111589, 59.760195691384176, 1247.140446715735, 562.1386485091488, 59.42541253679789, 2686.8628789557256, 1318.727507961519, 99.4354608399303, 1167.000459735193, 536.8686988092213, 495.53938107458174, 87.39251972322293, 121.15175892755079, 1.6222722235393134, 1170.8242043833825, 28.96074532121628, 523.1856278518511, 418.7773668736947, 327.29496744395607, 3137.6587362186924, 180.03227445440262, 308.83114829000306, 269.2753810553273, 1.5367273821768421, 156.24445711378053, 16.57460815320522, 38.26503943514528, 17.4118561639206, 603.6753088064241, 1.4411737092679633, 11.076834519752037, 177.8248763862956, 267.35469862240507, 230.27010243958378, 25.08399052679509, 1.1343343741401593, 1373.7505773867601, 420.5202942643598, 636.2287298637275, 1161.0228245779224, 589.2510976864523, 3069.7311213443854, 719.8384688263411, 1179.0151318181906, 755.0357512754618, 790.6974837589271, 1116.0627278661939, 1150.6829755569754, 77.41756181719124, 91.92025077888347, 96.09087248667063, 117.90167740387409, 9.928997891802505, 2322.812386014246, 1606.5749183836658, 9.16482582936596, 73.55166003013056, 173.5547310288813, 5.183415411182772, 45.668540588759306, 59.567945520538125, 320.8906745482507, 95.3550431096442, 2.120561735913056, 71.11764076654623, 1150.6829755569754, 407.8358641799598, 17.698354189712916, 308.83114829000306, 64.16623078352976, 666.4671869280468, 185.71560060793084, 3137.6587362186924, 15.641373739442912, 29.69782306147873, 168.08311633763083, 523.1856278518511, 984.364336365919, 481.3139207213202, 1692.196576221117, 363.1861514809592, 420.5202942643598, 177.8248763862956, 389.54100036109503, 11.076834519752037, 20.606457692328085, 28.723993463744716, 976.6347526004076, 392.86276501120165, 790.6974837589271, 1283.3285363059404, 719.8384688263411, 1116.0627278661939, 1881.4572294393413, 3069.7311213443854, 1281.8076141072017, 1247.140446715735, 355.53764055839883, 2686.8628789557256, 755.0357512754618, 57.608538776132725, 48.152785968149786, 865.5538551588407, 98.36694184883217, 30.184416621902937, 39.0004709071001, 174.51603315609546, 139.21382796947344, 651.7661540127013, 177.20274892976366, 153.16877497421402, 355.53764055839883, 25.08399052679509, 118.6482067740009, 46.32902140739306, 603.6753088064241, 363.1861514809592, 984.364336365919, 1179.0151318181906, 65.47986585197276, 15.641373739442912, 37.482353237145546, 28.96074532121628, 87.39251972322293, 240.7789112853842, 27.306960759606127, 168.08311633763083, 99.4354608399303, 71.11764076654623, 142.10870847462763, 755.0357512754618, 407.8358641799598, 1.4411737092679633, 327.29496744395607, 211.12328908174203, 1167.000459735193, 666.4671869280468, 1692.196576221117, 95.3550431096442, 66.07922273945886, 481.3139207213202, 1150.6829755569754, 1116.0627278661939, 719.8384688263411, 589.2510976864523, 1881.4572294393413, 3069.7311213443854, 3137.6587362186924, 389.54100036109503, 1283.3285363059404, 2686.8628789557256, 2322.812386014246, 495.53938107458174, 1247.140446715735, 88.06073715616476, 32.48234531875338, 15.92688546859811, 392.83751424457574, 199.97073055134356, 837.221534570078, 273.9423859697277, 29.3249050784629, 11.93155991403992, 209.5550112280056, 358.8461101426961, 362.34505340659507, 686.5324244333436, 90.60399347769385, 377.0465411761351, 27.980536480100206, 230.27010243958378, 141.59008816600104, 1116.0627278661939, 589.2510976864523, 38.26503943514528, 27.306960759606127, 536.8686988092213, 458.32872231776577, 60.178326872654, 143.8152171370678, 3069.7311213443854, 47.79477412815936, 389.54100036109503, 26.8285299111589, 392.86276501120165, 65.47986585197276, 269.2753810553273, 1318.727507961519, 16.494403454534186, 64.16623078352976, 1170.8242043833825, 523.1856278518511, 1.1343343741401593, 1.4745343445305803, 1247.140446715735, 562.1386485091488, 1373.7505773867601, 2686.8628789557256, 2322.812386014246, 3137.6587362186924, 1179.0151318181906, 1606.5749183836658, 755.0357512754618, 327.29496744395607, 1692.196576221117, 1283.3285363059404, 88.29719093168526, 17.55963338722372, 7.352083735427256, 976.6347526004076, 790.6974837589271, 188.03462079660187, 1373.7505773867601, 29.69782306147873, 54.14687792693584, 112.32613894643042, 666.4671869280468, 143.8152171370678, 267.35469862240507, 327.29496744395607, 269.2753810553273, 1283.3285363059404, 755.0357512754618, 292.1134499715379, 523.1856278518511, 1.5367273821768421, 180.03227445440262, 719.8384688263411, 211.12328908174203, 169.06671414601703, 27.980536480100206, 407.8358641799598, 28.723993463744716, 1.6222722235393134, 362.34505340659507, 358.8461101426961, 2686.8628789557256, 1150.6829755569754, 481.3139207213202, 651.7661540127013, 562.1386485091488, 1.1343343741401593, 16.57460815320522, 177.8248763862956, 1881.4572294393413, 3137.6587362186924, 1179.0151318181906, 1281.8076141072017, 1247.140446715735, 1318.727507961519, 355.53764055839883, 260.20602837108447, 389.54100036109503, 418.7773668736947, 377.0465411761351, 3069.7311213443854, 984.364336365919, 95.7863180702426, 124.47825314107087, 184.4367058738081, 1881.4572294393413, 170.68996390061395, 142.10870847462763, 11.076834519752037, 60.178326872654, 3069.7311213443854, 240.7789112853842, 16.57460815320522, 17.698354189712916, 418.7773668736947, 121.15175892755079, 37.482353237145546, 141.59008816600104, 38.26503943514528, 1.4745343445305803, 495.53938107458174, 47.79477412815936, 59.42541253679789, 458.32872231776577, 151.66825591185724, 59.567945520538125, 389.54100036109503, 48.573069173798004, 169.06671414601703, 755.0357512754618, 536.8686988092213, 1179.0151318181906, 1116.0627278661939, 71.11764076654623, 320.8906745482507, 1.1343343741401593, 173.5547310288813, 11.93155991403992, 377.0465411761351, 139.21382796947344, 27.980536480100206, 230.27010243958378, 3137.6587362186924, 273.9423859697277, 363.1861514809592, 2686.8628789557256, 1318.727507961519, 1692.196576221117, 1150.6829755569754, 1170.8242043833825, 984.364336365919, 1606.5749183836658, 589.2510976864523, 1373.7505773867601, 1247.140446715735, 2322.812386014246, 316.89330738483176, 790.6974837589271, 39.488579337320296, 1161.0228245779224, 20.606457692328085, 636.2287298637275, 80.87122788517463, 34.503506088944405, 56.39761519181252, 17.4118561639206, 1283.3285363059404, 100.40077305481097, 420.5202942643598, 54.14687792693584, 719.8384688263411, 112.32613894643042, 168.08311633763083, 458.32872231776577, 180.03227445440262, 267.35469862240507, 66.07922273945886, 495.53938107458174, 308.83114829000306, 1167.000459735193, 1.1343343741401593, 87.39251972322293, 1.4411737092679633, 1.4745343445305803, 1.5367273821768421, 29.3249050784629, 46.32902140739306, 1.6222722235393134, 59.760195691384176, 320.8906745482507, 1150.6829755569754, 1116.0627278661939, 141.59008816600104, 2.120561735913056, 389.54100036109503, 589.2510976864523, 755.0357512754618, 392.86276501120165, 3137.6587362186924, 2686.8628789557256, 1170.8242043833825, 269.2753810553273, 837.221534570078, 418.7773668736947, 1881.4572294393413, 1247.140446715735, 3069.7311213443854, 1179.0151318181906, 1281.8076141072017, 790.6974837589271, 1318.727507961519, 562.1386485091488, 56.53386721909755, 46.24114701554645, 6.681778096824419, 316.89330738483176, 16.494403454534186, 48.573069173798004, 37.35644631044538, 260.20602837108447, 151.66825591185724, 156.24445711378053, 292.1134499715379, 185.71560060793084, 28.723993463744716, 169.06671414601703, 1692.196576221117, 177.8248763862956, 392.86276501120165, 481.3139207213202, 211.12328908174203, 47.79477412815936, 100.40077305481097, 1170.8242043833825, 66.07922273945886, 64.16623078352976, 143.8152171370678, 269.2753810553273, 389.54100036109503, 686.5324244333436, 1.1343343741401593, 95.3550431096442, 112.32613894643042, 56.39761519181252, 420.5202942643598, 3137.6587362186924, 59.18737153398348, 73.55166003013056, 177.20274892976366, 755.0357512754618, 34.503506088944405, 124.47825314107087, 1318.727507961519, 589.2510976864523, 1116.0627278661939, 1150.6829755569754, 2322.812386014246, 976.6347526004076, 3069.7311213443854, 1167.000459735193, 536.8686988092213, 1606.5749183836658, 320.8906745482507, 1281.8076141072017, 1161.0228245779224], \"Category\": [\"Default\", \"Default\", \"Default\", \"Default\", \"Default\", \"Default\", \"Default\", \"Default\", \"Default\", \"Default\", \"Default\", \"Default\", \"Default\", \"Default\", \"Default\", \"Default\", \"Default\", \"Default\", \"Default\", \"Default\", \"Default\", \"Default\", \"Default\", \"Default\", \"Default\", \"Default\", \"Default\", \"Default\", \"Default\", \"Default\", \"Default\", \"Default\", \"Default\", \"Default\", \"Default\", \"Default\", \"Default\", \"Default\", \"Default\", \"Default\", \"Topic1\", \"Topic1\", \"Topic1\", \"Topic1\", \"Topic1\", \"Topic1\", \"Topic1\", \"Topic1\", \"Topic1\", \"Topic1\", \"Topic1\", \"Topic1\", \"Topic1\", \"Topic1\", \"Topic1\", \"Topic1\", \"Topic1\", \"Topic1\", \"Topic1\", \"Topic1\", \"Topic1\", \"Topic1\", \"Topic1\", \"Topic1\", \"Topic1\", \"Topic1\", \"Topic1\", \"Topic1\", \"Topic1\", \"Topic1\", \"Topic1\", \"Topic1\", \"Topic1\", \"Topic1\", \"Topic1\", \"Topic1\", \"Topic1\", \"Topic1\", \"Topic1\", \"Topic1\", \"Topic1\", \"Topic1\", \"Topic1\", \"Topic1\", \"Topic1\", \"Topic1\", \"Topic1\", \"Topic1\", \"Topic1\", \"Topic1\", \"Topic1\", \"Topic1\", \"Topic2\", \"Topic2\", \"Topic2\", \"Topic2\", \"Topic2\", \"Topic2\", \"Topic2\", \"Topic2\", \"Topic2\", \"Topic2\", \"Topic2\", \"Topic2\", \"Topic2\", \"Topic2\", \"Topic2\", \"Topic2\", \"Topic2\", \"Topic2\", \"Topic2\", \"Topic2\", \"Topic2\", \"Topic2\", \"Topic2\", \"Topic2\", \"Topic2\", \"Topic2\", \"Topic2\", \"Topic2\", \"Topic2\", \"Topic2\", \"Topic2\", \"Topic2\", \"Topic2\", \"Topic2\", \"Topic2\", \"Topic2\", \"Topic2\", \"Topic2\", \"Topic2\", \"Topic2\", \"Topic2\", \"Topic2\", \"Topic2\", \"Topic2\", \"Topic2\", \"Topic2\", \"Topic2\", \"Topic2\", \"Topic2\", \"Topic2\", \"Topic2\", \"Topic2\", \"Topic3\", \"Topic3\", \"Topic3\", \"Topic3\", \"Topic3\", \"Topic3\", \"Topic3\", \"Topic3\", \"Topic3\", \"Topic3\", \"Topic3\", \"Topic3\", \"Topic3\", \"Topic3\", \"Topic3\", \"Topic3\", \"Topic3\", \"Topic3\", \"Topic3\", \"Topic3\", \"Topic3\", \"Topic3\", \"Topic3\", \"Topic3\", \"Topic3\", \"Topic3\", \"Topic3\", \"Topic3\", \"Topic3\", \"Topic3\", \"Topic3\", \"Topic3\", \"Topic3\", \"Topic3\", \"Topic3\", \"Topic3\", \"Topic3\", \"Topic3\", \"Topic3\", \"Topic3\", \"Topic3\", \"Topic3\", \"Topic3\", \"Topic3\", \"Topic3\", \"Topic3\", \"Topic3\", \"Topic3\", \"Topic3\", \"Topic3\", \"Topic3\", \"Topic3\", \"Topic3\", \"Topic3\", \"Topic4\", \"Topic4\", \"Topic4\", \"Topic4\", \"Topic4\", \"Topic4\", \"Topic4\", \"Topic4\", \"Topic4\", \"Topic4\", \"Topic4\", \"Topic4\", \"Topic4\", \"Topic4\", \"Topic4\", \"Topic4\", \"Topic4\", \"Topic4\", \"Topic4\", \"Topic4\", \"Topic4\", \"Topic4\", \"Topic4\", \"Topic4\", \"Topic4\", \"Topic4\", \"Topic4\", \"Topic4\", \"Topic4\", \"Topic4\", \"Topic4\", \"Topic4\", \"Topic4\", \"Topic4\", \"Topic4\", \"Topic4\", \"Topic4\", \"Topic4\", \"Topic4\", \"Topic4\", \"Topic4\", \"Topic4\", \"Topic4\", \"Topic4\", \"Topic4\", \"Topic4\", \"Topic4\", \"Topic4\", \"Topic4\", \"Topic4\", \"Topic4\", \"Topic4\", \"Topic5\", \"Topic5\", \"Topic5\", \"Topic5\", \"Topic5\", \"Topic5\", \"Topic5\", \"Topic5\", \"Topic5\", \"Topic5\", \"Topic5\", \"Topic5\", \"Topic5\", \"Topic5\", \"Topic5\", \"Topic5\", \"Topic5\", \"Topic5\", \"Topic5\", \"Topic5\", \"Topic5\", \"Topic5\", \"Topic5\", \"Topic5\", \"Topic5\", \"Topic5\", \"Topic5\", \"Topic5\", \"Topic5\", \"Topic5\", \"Topic5\", \"Topic5\", \"Topic5\", \"Topic5\", \"Topic5\", \"Topic5\", \"Topic5\", \"Topic5\", \"Topic5\", \"Topic5\", \"Topic5\", \"Topic5\", \"Topic5\", \"Topic5\", \"Topic5\", \"Topic5\", \"Topic5\", \"Topic5\", \"Topic5\", \"Topic5\", \"Topic5\", \"Topic6\", \"Topic6\", \"Topic6\", \"Topic6\", \"Topic6\", \"Topic6\", \"Topic6\", \"Topic6\", \"Topic6\", \"Topic6\", \"Topic6\", \"Topic6\", \"Topic6\", \"Topic6\", \"Topic6\", \"Topic6\", \"Topic6\", \"Topic6\", \"Topic6\", \"Topic6\", \"Topic6\", \"Topic6\", \"Topic6\", \"Topic6\", \"Topic6\", \"Topic6\", \"Topic6\", \"Topic6\", \"Topic6\", \"Topic6\", \"Topic6\", \"Topic6\", \"Topic6\", \"Topic6\", \"Topic6\", \"Topic6\", \"Topic6\", \"Topic6\", \"Topic6\", \"Topic6\", \"Topic6\", \"Topic6\", \"Topic6\", \"Topic6\", \"Topic6\", \"Topic6\", \"Topic6\", \"Topic6\", \"Topic6\", \"Topic6\", \"Topic6\", \"Topic6\", \"Topic6\", \"Topic6\", \"Topic6\", \"Topic6\", \"Topic7\", \"Topic7\", \"Topic7\", \"Topic7\", \"Topic7\", \"Topic7\", \"Topic7\", \"Topic7\", \"Topic7\", \"Topic7\", \"Topic7\", \"Topic7\", \"Topic7\", \"Topic7\", \"Topic7\", \"Topic7\", \"Topic7\", \"Topic7\", \"Topic7\", \"Topic7\", \"Topic7\", \"Topic7\", \"Topic7\", \"Topic7\", \"Topic7\", \"Topic7\", \"Topic7\", \"Topic7\", \"Topic7\", \"Topic7\", \"Topic7\", \"Topic7\", \"Topic7\", \"Topic7\", \"Topic7\", \"Topic7\", \"Topic7\", \"Topic7\", \"Topic7\", \"Topic7\", \"Topic7\", \"Topic7\", \"Topic7\", \"Topic7\", \"Topic7\", \"Topic7\", \"Topic7\", \"Topic7\", \"Topic7\", \"Topic7\", \"Topic7\", \"Topic7\", \"Topic7\", \"Topic7\", \"Topic8\", \"Topic8\", \"Topic8\", \"Topic8\", \"Topic8\", \"Topic8\", \"Topic8\", \"Topic8\", \"Topic8\", \"Topic8\", \"Topic8\", \"Topic8\", \"Topic8\", \"Topic8\", \"Topic8\", \"Topic8\", \"Topic8\", \"Topic8\", \"Topic8\", \"Topic8\", \"Topic8\", \"Topic8\", \"Topic8\", \"Topic8\", \"Topic8\", \"Topic8\", \"Topic8\", \"Topic8\", \"Topic8\", \"Topic8\", \"Topic8\", \"Topic8\", \"Topic8\", \"Topic8\", \"Topic8\", \"Topic8\", \"Topic8\", \"Topic8\", \"Topic8\", \"Topic8\", \"Topic8\", \"Topic8\", \"Topic8\", \"Topic8\", \"Topic8\", \"Topic8\", \"Topic8\", \"Topic8\", \"Topic8\", \"Topic8\", \"Topic8\", \"Topic8\", \"Topic8\"], \"logprob\": [40.0, 39.0, 38.0, 37.0, 36.0, 35.0, 34.0, 33.0, 32.0, 31.0, 30.0, 29.0, 28.0, 27.0, 26.0, 25.0, 24.0, 23.0, 22.0, 21.0, 20.0, 19.0, 18.0, 17.0, 16.0, 15.0, 14.0, 13.0, 12.0, 11.0, 10.0, 9.0, 8.0, 7.0, 6.0, 5.0, 4.0, 3.0, 2.0, 1.0, -6.663400173187256, -5.123799800872803, -2.2572999000549316, -5.364200115203857, -6.188700199127197, -5.44789981842041, -2.4103000164031982, -3.2216999530792236, -5.486599922180176, -1.6983000040054321, -2.5423998832702637, -5.239500045776367, -2.889899969100952, -3.835099935531616, -3.93969988822937, -5.705399990081787, -5.412099838256836, -9.726499557495117, -3.1693999767303467, -6.881800174713135, -4.052599906921387, -4.300000190734863, -4.625, -2.3684000968933105, -5.267600059509277, -4.749800205230713, -4.896200180053711, -10.162799835205078, -5.572199821472168, -7.855800151824951, -7.021699905395508, -7.870299816131592, -4.339300155639648, -10.433099746704102, -8.508399963378906, -5.752999782562256, -5.359499931335449, -5.575300216674805, -7.82390022277832, -10.949299812316895, -3.9551000595092773, -5.177000045776367, -4.82450008392334, -4.320899963378906, -5.007599830627441, -4.002600193023682, -5.159299850463867, -5.011300086975098, -5.296000003814697, -5.564000129699707, -5.499000072479248, -5.5208001136779785, -4.753399848937988, -4.593699932098389, -4.599100112915039, -4.400300025939941, -6.890600204467773, -1.4544999599456787, -1.8350000381469727, -7.008500099182129, -4.957900047302246, -4.120500087738037, -7.6793999671936035, -5.553500175476074, -5.308599948883057, -3.7342000007629395, -5.0970001220703125, -8.961899757385254, -5.4496002197265625, -2.6745998859405518, -3.74429988861084, -6.9232001304626465, -4.232100009918213, -5.8165998458862305, -3.5459001064300537, -5.023099899291992, -2.2952001094818115, -7.623799800872803, -7.011499881744385, -5.284900188446045, -4.310100078582764, -3.7026000022888184, -4.460000038146973, -3.3847999572753906, -4.928500175476074, -4.9344000816345215, -5.929800033569336, -5.196700096130371, -8.812999725341797, -8.3326997756958, -8.003399848937988, -4.5472002029418945, -5.502200126647949, -4.872799873352051, -4.462200164794922, -4.996200084686279, -4.779300212860107, -4.483699798583984, -4.599899768829346, -4.954800128936768, -5.330399990081787, -5.998300075531006, -5.756199836730957, -5.884900093078613, -4.93779993057251, -5.1203999519348145, -2.2583000659942627, -4.434299945831299, -5.670000076293945, -5.420599937438965, -3.9519999027252197, -4.229800224304199, -2.686500072479248, -4.0106000900268555, -4.17549991607666, -3.339200019836426, -6.021999835968018, -4.523600101470947, -5.4745001792907715, -2.922499895095825, -3.4307000637054443, -2.475600004196167, -2.3192999362945557, -5.317599773406982, -6.917600154876709, -6.1331000328063965, -6.414599895477295, -5.411200046539307, -4.433899879455566, -6.679900169372559, -4.917200088500977, -5.447400093078613, -5.804999828338623, -5.206900119781494, -3.599100112915039, -4.276000022888184, -9.93649959564209, -4.520400047302246, -5.0, -3.299099922180176, -3.9026999473571777, -3.038100004196167, -6.07889986038208, -6.449100017547607, -4.8196001052856445, -4.200799942016602, -4.263800144195557, -4.701200008392334, -4.890600204467773, -4.314000129699707, -4.274199962615967, -4.498899936676025, -5.168300151824951, -4.916200160980225, -4.796199798583984, -4.958799839019775, -5.126500129699707, -5.3678998947143555, -4.46999979019165, -5.493199825286865, -6.237500190734863, -3.0322999954223633, -3.7128000259399414, -2.355799913406372, -3.484800100326538, -5.744500160217285, -6.6468000411987305, -3.7962000370025635, -3.2929999828338623, -3.289900064468384, -2.688999891281128, -4.728499889373779, -3.3691999912261963, -6.072700023651123, -3.9885001182556152, -4.61899995803833, -2.5604000091552734, -3.2060999870300293, -6.038099765777588, -6.416100025177002, -3.571000099182129, -3.7523000240325928, -5.811200141906738, -4.972300052642822, -2.186199903488159, -6.423399925231934, -4.448500156402588, -7.201000213623047, -4.565199851989746, -6.429900169372559, -5.065999984741211, -3.5443999767303467, -8.113499641418457, -6.9070000648498535, -4.003699779510498, -4.817200183868408, -10.988699913024902, -10.758600234985352, -4.213399887084961, -5.051300048828125, -4.343999862670898, -3.920799970626831, -4.128799915313721, -4.230299949645996, -4.94320011138916, -4.8709001541137695, -5.275100231170654, -5.709400177001953, -5.6128997802734375, -5.696800231933594, -4.287199974060059, -5.963399887084961, -6.88129997253418, -2.027400016784668, -2.316200017929077, -3.7834999561309814, -1.8236000537872314, -5.750100135803223, -5.6645002365112305, -5.089200019836426, -3.3196001052856445, -4.877399921417236, -4.413300037384033, -4.298299789428711, -4.506999969482422, -2.9479000568389893, -3.4821999073028564, -4.471799850463867, -3.9100000858306885, -9.783300399780273, -5.102799892425537, -3.8304998874664307, -5.145699977874756, -5.388700008392334, -7.247700214385986, -4.603400230407715, -7.269400119781494, -10.218400001525879, -4.932799816131592, -4.970099925994873, -2.9574999809265137, -3.8080999851226807, -4.717599868774414, -4.44980001449585, -4.712699890136719, -11.006099700927734, -8.345499992370605, -5.986199855804443, -3.675100088119507, -3.1867001056671143, -4.209000110626221, -4.235799789428711, -4.3993000984191895, -4.360499858856201, -5.475500106811523, -5.69890022277832, -5.4303998947143555, -5.4095001220703125, -5.481500148773193, -4.9918999671936035, -5.593599796295166, -4.222599983215332, -4.057600021362305, -3.693700075149536, -1.4591000080108643, -3.859499931335449, -4.179200172424316, -6.809100151062012, -5.141499996185303, -1.2984999418258667, -3.8970000743865967, -6.661399841308594, -6.640500068664551, -3.4869000911712646, -4.73360013961792, -6.238999843597412, -5.082799911499023, -6.411900043487549, -9.78380012512207, -4.018700122833252, -6.361800193786621, -6.409900188446045, -4.375, -5.531499862670898, -6.483500003814697, -4.725299835205078, -6.814799785614014, -5.620699882507324, -4.16349983215332, -4.677199840545654, -3.898099899291992, -4.027100086212158, -6.819900035858154, -5.32289981842041, -11.005000114440918, -6.0218000411987305, -8.739999771118164, -5.294899940490723, -6.329699993133545, -7.945499897003174, -5.8383002281188965, -3.242000102996826, -5.754000186920166, -5.528200149536133, -3.9072000980377197, -4.518899917602539, -4.423900127410889, -4.749000072479248, -4.81790018081665, -4.960299968719482, -4.703800201416016, -5.3196001052856445, -5.043900012969971, -5.4039998054504395, -5.651800155639648, -6.00570011138916, -5.961100101470947, -5.046899795532227, -1.7793999910354614, -5.8180999755859375, -2.4367001056671143, -4.506999969482422, -5.411300182342529, -5.056700229644775, -6.23390007019043, -2.0420000553131104, -4.631100177764893, -3.210599899291992, -5.279900074005127, -2.7046000957489014, -4.873799800872803, -4.497200012207031, -3.503700017929077, -4.460999965667725, -4.206500053405762, -5.906400203704834, -3.9296998977661133, -4.419899940490723, -3.1061999797821045, -10.119400024414062, -5.792200088500977, -10.119500160217285, -10.119400024414062, -10.116800308227539, -7.192699909210205, -6.76669979095459, -10.119400024414062, -6.559199810028076, -4.993199825286865, -3.73580002784729, -3.7846999168395996, -5.901000022888184, -10.119400024414062, -5.025599956512451, -4.612199783325195, -4.467299938201904, -5.181399822235107, -3.2743000984191895, -3.5362000465393066, -4.236100196838379, -5.617199897766113, -4.763400077819824, -5.382299900054932, -4.25540018081665, -4.670300006866455, -4.250500202178955, -4.779900074005127, -5.127299785614014, -5.313799858093262, -5.603499889373779, -5.611800193786621, -4.5208001136779785, -4.729000091552734, -6.795300006866455, -2.9888999462127686, -5.946800231933594, -4.872000217437744, -5.174300193786621, -3.2636001110076904, -3.8350000381469727, -3.9242000579833984, -3.3266000747680664, -3.818000078201294, -5.687300205230713, -3.9972000122070312, -1.7496000528335571, -4.012599945068359, -3.224900007247925, -3.0524001121520996, -3.914400100708008, -5.4791998863220215, -4.761600017547607, -2.4223999977111816, -5.451499938964844, -5.555099964141846, -5.030900001525879, -4.759699821472168, -4.428299903869629, -3.8849000930786133, -10.311200141906738, -5.9039998054504395, -5.798600196838379, -6.493899822235107, -4.516900062561035, -2.5120999813079834, -6.5157999992370605, -6.353099822998047, -5.612299919128418, -4.229499816894531, -7.317500114440918, -6.04610013961792, -3.7267000675201416, -4.830100059509277, -4.541800022125244, -4.651500225067139, -4.275300025939941, -4.901500225067139, -4.667099952697754, -5.027699947357178, -5.261199951171875, -5.151899814605713, -5.540299892425537, -5.5366997718811035, -5.553800106048584], \"loglift\": [40.0, 39.0, 38.0, 37.0, 36.0, 35.0, 34.0, 33.0, 32.0, 31.0, 30.0, 29.0, 28.0, 27.0, 26.0, 25.0, 24.0, 23.0, 22.0, 21.0, 20.0, 19.0, 18.0, 17.0, 16.0, 15.0, 14.0, 13.0, 12.0, 11.0, 10.0, 9.0, 8.0, 7.0, 6.0, 5.0, 4.0, 3.0, 2.0, 1.0, 1.6461, 1.6271, 1.5435, 1.5119, 1.4787, 1.4186, 1.4179, 1.4034, 1.3855, 1.3624, 1.23, 1.1179, 1.0047, 0.836, 0.8115, 0.781, 0.7477, 0.7466, 0.722, 0.7091, 0.6443, 0.6195, 0.541, 0.5372, 0.4961, 0.4743, 0.4649, 0.3644, 0.3333, 0.2932, 0.2906, 0.2294, 0.2145, 0.1583, 0.0435, 0.023, 0.0088, -0.0577, -0.0893, -0.1185, -0.2236, -0.2617, -0.3232, -0.4211, -0.4296, -1.0751, -0.7815, -1.1269, -0.966, -1.2801, -1.5598, -1.6121, 1.8543, 1.8422, 1.7924, 1.7867, 1.7708, 1.7518, 1.74, 1.733, 1.701, 1.6798, 1.6319, 1.582, 1.5611, 1.4515, 1.3022, 1.2433, 1.2429, 1.2342, 1.2017, 1.1602, 0.9919, 0.9787, 0.909, 0.7095, 0.6104, 0.5831, 0.5542, 0.5475, 0.3868, 0.3622, 0.3204, 0.1383, 0.1334, -0.019, -0.1537, -0.2048, -0.261, -0.4014, -0.4043, -0.4745, -0.5189, -0.5888, -0.6626, -0.6184, -0.84, -1.0667, -1.6725, -1.154, -1.5022, -0.9151, -2.6955, -1.5548, 1.9653, 1.9621, 1.9352, 1.9338, 1.8795, 1.8727, 1.8428, 1.791, 1.7906, 1.769, 1.7498, 1.744, 1.7126, 1.657, 1.6466, 1.6313, 1.6312, 1.5892, 1.5651, 1.4575, 1.2893, 1.1998, 1.1763, 1.0753, 1.0391, 0.9698, 0.9152, 0.9099, 0.8875, 0.7933, 0.731, 0.67, 0.6549, 0.6456, 0.6044, 0.5955, 0.5521, 0.4849, 0.3203, 0.3169, -0.0393, -0.292, -0.3245, -0.3234, -0.3126, -0.8969, -1.3467, -1.5933, -0.1764, -1.1165, -1.7355, -1.7525, -0.3753, -1.5397, 2.0088, 1.983, 1.9513, 1.9511, 1.9458, 1.8709, 1.8591, 1.8339, 1.8309, 1.8157, 1.7809, 1.7743, 1.7362, 1.7218, 1.6553, 1.5526, 1.5291, 1.3849, 1.3788, 1.3719, 1.2742, 1.2336, 1.1, 1.0769, 1.0483, 1.016, 0.7413, 0.6665, 0.5434, 0.4664, 0.4182, 0.3452, 0.2951, 0.228, 0.0403, -0.1117, -0.1123, -0.1203, -0.1579, -0.1901, -0.3852, -0.4262, -0.6125, -0.8601, -0.9225, -1.3247, -1.0588, -1.2959, -0.9451, -0.5434, -2.0899, -1.8971, 2.189, 2.1279, 2.0806, 2.0453, 1.9677, 1.9367, 1.908, 1.8157, 1.3007, 1.1462, 1.1352, 1.1109, 0.9549, 0.8677, 0.8541, 0.8517, 0.8478, 0.8079, 0.7869, 0.7439, 0.6609, 0.5473, 0.4587, 0.4378, 0.3776, 0.3425, 0.3297, 0.2546, 0.1315, 0.1038, 0.1032, 0.1007, 0.0627, 0.0274, -0.0876, -0.1753, -0.1965, -0.2101, -0.258, -0.2811, -0.3246, -0.435, -0.5711, -0.5881, -0.3923, -0.3035, -0.4385, -0.49, -0.4571, -2.0644, -1.5287, 2.1721, 2.0751, 2.0458, 1.9579, 1.9575, 1.821, 1.7429, 1.7181, 1.629, 1.576, 1.4876, 1.4429, 1.4326, 1.4262, 1.094, 0.9211, 0.9004, 0.7847, 0.7325, 0.7281, 0.4622, 0.4543, 0.4036, 0.3863, 0.2666, 0.259, 0.2058, 0.1666, -0.0061, -0.0137, -0.0878, -0.1274, -0.1372, -0.1742, -0.2215, -0.2623, -0.2705, -0.3089, -0.3202, -0.3207, -0.3364, -0.4101, -0.4663, -0.8465, -0.7465, -0.9008, -0.8403, -0.9265, -0.8954, -1.1289, -0.7416, -1.3124, -1.5757, -2.4454, -0.8074, -1.6772, 2.2339, 2.1204, 2.1131, 2.0646, 2.0569, 2.0044, 1.8678, 1.8658, 1.7577, 1.7166, 1.7047, 1.6853, 1.6732, 1.3616, 1.3351, 1.3256, 1.3027, 1.1618, 0.8596, 0.8215, 0.8041, 0.7884, 0.7114, 0.6942, 0.4719, 0.4491, 0.4104, 0.3857, 0.3543, 0.3536, 0.3073, 0.1925, 0.1729, 0.1546, 0.1029, 0.0858, -0.0337, -0.0342, -0.1373, -0.198, -0.3687, -0.4755, -0.3447, -0.2561, -0.5366, -0.4628, -0.8383, -0.8421, -1.323, -0.8955, -1.3265, -1.0298, -1.8311, -0.9867, 2.4012, 2.394, 2.2621, 2.2093, 2.207, 2.2018, 2.162, 2.1318, 2.1002, 1.9813, 1.9531, 1.9146, 1.9118, 1.8293, 1.7735, 1.7635, 1.7585, 1.7279, 1.69, 1.6107, 1.5861, 1.469, 1.3145, 1.2403, 0.9574, 0.6014, 0.5635, 0.5402, 0.5195, 0.4952, 0.4369, 0.4305, 0.3984, 0.3935, 0.3603, 0.3058, 0.1672, 0.1006, 0.0982, 0.0866, 0.0458, -0.2521, -0.6025, -0.7427, -1.069, -0.8288, -1.7396, -1.133, -0.5901, -1.577, -0.3546, -1.7359, -1.654]}, \"token.table\": {\"Topic\": [1, 2, 3, 4, 5, 6, 7, 8, 4, 6, 8, 2, 6, 1, 2, 3, 5, 6, 8, 4, 5, 6, 7, 1, 4, 6, 7, 1, 3, 8, 1, 1, 3, 4, 6, 1, 3, 5, 6, 7, 1, 2, 4, 5, 7, 1, 2, 3, 4, 5, 6, 7, 8, 1, 3, 6, 7, 8, 1, 2, 3, 4, 5, 6, 7, 8, 1, 2, 3, 4, 5, 6, 7, 8, 1, 2, 3, 4, 6, 7, 8, 1, 2, 3, 4, 5, 6, 7, 8, 1, 2, 3, 4, 5, 6, 7, 8, 1, 4, 6, 8, 1, 2, 3, 4, 5, 6, 7, 8, 7, 8, 2, 3, 5, 6, 8, 1, 2, 3, 4, 5, 6, 7, 8, 5, 7, 4, 1, 2, 3, 4, 5, 6, 7, 8, 4, 1, 5, 7, 1, 6, 1, 2, 3, 4, 6, 7, 8, 2, 3, 4, 5, 6, 8, 1, 2, 3, 4, 5, 6, 7, 8, 1, 2, 3, 4, 6, 7, 8, 1, 2, 5, 6, 7, 8, 1, 2, 3, 4, 5, 6, 7, 8, 1, 4, 5, 6, 7, 8, 3, 7, 1, 2, 3, 4, 5, 6, 7, 8, 1, 4, 4, 7, 1, 2, 3, 4, 5, 6, 7, 8, 1, 2, 3, 4, 5, 6, 7, 8, 1, 2, 3, 5, 6, 7, 8, 2, 3, 4, 5, 6, 8, 1, 2, 3, 4, 5, 6, 7, 8, 1, 2, 3, 4, 5, 7, 8, 1, 2, 3, 4, 5, 6, 7, 8, 1, 2, 3, 4, 5, 6, 7, 8, 1, 2, 3, 5, 6, 7, 8, 1, 2, 5, 7, 8, 1, 2, 3, 4, 5, 6, 7, 8, 1, 2, 3, 4, 5, 6, 7, 8, 1, 2, 3, 4, 5, 6, 7, 8, 1, 2, 3, 6, 1, 2, 3, 4, 5, 6, 7, 8, 1, 2, 3, 4, 5, 6, 7, 8, 1, 2, 3, 4, 5, 6, 7, 8, 5, 6, 8, 2, 3, 4, 5, 6, 7, 8, 1, 2, 3, 4, 5, 6, 7, 4, 5, 7, 1, 2, 3, 7, 1, 2, 3, 4, 5, 6, 7, 8, 1, 2, 3, 4, 6, 7, 8, 1, 2, 3, 4, 5, 6, 7, 8, 1, 3, 4, 5, 6, 8, 1, 2, 3, 4, 5, 6, 7, 8, 1, 2, 4, 5, 6, 7, 8, 4, 8, 1, 2, 3, 4, 5, 6, 7, 2, 6, 7, 2, 3, 4, 5, 6, 7, 8, 1, 2, 3, 4, 7, 8, 1, 2, 3, 4, 5, 6, 7, 8, 1, 3, 7, 1, 2, 3, 4, 5, 6, 7, 8, 2, 3, 4, 7, 2, 3, 5, 7, 1, 2, 3, 4, 5, 6, 7, 8, 1, 2, 3, 4, 5, 6, 7, 8, 1, 3, 5, 6, 7, 1, 2, 3, 4, 5, 6, 7, 8, 1, 2, 3, 4, 5, 6, 7, 8, 1, 2, 6, 1, 5, 6, 7, 8, 1, 2, 3, 4, 5, 6, 7, 8, 3, 3, 6, 7, 2, 3, 4, 5, 6, 7, 8, 1, 3, 5, 1, 2, 3, 4, 5, 6, 7, 8, 1, 2, 3, 4, 5, 6, 7, 8, 1, 2, 3, 4, 5, 6, 7, 8, 1, 2, 3, 4, 5, 6, 7, 8, 1, 2, 3, 4, 5, 6, 7, 8, 3, 1, 2, 3, 4, 5, 6, 7, 8, 1, 2, 3, 5, 7, 8, 1, 2, 3, 4, 5, 6, 8, 2, 3, 6, 7, 1, 2, 3, 4, 5, 6, 7, 8, 1, 2, 3, 4, 5, 6, 7, 8, 1, 2, 3, 4, 5, 6, 7, 8, 1, 2, 3, 4, 5, 6, 7, 8, 1, 2, 3, 4, 5, 6, 7, 8, 1, 2, 3, 4, 5, 6, 7, 8, 1, 2, 3, 4, 5, 6, 7, 8, 2, 3, 8, 4, 1, 2, 4, 5, 6, 7, 8, 1, 2, 7, 1, 3, 4, 5, 6, 7, 8, 8, 8, 1, 2, 3, 4, 5, 6, 7, 8, 4, 6, 1, 2, 3, 4, 5, 6, 7, 8, 3, 4, 5, 6, 7, 8, 5, 1, 2, 3, 4, 5, 6, 7, 8, 2, 4, 8, 1, 3, 4, 6, 7, 1, 2, 3, 4, 6, 7, 1, 2, 3, 4, 6, 1, 2, 3, 5, 6, 2, 1, 2, 5, 6, 7, 1, 2, 3, 7, 1, 2, 4, 5, 6, 7, 8, 2, 3, 1, 2, 3, 4, 5, 6, 7, 8, 1, 2, 3, 4, 5, 6, 7, 8, 1, 2, 3, 4, 5, 6, 7, 8, 1, 2, 3, 4, 5, 6, 7, 8, 2, 1, 2, 3, 4, 5, 6, 7, 8, 2, 3, 4, 5, 7, 8, 1, 3, 1, 2, 3, 6, 8, 2, 3, 4, 5, 6, 7, 8, 1, 2, 3, 4, 5, 6, 7, 8, 1, 5, 7, 8, 1, 2, 3, 4, 6, 7, 8, 1, 2, 3, 4, 6, 7, 8, 1, 4, 5, 6, 8, 1, 2, 3, 4, 7, 8, 1, 2, 3, 4, 5, 6, 7, 8, 2, 4, 5, 1, 2, 3, 4, 5, 6, 7, 8, 1, 2, 3, 4, 6, 8, 2], \"Freq\": [0.026277393845700863, 0.0035832809789592087, 0.011944269929864028, 0.85998743495021, 0.02149968587375525, 0.01672197790180964, 0.05852692265633374, 0.002388853985972806, 0.3821973988853381, 0.5982220156466161, 0.016617278212406005, 0.508521860480745, 0.45201943153844, 0.533009044784522, 0.010056774429896644, 0.34193033061648587, 0.040227097719586574, 0.040227097719586574, 0.030170323289689927, 0.9251353910141377, 0.005000731843319663, 0.0550080502765163, 0.005000731843319663, 0.23520163922093784, 0.4704032784418757, 0.26133515468993096, 0.026133515468993094, 0.1594642605101904, 0.7574552374234043, 0.0398660651275476, 0.6164193564371697, 0.10986209803464309, 0.36620699344881025, 0.43944839213857234, 0.036620699344881026, 0.02564071604114781, 0.8974250614401733, 0.02564071604114781, 0.02564071604114781, 0.02564071604114781, 0.7195424898215227, 0.03346709254983826, 0.06693418509967652, 0.05020063882475739, 0.13386837019935305, 0.33066657566707447, 0.22554136374979647, 0.030581879830480878, 0.11659341685370835, 0.2370095686862268, 0.005734102468215164, 0.026759144851670767, 0.026759144851670767, 0.689940519548125, 0.05048345264986281, 0.1682781754995427, 0.05048345264986281, 0.033655635099908536, 0.004252023311943123, 0.05261878848529614, 0.056339308883246376, 0.0031890174839573422, 0.08344595749688379, 0.7536711320419185, 0.04305173603342412, 0.0031890174839573422, 0.11369285530453478, 0.01205833313835975, 0.0008613095098828393, 0.005167857059297036, 0.009474404608711231, 0.0077517855889455535, 0.8337476055665884, 0.017226190197656786, 0.07419202300871611, 0.01236533716811935, 0.01236533716811935, 0.01236533716811935, 0.01236533716811935, 0.7790162415915192, 0.08655736017683546, 0.012190608250093311, 0.2194309485016796, 0.6755628738593377, 0.004063536083364437, 0.023365332479345514, 0.0436830128961677, 0.0030476520625233277, 0.018285912375139966, 0.050391657063694584, 0.010608769908146229, 0.07956577431109671, 0.6922222365065414, 0.06895700440295048, 0.08221796678813327, 0.007956577431109672, 0.0053043849540731144, 0.041175079813133765, 0.020587539906566883, 0.14411277934596817, 0.8029140563561084, 0.055978925307107505, 0.008481655349561744, 0.6590246206609475, 0.04580093888763341, 0.07803122921596803, 0.10517252633456561, 0.04071194567789636, 0.00593715874469322, 0.5577646296550762, 0.43824363758613133, 0.534325936440164, 0.3374690124885247, 0.014061208853688527, 0.0984284619758197, 0.028122417707377053, 0.5929958958760259, 0.0083413744944198, 0.012891215127739693, 0.16606918311617605, 0.059906235005378575, 0.05080655373873879, 0.015924442216619622, 0.09327173298305778, 0.9111807545846317, 0.05694879716153948, 0.95436458469341, 0.01558452144981969, 0.40519755769531196, 0.01558452144981969, 0.12467617159855753, 0.04675356434945907, 0.04675356434945907, 0.04675356434945907, 0.3116904289963938, 0.9418037211088394, 0.22972852304445676, 0.05743213076111419, 0.6317534383722561, 0.9209183729456829, 0.07083987484197561, 0.0031163261487975563, 0.6513121650986893, 0.052977544529558454, 0.01558163074398778, 0.09348978446392668, 0.1215367198031047, 0.06232652297595112, 0.8729025678116412, 0.07147825780332706, 0.60756519132828, 0.14295651560665412, 0.07147825780332706, 0.03573912890166353, 0.07918443160301715, 0.08196283271189495, 0.10002243991960061, 0.004167601663316692, 0.18754207484925114, 0.0027784011088777946, 0.5334530129045366, 0.012502804989950076, 0.03650402607322352, 0.014601610429289407, 0.0073008052146447035, 0.8505438075061079, 0.06935764953912468, 0.014601610429289407, 0.0036504026073223518, 0.028982561871311374, 0.028982561871311374, 0.05796512374262275, 0.028982561871311374, 0.7535466086540957, 0.08694768561393412, 0.2963993468329756, 0.28142002500378216, 0.02804638980785145, 0.035057987259814315, 0.08158949762284058, 0.07617144504632382, 0.06915984759436096, 0.13194551568693752, 0.7940883127917603, 0.01689549601684596, 0.01689549601684596, 0.01689549601684596, 0.01689549601684596, 0.1351639681347677, 0.05064755515551855, 0.9369797703770932, 0.058962818841518355, 0.028667005845600085, 0.03583375730700011, 0.27787449984428264, 0.013681980062672768, 0.5423927810559561, 0.02671243726521826, 0.015636548643054592, 0.7454750620413726, 0.22364251861241177, 0.8184169713690336, 0.1364028285615056, 0.1650235944545606, 0.01737090467942743, 0.06079816637799601, 0.612324389949817, 0.008685452339713715, 0.07816907105742345, 0.004342726169856858, 0.06079816637799601, 0.034761963850763015, 0.5249056541465215, 0.1025477933597509, 0.010428589155228905, 0.1199287752851324, 0.046059602102260996, 0.11905972618886332, 0.04258340571718469, 0.010388230601156848, 0.20984225814336835, 0.13296935169480767, 0.11427053661272533, 0.012465876721388219, 0.01662116896185096, 0.5007127149757601, 0.006593337504857674, 0.04615336253400372, 0.052746700038861394, 0.006593337504857674, 0.15824010011658418, 0.7252671255343441, 0.3894745955033437, 0.020180030855095527, 0.09484614501894897, 0.010090015427547764, 0.004036006171019105, 0.2219803394060508, 0.22803434866257946, 0.03228804936815284, 0.2784693204561188, 0.41122794997589635, 0.003238015354140916, 0.05504626102039557, 0.01619007677070458, 0.22342305943572321, 0.009714046062422748, 0.06931234446430969, 0.12578906958337682, 0.1155205741071828, 0.22847402434531708, 0.06931234446430969, 0.13862468892861937, 0.09755070702384325, 0.1565945560119589, 0.01716376762027778, 0.5075571281996429, 0.2697163483186508, 0.004903933605793651, 0.15202194177960318, 0.014711800817380953, 0.007355900408690477, 0.02206770122607143, 0.02690175951656729, 0.02690175951656729, 0.1037639295639024, 0.08070527854970187, 0.007686217004733512, 0.003843108502366756, 0.7494061579615173, 0.09792912053396602, 0.026707941963808917, 0.33830059820824626, 0.3917164821358641, 0.1335397098190446, 0.0010239242432622633, 0.09522495462339048, 0.016382787892196212, 0.0010239242432622633, 0.836546106745269, 0.0010239242432622633, 0.009215318189360368, 0.038909121243966, 0.009002693782503913, 0.379613587828915, 0.24007183420010436, 0.0030008979275013043, 0.3361005678801461, 0.004501346891251957, 0.012003591710005217, 0.016504938601257173, 0.04805883511776254, 0.08473531454973922, 0.007588237123857243, 0.016441180435024027, 0.7740001866334388, 0.020235298996952648, 0.035411773244667134, 0.013911768060404945, 0.12786600674060952, 0.25573201348121904, 0.5114640269624381, 0.06393300337030476, 0.030266699835222344, 0.030266699835222344, 0.19673354892894523, 0.1059334494232782, 0.045400049752833516, 0.045400049752833516, 0.24213359868177875, 0.3329336981874458, 0.3631808600179892, 0.0660328836396344, 0.0082541104549543, 0.024762331364862902, 0.07428699409458871, 0.44572196456753227, 0.0082541104549543, 0.0165082209099086, 0.4730075257427539, 0.01456726075657032, 0.2502141259363843, 0.00171379538312592, 0.00685518153250368, 0.00514138614937776, 0.2202227067316807, 0.02827762382157768, 0.9626580313949481, 0.011325388604646448, 0.022650777209292896, 0.01685655480499226, 0.7248318566146672, 0.07585449662246517, 0.00842827740249613, 0.05056966441497678, 0.07585449662246517, 0.05899794181747291, 0.28328254005876563, 0.06110015569894945, 0.005554559608995404, 0.016663678826986213, 0.21107326514182537, 0.05554559608995405, 0.3666009341936967, 0.05540485647294585, 0.4063022808016029, 0.5355802792384766, 0.005949437527034461, 0.2617752511895163, 0.34506737656799874, 0.3807640017302055, 0.005914824837349916, 0.01774447451204975, 0.10646684707229849, 0.005914824837349916, 0.16561509544579767, 0.13012614642169815, 0.005914824837349916, 0.5559935347108921, 0.04237584761558708, 0.014125282538529028, 0.007062641269264514, 0.5296980951948386, 0.2683803682320515, 0.11300226030823222, 0.02118792380779354, 0.009350684302978243, 0.0787015928834002, 0.04519497413106151, 0.019480592297871337, 0.2540269235642423, 0.010129907994893095, 0.579742426784651, 0.0038961184595742676, 0.027813468418906386, 0.02086010131417979, 0.36852845655050964, 0.32680825392215007, 0.02086010131417979, 0.2294611144559777, 0.023963292346456645, 0.0034233274780652353, 0.030809947302587116, 0.017116637390326175, 0.2430562509426317, 0.03423327478065235, 0.02053996486839141, 0.626468928485938, 0.01963656118797672, 0.017454721055979307, 0.38836754349553965, 0.0021818401319974134, 0.16800169016380084, 0.3774583428355526, 0.026182081583968963, 0.12125324844350252, 0.7881461148827664, 0.06303145791860325, 0.005730132538054841, 0.8709801457843358, 0.011460265076109682, 0.005730132538054841, 0.005730132538054841, 0.03438079522832904, 0.9816894024570474, 0.012916965821803255, 0.012916965821803255, 0.10444230200047168, 0.03481410066682389, 0.03481410066682389, 0.13925640266729555, 0.03481410066682389, 0.03481410066682389, 0.5918397113360061, 0.010769154521500072, 0.3123054811235021, 0.04846119534675033, 0.021538309043000144, 0.005384577260750036, 0.603072653204004, 0.0524362063766873, 0.011039201342460484, 0.002759800335615121, 0.7810234949790792, 0.12419101510268045, 0.019318602349305845, 0.002759800335615121, 0.008279401006845363, 0.3776066888163068, 0.4004919426839618, 0.20596728480889465, 0.011013635799958931, 0.17346476384935317, 0.7048726911973716, 0.022027271599917863, 0.005506817899979466, 0.06608181479975359, 0.008260226849969198, 0.011013635799958931, 0.9157997812144648, 0.010406815695618918, 0.05203407847809459, 0.010406815695618918, 0.2693800142670006, 0.033672501783375074, 0.6734500356675015, 0.033672501783375074, 0.1383074941896881, 0.010919012699185902, 0.010191078519240176, 0.07206548381462696, 0.7293900483056183, 0.028389433017883346, 0.008007275979402996, 0.002911736719782907, 0.7152362048308395, 0.03367704103463594, 0.029667869482893565, 0.08980544275902917, 0.06093940758648408, 0.02164952637940882, 0.04329905275881764, 0.0048110058620908485, 0.24133300546393158, 0.12066650273196579, 0.060333251365982894, 0.48266601092786315, 0.060333251365982894, 0.12574094228208624, 0.014145856006734703, 0.003143523557052156, 0.03143523557052156, 0.017289379563786858, 0.003143523557052156, 0.7890244128200912, 0.017289379563786858, 0.35615936059300557, 0.012811487791115309, 0.002562297558223062, 0.11786568767826085, 0.009395091046817893, 0.04185086011764334, 0.07089023244417138, 0.38690693129168235, 0.18055699906265021, 0.09027849953132511, 0.6319494967192757, 0.008033531759693822, 0.008033531759693822, 0.8515543665275451, 0.03213412703877529, 0.09640238111632586, 0.0004305126001656627, 0.8812592925391115, 0.023678193009111448, 0.05252253722021085, 0.0008610252003313254, 0.009040764603478916, 0.001291537800496988, 0.03056639461176205, 0.9760598282119691, 0.05219952181827649, 0.9291514883653215, 0.010439904363655297, 0.061878117786480585, 0.7875396809188439, 0.033751700610807595, 0.07312868465674978, 0.0028126417175672993, 0.033751700610807595, 0.0056252834351345985, 0.06625935578124527, 0.8945013030468111, 0.033129677890622634, 0.010843828458790644, 0.02168765691758129, 0.010843828458790644, 0.0487972280645579, 0.010843828458790644, 0.824130962868089, 0.05964105652334854, 0.016265742688185966, 0.13316836491319403, 0.1498144105273433, 0.004756013032614073, 0.021402058646763325, 0.0023780065163070364, 0.004756013032614073, 0.5493195052669254, 0.13316836491319403, 0.0030685852397929593, 0.029151559778033114, 0.825449429504306, 0.007671463099482398, 0.11200336125244302, 0.006137170479585919, 0.0030685852397929593, 0.013808633579068317, 0.030588504275429047, 0.0014565954416870975, 0.049524245017361315, 0.7516032479105422, 0.00582638176674839, 0.004369786325061293, 0.004369786325061293, 0.15294252137714523, 0.3223669918167203, 0.052533880147909974, 0.011939518215434083, 0.004775807286173633, 0.06686130200643087, 0.44653798125723476, 0.06208549472025724, 0.033430651003215434, 0.9894366566300612, 0.17579642415927704, 0.0710666395537503, 0.12343153185651366, 0.0037403494501973837, 0.2805262087648038, 0.0037403494501973837, 0.3179297032667776, 0.026182446151381687, 0.3452949808123248, 0.06905899616246496, 0.4488834750560222, 0.03452949808123248, 0.03452949808123248, 0.06905899616246496, 0.005858575262118285, 0.017575725786354857, 0.029292876310591427, 0.09373720419389256, 0.029292876310591427, 0.7557562088132588, 0.07030290314541943, 0.028147465717867443, 0.302585256467075, 0.6544285779404181, 0.007036866429466861, 0.810574058513203, 0.048369193097034247, 0.01014192758486202, 0.014042668963655103, 0.07021334481827551, 0.004680889654551702, 0.026525041375792972, 0.015602965515172337, 0.7044525421801792, 0.03024164953803799, 0.0017789205610610583, 0.08716710749199186, 0.09961955141941926, 0.0213470467327327, 0.037357331782282226, 0.01956812617167164, 0.03673628638991297, 0.06630451689886731, 0.09945677534830097, 0.5250600932802195, 0.009856076836318114, 0.09766476137806131, 0.1164809080655777, 0.04838437719647074, 0.007636254354404041, 0.09163505225284849, 0.058544616717097646, 0.20108803133263975, 0.0127270905906734, 0.02799959929948148, 0.08145337978030977, 0.5167198779813401, 0.6766255227384669, 0.01042107515768816, 0.024191781616061798, 0.055827188344758, 0.11984236431341383, 0.04577829444270156, 0.062154269690497234, 0.00483835632321236, 0.012459562940893265, 0.02491912588178653, 0.3903996388146556, 0.012459562940893265, 0.004153187646964421, 0.5149952682235883, 0.012459562940893265, 0.02907231352875095, 0.019586237472389856, 0.07181620406542946, 0.7899782447197241, 0.006528745824129952, 0.05222996659303961, 0.03264372912064976, 0.006528745824129952, 0.006528745824129952, 0.8429449447449805, 0.027191772411128405, 0.12236297585007781, 0.9879544824354164, 0.274811606281955, 0.048277714617100204, 0.1782561770477546, 0.25252958415098564, 0.003713670355161554, 0.07798707745839263, 0.16340149562710837, 0.04852847660334684, 0.09705695320669368, 0.8249841022568962, 0.058520907448736996, 0.005573419757022571, 0.7858521857401826, 0.11982852477598528, 0.005573419757022571, 0.016720259271067715, 0.008360129635533857, 0.9731592511074785, 0.9905566831819846, 0.007682322599322709, 0.1755115239999111, 0.22396925116486974, 0.016546540983156603, 0.0029547394612779647, 0.04313919613465829, 0.005909478922555929, 0.5247617283229665, 0.8381133793103579, 0.08381133793103579, 0.053181695783656016, 0.005318169578365602, 0.05849986536202162, 0.09040888283221524, 0.7498619105495499, 0.005318169578365602, 0.026590847891828008, 0.010636339156731204, 0.1241187233926909, 0.01773124619895584, 0.053193738596867525, 0.01773124619895584, 0.6560561093613662, 0.14184996959164672, 0.816095166474776, 0.030543740033330328, 0.061087480066660656, 0.5956029306499414, 0.18326244019998197, 0.015271870016665164, 0.061087480066660656, 0.030543740033330328, 0.015271870016665164, 0.9682306047455396, 0.021757991117877296, 0.8979645706659368, 0.02158474255707941, 0.7122965043836206, 0.04316948511415882, 0.06475422767123823, 0.1510931978995559, 0.08003766415143213, 0.02667922138381071, 0.45354676352478207, 0.05335844276762142, 0.3201506566057285, 0.05335844276762142, 0.12140745211973612, 0.044148164407176775, 0.07725928771255935, 0.739481753820211, 0.011037041101794194, 0.06464875028056483, 0.014366388951236628, 0.8260673646961062, 0.007183194475618314, 0.07901513923180145, 0.9064358858843654, 0.08393776143036653, 0.7218647483011522, 0.016787552286073308, 0.15108797057465975, 0.016787552286073308, 0.02189691168379785, 0.7444949972491269, 0.1751752934703828, 0.0437938233675957, 0.011523742326950335, 0.8181857052134738, 0.040333098144326174, 0.0057618711634751674, 0.08642806745212751, 0.011523742326950335, 0.03457122698085101, 0.04066406787502959, 0.9556055950631953, 0.1799523252893212, 0.1293407338016996, 0.011247020330582575, 0.039364571157039015, 0.0899761626446606, 0.028117550826456436, 0.005623510165291288, 0.5173629352067984, 0.11200657963834529, 0.03563845715765532, 0.10012709391912684, 0.5210003022571515, 0.011879485719218439, 0.05091208165379331, 0.09673295514220728, 0.06957984492685086, 0.0662220297721483, 0.03178657429063119, 0.28607916861568067, 0.05165318322227568, 0.2529681537296065, 0.12582185656708178, 0.08741307929923577, 0.0980086040627795, 0.2963687488308529, 0.006110695852182535, 0.262759921643849, 0.07638369815228169, 0.25664922579166644, 0.027498131334821405, 0.06110695852182534, 0.009166043778273802, 0.47157316057550536, 0.40047035797928165, 0.0037253056556212248, 0.026077139589348573, 0.3967450523236604, 0.0074506113112424496, 0.10617121118520491, 0.011175916966863673, 0.050291626350886534, 0.07578510201120053, 0.25103815041210176, 0.009473137751400067, 0.17051647952520121, 0.009473137751400067, 0.4831300253214034, 0.879506395454766, 0.1043482164098875, 0.04194848924141947, 0.5663046047591629, 0.18876820158638763, 0.05243561155177434, 0.14681971234496816, 0.002545581732241113, 0.005091163464482226, 0.9316829140002474, 0.030546980786893354, 0.020364653857928905, 0.0076367451967233385, 0.002545581732241113, 0.0024897687336139286, 0.8707966145814715, 0.016183496768490534, 0.03610164663740196, 0.010581517117859195, 0.03423432008719152, 0.011203959301262677, 0.018673265502104464, 0.08030742472313697, 0.08030742472313697, 0.02676914157437899, 0.7763051056569907, 0.028632099823524243, 0.00954403327450808, 0.03817613309803232, 0.8112428283331868, 0.062036216284302524, 0.042948149735286364, 0.00477201663725404, 0.023106592248185103, 0.005776648062046276, 0.9543022598500447, 0.0023106592248185102, 0.010397966511683296, 0.0011553296124092551, 0.003465988837227765, 0.04184557907182692, 0.2510734744309615, 0.02092278953591346, 0.23015068489504806, 0.43937858025418264, 0.04514602650532747, 0.0338595198789956, 0.8069852237827286, 0.005643253313165934, 0.005643253313165934, 0.10722181295015275, 0.047334543363467645, 0.059957088260392345, 0.006311272448462352, 0.009466908672693529, 0.009466908672693529, 0.047334543363467645, 0.009466908672693529, 0.8109985096274123, 0.916017501854908, 0.016963287071387185, 0.05937150474985515, 0.21534755207569056, 0.004969558894054397, 0.704020843324373, 0.01987823557621759, 0.03313039262702932, 0.0066260785254058634, 0.01159563741946026, 0.004969558894054397, 0.2432086276976059, 0.0320011352233692, 0.00640022704467384, 0.0640022704467384, 0.00640022704467384, 0.6464229315120578, 0.7716919603569384], \"Term\": [\"7-Eleven\", \"7-Eleven\", \"7-Eleven\", \"7-Eleven\", \"7-Eleven\", \"7-Eleven\", \"7-Eleven\", \"7-Eleven\", \"bigc\", \"bigc\", \"bigc\", \"dha\", \"dha\", \"fat\", \"fat\", \"fat\", \"fat\", \"fat\", \"fat\", \"lotus\", \"lotus\", \"lotus\", \"lotus\", \"makro\", \"makro\", \"makro\", \"makro\", \"protein\", \"protein\", \"protein\", \"shelf life\", \"tops\", \"tops\", \"tops\", \"tops\", \"whey\", \"whey\", \"whey\", \"whey\", \"whey\", \"\\u0e01\\u0e25\\u0e21\\u0e01\\u0e25\\u0e48\\u0e2d\\u0e21\", \"\\u0e01\\u0e25\\u0e21\\u0e01\\u0e25\\u0e48\\u0e2d\\u0e21\", \"\\u0e01\\u0e25\\u0e21\\u0e01\\u0e25\\u0e48\\u0e2d\\u0e21\", \"\\u0e01\\u0e25\\u0e21\\u0e01\\u0e25\\u0e48\\u0e2d\\u0e21\", \"\\u0e01\\u0e25\\u0e21\\u0e01\\u0e25\\u0e48\\u0e2d\\u0e21\", \"\\u0e01\\u0e25\\u0e34\\u0e48\\u0e19\", \"\\u0e01\\u0e25\\u0e34\\u0e48\\u0e19\", \"\\u0e01\\u0e25\\u0e34\\u0e48\\u0e19\", \"\\u0e01\\u0e25\\u0e34\\u0e48\\u0e19\", \"\\u0e01\\u0e25\\u0e34\\u0e48\\u0e19\", \"\\u0e01\\u0e25\\u0e34\\u0e48\\u0e19\", \"\\u0e01\\u0e25\\u0e34\\u0e48\\u0e19\", \"\\u0e01\\u0e25\\u0e34\\u0e48\\u0e19\", \"\\u0e01\\u0e25\\u0e34\\u0e48\\u0e19\\u0e2b\\u0e2d\\u0e21\", \"\\u0e01\\u0e25\\u0e34\\u0e48\\u0e19\\u0e2b\\u0e2d\\u0e21\", \"\\u0e01\\u0e25\\u0e34\\u0e48\\u0e19\\u0e2b\\u0e2d\\u0e21\", \"\\u0e01\\u0e25\\u0e34\\u0e48\\u0e19\\u0e2b\\u0e2d\\u0e21\", \"\\u0e01\\u0e25\\u0e34\\u0e48\\u0e19\\u0e2b\\u0e2d\\u0e21\", \"\\u0e01\\u0e25\\u0e48\\u0e2d\\u0e07\", \"\\u0e01\\u0e25\\u0e48\\u0e2d\\u0e07\", \"\\u0e01\\u0e25\\u0e48\\u0e2d\\u0e07\", \"\\u0e01\\u0e25\\u0e48\\u0e2d\\u0e07\", \"\\u0e01\\u0e25\\u0e48\\u0e2d\\u0e07\", \"\\u0e01\\u0e25\\u0e48\\u0e2d\\u0e07\", \"\\u0e01\\u0e25\\u0e48\\u0e2d\\u0e07\", \"\\u0e01\\u0e25\\u0e48\\u0e2d\\u0e07\", \"\\u0e01\\u0e32\\u0e41\\u0e1f\", \"\\u0e01\\u0e32\\u0e41\\u0e1f\", \"\\u0e01\\u0e32\\u0e41\\u0e1f\", \"\\u0e01\\u0e32\\u0e41\\u0e1f\", \"\\u0e01\\u0e32\\u0e41\\u0e1f\", \"\\u0e01\\u0e32\\u0e41\\u0e1f\", \"\\u0e01\\u0e32\\u0e41\\u0e1f\", \"\\u0e01\\u0e32\\u0e41\\u0e1f\", \"\\u0e01\\u0e32\\u0e41\\u0e1f\\u0e2a\\u0e14\", \"\\u0e01\\u0e32\\u0e41\\u0e1f\\u0e2a\\u0e14\", \"\\u0e01\\u0e32\\u0e41\\u0e1f\\u0e2a\\u0e14\", \"\\u0e01\\u0e32\\u0e41\\u0e1f\\u0e2a\\u0e14\", \"\\u0e01\\u0e32\\u0e41\\u0e1f\\u0e2a\\u0e14\", \"\\u0e01\\u0e32\\u0e41\\u0e1f\\u0e2a\\u0e14\", \"\\u0e01\\u0e32\\u0e41\\u0e1f\\u0e2a\\u0e14\", \"\\u0e01\\u0e34\\u0e19\\u0e19\\u0e21\", \"\\u0e01\\u0e34\\u0e19\\u0e19\\u0e21\", \"\\u0e01\\u0e34\\u0e19\\u0e19\\u0e21\", \"\\u0e01\\u0e34\\u0e19\\u0e19\\u0e21\", \"\\u0e01\\u0e34\\u0e19\\u0e19\\u0e21\", \"\\u0e01\\u0e34\\u0e19\\u0e19\\u0e21\", \"\\u0e01\\u0e34\\u0e19\\u0e19\\u0e21\", \"\\u0e01\\u0e34\\u0e19\\u0e19\\u0e21\", \"\\u0e02\\u0e19\\u0e21\\u0e1b\\u0e31\\u0e07\", \"\\u0e02\\u0e19\\u0e21\\u0e1b\\u0e31\\u0e07\", \"\\u0e02\\u0e19\\u0e21\\u0e1b\\u0e31\\u0e07\", \"\\u0e02\\u0e19\\u0e21\\u0e1b\\u0e31\\u0e07\", \"\\u0e02\\u0e19\\u0e21\\u0e1b\\u0e31\\u0e07\", \"\\u0e02\\u0e19\\u0e21\\u0e1b\\u0e31\\u0e07\", \"\\u0e02\\u0e19\\u0e21\\u0e1b\\u0e31\\u0e07\", \"\\u0e02\\u0e19\\u0e21\\u0e1b\\u0e31\\u0e07\", \"\\u0e02\\u0e19\\u0e2a\\u0e48\\u0e07\", \"\\u0e02\\u0e19\\u0e2a\\u0e48\\u0e07\", \"\\u0e02\\u0e19\\u0e2a\\u0e48\\u0e07\", \"\\u0e02\\u0e19\\u0e2a\\u0e48\\u0e07\", \"\\u0e02\\u0e27\\u0e14\", \"\\u0e02\\u0e27\\u0e14\", \"\\u0e02\\u0e27\\u0e14\", \"\\u0e02\\u0e27\\u0e14\", \"\\u0e02\\u0e27\\u0e14\", \"\\u0e02\\u0e27\\u0e14\", \"\\u0e02\\u0e27\\u0e14\", \"\\u0e02\\u0e27\\u0e14\", \"\\u0e02\\u0e2d\\u0e07\\u0e41\\u0e16\\u0e21\", \"\\u0e02\\u0e2d\\u0e07\\u0e41\\u0e16\\u0e21\", \"\\u0e02\\u0e31\\u0e1a\\u0e16\\u0e48\\u0e32\\u0e22\", \"\\u0e02\\u0e31\\u0e1a\\u0e16\\u0e48\\u0e32\\u0e22\", \"\\u0e02\\u0e31\\u0e1a\\u0e16\\u0e48\\u0e32\\u0e22\", \"\\u0e02\\u0e31\\u0e1a\\u0e16\\u0e48\\u0e32\\u0e22\", \"\\u0e02\\u0e31\\u0e1a\\u0e16\\u0e48\\u0e32\\u0e22\", \"\\u0e02\\u0e32\\u0e22\", \"\\u0e02\\u0e32\\u0e22\", \"\\u0e02\\u0e32\\u0e22\", \"\\u0e02\\u0e32\\u0e22\", \"\\u0e02\\u0e32\\u0e22\", \"\\u0e02\\u0e32\\u0e22\", \"\\u0e02\\u0e32\\u0e22\", \"\\u0e02\\u0e32\\u0e22\", \"\\u0e02\\u0e32\\u0e22\\u0e44\\u0e21\\u0e48\\u0e14\\u0e35\", \"\\u0e02\\u0e32\\u0e22\\u0e44\\u0e21\\u0e48\\u0e14\\u0e35\", \"\\u0e02\\u0e42\\u0e21\\u0e22\", \"\\u0e04\\u0e23\\u0e39\", \"\\u0e04\\u0e23\\u0e39\", \"\\u0e04\\u0e23\\u0e39\", \"\\u0e04\\u0e23\\u0e39\", \"\\u0e04\\u0e23\\u0e39\", \"\\u0e04\\u0e23\\u0e39\", \"\\u0e04\\u0e23\\u0e39\", \"\\u0e04\\u0e23\\u0e39\", \"\\u0e04\\u0e27\\u0e32\\u0e21\\u0e41\\u0e02\\u0e47\\u0e07\\u0e41\\u0e23\\u0e07\", \"\\u0e04\\u0e32\\u0e1b\\u0e39\\u0e0a\\u0e34\\u0e42\\u0e19\\u0e48\", \"\\u0e04\\u0e32\\u0e1b\\u0e39\\u0e0a\\u0e34\\u0e42\\u0e19\\u0e48\", \"\\u0e04\\u0e32\\u0e1b\\u0e39\\u0e0a\\u0e34\\u0e42\\u0e19\\u0e48\", \"\\u0e04\\u0e32\\u0e22\\u0e17\\u0e34\\u0e49\\u0e07\", \"\\u0e04\\u0e32\\u0e22\\u0e17\\u0e34\\u0e49\\u0e07\", \"\\u0e04\\u0e38\\u0e13\\u0e41\\u0e21\\u0e48\", \"\\u0e04\\u0e38\\u0e13\\u0e41\\u0e21\\u0e48\", \"\\u0e04\\u0e38\\u0e13\\u0e41\\u0e21\\u0e48\", \"\\u0e04\\u0e38\\u0e13\\u0e41\\u0e21\\u0e48\", \"\\u0e04\\u0e38\\u0e13\\u0e41\\u0e21\\u0e48\", \"\\u0e04\\u0e38\\u0e13\\u0e41\\u0e21\\u0e48\", \"\\u0e04\\u0e38\\u0e13\\u0e41\\u0e21\\u0e48\", \"\\u0e04\\u0e38\\u0e13\\u0e41\\u0e21\\u0e48\\u0e21\\u0e37\\u0e2d\\u0e43\\u0e2b\\u0e21\\u0e48\", \"\\u0e04\\u0e48\\u0e32\\u0e43\\u0e0a\\u0e49\\u0e08\\u0e48\\u0e32\\u0e22\", \"\\u0e04\\u0e48\\u0e32\\u0e43\\u0e0a\\u0e49\\u0e08\\u0e48\\u0e32\\u0e22\", \"\\u0e04\\u0e48\\u0e32\\u0e43\\u0e0a\\u0e49\\u0e08\\u0e48\\u0e32\\u0e22\", \"\\u0e04\\u0e48\\u0e32\\u0e43\\u0e0a\\u0e49\\u0e08\\u0e48\\u0e32\\u0e22\", \"\\u0e04\\u0e48\\u0e32\\u0e43\\u0e0a\\u0e49\\u0e08\\u0e48\\u0e32\\u0e22\", \"\\u0e08\\u0e37\\u0e14\", \"\\u0e08\\u0e37\\u0e14\", \"\\u0e08\\u0e37\\u0e14\", \"\\u0e08\\u0e37\\u0e14\", \"\\u0e08\\u0e37\\u0e14\", \"\\u0e08\\u0e37\\u0e14\", \"\\u0e08\\u0e37\\u0e14\", \"\\u0e08\\u0e37\\u0e14\", \"\\u0e08\\u0e48\\u0e32\\u0e22\", \"\\u0e08\\u0e48\\u0e32\\u0e22\", \"\\u0e08\\u0e48\\u0e32\\u0e22\", \"\\u0e08\\u0e48\\u0e32\\u0e22\", \"\\u0e08\\u0e48\\u0e32\\u0e22\", \"\\u0e08\\u0e48\\u0e32\\u0e22\", \"\\u0e08\\u0e48\\u0e32\\u0e22\", \"\\u0e0a\\u0e07\\u0e01\\u0e32\\u0e41\\u0e1f\", \"\\u0e0a\\u0e07\\u0e01\\u0e32\\u0e41\\u0e1f\", \"\\u0e0a\\u0e07\\u0e01\\u0e32\\u0e41\\u0e1f\", \"\\u0e0a\\u0e07\\u0e01\\u0e32\\u0e41\\u0e1f\", \"\\u0e0a\\u0e07\\u0e01\\u0e32\\u0e41\\u0e1f\", \"\\u0e0a\\u0e07\\u0e01\\u0e32\\u0e41\\u0e1f\", \"\\u0e0a\\u0e2d\\u0e1a\", \"\\u0e0a\\u0e2d\\u0e1a\", \"\\u0e0a\\u0e2d\\u0e1a\", \"\\u0e0a\\u0e2d\\u0e1a\", \"\\u0e0a\\u0e2d\\u0e1a\", \"\\u0e0a\\u0e2d\\u0e1a\", \"\\u0e0a\\u0e2d\\u0e1a\", \"\\u0e0a\\u0e2d\\u0e1a\", \"\\u0e0a\\u0e32\\u0e19\\u0e21\", \"\\u0e0a\\u0e32\\u0e19\\u0e21\", \"\\u0e0a\\u0e32\\u0e19\\u0e21\", \"\\u0e0a\\u0e32\\u0e19\\u0e21\", \"\\u0e0a\\u0e32\\u0e19\\u0e21\", \"\\u0e0a\\u0e32\\u0e19\\u0e21\", \"\\u0e0a\\u0e35\\u0e49\\u0e41\\u0e08\\u0e07\", \"\\u0e0a\\u0e35\\u0e49\\u0e41\\u0e08\\u0e07\", \"\\u0e0b\\u0e37\\u0e49\\u0e2d\", \"\\u0e0b\\u0e37\\u0e49\\u0e2d\", \"\\u0e0b\\u0e37\\u0e49\\u0e2d\", \"\\u0e0b\\u0e37\\u0e49\\u0e2d\", \"\\u0e0b\\u0e37\\u0e49\\u0e2d\", \"\\u0e0b\\u0e37\\u0e49\\u0e2d\", \"\\u0e0b\\u0e37\\u0e49\\u0e2d\", \"\\u0e0b\\u0e37\\u0e49\\u0e2d\", \"\\u0e0b\\u0e37\\u0e49\\u0e2d\\u0e1b\\u0e23\\u0e30\\u0e08\\u0e33\", \"\\u0e0b\\u0e37\\u0e49\\u0e2d\\u0e1b\\u0e23\\u0e30\\u0e08\\u0e33\", \"\\u0e0b\\u0e37\\u0e49\\u0e2d\\u0e44\\u0e21\\u0e48\\u0e44\\u0e14\\u0e49\", \"\\u0e0b\\u0e37\\u0e49\\u0e2d\\u0e44\\u0e21\\u0e48\\u0e44\\u0e14\\u0e49\", \"\\u0e0d\\u0e35\\u0e48\\u0e1b\\u0e38\\u0e48\\u0e19\", \"\\u0e0d\\u0e35\\u0e48\\u0e1b\\u0e38\\u0e48\\u0e19\", \"\\u0e0d\\u0e35\\u0e48\\u0e1b\\u0e38\\u0e48\\u0e19\", \"\\u0e0d\\u0e35\\u0e48\\u0e1b\\u0e38\\u0e48\\u0e19\", \"\\u0e0d\\u0e35\\u0e48\\u0e1b\\u0e38\\u0e48\\u0e19\", \"\\u0e0d\\u0e35\\u0e48\\u0e1b\\u0e38\\u0e48\\u0e19\", \"\\u0e0d\\u0e35\\u0e48\\u0e1b\\u0e38\\u0e48\\u0e19\", \"\\u0e0d\\u0e35\\u0e48\\u0e1b\\u0e38\\u0e48\\u0e19\", \"\\u0e14\\u0e37\\u0e48\\u0e21\", \"\\u0e14\\u0e37\\u0e48\\u0e21\", \"\\u0e14\\u0e37\\u0e48\\u0e21\", \"\\u0e14\\u0e37\\u0e48\\u0e21\", \"\\u0e14\\u0e37\\u0e48\\u0e21\", \"\\u0e14\\u0e37\\u0e48\\u0e21\", \"\\u0e14\\u0e37\\u0e48\\u0e21\", \"\\u0e14\\u0e37\\u0e48\\u0e21\", \"\\u0e14\\u0e37\\u0e48\\u0e21\\u0e19\\u0e21\", \"\\u0e14\\u0e37\\u0e48\\u0e21\\u0e19\\u0e21\", \"\\u0e14\\u0e37\\u0e48\\u0e21\\u0e19\\u0e21\", \"\\u0e14\\u0e37\\u0e48\\u0e21\\u0e19\\u0e21\", \"\\u0e14\\u0e37\\u0e48\\u0e21\\u0e19\\u0e21\", \"\\u0e14\\u0e37\\u0e48\\u0e21\\u0e19\\u0e21\", \"\\u0e14\\u0e37\\u0e48\\u0e21\\u0e19\\u0e21\", \"\\u0e15\\u0e23\\u0e27\\u0e08\\u0e2a\\u0e2d\\u0e1a\", \"\\u0e15\\u0e23\\u0e27\\u0e08\\u0e2a\\u0e2d\\u0e1a\", \"\\u0e15\\u0e23\\u0e27\\u0e08\\u0e2a\\u0e2d\\u0e1a\", \"\\u0e15\\u0e23\\u0e27\\u0e08\\u0e2a\\u0e2d\\u0e1a\", \"\\u0e15\\u0e23\\u0e27\\u0e08\\u0e2a\\u0e2d\\u0e1a\", \"\\u0e15\\u0e23\\u0e27\\u0e08\\u0e2a\\u0e2d\\u0e1a\", \"\\u0e15\\u0e49\\u0e21\", \"\\u0e15\\u0e49\\u0e21\", \"\\u0e15\\u0e49\\u0e21\", \"\\u0e15\\u0e49\\u0e21\", \"\\u0e15\\u0e49\\u0e21\", \"\\u0e15\\u0e49\\u0e21\", \"\\u0e15\\u0e49\\u0e21\", \"\\u0e15\\u0e49\\u0e21\", \"\\u0e16\\u0e49\\u0e27\\u0e22\", \"\\u0e16\\u0e49\\u0e27\\u0e22\", \"\\u0e16\\u0e49\\u0e27\\u0e22\", \"\\u0e16\\u0e49\\u0e27\\u0e22\", \"\\u0e16\\u0e49\\u0e27\\u0e22\", \"\\u0e16\\u0e49\\u0e27\\u0e22\", \"\\u0e16\\u0e49\\u0e27\\u0e22\", \"\\u0e17\\u0e34\\u0e49\\u0e07\", \"\\u0e17\\u0e34\\u0e49\\u0e07\", \"\\u0e17\\u0e34\\u0e49\\u0e07\", \"\\u0e17\\u0e34\\u0e49\\u0e07\", \"\\u0e17\\u0e34\\u0e49\\u0e07\", \"\\u0e17\\u0e34\\u0e49\\u0e07\", \"\\u0e17\\u0e34\\u0e49\\u0e07\", \"\\u0e17\\u0e34\\u0e49\\u0e07\", \"\\u0e17\\u0e49\\u0e2d\\u0e07\", \"\\u0e17\\u0e49\\u0e2d\\u0e07\", \"\\u0e17\\u0e49\\u0e2d\\u0e07\", \"\\u0e17\\u0e49\\u0e2d\\u0e07\", \"\\u0e17\\u0e49\\u0e2d\\u0e07\", \"\\u0e17\\u0e49\\u0e2d\\u0e07\", \"\\u0e17\\u0e49\\u0e2d\\u0e07\", \"\\u0e17\\u0e49\\u0e2d\\u0e07\", \"\\u0e17\\u0e49\\u0e2d\\u0e07\\u0e40\\u0e2a\\u0e35\\u0e22\", \"\\u0e17\\u0e49\\u0e2d\\u0e07\\u0e40\\u0e2a\\u0e35\\u0e22\", \"\\u0e17\\u0e49\\u0e2d\\u0e07\\u0e40\\u0e2a\\u0e35\\u0e22\", \"\\u0e17\\u0e49\\u0e2d\\u0e07\\u0e40\\u0e2a\\u0e35\\u0e22\", \"\\u0e17\\u0e49\\u0e2d\\u0e07\\u0e40\\u0e2a\\u0e35\\u0e22\", \"\\u0e17\\u0e49\\u0e2d\\u0e07\\u0e40\\u0e2a\\u0e35\\u0e22\", \"\\u0e17\\u0e49\\u0e2d\\u0e07\\u0e40\\u0e2a\\u0e35\\u0e22\", \"\\u0e19\\u0e21\\u0e02\\u0e49\\u0e19\\u0e2b\\u0e27\\u0e32\\u0e19\", \"\\u0e19\\u0e21\\u0e02\\u0e49\\u0e19\\u0e2b\\u0e27\\u0e32\\u0e19\", \"\\u0e19\\u0e21\\u0e02\\u0e49\\u0e19\\u0e2b\\u0e27\\u0e32\\u0e19\", \"\\u0e19\\u0e21\\u0e02\\u0e49\\u0e19\\u0e2b\\u0e27\\u0e32\\u0e19\", \"\\u0e19\\u0e21\\u0e02\\u0e49\\u0e19\\u0e2b\\u0e27\\u0e32\\u0e19\", \"\\u0e19\\u0e21\\u0e1c\\u0e07\", \"\\u0e19\\u0e21\\u0e1c\\u0e07\", \"\\u0e19\\u0e21\\u0e1c\\u0e07\", \"\\u0e19\\u0e21\\u0e1c\\u0e07\", \"\\u0e19\\u0e21\\u0e1c\\u0e07\", \"\\u0e19\\u0e21\\u0e1c\\u0e07\", \"\\u0e19\\u0e21\\u0e1c\\u0e07\", \"\\u0e19\\u0e21\\u0e1c\\u0e07\", \"\\u0e19\\u0e21\\u0e27\\u0e31\\u0e27\", \"\\u0e19\\u0e21\\u0e27\\u0e31\\u0e27\", \"\\u0e19\\u0e21\\u0e27\\u0e31\\u0e27\", \"\\u0e19\\u0e21\\u0e27\\u0e31\\u0e27\", \"\\u0e19\\u0e21\\u0e27\\u0e31\\u0e27\", \"\\u0e19\\u0e21\\u0e27\\u0e31\\u0e27\", \"\\u0e19\\u0e21\\u0e27\\u0e31\\u0e27\", \"\\u0e19\\u0e21\\u0e27\\u0e31\\u0e27\", \"\\u0e19\\u0e21\\u0e2a\\u0e14\", \"\\u0e19\\u0e21\\u0e2a\\u0e14\", \"\\u0e19\\u0e21\\u0e2a\\u0e14\", \"\\u0e19\\u0e21\\u0e2a\\u0e14\", \"\\u0e19\\u0e21\\u0e2a\\u0e14\", \"\\u0e19\\u0e21\\u0e2a\\u0e14\", \"\\u0e19\\u0e21\\u0e2a\\u0e14\", \"\\u0e19\\u0e21\\u0e2a\\u0e14\", \"\\u0e19\\u0e21\\u0e2d\\u0e38\\u0e48\\u0e19\", \"\\u0e19\\u0e21\\u0e2d\\u0e38\\u0e48\\u0e19\", \"\\u0e19\\u0e21\\u0e2d\\u0e38\\u0e48\\u0e19\", \"\\u0e19\\u0e21\\u0e2d\\u0e38\\u0e48\\u0e19\", \"\\u0e19\\u0e34\\u0e22\\u0e21\", \"\\u0e19\\u0e34\\u0e22\\u0e21\", \"\\u0e19\\u0e34\\u0e22\\u0e21\", \"\\u0e19\\u0e34\\u0e22\\u0e21\", \"\\u0e19\\u0e34\\u0e22\\u0e21\", \"\\u0e19\\u0e34\\u0e22\\u0e21\", \"\\u0e19\\u0e34\\u0e22\\u0e21\", \"\\u0e19\\u0e34\\u0e22\\u0e21\", \"\\u0e19\\u0e36\\u0e01\\u0e16\\u0e36\\u0e07\", \"\\u0e19\\u0e36\\u0e01\\u0e16\\u0e36\\u0e07\", \"\\u0e19\\u0e36\\u0e01\\u0e16\\u0e36\\u0e07\", \"\\u0e19\\u0e36\\u0e01\\u0e16\\u0e36\\u0e07\", \"\\u0e19\\u0e36\\u0e01\\u0e16\\u0e36\\u0e07\", \"\\u0e19\\u0e36\\u0e01\\u0e16\\u0e36\\u0e07\", \"\\u0e19\\u0e36\\u0e01\\u0e16\\u0e36\\u0e07\", \"\\u0e19\\u0e36\\u0e01\\u0e16\\u0e36\\u0e07\", \"\\u0e19\\u0e49\\u0e33\\u0e15\\u0e32\\u0e25\", \"\\u0e19\\u0e49\\u0e33\\u0e15\\u0e32\\u0e25\", \"\\u0e19\\u0e49\\u0e33\\u0e15\\u0e32\\u0e25\", \"\\u0e19\\u0e49\\u0e33\\u0e15\\u0e32\\u0e25\", \"\\u0e19\\u0e49\\u0e33\\u0e15\\u0e32\\u0e25\", \"\\u0e19\\u0e49\\u0e33\\u0e15\\u0e32\\u0e25\", \"\\u0e19\\u0e49\\u0e33\\u0e15\\u0e32\\u0e25\", \"\\u0e19\\u0e49\\u0e33\\u0e15\\u0e32\\u0e25\", \"\\u0e19\\u0e49\\u0e33\\u0e19\\u0e21\\u0e42\\u0e04\", \"\\u0e19\\u0e49\\u0e33\\u0e19\\u0e21\\u0e42\\u0e04\", \"\\u0e19\\u0e49\\u0e33\\u0e19\\u0e21\\u0e42\\u0e04\", \"\\u0e19\\u0e49\\u0e33\\u0e1c\\u0e25\\u0e44\\u0e21\\u0e49\", \"\\u0e19\\u0e49\\u0e33\\u0e1c\\u0e25\\u0e44\\u0e21\\u0e49\", \"\\u0e19\\u0e49\\u0e33\\u0e1c\\u0e25\\u0e44\\u0e21\\u0e49\", \"\\u0e19\\u0e49\\u0e33\\u0e1c\\u0e25\\u0e44\\u0e21\\u0e49\", \"\\u0e19\\u0e49\\u0e33\\u0e1c\\u0e25\\u0e44\\u0e21\\u0e49\", \"\\u0e19\\u0e49\\u0e33\\u0e1c\\u0e25\\u0e44\\u0e21\\u0e49\", \"\\u0e19\\u0e49\\u0e33\\u0e1c\\u0e25\\u0e44\\u0e21\\u0e49\", \"\\u0e19\\u0e49\\u0e33\\u0e1c\\u0e36\\u0e49\\u0e07\", \"\\u0e19\\u0e49\\u0e33\\u0e1c\\u0e36\\u0e49\\u0e07\", \"\\u0e19\\u0e49\\u0e33\\u0e1c\\u0e36\\u0e49\\u0e07\", \"\\u0e19\\u0e49\\u0e33\\u0e1c\\u0e36\\u0e49\\u0e07\", \"\\u0e19\\u0e49\\u0e33\\u0e1c\\u0e36\\u0e49\\u0e07\", \"\\u0e19\\u0e49\\u0e33\\u0e1c\\u0e36\\u0e49\\u0e07\", \"\\u0e19\\u0e49\\u0e33\\u0e1c\\u0e36\\u0e49\\u0e07\", \"\\u0e1a\\u0e23\\u0e23\\u0e08\\u0e38\\u0e20\\u0e31\\u0e13\\u0e11\\u0e4c\", \"\\u0e1a\\u0e23\\u0e23\\u0e08\\u0e38\\u0e20\\u0e31\\u0e13\\u0e11\\u0e4c\", \"\\u0e1a\\u0e23\\u0e23\\u0e08\\u0e38\\u0e20\\u0e31\\u0e13\\u0e11\\u0e4c\", \"\\u0e1a\\u0e33\\u0e23\\u0e38\\u0e07\", \"\\u0e1a\\u0e33\\u0e23\\u0e38\\u0e07\", \"\\u0e1a\\u0e33\\u0e23\\u0e38\\u0e07\", \"\\u0e1a\\u0e33\\u0e23\\u0e38\\u0e07\", \"\\u0e1a\\u0e39\\u0e14\", \"\\u0e1a\\u0e39\\u0e14\", \"\\u0e1a\\u0e39\\u0e14\", \"\\u0e1a\\u0e39\\u0e14\", \"\\u0e1a\\u0e39\\u0e14\", \"\\u0e1a\\u0e39\\u0e14\", \"\\u0e1a\\u0e39\\u0e14\", \"\\u0e1a\\u0e39\\u0e14\", \"\\u0e1b\\u0e23\\u0e30\\u0e2b\\u0e22\\u0e31\\u0e14\", \"\\u0e1b\\u0e23\\u0e30\\u0e2b\\u0e22\\u0e31\\u0e14\", \"\\u0e1b\\u0e23\\u0e30\\u0e2b\\u0e22\\u0e31\\u0e14\", \"\\u0e1b\\u0e23\\u0e30\\u0e2b\\u0e22\\u0e31\\u0e14\", \"\\u0e1b\\u0e23\\u0e30\\u0e2b\\u0e22\\u0e31\\u0e14\", \"\\u0e1b\\u0e23\\u0e30\\u0e2b\\u0e22\\u0e31\\u0e14\", \"\\u0e1b\\u0e23\\u0e30\\u0e2b\\u0e22\\u0e31\\u0e14\", \"\\u0e1c\\u0e2a\\u0e21\", \"\\u0e1c\\u0e2a\\u0e21\", \"\\u0e1c\\u0e2a\\u0e21\", \"\\u0e1c\\u0e2a\\u0e21\", \"\\u0e1c\\u0e2a\\u0e21\", \"\\u0e1c\\u0e2a\\u0e21\", \"\\u0e1c\\u0e2a\\u0e21\", \"\\u0e1c\\u0e2a\\u0e21\", \"\\u0e1c\\u0e39\\u0e49\\u0e1a\\u0e23\\u0e34\\u0e42\\u0e20\\u0e04\", \"\\u0e1c\\u0e39\\u0e49\\u0e1a\\u0e23\\u0e34\\u0e42\\u0e20\\u0e04\", \"\\u0e1c\\u0e39\\u0e49\\u0e1a\\u0e23\\u0e34\\u0e42\\u0e20\\u0e04\", \"\\u0e1c\\u0e39\\u0e49\\u0e1a\\u0e23\\u0e34\\u0e42\\u0e20\\u0e04\", \"\\u0e1c\\u0e39\\u0e49\\u0e1a\\u0e23\\u0e34\\u0e42\\u0e20\\u0e04\", \"\\u0e1c\\u0e39\\u0e49\\u0e1a\\u0e23\\u0e34\\u0e42\\u0e20\\u0e04\", \"\\u0e1d\\u0e32\", \"\\u0e1d\\u0e32\", \"\\u0e1d\\u0e32\", \"\\u0e1d\\u0e32\", \"\\u0e1d\\u0e32\", \"\\u0e1d\\u0e32\", \"\\u0e1d\\u0e32\", \"\\u0e1d\\u0e32\", \"\\u0e1e\\u0e19\\u0e31\\u0e01\\u0e07\\u0e32\\u0e19\", \"\\u0e1e\\u0e19\\u0e31\\u0e01\\u0e07\\u0e32\\u0e19\", \"\\u0e1e\\u0e19\\u0e31\\u0e01\\u0e07\\u0e32\\u0e19\", \"\\u0e1e\\u0e19\\u0e31\\u0e01\\u0e07\\u0e32\\u0e19\", \"\\u0e1e\\u0e19\\u0e31\\u0e01\\u0e07\\u0e32\\u0e19\", \"\\u0e1e\\u0e19\\u0e31\\u0e01\\u0e07\\u0e32\\u0e19\", \"\\u0e1e\\u0e19\\u0e31\\u0e01\\u0e07\\u0e32\\u0e19\", \"\\u0e1e\\u0e23\\u0e35\\u0e40\\u0e0b\\u0e47\\u0e19\\u0e40\\u0e15\\u0e2d\\u0e23\\u0e4c\", \"\\u0e1e\\u0e23\\u0e35\\u0e40\\u0e0b\\u0e47\\u0e19\\u0e40\\u0e15\\u0e2d\\u0e23\\u0e4c\", \"\\u0e1e\\u0e25\\u0e31\\u0e07\\u0e07\\u0e32\\u0e19\", \"\\u0e1e\\u0e25\\u0e31\\u0e07\\u0e07\\u0e32\\u0e19\", \"\\u0e1e\\u0e25\\u0e31\\u0e07\\u0e07\\u0e32\\u0e19\", \"\\u0e1e\\u0e25\\u0e31\\u0e07\\u0e07\\u0e32\\u0e19\", \"\\u0e1e\\u0e25\\u0e31\\u0e07\\u0e07\\u0e32\\u0e19\", \"\\u0e1e\\u0e25\\u0e31\\u0e07\\u0e07\\u0e32\\u0e19\", \"\\u0e1e\\u0e25\\u0e31\\u0e07\\u0e07\\u0e32\\u0e19\", \"\\u0e1e\\u0e31\\u0e12\\u0e19\\u0e32\\u0e01\\u0e32\\u0e23\", \"\\u0e1e\\u0e31\\u0e12\\u0e19\\u0e32\\u0e01\\u0e32\\u0e23\", \"\\u0e1e\\u0e31\\u0e12\\u0e19\\u0e32\\u0e01\\u0e32\\u0e23\", \"\\u0e1e\\u0e37\\u0e49\\u0e19\\u0e10\\u0e32\\u0e19\", \"\\u0e1e\\u0e37\\u0e49\\u0e19\\u0e10\\u0e32\\u0e19\", \"\\u0e1e\\u0e37\\u0e49\\u0e19\\u0e10\\u0e32\\u0e19\", \"\\u0e1e\\u0e37\\u0e49\\u0e19\\u0e10\\u0e32\\u0e19\", \"\\u0e1e\\u0e37\\u0e49\\u0e19\\u0e10\\u0e32\\u0e19\", \"\\u0e1e\\u0e37\\u0e49\\u0e19\\u0e10\\u0e32\\u0e19\", \"\\u0e1e\\u0e37\\u0e49\\u0e19\\u0e10\\u0e32\\u0e19\", \"\\u0e1e\\u0e48\\u0e2d\\u0e41\\u0e21\\u0e48\", \"\\u0e1e\\u0e48\\u0e2d\\u0e41\\u0e21\\u0e48\", \"\\u0e1e\\u0e48\\u0e2d\\u0e41\\u0e21\\u0e48\", \"\\u0e1e\\u0e48\\u0e2d\\u0e41\\u0e21\\u0e48\", \"\\u0e1e\\u0e48\\u0e2d\\u0e41\\u0e21\\u0e48\", \"\\u0e1e\\u0e48\\u0e2d\\u0e41\\u0e21\\u0e48\", \"\\u0e1f\\u0e32\\u0e23\\u0e4c\\u0e21\", \"\\u0e1f\\u0e32\\u0e23\\u0e4c\\u0e21\", \"\\u0e1f\\u0e32\\u0e23\\u0e4c\\u0e21\", \"\\u0e1f\\u0e32\\u0e23\\u0e4c\\u0e21\", \"\\u0e1f\\u0e32\\u0e23\\u0e4c\\u0e21\", \"\\u0e1f\\u0e32\\u0e23\\u0e4c\\u0e21\", \"\\u0e1f\\u0e32\\u0e23\\u0e4c\\u0e21\", \"\\u0e1f\\u0e32\\u0e23\\u0e4c\\u0e21\", \"\\u0e21\\u0e31\\u0e19\\u0e14\\u0e35\", \"\\u0e21\\u0e31\\u0e19\\u0e14\\u0e35\", \"\\u0e21\\u0e31\\u0e19\\u0e14\\u0e35\", \"\\u0e21\\u0e35\\u0e1b\\u0e23\\u0e30\\u0e42\\u0e22\\u0e0a\\u0e19\\u0e4c\", \"\\u0e21\\u0e35\\u0e1b\\u0e23\\u0e30\\u0e42\\u0e22\\u0e0a\\u0e19\\u0e4c\", \"\\u0e21\\u0e35\\u0e1b\\u0e23\\u0e30\\u0e42\\u0e22\\u0e0a\\u0e19\\u0e4c\", \"\\u0e21\\u0e35\\u0e1b\\u0e23\\u0e30\\u0e42\\u0e22\\u0e0a\\u0e19\\u0e4c\", \"\\u0e21\\u0e35\\u0e1b\\u0e23\\u0e30\\u0e42\\u0e22\\u0e0a\\u0e19\\u0e4c\", \"\\u0e21\\u0e35\\u0e1b\\u0e23\\u0e30\\u0e42\\u0e22\\u0e0a\\u0e19\\u0e4c\", \"\\u0e21\\u0e35\\u0e1b\\u0e23\\u0e30\\u0e42\\u0e22\\u0e0a\\u0e19\\u0e4c\", \"\\u0e21\\u0e35\\u0e1b\\u0e23\\u0e30\\u0e42\\u0e22\\u0e0a\\u0e19\\u0e4c\", \"\\u0e21\\u0e35\\u0e25\\u0e39\\u0e01\", \"\\u0e21\\u0e35\\u0e25\\u0e39\\u0e01\", \"\\u0e21\\u0e35\\u0e25\\u0e39\\u0e01\", \"\\u0e21\\u0e35\\u0e25\\u0e39\\u0e01\", \"\\u0e22\\u0e39\\u0e40\\u0e2d\\u0e0a\\u0e17\\u0e35\", \"\\u0e22\\u0e39\\u0e40\\u0e2d\\u0e0a\\u0e17\\u0e35\", \"\\u0e22\\u0e39\\u0e40\\u0e2d\\u0e0a\\u0e17\\u0e35\", \"\\u0e22\\u0e39\\u0e40\\u0e2d\\u0e0a\\u0e17\\u0e35\", \"\\u0e23\\u0e2a\", \"\\u0e23\\u0e2a\", \"\\u0e23\\u0e2a\", \"\\u0e23\\u0e2a\", \"\\u0e23\\u0e2a\", \"\\u0e23\\u0e2a\", \"\\u0e23\\u0e2a\", \"\\u0e23\\u0e2a\", \"\\u0e23\\u0e2a\\u0e0a\\u0e32\\u0e15\\u0e34\", \"\\u0e23\\u0e2a\\u0e0a\\u0e32\\u0e15\\u0e34\", \"\\u0e23\\u0e2a\\u0e0a\\u0e32\\u0e15\\u0e34\", \"\\u0e23\\u0e2a\\u0e0a\\u0e32\\u0e15\\u0e34\", \"\\u0e23\\u0e2a\\u0e0a\\u0e32\\u0e15\\u0e34\", \"\\u0e23\\u0e2a\\u0e0a\\u0e32\\u0e15\\u0e34\", \"\\u0e23\\u0e2a\\u0e0a\\u0e32\\u0e15\\u0e34\", \"\\u0e23\\u0e2a\\u0e0a\\u0e32\\u0e15\\u0e34\", \"\\u0e23\\u0e32\\u0e04\\u0e32\\u0e2a\\u0e39\\u0e07\", \"\\u0e23\\u0e32\\u0e04\\u0e32\\u0e2a\\u0e39\\u0e07\", \"\\u0e23\\u0e32\\u0e04\\u0e32\\u0e2a\\u0e39\\u0e07\", \"\\u0e23\\u0e32\\u0e04\\u0e32\\u0e2a\\u0e39\\u0e07\", \"\\u0e23\\u0e32\\u0e04\\u0e32\\u0e2a\\u0e39\\u0e07\", \"\\u0e23\\u0e49\\u0e2d\\u0e19\", \"\\u0e23\\u0e49\\u0e2d\\u0e19\", \"\\u0e23\\u0e49\\u0e2d\\u0e19\", \"\\u0e23\\u0e49\\u0e2d\\u0e19\", \"\\u0e23\\u0e49\\u0e2d\\u0e19\", \"\\u0e23\\u0e49\\u0e2d\\u0e19\", \"\\u0e23\\u0e49\\u0e2d\\u0e19\", \"\\u0e23\\u0e49\\u0e2d\\u0e19\", \"\\u0e23\\u0e49\\u0e32\\u0e19\", \"\\u0e23\\u0e49\\u0e32\\u0e19\", \"\\u0e23\\u0e49\\u0e32\\u0e19\", \"\\u0e23\\u0e49\\u0e32\\u0e19\", \"\\u0e23\\u0e49\\u0e32\\u0e19\", \"\\u0e23\\u0e49\\u0e32\\u0e19\", \"\\u0e23\\u0e49\\u0e32\\u0e19\", \"\\u0e23\\u0e49\\u0e32\\u0e19\", \"\\u0e23\\u0e49\\u0e32\\u0e19\\u0e19\\u0e21\", \"\\u0e23\\u0e49\\u0e32\\u0e19\\u0e19\\u0e21\", \"\\u0e23\\u0e49\\u0e32\\u0e19\\u0e19\\u0e21\", \"\\u0e25\\u0e14\\u0e23\\u0e32\\u0e04\\u0e32\", \"\\u0e25\\u0e14\\u0e23\\u0e32\\u0e04\\u0e32\", \"\\u0e25\\u0e14\\u0e23\\u0e32\\u0e04\\u0e32\", \"\\u0e25\\u0e14\\u0e23\\u0e32\\u0e04\\u0e32\", \"\\u0e25\\u0e14\\u0e23\\u0e32\\u0e04\\u0e32\", \"\\u0e25\\u0e39\\u0e01\", \"\\u0e25\\u0e39\\u0e01\", \"\\u0e25\\u0e39\\u0e01\", \"\\u0e25\\u0e39\\u0e01\", \"\\u0e25\\u0e39\\u0e01\", \"\\u0e25\\u0e39\\u0e01\", \"\\u0e25\\u0e39\\u0e01\", \"\\u0e25\\u0e39\\u0e01\", \"\\u0e25\\u0e39\\u0e01\\u0e2a\\u0e38\\u0e19\\u0e31\\u0e02\", \"\\u0e27\\u0e31\\u0e19\\u0e2b\\u0e21\\u0e14\\u0e2d\\u0e32\\u0e22\\u0e38\", \"\\u0e27\\u0e31\\u0e19\\u0e2b\\u0e21\\u0e14\\u0e2d\\u0e32\\u0e22\\u0e38\", \"\\u0e27\\u0e31\\u0e19\\u0e2b\\u0e21\\u0e14\\u0e2d\\u0e32\\u0e22\\u0e38\", \"\\u0e27\\u0e34\\u0e15\\u0e32\\u0e21\\u0e34\\u0e19\", \"\\u0e27\\u0e34\\u0e15\\u0e32\\u0e21\\u0e34\\u0e19\", \"\\u0e27\\u0e34\\u0e15\\u0e32\\u0e21\\u0e34\\u0e19\", \"\\u0e27\\u0e34\\u0e15\\u0e32\\u0e21\\u0e34\\u0e19\", \"\\u0e27\\u0e34\\u0e15\\u0e32\\u0e21\\u0e34\\u0e19\", \"\\u0e27\\u0e34\\u0e15\\u0e32\\u0e21\\u0e34\\u0e19\", \"\\u0e27\\u0e34\\u0e15\\u0e32\\u0e21\\u0e34\\u0e19\", \"\\u0e27\\u0e34\\u0e1b\\u0e1b\\u0e34\\u0e49\\u0e07\", \"\\u0e27\\u0e34\\u0e1b\\u0e1b\\u0e34\\u0e49\\u0e07\", \"\\u0e27\\u0e34\\u0e1b\\u0e1b\\u0e34\\u0e49\\u0e07\", \"\\u0e27\\u0e34\\u0e48\\u0e07\", \"\\u0e27\\u0e34\\u0e48\\u0e07\", \"\\u0e27\\u0e34\\u0e48\\u0e07\", \"\\u0e27\\u0e34\\u0e48\\u0e07\", \"\\u0e27\\u0e34\\u0e48\\u0e07\", \"\\u0e27\\u0e34\\u0e48\\u0e07\", \"\\u0e27\\u0e34\\u0e48\\u0e07\", \"\\u0e27\\u0e34\\u0e48\\u0e07\", \"\\u0e2a\\u0e31\\u0e48\\u0e07\", \"\\u0e2a\\u0e31\\u0e48\\u0e07\", \"\\u0e2a\\u0e31\\u0e48\\u0e07\", \"\\u0e2a\\u0e31\\u0e48\\u0e07\", \"\\u0e2a\\u0e31\\u0e48\\u0e07\", \"\\u0e2a\\u0e31\\u0e48\\u0e07\", \"\\u0e2a\\u0e31\\u0e48\\u0e07\", \"\\u0e2a\\u0e31\\u0e48\\u0e07\", \"\\u0e2a\\u0e32\\u0e23\\u0e2d\\u0e32\\u0e2b\\u0e32\\u0e23\", \"\\u0e2a\\u0e32\\u0e23\\u0e2d\\u0e32\\u0e2b\\u0e32\\u0e23\", \"\\u0e2a\\u0e32\\u0e23\\u0e2d\\u0e32\\u0e2b\\u0e32\\u0e23\", \"\\u0e2a\\u0e32\\u0e23\\u0e2d\\u0e32\\u0e2b\\u0e32\\u0e23\", \"\\u0e2a\\u0e32\\u0e23\\u0e2d\\u0e32\\u0e2b\\u0e32\\u0e23\", \"\\u0e2a\\u0e32\\u0e23\\u0e2d\\u0e32\\u0e2b\\u0e32\\u0e23\", \"\\u0e2a\\u0e32\\u0e23\\u0e2d\\u0e32\\u0e2b\\u0e32\\u0e23\", \"\\u0e2a\\u0e32\\u0e23\\u0e2d\\u0e32\\u0e2b\\u0e32\\u0e23\", \"\\u0e2a\\u0e34\\u0e19\\u0e04\\u0e49\\u0e32\", \"\\u0e2a\\u0e34\\u0e19\\u0e04\\u0e49\\u0e32\", \"\\u0e2a\\u0e34\\u0e19\\u0e04\\u0e49\\u0e32\", \"\\u0e2a\\u0e34\\u0e19\\u0e04\\u0e49\\u0e32\", \"\\u0e2a\\u0e34\\u0e19\\u0e04\\u0e49\\u0e32\", \"\\u0e2a\\u0e34\\u0e19\\u0e04\\u0e49\\u0e32\", \"\\u0e2a\\u0e34\\u0e19\\u0e04\\u0e49\\u0e32\", \"\\u0e2a\\u0e34\\u0e19\\u0e04\\u0e49\\u0e32\", \"\\u0e2a\\u0e35\", \"\\u0e2a\\u0e35\", \"\\u0e2a\\u0e35\", \"\\u0e2a\\u0e35\", \"\\u0e2a\\u0e35\", \"\\u0e2a\\u0e35\", \"\\u0e2a\\u0e35\", \"\\u0e2a\\u0e35\", \"\\u0e2a\\u0e38\\u0e19\\u0e31\\u0e02\", \"\\u0e2a\\u0e48\\u0e27\\u0e19\\u0e1c\\u0e2a\\u0e21\", \"\\u0e2a\\u0e48\\u0e27\\u0e19\\u0e1c\\u0e2a\\u0e21\", \"\\u0e2a\\u0e48\\u0e27\\u0e19\\u0e1c\\u0e2a\\u0e21\", \"\\u0e2a\\u0e48\\u0e27\\u0e19\\u0e1c\\u0e2a\\u0e21\", \"\\u0e2a\\u0e48\\u0e27\\u0e19\\u0e1c\\u0e2a\\u0e21\", \"\\u0e2a\\u0e48\\u0e27\\u0e19\\u0e1c\\u0e2a\\u0e21\", \"\\u0e2a\\u0e48\\u0e27\\u0e19\\u0e1c\\u0e2a\\u0e21\", \"\\u0e2a\\u0e48\\u0e27\\u0e19\\u0e1c\\u0e2a\\u0e21\", \"\\u0e2a\\u0e48\\u0e27\\u0e19\\u0e2a\\u0e39\\u0e07\", \"\\u0e2a\\u0e48\\u0e27\\u0e19\\u0e2a\\u0e39\\u0e07\", \"\\u0e2a\\u0e48\\u0e27\\u0e19\\u0e2a\\u0e39\\u0e07\", \"\\u0e2a\\u0e48\\u0e27\\u0e19\\u0e2a\\u0e39\\u0e07\", \"\\u0e2a\\u0e48\\u0e27\\u0e19\\u0e2a\\u0e39\\u0e07\", \"\\u0e2a\\u0e48\\u0e27\\u0e19\\u0e2a\\u0e39\\u0e07\", \"\\u0e2b\\u0e21\\u0e14\\u0e2d\\u0e32\\u0e22\\u0e38\", \"\\u0e2b\\u0e21\\u0e14\\u0e2d\\u0e32\\u0e22\\u0e38\", \"\\u0e2b\\u0e21\\u0e14\\u0e2d\\u0e32\\u0e22\\u0e38\", \"\\u0e2b\\u0e21\\u0e14\\u0e2d\\u0e32\\u0e22\\u0e38\", \"\\u0e2b\\u0e21\\u0e14\\u0e2d\\u0e32\\u0e22\\u0e38\", \"\\u0e2b\\u0e21\\u0e14\\u0e2d\\u0e32\\u0e22\\u0e38\", \"\\u0e2b\\u0e21\\u0e14\\u0e2d\\u0e32\\u0e22\\u0e38\", \"\\u0e2b\\u0e21\\u0e32\", \"\\u0e2b\\u0e21\\u0e32\", \"\\u0e2b\\u0e21\\u0e32\", \"\\u0e2b\\u0e21\\u0e32\", \"\\u0e2b\\u0e27\\u0e32\\u0e19\", \"\\u0e2b\\u0e27\\u0e32\\u0e19\", \"\\u0e2b\\u0e27\\u0e32\\u0e19\", \"\\u0e2b\\u0e27\\u0e32\\u0e19\", \"\\u0e2b\\u0e27\\u0e32\\u0e19\", \"\\u0e2b\\u0e27\\u0e32\\u0e19\", \"\\u0e2b\\u0e27\\u0e32\\u0e19\", \"\\u0e2b\\u0e27\\u0e32\\u0e19\", \"\\u0e2b\\u0e2d\\u0e21\", \"\\u0e2b\\u0e2d\\u0e21\", \"\\u0e2b\\u0e2d\\u0e21\", \"\\u0e2b\\u0e2d\\u0e21\", \"\\u0e2b\\u0e2d\\u0e21\", \"\\u0e2b\\u0e2d\\u0e21\", \"\\u0e2b\\u0e2d\\u0e21\", \"\\u0e2b\\u0e2d\\u0e21\", \"\\u0e2b\\u0e32\", \"\\u0e2b\\u0e32\", \"\\u0e2b\\u0e32\", \"\\u0e2b\\u0e32\", \"\\u0e2b\\u0e32\", \"\\u0e2b\\u0e32\", \"\\u0e2b\\u0e32\", \"\\u0e2b\\u0e32\", \"\\u0e2b\\u0e32\\u0e22\", \"\\u0e2b\\u0e32\\u0e22\", \"\\u0e2b\\u0e32\\u0e22\", \"\\u0e2b\\u0e32\\u0e22\", \"\\u0e2b\\u0e32\\u0e22\", \"\\u0e2b\\u0e32\\u0e22\", \"\\u0e2b\\u0e32\\u0e22\", \"\\u0e2b\\u0e32\\u0e22\", \"\\u0e2d\\u0e23\\u0e48\\u0e2d\\u0e22\", \"\\u0e2d\\u0e23\\u0e48\\u0e2d\\u0e22\", \"\\u0e2d\\u0e23\\u0e48\\u0e2d\\u0e22\", \"\\u0e2d\\u0e23\\u0e48\\u0e2d\\u0e22\", \"\\u0e2d\\u0e23\\u0e48\\u0e2d\\u0e22\", \"\\u0e2d\\u0e23\\u0e48\\u0e2d\\u0e22\", \"\\u0e2d\\u0e23\\u0e48\\u0e2d\\u0e22\", \"\\u0e2d\\u0e23\\u0e48\\u0e2d\\u0e22\", \"\\u0e2d\\u0e2d\\u0e01\\u0e01\\u0e33\\u0e25\\u0e31\\u0e07\\u0e01\\u0e32\\u0e22\", \"\\u0e2d\\u0e2d\\u0e01\\u0e01\\u0e33\\u0e25\\u0e31\\u0e07\\u0e01\\u0e32\\u0e22\", \"\\u0e2d\\u0e2d\\u0e01\\u0e01\\u0e33\\u0e25\\u0e31\\u0e07\\u0e01\\u0e32\\u0e22\", \"\\u0e2d\\u0e2d\\u0e01\\u0e01\\u0e33\\u0e25\\u0e31\\u0e07\\u0e01\\u0e32\\u0e22\", \"\\u0e2d\\u0e2d\\u0e01\\u0e01\\u0e33\\u0e25\\u0e31\\u0e07\\u0e01\\u0e32\\u0e22\", \"\\u0e2d\\u0e2d\\u0e01\\u0e01\\u0e33\\u0e25\\u0e31\\u0e07\\u0e01\\u0e32\\u0e22\", \"\\u0e2d\\u0e2d\\u0e01\\u0e01\\u0e33\\u0e25\\u0e31\\u0e07\\u0e01\\u0e32\\u0e22\", \"\\u0e2d\\u0e2d\\u0e01\\u0e01\\u0e33\\u0e25\\u0e31\\u0e07\\u0e01\\u0e32\\u0e22\", \"\\u0e2d\\u0e32\\u0e2b\\u0e32\\u0e23\\u0e40\\u0e2a\\u0e23\\u0e34\\u0e21\", \"\\u0e2d\\u0e32\\u0e2b\\u0e32\\u0e23\\u0e40\\u0e2a\\u0e23\\u0e34\\u0e21\", \"\\u0e2d\\u0e32\\u0e2b\\u0e32\\u0e23\\u0e40\\u0e2a\\u0e23\\u0e34\\u0e21\", \"\\u0e2d\\u0e32\\u0e2b\\u0e32\\u0e23\\u0e40\\u0e2a\\u0e23\\u0e34\\u0e21\", \"\\u0e2d\\u0e32\\u0e2b\\u0e32\\u0e23\\u0e40\\u0e2a\\u0e23\\u0e34\\u0e21\", \"\\u0e2d\\u0e32\\u0e2b\\u0e32\\u0e23\\u0e40\\u0e2a\\u0e23\\u0e34\\u0e21\", \"\\u0e2d\\u0e32\\u0e2b\\u0e32\\u0e23\\u0e40\\u0e2a\\u0e23\\u0e34\\u0e21\", \"\\u0e2d\\u0e32\\u0e2b\\u0e32\\u0e23\\u0e40\\u0e2a\\u0e23\\u0e34\\u0e21\", \"\\u0e2d\\u0e32\\u0e40\\u0e08\\u0e35\\u0e22\\u0e19\", \"\\u0e2d\\u0e32\\u0e40\\u0e08\\u0e35\\u0e22\\u0e19\", \"\\u0e2d\\u0e32\\u0e40\\u0e08\\u0e35\\u0e22\\u0e19\", \"\\u0e2d\\u0e36\", \"\\u0e2d\\u0e38\\u0e48\\u0e19\", \"\\u0e2d\\u0e38\\u0e48\\u0e19\", \"\\u0e2d\\u0e38\\u0e48\\u0e19\", \"\\u0e2d\\u0e38\\u0e48\\u0e19\", \"\\u0e2d\\u0e38\\u0e48\\u0e19\", \"\\u0e2d\\u0e38\\u0e48\\u0e19\", \"\\u0e2d\\u0e38\\u0e48\\u0e19\", \"\\u0e2d\\u0e40\\u0e21\\u0e23\\u0e34\\u0e01\\u0e32\\u0e42\\u0e19\\u0e48\", \"\\u0e2d\\u0e40\\u0e21\\u0e23\\u0e34\\u0e01\\u0e32\\u0e42\\u0e19\\u0e48\", \"\\u0e2d\\u0e40\\u0e21\\u0e23\\u0e34\\u0e01\\u0e32\\u0e42\\u0e19\\u0e48\", \"\\u0e40\\u0e04\\u0e49\\u0e01\", \"\\u0e40\\u0e04\\u0e49\\u0e01\", \"\\u0e40\\u0e04\\u0e49\\u0e01\", \"\\u0e40\\u0e04\\u0e49\\u0e01\", \"\\u0e40\\u0e04\\u0e49\\u0e01\", \"\\u0e40\\u0e04\\u0e49\\u0e01\", \"\\u0e40\\u0e04\\u0e49\\u0e01\", \"\\u0e40\\u0e08\\u0e21\\u0e2a\\u0e4c\\u0e08\\u0e34\", \"\\u0e40\\u0e0a\\u0e37\\u0e49\\u0e2d\\u0e08\\u0e38\\u0e25\\u0e34\\u0e19\\u0e17\\u0e23\\u0e35\\u0e22\\u0e4c\", \"\\u0e40\\u0e14\\u0e47\\u0e01\", \"\\u0e40\\u0e14\\u0e47\\u0e01\", \"\\u0e40\\u0e14\\u0e47\\u0e01\", \"\\u0e40\\u0e14\\u0e47\\u0e01\", \"\\u0e40\\u0e14\\u0e47\\u0e01\", \"\\u0e40\\u0e14\\u0e47\\u0e01\", \"\\u0e40\\u0e14\\u0e47\\u0e01\", \"\\u0e40\\u0e14\\u0e47\\u0e01\", \"\\u0e40\\u0e17\\u0e23\\u0e19\\u0e40\\u0e19\\u0e2d\\u0e23\\u0e4c\", \"\\u0e40\\u0e17\\u0e23\\u0e19\\u0e40\\u0e19\\u0e2d\\u0e23\\u0e4c\", \"\\u0e40\\u0e19\\u0e22\", \"\\u0e40\\u0e19\\u0e22\", \"\\u0e40\\u0e19\\u0e22\", \"\\u0e40\\u0e19\\u0e22\", \"\\u0e40\\u0e19\\u0e22\", \"\\u0e40\\u0e19\\u0e22\", \"\\u0e40\\u0e19\\u0e22\", \"\\u0e40\\u0e19\\u0e22\", \"\\u0e40\\u0e1a\\u0e32\\u0e2b\\u0e27\\u0e32\\u0e19\", \"\\u0e40\\u0e1a\\u0e32\\u0e2b\\u0e27\\u0e32\\u0e19\", \"\\u0e40\\u0e1a\\u0e32\\u0e2b\\u0e27\\u0e32\\u0e19\", \"\\u0e40\\u0e1a\\u0e32\\u0e2b\\u0e27\\u0e32\\u0e19\", \"\\u0e40\\u0e1a\\u0e32\\u0e2b\\u0e27\\u0e32\\u0e19\", \"\\u0e40\\u0e1a\\u0e32\\u0e2b\\u0e27\\u0e32\\u0e19\", \"\\u0e40\\u0e1b\\u0e47\\u0e19\\u0e1c\\u0e25\\u0e14\\u0e35\", \"\\u0e40\\u0e1e\\u0e34\\u0e48\\u0e21\\u0e02\\u0e36\\u0e49\\u0e19\", \"\\u0e40\\u0e1e\\u0e34\\u0e48\\u0e21\\u0e02\\u0e36\\u0e49\\u0e19\", \"\\u0e40\\u0e1e\\u0e34\\u0e48\\u0e21\\u0e02\\u0e36\\u0e49\\u0e19\", \"\\u0e40\\u0e1e\\u0e34\\u0e48\\u0e21\\u0e02\\u0e36\\u0e49\\u0e19\", \"\\u0e40\\u0e1e\\u0e34\\u0e48\\u0e21\\u0e02\\u0e36\\u0e49\\u0e19\", \"\\u0e40\\u0e1e\\u0e34\\u0e48\\u0e21\\u0e02\\u0e36\\u0e49\\u0e19\", \"\\u0e40\\u0e1e\\u0e34\\u0e48\\u0e21\\u0e02\\u0e36\\u0e49\\u0e19\", \"\\u0e40\\u0e1e\\u0e34\\u0e48\\u0e21\\u0e02\\u0e36\\u0e49\\u0e19\", \"\\u0e40\\u0e25\\u0e35\\u0e49\\u0e22\\u0e07\\u0e25\\u0e39\\u0e01\", \"\\u0e40\\u0e25\\u0e35\\u0e49\\u0e22\\u0e07\\u0e25\\u0e39\\u0e01\", \"\\u0e40\\u0e25\\u0e35\\u0e49\\u0e22\\u0e07\\u0e40\\u0e14\\u0e47\\u0e01\", \"\\u0e40\\u0e25\\u0e48\\u0e19\\u0e40\\u0e27\\u0e17\", \"\\u0e40\\u0e25\\u0e48\\u0e19\\u0e40\\u0e27\\u0e17\", \"\\u0e40\\u0e25\\u0e48\\u0e19\\u0e40\\u0e27\\u0e17\", \"\\u0e40\\u0e25\\u0e48\\u0e19\\u0e40\\u0e27\\u0e17\", \"\\u0e40\\u0e25\\u0e48\\u0e19\\u0e40\\u0e27\\u0e17\", \"\\u0e40\\u0e27\\u0e17\", \"\\u0e40\\u0e27\\u0e17\", \"\\u0e40\\u0e27\\u0e17\", \"\\u0e40\\u0e27\\u0e17\", \"\\u0e40\\u0e27\\u0e17\", \"\\u0e40\\u0e27\\u0e17\", \"\\u0e40\\u0e27\\u0e1f\", \"\\u0e40\\u0e27\\u0e1f\", \"\\u0e40\\u0e27\\u0e1f\", \"\\u0e40\\u0e27\\u0e1f\", \"\\u0e40\\u0e27\\u0e1f\", \"\\u0e40\\u0e27\\u0e22\\u0e4c\", \"\\u0e40\\u0e27\\u0e22\\u0e4c\", \"\\u0e40\\u0e27\\u0e22\\u0e4c\", \"\\u0e40\\u0e27\\u0e22\\u0e4c\", \"\\u0e40\\u0e27\\u0e22\\u0e4c\", \"\\u0e40\\u0e2a\\u0e35\\u0e22\\u0e04\\u0e27\\u0e32\\u0e21\\u0e23\\u0e39\\u0e49\\u0e2a\\u0e36\\u0e01\", \"\\u0e40\\u0e2a\\u0e35\\u0e22\\u0e43\\u0e08\", \"\\u0e40\\u0e2a\\u0e35\\u0e22\\u0e43\\u0e08\", \"\\u0e40\\u0e2a\\u0e35\\u0e22\\u0e43\\u0e08\", \"\\u0e40\\u0e2a\\u0e35\\u0e22\\u0e43\\u0e08\", \"\\u0e40\\u0e2a\\u0e35\\u0e22\\u0e43\\u0e08\", \"\\u0e41\\u0e01\\u0e25\\u0e25\\u0e2d\\u0e19\", \"\\u0e41\\u0e01\\u0e25\\u0e25\\u0e2d\\u0e19\", \"\\u0e41\\u0e01\\u0e25\\u0e25\\u0e2d\\u0e19\", \"\\u0e41\\u0e01\\u0e25\\u0e25\\u0e2d\\u0e19\", \"\\u0e41\\u0e02\\u0e47\\u0e07\\u0e41\\u0e23\\u0e07\", \"\\u0e41\\u0e02\\u0e47\\u0e07\\u0e41\\u0e23\\u0e07\", \"\\u0e41\\u0e02\\u0e47\\u0e07\\u0e41\\u0e23\\u0e07\", \"\\u0e41\\u0e02\\u0e47\\u0e07\\u0e41\\u0e23\\u0e07\", \"\\u0e41\\u0e02\\u0e47\\u0e07\\u0e41\\u0e23\\u0e07\", \"\\u0e41\\u0e02\\u0e47\\u0e07\\u0e41\\u0e23\\u0e07\", \"\\u0e41\\u0e02\\u0e47\\u0e07\\u0e41\\u0e23\\u0e07\", \"\\u0e41\\u0e04\\u0e25\\u0e40\\u0e0b\\u0e35\\u0e48\\u0e22\\u0e21\", \"\\u0e41\\u0e04\\u0e25\\u0e40\\u0e0b\\u0e35\\u0e48\\u0e22\\u0e21\", \"\\u0e41\\u0e15\\u0e01\", \"\\u0e41\\u0e15\\u0e01\", \"\\u0e41\\u0e15\\u0e01\", \"\\u0e41\\u0e15\\u0e01\", \"\\u0e41\\u0e15\\u0e01\", \"\\u0e41\\u0e15\\u0e01\", \"\\u0e41\\u0e15\\u0e01\", \"\\u0e41\\u0e15\\u0e01\", \"\\u0e41\\u0e16\\u0e21\", \"\\u0e41\\u0e16\\u0e21\", \"\\u0e41\\u0e16\\u0e21\", \"\\u0e41\\u0e16\\u0e21\", \"\\u0e41\\u0e16\\u0e21\", \"\\u0e41\\u0e16\\u0e21\", \"\\u0e41\\u0e16\\u0e21\", \"\\u0e41\\u0e16\\u0e21\", \"\\u0e41\\u0e19\\u0e30\\u0e19\\u0e33\", \"\\u0e41\\u0e19\\u0e30\\u0e19\\u0e33\", \"\\u0e41\\u0e19\\u0e30\\u0e19\\u0e33\", \"\\u0e41\\u0e19\\u0e30\\u0e19\\u0e33\", \"\\u0e41\\u0e19\\u0e30\\u0e19\\u0e33\", \"\\u0e41\\u0e19\\u0e30\\u0e19\\u0e33\", \"\\u0e41\\u0e19\\u0e30\\u0e19\\u0e33\", \"\\u0e41\\u0e19\\u0e30\\u0e19\\u0e33\", \"\\u0e41\\u0e1b\\u0e49\\u0e07\", \"\\u0e41\\u0e1b\\u0e49\\u0e07\", \"\\u0e41\\u0e1b\\u0e49\\u0e07\", \"\\u0e41\\u0e1b\\u0e49\\u0e07\", \"\\u0e41\\u0e1b\\u0e49\\u0e07\", \"\\u0e41\\u0e1b\\u0e49\\u0e07\", \"\\u0e41\\u0e1b\\u0e49\\u0e07\", \"\\u0e41\\u0e1b\\u0e49\\u0e07\", \"\\u0e41\\u0e1e\\u0e04\\u0e04\\u0e39\\u0e48\", \"\\u0e41\\u0e1e\\u0e07\", \"\\u0e41\\u0e1e\\u0e07\", \"\\u0e41\\u0e1e\\u0e07\", \"\\u0e41\\u0e1e\\u0e07\", \"\\u0e41\\u0e1e\\u0e07\", \"\\u0e41\\u0e1e\\u0e07\", \"\\u0e41\\u0e1e\\u0e07\", \"\\u0e41\\u0e1e\\u0e07\", \"\\u0e41\\u0e1e\\u0e30\", \"\\u0e41\\u0e1e\\u0e30\", \"\\u0e41\\u0e1e\\u0e30\", \"\\u0e41\\u0e1e\\u0e30\", \"\\u0e41\\u0e1e\\u0e30\", \"\\u0e41\\u0e1e\\u0e30\", \"\\u0e41\\u0e1e\\u0e49\\u0e19\\u0e21\", \"\\u0e41\\u0e1e\\u0e49\\u0e19\\u0e21\", \"\\u0e41\\u0e1e\\u0e49\\u0e19\\u0e21\\u0e27\\u0e31\\u0e27\", \"\\u0e41\\u0e1e\\u0e49\\u0e19\\u0e21\\u0e27\\u0e31\\u0e27\", \"\\u0e41\\u0e1e\\u0e49\\u0e19\\u0e21\\u0e27\\u0e31\\u0e27\", \"\\u0e41\\u0e1e\\u0e49\\u0e19\\u0e21\\u0e27\\u0e31\\u0e27\", \"\\u0e41\\u0e1e\\u0e49\\u0e19\\u0e21\\u0e27\\u0e31\\u0e27\", \"\\u0e41\\u0e21\\u0e27\", \"\\u0e41\\u0e21\\u0e27\", \"\\u0e41\\u0e21\\u0e27\", \"\\u0e41\\u0e21\\u0e27\", \"\\u0e41\\u0e21\\u0e27\", \"\\u0e41\\u0e21\\u0e27\", \"\\u0e41\\u0e21\\u0e27\", \"\\u0e41\\u0e21\\u0e48\", \"\\u0e41\\u0e21\\u0e48\", \"\\u0e41\\u0e21\\u0e48\", \"\\u0e41\\u0e21\\u0e48\", \"\\u0e41\\u0e21\\u0e48\", \"\\u0e41\\u0e21\\u0e48\", \"\\u0e41\\u0e21\\u0e48\", \"\\u0e41\\u0e21\\u0e48\", \"\\u0e41\\u0e25\\u0e04\\u0e42\\u0e15\\u0e2a\", \"\\u0e41\\u0e25\\u0e04\\u0e42\\u0e15\\u0e2a\", \"\\u0e41\\u0e25\\u0e04\\u0e42\\u0e15\\u0e2a\", \"\\u0e41\\u0e25\\u0e04\\u0e42\\u0e15\\u0e2a\", \"\\u0e42\\u0e1b\\u0e23\", \"\\u0e42\\u0e1b\\u0e23\", \"\\u0e42\\u0e1b\\u0e23\", \"\\u0e42\\u0e1b\\u0e23\", \"\\u0e42\\u0e1b\\u0e23\", \"\\u0e42\\u0e1b\\u0e23\", \"\\u0e42\\u0e1b\\u0e23\", \"\\u0e42\\u0e1b\\u0e23\\u0e15\\u0e35\\u0e19\", \"\\u0e42\\u0e1b\\u0e23\\u0e15\\u0e35\\u0e19\", \"\\u0e42\\u0e1b\\u0e23\\u0e15\\u0e35\\u0e19\", \"\\u0e42\\u0e1b\\u0e23\\u0e15\\u0e35\\u0e19\", \"\\u0e42\\u0e1b\\u0e23\\u0e15\\u0e35\\u0e19\", \"\\u0e42\\u0e1b\\u0e23\\u0e15\\u0e35\\u0e19\", \"\\u0e42\\u0e1b\\u0e23\\u0e15\\u0e35\\u0e19\", \"\\u0e42\\u0e1b\\u0e23\\u0e42\\u0e21\\u0e0a\\u0e31\\u0e48\\u0e19\", \"\\u0e42\\u0e1b\\u0e23\\u0e42\\u0e21\\u0e0a\\u0e31\\u0e48\\u0e19\", \"\\u0e42\\u0e1b\\u0e23\\u0e42\\u0e21\\u0e0a\\u0e31\\u0e48\\u0e19\", \"\\u0e42\\u0e1b\\u0e23\\u0e42\\u0e21\\u0e0a\\u0e31\\u0e48\\u0e19\", \"\\u0e42\\u0e1b\\u0e23\\u0e42\\u0e21\\u0e0a\\u0e31\\u0e48\\u0e19\", \"\\u0e42\\u0e20\\u0e0a\\u0e19\\u0e32\\u0e01\\u0e32\\u0e23\", \"\\u0e42\\u0e20\\u0e0a\\u0e19\\u0e32\\u0e01\\u0e32\\u0e23\", \"\\u0e42\\u0e20\\u0e0a\\u0e19\\u0e32\\u0e01\\u0e32\\u0e23\", \"\\u0e42\\u0e20\\u0e0a\\u0e19\\u0e32\\u0e01\\u0e32\\u0e23\", \"\\u0e42\\u0e20\\u0e0a\\u0e19\\u0e32\\u0e01\\u0e32\\u0e23\", \"\\u0e42\\u0e20\\u0e0a\\u0e19\\u0e32\\u0e01\\u0e32\\u0e23\", \"\\u0e42\\u0e23\\u0e07\\u0e40\\u0e23\\u0e35\\u0e22\\u0e19\", \"\\u0e42\\u0e23\\u0e07\\u0e40\\u0e23\\u0e35\\u0e22\\u0e19\", \"\\u0e42\\u0e23\\u0e07\\u0e40\\u0e23\\u0e35\\u0e22\\u0e19\", \"\\u0e42\\u0e23\\u0e07\\u0e40\\u0e23\\u0e35\\u0e22\\u0e19\", \"\\u0e42\\u0e23\\u0e07\\u0e40\\u0e23\\u0e35\\u0e22\\u0e19\", \"\\u0e42\\u0e23\\u0e07\\u0e40\\u0e23\\u0e35\\u0e22\\u0e19\", \"\\u0e42\\u0e23\\u0e07\\u0e40\\u0e23\\u0e35\\u0e22\\u0e19\", \"\\u0e42\\u0e23\\u0e07\\u0e40\\u0e23\\u0e35\\u0e22\\u0e19\", \"\\u0e42\\u0e2d\\u0e40\\u0e21\\u0e01\\u0e49\\u0e32\", \"\\u0e42\\u0e2d\\u0e40\\u0e21\\u0e01\\u0e49\\u0e32\", \"\\u0e42\\u0e2d\\u0e40\\u0e21\\u0e01\\u0e49\\u0e32\", \"\\u0e44\\u0e02\\u0e21\\u0e31\\u0e19\", \"\\u0e44\\u0e02\\u0e21\\u0e31\\u0e19\", \"\\u0e44\\u0e02\\u0e21\\u0e31\\u0e19\", \"\\u0e44\\u0e02\\u0e21\\u0e31\\u0e19\", \"\\u0e44\\u0e02\\u0e21\\u0e31\\u0e19\", \"\\u0e44\\u0e02\\u0e21\\u0e31\\u0e19\", \"\\u0e44\\u0e02\\u0e21\\u0e31\\u0e19\", \"\\u0e44\\u0e02\\u0e21\\u0e31\\u0e19\", \"\\u0e44\\u0e21\\u0e42\\u0e04\\u0e23\\u0e40\\u0e27\\u0e1f\", \"\\u0e44\\u0e21\\u0e42\\u0e04\\u0e23\\u0e40\\u0e27\\u0e1f\", \"\\u0e44\\u0e21\\u0e42\\u0e04\\u0e23\\u0e40\\u0e27\\u0e1f\", \"\\u0e44\\u0e21\\u0e42\\u0e04\\u0e23\\u0e40\\u0e27\\u0e1f\", \"\\u0e44\\u0e21\\u0e42\\u0e04\\u0e23\\u0e40\\u0e27\\u0e1f\", \"\\u0e44\\u0e21\\u0e42\\u0e04\\u0e23\\u0e40\\u0e27\\u0e1f\", \"\\u0e44\\u0e2d\\u0e42\\u0e2d\\u0e14\\u0e35\\u0e19\"]}, \"R\": 40, \"lambda.step\": 0.1, \"plot.opts\": {\"xlab\": \"PC1\", \"ylab\": \"PC2\"}, \"topic.order\": [1, 7, 6, 2, 5, 8, 4, 3]};\n",
       "\n",
       "function LDAvis_load_lib(url, callback){\n",
       "  var s = document.createElement('script');\n",
       "  s.src = url;\n",
       "  s.async = true;\n",
       "  s.onreadystatechange = s.onload = callback;\n",
       "  s.onerror = function(){console.warn(\"failed to load library \" + url);};\n",
       "  document.getElementsByTagName(\"head\")[0].appendChild(s);\n",
       "}\n",
       "\n",
       "if(typeof(LDAvis) !== \"undefined\"){\n",
       "   // already loaded: just create the visualization\n",
       "   !function(LDAvis){\n",
       "       new LDAvis(\"#\" + \"ldavis_el20363138744568832711523209\", ldavis_el20363138744568832711523209_data);\n",
       "   }(LDAvis);\n",
       "}else if(typeof define === \"function\" && define.amd){\n",
       "   // require.js is available: use it to load d3/LDAvis\n",
       "   require.config({paths: {d3: \"https://cdnjs.cloudflare.com/ajax/libs/d3/3.5.5/d3.min\"}});\n",
       "   require([\"d3\"], function(d3){\n",
       "      window.d3 = d3;\n",
       "      LDAvis_load_lib(\"https://cdn.rawgit.com/bmabey/pyLDAvis/files/ldavis.v1.0.0.js\", function(){\n",
       "        new LDAvis(\"#\" + \"ldavis_el20363138744568832711523209\", ldavis_el20363138744568832711523209_data);\n",
       "      });\n",
       "    });\n",
       "}else{\n",
       "    // require.js not available: dynamically load d3 & LDAvis\n",
       "    LDAvis_load_lib(\"https://cdnjs.cloudflare.com/ajax/libs/d3/3.5.5/d3.min.js\", function(){\n",
       "         LDAvis_load_lib(\"https://cdn.rawgit.com/bmabey/pyLDAvis/files/ldavis.v1.0.0.js\", function(){\n",
       "                 new LDAvis(\"#\" + \"ldavis_el20363138744568832711523209\", ldavis_el20363138744568832711523209_data);\n",
       "            })\n",
       "         });\n",
       "}\n",
       "</script>"
      ],
      "text/plain": [
       "PreparedData(topic_coordinates=              x         y  topics  cluster       Freq\n",
       "topic                                                \n",
       "0      0.127929 -0.134056       1        1  17.322462\n",
       "6     -0.214986  0.033189       2        1  15.286830\n",
       "5     -0.166945  0.057341       3        1  13.782295\n",
       "1      0.208991  0.133860       4        1  13.234822\n",
       "4     -0.020156 -0.173418       5        1  10.823591\n",
       "7      0.101489  0.165050       6        1  10.640848\n",
       "3      0.048807 -0.159345       7        1  10.002944\n",
       "2     -0.085129  0.077378       8        1   8.906208, topic_info=       Term         Freq        Total Category  logprob  loglift\n",
       "74      ลูก  2322.000000  2322.000000  Default  40.0000  40.0000\n",
       "11     ซื้อ  3069.000000  3069.000000  Default  39.0000  39.0000\n",
       "61    กล่อง  1881.000000  1881.000000  Default  38.0000  38.0000\n",
       "13     กาแฟ  1161.000000  1161.000000  Default  37.0000  37.0000\n",
       "32     เด็ก  1692.000000  1692.000000  Default  36.0000  36.0000\n",
       "..      ...          ...          ...      ...      ...      ...\n",
       "60      แพง    26.503009   536.868699   Topic8  -5.2612  -0.5901\n",
       "70      แม่    29.561712  1606.574918   Topic8  -5.1519  -1.5770\n",
       "119  คุณแม่    20.047325   320.890675   Topic8  -5.5403  -0.3546\n",
       "44     หวาน    20.119807  1281.807614   Topic8  -5.5367  -1.7359\n",
       "13     กาแฟ    19.779895  1161.022825   Topic8  -5.5538  -1.6540\n",
       "\n",
       "[464 rows x 6 columns], token_table=      Topic      Freq      Term\n",
       "term                           \n",
       "0         1  0.026277  7-Eleven\n",
       "0         2  0.003583  7-Eleven\n",
       "0         3  0.011944  7-Eleven\n",
       "0         4  0.859987  7-Eleven\n",
       "0         5  0.021500  7-Eleven\n",
       "...     ...       ...       ...\n",
       "105       3  0.006400  ไมโครเวฟ\n",
       "105       4  0.064002  ไมโครเวฟ\n",
       "105       6  0.006400  ไมโครเวฟ\n",
       "105       8  0.646423  ไมโครเวฟ\n",
       "155       2  0.771692   ไอโอดีน\n",
       "\n",
       "[859 rows x 3 columns], R=40, lambda_step=0.1, plot_opts={'xlab': 'PC1', 'ylab': 'PC2'}, topic_order=[1, 7, 6, 2, 5, 8, 4, 3])"
      ]
     },
     "execution_count": 27,
     "metadata": {},
     "output_type": "execute_result"
    }
   ],
   "source": [
    "pyLDAvis.gensim.prepare(model, gensim_corpus, dictionary, R=40, lambda_step=0.1)"
   ]
  }
 ],
 "metadata": {
  "colab": {
   "collapsed_sections": [
    "EpwX95XlTCdl",
    "_Q9pU1J6TCe5",
    "NKW--A73mzli",
    "uBBA36fDTCfZ",
    "O8nlNNE4TCfj"
   ],
   "name": "EDA_Token_CoocMat.ipynb",
   "provenance": []
  },
  "kernelspec": {
   "display_name": "Python 3",
   "language": "python",
   "name": "python3"
  },
  "language_info": {
   "codemirror_mode": {
    "name": "ipython",
    "version": 3
   },
   "file_extension": ".py",
   "mimetype": "text/x-python",
   "name": "python",
   "nbconvert_exporter": "python",
   "pygments_lexer": "ipython3",
   "version": "3.7.3"
  }
 },
 "nbformat": 4,
 "nbformat_minor": 1
}
