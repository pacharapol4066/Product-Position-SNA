{
 "cells": [
  {
   "cell_type": "code",
   "execution_count": 1,
   "metadata": {},
   "outputs": [
    {
     "name": "stderr",
     "output_type": "stream",
     "text": [
      "C:\\ProgramData\\Anaconda3\\lib\\site-packages\\statsmodels\\tools\\_testing.py:19: FutureWarning: pandas.util.testing is deprecated. Use the functions in the public API at pandas.testing instead.\n",
      "  import pandas.util.testing as tm\n"
     ]
    }
   ],
   "source": [
    "import numpy as np\n",
    "import pandas as pd\n",
    "import seaborn as sns\n",
    "from sklearn.manifold import MDS\n",
    "import numpy as np\n",
    "from sklearn.metrics import euclidean_distances"
   ]
  },
  {
   "cell_type": "code",
   "execution_count": 2,
   "metadata": {},
   "outputs": [],
   "source": [
    "import matplotlib.pyplot as plt\n",
    "from matplotlib import rcParams\n",
    "rcParams['font.family'] = 'sans-serif'\n",
    "rcParams['font.sans-serif'] = ['Tahoma']"
   ]
  },
  {
   "cell_type": "code",
   "execution_count": 3,
   "metadata": {},
   "outputs": [],
   "source": [
    "# Files definition\n",
    "root_output_path = 'output'\n",
    "comment_bow = root_output_path+\"/cooc_bow_all.csv\"\n",
    "cooc_matrix_bow = pd.read_csv(comment_bow,index_col=0)\n",
    "questionaire = root_output_path+\"/Questionaires.xlsx\"\n",
    "questionaire_matrix = pd.read_excel(questionaire,index_col=0)"
   ]
  },
  {
   "cell_type": "code",
   "execution_count": 4,
   "metadata": {},
   "outputs": [
    {
     "data": {
      "text/html": [
       "<div>\n",
       "<style scoped>\n",
       "    .dataframe tbody tr th:only-of-type {\n",
       "        vertical-align: middle;\n",
       "    }\n",
       "\n",
       "    .dataframe tbody tr th {\n",
       "        vertical-align: top;\n",
       "    }\n",
       "\n",
       "    .dataframe thead th {\n",
       "        text-align: right;\n",
       "    }\n",
       "</style>\n",
       "<table border=\"1\" class=\"dataframe\">\n",
       "  <thead>\n",
       "    <tr style=\"text-align: right;\">\n",
       "      <th></th>\n",
       "      <th>เพศ</th>\n",
       "      <th>ช่วงอายุ</th>\n",
       "      <th>บุตร</th>\n",
       "      <th>จำนวนบุตร</th>\n",
       "      <th>ยี่ห้อ</th>\n",
       "      <th>เมจิ</th>\n",
       "      <th>ดัชมิลล์</th>\n",
       "      <th>โฟร์โมสต์</th>\n",
       "      <th>แดรี่โฮม</th>\n",
       "      <th>โชคชัย</th>\n",
       "      <th>...</th>\n",
       "      <th>ราคาคุ้มค่าเมื่อเทียบคุณค่าทางอาหาร</th>\n",
       "      <th>ราคาคุ้มค่าเมื่อเทียบปริมาณ</th>\n",
       "      <th>ผสมนมผง</th>\n",
       "      <th>ลูกไม่ยอมกินนม</th>\n",
       "      <th>เพิ่มความสูง</th>\n",
       "      <th>เพิ่มน้ำหนัก</th>\n",
       "      <th>ย่อยยาก ท้องอืด</th>\n",
       "      <th>พกพาง่าย</th>\n",
       "      <th>อายุเก็บรักษาสั้น</th>\n",
       "      <th>โรคกระเพาะ</th>\n",
       "    </tr>\n",
       "    <tr>\n",
       "      <th>ลำดับ</th>\n",
       "      <th></th>\n",
       "      <th></th>\n",
       "      <th></th>\n",
       "      <th></th>\n",
       "      <th></th>\n",
       "      <th></th>\n",
       "      <th></th>\n",
       "      <th></th>\n",
       "      <th></th>\n",
       "      <th></th>\n",
       "      <th></th>\n",
       "      <th></th>\n",
       "      <th></th>\n",
       "      <th></th>\n",
       "      <th></th>\n",
       "      <th></th>\n",
       "      <th></th>\n",
       "      <th></th>\n",
       "      <th></th>\n",
       "      <th></th>\n",
       "      <th></th>\n",
       "    </tr>\n",
       "  </thead>\n",
       "  <tbody>\n",
       "    <tr>\n",
       "      <th>A01</th>\n",
       "      <td>1</td>\n",
       "      <td>2</td>\n",
       "      <td>1</td>\n",
       "      <td>0</td>\n",
       "      <td>เมจิ</td>\n",
       "      <td>1</td>\n",
       "      <td>0</td>\n",
       "      <td>0</td>\n",
       "      <td>0</td>\n",
       "      <td>0</td>\n",
       "      <td>...</td>\n",
       "      <td>3.0</td>\n",
       "      <td>3.0</td>\n",
       "      <td>NaN</td>\n",
       "      <td>NaN</td>\n",
       "      <td>NaN</td>\n",
       "      <td>NaN</td>\n",
       "      <td>NaN</td>\n",
       "      <td>NaN</td>\n",
       "      <td>NaN</td>\n",
       "      <td>NaN</td>\n",
       "    </tr>\n",
       "    <tr>\n",
       "      <th>A01</th>\n",
       "      <td>1</td>\n",
       "      <td>2</td>\n",
       "      <td>1</td>\n",
       "      <td>0</td>\n",
       "      <td>ดัชมิลล์</td>\n",
       "      <td>0</td>\n",
       "      <td>1</td>\n",
       "      <td>0</td>\n",
       "      <td>0</td>\n",
       "      <td>0</td>\n",
       "      <td>...</td>\n",
       "      <td>4.0</td>\n",
       "      <td>4.0</td>\n",
       "      <td>NaN</td>\n",
       "      <td>NaN</td>\n",
       "      <td>NaN</td>\n",
       "      <td>NaN</td>\n",
       "      <td>NaN</td>\n",
       "      <td>NaN</td>\n",
       "      <td>NaN</td>\n",
       "      <td>NaN</td>\n",
       "    </tr>\n",
       "    <tr>\n",
       "      <th>A01</th>\n",
       "      <td>1</td>\n",
       "      <td>2</td>\n",
       "      <td>1</td>\n",
       "      <td>0</td>\n",
       "      <td>โฟร์โมสต์</td>\n",
       "      <td>0</td>\n",
       "      <td>0</td>\n",
       "      <td>1</td>\n",
       "      <td>0</td>\n",
       "      <td>0</td>\n",
       "      <td>...</td>\n",
       "      <td>3.0</td>\n",
       "      <td>2.0</td>\n",
       "      <td>NaN</td>\n",
       "      <td>NaN</td>\n",
       "      <td>NaN</td>\n",
       "      <td>NaN</td>\n",
       "      <td>NaN</td>\n",
       "      <td>NaN</td>\n",
       "      <td>NaN</td>\n",
       "      <td>NaN</td>\n",
       "    </tr>\n",
       "    <tr>\n",
       "      <th>A01</th>\n",
       "      <td>1</td>\n",
       "      <td>2</td>\n",
       "      <td>1</td>\n",
       "      <td>0</td>\n",
       "      <td>แดรี่โฮม</td>\n",
       "      <td>0</td>\n",
       "      <td>0</td>\n",
       "      <td>0</td>\n",
       "      <td>1</td>\n",
       "      <td>0</td>\n",
       "      <td>...</td>\n",
       "      <td>3.0</td>\n",
       "      <td>3.0</td>\n",
       "      <td>NaN</td>\n",
       "      <td>NaN</td>\n",
       "      <td>NaN</td>\n",
       "      <td>NaN</td>\n",
       "      <td>NaN</td>\n",
       "      <td>NaN</td>\n",
       "      <td>NaN</td>\n",
       "      <td>NaN</td>\n",
       "    </tr>\n",
       "    <tr>\n",
       "      <th>A01</th>\n",
       "      <td>1</td>\n",
       "      <td>2</td>\n",
       "      <td>1</td>\n",
       "      <td>0</td>\n",
       "      <td>โชคชัย</td>\n",
       "      <td>0</td>\n",
       "      <td>0</td>\n",
       "      <td>0</td>\n",
       "      <td>0</td>\n",
       "      <td>1</td>\n",
       "      <td>...</td>\n",
       "      <td>4.0</td>\n",
       "      <td>3.0</td>\n",
       "      <td>NaN</td>\n",
       "      <td>NaN</td>\n",
       "      <td>NaN</td>\n",
       "      <td>NaN</td>\n",
       "      <td>NaN</td>\n",
       "      <td>NaN</td>\n",
       "      <td>NaN</td>\n",
       "      <td>NaN</td>\n",
       "    </tr>\n",
       "  </tbody>\n",
       "</table>\n",
       "<p>5 rows × 62 columns</p>\n",
       "</div>"
      ],
      "text/plain": [
       "       เพศ  ช่วงอายุ  บุตร  จำนวนบุตร     ยี่ห้อ  เมจิ  ดัชมิลล์  โฟร์โมสต์  \\\n",
       "ลำดับ                                                                         \n",
       "A01      1         2     1          0       เมจิ     1         0          0   \n",
       "A01      1         2     1          0   ดัชมิลล์     0         1          0   \n",
       "A01      1         2     1          0  โฟร์โมสต์     0         0          1   \n",
       "A01      1         2     1          0   แดรี่โฮม     0         0          0   \n",
       "A01      1         2     1          0     โชคชัย     0         0          0   \n",
       "\n",
       "       แดรี่โฮม  โชคชัย  ...  ราคาคุ้มค่าเมื่อเทียบคุณค่าทางอาหาร  \\\n",
       "ลำดับ                    ...                                        \n",
       "A01           0       0  ...                                  3.0   \n",
       "A01           0       0  ...                                  4.0   \n",
       "A01           0       0  ...                                  3.0   \n",
       "A01           1       0  ...                                  3.0   \n",
       "A01           0       1  ...                                  4.0   \n",
       "\n",
       "       ราคาคุ้มค่าเมื่อเทียบปริมาณ  ผสมนมผง  ลูกไม่ยอมกินนม  เพิ่มความสูง  \\\n",
       "ลำดับ                                                                       \n",
       "A01                            3.0      NaN             NaN           NaN   \n",
       "A01                            4.0      NaN             NaN           NaN   \n",
       "A01                            2.0      NaN             NaN           NaN   \n",
       "A01                            3.0      NaN             NaN           NaN   \n",
       "A01                            3.0      NaN             NaN           NaN   \n",
       "\n",
       "       เพิ่มน้ำหนัก  ย่อยยาก ท้องอืด  พกพาง่าย  อายุเก็บรักษาสั้น  โรคกระเพาะ  \n",
       "ลำดับ                                                                          \n",
       "A01             NaN              NaN       NaN                NaN         NaN  \n",
       "A01             NaN              NaN       NaN                NaN         NaN  \n",
       "A01             NaN              NaN       NaN                NaN         NaN  \n",
       "A01             NaN              NaN       NaN                NaN         NaN  \n",
       "A01             NaN              NaN       NaN                NaN         NaN  \n",
       "\n",
       "[5 rows x 62 columns]"
      ]
     },
     "execution_count": 4,
     "metadata": {},
     "output_type": "execute_result"
    }
   ],
   "source": [
    "questionaire_matrix.head()"
   ]
  },
  {
   "cell_type": "markdown",
   "metadata": {},
   "source": [
    "### Steps<br>\n",
    "1. ตัดข้อมูลไม่สมบูรณ์ออก (2คน)\n",
    "2. Clean missing data\n",
    "3. EDA - เพศ อายุ คนมีบุตร\n",
    "4. EDA - ยี่ห้อยอดนิยม\n",
    "5. MDS เช็ค Stress\n",
    "6. สร้าง Coocc-Matrix"
   ]
  },
  {
   "cell_type": "code",
   "execution_count": 5,
   "metadata": {},
   "outputs": [],
   "source": [
    "brands = ['เมจิ','ดัชมิลล์','โฟร์โมสต์','แดรี่โฮม','โชคชัย','เอ็มมิลค์','ไทยเดนมาร์ค']\n",
    "brands2 = ['ซีพีเมจิ','ดัชมิลล์','โฟร์โมสต์','แดรี่โฮม','โชคชัย','เอ็มมิลค์','ไทยเดนมาร์ค']"
   ]
  },
  {
   "cell_type": "code",
   "execution_count": 6,
   "metadata": {},
   "outputs": [],
   "source": [
    "questionaire_matrix.drop('A14',axis=0,inplace=True)\n",
    "questionaire_matrix.drop('A27',axis=0,inplace=True)"
   ]
  },
  {
   "cell_type": "code",
   "execution_count": 7,
   "metadata": {},
   "outputs": [],
   "source": [
    "questionaire_matrix = questionaire_matrix.fillna(1)"
   ]
  },
  {
   "cell_type": "code",
   "execution_count": 8,
   "metadata": {},
   "outputs": [],
   "source": [
    "df_personal = questionaire_matrix.iloc[:,0:4].reset_index()\n",
    "df_personal.drop_duplicates(keep='last',inplace=True, ignore_index=True)\n",
    "\n",
    "df_only_elements = questionaire_matrix.iloc[:,4:]"
   ]
  },
  {
   "cell_type": "code",
   "execution_count": 9,
   "metadata": {},
   "outputs": [],
   "source": [
    "df_agg_sex = pd.DataFrame(df_personal.groupby('เพศ').size(),columns=['cnt']).T\n",
    "df_agg_age = pd.DataFrame(df_personal.groupby('ช่วงอายุ').size(),columns=['cnt']).T\n",
    "df_agg_child = pd.DataFrame(df_personal.groupby('บุตร').size(),columns=['cnt']).T\n",
    "df_agg_childNum = pd.DataFrame(df_personal.groupby('จำนวนบุตร').size(),columns=['cnt']).T\n",
    "df_brand_count = pd.DataFrame(df_only_elements.iloc[:,1:8].sum(),columns=['sum']).T"
   ]
  },
  {
   "cell_type": "code",
   "execution_count": 10,
   "metadata": {},
   "outputs": [
    {
     "data": {
      "text/html": [
       "<div>\n",
       "<style scoped>\n",
       "    .dataframe tbody tr th:only-of-type {\n",
       "        vertical-align: middle;\n",
       "    }\n",
       "\n",
       "    .dataframe tbody tr th {\n",
       "        vertical-align: top;\n",
       "    }\n",
       "\n",
       "    .dataframe thead th {\n",
       "        text-align: right;\n",
       "    }\n",
       "</style>\n",
       "<table border=\"1\" class=\"dataframe\">\n",
       "  <thead>\n",
       "    <tr style=\"text-align: right;\">\n",
       "      <th>เพศ</th>\n",
       "      <th>1</th>\n",
       "      <th>2</th>\n",
       "    </tr>\n",
       "  </thead>\n",
       "  <tbody>\n",
       "    <tr>\n",
       "      <th>cnt</th>\n",
       "      <td>6</td>\n",
       "      <td>26</td>\n",
       "    </tr>\n",
       "  </tbody>\n",
       "</table>\n",
       "</div>"
      ],
      "text/plain": [
       "เพศ  1   2\n",
       "cnt  6  26"
      ]
     },
     "execution_count": 10,
     "metadata": {},
     "output_type": "execute_result"
    }
   ],
   "source": [
    "# 1 ชาย 2 หญิง\n",
    "df_agg_sex"
   ]
  },
  {
   "cell_type": "code",
   "execution_count": 11,
   "metadata": {},
   "outputs": [
    {
     "data": {
      "text/html": [
       "<div>\n",
       "<style scoped>\n",
       "    .dataframe tbody tr th:only-of-type {\n",
       "        vertical-align: middle;\n",
       "    }\n",
       "\n",
       "    .dataframe tbody tr th {\n",
       "        vertical-align: top;\n",
       "    }\n",
       "\n",
       "    .dataframe thead th {\n",
       "        text-align: right;\n",
       "    }\n",
       "</style>\n",
       "<table border=\"1\" class=\"dataframe\">\n",
       "  <thead>\n",
       "    <tr style=\"text-align: right;\">\n",
       "      <th>ช่วงอายุ</th>\n",
       "      <th>2</th>\n",
       "      <th>3</th>\n",
       "      <th>4</th>\n",
       "      <th>5</th>\n",
       "    </tr>\n",
       "  </thead>\n",
       "  <tbody>\n",
       "    <tr>\n",
       "      <th>cnt</th>\n",
       "      <td>19</td>\n",
       "      <td>10</td>\n",
       "      <td>2</td>\n",
       "      <td>1</td>\n",
       "    </tr>\n",
       "  </tbody>\n",
       "</table>\n",
       "</div>"
      ],
      "text/plain": [
       "ช่วงอายุ   2   3  4  5\n",
       "cnt       19  10  2  1"
      ]
     },
     "execution_count": 11,
     "metadata": {},
     "output_type": "execute_result"
    }
   ],
   "source": [
    "# 2 = 21-30 ปี, 3 = 31-40 ปี, 4 = 41-50 ปี, 5 = 51 ปีขึ้นไป\n",
    "df_agg_age"
   ]
  },
  {
   "cell_type": "code",
   "execution_count": 12,
   "metadata": {},
   "outputs": [
    {
     "data": {
      "text/html": [
       "<div>\n",
       "<style scoped>\n",
       "    .dataframe tbody tr th:only-of-type {\n",
       "        vertical-align: middle;\n",
       "    }\n",
       "\n",
       "    .dataframe tbody tr th {\n",
       "        vertical-align: top;\n",
       "    }\n",
       "\n",
       "    .dataframe thead th {\n",
       "        text-align: right;\n",
       "    }\n",
       "</style>\n",
       "<table border=\"1\" class=\"dataframe\">\n",
       "  <thead>\n",
       "    <tr style=\"text-align: right;\">\n",
       "      <th>บุตร</th>\n",
       "      <th>1</th>\n",
       "      <th>2</th>\n",
       "    </tr>\n",
       "  </thead>\n",
       "  <tbody>\n",
       "    <tr>\n",
       "      <th>cnt</th>\n",
       "      <td>23</td>\n",
       "      <td>9</td>\n",
       "    </tr>\n",
       "  </tbody>\n",
       "</table>\n",
       "</div>"
      ],
      "text/plain": [
       "บุตร   1  2\n",
       "cnt   23  9"
      ]
     },
     "execution_count": 12,
     "metadata": {},
     "output_type": "execute_result"
    }
   ],
   "source": [
    "# 1 = ไม่มี, 2 = มี\n",
    "df_agg_child"
   ]
  },
  {
   "cell_type": "code",
   "execution_count": 13,
   "metadata": {},
   "outputs": [
    {
     "data": {
      "text/html": [
       "<div>\n",
       "<style scoped>\n",
       "    .dataframe tbody tr th:only-of-type {\n",
       "        vertical-align: middle;\n",
       "    }\n",
       "\n",
       "    .dataframe tbody tr th {\n",
       "        vertical-align: top;\n",
       "    }\n",
       "\n",
       "    .dataframe thead th {\n",
       "        text-align: right;\n",
       "    }\n",
       "</style>\n",
       "<table border=\"1\" class=\"dataframe\">\n",
       "  <thead>\n",
       "    <tr style=\"text-align: right;\">\n",
       "      <th>จำนวนบุตร</th>\n",
       "      <th>0</th>\n",
       "      <th>1</th>\n",
       "      <th>2</th>\n",
       "    </tr>\n",
       "  </thead>\n",
       "  <tbody>\n",
       "    <tr>\n",
       "      <th>cnt</th>\n",
       "      <td>23</td>\n",
       "      <td>5</td>\n",
       "      <td>4</td>\n",
       "    </tr>\n",
       "  </tbody>\n",
       "</table>\n",
       "</div>"
      ],
      "text/plain": [
       "จำนวนบุตร   0  1  2\n",
       "cnt        23  5  4"
      ]
     },
     "execution_count": 13,
     "metadata": {},
     "output_type": "execute_result"
    }
   ],
   "source": [
    "# 0 ไม่มีุตร , 2 = 2 คน\n",
    "df_agg_childNum"
   ]
  },
  {
   "cell_type": "code",
   "execution_count": 14,
   "metadata": {},
   "outputs": [
    {
     "data": {
      "text/html": [
       "<div>\n",
       "<style scoped>\n",
       "    .dataframe tbody tr th:only-of-type {\n",
       "        vertical-align: middle;\n",
       "    }\n",
       "\n",
       "    .dataframe tbody tr th {\n",
       "        vertical-align: top;\n",
       "    }\n",
       "\n",
       "    .dataframe thead th {\n",
       "        text-align: right;\n",
       "    }\n",
       "</style>\n",
       "<table border=\"1\" class=\"dataframe\">\n",
       "  <thead>\n",
       "    <tr style=\"text-align: right;\">\n",
       "      <th></th>\n",
       "      <th>เมจิ</th>\n",
       "      <th>ดัชมิลล์</th>\n",
       "      <th>โฟร์โมสต์</th>\n",
       "      <th>แดรี่โฮม</th>\n",
       "      <th>โชคชัย</th>\n",
       "      <th>เอ็มมิลค์</th>\n",
       "      <th>ไทยเดนมาร์ค</th>\n",
       "    </tr>\n",
       "  </thead>\n",
       "  <tbody>\n",
       "    <tr>\n",
       "      <th>sum</th>\n",
       "      <td>32</td>\n",
       "      <td>32</td>\n",
       "      <td>30</td>\n",
       "      <td>15</td>\n",
       "      <td>17</td>\n",
       "      <td>16</td>\n",
       "      <td>25</td>\n",
       "    </tr>\n",
       "  </tbody>\n",
       "</table>\n",
       "</div>"
      ],
      "text/plain": [
       "     เมจิ  ดัชมิลล์  โฟร์โมสต์  แดรี่โฮม  โชคชัย  เอ็มมิลค์  ไทยเดนมาร์ค\n",
       "sum    32        32         30        15      17         16           25"
      ]
     },
     "execution_count": 14,
     "metadata": {},
     "output_type": "execute_result"
    }
   ],
   "source": [
    "df_brand_count"
   ]
  },
  {
   "cell_type": "code",
   "execution_count": 15,
   "metadata": {},
   "outputs": [],
   "source": [
    "df_brands = df_only_elements.iloc[:,0:8]\n",
    "df_brands.reset_index(inplace=True)\n",
    "df_brands.set_index(['ยี่ห้อ','ลำดับ'],inplace=True)\n",
    "\n",
    "df_elements = df_only_elements.drop(labels=brands,axis=1)"
   ]
  },
  {
   "cell_type": "markdown",
   "metadata": {},
   "source": [
    "### Normalization<br>\n",
    "ดำเนินการทำ normalization อิง min-max รายยี่ห้อ "
   ]
  },
  {
   "cell_type": "code",
   "execution_count": 16,
   "metadata": {},
   "outputs": [],
   "source": [
    "df_min = df_elements.groupby(['ยี่ห้อ'], as_index=True).min()\n",
    "df_max = df_elements.groupby(['ยี่ห้อ'], as_index=True).max()\n",
    "#df_mad = df_elements.groupby(['ยี่ห้อ'], as_index=True).mad()"
   ]
  },
  {
   "cell_type": "code",
   "execution_count": 17,
   "metadata": {
    "scrolled": false
   },
   "outputs": [],
   "source": [
    "#df_mad.head(10)"
   ]
  },
  {
   "cell_type": "code",
   "execution_count": 18,
   "metadata": {},
   "outputs": [],
   "source": [
    "df_elements.reset_index(inplace=True)\n",
    "df_elements.set_index(['ยี่ห้อ','ลำดับ'],inplace=True)"
   ]
  },
  {
   "cell_type": "code",
   "execution_count": 19,
   "metadata": {},
   "outputs": [],
   "source": [
    "# (Original - min) / (max-min)\n",
    "df_norm = (df_elements.sort_values(['ยี่ห้อ','ลำดับ'],ascending=True).groupby('ยี่ห้อ').head(50)-df_min)/(df_max-df_min)"
   ]
  },
  {
   "cell_type": "code",
   "execution_count": 20,
   "metadata": {},
   "outputs": [],
   "source": [
    "df_norm.reset_index(inplace=True)\n",
    "df_norm.set_index(['ยี่ห้อ','ลำดับ'],inplace=True)"
   ]
  },
  {
   "cell_type": "code",
   "execution_count": 21,
   "metadata": {},
   "outputs": [],
   "source": [
    "df_only_elements = pd.concat([df_brands,df_norm], axis=1,join='inner').reset_index('ยี่ห้อ',drop=True)"
   ]
  },
  {
   "cell_type": "code",
   "execution_count": 54,
   "metadata": {},
   "outputs": [
    {
     "data": {
      "text/html": [
       "<div>\n",
       "<style scoped>\n",
       "    .dataframe tbody tr th:only-of-type {\n",
       "        vertical-align: middle;\n",
       "    }\n",
       "\n",
       "    .dataframe tbody tr th {\n",
       "        vertical-align: top;\n",
       "    }\n",
       "\n",
       "    .dataframe thead th {\n",
       "        text-align: right;\n",
       "    }\n",
       "</style>\n",
       "<table border=\"1\" class=\"dataframe\">\n",
       "  <thead>\n",
       "    <tr style=\"text-align: right;\">\n",
       "      <th></th>\n",
       "      <th>เมจิ</th>\n",
       "      <th>ดัชมิลล์</th>\n",
       "      <th>โฟร์โมสต์</th>\n",
       "      <th>แดรี่โฮม</th>\n",
       "      <th>โชคชัย</th>\n",
       "      <th>เอ็มมิลค์</th>\n",
       "      <th>ไทยเดนมาร์ค</th>\n",
       "      <th>ทำให้สูง</th>\n",
       "      <th>อิ่มท้อง</th>\n",
       "      <th>เสริมกระดูก</th>\n",
       "      <th>...</th>\n",
       "      <th>ราคาคุ้มค่าเมื่อเทียบคุณค่าทางอาหาร</th>\n",
       "      <th>ราคาคุ้มค่าเมื่อเทียบปริมาณ</th>\n",
       "      <th>ผสมนมผง</th>\n",
       "      <th>ลูกไม่ยอมกินนม</th>\n",
       "      <th>เพิ่มความสูง</th>\n",
       "      <th>เพิ่มน้ำหนัก</th>\n",
       "      <th>ย่อยยาก ท้องอืด</th>\n",
       "      <th>พกพาง่าย</th>\n",
       "      <th>อายุเก็บรักษาสั้น</th>\n",
       "      <th>โรคกระเพาะ</th>\n",
       "    </tr>\n",
       "    <tr>\n",
       "      <th>ลำดับ</th>\n",
       "      <th></th>\n",
       "      <th></th>\n",
       "      <th></th>\n",
       "      <th></th>\n",
       "      <th></th>\n",
       "      <th></th>\n",
       "      <th></th>\n",
       "      <th></th>\n",
       "      <th></th>\n",
       "      <th></th>\n",
       "      <th></th>\n",
       "      <th></th>\n",
       "      <th></th>\n",
       "      <th></th>\n",
       "      <th></th>\n",
       "      <th></th>\n",
       "      <th></th>\n",
       "      <th></th>\n",
       "      <th></th>\n",
       "      <th></th>\n",
       "      <th></th>\n",
       "    </tr>\n",
       "  </thead>\n",
       "  <tbody>\n",
       "    <tr>\n",
       "      <th>A01</th>\n",
       "      <td>1</td>\n",
       "      <td>0</td>\n",
       "      <td>0</td>\n",
       "      <td>0</td>\n",
       "      <td>0</td>\n",
       "      <td>0</td>\n",
       "      <td>0</td>\n",
       "      <td>0.333333</td>\n",
       "      <td>0.333333</td>\n",
       "      <td>1.0</td>\n",
       "      <td>...</td>\n",
       "      <td>0.666667</td>\n",
       "      <td>0.666667</td>\n",
       "      <td>0.0</td>\n",
       "      <td>0.0</td>\n",
       "      <td>0.0</td>\n",
       "      <td>0.0</td>\n",
       "      <td>0.0</td>\n",
       "      <td>0.0</td>\n",
       "      <td>0.0</td>\n",
       "      <td>0.0</td>\n",
       "    </tr>\n",
       "    <tr>\n",
       "      <th>A01</th>\n",
       "      <td>0</td>\n",
       "      <td>1</td>\n",
       "      <td>0</td>\n",
       "      <td>0</td>\n",
       "      <td>0</td>\n",
       "      <td>0</td>\n",
       "      <td>0</td>\n",
       "      <td>0.666667</td>\n",
       "      <td>0.666667</td>\n",
       "      <td>1.0</td>\n",
       "      <td>...</td>\n",
       "      <td>1.000000</td>\n",
       "      <td>1.000000</td>\n",
       "      <td>0.0</td>\n",
       "      <td>0.0</td>\n",
       "      <td>0.0</td>\n",
       "      <td>0.0</td>\n",
       "      <td>0.0</td>\n",
       "      <td>0.0</td>\n",
       "      <td>0.0</td>\n",
       "      <td>0.0</td>\n",
       "    </tr>\n",
       "    <tr>\n",
       "      <th>A01</th>\n",
       "      <td>0</td>\n",
       "      <td>0</td>\n",
       "      <td>1</td>\n",
       "      <td>0</td>\n",
       "      <td>0</td>\n",
       "      <td>0</td>\n",
       "      <td>0</td>\n",
       "      <td>1.000000</td>\n",
       "      <td>1.000000</td>\n",
       "      <td>1.0</td>\n",
       "      <td>...</td>\n",
       "      <td>0.666667</td>\n",
       "      <td>0.333333</td>\n",
       "      <td>0.0</td>\n",
       "      <td>0.0</td>\n",
       "      <td>0.0</td>\n",
       "      <td>0.0</td>\n",
       "      <td>0.0</td>\n",
       "      <td>0.0</td>\n",
       "      <td>0.0</td>\n",
       "      <td>0.0</td>\n",
       "    </tr>\n",
       "    <tr>\n",
       "      <th>A01</th>\n",
       "      <td>0</td>\n",
       "      <td>0</td>\n",
       "      <td>0</td>\n",
       "      <td>1</td>\n",
       "      <td>0</td>\n",
       "      <td>0</td>\n",
       "      <td>0</td>\n",
       "      <td>0.333333</td>\n",
       "      <td>1.000000</td>\n",
       "      <td>1.0</td>\n",
       "      <td>...</td>\n",
       "      <td>0.666667</td>\n",
       "      <td>0.666667</td>\n",
       "      <td>0.0</td>\n",
       "      <td>0.0</td>\n",
       "      <td>0.0</td>\n",
       "      <td>0.0</td>\n",
       "      <td>0.0</td>\n",
       "      <td>0.0</td>\n",
       "      <td>0.0</td>\n",
       "      <td>0.0</td>\n",
       "    </tr>\n",
       "    <tr>\n",
       "      <th>A01</th>\n",
       "      <td>0</td>\n",
       "      <td>0</td>\n",
       "      <td>0</td>\n",
       "      <td>0</td>\n",
       "      <td>1</td>\n",
       "      <td>0</td>\n",
       "      <td>0</td>\n",
       "      <td>1.000000</td>\n",
       "      <td>1.000000</td>\n",
       "      <td>1.0</td>\n",
       "      <td>...</td>\n",
       "      <td>1.000000</td>\n",
       "      <td>0.666667</td>\n",
       "      <td>0.0</td>\n",
       "      <td>0.0</td>\n",
       "      <td>0.0</td>\n",
       "      <td>0.0</td>\n",
       "      <td>0.0</td>\n",
       "      <td>0.0</td>\n",
       "      <td>0.0</td>\n",
       "      <td>0.0</td>\n",
       "    </tr>\n",
       "  </tbody>\n",
       "</table>\n",
       "<p>5 rows × 57 columns</p>\n",
       "</div>"
      ],
      "text/plain": [
       "       เมจิ  ดัชมิลล์  โฟร์โมสต์  แดรี่โฮม  โชคชัย  เอ็มมิลค์  ไทยเดนมาร์ค  \\\n",
       "ลำดับ                                                                        \n",
       "A01       1         0          0         0       0          0            0   \n",
       "A01       0         1          0         0       0          0            0   \n",
       "A01       0         0          1         0       0          0            0   \n",
       "A01       0         0          0         1       0          0            0   \n",
       "A01       0         0          0         0       1          0            0   \n",
       "\n",
       "       ทำให้สูง  อิ่มท้อง  เสริมกระดูก  ...  \\\n",
       "ลำดับ                                   ...   \n",
       "A01    0.333333  0.333333          1.0  ...   \n",
       "A01    0.666667  0.666667          1.0  ...   \n",
       "A01    1.000000  1.000000          1.0  ...   \n",
       "A01    0.333333  1.000000          1.0  ...   \n",
       "A01    1.000000  1.000000          1.0  ...   \n",
       "\n",
       "       ราคาคุ้มค่าเมื่อเทียบคุณค่าทางอาหาร  ราคาคุ้มค่าเมื่อเทียบปริมาณ  \\\n",
       "ลำดับ                                                                     \n",
       "A01                               0.666667                     0.666667   \n",
       "A01                               1.000000                     1.000000   \n",
       "A01                               0.666667                     0.333333   \n",
       "A01                               0.666667                     0.666667   \n",
       "A01                               1.000000                     0.666667   \n",
       "\n",
       "       ผสมนมผง  ลูกไม่ยอมกินนม  เพิ่มความสูง  เพิ่มน้ำหนัก  ย่อยยาก ท้องอืด  \\\n",
       "ลำดับ                                                                         \n",
       "A01        0.0             0.0           0.0           0.0              0.0   \n",
       "A01        0.0             0.0           0.0           0.0              0.0   \n",
       "A01        0.0             0.0           0.0           0.0              0.0   \n",
       "A01        0.0             0.0           0.0           0.0              0.0   \n",
       "A01        0.0             0.0           0.0           0.0              0.0   \n",
       "\n",
       "       พกพาง่าย  อายุเก็บรักษาสั้น  โรคกระเพาะ  \n",
       "ลำดับ                                           \n",
       "A01         0.0                0.0         0.0  \n",
       "A01         0.0                0.0         0.0  \n",
       "A01         0.0                0.0         0.0  \n",
       "A01         0.0                0.0         0.0  \n",
       "A01         0.0                0.0         0.0  \n",
       "\n",
       "[5 rows x 57 columns]"
      ]
     },
     "execution_count": 54,
     "metadata": {},
     "output_type": "execute_result"
    }
   ],
   "source": [
    "df_only_elements.head()"
   ]
  },
  {
   "cell_type": "markdown",
   "metadata": {},
   "source": [
    "### Internal Reliability check (split-half)"
   ]
  },
  {
   "cell_type": "code",
   "execution_count": 55,
   "metadata": {
    "scrolled": false
   },
   "outputs": [],
   "source": [
    "df_reli_test = df_only_elements.reset_index()"
   ]
  },
  {
   "cell_type": "code",
   "execution_count": 60,
   "metadata": {},
   "outputs": [],
   "source": [
    "df_splitHalf_1 = df_reli_test.sample(frac=(1/2))\n",
    "df_splitHalf_2 = df_reli_test.drop(df_splitHalf_1.index)"
   ]
  },
  {
   "cell_type": "markdown",
   "metadata": {},
   "source": [
    "### Jaccard Similarity converter "
   ]
  },
  {
   "cell_type": "code",
   "execution_count": 24,
   "metadata": {},
   "outputs": [],
   "source": [
    "def jaccard_precompute(df_b, df_elem , bi, bj, ek):\n",
    "    brand1 = df_elem[df_elem[df_b[bi]]>0].drop(labels=df_b,axis=1)\n",
    "    brand2 = df_elem[df_elem[df_b[bj]]>0].drop(labels=df_b,axis=1)\n",
    "    slice_df = pd.concat([brand1.iloc[:,ek], brand2.iloc[:,ek]], axis=1, join=\"inner\")\n",
    "    a_in_b = slice_df[(slice_df.iloc[:,0]==slice_df.iloc[:,1])].shape[0]\n",
    "    a_occur = slice_df.iloc[:,0].shape[0]\n",
    "    b_occur = slice_df.iloc[:,1].shape[0]\n",
    "    jacc_index = a_in_b/(a_occur+b_occur-a_in_b)\n",
    "    return jacc_index"
   ]
  },
  {
   "cell_type": "code",
   "execution_count": 25,
   "metadata": {},
   "outputs": [],
   "source": [
    "# Co-occurrence dissimilarity (distance = 1-index) ใช้กับ MDS (อย่าใช้ similarity)\n",
    "def gen_precomputed_Distance_matrix(df_b, df_attr):\n",
    "    precomputed_matrix = pd.DataFrame(index=df_b,columns=df_b).fillna(0)\n",
    "    \n",
    "    jacc = pd.DataFrame(columns=df_attr.drop(labels=df_b,axis=1).columns)\n",
    "    jacc = jacc.append(pd.Series([],dtype='float64'), ignore_index=True).fillna(0.0)\n",
    "    \n",
    "    for i in range(0,len(precomputed_matrix.columns)):\n",
    "        for j in range(0,len(precomputed_matrix.columns)):\n",
    "            #print(i,j)\n",
    "            for k in range(0,len(df_attr.drop(labels=df_b,axis=1).columns)): # 0 to 57\n",
    "                try:\n",
    "                    jacc.iloc[0,k] = 1-jaccard_precompute(df_b, df_attr,i, j, k)\n",
    "                except Exception:\n",
    "                    jacc.iloc[0,k] = None\n",
    "                    continue\n",
    "            precomputed_matrix.iloc[i,j] = jacc.mean(axis=1)[0]\n",
    "            jacc = jacc.iloc[0:0].append(pd.Series([],dtype='float64'), ignore_index=True).fillna(0.0)\n",
    "    return precomputed_matrix"
   ]
  },
  {
   "cell_type": "code",
   "execution_count": 26,
   "metadata": {
    "scrolled": true
   },
   "outputs": [],
   "source": [
    "#jacc_cooc_matrix = gen_precomputed_matrix(brands, df_only_elements)\n",
    "jacc_dist_matrix = gen_precomputed_Distance_matrix(brands, df_only_elements)"
   ]
  },
  {
   "cell_type": "code",
   "execution_count": 27,
   "metadata": {},
   "outputs": [
    {
     "data": {
      "text/html": [
       "<div>\n",
       "<style scoped>\n",
       "    .dataframe tbody tr th:only-of-type {\n",
       "        vertical-align: middle;\n",
       "    }\n",
       "\n",
       "    .dataframe tbody tr th {\n",
       "        vertical-align: top;\n",
       "    }\n",
       "\n",
       "    .dataframe thead th {\n",
       "        text-align: right;\n",
       "    }\n",
       "</style>\n",
       "<table border=\"1\" class=\"dataframe\">\n",
       "  <thead>\n",
       "    <tr style=\"text-align: right;\">\n",
       "      <th></th>\n",
       "      <th>เมจิ</th>\n",
       "      <th>ดัชมิลล์</th>\n",
       "      <th>โฟร์โมสต์</th>\n",
       "      <th>แดรี่โฮม</th>\n",
       "      <th>โชคชัย</th>\n",
       "      <th>เอ็มมิลค์</th>\n",
       "      <th>ไทยเดนมาร์ค</th>\n",
       "    </tr>\n",
       "  </thead>\n",
       "  <tbody>\n",
       "    <tr>\n",
       "      <th>เมจิ</th>\n",
       "      <td>0.000000</td>\n",
       "      <td>0.203588</td>\n",
       "      <td>0.240660</td>\n",
       "      <td>0.456619</td>\n",
       "      <td>0.345406</td>\n",
       "      <td>0.441060</td>\n",
       "      <td>0.322663</td>\n",
       "    </tr>\n",
       "    <tr>\n",
       "      <th>ดัชมิลล์</th>\n",
       "      <td>0.203588</td>\n",
       "      <td>0.000000</td>\n",
       "      <td>0.182184</td>\n",
       "      <td>0.440439</td>\n",
       "      <td>0.325419</td>\n",
       "      <td>0.477393</td>\n",
       "      <td>0.327771</td>\n",
       "    </tr>\n",
       "    <tr>\n",
       "      <th>โฟร์โมสต์</th>\n",
       "      <td>0.240660</td>\n",
       "      <td>0.182184</td>\n",
       "      <td>0.000000</td>\n",
       "      <td>0.472340</td>\n",
       "      <td>0.327422</td>\n",
       "      <td>0.470493</td>\n",
       "      <td>0.312053</td>\n",
       "    </tr>\n",
       "    <tr>\n",
       "      <th>แดรี่โฮม</th>\n",
       "      <td>0.456619</td>\n",
       "      <td>0.440439</td>\n",
       "      <td>0.472340</td>\n",
       "      <td>0.000000</td>\n",
       "      <td>0.265785</td>\n",
       "      <td>0.337279</td>\n",
       "      <td>0.400265</td>\n",
       "    </tr>\n",
       "    <tr>\n",
       "      <th>โชคชัย</th>\n",
       "      <td>0.345406</td>\n",
       "      <td>0.325419</td>\n",
       "      <td>0.327422</td>\n",
       "      <td>0.265785</td>\n",
       "      <td>0.000000</td>\n",
       "      <td>0.339188</td>\n",
       "      <td>0.233218</td>\n",
       "    </tr>\n",
       "    <tr>\n",
       "      <th>เอ็มมิลค์</th>\n",
       "      <td>0.441060</td>\n",
       "      <td>0.477393</td>\n",
       "      <td>0.470493</td>\n",
       "      <td>0.337279</td>\n",
       "      <td>0.339188</td>\n",
       "      <td>0.000000</td>\n",
       "      <td>0.406385</td>\n",
       "    </tr>\n",
       "    <tr>\n",
       "      <th>ไทยเดนมาร์ค</th>\n",
       "      <td>0.322663</td>\n",
       "      <td>0.327771</td>\n",
       "      <td>0.312053</td>\n",
       "      <td>0.400265</td>\n",
       "      <td>0.233218</td>\n",
       "      <td>0.406385</td>\n",
       "      <td>0.000000</td>\n",
       "    </tr>\n",
       "  </tbody>\n",
       "</table>\n",
       "</div>"
      ],
      "text/plain": [
       "                 เมจิ  ดัชมิลล์  โฟร์โมสต์  แดรี่โฮม    โชคชัย  เอ็มมิลค์  \\\n",
       "เมจิ         0.000000  0.203588   0.240660  0.456619  0.345406   0.441060   \n",
       "ดัชมิลล์     0.203588  0.000000   0.182184  0.440439  0.325419   0.477393   \n",
       "โฟร์โมสต์    0.240660  0.182184   0.000000  0.472340  0.327422   0.470493   \n",
       "แดรี่โฮม     0.456619  0.440439   0.472340  0.000000  0.265785   0.337279   \n",
       "โชคชัย       0.345406  0.325419   0.327422  0.265785  0.000000   0.339188   \n",
       "เอ็มมิลค์    0.441060  0.477393   0.470493  0.337279  0.339188   0.000000   \n",
       "ไทยเดนมาร์ค  0.322663  0.327771   0.312053  0.400265  0.233218   0.406385   \n",
       "\n",
       "             ไทยเดนมาร์ค  \n",
       "เมจิ            0.322663  \n",
       "ดัชมิลล์        0.327771  \n",
       "โฟร์โมสต์       0.312053  \n",
       "แดรี่โฮม        0.400265  \n",
       "โชคชัย          0.233218  \n",
       "เอ็มมิลค์       0.406385  \n",
       "ไทยเดนมาร์ค     0.000000  "
      ]
     },
     "execution_count": 27,
     "metadata": {},
     "output_type": "execute_result"
    }
   ],
   "source": [
    "jacc_dist_matrix"
   ]
  },
  {
   "cell_type": "code",
   "execution_count": 28,
   "metadata": {},
   "outputs": [],
   "source": [
    "jacc_dist_matrix.to_excel(root_output_path+\"/cooc_questionaire.xlsx\")"
   ]
  },
  {
   "cell_type": "code",
   "execution_count": 66,
   "metadata": {},
   "outputs": [],
   "source": [
    "# Spit-Half for test\n",
    "df_splitHalf_1.set_index(['ลำดับ'],inplace=True)\n",
    "df_splitHalf_2.set_index(['ลำดับ'],inplace=True)\n",
    "jacc_dist_splt1_matrix = gen_precomputed_Distance_matrix(brands, df_splitHalf_1)\n",
    "jacc_dist_splt2_matrix = gen_precomputed_Distance_matrix(brands, df_splitHalf_2)\n",
    "jacc_dist_splt1_matrix.to_excel(root_output_path+\"/cooc_splitHalf1_questionaire.xlsx\")\n",
    "jacc_dist_splt2_matrix.to_excel(root_output_path+\"/cooc_splitHalf2_questionaire.xlsx\")"
   ]
  },
  {
   "cell_type": "markdown",
   "metadata": {},
   "source": [
    "#### Jaccard from NLP"
   ]
  },
  {
   "cell_type": "code",
   "execution_count": 30,
   "metadata": {},
   "outputs": [],
   "source": [
    "def jaccard_precompute_nlp(df_b, df_attr , i, j, k):\n",
    "    brand1 = pd.DataFrame(df_b.iloc[:,i])\n",
    "    brand2 = pd.DataFrame(df_b.iloc[:,j])\n",
    "    attr = pd.DataFrame(df_attr.iloc[:,k])\n",
    "    slice_df = pd.concat([brand1, attr, brand2], axis=1, join=\"inner\")\n",
    "    a_in_b = slice_df[(slice_df.iloc[:,0]>0)&(slice_df.iloc[:,1]>0)&(slice_df.iloc[:,2]>0)]\n",
    "    a_occur = slice_df[(slice_df.iloc[:,0]>0)&(slice_df.iloc[:,1]>0)]\n",
    "    b_occur = slice_df[(slice_df.iloc[:,2]>0)&(slice_df.iloc[:,1]>0)]\n",
    "    jacc_index = a_in_b.shape[0]/(a_occur.shape[0]+b_occur.shape[0]-a_in_b.shape[0])\n",
    "    return jacc_index"
   ]
  },
  {
   "cell_type": "code",
   "execution_count": 31,
   "metadata": {},
   "outputs": [],
   "source": [
    "# Co-occurrence dissimilarity (distance = 1-index) ใช้กับ MDS (อย่าใช้ similarity)\n",
    "def gen_precomputed_matrix_nlp(df_b, df_attr):\n",
    "    precomputed_matrix = pd.DataFrame(index=df_b.columns,columns=df_b.columns).fillna(0)\n",
    "    \n",
    "    jacc = pd.DataFrame(columns=df_attr.columns)\n",
    "    jacc = jacc.append(pd.Series([],dtype='float64'), ignore_index=True).fillna(0.0)\n",
    "    \n",
    "    for i in range(0,len(precomputed_matrix.columns)):\n",
    "        for j in range(0,len(precomputed_matrix.columns)):\n",
    "            for k in range(0,len(df_attr.columns)): # 0 to 329\n",
    "                try:\n",
    "                    jacc.iloc[0,k] = 1-jaccard_precompute_nlp(df_b, df_attr,i, j, k)\n",
    "                except Exception:\n",
    "                    jacc.iloc[0,k] = None\n",
    "                    continue\n",
    "            precomputed_matrix.iloc[i,j] = jacc.mean(axis=1)[0]\n",
    "            jacc = jacc.iloc[0:0].append(pd.Series([],dtype='float64'), ignore_index=True).fillna(0.0)\n",
    "    return precomputed_matrix"
   ]
  },
  {
   "cell_type": "code",
   "execution_count": 32,
   "metadata": {},
   "outputs": [],
   "source": [
    "matrix_freq_brand = cooc_matrix_bow[brands2]\n",
    "matrix_freq_unbrand = cooc_matrix_bow.drop(labels=brands2,axis=1,inplace=False)"
   ]
  },
  {
   "cell_type": "code",
   "execution_count": 33,
   "metadata": {},
   "outputs": [],
   "source": [
    "precomMat_promotion = gen_precomputed_matrix_nlp(matrix_freq_brand, matrix_freq_unbrand)"
   ]
  },
  {
   "cell_type": "code",
   "execution_count": 34,
   "metadata": {},
   "outputs": [
    {
     "data": {
      "text/html": [
       "<div>\n",
       "<style scoped>\n",
       "    .dataframe tbody tr th:only-of-type {\n",
       "        vertical-align: middle;\n",
       "    }\n",
       "\n",
       "    .dataframe tbody tr th {\n",
       "        vertical-align: top;\n",
       "    }\n",
       "\n",
       "    .dataframe thead th {\n",
       "        text-align: right;\n",
       "    }\n",
       "</style>\n",
       "<table border=\"1\" class=\"dataframe\">\n",
       "  <thead>\n",
       "    <tr style=\"text-align: right;\">\n",
       "      <th></th>\n",
       "      <th>ซีพีเมจิ</th>\n",
       "      <th>ดัชมิลล์</th>\n",
       "      <th>โฟร์โมสต์</th>\n",
       "      <th>แดรี่โฮม</th>\n",
       "      <th>โชคชัย</th>\n",
       "      <th>เอ็มมิลค์</th>\n",
       "      <th>ไทยเดนมาร์ค</th>\n",
       "    </tr>\n",
       "  </thead>\n",
       "  <tbody>\n",
       "    <tr>\n",
       "      <th>ซีพีเมจิ</th>\n",
       "      <td>0.000000</td>\n",
       "      <td>0.842873</td>\n",
       "      <td>0.906469</td>\n",
       "      <td>0.991750</td>\n",
       "      <td>0.968150</td>\n",
       "      <td>0.938708</td>\n",
       "      <td>0.947073</td>\n",
       "    </tr>\n",
       "    <tr>\n",
       "      <th>ดัชมิลล์</th>\n",
       "      <td>0.842873</td>\n",
       "      <td>0.000000</td>\n",
       "      <td>0.826762</td>\n",
       "      <td>0.985919</td>\n",
       "      <td>0.936825</td>\n",
       "      <td>0.943633</td>\n",
       "      <td>0.845867</td>\n",
       "    </tr>\n",
       "    <tr>\n",
       "      <th>โฟร์โมสต์</th>\n",
       "      <td>0.906469</td>\n",
       "      <td>0.826762</td>\n",
       "      <td>0.000000</td>\n",
       "      <td>0.998290</td>\n",
       "      <td>0.955710</td>\n",
       "      <td>0.996962</td>\n",
       "      <td>0.861778</td>\n",
       "    </tr>\n",
       "    <tr>\n",
       "      <th>แดรี่โฮม</th>\n",
       "      <td>0.991750</td>\n",
       "      <td>0.985919</td>\n",
       "      <td>0.998290</td>\n",
       "      <td>0.000000</td>\n",
       "      <td>0.964182</td>\n",
       "      <td>0.974465</td>\n",
       "      <td>0.985015</td>\n",
       "    </tr>\n",
       "    <tr>\n",
       "      <th>โชคชัย</th>\n",
       "      <td>0.968150</td>\n",
       "      <td>0.936825</td>\n",
       "      <td>0.955710</td>\n",
       "      <td>0.964182</td>\n",
       "      <td>0.000000</td>\n",
       "      <td>0.956210</td>\n",
       "      <td>0.960781</td>\n",
       "    </tr>\n",
       "    <tr>\n",
       "      <th>เอ็มมิลค์</th>\n",
       "      <td>0.938708</td>\n",
       "      <td>0.943633</td>\n",
       "      <td>0.996962</td>\n",
       "      <td>0.974465</td>\n",
       "      <td>0.956210</td>\n",
       "      <td>0.000000</td>\n",
       "      <td>1.000000</td>\n",
       "    </tr>\n",
       "    <tr>\n",
       "      <th>ไทยเดนมาร์ค</th>\n",
       "      <td>0.947073</td>\n",
       "      <td>0.845867</td>\n",
       "      <td>0.861778</td>\n",
       "      <td>0.985015</td>\n",
       "      <td>0.960781</td>\n",
       "      <td>1.000000</td>\n",
       "      <td>0.000000</td>\n",
       "    </tr>\n",
       "  </tbody>\n",
       "</table>\n",
       "</div>"
      ],
      "text/plain": [
       "             ซีพีเมจิ  ดัชมิลล์  โฟร์โมสต์  แดรี่โฮม    โชคชัย  เอ็มมิลค์  \\\n",
       "ซีพีเมจิ     0.000000  0.842873   0.906469  0.991750  0.968150   0.938708   \n",
       "ดัชมิลล์     0.842873  0.000000   0.826762  0.985919  0.936825   0.943633   \n",
       "โฟร์โมสต์    0.906469  0.826762   0.000000  0.998290  0.955710   0.996962   \n",
       "แดรี่โฮม     0.991750  0.985919   0.998290  0.000000  0.964182   0.974465   \n",
       "โชคชัย       0.968150  0.936825   0.955710  0.964182  0.000000   0.956210   \n",
       "เอ็มมิลค์    0.938708  0.943633   0.996962  0.974465  0.956210   0.000000   \n",
       "ไทยเดนมาร์ค  0.947073  0.845867   0.861778  0.985015  0.960781   1.000000   \n",
       "\n",
       "             ไทยเดนมาร์ค  \n",
       "ซีพีเมจิ        0.947073  \n",
       "ดัชมิลล์        0.845867  \n",
       "โฟร์โมสต์       0.861778  \n",
       "แดรี่โฮม        0.985015  \n",
       "โชคชัย          0.960781  \n",
       "เอ็มมิลค์       1.000000  \n",
       "ไทยเดนมาร์ค     0.000000  "
      ]
     },
     "execution_count": 34,
     "metadata": {},
     "output_type": "execute_result"
    }
   ],
   "source": [
    "precomMat_promotion"
   ]
  },
  {
   "cell_type": "code",
   "execution_count": 35,
   "metadata": {},
   "outputs": [],
   "source": [
    "precomMat_promotion.to_excel(root_output_path+\"/cooc_nlp_crossValid.xlsx\")"
   ]
  },
  {
   "cell_type": "markdown",
   "metadata": {},
   "source": [
    "#### Check MDS Stress: Metric multidimensional scaling (mMDS)<br>\n",
    "เหตุผลที่ใช้ Metric เพราะว่าเราใช้ Jaccard Distance สร้าง Square Matrix ทำให้ข้อมูลไม่กลายเป็น Rank"
   ]
  },
  {
   "cell_type": "code",
   "execution_count": 36,
   "metadata": {},
   "outputs": [],
   "source": [
    "# REF: https://stackoverflow.com/questions/36428205/stress-attribute-sklearn-manifold-mds-python\n",
    "# REF2: http://eric.univ-lyon2.fr/~ricco/tanagra/fichiers/fr_Tanagra_Community_Detection_MDS.pdf"
   ]
  },
  {
   "cell_type": "code",
   "execution_count": 37,
   "metadata": {},
   "outputs": [],
   "source": [
    "def create_MDS_perceptual_map(model, df, attrName):\n",
    "    fig, ax=plt.subplots(figsize=(10,5))\n",
    "    ax.set_title(f'MDS Perceptual map: {attrName}', fontsize=20)\n",
    "    plt.scatter(model.embedding_[:,0],model.embedding_[:,1])\n",
    "    labels=df.index\n",
    "    for label,x,y in zip(labels, model.embedding_[:,0],model.embedding_[:,1]):\n",
    "        plt.annotate(label,(x,y), fontsize=13)\n",
    "    plt.axhline(y=0, color='k', linestyle='-', linewidth=1)\n",
    "    plt.axvline(x=0, color='k', linestyle='-', linewidth=1)\n",
    "    plt.xlabel('PC1', fontsize=16)\n",
    "    plt.ylabel('PC2', fontsize=16)\n",
    "    plt.grid(True)\n",
    "    plt.show()"
   ]
  },
  {
   "cell_type": "code",
   "execution_count": 38,
   "metadata": {},
   "outputs": [
    {
     "data": {
      "text/plain": [
       "MDS(dissimilarity='precomputed')"
      ]
     },
     "execution_count": 38,
     "metadata": {},
     "output_type": "execute_result"
    }
   ],
   "source": [
    "mds = MDS(n_components=2, dissimilarity='precomputed', metric=True)\n",
    "mds.fit(jacc_dist_matrix)"
   ]
  },
  {
   "cell_type": "code",
   "execution_count": 39,
   "metadata": {},
   "outputs": [
    {
     "name": "stdout",
     "output_type": "stream",
     "text": [
      "sklearn stress :\n",
      "0.06428136085120113\n",
      "\n"
     ]
    }
   ],
   "source": [
    "## sklearn Stress\n",
    "print(\"sklearn stress :\")\n",
    "print(mds.stress_)\n",
    "print(\"\")"
   ]
  },
  {
   "cell_type": "code",
   "execution_count": 40,
   "metadata": {},
   "outputs": [
    {
     "data": {
      "image/png": "[encoded data removed]",
      "text/plain": [
       "<Figure size 720x360 with 1 Axes>"
      ]
     },
     "metadata": {
      "needs_background": "light"
     },
     "output_type": "display_data"
    }
   ],
   "source": [
    "create_MDS_perceptual_map(mds, jacc_dist_matrix, 'Overall')"
   ]
  },
  {
   "cell_type": "code",
   "execution_count": 41,
   "metadata": {},
   "outputs": [
    {
     "name": "stdout",
     "output_type": "stream",
     "text": [
      "Raw stress : 0.06375764212050146\n",
      "\n",
      "****จะเห็นว่าค่าใกล้เคียงกันกับ mds.stress_\n"
     ]
    }
   ],
   "source": [
    "d = euclidean_distances(mds.embedding_)\n",
    "stress = 0.5 * np.sum((jacc_dist_matrix.values - d)**2)\n",
    "print(\"Raw stress :\",stress)\n",
    "print()\n",
    "print(\"****จะเห็นว่าค่าใกล้เคียงกันกับ mds.stress_\")"
   ]
  },
  {
   "cell_type": "code",
   "execution_count": 42,
   "metadata": {},
   "outputs": [
    {
     "name": "stdout",
     "output_type": "stream",
     "text": [
      "Kruskal's Stress : 0.15486271226605605\n"
     ]
    }
   ],
   "source": [
    "## Kruskal's stress (or stress formula 1)\n",
    "stress1 = np.sqrt(np.sum((jacc_dist_matrix.values - d)**2) / np.sum(d**2))\n",
    "print(\"Kruskal's Stress :\",stress1)"
   ]
  }
 ],
 "metadata": {
  "kernelspec": {
   "display_name": "Python 3",
   "language": "python",
   "name": "python3"
  },
  "language_info": {
   "codemirror_mode": {
    "name": "ipython",
    "version": 3
   },
   "file_extension": ".py",
   "mimetype": "text/x-python",
   "name": "python",
   "nbconvert_exporter": "python",
   "pygments_lexer": "ipython3",
   "version": "3.7.3"
  }
 },
 "nbformat": 4,
 "nbformat_minor": 2
}
