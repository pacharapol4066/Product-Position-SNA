{
 "cells": [
  {
   "cell_type": "markdown",
   "metadata": {
    "id": "xoY8sy40TCb5"
   },
   "source": [
    "### IS Proof of concept\n",
    "Finding Product position on Social Network (PPSN)"
   ]
  },
  {
   "cell_type": "raw",
   "metadata": {
    "colab": {
     "base_uri": "https://localhost:8080/"
    },
    "executionInfo": {
     "elapsed": 28353,
     "status": "ok",
     "timestamp": 1604024868503,
     "user": {
      "displayName": "Pacharapol O.",
      "photoUrl": "https://lh3.googleusercontent.com/a-/AOh14GiBNaVjsCxoMVUqEvSDC7eauF0V2ZD7B-TzevR1TQ=s64",
      "userId": "00378494490135533545"
     },
     "user_tz": -420
    },
    "id": "GkBEUBUqTGuf",
    "outputId": "cb22db45-820a-48fd-c11a-a0568439778f"
   },
   "source": [
    "from google.colab import drive\n",
    "drive.mount('/content/drive')"
   ]
  },
  {
   "cell_type": "raw",
   "metadata": {
    "colab": {
     "base_uri": "https://localhost:8080/"
    },
    "executionInfo": {
     "elapsed": 1693,
     "status": "ok",
     "timestamp": 1604024868819,
     "user": {
      "displayName": "Pacharapol O.",
      "photoUrl": "https://lh3.googleusercontent.com/a-/AOh14GiBNaVjsCxoMVUqEvSDC7eauF0V2ZD7B-TzevR1TQ=s64",
      "userId": "00378494490135533545"
     },
     "user_tz": -420
    },
    "id": "_5mrzpx3TH9K",
    "outputId": "129bb192-4ac2-4b03-bc89-7ee7a65d5032"
   },
   "source": [
    "cd /content/drive/My\\ Drive/Colab\\ Notebooks/Master_PJ_DRMABS/Datasource"
   ]
  },
  {
   "cell_type": "code",
   "execution_count": 1,
   "metadata": {
    "executionInfo": {
     "elapsed": 2631,
     "status": "ok",
     "timestamp": 1604024879769,
     "user": {
      "displayName": "Pacharapol O.",
      "photoUrl": "https://lh3.googleusercontent.com/a-/AOh14GiBNaVjsCxoMVUqEvSDC7eauF0V2ZD7B-TzevR1TQ=s64",
      "userId": "00378494490135533545"
     },
     "user_tz": -420
    },
    "id": "cC0cBdCdTCb6"
   },
   "outputs": [],
   "source": [
    "import networkx as nx\n",
    "import numpy as np\n",
    "import pandas as pd\n",
    "import itertools\n",
    "import math\n",
    "import string\n",
    "import json\n",
    "import pymongo"
   ]
  },
  {
   "cell_type": "code",
   "execution_count": 2,
   "metadata": {
    "executionInfo": {
     "elapsed": 2031,
     "status": "ok",
     "timestamp": 1604024879770,
     "user": {
      "displayName": "Pacharapol O.",
      "photoUrl": "https://lh3.googleusercontent.com/a-/AOh14GiBNaVjsCxoMVUqEvSDC7eauF0V2ZD7B-TzevR1TQ=s64",
      "userId": "00378494490135533545"
     },
     "user_tz": -420
    },
    "id": "1kqXURiiTCb-"
   },
   "outputs": [],
   "source": [
    "import time\n",
    "from datetime import datetime\n",
    "today = datetime.now()"
   ]
  },
  {
   "cell_type": "code",
   "execution_count": 3,
   "metadata": {
    "colab": {
     "base_uri": "https://localhost:8080/"
    },
    "executionInfo": {
     "elapsed": 3451,
     "status": "ok",
     "timestamp": 1604028167896,
     "user": {
      "displayName": "Pacharapol O.",
      "photoUrl": "https://lh3.googleusercontent.com/a-/AOh14GiBNaVjsCxoMVUqEvSDC7eauF0V2ZD7B-TzevR1TQ=s64",
      "userId": "00378494490135533545"
     },
     "user_tz": -420
    },
    "id": "weEcXSD8TCcI",
    "outputId": "1219680e-0d54-4649-a26e-535e112f0650"
   },
   "outputs": [],
   "source": [
    "#!pip install pythainlp\n",
    "import pythainlp\n",
    "from pythainlp import Tokenizer\n",
    "from pythainlp.util import normalize\n",
    "from pythainlp.tokenize import word_tokenize\n",
    "from pythainlp.corpus.common import thai_words\n",
    "from pythainlp import sent_tokenize\n",
    "from pythainlp.corpus import thai_stopwords\n",
    "from pythainlp.util import dict_trie\n",
    "from pythainlp.tag import pos_tag"
   ]
  },
  {
   "cell_type": "code",
   "execution_count": 4,
   "metadata": {},
   "outputs": [],
   "source": [
    "import statistics as stat\n",
    "import matplotlib.pyplot as plt\n",
    "import seaborn as sns"
   ]
  },
  {
   "cell_type": "code",
   "execution_count": 5,
   "metadata": {
    "id": "Jpa16DrfTCeL"
   },
   "outputs": [],
   "source": [
    "# https://thainlp.org/pythainlp/docs/2.0/api/tag.html\n",
    "from pythainlp.spell import correct\n",
    "from pythainlp.tag import pos_tag\n",
    "\n",
    "#https://thainlp.org/pythainlp/docs/2.0/api/transliterate.html\n",
    "from pythainlp.transliterate import romanize"
   ]
  },
  {
   "cell_type": "code",
   "execution_count": 6,
   "metadata": {
    "executionInfo": {
     "elapsed": 6121,
     "status": "ok",
     "timestamp": 1604024888335,
     "user": {
      "displayName": "Pacharapol O.",
      "photoUrl": "https://lh3.googleusercontent.com/a-/AOh14GiBNaVjsCxoMVUqEvSDC7eauF0V2ZD7B-TzevR1TQ=s64",
      "userId": "00378494490135533545"
     },
     "user_tz": -420
    },
    "id": "acWWFhczTCcO"
   },
   "outputs": [],
   "source": [
    "from bs4 import BeautifulSoup\n",
    "from urllib.request import urlopen"
   ]
  },
  {
   "cell_type": "code",
   "execution_count": 7,
   "metadata": {
    "executionInfo": {
     "elapsed": 5596,
     "status": "ok",
     "timestamp": 1604024888336,
     "user": {
      "displayName": "Pacharapol O.",
      "photoUrl": "https://lh3.googleusercontent.com/a-/AOh14GiBNaVjsCxoMVUqEvSDC7eauF0V2ZD7B-TzevR1TQ=s64",
      "userId": "00378494490135533545"
     },
     "user_tz": -420
    },
    "id": "l0SZe4-LTCcd"
   },
   "outputs": [],
   "source": [
    "from IPython.display import clear_output"
   ]
  },
  {
   "cell_type": "code",
   "execution_count": 8,
   "metadata": {
    "executionInfo": {
     "elapsed": 831,
     "status": "ok",
     "timestamp": 1604027698593,
     "user": {
      "displayName": "Pacharapol O.",
      "photoUrl": "https://lh3.googleusercontent.com/a-/AOh14GiBNaVjsCxoMVUqEvSDC7eauF0V2ZD7B-TzevR1TQ=s64",
      "userId": "00378494490135533545"
     },
     "user_tz": -420
    },
    "id": "sna_e7nATCch"
   },
   "outputs": [],
   "source": [
    "# Files definition\n",
    "root_path = 'Datasource'\n",
    "\n",
    "comment_file = []\n",
    "comment_file.append(root_path+\"/comment_meiji.csv\")\n",
    "comment_file.append(root_path+\"/comment_DDCF.csv\")\n",
    "\n",
    "#comment_file = []\n",
    "#comment_file.append(\"comment_meiji.csv\")\n",
    "#comment_file.append(\"comment_DDCF.csv\")\n",
    "\n",
    "comment_nlp_file = root_path+\"/comment_nlpToken.csv\"\n",
    "comment_cooc_nlp_file = root_path+\"/comment_cooc.xlsx\"\n",
    "\n",
    "#comment_nlp_file = \"comment_nlpToken.csv\"\n",
    "#comment_cooc_nlp_file = \"comment_cooc.xlsx\""
   ]
  },
  {
   "cell_type": "code",
   "execution_count": 9,
   "metadata": {},
   "outputs": [],
   "source": [
    "# Connect MongoDB\n",
    "myclient = pymongo.MongoClient(\"mongodb://localhost:27017/\")\n",
    "mydb = myclient[\"NIDA_PPSN\"]\n",
    "mycol = mydb[\"NIDA_PPSN_THREAD\"]\n",
    "ppsn_w = mydb[\"NIDA_PPSN_WORD\"]\n",
    "\n",
    "eda_w_th = mydb[\"NIDA_PPSN_EDA_W_TH\"]\n",
    "eda_w_en = mydb[\"NIDA_PPSN_EDA_W_EN\"]"
   ]
  },
  {
   "cell_type": "code",
   "execution_count": 10,
   "metadata": {
    "executionInfo": {
     "elapsed": 991,
     "status": "ok",
     "timestamp": 1604029757277,
     "user": {
      "displayName": "Pacharapol O.",
      "photoUrl": "https://lh3.googleusercontent.com/a-/AOh14GiBNaVjsCxoMVUqEvSDC7eauF0V2ZD7B-TzevR1TQ=s64",
      "userId": "00378494490135533545"
     },
     "user_tz": -420
    },
    "id": "Ga5QS0o0TCdo"
   },
   "outputs": [],
   "source": [
    "def checkPunc(wtkn):\n",
    "    newList,cnt = [],0\n",
    "    for word in wtkn:\n",
    "        for char in word:\n",
    "            if char in set(string.punctuation):\n",
    "                cnt = cnt + 1\n",
    "        if cnt == 0:\n",
    "            newList.append(word)\n",
    "        cnt = 0\n",
    "    return newList"
   ]
  },
  {
   "cell_type": "code",
   "execution_count": 11,
   "metadata": {
    "executionInfo": {
     "elapsed": 866,
     "status": "ok",
     "timestamp": 1604028004964,
     "user": {
      "displayName": "Pacharapol O.",
      "photoUrl": "https://lh3.googleusercontent.com/a-/AOh14GiBNaVjsCxoMVUqEvSDC7eauF0V2ZD7B-TzevR1TQ=s64",
      "userId": "00378494490135533545"
     },
     "user_tz": -420
    },
    "id": "oaqpUVffTCdm"
   },
   "outputs": [],
   "source": [
    "def checkStopwords(w):\n",
    "    returnList = []\n",
    "    stopwords = set(thai_stopwords())\n",
    "    for i in w:  # comment\n",
    "        if i not in stopwords:\n",
    "            returnList.append(i)\n",
    "    return returnList"
   ]
  },
  {
   "cell_type": "code",
   "execution_count": 12,
   "metadata": {
    "executionInfo": {
     "elapsed": 952,
     "status": "ok",
     "timestamp": 1604026404057,
     "user": {
      "displayName": "Pacharapol O.",
      "photoUrl": "https://lh3.googleusercontent.com/a-/AOh14GiBNaVjsCxoMVUqEvSDC7eauF0V2ZD7B-TzevR1TQ=s64",
      "userId": "00378494490135533545"
     },
     "user_tz": -420
    },
    "id": "Ja-P4yvKa06u"
   },
   "outputs": [],
   "source": [
    "def checkThai(txt):\n",
    "    prop = pythainlp.util.countthai(txt)\n",
    "    return prop"
   ]
  },
  {
   "cell_type": "code",
   "execution_count": 13,
   "metadata": {
    "executionInfo": {
     "elapsed": 880,
     "status": "ok",
     "timestamp": 1604028299778,
     "user": {
      "displayName": "Pacharapol O.",
      "photoUrl": "https://lh3.googleusercontent.com/a-/AOh14GiBNaVjsCxoMVUqEvSDC7eauF0V2ZD7B-TzevR1TQ=s64",
      "userId": "00378494490135533545"
     },
     "user_tz": -420
    },
    "id": "cr_O7hE5htx2"
   },
   "outputs": [],
   "source": [
    "def normThai(w):\n",
    "    returnList = []\n",
    "    for i in w:\n",
    "        returnList.append(normalize(i))\n",
    "    return returnList"
   ]
  },
  {
   "cell_type": "code",
   "execution_count": 14,
   "metadata": {
    "executionInfo": {
     "elapsed": 880,
     "status": "ok",
     "timestamp": 1604028299778,
     "user": {
      "displayName": "Pacharapol O.",
      "photoUrl": "https://lh3.googleusercontent.com/a-/AOh14GiBNaVjsCxoMVUqEvSDC7eauF0V2ZD7B-TzevR1TQ=s64",
      "userId": "00378494490135533545"
     },
     "user_tz": -420
    },
    "id": "cr_O7hE5htx2"
   },
   "outputs": [],
   "source": [
    "def tagThai(w):\n",
    "    pd_returnList = pd.DataFrame(pos_tag(w, corpus='pud'))\n",
    "    returnList = pd_returnList.iloc[:,1]\n",
    "    return returnList"
   ]
  },
  {
   "cell_type": "code",
   "execution_count": 15,
   "metadata": {
    "executionInfo": {
     "elapsed": 880,
     "status": "ok",
     "timestamp": 1604028299778,
     "user": {
      "displayName": "Pacharapol O.",
      "photoUrl": "https://lh3.googleusercontent.com/a-/AOh14GiBNaVjsCxoMVUqEvSDC7eauF0V2ZD7B-TzevR1TQ=s64",
      "userId": "00378494490135533545"
     },
     "user_tz": -420
    },
    "id": "cr_O7hE5htx2"
   },
   "outputs": [],
   "source": [
    "def soundThai(w):\n",
    "    returnList = []\n",
    "    for i in w:\n",
    "        returnList.append(romanize(i, engine=\"thai2rom\"))\n",
    "    return returnList"
   ]
  },
  {
   "cell_type": "markdown",
   "metadata": {
    "id": "wlnotsqqTCcl"
   },
   "source": [
    "### Clean data & NLP Tokenized"
   ]
  },
  {
   "cell_type": "raw",
   "metadata": {
    "executionInfo": {
     "elapsed": 2677,
     "status": "ok",
     "timestamp": 1604027704431,
     "user": {
      "displayName": "Pacharapol O.",
      "photoUrl": "https://lh3.googleusercontent.com/a-/AOh14GiBNaVjsCxoMVUqEvSDC7eauF0V2ZD7B-TzevR1TQ=s64",
      "userId": "00378494490135533545"
     },
     "user_tz": -420
    },
    "id": "VXYRZDubTCcm"
   },
   "source": [
    "df_textList1 = pd.read_csv(comment_file[0],header=None)\n",
    "df_textList2 = pd.read_csv(comment_file[1],header=None)"
   ]
  },
  {
   "cell_type": "raw",
   "metadata": {
    "executionInfo": {
     "elapsed": 1168,
     "status": "ok",
     "timestamp": 1604027707570,
     "user": {
      "displayName": "Pacharapol O.",
      "photoUrl": "https://lh3.googleusercontent.com/a-/AOh14GiBNaVjsCxoMVUqEvSDC7eauF0V2ZD7B-TzevR1TQ=s64",
      "userId": "00378494490135533545"
     },
     "user_tz": -420
    },
    "id": "2Lc6T0oATCcp"
   },
   "source": [
    "df_textList1.insert(0,'Table','Meiji')\n",
    "df_textList1.columns = ['Table','URLs', 'text', 'Retrived date']"
   ]
  },
  {
   "cell_type": "raw",
   "metadata": {
    "executionInfo": {
     "elapsed": 718,
     "status": "ok",
     "timestamp": 1604027707571,
     "user": {
      "displayName": "Pacharapol O.",
      "photoUrl": "https://lh3.googleusercontent.com/a-/AOh14GiBNaVjsCxoMVUqEvSDC7eauF0V2ZD7B-TzevR1TQ=s64",
      "userId": "00378494490135533545"
     },
     "user_tz": -420
    },
    "id": "n4jarvmsTCct"
   },
   "source": [
    "df_textList2.insert(0,'Table','DDFC')\n",
    "df_textList2.columns = ['Table','URLs', 'text', 'Retrived date']"
   ]
  },
  {
   "cell_type": "raw",
   "metadata": {
    "colab": {
     "base_uri": "https://localhost:8080/",
     "height": 79
    },
    "executionInfo": {
     "elapsed": 1043,
     "status": "ok",
     "timestamp": 1604027708520,
     "user": {
      "displayName": "Pacharapol O.",
      "photoUrl": "https://lh3.googleusercontent.com/a-/AOh14GiBNaVjsCxoMVUqEvSDC7eauF0V2ZD7B-TzevR1TQ=s64",
      "userId": "00378494490135533545"
     },
     "user_tz": -420
    },
    "id": "594kVpigTCcv",
    "outputId": "44e651f1-4657-4a83-f483-a33998995e6b"
   },
   "source": [
    "pd.DataFrame(df_textList1.URLs.value_counts()).describe().T"
   ]
  },
  {
   "cell_type": "raw",
   "metadata": {
    "colab": {
     "base_uri": "https://localhost:8080/"
    },
    "executionInfo": {
     "elapsed": 853,
     "status": "ok",
     "timestamp": 1604027711587,
     "user": {
      "displayName": "Pacharapol O.",
      "photoUrl": "https://lh3.googleusercontent.com/a-/AOh14GiBNaVjsCxoMVUqEvSDC7eauF0V2ZD7B-TzevR1TQ=s64",
      "userId": "00378494490135533545"
     },
     "user_tz": -420
    },
    "id": "DKbN38AzTCc0",
    "outputId": "f1bafe8c-19c9-4b52-dbb7-faafb7726901"
   },
   "source": [
    "print('meiji comment:',df_textList1.shape[0])\n",
    "print('meiji URLs ก่อนตัด:',len(df_textList1.URLs.unique()))"
   ]
  },
  {
   "cell_type": "raw",
   "metadata": {
    "colab": {
     "base_uri": "https://localhost:8080/",
     "height": 79
    },
    "executionInfo": {
     "elapsed": 906,
     "status": "ok",
     "timestamp": 1604027713588,
     "user": {
      "displayName": "Pacharapol O.",
      "photoUrl": "https://lh3.googleusercontent.com/a-/AOh14GiBNaVjsCxoMVUqEvSDC7eauF0V2ZD7B-TzevR1TQ=s64",
      "userId": "00378494490135533545"
     },
     "user_tz": -420
    },
    "id": "oJKpaP0xTCc4",
    "outputId": "7705fefd-637c-4533-b001-5016a317c45b"
   },
   "source": [
    "pd.DataFrame(df_textList2.URLs.value_counts()).describe().T"
   ]
  },
  {
   "cell_type": "raw",
   "metadata": {
    "colab": {
     "base_uri": "https://localhost:8080/"
    },
    "executionInfo": {
     "elapsed": 887,
     "status": "ok",
     "timestamp": 1604027715137,
     "user": {
      "displayName": "Pacharapol O.",
      "photoUrl": "https://lh3.googleusercontent.com/a-/AOh14GiBNaVjsCxoMVUqEvSDC7eauF0V2ZD7B-TzevR1TQ=s64",
      "userId": "00378494490135533545"
     },
     "user_tz": -420
    },
    "id": "wGrNn6b4TCc7",
    "outputId": "df1d8a4a-b8ea-45d8-99e8-65aa6e8178bb"
   },
   "source": [
    "print('DDCF comment:',df_textList2.shape[0])\n",
    "print('DDCF URLs ก่อนตัด:',len(df_textList2.URLs.unique()))"
   ]
  },
  {
   "cell_type": "raw",
   "metadata": {
    "executionInfo": {
     "elapsed": 1076,
     "status": "ok",
     "timestamp": 1604027716129,
     "user": {
      "displayName": "Pacharapol O.",
      "photoUrl": "https://lh3.googleusercontent.com/a-/AOh14GiBNaVjsCxoMVUqEvSDC7eauF0V2ZD7B-TzevR1TQ=s64",
      "userId": "00378494490135533545"
     },
     "user_tz": -420
    },
    "id": "7IxgQQhCTCc_"
   },
   "source": [
    "# Merge df_textList1,df_textList2\n",
    "df_Corpus = pd.concat([df_textList1,df_textList2],ignore_index=True)"
   ]
  },
  {
   "cell_type": "raw",
   "metadata": {
    "colab": {
     "base_uri": "https://localhost:8080/"
    },
    "executionInfo": {
     "elapsed": 885,
     "status": "ok",
     "timestamp": 1604027718134,
     "user": {
      "displayName": "Pacharapol O.",
      "photoUrl": "https://lh3.googleusercontent.com/a-/AOh14GiBNaVjsCxoMVUqEvSDC7eauF0V2ZD7B-TzevR1TQ=s64",
      "userId": "00378494490135533545"
     },
     "user_tz": -420
    },
    "id": "Xf0_nwz8TCdB",
    "outputId": "d39ed4de-8549-4488-d8c5-04e62e8a4dfd"
   },
   "source": [
    "print('All comment:',df_Corpus.shape[0])\n",
    "print('All URLs ก่อนตัด:',len(df_Corpus.URLs.unique()))"
   ]
  },
  {
   "cell_type": "raw",
   "metadata": {
    "colab": {
     "base_uri": "https://localhost:8080/"
    },
    "executionInfo": {
     "elapsed": 1032,
     "status": "ok",
     "timestamp": 1604027719151,
     "user": {
      "displayName": "Pacharapol O.",
      "photoUrl": "https://lh3.googleusercontent.com/a-/AOh14GiBNaVjsCxoMVUqEvSDC7eauF0V2ZD7B-TzevR1TQ=s64",
      "userId": "00378494490135533545"
     },
     "user_tz": -420
    },
    "id": "vRH0T2gLTCdE",
    "outputId": "0722d375-5945-44d8-bc71-f39dcc58a0e9"
   },
   "source": [
    "missing = df_Corpus.isnull().sum()\n",
    "print(missing)"
   ]
  },
  {
   "cell_type": "raw",
   "metadata": {
    "colab": {
     "base_uri": "https://localhost:8080/",
     "height": 202
    },
    "executionInfo": {
     "elapsed": 828,
     "status": "ok",
     "timestamp": 1604027721340,
     "user": {
      "displayName": "Pacharapol O.",
      "photoUrl": "https://lh3.googleusercontent.com/a-/AOh14GiBNaVjsCxoMVUqEvSDC7eauF0V2ZD7B-TzevR1TQ=s64",
      "userId": "00378494490135533545"
     },
     "user_tz": -420
    },
    "id": "LXg1m0eoTCdK",
    "outputId": "567e2a04-8322-4104-9f68-6d509815fd24"
   },
   "source": [
    "df_Corpus.tail()"
   ]
  },
  {
   "cell_type": "raw",
   "metadata": {
    "executionInfo": {
     "elapsed": 1006,
     "status": "ok",
     "timestamp": 1604027723160,
     "user": {
      "displayName": "Pacharapol O.",
      "photoUrl": "https://lh3.googleusercontent.com/a-/AOh14GiBNaVjsCxoMVUqEvSDC7eauF0V2ZD7B-TzevR1TQ=s64",
      "userId": "00378494490135533545"
     },
     "user_tz": -420
    },
    "id": "_O0BSe9ETCdO"
   },
   "source": [
    "seqNum = list(range(1,df_Corpus.shape[0]+1))\n",
    "df_Corpus.insert(0,'commentId',seqNum)\n",
    "df_Corpus.columns = ['commentId','Table','URLs', 'text', 'Retrived date']"
   ]
  },
  {
   "cell_type": "raw",
   "metadata": {
    "colab": {
     "base_uri": "https://localhost:8080/",
     "height": 202
    },
    "executionInfo": {
     "elapsed": 811,
     "status": "ok",
     "timestamp": 1604027724691,
     "user": {
      "displayName": "Pacharapol O.",
      "photoUrl": "https://lh3.googleusercontent.com/a-/AOh14GiBNaVjsCxoMVUqEvSDC7eauF0V2ZD7B-TzevR1TQ=s64",
      "userId": "00378494490135533545"
     },
     "user_tz": -420
    },
    "id": "w-muagoxTCdR",
    "outputId": "a8afe33d-943b-422e-838d-ba8514e9497d"
   },
   "source": [
    "df_Corpus.tail()"
   ]
  },
  {
   "cell_type": "raw",
   "metadata": {
    "executionInfo": {
     "elapsed": 1166,
     "status": "ok",
     "timestamp": 1604027727940,
     "user": {
      "displayName": "Pacharapol O.",
      "photoUrl": "https://lh3.googleusercontent.com/a-/AOh14GiBNaVjsCxoMVUqEvSDC7eauF0V2ZD7B-TzevR1TQ=s64",
      "userId": "00378494490135533545"
     },
     "user_tz": -420
    },
    "id": "jZFN_aTsTCdU",
    "scrolled": true
   },
   "source": [
    "# Drop NA & banned comments\n",
    "df_Corpus = df_Corpus.dropna()\n",
    "df_Corpus = df_Corpus[df_Corpus[\"text\"].str.find('ความคิดเห็นนี้ถูกลบ')!= 0]\n",
    "df_Corpus = df_Corpus[df_Corpus[\"text\"].str.find('แก้ไขข้อความเมื่อ')!= 0]\n",
    "df_Corpus = df_Corpus.set_index('commentId')"
   ]
  },
  {
   "cell_type": "raw",
   "metadata": {
    "colab": {
     "base_uri": "https://localhost:8080/"
    },
    "executionInfo": {
     "elapsed": 619,
     "status": "ok",
     "timestamp": 1604027727941,
     "user": {
      "displayName": "Pacharapol O.",
      "photoUrl": "https://lh3.googleusercontent.com/a-/AOh14GiBNaVjsCxoMVUqEvSDC7eauF0V2ZD7B-TzevR1TQ=s64",
      "userId": "00378494490135533545"
     },
     "user_tz": -420
    },
    "id": "ki-qD4YMTCdX",
    "outputId": "3102d8b3-3251-463e-f3e2-50a119fe787b"
   },
   "source": [
    "missing = df_Corpus.isnull().sum()\n",
    "print(missing)"
   ]
  },
  {
   "cell_type": "raw",
   "metadata": {
    "colab": {
     "base_uri": "https://localhost:8080/"
    },
    "executionInfo": {
     "elapsed": 1135,
     "status": "ok",
     "timestamp": 1604027730567,
     "user": {
      "displayName": "Pacharapol O.",
      "photoUrl": "https://lh3.googleusercontent.com/a-/AOh14GiBNaVjsCxoMVUqEvSDC7eauF0V2ZD7B-TzevR1TQ=s64",
      "userId": "00378494490135533545"
     },
     "user_tz": -420
    },
    "id": "c0J7GD3ATCda",
    "outputId": "f8748ddd-9aab-40d2-ee9e-38ba742906b7"
   },
   "source": [
    "print('จำนวน comment หลังตัด:',df_Corpus.shape[0])\n",
    "print('จำนวนกระทู้หลังตัด:',len(df_Corpus.URLs.unique()))"
   ]
  },
  {
   "cell_type": "raw",
   "metadata": {
    "colab": {
     "base_uri": "https://localhost:8080/",
     "height": 233
    },
    "executionInfo": {
     "elapsed": 890,
     "status": "ok",
     "timestamp": 1604027730892,
     "user": {
      "displayName": "Pacharapol O.",
      "photoUrl": "https://lh3.googleusercontent.com/a-/AOh14GiBNaVjsCxoMVUqEvSDC7eauF0V2ZD7B-TzevR1TQ=s64",
      "userId": "00378494490135533545"
     },
     "user_tz": -420
    },
    "id": "PKvz8tQpTCdd",
    "outputId": "62e2d990-0240-4a01-cef5-515147c6750c"
   },
   "source": [
    "df_Corpus.insert(4,'token_text',None)\n",
    "df_Corpus.insert(5,'token_sound',None)\n",
    "df_Corpus.insert(6,'token_tag',None)\n",
    "df_Corpus.tail()"
   ]
  },
  {
   "cell_type": "markdown",
   "metadata": {
    "id": "EpwX95XlTCdl"
   },
   "source": [
    "## ตัดคำแบบไม่ Train corpus/term และเก็บลง MongoDB"
   ]
  },
  {
   "cell_type": "markdown",
   "metadata": {
    "id": "6U__d4agTCdl"
   },
   "source": [
    "https://www.thainlp.org/pythainlp/tutorials/notebooks/pythainlp-get-started.html#Thai-Characters"
   ]
  },
  {
   "cell_type": "raw",
   "metadata": {
    "executionInfo": {
     "elapsed": 962,
     "status": "ok",
     "timestamp": 1604030224171,
     "user": {
      "displayName": "Pacharapol O.",
      "photoUrl": "https://lh3.googleusercontent.com/a-/AOh14GiBNaVjsCxoMVUqEvSDC7eauF0V2ZD7B-TzevR1TQ=s64",
      "userId": "00378494490135533545"
     },
     "user_tz": -420
    },
    "id": "rAcuuoYiTCdu"
   },
   "source": [
    "corpus = []\n",
    "garbage_char = ['',' ','\\n','\\xa0','application','ทางกฎหมาย','html','http','https','url','com'\n",
    "               'นะค่ะ','นะคะ','น่ะค่ะ','ฯ','ๆ','แฮ่','เย่ๆๆ','ว๊าว','ฮิ้วววววววววว']"
   ]
  },
  {
   "cell_type": "raw",
   "metadata": {
    "colab": {
     "base_uri": "https://localhost:8080/"
    },
    "executionInfo": {
     "elapsed": 813,
     "status": "ok",
     "timestamp": 1604027849933,
     "user": {
      "displayName": "Pacharapol O.",
      "photoUrl": "https://lh3.googleusercontent.com/a-/AOh14GiBNaVjsCxoMVUqEvSDC7eauF0V2ZD7B-TzevR1TQ=s64",
      "userId": "00378494490135533545"
     },
     "user_tz": -420
    },
    "id": "mAwAGA5ITCdx",
    "outputId": "d95e59bb-b35e-4592-f16e-0915a7975f84"
   },
   "source": [
    "print('จำนวน comment หลังตัด:',df_Corpus.shape[0])\n",
    "print('จำนวนกระทู้หลังตัด:',len(df_Corpus.URLs.unique()))"
   ]
  },
  {
   "cell_type": "raw",
   "metadata": {
    "executionInfo": {
     "elapsed": 2296,
     "status": "ok",
     "timestamp": 1604030226424,
     "user": {
      "displayName": "Pacharapol O.",
      "photoUrl": "https://lh3.googleusercontent.com/a-/AOh14GiBNaVjsCxoMVUqEvSDC7eauF0V2ZD7B-TzevR1TQ=s64",
      "userId": "00378494490135533545"
     },
     "user_tz": -420
    },
    "id": "8D5MebxcTCd0"
   },
   "source": [
    "words = set(thai_words())  # thai_words() returns frozenset\n",
    "custom_tokenizer = Tokenizer(engine='newmm', custom_dict=words, keep_whitespace=False)"
   ]
  },
  {
   "cell_type": "raw",
   "metadata": {},
   "source": [
    "romanize('ทดสอบ', engine=\"thai2rom\")"
   ]
  },
  {
   "cell_type": "raw",
   "metadata": {},
   "source": [
    "# Clear All Data in MongoDB\n",
    "mycol.delete_many({})"
   ]
  },
  {
   "cell_type": "markdown",
   "metadata": {},
   "source": [
    "เก็บข้อมูลลง MongoDB"
   ]
  },
  {
   "cell_type": "raw",
   "metadata": {
    "colab": {
     "base_uri": "https://localhost:8080/"
    },
    "id": "Hunm5MT7TCd2",
    "outputId": "15710375-8df1-46f0-85a2-04c66e1de5d9",
    "scrolled": true
   },
   "source": [
    "for i,txt in enumerate(df_Corpus['text'],0):\n",
    "    print('Row:',i)\n",
    "    wtkn = custom_tokenizer.word_tokenize(txt)\n",
    "    wtkn = checkPunc(wtkn)\n",
    "    wtkn = checkStopwords(wtkn)\n",
    "    wtkn = normThai(wtkn)\n",
    "    wtkn = [x for x in wtkn if x not in garbage_char]\n",
    "    wtkn = [s for s in wtkn if not s.isdigit()]\n",
    "    if len(wtkn)>0:\n",
    "        stkn = soundThai(wtkn)\n",
    "        ttkn = tagThai(wtkn)\n",
    "    else:\n",
    "        stkn = []\n",
    "        ttkn = []\n",
    "    process_data = {'commentId':int(df_Corpus.index[i]),\n",
    "                      'Table':df_Corpus.iloc[i,0],\n",
    "                      'URLs':df_Corpus.iloc[i,1],\n",
    "                      'text':df_Corpus.iloc[i,2],\n",
    "                      'Retrived_date':df_Corpus.iloc[i,3],\n",
    "                      'token_text':list(wtkn),\n",
    "                      'token_sound':list(stkn),\n",
    "                      'token_tag':list(ttkn),\n",
    "                     }\n",
    "    mycol.insert_one(process_data)\n",
    "    clear_output(wait=True)"
   ]
  },
  {
   "cell_type": "raw",
   "metadata": {
    "executionInfo": {
     "elapsed": 890,
     "status": "ok",
     "timestamp": 1604027734766,
     "user": {
      "displayName": "Pacharapol O.",
      "photoUrl": "https://lh3.googleusercontent.com/a-/AOh14GiBNaVjsCxoMVUqEvSDC7eauF0V2ZD7B-TzevR1TQ=s64",
      "userId": "00378494490135533545"
     },
     "user_tz": -420
    },
    "id": "J30GMUlJTCdh"
   },
   "source": [
    "del df_textList1,df_textList2\n",
    "del df_process,df_Corpus"
   ]
  },
  {
   "cell_type": "markdown",
   "metadata": {
    "id": "MY2NqV5xd3Ot"
   },
   "source": [
    "### ===== EDA Part =====\n",
    "สรุป Term frequency ของคำ ราย Overall & URL<br>\n",
    "<b>ขั้นตอนนี้มีความสำคัญ เพราะเราจะเลือกคำนามที่มีความถี่สูง 1000 คำ มาทำ Bag of word และ Factor Analysis</b>"
   ]
  },
  {
   "cell_type": "raw",
   "metadata": {},
   "source": [
    "cursor = mydb.NIDA_PPSN_THREAD.find()"
   ]
  },
  {
   "cell_type": "raw",
   "metadata": {},
   "source": [
    "#df_EDA = pd.read_csv(comment_nlp_file)\n",
    "df_EDA = pd.DataFrame(cursor)\n",
    "df_EDA.tail(3)"
   ]
  },
  {
   "cell_type": "raw",
   "metadata": {},
   "source": [
    "#d_freq = pd.DataFrame(data=None)\n",
    "ppsn_w.delete_many({})\n",
    "\n",
    "for i,txt in enumerate(df_EDA.token_text,0):     \n",
    "    print('Row:',i+1,'of',df_EDA.shape[0])\n",
    "    ddff = pd.DataFrame()\n",
    "    for e,word_evel in enumerate(txt,0):\n",
    "        process_data = {'commentId':int(df_EDA.commentId.iloc[i]),\n",
    "                      'URLs':df_EDA.URLs.iloc[i],\n",
    "                      'WORD':word_evel,\n",
    "                      'token_sound':df_EDA.token_sound.iloc[i][e],\n",
    "                      'token_tag':df_EDA.token_tag.iloc[i][e]}\n",
    "        ppsn_w.insert_one(process_data)\n",
    "    clear_output(wait=True)"
   ]
  },
  {
   "cell_type": "markdown",
   "metadata": {},
   "source": [
    "2.EDA คำรายกระทู้ การกล่าวถึงแบรนด์ในแต่ละกระทู้ และสรุป Term ที่ใช้ Train ตอนตัดคำ<br>\n",
    "ทั้งนี้จะนำ thai_word() มาตัดคำให้เหลือแต่คำที่มีความหมายเท่านั้น หลังจากสรุป Freq รอบแรก และดู Freq หลังตัดอีกครั้ง"
   ]
  },
  {
   "cell_type": "markdown",
   "metadata": {
    "id": "hKsD8eSGTCeF"
   },
   "source": [
    "EDA Characteristic approach (Descriptive)\n",
    "1. MAX คำต่อกระทู้\n",
    "2. MIN คำต่อกระทู้\n",
    "3. AVG คำต่อกระทู้\n",
    "4. กราฟการกระจายคำต่อกระทู้\n",
    "5. จำนวนกระทู้\n",
    "6. พบ brand 5 ตัว ตัวละกี่กระทู้\n",
    "7. กระทู้ที่มีคำเปรียบเทียบ มีกี่กระทู้\n",
    "8. Term frequency\n",
    "\n",
    "เพิ่ม commentId\n",
    "8. comment มี 1 brand\n",
    "9. comment มี 2 brand"
   ]
  },
  {
   "cell_type": "code",
   "execution_count": 16,
   "metadata": {},
   "outputs": [],
   "source": [
    "cursor2 = mydb.NIDA_PPSN_WORD.find()"
   ]
  },
  {
   "cell_type": "code",
   "execution_count": 17,
   "metadata": {},
   "outputs": [],
   "source": [
    "df_EDA_frq = pd.DataFrame(cursor2)"
   ]
  },
  {
   "cell_type": "code",
   "execution_count": 18,
   "metadata": {},
   "outputs": [
    {
     "data": {
      "text/html": [
       "<div>\n",
       "<style scoped>\n",
       "    .dataframe tbody tr th:only-of-type {\n",
       "        vertical-align: middle;\n",
       "    }\n",
       "\n",
       "    .dataframe tbody tr th {\n",
       "        vertical-align: top;\n",
       "    }\n",
       "\n",
       "    .dataframe thead th {\n",
       "        text-align: right;\n",
       "    }\n",
       "</style>\n",
       "<table border=\"1\" class=\"dataframe\">\n",
       "  <thead>\n",
       "    <tr style=\"text-align: right;\">\n",
       "      <th></th>\n",
       "      <th>URLs</th>\n",
       "      <th>WORD</th>\n",
       "      <th>_id</th>\n",
       "      <th>commentId</th>\n",
       "      <th>token_sound</th>\n",
       "      <th>token_tag</th>\n",
       "    </tr>\n",
       "  </thead>\n",
       "  <tbody>\n",
       "    <tr>\n",
       "      <th>1659115</th>\n",
       "      <td>https://pantip.com/topic/30651064</td>\n",
       "      <td>ข้อความ</td>\n",
       "      <td>5fa4c53b6e14c94326b53f86</td>\n",
       "      <td>66186</td>\n",
       "      <td>khokhwam</td>\n",
       "      <td>NOUN</td>\n",
       "    </tr>\n",
       "    <tr>\n",
       "      <th>1659116</th>\n",
       "      <td>https://pantip.com/topic/30651064</td>\n",
       "      <td>กันยายน</td>\n",
       "      <td>5fa4c53b6e14c94326b53f87</td>\n",
       "      <td>66186</td>\n",
       "      <td>kanyayon</td>\n",
       "      <td>NOUN</td>\n",
       "    </tr>\n",
       "    <tr>\n",
       "      <th>1659117</th>\n",
       "      <td>https://pantip.com/topic/30651064</td>\n",
       "      <td>เวลา</td>\n",
       "      <td>5fa4c53b6e14c94326b53f88</td>\n",
       "      <td>66186</td>\n",
       "      <td>wela</td>\n",
       "      <td>NOUN</td>\n",
       "    </tr>\n",
       "  </tbody>\n",
       "</table>\n",
       "</div>"
      ],
      "text/plain": [
       "                                      URLs     WORD                       _id  \\\n",
       "1659115  https://pantip.com/topic/30651064  ข้อความ  5fa4c53b6e14c94326b53f86   \n",
       "1659116  https://pantip.com/topic/30651064  กันยายน  5fa4c53b6e14c94326b53f87   \n",
       "1659117  https://pantip.com/topic/30651064     เวลา  5fa4c53b6e14c94326b53f88   \n",
       "\n",
       "         commentId token_sound token_tag  \n",
       "1659115      66186    khokhwam      NOUN  \n",
       "1659116      66186    kanyayon      NOUN  \n",
       "1659117      66186        wela      NOUN  "
      ]
     },
     "execution_count": 18,
     "metadata": {},
     "output_type": "execute_result"
    }
   ],
   "source": [
    "df_EDA_frq.tail(3)"
   ]
  },
  {
   "cell_type": "code",
   "execution_count": 67,
   "metadata": {},
   "outputs": [
    {
     "name": "stdout",
     "output_type": "stream",
     "text": [
      "จำนวนกระทู้ =  1514\n",
      "จำนวนคำต่อกระทู้มากที่สุด =  24365\n",
      "จำนวนคำต่อกระทู้น้อยที่สุด =  11\n",
      "จำนวนคำต่อกระทู้เฉลี่ย =  1095.85\n"
     ]
    }
   ],
   "source": [
    "print('จำนวนกระทู้ = ',len(df_EDA_frq.URLs.unique()))\n",
    "print('จำนวนคำต่อกระทู้มากที่สุด = ',max(df_EDA_frq.URLs.value_counts()))\n",
    "print('จำนวนคำต่อกระทู้น้อยที่สุด = ',min(df_EDA_frq.URLs.value_counts()))\n",
    "print('จำนวนคำต่อกระทู้เฉลี่ย = ', str(round(stat.mean(df_EDA_frq.URLs.value_counts()), 2)))"
   ]
  },
  {
   "cell_type": "code",
   "execution_count": 68,
   "metadata": {},
   "outputs": [
    {
     "name": "stdout",
     "output_type": "stream",
     "text": [
      "จำนวนคำต่อ comment มากที่สุด =  1492\n",
      "จำนวนคำต่อ comment น้อยที่สุด =  1\n",
      "จำนวนคำต่อ comment เฉลี่ย =  27.57\n"
     ]
    }
   ],
   "source": [
    "print('จำนวนคำต่อ comment มากที่สุด = ',max(df_EDA_frq.commentId.value_counts()))\n",
    "print('จำนวนคำต่อ comment น้อยที่สุด = ',min(df_EDA_frq.commentId.value_counts()))\n",
    "print('จำนวนคำต่อ comment เฉลี่ย = ', str(round(stat.mean(df_EDA_frq.commentId.value_counts()), 2)))"
   ]
  },
  {
   "cell_type": "code",
   "execution_count": 69,
   "metadata": {
    "scrolled": true
   },
   "outputs": [
    {
     "data": {
      "image/png": "[encoded data removed]",
      "text/plain": [
       "<Figure size 1080x360 with 1 Axes>"
      ]
     },
     "metadata": {},
     "output_type": "display_data"
    }
   ],
   "source": [
    "df_plot_dist = pd.DataFrame(df_EDA_frq.URLs.value_counts())\n",
    "df_plot_dist.columns = ['CNT']\n",
    "sns.set(style=\"darkgrid\")  \n",
    "fig, ax = plt.subplots(figsize=(15, 5))\n",
    "ax = sns.distplot(df_plot_dist.CNT, kde=True)\n",
    "plt.show()"
   ]
  },
  {
   "cell_type": "markdown",
   "metadata": {},
   "source": [
    "จากข้อมูลการกล่าวถึง พบว่าจำนวนนั้น imbalance กัน แต่เนื่องจากเราไม่ได้จะทำโมเดลทำนาย จึงไม่ต้อง Over-Undersample<br>\n",
    "เราทำกราฟ จะต้อง normalized ตัวเลขในตาราง Cooccurence ด้วยค่า Lift ก่อน<br>\n",
    "\n",
    "และเราพบว่าการตัดข้อความชื่อนม ฟาร์มโชคชัย มีปัญหา พบว่าจะเจอคำว่า อืมม มิลค์ (Umm) มากกว่าชื่อแบรนด์ตรงๆ"
   ]
  },
  {
   "cell_type": "code",
   "execution_count": 70,
   "metadata": {},
   "outputs": [
    {
     "name": "stdout",
     "output_type": "stream",
     "text": [
      "การกล่าวถึง เมจิ : 1008 กระทู้\n",
      "การกล่าวถึง โชคชัย : 28 กระทู้\n",
      "การกล่าวถึง ดัชมิลล์ : 251 กระทู้\n",
      "การกล่าวถึง เอ็มมิลค์ : 2 กระทู้\n",
      "การกล่าวถึง โฟร์โมสต์ : 288 กระทู้\n",
      "การกล่าวถึง แดรี่โฮม : 106 กระทู้\n"
     ]
    }
   ],
   "source": [
    "print('การกล่าวถึง เมจิ :',len(df_EDA_frq[df_EDA_frq.WORD.isin(['เมจิ','meiji','cpmeiji'])].URLs.unique()),'กระทู้')\n",
    "print('การกล่าวถึง โชคชัย :',len(df_EDA_frq[df_EDA_frq.WORD.isin(['โชคชัย','chokchai','ฟาร์มโชคชัย','อืมม','umm'])].URLs.unique()),'กระทู้')\n",
    "print('การกล่าวถึง ดัชมิลล์ :',len(df_EDA_frq[df_EDA_frq.WORD.isin(['ดัชมิลล์','ดัชมิล','dutchmill','dutchmilk','ดัชชี่','นมดัช'])].URLs.unique()),'กระทู้')\n",
    "print('การกล่าวถึง เอ็มมิลค์ :',len(df_EDA_frq[df_EDA_frq.WORD.isin(['เอ็มมิลค์','mmilk','เอ็มมิ้ลค์'])].URLs.unique()),'กระทู้')\n",
    "print('การกล่าวถึง โฟร์โมสต์ :',len(df_EDA_frq[df_EDA_frq.WORD.isin(['โฟร์โมสต์','โฟร์โมส','foremost','นมโฟ'])].URLs.unique()),'กระทู้')\n",
    "print('การกล่าวถึง แดรี่โฮม :',len(df_EDA_frq[df_EDA_frq.WORD.isin(['แดรี่โฮม','แดรี่','โฮม','dairy','dairy home'])].URLs.unique()),'กระทู้')"
   ]
  },
  {
   "cell_type": "raw",
   "metadata": {},
   "source": [
    "eda_w_th.delete_many({})\n",
    "eda_w_en.delete_many({})"
   ]
  },
  {
   "cell_type": "raw",
   "metadata": {},
   "source": [
    "for i,txt in enumerate(df_EDA_frq.WORD,0):\n",
    "    print('Row:',i)\n",
    "    process_data = {'URLs':df_EDA_frq.URLs.iloc[i],\n",
    "                      'WORD':df_EDA_frq.WORD.iloc[i],\n",
    "                      'token_sound':df_EDA_frq.token_sound.iloc[i],\n",
    "                      'token_tag':df_EDA_frq.token_tag.iloc[i]}\n",
    "    if checkThai(txt)<100:\n",
    "        eda_w_en.insert_one(process_data)\n",
    "    else:\n",
    "        eda_w_th.insert_one(process_data)\n",
    "    clear_output(wait=True)"
   ]
  },
  {
   "cell_type": "raw",
   "metadata": {},
   "source": [
    "del df_EDA_frq"
   ]
  },
  {
   "cell_type": "raw",
   "metadata": {},
   "source": [
    "cursor_w_en = mydb.NIDA_PPSN_EDA_W_EN.find()\n",
    "cursor_w_th = mydb.NIDA_PPSN_EDA_W_TH.find()\n",
    "df_EDA_w_th = pd.DataFrame(cursor_w_th)\n",
    "df_EDA_w_en = pd.DataFrame(cursor_w_en)"
   ]
  },
  {
   "cell_type": "raw",
   "metadata": {},
   "source": [
    "df_EDA_w_th.groupby(['WORD','token_sound','token_tag']).URLs.count().to_excel(root_path+'/W_FREQ_TH.xlsx',merge_cells=False)\n",
    "df_EDA_w_en.groupby(['WORD','token_sound','token_tag']).URLs.count().to_excel(root_path+'/W_FREQ_EN.xlsx',merge_cells=False)"
   ]
  },
  {
   "cell_type": "markdown",
   "metadata": {},
   "source": [
    "## ตัดคำแบบ Train"
   ]
  },
  {
   "cell_type": "code",
   "execution_count": null,
   "metadata": {},
   "outputs": [],
   "source": []
  },
  {
   "cell_type": "code",
   "execution_count": null,
   "metadata": {},
   "outputs": [],
   "source": []
  },
  {
   "cell_type": "code",
   "execution_count": null,
   "metadata": {},
   "outputs": [],
   "source": []
  },
  {
   "cell_type": "code",
   "execution_count": null,
   "metadata": {},
   "outputs": [],
   "source": []
  },
  {
   "cell_type": "code",
   "execution_count": null,
   "metadata": {},
   "outputs": [],
   "source": []
  },
  {
   "cell_type": "code",
   "execution_count": null,
   "metadata": {},
   "outputs": [],
   "source": []
  },
  {
   "cell_type": "code",
   "execution_count": null,
   "metadata": {},
   "outputs": [],
   "source": []
  },
  {
   "cell_type": "code",
   "execution_count": null,
   "metadata": {},
   "outputs": [],
   "source": []
  },
  {
   "cell_type": "code",
   "execution_count": null,
   "metadata": {},
   "outputs": [],
   "source": []
  },
  {
   "cell_type": "markdown",
   "metadata": {
    "id": "NKW--A73mzli"
   },
   "source": [
    "## สร้าง Bag of word dataframe\n",
    "ไม่มีทางเลือก Review Lit มาแล้ว ต้องคัดคำระดับ 1000 คำ มาทำ รันไปเลย 4-6 ชั่วโมง รันจบแล้วถึงทำ  Factor Analysis/T-SNE ต่อ<br>\n",
    "ให้คัดเลือก flavor, brand, market clean ตาม term ให้ครบ นอกนั้นให้ดึงมาทั้งหมดตรงๆ\n",
    "\n",
    "1. ตัดคำ และ Process คำ รอบที่ 2\n",
    "2. Clean คำ ชื่อ Flavor และชื่อ Brand\n",
    "3. นับคำในแต่ละเอกสาร (Comment)\n",
    "4. รอ รอ รอ"
   ]
  },
  {
   "cell_type": "code",
   "execution_count": null,
   "metadata": {},
   "outputs": [],
   "source": [
    "cursor3 = mydb.NIDA_PPSN_WORD.find()"
   ]
  },
  {
   "cell_type": "code",
   "execution_count": null,
   "metadata": {},
   "outputs": [],
   "source": [
    "df_bow = pd.DataFrame(cursor3)"
   ]
  },
  {
   "cell_type": "code",
   "execution_count": null,
   "metadata": {},
   "outputs": [],
   "source": []
  },
  {
   "cell_type": "code",
   "execution_count": null,
   "metadata": {},
   "outputs": [],
   "source": []
  },
  {
   "cell_type": "markdown",
   "metadata": {
    "id": "uBBA36fDTCfZ"
   },
   "source": [
    "### Create co-occurrence matrix จาก Bag of word"
   ]
  },
  {
   "cell_type": "code",
   "execution_count": null,
   "metadata": {
    "id": "LgE1okejTCfZ"
   },
   "outputs": [],
   "source": [
    "item_item_matrix = pd.DataFrame(index=join_df.columns,columns=join_df.columns).fillna(0)"
   ]
  },
  {
   "cell_type": "code",
   "execution_count": null,
   "metadata": {
    "id": "05j3U3ymTCfb"
   },
   "outputs": [],
   "source": [
    "def cnt_Grpby(df,i,j):\n",
    "    PAIB = pd.DataFrame(df.groupby(df.iloc[:,i].name)[df.iloc[:,j].name].value_counts())\n",
    "    PAIB.index.names = ['A','B']\n",
    "    PAIB.columns = ['freq']\n",
    "    PAIB.reset_index(inplace=True)\n",
    "    _PAIB = PAIB[(PAIB.A>0)&(PAIB.B>0)]\n",
    "    return _PAIB.freq.sum()"
   ]
  },
  {
   "cell_type": "code",
   "execution_count": null,
   "metadata": {
    "id": "1jhFte5eTCfd"
   },
   "outputs": [],
   "source": [
    "# Co-occurrence\n",
    "for i in range(0,len(item_item_matrix.columns)):\n",
    "    for j in range(0,len(item_item_matrix.columns)):\n",
    "        if i != j:\n",
    "            item_item_matrix.iloc[i,j] = cnt_Grpby(join_df,i,j)\n",
    "        else:\n",
    "            item_item_matrix.iloc[i,j] = 0"
   ]
  },
  {
   "cell_type": "code",
   "execution_count": null,
   "metadata": {
    "id": "OhtvLfMXTCfg"
   },
   "outputs": [],
   "source": [
    "item_item_matrix.head()"
   ]
  },
  {
   "cell_type": "code",
   "execution_count": null,
   "metadata": {
    "id": "bsbsqduDTCfh"
   },
   "outputs": [],
   "source": [
    "item_item_matrix.to_excel(comment_past_nlp_file, index=True)"
   ]
  },
  {
   "cell_type": "markdown",
   "metadata": {
    "id": "O8nlNNE4TCfj"
   },
   "source": [
    "### Create co-occurrence matrix with Lift normalization"
   ]
  },
  {
   "cell_type": "code",
   "execution_count": null,
   "metadata": {
    "id": "Qykd9Z88TCfj"
   },
   "outputs": [],
   "source": [
    "item_item_matrix = pd.DataFrame(index=join_df.columns,columns=join_df.columns).fillna(0)"
   ]
  },
  {
   "cell_type": "code",
   "execution_count": null,
   "metadata": {
    "id": "ElfF27atTCfp"
   },
   "outputs": [],
   "source": [
    "def a_in_b(df,i,j):\n",
    "    PAIB = pd.DataFrame(df.groupby(df.iloc[:,j].name)[df.iloc[:,i].name].value_counts())\n",
    "    PAIB.index.names = ['B','A']\n",
    "    PAIB.columns = ['freq']\n",
    "    PAIB.reset_index(inplace=True)\n",
    "    PAIB_ = PAIB[(PAIB.A>0)&(PAIB.B>0)]\n",
    "    return PAIB_.freq.sum()/PAIB.freq.sum()"
   ]
  },
  {
   "cell_type": "code",
   "execution_count": null,
   "metadata": {
    "id": "h1sDGAMWTCfr"
   },
   "outputs": [],
   "source": [
    "for i in range(0,len(item_item_matrix.columns)) :\n",
    "    for j in range(0,len(item_item_matrix.columns)) :\n",
    "        A = join_df.iloc[:,i]\n",
    "        B = join_df.iloc[:,j]\n",
    "        PA = A[A!=0].count()/A.shape[0]\n",
    "        PB = B[B!=0].count()/B.shape[0]\n",
    "        PAB = PB*a_in_b(join_df,i,j)\n",
    "        item_item_matrix.iloc[i,j] = PAB/(PA*PB)"
   ]
  },
  {
   "cell_type": "code",
   "execution_count": null,
   "metadata": {
    "id": "Wzd336KbTCfs"
   },
   "outputs": [],
   "source": [
    "item_item_matrix.replace([np.inf, -np.inf], np.nan,inplace=True)\n",
    "item_item_matrix.fillna(0,inplace=True)"
   ]
  },
  {
   "cell_type": "code",
   "execution_count": null,
   "metadata": {
    "id": "8qG7pCYfTCfu"
   },
   "outputs": [],
   "source": [
    "item_item_matrix.head()"
   ]
  },
  {
   "cell_type": "code",
   "execution_count": null,
   "metadata": {
    "id": "LsZZMOcTTCfw"
   },
   "outputs": [],
   "source": [
    "item_item_matrix.to_excel(comment_past_nlp_file, index=True)"
   ]
  }
 ],
 "metadata": {
  "colab": {
   "collapsed_sections": [
    "EpwX95XlTCdl",
    "_Q9pU1J6TCe5",
    "NKW--A73mzli",
    "uBBA36fDTCfZ",
    "O8nlNNE4TCfj"
   ],
   "name": "EDA_Token_CoocMat.ipynb",
   "provenance": []
  },
  "kernelspec": {
   "display_name": "Python 3",
   "language": "python",
   "name": "python3"
  },
  "language_info": {
   "codemirror_mode": {
    "name": "ipython",
    "version": 3
   },
   "file_extension": ".py",
   "mimetype": "text/x-python",
   "name": "python",
   "nbconvert_exporter": "python",
   "pygments_lexer": "ipython3",
   "version": "3.7.3"
  }
 },
 "nbformat": 4,
 "nbformat_minor": 1
}
