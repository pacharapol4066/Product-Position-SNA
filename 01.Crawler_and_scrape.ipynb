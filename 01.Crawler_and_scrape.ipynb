{
 "cells": [
  {
   "cell_type": "markdown",
   "metadata": {},
   "source": [
    "### IS Proof of concept - DRMABS"
   ]
  },
  {
   "cell_type": "code",
   "execution_count": 1,
   "metadata": {},
   "outputs": [],
   "source": [
    "import numpy as np\n",
    "import pandas as pd\n",
    "import itertools\n",
    "import math\n",
    "import string\n",
    "import re\n",
    "import pymongo"
   ]
  },
  {
   "cell_type": "code",
   "execution_count": 2,
   "metadata": {},
   "outputs": [],
   "source": [
    "import time\n",
    "from datetime import datetime\n",
    "today = datetime.now()"
   ]
  },
  {
   "cell_type": "code",
   "execution_count": 3,
   "metadata": {},
   "outputs": [],
   "source": [
    "from bs4 import BeautifulSoup\n",
    "from urllib.request import urlopen\n",
    "# pip install selenium\n",
    "from selenium import webdriver"
   ]
  },
  {
   "cell_type": "code",
   "execution_count": 4,
   "metadata": {},
   "outputs": [],
   "source": [
    "from IPython.display import clear_output"
   ]
  },
  {
   "cell_type": "code",
   "execution_count": 5,
   "metadata": {},
   "outputs": [],
   "source": [
    "# Files definition\n",
    "root_path = 'Datasource'\n",
    "urls_past_file = root_path+\"/all_dairy_urls.csv\"\n",
    "comment_past_file = root_path+\"/comment_DDCF.csv\"\n",
    "\n",
    "# จำนวนกระทู้ที่ต้องการให้ดึงใน 1 นาที\n",
    "postNum = 7\n",
    "postNumSleep = math.ceil(60/postNum)"
   ]
  },
  {
   "cell_type": "code",
   "execution_count": 6,
   "metadata": {},
   "outputs": [],
   "source": [
    "# Connect MongoDB\n",
    "myclient = pymongo.MongoClient(\"mongodb://localhost:27017/\")\n",
    "mydb = myclient[\"NIDA_PPSN_PRD\"]\n",
    "col_comment = mydb[\"NIDA_PPSN_SCRAPE\"]"
   ]
  },
  {
   "cell_type": "markdown",
   "metadata": {},
   "source": [
    "### กรณียังไม่เคยดึง URL ที่มีการพูดถึง Keyword ใน Pantip"
   ]
  },
  {
   "cell_type": "markdown",
   "metadata": {},
   "source": [
    "Get list of URL from search page"
   ]
  },
  {
   "cell_type": "code",
   "execution_count": 7,
   "metadata": {},
   "outputs": [],
   "source": [
    "keywords = ['นมเมจิ','นมmeiji','โฟร์โมสต์','โฟโมส','โฟโมต','โฟโม้ส'\n",
    "            ,'ดัชมิลล์','ดัชมิล','ดัชมิว','dutchmill','dutchmilk'\n",
    "            ,'นมไทยเดนมาร์ค','นมไทยเดนมาร์ก','วัวแดง','mmilk','m milk','เอ็มมิลค์'\n",
    "            ,'นมโชคชัย','อืมม์มิลค์','ummmilk','นมแดรี่โฮม','นมเดรี่โฮม','dairyhome','นมพาสเจอร์ไรส์']\n",
    "urls = 'https://pantip.com/search?q='\n",
    "url_by_KW = [urls+k for k in keywords]"
   ]
  },
  {
   "cell_type": "code",
   "execution_count": 8,
   "metadata": {},
   "outputs": [
    {
     "data": {
      "text/plain": [
       "['https://pantip.com/search?q=นมเมจิ',\n",
       " 'https://pantip.com/search?q=นมmeiji',\n",
       " 'https://pantip.com/search?q=โฟร์โมสต์',\n",
       " 'https://pantip.com/search?q=โฟโมส',\n",
       " 'https://pantip.com/search?q=โฟโมต',\n",
       " 'https://pantip.com/search?q=โฟโม้ส',\n",
       " 'https://pantip.com/search?q=ดัชมิลล์',\n",
       " 'https://pantip.com/search?q=ดัชมิล',\n",
       " 'https://pantip.com/search?q=ดัชมิว',\n",
       " 'https://pantip.com/search?q=dutchmill',\n",
       " 'https://pantip.com/search?q=dutchmilk',\n",
       " 'https://pantip.com/search?q=นมไทยเดนมาร์ค',\n",
       " 'https://pantip.com/search?q=นมไทยเดนมาร์ก',\n",
       " 'https://pantip.com/search?q=วัวแดง',\n",
       " 'https://pantip.com/search?q=mmilk',\n",
       " 'https://pantip.com/search?q=m milk',\n",
       " 'https://pantip.com/search?q=เอ็มมิลค์',\n",
       " 'https://pantip.com/search?q=นมโชคชัย',\n",
       " 'https://pantip.com/search?q=อืมม์มิลค์',\n",
       " 'https://pantip.com/search?q=ummmilk',\n",
       " 'https://pantip.com/search?q=นมแดรี่โฮม',\n",
       " 'https://pantip.com/search?q=นมเดรี่โฮม',\n",
       " 'https://pantip.com/search?q=dairyhome',\n",
       " 'https://pantip.com/search?q=นมพาสเจอร์ไรส์']"
      ]
     },
     "execution_count": 8,
     "metadata": {},
     "output_type": "execute_result"
    }
   ],
   "source": [
    "url_by_KW"
   ]
  },
  {
   "cell_type": "markdown",
   "metadata": {},
   "source": [
    "Scroll down to get all data (Crawler)"
   ]
  },
  {
   "cell_type": "code",
   "execution_count": 9,
   "metadata": {},
   "outputs": [
    {
     "name": "stdout",
     "output_type": "stream",
     "text": [
      "Search term =  https://pantip.com/search?q=นมเมจิ\n",
      "Search term =  https://pantip.com/search?q=นมmeiji\n",
      "Search term =  https://pantip.com/search?q=โฟร์โมสต์\n",
      "Search term =  https://pantip.com/search?q=โฟโมส\n",
      "Search term =  https://pantip.com/search?q=โฟโมต\n",
      "Search term =  https://pantip.com/search?q=โฟโม้ส\n",
      "Search term =  https://pantip.com/search?q=ดัชมิลล์\n",
      "Search term =  https://pantip.com/search?q=ดัชมิล\n",
      "Search term =  https://pantip.com/search?q=ดัชมิว\n",
      "Search term =  https://pantip.com/search?q=dutchmill\n",
      "Search term =  https://pantip.com/search?q=dutchmilk\n",
      "Search term =  https://pantip.com/search?q=นมไทยเดนมาร์ค\n",
      "Search term =  https://pantip.com/search?q=นมไทยเดนมาร์ก\n",
      "Search term =  https://pantip.com/search?q=วัวแดง\n",
      "Search term =  https://pantip.com/search?q=mmilk\n",
      "Search term =  https://pantip.com/search?q=m milk\n",
      "Search term =  https://pantip.com/search?q=เอ็มมิลค์\n",
      "Search term =  https://pantip.com/search?q=นมโชคชัย\n",
      "Search term =  https://pantip.com/search?q=อืมม์มิลค์\n",
      "Search term =  https://pantip.com/search?q=ummmilk\n",
      "Search term =  https://pantip.com/search?q=นมแดรี่โฮม\n",
      "Search term =  https://pantip.com/search?q=นมเดรี่โฮม\n",
      "Search term =  https://pantip.com/search?q=dairyhome\n",
      "Search term =  https://pantip.com/search?q=นมพาสเจอร์ไรส์\n"
     ]
    }
   ],
   "source": [
    "for url in url_by_KW:\n",
    "    print('Search term = ',url)\n",
    "    driver = webdriver.Chrome(executable_path='selenium/chromedriver.exe')\n",
    "    driver.get(url)\n",
    "    last_height = driver.execute_script(\"return document.body.scrollHeight\")\n",
    "    while True:\n",
    "        driver.execute_script(\"window.scrollTo(0, document.body.scrollHeight);\")\n",
    "        time.sleep(2)\n",
    "        new_height = driver.execute_script(\"return document.body.scrollHeight\")\n",
    "        if new_height == last_height:\n",
    "            break\n",
    "        last_height = new_height\n",
    "    content=driver.page_source\n",
    "    soup=BeautifulSoup(content,'lxml')\n",
    "    urlList = []\n",
    "    # ใช้ class_ เพื่อดึง div class จำเพาะ เพื่อไม่ให้ข้อความอื่นที่ไม่ต้องการปนมา\n",
    "    for div in soup.find_all(\"div\", class_=lambda value: value and value==\"title col-md-12\"):\n",
    "        for a in div.find_all(\"a\", class_=lambda value: value and value==\"datasearch-in\", href=True):\n",
    "            urlList.append(str(a['href']).strip())\n",
    "    df_urls = pd.DataFrame(urlList)\n",
    "    df_urls.insert(1,'Retrived date',today)\n",
    "    df_urls.columns = ['URLs','Retrived date']\n",
    "    df_urls.to_csv(urls_past_file, mode='a', index=False)\n",
    "    driver.quit()"
   ]
  },
  {
   "cell_type": "markdown",
   "metadata": {},
   "source": [
    "### กรณีเคยเก็บ URL แล้ว ให้เริ่มตรงนี้ได้เลย เพื่อไม่ให้ต้องทำ Request บ่อยๆ"
   ]
  },
  {
   "cell_type": "markdown",
   "metadata": {},
   "source": [
    "Loop for scaping by URLs from file"
   ]
  },
  {
   "cell_type": "code",
   "execution_count": 13,
   "metadata": {},
   "outputs": [],
   "source": [
    "dfURL = pd.read_csv(urls_past_file)\n",
    "#dfURL = pd.concat([df_URLRead,df_URLRead1,df_URLRead2,df_URLRead3,df_URLRead4])\n",
    "dfURL.drop_duplicates(keep='last',inplace=True,ignore_index=True)\n",
    "dfURL.columns = ['URLs','Retrived_date']"
   ]
  },
  {
   "cell_type": "code",
   "execution_count": 14,
   "metadata": {},
   "outputs": [
    {
     "data": {
      "text/plain": [
       "(5152, 2)"
      ]
     },
     "execution_count": 14,
     "metadata": {},
     "output_type": "execute_result"
    }
   ],
   "source": [
    "dfURL.shape"
   ]
  },
  {
   "cell_type": "code",
   "execution_count": 17,
   "metadata": {},
   "outputs": [],
   "source": [
    "def create_ListofDict_InsertMany(df):\n",
    "    listofdict = []\n",
    "    for c,lx in enumerate(df.URLs,0):\n",
    "        info = {\n",
    "                \"URLs\": lx,\n",
    "                \"headline\" : df.headline[c],\n",
    "                \"text\": df.text[c],\n",
    "                \"article_date\" : datetime.strptime(df.article_date[c], '%m/%d/%Y %H:%M:%S'),\n",
    "                \"Retrived_date\": df.Retrived_date[c]\n",
    "        }\n",
    "        listofdict.append(info)\n",
    "    return listofdict"
   ]
  },
  {
   "cell_type": "code",
   "execution_count": 18,
   "metadata": {},
   "outputs": [],
   "source": [
    "startResult = 1001\n",
    "#endResult = dfURL.shape[0]\n",
    "endResult = 2000\n",
    "\n",
    "# 0-1000\n",
    "# 1001-2000\n",
    "# 2001-3000\n",
    "# 3001-4000\n",
    "# 5001-5152"
   ]
  },
  {
   "cell_type": "code",
   "execution_count": 19,
   "metadata": {
    "scrolled": true
   },
   "outputs": [
    {
     "name": "stdout",
     "output_type": "stream",
     "text": [
      "Processing URL no.  1000  on  2021-03-23 02:09:48.835670\n",
      "[{'URLs': 'https://pantip.com/topic/38947618', 'headline': '[CR] ****เชียงใหม่อะไรก็อร่อย พักผ่อนฟินๆที่ U Nimman Chiang Mai & Hotel des Artists Ping Silhouette ***', 'text': \"สวัสดีค่าเพื่อนๆ กลับมาอีกครั้ง คราวนี้เราจะมารีวิวทริปเชียงใหม่ที่เราพึ่งไปมาช่วงวันหยุด 18-21 พ.ค. ที่ผ่านมา พร้อมแล้วบินลัดฟ้าไปท้าแดดที่เชียงใหม่กันเลยยย\\n\\n  \\nทริปนี้เราจองตั๋วกรุงเทพ -เชียงใหม่กับการบินไทยจำได้ว่าจองข้ามปีเลยได้ตั๋วมารวมทุกอย่างไปกลับ 2,000 บาทต่อคน ในช่วงวันหยุดยาวด้วยถือว่าคุ้มมาก\\n\\n\\n  อาหารว่างเป็นขนมปังไส้กรอกอร่อยดีหอมชีสๆด้วย\\n\\nเมื่อบินมาถึงเชียงใหม่แล้วรับรถเช่าเสร็จ เราออกเดินทางไปหาอะไรอร่อยๆกิน เริ่มแรกที่ร้านก๋วยเตี๋ยวหลุดโลกศิริมังคลาจารย์\\n\\nที่ร้านคนแน่นตลอดมีทั้งชาวต่างชาติและคนไทย และมีพี่ๆ Grab มารับอาหารที่ลูกค้าสั่งด้วย\\nเราสั่งมาม่าต้มยำรวมมิตรทะเลเพิ่มหมูเด้ง ไข่ตอก ส่วนอีกชามนึงเป็นมาม่าต้มยำกุ้งแม่น้ำ เพิ่มหมูเด้งไข่ตอก\\nรสชาติกลมกล่อม ซดเกลี้ยง \\n \\nเมื่อทานอาหารเติมพลังเรียบร้อยแล้วจากนั้นเราเดินทางไปยังแกรนด์แคนยอนเชียงใหม่ต่อ มีค่าเข้าชมด้วย แต่เราไม่ได้เล่นสวนน้ำราคาค่าเข้าจะถูกกว่านิดหน่อย\\xa0\\n\\n   \\nจากนั้นเราเดินทางไปต่อกันที่สวนพฤกษศาตร์สมเด็จพระนางเจ้าสิริกิติ์ จริงๆกะจะไปดูโรงเพาะกระบองเพชรแต่ดันปิดปรับปรุงเลยได้ถ่ายรูปเล่นที่ Canopy Walk กับส่วนดอกไม้ใกล้ๆแทน\\n\\n \\nระหว่างทางกลับจากสวนพฤกษศาสตร์เราขับรถมาเรื่อยๆ ดันไปบังเอิญเห็นร้านอาหารริมน้ำตกหลายร้านมาก เราเลยแวะสะหน่อย เคยเห็นในโซเชี่ยลมีคนรีวิว ร้านอาหารสามารถนั่งห้อยขาในน้ำตกหรือเล่นน้ำตกก็ยังได้ ร้านที่เราแวะชื่อร้านน้ำเหนือนั่งเล่น ทานอาหารไปเอาขาห้อยแช่น้ำตกเย็นๆสดชื่นมาก บรรยากาศธรรมชาติสุดๆ\\xa0\\n\\n     \\nนั่งชีลๆสูดอากาศสดชื่นริมน้ำตกสักพักจากนั้น เรามุ่งหน้าไปพักผ่อนที่โรงแรมที่เราจองไว้\\n\\nสองคืนแรกเราพักที่ U Nimman Chiang Mai ที่พักทำเลดีมากๆ อยู่ตรงแยกรินคำเลยฝั่งตรงข้ามเป็นห้าง Maya แถมโรงแรมก็อยู่ติด One Nimman สามารถเดินเล่นชีลๆได้ตลอด ห้องพักก็สะดวกสบายมากๆ เราจองห้องแบบเริ่มต้นมาเลยเป็นห้อง Deluxe Room คืนละประมาณสามพันกว่าบาท แต่พอมาถึงประมาณสี่โมงเย็น ห้องพักที่เราจองมาห้องยังไม่พร้อมซึ่งพนักงานต้อนรับก็มีความ professional มากๆ อัพเกรดห้องพักให้เราเป็น ห้อง Deluxe Balcony Room ทำให้เราสามารถเข้าไปพักผ่อนได้เลย แถมได้ห้องมีระเบียงด้วย ดี๊ดีย์ \\n\\nข้อดีของโรงแรมเครือ U Hotels ที่เราชอบมากคือสามารถใช้ห้องได้ 24 ชม. เช็คอินเวลาไหนสามารถเช็คเอ้าท์ได้เวลานั้น คุ้มค่าราคาจริงๆ ได้พักผ่อนแบบไม่ต้องรีบเก็บของกลับ\\xa0 แถมอาหารเช้ายังสามารถเลือกทานที่ห้องได้ด้วยแต่สายกินอย่างเราลงไปทานที่ร้านอาหารตลอด กลัวไม่อิ่ม \\nพามาชมบรรยากาศโดยรอบของโรงแรมกัน สามารถจอดรถได้ที่ลานจอดของ One Nimmn ได้เลยโดยแขกที่เข้าพักโรงแรม U Nimman ปั๊มตราปั๊มแล้วจะจอดฟรีไปเลย แต่ข้อเสียคือเราขับรถออกไปเที่ยวทุกวัน ต้องปั๊มวันนึง 2-3 รอบ \\n\\n สระว่ายน้ำของโรงแรมเป็นอะไรที่เราชอบมาก ด้วยความเป็น Infinity Pool ไร้ขอบ สามารถว่ายไปชมวิวสี่แยกรินคำที่รถค่อนข้างติดได้แบบ Panorama ฝั่งตรงข้ามเห็นห้างใหญ่ เป็นการพักผ่อนที่สมบูรณ์แบบจริงๆ\\n \\nฟิตเนสที่โรงแรมก็มีเครื่องเล่นหลากหลาย\\xa0\\n\\n \\nส่วนด้านนี้จะเป็นล้อบบี้ของโรงแรมใหญ่มีที่นั่งเยอะทีเดียว\\n\\n   \\nลืมบอกไปตอนเราเช็คอิน เจ้าหน้าที่จะให้เราเลือกกลิ่นสบู่ด้วย มีให้เลือก 2-3 กลิ่น เราเลือกเป็นกลิ่น Bamboo สีดำ หอมแบบ relax ดี\\nพามาสำรวจห้องพักกันบ้าง เปิดประตูเข้ามาห้องพักกว้างเป็นสัดส่วน เตียงที่นี่นอนหลับสบายมาก\\n\\n   มี Welcome fruit ให้ด้วยเป็นแอปเปิ้ล\\nระเบียงมีสลิงให้ตากผ้า\\n  อุปกรณ์เครื่องใช้ครบครัน แต่เสียอย่างเดียว Toiletries ไม่มีแปรงสีฟันให้ \\nที่นี่ไม่มี Welcome drink แต่เค้าจะให้เราเลือกเครื่องดื่ม 1 อย่างต่อ 1 คน ต่อการเข้าพัก สามารถเลือกเบียร์ก็ได้ ส่วนนมโฟร์โมสต์กล่องเล็กจิ๋วข้างทิปโก้สามารถทานได้ฟรี จะมีเติมให้ตลอด\\n  ส่วนห้องน้ำห้องอาบน้ำกับห้องสุขาจะแยกกัน เราว่าส่วนนี้เป็นดีไซน์ห้องที่ค่อนข้างแปลก ที่เราไปพักมาไม่ค่อยเคยเห็นที่ไหนแยกกัน แต่อาจเป็นเพราะโรงแรม Renovate มาจากโรงแรมก่อนหน้าทำให้แปลนห้องอาจจะเป็นแบบดั้งเดิมแต่มาตกแต่งให้ทันสมัยมากขึ้น\\n\\nพักผ่อนชีลๆ นอนพักสักตื่น พอตื่นขึ้นมาก็ออกไปหาอาหารพื้นบ้านเหนือทานดีกว่า มาถึงเชียงใหม่ ต้องไปร้านเฮือนม่วนใจ๋ บรรยากาศร้านเป็นพื้นเมืองมาก เปิดเพลงเหนือ เป็นเรือนไม้\\n \\nแก้วน้ำเป็นแก้วเหมือนขันเงินให้ความรู้สึกพื้นเมืองมากๆ ส่วนรสชาติอาหารดีงามจริง เราชอบปลาช่อนทอดมากรู้สึกสด ชิ้นหนา น้ำพริกหนุ่มก็ดี ที่ชอบสุดยกให้จิ้นส้มผัดไข่หรือแหนมผัดไข่นั่นเอง ราคาอาหารทั้งมื้อนี้สิริรวม 300 กว่าบาทเอง ราคาสบายกระเป๋าแถมอร่อยอีกด้วย\\n\\n    \\n\\t\\t\\t\\t\\t\\t\\t\\t\\t\\t$(document).ready(function () {\\n\\n\\t\\t\\t\\t\\t\\t\\t\\t\\t\\t\\t$('.sel').rating('readOnly', true);\\n\\n\\t\\t\\t\\t\\t\\t\\t\\t\\t\\t});\\n\\t\\t\\t\\t\\t\\t\\t\\t\\t\\n\\n ชื่อสินค้า:\\xa0\\xa0\\xa0U Nimman Chiang Mai \\n\\n คะแนน:\\xa0\\xa0\\xa0\\xa0\\xa0\\n0.51.01.52.02.53.03.54.04.55.0\\n\\n\\n\\n\\n\\n\\n\\n\\n\\n\\n\\n\\t\\t\\t\\t\\t\\t\\t\\t\\t\\t\\t.samgee .review-section .remark-review {line-height: 1.563em; color: #ccc; font-size: 14px;}\\n\\t\\t\\t\\t\\t\\t\\t\\t\\t\\t\\t\\n\\t\\t\\t\\t\\t\\t\\t\\t\\t\\t\\n\\n\\n\\nCR - Consumer Review : กระทู้รีวิวนี้เป็นกระทู้ CR โดยที่เจ้าของกระทู้\\n\\n- จ่ายเงินซื้อเอง หรือได้รับจากคนรู้จักที่ไม่ใช่เจ้าของสินค้า เช่น เพื่อนซื้อให้\\n- ไม่ได้รับค่าจ้างและผลประโยชน์ใดๆ\\n\\n\\n\\n   แก้ไขข้อความเมื่อ 9 มิถุนายน 2562 เวลา 16:38 น.\", 'article_date': datetime.datetime(2019, 6, 9, 16, 38, 36), 'Retrived_date': Timestamp('2021-03-23 02:09:48.835670')}, {'URLs': 'https://pantip.com/topic/38947618', 'headline': '[CR] ****เชียงใหม่อะไรก็อร่อย พักผ่อนฟินๆที่ U Nimman Chiang Mai & Hotel des Artists Ping Silhouette ***', 'text': 'เช้าวันที่สองตื่นแล้วลงไปทานอาหารเช้าที่ห้องอาหาร Eat @ Rin Come\\nไลน์อาหารเช้าเราว่ายังไม่ค่อยหลากหลายเท่าไหร่ แต่รสชาติถือว่าโอเค เราชอบน้ำส้มมากรู้สึกทานแล้วไม่เหมือนน้ำส้มชง รู้สึกมีเกล็ดส้มสดชื่นมาก \\n\\n\\n\\n\\n\\n\\n\\n\\n\\n\\n\\n\\nหลังจากเติมพลังยามเช้าเสร็จวันนี้ เรามีแพลนไปม่อนแจ่ม ข้อดีของการมาช่วงเดือน พ.ค. คือคนไม่เยอะ ถึงแม้ว่าอากาศจะร้อนแต่พอขึ้นมาที่ม่อนแจ่มรู้สึกมีความเย็นชื้นขึ้นมานิดนึง\\n\\n\\nเดินเล่นที่ม่อนแจ่มสักพัก เราไปหาความท้าทายกันต่อที่ โป่งแยงซิปไลน์แอนด์จังเกิ้ลโคสเตอร์ เรามาที่นี่เพื่อเล่นจังเกิ้ลโคสเตอร์โดยเฉพาะ อยากเล่นมานานแล้ว แอบหวาดเสียวนิดนึงถ้าเราบังคับแบบเร่งคันเร่งแต่บรรยากาศดีมากๆ เห็นวิวสวยๆจากบนเขา\\n\\n\\n\\n\\n\\n\\nหลังจากนั้นเรามาทานอาหารเที่ยงกันที่ ร้านข้าวซอยเสมอใจฟ้าฮ่าม จะบอกว่าไส้อั่วร้านนี้คือดีมากกก เราว่าเผ็ดและมีความครบเครื่องของเครื่องเทศมาก ส่วนข้าวซอยก็อร่อย\\n\\n\\n\\nบ่ายๆเรากลับไปพักผ่อนที่ที่พักก่อน ถ้าเบื่ออยู่ในห้องก็สามารถออกมาเดินเล่นที่ One Nimman ชีลล์ๆ ได้เลย\\n\\n\\n\\n\\nอาหารค่ำวันนี้มาลองสุกี้ช้างเผือกเจ้าดังกันหน่อย มาแล้วก็ไม่ผิดหวังจริงๆอร่อยสมชื่อ เราสั่งสุกี้น้ำ น้ำซุปรสชาติดี ผักเยอะ หมูหมักดี ติดใจตั้งแต่ครั้งแรกที่ได้กิน\\n\\n\\n\\n\\n\\n\\n\\n\\t\\t\\t\\t\\t\\t\\t\\t\\tแก้ไขข้อความเมื่อ\\n\\t\\t\\t\\t\\t\\t\\t\\t\\t9 มิถุนายน 2562 เวลา 16:40 น.', 'article_date': datetime.datetime(2019, 6, 9, 16, 38, 36), 'Retrived_date': Timestamp('2021-03-23 02:09:48.835670')}, {'URLs': 'https://pantip.com/topic/38947618', 'headline': '[CR] ****เชียงใหม่อะไรก็อร่อย พักผ่อนฟินๆที่ U Nimman Chiang Mai & Hotel des Artists Ping Silhouette ***', 'text': 'เช้าวันที่สาม มาเชียงใหม่ทั้งทีต้องไปลองปาท่องโก๋รูปสัตว์นานาชนิด ที่ร้านปาท่องโก๋โกเหน่ง ตื่นเช้ามาก็บึ่งรถไปเลยจ้า ไปรอคิว ตอนเราไปคนเยอะอยู่รอคิวประมาณครึ่งชม. เราซื้อรูปไดโนเสาร์ตัวละ 20 บาท น่ารักน่าชังมาก\\n\\n\\n\\n\\n\\n\\nวันนี้เป็นวันสุดท้ายที่เราพักที่ U Nimman Chiang Mai ช่วงสายๆจึงพักผ่อนชีลล์ๆอยู่ที่ที่พัก พอถึงเวลาที่ต้องเช็คเอ้าท์คือ 4 โมงเย็นเพราะเราเช็คอินเวลานี้ ก็ออกไปทานอาหารทีเดียว ร้านที่เรามาแวะกินวันนี้หาข้อมูลมาจากในเน็ต เนื่องจากทานอาหารพื้นเมืองติดๆกันรู้สึกอยากทานอาหารไทย เซิชไปมีคนแนะนำร้านนี้ ร้านครัวอาจารย์สายหยุด \\n\\n\\n\\n\\n\\n\\n\\nเข้ามาในร้านบรรยากาศเหมือนบ้านมาก รู้สึกอบอุ่น ส่วนถ้วยโถโอชามก็เป็นกระเบื้องอย่างดีรู้สึกเหมือนเราทานอาหารชาววัง พอนั่งไปสักพักเค้าจะเอามะม่วงน้ำปลาหวานมาเสริฟเป็นอาหารเรียกน้ำย่อยฟรี มะม่วงก็แกะสลักมาอย่างสวยงาม น้ำปลาหวานรสชาติอร่อย ทานแล้วเพิ่มความอยากทานอาหารจานหลักมากยิ่งขึ้น อาหารที่สั่งเราสั่งเชียงดาผัดไข่อร่อยมาก เหมือนอารมณ์ใบเหลียงผักไข่ของทางใต้ ไข่เจียวปูเนื้อปูก็มาแบบไม่วิญญาน ต้มส้มปลาส่วนตัวอันนี้รู้สึกเป็นจุดอ่อนในโต๊ะเพราะเรารู้สึกมันจืดไป แต่โดยรวมเราว่าร้านนี้อร่อยใช้ได้สมรีวิวเลยทีเดียว\\n\\n\\n\\n\\n\\n\\n\\nทานอาหารอิ่มแวะไปสักการะพระธาตุดอยสุเทพสักนิด \\n\\n\\n\\nจากนั้นเข้าเช็คอินที่พักคืนสุดท้ายนั่นคือ Hotel des Artists Ping Silhouette ที่พักค่อนข้างอยู่ในซอยเลยเราว่าหากไม่มีรถอาจจะไม่ค่อยสะดวก ที่พักขนาดไม่ใหญ่ ตกแต่งสไตล์บูทีคหน่อย โรงแรมมีมุมถ่ายรูปเยอะ สระว่ายน้ำเป็นแบบ Outdoor แต่เราว่าสีมันค่อนข้างขุ่นเราเลยไม่ได้ลงเล่น ส่วนร้านอาหารของโรงแรมด้านหลังมีสวนบรรยากาศร่มรื่นดี\\n\\n\\n\\n\\n\\n\\n\\n\\n\\n\\n\\n\\n\\n\\n\\n\\n\\n\\nพามาดูห้องพักภายในกันบ้าง ห้องพักค่อนข้างเล็ก เตียงนุ่มสบาย แต่แอร์ไม่เย็นเลยในความรู้สึกเรา เปิดไว้นานก็ไม่เย็นอาจเพราะช่องแอร์ไม่ตรงกะเตียง แต่ตรงหน้าทีวีเย็นมาก Minibar ฟรี มี Welcome Fruit เป็นเงาะ\\n\\n\\n\\n\\n\\n\\n\\n\\n\\n\\n\\n\\n\\n\\n\\n\\n\\nเที่ยงคืนคืนสุดท้ายที่เชียงใหม่ขอไปปิดจ๊อบแบบ complete ที่ร้านข้าวนึ่งไก่ทอดเที่ยงคืนกันหน่อย เราชอบน้ำพริกหนุ่มร้านนี้เบิ้ลหลายจานมาก\\nร้านเปิดดึกแบบโต้รุ่งเลย\\n\\n\\nเช้าวันสุดท้ายที่เชียงใหม่แล้วว เวลาแห่งความสุขมักจะผ่านไปไวเสมอ  เอารูปอาหารเช้าที่ Hotel des Artists Ping Silhouette มาฝากเพื่อนๆ อาหารเช้าเป็นแบบสามารถเลือกได้ 1 เมนูเช่น ข้าวต้ม ข้าวผัด American Breakfast และทางโรงแรมจะมีปาท่องโก๋น้ำเต้าหู้ น้ำส้ม เครื่องดื่มร้อนเราเลือกโกโก้ (ขอบอกว่าอร่อยไม่ขม เข้มข้น) ขนมปังปิ้งสลัดเคียง และอาหารหลักหนึ่งจานที่เราเลือก ขอบอกว่าอิ่มมากๆกินไม่หมดด้วย\\n\\n\\n\\n\\n\\nจัดจานมาสวยงามยังกะมาสเตอร์เชฟเลย \\n\\nปิดท้ายร้านสุดท้ายที่ไปกินก่อนกลับไปสนามบิน เป็นร้านที่มาแรงมากๆในช่วงนี้ชื่อร้านมีนา ร้านบรรยากาศดีมีนาสมชื่อ \\n\\n\\n\\n\\n\\nแถมอาหารที่ร้านยังเป็นคอนเซปต์ใส่ใจสุขภาพ มีข้าวให้เลือกหลายแบบ เช่น ข้าวไรซ์เบอรี่ ข้าวกล้อง ข้าวดอกคำฝอย เป็นต้น แนวเพื่อสุขภาพ แต่เราเลือกเป็นข้าวหอมมะลิปกติ ชอบการจัดจานร้านนี้มาก อาหารก็รสชาติดีเช่นกัน ต้มแซ่บข้าวกล้องคั่วหมูนี่ห้ามพลาดเลย อร่อยสุด ห่อหมกอันดามันก็ใช้ได้\\n\\n\\n\\n\\n\\n\\nปิดท้ายทริปด้วยของว่างจากการบินไทย ขากลับเป็นขนมปังไส้ไก่เทอริยากิ ทริปนี้น้ำหนักขึ้นเพียบเพราะของอร่อยเชียงใหม่เยอะมาก ก็เชียงใหม่ อะไรก็อร่อยนี่หน่า \\n\\n\\n\\nแล้วพบกันใหม่โอกาสหน้าค่ะ \\n\\n\\n\\n\\n\\n\\t\\t\\t\\t\\t\\t\\t\\t\\tแก้ไขข้อความเมื่อ\\n\\t\\t\\t\\t\\t\\t\\t\\t\\t9 มิถุนายน 2562 เวลา 16:42 น.', 'article_date': datetime.datetime(2019, 6, 9, 16, 38, 36), 'Retrived_date': Timestamp('2021-03-23 02:09:48.835670')}, {'URLs': 'https://pantip.com/topic/38947618', 'headline': '[CR] ****เชียงใหม่อะไรก็อร่อย พักผ่อนฟินๆที่ U Nimman Chiang Mai & Hotel des Artists Ping Silhouette ***', 'text': 'เพลินครับ..ไปบ่อยแต่ไม่ค่อยใส่ใจ.กับเรื่องกิน...วันหลังจะตามรอย...', 'article_date': datetime.datetime(2019, 6, 9, 16, 38, 36), 'Retrived_date': Timestamp('2021-03-23 02:09:48.835670')}, {'URLs': 'https://pantip.com/topic/38947618', 'headline': '[CR] ****เชียงใหม่อะไรก็อร่อย พักผ่อนฟินๆที่ U Nimman Chiang Mai & Hotel des Artists Ping Silhouette ***', 'text': 'มีร้านใหม่เกิดขึ้นเยอะเลย \\nต้องลอกการบ้านบ้างละ \\nปล. สุกี้ช้างเผือกนี่เด็ดจริง ในกรุงเทะยังหาตัวแทนไม่ได้ สำหรับผม ต้องแห้งเนื้อ2 เท่านั้น', 'article_date': datetime.datetime(2019, 6, 9, 16, 38, 36), 'Retrived_date': Timestamp('2021-03-23 02:09:48.835670')}, {'URLs': 'https://pantip.com/topic/38947618', 'headline': '[CR] ****เชียงใหม่อะไรก็อร่อย พักผ่อนฟินๆที่ U Nimman Chiang Mai & Hotel des Artists Ping Silhouette ***', 'text': 'เด็ดจริงๆค่ะ เคยกินในกทม.มาเจอร้านนี้ปั๊บไม่มีร้านไหนเทียบร้านสุกี้ช้างเผือกได้เลยจริงๆ\\n\\t\\t\\t\\t\\t\\t\\n\\n\\n\\n\\t\\t\\t\\t\\t\\t\\t\\t\\tแก้ไขข้อความเมื่อ\\n\\t\\t\\t\\t\\t\\t\\t\\t\\t9 มิถุนายน 2562 เวลา 15:33 น.', 'article_date': datetime.datetime(2019, 6, 9, 16, 38, 36), 'Retrived_date': Timestamp('2021-03-23 02:09:48.835670')}]\n"
     ]
    }
   ],
   "source": [
    "comments_list,time_list,error_list = [],[],[]\n",
    "\n",
    "# รันรอบต่อไปให้ comment del many ออกด้วย\n",
    "#col_comment.delete_many({})\n",
    "\n",
    "for cnt,au in enumerate(dfURL.URLs[startResult:endResult],0):\n",
    "    today = datetime.now()\n",
    "    print('Processing URL no. ',cnt+1,' on ',today)\n",
    "    driver = webdriver.Chrome(executable_path='selenium/chromedriver.exe')\n",
    "    driver.get(au)\n",
    "    content=driver.page_source\n",
    "    soup=BeautifulSoup(content,'lxml')\n",
    "    try:\n",
    "        div1 = soup.find(\"div\", class_=lambda value: value and value==\"display-post-status-leftside\")\n",
    "        headline_t = div1.find(\"h2\", class_=lambda value: value and value==\"display-post-title\")\n",
    "        for abbr in soup.find_all(\"abbr\", class_=lambda value: value and value==\"timeago\"):\n",
    "            time_list.append(abbr['data-utime'])\n",
    "        for div3 in soup.find_all(\"div\", class_=lambda value: value and value==\"display-post-story\"):\n",
    "            if len(div3['class'])<2:\n",
    "                comments_list.append([au,headline_t.text.strip(),str(div3.text).strip(),today])\n",
    "        df_comments = pd.DataFrame(comments_list, columns=['URLs','headline', 'text', 'Retrived_date'])\n",
    "        df_comments.insert(2,'article_date',value=time_list[0])\n",
    "        process_data = create_ListofDict_InsertMany(df_comments)\n",
    "        print(process_data)\n",
    "        col_comment.insert_many(process_data)\n",
    "        del df_comments\n",
    "        comments_list.clear()\n",
    "        time_list.clear()\n",
    "    except Exception as err:\n",
    "        print('กระทู้ไม่ถูกดึงเข้าระบบ', err)\n",
    "        error_list.append([cnt,au,err])\n",
    "    time.sleep(postNumSleep)\n",
    "    driver.quit()\n",
    "    clear_output(wait=True)"
   ]
  },
  {
   "cell_type": "code",
   "execution_count": 20,
   "metadata": {},
   "outputs": [
    {
     "name": "stdout",
     "output_type": "stream",
     "text": [
      "[]\n"
     ]
    }
   ],
   "source": [
    "print(error_list)"
   ]
  }
 ],
 "metadata": {
  "kernelspec": {
   "display_name": "Python 3",
   "language": "python",
   "name": "python3"
  },
  "language_info": {
   "codemirror_mode": {
    "name": "ipython",
    "version": 3
   },
   "file_extension": ".py",
   "mimetype": "text/x-python",
   "name": "python",
   "nbconvert_exporter": "python",
   "pygments_lexer": "ipython3",
   "version": "3.7.3"
  }
 },
 "nbformat": 4,
 "nbformat_minor": 2
}
